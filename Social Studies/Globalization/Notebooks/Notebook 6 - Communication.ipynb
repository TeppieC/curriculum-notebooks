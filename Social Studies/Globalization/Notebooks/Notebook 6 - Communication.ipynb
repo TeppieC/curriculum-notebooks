{
 "cells": [
  {
   "cell_type": "markdown",
   "metadata": {},
   "source": [
    "# Communication and Globalization\n"
   ]
  },
  {
   "cell_type": "markdown",
   "metadata": {},
   "source": [
    "## Internet access across the globe\n",
    "\n",
    "Show how much population in a given country has access to internet."
   ]
  },
  {
   "cell_type": "code",
   "execution_count": null,
   "metadata": {},
   "outputs": [],
   "source": [
    "# Import python libraries\n",
    "import pandas as pd\n",
    "import plotly_express as px\n",
    "import matplotlib.pyplot as plt\n",
    "import matplotlib.animation as animation\n",
    "from ipywidgets import interact, fixed, widgets, Layout, Button, Box, fixed, HBox, VBox\n",
    "from IPython.display import clear_output\n",
    "from IPython.display import HTML\n",
    "\n",
    "# Don't show warnings in output\n",
    "import warnings\n",
    "warnings.filterwarnings('ignore')"
   ]
  },
  {
   "cell_type": "code",
   "execution_count": null,
   "metadata": {},
   "outputs": [],
   "source": [
    "# Import the dataset\n",
    "df = pd.read_csv('../Data/share-of-individuals-using-the-internet.csv')\n",
    "\n",
    "# Data clean up - consider the data between 2001 and 2016\n",
    "df=df[df['Year'] > 2000][df['Year'] < 2017]\n",
    "\n",
    "# Display top 5 rows\n",
    "df.head()"
   ]
  },
  {
   "cell_type": "code",
   "execution_count": null,
   "metadata": {},
   "outputs": [],
   "source": [
    "# Plot animated choropleth map\n",
    "\n",
    "fig = px.choropleth(df,   # dataframe with required data \n",
    "                    locations=\"Code\",   # Column containing country codes\n",
    "                    color=\"Internet Access<br>(% of population)\",   # Color of country should be based on internet access\n",
    "                    hover_name=\"Entity\",   # Title to add to hover information\n",
    "                    hover_data=['Internet Access<br>(% of population)'],   # Data to add to hover information\n",
    "                    color_continuous_scale=px.colors.sequential.Reds,   # Set the colorscale type\n",
    "                    animation_frame = \"Year\",   # Values based on which animation frame will be prepared\n",
    "                    range_color = [0,100],   # Range of the colorbar\n",
    "                    \n",
    "                    # Title of the chart\n",
    "                    title = 'Population with internet access in various countries<br>\\\n",
    "Source: <a href=\"https://ourworldindata.org/internet\">Our World in Data</a>'\n",
    "                   )\n",
    "\n",
    "# Show the figure\n",
    "fig.show()"
   ]
  },
  {
   "cell_type": "markdown",
   "metadata": {},
   "source": [
    "### Questions\n",
    "\n",
    "1. Do you think internet accessibility is not equal among the countries in the world? \n",
    "2. How can you mitigate the *digital divide*?"
   ]
  },
  {
   "cell_type": "markdown",
   "metadata": {},
   "source": [
    "## Mobile phone access across the globe\n",
    "\n",
    "Show how many mobile phones are available per 100 people in a given country."
   ]
  },
  {
   "cell_type": "code",
   "execution_count": null,
   "metadata": {},
   "outputs": [],
   "source": [
    "# Import the dataset\n",
    "df2 = pd.read_csv('../Data/mobile-cellular-subscriptions-per-100-people.csv')\n",
    "\n",
    "# Data clean up - consider the data from 1991\n",
    "df2=df2[df2['Year'] > 1990]\n",
    "\n",
    "# Show top 5 rows\n",
    "df2.head()"
   ]
  },
  {
   "cell_type": "code",
   "execution_count": null,
   "metadata": {},
   "outputs": [],
   "source": [
    "# Plot animated choropleth map\n",
    "\n",
    "fig = px.choropleth(df2,   # dataframe with required data \n",
    "                    locations=\"Code\",   # Column containing country codes\n",
    "                    color=\"Cellular subscriptions<br>(per 100 people)\",   # Color of country should be based on cellular subscriptions\n",
    "                    hover_name=\"Entity\",   # Title to add to hover information\n",
    "                    hover_data=[\"Cellular subscriptions<br>(per 100 people)\"],   # Data to add to hover information\n",
    "                    color_continuous_scale=px.colors.sequential.Reds,   # Set the colorscale type\n",
    "                    animation_frame = \"Year\",   # Values based on which animation frame will be prepared\n",
    "                    range_color = [0,200],   # Range of the colorbar\n",
    "                    \n",
    "                    # Title of the chart\n",
    "                    title = 'Cellular subscriptions (per 100 people) around the world<br>\\\n",
    "Source: <a href=\"https://ourworldindata.org/internet\">Our World in Data</a>'\n",
    "                   )\n",
    "\n",
    "# Show the figure\n",
    "fig.show()"
   ]
  },
  {
   "cell_type": "markdown",
   "metadata": {},
   "source": [
    "### Questions:\n",
    "\n",
    "1. Is the availbility of cellular network better as compared to internet?\n",
    "2. What does subscription value more than 100 show?"
   ]
  },
  {
   "cell_type": "markdown",
   "metadata": {},
   "source": [
    "## Use of social media platforms across the globe\n",
    "\n",
    "Show number of subscribers for each platform."
   ]
  },
  {
   "cell_type": "code",
   "execution_count": null,
   "metadata": {},
   "outputs": [],
   "source": [
    "# Import the dataset (remove an empty column)\n",
    "df3 = pd.read_csv('../Data/users-by-social-media-platform.csv').drop('Code',1)\n",
    "\n",
    "# Data transformation - convert the monthly active users in billion\n",
    "df3['Monthly active users'] = df3['Monthly active users']/1000000000\n",
    "\n",
    "# Show top 5 rows\n",
    "df3.head()\n",
    "\n",
    "# Define the colors - to be used in bar chart\n",
    "colors = ['violet', 'tomato', 'chocolate', 'teal', 'forestgreen', 'dodgerblue',\\\n",
    "          'lightcoral', 'limegreen', 'darkorange', 'goldenrod']"
   ]
  },
  {
   "cell_type": "code",
   "execution_count": null,
   "metadata": {},
   "outputs": [],
   "source": [
    "# Define the function to draw a bar chart for a given year\n",
    "def draw_barchart(current_year,colors=colors):\n",
    "    \n",
    "    # Find rows in the dataset for a given year\n",
    "    dff = df3[df3['Year'].eq(current_year)].sort_values(by='Monthly active users', ascending=True)\\\n",
    "          .tail(top_x_platforms_slider.value)\n",
    "    \n",
    "    ax.clear()   # Clear the figure (in case any plot exists already)\n",
    "    ax.barh(dff['Entity'], dff['Monthly active users'],color=colors)   # plot the horizontal bar chart\n",
    "    dx = dff['Monthly active users'].max() / 200   # margin for the text in plot\n",
    "    \n",
    "    # Specify annotations for each row in the dataframe\n",
    "    for i, (value, name) in enumerate(zip(dff['Monthly active users'], dff['Entity'])):\n",
    "        ax.text(value-dx, i-0.12, name, ha='right', size=14, weight=600)   # Text/formatting for the name of the social media platform\n",
    "        ax.text(value+dx, i-0.12, \"{0:.3f} billion\".format(value), ha='left', size=14)   # Text/formatting for monthly active users\n",
    "    ax.text(1, 0.4, current_year, transform=ax.transAxes, color='#777777', size=46, ha='right', weight=800)   # Text/formatting for the corresponding year\n",
    "    ax.text(0, 1.06, 'Monthly active users (billion)', transform=ax.transAxes, size=14, color='#777777')   # Specify y-axis title\n",
    "    ax.xaxis.set_ticks_position('top')   # Set position of x-ticks\n",
    "    ax.tick_params(axis='x', colors='#777777', labelsize=14)   # Set parameters for x-ticks\n",
    "    ax.set_yticks([])   # Set empty y-ticks\n",
    "    ax.set_xlim([0,2.5])   # Set x-axis limits\n",
    "    ax.margins(0, 0.01)   # Set margins\n",
    "    ax.grid(which='major', axis='x', linestyle='-')   # Set gridline properties\n",
    "    ax.set_axisbelow(True)   # Specify axis location\n",
    "    ax.text(0, 1.15, 'Most used social media platforms (2004 to 2018)',\n",
    "            transform=ax.transAxes, size=24, weight=600, ha='left', va='top')   # Specify plot title\n",
    "    plt.box(False)   # Disable box surrounding the plot\n",
    "\n",
    "\n",
    "# Define a callback function for \"Show Bar Chart\" button\n",
    "def draw_barchart2(ev):\n",
    "    \n",
    "    clear_output(wait=True)\n",
    "    \n",
    "    # Define display order for the buttons and menus\n",
    "    display(Box(children = [top_x_platforms_slider,show_button1], \\\n",
    "                layout = Layout(display= 'flex', flex_flow= 'column', \\\n",
    "                                align_items= 'center', width='100%', \\\n",
    "                                justify_content = 'center')))\n",
    "    \n",
    "    global fig, ax   # Set figure as a global object\n",
    "    \n",
    "    # Create an empty figure object with given size\n",
    "    fig, ax = plt.subplots(figsize=(15, 8)) \n",
    "    \n",
    "    # Create animation - each frame shows data for one year\n",
    "    animator = animation.FuncAnimation(fig, draw_barchart, frames=range(2002,2019),interval=750, repeat=False)\n",
    "    ANI = HTML(animator.to_jshtml())\n",
    "    plt.close()\n",
    "    display(ANI)"
   ]
  },
  {
   "cell_type": "code",
   "execution_count": null,
   "metadata": {
    "scrolled": false
   },
   "outputs": [],
   "source": [
    "# Layout for widgets\n",
    "box_layout = Layout(display='flex', flex_flow='row', align_items='center', width='100%', justify_content = 'center')\n",
    "style = {'description_width': 'initial'}\n",
    "\n",
    "# Create dropdown menu for Artist and slider for How Many Top Platforms\n",
    "top_x_platforms_slider = widgets.IntSlider(value = 5, min = 5, max = 10, description = \"How Many Top Platforms\", style = style)\n",
    "\n",
    "# Create Show Top Artists button and define click events\n",
    "show_button1 = widgets.Button(button_style= 'info', description=\"Show Bar Chart\")\n",
    "show_button1.on_click(draw_barchart2)\n",
    "\n",
    "# Define display order for the buttons and menus\n",
    "display(Box(children = [top_x_platforms_slider,show_button1], layout = Layout(display= 'flex', flex_flow= 'column', align_items= 'center', width='100%', justify_content = 'center')))"
   ]
  },
  {
   "cell_type": "markdown",
   "metadata": {},
   "source": [
    "### Questions:\n",
    "1. Does these platforms provide better medium to connect people/businesses around the globe?"
   ]
  },
  {
   "cell_type": "code",
   "execution_count": null,
   "metadata": {},
   "outputs": [],
   "source": []
  }
 ],
 "metadata": {
  "kernelspec": {
   "display_name": "Python 3",
   "language": "python",
   "name": "python3"
  },
  "language_info": {
   "codemirror_mode": {
    "name": "ipython",
    "version": 3
   },
   "file_extension": ".py",
   "mimetype": "text/x-python",
   "name": "python",
   "nbconvert_exporter": "python",
   "pygments_lexer": "ipython3",
   "version": "3.7.3"
  }
 },
 "nbformat": 4,
 "nbformat_minor": 2
}

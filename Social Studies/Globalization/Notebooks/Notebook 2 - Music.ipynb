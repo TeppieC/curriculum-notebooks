{
 "cells": [
  {
   "cell_type": "markdown",
   "metadata": {},
   "source": [
    "![alt text](https://github.com/callysto/callysto-sample-notebooks/blob/master/notebooks/images/Callysto_Notebook-Banner_Top_06.06.18.jpg?raw=true)"
   ]
  },
  {
   "cell_type": "markdown",
   "metadata": {},
   "source": [
    "# Music is ubiquitous\n",
    "\n",
    "Music is one of the ways we humans express ourselves. Not only can music help form your identity, it has also helps people to connect in this globalizing world. Sharing an interest for a particular kind of music has made artists travel across the globe. \n",
    "\n",
    "With online streaming platforms, it has been easier ever to listen music from artists from different countries. Let us analyise the dataset from [Spotify](https://spotifycharts.com/regional) - an audio streaming platform - which is available on [Kaggle](https://www.kaggle.com/datasets). \n",
    "\n",
    "The [original dataset](https://www.kaggle.com/edumucelli/spotifys-worldwide-daily-song-ranking/version/3) (with more than 3 million rows!) contained information about top 200 artists in daily charts in various countries for Year 2017. It has been modified to contain only top 10 artists which reduced the number of rows to 191848 -  still a [big dataset](https://en.wikipedia.org/wiki/Big_data) to work with. Also, note that the top artists were selected based on the *streams* of their tracks i.e. *number of times* songs were played by Spotify users."
   ]
  },
  {
   "cell_type": "markdown",
   "metadata": {},
   "source": [
    "## Popularity of an artist across the globe \n",
    "Let us check how many times tracks from a user-selected artist were streamed on Spotify. \n",
    "\n",
    "Run the code cells below and check what our dataset contains."
   ]
  },
  {
   "cell_type": "code",
   "execution_count": 1,
   "metadata": {},
   "outputs": [],
   "source": [
    "# Comment the following line if module is already installed\n",
    "! pip install wikipedia\n",
    "\n",
    "# Import python libraries\n",
    "import pandas as pd\n",
    "import calendar\n",
    "import plotly.express as px\n",
    "import plotly.graph_objects as go\n",
    "from ipywidgets import interact, fixed, widgets, Layout, Button, Box, fixed, HBox, VBox\n",
    "import wikipedia\n",
    "from IPython.display import clear_output\n",
    "import random\n",
    "\n",
    "# Don't show warnings in output\n",
    "import warnings\n",
    "warnings.filterwarnings('ignore')\n",
    "\n",
    "clear_output()"
   ]
  },
  {
   "cell_type": "code",
   "execution_count": 2,
   "metadata": {},
   "outputs": [
    {
     "data": {
      "text/html": [
       "<div>\n",
       "<style scoped>\n",
       "    .dataframe tbody tr th:only-of-type {\n",
       "        vertical-align: middle;\n",
       "    }\n",
       "\n",
       "    .dataframe tbody tr th {\n",
       "        vertical-align: top;\n",
       "    }\n",
       "\n",
       "    .dataframe thead th {\n",
       "        text-align: right;\n",
       "    }\n",
       "</style>\n",
       "<table border=\"1\" class=\"dataframe\">\n",
       "  <thead>\n",
       "    <tr style=\"text-align: right;\">\n",
       "      <th></th>\n",
       "      <th>Unnamed: 0</th>\n",
       "      <th>Artist</th>\n",
       "      <th>Date</th>\n",
       "      <th>Position</th>\n",
       "      <th>Region</th>\n",
       "      <th>Streams</th>\n",
       "      <th>Track Name</th>\n",
       "      <th>URL</th>\n",
       "    </tr>\n",
       "  </thead>\n",
       "  <tbody>\n",
       "    <tr>\n",
       "      <td>0</td>\n",
       "      <td>0</td>\n",
       "      <td>CNCO</td>\n",
       "      <td>2017-01-01</td>\n",
       "      <td>1.0</td>\n",
       "      <td>ec</td>\n",
       "      <td>19272.0</td>\n",
       "      <td>Reggaetón Lento (Bailemos)</td>\n",
       "      <td>https://open.spotify.com/track/3AEZUABDXNtecAO...</td>\n",
       "    </tr>\n",
       "    <tr>\n",
       "      <td>1</td>\n",
       "      <td>1</td>\n",
       "      <td>Shakira</td>\n",
       "      <td>2017-01-01</td>\n",
       "      <td>2.0</td>\n",
       "      <td>ec</td>\n",
       "      <td>19270.0</td>\n",
       "      <td>Chantaje</td>\n",
       "      <td>https://open.spotify.com/track/6mICuAdrwEjh6Y6...</td>\n",
       "    </tr>\n",
       "    <tr>\n",
       "      <td>2</td>\n",
       "      <td>2</td>\n",
       "      <td>Zion &amp; Lennox</td>\n",
       "      <td>2017-01-01</td>\n",
       "      <td>3.0</td>\n",
       "      <td>ec</td>\n",
       "      <td>15761.0</td>\n",
       "      <td>Otra Vez (feat. J Balvin)</td>\n",
       "      <td>https://open.spotify.com/track/3QwBODjSEzelZyV...</td>\n",
       "    </tr>\n",
       "    <tr>\n",
       "      <td>3</td>\n",
       "      <td>3</td>\n",
       "      <td>Ricky Martin</td>\n",
       "      <td>2017-01-01</td>\n",
       "      <td>4.0</td>\n",
       "      <td>ec</td>\n",
       "      <td>14954.0</td>\n",
       "      <td>Vente Pa' Ca</td>\n",
       "      <td>https://open.spotify.com/track/7DM4BPaS7uofFul...</td>\n",
       "    </tr>\n",
       "    <tr>\n",
       "      <td>4</td>\n",
       "      <td>4</td>\n",
       "      <td>J Balvin</td>\n",
       "      <td>2017-01-01</td>\n",
       "      <td>5.0</td>\n",
       "      <td>ec</td>\n",
       "      <td>14269.0</td>\n",
       "      <td>Safari</td>\n",
       "      <td>https://open.spotify.com/track/6rQSrBHf7HlZjtc...</td>\n",
       "    </tr>\n",
       "  </tbody>\n",
       "</table>\n",
       "</div>"
      ],
      "text/plain": [
       "   Unnamed: 0         Artist        Date  Position Region  Streams  \\\n",
       "0           0           CNCO  2017-01-01       1.0     ec  19272.0   \n",
       "1           1        Shakira  2017-01-01       2.0     ec  19270.0   \n",
       "2           2  Zion & Lennox  2017-01-01       3.0     ec  15761.0   \n",
       "3           3   Ricky Martin  2017-01-01       4.0     ec  14954.0   \n",
       "4           4       J Balvin  2017-01-01       5.0     ec  14269.0   \n",
       "\n",
       "                   Track Name  \\\n",
       "0  Reggaetón Lento (Bailemos)   \n",
       "1                    Chantaje   \n",
       "2   Otra Vez (feat. J Balvin)   \n",
       "3                Vente Pa' Ca   \n",
       "4                      Safari   \n",
       "\n",
       "                                                 URL  \n",
       "0  https://open.spotify.com/track/3AEZUABDXNtecAO...  \n",
       "1  https://open.spotify.com/track/6mICuAdrwEjh6Y6...  \n",
       "2  https://open.spotify.com/track/3QwBODjSEzelZyV...  \n",
       "3  https://open.spotify.com/track/7DM4BPaS7uofFul...  \n",
       "4  https://open.spotify.com/track/6rQSrBHf7HlZjtc...  "
      ]
     },
     "execution_count": 2,
     "metadata": {},
     "output_type": "execute_result"
    }
   ],
   "source": [
    "# Import the dataset (remove rows with missing entries)\n",
    "df = pd.read_csv('../Data/top_10_artists_spotify_2017_final.csv').dropna()\n",
    "\n",
    "# Import country codes (required for the choropleth map)\n",
    "country_codes = pd.read_csv('../Data/country_codes.csv',sep='\\t')\n",
    "country_codes['2let'] = country_codes['2let'].str.lower()   # Convert codes into lower case\n",
    "\n",
    "# Display top 5 rows\n",
    "df.head()"
   ]
  },
  {
   "cell_type": "code",
   "execution_count": 4,
   "metadata": {},
   "outputs": [],
   "source": [
    "# Define a callback function for \"Show Popularity\" button\n",
    "def show_popularity(ev):\n",
    "    \n",
    "    clear_output(wait=True)\n",
    "    \n",
    "    # Define display order for the buttons and menus\n",
    "    display(Box(children = [artist_menu], layout = box_layout))\n",
    "    display(Box(children = [show_button], layout = Layout(display= 'flex', flex_flow= 'row', align_items= 'center', width='100%', justify_content = 'center')))\n",
    "\n",
    "    # Find total streams for a user-selected artist across countries\n",
    "    subset = df[df['Artist'] == artist_menu.value].groupby('Region')\n",
    "    total_streams = subset['Streams'].sum().to_frame('Streams').reset_index()\n",
    "    \n",
    "    # Merge the 3 letter country codes (required in plotly express) with the data\n",
    "    final = total_streams.merge(country_codes, left_on='Region', right_on='2let', how='inner')\\\n",
    "            .drop('2let',1)\\\n",
    "            .rename(columns={'3let':'Country Code'})\n",
    "    \n",
    "    # Find the wikipedia page for the artist \n",
    "    try:\n",
    "        p = wikipedia.page(artist_menu.value)\n",
    "    # If can't find the exact page, get the closest one    \n",
    "    except wikipedia.exceptions.DisambiguationError as e:\n",
    "        s = e.options[0]\n",
    "        p = wikipedia.page(s)\n",
    "    \n",
    "    # Plot the choropleth map for the user-selected artist\n",
    "    fig = px.choropleth(final,   # dataframe with required data \n",
    "                    locations=\"Country Code\",   # Column containing country codes\n",
    "                    color=\"Streams\",   # Color of country should be based on number of streams\n",
    "                    hover_name=\"Countrylet\", # title to add to hover information\n",
    "                    hover_data=[\"Streams\"],   # data to add to hover information\n",
    "                    projection='natural earth',   # preferred view of choropleth map\n",
    "                    \n",
    "                    # Add title for the map (hyperlinks for wiki page of artist and dataset are added)    \n",
    "                    title = 'Popularity of<a href=\"{}\" > {} </a>by streams of tracks in daily Top 10 chart (2017)<br>Source: \\\n",
    "<a href=\"https://www.kaggle.com/edumucelli/spotifys-worldwide-daily-song-ranking/version/3\">\\\n",
    "Spotify through Kaggle Datasets</a>'.format(p.url,artist_menu.value))\n",
    "\n",
    "    # Show the figure\n",
    "    fig.show()"
   ]
  },
  {
   "cell_type": "markdown",
   "metadata": {},
   "source": [
    "Run the code cell below and select the artist you want to analyze popularity of. Don't forget to click on `Show Popularity` button."
   ]
  },
  {
   "cell_type": "code",
   "execution_count": 5,
   "metadata": {},
   "outputs": [
    {
     "data": {
      "application/vnd.jupyter.widget-view+json": {
       "model_id": "ada76a861efc4d4d8e268c18f7515265",
       "version_major": 2,
       "version_minor": 0
      },
      "text/plain": [
       "Box(children=(Dropdown(description='Artist: ', index=143, options=('187 Strassenbande', '1Kilo', '21 Savage', …"
      ]
     },
     "metadata": {},
     "output_type": "display_data"
    },
    {
     "data": {
      "application/vnd.jupyter.widget-view+json": {
       "model_id": "a6dadaaf04f946eea0d4ae85ea418a99",
       "version_major": 2,
       "version_minor": 0
      },
      "text/plain": [
       "Box(children=(Button(button_style='info', description='Show Popularity', style=ButtonStyle()),), layout=Layout…"
      ]
     },
     "metadata": {},
     "output_type": "display_data"
    },
    {
     "data": {
      "application/vnd.plotly.v1+json": {
       "config": {
        "plotlyServerURL": "https://plot.ly"
       },
       "data": [
        {
         "coloraxis": "coloraxis",
         "customdata": [
          [
           1241193
          ],
          [
           8628215
          ],
          [
           2153125
          ],
          [
           1396139
          ],
          [
           5345946
          ],
          [
           1674728
          ],
          [
           731549
          ],
          [
           12814882
          ],
          [
           5178467
          ],
          [
           183912
          ],
          [
           3212792
          ],
          [
           3073212
          ],
          [
           17342023
          ],
          [
           380345
          ],
          [
           946356
          ],
          [
           648263
          ],
          [
           6468253
          ],
          [
           1490500
          ],
          [
           341632
          ],
          [
           982553
          ],
          [
           1352654
          ],
          [
           221395
          ],
          [
           109061
          ],
          [
           184502
          ],
          [
           2988910
          ],
          [
           12178927
          ],
          [
           8257361
          ],
          [
           1565857
          ],
          [
           19917
          ],
          [
           5342294
          ],
          [
           3311046
          ],
          [
           1900007
          ],
          [
           12201784
          ],
          [
           3115222
          ],
          [
           262599
          ],
          [
           559426
          ],
          [
           1563490
          ],
          [
           5371481
          ]
         ],
         "geo": "geo",
         "hoverlabel": {
          "namelength": 0
         },
         "hovertemplate": "<b>%{hovertext}</b><br><br>Streams=%{z}<br>Country Code=%{location}",
         "hovertext": [
          "Austria",
          "Australia",
          "Belgium",
          "Brazil",
          "Canada",
          "Switzerland",
          "Czech Republic",
          "Germany",
          "Denmark",
          "Estonia",
          "Finland",
          "France",
          "United Kingdom",
          "Greece",
          "Hong Kong, SAR China",
          "Hungary",
          "Indonesia",
          "Ireland",
          "Iceland",
          "Italy",
          "Japan",
          "Lithuania",
          "Luxembourg",
          "Latvia",
          "Malaysia",
          "Netherlands",
          "Norway",
          "New Zealand",
          "Panama",
          "Philippines",
          "Poland",
          "Portugal",
          "Sweden",
          "Singapore",
          "Slovakia",
          "Turkey",
          "Taiwan, Republic of China",
          "United States of America"
         ],
         "locations": [
          "AUT",
          "AUS",
          "BEL",
          "BRA",
          "CAN",
          "CHE",
          "CZE",
          "DEU",
          "DNK",
          "EST",
          "FIN",
          "FRA",
          "GBR",
          "GRC",
          "HKG",
          "HUN",
          "IDN",
          "IRL",
          "ISL",
          "ITA",
          "JPN",
          "LTU",
          "LUX",
          "LVA",
          "MYS",
          "NLD",
          "NOR",
          "NZL",
          "PAN",
          "PHL",
          "POL",
          "PRT",
          "SWE",
          "SGP",
          "SVK",
          "TUR",
          "TWN",
          "USA"
         ],
         "name": "",
         "type": "choropleth",
         "z": [
          1241193,
          8628215,
          2153125,
          1396139,
          5345946,
          1674728,
          731549,
          12814882,
          5178467,
          183912,
          3212792,
          3073212,
          17342023,
          380345,
          946356,
          648263,
          6468253,
          1490500,
          341632,
          982553,
          1352654,
          221395,
          109061,
          184502,
          2988910,
          12178927,
          8257361,
          1565857,
          19917,
          5342294,
          3311046,
          1900007,
          12201784,
          3115222,
          262599,
          559426,
          1563490,
          5371481
         ]
        }
       ],
       "layout": {
        "coloraxis": {
         "colorbar": {
          "title": {
           "text": "Streams"
          }
         },
         "colorscale": [
          [
           0,
           "#0d0887"
          ],
          [
           0.1111111111111111,
           "#46039f"
          ],
          [
           0.2222222222222222,
           "#7201a8"
          ],
          [
           0.3333333333333333,
           "#9c179e"
          ],
          [
           0.4444444444444444,
           "#bd3786"
          ],
          [
           0.5555555555555556,
           "#d8576b"
          ],
          [
           0.6666666666666666,
           "#ed7953"
          ],
          [
           0.7777777777777778,
           "#fb9f3a"
          ],
          [
           0.8888888888888888,
           "#fdca26"
          ],
          [
           1,
           "#f0f921"
          ]
         ]
        },
        "geo": {
         "center": {},
         "domain": {
          "x": [
           0,
           0.98
          ],
          "y": [
           0,
           1
          ]
         },
         "projection": {
          "type": "natural earth"
         }
        },
        "height": 600,
        "legend": {
         "tracegroupgap": 0
        },
        "template": {
         "data": {
          "bar": [
           {
            "error_x": {
             "color": "#2a3f5f"
            },
            "error_y": {
             "color": "#2a3f5f"
            },
            "marker": {
             "line": {
              "color": "#E5ECF6",
              "width": 0.5
             }
            },
            "type": "bar"
           }
          ],
          "barpolar": [
           {
            "marker": {
             "line": {
              "color": "#E5ECF6",
              "width": 0.5
             }
            },
            "type": "barpolar"
           }
          ],
          "carpet": [
           {
            "aaxis": {
             "endlinecolor": "#2a3f5f",
             "gridcolor": "white",
             "linecolor": "white",
             "minorgridcolor": "white",
             "startlinecolor": "#2a3f5f"
            },
            "baxis": {
             "endlinecolor": "#2a3f5f",
             "gridcolor": "white",
             "linecolor": "white",
             "minorgridcolor": "white",
             "startlinecolor": "#2a3f5f"
            },
            "type": "carpet"
           }
          ],
          "choropleth": [
           {
            "colorbar": {
             "outlinewidth": 0,
             "ticks": ""
            },
            "type": "choropleth"
           }
          ],
          "contour": [
           {
            "colorbar": {
             "outlinewidth": 0,
             "ticks": ""
            },
            "colorscale": [
             [
              0,
              "#0d0887"
             ],
             [
              0.1111111111111111,
              "#46039f"
             ],
             [
              0.2222222222222222,
              "#7201a8"
             ],
             [
              0.3333333333333333,
              "#9c179e"
             ],
             [
              0.4444444444444444,
              "#bd3786"
             ],
             [
              0.5555555555555556,
              "#d8576b"
             ],
             [
              0.6666666666666666,
              "#ed7953"
             ],
             [
              0.7777777777777778,
              "#fb9f3a"
             ],
             [
              0.8888888888888888,
              "#fdca26"
             ],
             [
              1,
              "#f0f921"
             ]
            ],
            "type": "contour"
           }
          ],
          "contourcarpet": [
           {
            "colorbar": {
             "outlinewidth": 0,
             "ticks": ""
            },
            "type": "contourcarpet"
           }
          ],
          "heatmap": [
           {
            "colorbar": {
             "outlinewidth": 0,
             "ticks": ""
            },
            "colorscale": [
             [
              0,
              "#0d0887"
             ],
             [
              0.1111111111111111,
              "#46039f"
             ],
             [
              0.2222222222222222,
              "#7201a8"
             ],
             [
              0.3333333333333333,
              "#9c179e"
             ],
             [
              0.4444444444444444,
              "#bd3786"
             ],
             [
              0.5555555555555556,
              "#d8576b"
             ],
             [
              0.6666666666666666,
              "#ed7953"
             ],
             [
              0.7777777777777778,
              "#fb9f3a"
             ],
             [
              0.8888888888888888,
              "#fdca26"
             ],
             [
              1,
              "#f0f921"
             ]
            ],
            "type": "heatmap"
           }
          ],
          "heatmapgl": [
           {
            "colorbar": {
             "outlinewidth": 0,
             "ticks": ""
            },
            "colorscale": [
             [
              0,
              "#0d0887"
             ],
             [
              0.1111111111111111,
              "#46039f"
             ],
             [
              0.2222222222222222,
              "#7201a8"
             ],
             [
              0.3333333333333333,
              "#9c179e"
             ],
             [
              0.4444444444444444,
              "#bd3786"
             ],
             [
              0.5555555555555556,
              "#d8576b"
             ],
             [
              0.6666666666666666,
              "#ed7953"
             ],
             [
              0.7777777777777778,
              "#fb9f3a"
             ],
             [
              0.8888888888888888,
              "#fdca26"
             ],
             [
              1,
              "#f0f921"
             ]
            ],
            "type": "heatmapgl"
           }
          ],
          "histogram": [
           {
            "marker": {
             "colorbar": {
              "outlinewidth": 0,
              "ticks": ""
             }
            },
            "type": "histogram"
           }
          ],
          "histogram2d": [
           {
            "colorbar": {
             "outlinewidth": 0,
             "ticks": ""
            },
            "colorscale": [
             [
              0,
              "#0d0887"
             ],
             [
              0.1111111111111111,
              "#46039f"
             ],
             [
              0.2222222222222222,
              "#7201a8"
             ],
             [
              0.3333333333333333,
              "#9c179e"
             ],
             [
              0.4444444444444444,
              "#bd3786"
             ],
             [
              0.5555555555555556,
              "#d8576b"
             ],
             [
              0.6666666666666666,
              "#ed7953"
             ],
             [
              0.7777777777777778,
              "#fb9f3a"
             ],
             [
              0.8888888888888888,
              "#fdca26"
             ],
             [
              1,
              "#f0f921"
             ]
            ],
            "type": "histogram2d"
           }
          ],
          "histogram2dcontour": [
           {
            "colorbar": {
             "outlinewidth": 0,
             "ticks": ""
            },
            "colorscale": [
             [
              0,
              "#0d0887"
             ],
             [
              0.1111111111111111,
              "#46039f"
             ],
             [
              0.2222222222222222,
              "#7201a8"
             ],
             [
              0.3333333333333333,
              "#9c179e"
             ],
             [
              0.4444444444444444,
              "#bd3786"
             ],
             [
              0.5555555555555556,
              "#d8576b"
             ],
             [
              0.6666666666666666,
              "#ed7953"
             ],
             [
              0.7777777777777778,
              "#fb9f3a"
             ],
             [
              0.8888888888888888,
              "#fdca26"
             ],
             [
              1,
              "#f0f921"
             ]
            ],
            "type": "histogram2dcontour"
           }
          ],
          "mesh3d": [
           {
            "colorbar": {
             "outlinewidth": 0,
             "ticks": ""
            },
            "type": "mesh3d"
           }
          ],
          "parcoords": [
           {
            "line": {
             "colorbar": {
              "outlinewidth": 0,
              "ticks": ""
             }
            },
            "type": "parcoords"
           }
          ],
          "scatter": [
           {
            "marker": {
             "colorbar": {
              "outlinewidth": 0,
              "ticks": ""
             }
            },
            "type": "scatter"
           }
          ],
          "scatter3d": [
           {
            "line": {
             "colorbar": {
              "outlinewidth": 0,
              "ticks": ""
             }
            },
            "marker": {
             "colorbar": {
              "outlinewidth": 0,
              "ticks": ""
             }
            },
            "type": "scatter3d"
           }
          ],
          "scattercarpet": [
           {
            "marker": {
             "colorbar": {
              "outlinewidth": 0,
              "ticks": ""
             }
            },
            "type": "scattercarpet"
           }
          ],
          "scattergeo": [
           {
            "marker": {
             "colorbar": {
              "outlinewidth": 0,
              "ticks": ""
             }
            },
            "type": "scattergeo"
           }
          ],
          "scattergl": [
           {
            "marker": {
             "colorbar": {
              "outlinewidth": 0,
              "ticks": ""
             }
            },
            "type": "scattergl"
           }
          ],
          "scattermapbox": [
           {
            "marker": {
             "colorbar": {
              "outlinewidth": 0,
              "ticks": ""
             }
            },
            "type": "scattermapbox"
           }
          ],
          "scatterpolar": [
           {
            "marker": {
             "colorbar": {
              "outlinewidth": 0,
              "ticks": ""
             }
            },
            "type": "scatterpolar"
           }
          ],
          "scatterpolargl": [
           {
            "marker": {
             "colorbar": {
              "outlinewidth": 0,
              "ticks": ""
             }
            },
            "type": "scatterpolargl"
           }
          ],
          "scatterternary": [
           {
            "marker": {
             "colorbar": {
              "outlinewidth": 0,
              "ticks": ""
             }
            },
            "type": "scatterternary"
           }
          ],
          "surface": [
           {
            "colorbar": {
             "outlinewidth": 0,
             "ticks": ""
            },
            "colorscale": [
             [
              0,
              "#0d0887"
             ],
             [
              0.1111111111111111,
              "#46039f"
             ],
             [
              0.2222222222222222,
              "#7201a8"
             ],
             [
              0.3333333333333333,
              "#9c179e"
             ],
             [
              0.4444444444444444,
              "#bd3786"
             ],
             [
              0.5555555555555556,
              "#d8576b"
             ],
             [
              0.6666666666666666,
              "#ed7953"
             ],
             [
              0.7777777777777778,
              "#fb9f3a"
             ],
             [
              0.8888888888888888,
              "#fdca26"
             ],
             [
              1,
              "#f0f921"
             ]
            ],
            "type": "surface"
           }
          ],
          "table": [
           {
            "cells": {
             "fill": {
              "color": "#EBF0F8"
             },
             "line": {
              "color": "white"
             }
            },
            "header": {
             "fill": {
              "color": "#C8D4E3"
             },
             "line": {
              "color": "white"
             }
            },
            "type": "table"
           }
          ]
         },
         "layout": {
          "annotationdefaults": {
           "arrowcolor": "#2a3f5f",
           "arrowhead": 0,
           "arrowwidth": 1
          },
          "colorscale": {
           "diverging": [
            [
             0,
             "#8e0152"
            ],
            [
             0.1,
             "#c51b7d"
            ],
            [
             0.2,
             "#de77ae"
            ],
            [
             0.3,
             "#f1b6da"
            ],
            [
             0.4,
             "#fde0ef"
            ],
            [
             0.5,
             "#f7f7f7"
            ],
            [
             0.6,
             "#e6f5d0"
            ],
            [
             0.7,
             "#b8e186"
            ],
            [
             0.8,
             "#7fbc41"
            ],
            [
             0.9,
             "#4d9221"
            ],
            [
             1,
             "#276419"
            ]
           ],
           "sequential": [
            [
             0,
             "#0d0887"
            ],
            [
             0.1111111111111111,
             "#46039f"
            ],
            [
             0.2222222222222222,
             "#7201a8"
            ],
            [
             0.3333333333333333,
             "#9c179e"
            ],
            [
             0.4444444444444444,
             "#bd3786"
            ],
            [
             0.5555555555555556,
             "#d8576b"
            ],
            [
             0.6666666666666666,
             "#ed7953"
            ],
            [
             0.7777777777777778,
             "#fb9f3a"
            ],
            [
             0.8888888888888888,
             "#fdca26"
            ],
            [
             1,
             "#f0f921"
            ]
           ],
           "sequentialminus": [
            [
             0,
             "#0d0887"
            ],
            [
             0.1111111111111111,
             "#46039f"
            ],
            [
             0.2222222222222222,
             "#7201a8"
            ],
            [
             0.3333333333333333,
             "#9c179e"
            ],
            [
             0.4444444444444444,
             "#bd3786"
            ],
            [
             0.5555555555555556,
             "#d8576b"
            ],
            [
             0.6666666666666666,
             "#ed7953"
            ],
            [
             0.7777777777777778,
             "#fb9f3a"
            ],
            [
             0.8888888888888888,
             "#fdca26"
            ],
            [
             1,
             "#f0f921"
            ]
           ]
          },
          "colorway": [
           "#636efa",
           "#EF553B",
           "#00cc96",
           "#ab63fa",
           "#FFA15A",
           "#19d3f3",
           "#FF6692",
           "#B6E880",
           "#FF97FF",
           "#FECB52"
          ],
          "font": {
           "color": "#2a3f5f"
          },
          "geo": {
           "bgcolor": "white",
           "lakecolor": "white",
           "landcolor": "#E5ECF6",
           "showlakes": true,
           "showland": true,
           "subunitcolor": "white"
          },
          "hoverlabel": {
           "align": "left"
          },
          "hovermode": "closest",
          "mapbox": {
           "style": "light"
          },
          "paper_bgcolor": "white",
          "plot_bgcolor": "#E5ECF6",
          "polar": {
           "angularaxis": {
            "gridcolor": "white",
            "linecolor": "white",
            "ticks": ""
           },
           "bgcolor": "#E5ECF6",
           "radialaxis": {
            "gridcolor": "white",
            "linecolor": "white",
            "ticks": ""
           }
          },
          "scene": {
           "xaxis": {
            "backgroundcolor": "#E5ECF6",
            "gridcolor": "white",
            "gridwidth": 2,
            "linecolor": "white",
            "showbackground": true,
            "ticks": "",
            "zerolinecolor": "white"
           },
           "yaxis": {
            "backgroundcolor": "#E5ECF6",
            "gridcolor": "white",
            "gridwidth": 2,
            "linecolor": "white",
            "showbackground": true,
            "ticks": "",
            "zerolinecolor": "white"
           },
           "zaxis": {
            "backgroundcolor": "#E5ECF6",
            "gridcolor": "white",
            "gridwidth": 2,
            "linecolor": "white",
            "showbackground": true,
            "ticks": "",
            "zerolinecolor": "white"
           }
          },
          "shapedefaults": {
           "line": {
            "color": "#2a3f5f"
           }
          },
          "ternary": {
           "aaxis": {
            "gridcolor": "white",
            "linecolor": "white",
            "ticks": ""
           },
           "baxis": {
            "gridcolor": "white",
            "linecolor": "white",
            "ticks": ""
           },
           "bgcolor": "#E5ECF6",
           "caxis": {
            "gridcolor": "white",
            "linecolor": "white",
            "ticks": ""
           }
          },
          "title": {
           "x": 0.05
          },
          "xaxis": {
           "automargin": true,
           "gridcolor": "white",
           "linecolor": "white",
           "ticks": "",
           "zerolinecolor": "white",
           "zerolinewidth": 2
          },
          "yaxis": {
           "automargin": true,
           "gridcolor": "white",
           "linecolor": "white",
           "ticks": "",
           "zerolinecolor": "white",
           "zerolinewidth": 2
          }
         }
        },
        "title": {
         "text": "Popularity of<a href=\"https://en.wikipedia.org/wiki/David_Guetta\" > David Guetta </a>by streams of tracks in daily Top 10 chart (2017)<br>Source: <a href=\"https://www.kaggle.com/edumucelli/spotifys-worldwide-daily-song-ranking/version/3\">Spotify through Kaggle Datasets</a>"
        }
       }
      },
      "text/html": [
       "<div>\n",
       "        \n",
       "        \n",
       "            <div id=\"bea6758a-5cad-4b08-a46e-f7f29269a6ca\" class=\"plotly-graph-div\" style=\"height:600px; width:100%;\"></div>\n",
       "            <script type=\"text/javascript\">\n",
       "                require([\"plotly\"], function(Plotly) {\n",
       "                    window.PLOTLYENV=window.PLOTLYENV || {};\n",
       "                    \n",
       "                if (document.getElementById(\"bea6758a-5cad-4b08-a46e-f7f29269a6ca\")) {\n",
       "                    Plotly.newPlot(\n",
       "                        'bea6758a-5cad-4b08-a46e-f7f29269a6ca',\n",
       "                        [{\"coloraxis\": \"coloraxis\", \"customdata\": [[1241193.0], [8628215.0], [2153125.0], [1396139.0], [5345946.0], [1674728.0], [731549.0], [12814882.0], [5178467.0], [183912.0], [3212792.0], [3073212.0], [17342023.0], [380345.0], [946356.0], [648263.0], [6468253.0], [1490500.0], [341632.0], [982553.0], [1352654.0], [221395.0], [109061.0], [184502.0], [2988910.0], [12178927.0], [8257361.0], [1565857.0], [19917.0], [5342294.0], [3311046.0], [1900007.0], [12201784.0], [3115222.0], [262599.0], [559426.0], [1563490.0], [5371481.0]], \"geo\": \"geo\", \"hoverlabel\": {\"namelength\": 0}, \"hovertemplate\": \"<b>%{hovertext}</b><br><br>Streams=%{z}<br>Country Code=%{location}\", \"hovertext\": [\"Austria\", \"Australia\", \"Belgium\", \"Brazil\", \"Canada\", \"Switzerland\", \"Czech Republic\", \"Germany\", \"Denmark\", \"Estonia\", \"Finland\", \"France\", \"United Kingdom\", \"Greece\", \"Hong Kong, SAR China\", \"Hungary\", \"Indonesia\", \"Ireland\", \"Iceland\", \"Italy\", \"Japan\", \"Lithuania\", \"Luxembourg\", \"Latvia\", \"Malaysia\", \"Netherlands\", \"Norway\", \"New Zealand\", \"Panama\", \"Philippines\", \"Poland\", \"Portugal\", \"Sweden\", \"Singapore\", \"Slovakia\", \"Turkey\", \"Taiwan, Republic of China\", \"United States of America\"], \"locations\": [\"AUT\", \"AUS\", \"BEL\", \"BRA\", \"CAN\", \"CHE\", \"CZE\", \"DEU\", \"DNK\", \"EST\", \"FIN\", \"FRA\", \"GBR\", \"GRC\", \"HKG\", \"HUN\", \"IDN\", \"IRL\", \"ISL\", \"ITA\", \"JPN\", \"LTU\", \"LUX\", \"LVA\", \"MYS\", \"NLD\", \"NOR\", \"NZL\", \"PAN\", \"PHL\", \"POL\", \"PRT\", \"SWE\", \"SGP\", \"SVK\", \"TUR\", \"TWN\", \"USA\"], \"name\": \"\", \"type\": \"choropleth\", \"z\": [1241193.0, 8628215.0, 2153125.0, 1396139.0, 5345946.0, 1674728.0, 731549.0, 12814882.0, 5178467.0, 183912.0, 3212792.0, 3073212.0, 17342023.0, 380345.0, 946356.0, 648263.0, 6468253.0, 1490500.0, 341632.0, 982553.0, 1352654.0, 221395.0, 109061.0, 184502.0, 2988910.0, 12178927.0, 8257361.0, 1565857.0, 19917.0, 5342294.0, 3311046.0, 1900007.0, 12201784.0, 3115222.0, 262599.0, 559426.0, 1563490.0, 5371481.0]}],\n",
       "                        {\"coloraxis\": {\"colorbar\": {\"title\": {\"text\": \"Streams\"}}, \"colorscale\": [[0.0, \"#0d0887\"], [0.1111111111111111, \"#46039f\"], [0.2222222222222222, \"#7201a8\"], [0.3333333333333333, \"#9c179e\"], [0.4444444444444444, \"#bd3786\"], [0.5555555555555556, \"#d8576b\"], [0.6666666666666666, \"#ed7953\"], [0.7777777777777778, \"#fb9f3a\"], [0.8888888888888888, \"#fdca26\"], [1.0, \"#f0f921\"]]}, \"geo\": {\"center\": {}, \"domain\": {\"x\": [0.0, 0.98], \"y\": [0.0, 1.0]}, \"projection\": {\"type\": \"natural earth\"}}, \"height\": 600, \"legend\": {\"tracegroupgap\": 0}, \"template\": {\"data\": {\"bar\": [{\"error_x\": {\"color\": \"#2a3f5f\"}, \"error_y\": {\"color\": \"#2a3f5f\"}, \"marker\": {\"line\": {\"color\": \"#E5ECF6\", \"width\": 0.5}}, \"type\": \"bar\"}], \"barpolar\": [{\"marker\": {\"line\": {\"color\": \"#E5ECF6\", \"width\": 0.5}}, \"type\": \"barpolar\"}], \"carpet\": [{\"aaxis\": {\"endlinecolor\": \"#2a3f5f\", \"gridcolor\": \"white\", \"linecolor\": \"white\", \"minorgridcolor\": \"white\", \"startlinecolor\": \"#2a3f5f\"}, \"baxis\": {\"endlinecolor\": \"#2a3f5f\", \"gridcolor\": \"white\", \"linecolor\": \"white\", \"minorgridcolor\": \"white\", \"startlinecolor\": \"#2a3f5f\"}, \"type\": \"carpet\"}], \"choropleth\": [{\"colorbar\": {\"outlinewidth\": 0, \"ticks\": \"\"}, \"type\": \"choropleth\"}], \"contour\": [{\"colorbar\": {\"outlinewidth\": 0, \"ticks\": \"\"}, \"colorscale\": [[0.0, \"#0d0887\"], [0.1111111111111111, \"#46039f\"], [0.2222222222222222, \"#7201a8\"], [0.3333333333333333, \"#9c179e\"], [0.4444444444444444, \"#bd3786\"], [0.5555555555555556, \"#d8576b\"], [0.6666666666666666, \"#ed7953\"], [0.7777777777777778, \"#fb9f3a\"], [0.8888888888888888, \"#fdca26\"], [1.0, \"#f0f921\"]], \"type\": \"contour\"}], \"contourcarpet\": [{\"colorbar\": {\"outlinewidth\": 0, \"ticks\": \"\"}, \"type\": \"contourcarpet\"}], \"heatmap\": [{\"colorbar\": {\"outlinewidth\": 0, \"ticks\": \"\"}, \"colorscale\": [[0.0, \"#0d0887\"], [0.1111111111111111, \"#46039f\"], [0.2222222222222222, \"#7201a8\"], [0.3333333333333333, \"#9c179e\"], [0.4444444444444444, \"#bd3786\"], [0.5555555555555556, \"#d8576b\"], [0.6666666666666666, \"#ed7953\"], [0.7777777777777778, \"#fb9f3a\"], [0.8888888888888888, \"#fdca26\"], [1.0, \"#f0f921\"]], \"type\": \"heatmap\"}], \"heatmapgl\": [{\"colorbar\": {\"outlinewidth\": 0, \"ticks\": \"\"}, \"colorscale\": [[0.0, \"#0d0887\"], [0.1111111111111111, \"#46039f\"], [0.2222222222222222, \"#7201a8\"], [0.3333333333333333, \"#9c179e\"], [0.4444444444444444, \"#bd3786\"], [0.5555555555555556, \"#d8576b\"], [0.6666666666666666, \"#ed7953\"], [0.7777777777777778, \"#fb9f3a\"], [0.8888888888888888, \"#fdca26\"], [1.0, \"#f0f921\"]], \"type\": \"heatmapgl\"}], \"histogram\": [{\"marker\": {\"colorbar\": {\"outlinewidth\": 0, \"ticks\": \"\"}}, \"type\": \"histogram\"}], \"histogram2d\": [{\"colorbar\": {\"outlinewidth\": 0, \"ticks\": \"\"}, \"colorscale\": [[0.0, \"#0d0887\"], [0.1111111111111111, \"#46039f\"], [0.2222222222222222, \"#7201a8\"], [0.3333333333333333, \"#9c179e\"], [0.4444444444444444, \"#bd3786\"], [0.5555555555555556, \"#d8576b\"], [0.6666666666666666, \"#ed7953\"], [0.7777777777777778, \"#fb9f3a\"], [0.8888888888888888, \"#fdca26\"], [1.0, \"#f0f921\"]], \"type\": \"histogram2d\"}], \"histogram2dcontour\": [{\"colorbar\": {\"outlinewidth\": 0, \"ticks\": \"\"}, \"colorscale\": [[0.0, \"#0d0887\"], [0.1111111111111111, \"#46039f\"], [0.2222222222222222, \"#7201a8\"], [0.3333333333333333, \"#9c179e\"], [0.4444444444444444, \"#bd3786\"], [0.5555555555555556, \"#d8576b\"], [0.6666666666666666, \"#ed7953\"], [0.7777777777777778, \"#fb9f3a\"], [0.8888888888888888, \"#fdca26\"], [1.0, \"#f0f921\"]], \"type\": \"histogram2dcontour\"}], \"mesh3d\": [{\"colorbar\": {\"outlinewidth\": 0, \"ticks\": \"\"}, \"type\": \"mesh3d\"}], \"parcoords\": [{\"line\": {\"colorbar\": {\"outlinewidth\": 0, \"ticks\": \"\"}}, \"type\": \"parcoords\"}], \"scatter\": [{\"marker\": {\"colorbar\": {\"outlinewidth\": 0, \"ticks\": \"\"}}, \"type\": \"scatter\"}], \"scatter3d\": [{\"line\": {\"colorbar\": {\"outlinewidth\": 0, \"ticks\": \"\"}}, \"marker\": {\"colorbar\": {\"outlinewidth\": 0, \"ticks\": \"\"}}, \"type\": \"scatter3d\"}], \"scattercarpet\": [{\"marker\": {\"colorbar\": {\"outlinewidth\": 0, \"ticks\": \"\"}}, \"type\": \"scattercarpet\"}], \"scattergeo\": [{\"marker\": {\"colorbar\": {\"outlinewidth\": 0, \"ticks\": \"\"}}, \"type\": \"scattergeo\"}], \"scattergl\": [{\"marker\": {\"colorbar\": {\"outlinewidth\": 0, \"ticks\": \"\"}}, \"type\": \"scattergl\"}], \"scattermapbox\": [{\"marker\": {\"colorbar\": {\"outlinewidth\": 0, \"ticks\": \"\"}}, \"type\": \"scattermapbox\"}], \"scatterpolar\": [{\"marker\": {\"colorbar\": {\"outlinewidth\": 0, \"ticks\": \"\"}}, \"type\": \"scatterpolar\"}], \"scatterpolargl\": [{\"marker\": {\"colorbar\": {\"outlinewidth\": 0, \"ticks\": \"\"}}, \"type\": \"scatterpolargl\"}], \"scatterternary\": [{\"marker\": {\"colorbar\": {\"outlinewidth\": 0, \"ticks\": \"\"}}, \"type\": \"scatterternary\"}], \"surface\": [{\"colorbar\": {\"outlinewidth\": 0, \"ticks\": \"\"}, \"colorscale\": [[0.0, \"#0d0887\"], [0.1111111111111111, \"#46039f\"], [0.2222222222222222, \"#7201a8\"], [0.3333333333333333, \"#9c179e\"], [0.4444444444444444, \"#bd3786\"], [0.5555555555555556, \"#d8576b\"], [0.6666666666666666, \"#ed7953\"], [0.7777777777777778, \"#fb9f3a\"], [0.8888888888888888, \"#fdca26\"], [1.0, \"#f0f921\"]], \"type\": \"surface\"}], \"table\": [{\"cells\": {\"fill\": {\"color\": \"#EBF0F8\"}, \"line\": {\"color\": \"white\"}}, \"header\": {\"fill\": {\"color\": \"#C8D4E3\"}, \"line\": {\"color\": \"white\"}}, \"type\": \"table\"}]}, \"layout\": {\"annotationdefaults\": {\"arrowcolor\": \"#2a3f5f\", \"arrowhead\": 0, \"arrowwidth\": 1}, \"colorscale\": {\"diverging\": [[0, \"#8e0152\"], [0.1, \"#c51b7d\"], [0.2, \"#de77ae\"], [0.3, \"#f1b6da\"], [0.4, \"#fde0ef\"], [0.5, \"#f7f7f7\"], [0.6, \"#e6f5d0\"], [0.7, \"#b8e186\"], [0.8, \"#7fbc41\"], [0.9, \"#4d9221\"], [1, \"#276419\"]], \"sequential\": [[0.0, \"#0d0887\"], [0.1111111111111111, \"#46039f\"], [0.2222222222222222, \"#7201a8\"], [0.3333333333333333, \"#9c179e\"], [0.4444444444444444, \"#bd3786\"], [0.5555555555555556, \"#d8576b\"], [0.6666666666666666, \"#ed7953\"], [0.7777777777777778, \"#fb9f3a\"], [0.8888888888888888, \"#fdca26\"], [1.0, \"#f0f921\"]], \"sequentialminus\": [[0.0, \"#0d0887\"], [0.1111111111111111, \"#46039f\"], [0.2222222222222222, \"#7201a8\"], [0.3333333333333333, \"#9c179e\"], [0.4444444444444444, \"#bd3786\"], [0.5555555555555556, \"#d8576b\"], [0.6666666666666666, \"#ed7953\"], [0.7777777777777778, \"#fb9f3a\"], [0.8888888888888888, \"#fdca26\"], [1.0, \"#f0f921\"]]}, \"colorway\": [\"#636efa\", \"#EF553B\", \"#00cc96\", \"#ab63fa\", \"#FFA15A\", \"#19d3f3\", \"#FF6692\", \"#B6E880\", \"#FF97FF\", \"#FECB52\"], \"font\": {\"color\": \"#2a3f5f\"}, \"geo\": {\"bgcolor\": \"white\", \"lakecolor\": \"white\", \"landcolor\": \"#E5ECF6\", \"showlakes\": true, \"showland\": true, \"subunitcolor\": \"white\"}, \"hoverlabel\": {\"align\": \"left\"}, \"hovermode\": \"closest\", \"mapbox\": {\"style\": \"light\"}, \"paper_bgcolor\": \"white\", \"plot_bgcolor\": \"#E5ECF6\", \"polar\": {\"angularaxis\": {\"gridcolor\": \"white\", \"linecolor\": \"white\", \"ticks\": \"\"}, \"bgcolor\": \"#E5ECF6\", \"radialaxis\": {\"gridcolor\": \"white\", \"linecolor\": \"white\", \"ticks\": \"\"}}, \"scene\": {\"xaxis\": {\"backgroundcolor\": \"#E5ECF6\", \"gridcolor\": \"white\", \"gridwidth\": 2, \"linecolor\": \"white\", \"showbackground\": true, \"ticks\": \"\", \"zerolinecolor\": \"white\"}, \"yaxis\": {\"backgroundcolor\": \"#E5ECF6\", \"gridcolor\": \"white\", \"gridwidth\": 2, \"linecolor\": \"white\", \"showbackground\": true, \"ticks\": \"\", \"zerolinecolor\": \"white\"}, \"zaxis\": {\"backgroundcolor\": \"#E5ECF6\", \"gridcolor\": \"white\", \"gridwidth\": 2, \"linecolor\": \"white\", \"showbackground\": true, \"ticks\": \"\", \"zerolinecolor\": \"white\"}}, \"shapedefaults\": {\"line\": {\"color\": \"#2a3f5f\"}}, \"ternary\": {\"aaxis\": {\"gridcolor\": \"white\", \"linecolor\": \"white\", \"ticks\": \"\"}, \"baxis\": {\"gridcolor\": \"white\", \"linecolor\": \"white\", \"ticks\": \"\"}, \"bgcolor\": \"#E5ECF6\", \"caxis\": {\"gridcolor\": \"white\", \"linecolor\": \"white\", \"ticks\": \"\"}}, \"title\": {\"x\": 0.05}, \"xaxis\": {\"automargin\": true, \"gridcolor\": \"white\", \"linecolor\": \"white\", \"ticks\": \"\", \"zerolinecolor\": \"white\", \"zerolinewidth\": 2}, \"yaxis\": {\"automargin\": true, \"gridcolor\": \"white\", \"linecolor\": \"white\", \"ticks\": \"\", \"zerolinecolor\": \"white\", \"zerolinewidth\": 2}}}, \"title\": {\"text\": \"Popularity of<a href=\\\"https://en.wikipedia.org/wiki/David_Guetta\\\" > David Guetta </a>by streams of tracks in daily Top 10 chart (2017)<br>Source: <a href=\\\"https://www.kaggle.com/edumucelli/spotifys-worldwide-daily-song-ranking/version/3\\\">Spotify through Kaggle Datasets</a>\"}},\n",
       "                        {\"responsive\": true}\n",
       "                    ).then(function(){\n",
       "                            \n",
       "var gd = document.getElementById('bea6758a-5cad-4b08-a46e-f7f29269a6ca');\n",
       "var x = new MutationObserver(function (mutations, observer) {{\n",
       "        var display = window.getComputedStyle(gd).display;\n",
       "        if (!display || display === 'none') {{\n",
       "            console.log([gd, 'removed!']);\n",
       "            Plotly.purge(gd);\n",
       "            observer.disconnect();\n",
       "        }}\n",
       "}});\n",
       "\n",
       "// Listen for the removal of the full notebook cells\n",
       "var notebookContainer = gd.closest('#notebook-container');\n",
       "if (notebookContainer) {{\n",
       "    x.observe(notebookContainer, {childList: true});\n",
       "}}\n",
       "\n",
       "// Listen for the clearing of the current output cell\n",
       "var outputEl = gd.closest('.output');\n",
       "if (outputEl) {{\n",
       "    x.observe(outputEl, {childList: true});\n",
       "}}\n",
       "\n",
       "                        })\n",
       "                };\n",
       "                });\n",
       "            </script>\n",
       "        </div>"
      ]
     },
     "metadata": {},
     "output_type": "display_data"
    }
   ],
   "source": [
    "# Layout for widgets\n",
    "box_layout = Layout(display='flex', flex_flow='row', align_items='center', width='100%', justify_content = 'center')\n",
    "style = {'description_width': 'initial'}\n",
    "\n",
    "# Create dropdown menu for Artist\n",
    "artist_menu = widgets.Dropdown(options = df['Artist'].sort_values().unique(), description ='Artist: ', style = style, disabled=False)\n",
    "\n",
    "# Create Show Popularity button and define click events\n",
    "show_button = widgets.Button(button_style= 'info', description=\"Show Popularity\")\n",
    "show_button.on_click(show_popularity)\n",
    "\n",
    "# Define display order for the buttons and menus\n",
    "display(Box(children = [artist_menu], layout = box_layout))\n",
    "display(Box(children = [show_button], layout = Layout(display= 'flex', flex_flow= 'row', align_items= 'center', width='100%', justify_content = 'center')))"
   ]
  },
  {
   "cell_type": "markdown",
   "metadata": {},
   "source": [
    "Try it for various artists. In case you don't know much about the artist, click on the link in the title of the map which will take you to the *Wikipedia* page of the artist. Hover your mouse over different countries and see how many times tracks were streamed.\n",
    "\n",
    "### Questions:\n",
    "1. Which artists were popular in North America, Europe as well as Asia-Pacific region?\n",
    "2. Share your thoughts on how music (and media in general) has brought people together and become the globalizing force."
   ]
  },
  {
   "cell_type": "markdown",
   "metadata": {},
   "source": [
    "## Artists popular in different countries\n",
    "Let us try to gauge the effect of globalization on music listened by people of various countries. We will plot the top artists streamed on Spotify.\n",
    "\n",
    "Run the code cells below and see the additional columns (`Country Name` and `Country Code`) added to the dataset."
   ]
  },
  {
   "cell_type": "code",
   "execution_count": 6,
   "metadata": {},
   "outputs": [
    {
     "data": {
      "text/html": [
       "<div>\n",
       "<style scoped>\n",
       "    .dataframe tbody tr th:only-of-type {\n",
       "        vertical-align: middle;\n",
       "    }\n",
       "\n",
       "    .dataframe tbody tr th {\n",
       "        vertical-align: top;\n",
       "    }\n",
       "\n",
       "    .dataframe thead th {\n",
       "        text-align: right;\n",
       "    }\n",
       "</style>\n",
       "<table border=\"1\" class=\"dataframe\">\n",
       "  <thead>\n",
       "    <tr style=\"text-align: right;\">\n",
       "      <th></th>\n",
       "      <th>Unnamed: 0</th>\n",
       "      <th>Artist</th>\n",
       "      <th>Date</th>\n",
       "      <th>Position</th>\n",
       "      <th>Region</th>\n",
       "      <th>Streams</th>\n",
       "      <th>Track Name</th>\n",
       "      <th>URL</th>\n",
       "      <th>Country Name</th>\n",
       "      <th>Country Code</th>\n",
       "    </tr>\n",
       "  </thead>\n",
       "  <tbody>\n",
       "    <tr>\n",
       "      <td>0</td>\n",
       "      <td>0</td>\n",
       "      <td>CNCO</td>\n",
       "      <td>2017-01-01</td>\n",
       "      <td>1.0</td>\n",
       "      <td>ec</td>\n",
       "      <td>19272.0</td>\n",
       "      <td>Reggaetón Lento (Bailemos)</td>\n",
       "      <td>https://open.spotify.com/track/3AEZUABDXNtecAO...</td>\n",
       "      <td>Ecuador</td>\n",
       "      <td>ECU</td>\n",
       "    </tr>\n",
       "    <tr>\n",
       "      <td>1</td>\n",
       "      <td>1</td>\n",
       "      <td>Shakira</td>\n",
       "      <td>2017-01-01</td>\n",
       "      <td>2.0</td>\n",
       "      <td>ec</td>\n",
       "      <td>19270.0</td>\n",
       "      <td>Chantaje</td>\n",
       "      <td>https://open.spotify.com/track/6mICuAdrwEjh6Y6...</td>\n",
       "      <td>Ecuador</td>\n",
       "      <td>ECU</td>\n",
       "    </tr>\n",
       "    <tr>\n",
       "      <td>2</td>\n",
       "      <td>2</td>\n",
       "      <td>Zion &amp; Lennox</td>\n",
       "      <td>2017-01-01</td>\n",
       "      <td>3.0</td>\n",
       "      <td>ec</td>\n",
       "      <td>15761.0</td>\n",
       "      <td>Otra Vez (feat. J Balvin)</td>\n",
       "      <td>https://open.spotify.com/track/3QwBODjSEzelZyV...</td>\n",
       "      <td>Ecuador</td>\n",
       "      <td>ECU</td>\n",
       "    </tr>\n",
       "    <tr>\n",
       "      <td>3</td>\n",
       "      <td>3</td>\n",
       "      <td>Ricky Martin</td>\n",
       "      <td>2017-01-01</td>\n",
       "      <td>4.0</td>\n",
       "      <td>ec</td>\n",
       "      <td>14954.0</td>\n",
       "      <td>Vente Pa' Ca</td>\n",
       "      <td>https://open.spotify.com/track/7DM4BPaS7uofFul...</td>\n",
       "      <td>Ecuador</td>\n",
       "      <td>ECU</td>\n",
       "    </tr>\n",
       "    <tr>\n",
       "      <td>4</td>\n",
       "      <td>4</td>\n",
       "      <td>J Balvin</td>\n",
       "      <td>2017-01-01</td>\n",
       "      <td>5.0</td>\n",
       "      <td>ec</td>\n",
       "      <td>14269.0</td>\n",
       "      <td>Safari</td>\n",
       "      <td>https://open.spotify.com/track/6rQSrBHf7HlZjtc...</td>\n",
       "      <td>Ecuador</td>\n",
       "      <td>ECU</td>\n",
       "    </tr>\n",
       "  </tbody>\n",
       "</table>\n",
       "</div>"
      ],
      "text/plain": [
       "   Unnamed: 0         Artist        Date  Position Region  Streams  \\\n",
       "0           0           CNCO  2017-01-01       1.0     ec  19272.0   \n",
       "1           1        Shakira  2017-01-01       2.0     ec  19270.0   \n",
       "2           2  Zion & Lennox  2017-01-01       3.0     ec  15761.0   \n",
       "3           3   Ricky Martin  2017-01-01       4.0     ec  14954.0   \n",
       "4           4       J Balvin  2017-01-01       5.0     ec  14269.0   \n",
       "\n",
       "                   Track Name  \\\n",
       "0  Reggaetón Lento (Bailemos)   \n",
       "1                    Chantaje   \n",
       "2   Otra Vez (feat. J Balvin)   \n",
       "3                Vente Pa' Ca   \n",
       "4                      Safari   \n",
       "\n",
       "                                                 URL Country Name Country Code  \n",
       "0  https://open.spotify.com/track/3AEZUABDXNtecAO...      Ecuador          ECU  \n",
       "1  https://open.spotify.com/track/6mICuAdrwEjh6Y6...      Ecuador          ECU  \n",
       "2  https://open.spotify.com/track/3QwBODjSEzelZyV...      Ecuador          ECU  \n",
       "3  https://open.spotify.com/track/7DM4BPaS7uofFul...      Ecuador          ECU  \n",
       "4  https://open.spotify.com/track/6rQSrBHf7HlZjtc...      Ecuador          ECU  "
      ]
     },
     "execution_count": 6,
     "metadata": {},
     "output_type": "execute_result"
    }
   ],
   "source": [
    "# Add Country Name and 3 letter Country Code to the dataset\n",
    "df_with_country_names = df.merge(country_codes, left_on='Region', right_on='2let', how='inner')\\\n",
    "                    .drop('2let',1)\\\n",
    "                    .rename(columns={'3let':'Country Code','Countrylet':'Country Name'})\n",
    "\n",
    "# Display top 5 rows\n",
    "df_with_country_names.head()"
   ]
  },
  {
   "cell_type": "code",
   "execution_count": 7,
   "metadata": {},
   "outputs": [],
   "source": [
    "# Create a dataframe containing names of 12 months and number\n",
    "months_all = pd.DataFrame(calendar.month_name[1:],columns={'Name'})\n",
    "months_all['Number'] = list(range(1,13))\n",
    "\n",
    "# Define a callback function for \"Show Top Artists\" button\n",
    "def show_top_3_artists(ev):\n",
    "        \n",
    "    clear_output(wait=True)\n",
    "    \n",
    "    # Define display order for the buttons and menus\n",
    "    display(Box(children = [country_menu], layout = box_layout))\n",
    "    display(Box(children = [top_x_artists_slider,show_button1], layout = Layout(display= 'flex', flex_flow= 'column', align_items= 'center', width='100%', justify_content = 'center')))\n",
    "    \n",
    "    # How many top artists will be shown in the chart (user-selected value)\n",
    "    top_x_artists = top_x_artists_slider.value\n",
    "    \n",
    "    # Query the data for the user-selected country\n",
    "    subset = df_with_country_names[df_with_country_names['Country Name'] == country_menu.value]\n",
    "    \n",
    "\n",
    "    \n",
    "    # Convert Dates column to pandas datetime format and identify in which month the date falls in\n",
    "    # (This is required as we are trying to plot a bar chart on a monthly basis)\n",
    "    subset['Date'] = pd.to_datetime(subset['Date'])\n",
    "    subset['Month'] = [months_all['Name'][months_all['Number'] == i.month].iloc[0] for i in subset['Date']]\n",
    "    \n",
    "    total_streams = []   # Create an empty list\n",
    "    \n",
    "    # Import colors to be assigned to each artist\n",
    "    df_colors = pd.read_csv('colors_plotly.csv', header=None)   # Import list of colors available in plotly\n",
    "    count = 0   # Initiate count\n",
    "    colors = {}   # Create an empty dictionary\n",
    "    \n",
    "    # Create a plotly figure object (like an empty figure)\n",
    "    fig = go.Figure()\n",
    "    \n",
    "    # Get the number of streams for all artists for each month in Year 2017\n",
    "    for i in range(0,months_all.shape[0]):\n",
    "        \n",
    "        month_curr = months_all['Name'][i]   # Get the month name\n",
    "        top_artists = subset[subset['Month'] == month_curr].groupby('Artist')   # Group data by the artists\n",
    "        \n",
    "        # Calculate total streams \n",
    "        total_streams = top_artists['Streams'].sum().sort_values(ascending=False).to_frame('Streams').reset_index()[:top_x_artists]\n",
    "        \n",
    "        # Add a trace in the bar chart \n",
    "        if(total_streams.shape[0] > 0):\n",
    "            for j in range(0,top_x_artists):\n",
    "                \n",
    "                # Assign color to an artist\n",
    "                if total_streams['Artist'].iloc[j] not in colors.keys():\n",
    "                    colors[total_streams['Artist'].iloc[j]] = list(df_colors[0])[count]   # Assign color in order from the list\n",
    "                    count += 1   # Increase count\n",
    "                \n",
    "                fig.add_trace(go.Bar(name=total_streams['Artist'].iloc[j], x=[(month_curr)], y=[total_streams['Streams'].iloc[j]], \\\n",
    "                                     showlegend = False, width = 0.8, offset=[0,0], text = total_streams['Artist'].iloc[j], textposition='auto',\n",
    "                                     marker={'color':colors[total_streams['Artist'].iloc[j]]}))\n",
    "                                    \n",
    "    # Change the chart layout\n",
    "    fig.update_layout(xaxis_tickangle=-45,   # Angle of x-axis ticks\n",
    "                      xaxis_tickmode='linear',   # Tickmode of x-axis ticks\n",
    "                      yaxis=dict(title='Streams<br>(k=thousand, M=million)'),   # Title for y-axis\n",
    "                      \n",
    "                      \n",
    "                      # Title for the bar chart\n",
    "                      title_text='Top {} artist(s) in {} by streams of tracks in \\\n",
    "daily Top 10 chart (2017)<br>Source: <a href=\"https://www.kaggle.com/edumucelli/spotifys-worldwide-daily-song-ranking/version/3\">\\\n",
    "Spotify through Kaggle Datasets</a>'.format(top_x_artists_slider.value, country_menu.value))\n",
    "\n",
    "    # Show figure \n",
    "    fig.show()"
   ]
  },
  {
   "cell_type": "markdown",
   "metadata": {},
   "source": [
    "Run the cell below. Select the country and move the slider to choose how many top artist you want to see in the bar chart. Then click on `Show Top Artists` button."
   ]
  },
  {
   "cell_type": "code",
   "execution_count": 8,
   "metadata": {
    "scrolled": false
   },
   "outputs": [
    {
     "data": {
      "application/vnd.jupyter.widget-view+json": {
       "model_id": "c5c73ec258be43cc964977e9c1a61624",
       "version_major": 2,
       "version_minor": 0
      },
      "text/plain": [
       "Box(children=(Dropdown(description='Country: ', index=51, options=('Argentina', 'Australia', 'Austria', 'Belgi…"
      ]
     },
     "metadata": {},
     "output_type": "display_data"
    },
    {
     "data": {
      "application/vnd.jupyter.widget-view+json": {
       "model_id": "72ffe5f2dfcf4fcbbb9a396a97d25164",
       "version_major": 2,
       "version_minor": 0
      },
      "text/plain": [
       "Box(children=(IntSlider(value=5, description='How Many Top Artists', max=5, min=1, style=SliderStyle(descripti…"
      ]
     },
     "metadata": {},
     "output_type": "display_data"
    },
    {
     "data": {
      "application/vnd.plotly.v1+json": {
       "config": {
        "plotlyServerURL": "https://plot.ly"
       },
       "data": [
        {
         "marker": {
          "color": "#1f77b4"
         },
         "name": "Migos",
         "offset": [
          0,
          0
         ],
         "showlegend": false,
         "text": "Migos",
         "textposition": "auto",
         "type": "bar",
         "width": 0.8,
         "x": [
          "January"
         ],
         "y": [
          50051581
         ]
        },
        {
         "marker": {
          "color": "#ff7f0e"
         },
         "name": "Ed Sheeran",
         "offset": [
          0,
          0
         ],
         "showlegend": false,
         "text": "Ed Sheeran",
         "textposition": "auto",
         "type": "bar",
         "width": 0.8,
         "x": [
          "January"
         ],
         "y": [
          44721488
         ]
        },
        {
         "marker": {
          "color": "#2ca02c"
         },
         "name": "Drake",
         "offset": [
          0,
          0
         ],
         "showlegend": false,
         "text": "Drake",
         "textposition": "auto",
         "type": "bar",
         "width": 0.8,
         "x": [
          "January"
         ],
         "y": [
          37308438
         ]
        },
        {
         "marker": {
          "color": "#d62728"
         },
         "name": "The Weeknd",
         "offset": [
          0,
          0
         ],
         "showlegend": false,
         "text": "The Weeknd",
         "textposition": "auto",
         "type": "bar",
         "width": 0.8,
         "x": [
          "January"
         ],
         "y": [
          33769781
         ]
        },
        {
         "marker": {
          "color": "#9467bd"
         },
         "name": "The Chainsmokers",
         "offset": [
          0,
          0
         ],
         "showlegend": false,
         "text": "The Chainsmokers",
         "textposition": "auto",
         "type": "bar",
         "width": 0.8,
         "x": [
          "January"
         ],
         "y": [
          27767730
         ]
        },
        {
         "marker": {
          "color": "#1f77b4"
         },
         "name": "Migos",
         "offset": [
          0,
          0
         ],
         "showlegend": false,
         "text": "Migos",
         "textposition": "auto",
         "type": "bar",
         "width": 0.8,
         "x": [
          "February"
         ],
         "y": [
          51796726
         ]
        },
        {
         "marker": {
          "color": "#ff7f0e"
         },
         "name": "Ed Sheeran",
         "offset": [
          0,
          0
         ],
         "showlegend": false,
         "text": "Ed Sheeran",
         "textposition": "auto",
         "type": "bar",
         "width": 0.8,
         "x": [
          "February"
         ],
         "y": [
          42125668
         ]
        },
        {
         "marker": {
          "color": "#8c564b"
         },
         "name": "Big Sean",
         "offset": [
          0,
          0
         ],
         "showlegend": false,
         "text": "Big Sean",
         "textposition": "auto",
         "type": "bar",
         "width": 0.8,
         "x": [
          "February"
         ],
         "y": [
          39609046
         ]
        },
        {
         "marker": {
          "color": "#9467bd"
         },
         "name": "The Chainsmokers",
         "offset": [
          0,
          0
         ],
         "showlegend": false,
         "text": "The Chainsmokers",
         "textposition": "auto",
         "type": "bar",
         "width": 0.8,
         "x": [
          "February"
         ],
         "y": [
          31407677
         ]
        },
        {
         "marker": {
          "color": "#e377c2"
         },
         "name": "ZAYN",
         "offset": [
          0,
          0
         ],
         "showlegend": false,
         "text": "ZAYN",
         "textposition": "auto",
         "type": "bar",
         "width": 0.8,
         "x": [
          "February"
         ],
         "y": [
          29904272
         ]
        },
        {
         "marker": {
          "color": "#2ca02c"
         },
         "name": "Drake",
         "offset": [
          0,
          0
         ],
         "showlegend": false,
         "text": "Drake",
         "textposition": "auto",
         "type": "bar",
         "width": 0.8,
         "x": [
          "March"
         ],
         "y": [
          121990611
         ]
        },
        {
         "marker": {
          "color": "#ff7f0e"
         },
         "name": "Ed Sheeran",
         "offset": [
          0,
          0
         ],
         "showlegend": false,
         "text": "Ed Sheeran",
         "textposition": "auto",
         "type": "bar",
         "width": 0.8,
         "x": [
          "March"
         ],
         "y": [
          62568330
         ]
        },
        {
         "marker": {
          "color": "#7f7f7f"
         },
         "name": "KYLE",
         "offset": [
          0,
          0
         ],
         "showlegend": false,
         "text": "KYLE",
         "textposition": "auto",
         "type": "bar",
         "width": 0.8,
         "x": [
          "March"
         ],
         "y": [
          31650275
         ]
        },
        {
         "marker": {
          "color": "#bcbd22"
         },
         "name": "Future",
         "offset": [
          0,
          0
         ],
         "showlegend": false,
         "text": "Future",
         "textposition": "auto",
         "type": "bar",
         "width": 0.8,
         "x": [
          "March"
         ],
         "y": [
          31402115
         ]
        },
        {
         "marker": {
          "color": "#17becf"
         },
         "name": "Bruno Mars",
         "offset": [
          0,
          0
         ],
         "showlegend": false,
         "text": "Bruno Mars",
         "textposition": "auto",
         "type": "bar",
         "width": 0.8,
         "x": [
          "March"
         ],
         "y": [
          30030717
         ]
        },
        {
         "marker": {
          "color": "bisque"
         },
         "name": "Kendrick Lamar",
         "offset": [
          0,
          0
         ],
         "showlegend": false,
         "text": "Kendrick Lamar",
         "textposition": "auto",
         "type": "bar",
         "width": 0.8,
         "x": [
          "April"
         ],
         "y": [
          225107265
         ]
        },
        {
         "marker": {
          "color": "#bcbd22"
         },
         "name": "Future",
         "offset": [
          0,
          0
         ],
         "showlegend": false,
         "text": "Future",
         "textposition": "auto",
         "type": "bar",
         "width": 0.8,
         "x": [
          "April"
         ],
         "y": [
          46310714
         ]
        },
        {
         "marker": {
          "color": "#2ca02c"
         },
         "name": "Drake",
         "offset": [
          0,
          0
         ],
         "showlegend": false,
         "text": "Drake",
         "textposition": "auto",
         "type": "bar",
         "width": 0.8,
         "x": [
          "April"
         ],
         "y": [
          44050886
         ]
        },
        {
         "marker": {
          "color": "blueviolet"
         },
         "name": "Lil Uzi Vert",
         "offset": [
          0,
          0
         ],
         "showlegend": false,
         "text": "Lil Uzi Vert",
         "textposition": "auto",
         "type": "bar",
         "width": 0.8,
         "x": [
          "April"
         ],
         "y": [
          34814835
         ]
        },
        {
         "marker": {
          "color": "#7f7f7f"
         },
         "name": "KYLE",
         "offset": [
          0,
          0
         ],
         "showlegend": false,
         "text": "KYLE",
         "textposition": "auto",
         "type": "bar",
         "width": 0.8,
         "x": [
          "April"
         ],
         "y": [
          26082836
         ]
        },
        {
         "marker": {
          "color": "bisque"
         },
         "name": "Kendrick Lamar",
         "offset": [
          0,
          0
         ],
         "showlegend": false,
         "text": "Kendrick Lamar",
         "textposition": "auto",
         "type": "bar",
         "width": 0.8,
         "x": [
          "May"
         ],
         "y": [
          108781649
         ]
        },
        {
         "marker": {
          "color": "brown"
         },
         "name": "DJ Khaled",
         "offset": [
          0,
          0
         ],
         "showlegend": false,
         "text": "DJ Khaled",
         "textposition": "auto",
         "type": "bar",
         "width": 0.8,
         "x": [
          "May"
         ],
         "y": [
          56128025
         ]
        },
        {
         "marker": {
          "color": "cadetblue"
         },
         "name": "Luis Fonsi",
         "offset": [
          0,
          0
         ],
         "showlegend": false,
         "text": "Luis Fonsi",
         "textposition": "auto",
         "type": "bar",
         "width": 0.8,
         "x": [
          "May"
         ],
         "y": [
          53856978
         ]
        },
        {
         "marker": {
          "color": "blueviolet"
         },
         "name": "Lil Uzi Vert",
         "offset": [
          0,
          0
         ],
         "showlegend": false,
         "text": "Lil Uzi Vert",
         "textposition": "auto",
         "type": "bar",
         "width": 0.8,
         "x": [
          "May"
         ],
         "y": [
          43684684
         ]
        },
        {
         "marker": {
          "color": "#bcbd22"
         },
         "name": "Future",
         "offset": [
          0,
          0
         ],
         "showlegend": false,
         "text": "Future",
         "textposition": "auto",
         "type": "bar",
         "width": 0.8,
         "x": [
          "May"
         ],
         "y": [
          39716181
         ]
        },
        {
         "marker": {
          "color": "bisque"
         },
         "name": "Kendrick Lamar",
         "offset": [
          0,
          0
         ],
         "showlegend": false,
         "text": "Kendrick Lamar",
         "textposition": "auto",
         "type": "bar",
         "width": 0.8,
         "x": [
          "June"
         ],
         "y": [
          64343781
         ]
        },
        {
         "marker": {
          "color": "brown"
         },
         "name": "DJ Khaled",
         "offset": [
          0,
          0
         ],
         "showlegend": false,
         "text": "DJ Khaled",
         "textposition": "auto",
         "type": "bar",
         "width": 0.8,
         "x": [
          "June"
         ],
         "y": [
          60986254
         ]
        },
        {
         "marker": {
          "color": "cadetblue"
         },
         "name": "Luis Fonsi",
         "offset": [
          0,
          0
         ],
         "showlegend": false,
         "text": "Luis Fonsi",
         "textposition": "auto",
         "type": "bar",
         "width": 0.8,
         "x": [
          "June"
         ],
         "y": [
          49404165
         ]
        },
        {
         "marker": {
          "color": "blueviolet"
         },
         "name": "Lil Uzi Vert",
         "offset": [
          0,
          0
         ],
         "showlegend": false,
         "text": "Lil Uzi Vert",
         "textposition": "auto",
         "type": "bar",
         "width": 0.8,
         "x": [
          "June"
         ],
         "y": [
          42882940
         ]
        },
        {
         "marker": {
          "color": "chartreuse"
         },
         "name": "Post Malone",
         "offset": [
          0,
          0
         ],
         "showlegend": false,
         "text": "Post Malone",
         "textposition": "auto",
         "type": "bar",
         "width": 0.8,
         "x": [
          "June"
         ],
         "y": [
          31970269
         ]
        },
        {
         "marker": {
          "color": "brown"
         },
         "name": "DJ Khaled",
         "offset": [
          0,
          0
         ],
         "showlegend": false,
         "text": "DJ Khaled",
         "textposition": "auto",
         "type": "bar",
         "width": 0.8,
         "x": [
          "July"
         ],
         "y": [
          73382697
         ]
        },
        {
         "marker": {
          "color": "cadetblue"
         },
         "name": "Luis Fonsi",
         "offset": [
          0,
          0
         ],
         "showlegend": false,
         "text": "Luis Fonsi",
         "textposition": "auto",
         "type": "bar",
         "width": 0.8,
         "x": [
          "July"
         ],
         "y": [
          42043755
         ]
        },
        {
         "marker": {
          "color": "blueviolet"
         },
         "name": "Lil Uzi Vert",
         "offset": [
          0,
          0
         ],
         "showlegend": false,
         "text": "Lil Uzi Vert",
         "textposition": "auto",
         "type": "bar",
         "width": 0.8,
         "x": [
          "July"
         ],
         "y": [
          39437995
         ]
        },
        {
         "marker": {
          "color": "chocolate"
         },
         "name": "French Montana",
         "offset": [
          0,
          0
         ],
         "showlegend": false,
         "text": "French Montana",
         "textposition": "auto",
         "type": "bar",
         "width": 0.8,
         "x": [
          "July"
         ],
         "y": [
          35875645
         ]
        },
        {
         "marker": {
          "color": "bisque"
         },
         "name": "Kendrick Lamar",
         "offset": [
          0,
          0
         ],
         "showlegend": false,
         "text": "Kendrick Lamar",
         "textposition": "auto",
         "type": "bar",
         "width": 0.8,
         "x": [
          "July"
         ],
         "y": [
          33209633
         ]
        },
        {
         "marker": {
          "color": "blueviolet"
         },
         "name": "Lil Uzi Vert",
         "offset": [
          0,
          0
         ],
         "showlegend": false,
         "text": "Lil Uzi Vert",
         "textposition": "auto",
         "type": "bar",
         "width": 0.8,
         "x": [
          "August"
         ],
         "y": [
          42873980
         ]
        },
        {
         "marker": {
          "color": "brown"
         },
         "name": "DJ Khaled",
         "offset": [
          0,
          0
         ],
         "showlegend": false,
         "text": "DJ Khaled",
         "textposition": "auto",
         "type": "bar",
         "width": 0.8,
         "x": [
          "August"
         ],
         "y": [
          40486733
         ]
        },
        {
         "marker": {
          "color": "coral"
         },
         "name": "21 Savage",
         "offset": [
          0,
          0
         ],
         "showlegend": false,
         "text": "21 Savage",
         "textposition": "auto",
         "type": "bar",
         "width": 0.8,
         "x": [
          "August"
         ],
         "y": [
          35976255
         ]
        },
        {
         "marker": {
          "color": "chocolate"
         },
         "name": "French Montana",
         "offset": [
          0,
          0
         ],
         "showlegend": false,
         "text": "French Montana",
         "textposition": "auto",
         "type": "bar",
         "width": 0.8,
         "x": [
          "August"
         ],
         "y": [
          33742658
         ]
        },
        {
         "marker": {
          "color": "bisque"
         },
         "name": "Kendrick Lamar",
         "offset": [
          0,
          0
         ],
         "showlegend": false,
         "text": "Kendrick Lamar",
         "textposition": "auto",
         "type": "bar",
         "width": 0.8,
         "x": [
          "August"
         ],
         "y": [
          24077746
         ]
        },
        {
         "marker": {
          "color": "cornflowerblue"
         },
         "name": "Logic",
         "offset": [
          0,
          0
         ],
         "showlegend": false,
         "text": "Logic",
         "textposition": "auto",
         "type": "bar",
         "width": 0.8,
         "x": [
          "September"
         ],
         "y": [
          42249541
         ]
        },
        {
         "marker": {
          "color": "chartreuse"
         },
         "name": "Post Malone",
         "offset": [
          0,
          0
         ],
         "showlegend": false,
         "text": "Post Malone",
         "textposition": "auto",
         "type": "bar",
         "width": 0.8,
         "x": [
          "September"
         ],
         "y": [
          40401587
         ]
        },
        {
         "marker": {
          "color": "cornsilk"
         },
         "name": "Cardi B",
         "offset": [
          0,
          0
         ],
         "showlegend": false,
         "text": "Cardi B",
         "textposition": "auto",
         "type": "bar",
         "width": 0.8,
         "x": [
          "September"
         ],
         "y": [
          36376450
         ]
        },
        {
         "marker": {
          "color": "blueviolet"
         },
         "name": "Lil Uzi Vert",
         "offset": [
          0,
          0
         ],
         "showlegend": false,
         "text": "Lil Uzi Vert",
         "textposition": "auto",
         "type": "bar",
         "width": 0.8,
         "x": [
          "September"
         ],
         "y": [
          35497189
         ]
        },
        {
         "marker": {
          "color": "coral"
         },
         "name": "21 Savage",
         "offset": [
          0,
          0
         ],
         "showlegend": false,
         "text": "21 Savage",
         "textposition": "auto",
         "type": "bar",
         "width": 0.8,
         "x": [
          "September"
         ],
         "y": [
          35483561
         ]
        },
        {
         "marker": {
          "color": "chartreuse"
         },
         "name": "Post Malone",
         "offset": [
          0,
          0
         ],
         "showlegend": false,
         "text": "Post Malone",
         "textposition": "auto",
         "type": "bar",
         "width": 0.8,
         "x": [
          "October"
         ],
         "y": [
          113800394
         ]
        },
        {
         "marker": {
          "color": "cornflowerblue"
         },
         "name": "Logic",
         "offset": [
          0,
          0
         ],
         "showlegend": false,
         "text": "Logic",
         "textposition": "auto",
         "type": "bar",
         "width": 0.8,
         "x": [
          "October"
         ],
         "y": [
          34162724
         ]
        },
        {
         "marker": {
          "color": "coral"
         },
         "name": "21 Savage",
         "offset": [
          0,
          0
         ],
         "showlegend": false,
         "text": "21 Savage",
         "textposition": "auto",
         "type": "bar",
         "width": 0.8,
         "x": [
          "October"
         ],
         "y": [
          33896084
         ]
        },
        {
         "marker": {
          "color": "blueviolet"
         },
         "name": "Lil Uzi Vert",
         "offset": [
          0,
          0
         ],
         "showlegend": false,
         "text": "Lil Uzi Vert",
         "textposition": "auto",
         "type": "bar",
         "width": 0.8,
         "x": [
          "October"
         ],
         "y": [
          31429630
         ]
        },
        {
         "marker": {
          "color": "cornsilk"
         },
         "name": "Cardi B",
         "offset": [
          0,
          0
         ],
         "showlegend": false,
         "text": "Cardi B",
         "textposition": "auto",
         "type": "bar",
         "width": 0.8,
         "x": [
          "October"
         ],
         "y": [
          30173493
         ]
        },
        {
         "marker": {
          "color": "chartreuse"
         },
         "name": "Post Malone",
         "offset": [
          0,
          0
         ],
         "showlegend": false,
         "text": "Post Malone",
         "textposition": "auto",
         "type": "bar",
         "width": 0.8,
         "x": [
          "November"
         ],
         "y": [
          101920751
         ]
        },
        {
         "marker": {
          "color": "crimson"
         },
         "name": "Lil Pump",
         "offset": [
          0,
          0
         ],
         "showlegend": false,
         "text": "Lil Pump",
         "textposition": "auto",
         "type": "bar",
         "width": 0.8,
         "x": [
          "November"
         ],
         "y": [
          40438182
         ]
        },
        {
         "marker": {
          "color": "coral"
         },
         "name": "21 Savage",
         "offset": [
          0,
          0
         ],
         "showlegend": false,
         "text": "21 Savage",
         "textposition": "auto",
         "type": "bar",
         "width": 0.8,
         "x": [
          "November"
         ],
         "y": [
          32977268
         ]
        },
        {
         "marker": {
          "color": "cyan"
         },
         "name": "Camila Cabello",
         "offset": [
          0,
          0
         ],
         "showlegend": false,
         "text": "Camila Cabello",
         "textposition": "auto",
         "type": "bar",
         "width": 0.8,
         "x": [
          "November"
         ],
         "y": [
          30314231
         ]
        },
        {
         "marker": {
          "color": "darkblue"
         },
         "name": "Sam Smith",
         "offset": [
          0,
          0
         ],
         "showlegend": false,
         "text": "Sam Smith",
         "textposition": "auto",
         "type": "bar",
         "width": 0.8,
         "x": [
          "November"
         ],
         "y": [
          26746772
         ]
        },
        {
         "marker": {
          "color": "chartreuse"
         },
         "name": "Post Malone",
         "offset": [
          0,
          0
         ],
         "showlegend": false,
         "text": "Post Malone",
         "textposition": "auto",
         "type": "bar",
         "width": 0.8,
         "x": [
          "December"
         ],
         "y": [
          101746558
         ]
        },
        {
         "marker": {
          "color": "darkcyan"
         },
         "name": "G-Eazy",
         "offset": [
          0,
          0
         ],
         "showlegend": false,
         "text": "G-Eazy",
         "textposition": "auto",
         "type": "bar",
         "width": 0.8,
         "x": [
          "December"
         ],
         "y": [
          47188725
         ]
        },
        {
         "marker": {
          "color": "crimson"
         },
         "name": "Lil Pump",
         "offset": [
          0,
          0
         ],
         "showlegend": false,
         "text": "Lil Pump",
         "textposition": "auto",
         "type": "bar",
         "width": 0.8,
         "x": [
          "December"
         ],
         "y": [
          31545806
         ]
        },
        {
         "marker": {
          "color": "darkgoldenrod"
         },
         "name": "Offset",
         "offset": [
          0,
          0
         ],
         "showlegend": false,
         "text": "Offset",
         "textposition": "auto",
         "type": "bar",
         "width": 0.8,
         "x": [
          "December"
         ],
         "y": [
          25313065
         ]
        },
        {
         "marker": {
          "color": "darkgrey"
         },
         "name": "Mariah Carey",
         "offset": [
          0,
          0
         ],
         "showlegend": false,
         "text": "Mariah Carey",
         "textposition": "auto",
         "type": "bar",
         "width": 0.8,
         "x": [
          "December"
         ],
         "y": [
          23393663
         ]
        }
       ],
       "layout": {
        "template": {
         "data": {
          "bar": [
           {
            "error_x": {
             "color": "#2a3f5f"
            },
            "error_y": {
             "color": "#2a3f5f"
            },
            "marker": {
             "line": {
              "color": "#E5ECF6",
              "width": 0.5
             }
            },
            "type": "bar"
           }
          ],
          "barpolar": [
           {
            "marker": {
             "line": {
              "color": "#E5ECF6",
              "width": 0.5
             }
            },
            "type": "barpolar"
           }
          ],
          "carpet": [
           {
            "aaxis": {
             "endlinecolor": "#2a3f5f",
             "gridcolor": "white",
             "linecolor": "white",
             "minorgridcolor": "white",
             "startlinecolor": "#2a3f5f"
            },
            "baxis": {
             "endlinecolor": "#2a3f5f",
             "gridcolor": "white",
             "linecolor": "white",
             "minorgridcolor": "white",
             "startlinecolor": "#2a3f5f"
            },
            "type": "carpet"
           }
          ],
          "choropleth": [
           {
            "colorbar": {
             "outlinewidth": 0,
             "ticks": ""
            },
            "type": "choropleth"
           }
          ],
          "contour": [
           {
            "colorbar": {
             "outlinewidth": 0,
             "ticks": ""
            },
            "colorscale": [
             [
              0,
              "#0d0887"
             ],
             [
              0.1111111111111111,
              "#46039f"
             ],
             [
              0.2222222222222222,
              "#7201a8"
             ],
             [
              0.3333333333333333,
              "#9c179e"
             ],
             [
              0.4444444444444444,
              "#bd3786"
             ],
             [
              0.5555555555555556,
              "#d8576b"
             ],
             [
              0.6666666666666666,
              "#ed7953"
             ],
             [
              0.7777777777777778,
              "#fb9f3a"
             ],
             [
              0.8888888888888888,
              "#fdca26"
             ],
             [
              1,
              "#f0f921"
             ]
            ],
            "type": "contour"
           }
          ],
          "contourcarpet": [
           {
            "colorbar": {
             "outlinewidth": 0,
             "ticks": ""
            },
            "type": "contourcarpet"
           }
          ],
          "heatmap": [
           {
            "colorbar": {
             "outlinewidth": 0,
             "ticks": ""
            },
            "colorscale": [
             [
              0,
              "#0d0887"
             ],
             [
              0.1111111111111111,
              "#46039f"
             ],
             [
              0.2222222222222222,
              "#7201a8"
             ],
             [
              0.3333333333333333,
              "#9c179e"
             ],
             [
              0.4444444444444444,
              "#bd3786"
             ],
             [
              0.5555555555555556,
              "#d8576b"
             ],
             [
              0.6666666666666666,
              "#ed7953"
             ],
             [
              0.7777777777777778,
              "#fb9f3a"
             ],
             [
              0.8888888888888888,
              "#fdca26"
             ],
             [
              1,
              "#f0f921"
             ]
            ],
            "type": "heatmap"
           }
          ],
          "heatmapgl": [
           {
            "colorbar": {
             "outlinewidth": 0,
             "ticks": ""
            },
            "colorscale": [
             [
              0,
              "#0d0887"
             ],
             [
              0.1111111111111111,
              "#46039f"
             ],
             [
              0.2222222222222222,
              "#7201a8"
             ],
             [
              0.3333333333333333,
              "#9c179e"
             ],
             [
              0.4444444444444444,
              "#bd3786"
             ],
             [
              0.5555555555555556,
              "#d8576b"
             ],
             [
              0.6666666666666666,
              "#ed7953"
             ],
             [
              0.7777777777777778,
              "#fb9f3a"
             ],
             [
              0.8888888888888888,
              "#fdca26"
             ],
             [
              1,
              "#f0f921"
             ]
            ],
            "type": "heatmapgl"
           }
          ],
          "histogram": [
           {
            "marker": {
             "colorbar": {
              "outlinewidth": 0,
              "ticks": ""
             }
            },
            "type": "histogram"
           }
          ],
          "histogram2d": [
           {
            "colorbar": {
             "outlinewidth": 0,
             "ticks": ""
            },
            "colorscale": [
             [
              0,
              "#0d0887"
             ],
             [
              0.1111111111111111,
              "#46039f"
             ],
             [
              0.2222222222222222,
              "#7201a8"
             ],
             [
              0.3333333333333333,
              "#9c179e"
             ],
             [
              0.4444444444444444,
              "#bd3786"
             ],
             [
              0.5555555555555556,
              "#d8576b"
             ],
             [
              0.6666666666666666,
              "#ed7953"
             ],
             [
              0.7777777777777778,
              "#fb9f3a"
             ],
             [
              0.8888888888888888,
              "#fdca26"
             ],
             [
              1,
              "#f0f921"
             ]
            ],
            "type": "histogram2d"
           }
          ],
          "histogram2dcontour": [
           {
            "colorbar": {
             "outlinewidth": 0,
             "ticks": ""
            },
            "colorscale": [
             [
              0,
              "#0d0887"
             ],
             [
              0.1111111111111111,
              "#46039f"
             ],
             [
              0.2222222222222222,
              "#7201a8"
             ],
             [
              0.3333333333333333,
              "#9c179e"
             ],
             [
              0.4444444444444444,
              "#bd3786"
             ],
             [
              0.5555555555555556,
              "#d8576b"
             ],
             [
              0.6666666666666666,
              "#ed7953"
             ],
             [
              0.7777777777777778,
              "#fb9f3a"
             ],
             [
              0.8888888888888888,
              "#fdca26"
             ],
             [
              1,
              "#f0f921"
             ]
            ],
            "type": "histogram2dcontour"
           }
          ],
          "mesh3d": [
           {
            "colorbar": {
             "outlinewidth": 0,
             "ticks": ""
            },
            "type": "mesh3d"
           }
          ],
          "parcoords": [
           {
            "line": {
             "colorbar": {
              "outlinewidth": 0,
              "ticks": ""
             }
            },
            "type": "parcoords"
           }
          ],
          "scatter": [
           {
            "marker": {
             "colorbar": {
              "outlinewidth": 0,
              "ticks": ""
             }
            },
            "type": "scatter"
           }
          ],
          "scatter3d": [
           {
            "line": {
             "colorbar": {
              "outlinewidth": 0,
              "ticks": ""
             }
            },
            "marker": {
             "colorbar": {
              "outlinewidth": 0,
              "ticks": ""
             }
            },
            "type": "scatter3d"
           }
          ],
          "scattercarpet": [
           {
            "marker": {
             "colorbar": {
              "outlinewidth": 0,
              "ticks": ""
             }
            },
            "type": "scattercarpet"
           }
          ],
          "scattergeo": [
           {
            "marker": {
             "colorbar": {
              "outlinewidth": 0,
              "ticks": ""
             }
            },
            "type": "scattergeo"
           }
          ],
          "scattergl": [
           {
            "marker": {
             "colorbar": {
              "outlinewidth": 0,
              "ticks": ""
             }
            },
            "type": "scattergl"
           }
          ],
          "scattermapbox": [
           {
            "marker": {
             "colorbar": {
              "outlinewidth": 0,
              "ticks": ""
             }
            },
            "type": "scattermapbox"
           }
          ],
          "scatterpolar": [
           {
            "marker": {
             "colorbar": {
              "outlinewidth": 0,
              "ticks": ""
             }
            },
            "type": "scatterpolar"
           }
          ],
          "scatterpolargl": [
           {
            "marker": {
             "colorbar": {
              "outlinewidth": 0,
              "ticks": ""
             }
            },
            "type": "scatterpolargl"
           }
          ],
          "scatterternary": [
           {
            "marker": {
             "colorbar": {
              "outlinewidth": 0,
              "ticks": ""
             }
            },
            "type": "scatterternary"
           }
          ],
          "surface": [
           {
            "colorbar": {
             "outlinewidth": 0,
             "ticks": ""
            },
            "colorscale": [
             [
              0,
              "#0d0887"
             ],
             [
              0.1111111111111111,
              "#46039f"
             ],
             [
              0.2222222222222222,
              "#7201a8"
             ],
             [
              0.3333333333333333,
              "#9c179e"
             ],
             [
              0.4444444444444444,
              "#bd3786"
             ],
             [
              0.5555555555555556,
              "#d8576b"
             ],
             [
              0.6666666666666666,
              "#ed7953"
             ],
             [
              0.7777777777777778,
              "#fb9f3a"
             ],
             [
              0.8888888888888888,
              "#fdca26"
             ],
             [
              1,
              "#f0f921"
             ]
            ],
            "type": "surface"
           }
          ],
          "table": [
           {
            "cells": {
             "fill": {
              "color": "#EBF0F8"
             },
             "line": {
              "color": "white"
             }
            },
            "header": {
             "fill": {
              "color": "#C8D4E3"
             },
             "line": {
              "color": "white"
             }
            },
            "type": "table"
           }
          ]
         },
         "layout": {
          "annotationdefaults": {
           "arrowcolor": "#2a3f5f",
           "arrowhead": 0,
           "arrowwidth": 1
          },
          "colorscale": {
           "diverging": [
            [
             0,
             "#8e0152"
            ],
            [
             0.1,
             "#c51b7d"
            ],
            [
             0.2,
             "#de77ae"
            ],
            [
             0.3,
             "#f1b6da"
            ],
            [
             0.4,
             "#fde0ef"
            ],
            [
             0.5,
             "#f7f7f7"
            ],
            [
             0.6,
             "#e6f5d0"
            ],
            [
             0.7,
             "#b8e186"
            ],
            [
             0.8,
             "#7fbc41"
            ],
            [
             0.9,
             "#4d9221"
            ],
            [
             1,
             "#276419"
            ]
           ],
           "sequential": [
            [
             0,
             "#0d0887"
            ],
            [
             0.1111111111111111,
             "#46039f"
            ],
            [
             0.2222222222222222,
             "#7201a8"
            ],
            [
             0.3333333333333333,
             "#9c179e"
            ],
            [
             0.4444444444444444,
             "#bd3786"
            ],
            [
             0.5555555555555556,
             "#d8576b"
            ],
            [
             0.6666666666666666,
             "#ed7953"
            ],
            [
             0.7777777777777778,
             "#fb9f3a"
            ],
            [
             0.8888888888888888,
             "#fdca26"
            ],
            [
             1,
             "#f0f921"
            ]
           ],
           "sequentialminus": [
            [
             0,
             "#0d0887"
            ],
            [
             0.1111111111111111,
             "#46039f"
            ],
            [
             0.2222222222222222,
             "#7201a8"
            ],
            [
             0.3333333333333333,
             "#9c179e"
            ],
            [
             0.4444444444444444,
             "#bd3786"
            ],
            [
             0.5555555555555556,
             "#d8576b"
            ],
            [
             0.6666666666666666,
             "#ed7953"
            ],
            [
             0.7777777777777778,
             "#fb9f3a"
            ],
            [
             0.8888888888888888,
             "#fdca26"
            ],
            [
             1,
             "#f0f921"
            ]
           ]
          },
          "colorway": [
           "#636efa",
           "#EF553B",
           "#00cc96",
           "#ab63fa",
           "#FFA15A",
           "#19d3f3",
           "#FF6692",
           "#B6E880",
           "#FF97FF",
           "#FECB52"
          ],
          "font": {
           "color": "#2a3f5f"
          },
          "geo": {
           "bgcolor": "white",
           "lakecolor": "white",
           "landcolor": "#E5ECF6",
           "showlakes": true,
           "showland": true,
           "subunitcolor": "white"
          },
          "hoverlabel": {
           "align": "left"
          },
          "hovermode": "closest",
          "mapbox": {
           "style": "light"
          },
          "paper_bgcolor": "white",
          "plot_bgcolor": "#E5ECF6",
          "polar": {
           "angularaxis": {
            "gridcolor": "white",
            "linecolor": "white",
            "ticks": ""
           },
           "bgcolor": "#E5ECF6",
           "radialaxis": {
            "gridcolor": "white",
            "linecolor": "white",
            "ticks": ""
           }
          },
          "scene": {
           "xaxis": {
            "backgroundcolor": "#E5ECF6",
            "gridcolor": "white",
            "gridwidth": 2,
            "linecolor": "white",
            "showbackground": true,
            "ticks": "",
            "zerolinecolor": "white"
           },
           "yaxis": {
            "backgroundcolor": "#E5ECF6",
            "gridcolor": "white",
            "gridwidth": 2,
            "linecolor": "white",
            "showbackground": true,
            "ticks": "",
            "zerolinecolor": "white"
           },
           "zaxis": {
            "backgroundcolor": "#E5ECF6",
            "gridcolor": "white",
            "gridwidth": 2,
            "linecolor": "white",
            "showbackground": true,
            "ticks": "",
            "zerolinecolor": "white"
           }
          },
          "shapedefaults": {
           "line": {
            "color": "#2a3f5f"
           }
          },
          "ternary": {
           "aaxis": {
            "gridcolor": "white",
            "linecolor": "white",
            "ticks": ""
           },
           "baxis": {
            "gridcolor": "white",
            "linecolor": "white",
            "ticks": ""
           },
           "bgcolor": "#E5ECF6",
           "caxis": {
            "gridcolor": "white",
            "linecolor": "white",
            "ticks": ""
           }
          },
          "title": {
           "x": 0.05
          },
          "xaxis": {
           "automargin": true,
           "gridcolor": "white",
           "linecolor": "white",
           "ticks": "",
           "zerolinecolor": "white",
           "zerolinewidth": 2
          },
          "yaxis": {
           "automargin": true,
           "gridcolor": "white",
           "linecolor": "white",
           "ticks": "",
           "zerolinecolor": "white",
           "zerolinewidth": 2
          }
         }
        },
        "title": {
         "text": "Top 5 artist(s) in United States of America by streams of tracks in daily Top 10 chart (2017)<br>Source: <a href=\"https://www.kaggle.com/edumucelli/spotifys-worldwide-daily-song-ranking/version/3\">Spotify through Kaggle Datasets</a>"
        },
        "xaxis": {
         "tickangle": -45,
         "tickmode": "linear"
        },
        "yaxis": {
         "title": {
          "text": "Streams<br>(k=thousand, M=million)"
         }
        }
       }
      },
      "text/html": [
       "<div>\n",
       "        \n",
       "        \n",
       "            <div id=\"14fe37fe-c5b3-42f1-91ac-83a76da034b6\" class=\"plotly-graph-div\" style=\"height:525px; width:100%;\"></div>\n",
       "            <script type=\"text/javascript\">\n",
       "                require([\"plotly\"], function(Plotly) {\n",
       "                    window.PLOTLYENV=window.PLOTLYENV || {};\n",
       "                    \n",
       "                if (document.getElementById(\"14fe37fe-c5b3-42f1-91ac-83a76da034b6\")) {\n",
       "                    Plotly.newPlot(\n",
       "                        '14fe37fe-c5b3-42f1-91ac-83a76da034b6',\n",
       "                        [{\"marker\": {\"color\": \"#1f77b4\"}, \"name\": \"Migos\", \"offset\": [0, 0], \"showlegend\": false, \"text\": \"Migos\", \"textposition\": \"auto\", \"type\": \"bar\", \"width\": 0.8, \"x\": [\"January\"], \"y\": [50051581.0]}, {\"marker\": {\"color\": \"#ff7f0e\"}, \"name\": \"Ed Sheeran\", \"offset\": [0, 0], \"showlegend\": false, \"text\": \"Ed Sheeran\", \"textposition\": \"auto\", \"type\": \"bar\", \"width\": 0.8, \"x\": [\"January\"], \"y\": [44721488.0]}, {\"marker\": {\"color\": \"#2ca02c\"}, \"name\": \"Drake\", \"offset\": [0, 0], \"showlegend\": false, \"text\": \"Drake\", \"textposition\": \"auto\", \"type\": \"bar\", \"width\": 0.8, \"x\": [\"January\"], \"y\": [37308438.0]}, {\"marker\": {\"color\": \"#d62728\"}, \"name\": \"The Weeknd\", \"offset\": [0, 0], \"showlegend\": false, \"text\": \"The Weeknd\", \"textposition\": \"auto\", \"type\": \"bar\", \"width\": 0.8, \"x\": [\"January\"], \"y\": [33769781.0]}, {\"marker\": {\"color\": \"#9467bd\"}, \"name\": \"The Chainsmokers\", \"offset\": [0, 0], \"showlegend\": false, \"text\": \"The Chainsmokers\", \"textposition\": \"auto\", \"type\": \"bar\", \"width\": 0.8, \"x\": [\"January\"], \"y\": [27767730.0]}, {\"marker\": {\"color\": \"#1f77b4\"}, \"name\": \"Migos\", \"offset\": [0, 0], \"showlegend\": false, \"text\": \"Migos\", \"textposition\": \"auto\", \"type\": \"bar\", \"width\": 0.8, \"x\": [\"February\"], \"y\": [51796726.0]}, {\"marker\": {\"color\": \"#ff7f0e\"}, \"name\": \"Ed Sheeran\", \"offset\": [0, 0], \"showlegend\": false, \"text\": \"Ed Sheeran\", \"textposition\": \"auto\", \"type\": \"bar\", \"width\": 0.8, \"x\": [\"February\"], \"y\": [42125668.0]}, {\"marker\": {\"color\": \"#8c564b\"}, \"name\": \"Big Sean\", \"offset\": [0, 0], \"showlegend\": false, \"text\": \"Big Sean\", \"textposition\": \"auto\", \"type\": \"bar\", \"width\": 0.8, \"x\": [\"February\"], \"y\": [39609046.0]}, {\"marker\": {\"color\": \"#9467bd\"}, \"name\": \"The Chainsmokers\", \"offset\": [0, 0], \"showlegend\": false, \"text\": \"The Chainsmokers\", \"textposition\": \"auto\", \"type\": \"bar\", \"width\": 0.8, \"x\": [\"February\"], \"y\": [31407677.0]}, {\"marker\": {\"color\": \"#e377c2\"}, \"name\": \"ZAYN\", \"offset\": [0, 0], \"showlegend\": false, \"text\": \"ZAYN\", \"textposition\": \"auto\", \"type\": \"bar\", \"width\": 0.8, \"x\": [\"February\"], \"y\": [29904272.0]}, {\"marker\": {\"color\": \"#2ca02c\"}, \"name\": \"Drake\", \"offset\": [0, 0], \"showlegend\": false, \"text\": \"Drake\", \"textposition\": \"auto\", \"type\": \"bar\", \"width\": 0.8, \"x\": [\"March\"], \"y\": [121990611.0]}, {\"marker\": {\"color\": \"#ff7f0e\"}, \"name\": \"Ed Sheeran\", \"offset\": [0, 0], \"showlegend\": false, \"text\": \"Ed Sheeran\", \"textposition\": \"auto\", \"type\": \"bar\", \"width\": 0.8, \"x\": [\"March\"], \"y\": [62568330.0]}, {\"marker\": {\"color\": \"#7f7f7f\"}, \"name\": \"KYLE\", \"offset\": [0, 0], \"showlegend\": false, \"text\": \"KYLE\", \"textposition\": \"auto\", \"type\": \"bar\", \"width\": 0.8, \"x\": [\"March\"], \"y\": [31650275.0]}, {\"marker\": {\"color\": \"#bcbd22\"}, \"name\": \"Future\", \"offset\": [0, 0], \"showlegend\": false, \"text\": \"Future\", \"textposition\": \"auto\", \"type\": \"bar\", \"width\": 0.8, \"x\": [\"March\"], \"y\": [31402115.0]}, {\"marker\": {\"color\": \"#17becf\"}, \"name\": \"Bruno Mars\", \"offset\": [0, 0], \"showlegend\": false, \"text\": \"Bruno Mars\", \"textposition\": \"auto\", \"type\": \"bar\", \"width\": 0.8, \"x\": [\"March\"], \"y\": [30030717.0]}, {\"marker\": {\"color\": \"bisque\"}, \"name\": \"Kendrick Lamar\", \"offset\": [0, 0], \"showlegend\": false, \"text\": \"Kendrick Lamar\", \"textposition\": \"auto\", \"type\": \"bar\", \"width\": 0.8, \"x\": [\"April\"], \"y\": [225107265.0]}, {\"marker\": {\"color\": \"#bcbd22\"}, \"name\": \"Future\", \"offset\": [0, 0], \"showlegend\": false, \"text\": \"Future\", \"textposition\": \"auto\", \"type\": \"bar\", \"width\": 0.8, \"x\": [\"April\"], \"y\": [46310714.0]}, {\"marker\": {\"color\": \"#2ca02c\"}, \"name\": \"Drake\", \"offset\": [0, 0], \"showlegend\": false, \"text\": \"Drake\", \"textposition\": \"auto\", \"type\": \"bar\", \"width\": 0.8, \"x\": [\"April\"], \"y\": [44050886.0]}, {\"marker\": {\"color\": \"blueviolet\"}, \"name\": \"Lil Uzi Vert\", \"offset\": [0, 0], \"showlegend\": false, \"text\": \"Lil Uzi Vert\", \"textposition\": \"auto\", \"type\": \"bar\", \"width\": 0.8, \"x\": [\"April\"], \"y\": [34814835.0]}, {\"marker\": {\"color\": \"#7f7f7f\"}, \"name\": \"KYLE\", \"offset\": [0, 0], \"showlegend\": false, \"text\": \"KYLE\", \"textposition\": \"auto\", \"type\": \"bar\", \"width\": 0.8, \"x\": [\"April\"], \"y\": [26082836.0]}, {\"marker\": {\"color\": \"bisque\"}, \"name\": \"Kendrick Lamar\", \"offset\": [0, 0], \"showlegend\": false, \"text\": \"Kendrick Lamar\", \"textposition\": \"auto\", \"type\": \"bar\", \"width\": 0.8, \"x\": [\"May\"], \"y\": [108781649.0]}, {\"marker\": {\"color\": \"brown\"}, \"name\": \"DJ Khaled\", \"offset\": [0, 0], \"showlegend\": false, \"text\": \"DJ Khaled\", \"textposition\": \"auto\", \"type\": \"bar\", \"width\": 0.8, \"x\": [\"May\"], \"y\": [56128025.0]}, {\"marker\": {\"color\": \"cadetblue\"}, \"name\": \"Luis Fonsi\", \"offset\": [0, 0], \"showlegend\": false, \"text\": \"Luis Fonsi\", \"textposition\": \"auto\", \"type\": \"bar\", \"width\": 0.8, \"x\": [\"May\"], \"y\": [53856978.0]}, {\"marker\": {\"color\": \"blueviolet\"}, \"name\": \"Lil Uzi Vert\", \"offset\": [0, 0], \"showlegend\": false, \"text\": \"Lil Uzi Vert\", \"textposition\": \"auto\", \"type\": \"bar\", \"width\": 0.8, \"x\": [\"May\"], \"y\": [43684684.0]}, {\"marker\": {\"color\": \"#bcbd22\"}, \"name\": \"Future\", \"offset\": [0, 0], \"showlegend\": false, \"text\": \"Future\", \"textposition\": \"auto\", \"type\": \"bar\", \"width\": 0.8, \"x\": [\"May\"], \"y\": [39716181.0]}, {\"marker\": {\"color\": \"bisque\"}, \"name\": \"Kendrick Lamar\", \"offset\": [0, 0], \"showlegend\": false, \"text\": \"Kendrick Lamar\", \"textposition\": \"auto\", \"type\": \"bar\", \"width\": 0.8, \"x\": [\"June\"], \"y\": [64343781.0]}, {\"marker\": {\"color\": \"brown\"}, \"name\": \"DJ Khaled\", \"offset\": [0, 0], \"showlegend\": false, \"text\": \"DJ Khaled\", \"textposition\": \"auto\", \"type\": \"bar\", \"width\": 0.8, \"x\": [\"June\"], \"y\": [60986254.0]}, {\"marker\": {\"color\": \"cadetblue\"}, \"name\": \"Luis Fonsi\", \"offset\": [0, 0], \"showlegend\": false, \"text\": \"Luis Fonsi\", \"textposition\": \"auto\", \"type\": \"bar\", \"width\": 0.8, \"x\": [\"June\"], \"y\": [49404165.0]}, {\"marker\": {\"color\": \"blueviolet\"}, \"name\": \"Lil Uzi Vert\", \"offset\": [0, 0], \"showlegend\": false, \"text\": \"Lil Uzi Vert\", \"textposition\": \"auto\", \"type\": \"bar\", \"width\": 0.8, \"x\": [\"June\"], \"y\": [42882940.0]}, {\"marker\": {\"color\": \"chartreuse\"}, \"name\": \"Post Malone\", \"offset\": [0, 0], \"showlegend\": false, \"text\": \"Post Malone\", \"textposition\": \"auto\", \"type\": \"bar\", \"width\": 0.8, \"x\": [\"June\"], \"y\": [31970269.0]}, {\"marker\": {\"color\": \"brown\"}, \"name\": \"DJ Khaled\", \"offset\": [0, 0], \"showlegend\": false, \"text\": \"DJ Khaled\", \"textposition\": \"auto\", \"type\": \"bar\", \"width\": 0.8, \"x\": [\"July\"], \"y\": [73382697.0]}, {\"marker\": {\"color\": \"cadetblue\"}, \"name\": \"Luis Fonsi\", \"offset\": [0, 0], \"showlegend\": false, \"text\": \"Luis Fonsi\", \"textposition\": \"auto\", \"type\": \"bar\", \"width\": 0.8, \"x\": [\"July\"], \"y\": [42043755.0]}, {\"marker\": {\"color\": \"blueviolet\"}, \"name\": \"Lil Uzi Vert\", \"offset\": [0, 0], \"showlegend\": false, \"text\": \"Lil Uzi Vert\", \"textposition\": \"auto\", \"type\": \"bar\", \"width\": 0.8, \"x\": [\"July\"], \"y\": [39437995.0]}, {\"marker\": {\"color\": \"chocolate\"}, \"name\": \"French Montana\", \"offset\": [0, 0], \"showlegend\": false, \"text\": \"French Montana\", \"textposition\": \"auto\", \"type\": \"bar\", \"width\": 0.8, \"x\": [\"July\"], \"y\": [35875645.0]}, {\"marker\": {\"color\": \"bisque\"}, \"name\": \"Kendrick Lamar\", \"offset\": [0, 0], \"showlegend\": false, \"text\": \"Kendrick Lamar\", \"textposition\": \"auto\", \"type\": \"bar\", \"width\": 0.8, \"x\": [\"July\"], \"y\": [33209633.0]}, {\"marker\": {\"color\": \"blueviolet\"}, \"name\": \"Lil Uzi Vert\", \"offset\": [0, 0], \"showlegend\": false, \"text\": \"Lil Uzi Vert\", \"textposition\": \"auto\", \"type\": \"bar\", \"width\": 0.8, \"x\": [\"August\"], \"y\": [42873980.0]}, {\"marker\": {\"color\": \"brown\"}, \"name\": \"DJ Khaled\", \"offset\": [0, 0], \"showlegend\": false, \"text\": \"DJ Khaled\", \"textposition\": \"auto\", \"type\": \"bar\", \"width\": 0.8, \"x\": [\"August\"], \"y\": [40486733.0]}, {\"marker\": {\"color\": \"coral\"}, \"name\": \"21 Savage\", \"offset\": [0, 0], \"showlegend\": false, \"text\": \"21 Savage\", \"textposition\": \"auto\", \"type\": \"bar\", \"width\": 0.8, \"x\": [\"August\"], \"y\": [35976255.0]}, {\"marker\": {\"color\": \"chocolate\"}, \"name\": \"French Montana\", \"offset\": [0, 0], \"showlegend\": false, \"text\": \"French Montana\", \"textposition\": \"auto\", \"type\": \"bar\", \"width\": 0.8, \"x\": [\"August\"], \"y\": [33742658.0]}, {\"marker\": {\"color\": \"bisque\"}, \"name\": \"Kendrick Lamar\", \"offset\": [0, 0], \"showlegend\": false, \"text\": \"Kendrick Lamar\", \"textposition\": \"auto\", \"type\": \"bar\", \"width\": 0.8, \"x\": [\"August\"], \"y\": [24077746.0]}, {\"marker\": {\"color\": \"cornflowerblue\"}, \"name\": \"Logic\", \"offset\": [0, 0], \"showlegend\": false, \"text\": \"Logic\", \"textposition\": \"auto\", \"type\": \"bar\", \"width\": 0.8, \"x\": [\"September\"], \"y\": [42249541.0]}, {\"marker\": {\"color\": \"chartreuse\"}, \"name\": \"Post Malone\", \"offset\": [0, 0], \"showlegend\": false, \"text\": \"Post Malone\", \"textposition\": \"auto\", \"type\": \"bar\", \"width\": 0.8, \"x\": [\"September\"], \"y\": [40401587.0]}, {\"marker\": {\"color\": \"cornsilk\"}, \"name\": \"Cardi B\", \"offset\": [0, 0], \"showlegend\": false, \"text\": \"Cardi B\", \"textposition\": \"auto\", \"type\": \"bar\", \"width\": 0.8, \"x\": [\"September\"], \"y\": [36376450.0]}, {\"marker\": {\"color\": \"blueviolet\"}, \"name\": \"Lil Uzi Vert\", \"offset\": [0, 0], \"showlegend\": false, \"text\": \"Lil Uzi Vert\", \"textposition\": \"auto\", \"type\": \"bar\", \"width\": 0.8, \"x\": [\"September\"], \"y\": [35497189.0]}, {\"marker\": {\"color\": \"coral\"}, \"name\": \"21 Savage\", \"offset\": [0, 0], \"showlegend\": false, \"text\": \"21 Savage\", \"textposition\": \"auto\", \"type\": \"bar\", \"width\": 0.8, \"x\": [\"September\"], \"y\": [35483561.0]}, {\"marker\": {\"color\": \"chartreuse\"}, \"name\": \"Post Malone\", \"offset\": [0, 0], \"showlegend\": false, \"text\": \"Post Malone\", \"textposition\": \"auto\", \"type\": \"bar\", \"width\": 0.8, \"x\": [\"October\"], \"y\": [113800394.0]}, {\"marker\": {\"color\": \"cornflowerblue\"}, \"name\": \"Logic\", \"offset\": [0, 0], \"showlegend\": false, \"text\": \"Logic\", \"textposition\": \"auto\", \"type\": \"bar\", \"width\": 0.8, \"x\": [\"October\"], \"y\": [34162724.0]}, {\"marker\": {\"color\": \"coral\"}, \"name\": \"21 Savage\", \"offset\": [0, 0], \"showlegend\": false, \"text\": \"21 Savage\", \"textposition\": \"auto\", \"type\": \"bar\", \"width\": 0.8, \"x\": [\"October\"], \"y\": [33896084.0]}, {\"marker\": {\"color\": \"blueviolet\"}, \"name\": \"Lil Uzi Vert\", \"offset\": [0, 0], \"showlegend\": false, \"text\": \"Lil Uzi Vert\", \"textposition\": \"auto\", \"type\": \"bar\", \"width\": 0.8, \"x\": [\"October\"], \"y\": [31429630.0]}, {\"marker\": {\"color\": \"cornsilk\"}, \"name\": \"Cardi B\", \"offset\": [0, 0], \"showlegend\": false, \"text\": \"Cardi B\", \"textposition\": \"auto\", \"type\": \"bar\", \"width\": 0.8, \"x\": [\"October\"], \"y\": [30173493.0]}, {\"marker\": {\"color\": \"chartreuse\"}, \"name\": \"Post Malone\", \"offset\": [0, 0], \"showlegend\": false, \"text\": \"Post Malone\", \"textposition\": \"auto\", \"type\": \"bar\", \"width\": 0.8, \"x\": [\"November\"], \"y\": [101920751.0]}, {\"marker\": {\"color\": \"crimson\"}, \"name\": \"Lil Pump\", \"offset\": [0, 0], \"showlegend\": false, \"text\": \"Lil Pump\", \"textposition\": \"auto\", \"type\": \"bar\", \"width\": 0.8, \"x\": [\"November\"], \"y\": [40438182.0]}, {\"marker\": {\"color\": \"coral\"}, \"name\": \"21 Savage\", \"offset\": [0, 0], \"showlegend\": false, \"text\": \"21 Savage\", \"textposition\": \"auto\", \"type\": \"bar\", \"width\": 0.8, \"x\": [\"November\"], \"y\": [32977268.0]}, {\"marker\": {\"color\": \"cyan\"}, \"name\": \"Camila Cabello\", \"offset\": [0, 0], \"showlegend\": false, \"text\": \"Camila Cabello\", \"textposition\": \"auto\", \"type\": \"bar\", \"width\": 0.8, \"x\": [\"November\"], \"y\": [30314231.0]}, {\"marker\": {\"color\": \"darkblue\"}, \"name\": \"Sam Smith\", \"offset\": [0, 0], \"showlegend\": false, \"text\": \"Sam Smith\", \"textposition\": \"auto\", \"type\": \"bar\", \"width\": 0.8, \"x\": [\"November\"], \"y\": [26746772.0]}, {\"marker\": {\"color\": \"chartreuse\"}, \"name\": \"Post Malone\", \"offset\": [0, 0], \"showlegend\": false, \"text\": \"Post Malone\", \"textposition\": \"auto\", \"type\": \"bar\", \"width\": 0.8, \"x\": [\"December\"], \"y\": [101746558.0]}, {\"marker\": {\"color\": \"darkcyan\"}, \"name\": \"G-Eazy\", \"offset\": [0, 0], \"showlegend\": false, \"text\": \"G-Eazy\", \"textposition\": \"auto\", \"type\": \"bar\", \"width\": 0.8, \"x\": [\"December\"], \"y\": [47188725.0]}, {\"marker\": {\"color\": \"crimson\"}, \"name\": \"Lil Pump\", \"offset\": [0, 0], \"showlegend\": false, \"text\": \"Lil Pump\", \"textposition\": \"auto\", \"type\": \"bar\", \"width\": 0.8, \"x\": [\"December\"], \"y\": [31545806.0]}, {\"marker\": {\"color\": \"darkgoldenrod\"}, \"name\": \"Offset\", \"offset\": [0, 0], \"showlegend\": false, \"text\": \"Offset\", \"textposition\": \"auto\", \"type\": \"bar\", \"width\": 0.8, \"x\": [\"December\"], \"y\": [25313065.0]}, {\"marker\": {\"color\": \"darkgrey\"}, \"name\": \"Mariah Carey\", \"offset\": [0, 0], \"showlegend\": false, \"text\": \"Mariah Carey\", \"textposition\": \"auto\", \"type\": \"bar\", \"width\": 0.8, \"x\": [\"December\"], \"y\": [23393663.0]}],\n",
       "                        {\"template\": {\"data\": {\"bar\": [{\"error_x\": {\"color\": \"#2a3f5f\"}, \"error_y\": {\"color\": \"#2a3f5f\"}, \"marker\": {\"line\": {\"color\": \"#E5ECF6\", \"width\": 0.5}}, \"type\": \"bar\"}], \"barpolar\": [{\"marker\": {\"line\": {\"color\": \"#E5ECF6\", \"width\": 0.5}}, \"type\": \"barpolar\"}], \"carpet\": [{\"aaxis\": {\"endlinecolor\": \"#2a3f5f\", \"gridcolor\": \"white\", \"linecolor\": \"white\", \"minorgridcolor\": \"white\", \"startlinecolor\": \"#2a3f5f\"}, \"baxis\": {\"endlinecolor\": \"#2a3f5f\", \"gridcolor\": \"white\", \"linecolor\": \"white\", \"minorgridcolor\": \"white\", \"startlinecolor\": \"#2a3f5f\"}, \"type\": \"carpet\"}], \"choropleth\": [{\"colorbar\": {\"outlinewidth\": 0, \"ticks\": \"\"}, \"type\": \"choropleth\"}], \"contour\": [{\"colorbar\": {\"outlinewidth\": 0, \"ticks\": \"\"}, \"colorscale\": [[0.0, \"#0d0887\"], [0.1111111111111111, \"#46039f\"], [0.2222222222222222, \"#7201a8\"], [0.3333333333333333, \"#9c179e\"], [0.4444444444444444, \"#bd3786\"], [0.5555555555555556, \"#d8576b\"], [0.6666666666666666, \"#ed7953\"], [0.7777777777777778, \"#fb9f3a\"], [0.8888888888888888, \"#fdca26\"], [1.0, \"#f0f921\"]], \"type\": \"contour\"}], \"contourcarpet\": [{\"colorbar\": {\"outlinewidth\": 0, \"ticks\": \"\"}, \"type\": \"contourcarpet\"}], \"heatmap\": [{\"colorbar\": {\"outlinewidth\": 0, \"ticks\": \"\"}, \"colorscale\": [[0.0, \"#0d0887\"], [0.1111111111111111, \"#46039f\"], [0.2222222222222222, \"#7201a8\"], [0.3333333333333333, \"#9c179e\"], [0.4444444444444444, \"#bd3786\"], [0.5555555555555556, \"#d8576b\"], [0.6666666666666666, \"#ed7953\"], [0.7777777777777778, \"#fb9f3a\"], [0.8888888888888888, \"#fdca26\"], [1.0, \"#f0f921\"]], \"type\": \"heatmap\"}], \"heatmapgl\": [{\"colorbar\": {\"outlinewidth\": 0, \"ticks\": \"\"}, \"colorscale\": [[0.0, \"#0d0887\"], [0.1111111111111111, \"#46039f\"], [0.2222222222222222, \"#7201a8\"], [0.3333333333333333, \"#9c179e\"], [0.4444444444444444, \"#bd3786\"], [0.5555555555555556, \"#d8576b\"], [0.6666666666666666, \"#ed7953\"], [0.7777777777777778, \"#fb9f3a\"], [0.8888888888888888, \"#fdca26\"], [1.0, \"#f0f921\"]], \"type\": \"heatmapgl\"}], \"histogram\": [{\"marker\": {\"colorbar\": {\"outlinewidth\": 0, \"ticks\": \"\"}}, \"type\": \"histogram\"}], \"histogram2d\": [{\"colorbar\": {\"outlinewidth\": 0, \"ticks\": \"\"}, \"colorscale\": [[0.0, \"#0d0887\"], [0.1111111111111111, \"#46039f\"], [0.2222222222222222, \"#7201a8\"], [0.3333333333333333, \"#9c179e\"], [0.4444444444444444, \"#bd3786\"], [0.5555555555555556, \"#d8576b\"], [0.6666666666666666, \"#ed7953\"], [0.7777777777777778, \"#fb9f3a\"], [0.8888888888888888, \"#fdca26\"], [1.0, \"#f0f921\"]], \"type\": \"histogram2d\"}], \"histogram2dcontour\": [{\"colorbar\": {\"outlinewidth\": 0, \"ticks\": \"\"}, \"colorscale\": [[0.0, \"#0d0887\"], [0.1111111111111111, \"#46039f\"], [0.2222222222222222, \"#7201a8\"], [0.3333333333333333, \"#9c179e\"], [0.4444444444444444, \"#bd3786\"], [0.5555555555555556, \"#d8576b\"], [0.6666666666666666, \"#ed7953\"], [0.7777777777777778, \"#fb9f3a\"], [0.8888888888888888, \"#fdca26\"], [1.0, \"#f0f921\"]], \"type\": \"histogram2dcontour\"}], \"mesh3d\": [{\"colorbar\": {\"outlinewidth\": 0, \"ticks\": \"\"}, \"type\": \"mesh3d\"}], \"parcoords\": [{\"line\": {\"colorbar\": {\"outlinewidth\": 0, \"ticks\": \"\"}}, \"type\": \"parcoords\"}], \"scatter\": [{\"marker\": {\"colorbar\": {\"outlinewidth\": 0, \"ticks\": \"\"}}, \"type\": \"scatter\"}], \"scatter3d\": [{\"line\": {\"colorbar\": {\"outlinewidth\": 0, \"ticks\": \"\"}}, \"marker\": {\"colorbar\": {\"outlinewidth\": 0, \"ticks\": \"\"}}, \"type\": \"scatter3d\"}], \"scattercarpet\": [{\"marker\": {\"colorbar\": {\"outlinewidth\": 0, \"ticks\": \"\"}}, \"type\": \"scattercarpet\"}], \"scattergeo\": [{\"marker\": {\"colorbar\": {\"outlinewidth\": 0, \"ticks\": \"\"}}, \"type\": \"scattergeo\"}], \"scattergl\": [{\"marker\": {\"colorbar\": {\"outlinewidth\": 0, \"ticks\": \"\"}}, \"type\": \"scattergl\"}], \"scattermapbox\": [{\"marker\": {\"colorbar\": {\"outlinewidth\": 0, \"ticks\": \"\"}}, \"type\": \"scattermapbox\"}], \"scatterpolar\": [{\"marker\": {\"colorbar\": {\"outlinewidth\": 0, \"ticks\": \"\"}}, \"type\": \"scatterpolar\"}], \"scatterpolargl\": [{\"marker\": {\"colorbar\": {\"outlinewidth\": 0, \"ticks\": \"\"}}, \"type\": \"scatterpolargl\"}], \"scatterternary\": [{\"marker\": {\"colorbar\": {\"outlinewidth\": 0, \"ticks\": \"\"}}, \"type\": \"scatterternary\"}], \"surface\": [{\"colorbar\": {\"outlinewidth\": 0, \"ticks\": \"\"}, \"colorscale\": [[0.0, \"#0d0887\"], [0.1111111111111111, \"#46039f\"], [0.2222222222222222, \"#7201a8\"], [0.3333333333333333, \"#9c179e\"], [0.4444444444444444, \"#bd3786\"], [0.5555555555555556, \"#d8576b\"], [0.6666666666666666, \"#ed7953\"], [0.7777777777777778, \"#fb9f3a\"], [0.8888888888888888, \"#fdca26\"], [1.0, \"#f0f921\"]], \"type\": \"surface\"}], \"table\": [{\"cells\": {\"fill\": {\"color\": \"#EBF0F8\"}, \"line\": {\"color\": \"white\"}}, \"header\": {\"fill\": {\"color\": \"#C8D4E3\"}, \"line\": {\"color\": \"white\"}}, \"type\": \"table\"}]}, \"layout\": {\"annotationdefaults\": {\"arrowcolor\": \"#2a3f5f\", \"arrowhead\": 0, \"arrowwidth\": 1}, \"colorscale\": {\"diverging\": [[0, \"#8e0152\"], [0.1, \"#c51b7d\"], [0.2, \"#de77ae\"], [0.3, \"#f1b6da\"], [0.4, \"#fde0ef\"], [0.5, \"#f7f7f7\"], [0.6, \"#e6f5d0\"], [0.7, \"#b8e186\"], [0.8, \"#7fbc41\"], [0.9, \"#4d9221\"], [1, \"#276419\"]], \"sequential\": [[0.0, \"#0d0887\"], [0.1111111111111111, \"#46039f\"], [0.2222222222222222, \"#7201a8\"], [0.3333333333333333, \"#9c179e\"], [0.4444444444444444, \"#bd3786\"], [0.5555555555555556, \"#d8576b\"], [0.6666666666666666, \"#ed7953\"], [0.7777777777777778, \"#fb9f3a\"], [0.8888888888888888, \"#fdca26\"], [1.0, \"#f0f921\"]], \"sequentialminus\": [[0.0, \"#0d0887\"], [0.1111111111111111, \"#46039f\"], [0.2222222222222222, \"#7201a8\"], [0.3333333333333333, \"#9c179e\"], [0.4444444444444444, \"#bd3786\"], [0.5555555555555556, \"#d8576b\"], [0.6666666666666666, \"#ed7953\"], [0.7777777777777778, \"#fb9f3a\"], [0.8888888888888888, \"#fdca26\"], [1.0, \"#f0f921\"]]}, \"colorway\": [\"#636efa\", \"#EF553B\", \"#00cc96\", \"#ab63fa\", \"#FFA15A\", \"#19d3f3\", \"#FF6692\", \"#B6E880\", \"#FF97FF\", \"#FECB52\"], \"font\": {\"color\": \"#2a3f5f\"}, \"geo\": {\"bgcolor\": \"white\", \"lakecolor\": \"white\", \"landcolor\": \"#E5ECF6\", \"showlakes\": true, \"showland\": true, \"subunitcolor\": \"white\"}, \"hoverlabel\": {\"align\": \"left\"}, \"hovermode\": \"closest\", \"mapbox\": {\"style\": \"light\"}, \"paper_bgcolor\": \"white\", \"plot_bgcolor\": \"#E5ECF6\", \"polar\": {\"angularaxis\": {\"gridcolor\": \"white\", \"linecolor\": \"white\", \"ticks\": \"\"}, \"bgcolor\": \"#E5ECF6\", \"radialaxis\": {\"gridcolor\": \"white\", \"linecolor\": \"white\", \"ticks\": \"\"}}, \"scene\": {\"xaxis\": {\"backgroundcolor\": \"#E5ECF6\", \"gridcolor\": \"white\", \"gridwidth\": 2, \"linecolor\": \"white\", \"showbackground\": true, \"ticks\": \"\", \"zerolinecolor\": \"white\"}, \"yaxis\": {\"backgroundcolor\": \"#E5ECF6\", \"gridcolor\": \"white\", \"gridwidth\": 2, \"linecolor\": \"white\", \"showbackground\": true, \"ticks\": \"\", \"zerolinecolor\": \"white\"}, \"zaxis\": {\"backgroundcolor\": \"#E5ECF6\", \"gridcolor\": \"white\", \"gridwidth\": 2, \"linecolor\": \"white\", \"showbackground\": true, \"ticks\": \"\", \"zerolinecolor\": \"white\"}}, \"shapedefaults\": {\"line\": {\"color\": \"#2a3f5f\"}}, \"ternary\": {\"aaxis\": {\"gridcolor\": \"white\", \"linecolor\": \"white\", \"ticks\": \"\"}, \"baxis\": {\"gridcolor\": \"white\", \"linecolor\": \"white\", \"ticks\": \"\"}, \"bgcolor\": \"#E5ECF6\", \"caxis\": {\"gridcolor\": \"white\", \"linecolor\": \"white\", \"ticks\": \"\"}}, \"title\": {\"x\": 0.05}, \"xaxis\": {\"automargin\": true, \"gridcolor\": \"white\", \"linecolor\": \"white\", \"ticks\": \"\", \"zerolinecolor\": \"white\", \"zerolinewidth\": 2}, \"yaxis\": {\"automargin\": true, \"gridcolor\": \"white\", \"linecolor\": \"white\", \"ticks\": \"\", \"zerolinecolor\": \"white\", \"zerolinewidth\": 2}}}, \"title\": {\"text\": \"Top 5 artist(s) in United States of America by streams of tracks in daily Top 10 chart (2017)<br>Source: <a href=\\\"https://www.kaggle.com/edumucelli/spotifys-worldwide-daily-song-ranking/version/3\\\">Spotify through Kaggle Datasets</a>\"}, \"xaxis\": {\"tickangle\": -45, \"tickmode\": \"linear\"}, \"yaxis\": {\"title\": {\"text\": \"Streams<br>(k=thousand, M=million)\"}}},\n",
       "                        {\"responsive\": true}\n",
       "                    ).then(function(){\n",
       "                            \n",
       "var gd = document.getElementById('14fe37fe-c5b3-42f1-91ac-83a76da034b6');\n",
       "var x = new MutationObserver(function (mutations, observer) {{\n",
       "        var display = window.getComputedStyle(gd).display;\n",
       "        if (!display || display === 'none') {{\n",
       "            console.log([gd, 'removed!']);\n",
       "            Plotly.purge(gd);\n",
       "            observer.disconnect();\n",
       "        }}\n",
       "}});\n",
       "\n",
       "// Listen for the removal of the full notebook cells\n",
       "var notebookContainer = gd.closest('#notebook-container');\n",
       "if (notebookContainer) {{\n",
       "    x.observe(notebookContainer, {childList: true});\n",
       "}}\n",
       "\n",
       "// Listen for the clearing of the current output cell\n",
       "var outputEl = gd.closest('.output');\n",
       "if (outputEl) {{\n",
       "    x.observe(outputEl, {childList: true});\n",
       "}}\n",
       "\n",
       "                        })\n",
       "                };\n",
       "                });\n",
       "            </script>\n",
       "        </div>"
      ]
     },
     "metadata": {},
     "output_type": "display_data"
    }
   ],
   "source": [
    "# Layout for widgets\n",
    "box_layout = Layout(display='flex', flex_flow='row', align_items='center', width='100%', justify_content = 'center')\n",
    "style = {'description_width': 'initial'}\n",
    "\n",
    "# Create dropdown menu for Artist and slider for How Many Top Artists\n",
    "country_menu = widgets.Dropdown(options = df_with_country_names['Country Name'].sort_values().unique(), description ='Country: ', style = style, disabled=False)\n",
    "top_x_artists_slider = widgets.IntSlider(value = 3, min = 1, max = 5, description = \"How Many Top Artists\", style = style)\n",
    "\n",
    "# Create Show Top Artists button and define click events\n",
    "show_button1 = widgets.Button(button_style= 'info', description=\"Show Top Artists\")\n",
    "show_button1.on_click(show_top_3_artists)\n",
    "\n",
    "# Define display order for the buttons and menus\n",
    "display(Box(children = [country_menu], layout = box_layout))\n",
    "display(Box(children = [top_x_artists_slider,show_button1], layout = Layout(display= 'flex', flex_flow= 'column', align_items= 'center', width='100%', justify_content = 'center')))"
   ]
  },
  {
   "cell_type": "markdown",
   "metadata": {},
   "source": [
    "Hover the mouse around to see the name of artists and number of times their tracks were streamed. \n",
    "\n",
    "### Questions:\n",
    "1. Who are the top 3 artists in Canada? Are they all Canadians?\n",
    "2. Do you think music can affect the cultural identity of various communities?\n",
    "3. Are you aware of steps taken by countries to protect local artists/performers in this era of globalization?"
   ]
  },
  {
   "cell_type": "markdown",
   "metadata": {},
   "source": [
    "![alt text](https://github.com/callysto/callysto-sample-notebooks/blob/master/notebooks/images/Callysto_Notebook-Banners_Bottom_06.06.18.jpg?raw=true)\n"
   ]
  }
 ],
 "metadata": {
  "kernelspec": {
   "display_name": "Python 3",
   "language": "python",
   "name": "python3"
  },
  "language_info": {
   "codemirror_mode": {
    "name": "ipython",
    "version": 3
   },
   "file_extension": ".py",
   "mimetype": "text/x-python",
   "name": "python",
   "nbconvert_exporter": "python",
   "pygments_lexer": "ipython3",
   "version": "3.7.4"
  },
  "nbTranslate": {
   "displayLangs": [
    "*"
   ],
   "hotkey": "alt-t",
   "langInMainMenu": true,
   "sourceLang": "en",
   "targetLang": "fr",
   "useGoogleTranslate": true
  }
 },
 "nbformat": 4,
 "nbformat_minor": 2
}

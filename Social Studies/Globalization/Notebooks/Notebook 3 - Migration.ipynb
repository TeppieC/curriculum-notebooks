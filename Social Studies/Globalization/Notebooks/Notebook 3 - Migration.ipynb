{
 "cells": [
  {
   "cell_type": "markdown",
   "metadata": {},
   "source": [
    "# Migration: Necessity for diversity\n",
    "\n"
   ]
  },
  {
   "cell_type": "code",
   "execution_count": null,
   "metadata": {},
   "outputs": [],
   "source": [
    "import pandas as pd\n",
    "import plotly.express as px\n",
    "import plotly.graph_objects as go\n",
    "from ipywidgets import interact, fixed, widgets, Layout, Button, Box, fixed, HBox, VBox\n",
    "\n",
    "# Don't show warnings in output\n",
    "import warnings\n",
    "warnings.filterwarnings('ignore')\n",
    "\n",
    "df = pd.read_csv('../Data/OECD_Full_Data.csv')\n",
    "\n",
    "df = df[~df['Country of birth/nationality'].isin(['Unknown','Not stated','Stateless','Total'])]\\\n",
    "       .rename(columns={'Value':'Migrated Population','CO2':'Country Code'})\n",
    "\n",
    "\n",
    "df.head()"
   ]
  },
  {
   "cell_type": "code",
   "execution_count": null,
   "metadata": {},
   "outputs": [],
   "source": [
    "def show_migration_chart(ev):\n",
    "    \n",
    "    subset = df[df['Country'] == country_menu.value][df['Year'] == year_menu.value]\n",
    "    \n",
    "    if(subset.shape[0] == 0):\n",
    "        print('Data is not available ... :-(')\n",
    "    else:\n",
    "        fig = px.choropleth(subset,   # dataframe with required data \n",
    "                    locations=\"Country Code\",   # Column containing country codes\n",
    "                    color=\"Migrated Population\",   # Color of country should be based on population migrated\n",
    "                    hover_name=\"Country of birth/nationality\", # title to add to hover information\n",
    "                    hover_data=[\"Migrated Population\"],   # data to add to hover information\n",
    "                    color_continuous_scale=px.colors.sequential.Reds,\n",
    "                            \n",
    "                    # Title of the chart\n",
    "                    title='Inflow of foreign population for {} (Year {})<br>\\\n",
    "Source: <a href=\"https://stats.oecd.org/Index.aspx?DataSetCode=MIG#\">OECD</a>'\\\n",
    ".format(country_menu.value, year_menu.value)\n",
    "                   )\n",
    "        \n",
    "        # Show the figure\n",
    "        fig.show()"
   ]
  },
  {
   "cell_type": "code",
   "execution_count": null,
   "metadata": {},
   "outputs": [],
   "source": [
    "# Layout for widgets\n",
    "box_layout = Layout(display='flex', flex_flow='row', align_items='center', width='100%', justify_content = 'center')\n",
    "style = {'description_width': 'initial'}\n",
    "\n",
    "# Create dropdown menu for Country and Year\n",
    "country_menu = widgets.Dropdown(options = df['Country'].unique(), description ='Country: ', style = style, disabled=False)\n",
    "year_menu = widgets.Dropdown(options = df['Year'].unique(), description ='Year: ', style = style, disabled=False)\n",
    "\n",
    "# Create Show Migration Flow button and define click events\n",
    "show_button = widgets.Button(button_style= 'info', description=\"Show Migration Chart\")\n",
    "show_button.on_click(show_migration_chart)\n",
    "\n",
    "# Define display order for the buttons and menus\n",
    "display(Box(children = [country_menu, year_menu], layout = box_layout))\n",
    "display(VBox(children = [show_button], layout = Layout(display= 'flex', flex_flow= 'column', align_items= 'center', width='100%', justify_content = 'center')))"
   ]
  },
  {
   "cell_type": "markdown",
   "metadata": {},
   "source": [
    "### Alberta Migration"
   ]
  },
  {
   "cell_type": "code",
   "execution_count": null,
   "metadata": {
    "scrolled": true
   },
   "outputs": [],
   "source": [
    "df2 = pd.read_csv('../Data/AB_Migrants_Data.csv').dropna().drop(columns=['Net Intraprovincial Migrants','SGC'])\n",
    "df2['Year'] = df2['Year'].str[-4:].astype('int')"
   ]
  },
  {
   "cell_type": "code",
   "execution_count": null,
   "metadata": {},
   "outputs": [],
   "source": []
  },
  {
   "cell_type": "code",
   "execution_count": null,
   "metadata": {},
   "outputs": [],
   "source": [
    "# Create traces\n",
    "fig = go.Figure()\n",
    "\n",
    "for i in df2.columns[1:]:\n",
    "\n",
    "    fig.add_trace(go.Scatter(x=df2['Year'], y=df2[i],\n",
    "                    mode='lines+markers',\n",
    "                    name=i))\n",
    "\n",
    "fig.update_layout(\n",
    "    xaxis=dict(\n",
    "        linecolor='rgb(204, 204, 204)',\n",
    "        mirror=True,\n",
    "        linewidth=2,\n",
    "        ticks='outside',\n",
    "        tickfont=dict(\n",
    "            size=14,\n",
    "            color='rgb(82, 82, 82)',\n",
    "        ),\n",
    "    ),\n",
    "    yaxis=dict(\n",
    "        title=dict(\n",
    "            text = 'Migrant Population<br>(in thousands)',\n",
    "            font=dict(\n",
    "                size=16,\n",
    "            )\n",
    "        ),\n",
    "        linecolor='rgb(204, 204, 204)',\n",
    "        mirror=True,\n",
    "        linewidth=2,\n",
    "        ticks='outside',\n",
    "        tickfont=dict(\n",
    "            size=14,\n",
    "            color='rgb(82, 82, 82)',\n",
    "        ),\n",
    "    ),\n",
    "    plot_bgcolor='white',\n",
    "    legend_orientation=\"h\",\n",
    "    \n",
    "    annotations=[dict(xref='paper', \n",
    "                      yref='paper', \n",
    "                      x=0.5, y=1.2,\n",
    "                      xanchor='center', yanchor='top',\n",
    "                      text='Migration Statistics for Alberta<br>(1971-2019)',\n",
    "                      font=dict(size=18),\n",
    "                      showarrow=False)]\n",
    ")\n",
    "\n",
    "    \n",
    "\n",
    "fig.show()"
   ]
  },
  {
   "cell_type": "code",
   "execution_count": null,
   "metadata": {},
   "outputs": [],
   "source": []
  },
  {
   "cell_type": "code",
   "execution_count": null,
   "metadata": {},
   "outputs": [],
   "source": []
  }
 ],
 "metadata": {
  "kernelspec": {
   "display_name": "Python 3",
   "language": "python",
   "name": "python3"
  },
  "language_info": {
   "codemirror_mode": {
    "name": "ipython",
    "version": 3
   },
   "file_extension": ".py",
   "mimetype": "text/x-python",
   "name": "python",
   "nbconvert_exporter": "python",
   "pygments_lexer": "ipython3",
   "version": "3.7.3"
  }
 },
 "nbformat": 4,
 "nbformat_minor": 2
}

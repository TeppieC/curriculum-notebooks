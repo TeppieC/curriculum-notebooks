{
 "cells": [
  {
   "cell_type": "markdown",
   "metadata": {},
   "source": [
    "![alt text](https://github.com/callysto/callysto-sample-notebooks/blob/master/notebooks/images/Callysto_Notebook-Banner_Top_06.06.18.jpg?raw=true)"
   ]
  },
  {
   "cell_type": "markdown",
   "metadata": {},
   "source": [
    "# Trade and Globalization\n",
    "\n",
    "International trade is one of the major forces of contemporary globalization that began after World War II. With countries opening their economies the flow of goods and services across their borders, world markets are growing rapidly. More the trading between countries, more the interconnected and interdependent they are.\n",
    "\n",
    "Let us explore trade statistics associated with different countries and how they have changed over time. Various datasets used in this notebook were taken from [Our World in Data](https://ourworldindata.org/trade-and-globalization)."
   ]
  },
  {
   "cell_type": "markdown",
   "metadata": {},
   "source": [
    "## Exports and imports by various countries\n",
    "\n",
    "It would be interesting to see how international trade has fuelled economic growth of various countries in contemporary globalization. Run the code cells below to import the datasets and preview the merged dataset. "
   ]
  },
  {
   "cell_type": "code",
   "execution_count": null,
   "metadata": {},
   "outputs": [],
   "source": [
    "# Import python libraries\n",
    "import pandas as pd\n",
    "import plotly.express as px\n",
    "import plotly.graph_objects as go\n",
    "\n",
    "# Don't show warnings in output\n",
    "import warnings\n",
    "warnings.filterwarnings('ignore')"
   ]
  },
  {
   "cell_type": "code",
   "execution_count": null,
   "metadata": {},
   "outputs": [],
   "source": [
    "# Import the dataset\n",
    "df_import = pd.read_csv('../Data/imports-of-goods-and-services-constant-2010-us.csv').dropna()\n",
    "df_export = pd.read_csv('../Data/exports-of-goods-and-services-constant-2010-us.csv').dropna()\n",
    "\n",
    "# Data clean up - remove the rows containing data for the entire World\n",
    "df_export = df_export[df_export['Entity'] != 'World']\n",
    "\n",
    "# Merge the import and export dataset based on Country and Year\n",
    "final = df_export.merge(df_import, left_on=['Entity','Code','Year'], right_on=['Entity','Code','Year'], how='inner')\n",
    "final = final[final['Year'] < 2017][final['Year'] > 1980]   # Keep rows for years between 1981 to 2016"
   ]
  },
  {
   "cell_type": "code",
   "execution_count": null,
   "metadata": {},
   "outputs": [],
   "source": [
    "# Remove the rows for Afghanistan and Albania from top and append them at the end of the dataframe\n",
    "# This is required to maintain the order of frames in animated choropleth map as data for various years are missing for above mentioned countries\n",
    "\n",
    "temp1 = final[final['Entity'].isin(['Afghanistan','Albania'])]\n",
    "final = final[final['Entity'] != 'World'][final['Entity'] != 'Afghanistan'][final['Entity'] != 'Albania']\n",
    "final = final.append(temp1, ignore_index=True)\n",
    "\n",
    "# Add new column that contains total trade value i.e. imports + exports\n",
    "final['Trade (in USD)'] = final['Exports of goods and services'] + final['Imports of goods and services']\n",
    "\n",
    "# Display top 5 rows\n",
    "final.head()"
   ]
  },
  {
   "cell_type": "markdown",
   "metadata": {},
   "source": [
    "Note that the all the values in the dataframe are in US Dollars and adjusted for inflation (Year 2010). The `Trade (in USD)` column is the sum of imports and exports. \n",
    "\n",
    "Let us visualize the data using animated choropleth map."
   ]
  },
  {
   "cell_type": "code",
   "execution_count": null,
   "metadata": {},
   "outputs": [],
   "source": [
    "# Plot animated choropleth map\n",
    "\n",
    "fig = px.choropleth(final,   # dataframe with required data \n",
    "                    locations=\"Code\",   # Column containing country codes\n",
    "                    color=\"Trade (in USD)\",   # Color of country should be based on total trade value\n",
    "                    hover_name=\"Entity\",   # Title to add to hover information\n",
    "                    hover_data=[\"Exports of goods and services\",\"Imports of goods and services\"],   # Data to add to hover information\n",
    "                    color_continuous_scale=px.colors.sequential.Reds,   # Set the colorscale type\n",
    "                    animation_frame = \"Year\",   # Values based on which animation frame will be prepared\n",
    "                    range_color = [0,max(final['Trade (in USD)'])],   # Range of the colorbar\n",
    "                    \n",
    "                    # Title of the chart\n",
    "                    title = 'Export/Import statistics for countries around the world (in constant 2010 USD)<br>\\\n",
    "Source: <a href=\"https://ourworldindata.org/trade-and-globalization\">Our World in Data</a>'\n",
    "                   )\n",
    "\n",
    "# Show the figure\n",
    "fig.show()"
   ]
  },
  {
   "cell_type": "markdown",
   "metadata": {},
   "source": [
    "Click on the play button to animate the change in import/export statistics. Note that the data is not available for greyed-out countries (for e.g. China) and no data will appear when mouse is hovered over those areas in the map.\n",
    "\n",
    "### Questions:\n",
    "1. List top 3 major economies in Year 2016. Has that list changed compared to 1981? \n",
    "2. Share your thoughts on the positive/negative impacts of transnational corporations in international trade.\n",
    "3. Do you think preferential trade agreements (like NAFTA) have a major contribution in rapid growth of the international trade?\n",
    "3. Does growing interdependence between different countries bring stability or instability in their relationships?\n",
    "4. Which two organizations were proposed after World War II to help and regulate the expansion of the international trade? (Hint: [Bretton Woods Conference](https://en.wikipedia.org/wiki/Bretton_Woods_Conference) and [GATT](https://en.wikipedia.org/wiki/General_Agreement_on_Tariffs_and_Trade))"
   ]
  },
  {
   "cell_type": "markdown",
   "metadata": {},
   "source": [
    "## Are you open for the trade?\n",
    "\n",
    "Trade openness of a country is measured by the ratio (also known as Trade Openness Index) of its total trade and gross domestic product (GDP). The higher the ratio, the more the country is involved in international trade.\n",
    "\n",
    "Let us visualize the variation of Trade Openness Index among countries. Run the following cells to import the data and plot an interactive choropleth map."
   ]
  },
  {
   "cell_type": "code",
   "execution_count": null,
   "metadata": {},
   "outputs": [],
   "source": [
    "# Import the dataset (remove rows with missing entries)\n",
    "df_openness_index = pd.read_csv('../Data/trade-as-share-of-gdp.csv').dropna()\n",
    "\n",
    "# Data clean up - remove the rows containing data for the entire World and for years upto 2017\n",
    "df_openness_index = df_openness_index[df_openness_index['Entity'] != 'World'][df_openness_index['Year'] < 2017]\n",
    "\n",
    "# Display top 5 rows\n",
    "df_openness_index.head()"
   ]
  },
  {
   "cell_type": "code",
   "execution_count": null,
   "metadata": {},
   "outputs": [],
   "source": [
    "# Remove the rows for Afghanistan and Albania from top and append them at the end of the dataframe\n",
    "# This is required to maintain the order of frames in animated choropleth map as data for various years are missing for above mentioned countries\n",
    "\n",
    "temp1 = df_openness_index[df_openness_index['Entity'].isin(['Afghanistan','Albania'])]\n",
    "df_openness_index = df_openness_index[df_openness_index['Entity'] != 'Afghanistan'][df_openness_index['Entity'] != 'Albania']\n",
    "df_openness_index = df_openness_index.append(temp1, ignore_index=True)"
   ]
  },
  {
   "cell_type": "code",
   "execution_count": null,
   "metadata": {},
   "outputs": [],
   "source": [
    "# Plot animated choropleth map (Execution of this code cell will take few seconds)\n",
    "import plotly.express as px\n",
    "\n",
    "fig = px.choropleth(df_openness_index,   # dataframe with required data \n",
    "                    locations=\"Code\",   # Column containing country codes\n",
    "                    color=\"Trade (% of GDP)\",   # Color of country should be based on trade share in GDP\n",
    "                    hover_name=\"Entity\",   # Title to add to hover information\n",
    "                    hover_data=[\"Trade (% of GDP)\"],   # Data to add to hover information\n",
    "                    color_continuous_scale=px.colors.sequential.Reds,   # Set the colorscale type\n",
    "                    animation_frame = \"Year\",   # Values based on which animation frame will be prepared\n",
    "                    range_color = [0,100],   # Range of the colorbar\n",
    "                    \n",
    "                    # Title of the chart\n",
    "                    title = 'Trade Openness Index for countries around the world<br>\\\n",
    "Source: <a href=\"https://ourworldindata.org/co2-and-other-greenhouse-gas-emissions\">Our World in Data</a>'\n",
    "                   )\n",
    "\n",
    "# Show the figure\n",
    "fig.show()"
   ]
  },
  {
   "cell_type": "markdown",
   "metadata": {},
   "source": [
    "Hover the mouse over countries to see trade as share of GDP. Also, clicking on the play button will animate how the trade openness index changed over time.\n",
    "\n",
    "### Questions\n",
    "1. Can you identify a common trend in trade openness index for most countries in last two decades?\n",
    "2. Higher the trade openness index, larger the influence of international trade on domestic economic activities will be. Do you agree?"
   ]
  },
  {
   "cell_type": "markdown",
   "metadata": {},
   "source": [
    "## Determinants of the increased international trade\n",
    "\n",
    "Rapid expansion of international trade was possible due to reduced transportation and communication costs stemming from the technological advances such as containerization of goods and accessible internet/mobile phones. \n",
    "\n",
    "Run the code cells below to observe the reduction in transportation and communications costs relative to 1930."
   ]
  },
  {
   "cell_type": "code",
   "execution_count": null,
   "metadata": {},
   "outputs": [],
   "source": [
    "# Import the dataset\n",
    "df_costs = pd.read_csv('../Data/real-transport-and-communication-costs.csv')\n",
    "\n",
    "# Display top 5 rows\n",
    "df_costs.head()"
   ]
  },
  {
   "cell_type": "code",
   "execution_count": null,
   "metadata": {},
   "outputs": [],
   "source": [
    "# Create a plotly figure object (like an empty figure)\n",
    "fig = go.Figure()\n",
    "\n",
    "# Create traces\n",
    "for i in df_costs.columns[3:]:\n",
    "    \n",
    "    # Add trace for each column (variable) in dataset\n",
    "    fig.add_trace(go.Scatter(x=df_costs['Year'], y=df_costs[i],\n",
    "                    mode='lines+markers',\n",
    "                    name=i))\n",
    "    \n",
    "# Change the figure layout\n",
    "fig.update_layout(\n",
    "    \n",
    "    # Change properties of x-axis\n",
    "    xaxis=dict(\n",
    "        linecolor='rgb(204, 204, 204)',   # color of x-axis\n",
    "        mirror=True,   # should axis be mirrored?\n",
    "        linewidth=2,   # width of x-axis\n",
    "        ticks='outside',   # location of x-ticks\n",
    "        tickfont=dict(\n",
    "            size=14,   # size of x-ticks\n",
    "            color='rgb(82, 82, 82)',   # color of x-ticks\n",
    "        ),\n",
    "    ),\n",
    "    \n",
    "    # Change properties of y-axis\n",
    "    yaxis=dict(\n",
    "        title=dict(   \n",
    "            text = 'Reduction in Costs (%)',   # y-axis title\n",
    "            font=dict(\n",
    "                size=16,   # size of y-axis title\n",
    "            )\n",
    "        ),\n",
    "        linecolor='rgb(204, 204, 204)',   # color of y-axis\n",
    "        mirror=True,   # should axis be mirrored?\n",
    "        linewidth=2,   # width of y-axis\n",
    "        ticks='outside',   # location of y-ticks\n",
    "        tickfont=dict(\n",
    "            size=14,   # size of y-ticks\n",
    "            color='rgb(82, 82, 82)',   # color of y-ticks\n",
    "        ),\n",
    "    ),\n",
    "    plot_bgcolor='white',   # Background color\n",
    "    legend_orientation=\"h\",   # Orientation of legend\n",
    "    \n",
    "    # Title for the figure (as an annotation)\n",
    "    annotations=[dict(xref='paper',   \n",
    "                      yref='paper', \n",
    "                      x=0.5, y=1.2,   # Position of the title\n",
    "                      xanchor='center', yanchor='top',\n",
    "                      text='Transport and Communication Costs relative to 1930<br>\\\n",
    "Source: <a href=\"https://ourworldindata.org/trade-and-globalization\">Our World in Data</a> ',   # Text of the title\n",
    "                      font=dict(size=18),   # Font size of the title\n",
    "                      showarrow=False)]\n",
    ")\n",
    "\n",
    "# Show the figure\n",
    "fig.show()"
   ]
  },
  {
   "cell_type": "markdown",
   "metadata": {},
   "source": [
    "### Questions:\n",
    "\n",
    "1. Discuss how the *container revolution* was able to reduce the transportation cost by a large margin.\n",
    "2. Would you consider transportation and communication technologies as *globalizing forces*? Why?"
   ]
  },
  {
   "cell_type": "markdown",
   "metadata": {},
   "source": [
    "![alt text](https://github.com/callysto/callysto-sample-notebooks/blob/master/notebooks/images/Callysto_Notebook-Banners_Bottom_06.06.18.jpg?raw=true)"
   ]
  }
 ],
 "metadata": {
  "kernelspec": {
   "display_name": "Python 3",
   "language": "python",
   "name": "python3"
  },
  "language_info": {
   "codemirror_mode": {
    "name": "ipython",
    "version": 3
   },
   "file_extension": ".py",
   "mimetype": "text/x-python",
   "name": "python",
   "nbconvert_exporter": "python",
   "pygments_lexer": "ipython3",
   "version": "3.7.4"
  },
  "nbTranslate": {
   "displayLangs": [
    "*"
   ],
   "hotkey": "alt-t",
   "langInMainMenu": true,
   "sourceLang": "en",
   "targetLang": "fr",
   "useGoogleTranslate": true
  }
 },
 "nbformat": 4,
 "nbformat_minor": 2
}

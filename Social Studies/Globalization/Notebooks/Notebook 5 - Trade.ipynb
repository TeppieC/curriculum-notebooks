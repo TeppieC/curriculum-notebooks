{
 "cells": [
  {
   "cell_type": "markdown",
   "metadata": {},
   "source": [
    "# Trade and Globalization"
   ]
  },
  {
   "cell_type": "code",
   "execution_count": null,
   "metadata": {},
   "outputs": [],
   "source": [
    "# Import python libraries\n",
    "import pandas as pd\n",
    "import plotly.express as px\n",
    "import plotly.graph_objects as go\n",
    "\n",
    "# Don't show warnings in output\n",
    "import warnings\n",
    "warnings.filterwarnings('ignore')"
   ]
  },
  {
   "cell_type": "code",
   "execution_count": null,
   "metadata": {},
   "outputs": [],
   "source": [
    "# Import the dataset\n",
    "df_import = pd.read_csv('../Data/imports-of-goods-and-services-constant-2010-us.csv').dropna()\n",
    "df_export = pd.read_csv('../Data/exports-of-goods-and-services-constant-2010-us.csv').dropna()\n",
    "\n",
    "# Data clean up - remove the rows containing data for the entire World\n",
    "df_export = df_export[df_export['Entity'] != 'World']\n",
    "\n",
    "# Merge the import and export dataset based on Country and Year\n",
    "final = df_export.merge(df_import, left_on=['Entity','Code','Year'], right_on=['Entity','Code','Year'], how='inner')\n",
    "final = final[final['Year'] < 2017][final['Year'] > 1980]   # Keep rows for years between 1981 to 2016"
   ]
  },
  {
   "cell_type": "code",
   "execution_count": null,
   "metadata": {},
   "outputs": [],
   "source": [
    "# Remove the rows for Afghanistan and Albania from top and append them at the end of the dataframe\n",
    "# This is required to maintain the order of frames in animated choropleth map as data for various years are missing for above mentioned countries\n",
    "\n",
    "temp1 = final[final['Entity'].isin(['Afghanistan','Albania'])]\n",
    "final = final[final['Entity'] != 'World'][final['Entity'] != 'Afghanistan'][final['Entity'] != 'Albania']\n",
    "final = final.append(temp1, ignore_index=True)\n",
    "\n",
    "# Add new column that contains total trade value i.e. imports + exports\n",
    "final['Trade'] = final['Exports of goods and services'] + final['Imports of goods and services']\n",
    "\n",
    "# Display top 5 rows\n",
    "final.head()"
   ]
  },
  {
   "cell_type": "code",
   "execution_count": null,
   "metadata": {},
   "outputs": [],
   "source": [
    "# Plot animated choropleth map\n",
    "\n",
    "fig = px.choropleth(final,   # dataframe with required data \n",
    "                    locations=\"Code\",   # Column containing country codes\n",
    "                    color=\"Trade\",   # Color of country should be based on total trade value\n",
    "                    hover_name=\"Entity\",   # Title to add to hover information\n",
    "                    hover_data=[\"Exports of goods and services\",\"Imports of goods and services\"],   # Data to add to hover information\n",
    "                    color_continuous_scale=px.colors.sequential.Reds,   # Set the colorscale type\n",
    "                    animation_frame = \"Year\",   # Values based on which animation frame will be prepared\n",
    "                    range_color = [0,max(final['Trade'])],   # Range of the colorbar\n",
    "                    \n",
    "                    # Title of the chart\n",
    "                    title = 'Trade statistics for countries around the world (in constant 2010 USD)<br>\\\n",
    "Source: <a href=\"https://ourworldindata.org/trade-and-globalization\">Our World in Data</a>'\n",
    "                   )\n",
    "\n",
    "# Show the figure\n",
    "fig.show()"
   ]
  },
  {
   "cell_type": "markdown",
   "metadata": {},
   "source": [
    "Note that data is not available for greyed-out countries.\n",
    "\n",
    "### Questions:\n",
    "1. How preferential trade agreements contributed in overall increase of the international trade?  \n",
    "2. Can you observe the trade imbalance? How it can be mitigated?"
   ]
  },
  {
   "cell_type": "markdown",
   "metadata": {},
   "source": [
    "## Are you open for the trade?\n",
    "\n",
    "Also known as Trade Openness Index\n",
    "\n",
    "A common measure is the openness index, which adds imports and exports in goods and services and divides this sum by GDP. The larger the ratio, the more the country is exposed to international trade. Looking at the map, it's quite apparent that the largest economies are the least open by this definition.\n"
   ]
  },
  {
   "cell_type": "code",
   "execution_count": null,
   "metadata": {},
   "outputs": [],
   "source": [
    "# Import the dataset (remove rows with missing entries)\n",
    "df_openness_index = pd.read_csv('../Data/trade-as-share-of-gdp.csv').dropna()\n",
    "\n",
    "# Data clean up - remove the rows containing data for the entire World and for years upto 2017\n",
    "df_openness_index = df_openness_index[df_openness_index['Entity'] != 'World'][df_openness_index['Year'] < 2017]\n",
    "\n",
    "# Display top 5 rows\n",
    "df_openness_index.head()"
   ]
  },
  {
   "cell_type": "code",
   "execution_count": null,
   "metadata": {},
   "outputs": [],
   "source": [
    "# Remove the rows for Afghanistan and Albania from top and append them at the end of the dataframe\n",
    "# This is required to maintain the order of frames in animated choropleth map as data for various years are missing for above mentioned countries\n",
    "\n",
    "temp1 = df_openness_index[df_openness_index['Entity'].isin(['Afghanistan','Albania'])]\n",
    "df_openness_index = df_openness_index[df_openness_index['Entity'] != 'Afghanistan'][df_openness_index['Entity'] != 'Albania']\n",
    "df_openness_index = df_openness_index.append(temp1, ignore_index=True)"
   ]
  },
  {
   "cell_type": "code",
   "execution_count": null,
   "metadata": {},
   "outputs": [],
   "source": [
    "# Plot animated choropleth map (Execution of this code cell will take few seconds)\n",
    "import plotly.express as px\n",
    "\n",
    "fig = px.choropleth(df_openness_index,   # dataframe with required data \n",
    "                    locations=\"Code\",   # Column containing country codes\n",
    "                    color=\"Trade (% of GDP)\",   # Color of country should be based on trade share in GDP\n",
    "                    hover_name=\"Entity\",   # Title to add to hover information\n",
    "                    hover_data=[\"Trade (% of GDP)\"],   # Data to add to hover information\n",
    "                    color_continuous_scale=px.colors.sequential.Reds,   # Set the colorscale type\n",
    "                    animation_frame = \"Year\",   # Values based on which animation frame will be prepared\n",
    "                    range_color = [0,100],   # Range of the colorbar\n",
    "                    \n",
    "                    # Title of the chart\n",
    "                    title = 'Trade Openness Index for countries around the world<br>\\\n",
    "Source: <a href=\"https://ourworldindata.org/co2-and-other-greenhouse-gas-emissions\">Our World in Data</a>'\n",
    "                   )\n",
    "\n",
    "# Show the figure\n",
    "fig.show()"
   ]
  },
  {
   "cell_type": "markdown",
   "metadata": {},
   "source": [
    "## Reduced cost of technology - True enabler of globalization"
   ]
  },
  {
   "cell_type": "code",
   "execution_count": null,
   "metadata": {},
   "outputs": [],
   "source": [
    "# Import the dataset\n",
    "df_costs = pd.read_csv('../Data/real-transport-and-communication-costs.csv')\n",
    "\n",
    "# Display top 5 rows\n",
    "df_costs.head()"
   ]
  },
  {
   "cell_type": "code",
   "execution_count": null,
   "metadata": {},
   "outputs": [],
   "source": [
    "# Create a plotly figure object (like an empty figure)\n",
    "fig = go.Figure()\n",
    "\n",
    "# Create traces\n",
    "for i in df_costs.columns[3:]:\n",
    "    \n",
    "    # Add trace for each column (variable) in dataset\n",
    "    fig.add_trace(go.Scatter(x=df_costs['Year'], y=df_costs[i],\n",
    "                    mode='lines+markers',\n",
    "                    name=i))\n",
    "    \n",
    "# Change the figure layout\n",
    "fig.update_layout(\n",
    "    \n",
    "    # Change properties of x-axis\n",
    "    xaxis=dict(\n",
    "        linecolor='rgb(204, 204, 204)',   # color of x-axis\n",
    "        mirror=True,   # should axis be mirrored?\n",
    "        linewidth=2,   # width of x-axis\n",
    "        ticks='outside',   # location of x-ticks\n",
    "        tickfont=dict(\n",
    "            size=14,   # size of x-ticks\n",
    "            color='rgb(82, 82, 82)',   # color of x-ticks\n",
    "        ),\n",
    "    ),\n",
    "    \n",
    "    # Change properties of y-axis\n",
    "    yaxis=dict(\n",
    "        title=dict(   \n",
    "            text = 'Reduction in Costs (%)',   # y-axis title\n",
    "            font=dict(\n",
    "                size=16,   # size of y-axis title\n",
    "            )\n",
    "        ),\n",
    "        linecolor='rgb(204, 204, 204)',   # color of y-axis\n",
    "        mirror=True,   # should axis be mirrored?\n",
    "        linewidth=2,   # width of y-axis\n",
    "        ticks='outside',   # location of y-ticks\n",
    "        tickfont=dict(\n",
    "            size=14,   # size of y-ticks\n",
    "            color='rgb(82, 82, 82)',   # color of y-ticks\n",
    "        ),\n",
    "    ),\n",
    "    plot_bgcolor='white',   # Background color\n",
    "    legend_orientation=\"h\",   # Orientation of legend\n",
    "    \n",
    "    # Title for the figure (as an annotation)\n",
    "    annotations=[dict(xref='paper',   \n",
    "                      yref='paper', \n",
    "                      x=0.5, y=1.2,   # Position of the title\n",
    "                      xanchor='center', yanchor='top',\n",
    "                      text='Transport and Communication Costs relative to 1930<br>\\\n",
    "Source: <a href=\"https://ourworldindata.org/trade-and-globalization\">Our World in Data</a> ',   # Text of the title\n",
    "                      font=dict(size=18),   # Font size of the title\n",
    "                      showarrow=False)]\n",
    ")\n",
    "\n",
    "# Show the figure\n",
    "fig.show()"
   ]
  },
  {
   "cell_type": "markdown",
   "metadata": {},
   "source": [
    "### Questions:\n",
    "\n",
    "1. Reduction in which of the three costs gave major boost to international trade?\n",
    "2. Do you observe the rapid increase in international trade (see section 1) between 1980 and 2000?"
   ]
  },
  {
   "cell_type": "code",
   "execution_count": null,
   "metadata": {},
   "outputs": [],
   "source": []
  },
  {
   "cell_type": "code",
   "execution_count": null,
   "metadata": {},
   "outputs": [],
   "source": []
  },
  {
   "cell_type": "markdown",
   "metadata": {},
   "source": [
    "Economies grew by a big margin from 1980 to 2005 ... can you see the reason from other cost graph ???"
   ]
  }
 ],
 "metadata": {
  "kernelspec": {
   "display_name": "Python 3",
   "language": "python",
   "name": "python3"
  },
  "language_info": {
   "codemirror_mode": {
    "name": "ipython",
    "version": 3
   },
   "file_extension": ".py",
   "mimetype": "text/x-python",
   "name": "python",
   "nbconvert_exporter": "python",
   "pygments_lexer": "ipython3",
   "version": "3.7.3"
  }
 },
 "nbformat": 4,
 "nbformat_minor": 2
}

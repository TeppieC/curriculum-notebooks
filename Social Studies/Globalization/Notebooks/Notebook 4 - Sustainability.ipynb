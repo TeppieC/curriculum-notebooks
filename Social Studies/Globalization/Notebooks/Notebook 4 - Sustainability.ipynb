{
 "cells": [
  {
   "cell_type": "markdown",
   "metadata": {},
   "source": [
    "![alt text](https://github.com/callysto/callysto-sample-notebooks/blob/master/notebooks/images/Callysto_Notebook-Banner_Top_06.06.18.jpg?raw=true)\n"
   ]
  },
  {
   "cell_type": "markdown",
   "metadata": {},
   "source": [
    "# Sustainability - A side-effect of globalization?\n",
    "\n",
    "Globalization promises prosperity, however, it does not come without any effect on health of the natural environment. Economic activities across the globe have reduced earth's ability to provide necessary resources. [Global warming](https://en.wikipedia.org/wiki/Global_warming) is one of the major environmental concerns which has been largely influenced by the emission of greenhouse gases like carbon dioxide (CO<sub>2</sub>).\n",
    "\n",
    "Let us try to find the connection between globalization and CO<sub>2</sub> emissions across the world. The [dataset](https://ourworldindata.org/co2-and-other-greenhouse-gas-emissions) was obtained from [Our World in Data](https://ourworldindata.org/) which contains per capita CO<sub>2</sub> emission by various countries since early 1800s.\n"
   ]
  },
  {
   "cell_type": "markdown",
   "metadata": {},
   "source": [
    "## Contribution of an average person in CO<sub>2</sub> emissions around the world\n",
    "\n",
    "Let's check out how people in different countries contributed to the CO<sub>2</sub> emissions. Run the following cells to see the preview of the data and an animated choropleth map."
   ]
  },
  {
   "cell_type": "code",
   "execution_count": null,
   "metadata": {},
   "outputs": [],
   "source": [
    "# Import python libraries\n",
    "import pandas as pd\n",
    "import plotly_express as px\n",
    "from ipywidgets import interact, fixed, widgets, Layout, Button, Box, fixed, HBox, VBox\n",
    "import plotly.graph_objects as go\n",
    "\n",
    "# Don't show warnings in output\n",
    "import warnings\n",
    "warnings.filterwarnings('ignore')"
   ]
  },
  {
   "cell_type": "code",
   "execution_count": null,
   "metadata": {},
   "outputs": [],
   "source": [
    "# Import the dataset\n",
    "df = pd.read_csv('../Data/co-emissions-per-capita.csv')\n",
    "        \n",
    "# Data clean up - keep rows pertaining to 1851-current and rename the columns\n",
    "df = df[df['Year'] > 1850]\\\n",
    "     .rename(columns={'Code':'Country Code',\n",
    "                         'Per capita CO₂ emissions (tonnes per capita)':'CO₂ emissions<br>(tonnes per capita)'})\n",
    "\n",
    "# Display top 5 rows\n",
    "df.head()"
   ]
  },
  {
   "cell_type": "code",
   "execution_count": null,
   "metadata": {},
   "outputs": [],
   "source": [
    "# Plot animated choropleth map (Execution of this code cell will take few seconds)\n",
    "\n",
    "fig = px.choropleth(df,   # dataframe with required data \n",
    "                    locations=\"Country Code\",   # Column containing country codes\n",
    "                    color=\"CO₂ emissions<br>(tonnes per capita)\",   # Color of country should be based on per capita CO₂ emission\n",
    "                    hover_name=\"Entity\",   # Title to add to hover information\n",
    "                    hover_data=[\"CO₂ emissions<br>(tonnes per capita)\"],   # Data to add to hover information\n",
    "                    color_continuous_scale=px.colors.sequential.Reds,   # Set the colorscale type\n",
    "                    animation_frame = \"Year\",   # Values based on which animation frame will be prepared\n",
    "                    range_color = [0,20],   # Range of the colorbar\n",
    "                    \n",
    "                    # Title of the chart\n",
    "                    title = 'Per capita CO₂ emissions for countries around the world<br>\\\n",
    "Source: <a href=\"https://ourworldindata.org/co2-and-other-greenhouse-gas-emissions\">Our World in Data</a>'\n",
    "                   )\n",
    "\n",
    "# Show the figure\n",
    "fig.show()"
   ]
  },
  {
   "cell_type": "markdown",
   "metadata": {},
   "source": [
    "Click on *play* button and move your mouse around the map to see the per capita CO<sub>2</sub> emission by different countries."
   ]
  },
  {
   "cell_type": "markdown",
   "metadata": {},
   "source": [
    "### Questions\n",
    "1. Before 1900, which country had highest per capita emission? Can you specify a reason?\n",
    "2. As per the latest data, how would you rate Canada's per capita emission as compared to other populous countries?\n",
    "3. Is inequality in per capita emission significant around the world? Is it one of the disadvantages of the globalization? "
   ]
  },
  {
   "cell_type": "markdown",
   "metadata": {},
   "source": [
    "## Share of countries around the world in global CO<sub>2</sub> emissions\n",
    "\n",
    "Now that we know the per capita CO<sub>2</sub> emission for different countries, next question might be if this trend is same for the overall contribution of each country towards the global emission of carbon dioxide. Also, it would be beneficial to compare the share of different countires for different years.\n",
    "\n",
    "Let's pull out the annual emission data from the same [source](https://ourworldindata.org/co2-and-other-greenhouse-gas-emissions). Run the code blocks below to see the pie charts showing comparison for the years you choose. "
   ]
  },
  {
   "cell_type": "code",
   "execution_count": null,
   "metadata": {},
   "outputs": [],
   "source": [
    "# Import the dataset and remove rows with missing values\n",
    "df2 = pd.read_csv('../Data/annual-co2-emissions-per-country.csv').dropna()\n",
    "\n",
    "# Data clean up - keep rows pertaining to 1851-current and remove entities named 'World' and 'Micronesia'\n",
    "df2 = df2[df2['Year'] > 1850][df2['Entity'] != 'World'][df2['Code'] != 'FSM']\n",
    "\n",
    "# Display top 5 rows\n",
    "df2.head()"
   ]
  },
  {
   "cell_type": "code",
   "execution_count": null,
   "metadata": {},
   "outputs": [],
   "source": [
    "from plotly.subplots import make_subplots\n",
    "\n",
    "# Define a callback function for \"Show CO₂ Emissions\" button\n",
    "def compare_annual_emissions(ev):\n",
    "    \n",
    "    # Filter the rows for user-selected years\n",
    "    subset1 = df2[df2['Year'] == year1_menu.value]\n",
    "    subset2 = df2[df2['Year'] == year2_menu.value]\n",
    "    \n",
    "    \n",
    "    # Make subplots\n",
    "    fig = make_subplots(rows=1, cols=2, specs=[[{'type':'domain'}, {'type':'domain'}]])\n",
    "    \n",
    "    # Prepare text information to be shown when a pointer is hovered over pie chart\n",
    "    subset1['text'] = subset1['Entity'] + '<br>' + 'Annual CO<sub>2</sub> Emission' \\\n",
    "                      + '<br>' + subset1['Annual CO₂ emissions (tonnes)'].astype(str) + ' tonnes'\n",
    "        \n",
    "    subset2['text'] = subset2['Entity'] + '<br>' + 'Annual CO<sub>2</sub> Emission' \\\n",
    "                      + '<br>' + subset2['Annual CO₂ emissions (tonnes)'].astype(str) + ' tonnes'\n",
    "    \n",
    "    # Add trace for each year's pie chart\n",
    "    fig.add_trace(go.Pie(labels=subset1['Entity'],   # Labels for each portion in pie chart\n",
    "                         values=subset1['Annual CO₂ emissions (tonnes)'],   # CO₂ emission in tonnes\n",
    "                         name='Year<br>{}'.format(year1_menu.value),   # Which year the data is for\n",
    "                         text=subset1['text'],   # Specify which text information to be shown\n",
    "                         textinfo=\"none\"),1,1)   # Disable default text information\n",
    "    \n",
    "    fig.add_trace(go.Pie(labels=subset2['Entity'],   # Labels for each portion in pie chart\n",
    "                         values=subset2['Annual CO₂ emissions (tonnes)'],   # CO₂ emission in tonnes \n",
    "                         name='Year<br>{}'.format(year2_menu.value),   # Which year the data is for\n",
    "                         text=subset2['text'],   # Specify which text information to be shown \n",
    "                         textinfo=\"none\"),1,2)   # Disable default text information \n",
    "    \n",
    "    # Use 'hole' to create a donut-like pie chart\n",
    "    fig.update_traces(hole=.3, hoverinfo=\"text + percent + name\")\n",
    "        \n",
    "    # Update the title of the figure\n",
    "    fig.update_layout(title_text='Annual share of countries around the world in global CO₂ Emissions<br>\\\n",
    "Source: <a href=\"https://ourworldindata.org/co2-and-other-greenhouse-gas-emissions\">Our World in Data</a>')\n",
    "    \n",
    "    # Show the figure\n",
    "    fig.show()"
   ]
  },
  {
   "cell_type": "code",
   "execution_count": null,
   "metadata": {},
   "outputs": [],
   "source": [
    "# Layout for widgets\n",
    "box_layout = Layout(display='flex', flex_flow='row', align_items='center', width='100%', justify_content = 'center')\n",
    "style = {'description_width': 'initial'}\n",
    "\n",
    "# Create dropdown menu for Year to be used for comparison\n",
    "year1_menu = widgets.Dropdown(options = df2['Year'].sort_values().unique(), description ='Year 1: ', style = style, disabled=False)\n",
    "year2_menu = widgets.Dropdown(options = df2['Year'].sort_values().unique(), description ='Year 2: ', style = style, disabled=False)\n",
    "\n",
    "# Create \"Show CO₂ Emissions\" button and define click events\n",
    "show_button = widgets.Button(button_style= 'info', description=\"Show CO₂ Emissions\")\n",
    "show_button.on_click(compare_annual_emissions)\n",
    "\n",
    "# Define display order for the buttons and menus\n",
    "display(Box(children = [year1_menu, year2_menu], layout = box_layout))\n",
    "display(VBox(children = [show_button], layout = Layout(display= 'flex', flex_flow= 'column', align_items= 'center', width='100%', justify_content = 'center')))"
   ]
  },
  {
   "cell_type": "markdown",
   "metadata": {},
   "source": [
    "Hover the mouse around to see the absolute/comparative annual contribution of the countries towards global CO<sub>2</sub> emission for the selected years. "
   ]
  },
  {
   "cell_type": "markdown",
   "metadata": {},
   "source": [
    "### Questions:\n",
    "1. Compare the CO<sub>2</sub> emission of countries post World War I (Year 1919) and II (Year 1945). How the share of winners/losers changed?\n",
    "2. Has top 5 contributors to global CO<sub>2</sub> emission changed in the era of contemporary globalization (i.e. from 1945 to 2017)?\n",
    "3. What steps governments can/should take to reduce their share of CO<sub>2</sub> emission and ensure sustainable globalization? "
   ]
  },
  {
   "cell_type": "markdown",
   "metadata": {},
   "source": [
    "![alt text](https://github.com/callysto/callysto-sample-notebooks/blob/master/notebooks/images/Callysto_Notebook-Banners_Bottom_06.06.18.jpg?raw=true)\n"
   ]
  }
 ],
 "metadata": {
  "kernelspec": {
   "display_name": "Python 3",
   "language": "python",
   "name": "python3"
  },
  "language_info": {
   "codemirror_mode": {
    "name": "ipython",
    "version": 3
   },
   "file_extension": ".py",
   "mimetype": "text/x-python",
   "name": "python",
   "nbconvert_exporter": "python",
   "pygments_lexer": "ipython3",
   "version": "3.7.3"
  }
 },
 "nbformat": 4,
 "nbformat_minor": 2
}

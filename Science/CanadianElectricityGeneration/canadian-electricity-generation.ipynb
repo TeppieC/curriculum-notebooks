{
 "cells": [
  {
   "cell_type": "markdown",
   "metadata": {},
   "source": [
    "![Callysto.ca Banner](https://github.com/callysto/curriculum-notebooks/blob/master/callysto-notebook-banner-top.jpg?raw=true)\n",
    "\n",
    "<a href=\"https://hub.callysto.ca/jupyter/hub/user-redirect/git-pull?repo=https%3A%2F%2Fgithub.com%2Fcallysto%2Fcurriculum-notebooks&branch=master&subPath=Science/CanadianElectricityGeneration/canadian-electricity-generation.ipynb&depth=1\" target=\"_parent\"><img src=\"https://raw.githubusercontent.com/callysto/curriculum-notebooks/master/open-in-callysto-button.svg?sanitize=true\" width=\"123\" height=\"24\" alt=\"Open in Callysto\"/></a>"
   ]
  },
  {
   "cell_type": "markdown",
   "metadata": {},
   "source": [
    "# Canadian Electricity Generation\n",
    "\n",
    "We are going to investigate how our electricity is produced in Canada. We'll start by importing the data from a csv file that we've prepared using data from the year 2018 from [Natural Resources Canada](https://www.nrcan.gc.ca/our-natural-resources/energy-sources-distribution/10728). We can then visualize it with a [stacked bar graph](https://chartio.com/learn/charts/stacked-bar-chart-complete-guide).\n",
    "\n",
    "Run all of the code in this notebook by clicking the `►►` button above, or by clicking on the `Cell` menu and selecting `Run All`."
   ]
  },
  {
   "cell_type": "code",
   "execution_count": null,
   "metadata": {},
   "outputs": [],
   "source": [
    "import pandas as pd\n",
    "elec = pd.read_csv('canadian-electricity-generation.csv')\n",
    "\n",
    "import plotly.express as px\n",
    "px.bar(elec, x='Area', y='Percent', color='Source', title='Electricity Generation in Canada by Area')"
   ]
  },
  {
   "cell_type": "markdown",
   "metadata": {},
   "source": [
    "<br><br>\n",
    "The stacked bar graph we just created is interactive. You can click on a word in the legend remove or add it, or double-click a word to show only that source.\n",
    "\n",
    "What are some things you observe about energy generation in Canada based on this graph?"
   ]
  },
  {
   "cell_type": "markdown",
   "metadata": {},
   "source": [
    "## Filtering the Data\n",
    "\n",
    "We can also show only the renewable energy sources from the data set using the code in the following cell.\n",
    "\n",
    "You can change\n",
    "\n",
    "`elec[elec['Renewable']=='Renewable']`\n",
    "\n",
    "to\n",
    "\n",
    "`elec[elec['Renewable']=='Nonrenewable']`\n",
    "\n",
    "and then click the `►Run` button if you'd like to see a graph with the nonrenewable sources.\n",
    "\n",
    "*(you might also want to change `title='Renewable` to `title='Nonrenewable`)*"
   ]
  },
  {
   "cell_type": "code",
   "execution_count": null,
   "metadata": {},
   "outputs": [],
   "source": [
    "px.bar(elec[elec['Renewable']=='Renewable'], x='Area', y='Percent', color='Source', title='Renewable Electricity Generation in Canada')"
   ]
  },
  {
   "cell_type": "markdown",
   "metadata": {},
   "source": [
    "<br><br>\n",
    "We can also look at a single province or territory in a pie chart using the following code.\n",
    "\n",
    "Feel free to change `area = 'Alberta'` to something like `area = 'Ontario'` then run the cell."
   ]
  },
  {
   "cell_type": "code",
   "execution_count": null,
   "metadata": {},
   "outputs": [],
   "source": [
    "area = 'Alberta'\n",
    "px.pie(elec[elec['Area']==area], names='Source', values='Percent', title='Electricity Generation in '+area)"
   ]
  },
  {
   "cell_type": "markdown",
   "metadata": {},
   "source": [
    "## Population Data\n",
    "\n",
    "Since the provinces and territories have different population sizes, we probably want to look at electricity production relative to population. We will combine our electricity dataset with a csv file that includes population data from the [Statistics Canada 2016 Census](https://www12.statcan.gc.ca/census-recensement/2016/dp-pd/prof/index.cfm?Lang=E). We'll multiply the electricity generation percents by this population data to get a new data table."
   ]
  },
  {
   "cell_type": "code",
   "execution_count": null,
   "metadata": {},
   "outputs": [],
   "source": [
    "pop = pd.read_csv('canadian-populations.csv')\n",
    "df = pd.merge(elec, pop, on='Area', how='left')\n",
    "df['Proportion'] = df['Percent']*df['Population']\n",
    "df"
   ]
  },
  {
   "cell_type": "markdown",
   "metadata": {},
   "source": [
    "From this new data table we can generate a bar graph that shows likely production amounts in Canada."
   ]
  },
  {
   "cell_type": "code",
   "execution_count": null,
   "metadata": {},
   "outputs": [],
   "source": [
    "px.bar(df, x='Source', y='Proportion', text='Area', title='Proportional Electricity Generation in Canada')"
   ]
  },
  {
   "cell_type": "markdown",
   "metadata": {},
   "source": [
    "What do you notice from the graph above?\n",
    "\n",
    "## Sunburst Charts\n",
    "\n",
    "These are another type of visualization we can use with this data set. This first sunburst chart shows proprotional production by province or territory, then by source."
   ]
  },
  {
   "cell_type": "code",
   "execution_count": null,
   "metadata": {},
   "outputs": [],
   "source": [
    "px.sunburst(df, path=['Area','Source'], values='Proportion', title='Electricity Generation in Canada')"
   ]
  },
  {
   "cell_type": "markdown",
   "metadata": {},
   "source": [
    "We can also include whether the source is renewable or not."
   ]
  },
  {
   "cell_type": "code",
   "execution_count": null,
   "metadata": {},
   "outputs": [],
   "source": [
    "px.sunburst(df, path=['Area','Renewable','Source'], values='Proportion', title='Electricity Generation in Canada')"
   ]
  },
  {
   "cell_type": "markdown",
   "metadata": {},
   "source": [
    "Notice what happens if we chance the order of the columns we are using from the data set."
   ]
  },
  {
   "cell_type": "code",
   "execution_count": null,
   "metadata": {},
   "outputs": [],
   "source": [
    "px.sunburst(df, path=['Renewable','Area','Source'], values='Proportion', title='Electricity Generation in Canada')"
   ]
  },
  {
   "cell_type": "code",
   "execution_count": null,
   "metadata": {},
   "outputs": [],
   "source": [
    "px.sunburst(df, path=['Source','Area'], values='Proportion', title='Electricity Generation in Canada')"
   ]
  },
  {
   "cell_type": "markdown",
   "metadata": {},
   "source": [
    "We can also create a sunburst using data from only one province or territory."
   ]
  },
  {
   "cell_type": "code",
   "execution_count": null,
   "metadata": {},
   "outputs": [],
   "source": [
    "area = 'Alberta'\n",
    "px.sunburst(df[df['Area']==area], path=['Renewable','Source'], values='Percent', title='Electricity Generation in '+area)"
   ]
  },
  {
   "cell_type": "markdown",
   "metadata": {},
   "source": [
    "Or we can filter the data to show only the territories."
   ]
  },
  {
   "cell_type": "code",
   "execution_count": null,
   "metadata": {},
   "outputs": [],
   "source": [
    "px.sunburst(df[df['Type']=='Territory'], path=['Area','Renewable','Source'], values='Proportion', title='Electricity Generation in the Territories')"
   ]
  },
  {
   "cell_type": "markdown",
   "metadata": {},
   "source": [
    "## Alternate Data Sources\n",
    "\n",
    "We can also obtain data from tables on a Wikipedia article. These datasets are likely more current, but may contain errrors or stations that are not yet operational.\n",
    "\n",
    "As an example, let's get the data for [electrical generating stations in Alberta](https://en.wikipedia.org/wiki/List_of_generating_stations_in_Alberta). The article format or ordering may have changed and the code may need to be updated to match, it would be a good idea to compare the article to the categories list in the code."
   ]
  },
  {
   "cell_type": "code",
   "execution_count": null,
   "metadata": {},
   "outputs": [],
   "source": [
    "df = pd.read_html('https://en.wikipedia.org/wiki/List_of_generating_stations_in_Alberta')\n",
    "categories = ['coal','natural gas','dual fuel','biomass','geothermal','hydroelectric','wind','solar']\n",
    "values = []\n",
    "for i, c in enumerate(categories):\n",
    "  total = int(pd.to_numeric(df[i+1]['Capacity (MW)'], errors='coerce').sum())\n",
    "  values.append(total)\n",
    "print(categories)\n",
    "print(values)\n",
    "\n",
    "px.pie(names=categories, values=values)"
   ]
  },
  {
   "cell_type": "markdown",
   "metadata": {},
   "source": [
    "## Conclusion\n",
    "\n",
    "We created some bar, pie, and sunburst charts from data about electricity generation in Canada, including population data.\n",
    "\n",
    "What other visualizations do you think we could create from these data sets?"
   ]
  },
  {
   "cell_type": "markdown",
   "metadata": {},
   "source": [
    "[![Callysto.ca License](https://github.com/callysto/curriculum-notebooks/blob/master/callysto-notebook-banner-bottom.jpg?raw=true)](https://github.com/callysto/curriculum-notebooks/blob/master/LICENSE.md)"
   ]
  }
 ],
 "metadata": {
  "kernelspec": {
   "display_name": "Python 3",
   "language": "python",
   "name": "python3"
  },
  "language_info": {
   "codemirror_mode": {
    "name": "ipython",
    "version": 3
   },
   "file_extension": ".py",
   "mimetype": "text/x-python",
   "name": "python",
   "nbconvert_exporter": "python",
   "pygments_lexer": "ipython3",
   "version": "3.10.1"
  }
 },
 "nbformat": 4,
 "nbformat_minor": 4
}

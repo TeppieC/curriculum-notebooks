{
 "cells": [
  {
   "cell_type": "markdown",
   "metadata": {},
   "source": [
    "![Callysto.ca Banner](https://github.com/callysto/curriculum-notebooks/blob/master/callysto-notebook-banner-top.jpg?raw=true)\n",
    "\n",
    "<a href=\"https://hub.callysto.ca/jupyter/hub/user-redirect/git-pull?repo=https%3A%2F%2Fgithub.com%2Fcallysto%2Fcurriculum-notebooks&branch=master&subPath=Science/ClassifyingChemicalReactions/classifying-chemical-reactions.ipynb&depth=1\" target=\"_parent\"><img src=\"https://raw.githubusercontent.com/callysto/curriculum-notebooks/master/open-in-callysto-button.svg?sanitize=true\" width=\"123\" height=\"24\" alt=\"Open in Callysto\"/></a>"
   ]
  },
  {
   "cell_type": "code",
   "execution_count": 1,
   "metadata": {},
   "outputs": [
    {
     "data": {
      "text/html": [
       "\n",
       "<script>\n",
       "  function code_toggle() {\n",
       "    if (code_shown){\n",
       "      $('div.input').hide('500');\n",
       "      $('#toggleButton').val('Show Code')\n",
       "    } else {\n",
       "      $('div.input').show('500');\n",
       "      $('#toggleButton').val('Hide Code')\n",
       "    }\n",
       "    code_shown = !code_shown\n",
       "  }\n",
       "\n",
       "  $( document ).ready(function(){\n",
       "    code_shown=false;\n",
       "    $('div.input').hide()\n",
       "  });\n",
       "</script>\n",
       "<form action=\"javascript:code_toggle()\"><input type=\"submit\" id=\"toggleButton\" value=\"Show Code\"></form>\n"
      ],
      "text/plain": [
       "<IPython.core.display.HTML object>"
      ]
     },
     "metadata": {},
     "output_type": "display_data"
    }
   ],
   "source": [
    "%%html\n",
    "\n",
    "<script>\n",
    "  function code_toggle() {\n",
    "    if (code_shown){\n",
    "      $('div.input').hide('500');\n",
    "      $('#toggleButton').val('Show Code')\n",
    "    } else {\n",
    "      $('div.input').show('500');\n",
    "      $('#toggleButton').val('Hide Code')\n",
    "    }\n",
    "    code_shown = !code_shown\n",
    "  }\n",
    "\n",
    "  $( document ).ready(function(){\n",
    "    code_shown=false;\n",
    "    $('div.input').hide()\n",
    "  });\n",
    "</script>\n",
    "<form action=\"javascript:code_toggle()\"><input type=\"submit\" id=\"toggleButton\" value=\"Show Code\"></form>"
   ]
  },
  {
   "cell_type": "markdown",
   "metadata": {},
   "source": [
    "(Click **Cell** > **Run All** before proceeding.) "
   ]
  },
  {
   "cell_type": "code",
   "execution_count": 2,
   "metadata": {},
   "outputs": [],
   "source": [
    "%matplotlib inline\n",
    "from helper import *"
   ]
  },
  {
   "cell_type": "markdown",
   "metadata": {},
   "source": [
    "# Classifying Chemical Equations"
   ]
  },
  {
   "cell_type": "markdown",
   "metadata": {},
   "source": [
    "## Introduction\n",
    "\n",
    "A **chemical equation** is used to describe the  process that involves the rearrangement of the atoms in the molecular or ionic structure of a substance or material. All chemical reactions involve the formation or destruction of chemical bonds wherein reactants are transformed into products. Chemical reactions take place all around us and within us. Many of these chemical reactions share similar characteristics to one another, which allow them to be grouped and classified in a number of different ways. One common classification scheme organizes chemical reactions into four types: \n",
    "\n",
    "* <a href=\"#combination\">Combination reactions</a> \n",
    "* <a href=\"#decomposition\">Decomposition reactions</a> \n",
    "* <a href=\"#single\">Single replacement reactions</a>\n",
    "* <a href=\"#double\">Double replacement reactions</a>\n",
    "\n",
    "## <a id=\"combination\"> #1 Combination Reaction</a>\n",
    "\n",
    "A **combination reaction** (also called a *synthesis reaction*) describes the process in which two or more reactants combine to form a new singular product. The general form for a combination reaction is given below: \n",
    "\n",
    "<img src=\"images/combination_reaction.svg\" width=\"55%\"/>\n",
    "\n",
    "The reactant side may contain two or more elements or compounds, but the product side will always contain only one compound. This is the key characteristic of a combination reaction. Combination reactions may include reactions between two or more elements:\n",
    "\n",
    "2H<sub>2</sub> + O<sub>2</sub> &rarr; 2H<sub>2</sub>O\n",
    "\n",
    "Between elements and compounds:\n",
    "\n",
    "O<sub>2</sub> + 2CO &rarr; 2CO<sub>2</sub>\n",
    "\n",
    "Or between compounds:\n",
    "\n",
    "CaO + CO<sub>2</sub> &rarr; CaCO<sub>3</sub>\n",
    "\n",
    "The new bonds formed in the product are often lower in energy than the bonds in the reactants. When this occurs, energy is released, often in the form of heat. As a consequence, combination reactions are usually exothermic."
   ]
  },
  {
   "cell_type": "markdown",
   "metadata": {},
   "source": [
    "## Practice Problems"
   ]
  },
  {
   "cell_type": "markdown",
   "metadata": {},
   "source": [
    "**Question:** *Select 'True' or 'False' for each of the follow statements.* "
   ]
  },
  {
   "cell_type": "code",
   "execution_count": 3,
   "metadata": {
    "scrolled": true
   },
   "outputs": [
    {
     "data": {
      "application/vnd.jupyter.widget-view+json": {
       "model_id": "6b91df897470484f8e2171763be72c7f",
       "version_major": 2,
       "version_minor": 0
      },
      "text/plain": [
       "HBox(children=(Button(description='True', style=ButtonStyle(button_color='Whitesmoke')), Button(description='F…"
      ]
     },
     "metadata": {},
     "output_type": "display_data"
    },
    {
     "data": {
      "application/vnd.jupyter.widget-view+json": {
       "model_id": "30e7f27a9faa42adbdec2e0ea7c5d2a9",
       "version_major": 2,
       "version_minor": 0
      },
      "text/plain": [
       "HBox(children=(Button(description='True', style=ButtonStyle(button_color='Whitesmoke')), Button(description='F…"
      ]
     },
     "metadata": {},
     "output_type": "display_data"
    },
    {
     "data": {
      "application/vnd.jupyter.widget-view+json": {
       "model_id": "391ec8255ead4812a6a252ce8854425b",
       "version_major": 2,
       "version_minor": 0
      },
      "text/plain": [
       "HBox(children=(Button(description='True', style=ButtonStyle(button_color='Whitesmoke')), Button(description='F…"
      ]
     },
     "metadata": {},
     "output_type": "display_data"
    },
    {
     "data": {
      "application/vnd.jupyter.widget-view+json": {
       "model_id": "fd33853a1b3447e683cd0737bd418ca1",
       "version_major": 2,
       "version_minor": 0
      },
      "text/plain": [
       "HBox(children=(Button(description='True', style=ButtonStyle(button_color='Whitesmoke')), Button(description='F…"
      ]
     },
     "metadata": {},
     "output_type": "display_data"
    },
    {
     "name": "stdout",
     "output_type": "stream",
     "text": [
      " \r"
     ]
    }
   ],
   "source": [
    "randomize_1 = random.randint(1, 2)\n",
    "if randomize_1 == 1:\n",
    "    option_1 = \"Combination reactions are often exothermic.\"; bool_1 = True\n",
    "elif randomize_1 == 2:\n",
    "    option_1 = \"Combination reactions are often endothermic.\"; bool_1 = False\n",
    "\n",
    "randomize_1 = random.randint(1, 4)\n",
    "if randomize_1 == 1:\n",
    "    option_2 = \"Combination reactions always have two or more reactants, but only one product.\"; bool_2 = True\n",
    "elif randomize_1 == 2:\n",
    "    option_2 = \"Combination reactions always have two or more reactants, but only one product.\"; bool_2 = True    \n",
    "elif randomize_1 == 3:\n",
    "    option_2 = \"Combination reactions always have two or more reactants, and two or more products.\"; bool_2 = False\n",
    "elif randomize_1 == 4:\n",
    "    option_2 = \"Combination reactions always have one reactant, and one product.\"; bool_2 = False\n",
    "\n",
    "randomize_1 = random.randint(1, 6)\n",
    "if randomize_1 == 1:\n",
    "    option_3 = \"The general form of a combination reaction is: A + B &rarr; AB.\"; bool_3 = True\n",
    "elif randomize_1 == 2:\n",
    "    option_3 = \"The general form of a combination reaction is: A + B &rarr; AB.\"; bool_3 = True\n",
    "elif randomize_1 == 3:\n",
    "    option_3 = \"The general form of a combination reaction is: A + B &rarr; AB.\"; bool_3 = True\n",
    "elif randomize_1 == 4:\n",
    "    option_3 = \"The general form of a combination reaction is: AB &rarr; A + B.\"; bool_3 = False\n",
    "elif randomize_1 == 5:\n",
    "    option_3 = \"The general form of a combination reaction is: AB + X &rarr; XB + A.\"; bool_3 = False\n",
    "elif randomize_1 == 6:\n",
    "    option_3 = \"The general form of a combination reaction is: AB + XY &rarr; XB + AY.\"; bool_3 = False\n",
    "\n",
    "randomize_1 = random.randint(1, 2)\n",
    "if randomize_1 == 1:\n",
    "    option_4 = \"The product generated from a combination reaction is always a compound.\"; bool_4 = True\n",
    "elif randomize_1 == 2:\n",
    "    option_4 = \"The product generated from a combination reaction is always an element.\"; bool_4 = False    \n",
    "\n",
    "true_false(option_1, bool_1, option_2, bool_2, option_3, bool_3, option_4, bool_4, \"True\", \"False\")"
   ]
  },
  {
   "cell_type": "markdown",
   "metadata": {},
   "source": [
    "**Question:** *Which of the follow chemical reactions is a combination reaction?* "
   ]
  },
  {
   "cell_type": "code",
   "execution_count": 4,
   "metadata": {
    "scrolled": false
   },
   "outputs": [
    {
     "data": {
      "application/vnd.jupyter.widget-view+json": {
       "model_id": "e87a5c0fc149485a9f6b05afeac9128b",
       "version_major": 2,
       "version_minor": 0
      },
      "text/plain": [
       "HTMLMath(value='<b>(A)</b> CH<sub>4</sub> + 2O<sub>2</sub> &rarr; CO<sub>2</sub> + 2H<sub>2</sub>O')"
      ]
     },
     "metadata": {},
     "output_type": "display_data"
    },
    {
     "data": {
      "application/vnd.jupyter.widget-view+json": {
       "model_id": "9e0a0f8ce011457d88b9dbd955cf80c1",
       "version_major": 2,
       "version_minor": 0
      },
      "text/plain": [
       "HTMLMath(value='<b>(B)</b> 2NaCl + F<sub>2</sub> &rarr; 2NaF + Cl<sub>2</sub>')"
      ]
     },
     "metadata": {},
     "output_type": "display_data"
    },
    {
     "data": {
      "application/vnd.jupyter.widget-view+json": {
       "model_id": "1ec57dda99e9490092dc6a59871cac84",
       "version_major": 2,
       "version_minor": 0
      },
      "text/plain": [
       "HTMLMath(value='<b>(C)</b> NaCl + AgNO<sub>3</sub> &rarr; AgCl + NaNO<sub>3</sub>')"
      ]
     },
     "metadata": {},
     "output_type": "display_data"
    },
    {
     "data": {
      "application/vnd.jupyter.widget-view+json": {
       "model_id": "b0342d7b8a874b469c8280134fa8f9a3",
       "version_major": 2,
       "version_minor": 0
      },
      "text/plain": [
       "HTMLMath(value='<b>(D)</b> Ba + F<sub>2</sub> &rarr; BaF<sub>2</sub>')"
      ]
     },
     "metadata": {},
     "output_type": "display_data"
    },
    {
     "data": {
      "application/vnd.jupyter.widget-view+json": {
       "model_id": "a41f23aa90bd4133b30b54ac923e20f3",
       "version_major": 2,
       "version_minor": 0
      },
      "text/plain": [
       "HBox(children=(Button(description='(A)', style=ButtonStyle(button_color='Whitesmoke')), Button(description='(B…"
      ]
     },
     "metadata": {},
     "output_type": "display_data"
    },
    {
     "name": "stdout",
     "output_type": "stream",
     "text": [
      " \r"
     ]
    }
   ],
   "source": [
    "#import ipywidgets as widgets\n",
    "#import random\n",
    "#from IPython.display import clear_output, display, HTML\n",
    "\n",
    "option_1 = \"Ba + F<sub>2</sub> &rarr; BaF<sub>2</sub>\" \n",
    "option_2 = \"NaCl + AgNO<sub>3</sub> &rarr; AgCl + NaNO<sub>3</sub>\"\n",
    "option_3 = \"CH<sub>4</sub> + 2O<sub>2</sub> &rarr; CO<sub>2</sub> + 2H<sub>2</sub>O\"\n",
    "option_4 = \"2NaCl + F<sub>2</sub> &rarr; 2NaF + Cl<sub>2</sub>\"\n",
    "\n",
    "multiple_choice(option_1, option_2, option_3, option_4)"
   ]
  },
  {
   "cell_type": "code",
   "execution_count": 5,
   "metadata": {},
   "outputs": [
    {
     "data": {
      "application/vnd.jupyter.widget-view+json": {
       "model_id": "514ffbbb85274dcf98578fc183efcdbf",
       "version_major": 2,
       "version_minor": 0
      },
      "text/plain": [
       "HTMLMath(value='<b>(A)</b> Zn + 2HCl &rarr; ZnCl<sub>2</sub> + H<sub>2</sub>')"
      ]
     },
     "metadata": {},
     "output_type": "display_data"
    },
    {
     "data": {
      "application/vnd.jupyter.widget-view+json": {
       "model_id": "2ef616b7eab94a4d8f49e7a5461543fd",
       "version_major": 2,
       "version_minor": 0
      },
      "text/plain": [
       "HTMLMath(value='<b>(B)</b> 2HBr + Cl<sub>2</sub> &rarr; 2HCl + Br<sub>2</sub>')"
      ]
     },
     "metadata": {},
     "output_type": "display_data"
    },
    {
     "data": {
      "application/vnd.jupyter.widget-view+json": {
       "model_id": "f3aef42312d44ed8b133a733d3a204a2",
       "version_major": 2,
       "version_minor": 0
      },
      "text/plain": [
       "HTMLMath(value='<b>(C)</b> C<sub>2</sub>H<sub>5</sub>OH + 3O<sub>2</sub> &rarr; 2CO<sub>2</sub> + 3H<sub>2</su…"
      ]
     },
     "metadata": {},
     "output_type": "display_data"
    },
    {
     "data": {
      "application/vnd.jupyter.widget-view+json": {
       "model_id": "9500a70f824a4caaa910944ee8b3f307",
       "version_major": 2,
       "version_minor": 0
      },
      "text/plain": [
       "HTMLMath(value='<b>(D)</b> Fe + S &rarr; FeS')"
      ]
     },
     "metadata": {},
     "output_type": "display_data"
    },
    {
     "data": {
      "application/vnd.jupyter.widget-view+json": {
       "model_id": "91ae4dca3e2441e1b0d2ba430ca2002a",
       "version_major": 2,
       "version_minor": 0
      },
      "text/plain": [
       "HBox(children=(Button(description='(A)', style=ButtonStyle(button_color='Whitesmoke')), Button(description='(B…"
      ]
     },
     "metadata": {},
     "output_type": "display_data"
    },
    {
     "name": "stdout",
     "output_type": "stream",
     "text": [
      " \r"
     ]
    }
   ],
   "source": [
    "#import ipywidgets as widgets\n",
    "#import random\n",
    "#from IPython.display import clear_output, display, HTML\n",
    "\n",
    "option_1 = \"Fe + S &rarr; FeS\" \n",
    "option_2 = \"2HBr + Cl<sub>2</sub> &rarr; 2HCl + Br<sub>2</sub>\"\n",
    "option_3 = \"C<sub>2</sub>H<sub>5</sub>OH + 3O<sub>2</sub> &rarr; 2CO<sub>2</sub> + 3H<sub>2</sub>O\"\n",
    "option_4 = \"Zn + 2HCl &rarr; ZnCl<sub>2</sub> + H<sub>2</sub>\"\n",
    "\n",
    "multiple_choice(option_1, option_2, option_3, option_4)"
   ]
  },
  {
   "cell_type": "code",
   "execution_count": 6,
   "metadata": {},
   "outputs": [
    {
     "data": {
      "application/vnd.jupyter.widget-view+json": {
       "model_id": "3548008577684527aee39ee3c5750e9b",
       "version_major": 2,
       "version_minor": 0
      },
      "text/plain": [
       "HTMLMath(value='<b>(A)</b> Na<sub>2</sub>CO<sub>3</sub> &rarr; Na<sub>2</sub>O + CO<sub>2</sub>')"
      ]
     },
     "metadata": {},
     "output_type": "display_data"
    },
    {
     "data": {
      "application/vnd.jupyter.widget-view+json": {
       "model_id": "fe23d2b1465a4e3c9e66afd6a067e450",
       "version_major": 2,
       "version_minor": 0
      },
      "text/plain": [
       "HTMLMath(value='<b>(B)</b> MgO + CO<sub>2</sub> &rarr; MgCO<sub>3</sub>')"
      ]
     },
     "metadata": {},
     "output_type": "display_data"
    },
    {
     "data": {
      "application/vnd.jupyter.widget-view+json": {
       "model_id": "669bfc3656974803ba18618e2a9fa916",
       "version_major": 2,
       "version_minor": 0
      },
      "text/plain": [
       "HTMLMath(value='<b>(C)</b> NaNO<sub>3</sub> + KCl &rarr; KNO<sub>3</sub> + NaCl')"
      ]
     },
     "metadata": {},
     "output_type": "display_data"
    },
    {
     "data": {
      "application/vnd.jupyter.widget-view+json": {
       "model_id": "398312395c414aab8aeb6c2015a14866",
       "version_major": 2,
       "version_minor": 0
      },
      "text/plain": [
       "HTMLMath(value='<b>(D)</b> 4NH<sub>3</sub> + 3O<sub>2</sub> &rarr; 2N<sub>2</sub> + 6H<sub>2</sub>O')"
      ]
     },
     "metadata": {},
     "output_type": "display_data"
    },
    {
     "data": {
      "application/vnd.jupyter.widget-view+json": {
       "model_id": "c2843f480544449a8231625649b97c58",
       "version_major": 2,
       "version_minor": 0
      },
      "text/plain": [
       "HBox(children=(Button(description='(A)', style=ButtonStyle(button_color='Whitesmoke')), Button(description='(B…"
      ]
     },
     "metadata": {},
     "output_type": "display_data"
    },
    {
     "name": "stdout",
     "output_type": "stream",
     "text": [
      " \r"
     ]
    }
   ],
   "source": [
    "#import ipywidgets as widgets\n",
    "#import random\n",
    "#from IPython.display import clear_output, display, HTML\n",
    "\n",
    "option_1 = \"MgO + CO<sub>2</sub> &rarr; MgCO<sub>3</sub>\" \n",
    "option_2 = \"Na<sub>2</sub>CO<sub>3</sub> &rarr; Na<sub>2</sub>O + CO<sub>2</sub>\"\n",
    "option_3 = \"4NH<sub>3</sub> + 3O<sub>2</sub> &rarr; 2N<sub>2</sub> + 6H<sub>2</sub>O\"\n",
    "option_4 = \"NaNO<sub>3</sub> + KCl &rarr; KNO<sub>3</sub> + NaCl\"\n",
    "\n",
    "multiple_choice(option_1, option_2, option_3, option_4)"
   ]
  },
  {
   "cell_type": "code",
   "execution_count": 7,
   "metadata": {},
   "outputs": [
    {
     "data": {
      "application/vnd.jupyter.widget-view+json": {
       "model_id": "b5f7f5b273814840ac3a7e34e311742a",
       "version_major": 2,
       "version_minor": 0
      },
      "text/plain": [
       "HTMLMath(value='<b>(A)</b> CaCO<sub>3</sub> &rarr; CaO + CO<sub>2</sub>')"
      ]
     },
     "metadata": {},
     "output_type": "display_data"
    },
    {
     "data": {
      "application/vnd.jupyter.widget-view+json": {
       "model_id": "1ae41c2c17444fb7b00c0bc2db8d717a",
       "version_major": 2,
       "version_minor": 0
      },
      "text/plain": [
       "HTMLMath(value='<b>(B)</b> KBr + AgNO<sub>3</sub> &rarr; KNO<sub>3</sub> + AgBr')"
      ]
     },
     "metadata": {},
     "output_type": "display_data"
    },
    {
     "data": {
      "application/vnd.jupyter.widget-view+json": {
       "model_id": "248310542aa948d6a6d9f31cf8254a99",
       "version_major": 2,
       "version_minor": 0
      },
      "text/plain": [
       "HTMLMath(value='<b>(C)</b> C<sub>3</sub>H<sub>8</sub> + 5O<sub>2</sub> &rarr; 3CO<sub>2</sub> + 4H<sub>2</sub>…"
      ]
     },
     "metadata": {},
     "output_type": "display_data"
    },
    {
     "data": {
      "application/vnd.jupyter.widget-view+json": {
       "model_id": "530082e692f544ba9bb77658b3b0091e",
       "version_major": 2,
       "version_minor": 0
      },
      "text/plain": [
       "HTMLMath(value='<b>(D)</b> 2S + 3O<sub>2</sub> &rarr; 2SO<sub>3</sub>')"
      ]
     },
     "metadata": {},
     "output_type": "display_data"
    },
    {
     "data": {
      "application/vnd.jupyter.widget-view+json": {
       "model_id": "70e6e25f4148496b90da3f11837f02b2",
       "version_major": 2,
       "version_minor": 0
      },
      "text/plain": [
       "HBox(children=(Button(description='(A)', style=ButtonStyle(button_color='Whitesmoke')), Button(description='(B…"
      ]
     },
     "metadata": {},
     "output_type": "display_data"
    },
    {
     "name": "stdout",
     "output_type": "stream",
     "text": [
      " \r"
     ]
    }
   ],
   "source": [
    "#import ipywidgets as widgets\n",
    "#import random\n",
    "#from IPython.display import clear_output, display, HTML\n",
    "\n",
    "option_1 = \"2S + 3O<sub>2</sub> &rarr; 2SO<sub>3</sub>\" \n",
    "option_2 = \"CaCO<sub>3</sub> &rarr; CaO + CO<sub>2</sub>\"\n",
    "option_3 = \"C<sub>3</sub>H<sub>8</sub> + 5O<sub>2</sub> &rarr; 3CO<sub>2</sub> + 4H<sub>2</sub>O\"\n",
    "option_4 = \"KBr + AgNO<sub>3</sub> &rarr; KNO<sub>3</sub> + AgBr\"\n",
    "\n",
    "multiple_choice(option_1, option_2, option_3, option_4)"
   ]
  },
  {
   "cell_type": "markdown",
   "metadata": {},
   "source": [
    "## <a id=\"decomposition\"> #2 Decomposition Reaction</a>\n",
    "\n",
    "A **decomposition reaction** describes the process in which a single reactant breaks down to form two or more products. The general form for a decomposition reaction is given below:\n",
    "\n",
    "<img src=\"images/decomposition_reaction.svg\" width=\"55%\"/>\n",
    "\n",
    "The reactant side will always contain a compound, but the product side may contain two or more elements or compounds. This is the key characteristic of a decomposition reaction. For example, the products may include two or more elements:\n",
    "\n",
    "2H<sub>2</sub>O &rarr; 2H<sub>2</sub> + O<sub>2</sub>\n",
    "\n",
    "Elements and compounds:\n",
    "\n",
    "2KClO<sub>3</sub> &rarr; 3O<sub>2</sub> + 2KCl\n",
    "\n",
    "Or two or more compounds:\n",
    "\n",
    "NH<sub>4</sub>Cl &rarr; NH<sub>3</sub> + HCl\n",
    "\n",
    "The new bonds formed in the products are often higher in energy than the bonds in the reactant. When this occurs, some energy, usually in the form of heat, is needed. As a consequence, decomposition reactions are usually endothermic."
   ]
  },
  {
   "cell_type": "markdown",
   "metadata": {},
   "source": [
    "## Practice Problems"
   ]
  },
  {
   "cell_type": "markdown",
   "metadata": {},
   "source": [
    "**Question:** *Select 'True' or 'False' for each of the follow statements.* "
   ]
  },
  {
   "cell_type": "code",
   "execution_count": 8,
   "metadata": {},
   "outputs": [
    {
     "data": {
      "application/vnd.jupyter.widget-view+json": {
       "model_id": "518c872385994ed4a8f00d1f32d937b5",
       "version_major": 2,
       "version_minor": 0
      },
      "text/plain": [
       "HBox(children=(Button(description='True', style=ButtonStyle(button_color='Whitesmoke')), Button(description='F…"
      ]
     },
     "metadata": {},
     "output_type": "display_data"
    },
    {
     "data": {
      "application/vnd.jupyter.widget-view+json": {
       "model_id": "17327b0d3fc64b5ea8c60648b9713c48",
       "version_major": 2,
       "version_minor": 0
      },
      "text/plain": [
       "HBox(children=(Button(description='True', style=ButtonStyle(button_color='Whitesmoke')), Button(description='F…"
      ]
     },
     "metadata": {},
     "output_type": "display_data"
    },
    {
     "data": {
      "application/vnd.jupyter.widget-view+json": {
       "model_id": "09132cf5f5264405b55b6f4201cacc11",
       "version_major": 2,
       "version_minor": 0
      },
      "text/plain": [
       "HBox(children=(Button(description='True', style=ButtonStyle(button_color='Whitesmoke')), Button(description='F…"
      ]
     },
     "metadata": {},
     "output_type": "display_data"
    },
    {
     "data": {
      "application/vnd.jupyter.widget-view+json": {
       "model_id": "5facde32565a4cf89668e9a378ab99d1",
       "version_major": 2,
       "version_minor": 0
      },
      "text/plain": [
       "HBox(children=(Button(description='True', style=ButtonStyle(button_color='Whitesmoke')), Button(description='F…"
      ]
     },
     "metadata": {},
     "output_type": "display_data"
    },
    {
     "name": "stdout",
     "output_type": "stream",
     "text": [
      " \r"
     ]
    }
   ],
   "source": [
    "randomize_2 = random.randint(1, 2)\n",
    "if randomize_2 == 1:\n",
    "    option_1 = \"Decomposition reactions are often endothermic.\"; bool_1 = True\n",
    "elif randomize_2 == 2:\n",
    "    option_1 = \"Decomposition reactions are often exothermic.\"; bool_1 = False\n",
    "\n",
    "randomize_2 = random.randint(1, 4)\n",
    "if randomize_2 == 1:\n",
    "    option_2 = \"Decomposition reactions always have one reactant, but two or more products.\"; bool_2 = True\n",
    "elif randomize_2 == 2:    \n",
    "    option_2 = \"Decomposition reactions always have one reactant, but two or more products.\"; bool_2 = True\n",
    "elif randomize_2 == 3:\n",
    "    option_2 = \"Decomposition reactions always have two or more reactants, and two or more products.\"; bool_2 = False\n",
    "elif randomize_2 == 4:\n",
    "    option_2 = \"Decomposition reactions always have one reactant, and one product.\"; bool_2 = False\n",
    "\n",
    "randomize_2 = random.randint(1, 6)\n",
    "if randomize_2 == 1:\n",
    "    option_3 = \"The general form of a decomposition reaction is: AB &rarr; A + B.\"; bool_3 = True\n",
    "elif randomize_2 == 2:\n",
    "    option_3 = \"The general form of a decomposition reaction is: AB &rarr; A + B.\"; bool_3 = True\n",
    "elif randomize_2 == 3:\n",
    "    option_3 = \"The general form of a decomposition reaction is: AB &rarr; A + B.\"; bool_3 = True\n",
    "elif randomize_2 == 4:\n",
    "    option_3 = \"The general form of a decomposition reaction is: A + B &rarr; AB.\"; bool_3 = False\n",
    "elif randomize_2 == 5:\n",
    "    option_3 = \"The general form of a decomposition reaction is: AB + X &rarr; XB + A.\"; bool_3 = False\n",
    "elif randomize_2 == 6:\n",
    "    option_3 = \"The general form of a decomposition reaction is: AB + XY &rarr; XB + AY.\"; bool_3 = False\n",
    "\n",
    "randomize_2 = random.randint(1, 2)\n",
    "if randomize_2 == 1:\n",
    "    option_4 = \"The reactant in a decomposition reaction is always a compound.\"; bool_4 = True\n",
    "elif randomize_2 == 2:\n",
    "    option_4 = \"The reactant in a decomposition reaction is always an element.\"; bool_4 = False    \n",
    "\n",
    "true_false(option_1, bool_1, option_2, bool_2, option_3, bool_3, option_4, bool_4, \"True\", \"False\")"
   ]
  },
  {
   "cell_type": "markdown",
   "metadata": {},
   "source": [
    "**Question:** *Which of the follow chemical reactions is a decomposition reaction?* "
   ]
  },
  {
   "cell_type": "code",
   "execution_count": 9,
   "metadata": {},
   "outputs": [
    {
     "data": {
      "application/vnd.jupyter.widget-view+json": {
       "model_id": "6a29aa779998412b8fc3e6bc267069e5",
       "version_major": 2,
       "version_minor": 0
      },
      "text/plain": [
       "HTMLMath(value='<b>(A)</b> Ba + F<sub>2</sub> &rarr; BaF<sub>2</sub>')"
      ]
     },
     "metadata": {},
     "output_type": "display_data"
    },
    {
     "data": {
      "application/vnd.jupyter.widget-view+json": {
       "model_id": "68ea9ad2c1ed47da9c28302ccf9d3b83",
       "version_major": 2,
       "version_minor": 0
      },
      "text/plain": [
       "HTMLMath(value='<b>(B)</b> Na<sub>2</sub>S + 2HCl &rarr; 2NaCl + H<sub>2</sub>S')"
      ]
     },
     "metadata": {},
     "output_type": "display_data"
    },
    {
     "data": {
      "application/vnd.jupyter.widget-view+json": {
       "model_id": "d3842318b6c04b7eac5c85ecfc22546d",
       "version_major": 2,
       "version_minor": 0
      },
      "text/plain": [
       "HTMLMath(value='<b>(C)</b> 2Ni<sub>2</sub>O<sub>3</sub> &rarr; 4Ni + 3O<sub>2</sub>')"
      ]
     },
     "metadata": {},
     "output_type": "display_data"
    },
    {
     "data": {
      "application/vnd.jupyter.widget-view+json": {
       "model_id": "3e999b6882b042079a0c30e2335810f2",
       "version_major": 2,
       "version_minor": 0
      },
      "text/plain": [
       "HTMLMath(value='<b>(D)</b> SeCl<sub>6</sub> + O<sub>2</sub> &rarr; SeO<sub>2</sub> + 3Cl<sub>2</sub>')"
      ]
     },
     "metadata": {},
     "output_type": "display_data"
    },
    {
     "data": {
      "application/vnd.jupyter.widget-view+json": {
       "model_id": "126ce537f23e49c4ac8a473b20fc73c8",
       "version_major": 2,
       "version_minor": 0
      },
      "text/plain": [
       "HBox(children=(Button(description='(A)', style=ButtonStyle(button_color='Whitesmoke')), Button(description='(B…"
      ]
     },
     "metadata": {},
     "output_type": "display_data"
    },
    {
     "name": "stdout",
     "output_type": "stream",
     "text": [
      " \r"
     ]
    }
   ],
   "source": [
    "#import ipywidgets as widgets\n",
    "#import random\n",
    "#from IPython.display import clear_output, display, HTML\n",
    "\n",
    "option_1 = \"2Ni<sub>2</sub>O<sub>3</sub> &rarr; 4Ni + 3O<sub>2</sub>\" \n",
    "option_2 = \"Na<sub>2</sub>S + 2HCl &rarr; 2NaCl + H<sub>2</sub>S\"\n",
    "option_3 = \"SeCl<sub>6</sub> + O<sub>2</sub> &rarr; SeO<sub>2</sub> + 3Cl<sub>2</sub>\"\n",
    "option_4 = \"Ba + F<sub>2</sub> &rarr; BaF<sub>2</sub>\"\n",
    "\n",
    "multiple_choice(option_1, option_2, option_3, option_4)"
   ]
  },
  {
   "cell_type": "code",
   "execution_count": 10,
   "metadata": {},
   "outputs": [
    {
     "data": {
      "application/vnd.jupyter.widget-view+json": {
       "model_id": "8959e0eaf5fd4f8a9858d49c7d169d1c",
       "version_major": 2,
       "version_minor": 0
      },
      "text/plain": [
       "HTMLMath(value='<b>(A)</b> Zn + 2HCl &rarr; H<sub>2</sub> + ZnCl<sub>2</sub>')"
      ]
     },
     "metadata": {},
     "output_type": "display_data"
    },
    {
     "data": {
      "application/vnd.jupyter.widget-view+json": {
       "model_id": "30ba947fb78642ca9d17cf94b652ae86",
       "version_major": 2,
       "version_minor": 0
      },
      "text/plain": [
       "HTMLMath(value='<b>(B)</b> 2NaOH + CaBr<sub>2</sub> &rarr; 2NaBr + Ca(OH)<sub>2</sub>')"
      ]
     },
     "metadata": {},
     "output_type": "display_data"
    },
    {
     "data": {
      "application/vnd.jupyter.widget-view+json": {
       "model_id": "b0569e04467841b0a8c0179bdcd100f9",
       "version_major": 2,
       "version_minor": 0
      },
      "text/plain": [
       "HTMLMath(value='<b>(C)</b> Al<sub>2</sub>O<sub>3</sub> &rarr; Al + O<sub>2</sub>')"
      ]
     },
     "metadata": {},
     "output_type": "display_data"
    },
    {
     "data": {
      "application/vnd.jupyter.widget-view+json": {
       "model_id": "d0144ac762e54e12818902b395a7eae8",
       "version_major": 2,
       "version_minor": 0
      },
      "text/plain": [
       "HTMLMath(value='<b>(D)</b> Fe + S &rarr; FeS')"
      ]
     },
     "metadata": {},
     "output_type": "display_data"
    },
    {
     "data": {
      "application/vnd.jupyter.widget-view+json": {
       "model_id": "0e7fbde965bc4a46b3063ee2290b65cc",
       "version_major": 2,
       "version_minor": 0
      },
      "text/plain": [
       "HBox(children=(Button(description='(A)', style=ButtonStyle(button_color='Whitesmoke')), Button(description='(B…"
      ]
     },
     "metadata": {},
     "output_type": "display_data"
    },
    {
     "name": "stdout",
     "output_type": "stream",
     "text": [
      " \r"
     ]
    }
   ],
   "source": [
    "#import ipywidgets as widgets\n",
    "#import random\n",
    "#from IPython.display import clear_output, display, HTML\n",
    "\n",
    "option_1 = \"Al<sub>2</sub>O<sub>3</sub> &rarr; Al + O<sub>2</sub>\" \n",
    "option_2 = \"2NaOH + CaBr<sub>2</sub> &rarr; 2NaBr + Ca(OH)<sub>2</sub>\"\n",
    "option_3 = \"Fe + S &rarr; FeS\"\n",
    "option_4 = \"Zn + 2HCl &rarr; H<sub>2</sub> + ZnCl<sub>2</sub>\"\n",
    "\n",
    "multiple_choice(option_1, option_2, option_3, option_4)"
   ]
  },
  {
   "cell_type": "code",
   "execution_count": 11,
   "metadata": {},
   "outputs": [
    {
     "data": {
      "application/vnd.jupyter.widget-view+json": {
       "model_id": "678a65e7bd04485385635a53a29371a0",
       "version_major": 2,
       "version_minor": 0
      },
      "text/plain": [
       "HTMLMath(value='<b>(A)</b> MgO + CO<sub>2</sub> &rarr; MgCO<sub>3</sub>')"
      ]
     },
     "metadata": {},
     "output_type": "display_data"
    },
    {
     "data": {
      "application/vnd.jupyter.widget-view+json": {
       "model_id": "c59ea2dc7f324cb6a96d57e98ed7c4bf",
       "version_major": 2,
       "version_minor": 0
      },
      "text/plain": [
       "HTMLMath(value='<b>(B)</b> CH<sub>4</sub> + 2O<sub>2</sub> &rarr; CO<sub>2</sub> + 2H<sub>2</sub>O')"
      ]
     },
     "metadata": {},
     "output_type": "display_data"
    },
    {
     "data": {
      "application/vnd.jupyter.widget-view+json": {
       "model_id": "7fc183b197b440ec91a1b2ee37208f75",
       "version_major": 2,
       "version_minor": 0
      },
      "text/plain": [
       "HTMLMath(value='<b>(C)</b> 2NaCl + F<sub>2</sub> &rarr; 2NaF + Cl<sub>2</sub>')"
      ]
     },
     "metadata": {},
     "output_type": "display_data"
    },
    {
     "data": {
      "application/vnd.jupyter.widget-view+json": {
       "model_id": "0ec8eb5188a44711a7e74dbd6342dc0c",
       "version_major": 2,
       "version_minor": 0
      },
      "text/plain": [
       "HTMLMath(value='<b>(D)</b> 2NaClO<sub>3</sub> &rarr; 2NaCl + 3O<sub>2</sub>')"
      ]
     },
     "metadata": {},
     "output_type": "display_data"
    },
    {
     "data": {
      "application/vnd.jupyter.widget-view+json": {
       "model_id": "c2c014c7439943f0beb40e165adee1ce",
       "version_major": 2,
       "version_minor": 0
      },
      "text/plain": [
       "HBox(children=(Button(description='(A)', style=ButtonStyle(button_color='Whitesmoke')), Button(description='(B…"
      ]
     },
     "metadata": {},
     "output_type": "display_data"
    },
    {
     "name": "stdout",
     "output_type": "stream",
     "text": [
      " \r"
     ]
    }
   ],
   "source": [
    "#import ipywidgets as widgets\n",
    "#import random\n",
    "#from IPython.display import clear_output, display, HTML\n",
    "\n",
    "option_1 = \"2NaClO<sub>3</sub> &rarr; 2NaCl + 3O<sub>2</sub>\" \n",
    "option_2 = \"MgO + CO<sub>2</sub> &rarr; MgCO<sub>3</sub>\"\n",
    "option_3 = \"2NaCl + F<sub>2</sub> &rarr; 2NaF + Cl<sub>2</sub>\"\n",
    "option_4 = \"CH<sub>4</sub> + 2O<sub>2</sub> &rarr; CO<sub>2</sub> + 2H<sub>2</sub>O\"\n",
    "\n",
    "multiple_choice(option_1, option_2, option_3, option_4)"
   ]
  },
  {
   "cell_type": "code",
   "execution_count": 12,
   "metadata": {},
   "outputs": [
    {
     "data": {
      "application/vnd.jupyter.widget-view+json": {
       "model_id": "212101646b024030814d7f20b72f811c",
       "version_major": 2,
       "version_minor": 0
      },
      "text/plain": [
       "HTMLMath(value='<b>(A)</b> FeS + 2HCl &rarr; FeCl<sub>2</sub> + H<sub>2</sub>S')"
      ]
     },
     "metadata": {},
     "output_type": "display_data"
    },
    {
     "data": {
      "application/vnd.jupyter.widget-view+json": {
       "model_id": "f975299bc4d2469abc06893f3b7b3aaa",
       "version_major": 2,
       "version_minor": 0
      },
      "text/plain": [
       "HTMLMath(value='<b>(B)</b> 2S + 3O<sub>2</sub> &rarr; 2SO<sub>3</sub>')"
      ]
     },
     "metadata": {},
     "output_type": "display_data"
    },
    {
     "data": {
      "application/vnd.jupyter.widget-view+json": {
       "model_id": "0f2bb25430a447a6bba60f2c86d882cf",
       "version_major": 2,
       "version_minor": 0
      },
      "text/plain": [
       "HTMLMath(value='<b>(C)</b> CaCO<sub>3</sub> &rarr; CaO + CO<sub>2</sub>')"
      ]
     },
     "metadata": {},
     "output_type": "display_data"
    },
    {
     "data": {
      "application/vnd.jupyter.widget-view+json": {
       "model_id": "3df523cc84994266b4083de2056f10b9",
       "version_major": 2,
       "version_minor": 0
      },
      "text/plain": [
       "HTMLMath(value='<b>(D)</b> 2Al + 3Cu(NO<sub>3</sub>)<sub>2</sub> &rarr; 3Cu + 2Al(NO<sub>3</sub>)<sub>3</sub>'…"
      ]
     },
     "metadata": {},
     "output_type": "display_data"
    },
    {
     "data": {
      "application/vnd.jupyter.widget-view+json": {
       "model_id": "abd5ef6a0b7749608814db04680e62df",
       "version_major": 2,
       "version_minor": 0
      },
      "text/plain": [
       "HBox(children=(Button(description='(A)', style=ButtonStyle(button_color='Whitesmoke')), Button(description='(B…"
      ]
     },
     "metadata": {},
     "output_type": "display_data"
    },
    {
     "name": "stdout",
     "output_type": "stream",
     "text": [
      " \r"
     ]
    }
   ],
   "source": [
    "#import ipywidgets as widgets\n",
    "#import random\n",
    "#from IPython.display import clear_output, display, HTML\n",
    "\n",
    "option_1 = \"CaCO<sub>3</sub> &rarr; CaO + CO<sub>2</sub>\" \n",
    "option_2 = \"2S + 3O<sub>2</sub> &rarr; 2SO<sub>3</sub>\"\n",
    "option_3 = \"2Al + 3Cu(NO<sub>3</sub>)<sub>2</sub> &rarr; 3Cu + 2Al(NO<sub>3</sub>)<sub>3</sub>\"\n",
    "option_4 = \"FeS + 2HCl &rarr; FeCl<sub>2</sub> + H<sub>2</sub>S\"\n",
    "\n",
    "multiple_choice(option_1, option_2, option_3, option_4)"
   ]
  },
  {
   "cell_type": "markdown",
   "metadata": {},
   "source": [
    "## <a id=\"single\"> #3 Single Replacement Reaction</a>\n",
    "\n",
    "A **single replacement reaction** (also called a *single displacement reaction*) describes the process in which one element replaces another element in a compound. The general form for a single replacement reaction is given below:\n",
    "\n",
    "<img src=\"images/single_displacement_reaction.svg\" width=\"78%\"/>\n",
    "\n",
    "The reactant side always contains at least one pure element and one compound. Likewise, the product side always contains at least one pure element and one compound. Only positive ions (cations) can replace other positive ions, while only negative ions (anions) can replace other negative ions. In the general equation shown above, <b>X</b> must be positive because it replaces <b>A</b>. If <b>X</b> was negative, then it would replace <b>B</b>.\n",
    "\n",
    "Below is an example of cation replacement, in which the positive ion (Ni<sup>2+</sup>) is replaced by another positive ion (Zn<sup>2+</sup>):\n",
    "\n",
    "<span style=\"color:red\">Ni</span>Cl<sub>2</sub> + <span style=\"color:blue\">Zn</span> &rarr; <span style=\"color:blue\">Zn</span>Cl<sub>2</sub> + <span style=\"color:red\">Ni</span>\n",
    "\n",
    "Below is an example of anion replacement, in which the negative ion (Br<sup>-</sup>) is replaced by another negative ion (Cl<sup>-</sup>):\n",
    "\n",
    "2Na<span style=\"color:red\">Br</span> + <span style=\"color:blue\">Cl<sub>2</sub></span> &rarr; 2Na<span style=\"color:blue\">Cl</span> + <span style=\"color:red\">Br<sub>2</sub></span>\n",
    "\n",
    "Notice how the elements shown in <span style=\"color:blue\">blue</span> replace the elements shown in <span style=\"color:red\">red</span> in each of these examples."
   ]
  },
  {
   "cell_type": "markdown",
   "metadata": {},
   "source": [
    "## Practice Problems"
   ]
  },
  {
   "cell_type": "markdown",
   "metadata": {},
   "source": [
    "**Question:** *Select 'True' or 'False' for each of the follow statements.* "
   ]
  },
  {
   "cell_type": "code",
   "execution_count": 13,
   "metadata": {},
   "outputs": [
    {
     "data": {
      "application/vnd.jupyter.widget-view+json": {
       "model_id": "efa5c0ff058e4e0288d8c6993ba71e42",
       "version_major": 2,
       "version_minor": 0
      },
      "text/plain": [
       "HBox(children=(Button(description='True', style=ButtonStyle(button_color='Whitesmoke')), Button(description='F…"
      ]
     },
     "metadata": {},
     "output_type": "display_data"
    },
    {
     "data": {
      "application/vnd.jupyter.widget-view+json": {
       "model_id": "0b9944296b964cef9115c203072d8973",
       "version_major": 2,
       "version_minor": 0
      },
      "text/plain": [
       "HBox(children=(Button(description='True', style=ButtonStyle(button_color='Whitesmoke')), Button(description='F…"
      ]
     },
     "metadata": {},
     "output_type": "display_data"
    },
    {
     "data": {
      "application/vnd.jupyter.widget-view+json": {
       "model_id": "9663fb8b6cac4dfd83fb49e83adb5b28",
       "version_major": 2,
       "version_minor": 0
      },
      "text/plain": [
       "HBox(children=(Button(description='True', style=ButtonStyle(button_color='Whitesmoke')), Button(description='F…"
      ]
     },
     "metadata": {},
     "output_type": "display_data"
    },
    {
     "data": {
      "application/vnd.jupyter.widget-view+json": {
       "model_id": "6738935951454ac1af46928347fc9869",
       "version_major": 2,
       "version_minor": 0
      },
      "text/plain": [
       "HBox(children=(Button(description='True', style=ButtonStyle(button_color='Whitesmoke')), Button(description='F…"
      ]
     },
     "metadata": {},
     "output_type": "display_data"
    },
    {
     "name": "stdout",
     "output_type": "stream",
     "text": [
      " \r"
     ]
    }
   ],
   "source": [
    "randomize_3 = random.randint(1, 2)\n",
    "if randomize_3 == 1:\n",
    "    option_1 = \"Single replacement reactions are also called single displacement reactions.\"; bool_1 = True\n",
    "elif randomize_3 == 2:\n",
    "    option_1 = \"Single replacement reactions are also called synthesis reactions.\"; bool_1 = False\n",
    "\n",
    "randomize_3 = random.randint(1, 4)\n",
    "if randomize_3 == 1:\n",
    "    option_2 = \"The reactants used in a single replacement reaction always include one element and one compound.\"; bool_2 = True\n",
    "elif randomize_3 == 2:\n",
    "    option_2 = \"The reactants used in a single replacement reaction always include one element and one compound.\"; bool_2 = True\n",
    "elif randomize_3 == 3:\n",
    "    option_2 = \"The reactants used in a single replacement reaction always include two elements and no compounds.\"; bool_2 = False\n",
    "elif randomize_3 == 4:\n",
    "    option_2 = \"The reactants used in a single replacement reaction always include two compounds and no elements.\"; bool_2 = False\n",
    "    \n",
    "randomize_3 = random.randint(1, 6)\n",
    "if randomize_3 == 1:\n",
    "    option_3 = \"The general form of a single replacement reaction is: AB + X &rarr; XB + A.\"; bool_3 = True\n",
    "elif randomize_3 == 2:\n",
    "    option_3 = \"The general form of a single replacement reaction is: AB + X &rarr; XB + A.\"; bool_3 = True\n",
    "elif randomize_3 == 3:\n",
    "    option_3 = \"The general form of a single replacement reaction is: AB + Y &rarr; AY + B.\"; bool_3 = True\n",
    "elif randomize_3 == 4:\n",
    "    option_3 = \"The general form of a single replacement reaction is: AB &rarr; A + B.\"; bool_3 = False\n",
    "elif randomize_3 == 5:\n",
    "    option_3 = \"The general form of a single replacement reaction is: A + B &rarr; AB.\"; bool_3 = False\n",
    "elif randomize_3 == 6:\n",
    "    option_3 = \"The general form of a single replacement reaction is: AB + XY &rarr; XB + AY.\"; bool_3 = False\n",
    "\n",
    "randomize_3 = random.randint(1, 4)\n",
    "if randomize_3 == 1:\n",
    "    option_4 = \"The products generated from a single replacement reaction always include one element and one compound.\"; bool_4 = True\n",
    "elif randomize_3 == 2:\n",
    "    option_4 = \"The products generated from a single replacement reaction always include one element and one compound.\"; bool_4 = True\n",
    "elif randomize_3 == 3:\n",
    "    option_4 = \"The products generated from a single replacement reaction always include two elements and no compounds.\"; bool_4 = False    \n",
    "elif randomize_3 == 4:\n",
    "    option_4 = \"The products generated from a single replacement reaction always include two compounds and no elements.\"; bool_4 = False \n",
    "    \n",
    "true_false(option_1, bool_1, option_2, bool_2, option_3, bool_3, option_4, bool_4, \"True\", \"False\")"
   ]
  },
  {
   "cell_type": "markdown",
   "metadata": {},
   "source": [
    "**Question:** *Which of the follow chemical reactions is a single replacement reaction?* "
   ]
  },
  {
   "cell_type": "code",
   "execution_count": 14,
   "metadata": {},
   "outputs": [
    {
     "data": {
      "application/vnd.jupyter.widget-view+json": {
       "model_id": "039f9c7d606b4888a208996c65e41efb",
       "version_major": 2,
       "version_minor": 0
      },
      "text/plain": [
       "HTMLMath(value='<b>(A)</b> 2Na + Cl<sub>2</sub> &rarr; 2NaCl')"
      ]
     },
     "metadata": {},
     "output_type": "display_data"
    },
    {
     "data": {
      "application/vnd.jupyter.widget-view+json": {
       "model_id": "3575f54b9e4042a38921fcdefd7c3d82",
       "version_major": 2,
       "version_minor": 0
      },
      "text/plain": [
       "HTMLMath(value='<b>(B)</b> 2MgI<sub>2</sub> + Mn(SO<sub>3</sub>)<sub>2</sub> &rarr; 2MgSO<sub>3</sub> + MnI<su…"
      ]
     },
     "metadata": {},
     "output_type": "display_data"
    },
    {
     "data": {
      "application/vnd.jupyter.widget-view+json": {
       "model_id": "f704e7dfdcd346089ced67ea73957eb4",
       "version_major": 2,
       "version_minor": 0
      },
      "text/plain": [
       "HTMLMath(value='<b>(C)</b> 2Ag<sub>2</sub>O &rarr; 4Ag + O<sub>2</sub>')"
      ]
     },
     "metadata": {},
     "output_type": "display_data"
    },
    {
     "data": {
      "application/vnd.jupyter.widget-view+json": {
       "model_id": "2aca35f7e44647a68701af3f4e30fcde",
       "version_major": 2,
       "version_minor": 0
      },
      "text/plain": [
       "HTMLMath(value='<b>(D)</b> 2Ag(NO<sub>3</sub>) + Cu &rarr; Cu(NO<sub>3</sub>)<sub>2</sub> + 2Ag')"
      ]
     },
     "metadata": {},
     "output_type": "display_data"
    },
    {
     "data": {
      "application/vnd.jupyter.widget-view+json": {
       "model_id": "5f77c5e9cc694224b5773d6c5d989332",
       "version_major": 2,
       "version_minor": 0
      },
      "text/plain": [
       "HBox(children=(Button(description='(A)', style=ButtonStyle(button_color='Whitesmoke')), Button(description='(B…"
      ]
     },
     "metadata": {},
     "output_type": "display_data"
    },
    {
     "name": "stdout",
     "output_type": "stream",
     "text": [
      " \r"
     ]
    }
   ],
   "source": [
    "#import ipywidgets as widgets\n",
    "#import random\n",
    "#from IPython.display import clear_output, display, HTML\n",
    "\n",
    "option_1 = \"2Ag(NO<sub>3</sub>) + Cu &rarr; Cu(NO<sub>3</sub>)<sub>2</sub> + 2Ag\" \n",
    "option_2 = \"2Na + Cl<sub>2</sub> &rarr; 2NaCl\"\n",
    "option_3 = \"2Ag<sub>2</sub>O &rarr; 4Ag + O<sub>2</sub>\"\n",
    "option_4 = \"2MgI<sub>2</sub> + Mn(SO<sub>3</sub>)<sub>2</sub> &rarr; 2MgSO<sub>3</sub> + MnI<sub>4</sub>\"\n",
    "\n",
    "multiple_choice(option_1, option_2, option_3, option_4)"
   ]
  },
  {
   "cell_type": "code",
   "execution_count": 15,
   "metadata": {},
   "outputs": [
    {
     "data": {
      "application/vnd.jupyter.widget-view+json": {
       "model_id": "133c94f8da524e9ba3071c72f986b4e8",
       "version_major": 2,
       "version_minor": 0
      },
      "text/plain": [
       "HTMLMath(value='<b>(A)</b> 2KI + Br<sub>2</sub> &rarr; 2KBr + I<sub>2</sub>')"
      ]
     },
     "metadata": {},
     "output_type": "display_data"
    },
    {
     "data": {
      "application/vnd.jupyter.widget-view+json": {
       "model_id": "b6c33d8c8a3945eebaeb4b0ec6a1717f",
       "version_major": 2,
       "version_minor": 0
      },
      "text/plain": [
       "HTMLMath(value='<b>(B)</b> 2Ca + O<sub>2</sub> &rarr; 2CaO')"
      ]
     },
     "metadata": {},
     "output_type": "display_data"
    },
    {
     "data": {
      "application/vnd.jupyter.widget-view+json": {
       "model_id": "0a50a89517634601a10b032f48ca390e",
       "version_major": 2,
       "version_minor": 0
      },
      "text/plain": [
       "HTMLMath(value='<b>(C)</b> Na<sub>3</sub>PO<sub>4</sub> + 3KOH &rarr; 3NaOH + K<sub>3</sub>PO<sub>4</sub>')"
      ]
     },
     "metadata": {},
     "output_type": "display_data"
    },
    {
     "data": {
      "application/vnd.jupyter.widget-view+json": {
       "model_id": "1209b512f23343b3832e4ce83c5e6083",
       "version_major": 2,
       "version_minor": 0
      },
      "text/plain": [
       "HTMLMath(value='<b>(D)</b> 2NO<sub>2</sub> &rarr; 2O<sub>2</sub> + N<sub>2</sub>')"
      ]
     },
     "metadata": {},
     "output_type": "display_data"
    },
    {
     "data": {
      "application/vnd.jupyter.widget-view+json": {
       "model_id": "3169e55a2c4b43a490eed6fc582d9f5f",
       "version_major": 2,
       "version_minor": 0
      },
      "text/plain": [
       "HBox(children=(Button(description='(A)', style=ButtonStyle(button_color='Whitesmoke')), Button(description='(B…"
      ]
     },
     "metadata": {},
     "output_type": "display_data"
    },
    {
     "name": "stdout",
     "output_type": "stream",
     "text": [
      " \r"
     ]
    }
   ],
   "source": [
    "#import ipywidgets as widgets\n",
    "#import random\n",
    "#from IPython.display import clear_output, display, HTML\n",
    "\n",
    "option_1 = \"2KI + Br<sub>2</sub> &rarr; 2KBr + I<sub>2</sub>\" \n",
    "option_2 = \"2Ca + O<sub>2</sub> &rarr; 2CaO\"\n",
    "option_3 = \"2NO<sub>2</sub> &rarr; 2O<sub>2</sub> + N<sub>2</sub>\"\n",
    "option_4 = \"Na<sub>3</sub>PO<sub>4</sub> + 3KOH &rarr; 3NaOH + K<sub>3</sub>PO<sub>4</sub>\"\n",
    "\n",
    "multiple_choice(option_1, option_2, option_3, option_4)"
   ]
  },
  {
   "cell_type": "code",
   "execution_count": 16,
   "metadata": {},
   "outputs": [
    {
     "data": {
      "application/vnd.jupyter.widget-view+json": {
       "model_id": "da17db5b1f3447b7979a12233a95f3c9",
       "version_major": 2,
       "version_minor": 0
      },
      "text/plain": [
       "HTMLMath(value='<b>(A)</b> 2Li + S &rarr; Li<sub>2</sub>S')"
      ]
     },
     "metadata": {},
     "output_type": "display_data"
    },
    {
     "data": {
      "application/vnd.jupyter.widget-view+json": {
       "model_id": "920b816d76974991b3a053bf62e33c80",
       "version_major": 2,
       "version_minor": 0
      },
      "text/plain": [
       "HTMLMath(value='<b>(B)</b> Ca(OH)<sub>2</sub> &rarr; CaO + H<sub>2</sub>O')"
      ]
     },
     "metadata": {},
     "output_type": "display_data"
    },
    {
     "data": {
      "application/vnd.jupyter.widget-view+json": {
       "model_id": "ba448cad9b98463f9e1011f99a241341",
       "version_major": 2,
       "version_minor": 0
      },
      "text/plain": [
       "HTMLMath(value='<b>(C)</b> C<sub>3</sub>H<sub>6</sub>O + 4O<sub>2</sub> &rarr; 3CO<sub>2</sub> + 3H<sub>2</sub…"
      ]
     },
     "metadata": {},
     "output_type": "display_data"
    },
    {
     "data": {
      "application/vnd.jupyter.widget-view+json": {
       "model_id": "2b0b5accfb4d42b3a5e671f16d4a43fe",
       "version_major": 2,
       "version_minor": 0
      },
      "text/plain": [
       "HTMLMath(value='<b>(D)</b> Zn + H<sub>2</sub>SO<sub>4</sub> &rarr; ZnSO<sub>4</sub> + H<sub>2</sub>')"
      ]
     },
     "metadata": {},
     "output_type": "display_data"
    },
    {
     "data": {
      "application/vnd.jupyter.widget-view+json": {
       "model_id": "67f39569a0fd433b8add52b9ae1b70f1",
       "version_major": 2,
       "version_minor": 0
      },
      "text/plain": [
       "HBox(children=(Button(description='(A)', style=ButtonStyle(button_color='Whitesmoke')), Button(description='(B…"
      ]
     },
     "metadata": {},
     "output_type": "display_data"
    },
    {
     "name": "stdout",
     "output_type": "stream",
     "text": [
      " \r"
     ]
    }
   ],
   "source": [
    "#import ipywidgets as widgets\n",
    "#import random\n",
    "#from IPython.display import clear_output, display, HTML\n",
    "\n",
    "option_1 = \"Zn + H<sub>2</sub>SO<sub>4</sub> &rarr; ZnSO<sub>4</sub> + H<sub>2</sub>\" \n",
    "option_2 = \"2Li + S &rarr; Li<sub>2</sub>S\"\n",
    "option_3 = \"C<sub>3</sub>H<sub>6</sub>O + 4O<sub>2</sub> &rarr; 3CO<sub>2</sub> + 3H<sub>2</sub>O\"\n",
    "option_4 = \"Ca(OH)<sub>2</sub> &rarr; CaO + H<sub>2</sub>O\"\n",
    "\n",
    "multiple_choice(option_1, option_2, option_3, option_4)"
   ]
  },
  {
   "cell_type": "code",
   "execution_count": 17,
   "metadata": {},
   "outputs": [
    {
     "data": {
      "application/vnd.jupyter.widget-view+json": {
       "model_id": "536f9fc4973847ab93c727224c82539d",
       "version_major": 2,
       "version_minor": 0
      },
      "text/plain": [
       "HTMLMath(value='<b>(A)</b> 2Hg<sub>2</sub>O &rarr; 4Hg + O<sub>2</sub>')"
      ]
     },
     "metadata": {},
     "output_type": "display_data"
    },
    {
     "data": {
      "application/vnd.jupyter.widget-view+json": {
       "model_id": "4092c0968f0547af8f9a0d4be8c71dde",
       "version_major": 2,
       "version_minor": 0
      },
      "text/plain": [
       "HTMLMath(value='<b>(B)</b> 3H<sub>2</sub> + N<sub>2</sub> &rarr; 2NH<sub>3</sub>')"
      ]
     },
     "metadata": {},
     "output_type": "display_data"
    },
    {
     "data": {
      "application/vnd.jupyter.widget-view+json": {
       "model_id": "039e7c7d8b0c46048081c6f2e62e157a",
       "version_major": 2,
       "version_minor": 0
      },
      "text/plain": [
       "HTMLMath(value='<b>(C)</b> AgNO<sub>3</sub> + KI &rarr; AgI + KNO<sub>3</sub>')"
      ]
     },
     "metadata": {},
     "output_type": "display_data"
    },
    {
     "data": {
      "application/vnd.jupyter.widget-view+json": {
       "model_id": "5ab8e8e4c140449289b59dda657cee09",
       "version_major": 2,
       "version_minor": 0
      },
      "text/plain": [
       "HTMLMath(value='<b>(D)</b> Cl<sub>2</sub> + CaI<sub>2</sub> &rarr; CaCl<sub>2</sub> + I<sub>2</sub>')"
      ]
     },
     "metadata": {},
     "output_type": "display_data"
    },
    {
     "data": {
      "application/vnd.jupyter.widget-view+json": {
       "model_id": "d5f5efc1feed48d7abfae3e34607e814",
       "version_major": 2,
       "version_minor": 0
      },
      "text/plain": [
       "HBox(children=(Button(description='(A)', style=ButtonStyle(button_color='Whitesmoke')), Button(description='(B…"
      ]
     },
     "metadata": {},
     "output_type": "display_data"
    },
    {
     "name": "stdout",
     "output_type": "stream",
     "text": [
      " \r"
     ]
    }
   ],
   "source": [
    "#import ipywidgets as widgets\n",
    "#import random\n",
    "#from IPython.display import clear_output, display, HTML\n",
    "\n",
    "option_1 = \"Cl<sub>2</sub> + CaI<sub>2</sub> &rarr; CaCl<sub>2</sub> + I<sub>2</sub>\" \n",
    "option_2 = \"3H<sub>2</sub> + N<sub>2</sub> &rarr; 2NH<sub>3</sub>\"\n",
    "option_3 = \"2Hg<sub>2</sub>O &rarr; 4Hg + O<sub>2</sub>\"\n",
    "option_4 = \"AgNO<sub>3</sub> + KI &rarr; AgI + KNO<sub>3</sub>\"\n",
    "\n",
    "multiple_choice(option_1, option_2, option_3, option_4)"
   ]
  },
  {
   "cell_type": "markdown",
   "metadata": {},
   "source": [
    "### Reactivity Series\n",
    "\n",
    "The reactivity of a metal is determined by its tendency to donate electrons (a process known as **oxidation**). The reactivity of a halogen is determined by its tendency to accept electrons (a process known as **reduction**). A list or metals and halogens in order of their reactivity (highest to lowest) is called a **reactivity series** (or *activity series*). Only metals of higher reactivity can replace metals with lower reactivity. Likewise, only halogens of higher reactivity can replace halogens with lower reactivity. Below is a reactivity series for some common metals and halogens:\n",
    "\n",
    "Metals       | Cations           | Halogens | Anions\n",
    "---          | ---               | ---      | ---                                                          \n",
    "Potassium    | K<sup>+</sup>     | Fluorine | F<sup>-</sup>                                                                \n",
    "Sodium       | Na<sup>+</sup>    | Chlorine | Cl<sup>-</sup>\n",
    "Calcium      | Ca<sup>2+</sup>   | Bromine  | Br<sup>-</sup>\n",
    "Magnesium    | Mg<sup>2+</sup>   | Iodine   | I<sup>-</sup>\n",
    "Aluminum     | Al<sup>3+</sup>   | \n",
    "Manganese    | Mn<sup>2+</sup>   |  \n",
    "Zinc         | Zn<sup>2+</sup>   | \n",
    "Chromium     | Cr<sup>3+</sup>   | \n",
    "Iron         | Fe<sup>2+</sup>   | \n",
    "Cobalt       | Co<sup>2+</sup>   | \n",
    "Nickle       | Ni<sup>2+</sup>   | \n",
    "Tin          | Sn<sup>2+</sup>   | \n",
    "Lead         | Pb<sup>2+</sup>   | \n",
    "Hydrogen     | H<sup>+</sup>     | \n",
    "Copper       | Cu<sup>2+</sup>   | \n",
    "Mercury      | Hg<sup>2+</sup>   | \n",
    "Silver       | Ag<sup>+</sup>    | \n",
    "Gold         | Au<sup>3+</sup>   | \n",
    "Platinum     | Pt<sup>4+</sup>   | \n",
    "\n",
    "The reactivity series can be used to determine if a reaction will spontaneously occur. If the replacing element is more reactive (higher on the list) than the element it is replacing, then the reaction will spontaneously occur."
   ]
  },
  {
   "cell_type": "markdown",
   "metadata": {},
   "source": [
    "**Question:** *Using the reactivity series shown above, predict if each reaction will, or will not, spontaneously occur.* "
   ]
  },
  {
   "cell_type": "code",
   "execution_count": 18,
   "metadata": {},
   "outputs": [
    {
     "data": {
      "application/vnd.jupyter.widget-view+json": {
       "model_id": "e8581da057b54e4ead82056abb512c57",
       "version_major": 2,
       "version_minor": 0
      },
      "text/plain": [
       "HBox(children=(Button(description='Will occur', style=ButtonStyle(button_color='Whitesmoke')), Button(descript…"
      ]
     },
     "metadata": {},
     "output_type": "display_data"
    },
    {
     "data": {
      "application/vnd.jupyter.widget-view+json": {
       "model_id": "13c026ac59a34a9d85889af26e0e21ee",
       "version_major": 2,
       "version_minor": 0
      },
      "text/plain": [
       "HBox(children=(Button(description='Will occur', style=ButtonStyle(button_color='Whitesmoke')), Button(descript…"
      ]
     },
     "metadata": {},
     "output_type": "display_data"
    },
    {
     "data": {
      "application/vnd.jupyter.widget-view+json": {
       "model_id": "33586c699d5346148dc89ce1f7cbe5d1",
       "version_major": 2,
       "version_minor": 0
      },
      "text/plain": [
       "HBox(children=(Button(description='Will occur', style=ButtonStyle(button_color='Whitesmoke')), Button(descript…"
      ]
     },
     "metadata": {},
     "output_type": "display_data"
    },
    {
     "data": {
      "application/vnd.jupyter.widget-view+json": {
       "model_id": "82df9a4112494148ba8c9bfd634a7232",
       "version_major": 2,
       "version_minor": 0
      },
      "text/plain": [
       "HBox(children=(Button(description='Will occur', style=ButtonStyle(button_color='Whitesmoke')), Button(descript…"
      ]
     },
     "metadata": {},
     "output_type": "display_data"
    },
    {
     "name": "stdout",
     "output_type": "stream",
     "text": [
      " \r"
     ]
    }
   ],
   "source": [
    "randomize_4 = random.randint(1, 2)\n",
    "if randomize_4 == 1:\n",
    "    option_1 = \"Al + H<sub>2</sub>O &rarr;\"; bool_1 = True\n",
    "elif randomize_4 == 2:\n",
    "    option_1 = \"Ag + H<sub>2</sub>O &rarr;\"; bool_1 = False\n",
    "\n",
    "randomize_4 = random.randint(1, 2)\n",
    "if randomize_4 == 1:\n",
    "    option_2 = \"AlPO<sub>4</sub> + Mg &rarr;\"; bool_2 = True\n",
    "elif randomize_4 == 2:\n",
    "    option_2 = \"AlPO<sub>4</sub> + Ni&rarr;\"; bool_2 = False\n",
    "\n",
    "randomize_4 = random.randint(1, 2)\n",
    "if randomize_4 == 1:\n",
    "    option_3 = \"F<sub>2</sub> + CaCl<sub>2</sub> &rarr;\"; bool_3 = True\n",
    "elif randomize_4 == 2:\n",
    "    option_3 = \"Br<sub>2</sub> + CaCl<sub>2</sub> &rarr;\"; bool_3 = False\n",
    "\n",
    "randomize_4 = random.randint(1, 2)\n",
    "if randomize_4 == 1:\n",
    "    option_4 = \"CuSO<sub>4</sub> + Zn &rarr;\"; bool_4 = True\n",
    "elif randomize_4 == 2:\n",
    "    option_4 = \"CuSO<sub>4</sub> + Hg &rarr;\"; bool_4 = False\n",
    "   \n",
    "true_false(option_1, bool_1, option_2, bool_2, option_3, bool_3, option_4, bool_4, \"Will occur\", \"Will not occur\")"
   ]
  },
  {
   "cell_type": "markdown",
   "metadata": {},
   "source": [
    "## <a id=\"double\"> #4 Double Replacement Reaction </a>\n",
    "\n",
    "A **double replacement reaction** (also called a *double displacement reaction*) describes the process in which the positive and negative ions from two compounds replace one another. The general form for a double replacement reaction is given below:\n",
    "\n",
    "<img src=\"images/double_displacement_reaction.svg\" width=\"92%\"/>\n",
    "\n",
    "The reactant side always contains two compounds. Likewise, the product side always contains two compounds. Only positive ions (cations) can exchange places with other positive ions. Likewise, only negative ions (anions) can exchange places with other negative ions.\n",
    "\n",
    "An example of a double replacement reaction is:\n",
    "\n",
    "<span style=\"color:red\">NaCl</span> + <span style=\"color:blue\">AgNO<sub>3</sub></span> &rarr; <span style=\"color:blue\">Ag</span><span style=\"color:red\">Cl</span> + <span style=\"color:red\">Na</span><span style=\"color:blue\">NO<sub>3</sub></span>"
   ]
  },
  {
   "cell_type": "markdown",
   "metadata": {},
   "source": [
    "## Practice Problems"
   ]
  },
  {
   "cell_type": "markdown",
   "metadata": {},
   "source": [
    "**Question:** *Select 'True' or 'False' for each of the follow statements.* "
   ]
  },
  {
   "cell_type": "code",
   "execution_count": 19,
   "metadata": {},
   "outputs": [
    {
     "data": {
      "application/vnd.jupyter.widget-view+json": {
       "model_id": "0fd040f912e34e149c3cee19c5c02d4c",
       "version_major": 2,
       "version_minor": 0
      },
      "text/plain": [
       "HBox(children=(Button(description='True', style=ButtonStyle(button_color='Whitesmoke')), Button(description='F…"
      ]
     },
     "metadata": {},
     "output_type": "display_data"
    },
    {
     "data": {
      "application/vnd.jupyter.widget-view+json": {
       "model_id": "ece4b9e352024e12a13601c92511ada8",
       "version_major": 2,
       "version_minor": 0
      },
      "text/plain": [
       "HBox(children=(Button(description='True', style=ButtonStyle(button_color='Whitesmoke')), Button(description='F…"
      ]
     },
     "metadata": {},
     "output_type": "display_data"
    },
    {
     "data": {
      "application/vnd.jupyter.widget-view+json": {
       "model_id": "79c805922f304c43ab641cb700c272c8",
       "version_major": 2,
       "version_minor": 0
      },
      "text/plain": [
       "HBox(children=(Button(description='True', style=ButtonStyle(button_color='Whitesmoke')), Button(description='F…"
      ]
     },
     "metadata": {},
     "output_type": "display_data"
    },
    {
     "data": {
      "application/vnd.jupyter.widget-view+json": {
       "model_id": "4402834f2c7f43d59975381e8574f83a",
       "version_major": 2,
       "version_minor": 0
      },
      "text/plain": [
       "HBox(children=(Button(description='True', style=ButtonStyle(button_color='Whitesmoke')), Button(description='F…"
      ]
     },
     "metadata": {},
     "output_type": "display_data"
    },
    {
     "name": "stdout",
     "output_type": "stream",
     "text": [
      " \r"
     ]
    }
   ],
   "source": [
    "randomize_5 = random.randint(1, 2)\n",
    "if randomize_5 == 1:\n",
    "    option_1 = \"Double replacement reactions are also called double displacement reactions.\"; bool_1 = True\n",
    "elif randomize_5 == 2:\n",
    "    option_1 = \"Double replacement reactions are also called analysis reactions.\"; bool_1 = False\n",
    "\n",
    "randomize_5 = random.randint(1, 4)\n",
    "if randomize_5 == 1:\n",
    "    option_2 = \"The reactants used in a double replacement reaction always include two compounds.\"; bool_2 = True\n",
    "elif randomize_5 == 2:\n",
    "    option_2 = \"The reactants used in a double replacement reaction always include two compounds.\"; bool_2 = True\n",
    "elif randomize_5 == 3:\n",
    "    option_2 = \"The reactants used in a double replacement reaction always include two elements.\"; bool_2 = False\n",
    "elif randomize_5 == 4:\n",
    "    option_2 = \"The reactants used in a double replacement reaction always include one element and one compound.\"; bool_2 = False\n",
    "    \n",
    "randomize_5 = random.randint(1, 6)\n",
    "if randomize_5 == 1:\n",
    "    option_3 = \"The general form of a double replacement reaction is: AB + XY &rarr; XB + AY.\"; bool_3 = True\n",
    "elif randomize_5 == 2:\n",
    "    option_3 = \"The general form of a double replacement reaction is: AB + XY &rarr; XB + AY.\"; bool_3 = True\n",
    "elif randomize_5 == 3:\n",
    "    option_3 = \"The general form of a double replacement reaction is: AB + XY &rarr; AY + XB.\"; bool_3 = True\n",
    "elif randomize_5 == 4:\n",
    "    option_3 = \"The general form of a double replacement reaction is: A + B &rarr; AB.\"; bool_3 = False\n",
    "elif randomize_5 == 5:\n",
    "    option_3 = \"The general form of a double replacement reaction is: AB &rarr; A + B.\"; bool_3 = False\n",
    "elif randomize_5 == 6:\n",
    "    option_3 = \"The general form of a double replacement reaction is: AB + X &rarr; XB + A.\"; bool_3 = False\n",
    "\n",
    "randomize_5 = random.randint(1, 4)\n",
    "if randomize_5 == 1:\n",
    "    option_4 = \"The products generated from a double replacement reaction always include two compounds.\"; bool_4 = True\n",
    "elif randomize_5 == 2:\n",
    "    option_4 = \"The products generated from a double replacement reaction always include two compounds.\"; bool_4 = True\n",
    "elif randomize_5 == 3:\n",
    "    option_4 = \"The products generated from a double replacement reaction always include two elements.\"; bool_4 = False    \n",
    "elif randomize_5 == 4:\n",
    "    option_4 = \"The products generated from a double replacement reaction always include one element and one compound.\"; bool_4 = False \n",
    "    \n",
    "true_false(option_1, bool_1, option_2, bool_2, option_3, bool_3, option_4, bool_4, \"True\", \"False\")"
   ]
  },
  {
   "cell_type": "markdown",
   "metadata": {},
   "source": [
    "**Question:** *Which of the follow chemical reactions is a double replacement reaction?* "
   ]
  },
  {
   "cell_type": "code",
   "execution_count": 20,
   "metadata": {},
   "outputs": [
    {
     "data": {
      "application/vnd.jupyter.widget-view+json": {
       "model_id": "5c532d62ed5d43f291e8f1c40f123769",
       "version_major": 2,
       "version_minor": 0
      },
      "text/plain": [
       "HTMLMath(value='<b>(A)</b> 2Ni<sub>2</sub>O<sub>3</sub> &rarr; 4Ni + 3O<sub>2</sub>')"
      ]
     },
     "metadata": {},
     "output_type": "display_data"
    },
    {
     "data": {
      "application/vnd.jupyter.widget-view+json": {
       "model_id": "8f399d7dab224d92b99385a192e2e922",
       "version_major": 2,
       "version_minor": 0
      },
      "text/plain": [
       "HTMLMath(value='<b>(B)</b> 2NaOH + CaBr<sub>2</sub> &rarr; 2NaBr + Ca(OH)<sub>2</sub>')"
      ]
     },
     "metadata": {},
     "output_type": "display_data"
    },
    {
     "data": {
      "application/vnd.jupyter.widget-view+json": {
       "model_id": "6ffbfd9e77e845ffb8171b1ecd59daa8",
       "version_major": 2,
       "version_minor": 0
      },
      "text/plain": [
       "HTMLMath(value='<b>(C)</b> 3Mg + N<sub>2</sub> &rarr; Mg<sub>3</sub>N<sub>2</sub>')"
      ]
     },
     "metadata": {},
     "output_type": "display_data"
    },
    {
     "data": {
      "application/vnd.jupyter.widget-view+json": {
       "model_id": "ecf9fa0d5a254d3183f4a2b7ec6297d7",
       "version_major": 2,
       "version_minor": 0
      },
      "text/plain": [
       "HTMLMath(value='<b>(D)</b> 3AgNO<sub>3</sub> + Ni &rarr; Ni(NO)<sub>3</sub> + 3Ag')"
      ]
     },
     "metadata": {},
     "output_type": "display_data"
    },
    {
     "data": {
      "application/vnd.jupyter.widget-view+json": {
       "model_id": "26920c9d68c6470ca184a281919b8b12",
       "version_major": 2,
       "version_minor": 0
      },
      "text/plain": [
       "HBox(children=(Button(description='(A)', style=ButtonStyle(button_color='Whitesmoke')), Button(description='(B…"
      ]
     },
     "metadata": {},
     "output_type": "display_data"
    },
    {
     "name": "stdout",
     "output_type": "stream",
     "text": [
      " \r"
     ]
    }
   ],
   "source": [
    "#import ipywidgets as widgets\n",
    "#import random\n",
    "#from IPython.display import clear_output, display, HTML\n",
    "\n",
    "option_1 = \"2NaOH + CaBr<sub>2</sub> &rarr; 2NaBr + Ca(OH)<sub>2</sub>\" \n",
    "option_2 = \"3Mg + N<sub>2</sub> &rarr; Mg<sub>3</sub>N<sub>2</sub>\"\n",
    "option_3 = \"2Ni<sub>2</sub>O<sub>3</sub> &rarr; 4Ni + 3O<sub>2</sub>\"\n",
    "option_4 = \"3AgNO<sub>3</sub> + Ni &rarr; Ni(NO)<sub>3</sub> + 3Ag\"\n",
    "\n",
    "multiple_choice(option_1, option_2, option_3, option_4)"
   ]
  },
  {
   "cell_type": "code",
   "execution_count": 21,
   "metadata": {},
   "outputs": [
    {
     "data": {
      "application/vnd.jupyter.widget-view+json": {
       "model_id": "4d4e13963e6d4ecf9e2673736c11ed19",
       "version_major": 2,
       "version_minor": 0
      },
      "text/plain": [
       "HTMLMath(value='<b>(A)</b> Li<sub>2</sub>SO<sub>4</sub> + BaCl<sub>2</sub> &rarr; 2LiCl + BaSO<sub>4</sub>')"
      ]
     },
     "metadata": {},
     "output_type": "display_data"
    },
    {
     "data": {
      "application/vnd.jupyter.widget-view+json": {
       "model_id": "52238f91fa7c45c8bf1858da4e9bc60c",
       "version_major": 2,
       "version_minor": 0
      },
      "text/plain": [
       "HTMLMath(value='<b>(B)</b> 4Li + O<sub>2</sub> &rarr; 2Li<sub>2</sub>O')"
      ]
     },
     "metadata": {},
     "output_type": "display_data"
    },
    {
     "data": {
      "application/vnd.jupyter.widget-view+json": {
       "model_id": "fa541a4bfbe549b39777a451f8b0df74",
       "version_major": 2,
       "version_minor": 0
      },
      "text/plain": [
       "HTMLMath(value='<b>(C)</b> Al<sub>2</sub>O<sub>3</sub> &rarr; Al + O<sub>2</sub>')"
      ]
     },
     "metadata": {},
     "output_type": "display_data"
    },
    {
     "data": {
      "application/vnd.jupyter.widget-view+json": {
       "model_id": "961810b3b9e64624a34d9a2688ed321b",
       "version_major": 2,
       "version_minor": 0
      },
      "text/plain": [
       "HTMLMath(value='<b>(D)</b> 2AlBr<sub>3</sub> + 3Cl<sub>2</sub> &rarr; 2AlCl<sub>3</sub> + 3Br<sub>2</sub>')"
      ]
     },
     "metadata": {},
     "output_type": "display_data"
    },
    {
     "data": {
      "application/vnd.jupyter.widget-view+json": {
       "model_id": "4546ffa91a7140238200a118ba94b634",
       "version_major": 2,
       "version_minor": 0
      },
      "text/plain": [
       "HBox(children=(Button(description='(A)', style=ButtonStyle(button_color='Whitesmoke')), Button(description='(B…"
      ]
     },
     "metadata": {},
     "output_type": "display_data"
    },
    {
     "name": "stdout",
     "output_type": "stream",
     "text": [
      " \r"
     ]
    }
   ],
   "source": [
    "#import ipywidgets as widgets\n",
    "#import random\n",
    "#from IPython.display import clear_output, display, HTML\n",
    "\n",
    "option_1 = \"Li<sub>2</sub>SO<sub>4</sub> + BaCl<sub>2</sub> &rarr; 2LiCl + BaSO<sub>4</sub>\" \n",
    "option_2 = \"4Li + O<sub>2</sub> &rarr; 2Li<sub>2</sub>O\"\n",
    "option_3 = \"Al<sub>2</sub>O<sub>3</sub> &rarr; Al + O<sub>2</sub>\"\n",
    "option_4 = \"2AlBr<sub>3</sub> + 3Cl<sub>2</sub> &rarr; 2AlCl<sub>3</sub> + 3Br<sub>2</sub>\"\n",
    "\n",
    "multiple_choice(option_1, option_2, option_3, option_4)"
   ]
  },
  {
   "cell_type": "code",
   "execution_count": 22,
   "metadata": {},
   "outputs": [
    {
     "data": {
      "application/vnd.jupyter.widget-view+json": {
       "model_id": "e0fcd9bb986e4be6bc0798847284a190",
       "version_major": 2,
       "version_minor": 0
      },
      "text/plain": [
       "HTMLMath(value='<b>(A)</b> 2Cr + 3O<sub>2</sub> &rarr; 2CrO<sub>3</sub>')"
      ]
     },
     "metadata": {},
     "output_type": "display_data"
    },
    {
     "data": {
      "application/vnd.jupyter.widget-view+json": {
       "model_id": "57d62288d4b54b6db0f522ccbb6c63f6",
       "version_major": 2,
       "version_minor": 0
      },
      "text/plain": [
       "HTMLMath(value='<b>(B)</b> Na<sub>2</sub>S + 2HCl &rarr; 2NaCl + H<sub>2</sub>S')"
      ]
     },
     "metadata": {},
     "output_type": "display_data"
    },
    {
     "data": {
      "application/vnd.jupyter.widget-view+json": {
       "model_id": "bdcc1afb873b41f0b20a3f9c740f53d3",
       "version_major": 2,
       "version_minor": 0
      },
      "text/plain": [
       "HTMLMath(value='<b>(C)</b> 2Na + 2H<sub>2</sub>O &rarr; 2NaOH + H<sub>2</sub>')"
      ]
     },
     "metadata": {},
     "output_type": "display_data"
    },
    {
     "data": {
      "application/vnd.jupyter.widget-view+json": {
       "model_id": "ff8f85cef9254e0289f1a981c8059e5e",
       "version_major": 2,
       "version_minor": 0
      },
      "text/plain": [
       "HTMLMath(value='<b>(D)</b> CaCO<sub>3</sub> &rarr; CaO + CO<sub>2</sub>')"
      ]
     },
     "metadata": {},
     "output_type": "display_data"
    },
    {
     "data": {
      "application/vnd.jupyter.widget-view+json": {
       "model_id": "a57603ef4d8d4e8496d524ade4084b18",
       "version_major": 2,
       "version_minor": 0
      },
      "text/plain": [
       "HBox(children=(Button(description='(A)', style=ButtonStyle(button_color='Whitesmoke')), Button(description='(B…"
      ]
     },
     "metadata": {},
     "output_type": "display_data"
    },
    {
     "name": "stdout",
     "output_type": "stream",
     "text": [
      " \r"
     ]
    }
   ],
   "source": [
    "#import ipywidgets as widgets\n",
    "#import random\n",
    "#from IPython.display import clear_output, display, HTML\n",
    "\n",
    "option_1 = \"Na<sub>2</sub>S + 2HCl &rarr; 2NaCl + H<sub>2</sub>S\" \n",
    "option_2 = \"2Cr + 3O<sub>2</sub> &rarr; 2CrO<sub>3</sub>\"\n",
    "option_3 = \"CaCO<sub>3</sub> &rarr; CaO + CO<sub>2</sub>\"\n",
    "option_4 = \"2Na + 2H<sub>2</sub>O &rarr; 2NaOH + H<sub>2</sub>\"\n",
    "\n",
    "multiple_choice(option_1, option_2, option_3, option_4)"
   ]
  },
  {
   "cell_type": "code",
   "execution_count": 23,
   "metadata": {},
   "outputs": [
    {
     "data": {
      "application/vnd.jupyter.widget-view+json": {
       "model_id": "3872f86b4dd74df9a7ad0f4ccd8cda49",
       "version_major": 2,
       "version_minor": 0
      },
      "text/plain": [
       "HTMLMath(value='<b>(A)</b> 2NaI + Br<sub>2</sub> &rarr; 2NaBr + I<sub>2</sub>')"
      ]
     },
     "metadata": {},
     "output_type": "display_data"
    },
    {
     "data": {
      "application/vnd.jupyter.widget-view+json": {
       "model_id": "6bba43ab8a7a47ab8b665f13dcec6a86",
       "version_major": 2,
       "version_minor": 0
      },
      "text/plain": [
       "HTMLMath(value='<b>(B)</b> MgO + H<sub>2</sub>O &rarr; Mg(OH)<sub>2</sub>')"
      ]
     },
     "metadata": {},
     "output_type": "display_data"
    },
    {
     "data": {
      "application/vnd.jupyter.widget-view+json": {
       "model_id": "65a3c1fb858e4ff982c889d62c28591c",
       "version_major": 2,
       "version_minor": 0
      },
      "text/plain": [
       "HTMLMath(value='<b>(C)</b> H<sub>2</sub>CO<sub>3</sub> &rarr; CO<sub>2</sub> + H<sub>2</sub>O')"
      ]
     },
     "metadata": {},
     "output_type": "display_data"
    },
    {
     "data": {
      "application/vnd.jupyter.widget-view+json": {
       "model_id": "c09f5f4914dc4362a9ba50aef7854744",
       "version_major": 2,
       "version_minor": 0
      },
      "text/plain": [
       "HTMLMath(value='<b>(D)</b> HCl + NaOH &rarr; NaCl + H<sub>2</sub>O')"
      ]
     },
     "metadata": {},
     "output_type": "display_data"
    },
    {
     "data": {
      "application/vnd.jupyter.widget-view+json": {
       "model_id": "a188816188674dfdaf170705d44c4f72",
       "version_major": 2,
       "version_minor": 0
      },
      "text/plain": [
       "HBox(children=(Button(description='(A)', style=ButtonStyle(button_color='Whitesmoke')), Button(description='(B…"
      ]
     },
     "metadata": {},
     "output_type": "display_data"
    },
    {
     "name": "stdout",
     "output_type": "stream",
     "text": [
      " \r"
     ]
    }
   ],
   "source": [
    "#import ipywidgets as widgets\n",
    "#import random\n",
    "#from IPython.display import clear_output, display, HTML\n",
    "\n",
    "option_1 = \"HCl + NaOH &rarr; NaCl + H<sub>2</sub>O\" \n",
    "option_2 = \"MgO + H<sub>2</sub>O &rarr; Mg(OH)<sub>2</sub>\"\n",
    "option_3 = \"H<sub>2</sub>CO<sub>3</sub> &rarr; CO<sub>2</sub> + H<sub>2</sub>O\"\n",
    "option_4 = \"2NaI + Br<sub>2</sub> &rarr; 2NaBr + I<sub>2</sub>\"\n",
    "\n",
    "multiple_choice(option_1, option_2, option_3, option_4)"
   ]
  },
  {
   "cell_type": "markdown",
   "metadata": {},
   "source": [
    "### Solubility Chart\n",
    "\n",
    "Often, double replacement reactions result in the precipitation of one product. **Precipitation** occurs when a substance is deposited in the form of a solid from a solution. A solubility chart can be used to determine whether or not a product will precipitate or remain in solution. An example of a solubility chart is shown below:\n",
    "\n",
    "Anions                                    | Cations that form soluble compounds | Cations that form insoluble compounds\n",
    "---                                       | ---                                 | ---                                                             \n",
    "Nitrate (NO<sub>3</sub><sup>-</sup>)      | All                                 | None\n",
    "Acetate (CH<sub>3</sub>COO<sup>-</sup>)   | All                                 | None\n",
    "Chlorate (ClO<sub>3</sub><sup>-</sup>)    | All                                 | None\n",
    "Perchlorate (ClO<sub>4</sub><sup>-</sup>) | All                                 | None\n",
    "----------------------------------- | ----------------------------------- | -----------------------------------\n",
    "Chloride (Cl<sup>-</sup>)                 | Most                                | Ag, Hg(I), Pb(II)\n",
    "Bromide (Br<sup>-</sup>)                  | Most                                | Ag, Hg(I), Pb(II)\n",
    "Iodide (I<sup>-</sup>)                    | Most                                | Ag, Hg(I), Pb(II)\n",
    "----------------------------------- | ----------------------------------- | -----------------------------------\n",
    "Fluoride (F<sup>-</sup>)                  | Most                                | Mg, Ca, Sr, Ba, Pb(II)\n",
    "----------------------------------- | ----------------------------------- | -----------------------------------\n",
    "Sulfate (SO<sub>4</sub><sup>2-</sup>)     | Most                                | Ba, Pb(II), Sr\n",
    "----------------------------------- | ----------------------------------- | -----------------------------------\n",
    "Carbonate (CO<sub>3</sub><sup>2-</sup>)   | (Group 1 Metals), NH<sub>4</sub>      | Most\n",
    "Sulfite (SO<sub>3</sub><sup>2-</sup>)     | (Group 1 Metals), NH<sub>4</sub>      | Most\n",
    "Phosphate (PO<sub>4</sub><sup>3-</sup>)   | (Group 1 Metals), NH<sub>4</sub>      | Most\n",
    "Chromate (CrO<sub>4</sub><sup>2-</sup>)   | (Group 1 Metals), NH<sub>4</sub>      | Most\n",
    "----------------------------------- | ----------------------------------- | -----------------------------------\n",
    "Sulfide (S<sup>2-</sup>)                  | (Group 1 Metals), NH<sub>4</sub>, Ca, Ba, Sr | Most\n",
    "Hydroxide (OH<sup>-</sup>)                | (Group 1 Metals), NH<sub>4</sub>, Ca, Ba, Sr | Most\n",
    "\n",
    "To use the solubility chart, match the anion and cation in the compound using the rows and columns on the chart. If the resulting compound is located in the second column, then the compound is soluble. If the compound is located in the third column, then the compound is insoluble.\n",
    "\n",
    "For example, consider the following reaction:\n",
    "\n",
    "AgNO<sub>3</sub> + KCl &rarr; AgCl + KNO<sub>3</sub>\n",
    "\n",
    "There are two products, AgCl and KNO<sub>3</sub>, formed in this reaction. For AgCl, the anion is chloride (Cl<sup>-</sup>) and the cation is silver (Ag<sup>+</sup>). Matching the anion and cation on the solubility table above (row 5, column 3) indicates that the compound is insoluble. In other words, the compound will form a precipitate. \n",
    "\n",
    "For KNO<sub>3</sub>, the anion is nitrate (NO<sub>3</sub><sup>-</sup>) and the cation is potassium (K<sup>+</sup>). Matching the anion and cation on the solubility table above (row 1, column 2) indicates that the compound is soluble. In other words, the compound will remain in solution."
   ]
  },
  {
   "cell_type": "markdown",
   "metadata": {},
   "source": [
    "**Question:** *Using the solubility chart shown above, predict if each compound highlighted in <span style='color:red'>red</span> will dissolve or form a precipitate.*"
   ]
  },
  {
   "cell_type": "code",
   "execution_count": 24,
   "metadata": {},
   "outputs": [
    {
     "data": {
      "application/vnd.jupyter.widget-view+json": {
       "model_id": "dd691eab6acb4985a345279d9497fa59",
       "version_major": 2,
       "version_minor": 0
      },
      "text/plain": [
       "HBox(children=(Button(description='Soluble', style=ButtonStyle(button_color='Whitesmoke')), Button(description…"
      ]
     },
     "metadata": {},
     "output_type": "display_data"
    },
    {
     "data": {
      "application/vnd.jupyter.widget-view+json": {
       "model_id": "ef3745f342914d69a0840cd6ac7587b2",
       "version_major": 2,
       "version_minor": 0
      },
      "text/plain": [
       "HBox(children=(Button(description='Soluble', style=ButtonStyle(button_color='Whitesmoke')), Button(description…"
      ]
     },
     "metadata": {},
     "output_type": "display_data"
    },
    {
     "data": {
      "application/vnd.jupyter.widget-view+json": {
       "model_id": "8eb2b97ed6e74100ab481daf3ae13773",
       "version_major": 2,
       "version_minor": 0
      },
      "text/plain": [
       "HBox(children=(Button(description='Soluble', style=ButtonStyle(button_color='Whitesmoke')), Button(description…"
      ]
     },
     "metadata": {},
     "output_type": "display_data"
    },
    {
     "data": {
      "application/vnd.jupyter.widget-view+json": {
       "model_id": "9e04a0199cf04abbb75174853a499a38",
       "version_major": 2,
       "version_minor": 0
      },
      "text/plain": [
       "HBox(children=(Button(description='Soluble', style=ButtonStyle(button_color='Whitesmoke')), Button(description…"
      ]
     },
     "metadata": {},
     "output_type": "display_data"
    },
    {
     "name": "stdout",
     "output_type": "stream",
     "text": [
      " \r"
     ]
    }
   ],
   "source": [
    "randomize_6 = random.randint(1, 2)\n",
    "if randomize_6 == 1:\n",
    "    option_1 = \"Pb(NO<sub>3</sub>)<sub>2</sub> + 2AgCl &rarr; PbCl<sub>2</sub> + <span style='color:red'>2AgNO<sub>3</sub></span>\"; bool_1 = True\n",
    "elif randomize_6 == 2:\n",
    "    option_1 = \"Pb(NO<sub>3</sub>)<sub>2</sub> + 2AgCl &rarr; <span style='color:red'>PbCl<sub>2</sub></span> + 2AgNO<sub>3</sub>\"; bool_1 = False\n",
    "\n",
    "randomize_6 = random.randint(1, 2)\n",
    "if randomize_6 == 1:\n",
    "    option_2 = \"Mg(NO<sub>3</sub>)<sub>2</sub> + 2NaOH &rarr; Mg(OH)<sub>2</sub> + <span style='color:red'>2NaNO<sub>3</sub></span>\"; bool_2 = True\n",
    "elif randomize_6 == 2:\n",
    "    option_2 = \"Mg(NO<sub>3</sub>)<sub>2</sub> + 2NaOH &rarr; <span style='color:red'>Mg(OH)<sub>2</sub></span> + 2NaNO<sub>3</sub>\"; bool_2 = False\n",
    "\n",
    "randomize_6 = random.randint(1, 2)\n",
    "if randomize_6 == 1:\n",
    "    option_3 = \"ZnSO<sub>4</sub> + BaCl<sub>2</sub> &rarr; <span style='color:red'>ZnCl<sub>2</sub></span> + BaSO<sub>4</sub>\"; bool_3 = True\n",
    "elif randomize_6 == 2:\n",
    "    option_3 = \"ZnSO<sub>4</sub> + BaCl<sub>2</sub> &rarr; ZnCl<sub>2</sub> + <span style='color:red'>BaSO<sub>4</sub></sub>\"; bool_3 = False\n",
    "\n",
    "randomize_6 = random.randint(1, 2)\n",
    "if randomize_6 == 1:\n",
    "    option_4 = \"CaCl<sub>2</sub> + Na<sub>2</sub>CO<sub>3</sub> &rarr; CaCO<sub>3</sub> + <span style='color:red'>2NaCl</span>\"; bool_4 = True\n",
    "elif randomize_6 == 2:\n",
    "    option_4 = \"CaCl<sub>2</sub> + Na<sub>2</sub>CO<sub>3</sub> &rarr; <span style='color:red'>CaCO<sub>3</sub></span> + 2NaCl\"; bool_4 = False\n",
    "   \n",
    "true_false(option_1, bool_1, option_2, bool_2, option_3, bool_3, option_4, bool_4, \"Soluble\", \"Precipitate\")"
   ]
  },
  {
   "cell_type": "markdown",
   "metadata": {},
   "source": [
    "## Conclusion"
   ]
  },
  {
   "cell_type": "markdown",
   "metadata": {},
   "source": [
    "* A **chemical reaction** is a process that involves the rearrangement of the atoms in the molecular or ionic structure of a substance or material.\n",
    "* One common classification scheme organizes chemical reactions into four types: *combination, decomposition, single replacement, and double replacement reactions*.\n",
    "* The **general form** for each reaction type is given as follows:\n",
    "  + **Combination reaction:** A + B &rarr; AB\n",
    "  + **Decomposition reaction:** AB &rarr; A + B\n",
    "  + **Single replacement reaction:** AB + X &rarr; XB + A\n",
    "  + **Double replacement reaction:** AB + XY &rarr; XB + AY\n",
    "* The reactivity series can be used to determine if a reaction will spontaneously occur.\n",
    "* A solubility chart can be used to determine whether or not a product will form a precipitate or remain in solution.\n",
    "\n",
    "Images in this notebook represent original artwork."
   ]
  },
  {
   "cell_type": "markdown",
   "metadata": {},
   "source": [
    "2+2"
   ]
  },
  {
   "cell_type": "markdown",
   "metadata": {},
   "source": [
    "[![Callysto.ca License](https://github.com/callysto/curriculum-notebooks/blob/master/callysto-notebook-banner-bottom.jpg?raw=true)](https://github.com/callysto/curriculum-notebooks/blob/master/LICENSE.md)"
   ]
  }
 ],
 "metadata": {
  "kernelspec": {
   "display_name": "Python 3",
   "language": "python",
   "name": "python3"
  },
  "language_info": {
   "codemirror_mode": {
    "name": "ipython",
    "version": 3
   },
   "file_extension": ".py",
   "mimetype": "text/x-python",
   "name": "python",
   "nbconvert_exporter": "python",
   "pygments_lexer": "ipython3",
   "version": "3.7.4"
  },
  "latex_envs": {
   "LaTeX_envs_menu_present": true,
   "autoclose": false,
   "autocomplete": true,
   "bibliofile": "biblio.bib",
   "cite_by": "apalike",
   "current_citInitial": 1,
   "eqLabelWithNumbers": true,
   "eqNumInitial": 1,
   "hotkeys": {
    "equation": "Ctrl-E",
    "itemize": "Ctrl-I"
   },
   "labels_anchors": false,
   "latex_user_defs": false,
   "report_style_numbering": false,
   "user_envs_cfg": false
  },
  "nbTranslate": {
   "displayLangs": [
    "*"
   ],
   "hotkey": "alt-t",
   "langInMainMenu": true,
   "sourceLang": "en",
   "targetLang": "fr",
   "useGoogleTranslate": true
  }
 },
 "nbformat": 4,
 "nbformat_minor": 2
}

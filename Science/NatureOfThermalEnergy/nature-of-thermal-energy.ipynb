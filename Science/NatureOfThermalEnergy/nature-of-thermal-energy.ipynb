{
 "cells": [
  {
   "cell_type": "markdown",
   "metadata": {
    "hidden": false
   },
   "source": [
    "<img src = 'images/Callysto_Notebook-Banner_Top.jpg'>"
   ]
  },
  {
   "cell_type": "code",
   "execution_count": 1,
   "metadata": {
    "hidden": false,
    "scrolled": true
   },
   "outputs": [
    {
     "data": {
      "text/html": [
       "<script type=\"text/javascript\">window.PlotlyConfig = {MathJaxConfig: 'local'};</script><script type=\"text/javascript\">if (window.MathJax) {MathJax.Hub.Config({SVG: {font: \"STIX-Web\"}});}</script><script>requirejs.config({paths: { 'plotly': ['https://cdn.plot.ly/plotly-latest.min']},});if(!window._Plotly) {require(['plotly'],function(plotly) {window._Plotly=plotly;});}</script>"
      ],
      "text/vnd.plotly.v1+html": [
       "<script type=\"text/javascript\">window.PlotlyConfig = {MathJaxConfig: 'local'};</script><script type=\"text/javascript\">if (window.MathJax) {MathJax.Hub.Config({SVG: {font: \"STIX-Web\"}});}</script><script>requirejs.config({paths: { 'plotly': ['https://cdn.plot.ly/plotly-latest.min']},});if(!window._Plotly) {require(['plotly'],function(plotly) {window._Plotly=plotly;});}</script>"
      ]
     },
     "metadata": {},
     "output_type": "display_data"
    }
   ],
   "source": [
    "import numpy as np\n",
    "import matplotlib.pyplot as plt\n",
    "import matplotlib.animation as animation\n",
    "from mpl_toolkits.mplot3d import Axes3D\n",
    "import mpl_toolkits.mplot3d.axes3d as p3\n",
    "from matplotlib import rc\n",
    "from IPython.display import display, Math, Latex, HTML, clear_output, Markdown, IFrame, Javascript\n",
    "import ipywidgets as widgets\n",
    "from ipywidgets import interact, FloatSlider, IntSlider, interactive, Layout\n",
    "from traitlets import traitlets\n",
    "\n",
    "\n",
    "from plotly.offline import download_plotlyjs, init_notebook_mode, plot, iplot\n",
    "init_notebook_mode(connected=True)\n",
    "\n",
    "%matplotlib notebook\n",
    "\n",
    "#Convenience function that evaluates a certain cell range\n",
    "\n",
    "def evaluate_cells(de, a):\n",
    "    display(Javascript('IPython.notebook.execute_cell_range(IPython.notebook.get_selected_index()+%s,IPython.notebook.get_selected_index()+%s)'%(de,a)))\n",
    "    return"
   ]
  },
  {
   "cell_type": "code",
   "execution_count": 2,
   "metadata": {
    "hidden": false,
    "scrolled": true
   },
   "outputs": [
    {
     "data": {
      "text/html": [
       "<script>\n",
       "  function code_toggle() {\n",
       "    if (code_shown){\n",
       "      $('div.input').hide('500');\n",
       "      $('#toggleButton').val('Show Code')\n",
       "    } else {\n",
       "      $('div.input').show('500');\n",
       "      $('#toggleButton').val('Hide Code')\n",
       "    }\n",
       "    code_shown = !code_shown\n",
       "  }\n",
       "  \n",
       "  $( document ).ready(function(){\n",
       "    code_shown=false;\n",
       "    $('div.input').hide()\n",
       "  });\n",
       "</script>\n",
       "<form action=\"javascript:code_toggle()\"><input type=\"submit\" id=\"toggleButton\" value=\"Show Code\"></form>"
      ],
      "text/plain": [
       "<IPython.core.display.HTML object>"
      ]
     },
     "execution_count": 2,
     "metadata": {},
     "output_type": "execute_result"
    }
   ],
   "source": [
    "HTML('''<script>\n",
    "  function code_toggle() {\n",
    "    if (code_shown){\n",
    "      $('div.input').hide('500');\n",
    "      $('#toggleButton').val('Show Code')\n",
    "    } else {\n",
    "      $('div.input').show('500');\n",
    "      $('#toggleButton').val('Hide Code')\n",
    "    }\n",
    "    code_shown = !code_shown\n",
    "  }\n",
    "  \n",
    "  $( document ).ready(function(){\n",
    "    code_shown=false;\n",
    "    $('div.input').hide()\n",
    "  });\n",
    "</script>\n",
    "<form action=\"javascript:code_toggle()\"><input type=\"submit\" id=\"toggleButton\" value=\"Show Code\"></form>''')\n"
   ]
  },
  {
   "cell_type": "markdown",
   "metadata": {
    "hidden": false
   },
   "source": [
    "#  <center>Heat and Temperature: The Nature of Thermal Energy </center>\n",
    "\n",
    "In this Jupyter Notebook you will explore the nature of thermal energy and its effects on different forms of matter using informal observations, experimental evidence, and models. By the end of the notebook you will have gained an understanding on:\n",
    "\n",
    "- comparing heat transmission in different materials \n",
    "- explaining how heat is transmitted by conduction, convection and radiation in solids, liquids and gases\n",
    "- describing the effect of heat on the motion of particles; and explain changes of state, using the particle model of matter\n",
    "- distinguishing between heat and temperature; and explain temperature, using the concept of kinetic energy and the particle model of matter\n",
    "- investigating and describing the effects of heating and cooling on the volume of different materials, and identify applications of these effects\n",
    "\n",
    "Necessary Background: Basic understanding of kinetic energy and states of matter.\n",
    "\n",
    "Thermal energy applications are found throughout our daily lives; the means by which a refrigerator functions, the ways we power and heat our homes, the combustion which drives our engines. These are just a few of the many ways we use thermal energy to improve our lives. Consequently, having a better understanding of the nature of thermal energy means having a better understanding of the world around us, natural and manufactured. "
   ]
  },
  {
   "cell_type": "markdown",
   "metadata": {
    "hidden": false
   },
   "source": [
    "\n",
    "## Heat vs. Temperature\n",
    "\n",
    "The difference between temperature and heat is quite subtle. We'd better state the definitions formally:\n",
    "\n",
    "**Heat** is a type of energy transfer in which energy flow is caused by a difference in temperature. \n",
    "\n",
    "**Temperature** is a measure of the average heat or thermal energy of the particles in a substance. \n",
    "\n",
    "These are simple explanations for the time being and will become clearer over the course of this notebook. heat is  a *microscopic* quantity which gives rise to the *macroscopic* quantity of temperature. We often think of heat and temperature interchangably but they have fundamentally different meanings. Heat can be exchanged between matter and temperature can be possessed by matter. Over the course of this notebook the differences will become clearer.\n",
    "\n",
    "---\n",
    "\n",
    "*Side note*: **Macroscopic vs Microscopic**\n",
    "\n",
    "Macroscopic quantities can be thought of as the things that you can *see* and quantify, whereas microscopic quantities are the opposite of this; they need some more detailed measuring tools in order to observe. For example, consider the picture of a forest below. Many trees come together to make up the entire forest. In the picture, these trees are comprised of many different shades of green. As we zoom in further, we see that these shades are actually just individual square pixels, each with one colour and brightness. The brightness, colour, and size of each pixel can be seen as the microscopic properties. The macroscopic properties would be the individual trees and the forest that they form. Microscopic properties can only be seen as we zoom into the image. Similarly, macroscopic properties can only be seen as we zoom out. \n",
    " \n",
    "<img src = \"images/macroscopic_forest.png\" height = 550 width = 550 style = \"border-radius: 8px\">\n"
   ]
  },
  {
   "cell_type": "markdown",
   "metadata": {
    "hidden": false
   },
   "source": [
    "# <center> Particle Model of Matter </center>    \n",
    "In order to help you understand heat, it will be useful to think of the *Particle Model of Matter*. This model was first proposed by the Greek philosopher Democritus over 2000 years ago. He thought of being able to cut up matter, the stuff that makes up everything in the world, into smaller and smaller parts. Eventually, one would reach its basic components; the particles that make up all matter. The term particle is still used everywhere in the physical sciences. They can be simply thought of as small objects with certain properties such as size, speed, or colour. Typically they form interact together in terms of these properties, creating some macroscopic property. Using the concept of a particle has helped us model how different microscopic quantities combine to create macroscopic ones. The particle model states that:\n",
    "\n",
    "### 1. All matter is made up of tiny particles \n",
    "\n",
    "Place your mouse over the image below to interact."
   ]
  },
  {
   "cell_type": "code",
   "execution_count": 3,
   "metadata": {
    "hidden": false,
    "scrolled": false
   },
   "outputs": [
    {
     "data": {
      "text/html": [
       "\n",
       "<div style=\"text-align: center\">\n",
       "    <iframe width=\"500px\" height=\"420px\" src=\"animations/cube_grid.html\" frameborder=\"0\"></iframe>\n",
       "</div>\n",
       "            \n"
      ],
      "text/plain": [
       "<IPython.core.display.HTML object>"
      ]
     },
     "metadata": {},
     "output_type": "display_data"
    }
   ],
   "source": [
    "%%html\n",
    "\n",
    "<div style=\"text-align: center\">\n",
    "    <iframe width=\"500px\" height=\"420px\" src=\"animations/cube_grid.html\" frameborder=\"0\"></iframe>\n",
    "</div>\n",
    "            "
   ]
  },
  {
   "cell_type": "markdown",
   "metadata": {
    "hidden": false
   },
   "source": [
    "### 2. The particles are constantly moving \n",
    "\n",
    "Since the particles are not at absolute (0 Kelvin), they still contain a bit of thermal energy. When the particles are bound in a solid structure, like above, this causes them to vibrate slightly. Particles in any state will always slightly unless they are at absolute 0 temperature. Below is the same solid as above, but depicted more realistically."
   ]
  },
  {
   "cell_type": "code",
   "execution_count": 4,
   "metadata": {
    "hidden": false
   },
   "outputs": [
    {
     "data": {
      "text/html": [
       "\n",
       "<div style=\"text-align: center\">\n",
       "    <iframe width=\"450px\" height=\"420px\" src=\"animations/vibrating_cube.html\" frameborder=\"0\"></iframe>\n",
       "</div>\n"
      ],
      "text/plain": [
       "<IPython.core.display.HTML object>"
      ]
     },
     "metadata": {},
     "output_type": "display_data"
    }
   ],
   "source": [
    "%%html\n",
    "\n",
    "<div style=\"text-align: center\">\n",
    "    <iframe width=\"450px\" height=\"420px\" src=\"animations/vibrating_cube.html\" frameborder=\"0\"></iframe>\n",
    "</div>"
   ]
  },
  {
   "cell_type": "markdown",
   "metadata": {
    "hidden": false
   },
   "source": [
    "*Side Note*: **Absoloute Zero**\n",
    "\n",
    "The Kelvin scale is an absolute temperature scale using 0 as the point where all motion due to heat. The celsius scale on the other hand uses the freezing point of water as its zero, which corresponds to 273.15 Kelvin. This can be inconvenient for many scientists, especially when quantities have to be multiplied by temperature, thus the Kelvin scale is the international standard and is recognized as the base unit of temperature. Absolute 0 is an *absolute* since all motion for any type of matter will stop at this temperature. That being said, absolute zero is actually physically impossible to reach <a href = \"https://www.sciencealert.com/after-a-century-of-debate-cooling-to-absolute-zero-has-been-declared-mathematically-impossible\">Click here if you're interested</a>. There is ongoing research on cooling matter to extremely low temperatures in order to observe its behaviour when there is nearly zero thermal motion. "
   ]
  },
  {
   "cell_type": "markdown",
   "metadata": {
    "hidden": false
   },
   "source": [
    "### 3. The particles move faster as you heat them up"
   ]
  },
  {
   "cell_type": "code",
   "execution_count": 5,
   "metadata": {
    "hidden": false,
    "scrolled": false
   },
   "outputs": [
    {
     "data": {
      "text/html": [
       "\n",
       "<div style=\"text-align: center\">\n",
       "    <iframe width=\"450px\" height=\"420px\" src=\"animations/particle_in_a_box.html\" frameborder=\"0\"></iframe>\n",
       "</div>\n"
      ],
      "text/plain": [
       "<IPython.core.display.HTML object>"
      ]
     },
     "metadata": {},
     "output_type": "display_data"
    }
   ],
   "source": [
    "%%html\n",
    "\n",
    "<div style=\"text-align: center\">\n",
    "    <iframe width=\"450px\" height=\"420px\" src=\"animations/particle_in_a_box.html\" frameborder=\"0\"></iframe>\n",
    "</div>\n"
   ]
  },
  {
   "cell_type": "markdown",
   "metadata": {
    "hidden": false
   },
   "source": [
    "Statement 3 of the particle model offers the clearest description for the difference between temperature and heat. As the temperature inside the square increases, the particles move faster. This is because the the particles have more heat energy, but what we actually measure is temperature. The particles collide with the sides of the box more frequently. The more frequent the collisions, the higher the temperature we measure. Above is a graphic describing how the 'particles' that make up water might behave as they are heated."
   ]
  },
  {
   "cell_type": "markdown",
   "metadata": {
    "hidden": false
   },
   "source": [
    "---\n",
    "## <center>Changes of State</center>\n",
    "\n",
    "Heat transfer plays a deciding role in the changes of state of matter (Solid, Liquid or Gas). Let's break down how heat energy changes the state of matter and what these processes are called. Matter will be thought of as a collection of particles. The behaviour of these particles is determined by the state of matter in which they are in:\n",
    "\n",
    "- Particles in a **solid** are tighly packed. They have very little motion other than vibrating in the location that they are in.\n",
    "\n",
    "- Particles in a **liquid** are able to move past one another. This is what gives liquids the property of being able to \"flow\".\n",
    "\n",
    "- Particles in a **gas** can essentially move around freely, occasionally colliding into one another. This is why gases have so much free space.\n",
    "\n",
    "Note the use of a macroscopic quantity to used to describe microscopic ones (state $\\rightarrow$ motion).\n",
    "\n",
    "### Why do the changes happen?\n",
    "\n",
    "Matter changes state due to heat energy. Think of the particles in a solid. As they gain more heat energy, the particles themselves gain more kinetic energy. More kinetic energy means they are moving faster, making them collide into one another more often. Eventually the bonds that hold the solid together cannot maintain the amount of collisions and the solid begins to break apart, into a liquid. This is known as melting. \n",
    "\n",
    "Once the matter has melted, the particles begin to flow, yet they still maintain a bit of their structure; they are still \"connected\". If you were to give them even more heat energy, the structure begins to fall apart, and eventually the matter becomes a gas where the particles can move around freely and disperse from one another. This process is called evaporation. \n",
    "\n",
    "Some of the main characteristics of a substance are the temperatures at which these transitions happen. These are known as the *melting point* and *boiling point* of the substance. For example, water has a melting point of 0$^{\\circ}$C and a boiling point of 100$^{\\circ}$C (STP) and these temperatures are a fundamental part of what it means to be \"water\". The acronym SATP stands for Standard Ambient Temperature and Pressure, and is used as a standard ruler for experimental measurements. The melting and boiling points of water change at different pressures and therefore the pressure at which these quanitities were measured must be specified as well. This allows for accurate comparisons between different experiments and laboratories. \n",
    "\n",
    "The different changes that occur in matter are pictured below. Try to memorize the names of the different changes of state. Hover your mouse over each black box to see the names of them. Once you press the \"Play memory game\" button, you won't be able to see their names anymore and will have to match the numbers to the name of change of state. See how many times you can get them correct! You'll have them memorized in no time :-)"
   ]
  },
  {
   "cell_type": "code",
   "execution_count": 12,
   "metadata": {
    "hidden": false,
    "scrolled": false
   },
   "outputs": [
    {
     "data": {
      "application/javascript": [
       "/* Put everything inside the global mpl namespace */\n",
       "window.mpl = {};\n",
       "\n",
       "\n",
       "mpl.get_websocket_type = function() {\n",
       "    if (typeof(WebSocket) !== 'undefined') {\n",
       "        return WebSocket;\n",
       "    } else if (typeof(MozWebSocket) !== 'undefined') {\n",
       "        return MozWebSocket;\n",
       "    } else {\n",
       "        alert('Your browser does not have WebSocket support.' +\n",
       "              'Please try Chrome, Safari or Firefox ≥ 6. ' +\n",
       "              'Firefox 4 and 5 are also supported but you ' +\n",
       "              'have to enable WebSockets in about:config.');\n",
       "    };\n",
       "}\n",
       "\n",
       "mpl.figure = function(figure_id, websocket, ondownload, parent_element) {\n",
       "    this.id = figure_id;\n",
       "\n",
       "    this.ws = websocket;\n",
       "\n",
       "    this.supports_binary = (this.ws.binaryType != undefined);\n",
       "\n",
       "    if (!this.supports_binary) {\n",
       "        var warnings = document.getElementById(\"mpl-warnings\");\n",
       "        if (warnings) {\n",
       "            warnings.style.display = 'block';\n",
       "            warnings.textContent = (\n",
       "                \"This browser does not support binary websocket messages. \" +\n",
       "                    \"Performance may be slow.\");\n",
       "        }\n",
       "    }\n",
       "\n",
       "    this.imageObj = new Image();\n",
       "\n",
       "    this.context = undefined;\n",
       "    this.message = undefined;\n",
       "    this.canvas = undefined;\n",
       "    this.rubberband_canvas = undefined;\n",
       "    this.rubberband_context = undefined;\n",
       "    this.format_dropdown = undefined;\n",
       "\n",
       "    this.image_mode = 'full';\n",
       "\n",
       "    this.root = $('<div/>');\n",
       "    this._root_extra_style(this.root)\n",
       "    this.root.attr('style', 'display: inline-block');\n",
       "\n",
       "    $(parent_element).append(this.root);\n",
       "\n",
       "    this._init_header(this);\n",
       "    this._init_canvas(this);\n",
       "    this._init_toolbar(this);\n",
       "\n",
       "    var fig = this;\n",
       "\n",
       "    this.waiting = false;\n",
       "\n",
       "    this.ws.onopen =  function () {\n",
       "            fig.send_message(\"supports_binary\", {value: fig.supports_binary});\n",
       "            fig.send_message(\"send_image_mode\", {});\n",
       "            if (mpl.ratio != 1) {\n",
       "                fig.send_message(\"set_dpi_ratio\", {'dpi_ratio': mpl.ratio});\n",
       "            }\n",
       "            fig.send_message(\"refresh\", {});\n",
       "        }\n",
       "\n",
       "    this.imageObj.onload = function() {\n",
       "            if (fig.image_mode == 'full') {\n",
       "                // Full images could contain transparency (where diff images\n",
       "                // almost always do), so we need to clear the canvas so that\n",
       "                // there is no ghosting.\n",
       "                fig.context.clearRect(0, 0, fig.canvas.width, fig.canvas.height);\n",
       "            }\n",
       "            fig.context.drawImage(fig.imageObj, 0, 0);\n",
       "        };\n",
       "\n",
       "    this.imageObj.onunload = function() {\n",
       "        fig.ws.close();\n",
       "    }\n",
       "\n",
       "    this.ws.onmessage = this._make_on_message_function(this);\n",
       "\n",
       "    this.ondownload = ondownload;\n",
       "}\n",
       "\n",
       "mpl.figure.prototype._init_header = function() {\n",
       "    var titlebar = $(\n",
       "        '<div class=\"ui-dialog-titlebar ui-widget-header ui-corner-all ' +\n",
       "        'ui-helper-clearfix\"/>');\n",
       "    var titletext = $(\n",
       "        '<div class=\"ui-dialog-title\" style=\"width: 100%; ' +\n",
       "        'text-align: center; padding: 3px;\"/>');\n",
       "    titlebar.append(titletext)\n",
       "    this.root.append(titlebar);\n",
       "    this.header = titletext[0];\n",
       "}\n",
       "\n",
       "\n",
       "\n",
       "mpl.figure.prototype._canvas_extra_style = function(canvas_div) {\n",
       "\n",
       "}\n",
       "\n",
       "\n",
       "mpl.figure.prototype._root_extra_style = function(canvas_div) {\n",
       "\n",
       "}\n",
       "\n",
       "mpl.figure.prototype._init_canvas = function() {\n",
       "    var fig = this;\n",
       "\n",
       "    var canvas_div = $('<div/>');\n",
       "\n",
       "    canvas_div.attr('style', 'position: relative; clear: both; outline: 0');\n",
       "\n",
       "    function canvas_keyboard_event(event) {\n",
       "        return fig.key_event(event, event['data']);\n",
       "    }\n",
       "\n",
       "    canvas_div.keydown('key_press', canvas_keyboard_event);\n",
       "    canvas_div.keyup('key_release', canvas_keyboard_event);\n",
       "    this.canvas_div = canvas_div\n",
       "    this._canvas_extra_style(canvas_div)\n",
       "    this.root.append(canvas_div);\n",
       "\n",
       "    var canvas = $('<canvas/>');\n",
       "    canvas.addClass('mpl-canvas');\n",
       "    canvas.attr('style', \"left: 0; top: 0; z-index: 0; outline: 0\")\n",
       "\n",
       "    this.canvas = canvas[0];\n",
       "    this.context = canvas[0].getContext(\"2d\");\n",
       "\n",
       "    var backingStore = this.context.backingStorePixelRatio ||\n",
       "\tthis.context.webkitBackingStorePixelRatio ||\n",
       "\tthis.context.mozBackingStorePixelRatio ||\n",
       "\tthis.context.msBackingStorePixelRatio ||\n",
       "\tthis.context.oBackingStorePixelRatio ||\n",
       "\tthis.context.backingStorePixelRatio || 1;\n",
       "\n",
       "    mpl.ratio = (window.devicePixelRatio || 1) / backingStore;\n",
       "\n",
       "    var rubberband = $('<canvas/>');\n",
       "    rubberband.attr('style', \"position: absolute; left: 0; top: 0; z-index: 1;\")\n",
       "\n",
       "    var pass_mouse_events = true;\n",
       "\n",
       "    canvas_div.resizable({\n",
       "        start: function(event, ui) {\n",
       "            pass_mouse_events = false;\n",
       "        },\n",
       "        resize: function(event, ui) {\n",
       "            fig.request_resize(ui.size.width, ui.size.height);\n",
       "        },\n",
       "        stop: function(event, ui) {\n",
       "            pass_mouse_events = true;\n",
       "            fig.request_resize(ui.size.width, ui.size.height);\n",
       "        },\n",
       "    });\n",
       "\n",
       "    function mouse_event_fn(event) {\n",
       "        if (pass_mouse_events)\n",
       "            return fig.mouse_event(event, event['data']);\n",
       "    }\n",
       "\n",
       "    rubberband.mousedown('button_press', mouse_event_fn);\n",
       "    rubberband.mouseup('button_release', mouse_event_fn);\n",
       "    // Throttle sequential mouse events to 1 every 20ms.\n",
       "    rubberband.mousemove('motion_notify', mouse_event_fn);\n",
       "\n",
       "    rubberband.mouseenter('figure_enter', mouse_event_fn);\n",
       "    rubberband.mouseleave('figure_leave', mouse_event_fn);\n",
       "\n",
       "    canvas_div.on(\"wheel\", function (event) {\n",
       "        event = event.originalEvent;\n",
       "        event['data'] = 'scroll'\n",
       "        if (event.deltaY < 0) {\n",
       "            event.step = 1;\n",
       "        } else {\n",
       "            event.step = -1;\n",
       "        }\n",
       "        mouse_event_fn(event);\n",
       "    });\n",
       "\n",
       "    canvas_div.append(canvas);\n",
       "    canvas_div.append(rubberband);\n",
       "\n",
       "    this.rubberband = rubberband;\n",
       "    this.rubberband_canvas = rubberband[0];\n",
       "    this.rubberband_context = rubberband[0].getContext(\"2d\");\n",
       "    this.rubberband_context.strokeStyle = \"#000000\";\n",
       "\n",
       "    this._resize_canvas = function(width, height) {\n",
       "        // Keep the size of the canvas, canvas container, and rubber band\n",
       "        // canvas in synch.\n",
       "        canvas_div.css('width', width)\n",
       "        canvas_div.css('height', height)\n",
       "\n",
       "        canvas.attr('width', width * mpl.ratio);\n",
       "        canvas.attr('height', height * mpl.ratio);\n",
       "        canvas.attr('style', 'width: ' + width + 'px; height: ' + height + 'px;');\n",
       "\n",
       "        rubberband.attr('width', width);\n",
       "        rubberband.attr('height', height);\n",
       "    }\n",
       "\n",
       "    // Set the figure to an initial 600x600px, this will subsequently be updated\n",
       "    // upon first draw.\n",
       "    this._resize_canvas(600, 600);\n",
       "\n",
       "    // Disable right mouse context menu.\n",
       "    $(this.rubberband_canvas).bind(\"contextmenu\",function(e){\n",
       "        return false;\n",
       "    });\n",
       "\n",
       "    function set_focus () {\n",
       "        canvas.focus();\n",
       "        canvas_div.focus();\n",
       "    }\n",
       "\n",
       "    window.setTimeout(set_focus, 100);\n",
       "}\n",
       "\n",
       "mpl.figure.prototype._init_toolbar = function() {\n",
       "    var fig = this;\n",
       "\n",
       "    var nav_element = $('<div/>')\n",
       "    nav_element.attr('style', 'width: 100%');\n",
       "    this.root.append(nav_element);\n",
       "\n",
       "    // Define a callback function for later on.\n",
       "    function toolbar_event(event) {\n",
       "        return fig.toolbar_button_onclick(event['data']);\n",
       "    }\n",
       "    function toolbar_mouse_event(event) {\n",
       "        return fig.toolbar_button_onmouseover(event['data']);\n",
       "    }\n",
       "\n",
       "    for(var toolbar_ind in mpl.toolbar_items) {\n",
       "        var name = mpl.toolbar_items[toolbar_ind][0];\n",
       "        var tooltip = mpl.toolbar_items[toolbar_ind][1];\n",
       "        var image = mpl.toolbar_items[toolbar_ind][2];\n",
       "        var method_name = mpl.toolbar_items[toolbar_ind][3];\n",
       "\n",
       "        if (!name) {\n",
       "            // put a spacer in here.\n",
       "            continue;\n",
       "        }\n",
       "        var button = $('<button/>');\n",
       "        button.addClass('ui-button ui-widget ui-state-default ui-corner-all ' +\n",
       "                        'ui-button-icon-only');\n",
       "        button.attr('role', 'button');\n",
       "        button.attr('aria-disabled', 'false');\n",
       "        button.click(method_name, toolbar_event);\n",
       "        button.mouseover(tooltip, toolbar_mouse_event);\n",
       "\n",
       "        var icon_img = $('<span/>');\n",
       "        icon_img.addClass('ui-button-icon-primary ui-icon');\n",
       "        icon_img.addClass(image);\n",
       "        icon_img.addClass('ui-corner-all');\n",
       "\n",
       "        var tooltip_span = $('<span/>');\n",
       "        tooltip_span.addClass('ui-button-text');\n",
       "        tooltip_span.html(tooltip);\n",
       "\n",
       "        button.append(icon_img);\n",
       "        button.append(tooltip_span);\n",
       "\n",
       "        nav_element.append(button);\n",
       "    }\n",
       "\n",
       "    var fmt_picker_span = $('<span/>');\n",
       "\n",
       "    var fmt_picker = $('<select/>');\n",
       "    fmt_picker.addClass('mpl-toolbar-option ui-widget ui-widget-content');\n",
       "    fmt_picker_span.append(fmt_picker);\n",
       "    nav_element.append(fmt_picker_span);\n",
       "    this.format_dropdown = fmt_picker[0];\n",
       "\n",
       "    for (var ind in mpl.extensions) {\n",
       "        var fmt = mpl.extensions[ind];\n",
       "        var option = $(\n",
       "            '<option/>', {selected: fmt === mpl.default_extension}).html(fmt);\n",
       "        fmt_picker.append(option)\n",
       "    }\n",
       "\n",
       "    // Add hover states to the ui-buttons\n",
       "    $( \".ui-button\" ).hover(\n",
       "        function() { $(this).addClass(\"ui-state-hover\");},\n",
       "        function() { $(this).removeClass(\"ui-state-hover\");}\n",
       "    );\n",
       "\n",
       "    var status_bar = $('<span class=\"mpl-message\"/>');\n",
       "    nav_element.append(status_bar);\n",
       "    this.message = status_bar[0];\n",
       "}\n",
       "\n",
       "mpl.figure.prototype.request_resize = function(x_pixels, y_pixels) {\n",
       "    // Request matplotlib to resize the figure. Matplotlib will then trigger a resize in the client,\n",
       "    // which will in turn request a refresh of the image.\n",
       "    this.send_message('resize', {'width': x_pixels, 'height': y_pixels});\n",
       "}\n",
       "\n",
       "mpl.figure.prototype.send_message = function(type, properties) {\n",
       "    properties['type'] = type;\n",
       "    properties['figure_id'] = this.id;\n",
       "    this.ws.send(JSON.stringify(properties));\n",
       "}\n",
       "\n",
       "mpl.figure.prototype.send_draw_message = function() {\n",
       "    if (!this.waiting) {\n",
       "        this.waiting = true;\n",
       "        this.ws.send(JSON.stringify({type: \"draw\", figure_id: this.id}));\n",
       "    }\n",
       "}\n",
       "\n",
       "\n",
       "mpl.figure.prototype.handle_save = function(fig, msg) {\n",
       "    var format_dropdown = fig.format_dropdown;\n",
       "    var format = format_dropdown.options[format_dropdown.selectedIndex].value;\n",
       "    fig.ondownload(fig, format);\n",
       "}\n",
       "\n",
       "\n",
       "mpl.figure.prototype.handle_resize = function(fig, msg) {\n",
       "    var size = msg['size'];\n",
       "    if (size[0] != fig.canvas.width || size[1] != fig.canvas.height) {\n",
       "        fig._resize_canvas(size[0], size[1]);\n",
       "        fig.send_message(\"refresh\", {});\n",
       "    };\n",
       "}\n",
       "\n",
       "mpl.figure.prototype.handle_rubberband = function(fig, msg) {\n",
       "    var x0 = msg['x0'] / mpl.ratio;\n",
       "    var y0 = (fig.canvas.height - msg['y0']) / mpl.ratio;\n",
       "    var x1 = msg['x1'] / mpl.ratio;\n",
       "    var y1 = (fig.canvas.height - msg['y1']) / mpl.ratio;\n",
       "    x0 = Math.floor(x0) + 0.5;\n",
       "    y0 = Math.floor(y0) + 0.5;\n",
       "    x1 = Math.floor(x1) + 0.5;\n",
       "    y1 = Math.floor(y1) + 0.5;\n",
       "    var min_x = Math.min(x0, x1);\n",
       "    var min_y = Math.min(y0, y1);\n",
       "    var width = Math.abs(x1 - x0);\n",
       "    var height = Math.abs(y1 - y0);\n",
       "\n",
       "    fig.rubberband_context.clearRect(\n",
       "        0, 0, fig.canvas.width, fig.canvas.height);\n",
       "\n",
       "    fig.rubberband_context.strokeRect(min_x, min_y, width, height);\n",
       "}\n",
       "\n",
       "mpl.figure.prototype.handle_figure_label = function(fig, msg) {\n",
       "    // Updates the figure title.\n",
       "    fig.header.textContent = msg['label'];\n",
       "}\n",
       "\n",
       "mpl.figure.prototype.handle_cursor = function(fig, msg) {\n",
       "    var cursor = msg['cursor'];\n",
       "    switch(cursor)\n",
       "    {\n",
       "    case 0:\n",
       "        cursor = 'pointer';\n",
       "        break;\n",
       "    case 1:\n",
       "        cursor = 'default';\n",
       "        break;\n",
       "    case 2:\n",
       "        cursor = 'crosshair';\n",
       "        break;\n",
       "    case 3:\n",
       "        cursor = 'move';\n",
       "        break;\n",
       "    }\n",
       "    fig.rubberband_canvas.style.cursor = cursor;\n",
       "}\n",
       "\n",
       "mpl.figure.prototype.handle_message = function(fig, msg) {\n",
       "    fig.message.textContent = msg['message'];\n",
       "}\n",
       "\n",
       "mpl.figure.prototype.handle_draw = function(fig, msg) {\n",
       "    // Request the server to send over a new figure.\n",
       "    fig.send_draw_message();\n",
       "}\n",
       "\n",
       "mpl.figure.prototype.handle_image_mode = function(fig, msg) {\n",
       "    fig.image_mode = msg['mode'];\n",
       "}\n",
       "\n",
       "mpl.figure.prototype.updated_canvas_event = function() {\n",
       "    // Called whenever the canvas gets updated.\n",
       "    this.send_message(\"ack\", {});\n",
       "}\n",
       "\n",
       "// A function to construct a web socket function for onmessage handling.\n",
       "// Called in the figure constructor.\n",
       "mpl.figure.prototype._make_on_message_function = function(fig) {\n",
       "    return function socket_on_message(evt) {\n",
       "        if (evt.data instanceof Blob) {\n",
       "            /* FIXME: We get \"Resource interpreted as Image but\n",
       "             * transferred with MIME type text/plain:\" errors on\n",
       "             * Chrome.  But how to set the MIME type?  It doesn't seem\n",
       "             * to be part of the websocket stream */\n",
       "            evt.data.type = \"image/png\";\n",
       "\n",
       "            /* Free the memory for the previous frames */\n",
       "            if (fig.imageObj.src) {\n",
       "                (window.URL || window.webkitURL).revokeObjectURL(\n",
       "                    fig.imageObj.src);\n",
       "            }\n",
       "\n",
       "            fig.imageObj.src = (window.URL || window.webkitURL).createObjectURL(\n",
       "                evt.data);\n",
       "            fig.updated_canvas_event();\n",
       "            fig.waiting = false;\n",
       "            return;\n",
       "        }\n",
       "        else if (typeof evt.data === 'string' && evt.data.slice(0, 21) == \"data:image/png;base64\") {\n",
       "            fig.imageObj.src = evt.data;\n",
       "            fig.updated_canvas_event();\n",
       "            fig.waiting = false;\n",
       "            return;\n",
       "        }\n",
       "\n",
       "        var msg = JSON.parse(evt.data);\n",
       "        var msg_type = msg['type'];\n",
       "\n",
       "        // Call the  \"handle_{type}\" callback, which takes\n",
       "        // the figure and JSON message as its only arguments.\n",
       "        try {\n",
       "            var callback = fig[\"handle_\" + msg_type];\n",
       "        } catch (e) {\n",
       "            console.log(\"No handler for the '\" + msg_type + \"' message type: \", msg);\n",
       "            return;\n",
       "        }\n",
       "\n",
       "        if (callback) {\n",
       "            try {\n",
       "                // console.log(\"Handling '\" + msg_type + \"' message: \", msg);\n",
       "                callback(fig, msg);\n",
       "            } catch (e) {\n",
       "                console.log(\"Exception inside the 'handler_\" + msg_type + \"' callback:\", e, e.stack, msg);\n",
       "            }\n",
       "        }\n",
       "    };\n",
       "}\n",
       "\n",
       "// from http://stackoverflow.com/questions/1114465/getting-mouse-location-in-canvas\n",
       "mpl.findpos = function(e) {\n",
       "    //this section is from http://www.quirksmode.org/js/events_properties.html\n",
       "    var targ;\n",
       "    if (!e)\n",
       "        e = window.event;\n",
       "    if (e.target)\n",
       "        targ = e.target;\n",
       "    else if (e.srcElement)\n",
       "        targ = e.srcElement;\n",
       "    if (targ.nodeType == 3) // defeat Safari bug\n",
       "        targ = targ.parentNode;\n",
       "\n",
       "    // jQuery normalizes the pageX and pageY\n",
       "    // pageX,Y are the mouse positions relative to the document\n",
       "    // offset() returns the position of the element relative to the document\n",
       "    var x = e.pageX - $(targ).offset().left;\n",
       "    var y = e.pageY - $(targ).offset().top;\n",
       "\n",
       "    return {\"x\": x, \"y\": y};\n",
       "};\n",
       "\n",
       "/*\n",
       " * return a copy of an object with only non-object keys\n",
       " * we need this to avoid circular references\n",
       " * http://stackoverflow.com/a/24161582/3208463\n",
       " */\n",
       "function simpleKeys (original) {\n",
       "  return Object.keys(original).reduce(function (obj, key) {\n",
       "    if (typeof original[key] !== 'object')\n",
       "        obj[key] = original[key]\n",
       "    return obj;\n",
       "  }, {});\n",
       "}\n",
       "\n",
       "mpl.figure.prototype.mouse_event = function(event, name) {\n",
       "    var canvas_pos = mpl.findpos(event)\n",
       "\n",
       "    if (name === 'button_press')\n",
       "    {\n",
       "        this.canvas.focus();\n",
       "        this.canvas_div.focus();\n",
       "    }\n",
       "\n",
       "    var x = canvas_pos.x * mpl.ratio;\n",
       "    var y = canvas_pos.y * mpl.ratio;\n",
       "\n",
       "    this.send_message(name, {x: x, y: y, button: event.button,\n",
       "                             step: event.step,\n",
       "                             guiEvent: simpleKeys(event)});\n",
       "\n",
       "    /* This prevents the web browser from automatically changing to\n",
       "     * the text insertion cursor when the button is pressed.  We want\n",
       "     * to control all of the cursor setting manually through the\n",
       "     * 'cursor' event from matplotlib */\n",
       "    event.preventDefault();\n",
       "    return false;\n",
       "}\n",
       "\n",
       "mpl.figure.prototype._key_event_extra = function(event, name) {\n",
       "    // Handle any extra behaviour associated with a key event\n",
       "}\n",
       "\n",
       "mpl.figure.prototype.key_event = function(event, name) {\n",
       "\n",
       "    // Prevent repeat events\n",
       "    if (name == 'key_press')\n",
       "    {\n",
       "        if (event.which === this._key)\n",
       "            return;\n",
       "        else\n",
       "            this._key = event.which;\n",
       "    }\n",
       "    if (name == 'key_release')\n",
       "        this._key = null;\n",
       "\n",
       "    var value = '';\n",
       "    if (event.ctrlKey && event.which != 17)\n",
       "        value += \"ctrl+\";\n",
       "    if (event.altKey && event.which != 18)\n",
       "        value += \"alt+\";\n",
       "    if (event.shiftKey && event.which != 16)\n",
       "        value += \"shift+\";\n",
       "\n",
       "    value += 'k';\n",
       "    value += event.which.toString();\n",
       "\n",
       "    this._key_event_extra(event, name);\n",
       "\n",
       "    this.send_message(name, {key: value,\n",
       "                             guiEvent: simpleKeys(event)});\n",
       "    return false;\n",
       "}\n",
       "\n",
       "mpl.figure.prototype.toolbar_button_onclick = function(name) {\n",
       "    if (name == 'download') {\n",
       "        this.handle_save(this, null);\n",
       "    } else {\n",
       "        this.send_message(\"toolbar_button\", {name: name});\n",
       "    }\n",
       "};\n",
       "\n",
       "mpl.figure.prototype.toolbar_button_onmouseover = function(tooltip) {\n",
       "    this.message.textContent = tooltip;\n",
       "};\n",
       "mpl.toolbar_items = [[\"Home\", \"Reset original view\", \"fa fa-home icon-home\", \"home\"], [\"Back\", \"Back to  previous view\", \"fa fa-arrow-left icon-arrow-left\", \"back\"], [\"Forward\", \"Forward to next view\", \"fa fa-arrow-right icon-arrow-right\", \"forward\"], [\"\", \"\", \"\", \"\"], [\"Pan\", \"Pan axes with left mouse, zoom with right\", \"fa fa-arrows icon-move\", \"pan\"], [\"Zoom\", \"Zoom to rectangle\", \"fa fa-square-o icon-check-empty\", \"zoom\"], [\"\", \"\", \"\", \"\"], [\"Download\", \"Download plot\", \"fa fa-floppy-o icon-save\", \"download\"]];\n",
       "\n",
       "mpl.extensions = [\"eps\", \"jpeg\", \"pdf\", \"png\", \"ps\", \"raw\", \"svg\", \"tif\"];\n",
       "\n",
       "mpl.default_extension = \"png\";var comm_websocket_adapter = function(comm) {\n",
       "    // Create a \"websocket\"-like object which calls the given IPython comm\n",
       "    // object with the appropriate methods. Currently this is a non binary\n",
       "    // socket, so there is still some room for performance tuning.\n",
       "    var ws = {};\n",
       "\n",
       "    ws.close = function() {\n",
       "        comm.close()\n",
       "    };\n",
       "    ws.send = function(m) {\n",
       "        //console.log('sending', m);\n",
       "        comm.send(m);\n",
       "    };\n",
       "    // Register the callback with on_msg.\n",
       "    comm.on_msg(function(msg) {\n",
       "        //console.log('receiving', msg['content']['data'], msg);\n",
       "        // Pass the mpl event to the overridden (by mpl) onmessage function.\n",
       "        ws.onmessage(msg['content']['data'])\n",
       "    });\n",
       "    return ws;\n",
       "}\n",
       "\n",
       "mpl.mpl_figure_comm = function(comm, msg) {\n",
       "    // This is the function which gets called when the mpl process\n",
       "    // starts-up an IPython Comm through the \"matplotlib\" channel.\n",
       "\n",
       "    var id = msg.content.data.id;\n",
       "    // Get hold of the div created by the display call when the Comm\n",
       "    // socket was opened in Python.\n",
       "    var element = $(\"#\" + id);\n",
       "    var ws_proxy = comm_websocket_adapter(comm)\n",
       "\n",
       "    function ondownload(figure, format) {\n",
       "        window.open(figure.imageObj.src);\n",
       "    }\n",
       "\n",
       "    var fig = new mpl.figure(id, ws_proxy,\n",
       "                           ondownload,\n",
       "                           element.get(0));\n",
       "\n",
       "    // Call onopen now - mpl needs it, as it is assuming we've passed it a real\n",
       "    // web socket which is closed, not our websocket->open comm proxy.\n",
       "    ws_proxy.onopen();\n",
       "\n",
       "    fig.parent_element = element.get(0);\n",
       "    fig.cell_info = mpl.find_output_cell(\"<div id='\" + id + \"'></div>\");\n",
       "    if (!fig.cell_info) {\n",
       "        console.error(\"Failed to find cell for figure\", id, fig);\n",
       "        return;\n",
       "    }\n",
       "\n",
       "    var output_index = fig.cell_info[2]\n",
       "    var cell = fig.cell_info[0];\n",
       "\n",
       "};\n",
       "\n",
       "mpl.figure.prototype.handle_close = function(fig, msg) {\n",
       "    var width = fig.canvas.width/mpl.ratio\n",
       "    fig.root.unbind('remove')\n",
       "\n",
       "    // Update the output cell to use the data from the current canvas.\n",
       "    fig.push_to_output();\n",
       "    var dataURL = fig.canvas.toDataURL();\n",
       "    // Re-enable the keyboard manager in IPython - without this line, in FF,\n",
       "    // the notebook keyboard shortcuts fail.\n",
       "    IPython.keyboard_manager.enable()\n",
       "    $(fig.parent_element).html('<img src=\"' + dataURL + '\" width=\"' + width + '\">');\n",
       "    fig.close_ws(fig, msg);\n",
       "}\n",
       "\n",
       "mpl.figure.prototype.close_ws = function(fig, msg){\n",
       "    fig.send_message('closing', msg);\n",
       "    // fig.ws.close()\n",
       "}\n",
       "\n",
       "mpl.figure.prototype.push_to_output = function(remove_interactive) {\n",
       "    // Turn the data on the canvas into data in the output cell.\n",
       "    var width = this.canvas.width/mpl.ratio\n",
       "    var dataURL = this.canvas.toDataURL();\n",
       "    this.cell_info[1]['text/html'] = '<img src=\"' + dataURL + '\" width=\"' + width + '\">';\n",
       "}\n",
       "\n",
       "mpl.figure.prototype.updated_canvas_event = function() {\n",
       "    // Tell IPython that the notebook contents must change.\n",
       "    IPython.notebook.set_dirty(true);\n",
       "    this.send_message(\"ack\", {});\n",
       "    var fig = this;\n",
       "    // Wait a second, then push the new image to the DOM so\n",
       "    // that it is saved nicely (might be nice to debounce this).\n",
       "    setTimeout(function () { fig.push_to_output() }, 1000);\n",
       "}\n",
       "\n",
       "mpl.figure.prototype._init_toolbar = function() {\n",
       "    var fig = this;\n",
       "\n",
       "    var nav_element = $('<div/>')\n",
       "    nav_element.attr('style', 'width: 100%');\n",
       "    this.root.append(nav_element);\n",
       "\n",
       "    // Define a callback function for later on.\n",
       "    function toolbar_event(event) {\n",
       "        return fig.toolbar_button_onclick(event['data']);\n",
       "    }\n",
       "    function toolbar_mouse_event(event) {\n",
       "        return fig.toolbar_button_onmouseover(event['data']);\n",
       "    }\n",
       "\n",
       "    for(var toolbar_ind in mpl.toolbar_items){\n",
       "        var name = mpl.toolbar_items[toolbar_ind][0];\n",
       "        var tooltip = mpl.toolbar_items[toolbar_ind][1];\n",
       "        var image = mpl.toolbar_items[toolbar_ind][2];\n",
       "        var method_name = mpl.toolbar_items[toolbar_ind][3];\n",
       "\n",
       "        if (!name) { continue; };\n",
       "\n",
       "        var button = $('<button class=\"btn btn-default\" href=\"#\" title=\"' + name + '\"><i class=\"fa ' + image + ' fa-lg\"></i></button>');\n",
       "        button.click(method_name, toolbar_event);\n",
       "        button.mouseover(tooltip, toolbar_mouse_event);\n",
       "        nav_element.append(button);\n",
       "    }\n",
       "\n",
       "    // Add the status bar.\n",
       "    var status_bar = $('<span class=\"mpl-message\" style=\"text-align:right; float: right;\"/>');\n",
       "    nav_element.append(status_bar);\n",
       "    this.message = status_bar[0];\n",
       "\n",
       "    // Add the close button to the window.\n",
       "    var buttongrp = $('<div class=\"btn-group inline pull-right\"></div>');\n",
       "    var button = $('<button class=\"btn btn-mini btn-primary\" href=\"#\" title=\"Stop Interaction\"><i class=\"fa fa-power-off icon-remove icon-large\"></i></button>');\n",
       "    button.click(function (evt) { fig.handle_close(fig, {}); } );\n",
       "    button.mouseover('Stop Interaction', toolbar_mouse_event);\n",
       "    buttongrp.append(button);\n",
       "    var titlebar = this.root.find($('.ui-dialog-titlebar'));\n",
       "    titlebar.prepend(buttongrp);\n",
       "}\n",
       "\n",
       "mpl.figure.prototype._root_extra_style = function(el){\n",
       "    var fig = this\n",
       "    el.on(\"remove\", function(){\n",
       "\tfig.close_ws(fig, {});\n",
       "    });\n",
       "}\n",
       "\n",
       "mpl.figure.prototype._canvas_extra_style = function(el){\n",
       "    // this is important to make the div 'focusable\n",
       "    el.attr('tabindex', 0)\n",
       "    // reach out to IPython and tell the keyboard manager to turn it's self\n",
       "    // off when our div gets focus\n",
       "\n",
       "    // location in version 3\n",
       "    if (IPython.notebook.keyboard_manager) {\n",
       "        IPython.notebook.keyboard_manager.register_events(el);\n",
       "    }\n",
       "    else {\n",
       "        // location in version 2\n",
       "        IPython.keyboard_manager.register_events(el);\n",
       "    }\n",
       "\n",
       "}\n",
       "\n",
       "mpl.figure.prototype._key_event_extra = function(event, name) {\n",
       "    var manager = IPython.notebook.keyboard_manager;\n",
       "    if (!manager)\n",
       "        manager = IPython.keyboard_manager;\n",
       "\n",
       "    // Check for shift+enter\n",
       "    if (event.shiftKey && event.which == 13) {\n",
       "        this.canvas_div.blur();\n",
       "        event.shiftKey = false;\n",
       "        // Send a \"J\" for go to next cell\n",
       "        event.which = 74;\n",
       "        event.keyCode = 74;\n",
       "        manager.command_mode();\n",
       "        manager.handle_keydown(event);\n",
       "    }\n",
       "}\n",
       "\n",
       "mpl.figure.prototype.handle_save = function(fig, msg) {\n",
       "    fig.ondownload(fig, null);\n",
       "}\n",
       "\n",
       "\n",
       "mpl.find_output_cell = function(html_output) {\n",
       "    // Return the cell and output element which can be found *uniquely* in the notebook.\n",
       "    // Note - this is a bit hacky, but it is done because the \"notebook_saving.Notebook\"\n",
       "    // IPython event is triggered only after the cells have been serialised, which for\n",
       "    // our purposes (turning an active figure into a static one), is too late.\n",
       "    var cells = IPython.notebook.get_cells();\n",
       "    var ncells = cells.length;\n",
       "    for (var i=0; i<ncells; i++) {\n",
       "        var cell = cells[i];\n",
       "        if (cell.cell_type === 'code'){\n",
       "            for (var j=0; j<cell.output_area.outputs.length; j++) {\n",
       "                var data = cell.output_area.outputs[j];\n",
       "                if (data.data) {\n",
       "                    // IPython >= 3 moved mimebundle to data attribute of output\n",
       "                    data = data.data;\n",
       "                }\n",
       "                if (data['text/html'] == html_output) {\n",
       "                    return [cell, data, j];\n",
       "                }\n",
       "            }\n",
       "        }\n",
       "    }\n",
       "}\n",
       "\n",
       "// Register the function which deals with the matplotlib target/channel.\n",
       "// The kernel may be null if the page has been refreshed.\n",
       "if (IPython.notebook.kernel != null) {\n",
       "    IPython.notebook.kernel.comm_manager.register_target('matplotlib', mpl.mpl_figure_comm);\n",
       "}\n"
      ],
      "text/plain": [
       "<IPython.core.display.Javascript object>"
      ]
     },
     "metadata": {},
     "output_type": "display_data"
    },
    {
     "data": {
      "text/html": [
       "<img src=\"data:image/png;base64,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\" width=\"799.3333333333334\">"
      ],
      "text/plain": [
       "<IPython.core.display.HTML object>"
      ]
     },
     "metadata": {},
     "output_type": "display_data"
    },
    {
     "data": {
      "application/vnd.jupyter.widget-view+json": {
       "model_id": "64b32bd06eda4ea2a74036b4cb7b4309",
       "version_major": 2,
       "version_minor": 0
      },
      "text/plain": [
       "Button(button_style='info', description='Play Memory Game', layout=Layout(height='60px', width='30%'), style=B…"
      ]
     },
     "metadata": {},
     "output_type": "display_data"
    },
    {
     "data": {
      "text/latex": [
       "What is the change of state corresponding to box number..."
      ],
      "text/plain": [
       "<IPython.core.display.Latex object>"
      ]
     },
     "metadata": {},
     "output_type": "display_data"
    },
    {
     "data": {
      "application/vnd.jupyter.widget-view+json": {
       "model_id": "616c1c0ca1aa45dc842b3c655a31ea94",
       "version_major": 2,
       "version_minor": 0
      },
      "text/plain": [
       "HBox(children=(RadioButtons(description='1?', options=('Melting', 'Freezing', 'Condensation', 'Vaporization', …"
      ]
     },
     "metadata": {},
     "output_type": "display_data"
    },
    {
     "data": {
      "application/vnd.jupyter.widget-view+json": {
       "model_id": "7cc8421e040d44d7abee0ad5f8d1f753",
       "version_major": 2,
       "version_minor": 0
      },
      "text/plain": [
       "HBox(children=(RadioButtons(description='4?', options=('Melting', 'Freezing', 'Condensation', 'Vaporization', …"
      ]
     },
     "metadata": {},
     "output_type": "display_data"
    },
    {
     "data": {
      "application/vnd.jupyter.widget-view+json": {
       "model_id": "db47e19541f14f87b64b01f63fa5b8bb",
       "version_major": 2,
       "version_minor": 0
      },
      "text/plain": [
       "Button(button_style='info', description='Check your answers', layout=Layout(height='60px', width='30%'), style…"
      ]
     },
     "metadata": {},
     "output_type": "display_data"
    },
    {
     "data": {
      "application/vnd.jupyter.widget-view+json": {
       "model_id": "c46999d3fa6145be9c49381e07045ac9",
       "version_major": 2,
       "version_minor": 0
      },
      "text/plain": [
       "Output()"
      ]
     },
     "metadata": {},
     "output_type": "display_data"
    }
   ],
   "source": [
    "%matplotlib notebook\n",
    "\n",
    "#Memory game for state transitions\n",
    "import random\n",
    "\n",
    "x = [470,550,810,810,1100,1180]\n",
    "y = [550,550,835,905,550,550]\n",
    "\n",
    "img = plt.imread(\"images/changes_of_state.png\")\n",
    "fig, ax = plt.subplots(figsize = (8,8), num = 'Changes of State of Water')\n",
    "ax.imshow(img)\n",
    "\n",
    "\n",
    "annot = ax.annotate(\"\", xy=(0,0), xytext=(30,30),textcoords=\"offset points\",\n",
    "                    bbox=dict(boxstyle=\"round\", fc=\"w\"),\n",
    "                    arrowprops=dict(arrowstyle=\"->\"))\n",
    "annot.set_visible(False)\n",
    "\n",
    "\n",
    "names = ['Melting','Freezing','Condensation','Vaporization','Deposition','Sublimation']\n",
    "\n",
    "norm = plt.Normalize(1,4)\n",
    "cmap = plt.cm.RdYlGn\n",
    "sc = plt.scatter(x,y,c = 'k', marker = 's', alpha = 1, s = 250)\n",
    "\n",
    "annot = ax.annotate(\"\", xy=(0,0), xytext=(30,30),textcoords=\"offset points\",\n",
    "                    bbox=dict(boxstyle=\"round\", fc=\"w\"),\n",
    "                    arrowprops=dict(arrowstyle=\"->\"))\n",
    "annot.set_visible(False)\n",
    "\n",
    "def update_annot(ind):\n",
    "\n",
    "    pos = sc.get_offsets()[ind[\"ind\"][0]]\n",
    "    annot.xy = pos\n",
    "    text = \"{}\".format(\" \".join([names[n] for n in ind[\"ind\"]]))\n",
    "    annot.set_text(text)\n",
    "    annot.get_bbox_patch().set_alpha(1)\n",
    "\n",
    "\n",
    "def hover(event):\n",
    "    vis = annot.get_visible()\n",
    "    if event.inaxes == ax:\n",
    "        cont, ind = sc.contains(event)\n",
    "        if cont:\n",
    "            update_annot(ind)\n",
    "            annot.set_visible(True)\n",
    "            fig.canvas.draw_idle()\n",
    "        else:\n",
    "            if vis:\n",
    "                annot.set_visible(False)\n",
    "                fig.canvas.draw_idle()\n",
    "\n",
    "fig.canvas.mpl_connect(\"motion_notify_event\", hover)\n",
    "\n",
    "fig.patch.set_visible(False)\n",
    "ax.axis('off')\n",
    "plt.show()\n",
    "\n",
    "memgame = widgets.Button(description= \"Play Memory Game\", \n",
    "                         layout = Layout(width='30%', height='60px'),\n",
    "                         button_style = 'info'\n",
    "                        )\n",
    "reset = widgets.Button(description=\"Reset Game\", \n",
    "                       layout = Layout(width='30%', height='60px'),\n",
    "                       button_style = 'info'\n",
    "                      )\n",
    "\n",
    "display(memgame)\n",
    "\n",
    "a1 = widgets.RadioButtons(\n",
    "options=['Melting','Freezing','Condensation','Vaporization','Deposition','Sublimation'],\n",
    "description = '1?',\n",
    "value = None,\n",
    "disabled=False)\n",
    "a2 = widgets.RadioButtons(\n",
    "options=['Melting','Freezing','Condensation','Vaporization','Deposition','Sublimation'],\n",
    "description = '2?',\n",
    "value = None,\n",
    "disabled=False)\n",
    "a3 = widgets.RadioButtons(\n",
    "options=['Melting','Freezing','Condensation','Vaporization','Deposition','Sublimation'],\n",
    "description = '3?',\n",
    "value = None,\n",
    "disabled=False)\n",
    "a4 = widgets.RadioButtons(\n",
    "options=['Melting','Freezing','Condensation','Vaporization','Deposition','Sublimation'],\n",
    "description = '4?',\n",
    "value = None,\n",
    "disabled=False)\n",
    "a5 = widgets.RadioButtons(\n",
    "options=['Melting','Freezing','Condensation','Vaporization','Deposition','Sublimation'],\n",
    "description = '5?',\n",
    "value = None,\n",
    "disabled=False)\n",
    "a6 = widgets.RadioButtons(\n",
    "options=['Melting','Freezing','Condensation','Vaporization','Deposition','Sublimation'],\n",
    "description = '6?',\n",
    "value = None,\n",
    "disabled=False)\n",
    "\n",
    "Qs1to3 = widgets.HBox([a1,a2,a3])\n",
    "Qs4to6 = widgets.HBox([a4,a5,a6])\n",
    "button_check = widgets.Button(description=\"Check your answers\", \n",
    "                        layout = Layout(width='30%', height='60px'),\n",
    "                        button_style = 'info'\n",
    ")\n",
    "\n",
    "def button_onclick(b):\n",
    "    annot.remove()\n",
    "    x = [470,550,810,810,1100,1180]\n",
    "    y = [550,550,835,905,550,550]\n",
    "    ax.axis('off')\n",
    "    plt.scatter(x,y,c = 'k', marker = 's', alpha = 1, s = 250)\n",
    "    a = [1,2,3,4,5,6]\n",
    "    corr = 10  #small correction on number\n",
    "    random.shuffle(a)\n",
    "    for i,j,k in zip(x,y,a):\n",
    "        ax.annotate(str(k), xy = (i-corr,j+corr), color = 'w')\n",
    "        \n",
    "    display(Latex(\"What is the change of state corresponding to box number...\"))\n",
    "    display(Qs1to3)\n",
    "    display(Qs4to6)\n",
    "\n",
    "    display(button_check)\n",
    "    output0 = widgets.Output()\n",
    "    def check_button(x):\n",
    "        output0.clear_output()\n",
    "        if a1.value == names[a.index(1)] and a2.value == names[a.index(2)] and a3.value == names[a.index(3)] \\\n",
    "        and a4.value == names[a.index(4)] and a5.value == names[a.index(5)] and a6.value == names[a.index(6)]:\n",
    "            display(Markdown(\"Correct!\"))\n",
    "            display(play_again)\n",
    "        else:   \n",
    "            inc = []\n",
    "            answers = [a1.value,a2.value,a3.value,a4.value,a5.value,a6.value]\n",
    "            for i in range(len(answers)):\n",
    "                if answers[i] != names[a.index(i+1)]:\n",
    "                    inc.append(\"Incorrect\")\n",
    "                else:\n",
    "                    inc.append(\"Correct\")\n",
    "                \n",
    "            \n",
    "            output0.append_display_data(Latex(\"Those aren't quite correct, please try again.\"))\n",
    "            output0.append_display_data(Latex(\"1. %s, 2. %s, 3. %s, 4. %s, 5. %s, 6. %s\" %tuple(inc[:])))\n",
    "    display(output0)\n",
    "    button_check.on_click(check_button)\n",
    "                    \n",
    "        \n",
    "memgame.on_click(button_onclick)\n",
    "\n",
    "play_again = widgets.Button(description = \"Play Again\",\n",
    "                            layout = Layout(width='30%', height='60px'),\n",
    "                            button_style = 'info'\n",
    "                           )\n",
    "\n",
    "def joue_encore(x):\n",
    "    clear_output()\n",
    "    img = plt.imread(\"images/changes_of_state.png\")\n",
    "    fig, ax = plt.subplots(figsize = (8,8))\n",
    "    ax.imshow(img)\n",
    "    x = [470,550,810,810,1100,1180]\n",
    "    y = [550,550,835,905,550,550]\n",
    "    ax.axis('off')\n",
    "    plt.scatter(x,y,c = 'k', marker = 's', alpha = 0, s = 250 )\n",
    "    a = [1,2,3,4,5,6]\n",
    "    corr = 10  #small correction on number\n",
    "    random.shuffle(a)\n",
    "    for i,j,k in zip(x,y,a):\n",
    "        ax.annotate(str(k), xy = (i-corr,j+corr), color = 'w')\n",
    "    display(Latex(\"What is the change of state corresponding to box number:\"))\n",
    "    display(Qs1to3)\n",
    "    display(Qs4to6)\n",
    "    button_check = widgets.Button(description=\"Check your answers\", \n",
    "                            layout = Layout(width='30%', height='60px'),\n",
    "                            button_style = 'info'\n",
    "                           )\n",
    "    display(button_check)\n",
    "    output= widgets.Output()\n",
    "    def check_button(x):\n",
    "        output.clear_output()\n",
    "        if a1.value == names[a.index(1)] and a2.value == names[a.index(2)] and a3.value == names[a.index(3)] \\\n",
    "        and a4.value == names[a.index(4)] and a5.value == names[a.index(5)] and a6.value == names[a.index(6)]:\n",
    "            display(Markdown(\"Correct!\"))\n",
    "            display(play_again)\n",
    "        else:   \n",
    "            inc = []\n",
    "            answers = [a1.value,a2.value,a3.value,a4.value,a5.value,a6.value]\n",
    "            for i in range(len(answers)):\n",
    "                if answers[i] != names[a.index(i+1)]:\n",
    "                    inc.append(\"Incorrect\")\n",
    "                else:\n",
    "                    inc.append(\"Correct\")\n",
    "                \n",
    "            output.append_display_data(Latex(\"Those aren't quite correct, please try again.\"))\n",
    "            output.append_display_data(Latex(\"1. %s, 2. %s, 3. %s, 4. %s, 5. %s, 6. %s\" %tuple(inc[:])))\n",
    "    dipslay(output)\n",
    "    button_check.on_click(check_button)\n",
    "\n",
    "play_again.on_click(joue_encore) \n"
   ]
  },
  {
   "cell_type": "markdown",
   "metadata": {
    "hidden": false
   },
   "source": [
    "### <center>Visualizing the changes of state</center>\n",
    "\n",
    "Below is an interactive animation on the changes of state for *water*. Move the slider to change the temperature of the particles in the box below. Observe where the changes of state occur and how the particles gain more kinetic energy as the temperature increases."
   ]
  },
  {
   "cell_type": "code",
   "execution_count": 7,
   "metadata": {
    "hidden": false
   },
   "outputs": [
    {
     "data": {
      "text/html": [
       "\n",
       "<div style=\"text-align: center\">\n",
       "    <iframe width=\"500px\" height=\"420px\" src=\"animations/changes_of_state.html\" frameborder=\"0\"></iframe>\n",
       "</div>\n",
       "         \n"
      ],
      "text/plain": [
       "<IPython.core.display.HTML object>"
      ]
     },
     "metadata": {},
     "output_type": "display_data"
    }
   ],
   "source": [
    "%%html\n",
    "\n",
    "<div style=\"text-align: center\">\n",
    "    <iframe width=\"500px\" height=\"420px\" src=\"animations/changes_of_state.html\" frameborder=\"0\"></iframe>\n",
    "</div>\n",
    "         "
   ]
  },
  {
   "cell_type": "markdown",
   "metadata": {
    "hidden": false
   },
   "source": [
    "# <center> How is Heat Transmitted?</center>\n",
    "There are three main methods by which heat is transmitted: conduction, convection and radiation. Below we present the basic theory behind these methods of heat transfer and some applications of how we use them to improve our lives. Examples will be provided where we analyze how the three different methods of heat transmission occur in natural processes. "
   ]
  },
  {
   "cell_type": "markdown",
   "metadata": {
    "hidden": false
   },
   "source": [
    "## 1. Conduction\n",
    "Heat transfer via **conduction** occurs when two bodies, with different temperatures, are in physical contact with each other. Conduction is how a stove top heats a pan or why a hot cup feels warm on your hand. Different materials conduct heat faster or slower. The conductivity of material also depends on what state it is in. These differences are expressed by a material property known as the ***thermal conductivity***. \n",
    "\n",
    "<img src = \"images/thermal_conductivity.jpg\" width =\"480\" height=\"480\" style = \"border-radius: 8px;\">\n",
    "\n",
    "\n",
    "\n",
    "\n",
    "This graphic provides an visual interpretion of the heat flow, denoted as $\\rm Q$ between two bodies in contact at surface $\\rm A$ with temperatures $\\rm T_1$ and $\\rm T_2$. Let's explore how thermal conductivity changes in different materials.\n",
    "\n",
    "### Thermal Conductivity\n",
    "\n",
    "Materials with low thermal conductivity transfer heat slowly and materials with high conductivity transfer heat quickly. Can you think of some benefits of using materials with different a thermal conductivity for commercial use? \n",
    "\n",
    "For example, consider a to-go mug. The whole purpose of this product is to keep the contained drink warm or cold. If the drink is warm, the contents will be warmer than the mug itself. They will then exchange heat to the body of the mug via conduction. If the drink is cold then the mug will transfer heat to the contents. In each case the mug is in contact with the external environment; the air outside or your hand. The environment itself, depending on its temperature, will either transfer heat to or gain heat from the mug. Since this additional heat transfer is on going, eventually the mug and the drink inside will reach the same temperature as the outside environment.\n",
    "\n",
    "In either case, one would want the mug to have a low *thermal conductivity* so that it does not easily exchange heat with its environment. This will preserve the temperature of its contents. Below is an interesting video from Veritasium illustrating how conduction occurs differently in different materials. \n",
    "\n",
    "If you haven't heard of Veritasium before, I strongly encourage you to check the YouTube channel out. He explains a lot of topics in science and there's always something new to learn from each video."
   ]
  },
  {
   "cell_type": "code",
   "execution_count": 8,
   "metadata": {
    "hidden": false,
    "scrolled": true,
    "slideshow": {
     "slide_type": "fragment"
    }
   },
   "outputs": [
    {
     "data": {
      "text/html": [
       "<div style=\"text-align: center\">\n",
       "<iframe width=\"560\" height=\"315\" src=\"https://www.youtube.com/embed/vqDbMEdLiCs\" frameborder=\"0\" allow=\"autoplay; encrypted-media\" allowfullscreen></iframe>\n",
       "</div>\n"
      ],
      "text/plain": [
       "<IPython.core.display.HTML object>"
      ]
     },
     "metadata": {},
     "output_type": "display_data"
    }
   ],
   "source": [
    "%%html\n",
    "<div style=\"text-align: center\">\n",
    "<iframe width=\"560\" height=\"315\" src=\"https://www.youtube.com/embed/vqDbMEdLiCs\" frameborder=\"0\" allow=\"autoplay; encrypted-media\" allowfullscreen></iframe>\n",
    "</div>"
   ]
  },
  {
   "cell_type": "markdown",
   "metadata": {
    "hidden": false
   },
   "source": [
    "## 2. Convection\n",
    "\n",
    "Heat transfer via **convection** occurs due to the movement of molecules in a fluid (gas or liquid). Convection is perhaps the most intuitive method of heat transfer. Since it involves the flow of a gas or liquid from a warmer to a colder temperature within the fluid, it is easy to visualize. Convection does not occur in solid materials because the molecules that make up a solid do not have the ability to flow; this is what makes a solid a solid. Not unlike conduction, convection occurs from the flow of heat energy due a temperature difference within a fluid. The hotter fluid flows to regions where the fluid is cooler. It is the process which governs the currents in our oceans and the movement of air in our atmosphere. Our understanding of convection has helped us forecast the weather and even explain how energy is transported within the sun!\n",
    "\n",
    "---\n",
    "**Why does the movement occur?**\n",
    "\n",
    "If we consider the particle model of matter, the fluid moves due to changes in **kinetic energy** of the particles in the fluid. The hotter regions in the fluid, the ones with more heat energy, have more \"excited\" particles that are colliding into one another more frequently. These regions are less **dense** than the colder regions. In the colder regions, the particles are colliding into one another less frequently therefore they do not spread out as much. Since there are less collisions, the particles are more concentrated in the colder region. These more dense and concentrated regions in the fluid are heavier since they have more particles in them. The cold, heavier regions will sink; allowing for the hotter regions to rise. Convection is the reason why \"heat rises\" in a room. \n",
    "\n",
    "---\n",
    "**Examples of convective processes**\n",
    "\n",
    "\n",
    "- In a pot filled with water on the stove, we observe convective heat transfer in the bubbles rising to the top of the pot. These are hotter, *lense dense* regions rising to the surface of the liquid. When these regions reach the point the that they are lense dense than the surrounding air, they will evaporate and undergo a transition of state from liquid to gas. \n",
    "\n",
    "<img src=\"images/pot_boiling.png\" width = \"400\" height = \"400\" style = \"border-radius: 8px;\">\n",
    "\n",
    "\n",
    "- In stars, there is a zone in which energy is transported from the core of the star, where energy is produced by nuclear fusion, to the surface. This is known as the *convective zone*. Due to the complicated nature of energy transportation within stars, this proces is difficult to model and the subject of ongoing research within the field of stellar astrophysics. Understanding convection has helped astrophysicists know more about our sun and other stars like it!\n",
    "\n",
    "<img src = \"images/convectioninstarsdata.jpg\" width=\"400\" height=\"400\" style = \"border-radius: 8px;\">\n",
    "\n",
    "\n",
    "- In the atmosphere, convection plays a major role in the creation of a thunderstorm. Clouds form as hotter air rises, carrying moisture with them. The air cools on its ascent, causing the moisture to condense. If the air is unstable enough, this process can occur for a longer time. This results in the formation of \"cumulonimbus clouds\", which are those very tall pillowy clouds that often produce thunder and lightning. Given enough moisture, instability in the air and convection (heat transfer), a thuderstorm is likely to occur. \n",
    "\n",
    "<img src = \"images/convectioninthunderstorms.jpg\" width = \"500\" height = \"500\" style = \"border-radius: 8px;\">\n",
    "\n",
    "---"
   ]
  },
  {
   "cell_type": "markdown",
   "metadata": {
    "hidden": false
   },
   "source": [
    "## 3. Radiation\n",
    "\n",
    "Radiation is our third and final form of heat transfer to discuss. Heat transfer via radiation occurs in all matter that has a temperature above absolute 0 (0 Kelvin). It occurs from a conversion of thermal energy into *electromagnetic energy*. Energy is \"radiated\" away from a body in the form of \"light\". This light varies in wavelength and is dependent on the temperature of the body; hotter objects emit radiation at shorter wavelengths that carry higher energy. For example, in a fire, you may have heard how the blue part of a fire is hotter than the red part. This is true and is due to the fact that blue light has a shorter wavelength than red light, and since the wavelength is dependent on the temperature of the material emmitting it, the blue portion of a fire is hotter. \n",
    "\n",
    "An interesting consequence of this fact comes from the analysis of the wavelengths of light radiated from the sun. Below is graphic showing the types of radiation emitted from the sun.\n",
    "\n",
    "\n",
    "<img src = \"images/earth_sun_plank.jpg\" width = \"400\" height =\"400\" style = \"border-radius: 8px;\">\n",
    "\n",
    "\n",
    "The most intensely radiated wavelength from the sun comes from the green part of visible light. Plants, trees, and even our eyes have become fine tuned to absorbing and perceiving more variations of the colour green because this is the most prominent radiation from the sun. Understanding thermal radiation has offered a scientific explanation for why our planet is so green. \n",
    "\n",
    "---\n",
    "Exercises \n",
    "---\n",
    "Below a list of processes in which heat transfer occurs in different forms. You will be asked to check the box for which type of heat transfer you think is correct to match the description. Press \"Check Answer\" to see if you were correct!\n",
    "\n",
    "## <center>Boiling Water </center>\n",
    "\n",
    "<img src=\"images/Boiling_Water_pic.jpg\" height = \"400\" width = \"400\" style = \"border-radius: 8px;\"/> \n",
    "\n",
    "\n",
    "---"
   ]
  },
  {
   "cell_type": "code",
   "execution_count": 9,
   "metadata": {
    "hidden": false
   },
   "outputs": [
    {
     "data": {
      "text/markdown": [
       "1) After you turn on the stove, you hold your hand above the stove and it feels hot."
      ],
      "text/plain": [
       "<IPython.core.display.Markdown object>"
      ]
     },
     "metadata": {},
     "output_type": "display_data"
    },
    {
     "data": {
      "application/vnd.jupyter.widget-view+json": {
       "model_id": "e55eea206a80483c81e96ccdb9563bfa",
       "version_major": 2,
       "version_minor": 0
      },
      "text/plain": [
       "RadioButtons(options=('Conduction', 'Convection', 'Radiation'), value=None)"
      ]
     },
     "metadata": {},
     "output_type": "display_data"
    },
    {
     "data": {
      "text/markdown": [
       "2) The pot starts to heat up when placed on the stove."
      ],
      "text/plain": [
       "<IPython.core.display.Markdown object>"
      ]
     },
     "metadata": {},
     "output_type": "display_data"
    },
    {
     "data": {
      "application/vnd.jupyter.widget-view+json": {
       "model_id": "401f74c3e0ae4c328f41cc63cf0a1168",
       "version_major": 2,
       "version_minor": 0
      },
      "text/plain": [
       "RadioButtons(options=('Conduction', 'Convection', 'Radiation'), value=None)"
      ]
     },
     "metadata": {},
     "output_type": "display_data"
    },
    {
     "data": {
      "text/markdown": [
       "3) Hot water rises to the surface of the pot."
      ],
      "text/plain": [
       "<IPython.core.display.Markdown object>"
      ]
     },
     "metadata": {},
     "output_type": "display_data"
    },
    {
     "data": {
      "application/vnd.jupyter.widget-view+json": {
       "model_id": "4cd08c04ea4743748221a76487fabcc4",
       "version_major": 2,
       "version_minor": 0
      },
      "text/plain": [
       "RadioButtons(options=('Conduction', 'Convection', 'Radiation'), value=None)"
      ]
     },
     "metadata": {},
     "output_type": "display_data"
    },
    {
     "data": {
      "text/markdown": [
       "4) Steam from the pot feels hot on your hand. (Somewhat tricky)"
      ],
      "text/plain": [
       "<IPython.core.display.Markdown object>"
      ]
     },
     "metadata": {},
     "output_type": "display_data"
    },
    {
     "data": {
      "application/vnd.jupyter.widget-view+json": {
       "model_id": "481adb9e68084794b6e4d3188de08448",
       "version_major": 2,
       "version_minor": 0
      },
      "text/plain": [
       "RadioButtons(options=('Conduction', 'Convection', 'Radiation'), value=None)"
      ]
     },
     "metadata": {},
     "output_type": "display_data"
    },
    {
     "data": {
      "application/vnd.jupyter.widget-view+json": {
       "model_id": "97b12c14c8cd442ca54378012ecb77fd",
       "version_major": 2,
       "version_minor": 0
      },
      "text/plain": [
       "Button(button_style='info', description='Check your answers', layout=Layout(height='60px', width='30%'), style…"
      ]
     },
     "metadata": {},
     "output_type": "display_data"
    },
    {
     "data": {
      "application/vnd.jupyter.widget-view+json": {
       "model_id": "712ec0263892448481e1ba480b766920",
       "version_major": 2,
       "version_minor": 0
      },
      "text/plain": [
       "Output()"
      ]
     },
     "metadata": {},
     "output_type": "display_data"
    }
   ],
   "source": [
    "a1 = widgets.RadioButtons(\n",
    "    options=['Conduction', 'Convection', 'Radiation'],\n",
    "    disabled=False,\n",
    "    value = None,\n",
    "    continuous_update=True\n",
    ")\n",
    "a2 = widgets.RadioButtons(\n",
    "    options=['Conduction', 'Convection', 'Radiation'],\n",
    "    disabled=False,\n",
    "    value = None,\n",
    "    continuous_update=True\n",
    ")\n",
    "a3 = widgets.RadioButtons(\n",
    "    options=['Conduction', 'Convection', 'Radiation'],\n",
    "    disabled=False,\n",
    "    value = None,\n",
    "    continuous_update=True\n",
    ")\n",
    "a4 = widgets.RadioButtons(\n",
    "    options=['Conduction', 'Convection', 'Radiation'],\n",
    "    disabled=False,\n",
    "    value = None,\n",
    "    continuous_update=True\n",
    ")\n",
    "\n",
    "#create a button widget to check answers, again calling the button to display\n",
    "button_check = widgets.Button(description=\"Check your answers\",\n",
    "                              layout = Layout(width='30%', height='60px'),\n",
    "                              button_style = 'info'\n",
    "                             )\n",
    "\n",
    "\n",
    "#compare answers to responses\n",
    "def compare(l1,l2):\n",
    "    a = []\n",
    "    for i in range(0,min(len(l1),len(l2))):\n",
    "        if l1[i] == l2[i]:\n",
    "            a.append(1)\n",
    "        else:\n",
    "            a.append(0)\n",
    "    return a\n",
    "\n",
    "ans1 = ['Radiation', 'Conduction', 'Convection', 'Conduction']\n",
    "\n",
    "out = widgets.Output()\n",
    "\n",
    "def check_button(event):\n",
    "\n",
    "    out.clear_output()\n",
    "    rs1 = [a1.value, a2.value, a3.value, a4.value]\n",
    "\n",
    "    if  rs1 == ans1:\n",
    "        out.append_display_data(Markdown(\"Correct! Here's why : </br></br> \\\n",
    "                          1. The stove top heats up and radiates energy away from it. This is what you feels in your hand as heat. </br> \\\n",
    "                          2. The stove top conducts heat to the pot since they are in physical contact with one another. </br> \\\n",
    "                          3. Heat is transferred by fluid motion within the water via convection. </br> \\\n",
    "                          4. The gas particles carry heat energy, in the form of kinetic energy, which gets transferred via physical contact with your hand and the steam. </br> \\\n",
    "                             Since the heat transfer occurs via physical contact, the process responsible for the heat transfer is conduction. \"))\n",
    "    else:  \n",
    "        bien = compare(rs1,ans1)\n",
    "        h = []\n",
    "        for i in bien:\n",
    "            if i == 0:\n",
    "                h.append('Incorrect')\n",
    "            if i == 1:\n",
    "                h.append('Correct')\n",
    "\n",
    "        s = \"Those aren't quite correct, please try again.\"\n",
    "        corrections = \"1. %s, 2. %s, 3. %s, 4. %s\" %(h[0],h[1],h[2],h[3])\n",
    "        out.append_display_data(Latex(s))\n",
    "        out.append_display_data(Latex(corrections))\n",
    "        \n",
    "button_check.on_click(check_button)\n",
    "\n",
    "display(Markdown('1) After you turn on the stove, you hold your hand above the stove and it feels hot.'))\n",
    "display(a1)\n",
    "display(Markdown('2) The pot starts to heat up when placed on the stove.'))\n",
    "display(a2)\n",
    "display(Markdown('3) Hot water rises to the surface of the pot.'))\n",
    "display(a3)\n",
    "display(Markdown('4) Steam from the pot feels hot on your hand. (Somewhat tricky)'))\n",
    "display(a4)\n",
    "\n",
    "display(button_check) \n",
    "display(out)\n"
   ]
  },
  {
   "cell_type": "markdown",
   "metadata": {
    "hidden": false
   },
   "source": [
    "## <center>Refrigerator</center>\n",
    "\n",
    "<img src=\"images/fridge.jpg\" height = \"300\" width=\"300\">\n",
    "\n"
   ]
  },
  {
   "cell_type": "code",
   "execution_count": 10,
   "metadata": {
    "hidden": false,
    "scrolled": false
   },
   "outputs": [
    {
     "data": {
      "text/markdown": [
       "1) Hot air is pumped out of the food compartment"
      ],
      "text/plain": [
       "<IPython.core.display.Markdown object>"
      ]
     },
     "metadata": {},
     "output_type": "display_data"
    },
    {
     "data": {
      "application/vnd.jupyter.widget-view+json": {
       "model_id": "354dfea9fe8844db9caa3e429e608f8a",
       "version_major": 2,
       "version_minor": 0
      },
      "text/plain": [
       "RadioButtons(options=('Conduction', 'Convection', 'Radiation'), value=None)"
      ]
     },
     "metadata": {},
     "output_type": "display_data"
    },
    {
     "data": {
      "text/markdown": [
       "2)  You grab a cold popsicle out of the refrigerator. It feels cold on your hand."
      ],
      "text/plain": [
       "<IPython.core.display.Markdown object>"
      ]
     },
     "metadata": {},
     "output_type": "display_data"
    },
    {
     "data": {
      "application/vnd.jupyter.widget-view+json": {
       "model_id": "fe8714d5ea3f454b88c440aa0b16502f",
       "version_major": 2,
       "version_minor": 0
      },
      "text/plain": [
       "RadioButtons(options=('Conduction', 'Convection', 'Radiation'), value=None)"
      ]
     },
     "metadata": {},
     "output_type": "display_data"
    },
    {
     "data": {
      "text/markdown": [
       "3) How did the popsicle get cold? How did it transfer heat energy while sitting in the refrigerator?"
      ],
      "text/plain": [
       "<IPython.core.display.Markdown object>"
      ]
     },
     "metadata": {},
     "output_type": "display_data"
    },
    {
     "data": {
      "application/vnd.jupyter.widget-view+json": {
       "model_id": "18270c01d91f400aa62ba9edff996ec6",
       "version_major": 2,
       "version_minor": 0
      },
      "text/plain": [
       "RadioButtons(options=('Conduction', 'Convection', 'Radiation'), value=None)"
      ]
     },
     "metadata": {},
     "output_type": "display_data"
    },
    {
     "data": {
      "text/markdown": [
       "4) You open the refrigerator door and it feels cold inside."
      ],
      "text/plain": [
       "<IPython.core.display.Markdown object>"
      ]
     },
     "metadata": {},
     "output_type": "display_data"
    },
    {
     "data": {
      "application/vnd.jupyter.widget-view+json": {
       "model_id": "17dfc507da6346bd8d55fab6c691a2c0",
       "version_major": 2,
       "version_minor": 0
      },
      "text/plain": [
       "RadioButtons(options=('Conduction', 'Convection', 'Radiation'), value=None)"
      ]
     },
     "metadata": {},
     "output_type": "display_data"
    },
    {
     "data": {
      "application/vnd.jupyter.widget-view+json": {
       "model_id": "b95342f3c47e4a4fba6c2ec5c7f8e4ef",
       "version_major": 2,
       "version_minor": 0
      },
      "text/plain": [
       "Button(button_style='info', description='Check your answers', layout=Layout(height='60px', width='30%'), style…"
      ]
     },
     "metadata": {},
     "output_type": "display_data"
    },
    {
     "data": {
      "application/vnd.jupyter.widget-view+json": {
       "model_id": "54afdf7f931046e09af27ae4218dfeca",
       "version_major": 2,
       "version_minor": 0
      },
      "text/plain": [
       "Output()"
      ]
     },
     "metadata": {},
     "output_type": "display_data"
    }
   ],
   "source": [
    "display(Markdown('1) Hot air is pumped out of the food compartment'))\n",
    "\n",
    "a1 = widgets.RadioButtons(\n",
    "    options=['Conduction', 'Convection', 'Radiation'],\n",
    "    value = None,\n",
    "    disabled=False\n",
    ")\n",
    "\n",
    "display(a1)\n",
    "\n",
    "display(Markdown('2)  You grab a cold popsicle out of the refrigerator. It feels cold on your hand.'))\n",
    "\n",
    "a2 = widgets.RadioButtons(\n",
    "    options=['Conduction', 'Convection', 'Radiation'],\n",
    "    value = None,\n",
    "    disabled=False\n",
    ")\n",
    "\n",
    "display(a2)\n",
    "\n",
    "display(Markdown('3) How did the popsicle get cold? How did it transfer heat energy while sitting in the refrigerator?'))\n",
    "\n",
    "a3 = widgets.RadioButtons(\n",
    "    options=['Conduction', 'Convection', 'Radiation'],\n",
    "    value = None,\n",
    "    disabled=False\n",
    ")\n",
    "display(a3)\n",
    "\n",
    "display(Markdown('4) You open the refrigerator door and it feels cold inside.'))\n",
    "\n",
    "a4 = widgets.RadioButtons(\n",
    "    options=['Conduction', 'Convection', 'Radiation'],\n",
    "    value = None,\n",
    "    disabled=False\n",
    ")\n",
    "\n",
    "display(a4)\n",
    "\n",
    "#create a button widget to check answers, again calling the button to display\n",
    "button_check = widgets.Button(description=\"Check your answers\",\n",
    "                              layout = Layout(width='30%', height='60px'),\n",
    "                              button_style = 'info'\n",
    "                             )\n",
    "display(button_check)\n",
    "\n",
    "#Answers to be checked against, third entry should be != Conduction, fourth is != 'Radiation'\n",
    "ans = ['Convection','Conduction', 'Conduction','Radiation']\n",
    "\n",
    "\n",
    "#compare answers to responses\n",
    "def compare(l1,l2):\n",
    "    a = []\n",
    "    for i in range(0,min(len(l1),len(l2))):\n",
    "        if l1[i] == l2[i]:\n",
    "            a.append(1)\n",
    "        else:\n",
    "            a.append(0)\n",
    "    return a\n",
    "\n",
    "outtie = widgets.Output()\n",
    "def check_button(x):\n",
    "    outtie.clear_output()\n",
    "    rs = [a1.value, a2.value, a3.value, a4.value]  #responses\n",
    "    if rs[0] == ans[0]  and rs[1] == ans[1] and rs[2] != ans[2] and rs[3] != ans[3]:\n",
    "        outtie.append_display_data(Markdown(\"Correct! Here's why : </br></br> \\\n",
    "                          1. Hot air flows out of the fridge via convection. </br> \\\n",
    "                          2. Heat is transferred via convection since your hand it hotter than the popsicle. </br> \\\n",
    "                          3. Heat is transferred by radiation or conduction. The food sitting in the refrigerator radiates heat energy and also conducts heat to the colder air within the fridge. </br> \\\n",
    "                          4. Heat is transferred via conduction from your warmer self to the cold air within the refrigerator.\"))\n",
    "    else: \n",
    "        a = compare(rs,ans)\n",
    "        bien = [1,1,0,0] #This is what \"a\" should be\n",
    "        xx = compare(a,bien)\n",
    "        h = []\n",
    "        for i in xx:\n",
    "            if i == 0:\n",
    "                h.append('Incorrect')\n",
    "            if i == 1:\n",
    "                h.append('Correct')\n",
    "                \n",
    "        outtie.append_display_data(Latex(\"Those aren't quite correct, please try again.\"))\n",
    "        outtie.append_display_data(Latex(\"1. %s, 2. %s, 3. %s, 4. %s\" %(h[0],h[1],h[2],h[3])))\n",
    "        \n",
    "button_check.on_click(check_button)\n",
    "display(outtie)\n",
    "\n"
   ]
  },
  {
   "cell_type": "markdown",
   "metadata": {
    "hidden": false
   },
   "source": [
    "# Conclusion\n",
    "---\n",
    "In this Jupyter Notebook you learned about some aspects of the nature of thermal energy. We differentiated between heat and temperature. The particle model was used to describe the effect of heat on matter. You learned about the various modes of heat transfer:\n",
    "- **Conduction**\n",
    "- **Convection**\n",
    "- **Radiation**\n",
    "\n",
    "You also some examples of how these processes are studied in everyday life.\n",
    "You also learned the different changes of state of matter. If you don't feel like you have these memorized, I encourage you to play the memory game a few more times. \n",
    "\n",
    "We exploit thermal energy to improve our daily lives. It is through our understanding of the processes that govern heat that we have been able to do so."
   ]
  },
  {
   "cell_type": "markdown",
   "metadata": {
    "hidden": false
   },
   "source": [
    "**Image References**\n",
    "\n",
    "- conduction :<font size = \"0.5\"> https://www.khanacademy.org/science/physics/thermodynamics/specific-heat-and-heat-transfer/a/what-is-thermal-conductivity </font>\n",
    "- sun: <font size=\"0.5\"> https://phys.org/news/2016-07-astronomers-gain-insight-magnetic-field.html</font>\n",
    "- thunderstorm: <font size = \"0.5\">https://www.britannica.com/science/thunderstorm </font>\n",
    "- boiling pot:  <font size = \"0.5\">https://dr282zn36sxxg.cloudfront.net/datastreams/f-d%3A5f69d56e0b81661f4564d03405f4cd0be18c94afbe66c30f9eb9a17b%2BIMAGE_THUMB_POSTCARD_TINY%2BIMAGE_THUMB_POSTCARD_TINY.</font>\n",
    "- radiation diagram: <font size = \"0.5\"> http://apollo.lsc.vsc.edu/classes/met130/notes/chapter2/plank_e_sun.html </font> "
   ]
  },
  {
   "cell_type": "markdown",
   "metadata": {
    "hidden": false
   },
   "source": [
    "<img src = 'images/Callysto_Notebook-Banners_Bottom.jpg'>"
   ]
  }
 ],
 "metadata": {
  "kernelspec": {
   "display_name": "Python 3",
   "language": "python",
   "name": "python3"
  },
  "language_info": {
   "codemirror_mode": {
    "name": "ipython",
    "version": 3
   },
   "file_extension": ".py",
   "mimetype": "text/x-python",
   "name": "python",
   "nbconvert_exporter": "python",
   "pygments_lexer": "ipython3",
   "version": "3.6.8"
  },
  "nbTranslate": {
   "displayLangs": [
    "*"
   ],
   "hotkey": "alt-t",
   "langInMainMenu": true,
   "sourceLang": "en",
   "targetLang": "fr",
   "useGoogleTranslate": true
  }
 },
 "nbformat": 4,
 "nbformat_minor": 2
}

{
 "cells": [
  {
   "cell_type": "markdown",
   "metadata": {},
   "source": [
    "![Callysto.ca Banner](https://github.com/callysto/curriculum-notebooks/blob/master/callysto-notebook-banner-top.jpg?raw=true)\n",
    "\n",
    "<a href=\"https://hub.callysto.ca/jupyter/hub/user-redirect/git-pull?repo=https%3A%2F%2Fgithub.com%2Fcallysto%2Fcurriculum-notebooks&branch=master&subPath=Science/BioinformaticsBLAST/scaredy-squirrel-learns-bioinformatics.ipynb&depth=1\" target=\"_parent\"><img src=\"https://raw.githubusercontent.com/callysto/curriculum-notebooks/master/open-in-callysto-button.svg?sanitize=true\" width=\"123\" height=\"24\" alt=\"Open in Callysto\"/></a>"
   ]
  },
  {
   "cell_type": "code",
   "execution_count": null,
   "metadata": {},
   "outputs": [],
   "source": [
    "# ❗️ Run this cell!\n",
    "!pip install biopython"
   ]
  },
  {
   "cell_type": "markdown",
   "metadata": {},
   "source": [
    "## Scaredy Squirrel learns to BLAST"
   ]
  },
  {
   "cell_type": "markdown",
   "metadata": {},
   "source": [
    "### 📌 What is this notebook about?\n",
    "We are going to learn one of the most fundamental tools used in bioinformatics that is called 'BLAST'. \n",
    "\n",
    "We are going to dive into how BLAST works by helping Scaredy Squirrel identify potential biters!\n",
    "\n",
    "We will later touch upon how BLAST is used in real-world examples. "
   ]
  },
  {
   "cell_type": "markdown",
   "metadata": {},
   "source": [
    "### What is bioinformatics?\n",
    "The word seems to be made up of two parts which are related to two different fields, biology and computer science.\n",
    "> bio + informatics = bioinformatics"
   ]
  },
  {
   "cell_type": "markdown",
   "metadata": {},
   "source": [
    "Because DNA is a complex beast. Understanding how all 3.2 billion letters interact is still a large topic of research. And it’s been known for a while there’s no way a single person could interpret such a language.\n",
    "This is where the power of computers comes in. It’s when the language of life meets the language of nature. And it’s where bioinformatics emerges.\n",
    "Bioinformatics combines the principles of biology, computer science, mathematics, statistics to understand biology data.\n",
    "DNA is the language of life. It’s the code which sets the foundations for all living organisms.\n",
    "Much like a book is comprised of some combination of the letters of the alphabet, yourself, myself and all living organisms are comprised of some combination of around 3.2 billion nucleobases — adenine (A), thymine (T), cytosine (C) and guanine (G). The collective sequence is called a genome. If we lined up our 3.2 billion or so A’s, C’s, G’s and T’s, 3 billion or so would match but 20–30 million would be different. Within those differences could explain why we are different!"
   ]
  },
  {
   "cell_type": "markdown",
   "metadata": {},
   "source": [
    "<img src=\"https://misciwriters.files.wordpress.com/2016/10/fig1_halley.png\" width =\"600\">"
   ]
  },
  {
   "cell_type": "markdown",
   "metadata": {},
   "source": [
    "The field of bioinformatics is considered as in silico (meaning in silicon in Latin), where we conduct biological experiments in a silicon chip, or more accurately in a microprocessor. One major advantage of in silico methods is that you can run simulations and carry out experiments without using any animals or reagents."
   ]
  },
  {
   "cell_type": "markdown",
   "metadata": {},
   "source": [
    "<img src=\"https://firststepsnursery.co.uk/wp-content/uploads/2018/01/download201.png\" width=\"500\">"
   ]
  },
  {
   "cell_type": "markdown",
   "metadata": {},
   "source": [
    "Granny 👵 and scaredy squirrel read the news paper, One piece of news stops them: \n",
    "https://globalnews.ca/news/3702399/dna-confirms-grizzly-attacked-man-near-sundre-alta-area-closed/\n",
    "the kind of bear that attacked the man was confirmed to be a 'grizzly' using DNA samples collected from the man's clothes where he was bitten. "
   ]
  },
  {
   "cell_type": "markdown",
   "metadata": {},
   "source": [
    "<img src=\"https://tce-live2.s3.amazonaws.com/media/media/897b2e5d-6d4c-40fa-bbe8-6829455747e2.jpg\" width=\"500\">"
   ]
  },
  {
   "cell_type": "markdown",
   "metadata": {},
   "source": [
    "Now let's try to understand how this is possible! How does Bioinformatics help police officers identify which kind of bears attacked the man? Lucky for us, Scaredy squirrel just recevied a gift from his bioinformatician Grandma who will explain to him how this is possible and how bioinformatics and BLAST work. "
   ]
  },
  {
   "cell_type": "markdown",
   "metadata": {},
   "source": [
    "Scaredy Squirrel grandma's gave him a BLAST machine for his birthday and he has absolutely no idea what does this machine do"
   ]
  },
  {
   "cell_type": "markdown",
   "metadata": {},
   "source": [
    "Scaredy Squirrel: Thanks Granny for remembering my birthday and for the precious gift. But I do not understand what does this machine do? what can I use it for? "
   ]
  },
  {
   "cell_type": "markdown",
   "metadata": {},
   "source": [
    "Granny: Oh Scaredy, I would never forget your birthday! let me explain to you what BLAST does. I hope when you understand what it is used for and how it works you will like it!"
   ]
  },
  {
   "cell_type": "markdown",
   "metadata": {},
   "source": [
    "Granny: Let me tell you a bit of background first, you know I am a bioinformatician, right? Do you know what does this mean?"
   ]
  },
  {
   "cell_type": "markdown",
   "metadata": {},
   "source": [
    "Scaredy squirrel: I think you are a kind of scientist that performs expriments on computers instead of working in a laboratory. "
   ]
  },
  {
   "cell_type": "markdown",
   "metadata": {},
   "source": [
    "Granny: EXCELLENT! yes, that's actually how I do my work. I use computers to solve biological problems like the one we just read in the news."
   ]
  },
  {
   "cell_type": "markdown",
   "metadata": {},
   "source": [
    "<span style='color:blue'> A few individuals Scaredy Squirrel is afraid to be bitten by: \\\n",
    "beavers, bunnies, piranhas, walruses, green martians, polka dot monsters, vampire bats, grizzly bears, poison ivy, mosquitoes, dragons, killing bees, sharks, ants, porcupines, sharks, ponies </span>"
   ]
  },
  {
   "cell_type": "markdown",
   "metadata": {},
   "source": [
    "<span style='color:blue'> Scaredy squirrel had a plan on how to avoid a potential biter: </span>"
   ]
  },
  {
   "cell_type": "markdown",
   "metadata": {},
   "source": [
    "<span style='color:blue'> He unwrapped the gift 🎁 and found a weird machine! </span>"
   ]
  },
  {
   "cell_type": "markdown",
   "metadata": {},
   "source": [
    "<span style='color:blue'> The box where the machine was kept has 'BLAST' marked on it!</span>"
   ]
  },
  {
   "cell_type": "markdown",
   "metadata": {},
   "source": [
    "<img src=\"https://logodix.com/logo/2167120.png?raw=true\" width=\"500\">"
   ]
  },
  {
   "cell_type": "markdown",
   "metadata": {},
   "source": [
    "<span style='color:blue'> But what does a 'BLAST' machine do?</span>"
   ]
  },
  {
   "cell_type": "markdown",
   "metadata": {},
   "source": [
    "<span style='color:blue'> Scaredy squirrel grabbed the catalogue that comes along the 'BLAST' machine and started reading. </span>\n",
    "> This is <span style='color:blue'>'BLAST'</span>. **BLAST** is a machine for detecting potential biters. \n",
    "Follow the steps below to use'BLAST' and detect possible biters. \n",
    "   - turn BLAST on\n",
    "   - connect your mobile 📱to BLAST\n",
    "   - set up BLAST where a possibel biter might be present (e.g. camping site)\n",
    "   - BLAST is now ready to detect possible biters\n",
    "    \n",
    "> When a possible biter comes in contact with BLAST\n",
    "   - BLAST will beep and a message will be sent to your mobile device 📱explaining whether the creature is a possible biter or not. "
   ]
  },
  {
   "cell_type": "markdown",
   "metadata": {},
   "source": [
    "*Example messages*: \n",
    "><span style='color:red'>**RUN**, this is a possible biter</span> \\\n",
    "        <span style='color:green'>**MAKE FRIENDS**, this is not a possible biter</span> \\\n",
    "        <span style='color:blue'>**PLAY DEAD**, this is an unknown creature</span>\n"
   ]
  },
  {
   "cell_type": "markdown",
   "metadata": {},
   "source": [
    "<span style='color:blue'> Scaredy Squirrel decided to make the best use of his grandma's gift and go camping 🏕️ on his birthday. </span> Now that he understands a little more of what BLAST does, it's time to try it out!\n",
    "\n",
    "<span style='color:blue'> He needs to prepare.</span>\n",
    "\n",
    "<span style='color:blue'> So he put together a **camping kit**</span>. \n",
    "    \n",
    "<span style='color:blue'> His camping kit includes: \n",
    "cookies, carrots, popsicles, sardines (to distract sharks), saftey googles, band aid, marshmellows, tent ⛺, flashlight 🔦 and his grandma's wonderful gift **'BLAST'**</span>. "
   ]
  },
  {
   "cell_type": "markdown",
   "metadata": {},
   "source": [
    "<img src=\"https://www.seekpng.com/png/detail/60-607376_scaredy-squirrel-emergency-kit.png\" width=\"500\">"
   ]
  },
  {
   "cell_type": "markdown",
   "metadata": {},
   "source": [
    "<span style='color:blue'> Scaredy Squirrel is now prepared so he got off the nut tree 🌴 and off to the camping site 🏕️. When he reached the camping spot, he setup BLAST as the catalgoue explained. He then waited inside his tent. </span>\n",
    "\n",
    "<span style='color:blue'> After 1 hour ⏳, </span>\n",
    "\n",
    "<span style='color:blue'> 2 hours ⏳... nothing. </span>\n",
    "\n",
    "<span style='color:blue'> He grilled some marshmellows 🍡 and went back to his tent ⛺ to get some rest.</span>"
   ]
  },
  {
   "cell_type": "markdown",
   "metadata": {},
   "source": [
    "<span style='color:blue'> Just while he was about to lay his head down on his comfy pillow, he heard BLAST beeping 📟! </span>\n",
    "\n",
    "He grabbed his mobile and read the message that just came in:\n",
    "> <span style='color:green'>**MAKE FRIENDS**, this is not a possible biter </span> \\\n",
    "    this is probably (95%) a dog that might just want to make friends."
   ]
  },
  {
   "cell_type": "markdown",
   "metadata": {},
   "source": [
    "<span style='color:blue'>Scaredy squirrel carefully stepped out of his tent, trying to check the spot where he left BLAST and woooof, a xxx dog 🐶 just licked him. It was indeed someone who just wanted to make friends. </span>"
   ]
  },
  {
   "cell_type": "markdown",
   "metadata": {},
   "source": [
    "<img src=\"https://i.ytimg.com/vi/KJlVQst_kr4/hqdefault.jpg?raw=true\" width=\"500\">"
   ]
  },
  {
   "cell_type": "markdown",
   "metadata": {},
   "source": [
    "#### How did BLAST know that this is not a potential biter and it is just a dog, who wants to make friends?"
   ]
  },
  {
   "cell_type": "markdown",
   "metadata": {},
   "source": [
    "I'm just a squirrel I can't execute the code! I'll need your help to do that. The easiest way to do this is by clicking cell -> Run All. If you don't see anything or think something's broken, you can click Run in the toolbar above while you have the code cell selected."
   ]
  },
  {
   "cell_type": "markdown",
   "metadata": {},
   "source": [
    "Let's have a look at the inner workings of BLAST and how it works. \n",
    "add sth like this is where we are going to put out bioinformatics detective hat on or sth\n",
    "grizzly bears, unique sequences from biters, traps, get an idea of the total population of grizzly bears\n",
    "emphasize why this stuff is important\n",
    "water quality, what contaminates my water"
   ]
  },
  {
   "cell_type": "markdown",
   "metadata": {},
   "source": [
    "🕵️‍♂️<span style='color:blue'>**this is where we are putting on our bioinformatics detective hat**</span> 🤖 "
   ]
  },
  {
   "cell_type": "markdown",
   "metadata": {},
   "source": [
    "Biologists still cannot read the nucleotides of an entire genome as you would read a book from beginning to end. However, they can read short pieces of DNA, the genetic material that make up humans, squirrels, dogs and all living organisms on earth 🌎. "
   ]
  },
  {
   "cell_type": "markdown",
   "metadata": {},
   "source": [
    "biological sequences are for example, sequences found in DNA, RNA and proteins. "
   ]
  },
  {
   "cell_type": "markdown",
   "metadata": {},
   "source": [
    "When dealing with biological data, strings are very frequent. Much of the data that we can\n",
    "obtain about an organism or about a biological system, can be thought as a sequence of\n",
    "characters or &#39;words&#39;: DNA, RNA and protein sequences, etc."
   ]
  },
  {
   "cell_type": "markdown",
   "metadata": {},
   "source": [
    "Sequencing machines can read short pieces of DNA 🧬  xxx intro about sequencers, pattern matching xxx"
   ]
  },
  {
   "cell_type": "markdown",
   "metadata": {},
   "source": [
    "<span style='color:blue'>**BLAST**</span>, the machine which Scaredy Squirrel got for his birthday, is a sequencing machine that can extract the DNA 🧬 from a creature when it comes in contact with BLAST, e.g. salive through licking or a hair dropped from an animal. \n",
    "\n",
    "BLAST then outputs the DNA 🧬sequences of the creature that came in contact with it and scans this sequences against a database, where DNA 🧬sequences of all other creatures are stored. "
   ]
  },
  {
   "cell_type": "markdown",
   "metadata": {},
   "source": [
    "Let's have a look at the details of the steps that BLAST does to check what creature is there. The following steps are done after BLAST has already extracted and sequenced the DNA of the unknown creature. "
   ]
  },
  {
   "cell_type": "markdown",
   "metadata": {},
   "source": [
    "<span style='color:blue'>**BLAST**</span> uses biopython, and for the record, <span style='color:blue'>BLAST</span> stands for Basic Local Alignment Search Tool. It finds regions of similarity between biological sequences. \n",
    "\n",
    "So it can tell scaredy squirrel whether the the creature that came near his BLAST gift is more similar to a bee, tarantula, posion ivy, germ, shark or a green martian!"
   ]
  },
  {
   "cell_type": "markdown",
   "metadata": {},
   "source": [
    "Let's look at one of the short sequences which BLAST got from the DNA of the dog that wanted to make friends with Scaredy Squirrel.  "
   ]
  },
  {
   "cell_type": "markdown",
   "metadata": {},
   "source": [
    "First BLAST will read the sequence into a variable called my_seq. "
   ]
  },
  {
   "cell_type": "code",
   "execution_count": 1,
   "metadata": {},
   "outputs": [],
   "source": [
    "# ❗️Run this cell!\n",
    "# import libraries\n",
    "import os\n",
    "import Bio\n",
    "from Bio import SeqIO\n",
    "from Bio.Blast import NCBIXML\n",
    "import ipywidgets as widgets"
   ]
  },
  {
   "cell_type": "markdown",
   "metadata": {},
   "source": [
    "Next, BAST looks up matching sequences that are most similar to the sequence from the unknown creature.  \n",
    "This may take up to a few minutes"
   ]
  },
  {
   "cell_type": "markdown",
   "metadata": {},
   "source": [
    "this will take a while ⏳"
   ]
  },
  {
   "cell_type": "markdown",
   "metadata": {},
   "source": [
    "result_handle object will have the entire result and can be saved into a file for later usage."
   ]
  },
  {
   "cell_type": "markdown",
   "metadata": {},
   "source": [
    "Parsing BLAST Result\n",
    "Generally, BLAST output is parsed as XML format using the NCBIXML module. To do this, we need to import the following module −"
   ]
  },
  {
   "cell_type": "markdown",
   "metadata": {},
   "source": [
    "Now, open the file directly using python open method and use NCBIXML parse method as given below −"
   ]
  },
  {
   "cell_type": "markdown",
   "metadata": {},
   "source": [
    "explain the output in detail. \n",
    "the first line that BLAST reads is the 'query' which holds the sequence of the unknown creature, the following two lines are the best matched sequence from the database which BLAST checked. In this case, creature 1 turns out to be a 'dog' 🐶"
   ]
  },
  {
   "cell_type": "markdown",
   "metadata": {},
   "source": [
    "cds stands for the coding sequences, that is the sequences that can be translated to a protein. If you are interested in learning more about the central dogma of biology please visit xxx. "
   ]
  },
  {
   "cell_type": "markdown",
   "metadata": {},
   "source": [
    "chromosome explains the location of the gene on which chromosome and where it starts and ends. In this example, creature 1 is a dog and the specific gene that is sequences is on chromosome 8. "
   ]
  },
  {
   "cell_type": "markdown",
   "metadata": {},
   "source": [
    "step 1: run the next cell then select an unknown creature (1 or 2 or 3). "
   ]
  },
  {
   "cell_type": "code",
   "execution_count": 2,
   "metadata": {},
   "outputs": [
    {
     "data": {
      "application/vnd.jupyter.widget-view+json": {
       "model_id": "04ff0590ebb4409e9d055518c4aa91e4",
       "version_major": 2,
       "version_minor": 0
      },
      "text/plain": [
       "ToggleButtons(description='Pick one', options=('creature_1', 'creature_2', 'creature_3'), tooltips=('Unknown C…"
      ]
     },
     "metadata": {},
     "output_type": "display_data"
    }
   ],
   "source": [
    "# ❗️ Run this cell, then pick an unknown creature.\n",
    "unknown_creature = widgets.ToggleButtons(\n",
    "    options=['creature_1', 'creature_2', 'creature_3'],\n",
    "    description='Pick one',\n",
    "    disabled=False,\n",
    "    button_style='', # 'success', 'info', 'warning', 'danger' or ''\n",
    "    tooltips=['Unknown Creature 1', 'Unknown Creature 2', 'Unknown Creature 3'],\n",
    ")\n",
    "display (unknown_creature)"
   ]
  },
  {
   "cell_type": "markdown",
   "metadata": {},
   "source": [
    "run the next cell to see gene information about the unknown creature's sample."
   ]
  },
  {
   "cell_type": "code",
   "execution_count": 3,
   "metadata": {},
   "outputs": [
    {
     "data": {
      "text/plain": [
       "'creature_2 cds chromosome:ASM334442v1:LZNR01037000.1:6399:7812:1 gene:ENSUAMG00000002883.1 gene_biotype:TR_V_gene transcript_biotype:TR_V_gene'"
      ]
     },
     "execution_count": 3,
     "metadata": {},
     "output_type": "execute_result"
    }
   ],
   "source": [
    "# ❗️ Run this cell!\n",
    "genes_dict = SeqIO.to_dict(SeqIO.parse(\"data/unknown-creatures-sequences.fasta\", \"fasta\"))\n",
    "genes_dict[unknown_creature.value].description #gene information about the unknown creature's sample"
   ]
  },
  {
   "cell_type": "markdown",
   "metadata": {},
   "source": [
    "the name of the unknown creature you have selected appears right after the '>' sign. you can also read the gene ID. Its the combination of symbols and numbers that follow 'gene:'."
   ]
  },
  {
   "cell_type": "markdown",
   "metadata": {},
   "source": [
    "### 📚 Write down the gene symbol in the cell below. This will be different for each creature you select in step 1.\n",
    "Fill in the boxes marked with ✏️ by double clicking on it and filling in your answer. Remember to save your answers by clicking `File > Save and Checkpoint`!"
   ]
  },
  {
   "cell_type": "markdown",
   "metadata": {},
   "source": [
    "✏️"
   ]
  },
  {
   "cell_type": "markdown",
   "metadata": {},
   "source": [
    "run the next cell to see the DNA sequence of from the unknown creature's sample. this is the sequence that BLAST will use to find out who this is?"
   ]
  },
  {
   "cell_type": "code",
   "execution_count": 4,
   "metadata": {},
   "outputs": [
    {
     "name": "stdout",
     "output_type": "stream",
     "text": [
      "AAGGACCAAGTGTTTCAGCCATCGGCTGTGGCTGCTTCAGGGGACTCTGTGGTGGAAATCTGCAATCACTCTATATCCCAAGCTTACGGCTTCTTCTGGTACCTTCACATCCCAGGAAGGGCTCCAAGACTCCTGATTAAGGGCTCAGGGCCTTCTCAGCAGGGACGCTACAACATGACGTATGAGCGATTCTCGTCCTCGCTGCTCGTCCTCCAAGTGCAGGTGGCGGGTGCTGCCATTTATTACTGTGCTCTGAGGGCTTGGATCTGA\n"
     ]
    }
   ],
   "source": [
    "# ❗️ Run this cell!\n",
    "print(genes_dict[unknown_creature.value].seq) #the DNA sequence from the unknown creature's sample"
   ]
  },
  {
   "cell_type": "markdown",
   "metadata": {},
   "source": [
    "step 2: select blast results that match the creature you have selected in step 1. this step is usally done through a remote server and takes a lot of time, so we have run it for you and saved the results locally to save time. "
   ]
  },
  {
   "cell_type": "code",
   "execution_count": 5,
   "metadata": {},
   "outputs": [
    {
     "name": "stdout",
     "output_type": "stream",
     "text": [
      "\n",
      "\n",
      "query: NSUAMT00000003587.1 cds grizzly_bear:ASM3\n",
      "🔬creature matches:  grizzly_bear:ASM334442v1 \n"
     ]
    }
   ],
   "source": [
    "# ❗️ Run this cell!\n",
    "E_VALUE_THRESH = 1e-20 #only matches with E-values below this threshold will show \n",
    "os.chdir('data/')\n",
    "for record in NCBIXML.parse(open(unknown_creature.value+'.xml')): \n",
    "    if record.alignments: \n",
    "        print(\"\\n\") \n",
    "        print(\"query: %s\" % record.query[1:42]) \n",
    "        for align in record.alignments: \n",
    "            for hsp in align.hsps: \n",
    "                if hsp.expect < E_VALUE_THRESH: \n",
    "                    print(\"🔬creature matches: %s \" % align.title[24:49])"
   ]
  },
  {
   "cell_type": "markdown",
   "metadata": {},
   "source": [
    "the first line is the 'query' which refers to the sequence you have fed the BLAST machine from your selected unknown creature. the second line is the identity of your selected unknown creature. "
   ]
  },
  {
   "cell_type": "markdown",
   "metadata": {},
   "source": [
    "scaredy has received three different messages from BLAST. fill in the log below to help him keep track of the potential biters among creatures that pass by his tent. "
   ]
  },
  {
   "cell_type": "markdown",
   "metadata": {},
   "source": [
    "### 📚 Run steps 1 and 2 for the different unknown creatures and fill in the cell below. \n",
    "Fill in the boxes marked with ✏️ by double clicking on it and filling in your answer. Remember to save your answers by clicking `File > Save and Checkpoint`!"
   ]
  },
  {
   "cell_type": "markdown",
   "metadata": {},
   "source": [
    "✏️ creature 1 was a 'dog' 🐶\n",
    "\n",
    "✏️ creature 2 was a: \n",
    "\n",
    "✏️ creature 3 was a:  "
   ]
  },
  {
   "cell_type": "markdown",
   "metadata": {},
   "source": [
    "#### References\n",
    "Melanie Watt - Scaredy squirrel book series \\\n",
    "https://towardsdatascience.com/a-dummies-intro-to-bioinformatics-e8212ed7c09b"
   ]
  }
 ],
 "metadata": {
  "kernelspec": {
   "display_name": "Python 3",
   "language": "python",
   "name": "python3"
  },
  "language_info": {
   "codemirror_mode": {
    "name": "ipython",
    "version": 3
   },
   "file_extension": ".py",
   "mimetype": "text/x-python",
   "name": "python",
   "nbconvert_exporter": "python",
   "pygments_lexer": "ipython3",
   "version": "3.8.1"
  }
 },
 "nbformat": 4,
 "nbformat_minor": 4
}

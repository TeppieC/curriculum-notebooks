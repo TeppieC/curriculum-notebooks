{
 "cells": [
  {
   "cell_type": "markdown",
   "metadata": {},
   "source": [
    "![Callysto.ca Banner](https://github.com/callysto/curriculum-notebooks/blob/master/callysto-notebook-banner-top.jpg?raw=true)\n",
    "\n",
    "<a href=\"https://hub.callysto.ca/jupyter/hub/user-redirect/git-pull?repo=https%3A%2F%2Fgithub.com%2Fcallysto%2Fhackathon&branch=master&subPath=ColonizingMars/ChallengeTemplates/challenge-option-2-how-could-we-colonize-mars.ipynb&depth=1\" target=\"_parent\"><img src=\"https://raw.githubusercontent.com/callysto/curriculum-notebooks/master/open-in-callysto-button.svg?sanitize=true\" width=\"123\" height=\"24\" alt=\"Open in Callysto\"/></a>"
   ]
  },
  {
   "cell_type": "code",
   "execution_count": null,
   "metadata": {},
   "outputs": [],
   "source": [
    "# ❗️ Run this cell!\n",
    "!pip install biopython\n",
    "!pip install ipywidgets\n",
    "!jupyter nbextension enable --py widgetsnbextension"
   ]
  },
  {
   "cell_type": "markdown",
   "metadata": {},
   "source": [
    "## Scaredy Squirrel learns to BLAST"
   ]
  },
  {
   "cell_type": "markdown",
   "metadata": {},
   "source": [
    "### 📌 What is this notebook about?\n",
    "We are going to learn one of the most fundamental tools used in bioinformatics that is called 'BLAST'. Bioinformatics is xxx and BLAST is xxx. \n",
    "\n",
    "We are going to dive into how BLAST works by helping Scaredy Squirrel identify potential biters!\n",
    "\n",
    "We will later touch upon how BLAST is used in real-world examples. "
   ]
  },
  {
   "attachments": {},
   "cell_type": "markdown",
   "metadata": {},
   "source": [
    "Granny 👵 and scaredy squirrel reads the news paper, One piece of news stops them: \n",
    "https://globalnews.ca/news/3702399/dna-confirms-grizzly-attacked-man-near-sundre-alta-area-closed/\n",
    "the kind of bear that attacked the man was confirmed to be a 'grizzly' using DNA samples collected from the man's clothes where he was bitten. "
   ]
  },
  {
   "cell_type": "markdown",
   "metadata": {},
   "source": [
    "<img src=\"https://tce-live2.s3.amazonaws.com/media/media/897b2e5d-6d4c-40fa-bbe8-6829455747e2.jpg\" width=\"500\">"
   ]
  },
  {
   "cell_type": "markdown",
   "metadata": {},
   "source": [
    "Now let's try to understand how this is possible! How does Bioinformatics help police officers identify which kind of bears attacked the man? Lucky for us, Scaredy squirrel jus recevied a gift from his bioinformatician Gradnma who will explain to him how this is possible and how bioinformatics and BLAST work. "
   ]
  },
  {
   "cell_type": "markdown",
   "metadata": {},
   "source": [
    "Scaredy Squirrel grandma's gave him a BLAST machine for his birthday and he has absolutely no idea what does this machine does"
   ]
  },
  {
   "cell_type": "markdown",
   "metadata": {},
   "source": [
    "Scaredy Squirrel: Thanks Granny for remembering my birthday and for the precious gift. But I do not understand what does this machine do? what can I use it for? "
   ]
  },
  {
   "cell_type": "markdown",
   "metadata": {},
   "source": [
    "Granny: Oh Scaredy, I would never forget your birthday! let me explain to you what BLAST does. I hope when you understand what it is used for and how it works you will like it!"
   ]
  },
  {
   "cell_type": "markdown",
   "metadata": {},
   "source": [
    "Granny: Let me tell you a bit of background first, you know I am a bioinformatician, right? Do you know what does this mean?"
   ]
  },
  {
   "cell_type": "markdown",
   "metadata": {},
   "source": [
    "Granny: Let me tell you a bit of background first, you know I am a bioinformatician, right? Do you know what does this mean"
   ]
  },
  {
   "cell_type": "markdown",
   "metadata": {},
   "source": [
    "Scaredy squirrel: I think you are a kind of scientist that performs expriments on computers instead of working in a laborator. "
   ]
  },
  {
   "cell_type": "markdown",
   "metadata": {},
   "source": [
    "Granny: EXCELLENT! yes, that;s actually how I do my work. I use computers to solve biological problems like the one we just read in the news."
   ]
  },
  {
   "cell_type": "markdown",
   "metadata": {},
   "source": [
    "![music image](https://cdn.playbackonline.ca/wp/wp-content/uploads/2010/10/Scaredy-Squirrel.jpg?raw=true)"
   ]
  },
  {
   "cell_type": "markdown",
   "metadata": {},
   "source": [
    "<span style='color:blue'> A few individuals Scaredy Squirrel is afraid to be bitten by: \\\n",
    "beavers, bunnies, piranhas, walruses, green martians, polka dot monsters, vampire bats, grizzly bears, poison ivy, mosquitoes, dragons, killing bees, sharks, ants, porcupines, sharks, ponies </span>"
   ]
  },
  {
   "cell_type": "markdown",
   "metadata": {},
   "source": [
    "<span style='color:blue'> Scaredy squirrel had a plan on how to avoid a potential biter: </span>"
   ]
  },
  {
   "cell_type": "markdown",
   "metadata": {},
   "source": [
    "<img src=\"https://1.bp.blogspot.com/-2enwRaO2Uo8/UdbX1DQh9vI/AAAAAAAACV4/6ouXY1zrG64/s1600/Slide1.PNG\" width=\"500\">"
   ]
  },
  {
   "cell_type": "markdown",
   "metadata": {},
   "source": [
    "<span style='color:blue'> He unwrapped the gift 🎁 and found a weird machine! </span>"
   ]
  },
  {
   "cell_type": "markdown",
   "metadata": {},
   "source": [
    "<span style='color:blue'> The box where the machine was kept has 'BLAST' marked on it!</span>"
   ]
  },
  {
   "cell_type": "markdown",
   "metadata": {},
   "source": [
    "![music image](https://logodix.com/logo/2167120.png?raw=true)"
   ]
  },
  {
   "cell_type": "markdown",
   "metadata": {},
   "source": [
    "<span style='color:blue'> But what does a 'BLAST' machine does?</span>"
   ]
  },
  {
   "cell_type": "markdown",
   "metadata": {},
   "source": [
    "<span style='color:blue'> Scaredy squirrel grabbed the catalogue that comes along the 'BLAST' machine and started reading. </span>\n",
    "> This is <span style='color:blue'>'BLAST'</span>. **BLAST** is a machine for detecting potential biters. \n",
    "Follow the steps below to use'BLAST' and detect potential biters. \n",
    "   - turn BLAST on\n",
    "   - connect your mobile 📱to BLAST\n",
    "   - set up BLAST where a potential biter might be present (e.g. camping site)\n",
    "   - BLAST is now ready to detect potential biters\n",
    "    \n",
    "> When a potential biter comes in contact with BLAST\n",
    "   - BLAST will beep and a message will be sent to your mobile device 📱explaining whether the creature is a potential biter or not. "
   ]
  },
  {
   "cell_type": "markdown",
   "metadata": {},
   "source": [
    "*Example messages*: \n",
    "><span style='color:red'>**RUN**, this is a potential biter</span> \\\n",
    "        <span style='color:green'>**MAKE FRIENDS**, this is not a potential biter</span> \\\n",
    "        <span style='color:blue'>**PLAY DEAD**, this is an unknown creature</span>\n"
   ]
  },
  {
   "cell_type": "markdown",
   "metadata": {},
   "source": [
    "<span style='color:blue'> Scaredy Squirrel decided to make the best use of his grandma's gift and go camping 🏕️ on his birthday. </span> Now that he understands a little more of what BLAST does, it's time to try it out!\n",
    "\n",
    "<span style='color:blue'> He needs to prepare.</span>\n",
    "\n",
    "<span style='color:blue'> So he put together a **camping kit**</span>. \n",
    "    \n",
    "<span style='color:blue'> His camping kit includes: \n",
    "cookies, carrots, popsicles, sardines (to distract sharks), saftey googles, band aid, and his grandma's wonderful gift, marshmellows, tent ⛺, flashlight 🔦 and **'BLAST'**</span>. "
   ]
  },
  {
   "cell_type": "markdown",
   "metadata": {},
   "source": [
    "<img src=\"https://www.seekpng.com/png/detail/60-607376_scaredy-squirrel-emergency-kit.png\" width=\"500\">"
   ]
  },
  {
   "cell_type": "markdown",
   "metadata": {},
   "source": [
    "<span style='color:blue'> Scaredy Squirrel is now prepared so he got off the nut tree 🌴 and off to the camping site 🏕️. When he reached the camping spot, he setup BLAST as the catalgoue explained. He then waited inside his tent. </span>\n",
    "\n",
    "<span style='color:blue'> After 1 hour ⏳, </span>\n",
    "\n",
    "<span style='color:blue'> 2 hours ⏳... nothing. </span>\n",
    "\n",
    "<span style='color:blue'> He grilled some marshmellows 🍡 and went back to his tent ⛺ to get some rest.</span>"
   ]
  },
  {
   "cell_type": "markdown",
   "metadata": {},
   "source": [
    "<span style='color:blue'> Just while he was about to lay his head down on his comfy pillow, he heard BLAST beeping 📟! </span>\n",
    "\n",
    "He grabbed his mobile and read the message that just came in:\n",
    "> <span style='color:green'>**MAKE FRIENDS**, this is not a potential biter </span> \\\n",
    "    this is probably (95%) a dog that might just want to make friends."
   ]
  },
  {
   "cell_type": "markdown",
   "metadata": {},
   "source": [
    "<span style='color:blue'>Scaredy squirrel carefully stepped out of his tent, trying to check the spot where he left BLAST and woooof, a xxx dog 🐶 just licked him. It was indeed someone who just wanted to make friends. </span>"
   ]
  },
  {
   "cell_type": "markdown",
   "metadata": {},
   "source": [
    "![music image](https://i.ytimg.com/vi/KJlVQst_kr4/hqdefault.jpg?raw=true)"
   ]
  },
  {
   "cell_type": "markdown",
   "metadata": {},
   "source": [
    "#### How did BLAST know that this is not a potential biter and it is just a dog, who wants to make friends?"
   ]
  },
  {
   "cell_type": "markdown",
   "metadata": {},
   "source": [
    "I'm just a squirrel I can't execute the code! I'll need your help to do that. The easiest way to do this is by clicking cell -> Run All. If you don't see anything or think something's broken, you can click Runin the toolbar above while you have the code cell selected."
   ]
  },
  {
   "cell_type": "markdown",
   "metadata": {},
   "source": [
    "Let's have a look at the inner workings of BLAST and how it works. \n",
    "add sth like this is where we are going to put out bioinformatics detective hat on or sth\n",
    "grizzly bears, unique sequences from biters, traps, get an idea of the total population of grizzly bears\n",
    "emphasize why this stuff is important\n",
    "water quality, what contaminates my water"
   ]
  },
  {
   "cell_type": "markdown",
   "metadata": {},
   "source": [
    "🕵️‍♂️<span style='color:blue'>**this is where we are putting on our bioinformatics detective hat**</span> 🤖 "
   ]
  },
  {
   "cell_type": "markdown",
   "metadata": {},
   "source": [
    "Biologists still cannot read the nucleotides of an entire genome as you would read a book from beginning to end. However, they can read short pieces of DNA, the genetic material that make up humans, squirrels, dogs and all living organisms on earth 🌎. "
   ]
  },
  {
   "cell_type": "markdown",
   "metadata": {},
   "source": [
    "When dealing with biological data, strings are very frequent. Much of the data that we can\n",
    "obtain about an organism or about a biological system, can be thought as a sequence of\n",
    "characters or &#39;words&#39;: DNA, RNA and protein sequences, etc."
   ]
  },
  {
   "cell_type": "markdown",
   "metadata": {},
   "source": [
    "Sequencing machines can read short pieces of DNA 🧬  xxx intro about sequencers, pattern matching xxx"
   ]
  },
  {
   "cell_type": "markdown",
   "metadata": {},
   "source": [
    "<span style='color:blue'>**BLAST**</span>, the machine which Scaredy Squirrel got for his birthday, is a sequencing machine that can extract the DNA 🧬 from a creature when it comes in contact with BLAST, e.g. salive through licking or a hair dropped from an animal. \n",
    "\n",
    "BLAST then outputs the DNA 🧬sequences of the creature that came in contact with it and scans this sequences against a database, where DNA 🧬sequences of all other creatures are stored. "
   ]
  },
  {
   "cell_type": "markdown",
   "metadata": {},
   "source": [
    "Let's have a look at the details of the steps that BLAST does to check what creature is there. The following steps are done after BLAST has already extracted and sequenced the DNA of the unknown creature. "
   ]
  },
  {
   "cell_type": "markdown",
   "metadata": {},
   "source": [
    "<span style='color:blue'>**BLAST**</span> uses biopython, and for the record, <span style='color:blue'>BLAST</span> stands for Basic Local Alignment Search Tool. It finds regions of similarity between biological sequences. \n",
    "\n",
    "So it can tell scaredy squirrel whether the the creature that came near his BLAST gift is more similar to a bee, tarantula, posion ivy, germ, shark or a green martian!"
   ]
  },
  {
   "cell_type": "markdown",
   "metadata": {},
   "source": [
    "Let's look at one of the short sequences which BLAST got from the DNA of the dog that wanted to make friends with Scaredy Squirrel.  "
   ]
  },
  {
   "cell_type": "markdown",
   "metadata": {},
   "source": [
    "First BLAST will read the sequence into a variable called my_seq. "
   ]
  },
  {
   "cell_type": "code",
   "execution_count": null,
   "metadata": {},
   "outputs": [],
   "source": [
    "# ❗️Run this cell!\n",
    "# import libraries\n",
    "import Bio\n",
    "from Bio.Seq import Seq\n",
    "from Bio import SeqIO\n",
    "from Bio.Blast import NCBIWWW\n",
    "from Bio.Blast import NCBIXML\n",
    "import ipywidgets as widgets\n",
    "from ipywidgets import interact, interactive, fixed, interact_manual\n",
    "import ipywidgets as widgets"
   ]
  },
  {
   "cell_type": "markdown",
   "metadata": {},
   "source": [
    "Next, BAST looks up matching sequences that are most similar to the sequence from the unknown creature.  \n",
    "This may take up to a few minutes"
   ]
  },
  {
   "cell_type": "markdown",
   "metadata": {},
   "source": [
    "this will take a while ⏳"
   ]
  },
  {
   "cell_type": "markdown",
   "metadata": {},
   "source": [
    "result_handle object will have the entire result and can be saved into a file for later usage."
   ]
  },
  {
   "cell_type": "markdown",
   "metadata": {},
   "source": [
    "Parsing BLAST Result\n",
    "Generally, BLAST output is parsed as XML format using the NCBIXML module. To do this, we need to import the following module −"
   ]
  },
  {
   "cell_type": "markdown",
   "metadata": {},
   "source": [
    "Now, open the file directly using python open method and use NCBIXML parse method as given below −"
   ]
  },
  {
   "cell_type": "markdown",
   "metadata": {},
   "source": [
    "explain the output in detail. \n",
    "the first line that BLAST reads is the 'query' which holds the sequence of the unknown creature, the following two lines are the best matched sequence from the database which BLAST checked. In this case, creature 1 turns out to be a 'dog' 🐕"
   ]
  },
  {
   "cell_type": "markdown",
   "metadata": {},
   "source": [
    "cds stands for the coding sequences, that is the sequences that can be translated to a protein. If you are interested in learning more about the central dogma of biology please visit xxx. "
   ]
  },
  {
   "cell_type": "markdown",
   "metadata": {},
   "source": [
    "chromosome explains the location of the gene on which chromosome and where it starts and ends. In this example, creature 1 is a dog and the specific gene that is sequences is on chromosome 8. "
   ]
  },
  {
   "cell_type": "code",
   "execution_count": null,
   "metadata": {},
   "outputs": [],
   "source": [
    "def f(creature):\n",
    "    return creature\n",
    "interact(f, creature=['creature_1','creature_2', 'creature_3']);"
   ]
  },
  {
   "cell_type": "code",
   "execution_count": null,
   "metadata": {},
   "outputs": [],
   "source": [
    "# ❗️ Run this cell!\n",
    "# Here, we can see a gene sequence associated with cry1AB_1\n",
    "genes_dict = SeqIO.to_dict(SeqIO.parse(\"random.fasta\", \"fasta\"))\n",
    "print(genes_dict[\"creature_2\"].format(\"fasta\"))\n",
    "#genes_dict"
   ]
  },
  {
   "cell_type": "code",
   "execution_count": null,
   "metadata": {},
   "outputs": [],
   "source": [
    "# ❗️ Run this cell!\n",
    "# edit the name of the creature\n",
    "blast_unknown_creature = 'result_creature_2.xml'"
   ]
  },
  {
   "cell_type": "code",
   "execution_count": null,
   "metadata": {},
   "outputs": [],
   "source": [
    "# ❗️ Run this cell!\n",
    "E_VALUE_THRESH = 1e-20 \n",
    "for record in NCBIXML.parse(open(blast_unknown_creature)): \n",
    "    if record.alignments: \n",
    "        print(\"\\n\") \n",
    "        print(\"query: %s\" % record.query[1:42]) \n",
    "        for align in record.alignments: \n",
    "            for hsp in align.hsps: \n",
    "                if hsp.expect < E_VALUE_THRESH: \n",
    "                    print(\"🔬creature matches: %s \" % align.title[24:49])"
   ]
  },
  {
   "cell_type": "code",
   "execution_count": null,
   "metadata": {},
   "outputs": [],
   "source": [
    "# sum up, can you explain now which creatures scaredy squirrel ran into\n",
    "# explain identity match in terms of percentage (beginner)\n",
    "# explain E value in a little more details\n",
    "# differentiate between two creatures where similairites are different and then explain and then pop up a couple of \n",
    "# questions\n",
    "# explore - randomisation option for which creatures they can get, every time they run a cell they get a different\n",
    "# creature to come up with\n",
    "# widget - interactive"
   ]
  }
 ],
 "metadata": {
  "kernelspec": {
   "display_name": "Python 3",
   "language": "python",
   "name": "python3"
  },
  "language_info": {
   "codemirror_mode": {
    "name": "ipython",
    "version": 3
   },
   "file_extension": ".py",
   "mimetype": "text/x-python",
   "name": "python",
   "nbconvert_exporter": "python",
   "pygments_lexer": "ipython3",
   "version": "3.7.6"
  }
 },
 "nbformat": 4,
 "nbformat_minor": 4
}

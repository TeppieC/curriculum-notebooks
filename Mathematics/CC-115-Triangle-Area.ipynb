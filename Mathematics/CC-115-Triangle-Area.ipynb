{
 "cells": [
  {
   "cell_type": "markdown",
   "metadata": {},
   "source": [
    "![logo](https://callysto.ca/wp-content/uploads/2018/06/Callysto_Notebook-Banner_Top_06.06.18.jpg)"
   ]
  },
  {
   "cell_type": "code",
   "execution_count": null,
   "metadata": {},
   "outputs": [],
   "source": [
    "%%html\n",
    "\n",
    "<script>\n",
    "  function code_toggle() {\n",
    "    if (code_shown){\n",
    "      $('div.input').hide('500');\n",
    "      $('#toggleButton').val('Show Code')\n",
    "    } else {\n",
    "      $('div.input').show('500');\n",
    "      $('#toggleButton').val('Hide Code')\n",
    "    }\n",
    "    code_shown = !code_shown\n",
    "  }\n",
    "\n",
    "  $( document ).ready(function(){\n",
    "    code_shown=false;\n",
    "    $('div.input').hide()\n",
    "  });\n",
    "</script>\n",
    "<form action=\"javascript:code_toggle()\"><input type=\"submit\" id=\"toggleButton\" value=\"Show Code\"></form>"
   ]
  },
  {
   "cell_type": "code",
   "execution_count": null,
   "metadata": {},
   "outputs": [],
   "source": [
    "from ggb import *\n",
    "ggb = GGB()\n",
    "\n",
    "from IPython.display import Image\n",
    "\n",
    "import ipywidgets as widgets\n",
    "import IPython"
   ]
  },
  {
   "cell_type": "markdown",
   "metadata": {},
   "source": [
    "# Area of a Triangle\n",
    "\n",
    "##### Grade 7 Curriculum\n",
    "\n",
    "This is a notebook on how to calculate the area of a triangle. In this notebook, we will focus on how to calculate the area of any triangle. We will also learn how to find out the length of one variable, either base or height, while given the other variable and the area. \n",
    "\n",
    "This notebook will help you understand how to find the area of a triangle, and give a few practice questions. This one notebook won’t be enough practice to master this skill, so be sure to do lots of practice!\n",
    "\n",
    "### What is a triangle?\n",
    "\n",
    "A triangle is defined as a 2D shape with 3 straight sides and 3 angles, which can take many forms:\n",
    "\n",
    "![picture](https://www.onlinemathlearning.com/image-files/xtypes-triangles-sides-angles.png.pagespeed.ic.LLzsGQR2vg.png) www.onlinemathlearning.com\n",
    "\n",
    "### How to find the area\n",
    "\n",
    "Finding the area of a triangle seems a little trickier than finding the area of a rectangle, but there's an easy way to look at it.\n",
    "\n",
    "In the picture below, a right angle triangle is created by cutting a rectangle diagonally in half. This makes two triangles with equal areas. We can see that the area of one triangle is half of the area of the rectangle. Since the area of a rectangle is $base \\times height$, the area of a triangle would be $\\frac{base \\times height}{2}$. Sometimes it’s written as $\\frac{1}{2} \\times base \\times height$, though they both mean the same thing. We will use the first formula to keep it simple.\n",
    "\n",
    "![picture2](https://www.homeschoolmath.net/teaching/g/area/area_right_triangl4.gif) www.homeschoolmath.net\n",
    "\n",
    "### What about non-right angle triangles?\n",
    "\n",
    "If non-right angle triangles aren't created out of rectangles, then how can we calculate their area?\n",
    "\n",
    "Non-right angled triangles aren't created out of cutting a rectangle, but we get another shape when they're doubled: a parallelogram! We know from the [Area of a Parallelogram notebook](Parallelogram_Area.ipynb) that a parallelogram has the same area formula as a rectangle. Now we can figure out the area of any triangle like this:\n",
    "\n",
    "![animation with words](https://i.gifer.com/9VFS.gif) http://people.wku.edu/tom.richmond/triangle1.html\n",
    "\n",
    "We can also create rectangles out of non-right angle triangles by moving the area around, like this:\n",
    "\n",
    "![animation](https://upload.wikimedia.org/wikipedia/commons/6/6d/Triangle_area.gif) www.wikimedia.org\n",
    "\n",
    "Or if you only work with the original area, we can create a rectangle like this:\n",
    "\n",
    "![animation3](http://people.wku.edu/tom.richmond/triangle.gif) http://people.wku.edu/tom.richmond/triangle2.html\n",
    "\n",
    "### Formula\n",
    "\n",
    "So we can see that no matter what kind of triangle you're faced with, as long as we know the base and the height, the area of the triangle will be $$\\frac{ base \\times height}{2}$$.\n",
    "\n",
    "We are going to write base as b and height as h in the practice questions."
   ]
  },
  {
   "cell_type": "markdown",
   "metadata": {},
   "source": [
    "### Still not conviced? \n",
    "\n",
    "Choose a length for the base and height then slide point P back and forth on the triangle below and watch the area to see if it changes based on the triangle you make. Try making an obtuse triangle, a right-angle triangle, and an acute triangle."
   ]
  },
  {
   "cell_type": "code",
   "execution_count": null,
   "metadata": {},
   "outputs": [],
   "source": [
    "ggb.material('QgWDn3pt').draw()"
   ]
  },
  {
   "cell_type": "markdown",
   "metadata": {},
   "source": [
    "### Let's try it with some numbers\n",
    "\n",
    "Let's look at this triangle:"
   ]
  },
  {
   "cell_type": "code",
   "execution_count": null,
   "metadata": {},
   "outputs": [],
   "source": [
    "Image('images/TriStep1.png',width=300,height=400)"
   ]
  },
  {
   "cell_type": "markdown",
   "metadata": {},
   "source": [
    "We can see that the height is 2 cm and the base is 3.4 cm. Let's duplicate this triangle and create a rectangle out of both triangles:"
   ]
  },
  {
   "cell_type": "code",
   "execution_count": null,
   "metadata": {},
   "outputs": [],
   "source": [
    "Image('images/TriStep2.png',width=300,height=400)"
   ]
  },
  {
   "cell_type": "markdown",
   "metadata": {},
   "source": [
    "Now we have a rectangle, which we know how to calculate the area for using the formula \n",
    "$$\\begin{align*}\n",
    "\\text{Area of rectangle} & = base \\times height\\\\\n",
    "\\text{Area of rectangle} & = 2 cm \\times 3.4 cm\\\\\n",
    "\\text{Area of rectangle} & = 6.8 cm^2\n",
    "\\end{align*}$$\n",
    "\n",
    "Since the triangle makes up only half of this rectangle, we have to divide the area in half as well.\n",
    "$$\\begin{align*}\n",
    "\\text{Area of triangle} & = \\text{Area of rectangle} \\div 2\\\\\n",
    "\\text{Area of triangle} & = 6.8 cm^2 \\div 2\\\\\n",
    "\\text{Area of triangle} & = 3.4 cm^2\n",
    "\\end{align*}$$\n",
    "\n",
    "Therefore the area of the triangle by itself is $3.4 cm^2$"
   ]
  },
  {
   "cell_type": "markdown",
   "metadata": {},
   "source": [
    "##### Now let's use our formula!\n",
    "\n",
    "$$\\begin{align*}\n",
    "\\text{Area of triangle} & = \\frac{ base \\times height}{2}\\\\\n",
    "\\text{Area of triangle} & = \\frac{3.4 cm \\times 2 cm}{2}\\\\\n",
    "\\text{Area of triangle} & = \\frac{6.8 cm^2}{2}\\\\\n",
    "\\text{Area of triangle} & = 3.4 cm^2\n",
    "\\end{align*}$$\n",
    "\n",
    "As you can see, we get the same answer!"
   ]
  },
  {
   "cell_type": "markdown",
   "metadata": {},
   "source": [
    "### Question 1"
   ]
  },
  {
   "cell_type": "code",
   "execution_count": null,
   "metadata": {},
   "outputs": [],
   "source": [
    "Image('images/TriQ1.png',width=300,height=400)"
   ]
  },
  {
   "cell_type": "code",
   "execution_count": null,
   "metadata": {},
   "outputs": [],
   "source": [
    "ans = widgets.Text(value='',placeholder='0',description='Area=',continuous_update=False)\n",
    "\n",
    "def display():\n",
    "    print(\"What is the area of this triangle?\")\n",
    "    IPython.display.display(ans)\n",
    "\n",
    "def check(a):\n",
    "    IPython.display.clear_output(wait=True)\n",
    "    display()\n",
    "    if ans.value == '10m^2' or ans.value == '10 m^2':\n",
    "        print(\"Great job!\")\n",
    "    else:\n",
    "        if ans.value == '':\n",
    "            pass\n",
    "        if ans.value == '10':\n",
    "            print(\"Don't forget units!\")\n",
    "        else:\n",
    "            print(\"Not quite, don't forget the formula.\")\n",
    "\n",
    "display()\n",
    "ans.observe(check, 'value')"
   ]
  },
  {
   "cell_type": "markdown",
   "metadata": {},
   "source": [
    "### Question 2"
   ]
  },
  {
   "cell_type": "code",
   "execution_count": null,
   "metadata": {},
   "outputs": [],
   "source": [
    "Image('images/TriQ2.png',width=300,height=400)"
   ]
  },
  {
   "cell_type": "code",
   "execution_count": null,
   "metadata": {},
   "outputs": [],
   "source": [
    "ans2 = widgets.Text(value='',placeholder='0',description='Area=',continuous_update=False)\n",
    "\n",
    "def display2():\n",
    "    print(\"What is the area of this triangle?\")\n",
    "    IPython.display.display(ans2)\n",
    "\n",
    "def check2(a):\n",
    "    IPython.display.clear_output(wait=True)\n",
    "    display2()\n",
    "    if ans2.value == '9.6 cm^2' or ans2.value == '9.6cm^2':\n",
    "        print(\"Great job!\")\n",
    "    else:\n",
    "        if ans2.value == '':\n",
    "            pass\n",
    "        if ans2.value == '9.6':\n",
    "            print(\"Don't forget units!\")\n",
    "        else:\n",
    "            print(\"Not quite, don't forget the formula.\")\n",
    "\n",
    "display2()\n",
    "ans2.observe(check2, 'value')"
   ]
  },
  {
   "cell_type": "code",
   "execution_count": null,
   "metadata": {},
   "outputs": [],
   "source": [
    "Image('images/TriQ3.png',width=400,height=500)"
   ]
  },
  {
   "cell_type": "code",
   "execution_count": null,
   "metadata": {},
   "outputs": [],
   "source": [
    "ans3 = widgets.Text(value='',placeholder='0',description='Area=',continuous_update=False)\n",
    "\n",
    "def display3():\n",
    "    print(\"What is the area of this triangle?\")\n",
    "    IPython.display.display(ans3)\n",
    "\n",
    "def check3(a):\n",
    "    IPython.display.clear_output(wait=True)\n",
    "    display3()\n",
    "    if ans3.value == '7.52m' or ans3.value == '7.52 m':\n",
    "        print(\"Great job!\")\n",
    "    else:\n",
    "        if ans3.value == '':\n",
    "            pass\n",
    "        if ans3.value == '7.52':\n",
    "            print(\"Don't forget units!\")\n",
    "        else:\n",
    "            print(\"Not quite, don't forget the formula.\")\n",
    "\n",
    "display3()\n",
    "ans3.observe(check3, 'value')"
   ]
  },
  {
   "cell_type": "markdown",
   "metadata": {},
   "source": [
    "### How does a change in height affect the area?\n",
    "\n",
    "Let's take the first triangle from the example we went through where the base is 3.4 cm and the height is 2 cm which we figured out the area is $3.4text{ cm}^2$. What do you think would happen to the area if we doubled the height to 4 cm? \n",
    "Let's calculate it:\n",
    "$$\\begin{align*}\n",
    "\\text{Area of triangle} & = \\frac{\\text{base} \\times \\text{height}}{2}\\\\\n",
    "\\text{Area of Triangle} & = \\frac{3.4 \\text{ cm} \\times 4 \\text{ cm}}{2}\\\\\n",
    "\\text{Area of Triangle} & = \\frac{13.6\\text{ cm}^2}{2}\\\\\n",
    "\\text{Area of Triangle} & = 6.8 \\text{ cm}^2\n",
    "\\end{align*}$$\n",
    "\n",
    "Interesting. The new area, $6.8 \\text{ cm}^2$ is double the amount of the old area, $3.4 \\text{ cm}^2$. Perhaps that was just a coincidence? There's a slider over the next triangle labelled height, slide it to double the current height and look at what happens to the area. Can we generalize that when the height is doubled then the area is doubled?\n",
    "\n",
    "### How does a change in base affect the area?\n",
    "\n",
    "Now instead of changing the height, let's double the base of the triangle in the first example to 6.8 cm and keep the height at 2 cm. How will this new area compare to the old area? How will it compare to the area when we changed the height?\n",
    "Let's calculate it:\n",
    "$$\\begin{align*}\n",
    "\\text{Area of triangle} & = \\frac{\\text{base} \\times \\text{height}}{2}\\\\\n",
    "\\text{Area of triangle} & = \\frac{6.8 \\text{ cm} \\times 2 \\text{ cm}}{2}\\\\\n",
    "\\text{Area of triangle} & = \\frac{13.6 \\text{ cm}^2}{2}\\\\\n",
    "\\text{Area of triangle} & = 6.8 \\text{ cm}^2\n",
    "\\end{align*}$$\n",
    "\n",
    "Look at that! This new area is the same as when we doubled the height! Let's confirm that doubling the base doubles the area by using the slider labelled base over the triangle below to double the base length and watch what happens to the area.\n",
    "\n",
    "**Note:** you can slide P back and forth to create right-angle, obtuse, and acute triangles!"
   ]
  },
  {
   "cell_type": "code",
   "execution_count": null,
   "metadata": {},
   "outputs": [],
   "source": [
    "ggb.material('QgWDn3pt').draw()"
   ]
  },
  {
   "cell_type": "markdown",
   "metadata": {},
   "source": [
    "### What conclusion can we draw?\n",
    "\n",
    "By trying different values for base and height of the triangle above, we can safely conclude that doubling the base or doubling the height will double the area. \n",
    "\n",
    "Let's extend this conclusion: \n",
    ">What would happen to the area if the base or the height were halved?\n",
    "\n",
    "Go back to the triangle above and try it!"
   ]
  },
  {
   "cell_type": "markdown",
   "metadata": {},
   "source": [
    "## Practice\n",
    "\n",
    "Lets use what you've learned to answer these questions:\n",
    "\n",
    "#### Question 1\n",
    "\n",
    "What is the area of a right-angled triangle with a base length of 3.2 m and a height of 4 m?\n",
    "\n",
    "#### Question 2\n",
    "\n",
    "What is the area of the triangle in question 1 if the height is halved?\n",
    "\n",
    "#### Question 3\n",
    "\n",
    "What is the area of the triangle in question 1 if the base is halved and the height is doubled?\n",
    "\n",
    "#### Question 4\n",
    "\n",
    "If the triangle in question 1 was an acute triangle instead of right angle triangle would the area be greater than, equal to, or less than the area as a right angle triangle?"
   ]
  },
  {
   "cell_type": "markdown",
   "metadata": {},
   "source": [
    "### What if you know the area, but not one of the variables?\n",
    "\n",
    "Let's say you know the area and the base, but are asked for the height, or you know the area and the height, but are asked for the base. How can we find these missing variables? Look at this example below. What is the height of the triangle?"
   ]
  },
  {
   "cell_type": "code",
   "execution_count": null,
   "metadata": {},
   "outputs": [],
   "source": [
    "Image('images/TriQ4.png',width=300,height=200)"
   ]
  },
  {
   "cell_type": "markdown",
   "metadata": {},
   "source": [
    "Let's look at the formula: $$ \\text{Area of triangle} = \\frac{base \\times height}{2}$$\n",
    "\n",
    "Now let's plug in all the values we know into the formula: $$11.2 mm^2 = \\frac{7 mm \\times height}{2}$$\n",
    "\n",
    "This looks a lot different than when all the numbers we know are on one side of the equals sign, so let's solve this equation for $height$ which will put all the numbers on one side of the equals sign and $height$ will be the only thing on the other side of the equals sign. \n",
    "\n",
    "$$ \\begin{align*}\n",
    "11.2 mm^2 & = \\frac{7 mm \\times height}{2}\\\\\n",
    "11.2 mm^2 \\times 2 & = \\frac{7 mm \\times height}{2\\!\\!\\!\\!\\diagup}\\times 2\\!\\!\\!\\!\\diagup \\tag{multiply by 2 to cancel out the division}\\\\[4pt]\n",
    "(11.2 mm^2 \\times 2) \\div 7 mm & = 7\\!\\!\\!\\!\\diagup mm \\times height \\div 7\\!\\!\\!\\!\\diagup mm \\tag{Divide by 7 mm to cancel out the base}\\\\[4pt]\n",
    "(11.2 mm^2 \\times 2) \\div 7 mm & = height \\tag{Solve}\\\\[4pt]\n",
    "22.4 mm^2\\!\\!\\!\\!\\diagup \\div 7 mm\\!\\!\\!\\!\\diagup & = height\\\\\n",
    "3.2 mm & = height\n",
    "\\end{align*}$$\n",
    "\n",
    "At the step with the comment \"Solve\" on it, that step actually shows us the formula for height when you know the base and area. Let's remove the values from that step to see what the formula is in general: $$\\frac{\\text{Area of triangle} \\times 2}{base} = height$$\n",
    "\n",
    "### What about the other way?\n",
    "\n",
    "We can do the same thing if we know the height and not the base! What is the base length of this triangle?"
   ]
  },
  {
   "cell_type": "code",
   "execution_count": null,
   "metadata": {},
   "outputs": [],
   "source": [
    "Image('images/TriQ5.png',width=400,height=200)"
   ]
  },
  {
   "cell_type": "markdown",
   "metadata": {},
   "source": [
    "Let's use the same steps as the last example to solve this one.\n",
    "$$\\begin{align*}\n",
    "\\text{Area of triangle} & = \\frac{base \\times height}{2}\\\\\n",
    "7.5 cm^2 & = \\frac{base \\times 5 cm}{2} \\tag{plug in values}\\\\[4pt]\n",
    "7.5 cm^2 \\times 2 & = \\frac{base \\times 5cm}{2\\!\\!\\!\\!\\diagup}\\times 2\\!\\!\\!\\!\\diagup \\tag{multiply by 2 to cancel out the division}\\\\[4pt]\n",
    "(7.5 cm^2 \\times 2) \\div 5 cm & = base \\times 5\\!\\!\\!\\!\\diagup cm \\div 5\\!\\!\\!\\!\\diagup cm \\tag{Divide by 5 cm to cancel out the base}\\\\[4pt]\n",
    "(7.5 cm^2 \\times 2) \\div 5 cm & = base \\tag{Solve}\\\\[4pt]\n",
    "15 cm^2\\!\\!\\!\\!\\diagup \\div 5 cm\\!\\!\\!\\!\\diagup & = base\\\\\n",
    "3 cm & = base\n",
    "\\end{align*}$$\n",
    "\n",
    "Now let's get the general formula from the \"Solve\" step: $$\\frac{\\text{Area of triangle} \\times 2}{height} = base$$"
   ]
  },
  {
   "cell_type": "markdown",
   "metadata": {},
   "source": [
    "### Practice Questions\n",
    "\n",
    "Try to figure out the values of the missing base or height.\n",
    "\n",
    "##### Question 1\n",
    "What is the height of this triangle?"
   ]
  },
  {
   "cell_type": "code",
   "execution_count": null,
   "metadata": {},
   "outputs": [],
   "source": [
    "Image('images/TriQ7.png',width=600)"
   ]
  },
  {
   "cell_type": "code",
   "execution_count": null,
   "metadata": {},
   "outputs": [],
   "source": [
    "ans4 = widgets.Text(value='',placeholder='0',description='Height=',continuous_update=False)\n",
    "\n",
    "def display4():\n",
    "    IPython.display.display(ans4)\n",
    "\n",
    "def check4(a):\n",
    "    IPython.display.clear_output(wait=True)\n",
    "    display4()\n",
    "    if ans4.value == '0.4 cm' or ans4.value == '0.4cm':\n",
    "        print(\"Great job!\")\n",
    "    else:\n",
    "        if ans4.value == '':\n",
    "            pass\n",
    "        if ans4.value == '0.4':\n",
    "            print(\"Don't forget units!\")\n",
    "        else:\n",
    "            print(\"Not quite, don't forget the formula for height.\")\n",
    "\n",
    "display4()\n",
    "ans4.observe(check4, 'value')"
   ]
  },
  {
   "cell_type": "markdown",
   "metadata": {},
   "source": [
    "##### Question 2\n",
    "What is the base length of this triangle?"
   ]
  },
  {
   "cell_type": "code",
   "execution_count": null,
   "metadata": {},
   "outputs": [],
   "source": [
    "Image('images/TriQ6.png',width=300)"
   ]
  },
  {
   "cell_type": "code",
   "execution_count": null,
   "metadata": {},
   "outputs": [],
   "source": [
    "ans5 = widgets.Text(value='',placeholder='0',description='Base=',continuous_update=False)\n",
    "\n",
    "def display5():\n",
    "    IPython.display.display(ans5)\n",
    "\n",
    "def check5(a):\n",
    "    IPython.display.clear_output(wait=True)\n",
    "    display5()\n",
    "    if ans5.value == '2.2 m' or ans5.value == '2.2m':\n",
    "        print(\"Great job!\")\n",
    "    else:\n",
    "        if ans5.value == '':\n",
    "            pass\n",
    "        if ans5.value == '2.2':\n",
    "            print(\"Don't forget units!\")\n",
    "        else:\n",
    "            print(\"Not quite, don't forget the formula for height.\")\n",
    "\n",
    "display5()\n",
    "ans5.observe(check5, 'value')"
   ]
  },
  {
   "cell_type": "markdown",
   "metadata": {},
   "source": [
    "##### Question 3\n",
    "What is the height of this triangle?"
   ]
  },
  {
   "cell_type": "code",
   "execution_count": null,
   "metadata": {},
   "outputs": [],
   "source": [
    "Image('images/TriQ8.png',width=300)"
   ]
  },
  {
   "cell_type": "code",
   "execution_count": null,
   "metadata": {},
   "outputs": [],
   "source": [
    "ans6 = widgets.Text(value='',placeholder='0',description='Height=',continuous_update=False)\n",
    "\n",
    "def display6():\n",
    "    IPython.display.display(ans6)\n",
    "\n",
    "def check6(a):\n",
    "    IPython.display.clear_output(wait=True)\n",
    "    display6()\n",
    "    if ans6.value == '1 cm' or ans6.value == '1cm':\n",
    "        print(\"Great job!\")\n",
    "    else:\n",
    "        if ans6.value == '':\n",
    "            pass\n",
    "        if ans6.value == '1':\n",
    "            print(\"Don't forget units!\")\n",
    "        else:\n",
    "            print(\"Not quite, don't forget the formula for height.\")\n",
    "\n",
    "display6()\n",
    "ans6.observe(check6, 'value')"
   ]
  },
  {
   "cell_type": "markdown",
   "metadata": {},
   "source": [
    "### What if you have other information other than the base and height?\n",
    "\n",
    "There are lots of ways to calculate the area of a triangle with different information given to you, some even require knowing an angle or two in the triangle, but thats coming in the future. If you want to learn a little bit about another way to calculate area, this time knowing the length of all three sides, but not the height, then look at the article on [Heron's formula](http://www.mathwarehouse.com/geometry/triangles/area/herons-formula-triangle-area.php) but you don't have to know this yet."
   ]
  },
  {
   "cell_type": "markdown",
   "metadata": {},
   "source": [
    "## Conclusion\n",
    "\n",
    "Let's review what we've learned in this notebook.\n",
    "\n",
    "- The area of a triangle is half the area of a rectangle with the same base and height.\n",
    "- The formula is $Area = \\frac{base \\times height}{2}$\n",
    "- The formula works for all types of triangles as long as you know base and height.\n",
    "- The formula works for finding any variable that is missing by rearranging values on either side of the equals sign.\n",
    "- There's more than one way to calculate the area.\n",
    "\n",
    "Take the time to learn this formula and how to fill it in. You may not always have the formula to read, but filling in and manipulating equations like this formula will be essential for many math skills in the future. As always in mathematics, the more you practice, the easier it gets!"
   ]
  },
  {
   "cell_type": "markdown",
   "metadata": {},
   "source": [
    "![logo](https://callysto.ca/wp-content/uploads/2018/06/Callysto_Notebook-Banners_Bottom_06.06.18.jpg)"
   ]
  }
 ],
 "metadata": {
  "kernelspec": {
   "display_name": "Python 3",
   "language": "python",
   "name": "python3"
  },
  "language_info": {
   "codemirror_mode": {
    "name": "ipython",
    "version": 3
   },
   "file_extension": ".py",
   "mimetype": "text/x-python",
   "name": "python",
   "nbconvert_exporter": "python",
   "pygments_lexer": "ipython3",
   "version": "3.6.5"
  }
 },
 "nbformat": 4,
 "nbformat_minor": 2
}

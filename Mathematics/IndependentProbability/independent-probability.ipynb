{
 "cells": [
  {
   "cell_type": "markdown",
   "metadata": {},
   "source": [
    "![Callysto.ca Banner](https://github.com/callysto/curriculum-notebooks/blob/master/callysto-notebook-banner-top.jpg?raw=true)\n",
    "\n",
    "<a href=\"https://hub.callysto.ca/jupyter/hub/user-redirect/git-pull?repo=https%3A%2F%2Fgithub.com%2Fcallysto%2Fcurriculum-notebooks&branch=master&subPath=Mathematics/IndependentProbability/IndependentProbability.ipynb&depth=1\" target=\"_parent\"><img src=\"https://raw.githubusercontent.com/callysto/curriculum-notebooks/master/open-in-callysto-button.svg?sanitize=true\" width=\"123\" height=\"24\" alt=\"Open in Callysto\"/></a>"
   ]
  },
  {
   "cell_type": "code",
   "execution_count": 1,
   "metadata": {
    "tags": [
     "hide-input"
    ]
   },
   "outputs": [
    {
     "data": {
      "text/html": [
       "<button onclick=\"run_all()\">CLICK HERE TO BEGIN</button> \n",
       "<script>\n",
       "function run_all(){\n",
       "    Jupyter.actions.call('jupyter-notebook:run-all-cells-below');\n",
       "    Jupyter.actions.call('jupyter-notebook:save-notebook');\n",
       "}\n",
       "</script>\n"
      ],
      "text/plain": [
       "<IPython.core.display.HTML object>"
      ]
     },
     "metadata": {},
     "output_type": "display_data"
    }
   ],
   "source": [
    "%%html\n",
    "<button onclick=\"run_all()\">CLICK HERE TO BEGIN</button> \n",
    "<script>\n",
    "function run_all(){\n",
    "    Jupyter.actions.call('jupyter-notebook:run-all-cells-below');\n",
    "    Jupyter.actions.call('jupyter-notebook:save-notebook');\n",
    "}\n",
    "</script>"
   ]
  },
  {
   "cell_type": "code",
   "execution_count": 2,
   "metadata": {
    "tags": [
     "hide-input"
    ]
   },
   "outputs": [
    {
     "data": {
      "text/html": [
       "\n",
       "<script>\n",
       "  function code_toggle() {\n",
       "    if (code_shown){\n",
       "      $('div.input').hide('500');\n",
       "      $('#toggleButton').val('Show Code')\n",
       "    } else {\n",
       "      $('div.input').show('500');\n",
       "      $('#toggleButton').val('Hide Code')\n",
       "    }\n",
       "    code_shown = !code_shown\n",
       "  }\n",
       "\n",
       "  $( document ).ready(function(){\n",
       "    code_shown=false;\n",
       "    $('div.input').hide()\n",
       "  });\n",
       "</script>\n",
       "<p> Code is hidden for ease of viewing. Click the Show/Hide button to see. </>\n",
       "<form action=\"javascript:code_toggle()\"><input type=\"submit\" id=\"toggleButton\" value=\"Show Code\"></form>\n"
      ],
      "text/plain": [
       "<IPython.core.display.HTML object>"
      ]
     },
     "metadata": {},
     "output_type": "display_data"
    }
   ],
   "source": [
    "%%html\n",
    "\n",
    "<script>\n",
    "  function code_toggle() {\n",
    "    if (code_shown){\n",
    "      $('div.input').hide('500');\n",
    "      $('#toggleButton').val('Show Code')\n",
    "    } else {\n",
    "      $('div.input').show('500');\n",
    "      $('#toggleButton').val('Hide Code')\n",
    "    }\n",
    "    code_shown = !code_shown\n",
    "  }\n",
    "\n",
    "  $( document ).ready(function(){\n",
    "    code_shown=false;\n",
    "    $('div.input').hide()\n",
    "  });\n",
    "</script>\n",
    "<p> Code is hidden for ease of viewing. Click the Show/Hide button to see. </>\n",
    "<form action=\"javascript:code_toggle()\"><input type=\"submit\" id=\"toggleButton\" value=\"Show Code\"></form>"
   ]
  },
  {
   "cell_type": "markdown",
   "metadata": {},
   "source": [
    "# Probability of Independent Events\n",
    "\n",
    "<img style=\"float: left;\" src=\"Images/FirstDicePic.svg\"  width=\"700\">\n"
   ]
  },
  {
   "cell_type": "markdown",
   "metadata": {},
   "source": [
    "## Introduction\n",
    "\n",
    "Our lives are full of random events! To be an informed and successful person, it is important to get a \"feel\" for randomness. What is a random event? Flipping a coin, rolling dice, shuffling cards, and lottery draws are all examples of random events. There are **two basic types** of random events: **dependent** random events, and **independent** random events.\n",
    "    \n",
    "What are **dependent** random events? Sometimes the occurrence of an event can affect the probability of the next event occurring. For example, consider removing a playing card from a deck of cards. As you take each card, there are fewer cards left in the deck, and so the probability of drawing a particular card changes on later draws.\n",
    "\n",
    "This notebook will focus on **independent** events. As you've probably guessed, these are events that are **not affected** by previous events.\n",
    "\n",
    "**Note:** To express the likelihood of an event occurring, we assign a **probability** to it, usually expressed as a decimal or fraction that is between zero and one."
   ]
  },
  {
   "cell_type": "markdown",
   "metadata": {},
   "source": [
    "### Die Simulator\n",
    "\n",
    "Click the \"Roll Dice!\" button as many times as you'd like. Do you think that the current number on the die affects the likelihood of the next number occurring? \n"
   ]
  },
  {
   "cell_type": "code",
   "execution_count": 3,
   "metadata": {
    "tags": [
     "hide-input"
    ]
   },
   "outputs": [
    {
     "data": {
      "application/vnd.jupyter.widget-view+json": {
       "model_id": "147bc6ac21a745bfa9c083ef6559279d",
       "version_major": 2,
       "version_minor": 0
      },
      "text/plain": [
       "VBox(children=(Button(description='Roll Die!', style=ButtonStyle()), Output()))"
      ]
     },
     "metadata": {},
     "output_type": "display_data"
    }
   ],
   "source": [
    "from ipywidgets import Output, VBox\n",
    "from random import choice\n",
    "import time\n",
    "from IPython.display import Image, display, clear_output\n",
    "from ipywidgets import widgets\n",
    "\n",
    "Animation = Image(filename=\"Images/DiceAnimationInfinite.gif\", width = 80, height = 80)\n",
    "N1 = Image(filename=\"Images/Dice1.gif\", width = 50, height = 50)\n",
    "N2 = Image(filename=\"Images/Dice2.gif\", width = 50, height = 50)\n",
    "N3 = Image(filename=\"Images/Dice3.gif\", width = 50, height = 50)\n",
    "N4 = Image(filename=\"Images/Dice4.gif\", width = 50, height = 50)\n",
    "N5 = Image(filename=\"Images/Dice5.gif\", width = 50, height = 50)\n",
    "N6 = Image(filename=\"Images/Dice6.gif\", width = 50, height = 50)\n",
    "\n",
    "### Widgets ###\n",
    "out1 = Output()\n",
    "button1 = widgets.Button(description = \"Roll Die!\")\n",
    "\n",
    "### Functions ###\n",
    "def on_button1_clicked(b):\n",
    "    subj = [N1, N2, N3, N4, N5, N6]\n",
    "    with out1:\n",
    "        clear_output()\n",
    "        display(Animation)\n",
    "        time.sleep(2.5)\n",
    "        clear_output(wait=True)\n",
    "        display(choice(subj))\n",
    "    \n",
    "### Display Widgets ###\n",
    "display(VBox([button1, out1]))\n",
    "\n",
    "### Initialize Button Click Action ###\n",
    "button1.on_click(on_button1_clicked)"
   ]
  },
  {
   "cell_type": "markdown",
   "metadata": {},
   "source": [
    "### Experimental Probability\n",
    "\n",
    "One way of estimating the probability of an event is to do so experimentally.  If we do an experiment $x$ times and the event we want occurs $n$ times, then the **experimental probability** of the event is just: \n",
    "\n",
    "\\begin{equation}\n",
    "\\text{Probability of an event happening} = \\dfrac{\\text{Number of occurrences of event}}{\\text{Number of experiments done}}=\\dfrac{n}{x}\n",
    "\\end{equation}"
   ]
  },
  {
   "cell_type": "markdown",
   "metadata": {},
   "source": [
    "#### Question\n",
    "\n",
    "Consider the event of rolling a particular number (say 3) on the above six-sided die.  Roll the above die $x$ times (say 20 times) and count how many times ($n$) the particular number occurs.\n",
    "\n",
    "*What is your experimental estimate for the probability of rolling a given number on a six-sided die?  Would you get the same estimate if you did it again?*"
   ]
  },
  {
   "cell_type": "markdown",
   "metadata": {},
   "source": [
    "### Experimental Die Simulator\n",
    "\n",
    "Experimental estimates of probability improve if the number of times the experiment is done ($x$) is large. Let's demonstrate this through an example. The slider below allows you to choose how many times the die is rolled. The chart below keeps track of the value of each roll. Start at the bottom of the slider and make your way to the top. Do you see any pattern forming?"
   ]
  },
  {
   "cell_type": "code",
   "execution_count": 4,
   "metadata": {
    "tags": [
     "hide-input"
    ]
   },
   "outputs": [],
   "source": [
    "from ipywidgets import interactive\n",
    "import matplotlib.pyplot as plt\n",
    "import numpy as np\n",
    "import random"
   ]
  },
  {
   "cell_type": "code",
   "execution_count": 5,
   "metadata": {
    "tags": [
     "hide-input"
    ]
   },
   "outputs": [
    {
     "data": {
      "application/vnd.jupyter.widget-view+json": {
       "model_id": "fb8124d0fa754a3388bd75c0700bfd68",
       "version_major": 2,
       "version_minor": 0
      },
      "text/plain": [
       "interactive(children=(IntSlider(value=50, continuous_update=False, description='x', max=5000, min=50, step=495…"
      ]
     },
     "metadata": {},
     "output_type": "display_data"
    }
   ],
   "source": [
    "def f(x=50):\n",
    "    min = 1\n",
    "    max = 6\n",
    "    D1, D2, D3, D4, D5, D6 = 0, 0, 0, 0, 0, 0\n",
    "    for i in range(x):\n",
    "        num1 = random.randint(min, max)\n",
    "        if num1 == 1:\n",
    "            D1 += 1\n",
    "        elif num1 == 2:\n",
    "            D2 += 1\n",
    "        elif num1 == 3:\n",
    "            D3 += 1\n",
    "        elif num1 == 4:\n",
    "            D4 += 1\n",
    "        elif num1 == 5:\n",
    "            D5 += 1\n",
    "        elif num1 == 6:\n",
    "            D6 += 1\n",
    "    \n",
    "    \n",
    "    plt.figure()\n",
    "    plt.bar([1,2,3,4,5,6],[D1,D2,D3,D4,D5,D6])\n",
    "    plt.ylim(0, (x/6)*2)\n",
    "    plt.ylabel('Total Number of Occurences ($n$)')\n",
    "    plt.xlabel('Die Value')\n",
    "    plt.show()\n",
    "\n",
    "    \n",
    "interactive_plot = interactive(f, x=widgets.IntSlider(min=50,max=5000,step=495, continuous_update=False))\n",
    "output = interactive_plot.children[-1]\n",
    "output.layout.height = '300px'\n",
    "interactive_plot"
   ]
  },
  {
   "cell_type": "markdown",
   "metadata": {},
   "source": [
    "### Review Questions\n",
    "\n",
    "*What pattern emerges when the number of rolls increases? In other words, what happens to the graph when you move the slider to 5000 rolls?*"
   ]
  },
  {
   "cell_type": "code",
   "execution_count": 6,
   "metadata": {
    "tags": [
     "hide-input"
    ]
   },
   "outputs": [
    {
     "name": "stdout",
     "output_type": "stream",
     "text": [
      "\u001b[1ma)\u001b[0;0mThe graph will look like a hill; i.e. the middle values (3 and 4) will have the highest totals.\n",
      "\u001b[1mb)\u001b[0;0mNo pattern emerges.\n",
      "\u001b[1mc)\u001b[0;0mThe graph will look like a staircase; i.e. 1 has the lowest total and 6 has the highest.\n",
      "\u001b[1md)\u001b[0;0mThe total for each dice value becomes roughly the same as the number of rolls increases.\n"
     ]
    },
    {
     "data": {
      "application/vnd.jupyter.widget-view+json": {
       "model_id": "30b9be0aa11447aab0336a2eb7e900fb",
       "version_major": 2,
       "version_minor": 0
      },
      "text/plain": [
       "HBox(children=(Button(description='a)', style=ButtonStyle(button_color='Whitesmoke')), Button(description='b)'…"
      ]
     },
     "metadata": {},
     "output_type": "display_data"
    }
   ],
   "source": [
    "def multiple_choice(O1, O2, O3, O4):\n",
    "    question_prompts = [O1, O2, O3, O4]\n",
    "    answer = question_prompts[0]\n",
    "    letters = [\"a)\", \"b)\", \"c)\", \"d)\"]\n",
    "\n",
    "    #Starts and ends bolded letters\n",
    "    start = \"\\033[1m\"\n",
    "    end = \"\\033[0;0m\"\n",
    "\n",
    "    #Randomly shuffles the options\n",
    "    random.shuffle(question_prompts)\n",
    "\n",
    "    #Prints the letters a) - d) in sequence with randomly chosen options\n",
    "    for i in range(4):\n",
    "        selection = question_prompts.pop()\n",
    "        print(start + letters[i] + end + selection)\n",
    "\n",
    "        #Stores the correct answer\n",
    "        if selection == answer:\n",
    "            letter_answer = letters[i]\n",
    "\n",
    "    button1 = widgets.Button(description=\"a)\")\n",
    "    button2 = widgets.Button(description=\"b)\")\n",
    "    button3 = widgets.Button(description=\"c)\")\n",
    "    button4 = widgets.Button(description=\"d)\")\n",
    "    \n",
    "    button1.style.button_color = 'Whitesmoke'\n",
    "    button2.style.button_color = 'Whitesmoke'\n",
    "    button3.style.button_color = 'Whitesmoke'\n",
    "    button4.style.button_color = 'Whitesmoke'\n",
    "    \n",
    "    container = widgets.HBox(children=[button1,button2,button3,button4])\n",
    "    display(container)\n",
    "\n",
    "    def on_button1_clicked(b):\n",
    "        if \"a)\" == letter_answer:\n",
    "            print(\"Correct! 👏\", end='\\r')\n",
    "            button1.style.button_color = '#abffa8'; button2.style.button_color = 'Whitesmoke'\n",
    "            button3.style.button_color = 'Whitesmoke'; button4.style.button_color = 'Whitesmoke'\n",
    "        else:\n",
    "            print(\"Try again! \", end='\\r')\n",
    "            button1.style.button_color = '#ffbbb8'; button2.style.button_color = 'Whitesmoke'\n",
    "            button3.style.button_color = 'Whitesmoke'; button4.style.button_color = 'Whitesmoke'\n",
    "\n",
    "    def on_button2_clicked(b):\n",
    "        if \"b)\" == letter_answer:\n",
    "            print(\"Correct! 👏\", end='\\r')\n",
    "            button1.style.button_color = 'Whitesmoke'; button2.style.button_color = '#abffa8'\n",
    "            button3.style.button_color = 'Whitesmoke'; button4.style.button_color = 'Whitesmoke'\n",
    "        else:\n",
    "            print(\"Try again! \", end='\\r')\n",
    "            button1.style.button_color = 'Whitesmoke'; button2.style.button_color = '#ffbbb8'\n",
    "            button3.style.button_color = 'Whitesmoke'; button4.style.button_color = 'Whitesmoke'\n",
    "\n",
    "    def on_button3_clicked(b):\n",
    "        if \"c)\" == letter_answer:\n",
    "            print(\"Correct! 👏\", end='\\r')\n",
    "            button1.style.button_color = 'Whitesmoke'; button2.style.button_color = 'Whitesmoke'\n",
    "            button3.style.button_color = '#abffa8'; button4.style.button_color = 'Whitesmoke'\n",
    "        else:\n",
    "            print(\"Try again! \", end='\\r')\n",
    "            button1.style.button_color = 'Whitesmoke'; button2.style.button_color = 'Whitesmoke'\n",
    "            button3.style.button_color = '#ffbbb8'; button4.style.button_color = 'Whitesmoke'\n",
    "\n",
    "    def on_button4_clicked(b):\n",
    "        if \"d)\" == letter_answer:\n",
    "            print(\"Correct! 👏\", end='\\r')\n",
    "            button1.style.button_color = 'Whitesmoke'; button2.style.button_color = 'Whitesmoke'\n",
    "            button3.style.button_color = 'Whitesmoke'; button4.style.button_color = '#abffa8'\n",
    "        else:\n",
    "            print(\"Try again! \", end='\\r')\n",
    "            button1.style.button_color = 'Whitesmoke'; button2.style.button_color = 'Whitesmoke'\n",
    "            button3.style.button_color = 'Whitesmoke'; button4.style.button_color = '#ffbbb8'\n",
    "\n",
    "    button1.on_click(on_button1_clicked)\n",
    "    button2.on_click(on_button2_clicked)\n",
    "    button3.on_click(on_button3_clicked)\n",
    "    button4.on_click(on_button4_clicked)\n",
    "    \n",
    "Option1 = \"The total for each dice value becomes roughly the same as the number of rolls increases.\"\n",
    "Option2 = \"The graph will look like a staircase; i.e. 1 has the lowest total and 6 has the highest.\"\n",
    "Option3 = \"The graph will look like a hill; i.e. the middle values (3 and 4) will have the highest totals.\"\n",
    "Option4 = \"No pattern emerges.\"\n",
    "\n",
    "multiple_choice(Option1, Option2, Option3, Option4)"
   ]
  },
  {
   "cell_type": "markdown",
   "metadata": {},
   "source": [
    "*Read the number of number of occurrences ($n$) of a particular die value (say 3) and calculate the experimental probability as the number of experiments ($x$) increases.  To what value does the experimental probability trend?*"
   ]
  },
  {
   "cell_type": "code",
   "execution_count": 7,
   "metadata": {
    "tags": [
     "hide-input"
    ]
   },
   "outputs": [
    {
     "name": "stdout",
     "output_type": "stream",
     "text": [
      "\u001b[1ma)\u001b[0;0mProbability = 1/3\n",
      "\u001b[1mb)\u001b[0;0mProbability = 1/6\n",
      "\u001b[1mc)\u001b[0;0mProbability = 1/4\n",
      "\u001b[1md)\u001b[0;0mProbability = 1/2\n"
     ]
    },
    {
     "data": {
      "application/vnd.jupyter.widget-view+json": {
       "model_id": "64f1153c43104c86ad5f8faa7ebf141b",
       "version_major": 2,
       "version_minor": 0
      },
      "text/plain": [
       "HBox(children=(Button(description='a)', style=ButtonStyle(button_color='Whitesmoke')), Button(description='b)'…"
      ]
     },
     "metadata": {},
     "output_type": "display_data"
    }
   ],
   "source": [
    "#import random\n",
    "\n",
    "#Assign each question to these four variables. Note: there must be 4 questions and 1 answer.\n",
    "Option1 = \"Probability = 1/6\" #Make this the answer. It'll be randomized later.\n",
    "Option2 = \"Probability = 1/2\"\n",
    "Option3 = \"Probability = 1/3\"\n",
    "Option4 = \"Probability = 1/4\"\n",
    "\n",
    "multiple_choice(Option1, Option2, Option3, Option4)"
   ]
  },
  {
   "cell_type": "markdown",
   "metadata": {},
   "source": [
    "### Experimental Coin Simulator\n",
    "\n",
    "Let's switch from dice to coins as a further example. A coin has two sides: \"Head\" and \"Tails\".  The following simulator counts the number of occurrences of each when a fair coin is flipped experimentally $x$ times.\n",
    "\n",
    "**Question:** *Similar to the dice bar chart above, what shape/pattern emerges if you toss a coin thousands of times?*"
   ]
  },
  {
   "cell_type": "code",
   "execution_count": 8,
   "metadata": {
    "tags": [
     "hide-input"
    ]
   },
   "outputs": [
    {
     "data": {
      "application/vnd.jupyter.widget-view+json": {
       "model_id": "55a1883b8cb9420a9afef8b43e45d66b",
       "version_major": 2,
       "version_minor": 0
      },
      "text/plain": [
       "interactive(children=(IntSlider(value=10, continuous_update=False, description='x', max=5000, min=10, step=499…"
      ]
     },
     "metadata": {},
     "output_type": "display_data"
    }
   ],
   "source": [
    "def g(x=10):\n",
    "    min = 1\n",
    "    max = 2\n",
    "    Heads, Tails = 0,0\n",
    "    for i in range(x):\n",
    "        num1 = random.randint(min, max)\n",
    "        if num1 == 1:\n",
    "            Heads += 1\n",
    "        elif num1 == 2:\n",
    "            Tails += 1\n",
    "\n",
    "    plt.figure()\n",
    "    plt.bar([\"Heads\",\"Tails\"],[Heads, Tails])\n",
    "    plt.ylim(0, (x/2)*2)\n",
    "    plt.ylabel('Total')\n",
    "    plt.xlabel('Coin Value')\n",
    "    plt.show()\n",
    "\n",
    "    \n",
    "interactive_plot = interactive(g, x=widgets.IntSlider(min=10,max=5000,step=499, continuous_update=False))\n",
    "output = interactive_plot.children[-1]\n",
    "output.layout.height = '300px'\n",
    "interactive_plot"
   ]
  },
  {
   "cell_type": "code",
   "execution_count": 9,
   "metadata": {
    "scrolled": true,
    "tags": [
     "hide-input"
    ]
   },
   "outputs": [
    {
     "name": "stdout",
     "output_type": "stream",
     "text": [
      "\u001b[1ma)\u001b[0;0mNo pattern!\n",
      "\u001b[1mb)\u001b[0;0mThe 'Tails' column becomes twice as big as the 'Heads' column.\n",
      "\u001b[1mc)\u001b[0;0mThe two columns become more and more similar in height.\n",
      "\u001b[1md)\u001b[0;0m'Heads' is more likely and so its column becomes bigger.\n"
     ]
    },
    {
     "data": {
      "application/vnd.jupyter.widget-view+json": {
       "model_id": "e70c79b14ca746d48f85411fbbdb9ea1",
       "version_major": 2,
       "version_minor": 0
      },
      "text/plain": [
       "HBox(children=(Button(description='a)', style=ButtonStyle(button_color='Whitesmoke')), Button(description='b)'…"
      ]
     },
     "metadata": {},
     "output_type": "display_data"
    }
   ],
   "source": [
    "Option1 = \"The two columns become more and more similar in height.\"\n",
    "Option2 = \"No pattern!\"\n",
    "Option3 = \"The 'Tails' column becomes twice as big as the 'Heads' column.\"\n",
    "Option4 = \"'Heads' is more likely and so its column becomes bigger.\"\n",
    "\n",
    "multiple_choice(Option1, Option2, Option3, Option4)"
   ]
  },
  {
   "cell_type": "markdown",
   "metadata": {},
   "source": [
    "**Question:** *Calculate the experimental probability of the event of getting a \"Head\" on a single coin toss using your data for a large number of experiments.  What do you think the exact probability is?*"
   ]
  },
  {
   "cell_type": "markdown",
   "metadata": {},
   "source": [
    "### Independence and the Gambler's Fallacy\n",
    "\n",
    "We have seen, based on experiment, that a fair coin has probability of $\\frac{1}{2}$ of resulting in \"Heads\".\n",
    "\n",
    "**Question:** *Suppose you toss a fair coin and it comes up \"Heads\" **nine times** in a row. What is the chance that **the next toss** will also be a \"Head\"?*"
   ]
  },
  {
   "cell_type": "code",
   "execution_count": 10,
   "metadata": {
    "tags": [
     "hide-input"
    ]
   },
   "outputs": [
    {
     "name": "stdout",
     "output_type": "stream",
     "text": [
      "\u001b[1ma)\u001b[0;0m1/4 chance (25%)\n",
      "\u001b[1mb)\u001b[0;0m1/6 chance\n",
      "\u001b[1mc)\u001b[0;0m1/2 chance (50%)\n",
      "\u001b[1md)\u001b[0;0mNearly zero percent chance!\n"
     ]
    },
    {
     "data": {
      "application/vnd.jupyter.widget-view+json": {
       "model_id": "5fcf9c835658410e89a0dbbec265cf82",
       "version_major": 2,
       "version_minor": 0
      },
      "text/plain": [
       "HBox(children=(Button(description='a)', style=ButtonStyle(button_color='Whitesmoke')), Button(description='b)'…"
      ]
     },
     "metadata": {},
     "output_type": "display_data"
    }
   ],
   "source": [
    "Option1 = \"1/2 chance (50%)\"\n",
    "Option2 = \"Nearly zero percent chance!\"\n",
    "Option3 = \"1/6 chance\"\n",
    "Option4 = \"1/4 chance (25%)\"\n",
    "\n",
    "multiple_choice(Option1, Option2, Option3, Option4)"
   ]
  },
  {
   "cell_type": "markdown",
   "metadata": {},
   "source": [
    "**Note:** It is common for people to think that a Tail is \"overdue\", but the next toss of the coin is **totally independent** of any previous tosses.\n",
    "\n",
    "Saying \"a Tail is due\" is called **The Gambler's Fallacy**. Don't fall for it!"
   ]
  },
  {
   "cell_type": "markdown",
   "metadata": {},
   "source": [
    "## Calculating the Probability of Independent Events Theoretically\n",
    "\n",
    "We have seen how to estimate the probability of an event experimentally.  In many cases we can calculate an exact **theoretical probability** using the following formula:\n",
    "\n",
    "\\begin{equation}\n",
    "\\text{Probability of an event happening} = \\dfrac{\\text{Number of ways it can happen}}{\\text{Total number of possible outcomes}}\n",
    "\\end{equation}\n",
    "\n",
    "**Example:** What is the probability of getting a \"Tail\" when tossing a coin?\n",
    "\n",
    "- **Number of ways it can happen: 1** (Tail)\n",
    "- **Total number of possibly outcomes: 2** (Head and Tail)\n",
    "\n",
    "\n",
    "Therefore, the probability of getting a \"Tail\" = $\\dfrac{1}{2}=0.5$\n",
    "\n",
    "**Example:** What is the probability of getting a \"3\" or \"6\" when rolling a die?\n",
    "\n",
    "- **Number of ways it can happen: 2** (\"3\" and \"6\")\n",
    "- **Total number of possibly outcomes: 6** (\"1\", \"2\", \"3\", \"4\", \"5\", \"6\")\n",
    "\n",
    "\n",
    "Therefore, the probability = $\\dfrac{2}{6}=\\dfrac{1}{3}=0.333...$\n",
    "\n",
    "**Notes:** \n",
    "- Probabilities are often shown as a **decimal**, **fraction**, or a **percentage**. Here are **three** ways of showing the probability of flipping a \"Head\":\n",
    "\n",
    "    - As a decimal: **0.5**\n",
    "    - As a fraction: **1/2**\n",
    "    - As a percentage: **50%**\n",
    "\n",
    "\n",
    "- The **theoretical probability formula** looks similar to the **experimental formula**, but both formulas are quite different.  Using the theoretical formula, no experiment is done. We simply consider the possible outcomes and count those corresponding to the event of interest. Unlike an experimental probability, we will always get the **exact same answer** when we calculate the theoretical probability! *The theoretical probability is the true probability*.  Experimental probabilities *approximate* the true probability. The approximations improve as the number of experiments ($x$) is increased."
   ]
  },
  {
   "cell_type": "markdown",
   "metadata": {},
   "source": [
    "### Review Questions\n",
    "\n",
    "*What is the probability of getting a \"3\" or \"5\" when rolling a die?*"
   ]
  },
  {
   "cell_type": "code",
   "execution_count": 11,
   "metadata": {
    "tags": [
     "hide-input"
    ]
   },
   "outputs": [
    {
     "name": "stdout",
     "output_type": "stream",
     "text": [
      "\u001b[1ma)\u001b[0;0mProbability = 3/6 or 5/6\n",
      "\u001b[1mb)\u001b[0;0mProbability = 1/6\n",
      "\u001b[1mc)\u001b[0;0mProbability = 1\n",
      "\u001b[1md)\u001b[0;0mProbability = 1/3\n"
     ]
    },
    {
     "data": {
      "application/vnd.jupyter.widget-view+json": {
       "model_id": "832f8edfbbed439b9590b6295a4180d7",
       "version_major": 2,
       "version_minor": 0
      },
      "text/plain": [
       "HBox(children=(Button(description='a)', style=ButtonStyle(button_color='Whitesmoke')), Button(description='b)'…"
      ]
     },
     "metadata": {},
     "output_type": "display_data"
    }
   ],
   "source": [
    "Option1 = \"Probability = 1/3\"\n",
    "Option2 = \"Probability = 1/6\"\n",
    "Option3 = \"Probability = 1\"\n",
    "Option4 = \"Probability = 3/6 or 5/6\"\n",
    "\n",
    "multiple_choice(Option1, Option2, Option3, Option4)"
   ]
  },
  {
   "cell_type": "markdown",
   "metadata": {},
   "source": [
    "*What is the probability of getting a \"1\", \"2\", or \"3\" when rolling a die?*"
   ]
  },
  {
   "cell_type": "code",
   "execution_count": 12,
   "metadata": {
    "tags": [
     "hide-input"
    ]
   },
   "outputs": [
    {
     "name": "stdout",
     "output_type": "stream",
     "text": [
      "\u001b[1ma)\u001b[0;0mProbability = 0\n",
      "\u001b[1mb)\u001b[0;0mProbability = 3/6 or 1/2\n",
      "\u001b[1mc)\u001b[0;0mProbability = 1/3\n",
      "\u001b[1md)\u001b[0;0mProbability = 1/6\n"
     ]
    },
    {
     "data": {
      "application/vnd.jupyter.widget-view+json": {
       "model_id": "b6599b79fe214f87a7d6b9594f686f76",
       "version_major": 2,
       "version_minor": 0
      },
      "text/plain": [
       "HBox(children=(Button(description='a)', style=ButtonStyle(button_color='Whitesmoke')), Button(description='b)'…"
      ]
     },
     "metadata": {},
     "output_type": "display_data"
    }
   ],
   "source": [
    "Option1 = \"Probability = 3/6 or 1/2\"\n",
    "Option2 = \"Probability = 1/6\"\n",
    "Option3 = \"Probability = 1/3\"\n",
    "Option4 = \"Probability = 0\"\n",
    "\n",
    "multiple_choice(Option1, Option2, Option3, Option4)"
   ]
  },
  {
   "cell_type": "markdown",
   "metadata": {},
   "source": [
    "## The Probability of Multiple Independent Events\n",
    "\n",
    "What if we wish to compute the probability of **multiple** independent events happening? For example, what is the probability of getting **three \"Heads\" in a row**?  Or, equivalently, if we **flip three coins**, what is the probability of getting exactly **three \"Heads\"**?\n",
    "\n",
    "The following chart does the experiment of flipping three coins $x$ times and keeps track of the number of times ($n$) that three \"Heads\" occurs."
   ]
  },
  {
   "cell_type": "code",
   "execution_count": 13,
   "metadata": {
    "tags": [
     "hide-input"
    ]
   },
   "outputs": [
    {
     "data": {
      "application/vnd.jupyter.widget-view+json": {
       "model_id": "a0a25abd1cf84dfc93f1a0201d145784",
       "version_major": 2,
       "version_minor": 0
      },
      "text/plain": [
       "interactive(children=(IntSlider(value=1000, continuous_update=False, description='x', max=100000, min=1000, st…"
      ]
     },
     "metadata": {},
     "output_type": "display_data"
    }
   ],
   "source": [
    "repeated_heads = 3\n",
    "\n",
    "def h(n):\n",
    "    sum1 = 0\n",
    "    for i in range(n):\n",
    "        num = random.randint(0,1)\n",
    "        sum1 += num\n",
    "    \n",
    "    if sum1 == n:\n",
    "        return True\n",
    "    else:\n",
    "        return False\n",
    "\n",
    "def a(x=1000):\n",
    "    good = 0\n",
    "    bad = 0\n",
    "    for j in range(x):\n",
    "        y = h(repeated_heads)\n",
    "        if y == True:\n",
    "            good += 1\n",
    "        else:\n",
    "            bad += 1\n",
    "    \n",
    "    plt.figure()\n",
    "    plt.bar([\"Total Tosses\",\"3 Heads in a Row\"],[bad+good, good])\n",
    "    plt.ylim(0, x + 10000)\n",
    "    plt.ylabel('Total number of occurrences ($n$)')\n",
    "    plt.xlabel('')\n",
    "    plt.show()\n",
    "    #print(\"After flipping a coin three times for \" + str(x) + \" iterations, the probability of getting three heads in a row can be approximated as: (Number of 3 Heads in a row) / (Total number of trials) = \", str(good) + \"/\" + str(good+bad) + \" =\", round(good/(good+bad), 5))\n",
    "    print(\"After flipping three coins \" + str(x) + \" times, the probability of getting three heads is experimentally:\\n (Number of times 3 Heads occurs) / (Total number of trials) = n/x =\", str(good) + \"/\" + str(good+bad) + \" =\", round(good/(good+bad), 5))\n",
    "\n",
    "\n",
    "interactive_plot = interactive(a, x=widgets.IntSlider(min=1000,max=100000,step=9900, continuous_update=False))\n",
    "output = interactive_plot.children[-1]\n",
    "output.layout.height = '300px'\n",
    "interactive_plot"
   ]
  },
  {
   "cell_type": "markdown",
   "metadata": {},
   "source": [
    "### Review Question\n",
    "\n",
    "*As you move the slider to the right, what theoretical probability do your experimental results approach?*"
   ]
  },
  {
   "cell_type": "code",
   "execution_count": 14,
   "metadata": {
    "tags": [
     "hide-input"
    ]
   },
   "outputs": [
    {
     "name": "stdout",
     "output_type": "stream",
     "text": [
      "\u001b[1ma)\u001b[0;0m0.25\n",
      "\u001b[1mb)\u001b[0;0m0.125\n",
      "\u001b[1mc)\u001b[0;0m0.5\n",
      "\u001b[1md)\u001b[0;0m1.5\n"
     ]
    },
    {
     "data": {
      "application/vnd.jupyter.widget-view+json": {
       "model_id": "4a50fe04c72b4ddab564d12dd0d2a069",
       "version_major": 2,
       "version_minor": 0
      },
      "text/plain": [
       "HBox(children=(Button(description='a)', style=ButtonStyle(button_color='Whitesmoke')), Button(description='b)'…"
      ]
     },
     "metadata": {},
     "output_type": "display_data"
    }
   ],
   "source": [
    "Option1 = \"0.125\"\n",
    "Option2 = \"0.5\"\n",
    "Option3 = \"1.5\"\n",
    "Option4 = \"0.25\"\n",
    "\n",
    "multiple_choice(Option1, Option2, Option3, Option4)"
   ]
  },
  {
   "cell_type": "markdown",
   "metadata": {},
   "source": [
    "### Computing Multiple Independent Event Probabilities Theoretically\n",
    "\n",
    "**Question:** How do we quickly compute the theoretical probability of getting three Heads on a flip of three coins?\n",
    "\n",
    "**Answer:** We can calculate the chances of two or more **independent** events by **multiplying** the chances. For each toss of a coin, a \"Head\" has a probability of 0.5. And so the chance of getting **three Heads in a row is**: \n",
    "\n",
    "\\begin{equation}\n",
    "0.5 \\times 0.5 \\times 0.5 = \\boldsymbol{0.125}\n",
    "\\end{equation}\n",
    "\n",
    "<img style=\"float: center;\" src=\"Images/TREEFINAL.svg\" width=\"50%\">\n",
    "\n",
    "Another way of seeing this is to write out all of the possibilities. We call this the *sample space* of the random trial. In this example, the random trial is flipping three coins. Below is this sample space:\n",
    "\n",
    "<img style=\"float: center;\" src=\"Images/SampleSpace.svg\" width=\"50%\">\n",
    "\n",
    "Observe that only **one** of the **eight** possibilities is \"HHH\". Hence, the probability of getting three Heads on a flip of three coins is **1/8 = 0.125**."
   ]
  },
  {
   "cell_type": "markdown",
   "metadata": {},
   "source": [
    "**Notes:** \n",
    "- If you multiply probabilities in this way you must express them in decimal form first, not as percents!  If you want to express the final result as a percent, you can convert it to a percent by multiplying by 100%. Here for example, 0.125 becomes 12.5%.\n",
    "- Computing multiple independent events theoretically in this manner (through multiplication) requires that each outcome is **equally likely**."
   ]
  },
  {
   "cell_type": "markdown",
   "metadata": {},
   "source": [
    "### Review Questions\n",
    "\n",
    "*What is the probability of 7 heads in a row? (Hint: use a calculator).*"
   ]
  },
  {
   "cell_type": "code",
   "execution_count": 15,
   "metadata": {
    "tags": [
     "hide-input"
    ]
   },
   "outputs": [
    {
     "name": "stdout",
     "output_type": "stream",
     "text": [
      "\u001b[1ma)\u001b[0;0m0.0078125\n",
      "\u001b[1mb)\u001b[0;0m0.03125\n",
      "\u001b[1mc)\u001b[0;0m0.015625\n",
      "\u001b[1md)\u001b[0;0m0.5\n"
     ]
    },
    {
     "data": {
      "application/vnd.jupyter.widget-view+json": {
       "model_id": "25f02951fc2e42049e524208cceb7477",
       "version_major": 2,
       "version_minor": 0
      },
      "text/plain": [
       "HBox(children=(Button(description='a)', style=ButtonStyle(button_color='Whitesmoke')), Button(description='b)'…"
      ]
     },
     "metadata": {},
     "output_type": "display_data"
    }
   ],
   "source": [
    "Option1 = \"0.0078125\"\n",
    "Option2 = \"0.03125\"\n",
    "Option3 = \"0.015625\"\n",
    "Option4 = \"0.5\"\n",
    "\n",
    "multiple_choice(Option1, Option2, Option3, Option4)"
   ]
  },
  {
   "cell_type": "markdown",
   "metadata": {},
   "source": [
    "*Given that **we have just got 6 heads in a row**, what is the probability that **the next toss** is also a head?  Or equivalently, suppose we **flip 7 coins** and find that the **first six are heads**, what is the probability the last coin is a **head**? *"
   ]
  },
  {
   "cell_type": "code",
   "execution_count": 16,
   "metadata": {
    "tags": [
     "hide-input"
    ]
   },
   "outputs": [
    {
     "name": "stdout",
     "output_type": "stream",
     "text": [
      "\u001b[1ma)\u001b[0;0m0.015625\n",
      "\u001b[1mb)\u001b[0;0m0.5\n",
      "\u001b[1mc)\u001b[0;0m0.0078125\n",
      "\u001b[1md)\u001b[0;0m0.03125\n"
     ]
    },
    {
     "data": {
      "application/vnd.jupyter.widget-view+json": {
       "model_id": "a79587ed24594d6cbbad857d503f02ab",
       "version_major": 2,
       "version_minor": 0
      },
      "text/plain": [
       "HBox(children=(Button(description='a)', style=ButtonStyle(button_color='Whitesmoke')), Button(description='b)'…"
      ]
     },
     "metadata": {},
     "output_type": "display_data"
    }
   ],
   "source": [
    "Option1 = \"0.5\"\n",
    "Option2 = \"0.03125\"\n",
    "Option3 = \"0.015625\"\n",
    "Option4 = \"0.0078125\"\n",
    "\n",
    "multiple_choice(Option1, Option2, Option3, Option4)"
   ]
  },
  {
   "cell_type": "markdown",
   "metadata": {},
   "source": [
    "### A Cleaner Notation\n",
    "\n",
    "Typically, we use \"P\" to mean \"Probability Of\". For Independent Events, we have\n",
    "\n",
    "\\begin{equation}\n",
    "    \\text{P(A and B) = P(A)} \\times \\text{P(B)}\n",
    "\\end{equation}\n",
    "\n",
    "So we denote \"the probability of getting 2 heads in a row\" by\n",
    "\n",
    "\\begin{equation}\n",
    "    \\text{P(Heads and Heads) = P(Heads)} \\times \\text{P(Heads) = 0.5} \\times \\text{0.5 = 0.25}. \n",
    "\\end{equation}"
   ]
  },
  {
   "cell_type": "markdown",
   "metadata": {},
   "source": [
    "### Review Questions\n",
    "\n",
    "*How would you denote: \"the probability of rolling a \"1\" twice in a row and then rolling a \"5\" on a die\"? Or equivalently when rolling three dice that the first two are \"1\" and the last one is a \"5\"?*"
   ]
  },
  {
   "cell_type": "code",
   "execution_count": 17,
   "metadata": {
    "tags": [
     "hide-input"
    ]
   },
   "outputs": [
    {
     "name": "stdout",
     "output_type": "stream",
     "text": [
      "\u001b[1ma)\u001b[0;0mP('1' and '1' or '5')\n",
      "\u001b[1mb)\u001b[0;0mP('1' and '1' and '5')\n",
      "\u001b[1mc)\u001b[0;0mP('1' and '5')\n",
      "\u001b[1md)\u001b[0;0mP('1')P('5')\n"
     ]
    },
    {
     "data": {
      "application/vnd.jupyter.widget-view+json": {
       "model_id": "c02ac0fe865e4aab887f50a50fd10b2b",
       "version_major": 2,
       "version_minor": 0
      },
      "text/plain": [
       "HBox(children=(Button(description='a)', style=ButtonStyle(button_color='Whitesmoke')), Button(description='b)'…"
      ]
     },
     "metadata": {},
     "output_type": "display_data"
    }
   ],
   "source": [
    "Option1 = \"P('1' and '1' and '5')\"\n",
    "Option2 = \"P('1' and '5')\"\n",
    "Option3 = \"P('1')P('5')\"\n",
    "Option4 = \"P('1' and '1' or '5')\"\n",
    "\n",
    "multiple_choice(Option1, Option2, Option3, Option4)"
   ]
  },
  {
   "cell_type": "markdown",
   "metadata": {},
   "source": [
    "*For a coin, let H = \"Heads\" and T = \"Tails\". What is P(H and T and T and H)? Input your exact decimal answer in the textbox bellow.*"
   ]
  },
  {
   "cell_type": "code",
   "execution_count": 18,
   "metadata": {
    "scrolled": true,
    "tags": [
     "hide-input"
    ]
   },
   "outputs": [
    {
     "data": {
      "application/vnd.jupyter.widget-view+json": {
       "model_id": "86fe71c8e63549138f8af2ec82bcbd0b",
       "version_major": 2,
       "version_minor": 0
      },
      "text/plain": [
       "Text(value='', description='Probability =', placeholder='Type probability (decimal)')"
      ]
     },
     "metadata": {},
     "output_type": "display_data"
    }
   ],
   "source": [
    "text = widgets.Text(\n",
    "    value='',\n",
    "    placeholder='Type probability (decimal)',\n",
    "    description=\"Probability =\",\n",
    "    disabled=False\n",
    ")\n",
    "\n",
    "button = widgets.Button(description=\"Hint\")\n",
    "hint = [widgets.Label(\"P(H and T and T and H) = P(H) \\u00D7 P(T) \\u00D7 P(T) \\u00D7 P(H). Recall that P(H) = P(T)=0.5\")]\n",
    "display(text)\n",
    "\n",
    "def on_button_clicked(b):\n",
    "    widgets.Box(hint)\n",
    "    #print(\"P(H and T and T and H) = P(H) \\u00D7 P(T) \\u00D7 P(T) \\u00D7 P(H). Recall that P(H) = P(T)=0.5\")\n",
    "    \n",
    "            \n",
    "def callback(wdgt):\n",
    "    if (wdgt.value == \"0.0625\") or (wdgt.value == \".0625\") or (wdgt.value == \"1/16\"):\n",
    "        print(\"Correct! 👏                                                                                                    \", end='\\r')\n",
    "        text.on_submit(callback)\n",
    "    else:\n",
    "        print(\"Try again! Hint: P(H and T and T and H) = P(H) \\u00D7 P(T) \\u00D7 P(T) \\u00D7 P(H). Recall that P(H) = P(T) = 0.5\", end='\\r')\n",
    "        text.on_submit(callback)\n",
    "        #display(button)\n",
    "        #button.on_click(on_button_clicked)\n",
    "\n",
    "text.on_submit(callback)"
   ]
  },
  {
   "cell_type": "markdown",
   "metadata": {},
   "source": [
    "## Application Example\n",
    "\n",
    "Suppose we have two groups:\n",
    "- A member of each group gets randomly chosen for the winners' circle\n",
    "- Then, one of those gets randomly chosen to get the grand prize.\n",
    "\n",
    "**Question:** *What is your chance of winning the grand prize if:*\n",
    "- *there is a **1/5 chance** of going to the winners' circle, and*\n",
    "- *there is a **1/2** chance of winning the big prize?*\n",
    "\n",
    "<img style=\"float: center;\" src=\"Images/Lottery.svg\" width=\"55%\">"
   ]
  },
  {
   "cell_type": "code",
   "execution_count": 19,
   "metadata": {
    "tags": [
     "hide-input"
    ]
   },
   "outputs": [
    {
     "data": {
      "application/vnd.jupyter.widget-view+json": {
       "model_id": "6579e50656e84c9f9a315e5515b4d9ed",
       "version_major": 2,
       "version_minor": 0
      },
      "text/plain": [
       "Text(value='', description='Probability =', placeholder='Type probability (decimal)')"
      ]
     },
     "metadata": {},
     "output_type": "display_data"
    }
   ],
   "source": [
    "text2 = widgets.Text(\n",
    "    value='',\n",
    "    placeholder='Type probability (decimal)',\n",
    "    description=\"Probability =\",\n",
    "    disabled=False\n",
    ")\n",
    "\n",
    "\n",
    "display(text2)\n",
    "\n",
    "           \n",
    "def callback2(wdgt):\n",
    "    if (wdgt.value == \"0.1\") or (wdgt.value == \".1\") or (wdgt.value == \"1/10\"):\n",
    "        print(\"Correct! 👏                                                                \", end='\\r')\n",
    "        text2.on_submit(callback2)\n",
    "    else:\n",
    "        print(\"Try again! Hint: You have a 1/5 chance followed by a 1/2 chance of winning.\", end='\\r')\n",
    "        text2.on_submit(callback2)\n",
    "\n",
    "text2.on_submit(callback2)\n",
    "\n"
   ]
  },
  {
   "cell_type": "markdown",
   "metadata": {},
   "source": [
    "## Conclusion\n",
    "\n",
    "- Experimental Probability = (Number of occurrences of event)/(Number of experiments done)\n",
    "- Theoretical Probability = (Number of ways event can happen)/(Total number of possible outcomes)\n",
    "- Dependent events (removing cards from a deck of cards) are affected by **previous events**\n",
    "- Independent events (such as rolling a die) are **not** affected by previous events\n",
    "- Calculate the probability of 2 or more **independent** events by **multiplying**"
   ]
  },
  {
   "cell_type": "markdown",
   "metadata": {},
   "source": [
    "[![Callysto.ca License](https://github.com/callysto/curriculum-notebooks/blob/master/callysto-notebook-banner-bottom.jpg?raw=true)](https://github.com/callysto/curriculum-notebooks/blob/master/LICENSE.md)"
   ]
  }
 ],
 "metadata": {
  "celltoolbar": "Edit Metadata",
  "kernelspec": {
   "display_name": "Python 3",
   "language": "python",
   "name": "python3"
  },
  "language_info": {
   "codemirror_mode": {
    "name": "ipython",
    "version": 3
   },
   "file_extension": ".py",
   "mimetype": "text/x-python",
   "name": "python",
   "nbconvert_exporter": "python",
   "pygments_lexer": "ipython3",
   "version": "3.7.4"
  }
 },
 "nbformat": 4,
 "nbformat_minor": 2
}

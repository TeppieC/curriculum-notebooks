{
 "cells": [
  {
   "cell_type": "code",
   "execution_count": 1,
   "metadata": {},
   "outputs": [
    {
     "data": {
      "text/html": [
       "<script>\n",
       "  function code_toggle() {\n",
       "    if (code_shown){\n",
       "      $('div.input').hide('500');\n",
       "      $('#toggleButton').val('Show Code')\n",
       "    } else {\n",
       "      $('div.input').show('500');\n",
       "      $('#toggleButton').val('Hide Code')\n",
       "    }\n",
       "    code_shown = !code_shown\n",
       "  }\n",
       "  \n",
       "  $( document ).ready(function(){\n",
       "    code_shown=false;\n",
       "    $('div.input').hide()\n",
       "  });\n",
       "</script>\n",
       "<form action=\"javascript:code_toggle()\"><input type=\"submit\" id=\"toggleButton\" value=\"Show Code\"></form>"
      ],
      "text/plain": [
       "<IPython.core.display.HTML object>"
      ]
     },
     "execution_count": 1,
     "metadata": {},
     "output_type": "execute_result"
    }
   ],
   "source": [
    "from IPython.display import display, Math, Latex, HTML, clear_output, Markdown\n",
    "import numpy as np\n",
    "import matplotlib.pyplot as plt\n",
    "from numpy import sqrt as sqrt\n",
    "import ipywidgets as widgets\n",
    "from ipywidgets import interact, interactive\n",
    "\n",
    "%matplotlib inline\n",
    "\n",
    "\n",
    "'''Above, we are importing all the necessary modules in order to run the notebook. \n",
    "Numpy allows us to define arrays of values for our variables to plot them\n",
    "matplotlib is what we use to create the figures\n",
    "the display and widgets are to make the notebook look neat\n",
    "'''\n",
    "\n",
    "HTML('''<script>\n",
    "  function code_toggle() {\n",
    "    if (code_shown){\n",
    "      $('div.input').hide('500');\n",
    "      $('#toggleButton').val('Show Code')\n",
    "    } else {\n",
    "      $('div.input').show('500');\n",
    "      $('#toggleButton').val('Hide Code')\n",
    "    }\n",
    "    code_shown = !code_shown\n",
    "  }\n",
    "  \n",
    "  $( document ).ready(function(){\n",
    "    code_shown=false;\n",
    "    $('div.input').hide()\n",
    "  });\n",
    "</script>\n",
    "<form action=\"javascript:code_toggle()\"><input type=\"submit\" id=\"toggleButton\" value=\"Show Code\"></form>''')"
   ]
  },
  {
   "cell_type": "markdown",
   "metadata": {},
   "source": [
    "# Introduction\n",
    "This notebook will cover the basics of analyzing and graphing radical functions. Specifically we will look closely at the square root function, which is the most common type, as well as other forms of radical functions. The most important aspect of radical functions is to understand where the function *exists*, which is often called the *domain of existence* and this will be explored further as you go through the notebook. Looking at rational functions will incorporate aspects of intervals and inequalities, as well as finding the roots of quadratic equations."
   ]
  },
  {
   "cell_type": "markdown",
   "metadata": {},
   "source": [
    "![spiral](Spiral_gif.gif)"
   ]
  },
  {
   "cell_type": "markdown",
   "metadata": {},
   "source": [
    "# Background\n",
    "\n",
    "## Radical Functions\n",
    "\n",
    "Radical functions are defined as any function that is contained within a \"radical\", which simply tells us that some \n",
    "function $f(x)$ is contained within a fractional exponent. This can be written as\n",
    "$f(g(x)) = g(x)^{\\frac{1}{n}}$\n",
    "where $n$ will be an integer for the following exercises. So what does $g(x)$ look like? Well it can take on any form! Let's look at a few examples for different $g(x)$ functions.\n",
    "1. $g(x) = x$ $\\ \\ $ $\\color{red}\\rightarrow$ $\\ \\ $ $f(g(x)) = x^{\\frac{1}{n}}$\n",
    "2. $g(x) = x^2 + 2x$ $\\ \\ $ $\\color{red}\\rightarrow$ $\\ \\ $ $f(g(x)) = (x^2 + 2x)^{\\frac{1}{n}}$\n",
    "3. $g(x) = \\frac{x^3 - 9x + 3}{2x - 1}$ $\\ \\ $  $\\color{red}\\rightarrow$ $\\ \\ $  $f(g(x)) = \\Big(\\frac{x^3 - 9x + 3}{2x - 1}\\Big)^{\\frac{1}{n}}$\n",
    "\n",
    "\n",
    "Of course, the most common type of radical function and the one you have likely encountered the most often, is the square root function $\\sqrt{x}$. This is equivalent to writing $x^{\\frac{1}{2}}$. So if we wanted to obtain the *square root* of some \n",
    "function $f(x)$, this is done so by simply doing \n",
    "\n",
    "$\\big[ \\ f(x) \\ \\big]^{\\frac{1}{2}} = \\sqrt{f(x)}$\n",
    "\n",
    "Now, if we think about root finding, understanding how radicals work is an important step to finding where a function\n",
    "$f(x) = 0$. If we look at only quadratic functions of the form\n",
    "\n",
    "$f(x) = ax^2 + bx + c$\n",
    "\n",
    "there are many cases where the roots of this function can be found immediately by taking the square root. However, remember that when you take the square root of a single value, such as $4$, we get the result of \n",
    "\n",
    "$\\sqrt{4} = \\pm \\ 2$\n",
    "\n",
    "where either positive ($+$) or negative ($-$) $2$ can be squared to produce a value of $4$. This exact same principle applies when dealing with functions. For example let's look at the function $f(x) = x^2$ graphically.\n",
    "\n",
    "*Press the shift key and the enter key at the same time to run the cell below this one, or click on the cell and press Run in the toolbar.*"
   ]
  },
  {
   "cell_type": "code",
   "execution_count": 2,
   "metadata": {},
   "outputs": [
    {
     "data": {
      "image/png": "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\n",
      "text/plain": [
       "<matplotlib.figure.Figure at 0x7f32b6075240>"
      ]
     },
     "metadata": {},
     "output_type": "display_data"
    }
   ],
   "source": [
    "# function to be plotted\n",
    "x = np.linspace(-10,10,100) \n",
    "fx = x**2.\n",
    "\n",
    "# plot showing f(x) = x^2 with (2,4) and (-2,4) plotted points to show +/- result for square roots.\n",
    "plt.figure(1,figsize = (10,7))\n",
    "hold = True\n",
    "ticks = np.arange(-5,6)\n",
    "plt.plot(x,fx,'r-',label = r'$f(x) = x^2$')\n",
    "plt.plot([-10,10],[0,0],'k-',alpha = 1,linewidth = 1)\n",
    "plt.plot([0,0],[-10,15],'k-',alpha = 1,linewidth = 1)\n",
    "plt.plot(2,4,'k.',markersize = 10)\n",
    "plt.plot(-2,4,'k.', markersize = 10)\n",
    "plt.grid(alpha = 0.7)\n",
    "plt.legend(loc = 'lower right',fontsize = 13)\n",
    "plt.xticks(ticks)\n",
    "plt.ylim([-2,15])\n",
    "plt.xlim([-5,5])\n",
    "plt.show()\n",
    "\n"
   ]
  },
  {
   "cell_type": "markdown",
   "metadata": {},
   "source": [
    "As you can see, at both $x=2$ and $x = -2$ our function equals $4$, which is marked with the black dots. If you were to take the square root of this function $f(x) = x^2$ you could write it as the following\n",
    "\n",
    "$\\sqrt{f(x)} = \\sqrt{x^2} = (x^{2})^{\\frac{1}{2}}$\n",
    "\n",
    "where you may be tempted to write the final answer like this \n",
    "\n",
    "$\\sqrt{x^2} = \\pm \\ x$\n",
    "\n",
    "This would follow the same formatting as we had for a single value like $4$ but when taking the square root of a function, $\\pm$ doesn't actually tell you what is happening in this scenario. Instead we write it as \n",
    "\n",
    "$\\sqrt{x^2} = \\lvert x \\rvert$ \n",
    "\n",
    "where $\\lvert x \\rvert$ is defined as the **absolute value** function. A formal definition of this would be\n",
    "\n",
    "$\\lvert x\\rvert = \\begin{cases}x , & \\text{if } x\\geq 0 \\\\ -(x),& \\text{if }x<0\\end{cases}$\n",
    "\n",
    "> ## **Note**\n",
    "In our second line that states $\\lvert x \\rvert = -(x)$ for $x<0$, this simply means that for any **negative** value of x, we substitue that value into x and see that a double negative arises, thus resulting in a **positive** value. For example: $\\lvert -2 \\rvert = -(-2) = 2$. This is true for all negative values inside the absolute value function.\n",
    "***\n",
    "\n",
    "So now that the absolute value function has been reintroduced, we can move on to finding the roots of some quadratic functions. Remember that the root of a function is simply where $f(x) = 0$. In our initial example where $f(x) = x^2$, it can be proven quite quickly by inspection of our graphic that the function has a root at $x = 0$. However, if we were to find this function's root more rigoursly you would follow these steps.\n",
    "\n",
    "1. Set f(x) equal to 0 $\\color{red}\\rightarrow$ $x^2 = 0$\n",
    "2. Take the square root of **both** sides $\\color{red}\\rightarrow$ $\\lvert x \\rvert = 0$\n",
    "3. Solve the expression for the positive case of the absolute value function $\\color{red}\\rightarrow$ this is trivial in this case as it is clear $x = 0$ is the only solution\n",
    "\n",
    "> ## **Note**\n",
    "For step 3 we only look at the **positive** case of the absolute function because in our formal definiton that is the condition where $x$ is defined at 0. This is of course what is needed to solve for the root.\n",
    "***\n",
    "\n",
    "How about a less trivial example? Let's look at the function $h(x) = x^2 - 10x + 25$. If you can, take a moment to try\n",
    "and factor this by hand. You should end up with an expression that looks like $(x-a)^2$, where $a$ is an integer value. To check your answer, click on the button below.\n",
    "\n",
    "*Press the shift key and the enter key at the same time to run the cell below this one, or click on the cell and press Run in the toolbar.*"
   ]
  },
  {
   "cell_type": "code",
   "execution_count": 3,
   "metadata": {
    "scrolled": true
   },
   "outputs": [
    {
     "data": {
      "application/vnd.jupyter.widget-view+json": {
       "model_id": "192113c26fc84cdcb8abd09766b00e27",
       "version_major": 2,
       "version_minor": 0
      },
      "text/html": [
       "<p>Failed to display Jupyter Widget of type <code>Button</code>.</p>\n",
       "<p>\n",
       "  If you're reading this message in the Jupyter Notebook or JupyterLab Notebook, it may mean\n",
       "  that the widgets JavaScript is still loading. If this message persists, it\n",
       "  likely means that the widgets JavaScript library is either not installed or\n",
       "  not enabled. See the <a href=\"https://ipywidgets.readthedocs.io/en/stable/user_install.html\">Jupyter\n",
       "  Widgets Documentation</a> for setup instructions.\n",
       "</p>\n",
       "<p>\n",
       "  If you're reading this message in another frontend (for example, a static\n",
       "  rendering on GitHub or <a href=\"https://nbviewer.jupyter.org/\">NBViewer</a>),\n",
       "  it may mean that your frontend doesn't currently support widgets.\n",
       "</p>\n"
      ],
      "text/plain": [
       "Button(description='Show answer', style=ButtonStyle())"
      ]
     },
     "metadata": {},
     "output_type": "display_data"
    },
    {
     "data": {
      "text/latex": [
       "$$x^2 - 10x + 25 = (x-5)^2$$"
      ],
      "text/plain": [
       "<IPython.core.display.Math object>"
      ]
     },
     "metadata": {},
     "output_type": "display_data"
    }
   ],
   "source": [
    "# construction of button to provide factored polynomial result\n",
    "button = widgets.Button(description=\"Show answer\")\n",
    "display(button)\n",
    "\n",
    "def on_button_clicked(a):\n",
    "    display(Math('x^2 - 10x + 25 = (x-5)^2'))\n",
    "\n",
    "button.on_click(on_button_clicked)\n"
   ]
  },
  {
   "cell_type": "markdown",
   "metadata": {},
   "source": [
    "This is in the same form as our last example where now $(x-5)$ is all squared. Therefore we can follow the exact same steps as before.\n",
    "1. $\\sqrt{(x-5)^2} = 0$\n",
    "2. $\\lvert(x-5)\\rvert = 0$\n",
    "3. Positive case: $x-5 = 0$ $\\color{red}\\rightarrow$ $x=5$\n",
    "\n",
    "\n",
    "We've found the root! It is important to note that functions of the form $f(x) = (ax-b)^2$ only have **1** real root, which can be found by inspection graphically or by applying the method we just saw. \n",
    "\n",
    "So what would all these operations look like graphically? This is a good opportunity to practice making graphs of mathematical functions in python. First off let's look at our original functions $f(x)$ and $h(x)$ graphically where $x \\in [-5,10]$ (in case you've forgotten or don't know, the $\\in$ symbol indicates that we are looking at value of $x$ **only** between $-5$ and $10$).\n",
    "\n",
    "*Press the shift key and the enter key at the same time to run the cell below this one, or click on the cell and press Run in the toolbar.*"
   ]
  },
  {
   "cell_type": "code",
   "execution_count": 4,
   "metadata": {},
   "outputs": [
    {
     "data": {
      "image/png": "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\n",
      "text/plain": [
       "<matplotlib.figure.Figure at 0x7f32b3df9710>"
      ]
     },
     "metadata": {},
     "output_type": "display_data"
    }
   ],
   "source": [
    "# functions to be plotted\n",
    "x = np.linspace(-10,10,1000)\n",
    "fx = x**2.\n",
    "gx = (x-5)**2.\n",
    "\n",
    "# plot showing f(x) and g(x)\n",
    "plt.figure(1,figsize = (10,7))\n",
    "hold = True\n",
    "plt.plot(x,fx,'r-',label = r'$f(x) = x^2$')\n",
    "plt.plot(x,gx,'b-',label = r'$g(x) = (x-5)^2$')\n",
    "plt.plot([-10,10],[0,0],'k-',alpha = 1,linewidth = 1)\n",
    "plt.plot([0,0],[-10,10],'k-',alpha = 1,linewidth = 1)\n",
    "plt.grid(alpha = 0.7)\n",
    "plt.legend(loc = 'lower right',fontsize = 13)\n",
    "plt.xticks(np.arange(-5,11))\n",
    "plt.ylim([-2,5])\n",
    "plt.xlim([-5,10])\n",
    "plt.show()"
   ]
  },
  {
   "cell_type": "markdown",
   "metadata": {},
   "source": [
    "As we found earlier $f(x)$ and $h(x)$ are simply parabolas with roots at $x = 0$ and $x = 5$ respectively. The next step will be to take the square root of our functions and check what that looks like. This time, you will input the required code for the functions, so that you become familiar with the process. In order to do this, here's a quick overview of how you type mathematical symbols.\n",
    "\n",
    "- $+$ and $-$ are simply typed as you see here\n",
    "- to do multiplication ($\\times$) you must type this symbol with an asterisk ($^{*}$)\n",
    "- to do division ($\\div$) you must type this symbol with a forwards slash (/)\n",
    "- to do an exponent $x^{n}$ you must type this as $x^{**}n$\n",
    "\n",
    "*Press the shift key and the enter key at the same time to run the cell below this one, or click on the cell and press Run in the toolbar.*"
   ]
  },
  {
   "cell_type": "code",
   "execution_count": 5,
   "metadata": {},
   "outputs": [
    {
     "data": {
      "text/latex": [
       "Please type in the box: sqrt(x**2)"
      ],
      "text/plain": [
       "<IPython.core.display.Latex object>"
      ]
     },
     "metadata": {},
     "output_type": "display_data"
    },
    {
     "name": "stdout",
     "output_type": "stream",
     "text": [
      "sqrt(x**2)\n"
     ]
    },
    {
     "data": {
      "text/latex": [
       "Now using the same syntax, type out how you think you would enter the square root of $h(x) = (x-5)^2.$ Remember to include brackets."
      ],
      "text/plain": [
       "<IPython.core.display.Latex object>"
      ]
     },
     "metadata": {},
     "output_type": "display_data"
    },
    {
     "name": "stdout",
     "output_type": "stream",
     "text": [
      "sqrt(x-5**2)\n"
     ]
    },
    {
     "data": {
      "text/latex": [
       "Not quite right, try again."
      ],
      "text/plain": [
       "<IPython.core.display.Latex object>"
      ]
     },
     "metadata": {},
     "output_type": "display_data"
    },
    {
     "name": "stdout",
     "output_type": "stream",
     "text": [
      "sqrt((x-5)**2)\n"
     ]
    },
    {
     "data": {
      "text/latex": [
       "Very good!"
      ],
      "text/plain": [
       "<IPython.core.display.Latex object>"
      ]
     },
     "metadata": {},
     "output_type": "display_data"
    },
    {
     "data": {
      "image/png": "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\n",
      "text/plain": [
       "<matplotlib.figure.Figure at 0x7f32b3d7bcf8>"
      ]
     },
     "metadata": {},
     "output_type": "display_data"
    }
   ],
   "source": [
    "x = np.linspace(-10,10,1000)\n",
    "b = False\n",
    "display(Latex(\"Please type in the box: sqrt(x**2)\"))\n",
    "\n",
    "# convert string to executed code\n",
    "fx = eval(input())\n",
    "display(Latex(\"Now using the same syntax, type out how you think you would enter the square root of $h(x) = (x-5)^2.$ Remember to include brackets.\"))\n",
    "\n",
    "# keep presenting input box until the student inputs the appropriate syntax\n",
    "while b is False:\n",
    "    gx = input()\n",
    "    if gx == 'sqrt((x-5)**2)':\n",
    "        gx = eval(gx)\n",
    "        b = True\n",
    "        display(Latex(\"Very good!\"))\n",
    "    else:   \n",
    "        display(Latex(\"Not quite right, try again.\"))\n",
    "    \n",
    "# plot the absolute value functions of both f(x) and g(x)\n",
    "plt.figure(1,figsize = (10,7))\n",
    "hold = True\n",
    "plt.plot(x,x**2.,'r-',label = r'$x^2$')\n",
    "plt.plot(x,fx,'m--',label = r'$\\sqrt{x^2}$')\n",
    "plt.plot(x,(x-5)**2.,'b-',label = r'$(x-5)^2$')\n",
    "plt.plot(x,gx,'c--',label = r'$\\sqrt{(x-5)^2}$')\n",
    "plt.plot([-10,10],[0,0],'k-',alpha = 1,linewidth = 1)\n",
    "plt.plot([0,0],[-10,10],'k-',alpha = 1,linewidth = 1)\n",
    "plt.grid(alpha = 0.7)\n",
    "plt.legend(loc = 'lower right',fontsize = 13)\n",
    "plt.xticks(np.arange(-5,11))\n",
    "plt.ylim([-2,5])\n",
    "plt.xlim([-5,10])\n",
    "plt.show()"
   ]
  },
  {
   "cell_type": "markdown",
   "metadata": {},
   "source": [
    "To summarize, the result of taking the square root of functions of the form \n",
    "\n",
    "$f(x) = (ax-b)^2$\n",
    "\n",
    "where a and b are constants, will give the result\n",
    "\n",
    "$\\sqrt{f(x)} = \\lvert ax-b\\rvert$\n",
    "\n",
    "As well, we can generalize the princple root, which will be denoted as $x_0$, of such functions as \n",
    "\n",
    "$x_0 = \\frac{b}{a} \\ \\ \\ \\ a \\neq 0 $"
   ]
  },
  {
   "cell_type": "markdown",
   "metadata": {},
   "source": [
    "## Rational Exponents (n $\\geq$ 2)\n",
    "\n",
    "As mentioned before we defined a radical function to be of the form \n",
    "$f(g(x)) = g(x)^{\\frac{1}{n}}$\n",
    "\n",
    "and now we are going to look at functions where $n\\geq2$. Below is an interactive plot where moving the slider will change the value of $n$ in our rational exponent expression. See what happens when you move this around.\n",
    "\n",
    "*Press the shift key and the enter key at the same time to run the cell below this one, or click on the cell and press Run in the toolbar.*"
   ]
  },
  {
   "cell_type": "code",
   "execution_count": 6,
   "metadata": {},
   "outputs": [
    {
     "data": {
      "application/vnd.jupyter.widget-view+json": {
       "model_id": "646102e365264563a76db5265b9a1691",
       "version_major": 2,
       "version_minor": 0
      },
      "text/html": [
       "<p>Failed to display Jupyter Widget of type <code>interactive</code>.</p>\n",
       "<p>\n",
       "  If you're reading this message in the Jupyter Notebook or JupyterLab Notebook, it may mean\n",
       "  that the widgets JavaScript is still loading. If this message persists, it\n",
       "  likely means that the widgets JavaScript library is either not installed or\n",
       "  not enabled. See the <a href=\"https://ipywidgets.readthedocs.io/en/stable/user_install.html\">Jupyter\n",
       "  Widgets Documentation</a> for setup instructions.\n",
       "</p>\n",
       "<p>\n",
       "  If you're reading this message in another frontend (for example, a static\n",
       "  rendering on GitHub or <a href=\"https://nbviewer.jupyter.org/\">NBViewer</a>),\n",
       "  it may mean that your frontend doesn't currently support widgets.\n",
       "</p>\n"
      ],
      "text/plain": [
       "interactive(children=(IntSlider(value=6, description='n', max=10, min=2), Output()), _dom_classes=('widget-interact',))"
      ]
     },
     "metadata": {},
     "output_type": "display_data"
    }
   ],
   "source": [
    "# construction of interactive plot to visualize x^(1/n)\n",
    "\n",
    "def slider(n):\n",
    "    x = np.linspace(1e-7,10,500)\n",
    "    if n != 0:\n",
    "        plt.figure(1,figsize = (10,7))\n",
    "        hold = True\n",
    "        plt.plot(x,x**(1./n),'b-',linewidth = 2,label = str((r'$y = x^{1/' + str(n) + '}$')))\n",
    "        plt.xlabel('$x$',fontsize = 14)\n",
    "        plt.ylabel('$y$',fontsize = 14)\n",
    "        plt.plot([-10,10],[0,0],'k-',alpha = 1,linewidth = 1)\n",
    "        plt.plot([0,0],[-10,10],'k-',alpha = 1,linewidth = 1)\n",
    "        plt.grid(alpha = 0.7)\n",
    "        plt.xticks(np.arange(-5,11))\n",
    "        plt.ylim([-2,5])\n",
    "        plt.xlim([-5,10])\n",
    "        plt.legend(loc = 'best', fontsize = 18)\n",
    "        plt.show()\n",
    "\n",
    "    return n\n",
    "\n",
    "j = interactive(slider, n=(2,10,1))\n",
    "display(j)\n"
   ]
  },
  {
   "cell_type": "markdown",
   "metadata": {},
   "source": [
    "Likewise, we can look at functions where the exponent is negative, such that \n",
    "\n",
    "$f(g(x)) = g(x)^{\\frac{-1}{n}} = \\frac{1}{g(x)^{\\frac{1}{n}}}$\n",
    "\n",
    "Again an interactive graph is shown below, to observe how changing the value of this exponent effects the behaviour of the function. \n",
    "\n",
    "*Press the shift key and the enter key at the same time to run the cell below this one, or click on the cell and press Run in the toolbar.*"
   ]
  },
  {
   "cell_type": "code",
   "execution_count": 7,
   "metadata": {
    "scrolled": false
   },
   "outputs": [
    {
     "data": {
      "application/vnd.jupyter.widget-view+json": {
       "model_id": "99b6f0ad928d4b36bf8e8b17175b7043",
       "version_major": 2,
       "version_minor": 0
      },
      "text/html": [
       "<p>Failed to display Jupyter Widget of type <code>interactive</code>.</p>\n",
       "<p>\n",
       "  If you're reading this message in the Jupyter Notebook or JupyterLab Notebook, it may mean\n",
       "  that the widgets JavaScript is still loading. If this message persists, it\n",
       "  likely means that the widgets JavaScript library is either not installed or\n",
       "  not enabled. See the <a href=\"https://ipywidgets.readthedocs.io/en/stable/user_install.html\">Jupyter\n",
       "  Widgets Documentation</a> for setup instructions.\n",
       "</p>\n",
       "<p>\n",
       "  If you're reading this message in another frontend (for example, a static\n",
       "  rendering on GitHub or <a href=\"https://nbviewer.jupyter.org/\">NBViewer</a>),\n",
       "  it may mean that your frontend doesn't currently support widgets.\n",
       "</p>\n"
      ],
      "text/plain": [
       "interactive(children=(IntSlider(value=-6, description='n', max=-2, min=-10), Output()), _dom_classes=('widget-interact',))"
      ]
     },
     "metadata": {},
     "output_type": "display_data"
    }
   ],
   "source": [
    "# construction of interactive plot to visualize x^(-1/n)\n",
    "\n",
    "def slider(n):\n",
    "    x = np.linspace(1e-7,10,500)\n",
    "    if n != 0:\n",
    "        plt.figure(1,figsize = (10,7))\n",
    "        hold = True\n",
    "        plt.plot(x,x**(1./n),'b-',linewidth = 2,label = str((r'$y = x^{-1/' + str(abs(n)) + '}$')))\n",
    "        plt.xlabel('$x$',fontsize = 14)\n",
    "        plt.ylabel('$y$',fontsize = 14)\n",
    "        plt.plot([-10,10],[0,0],'k-',alpha = 1,linewidth = 1)\n",
    "        plt.plot([0,0],[-10,10],'k-',alpha = 1,linewidth = 1)\n",
    "        plt.grid(alpha = 0.7)\n",
    "        plt.xticks(np.arange(-5,11))\n",
    "        plt.ylim([-2,5])\n",
    "        plt.xlim([-5,10])\n",
    "        plt.legend(loc = 'best', fontsize = 18)\n",
    "        plt.show()\n",
    "\n",
    "    return n\n",
    "\n",
    "j = interactive(slider, n=(-10,-2,1))\n",
    "display(j)"
   ]
  },
  {
   "cell_type": "markdown",
   "metadata": {},
   "source": [
    "Something you may have noticed is that no matter what value appears in the exponent, the function is **always** greater than 0. That is because a radical function like $x^{\\frac{1}{n}}$ is **only** defined for values of $x\\geq0$ and functions like $x^{\\frac{-1}{n}}$ are **only** defined for values of $x > 0$. This can be extended to all radical functions, such that any expression underneath an exponent in the form $1/n \\ $ **MUST** be a **positive** value and expressions underneath an exponent $-1/n$ must both be **positive** and **non-zero**. Some examples of this are:\n",
    "\n",
    "a.$\\ \\sqrt{4-x}$\n",
    "\n",
    "b.$\\ (2x-10)^{\\frac{1}{3}}$\n",
    "\n",
    "c.$\\ (9-7x)^{\\frac{-1}{5}}$\n",
    "\n",
    "\n",
    "where in $a.$, $4-x$ must be a positive quantity, in $b.$, $2x-10$ must be a positive quantity and for $c.$, $9-7x$ must be a positive, non-zero quantity. So what exactly does this mean? How do we know where these quantities become negatively valued? What might these functions look like? This will all be answered in the next section!"
   ]
  },
  {
   "cell_type": "markdown",
   "metadata": {},
   "source": [
    "## Domain of Existence\n",
    "\n",
    "As we just saw, it is very important that the value underneath a fractional exponent ($\\frac{1}{n}$) is positive, and where the values are positive defines the *domain of existence*. If we look back to our functions $a., \\ b.$ and $  c.$, let's try to figure out where their domains of existence are. \n",
    "\n",
    "For $a.$ we need to see where $4-x \\geq 0$. To do this we can simply follow these steps:\n",
    "-  Write out the expression $\\color{red}\\rightarrow \\ 4 - x \\geq 0 $\n",
    "-  Isolate for $x$ $\\color{red}\\rightarrow \\ -x \\geq 4 $\n",
    "-  Ensure that $x$ doesn't have a negative sign in front of it $\\color{red}\\rightarrow \\ x \\leq 4$  \n",
    "\\(remember that flipping a sign from - to + or + to - will also flip the inequality)\n",
    "\n",
    "So we've found that the domain of existence for $\\sqrt{4-x}$ is all $x$ values such that $x \\leq 4$.\n",
    "\n",
    "Now $b.$ and $c.$ will be left for you to solve on a sheet of paper and input into the boxes provided below. Remember we want to find where the expression under the exponent is **positive**. If you get stuck look back to how the domain of existence was found for function $a.$. \n",
<<<<<<< HEAD
    "\n",
    "\n",
=======
    "\n",
    "\n",
>>>>>>> df1500e8cb688e2066fff55159d82a96f0888a8c
    "### How to Input Domain of Existence\n",
    "If we wanted to input our answer for $\\sqrt{4-x}$ which was $x \\leq 4$, the input formatting for the \"less than or equal to\" symbol will follow exactly how it is said. Thus, if asked to find the domain of existence for $\\sqrt{4-x}$ and you are given an input box to enter your answer, you would type in $\\rightarrow$ x <= 4 (**spaces are important**). Another thing to note is that fractions like $\\frac{5}{3}$ should be input as 5/3.  \n",
    "\n",
    "\n",
    "\n",
    "\n",
    "Type x <= 4 into the box provided below to ensure you are using the appropriate syntax.\n",
    "\n",
    "*Press the shift key and the enter key at the same time to run the cell below this one, or click on the cell and press Run in the toolbar.*"
   ]
  },
  {
   "cell_type": "code",
   "execution_count": 8,
   "metadata": {},
   "outputs": [
    {
     "name": "stdout",
     "output_type": "stream",
     "text": [
      "x <= 4\n"
     ]
    },
    {
     "data": {
      "text/latex": [
       "Perfect! Time to try the problems on your own now."
      ],
      "text/plain": [
       "<IPython.core.display.Latex object>"
      ]
     },
     "metadata": {},
     "output_type": "display_data"
    }
   ],
   "source": [
    "# loop to keep presenting input box to ensure the student understands the proper input syntax\n",
    "check = 0\n",
    "while check == 0:\n",
    "    a = input()\n",
    "    if a == \"x <= 4\":\n",
    "        check = 1 \n",
    "        display(Latex(\"Perfect! Time to try the problems on your own now.\"))\n",
    "    else:\n",
    "        display(Latex(\"Not quite right. Remember to type in the expression with spaces on both sides of the '<='\"))"
   ]
  },
  {
   "cell_type": "markdown",
   "metadata": {},
   "source": [
    "*Press the shift key and the enter key at the same time to run the cell below this one, or click on the cell and press Run in the toolbar.*"
   ]
  },
  {
   "cell_type": "code",
   "execution_count": 13,
   "metadata": {},
   "outputs": [
    {
     "data": {
      "text/latex": [
       "Find the domain of existence for:"
      ],
      "text/plain": [
       "<IPython.core.display.Latex object>"
      ]
     },
     "metadata": {},
     "output_type": "display_data"
    },
    {
     "data": {
      "text/latex": [
       "$$(2x-10)^{1/3}$$"
      ],
      "text/plain": [
       "<IPython.core.display.Math object>"
      ]
     },
     "metadata": {},
     "output_type": "display_data"
    },
    {
     "data": {
      "text/latex": [],
      "text/plain": [
       "<IPython.core.display.Latex object>"
      ]
     },
     "metadata": {},
     "output_type": "display_data"
    },
    {
     "name": "stdout",
     "output_type": "stream",
     "text": [
      "f\n"
     ]
    },
    {
     "data": {
      "text/latex": [
       "Not quite right, try again. (If you are certain your answer is right, make sure you went over how to input the expression correctly!)"
      ],
      "text/plain": [
       "<IPython.core.display.Latex object>"
      ]
     },
     "metadata": {},
     "output_type": "display_data"
    },
    {
     "name": "stdout",
     "output_type": "stream",
     "text": [
      "4\n"
     ]
    },
    {
     "data": {
      "text/latex": [
       "Not quite right, try again. (If you are certain your answer is right, make sure you went over how to input the expression correctly!)"
      ],
      "text/plain": [
       "<IPython.core.display.Latex object>"
      ]
     },
     "metadata": {},
     "output_type": "display_data"
    },
    {
     "name": "stdout",
     "output_type": "stream",
     "text": [
      "4\n"
     ]
    },
    {
     "data": {
      "text/latex": [
       "Not quite right, try again. (If you are certain your answer is right, make sure you went over how to input the expression correctly!)"
      ],
      "text/plain": [
       "<IPython.core.display.Latex object>"
      ]
     },
     "metadata": {},
     "output_type": "display_data"
    },
    {
     "name": "stdout",
     "output_type": "stream",
     "text": [
      "4\n"
     ]
    },
    {
     "data": {
      "text/latex": [
       "Not quite right, try again. (If you are certain your answer is right, make sure you went over how to input the expression correctly!)"
      ],
      "text/plain": [
       "<IPython.core.display.Latex object>"
      ]
     },
     "metadata": {},
     "output_type": "display_data"
    },
    {
     "name": "stdout",
     "output_type": "stream",
     "text": [
      "4\n"
     ]
    },
    {
     "data": {
      "text/latex": [
       "The correct answer was"
      ],
      "text/plain": [
       "<IPython.core.display.Latex object>"
      ]
     },
     "metadata": {},
     "output_type": "display_data"
    },
    {
     "data": {
      "text/latex": [
       "$$x \\geq 5$$"
      ],
      "text/plain": [
       "<IPython.core.display.Math object>"
      ]
     },
     "metadata": {},
     "output_type": "display_data"
    },
    {
     "data": {
      "text/latex": [
       "Let's move on to the next part."
      ],
      "text/plain": [
       "<IPython.core.display.Latex object>"
      ]
     },
     "metadata": {},
     "output_type": "display_data"
    },
    {
     "data": {
      "text/latex": [],
      "text/plain": [
       "<IPython.core.display.Latex object>"
      ]
     },
     "metadata": {},
     "output_type": "display_data"
    },
    {
     "data": {
      "text/latex": [
       "Find the domain of existence for:"
      ],
      "text/plain": [
       "<IPython.core.display.Latex object>"
      ]
     },
     "metadata": {},
     "output_type": "display_data"
    },
    {
     "data": {
      "text/latex": [
       "$$(9-7x)^{-1/5}$$"
      ],
      "text/plain": [
       "<IPython.core.display.Math object>"
      ]
     },
     "metadata": {},
     "output_type": "display_data"
    },
    {
     "data": {
      "text/latex": [],
      "text/plain": [
       "<IPython.core.display.Latex object>"
      ]
     },
     "metadata": {},
     "output_type": "display_data"
    },
    {
     "name": "stdout",
     "output_type": "stream",
     "text": [
      "x < 9/7\n"
     ]
    },
    {
     "data": {
      "text/latex": [
       "Very good!"
      ],
      "text/plain": [
       "<IPython.core.display.Latex object>"
      ]
     },
     "metadata": {},
     "output_type": "display_data"
    }
   ],
   "source": [
    "# similar input loops as before w/ the inclusion of \"breakers\" that will present the student with the correct answer\n",
    "# if they cannot get it after 5 attempts \n",
    "\n",
    "display(Latex(\"Find the domain of existence for:\"))\n",
    "display(Math(\"(2x-10)^{1/3}\"))\n",
    "display(Latex(\"\"))\n",
    "check = 0\n",
    "breaker = 0\n",
    "while check == 0:\n",
    "    a = input()\n",
    "    if a == \"x >= 5\":\n",
    "        check = 1\n",
    "        display(Latex(\"Very good! Let's move on to the next part.\"))\n",
    "    else:\n",
    "        breaker += 1\n",
    "        if breaker == 5: # presents student with the correct answer after 5 attempts \n",
    "            display(Latex(\"The correct answer was\"))\n",
    "            display(Math(\"x \\geq 5\"))\n",
    "            display(Latex(\"Let's move on to the next part.\"))\n",
    "            check = 1\n",
    "            break\n",
    "        display(Latex(\"Not quite right, try again. (If you are certain your answer is right, make sure you went over how to input the expression correctly!)\"))\n",
    "        \n",
    "display(Latex(\"\"))\n",
    "display(Latex(\"Find the domain of existence for:\"))\n",
    "display(Math(\"(9-7x)^{-1/5}\"))\n",
    "display(Latex(\"\"))\n",
    "check = 0\n",
    "breaker = 0\n",
    "while check == 0:\n",
    "    a = input()\n",
    "    if a == \"x < 9/7\":\n",
    "        check = 1\n",
    "        display(Latex(\"Very good!\"))\n",
    "    else:\n",
    "        breaker += 1\n",
    "        if breaker == 3: # this time they have to realize that the inequality is only < NOT =< . Provides a hint.\n",
    "            display(Latex(\"Remember that the exponent is negative! This means that our function looks like this:\"))\n",
    "            display(Math(r\"\\frac{1}{(9-7x)^{\\frac{1}{5}}}\"))\n",
    "            display(Latex(\"Therefore there is ALSO an existence condition such that the denominator does not equal 0. Check if your inequality accounts for this.\"))\n",
    "        elif breaker == 5:\n",
    "            display(Latex(\"The correct answer was\"))\n",
    "            display(Math(\"x < \\frac{9}{7}\"))\n",
    "            check = 1\n",
    "            break\n",
    "        else:\n",
    "            display(Latex(\"Not quite right, try again. (If you are certain your answer is right, make sure you went over how to input the expression correctly!)\"))"
   ]
  },
  {
   "cell_type": "code",
   "execution_count": 10,
   "metadata": {},
   "outputs": [
    {
     "data": {
      "image/png": "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\n",
      "text/plain": [
       "<matplotlib.figure.Figure at 0x7f32b38feef0>"
      ]
     },
     "metadata": {},
     "output_type": "display_data"
    }
   ],
   "source": [
    "# plot of all the functions a, b and c that students will have worked with\n",
    "# shows the domains of existence that were found in the exercises\n",
    "\n",
    "x1 = np.linspace(-10,3,500)\n",
    "x2 = np.linspace(5,10,500)\n",
    "x3 = np.linspace(-10.,8.9999/7.,500)\n",
    "plt.figure(1,figsize = (10,7))\n",
    "hold = True\n",
    "plt.plot(9./7. * np.ones(100),np.linspace(0,12,100),'k--',alpha = 0.5)\n",
    "plt.plot(x1,sqrt(3-x1),'b-',label = r'$y = \\sqrt{3-x}$')\n",
    "plt.plot(x2,(2*x2-10)**(1./3.),'r-', label = r'$y = (2x-10)^{\\frac{1}{3}}$')\n",
    "plt.plot(x3,(9-7*x3)**(-1./5.),'g-', label = r'$y = (9-7x)^{\\frac{-1}{5}}$')\n",
    "\n",
    "plt.text(9./7.-0.4,-0.25,r'$9/7$',fontsize = 13)\n",
    "plt.xlabel('$x$',fontsize = 14)\n",
    "plt.ylabel('$y$',fontsize = 14)\n",
    "plt.plot([-10,10],[0,0],'k-',alpha = 1,linewidth = 1)\n",
    "plt.plot([0,0],[-10,10],'k-',alpha = 1,linewidth = 1)\n",
    "plt.grid(alpha = 0.7)\n",
    "plt.xticks(np.arange(-10,11))\n",
    "plt.ylim([-2,5])\n",
    "plt.xlim([-10,10])\n",
    "plt.legend(loc = 'best', fontsize = 18)\n",
    "plt.show()"
   ]
  },
  {
   "cell_type": "markdown",
   "metadata": {},
   "source": [
    "This graph shows us what these functions we worked with look like. It should be clear that each function exists exactly where we defined them in the previous exercise. "
   ]
  },
  {
   "cell_type": "markdown",
   "metadata": {},
   "source": [
    "# Questions\n",
    "\n",
    "## Problem Set 1\n",
    "Here you will be tested on the topics we covered in this notebook. You will be asked to find the roots for certain functions that must be factored first. You will also have to find the domain of existence of certain functions using the method we just applied in the section above, remembering to be careful of negative exponents! \n",
    "\n",
    "*Press the shift key and the enter key at the same time to run the cell below this one, or click on the cell and press Run in the toolbar. REPEAT THIS STEP AFTER FINISHING EACH PROBLEM.*"
   ]
  },
  {
   "cell_type": "code",
   "execution_count": null,
   "metadata": {},
   "outputs": [],
   "source": [
    "display(Latex(\"Find the domain of existence for:\"))\n",
    "display(Math(\"(-2x+14)^{1/2}\"))\n",
    "display(Latex(\"\"))\n",
    "check = 0\n",
    "breaker = 0\n",
    "while check == 0:\n",
    "    a = input()\n",
    "    if a == \"x <= 7\":\n",
    "        check = 1\n",
    "        display(Latex(\"Very good! Let's move on to the next part.\"))\n",
    "    else:\n",
    "        breaker += 1\n",
    "        if breaker == 5: # presents student with the correct answer after 5 attempts \n",
    "            display(Latex(\"The correct answer was\"))\n",
    "            display(Math(\"x \\leq 7\"))\n",
    "            display(Latex(\"Let's move on to the next part.\"))\n",
    "            check = 1\n",
    "            break\n",
    "        display(Latex(\"Not quite right, try again. (If you are certain your answer is right, make sure you went over how to input the expression correctly!)\"))"
   ]
  },
  {
   "cell_type": "code",
   "execution_count": null,
   "metadata": {},
   "outputs": [],
   "source": [
    "display(Latex(\"Find the domain of existence for:\"))\n",
    "display(Math(\"(15x-5+8x)^{-1/5}\"))\n",
    "display(Latex(\"\"))\n",
    "check = 0 \n",
    "breaker = 0\n",
    "while check == 0:\n",
    "    a = input()\n",
    "    if a == \"x > 5/23\":\n",
    "        check = 1\n",
    "        display(Latex(\"Very good! Let's move on to the next part.\"))\n",
    "    else:\n",
    "        breaker += 1\n",
    "        if breaker == 5: # presents student with the correct answer after 5 attempts \n",
    "            display(Latex(\"The correct answer was\"))\n",
    "            display(Math(\"x > 5/23\"))\n",
    "            display(Latex(\"Let's move on to the next part.\"))\n",
    "            check = 1\n",
    "            break\n",
    "        display(Latex(\"Not quite right, try again. (If you are certain your answer is right, make sure you went over how to input the expression correctly!)\"))"
   ]
  },
  {
   "cell_type": "code",
   "execution_count": null,
   "metadata": {},
   "outputs": [],
   "source": [
    "display(Latex(\"Find the principle root for:\"))\n",
    "display(Math(\"(x^2-6x+9)^{1/3}\"))\n",
    "display(Latex(\"\"))\n",
    "check = 0 \n",
    "breaker = 0\n",
    "while check == 0:\n",
    "    display(Math('x_0 = '))\n",
    "    display(Latex(\"\"))\n",
    "    try:\n",
    "        a = float(input())\n",
    "        if a == -3.0:\n",
    "            check = 1\n",
    "            display(Latex(\"Very good! Let's move on to the next part.\"))\n",
    "        else:\n",
    "            breaker += 1\n",
    "            if breaker == 5: # presents student with the correct answer after 5 attempts \n",
    "                display(Latex(\"The correct answer was\"))\n",
    "                display(Math(\"x_0 = -3\"))\n",
    "                display(Latex(\"Let's move on to the next part.\"))\n",
    "                check = 1\n",
    "                break\n",
    "            display(Latex(\"Not quite right, try again. (If you are certain your answer is right, make sure you went over how to input the expression correctly!)\"))\n",
    "        \n",
    "    except:\n",
    "        display(Markdown('**Your input for $x_0$ must be a numerical value.**'))\n",
    "    \n",
    "    "
   ]
  },
  {
   "cell_type": "markdown",
   "metadata": {},
   "source": [
    "## Problem Set 2\n",
    "The next few problems involve interacting with plots which have pre-defined functions graphed on them. In each function of the form $y = (a-bx)^{\\frac{1}{n}}$, it is your job to find the appropriate unkown parameters (a,b,n). This can be done by adjusting the sliders provided and matching the function graphically. Hopefully this exercise will provide intuition on how adjusting the parameters in each function manipulates the graph.\n",
    "\n",
    "*Press the shift key and the enter key at the same time to run the cell below this one, or click on the cell and press Run in the toolbar. REPEAT THIS STEP AFTER FINISHING EACH PROBLEM.*"
   ]
  },
  {
   "cell_type": "code",
   "execution_count": 11,
   "metadata": {},
   "outputs": [
    {
     "data": {
      "application/vnd.jupyter.widget-view+json": {
       "model_id": "63dd6ebe6c6a4e64a5a332db4e6c7adc",
       "version_major": 2,
       "version_minor": 0
      },
      "text/html": [
       "<p>Failed to display Jupyter Widget of type <code>interactive</code>.</p>\n",
       "<p>\n",
       "  If you're reading this message in the Jupyter Notebook or JupyterLab Notebook, it may mean\n",
       "  that the widgets JavaScript is still loading. If this message persists, it\n",
       "  likely means that the widgets JavaScript library is either not installed or\n",
       "  not enabled. See the <a href=\"https://ipywidgets.readthedocs.io/en/stable/user_install.html\">Jupyter\n",
       "  Widgets Documentation</a> for setup instructions.\n",
       "</p>\n",
       "<p>\n",
       "  If you're reading this message in another frontend (for example, a static\n",
       "  rendering on GitHub or <a href=\"https://nbviewer.jupyter.org/\">NBViewer</a>),\n",
       "  it may mean that your frontend doesn't currently support widgets.\n",
       "</p>\n"
      ],
      "text/plain": [
       "interactive(children=(IntSlider(value=0, continuous_update=False, description='a', max=10, min=-10), IntSlider(value=0, continuous_update=False, description='b', max=10, min=-10), IntSlider(value=2, continuous_update=False, description='n', max=5, min=2), Output()), _dom_classes=('widget-interact',))"
      ]
     },
     "metadata": {},
     "output_type": "display_data"
    },
    {
     "data": {
      "text/latex": [
       "*If you're seeing no change, make sure b is NOT set to 0.*"
      ],
      "text/plain": [
       "<IPython.core.display.Latex object>"
      ]
     },
     "metadata": {},
     "output_type": "display_data"
    }
   ],
   "source": [
    "# interactive plot where students have to match parameters a, b and n in the function f(x) = (a-bx)^(1/n)\n",
    "# if & else statements are required to adjust the x-linspace such that python does not constantly return errors when\n",
    "# an invalid (complex) value is encountered under the exponent\n",
    "def slider(a,b,n):\n",
    "    if b != 0:\n",
    "        i = float(a)/float(b)\n",
    "    else:\n",
    "        i = 0\n",
    "        a = 0 # when b = 0, set a = 0 to avoid all a < 0. Note at the bottom of each figure\n",
    "    if b > 0:\n",
    "        x = np.linspace(-10,i,500)\n",
    "    else:\n",
    "        x = np.linspace(i,10,500)\n",
    "    f = (a-b*x)**(1./n)\n",
    "    xx = np.linspace(-10,2,200)\n",
    "    plt.figure(1,figsize = (10,7))\n",
    "    hold = True\n",
    "    plt.plot(x,f,'m-',linewidth = 3)\n",
    "    plt.plot(xx,(6-3*xx)**(1./3.),'b--', linewidth = 2, label = r'$y = (a-bx)^{\\frac{1}{n}}$')\n",
    "    if a == 6 and b == 3 and n == 3:\n",
    "        plt.text(1,2,'VERY GOOD!', fontsize = 25, fontweight = 'bold',color = 'r')\n",
    "        plt.plot(x,f,'m-',linewidth = 3, label = r'$y = (6-3x)^{\\frac{1}{3}}$')\n",
    "    plt.xlabel('$x$',fontsize = 14)\n",
    "    plt.ylabel('$y$',fontsize = 14)\n",
    "    plt.plot([-10,10],[0,0],'k-',alpha = 1,linewidth = 1)\n",
    "    plt.plot([0,0],[-10,10],'k-',alpha = 1,linewidth = 1)\n",
    "    plt.grid(alpha = 0.7)\n",
    "    plt.xticks(np.arange(-10,11))\n",
    "    plt.ylim([-2,5])\n",
    "    plt.xlim([-10,10])\n",
    "    plt.legend(loc = 'best', fontsize = 18)\n",
    "    plt.show()\n",
    "\n",
    "sl = interactive(slider, n=widgets.IntSlider(value = 2, min = 2,max = 5,step = 1, continuous_update = False),\n",
    "                a=widgets.IntSlider(value = 0, min = -10,max = 10,step = 1, continuous_update = False),\n",
    "                b=widgets.IntSlider(value = 0, min = -10,max = 10,step = 1, continuous_update = False))\n",
    "display(sl)\n",
    "display(Latex(\"*If you're seeing no change, make sure b is NOT set to 0.*\"))"
   ]
  },
  {
   "cell_type": "code",
   "execution_count": null,
   "metadata": {},
   "outputs": [],
   "source": [
    "def slider(a,b,n):\n",
    "    if b != 0:\n",
    "        i = float(a)/float(b)\n",
    "    else:\n",
    "        i = 0\n",
    "        a = 0\n",
    "    if b > 0:\n",
    "        x = np.linspace(-10,i,500)\n",
    "    else:\n",
    "        x = np.linspace(i,10,500)\n",
    "    f = (a-b*x)**(1./n)\n",
    "    xx = np.linspace(9./4,10,200)\n",
    "    plt.figure(1,figsize = (10,7))\n",
    "    hold = True\n",
    "    plt.plot(x,f,'m-',linewidth = 3)\n",
    "    plt.plot(xx,(-9+4*xx)**(1./2.),'b--', linewidth = 2, label = r'$y = (a-bx)^{\\frac{1}{n}}$')\n",
    "    if a == -9 and b == -4 and n == 2:\n",
    "        plt.text(-7,2,'VERY GOOD!', fontsize = 25, fontweight = 'bold',color = 'r')\n",
    "        plt.plot(x,f,'m-',linewidth = 3, label = r'$y = (-9+4x)^{\\frac{1}{2}}$')\n",
    "    plt.xlabel('$x$',fontsize = 14)\n",
    "    plt.ylabel('$y$',fontsize = 14)\n",
    "    plt.plot([-10,10],[0,0],'k-',alpha = 1,linewidth = 1)\n",
    "    plt.plot([0,0],[-10,10],'k-',alpha = 1,linewidth = 1)\n",
    "    plt.grid(alpha = 0.7)\n",
    "    plt.xticks(np.arange(-10,11))\n",
    "    plt.ylim([-2,5])\n",
    "    plt.xlim([-10,10])\n",
    "    plt.legend(loc = 'best', fontsize = 18)\n",
    "    plt.show()\n",
    "\n",
    "sl = interactive(slider, n=widgets.IntSlider(value = 2, min = 2,max = 5,step = 1, continuous_update = False),\n",
    "                a=widgets.IntSlider(value = 0, min = -10,max = 10,step = 1, continuous_update = False),\n",
    "                b=widgets.IntSlider(value = 0, min = -10,max = 10,step = 1, continuous_update = False))\n",
    "display(sl)\n",
    "display(Latex(\"*If you're seeing no change, make sure b is NOT set to 0.*\"))"
   ]
  },
  {
   "cell_type": "code",
   "execution_count": null,
   "metadata": {},
   "outputs": [],
   "source": [
    "def slider(a,b,n):\n",
    "    if b != 0:\n",
    "        i = float(a)/float(b)\n",
    "    else:\n",
    "        i = 0\n",
    "        a = 0\n",
    "    if b > 0:\n",
    "        x = np.linspace(-10,i,500)\n",
    "    else:\n",
    "        x = np.linspace(i,10,500)\n",
    "    f = (a-b*x)**(1./n)\n",
    "    xx = np.linspace(-4,10,200)\n",
    "    plt.figure(1,figsize = (10,7))\n",
    "    hold = True\n",
    "    plt.plot(x,f,'m-',linewidth = 3)\n",
    "    plt.plot(xx,(8+2*xx)**(1./5.),'b--', linewidth = 2, label = r'$y = (a-bx)^{\\frac{1}{n}}$')\n",
    "    if a == 8 and b == -2 and n == 5:\n",
    "        plt.text(-8,3,'VERY GOOD!', fontsize = 25, fontweight = 'bold',color = 'r')\n",
    "        plt.plot(x,f,'m-',linewidth = 3, label = r'$y = (8+2x)^{\\frac{1}{5}}$')\n",
    "    plt.xlabel('$x$',fontsize = 14)\n",
    "    plt.ylabel('$y$',fontsize = 14)\n",
    "    plt.plot([-10,10],[0,0],'k-',alpha = 1,linewidth = 1)\n",
    "    plt.plot([0,0],[-10,10],'k-',alpha = 1,linewidth = 1)\n",
    "    plt.grid(alpha = 0.7)\n",
    "    plt.xticks(np.arange(-10,11))\n",
    "    plt.ylim([-2,5])\n",
    "    plt.xlim([-10,10])\n",
    "    plt.legend(loc = 'best', fontsize = 18)\n",
    "    plt.show()\n",
    "\n",
    "sl = interactive(slider, n=widgets.IntSlider(value = 2, min = 2,max = 5,step = 1, continuous_update = False),\n",
    "                a=widgets.IntSlider(value = 0, min = -10,max = 10,step = 1, continuous_update = False),\n",
    "                b=widgets.IntSlider(value = 0, min = -10,max = 10,step = 1, continuous_update = False))\n",
    "display(sl)\n",
    "display(Latex(\"*If you're seeing no change, make sure b is NOT set to 0.*\"))"
   ]
  },
  {
   "cell_type": "code",
   "execution_count": null,
   "metadata": {},
   "outputs": [],
   "source": [
    "def slider(a,b,n):\n",
    "    if b != 0 and a != 0:\n",
    "        i = float(a)/float(b)\n",
    "    elif b == 0:\n",
    "        a = 0\n",
    "        x = 1\n",
    "    else:\n",
    "        i = 0\n",
    "    if b > 0:\n",
    "        x = np.linspace(-11,i-1e-5,500)\n",
    "    elif b < 0:\n",
    "        x = np.linspace(i+1e-5,11,500)\n",
    "    elif b == 0:\n",
    "        b = -1\n",
    "    \n",
    "    f = (a-b*x)**(-1./n)\n",
    "    xx = np.linspace(-10,5-1e-5,300)\n",
    "    plt.figure(1,figsize = (10,7))\n",
    "    hold = True\n",
    "    plt.plot(x,f,'m-',linewidth = 3)\n",
    "    plt.plot(xx,(5-xx)**(-1./4.),'b--', linewidth = 2, label = r'$y = (a-bx)^{\\frac{1}{n}}$')\n",
    "    if a == 5 and b == 1 and n == 4:\n",
    "        plt.text(-7,2,'VERY GOOD!', fontsize = 25, fontweight = 'bold',color = 'r')\n",
    "        plt.plot(x,f,'m-',linewidth = 3, label = r'$y = (5-x)^{\\frac{-1}{4}}$')\n",
    "    plt.xlabel('$x$',fontsize = 14)\n",
    "    plt.ylabel('$y$',fontsize = 14)\n",
    "    plt.plot([-10,10],[0,0],'k-',alpha = 1,linewidth = 1)\n",
    "    plt.plot([0,0],[-10,10],'k-',alpha = 1,linewidth = 1)\n",
    "    plt.grid(alpha = 0.7)\n",
    "    plt.xticks(np.arange(-10,11))\n",
    "    plt.ylim([-2,5])\n",
    "    plt.xlim([-10,10])\n",
    "    plt.legend(loc = 'best', fontsize = 18)\n",
    "    plt.show()\n",
    "\n",
    "sl = interactive(slider, n=widgets.IntSlider(value = 2, min = 2,max = 5,step = 1, continuous_update = False),\n",
    "                a=widgets.IntSlider(value = 0, min = -10,max = 10,step = 1, continuous_update = False),\n",
    "                b=widgets.IntSlider(value = 0, min = -10,max = 10,step = 1, continuous_update = False))\n",
    "display(sl)\n",
    "display(Latex(\"*If you're seeing no change, make sure b is NOT set to 0.*\"))"
   ]
  },
  {
   "cell_type": "markdown",
   "metadata": {},
   "source": [
    "# The Spiral of Theordorus \n",
    "https://en.wikipedia.org/wiki/Spiral_of_Theodorus\n",
    "\n",
    "The Spiral of Theodorus or Pythagorean Spiral, is a geometrical construction comprised of right angle triangles. It's a very interesting and fun application of square roots! So let's look at an image of the spiral first and then we can look at the mathematics of how the square root gets involved. \n"
   ]
  },
  {
   "cell_type": "markdown",
   "metadata": {},
   "source": [
    "![spiral_png](Spiral_image.png)"
   ]
  },
  {
   "cell_type": "markdown",
   "metadata": {},
   "source": [
    "So what exactly is happening here? Well, as you may have noticed all the triangles that form this design are right angle triangles. Starting from the innermost triangle, you can see that it has two side lengths equal to 1 with a hypotenuse equal to $\\sqrt{2}$. Moving onwards from that, the next triangle is again a right angle triangle, just rotated now by some angle $\\phi$. It now has a base length equal to $\\sqrt{2}$, a hypotenuse equal to $\\sqrt{3}$ and the remaining side remains to be 1. Can you see the pattern here ? Each of the $n^{\\rm th}$ triangle has it's outermost side length fixed at 1, where the base and the hypotenuse are $\\sqrt{n}$ and $\\sqrt{n+1}$ respectively for $n > 0$. \n",
    "\n",
    "We can also calculate what the angle $\\phi$ is for each new triangle. This is simply\n",
    "\n",
    "$\\phi = \\arctan\\Big(\\frac{1}{\\sqrt{n}}\\Big)$ \n",
    "\n",
    "for the $n^{\\rm th}$ triangle. This is true because $\\tan\\phi = \\frac{\\rm opposite}{\\rm adjacent}$ and our side opposite $\\phi$ is fixed at length 1 and the adjacent side changes to $\\sqrt{n}$ for the $n^{\\rm th}$ triangle. \n",
    "\n",
    "From these simple facts, one can construct a code that creates this fun visual application of square roots! Feel free to look at ``Spiral_Of_Theodorus.py`` to see how the spiral was created. Below is an interactive widget where you can change how many triangles are formed in the spiral. \n",
    "\n",
    "*Press the shift key and the enter key at the same time to run the cell below this one, or click on the cell and press Run in the toolbar.*"
   ]
  },
  {
   "cell_type": "code",
   "execution_count": 12,
   "metadata": {},
   "outputs": [
    {
     "data": {
      "application/vnd.jupyter.widget-view+json": {
       "model_id": "6f72bffb35904f3f97d84399f919ff59",
       "version_major": 2,
       "version_minor": 0
      },
      "text/html": [
       "<p>Failed to display Jupyter Widget of type <code>interactive</code>.</p>\n",
       "<p>\n",
       "  If you're reading this message in the Jupyter Notebook or JupyterLab Notebook, it may mean\n",
       "  that the widgets JavaScript is still loading. If this message persists, it\n",
       "  likely means that the widgets JavaScript library is either not installed or\n",
       "  not enabled. See the <a href=\"https://ipywidgets.readthedocs.io/en/stable/user_install.html\">Jupyter\n",
       "  Widgets Documentation</a> for setup instructions.\n",
       "</p>\n",
       "<p>\n",
       "  If you're reading this message in another frontend (for example, a static\n",
       "  rendering on GitHub or <a href=\"https://nbviewer.jupyter.org/\">NBViewer</a>),\n",
       "  it may mean that your frontend doesn't currently support widgets.\n",
       "</p>\n"
      ],
      "text/plain": [
       "interactive(children=(IntSlider(value=17, continuous_update=False, description='n', max=60, min=2), Output()), _dom_classes=('widget-interact',))"
      ]
     },
     "metadata": {},
     "output_type": "display_data"
    }
   ],
   "source": [
    "import Spiral_Of_Theodorus as S\n",
    "\n",
    "sl = interactive(S.Spiral, n=widgets.IntSlider(value = 17, min = 2,max = 60,step = 1, continuous_update = False)) \n",
    "display(sl)"
   ]
  },
  {
   "cell_type": "code",
   "execution_count": null,
   "metadata": {
    "scrolled": false
   },
   "outputs": [],
   "source": [
    "display(Markdown('Input a larger number here to see a more spectacular image! (*must be less than 101*)'))\n",
    "n = int(input())\n",
    "if n > 100:\n",
    "    display(Markdown('Input must be less than 101.'))\n",
    "    display(Markdown('Please run this cell again.'))\n",
    "else:\n",
    "    S.Spiral(n)"
   ]
  },
  {
   "cell_type": "markdown",
   "metadata": {},
   "source": [
    "# Conclusion \n",
    "\n",
    "In this notebook we covered the fundamentals of radical functions and their domains of existence. You should be able to recognize that any function underneath a radical requires its values to be positive and that we find this by solving for the root of the function inside the radical. It is important to differentiate that functions of the form\n",
    "- a.  $ \\ f(g(x)) = g(x)^{\\frac{1}{n}}$\n",
    "- b.  $ \\ f(g(x)) = g(x)^{\\frac{-1}{n}}$\n",
    "\n",
    "where in a., the domain of existence is values of $g(x) \\geq 0$ and in b., the domain of existence is values of $g(x) > 0$ because with a negative exponent, $g(x) = 0$ does not exist. \n",
    "\n",
    "As well, we covered the most common radical function, the square root, and showed how this connects to the aboslute value function. It can also be utilized to find the roots of certain quadratic functions of the form \n",
    "\n",
    "$f(x) = (ax-b)^2$"
   ]
  }
 ],
 "metadata": {
  "kernelspec": {
   "display_name": "Python 3",
   "language": "python",
   "name": "python3"
  },
  "language_info": {
   "codemirror_mode": {
    "name": "ipython",
    "version": 3
   },
   "file_extension": ".py",
   "mimetype": "text/x-python",
   "name": "python",
   "nbconvert_exporter": "python",
   "pygments_lexer": "ipython3",
   "version": "3.6.5"
  }
 },
 "nbformat": 4,
 "nbformat_minor": 2
}

{
 "cells": [
  {
   "cell_type": "markdown",
   "metadata": {},
   "source": [
    "![Callysto.ca Banner](https://github.com/callysto/curriculum-notebooks/blob/master/callysto-notebook-banner-top.jpg?raw=true)"
   ]
  },
  {
   "cell_type": "code",
   "execution_count": 1,
   "metadata": {},
   "outputs": [
    {
     "data": {
      "text/html": [
       "<script>\n",
       "code_show=true; \n",
       "function code_toggle() {\n",
       " if (code_show){\n",
       " $('div.input').hide();\n",
       " } else {\n",
       " $('div.input').show();\n",
       " }\n",
       " code_show = !code_show\n",
       "} \n",
       "$( document ).ready(code_toggle);\n",
       "</script>\n",
       "The raw code for this IPython notebook is by default hidden for easier reading.\n",
       "To toggle on/off the raw code, click <a href=\"javascript:code_toggle()\">here</a>."
      ],
      "text/plain": [
       "<IPython.core.display.HTML object>"
      ]
     },
     "execution_count": 1,
     "metadata": {},
     "output_type": "execute_result"
    }
   ],
   "source": [
    "from IPython.display import HTML\n",
    "\n",
    "HTML('''<script>\n",
    "code_show=true; \n",
    "function code_toggle() {\n",
    " if (code_show){\n",
    " $('div.input').hide();\n",
    " } else {\n",
    " $('div.input').show();\n",
    " }\n",
    " code_show = !code_show\n",
    "} \n",
    "$( document ).ready(code_toggle);\n",
    "</script>\n",
    "The raw code for this IPython notebook is by default hidden for easier reading.\n",
    "To toggle on/off the raw code, click <a href=\"javascript:code_toggle()\">here</a>.''')\n"
   ]
  },
  {
   "cell_type": "code",
   "execution_count": 2,
   "metadata": {},
   "outputs": [
    {
     "data": {
      "text/html": [
       "<style>\n",
       ".output_wrapper button.btn.btn-default,\n",
       ".output_wrapper .ui-dialog-titlebar {\n",
       "  display: none;\n",
       "}\n",
       "</style>\n"
      ],
      "text/plain": [
       "<IPython.core.display.HTML object>"
      ]
     },
     "metadata": {},
     "output_type": "display_data"
    }
   ],
   "source": [
    "%%html\n",
    "<style>\n",
    ".output_wrapper button.btn.btn-default,\n",
    ".output_wrapper .ui-dialog-titlebar {\n",
    "  display: none;\n",
    "}\n",
    "</style>"
   ]
  },
  {
   "cell_type": "code",
   "execution_count": 3,
   "metadata": {},
   "outputs": [],
   "source": [
    "# Modules\n",
    "\n",
    "import string\n",
    "import numpy as np\n",
    "import pandas as pd\n",
    "import qgrid as q\n",
    "import matplotlib.pyplot as plt\n",
    "\n",
    "# Widgets & Display modules, etc..\n",
    "\n",
    "from ipywidgets import widgets as w\n",
    "from ipywidgets import Button, Layout\n",
    "from IPython.display import display, Javascript, Markdown\n",
    "\n",
    "# grid features for interactive grids \n",
    "\n",
    "grid_features = { 'fullWidthRows': True,\n",
    "                  'syncColumnCellResize': True,\n",
    "                  'forceFitColumns': True,\n",
    "                  'rowHeight': 40,\n",
    "                  'enableColumnReorder': True,\n",
    "                  'enableTextSelectionOnCells': True,\n",
    "                  'editable': True,\n",
    "                  'filterable': False,\n",
    "                  'sortable': False,\n",
    "                  'highlightSelectedRow': True}"
   ]
  },
  {
   "cell_type": "code",
   "execution_count": 4,
   "metadata": {},
   "outputs": [
    {
     "data": {
      "text/markdown": [
       "For instructors:"
      ],
      "text/plain": [
       "<IPython.core.display.Markdown object>"
      ]
     },
     "metadata": {},
     "output_type": "display_data"
    }
   ],
   "source": [
    "from ipywidgets import Button , Layout , interact,widgets\n",
    "from IPython.display import Javascript, display\n",
    "\n",
    "# Function: executes previous cell on button widget click event and hides achievement indicators message\n",
    "\n",
    "def run_current(ev):\n",
    "    \n",
    "    display(Javascript('IPython.notebook.execute_cell_range(IPython.notebook.get_selected_index()+0,IPython.notebook.get_selected_index()+1)'))    \n",
    "    \n",
    "# Counter for toggling achievement indicator on/off\n",
    "\n",
    "button_ctr = 0\n",
    "\n",
    "# Achievement Indicators\n",
    "\n",
    "line_1 = \"#### Achievement Indicators\"\n",
    "line_2 = \"**General Outcome: **\"\n",
    "line_3 = \"* The general outcome of this notebook is to use experimental or theoretical probabilities to represent and solve problems involving uncertainty.\"\n",
    "line_4 = \"**Specific Outcome 4: **\"\n",
    "line_5 = \"* Express probabilities as ratios, fractions and percents.\"\n",
    "line_6 = \"** Specific Outcome 5: **\"\n",
    "line_7 = \"* Identify the sample space (where the combined sample space has 36 or fewer elements) for a probability experiment involving two independent events.*\"\n",
    "line_8 = \"**Specific Outcome 6: **\"\n",
    "line_9 = \"* Conduct a probability experiment to compare the theoretical probability (determined using a tree diagram, table or other graphic organizer) and experimental probability of two independent events*\"\n",
    "\n",
    "# Use to print lines, then save in lines_list\n",
    "\n",
    "def print_lines(n):\n",
    "    \n",
    "    lines_str = \"\"\n",
    "    \n",
    "    for i in range(1,n+1):\n",
    "        lines_str = lines_str + \"line_\"+str(i)+\",\"\n",
    "        \n",
    "    lines_str = lines_str[:-1]\n",
    "\n",
    "    print(lines_str)\n",
    "    \n",
    "lines_list = [line_1,line_2,line_3,line_4,line_5,line_6,line_7,line_8,line_9]\n",
    "    \n",
    "# Show/Hide buttons\n",
    "\n",
    "ai_button_show = widgets.Button(button_style='info',description=\"Show Achievement Indicators\", layout=Layout(width='25%', height='30px') )\n",
    "ai_button_hide = widgets.Button(button_style='info',description=\"Hide Achievement Indicators\", layout=Layout(width='25%', height='30px') )\n",
    "\n",
    "display(Markdown(\"For instructors:\"))"
   ]
  },
  {
   "cell_type": "code",
   "execution_count": 23,
   "metadata": {},
   "outputs": [
    {
     "data": {
      "application/javascript": [
       "IPython.notebook.execute_cell_range(IPython.notebook.get_selected_index()+0,IPython.notebook.get_selected_index()+1)"
      ],
      "text/plain": [
       "<IPython.core.display.Javascript object>"
      ]
     },
     "metadata": {},
     "output_type": "display_data"
    },
    {
     "data": {
      "text/markdown": [
       "#### Achievement Indicators"
      ],
      "text/plain": [
       "<IPython.core.display.Markdown object>"
      ]
     },
     "metadata": {},
     "output_type": "display_data"
    },
    {
     "data": {
      "text/markdown": [
       "**General Outcome: **"
      ],
      "text/plain": [
       "<IPython.core.display.Markdown object>"
      ]
     },
     "metadata": {},
     "output_type": "display_data"
    },
    {
     "data": {
      "text/markdown": [
       "* The general outcome of this notebook is to use experimental or theoretical probabilities to represent and solve problems involving uncertainty."
      ],
      "text/plain": [
       "<IPython.core.display.Markdown object>"
      ]
     },
     "metadata": {},
     "output_type": "display_data"
    },
    {
     "data": {
      "text/markdown": [
       "**Specific Outcome 4: **"
      ],
      "text/plain": [
       "<IPython.core.display.Markdown object>"
      ]
     },
     "metadata": {},
     "output_type": "display_data"
    },
    {
     "data": {
      "text/markdown": [
       "* Express probabilities as ratios, fractions and percents."
      ],
      "text/plain": [
       "<IPython.core.display.Markdown object>"
      ]
     },
     "metadata": {},
     "output_type": "display_data"
    },
    {
     "data": {
      "text/markdown": [
       "** Specific Outcome 5: **"
      ],
      "text/plain": [
       "<IPython.core.display.Markdown object>"
      ]
     },
     "metadata": {},
     "output_type": "display_data"
    },
    {
     "data": {
      "text/markdown": [
       "* Identify the sample space (where the combined sample space has 36 or fewer elements) for a probability experiment involving two independent events.*"
      ],
      "text/plain": [
       "<IPython.core.display.Markdown object>"
      ]
     },
     "metadata": {},
     "output_type": "display_data"
    },
    {
     "data": {
      "text/markdown": [
       "**Specific Outcome 6: **"
      ],
      "text/plain": [
       "<IPython.core.display.Markdown object>"
      ]
     },
     "metadata": {},
     "output_type": "display_data"
    },
    {
     "data": {
      "text/markdown": [
       "* Conduct a probability experiment to compare the theoretical probability (determined using a tree diagram, table or other graphic organizer) and experimental probability of two independent events*"
      ],
      "text/plain": [
       "<IPython.core.display.Markdown object>"
      ]
     },
     "metadata": {},
     "output_type": "display_data"
    },
    {
     "data": {
      "application/vnd.jupyter.widget-view+json": {
       "model_id": "5d6a35c9d67e4e7e966a65c85fafafe9",
       "version_major": 2,
       "version_minor": 0
      },
      "text/plain": [
       "Button(button_style='info', description='Hide Achievement Indicators', layout=Layout(height='30px', width='25%…"
      ]
     },
     "metadata": {},
     "output_type": "display_data"
    }
   ],
   "source": [
    "button_ctr += 1\n",
    "\n",
    "if(button_ctr % 2 == 0):\n",
    "\n",
    "    for line in lines_list:\n",
    "        display(Markdown(line))\n",
    "    \n",
    "    display(ai_button_hide)\n",
    "    ai_button_hide.on_click( run_current )\n",
    "    \n",
    "else:\n",
    "\n",
    "    display(ai_button_show)\n",
    "    ai_button_show.on_click( run_current )"
   ]
  },
  {
   "cell_type": "markdown",
   "metadata": {},
   "source": [
    "<h1 align='center'>Statistics & Probability : Chance & Uncertainty</h1>\n",
    "\n",
    "<h4 align = 'center'> $\\mid$ Grade 7 $\\mid$ Math $\\mid$</h4>"
   ]
  },
  {
   "cell_type": "markdown",
   "metadata": {},
   "source": [
    "<h2 align='center'>Overview</h2>\n",
    "\n",
    "In this notebook we will explore basic notions and properties about expressing and manipulating probabilities. \n",
    "The general outcome of this notebook is to use experimental or theoretical probabilities to represent and solve problems involving uncertainty."
   ]
  },
  {
   "cell_type": "markdown",
   "metadata": {},
   "source": [
    "<h2 align='center'>Background on probabilities</h2>\n",
    "\n",
    "<div class=\"alert alert-warning\">\n",
    "<font color=\"black\"><b>Definition.</b> A **probability experiment** is any action whose outcome depends on uncertainty. </font>\n",
    "</div>\n",
    "\n",
    "Tossing a coin or rolling dice are examples of probability experiments: unless the experiment is *biased* (for example a coin that always lands on head) there is uncertainty about the outcome of the experiment every time we perform it.\n",
    "\n",
    "<div class=\"alert alert-warning\">\n",
    "<font color=\"black\"><b>Definition.</b> An **outcome** is the result of running a probability experiment. </font>\n",
    "</div>\n",
    "\n",
    "For instance, if we toss a standard coin the outcome is what results from tossing the coin, i.e. head or tail. So there are two possible outcomes.\n",
    "\n",
    "<div class=\"alert alert-warning\">\n",
    "<font color=\"black\"><b>Definition.</b> The **sample space** of a probability experiment is the set of all possible outcomes of this experiment. </font>\n",
    "</div>\n",
    "\n",
    "If we take tossing a coin as the probability experiment, then the sample space is composed of two possible outcomes: head and tail. We can denote such sample space as $\\lbrace$ H,T $\\rbrace$ where H corresponds to head and T to tail. \n",
    "\n",
    "If we take rolling one dice as the probability experiment, then all possible outcomes are 1,2,3,4,5,6. We can denote the sample space of this experiment as $\\lbrace$ 1,2,3,4,5,6 $\\rbrace$. \n",
    "\n",
    "<div class=\"alert alert-warning\">\n",
    "<font color=\"black\"><b>Definition.</b> A probability experiment is **fair** if all elements of the probability space are equally likely to occur as outcome. \n",
    "</font>\n",
    "</div>\n",
    "\n",
    "In the first part of this notebook we assume all probability experiments are fair. In the second part of this notebook, we explore an unfair probability experiment.\n",
    "\n",
    "<div class=\"alert alert-warning\">\n",
    "<font color=\"black\"><b>Definition.</b> The **size** of a sample space is the total number of elements in the sample space. </font>\n",
    "</div>\n",
    "\n",
    "So, in the case of tossing a coin, where the sample space is given by $\\lbrace$ H,T $\\rbrace$, the size of the sample space is 2. Similarly, if we consider rolling a single dice, the sample space is $\\lbrace$ 1,2,3,4,5,6 $\\rbrace$. There are 6 elements in this sample space so that the size of the sample space is 6.\n",
    "\n",
    "<div class=\"alert alert-warning\">\n",
    "<font color=\"black\"><b>Definition.</b> An **event** is any collection of outcomes that form part of the sample space. </font>\n",
    "</div>\n",
    "\n",
    "The notion of event is a little more complicated and better explained with the experiment of rolling a dice. The natural event one can think about is the value on the top face of the dice, so a single element from the sample space. But one could think about different ways to look at the resuilt of rolling a dice. For example one could ask: is the value of the top face odd or even ? This is an event, defined by two collections of elements of the sample space, $\\lbrace$ 2,4,6$\\rbrace$ for even and $\\lbrace$ 1,3,5 $\\rbrace$ for odd. So in this case, \n",
    "* the experiment is to roll a dice,\n",
    "* the sample space is $\\lbrace$ 1,2,3,4,5,6 $\\rbrace$,\n",
    "* a possible event is \"the top face is an even number\"\n",
    "\n"
   ]
  },
  {
   "cell_type": "markdown",
   "metadata": {},
   "source": [
    "<h2 align='center'>Probabilities as ratios, fractions and percents</h2>\n",
    "\n",
    "A natural question to ask is: how do we measure the probability associated to an event of a given probability experiment, i.e. for a given event, what is the probability it occurs?  We define this now, illustrate with a simple example involving dice, and we will then provide an interactive exercise. \n",
    "\n",
    "\n",
    "<div class=\"alert alert-warning\">\n",
    "<font color=\"black\"><b>Definition.</b> The probability of an event is the ratio between the size of the event (as a collection of outcomes) and the size of the sample space. </font>\n",
    "</div>\n",
    "\n",
    "We learned in the previous section that the sample space of rolling a single dice is given by $\\lbrace$1,2,3,4,5,6 $\\rbrace$ and had sample size 6.  If we assume each face is equally likely to occur (i.e. the dice is unbiased), then the probability of getting each face is the ratio or fraction $\\dfrac{1}{6}$. \n",
    "\n",
    "We will denote the probability of getting each number as $P(i)$, where $i$ can either be 1,2,3,4,5,6. \n",
    "Then, the probability of getting event 1, denoted $P(1)$ is equal to $\\dfrac{1}{6}$; more precisely: $P(1)=P(2)=P(3)=P(4)=P(5)=P(6)=\\dfrac{1}{6}$.\n",
    "\n",
    "This is equivalent to stating that the probability of getting any given face is 1 in 6, or $1:6$. Using ratios we have $P(i) = 1:6$, where $i = 1,2,3,4,5,6$. We can also express probabilities using percents. The total number of outcomes is considered 100%. Since there are 6 possible outcomes and assuming equal probability, $P(i) = 100 / 6  = 16.67 \\%$. \n",
    "\n",
    "We summarize in the table below.\n",
    "\n",
    "|Event  $i$                  |1 |2 |3 |4 |5 |6 |\n",
    "|----------------------------|---------------------------|\n",
    "|Probability $P(i)$ as a fraction|$\\dfrac{1}{6}$|$\\dfrac{1}{6}$|$\\dfrac{1}{6}$|$\\dfrac{1}{6}$|$\\dfrac{1}{6}$|$\\dfrac{1}{6}$|\n",
    "|Probability $P(i)$ as a ratio            |1:6|1:6|1:6|1:6|1:6|1:6|\n",
    "|Probability $P(i)$ as a percent|16.67%|16.67%|16.67%|16.67%|16.67%|16.67%|"
   ]
  },
  {
   "cell_type": "code",
   "execution_count": 6,
   "metadata": {},
   "outputs": [],
   "source": [
    "import numpy as np\n",
    "import matplotlib \n",
    "from matplotlib.patches import Rectangle\n",
    "import matplotlib.pyplot as plt\n",
    "import matplotlib.cm as cm\n",
    "import random\n",
    "import matplotlib.gridspec as gridspec\n",
    "import ipywidgets\n",
    "from ipywidgets import interact,interact_manual,widgets\n",
    "%matplotlib inline"
   ]
  },
  {
   "cell_type": "markdown",
   "metadata": {},
   "source": [
    "### Interactive Example: Probabilities as Fractions, Ratios and Percents\n",
    "\n",
    "The widget below illustrates a probability experiment using roulettes of various sizes. The basic experiment consists in spinning  a roulette, divided in a given number of compartments, each of the same size and associated with a unique number that identifies it. The outcome of the experiment is the compartment of the roulette whose number shows in red. Basically, this is an experiment similar to rolling a dice, but where we control the number of faces (number of compartments in the roulette). We assume the roulette is unbiased: each compartment has the same chance to appear in red whenspinning the roulette.\n",
    "\n",
    "On the upper side of the widget you find a drop down menu indicating the size of the sample space, which is the number of compartments of the roulette. In this case, we are considering roulettes whose outcomes are integers from 1 to the size of the sample space. We consider roulettes with sample spaces of size 2, 4, 6 and 8.\n",
    "\n",
    "Below the drop down menu you will find find a red button. Click it to play. \n",
    "\n",
    "On the left hand side of the widget you will see a roulette with numbers in black and one number in red. The number in red corresponds to the outcome of the experiment. \n",
    "\n",
    "On the right hand side you will find a printed message explaining what the probability of the event associated to the obtained outcome is. \n",
    "\n",
    "Play multiple times to simulate what would happen if you spun the roulette. Change the size of the sample space to learn what the different probabilities associated to each event in the roulette are. "
   ]
  },
  {
   "cell_type": "code",
   "execution_count": 7,
   "metadata": {},
   "outputs": [
    {
     "data": {
      "application/vnd.jupyter.widget-view+json": {
       "model_id": "aca5d253c18d4b8a9a131c46c2b8a965",
       "version_major": 2,
       "version_minor": 0
      },
      "text/plain": [
       "interactive(children=(Dropdown(description='Size of sample space:', index=3, options={'Two': 1, 'Four': 2, 'Si…"
      ]
     },
     "metadata": {},
     "output_type": "display_data"
    }
   ],
   "source": [
    "### \n",
    "def get_lucky(number_parititions,value):\n",
    "    if value==True or value==False:\n",
    "        lucky_number_one = random.choice(np.arange(1,2*number_parititions+1))\n",
    "\n",
    "        \n",
    "        axalpha = 0.05\n",
    "        figcolor = 'white'\n",
    "        dpi = 80\n",
    "        fig = plt.figure(figsize=(15,10), dpi=dpi,facecolor='black')\n",
    "        plt.subplot(211)\n",
    "\n",
    "        plt.subplot(212)\n",
    "\n",
    "        fig.patch.set_edgecolor(figcolor)\n",
    "        fig.patch.set_facecolor(figcolor)\n",
    "        ax = plt.subplot(121,projection='polar',facecolor=\"red\")\n",
    "        \n",
    "\n",
    "        ax.patch.set_alpha(axalpha)\n",
    "        ax.set_axisbelow(True)\n",
    "        \n",
    "        ax1 = plt.subplot(122)\n",
    "        ax1.grid(False)\n",
    "        ax1.set_xlim(0.1,0.9)\n",
    "        ax1.set_ylim(0.4,0.8)\n",
    "        \n",
    "        ax1.set_xticklabels([])\n",
    "        ax1.set_yticklabels([])\n",
    "        ax1.axis(\"off\")\n",
    "    \n",
    "        arc = 2. * np.pi\n",
    "        N = number_parititions\n",
    "        theta = np.arange(0.0, arc, arc/N)\n",
    "        \n",
    "        if number_parititions == 4:\n",
    "            radii_ar = [1.0 for i in range(number_parititions)]\n",
    "            width_ar = [1.0 for i in range(number_parititions)]\n",
    "    \n",
    "            radii = 10 * np.array(radii_ar)\n",
    "            width = np.pi/4  * np.array(width_ar)\n",
    "    \n",
    "            bars = ax.bar(theta, radii, width=width, bottom=0.0)\n",
    "            for r, bar in zip(radii, bars):\n",
    "                bar.set_facecolor(\"pink\")\n",
    "                bar.set_alpha(0.6)\n",
    "            \n",
    "            ax.text(0, 7, \"1\", fontsize=20,transform=ax.transData._b,)\n",
    "            ax.text(5, 5, \"2\", fontsize=20,transform=ax.transData._b)\n",
    "            ax.text(7, 0, \"3\", fontsize=20,transform=ax.transData._b)\n",
    "            ax.text(4, -5.5, \"4\", fontsize=20,transform=ax.transData._b)\n",
    "            ax.text(0, -7, \"5\", fontsize=20,transform=ax.transData._b)\n",
    "            ax.text(-5, -5, \"6\", fontsize=20,transform=ax.transData._b)\n",
    "            ax.text(-5, 5, \"8\", fontsize=20,transform=ax.transData._b)\n",
    "            ax.text(-7, 0, \"7\", fontsize=20,transform=ax.transData._b)\n",
    "            \n",
    "            if lucky_number_one==1:\n",
    "                ax.text(0, 7, \"1\", fontsize=20,transform=ax.transData._b,color=\"red\")\n",
    "            elif lucky_number_one==2:\n",
    "                ax.text(5, 5, \"2\", fontsize=20,transform=ax.transData._b,color=\"red\")\n",
    "            elif lucky_number_one==3:\n",
    "                ax.text(7, 0, \"3\", fontsize=20,transform=ax.transData._b,color='red')\n",
    "            elif lucky_number_one==4:\n",
    "                ax.text(4, -5.5, \"4\", fontsize=20,transform=ax.transData._b,color='red')\n",
    "            elif lucky_number_one==5:\n",
    "                ax.text(0, -7, \"5\", fontsize=20,transform=ax.transData._b,color=\"red\")\n",
    "            elif lucky_number_one==6:\n",
    "                ax.text(-5, -5, \"6\", fontsize=20,transform=ax.transData._b,color=\"red\")\n",
    "            elif lucky_number_one==7:\n",
    "                ax.text(-7, 0, \"7\", fontsize=20,transform=ax.transData._b,color='red')\n",
    "            elif lucky_number_one==8:\n",
    "                ax.text(-5, 5, \"8\", fontsize=20,transform=ax.transData._b,color='red')\n",
    "            ax1.text(0.1,0.74,\"Probability of each event\",fontsize=25)\n",
    "            ax1.text(0.1,0.5,\"P(1) = 1/8 = 1:8 = 12.5%\\n\\nP(2) = 1/8 = 1:8 = 12.5%\\n\\nP(3) = 1/8 = 1:8 = 12.5%\\n\\nP(4) = 1/8 = 1:8 = 12.5%\\n\\nP(5) = 1/8 = 1:8 = 12.5%\\n\\nP(6) = 1/8 = 1:8 = 12.5%\\n\\nP(7) = 1/8 = 1:8 = 12.5%\\n\\nP(8) = 1/8 = 1:8 = 12.5%\"\\\n",
    "                      ,fontsize=20)\n",
    "            ax1.text(0.1,0.45,\"Probability Outcome\",fontsize=25)\n",
    "            ax1.text(0.1,0.42,\"The result after spinning is \" + str(lucky_number_one),fontsize=20)\n",
    "\n",
    "        elif number_parititions == 3:\n",
    "    \n",
    "            radii_ar = [1.0 for i in range(number_parititions)]\n",
    "            width_ar = [1.3 for i in range(number_parititions)]\n",
    "    \n",
    "            radii = 10 * np.array(radii_ar)\n",
    "            width = np.pi/4  * np.array(width_ar)\n",
    "    \n",
    "            bars = ax.bar(theta, radii, width=width, bottom=0.0)\n",
    "            for r, bar in zip(radii, bars):\n",
    "                bar.set_facecolor(\"pink\")\n",
    "                bar.set_alpha(0.6)\n",
    "            ax.text(-4, 7, \"1\", fontsize=20,transform=ax.transData._b)\n",
    "            ax.text(3, 6.5, \"2\", fontsize=20,transform=ax.transData._b)\n",
    "            ax.text(7, 0, \"3\", fontsize=20,transform=ax.transData._b)\n",
    "            ax.text(3, -6.5, \"4\", fontsize=20,transform=ax.transData._b)\n",
    "            ax.text(-4, -7, \"5\", fontsize=20,transform=ax.transData._b)\n",
    "            ax.text(-8, 0, \"6\", fontsize=20,transform=ax.transData._b)\n",
    "            \n",
    "            if lucky_number_one==1:\n",
    "                ax.text(-4, 7, \"1\", fontsize=20,transform=ax.transData._b,color='red')\n",
    "            elif lucky_number_one==2:\n",
    "                ax.text(3, 6.5, \"2\", fontsize=20,transform=ax.transData._b,color='red')\n",
    "            elif lucky_number_one==3:\n",
    "                ax.text(7, 0, \"3\", fontsize=20,transform=ax.transData._b,color='red')\n",
    "            elif lucky_number_one==4:\n",
    "                ax.text(3, -6.5, \"4\", fontsize=20,transform=ax.transData._b,color='red')\n",
    "            elif lucky_number_one==5:\n",
    "                ax.text(-4, -7, \"5\", fontsize=20,transform=ax.transData._b,color='red')\n",
    "            elif lucky_number_one==6:\n",
    "                ax.text(-8, 0, \"6\", fontsize=20,transform=ax.transData._b,color='red')\n",
    "            \n",
    "            ax1.text(0.1,0.74,\"Probability of each event\",fontsize=25)\n",
    "            ax1.text(0.1,0.55,\"P(1) = 1/6 = 1:6 = 16.67%\\n\\nP(2) = 1/6 = 1:6 = 16.67%\\n\\nP(3) = 1/6 = 1:6 = 16.67\\n\\nP(4) = 1/6 = 1:6 = 16.67%\\n\\nP(5) = 1/6 = 1:6 = 16.67%\\n\\nP(6) = 1/6 = 1:6 = 16.67%\"\\\n",
    "                      ,fontsize=20)\n",
    "            ax1.text(0.1,0.5,\"Probability Outcome\",fontsize=25)\n",
    "            ax1.text(0.1,0.48,\"The result after spinning is \" + str(lucky_number_one),fontsize=20)\n",
    "\n",
    "            \n",
    "        elif number_parititions == 2:\n",
    "            radii_ar = [1.0 for i in range(number_parititions)]\n",
    "            width_ar = [1.7 for i in range(number_parititions)]\n",
    "    \n",
    "            radii = 10 * np.array(radii_ar)\n",
    "            width = np.pi/4  * np.array(width_ar)\n",
    "    \n",
    "            bars = ax.bar(theta, radii, width=width, bottom=0.0)\n",
    "            for r, bar in zip(radii, bars):\n",
    "                bar.set_facecolor(\"pink\")\n",
    "                bar.set_alpha(0.6)\n",
    "            ax.text(0, 8, \"1\", fontsize=20,transform=ax.transData._b)\n",
    "            ax.text(7, 0, \"2\", fontsize=20,transform=ax.transData._b)\n",
    "            ax.text(0, -8, \"3\", fontsize=20,transform=ax.transData._b)\n",
    "            ax.text(-8, 0, \"4\", fontsize=20,transform=ax.transData._b)\n",
    "            \n",
    "            if lucky_number_one==1:\n",
    "                ax.text(0, 8, \"1\", fontsize=20,transform=ax.transData._b,color='red')\n",
    "            elif lucky_number_one==2:\n",
    "                ax.text(7, 0, \"2\", fontsize=20,transform=ax.transData._b,color='red')\n",
    "            elif lucky_number_one==3:\n",
    "                ax.text(0, -8, \"3\", fontsize=20,transform=ax.transData._b,color='red')\n",
    "            elif lucky_number_one==4:\n",
    "                ax.text(-8, 0, \"4\", fontsize=20,transform=ax.transData._b,color='red')\n",
    "            \n",
    "            ax1.text(0.1,0.74,\"Probability of each event\",fontsize=25)\n",
    "            ax1.text(0.1,0.6,\"P(1) = 1/4 = 1:4 = 25%\\n\\nP(2) = 1/4 = 1:4 =25%\\n\\nP(3) = 1/4 = 1:4 =25%\\n\\nP(4) = 1/4 = 1:4 =25%\",fontsize=20)\n",
    "            #ax1.text(0.1,0.5,\"This is equivalent to 50%.\",fontsize=20)\n",
    "            ax1.text(0.1,0.54,\"Probability Outcome\",fontsize=25)\n",
    "            ax1.text(0.1,0.52,\"The result after spinning is \" + str(lucky_number_one),fontsize=20)\n",
    "\n",
    "\n",
    "        elif number_parititions == 1:\n",
    "            radii_ar = [1.0 for i in range(number_parititions)]\n",
    "            width_ar = [4 for i in range(number_parititions)]\n",
    "    \n",
    "            radii = 10 * np.array(radii_ar)\n",
    "            width = np.pi/4  * np.array(width_ar)\n",
    "    \n",
    "            bars = ax.bar(theta, radii, width=width, bottom=0.0)\n",
    "            for r, bar in zip(radii, bars):\n",
    "                bar.set_facecolor(\"pink\")\n",
    "                bar.set_alpha(0.6)\n",
    "            ax.text(8, 0, \"1\", fontsize=20,transform=ax.transData._b)\n",
    "            ax.text(-8, 0, \"2\", fontsize=20,transform=ax.transData._b)\n",
    "            \n",
    "            if lucky_number_one==1:\n",
    "                ax.text(8, 0, \"1\", fontsize=20,transform=ax.transData._b,color='red')\n",
    "            elif lucky_number_one==2:\n",
    "                ax.text(-8, 0, \"2\", fontsize=20,transform=ax.transData._b,color='red')\n",
    "            \n",
    "            ax1.text(0.1,0.7,\"Probability of each event\",fontsize=25)\n",
    "            ax1.text(0.1,0.6,\"P(1) = 1/2 = 1:2 = 50%\\n\\nP(2) = 1/2 = 1:2 =50%\",fontsize=20)\n",
    "            ax1.text(0.1,0.54,\"Probability Outcome\",fontsize=25)\n",
    "            ax1.text(0.1,0.52,\"The result after spinning is \" + str(lucky_number_one),fontsize=20)\n",
    "\n",
    "        ax.tick_params(labelbottom=False, labeltop=False,\n",
    "                   labelleft=False, labelright=False)\n",
    "\n",
    "        ax.grid(False)\n",
    "        ax.set_yticks(np.arange(1, 9, 2))\n",
    "        ax1.set_yticks([])\n",
    "        ax1.set_xticks([])\n",
    "    \n",
    "        ax1.set_title(\"Probabilites as fractions, ratios and percents\",fontsize=30)\n",
    "        plt.show()\n",
    "    \n",
    "style = {'description_width': 'initial'}    \n",
    "lucky = interact(get_lucky,number_parititions = widgets.Dropdown(\n",
    "    options={'Two': 1, 'Four': 2, 'Six': 3,'Eight':4},\n",
    "    value=4,\n",
    "    description='Size of sample space:',\n",
    "    style=style\n",
    "),\n",
    "    value = widgets.ToggleButton(\n",
    "        value=True,\n",
    "        description='Click to Play!',\n",
    "        disabled=False,\n",
    "        button_style='danger', # 'success', 'info', 'warning', 'danger' or ''\n",
    "        tooltip='Description',\n",
    "        icon='check'\n",
    "    ))\n"
   ]
  },
  {
   "cell_type": "markdown",
   "metadata": {},
   "source": [
    "### Question 1\n",
    "\n",
    "Using fractions, what is the probability of the event 1, denoted $P(1)$, if the sample size of the roulette is 4?"
   ]
  },
  {
   "cell_type": "code",
   "execution_count": 8,
   "metadata": {},
   "outputs": [
    {
     "data": {
      "application/vnd.jupyter.widget-view+json": {
       "model_id": "5ebfc3f46cc74b3eba4f09bb820cdd13",
       "version_major": 2,
       "version_minor": 0
      },
      "text/plain": [
       "interactive(children=(Select(description='Probability as fraction', options=('Select option', '1/2', '4', '1/3…"
      ]
     },
     "metadata": {},
     "output_type": "display_data"
    }
   ],
   "source": [
    "from ipywidgets import interact_manual,widgets\n",
    "\n",
    "\n",
    "s = {'description_width': 'initial'}        \n",
    "@interact(answer =widgets.Select(\n",
    "                    options=[\"Select option\",\"1/2\",\\\n",
    "                            \"4\",\"1/3\",\\\n",
    "                             \"1/4\"],\n",
    "                    value='Select option',\n",
    "                    description=\"Probability as fraction\",\n",
    "                    disabled=False,\n",
    "                    style=s\n",
    "))\n",
    "\n",
    "def reflective_angle_question(answer):\n",
    "    if answer==\"Select option\":\n",
    "        print(\"Click on the correct probability expressed as a fraction.\")\n",
    "    \n",
    "    elif answer==\"1/4\":\n",
    "        print(\"Correct!\\nWith a sample space of size 4, each with equal likelihood, P(1)=1/4.\")\n",
    "    elif answer != \"1/4\" or answer != \"Select Option\":\n",
    "        print(\"Hint: What is P(1) if P(i) = 1/4 for all i = 1,2,3,4?\")"
   ]
  },
  {
   "cell_type": "markdown",
   "metadata": {},
   "source": [
    "### Question 2\n",
    "\n",
    "What is P(1) if the size of the sample space is 4, but this time expressed as percent?"
   ]
  },
  {
   "cell_type": "code",
   "execution_count": 9,
   "metadata": {},
   "outputs": [
    {
     "data": {
      "application/vnd.jupyter.widget-view+json": {
       "model_id": "5c616d6c1b944386af12a2aa14327d5f",
       "version_major": 2,
       "version_minor": 0
      },
      "text/plain": [
       "interactive(children=(Select(description='Probability as percent', options=('Select option', '25%', '100%', '4…"
      ]
     },
     "metadata": {},
     "output_type": "display_data"
    }
   ],
   "source": [
    "from ipywidgets import interact_manual,widgets\n",
    "\n",
    "\n",
    "s = {'description_width': 'initial'}        \n",
    "@interact(answer =widgets.Select(\n",
    "                    options=[\"Select option\",\"25%\",\\\n",
    "                            \"100%\",\"40%\",\\\n",
    "                             \"10%\"],\n",
    "                    value='Select option',\n",
    "                    description=\"Probability as percent\",\n",
    "                    disabled=False,\n",
    "                    style=s\n",
    "))\n",
    "\n",
    "def reflective_angle_question(answer):\n",
    "    if answer==\"Select option\":\n",
    "        print(\"Click on the correct probability expressed in percent.\")\n",
    "    \n",
    "    elif answer==\"25%\":\n",
    "        print(\"Correct!\\nWith four probability events, each with equal likelihood, P(1) = 25%.\")\n",
    "    elif answer != \"25%\" or answer != \"Select Option\":\n",
    "        print(\"Hint: The total number of outcomes is 4, which corresponds to 100%. What is 100/4?\")"
   ]
  },
  {
   "cell_type": "markdown",
   "metadata": {},
   "source": [
    "### Question 3\n",
    "\n",
    "Using the widget created above, change the Size of sample space to 8. What is $P(7)$ as a ratio? "
   ]
  },
  {
   "cell_type": "code",
   "execution_count": 10,
   "metadata": {},
   "outputs": [
    {
     "data": {
      "application/vnd.jupyter.widget-view+json": {
       "model_id": "101eb1492e67411595cdb51f2a7fc63a",
       "version_major": 2,
       "version_minor": 0
      },
      "text/plain": [
       "interactive(children=(Select(description='Probability as ratio', options=('Select option', '1:6', '1:4', '1:8'…"
      ]
     },
     "metadata": {},
     "output_type": "display_data"
    }
   ],
   "source": [
    "from ipywidgets import interact_manual,widgets\n",
    "\n",
    "\n",
    "s = {'description_width': 'initial'}        \n",
    "@interact(answer =widgets.Select(\n",
    "                    options=[\"Select option\",\"1:6\",\\\n",
    "                            \"1:4\",\"1:8\",\\\n",
    "                             \"1:7\"],\n",
    "                    value='Select option',\n",
    "                    description=\"Probability as ratio\",\n",
    "                    disabled=False,\n",
    "                    style=s\n",
    "))\n",
    "\n",
    "def reflective_angle_question(answer):\n",
    "    if answer==\"Select option\":\n",
    "        print(\"Click on the correct probability expressed as a percentage.\")\n",
    "    \n",
    "    elif answer==\"1:8\":\n",
    "        print(\"Correct!\\nWith eight probability events, each with equal likelihood, \\nP(7) =  1:8.\")\n",
    "    elif answer != \"1:8\" or answer != \"Select Option\":\n",
    "        print(\"Hint: 1 in every 8 corresponds to the event 7. What is P(7) in ratio?\")"
   ]
  },
  {
   "cell_type": "markdown",
   "metadata": {},
   "source": [
    "<h2 align='center'>Independent Events & Sample Space</h2>\n",
    "<!-- Specific Outcome 5 Identify the sample space (where the combined sample space has 36 or fewer elements) for a probability experiment involving two independent events.-->\n",
    "\n",
    "In this section, we define the concept of **independent probability experiments** as well as the corresponding sample space, and provide a game where we can experiment with the two concepts. \n",
    "\n",
    "<div class=\"alert alert-warning\">\n",
    "<font color=\"black\"><b>Definition.</b> We say that two probability experiments are **independent** if the outcome of one does not affect the outcome of the other. </font>\n",
    "</div>\n",
    "\n",
    "For example, if we spin two roulettes at the same time, then the two experiments are independent, as the outcome of each does not affect the other.\n",
    "\n",
    "Try spinning the two roulettes below via using the red button. As before, in each roulette the number in red denotes the outcome of the experiment. These two roulettes are not linked and as you can see from a few spins, their outcomes are not related at all: spinning them are independent experiments."
   ]
  },
  {
   "cell_type": "code",
   "execution_count": 11,
   "metadata": {},
   "outputs": [
    {
     "data": {
      "application/vnd.jupyter.widget-view+json": {
       "model_id": "05f5f8fe81844da8857629f081292fbc",
       "version_major": 2,
       "version_minor": 0
      },
      "text/plain": [
       "interactive(children=(ToggleButton(value=True, button_style='danger', description='Spin', icon='check', toolti…"
      ]
     },
     "metadata": {},
     "output_type": "display_data"
    }
   ],
   "source": [
    "def spin(value):\n",
    "    if value==True or value==False:\n",
    "        \n",
    "        lucky_number_one = random.choice([1,2,3,4,5,6])\n",
    "        \n",
    "        lucky_number_one_c = random.choice([1,2,3,4,5,6])\n",
    "        \n",
    "        x_t,y_t = [i/10 for i in range(10)],[i/10 for i in range(10)]\n",
    "\n",
    "    \n",
    "        axalpha = 0.05\n",
    "        figcolor = 'white'\n",
    "        dpi = 80\n",
    "        \n",
    "        gs = gridspec.GridSpec(2, 3)\n",
    "        fig = plt.figure(figsize=(15,8), dpi=dpi,facecolor='black')      \n",
    "\n",
    "        fig.patch.set_edgecolor(figcolor)\n",
    "        fig.patch.set_facecolor(figcolor)\n",
    "        \n",
    "        ax1 = plt.subplot(gs[0, 0]) \n",
    "        ax1.grid(False)\n",
    "        ax1.axis(\"Off\")\n",
    "        ax2 = plt.subplot(gs[1, 0]) \n",
    "        ax2.grid(False)\n",
    "        ax2.axis(\"Off\")\n",
    "        ax5 = plt.subplot(gs[0, 2]) \n",
    "        ax5.grid(False)\n",
    "        ax5.axis(\"Off\")\n",
    "        ax6 = plt.subplot(gs[1, 2]) \n",
    "        ax6.grid(False)\n",
    "        ax6.axis(\"Off\")\n",
    "        #ax.axis(\"Off\")\n",
    "        \n",
    "        ax = plt.subplot(gs[0,0],projection='polar',facecolor=\"red\") # row 0, col 0\n",
    "        plt.plot([0,1])\n",
    "    \n",
    "        ax.plot(x_t,y_t,transform=ax.transData._b,color=\"#FEE9FF\",linewidth=5)\n",
    "            \n",
    "        ax.patch.set_alpha(axalpha)\n",
    "        ax.set_axisbelow(True)\n",
    "    \n",
    "        number_parititions = 3\n",
    "        arc = 2. * np.pi\n",
    "        N = number_parititions\n",
    "        theta = np.arange(0.0, arc, arc/N)\n",
    "    \n",
    "        radii_ar = [1.0 for i in range(number_parititions)]\n",
    "        width_ar = [1.3 for i in range(number_parititions)]\n",
    "    \n",
    "        radii = 10 * np.array(radii_ar)\n",
    "        width = np.pi/4  * np.array(width_ar)\n",
    "    \n",
    "        bars = ax.bar(theta, radii, width=width, bottom=0.0)\n",
    "        for r, bar in zip(radii, bars):\n",
    "            bar.set_facecolor(\"pink\")\n",
    "            bar.set_alpha(0.6)\n",
    "        ax.text(-4, 7, \"1\", fontsize=20,transform=ax.transData._b)\n",
    "        ax.text(3, 6.5, \"2\", fontsize=20,transform=ax.transData._b)\n",
    "        ax.text(7, 0, \"3\", fontsize=20,transform=ax.transData._b)\n",
    "        ax.text(3, -6.5, \"4\", fontsize=20,transform=ax.transData._b)\n",
    "        ax.text(-4, -7, \"5\", fontsize=20,transform=ax.transData._b)\n",
    "        ax.text(-8, 0, \"6\", fontsize=20,transform=ax.transData._b)\n",
    "        \n",
    "        if lucky_number_one==1:\n",
    "            #bar3.set_facecolor(\"#000000\")\n",
    "            ax.text(-4, 7, \"1\", fontsize=20,transform=ax.transData._b,color='red')\n",
    "        elif lucky_number_one==2:\n",
    "            #bar2.set_facecolor(\"#000000\")\n",
    "            ax.text(3, 6.5, \"2\", fontsize=20,transform=ax.transData._b,color='red')\n",
    "            \n",
    "        elif lucky_number_one==3:\n",
    "            #bar1.set_facecolor(\"#000000\")\n",
    "            ax.text(7, 0, \"3\", fontsize=20,transform=ax.transData._b,color='red')\n",
    "            \n",
    "        elif lucky_number_one==4:\n",
    "            #bar6.set_facecolor(\"#000000\")\n",
    "            ax.text(3, -6.5, \"4\", fontsize=20,transform=ax.transData._b,color='red')\n",
    "            \n",
    "        elif lucky_number_one==5:\n",
    "            #bar5.set_facecolor(\"#000000\")\n",
    "            ax.text(-4, -7, \"5\", fontsize=20,transform=ax.transData._b,color='red')\n",
    "            \n",
    "        elif lucky_number_one==6:\n",
    "            #bar4.set_facecolor(\"#000000\")\n",
    "            ax.text(-8, 0, \"6\", fontsize=20,transform=ax.transData._b,color='red')\n",
    "        \n",
    "        ax.tick_params(labelbottom=False, labeltop=False,\n",
    "                   labelleft=False, labelright=False)\n",
    "\n",
    "        ax.grid(False)\n",
    "        ax.axis(\"On\")\n",
    "        ax.set_title(\"Top Roulette\",fontsize=20)\n",
    "        \n",
    "        ax4 = plt.subplot(gs[1, 0],projection='polar',facecolor=\"red\") # row 0, col 0\n",
    "        plt.plot([0,1])\n",
    "\n",
    "        ax4.plot(x_t,y_t,transform=ax4.transData._b,color=\"#FEE9FF\",linewidth=5)\n",
    "        ax4.patch.set_alpha(axalpha)\n",
    "        ax4.set_axisbelow(True)\n",
    "    \n",
    "        bars = ax4.bar(theta, radii, width=width, bottom=0.0)\n",
    "        for r, bar in zip(radii, bars):\n",
    "            bar.set_facecolor(\"pink\")\n",
    "            bar.set_alpha(0.6)\n",
    "        ax4.text(-4, 7, \"1\", fontsize=20,transform=ax4.transData._b)\n",
    "        ax4.text(3, 6.5, \"2\", fontsize=20,transform=ax4.transData._b)\n",
    "        ax4.text(7, 0, \"3\", fontsize=20,transform=ax4.transData._b)\n",
    "        ax4.text(3, -6.5, \"4\", fontsize=20,transform=ax4.transData._b)\n",
    "        ax4.text(-4, -7, \"5\", fontsize=20,transform=ax4.transData._b)\n",
    "        ax4.text(-8, 0, \"6\", fontsize=20,transform=ax4.transData._b)\n",
    "        \n",
    "        if lucky_number_one_c==1:\n",
    "            #bar3.set_facecolor(\"#000000\")\n",
    "            ax4.text(-4, 7, \"1\", fontsize=20,transform=ax4.transData._b,color='red')\n",
    "        elif lucky_number_one_c==2:\n",
    "            #bar2.set_facecolor(\"#000000\")\n",
    "            ax4.text(3, 6.5, \"2\", fontsize=20,transform=ax4.transData._b,color='red')\n",
    "            \n",
    "        elif lucky_number_one_c==3:\n",
    "            #bar1.set_facecolor(\"#000000\")\n",
    "            ax4.text(7, 0, \"3\", fontsize=20,transform=ax4.transData._b,color='red')\n",
    "            \n",
    "        elif lucky_number_one_c==4:\n",
    "            #bar6.set_facecolor(\"#000000\")\n",
    "            ax4.text(3, -6.5, \"4\", fontsize=20,transform=ax4.transData._b,color='red')\n",
    "            \n",
    "        elif lucky_number_one_c==5:\n",
    "            #bar5.set_facecolor(\"#000000\")\n",
    "            ax4.text(-4, -7, \"5\", fontsize=20,transform=ax4.transData._b,color='red')\n",
    "            \n",
    "        elif lucky_number_one_c==6:\n",
    "            #bar4.set_facecolor(\"#000000\")\n",
    "            ax4.text(-8, 0, \"6\", fontsize=20,transform=ax4.transData._b,color='red')\n",
    "        \n",
    "        ax4.tick_params(labelbottom=False, labeltop=False,\n",
    "                   labelleft=False, labelright=False)\n",
    "\n",
    "        ax4.grid(False)\n",
    "        ax4.axis(\"On\")\n",
    "        ax4.set_title(\"Bottom Roulette\",fontsize=20)\n",
    "        \n",
    "        x,y = np.array([i/10 for i in range(11)]),np.array([i/10 for i in range(11)])\n",
    "        \n",
    "        ax2 = plt.subplot(gs[0,1:]) # row 0, col 0\n",
    "        plt.plot([0,1])\n",
    "        \n",
    "        ax2.grid(False)\n",
    "        ax2.axis(\"Off\")\n",
    "        #ax2.set_title(\"Top Roulette Outcome\",fontsize=20)\n",
    "        ax2.plot(x,y,color='white',linewidth=4)\n",
    "        ax2.text(0.1,0.5,\"Top Roulette Outcome: \" +str(lucky_number_one),fontsize=20)\n",
    "        \n",
    "        ax5 = plt.subplot(gs[1,1:]) # row 0, col 0\n",
    "        plt.plot([0,1])\n",
    "        \n",
    "        ax5.grid(False)\n",
    "        ax5.axis(\"Off\")\n",
    "        #ax5.set_title(\"Bottom Roulette Outcome\",fontsize=20)\n",
    "        ax5.plot(x,y,color='white',linewidth=4)\n",
    "        ax5.text(0.1,0.5,\"Bottom Roulette Outcome: \" + str(lucky_number_one_c),fontsize=20)\n",
    "        \n",
    "lucky = interact(spin,value = widgets.ToggleButton(\n",
    "        value=True,\n",
    "        description=\"Spin\",\n",
    "        disabled=False,\n",
    "        button_style='danger', # 'success', 'info', 'warning', 'danger' or ''\n",
    "        tooltip='Description',\n",
    "        icon='check'\n",
    "    ))\n"
   ]
  },
  {
   "cell_type": "markdown",
   "metadata": {},
   "source": [
    "Recall that \n",
    "\n",
    "<div class=\"alert alert-warning\">\n",
    "<font color=\"black\"><b>Definition.</b> The **sample space** of an experiment is the set of all possible outcomes   of that experiment.</font>\n",
    "</div>\n",
    "\n",
    "If, for example, we take the two roulettes above, we can define the sample space of spinning both of then at the same time as the set of all ordered pairs $(n_t,n_b)$, where $n_t$ denotes the outcome of spinning the top roulette and $n_b$ denotes the outcome of spinning the bottom roulette. This sample space is given by the table below, which is a 6 by 6 table where each entry is a pair $(n_t,n_b)$."
   ]
  },
  {
   "cell_type": "code",
   "execution_count": 12,
   "metadata": {},
   "outputs": [
    {
     "data": {
      "application/vnd.jupyter.widget-view+json": {
       "model_id": "61d164cd11a54084af63a9df0a239d48",
       "version_major": 2,
       "version_minor": 0
      },
      "text/plain": [
       "interactive(children=(ToggleButton(value=True, button_style='danger', description='Spin', icon='check', toolti…"
      ]
     },
     "metadata": {},
     "output_type": "display_data"
    }
   ],
   "source": [
    "def spin_sample_space(value):\n",
    "    if value==True or value==False:\n",
    "        \n",
    "        lucky_number_one = random.choice([1,2,3,4,5,6])\n",
    "        \n",
    "        lucky_number_one_c = random.choice([1,2,3,4,5,6])\n",
    "        \n",
    "        x_t,y_t = [i/10 for i in range(10)],[i/10 for i in range(10)]\n",
    "    \n",
    "        axalpha = 0.05\n",
    "        figcolor = 'white'\n",
    "        dpi = 80\n",
    "        \n",
    "        gs = gridspec.GridSpec(2, 2)\n",
    "        fig = plt.figure(figsize=(15,8), dpi=dpi,facecolor='black')      \n",
    "\n",
    "        fig.patch.set_edgecolor(figcolor)\n",
    "        fig.patch.set_facecolor(figcolor)\n",
    "        ax = plt.subplot(gs[0, 0],projection='polar',facecolor=\"red\") \n",
    "        plt.plot([0,1])\n",
    "\n",
    "        ax.patch.set_alpha(axalpha)\n",
    "        ax.set_axisbelow(True)\n",
    "        \n",
    "        ax.plot(x_t,y_t,transform=ax.transData._b,color=\"#FEE9FF\",linewidth=5)\n",
    "    \n",
    "        number_parititions = 3\n",
    "        arc = 2. * np.pi\n",
    "        N = number_parititions\n",
    "        theta = np.arange(0.0, arc, arc/N)\n",
    "    \n",
    "        radii_ar = [1.0 for i in range(number_parititions)]\n",
    "        width_ar = [1.3 for i in range(number_parititions)]\n",
    "    \n",
    "        radii = 10 * np.array(radii_ar)\n",
    "        width = np.pi/4  * np.array(width_ar)\n",
    "    \n",
    "        bars = ax.bar(theta, radii, width=width, bottom=0.0)\n",
    "        for r, bar in zip(radii, bars):\n",
    "            bar.set_facecolor(\"pink\")\n",
    "            bar.set_alpha(0.6)\n",
    "        ax.text(-4, 7, \"1\", fontsize=20,transform=ax.transData._b)\n",
    "        ax.text(3, 6.5, \"2\", fontsize=20,transform=ax.transData._b)\n",
    "        ax.text(7, 0, \"3\", fontsize=20,transform=ax.transData._b)\n",
    "        ax.text(3, -6.5, \"4\", fontsize=20,transform=ax.transData._b)\n",
    "        ax.text(-4, -7, \"5\", fontsize=20,transform=ax.transData._b)\n",
    "        ax.text(-8, 0, \"6\", fontsize=20,transform=ax.transData._b)\n",
    "        \n",
    "        if lucky_number_one==1:\n",
    "            #bar3.set_facecolor(\"#000000\")\n",
    "            ax.text(-4, 7, \"1\", fontsize=20,transform=ax.transData._b,color='red')\n",
    "        elif lucky_number_one==2:\n",
    "            #bar2.set_facecolor(\"#000000\")\n",
    "            ax.text(3, 6.5, \"2\", fontsize=20,transform=ax.transData._b,color='red')\n",
    "            \n",
    "        elif lucky_number_one==3:\n",
    "            #bar1.set_facecolor(\"#000000\")\n",
    "            ax.text(7, 0, \"3\", fontsize=20,transform=ax.transData._b,color='red')\n",
    "            \n",
    "        elif lucky_number_one==4:\n",
    "            #bar6.set_facecolor(\"#000000\")\n",
    "            ax.text(3, -6.5, \"4\", fontsize=20,transform=ax.transData._b,color='red')\n",
    "            \n",
    "        elif lucky_number_one==5:\n",
    "            #bar5.set_facecolor(\"#000000\")\n",
    "            ax.text(-4, -7, \"5\", fontsize=20,transform=ax.transData._b,color='red')\n",
    "            \n",
    "        elif lucky_number_one==6:\n",
    "            #bar4.set_facecolor(\"#000000\")\n",
    "            ax.text(-8, 0, \"6\", fontsize=20,transform=ax.transData._b,color='red')\n",
    "        \n",
    "        ax.tick_params(labelbottom=False, labeltop=False,\n",
    "                   labelleft=False, labelright=False)\n",
    "\n",
    "        ax.grid(False)\n",
    "        ax.axis(\"On\")\n",
    "        ax.set_title(\"Top Roulette\",fontsize=20)\n",
    "        \n",
    "        \n",
    "        \n",
    "        ax4 = plt.subplot(gs[1, 0],projection='polar',facecolor=\"red\") # row 0, col 0\n",
    "        plt.plot([0,1])\n",
    "\n",
    "        \n",
    "        ax4.patch.set_alpha(axalpha)\n",
    "        ax4.set_axisbelow(True)\n",
    "        \n",
    "        \n",
    "        ax4.plot(x_t,y_t,transform=ax4.transData._b,color=\"#FEE9FF\",linewidth=5)\n",
    "        bars = ax4.bar(theta, radii, width=width, bottom=0.0)\n",
    "        for r, bar in zip(radii, bars):\n",
    "            bar.set_facecolor(\"pink\")\n",
    "            bar.set_alpha(0.6)\n",
    "        ax4.text(-4, 7, \"1\", fontsize=20,transform=ax4.transData._b)\n",
    "        ax4.text(3, 6.5, \"2\", fontsize=20,transform=ax4.transData._b)\n",
    "        ax4.text(7, 0, \"3\", fontsize=20,transform=ax4.transData._b)\n",
    "        ax4.text(3, -6.5, \"4\", fontsize=20,transform=ax4.transData._b)\n",
    "        ax4.text(-4, -7, \"5\", fontsize=20,transform=ax4.transData._b)\n",
    "        ax4.text(-8, 0, \"6\", fontsize=20,transform=ax4.transData._b)\n",
    "        \n",
    "        if lucky_number_one_c==1:\n",
    "            #bar3.set_facecolor(\"#000000\")\n",
    "            ax4.text(-4, 7, \"1\", fontsize=20,transform=ax4.transData._b,color='red')\n",
    "        elif lucky_number_one_c==2:\n",
    "            #bar2.set_facecolor(\"#000000\")\n",
    "            ax4.text(3, 6.5, \"2\", fontsize=20,transform=ax4.transData._b,color='red')\n",
    "            \n",
    "        elif lucky_number_one_c==3:\n",
    "            #bar1.set_facecolor(\"#000000\")\n",
    "            ax4.text(7, 0, \"3\", fontsize=20,transform=ax4.transData._b,color='red')\n",
    "            \n",
    "        elif lucky_number_one_c==4:\n",
    "            #bar6.set_facecolor(\"#000000\")\n",
    "            ax4.text(3, -6.5, \"4\", fontsize=20,transform=ax4.transData._b,color='red')\n",
    "            \n",
    "        elif lucky_number_one_c==5:\n",
    "            #bar5.set_facecolor(\"#000000\")\n",
    "            ax4.text(-4, -7, \"5\", fontsize=20,transform=ax4.transData._b,color='red')\n",
    "            \n",
    "        elif lucky_number_one_c==6:\n",
    "            #bar4.set_facecolor(\"#000000\")\n",
    "            ax.text(-8, 0, \"6\", fontsize=20,transform=ax4.transData._b,color='red')\n",
    "        \n",
    "        ax4.tick_params(labelbottom=False, labeltop=False,\n",
    "                   labelleft=False, labelright=False)\n",
    "\n",
    "        ax4.grid(False)\n",
    "        ax4.axis(\"On\")\n",
    "        ax4.set_title(\"Bottom Roulette\",fontsize=20)\n",
    "        \n",
    "        ax1 = plt.subplot(gs[:, 1:],facecolor='#0475A8') # row 1, span all columns\n",
    "        plt.plot([0,1])\n",
    "        ax1.set_axisbelow(True)\n",
    "        ax1.grid(color='black', linestyle='-', linewidth=2)\n",
    "        \n",
    "        \n",
    "    \n",
    "        ax1.set_xlim(0.1,0.7)\n",
    "        ax1.set_ylim(0.1,0.7)\n",
    "\n",
    "        rec = Rectangle([lucky_number_one/10,lucky_number_one_c/10],0.1,0.1,facecolor=\"black\")\n",
    "        ax1.add_patch(rec)\n",
    "        x,y = [lucky_number_one/10,lucky_number_one/10+ 0.1], [lucky_number_one_c/10,lucky_number_one_c/10 + 0.1]\n",
    "        ax1.plot(x,y,color='black',linewidth=4)\n",
    "        for i in range(1,7):\n",
    "            for j in range(1,7):\n",
    "                ax1.text(i/10 + 0.02,j/10 + 0.055,\"(\" + str(i)+\",\"+ str(j)+\")\",fontsize = 15,color='white') \n",
    "        ax1.set_xticklabels([\" \",1,2,3,4,5,6])\n",
    "        ax1.set_yticklabels([\" \",1,2,3,4,5,6])\n",
    "        ax1.set_xlabel(\"Top Roulette Outcome\",fontsize = 20)\n",
    "        ax1.set_ylabel(\"Bottom Roulette Outcome\",fontsize = 20)\n",
    "        ax1.xaxis.tick_top()\n",
    "        ax1.invert_yaxis()\n",
    "\n",
    "        plt.show()\n",
    "        \n",
    "        \n",
    "lucky = interact(spin_sample_space,value = widgets.ToggleButton(\n",
    "        value=True,\n",
    "        description=\"Spin\",\n",
    "        disabled=False,\n",
    "        button_style='danger', # 'success', 'info', 'warning', 'danger' or ''\n",
    "        tooltip='Description',\n",
    "        icon='check'\n",
    "    ))\n",
    "\n",
    "\n",
    "\n"
   ]
  },
  {
   "cell_type": "markdown",
   "metadata": {},
   "source": [
    "In this case, since the events are independent and each event has six possible outcomes, the sample space contains\n",
    "\n",
    "$$6 \\times 6 = 36$$\n",
    "\n",
    "possible outcomes, where each outcome is a pair of the form $(n_t,n_b)$. \n",
    "\n",
    "The probability of obtaining any given pair $(n_t,n_b)$, is given by the probability of obtaining $n_t$ with the top roulette (first experiment) multiplied by the probability of obtaining $n_b$ with the bottom roulette (second experiment). If we assume that each event is equally likely to occur\n",
    "\n",
    "$$P(n_t,n_b) = \\dfrac{1}{36}$$\n",
    "\n",
    "Note that we can multiply \n",
    "* the sizes of the two sample spaces (for each roulete) to obtain the sample space size of the combined experiments\n",
    "* the probabilities of obtaining $n_t$ and $n_b$ to obayin the probability of the event $(n_t,n_b)$\n",
    "**because** the two experiments are ** independent**. This is an important property of joint probability experiments.\n",
    "\n",
    "<div class=\"alert alert-warning\">\n",
    "<font color=\"black\"><b>Property.</b> Consider two independent probability experiments $E_1$ and $E_2$ of respective sample space sizes $N_1$ and $N_2$. The size of the sample space of the joint experiment $(E_1,E_2)$ is $N_1\\times N_2$. The probability of the event $(n_1,n_2)$ is $P(n_1)\\times P(n_2)$.</font>\n",
    "</div>"
   ]
  },
  {
   "cell_type": "markdown",
   "metadata": {},
   "source": [
    "## Question 4\n",
    "\n",
    "What is the probability assigned to the event (1,1)?"
   ]
  },
  {
   "cell_type": "code",
   "execution_count": 13,
   "metadata": {},
   "outputs": [
    {
     "data": {
      "application/vnd.jupyter.widget-view+json": {
       "model_id": "b80f461e6cb64433b936e4aac9542121",
       "version_major": 2,
       "version_minor": 0
      },
      "text/plain": [
       "interactive(children=(Select(description='Probability as fraction', options=('Select option', '2/36', '1/6', '…"
      ]
     },
     "metadata": {},
     "output_type": "display_data"
    }
   ],
   "source": [
    "from ipywidgets import interact_manual,widgets\n",
    "\n",
    "\n",
    "s = {'description_width': 'initial'}        \n",
    "@interact(answer =widgets.Select(\n",
    "                    options=[\"Select option\",\"2/36\",\\\n",
    "                            \"1/6\",\"36\",\\\n",
    "                             \"1/36\"],\n",
    "                    value='Select option',\n",
    "                    description=\"Probability as fraction\",\n",
    "                    disabled=False,\n",
    "                    style=s\n",
    "))\n",
    "\n",
    "def reflective_angle_question(answer):\n",
    "    if answer==\"Select option\":\n",
    "        print(\"Click on the correct probability expressed as a fraction.\")\n",
    "    \n",
    "    elif answer==\"1/36\":\n",
    "        print(\"Correct!\")\n",
    "    elif answer != \"1/36\" or answer != \"Select Option\":\n",
    "        print(\"Hint: There are 36 events, each with equal likelihood of occurrence. \\nYou also know that each pair is unique.\")"
   ]
  },
  {
   "cell_type": "markdown",
   "metadata": {},
   "source": [
    "<h3 align='left'>A second example of a sample space</h3>\n",
    "\n",
    "Let's take the two roulettes as before but this time let's define the sample space of spinning both of them at the same time as the as the **parity** of the sum $$n_t + n_b$$ where as before $n_t$ denotes the outcome of the Top Roulette and $n_b$ denotes the outcome of the Bottom Roulette.\n",
    "\n",
    "Then the sample space is given by the set $\\lbrace \\text{even},\\text{odd} \\rbrace$\n",
    "\n",
    "\n",
    "This sample space is given by the table below, which is a 6 by 6 table where each entry is a pair contains the **parity** of the sum $$n_t + n_b$$"
   ]
  },
  {
   "cell_type": "code",
   "execution_count": 14,
   "metadata": {},
   "outputs": [
    {
     "data": {
      "application/vnd.jupyter.widget-view+json": {
       "model_id": "096dc5d8cf394b6aa21eb4193d12b150",
       "version_major": 2,
       "version_minor": 0
      },
      "text/plain": [
       "interactive(children=(ToggleButton(value=True, button_style='danger', description=\"Let's Play\", icon='check', …"
      ]
     },
     "metadata": {},
     "output_type": "display_data"
    }
   ],
   "source": [
    "def fair(value):\n",
    "    if value==True or value==False:\n",
    "        \n",
    "        lucky_number_one = random.choice([1,2,3,4,5,6])\n",
    "        lucky_number_one_c = random.choice([1,2,3,4,5,6])\n",
    "        \n",
    "        x_t,y_t = [i/10 for i in range(10)],[i/10 for i in range(10)]\n",
    "\n",
    "    \n",
    "        axalpha = 0.05\n",
    "        figcolor = 'white'\n",
    "        dpi = 80\n",
    "        \n",
    "        gs = gridspec.GridSpec(2, 2)\n",
    "        fig = plt.figure(figsize=(15,8), dpi=dpi,facecolor='black')      \n",
    "\n",
    "        fig.patch.set_edgecolor(figcolor)\n",
    "        fig.patch.set_facecolor(figcolor)\n",
    "        ax = plt.subplot(gs[0, 0],projection='polar',facecolor=\"red\") # row 0, col 0\n",
    "        plt.plot([0,1])\n",
    "\n",
    "        ax.patch.set_alpha(axalpha)\n",
    "        ax.set_axisbelow(True)\n",
    "        ax.plot(x_t,y_t,transform=ax.transData._b,color=\"#FEE9FF\",linewidth=5)\n",
    "        number_parititions = 3\n",
    "        arc = 2. * np.pi\n",
    "        N = number_parititions\n",
    "        theta = np.arange(0.0, arc, arc/N)\n",
    "    \n",
    "        radii_ar = [1.0 for i in range(number_parititions)]\n",
    "        width_ar = [1.3 for i in range(number_parititions)]\n",
    "    \n",
    "        radii = 10 * np.array(radii_ar)\n",
    "        width = np.pi/4  * np.array(width_ar)\n",
    "    \n",
    "        bars = ax.bar(theta, radii, width=width, bottom=0.0)\n",
    "        for r, bar in zip(radii, bars):\n",
    "            bar.set_facecolor(\"pink\")\n",
    "            bar.set_alpha(0.6)\n",
    "        ax.text(-4, 7, \"1\", fontsize=20,transform=ax.transData._b)\n",
    "        ax.text(3, 6.5, \"2\", fontsize=20,transform=ax.transData._b)\n",
    "        ax.text(7, 0, \"3\", fontsize=20,transform=ax.transData._b)\n",
    "        ax.text(3, -6.5, \"4\", fontsize=20,transform=ax.transData._b)\n",
    "        ax.text(-4, -7, \"5\", fontsize=20,transform=ax.transData._b)\n",
    "        ax.text(-8, 0, \"6\", fontsize=20,transform=ax.transData._b)\n",
    "        \n",
    "        if lucky_number_one==1:\n",
    "            #bar3.set_facecolor(\"#000000\")\n",
    "            ax.text(-4, 7, \"1\", fontsize=20,transform=ax.transData._b,color='red')\n",
    "        elif lucky_number_one==2:\n",
    "            #bar2.set_facecolor(\"#000000\")\n",
    "            ax.text(3, 6.5, \"2\", fontsize=20,transform=ax.transData._b,color='red')\n",
    "            \n",
    "        elif lucky_number_one==3:\n",
    "            #bar1.set_facecolor(\"#000000\")\n",
    "            ax.text(7, 0, \"3\", fontsize=20,transform=ax.transData._b,color='red')\n",
    "            \n",
    "        elif lucky_number_one==4:\n",
    "            #bar6.set_facecolor(\"#000000\")\n",
    "            ax.text(3, -6.5, \"4\", fontsize=20,transform=ax.transData._b,color='red')\n",
    "            \n",
    "        elif lucky_number_one==5:\n",
    "            #bar5.set_facecolor(\"#000000\")\n",
    "            ax.text(-4, -7, \"5\", fontsize=20,transform=ax.transData._b,color='red')\n",
    "            \n",
    "        elif lucky_number_one==6:\n",
    "            #bar4.set_facecolor(\"#000000\")\n",
    "            ax.text(-8, 0, \"6\", fontsize=20,transform=ax.transData._b,color='red')\n",
    "        \n",
    "        ax.tick_params(labelbottom=False, labeltop=False,\n",
    "                   labelleft=False, labelright=False)\n",
    "\n",
    "        ax.grid(False)\n",
    "        ax.axis(\"On\")\n",
    "        ax.set_title(\"Top Roulette\",fontsize=20)\n",
    "        \n",
    "        \n",
    "        ax1 = plt.subplot(gs[:, 1:],facecolor='#0475A8') # row 1, span all columns\n",
    "        plt.plot([0,1])\n",
    "        ax1.set_axisbelow(True)\n",
    "        ax1.grid(color='black', linestyle='-', linewidth=2)\n",
    "\n",
    "        ax1.set_xlim(0.1,0.7)\n",
    "        ax1.set_ylim(0.1,0.7)\n",
    "        ax1.set_xlabel(\"Top Roulette Outcome\",fontsize=18)\n",
    "        ax1.set_ylabel(\"Bottom Roulette Outcome\",fontsize=18)\n",
    "        ax1.xaxis.tick_top()\n",
    "        ax1.invert_yaxis()\n",
    "        #\n",
    "        for i in range(1,7):\n",
    "            for j in range(1,7):\n",
    "                if (i+j)%2==0:\n",
    "                    ax1.text(i/10 + 0.02,j/10 + 0.055,\"even\" ,fontsize = 15,color='white') \n",
    "                else:\n",
    "                    ax1.text(i/10 + 0.02,j/10 + 0.055,\"odd\" ,fontsize = 15,color='white') \n",
    "        \n",
    "        rec = Rectangle([lucky_number_one/10,lucky_number_one_c/10],0.1,0.1,facecolor=\"black\")\n",
    "        x,y = [lucky_number_one/10,lucky_number_one/10+ 0.1], [lucky_number_one_c/10,lucky_number_one_c/10 + 0.1]\n",
    "        ax1.plot(x,y,color='black',linewidth=4)\n",
    "        #rec_c = Rectangle([lucky_number_one_c/10,lucky_number_two_c/10],0.1,0.1,facecolor=\"#6b6e72\")\n",
    "        ax1.add_patch(rec)\n",
    "        #ax1.add_patch(rec_c)\n",
    "        ax1.set_xticklabels([\" \",1,2,3,4,5,6])\n",
    "        ax1.set_yticklabels([\" \",1,2,3,4,5,6])\n",
    "        \n",
    "        \n",
    "        ax4 = plt.subplot(gs[1, 0],projection='polar',facecolor=\"red\") # row 0, col 0\n",
    "        plt.plot([0,1])\n",
    "\n",
    "        ax4.patch.set_alpha(axalpha)\n",
    "        ax4.set_axisbelow(True)\n",
    "        \n",
    "        ax4.plot(x_t,y_t,transform=ax4.transData._b,color=\"#FEE9FF\",linewidth=5)\n",
    "        \n",
    "        bars = ax4.bar(theta, radii, width=width, bottom=0.0)\n",
    "        for r, bar in zip(radii, bars):\n",
    "            bar.set_facecolor(\"pink\")\n",
    "            bar.set_alpha(0.6)\n",
    "        ax4.text(-4, 7, \"1\", fontsize=20,transform=ax4.transData._b)\n",
    "        ax4.text(3, 6.5, \"2\", fontsize=20,transform=ax4.transData._b)\n",
    "        ax4.text(7, 0, \"3\", fontsize=20,transform=ax4.transData._b)\n",
    "        ax4.text(3, -6.5, \"4\", fontsize=20,transform=ax4.transData._b)\n",
    "        ax4.text(-4, -7, \"5\", fontsize=20,transform=ax4.transData._b)\n",
    "        ax4.text(-8, 0, \"6\", fontsize=20,transform=ax4.transData._b)\n",
    "        \n",
    "        if lucky_number_one_c==1:\n",
    "            #bar3.set_facecolor(\"#000000\")\n",
    "            ax4.text(-4, 7, \"1\", fontsize=20,transform=ax4.transData._b,color='red')\n",
    "        elif lucky_number_one_c==2:\n",
    "            #bar2.set_facecolor(\"#000000\")\n",
    "            ax4.text(3, 6.5, \"2\", fontsize=20,transform=ax4.transData._b,color='red')\n",
    "            \n",
    "        elif lucky_number_one_c==3:\n",
    "            #bar1.set_facecolor(\"#000000\")\n",
    "            ax4.text(7, 0, \"3\", fontsize=20,transform=ax4.transData._b,color='red')\n",
    "            \n",
    "        elif lucky_number_one_c==4:\n",
    "            #bar6.set_facecolor(\"#000000\")\n",
    "            ax4.text(3, -6.5, \"4\", fontsize=20,transform=ax4.transData._b,color='red')\n",
    "            \n",
    "        elif lucky_number_one_c==5:\n",
    "            #bar5.set_facecolor(\"#000000\")\n",
    "            ax4.text(-4, -7, \"5\", fontsize=20,transform=ax4.transData._b,color='red')\n",
    "            \n",
    "        elif lucky_number_one_c==6:\n",
    "            #bar4.set_facecolor(\"#000000\")\n",
    "            ax4.text(-8, 0, \"6\", fontsize=20,transform=ax4.transData._b,color='red')\n",
    "        \n",
    "        ax4.tick_params(labelbottom=False, labeltop=False,\n",
    "                   labelleft=False, labelright=False)\n",
    "\n",
    "        ax4.grid(False)\n",
    "        ax4.axis(\"On\")\n",
    "        ax4.set_title(\"Bottom Roulette\",fontsize=20)\n",
    "\n",
    "        sum_n = lucky_number_one + lucky_number_one_c\n",
    "        \n",
    "        #print(\"Top Roulette Outcome + Bottom Roulette Outcome\")\n",
    "        print(str(lucky_number_one) + \" + \" + str(lucky_number_one_c) + \" = \" + str(sum_n))\n",
    "        if sum_n %2==0:\n",
    "            print(\"OUTCOME: even\" )\n",
    "        else:\n",
    "            print(\"OUTCOME: odd\" )\n",
    "\n",
    "        plt.show()\n",
    "\n",
    "\n",
    "\n",
    "lucky = interact(fair,value = widgets.ToggleButton(\n",
    "        value=True,\n",
    "        description=\"Let's Play\",\n",
    "        disabled=False,\n",
    "        button_style='danger', # 'success', 'info', 'warning', 'danger' or ''\n",
    "        tooltip='Description',\n",
    "        icon='check'\n",
    "    ))\n"
   ]
  },
  {
   "cell_type": "markdown",
   "metadata": {},
   "source": [
    "### Question 5\n",
    "\n",
    "We claim that this game is fair, but how can we verify it? \n",
    "\n",
    "Recall that a probaility experiment is fair if every outcome is equally likely to occur. In order for this experiment to be fair, the probability of the event **even**  *must* be equal to the probability of event **odd**. \n",
    "\n",
    "\n",
    "What is the probability that the sum of the numbers in the top and bottom roulettes is even?"
   ]
  },
  {
   "cell_type": "code",
   "execution_count": 15,
   "metadata": {},
   "outputs": [
    {
     "data": {
      "application/vnd.jupyter.widget-view+json": {
       "model_id": "d21b0ee8902e4f2cb41cfd09079bff7b",
       "version_major": 2,
       "version_minor": 0
      },
      "text/plain": [
       "interactive(children=(Select(description='Probability sum is even', options=('Select option', '1/2', '4/36', '…"
      ]
     },
     "metadata": {},
     "output_type": "display_data"
    }
   ],
   "source": [
    "from ipywidgets import interact_manual,widgets\n",
    "\n",
    "\n",
    "s = {'description_width': 'initial'}        \n",
    "@interact(answer =widgets.Select(\n",
    "                    options=[\"Select option\",\"1/2\",\\\n",
    "                            \"4/36\",\"1/3\",\\\n",
    "                             \"18/36\"],\n",
    "                    value='Select option',\n",
    "                    description=\"Probability sum is even\",\n",
    "                    disabled=False,\n",
    "                    style=s\n",
    "))\n",
    "\n",
    "def fair_game(answer):\n",
    "    if answer==\"Select option\":\n",
    "        print(\"Click on the correct probability expressed as a fraction.\")\n",
    "    \n",
    "    elif answer==\"1/2\" or answer==\"18/36\":\n",
    "        print(\"Correct!\\nThere are a total of 36 possible outcomes. 18 out of 36 are even numbers.\\nThus the probability P(even) = 18/36 or 1/2. \")\n",
    "    elif answer != \"1/2\" or answer != \"Select Option\" or answer!=\"18/36\":\n",
    "        print(\"Hint: There are 36 entries in our sample space, each with equal likelihood of occurrence.\\nHow many of the 36 correspond to even numbers\")"
   ]
  },
  {
   "cell_type": "markdown",
   "metadata": {},
   "source": [
    "### Question 6\n",
    "What is the probability that the sum of the numbers in the top and bottom roulettes is odd? In other words, what is the probability that Bob will win?"
   ]
  },
  {
   "cell_type": "code",
   "execution_count": 16,
   "metadata": {},
   "outputs": [
    {
     "data": {
      "application/vnd.jupyter.widget-view+json": {
       "model_id": "9a2418661e534442b5b227cf99aed685",
       "version_major": 2,
       "version_minor": 0
      },
      "text/plain": [
       "interactive(children=(Select(description='Probability sum is odd', options=('Select option', '19/36', '17/36',…"
      ]
     },
     "metadata": {},
     "output_type": "display_data"
    }
   ],
   "source": [
    "from ipywidgets import interact_manual,widgets\n",
    "\n",
    "\n",
    "s = {'description_width': 'initial'}        \n",
    "@interact(answer =widgets.Select(\n",
    "                    options=[\"Select option\",\"19/36\",\\\n",
    "                            \"17/36\",\"18/36\",\\\n",
    "                             \"1/2\"],\n",
    "                    value='Select option',\n",
    "                    description=\"Probability sum is odd\",\n",
    "                    disabled=False,\n",
    "                    style=s\n",
    "))\n",
    "\n",
    "def fair_game(answer):\n",
    "    if answer==\"Select option\":\n",
    "        print(\"Click on the correct probability expressed as a fraction.\")\n",
    "    \n",
    "    elif answer==\"1/2\" or answer==\"18/36\":\n",
    "        print(\"Correct!\\nThere are a total of 36 possible outcomes. 18 out of 36 are odd numbers.\\nThus the P(odd) = 18/36 or 1/2. \")\n",
    "    elif answer != \"1/2\" or answer != \"Select Option\" or answer!=\"18/36\":\n",
    "        print(\"Hint: There are 36 entries in our sample space, each with equal likelihood of occurrence.\\nHow many of the 36 correspond to odd numbers?\")"
   ]
  },
  {
   "cell_type": "markdown",
   "metadata": {},
   "source": [
    "In the section above we learned that the there are 18 out of 36 possible outcomes where the sum \n",
    "\n",
    "$$n_t + n_b$$\n",
    "\n",
    "is an even number. Thus\n",
    "\n",
    "$$P(even) = \\dfrac{18}{36} = \\dfrac{1}{2}$$\n",
    "\n",
    "Similarly, there are 18 out of 36 possible outcomes where the sum\n",
    "\n",
    "$$n_t + n_b$$\n",
    "\n",
    "is an odd number. Thus\n",
    "\n",
    "$$P(odd) = \\dfrac{18}{36} = \\dfrac{1}{2}$$\n",
    "\n",
    "Then $P(odd) = P(even)$. With this we verify that indeed the experiment is fair. "
   ]
  },
  {
   "cell_type": "markdown",
   "metadata": {},
   "source": [
    "<h2 align='center'>Theoretical vs Experimental Probability</h2>\n",
    "\n"
   ]
  },
  {
   "cell_type": "markdown",
   "metadata": {},
   "source": [
    "We begin by stating a few definitions. \n",
    "\n",
    "<div class=\"alert alert-warning\">\n",
    "<font color=\"black\"><b>Definition.</b> The **Theoretical Probability** of an event $A$, denoted $P_T(A)$, is the ratio of the number of outcomes corresponding to this event to the number of possible outcomes. </font>\n",
    "</div>\n",
    "\n",
    "$$P_T(A) = \\dfrac{\\text{Total Number of Instances of event A in the Sample Space}}{\\text{Total Number of Possible Outcomes}}$$\n",
    "\n",
    "If we take our fair experiment with two roulettes and sample space parity of outcome sum $\\lbrace \\text{even}, \\text{odd} \\rbrace$, the theoretical probability of an even event is\n",
    "\n",
    "$$P_T(\\text{even}) = \\dfrac{18}{36}$$\n",
    "\n",
    "<div class=\"alert alert-warning\">\n",
    "<font color=\"black\"><b>Definition.</b> The **Experimental Probability** of an event $A$, denoted $P_E(A)$, is computed over running the probability experiment a number of times and computing the observed ratio between the number of time the event occured  and the number of trials of the experiment. </font>\n",
    "</div>\n",
    "\n",
    "$$P_E(A) = \\dfrac{\\text{Number of Times Event A Actually Occurred}}{\\text{Number of trials}}$$\n",
    "\n",
    "In order to determine $P_E(\\text{even})$, we first need to spin the roulettes a few times and compare.\n",
    "\n",
    "Use the widget below to simulate spinning the two roulettes. Use the slider to set a number of trials. In this interactive exercise, you can set number of trials as an integer between 1 and 100. Press Run Interact to run an experiment for the given number of trials.\n",
    "\n",
    "On the right hand side you will find a printed message outlining the experimental probability of each event: Sum is Even and Sum is Odd from the number of trial specified using the widget. \n",
    "\n",
    "On the left hand side you can find a graph comparing both. \n",
    "\n",
    "Press the Run Interact button several times. "
   ]
  },
  {
   "cell_type": "code",
   "execution_count": 17,
   "metadata": {},
   "outputs": [
    {
     "data": {
      "application/vnd.jupyter.widget-view+json": {
       "model_id": "6293d1786480488b93846e6196871429",
       "version_major": 2,
       "version_minor": 0
      },
      "text/plain": [
       "interactive(children=(IntSlider(value=10, continuous_update=False, description='Total Number of Trials', min=1…"
      ]
     },
     "metadata": {},
     "output_type": "display_data"
    }
   ],
   "source": [
    "%matplotlib inline\n",
    "\n",
    "def die(number):\n",
    "    count_A,count_C = 0,0\n",
    "    \n",
    "    \n",
    "    for i in range(number):\n",
    "        lucky_number_one = random.choice([1,2,3,4,5,6])\n",
    "        lucky_number_two = random.choice([1,2,3,4,5,6])\n",
    "        if lucky_number_one - lucky_number_two >=0:\n",
    "            count_A +=1\n",
    "        else:\n",
    "            count_C +=1\n",
    "            \n",
    "    return [count_A,count_C]\n",
    "\n",
    "\n",
    "def even_sum(number):\n",
    "    count_A,count_C = 0,0\n",
    "    \n",
    "    \n",
    "    for i in range(number):\n",
    "        lucky_number_one = random.choice([1,2,3,4,5,6])\n",
    "        lucky_number_two = random.choice([1,2,3,4,5,6])\n",
    "        \n",
    "        sum_n = lucky_number_one + lucky_number_two\n",
    "        if  sum_n%2 == 0:\n",
    "            count_A +=1\n",
    "        else:\n",
    "            count_C +=1\n",
    "            \n",
    "    return [count_A,count_C]\n",
    "\n",
    "def experimental_prob(number):\n",
    "    \n",
    "    \n",
    "    \n",
    "    [varoi_1,varoi_2] = even_sum(number)\n",
    "    fig,(ax1,ax2,ax3) = plt.subplots(1,3,sharey=True,figsize=(15,4))\n",
    "\n",
    "    ax2.axis(\"Off\")\n",
    "    ax3.axis(\"Off\")\n",
    "    axalpha = 0.05\n",
    "    \n",
    "    even = varoi_1/number\n",
    "    odd = varoi_2/number\n",
    "    \n",
    "    labels = ['', '',  'Even Sum', '','Odd Sum']\n",
    "\n",
    "    ax1 = plt.subplot(131,facecolor=\"white\")\n",
    "    ax1.set_title(\"Experimental Probability\",fontsize=20)\n",
    "    ax1.set_ylabel(\"Probability\",fontsize=15)\n",
    "    ax1.set_xlabel(\"Outcomes\",fontsize=15)\n",
    "    ax1.set_xlim([0,3])\n",
    "\n",
    "    ax1.set_xticklabels(labels)\n",
    "\n",
    "    x = np.arange(1,3)\n",
    "    f1,f2= ax1.bar(x,[even,odd])\n",
    "    f1.set_facecolor(\"#8642f4\")\n",
    "    f2.set_facecolor(\"#518900\")\n",
    "\n",
    "    ax1.grid(which='both')\n",
    "    ax1.grid(b=True,which='minor',alpha=0.2,linestyle='--',color='black')\n",
    "    ax1.grid(which='major', alpha=0.2,linestyle='--',color='black')\n",
    "    \n",
    "\n",
    "    \n",
    "    ax3 = plt.subplot(132)\n",
    "    ax3.axis(\"Off\")\n",
    "    \n",
    "    #ax3.set_title( \"Positive vs Negative\\nLuck Roulette: Outcome\",fontsize=20)\n",
    "    rec1 = Rectangle((0.1,0.8),0.3,0.1,facecolor=\"#8642f4\")\n",
    "    ax3.add_patch(rec1)\n",
    "    ax3.text(0.5,0.83,\"Experimental Probability: Sum is Even\",fontsize=20)\n",
    "    rec2 = Rectangle((0.1,0.7),0.3,0.1,facecolor=\"#518900\")\n",
    "    ax3.add_patch(rec2)\n",
    "    ax3.text(0.5,0.73,\"Experimental Probability: Sum is Odd\",fontsize=20)\n",
    "    \n",
    "\n",
    "    ax2 = plt.subplot(133,facecolor=\"white\")\n",
    "    ax2.axis(\"Off\")\n",
    "\n",
    "\n",
    "    ax2.text(0.9,0.83,str(varoi_1) + \"/\" + str(number),fontsize=20)\n",
    "    ax2.text(0.9,0.73,str(varoi_2) + \"/\" + str(number),fontsize=20)\n",
    "    \n",
    "    \n",
    "    ax3.set_title(\"                   Even or Odd Sum Experiment:\\n\",fontsize=20)\n",
    "    \n",
    "    \n",
    "\n",
    "    plt.show()\n",
    "    \n",
    "\n",
    "def run_fair_exp(number):\n",
    "    experimental_prob(number)\n",
    "    #experimental_prob(number,\"Negative\")\n",
    "interact_manual(experimental_prob,number=widgets.IntSlider(\n",
    "            value=10,\n",
    "            min=1,\n",
    "            max=100,\n",
    "            step=1,\n",
    "            description='Total Number of Trials',\n",
    "            disabled=False,\n",
    "            continuous_update=False,\n",
    "            orientation='horizontal',\n",
    "            readout=True,\n",
    "            readout_format='d',\n",
    "            style =style\n",
    "));"
   ]
  },
  {
   "cell_type": "markdown",
   "metadata": {},
   "source": [
    "### Question 7\n",
    "\n",
    "Use the box below to enter your observations. \n",
    "\n",
    "How do the experimental probabilites of each event change as you increase the number of trials?"
   ]
  },
  {
   "cell_type": "code",
   "execution_count": 18,
   "metadata": {},
   "outputs": [
    {
     "data": {
      "application/vnd.jupyter.widget-view+json": {
       "model_id": "cefbae56e6c64b9ba04b08f38d9191ec",
       "version_major": 2,
       "version_minor": 0
      },
      "text/plain": [
       "Textarea(value='', layout=Layout(height='75px', width='100%'), placeholder='Write your answer here. Press Reco…"
      ]
     },
     "metadata": {},
     "output_type": "display_data"
    },
    {
     "data": {
      "application/vnd.jupyter.widget-view+json": {
       "model_id": "a0cfb8164a0d4c83b16d41b72158d503",
       "version_major": 2,
       "version_minor": 0
      },
      "text/plain": [
       "Button(button_style='info', description='Record Answer', layout=Layout(height='30px', width='15%'), style=Butt…"
      ]
     },
     "metadata": {},
     "output_type": "display_data"
    }
   ],
   "source": [
    "from ipywidgets import widgets as w\n",
    "from ipywidgets import Button, Layout\n",
    "from IPython.display import display, Javascript, Markdown\n",
    "\n",
    "def rerun_cell( b ):\n",
    "    \n",
    "    display(Javascript('IPython.notebook.execute_cell_range(IPython.notebook.get_selected_index()+1,IPython.notebook.get_selected_index()+2)'))   \n",
    "style = {'description_width': 'initial'}\n",
    "\n",
    "\n",
    "emma1_text = w.Textarea( value='', placeholder='Write your answer here. Press Record Answer when you finish.', description='', disabled=False , layout=Layout(width='100%', height='75px') )\n",
    "emma1_button = w.Button(button_style='info',description=\"Record Answer\", layout=Layout(width='15%', height='30px'))\n",
    "\n",
    "display(emma1_text)\n",
    "display(emma1_button)\n",
    "\n",
    "emma1_button.on_click( rerun_cell ) "
   ]
  },
  {
   "cell_type": "code",
   "execution_count": 19,
   "metadata": {},
   "outputs": [],
   "source": [
    "emma1_input = emma1_text.value\n",
    "\n",
    "if(emma1_input != ''):\n",
    "    \n",
    "    emma1_text.close()\n",
    "    emma1_button.close()\n",
    "    display(Markdown(\"### Your answer for Question 6: Conclusions\"))\n",
    "    display(Markdown(emma1_input))"
   ]
  },
  {
   "cell_type": "markdown",
   "metadata": {},
   "source": [
    "**Remarks**\n",
    "\n",
    "We observe that every time we press the Run Interact button on the interactive above, the experimental probability of each event varies. However, it seems like as we increase the number of trials, the experimental probabilites of each event approach $1/2$. \n",
    "\n",
    "Let us explore what happens if we increase the number of trials to, say 10,000. \n",
    "\n",
    "In the widget below you can find a slider that allows you to control the number of trials. In this interactive exercise, you can set number of trials as an integer between 1 and 10,000. \n",
    "\n",
    "On the left hand side you can find a plot like the one we explored above. On the right hand side you can find the theoretical probability of events Sum is Even and Sum is Odd. \n",
    "\n",
    "Press the Run Interact button. Increase the Total Number of Trials and press the Run Interact button multiple times. "
   ]
  },
  {
   "cell_type": "code",
   "execution_count": 20,
   "metadata": {},
   "outputs": [
    {
     "data": {
      "application/vnd.jupyter.widget-view+json": {
       "model_id": "5e247f8ac0dc446a9f0c23b78e59033f",
       "version_major": 2,
       "version_minor": 0
      },
      "text/plain": [
       "interactive(children=(IntSlider(value=5, continuous_update=False, description='Total Number of Trials', max=10…"
      ]
     },
     "metadata": {},
     "output_type": "display_data"
    }
   ],
   "source": [
    "def toss(number):\n",
    "    store_head = []\n",
    "    store_tail = []\n",
    "    other = []\n",
    "    for i in range(number):\n",
    "        toss_coin= random.choice(np.arange(2))\n",
    "        \n",
    "        if toss_coin==0:\n",
    "            store_head.append(toss_coin)\n",
    "        elif toss_coin==1:\n",
    "            store_tail.append(toss_coin)\n",
    "        \n",
    "    return [store_head,store_tail]\n",
    "\n",
    "\n",
    "def plot_coin_experiment(number):\n",
    "    varoi = toss(number)\n",
    "    fig,ax = plt.subplots(figsize=(5,5))\n",
    "\n",
    "    ax.set_title(\"Distribution of Experimental Coin Flipping\",fontsize=35)\n",
    "    plt.ylabel(\"Frequency\",fontsize=25)\n",
    "    plt.xlabel(\"Heads or Tails\",fontsize=25)\n",
    "    plt.xticks(np.arange(2), ('Total Number of Heads', 'Total Number of Tails'))\n",
    "    plt.hist(varoi[0])\n",
    "    plt.hist(varoi[1])\n",
    "    plt.grid(which='both')\n",
    "    plt.grid(b=True,which='minor',alpha=0.2,linestyle='--',color='black')\n",
    "    plt.grid(which='major', alpha=0.2,linestyle='--',color='black')\n",
    "\n",
    "def plot_die_experiment(number):\n",
    "    varoi = die(number)\n",
    "    theor_A = 21/36\n",
    "    theor_C = 15/36\n",
    "    #print(theor)\n",
    "    fig,(ax1,ax2) = plt.subplots(1,2,sharey=True,figsize=(15,8))\n",
    "    \n",
    "    # Experimental Probability\n",
    "    ax1.set_title(\"Experimental Distribution\",fontsize=25)\n",
    "    ax1.set_ylabel(\"Frequency\",fontsize=25)\n",
    "    ax1.set_xlabel(\"Outcomes\",fontsize=25)\n",
    "    ax1.set_xlim([0,3])\n",
    "\n",
    "    ax1.set_xticks([])\n",
    "\n",
    "    x = np.arange(1,3)\n",
    "    dice = [varoi[0]/number,varoi[1]/number]\n",
    "    f1,f2 = ax1.bar(x,dice)\n",
    "    f1.set_facecolor(\"#8642f4\")\n",
    "    f2.set_facecolor(\"#518900\")\n",
    "    ax1.grid(which='both')\n",
    "    ax1.grid(b=True,which='minor',alpha=0.2,linestyle='--',color='black')\n",
    "    ax1.grid(which='major', alpha=0.2,linestyle='--',color='black')\n",
    "    \n",
    "    # Theoretical Probability\n",
    "    ax2.set_title(\"Theoretical Distribution\",fontsize=25)\n",
    "    ax2.set_ylabel(\"Frequency\",fontsize=25)\n",
    "    ax2.set_xlabel(\"Outcomes\",fontsize=25)\n",
    "    x = np.arange(1,3)\n",
    "    dice_exp = [theor_A,theor_C]\n",
    "    f11,f21 = ax2.bar(x,dice_exp)\n",
    "    f11.set_facecolor(\"#8642f4\")\n",
    "    f21.set_facecolor(\"#518900\")\n",
    "\n",
    "    ax2.set_xlim([0,3])\n",
    "    \n",
    "\n",
    "    ax2.set_xticks([\"Even\",\"Odd\"])\n",
    "    \n",
    "    \n",
    "    ax2.grid(which='both')\n",
    "    ax2.grid(b=True,which='minor',alpha=0.2,linestyle='--',color='black')\n",
    "    ax2.grid(b=True,which='major', alpha=0.2,linestyle='--',color='black')\n",
    "\n",
    "    plt.ylim(0,number)\n",
    "    \n",
    "    plt.show()\n",
    "    \n",
    "def plot_fair_experiment(number):\n",
    "    [varoi_1,varoi_2] = even_sum(number)\n",
    "    theor_A = 18/36\n",
    "    theor_C = 18/36\n",
    "    \n",
    "    even = varoi_1/number\n",
    "    odd= varoi_2/number\n",
    "    x = np.arange(1,3)\n",
    "    \n",
    "    \n",
    "    labels = ['', '',  'Even Sum', '','Odd Sum']\n",
    "    \n",
    "    fig,(ax1,ax2) = plt.subplots(1,2,sharey=True,figsize=(15,8))\n",
    "    \n",
    "    # Experimental Probability\n",
    "    ax1.set_title(\"Even or Odd Sum Probability Experiment:\\nExperimental Probability\",fontsize=20)\n",
    "    ax1.set_ylabel(\"Probability\",fontsize=25)\n",
    "    ax1.set_xlabel(\"Events\",fontsize=25)\n",
    "    ax1.set_xlim([0,3])\n",
    "    ax1.set_xticklabels(labels)\n",
    "    ax1.grid(which='major', alpha=0.2,linestyle='--',color='black')\n",
    "    \n",
    "    f1,f2 = ax1.bar(x,[even,odd])\n",
    "    f1.set_facecolor(\"#8642f4\")\n",
    "    f2.set_facecolor(\"#518900\")\n",
    "    \n",
    "    \n",
    "    # Theoretical Probability\n",
    "    ax2.set_title(\"Even or Odd Sum Probability Experiment:\\nTheoretical Probability\",fontsize=20)\n",
    "    ax2.set_ylabel(\"Probability\",fontsize=25)\n",
    "    ax2.set_xlabel(\"Events\",fontsize=25)\n",
    "    ax2.set_xlim([0,3])\n",
    "    ax2.set_xticklabels(labels)\n",
    "    ax2.grid(b=True,which='major', alpha=0.2,linestyle='--',color='black')\n",
    "    \n",
    "    dice_exp = [theor_A,theor_C]\n",
    "    f11,f21 = ax2.bar(x,dice_exp)\n",
    "    f11.set_facecolor(\"#8642f4\")\n",
    "    f21.set_facecolor(\"#518900\")\n",
    "    \n",
    "    plt.ylim(0,1)\n",
    "    plt.legend(bbox_to_anchor=(1.05, 1), loc=2, borderaxespad=1.)\n",
    "    plt.show()\n",
    "\n",
    "interact_manual(plot_fair_experiment,number=widgets.IntSlider(\n",
    "            value=5,\n",
    "            min=1,\n",
    "            max=10000,\n",
    "            step=1,\n",
    "            description='Total Number of Trials',\n",
    "            disabled=False,\n",
    "            continuous_update=False,\n",
    "            orientation='horizontal',\n",
    "            readout=True,\n",
    "            readout_format='d',\n",
    "            style =style\n",
    "));"
   ]
  },
  {
   "cell_type": "markdown",
   "metadata": {},
   "source": [
    "### Question 8\n",
    "\n",
    "How does the experimental probability of each event change as we increase the number of trials? Use the textbox below to record your answers. "
   ]
  },
  {
   "cell_type": "code",
   "execution_count": 21,
   "metadata": {
    "scrolled": true
   },
   "outputs": [
    {
     "data": {
      "application/vnd.jupyter.widget-view+json": {
       "model_id": "6e9f6eb28a4e4f019580ca4e433de6a4",
       "version_major": 2,
       "version_minor": 0
      },
      "text/plain": [
       "Textarea(value='', layout=Layout(height='75px', width='100%'), placeholder='Write your answer here. Press Reco…"
      ]
     },
     "metadata": {},
     "output_type": "display_data"
    },
    {
     "data": {
      "application/vnd.jupyter.widget-view+json": {
       "model_id": "263e94a28b064a3893518868c78e028c",
       "version_major": 2,
       "version_minor": 0
      },
      "text/plain": [
       "Button(button_style='info', description='Record Answer', layout=Layout(height='30px', width='15%'), style=Butt…"
      ]
     },
     "metadata": {},
     "output_type": "display_data"
    }
   ],
   "source": [
    "from ipywidgets import widgets as w\n",
    "from ipywidgets import Button, Layout\n",
    "from IPython.display import display, Javascript, Markdown\n",
    "\n",
    "def rerun_cell( b ):\n",
    "    \n",
    "    display(Javascript('IPython.notebook.execute_cell_range(IPython.notebook.get_selected_index()+1,IPython.notebook.get_selected_index()+2)'))   \n",
    "style = {'description_width': 'initial'}\n",
    "\n",
    "\n",
    "emma1_text = w.Textarea( value='', placeholder='Write your answer here. Press Record Answer when you finish.', description='', disabled=False , layout=Layout(width='100%', height='75px') )\n",
    "emma1_button = w.Button(button_style='info',description=\"Record Answer\", layout=Layout(width='15%', height='30px'))\n",
    "\n",
    "display(emma1_text)\n",
    "display(emma1_button)\n",
    "\n",
    "emma1_button.on_click( rerun_cell ) "
   ]
  },
  {
   "cell_type": "code",
   "execution_count": 22,
   "metadata": {},
   "outputs": [],
   "source": [
    "emma1_input = emma1_text.value\n",
    "\n",
    "if(emma1_input != ''):\n",
    "    \n",
    "    emma1_text.close()\n",
    "    emma1_button.close()\n",
    "    display(Markdown(\"### Your answer for Question 6: Conclusions\"))\n",
    "    display(Markdown(emma1_input))"
   ]
  },
  {
   "cell_type": "markdown",
   "metadata": {},
   "source": [
    "As the number of trials increases, we observe that the experimental probability of each event approaches the corresponding theoretical probability. This is known as the \"Law of Large Numbers\"."
   ]
  },
  {
   "cell_type": "markdown",
   "metadata": {},
   "source": [
    "<h2 align='center'>Conclusion</h2>\n",
    "\n",
    "In this notebook we learned what a probability experiment is, what the sample space, events and outcome associated to a given probability experiment are. We learned how to express probabilities as ratios, fractions and percents. \n",
    "\n",
    "We learned what independent probability events are and introduced the concept of a fair game. \n",
    "\n",
    "We learned what theoretical and experimental probability are and with the help of an interactive exercise, we learned that as the number of trials increases, experimental probability approaches theoretical probability. "
   ]
  },
  {
   "cell_type": "markdown",
   "metadata": {},
   "source": [
    "[![Callysto.ca License](https://github.com/callysto/curriculum-notebooks/blob/master/callysto-notebook-banner-bottom.jpg?raw=true)](https://github.com/callysto/curriculum-notebooks/blob/master/LICENSE.md)"
   ]
  }
 ],
 "metadata": {
  "kernelspec": {
   "display_name": "Python 3",
   "language": "python",
   "name": "python3"
  },
  "language_info": {
   "codemirror_mode": {
    "name": "ipython",
    "version": 3
   },
   "file_extension": ".py",
   "mimetype": "text/x-python",
   "name": "python",
   "nbconvert_exporter": "python",
   "pygments_lexer": "ipython3",
   "version": "3.7.4"
  }
 },
 "nbformat": 4,
 "nbformat_minor": 2
}

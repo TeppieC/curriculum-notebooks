{
 "cells": [
  {
   "cell_type": "code",
   "execution_count": 1,
   "metadata": {},
   "outputs": [
    {
     "data": {
      "text/html": [
       "<script>\n",
       "  function code_toggle() {\n",
       "    if (code_shown){\n",
       "      $('div.input').hide('500');\n",
       "      $('#toggleButton').val('Show Code')\n",
       "    } else {\n",
       "      $('div.input').show('500');\n",
       "      $('#toggleButton').val('Hide Code')\n",
       "    }\n",
       "    code_shown = !code_shown\n",
       "  }\n",
       "  \n",
       "  $( document ).ready(function(){\n",
       "    code_shown=false;\n",
       "    $('div.input').hide()\n",
       "  });\n",
       "</script>\n",
       "<form action=\"javascript:code_toggle()\"><input type=\"submit\" id=\"toggleButton\" value=\"Show Code\"></form>"
      ],
      "text/plain": [
       "<IPython.core.display.HTML object>"
      ]
     },
     "execution_count": 1,
     "metadata": {},
     "output_type": "execute_result"
    }
   ],
   "source": [
    "import numpy as np\n",
    "import matplotlib.pyplot as plt\n",
    "from IPython.display import display, Math, Latex, HTML\n",
    "import matplotlib as mpl\n",
    "import ipywidgets as widgets\n",
    "from ipywidgets import interact\n",
    "%matplotlib notebook\n",
    "%matplotlib notebook\n",
    "\n",
    "\n",
    "'''Above, we are importing all the necessary modules in order to run the notebook. \n",
    "Numpy allows us to define arrays of values for our variables to plot them\n",
    "matplotlib is what we use to create the figures\n",
    "the display and widgets are to make the notebook look neat\n",
    "'''\n",
    "\n",
    "HTML('''<script>\n",
    "  function code_toggle() {\n",
    "    if (code_shown){\n",
    "      $('div.input').hide('500');\n",
    "      $('#toggleButton').val('Show Code')\n",
    "    } else {\n",
    "      $('div.input').show('500');\n",
    "      $('#toggleButton').val('Hide Code')\n",
    "    }\n",
    "    code_shown = !code_shown\n",
    "  }\n",
    "  \n",
    "  $( document ).ready(function(){\n",
    "    code_shown=false;\n",
    "    $('div.input').hide()\n",
    "  });\n",
    "</script>\n",
    "<form action=\"javascript:code_toggle()\"><input type=\"submit\" id=\"toggleButton\" value=\"Show Code\"></form>''')\n",
    "\n",
    "\n",
    "\n"
   ]
  },
  {
   "cell_type": "markdown",
   "metadata": {},
   "source": [
    "# Polynomials \n",
    "_____\n",
    "\n",
    "For a warm-up, we have created an exercise for you to determine the intervals on which a polynomial is $\\geq$ 0. A first approach to this problem would be to find the roots of the polynomial and then analyze the behaviour in between these roots. We recommend converting the function into a form that you can graph in order to determine the behaviour on either side of the roots. Think about the possible forms of the graph, i.e. concavity, convexity, and what this tells you about the intervals where the function is positive. This type of analytical thinking will help further along in the notebook. </br>\n",
    "\n",
    "\n",
    "Given a polynomial of order $\\leq$ 3, find where the function $\\geq$ 0. \n",
    "Below is simply **a** method of approaching this problem, not necessarily the best or most effective. There are many ways one can go about this, each offering a different insight or understanding. Find what works best for you and try to understand why  you used this method (is it visual? is it solely algebraic? did you manipulate the function?).</br>\n",
    "\n",
    "**Example**:\n",
    "\n",
    "Find the interval on which $f(x) = x^2 - 3x +2 > 0$.</br>\n",
    "\n",
    "Solve for roots:</br>\n",
    "\n",
    "$f(x) = (x-1)(x-2)$</br>\n",
    "\n",
    "Pick a point in between each root then evaluate the function at this point in order to analyze the behvaiour in between:</br>\n",
    "\n",
    "$f(0.5) = (0.5)^2 - 3(0.5) + 2 = \\frac{1}{4} - \\frac{6}{4} + \\frac{8}{4} = \\frac{3}{4}$ </br>\n",
    "\n",
    "Therefore the function is positive inbetween the roots.</br>\n",
    "\n",
    "Answer: (1,2)</br>\n",
    "\n",
    "By picking a point in between the roots we quickly found whether the function was concave up or down. Knowing what the graph of a parabola looks like, this quickly told us where the function was positive. \n",
    "\n",
    "Given a polynomial of order 2 or 3, find where the function $>$ 0. Try polynomials of order 2 first and then 3 for more of a challenge. Input answer in interval notation, using \"U\" for the union of intervals, for infinity type inf.  "
   ]
  },
  {
   "cell_type": "code",
   "execution_count": 2,
   "metadata": {},
   "outputs": [],
   "source": [
    "def find_interval():\n",
    "    display(Latex('Provide order of polynomial:'))\n",
    "    poly_order = int(input())\n",
    "    check_interval = 0\n",
    "    button_clicked = 0\n",
    "    \n",
    "    if (poly_order) > 3:\n",
    "        display(Latex('Order of polynomial must be less than or equal to 3'))\n",
    "    if poly_order == 3:    \n",
    "        C = np.random.randint(-5,5,poly_order)\n",
    "        C1 = -1*np.sum(C)\n",
    "        C2 = C[0]*C[1] + C[2]*(C[0]+C[1])\n",
    "        C3 = -1*C[0]*C[1]*C[2]\n",
    "        display(Latex('Find where the polynomial is $\\geq 0 $:'))\n",
    "        a = 'x^3 + ' + str(int(C1)) + 'x^2 + ' + str(int(C2)) + 'x + ' + str(int(C3))\n",
    "        display(Math(a))\n",
    "        def poly(x):\n",
    "            return x**3 + C1*x**2 + C2*x + C3\n",
    "        \n",
    "    if poly_order == 2:\n",
    "        C = np.random.randint(-5,5,poly_order)\n",
    "        C1 = -1*np.sum(C)\n",
    "        C2 = C[0]*C[1]\n",
    "        display(Latex('Find where the polynomial is $\\geq 0 $:'))\n",
    "        a = 'x^2 +' + str(int(-1.*(C[0] + C[1]))) + 'x +' + str(int(C[0]*C[1]))\n",
    "        display(Math(a))\n",
    "        def poly(x):\n",
    "            return x**2 + C1*x + C2\n",
    "    \n",
    "    Max = max(C)\n",
    "    Min = min(C)\n",
    "    M = [Min, Max]\n",
    "    V = np.sort(C)\n",
    "    eps = 0.01\n",
    "    \n",
    "    if poly_order ==3:\n",
    "        v = V[1]\n",
    "        if Max == Min and poly(Max +eps) > 0:\n",
    "                          interval = '('+str(Max)+',inf)'\n",
    "        if Max == Min and poly(Max +eps) < 0:\n",
    "                          interval = '(-inf,' + str( Max)+')'\n",
    "                      \n",
    "        if poly(Max + eps) >0:\n",
    "#         interval = '(' + str(Max) + ', infinity)'\n",
    "            if v !=  Max and v!= Min:\n",
    "                      interval = '('+str(Min) + ',' + str(v) + ')U(' + str(Max) + ',inf)'\n",
    "            if v == Max:\n",
    "                          interval = '(' + str(Min) + ', inf)'\n",
    "            if v== Min:\n",
    "                          interval = '(' + str(Max) + ', inf)'\n",
    "    \n",
    "        if poly(Max + eps) <0:\n",
    " #         interval = '(-infinty,' + str(Min) + ')'\n",
    "            if v != Max and v != Min:\n",
    "                          interval = '(-inf,' + str(Min) + 'U('+str(v) + ','+str(Max) + ')'\n",
    "            if v == Max:\n",
    "                          interval = '(-inf,' + str( Max) + ')'\n",
    "            if v == Min:\n",
    "                          interval = '(-inf,' + str(Min) + ')'\n",
    "                    \n",
    "    if poly_order == 2:\n",
    "            if Max == Min and poly(Max+eps)>0:\n",
    "                interval = '(' + str(Max) + ', inf)'\n",
    "            else:\n",
    "                interval = str(Max)\n",
    "            if poly(Max + eps)>0:\n",
    "                interval = '(-inf,'+str(Min)+')U(' + str(Max)+',inf)'\n",
    "            if poly(Max+eps)<0:\n",
    "                interval = '('+str(Min)+','+str(Max)+')'\n",
    "                \n",
    "\n",
    "    #print(interval)\n",
    "    \n",
    "    while  check_interval == 0:\n",
    "        display(Latex('Input answer in interval notation :'))\n",
    "        interval_input = str(input())\n",
    "        if interval_input == interval:\n",
    "            check_interval = 1\n",
    "            display(Latex(\"Correct! Here's a visualization of the solution:\"))\n",
    "            x=np.linspace(-100,100,10000)\n",
    "            y= poly(x)\n",
    "            y0 = 0*x\n",
    "            plt.plot(x,y)\n",
    "            plt.xlabel(r'$x$', fontsize = 10)\n",
    "            plt.ylabel(r'$f(x)$', fontsize = 10)\n",
    "            plt.grid(True, which='major')\n",
    "            plt.xlim([-9.5,9.5])\n",
    "            plt.ylim([-10,10])\n",
    "            display(Latex('Above is a graph of the polynomial:'))\n",
    "            display(Math(a))\n",
    "            display(Latex('You can pan around the graph by clicking the fourth button (looks like a cross) and dragging the mouse around. You can zoom in to get a better look at the zeroes by clicking the white square button, and making a rectangle on the plot where you want a closer look. To reset the graph back to normal, press the \"home\" button.'))\n",
    "        else:\n",
    "            display(Latex(\"That's not quite right, try again.\" ))\n",
    "            continue\n",
    "        \n",
    "    display(Latex('After inspecting the graph, click the  button to continue to the next part.'))\n",
    "\n",
    "    button = widgets.Button(description=\"Next\")\n",
    "    display(button)\n",
    "\n",
    "    def on_button_clicked(b):\n",
    "            display(Latex('Great, now lets do something else!'))\n",
    "            button_clicked = 1\n",
    "    button.on_click(on_button_clicked)\n",
    "\n",
    "    \n",
    "\n",
    "    "
   ]
  },
  {
   "cell_type": "code",
   "execution_count": 4,
   "metadata": {
    "scrolled": false
   },
   "outputs": [
    {
     "data": {
      "text/latex": [
       "Provide order of polynomial:"
      ],
      "text/plain": [
       "<IPython.core.display.Latex object>"
      ]
     },
     "metadata": {},
     "output_type": "display_data"
    },
    {
     "name": "stdout",
     "output_type": "stream",
     "text": [
      "\n"
     ]
    },
    {
     "ename": "ValueError",
     "evalue": "invalid literal for int() with base 10: ''",
     "output_type": "error",
     "traceback": [
      "\u001b[0;31m---------------------------------------------------------------------------\u001b[0m",
      "\u001b[0;31mValueError\u001b[0m                                Traceback (most recent call last)",
      "\u001b[0;32m<ipython-input-4-41aa13d9ec90>\u001b[0m in \u001b[0;36m<module>\u001b[0;34m()\u001b[0m\n\u001b[0;32m----> 1\u001b[0;31m \u001b[0mfind_interval\u001b[0m\u001b[0;34m(\u001b[0m\u001b[0;34m)\u001b[0m\u001b[0;34m\u001b[0m\u001b[0m\n\u001b[0m",
      "\u001b[0;32m<ipython-input-2-9bcb38e89590>\u001b[0m in \u001b[0;36mfind_interval\u001b[0;34m()\u001b[0m\n\u001b[1;32m      1\u001b[0m \u001b[0;32mdef\u001b[0m \u001b[0mfind_interval\u001b[0m\u001b[0;34m(\u001b[0m\u001b[0;34m)\u001b[0m\u001b[0;34m:\u001b[0m\u001b[0;34m\u001b[0m\u001b[0m\n\u001b[1;32m      2\u001b[0m     \u001b[0mdisplay\u001b[0m\u001b[0;34m(\u001b[0m\u001b[0mLatex\u001b[0m\u001b[0;34m(\u001b[0m\u001b[0;34m'Provide order of polynomial:'\u001b[0m\u001b[0;34m)\u001b[0m\u001b[0;34m)\u001b[0m\u001b[0;34m\u001b[0m\u001b[0m\n\u001b[0;32m----> 3\u001b[0;31m     \u001b[0mpoly_order\u001b[0m \u001b[0;34m=\u001b[0m \u001b[0mint\u001b[0m\u001b[0;34m(\u001b[0m\u001b[0minput\u001b[0m\u001b[0;34m(\u001b[0m\u001b[0;34m)\u001b[0m\u001b[0;34m)\u001b[0m\u001b[0;34m\u001b[0m\u001b[0m\n\u001b[0m\u001b[1;32m      4\u001b[0m     \u001b[0mcheck_interval\u001b[0m \u001b[0;34m=\u001b[0m \u001b[0;36m0\u001b[0m\u001b[0;34m\u001b[0m\u001b[0m\n\u001b[1;32m      5\u001b[0m     \u001b[0mbutton_clicked\u001b[0m \u001b[0;34m=\u001b[0m \u001b[0;36m0\u001b[0m\u001b[0;34m\u001b[0m\u001b[0m\n",
      "\u001b[0;31mValueError\u001b[0m: invalid literal for int() with base 10: ''"
     ]
    }
   ],
   "source": [
    "find_interval()\n"
   ]
  },
  {
   "cell_type": "markdown",
   "metadata": {},
   "source": [
    "# Analytic vs. Numerical Solutions\n",
    "-----------------------------------------------------\n",
    "\n",
    "\n",
    "\n",
    "   Below we will outline the differences, pros and cons and methods of analytic vs. numerical solutions within the context of root finding. By solving for the roots of the polynomial and analyzing the graph of the function, you were able to explicitly determine an answer to the question posed. This is the benefit of these analytic expressions; they give you a nice and clear explicit answer. It is often the case that we can derive analytic solutions to simpler, well-posed problems. Now, what if the problem is not so well-posed? What if our analytic approach becomes way to complex or tedious? How would you approach this problem without finding zeroes? What is the polynomial is of n-th order? For these cases we turn to a numerical approach, alleviating the work load and attaining the same end goal, but often with less accuracy.\n",
    "\n",
    "\n",
    "   Next we will walk you through different ways to approach this problem and more complex problems of the same flavour numerically. You will gain some insight into the implementation and benefit of numerical solutions while developing some basic skills in Python and numerical analysis.\n",
    "\n",
    "\n"
   ]
  },
  {
   "cell_type": "markdown",
   "metadata": {},
   "source": [
    "## Root Finding\n",
    "-----------------------\n",
    "\n",
    "In order to answer the question, \"On what interval(s) is f(x) $\\geq$ 0?\", you probably found the roots of the polynomial and looked at the behaviour of the graph inbetween these roots. This can be done for nice polynomials with integer coefficients and a low-order, but becomes increasingly difficult the more terms there are and the more nasty the polynomials starts looking. Nevertheless, your initial approach to this problem can still be taken; find the roots, analyze the behaviour in between these roots in order to determine where f(x) $\\geq$ 0. Below we will discuss some algorithms used to determine roots of a polynomial.\n",
    "\n",
    "Take, for instance, the polynomial:\n",
    "$f(x) = x^3 -\\frac{7}{9}x^2 - \\frac{1}{4}x+\\frac{7}{36}$\n",
    "\n",
    "### Inspection:\n",
    "\n",
    "A great advantage of taking the numerical approach is that it allows for quick ways to make an approximate solution to a problem. This is useful if the amount of error is negligible and all one is looking for is an estimation. A quick way to get an estimation for our solution in question is simply to plot $f(x)$. The next cell demonstrates the code needed to plot our function. You will have to press the \"show code\" button at the top of the page to see this cell. \n",
    "\n",
    "\n"
   ]
  },
  {
   "cell_type": "code",
   "execution_count": 7,
   "metadata": {},
   "outputs": [
    {
     "data": {
      "image/png": "[encoded data removed]",
      "text/plain": [
       "<matplotlib.figure.Figure at 0x7f3ff66b4198>"
      ]
     },
     "metadata": {},
     "output_type": "display_data"
    }
   ],
   "source": [
    "x = np.linspace(-1,1,10000)  #The range of numbers that we think the roots lie within (xmin, xmax, spacing)\n",
    "f = x**3 - (7/9)*x**2 -(1/4)*x + 7/36  #Our function to be plotted\n",
    "\n",
    "plt.figure(1)\n",
    "hold = True\n",
    "\n",
    "plt.plot(x,f,'k-')  # np.plot(x,function, a number of different parameters to make the plot look good)\n",
    "plt.grid()          #Use the grid to make estimation\n",
    "\n"
   ]
  },
  {
   "cell_type": "markdown",
   "metadata": {},
   "source": [
    "Purely by inspection, we were able to observe exactly where the roots of this function lie: $x = -\\frac{1}{2},\\frac{1}{2},\\frac{3}{4}$. This was a nice and clean numerical solution to a problem that would've been much more difficult to solve analytically. Although this may seem convenient and albeit simple, this estimation approach is susceptible to some problems. Think of a potential problem that this estimation method is susceptible to and a solution to this problem. Click on the button below to reveal solutions. Dwelling upon the issues that arise using numerical techniques will provide you with insight into the approximate nature of these solutions and scientific computing in general. \n"
   ]
  },
  {
   "cell_type": "code",
   "execution_count": null,
   "metadata": {},
   "outputs": [],
   "source": []
  },
  {
   "cell_type": "code",
   "execution_count": null,
   "metadata": {},
   "outputs": [],
   "source": [
    "#Display how changing parameters in the polynomial influence where the roots are found.\n",
    "# Show how one could see this clearly from completing the square. \n",
    "#Given a polynomial function P(x,a), a being a parameter and x being a variable, find roots P(x,a)=0. \n",
    "#Illustrate the change of intervals under parameter a. Connect to 30-1, Specific outcome 12. \n",
    "#Focus especially on the roots of a quadratic polynomial. \n",
    "#Illustrate the roots based on the position of the parabola. \n",
    "#Indicate the position of parabola's tip (min/max) with respect to the roots. Curriculum: 30-1, outcome 11. \n",
    "\n",
    "#Note: The school curriculum calls for parameter a being integer. When using graphical illustration, it is OK to make it real. \n"
   ]
  },
  {
   "cell_type": "code",
   "execution_count": null,
   "metadata": {},
   "outputs": [],
   "source": []
  },
  {
   "cell_type": "markdown",
   "metadata": {},
   "source": [
    "# Bisection Method\n",
    "____\n",
    "\n",
    "Here we will walk you through a root-finding algorithm called the \"Bisection Method\", which is good to find approximations of roots. For a quick review of this method and other root finding algorithms, go to https://en.wikipedia.org/wiki/Root-finding_algorithm#Bisection_method. \n",
    "\n",
    "\n"
   ]
  },
  {
   "cell_type": "code",
   "execution_count": null,
   "metadata": {
    "collapsed": true
   },
   "outputs": [],
   "source": []
  }
 ],
 "metadata": {
  "kernelspec": {
   "display_name": "Python 3",
   "language": "python",
   "name": "python3"
  },
  "language_info": {
   "codemirror_mode": {
    "name": "ipython",
    "version": 3
   },
   "file_extension": ".py",
   "mimetype": "text/x-python",
   "name": "python",
   "nbconvert_exporter": "python",
   "pygments_lexer": "ipython3",
   "version": "3.6.5"
  }
 },
 "nbformat": 4,
 "nbformat_minor": 2
}

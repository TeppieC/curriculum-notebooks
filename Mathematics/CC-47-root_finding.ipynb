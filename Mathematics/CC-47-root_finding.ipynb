{
 "cells": [
  {
   "cell_type": "markdown",
   "metadata": {},
   "source": [
    "<img src = \"images/Callysto_Notebook-Banner_Top.jpg\">"
   ]
  },
  {
   "cell_type": "code",
   "execution_count": 1,
   "metadata": {
    "scrolled": true
   },
   "outputs": [
    {
     "data": {
      "text/html": [
       "<script>requirejs.config({paths: { 'plotly': ['https://cdn.plot.ly/plotly-latest.min']},});if(!window.Plotly) {{require(['plotly'],function(plotly) {window.Plotly=plotly;});}}</script>"
      ],
      "text/vnd.plotly.v1+html": [
       "<script>requirejs.config({paths: { 'plotly': ['https://cdn.plot.ly/plotly-latest.min']},});if(!window.Plotly) {{require(['plotly'],function(plotly) {window.Plotly=plotly;});}}</script>"
      ]
     },
     "metadata": {},
     "output_type": "display_data"
    },
    {
     "data": {
      "text/html": [
       "<script>requirejs.config({paths: { 'plotly': ['https://cdn.plot.ly/plotly-latest.min']},});if(!window.Plotly) {{require(['plotly'],function(plotly) {window.Plotly=plotly;});}}</script>"
      ],
      "text/vnd.plotly.v1+html": [
       "<script>requirejs.config({paths: { 'plotly': ['https://cdn.plot.ly/plotly-latest.min']},});if(!window.Plotly) {{require(['plotly'],function(plotly) {window.Plotly=plotly;});}}</script>"
      ]
     },
     "metadata": {},
     "output_type": "display_data"
    }
   ],
   "source": [
    "import numpy as np\n",
    "import matplotlib.pyplot as plt\n",
    "from IPython.display import display, Math, Latex, HTML, clear_output, Markdown, Javascript\n",
    "import ipywidgets as widgets\n",
    "from ipywidgets import interact, FloatSlider, IntSlider, interactive, Layout\n",
    "from traitlets import traitlets\n",
    "\n",
    "import CC47_functions as CC47\n",
    "\n",
    "import plotly as py\n",
    "import plotly.graph_objs as go\n",
    "from plotly.offline import download_plotlyjs, init_notebook_mode, plot, iplot\n",
    "init_notebook_mode(connected=True)\n",
    "\n",
    "#functions from CC-47_functions\n",
    "\n",
    "\n",
    "%matplotlib notebook\n",
    "\n",
    "\n",
    "#Above, we are importing all the necessary modules in order to run the notebook. \n",
    "#Numpy allows us to define arrays of values for our variables to plot them\n",
    "#matplotlib is what we use to create the figures\n",
    "#the display and widgets are to make the notebook look neat\n"
   ]
  },
  {
   "cell_type": "code",
   "execution_count": 2,
   "metadata": {
    "scrolled": true
   },
   "outputs": [
    {
     "data": {
      "text/html": [
       "<script>\n",
       "  function code_toggle() {\n",
       "    if (code_shown){\n",
       "      $('div.input').hide('500');\n",
       "      $('#toggleButton').val('Show Code')\n",
       "    } else {\n",
       "      $('div.input').show('500');\n",
       "      $('#toggleButton').val('Hide Code')\n",
       "    }\n",
       "    code_shown = !code_shown\n",
       "  }\n",
       "  \n",
       "  $( document ).ready(function(){\n",
       "    code_shown=false;\n",
       "    $('div.input').hide()\n",
       "  });\n",
       "</script>\n",
       "<form action=\"javascript:code_toggle()\"><input type=\"submit\" id=\"toggleButton\" value=\"Show Code\"></form>"
      ],
      "text/plain": [
       "<IPython.core.display.HTML object>"
      ]
     },
     "execution_count": 2,
     "metadata": {},
     "output_type": "execute_result"
    }
   ],
   "source": [
    "HTML('''<script>\n",
    "  function code_toggle() {\n",
    "    if (code_shown){\n",
    "      $('div.input').hide('500');\n",
    "      $('#toggleButton').val('Show Code')\n",
    "    } else {\n",
    "      $('div.input').show('500');\n",
    "      $('#toggleButton').val('Hide Code')\n",
    "    }\n",
    "    code_shown = !code_shown\n",
    "  }\n",
    "  \n",
    "  $( document ).ready(function(){\n",
    "    code_shown=false;\n",
    "    $('div.input').hide()\n",
    "  });\n",
    "</script>\n",
    "<form action=\"javascript:code_toggle()\"><input type=\"submit\" id=\"toggleButton\" value=\"Show Code\"></form>''')\n",
    "\n",
    "\n"
   ]
  },
  {
   "cell_type": "markdown",
   "metadata": {},
   "source": [
    "<h1><center> Root Finding </center></h1>\n",
    "***\n",
    "\n",
    "<img src = \"images/ezgif.com-gif-maker.gif\">\n",
    "***"
   ]
  },
  {
   "cell_type": "markdown",
   "metadata": {},
   "source": [
    "# Introduction\n",
    "---\n",
    "In this notebook you will gain an understanding of basic root-finding algorithms and their implementation. This topic is introduced with the goal of easing you into numerical solutions to mathematical problems. We will outline the advantages and disadvantages of solving a problem numerically rather than analytically. At the end of the notebook there will be example problems from real-world scenarios, in which you have the opportunity to implement these methods, yielding a broader understanding of their applicability and power.\n",
    "\n",
    "**Necessary background**:\n",
    "- Be able to factor quadratic polynomials\n",
    "- Understand basic python syntax\n",
    "- Read, graph, and analyze functions\n",
    "- Rudimentary algebra\n",
    "\n",
    "In this Notebook you will see examples of code to perform some basic root-finding algorithms. You will not be required to know how the code works or need to write any yourself. Nevertheless, you will be encouraged to manipulate some of the lines in order to input a function of your choice, but that is all. The pieces of code and algorithms can be simply thought of as tools to execute the task you want them to perform, and only running them will be a necessary to accomplish this task. Although the coding isn't required, I strongly encourage you to try to understand how and why it works. "
   ]
  },
  {
   "cell_type": "markdown",
   "metadata": {},
   "source": [
    "\n",
    "For a warm-up, we have created an exercise for you to determine the intervals on which a polynomial is $>$ 0. A first approach to this problem would be to find the roots of the polynomial and then analyze the behaviour in between these roots. We recommend converting the function into a form that you can graph in order to determine the behaviour on either side of the roots. Think about the possible forms of the graph, i.e. concavity, convexity, and what this tells you about the intervals where the function is positive. This type of analytical thinking will help further along in the notebook. </br>\n",
    "\n",
    "\n",
    "Given a polynomial of order $\\leq$ 3, find where the function $>$ 0. \n",
    "Below is simply **a** method of approaching this problem, not necessarily the best or most effective. There are many ways one can go about this, each offering a different insight or understanding. Find what works best for you and try to understand why  you used this method (is it visual? is it solely algebraic? did you manipulate the function?).</br>\n",
    "\n",
    "**Example**:\n",
    "\n",
    "Find the interval on which $f(x) = x^2 - 3x +2 > 0$.</br>\n",
    "\n",
    "Solve for roots:</br>\n",
    "\n",
    "$f(x) = (x-1)(x-2)$</br>\n",
    "\n",
    "\n",
    "Using an inequality approach, if I picked a point, $c$ in the interval $(1,2)$, then (c-1)> 0 and (c-2)< 0. Therefore, our function evaluated at this point:\n",
    "\n",
    "$f(c)=(c-1)(c-2) < 0$. </br>\n",
    "\n",
    "We can deduce, by knowing the shape of a parabola, that the interval on which $f(x)>0$ is $x = (-\\infty,1)\\cup(2,\\infty)$\n",
    "\n",
    "By picking a point in between the roots we quickly found whether the function was concave up or down. Knowing what the graph of a parabola looks like, this quickly told us where the function was positive.\n",
    "\n",
    "Given a polynomial of order 2 or 3, find where the function $>$ 0. Try polynomials of 2nd order first and then 3rd for more of a challenge. Below, we will provide some algorithms that will make finding the roots of a third (or higher) order polynomial much less tedious. \n",
    "\n",
    "- Please input your answer in interval notation, using \"U\" for the union of intervals \n",
    "- For $\\infty$ type infinity\n",
    "- If the function is nowhere $ > 0$, then type \"Nowhere\"\n",
    "\n",
    "I recommend trying the exercise for a polynomial of order two, reviewing the content of the notebook and then trying for polynomials of order 3. Input answer in interval notation (i.e. (-4,-1)U(5,infinity) ):"
   ]
  },
  {
   "cell_type": "code",
   "execution_count": 3,
   "metadata": {},
   "outputs": [
    {
     "data": {
      "application/vnd.jupyter.widget-view+json": {
       "model_id": "347411b826854c26a4e9b4a02fa33748",
       "version_major": 2,
       "version_minor": 0
      },
      "text/html": [
       "<p>Failed to display Jupyter Widget of type <code>Button</code>.</p>\n",
       "<p>\n",
       "  If you're reading this message in the Jupyter Notebook or JupyterLab Notebook, it may mean\n",
       "  that the widgets JavaScript is still loading. If this message persists, it\n",
       "  likely means that the widgets JavaScript library is either not installed or\n",
       "  not enabled. See the <a href=\"https://ipywidgets.readthedocs.io/en/stable/user_install.html\">Jupyter\n",
       "  Widgets Documentation</a> for setup instructions.\n",
       "</p>\n",
       "<p>\n",
       "  If you're reading this message in another frontend (for example, a static\n",
       "  rendering on GitHub or <a href=\"https://nbviewer.jupyter.org/\">NBViewer</a>),\n",
       "  it may mean that your frontend doesn't currently support widgets.\n",
       "</p>\n"
      ],
      "text/plain": [
       "Button(description='Attempt Exercise (order 2)', layout=Layout(height='60px', width='30%'), style=ButtonStyle())"
      ]
     },
     "metadata": {},
     "output_type": "display_data"
    },
    {
     "data": {
      "application/vnd.jupyter.widget-view+json": {
       "model_id": "08a8d0ff1a2840f5b7bbebc3dbccf34f",
       "version_major": 2,
       "version_minor": 0
      },
      "text/html": [
       "<p>Failed to display Jupyter Widget of type <code>Button</code>.</p>\n",
       "<p>\n",
       "  If you're reading this message in the Jupyter Notebook or JupyterLab Notebook, it may mean\n",
       "  that the widgets JavaScript is still loading. If this message persists, it\n",
       "  likely means that the widgets JavaScript library is either not installed or\n",
       "  not enabled. See the <a href=\"https://ipywidgets.readthedocs.io/en/stable/user_install.html\">Jupyter\n",
       "  Widgets Documentation</a> for setup instructions.\n",
       "</p>\n",
       "<p>\n",
       "  If you're reading this message in another frontend (for example, a static\n",
       "  rendering on GitHub or <a href=\"https://nbviewer.jupyter.org/\">NBViewer</a>),\n",
       "  it may mean that your frontend doesn't currently support widgets.\n",
       "</p>\n"
      ],
      "text/plain": [
       "Button(description='Attempt Exercise (order 3)', layout=Layout(height='60px', width='30%'), style=ButtonStyle())"
      ]
     },
     "metadata": {},
     "output_type": "display_data"
    }
   ],
   "source": [
    "def find_interval(poly_order):\n",
    "    poly_order = int(poly_order)\n",
    "    if poly_order > 3:\n",
    "        display(Latex('Order of polynomial must be less than or equal to 3'))\n",
    "        display(Latex('Provide order of polynomial:'))\n",
    "        \n",
    "    if poly_order == 3:    \n",
    "        C = np.random.randint(-5,5,poly_order)\n",
    "        C1 = -1*np.sum(C)\n",
    "        C2 = C[0]*C[1] + C[2]*(C[0]+C[1])\n",
    "        C3 = -1*C[0]*C[1]*C[2]\n",
    "        C11=C1\n",
    "        C22=C2\n",
    "        C33=C3\n",
    "        display(Latex(\"Find the interval where $P(x) > 0$ :\"))\n",
    "        if C1>0:\n",
    "            str1 = '+' + str(C11) + 'x^2'\n",
    "        elif C1== 0:\n",
    "            str1 = ''\n",
    "        else:\n",
    "            str1=  str(C11) + 'x^2'\n",
    "        if C2>0:\n",
    "            str2 = '+' + str(C22) + 'x'\n",
    "        elif C2== 0:\n",
    "            str2=''\n",
    "        else:\n",
    "            str2= str(C22) + 'x'\n",
    "        if C3>0:\n",
    "            str3 = '+' + str(C33)\n",
    "        elif C3== 0:\n",
    "            str3=''\n",
    "        else:\n",
    "            str3= str(C33)\n",
    "            \n",
    "        a = \"P(x)= x^3\" + str1 + str2 + str3\n",
    "        \n",
    "        display(Math(a))\n",
    "        \n",
    "        def poly(x):\n",
    "            return x**3 + C1*x**2 + C2*x + C3\n",
    "        \n",
    "    if poly_order == 2:\n",
    "        C = np.random.randint(-5,5,poly_order)\n",
    "        C1 = -1*np.sum(C)\n",
    "        C2 = C[0]*C[1]\n",
    "        C11=C1\n",
    "        C22=C2\n",
    "        if C1>0:\n",
    "            str1 = '+' + str(C11) + 'x'\n",
    "        elif C1== 0:\n",
    "            str1 = ''\n",
    "        else:\n",
    "            str1=  str(C11) + 'x'\n",
    "        if C2>0:\n",
    "            str2 = '+' + str(C22)\n",
    "        elif C2== 0:\n",
    "            str2=''\n",
    "        else:\n",
    "            str2= str(C22) \n",
    "        display(Latex('Find the interval where $P(x) > 0 $ :'))\n",
    "        a = 'P(x) = x^2 ' + str1 + str2\n",
    "        display(Math(a))\n",
    "        def poly(x):\n",
    "            return x**2 + C1*x + C2\n",
    "    \n",
    "    Max = max(C)\n",
    "    Min = min(C)\n",
    "    M = [Min, Max]\n",
    "    V = np.sort(C)\n",
    "    eps = 0.1\n",
    "    \n",
    "    if poly_order ==3:\n",
    "        v = V[1]\n",
    "        if Max == Min and poly(Max +eps) > 0:\n",
    "                          interval = '('+str(Max)+',infinity)' #One single root, increasing\n",
    "        if Max == Min and poly(Max +eps) < 0:\n",
    "                          interval = '(-infinity,' + str( Max)+')' #One single root, decreasing\n",
    "                      \n",
    "        if poly(Max + eps) >0:\n",
    "#         interval = '(' + str(Max) + ', infinity)'\n",
    "            if v !=  Max and v!= Min:\n",
    "                          interval = '('+str(Min) + ',' + str(v) + ')U(' + str(Max) + ',infinity)'\n",
    "            if v == Max:\n",
    "                          interval = '(' + str(Min) + ', infinity)'\n",
    "            if v== Min:\n",
    "                          interval = '(' + str(Max) + ', infinity)'\n",
    "    \n",
    "        if poly(Max + eps) <0:\n",
    "#         interval = '(-infinty,' + str(Min) + ')'\n",
    "            if v != Max and v != Min:\n",
    "                          interval = '(-inifinity,' + str(Min) + 'U('+str(v) + ','+str(Max) + ')'\n",
    "            if v == Max:\n",
    "                          interval = '(-infinity,' + str( Max) + ')'\n",
    "            if v == Min:\n",
    "                          interval = '(-infinity,' + str(Min) + ')'\n",
    "                    \n",
    "    if poly_order == 2:\n",
    "            if Max == Min and poly(Max+eps)>0:\n",
    "                interval = '(-infinity,'+str(Min)+')U('+str(Min)+',infinity)' #one root, convex\n",
    "            elif poly(Max+eps)<0:\n",
    "                interval = '('+str(Min)+','+str(Max)+')' #Two distinct roots, Concave\n",
    "            elif poly(Max + eps)>0:\n",
    "                interval = '(-infinity,'+str(Min)+')U(' + str(Max)+',infinity)' #Two distinct roots, convex\n",
    "            else:\n",
    "                interval = 'Nowhere' #one root, concave \n",
    "    \n",
    "    x = np.linspace(-100,100,10000)\n",
    "    p = poly(x)\n",
    "    print(interval)\n",
    "    return interval, p\n",
    "\n",
    "\n",
    "def check_answer(answer,interval,y):\n",
    "\n",
    "    if answer == interval:\n",
    "        \n",
    "        display(Latex(\"Correct! Here's a visualization of the solution:\"))\n",
    "        x1=np.linspace(-100,100,10000)\n",
    "        trace = go.Scatter(\n",
    "            x = x1,\n",
    "            y = y\n",
    "        )\n",
    "        layout = go.Layout(\n",
    "            xaxis = dict(\n",
    "                title='x',\n",
    "                titlefont=dict(\n",
    "                family='Arial, serif',\n",
    "                size=18,\n",
    "                color='black'),\n",
    "                range = [-10,10],\n",
    "                autotick=False,\n",
    "                ticks='outside',\n",
    "                tick0=0,\n",
    "                dtick=1\n",
    "            ),\n",
    "            yaxis = dict(\n",
    "                title='P(x)',\n",
    "                titlefont=dict(\n",
    "                family='Arial, serif',\n",
    "                size=18,\n",
    "                color='black'),\n",
    "                range = [-10,10],\n",
    "                autotick=False,\n",
    "                ticks='outside',\n",
    "                tick0=0,\n",
    "                dtick=1\n",
    "            ),\n",
    "        )\n",
    "\n",
    "        data = [trace]\n",
    "\n",
    "        fig = go.Figure(data=data, layout=layout)\n",
    "\n",
    "        iplot(fig)\n",
    "\n",
    "        display(Latex('Above is a graph of the polynomial:'))\n",
    "        \n",
    "    elif answer != interval:\n",
    "\n",
    "        display(Latex(\"That's not quite right, try again.\" ))\n",
    "\n",
    "    return \n",
    "\n",
    "\n",
    "text2 = widgets.Text(disabled = False)\n",
    "out2 = widgets.Text(disabled  = True, value = '0')\n",
    "text3 = widgets.Text(disabled = False)\n",
    "out3 = widgets.Text(disabled  = True, value = '0')\n",
    "\n",
    "def bind_to_out2(sender):\n",
    "    out2.value = text2.value  \n",
    "    return out2.value\n",
    "\n",
    "text2.on_submit(bind_to_out2)\n",
    "\n",
    "def bind_to_out3(sender):\n",
    "    out3.value = text3.value  \n",
    "    return out3.value\n",
    "\n",
    "text3.on_submit(bind_to_out3)\n",
    "\n",
    "button2 = widgets.Button(description=\"Attempt Exercise (order 2)\", layout = Layout(width='30%', height='60px'))\n",
    "button3 = widgets.Button(description=\"Attempt Exercise (order 3)\", layout = Layout(width='30%', height='60px'))\n",
    "check_button = widgets.Button(description=\"Check your answer\", layout = Layout(width='30%', height='60px'))\n",
    "display(button2)\n",
    "display(button3)\n",
    "\n",
    "def on_button_clicked2(b):\n",
    "    clear_output()\n",
    "    display(button2)\n",
    "    display(button3)\n",
    "    display(Javascript('IPython.notebook.execute_cell_range(IPython.notebook.get_selected_index()+1,IPython.notebook.get_selected_index()+2)'))\n",
    "\n",
    "button2.on_click(on_button_clicked2) \n",
    "\n",
    "\n",
    "def on_button_clicked3(b):\n",
    "    clear_output()\n",
    "    display(button2)\n",
    "    display(button3)\n",
    "    display(Javascript('IPython.notebook.execute_cell_range(IPython.notebook.get_selected_index()+2, IPython.notebook.get_selected_index()+3)'))\n",
    "\n",
    "button3.on_click(on_button_clicked3) \n",
    "\n",
    "    "
   ]
  },
  {
   "cell_type": "code",
   "execution_count": 4,
   "metadata": {
    "scrolled": false
   },
   "outputs": [
    {
     "data": {
      "text/latex": [
       "Find the interval where $P(x) > 0 $ :"
      ],
      "text/plain": [
       "<IPython.core.display.Latex object>"
      ]
     },
     "metadata": {},
     "output_type": "display_data"
    },
    {
     "data": {
      "text/latex": [
       "$$P(x) = x^2 +9x+20$$"
      ],
      "text/plain": [
       "<IPython.core.display.Math object>"
      ]
     },
     "metadata": {},
     "output_type": "display_data"
    },
    {
     "name": "stdout",
     "output_type": "stream",
     "text": [
      "(-infinity,-5)U(-4,infinity)\n"
     ]
    },
    {
     "data": {
      "application/vnd.jupyter.widget-view+json": {
       "model_id": "7f9eaae940264dcd88ed1941b77687ae",
       "version_major": 2,
       "version_minor": 0
      },
      "text/html": [
       "<p>Failed to display Jupyter Widget of type <code>Text</code>.</p>\n",
       "<p>\n",
       "  If you're reading this message in the Jupyter Notebook or JupyterLab Notebook, it may mean\n",
       "  that the widgets JavaScript is still loading. If this message persists, it\n",
       "  likely means that the widgets JavaScript library is either not installed or\n",
       "  not enabled. See the <a href=\"https://ipywidgets.readthedocs.io/en/stable/user_install.html\">Jupyter\n",
       "  Widgets Documentation</a> for setup instructions.\n",
       "</p>\n",
       "<p>\n",
       "  If you're reading this message in another frontend (for example, a static\n",
       "  rendering on GitHub or <a href=\"https://nbviewer.jupyter.org/\">NBViewer</a>),\n",
       "  it may mean that your frontend doesn't currently support widgets.\n",
       "</p>\n"
      ],
      "text/plain": [
       "Text(value='Enter Interval')"
      ]
     },
     "metadata": {},
     "output_type": "display_data"
    },
    {
     "data": {
      "application/vnd.jupyter.widget-view+json": {
       "model_id": "e50df32567954084bd421ddd7fbe7a7f",
       "version_major": 2,
       "version_minor": 0
      },
      "text/html": [
       "<p>Failed to display Jupyter Widget of type <code>Button</code>.</p>\n",
       "<p>\n",
       "  If you're reading this message in the Jupyter Notebook or JupyterLab Notebook, it may mean\n",
       "  that the widgets JavaScript is still loading. If this message persists, it\n",
       "  likely means that the widgets JavaScript library is either not installed or\n",
       "  not enabled. See the <a href=\"https://ipywidgets.readthedocs.io/en/stable/user_install.html\">Jupyter\n",
       "  Widgets Documentation</a> for setup instructions.\n",
       "</p>\n",
       "<p>\n",
       "  If you're reading this message in another frontend (for example, a static\n",
       "  rendering on GitHub or <a href=\"https://nbviewer.jupyter.org/\">NBViewer</a>),\n",
       "  it may mean that your frontend doesn't currently support widgets.\n",
       "</p>\n"
      ],
      "text/plain": [
       "Button(description='Check your answer', layout=Layout(height='60px', width='30%'), style=ButtonStyle())"
      ]
     },
     "metadata": {},
     "output_type": "display_data"
    }
   ],
   "source": [
    "clear_output()\n",
    "interval, y = find_interval(2)\n",
    "text2.value = 'Enter Interval'\n",
    "display(text2)\n",
    "display(check_button)\n",
    "\n",
    "        \n",
    "def check(b):\n",
    "    check_answer(out2.value,interval,y)\n",
    "    \n",
    "check_button.on_click(check)"
   ]
  },
  {
   "cell_type": "code",
   "execution_count": 5,
   "metadata": {},
   "outputs": [
    {
     "data": {
      "text/latex": [
       "Find the interval where $P(x) > 0$ :"
      ],
      "text/plain": [
       "<IPython.core.display.Latex object>"
      ]
     },
     "metadata": {},
     "output_type": "display_data"
    },
    {
     "data": {
      "text/latex": [
       "$$P(x)= x^3+1x^2-10x+8$$"
      ],
      "text/plain": [
       "<IPython.core.display.Math object>"
      ]
     },
     "metadata": {},
     "output_type": "display_data"
    },
    {
     "name": "stdout",
     "output_type": "stream",
     "text": [
      "(-4,1)U(2,infinity)\n"
     ]
    },
    {
     "data": {
      "application/vnd.jupyter.widget-view+json": {
       "model_id": "24fb539e0fd543ef8137580b8370bf00",
       "version_major": 2,
       "version_minor": 0
      },
      "text/html": [
       "<p>Failed to display Jupyter Widget of type <code>Text</code>.</p>\n",
       "<p>\n",
       "  If you're reading this message in the Jupyter Notebook or JupyterLab Notebook, it may mean\n",
       "  that the widgets JavaScript is still loading. If this message persists, it\n",
       "  likely means that the widgets JavaScript library is either not installed or\n",
       "  not enabled. See the <a href=\"https://ipywidgets.readthedocs.io/en/stable/user_install.html\">Jupyter\n",
       "  Widgets Documentation</a> for setup instructions.\n",
       "</p>\n",
       "<p>\n",
       "  If you're reading this message in another frontend (for example, a static\n",
       "  rendering on GitHub or <a href=\"https://nbviewer.jupyter.org/\">NBViewer</a>),\n",
       "  it may mean that your frontend doesn't currently support widgets.\n",
       "</p>\n"
      ],
      "text/plain": [
       "Text(value='Enter Interval')"
      ]
     },
     "metadata": {},
     "output_type": "display_data"
    },
    {
     "data": {
      "application/vnd.jupyter.widget-view+json": {
       "model_id": "e50df32567954084bd421ddd7fbe7a7f",
       "version_major": 2,
       "version_minor": 0
      },
      "text/html": [
       "<p>Failed to display Jupyter Widget of type <code>Button</code>.</p>\n",
       "<p>\n",
       "  If you're reading this message in the Jupyter Notebook or JupyterLab Notebook, it may mean\n",
       "  that the widgets JavaScript is still loading. If this message persists, it\n",
       "  likely means that the widgets JavaScript library is either not installed or\n",
       "  not enabled. See the <a href=\"https://ipywidgets.readthedocs.io/en/stable/user_install.html\">Jupyter\n",
       "  Widgets Documentation</a> for setup instructions.\n",
       "</p>\n",
       "<p>\n",
       "  If you're reading this message in another frontend (for example, a static\n",
       "  rendering on GitHub or <a href=\"https://nbviewer.jupyter.org/\">NBViewer</a>),\n",
       "  it may mean that your frontend doesn't currently support widgets.\n",
       "</p>\n"
      ],
      "text/plain": [
       "Button(description='Check your answer', layout=Layout(height='60px', width='30%'), style=ButtonStyle())"
      ]
     },
     "metadata": {},
     "output_type": "display_data"
    }
   ],
   "source": [
    "clear_output()\n",
    "interval, y = find_interval(3)\n",
    "text3.value = 'Enter Interval'\n",
    "display(text3)\n",
    "display(check_button)\n",
    "\n",
    "        \n",
    "def check(b):\n",
    "    check_answer(out3.value,interval,y)\n",
    "    \n",
    "check_button.on_click(check)"
   ]
  },
  {
   "cell_type": "markdown",
   "metadata": {},
   "source": [
    "## Analytic vs. Numerical Solutions\n",
    "-----------------------------------------------------\n",
    "\n",
    "\n",
    "\n",
    "   Below we will outline the differences, pros and cons and methods of analytic vs. numerical solutions within the context of root finding. By solving for the roots of the polynomial and analyzing the graph of the function, you were able to explicitly determine an answer to the question posed. This is the benefit of these analytic expressions; they give you a nice and clear explicit answer. It is often the case that we can derive analytic solutions to simpler, well-posed problems. Now, what if the problem is not so well-posed? What if our analytic approach becomes way too complex or tedious? How would you approach this problem without finding zeroes? What if the polynomial is of n-th order? For these cases we turn to a numerical approach, alleviating the work load and attaining the same end goal, but often with less accuracy.\n",
    "\n",
    "\n",
    "   Next we will walk you through different ways to approach this problem, and more complex problems of the same flavour, numerically. You will gain some insight into the implementation and benefit of numerical solutions while developing some basic skills in Python and numerical analysis.\n",
    "\n",
    "\n"
   ]
  },
  {
   "cell_type": "markdown",
   "metadata": {},
   "source": [
    "## Inspection\n",
    "-----------------------\n",
    "\n",
    "In order to answer the question, \"On what interval(s) is $ f(x) > 0?$\", you probably found the roots of the polynomial and looked at the behaviour of the graph inbetween these roots. This can be done for nice polynomials with integer coefficients and a low-order, but becomes increasingly difficult the more terms there are and the more nasty the polynomials starts looking. Nevertheless, your initial approach to this problem can still be taken; find the roots, analyze the behaviour in between these roots in order to determine where f(x) $>$ 0. Below we will discuss some algorithms used to determine roots of a polynomial.\n",
    "\n",
    "Take, for instance, the polynomial:\n",
    "$f(x) = x^3 -\\frac{7}{9}x^2 - \\frac{1}{4}x+\\frac{7}{36}$\n",
    "\n",
    "\n",
    "A great advantage of utilizing a numerical approach is that it allows for quick ways to approximate a solution. This is useful if the amount of error is negligible and all one is looking for is an estimation. A quick way to get an estimation for our solution in question is simply to plot $f(x)$. This is similar to what you would do on your graphing calculator, now just on the computer using code! If you would like to get started plotting with python, the best place to start is with matplotlib. It's quick to learn, if you know basic python syntax, and there are tons of internet resources to explore its capabilities and debug problems. For extensive documentation and functionality of the matplotlib library see https://matplotlib.org/. Click on plot function to inspect $f(x)$ above.\n"
   ]
  },
  {
   "cell_type": "code",
   "execution_count": 6,
   "metadata": {},
   "outputs": [
    {
     "data": {
      "application/vnd.jupyter.widget-view+json": {
       "model_id": "54324deff4b246c3b39d9bb7eae185df",
       "version_major": 2,
       "version_minor": 0
      },
      "text/html": [
       "<p>Failed to display Jupyter Widget of type <code>Button</code>.</p>\n",
       "<p>\n",
       "  If you're reading this message in the Jupyter Notebook or JupyterLab Notebook, it may mean\n",
       "  that the widgets JavaScript is still loading. If this message persists, it\n",
       "  likely means that the widgets JavaScript library is either not installed or\n",
       "  not enabled. See the <a href=\"https://ipywidgets.readthedocs.io/en/stable/user_install.html\">Jupyter\n",
       "  Widgets Documentation</a> for setup instructions.\n",
       "</p>\n",
       "<p>\n",
       "  If you're reading this message in another frontend (for example, a static\n",
       "  rendering on GitHub or <a href=\"https://nbviewer.jupyter.org/\">NBViewer</a>),\n",
       "  it may mean that your frontend doesn't currently support widgets.\n",
       "</p>\n"
      ],
      "text/plain": [
       "Button(description='Plot Function', layout=Layout(height='60px', width='30%'), style=ButtonStyle())"
      ]
     },
     "metadata": {},
     "output_type": "display_data"
    }
   ],
   "source": [
    "button = widgets.Button(description=\"Plot Function\", layout = Layout(width = '30%',height = '60px'))\n",
    "display(button)\n",
    "def on_button_clicked(b):\n",
    "    \n",
    "    x = np.linspace(-50,50,1000)\n",
    "    y = x**3 - (7/9)*x**2 - (1/4)*x + 7/36   \n",
    "    trace = go.Scatter(\n",
    "        x = x,\n",
    "        y = y\n",
    "    )\n",
    "    layout = go.Layout(\n",
    "        xaxis = dict(\n",
    "            title='x',\n",
    "            titlefont=dict(\n",
    "            family='Arial, serif',\n",
    "            size=18,\n",
    "            color='black'),\n",
    "            showticklabels=True,\n",
    "            tickangle=0,\n",
    "            range = [-1,1],\n",
    "            autotick=False,\n",
    "            ticks='outside',\n",
    "            tick0=0,\n",
    "            dtick=1\n",
    "        ),\n",
    "        yaxis = dict(\n",
    "            title='P(x)',\n",
    "            titlefont=dict(\n",
    "            family='Arial, serif',\n",
    "            size=18,\n",
    "            color='black'),\n",
    "            range = [-1,1],\n",
    "            autotick=False,\n",
    "            ticks='outside',\n",
    "            tick0=0,\n",
    "            dtick=5\n",
    "        ),\n",
    "    )\n",
    "\n",
    "    data = [trace]\n",
    "\n",
    "    fig = go.Figure(data=data, layout=layout)\n",
    "\n",
    "    iplot(fig)\n",
    "    \n",
    "button.on_click(on_button_clicked) "
   ]
  },
  {
   "cell_type": "markdown",
   "metadata": {},
   "source": [
    "---\n",
    "Purely by inspection, we were able to observe where the roots of this function lie: $x = -\\frac{1}{2},\\frac{1}{2},\\frac{3}{4}$. This was a nice and clean numerical solution to a problem that would've been much more difficult to solve analytically. Although this may seem convenient and albeit simple, this estimation approach is primitive. It is rare that a problem would ever require this simple of a solution, but nonetheless we found the roots of the polynomial. By simply graphing the solution, we were also able to see easily where the funcition was greater than zero. \n",
    "\n",
    "A potential use for this problem would be our initial exercise \"Find the intervals where $f(x) > 0$ \". The next cell has been left for you to input the values $(a,b,c,d)$ for a third order polynomial in the form $f(x) = ax^3 + bx^2 + cx + d$ the function that our first exercise output, see if you can use inspection to obtain the correct interval.\n",
    "\n",
    "---\n"
   ]
  },
  {
   "cell_type": "code",
   "execution_count": 7,
   "metadata": {
    "scrolled": false
   },
   "outputs": [
    {
     "data": {
      "application/vnd.jupyter.widget-view+json": {
       "model_id": "fd0a5e9d6866493b81d769c60f7aad8a",
       "version_major": 2,
       "version_minor": 0
      },
      "text/html": [
       "<p>Failed to display Jupyter Widget of type <code>Button</code>.</p>\n",
       "<p>\n",
       "  If you're reading this message in the Jupyter Notebook or JupyterLab Notebook, it may mean\n",
       "  that the widgets JavaScript is still loading. If this message persists, it\n",
       "  likely means that the widgets JavaScript library is either not installed or\n",
       "  not enabled. See the <a href=\"https://ipywidgets.readthedocs.io/en/stable/user_install.html\">Jupyter\n",
       "  Widgets Documentation</a> for setup instructions.\n",
       "</p>\n",
       "<p>\n",
       "  If you're reading this message in another frontend (for example, a static\n",
       "  rendering on GitHub or <a href=\"https://nbviewer.jupyter.org/\">NBViewer</a>),\n",
       "  it may mean that your frontend doesn't currently support widgets.\n",
       "</p>\n"
      ],
      "text/plain": [
       "Button(description='Plot Function', layout=Layout(height='60px', width='30%'), style=ButtonStyle())"
      ]
     },
     "metadata": {},
     "output_type": "display_data"
    }
   ],
   "source": [
    "#function to graph third order polynomial with given inputs:\n",
    "def plot3(a,b,c,d):\n",
    "    x = np.linspace(-50,50,1000)\n",
    "    y = a*x**3 + d*x**2 + c*x + d   \n",
    "    trace = go.Scatter(\n",
    "        x = x,\n",
    "        y = y\n",
    "    )\n",
    "    layout = go.Layout(\n",
    "        xaxis = dict(\n",
    "            title='x',\n",
    "            titlefont=dict(\n",
    "            family='Arial, serif',\n",
    "            size=18,\n",
    "            color='black'),\n",
    "            showticklabels=True,\n",
    "            tickangle=0,\n",
    "            range = [-15,15],\n",
    "            autotick=False,\n",
    "            ticks='outside',\n",
    "            tick0=0,\n",
    "            dtick=1\n",
    "        ),\n",
    "        yaxis = dict(\n",
    "            title='P(x)',\n",
    "            titlefont=dict(\n",
    "            family='Arial, serif',\n",
    "            size=18,\n",
    "            color='black'),\n",
    "            range = [-15,15],\n",
    "            autotick=False,\n",
    "            ticks='outside',\n",
    "            tick0=0,\n",
    "            dtick=5\n",
    "        ),\n",
    "    )\n",
    "\n",
    "    data = [trace]\n",
    "\n",
    "    fig = go.Figure(data=data, layout=layout)\n",
    "\n",
    "    iplot(fig)\n",
    "\n",
    "    return \n",
    "\n",
    "abc = interactive(plot3, a = widgets.BoundedFloatText(value=1, min=-10,max=10,step=1.0,description=r'$a$:',disabled=False),\n",
    "            b = widgets.BoundedFloatText(value=1,min=-10, max=10,step=1.0,description=r'$b$:',disabled=False),\n",
    "            c = widgets.BoundedFloatText(value=1,min=-40,max=40,step=1.0,description=r'$c$:',disabled=False),\n",
    "            d = widgets.BoundedFloatText(value=1,min=-40,max=40,step=1.0,description=r'$d$:',disabled=False))\n",
    "\n",
    "button = widgets.Button(description=\"Plot Function\", layout = Layout(width = '30%',height = '60px'))\n",
    "display(button)\n",
    "def on_button_clicked(b):\n",
    "      \n",
    "    button_clicked = display(abc)\n",
    "    \n",
    "button.on_click(on_button_clicked)    "
   ]
  },
  {
   "cell_type": "markdown",
   "metadata": {},
   "source": [
    "---\n",
    "Here we will provide an exercise to determine roots of a function based on arbitrary parameters and visualize how a graph of the function changes under changes in the values of these parameters. </br>\n",
    "Learning outcomes:\n",
    "- You will understand how arbitrary parameters change the graph of a quadratic polynomial function\n",
    "- Understand how to determine the roots given arbitrary values\n",
    "- See how the roots change under changing the values of the parameter\n",
    "\n",
    "First we provide the steps to derive the famous \"Quadratic Formula\", try following them on your own, click **Show Answer** to see the answer. \n",
    "\n",
    "Starting with an arbitrary polynomial, $P(x) = ax^2 + bx + c$, when $a \\ne 0$:\n",
    "\n",
    "1. Set $P(x) = 0$. \n",
    "2. Complete the square.\n",
    "3. Rearrange the equation, isolating \"$x$\".\n",
    "---\n"
   ]
  },
  {
   "cell_type": "code",
   "execution_count": 8,
   "metadata": {
    "scrolled": true
   },
   "outputs": [
    {
     "data": {
      "application/vnd.jupyter.widget-view+json": {
       "model_id": "2f80e0083b4d47cb82988e066eaf3a72",
       "version_major": 2,
       "version_minor": 0
      },
      "text/html": [
       "<p>Failed to display Jupyter Widget of type <code>Button</code>.</p>\n",
       "<p>\n",
       "  If you're reading this message in the Jupyter Notebook or JupyterLab Notebook, it may mean\n",
       "  that the widgets JavaScript is still loading. If this message persists, it\n",
       "  likely means that the widgets JavaScript library is either not installed or\n",
       "  not enabled. See the <a href=\"https://ipywidgets.readthedocs.io/en/stable/user_install.html\">Jupyter\n",
       "  Widgets Documentation</a> for setup instructions.\n",
       "</p>\n",
       "<p>\n",
       "  If you're reading this message in another frontend (for example, a static\n",
       "  rendering on GitHub or <a href=\"https://nbviewer.jupyter.org/\">NBViewer</a>),\n",
       "  it may mean that your frontend doesn't currently support widgets.\n",
       "</p>\n"
      ],
      "text/plain": [
       "Button(description='Show Answer', layout=Layout(height='60px', width='30%'), style=ButtonStyle())"
      ]
     },
     "metadata": {},
     "output_type": "display_data"
    }
   ],
   "source": [
    "button = widgets.Button(description=\"Show Answer\", layout = Layout(width = '30%',height = '60px'))\n",
    "display(button)\n",
    "\n",
    "def on_button_clicked(b):\n",
    "    display(Markdown('$ P(x) = ax^2 + bx + c = 0$ </br> </br> \\\n",
    "    Complete the square, first dividing by a:</br> </br> \\\n",
    "    $\\\\frac{P(x)}{a} = (x+\\\\frac{b}{2a})^2 + \\\\frac{c}{a} - \\\\frac{b^2}{4a}= 0$ </br> </br>\\\n",
    "    Rearrange for $x$: </br> </br> \\\n",
    "    $(x+\\\\frac{b}{2a})^2 = \\\\frac{b^2}{4a^2} -\\\\frac{c}{a} = \\\\frac{b^2 - 4ac}{4a^2}$ \\\n",
    "    $\\Rightarrow x+\\\\frac{b}{2a} = \\pm \\\\frac{\\sqrt{b^2-4ac}}{\\sqrt{4a^2}}$ </br> \\\n",
    "    $\\Rightarrow x = -\\\\frac{b}{2a} \\pm \\\\frac{\\sqrt{b^2-4ac}}{2a}$'))\n",
    "    button_clicked = 1\n",
    "button.on_click(on_button_clicked)\n",
    "    \n",
    "    \n"
   ]
  },
  {
   "cell_type": "markdown",
   "metadata": {},
   "source": [
    "***\n",
    "We will now analyze the graph of the function $ P(x) = ax^2 + bx + c$ under changing the paramters a,b,c. In the next cell you can manipulate the sliders in order to change these parameters of the function, I recommend thinking about how changing these parameters affects the roots given by the quadratic formula. i.e. How does the form of the function $ P(x)$ affect the position of the roots? Please press shift+enter to run the next cell in order to see how changing these parameters affects the position of the roots. Think how they change x in the quadratic formula.\n",
    "***"
   ]
  },
  {
   "cell_type": "markdown",
   "metadata": {},
   "source": [
    "# Bisection Method\n",
    "---\n",
    "\n",
    "The bisection method is a simple algorithm to quickly find an approximation for a root. The basic idea of the method is to initially take an interval, $[a,b]$ on which the function is defined, such that $f(a),f(b)$ have different signs (so you know there is a root in between). We then split the interval in two and check the new endpoints of each subinterval. Let $c = (a+b)/2$ be the midpoint of the interval. If one of the subintervals has endpoints which have the same signs,i.e. if $f(a)$ & $f(c)$ or $f(b)$ & $f(c)$ have the same signs then this interval is discarded and the root is found in between the other interval. We then divide this sub-interval into two and perform the same analysis. Eventually, up to an accuracy we are happy with, we will have a small interval where we know a root is found. \n",
    "\n",
    "## Analytical Approach\n",
    "\n",
    "Try this method, analytically, for $f(x)= x^2-4$ and the initial interval $[0,5]$. Try three iterations of the algorithm, and see the accuracy you obtain, would you be happy with this accuracy? Do you feel this was quick enough? Click \"Show Answer\" to see the calculations, after you have done so yourself of course...\n",
    "\n"
   ]
  },
  {
   "cell_type": "code",
   "execution_count": 9,
   "metadata": {},
   "outputs": [
    {
     "data": {
      "application/vnd.jupyter.widget-view+json": {
       "model_id": "588ea14961a6445c90c8d7cc4c6b4e31",
       "version_major": 2,
       "version_minor": 0
      },
      "text/html": [
       "<p>Failed to display Jupyter Widget of type <code>Button</code>.</p>\n",
       "<p>\n",
       "  If you're reading this message in the Jupyter Notebook or JupyterLab Notebook, it may mean\n",
       "  that the widgets JavaScript is still loading. If this message persists, it\n",
       "  likely means that the widgets JavaScript library is either not installed or\n",
       "  not enabled. See the <a href=\"https://ipywidgets.readthedocs.io/en/stable/user_install.html\">Jupyter\n",
       "  Widgets Documentation</a> for setup instructions.\n",
       "</p>\n",
       "<p>\n",
       "  If you're reading this message in another frontend (for example, a static\n",
       "  rendering on GitHub or <a href=\"https://nbviewer.jupyter.org/\">NBViewer</a>),\n",
       "  it may mean that your frontend doesn't currently support widgets.\n",
       "</p>\n"
      ],
      "text/plain": [
       "Button(description='Show Answer', layout=Layout(height='60px', width='30%'), style=ButtonStyle())"
      ]
     },
     "metadata": {},
     "output_type": "display_data"
    }
   ],
   "source": [
    "button = widgets.Button(description=\"Show Answer\", layout = Layout(width = '30%', height = '60px'))\n",
    "display(button)\n",
    "\n",
    "def on_button_clicked(b):\n",
    "    display(Markdown('Firstly, $f(0) = -4$ and $\\\\rm f(5) = 21$, which have opposite signs, so this is a valid interval to start with. </br> </br> \\\n",
    "    Split the interval in two: $c_1 = \\\\frac{0+5}{2} = 2.5$. </br> </br> \\\n",
    "    Check the sign of the function for on each subinterval endpoint (i.e. check the sign of $f(c)$):  $f(2.5) = 2.25$, therefore our new interval is $[0,2.5]$.</br> </br> \\\n",
    "    Split interval again and check signs of function at the middle: $c_2 = \\\\frac{2.5+0}{2} = 1.75$ , $f(1.75) = -0.9375$ </br> </br> \\\n",
    "    $\\Rightarrow$ new interval is $[1.75,2.5]$, $c_3 = \\\\frac{1.75+2.5}{2}$, $f(c_3) = 0.515625$, new interval = $[1.75,2.125]$ </br> </br> \\\n",
    "    root is approximately $c_4 = \\\\frac{1.75 + 2.125}{2} = 1.9375$ </br> </br> \\\n",
    "    Percent error: $\\\\frac{2-1.9375}{2} x 100\\% = 3.125 \\%$'))\n",
    "    button_clicked = 1\n",
    "button.on_click(on_button_clicked)\n",
    "\n",
    "    \n",
    "    "
   ]
  },
  {
   "cell_type": "markdown",
   "metadata": {},
   "source": [
    "***\n",
    "We can clearly see that the method is somewhat slow and really good accuracy is hard to achieve. Nevertheless, it narrowed down our intervals and gave us a fairly good approximation to the root. What about the other root at $x = -2$, how could we have obtained this root? Well, with a different set of initial conditions (our initial interval). Try this same procedure, now instead with $[-5,0]$ as your starting point. Your answer after each iteration should be the same, except with a different sign. \n",
    "\n",
    "This serves to illustrate a flaw in a lot of root finding algorithms; the sensitivity to initial conditions. Lots of these algorithms require an educated 'guess' in order for the algorithm to work properly. In this case, the algorithm can only tell us one root for each initial guess, which presents itself as another downside. \n",
    "\n",
    "\n",
    "***"
   ]
  },
  {
   "cell_type": "markdown",
   "metadata": {},
   "source": [
    "## Numerical Approach\n",
    "\n",
    "Specify the initial interval and the tolerance (accuracy) that you would like to achieve:\n",
    "```python\n",
    "x0 = -1\n",
    "x1 = 1\n",
    "tol = 0.01\n",
    "```\n",
    "\n",
    "Define the function you would like to find the root for:\n",
    "```python\n",
    "def f(x):\n",
    "    return x**3 - (7/9)*x**2 -(1/4)*x + 7/36\n",
    "```\n",
    "This function can accept a single number or a whole list of numbers, the return statement gives an ouput that applies that function to the number or every number in the list. Now we can begin the algorithm, first we set up the initial conditions:\n",
    "```python\n",
    "c =(x1 + x0)/2  #where c is the mid-point, as defined in the analytical solution\n",
    "if (f(x0) > 0 and f(x1) > 0) or (f(x0) < 0 and f(x1) < 0): \n",
    "    print('Pick new initial conditions') #The Bisection method does not apply for these cases\n",
    "else:\n",
    "    while f(c) > tol:  #run the loop until your tolerance is satisfied\n",
    "\n",
    "        if f(c) == 0:\n",
    "            root = c   # you have found the root exactly\n",
    "        if sign(f(c)) == sign(f(x0)):\n",
    "            x0 = c #Interval with x0 does not have root, x0 becomes c\n",
    "        if sign(f(c))== sign(f(x1)):\n",
    "            x1 = c #Interval with x1 does not have root, x1 becomes c\n",
    "                    \n",
    "        c = (x1+x0)/2  # we need this statement to update the value of c, based on the updated values of x0 and x1\n",
    "    print(c)\n",
    "```\n",
    "\n",
    "### What does the `while` statement do?\n",
    "\n",
    "The statement \n",
    "```python \n",
    "while f(c) > tol:\n",
    "```\n",
    "deserves some unpacking. This is what is known as a while loop, and is an essential tool used in programming. The basic principle behind this statement is that the code written after the colon, always indented within the 'while' statement, will be executed until the statement doesn't hold anymore. Here is a visual interpretation of this process\n",
    "\n",
    "\n",
    "\n",
    "\n",
    "<img src=\"images/while_loop.png\" width = \"40%\" height = \"100px\">\n",
    "\n",
    "\n",
    "\n",
    "**Common errors that occur**:\n",
    "\n",
    "- Infinite loop: this is probably the most common error that occurs with a while loop. This happens if the statement is always true, i.e. the code block never makes the statement false. \n",
    "- Loop is not entered: This occurs if the initial statement is not satisfied based on the code you wrote before the while statement. In other words, we need to ensure that f(c) > tol at first. This depends on our initial conditions.\n",
    "\n",
    "\n",
    "The next cell is an illustration of how one could write a piece of code to execute this algorithm. The code will tell you a root in between the initial conditions you set. The default initial conditions are $x_0 = -1, x_1 = 1$. The same code is included in the cell afterwards, if you would like to change the inital conditions or the function itself, press the \"show code\" to manipulate the algorithm. "
   ]
  },
  {
   "cell_type": "code",
   "execution_count": 10,
   "metadata": {},
   "outputs": [
    {
     "data": {
      "text/latex": [
       "$\\rm Root =  $-0.5"
      ],
      "text/plain": [
       "<IPython.core.display.Latex object>"
      ]
     },
     "metadata": {},
     "output_type": "display_data"
    }
   ],
   "source": [
    "#Bisection Method algorithm\n",
    "\n",
    "\n",
    "#Specify the initial interval\n",
    "x0 = -1\n",
    "x1 = 1\n",
    "\n",
    "#Specify tolerance (accuracy) you want:\n",
    "tol = 0.01\n",
    "    \n",
    "#Function (of your choice) we will use our function from before:\n",
    "def f(x):\n",
    "    return x**3 - (7/9)*x**2 -(1/4)*x + 7/36 \n",
    "\n",
    "#Defining a sign function\n",
    "def sign(x):\n",
    "    if x < 0:\n",
    "        sign = 0\n",
    "    if x >= 0:\n",
    "        sign = 1\n",
    "    return sign        \n",
    "\n",
    "#Bisection method algorithm\n",
    "c = (x1+x0)/2  #Midpoint\n",
    "root = c\n",
    "if (f(x0) > 0 and f(x1) > 0) or (f(x0) < 0 and f(x1) < 0): \n",
    "    print('Pick new initial conditions') #The Bisection method does not apply for these cases\n",
    "else:\n",
    "    while f(root) > tol:  #run the loop until your tolerance is satisfied\n",
    "        c = (x1+x0)/2\n",
    "        if f(c) == 0:\n",
    "            root = c   # you have found the root exactly\n",
    "        if sign(f(c)) == sign(f(x0)):\n",
    "            x0 = c #Interval with x0 does not have root, x0 becomes c\n",
    "        if sign(f(c))== sign(f(x1)):\n",
    "            x1 = c #Interval with x1 does not have root, x1 becomes c\n",
    "        root = (x1+x0)/2\n",
    "    display(Latex('$\\\\rm Root =  $' + str(round(root,4))))  ##Delete The \"#\" sign in front of display to show the root  \n"
   ]
  },
  {
   "cell_type": "markdown",
   "metadata": {},
   "source": [
    "# Secant Method\n",
    "____\n",
    "\n",
    "Here we will walk you through a root-finding algorithm known as the \"Secant Method\", which provides quick approximations of roots. For a quick review or another reference of this method and other root finding algorithms, please see https://en.wikipedia.org/wiki/Root-finding_algorithm. \n",
    "\n",
    "In this section of the tutorial we will demonstrate the basics of the method and walk you through some of the elementary steps you would need to write a root-finding algorithm implementing the secant method yourself. \n",
    "\n",
    "## Analytical approach\n",
    "---\n",
    "The Secant method employs succesive operations, known as iterations, of finding the root of a *secant line* of a function $f(x)$.  \n",
    "\n",
    "A secant line can thought of as a line which intersects a curve at two points. Given the domain $[a,b]$ and a continuous function $ f:[a,b] \\mapsto R$, take two points $ x_0, x_1 \\in [a,b]$. The secant line between these two points, in slope-intercept form is given as:\n",
    "\n",
    "<h1><font size=\"3\"><center>\n",
    "\\begin{equation}\n",
    "s(x) = \\frac{f(x_1)-f(x_0)}{x_1-x_0}(x-x_1) + f(x_1)\n",
    "\\end{equation}\n",
    "</center></font></h1>\n",
    "\n",
    "The next step in the algorithm is to find the root of this line:\n",
    "\n",
    "\n",
    "<h1><font size=\"3\"><center>\n",
    "\\begin{equation}\n",
    "\\begin{split}\n",
    "s(x) &= 0 = \\frac{f(x_1)-f(x_0)}{x_1-x_0}(x-x_1) + f(x_1)\n",
    "\\\\& \\Rightarrow x = x_1 - f(x_1)\\frac{x_1-x_0}{f(x_1)-f(x_0)}\n",
    "\\end{split}\n",
    "\\end{equation}</center></font></h1>\n",
    "\n",
    "\n",
    "This point now becomes our next endpoint, i.e.:\n",
    "\n",
    "<h1><font size=\"3\"><center>\n",
    "\\begin{equation}\n",
    "x_2 = x_1 - f(x_1)\\frac{x_1-x_0}{f(x_1)-f(x_0)}\n",
    "\\end{equation}\n",
    "</center></font></h1>\n",
    "\n",
    "We now *iterate* this algorithm, applying the same process successively, until our algorithm yields a value $f(x_n) \\approx 0$ after *n* iterations.\n",
    "\n",
    "<h1><font size=\"3\"><center>\n",
    "\\begin{equation}\n",
    "\\begin{split}\n",
    "x_3 &= x_2 - f(x_2)\\frac{x_2-x_1}{f(x_2)-f(x_1)}\n",
    "\\\\ x_4 &= x_3 - f(x_3)\\frac{x_3-x_2}{f(x_3)-f(x_2)}\n",
    "\\\\& .\n",
    "\\\\& .\n",
    "\\\\& .\n",
    "\\\\ x_n &= x_{n-1} - f(x_{n-1}) \\frac{x_{n-1}-x_{n-2}}{f(x_{n-1})-f(x_{n-2})}\n",
    "\\end{split}\n",
    "\\end{equation}\n",
    "</center></font></h1>\n",
    "\n",
    "## Numerical Approach\n",
    "\n",
    "The algorithm to implement the secant method is given as follows. \n",
    "```python\n",
    "#same function as for the bisection method\n",
    "def f(x):\n",
    "    return x**3 - (7/9)*x**2 -(1/4)*x + 7/36  #Function to employ algorithm on\n",
    "\n",
    "#initial conditions\n",
    "n = 20 #number of iterations you want to use\n",
    "\n",
    "for i in range(1,n):  \n",
    "    x2 = x1-f(x1)*((x1-x0)/(f(x1)-f(x0))) #function equivalent to what we had defined analytically\n",
    "    x0 = x1  #update the values\n",
    "    x1 = x2  #update\n",
    "    \n",
    "print(x1)\n",
    "    break\n",
    "```\n",
    "\n",
    "### What does the `for` statement do?\n",
    "The statement \n",
    "```python\n",
    "for i in range(1,n):\n",
    "```\n",
    "also deserves some unpacking. This is another essential programming tool known as the for loop. Within the `for` statement, the indented code block is executed, then the next iteration of the loop is performed, in our case $i \\mapsto i+1$, and this continues until all iterations are done ($i = n$). It provides a means of counting or iterating through a process. In our case these are the iterations through the secant method algorithm. \n",
    "\n",
    "**Note**: The `print(x1)` statement is outside of the indented block. This means that x1 is printed after the loop has finished. If the statement were included within the block, then x1 would be every time. How many times would x1 be printed?\n",
    "\n",
    "\n",
    "Below is a visualization of the algorithm at work. Input the initial values of $x_0, x_1$ below and press \"Iterate\" to see how the algorithm searches for the roots of the same function used in the \"Inspection\" example. This will give you a sense how this algorithm works and the problems it may run into. Reset the cell by pressing restart and playing around with different initial conditions to gain a better sense of how the algorithm works. Does it seem faster than the bisection method? How many iterations until it converged to the solution with the accuracy you wanted? Did it even converge? Notice how different sets of initial conditions can make the algorithm converge to different roots.\n",
    "\n",
    "Try working through the algorithm analytically, on paper with a function of your choice, beforehand. See how fast you can obtain a root and to what accuracy.\n",
    "\n",
    "\n"
   ]
  },
  {
   "cell_type": "code",
   "execution_count": 11,
   "metadata": {
    "scrolled": false
   },
   "outputs": [
    {
     "data": {
      "application/vnd.jupyter.widget-view+json": {
       "model_id": "d41031e5f064483bb2aadf38087d32b4",
       "version_major": 2,
       "version_minor": 0
      },
      "text/html": [
       "<p>Failed to display Jupyter Widget of type <code>Button</code>.</p>\n",
       "<p>\n",
       "  If you're reading this message in the Jupyter Notebook or JupyterLab Notebook, it may mean\n",
       "  that the widgets JavaScript is still loading. If this message persists, it\n",
       "  likely means that the widgets JavaScript library is either not installed or\n",
       "  not enabled. See the <a href=\"https://ipywidgets.readthedocs.io/en/stable/user_install.html\">Jupyter\n",
       "  Widgets Documentation</a> for setup instructions.\n",
       "</p>\n",
       "<p>\n",
       "  If you're reading this message in another frontend (for example, a static\n",
       "  rendering on GitHub or <a href=\"https://nbviewer.jupyter.org/\">NBViewer</a>),\n",
       "  it may mean that your frontend doesn't currently support widgets.\n",
       "</p>\n"
      ],
      "text/plain": [
       "Button(description='Restart', layout=Layout(height='60px', width='30%'), style=ButtonStyle())"
      ]
     },
     "metadata": {},
     "output_type": "display_data"
    },
    {
     "data": {
      "text/latex": [
       "Input a value for $x_0$"
      ],
      "text/plain": [
       "<IPython.core.display.Latex object>"
      ]
     },
     "metadata": {},
     "output_type": "display_data"
    },
    {
     "data": {
      "application/vnd.jupyter.widget-view+json": {
       "model_id": "53182002021e40eebda3e9b779f5d7ea",
       "version_major": 2,
       "version_minor": 0
      },
      "text/html": [
       "<p>Failed to display Jupyter Widget of type <code>Text</code>.</p>\n",
       "<p>\n",
       "  If you're reading this message in the Jupyter Notebook or JupyterLab Notebook, it may mean\n",
       "  that the widgets JavaScript is still loading. If this message persists, it\n",
       "  likely means that the widgets JavaScript library is either not installed or\n",
       "  not enabled. See the <a href=\"https://ipywidgets.readthedocs.io/en/stable/user_install.html\">Jupyter\n",
       "  Widgets Documentation</a> for setup instructions.\n",
       "</p>\n",
       "<p>\n",
       "  If you're reading this message in another frontend (for example, a static\n",
       "  rendering on GitHub or <a href=\"https://nbviewer.jupyter.org/\">NBViewer</a>),\n",
       "  it may mean that your frontend doesn't currently support widgets.\n",
       "</p>\n"
      ],
      "text/plain": [
       "Text(value='Enter a Value')"
      ]
     },
     "metadata": {},
     "output_type": "display_data"
    },
    {
     "data": {
      "text/latex": [
       "Input a value for $x_1$"
      ],
      "text/plain": [
       "<IPython.core.display.Latex object>"
      ]
     },
     "metadata": {},
     "output_type": "display_data"
    },
    {
     "data": {
      "application/vnd.jupyter.widget-view+json": {
       "model_id": "7b1dd4d034194501be942a6fb233c21a",
       "version_major": 2,
       "version_minor": 0
      },
      "text/html": [
       "<p>Failed to display Jupyter Widget of type <code>Text</code>.</p>\n",
       "<p>\n",
       "  If you're reading this message in the Jupyter Notebook or JupyterLab Notebook, it may mean\n",
       "  that the widgets JavaScript is still loading. If this message persists, it\n",
       "  likely means that the widgets JavaScript library is either not installed or\n",
       "  not enabled. See the <a href=\"https://ipywidgets.readthedocs.io/en/stable/user_install.html\">Jupyter\n",
       "  Widgets Documentation</a> for setup instructions.\n",
       "</p>\n",
       "<p>\n",
       "  If you're reading this message in another frontend (for example, a static\n",
       "  rendering on GitHub or <a href=\"https://nbviewer.jupyter.org/\">NBViewer</a>),\n",
       "  it may mean that your frontend doesn't currently support widgets.\n",
       "</p>\n"
      ],
      "text/plain": [
       "Text(value='Enter a Value')"
      ]
     },
     "metadata": {},
     "output_type": "display_data"
    },
    {
     "data": {
      "text/latex": [
       "Specify an accuracy"
      ],
      "text/plain": [
       "<IPython.core.display.Latex object>"
      ]
     },
     "metadata": {},
     "output_type": "display_data"
    },
    {
     "data": {
      "application/vnd.jupyter.widget-view+json": {
       "model_id": "29509f7cecbd4bc4a6527f7f71442db9",
       "version_major": 2,
       "version_minor": 0
      },
      "text/html": [
       "<p>Failed to display Jupyter Widget of type <code>Text</code>.</p>\n",
       "<p>\n",
       "  If you're reading this message in the Jupyter Notebook or JupyterLab Notebook, it may mean\n",
       "  that the widgets JavaScript is still loading. If this message persists, it\n",
       "  likely means that the widgets JavaScript library is either not installed or\n",
       "  not enabled. See the <a href=\"https://ipywidgets.readthedocs.io/en/stable/user_install.html\">Jupyter\n",
       "  Widgets Documentation</a> for setup instructions.\n",
       "</p>\n",
       "<p>\n",
       "  If you're reading this message in another frontend (for example, a static\n",
       "  rendering on GitHub or <a href=\"https://nbviewer.jupyter.org/\">NBViewer</a>),\n",
       "  it may mean that your frontend doesn't currently support widgets.\n",
       "</p>\n"
      ],
      "text/plain": [
       "Text(value='Enter a Value')"
      ]
     },
     "metadata": {},
     "output_type": "display_data"
    },
    {
     "data": {
      "application/vnd.jupyter.widget-view+json": {
       "model_id": "4d2b492fd8184a23924543bc60887a90",
       "version_major": 2,
       "version_minor": 0
      },
      "text/html": [
       "<p>Failed to display Jupyter Widget of type <code>LoadedButton</code>.</p>\n",
       "<p>\n",
       "  If you're reading this message in the Jupyter Notebook or JupyterLab Notebook, it may mean\n",
       "  that the widgets JavaScript is still loading. If this message persists, it\n",
       "  likely means that the widgets JavaScript library is either not installed or\n",
       "  not enabled. See the <a href=\"https://ipywidgets.readthedocs.io/en/stable/user_install.html\">Jupyter\n",
       "  Widgets Documentation</a> for setup instructions.\n",
       "</p>\n",
       "<p>\n",
       "  If you're reading this message in another frontend (for example, a static\n",
       "  rendering on GitHub or <a href=\"https://nbviewer.jupyter.org/\">NBViewer</a>),\n",
       "  it may mean that your frontend doesn't currently support widgets.\n",
       "</p>\n"
      ],
      "text/plain": [
       "LoadedButton(description='Iterate', layout=Layout(height='60px', width='30%'), style=ButtonStyle())"
      ]
     },
     "metadata": {},
     "output_type": "display_data"
    }
   ],
   "source": [
    "# Secant method visualization\n",
    "#First we define our arbitrary function\n",
    "x = np.linspace(-10,10,10000)\n",
    "f = x**3 - (7/9)*x**2 -(1/4)*x + 7/36 #Underlying plot\n",
    "\n",
    "def func(x):\n",
    "    x = float(x)\n",
    "    return x**3 - (7/9)*x**2 -(1/4)*x + 7/36  #Function to employ algorithm on\n",
    "\n",
    "class LoadedButton(widgets.Button):\n",
    "    #A button that can holds a value as a attribute.\n",
    "\n",
    "    def __init__(self, value=None, *args, **kwargs):\n",
    "        super(LoadedButton, self).__init__(*args, **kwargs)\n",
    "        # Create the value attribute.\n",
    "        self.add_traits(value=traitlets.Any(value))\n",
    "\n",
    "\n",
    "def secantmethod(x0,x1,n,tol):\n",
    "    \n",
    "    if x0 and x1 != None:\n",
    "        x0.replace(\" \", \"\")\n",
    "        x1.replace(\" \",\"\")\n",
    "        tol.replace(\" \",\"\") \n",
    "        x0 = float(x0)\n",
    "        x1 = float(x1)\n",
    "        tol = float(tol)\n",
    "        n = int(n)\n",
    "\n",
    "        for i in range (1,n):\n",
    "            x2 = x1-func(x1)*((x1-x0)/(func(x1)-func(x0)))\n",
    "            x0 = x1\n",
    "            x1 = x2\n",
    "            if abs(x1-x0)< tol:\n",
    "                \n",
    "                display(Markdown(\"Secant method has provided the root to within the specified tolerance\"))                \n",
    "                display(Markdown('Root = '+ str(round(x1,4))))\n",
    "         \n",
    "                break\n",
    "    return str(x0),str(x1)\n",
    "\n",
    "x0s_in = widgets.Text(value = \"Enter a Value\")\n",
    "x0s_out = widgets.Text(value = None)\n",
    "x1s_in = widgets.Text(value = \"Enter a Value\")\n",
    "x1s_out = widgets.Text(value = None)\n",
    "tols_in = widgets.Text(value = \"Enter a Value\")\n",
    "tols_out = widgets.Text(value = None)\n",
    "\n",
    "def bind_x0(sender):\n",
    "    x0s_out.value = x0s_in.value\n",
    "    return x0s_out.value\n",
    "def bind_x1(sender):\n",
    "    x1s_out.value = x1s_in.value\n",
    "    return x1s_out.value\n",
    "def bind_tol(sender):\n",
    "    tols_out.value = tols_in.value\n",
    "    return tols_out.value\n",
    "\n",
    "x1s_in.on_submit(bind_x1)\n",
    "x0s_in.on_submit(bind_x0)\n",
    "tols_in.on_submit(bind_tol)\n",
    "\n",
    "lb = LoadedButton(description=\"Iterate\", value=0, layout = Layout(width = '30%', height = '60px'))\n",
    "\n",
    "button = widgets.Button(description=\"Restart\", layout = Layout(width = '30%', height = '60px'))\n",
    "display(button)\n",
    "display(Latex('Input a value for $x_0$'))\n",
    "display(x0s_in)\n",
    "display(Latex(\"Input a value for $x_1$\"))\n",
    "display(x1s_in)\n",
    "display(Latex(\"Specify an accuracy\"))\n",
    "display(tols_in)\n",
    "display(lb)\n",
    "\n",
    "def on_button_clicked(b):\n",
    "    clear_output()\n",
    "    lb.value = 0\n",
    "    display(button)\n",
    "    display(Javascript('IPython.notebook.execute_cell_range(IPython.notebook.get_selected_index()+1,IPython.notebook.get_selected_index()+2)'))\n",
    "    display(Latex('Input a value for $x_0$'))\n",
    "    display(x0s_in)\n",
    "    display(Latex(\"Input a value for $x_1$\"))\n",
    "    display(x1s_in)\n",
    "    display(Latex(\"Specify an accuracy\"))\n",
    "    display(tols_in)\n",
    "    display(lb)\n",
    "    \n",
    "button.on_click(on_button_clicked)    \n",
    "\n",
    "\n",
    "def add_num(n):\n",
    "    display(Javascript('IPython.notebook.execute_cell_range(IPython.notebook.get_selected_index()+1,IPython.notebook.get_selected_index()+2)'))\n",
    "    lb.value = lb.value + 1\n",
    "           \n",
    "    return lb.value\n",
    "\n",
    "lb.on_click(add_num)"
   ]
  },
  {
   "cell_type": "code",
   "execution_count": 12,
   "metadata": {
    "scrolled": false
   },
   "outputs": [],
   "source": [
    "if lb.value == 0:\n",
    "    clear_output()\n",
    "    \n",
    "if lb.value != 0:\n",
    "    x_0 = x0s_out.value\n",
    "    x_1 = x1s_out.value\n",
    "    \n",
    "    if x_0 and x_1 != None:\n",
    "        x_0, x_1 = secantmethod(x_0,x_1,lb.value,tols_out.value)\n",
    "        x_0 = float(x_0)\n",
    "        x_1 = float(x_1)\n",
    "        trace1 = go.Scatter(\n",
    "            x = [x_0,x_1], \n",
    "            y = [func(x_0),func(x_1)]\n",
    "        )\n",
    "        trace2 = go.Scatter(\n",
    "            x = x,\n",
    "            y = f\n",
    "        )\n",
    "        layout = go.Layout(\n",
    "            showlegend = False,\n",
    "            xaxis = dict(\n",
    "                title='x',\n",
    "                titlefont=dict(\n",
    "                family='Arial, sans-serif',\n",
    "                size=18,\n",
    "                color='black'),\n",
    "                showticklabels=True,\n",
    "                tickangle=0,\n",
    "                range = [func(x_0)-5,func(x_1) + 5],\n",
    "                autotick=True,\n",
    "                ticks='outside',\n",
    "            ),\n",
    "            yaxis = dict(\n",
    "                title='P(x)',\n",
    "                titlefont=dict(\n",
    "                family='Arial, sans-serif',\n",
    "                size=18,\n",
    "                color='black'),\n",
    "                range = [-10,10],\n",
    "                autotick=True,\n",
    "                ticks='outside',\n",
    "            ),\n",
    "        )\n",
    "\n",
    "        data = [trace1,trace2]\n",
    "        fig = go.Figure(data = data, layout = layout)\n",
    "        iplot(fig)\n",
    "            \n",
    "\n"
   ]
  },
  {
   "cell_type": "markdown",
   "metadata": {
    "collapsed": true
   },
   "source": [
    "# Transcendental equations\n",
    "---\n",
    "\n",
    "A nice application of root finding occurs when one is faced with a transcendental equation. Below we will walk you through how to solve these equations numerically using the methods we have previously discussed.\n",
    "\n",
    "### Transcendental equation \n",
    "\n",
    "A transcendental equation is defined as an equation which contains a transcendental function of the variable being solved for. \n",
    "\n",
    "Examples:\n",
    "- $x = e^x$\n",
    "- $\\tan(x) = x$\n",
    "- $\\ln(x) = e^x$\n",
    "\n",
    "These equations may look intimidating, but by formulating their solution as a root finding problem and applying the methods we learned in this notebook, they become solvable. Developing these tools and being exposed to these types of problems will aid you if you are ever faced with an equation of this type in the future. \n",
    "\n",
    "Firstly, we illustrate how to use these techniques to solve the problem $\\sin(x) = x$ and then provide some practice problems where you get the opportunity to manipulate the code from our example.\n",
    "\n",
    "***\n",
    "### Problem Statement\n",
    "\n",
    "Find all solutions of the equation: $\\cos(x) = x$\n",
    "\n",
    "Firstly, the problem can be formulated as: find the roots of $f(x) = \\cos(x) - x$ (Why are these equivalent?). Let's first apply Inspection in order to get a sense of what this function looks like and where it may have roots/solutions. The next cell plots the function on a grid so we can visually \"inspect\" where the root is approximately. Use the interactivity function 'zoom' to see where the function crosses the x-axis more precisely.\n"
   ]
  },
  {
   "cell_type": "code",
   "execution_count": 13,
   "metadata": {},
   "outputs": [
    {
     "data": {
      "application/vnd.jupyter.widget-view+json": {
       "model_id": "c34ffdf7a34a4b9dac86104805fa31c1",
       "version_major": 2,
       "version_minor": 0
      },
      "text/html": [
       "<p>Failed to display Jupyter Widget of type <code>Button</code>.</p>\n",
       "<p>\n",
       "  If you're reading this message in the Jupyter Notebook or JupyterLab Notebook, it may mean\n",
       "  that the widgets JavaScript is still loading. If this message persists, it\n",
       "  likely means that the widgets JavaScript library is either not installed or\n",
       "  not enabled. See the <a href=\"https://ipywidgets.readthedocs.io/en/stable/user_install.html\">Jupyter\n",
       "  Widgets Documentation</a> for setup instructions.\n",
       "</p>\n",
       "<p>\n",
       "  If you're reading this message in another frontend (for example, a static\n",
       "  rendering on GitHub or <a href=\"https://nbviewer.jupyter.org/\">NBViewer</a>),\n",
       "  it may mean that your frontend doesn't currently support widgets.\n",
       "</p>\n"
      ],
      "text/plain": [
       "Button(description='Analyze Graph', layout=Layout(height='60px', width='30%'), style=ButtonStyle())"
      ]
     },
     "metadata": {},
     "output_type": "display_data"
    }
   ],
   "source": [
    "button = widgets.Button(description=\"Analyze Graph\", layout = Layout(width = '30%', height = '60px'))\n",
    "display(button)\n",
    "def on_button_clicked(b):\n",
    "    x = np.linspace(-50,50,1000)\n",
    "    f = np.cos(x) -x\n",
    "    trace = go.Scatter(\n",
    "        x = x,\n",
    "        y = f,\n",
    "        name = 'P(x) = cos(x) - x',\n",
    "        line = dict(\n",
    "        color = ('black')\n",
    "        )\n",
    "    )\n",
    "    layout = go.Layout(\n",
    "        title = 'Transcendental Equation Inspection',\n",
    "        xaxis = dict(\n",
    "            title='x',\n",
    "            titlefont=dict(\n",
    "            family='Arial, serif',\n",
    "            size=18,\n",
    "            color='black'),\n",
    "            showticklabels=True,\n",
    "            tickangle= 270,\n",
    "            range = [-20,20],\n",
    "            autotick=False,\n",
    "            ticks='outside',\n",
    "            tick0=0,\n",
    "            dtick=5\n",
    "\n",
    "        ),\n",
    "        yaxis = dict(\n",
    "            title='P(x)',\n",
    "            titlefont=dict(\n",
    "            family='Arial, serif',\n",
    "            size=18,\n",
    "            color='black'),\n",
    "            range = [-20,20],\n",
    "            autotick=False,\n",
    "            ticks='outside',\n",
    "            tick0=0,\n",
    "            dtick=5\n",
    "        ),\n",
    "    )\n",
    "\n",
    "    data = [trace]\n",
    "\n",
    "    fig = go.Figure(data=data, layout=layout)\n",
    "\n",
    "    iplot(fig)\n",
    "button.on_click(on_button_clicked)  "
   ]
  },
  {
   "cell_type": "markdown",
   "metadata": {
    "collapsed": true
   },
   "source": [
    "***\n",
    "We can see via inspection that the root is $x \\approx 0.75$. As we can see this method is effective for our purposes, especially when you can zoom into the root. But, what if you're writing an algorithm in which this value is passed to another part of the algorithm? Then one must use one of the other methods to find the root. In the next cell we will locate the value of the root using the bisection method. Please specify the intial interval and the accuracy you would like. Additionally, try to find the root beforehand, on paper, for the interval you choose. See how many iterations it takes.\n",
    "***"
   ]
  },
  {
   "cell_type": "code",
   "execution_count": 14,
   "metadata": {},
   "outputs": [
    {
     "data": {
      "text/latex": [
       "Enter a value for $x_0$"
      ],
      "text/plain": [
       "<IPython.core.display.Latex object>"
      ]
     },
     "metadata": {},
     "output_type": "display_data"
    },
    {
     "data": {
      "application/vnd.jupyter.widget-view+json": {
       "model_id": "b7370b487652465289246f034b9a0a32",
       "version_major": 2,
       "version_minor": 0
      },
      "text/html": [
       "<p>Failed to display Jupyter Widget of type <code>Text</code>.</p>\n",
       "<p>\n",
       "  If you're reading this message in the Jupyter Notebook or JupyterLab Notebook, it may mean\n",
       "  that the widgets JavaScript is still loading. If this message persists, it\n",
       "  likely means that the widgets JavaScript library is either not installed or\n",
       "  not enabled. See the <a href=\"https://ipywidgets.readthedocs.io/en/stable/user_install.html\">Jupyter\n",
       "  Widgets Documentation</a> for setup instructions.\n",
       "</p>\n",
       "<p>\n",
       "  If you're reading this message in another frontend (for example, a static\n",
       "  rendering on GitHub or <a href=\"https://nbviewer.jupyter.org/\">NBViewer</a>),\n",
       "  it may mean that your frontend doesn't currently support widgets.\n",
       "</p>\n"
      ],
      "text/plain": [
       "Text(value='Enter a Value')"
      ]
     },
     "metadata": {},
     "output_type": "display_data"
    },
    {
     "data": {
      "text/latex": [
       "Enter a value for $x_1$"
      ],
      "text/plain": [
       "<IPython.core.display.Latex object>"
      ]
     },
     "metadata": {},
     "output_type": "display_data"
    },
    {
     "data": {
      "application/vnd.jupyter.widget-view+json": {
       "model_id": "4b991959d6d54f5195c66c90d3c22bb6",
       "version_major": 2,
       "version_minor": 0
      },
      "text/html": [
       "<p>Failed to display Jupyter Widget of type <code>Text</code>.</p>\n",
       "<p>\n",
       "  If you're reading this message in the Jupyter Notebook or JupyterLab Notebook, it may mean\n",
       "  that the widgets JavaScript is still loading. If this message persists, it\n",
       "  likely means that the widgets JavaScript library is either not installed or\n",
       "  not enabled. See the <a href=\"https://ipywidgets.readthedocs.io/en/stable/user_install.html\">Jupyter\n",
       "  Widgets Documentation</a> for setup instructions.\n",
       "</p>\n",
       "<p>\n",
       "  If you're reading this message in another frontend (for example, a static\n",
       "  rendering on GitHub or <a href=\"https://nbviewer.jupyter.org/\">NBViewer</a>),\n",
       "  it may mean that your frontend doesn't currently support widgets.\n",
       "</p>\n"
      ],
      "text/plain": [
       "Text(value='Enter a Value')"
      ]
     },
     "metadata": {},
     "output_type": "display_data"
    },
    {
     "data": {
      "text/latex": [
       "Please specify a tolerance"
      ],
      "text/plain": [
       "<IPython.core.display.Latex object>"
      ]
     },
     "metadata": {},
     "output_type": "display_data"
    },
    {
     "data": {
      "application/vnd.jupyter.widget-view+json": {
       "model_id": "9a71e26bfb9d4539a77dda4c9861f55c",
       "version_major": 2,
       "version_minor": 0
      },
      "text/html": [
       "<p>Failed to display Jupyter Widget of type <code>Text</code>.</p>\n",
       "<p>\n",
       "  If you're reading this message in the Jupyter Notebook or JupyterLab Notebook, it may mean\n",
       "  that the widgets JavaScript is still loading. If this message persists, it\n",
       "  likely means that the widgets JavaScript library is either not installed or\n",
       "  not enabled. See the <a href=\"https://ipywidgets.readthedocs.io/en/stable/user_install.html\">Jupyter\n",
       "  Widgets Documentation</a> for setup instructions.\n",
       "</p>\n",
       "<p>\n",
       "  If you're reading this message in another frontend (for example, a static\n",
       "  rendering on GitHub or <a href=\"https://nbviewer.jupyter.org/\">NBViewer</a>),\n",
       "  it may mean that your frontend doesn't currently support widgets.\n",
       "</p>\n"
      ],
      "text/plain": [
       "Text(value='Enter a Value')"
      ]
     },
     "metadata": {},
     "output_type": "display_data"
    },
    {
     "data": {
      "application/vnd.jupyter.widget-view+json": {
       "model_id": "895c414b0f1743599cc06a535256f758",
       "version_major": 2,
       "version_minor": 0
      },
      "text/html": [
       "<p>Failed to display Jupyter Widget of type <code>Button</code>.</p>\n",
       "<p>\n",
       "  If you're reading this message in the Jupyter Notebook or JupyterLab Notebook, it may mean\n",
       "  that the widgets JavaScript is still loading. If this message persists, it\n",
       "  likely means that the widgets JavaScript library is either not installed or\n",
       "  not enabled. See the <a href=\"https://ipywidgets.readthedocs.io/en/stable/user_install.html\">Jupyter\n",
       "  Widgets Documentation</a> for setup instructions.\n",
       "</p>\n",
       "<p>\n",
       "  If you're reading this message in another frontend (for example, a static\n",
       "  rendering on GitHub or <a href=\"https://nbviewer.jupyter.org/\">NBViewer</a>),\n",
       "  it may mean that your frontend doesn't currently support widgets.\n",
       "</p>\n"
      ],
      "text/plain": [
       "Button(description='Show Root', layout=Layout(height='60px', width='30%'), style=ButtonStyle())"
      ]
     },
     "metadata": {},
     "output_type": "display_data"
    }
   ],
   "source": [
    "x0_in = widgets.Text(value = 'Enter a Value')\n",
    "x0_out = widgets.Text(value = '0')\n",
    "x1_in = widgets.Text(value = 'Enter a Value')\n",
    "x1_out = widgets.Text(value = '0')\n",
    "tol_in = widgets.Text(value = 'Enter a Value')\n",
    "tol_out = widgets.Text(value = '0')\n",
    "\n",
    "def bisection_method(x0,x1,tol):\n",
    "    clear_output()\n",
    "\n",
    "    def f(x):\n",
    "        return np.cos(x)-x \n",
    "    \n",
    "    if tol == '0':\n",
    "        display(Latex('Please specify a tolerance'))    \n",
    "    elif tol != '0':\n",
    "        \n",
    "        x0.replace(\" \",\"\")\n",
    "        x1.replace(\" \",\"\")\n",
    "        tol.replace(\" \",\"\")\n",
    "        tol = float(tol)\n",
    "        x0 = float(x0)\n",
    "        x1 = float(x1)\n",
    "\n",
    "        #Function (of your choice) we will use our function from before:\n",
    "        #Change this return statement for other functions of your choice.  \n",
    "        def f(x):\n",
    "            return np.cos(x)-x \n",
    "\n",
    "\n",
    "        #Defining a sign function\n",
    "        def sign(x):  #in order that the function accepts an input\n",
    "            if x < 0:\n",
    "                sign = 0\n",
    "            if x >= 0:\n",
    "                sign = 1\n",
    "            return sign # the function returns either a one, if the input if positive, and a 0 if the function it is negative.      \n",
    "\n",
    "        #Bisection method algorithm\n",
    "        c = (x1+x0)/2  #First define the formula for subdiving our interval\n",
    "\n",
    "        if f(x0) > 0 and f(x1) > 0 or f(x0) < 0 and f(x1) < 0: \n",
    "            print('Pick new initial conditions') #The Bisection method does not apply for theses two cases (as previously discussed)\n",
    "        else:\n",
    "            while f(c)>tol:\n",
    "                c = (x1+x0)/2\n",
    "                if f(c) == 0:\n",
    "                    root = c   # you have found the root exactly\n",
    "                if sign(f(c)) == sign(f(x0)):\n",
    "                    x0 = c #Interval with x0 does not have root, x0 becomes c. Think about why this is the case.\n",
    "                if sign(f(c))== sign(f(x1)):\n",
    "                    x1 = c #Interval with x1 does not have root, x1 becomes c. Think about why this is the case.\n",
    "                root = (x1+x0)/2\n",
    "            display(Latex('Root = ' +str(round(root,4))))\n",
    "    return \n",
    "\n",
    "def bind0(sender):\n",
    "    x0_out.value = x0_in.value\n",
    "    return x0_out.value\n",
    "\n",
    "def bind1(sender):\n",
    "    x1_out.value = x1_in.value\n",
    "    return x1_out.value\n",
    "\n",
    "def bindtol(sender):\n",
    "    tol_out.value = tol_in.value\n",
    "    return tol_out.value\n",
    "\n",
    "x0_in.on_submit(bind0)\n",
    "x1_in.on_submit(bind1)\n",
    "tol_in.on_submit(bindtol)\n",
    "\n",
    "display(Latex(\"Enter a value for $x_0$\"))\n",
    "display(x0_in)\n",
    "\n",
    "display(Latex(\"Enter a value for $x_1$\"))\n",
    "display(x1_in)\n",
    "\n",
    "display(Latex(\"Please specify a tolerance\"))\n",
    "display(tol_in)\n",
    "\n",
    "show_root = widgets.Button(description=\"Show Root\", layout = Layout(width = '30%', height = '60px'))\n",
    "\n",
    "display(show_root)\n",
    "\n",
    "def button_Click(b):\n",
    "    display(Javascript('IPython.notebook.execute_cell_range(IPython.notebook.get_selected_index()+1,IPython.notebook.get_selected_index()+2)'))\n",
    "    return\n",
    "\n",
    "show_root.on_click(button_Click)\n",
    "    \n",
    "    \n",
    "    "
   ]
  },
  {
   "cell_type": "code",
   "execution_count": 15,
   "metadata": {},
   "outputs": [
    {
     "data": {
      "text/latex": [
       "Please specify a tolerance"
      ],
      "text/plain": [
       "<IPython.core.display.Latex object>"
      ]
     },
     "metadata": {},
     "output_type": "display_data"
    }
   ],
   "source": [
    "x0 = x0_out.value\n",
    "x1 = x1_out.value\n",
    "tol = tol_out.value\n",
    "bisection_method(x0,x1,tol)"
   ]
  },
  {
   "cell_type": "markdown",
   "metadata": {},
   "source": [
    "### Analysis\n",
    "---\n",
    "Our Bisection method algorithm gave us a nice and precise value of the root, this value could be passed into another function. Due to this reason, and the fact that the function does not need to be plotted, the Bisection Method is more robust and more applicable. \n",
    "\n",
    "What do you think? Would you rather just see a graph of the function and compromise on accuracy? \n",
    "Below we will outline a clear disadvantage of the bisection method.\n",
    "\n",
    "Let's now try the same problem for $\\tan(x) = x$:\n",
    "\n",
    "- If we run the algorithm above for the function $f(x) = \\tan(x)-x$, with the initial conditions $x_0 = -1, x_1 = 1$, we obtain the     answer: $x = 0$.\n",
    "\n",
    "- If again we run the algorithm with the initial conditions $x_0 = 1, x_1 = 3$, \n",
    "  we obtain the answer: $x = 1.5708$\n",
    "\n",
    "Why is this the case?\n",
    "Let's plot this function to inspect the cause of this.\n",
    "\n"
   ]
  },
  {
   "cell_type": "code",
   "execution_count": 16,
   "metadata": {},
   "outputs": [
    {
     "data": {
      "application/vnd.jupyter.widget-view+json": {
       "model_id": "46c0fd922f9149d0b2157d1579fc4ac8",
       "version_major": 2,
       "version_minor": 0
      },
      "text/html": [
       "<p>Failed to display Jupyter Widget of type <code>Button</code>.</p>\n",
       "<p>\n",
       "  If you're reading this message in the Jupyter Notebook or JupyterLab Notebook, it may mean\n",
       "  that the widgets JavaScript is still loading. If this message persists, it\n",
       "  likely means that the widgets JavaScript library is either not installed or\n",
       "  not enabled. See the <a href=\"https://ipywidgets.readthedocs.io/en/stable/user_install.html\">Jupyter\n",
       "  Widgets Documentation</a> for setup instructions.\n",
       "</p>\n",
       "<p>\n",
       "  If you're reading this message in another frontend (for example, a static\n",
       "  rendering on GitHub or <a href=\"https://nbviewer.jupyter.org/\">NBViewer</a>),\n",
       "  it may mean that your frontend doesn't currently support widgets.\n",
       "</p>\n"
      ],
      "text/plain": [
       "Button(description='Analyze Graph', layout=Layout(height='60px', width='30%'), style=ButtonStyle())"
      ]
     },
     "metadata": {},
     "output_type": "display_data"
    }
   ],
   "source": [
    "button = widgets.Button(description=\"Analyze Graph\", layout = Layout(width = '30%',height = '60px'))\n",
    "display(button)\n",
    "\n",
    "def on_button_clicked(b):\n",
    "    x = np.linspace(-50,50,10000) # Notice we changes the range of x-values, in order to visualize the solution better\n",
    "    f = np.tan(x)-x  \n",
    "    utol = 100\n",
    "    ltol = -100\n",
    "    y[y>utol] = np.inf\n",
    "    y[y<ltol] = -np.inf\n",
    "\n",
    "    trace = go.Scatter(\n",
    "        x = x,\n",
    "        y = f,\n",
    "        name = 'P(x) = tan(x) - x',\n",
    "        line = dict(\n",
    "        color = ('black')\n",
    "        )\n",
    "    )\n",
    "    layout = go.Layout(\n",
    "        title = 'Transcendental equation Inspection',\n",
    "        xaxis = dict(\n",
    "            title='x',\n",
    "            titlefont=dict(\n",
    "            family='Arial, serif',\n",
    "            size=18,\n",
    "            color='black'),\n",
    "            showticklabels=True,\n",
    "            tickangle= 270,\n",
    "            range = [-50,50],\n",
    "            autotick=False,\n",
    "            ticks='outside',\n",
    "            tick0=0,\n",
    "            dtick=5\n",
    "\n",
    "        ),\n",
    "        yaxis = dict(\n",
    "            title='P(x)',\n",
    "            titlefont=dict(\n",
    "            family='Arial, serif',\n",
    "            size=18,\n",
    "            color='black'),\n",
    "            range = [-50,50],\n",
    "            autotick=False,\n",
    "            ticks='outside',\n",
    "            tick0=0,\n",
    "            dtick=5\n",
    "        ),\n",
    "    )\n",
    "\n",
    "    data = [trace]\n",
    "\n",
    "    fig = go.Figure(data=data, layout=layout)\n",
    "\n",
    "    iplot(fig)\n",
    "button.on_click(on_button_clicked)\n"
   ]
  },
  {
   "cell_type": "markdown",
   "metadata": {},
   "source": [
    "### Analysis\n",
    "---\n",
    "We see that this function crosses the x-axis many times, actually infinitely many times (if we were to extend the plot). Our Bisection Method algorithm can only narrow down on one root at a time. With appropriate guesses for the initial conditions, we would be able to obtain all roots (in theory) but this would be a tedious task. It took a combination of these methods to recognize that there were multiple solutions and obtain their exact values. \n",
    "\n",
    "\n",
    "### Practice Problems\n",
    "---\n",
    "\n",
    "I strongly encourage you to try out the algorithms in order to solve the first exercise in this notebook for second and third order polynomials for extra practice. The answers are all integer values so you do not need to worry about accuracy too much. Additionally, consider these transcendental equations. You may run into some problems (technical and theoretical) solving them, this is OK and all part of the learning process. \n",
    "\n",
    "Find all solutions of:\n",
    "\n",
    "1. $\\ln(x) = x-5$  (think about the domain of definition of ln(x))\n",
    "2. $\\cos(x) = x/4$ (plot the function)\n",
    "3. $\\sin(x) = x-1$ (Try this one with the secant method for fun)\n",
    "4. $\\cos(x) = x^2$\n",
    "5. $\\ln(x) = \\cos(x)$ "
   ]
  },
  {
   "cell_type": "markdown",
   "metadata": {},
   "source": [
    "# Conclusion\n",
    "---\n",
    "\n",
    "In this Jupyter Notebook you learned the basics of root-finding algorithms. Namely, we studied the process of finding and approximating the roots of a function by Inspection, the Bisection Method,and the Secant Method. Equally as important, you gained some experience and exposure (if you haven't seen some already) to scientific computing. \n",
    "\n",
    "Additionally, we applied our methods within the context of solving transcendental equations. It is likely that this is the first time you have been exposed to transcendental equations and the methods we have discussed here. Hopefully, working through the notebook helped you understand the different ways in which one can break down a problem like this. Which did you like best? Being able to adapt and apply the mathematical tools that you have acquired in class is an invaluable skill to have. These skills often end up transferring to general problem-solving skills. I encourage you to reflect upon which of the methods you enjoyed and why. It will offer insight into your own personal learning process.\n"
   ]
  },
  {
   "cell_type": "markdown",
   "metadata": {},
   "source": [
    "<img src = \"images/Callysto_Notebook-Banners_Bottom.jpg\">"
   ]
  }
 ],
 "metadata": {
  "kernelspec": {
   "display_name": "Python 3",
   "language": "python",
   "name": "python3"
  },
  "language_info": {
   "codemirror_mode": {
    "name": "ipython",
    "version": 3
   },
   "file_extension": ".py",
   "mimetype": "text/x-python",
   "name": "python",
   "nbconvert_exporter": "python",
   "pygments_lexer": "ipython3",
   "version": "3.6.5"
  }
 },
 "nbformat": 4,
 "nbformat_minor": 2
}

{
 "cells": [
  {
   "cell_type": "markdown",
   "metadata": {},
   "source": [
    "![Callysto.ca Banner](https://github.com/callysto/curriculum-notebooks/blob/master/callysto-notebook-banner-top.jpg?raw=true)\n",
    "\n",
    "<a href=\"https://hub.callysto.ca/jupyter/hub/user-redirect/git-pull?repo=https%3A%2F%2Fgithub.com%2Fcallysto%2Fcurriculum-notebooks&branch=master&subPath=Mathematics/VisualizingFractions/visualizing-fractions.ipynb&depth=1\" target=\"_parent\"><img src=\"https://raw.githubusercontent.com/callysto/curriculum-notebooks/master/open-in-callysto-button.svg?sanitize=true\" width=\"123\" height=\"24\" alt=\"Open in Callysto\"/></a>"
   ]
  },
  {
   "cell_type": "markdown",
   "metadata": {},
   "source": [
    "# Visualizing Fractions\n",
    "\n",
    "We can visualize fractions with bar or pie charts. You can set the denominator to whatever number you want, for example `denominator = 12` and click the `▶Run` button to see what each of the different numerators will look like with that denominator.\n",
    "\n",
    "## Fraction Bars"
   ]
  },
  {
   "cell_type": "code",
   "execution_count": null,
   "metadata": {},
   "outputs": [],
   "source": [
    "denominator = 5\n",
    "\n",
    "import plotly.express as px\n",
    "x = [str(n+1)+'/'+str(denominator) for n in range(denominator)]\n",
    "y = [n+1 for n in range(denominator)]\n",
    "px.bar(x=x,y=y,labels={'x':str(denominator)}).update_yaxes(visible=False)"
   ]
  },
  {
   "cell_type": "markdown",
   "metadata": {},
   "source": [
    "## Fraction Pies"
   ]
  },
  {
   "cell_type": "code",
   "execution_count": null,
   "metadata": {
    "scrolled": false
   },
   "outputs": [],
   "source": [
    "denominator = 5\n",
    "\n",
    "import plotly.graph_objects as go\n",
    "for x in range(denominator):\n",
    "    if x+1 < denominator/2:\n",
    "        r = 0\n",
    "    else:\n",
    "        r = 180\n",
    "    fig = go.Figure(data=[go.Pie(values=[x+1,denominator-(x+1)],\n",
    "                                 title=str(x+1)+'/'+str(denominator),\n",
    "                                 marker_colors=['blue','black'],\n",
    "                                 pull=[0.2, 0],rotation=r,\n",
    "                                 showlegend=False)]).show()"
   ]
  },
  {
   "cell_type": "markdown",
   "metadata": {},
   "source": [
    "[![Callysto.ca License](https://github.com/callysto/curriculum-notebooks/blob/master/callysto-notebook-banner-bottom.jpg?raw=true)](https://github.com/callysto/curriculum-notebooks/blob/master/LICENSE.md)"
   ]
  }
 ],
 "metadata": {
  "kernelspec": {
   "display_name": "Python 3",
   "language": "python",
   "name": "python3"
  },
  "language_info": {
   "codemirror_mode": {
    "name": "ipython",
    "version": 3
   },
   "file_extension": ".py",
   "mimetype": "text/x-python",
   "name": "python",
   "nbconvert_exporter": "python",
   "pygments_lexer": "ipython3",
   "version": "3.7.6"
  }
 },
 "nbformat": 4,
 "nbformat_minor": 4
}

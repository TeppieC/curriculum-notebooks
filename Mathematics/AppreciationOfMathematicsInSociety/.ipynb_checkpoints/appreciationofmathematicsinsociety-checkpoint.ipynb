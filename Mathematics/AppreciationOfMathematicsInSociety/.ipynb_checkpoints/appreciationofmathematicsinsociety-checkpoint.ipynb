{
 "cells": [
  {
   "cell_type": "code",
   "execution_count": 61,
   "metadata": {},
   "outputs": [
    {
     "data": {
      "text/html": [
       "<script>requirejs.config({paths: { 'plotly': ['https://cdn.plot.ly/plotly-latest.min']},});if(!window.Plotly) {{require(['plotly'],function(plotly) {window.Plotly=plotly;});}}</script>"
      ],
      "text/vnd.plotly.v1+html": [
       "<script>requirejs.config({paths: { 'plotly': ['https://cdn.plot.ly/plotly-latest.min']},});if(!window.Plotly) {{require(['plotly'],function(plotly) {window.Plotly=plotly;});}}</script>"
      ]
     },
     "metadata": {},
     "output_type": "display_data"
    }
   ],
   "source": [
    "# Import statements go here\n",
    "import plotly.offline as py\n",
    "import plotly.graph_objs as go\n",
    "import numpy as np\n",
    "\n",
    "py.init_notebook_mode(connected=True)"
   ]
  },
  {
   "cell_type": "markdown",
   "metadata": {},
   "source": [
    "![](images/ruler.png)"
   ]
  },
  {
   "cell_type": "markdown",
   "metadata": {},
   "source": [
    "# Introduction\n",
    "\n",
    "![]()"
   ]
  },
  {
   "cell_type": "markdown",
   "metadata": {},
   "source": [
    "# Background\n",
    "\n",
    "Introduction of the metric system - French revolution - Laplace, Lagrange, Monge - a list of other inconvenient and obscure units of measurement is found at https://en.wikipedia.org/wiki/List_of_unusual_units_of_measurement.\n",
    "\n",
    "<img src=\"images/metric-stamp.jpg\" width=\"200\">"
   ]
  },
  {
   "cell_type": "markdown",
   "metadata": {},
   "source": [
    "Original source of the meter - astronomers Delambre and Mechain."
   ]
  },
  {
   "cell_type": "code",
   "execution_count": 78,
   "metadata": {},
   "outputs": [
    {
     "data": {
      "application/vnd.plotly.v1+json": {
       "data": [
        {
         "lat": [
          0,
          48.8566,
          90
         ],
         "lon": [
          2.3522,
          2.3522,
          0
         ],
         "marker": {
          "color": "rgba(152, 0, 0, .8)",
          "line": {
           "color": "rgb(152, 152, 0)",
           "width": 1
          },
          "size": 10
         },
         "mode": "lines",
         "text": [
          "",
          "Paris",
          "North Pole"
         ],
         "type": "scattergeo"
        }
       ],
       "layout": {
        "geo": {
         "countrywidth": 0.5,
         "lakecolor": "rgb(0, 204, 255)",
         "landcolor": "rgb(51, 204, 51)",
         "lataxis": {
          "gridcolor": "rgb(102, 102, 102)",
          "gridwidth": 0.5,
          "showgrid": true
         },
         "lonaxis": {
          "gridcolor": "rgb(102, 102, 102)",
          "gridwidth": 0.5,
          "showgrid": true
         },
         "oceancolor": "rgb(0, 204, 255)",
         "projection": {
          "rotation": {
           "lat": 30,
           "lon": -30,
           "roll": 0
          },
          "type": "orthographic"
         },
         "showcountries": true,
         "showlakes": true,
         "showland": true,
         "showocean": true
        },
        "showlegend": false,
        "title": "Original metre (one ten millionth of the red line)<br>(Click and drag to rotate)"
       }
      },
      "text/html": [
       "<div id=\"6f69e6ee-615e-430f-bece-8e8e8fda7168\" style=\"height: 525px; width: 100%;\" class=\"plotly-graph-div\"></div><script type=\"text/javascript\">require([\"plotly\"], function(Plotly) { window.PLOTLYENV=window.PLOTLYENV || {};window.PLOTLYENV.BASE_URL=\"https://plot.ly\";Plotly.newPlot(\"6f69e6ee-615e-430f-bece-8e8e8fda7168\", [{\"type\": \"scattergeo\", \"lat\": [0, 48.8566, 90], \"lon\": [2.3522, 2.3522, 0], \"mode\": \"lines\", \"marker\": {\"size\": 10, \"color\": \"rgba(152, 0, 0, .8)\", \"line\": {\"width\": 1, \"color\": \"rgb(152, 152, 0)\"}}, \"text\": [\"\", \"Paris\", \"North Pole\"]}], {\"title\": \"Original metre (one ten millionth of the red line)<br>(Click and drag to rotate)\", \"showlegend\": false, \"geo\": {\"showland\": true, \"showlakes\": true, \"showcountries\": true, \"showocean\": true, \"countrywidth\": 0.5, \"landcolor\": \"rgb(51, 204, 51)\", \"lakecolor\": \"rgb(0, 204, 255)\", \"oceancolor\": \"rgb(0, 204, 255)\", \"projection\": {\"type\": \"orthographic\", \"rotation\": {\"lon\": -30, \"lat\": 30, \"roll\": 0}}, \"lonaxis\": {\"showgrid\": true, \"gridcolor\": \"rgb(102, 102, 102)\", \"gridwidth\": 0.5}, \"lataxis\": {\"showgrid\": true, \"gridcolor\": \"rgb(102, 102, 102)\", \"gridwidth\": 0.5}}}, {\"showLink\": true, \"linkText\": \"Export to plot.ly\"})});</script>"
      ],
      "text/vnd.plotly.v1+html": [
       "<div id=\"6f69e6ee-615e-430f-bece-8e8e8fda7168\" style=\"height: 525px; width: 100%;\" class=\"plotly-graph-div\"></div><script type=\"text/javascript\">require([\"plotly\"], function(Plotly) { window.PLOTLYENV=window.PLOTLYENV || {};window.PLOTLYENV.BASE_URL=\"https://plot.ly\";Plotly.newPlot(\"6f69e6ee-615e-430f-bece-8e8e8fda7168\", [{\"type\": \"scattergeo\", \"lat\": [0, 48.8566, 90], \"lon\": [2.3522, 2.3522, 0], \"mode\": \"lines\", \"marker\": {\"size\": 10, \"color\": \"rgba(152, 0, 0, .8)\", \"line\": {\"width\": 1, \"color\": \"rgb(152, 152, 0)\"}}, \"text\": [\"\", \"Paris\", \"North Pole\"]}], {\"title\": \"Original metre (one ten millionth of the red line)<br>(Click and drag to rotate)\", \"showlegend\": false, \"geo\": {\"showland\": true, \"showlakes\": true, \"showcountries\": true, \"showocean\": true, \"countrywidth\": 0.5, \"landcolor\": \"rgb(51, 204, 51)\", \"lakecolor\": \"rgb(0, 204, 255)\", \"oceancolor\": \"rgb(0, 204, 255)\", \"projection\": {\"type\": \"orthographic\", \"rotation\": {\"lon\": -30, \"lat\": 30, \"roll\": 0}}, \"lonaxis\": {\"showgrid\": true, \"gridcolor\": \"rgb(102, 102, 102)\", \"gridwidth\": 0.5}, \"lataxis\": {\"showgrid\": true, \"gridcolor\": \"rgb(102, 102, 102)\", \"gridwidth\": 0.5}}}, {\"showLink\": true, \"linkText\": \"Export to plot.ly\"})});</script>"
      ]
     },
     "metadata": {},
     "output_type": "display_data"
    }
   ],
   "source": [
    "# Interactive globe with expedition to measure meter and the quarter great circle through the meridian of Paris.\n",
    "data = dict(\n",
    "    type = 'scattergeo',\n",
    "    lat = [0, 48.8566, 90], lon = [2.3522, 2.3522, 0],\n",
    "    mode = 'lines',\n",
    "    marker = dict(\n",
    "        size = 10,\n",
    "        color = 'rgba(152, 0, 0, .8)',\n",
    "        line = dict(\n",
    "            width = 1,\n",
    "            color = 'rgb(152, 152, 0)'\n",
    "        )\n",
    "    ),\n",
    "    text = ['','Paris','North Pole']\n",
    ")\n",
    "\n",
    "layout = dict(\n",
    "        title = 'Original metre (one ten millionth of the red line)<br>(Click and drag to rotate)',\n",
    "        showlegend = False,         \n",
    "        geo = dict(\n",
    "            showland = True,\n",
    "            showlakes = True,\n",
    "            showcountries = True,\n",
    "            showocean = True,\n",
    "            countrywidth = 0.5,\n",
    "            landcolor = 'rgb(51, 204, 51)',\n",
    "            lakecolor = 'rgb(0, 204, 255)',\n",
    "            oceancolor = 'rgb(0, 204, 255)',\n",
    "            projection = dict( \n",
    "                type = 'orthographic',\n",
    "                rotation = dict(\n",
    "                    lon = -30,\n",
    "                    lat = 30,\n",
    "                    roll = 0\n",
    "                )            \n",
    "            ),\n",
    "            lonaxis = dict( \n",
    "                showgrid = True,\n",
    "                gridcolor = 'rgb(102, 102, 102)',\n",
    "                gridwidth = 0.5\n",
    "            ),\n",
    "            lataxis = dict( \n",
    "                showgrid = True,\n",
    "                gridcolor = 'rgb(102, 102, 102)',\n",
    "                gridwidth = 0.5\n",
    "            )\n",
    "        )\n",
    "    )\n",
    "\n",
    "fig = dict(data = [data], layout = layout)\n",
    "\n",
    "py.iplot(fig)"
   ]
  },
  {
   "cell_type": "markdown",
   "metadata": {},
   "source": [
    "But how did Delambre and Mechain know how long a quarter of a great circle was? The two scientists first measured the distance of an arc between Dunkirk and Barcelona, and then extrapolated that distance. Delambre took the North part of the journey, measuring the distance between Dunkirk and Rodez. Mechain took the South part, measuring the distance between Rodez and Barcelona."
   ]
  },
  {
   "cell_type": "code",
   "execution_count": 90,
   "metadata": {},
   "outputs": [],
   "source": [
    "# Interactive plot of expeditions of Delambre and Mechain\n"
   ]
  },
  {
   "cell_type": "markdown",
   "metadata": {},
   "source": [
    "Interactive conversion wheel between old and new measurements"
   ]
  },
  {
   "cell_type": "markdown",
   "metadata": {},
   "source": [
    "## Canada's connection\n",
    "\n",
    "![Transition flag]()"
   ]
  },
  {
   "cell_type": "markdown",
   "metadata": {},
   "source": [
    "Brief history of Canada's measurements.\n",
    "\n",
    "Metrization of Canada's measurements.\n",
    "\n",
    "<img src=\"images/MetricatedSpeedLimitSignBoltonON2011.jpg\" width=\"300\">"
   ]
  },
  {
   "cell_type": "markdown",
   "metadata": {},
   "source": [
    "<img src=\"images/gimli_glider.jpg\" width=\"500\">\n",
    "\n",
    "Problem with Gimli Glider and confusion about metric/imperial measurements - funny part about repair team running out of gas on the way to help."
   ]
  },
  {
   "cell_type": "code",
   "execution_count": 94,
   "metadata": {},
   "outputs": [
    {
     "data": {
      "text/html": [
       "\n",
       "<canvas id=\"myCanvas\" width=\"480\" height=\"320\"></canvas>\n",
       "\n",
       "<script>\n",
       "    var canvas = document.getElementById(\"myCanvas\");\n",
       "    var ctx = canvas.getContext(\"2d\");\n",
       "    \n",
       "    ctx.beginPath();\n",
       "    ctx.rect(20, 40, 50, 50);\n",
       "    ctx.fillStyle = \"#FF0000\";\n",
       "    ctx.fill();\n",
       "    ctx.closePath();\n",
       "\n",
       "    ctx.beginPath();\n",
       "    ctx.arc(240, 160, 20, 0, Math.PI*2, false);\n",
       "    ctx.fillStyle = \"green\";\n",
       "    ctx.fill();\n",
       "    ctx.closePath();\n",
       "\n",
       "    ctx.beginPath();\n",
       "    ctx.rect(160, 10, 100, 40);\n",
       "    ctx.strokeStyle = \"rgba(0, 0, 255, 0.5)\";\n",
       "    ctx.stroke();\n",
       "    ctx.closePath();\n",
       "</script>"
      ],
      "text/plain": [
       "<IPython.core.display.HTML object>"
      ]
     },
     "metadata": {},
     "output_type": "display_data"
    }
   ],
   "source": [
    "%%html\n",
    "\n",
    "<canvas id=\"myCanvas\" width=\"480\" height=\"320\"></canvas>\n",
    "\n",
    "<script>\n",
    "    var canvas = document.getElementById(\"myCanvas\");\n",
    "    var ctx = canvas.getContext(\"2d\");\n",
    "    var ballRadius = 10;\n",
    "    var x = canvas.width/2;\n",
    "    var y = canvas.height-30;\n",
    "    var dx = 2;\n",
    "    var dy = -2;\n",
    "    var paddleHeight = 10;\n",
    "    var paddleWidth = 75;\n",
    "    var paddleX = (canvas.width-paddleWidth)/2;\n",
    "    var rightPressed = false;\n",
    "    var leftPressed = false;\n",
    "    var brickRowCount = 5;\n",
    "    var brickColumnCount = 3;\n",
    "    var brickWidth = 75;\n",
    "    var brickHeight = 20;\n",
    "    var brickPadding = 10;\n",
    "    var brickOffsetTop = 30;\n",
    "    var brickOffsetLeft = 30;\n",
    "    var score = 0;\n",
    "    var lives = 3;\n",
    "    var bricks = [];\n",
    "    for(var c=0; c<brickColumnCount; c++) {\n",
    "        bricks[c] = [];\n",
    "        for(var r=0; r<brickRowCount; r++) {\n",
    "            bricks[c][r] = { x: 0, y: 0, status: 1 };\n",
    "        }\n",
    "    }\n",
    "    document.addEventListener(\"keydown\", keyDownHandler, false);\n",
    "    document.addEventListener(\"keyup\", keyUpHandler, false);\n",
    "    document.addEventListener(\"mousemove\", mouseMoveHandler, false);\n",
    "    function keyDownHandler(e) {\n",
    "        if(e.keyCode == 39) {\n",
    "            rightPressed = true;\n",
    "        }\n",
    "        else if(e.keyCode == 37) {\n",
    "            leftPressed = true;\n",
    "        }\n",
    "    }\n",
    "    function keyUpHandler(e) {\n",
    "        if(e.keyCode == 39) {\n",
    "            rightPressed = false;\n",
    "        }\n",
    "        else if(e.keyCode == 37) {\n",
    "            leftPressed = false;\n",
    "        }\n",
    "    }\n",
    "    function mouseMoveHandler(e) {\n",
    "        var relativeX = e.clientX - canvas.offsetLeft;\n",
    "        if(relativeX > 0 && relativeX < canvas.width) {\n",
    "            paddleX = relativeX - paddleWidth/2;\n",
    "        }\n",
    "    }\n",
    "    function collisionDetection() {\n",
    "        for(var c=0; c<brickColumnCount; c++) {\n",
    "            for(var r=0; r<brickRowCount; r++) {\n",
    "                var b = bricks[c][r];\n",
    "                if(b.status == 1) {\n",
    "                    if(x > b.x && x < b.x+brickWidth && y > b.y && y < b.y+brickHeight) {\n",
    "                        dy = -dy;\n",
    "                        b.status = 0;\n",
    "                        score++;\n",
    "                        if(score == brickRowCount*brickColumnCount) {\n",
    "                            alert(\"YOU WIN, CONGRATS!\");\n",
    "                            document.location.reload();\n",
    "                        }\n",
    "                    }\n",
    "                }\n",
    "            }\n",
    "        }\n",
    "    }\n",
    "    function drawBall() {\n",
    "        ctx.beginPath();\n",
    "        ctx.arc(x, y, ballRadius, 0, Math.PI*2);\n",
    "        ctx.fillStyle = \"#0095DD\";\n",
    "        ctx.fill();\n",
    "        ctx.closePath();\n",
    "    }\n",
    "    function drawPaddle() {\n",
    "        ctx.beginPath();\n",
    "        ctx.rect(paddleX, canvas.height-paddleHeight, paddleWidth, paddleHeight);\n",
    "        ctx.fillStyle = \"#0095DD\";\n",
    "        ctx.fill();\n",
    "        ctx.closePath();\n",
    "    }\n",
    "    function drawBricks() {\n",
    "        for(var c=0; c<brickColumnCount; c++) {\n",
    "            for(var r=0; r<brickRowCount; r++) {\n",
    "                if(bricks[c][r].status == 1) {\n",
    "                    var brickX = (r*(brickWidth+brickPadding))+brickOffsetLeft;\n",
    "                    var brickY = (c*(brickHeight+brickPadding))+brickOffsetTop;\n",
    "                    bricks[c][r].x = brickX;\n",
    "                    bricks[c][r].y = brickY;\n",
    "                    ctx.beginPath();\n",
    "                    ctx.rect(brickX, brickY, brickWidth, brickHeight);\n",
    "                    ctx.fillStyle = \"#0095DD\";\n",
    "                    ctx.fill();\n",
    "                    ctx.closePath();\n",
    "                }\n",
    "            }\n",
    "        }\n",
    "    }\n",
    "    function drawScore() {\n",
    "        ctx.font = \"16px Arial\";\n",
    "        ctx.fillStyle = \"#0095DD\";\n",
    "        ctx.fillText(\"Score: \"+score, 8, 20);\n",
    "    }\n",
    "    function drawLives() {\n",
    "        ctx.font = \"16px Arial\";\n",
    "        ctx.fillStyle = \"#0095DD\";\n",
    "        ctx.fillText(\"Lives: \"+lives, canvas.width-65, 20);\n",
    "    }\n",
    "    function draw() {\n",
    "        ctx.clearRect(0, 0, canvas.width, canvas.height);\n",
    "        drawBricks();\n",
    "        drawBall();\n",
    "        drawPaddle();\n",
    "        drawScore();\n",
    "        drawLives();\n",
    "        collisionDetection();\n",
    "        if(x + dx > canvas.width-ballRadius || x + dx < ballRadius) {\n",
    "            dx = -dx;\n",
    "        }\n",
    "        if(y + dy < ballRadius) {\n",
    "            dy = -dy;\n",
    "        }\n",
    "        else if(y + dy > canvas.height-ballRadius) {\n",
    "            if(x > paddleX && x < paddleX + paddleWidth) {\n",
    "                dy = -dy;\n",
    "            }\n",
    "            else {\n",
    "                lives--;\n",
    "                if(!lives) {\n",
    "                    alert(\"GAME OVER\");\n",
    "                    document.location.reload();\n",
    "                }\n",
    "                else {\n",
    "                    x = canvas.width/2;\n",
    "                    y = canvas.height-30;\n",
    "                    dx = 3;\n",
    "                    dy = -3;\n",
    "                    paddleX = (canvas.width-paddleWidth)/2;\n",
    "                }\n",
    "            }\n",
    "        }\n",
    "        if(rightPressed && paddleX < canvas.width-paddleWidth) {\n",
    "            paddleX += 7;\n",
    "        }\n",
    "        else if(leftPressed && paddleX > 0) {\n",
    "            paddleX -= 7;\n",
    "        }\n",
    "        x += dx;\n",
    "        y += dy;\n",
    "        requestAnimationFrame(draw);\n",
    "    }\n",
    "    draw();\n",
    "</script>"
   ]
  },
  {
   "cell_type": "markdown",
   "metadata": {},
   "source": [
    "* Keep writing Javascript game based on principles in tutorial at https://developer.mozilla.org/en-US/docs/Games/Tutorials/2D_Breakout_game_pure_JavaScript/Game_over"
   ]
  },
  {
   "cell_type": "code",
   "execution_count": null,
   "metadata": {},
   "outputs": [],
   "source": []
  }
 ],
 "metadata": {
  "kernelspec": {
   "display_name": "Python 3",
   "language": "python",
   "name": "python3"
  },
  "language_info": {
   "codemirror_mode": {
    "name": "ipython",
    "version": 3
   },
   "file_extension": ".py",
   "mimetype": "text/x-python",
   "name": "python",
   "nbconvert_exporter": "python",
   "pygments_lexer": "ipython3",
   "version": "3.6.5"
  }
 },
 "nbformat": 4,
 "nbformat_minor": 2
}

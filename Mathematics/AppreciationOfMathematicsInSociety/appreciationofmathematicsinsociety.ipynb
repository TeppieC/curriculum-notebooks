{
 "cells": [
  {
   "cell_type": "markdown",
   "metadata": {},
   "source": [
    "# Mathematics in Society"
   ]
  },
  {
   "cell_type": "markdown",
   "metadata": {},
   "source": [
    "# Introduction\n",
    "\n",
    "Mathematics permeates every aspect of modern life. From securing online transactions to calculating the best air conditioner placement, the applications of mathematics are too numerous to list. The purpose of this notebook is to assist you in choosing and presenting a topic for your research project and to provide you with a sample outline of a completed project. "
   ]
  },
  {
   "cell_type": "markdown",
   "metadata": {},
   "source": [
    "![voronoi](images/Melbourne Recital Hall and MTC Theatre - Rory Hyde - 2009.jpg)\n",
    "*Voronoi cells on the Melbourne Recital Hall and MTC Theatre. Photo credit: Rory Hyde, CC BY-SA 2.0, 2009.*"
   ]
  },
  {
   "cell_type": "markdown",
   "metadata": {},
   "source": [
    "## Getting Started\n",
    "\n",
    "Ok, so you have to do a project. Now what? Here are a few applications of mathematics that you may or may not know about.\n",
    "\n",
    "<ul>\n",
    "    <li> The Mars Curiosity rover uses a mathematical process called 'Kalman Filtering' to help with image-based navigation https://en.wikipedia.org/wiki/Curiosity_(rover)#Navigation_cameras_(navcams). </li>\n",
    "        <li> Mathematical models (equations and formulas) can describe the spread of infectious diseases (like zombie viruses) https://en.wikipedia.org/wiki/Mathematical_modelling_of_infectious_disease. </li>\n",
    "    <li> The factorization of large prime numbers forms the basis of secure internet data encryption https://en.wikipedia.org/wiki/RSA_(cryptosystem). </li>\n",
    "    <li> Graph theory is used to determine the best route for a traveling salesperson https://en.wikipedia.org/wiki/Travelling_salesman_problem. Yes, it used to be very common for a salesperson to actually travel from city to city trying to sell things like vaccuum cleaners. </li>\n",
    "    <li> Polynomials are used to draw curves in computer vector graphics https://en.wikipedia.org/wiki/Vector_graphics. </li>\n",
    "</ul>\n",
    "\n",
    "Keep in mind that some of the topics in the above list are a bit heavy. Let's look at how we can break a topic down into manageable pieces."
   ]
  },
  {
   "cell_type": "markdown",
   "metadata": {},
   "source": [
    "## Choosing a Topic\n",
    "\n",
    "Since this research project is required, it can be hard to pick a topic that is relevant and interesting to you. The fact that you can choose from so many different options makes this process even harder. However, here are some things to consider as you look through potential topics.\n",
    "\n",
    "<ul>\n",
    "    <li> Does it involve mathematics? The topic can be an interesting mathematical fact, a historical report (like how a large group of ancient people didn't believe that irrational numbers like $\\sqrt{2}$ existed https://en.wikipedia.org/wiki/Hippasus), or a clear application of mathematics in everyday life. </li>\n",
    "    <li> Are there clear and reliable sources for your information and data? Think of Wikipedia as a starting place where you can get an idea, especially the references at the end of articles. Textbooks, library books, and scholarly articles and websites will have much more detailed information. </li>\n",
    "    <li> Can you focus on a single issue or problem involving mathematics? A report that tries to include the entire development of trigonometry would be far more difficult to write than a paper on the use of sine and cosine functions in dialing telephones or JPG image compression. </li>\n",
    "    <li> Is the topic self-contained? Does the topic require huge amounts of background material before I can write about the actual topic? If so, you may need to simplify to a single question or problem for your report. </li>\n",
    "</ul>\n",
    "\n",
    "For an example, let's explore the outline of a research project on the topic of *Game Theory*. "
   ]
  },
  {
   "cell_type": "markdown",
   "metadata": {},
   "source": [
    "# How to Win at Absolutely Every Game (Sometimes)\n",
    "![games](images/board-games.jpg)\n",
    "*CC0 Public Domain license.*"
   ]
  },
  {
   "cell_type": "markdown",
   "metadata": {},
   "source": [
    "## Writing Your Introduction\n",
    "\n",
    "Yes, presenting about Math is exactly the same as presenting for any other subject. **Always think of your audience.** By the end of preparing your presentation, you'll have spent hours researching your topic and you'll have lots of information about it that your audience may not have. **Giving an introduction is always necessary.** In the introduction, you tell the audience what is going on, what your topic is all about, and what to expect as the presentation continues. You don't need to go into full detail about your topic in the introduction, because you'll have lots of time for that in the body of the presentation.\n",
    "\n",
    "The length of the introduction depends on the nature of your presentation. \n",
    "<ul>\n",
    "    <li> If you are doing a slideshow presentation, the introduction might be one or two slides. </li>\n",
    "    <li> For a video presentation, you might spend 30-60 seconds introducing the topic (time seems much longer on a video). </li>\n",
    "    <li> If you're doing your presentation in a Jupyter notebook (like this notebook), you might use one or two well-written paragraphs. </li>\n",
    "</ul>\n",
    "\n",
    "## *Example*\n",
    ">### Introduction\n",
    ">\n",
    ">Game Theory was first developed in the 1920s by the mathematician John Von Neumann. This theory is centered around 'players', such as people, species, or companies, competing against each other in 'games'. The outcome of a game can be relatively innocent, such as providing the players with a sense of pride and accomplishment, or much more serious, like death from starvation or nuclear war. yada yada. yada yada. In this presentation, we'll explore two-person zero-sum games and their best strategies. "
   ]
  },
  {
   "cell_type": "markdown",
   "metadata": {},
   "source": [
    "## The Body of Your Presentation\n",
    "\n",
    "This is the part of your presentation where you have the most freedom. Coming right after the introduction, the body of your presentation is where you explain why your topic is important and introduce clear examples of how your topic involves math in society."
   ]
  },
  {
   "cell_type": "code",
   "execution_count": null,
   "metadata": {},
   "outputs": [],
   "source": []
  }
 ],
 "metadata": {
  "kernelspec": {
   "display_name": "Python 3",
   "language": "python",
   "name": "python3"
  },
  "language_info": {
   "codemirror_mode": {
    "name": "ipython",
    "version": 3
   },
   "file_extension": ".py",
   "mimetype": "text/x-python",
   "name": "python",
   "nbconvert_exporter": "python",
   "pygments_lexer": "ipython3",
   "version": "3.6.5"
  }
 },
 "nbformat": 4,
 "nbformat_minor": 2
}

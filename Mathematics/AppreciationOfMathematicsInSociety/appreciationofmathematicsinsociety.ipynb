{
 "cells": [
  {
   "cell_type": "markdown",
   "metadata": {},
   "source": [
    "# Introduction\n",
    "\n",
    "Mathematics permeates every aspect of modern life. From securing online transactions to calculating the best air conditioner placement, the applications of mathematics are too numerous to list. The purpose of this notebook is to assist you in choosing a topic for your research project and to provide you with a sample outline of a completed project. "
   ]
  },
  {
   "cell_type": "markdown",
   "metadata": {},
   "source": [
    "## Getting Started\n",
    "\n",
    "Ok, so you have to do a project. Now what? Here are a few applications of mathematics that you may or may not know about.\n",
    "\n",
    "<ul>\n",
    "    <li> The Mars Curiosity rover uses a mathematical process called 'Kalman Filtering' to help in navigation https://en.wikipedia.org/wiki/Curiosity_(rover)#Navigation_cameras_(navcams). </li>\n",
    "        <li> Mathematical models (equations and formulas) can describe the spread of infectious diseases (like zombie viruses) https://en.wikipedia.org/wiki/Mathematical_modelling_of_infectious_disease. </li>\n",
    "    <li> The factorization of large prime numbers forms the basis of secure internet data encryption https://en.wikipedia.org/wiki/RSA_(cryptosystem). </li>\n",
    "    <li> Graph theory is used to determine the best route for a traveling salesperson https://en.wikipedia.org/wiki/Travelling_salesman_problem. Yes, it used to be very common for a salesperson to actually travel from city to city trying to sell things like vaccuum cleaners. </li>\n",
    "    <li> Polynomials are used to draw curves in computer vector graphics https://en.wikipedia.org/wiki/Vector_graphics. </li>\n",
    "</ul>\n",
    "\n",
    "Keep in mind that some of the topics in the above list are a bit heavy. Let's look at how we can break a topic down into manageable pieces."
   ]
  },
  {
   "cell_type": "markdown",
   "metadata": {},
   "source": [
    "## Choosing a Topic\n",
    "\n",
    "Since this research project is required, it can be hard to pick a topic that is relevant and interesting to you. The fact that you can choose from so many different options makes this process even harder. However, here are some things to consider as you look through potential topics.\n",
    "\n",
    "<ul>\n",
    "    <li> Does it involve mathematics? The topic can be an interesting mathematical fact, a historical report (like how a large group of ancient people didn't believe that irrational numbers like $\\sqrt{2}$ existed https://en.wikipedia.org/wiki/Hippasus), or a clear application of mathematics in everyday life. </li>\n",
    "    <li> Are there clear and reliable sources for your information and data? Think of Wikipedia as a starting place where you can get an idea, especially the references at the end of articles. Textbooks, library books, and scholarly articles and websites will have much more detailed information. </li>\n",
    "    <li> Can you focus on a single issue or problem involving mathematics? A report that tries to include the entire development of trigonometry would be far more difficult to write than a paper on the use of sine and cosine functions in dialing telephones or JPG image compression. </li>\n",
    "    <li> Is the topic self-contained? Does the topic require huge amounts of background material before I can write about the actual topic? If so, you may need to simplify to a single question or problem for your report. </li>\n",
    "</ul>"
   ]
  },
  {
   "cell_type": "markdown",
   "metadata": {},
   "source": [
    "# Voting in an Election\n",
    "\n",
    "Suppose that a company of 600 employees must elect the head of Fun Fridays. Three candidates have bravely volunteered for this important position: Amrit, Bolade, and Carmen. The employees must now carefully vote for their favorite candidate."
   ]
  },
  {
   "cell_type": "code",
   "execution_count": null,
   "metadata": {},
   "outputs": [],
   "source": [
    "from ipywidgets import Button, HBox, VBox, Text, widgets, Layout\n",
    "from IPython.display import display\n",
    "\n",
    "import itertools"
   ]
  },
  {
   "cell_type": "code",
   "execution_count": null,
   "metadata": {},
   "outputs": [],
   "source": [
    "class Election:\n",
    "    def __init__(self, votes):\n",
    "        self.votes = votes\n",
    "        \n",
    "    def bordacount(votes):\n",
    "        "
   ]
  },
  {
   "cell_type": "code",
   "execution_count": 5,
   "metadata": {},
   "outputs": [
    {
     "name": "stdout",
     "output_type": "stream",
     "text": [
      "[(Button(description='Amrit', layout=Layout(width='100px'), style=ButtonStyle()), Button(description='Bolade', layout=Layout(width='100px'), style=ButtonStyle()), Button(description='Carmen', layout=Layout(width='100px'), style=ButtonStyle())), (Button(description='Amrit', layout=Layout(width='100px'), style=ButtonStyle()), Button(description='Carmen', layout=Layout(width='100px'), style=ButtonStyle()), Button(description='Bolade', layout=Layout(width='100px'), style=ButtonStyle())), (Button(description='Bolade', layout=Layout(width='100px'), style=ButtonStyle()), Button(description='Amrit', layout=Layout(width='100px'), style=ButtonStyle()), Button(description='Carmen', layout=Layout(width='100px'), style=ButtonStyle())), (Button(description='Bolade', layout=Layout(width='100px'), style=ButtonStyle()), Button(description='Carmen', layout=Layout(width='100px'), style=ButtonStyle()), Button(description='Amrit', layout=Layout(width='100px'), style=ButtonStyle())), (Button(description='Carmen', layout=Layout(width='100px'), style=ButtonStyle()), Button(description='Amrit', layout=Layout(width='100px'), style=ButtonStyle()), Button(description='Bolade', layout=Layout(width='100px'), style=ButtonStyle())), (Button(description='Carmen', layout=Layout(width='100px'), style=ButtonStyle()), Button(description='Bolade', layout=Layout(width='100px'), style=ButtonStyle()), Button(description='Amrit', layout=Layout(width='100px'), style=ButtonStyle()))]\n"
     ]
    },
    {
     "data": {
      "application/vnd.jupyter.widget-view+json": {
       "model_id": "06db1d6ae1c4416ea8a97562edfb8425",
       "version_major": 2,
       "version_minor": 0
      },
      "text/html": [
       "<p>Failed to display Jupyter Widget of type <code>HBox</code>.</p>\n",
       "<p>\n",
       "  If you're reading this message in the Jupyter Notebook or JupyterLab Notebook, it may mean\n",
       "  that the widgets JavaScript is still loading. If this message persists, it\n",
       "  likely means that the widgets JavaScript library is either not installed or\n",
       "  not enabled. See the <a href=\"https://ipywidgets.readthedocs.io/en/stable/user_install.html\">Jupyter\n",
       "  Widgets Documentation</a> for setup instructions.\n",
       "</p>\n",
       "<p>\n",
       "  If you're reading this message in another frontend (for example, a static\n",
       "  rendering on GitHub or <a href=\"https://nbviewer.jupyter.org/\">NBViewer</a>),\n",
       "  it may mean that your frontend doesn't currently support widgets.\n",
       "</p>\n"
      ],
      "text/plain": [
       "HBox(children=(VBox(children=(Button(description='Amrit', layout=Layout(width='100px'), style=ButtonStyle()), Button(description='Bolade', layout=Layout(width='100px'), style=ButtonStyle()), Button(description='Carmen', layout=Layout(width='100px'), style=ButtonStyle()))), VBox(children=(Button(description='Amrit', layout=Layout(width='100px'), style=ButtonStyle()), Button(description='Carmen', layout=Layout(width='100px'), style=ButtonStyle()), Button(description='Bolade', layout=Layout(width='100px'), style=ButtonStyle()))), VBox(children=(Button(description='Bolade', layout=Layout(width='100px'), style=ButtonStyle()), Button(description='Amrit', layout=Layout(width='100px'), style=ButtonStyle()), Button(description='Carmen', layout=Layout(width='100px'), style=ButtonStyle()))), VBox(children=(Button(description='Bolade', layout=Layout(width='100px'), style=ButtonStyle()), Button(description='Carmen', layout=Layout(width='100px'), style=ButtonStyle()), Button(description='Amrit', layout=Layout(width='100px'), style=ButtonStyle()))), VBox(children=(Button(description='Carmen', layout=Layout(width='100px'), style=ButtonStyle()), Button(description='Amrit', layout=Layout(width='100px'), style=ButtonStyle()), Button(description='Bolade', layout=Layout(width='100px'), style=ButtonStyle()))), VBox(children=(Button(description='Carmen', layout=Layout(width='100px'), style=ButtonStyle()), Button(description='Bolade', layout=Layout(width='100px'), style=ButtonStyle()), Button(description='Amrit', layout=Layout(width='100px'), style=ButtonStyle())))))"
      ]
     },
     "metadata": {},
     "output_type": "display_data"
    },
    {
     "data": {
      "application/vnd.jupyter.widget-view+json": {
       "model_id": "327d6dd521c146db96c78a1f1f953f20",
       "version_major": 2,
       "version_minor": 0
      },
      "text/html": [
       "<p>Failed to display Jupyter Widget of type <code>HBox</code>.</p>\n",
       "<p>\n",
       "  If you're reading this message in the Jupyter Notebook or JupyterLab Notebook, it may mean\n",
       "  that the widgets JavaScript is still loading. If this message persists, it\n",
       "  likely means that the widgets JavaScript library is either not installed or\n",
       "  not enabled. See the <a href=\"https://ipywidgets.readthedocs.io/en/stable/user_install.html\">Jupyter\n",
       "  Widgets Documentation</a> for setup instructions.\n",
       "</p>\n",
       "<p>\n",
       "  If you're reading this message in another frontend (for example, a static\n",
       "  rendering on GitHub or <a href=\"https://nbviewer.jupyter.org/\">NBViewer</a>),\n",
       "  it may mean that your frontend doesn't currently support widgets.\n",
       "</p>\n"
      ],
      "text/plain": [
       "HBox(children=(IntSlider(value=0, continuous_update=False, description='Votes', layout=Layout(width='100px'), orientation='vertical'), IntSlider(value=0, continuous_update=False, description='Votes', layout=Layout(width='100px'), orientation='vertical'), IntSlider(value=0, continuous_update=False, description='Votes', layout=Layout(width='100px'), orientation='vertical'), IntSlider(value=0, continuous_update=False, description='Votes', layout=Layout(width='100px'), orientation='vertical'), IntSlider(value=0, continuous_update=False, description='Votes', layout=Layout(width='100px'), orientation='vertical'), IntSlider(value=0, continuous_update=False, description='Votes', layout=Layout(width='100px'), orientation='vertical')))"
      ]
     },
     "metadata": {},
     "output_type": "display_data"
    },
    {
     "data": {
      "application/vnd.jupyter.widget-view+json": {
       "model_id": "27e0f15fe5b2436fb163aabe1ec9217b",
       "version_major": 2,
       "version_minor": 0
      },
      "text/html": [
       "<p>Failed to display Jupyter Widget of type <code>HBox</code>.</p>\n",
       "<p>\n",
       "  If you're reading this message in the Jupyter Notebook or JupyterLab Notebook, it may mean\n",
       "  that the widgets JavaScript is still loading. If this message persists, it\n",
       "  likely means that the widgets JavaScript library is either not installed or\n",
       "  not enabled. See the <a href=\"https://ipywidgets.readthedocs.io/en/stable/user_install.html\">Jupyter\n",
       "  Widgets Documentation</a> for setup instructions.\n",
       "</p>\n",
       "<p>\n",
       "  If you're reading this message in another frontend (for example, a static\n",
       "  rendering on GitHub or <a href=\"https://nbviewer.jupyter.org/\">NBViewer</a>),\n",
       "  it may mean that your frontend doesn't currently support widgets.\n",
       "</p>\n"
      ],
      "text/plain": [
       "HBox(children=(Output(),))"
      ]
     },
     "metadata": {},
     "output_type": "display_data"
    }
   ],
   "source": [
    "items_layout = Layout( width='100px')\n",
    "\n",
    "people = ['Amrit','Bolade','Carmen']             # Committee candidates.\n",
    "\n",
    "items = [Button(description=w, layout=items_layout) for w in people]  # Button for each committee member.\n",
    "perms = list(itertools.permutations(items))      # Every possible permutation of committees.\n",
    "boxes = [VBox(p) for p in perms]                 # Box for every permutation.\n",
    "\n",
    "box_layout = Layout(display='flex',\n",
    "                    flex_flow='column',\n",
    "                    align_items='stretch',\n",
    "                    border='solid',\n",
    "                    width='50%')\n",
    "\n",
    "display(HBox(boxes), layout = box_layout)\n",
    "\n",
    "sliders = [widgets.IntSlider(\n",
    "    value=0,\n",
    "    min=0,\n",
    "    max=100,\n",
    "    step=1,\n",
    "    description='Votes',\n",
    "    disabled=False,\n",
    "    continuous_update=False,\n",
    "    orientation='vertical',\n",
    "    readout=True,\n",
    "    readout_format='d',\n",
    "    layout=items_layout\n",
    ") for w in boxes]\n",
    "\n",
    "# For convenient function input.\n",
    "letters = ['a','b','c','d','e','f']\n",
    "\n",
    "# Current function for output.\n",
    "def f(a,b,c,d,e,f):\n",
    "    print('{} + {} + {} + {} + {} + {} = {}'.format(a, b, c, d, e, f, a+b+c+d+e+f))\n",
    "\n",
    "out = widgets.interactive_output(f, {letters[i]: sliders[i] for i in range(len(sliders))})\n",
    "\n",
    "display(HBox(sliders), layout = box_layout)\n",
    "display(HBox([out]))"
   ]
  },
  {
   "cell_type": "code",
   "execution_count": 2,
   "metadata": {},
   "outputs": [
    {
     "name": "stdout",
     "output_type": "stream",
     "text": [
      "{'a': IntSlider(value=0, continuous_update=False, description='Votes', layout=Layout(width='100px'), orientation='vertical'), 'b': IntSlider(value=0, continuous_update=False, description='Votes', layout=Layout(width='100px'), orientation='vertical'), 'c': IntSlider(value=0, continuous_update=False, description='Votes', layout=Layout(width='100px'), orientation='vertical'), 'd': IntSlider(value=0, continuous_update=False, description='Votes', layout=Layout(width='100px'), orientation='vertical'), 'e': IntSlider(value=0, continuous_update=False, description='Votes', layout=Layout(width='100px'), orientation='vertical'), 'f': IntSlider(value=0, continuous_update=False, description='Votes', layout=Layout(width='100px'), orientation='vertical')}\n"
     ]
    }
   ],
   "source": [
    "print({letters[i]: sliders[i] for i in range(len(sliders))})"
   ]
  },
  {
   "cell_type": "code",
   "execution_count": 3,
   "metadata": {},
   "outputs": [],
   "source": [
    "E = {letters[i]: sliders[i] for i in range(len(sliders))}"
   ]
  },
  {
   "cell_type": "code",
   "execution_count": 4,
   "metadata": {},
   "outputs": [
    {
     "name": "stdout",
     "output_type": "stream",
     "text": [
      "a\n",
      "b\n",
      "c\n",
      "d\n",
      "e\n",
      "f\n"
     ]
    }
   ],
   "source": [
    "for e in E:\n",
    "    print(e)"
   ]
  },
  {
   "cell_type": "code",
   "execution_count": 13,
   "metadata": {},
   "outputs": [
    {
     "name": "stdout",
     "output_type": "stream",
     "text": [
      "[('Amrit', 'Bolade', 'Carmen'), ('Amrit', 'Carmen', 'Bolade'), ('Bolade', 'Amrit', 'Carmen'), ('Bolade', 'Carmen', 'Amrit'), ('Carmen', 'Amrit', 'Bolade'), ('Carmen', 'Bolade', 'Amrit')]\n"
     ]
    }
   ],
   "source": [
    "print(list(itertools.permutations(people)))"
   ]
  },
  {
   "cell_type": "code",
   "execution_count": 15,
   "metadata": {},
   "outputs": [
    {
     "name": "stdout",
     "output_type": "stream",
     "text": [
      "[[('Amrit', 'Bolade', 'Carmen')], [('Amrit', 'Carmen', 'Bolade')], [('Bolade', 'Amrit', 'Carmen')], [('Bolade', 'Carmen', 'Amrit')], [('Carmen', 'Amrit', 'Bolade')], [('Carmen', 'Bolade', 'Amrit')]]\n"
     ]
    }
   ],
   "source": [
    "R = list(itertools.permutations(people))"
   ]
  },
  {
   "cell_type": "code",
   "execution_count": 17,
   "metadata": {},
   "outputs": [
    {
     "name": "stdout",
     "output_type": "stream",
     "text": [
      "('Amrit', 'Bolade', 'Carmen')\n",
      "('Amrit', 'Carmen', 'Bolade')\n",
      "('Bolade', 'Amrit', 'Carmen')\n",
      "('Bolade', 'Carmen', 'Amrit')\n",
      "('Carmen', 'Amrit', 'Bolade')\n",
      "('Carmen', 'Bolade', 'Amrit')\n"
     ]
    }
   ],
   "source": [
    "def ranking(perms):\n",
    "    # Take in list of tuples, return the rankings.\n",
    "    \n",
    "    for i in range(len(perms)):\n",
    "        print(perms[i])\n",
    "    \n",
    "ranking(R)"
   ]
  },
  {
   "cell_type": "code",
   "execution_count": null,
   "metadata": {},
   "outputs": [],
   "source": []
  }
 ],
 "metadata": {
  "kernelspec": {
   "display_name": "Python 3",
   "language": "python",
   "name": "python3"
  },
  "language_info": {
   "codemirror_mode": {
    "name": "ipython",
    "version": 3
   },
   "file_extension": ".py",
   "mimetype": "text/x-python",
   "name": "python",
   "nbconvert_exporter": "python",
   "pygments_lexer": "ipython3",
   "version": "3.6.5"
  }
 },
 "nbformat": 4,
 "nbformat_minor": 2
}

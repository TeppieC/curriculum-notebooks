{
 "cells": [
  {
   "cell_type": "markdown",
   "metadata": {},
   "source": [
    "<img src=\"images/callysto-top-banner.jpg\">"
   ]
  },
  {
   "cell_type": "code",
   "execution_count": 36,
   "metadata": {},
   "outputs": [
    {
     "data": {
      "text/html": [
       "<script>requirejs.config({paths: { 'plotly': ['https://cdn.plot.ly/plotly-latest.min']},});if(!window.Plotly) {{require(['plotly'],function(plotly) {window.Plotly=plotly;});}}</script>"
      ],
      "text/vnd.plotly.v1+html": [
       "<script>requirejs.config({paths: { 'plotly': ['https://cdn.plot.ly/plotly-latest.min']},});if(!window.Plotly) {{require(['plotly'],function(plotly) {window.Plotly=plotly;});}}</script>"
      ]
     },
     "metadata": {},
     "output_type": "display_data"
    }
   ],
   "source": [
    "import plotly.offline as py\n",
    "import plotly.graph_objs as go\n",
    "import numpy as np\n",
    "\n",
    "py.init_notebook_mode(connected=True)"
   ]
  },
  {
   "cell_type": "markdown",
   "metadata": {},
   "source": [
    "<h1 align=\"center\">How the French Revolution Almost Led to a Canadian Tragedy</h1> \n",
    "<img src=\"images/ruler_cropped.png\">"
   ]
  },
  {
   "cell_type": "markdown",
   "metadata": {},
   "source": [
    "# Introduction\n",
    "\n",
    "Work on creating the metric system of measurement was started during the French Revolution. In Canada, we use the metric system for measuring length, mass, area, and volume. However, this was not always true. Before using the metric system, Canada used the British Imperial system of measurement. Canada's change over to the metric system during the 1970s led to lots of problems. One of these problems was the fuel conversion mistake that led to Air Canada Flight 143 almost crashing in 1983."
   ]
  },
  {
   "cell_type": "markdown",
   "metadata": {},
   "source": [
    "# Background\n",
    "\n",
    "You might know about lots of different ways to measure things. People often measure land area in 'acres', or you might know your height in 'feet' and 'inches'. Even the speedometer on a car shows 'miles' per hour right alongside kilometers per hour. Though Canada doesn't officially use these measurements anymore, they still appear everywhere. But how were they made up in the first place? It turns out that they've been through some changes over the years. However, the original sources of these units of measurement may be surprising.\n",
    "\n",
    "Let's see where some of these wonderful measurements come from."
   ]
  },
  {
   "cell_type": "markdown",
   "metadata": {},
   "source": [
    "<img src=\"images/imperial_infographic.svg\" width=\"500\">"
   ]
  },
  {
   "cell_type": "markdown",
   "metadata": {},
   "source": [
    "Simple, right? Although the Imperial System eventually became standardized, even the standards didn't make sense! There were 12 inches in every foot, yet 3 feet to every yard, and 5280 feet to every mile. Anyone who wanted to learn the Imperial System spent most of their time memorizing the bizarre relationships between the units. Clearly a change was necessary. The change to order came from a time of chaos: the French Revolution."
   ]
  },
  {
   "cell_type": "markdown",
   "metadata": {},
   "source": [
    "## The French Revolution Introduces the Metric System\n",
    "\n",
    "At the end of the 1700s, the French people were completely fed up with their government. French monarchs had created a huge division between social classes, and living conditions were terrible. So, the French revolution began. Once the new government was in place, sweeping changes took place at every level of French life.\n",
    "\n",
    "Education and science were two main areas of reform during the French revolution. A committee of some of the best French mathematicians and scientists was formed to create a new system of measurements."
   ]
  },
  {
   "cell_type": "markdown",
   "metadata": {},
   "source": [
    "<div>\n",
    "    <div style=\"float:left;margin-right:5px;\">\n",
    "        <img src=\"images/Monge.jpg\" width=\"200\"  />\n",
    "<!--         <p style=\"text-align:center;\">This is image 1</p> -->\n",
    "    </div>\n",
    "    <div style=\"float:left;margin-right:5px;\">\n",
    "        <img class=\"middle-img\" src=\"images/Laplace.jpg\" width=\"200\" />\n",
    "<!--         <p style=\"text-align:center;\">This is image 2</p> -->\n",
    "    </div>\n",
    "    <div style=\"float:left;margin-right:5px;\">\n",
    "        <img src=\"images/Legendre.jpg\" width=\"200\" />\n",
    "<!--         <p style=\"text-align:center;\">This is image 3</p> -->\n",
    "    </div>\n",
    "</div>\n",
    "<hr style=\"clear:both;\">\n",
    "*Gaspard Monge, Pierre-Simon Laplace, and Adrien-Marie Legendre. Three brilliant mathematicians on the committee for creating a new system of measurements. For the full story on Legendre's strange portrait, see the Reference section at the end of this notebook.* </hr>"
   ]
  },
  {
   "cell_type": "markdown",
   "metadata": {},
   "source": [
    "Along with the change in government, the French Revolution brought changes in *thinking*. It took place during the historical period known as the **Enlightenment**. Great thinkers of the time began basing their ideas on rationalism and the observable natural world instead of the mystical sources of the past. The committee on weights and measures decided that the metre should be based on a naturally observed distance. The length of the metre would be one ten millionth of the length of a quarter of the earth's circumference. In mathematical terms, this meant that if the circumference of the earth was $C$ and the length of a metre was $x$, the length of the metre would be given by\n",
    "\n",
    "<p style=\"text-align: center;\">\n",
    "\n",
    "    $x = \\frac{1}{10000000}\\times\\frac{1}{4}\\times C.$\n",
    "\n",
    "</p>\n",
    "\n",
    "[Nicolas de Condorcet](https://en.wikipedia.org/wiki/Marquis_de_Condorcet), a member of the committee on weights and measures, was selected to supervise the measurement of one metre. De Condorcet sent two astronomers, Jean Baptiste Joseph Delambre and Pierre Méchain, on an expedition to perform the measurement.\n",
    "\n",
    "<img src = \"images/nic.gif\" width = \"300\">\n",
    "*Nicolas de Condorcet passionately argues in favor of the metric system.*"
   ]
  },
  {
   "cell_type": "markdown",
   "metadata": {},
   "source": [
    "One quarter of the circumference of the Earth was assumed to be 10,000 km (it was later discovered to be closer to 10,009 km). Delambre and Méchain, the two astronomers assigned to measure the metre, surveyed the distance between Dunkirk, France and Barcelona, Spain. This path took them along the *Paris meridian*, the line of longitude that passed through Paris. \n",
    "\n",
    "Beginning in Rodez, France - near the border with Spain - Delambre began traveling north to Dunkirk, measuring along the way. Méchain took the shorter route, traveling south to Barcelona. However, Méchain's trip was much harder than Delambre's. During the expedition, France declared war on Spain, which made Spanish authorities very suspicious of the French surveyors. Méchain also had to travel through mountains and unsurveyed portions of France and Spain. A more complete story of Méchain's troubled journey, as well as an unfortunate mistake in his measurements, can be found [here](http://www-history.mcs.st-and.ac.uk/Biographies/Mechain.html)."
   ]
  },
  {
   "cell_type": "code",
   "execution_count": 35,
   "metadata": {},
   "outputs": [
    {
     "data": {
      "application/vnd.plotly.v1+json": {
       "data": [
        {
         "hoverinfo": "text",
         "lat": [
          44.3506,
          51.0383
         ],
         "line": {
          "color": "rgb(0, 0, 204)",
          "width": 2
         },
         "lon": [
          2.575,
          2.3775
         ],
         "mode": "lines",
         "name": "Delambre's route",
         "text": [
          "Rodez, France",
          "Dunkirk, France"
         ],
         "type": "scattergeo"
        },
        {
         "hoverinfo": "text",
         "lat": [
          44.3506,
          41.383333
         ],
         "line": {
          "color": "rgb(0, 153, 0)",
          "width": 2
         },
         "lon": [
          2.575,
          2.183333
         ],
         "mode": "lines",
         "name": "Méchain's route",
         "text": [
          "Rodez, France",
          "Barcelona, Spain"
         ],
         "type": "scattergeo"
        }
       ],
       "layout": {
        "geo": {
         "coastlinewidth": 2,
         "lakecolor": "rgb(255, 255, 255)",
         "landcolor": "rgb(204, 204, 204)",
         "lataxis": {
          "dtick": 10,
          "range": [
           40,
           55
          ],
          "showgrid": true,
          "tickmode": "linear"
         },
         "lonaxis": {
          "dtick": 10,
          "range": [
           -10,
           10
          ],
          "showgrid": true,
          "tickmode": "linear"
         },
         "projection": {
          "type": "mercator"
         },
         "resolution": 50,
         "showlakes": true,
         "showland": true
        },
        "showlegend": true,
        "title": "Expedition to Measure the Metre"
       }
      },
      "text/html": [
       "<div id=\"ae048f25-275c-4029-8966-cd1bcf67f391\" style=\"height: 525px; width: 100%;\" class=\"plotly-graph-div\"></div><script type=\"text/javascript\">require([\"plotly\"], function(Plotly) { window.PLOTLYENV=window.PLOTLYENV || {};window.PLOTLYENV.BASE_URL=\"https://plot.ly\";Plotly.newPlot(\"ae048f25-275c-4029-8966-cd1bcf67f391\", [{\"type\": \"scattergeo\", \"name\": \"Delambre's route\", \"lat\": [44.3506, 51.0383], \"lon\": [2.575, 2.3775], \"hoverinfo\": \"text\", \"text\": [\"Rodez, France\", \"Dunkirk, France\"], \"mode\": \"lines\", \"line\": {\"width\": 2, \"color\": \"rgb(0, 0, 204)\"}}, {\"type\": \"scattergeo\", \"name\": \"M\\u00e9chain's route\", \"lat\": [44.3506, 41.383333], \"lon\": [2.575, 2.183333], \"hoverinfo\": \"text\", \"text\": [\"Rodez, France\", \"Barcelona, Spain\"], \"mode\": \"lines\", \"line\": {\"width\": 2, \"color\": \"rgb(0, 153, 0)\"}}], {\"title\": \"Expedition to Measure the Metre\", \"showlegend\": true, \"geo\": {\"resolution\": 50, \"showland\": true, \"showlakes\": true, \"landcolor\": \"rgb(204, 204, 204)\", \"lakecolor\": \"rgb(255, 255, 255)\", \"projection\": {\"type\": \"mercator\"}, \"coastlinewidth\": 2, \"lataxis\": {\"range\": [40, 55], \"showgrid\": true, \"tickmode\": \"linear\", \"dtick\": 10}, \"lonaxis\": {\"range\": [-10, 10], \"showgrid\": true, \"tickmode\": \"linear\", \"dtick\": 10}}}, {\"showLink\": true, \"linkText\": \"Export to plot.ly\"})});</script>"
      ],
      "text/vnd.plotly.v1+html": [
       "<div id=\"ae048f25-275c-4029-8966-cd1bcf67f391\" style=\"height: 525px; width: 100%;\" class=\"plotly-graph-div\"></div><script type=\"text/javascript\">require([\"plotly\"], function(Plotly) { window.PLOTLYENV=window.PLOTLYENV || {};window.PLOTLYENV.BASE_URL=\"https://plot.ly\";Plotly.newPlot(\"ae048f25-275c-4029-8966-cd1bcf67f391\", [{\"type\": \"scattergeo\", \"name\": \"Delambre's route\", \"lat\": [44.3506, 51.0383], \"lon\": [2.575, 2.3775], \"hoverinfo\": \"text\", \"text\": [\"Rodez, France\", \"Dunkirk, France\"], \"mode\": \"lines\", \"line\": {\"width\": 2, \"color\": \"rgb(0, 0, 204)\"}}, {\"type\": \"scattergeo\", \"name\": \"M\\u00e9chain's route\", \"lat\": [44.3506, 41.383333], \"lon\": [2.575, 2.183333], \"hoverinfo\": \"text\", \"text\": [\"Rodez, France\", \"Barcelona, Spain\"], \"mode\": \"lines\", \"line\": {\"width\": 2, \"color\": \"rgb(0, 153, 0)\"}}], {\"title\": \"Expedition to Measure the Metre\", \"showlegend\": true, \"geo\": {\"resolution\": 50, \"showland\": true, \"showlakes\": true, \"landcolor\": \"rgb(204, 204, 204)\", \"lakecolor\": \"rgb(255, 255, 255)\", \"projection\": {\"type\": \"mercator\"}, \"coastlinewidth\": 2, \"lataxis\": {\"range\": [40, 55], \"showgrid\": true, \"tickmode\": \"linear\", \"dtick\": 10}, \"lonaxis\": {\"range\": [-10, 10], \"showgrid\": true, \"tickmode\": \"linear\", \"dtick\": 10}}}, {\"showLink\": true, \"linkText\": \"Export to plot.ly\"})});</script>"
      ]
     },
     "metadata": {},
     "output_type": "display_data"
    }
   ],
   "source": [
    "# Interactive plot of journeys of Delambre and Mechain.\n",
    "rodez_dunkirk = [ dict(\n",
    "    type = 'scattergeo',\n",
    "    name = \"Delambre's route\",\n",
    "    lat = [44.3506, 51.0383],\n",
    "    lon = [2.575, 2.3775],\n",
    "    hoverinfo = 'text',\n",
    "    text = ['Rodez, France', 'Dunkirk, France'],\n",
    "    mode = 'lines',\n",
    "    line = dict(\n",
    "        width = 2,\n",
    "        color = 'rgb(0, 0, 204)',\n",
    "    ),\n",
    ") ]\n",
    "rodez_barcelona = [ dict(\n",
    "    type = 'scattergeo',\n",
    "    name = \"Méchain's route\",\n",
    "    lat = [44.3506, 41.383333],\n",
    "    lon = [2.575, 2.183333],\n",
    "    hoverinfo = 'text',\n",
    "    text = ['Rodez, France', 'Barcelona, Spain'],\n",
    "    mode = 'lines',\n",
    "    line = dict(\n",
    "        width = 2,\n",
    "        color = 'rgb(0, 153, 0)',\n",
    "    ),\n",
    ") ]\n",
    "\n",
    "layout1 = dict(\n",
    "        title = 'Expedition to Measure the Metre',\n",
    "        showlegend = True,         \n",
    "        geo = dict(\n",
    "            resolution = 50,\n",
    "            showland = True,\n",
    "            showlakes = True,\n",
    "            landcolor = 'rgb(204, 204, 204)',\n",
    "            lakecolor = 'rgb(255, 255, 255)',\n",
    "            projection = dict( type=\"mercator\" ),\n",
    "            coastlinewidth = 2,\n",
    "            lataxis = dict(\n",
    "                range = [ 40, 55 ],\n",
    "                showgrid = True,\n",
    "                tickmode = \"linear\",\n",
    "                dtick = 10\n",
    "            ),\n",
    "            lonaxis = dict(\n",
    "                range = [-10, 10],\n",
    "                showgrid = True,\n",
    "                tickmode = \"linear\",\n",
    "                dtick = 10\n",
    "            ),\n",
    "        )\n",
    "    )\n",
    "\n",
    "fig = dict(data = rodez_dunkirk + rodez_barcelona, layout=layout1)\n",
    "\n",
    "py.iplot(fig, validate=False)"
   ]
  },
  {
   "cell_type": "markdown",
   "metadata": {},
   "source": [
    "When the expedition was complete, the distance between Dunkirk and Barcelona was extrapolated to the distance between the North Pole and the Equator along the Paris meridian."
   ]
  },
  {
   "cell_type": "code",
   "execution_count": 2,
   "metadata": {},
   "outputs": [
    {
     "data": {
      "application/vnd.plotly.v1+json": {
       "data": [
        {
         "lat": [
          0,
          48.8566,
          90
         ],
         "lon": [
          2.3522,
          2.3522,
          0
         ],
         "marker": {
          "color": "rgba(152, 0, 0, .8)",
          "line": {
           "color": "rgb(152, 152, 0)",
           "width": 1
          },
          "size": 10
         },
         "mode": "lines",
         "text": [
          "",
          "Paris, France",
          "North Pole"
         ],
         "type": "scattergeo"
        }
       ],
       "layout": {
        "geo": {
         "countrywidth": 0.5,
         "lakecolor": "rgb(0, 204, 255)",
         "landcolor": "rgb(51, 204, 51)",
         "lataxis": {
          "gridcolor": "rgb(102, 102, 102)",
          "gridwidth": 0.5,
          "showgrid": true
         },
         "lonaxis": {
          "gridcolor": "rgb(102, 102, 102)",
          "gridwidth": 0.5,
          "showgrid": true
         },
         "oceancolor": "rgb(0, 204, 255)",
         "projection": {
          "rotation": {
           "lat": 30,
           "lon": -30,
           "roll": 0
          },
          "type": "orthographic"
         },
         "showcountries": true,
         "showlakes": true,
         "showland": true,
         "showocean": true
        },
        "showlegend": false,
        "title": "Original metre (one ten millionth of the length of the red line)<br>(Click and drag to rotate)"
       }
      },
      "text/html": [
       "<div id=\"74fd2c96-d03b-416b-9b52-449798c19ab7\" style=\"height: 525px; width: 100%;\" class=\"plotly-graph-div\"></div><script type=\"text/javascript\">require([\"plotly\"], function(Plotly) { window.PLOTLYENV=window.PLOTLYENV || {};window.PLOTLYENV.BASE_URL=\"https://plot.ly\";Plotly.newPlot(\"74fd2c96-d03b-416b-9b52-449798c19ab7\", [{\"type\": \"scattergeo\", \"lat\": [0, 48.8566, 90], \"lon\": [2.3522, 2.3522, 0], \"mode\": \"lines\", \"marker\": {\"size\": 10, \"color\": \"rgba(152, 0, 0, .8)\", \"line\": {\"width\": 1, \"color\": \"rgb(152, 152, 0)\"}}, \"text\": [\"\", \"Paris, France\", \"North Pole\"]}], {\"title\": \"Original metre (one ten millionth of the length of the red line)<br>(Click and drag to rotate)\", \"showlegend\": false, \"geo\": {\"showland\": true, \"showlakes\": true, \"showcountries\": true, \"showocean\": true, \"countrywidth\": 0.5, \"landcolor\": \"rgb(51, 204, 51)\", \"lakecolor\": \"rgb(0, 204, 255)\", \"oceancolor\": \"rgb(0, 204, 255)\", \"projection\": {\"type\": \"orthographic\", \"rotation\": {\"lon\": -30, \"lat\": 30, \"roll\": 0}}, \"lonaxis\": {\"showgrid\": true, \"gridcolor\": \"rgb(102, 102, 102)\", \"gridwidth\": 0.5}, \"lataxis\": {\"showgrid\": true, \"gridcolor\": \"rgb(102, 102, 102)\", \"gridwidth\": 0.5}}}, {\"showLink\": true, \"linkText\": \"Export to plot.ly\"})});</script>"
      ],
      "text/vnd.plotly.v1+html": [
       "<div id=\"74fd2c96-d03b-416b-9b52-449798c19ab7\" style=\"height: 525px; width: 100%;\" class=\"plotly-graph-div\"></div><script type=\"text/javascript\">require([\"plotly\"], function(Plotly) { window.PLOTLYENV=window.PLOTLYENV || {};window.PLOTLYENV.BASE_URL=\"https://plot.ly\";Plotly.newPlot(\"74fd2c96-d03b-416b-9b52-449798c19ab7\", [{\"type\": \"scattergeo\", \"lat\": [0, 48.8566, 90], \"lon\": [2.3522, 2.3522, 0], \"mode\": \"lines\", \"marker\": {\"size\": 10, \"color\": \"rgba(152, 0, 0, .8)\", \"line\": {\"width\": 1, \"color\": \"rgb(152, 152, 0)\"}}, \"text\": [\"\", \"Paris, France\", \"North Pole\"]}], {\"title\": \"Original metre (one ten millionth of the length of the red line)<br>(Click and drag to rotate)\", \"showlegend\": false, \"geo\": {\"showland\": true, \"showlakes\": true, \"showcountries\": true, \"showocean\": true, \"countrywidth\": 0.5, \"landcolor\": \"rgb(51, 204, 51)\", \"lakecolor\": \"rgb(0, 204, 255)\", \"oceancolor\": \"rgb(0, 204, 255)\", \"projection\": {\"type\": \"orthographic\", \"rotation\": {\"lon\": -30, \"lat\": 30, \"roll\": 0}}, \"lonaxis\": {\"showgrid\": true, \"gridcolor\": \"rgb(102, 102, 102)\", \"gridwidth\": 0.5}, \"lataxis\": {\"showgrid\": true, \"gridcolor\": \"rgb(102, 102, 102)\", \"gridwidth\": 0.5}}}, {\"showLink\": true, \"linkText\": \"Export to plot.ly\"})});</script>"
      ]
     },
     "metadata": {},
     "output_type": "display_data"
    }
   ],
   "source": [
    "# Interactive globe with expedition to measure meter and the quarter great circle through the meridian of Paris.\n",
    "data = dict(\n",
    "    type = 'scattergeo',\n",
    "    lat = [0, 48.8566, 90], lon = [2.3522, 2.3522, 0],\n",
    "    mode = 'lines',\n",
    "    marker = dict(\n",
    "        size = 10,\n",
    "        color = 'rgba(152, 0, 0, .8)',\n",
    "        line = dict(\n",
    "            width = 1,\n",
    "            color = 'rgb(152, 152, 0)'\n",
    "        )\n",
    "    ),\n",
    "    text = ['','Paris, France','North Pole']\n",
    ")\n",
    "\n",
    "layout = dict(\n",
    "        title = 'Original metre (one ten millionth of the length of the red line)<br>(Click and drag to rotate)',\n",
    "        showlegend = False,         \n",
    "        geo = dict(\n",
    "            showland = True,\n",
    "            showlakes = True,\n",
    "            showcountries = True,\n",
    "            showocean = True,\n",
    "            countrywidth = 0.5,\n",
    "            landcolor = 'rgb(51, 204, 51)',\n",
    "            lakecolor = 'rgb(0, 204, 255)',\n",
    "            oceancolor = 'rgb(0, 204, 255)',\n",
    "            projection = dict( \n",
    "                type = 'orthographic',\n",
    "                rotation = dict(\n",
    "                    lon = -30,\n",
    "                    lat = 30,\n",
    "                    roll = 0\n",
    "                )            \n",
    "            ),\n",
    "            lonaxis = dict( \n",
    "                showgrid = True,\n",
    "                gridcolor = 'rgb(102, 102, 102)',\n",
    "                gridwidth = 0.5\n",
    "            ),\n",
    "            lataxis = dict( \n",
    "                showgrid = True,\n",
    "                gridcolor = 'rgb(102, 102, 102)',\n",
    "                gridwidth = 0.5\n",
    "            )\n",
    "        )\n",
    "    )\n",
    "\n",
    "fig = dict(data = [data], layout = layout)\n",
    "\n",
    "py.iplot(fig)"
   ]
  },
  {
   "cell_type": "markdown",
   "metadata": {},
   "source": [
    "Interactive conversion wheel between old and new measurements"
   ]
  },
  {
   "cell_type": "code",
   "execution_count": null,
   "metadata": {},
   "outputs": [],
   "source": []
  },
  {
   "cell_type": "markdown",
   "metadata": {},
   "source": [
    "The French metre was later updated when better measurements were available. After several international decision, the modern version of the metre was finally established. However, the original metre was the first unit of measurement that had some basis in a natural phenomenon that wasn't the length of a human body part."
   ]
  },
  {
   "cell_type": "markdown",
   "metadata": {},
   "source": [
    "## Canada's connection\n",
    "\n",
    "<img src=\"images/canada_flags.svg\" width = \"400\">\n",
    "*Canada's current flag and the 1868 flag.*"
   ]
  },
  {
   "cell_type": "markdown",
   "metadata": {},
   "source": [
    "Since Canada had been a British colony for so long, the confusing Imperial system of measurements was used. In 1970, the process of converting all Canadian measurements was begun under Prime Minister Pierre Trudeau. This process took years to complete, and even longer for people to get used to the new measurements. Even today, Imperial units linger in lots of places, such as tape measures (feet and inches), land surveys (acres), thermometers (degrees Fahrenheit), and cooking (cups, tablespoons, and teaspoons).\n",
    "\n",
    "<img src=\"images/MetricatedSpeedLimitSignBoltonON2011.jpg\" width=\"300\">\n",
    "*Maximum speed limit sign in Bolton, Ontario, from the metrization period of Canadian history. You can see the old MPH speed limit underneath the newer km/h limit. Photo credit by Kelisi - Own work, CC BY-SA 3.0.*\n",
    "\n",
    "Canada's conversion to the metric system had some terrifying consequences one day in 1983, when a series of conversion mistakes almost led to the crash of a Boeing 767."
   ]
  },
  {
   "cell_type": "markdown",
   "metadata": {},
   "source": [
    "## The Gimli Glider\n",
    "\n",
    "<img src=\"images/gimli_glider.jpg\" width=\"500\">\n",
    "\n",
    "Problem with Gimli Glider and confusion about metric/imperial measurements - funny part about repair team running out of gas on the way to help."
   ]
  },
  {
   "cell_type": "code",
   "execution_count": 4,
   "metadata": {},
   "outputs": [
    {
     "data": {
      "application/vnd.plotly.v1+json": {
       "data": [
        {
         "hoverinfo": "text",
         "lat": [
          45.3192,
          53.5444
         ],
         "line": {
          "color": "blue",
          "width": 2
         },
         "lon": [
          -75.6692,
          -113.4909
         ],
         "mode": "lines",
         "name": "Planned Flight Path",
         "text": [
          "Ottawa",
          "Edmonton"
         ],
         "type": "scattergeo"
        },
        {
         "hoverinfo": "text",
         "lat": [
          45.3192,
          51.0333,
          50.1489,
          50.6336
         ],
         "line": {
          "color": "red",
          "width": 2
         },
         "lon": [
          -75.6692,
          -93.8333,
          -95.8806,
          -96.99
         ],
         "mode": "lines",
         "name": "Actual Flight Path",
         "text": [
          "Take off from Ottawa",
          "Realize fuel is low - divert to Winnipeg",
          "Not enough fuel to make Winnipeg - divert to Gimli",
          "Crash land in Gimli"
         ],
         "type": "scattergeo"
        }
       ],
       "layout": {
        "geo": {
         "coastlinewidth": 2,
         "lakecolor": "rgb(255, 255, 255)",
         "landcolor": "rgb(204, 204, 204)",
         "lataxis": {
          "dtick": 10,
          "range": [
           45,
           60
          ],
          "showgrid": true,
          "tickmode": "linear"
         },
         "lonaxis": {
          "dtick": 20,
          "range": [
           -120,
           -60
          ],
          "showgrid": true,
          "tickmode": "linear"
         },
         "projection": {
          "type": "mercator"
         },
         "resolution": 25,
         "showlakes": true,
         "showland": true
        },
        "showlegend": true,
        "title": "Air Canada Flight 143"
       }
      },
      "text/html": [
       "<div id=\"daaa9575-3b9f-4264-9a91-7cd764f07215\" style=\"height: 525px; width: 100%;\" class=\"plotly-graph-div\"></div><script type=\"text/javascript\">require([\"plotly\"], function(Plotly) { window.PLOTLYENV=window.PLOTLYENV || {};window.PLOTLYENV.BASE_URL=\"https://plot.ly\";Plotly.newPlot(\"daaa9575-3b9f-4264-9a91-7cd764f07215\", [{\"type\": \"scattergeo\", \"name\": \"Planned Flight Path\", \"lat\": [45.3192, 53.5444], \"lon\": [-75.6692, -113.4909], \"hoverinfo\": \"text\", \"text\": [\"Ottawa\", \"Edmonton\"], \"mode\": \"lines\", \"line\": {\"width\": 2, \"color\": \"blue\"}}, {\"type\": \"scattergeo\", \"name\": \"Actual Flight Path\", \"lat\": [45.3192, 51.0333, 50.1489, 50.6336], \"lon\": [-75.6692, -93.8333, -95.8806, -96.99], \"hoverinfo\": \"text\", \"text\": [\"Take off from Ottawa\", \"Realize fuel is low - divert to Winnipeg\", \"Not enough fuel to make Winnipeg - divert to Gimli\", \"Crash land in Gimli\"], \"mode\": \"lines\", \"line\": {\"width\": 2, \"color\": \"red\"}}], {\"title\": \"Air Canada Flight 143\", \"showlegend\": true, \"geo\": {\"resolution\": 25, \"showland\": true, \"showlakes\": true, \"landcolor\": \"rgb(204, 204, 204)\", \"lakecolor\": \"rgb(255, 255, 255)\", \"projection\": {\"type\": \"mercator\"}, \"coastlinewidth\": 2, \"lataxis\": {\"range\": [45, 60], \"showgrid\": true, \"tickmode\": \"linear\", \"dtick\": 10}, \"lonaxis\": {\"range\": [-120, -60], \"showgrid\": true, \"tickmode\": \"linear\", \"dtick\": 20}}}, {\"showLink\": true, \"linkText\": \"Export to plot.ly\"})});</script>"
      ],
      "text/vnd.plotly.v1+html": [
       "<div id=\"daaa9575-3b9f-4264-9a91-7cd764f07215\" style=\"height: 525px; width: 100%;\" class=\"plotly-graph-div\"></div><script type=\"text/javascript\">require([\"plotly\"], function(Plotly) { window.PLOTLYENV=window.PLOTLYENV || {};window.PLOTLYENV.BASE_URL=\"https://plot.ly\";Plotly.newPlot(\"daaa9575-3b9f-4264-9a91-7cd764f07215\", [{\"type\": \"scattergeo\", \"name\": \"Planned Flight Path\", \"lat\": [45.3192, 53.5444], \"lon\": [-75.6692, -113.4909], \"hoverinfo\": \"text\", \"text\": [\"Ottawa\", \"Edmonton\"], \"mode\": \"lines\", \"line\": {\"width\": 2, \"color\": \"blue\"}}, {\"type\": \"scattergeo\", \"name\": \"Actual Flight Path\", \"lat\": [45.3192, 51.0333, 50.1489, 50.6336], \"lon\": [-75.6692, -93.8333, -95.8806, -96.99], \"hoverinfo\": \"text\", \"text\": [\"Take off from Ottawa\", \"Realize fuel is low - divert to Winnipeg\", \"Not enough fuel to make Winnipeg - divert to Gimli\", \"Crash land in Gimli\"], \"mode\": \"lines\", \"line\": {\"width\": 2, \"color\": \"red\"}}], {\"title\": \"Air Canada Flight 143\", \"showlegend\": true, \"geo\": {\"resolution\": 25, \"showland\": true, \"showlakes\": true, \"landcolor\": \"rgb(204, 204, 204)\", \"lakecolor\": \"rgb(255, 255, 255)\", \"projection\": {\"type\": \"mercator\"}, \"coastlinewidth\": 2, \"lataxis\": {\"range\": [45, 60], \"showgrid\": true, \"tickmode\": \"linear\", \"dtick\": 10}, \"lonaxis\": {\"range\": [-120, -60], \"showgrid\": true, \"tickmode\": \"linear\", \"dtick\": 20}}}, {\"showLink\": true, \"linkText\": \"Export to plot.ly\"})});</script>"
      ]
     },
     "metadata": {},
     "output_type": "display_data"
    }
   ],
   "source": [
    "ottawa_edmonton = [ dict(\n",
    "    type = 'scattergeo',\n",
    "    name = 'Planned Flight Path',\n",
    "    lat = [45.3192, 53.5444],\n",
    "    lon = [-75.6692, -113.4909],\n",
    "    hoverinfo = 'text',\n",
    "    text = ['Ottawa', 'Edmonton'],\n",
    "    mode = 'lines',\n",
    "    line = dict(\n",
    "        width = 2,\n",
    "        color = 'blue',\n",
    "    ),\n",
    ") ]\n",
    "\n",
    "ottawa_gimli = [ dict(\n",
    "    type = 'scattergeo',\n",
    "    name = 'Actual Flight Path',\n",
    "    lat = [45.3192, 51.0333, 50.1489, 50.6336],\n",
    "    lon = [-75.6692, -93.8333, -95.8806, -96.99],\n",
    "    hoverinfo = 'text',\n",
    "    text = ['Take off from Ottawa', 'Realize fuel is low - divert to Winnipeg', 'Not enough fuel to make Winnipeg - divert to Gimli', 'Crash land in Gimli'],\n",
    "    mode = 'lines',\n",
    "    line = dict(\n",
    "        width = 2,\n",
    "        color = 'red',\n",
    "    ),\n",
    ") ]\n",
    "    \n",
    "layout = dict(\n",
    "        title = 'Air Canada Flight 143',\n",
    "        showlegend = True,         \n",
    "        geo = dict(\n",
    "            resolution = 25,\n",
    "            showland = True,\n",
    "            showlakes = True,\n",
    "            landcolor = 'rgb(204, 204, 204)',\n",
    "            lakecolor = 'rgb(255, 255, 255)',\n",
    "            projection = dict( type=\"mercator\" ),\n",
    "            coastlinewidth = 2,\n",
    "            lataxis = dict(\n",
    "                range = [ 45, 60 ],\n",
    "                showgrid = True,\n",
    "                tickmode = \"linear\",\n",
    "                dtick = 10\n",
    "            ),\n",
    "            lonaxis = dict(\n",
    "                range = [-120, -60],\n",
    "                showgrid = True,\n",
    "                tickmode = \"linear\",\n",
    "                dtick = 20\n",
    "            ),\n",
    "        )\n",
    "    )\n",
    "    \n",
    "fig = dict( data=ottawa_edmonton + ottawa_gimli, layout=layout )\n",
    "py.iplot( fig, validate=False )"
   ]
  },
  {
   "cell_type": "markdown",
   "metadata": {},
   "source": [
    " # Summary"
   ]
  },
  {
   "cell_type": "markdown",
   "metadata": {},
   "source": [
    "## Creating Your Own Report"
   ]
  },
  {
   "cell_type": "markdown",
   "metadata": {},
   "source": [
    "# References\n",
    "\n",
    "<ul>\n",
    "    <li> Monge portrait by François Séraphin Delpech - http://www.sil.si.edu/digitalcollections/hst/scientific-identity/CF/by_name_display_results.cfm?scientist=Monge,%20Gaspard, Public Domain. </li>\n",
    "    <li> Laplace portrait by Jean-Baptiste Paulin Guérin - http://www.photo.rmn.fr/, Public Domain. </li>\n",
    "    <li> Legendre portrait by Julien-Léopold Boilly - http://www.numericana.com/answer/record.htm#legendre where it was cropped from here, Public Domain, https://commons.wikimedia.org/w/index.php?curid=6092195. </li>\n",
    "    <li> De Condorcet portrait, Anonymous, http://www.allposters.com/gallery.asp?startat=/getPoster.asp&CID=6280537630C4496D95970E4DF46A24BF&frameSku=1735750_4986654-3893332 - Public Domain.\n",
    "    <li> Asimov, I. (1960). *Realm of Measure*. Fawcett Publications. </li>\n",
    "</ul>"
   ]
  },
  {
   "cell_type": "markdown",
   "metadata": {},
   "source": [
    "<img src=\"images/callysto-bottom-banner.jpg\">"
   ]
  }
 ],
 "metadata": {
  "kernelspec": {
   "display_name": "Python 3",
   "language": "python",
   "name": "python3"
  },
  "language_info": {
   "codemirror_mode": {
    "name": "ipython",
    "version": 3
   },
   "file_extension": ".py",
   "mimetype": "text/x-python",
   "name": "python",
   "nbconvert_exporter": "python",
   "pygments_lexer": "ipython3",
   "version": "3.6.1"
  }
 },
 "nbformat": 4,
 "nbformat_minor": 2
}

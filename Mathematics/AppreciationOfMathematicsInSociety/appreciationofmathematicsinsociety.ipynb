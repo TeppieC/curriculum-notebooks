{
 "cells": [
  {
   "cell_type": "code",
   "execution_count": 1,
   "metadata": {},
   "outputs": [
    {
     "data": {
      "text/html": [
       "<script>requirejs.config({paths: { 'plotly': ['https://cdn.plot.ly/plotly-latest.min']},});if(!window.Plotly) {{require(['plotly'],function(plotly) {window.Plotly=plotly;});}}</script>"
      ],
      "text/vnd.plotly.v1+html": [
       "<script>requirejs.config({paths: { 'plotly': ['https://cdn.plot.ly/plotly-latest.min']},});if(!window.Plotly) {{require(['plotly'],function(plotly) {window.Plotly=plotly;});}}</script>"
      ]
     },
     "metadata": {},
     "output_type": "display_data"
    }
   ],
   "source": [
    "# Import statements go here\n",
    "import plotly.offline as py\n",
    "import plotly.graph_objs as go\n",
    "import numpy as np\n",
    "\n",
    "py.init_notebook_mode(connected=True)"
   ]
  },
  {
   "cell_type": "markdown",
   "metadata": {},
   "source": [
    "<img src=\"images/ruler.png\">"
   ]
  },
  {
   "cell_type": "markdown",
   "metadata": {},
   "source": [
    "# Introduction\n",
    "\n",
    "![]()"
   ]
  },
  {
   "cell_type": "markdown",
   "metadata": {},
   "source": [
    "# Background\n",
    "\n",
    "Introduction of the metric system - French revolution - Laplace, Lagrange, Monge - a list of other inconvenient and obscure units of measurement is found at https://en.wikipedia.org/wiki/List_of_unusual_units_of_measurement.\n",
    "\n",
    "<img src=\"images/metric-stamp.jpg\" width=\"200\">"
   ]
  },
  {
   "cell_type": "markdown",
   "metadata": {},
   "source": [
    "Original source of the meter - astronomers Delambre and Mechain."
   ]
  },
  {
   "cell_type": "code",
   "execution_count": 2,
   "metadata": {},
   "outputs": [
    {
     "data": {
      "application/vnd.plotly.v1+json": {
       "data": [
        {
         "lat": [
          0,
          48.8566,
          90
         ],
         "lon": [
          2.3522,
          2.3522,
          0
         ],
         "marker": {
          "color": "rgba(152, 0, 0, .8)",
          "line": {
           "color": "rgb(152, 152, 0)",
           "width": 1
          },
          "size": 10
         },
         "mode": "lines",
         "text": [
          "",
          "Paris",
          "North Pole"
         ],
         "type": "scattergeo"
        }
       ],
       "layout": {
        "geo": {
         "countrywidth": 0.5,
         "lakecolor": "rgb(0, 204, 255)",
         "landcolor": "rgb(51, 204, 51)",
         "lataxis": {
          "gridcolor": "rgb(102, 102, 102)",
          "gridwidth": 0.5,
          "showgrid": true
         },
         "lonaxis": {
          "gridcolor": "rgb(102, 102, 102)",
          "gridwidth": 0.5,
          "showgrid": true
         },
         "oceancolor": "rgb(0, 204, 255)",
         "projection": {
          "rotation": {
           "lat": 30,
           "lon": -30,
           "roll": 0
          },
          "type": "orthographic"
         },
         "showcountries": true,
         "showlakes": true,
         "showland": true,
         "showocean": true
        },
        "showlegend": false,
        "title": "Original metre (one ten millionth of the length of the red line)<br>(Click and drag to rotate)"
       }
      },
      "text/html": [
       "<div id=\"ffc4d220-57ea-497c-b2b3-87218617ccd0\" style=\"height: 525px; width: 100%;\" class=\"plotly-graph-div\"></div><script type=\"text/javascript\">require([\"plotly\"], function(Plotly) { window.PLOTLYENV=window.PLOTLYENV || {};window.PLOTLYENV.BASE_URL=\"https://plot.ly\";Plotly.newPlot(\"ffc4d220-57ea-497c-b2b3-87218617ccd0\", [{\"type\": \"scattergeo\", \"lat\": [0, 48.8566, 90], \"lon\": [2.3522, 2.3522, 0], \"mode\": \"lines\", \"marker\": {\"size\": 10, \"color\": \"rgba(152, 0, 0, .8)\", \"line\": {\"width\": 1, \"color\": \"rgb(152, 152, 0)\"}}, \"text\": [\"\", \"Paris\", \"North Pole\"]}], {\"title\": \"Original metre (one ten millionth of the length of the red line)<br>(Click and drag to rotate)\", \"showlegend\": false, \"geo\": {\"showland\": true, \"showlakes\": true, \"showcountries\": true, \"showocean\": true, \"countrywidth\": 0.5, \"landcolor\": \"rgb(51, 204, 51)\", \"lakecolor\": \"rgb(0, 204, 255)\", \"oceancolor\": \"rgb(0, 204, 255)\", \"projection\": {\"type\": \"orthographic\", \"rotation\": {\"lon\": -30, \"lat\": 30, \"roll\": 0}}, \"lonaxis\": {\"showgrid\": true, \"gridcolor\": \"rgb(102, 102, 102)\", \"gridwidth\": 0.5}, \"lataxis\": {\"showgrid\": true, \"gridcolor\": \"rgb(102, 102, 102)\", \"gridwidth\": 0.5}}}, {\"showLink\": true, \"linkText\": \"Export to plot.ly\"})});</script>"
      ],
      "text/vnd.plotly.v1+html": [
       "<div id=\"ffc4d220-57ea-497c-b2b3-87218617ccd0\" style=\"height: 525px; width: 100%;\" class=\"plotly-graph-div\"></div><script type=\"text/javascript\">require([\"plotly\"], function(Plotly) { window.PLOTLYENV=window.PLOTLYENV || {};window.PLOTLYENV.BASE_URL=\"https://plot.ly\";Plotly.newPlot(\"ffc4d220-57ea-497c-b2b3-87218617ccd0\", [{\"type\": \"scattergeo\", \"lat\": [0, 48.8566, 90], \"lon\": [2.3522, 2.3522, 0], \"mode\": \"lines\", \"marker\": {\"size\": 10, \"color\": \"rgba(152, 0, 0, .8)\", \"line\": {\"width\": 1, \"color\": \"rgb(152, 152, 0)\"}}, \"text\": [\"\", \"Paris\", \"North Pole\"]}], {\"title\": \"Original metre (one ten millionth of the length of the red line)<br>(Click and drag to rotate)\", \"showlegend\": false, \"geo\": {\"showland\": true, \"showlakes\": true, \"showcountries\": true, \"showocean\": true, \"countrywidth\": 0.5, \"landcolor\": \"rgb(51, 204, 51)\", \"lakecolor\": \"rgb(0, 204, 255)\", \"oceancolor\": \"rgb(0, 204, 255)\", \"projection\": {\"type\": \"orthographic\", \"rotation\": {\"lon\": -30, \"lat\": 30, \"roll\": 0}}, \"lonaxis\": {\"showgrid\": true, \"gridcolor\": \"rgb(102, 102, 102)\", \"gridwidth\": 0.5}, \"lataxis\": {\"showgrid\": true, \"gridcolor\": \"rgb(102, 102, 102)\", \"gridwidth\": 0.5}}}, {\"showLink\": true, \"linkText\": \"Export to plot.ly\"})});</script>"
      ]
     },
     "metadata": {},
     "output_type": "display_data"
    }
   ],
   "source": [
    "# Interactive globe with expedition to measure meter and the quarter great circle through the meridian of Paris.\n",
    "data = dict(\n",
    "    type = 'scattergeo',\n",
    "    lat = [0, 48.8566, 90], lon = [2.3522, 2.3522, 0],\n",
    "    mode = 'lines',\n",
    "    marker = dict(\n",
    "        size = 10,\n",
    "        color = 'rgba(152, 0, 0, .8)',\n",
    "        line = dict(\n",
    "            width = 1,\n",
    "            color = 'rgb(152, 152, 0)'\n",
    "        )\n",
    "    ),\n",
    "    text = ['','Paris','North Pole']\n",
    ")\n",
    "\n",
    "layout = dict(\n",
    "        title = 'Original metre (one ten millionth of the length of the red line)<br>(Click and drag to rotate)',\n",
    "        showlegend = False,         \n",
    "        geo = dict(\n",
    "            showland = True,\n",
    "            showlakes = True,\n",
    "            showcountries = True,\n",
    "            showocean = True,\n",
    "            countrywidth = 0.5,\n",
    "            landcolor = 'rgb(51, 204, 51)',\n",
    "            lakecolor = 'rgb(0, 204, 255)',\n",
    "            oceancolor = 'rgb(0, 204, 255)',\n",
    "            projection = dict( \n",
    "                type = 'orthographic',\n",
    "                rotation = dict(\n",
    "                    lon = -30,\n",
    "                    lat = 30,\n",
    "                    roll = 0\n",
    "                )            \n",
    "            ),\n",
    "            lonaxis = dict( \n",
    "                showgrid = True,\n",
    "                gridcolor = 'rgb(102, 102, 102)',\n",
    "                gridwidth = 0.5\n",
    "            ),\n",
    "            lataxis = dict( \n",
    "                showgrid = True,\n",
    "                gridcolor = 'rgb(102, 102, 102)',\n",
    "                gridwidth = 0.5\n",
    "            )\n",
    "        )\n",
    "    )\n",
    "\n",
    "fig = dict(data = [data], layout = layout)\n",
    "\n",
    "py.iplot(fig)"
   ]
  },
  {
   "cell_type": "markdown",
   "metadata": {},
   "source": [
    "But how did Delambre and Mechain know how long a quarter of a great circle was? The two scientists first measured the distance of an arc between Dunkirk and Barcelona, and then extrapolated that distance. Delambre took the North part of the journey, measuring the distance between Dunkirk and Rodez. Mechain took the South part, measuring the distance between Rodez and Barcelona."
   ]
  },
  {
   "cell_type": "code",
   "execution_count": 3,
   "metadata": {},
   "outputs": [],
   "source": [
    "# Interactive plot of expeditions of Delambre and Mechain\n"
   ]
  },
  {
   "cell_type": "markdown",
   "metadata": {},
   "source": [
    "Interactive conversion wheel between old and new measurements"
   ]
  },
  {
   "cell_type": "code",
   "execution_count": null,
   "metadata": {},
   "outputs": [],
   "source": []
  },
  {
   "cell_type": "markdown",
   "metadata": {},
   "source": [
    "The French metre was later updated when better measurements were available. However, the original metre was the first unit of measurement that had some basis in a natural phenomenon that wasn't the length of a human body part."
   ]
  },
  {
   "cell_type": "markdown",
   "metadata": {},
   "source": [
    "## Canada's connection\n",
    "\n",
    "<img src=\"images/canada_flags.svg\" width = \"400\">\n",
    "*Canada's current flag and the 1868 flag.*"
   ]
  },
  {
   "cell_type": "markdown",
   "metadata": {},
   "source": [
    "Brief history of Canada's measurements.\n",
    "\n",
    "Metrization of Canada's measurements.\n",
    "\n",
    "<img src=\"images/MetricatedSpeedLimitSignBoltonON2011.jpg\" width=\"300\">"
   ]
  },
  {
   "cell_type": "markdown",
   "metadata": {},
   "source": [
    "<img src=\"images/gimli_glider.jpg\" width=\"500\">\n",
    "\n",
    "Problem with Gimli Glider and confusion about metric/imperial measurements - funny part about repair team running out of gas on the way to help."
   ]
  },
  {
   "cell_type": "code",
   "execution_count": 12,
   "metadata": {},
   "outputs": [
    {
     "data": {
      "text/html": [
       "\n",
       "<canvas id=\"myCanvas\" width=\"480\" height=\"320\"></canvas>\n",
       "\n",
       "<script>\n",
       "    //\"use strict\";\n",
       "\n",
       "    function main() {\n",
       "      // Get A WebGL context\n",
       "      /** @type {HTMLCanvasElement} */\n",
       "      var canvas = document.getElementById(\"myCanvas\");\n",
       "      var gl = canvas.getContext(\"webgl\");\n",
       "      if (!gl) {\n",
       "        return;\n",
       "      }\n",
       "\n",
       "      // setup GLSL program\n",
       "      var program = webglUtils.createProgramFromScripts(gl, [\"2d-vertex-shader\", \"2d-fragment-shader\"]);\n",
       "\n",
       "      // look up where the vertex data needs to go.\n",
       "      var positionLocation = gl.getAttribLocation(program, \"a_position\");\n",
       "\n",
       "      // lookup uniforms\n",
       "      var resolutionLocation = gl.getUniformLocation(program, \"u_resolution\");\n",
       "      var colorLocation = gl.getUniformLocation(program, \"u_color\");\n",
       "      var translationLocation = gl.getUniformLocation(program, \"u_translation\");\n",
       "      var rotationLocation = gl.getUniformLocation(program, \"u_rotation\");\n",
       "\n",
       "      // Create a buffer to put positions in\n",
       "      var positionBuffer = gl.createBuffer();\n",
       "      // Bind it to ARRAY_BUFFER (think of it as ARRAY_BUFFER = positionBuffer)\n",
       "      gl.bindBuffer(gl.ARRAY_BUFFER, positionBuffer);\n",
       "      // Put geometry data into buffer\n",
       "      setGeometry(gl);\n",
       "\n",
       "      var translation = [100, 150];\n",
       "      var rotation = [0, 1];\n",
       "      var color = [Math.random(), Math.random(), Math.random(), 1];\n",
       "\n",
       "      drawScene();\n",
       "\n",
       "      // Setup a ui.\n",
       "      webglLessonsUI.setupSlider(\"#x\", {value: translation[0], slide: updatePosition(0), max: gl.canvas.width });\n",
       "      webglLessonsUI.setupSlider(\"#y\", {value: translation[1], slide: updatePosition(1), max: gl.canvas.height});\n",
       "      $(\"#rotation\").gmanUnitCircle({\n",
       "        width: 200,\n",
       "        height: 200,\n",
       "        value: 0,\n",
       "        slide: function(e,u) {\n",
       "          rotation[0] = u.x;\n",
       "          rotation[1] = u.y;\n",
       "          drawScene();\n",
       "        }\n",
       "      });\n",
       "\n",
       "      function updatePosition(index) {\n",
       "        return function(event, ui) {\n",
       "          translation[index] = ui.value;\n",
       "          drawScene();\n",
       "        }\n",
       "      }\n",
       "\n",
       "      // Draw the scene.\n",
       "      function drawScene() {\n",
       "        webglUtils.resizeCanvasToDisplaySize(gl.canvas);\n",
       "\n",
       "        // Tell WebGL how to convert from clip space to pixels\n",
       "        gl.viewport(0, 0, gl.canvas.width, gl.canvas.height);\n",
       "\n",
       "        // Clear the canvas.\n",
       "        gl.clear(gl.COLOR_BUFFER_BIT);\n",
       "\n",
       "        // Tell it to use our program (pair of shaders)\n",
       "        gl.useProgram(program);\n",
       "\n",
       "        // Turn on the attribute\n",
       "        gl.enableVertexAttribArray(positionLocation);\n",
       "\n",
       "        // Bind the position buffer.\n",
       "        gl.bindBuffer(gl.ARRAY_BUFFER, positionBuffer);\n",
       "\n",
       "        // Tell the attribute how to get data out of positionBuffer (ARRAY_BUFFER)\n",
       "        var size = 2;          // 2 components per iteration\n",
       "        var type = gl.FLOAT;   // the data is 32bit floats\n",
       "        var normalize = false; // don't normalize the data\n",
       "        var stride = 0;        // 0 = move forward size * sizeof(type) each iteration to get the next position\n",
       "        var offset = 0;        // start at the beginning of the buffer\n",
       "        gl.vertexAttribPointer(\n",
       "            positionLocation, size, type, normalize, stride, offset)\n",
       "\n",
       "        // set the resolution\n",
       "        gl.uniform2f(resolutionLocation, gl.canvas.width, gl.canvas.height);\n",
       "\n",
       "        // set the color\n",
       "        gl.uniform4fv(colorLocation, color);\n",
       "\n",
       "        // Set the translation.\n",
       "        gl.uniform2fv(translationLocation, translation);\n",
       "\n",
       "        // Set the rotation.\n",
       "        gl.uniform2fv(rotationLocation, rotation);\n",
       "      }\n",
       "    }\n",
       "\n",
       "    \n",
       "    $(function(){\n",
       "      main();\n",
       "    });\n",
       "</script>"
      ],
      "text/plain": [
       "<IPython.core.display.HTML object>"
      ]
     },
     "metadata": {},
     "output_type": "display_data"
    }
   ],
   "source": [
    "%%html\n",
    "\n",
    "<canvas id=\"myCanvas\" width=\"480\" height=\"320\"></canvas>\n",
    "\n",
    "<script>\n",
    "    //\"use strict\";\n",
    "\n",
    "    function main() {\n",
    "      // Get A WebGL context\n",
    "      /** @type {HTMLCanvasElement} */\n",
    "      var canvas = document.getElementById(\"myCanvas\");\n",
    "      var gl = canvas.getContext(\"webgl\");\n",
    "      if (!gl) {\n",
    "        return;\n",
    "      }\n",
    "\n",
    "      // setup GLSL program\n",
    "      var program = webglUtils.createProgramFromScripts(gl, [\"2d-vertex-shader\", \"2d-fragment-shader\"]);\n",
    "\n",
    "      // look up where the vertex data needs to go.\n",
    "      var positionLocation = gl.getAttribLocation(program, \"a_position\");\n",
    "\n",
    "      // lookup uniforms\n",
    "      var resolutionLocation = gl.getUniformLocation(program, \"u_resolution\");\n",
    "      var colorLocation = gl.getUniformLocation(program, \"u_color\");\n",
    "      var translationLocation = gl.getUniformLocation(program, \"u_translation\");\n",
    "      var rotationLocation = gl.getUniformLocation(program, \"u_rotation\");\n",
    "\n",
    "      // Create a buffer to put positions in\n",
    "      var positionBuffer = gl.createBuffer();\n",
    "      // Bind it to ARRAY_BUFFER (think of it as ARRAY_BUFFER = positionBuffer)\n",
    "      gl.bindBuffer(gl.ARRAY_BUFFER, positionBuffer);\n",
    "      // Put geometry data into buffer\n",
    "      setGeometry(gl);\n",
    "\n",
    "      var translation = [100, 150];\n",
    "      var rotation = [0, 1];\n",
    "      var color = [Math.random(), Math.random(), Math.random(), 1];\n",
    "\n",
    "      drawScene();\n",
    "\n",
    "      // Setup a ui.\n",
    "      webglLessonsUI.setupSlider(\"#x\", {value: translation[0], slide: updatePosition(0), max: gl.canvas.width });\n",
    "      webglLessonsUI.setupSlider(\"#y\", {value: translation[1], slide: updatePosition(1), max: gl.canvas.height});\n",
    "      $(\"#rotation\").gmanUnitCircle({\n",
    "        width: 200,\n",
    "        height: 200,\n",
    "        value: 0,\n",
    "        slide: function(e,u) {\n",
    "          rotation[0] = u.x;\n",
    "          rotation[1] = u.y;\n",
    "          drawScene();\n",
    "        }\n",
    "      });\n",
    "\n",
    "      function updatePosition(index) {\n",
    "        return function(event, ui) {\n",
    "          translation[index] = ui.value;\n",
    "          drawScene();\n",
    "        }\n",
    "      }\n",
    "\n",
    "      // Draw the scene.\n",
    "      function drawScene() {\n",
    "        webglUtils.resizeCanvasToDisplaySize(gl.canvas);\n",
    "\n",
    "        // Tell WebGL how to convert from clip space to pixels\n",
    "        gl.viewport(0, 0, gl.canvas.width, gl.canvas.height);\n",
    "\n",
    "        // Clear the canvas.\n",
    "        gl.clear(gl.COLOR_BUFFER_BIT);\n",
    "\n",
    "        // Tell it to use our program (pair of shaders)\n",
    "        gl.useProgram(program);\n",
    "\n",
    "        // Turn on the attribute\n",
    "        gl.enableVertexAttribArray(positionLocation);\n",
    "\n",
    "        // Bind the position buffer.\n",
    "        gl.bindBuffer(gl.ARRAY_BUFFER, positionBuffer);\n",
    "\n",
    "        // Tell the attribute how to get data out of positionBuffer (ARRAY_BUFFER)\n",
    "        var size = 2;          // 2 components per iteration\n",
    "        var type = gl.FLOAT;   // the data is 32bit floats\n",
    "        var normalize = false; // don't normalize the data\n",
    "        var stride = 0;        // 0 = move forward size * sizeof(type) each iteration to get the next position\n",
    "        var offset = 0;        // start at the beginning of the buffer\n",
    "        gl.vertexAttribPointer(\n",
    "            positionLocation, size, type, normalize, stride, offset)\n",
    "\n",
    "        // set the resolution\n",
    "        gl.uniform2f(resolutionLocation, gl.canvas.width, gl.canvas.height);\n",
    "\n",
    "        // set the color\n",
    "        gl.uniform4fv(colorLocation, color);\n",
    "\n",
    "        // Set the translation.\n",
    "        gl.uniform2fv(translationLocation, translation);\n",
    "\n",
    "        // Set the rotation.\n",
    "        gl.uniform2fv(rotationLocation, rotation);\n",
    "      }\n",
    "    }\n",
    "\n",
    "    \n",
    "    $(function(){\n",
    "      main();\n",
    "    });\n",
    "</script>"
   ]
  },
  {
   "cell_type": "markdown",
   "metadata": {},
   "source": [
    "* Keep writing Javascript game based on principles in tutorial at https://developer.mozilla.org/en-US/docs/Games/Tutorials/2D_Breakout_game_pure_JavaScript/Game_over"
   ]
  },
  {
   "cell_type": "code",
   "execution_count": null,
   "metadata": {},
   "outputs": [],
   "source": []
  },
  {
   "cell_type": "code",
   "execution_count": null,
   "metadata": {},
   "outputs": [],
   "source": []
  }
 ],
 "metadata": {
  "kernelspec": {
   "display_name": "Python 3",
   "language": "python",
   "name": "python3"
  },
  "language_info": {
   "codemirror_mode": {
    "name": "ipython",
    "version": 3
   },
   "file_extension": ".py",
   "mimetype": "text/x-python",
   "name": "python",
   "nbconvert_exporter": "python",
   "pygments_lexer": "ipython3",
   "version": "3.6.5"
  }
 },
 "nbformat": 4,
 "nbformat_minor": 2
}

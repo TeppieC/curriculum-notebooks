{
 "cells": [
  {
   "cell_type": "markdown",
   "metadata": {},
   "source": [
    "![Callysto.ca Banner](https://github.com/callysto/curriculum-notebooks/blob/master/callysto-notebook-banner-top.jpg?raw=true)\n",
    "\n",
    "<a href=\"https://hub.callysto.ca/jupyter/hub/user-redirect/git-pull?repo=https%3A%2F%2Fgithub.com%2Fcallysto%2Fcurriculum-notebooks&branch=master&subPath=Mathematics/StatisticsProject/AccessingData/google-search-trends.ipynb&depth=1\" target=\"_parent\"><img src=\"https://raw.githubusercontent.com/callysto/curriculum-notebooks/master/open-in-callysto-button.svg?sanitize=true\" width=\"123\" height=\"24\" alt=\"Open in Callysto\"/></a>"
   ]
  },
  {
   "cell_type": "markdown",
   "metadata": {},
   "source": [
    "# Google Trends\n",
    "\n",
    "Google Trends has data going back to January 1, 2004 about the frequencies of search terms, which can be imported into a pandas DataFrame using the [pytrends](https://github.com/GeneralMills/pytrends) library.\n",
    "\n",
    "We can use various [methods](https://github.com/GeneralMills/pytrends#api-methods) such as `interest_over_time()` or `interest_by_region`."
   ]
  },
  {
   "cell_type": "code",
   "execution_count": 1,
   "metadata": {},
   "outputs": [
    {
     "name": "stdout",
     "output_type": "stream",
     "text": [
      "Requirement already satisfied: pytrends in /home/mikel/.local/lib/python3.7/site-packages (4.7.3)\n",
      "Requirement already satisfied: lxml in /home/mikel/anaconda3/lib/python3.7/site-packages (from pytrends) (4.4.1)\n",
      "Requirement already satisfied: pandas>=0.25 in /home/mikel/anaconda3/lib/python3.7/site-packages (from pytrends) (0.25.1)\n",
      "Requirement already satisfied: requests in /home/mikel/anaconda3/lib/python3.7/site-packages (from pytrends) (2.22.0)\n",
      "Requirement already satisfied: python-dateutil>=2.6.1 in /home/mikel/anaconda3/lib/python3.7/site-packages (from pandas>=0.25->pytrends) (2.8.0)\n",
      "Requirement already satisfied: numpy>=1.13.3 in /home/mikel/anaconda3/lib/python3.7/site-packages (from pandas>=0.25->pytrends) (1.17.2)\n",
      "Requirement already satisfied: pytz>=2017.2 in /home/mikel/anaconda3/lib/python3.7/site-packages (from pandas>=0.25->pytrends) (2019.3)\n",
      "Requirement already satisfied: idna<2.9,>=2.5 in /home/mikel/anaconda3/lib/python3.7/site-packages (from requests->pytrends) (2.8)\n",
      "Requirement already satisfied: urllib3!=1.25.0,!=1.25.1,<1.26,>=1.21.1 in /home/mikel/anaconda3/lib/python3.7/site-packages (from requests->pytrends) (1.24.2)\n",
      "Requirement already satisfied: chardet<3.1.0,>=3.0.2 in /home/mikel/anaconda3/lib/python3.7/site-packages (from requests->pytrends) (3.0.4)\n",
      "Requirement already satisfied: certifi>=2017.4.17 in /home/mikel/anaconda3/lib/python3.7/site-packages (from requests->pytrends) (2019.9.11)\n",
      "Requirement already satisfied: six>=1.5 in /home/mikel/anaconda3/lib/python3.7/site-packages (from python-dateutil>=2.6.1->pandas>=0.25->pytrends) (1.12.0)\n"
     ]
    }
   ],
   "source": [
    "#install the pytrends package\n",
    "!pip install --user pytrends                     "
   ]
  },
  {
   "cell_type": "code",
   "execution_count": 2,
   "metadata": {},
   "outputs": [
    {
     "data": {
      "text/html": [
       "<div>\n",
       "<style scoped>\n",
       "    .dataframe tbody tr th:only-of-type {\n",
       "        vertical-align: middle;\n",
       "    }\n",
       "\n",
       "    .dataframe tbody tr th {\n",
       "        vertical-align: top;\n",
       "    }\n",
       "\n",
       "    .dataframe thead th {\n",
       "        text-align: right;\n",
       "    }\n",
       "</style>\n",
       "<table border=\"1\" class=\"dataframe\">\n",
       "  <thead>\n",
       "    <tr style=\"text-align: right;\">\n",
       "      <th></th>\n",
       "      <th>Mars</th>\n",
       "      <th>Venus</th>\n",
       "      <th>isPartial</th>\n",
       "    </tr>\n",
       "    <tr>\n",
       "      <th>date</th>\n",
       "      <th></th>\n",
       "      <th></th>\n",
       "      <th></th>\n",
       "    </tr>\n",
       "  </thead>\n",
       "  <tbody>\n",
       "    <tr>\n",
       "      <td>2015-09-27</td>\n",
       "      <td>100</td>\n",
       "      <td>17</td>\n",
       "      <td>False</td>\n",
       "    </tr>\n",
       "    <tr>\n",
       "      <td>2015-10-04</td>\n",
       "      <td>42</td>\n",
       "      <td>15</td>\n",
       "      <td>False</td>\n",
       "    </tr>\n",
       "    <tr>\n",
       "      <td>2015-10-11</td>\n",
       "      <td>39</td>\n",
       "      <td>17</td>\n",
       "      <td>False</td>\n",
       "    </tr>\n",
       "    <tr>\n",
       "      <td>2015-10-18</td>\n",
       "      <td>37</td>\n",
       "      <td>15</td>\n",
       "      <td>False</td>\n",
       "    </tr>\n",
       "    <tr>\n",
       "      <td>2015-10-25</td>\n",
       "      <td>36</td>\n",
       "      <td>15</td>\n",
       "      <td>False</td>\n",
       "    </tr>\n",
       "    <tr>\n",
       "      <td>...</td>\n",
       "      <td>...</td>\n",
       "      <td>...</td>\n",
       "      <td>...</td>\n",
       "    </tr>\n",
       "    <tr>\n",
       "      <td>2020-08-16</td>\n",
       "      <td>21</td>\n",
       "      <td>15</td>\n",
       "      <td>False</td>\n",
       "    </tr>\n",
       "    <tr>\n",
       "      <td>2020-08-23</td>\n",
       "      <td>23</td>\n",
       "      <td>14</td>\n",
       "      <td>False</td>\n",
       "    </tr>\n",
       "    <tr>\n",
       "      <td>2020-08-30</td>\n",
       "      <td>22</td>\n",
       "      <td>16</td>\n",
       "      <td>False</td>\n",
       "    </tr>\n",
       "    <tr>\n",
       "      <td>2020-09-06</td>\n",
       "      <td>27</td>\n",
       "      <td>15</td>\n",
       "      <td>False</td>\n",
       "    </tr>\n",
       "    <tr>\n",
       "      <td>2020-09-13</td>\n",
       "      <td>26</td>\n",
       "      <td>36</td>\n",
       "      <td>True</td>\n",
       "    </tr>\n",
       "  </tbody>\n",
       "</table>\n",
       "<p>260 rows × 3 columns</p>\n",
       "</div>"
      ],
      "text/plain": [
       "            Mars  Venus isPartial\n",
       "date                             \n",
       "2015-09-27   100     17     False\n",
       "2015-10-04    42     15     False\n",
       "2015-10-11    39     17     False\n",
       "2015-10-18    37     15     False\n",
       "2015-10-25    36     15     False\n",
       "...          ...    ...       ...\n",
       "2020-08-16    21     15     False\n",
       "2020-08-23    23     14     False\n",
       "2020-08-30    22     16     False\n",
       "2020-09-06    27     15     False\n",
       "2020-09-13    26     36      True\n",
       "\n",
       "[260 rows x 3 columns]"
      ]
     },
     "execution_count": 2,
     "metadata": {},
     "output_type": "execute_result"
    }
   ],
   "source": [
    "from pytrends.request import TrendReq\n",
    "import pandas as pd\n",
    "\n",
    "pytrend = TrendReq()\n",
    "pytrend.build_payload(kw_list=['Mars', 'Venus'])\n",
    "df = pytrend.interest_over_time()\n",
    "df"
   ]
  },
  {
   "cell_type": "markdown",
   "metadata": {},
   "source": [
    "[![Callysto.ca License](https://github.com/callysto/curriculum-notebooks/blob/master/callysto-notebook-banner-bottom.jpg?raw=true)](https://github.com/callysto/curriculum-notebooks/blob/master/LICENSE.md)"
   ]
  }
 ],
 "metadata": {
  "kernelspec": {
   "display_name": "Python 3",
   "language": "python",
   "name": "python3"
  },
  "language_info": {
   "codemirror_mode": {
    "name": "ipython",
    "version": 3
   },
   "file_extension": ".py",
   "mimetype": "text/x-python",
   "name": "python",
   "nbconvert_exporter": "python",
   "pygments_lexer": "ipython3",
   "version": "3.7.4"
  }
 },
 "nbformat": 4,
 "nbformat_minor": 4
}

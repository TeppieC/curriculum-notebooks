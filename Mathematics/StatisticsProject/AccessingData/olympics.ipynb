{
 "cells": [
  {
   "cell_type": "markdown",
   "metadata": {},
   "source": [
    "![Callysto.ca Banner](https://github.com/callysto/curriculum-notebooks/blob/master/callysto-notebook-banner-top.jpg?raw=true)\n",
    "\n",
    "<a href=\"https://hub.callysto.ca/jupyter/hub/user-redirect/git-pull?repo=https%3A%2F%2Fgithub.com%2Fcallysto%2Fcurriculum-notebooks&branch=master&subPath=Mathematics/StatisticsProject/AccessingData/olympics.ipynb&depth=1\" target=\"_parent\"><img src=\"https://raw.githubusercontent.com/callysto/curriculum-notebooks/master/open-in-callysto-button.svg?sanitize=true\" width=\"123\" height=\"24\" alt=\"Open in Callysto\"/></a>"
   ]
  },
  {
   "cell_type": "markdown",
   "metadata": {},
   "source": [
    "# Olympics Data\n",
    "\n",
    "[Statistics from the modern Olympic Games](https://www.kaggle.com/heesoo37/120-years-of-olympic-history-athletes-and-results/data#athlete_events.csv)"
   ]
  },
  {
   "cell_type": "code",
   "execution_count": 1,
   "metadata": {},
   "outputs": [
    {
     "data": {
      "text/plain": [
       "region\n",
       "Russia            759\n",
       "USA               635\n",
       "Germany           630\n",
       "Canada            611\n",
       "Norway            443\n",
       "Sweden            428\n",
       "Finland           426\n",
       "Austria           280\n",
       "Switzerland       275\n",
       "Czech Republic    231\n",
       "Italy             191\n",
       "France            150\n",
       "Netherlands       122\n",
       "South Korea        86\n",
       "UK                 83\n",
       "China              80\n",
       "Japan              63\n",
       "Poland             27\n",
       "Slovenia           18\n",
       "Australia          16\n",
       "Latvia             15\n",
       "Belarus            15\n",
       "Belgium            13\n",
       "Hungary            12\n",
       "Croatia            11\n",
       "Ukraine            11\n",
       "Liechtenstein       9\n",
       "Serbia              7\n",
       "Kazakhstan          7\n",
       "India               7\n",
       "Estonia             7\n",
       "Bulgaria            6\n",
       "Slovakia            5\n",
       "Denmark             5\n",
       "North Korea         2\n",
       "Romania             2\n",
       "Luxembourg          2\n",
       "Spain               2\n",
       "New Zealand         1\n",
       "Nepal               1\n",
       "Uzbekistan          1\n",
       "Name: Medal, dtype: int64"
      ]
     },
     "execution_count": 1,
     "metadata": {},
     "output_type": "execute_result"
    }
   ],
   "source": [
    "import pandas as pd\n",
    "olympics = pd.read_csv('olympics.csv')\n",
    "medals = olympics.dropna(subset=[\"Medal\"])\n",
    "medals_winter = medals[medals[\"Season\"]==\"Winter\"]\n",
    "medals_winter_country = medals_winter.groupby('region').count().sort_values('Medal',ascending=False)['Medal']\n",
    "medals_winter_country"
   ]
  },
  {
   "cell_type": "markdown",
   "metadata": {},
   "source": [
    "[![Callysto.ca License](https://github.com/callysto/curriculum-notebooks/blob/master/callysto-notebook-banner-bottom.jpg?raw=true)](https://github.com/callysto/curriculum-notebooks/blob/master/LICENSE.md)"
   ]
  }
 ],
 "metadata": {
  "kernelspec": {
   "display_name": "Python 3",
   "language": "python",
   "name": "python3"
  },
  "language_info": {
   "codemirror_mode": {
    "name": "ipython",
    "version": 3
   },
   "file_extension": ".py",
   "mimetype": "text/x-python",
   "name": "python",
   "nbconvert_exporter": "python",
   "pygments_lexer": "ipython3",
   "version": "3.7.4"
  }
 },
 "nbformat": 4,
 "nbformat_minor": 4
}

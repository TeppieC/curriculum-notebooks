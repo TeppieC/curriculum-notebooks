{
 "cells": [
  {
   "cell_type": "code",
   "execution_count": 1,
   "metadata": {},
   "outputs": [
    {
     "data": {
      "text/html": [
       "<script>\n",
       "code_show=true; \n",
       "function code_toggle() { if (code_show){ $('div.input').hide(); } else { $('div.input').show(); } code_show = !code_show } \n",
       "$( document ).ready(code_toggle);\n",
       "</script>\n",
       "\n",
       "Raw code hidden. To show code, click <a href=\"javascript:code_toggle()\">here</a>."
      ],
      "text/plain": [
       "<IPython.core.display.HTML object>"
      ]
     },
     "execution_count": 1,
     "metadata": {},
     "output_type": "execute_result"
    }
   ],
   "source": [
    "from IPython.display import HTML\n",
    "\n",
    "HTML('''<script>\n",
    "code_show=true; \n",
    "function code_toggle() { if (code_show){ $('div.input').hide(); } else { $('div.input').show(); } code_show = !code_show } \n",
    "$( document ).ready(code_toggle);\n",
    "</script>\n",
    "\n",
    "Raw code hidden. To show code, click <a href=\"javascript:code_toggle()\">here</a>.''')"
   ]
  },
  {
   "cell_type": "code",
   "execution_count": 2,
   "metadata": {
    "collapsed": true
   },
   "outputs": [],
   "source": [
    "# Modules\n",
    "\n",
    "import string\n",
    "import numpy as np\n",
    "import pandas as pd\n",
    "import qgrid as q\n",
    "import matplotlib.pyplot as plt\n",
    "\n",
    "# Widgets & Display modules, etc..\n",
    "\n",
    "from ipywidgets import widgets as w\n",
    "from ipywidgets import Button, Layout\n",
    "from IPython.display import display, Javascript, Markdown\n",
    "\n",
    "# grid features for interactive grids \n",
    "\n",
    "grid_features = { 'fullWidthRows': True,\n",
    "                  'syncColumnCellResize': True,\n",
    "                  'forceFitColumns': True,\n",
    "                  'rowHeight': 40,\n",
    "                  'enableColumnReorder': True,\n",
    "                  'enableTextSelectionOnCells': True,\n",
    "                  'editable': True,\n",
    "                  'filterable': False,\n",
    "                  'sortable': False,\n",
    "                  'highlightSelectedRow': True}"
   ]
  },
  {
   "cell_type": "markdown",
   "metadata": {},
   "source": [
    "<h3 align='center'>CC-97 Budget & Banking Assignment</h3>\n",
    "<h4 align='center'>Grade 11 - \"Trades\" Level Math Course</h4>"
   ]
  },
  {
   "cell_type": "code",
   "execution_count": 3,
   "metadata": {
    "collapsed": true
   },
   "outputs": [],
   "source": [
    "def rerun_cell( b ):\n",
    "    \n",
    "    display(Javascript('IPython.notebook.execute_cell_range(IPython.notebook.get_selected_index()+1,IPython.notebook.get_selected_index()+2)'))    \n",
    "\n",
    "def check_answers(series_input,answer_list):\n",
    "    \n",
    "    # convert valid answer list to string format \n",
    "    \n",
    "    valid_answers = \"\"\n",
    "    \n",
    "    for item in answer_list:\n",
    "        \n",
    "        valid_answers = valid_answers + item + \",\"\n",
    "        \n",
    "    valid_answers = valid_answers[:len(valid_answers)-1]\n",
    "    \n",
    "    # compare student's answers to answer list\n",
    "        \n",
    "    for entry in series_input:\n",
    "        \n",
    "        if(entry != '' and entry not in answer_list):\n",
    "            \n",
    "            # display(Markdown(\"Some of your inputs are invalid. Please enter valid inputs from the following: \", valid_answers))\n",
    "            \n",
    "            return 0\n",
    "        \n",
    "    return 1"
   ]
  },
  {
   "cell_type": "code",
   "execution_count": 4,
   "metadata": {
    "scrolled": true
   },
   "outputs": [
    {
     "data": {
      "application/vnd.jupyter.widget-view+json": {
       "model_id": "84f7d4d9616842c0921ad20db945fab5",
       "version_major": 2,
       "version_minor": 0
      },
      "text/plain": [
       "A Jupyter Widget"
      ]
     },
     "metadata": {},
     "output_type": "display_data"
    },
    {
     "data": {
      "application/vnd.jupyter.widget-view+json": {
       "model_id": "3c4a53ec6fa049dfba8db794f0e4f0e8",
       "version_major": 2,
       "version_minor": 0
      },
      "text/plain": [
       "A Jupyter Widget"
      ]
     },
     "metadata": {},
     "output_type": "display_data"
    },
    {
     "data": {
      "application/vnd.jupyter.widget-view+json": {
       "model_id": "9fd3a5ae49854c1b99a4c37a564dfbb6",
       "version_major": 2,
       "version_minor": 0
      },
      "text/plain": [
       "A Jupyter Widget"
      ]
     },
     "metadata": {},
     "output_type": "display_data"
    },
    {
     "data": {
      "application/javascript": [
       "IPython.notebook.execute_cell_range(IPython.notebook.get_selected_index()+1,IPython.notebook.get_selected_index()+2)"
      ],
      "text/plain": [
       "<IPython.core.display.Javascript object>"
      ]
     },
     "metadata": {},
     "output_type": "display_data"
    }
   ],
   "source": [
    "name_text = w.Textarea( value='', placeholder='STUDENT NAME', description='', disabled=False , layout=Layout(width='30%', height='32.5px') )\n",
    "date_text = w.Textarea( value='', placeholder='DATE', description='', disabled=False , layout=Layout(width='30%', height='32.5px') )\n",
    "profile_button = w.Button(button_style='info',description=\"Save\", layout=Layout(width='15%', height='30px'))\n",
    "\n",
    "display(name_text)\n",
    "display(date_text)\n",
    "display(profile_button)\n",
    "\n",
    "profile_button.on_click( rerun_cell ) "
   ]
  },
  {
   "cell_type": "code",
   "execution_count": 53,
   "metadata": {},
   "outputs": [
    {
     "data": {
      "text/markdown": [
       "### Student Name: $\\hspace{1.5cm}$Maria Tan"
      ],
      "text/plain": [
       "<IPython.core.display.Markdown object>"
      ]
     },
     "metadata": {},
     "output_type": "display_data"
    },
    {
     "data": {
      "text/markdown": [
       "### $\\hspace{2.15cm}$Date: $\\hspace{1.5cm}$June 29, 2018"
      ],
      "text/plain": [
       "<IPython.core.display.Markdown object>"
      ]
     },
     "metadata": {},
     "output_type": "display_data"
    }
   ],
   "source": [
    "name = name_text.value\n",
    "date = date_text.value\n",
    "\n",
    "name_saved = False\n",
    "date_saved = False\n",
    "\n",
    "if(name != ''):\n",
    "    \n",
    "    name_text.close()\n",
    "    display(Markdown(\"### Student Name: $\\hspace{1.5cm}$\"+ name ))\n",
    "    name_saved = True\n",
    "    \n",
    "if(date != ''):\n",
    "    \n",
    "    date_text.close()\n",
    "    display(Markdown(\"### $\\hspace{2.15cm}$Date: $\\hspace{1.5cm}$\"+ date ))\n",
    "    date_saved = True\n",
    "    \n",
    "if(name_saved == True and date_saved == True):\n",
    "    \n",
    "    profile_button.close()"
   ]
  },
  {
   "cell_type": "markdown",
   "metadata": {},
   "source": [
    "---\n",
    "<h1 align='center'>Chapter 1</h1>\n",
    "<h2 align='center'>Assignment Lesson 1</h2>"
   ]
  },
  {
   "cell_type": "code",
   "execution_count": 6,
   "metadata": {
    "collapsed": true
   },
   "outputs": [],
   "source": [
    "answers_recorded = 0\n",
    "q1_answered = 0\n",
    "q2_answered = 0\n",
    "q3a_answered = 0\n",
    "q3b_answered = 0\n",
    "q3c_answered = 0\n",
    "q3d_answered = 0"
   ]
  },
  {
   "cell_type": "markdown",
   "metadata": {},
   "source": [
    "For question 1 and 2, choose the best answer.\n",
    "\n",
    "**Question 1.** A good reason for preparing a budget"
   ]
  },
  {
   "cell_type": "code",
   "execution_count": 54,
   "metadata": {
    "scrolled": true
   },
   "outputs": [
    {
     "data": {
      "text/markdown": [
       "### You answered: "
      ],
      "text/plain": [
       "<IPython.core.display.Markdown object>"
      ]
     },
     "metadata": {},
     "output_type": "display_data"
    },
    {
     "data": {
      "text/markdown": [
       "b.) To reduce debt"
      ],
      "text/plain": [
       "<IPython.core.display.Markdown object>"
      ]
     },
     "metadata": {},
     "output_type": "display_data"
    },
    {
     "data": {
      "text/markdown": [
       "This is incorrect."
      ],
      "text/plain": [
       "<IPython.core.display.Markdown object>"
      ]
     },
     "metadata": {},
     "output_type": "display_data"
    },
    {
     "data": {
      "text/markdown": [
       "### Correct answer: "
      ],
      "text/plain": [
       "<IPython.core.display.Markdown object>"
      ]
     },
     "metadata": {},
     "output_type": "display_data"
    },
    {
     "data": {
      "text/markdown": [
       "d.) All the above are good reasons for preparing a budget"
      ],
      "text/plain": [
       "<IPython.core.display.Markdown object>"
      ]
     },
     "metadata": {},
     "output_type": "display_data"
    }
   ],
   "source": [
    "if(q1_answered == 1):\n",
    "    \n",
    "    q1_answered += 1\n",
    "    q1_student_answer = q1_choices.value\n",
    "    correct_answer = 'd.) All the above are good reasons for preparing a budget'\n",
    "    \n",
    "    if(q1_student_answer == correct_answer):\n",
    "        \n",
    "        display(Markdown(\"### You answered: \"))\n",
    "        display(Markdown(q1_student_answer))\n",
    "        \n",
    "        display(Markdown(\"This is correct!\"))\n",
    "        \n",
    "    else:\n",
    "        \n",
    "        display(Markdown(\"### You answered: \"))\n",
    "        display(Markdown(q1_student_answer))\n",
    "\n",
    "        display(Markdown(\"This is incorrect.\"))\n",
    "        display(Markdown(\"### Correct answer: \"))\n",
    "        display(Markdown(correct_answer))\n",
    "        \n",
    "else:\n",
    "    \n",
    "    # Question 1 Answer Choices\n",
    "\n",
    "    choice_1 = 'a.) Running out of money each month'\n",
    "    choice_2 = 'b.) To reduce debt'\n",
    "    choice_3 = 'c.) To save for something special'\n",
    "    choice_4 = 'd.) All the above are good reasons for preparing a budget'\n",
    "\n",
    "    answer_choices = [ choice_1,choice_2,choice_3,choice_4 ]\n",
    "\n",
    "    # Question 1 choices widget \n",
    "\n",
    "    q1_choices = w.RadioButtons( options=answer_choices , description=\"\" , disabled=False , layout=Layout(width='100%'))\n",
    "    display(q1_choices)"
   ]
  },
  {
   "cell_type": "code",
   "execution_count": 55,
   "metadata": {},
   "outputs": [
    {
     "data": {
      "application/javascript": [
       "IPython.notebook.execute_cell_range( IPython.notebook.get_selected_index()-1 , IPython.notebook.get_selected_index()+1) "
      ],
      "text/plain": [
       "<IPython.core.display.Javascript object>"
      ]
     },
     "metadata": {},
     "output_type": "display_data"
    }
   ],
   "source": [
    "q1_answered += 1\n",
    "\n",
    "def record_answer(button_widget):\n",
    "    \n",
    "    display(Javascript('IPython.notebook.execute_cell_range( IPython.notebook.get_selected_index()-1 , IPython.notebook.get_selected_index()+1) '))    \n",
    "    q1_choices.close()\n",
    "    \n",
    "if(q1_answered >= 2):\n",
    "    \n",
    "    q1_button.close()\n",
    "    \n",
    "else:\n",
    "    \n",
    "    q1_button = w.Button(button_style='info',description=\"Record Answer\", layout=Layout(width='15%', height='30px'))\n",
    "    q1_button.on_click( record_answer ) \n",
    "    display(q1_button)"
   ]
  },
  {
   "cell_type": "markdown",
   "metadata": {},
   "source": [
    "**Question 2.** Which equation best describes gross and net pay?"
   ]
  },
  {
   "cell_type": "code",
   "execution_count": 56,
   "metadata": {
    "scrolled": true
   },
   "outputs": [
    {
     "data": {
      "text/markdown": [
       "### You answered: "
      ],
      "text/plain": [
       "<IPython.core.display.Markdown object>"
      ]
     },
     "metadata": {},
     "output_type": "display_data"
    },
    {
     "data": {
      "text/markdown": [
       "a.) Gross Pay = Net Pay - Deductions"
      ],
      "text/plain": [
       "<IPython.core.display.Markdown object>"
      ]
     },
     "metadata": {},
     "output_type": "display_data"
    },
    {
     "data": {
      "text/markdown": [
       "This is incorrect."
      ],
      "text/plain": [
       "<IPython.core.display.Markdown object>"
      ]
     },
     "metadata": {},
     "output_type": "display_data"
    },
    {
     "data": {
      "text/markdown": [
       "### Correct answer: "
      ],
      "text/plain": [
       "<IPython.core.display.Markdown object>"
      ]
     },
     "metadata": {},
     "output_type": "display_data"
    },
    {
     "data": {
      "text/markdown": [
       "b.) Net Pay = Gross Pay - Deductions"
      ],
      "text/plain": [
       "<IPython.core.display.Markdown object>"
      ]
     },
     "metadata": {},
     "output_type": "display_data"
    }
   ],
   "source": [
    "if(q2_answered == 1):\n",
    "    \n",
    "    q2_answered += 1\n",
    "    q2_student_answer = q2_choices.value\n",
    "    correct_answer = 'b.) Net Pay = Gross Pay - Deductions'\n",
    "    \n",
    "    if(q2_student_answer == correct_answer):\n",
    "\n",
    "        display(Markdown(\"### You answered: \"))\n",
    "        display(Markdown(q2_student_answer))\n",
    "        \n",
    "        display(Markdown(\"This is correct!\"))\n",
    "        \n",
    "    else:\n",
    "        \n",
    "        display(Markdown(\"### You answered: \"))\n",
    "        display(Markdown(q2_student_answer))\n",
    "\n",
    "        display(Markdown(\"This is incorrect.\"))\n",
    "        display(Markdown(\"### Correct answer: \"))\n",
    "        display(Markdown(correct_answer))\n",
    "    \n",
    "else:\n",
    "\n",
    "    # Question 2 Answer Choices\n",
    "\n",
    "    choice_1 = 'a.) Gross Pay = Net Pay - Deductions'\n",
    "    choice_2 = 'b.) Net Pay = Gross Pay - Deductions'\n",
    "    choice_3 = 'c.) Gross Pay = Net Pay ÷ Deductions'\n",
    "    choice_4 = 'd.) Net Pay = Gross Pay ÷ Deductions'\n",
    "\n",
    "    answer_choices = [ choice_1,choice_2,choice_3,choice_4 ]\n",
    "\n",
    "    q2_choices = w.RadioButtons( options=answer_choices , description=\"\" , disabled=False , layout=Layout(width='100%'))\n",
    "    display(q2_choices)"
   ]
  },
  {
   "cell_type": "code",
   "execution_count": 57,
   "metadata": {},
   "outputs": [
    {
     "data": {
      "application/javascript": [
       "IPython.notebook.execute_cell_range( IPython.notebook.get_selected_index()-1 , IPython.notebook.get_selected_index()+1) "
      ],
      "text/plain": [
       "<IPython.core.display.Javascript object>"
      ]
     },
     "metadata": {},
     "output_type": "display_data"
    }
   ],
   "source": [
    "q2_answered += 1\n",
    "\n",
    "def record_answer(button_widget):\n",
    "    \n",
    "    display(Javascript('IPython.notebook.execute_cell_range( IPython.notebook.get_selected_index()-1 , IPython.notebook.get_selected_index()+1) '))    \n",
    "    q2_choices.close()\n",
    "    \n",
    "if(q2_answered >= 2):\n",
    "    \n",
    "    q2_button.close()\n",
    "    \n",
    "else:\n",
    "    \n",
    "    q2_button = w.Button(button_style='info',description=\"Record Answer\", layout=Layout(width='15%', height='30px'))\n",
    "    q2_button.on_click( record_answer ) \n",
    "    display(q2_button)"
   ]
  },
  {
   "cell_type": "markdown",
   "metadata": {},
   "source": [
    "**Question 3.** Label the following incomes as **fixed** or **variable**. Explain reasons for each.\n",
    "\n",
    "$\\hspace{0.35cm}$**a.)** Lloyd earns $50.00 for every set of knife he sells."
   ]
  },
  {
   "cell_type": "code",
   "execution_count": 58,
   "metadata": {},
   "outputs": [
    {
     "data": {
      "text/markdown": [
       "### You answered: "
      ],
      "text/plain": [
       "<IPython.core.display.Markdown object>"
      ]
     },
     "metadata": {},
     "output_type": "display_data"
    },
    {
     "data": {
      "text/markdown": [
       "Variable"
      ],
      "text/plain": [
       "<IPython.core.display.Markdown object>"
      ]
     },
     "metadata": {},
     "output_type": "display_data"
    },
    {
     "data": {
      "text/markdown": [
       "This is correct!"
      ],
      "text/plain": [
       "<IPython.core.display.Markdown object>"
      ]
     },
     "metadata": {},
     "output_type": "display_data"
    }
   ],
   "source": [
    "if(q3a_answered == 1):\n",
    "    \n",
    "    q3a_answered += 1\n",
    "    q3a_student_answer = q3a_choices.value\n",
    "    correct_answer = 'Variable'\n",
    "\n",
    "    if(q3a_student_answer == correct_answer):\n",
    "        \n",
    "        display(Markdown(\"### You answered: \"))\n",
    "        display(Markdown(q3a_student_answer))\n",
    "        \n",
    "        display(Markdown(\"This is correct!\"))\n",
    "        \n",
    "    else:\n",
    "        \n",
    "        display(Markdown(\"### You answered: \"))\n",
    "        display(Markdown(q3a_student_answer))\n",
    "\n",
    "        display(Markdown(\"This is incorrect.\"))\n",
    "        display(Markdown(\"### Correct answer: \"))\n",
    "        display(Markdown(correct_answer))\n",
    "    \n",
    "else:\n",
    "\n",
    "    # Question 3.a Answer Choices\n",
    "\n",
    "    choice_1 = 'Fixed'\n",
    "    choice_2 = 'Variable'\n",
    "\n",
    "    answer_choices = [ choice_1,choice_2 ]\n",
    "\n",
    "    q3a_choices = w.RadioButtons( options=answer_choices , description=\"\" , disabled=False , layout=Layout(width='100%'))\n",
    "    display(q3a_choices)"
   ]
  },
  {
   "cell_type": "code",
   "execution_count": 59,
   "metadata": {},
   "outputs": [
    {
     "data": {
      "application/javascript": [
       "IPython.notebook.execute_cell_range( IPython.notebook.get_selected_index()-1 , IPython.notebook.get_selected_index()+1) "
      ],
      "text/plain": [
       "<IPython.core.display.Javascript object>"
      ]
     },
     "metadata": {},
     "output_type": "display_data"
    }
   ],
   "source": [
    "q3a_answered += 1\n",
    "\n",
    "def record_answer(button_widget):\n",
    "    \n",
    "    display(Javascript('IPython.notebook.execute_cell_range( IPython.notebook.get_selected_index()-1 , IPython.notebook.get_selected_index()+1) '))    \n",
    "    q3a_choices.close()\n",
    "    \n",
    "if(q3a_answered >= 2):\n",
    "    \n",
    "    q3a_button.close()\n",
    "    \n",
    "else:\n",
    "    \n",
    "    q3a_button = w.Button(button_style='info',description=\"Record Answer\", layout=Layout(width='15%', height='30px'))\n",
    "    q3a_button.on_click( record_answer ) \n",
    "    display(q3a_button)"
   ]
  },
  {
   "cell_type": "markdown",
   "metadata": {},
   "source": [
    "$\\hspace{0.35cm}$**b.)** Each month, Florence is paid 4.5% commission on her first $1,500.00 in sales. If she makes more than this, Florence is paid 6% in comission."
   ]
  },
  {
   "cell_type": "code",
   "execution_count": 60,
   "metadata": {},
   "outputs": [
    {
     "data": {
      "text/markdown": [
       "### You answered: "
      ],
      "text/plain": [
       "<IPython.core.display.Markdown object>"
      ]
     },
     "metadata": {},
     "output_type": "display_data"
    },
    {
     "data": {
      "text/markdown": [
       "Variable"
      ],
      "text/plain": [
       "<IPython.core.display.Markdown object>"
      ]
     },
     "metadata": {},
     "output_type": "display_data"
    },
    {
     "data": {
      "text/markdown": [
       "This is correct!"
      ],
      "text/plain": [
       "<IPython.core.display.Markdown object>"
      ]
     },
     "metadata": {},
     "output_type": "display_data"
    }
   ],
   "source": [
    "if(q3b_answered == 1):\n",
    "    \n",
    "    q3b_answered += 1\n",
    "    q3b_student_answer = q3b_choices.value\n",
    "    correct_answer = 'Variable'\n",
    "    \n",
    "    if(q3b_student_answer == correct_answer):\n",
    "        \n",
    "        display(Markdown(\"### You answered: \"))\n",
    "        display(Markdown(q3b_student_answer))\n",
    "        \n",
    "        display(Markdown(\"This is correct!\"))\n",
    "        \n",
    "    else:\n",
    "        \n",
    "        display(Markdown(\"### You answered: \"))\n",
    "        display(Markdown(q3b_student_answer))\n",
    "\n",
    "        display(Markdown(\"This is incorrect.\"))\n",
    "        display(Markdown(\"### Correct answer: \"))\n",
    "        display(Markdown(correct_answer))\n",
    "    \n",
    "else:\n",
    "\n",
    "    # Question 3.b Answer Choices\n",
    "\n",
    "    choice_1 = 'Fixed'\n",
    "    choice_2 = 'Variable'\n",
    "\n",
    "    answer_choices = [ choice_1,choice_2 ]\n",
    "\n",
    "    q3b_choices = w.RadioButtons( options=answer_choices , description=\"\" , disabled=False , layout=Layout(width='100%'))\n",
    "    display(q3b_choices)"
   ]
  },
  {
   "cell_type": "code",
   "execution_count": 61,
   "metadata": {},
   "outputs": [
    {
     "data": {
      "application/javascript": [
       "IPython.notebook.execute_cell_range( IPython.notebook.get_selected_index()-1 , IPython.notebook.get_selected_index()+1) "
      ],
      "text/plain": [
       "<IPython.core.display.Javascript object>"
      ]
     },
     "metadata": {},
     "output_type": "display_data"
    }
   ],
   "source": [
    "q3b_answered += 1\n",
    "\n",
    "def record_answer(button_widget):\n",
    "    \n",
    "    display(Javascript('IPython.notebook.execute_cell_range( IPython.notebook.get_selected_index()-1 , IPython.notebook.get_selected_index()+1) '))    \n",
    "    q3b_choices.close()\n",
    "    \n",
    "if(q3b_answered >= 2):\n",
    "    \n",
    "    q3b_button.close()\n",
    "    \n",
    "else:\n",
    "    \n",
    "    q3b_button = w.Button(button_style='info',description=\"Record Answer\", layout=Layout(width='15%', height='30px'))\n",
    "    q3b_button.on_click( record_answer ) \n",
    "    display(q3b_button)"
   ]
  },
  {
   "cell_type": "markdown",
   "metadata": {},
   "source": [
    "$\\hspace{0.35cm}$**c.)** Corinne works 40 hours a week at $17.00 an hour. She is paid bi-weekly (every two weeks)."
   ]
  },
  {
   "cell_type": "code",
   "execution_count": 62,
   "metadata": {},
   "outputs": [
    {
     "data": {
      "text/markdown": [
       "### You answered: "
      ],
      "text/plain": [
       "<IPython.core.display.Markdown object>"
      ]
     },
     "metadata": {},
     "output_type": "display_data"
    },
    {
     "data": {
      "text/markdown": [
       "Variable"
      ],
      "text/plain": [
       "<IPython.core.display.Markdown object>"
      ]
     },
     "metadata": {},
     "output_type": "display_data"
    },
    {
     "data": {
      "text/markdown": [
       "This is incorrect."
      ],
      "text/plain": [
       "<IPython.core.display.Markdown object>"
      ]
     },
     "metadata": {},
     "output_type": "display_data"
    },
    {
     "data": {
      "text/markdown": [
       "### Correct answer: "
      ],
      "text/plain": [
       "<IPython.core.display.Markdown object>"
      ]
     },
     "metadata": {},
     "output_type": "display_data"
    },
    {
     "data": {
      "text/markdown": [
       "Fixed"
      ],
      "text/plain": [
       "<IPython.core.display.Markdown object>"
      ]
     },
     "metadata": {},
     "output_type": "display_data"
    }
   ],
   "source": [
    "if(q3c_answered == 1):\n",
    "    \n",
    "    q3c_answered += 1\n",
    "    q3c_student_answer = q3c_choices.value\n",
    "    correct_answer = 'Fixed'\n",
    "    \n",
    "    if(q3c_student_answer == correct_answer):\n",
    "        \n",
    "        display(Markdown(\"### You answered: \"))\n",
    "        display(Markdown(q3c_student_answer))\n",
    "        \n",
    "        display(Markdown(\"This is correct!\"))\n",
    "        \n",
    "    else:\n",
    "        \n",
    "        display(Markdown(\"### You answered: \"))\n",
    "        display(Markdown(q3c_student_answer))\n",
    "\n",
    "        display(Markdown(\"This is incorrect.\"))\n",
    "        display(Markdown(\"### Correct answer: \"))\n",
    "        display(Markdown(correct_answer))\n",
    "    \n",
    "else:\n",
    "\n",
    "    # Question 3.c Answer Choices\n",
    "\n",
    "    choice_1 = 'Fixed'\n",
    "    choice_2 = 'Variable'\n",
    "\n",
    "    answer_choices = [ choice_1,choice_2 ]\n",
    "\n",
    "    q3c_choices = w.RadioButtons( options=answer_choices , description=\"\" , disabled=False , layout=Layout(width='100%'))\n",
    "    display(q3c_choices)"
   ]
  },
  {
   "cell_type": "code",
   "execution_count": 63,
   "metadata": {},
   "outputs": [
    {
     "data": {
      "application/javascript": [
       "IPython.notebook.execute_cell_range( IPython.notebook.get_selected_index()-1 , IPython.notebook.get_selected_index()+1) "
      ],
      "text/plain": [
       "<IPython.core.display.Javascript object>"
      ]
     },
     "metadata": {},
     "output_type": "display_data"
    }
   ],
   "source": [
    "q3c_answered += 1\n",
    "\n",
    "def record_answer(button_widget):\n",
    "    \n",
    "    display(Javascript('IPython.notebook.execute_cell_range( IPython.notebook.get_selected_index()-1 , IPython.notebook.get_selected_index()+1) '))    \n",
    "    q3c_choices.close()\n",
    "    \n",
    "if(q3c_answered >= 2):\n",
    "    \n",
    "    q3c_button.close()\n",
    "    \n",
    "else:\n",
    "    \n",
    "    q3c_button = w.Button(button_style='info',description=\"Record Answer\", layout=Layout(width='15%', height='30px'))\n",
    "    q3c_button.on_click( record_answer ) \n",
    "    display(q3c_button)"
   ]
  },
  {
   "cell_type": "markdown",
   "metadata": {},
   "source": [
    "$\\hspace{0.35cm}$**d.)** Gord earns a salary of $3,000.00 each month."
   ]
  },
  {
   "cell_type": "code",
   "execution_count": 64,
   "metadata": {},
   "outputs": [
    {
     "data": {
      "text/markdown": [
       "### You answered: "
      ],
      "text/plain": [
       "<IPython.core.display.Markdown object>"
      ]
     },
     "metadata": {},
     "output_type": "display_data"
    },
    {
     "data": {
      "text/markdown": [
       "Variable"
      ],
      "text/plain": [
       "<IPython.core.display.Markdown object>"
      ]
     },
     "metadata": {},
     "output_type": "display_data"
    },
    {
     "data": {
      "text/markdown": [
       "This is incorrect."
      ],
      "text/plain": [
       "<IPython.core.display.Markdown object>"
      ]
     },
     "metadata": {},
     "output_type": "display_data"
    },
    {
     "data": {
      "text/markdown": [
       "### Correct answer: "
      ],
      "text/plain": [
       "<IPython.core.display.Markdown object>"
      ]
     },
     "metadata": {},
     "output_type": "display_data"
    },
    {
     "data": {
      "text/markdown": [
       "Fixed"
      ],
      "text/plain": [
       "<IPython.core.display.Markdown object>"
      ]
     },
     "metadata": {},
     "output_type": "display_data"
    }
   ],
   "source": [
    "if(q3d_answered == 1):\n",
    "    \n",
    "    q3d_answered += 1\n",
    "    q3d_student_answer = q3d_choices.value\n",
    "    correct_answer = 'Fixed'\n",
    "    \n",
    "    if(q3d_student_answer == correct_answer):\n",
    "        \n",
    "        display(Markdown(\"### You answered: \"))\n",
    "        display(Markdown(q3d_student_answer))\n",
    "        \n",
    "        display(Markdown(\"This is correct!\"))\n",
    "        \n",
    "    else:\n",
    "        \n",
    "        display(Markdown(\"### You answered: \"))\n",
    "        display(Markdown(q3d_student_answer))\n",
    "\n",
    "        display(Markdown(\"This is incorrect.\"))\n",
    "        display(Markdown(\"### Correct answer: \"))\n",
    "        display(Markdown(correct_answer))\n",
    "    \n",
    "else:\n",
    "\n",
    "    # Question 3.d Answer Choices\n",
    "\n",
    "    choice_1 = 'Fixed'\n",
    "    choice_2 = 'Variable'\n",
    "\n",
    "    answer_choices = [ choice_1,choice_2 ]\n",
    "\n",
    "    q3d_choices = w.RadioButtons( options=answer_choices , description=\"\" , disabled=False , layout=Layout(width='100%'))\n",
    "    display(q3d_choices)"
   ]
  },
  {
   "cell_type": "code",
   "execution_count": 65,
   "metadata": {},
   "outputs": [
    {
     "data": {
      "application/javascript": [
       "IPython.notebook.execute_cell_range( IPython.notebook.get_selected_index()-1 , IPython.notebook.get_selected_index()+1) "
      ],
      "text/plain": [
       "<IPython.core.display.Javascript object>"
      ]
     },
     "metadata": {},
     "output_type": "display_data"
    }
   ],
   "source": [
    "q3d_answered += 1\n",
    "\n",
    "def record_answer(button_widget):\n",
    "    \n",
    "    display(Javascript('IPython.notebook.execute_cell_range( IPython.notebook.get_selected_index()-1 , IPython.notebook.get_selected_index()+1) '))    \n",
    "    q3d_choices.close()\n",
    "    \n",
    "if(q3d_answered >= 2):\n",
    "    \n",
    "    q3d_button.close()\n",
    "    \n",
    "else:\n",
    "    \n",
    "    q3d_button = w.Button(button_style='info',description=\"Record Answer\", layout=Layout(width='15%', height='30px'))\n",
    "    q3d_button.on_click( record_answer ) \n",
    "    display(q3d_button)"
   ]
  },
  {
   "cell_type": "markdown",
   "metadata": {},
   "source": [
    "4) Lian works in a retail store $35$ hours a week. She is paid $\\$12.75$ a hour bi-weekly (every two weeks). Her last paycheque had a deduction of $\\$71.19$ for Income Tax, $\\$35.82$ for CPP, and $\\$14.85$ for EI."
   ]
  },
  {
   "cell_type": "markdown",
   "metadata": {},
   "source": [
    "$\\hspace{1.5cm}$a.) Determine Lian's gross pay for two weeks.\n",
    "\n",
    "**Write your calculations below.** \n",
    "* Valid inputs: Numbers and decimals. \n",
    "* Valid operations: `+,-,*` for addition, subtraction, and multiplication, respectively.\n",
    "\n",
    "**Example input:** `40 * 10 * 2 + 30`"
   ]
  },
  {
   "cell_type": "code",
   "execution_count": 19,
   "metadata": {},
   "outputs": [
    {
     "data": {
      "application/vnd.jupyter.widget-view+json": {
       "model_id": "e5b33edf65e144f19f5a0bab583fcb66",
       "version_major": 2,
       "version_minor": 0
      },
      "text/plain": [
       "A Jupyter Widget"
      ]
     },
     "metadata": {},
     "output_type": "display_data"
    },
    {
     "data": {
      "application/vnd.jupyter.widget-view+json": {
       "model_id": "01d10cfeb3ee421480b2ed0079af4b72",
       "version_major": 2,
       "version_minor": 0
      },
      "text/plain": [
       "A Jupyter Widget"
      ]
     },
     "metadata": {},
     "output_type": "display_data"
    },
    {
     "data": {
      "application/javascript": [
       "IPython.notebook.execute_cell_range(IPython.notebook.get_selected_index()+1,IPython.notebook.get_selected_index()+2)"
      ],
      "text/plain": [
       "<IPython.core.display.Javascript object>"
      ]
     },
     "metadata": {},
     "output_type": "display_data"
    },
    {
     "data": {
      "application/javascript": [
       "IPython.notebook.execute_cell_range(IPython.notebook.get_selected_index()+1,IPython.notebook.get_selected_index()+2)"
      ],
      "text/plain": [
       "<IPython.core.display.Javascript object>"
      ]
     },
     "metadata": {},
     "output_type": "display_data"
    },
    {
     "data": {
      "application/javascript": [
       "IPython.notebook.execute_cell_range(IPython.notebook.get_selected_index()+1,IPython.notebook.get_selected_index()+2)"
      ],
      "text/plain": [
       "<IPython.core.display.Javascript object>"
      ]
     },
     "metadata": {},
     "output_type": "display_data"
    },
    {
     "data": {
      "application/javascript": [
       "IPython.notebook.execute_cell_range(IPython.notebook.get_selected_index()+1,IPython.notebook.get_selected_index()+2)"
      ],
      "text/plain": [
       "<IPython.core.display.Javascript object>"
      ]
     },
     "metadata": {},
     "output_type": "display_data"
    }
   ],
   "source": [
    "q4a_text = w.Textarea( value='', placeholder='Your calculations for Exercise 4.a.', description='', disabled=False , layout=Layout(width='100%', height='30px') )\n",
    "q4a_button = w.Button(button_style='info',description=\"Calculate\", layout=Layout(width='15%', height='30px'))\n",
    "\n",
    "display(q4a_text)\n",
    "display(q4a_button)\n",
    "\n",
    "q4a_button.on_click( rerun_cell ) "
   ]
  },
  {
   "cell_type": "code",
   "execution_count": 69,
   "metadata": {},
   "outputs": [
    {
     "data": {
      "text/markdown": [
       "Your answer contains invalid inputs or operations."
      ],
      "text/plain": [
       "<IPython.core.display.Markdown object>"
      ]
     },
     "metadata": {},
     "output_type": "display_data"
    }
   ],
   "source": [
    "# Obtain user's input\n",
    "\n",
    "q4a_input = q4a_text.value\n",
    "\n",
    "# Define the valid character inputs for this exercise\n",
    "\n",
    "numbers = '0123456789'\n",
    "operations = '+-*'\n",
    "others = ' .'\n",
    "valid_inputs = numbers + operations + others\n",
    "\n",
    "# Check if every character in user's string input is valid\n",
    "\n",
    "user_input_valid = all( ch in valid_inputs for ch in q4a_input)\n",
    "\n",
    "# Check for correctness of user's calculation\n",
    "\n",
    "if(q4a_input != '' and user_input_valid == True):\n",
    "    \n",
    "    user_answer = eval(q4a_input)\n",
    "    \n",
    "    display(Markdown(\"### You answered: \"))\n",
    "    display(Markdown(\"$\\$\"+str(user_answer)+\"$\"))\n",
    "    \n",
    "    if(user_answer == 892.50):\n",
    "    \n",
    "        display(Markdown(\"Your calculation is correct!\"))\n",
    "\n",
    "        q4a_button.close()\n",
    "        q4a_text.close()\n",
    "        \n",
    "    else:\n",
    "        \n",
    "        display(Markdown(\"Your calculation is incorrect. Try again.\"))\n",
    "  \n",
    "if(q4a_input != '' and user_input_valid == False):\n",
    "    \n",
    "    display(Markdown(\"Your answer contains invalid inputs or operations.\"))"
   ]
  },
  {
   "cell_type": "markdown",
   "metadata": {},
   "source": [
    "$\\hspace{1.5cm}$b.) Determine Lian's net pay for two weeks. "
   ]
  },
  {
   "cell_type": "code",
   "execution_count": 21,
   "metadata": {},
   "outputs": [
    {
     "data": {
      "application/vnd.jupyter.widget-view+json": {
       "model_id": "be3101675362489986000691db8a2bb3",
       "version_major": 2,
       "version_minor": 0
      },
      "text/plain": [
       "A Jupyter Widget"
      ]
     },
     "metadata": {},
     "output_type": "display_data"
    },
    {
     "data": {
      "application/vnd.jupyter.widget-view+json": {
       "model_id": "ad878cf5a15b41e584d5c36124a6dc47",
       "version_major": 2,
       "version_minor": 0
      },
      "text/plain": [
       "A Jupyter Widget"
      ]
     },
     "metadata": {},
     "output_type": "display_data"
    },
    {
     "data": {
      "application/javascript": [
       "IPython.notebook.execute_cell_range(IPython.notebook.get_selected_index()+1,IPython.notebook.get_selected_index()+2)"
      ],
      "text/plain": [
       "<IPython.core.display.Javascript object>"
      ]
     },
     "metadata": {},
     "output_type": "display_data"
    }
   ],
   "source": [
    "q4b_text = w.Textarea( value='', placeholder='Your calculations for Exercise 4.b.', description='', disabled=False , layout=Layout(width='100%', height='30px') )\n",
    "q4b_button = w.Button(button_style='info',description=\"Calculate\", layout=Layout(width='15%', height='30px'))\n",
    "\n",
    "display(q4b_text)\n",
    "display(q4b_button)\n",
    "\n",
    "q4b_button.on_click( rerun_cell ) "
   ]
  },
  {
   "cell_type": "code",
   "execution_count": 70,
   "metadata": {},
   "outputs": [
    {
     "data": {
      "text/markdown": [
       "Your answer contains invalid inputs or operations."
      ],
      "text/plain": [
       "<IPython.core.display.Markdown object>"
      ]
     },
     "metadata": {},
     "output_type": "display_data"
    }
   ],
   "source": [
    "# Obtain user's input\n",
    "\n",
    "q4b_input = q4b_text.value\n",
    "\n",
    "# Define the valid character inputs for this exercise\n",
    "\n",
    "numbers = '0123456789'\n",
    "operations = '+-*'\n",
    "others = ' .'\n",
    "valid_inputs = numbers + operations + others\n",
    "\n",
    "# Check if every character in user's string input is valid\n",
    "\n",
    "user_input_valid = all( ch in valid_inputs for ch in q4a_input)\n",
    "\n",
    "# Check for correctness of user's calculation\n",
    "\n",
    "if(q4b_input != '' and user_input_valid == True):\n",
    "    \n",
    "    user_answer = round(eval(q4b_input),2)\n",
    "    correct_answer = round(eval(\"892.5 - 71.19 - 35.82 - 14.85\"),2)\n",
    "    \n",
    "    display(Markdown(\"### You answered: \"))\n",
    "    display(Markdown(\"$\\$\"+str(user_answer)+\"$\"))\n",
    "    \n",
    "    if(user_answer == correct_answer):\n",
    "\n",
    "        q4b_button.close()\n",
    "        q4b_text.close()\n",
    "        \n",
    "        display(Markdown(\"Your calculation is correct!\"))\n",
    "        \n",
    "    else:\n",
    "        \n",
    "        display(Markdown(\"Your calculation is incorrect. Try again.\"))    \n",
    "\n",
    "if(q4b_input != '' and user_input_valid == False):\n",
    "    \n",
    "    display(Markdown(\"Your answer contains invalid inputs or operations.\"))"
   ]
  },
  {
   "cell_type": "markdown",
   "metadata": {},
   "source": [
    "---\n",
    "\n",
    "<h1 align='center'>Character Section Lesson</h1>\n",
    "\n",
    "To conclude the Chapter 1 Assignment, you will be constructing a conservative budget and answering a \"what if\" question. You will be marked using a rubric that is located on the last page of the booklet.\n",
    "\n",
    "### Character Background\n",
    "\n",
    "Emma, a high school student working at a local grocery store as a cashier.\n",
    "\n",
    "### Personal Background\n",
    "\n",
    "Emma is 16 years old, in grade 11 and living at home with her parents. She plays soccer and rugby. Emma is the bass player in a band. Currently, she is using an old bass guitar that her dad played in the 80s, and she would like to buy her own. Her goal is to buy it in five months because the band has a big gig coming up in six months. The new bass costs $828.45 including GST.\n",
    "\n",
    "\n",
    "### Salary\n",
    "\n",
    "\n",
    "Emma works part-time at Gobey’s Grocery. She is paid a biweekly amount of $321.13.\n",
    "\n",
    "Emma babysits occasionally for her neighbours for $10.00 an hour. Several families Emma babysits for pay her by cheque, and Emma puts the money directly into her bank account.\n",
    "\n",
    "### Expenses\n",
    "\n",
    "Emma’s parents have encouraged her to save for post-secondary schooling. To achieve this, Emma and her parents set up a direct withdrawal from her bank account of $40.00 a paycheque into an RESP account. Emma pays for her own transit pass, which she uses to travel around the city. Emma is very thrifty and creative, so she chooses to shop for clothing at local second-hand stores. Emma’s position as the bass player in a local band requires her to maintain her instrument and provide her own sound equipment.\n",
    "\n",
    "Emma downloads the bank record of her spending during two months (February and March).\n",
    "\n",
    "### Notes\n",
    "\n",
    "* The credit column contains all income (part-time job and babysitting).\n",
    "\n",
    "* The debit column contains all expenses that Emma has paid.\n",
    "\n",
    "* An automatic withdrawal of $40.00 each paycheque goes into an RESP account.\n",
    "\n",
    "* In February, Emma paid rugby fees with cash, which are $180.00.\n",
    "\n",
    "* At the end of March, Emmas’ soccer team went to an overnight tournament for which she paid $160.00 in cash as her portion of the hotel room.\n",
    "\n",
    "<h2 align='center'>Character Section Lesson Exercises</h2>"
   ]
  },
  {
   "cell_type": "markdown",
   "metadata": {},
   "source": [
    "**Question 1.** List **at least two** reasons Emma might want to prepare a budget for herself."
   ]
  },
  {
   "cell_type": "code",
   "execution_count": 23,
   "metadata": {},
   "outputs": [
    {
     "data": {
      "application/vnd.jupyter.widget-view+json": {
       "model_id": "0c80f69b70aa40d8857e165b9313b2b9",
       "version_major": 2,
       "version_minor": 0
      },
      "text/plain": [
       "A Jupyter Widget"
      ]
     },
     "metadata": {},
     "output_type": "display_data"
    },
    {
     "data": {
      "application/vnd.jupyter.widget-view+json": {
       "model_id": "8c35736aafac43a089436c4e2cf20025",
       "version_major": 2,
       "version_minor": 0
      },
      "text/plain": [
       "A Jupyter Widget"
      ]
     },
     "metadata": {},
     "output_type": "display_data"
    },
    {
     "data": {
      "application/javascript": [
       "IPython.notebook.execute_cell_range(IPython.notebook.get_selected_index()+1,IPython.notebook.get_selected_index()+2)"
      ],
      "text/plain": [
       "<IPython.core.display.Javascript object>"
      ]
     },
     "metadata": {},
     "output_type": "display_data"
    }
   ],
   "source": [
    "emma1_text = w.Textarea( value='', placeholder='Write your answer here for Question 1.', description='', disabled=False , layout=Layout(width='100%', height='75px') )\n",
    "emma1_button = w.Button(button_style='info',description=\"Record Answer\", layout=Layout(width='15%', height='30px'))\n",
    "\n",
    "display(emma1_text)\n",
    "display(emma1_button)\n",
    "\n",
    "emma1_button.on_click( rerun_cell ) "
   ]
  },
  {
   "cell_type": "code",
   "execution_count": 71,
   "metadata": {},
   "outputs": [
    {
     "data": {
      "text/markdown": [
       "### Your answer for Question 1:"
      ],
      "text/plain": [
       "<IPython.core.display.Markdown object>"
      ]
     },
     "metadata": {},
     "output_type": "display_data"
    },
    {
     "data": {
      "text/markdown": [
       "To save money for retirement."
      ],
      "text/plain": [
       "<IPython.core.display.Markdown object>"
      ]
     },
     "metadata": {},
     "output_type": "display_data"
    }
   ],
   "source": [
    "emma1_input = emma1_text.value\n",
    "\n",
    "if(emma1_input != ''):\n",
    "    \n",
    "    emma1_text.close()\n",
    "    emma1_button.close()\n",
    "    display(Markdown(\"### Your answer for Question 1:\"))\n",
    "    display(Markdown(emma1_input))"
   ]
  },
  {
   "cell_type": "markdown",
   "metadata": {},
   "source": [
    "**Question 2.** Determine Emma’s net income for the month of March. Her bank statements are displayed below."
   ]
  },
  {
   "cell_type": "code",
   "execution_count": 25,
   "metadata": {},
   "outputs": [
    {
     "data": {
      "text/markdown": [
       "<h2 align='center'>Emma's February Transactions</h2>"
      ],
      "text/plain": [
       "<IPython.core.display.Markdown object>"
      ]
     },
     "metadata": {},
     "output_type": "display_data"
    },
    {
     "data": {
      "application/vnd.jupyter.widget-view+json": {
       "model_id": "4b0b1d0e89cc494f91438611c42c9b20",
       "version_major": 2,
       "version_minor": 0
      },
      "text/plain": [
       "A Jupyter Widget"
      ]
     },
     "metadata": {},
     "output_type": "display_data"
    }
   ],
   "source": [
    "# Prepare dataframes for Emma's February & March Transactions\n",
    "\n",
    "entry_types = {'Debit ($)': str , 'Credit ($)' : str}\n",
    "\n",
    "february_transactions_df = pd.read_csv('./data/februarytransactions.csv',converters=entry_types)\n",
    "february_transactions_df.set_index('Date',inplace=True)\n",
    "february_transactions_df[['Debit ($)','Credit ($)']] = february_transactions_df[['Debit ($)','Credit ($)']].replace(np.nan,\"0.00\")\n",
    "\n",
    "march_transactions_df = pd.read_csv('./data/marchtransactions.csv',converters=entry_types)\n",
    "march_transactions_df.set_index('Date',inplace=True)\n",
    "march_transactions_df[['Debit ($)','Credit ($)']] = march_transactions_df[['Debit ($)','Credit ($)']].replace(np.nan,\"0.00\")\n",
    "\n",
    "# Control grid features\n",
    "\n",
    "emma_grid_features = { 'fullWidthRows': True,\n",
    "                  'syncColumnCellResize': True,\n",
    "                  'forceFitColumns': True,\n",
    "                  'rowHeight': 40,\n",
    "                  'enableColumnReorder': True,\n",
    "                  'enableTextSelectionOnCells': True,\n",
    "                  'editable': False,\n",
    "                  'filterable': False,\n",
    "                  'sortable': False,\n",
    "                  'highlightSelectedRow': True}\n",
    "\n",
    "q_emma_feb = q.show_grid( february_transactions_df , grid_options = emma_grid_features ) \n",
    "q_emma_mar = q.show_grid( march_transactions_df , grid_options = emma_grid_features ) \n",
    "\n",
    "display(Markdown(\"<h2 align='center'>Emma's February Transactions</h2>\"))\n",
    "\n",
    "display(q_emma_feb)"
   ]
  },
  {
   "cell_type": "markdown",
   "metadata": {},
   "source": [
    "**Write your calculations below.**\n",
    "* Valid inputs: Numbers and decimals.\n",
    "* Valid operations: `+` for addition.\n",
    "\n",
    "**Example input:** `35 + 27.13 + 11.32`"
   ]
  },
  {
   "cell_type": "code",
   "execution_count": 26,
   "metadata": {
    "scrolled": true
   },
   "outputs": [
    {
     "data": {
      "application/vnd.jupyter.widget-view+json": {
       "model_id": "fd28e2fa19194946ab82a5d571457354",
       "version_major": 2,
       "version_minor": 0
      },
      "text/plain": [
       "A Jupyter Widget"
      ]
     },
     "metadata": {},
     "output_type": "display_data"
    },
    {
     "data": {
      "application/vnd.jupyter.widget-view+json": {
       "model_id": "f65faaf081ba4453947f363f8361f4a9",
       "version_major": 2,
       "version_minor": 0
      },
      "text/plain": [
       "A Jupyter Widget"
      ]
     },
     "metadata": {},
     "output_type": "display_data"
    }
   ],
   "source": [
    "feb_text = w.Textarea( value='', placeholder=\"Enter your calculation here to determine Emma's net income for the month of February. Hint: which column do Emma's income come from?\", description='', disabled=False , layout=Layout(width='100%', height='30px') )\n",
    "feb_button = w.Button(button_style='info',description=\"Calculate\", layout=Layout(width='15%', height='30px'))\n",
    "\n",
    "display(feb_text)\n",
    "display(feb_button)\n",
    "\n",
    "feb_button.on_click( rerun_cell ) "
   ]
  },
  {
   "cell_type": "code",
   "execution_count": 27,
   "metadata": {
    "collapsed": true
   },
   "outputs": [],
   "source": [
    "# Obtain user's input\n",
    "\n",
    "feb_input = feb_text.value\n",
    "\n",
    "# Define the valid character inputs for this exercise\n",
    "\n",
    "numbers = '0123456789'\n",
    "operations = '+'\n",
    "others = ' .'\n",
    "valid_inputs = numbers + operations + others\n",
    "\n",
    "# Check if every character in user's string input is valid\n",
    "\n",
    "user_input_valid = all( ch in valid_inputs for ch in feb_input)\n",
    "\n",
    "# Check for correctness of user's calculation\n",
    "\n",
    "if(feb_input != '' and user_input_valid == True):\n",
    "    \n",
    "    user_answer = eval(feb_input)\n",
    "    \n",
    "    display(Markdown(\"### You answered: \"))\n",
    "    display(Markdown(\"$\\$\"+str(user_answer)+\"$\"))\n",
    "    \n",
    "    if(user_answer == 1042.26):\n",
    "                \n",
    "        feb_button.close()\n",
    "        feb_text.close()\n",
    "        \n",
    "        display(Markdown(\"Your calculation is correct!\"))\n",
    "        \n",
    "    else:\n",
    "        \n",
    "        display(Markdown(\"Your calculation is incorrect. Try again.\"))   \n",
    "\n",
    "if(feb_input != '' and user_input_valid == False):\n",
    "    \n",
    "    display(Markdown(\"Your answer contains invalid inputs or operations.\"))"
   ]
  },
  {
   "cell_type": "code",
   "execution_count": 28,
   "metadata": {
    "scrolled": false
   },
   "outputs": [
    {
     "data": {
      "text/markdown": [
       "<h2 align='center'>Emma's March Transactions</h2>"
      ],
      "text/plain": [
       "<IPython.core.display.Markdown object>"
      ]
     },
     "metadata": {},
     "output_type": "display_data"
    },
    {
     "data": {
      "application/vnd.jupyter.widget-view+json": {
       "model_id": "bf4a195305b1406aaf064888f1dd0083",
       "version_major": 2,
       "version_minor": 0
      },
      "text/plain": [
       "A Jupyter Widget"
      ]
     },
     "metadata": {},
     "output_type": "display_data"
    }
   ],
   "source": [
    "display(Markdown(\"<h2 align='center'>Emma's March Transactions</h2>\"))\n",
    "\n",
    "display(q_emma_mar)"
   ]
  },
  {
   "cell_type": "markdown",
   "metadata": {},
   "source": [
    "**Write your calculations below.**\n",
    "* Valid inputs: Numbers and decimals.\n",
    "* Valid operations: `+` for addition.\n",
    "\n",
    "**Example input:** `35 + 27.13 + 11.32`"
   ]
  },
  {
   "cell_type": "code",
   "execution_count": 29,
   "metadata": {},
   "outputs": [
    {
     "data": {
      "application/vnd.jupyter.widget-view+json": {
       "model_id": "bcc338279d264d309ce0368042a2954e",
       "version_major": 2,
       "version_minor": 0
      },
      "text/plain": [
       "A Jupyter Widget"
      ]
     },
     "metadata": {},
     "output_type": "display_data"
    },
    {
     "data": {
      "application/vnd.jupyter.widget-view+json": {
       "model_id": "3418a90c2ede40f3a4a1dda3c362dd67",
       "version_major": 2,
       "version_minor": 0
      },
      "text/plain": [
       "A Jupyter Widget"
      ]
     },
     "metadata": {},
     "output_type": "display_data"
    }
   ],
   "source": [
    "mar_text = w.Textarea( value='', placeholder=\"Enter your calculation here to determine Emma's net income for the month of March. Hint: which column do Emma's income come from?\", description='', disabled=False , layout=Layout(width='100%', height='30px') )\n",
    "mar_button = w.Button(button_style='info',description=\"Calculate\", layout=Layout(width='15%', height='30px'))\n",
    "\n",
    "display(mar_text)\n",
    "display(mar_button)\n",
    "\n",
    "mar_button.on_click( rerun_cell ) "
   ]
  },
  {
   "cell_type": "code",
   "execution_count": 30,
   "metadata": {
    "collapsed": true
   },
   "outputs": [],
   "source": [
    "# Obtain user's input\n",
    "\n",
    "mar_input = mar_text.value\n",
    "\n",
    "# Define the valid character inputs for this exercise\n",
    "\n",
    "numbers = '0123456789'\n",
    "operations = '+'\n",
    "others = ' .'\n",
    "valid_inputs = numbers + operations + others\n",
    "\n",
    "# Check if every character in user's string input is valid\n",
    "\n",
    "user_input_valid = all( ch in valid_inputs for ch in mar_input)\n",
    "\n",
    "# Check for correctness of user's calculation\n",
    "\n",
    "if(mar_input != '' and user_input_valid == True):\n",
    "    \n",
    "    user_answer = eval(mar_input)\n",
    "    \n",
    "    display(Markdown(\"### You answered: \"))\n",
    "    display(Markdown(\"$\\$\"+str(user_answer)+\"$\"))\n",
    "    \n",
    "    if(user_answer == 922.26):\n",
    "        \n",
    "        mar_button.close()\n",
    "        mar_text.close()\n",
    "        \n",
    "        display(Markdown(\"Your calculation is correct!\"))\n",
    "        \n",
    "    else:\n",
    "        \n",
    "        display(Markdown(\"Your calculation is incorrect. Try again.\"))     \n",
    "\n",
    "if(mar_input != '' and user_input_valid == False):\n",
    "    \n",
    "    display(Markdown(\"Your answer contains invalid inputs or operations.\"))"
   ]
  },
  {
   "cell_type": "markdown",
   "metadata": {},
   "source": [
    "**Question 3.** Categorize Emma’s income as fixed, variable or both. Explain."
   ]
  },
  {
   "cell_type": "code",
   "execution_count": 31,
   "metadata": {},
   "outputs": [
    {
     "data": {
      "application/vnd.jupyter.widget-view+json": {
       "model_id": "993e66a180614d619a1f75b956f8b8d3",
       "version_major": 2,
       "version_minor": 0
      },
      "text/plain": [
       "A Jupyter Widget"
      ]
     },
     "metadata": {},
     "output_type": "display_data"
    },
    {
     "data": {
      "application/vnd.jupyter.widget-view+json": {
       "model_id": "6c91461f66b141a1bcd2b862608e7cfd",
       "version_major": 2,
       "version_minor": 0
      },
      "text/plain": [
       "A Jupyter Widget"
      ]
     },
     "metadata": {},
     "output_type": "display_data"
    }
   ],
   "source": [
    "emma3_text = w.Textarea( value='', placeholder='Write your answer here for Question 3.', description='', disabled=False , layout=Layout(width='100%', height='75px') )\n",
    "emma3_button = w.Button(button_style='info',description=\"Record Answer\", layout=Layout(width='15%', height='30px'))\n",
    "\n",
    "display(emma3_text)\n",
    "display(emma3_button)\n",
    "\n",
    "emma3_button.on_click( rerun_cell ) "
   ]
  },
  {
   "cell_type": "code",
   "execution_count": 32,
   "metadata": {
    "collapsed": true
   },
   "outputs": [],
   "source": [
    "emma3_input = emma3_text.value\n",
    "\n",
    "if(emma3_input != ''):\n",
    "    \n",
    "    emma3_text.close()\n",
    "    emma3_button.close()\n",
    "    display(Markdown(\"### Your answer for Question 3:\"))\n",
    "    display(Markdown(emma3_input))"
   ]
  },
  {
   "cell_type": "markdown",
   "metadata": {},
   "source": [
    "<h2 align='center'>Interactive Exercise: Entering & Saving Spreadsheet Data</h2>\n",
    "\n",
    "**Question 4.** By analyzing the bank statements for the two months, complete the following tables for each month.\n",
    "\n",
    "$\\hspace{0.35cm}$**a.)** For each row in the table, fill the **Expense Category** column with the appropriate expense label. The valid choices are listed below - write the associated upper case letter for each expense. Expand the **Description** column to see the expense entry.\n",
    "\n",
    "**Categories: **\n",
    "\n",
    "$$\\text{(S) Savings, (U) Utilities, (C) Clothing, (E) Entertainment, (M) Miscellaneous, (P) Personal Care, (T) Transporation, (F) Food}$$"
   ]
  },
  {
   "cell_type": "code",
   "execution_count": 33,
   "metadata": {},
   "outputs": [
    {
     "data": {
      "application/vnd.jupyter.widget-view+json": {
       "model_id": "c75a745bfc02410888ff597013ce6cce",
       "version_major": 2,
       "version_minor": 0
      },
      "text/plain": [
       "A Jupyter Widget"
      ]
     },
     "metadata": {},
     "output_type": "display_data"
    },
    {
     "data": {
      "application/vnd.jupyter.widget-view+json": {
       "model_id": "05a031361b7b4215b8021989f9eb04ce",
       "version_major": 2,
       "version_minor": 0
      },
      "text/plain": [
       "A Jupyter Widget"
      ]
     },
     "metadata": {},
     "output_type": "display_data"
    }
   ],
   "source": [
    "# Note to developers:\n",
    "# 1. data in tables below obtained by converting relevant pages from Math20-3Unit1Key.pdf into .csv format.\n",
    "# 2. this part of the interactive focuses on categorizing expenses\n",
    "\n",
    "# Answer key for this lesson\n",
    "\n",
    "feb_expenses_answer_key = ['S', 'T', 'F', 'U', 'F', 'F', 'F', 'C', 'E', 'S', 'F', 'F', 'E', 'M', 'M', 'F', 'F', 'M', 'M', 'C']\n",
    "feb_fv_answer_key = ['V','V','V','V','F','F','F']\n",
    "\n",
    "# Setting up the dataframe \n",
    "\n",
    "pd.options.display.max_rows = 50 \n",
    "\n",
    "entry_types = {'Debit ($)': str , 'Balance ($)' : str}\n",
    "\n",
    "february_df = pd.read_csv('./data/februarydebits.csv',converters=entry_types)\n",
    "february_df.set_index('Transaction #',inplace=True)\n",
    "february_df['Debit ($)'] = february_df['Debit ($)'].replace(np.nan,\"0.00\")\n",
    "february_df['Expense Category'] = february_df['Expense Category'].replace(np.nan,\"\")\n",
    "\n",
    "original_feb_df = february_df[['Date','Description','Debit ($)','Balance ($)']]\n",
    "\n",
    "# Display interactive grid 1: categorizing expenses\n",
    "\n",
    "q_february_df = q.show_grid( february_df , grid_options = grid_features )\n",
    "\n",
    "# Recording answers\n",
    "\n",
    "q4a_button = w.Button(button_style='info',description=\"Record Answers\", layout=Layout(width='15%', height='30px'))\n",
    "\n",
    "def record_spreadsheet(button_widget):\n",
    "    \n",
    "    display(Javascript('IPython.notebook.execute_cell_range(IPython.notebook.get_selected_index()+1,IPython.notebook.get_selected_index()+3)'))\n",
    "\n",
    "display(q_february_df)\n",
    "display(q4a_button)\n",
    "\n",
    "q4a_button.on_click( record_spreadsheet )"
   ]
  },
  {
   "cell_type": "code",
   "execution_count": 34,
   "metadata": {},
   "outputs": [
    {
     "data": {
      "application/vnd.jupyter.widget-view+json": {
       "model_id": "2d0325998977468aa0925702dd864233",
       "version_major": 2,
       "version_minor": 0
      },
      "text/plain": [
       "A Jupyter Widget"
      ]
     },
     "metadata": {},
     "output_type": "display_data"
    }
   ],
   "source": [
    "# Recover entries\n",
    "\n",
    "q4a_recover_button = w.Button(button_style='info',description=\"Reset all values\", layout=Layout(width='15%', height='30px'))\n",
    "\n",
    "def recover_entries(button_widget):\n",
    "    \n",
    "    display(Javascript('IPython.notebook.execute_cell_range(IPython.notebook.get_selected_index()-1,IPython.notebook.get_selected_index()+0)'))\n",
    "    \n",
    "display(q4a_recover_button)\n",
    "\n",
    "q4a_recover_button.on_click( recover_entries )"
   ]
  },
  {
   "cell_type": "code",
   "execution_count": 35,
   "metadata": {},
   "outputs": [
    {
     "data": {
      "text/markdown": [
       "Some of your inputs are incorrect."
      ],
      "text/plain": [
       "<IPython.core.display.Markdown object>"
      ]
     },
     "metadata": {},
     "output_type": "display_data"
    }
   ],
   "source": [
    "# Obtain the changed dataframe\n",
    "\n",
    "student_feb_df = q_february_df.get_changed_df()\n",
    "\n",
    "# Check answers\n",
    "\n",
    "answer_list = ['S','F','C','E','T','U','M']\n",
    "\n",
    "answers_valid = check_answers(student_feb_df['Expense Category'],answer_list)\n",
    "\n",
    "if(answers_valid == 0):\n",
    "    \n",
    "    display(Markdown(\"Some of your inputs are invalid. Please enter inputs from the following list: S,U,C,E,M,P,T,F\"))\n",
    "\n",
    "\n",
    "# Group the dataframe according to student's expense categories once student's answers are correct\n",
    "\n",
    "if(answers_valid == 1):\n",
    "    \n",
    "    # Check if every entry matches the answer key\n",
    "    \n",
    "    student_answers = (student_feb_df['Expense Category'].values).tolist() \n",
    "    \n",
    "    if( feb_expenses_answer_key == student_answers):\n",
    "        \n",
    "        display(Markdown(\"Your selections are correct!\"))\n",
    "\n",
    "        q4a_button.close()\n",
    "        q4a_recover_button.close()\n",
    "        q_february_df.close()\n",
    "        \n",
    "        q4a_grid_features = { 'fullWidthRows': True,\n",
    "                          'syncColumnCellResize': True,\n",
    "                          'forceFitColumns': True,\n",
    "                          'rowHeight': 40,\n",
    "                          'enableColumnReorder': True,\n",
    "                          'enableTextSelectionOnCells': True,\n",
    "                          'editable': False,\n",
    "                          'filterable': False,\n",
    "                          'sortable': False,\n",
    "                          'highlightSelectedRow': True}\n",
    "        \n",
    "        student_q4a_df = q.show_grid( student_feb_df , grid_options = q4a_grid_features )\n",
    "        \n",
    "        display(student_q4a_df)\n",
    "        \n",
    "    else:\n",
    "        \n",
    "        display(Markdown(\"Some of your inputs are incorrect.\"))"
   ]
  },
  {
   "cell_type": "markdown",
   "metadata": {},
   "source": [
    "$\\hspace{0.35cm}$**b.)** Calculate the total of each expense category you used in (a). \n",
    "\n",
    "$\\hspace{3cm}$This is done for you. Proceed to exercise (c)."
   ]
  },
  {
   "cell_type": "code",
   "execution_count": 36,
   "metadata": {},
   "outputs": [
    {
     "data": {
      "application/vnd.jupyter.widget-view+json": {
       "model_id": "57c170862a19453eb370165c272e38b2",
       "version_major": 2,
       "version_minor": 0
      },
      "text/plain": [
       "A Jupyter Widget"
      ]
     },
     "metadata": {},
     "output_type": "display_data"
    }
   ],
   "source": [
    "q4b_df = pd.read_csv('./data/expensesum.csv')\n",
    "q4b_df.set_index(\"Expense Category\",inplace=True)\n",
    "q_q4b_df = q.show_grid( q4b_df , grid_options = grid_features ) \n",
    "display(q_q4b_df)"
   ]
  },
  {
   "cell_type": "markdown",
   "metadata": {},
   "source": [
    "$\\hspace{0.35cm}$**c.)** For each category, determine whether it is **fixed** or **variable**. Enter F for fixed and V for variable."
   ]
  },
  {
   "cell_type": "code",
   "execution_count": 37,
   "metadata": {},
   "outputs": [
    {
     "data": {
      "application/vnd.jupyter.widget-view+json": {
       "model_id": "f488bb51ddb543fb90481f84151ef911",
       "version_major": 2,
       "version_minor": 0
      },
      "text/plain": [
       "A Jupyter Widget"
      ]
     },
     "metadata": {},
     "output_type": "display_data"
    },
    {
     "data": {
      "application/vnd.jupyter.widget-view+json": {
       "model_id": "15885fec3e8247918ce532b078bf36f6",
       "version_major": 2,
       "version_minor": 0
      },
      "text/plain": [
       "A Jupyter Widget"
      ]
     },
     "metadata": {},
     "output_type": "display_data"
    }
   ],
   "source": [
    "# Setting up the dataframe \n",
    "\n",
    "fixed_or_var_df = pd.read_csv('./data/fixedorvar.csv')\n",
    "fixed_or_var_df.set_index('Expense Category',inplace=True)\n",
    "fixed_or_var_df['Fixed or Variable'] = fixed_or_var_df['Fixed or Variable'].replace(np.nan,\"\")\n",
    "\n",
    "q_fixed_or_var_df = q.show_grid( fixed_or_var_df , grid_options = grid_features)\n",
    "\n",
    "q4c_button = w.Button(button_style='info',description=\"Record Answers\", layout=Layout(width='15%', height='30px'))\n",
    "\n",
    "def record_spreadsheet(button_widget):\n",
    "    \n",
    "    display(Javascript('IPython.notebook.execute_cell_range(IPython.notebook.get_selected_index()+1,IPython.notebook.get_selected_index()+2)'))\n",
    "\n",
    "display(q_fixed_or_var_df)\n",
    "display(q4c_button)\n",
    "\n",
    "q4c_button.on_click( record_spreadsheet )"
   ]
  },
  {
   "cell_type": "code",
   "execution_count": 38,
   "metadata": {},
   "outputs": [
    {
     "data": {
      "text/markdown": [
       "Please fill all the entries in the spreadsheet above."
      ],
      "text/plain": [
       "<IPython.core.display.Markdown object>"
      ]
     },
     "metadata": {},
     "output_type": "display_data"
    }
   ],
   "source": [
    "# Obtain the changed dataframe\n",
    "\n",
    "q4c_df = q_fixed_or_var_df.get_changed_df()\n",
    "\n",
    "# Check answers\n",
    "\n",
    "q4c_answer_list = ['V','F','V','F','V','V','V','V']\n",
    "q4c_student_answer = (q4c_df['Fixed or Variable'].values).tolist()\n",
    "\n",
    "def check_q4c(student_inputs):\n",
    "    \n",
    "    valid_inputs = 'VF'\n",
    "    \n",
    "    for entry in student_inputs:\n",
    "        \n",
    "        if(entry not in valid_inputs):\n",
    "            \n",
    "            display(Markdown(\"Please enter valid inputs only.\"))\n",
    "            \n",
    "            return False\n",
    "        \n",
    "        if(entry == ''):\n",
    "            \n",
    "            display(Markdown(\"Please fill all the entries in the spreadsheet above.\"))\n",
    "            \n",
    "            return False\n",
    "        \n",
    "    return True\n",
    "        \n",
    "if(check_q4c(q4c_student_answer) == True):\n",
    "    \n",
    "    if(q4c_student_answer == q4c_answer_list):\n",
    "        \n",
    "        display(Markdown(\"Your selections are correct!\"))\n",
    "        \n",
    "        q4c_grid_features = { 'fullWidthRows': True,\n",
    "                          'syncColumnCellResize': True,\n",
    "                          'forceFitColumns': True,\n",
    "                          'rowHeight': 40,\n",
    "                          'enableColumnReorder': True,\n",
    "                          'enableTextSelectionOnCells': True,\n",
    "                          'editable': False,\n",
    "                          'filterable': False,\n",
    "                          'sortable': False,\n",
    "                          'highlightSelectedRow': True}\n",
    "        \n",
    "        student_q4c_df = q.show_grid( q4c_df , grid_options = q4c_grid_features )\n",
    "        \n",
    "        q_fixed_or_var_df.close()\n",
    "        \n",
    "        display(student_q4c_df)\n",
    "        \n",
    "    else:\n",
    "        \n",
    "        display(Markdown(\"Some inputs are incorrect.\"))"
   ]
  },
  {
   "cell_type": "markdown",
   "metadata": {},
   "source": [
    "**Question 5.** Construct a **monthly** conservative budget skeleton for Emma based upon her February and March data. To do this, compare the data for February and March and use the _highest_ expense amount for each category.\n",
    "\n",
    "**Note: ** The **February Expense Data** and **March Expense Data** are given below."
   ]
  },
  {
   "cell_type": "code",
   "execution_count": 39,
   "metadata": {},
   "outputs": [
    {
     "data": {
      "application/vnd.jupyter.widget-view+json": {
       "model_id": "a58b030f8870458ba12bb3a936ede71f",
       "version_major": 2,
       "version_minor": 0
      },
      "text/plain": [
       "A Jupyter Widget"
      ]
     },
     "metadata": {},
     "output_type": "display_data"
    },
    {
     "data": {
      "application/vnd.jupyter.widget-view+json": {
       "model_id": "3aa5647646dd439397c8dd996ec083b5",
       "version_major": 2,
       "version_minor": 0
      },
      "text/plain": [
       "A Jupyter Widget"
      ]
     },
     "metadata": {},
     "output_type": "display_data"
    }
   ],
   "source": [
    "entry_types = {'February Totals ($)': str , 'March Totals ($)' : str}\n",
    "\n",
    "comparison_df = pd.read_csv('./data/expensecomparison.csv',converters = entry_types)\n",
    "comparison_df.set_index('Expense Categories',inplace=True)\n",
    "comparison_df['Highest Expense Amount ($)'] = comparison_df['Highest Expense Amount ($)'].replace(np.nan,\"\")\n",
    "\n",
    "del comparison_df['Transaction #']\n",
    "\n",
    "q_comparison_df = q.show_grid( comparison_df , grid_options = grid_features )\n",
    "\n",
    "expense_button = w.Button(button_style='info',description=\"Record Answers\", layout=Layout(width='15%', height='30px'))\n",
    "\n",
    "def record_spreadsheet(button_widget):\n",
    "    \n",
    "    display(Javascript('IPython.notebook.execute_cell_range(IPython.notebook.get_selected_index()+1,IPython.notebook.get_selected_index()+3)'))    \n",
    "    \n",
    "display(q_comparison_df)\n",
    "display(expense_button)\n",
    "\n",
    "expense_button.on_click( record_spreadsheet )"
   ]
  },
  {
   "cell_type": "code",
   "execution_count": 40,
   "metadata": {},
   "outputs": [
    {
     "data": {
      "application/vnd.jupyter.widget-view+json": {
       "model_id": "189607f4435a4f30a94c863c47c22d2f",
       "version_major": 2,
       "version_minor": 0
      },
      "text/plain": [
       "A Jupyter Widget"
      ]
     },
     "metadata": {},
     "output_type": "display_data"
    }
   ],
   "source": [
    "# Recover entries\n",
    "\n",
    "recover_button = w.Button(button_style='info',description=\"Reset all values\", layout=Layout(width='15%', height='30px'))\n",
    "\n",
    "def recover_entries(button_widget):\n",
    "    \n",
    "    display(Javascript('IPython.notebook.execute_cell_range(IPython.notebook.get_selected_index()-1,IPython.notebook.get_selected_index()+0)'))\n",
    "    \n",
    "display(recover_button)\n",
    "\n",
    "recover_button.on_click( recover_entries )"
   ]
  },
  {
   "cell_type": "code",
   "execution_count": 41,
   "metadata": {},
   "outputs": [
    {
     "data": {
      "text/markdown": [
       "Some of your entries are incorrect. Please fill them with the correct values. Make sure to write numbers in decimal form. Write 80.00 for 80, 206.00, etc."
      ],
      "text/plain": [
       "<IPython.core.display.Markdown object>"
      ]
     },
     "metadata": {},
     "output_type": "display_data"
    }
   ],
   "source": [
    "# Obtain changed dataframe\n",
    "\n",
    "student_comparison_df = q_comparison_df.get_changed_df()\n",
    "\n",
    "# Answers \n",
    "\n",
    "correct_answers = ['80.00', '73.50', '91.95', '30.15', '189.45', '233.64', '206.00', '116.53']\n",
    "student_answers = (student_comparison_df['Highest Expense Amount ($)'].values).tolist()\n",
    "\n",
    "# Function to check if every entry is a valid input\n",
    "\n",
    "def check_floats(input_array):\n",
    "    \n",
    "    valid_inputs = '0123456789.'\n",
    "    \n",
    "    for answer in input_array:\n",
    "        \n",
    "        current_user_input = all( ch in valid_inputs for ch in answer)\n",
    "        \n",
    "        if(current_user_input == False):\n",
    "        \n",
    "            return False\n",
    "    \n",
    "    return True\n",
    "\n",
    "# Check if answer is correct\n",
    "\n",
    "if(check_floats(student_answers) == False):\n",
    "    \n",
    "    display(Markdown(\"Please enter decimal numbers only.\"))\n",
    "        \n",
    "else:\n",
    "\n",
    "    if(student_answers == correct_answers):\n",
    "\n",
    "        display(Markdown(\"Your choices are correct!\"))\n",
    "\n",
    "        recover_button.close()\n",
    "        expense_button.close()\n",
    "        q_comparison_df.close()\n",
    "      \n",
    "        comparison_grid_features = { 'fullWidthRows': True,\n",
    "                                  'syncColumnCellResize': True,\n",
    "                                  'forceFitColumns': True,\n",
    "                                  'rowHeight': 40,\n",
    "                                  'enableColumnReorder': True,\n",
    "                                  'enableTextSelectionOnCells': True,\n",
    "                                  'editable': False,\n",
    "                                  'filterable': False,\n",
    "                                  'sortable': False,\n",
    "                                  'highlightSelectedRow': True}\n",
    "        \n",
    "        student_comparison_df = q.show_grid( student_comparison_df , grid_options = comparison_grid_features )\n",
    "        display(student_comparison_df)\n",
    "        \n",
    "    else:\n",
    "        \n",
    "        display(Markdown(\"Some of your entries are incorrect. Please fill them with the correct values. Make sure to write numbers in decimal form. Write 80.00 for 80, 206.00, etc.\"))"
   ]
  },
  {
   "cell_type": "markdown",
   "metadata": {
    "collapsed": true
   },
   "source": [
    "**Question 6.** If there is excess money, where should Emma put it? If there is not enough income for expenses, suggest how Emma can cover her expenses or reduce her expenses."
   ]
  },
  {
   "cell_type": "code",
   "execution_count": 42,
   "metadata": {
    "scrolled": false
   },
   "outputs": [
    {
     "data": {
      "application/vnd.jupyter.widget-view+json": {
       "model_id": "d7edfd79e1324122a26332d87028537d",
       "version_major": 2,
       "version_minor": 0
      },
      "text/plain": [
       "A Jupyter Widget"
      ]
     },
     "metadata": {},
     "output_type": "display_data"
    },
    {
     "data": {
      "application/vnd.jupyter.widget-view+json": {
       "model_id": "885da83f5e80472c83ed966ab766c54b",
       "version_major": 2,
       "version_minor": 0
      },
      "text/plain": [
       "A Jupyter Widget"
      ]
     },
     "metadata": {},
     "output_type": "display_data"
    }
   ],
   "source": [
    "q6_text = w.Textarea( value='', placeholder='Write your answer here for Question 6.', description='', disabled=False , layout=Layout(width='100%', height='75px') )\n",
    "q6_button = w.Button(button_style='info',description=\"Record Answer\", layout=Layout(width='15%', height='30px'))\n",
    "\n",
    "display(q6_text)\n",
    "display(q6_button)\n",
    "\n",
    "q6_button.on_click( rerun_cell ) "
   ]
  },
  {
   "cell_type": "code",
   "execution_count": 43,
   "metadata": {
    "collapsed": true
   },
   "outputs": [],
   "source": [
    "q6_input = q6_text.value\n",
    "\n",
    "if(q6_input != ''):\n",
    "    \n",
    "    q6_text.close()\n",
    "    q6_button.close()\n",
    "    display(Markdown(\"### Your answer for question 6:\"))\n",
    "    display(Markdown(q6_input))"
   ]
  },
  {
   "cell_type": "markdown",
   "metadata": {},
   "source": [
    "**Question 7.**\n",
    "\n",
    "$\\hspace{0.35cm}$**a.)** How much will Emma need to save each month to purchase a new base, in 5 months, that costs $\\$828.45$ (including GST)?"
   ]
  },
  {
   "cell_type": "code",
   "execution_count": 44,
   "metadata": {},
   "outputs": [
    {
     "data": {
      "application/vnd.jupyter.widget-view+json": {
       "model_id": "41eac646c7b640d5bc046cb4eeec62c2",
       "version_major": 2,
       "version_minor": 0
      },
      "text/plain": [
       "A Jupyter Widget"
      ]
     },
     "metadata": {},
     "output_type": "display_data"
    },
    {
     "data": {
      "application/vnd.jupyter.widget-view+json": {
       "model_id": "411709b9554841caacc02758961ced7c",
       "version_major": 2,
       "version_minor": 0
      },
      "text/plain": [
       "A Jupyter Widget"
      ]
     },
     "metadata": {},
     "output_type": "display_data"
    }
   ],
   "source": [
    "q7a_text = w.Textarea( value='', placeholder='Write your answer here for Question 7.a.', description='', disabled=False , layout=Layout(width='100%', height='75px') )\n",
    "q7a_button = w.Button(button_style='info',description=\"Record Answer\", layout=Layout(width='15%', height='30px'))\n",
    "\n",
    "display(q7a_text)\n",
    "display(q7a_button)\n",
    "\n",
    "q7a_button.on_click( rerun_cell ) "
   ]
  },
  {
   "cell_type": "code",
   "execution_count": 45,
   "metadata": {
    "collapsed": true
   },
   "outputs": [],
   "source": [
    "q7a_input = q7a_text.value\n",
    "\n",
    "if(q7a_input != ''):\n",
    "    \n",
    "    q7a_text.close()\n",
    "    q7a_button.close()\n",
    "    display(Markdown(\"### Your answer for question 7.a:\"))\n",
    "    display(Markdown(q7a_input))"
   ]
  },
  {
   "cell_type": "markdown",
   "metadata": {},
   "source": [
    "$\\hspace{0.35cm}$**b.)** Based upon her budget, will Emma be able to save enough? If not, modify her budget so that she can afford it. A new category has been added to show her savings for the bass.\n",
    "\n",
    "**Note:** Income and expenses should be balanced at this point.\n",
    "\n",
    "From the previous exercises, we saw that a conservative income for Emma was $\\$922.26$. In this exercise, we want to create a budget amount in such a way that the sum of each category is exactly $\\$922.26$."
   ]
  },
  {
   "cell_type": "code",
   "execution_count": 46,
   "metadata": {},
   "outputs": [
    {
     "data": {
      "text/markdown": [
       "<h2 align='center'>Emma's Modified Conservative Budget</h2>"
      ],
      "text/plain": [
       "<IPython.core.display.Markdown object>"
      ]
     },
     "metadata": {},
     "output_type": "display_data"
    },
    {
     "data": {
      "application/vnd.jupyter.widget-view+json": {
       "model_id": "eecf8d7760db4e89a1a77a657dfa683b",
       "version_major": 2,
       "version_minor": 0
      },
      "text/plain": [
       "A Jupyter Widget"
      ]
     },
     "metadata": {},
     "output_type": "display_data"
    },
    {
     "data": {
      "application/vnd.jupyter.widget-view+json": {
       "model_id": "5a737a6ac7824f96a36cbb7ddc4a99ec",
       "version_major": 2,
       "version_minor": 0
      },
      "text/plain": [
       "A Jupyter Widget"
      ]
     },
     "metadata": {},
     "output_type": "display_data"
    },
    {
     "data": {
      "application/javascript": [
       "IPython.notebook.execute_cell_range(IPython.notebook.get_selected_index()+1,IPython.notebook.get_selected_index()+3)"
      ],
      "text/plain": [
       "<IPython.core.display.Javascript object>"
      ]
     },
     "metadata": {},
     "output_type": "display_data"
    },
    {
     "data": {
      "application/javascript": [
       "IPython.notebook.execute_cell_range(IPython.notebook.get_selected_index()+1,IPython.notebook.get_selected_index()+3)"
      ],
      "text/plain": [
       "<IPython.core.display.Javascript object>"
      ]
     },
     "metadata": {},
     "output_type": "display_data"
    },
    {
     "data": {
      "application/javascript": [
       "IPython.notebook.execute_cell_range(IPython.notebook.get_selected_index()+1,IPython.notebook.get_selected_index()+3)"
      ],
      "text/plain": [
       "<IPython.core.display.Javascript object>"
      ]
     },
     "metadata": {},
     "output_type": "display_data"
    }
   ],
   "source": [
    "# Prepare dataframes for Emma's February & March Transactions\n",
    "\n",
    "ex_7b_df = pd.read_csv('./data/exercise7b.csv')\n",
    "ex_7b_df[['Budgeted Amount ($)']] = ex_7b_df[['Budgeted Amount ($)']].replace(np.nan,\"\")\n",
    "ex_7b_df.set_index('Category',inplace=True)\n",
    "\n",
    "q_ex_7b = q.show_grid( ex_7b_df , grid_options = grid_features ) \n",
    "\n",
    "display(Markdown(\"<h2 align='center'>Emma's Modified Conservative Budget</h2>\"))\n",
    "\n",
    "display(q_ex_7b)\n",
    "\n",
    "ex_7b_button = w.Button(button_style='info',description=\"Record Answers\", layout=Layout(width='15%', height='30px'))\n",
    "\n",
    "def record_spreadsheet(button_widget):\n",
    "    \n",
    "    display(Javascript('IPython.notebook.execute_cell_range(IPython.notebook.get_selected_index()+1,IPython.notebook.get_selected_index()+3)'))    \n",
    "    \n",
    "display(ex_7b_button)\n",
    "\n",
    "ex_7b_button.on_click( record_spreadsheet )"
   ]
  },
  {
   "cell_type": "markdown",
   "metadata": {},
   "source": [
    "**Question 8.** Determine the percent of Emma’s income on each category. \n",
    "\n",
    "To calculate percentage of income for each category use the formula:\n",
    "\n",
    "$$\\text{Percent of Income} = \\frac{\\text{Amount Alloted for Expense}}{\\text{Budgeted Income}}\\times 100\\%$$\n",
    "\n",
    "**Note:** This part of the exercise is done for you and changes based on your inputs in exercise 7.b., the formula above is for your reference."
   ]
  },
  {
   "cell_type": "code",
   "execution_count": 74,
   "metadata": {},
   "outputs": [
    {
     "data": {
      "text/markdown": [
       "Your budget proposal does not total $922.26. Please try again."
      ],
      "text/plain": [
       "<IPython.core.display.Markdown object>"
      ]
     },
     "metadata": {},
     "output_type": "display_data"
    }
   ],
   "source": [
    "# Set up student inputs as a list\n",
    "\n",
    "ex_7b_student_df = q_ex_7b.get_changed_df()\n",
    "student_budget_input = ex_7b_student_df['Budgeted Amount ($)']\n",
    "student_budget_col = (student_budget_input.values).tolist()\n",
    "\n",
    "# Check if every entry is valid \n",
    "\n",
    "def check_ex_7b(student_inputs):\n",
    "\n",
    "    valid_inputs = '0123456789. '\n",
    "\n",
    "    for entry in student_inputs:\n",
    "\n",
    "        for ch in entry:\n",
    "            \n",
    "            if(ch not in valid_inputs):\n",
    "                \n",
    "                display(Markdown(\"Please enter valid inputs only.\"))\n",
    "\n",
    "                return False\n",
    "\n",
    "    if(entry == ''):\n",
    "\n",
    "        display(Markdown(\"Please fill all the entries in the spreadsheet above.\"))\n",
    "\n",
    "        return False\n",
    "\n",
    "    return True\n",
    "\n",
    "# Check if student's budget matches the total income\n",
    "\n",
    "valid_input = check_ex_7b(student_budget_col)\n",
    "\n",
    "if(valid_input == True):\n",
    "    \n",
    "    # Convert every entry to float and get the sum\n",
    "    \n",
    "    budget_sum = 0\n",
    "    \n",
    "    for entry in student_budget_col:\n",
    "        \n",
    "        current_entry = eval(entry)\n",
    "        budget_sum += current_entry\n",
    "        \n",
    "    # If the budget sum matches, then create the percentages chart \n",
    "    \n",
    "    percentages_col = []\n",
    "    \n",
    "    if(budget_sum != 922.26): \n",
    "        \n",
    "        display(Markdown(\"Your budget proposal does not total $922.26. Please try again.\"))\n",
    "        \n",
    "    else:\n",
    "        \n",
    "        for entry in student_budget_col:\n",
    "            \n",
    "            current_percent = round( eval(entry)/budget_sum , 4)\n",
    "            percentages_col.append( round(current_percent*100,4) )\n",
    "            \n",
    "        indices = ['Savings (RESP)','Transportation','Utilities','Food','Clothing','Entertainment','Miscellaneous','Personal Care','Savings (Bass)']\n",
    "            \n",
    "        percentage_df = pd.DataFrame({'Percentage (%): ': percentages_col },index=indices)\n",
    "        updated_ex_7b_student_df = pd.concat( [ex_7b_student_df,percentage_df] , axis = 1 )\n",
    "        \n",
    "        ex_7b_features = { 'fullWidthRows': True,\n",
    "                          'syncColumnCellResize': True,\n",
    "                          'forceFitColumns': True,\n",
    "                          'rowHeight': 40,\n",
    "                          'enableColumnReorder': True,\n",
    "                          'enableTextSelectionOnCells': True,\n",
    "                          'editable': False,\n",
    "                          'filterable': False,\n",
    "                          'sortable': False,\n",
    "                          'highlightSelectedRow': True}\n",
    "        \n",
    "        q_ex_7b_updated = q.show_grid( updated_ex_7b_student_df , grid_options = ex_7b_features )\n",
    "        \n",
    "        display(Markdown(\"<h2 align='center'>Emma's Modified Budget Percentage Breakdown</h2>\"))\n",
    "        \n",
    "        display(q_ex_7b_updated)"
   ]
  },
  {
   "cell_type": "markdown",
   "metadata": {},
   "source": [
    "**Question 9.** Are there any categories that Emma is far above or far below the spending guidelines? How does being a high school student affect Emma’s consideration of the spending guidelines?\n",
    "\n",
    "<img src=\"./images/spending_guidelines.jpg\" alt=\"drawing\" width=\"400px\"/>\n"
   ]
  },
  {
   "cell_type": "code",
   "execution_count": 48,
   "metadata": {},
   "outputs": [
    {
     "data": {
      "application/vnd.jupyter.widget-view+json": {
       "model_id": "ac3139000f134b689bfa915e9786918e",
       "version_major": 2,
       "version_minor": 0
      },
      "text/plain": [
       "A Jupyter Widget"
      ]
     },
     "metadata": {},
     "output_type": "display_data"
    },
    {
     "data": {
      "application/vnd.jupyter.widget-view+json": {
       "model_id": "b03316f2493a4228b9f08dffc0eb4764",
       "version_major": 2,
       "version_minor": 0
      },
      "text/plain": [
       "A Jupyter Widget"
      ]
     },
     "metadata": {},
     "output_type": "display_data"
    }
   ],
   "source": [
    "q9_text = w.Textarea( value='', placeholder='Write your answer here for Question 9', description='', disabled=False , layout=Layout(width='100%', height='75px') )\n",
    "q9_button = w.Button(button_style='info',description=\"Record Answer\", layout=Layout(width='15%', height='30px'))\n",
    "\n",
    "display(q9_text)\n",
    "display(q9_button)\n",
    "\n",
    "q9_button.on_click( rerun_cell ) "
   ]
  },
  {
   "cell_type": "code",
   "execution_count": 49,
   "metadata": {
    "collapsed": true
   },
   "outputs": [],
   "source": [
    "q9_input = q9_text.value\n",
    "\n",
    "if(q9_input != ''):\n",
    "    \n",
    "    q9_text.close()\n",
    "    q9_button.close()\n",
    "    display(Markdown(\"### Your answer for question 9:\"))\n",
    "    display(Markdown(q9_input))"
   ]
  },
  {
   "cell_type": "markdown",
   "metadata": {},
   "source": [
    "--- \n",
    "<h1 align='center'>Student Interactive Section</h1>"
   ]
  },
  {
   "cell_type": "markdown",
   "metadata": {},
   "source": [
    "In this section, you will enter your own expense categories and see how your expense percentage breakdown compares to the spending guideline above."
   ]
  },
  {
   "cell_type": "code",
   "execution_count": 50,
   "metadata": {
    "scrolled": true
   },
   "outputs": [
    {
     "data": {
      "application/vnd.jupyter.widget-view+json": {
       "model_id": "b6f802910500476aa9e6b8f485d846ef",
       "version_major": 2,
       "version_minor": 0
      },
      "text/plain": [
       "A Jupyter Widget"
      ]
     },
     "metadata": {},
     "output_type": "display_data"
    },
    {
     "data": {
      "application/vnd.jupyter.widget-view+json": {
       "model_id": "2d59a9e81c914ebc9a0eedba5a692096",
       "version_major": 2,
       "version_minor": 0
      },
      "text/plain": [
       "A Jupyter Widget"
      ]
     },
     "metadata": {},
     "output_type": "display_data"
    },
    {
     "data": {
      "application/javascript": [
       "IPython.notebook.execute_cell_range(IPython.notebook.get_selected_index()+1,IPython.notebook.get_selected_index()+2)"
      ],
      "text/plain": [
       "<IPython.core.display.Javascript object>"
      ]
     },
     "metadata": {},
     "output_type": "display_data"
    }
   ],
   "source": [
    "# Create button and dropdown widget\n",
    "\n",
    "number_of_cat = 13\n",
    "dropdown_options = [ str(i+1) for i in range(number_of_cat) ] \n",
    "dropdown_widget = w.Dropdown( options = dropdown_options , value = '3' , description = 'Categories' , disabled=False )\n",
    "\n",
    "categories_button = w.Button(button_style='info',description=\"Save\", layout=Layout(width='15%', height='30px'))\n",
    "\n",
    "# Display widgets\n",
    "\n",
    "display(dropdown_widget)\n",
    "display(categories_button)\n",
    "\n",
    "categories_button.on_click( rerun_cell ) "
   ]
  },
  {
   "cell_type": "code",
   "execution_count": 76,
   "metadata": {
    "scrolled": false
   },
   "outputs": [
    {
     "data": {
      "application/vnd.jupyter.widget-view+json": {
       "model_id": "0bcd7435e689426cada882dd79abdcde",
       "version_major": 2,
       "version_minor": 0
      },
      "text/plain": [
       "A Jupyter Widget"
      ]
     },
     "metadata": {},
     "output_type": "display_data"
    },
    {
     "data": {
      "application/vnd.jupyter.widget-view+json": {
       "model_id": "067fd3d84ddc4e4586fddb7006ad1f6a",
       "version_major": 2,
       "version_minor": 0
      },
      "text/plain": [
       "A Jupyter Widget"
      ]
     },
     "metadata": {},
     "output_type": "display_data"
    },
    {
     "data": {
      "application/javascript": [
       "IPython.notebook.execute_cell_range(IPython.notebook.get_selected_index()+1,IPython.notebook.get_selected_index()+2)"
      ],
      "text/plain": [
       "<IPython.core.display.Javascript object>"
      ]
     },
     "metadata": {},
     "output_type": "display_data"
    }
   ],
   "source": [
    "# Create dataframe\n",
    "\n",
    "df_num_rows = int(dropdown_widget.value)\n",
    "empty_list = [ '' for i in range(df_num_rows) ] \n",
    "category_list = [ i+1 for i in range(df_num_rows) ] \n",
    "\n",
    "# Set up data input for dataframe\n",
    "\n",
    "df_dict = {'Category #': category_list, 'Budget ($)': empty_list , 'Expense Category': empty_list}\n",
    "\n",
    "student_df = pd.DataFrame(data = df_dict)\n",
    "student_df.set_index('Category #',inplace=True)\n",
    "\n",
    "# Reorder column labels\n",
    "\n",
    "student_df = student_df[['Expense Category','Budget ($)']]\n",
    "\n",
    "# Set up & display as Qgrid\n",
    "\n",
    "q_student_df = q.show_grid( student_df , grid_options = grid_features )\n",
    "display(q_student_df)\n",
    "\n",
    "# Create & display save entries widget button\n",
    "\n",
    "save_student_entries_button = w.Button(button_style='info',description=\"Plot Pie Chart\", layout=Layout(width='15%', height='30px'))\n",
    "display(save_student_entries_button)\n",
    "\n",
    "save_student_entries_button.on_click( rerun_cell ) "
   ]
  },
  {
   "cell_type": "code",
   "execution_count": 77,
   "metadata": {
    "scrolled": false
   },
   "outputs": [
    {
     "data": {
      "image/png": "[encoded data removed]",
      "text/plain": [
       "<matplotlib.figure.Figure at 0x10acacd30>"
      ]
     },
     "metadata": {},
     "output_type": "display_data"
    }
   ],
   "source": [
    "# Convert qgrid to dataframe\n",
    "\n",
    "student_updated_df = q_student_df.get_changed_df()\n",
    "\n",
    "student_budget_col = student_updated_df['Budget ($)'].values.tolist()\n",
    "student_labels_col = student_updated_df['Expense Category'].values.tolist()\n",
    "\n",
    "# Check if a number if float\n",
    "\n",
    "def isfloat(value):\n",
    "    \n",
    "    try:\n",
    "        \n",
    "        float(value)\n",
    "        \n",
    "        return True\n",
    "    \n",
    "    except ValueError:\n",
    "        \n",
    "        return False\n",
    "\n",
    "# Function: Check for validity of budget column entries\n",
    "# Input: Student's budget column values\n",
    "# Output: Boolean, false if one of the entries is invalid\n",
    "\n",
    "def check_budget_column(input_list):\n",
    "    \n",
    "    valid_inputs = '0123456789.'\n",
    "    \n",
    "    # Check if inputs are valid\n",
    "    \n",
    "    for entry in input_list:\n",
    "        \n",
    "        if( isfloat(entry) == False):\n",
    "            \n",
    "            return False\n",
    "    \n",
    "    return True\n",
    "\n",
    "# Function: Calculate the percentage of each expense category\n",
    "# Input: Student expense category lists and student budget column values\n",
    "# Output: Percentages column \n",
    "\n",
    "def get_percentages(input_list):\n",
    "    \n",
    "    total = 0\n",
    "    percentage_col = []\n",
    "    \n",
    "    # Obtain total\n",
    "    \n",
    "    for entry in input_list:\n",
    "        \n",
    "        entry = eval(entry)        \n",
    "        total += entry\n",
    "        \n",
    "    # Obtain percentages\n",
    "    \n",
    "    for entry in input_list:\n",
    "        \n",
    "        entry = eval(entry)\n",
    "        current_percentage = entry/total\n",
    "        percentage_col.append( round(current_percentage*100,2) )\n",
    "    \n",
    "    return percentage_col\n",
    "\n",
    "# If student input is valid, create a pie chart plot\n",
    "\n",
    "colors = ['yellowgreen', 'gold', 'lightskyblue', 'lightcoral','darkseagreen','lightcyan','lightpink','coral','tan','slateblue','azure','tomato','lawngreen']\n",
    "\n",
    "if(check_budget_column(student_budget_col) == True):\n",
    "    \n",
    "    student_values = get_percentages(student_budget_col)\n",
    "    labels = student_labels_col\n",
    "    \n",
    "    plt.figure(figsize=(20,10))\n",
    "    plt.rcParams['font.size'] = 20\n",
    "    plt.title('Your Expense Category Percentage Breakdown',fontsize=25)\n",
    "    plt.pie(student_values, labels=labels, colors=colors, autopct='%1.1f%%', shadow=True, startangle=35)\n",
    "    plt.axis('equal') \n",
    "    plt.show()\n",
    "    \n",
    "else:\n",
    "    \n",
    "    display(Markdown(\"Please enter decimal numbers only for the budget column\"))"
   ]
  }
 ],
 "metadata": {
  "kernelspec": {
   "display_name": "Python 3",
   "language": "python",
   "name": "python3"
  },
  "language_info": {
   "codemirror_mode": {
    "name": "ipython",
    "version": 3
   },
   "file_extension": ".py",
   "mimetype": "text/x-python",
   "name": "python",
   "nbconvert_exporter": "python",
   "pygments_lexer": "ipython3",
   "version": "3.6.3"
  }
 },
 "nbformat": 4,
 "nbformat_minor": 2
}

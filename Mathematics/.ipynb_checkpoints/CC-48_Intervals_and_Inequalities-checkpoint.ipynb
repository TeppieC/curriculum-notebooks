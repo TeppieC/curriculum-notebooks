{
 "cells": [
  {
   "cell_type": "code",
   "execution_count": 13,
   "metadata": {
    "scrolled": false
   },
   "outputs": [
    {
     "data": {
      "text/html": [
       "<script>\n",
       "  function code_toggle() {\n",
       "    if (code_shown){\n",
       "      $('div.input').hide();\n",
       "      $('#toggleButton').val('Show Code')\n",
       "    } else {\n",
       "      $('div.input').show();\n",
       "      $('#toggleButton').val('Hide Code')\n",
       "    }\n",
       "    code_shown = !code_shown\n",
       "  }\n",
       "\n",
       "  $( document ).ready(function(){\n",
       "    code_shown=false;\n",
       "    $('div.input').hide()\n",
       "  });\n",
       "</script>\n",
       "<form action=\"javascript:code_toggle()\"><input type=\"submit\" id=\"toggleButton\" value=\"Show Code\"></form"
      ],
      "text/plain": [
       "<IPython.core.display.HTML object>"
      ]
     },
     "execution_count": 13,
     "metadata": {},
     "output_type": "execute_result"
    }
   ],
   "source": [
    "from IPython.display import HTML\n",
    "import numpy as np\n",
    "import matplotlib.pyplot as plt\n",
    "from IPython.display import display, Math, Latex, Markdown\n",
    "import matplotlib as mpl\n",
    "import ipywidgets as widgets\n",
    "from ipywidgets import interact, interactive, Layout\n",
    "from ipywidgets import IntSlider as slid\n",
    "import time\n",
    "import matplotlib.image as mpimg\n",
    "\n",
    "HTML('''<script>\n",
    "  function code_toggle() {\n",
    "    if (code_shown){\n",
    "      $('div.input').hide();\n",
    "      $('#toggleButton').val('Show Code')\n",
    "    } else {\n",
    "      $('div.input').show();\n",
    "      $('#toggleButton').val('Hide Code')\n",
    "    }\n",
    "    code_shown = !code_shown\n",
    "  }\n",
    "\n",
    "  $( document ).ready(function(){\n",
    "    code_shown=false;\n",
    "    $('div.input').hide()\n",
    "  });\n",
    "</script>\n",
    "<form action=\"javascript:code_toggle()\"><input type=\"submit\" id=\"toggleButton\" value=\"Show Code\"></form''')"
   ]
  },
  {
   "cell_type": "markdown",
   "metadata": {},
   "source": [
    "# Introduction"
   ]
  },
  {
   "cell_type": "markdown",
   "metadata": {},
   "source": [
    "In this notebook, we will review some basics about polynomial functions such as\n",
    "- the general form of a polynomial\n",
    "- what terms make up a polynomial\n",
    "- what defines the degree or order of a polynomial\n",
    "\n",
    "We will then examine solving inequalities involving polynomials of degree 3 or less, both analytically and graphically, and briefly look over how to display the solutions on a number line, and how to represent solutions in interval notation. \n",
    "\n",
    "Finally, we will visualize how changing certain parameters of polynomials can change the shape of its graph, which results in a different interval, satisfying a given inequality.\n",
    "\n",
    "At the end of this notebook, there will be a small section covering some basics of  `python` syntax and coding. This optional section will show the user how to create simple plots of polynomials in `python`, which can be used to help solve some of the extra problems."
   ]
  },
  {
   "cell_type": "markdown",
   "metadata": {},
   "source": [
    "## Polynomials\n"
   ]
  },
  {
   "cell_type": "markdown",
   "metadata": {},
   "source": [
    "A polynomial is a function comprised of constants and variables. The constants and variables can be related to each other  by addition, multiplication and exponentiation to a non-negative integer power ( https://en.wikipedia.org/wiki/Polynomial ). In this notebook, we will let $P(x)$ denote a general polynomial, and we will only deal with polynomials of a single variable $x$. \n",
    "\n",
    "In general, a polynomial is expressed as:\n",
    "\n",
    "$P(x) = c_nx^n + c_{n-1}x^{n-1} + c_{n-2}x^{n-2} + ... + c_1x + c_0 = \\Sigma^n_{k=0}c_kx^k$\n",
    "\n",
    "where $c_k$ are *constant terms*, $x$ is the variable. The largest value of $n$ ( i.e. the largest exponent of the polynomial) determines the *degree* of the polynomial. For example, some polynomials of degree *three* ($n=3$) could be:</br>\n",
    "\n",
    "$P(x) = x^3 + 2x^2 + 5x + 4$\n",
    "\n",
    "$P(x) = 3x^3 + 8x $\n",
    "\n",
    "$P(x) = x^3 + x^2 + 4$\n",
    "\n",
    "Note how the number of terms **does not** effect the degree of the polynomial, only the value of the largest exponent does. \n",
    "\n",
    "A polynomial with degree *0* is called a *constant polynomial*, or just a *constant*. This is because of the mathematical identity\n",
    "\n",
    "$x^0 = 1$,\n",
    "\n",
    "so if we have any polynomail of degree 0, we have\n",
    "\n",
    "$P(x) = c_1x^0 + c_2 = c_1 + c_2 = C$,\n",
    "\n",
    "which of course is just a constant (i.e. some number, $C$).\n",
    "\n",
    "While we will only be dealing with singe variable polynomials, it is worth noting that they can exist with *multiple variables*, i.e.\n",
    "\n",
    "$P(x,y,z) = x^3 - xy^2 + z^6 -3x^2y^6z^4 +2$"
   ]
  },
  {
   "cell_type": "code",
   "execution_count": null,
   "metadata": {
    "scrolled": false
   },
   "outputs": [],
   "source": [
    "from ipywidgets import IntSlider, Label\n",
    "#display(Latex('...')) will print the string in the output cell, in a nice font, and allows for easily inputing Math symbos and equations\n",
    "display(Latex('From the list of funcitons below, check which ones are polynomials:'))\n",
    "\n",
    "#define a series of checkboxes to test knowledge of  polynomial forms\n",
    "a=widgets.Checkbox(\n",
    "    value=False, #a false value meand unchecked, while a checked value will be \"True'\" \n",
    "    description=r\"$x^2 + 5x - 8x^3$\", #use r'' to make a raw stringas button description\n",
    "    disabled=False\n",
    ")\n",
    "\n",
    "b=widgets.Checkbox(\n",
    "    value=False,\n",
    "    description=r'$x+3$')\n",
    "c=widgets.Checkbox(\n",
    "    value=False,\n",
    "    description=r'$\\sin(x) + \\cos(x)$'\n",
    ")\n",
    "d=widgets.Checkbox(\n",
    "    value=False,\n",
    "    description=r'$x^5 - 2$',\n",
    "    disabled=False\n",
    ")\n",
    "\n",
    "e=widgets.Checkbox(\n",
    "    value=False,\n",
    "    description=r'$\\ln(x)$',\n",
    "    disabled=False\n",
    ")\n",
    "\n",
    "f=widgets.Checkbox(\n",
    "        value=False,\n",
    "        description='$100$',\n",
    "    disabled=False\n",
    ")\n",
    "\n",
    "#to actually display the buttons, we need to use the IPython.display package, and call each button as the argument\n",
    "display(a)\n",
    "display(b)\n",
    "display(c)\n",
    "display(d)\n",
    "display(e)\n",
    "display(f)\n",
    "\n",
    "#create a button widget to check answers, again calling the button to display\n",
    "button_check = widgets.Button(description=\"check\")\n",
    "display(button_check)\n",
    "\n",
    "#a simple funciton to determine if user inputs are correct\n",
    "def check_button(x):\n",
    "    if a.value==True and b.value==True and c.value==False and d.value==True and e.value==False and f.value==True: #notebook will display 'correct'  message  IF (and only if) each of the boxes satisfy these value conditions \n",
    "        display(Latex(\"Correct - these are all polynomials! Let's move on to the next cell.\"))\n",
    "    else: #if any of the checkboxes have the incorrect value, output will ask user to try again\n",
    "        display(Latex(\"Not quite - either some of your selections aren't polynomials, or some of the options that you didn't select are. Check your answers again!\"))\n",
    "\n",
    "button_check.on_click(check_button)\n",
    "\n",
    "    "
   ]
  },
  {
   "cell_type": "markdown",
   "metadata": {},
   "source": [
    "# Intervals of Inequalities"
   ]
  },
  {
   "cell_type": "markdown",
   "metadata": {},
   "source": [
    "## Interval Notation\n"
   ]
  },
  {
   "cell_type": "markdown",
   "metadata": {},
   "source": [
    "Interval notation is a way of representing an interval of numbers by the two endpoints of the interval. Parentheses (  ) and brackets [  ] are used to represent whether the end points are included in the interval or not.  \n",
    "\n",
    "\n",
    "For example, consider the interval between $-3$ and $4$, including $-3$, but **not** including $4$, i.e. $-3 \\leq x < 4$. We can represent this on a number line as follows:\n",
    "\n",
    "![intvl1.png](images/intvl1.png)\n",
    "\n",
    "In **interval notation**, we would simply write: $[-3,4)$\n",
    "\n",
    "If, however, the interval extended from $-3$ to **all** real numbers larger than $-3$, i.e. $-3 \\leq x$, the number line would look like this:\n",
    "\n",
    "![intvl2.png](images/intvl2.png)\n",
    "\n",
    "and our interval notation representation would be: $[-3, \\infty)$, where $\\infty$ (infinity) essentially means all possible numbers beyond this point.\n",
    "\n",
    "Sometimes it is also necessary to include multiple intervals. Consider an inequality in which the solution is $-3\\leq x <0$ and $4 \\leq x$. We can represent this solution in interval notation with the **union** symbol, which is just a capital U, and means that both intervals satisfy the inequality: $[-3,0)$ U $[4,\\infty)$"
   ]
  },
  {
   "cell_type": "markdown",
   "metadata": {},
   "source": [
    "## Solving Inequalities"
   ]
  },
  {
   "cell_type": "markdown",
   "metadata": {},
   "source": [
    "Given a polynomial $P(x)$, we can determine the range in which that polynomial satisfies a certain inequality. For example, consider the polynomial function\n",
    "\n",
    "$P(x) = x^2 + 4x$.\n",
    "\n",
    "For which values of $x$ is the ploynomial $P(x)$ less than three? Or, in a mathematical representations, on which interval is the inequality $P(x) \\leq -3$ satisfied?\n",
    "\n",
    "We can solve this algebraically, as follows:\n",
    "\n",
    "1. Write the polynomial in standard form:   $x^2 + 4x + 3 \\leq 0 $\n",
    "    \n",
    "2. Factor the polynomial:   $(x+1)(x+3) \\leq 0$\n",
    "\n",
    "What this new expression is essentiall telling us is that the product of two numbers (say $a=(x+1)$ and $b=(x+3)$) is equal to zero, or negative, i.e. $a\\cdot b\\leq 0 $. The only way this is possible is if $a=0$, $b=0$, or $a$ and $b$ have **opposite** signs. So the inequality $P(x) \\leq -3$ is satisfied if:\n",
    "\n",
    "- $(x+1) = 0$\n",
    "- $(x+3) = 0$\n",
    "- $(x+1)>0$ and $(x+3)<0$\n",
    "- $(x+1)<0$ and $(x+3)>0$\n",
    "\n",
    "From these possibilities, we can see the possible solutions are:\n",
    "\n",
    "- $x=-1$\n",
    "- $x=-3$\n",
    "- $x>-1$ and $x<-3$\n",
    "- $x<-1$ and $x>-3$\n",
    " \n",
    "If we consider the solution $x>-1$ and $x<-3$, what are the possible values of $x$? If we say $x=1$ we satisfy the first inequality, but not the second, since $1$ is **not** less than $-3$. We can see that there is no possible $x$ value that will result in  $(x+1)>0$ and $(x+3)<0$, so we can eliminate this as a possible solution.\n",
    "\n",
    "However, we can find values of $x$ that satisfy $x<-1$ and $x>-3$. For example, $x=-2$\n",
    "\n",
    "Thus, the solution to the inequality is $x=-1$, $x=-3$, and $x<-1$ and $x>-3$. We can plot this solution set on a number line:\n",
    "\n",
    "![ex1.png](images/ex1.png)\n",
    "\n",
    "\n",
    "or in *interval notation*, the solution is : **[-3,-1]**"
   ]
  },
  {
   "cell_type": "markdown",
   "metadata": {},
   "source": [
    "## Let's work through an example together"
   ]
  },
  {
   "cell_type": "code",
   "execution_count": 12,
   "metadata": {
    "scrolled": false
   },
   "outputs": [
    {
     "data": {
      "text/latex": [
       "Consider the inequality $(-x)(4x - 8) \\leq -96$. Re-write the inequality in standard form (use the symbol ^ to indicate an exponent and <= for the inequality sign):"
      ],
      "text/plain": [
       "<IPython.core.display.Latex object>"
      ]
     },
     "metadata": {},
     "output_type": "display_data"
    },
    {
     "name": "stdout",
     "output_type": "stream",
     "text": [
      "-4x^2 + 8x + 96 <= 0\n"
     ]
    },
    {
     "data": {
      "text/latex": [
       "Very good! The standard form of this inequality is $-4x^2+8x+96\\leq0$."
      ],
      "text/plain": [
       "<IPython.core.display.Latex object>"
      ]
     },
     "metadata": {},
     "output_type": "display_data"
    },
    {
     "data": {
      "text/latex": [
       "We can simplify this further by reducing the leading coeffecient to 1. We do this by simply dividing both sides by $-4$. If we do this, what does our expression become then?"
      ],
      "text/plain": [
       "<IPython.core.display.Latex object>"
      ]
     },
     "metadata": {},
     "output_type": "display_data"
    },
    {
     "name": "stdout",
     "output_type": "stream",
     "text": [
      "x^2 - 2x - 24>=0\n"
     ]
    },
    {
     "data": {
      "text/latex": [
       "Excellent! It's important to remember that if we divide or multiply an inequality by a negative number, we flip the inequality sign."
      ],
      "text/plain": [
       "<IPython.core.display.Latex object>"
      ]
     },
     "metadata": {},
     "output_type": "display_data"
    },
    {
     "data": {
      "text/latex": [
       "The next step is to factor our simplified polynomial expression: $x^2 - 2x - 24 \\geq 0$."
      ],
      "text/plain": [
       "<IPython.core.display.Latex object>"
      ]
     },
     "metadata": {},
     "output_type": "display_data"
    },
    {
     "data": {
      "text/latex": [
       "Input the factored expression below:"
      ],
      "text/plain": [
       "<IPython.core.display.Latex object>"
      ]
     },
     "metadata": {},
     "output_type": "display_data"
    },
    {
     "name": "stdout",
     "output_type": "stream",
     "text": [
      "(x-6)(x+4) >=0\n"
     ]
    },
    {
     "data": {
      "text/latex": [
       "Correct!"
      ],
      "text/plain": [
       "<IPython.core.display.Latex object>"
      ]
     },
     "metadata": {},
     "output_type": "display_data"
    },
    {
     "data": {
      "text/latex": [
       "Since we have $(x-6)(x+4)\\geq 0$, there are the two sign possibilities; either"
      ],
      "text/plain": [
       "<IPython.core.display.Latex object>"
      ]
     },
     "metadata": {},
     "output_type": "display_data"
    },
    {
     "data": {
      "text/latex": [
       "$1. ~ (x-6)\\geq 0$ and $(x+4)\\geq 0$"
      ],
      "text/plain": [
       "<IPython.core.display.Latex object>"
      ]
     },
     "metadata": {},
     "output_type": "display_data"
    },
    {
     "data": {
      "text/latex": [
       "or"
      ],
      "text/plain": [
       "<IPython.core.display.Latex object>"
      ]
     },
     "metadata": {},
     "output_type": "display_data"
    },
    {
     "data": {
      "text/latex": [
       "$2. ~ (x-6)\\leq 0$ and $(x+4)\\leq 0$"
      ],
      "text/plain": [
       "<IPython.core.display.Latex object>"
      ]
     },
     "metadata": {},
     "output_type": "display_data"
    },
    {
     "data": {
      "text/latex": [
       "Consider expression $1.$ Can you see what solution satisfies both $(x-6)\\geq 0$ and $(x+4)\\geq 0$? Enter your answer below in the form \"x>= _\""
      ],
      "text/plain": [
       "<IPython.core.display.Latex object>"
      ]
     },
     "metadata": {},
     "output_type": "display_data"
    },
    {
     "name": "stdout",
     "output_type": "stream",
     "text": [
      "x>=6\n"
     ]
    },
    {
     "data": {
      "text/latex": [
       "Very good! Since we are looking for values of $x$ that are larger than 6 and -4, and $6>-4$, the first expresssion gives us one simple solution interval: $x\\geq6$"
      ],
      "text/plain": [
       "<IPython.core.display.Latex object>"
      ]
     },
     "metadata": {},
     "output_type": "display_data"
    },
    {
     "data": {
      "text/latex": [
       "Now consider expression $2$ What is the interval satsfying these inequalities?"
      ],
      "text/plain": [
       "<IPython.core.display.Latex object>"
      ]
     },
     "metadata": {},
     "output_type": "display_data"
    },
    {
     "name": "stdout",
     "output_type": "stream",
     "text": [
      "x<=-4\n"
     ]
    },
    {
     "data": {
      "text/latex": [
       "Very good! Since we are looking for values of $x$ that are less than -4 and6 and $6>-4$, this expresssion also gives us one simple solution interval: $x\\leq-4$"
      ],
      "text/plain": [
       "<IPython.core.display.Latex object>"
      ]
     },
     "metadata": {},
     "output_type": "display_data"
    },
    {
     "data": {
      "text/latex": [
       "So, what is our final solution interval for the inequality $(-x)(4x - 8) \\leq -96$? Enter your answer in interval notation, using the following notations if necessary:"
      ],
      "text/plain": [
       "<IPython.core.display.Latex object>"
      ]
     },
     "metadata": {},
     "output_type": "display_data"
    },
    {
     "data": {
      "text/latex": [
       " Union symbol: U"
      ],
      "text/plain": [
       "<IPython.core.display.Latex object>"
      ]
     },
     "metadata": {},
     "output_type": "display_data"
    },
    {
     "data": {
      "text/latex": [
       "+/- $\\infty$: +/- inf"
      ],
      "text/plain": [
       "<IPython.core.display.Latex object>"
      ]
     },
     "metadata": {},
     "output_type": "display_data"
    },
    {
     "name": "stdout",
     "output_type": "stream",
     "text": [
      "(-inf,-4]U[6,inf)\n"
     ]
    },
    {
     "data": {
      "text/latex": [
       "Excellent!"
      ],
      "text/plain": [
       "<IPython.core.display.Latex object>"
      ]
     },
     "metadata": {},
     "output_type": "display_data"
    },
    {
     "data": {
      "text/latex": [
       "The solution of the inequality is: $(-\\infty, -4]$U$[6,\\infty)$"
      ],
      "text/plain": [
       "<IPython.core.display.Latex object>"
      ]
     },
     "metadata": {},
     "output_type": "display_data"
    },
    {
     "data": {
      "text/latex": [
       "On a number line, this solution looks like"
      ],
      "text/plain": [
       "<IPython.core.display.Latex object>"
      ]
     },
     "metadata": {},
     "output_type": "display_data"
    },
    {
     "data": {
      "image/png": "[encoded data removed]",
      "text/plain": [
       "<matplotlib.figure.Figure at 0x7fa7a3ab11d0>"
      ]
     },
     "metadata": {},
     "output_type": "display_data"
    },
    {
     "data": {
      "text/latex": [
       "Let's move on to solving inequalities graphically! "
      ],
      "text/plain": [
       "<IPython.core.display.Latex object>"
      ]
     },
     "metadata": {},
     "output_type": "display_data"
    }
   ],
   "source": [
    "%matplotlib inline\n",
    "%matplotlib inline\n",
    "try:\n",
    "    display(Latex('Consider the inequality $(-x)(4x - 8) \\leq -96$. Re-write the inequality in standard form (use the symbol ^ to indicate an exponent and <= for the inequality sign):'))\n",
    "\n",
    "    std_form = '-4x^2+8x+96<=0'\n",
    "    check_inpt = 0\n",
    "\n",
    "    breaker = 0\n",
    "    while check_inpt == 0:\n",
    "        inpt = str(input())\n",
    "        inpt_form = inpt.replace(\" \",\"\")\n",
    "        if inpt_form == std_form:\n",
    "            check_inpt = 1\n",
    "            display(Latex('Very good! The standard form of this inequality is $-4x^2+8x+96\\leq0$.'))\n",
    "        else:\n",
    "            breaker += 1\n",
    "            display(Latex('Not quite - try again!'))\n",
    "            if breaker == 5:\n",
    "                display(Latex(\"The correct answer is $-4x^2+8x+96\\leq0$.\"))\n",
    "                display(Latex(\"Let's try the next step!\"))\n",
    "                check_inpt = 1\n",
    "                break\n",
    "            else:\n",
    "                continue\n",
    "\n",
    "    \n",
    "    if check_inpt == 1:\n",
    "        breaker = 0\n",
    "        display(Latex('We can simplify this further by reducing the leading coeffecient to 1. We do this by simply dividing both sides by $-4$. If we do this, what does our expression become then?'))\n",
    "        simplify_form = 'x^2-2x-24>=0'   \n",
    "        while check_inpt == 1:\n",
    "            inpt = str(input())\n",
    "            inpt_simpl = inpt.replace(\" \",\"\")\n",
    "            if inpt_simpl == simplify_form:\n",
    "                check_inpt = 2\n",
    "                display(Latex(\"Excellent! It's important to remember that if we divide or multiply an inequality by a negative number, we flip the inequality sign.\"))\n",
    "            elif inpt_simpl ==  'x^2-2x-24<=0':\n",
    "                breaker += 1 \n",
    "                display(Latex('Almost, but not quite! Remeber that if we divide or multiply an inequality by a negative number, we flip the inequality sign.'))\n",
    "                if breaker == 5:\n",
    "                    display(Latex(\"The answer we're looking for is $x^2 - 2x - 24 \\geq 0$\"))\n",
    "                    display(Latex(\"Let's go on to the next step in this problem.\"))\n",
    "                    check_inpt = 2\n",
    "                    break\n",
    "                else:\n",
    "                    continue\n",
    "            else:\n",
    "                breaker += 1\n",
    "                display(Latex('Not quite - try again!'))\n",
    "                if breaker == 5:\n",
    "                    display(Latex(\"The answer we're looking for is $x^2 - 2x - 24 \\geq 0$\"))\n",
    "                    display(Latex(\"Let's go on to the next step in this problem.\"))\n",
    "                    check_inpt = 2\n",
    "                    break\n",
    "                else:   \n",
    "                    continue\n",
    "\n",
    "    if check_inpt == 2:\n",
    "        breaker = 0\n",
    "        display(Latex('The next step is to factor our simplified polynomial expression: $x^2 - 2x - 24 \\geq 0$.'))\n",
    "        display(Latex('Input the factored expression below:'))\n",
    "        factored_1 = '(x-6)(x+4)>=0'\n",
    "        factored_2 = '(x+4)(x-6)>=0'\n",
    "        while check_inpt == 2:\n",
    "            inpt = str(input())\n",
    "            inpt_factor = inpt.replace(\" \",\"\")\n",
    "            if inpt_factor == factored_1 or inpt_factor == factored_2:\n",
    "                check_inpt = 3\n",
    "                display(Latex('Correct!'))\n",
    "            else:\n",
    "                breaker += 1\n",
    "                display(Latex('Not quite - try again!'))\n",
    "                if breaker == 5:\n",
    "                    display(Latex(\"If we factor this expression, we should find $(x-6)(x+4)\\geq 0$.\"))\n",
    "                    display(Latex(\"Before you move on, make sure you understand how to get this answer!\"))\n",
    "                    check_inpt = 3\n",
    "                    break\n",
    "                else:\n",
    "                    continue\n",
    " \n",
    "    if check_inpt == 3:\n",
    "        breaker = 0\n",
    "        display(Latex('Since we have $(x-6)(x+4)\\geq 0$, there are the two sign possibilities; either'))\n",
    "        display(Latex('$1. ~ (x-6)\\geq 0$ and $(x+4)\\geq 0$'))\n",
    "        display(Latex('or'))\n",
    "        display(Latex('$2. ~ (x-6)\\leq 0$ and $(x+4)\\leq 0$'))\n",
    "        display(Latex('Consider expression $1.$ Can you see what solution satisfies both $(x-6)\\geq 0$ and $(x+4)\\geq 0$? Enter your answer below in the form \"x>= _\"'))\n",
    "        while check_inpt == 3:\n",
    "                intvl = str(input())\n",
    "                intvl_1 = intvl.replace(\" \",\"\")\n",
    "                if intvl_1 == 'x>=6':\n",
    "                    check_inpt = 4\n",
    "                    display(Latex('Very good! Since we are looking for values of $x$ that are larger than 6 and -4, and $6>-4$, the first expresssion gives us one simple solution interval: $x\\geq6$'))\n",
    "                else:\n",
    "                    breaker += 1\n",
    "                    display(Latex('Not quite - try again!'))\n",
    "                    if breaker == 5:\n",
    "                        display(Latex(\"From expression 1, we should find that $x\\geq6$, since any number greater than 6 is also larger than -4!\"))\n",
    "                        check_inpt = 4\n",
    "                        break\n",
    "                    else:\n",
    "                        continue\n",
    "\n",
    "    if check_inpt == 4:\n",
    "        breaker = 0\n",
    "        display(Latex('Now consider expression $2$ What is the interval satsfying these inequalities?'))\n",
    "        while check_inpt == 4:\n",
    "            intvl = str(input())\n",
    "            intvl_2 = intvl.replace(\" \",\"\")\n",
    "            if intvl_2 == 'x<=-4':\n",
    "                check_inpt = 5\n",
    "                display(Latex('Very good! Since we are looking for values of $x$ that are less than -4 and6 and $6>-4$, this expresssion also gives us one simple solution interval: $x\\leq-4$'))\n",
    "            else:\n",
    "                breaker += 1\n",
    "                display(Latex('Not quite - try again!'))\n",
    "                if breaker == 5:\n",
    "                    display(Latex(\"The interval from expression 2 is $x\\leq-4$.\"))\n",
    "                    check_inpt = 5\n",
    "                    break\n",
    "                else:\n",
    "                    continue\n",
    "\n",
    "    if check_inpt == 5:\n",
    "        breaker = 0\n",
    "        display(Latex('So, what is our final solution interval for the inequality $(-x)(4x - 8) \\leq -96$? Enter your answer in interval notation, using the following notations if necessary:'))\n",
    "        display(Latex(' Union symbol: U'))\n",
    "        display(Latex('+/- $\\infty$: +/- inf'))\n",
    "        final_intvl ='(-inf,-4]U[6,inf)'\n",
    "        while check_inpt == 5:\n",
    "            inpt = str(input())\n",
    "            final_inpt = inpt.replace(\" \",\"\")\n",
    "            if final_inpt == final_intvl:\n",
    "                check_inpt = 6\n",
    "                display(Latex('Excellent!'))\n",
    "                display(Latex('The solution of the inequality is: $(-\\infty, -4]$U$[6,\\infty)$'))\n",
    "                display(Latex('On a number line, this solution looks like'))\n",
    "                img = mpimg.imread('images/ex_soln.png')\n",
    "                fig, ax = plt.subplots(figsize=(18, 3))\n",
    "                imgplot = ax.imshow(img,  aspect='auto')\n",
    "                ax.axis('off')\n",
    "                plt.show()\n",
    "                display(Latex(\"Let's move on to solving inequalities graphically! \"))\n",
    "            else:\n",
    "                breaker += 1\n",
    "                display(Latex('Not quite - try again!'))\n",
    "                if breaker == 5:\n",
    "                    display(Latex(\"The solution of the inequality is: $(-\\infty, -4]$U$[6,\\infty)$\"))\n",
    "                    display(Latex('On a number line, this solution looks like'))\n",
    "                    img = mpimg.imread('images/ex_soln.png')\n",
    "                    fig, ax = plt.subplots(figsize=(18, 3))\n",
    "                    imgplot = ax.imshow(img,  aspect='auto')\n",
    "                    ax.axis('off')\n",
    "                    plt.show()\n",
    "                    display(Latex(\"If you struggled with any of these steps, try going back and starting this example again, and make sure you understand all the steps involved!\"))\n",
    "                    display(Latex(\"Otherwise, let's move on to solving inequalities graphically! \"))\n",
    "                    break\n",
    "                else:\n",
    "                    continue\n",
    "\n",
    "                \n",
    "except KeyboardInterrupt:\n",
    "    pass"
   ]
  },
  {
   "cell_type": "markdown",
   "metadata": {},
   "source": [
    "## Graphical visualization of inequality solutions"
   ]
  },
  {
   "cell_type": "code",
   "execution_count": null,
   "metadata": {
    "scrolled": false
   },
   "outputs": [],
   "source": [
    "%matplotlib notebook\n",
    "%matplotlib notebook\n",
    "\n",
    "\n",
    "display(Latex('Here is a graph of the polynomial $P(x) = x^2 + 4x$'))\n",
    "display(Latex(\"Let's try to solve where this polynomial is $\\leq -3$, or  $x^2 + 4x \\leq -3$.\"))\n",
    "display(Latex(\"Let's draw a line at $y=-3$ to help visualize this. (press the 'draw' button)\"))\n",
    "\n",
    "x = np.linspace(-10,10,1000); #define a vector space for the variable x\n",
    "\n",
    "#this block will create an interactive figure of the polynomial\n",
    "plt.figure(figsize=(11,8)) #define the figure window size\n",
    "plt.plot(x,x**2 + 4*x, linewidth=2, label=r'$P(x) = x^2 + 4x$'); #plot the polynomial as a funciton of x\n",
    "plt.ylabel('P(x)', fontsize=20) #label the axes\n",
    "plt.xlabel('x', fontsize=20)\n",
    "plt.grid(alpha = 0.7) #place a grid on the figure for readability; alpha defines the opacity\n",
    "plt.xticks(np.arange(-10,11)) #define the xticks for easier reading\n",
    "plt.ylim([-20,40]) #adjust the limits of the y and x axes of the figure for readability\n",
    "plt.xlim([-9,9])\n",
    "plt.plot([-75,75],[0,0],'k-',alpha = 1,linewidth = 1) #plot solid lines along origin for easier reading\n",
    "plt.plot([0,0],[-75,75],'k-',alpha = 1,linewidth = 1)\n",
    "plt.legend(loc='best', fontsize = 18) #add a legend \n",
    "display(Latex('You can pan around the graph by clicking the fourth button (looks like a cross) and dragging the mouse around. You can zoom in to get a better look at the zeros by clicking the white square button, and making a rectangle on the plot where you want a closer look. To reset the graph back to normal, press the \"home\" button.'))\n",
    "\n",
    "\n",
    "#create a button to draw a line at y=0 when clicked\n",
    "button = widgets.Button(description=\"draw!\")\n",
    "\n",
    "#function to produce the plot when the button is clicked\n",
    "def on_button_clicked(b):\n",
    "    plt.plot(x,np.ones(len(x))*-3, linewidth=2, label = r'$y = -3$'); #plot the y=0 line\n",
    "    plt.legend(loc='best', fontsize = 18) #add a legend \n",
    "    display(Latex('Can you see where the inequality is satisfied?'))\n",
    "    display(Latex(\"Zoom in (with the 'box' icon) to find where the lines intersect. We can see that they are the same values as we calculated above.\"))\n",
    "    display(Latex(\"Pressing the 'shade' button will shade in the interval where the inequailty is satisfied on the graph\"))\n",
    "    display(button2) #display a second button after the line is drawn\n",
    "\n",
    "# create a button to shade the satisfied interval on the figure\n",
    "button2 = widgets.Button(description='shade')\n",
    "\n",
    "#function to shade the region between x = -3 and x= -1 when button 2 is clicked\n",
    "def shade_click(b):\n",
    "    plt.axvspan(-3,-1,facecolor='#2ca02c', alpha=0.5)\n",
    "    display(Latex(\"We can see that the interval for which $P(x) \\leq -3$ is again [-3,-1], agreeing with our algebraic solution.\"))\n",
    "\n",
    "display(button) #display the first button below the figure window\n",
    "\n",
    "button.on_click(on_button_clicked)\n",
    "button2.on_click(shade_click)\n",
    "\n",
    "\n",
    "\n",
    "\n"
   ]
  },
  {
   "cell_type": "markdown",
   "metadata": {},
   "source": [
    "# Changing Parameters"
   ]
  },
  {
   "cell_type": "markdown",
   "metadata": {},
   "source": [
    "## Constant term"
   ]
  },
  {
   "cell_type": "markdown",
   "metadata": {},
   "source": [
    "The **constant term** of a polynomial is the term in which the variable does not appear (i.e. the degree $0$ term). For example, the constant term for the polynomial \n",
    "\n",
    "$P(x) = x^3 + 2x^2 + 5x + 4$,</br>\n",
    "\n",
    "is $4$.\n",
    "\n",
    "Let's look at how changing the constant term changes the graph of the polynomial. We will consider the same polynomial as before, but this time we will let $k$ be an arbitrary value for the constant term. \n",
    "\n"
   ]
  },
  {
   "cell_type": "code",
   "execution_count": null,
   "metadata": {
    "scrolled": false
   },
   "outputs": [],
   "source": [
    "%matplotlib inline \n",
    "#we're using sliders to change figures in this cell, which works more smoothly with 'inline' figures instead of 'notebook', so we switch to inline for this cell\n",
    "\n",
    "display(Latex('Adjust the value of $k$ using the slider. What do you notice about the graph as the value changes?'))\n",
    "\n",
    "x = np.linspace(-10,10, 1000)\n",
    "\n",
    "#define function to create a graph of a polynomial\n",
    "def Plot_poly(k=0): #we make the python function a function of the variable 'k', which we will use as the constant term in the polynomial\n",
    "    plt.figure(figsize=(11,8))\n",
    "    plt.plot(x,x**3 + 2*x**2 + 5*x + k, linewidth = 2) #here is the variable k\n",
    "    plt.title(r'Graph of $P(x) = x^3 + 2x^2 + 5x + k$', fontsize = 20)\n",
    "    plt.ylabel('P(x)', fontsize=20)\n",
    "    plt.xlabel('x', fontsize=20)\n",
    "    plt.grid(alpha = 0.7) \n",
    "    plt.xticks(np.arange(-10,11))\n",
    "    plt.ylim([-20,40])\n",
    "    plt.xlim([-9,9])\n",
    "    plt.plot([-75,75],[0,0],'k-',alpha = 1,linewidth = 1)\n",
    "    plt.plot([0,0],[-75,75],'k-',alpha = 1,linewidth = 1)\n",
    "    plt.show()\n",
    "    \n",
    "interact(Plot_poly,k=(1,20)); #use the IPython interact function to create a slider to adjust the value of 'k' for the plot\n",
    "\n",
    "display(Latex('Try doing the same with other polynomials. Is there a similar, or different behaviour?'))\n"
   ]
  },
  {
   "cell_type": "code",
   "execution_count": null,
   "metadata": {
    "scrolled": false
   },
   "outputs": [],
   "source": [
    "try:\n",
    "    display(Latex('Provide the order of polynomial you wish to plot (between 1 and 3):'))\n",
    "    poly_order = int(input('degree:'))\n",
    "\n",
    "    if poly_order == 1:\n",
    "        display(Latex('Provide a value for $a$ in the polynomial $P(x) = ax + k$:'))    \n",
    "        a = int(input('a='))\n",
    "        custom_poly = a * x #define the polynomial based on the order and coeffecient(s) provided. we leave out the contant term here and add it in the custom_plot function\n",
    "        def custom_plot(k=0):\n",
    "            plt.figure(figsize=(11,8))\n",
    "            plt.plot(x,custom_poly + k, linewidth=2) #plot the polynomial with the constant term k \n",
    "            plt.ylabel('P(x)', fontsize=20)\n",
    "            plt.xlabel('x', fontsize=20)\n",
    "            plt.grid(alpha = 0.7) \n",
    "            plt.xticks(np.arange(-10,11))\n",
    "            plt.ylim([-20,40])\n",
    "            plt.xlim([-9,9])\n",
    "            plt.plot([-75,75],[0,0],'k-',alpha = 1,linewidth = 1)\n",
    "            plt.plot([0,0],[-75,75],'k-',alpha = 1,linewidth = 1)\n",
    "            plt.title('Graph of polynomial $P(x) ='+str(a) + 'x+ k$', fontsize=20)\n",
    "            plt.show()\n",
    "        def graph(b):\n",
    "            interact(custom_plot,k=(-10,10)) #interact with the graph via slider that changes value of k\n",
    "        graph_button = widgets.Button(description = 'Graph')    \n",
    "        display(graph_button)\n",
    "        graph_button.on_click(graph)\n",
    "\n",
    "    ###the same structure for order 2 and 3 below\n",
    "\n",
    "    if poly_order == 2:\n",
    "        display(Latex('Provide a value for $a$ and $b$ in the polynomial $P(x) = ax^2 +bx + k$:'))\n",
    "        a = int(input('a='))\n",
    "        b = int(input('b='))\n",
    "        custom_poly = a * x**2 + b*x\n",
    "        def custom_plot(k=0):\n",
    "            plt.figure(figsize=(11,8))\n",
    "            plt.plot(x,custom_poly + k, linewidth=2)\n",
    "            plt.ylabel('P(x)', fontsize=20)\n",
    "            plt.xlabel('x', fontsize=20)\n",
    "            plt.grid(alpha = 0.7) \n",
    "            plt.xticks(np.arange(-10,11))\n",
    "            plt.ylim([-20,40])\n",
    "            plt.xlim([-9,9])\n",
    "            plt.plot([-75,75],[0,0],'k-',alpha = 1,linewidth = 1)\n",
    "            plt.plot([0,0],[-75,75],'k-',alpha = 1,linewidth = 1)\n",
    "            plt.title('Graph of polynomial $P(x) ='+str(a) + 'x^2 +' + str(b) + 'x + k$', fontsize=20)\n",
    "            plt.show()\n",
    "        def graph(b):\n",
    "            interact(custom_plot,k=(-10,10))\n",
    "            display(Latex(\"Click somewhere in this cell and press SHIFT and ENTER to run the cell again if you would like to try graphing a different polynomial.\"))\n",
    "        graph_button = widgets.Button(description = 'Graph')    \n",
    "        display(graph_button)\n",
    "        graph_button.on_click(graph)\n",
    "\n",
    "    if poly_order == 3:\n",
    "        display(Latex('Provide a value for $a$, $b$, and $c$ in the polynomial $P(x) = ax^3 +bx^2 + cx + k$:'))\n",
    "        a = int(input('a='))\n",
    "        b = int(input('b='))\n",
    "        c = int(input('c='))\n",
    "        custom_poly = a * x**3 + b*x**2 + c*x\n",
    "        def custom_plot(k=0):\n",
    "            plt.figure(figsize=(11,8))\n",
    "            plt.plot(x,custom_poly + k, linewidth=2)\n",
    "            plt.ylabel('P(x)', fontsize=20)\n",
    "            plt.xlabel('x', fontsize=20)\n",
    "            plt.grid(alpha = 0.7) \n",
    "            plt.xticks(np.arange(-10,11))\n",
    "            plt.ylim([-20,40])\n",
    "            plt.xlim([-9,9])\n",
    "            plt.plot([-75,75],[0,0],'k-',alpha = 1,linewidth = 1)\n",
    "            plt.plot([0,0],[-75,75],'k-',alpha = 1,linewidth = 1)\n",
    "            plt.title('Graph of polynomial $P(x) ='+str(a) + 'x^3 +' + str(b) + 'x^2 + ' + str(c) + 'x + k$', fontsize=20)\n",
    "            plt.show()\n",
    "        def graph(b):\n",
    "            interact(custom_plot,k=(-10,10))\n",
    "            display(Latex(\"Click somewhere in this cell and press SHIFT and ENTER to run the cell again if you would like to try graphing a different polynomial.\"))\n",
    "        graph_button = widgets.Button(description = 'Graph')    \n",
    "        display(graph_button)\n",
    "        graph_button.on_click(graph)\n",
    "\n",
    "except KeyboardInterrupt:\n",
    "    pass"
   ]
  },
  {
   "cell_type": "markdown",
   "metadata": {},
   "source": [
    "In the next graph, we will quantify how the constant term can change the interval satisfying an inequality. "
   ]
  },
  {
   "cell_type": "code",
   "execution_count": null,
   "metadata": {
    "scrolled": false
   },
   "outputs": [],
   "source": [
    "%matplotlib notebook\n",
    "\n",
    "try:\n",
    "    display(Latex(\"Where are the x intercepts for the polynomial $x^2-4x+3$?\"))\n",
    "\n",
    "    int_1 = str(1)\n",
    "    int_2 = str(3)\n",
    "\n",
    "    def click_show(b):\n",
    "        plt.figure(figsize=(11,8))\n",
    "        plt.plot(x,x**2  - 4*x + 3, linewidth=2, label=r'$P(x) = x^2 -4x+3$');\n",
    "        plt.plot([-75,75],[0,0],'k-',alpha = 1,linewidth = 1)\n",
    "        plt.plot([0,0],[-75,75],'k-',alpha = 1,linewidth = 1)\n",
    "        plt.plot(3,0,'ro',markersize=10)\n",
    "        plt.plot(1,0,'ro',markersize=10)\n",
    "        plt.ylabel('P(x)', fontsize=20)\n",
    "        plt.xlabel('x', fontsize=20)\n",
    "        plt.grid(alpha = 0.7)\n",
    "        plt.xticks(np.arange(-10,11))\n",
    "        plt.ylim([-20,20])\n",
    "        plt.xlim([-9,9])\n",
    "        plt.legend(loc='best', fontsize = 18)\n",
    "        plt.show()\n",
    "        display(Latex('Based on the previous cell, what do you think will happen if we change the constant term from $3$ to $-3$? Press the button to find out if you are correct.'))\n",
    "        display(change_c)\n",
    "\n",
    "    def change_const(b):\n",
    "        plt.plot(x,x**2 - 4*x - 3, linewidth=2, label=r'$P(x) = x^2 -4x-3$')\n",
    "        plt.plot(2-np.sqrt(7),0,'yo',markersize=10)\n",
    "        plt.plot(2+np.sqrt(7),0,'yo', markersize=10)\n",
    "        plt.legend(loc='best', fontsize = 18)\n",
    "        display(Latex('As we can see, changing the constant term shifts the graph of a polynomial up or down. This results in different x-intercepts, and therefore a different interval. '))\n",
    "\n",
    "        \n",
    "    check = 0\n",
    "    breaker = 0\n",
    "    while check == 0:\n",
    "        guess_int_1 = str(input('x1='))\n",
    "        guess_int_2 = str(input('x2='))\n",
    "        show_int = widgets.Button(description ='Show intercepts')\n",
    "        if guess_int_1 == int_1 and guess_int_2 == int_2 or guess_int_1 == int_2 and guess_int_2 == int_1:\n",
    "            display(Latex('Correct! Press the button to display the points on the graph above'))\n",
    "            display(show_int)\n",
    "            check = 1\n",
    "        else:\n",
    "            breaker += 1\n",
    "            display(Latex('Try Again!'))\n",
    "            if breaker == 3:\n",
    "                display(Latex(\"Hint: Factor the polynomial. What are the x intercepts?\"))\n",
    "            elif breaker == 5:\n",
    "                display(Latex(\"The correct intercepts are $x=1$ and $x=3$. Press the button to display the points on the graph above\"))\n",
    "                display(show_int)\n",
    "                break\n",
    "            \n",
    "    show_int.on_click(click_show)\n",
    "\n",
    "    change_c = widgets.Button(description = 'Change Constant')\n",
    "\n",
    "    change_c.on_click(change_const)\n",
    "\n",
    "except KeyboardInterrupt:\n",
    "    pass\n"
   ]
  },
  {
   "cell_type": "markdown",
   "metadata": {},
   "source": [
    "Another way to think about this is that changing the constant term is the same as solving for a different interval of inequality. Take, for example the polynomials we just used above.\n",
    "\n",
    "We know that \n",
    "\n",
    "$x^2-4x+3 \\leq 0$ \n",
    "\n",
    "is **not** the same as \n",
    "\n",
    "$x^2-4x-3\\leq 0$.\n",
    "\n",
    "However, consider a new inequality:\n",
    "\n",
    "$x^2 - 4x - 3 \\leq -6$.\n",
    "\n",
    "If we simplify this expression, we find\n",
    "\n",
    "$x^2 - 4x +3 \\leq 0$\n",
    "\n",
    "which is indeed equivalent to the first polynomial (plotted in blue in the cell above)."
   ]
  },
  {
   "cell_type": "markdown",
   "metadata": {},
   "source": [
    "# Extra Problems"
   ]
  },
  {
   "cell_type": "markdown",
   "metadata": {},
   "source": [
    "## Practice solving graphically"
   ]
  },
  {
   "cell_type": "markdown",
   "metadata": {},
   "source": [
    "First, we will practice how to solve inequalities graphically. Below is a plot of the polynomial $P(x) = x^3 - 1x^2 - 22x + 40$. Using the graph, find the values of the three x intercepts. Based on this, determine the interval where $P(x) \\leq 0 $.\n",
    "\n",
    "This can method can be used to solve almost any polynomial inequality, provided that the x-intercepts are rational numbers which can be easily read off of the axes of the graph."
   ]
  },
  {
   "cell_type": "code",
   "execution_count": 11,
   "metadata": {
    "scrolled": false
   },
   "outputs": [
    {
     "data": {
      "application/vnd.jupyter.widget-view+json": {
       "model_id": "01e1117a17d643678c7a5e0661913abb",
       "version_major": 2,
       "version_minor": 0
      },
      "text/html": [
       "<p>Failed to display Jupyter Widget of type <code>interactive</code>.</p>\n",
       "<p>\n",
       "  If you're reading this message in the Jupyter Notebook or JupyterLab Notebook, it may mean\n",
       "  that the widgets JavaScript is still loading. If this message persists, it\n",
       "  likely means that the widgets JavaScript library is either not installed or\n",
       "  not enabled. See the <a href=\"https://ipywidgets.readthedocs.io/en/stable/user_install.html\">Jupyter\n",
       "  Widgets Documentation</a> for setup instructions.\n",
       "</p>\n",
       "<p>\n",
       "  If you're reading this message in another frontend (for example, a static\n",
       "  rendering on GitHub or <a href=\"https://nbviewer.jupyter.org/\">NBViewer</a>),\n",
       "  it may mean that your frontend doesn't currently support widgets.\n",
       "</p>\n"
      ],
      "text/plain": [
       "interactive(children=(IntSlider(value=0, continuous_update=False, description='x1', max=10, min=-10), IntSlider(value=0, continuous_update=False, description='x2', max=10, min=-10), IntSlider(value=0, continuous_update=False, description='x3', max=10, min=-10), Output()), _dom_classes=('widget-interact',))"
      ]
     },
     "metadata": {},
     "output_type": "display_data"
    },
    {
     "data": {
      "text/plain": [
       "<function __main__.slider(x1, x2, x3)>"
      ]
     },
     "metadata": {},
     "output_type": "display_data"
    }
   ],
   "source": [
    "%matplotlib inline\n",
    "\n",
    "def slider(x1,x2,x3):\n",
    "    xx = np.linspace(-10,10,300)\n",
    "    p1 = plt.figure(1,figsize = (11,8))\n",
    "    hold = True\n",
    "    plt.plot(xx,xx**3 - 1*xx**2 - 22*xx + 40, linewidth = 2, label = r'$P(x) = x^3 - 1x^2 - 22x + 40$')\n",
    "    plt.axhline(y=0, color = 'k', linewidth=1)\n",
    "    plt.axvline(x=0, color = 'k', linewidth=1)\n",
    "    plt.plot(x1,0,'ro',markersize=10)\n",
    "    plt.plot(x2,0,'mo',markersize=10)\n",
    "    plt.plot(x3,0,'go',markersize=10)\n",
    "    if x1 == -5 and x2 == 2 and x3 == 4:\n",
    "        plt.text(-7,20,'VERY GOOD!', fontsize = 25, fontweight = 'bold',color = 'r')\n",
    "        plt.fill_between(xx,xx**3 - 1*xx**2 - 22*xx + 40,np.zeros(len(xx)), where=xx**3 - 1*xx**2 - 22*xx + 40<0, interpolate = True, alpha=0.5, color='g' )\n",
    "        display(Latex('What interval then satisfies $P(x) \\leq 0$?'))\n",
    "        intvl_1=widgets.Checkbox(\n",
    "        value=False, \n",
    "        description=r'$[-5,4]$', \n",
    "        disabled=False\n",
    "        )\n",
    "        intvl_2=widgets.Checkbox(\n",
    "            value=False,\n",
    "            description=r'$[-5,3]U[4,\\infty)$',\n",
    "            disabled=False\n",
    "        )\n",
    "        intvl_3=widgets.Checkbox(\n",
    "            value=False,\n",
    "            description=r'$[-5,2]$',\n",
    "            disabled=False\n",
    "        )\n",
    "        intvl_4=widgets.Checkbox(\n",
    "            value=False,\n",
    "            description=r'$(-\\infty,-5]U[2,4]$',\n",
    "            disabled=False\n",
    "        )\n",
    "        display(intvl_1)\n",
    "        display(intvl_2)\n",
    "        display(intvl_3)\n",
    "        display(intvl_4)\n",
    "        \n",
    "        def check_button2(x):\n",
    "            if intvl_2.value == False and intvl_1.value==False and intvl_3.value==False and intvl_4.value==True:\n",
    "                plt.cla()\n",
    "                plt.clf()\n",
    "                plt.show(False)\n",
    "                display(Latex('Correct!'))\n",
    "\n",
    "            else: \n",
    "                display(Latex(\"Not quite - Check your answer again!\"))\n",
    "                \n",
    "        button_check2 = widgets.Button(description=\"check\")\n",
    "        display(button_check2)\n",
    "        button_check2.on_click(check_button2)\n",
    "        \n",
    "    plt.xlabel('$x$',fontsize = 14)\n",
    "    plt.ylabel('$y$',fontsize = 14)\n",
    "    plt.grid(alpha = 0.7)\n",
    "    plt.xticks(np.arange(-10,11))\n",
    "    plt.ylim([-75,75])\n",
    "    plt.xlim([-9,9])\n",
    "    plt.legend(loc = 'best', fontsize = 18)\n",
    "    plt.show()\n",
    "    \n",
    "sl = interact(slider, x1=slid(min = -10,max = 10,step = 1,continuous_update = False), x2=slid(min = -10,max = 10,step = 1,continuous_update = False), x3=slid(min = -10,max = 10,step = 1,continuous_update = False)); \n",
    "display(sl);\n"
   ]
  },
  {
   "cell_type": "markdown",
   "metadata": {},
   "source": [
    "## Solve the inequalitites"
   ]
  },
  {
   "cell_type": "markdown",
   "metadata": {},
   "source": [
    "In the next cell, we have a function that will generate a random polynomial of degree 2 or 3. Using the analytic steps shown above, try to solve the intervals of inequalities for a few polynomials. Since we can always rearrange the polynomial into standard form, without loss of generality we can always take the inequality to be $\\leq 0 $ or $\\geq 0 $. Re-run this function as many times as you would like, until you are comfortable with solving polynomial inequalities.\n",
    "\n",
    "If you have trouble solving the inequality analytically, you can try to find the solution graphically, following the method in the cell above. At the bottom of this notebook, there will be some instructions on how to make basic plots with Python. Follow these steps and try to solve the inequality.\n",
    "\n",
    "**Note**: you will need to scroll to the top of the notebook and press the '**show code**' button to be able to write your own code in a cell.\n"
   ]
  },
  {
   "cell_type": "code",
   "execution_count": null,
   "metadata": {},
   "outputs": [],
   "source": [
    "%matplotlib notebook \n",
    "%matplotlib notebook \n",
    "\n",
    "def find_interval():\n",
    "    display(Latex('Provide order of polynomial:'))\n",
    "    poly_order = int(input())\n",
    "    check_interval = 0\n",
    "    button_clicked = 0\n",
    "    \n",
    "    if poly_order > 3:\n",
    "        display(Latex('Order of polynomial must be less than or equal to 3'))\n",
    "        display(Latex('Provide order of polynomial:'))\n",
    "        poly_order = input()\n",
    "        \n",
    "    if poly_order == 3:    \n",
    "        C = np.random.randint(-5,5,poly_order)\n",
    "        C1 = -1*np.sum(C)\n",
    "        C2 = C[0]*C[1] + C[2]*(C[0]+C[1])\n",
    "        C3 = -1*C[0]*C[1]*C[2]\n",
    "        C11=C1\n",
    "        C22=C2\n",
    "        C33=C3\n",
    "        display(Latex('Find the interval where $P(x) \\geq 0 $ for $P(x)$ as given below:'))\n",
    "        if C1>0:\n",
    "            str1 = '+' + str(C11) + 'x^2'\n",
    "        elif C1== 0:\n",
    "            str1 = ''\n",
    "        else:\n",
    "            str1=  str(C11) + 'x^2'\n",
    "        if C2>0:\n",
    "            str2 = '+' + str(C22) + 'x'\n",
    "        elif C2== 0:\n",
    "            str2=''\n",
    "        else:\n",
    "            str2= str(C22) + 'x'\n",
    "        if C3>0:\n",
    "            str3 = '+' + str(C33)\n",
    "        elif C3== 0:\n",
    "            str3=''\n",
    "        else:\n",
    "            str3= str(C33)\n",
    "        a = 'P(x)= x^3' + str1 + str2 + str3\n",
    "        display(Math(a))\n",
    "        def poly(x):\n",
    "            return x**3 + C1*x**2 + C2*x + C3\n",
    "        \n",
    "    if poly_order == 2:\n",
    "        C = np.random.randint(-5,5,poly_order)\n",
    "        C1 = -1*np.sum(C)\n",
    "        C2 = C[0]*C[1]\n",
    "        C11=C1\n",
    "        C22=C2\n",
    "        if C1>0:\n",
    "            str1 = '+' + str(C11) + 'x'\n",
    "        elif C1== 0:\n",
    "            str1 = ''\n",
    "        else:\n",
    "            str1=  str(C11) + 'x'\n",
    "        if C2>0:\n",
    "            str2 = '+' + str(C22)\n",
    "        elif C2== 0:\n",
    "            str2=''\n",
    "        else:\n",
    "            str2= str(C22) \n",
    "        display(Latex('Find the interval where $P(x) \\geq 0 $ for $y$ as given below:'))\n",
    "        a = 'P(x) = x^2 ' + str1 + str2\n",
    "        display(Math(a))\n",
    "        def poly(x):\n",
    "            return x**2 + C1*x + C2\n",
    "    \n",
    "    Max = max(C)\n",
    "    Min = min(C)\n",
    "    M = [Min, Max]\n",
    "    V = np.sort(C)\n",
    "    eps = 0.1\n",
    "    \n",
    "    if poly_order ==3:\n",
    "        v = V[1]\n",
    "        if Max == Min and poly(Max +eps) > 0:\n",
    "                          interval = '['+str(Max)+',inf)'\n",
    "        if Max == Min and poly(Max +eps) < 0:\n",
    "                          interval = '(-inf,' + str( Max)+']'\n",
    "                      \n",
    "        if poly(Max + eps) >0:\n",
    "#         interval = '(' + str(Max) + ', infinity)'\n",
    "            if v !=  Max and v!= Min:\n",
    "                      interval = '['+str(Min) + ',' + str(v) + ']U[' + str(Max) + ',inf)'\n",
    "            if v == Max:\n",
    "                          interval = '[' + str(Min) + ',inf)'\n",
    "            if v== Min:\n",
    "                          interval = '[' + str(Max) + ',inf)'\n",
    "    \n",
    "        if poly(Max + eps) <0:\n",
    "#         interval = '(-infinty,' + str(Min) + ')'\n",
    "            if v != Max and v != Min:\n",
    "                          interval = '(-inf,' + str(Min) + ']U['+str(v) + ','+str(Max) + ']'\n",
    "            if v == Max:\n",
    "                          interval = '(-inf,' + str( Max) + ']'\n",
    "            if v == Min:\n",
    "                          interval = '(-inf,' + str(Min) + ']'\n",
    "                    \n",
    "    if poly_order == 2:\n",
    "            if Max == Min and poly(Max+eps)>0:\n",
    "                interval = '(-inf,inf)'\n",
    "            elif poly(Max+eps)<0:\n",
    "                interval = '['+str(Min)+','+str(Max)+']'\n",
    "            elif poly(Max + eps)>0:\n",
    "                interval = '(-inf,'+str(Min)+']U[' + str(Max)+',inf)'\n",
    "            else:\n",
    "                interval = str(Max)    \n",
    "\n",
    "#     print(interval)\n",
    "    breaker = 0\n",
    "    while  check_interval == 0:\n",
    "        display(Latex('Input answer in interval notation (i.e. [-4,-1]U[5,inf) ):'))\n",
    "        inpt = str(input())\n",
    "        interval_input = inpt.replace(\" \",\"\")\n",
    "        if interval_input == interval:\n",
    "            check_interval = 1\n",
    "            display(Latex(\"Correct! Here's a visualization of the solution:\"))\n",
    "            x=np.linspace(-100,100,10000)\n",
    "            y= poly(x)\n",
    "            plt.figure(figsize=(11,8))\n",
    "            plt.plot(x,y, linewidth = 2, label = '$' + str(a) + '$')\n",
    "            plt.xlabel('$x$',fontsize = 14)\n",
    "            plt.ylabel('$y$',fontsize = 14)\n",
    "            plt.axhline(y=0, color = 'k', linewidth=1)\n",
    "            plt.axvline(x=0, color = 'k', linewidth=1)\n",
    "            plt.grid(alpha = 0.7)\n",
    "            plt.xticks(np.arange(-10,11))\n",
    "            plt.ylim([-75,75])\n",
    "            plt.xlim([-9,9])\n",
    "            plt.legend(loc = 'best', fontsize = 18)\n",
    "            plt.fill_between(x,y,0, where=y>0, interpolate=True, alpha = 0.5, color='g')\n",
    "        else:\n",
    "            breaker += 1\n",
    "            display(Latex(\"That's not quite right, try again.\" ))\n",
    "            if breaker == 3:\n",
    "                display(Latex(\"Try plotting the polynomial to help you visualize the solution!\"))\n",
    "            elif breaker == 5:\n",
    "                display(Latex(\"The solution interval for this problem is\" + str(interval)))\n",
    "                display(Latex(\"Run this cell again to try another problem!\"))\n",
    "                x=np.linspace(-100,100,10000)\n",
    "                y= poly(x)\n",
    "                plt.figure(figsize=(11,8))\n",
    "                plt.plot(x,y, linewidth = 2, label = '$' + str(a) + '$')\n",
    "                plt.xlabel('$x$',fontsize = 14)\n",
    "                plt.ylabel('$y$',fontsize = 14)\n",
    "                plt.axhline(y=0, color = 'k', linewidth=1)\n",
    "                plt.axvline(x=0, color = 'k', linewidth=1)\n",
    "                plt.grid(alpha = 0.7)\n",
    "                plt.xticks(np.arange(-10,11))\n",
    "                plt.ylim([-75,75])\n",
    "                plt.xlim([-9,9])\n",
    "                plt.legend(loc = 'best', fontsize = 18)\n",
    "                plt.fill_between(x,y,0, where=y>0, interpolate=True, alpha = 0.5, color='g')\n",
    "                check_interval = 1\n",
    "            else:\n",
    "                continue\n",
    "        \n"
   ]
  },
  {
   "cell_type": "code",
   "execution_count": null,
   "metadata": {},
   "outputs": [],
   "source": [
    "try:\n",
    "    find_interval()\n",
    "except KeyboardInterrupt:\n",
    "    pass"
   ]
  },
  {
   "cell_type": "markdown",
   "metadata": {
    "collapsed": true
   },
   "source": [
    "## Plotting in Python\n"
   ]
  },
  {
   "cell_type": "markdown",
   "metadata": {},
   "source": [
    " To create a simple plot of a polynomial, we can run the following code:\n",
    "\n",
    "First, we have to import the necessary libraries to create the plot. We can call the matplotlib library in the code by using the 'plt.' prefix. \n",
    "\n",
    "We will use the Python `matplotlib` library to plot the polynomials.\n",
    "\n",
    "The` numpy` library is used to create an object called a 'vector' -- we use this to plot the  polynomial over some range of x:\n",
    "\n",
    "```python\n",
    "import matplotlib.pyplot as plt\n",
    "\n",
    "import numpy as np \n",
    "```\n",
    "\n",
    "From the `numpy` library, we call the 'linspace' function, which creates a list of linearly spaced numbers. The numbers in the brackets are the starting number, the final number, and the number of points between the two. In this case, we create a list of 1000 numbers equally spaced between `-10` and `10`. We will define this list as the variable `x` by typing `x=` before we call the `numpy` function:\n",
    "\n",
    "```python\n",
    "x = np.linspace(-10,10,1000) \n",
    "```\n",
    "\n",
    "Now we can use `matplotlib` functions to create the graph. Calling the `figure()` function creates a figure box to make the graph. We can enter arguments in the brackets to specify the size of the figure window to make it easier to read. To actually draw the graph, we call `plot(x,y)`, draws the graph of y as a function of x.\n",
    "\n",
    "```python\n",
    "plt.figure(figsize=(11,8)) \n",
    "\n",
    "plt.plot(x,y)  \n",
    "```\n",
    "\n",
    "When you write the code for yourself, instead of typing 'y' in the brackets, write out the actual polynomial you wish to plot. For example, if we wanted to plot $y = x^2 + 2x - 3$, our code may look like:\n",
    "\n",
    "```python\n",
    "plt.figure(figsize=(11,8)) \n",
    "\n",
    "plt.plot(x,x**2 + 2*x - 3)  \n",
    "```\n",
    "\n",
    "Notice the *syntax* of the polynomial. Double asterisks `**` are used to exponentiate variables (i.e. $x^2$ = `x**2`), while a single asterisk `*` means multiplication in Python. Addition and subtraction are the usual `+` and `-` symbols.\n",
    "\n",
    "We can make the intercepts easier to read by placing a grid on the figure with\n",
    "\n",
    "```python\n",
    "plt.grid(alpha=0.7)\n",
    "```\n",
    "and making the origin lines solid by using\n",
    "\n",
    "```python\n",
    "plt.axhline(y=0, color = 'k', linewidth=1)\n",
    "\n",
    "plt.axvline(x=0, color = 'k', linewidth=1)\n",
    "```\n",
    "\n",
    "\n",
    "\n",
    "In the cell below, write out this code block, entering the polynomial you wish to solve as 'y'."
   ]
  },
  {
   "cell_type": "markdown",
   "metadata": {},
   "source": [
    "# Conclusion\n"
   ]
  },
  {
   "cell_type": "markdown",
   "metadata": {},
   "source": [
    " In this notebook, we reviewed some basics of polynomial functions:\n",
    " - what is the general form of a polynomial\n",
    " - what are some examples of polynomials\n",
    " - what defines the order (or degree) of a polynomial\n",
    " - what is the constant term of a polynomial, and what is it's role on the graph of a polynomial\n",
    " \n",
    "We explored who to solve inequalities involving polynomials analytically, and demonstrated how we can search for solutions graphically as well.\n",
    "\n",
    "You should also be familiar with some basic Python syntax and plotting routines to create simple plots of polynomial functions with the `matplotlib` library."
   ]
  }
 ],
 "metadata": {
  "kernelspec": {
   "display_name": "Python 3",
   "language": "python",
   "name": "python3"
  },
  "language_info": {
   "codemirror_mode": {
    "name": "ipython",
    "version": 3
   },
   "file_extension": ".py",
   "mimetype": "text/x-python",
   "name": "python",
   "nbconvert_exporter": "python",
   "pygments_lexer": "ipython3",
   "version": "3.6.5"
  }
 },
 "nbformat": 4,
 "nbformat_minor": 2
}

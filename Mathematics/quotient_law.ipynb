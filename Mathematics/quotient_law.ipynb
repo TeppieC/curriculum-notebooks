{
 "cells": [
  {
   "cell_type": "code",
   "execution_count": 1,
   "metadata": {},
   "outputs": [],
   "source": [
    "from IPython.display import display, Math, Latex, Markdown\n",
    "import math\n",
    "from math import log\n",
    "from IPython.external import mathjax\n",
    "import matplotlib.pyplot as plt\n",
    "%matplotlib inline\n",
    "import numpy as np\n",
    "from __future__ import print_function\n",
    "from ipywidgets import interact, interactive, fixed, interact_manual\n",
    "import ipywidgets as widgets"
   ]
  },
  {
   "cell_type": "code",
   "execution_count": 2,
   "metadata": {},
   "outputs": [],
   "source": [
    "def f(m,b,x):\n",
    "    x= x*m\n",
    "    return [log(y,b) for y in x]"
   ]
  },
  {
   "cell_type": "code",
   "execution_count": 3,
   "metadata": {},
   "outputs": [
    {
     "data": {
      "text/latex": [
       "$$\\log_{B}\\bigg(\\frac{M}{N}\\bigg)=\\log_{B}(M)-\\log_{B}(N)$$"
      ],
      "text/plain": [
       "<IPython.core.display.Math object>"
      ]
     },
     "metadata": {},
     "output_type": "display_data"
    }
   ],
   "source": [
    "display(Math(r'\\log_{B}\\bigg(\\frac{M}{N}\\bigg)=\\log_{B}(M)-\\log_{B}(N)'))"
   ]
  },
  {
   "cell_type": "code",
   "execution_count": 4,
   "metadata": {},
   "outputs": [
    {
     "name": "stdout",
     "output_type": "stream",
     "text": [
      "type \"math\" for mathematical proof and \"graph\" for graphical proof: math\n"
     ]
    }
   ],
   "source": [
    "direction= input('type \"math\" for mathematical proof and \"graph\" for graphical proof: ')"
   ]
  },
  {
   "cell_type": "code",
   "execution_count": 8,
   "metadata": {},
   "outputs": [
    {
     "data": {
      "text/latex": [
       "$\\text{First we need to define some variables. We will choose x and y.}$"
      ],
      "text/plain": [
       "<IPython.core.display.Latex object>"
      ]
     },
     "metadata": {},
     "output_type": "display_data"
    },
    {
     "data": {
      "text/latex": [
       "$\\text{Let} \\: x=\\log_B(M) \\:and \\: Let \\: y=\\log_B(N)$"
      ],
      "text/plain": [
       "<IPython.core.display.Latex object>"
      ]
     },
     "metadata": {},
     "output_type": "display_data"
    },
    {
     "data": {
      "text/latex": [
       "$\\text{We know that the equivalent exponential forms are}$"
      ],
      "text/plain": [
       "<IPython.core.display.Latex object>"
      ]
     },
     "metadata": {},
     "output_type": "display_data"
    },
    {
     "data": {
      "text/latex": [
       "$B^x=M \\: and \\: B^y=N$"
      ],
      "text/plain": [
       "<IPython.core.display.Latex object>"
      ]
     },
     "metadata": {},
     "output_type": "display_data"
    },
    {
     "data": {
      "text/latex": [
       "$\\text{Based on the above, we can state that}$"
      ],
      "text/plain": [
       "<IPython.core.display.Latex object>"
      ]
     },
     "metadata": {},
     "output_type": "display_data"
    },
    {
     "data": {
      "text/latex": [
       "$\\frac{B^x}{B^y}=\\frac{M}{N}$"
      ],
      "text/plain": [
       "<IPython.core.display.Latex object>"
      ]
     },
     "metadata": {},
     "output_type": "display_data"
    },
    {
     "data": {
      "text/latex": [
       "$\\text{based on the properties on exponents, this is equivalent to:}$"
      ],
      "text/plain": [
       "<IPython.core.display.Latex object>"
      ]
     },
     "metadata": {},
     "output_type": "display_data"
    },
    {
     "data": {
      "text/latex": [
       "$B^{x-y}=\\frac{M}{N}$"
      ],
      "text/plain": [
       "<IPython.core.display.Latex object>"
      ]
     },
     "metadata": {},
     "output_type": "display_data"
    },
    {
     "data": {
      "text/latex": [
       "$\\log_{B}\\big(\\frac{M}{N}\\big)=x-y$"
      ],
      "text/plain": [
       "<IPython.core.display.Latex object>"
      ]
     },
     "metadata": {},
     "output_type": "display_data"
    },
    {
     "data": {
      "text/latex": [
       "$\\log_{B}\\big(\\frac{M}{N}\\big)=\\log_{B}(M)-\\log_{B}(N)$"
      ],
      "text/plain": [
       "<IPython.core.display.Latex object>"
      ]
     },
     "metadata": {},
     "output_type": "display_data"
    }
   ],
   "source": [
    "if direction=='math':\n",
    "    display(Latex(r'$\\text{First we need to define some variables. We will choose x and y.}$'))\n",
    "    display(Latex(r'$\\text{Let} \\: x=\\log_B(M) \\:and \\: Let \\: y=\\log_B(N)$'))\n",
    "    display(Latex(r'$\\text{We know that the equivalent exponential forms are}$'))\n",
    "    display(Latex(r'$B^x=M \\: and \\: B^y=N$'))\n",
    "    display(Latex(r'$\\text{Based on the above, we can state that}$'))\n",
    "    display(Latex(r'$\\frac{B^x}{B^y}=\\frac{M}{N}$'))\n",
    "    display(Latex(r'$\\text{based on the properties on exponents, this is equivalent to:}$'))\n",
    "    display(Latex(r'$B^{x-y}=\\frac{M}{N}$'))\n",
    "    display(Latex(r'$\\log_{B}\\big(\\frac{M}{N}\\big)=x-y$'))\n",
    "    display(Latex(r'$\\log_{B}\\big(\\frac{M}{N}\\big)=\\log_{B}(M)-\\log_{B}(N)$'))"
   ]
  },
  {
   "cell_type": "code",
   "execution_count": 6,
   "metadata": {},
   "outputs": [],
   "source": [
    "if direction=='graph':\n",
    "    b=int(input('pick a base (B) -must be an integer '))\n",
    "    m=int(input('pick a first number (M) -must be an integer '))\n",
    "    n=int(input('pick a second number (N) -must be an integer '))\n",
    "    x=np.linspace(1,10)\n",
    "    p1=log(m,b)\n",
    "    p2=log(n,b)\n",
    "    p3=log(m/n,b)\n",
    "    y=np.linspace(p3,p3)\n",
    "    plt.plot(x,f(m,b,x),'-b',label='log(m)')\n",
    "    plt.plot(x,f(n,b,x),'-g',label='log(n)')\n",
    "    plt.plot(x,y,'-r',label='log(m/n)')\n",
    "    plt.plot(1,p1,'ob',1,p2,'og',1,p3,'or')\n",
    "    plt.legend(bbox_to_anchor=(1.05, 1), loc=2, borderaxespad=0.)\n",
    "    plt.xticks(np.arange(0, 10, step=1))\n",
    "    plt.show()\n",
    "    print('The points at \\log({0:1.3f}), \\log({1:1.3f}) and \\log({2:1.3f}) are at {3:1.3f}, {4:1.3f} and {5:1.3f} repectively'.format(m,n,m/n,p1, p2, p3))\n",
    "    print('We know {0:1.3f} - {1:1.3f} = {2:1.3f}'.format(p1, p2, p3))\n",
    "    print('thus')\n",
    "    display(Latex(r'$\\log_{B}\\big(\\frac{M}{N}\\big)=\\log_{B}(M)+\\log_{B}(N)$'))"
   ]
  }
 ],
 "metadata": {
  "kernelspec": {
   "display_name": "Python 3",
   "language": "python",
   "name": "python3"
  },
  "language_info": {
   "codemirror_mode": {
    "name": "ipython",
    "version": 3
   },
   "file_extension": ".py",
   "mimetype": "text/x-python",
   "name": "python",
   "nbconvert_exporter": "python",
   "pygments_lexer": "ipython3",
   "version": "3.6.5"
  }
 },
 "nbformat": 4,
 "nbformat_minor": 2
}

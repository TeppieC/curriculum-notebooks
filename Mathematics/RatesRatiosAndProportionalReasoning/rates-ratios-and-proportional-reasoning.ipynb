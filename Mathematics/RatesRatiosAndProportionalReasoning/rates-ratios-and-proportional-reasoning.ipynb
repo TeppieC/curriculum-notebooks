{
 "cells": [
  {
   "cell_type": "markdown",
   "metadata": {},
   "source": [
    "![Callysto.ca Banner](https://github.com/callysto/curriculum-notebooks/blob/master/callysto-notebook-banner-top.jpg?raw=true)\n",
    "\n",
    "<a href=\"https://hub.callysto.ca/jupyter/hub/user-redirect/git-pull?repo=https%3A%2F%2Fgithub.com%2Fcallysto%2Fcurriculum-notebooks&branch=master&subPath=Mathematics/RatesRatiosAndProportionalReasoning/rates-ratios-and-proportional-reasoning.ipynb&depth=1\" target=\"_parent\"><img src=\"https://raw.githubusercontent.com/callysto/curriculum-notebooks/master/open-in-callysto-button.svg?sanitize=true\" width=\"123\" height=\"24\" alt=\"Open in Callysto\"/></a>"
   ]
  },
  {
   "cell_type": "code",
   "execution_count": 1,
   "metadata": {
    "scrolled": true,
    "tags": [
     "hide-input"
    ]
   },
   "outputs": [
    {
     "data": {
      "text/html": [
       "\n",
       "<script>\n",
       "  function code_toggle() {\n",
       "    if (code_shown){\n",
       "      $('div.input').hide('500');\n",
       "      $('#toggleButton').val('Show Code')\n",
       "    } else {\n",
       "      $('div.input').show('500');\n",
       "      $('#toggleButton').val('Hide Code')\n",
       "    }\n",
       "    code_shown = !code_shown\n",
       "  }\n",
       "\n",
       "  $( document ).ready(function(){\n",
       "    code_shown=false;\n",
       "    $('div.input').hide()\n",
       "  });\n",
       "</script>\n",
       "<p> Code is hidden for ease of viewing. Click the Show/Hide button to see. </>\n",
       "<form action=\"javascript:code_toggle()\"><input type=\"submit\" id=\"toggleButton\" value=\"Show Code\"></form>\n"
      ],
      "text/plain": [
       "<IPython.core.display.HTML object>"
      ]
     },
     "metadata": {},
     "output_type": "display_data"
    }
   ],
   "source": [
    "%%html\n",
    "\n",
    "<script>\n",
    "  function code_toggle() {\n",
    "    if (code_shown){\n",
    "      $('div.input').hide('500');\n",
    "      $('#toggleButton').val('Show Code')\n",
    "    } else {\n",
    "      $('div.input').show('500');\n",
    "      $('#toggleButton').val('Hide Code')\n",
    "    }\n",
    "    code_shown = !code_shown\n",
    "  }\n",
    "\n",
    "  $( document ).ready(function(){\n",
    "    code_shown=false;\n",
    "    $('div.input').hide()\n",
    "  });\n",
    "</script>\n",
    "<p> Code is hidden for ease of viewing. Click the Show/Hide button to see. </>\n",
    "<form action=\"javascript:code_toggle()\"><input type=\"submit\" id=\"toggleButton\" value=\"Show Code\"></form>"
   ]
  },
  {
   "cell_type": "code",
   "execution_count": 2,
   "metadata": {
    "tags": [
     "hide-input"
    ]
   },
   "outputs": [],
   "source": [
    "import ipywidgets\n",
    "from IPython.display import display, Math, Latex, HTML, IFrame, Javascript, clear_output\n",
    "from ipywidgets import IntSlider, Label, widgets, interact, interact_manual, Button, Layout, interactive"
   ]
  },
  {
   "cell_type": "markdown",
   "metadata": {},
   "source": [
    "# Rates, Ratios, and Proportional Reasoning\n",
    "\n",
    "## Math 8"
   ]
  },
  {
   "cell_type": "markdown",
   "metadata": {},
   "source": [
    "<img src=\"./images/ratioBars.gif\">\n",
    "*GIF taken from: https://patches.zone/compression-guide.* "
   ]
  },
  {
   "cell_type": "markdown",
   "metadata": {},
   "source": [
    "## Introduction\n",
    "*Objects do not always appear in the same size.* This is true of everything in the universe. For example, what is the size of a human to an elephant? Or the size of our planet to the likes of Mars?\n",
    "\n",
    "So, a need to compare quantities of things arises. This is needed to see how much bigger, or smaller, an amount is when compared to another. \n",
    "\n",
    "This notebook discusses three mathematical comparison concepts. These concepts are **ratios**, **rates**, and **proportional reasoning**. There will be interactive problems to help you understand these concepts. Let's start!"
   ]
  },
  {
   "cell_type": "markdown",
   "metadata": {},
   "source": [
    "## Ratios\n",
    "> **Ratios** are comparisons **between two things**. In its plainest form, *a ratio* says how much one thing is compared to another.\n",
    "\n",
    "We will use the following illustration to help learn more about ratios:\n",
    "\n",
    "<img src=\"./images/ratio.JPG\" alt=\"Callysto\" width=200  align = \"center\">\n",
    "\n",
    "The illustration above contains $2$ *triangles* and $4$ *circles*. So, **the ratio of** *triangles* **to** *circles* would be $2$ to $4$. This is because you have exactly $2$ *triangles* and $4$ *circles*."
   ]
  },
  {
   "cell_type": "markdown",
   "metadata": {},
   "source": [
    "Now, let's think about ratios more generally:\n",
    "\n",
    "> Let's say you have some quantity $a$ of object $A$. It doesn't matter what $A$ is; it could be potatoes, cats, pillows, you name it.\n",
    "<br /><br />\n",
    "Let's say you also have some quantity $b$ of object $B$. Again, it doesn't matter what $B$ is; it could be pennies or cars if you wanted.\n",
    "<br /><br />\n",
    "Then you can say that **the ratio of** $A$ **to** $B$ is *the number of $As$ you have* **to** *the number of $Bs$ you have*, ($a$ to $b$).\n",
    "\n",
    "**Ratios** can also be written in different ways:\n",
    "\n",
    "- Use a colon, ($a : b$), to separate the values.</h3>\n",
    "- Use the word \"to\", ($a\\textrm{ to }b$), to separate the values. </h3>\n",
    "- Use a fraction, ($\\frac{a}{b}$) to separate the values. </h3>\n",
    "\n",
    "So, we can write the ratio of the example above in the following ways:\n",
    "\n",
    "> a) $2 : 4$\n",
    "<br /><br />\n",
    "b) $2 \\textrm{ to } 4$\n",
    "<br /><br />\n",
    "c) $\\frac{2}{4}$\n",
    "\n",
    "According to our definition of a ratio, for every $2$ *triangles*, there are $4$ *circles*. But, we can also compare *triangles* and *circles* by **scaling the ratio**. This is also known as an *equivalent of the ratio* or *equal ratio*. \n",
    "\n",
    "We can get an *equal ratio* by either multiplying or dividing each term in the ratio by the same number, (**Just not by zero**). So, since the ratio of *triangles* and *circles* is $2 : 4$, we can divide both sides of the ratio by $2$ to get $1 : 2$. This means there are $2$ *circles* for $each$ *triangle*, and it can be divided into $2$ groups.\n",
    "\n",
    "<img src=\"./images/ratio_scale.JPG\" alt=\"Callysto\" width=350  align = \"center\">\n",
    "\n",
    "Let's try the following problem:"
   ]
  },
  {
   "cell_type": "code",
   "execution_count": 3,
   "metadata": {
    "tags": [
     "hide-input"
    ]
   },
   "outputs": [
    {
     "data": {
      "application/vnd.jupyter.widget-view+json": {
       "model_id": "4dce398d172a478a86a83c7aeb3d6f63",
       "version_major": 2,
       "version_minor": 0
      },
      "text/plain": [
       "interactive(children=(Dropdown(description='What is the ratio of circles to triangles?', options=('2 to 4', '2…"
      ]
     },
     "metadata": {},
     "output_type": "display_data"
    }
   ],
   "source": [
    "#Used to ensure the description text doesn't get cut off.\n",
    "style = {'description_width': 'initial'}\n",
    "\n",
    "def q_1(val):\n",
    "    #If the answer is correct:\n",
    "    if val == \"2 to 1\":\n",
    "        display(\"Correct!\")\n",
    "        display(\"If the values are flipped, then the ratio should also be flipped.\")\n",
    "        \n",
    "    #If nothing is selected:\n",
    "    elif val == None:\n",
    "        None\n",
    "    \n",
    "    #Otherwise, if the answer is wrong:\n",
    "    else:\n",
    "        display(\"Please try again.\")\n",
    "        display(\"Remember, we are no longer looking at the ratio of triangles to circles.\")\n",
    "\n",
    "#a1, a2, and a3 are the possible inputs the user can put.\n",
    "a1 = \"2 to 4\"\n",
    "a2 = \"2 to 1\"\n",
    "a3 = \"1 to 2\"\n",
    "\n",
    "#Display the question.\n",
    "#display(Latex(\"What is the ratio of circles to triangles?\"))\n",
    "\n",
    "#Create a drop down widget for answers.\n",
    "interact(q_1, val = widgets.Dropdown(options=[a1 ,a2, a3],\\\n",
    "                                     value = None,\\\n",
    "                                     description = 'What is the ratio of circles to triangles?',\\\n",
    "                                     disabled = False,\\\n",
    "                                     style = style));"
   ]
  },
  {
   "cell_type": "markdown",
   "metadata": {},
   "source": [
    "The following video, from [LearnAlberta](http://www.learnalberta.ca/content/mesg/html/math6web/index.html?page=lessons&lesson=m6lessonshell03.swf), demonstrates the idea of ratio with some interactive problems. You may need to enable the Adobe Flash Player for this site in your browser."
   ]
  },
  {
   "cell_type": "code",
   "execution_count": 4,
   "metadata": {
    "tags": [
     "hide-input"
    ]
   },
   "outputs": [
    {
     "data": {
      "application/vnd.jupyter.widget-view+json": {
       "model_id": "fdbafce5bb134b3eacb5c9cee1fd15f5",
       "version_major": 2,
       "version_minor": 0
      },
      "text/plain": [
       "Button(description='Show Video', style=ButtonStyle())"
      ]
     },
     "metadata": {},
     "output_type": "display_data"
    }
   ],
   "source": [
    "#lesson is the ratio lesson.\n",
    "lesson = HTML('<center><embed width=\"500\" height=\"400\" src=\"InteractiveLesson.swf\"\\\n",
    "frameborder=\"0\" allow=\"autoplay\"; encrypted-media\"></center>')\n",
    "\n",
    "#Construction of button to provide factored polynomial result.\n",
    "buttonShowVideo = widgets.Button(description=\"Show Video\")\n",
    "\n",
    "def displayLesson(a):\n",
    "    display(lesson)\n",
    "    buttonShowVideo.close()\n",
    "\n",
    "display(buttonShowVideo)\n",
    "buttonShowVideo.on_click(displayLesson)"
   ]
  },
  {
   "cell_type": "markdown",
   "metadata": {},
   "source": [
    "<font size = 2 > <center> *This work has been adapted from a learning resource originally owned by Alberta Education. (http://www.learnalberta.ca)* </center> </font>"
   ]
  },
  {
   "cell_type": "markdown",
   "metadata": {},
   "source": [
    "### Ratio Related Problems\n",
    "\n",
    "* **Problem 1:** Finding the equal ratios."
   ]
  },
  {
   "cell_type": "code",
   "execution_count": 5,
   "metadata": {
    "scrolled": true,
    "tags": [
     "hide-input"
    ]
   },
   "outputs": [
    {
     "data": {
      "text/plain": [
       "'Which of the following are equal ratios of 18:24 ?'"
      ]
     },
     "metadata": {},
     "output_type": "display_data"
    },
    {
     "data": {
      "application/vnd.jupyter.widget-view+json": {
       "model_id": "a5d5580ce31a4de3a1cea4960a357052",
       "version_major": 2,
       "version_minor": 0
      },
      "text/plain": [
       "Checkbox(value=False, description='3 : 6', style=DescriptionStyle(description_width='initial'))"
      ]
     },
     "metadata": {},
     "output_type": "display_data"
    },
    {
     "data": {
      "application/vnd.jupyter.widget-view+json": {
       "model_id": "6c932220769440148596844aa5fea3dc",
       "version_major": 2,
       "version_minor": 0
      },
      "text/plain": [
       "Checkbox(value=False, description='6 : 8', style=DescriptionStyle(description_width='initial'))"
      ]
     },
     "metadata": {},
     "output_type": "display_data"
    },
    {
     "data": {
      "application/vnd.jupyter.widget-view+json": {
       "model_id": "b97421437d74436cb04c2f60e0a4a148",
       "version_major": 2,
       "version_minor": 0
      },
      "text/plain": [
       "Checkbox(value=False, description='2 : 3', style=DescriptionStyle(description_width='initial'))"
      ]
     },
     "metadata": {},
     "output_type": "display_data"
    },
    {
     "data": {
      "application/vnd.jupyter.widget-view+json": {
       "model_id": "40b836e9660d4aeca493930bec3cf194",
       "version_major": 2,
       "version_minor": 0
      },
      "text/plain": [
       "Checkbox(value=False, description='36 : 48', style=DescriptionStyle(description_width='initial'))"
      ]
     },
     "metadata": {},
     "output_type": "display_data"
    },
    {
     "data": {
      "application/vnd.jupyter.widget-view+json": {
       "model_id": "e799c7505cd04a5688a1b154a17f0e42",
       "version_major": 2,
       "version_minor": 0
      },
      "text/plain": [
       "Button(description='Check', style=ButtonStyle())"
      ]
     },
     "metadata": {},
     "output_type": "display_data"
    }
   ],
   "source": [
    "#Used to ensure the description text doesn't get cut off.\n",
    "style = {'description_width': 'initial'}\n",
    "\n",
    "#Create the box for options\n",
    "a1=widgets.Checkbox(\n",
    "    value=False,\n",
    "    description=\"3 : 6\",\n",
    "    style=style\n",
    ")\n",
    "\n",
    "b1=widgets.Checkbox(\n",
    "    value=False,\n",
    "    description=\"6 : 8\",\n",
    "    style=style\n",
    ")\n",
    "c1=widgets.Checkbox(\n",
    "    value=False,\n",
    "    description=\"2 : 3\",\n",
    "    style=style\n",
    ")\n",
    "d1=widgets.Checkbox(\n",
    "    value=False,\n",
    "    description=r'36 : 48',\n",
    "    style=style\n",
    ")\n",
    "\n",
    "#writtenQuestion is the question the user is asked.\n",
    "writtenQuestion1 = 'Which of the following are equal ratios of 18:24 ?'\n",
    "display(writtenQuestion1)\n",
    "\n",
    "#Display the check box\n",
    "display(a1)\n",
    "display(b1)\n",
    "display(c1)\n",
    "display(d1)\n",
    "\n",
    "#create a button to check the answer\n",
    "button_check1 = widgets.Button(description=\"Check\")\n",
    "display(button_check1)\n",
    "\n",
    "#Check the answer\n",
    "def check_button1(x):\n",
    "    #If answer is correct:\n",
    "    if (a1.value==False and b1.value==True and c1.value==False and d1.value==True):\n",
    "        clear_output()\n",
    "        display(writtenQuestion1)\n",
    "        display(\"Correct!\")\n",
    "        display(Latex(r\"$18 : 24 = 6 : 8$ (Divide by 3)\"))\n",
    "        display(Latex(r\"$18 : 24 = 36 : 48$ (Multiply by 2)\"))\n",
    "        \n",
    "    #Otherwise, if the answer is wrong:\n",
    "    else: \n",
    "        clear_output()\n",
    "        display(writtenQuestion1)\n",
    "        display(a1)\n",
    "        display(b1)\n",
    "        display(c1)\n",
    "        display(d1)\n",
    "        display(\"Please try again.\")\n",
    "        display(\"HINT: There is more than one answer. Make sure to divide or multiply both \\\n",
    "parts using the same number.\")\n",
    "        display(button_check1)\n",
    "        \n",
    "button_check1.on_click(check_button1)\n"
   ]
  },
  {
   "cell_type": "markdown",
   "metadata": {},
   "source": [
    "* **Problem 2:** (Use the illustration below to answer the question)\n",
    "\n",
    "<img src=\"./images/Car.gif\" width=\"500\" />\n",
    "<font size = 1 > <center>*GIF taken from [NinetyEast](http://www.ninetyeast.net/physics/grade-9-10-gcse-hsc/forces/newtons-laws-of-motion/newtons-first-law-of-motion)*</center> </font>\n"
   ]
  },
  {
   "cell_type": "code",
   "execution_count": 6,
   "metadata": {
    "tags": [
     "hide-input"
    ]
   },
   "outputs": [
    {
     "data": {
      "text/plain": [
       "'What is the ratio of the speeds of the orange, green and blue cars?'"
      ]
     },
     "metadata": {},
     "output_type": "display_data"
    },
    {
     "data": {
      "application/vnd.jupyter.widget-view+json": {
       "model_id": "7f2943b883cc49deb500e8b7830d0d12",
       "version_major": 2,
       "version_minor": 0
      },
      "text/plain": [
       "Checkbox(value=False, description='4 : 2 : 1', style=DescriptionStyle(description_width='initial'))"
      ]
     },
     "metadata": {},
     "output_type": "display_data"
    },
    {
     "data": {
      "application/vnd.jupyter.widget-view+json": {
       "model_id": "56447f70cba44418abeff6592b273f7b",
       "version_major": 2,
       "version_minor": 0
      },
      "text/plain": [
       "Checkbox(value=False, description='20 : 40 : 10', style=DescriptionStyle(description_width='initial'))"
      ]
     },
     "metadata": {},
     "output_type": "display_data"
    },
    {
     "data": {
      "application/vnd.jupyter.widget-view+json": {
       "model_id": "f5d835808dc143be9a6be4d38300f895",
       "version_major": 2,
       "version_minor": 0
      },
      "text/plain": [
       "Checkbox(value=False, description='10 : 20 : 40', style=DescriptionStyle(description_width='initial'))"
      ]
     },
     "metadata": {},
     "output_type": "display_data"
    },
    {
     "data": {
      "application/vnd.jupyter.widget-view+json": {
       "model_id": "89b60b8ffa9c467098d2ac34c1c3c941",
       "version_major": 2,
       "version_minor": 0
      },
      "text/plain": [
       "Checkbox(value=False, description='1 : 2 : 4', style=DescriptionStyle(description_width='initial'))"
      ]
     },
     "metadata": {},
     "output_type": "display_data"
    },
    {
     "data": {
      "application/vnd.jupyter.widget-view+json": {
       "model_id": "fbbcda7311c34d98a68cc10a97c5c019",
       "version_major": 2,
       "version_minor": 0
      },
      "text/plain": [
       "Button(description='Check', style=ButtonStyle())"
      ]
     },
     "metadata": {},
     "output_type": "display_data"
    }
   ],
   "source": [
    "#writtenQuestion is the question the user is asked.\n",
    "writtenQuestion2 =  'What is the ratio of the speeds of the orange, green and blue cars?'\n",
    "display(writtenQuestion2)\n",
    "\n",
    "#Create the box for options\n",
    "a2=widgets.Checkbox(\n",
    "    value=False,\n",
    "    description=\"4 : 2 : 1\",\n",
    "    style=style\n",
    ")\n",
    "\n",
    "b2=widgets.Checkbox(\n",
    "    value=False,\n",
    "    description='20 : 40 : 10',\n",
    "    style=style\n",
    ")\n",
    "c2=widgets.Checkbox(\n",
    "    value=False,\n",
    "    description='10 : 20 : 40',\n",
    "    style=style\n",
    ")\n",
    "d2=widgets.Checkbox(\n",
    "    value=False,\n",
    "    description=r'1 : 2 : 4',\n",
    "    style=style\n",
    ")\n",
    "\n",
    "#Display the check box\n",
    "display(a2)\n",
    "display(b2)\n",
    "display(c2)\n",
    "display(d2)\n",
    "\n",
    "#create a button to check the answer\n",
    "button_check2 = widgets.Button(description=\"Check\")\n",
    "display(button_check2)\n",
    "\n",
    "#Check the answer\n",
    "def check_button2(x):\n",
    "    #If answer is correct:\n",
    "    if a2.value==True and b2.value==False and c2.value==False and d2.value==False:\n",
    "        clear_output()\n",
    "        display(writtenQuestion2)\n",
    "        display(\"Correct!\")\n",
    "        display(Latex(r'Orange : Green : Blue $= 40 : 20 : 10 \\\n",
    "        = 4 : 2 : 1$ (Divide by 10)'))\n",
    "        \n",
    "    #Otherwise, if the answer is wrong:\n",
    "    else: \n",
    "        clear_output()\n",
    "        display(writtenQuestion2)\n",
    "        display(a2)\n",
    "        display(b2)\n",
    "        display(c2)\n",
    "        display(d2)\n",
    "        display(button_check2)\n",
    "        display(\"Please try again.\")\n",
    "        display(\"HINT: Make sure the order of your ratio is Orange : Green : Blue.\")\n",
    "                \n",
    "button_check2.on_click(check_button2)"
   ]
  },
  {
   "cell_type": "markdown",
   "metadata": {},
   "source": [
    "* **Problem 3:** Jack goes to the market and buys $8$ oranges, $6$ bananas, and $2$ pineapples."
   ]
  },
  {
   "cell_type": "code",
   "execution_count": 7,
   "metadata": {
    "tags": [
     "hide-input"
    ]
   },
   "outputs": [
    {
     "data": {
      "text/plain": [
       "'What is the ratio of fruits to bananas?'"
      ]
     },
     "metadata": {},
     "output_type": "display_data"
    },
    {
     "data": {
      "application/vnd.jupyter.widget-view+json": {
       "model_id": "ea84acb6db1246ffb6c397b176a07c22",
       "version_major": 2,
       "version_minor": 0
      },
      "text/plain": [
       "Checkbox(value=False, description='16 : 6', style=DescriptionStyle(description_width='initial'))"
      ]
     },
     "metadata": {},
     "output_type": "display_data"
    },
    {
     "data": {
      "application/vnd.jupyter.widget-view+json": {
       "model_id": "a1815c8396f748938ebf6d9619b192f8",
       "version_major": 2,
       "version_minor": 0
      },
      "text/plain": [
       "Checkbox(value=False, description='14 : 6', style=DescriptionStyle(description_width='initial'))"
      ]
     },
     "metadata": {},
     "output_type": "display_data"
    },
    {
     "data": {
      "application/vnd.jupyter.widget-view+json": {
       "model_id": "06bd8e7409114f3d85fc69e701b11c23",
       "version_major": 2,
       "version_minor": 0
      },
      "text/plain": [
       "Checkbox(value=False, description='8 : 3', style=DescriptionStyle(description_width='initial'))"
      ]
     },
     "metadata": {},
     "output_type": "display_data"
    },
    {
     "data": {
      "application/vnd.jupyter.widget-view+json": {
       "model_id": "b7639690901c4db28d52095dae4c7a03",
       "version_major": 2,
       "version_minor": 0
      },
      "text/plain": [
       "Checkbox(value=False, description='16 : 8', style=DescriptionStyle(description_width='initial'))"
      ]
     },
     "metadata": {},
     "output_type": "display_data"
    },
    {
     "data": {
      "application/vnd.jupyter.widget-view+json": {
       "model_id": "74a62735c6504d43bdb3cfeac30dc110",
       "version_major": 2,
       "version_minor": 0
      },
      "text/plain": [
       "Button(description='Check', style=ButtonStyle())"
      ]
     },
     "metadata": {},
     "output_type": "display_data"
    }
   ],
   "source": [
    "#writtenQuestion is the question the user is asked.\n",
    "writtenQuestion3 =  'What is the ratio of fruits to bananas?'\n",
    "display(writtenQuestion3)\n",
    "\n",
    "#Create the box for options\n",
    "a3=widgets.Checkbox(\n",
    "    value=False,\n",
    "    description='16 : 6',\n",
    "    style = style\n",
    ")\n",
    "\n",
    "b3=widgets.Checkbox(\n",
    "    value=False,\n",
    "    description='14 : 6',\n",
    "    style = style\n",
    ")\n",
    "\n",
    "c3=widgets.Checkbox(\n",
    "    value=False,\n",
    "    description=r'8 : 3',\n",
    "    style = style\n",
    ")\n",
    "d3=widgets.Checkbox(\n",
    "    value=False,\n",
    "    description=r'16 : 8',\n",
    "    style = style\n",
    ")\n",
    "\n",
    "#Display the check box\n",
    "display(a3)\n",
    "display(b3)\n",
    "display(c3)\n",
    "display(d3)\n",
    "\n",
    "#create a button to check the answer\n",
    "button_check3 = widgets.Button(description=\"Check\")\n",
    "display(button_check3)\n",
    "\n",
    "#Check the answer\n",
    "def check_button3(x):\n",
    "    #If answer is correct:\n",
    "    if a3.value==True and b3.value==False and c3.value==True and d3.value==False:\n",
    "        clear_output()\n",
    "        display(writtenQuestion3)\n",
    "        display(\"Correct!\")\n",
    "        display(Latex(r'Fruits : Bananas $= (8 + 6 + 2) : 6 \\\n",
    "        = 16 : 6 = 8 : 3$ (Divide by 2)'))\n",
    "        \n",
    "    #Otherwise, if the answer is wrong:\n",
    "    else: \n",
    "        clear_output()\n",
    "        display(writtenQuestion3)\n",
    "        display(a3)\n",
    "        display(b3)\n",
    "        display(c3)\n",
    "        display(d3)\n",
    "        display(button_check3)\n",
    "        display(\"Please try again.\")\n",
    "        display(\"HINT: There is more than one answer. Also, you should take note that\\\n",
    " fruits means ALL fruits bought.\")\n",
    "                \n",
    "button_check3.on_click(check_button3)"
   ]
  },
  {
   "cell_type": "markdown",
   "metadata": {},
   "source": [
    "* **Problem 4:** Jack buys oranges and pineapples at a $4 : 3$ ratio."
   ]
  },
  {
   "cell_type": "code",
   "execution_count": 8,
   "metadata": {
    "tags": [
     "hide-input"
    ]
   },
   "outputs": [
    {
     "data": {
      "text/plain": [
       "'If he buys 15 pineapples, how many oranges he will buy?'"
      ]
     },
     "metadata": {},
     "output_type": "display_data"
    },
    {
     "data": {
      "application/vnd.jupyter.widget-view+json": {
       "model_id": "2310424128f4428492bf9bb582886d10",
       "version_major": 2,
       "version_minor": 0
      },
      "text/plain": [
       "Checkbox(value=False, description='18 oranges', style=DescriptionStyle(description_width='initial'))"
      ]
     },
     "metadata": {},
     "output_type": "display_data"
    },
    {
     "data": {
      "application/vnd.jupyter.widget-view+json": {
       "model_id": "d8e88dd2a7f84993ad377e1fee697dae",
       "version_major": 2,
       "version_minor": 0
      },
      "text/plain": [
       "Checkbox(value=False, description='24 oranges', style=DescriptionStyle(description_width='initial'))"
      ]
     },
     "metadata": {},
     "output_type": "display_data"
    },
    {
     "data": {
      "application/vnd.jupyter.widget-view+json": {
       "model_id": "69518106823e430e9afd0773c831772a",
       "version_major": 2,
       "version_minor": 0
      },
      "text/plain": [
       "Checkbox(value=False, description='28 oranges', style=DescriptionStyle(description_width='initial'))"
      ]
     },
     "metadata": {},
     "output_type": "display_data"
    },
    {
     "data": {
      "application/vnd.jupyter.widget-view+json": {
       "model_id": "4d26c4b581804974b23236fb55f58f35",
       "version_major": 2,
       "version_minor": 0
      },
      "text/plain": [
       "Checkbox(value=False, description='20 oranges', style=DescriptionStyle(description_width='initial'))"
      ]
     },
     "metadata": {},
     "output_type": "display_data"
    },
    {
     "data": {
      "application/vnd.jupyter.widget-view+json": {
       "model_id": "3aa8a57f41e04c93af05899e27b2fd88",
       "version_major": 2,
       "version_minor": 0
      },
      "text/plain": [
       "Button(description='Check', style=ButtonStyle())"
      ]
     },
     "metadata": {},
     "output_type": "display_data"
    }
   ],
   "source": [
    "#writtenQuestion is the question the user is asked.\n",
    "writtenQuestion4 =  'If he buys 15 pineapples, how many oranges he will buy?'\n",
    "display(writtenQuestion4)\n",
    "\n",
    "#Create the box for options\n",
    "a4=widgets.Checkbox(\n",
    "    value=False,\n",
    "    description='18 oranges',\n",
    "    style = style\n",
    ")\n",
    "b4=widgets.Checkbox(\n",
    "    value=False,\n",
    "    description='24 oranges',\n",
    "    style = style\n",
    ")\n",
    "\n",
    "c4=widgets.Checkbox(\n",
    "    value=False,\n",
    "    description='28 oranges',\n",
    "    style = style\n",
    ")\n",
    "d4=widgets.Checkbox(\n",
    "    value=False,\n",
    "    description='20 oranges',\n",
    "    style = style\n",
    ")\n",
    "\n",
    "#Display the check box\n",
    "display(a4)\n",
    "display(b4)\n",
    "display(c4)\n",
    "display(d4)\n",
    "\n",
    "#create a button to check the answer\n",
    "button_check4 = widgets.Button(description=\"Check\")\n",
    "display(button_check4)\n",
    "\n",
    "#Check the answer\n",
    "def check_button4(x):\n",
    "    #If answer is correct:\n",
    "    if a4.value== False and b4.value== False and c4.value== False and d4.value== True:\n",
    "        clear_output()\n",
    "        display(writtenQuestion4)\n",
    "        display(\"Correct!\")\n",
    "        display(Latex(r'Oranges : Pineapples $= 4 : 3 \\\n",
    "        = 20 : 15$ (Multiply by 5)'))\n",
    "        \n",
    "    #Otherwise, if the answer is wrong:\n",
    "    else: \n",
    "        clear_output()\n",
    "        display(writtenQuestion4)\n",
    "        display(a4)\n",
    "        display(b4)\n",
    "        display(c4)\n",
    "        display(d4)\n",
    "        display(button_check4)\n",
    "        display(\"Please try again.\")\n",
    "        display(\"HINT: Multiply the ratio by the amount needed to get from 3\\\n",
    " pineapples to 15 pineapples.\")\n",
    "\n",
    "button_check4.on_click(check_button4)"
   ]
  },
  {
   "cell_type": "markdown",
   "metadata": {},
   "source": [
    "### Exercises\n",
    "\n",
    ">**Question 1**: Jack has $16$ pens, $12$ pencils, and $6$ erasers. What is the ratio of supplies to erasers?"
   ]
  },
  {
   "cell_type": "code",
   "execution_count": 9,
   "metadata": {
    "tags": [
     "hide-input"
    ]
   },
   "outputs": [
    {
     "data": {
      "application/vnd.jupyter.widget-view+json": {
       "model_id": "2f571bc73a754f1aa29c7ff6001e922d",
       "version_major": 2,
       "version_minor": 0
      },
      "text/plain": [
       "Button(description='Show Answer', style=ButtonStyle())"
      ]
     },
     "metadata": {},
     "output_type": "display_data"
    }
   ],
   "source": [
    "#Construction of button to provide answer to question 1.\n",
    "buttonShowAnswer1 = widgets.Button(description=\"Show Answer\")\n",
    "\n",
    "def displayAnswer1(a):\n",
    "    display(Latex(r\"$34 : 6$ or $17 : 3$\"))\n",
    "    buttonShowAnswer1.close()\n",
    "\n",
    "display(buttonShowAnswer1)\n",
    "buttonShowAnswer1.on_click(displayAnswer1)"
   ]
  },
  {
   "cell_type": "markdown",
   "metadata": {},
   "source": [
    ">**Question 2**: Jack has $16$ pens and $12$ pencils. If Jack gives $4$ pens to Jill, then how many pencils does Jack have to give Jill to keep an equal ratio?"
   ]
  },
  {
   "cell_type": "code",
   "execution_count": 10,
   "metadata": {
    "scrolled": true,
    "tags": [
     "hide-input"
    ]
   },
   "outputs": [
    {
     "data": {
      "application/vnd.jupyter.widget-view+json": {
       "model_id": "6f63f438c28946c888273c7de432f517",
       "version_major": 2,
       "version_minor": 0
      },
      "text/plain": [
       "Button(description='Show Answer', style=ButtonStyle())"
      ]
     },
     "metadata": {},
     "output_type": "display_data"
    }
   ],
   "source": [
    "#Construction of button to provide answer to question 2.\n",
    "buttonShowAnswer2 = widgets.Button(description=\"Show Answer\")\n",
    "\n",
    "def displayAnswer2(a):\n",
    "    display(Latex(r\"$3$ pencils\"))\n",
    "    buttonShowAnswer2.close()\n",
    "\n",
    "display(buttonShowAnswer2)\n",
    "buttonShowAnswer2.on_click(displayAnswer2)"
   ]
  },
  {
   "cell_type": "markdown",
   "metadata": {},
   "source": [
    ">**Question 3**: Jack delivers pizza. Fill up the following based on your ratio knowledge.\n",
    "\n",
    "| Time (hour)   |Pizza delivered (quantity) |\n",
    "|:-------------:|:-------------------------:|\n",
    "|$6$            | $48$                      | \n",
    "|$ ?$           | $64$                      | \n",
    "|$7$            | $?$                       | "
   ]
  },
  {
   "cell_type": "code",
   "execution_count": 11,
   "metadata": {
    "tags": [
     "hide-input"
    ]
   },
   "outputs": [
    {
     "data": {
      "application/vnd.jupyter.widget-view+json": {
       "model_id": "1942d0cb8161458a9b4b62c9c44ed1e2",
       "version_major": 2,
       "version_minor": 0
      },
      "text/plain": [
       "Button(description='Show Answer', style=ButtonStyle())"
      ]
     },
     "metadata": {},
     "output_type": "display_data"
    }
   ],
   "source": [
    "#Construction of button to provide answer to question 3.\n",
    "buttonShowAnswer3 = widgets.Button(description=\"Show Answer\")\n",
    "\n",
    "def displayAnswer3(a):\n",
    "    display(Latex(r\"$8$ and $56$\"))\n",
    "    buttonShowAnswer3.close()\n",
    "\n",
    "display(buttonShowAnswer3)\n",
    "buttonShowAnswer3.on_click(displayAnswer3)"
   ]
  },
  {
   "cell_type": "markdown",
   "metadata": {},
   "source": [
    "## Rates\n",
    "\n",
    "<img src=\"./images/GirlRunning.gif\" width=\"300\" height=\"200\">\n",
    "\n",
    "GIF taken from [Giphy](https://giphy.com/gifs/happy-girl-QKUTD5lAgpgrSHpbMB/fullscreen), October 27, 2018\n",
    "\n",
    "> **Rates** are somewhat different than ratios. A rate is a ratio that compares two quantities of different units.\n",
    "\n",
    "Suppose the girl in the figure above runs $2$ kilometers in $1$ hour. Then, the **rate** of the girl's running is $2$ km per hour, (Or $ 2 \\frac{\\textrm{km}}{\\textrm{hour}}$). In this example, *a kilometer is the unit of distance*, and *hour is the unit of time*. So, the **running rate** of the girl is comparing two quantities of different units.\n",
    "\n",
    "Rates occur in many areas of our life:\n",
    "\n",
    "* How fast are you running? $\\rightarrow$ *Kilometers per hour*\n",
    "* What is the unit price of one of your pens? $\\rightarrow$ *Price per unit*\n",
    "* How fast are you typing? $\\rightarrow$ *Words per minutes*\n",
    "\n",
    "> Keep in mind that the denominator would be $1$ during rate calculation. \n",
    "\n",
    "Below is a video which demonstrates the real-life scenarios of rate:"
   ]
  },
  {
   "cell_type": "code",
   "execution_count": 12,
   "metadata": {
    "scrolled": true,
    "tags": [
     "hide-input"
    ]
   },
   "outputs": [
    {
     "data": {
      "image/jpeg": "[encoded data removed]",
      "text/html": [
       "\n",
       "        <iframe\n",
       "            width=\"400\"\n",
       "            height=\"300\"\n",
       "            src=\"https://www.youtube.com/embed/tT9A2jlL1s8\"\n",
       "            frameborder=\"0\"\n",
       "            allowfullscreen\n",
       "        ></iframe>\n",
       "        "
      ],
      "text/plain": [
       "<IPython.lib.display.YouTubeVideo at 0x7fd26c8852d0>"
      ]
     },
     "execution_count": 12,
     "metadata": {},
     "output_type": "execute_result"
    }
   ],
   "source": [
    "from IPython.display import YouTubeVideo\n",
    "YouTubeVideo('tT9A2jlL1s8')"
   ]
  },
  {
   "cell_type": "markdown",
   "metadata": {},
   "source": [
    "<font size = 1 > <center> *This video was created by the YouTube channel LearningGamesLab and can be found at: (https://www.youtube.com/embed/tT9A2jlL1s8)* </center> </font>"
   ]
  },
  {
   "cell_type": "markdown",
   "metadata": {},
   "source": [
    "### Rate Related Problems\n",
    "\n",
    "* **Problem 1:** Jack writes $84$ words in $7$ minutes. He writes at a constant speed."
   ]
  },
  {
   "cell_type": "code",
   "execution_count": 13,
   "metadata": {
    "tags": [
     "hide-input"
    ]
   },
   "outputs": [
    {
     "data": {
      "text/plain": [
       "'How many words can Jack write per minute?'"
      ]
     },
     "metadata": {},
     "output_type": "display_data"
    },
    {
     "data": {
      "application/vnd.jupyter.widget-view+json": {
       "model_id": "01767b8f64e5441d9fbdc23dcc875740",
       "version_major": 2,
       "version_minor": 0
      },
      "text/plain": [
       "interactive(children=(Dropdown(description='Choose One:', options=('12 words per minute', '13 words per minute…"
      ]
     },
     "metadata": {},
     "output_type": "display_data"
    }
   ],
   "source": [
    "#writtenQuestion is the question the user is asked.\n",
    "writtenQuestion11 =  'How many words can Jack write per minute?'\n",
    "display(writtenQuestion11)\n",
    "\n",
    "def q_11(val11):\n",
    "    #If answer is correct:\n",
    "    if val11 == \"12 words per minute\":\n",
    "        display(\"Correct!\")\n",
    "        display(Latex(r'Words per minute $= \\\n",
    "        \\frac{84}{7} = 12$ words per minute'))\n",
    "    \n",
    "    #If nothing is selected:\n",
    "    elif val11 == None:\n",
    "        None\n",
    "        \n",
    "    #Otherwise, if the answer is wrong:\n",
    "    else:\n",
    "        display(\"Please try again.\")\n",
    "        display(Latex(r'HINT: Words per minute $= \\\n",
    "        \\frac{\\textrm{Total number of words}}{\\textrm{Total minutes}}$'))\n",
    "\n",
    "a11 = '12 words per minute'\n",
    "a21 = \"13 words per minute\"\n",
    "a31 = \"11 words per minute\"\n",
    "interact(q_11, val11 = widgets.Dropdown(options=[a11, a21, a31],\\\n",
    "                                     value = None,\\\n",
    "                                     description = 'Choose One:',\\\n",
    "                                     disabled = False));"
   ]
  },
  {
   "cell_type": "markdown",
   "metadata": {},
   "source": [
    "* **Problem 2:** Jack delivers $16$ pizzas in $2$ hours."
   ]
  },
  {
   "cell_type": "code",
   "execution_count": 14,
   "metadata": {
    "tags": [
     "hide-input"
    ]
   },
   "outputs": [
    {
     "data": {
      "text/plain": [
       "'How many pizzas can Jack deliver per hour?'"
      ]
     },
     "metadata": {},
     "output_type": "display_data"
    },
    {
     "data": {
      "application/vnd.jupyter.widget-view+json": {
       "model_id": "8344f05dd771427691446a88c181b8b6",
       "version_major": 2,
       "version_minor": 0
      },
      "text/plain": [
       "interactive(children=(Dropdown(description='Choose One:', options=('4 pizzas per hour', '10 pizzas per hour', …"
      ]
     },
     "metadata": {},
     "output_type": "display_data"
    }
   ],
   "source": [
    "#writtenQuestion is the question the user is asked.\n",
    "writtenQuestion12 =  'How many pizzas can Jack deliver per hour?'\n",
    "display(writtenQuestion12)\n",
    "\n",
    "def q_12(val12):\n",
    "    #If answer is correct:\n",
    "    if val12 == \"8 pizzas per hour\":\n",
    "        display(\"Correct!\")\n",
    "        display(Latex(r'Pizzas per hour $= \\frac{16}{2} = 8$ pizzas per hour'))\n",
    "    \n",
    "    #If nothing is selected:\n",
    "    elif val12 == None:\n",
    "        None\n",
    "        \n",
    "    #Otherwise, if the answer is wrong:\n",
    "    else:\n",
    "        display(\"Please try again.\")\n",
    "        display(Latex(r'HINT: Pizzas per hour $= \\\n",
    "        \\frac{\\textrm{Total number of pizza deliveries}}{\\textrm{Total hours}}$'))\n",
    "\n",
    "a12 = \"4 pizzas per hour\"\n",
    "a22 = \"10 pizzas per hour\"\n",
    "a32 = \"8 pizzas per hour\"\n",
    "interact(q_12, val12 = widgets.Dropdown(options=[a12, a22, a32],\\\n",
    "                                     value = None,\\\n",
    "                                     description = 'Choose One:',\\\n",
    "                                     disabled = False));"
   ]
  },
  {
   "cell_type": "markdown",
   "metadata": {},
   "source": [
    "* **Problem 3:** There are three delivery workers at a Canadian Pizza shop. The table below shows how many pizzas has been delivered.\n",
    "\n",
    "| Name  | Time (hour)   |Pizza delivered (quantity) |\n",
    "|:------|:-------------:|:-------------------------:|\n",
    "| Jack  |$6$            | $42$                      | \n",
    "| Robin |$ 5$           | $20$                      | \n",
    "|  Jill |$7$            | $35$                      | "
   ]
  },
  {
   "cell_type": "code",
   "execution_count": 15,
   "metadata": {
    "tags": [
     "hide-input"
    ]
   },
   "outputs": [
    {
     "data": {
      "text/plain": [
       "'Which delivery worker delivers the fewest pizzas per hour?'"
      ]
     },
     "metadata": {},
     "output_type": "display_data"
    },
    {
     "data": {
      "application/vnd.jupyter.widget-view+json": {
       "model_id": "3d2f9f4fb3bd41df928b076e3bec2e48",
       "version_major": 2,
       "version_minor": 0
      },
      "text/plain": [
       "interactive(children=(Dropdown(description='Choose One:', options=('Jack', 'Robin', 'Jill'), value=None), Outp…"
      ]
     },
     "metadata": {},
     "output_type": "display_data"
    }
   ],
   "source": [
    "#writtenQuestion is the question the user is asked.\n",
    "writtenQuestion13 =  'Which delivery worker delivers the fewest pizzas per hour?'\n",
    "display(writtenQuestion13)\n",
    "\n",
    "def q_13(val13):\n",
    "    #If answer is correct:\n",
    "    if val13 == \"Robin\":\n",
    "        display(\"Great!\")\n",
    "        display(Latex(r'Pizzas per hour for Jack $= \\\n",
    "        \\frac{42}{6} = 7$ pizzas per hour'))\n",
    "        display(Latex(r'Pizzas per hour for Robin $= \\\n",
    "        \\frac{20}{5} = 4$ pizzas per hour'))\n",
    "        display(Latex(r'Pizzas per hour for Jill $= \\\n",
    "        \\frac{35}{7} = 5$ pizzas per hour'))\n",
    "        display(Latex(\"So, Robin delivers the fewest pizzas!\"))\n",
    "    \n",
    "    #If nothing is selected:\n",
    "    elif val13 == None:\n",
    "        None\n",
    "        \n",
    "    #Otherwise, if the answer is wrong:\n",
    "    else:\n",
    "        display(\"Please try again.\")\n",
    "        display(Latex(r'HINT: Pizzas per hour for a person $= \\\n",
    "        \\frac{\\textrm{Total number of pizza deliveries}}{\\textrm{Total hours}}$'))\n",
    "\n",
    "a13 = \"Jack\"\n",
    "a23 = \"Robin\"\n",
    "a33 = \"Jill\"\n",
    "interact(q_13, val13 = widgets.Dropdown(options=[a13, a23, a33],\\\n",
    "                                     value = None,\\\n",
    "                                     description = 'Choose One:',\\\n",
    "                                     disabled = False));"
   ]
  },
  {
   "cell_type": "markdown",
   "metadata": {},
   "source": [
    "* **Problem 4:** Jack delivers $16$ pizzas in $4$ hours. How many pizzas can he deliver in $7$ hours?\n",
    "\n",
    "> Let's solve this problem step by step:\n",
    " 1. Calculate the rate of pizzas he can deliver in $1$ hour.\n",
    " 2. Calculate the quantity of pizza he can deliver in $7$ hours."
   ]
  },
  {
   "cell_type": "code",
   "execution_count": 16,
   "metadata": {
    "tags": [
     "hide-input"
    ]
   },
   "outputs": [
    {
     "data": {
      "text/plain": [
       "'What is the rate of Jack can deliver pizzas at (how many pizzas per hour)?'"
      ]
     },
     "metadata": {},
     "output_type": "display_data"
    },
    {
     "data": {
      "application/vnd.jupyter.widget-view+json": {
       "model_id": "7684ac2c3cc24eac84fee0f1b12a2dda",
       "version_major": 2,
       "version_minor": 0
      },
      "text/plain": [
       "interactive(children=(Dropdown(description='Choose One:', options=('5 pizza per hour', '4 pizza per hour', '3 …"
      ]
     },
     "metadata": {},
     "output_type": "display_data"
    }
   ],
   "source": [
    "#writtenQuestion1 is the question the user is asked.\n",
    "writtenQuestion14 =  \"What is the rate of Jack can deliver pizzas at (how many pizzas per hour)?\"\n",
    "\n",
    "def q_14(val14):\n",
    "    #If answer is correct:\n",
    "    if val14 == \"4 pizza per hour\":\n",
    "        display(\"Great!\")\n",
    "        display(Latex(r'Pizzas per hour for Jack $= \\\n",
    "        \\frac{16}{4} = 4$ pizzas per hour'))\n",
    "        \n",
    "        #Display the second question once the first question has been succesfully answered.\n",
    "        display(writtenQuestion24)\n",
    "        interact(q_24, val24 = widgets.Dropdown(options=[a44, a54, a64],\\\n",
    "                                     value = None,\\\n",
    "                                     description = 'Choose One:',\\\n",
    "                                     disabled = False));\n",
    "    \n",
    "    #If nothing is selected:\n",
    "    elif val14 == None:\n",
    "        None\n",
    "        \n",
    "    #Otherwise, if the answer is wrong:\n",
    "    else:\n",
    "        display(\"Sorry! Please try again.\")\n",
    "        display(Latex(r'HINT: Pizzas per hour $= \\\n",
    "        \\frac{\\textrm{Total number of pizzas delivered}}{\\textrm{Total hours}}$'))\n",
    "\n",
    "#The following is a list of answers for question 1.\n",
    "a14 = \"5 pizza per hour\"\n",
    "a24 = \"4 pizza per hour\"\n",
    "a34 = \"3 pizza per hour\"\n",
    "\n",
    "#Display the first question.\n",
    "display(writtenQuestion14)\n",
    "interact(q_14, val14 = widgets.Dropdown(options=[a14, a24, a34],\\\n",
    "                                     value = None,\\\n",
    "                                     description = 'Choose One:',\\\n",
    "                                     disabled = False));\n",
    "\n",
    "\n",
    "#writtenQuestion2 is the question the user is asked.\n",
    "writtenQuestion24 =  \"How many pizzas can Jack deliver in 7 hours?\"\n",
    "\n",
    "def q_24(val24):\n",
    "    #If answer is correct:\n",
    "    if val24 == \"28 pizzas\":\n",
    "        display(\"Great!\")\n",
    "        display(Latex(r'Jack delivers $4 \\times 7 = 28$ pizzas per 7 hours!'))\n",
    "    \n",
    "    #If nothing is selected:\n",
    "    elif val24 == None:\n",
    "        None\n",
    "    \n",
    "    #Otherwise, if the answer is wrong:\n",
    "    else:\n",
    "        display(\"Sorry! Please try again.\")\n",
    "        display(Latex(r'HINT: (Pizzas per hour) $\\times$ ($n$ amount of hours) $=$ Number of pizzas per $n$ hours'))\n",
    "\n",
    "#The following is a list of answers for question 2.\n",
    "a44 = \"36 pizzas\"\n",
    "a54 = \"32 pizzas\"\n",
    "a64 = \"28 pizzas\""
   ]
  },
  {
   "cell_type": "markdown",
   "metadata": {},
   "source": [
    "* **Problem 5:** Jack can deliver $16$ pizzas in $4$ hours. Jill can also deliver $64$ pizzas in $8$ hours. How many hours will they take to deliver $120$ pizzas if they work together?\n",
    "\n",
    "> Let's solve this problem step by step:\n",
    " 1. Calculate the rate of pizzas delivered by Jack and Jill.\n",
    " 2. Calculate the combined pizza delivery rate.\n",
    " 3. Calculate the amount of hours they take to deliver $120$ pizzas."
   ]
  },
  {
   "cell_type": "code",
   "execution_count": 17,
   "metadata": {
    "tags": [
     "hide-input"
    ]
   },
   "outputs": [
    {
     "data": {
      "text/plain": [
       "'What is the rate of pizzas Jack and Jill can deliver in 1 hour?'"
      ]
     },
     "metadata": {},
     "output_type": "display_data"
    },
    {
     "data": {
      "application/vnd.jupyter.widget-view+json": {
       "model_id": "e58200c4a7d74bbdbd6f2b3f50607789",
       "version_major": 2,
       "version_minor": 0
      },
      "text/plain": [
       "interactive(children=(Dropdown(description='Choose One:', options=('5 pizzas for Jack and 7 pizzas for Jill', …"
      ]
     },
     "metadata": {},
     "output_type": "display_data"
    }
   ],
   "source": [
    "#writtenQuestion1 is the question the user is asked.\n",
    "writtenQuestion15 =  \"What is the rate of pizzas Jack and Jill can deliver in 1 hour?\"\n",
    "display(writtenQuestion15)\n",
    "\n",
    "def q_15(val15):\n",
    "    #If answer is correct:\n",
    "    if val15 == \"4 pizzas for Jack and 8 pizzas for Jill\":\n",
    "        display(\"Great!\")\n",
    "        display(Latex(r'Pizzas per hour for Jack $= \\frac{16}{4} = 4$ pizzas'))\n",
    "        display(Latex(r'Pizzas per hour for Jill $= \\frac{64}{8} = 8$ pizzas'))\n",
    "    \n",
    "        #Display the second question once the first question has been succesfully answered.\n",
    "        display(writtenQuestion25)\n",
    "        interact(q_25, val25 = widgets.Dropdown(options=[a45, a55, a65],\\\n",
    "                                     value = None,\\\n",
    "                                     description = 'Choose One:',\\\n",
    "                                     disabled = False));\n",
    "\n",
    "    #If nothing is selected:\n",
    "    elif val15 == None:\n",
    "        None\n",
    "    \n",
    "    #Otherwise, if the answer is wrong:\n",
    "    else:\n",
    "        display(\"Sorry! Please try again.\")\n",
    "        display(Latex(r'HINT: Pizzas per hour $= \\\n",
    "        \\frac{\\textrm{Total number of pizzas delivered}}{\\textrm{Total hours}}$'))\n",
    "        \n",
    "a15 = \"5 pizzas for Jack and 7 pizzas for Jill\"\n",
    "a25 = \"4 pizzas for Jack and 8 pizzas for Jill\"\n",
    "a35 = \"2 pizzas for Jack and 5 pizzas for Jill\"\n",
    "\n",
    "interact(q_15, val15 = widgets.Dropdown(options=[a15 ,a25, a35],\\\n",
    "                                     value = None,\\\n",
    "                                     description = 'Choose One:',\\\n",
    "                                     disabled = False));\n",
    "\n",
    "#writtenQuestion2 is the question the user is asked.\n",
    "writtenQuestion25 =  \"How many pizzas can Jack and Jill deliver per hour?\"\n",
    "\n",
    "def q_25(val25):\n",
    "    #If answer is correct:\n",
    "    if val25 == \"12 pizzas\":\n",
    "        display(\"Great!\")\n",
    "        display(Latex(r'Jack and Jill can deliver $4 + 8 = 12$ pizzas per hour!'))\n",
    "        \n",
    "        #Display the third question once the second question has been succesfully answered.\n",
    "        display(writtenQuestion35)\n",
    "        interact(q_35, val35 = widgets.Dropdown(options=[a75, a85, a95],\\\n",
    "                                     value = None,\\\n",
    "                                     description = 'Choose One:',\\\n",
    "                                     disabled = False));\n",
    "    \n",
    "    #If nothing is selected:\n",
    "    elif val25 == None:\n",
    "        None\n",
    "    \n",
    "    #Otherwise, if the answer is wrong:\n",
    "    else:\n",
    "        display(\"Sorry! Please try again.\")\n",
    "        display('HINT: Try adding the amount of pizzas Jack and Jill can do in an hour.')\n",
    "\n",
    "#The following is a list of answers for question 2.\n",
    "a45 = \"12 pizzas\"\n",
    "a55 = \"10 pizzas\"\n",
    "a65 = \"24 pizzas\"\n",
    "\n",
    "#writtenQuestion3 is the question the user is asked.\n",
    "writtenQuestion35 =  \"How many hours would it take Jack and Jill to deliver 120 pizzas?\"\n",
    "\n",
    "def q_35(val35):\n",
    "    #If answer is correct:\n",
    "    if val35 == \"10 hours\":\n",
    "        display(\"Great!\")\n",
    "        display(Latex(r'Hours taken $= \\\n",
    "        \\frac{120}{12} = 10$ hours to deliver 120 pizzas'))\n",
    "    \n",
    "    #If nothing is selected:\n",
    "    elif val35 == None:\n",
    "        None\n",
    "    \n",
    "    #Otherwise, if the answer is wrong:\n",
    "    else:\n",
    "        display(\"Sorry! Please try again.\")\n",
    "        display(Latex(r'HINT: Hours taken $= \\\n",
    "        \\frac{\\textrm{Total number of pizzas they have to delivery}}{\\textrm{Combined pizza delivery rate}}$'))\n",
    "\n",
    "#The following is a list of answers for question 3.\n",
    "a75 = \"12 hours\"\n",
    "a85 = \"10 hours\"\n",
    "a95 = \"24 hours\""
   ]
  },
  {
   "cell_type": "markdown",
   "metadata": {},
   "source": [
    "### Exercises\n",
    "\n",
    ">**Question 1**: \n",
    "A car travels $88$ miles in $11$ hours. What is the rate of speed the car travels at?"
   ]
  },
  {
   "cell_type": "code",
   "execution_count": 18,
   "metadata": {
    "scrolled": false,
    "tags": [
     "hide-input"
    ]
   },
   "outputs": [
    {
     "data": {
      "application/vnd.jupyter.widget-view+json": {
       "model_id": "5a345acdba514dcfb3166e7ab097af84",
       "version_major": 2,
       "version_minor": 0
      },
      "text/plain": [
       "Button(description='Show Answer', style=ButtonStyle())"
      ]
     },
     "metadata": {},
     "output_type": "display_data"
    }
   ],
   "source": [
    "#Construction of button to provide answer to question 1.\n",
    "buttonShowAnswer11 = widgets.Button(description=\"Show Answer\")\n",
    "\n",
    "def displayAnswer11(a):\n",
    "    display(Latex(r\"$8$ miles per hour.\"))\n",
    "    buttonShowAnswer11.close()\n",
    "\n",
    "display(buttonShowAnswer11)\n",
    "buttonShowAnswer11.on_click(displayAnswer11)"
   ]
  },
  {
   "cell_type": "markdown",
   "metadata": {},
   "source": [
    ">**Question 2**: \n",
    "A car travels $72$ miles in $9$ hours. How many miles can the car can travel in $25$ hours?"
   ]
  },
  {
   "cell_type": "code",
   "execution_count": 19,
   "metadata": {
    "scrolled": false,
    "tags": [
     "hide-input"
    ]
   },
   "outputs": [
    {
     "data": {
      "application/vnd.jupyter.widget-view+json": {
       "model_id": "a8b5139de6154932a614801e50e4840a",
       "version_major": 2,
       "version_minor": 0
      },
      "text/plain": [
       "Button(description='Show Answer', style=ButtonStyle())"
      ]
     },
     "metadata": {},
     "output_type": "display_data"
    }
   ],
   "source": [
    "#Construction of button to provide answer to question 2.\n",
    "buttonShowAnswer12 = widgets.Button(description=\"Show Answer\")\n",
    "\n",
    "def displayAnswer12(a):\n",
    "    display(Latex(r\"$200$ miles\"))\n",
    "    buttonShowAnswer12.close()\n",
    "\n",
    "display(buttonShowAnswer12)\n",
    "buttonShowAnswer12.on_click(displayAnswer12)"
   ]
  },
  {
   "cell_type": "markdown",
   "metadata": {},
   "source": [
    ">**Question 3**: \n",
    "A sedan can travel $64$ miles in $4$ hours. However, an SUV can travels $48$ miles in $3$ hours. Which car is faster?"
   ]
  },
  {
   "cell_type": "code",
   "execution_count": 20,
   "metadata": {
    "tags": [
     "hide-input"
    ]
   },
   "outputs": [
    {
     "data": {
      "application/vnd.jupyter.widget-view+json": {
       "model_id": "601a07de503e404d96f9c460784a2284",
       "version_major": 2,
       "version_minor": 0
      },
      "text/plain": [
       "Button(description='Show Answer', style=ButtonStyle())"
      ]
     },
     "metadata": {},
     "output_type": "display_data"
    }
   ],
   "source": [
    "#Construction of button to provide answer to question 3.\n",
    "buttonShowAnswer13 = widgets.Button(description=\"Show Answer\")\n",
    "\n",
    "def displayAnswer13(a):\n",
    "    display(Latex(r\"They travel at equal speeds\"))\n",
    "    buttonShowAnswer13.close()\n",
    "\n",
    "display(buttonShowAnswer13)\n",
    "buttonShowAnswer13.on_click(displayAnswer13)"
   ]
  },
  {
   "cell_type": "markdown",
   "metadata": {},
   "source": [
    ">**Question 4**:\n",
    "Jack can deliver $100$ newspapers in $5$ hours, but Jill can deliver $125$ newspapers in $5$ hours. How many newspaper can both Jack and Jill deliver in $7$ hours?"
   ]
  },
  {
   "cell_type": "code",
   "execution_count": 21,
   "metadata": {
    "scrolled": false,
    "tags": [
     "hide-input"
    ]
   },
   "outputs": [
    {
     "data": {
      "application/vnd.jupyter.widget-view+json": {
       "model_id": "0cb465d4ca204d888f3f3053a6a72b86",
       "version_major": 2,
       "version_minor": 0
      },
      "text/plain": [
       "Button(description='Show Answer', style=ButtonStyle())"
      ]
     },
     "metadata": {},
     "output_type": "display_data"
    }
   ],
   "source": [
    "#Construction of button to provide answer to question 4.\n",
    "buttonShowAnswer14 = widgets.Button(description=\"Show Answer\")\n",
    "\n",
    "def displayAnswer14(a):\n",
    "    display(Latex(r\"$315$ newspapers in $7$ hours\"))\n",
    "    buttonShowAnswer14.close()\n",
    "\n",
    "display(buttonShowAnswer14)\n",
    "buttonShowAnswer14.on_click(displayAnswer14)"
   ]
  },
  {
   "cell_type": "markdown",
   "metadata": {},
   "source": [
    "## Proportional Reasoning\n",
    "\n",
    "Before beginning **proportional reasoning**, we will become familiar with proportions first. **A proportion** is a statement that two *ratios*, or *fractions*, equal:\n",
    "\n",
    "> $\\Large \\frac{\\textrm{a}} {\\textrm{b}}  = \\frac{\\textrm{c}} {\\textrm{d}} \\hspace{2cm} \\textrm{or} \\hspace{2cm} {\\textrm{a}} : {\\textrm{b}} = {\\textrm{c}} : {\\textrm{d}}$\n",
    "\n",
    "If *two ratios are equal*, then the cross product of the ratios is also equal:\n",
    "\n",
    "> $\\Large \\textrm{a} \\times {\\textrm{d}}  = \\textrm{b} \\times {\\textrm{c}}$\n",
    "\n",
    "Let's say you run $20$ meters in $4$ seconds. How many seconds will it take you to run $100$ meters?\n",
    "\n",
    "Assume that you wil need $x$ seconds to run $100$ meters. From our definition of proportion, we will get:\n",
    "\n",
    "> $\\frac{(20\\textrm{ meters})} {(4\\textrm{ seconds})} = \\frac{(100\\textrm{ meters})} {(x\\textrm{ seconds})}$ \n",
    "<br /> <br />\n",
    "$\\Rightarrow (20\\textrm{ meters}) \\times (x\\textrm{ seconds}) = (100{\\textrm{ meters}}) \\times (4\\textrm{ seconds})$\n",
    "<br /> <br />\n",
    "$\\Rightarrow (x\\textrm{ seconds}) = \\frac{(100\\textrm{ meters}) \\times (4\\textrm{ seconds})} {(20\\textrm{ meters})}$\n",
    "<br /> <br />\n",
    "$\\Rightarrow (x\\textrm{ seconds}) = 20\\textrm{ seconds to run 100 meters.}$\n",
    "\n",
    "We can view this problem visually:"
   ]
  },
  {
   "cell_type": "markdown",
   "metadata": {},
   "source": [
    "<img src=\"./images/run.jpg\" width=\"400\" >\n",
    "\n",
    "Running image taken and modified from [VectorStock](https://www.vectorstock.com/royalty-free-vector/kid-running-vector-20339619), October 27, 2018"
   ]
  },
  {
   "cell_type": "markdown",
   "metadata": {},
   "source": [
    "Now, we can begin discussing what *proportional reasoning* is:\n",
    "\n",
    "> **Proportional reasoning** is the ability to compare two quantities and predict the value of one based on the values of another. We do this using multiplication.\n",
    "\n",
    "In the example above, the distance of $100$ meters is $5$ **times** larger than the initial distance, ($20$ meters). This is the case since:\n",
    "\n",
    "> $ 5 \\times  (20\\textrm{ meters}) = (100 \\textrm{ meters}) $\n",
    "\n",
    "So, the time required to travel $100$ meters will be $5$ times of the initial time:\n",
    "\n",
    "> $ 5 \\times (4\\textrm{ seconds}) = (20 \\textrm{ seconds})$\n",
    "\n",
    "This problem is a proportional reasoning problem.\n",
    "\n",
    "Below is a video that demonstrates the idea of proportional reasoning:"
   ]
  },
  {
   "cell_type": "code",
   "execution_count": 22,
   "metadata": {
    "scrolled": true,
    "tags": [
     "hide-input"
    ]
   },
   "outputs": [
    {
     "data": {
      "text/html": [
       "<iframe width=\"560\" height=\"315\" src=\"https://www.youtube.com/embed/TTsLGvHve2E\" frameborder=\"0\" allow=\"accelerometer; autoplay; clipboard-write; encrypted-media; gyroscope; picture-in-picture\" allowfullscreen></iframe>\n"
      ],
      "text/plain": [
       "<IPython.core.display.HTML object>"
      ]
     },
     "metadata": {},
     "output_type": "display_data"
    }
   ],
   "source": [
    "%%html\n",
    "<iframe width=\"560\" height=\"315\" src=\"https://www.youtube.com/embed/TTsLGvHve2E\" frameborder=\"0\" allow=\"accelerometer; autoplay; clipboard-write; encrypted-media; gyroscope; picture-in-picture\" allowfullscreen></iframe>"
   ]
  },
  {
   "cell_type": "markdown",
   "metadata": {},
   "source": [
    "*This video was created by the YouTube channel Program Innovation and can be found at: [https://youtu.be/TTsLGvHve2E](https://youtu.be/TTsLGvHve2E)* "
   ]
  },
  {
   "cell_type": "markdown",
   "metadata": {},
   "source": [
    "### Proportional Reasoning Related Problems\n",
    "\n",
    "* **Problem 1:** For every 2 red candies in a package, there are 3 green candies. \n",
    "This problem is taken from [TapIntoTeenMinds](https://tapintoteenminds.com/progression-of-proportional-reasoning/).\n"
   ]
  },
  {
   "cell_type": "code",
   "execution_count": 23,
   "metadata": {
    "tags": [
     "hide-input"
    ]
   },
   "outputs": [
    {
     "data": {
      "text/plain": [
       "'How many red candies would there be if you had 12 green candies?'"
      ]
     },
     "metadata": {},
     "output_type": "display_data"
    },
    {
     "data": {
      "application/vnd.jupyter.widget-view+json": {
       "model_id": "a9a96df76db743c8836f4baa04cd26f6",
       "version_major": 2,
       "version_minor": 0
      },
      "text/plain": [
       "interactive(children=(Dropdown(description='Choose One:', options=('8 red candies', '6 red candies', '10 red c…"
      ]
     },
     "metadata": {},
     "output_type": "display_data"
    }
   ],
   "source": [
    "#writtenQuestion1 is the question the user is asked.\n",
    "writtenQuestion17 =  \"How many red candies would there be if you had 12 green candies?\"\n",
    "display(writtenQuestion17)\n",
    "\n",
    "def q_17(val17):\n",
    "    #If answer is correct:\n",
    "    if val17 == \"8 red candies\":\n",
    "        display(\"Great!\")\n",
    "        display(Latex(r'$\\frac{12}{2} = 6$ times as many red candies. So, $2 \\times 6 \\\n",
    "        = 12$ red candies in the bag.'))\n",
    "        \n",
    "    #If nothing is selected:\n",
    "    elif val17 == None:\n",
    "        None\n",
    "    \n",
    "    #Otherwise, if the answer is wrong:\n",
    "    else:\n",
    "        display(\"Sorry! Please try again.\")\n",
    "        display('HINT: Try finding how many times more green candies there are in the bag.\\\n",
    " Then, multiply the ratio by that amount. ')\n",
    "\n",
    "a17 = \"8 red candies\"\n",
    "a27 = \"6 red candies\"\n",
    "a37 = \"10 red candies\"\n",
    "interact(q_17, val17 = widgets.Dropdown(options=[a17, a27, a37],\\\n",
    "                                     value = None,\\\n",
    "                                     description = 'Choose One:',\\\n",
    "                                     disabled = False));"
   ]
  },
  {
   "cell_type": "markdown",
   "metadata": {},
   "source": [
    "Let's see the visualization of this problem to give you clear idea what is exactly happening here:\n",
    "\n",
    "<img src=\"./images/Candy_problem.gif\" width=\"500\" height=\"400\">\n",
    "\n",
    "*GIF from https://tapintoteenminds.com/progression-of-proportional-reasoning/, October 27, 2018."
   ]
  },
  {
   "cell_type": "markdown",
   "metadata": {},
   "source": [
    "* **Problem 2:** Below are two investment scenarios. Which investment is better? (This problem is taken from [TapIntoTeenMinds](https://tapintoteenminds.com/progression-of-proportional-reasoning/))\n",
    "\n",
    "> Scenario 1 : An investment of $100$ dollars grows to $400$ dollars. \n",
    "<br /> <br />\n",
    "Scenario 2 : An investment of $1000$ dollars grows to $1500$ dollars.\n",
    "\n",
    "If you think this problem is about profit, then you will get $(400-100) = 300$ dollars profit from Scenario 1. But, you will get $(1500-1000) = 500$ dollars profit from scenario 2. So, in this case, scenario 2 is better than scenario 1. Let's visualize this way of thinking:\n",
    "\n",
    "<img src=\"./images/invesment_absolute.gif\" width=\"500\" height=\"400\">\n",
    "\n",
    "*GIF from https://tapintoteenminds.com/progression-of-proportional-reasoning/, October 27, 2018."
   ]
  },
  {
   "cell_type": "code",
   "execution_count": 24,
   "metadata": {
    "scrolled": true,
    "tags": [
     "hide-input"
    ]
   },
   "outputs": [
    {
     "data": {
      "text/plain": [
       "'We can think of this question in terms of profit.'"
      ]
     },
     "metadata": {},
     "output_type": "display_data"
    },
    {
     "data": {
      "application/vnd.jupyter.widget-view+json": {
       "model_id": "22dc9545e3fe46048ba819d2936db0b9",
       "version_major": 2,
       "version_minor": 0
      },
      "text/plain": [
       "interactive(children=(Dropdown(description='Choose One:', options=('True', 'False'), value=None), Output()), _…"
      ]
     },
     "metadata": {},
     "output_type": "display_data"
    }
   ],
   "source": [
    "#writtenQuestion1 is the question the user is asked.\n",
    "writtenQuestion18 =  \"We can think of this question in terms of profit.\"\n",
    "display(writtenQuestion18)\n",
    "\n",
    "def q_18(val18):\n",
    "    #If answer is correct:\n",
    "    if val18 == \"False\":\n",
    "        display(\"Great!\")\n",
    "        display(\"This is because we didn't implement the proportional thinking in above explanation\")\n",
    "        \n",
    "    #If nothing is selected:\n",
    "    elif val18 == None:\n",
    "        None\n",
    "        \n",
    "    #Otherwise, if the answer is wrong:\n",
    "    else:\n",
    "        display(\"Sorry! Please try again.\")\n",
    "        display(\"We want to look at this question using proportional thinking instead of just profit. \\\n",
    "This is the case since we are interested in how fast our money will grow.\")\n",
    "\n",
    "\n",
    "a18 = \"True\"\n",
    "a28 = \"False\"\n",
    "\n",
    "interact(q_18, val18 = widgets.Dropdown(options=[a18 ,a28],\\\n",
    "                                     value = None,\\\n",
    "                                     description = 'Choose One:',\\\n",
    "                                     disabled = False));"
   ]
  },
  {
   "cell_type": "markdown",
   "metadata": {},
   "source": [
    "Now, let's think about this problem in a **proportional way**. \n",
    "\n",
    "We will get $(100 \\times 4)$ in Scenario 1 and $(1000 \\times 1.5)$ in Scenario 2. So, we will get $4$ times our initial investment in Scenario 1, and $1.5$ times our initial investment in Scenario 2. So, Scenario 1 is *better* than Scenario 2.\n",
    "\n",
    "Below is a visualization that demonstrates the idea of multiplicative thinking:"
   ]
  },
  {
   "cell_type": "markdown",
   "metadata": {},
   "source": [
    "<img src=\"./images/invesment_multiplicative.gif\" width=\"500\" >\n",
    "\n",
    "*GIF taken from https://tapintoteenminds.com/progression-of-proportional-reasoning/, October 27,2018 "
   ]
  },
  {
   "cell_type": "markdown",
   "metadata": {},
   "source": [
    "* **Problem 3:** Jack went to a store to buy oranges. He found that a pack of $8$ oranges cost $2$ dollars, and a pack of $20$ oranges cost $5.5$ dollars."
   ]
  },
  {
   "cell_type": "code",
   "execution_count": 25,
   "metadata": {
    "scrolled": true,
    "tags": [
     "hide-input"
    ]
   },
   "outputs": [
    {
     "data": {
      "text/plain": [
       "'Which pack of oranges is cheaper?'"
      ]
     },
     "metadata": {},
     "output_type": "display_data"
    },
    {
     "data": {
      "application/vnd.jupyter.widget-view+json": {
       "model_id": "89cced5624fa42ab9e2630be4229b087",
       "version_major": 2,
       "version_minor": 0
      },
      "text/plain": [
       "interactive(children=(Dropdown(description='Choose One:', options=('8 Oranges', '20 Oranges'), value=None), Ou…"
      ]
     },
     "metadata": {},
     "output_type": "display_data"
    }
   ],
   "source": [
    "#writtenQuestion1 is the question the user is asked.\n",
    "writtenQuestion19 =  \"Which pack of oranges is cheaper?\"\n",
    "display(writtenQuestion19)\n",
    "\n",
    "def q_19(val19):\n",
    "    #If answer is correct:\n",
    "    if val19 == \"8 Oranges\":\n",
    "        display(\"Great!\")\n",
    "        display(Latex(r\"$8$ oranges $\\times$ $0.25 = 2$ dollars\"))\n",
    "        display(Latex(r\"$20$ oranges $\\times$ $0.275 = 5.5$ dollars\"))\n",
    "        display(Latex(r\"So, since $0.25$ is less than $0.275$, buying $8$ oranges is cheaper.\"))\n",
    "\n",
    "    #If nothing is selected:\n",
    "    elif val19 == None:\n",
    "        None\n",
    "    \n",
    "    #Otherwise, if the answer is wrong:\n",
    "    else:\n",
    "        display(\"Sorry! Please try again.\")\n",
    "        display(\"HINT: Check how much each orange costs.\")\n",
    "\n",
    "a19 = \"8 Oranges\"\n",
    "a29 = \"20 Oranges\"\n",
    "\n",
    "interact(q_19, val19 = widgets.Dropdown(options=[a19, a29],\\\n",
    "                                     value = None,\\\n",
    "                                     description = 'Choose One:',\\\n",
    "                                     disabled = False));"
   ]
  },
  {
   "cell_type": "markdown",
   "metadata": {},
   "source": [
    "### Exercise\n",
    "\n",
    ">**Question 1**: \n",
    "Jack has $8$ pens and $4$ pencils. Jill has $10$ pens. If both have the same proportion of pens to pencils, how many pens does Jill have?"
   ]
  },
  {
   "cell_type": "code",
   "execution_count": 26,
   "metadata": {
    "tags": [
     "hide-input"
    ]
   },
   "outputs": [
    {
     "data": {
      "application/vnd.jupyter.widget-view+json": {
       "model_id": "e59240e680614e46816017aa536f4d09",
       "version_major": 2,
       "version_minor": 0
      },
      "text/plain": [
       "Button(description='Show Answer', style=ButtonStyle())"
      ]
     },
     "metadata": {},
     "output_type": "display_data"
    }
   ],
   "source": [
    "#Construction of button to provide answer to question 1.\n",
    "buttonShowAnswer77 = widgets.Button(description=\"Show Answer\")\n",
    "\n",
    "def displayAnswer77(a):\n",
    "    display(Latex(r\"Jill has $20$ pencils\"))\n",
    "    buttonShowAnswer77.close()\n",
    "\n",
    "display(buttonShowAnswer77)\n",
    "buttonShowAnswer77.on_click(displayAnswer77)"
   ]
  },
  {
   "cell_type": "markdown",
   "metadata": {},
   "source": [
    ">**Question 2**: \n",
    "A Sedan car drives $4$ km in $2$ hours, while an SUV drives $36$ km. If the SUV drives at the same proportional rate as the Sedan, how many hours will it take the SUV to drive $36$ km?"
   ]
  },
  {
   "cell_type": "code",
   "execution_count": 27,
   "metadata": {
    "tags": [
     "hide-input"
    ]
   },
   "outputs": [
    {
     "data": {
      "application/vnd.jupyter.widget-view+json": {
       "model_id": "f9e1903a9b074558aadd46da971a3d8f",
       "version_major": 2,
       "version_minor": 0
      },
      "text/plain": [
       "Button(description='Show Answer', style=ButtonStyle())"
      ]
     },
     "metadata": {},
     "output_type": "display_data"
    }
   ],
   "source": [
    "#Construction of button to provide answer to question 1.\n",
    "buttonShowAnswer88 = widgets.Button(description=\"Show Answer\")\n",
    "\n",
    "def displayAnswer88(a):\n",
    "    display(Latex(r\"It will take the SUV $18$ hours to drive 36 km.\"))\n",
    "    buttonShowAnswer88.close()\n",
    "\n",
    "display(buttonShowAnswer88)\n",
    "buttonShowAnswer88.on_click(displayAnswer88)"
   ]
  },
  {
   "cell_type": "markdown",
   "metadata": {},
   "source": [
    ">**Question 3**: \n",
    "A cobra grows $2$ meters in $18$ days, while a python grows $9.5$ meters in $81$ days. Which types of snake has faster growth? "
   ]
  },
  {
   "cell_type": "code",
   "execution_count": 28,
   "metadata": {
    "tags": [
     "hide-input"
    ]
   },
   "outputs": [
    {
     "data": {
      "application/vnd.jupyter.widget-view+json": {
       "model_id": "9c58415963eb49e598b59446d7c6978f",
       "version_major": 2,
       "version_minor": 0
      },
      "text/plain": [
       "Button(description='Show Answer', style=ButtonStyle())"
      ]
     },
     "metadata": {},
     "output_type": "display_data"
    }
   ],
   "source": [
    "#Construction of button to provide answer to question 1.\n",
    "buttonShowAnswer99 = widgets.Button(description=\"Show Answer\")\n",
    "\n",
    "def displayAnswer99(a):\n",
    "    display(Latex(r\"The python grows faster.\"))\n",
    "    buttonShowAnswer99.close()\n",
    "\n",
    "display(buttonShowAnswer99)\n",
    "buttonShowAnswer99.on_click(displayAnswer99)"
   ]
  },
  {
   "cell_type": "markdown",
   "metadata": {},
   "source": [
    "## Conclusion\n",
    "\n",
    "In this notebook, we introduced three important concepts of mathematics: *Ratio*, *Rate* and *Proportional Reasoning*. \n",
    "\n",
    "Let's review what we have learned:\n",
    "\n",
    "- **A ratio** is the comparison between two things.\n",
    "- **A rate** is a type of ratio that also compares two things but in different units.\n",
    "- **Proportional Reasoning** also compares two things based on multiplicative thinking."
   ]
  },
  {
   "cell_type": "markdown",
   "metadata": {},
   "source": [
    "[![Callysto.ca License](https://github.com/callysto/curriculum-notebooks/blob/master/callysto-notebook-banner-bottom.jpg?raw=true)](https://github.com/callysto/curriculum-notebooks/blob/master/LICENSE.md)"
   ]
  }
 ],
 "metadata": {
  "celltoolbar": "Edit Metadata",
  "kernelspec": {
   "display_name": "Python 3",
   "language": "python",
   "name": "python3"
  },
  "language_info": {
   "codemirror_mode": {
    "name": "ipython",
    "version": 3
   },
   "file_extension": ".py",
   "mimetype": "text/x-python",
   "name": "python",
   "nbconvert_exporter": "python",
   "pygments_lexer": "ipython3",
   "version": "3.7.4"
  }
 },
 "nbformat": 4,
 "nbformat_minor": 2
}

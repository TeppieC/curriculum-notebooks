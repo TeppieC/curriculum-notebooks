{
 "cells": [
  {
   "cell_type": "markdown",
   "metadata": {},
   "source": [
    "<h1><center>Logarithmic Laws</center></h1>"
   ]
  },
  {
   "cell_type": "markdown",
   "metadata": {},
   "source": [
    "### Introduction: <p>\n",
    "Logarithms are the opposite function of exponentials. Just like exponentials, the behavior of these functions can be categorized by 4 main laws that will be shown in this program.<p>    \n",
    "    \n",
    "### Basics of Logarithms:<p>\n",
    "Even though logarithms can seem very complex, we can look at the basic relationship between logarithms and exponentials in order to simplify this. Before looking deeper in these relationships, we will first identify a few key identities. Logarithms are written in the following form:<p>\n",
    "$\\log_B(X)=N$<p>\n",
    "We can solve for X with the following relationship:<p>\n",
    "$X=B^N$\n",
    "    \n",
    "### Laws<p>\n",
    "There are 4 main logarithmic laws which help show the relationship between exponential functions as well as other logarithmic laws. <p>\n",
    "\n",
    "Product Law: $\\log_{B}(M \\times N)=\\log_{B}(M)+\\log_{B}(N)$<br /> \n",
    "Quotient Law: $\\log_{B}\\big(\\frac{M}{N}\\big)=\\log_{B}(M)-\\log_{B}(N)$<br />\n",
    "Power Law: $\\log_{B}(M^R)=R\\log_B(M)$<br />\n",
    "Changing Base Rule: $\\log_{B}(M)=\\frac{\\log_N(M)}{\\log_N(B)}$\n",
    "\n",
    "## Using Python\n",
    "### Import\n",
    "We will start out by importing packages that we will be using in the code. This refers to code that other people have written in order to simplify coding with premade functions."
   ]
  },
  {
   "cell_type": "code",
   "execution_count": 1,
   "metadata": {},
   "outputs": [],
   "source": [
    "from IPython.display import display, Latex, Math\n",
    "import math\n",
    "from math import log\n",
    "import matplotlib.pyplot as plt\n",
    "%matplotlib inline\n",
    "import numpy as np\n",
    "from ipywidgets import interact, interactive, fixed, interact_manual"
   ]
  },
  {
   "cell_type": "markdown",
   "metadata": {},
   "source": [
    "As seen in the code above, many different codes were imported. These are:<br/>\n",
    "#### 1. Latex, Math and display from IPython\n",
    "This allows us to display mathematical equations in a legible format. Math and Latex are used to format mathematical equations while the display function shows these equations to the user.\n",
    "#### 2. import math\n",
    "This is used for more complex calculations including exponents and the logarithmic operation.\n",
    "#### 3. import matplotlib.pyplot \n",
    "This package assists with creating graphs. We choose to import it as \"plt\" in order to make it easier to call the functions in the future\n",
    "#### 4. %matplotlib inline\n",
    "This allows the plots to be displayed below the code in the Jupyter environment\n",
    "#### 5. numpy as np\n",
    "numpy is a package which includes some mathematical operations. In this program we will use the package to access some of the simpler mathematical operations. we abbreviate it to \"np\" in order to keep the code relatively simple\n",
    "#### 6. from ipywidgets import interactive\n",
    "This will be used to add an interactive aspect to graphs. This includes sliding bars to choose and change certain values.\n",
    "### Definition of Functions\n",
    "In python we can make definition statements at the beginning of the code to be refered to throughout the code. In this case, we will be defining some logarithmic equations to assist with calculating multiple points on graphs throughout the code. Each definition requires an input of the values in the logarithim. The exported value is the calculation which is based on the inputed value. The comments before each definition statement explain the calculation that they preform. "
   ]
  },
  {
   "cell_type": "code",
   "execution_count": 2,
   "metadata": {},
   "outputs": [],
   "source": [
    "#Regular log function\n",
    "def f(m,b,x):\n",
    "    x= x*m\n",
    "    return [log(y,b) for y in x]\n",
    "\n",
    "#Log function of an exponent \n",
    "def f1(r,m,b,x):\n",
    "    x= (x*m)**r\n",
    "    return [log(y,b) for y in x]\n",
    "\n",
    "#A Log function is multiplied by a constant\n",
    "def f2(r,m,b,x):\n",
    "    x= x*m\n",
    "    return [r*log(y,b) for y in x]\n",
    "\n",
    "#2 Log functions with the same base are divided\n",
    "def f3(m,n,b,x):\n",
    "    y1=f(m,n,x)\n",
    "    y2=f(b,n,x)\n",
    "    y=np.divide(y1,y2)\n",
    "    return y"
   ]
  },
  {
   "cell_type": "code",
   "execution_count": 3,
   "metadata": {},
   "outputs": [
    {
     "name": "stdout",
     "output_type": "stream",
     "text": [
      "Lets choose some numbers for before we start for our graphical proofs\n",
      "pick a base (B) -must be an integer 2\n",
      "pick a first number (M) -must be an integer 3\n",
      "pick a second number (N) -must be an integer 4\n",
      "pick a second number (R) -must be an integer 5\n"
     ]
    }
   ],
   "source": [
    "print('Lets choose some numbers for before we start for our graphical proofs')\n",
    "b=int(input('pick a base (B) -must be an integer ')) \n",
    "m=int(input('pick a first number (M) -must be an integer '))\n",
    "n=int(input('pick a second number (N) -must be an integer '))\n",
    "r=int(input('pick a second number (R) -must be an integer '))"
   ]
  },
  {
   "cell_type": "markdown",
   "metadata": {},
   "source": [
    "$\\text{The law we are looking at is the first law which is Product Law. This states that: }\\\\\n",
    "\\log_{B}(MN)=\\log_{B}(M)+\\log_{B}(N)$\n",
    "$\\text{First lets look at the mathematical proof. It may look complex, however, it can simply be broken down}\\\\\n",
    "\\text{First we need to define some variables. We will choose x and y.}\\\\\n",
    "Let \\: x=\\log_B(M) \\:and \\: Let \\: y=\\log_B(N)\\\\\n",
    "\\text{We know that the equivalent exponential forms are}\\\\\n",
    "B^x=M \\: and \\: B^y=N\\\\\n",
    "\\text{we can state that}\\\\\n",
    "B^x \\times B^y=M \\times N\\\\\n",
    "\\text{From the properties of Exponents}\\\\\n",
    "B^{x+y}=M \\times N\\\\\n",
    "\\text{Apply Log to both sides}\\\\\n",
    "\\log_B(B^{x+y})=\\log_B(M \\times N)\\\\\n",
    "\\text{This is equivalent to}\\\\\n",
    "x+y=\\log_B(M \\times N)\\\\\n",
    "\\text {as we know} \\: x=\\log_B(M) \\:and \\: y=\\log_B(N)\\\\\n",
    "\\text{Therefore:}\\\\\n",
    "\\log_{B}(M \\times N)=\\log_{B}(M)+\\log_{B}(N)$"
   ]
  },
  {
   "cell_type": "code",
   "execution_count": 4,
   "metadata": {},
   "outputs": [
    {
     "data": {
      "text/latex": [
       "$\\text{We will look at the graphical proof of this law next}$"
      ],
      "text/plain": [
       "<IPython.core.display.Latex object>"
      ]
     },
     "metadata": {},
     "output_type": "display_data"
    },
    {
     "data": {
      "text/plain": [
       "<matplotlib.figure.Figure at 0x7fd5ffd68fd0>"
      ]
     },
     "metadata": {},
     "output_type": "display_data"
    },
    {
     "data": {
      "application/vnd.jupyter.widget-view+json": {
       "model_id": "444f244b2f53415dbe81829b50179545",
       "version_major": 2,
       "version_minor": 0
      },
      "text/html": [
       "<p>Failed to display Jupyter Widget of type <code>interactive</code>.</p>\n",
       "<p>\n",
       "  If you're reading this message in the Jupyter Notebook or JupyterLab Notebook, it may mean\n",
       "  that the widgets JavaScript is still loading. If this message persists, it\n",
       "  likely means that the widgets JavaScript library is either not installed or\n",
       "  not enabled. See the <a href=\"https://ipywidgets.readthedocs.io/en/stable/user_install.html\">Jupyter\n",
       "  Widgets Documentation</a> for setup instructions.\n",
       "</p>\n",
       "<p>\n",
       "  If you're reading this message in another frontend (for example, a static\n",
       "  rendering on GitHub or <a href=\"https://nbviewer.jupyter.org/\">NBViewer</a>),\n",
       "  it may mean that your frontend doesn't currently support widgets.\n",
       "</p>\n"
      ],
      "text/plain": [
       "interactive(children=(FloatSlider(value=5.0, description='axis', max=10.0, min=1.0, step=1.0), Output()), _dom_classes=('widget-interact',))"
      ]
     },
     "metadata": {},
     "output_type": "display_data"
    }
   ],
   "source": [
    "display(Latex(r'$\\text{We will look at the graphical proof of this law next}$'))\n",
    "    \n",
    "x=np.linspace(1,10)\n",
    "fig = plt.figure()\n",
    "\n",
    "def update(axis = (1.0,10,1)):\n",
    "    p1=log(m*axis,b)\n",
    "    p2=log(n*axis,b)\n",
    "    p3=log(m*n*(axis**2),b)\n",
    "    plt.plot(x,f(m,b,x),'-b',label='log(m)')\n",
    "    plt.plot(x,f(n,b,x),'-g',label='log(n)')\n",
    "    plt.plot(x,f(m*n,b,x**2),'-r',label='log(n*m)')\n",
    "    plt.plot(axis,p1,'ob',axis,p2,'og',axis,p3,'or')\n",
    "    plt.legend(bbox_to_anchor=(1.05, 1), loc=2, borderaxespad=0.)\n",
    "    plt.xticks(np.arange(0, 10, step=1))\n",
    "    print('at x={0:1.3f}'.format(axis))\n",
    "    print('The points are at {0:1.3f} {1:1.3f} {2:1.3f}'.format(p1, p2, p3))\n",
    "    print('The points at log({0:1.3f}x), log({1:1.3f}x) and log({2:1.3f}x) are at {3:1.3f}, {4:1.3f} and {5:1.3f} repectively'.format(m,n,m*n,p1, p2, p3))\n",
    "    print('{0:1.3f}+{1:1.3f}={2:1.3f}'.format(p1,p2,p1+p2))\n",
    "    print('{0:1.3f}={1:1.3f}'.format(p3,p3))\n",
    "    print('thus')\n",
    "    display(Math(r'log_{B}(MN)=log_{B}(M)+log_{B}(N)'))\n",
    "    fig.canvas.draw()\n",
    "\n",
    "interact(update);\n"
   ]
  },
  {
   "cell_type": "markdown",
   "metadata": {},
   "source": [
    "$\\text{The next law we will be looking at is product law}\\\\\n",
    "\\log_{B}\\bigg(\\frac{M}{N}\\bigg)=\\log_{B}(M)-\\log_{B}(N)\\\\\n",
    "\\text{The proof we will be looking at is to mathematically prove Quotient law}\\\\\n",
    "\\text{First we need to define some variables. We will choose x and y.}\\\\\n",
    "\\text{Let} \\: x=\\log_B(M) \\:and \\: Let \\: y=\\log_B(N)\\\\\n",
    "\\text{We know that the equivalent exponential forms are}\\\\\n",
    "B^x=M \\: and \\: B^y=N\\\\\n",
    "\\text{Based on the above, we can state that}\\\\\n",
    "\\frac{B^x}{B^y}=\\frac{M}{N}\\\\\n",
    "\\text{based on the properties on exponents, this is equivalent to:}\\\\\n",
    "B^{x-y}=\\frac{M}{N}\\\\\n",
    "\\log_{B}\\big(\\frac{M}{N}\\big)=x-y\\\\\n",
    "\\log_{B}\\big(\\frac{M}{N}\\big)=\\log_{B}(M)-\\log_{B}(N)$"
   ]
  },
  {
   "cell_type": "code",
   "execution_count": 5,
   "metadata": {},
   "outputs": [
    {
     "data": {
      "text/plain": [
       "<matplotlib.figure.Figure at 0x7fd5fd90aac8>"
      ]
     },
     "metadata": {},
     "output_type": "display_data"
    },
    {
     "data": {
      "application/vnd.jupyter.widget-view+json": {
       "model_id": "c902313f3d374d26a95d200f10c7db61",
       "version_major": 2,
       "version_minor": 0
      },
      "text/html": [
       "<p>Failed to display Jupyter Widget of type <code>interactive</code>.</p>\n",
       "<p>\n",
       "  If you're reading this message in the Jupyter Notebook or JupyterLab Notebook, it may mean\n",
       "  that the widgets JavaScript is still loading. If this message persists, it\n",
       "  likely means that the widgets JavaScript library is either not installed or\n",
       "  not enabled. See the <a href=\"https://ipywidgets.readthedocs.io/en/stable/user_install.html\">Jupyter\n",
       "  Widgets Documentation</a> for setup instructions.\n",
       "</p>\n",
       "<p>\n",
       "  If you're reading this message in another frontend (for example, a static\n",
       "  rendering on GitHub or <a href=\"https://nbviewer.jupyter.org/\">NBViewer</a>),\n",
       "  it may mean that your frontend doesn't currently support widgets.\n",
       "</p>\n"
      ],
      "text/plain": [
       "interactive(children=(FloatSlider(value=5.0, description='axis', max=10.0, min=1.0, step=1.0), Output()), _dom_classes=('widget-interact',))"
      ]
     },
     "metadata": {},
     "output_type": "display_data"
    },
    {
     "name": "stdout",
     "output_type": "stream",
     "text": [
      "thus\n"
     ]
    },
    {
     "data": {
      "text/latex": [
       "$\\log_{B}\\big(\\frac{M}{N}\\big)=\\log_{B}(M)-\\log_{B}(N)$"
      ],
      "text/plain": [
       "<IPython.core.display.Latex object>"
      ]
     },
     "metadata": {},
     "output_type": "display_data"
    }
   ],
   "source": [
    "#Interactive graphical proof\n",
    "   \n",
    "x=np.linspace(1,10)\n",
    "y=np.linspace(m/n,m/n)\n",
    "fig = plt.figure()\n",
    "\n",
    "def update(axis = (1.0,10,1)):\n",
    "    p1=log(m*axis,b)\n",
    "    p2=log(n*axis,b)\n",
    "    p3=log(m/n,b)\n",
    "    plt.plot(x,f(m,b,x),'-b',label='log(m)')\n",
    "    plt.plot(x,f(n,b,x),'-g',label='log(n)')\n",
    "    plt.plot(x,f(1,b,y),'-r',label='log(m/n)')\n",
    "    plt.plot(axis,p1,'ob',axis,p2,'og',axis,p3,'or')\n",
    "    plt.legend(bbox_to_anchor=(1.05, 1), loc=2, borderaxespad=0.)\n",
    "    plt.xticks(np.arange(0, 10, step=1))\n",
    "    plt.show()\n",
    "    print('at x={0:1.3f}'.format(axis))\n",
    "    print('The points are at {0:1.3f} {1:1.3f} {2:1.3f}'.format(p1, p2, p3))\n",
    "    print('The points at log({0:1.3f}x), log({1:1.3f}x) and log({2:1.3f}) are at {3:1.3f}, {4:1.3f} and {5:1.3f} repectively'.format(m,n,m/n,p1, p2, p3))\n",
    "    print('{0:1.3f}-{1:1.3f}={2:1.3f}'.format(p1,p2,p3))\n",
    "    fig.canvas.draw()\n",
    "\n",
    "interact(update);\n",
    "\n",
    "print('thus')\n",
    "display(Latex(r'$\\log_{B}\\big(\\frac{M}{N}\\big)=\\log_{B}(M)-\\log_{B}(N)$'))"
   ]
  },
  {
   "cell_type": "markdown",
   "metadata": {},
   "source": [
    "$\\text{The next law we will look at is power law}\\\\\n",
    "\\text{this states that:}\\\\\n",
    "\\log_{B}(M^R)=R\\log_B(M)\\\\\n",
    "\\text{First we need to define some variables. We will choose x and y.}\\\\\n",
    "\\text{Let} \\: x=\\log_{B}(M^R)\\\\\n",
    "\\text{The equivalent exponential form is }B^x=M^R\\\\\n",
    "\\text{If we put both sides of the equation to the exponent of }\\frac{1}{R}\\text{, we get:}\\\\\n",
    "(B^x)^{\\frac{1}{R}}=(M^R)^{\\frac{1}{R}}\\\\\n",
    "\\text{this reduces to } B^{\\frac{x}{R}}=M\\\\\n",
    "\\text{Applying the log function to both sides, we get:}\\\\\n",
    "\\log_B(M)=\\frac{x}{R}\\\\\n",
    "\\text{Multiply R onto both sides}\\\\\n",
    "R\\log_B(M)=x\\\\\n",
    "\\text{substite in x}\\\\\n",
    "R\\log_B(M)=\\log_B(M^R)$"
   ]
  },
  {
   "cell_type": "code",
   "execution_count": 6,
   "metadata": {},
   "outputs": [
    {
     "data": {
      "text/plain": [
       "<matplotlib.figure.Figure at 0x7fd5ff97fc18>"
      ]
     },
     "metadata": {},
     "output_type": "display_data"
    },
    {
     "data": {
      "application/vnd.jupyter.widget-view+json": {
       "model_id": "bc4d6302754540e19f12bc0d95dde3fe",
       "version_major": 2,
       "version_minor": 0
      },
      "text/html": [
       "<p>Failed to display Jupyter Widget of type <code>interactive</code>.</p>\n",
       "<p>\n",
       "  If you're reading this message in the Jupyter Notebook or JupyterLab Notebook, it may mean\n",
       "  that the widgets JavaScript is still loading. If this message persists, it\n",
       "  likely means that the widgets JavaScript library is either not installed or\n",
       "  not enabled. See the <a href=\"https://ipywidgets.readthedocs.io/en/stable/user_install.html\">Jupyter\n",
       "  Widgets Documentation</a> for setup instructions.\n",
       "</p>\n",
       "<p>\n",
       "  If you're reading this message in another frontend (for example, a static\n",
       "  rendering on GitHub or <a href=\"https://nbviewer.jupyter.org/\">NBViewer</a>),\n",
       "  it may mean that your frontend doesn't currently support widgets.\n",
       "</p>\n"
      ],
      "text/plain": [
       "interactive(children=(FloatSlider(value=5.0, description='axis', max=10.0, min=1.0, step=1.0), Output()), _dom_classes=('widget-interact',))"
      ]
     },
     "metadata": {},
     "output_type": "display_data"
    },
    {
     "name": "stdout",
     "output_type": "stream",
     "text": [
      "thus\n"
     ]
    },
    {
     "data": {
      "text/latex": [
       "$$\\log_{B}(M^R)=R\\log_B(M)$$"
      ],
      "text/plain": [
       "<IPython.core.display.Math object>"
      ]
     },
     "metadata": {},
     "output_type": "display_data"
    }
   ],
   "source": [
    "#Interactive graphical proof\n",
    "\n",
    "x=np.linspace(1,10)\n",
    "fig = plt.figure()\n",
    "\n",
    "def update(axis = (1.0,10,1)):\n",
    "    p1=log((m*axis)**r,b)\n",
    "    p2=r*log(m*axis,b)  \n",
    "    plt.plot(x,f1(r,m,b,x),'-g',label='log(n)')\n",
    "    plt.plot(x,f2(r,m,b,x),'-b',label='log(m)')\n",
    "    plt.plot(axis,p1,'ob',axis,p2,'og')\n",
    "    plt.legend(bbox_to_anchor=(1.05, 1), loc=2, borderaxespad=0.)\n",
    "    plt.xticks(np.arange(0, 10, step=1))\n",
    "    plt.show()\n",
    "    print('at x={0:1.3f}'.format(axis))\n",
    "    print('The points are at {0:1.3f} {1:1.3f} '.format(p1, p2))\n",
    "    print('The points at {0:1.3f}*log({1:1.3f}x) and log({2:1.3f}x) are at {3:1.3f} and {4:1.3f} repectively'.format(r,m,m**r,p1, p2))\n",
    "    print('{0:1.3f}={1:1.3f}'.format(p1,p2))\n",
    "    fig.canvas.draw()\n",
    "\n",
    "interact(update);\n",
    "\n",
    "\n",
    "print('thus')\n",
    "display(Math(r'\\log_{B}(M^R)=R\\log_B(M)'))"
   ]
  },
  {
   "cell_type": "markdown",
   "metadata": {},
   "source": [
    "$\\text{next, we will be looking at the Change of Base rule}\\\\\n",
    "\\log_{B}(M)=\\frac{\\log_N(M)}{\\log_N(B)}\\\\\n",
    "\\text{first we need to define a variable}\\\\\n",
    "\\text{Let }x=\\log_{B}(M)\\\\\n",
    "\\text{When converting this to exponent form we get: }\\\\\n",
    "B^x=M\\\\\n",
    "\\text{the first time is to apply log_N to both sides}\\\\\n",
    "\\log_N(B^x)=\\log_N(M)\\\\\n",
    "\\text{This can be simplified to:}\\\\\n",
    "x\\log_N(B)=\\log_N(M)\\\\\n",
    "\\text{isolating for x gets: }\\\\\n",
    "x=\\frac{\\log_N(M)}{\\log_N(B)}\\\\\n",
    "\\text{inputing x, we get}\\\\\n",
    "\\log_{B}(M)=\\frac{\\log_N(M)}{\\log_N(B)}$"
   ]
  },
  {
   "cell_type": "code",
   "execution_count": 7,
   "metadata": {},
   "outputs": [
    {
     "data": {
      "text/plain": [
       "<matplotlib.figure.Figure at 0x7fd5ff97a438>"
      ]
     },
     "metadata": {},
     "output_type": "display_data"
    },
    {
     "data": {
      "application/vnd.jupyter.widget-view+json": {
       "model_id": "8f5c48919ea0469fa2babe6c5d327721",
       "version_major": 2,
       "version_minor": 0
      },
      "text/html": [
       "<p>Failed to display Jupyter Widget of type <code>interactive</code>.</p>\n",
       "<p>\n",
       "  If you're reading this message in the Jupyter Notebook or JupyterLab Notebook, it may mean\n",
       "  that the widgets JavaScript is still loading. If this message persists, it\n",
       "  likely means that the widgets JavaScript library is either not installed or\n",
       "  not enabled. See the <a href=\"https://ipywidgets.readthedocs.io/en/stable/user_install.html\">Jupyter\n",
       "  Widgets Documentation</a> for setup instructions.\n",
       "</p>\n",
       "<p>\n",
       "  If you're reading this message in another frontend (for example, a static\n",
       "  rendering on GitHub or <a href=\"https://nbviewer.jupyter.org/\">NBViewer</a>),\n",
       "  it may mean that your frontend doesn't currently support widgets.\n",
       "</p>\n"
      ],
      "text/plain": [
       "interactive(children=(FloatSlider(value=5.0, description='new_base', max=10.0, min=1.0, step=1.0), Output()), _dom_classes=('widget-interact',))"
      ]
     },
     "metadata": {},
     "output_type": "display_data"
    },
    {
     "data": {
      "text/plain": [
       "<function __main__.update(new_base=(1.0, 10, 1))>"
      ]
     },
     "execution_count": 7,
     "metadata": {},
     "output_type": "execute_result"
    }
   ],
   "source": [
    "x=np.linspace(1,10)\n",
    "fig = plt.figure()\n",
    "\n",
    "def update(new_base = (1.0,10,1)):\n",
    "    p1=log(m,b)\n",
    "    p2=log(m,new_base)/ log(b,new_base)\n",
    "    plt.plot(x,f(m,b,x),'-g',label='log(m) base b')\n",
    "    plt.plot(x,f3(m,new_base,b,x),'-b',label='log(m) / log(b) base n')\n",
    "    plt.plot(1,p1,'ob',1,p2,'og')\n",
    "    plt.legend(bbox_to_anchor=(1.05, 1), loc=2, borderaxespad=0.)\n",
    "    plt.xticks(np.arange(0, 10, step=1))\n",
    "    plt.show()\n",
    "    print('The points are at {0:1.3f} {1:1.3f} '.format(p1, p2))\n",
    "    print('{0:1.3f}={1:1.3f}'.format(p1,p2))\n",
    "    print('As we can see, changing the new base does not change the graph')\n",
    "    print('also, the changing of base rule is only true when x=1')\n",
    "    print('thus')\n",
    "    display(Math(r'\\log_{B}(M^R)=R\\log_B(M)'))\n",
    "    fig.canvas.draw()\n",
    "\n",
    "interact(update)"
   ]
  }
 ],
 "metadata": {
  "kernelspec": {
   "display_name": "Python 3",
   "language": "python",
   "name": "python3"
  },
  "language_info": {
   "codemirror_mode": {
    "name": "ipython",
    "version": 3
   },
   "file_extension": ".py",
   "mimetype": "text/x-python",
   "name": "python",
   "nbconvert_exporter": "python",
   "pygments_lexer": "ipython3",
   "version": "3.6.5"
  }
 },
 "nbformat": 4,
 "nbformat_minor": 2
}

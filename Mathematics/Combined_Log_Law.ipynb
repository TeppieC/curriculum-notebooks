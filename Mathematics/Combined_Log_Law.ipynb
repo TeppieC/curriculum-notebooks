{
 "cells": [
  {
   "cell_type": "markdown",
   "metadata": {},
   "source": [
    "<h1><center>Logarithmic Laws</center></h1>"
   ]
  },
  {
   "cell_type": "markdown",
   "metadata": {},
   "source": [
    "### Introduction: <p>\n",
    "Logarithms are the opposite function of exponentials. Just like exponentials, the behavior of these functions can be categorized by 4 main laws that will be shown in this program.<p>    \n",
    "    \n",
    "### Basics of Logarithms:<p>\n",
    "Even though logarithms can seem very complex, we can look at the basic relationship between logarithms and exponentials in order to simplify this. Before looking deeper in these relationships, we will first identify a few key identities. Logarithms are written in the following form:<p>\n",
    "$\\log_B(X)=N$<p>\n",
    "We can solve for X with the following relationship:<p>\n",
    "$X=B^N$\n",
    "    \n",
    "### Logarithmic Laws<p>\n",
    "There are 4 main logarithmic laws which help show the relationship between exponential functions as well as other logarithmic laws. <p>\n",
    "\n",
    "Product Law: $\\log_{B}(M \\times N)=\\log_{B}(M)+\\log_{B}(N)$<br /> \n",
    "Quotient Law: $\\log_{B}\\big(\\frac{M}{N}\\big)=\\log_{B}(M)-\\log_{B}(N)$<br />\n",
    "Power Law: $\\log_{B}(M^R)=R\\log_B(M)$<br />\n",
    "Changing Base Rule: $\\log_{B}(M)=\\frac{\\log_N(M)}{\\log_N(B)}$\n",
    "\n",
    "### Background: Exponential Logs\n",
    "Since Logarithms are tightly tied to exponents, we will be uses exponential laws when deriving logarithmic laws. Exponential Laws state: <br />\n",
    "$X^M \\times X^N=X^{M+N}\\\\\n",
    "\\frac{X^M}{X^N}=X^{M-N}\n",
    "$\n",
    "# Cont\n",
    "\n",
    "\n",
    "## Using Python\n",
    "### Import\n",
    "We will start out by importing packages that we will be using in the code. This refers to code that other people have written in order to simplify coding with premade functions."
   ]
  },
  {
   "cell_type": "code",
   "execution_count": 1,
   "metadata": {},
   "outputs": [],
   "source": [
    "from IPython.display import display, Latex, Math\n",
    "import math\n",
    "from math import log\n",
    "import matplotlib.pyplot as plt\n",
    "%matplotlib inline\n",
    "import numpy as np\n",
    "from ipywidgets import interact, interactive, fixed, interact_manual"
   ]
  },
  {
   "cell_type": "markdown",
   "metadata": {},
   "source": [
    "As seen in the code above, many different codes were imported. These are:<br/>\n",
    "#### 1. Latex, Math and display from IPython\n",
    "This allows us to display mathematical equations in a legible format. Math and Latex are used to format mathematical equations while the display function shows these equations to the user.\n",
    "#### 2. import math\n",
    "This is used for more complex calculations including exponents and the logarithmic operation.\n",
    "#### 3. import matplotlib.pyplot \n",
    "This package assists with creating graphs. We choose to import it as \"plt\" in order to make it easier to call the functions in the future\n",
    "#### 4. %matplotlib inline\n",
    "This allows the plots to be displayed below the code in the Jupyter environment\n",
    "#### 5. numpy as np\n",
    "numpy is a package which includes some mathematical operations. In this program we will use the package to access some of the simpler mathematical operations. we abbreviate it to \"np\" in order to keep the code relatively simple\n",
    "#### 6. from ipywidgets import interactive\n",
    "This will be used to add an interactive aspect to graphs. This includes sliding bars to choose and change certain values.\n",
    "### Definition of Functions\n",
    "In python we can make definition statements at the beginning of the code to be refered to throughout the code. In this case, we will be defining some logarithmic equations to assist with calculating multiple points on graphs throughout the code. Each definition requires an input of the values in the logarithim. The exported value is the calculation which is based on the inputed value. The comments before each definition statement explain the calculation that they perform. "
   ]
  },
  {
   "cell_type": "code",
   "execution_count": 2,
   "metadata": {},
   "outputs": [],
   "source": [
    "#Regular log function\n",
    "def f(m,b,x):\n",
    "    x= x*m\n",
    "    return [log(y,b) for y in x]\n",
    "\n",
    "#Log function of an exponent \n",
    "def f1(r,m,b,x):\n",
    "    x= (x*m)**r\n",
    "    return [log(y,b) for y in x]\n",
    "\n",
    "#A Log function is multiplied by a constant\n",
    "def f2(r,m,b,x):\n",
    "    x= x*m\n",
    "    return [r*log(y,b) for y in x]\n",
    "\n",
    "#2 Log functions with the same base are divided\n",
    "def f3(m,n,b,x):\n",
    "    y1=f(m,n,x)\n",
    "    y2=f(b,n,x)\n",
    "    y=np.divide(y1,y2)\n",
    "    return y"
   ]
  },
  {
   "cell_type": "markdown",
   "metadata": {},
   "source": [
    "In the next part of the code, we will be defining variables to be used while creating graphical proof. The inputs must be numbers but can be easily changed in the next line. Based on the laws, regardless of the input, the laws will still hold true."
   ]
  },
  {
   "cell_type": "code",
   "execution_count": 3,
   "metadata": {},
   "outputs": [],
   "source": [
    "#These numbers can be subject to change\n",
    "\n",
    "#For the base, we use the variable B\n",
    "b=3\n",
    "#For the 2 variables within the logarithms, we will use M and N\n",
    "m=4\n",
    "n=2\n",
    "#For the exponent when looking at exponential log, we will use R\n",
    "r=5"
   ]
  },
  {
   "cell_type": "markdown",
   "metadata": {},
   "source": [
    "## Product Law\n",
    "$\\text{The law we are looking at is the first law which is Product Law. This states that: }\\\\\n",
    "\\log_{B}(MN)=\\log_{B}(M)+\\log_{B}(N)$ <br />\n",
    "### Mathematical proof\n",
    "$\\text{First lets look at the mathematical proof. It may look complex, however, it can simply be broken down}$ <br />\n",
    "$\\text{First we need to define some variables. We will choose x and y.}\\\\\n",
    "Let \\: x=\\log_B(M) \\:and \\: Let \\: y=\\log_B(N)\\\\\n",
    "\\text{We know that the equivalent exponential forms are}\\\\\n",
    "B^x=M \\: and \\: B^y=N\\\\\n",
    "\\text{we can state that}\\\\\n",
    "B^x \\times B^y=M \\times N\\\\\n",
    "\\text{From the properties of Exponents}\\\\\n",
    "B^{x+y}=M \\times N\\\\\n",
    "\\text{Apply Log to both sides}\\\\\n",
    "\\log_B(B^{x+y})=\\log_B(M \\times N)\\\\\n",
    "\\text{This is equivalent to}\\\\\n",
    "x+y=\\log_B(M \\times N)\\\\\n",
    "\\text {as we know} \\: x=\\log_B(M) \\:and \\: y=\\log_B(N)\\\\\n",
    "\\text{Therefore:}\\\\\n",
    "\\log_{B}(M \\times N)=\\log_{B}(M)+\\log_{B}(N)$\n",
    "\n",
    "### Graphical Proof\n",
    "The next step is to graph the functions based on the numbers previously inputed in order to prove that this law to confirm that the practical part of the law aligns with the theoretical aspect. 3 functions will be graphed. This includes the functions both on the left and right hand side of the equation. At any given x point, we can see that the 2 points on the right hand side are equal to the left hand side of the equation. The following clip of code graphs the analysis the 3 functions at any given x location to validate Product Law."
   ]
  },
  {
   "cell_type": "code",
   "execution_count": 4,
   "metadata": {},
   "outputs": [
    {
     "data": {
      "application/vnd.jupyter.widget-view+json": {
       "model_id": "2f3de1780d0141019a81aab5405a0a93",
       "version_major": 2,
       "version_minor": 0
      },
      "text/html": [
       "<p>Failed to display Jupyter Widget of type <code>interactive</code>.</p>\n",
       "<p>\n",
       "  If you're reading this message in the Jupyter Notebook or JupyterLab Notebook, it may mean\n",
       "  that the widgets JavaScript is still loading. If this message persists, it\n",
       "  likely means that the widgets JavaScript library is either not installed or\n",
       "  not enabled. See the <a href=\"https://ipywidgets.readthedocs.io/en/stable/user_install.html\">Jupyter\n",
       "  Widgets Documentation</a> for setup instructions.\n",
       "</p>\n",
       "<p>\n",
       "  If you're reading this message in another frontend (for example, a static\n",
       "  rendering on GitHub or <a href=\"https://nbviewer.jupyter.org/\">NBViewer</a>),\n",
       "  it may mean that your frontend doesn't currently support widgets.\n",
       "</p>\n"
      ],
      "text/plain": [
       "interactive(children=(FloatSlider(value=5.0, description='axis', max=10.0, min=1.0, step=1.0), Output()), _dom_classes=('widget-interact',))"
      ]
     },
     "metadata": {},
     "output_type": "display_data"
    },
    {
     "data": {
      "text/plain": [
       "<function __main__.update(axis=(1.0, 10, 1))>"
      ]
     },
     "execution_count": 4,
     "metadata": {},
     "output_type": "execute_result"
    }
   ],
   "source": [
    "#Define the x-axis.The axis will got to 10.\n",
    "x=np.linspace(1,10)\n",
    "\n",
    "def update(axis = (1.0,10,1)):\n",
    "    \n",
    "    #Plot the 3 log functions from the left and right side of the Product Law\n",
    "    plt.plot(x,f(m,b,x),'-b',label='log(m)')\n",
    "    plt.plot(x,f(n,b,x),'-g',label='log(n)')\n",
    "    plt.plot(x,f(m*n,b,x**2),'-r',label='log(n*m)')\n",
    "    \n",
    "    #Plot the 3 points of interest based on the chosen x-coordinate\n",
    "    p1=log(m*axis,b)\n",
    "    p2=log(n*axis,b)\n",
    "    p3=log(m*n*(axis**2),b)\n",
    "    plt.plot(axis,p1,'ob',axis,p2,'og',axis,p3,'or')\n",
    "    plt.legend(bbox_to_anchor=(1.05, 1), loc=2, borderaxespad=0.)\n",
    "    plt.xticks(np.arange(0, 10, step=1))\n",
    "    print('at x={0:1.3f}'.format(axis))\n",
    "    \n",
    "    #Display the value of the points to prove that the law is valid\n",
    "    print('The points are at {0:1.3f} {1:1.3f} {2:1.3f}'.format(p1, p2, p3))\n",
    "    print('The points at log({0:1.3f}x), log({1:1.3f}x) and log({2:1.3f}x) are at {3:1.3f}, {4:1.3f} and {5:1.3f} repectively'.format(m,n,m*n,p1, p2, p3))\n",
    "    print('{0:1.3f}+{1:1.3f}={2:1.3f}'.format(p1,p2,p1+p2))\n",
    "    print('{0:1.3f}={1:1.3f}'.format(p3,p3))\n",
    "    print('This means that the left side of the equation equals the right side')\n",
    "    print('thus')\n",
    "    display(Math(r'log_{B}(MN)=log_{B}(M)+log_{B}(N)'))\n",
    "\n",
    "#Creates a slider bar to determine the x-coordinate of the points on the curves\n",
    "#By taking these values at any given point x, we can prove Product Law\n",
    "interact(update)\n"
   ]
  },
  {
   "cell_type": "markdown",
   "metadata": {},
   "source": [
    "### Results\n",
    "During the mathematical proof, we  used the relationship between logarithms and exponents as well as exponential laws in order to derive Product Law. Based on the values recorded during the graphical proof, we can see that at any inputed x-coordinates, the left hand side of the law is equivalent to the right hand side. This affirms the accuracy of the law.\n",
    "\n",
    "## Quotient Law\n",
    "$\\text{The next law we will be looking at is Quotient law}$ <br />\n",
    "### Mathematical proof\n",
    "$\\log_{B}\\bigg(\\frac{M}{N}\\bigg)=\\log_{B}(M)-\\log_{B}(N)\\\\\n",
    "\\text{The proof we will be looking at is to mathematically prove Quotient law}\\\\\n",
    "\\text{First we need to define some variables. We will choose x and y.}\\\\\n",
    "\\text{Let} \\: x=\\log_B(M) \\:and \\: Let \\: y=\\log_B(N)\\\\\n",
    "\\text{We know that the equivalent exponential forms are}\\\\\n",
    "B^x=M \\: and \\: B^y=N\\\\\n",
    "\\text{Based on the above, we can state that}\\\\\n",
    "\\frac{B^x}{B^y}=\\frac{M}{N}\\\\\n",
    "\\text{based on the properties on exponents, this is equivalent to:}\\\\\n",
    "B^{x-y}=\\frac{M}{N}\\\\\n",
    "\\log_{B}\\big(\\frac{M}{N}\\big)=x-y\\\\\n",
    "\\log_{B}\\big(\\frac{M}{N}\\big)=\\log_{B}(M)-\\log_{B}(N)$\n",
    "### Graphical Proof\n",
    "We will graph all of the functions in the equation based on the inputed values. From the right side, we will graph $y=\\log_B(Mx)$ and $y=\\log_B(Nx)$. From the left side, we will graph $y=\\log_B(\\frac{Mx}{Nx})$ which reduces to $y=\\log_B(\\frac{M}{N})$. It is expected that at any given x-coordinate, the 2 points from the right side should subtract to result in the left side of the equation. "
   ]
  },
  {
   "cell_type": "code",
   "execution_count": 5,
   "metadata": {
    "scrolled": true
   },
   "outputs": [
    {
     "data": {
      "application/vnd.jupyter.widget-view+json": {
       "model_id": "d93cc528d1a04b4282c29eb7d4b36e21",
       "version_major": 2,
       "version_minor": 0
      },
      "text/html": [
       "<p>Failed to display Jupyter Widget of type <code>interactive</code>.</p>\n",
       "<p>\n",
       "  If you're reading this message in the Jupyter Notebook or JupyterLab Notebook, it may mean\n",
       "  that the widgets JavaScript is still loading. If this message persists, it\n",
       "  likely means that the widgets JavaScript library is either not installed or\n",
       "  not enabled. See the <a href=\"https://ipywidgets.readthedocs.io/en/stable/user_install.html\">Jupyter\n",
       "  Widgets Documentation</a> for setup instructions.\n",
       "</p>\n",
       "<p>\n",
       "  If you're reading this message in another frontend (for example, a static\n",
       "  rendering on GitHub or <a href=\"https://nbviewer.jupyter.org/\">NBViewer</a>),\n",
       "  it may mean that your frontend doesn't currently support widgets.\n",
       "</p>\n"
      ],
      "text/plain": [
       "interactive(children=(FloatSlider(value=5.0, description='axis', max=10.0, min=1.0, step=1.0), Output()), _dom_classes=('widget-interact',))"
      ]
     },
     "metadata": {},
     "output_type": "display_data"
    },
    {
     "name": "stdout",
     "output_type": "stream",
     "text": [
      "thus\n"
     ]
    },
    {
     "data": {
      "text/latex": [
       "$\\log_{B}\\big(\\frac{M}{N}\\big)=\\log_{B}(M)-\\log_{B}(N)$"
      ],
      "text/plain": [
       "<IPython.core.display.Latex object>"
      ]
     },
     "metadata": {},
     "output_type": "display_data"
    }
   ],
   "source": [
    "#Interactive graphical proof\n",
    "\n",
    "#The points on the x-axis that will be included in the graph\n",
    "x=np.linspace(1,10)\n",
    "y=np.linspace(m/n,m/n)\n",
    "\n",
    "def update(axis = (1.0,10,1)):\n",
    "    \n",
    "    #Plot the 3 functions\n",
    "    plt.plot(x,f(m,b,x),'-b',label='log(m)')\n",
    "    plt.plot(x,f(n,b,x),'-g',label='log(n)')\n",
    "    plt.plot(x,f(1,b,y),'-r',label='log(m/n)')\n",
    "    \n",
    "    #Plot the 3 points based on the x-coordinate. 1 on each function curve\n",
    "    p1=log(m*axis,b)\n",
    "    p2=log(n*axis,b)\n",
    "    p3=log(m/n,b)\n",
    "    plt.plot(axis,p1,'ob',axis,p2,'og',axis,p3,'or')\n",
    "    plt.legend(bbox_to_anchor=(1.05, 1), loc=2, borderaxespad=0.)\n",
    "   \n",
    "    #This line sets the marks on the x-axis\n",
    "    plt.xticks(np.arange(0, 10, step=1))\n",
    "    \n",
    "    #This line is a unique line that is required to display the graph\n",
    "    plt.show()\n",
    "    \n",
    "    #The last step is to generate a conclusion based on the position of the values\n",
    "    #It is very important to show that by subtracting 2 points on the right hand side, the result is the left hand side\n",
    "    print('at x={0:1.3f}'.format(axis))\n",
    "    print('The points are at {0:1.3f} {1:1.3f} {2:1.3f}'.format(p1, p2, p3))\n",
    "    print('The points at log({0:1.3f}x), log({1:1.3f}x) and log({2:1.3f}) are at {3:1.3f}, {4:1.3f} and {5:1.3f} repectively'.format(m,n,m/n,p1, p2, p3))\n",
    "    print('{0:1.3f}-{1:1.3f}={2:1.3f}'.format(p1,p2,p3))\n",
    "\n",
    "#create a slider bar to determine the x-coordinate of the point\n",
    "interact(update);\n",
    "\n",
    "print('thus')\n",
    "display(Latex(r'$\\log_{B}\\big(\\frac{M}{N}\\big)=\\log_{B}(M)-\\log_{B}(N)$'))"
   ]
  },
  {
   "cell_type": "markdown",
   "metadata": {},
   "source": [
    "### Result\n",
    "During the mathematical proof, we  used the relationship between logarithms and exponents as well as exponential laws in order to derive Quotient Law. When we look at the graphic proof, we can see that the functions on the right hand side follow a very similar curve. On the other hand, on the left hand side, we can see that the function remains as a constant number. This is reasonable as the curves appear to be a consistent distance apparent. From the combined evidence from the mathematical and graphical proofs, we can prove the accuracy of Quotient Laws.\n",
    "\n",
    "## Power Law\n",
    "$\\text{The next law we will look at is power law}\\\\\n",
    "\\text{this states that:}\\\\\n",
    "\\log_{B}(M^R)=R\\log_B(M)$\n",
    "\n",
    "### Mathematical Proof \n",
    "$\\text{First we need to define some variables. We will choose x and y.}$ <br />\n",
    "$\\text{Let} \\: x=\\log_{B}(M^R)\\\\\n",
    "\\text{The equivalent exponential form is }B^x=M^R\\\\\n",
    "\\text{If we put both sides of the equation to the exponent of }\\frac{1}{R}\\text{, we get:}\\\\\n",
    "(B^x)^{\\frac{1}{R}}=(M^R)^{\\frac{1}{R}}\\\\\n",
    "\\text{this reduces to } B^{\\frac{x}{R}}=M\\\\\n",
    "\\text{Applying the log function to both sides, we get:}\\\\\n",
    "\\log_B(M)=\\frac{x}{R}\\\\\n",
    "\\text{Multiply R onto both sides}\\\\\n",
    "R\\log_B(M)=x\\\\\n",
    "\\text{substite in x}\\\\\n",
    "R\\log_B(M)=\\log_B(M^R)$\n",
    "\n",
    "### Graphical Proof\n",
    "In this case, there is one function on the left hand side and one on the right hand side. For this reason, 2 functions will be graphed. Since they must be equivalent to each other, we can expect that the functions will be identical."
   ]
  },
  {
   "cell_type": "code",
   "execution_count": 6,
   "metadata": {},
   "outputs": [
    {
     "data": {
      "text/plain": [
       "<matplotlib.figure.Figure at 0x7fcb1e3aff28>"
      ]
     },
     "metadata": {},
     "output_type": "display_data"
    },
    {
     "data": {
      "application/vnd.jupyter.widget-view+json": {
       "model_id": "8be0ad19109c44cbbb88c889c4acf06f",
       "version_major": 2,
       "version_minor": 0
      },
      "text/html": [
       "<p>Failed to display Jupyter Widget of type <code>interactive</code>.</p>\n",
       "<p>\n",
       "  If you're reading this message in the Jupyter Notebook or JupyterLab Notebook, it may mean\n",
       "  that the widgets JavaScript is still loading. If this message persists, it\n",
       "  likely means that the widgets JavaScript library is either not installed or\n",
       "  not enabled. See the <a href=\"https://ipywidgets.readthedocs.io/en/stable/user_install.html\">Jupyter\n",
       "  Widgets Documentation</a> for setup instructions.\n",
       "</p>\n",
       "<p>\n",
       "  If you're reading this message in another frontend (for example, a static\n",
       "  rendering on GitHub or <a href=\"https://nbviewer.jupyter.org/\">NBViewer</a>),\n",
       "  it may mean that your frontend doesn't currently support widgets.\n",
       "</p>\n"
      ],
      "text/plain": [
       "interactive(children=(FloatSlider(value=5.0, description='axis', max=10.0, min=1.0, step=1.0), Output()), _dom_classes=('widget-interact',))"
      ]
     },
     "metadata": {},
     "output_type": "display_data"
    },
    {
     "name": "stdout",
     "output_type": "stream",
     "text": [
      "thus\n"
     ]
    },
    {
     "data": {
      "text/latex": [
       "$$\\log_{B}(M^R)=R\\log_B(M)$$"
      ],
      "text/plain": [
       "<IPython.core.display.Math object>"
      ]
     },
     "metadata": {},
     "output_type": "display_data"
    }
   ],
   "source": [
    "#Interactive graphical proof\n",
    "\n",
    "#This sets the values that will be used as the x-coordinates\n",
    "x=np.linspace(1,10)\n",
    "fig = plt.figure()\n",
    "\n",
    "def update(axis = (1.0,10,1)):\n",
    "    \n",
    "    #Plot one function for each side of the equation\n",
    "    plt.plot(x,f1(r,m,b,x),'-g',label='log(n)')\n",
    "    plt.plot(x,f2(r,m,b,x),'-b',label='log(m)')\n",
    "    \n",
    "    #Plot the 2 points on the function based on the x-coordinate from the user\n",
    "    p1=log((m*axis)**r,b)\n",
    "    p2=r*log(m*axis,b)    \n",
    "    plt.plot(axis,p1,'ob',axis,p2,'og')\n",
    "    plt.legend(bbox_to_anchor=(1.05, 1), loc=2, borderaxespad=0.)\n",
    "    plt.xticks(np.arange(0, 10, step=1))\n",
    "    plt.show()\n",
    "    \n",
    "    #The last step is to generate the coordinates to prove the law is valid\n",
    "    print('at x={0:1.3f}'.format(axis))\n",
    "    print('The points are at {0:1.3f} {1:1.3f} '.format(p1, p2))\n",
    "    print('The points at {0:1.3f}*log({1:1.3f}x) and log({2:1.3f}x) are at {3:1.3f} and {4:1.3f} repectively'.format(r,m,m**r,p1, p2))\n",
    "    print('{0:1.3f}={1:1.3f}'.format(p1,p2))\n",
    "    fig.canvas.draw()\n",
    "\n",
    "interact(update);\n",
    "\n",
    "\n",
    "print('thus')\n",
    "display(Math(r'\\log_{B}(M^R)=R\\log_B(M)'))"
   ]
  },
  {
   "cell_type": "markdown",
   "metadata": {},
   "source": [
    "### Results\n",
    "When looking at the mathematical proof, by first converting the logarithmic functions into exponents then using exponential laws in order to derive Power Law. When looking at the graph, we can see that the functions on the left and right hand side are identical like we predicted. Thus, we can show that Power Law is accurate.\n",
    "\n",
    "## Change of Base Rule\n",
    "$\\text{This rule is useful for changing the base of a logarithmic function}\\\\\n",
    "\\text{It states that:}\\\\\n",
    "\\log_{B}(M)=\\frac{\\log_N(M)}{\\log_N(B)}$ \n",
    "### Mathematical Proof\n",
    "$\\text{first we need to define a variable}\\\\\n",
    "\\text{Let }x=\\log_{B}(M)\\\\\n",
    "\\text{When converting this to exponent form we get: }\\\\\n",
    "B^x=M\\\\\n",
    "\\text{the first time is to apply log_N to both sides}\\\\\n",
    "\\log_N(B^x)=\\log_N(M)\\\\\n",
    "\\text{This can be simplified to:}\\\\\n",
    "x\\log_N(B)=\\log_N(M)\\\\\n",
    "\\text{isolating for x gets: }\\\\\n",
    "x=\\frac{\\log_N(M)}{\\log_N(B)}\\\\\n",
    "\\text{inputing x, we get}\\\\\n",
    "\\log_{B}(M)=\\frac{\\log_N(M)}{\\log_N(B)}$\n",
    "### Graphical Proof\n",
    "In order to further prove this law, we will graph both sides of the equation. The left side function $\\log_{B}(Mx)$ was graphed as well as the right side $\\frac{\\log_N(Mx)}{\\log_N(Bx)}$. As we can see, x is located in the log function while the base is moved into the function as well. This means when x is not equal to 1, the functions will not align. Thus, we can expect for the points on the graph are only equivalent when x=1. However, we can still show that regardless of the new base value, the functions should align when x=1."
   ]
  },
  {
   "cell_type": "code",
   "execution_count": 7,
   "metadata": {},
   "outputs": [
    {
     "data": {
      "text/plain": [
       "<matplotlib.figure.Figure at 0x7fcb20488d30>"
      ]
     },
     "metadata": {},
     "output_type": "display_data"
    },
    {
     "data": {
      "application/vnd.jupyter.widget-view+json": {
       "model_id": "d98a5c47fda443178b85fbdd8862102c",
       "version_major": 2,
       "version_minor": 0
      },
      "text/html": [
       "<p>Failed to display Jupyter Widget of type <code>interactive</code>.</p>\n",
       "<p>\n",
       "  If you're reading this message in the Jupyter Notebook or JupyterLab Notebook, it may mean\n",
       "  that the widgets JavaScript is still loading. If this message persists, it\n",
       "  likely means that the widgets JavaScript library is either not installed or\n",
       "  not enabled. See the <a href=\"https://ipywidgets.readthedocs.io/en/stable/user_install.html\">Jupyter\n",
       "  Widgets Documentation</a> for setup instructions.\n",
       "</p>\n",
       "<p>\n",
       "  If you're reading this message in another frontend (for example, a static\n",
       "  rendering on GitHub or <a href=\"https://nbviewer.jupyter.org/\">NBViewer</a>),\n",
       "  it may mean that your frontend doesn't currently support widgets.\n",
       "</p>\n"
      ],
      "text/plain": [
       "interactive(children=(FloatSlider(value=5.0, description='new_base', max=10.0, min=1.0, step=1.0), Output()), _dom_classes=('widget-interact',))"
      ]
     },
     "metadata": {},
     "output_type": "display_data"
    },
    {
     "data": {
      "text/plain": [
       "<function __main__.update(new_base=(1.0, 10, 1))>"
      ]
     },
     "execution_count": 7,
     "metadata": {},
     "output_type": "execute_result"
    }
   ],
   "source": [
    "#Values of the x coordinates on the axis\n",
    "x=np.linspace(1,10)\n",
    "fig = plt.figure()\n",
    "\n",
    "def update(new_base = (1.0,10,1)):\n",
    "    \n",
    "    #Plot the two functions\n",
    "    #Use the user defined base for the right hand side funciton\n",
    "    plt.plot(x,f(m,b,x),'-g',label='log(m) base b')\n",
    "    plt.plot(x,f3(m,new_base,b,x),'-b',label='log(m) / log(b) base n')\n",
    "    \n",
    "    #Place the points on the functions where x=1\n",
    "    p1=log(m,b)\n",
    "    p2=log(m,new_base)/ log(b,new_base)\n",
    "    plt.plot(1,p1,'ob',1,p2,'og')\n",
    "    plt.legend(bbox_to_anchor=(1.05, 1), loc=2, borderaxespad=0.)\n",
    "    plt.xticks(np.arange(0, 10, step=1))\n",
    "    plt.show()\n",
    "    \n",
    "    #The last step to to generate the coordinates to prove the law is valid\n",
    "    print('The points are at {0:1.3f} {1:1.3f} '.format(p1, p2))\n",
    "    print('{0:1.3f}={1:1.3f}'.format(p1,p2))\n",
    "    print('As we can see, changing the new base does not change the graph')\n",
    "    print('also, the changing of base rule is only true when x=1')\n",
    "    print('thus')\n",
    "    display(Math(r'\\log_{B}(M^R)=R\\log_B(M)'))\n",
    "    fig.canvas.draw()\n",
    "\n",
    "#Create a slider bar that shows the value of the newly changed base\n",
    "interact(update)"
   ]
  },
  {
   "cell_type": "markdown",
   "metadata": {},
   "source": [
    "### Results\n",
    "The mathematical proof uses the relationship between logarithms and exponents in order to change the value of the base and thus derive the rule. When looking at the graph, we can see that it confirms the expected results. The functions meet when x is equal to 1 regardless of the newly selected base. By these 2 proofs, we can confirm the changing base rule."
   ]
  }
 ],
 "metadata": {
  "kernelspec": {
   "display_name": "Python 3",
   "language": "python",
   "name": "python3"
  },
  "language_info": {
   "codemirror_mode": {
    "name": "ipython",
    "version": 3
   },
   "file_extension": ".py",
   "mimetype": "text/x-python",
   "name": "python",
   "nbconvert_exporter": "python",
   "pygments_lexer": "ipython3",
   "version": "3.6.5"
  }
 },
 "nbformat": 4,
 "nbformat_minor": 2
}

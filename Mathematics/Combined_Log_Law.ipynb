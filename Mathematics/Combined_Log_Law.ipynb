{
 "cells": [
  {
   "cell_type": "markdown",
   "metadata": {},
   "source": [
    "<h1><center>Logarithmic Laws</center></h1>"
   ]
  },
  {
   "cell_type": "markdown",
   "metadata": {},
   "source": [
    "## Introduction:\n",
    "\n",
    "Logarithms are the inverse operation to exponentials. While exponentials typically combine small numbers to yield something big, logarithms usually take a big number and represent it as something small.\n",
    "\n",
    "Logarithms are also useful because they change the arithmetic operations of multiplication, division, and powers into addition, subtraction, and products. While modern calculators can do all these operations quickly, for us mere humans logarithms can be useful for doing quick approximations in our heads."
   ]
  },
  {
   "cell_type": "markdown",
   "metadata": {},
   "source": [
    "## Motivation:\n",
    "\n",
    "Going about our day, we often run into powers of ten, when we see kilograms of food in a grocery store (1000 grams), megawatts of power from an electrical generator (1,000,000 watts) or gigabytes of memory in our computer (1,000,000,000 bytes). It is the **power** of ten that is important, and the logarithm captures this idea with the formulats\n",
    "$$ \\log(10) = 1$$\n",
    "$$ \\log(1000) = 3$$\n",
    "$$ \\log(1,000,000) = 6$$\n",
    "$$ \\log(1,000,000,000) = 9.$$\n",
    "\n",
    "The logarithm of a number $x$ is defined as the power $n$ it takes so that $$x = 10^n.$$ So, for instance, since $1000 = 10^3$, we know that $\\log(1000) = 3,$ as indicated in the list above.\n",
    "\n",
    "For numbers that aren't integer powers of 10, the logarithm is still defined by the above formula, where $n$ can be any real number solving $x = 10^n$. For instance, you might guess that $\\log(5000)$ is somewhere between 3 and 4, since the number 5000 is halfway between $10^3 = 1000$ and $10^4 = 10,000$. You might even guess that $\\log(5000) = 3.5$, which is not a bad approximation: in fact, a calculator shows that\n",
    "$$\\log(5000) = 3.69897...,$$\n",
    "which is the same as saying\n",
    "$$5000 = 10^{3.69897...}.$$\n",
    "\n",
    "We can also take logarithms of small numbers, like this:\n",
    "$$\\log(.01) = \\log(\\frac{1}{100}) = \\log(10^{-2}) = -2.$$\n",
    "\n",
    "But you cannot take logarithms of negative numbers. (Unless you are willing to learn about something called complex numbers!)"
   ]
  },
  {
   "cell_type": "markdown",
   "metadata": {},
   "source": [
    "## Base for logarithm:\n",
    "\n",
    "In the examples above, we worked with powers of ten, so ten is called the **base** for the logarithm.\n",
    "\n",
    "We can work with other bases. For instance, with computers we often work with power of two. A Kilobyte of memory is actually $1024 = 2^{10}$ bytes. \n",
    "\n",
    "If you aren't sure about this, multiply out \n",
    "$2\\times 2 \\times 2 \\times \\ldots \\times 2$ with ten 2's, to see you get $1024= 2^{10}.$\n",
    "\n",
    "A Megabyte of memory is $1,048,576 = 2^{20}$ bytes, or just over a million bytes. A Gigabyte  is $1073741824 = 2^{30}$ bytes, or just over a billion bytes. (It's a funny coincidence that $10^3 \\approx 2^{10}$ so that kilo =1000 is about the same as Kilo = 1024.)\n",
    "\n",
    "We write this down in logarithm form, adding a subscript to keep track of the base. So\n",
    "$$ \\log_2(1024) = 10$$\n",
    "$$ \\log_2(1048576) = 20$$\n",
    "$$ \\log_2(1073741824) = 30.$$\n",
    "\n",
    "In general, the number $\\log_2(x)$ is defined as the solution to \n",
    "$$x = 2^n.$$\n",
    "\n",
    "Logarithms can be defined with any number $B$ as a base, provided $B$ is positive and not equal to one. The function is then written as $\\log_B(x).$\n",
    "\n"
   ]
  },
  {
   "cell_type": "markdown",
   "metadata": {},
   "source": [
    "## Three important bases:\n",
    "\n",
    "In practice, there are only three log functions that occur in most of math and science:\n",
    "$$\\log_2(x), \\log_{10}(x), \\mbox{ and } \\log_e(x),$$\n",
    "which have bases 2, 10 and $e$, respectively, where $e = 2.71...$ is the natural exponential that occurs in calculus. \n",
    "\n",
    "The base ten logarithm $\\log_{10}(x)$ occurs so often that it is usually abbreviated to $\\log(x)$, as we did in the first section of this notebook.\n",
    "\n",
    "The base $e$ logarithm is called the natural log, written $\\ln(x)$. It is mainly used in calculus. "
   ]
  },
  {
   "cell_type": "markdown",
   "metadata": {},
   "source": [
    "## Examples:\n",
    "\n",
    "- {1} Can we find $\\log_2(4000)$ approximately, without using a calculator?\n",
    "\n",
    "Sure. Here's one way. We know that $4 = 2^2$, and that $1000 \\approx 2^{10}$. So $4000 \\approx 2^2 \\times 2^{10} = 2^{12}$.\n",
    "So we conclude\n",
    "$$ \\log_2(4000) \\approx 12.$$\n",
    "\n",
    "A quick check with a calculator shows $\\log_2(4000) = 11.96578...$ so that was a pretty good approximation!\n",
    "\n",
    "- {2} Can we find $\\log(\\pi)$ approximately?\n",
    "\n",
    "Well, our friends the ancient Egyptians thought that $\\pi$ was the square root of 10. It's not, but that's a pretty good approximation. So we have\n",
    "$$\\log(\\pi) \\approx \\log(10^{1/2}) = 1/2.$$\n",
    "In fact, a check with a calculator shows $\\log(\\pi) = 0.49715...$, so again we have a pretty good approximation."
   ]
  },
  {
   "cell_type": "markdown",
   "metadata": {},
   "source": [
    "   \n",
    "    \n",
    "## Basics of Logarithms:<p>\n",
    "Even though logarithms can seem very complicated, we can look at the basic relationship between logarithms and exponentials in order to simplify these expressions to furture enhance our understandings. Before looking deeper in these relationships, we will first identify the main components of a logarithmic function. Logarithms are written in the following form:<p>\n",
    "$\\log_B(x)=m$ where B is the base of the logarithm. <p>\n",
    "Given a number $x$, we define $\\log_B(x)=m$ as the solution to the  exponential relationship\n",
    "$$x=B^m.$$\n",
    "    \n",
    "## Logarithmic Laws<p>\n",
    "There are 4 main logarithmic laws which help show the relationship between exponential and logarithmic functions.\n",
    "\n",
    "- Product Law: $\\log_{B}(x \\times y)=\\log_{B}(x)+\\log_{B}(y)$ \n",
    "- Quotient Law: $\\log_{B}( x \\div y) =\\log_{B}(x)-\\log_{B}(y)$\n",
    "- Power Law: $\\log_{B}(x^p)=p\\times \\log_B(x)$\n",
    "- Changing Base Rule: $\\log_{B}(x)=\\frac{\\log_C(x)}{\\log_C(B)}$\n",
    "\n",
    "## Background: Exponential Laws\n",
    "Since logarithms are closely related with exponents, we will be using exponential laws when deriving logarithmic laws. Exponential Laws state: \n",
    "\n",
    "- $B^m \\times B^n=B^{m+n} \\quad (1) $\n",
    "- $\\frac{B^m}{B^n}=B^{m-n} \\quad \\quad \\; \\;\\;\\,(2)$\n",
    "- $(B^m)^n=B^{mn} \\quad \\quad \\,(3)$\n",
    "- $(BC)^m=B^m C^m \\quad  \\,(4)$\n",
    "\n",
    "We will be refering these laws throughout the program using the number in the brackets above.\n",
    "\n",
    "## Using Python\n",
    "### Import\n",
    "We will start out by importing modules that we will be using throughout the code. Modules are bits of code that other people have written and distibuted in order to simplify other programs."
   ]
  },
  {
   "cell_type": "code",
   "execution_count": 1,
   "metadata": {},
   "outputs": [],
   "source": [
    "from IPython.display import display, Latex, clear_output\n",
    "from math import log\n",
    "import matplotlib.pyplot as plt\n",
    "import matplotlib.gridspec as gridspec\n",
    "%matplotlib inline\n",
    "import numpy as np\n",
    "import ipywidgets as widgets\n",
    "from ipywidgets import interact, interactive, fixed, interact_manual,IntSlider, Output, VBox\n",
    "from abc import ABCMeta, abstractmethod"
   ]
  },
  {
   "cell_type": "markdown",
   "metadata": {},
   "source": [
    "### Definition of Classes and Functions\n",
    "<p>In python, classes are created with specific attributes to be called upon throughout the program.</p>\n",
    "\n",
    "<p>We will be using 2 main classes. One contains abstract methods in order to create a template for multiple graphs using the same format in order to prove the laws. The other class contains static methods in order to store functions which will be used for calculations for the graphical proofs.</p>\n",
    "\n",
    "<p>When looking at the first class, LorgarithmLaw, all of the variables and definitions are initiated but not defined. The class is given attributes so that a very similar format of code can be used for each graphical proof. This results in consistent graphs and easier to read code.</p>\n",
    "\n",
    "<p>The second class, Logarithm, will be used to store functions for calculations to assist with graphical proofs throughout the program. This will make it easier to perform calculations with constantly changing variables. Each function is written as a static method. This means that the attributes and purpose of the functions stay the same. The only thing that is subject to change is the predefined variables that are input into the function. The class is called \"Logarithm\". In order to call these functions we will have to first identify the class then the function. For example, the first log function will be called by stating Logarithm.log. </p>\n",
    "\n",
    "#### Commenting on Code\n",
    "When looking at the code, you will notice that there is a box made out of number signs. This is not part of the working code. They are comments to submerize the function of the static method. The first heading contains the second while \"@Args\" describes the inputed variables in the function and \"@Returns\" describes the output numbers after being passed through the function."
   ]
  },
  {
   "cell_type": "code",
   "execution_count": 2,
   "metadata": {},
   "outputs": [],
   "source": [
    "class LogarithmLaw(metaclass=ABCMeta):\n",
    "    x = None\n",
    "    axis = None\n",
    "    M = None\n",
    "    N = None\n",
    "    @abstractmethod\n",
    "    def create_graph():\n",
    "        pass\n",
    "    @abstractmethod\n",
    "    def clear_display():\n",
    "        pass\n",
    "    @abstractmethod\n",
    "    def xv():\n",
    "        pass\n",
    "    @abstractmethod\n",
    "    def Mv():\n",
    "        pass\n",
    "    @abstractmethod\n",
    "    def Nv():\n",
    "        pass\n",
    "    \n",
    "class Logarithm:\n",
    "    #############################################\n",
    "    #     Description: stores all functions that will be using as shortcuts when graphing functions.\n",
    "    #############################################\n",
    "    \n",
    "    @staticmethod\n",
    "    def log(m,b,x):\n",
    "        #########################################\n",
    "        #   Function: y= log(mx)\n",
    "        #   \n",
    "        #   @Args:\n",
    "        #   m: constant inside the logarithm\n",
    "        #   b: base of the logarithm\n",
    "        #   x: vector with all of the x-coordinates\n",
    "        #\n",
    "        #   @Returns:\n",
    "        #   y: y-coordinates of the graph based on the x-coordinates and function\n",
    "        #\n",
    "        #########################################\n",
    "        i=x*m\n",
    "        return [log(y,b) for y in i]\n",
    "\n",
    "    @staticmethod\n",
    "    def log_exp(r,m,b,x):\n",
    "        #########################################\n",
    "        #   Function: y=log((mx)^r)\n",
    "        #   \n",
    "        #   @Args:\n",
    "        #   m: constant inside the logarithm\n",
    "        #   b: base of the logarithm\n",
    "        #   x: vector with all of the x-coordinates\n",
    "        #   r: exponent within the logarith\n",
    "        #\n",
    "        #   @Returns:\n",
    "        #   y: y-coordinates of the graph based on the x-coordinates and function\n",
    "        #\n",
    "        #########################################\n",
    "        x= (x*m)**r\n",
    "        return [log(y,b) for y in x]\n",
    "\n",
    "    @staticmethod\n",
    "    def constant_x_log(r,m,b,x):\n",
    "        #########################################\n",
    "        #   Function: y=r*log(mx)\n",
    "        #   \n",
    "        #   @Args:\n",
    "        #   r: constant multiplied by the logarithm\n",
    "        #   m: constant inside the logarithm\n",
    "        #   b: base of the logarithm\n",
    "        #   x: vector with all of the x-coordinates\n",
    "        #\n",
    "        #   @Returns:\n",
    "        #   y: y-coordinates of the graph based on the x-coordinates and function\n",
    "        #\n",
    "        #########################################\n",
    "        x= x*m\n",
    "        return [r*log(y,b) for y in x]\n",
    "\n",
    "    @staticmethod\n",
    "    def division_of_logs(m,n,b,x):\n",
    "        #########################################\n",
    "        #   Function: y=log_m(nx)/log_b(nx)\n",
    "        #   \n",
    "        #   @Args:\n",
    "        #   m: base of logarithm in the numerator\n",
    "        #   b: base of logarithm in the denominator\n",
    "        #   n: constant inside each logarithm\n",
    "        #   x: vector with all of the x-coordinates\n",
    "        #\n",
    "        #   @Returns:\n",
    "        #   y: y-coordinates of the graph based on the x-coordinates and function\n",
    "        #\n",
    "        #########################################\n",
    "        y1=Logarithm.log(m,n,x)\n",
    "        y2=Logarithm.log(b,n,x)\n",
    "        y=np.divide(y1,y2)\n",
    "        return y"
   ]
  },
  {
   "cell_type": "markdown",
   "metadata": {},
   "source": [
    "### Defining Variables\n",
    "Varibales are always defined near the beginnning of the code so that they can be easily changed. In this case, the variables are numbers that will be used as constants in graphical proofs. According to the logarim laws, the value of the variables should be irrelevant. "
   ]
  },
  {
   "cell_type": "code",
   "execution_count": 3,
   "metadata": {},
   "outputs": [],
   "source": [
    "#########################################\n",
    "# Variables:\n",
    "# base - Value of the base of the logarithms\n",
    "#      - Over the coarse of the program, we will set the base to be 10.\n",
    "#########################################\n",
    "\n",
    "base=10\n",
    "x=np.linspace(1,10)"
   ]
  },
  {
   "cell_type": "markdown",
   "metadata": {},
   "source": [
    "## <span style=\"color:blue\"> Product Law\n",
    "The first law we are looking at is the Product Law. This is used when finding the sum of two logarithmic functions with the same base. The law states that \n",
    "\n",
    "- $\\log_{B}(xy)=\\log_{B}x+\\log_{B}y$.\n",
    "\n",
    "\n",
    "### An example\n",
    "\n",
    "- $\\log(100\\times 1000) = \\log(100) + \\log(1000)$ or equivalently\n",
    "- $\\log(100,000) = 5 = 2 + 3.$\n",
    "\n",
    "### Mathematical proof\n",
    "We will look at the mathematical proof. It may look complicated, however, it can simply be broken down. First we fix quantities $x,y$ and then define\n",
    "- $m=\\log_B x$ and  $n=\\log_B y$.\n",
    "\n",
    "The equivalent exponential forms are \n",
    "- $B^m=x$ and $B^n=y$.\n",
    "\n",
    "We take the product of these two equations to obtain\n",
    "- $B^m \\times B^n=x \\times y$, \n",
    "\n",
    "and from the Exponential Law (1), we can get the equivalent expression\n",
    "- $B^{m+n}=x \\times y$.\n",
    "\n",
    "We  apply log to both sides\n",
    "- $\\log_B(B^{m+n})=\\log_B(x \\times y),$ \n",
    "\n",
    "and then by the definition of a logarithm, we have  \n",
    "- $m+n=\\log_B(x \\times y)$.\n",
    "\n",
    "Since we know $ m=\\log_B x$ and $ n=\\log_B y$, we obtain\n",
    "- $\\log_{B}x+\\log_{B}y = \\log_{B}(x \\times y).$\n",
    "\n",
    "That completes the mathematical proof of the product law."
   ]
  },
  {
   "cell_type": "markdown",
   "metadata": {},
   "source": [
    "### Graphical Proof\n",
    "In order to start the graphical proof, we will be using the base value that will be set to 10. The values for $x$ and $y$ are subject to change in order to show that the proof is always valid. 3 functions will be graphed. This includes the functions both on the left and right hand side of the equation for Product Law. At any given x point, we can see that the sum of the 2 points on the right hand side are equal to the left hand side of the equation. The following code graphs the 3 functions and analysis the resulting y values at any given x location. Theoretically, the sum of the y values of the 2 functions on the right hand side of the equation should be equal to the value on the left hand side of this equation. Theoretically, if this is always the case, then Product Law is valid."
   ]
  },
  {
   "cell_type": "code",
   "execution_count": 4,
   "metadata": {},
   "outputs": [
    {
     "data": {
      "application/vnd.jupyter.widget-view+json": {
       "model_id": "0603f2f0b6944383a0a4e9b1e86061d5",
       "version_major": 2,
       "version_minor": 0
      },
      "text/html": [
       "<p>Failed to display Jupyter Widget of type <code>IntSlider</code>.</p>\n",
       "<p>\n",
       "  If you're reading this message in the Jupyter Notebook or JupyterLab Notebook, it may mean\n",
       "  that the widgets JavaScript is still loading. If this message persists, it\n",
       "  likely means that the widgets JavaScript library is either not installed or\n",
       "  not enabled. See the <a href=\"https://ipywidgets.readthedocs.io/en/stable/user_install.html\">Jupyter\n",
       "  Widgets Documentation</a> for setup instructions.\n",
       "</p>\n",
       "<p>\n",
       "  If you're reading this message in another frontend (for example, a static\n",
       "  rendering on GitHub or <a href=\"https://nbviewer.jupyter.org/\">NBViewer</a>),\n",
       "  it may mean that your frontend doesn't currently support widgets.\n",
       "</p>\n"
      ],
      "text/plain": [
       "IntSlider(value=5, continuous_update=False, description='x-coordinate', max=10, min=1)"
      ]
     },
     "metadata": {},
     "output_type": "display_data"
    },
    {
     "data": {
      "application/vnd.jupyter.widget-view+json": {
       "model_id": "297e35775e95458faea92fbb81466fba",
       "version_major": 2,
       "version_minor": 0
      },
      "text/html": [
       "<p>Failed to display Jupyter Widget of type <code>IntSlider</code>.</p>\n",
       "<p>\n",
       "  If you're reading this message in the Jupyter Notebook or JupyterLab Notebook, it may mean\n",
       "  that the widgets JavaScript is still loading. If this message persists, it\n",
       "  likely means that the widgets JavaScript library is either not installed or\n",
       "  not enabled. See the <a href=\"https://ipywidgets.readthedocs.io/en/stable/user_install.html\">Jupyter\n",
       "  Widgets Documentation</a> for setup instructions.\n",
       "</p>\n",
       "<p>\n",
       "  If you're reading this message in another frontend (for example, a static\n",
       "  rendering on GitHub or <a href=\"https://nbviewer.jupyter.org/\">NBViewer</a>),\n",
       "  it may mean that your frontend doesn't currently support widgets.\n",
       "</p>\n"
      ],
      "text/plain": [
       "IntSlider(value=6, continuous_update=False, description='$x$ value', max=10, min=1)"
      ]
     },
     "metadata": {},
     "output_type": "display_data"
    },
    {
     "data": {
      "application/vnd.jupyter.widget-view+json": {
       "model_id": "0051603e22b340ceb0bf244a25d2f56c",
       "version_major": 2,
       "version_minor": 0
      },
      "text/html": [
       "<p>Failed to display Jupyter Widget of type <code>IntSlider</code>.</p>\n",
       "<p>\n",
       "  If you're reading this message in the Jupyter Notebook or JupyterLab Notebook, it may mean\n",
       "  that the widgets JavaScript is still loading. If this message persists, it\n",
       "  likely means that the widgets JavaScript library is either not installed or\n",
       "  not enabled. See the <a href=\"https://ipywidgets.readthedocs.io/en/stable/user_install.html\">Jupyter\n",
       "  Widgets Documentation</a> for setup instructions.\n",
       "</p>\n",
       "<p>\n",
       "  If you're reading this message in another frontend (for example, a static\n",
       "  rendering on GitHub or <a href=\"https://nbviewer.jupyter.org/\">NBViewer</a>),\n",
       "  it may mean that your frontend doesn't currently support widgets.\n",
       "</p>\n"
      ],
      "text/plain": [
       "IntSlider(value=3, continuous_update=False, description='$y$ value', max=10, min=1)"
      ]
     },
     "metadata": {},
     "output_type": "display_data"
    },
    {
     "data": {
      "text/latex": [
       "When x=5 when $x$=6 and $y$=3"
      ],
      "text/plain": [
       "<IPython.core.display.Latex object>"
      ]
     },
     "metadata": {},
     "output_type": "display_data"
    },
    {
     "data": {
      "text/latex": [
       "From the marked y-coordinates on the graph above, the points at log(6$x$), log(3$x$) and log(18$x^2$) are at 1.477, 1.176 and 2.653 repectively"
      ],
      "text/plain": [
       "<IPython.core.display.Latex object>"
      ]
     },
     "metadata": {},
     "output_type": "display_data"
    },
    {
     "data": {
      "text/latex": [
       "1.477+1.176=2.653"
      ],
      "text/plain": [
       "<IPython.core.display.Latex object>"
      ]
     },
     "metadata": {},
     "output_type": "display_data"
    },
    {
     "data": {
      "text/latex": [
       "2.653=2.653"
      ],
      "text/plain": [
       "<IPython.core.display.Latex object>"
      ]
     },
     "metadata": {},
     "output_type": "display_data"
    },
    {
     "data": {
      "text/latex": [
       "This means that the left side of the equation equals the right side"
      ],
      "text/plain": [
       "<IPython.core.display.Latex object>"
      ]
     },
     "metadata": {},
     "output_type": "display_data"
    },
    {
     "data": {
      "text/latex": [
       "thus"
      ],
      "text/plain": [
       "<IPython.core.display.Latex object>"
      ]
     },
     "metadata": {},
     "output_type": "display_data"
    },
    {
     "data": {
      "text/latex": [
       "$\\log_{B}x+\\log_{B}y = \\log_{B}(x \\times y)$"
      ],
      "text/plain": [
       "<IPython.core.display.Latex object>"
      ]
     },
     "metadata": {},
     "output_type": "display_data"
    },
    {
     "data": {
      "image/png": "[encoded data removed]",
      "text/plain": [
       "<matplotlib.figure.Figure at 0x7fb58d310438>"
      ]
     },
     "metadata": {},
     "output_type": "display_data"
    }
   ],
   "source": [
    "class ProductLaw(LogarithmLaw):\n",
    "    # Create 2x2 sub plots\n",
    "    gs = gridspec.GridSpec(2, 2)\n",
    "    \n",
    "    axis=5\n",
    "    x=6\n",
    "    y=3\n",
    "\n",
    "    def create_graph():\n",
    "\n",
    "        #########################################\n",
    "        # Description: generates a graph in order to prove Product Law\n",
    "        #\n",
    "        # @Args: Inputs are for the variables shown in Quotient Law\n",
    "        #        x-coordinate: based on a sliding bar in range 1-10\n",
    "        #        M constant: based on a sliding bar in range 1-10\n",
    "        #        N constant: based on a sliding bar in range 1-10\n",
    "        #\n",
    "        # @Return: graph for graphical proof as well as the y-coordinate corresponding to the graphed points\n",
    "        #\n",
    "        #########################################\n",
    "\n",
    "        #Plot the 3 log functions from the left and right side of the Product Law\n",
    "        ax1 = plt.subplot(ProductLaw.gs[0, 1]) # row 0, col 0\n",
    "        ax1.plot(x,Logarithm.log(ProductLaw.x,base,x),'-b',label='$y=\\log_{B}(x)$')\n",
    "        p1=log(ProductLaw.x*ProductLaw.axis,base)\n",
    "        ax1.plot(ProductLaw.axis,p1,'ob')\n",
    "        ax1.annotate('%1.3f' %p1,xy=(ProductLaw.axis,p1),xytext=(-10,-20),textcoords='offset points')\n",
    "        ax1.set_title('Right side of Product law')\n",
    "        plt.ylabel('$y=\\log_{B}(Mx)$')\n",
    "        ax1.yaxis.set_label_position(\"right\")\n",
    "        plt.grid()\n",
    "\n",
    "        ax2 = plt.subplot(ProductLaw.gs[1, 1])\n",
    "        ax2.plot(x,Logarithm.log(ProductLaw.y,base,x),'-g',label='$y=\\log_{B}(y)$')\n",
    "        p2=log(ProductLaw.y*ProductLaw.axis,base)\n",
    "        ax2.plot(ProductLaw.axis,p2,'og')\n",
    "        ax2.annotate('%1.3f' %p2,xy=(ProductLaw.axis,p2),xytext=(-10,-20),textcoords='offset points')\n",
    "        plt.ylabel('$y=\\log_{B}(Nx)$')\n",
    "        ax2.yaxis.set_label_position(\"right\")\n",
    "        plt.xlabel('x')\n",
    "        plt.grid()\n",
    "\n",
    "        ax3 = plt.subplot(ProductLaw.gs[:, 0])\n",
    "        ax3.plot(x,Logarithm.log(ProductLaw.x*ProductLaw.y,base,x**2),'-r',label='$y=\\log_{B}(xy)$')\n",
    "        p3=log(ProductLaw.x*ProductLaw.y*(ProductLaw.axis**2),base)\n",
    "        ax3.plot(ProductLaw.axis,p3,'or')\n",
    "        ax3.annotate('%1.3f' %p3,xy=(ProductLaw.axis,p3),xytext=(-10,-20),textcoords='offset points')\n",
    "        ax3.set_title('Left side of Product Law')\n",
    "        plt.ylabel('$y=\\log_{B}(MNx^2)$')\n",
    "        plt.xlabel('x')\n",
    "        plt.grid()\n",
    "        \n",
    "\n",
    "        display(Latex('When x={0:1d} when $x$={1:1d} and $y$={2:1d}'.format(ProductLaw.axis,ProductLaw.x,ProductLaw.y)))\n",
    "\n",
    "        #Display the value of the points to prove that the law is valid\n",
    "        display(Latex('From the marked y-coordinates on the graph above, the points at log({0:1d}$x$), log({1:1d}$x$) and log({2:1d}$x^2$) are at {3:1.3f}, {4:1.3f} and {5:1.3f} repectively'.format(ProductLaw.x,ProductLaw.y,ProductLaw.x*ProductLaw.y,p1, p2, p3)))\n",
    "        display(Latex('{0:1.3f}+{1:1.3f}={2:1.3f}'.format(p1,p2,p1+p2)))\n",
    "        display(Latex('{0:1.3f}={1:1.3f}'.format(p3,p3)))\n",
    "        display(Latex('This means that the left side of the equation equals the right side'))\n",
    "        display(Latex('thus'))\n",
    "        display(Latex(r'$\\log_{B}x+\\log_{B}y = \\log_{B}(x \\times y)$'))\n",
    "\n",
    "    def clear_display():  \n",
    "        clear_output(wait=True)\n",
    "        display(x_axis_bar)\n",
    "        display(x_bar)\n",
    "        display(y_bar)\n",
    "        ProductLaw.create_graph()\n",
    "        \n",
    "    def xv(value):\n",
    "        ProductLaw.axis=value['new']\n",
    "        ProductLaw.clear_display()\n",
    "        \n",
    "    def x_barv(value):\n",
    "        ProductLaw.x=value['new']\n",
    "        ProductLaw.clear_display()\n",
    "        \n",
    "    def y_barv(value):\n",
    "        ProductLaw.y=value['new']\n",
    "        ProductLaw.clear_display()\n",
    "\n",
    "x_axis_bar = widgets.IntSlider(\n",
    "    value=5,\n",
    "    min=1,\n",
    "    max=10,\n",
    "    step=1,\n",
    "    description='x-coordinate',\n",
    "    disabled=False,\n",
    "    continuous_update=False,\n",
    "    orientation='horizontal',\n",
    "    readout=True,\n",
    "    readout_format='d'\n",
    ")       \n",
    "\n",
    "x_bar = widgets.IntSlider(\n",
    "    value=ProductLaw.x,\n",
    "    min=1,\n",
    "    max=10,\n",
    "    step=1,\n",
    "    description='$x$ value',\n",
    "    disabled=False,\n",
    "    continuous_update=False,\n",
    "    orientation='horizontal',\n",
    "    readout=True,\n",
    "    readout_format='d'\n",
    ")            \n",
    "\n",
    "y_bar = widgets.IntSlider(\n",
    "    value=ProductLaw.y,\n",
    "    min=1,\n",
    "    max=10,\n",
    "    step=1,\n",
    "    description='$y$ value',\n",
    "    disabled=False,\n",
    "    continuous_update=False,\n",
    "    orientation='horizontal',\n",
    "    readout=True,\n",
    "    readout_format='d'\n",
    ")    \n",
    "\n",
    "\n",
    "ProductLaw.clear_display()\n",
    "x_axis_bar.observe(ProductLaw.xv, names='value')\n",
    "x_bar.observe(ProductLaw.x_barv, names='value')\n",
    "y_bar.observe(ProductLaw.y_barv, names='value')\n",
    "\n"
   ]
  },
  {
   "cell_type": "markdown",
   "metadata": {},
   "source": [
    "### Results\n",
    "During the mathematical proof, we  used the relationship between logarithms and exponents in order to derive Product Law. Based on the values recorded during the graphical proof, we can see that at any inputed x-coordinates, the left hand side of the law is equivalent to sum of the two functions on the right hand side. This analysis can validate Product Law."
   ]
  },
  {
   "cell_type": "markdown",
   "metadata": {},
   "source": [
    "## <span style=\"color:blue\"> Quotient Law\n",
    "The next law we will be looking at is the Quotient Law. This is used when finding the difference of two logarithmic functions. The law states that\n",
    "- $\\log_{B}(x \\div y)=\\log_{B}x -\\log_{B}y$.\n",
    "\n",
    "### An example\n",
    "- $\\log(1000 \\div 100) = \\log(1000) - \\log(100)$ or equivalently\n",
    "- $\\log(10) = 1 = 3 -2.$\n",
    "\n",
    "### Mathematical proof\n",
    "Let's create a proof of the Quotient law.\n",
    "\n",
    "First, fix quantities $x$ and $y$ and define the values \n",
    "- $ m = \\log_B x$ and $ n = \\log_B y.$\n",
    "\n",
    "The equivalent exponential forms are\n",
    "- $B^m= x$ and $B^n = y$.\n",
    "\n",
    "Divide these two equations to obtain: <br />\n",
    "- $B^m \\div B^n = x \\div y.$\n",
    "\n",
    "Using Exponential Law (2), the above equation is equivalent to: <br />\n",
    "- $B^{m-n}=x \\div y.$\n",
    "\n",
    "Taking logs, we have\n",
    "- $\\log_{B}(B^{m-n}) = \\log_B(x\\div y) $ which becomes\n",
    "- $m - n = \\log_{B}(x \\div y).$\n",
    "\n",
    "Recalling our definition of m,n this becomes\n",
    "- $\\log_B x - \\log_B y = \\log_B(x\\div y),$\n",
    "\n",
    "which completes the proof of the Quotient Law.\n",
    "\n",
    "\n",
    "### Graphical Proof\n",
    "We will graph all of the functions in the equation based on the previouslly defined variables. From the right side, we will graph $y=\\log_B(x)$ and $y=\\log_B(y)$. From the left side, we will graph $y=\\log_B\\left(\\frac{x}{y}\\right)$. It is expected that at any given x-coordinate, the difference between the respected y coordinates on the right side should be equivalent to the corresponding point on the function from the left side of the equation. Theoretically, if this equality proves to be true at all x points, then Quotient Law is valid."
   ]
  },
  {
   "cell_type": "code",
   "execution_count": 5,
   "metadata": {
    "scrolled": true
   },
   "outputs": [
    {
     "data": {
      "application/vnd.jupyter.widget-view+json": {
       "model_id": "74da67dfc79b42b4a04b4181a4f8d772",
       "version_major": 2,
       "version_minor": 0
      },
      "text/html": [
       "<p>Failed to display Jupyter Widget of type <code>IntSlider</code>.</p>\n",
       "<p>\n",
       "  If you're reading this message in the Jupyter Notebook or JupyterLab Notebook, it may mean\n",
       "  that the widgets JavaScript is still loading. If this message persists, it\n",
       "  likely means that the widgets JavaScript library is either not installed or\n",
       "  not enabled. See the <a href=\"https://ipywidgets.readthedocs.io/en/stable/user_install.html\">Jupyter\n",
       "  Widgets Documentation</a> for setup instructions.\n",
       "</p>\n",
       "<p>\n",
       "  If you're reading this message in another frontend (for example, a static\n",
       "  rendering on GitHub or <a href=\"https://nbviewer.jupyter.org/\">NBViewer</a>),\n",
       "  it may mean that your frontend doesn't currently support widgets.\n",
       "</p>\n"
      ],
      "text/plain": [
       "IntSlider(value=5, continuous_update=False, description='x-coordinate', max=10, min=1)"
      ]
     },
     "metadata": {},
     "output_type": "display_data"
    },
    {
     "data": {
      "application/vnd.jupyter.widget-view+json": {
       "model_id": "997affbfb161498fbb65cc4ee1860c49",
       "version_major": 2,
       "version_minor": 0
      },
      "text/html": [
       "<p>Failed to display Jupyter Widget of type <code>IntSlider</code>.</p>\n",
       "<p>\n",
       "  If you're reading this message in the Jupyter Notebook or JupyterLab Notebook, it may mean\n",
       "  that the widgets JavaScript is still loading. If this message persists, it\n",
       "  likely means that the widgets JavaScript library is either not installed or\n",
       "  not enabled. See the <a href=\"https://ipywidgets.readthedocs.io/en/stable/user_install.html\">Jupyter\n",
       "  Widgets Documentation</a> for setup instructions.\n",
       "</p>\n",
       "<p>\n",
       "  If you're reading this message in another frontend (for example, a static\n",
       "  rendering on GitHub or <a href=\"https://nbviewer.jupyter.org/\">NBViewer</a>),\n",
       "  it may mean that your frontend doesn't currently support widgets.\n",
       "</p>\n"
      ],
      "text/plain": [
       "IntSlider(value=6, continuous_update=False, description='M value', max=10, min=1)"
      ]
     },
     "metadata": {},
     "output_type": "display_data"
    },
    {
     "data": {
      "application/vnd.jupyter.widget-view+json": {
       "model_id": "52cff912ca5043e09eb1e2cb724d43d6",
       "version_major": 2,
       "version_minor": 0
      },
      "text/html": [
       "<p>Failed to display Jupyter Widget of type <code>IntSlider</code>.</p>\n",
       "<p>\n",
       "  If you're reading this message in the Jupyter Notebook or JupyterLab Notebook, it may mean\n",
       "  that the widgets JavaScript is still loading. If this message persists, it\n",
       "  likely means that the widgets JavaScript library is either not installed or\n",
       "  not enabled. See the <a href=\"https://ipywidgets.readthedocs.io/en/stable/user_install.html\">Jupyter\n",
       "  Widgets Documentation</a> for setup instructions.\n",
       "</p>\n",
       "<p>\n",
       "  If you're reading this message in another frontend (for example, a static\n",
       "  rendering on GitHub or <a href=\"https://nbviewer.jupyter.org/\">NBViewer</a>),\n",
       "  it may mean that your frontend doesn't currently support widgets.\n",
       "</p>\n"
      ],
      "text/plain": [
       "IntSlider(value=8, continuous_update=False, description='$y$ value', max=10, min=1)"
      ]
     },
     "metadata": {},
     "output_type": "display_data"
    },
    {
     "data": {
      "text/latex": [
       "When x=5 and $x$= 6 and $y$= 8"
      ],
      "text/plain": [
       "<IPython.core.display.Latex object>"
      ]
     },
     "metadata": {},
     "output_type": "display_data"
    },
    {
     "data": {
      "text/latex": [
       "The y-coordinates at log(6$x$), log(8$x$) and log(1) are at 1.477, 1.602 and -0.125 repectively"
      ],
      "text/plain": [
       "<IPython.core.display.Latex object>"
      ]
     },
     "metadata": {},
     "output_type": "display_data"
    },
    {
     "data": {
      "text/latex": [
       "1.477-1.602=-0.125"
      ],
      "text/plain": [
       "<IPython.core.display.Latex object>"
      ]
     },
     "metadata": {},
     "output_type": "display_data"
    },
    {
     "data": {
      "text/latex": [
       "thus"
      ],
      "text/plain": [
       "<IPython.core.display.Latex object>"
      ]
     },
     "metadata": {},
     "output_type": "display_data"
    },
    {
     "data": {
      "text/latex": [
       "$\\log_B x - \\log_B y = \\log_B(x\\div y)$"
      ],
      "text/plain": [
       "<IPython.core.display.Latex object>"
      ]
     },
     "metadata": {},
     "output_type": "display_data"
    },
    {
     "data": {
      "image/png": "[encoded data removed]",
      "text/plain": [
       "<matplotlib.figure.Figure at 0x7fb58af05358>"
      ]
     },
     "metadata": {},
     "output_type": "display_data"
    }
   ],
   "source": [
    "class QuotientLaw():\n",
    "   \n",
    "    # Create 2x2 sub plots\n",
    "    gs = gridspec.GridSpec(2, 2)\n",
    "    \n",
    "    axis=5\n",
    "    x=6\n",
    "    y=3\n",
    "    \n",
    "    def create_graph():\n",
    "\n",
    "        #########################################\n",
    "        # Description: generates a graph in order to prove Quotient Law\n",
    "        #\n",
    "        # @Args: Inputs are for the variables shown in Quotient Law\n",
    "        #        x-coordinate: based on a sliding bar in range 1-10\n",
    "        #        M constant: based on a sliding bar in range 1-10\n",
    "        #        N constant: based on a sliding bar in range 1-10\n",
    "        #\n",
    "        # @Return: graph for graphical proof as well as the y-coordinate corresponding to the graphed points\n",
    "        #\n",
    "        #########################################\n",
    "        \n",
    "        y_value=np.linspace(QuotientLaw.x/QuotientLaw.y,QuotientLaw.x/QuotientLaw.y)\n",
    "        \n",
    "        #Plot the 3 log functions from the left and right side of the Product Law\n",
    "        ax1 = plt.subplot(QuotientLaw.gs[0, 1]) # row 0, col 0\n",
    "        ax1.plot(x,Logarithm.log(QuotientLaw.x,base,x),'-b')\n",
    "        p1=log(QuotientLaw.x*QuotientLaw.axis,base)\n",
    "        ax1.plot(QuotientLaw.axis,p1,'ob')\n",
    "        ax1.annotate('%1.3f' %p1,xy=(QuotientLaw.axis,p1),xytext=(-10,-20),textcoords='offset points')\n",
    "        ax1.set_title('Right side of Quotient Law')\n",
    "        plt.ylabel('$y=\\log_{B}(x)$')\n",
    "        ax1.yaxis.set_label_position(\"right\")\n",
    "        plt.grid()\n",
    "\n",
    "        ax2 = plt.subplot(QuotientLaw.gs[1, 1])\n",
    "        ax2.plot(x,Logarithm.log(QuotientLaw.y,base,x),'-g')\n",
    "        p2=log(QuotientLaw.y*QuotientLaw.axis,base)\n",
    "        ax2.plot(QuotientLaw.axis,p2,'og')\n",
    "        ax2.annotate('%1.3f' %p2,xy=(QuotientLaw.axis,p2),xytext=(-10,-20),textcoords='offset points')\n",
    "        plt.ylabel('$y=\\log_{B}(y)$')\n",
    "        ax2.yaxis.set_label_position(\"right\")\n",
    "        plt.xlabel('x')\n",
    "        plt.grid()\n",
    "\n",
    "        ax3 = plt.subplot(QuotientLaw.gs[:, 0])\n",
    "        ax3.plot(x,Logarithm.log(1,base,y_value),'-r')\n",
    "        p3=log(QuotientLaw.x/QuotientLaw.y,base)\n",
    "        ax3.plot(QuotientLaw.axis,p3,'or')\n",
    "        ax3.annotate('%1.3f' %p3,xy=(QuotientLaw.axis,p3),xytext=(-10,-20),textcoords='offset points')\n",
    "        ax3.set_title('Left side of Quotient Law')\n",
    "        plt.ylabel('$y=\\log_{B}(MNx^2)$')\n",
    "        plt.xlabel('x')\n",
    "        plt.grid()\n",
    "        \n",
    "        \n",
    "        display(Latex('When x={0:1.0f} and $x$={1:2.0f} and $y$={2:2.0f}'.format(QuotientLaw.axis,QuotientLaw.x,QuotientLaw.y)))\n",
    "        display(Latex('The y-coordinates at log({0:1.0f}$x$), log({1:1.0f}$x$) and log({2:1.0f}) are at {3:1.3f}, {4:1.3f} and {5:1.3f} repectively'.format(QuotientLaw.x,QuotientLaw.y,QuotientLaw.x/QuotientLaw.y,p1, p2, p3)))\n",
    "        display(Latex('{0:1.3f}-{1:1.3f}={2:1.3f}'.format(p1,p2,p3)))\n",
    "        display(Latex('thus'))\n",
    "        display(Latex(r'$\\log_B x - \\log_B y = \\log_B(x\\div y)$'))\n",
    "    \n",
    "    def clear_display():\n",
    "        clear_output(wait=True)\n",
    "        display(x_axis_bar)\n",
    "        display(x_bar)\n",
    "        display(y_bar)\n",
    "        QuotientLaw.create_graph()\n",
    "        \n",
    "        \n",
    "\n",
    "    def x_value(value):\n",
    "        QuotientLaw.axis=value['new']\n",
    "        QuotientLaw.clear_display()\n",
    "        \n",
    "    def xv(value):\n",
    "        QuotientLaw.x=value['new']\n",
    "        QuotientLaw.clear_display()\n",
    "        \n",
    "    def yv(value):\n",
    "        QuotientLaw.y=value['new']\n",
    "        QuotientLaw.clear_display()\n",
    "\n",
    "x_axis_bar = widgets.IntSlider(\n",
    "    value=5,\n",
    "    min=1,\n",
    "    max=10,\n",
    "    step=1,\n",
    "    description='x-coordinate',\n",
    "    disabled=False,\n",
    "    continuous_update=False,\n",
    "    orientation='horizontal',\n",
    "    readout=True,\n",
    "    readout_format='d'\n",
    ")       \n",
    "\n",
    "x_bar = widgets.IntSlider(\n",
    "    value=QuotientLaw.x,\n",
    "    min=1,\n",
    "    max=10,\n",
    "    step=1,\n",
    "    description='$x$ value',\n",
    "    disabled=False,\n",
    "    continuous_update=False,\n",
    "    orientation='horizontal',\n",
    "    readout=True,\n",
    "    readout_format='d'\n",
    ")            \n",
    "\n",
    "y_bar = widgets.IntSlider(\n",
    "    value=QuotientLaw.y,\n",
    "    min=1,\n",
    "    max=10,\n",
    "    step=1,\n",
    "    description='$y$ value',\n",
    "    disabled=False,\n",
    "    continuous_update=False,\n",
    "    orientation='horizontal',\n",
    "    readout=True,\n",
    "    readout_format='d'\n",
    ")    \n",
    "\n",
    "\n",
    "QuotientLaw.clear_display()\n",
    "x_axis_bar.observe(QuotientLaw.x_value, names='value')\n",
    "x_bar.observe(QuotientLaw.xv, names='value')\n",
    "y_bar.observe(QuotientLaw.yv, names='value')\n"
   ]
  },
  {
   "cell_type": "markdown",
   "metadata": {},
   "source": [
    "### Result\n",
    "During the mathematical proof, we  used the relationship between logarithms and exponents as well as exponential laws in order to derive Quotient Law. When we look at the graphical proof, we can see that the functions on the right hand side both resemble very similar curves. On the left hand side of the law, we can see that the function remains as a constant number. This appears reasonable as the two curves appear to be a consistent distance apparent. From the combined evidence of the mathematical and graphical proofs, we can prove the accuracy of Quotient Laws."
   ]
  },
  {
   "cell_type": "markdown",
   "metadata": {},
   "source": [
    "## <span style=\"color:blue\"> Power Law\n",
    "The next law we will look at is power law. This is used in the case when there is an exponential power inside the logarithmic function. The law states that\n",
    "- $\\log_{B}(x^p)=p \\times \\log_B(x)$.\n",
    "\n",
    "### An example\n",
    "\n",
    "- $\\log(1000^2) = 2\\log(1000) $ or equivalently\n",
    "- $\\log(1,000,000) = 6 = 2 \\times 3.$\n",
    "\n",
    "### Mathematical Proof \n",
    "First we fix quantities $x$ and $p$ then define\n",
    "- $ m = \\log_B (x^p).$\n",
    "\n",
    "The equivalent exponential form is\n",
    "- $B^m=x^p$. \n",
    "\n",
    "Bring each side of the equation to the power of $1/p$ to obtain\n",
    "- $(B^m)^{\\frac{1}{p}}=(x^p)^{\\frac{1}{p}}.$ \n",
    "\n",
    "By using Exponential Law (3), we can multiply the exponents to the one inside the brackets to get\n",
    "- $B^{\\frac{m}{p}}= x.$ \n",
    "\n",
    "Apply the log function to both sides to get \n",
    "- $\\log_B(B^{\\frac{m}{p}})=\\log_B(x) $, resulting in \n",
    "- $\\frac{m}{p} = \\log_B(x).$\n",
    "\n",
    "Multiply by $p$ to obtain\n",
    "- $m = p \\times log_B(x),$ and recalling the definition of m, we have\n",
    "- $\\log_B(x^p) = p \\times \\log_B(x).$\n",
    "\n",
    "This completes the proof.\n",
    "\n",
    "\n",
    "\n",
    "### Graphical Proof\n",
    "In this case, there is one function on each the left and right hand sides of the law. For this reason 2 functions will be graphed. Since they are theoretically be equivalent to each other, we can expect that the functions will be identical on the graph. If this is seen on the graph, we can validate Power Law."
   ]
  },
  {
   "cell_type": "code",
   "execution_count": 6,
   "metadata": {},
   "outputs": [
    {
     "data": {
      "application/vnd.jupyter.widget-view+json": {
       "model_id": "74da67dfc79b42b4a04b4181a4f8d772",
       "version_major": 2,
       "version_minor": 0
      },
      "text/html": [
       "<p>Failed to display Jupyter Widget of type <code>IntSlider</code>.</p>\n",
       "<p>\n",
       "  If you're reading this message in the Jupyter Notebook or JupyterLab Notebook, it may mean\n",
       "  that the widgets JavaScript is still loading. If this message persists, it\n",
       "  likely means that the widgets JavaScript library is either not installed or\n",
       "  not enabled. See the <a href=\"https://ipywidgets.readthedocs.io/en/stable/user_install.html\">Jupyter\n",
       "  Widgets Documentation</a> for setup instructions.\n",
       "</p>\n",
       "<p>\n",
       "  If you're reading this message in another frontend (for example, a static\n",
       "  rendering on GitHub or <a href=\"https://nbviewer.jupyter.org/\">NBViewer</a>),\n",
       "  it may mean that your frontend doesn't currently support widgets.\n",
       "</p>\n"
      ],
      "text/plain": [
       "IntSlider(value=5, continuous_update=False, description='x-coordinate', max=10, min=1)"
      ]
     },
     "metadata": {},
     "output_type": "display_data"
    },
    {
     "data": {
      "application/vnd.jupyter.widget-view+json": {
       "model_id": "997affbfb161498fbb65cc4ee1860c49",
       "version_major": 2,
       "version_minor": 0
      },
      "text/html": [
       "<p>Failed to display Jupyter Widget of type <code>IntSlider</code>.</p>\n",
       "<p>\n",
       "  If you're reading this message in the Jupyter Notebook or JupyterLab Notebook, it may mean\n",
       "  that the widgets JavaScript is still loading. If this message persists, it\n",
       "  likely means that the widgets JavaScript library is either not installed or\n",
       "  not enabled. See the <a href=\"https://ipywidgets.readthedocs.io/en/stable/user_install.html\">Jupyter\n",
       "  Widgets Documentation</a> for setup instructions.\n",
       "</p>\n",
       "<p>\n",
       "  If you're reading this message in another frontend (for example, a static\n",
       "  rendering on GitHub or <a href=\"https://nbviewer.jupyter.org/\">NBViewer</a>),\n",
       "  it may mean that your frontend doesn't currently support widgets.\n",
       "</p>\n"
      ],
      "text/plain": [
       "IntSlider(value=6, continuous_update=False, description='M value', max=10, min=1)"
      ]
     },
     "metadata": {},
     "output_type": "display_data"
    },
    {
     "data": {
      "application/vnd.jupyter.widget-view+json": {
       "model_id": "06ec4c5ed5e24869b3520a68626d98e2",
       "version_major": 2,
       "version_minor": 0
      },
      "text/html": [
       "<p>Failed to display Jupyter Widget of type <code>IntSlider</code>.</p>\n",
       "<p>\n",
       "  If you're reading this message in the Jupyter Notebook or JupyterLab Notebook, it may mean\n",
       "  that the widgets JavaScript is still loading. If this message persists, it\n",
       "  likely means that the widgets JavaScript library is either not installed or\n",
       "  not enabled. See the <a href=\"https://ipywidgets.readthedocs.io/en/stable/user_install.html\">Jupyter\n",
       "  Widgets Documentation</a> for setup instructions.\n",
       "</p>\n",
       "<p>\n",
       "  If you're reading this message in another frontend (for example, a static\n",
       "  rendering on GitHub or <a href=\"https://nbviewer.jupyter.org/\">NBViewer</a>),\n",
       "  it may mean that your frontend doesn't currently support widgets.\n",
       "</p>\n"
      ],
      "text/plain": [
       "IntSlider(value=2, continuous_update=False, description='R value', max=10, min=1)"
      ]
     },
     "metadata": {},
     "output_type": "display_data"
    },
    {
     "data": {
      "text/latex": [
       "at x=5"
      ],
      "text/plain": [
       "<IPython.core.display.Latex object>"
      ]
     },
     "metadata": {},
     "output_type": "display_data"
    },
    {
     "data": {
      "text/latex": [
       "We can see that the y-coordinates are labeled on the graph. At the points log($6^2x$) and 2 $\\times$ log(6$x$) the y-coordinates are 2.954 and 2.954 repectively"
      ],
      "text/plain": [
       "<IPython.core.display.Latex object>"
      ]
     },
     "metadata": {},
     "output_type": "display_data"
    },
    {
     "data": {
      "text/latex": [
       "2.954=2.954"
      ],
      "text/plain": [
       "<IPython.core.display.Latex object>"
      ]
     },
     "metadata": {},
     "output_type": "display_data"
    },
    {
     "data": {
      "text/latex": [
       "thus"
      ],
      "text/plain": [
       "<IPython.core.display.Latex object>"
      ]
     },
     "metadata": {},
     "output_type": "display_data"
    },
    {
     "data": {
      "text/latex": [
       "$\\log_{B}(x^p)=p \\times \\log_B(x)$"
      ],
      "text/plain": [
       "<IPython.core.display.Latex object>"
      ]
     },
     "metadata": {},
     "output_type": "display_data"
    },
    {
     "data": {
      "image/png": "[encoded data removed]",
      "text/plain": [
       "<matplotlib.figure.Figure at 0x7fb58af67320>"
      ]
     },
     "metadata": {},
     "output_type": "display_data"
    }
   ],
   "source": [
    "class PowerLaw():\n",
    "    # Create 2x2 sub plots\n",
    "    gs = gridspec.GridSpec(1, 2)\n",
    "    x=np.linspace(1,10)\n",
    "    axis=5\n",
    "    x=6\n",
    "    p=2\n",
    "\n",
    "    def create_graph():\n",
    "\n",
    "        #########################################\n",
    "        # Description: generates a graph in order to prove Power Law\n",
    "        #\n",
    "        # @Args: Inputs are for the variables shown in Power Law\n",
    "        #        x-coordinate: based on a sliding bar in range 1-10\n",
    "        #        M constant: based on a sliding bar in range 1-10\n",
    "        #        N constant: based on a sliding bar in range 1-10\n",
    "        #        R exponential constant: based on a sliding bar in range 1-10\n",
    "        #\n",
    "        # @Return: graph for graphical proof as well as the y-coordinate corresponding to the graphed points\n",
    "        #\n",
    "        #########################################\n",
    "\n",
    "        #Plot the 3 log functions from the left and right side of the Product Law\n",
    "        ax1 = plt.subplot(PowerLaw.gs[0,1]) # row 0, col 0\n",
    "        ax1.plot(x,Logarithm.log_exp(PowerLaw.p,PowerLaw.x,base,x),'-g')\n",
    "        p1=log((PowerLaw.x*PowerLaw.axis)**PowerLaw.p,base)\n",
    "        ax1.plot(PowerLaw.axis,p1,'ob')\n",
    "        ax1.annotate('%1.3f' %p1,xy=(PowerLaw.axis,p1),xytext=(-10,-20),textcoords='offset points')\n",
    "        ax1.set_title('Right side of Power law')\n",
    "        plt.ylabel('$y=\\log_{B}(Mx)$')\n",
    "        ax1.yaxis.set_label_position(\"right\")\n",
    "        plt.xlabel('x')\n",
    "        plt.grid()\n",
    "\n",
    "        ax2 = plt.subplot(PowerLaw.gs[0, 0])\n",
    "        ax2.plot(x,Logarithm.constant_x_log(PowerLaw.p,PowerLaw.x,base,x),'-b')\n",
    "        p2=PowerLaw.p*log(PowerLaw.x*PowerLaw.axis,base)\n",
    "        ax2.plot(ProductLaw.axis,p2,'og')\n",
    "        ax2.annotate('%1.3f' %p2,xy=(ProductLaw.axis,p2),xytext=(-10,-20),textcoords='offset points')\n",
    "        plt.ylabel('$y=\\log_{B}(Nx)$')\n",
    "        ax2.yaxis.set_label_position(\"left\")\n",
    "        ax2.set_title('Left side of Power Law')\n",
    "        plt.xlabel('x')\n",
    "        plt.grid()\n",
    "        \n",
    "        display(Latex('at x={0:1d}'.format(PowerLaw.axis)))\n",
    "        display(Latex(r'We can see that the y-coordinates are labeled on the graph. At the points log(${0:1d}^{1:1d}x$) and {2:1d} $\\times$ log({3:1d}$x$) the y-coordinates are {4:1.3f} and {5:1.3f} repectively'.format(PowerLaw.x,PowerLaw.p,PowerLaw.p,PowerLaw.x,p1,p2)))\n",
    "        display(Latex('{0:1.3f}={1:1.3f}'.format(p1,p2)))\n",
    "\n",
    "        display(Latex('thus'))\n",
    "        display(Latex(r'$\\log_{B}(x^p)=p \\times \\log_B(x)$'))\n",
    "        \n",
    "    def clear_display():\n",
    "        clear_output(wait=True)\n",
    "        display(x_axis_bar)\n",
    "        display(x_bar)\n",
    "        display(p_bar)\n",
    "        PowerLaw.create_graph()\n",
    "        \n",
    "    def x_value(value):\n",
    "        PowerLaw.axis=value['new']\n",
    "        PowerLaw.clear_display()\n",
    "        \n",
    "    def xv(value):\n",
    "        PowerLaw.x=value['new']\n",
    "        PowerLaw.clear_display()\n",
    "        \n",
    "        \n",
    "    def pv(value):\n",
    "        PowerLaw.p=value['new']\n",
    "        PowerLaw.clear_display()\n",
    "\n",
    "x_axis_bar = widgets.IntSlider(\n",
    "    value=5,\n",
    "    min=1,\n",
    "    max=10,\n",
    "    step=1,\n",
    "    description='x-coordinate',\n",
    "    disabled=False,\n",
    "    continuous_update=False,\n",
    "    orientation='horizontal',\n",
    "    readout=True,\n",
    "    readout_format='d'\n",
    ")       \n",
    "\n",
    "x_bar = widgets.IntSlider(\n",
    "    value=PowerLaw.x,\n",
    "    min=1,\n",
    "    max=10,\n",
    "    step=1,\n",
    "    description='M value',\n",
    "    disabled=False,\n",
    "    continuous_update=False,\n",
    "    orientation='horizontal',\n",
    "    readout=True,\n",
    "    readout_format='d'\n",
    ")            \n",
    "\n",
    "\n",
    "p_bar = widgets.IntSlider(\n",
    "    value=PowerLaw.p,\n",
    "    min=1,\n",
    "    max=10,\n",
    "    step=1,\n",
    "    description='R value',\n",
    "    disabled=False,\n",
    "    continuous_update=False,\n",
    "    orientation='horizontal',\n",
    "    readout=True,\n",
    "    readout_format='d'\n",
    ") \n",
    "\n",
    "PowerLaw.clear_display()\n",
    "x_axis_bar.observe(PowerLaw.x_value, names='value')\n",
    "x_bar.observe(PowerLaw.xv, names='value')\n",
    "p_bar.observe(PowerLaw.pv, names='value')\n"
   ]
  },
  {
   "cell_type": "markdown",
   "metadata": {},
   "source": [
    "### Results\n",
    "The Mathematical proof shows that by first converting the logarithmic functions into exponents then using exponential laws we can derive Power Law. When looking at the graph, we can see that the functions on the left and right hand side are identical like we predicted. Thus, we can show that Power Law is accurate."
   ]
  },
  {
   "cell_type": "markdown",
   "metadata": {},
   "source": [
    "## <span style=\"color:blue\"> Change of Base Rule\n",
    "This rule is useful for changing the base of a logarithmic function which can be useful for proofs or comparing certain functions. The law states that: <br />\n",
    "$\\log_{B}(x)=\\frac{\\log_C(x)}{\\log_C(B)}$ \n",
    "\n",
    "### An example\n",
    "\n",
    "- $\\log_8(64) = \\frac{\\log_2(64)}{\\log_2(8)}$ or equivalently\n",
    "- $2 = \\frac{6}{3}.$\n",
    "\n",
    "### Mathematical Proof\n",
    "First we need to define a variable. In this case, we will use x. <br />\n",
    "$\\text{Let }x=\\log_{B}(M)$ <br />\n",
    "When converting this to exponents by using basic logarithmic properties, we get: <br />\n",
    "$B^x=M$ <br />\n",
    "$\\text{Next, is to apply } \\log_N \\text{ to both sides of the equation}$ <br />\n",
    "$\\log_N(B^x)=\\log_N(M)$ <br />\n",
    "By Power Law (see above) this can be simplified to: <br />\n",
    "$x\\log_N(B)=\\log_N(M)$ <br />\n",
    "Isolating for x: <br />\n",
    "$x=\\frac{\\log_N(M)}{\\log_N(B)}$ <br />\n",
    "After inputing the x value we defined earlier, we get <br />\n",
    "$\\log_{B}(M)=\\frac{\\log_N(M)}{\\log_N(B)}$\n",
    "\n"
   ]
  },
  {
   "cell_type": "markdown",
   "metadata": {},
   "source": [
    "### Discussion\n",
    "\n",
    "The change of base law says that\n",
    "- $\\log_B(x) = \\frac{\\log_C(x)}{\\log_C(B)}.$\n",
    "\n",
    "Another way to write this is\n",
    "- $\\log_B(x) = \\log_C(x)\\times \\log_B(C)).$ (Can you see why?)\n",
    "\n",
    "The point is, the two functions $\\log_B(x), \\log_C(x)$ are related by a proportionality constant, so we can write\n",
    "$$ \\log_B(x) = k\\cdot \\log_C(x).$$\n",
    "\n",
    "For instance, the two functions $\\log_2(x)$ and $\\log_{10}(x)$ are the same, up to some constant $k$. Perhaps you can explain why this constant is approximately $10/3$. That is\n",
    "$$\\log_2(x) \\approx \\frac{10}{3} \\log_{10}(x).$$\n",
    "\n",
    "Equivalently, \n",
    "$$\\log_{10}(x) \\approx 0.3 \\log_{2}(x).$$\n",
    "\n",
    "(Hint: this has something to do with our discussion of kilos in the first section of this notebook.)"
   ]
  },
  {
   "cell_type": "markdown",
   "metadata": {},
   "source": [
    "### Evidence\n",
    "As it is hard to graph this function, as there is no good place to put x, this function with be proved through evidence. We will plug numbers into each side of the equation to calculate the values obtained on each side of the law."
   ]
  },
  {
   "cell_type": "code",
   "execution_count": 7,
   "metadata": {},
   "outputs": [
    {
     "data": {
      "application/vnd.jupyter.widget-view+json": {
       "model_id": "31c59a22c1b248ebae22b8ad9d85b4fe",
       "version_major": 2,
       "version_minor": 0
      },
      "text/html": [
       "<p>Failed to display Jupyter Widget of type <code>IntSlider</code>.</p>\n",
       "<p>\n",
       "  If you're reading this message in the Jupyter Notebook or JupyterLab Notebook, it may mean\n",
       "  that the widgets JavaScript is still loading. If this message persists, it\n",
       "  likely means that the widgets JavaScript library is either not installed or\n",
       "  not enabled. See the <a href=\"https://ipywidgets.readthedocs.io/en/stable/user_install.html\">Jupyter\n",
       "  Widgets Documentation</a> for setup instructions.\n",
       "</p>\n",
       "<p>\n",
       "  If you're reading this message in another frontend (for example, a static\n",
       "  rendering on GitHub or <a href=\"https://nbviewer.jupyter.org/\">NBViewer</a>),\n",
       "  it may mean that your frontend doesn't currently support widgets.\n",
       "</p>\n"
      ],
      "text/plain": [
       "IntSlider(value=5, continuous_update=False, description='M value', max=10, min=1)"
      ]
     },
     "metadata": {},
     "output_type": "display_data"
    },
    {
     "data": {
      "application/vnd.jupyter.widget-view+json": {
       "model_id": "1c710faa619340158d3ba849ba92aa0c",
       "version_major": 2,
       "version_minor": 0
      },
      "text/html": [
       "<p>Failed to display Jupyter Widget of type <code>IntSlider</code>.</p>\n",
       "<p>\n",
       "  If you're reading this message in the Jupyter Notebook or JupyterLab Notebook, it may mean\n",
       "  that the widgets JavaScript is still loading. If this message persists, it\n",
       "  likely means that the widgets JavaScript library is either not installed or\n",
       "  not enabled. See the <a href=\"https://ipywidgets.readthedocs.io/en/stable/user_install.html\">Jupyter\n",
       "  Widgets Documentation</a> for setup instructions.\n",
       "</p>\n",
       "<p>\n",
       "  If you're reading this message in another frontend (for example, a static\n",
       "  rendering on GitHub or <a href=\"https://nbviewer.jupyter.org/\">NBViewer</a>),\n",
       "  it may mean that your frontend doesn't currently support widgets.\n",
       "</p>\n"
      ],
      "text/plain": [
       "IntSlider(value=10, continuous_update=False, description='original Base value', max=10, min=2)"
      ]
     },
     "metadata": {},
     "output_type": "display_data"
    },
    {
     "data": {
      "application/vnd.jupyter.widget-view+json": {
       "model_id": "2d7728bd59d14c8cbb5dad0b3064215f",
       "version_major": 2,
       "version_minor": 0
      },
      "text/html": [
       "<p>Failed to display Jupyter Widget of type <code>IntSlider</code>.</p>\n",
       "<p>\n",
       "  If you're reading this message in the Jupyter Notebook or JupyterLab Notebook, it may mean\n",
       "  that the widgets JavaScript is still loading. If this message persists, it\n",
       "  likely means that the widgets JavaScript library is either not installed or\n",
       "  not enabled. See the <a href=\"https://ipywidgets.readthedocs.io/en/stable/user_install.html\">Jupyter\n",
       "  Widgets Documentation</a> for setup instructions.\n",
       "</p>\n",
       "<p>\n",
       "  If you're reading this message in another frontend (for example, a static\n",
       "  rendering on GitHub or <a href=\"https://nbviewer.jupyter.org/\">NBViewer</a>),\n",
       "  it may mean that your frontend doesn't currently support widgets.\n",
       "</p>\n"
      ],
      "text/plain": [
       "IntSlider(value=5, continuous_update=False, description='New Base value', max=10, min=2)"
      ]
     },
     "metadata": {},
     "output_type": "display_data"
    },
    {
     "data": {
      "text/latex": [
       "On the right hand side $\\log_B(x)$=0.699."
      ],
      "text/plain": [
       "<IPython.core.display.Latex object>"
      ]
     },
     "metadata": {},
     "output_type": "display_data"
    },
    {
     "data": {
      "text/latex": [
       "On the left hand side is $\\log_C(x) \\div \\log_C(B)$=0.699."
      ],
      "text/plain": [
       "<IPython.core.display.Latex object>"
      ]
     },
     "metadata": {},
     "output_type": "display_data"
    },
    {
     "data": {
      "text/latex": [
       "0.699=0.699"
      ],
      "text/plain": [
       "<IPython.core.display.Latex object>"
      ]
     },
     "metadata": {},
     "output_type": "display_data"
    },
    {
     "data": {
      "text/latex": [
       "thus"
      ],
      "text/plain": [
       "<IPython.core.display.Latex object>"
      ]
     },
     "metadata": {},
     "output_type": "display_data"
    },
    {
     "data": {
      "text/latex": [
       "$\\log_{B}(x)=\\frac{\\log_C(x)}{\\log_C(B)}$"
      ],
      "text/plain": [
       "<IPython.core.display.Latex object>"
      ]
     },
     "metadata": {},
     "output_type": "display_data"
    }
   ],
   "source": [
    "class ChangeOfBase():\n",
    "    \n",
    "    #First set random variables\n",
    "    M=5\n",
    "    base=10\n",
    "    new_base=5\n",
    "\n",
    "    def create_graph():\n",
    "\n",
    "        #########################################\n",
    "        # Description: Plugs in numbers to prove Change of Base Rules\n",
    "        #\n",
    "        # @Args: Inputs are for the variables shown in Power Law\n",
    "        #        M constant: based on a sliding bar in range 1-10\n",
    "        #        base: based on a sliding bar in range 1-10\n",
    "        #        new base: based on a sliding bar in range 1-10 \n",
    "        #\n",
    "        # @Return: The corresponding value of each side of the equation which result after plugging in the numbers.\n",
    "        #########################################\n",
    "   \n",
    "        p1=log(ChangeOfBase.M,ChangeOfBase.base)\n",
    "        p2=log(ChangeOfBase.M,ChangeOfBase.new_base)/ log(ChangeOfBase.base,ChangeOfBase.new_base)\n",
    "\n",
    "        display(Latex('On the right hand side $\\log_B(x)$={0:1.3f}.'.format(p1)))\n",
    "        display(Latex(r'On the left hand side is $\\log_C(x) \\div \\log_C(B)$={0:1.3f}.'.format(p2)))\n",
    "        display(Latex('{0:1.3f}={1:1.3f}'.format(p1,p2)))\n",
    "        display(Latex('thus'))\n",
    "        display(Latex(r'$\\log_{B}(x)=\\frac{\\log_C(x)}{\\log_C(B)}$'))\n",
    "\n",
    "    def clear_display():\n",
    "        clear_output(wait=True)   \n",
    "        display(M_bar)\n",
    "        display(base_bar)\n",
    "        display(new_base_bar)\n",
    "        ChangeOfBase.create_graph()\n",
    "\n",
    "    def xv(value):\n",
    "        ChangeOfBase.axis=value['new']\n",
    "        ChangeOfBase.clear_display()\n",
    "        \n",
    "    def Mv(value):\n",
    "        ChangeOfBase.M=value['new']\n",
    "        ChangeOfBase.clear_display()\n",
    "        \n",
    "    def Basev(value):\n",
    "        ChangeOfBase.base=value['new']\n",
    "        ChangeOfBase.clear_display()\n",
    "        \n",
    "    def New_basev(value):\n",
    "        ChangeOfBase.new_base=value['new']\n",
    "        ChangeOfBase.clear_display()      \n",
    "\n",
    "M_bar = widgets.IntSlider(\n",
    "    value=ChangeOfBase.M,\n",
    "    min=1,\n",
    "    max=10,\n",
    "    step=1,\n",
    "    description='M value',\n",
    "    disabled=False,\n",
    "    continuous_update=False,\n",
    "    orientation='horizontal',\n",
    "    readout=True,\n",
    "    readout_format='d'\n",
    ")            \n",
    "\n",
    "base_bar = widgets.IntSlider(\n",
    "    value=ChangeOfBase.base,\n",
    "    min=2,\n",
    "    max=10,\n",
    "    step=1,\n",
    "    description='original Base value',\n",
    "    disabled=False,\n",
    "    continuous_update=False,\n",
    "    orientation='horizontal',\n",
    "    readout=True,\n",
    "    readout_format='d'\n",
    ")    \n",
    "\n",
    "new_base_bar = widgets.IntSlider(\n",
    "    value=ChangeOfBase.new_base,\n",
    "    min=2,\n",
    "    max=10,\n",
    "    step=1,\n",
    "    description='New Base value',\n",
    "    disabled=False,\n",
    "    continuous_update=False,\n",
    "    orientation='horizontal',\n",
    "    readout=True,\n",
    "    readout_format='d'\n",
    ")  \n",
    "\n",
    "\n",
    "ChangeOfBase.clear_display()\n",
    "M_bar.observe(ChangeOfBase.Mv, names='value')\n",
    "base_bar.observe(ChangeOfBase.Basev, names='value')\n",
    "new_base_bar.observe(ChangeOfBase.New_basev, names='value')\n"
   ]
  },
  {
   "cell_type": "markdown",
   "metadata": {},
   "source": [
    "### Results\n",
    "The mathematical proof uses the relationship between logarithms and exponents in order to change the value of the base and thus derive the rule. When plugging numbers into the rule, we can see that the left hand side of the equation is always equal to the right hand side, regardless of the numbers that are plugged in. By these 2 proofs, we can confirm the changing base rule."
   ]
  },
  {
   "cell_type": "markdown",
   "metadata": {},
   "source": [
    "## <span style=\"color:blue\"> Examples\n",
    "### 1. Simplify the following equation, then solve for $x$ $ 3^{\\log(x)}3^{\\log(x)}$\n",
    "Using Exponential Law (1), we can get: <br /> $3^{\\log(x)+\\log(x)}$<br />\n",
    "This is simplified to:<br />\n",
    "$3^{2\\log(x)}$<br />\n",
    "Using Power law, we know $2\\log(x)=\\log(x^2)$. From this identity, we simplify the expression to: <br />\n",
    "<div id='page' style='width: 70px'>\n",
    "<p style=\"border:2px; border-style:solid; border-color:#000000;\">\n",
    "$\\quad 3^{\\log(x^2)}$\n",
    "</div>\n",
    "\n",
    "To solve for $x$, we need to first note that $3 = 10^{\\log 3}.$ So we can continue with\n",
    "- $ 3^{\\log(x^2)} = 10^{\\log 3 \\log x^2} = 10^{\\log x^{2\\log 3}} = x^{2\\log 3} = x^{\\log(9)}.$\n",
    "\n",
    "Thus, we can say:\n",
    "<div id='page' style='width: 140px'>\n",
    "<p style=\"border:2px; border-style:solid; border-color:#000000;\">\n",
    "$\\quad x^{\\log(9)} \\approx x^{.954}$ </p>\n",
    "</div>\n",
    "\n",
    "\n",
    "### 2. $\\text{Simplify the expression: } 2\\log(x) - \\frac{\\log(z)}{2} + 3\\log(y)$\n",
    "Next, we will apply Power Law on each term. While keeping in mind that $z^{\\frac{1}{2}}=\\sqrt{z}$, we can simplify this equation to: <br />\n",
    "$\\log(x^2) - \\log(\\sqrt{z})+\\log(y^3)$ <br />\n",
    "We can apply both Quotient and Product Law to this equation. This will result in the final simplified form of: <br />\n",
    "<div id='page' style='width: 100px'>\n",
    "<p style=\"border:2px; border-style:solid; border-color:#000000;\"> $\\quad \\log\\left(\\frac{x^2y^3}{\\sqrt{z}}\\right)$ <p />\n",
    "</div>\n",
    "\n",
    "### 3.    Solve for x $ 2^{(x-2)}=2^x -2 $\n",
    "<p> Using Exponent Law (2) reguarding the division of exponents, we can come up with the equivalent equation: <br>\n",
    "$\\frac{2^x}{2^2}=2^x-2$ <br>\n",
    "The next step is to complete simple algebra. We can put all of the $2^x$ terms on the same side to isolate for x.\n",
    "The intermediate step is: <br>\n",
    "$2^x=4(2^x-2)$<br>\n",
    "When we put all of the $2^x$ terms on the same side, we get: <br>\n",
    "$-3(2^x)=-8$ <br>\n",
    "which becomes: <br>\n",
    "$2^x = \\frac{8}{3}$ <br>\n",
    "Since we know, $\\log_2(2)=1$, we can apply $\\log_2$ onto both sides. We get: <br>\n",
    "$\\log_2(2^x)=\\log_2\\left(\\frac{8}{3}\\right)$<br>\n",
    "Using Power Law, $\\log_2(2^x)$ is equivalent to $ x\\log_22$ where $\\log_22 = 1$. Thus: <br>\n",
    "<div id='page' style='width: 100px'>\n",
    "<p style=\"border:2px; border-style:solid; border-color:#000000;\"> $x= \\log_2\\left(\\frac{8}{3}\\right)$ <p />\n",
    "\n",
    "## Conclusion\n",
    "\n",
    "<p> When analysing each of the 5 functions in mathematical  and graphical ways, that each of these 5 laws can be proven and validated. This creates shortcuts to make it easier to simplify and analyze more complex functions.<p/>"
   ]
  },
  {
   "cell_type": "code",
   "execution_count": null,
   "metadata": {},
   "outputs": [],
   "source": []
  },
  {
   "cell_type": "code",
   "execution_count": null,
   "metadata": {},
   "outputs": [],
   "source": []
  }
 ],
 "metadata": {
  "kernelspec": {
   "display_name": "Python 3",
   "language": "python",
   "name": "python3"
  },
  "language_info": {
   "codemirror_mode": {
    "name": "ipython",
    "version": 3
   },
   "file_extension": ".py",
   "mimetype": "text/x-python",
   "name": "python",
   "nbconvert_exporter": "python",
   "pygments_lexer": "ipython3",
   "version": "3.6.5"
  }
 },
 "nbformat": 4,
 "nbformat_minor": 2
}

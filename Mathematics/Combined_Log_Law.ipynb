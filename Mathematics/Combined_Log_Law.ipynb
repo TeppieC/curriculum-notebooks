{
 "cells": [
  {
   "cell_type": "markdown",
   "metadata": {},
   "source": [
    "<h1><center>Logarithmic Laws</center></h1>"
   ]
  },
  {
   "cell_type": "markdown",
   "metadata": {},
   "source": [
    "## Introduction: <p>\n",
    "Logarithms are the opposite function of exponentials. Just like exponentials, the behavior of these functions can be categorized by 4 main laws that will be shown below.<p>    \n",
    "    \n",
    "## Basics of Logarithms:<p>\n",
    "Even though logarithms can seem very complex, we can look at the basic relationship between logarithms and exponentials in order to simplify these expressions to furture enhance our understandings. Before looking deeper in these relationships, we will first identify the main components of a logarithmic function. Logarithms are written in the following form:<p>\n",
    "$\\log_B(X)=N$ where B is the base of the logarithm. <p>\n",
    "We can solve for X with the following relationship:<p>\n",
    "$X=B^N$\n",
    "    \n",
    "## Logarithmic Laws<p>\n",
    "There are 4 main logarithmic laws which help show the relationship between exponential and logarithmic functions. <p>\n",
    "\n",
    "Product Law: $\\log_{B}(M \\times N)=\\log_{B}(M)+\\log_{B}(N)$<br /> \n",
    "Quotient Law: $\\log_{B}\\big(\\frac{M}{N}\\big)=\\log_{B}(M)-\\log_{B}(N)$<br />\n",
    "Power Law: $\\log_{B}(M^R)=R\\log_B(M)$<br />\n",
    "Changing Base Rule: $\\log_{B}(M)=\\frac{\\log_N(M)}{\\log_N(B)}$\n",
    "\n",
    "## Background: Exponential Laws\n",
    "Since Logarithms are closely related with exponents, we will be using exponential laws when deriving logarithmic laws. Exponential Laws state: <br />\n",
    "$x^M \\times x^N=x^{M+N} \\quad (1) $<br />\n",
    "$\\frac{x^M}{x^N}=x^{M-N} \\quad \\quad \\; \\;\\;\\,(2)$<br />\n",
    "$(x^M)^N=x^{MN} \\quad \\quad \\,(3)$<br />\n",
    "$(xy)^N=x^Ny^N \\quad \\quad \\,(4)$<br />\n",
    "We will be refering these laws throughout the program using the number in the brackets above.\n",
    "\n",
    "## Using Python\n",
    "### Import\n",
    "We will start out by importing packages that we will be using later in the code. Packages are functions of code that other people have written in order to simplify other programs."
   ]
  },
  {
   "cell_type": "code",
   "execution_count": 1,
   "metadata": {},
   "outputs": [],
   "source": [
    "from IPython.display import display, Latex\n",
    "from math import log\n",
    "import matplotlib.pyplot as plt\n",
    "%matplotlib inline\n",
    "import numpy as np\n",
    "from ipywidgets import interact, interactive, fixed, interact_manual"
   ]
  },
  {
   "cell_type": "markdown",
   "metadata": {},
   "source": [
    "As seen in the code above, many different codes were imported. These are:<br/>\n",
    "#### 1. Latex, and display from IPython\n",
    "This allows us to display mathematical equations in a readable format. Latex is used to format mathematical equations while the display function shows these equations to the user.\n",
    "#### 2. From Math, import log\n",
    "Log is imported from the math package in order to perform logarithmic operations. This will be used in order to properly graph the functions to assist with proving the logarithmic laws.\n",
    "#### 3. import matplotlib.pyplot \n",
    "This package assists with creating graphs for us to compare the different functions. We choose to import it as \"plt\" in order to make it easier to call the functions in the future\n",
    "#### 4. %matplotlib inline\n",
    "This is a code unique to Jupyter that allows the plots to be displayed below the code in this specific environment.\n",
    "#### 5. numpy as np\n",
    "numpy is a package which includes some mathematical operations. In this program we will use the package to access some of the simpler mathematical operations. we abbreviate it to \"np\" in order to keep the code relatively simple.\n",
    "#### 6. from ipywidgets import interactive\n",
    "This will be used to add an interactive aspect to graphs, which includes sliding bars to change certain values.\n",
    "### Definition of Functions\n",
    "In python we can make definition statements at the to be refered to throughout the code. In this case, we will be defining logarithmic functions at the beginning of the code to use when plotting multiple points on graphs throughout the code. Each definition requires input values to preform calculations. In this case, the inputted values are each of the x-coordinates to be plotted on graphs. The output value is the corresponding y-coordinate to be plotted with the associated x-coordinate. The comments before each definition statement explain the calculation that they perform. "
   ]
  },
  {
   "cell_type": "code",
   "execution_count": 2,
   "metadata": {},
   "outputs": [],
   "source": [
    "#Regular log function\n",
    "def f(m,b,x):\n",
    "    x= x*m\n",
    "    return [log(y,b) for y in x]\n",
    "\n",
    "#Log function of an exponent \n",
    "def f1(r,m,b,x):\n",
    "    x= (x*m)**r\n",
    "    return [log(y,b) for y in x]\n",
    "\n",
    "#A Log function is multiplied by a constant\n",
    "def f2(r,m,b,x):\n",
    "    x= x*m\n",
    "    return [r*log(y,b) for y in x]\n",
    "\n",
    "#2 Log functions with the same base are divided\n",
    "def f3(m,n,b,x):\n",
    "    y1=f(m,n,x)\n",
    "    y2=f(b,n,x)\n",
    "    y=np.divide(y1,y2)\n",
    "    return y"
   ]
  },
  {
   "cell_type": "markdown",
   "metadata": {},
   "source": [
    "In the next part of the code, we will be defining variables to be used when generating graphical proofs. The inputs must be numbers but can be easily changed in the next line. For each law, regardless of the variable that we use, the laws will still remain true."
   ]
  },
  {
   "cell_type": "code",
   "execution_count": 3,
   "metadata": {},
   "outputs": [],
   "source": [
    "#These numbers can be subject to change\n",
    "\n",
    "#This is the value for the base of the logarithms\n",
    "base=3\n",
    "#For the 2 variables within the logarithms, we will use M and N\n",
    "M=4\n",
    "N=2\n",
    "#For the exponent when looking at exponential log, we will use R\n",
    "R=5"
   ]
  },
  {
   "cell_type": "markdown",
   "metadata": {},
   "source": [
    "## <span style=\"color:blue\"> Product Law\n",
    "$\\text{The law we are looking at is the first law which is Product Law. This is used when finding the sum of 2 logarithmic functions with the same base. The law states that: }\\\\\n",
    "\\log_{B}(MN)=\\log_{B}(M)+\\log_{B}(N)$ <br />\n",
    "### Mathematical proof\n",
    "We will look at the mathematical proof. It may look complex, however, it can simply be broken down. First we need to define some variables. We will choose x and y.<br />\n",
    "Let $x=\\log_B(M)$ and Let $y=\\log_B(N)$<br />\n",
    "We know that the equivalent exponential forms are: <br />\n",
    "$B^x=M \\: \\text{and} \\: B^y=N$ <br />\n",
    "$\\text{we can state that:}$<br />\n",
    "$B^x \\times B^y=M \\times N$ <br />\n",
    "From the Exponential Law (1), we can get the equivalent expression: <br />\n",
    "$B^{x+y}=M \\times N$<br />\n",
    "In order to isolate for x, we will apply Log to both sides: <br />\n",
    "$\\log_B(B^{x+y})=\\log_B(M \\times N)$ <br /> \n",
    "$\\text{Based on the identity of a logarithm, we know that } \\log_B(B)=1 \\text{ thus, }\\log_B(B^{x+y})=x+y. $ The above expression is equivalent to: <br />\n",
    "$x+y=\\log_B(M \\times N)$ <br />\n",
    "as we know $ \\: x=\\log_B(M) \\:and \\: y=\\log_B(N)$ <br />\n",
    "Therefore: <br />\n",
    "$\\log_{B}(M \\times N)=\\log_{B}(M)+\\log_{B}(N)$\n",
    "\n",
    "### Graphical Proof\n",
    "In order to start the graphical proof, we will be using the variables base, M and N which were previously defined in the program. Since these values are not very relivant to the proof, it does not matter what values are used. 3 functions will be graphed. This includes the functions both on the left and right hand side of the equation for Product Law. At any given x point, we can see that the sum of the 2 points on the right hand side are equal to the left hand side of the equation. The following code graphs the 3 functions and analysis the resulting y values at any given x location. Theoretically, the sum of the y values of the 2 functions on the right hand side of the equation should be equal to the value on the left hand side of this equation. Theoretically, if this is always the case, then Product Law is valid."
   ]
  },
  {
   "cell_type": "code",
   "execution_count": 4,
   "metadata": {},
   "outputs": [
    {
     "data": {
      "application/vnd.jupyter.widget-view+json": {
       "model_id": "de0222413ab84d22a139f270ccabd5c7",
       "version_major": 2,
       "version_minor": 0
      },
      "text/html": [
       "<p>Failed to display Jupyter Widget of type <code>interactive</code>.</p>\n",
       "<p>\n",
       "  If you're reading this message in the Jupyter Notebook or JupyterLab Notebook, it may mean\n",
       "  that the widgets JavaScript is still loading. If this message persists, it\n",
       "  likely means that the widgets JavaScript library is either not installed or\n",
       "  not enabled. See the <a href=\"https://ipywidgets.readthedocs.io/en/stable/user_install.html\">Jupyter\n",
       "  Widgets Documentation</a> for setup instructions.\n",
       "</p>\n",
       "<p>\n",
       "  If you're reading this message in another frontend (for example, a static\n",
       "  rendering on GitHub or <a href=\"https://nbviewer.jupyter.org/\">NBViewer</a>),\n",
       "  it may mean that your frontend doesn't currently support widgets.\n",
       "</p>\n"
      ],
      "text/plain": [
       "interactive(children=(FloatSlider(value=5.0, description='axis', max=10.0, min=1.0, step=1.0), Output()), _dom_classes=('widget-interact',))"
      ]
     },
     "metadata": {},
     "output_type": "display_data"
    },
    {
     "data": {
      "text/plain": [
       "<function __main__.update(axis=(1.0, 10, 1))>"
      ]
     },
     "execution_count": 4,
     "metadata": {},
     "output_type": "execute_result"
    }
   ],
   "source": [
    "#Define the x-axis.The axis will got to 10.\n",
    "x=np.linspace(1,10)\n",
    "\n",
    "def update(axis = (1.0,10,1)):\n",
    "    \n",
    "    #Plot the 3 log functions from the left and right side of the Product Law\n",
    "    plt.plot(x,f(M,base,x),'-b',label='log(m)')\n",
    "    plt.plot(x,f(N,base,x),'-g',label='log(n)')\n",
    "    plt.plot(x,f(M*N,base,x**2),'-r',label='log(n*m)')\n",
    "    \n",
    "    #Plot the 3 points of interest based on the chosen x-coordinate\n",
    "    p1=log(M*axis,base)\n",
    "    p2=log(N*axis,base)\n",
    "    p3=log(M*N*(axis**2),base)\n",
    "    plt.plot(axis,p1,'ob',axis,p2,'og',axis,p3,'or')\n",
    "    plt.legend(bbox_to_anchor=(1.05, 1), loc=2, borderaxespad=0.)\n",
    "    plt.xticks(np.arange(0, 10, step=1))\n",
    "    print('at x={0:1.3f}'.format(axis))\n",
    "    \n",
    "    #Display the value of the points to prove that the law is valid\n",
    "    print('The y-coordinates are at {0:1.3f} {1:1.3f} {2:1.3f}'.format(p1, p2, p3))\n",
    "    print('The points at log({0:1.3f}x), log({1:1.3f}x) and log({2:1.3f}x) are at {3:1.3f}, {4:1.3f} and {5:1.3f} repectively'.format(M,N,M*N,p1, p2, p3))\n",
    "    print('{0:1.3f}+{1:1.3f}={2:1.3f}'.format(p1,p2,p1+p2))\n",
    "    print('{0:1.3f}={1:1.3f}'.format(p3,p3))\n",
    "    print('This means that the left side of the equation equals the right side')\n",
    "    print('thus')\n",
    "    display(Latex('$\\log_{B}(MN)=\\log_{B}(M)+\\log_{B}(N)$'))\n",
    "\n",
    "#Creates a slider bar to determine the x-coordinate of the points on the curves\n",
    "#By taking these values at any given point x, we can prove Product Law\n",
    "interact(update)\n"
   ]
  },
  {
   "cell_type": "markdown",
   "metadata": {},
   "source": [
    "### Results\n",
    "During the mathematical proof, we  used the relationship between logarithms and exponents in order to derive Product Law. Based on the values recorded during the graphical proof, we can see that at any inputed x-coordinates, the left hand side of the law is equivalent to sum of the two functions on the right hand side. This analysis can validate Product Law.\n",
    "\n",
    "## <span style=\"color:blue\"> Quotient Law\n",
    "The next law we will be looking at is Quotient Law. This is used when finding the difference of 2 logarithmic functions. The law states that: <br />\n",
    "$\\log_{B}\\bigg(\\frac{M}{N}\\bigg)=\\log_{B}(M)-\\log_{B}(N)$\n",
    "### Mathematical proof\n",
    "The proof we will be looking at is to mathematically prove Quotient law <br />\n",
    "First we need to define some variables. We will choose x and y. <br />\n",
    "$\\text{Let } x=\\log_B(M) \\text{ and Let } y=\\log_B(N)\\\\\n",
    "\\text{Based on the basic of logarithms, we know that the equivalent exponential forms are:} $ <br />\n",
    "$B^x=M \\text{ and } B^y=N$ <br />\n",
    "Based on the above, we can state that: <br />\n",
    "$\\frac{B^x}{B^y}=\\frac{M}{N}$ <br />\n",
    "Using Exponential Law (2), the above equation is equivalent to: <br />\n",
    "$B^{x-y}=\\frac{M}{N}$ <br />\n",
    "$\\log_{B}\\big(\\frac{M}{N}\\big)=x-y $ <br />\n",
    "$\\log_{B}\\big(\\frac{M}{N}\\big)=\\log_{B}(M)-\\log_{B}(N)$\n",
    "### Graphical Proof\n",
    "We will graph all of the functions in the equation based on the previouslly defined variables. From the right side, we will graph $y=\\log_B(Mx)$ and $y=\\log_B(Nx)$. From the left side, we will graph $y=\\log_B(\\frac{Mx}{Nx})$ which reduces to $y=\\log_B(\\frac{M}{N})$. It is expected that at any given x-coordinate, the difference between the respected y coordinates on the right side should be equivalent to the corresponding point on the function from the left side of the equation. Theoretically, if this equality proves to be true at all x points, then Quotient Law is valid."
   ]
  },
  {
   "cell_type": "code",
   "execution_count": 5,
   "metadata": {
    "scrolled": true
   },
   "outputs": [
    {
     "data": {
      "application/vnd.jupyter.widget-view+json": {
       "model_id": "0741b786b29946d3b6af4bec42ee70c9",
       "version_major": 2,
       "version_minor": 0
      },
      "text/html": [
       "<p>Failed to display Jupyter Widget of type <code>interactive</code>.</p>\n",
       "<p>\n",
       "  If you're reading this message in the Jupyter Notebook or JupyterLab Notebook, it may mean\n",
       "  that the widgets JavaScript is still loading. If this message persists, it\n",
       "  likely means that the widgets JavaScript library is either not installed or\n",
       "  not enabled. See the <a href=\"https://ipywidgets.readthedocs.io/en/stable/user_install.html\">Jupyter\n",
       "  Widgets Documentation</a> for setup instructions.\n",
       "</p>\n",
       "<p>\n",
       "  If you're reading this message in another frontend (for example, a static\n",
       "  rendering on GitHub or <a href=\"https://nbviewer.jupyter.org/\">NBViewer</a>),\n",
       "  it may mean that your frontend doesn't currently support widgets.\n",
       "</p>\n"
      ],
      "text/plain": [
       "interactive(children=(FloatSlider(value=5.0, description='axis', max=10.0, min=1.0, step=1.0), Output()), _dom_classes=('widget-interact',))"
      ]
     },
     "metadata": {},
     "output_type": "display_data"
    },
    {
     "name": "stdout",
     "output_type": "stream",
     "text": [
      "thus\n"
     ]
    },
    {
     "data": {
      "text/latex": [
       "$\\log_{B}\\big(\\frac{M}{N}\\big)=\\log_{B}(M)-\\log_{B}(N)$"
      ],
      "text/plain": [
       "<IPython.core.display.Latex object>"
      ]
     },
     "metadata": {},
     "output_type": "display_data"
    }
   ],
   "source": [
    "#Interactive graphical proof\n",
    "\n",
    "#The points on the x-axis that will be included in the graph\n",
    "x=np.linspace(1,10)\n",
    "y=np.linspace(M/N,M/N)\n",
    "\n",
    "def update(axis = (1.0,10,1)):\n",
    "    \n",
    "    #Plot the 3 functions\n",
    "    plt.plot(x,f(M,base,x),'-b',label='log(m)')\n",
    "    plt.plot(x,f(N,base,x),'-g',label='log(n)')\n",
    "    plt.plot(x,f(1,base,y),'-r',label='log(m/n)')\n",
    "    \n",
    "    #Plot the 3 points based on the x-coordinate. 1 on each function curve\n",
    "    p1=log(M*axis,base)\n",
    "    p2=log(N*axis,base)\n",
    "    p3=log(M/N,base)\n",
    "    plt.plot(axis,p1,'ob',axis,p2,'og',axis,p3,'or')\n",
    "    plt.legend(bbox_to_anchor=(1.05, 1), loc=2, borderaxespad=0.)\n",
    "   \n",
    "    #This line sets the marks on the x-axis\n",
    "    plt.xticks(np.arange(0, 10, step=1))\n",
    "    \n",
    "    #This line is a unique line that is required to display the graph\n",
    "    plt.show()\n",
    "    \n",
    "    #The last step is to generate a conclusion based on the position of the values\n",
    "    #It is very important to show that by subtracting 2 points on the right hand side, the result is the left hand side\n",
    "    print('at x={0:1.3f}'.format(axis))\n",
    "    print('The y-coordinates are at {0:1.3f} {1:1.3f} {2:1.3f}'.format(p1, p2, p3))\n",
    "    print('The points at log({0:1.3f}x), log({1:1.3f}x) and log({2:1.3f}) are at {3:1.3f}, {4:1.3f} and {5:1.3f} repectively'.format(M,N,M/N,p1, p2, p3))\n",
    "    print('{0:1.3f}-{1:1.3f}={2:1.3f}'.format(p1,p2,p3))\n",
    "\n",
    "#create a slider bar to determine the x-coordinate of the point\n",
    "interact(update);\n",
    "\n",
    "print('thus')\n",
    "display(Latex(r'$\\log_{B}\\big(\\frac{M}{N}\\big)=\\log_{B}(M)-\\log_{B}(N)$'))"
   ]
  },
  {
   "cell_type": "markdown",
   "metadata": {},
   "source": [
    "### Result\n",
    "During the mathematical proof, we  used the relationship between logarithms and exponents as well as exponential laws in order to derive Quotient Law. When we look at the graphical proof, we can see that the functions on the right hand side both resemble very similar curves. On the left hand side of the law, we can see that the function remains as a constant number. This appears reasonable as the two curves appear to be a consistent distance apparent. From the combined evidence of the mathematical and graphical proofs, we can prove the accuracy of Quotient Laws.\n",
    "\n",
    "## <span style=\"color:blue\"> Power Law\n",
    "The next law we will look at is power law. This is used in the case when there is an exponent inside the logarithmic function this states that: <br />\n",
    "$\\log_{B}(M^R)=R\\log_B(M)$\n",
    "\n",
    "### Mathematical Proof \n",
    "$\\text{First we need to define some variables. We will choose x and y.}$ <br />\n",
    "$\\text{Let } x=\\log_{B}(M^R)$ <br />\n",
    "From the basics of logarithms, the equivalent exponential form is: <br />\n",
    "$B^x=M^R $<br /> \n",
    "$\\text{If we put each side of the equation to the exponent of }\\frac{1}{R}\\text{, we get:}$ <br />\n",
    "$(B^x)^{\\frac{1}{R}}=(M^R)^{\\frac{1}{R}}$ <br />\n",
    "By using Exponential Law (3), we can multiply the exponents to the one inside the brackets to get: <br />\n",
    "$B^{\\frac{x}{R}}=M$ <br />\n",
    "In order to isolate for x, we can apply the log function to both sides to get: <br />\n",
    "$\\log_B(M)=\\frac{x}{R} $ <br />\n",
    "Using basic algebra to isolate from x, we can multiply R onto both sides to get: <br />\n",
    "$R\\log_B(M)=x$ <br />\n",
    "The last step is to substitute in x to end up with the final result: <br />\n",
    "$R\\log_B(M)=\\log_B(M^R)$ <br />\n",
    "\n",
    "### Graphical Proof\n",
    "In this case, there is one function on each the left and right hand sides of the law. For this reason 2 functions will be graphed. Since they are theoretically be equivalent to each other, we can expect that the functions will be identical on the graph. If this is seen on the graph, we can validate Power Law."
   ]
  },
  {
   "cell_type": "code",
   "execution_count": 6,
   "metadata": {},
   "outputs": [
    {
     "data": {
      "text/plain": [
       "<matplotlib.figure.Figure at 0x7fd7da6844e0>"
      ]
     },
     "metadata": {},
     "output_type": "display_data"
    },
    {
     "data": {
      "application/vnd.jupyter.widget-view+json": {
       "model_id": "dccabc166fb84ee19d71cc95d6671064",
       "version_major": 2,
       "version_minor": 0
      },
      "text/html": [
       "<p>Failed to display Jupyter Widget of type <code>interactive</code>.</p>\n",
       "<p>\n",
       "  If you're reading this message in the Jupyter Notebook or JupyterLab Notebook, it may mean\n",
       "  that the widgets JavaScript is still loading. If this message persists, it\n",
       "  likely means that the widgets JavaScript library is either not installed or\n",
       "  not enabled. See the <a href=\"https://ipywidgets.readthedocs.io/en/stable/user_install.html\">Jupyter\n",
       "  Widgets Documentation</a> for setup instructions.\n",
       "</p>\n",
       "<p>\n",
       "  If you're reading this message in another frontend (for example, a static\n",
       "  rendering on GitHub or <a href=\"https://nbviewer.jupyter.org/\">NBViewer</a>),\n",
       "  it may mean that your frontend doesn't currently support widgets.\n",
       "</p>\n"
      ],
      "text/plain": [
       "interactive(children=(FloatSlider(value=5.0, description='axis', max=10.0, min=1.0, step=1.0), Output()), _dom_classes=('widget-interact',))"
      ]
     },
     "metadata": {},
     "output_type": "display_data"
    },
    {
     "name": "stdout",
     "output_type": "stream",
     "text": [
      "thus\n"
     ]
    },
    {
     "data": {
      "text/latex": [
       "$\\log_{B}(M^R)=R\\log_B(M)$"
      ],
      "text/plain": [
       "<IPython.core.display.Latex object>"
      ]
     },
     "metadata": {},
     "output_type": "display_data"
    }
   ],
   "source": [
    "#Interactive graphical proof\n",
    "\n",
    "#This sets the values that will be used as the x-coordinates\n",
    "x=np.linspace(1,10)\n",
    "fig = plt.figure()\n",
    "\n",
    "def update(axis = (1.0,10,1)):\n",
    "    \n",
    "    #Plot one function for each side of the equation\n",
    "    plt.plot(x,f1(R,M,base,x),'-g',label='log(n)')\n",
    "    plt.plot(x,f2(R,M,base,x),'-b',label='log(m)')\n",
    "    \n",
    "    #Plot the 2 points on the function based on the x-coordinate from the user\n",
    "    p1=log((M*axis)**R,base)\n",
    "    p2=R*log(M*axis,base)    \n",
    "    plt.plot(axis,p1,'ob',axis,p2,'og')\n",
    "    plt.legend(bbox_to_anchor=(1.05, 1), loc=2, borderaxespad=0.)\n",
    "    plt.xticks(np.arange(0, 10, step=1))\n",
    "    plt.show()\n",
    "    \n",
    "    #The last step is to generate the coordinates to prove the law is valid\n",
    "    print('at x={0:1.3f}'.format(axis))\n",
    "    print('The y-coordinates are at {0:1.3f} {1:1.3f} '.format(p1, p2))\n",
    "    print('The points at {0:1.3f}*log({1:1.3f}x) and log({2:1.3f}x) are at {3:1.3f} and {4:1.3f} repectively'.format(R,M,M**R,p1, p2))\n",
    "    print('{0:1.3f}={1:1.3f}'.format(p1,p2))\n",
    "    fig.canvas.draw()\n",
    "\n",
    "interact(update);\n",
    "\n",
    "\n",
    "print('thus')\n",
    "display(Latex(r'$\\log_{B}(M^R)=R\\log_B(M)$'))"
   ]
  },
  {
   "cell_type": "markdown",
   "metadata": {},
   "source": [
    "### Results\n",
    "The Mathematical proof shows that by first converting the logarithmic functions into exponents then using exponential laws we can derive Power Law. When looking at the graph, we can see that the functions on the left and right hand side are identical like we predicted. Thus, we can show that Power Law is accurate.\n",
    "\n",
    "## <span style=\"color:blue\"> Change of Base Rule\n",
    "This rule is useful for changing the base of a logarithmic function which can be useful for proofs or comparing certain functions. The law states that: <br />\n",
    "$\\log_{B}(M)=\\frac{\\log_N(M)}{\\log_N(B)}$ \n",
    "\n",
    "### Mathematical Proof\n",
    "First we need to define a variable. In this case, we will use x. <br />\n",
    "$\\text{Let }x=\\log_{B}(M)$ <br />\n",
    "When converting this to exponents by using basic logarithmic properties, we get: <br />\n",
    "$B^x=M$ <br />\n",
    "$\\text{Next, is to apply } \\log_N \\text{ to both sides of the equation}$ <br />\n",
    "$\\log_N(B^x)=\\log_N(M)$ <br />\n",
    "By Power Law (see above) this can be simplified to: <br />\n",
    "$x\\log_N(B)=\\log_N(M)$ <br />\n",
    "Isolating for x: <br />\n",
    "$x=\\frac{\\log_N(M)}{\\log_N(B)}$ <br />\n",
    "After inputing the x value we defined earlier, we get <br />\n",
    "$\\log_{B}(M)=\\frac{\\log_N(M)}{\\log_N(B)}$\n",
    "\n",
    "### Graphical Proof\n",
    "In order to further prove this law, we will graph both sides of the equation. The left side function $\\log_{B}(Mx)$ was graphed as well as the right side $\\frac{\\log_N(Mx)}{\\log_N(Bx)}$. As we can see, x is located in the log function while the base is moved into the function as well. This means when x is not equal to 1, the functions will not align. Thus, we can expect for the points on the graph are only equivalent when x=1. However, we can still show that regardless of the new base value, the functions should align when x=1."
   ]
  },
  {
   "cell_type": "code",
   "execution_count": 7,
   "metadata": {},
   "outputs": [
    {
     "data": {
      "text/plain": [
       "<matplotlib.figure.Figure at 0x7fd7dc776d30>"
      ]
     },
     "metadata": {},
     "output_type": "display_data"
    },
    {
     "data": {
      "application/vnd.jupyter.widget-view+json": {
       "model_id": "db6a26e6ed344d8692ce7ba8fee59362",
       "version_major": 2,
       "version_minor": 0
      },
      "text/html": [
       "<p>Failed to display Jupyter Widget of type <code>interactive</code>.</p>\n",
       "<p>\n",
       "  If you're reading this message in the Jupyter Notebook or JupyterLab Notebook, it may mean\n",
       "  that the widgets JavaScript is still loading. If this message persists, it\n",
       "  likely means that the widgets JavaScript library is either not installed or\n",
       "  not enabled. See the <a href=\"https://ipywidgets.readthedocs.io/en/stable/user_install.html\">Jupyter\n",
       "  Widgets Documentation</a> for setup instructions.\n",
       "</p>\n",
       "<p>\n",
       "  If you're reading this message in another frontend (for example, a static\n",
       "  rendering on GitHub or <a href=\"https://nbviewer.jupyter.org/\">NBViewer</a>),\n",
       "  it may mean that your frontend doesn't currently support widgets.\n",
       "</p>\n"
      ],
      "text/plain": [
       "interactive(children=(FloatSlider(value=5.0, description='new_base', max=10.0, min=1.0, step=1.0), Output()), _dom_classes=('widget-interact',))"
      ]
     },
     "metadata": {},
     "output_type": "display_data"
    },
    {
     "data": {
      "text/plain": [
       "<function __main__.update(new_base=(1.0, 10, 1))>"
      ]
     },
     "execution_count": 7,
     "metadata": {},
     "output_type": "execute_result"
    }
   ],
   "source": [
    "#Values of the x coordinates on the axis\n",
    "x=np.linspace(1,10)\n",
    "fig = plt.figure()\n",
    "\n",
    "def update(new_base = (1.0,10,1)):\n",
    "    \n",
    "    #Plot the two functions\n",
    "    #Use the user defined base for the right hand side funciton\n",
    "    plt.plot(x,f(M,base,x),'-g',label='log(m) base b')\n",
    "    plt.plot(x,f3(M,new_base,base,x),'-b',label='log(m) / log(b) base n')\n",
    "    \n",
    "    #Place the points on the functions where x=1\n",
    "    p1=log(M,base)\n",
    "    p2=log(M,new_base)/ log(base,new_base)\n",
    "    plt.plot(1,p1,'ob',1,p2,'og')\n",
    "    plt.legend(bbox_to_anchor=(1.05, 1), loc=2, borderaxespad=0.)\n",
    "    plt.xticks(np.arange(0, 10, step=1))\n",
    "    plt.show()\n",
    "    \n",
    "    #The last step to to generate the coordinates to prove the law is valid\n",
    "    print('The y-coordinate when x=1 are at {0:1.3f} {1:1.3f} '.format(p1, p2))\n",
    "    print('{0:1.3f}={1:1.3f}'.format(p1,p2))\n",
    "    print('As we can see, changing the new base does not change the graph')\n",
    "    print('also, the changing of base rule is only true when x=1')\n",
    "    print('thus')\n",
    "    display(Latex(r'$\\log_{B}(M^R)=R\\log_B(M)$'))\n",
    "    fig.canvas.draw()\n",
    "\n",
    "#Create a slider bar that shows the value of the newly changed base\n",
    "interact(update)"
   ]
  },
  {
   "cell_type": "markdown",
   "metadata": {},
   "source": [
    "### Results\n",
    "The mathematical proof uses the relationship between logarithms and exponents in order to change the value of the base and thus derive the rule. When looking at the graph, we can see that it confirms the expected results. The functions meet when x is equal to 1 regardless of the newly selected base. By these 2 proofs, we can confirm the changing base rule."
   ]
  },
  {
   "cell_type": "markdown",
   "metadata": {},
   "source": [
    "## <span style=\"color:blue\"> Diploma Examples\n",
    "### 1. $ 3^{\\log(x)}3^{\\log(x)}$\n",
    "Using Exponential Law (1), we can get: <br /> $3^{\\log(x)+\\log(x)}$<br />\n",
    "This is simplified to:<br />\n",
    "$3^{2\\log(x)}$<br />\n",
    "Using Power law, we know $2\\log(x)=\\log(x^2)$. From this identity, we can get: <br />\n",
    "<div id='page' style='width: 70px'>\n",
    "<p style=\"border:2px; border-style:solid; border-color:#000000;\">\n",
    "$\\quad 3^{\\log(x^2)}$\n",
    "</div>\n",
    "\n",
    "### 2. $\\text{simplify the expression: } 2\\log(x) - \\frac{\\log(z)}{2} + 3\\log(y)$\n",
    "Next, we will apply Power Law on each term. While keeping in mind that $z^{\\frac{1}{2}}=\\sqrt{z}$, we can simplify this equation to: <br />\n",
    "$\\log(x^2) - \\log(\\sqrt{z})+\\log(y^3)$ <br />\n",
    "We can apply both Quotient and Product Law to this equation. This will result in the final simplified form of: <br />\n",
    "<div id='page' style='width: 100px'>\n",
    "<p style=\"border:2px; border-style:solid; border-color:#000000;\"> $\\quad \\log(\\frac{x^2y^3}{\\sqrt{z}})$ <p />\n",
    "</div>\n",
    "\n",
    "### 3 solve for x $ 2^{(x-2)}=2^x -2 $\n",
    "Using Exponent Law (2) reguarding the division of exponents, we can come up with the equivalent equation: <br />\n",
    "$\\frac{2^x}{2^2}=2^x-2$ <br />\n",
    "The next step is to complete simple algebra. We can put all of the $2^x$ terms on the same side to isolate for x.\n",
    "The intermediate step is: <br />\n",
    "$2^x=4(2^x-2)$\n",
    "When we put all of the $2^x$ terms on the same side, we get: <br />\n",
    "$-3(2^x)=-8$ <br />\n",
    "which becomes: <br />\n",
    "$2^x = \\frac{8}{3}$ <br />\n",
    "Since we know, $\\log_2(2)=1$, we can apply $\\log_2$ onto both sides. We get: <br />\n",
    "$\\log_2(2^x)=\\log_2(\\frac{8}{3})$\n",
    "Using Power Law, $\\log_2(2^x)$ is equivalent to $ x\\log_22$ where $\\log_22 = 1$. Thus: <br />\n",
    "$x= \\log_2(\\frac{8}{3})$\n",
    "\n",
    "## Conclusion\n",
    "When analysing each of the 5 functions in mathematical  and graphical ways, that each of these 5 laws can be proven and validated. This creates shortcuts to make it easier to simplify and analyze more complex functions."
   ]
  },
  {
   "cell_type": "code",
   "execution_count": null,
   "metadata": {},
   "outputs": [],
   "source": []
  }
 ],
 "metadata": {
  "kernelspec": {
   "display_name": "Python 3",
   "language": "python",
   "name": "python3"
  },
  "language_info": {
   "codemirror_mode": {
    "name": "ipython",
    "version": 3
   },
   "file_extension": ".py",
   "mimetype": "text/x-python",
   "name": "python",
   "nbconvert_exporter": "python",
   "pygments_lexer": "ipython3",
   "version": "3.6.5"
  }
 },
 "nbformat": 4,
 "nbformat_minor": 2
}

{
 "cells": [
  {
   "cell_type": "code",
   "execution_count": 1,
   "metadata": {},
   "outputs": [],
   "source": [
    "from IPython.display import display, Math, Latex, Markdown\n",
    "import math\n",
    "from math import log\n",
    "from IPython.external import mathjax\n",
    "import matplotlib.pyplot as plt\n",
    "%matplotlib inline\n",
    "import numpy as np\n",
    "from __future__ import print_function\n",
    "from ipywidgets import interact, interactive, fixed, interact_manual\n",
    "import ipywidgets as widgets"
   ]
  },
  {
   "cell_type": "code",
   "execution_count": 2,
   "metadata": {},
   "outputs": [],
   "source": [
    "def f(m,b,x):\n",
    "    x= x*m\n",
    "    return [log(y,b) for y in x]\n",
    "\n",
    "def f1(r,m,b,x):\n",
    "    x= (x*m)**r\n",
    "    return [log(y,b) for y in x]\n",
    "\n",
    "def f2(r,m,b,x):\n",
    "    x= x*m\n",
    "    return [r*log(y,b) for y in x]"
   ]
  },
  {
   "cell_type": "code",
   "execution_count": 3,
   "metadata": {},
   "outputs": [
    {
     "name": "stdout",
     "output_type": "stream",
     "text": [
      "Lets choose some numbers for before we start for our graphical proofs\n",
      "pick a base (B) -must be an integer 2\n",
      "pick a first number (M) -must be an integer 3\n",
      "pick a second number (N) -must be an integer 2\n",
      "pick a second number (R) -must be an integer 5\n"
     ]
    }
   ],
   "source": [
    "print('Lets choose some numbers for before we start for our graphical proofs')\n",
    "b=int(input('pick a base (B) -must be an integer ')) \n",
    "m=int(input('pick a first number (M) -must be an integer '))\n",
    "n=int(input('pick a second number (N) -must be an integer '))\n",
    "r=int(input('pick a second number (R) -must be an integer '))"
   ]
  },
  {
   "cell_type": "markdown",
   "metadata": {},
   "source": [
    "$\\text{The law we are looking at is the first law which is Product Law. This states that: }\\\\\n",
    "\\log_{B}(MN)=\\log_{B}(M)+\\log_{B}(N)$\n",
    "$\\text{First lets look at the mathematical proof. It may look complex, however, it can simply be broken down}\\\\\n",
    "\\text{First we need to define some variables. We will choose x and y.}\\\\\n",
    "Let \\: x=\\log_B(M) \\:and \\: Let \\: y=\\log_B(N)\\\\\n",
    "\\text{We know that the equivalent exponential forms are}\\\\\n",
    "B^x=M \\: and \\: B^y=N\\\\\n",
    "\\text{we can state that}\\\\\n",
    "B^x \\times B^y=M \\times N\\\\\n",
    "\\text{From the properties of Exponents}\\\\\n",
    "B^{x+y}=M \\times N\\\\\n",
    "\\text{Apply Log to both sides}\\\\\n",
    "\\log_B(B^{x+y})=\\log_B(M \\times N)\\\\\n",
    "\\text{This is equivalent to}\\\\\n",
    "x+y=\\log_B(M \\times N)\\\\\n",
    "\\text {as we know} \\: x=\\log_B(M) \\:and \\: y=\\log_B(N)\\\\\n",
    "\\text{Therefore:}\\\\\n",
    "\\log_{B}(M \\times N)=\\log_{B}(M)+\\log_{B}(N)$"
   ]
  },
  {
   "cell_type": "code",
   "execution_count": 4,
   "metadata": {},
   "outputs": [
    {
     "data": {
      "text/latex": [
       "$\\text{We will look at the graphical proof of this law next}$"
      ],
      "text/plain": [
       "<IPython.core.display.Latex object>"
      ]
     },
     "metadata": {},
     "output_type": "display_data"
    },
    {
     "data": {
      "text/plain": [
       "<matplotlib.figure.Figure at 0x7f345ec0fcc0>"
      ]
     },
     "metadata": {},
     "output_type": "display_data"
    },
    {
     "data": {
      "application/vnd.jupyter.widget-view+json": {
       "model_id": "c2fb3ad0823642c187392dcea83f6281",
       "version_major": 2,
       "version_minor": 0
      },
      "text/html": [
       "<p>Failed to display Jupyter Widget of type <code>interactive</code>.</p>\n",
       "<p>\n",
       "  If you're reading this message in the Jupyter Notebook or JupyterLab Notebook, it may mean\n",
       "  that the widgets JavaScript is still loading. If this message persists, it\n",
       "  likely means that the widgets JavaScript library is either not installed or\n",
       "  not enabled. See the <a href=\"https://ipywidgets.readthedocs.io/en/stable/user_install.html\">Jupyter\n",
       "  Widgets Documentation</a> for setup instructions.\n",
       "</p>\n",
       "<p>\n",
       "  If you're reading this message in another frontend (for example, a static\n",
       "  rendering on GitHub or <a href=\"https://nbviewer.jupyter.org/\">NBViewer</a>),\n",
       "  it may mean that your frontend doesn't currently support widgets.\n",
       "</p>\n"
      ],
      "text/plain": [
       "interactive(children=(FloatSlider(value=5.0, description='axis', max=10.0, min=1.0, step=1.0), Output()), _dom_classes=('widget-interact',))"
      ]
     },
     "metadata": {},
     "output_type": "display_data"
    }
   ],
   "source": [
    "display(Latex(r'$\\text{We will look at the graphical proof of this law next}$'))\n",
    "    \n",
    "x=np.linspace(1,10)\n",
    "fig = plt.figure()\n",
    "#ax = fig.add_subplot(1, 1, 1)\n",
    "#line, = ax.plot(x, f(m,b,x))\n",
    "\n",
    "def update(axis = (1.0,10,1)):\n",
    "    p1=log(m*axis,b)\n",
    "    p2=log(n*axis,b)\n",
    "    p3=log(m*n*(axis**2),b)\n",
    "    plt.plot(x,f(m,b,x),'-b',label='log(m)')\n",
    "    plt.plot(x,f(n,b,x),'-g',label='log(n)')\n",
    "    plt.plot(x,f(m*n,b,x**2),'-r',label='log(n*m)')\n",
    "    plt.plot(axis,p1,'ob',axis,p2,'og',axis,p3,'or')\n",
    "    plt.legend(bbox_to_anchor=(1.05, 1), loc=2, borderaxespad=0.)\n",
    "    plt.xticks(np.arange(0, 10, step=1))\n",
    "    print('at x={0:1.3f}'.format(axis))\n",
    "    print('The points are at {0:1.3f} {1:1.3f} {2:1.3f}'.format(p1, p2, p3))\n",
    "    print('The points at log({0:1.3f}x), log({1:1.3f}x) and log({2:1.3f}x) are at {3:1.3f}, {4:1.3f} and {5:1.3f} repectively'.format(m,n,m*n,p1, p2, p3))\n",
    "    print('{0:1.3f}+{1:1.3f}={2:1.3f}'.format(p1,p2,p1+p2))\n",
    "    print('{0:1.3f}={1:1.3f}'.format(p3,p3))\n",
    "    print('thus')\n",
    "    display(Math(r'log_{B}(MN)=log_{B}(M)+log_{B}(N)'))\n",
    "    fig.canvas.draw()\n",
    "\n",
    "interact(update);\n"
   ]
  },
  {
   "cell_type": "markdown",
   "metadata": {},
   "source": [
    "$\\text{The next law we will be looking at is product law}\\\\\n",
    "\\log_{B}\\bigg(\\frac{M}{N}\\bigg)=\\log_{B}(M)-\\log_{B}(N)\\\\\n",
    "\\text{The proof we will be looking at is to mathematically prove Quotient law}\\\\\n",
    "\\text{First we need to define some variables. We will choose x and y.}\\\\\n",
    "\\text{Let} \\: x=\\log_B(M) \\:and \\: Let \\: y=\\log_B(N)\\\\\n",
    "\\text{We know that the equivalent exponential forms are}\\\\\n",
    "B^x=M \\: and \\: B^y=N\\\\\n",
    "\\text{Based on the above, we can state that}\\\\\n",
    "\\frac{B^x}{B^y}=\\frac{M}{N}\\\\\n",
    "\\text{based on the properties on exponents, this is equivalent to:}\\\\\n",
    "B^{x-y}=\\frac{M}{N}\\\\\n",
    "\\log_{B}\\big(\\frac{M}{N}\\big)=x-y\\\\\n",
    "\\log_{B}\\big(\\frac{M}{N}\\big)=\\log_{B}(M)-\\log_{B}(N)$"
   ]
  },
  {
   "cell_type": "code",
   "execution_count": 7,
   "metadata": {},
   "outputs": [
    {
     "data": {
      "text/plain": [
       "<matplotlib.figure.Figure at 0x7f345ca9fb70>"
      ]
     },
     "metadata": {},
     "output_type": "display_data"
    },
    {
     "data": {
      "application/vnd.jupyter.widget-view+json": {
       "model_id": "92f16dc407504186bc8909c8978b07ec",
       "version_major": 2,
       "version_minor": 0
      },
      "text/html": [
       "<p>Failed to display Jupyter Widget of type <code>interactive</code>.</p>\n",
       "<p>\n",
       "  If you're reading this message in the Jupyter Notebook or JupyterLab Notebook, it may mean\n",
       "  that the widgets JavaScript is still loading. If this message persists, it\n",
       "  likely means that the widgets JavaScript library is either not installed or\n",
       "  not enabled. See the <a href=\"https://ipywidgets.readthedocs.io/en/stable/user_install.html\">Jupyter\n",
       "  Widgets Documentation</a> for setup instructions.\n",
       "</p>\n",
       "<p>\n",
       "  If you're reading this message in another frontend (for example, a static\n",
       "  rendering on GitHub or <a href=\"https://nbviewer.jupyter.org/\">NBViewer</a>),\n",
       "  it may mean that your frontend doesn't currently support widgets.\n",
       "</p>\n"
      ],
      "text/plain": [
       "interactive(children=(FloatSlider(value=5.0, description='axis', max=10.0, min=1.0, step=1.0), Output()), _dom_classes=('widget-interact',))"
      ]
     },
     "metadata": {},
     "output_type": "display_data"
    },
    {
     "name": "stdout",
     "output_type": "stream",
     "text": [
      "thus\n"
     ]
    },
    {
     "data": {
      "text/latex": [
       "$\\log_{B}\\big(\\frac{M}{N}\\big)=\\log_{B}(M)-\\log_{B}(N)$"
      ],
      "text/plain": [
       "<IPython.core.display.Latex object>"
      ]
     },
     "metadata": {},
     "output_type": "display_data"
    }
   ],
   "source": [
    "#Interactive graphical proof\n",
    "   \n",
    "x=np.linspace(1,10)\n",
    "y=np.linspace(m/n,m/n)\n",
    "fig = plt.figure()\n",
    "#ax = fig.add_subplot(1, 1, 1)\n",
    "#line, = ax.plot(x, f(m,b,x))\n",
    "\n",
    "def update(axis = (1.0,10,1)):\n",
    "    p1=log(m*axis,b)\n",
    "    p2=log(n*axis,b)\n",
    "    p3=log(m/n,b)\n",
    "    plt.plot(x,f(m,b,x),'-b',label='log(m)')\n",
    "    plt.plot(x,f(n,b,x),'-g',label='log(n)')\n",
    "    plt.plot(x,f(1,b,y),'-r',label='log(m/n)')\n",
    "    plt.plot(axis,p1,'ob',axis,p2,'og',axis,np.absolute(p3),'or')\n",
    "    plt.legend(bbox_to_anchor=(1.05, 1), loc=2, borderaxespad=0.)\n",
    "    plt.xticks(np.arange(0, 10, step=1))\n",
    "    plt.show()\n",
    "    print('at x={0:1.3f}'.format(axis))\n",
    "    print('The points are at {0:1.3f} {1:1.3f} {2:1.3f}'.format(p1, p2, p3))\n",
    "    print('The points at log({0:1.3f}x), log({1:1.3f}x) and log({2:1.3f}) are at {3:1.3f}, {4:1.3f} and {5:1.3f} repectively'.format(m,n,m/n,p1, p2, p3))\n",
    "    print('{0:1.3f}-{1:1.3f}={2:1.3f}'.format(p1,p2,p3))\n",
    "    fig.canvas.draw()\n",
    "\n",
    "interact(update);\n",
    "\n",
    "print('thus')\n",
    "display(Latex(r'$\\log_{B}\\big(\\frac{M}{N}\\big)=\\log_{B}(M)-\\log_{B}(N)$'))"
   ]
  },
  {
   "cell_type": "markdown",
   "metadata": {},
   "source": [
    "$\\text{The next law we will look at is power law}\\\\\n",
    "\\text{this states that:}\\\\\n",
    "\\log_{B}(M^R)=R\\log_B(M)\\\\\n",
    "\\text{First we need to define some variables. We will choose x and y.}\\\\\n",
    "\\text{Let} \\: x=\\log_{B}(M^R)\\\\\n",
    "\\text{The equivalent exponential form is }B^x=M^R\\\\\n",
    "\\text{If we put both sides of the equation to the exponent of }\\frac{1}{R}\\text{, we get:}\\\\\n",
    "(B^x)^{\\frac{1}{R}}=(M^R)^{\\frac{1}{R}}\\\\\n",
    "\\text{this reduces to } B^{\\frac{x}{R}}=M\\\\\n",
    "\\text{Applying the log function to both sides, we get:}\\\\\n",
    "\\log_B(M)=\\frac{x}{R}\\\\\n",
    "\\text{Multiply R onto both sides}\\\\\n",
    "R\\log_B(M)=x\\\\\n",
    "\\text{substite in x}\\\\\n",
    "R\\log_B(M)=\\log_B(M^R)$"
   ]
  },
  {
   "cell_type": "code",
   "execution_count": 6,
   "metadata": {},
   "outputs": [
    {
     "data": {
      "text/plain": [
       "<matplotlib.figure.Figure at 0x7f345ec263c8>"
      ]
     },
     "metadata": {},
     "output_type": "display_data"
    },
    {
     "data": {
      "application/vnd.jupyter.widget-view+json": {
       "model_id": "7908f015a1564de48b095f8975145022",
       "version_major": 2,
       "version_minor": 0
      },
      "text/html": [
       "<p>Failed to display Jupyter Widget of type <code>interactive</code>.</p>\n",
       "<p>\n",
       "  If you're reading this message in the Jupyter Notebook or JupyterLab Notebook, it may mean\n",
       "  that the widgets JavaScript is still loading. If this message persists, it\n",
       "  likely means that the widgets JavaScript library is either not installed or\n",
       "  not enabled. See the <a href=\"https://ipywidgets.readthedocs.io/en/stable/user_install.html\">Jupyter\n",
       "  Widgets Documentation</a> for setup instructions.\n",
       "</p>\n",
       "<p>\n",
       "  If you're reading this message in another frontend (for example, a static\n",
       "  rendering on GitHub or <a href=\"https://nbviewer.jupyter.org/\">NBViewer</a>),\n",
       "  it may mean that your frontend doesn't currently support widgets.\n",
       "</p>\n"
      ],
      "text/plain": [
       "interactive(children=(FloatSlider(value=5.0, description='axis', max=10.0, min=1.0, step=1.0), Output()), _dom_classes=('widget-interact',))"
      ]
     },
     "metadata": {},
     "output_type": "display_data"
    },
    {
     "name": "stdout",
     "output_type": "stream",
     "text": [
      "thus\n"
     ]
    },
    {
     "data": {
      "text/latex": [
       "$$\\log_{B}(M^R)=R\\log_B(M)$$"
      ],
      "text/plain": [
       "<IPython.core.display.Math object>"
      ]
     },
     "metadata": {},
     "output_type": "display_data"
    }
   ],
   "source": [
    "#Interactive graphical proof\n",
    "\n",
    "x=np.linspace(1,10)\n",
    "fig = plt.figure()\n",
    "#    ax = fig.add_subplot(1, 1, 1)\n",
    " #   line, = ax.plot(x, f(r,m,b,x))\n",
    "\n",
    "def update(axis = (1.0,10,1)):\n",
    "    p1=log((m*axis)**r,b)\n",
    "    p2=r*log(m*axis,b)  \n",
    "    plt.plot(x,f1(r,m,b,x),'-g',label='log(n)')\n",
    "    plt.plot(x,f2(r,m,b,x),'-b',label='log(m)')\n",
    "    plt.plot(axis,p1,'ob',axis,p2,'og')\n",
    "    plt.legend(bbox_to_anchor=(1.05, 1), loc=2, borderaxespad=0.)\n",
    "    plt.xticks(np.arange(0, 10, step=1))\n",
    "    plt.show()\n",
    "    print('at x={0:1.3f}'.format(axis))\n",
    "    print('The points are at {0:1.3f} {1:1.3f} '.format(p1, p2))\n",
    "    print('The points at {0:1.3f}*log({1:1.3f}x) and log({2:1.3f}x) are at {3:1.3f} and {4:1.3f} repectively'.format(r,m,m**r,p1, p2))\n",
    "    print('{0:1.3f}={1:1.3f}'.format(p1,p2))\n",
    "    fig.canvas.draw()\n",
    "\n",
    "interact(update);\n",
    "\n",
    "\n",
    "print('thus')\n",
    "display(Math(r'\\log_{B}(M^R)=R\\log_B(M)'))"
   ]
  }
 ],
 "metadata": {
  "kernelspec": {
   "display_name": "Python 3",
   "language": "python",
   "name": "python3"
  },
  "language_info": {
   "codemirror_mode": {
    "name": "ipython",
    "version": 3
   },
   "file_extension": ".py",
   "mimetype": "text/x-python",
   "name": "python",
   "nbconvert_exporter": "python",
   "pygments_lexer": "ipython3",
   "version": "3.6.5"
  }
 },
 "nbformat": 4,
 "nbformat_minor": 2
}

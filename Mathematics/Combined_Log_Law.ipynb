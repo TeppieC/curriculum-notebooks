{
 "cells": [
  {
   "cell_type": "markdown",
   "metadata": {},
   "source": [
    "<h1><center>Logarithmic Laws</center></h1>"
   ]
  },
  {
   "cell_type": "markdown",
   "metadata": {},
   "source": [
    "## Introduction: <p>\n",
    "Logarithms are the inverse operation to exponentials. Just like exponentials, the behavior of logarithms can be categorized by laws that will be shown below. The 4 main laws shall be proved in this program.<p>    \n",
    "    \n",
    "## Basics of Logarithms:<p>\n",
    "Even though logarithms can seem very complex, we can look at the basic relationship between logarithms and exponentials in order to simplify these expressions to furture enhance our understandings. Before looking deeper in these relationships, we will first identify the main components of a logarithmic function. Logarithms are written in the following form:<p>\n",
    "$\\log_B(X)=N$ where B is the base of the logarithm. <p>\n",
    "We can solve for X with the following relationship:<p>\n",
    "$X=B^N$\n",
    "    \n",
    "## Logarithmic Laws<p>\n",
    "There are 4 main logarithmic laws which help show the relationship between exponential and logarithmic functions. <p>\n",
    "\n",
    "Product Law: $\\log_{B}(M \\times N)=\\log_{B}(M)+\\log_{B}(N)$<br /> \n",
    "Quotient Law: $\\log_{B}\\left(\\frac{M}{N}\\right)=\\log_{B}(M)-\\log_{B}(N)$<br />\n",
    "Power Law: $\\log_{B}(M^R)=R\\log_B(M)$<br />\n",
    "Changing Base Rule: $\\log_{B}(M)=\\frac{\\log_N(M)}{\\log_N(B)}$\n",
    "\n",
    "## Background: Exponential Laws\n",
    "Since Logarithms are closely related with exponents, we will be using exponential laws when deriving logarithmic laws. Exponential Laws state: <br />\n",
    "$x^M \\times x^N=x^{M+N} \\quad (1) $<br />\n",
    "$\\frac{x^M}{x^N}=x^{M-N} \\quad \\quad \\; \\;\\;\\,(2)$<br />\n",
    "$(x^M)^N=x^{MN} \\quad \\quad \\,(3)$<br />\n",
    "$(xy)^N=x^Ny^N \\quad \\quad \\,(4)$<br />\n",
    "We will be refering these laws throughout the program using the number in the brackets above.\n",
    "\n",
    "## Using Python\n",
    "### Import\n",
    "We will start out by importing modules that we will be using throughout the code. Modules are bits of code that other people have written and distibuted in order to simplify other programs."
   ]
  },
  {
   "cell_type": "code",
   "execution_count": 1,
   "metadata": {},
   "outputs": [],
   "source": [
    "from IPython.display import display, Latex, clear_output\n",
    "from math import log\n",
    "import matplotlib.pyplot as plt\n",
    "import matplotlib.gridspec as gridspec\n",
    "%matplotlib inline\n",
    "import numpy as np\n",
    "import ipywidgets as widgets\n",
    "from ipywidgets import interact, interactive, fixed, interact_manual,IntSlider, Output, VBox\n",
    "from abc import ABCMeta, abstractmethod"
   ]
  },
  {
   "cell_type": "markdown",
   "metadata": {},
   "source": [
    "### Definition of Classes and Functions\n",
    "<p>In python, classes are created with specific attributes to be called upon throughout the program.</p>\n",
    "\n",
    "<p>We will be using 2 main classes. One contains abstract methods in order to create a template for multiple graphs using the same format in order to prove the laws. The other class contains static methods in order to store functions which will be used for calculations for the graphical proofs.</p>\n",
    "\n",
    "<p>When looking at the first class, LorgarithmLaw, all of the variables and definitions are initiated but not defined. The class is given attributes so that a very similar format of code can be used for each graphical proof. This results in consistent graphs and easier to read code.</p>\n",
    "\n",
    "<p>The second class, Logarithm, will be used to store functions for calculations to assist with graphical proofs throughout the program. This will make it easier to perform calculations with constantly changing variables. Each function is written as a static method. This means that the attributes and purpose of the functions stay the same. The only thing that is subject to change is the predefined variables that are input into the function. The class is called \"Logarithm\". In order to call these functions we will have to first identify the class then the function. For example, the first log function will be called by stating Logarithm.log. </p>\n",
    "\n",
    "#### Commenting on Code\n",
    "When looking at the code, you will notice that there is a box made out of number signs. This is not part of the working code. They are comments to submerize the function of the static method. The first heading contains the second while \"@Args\" describes the inputed variables in the function and \"@Returns\" describes the output numbers after being passed through the function."
   ]
  },
  {
   "cell_type": "code",
   "execution_count": 2,
   "metadata": {},
   "outputs": [],
   "source": [
    "class LogarithmLaw(metaclass=ABCMeta):\n",
    "    x = None\n",
    "    axis = None\n",
    "    M = None\n",
    "    N = None\n",
    "    @abstractmethod\n",
    "    def create_graph():\n",
    "        pass\n",
    "    @abstractmethod\n",
    "    def clear_display():\n",
    "        pass\n",
    "    @abstractmethod\n",
    "    def xv():\n",
    "        pass\n",
    "    @abstractmethod\n",
    "    def Mv():\n",
    "        pass\n",
    "    @abstractmethod\n",
    "    def Nv():\n",
    "        pass\n",
    "    \n",
    "class Logarithm:\n",
    "    #############################################\n",
    "    #     Description: stores all functions that will be using as shortcuts when graphing functions.\n",
    "    #############################################\n",
    "    \n",
    "    @staticmethod\n",
    "    def log(m,b,x):\n",
    "        #########################################\n",
    "        #   Function: y= log(mx)\n",
    "        #   \n",
    "        #   @Args:\n",
    "        #   m: constant inside the logarithm\n",
    "        #   b: base of the logarithm\n",
    "        #   x: vector with all of the x-coordinates\n",
    "        #\n",
    "        #   @Returns:\n",
    "        #   y: y-coordinates of the graph based on the x-coordinates and function\n",
    "        #\n",
    "        #########################################\n",
    "        i=x*m\n",
    "        return [log(y,b) for y in i]\n",
    "\n",
    "    @staticmethod\n",
    "    def log_exp(r,m,b,x):\n",
    "        #########################################\n",
    "        #   Function: y=log((mx)^r)\n",
    "        #   \n",
    "        #   @Args:\n",
    "        #   m: constant inside the logarithm\n",
    "        #   b: base of the logarithm\n",
    "        #   x: vector with all of the x-coordinates\n",
    "        #   r: exponent within the logarith\n",
    "        #\n",
    "        #   @Returns:\n",
    "        #   y: y-coordinates of the graph based on the x-coordinates and function\n",
    "        #\n",
    "        #########################################\n",
    "        x= (x*m)**r\n",
    "        return [log(y,b) for y in x]\n",
    "\n",
    "    @staticmethod\n",
    "    def constant_x_log(r,m,b,x):\n",
    "        #########################################\n",
    "        #   Function: y=r*log(mx)\n",
    "        #   \n",
    "        #   @Args:\n",
    "        #   r: constant multiplied by the logarithm\n",
    "        #   m: constant inside the logarithm\n",
    "        #   b: base of the logarithm\n",
    "        #   x: vector with all of the x-coordinates\n",
    "        #\n",
    "        #   @Returns:\n",
    "        #   y: y-coordinates of the graph based on the x-coordinates and function\n",
    "        #\n",
    "        #########################################\n",
    "        x= x*m\n",
    "        return [r*log(y,b) for y in x]\n",
    "\n",
    "    @staticmethod\n",
    "    def division_of_logs(m,n,b,x):\n",
    "        #########################################\n",
    "        #   Function: y=log_m(nx)/log_b(nx)\n",
    "        #   \n",
    "        #   @Args:\n",
    "        #   m: base of logarithm in the numerator\n",
    "        #   b: base of logarithm in the denominator\n",
    "        #   n: constant inside each logarithm\n",
    "        #   x: vector with all of the x-coordinates\n",
    "        #\n",
    "        #   @Returns:\n",
    "        #   y: y-coordinates of the graph based on the x-coordinates and function\n",
    "        #\n",
    "        #########################################\n",
    "        y1=Logarithm.log(m,n,x)\n",
    "        y2=Logarithm.log(b,n,x)\n",
    "        y=np.divide(y1,y2)\n",
    "        return y"
   ]
  },
  {
   "cell_type": "markdown",
   "metadata": {},
   "source": [
    "### Defining Variables\n",
    "Varibales are always defined near the beginnning of the code so that they can be easily changed. In this case, the variables are numbers that will be used as constants in graphical proofs. According to the logarim laws, the value of the variables should be irrelevant. "
   ]
  },
  {
   "cell_type": "code",
   "execution_count": 3,
   "metadata": {},
   "outputs": [],
   "source": [
    "#########################################\n",
    "# Variables:\n",
    "# base - Value of the base of the logarithms\n",
    "#      - Over the coarse of the program, we will set the base to be 10.\n",
    "#########################################\n",
    "\n",
    "base=10\n",
    "x=np.linspace(1,10)"
   ]
  },
  {
   "cell_type": "markdown",
   "metadata": {},
   "source": [
    "## <span style=\"color:blue\"> Product Law\n",
    "The law we are looking at is the first law which is Product Law. This is used when finding the sum of 2 logarithmic functions with the same base. The law states that: <br />\n",
    "$\\log_{B}(MN)=\\log_{B}M+\\log_{B}N$ <br />\n",
    "### Mathematical proof\n",
    "We will look at the mathematical proof. It may look complex, however, it can simply be broken down. First we need to define some variables. We will choose x and y.<br />\n",
    "Let $x=\\log_BM$ and Let $y=\\log_BN$<br />\n",
    "We know that the equivalent exponential forms are: <br />\n",
    "$B^x=M \\: \\text{and} \\: B^y=N$ <br />\n",
    "$\\text{we can state that:}$<br />\n",
    "$B^x \\times B^y=M \\times N$ <br />\n",
    "From the Exponential Law (1), we can get the equivalent expression: <br />\n",
    "$B^{x+y}=M \\times N$<br />\n",
    "In order to isolate for x, we will apply Log to both sides: <br />\n",
    "$\\log_B(B^{x+y})=\\log_B(M \\times N)$ <br /> \n",
    "$\\text{Based on the identity of a logarithm, we know that } \\log_B(B)=1 \\text{ thus, }\\log_B(B^{x+y})=x+y. $ The above expression is equivalent to: <br />\n",
    "$x+y=\\log_B(M \\times N)$ <br />\n",
    "as we know $ \\: x=\\log_BM \\:and \\: y=\\log_BN$ <br />\n",
    "Therefore: <br />\n",
    "$\\log_{B}(M \\times N)=\\log_{B}M+\\log_{B}N$\n",
    "\n",
    "### Graphical Proof\n",
    "In order to start the graphical proof, we will be using the variables base, M and N which were previously defined in the program. Since these values are not very relivant to the proof, it does not matter what values are used. 3 functions will be graphed. This includes the functions both on the left and right hand side of the equation for Product Law. At any given x point, we can see that the sum of the 2 points on the right hand side are equal to the left hand side of the equation. The following code graphs the 3 functions and analysis the resulting y values at any given x location. Theoretically, the sum of the y values of the 2 functions on the right hand side of the equation should be equal to the value on the left hand side of this equation. Theoretically, if this is always the case, then Product Law is valid."
   ]
  },
  {
   "cell_type": "code",
   "execution_count": 25,
   "metadata": {},
   "outputs": [
    {
     "data": {
      "application/vnd.jupyter.widget-view+json": {
       "model_id": "9c8692640f644787973f2c4edc2ed676",
       "version_major": 2,
       "version_minor": 0
      },
      "text/html": [
       "<p>Failed to display Jupyter Widget of type <code>IntSlider</code>.</p>\n",
       "<p>\n",
       "  If you're reading this message in the Jupyter Notebook or JupyterLab Notebook, it may mean\n",
       "  that the widgets JavaScript is still loading. If this message persists, it\n",
       "  likely means that the widgets JavaScript library is either not installed or\n",
       "  not enabled. See the <a href=\"https://ipywidgets.readthedocs.io/en/stable/user_install.html\">Jupyter\n",
       "  Widgets Documentation</a> for setup instructions.\n",
       "</p>\n",
       "<p>\n",
       "  If you're reading this message in another frontend (for example, a static\n",
       "  rendering on GitHub or <a href=\"https://nbviewer.jupyter.org/\">NBViewer</a>),\n",
       "  it may mean that your frontend doesn't currently support widgets.\n",
       "</p>\n"
      ],
      "text/plain": [
       "IntSlider(value=5, continuous_update=False, description='x-coordinate', max=10, min=1)"
      ]
     },
     "metadata": {},
     "output_type": "display_data"
    },
    {
     "data": {
      "application/vnd.jupyter.widget-view+json": {
       "model_id": "de03472a3cbe417ba49258b94b34e985",
       "version_major": 2,
       "version_minor": 0
      },
      "text/html": [
       "<p>Failed to display Jupyter Widget of type <code>IntSlider</code>.</p>\n",
       "<p>\n",
       "  If you're reading this message in the Jupyter Notebook or JupyterLab Notebook, it may mean\n",
       "  that the widgets JavaScript is still loading. If this message persists, it\n",
       "  likely means that the widgets JavaScript library is either not installed or\n",
       "  not enabled. See the <a href=\"https://ipywidgets.readthedocs.io/en/stable/user_install.html\">Jupyter\n",
       "  Widgets Documentation</a> for setup instructions.\n",
       "</p>\n",
       "<p>\n",
       "  If you're reading this message in another frontend (for example, a static\n",
       "  rendering on GitHub or <a href=\"https://nbviewer.jupyter.org/\">NBViewer</a>),\n",
       "  it may mean that your frontend doesn't currently support widgets.\n",
       "</p>\n"
      ],
      "text/plain": [
       "IntSlider(value=6, continuous_update=False, description='M value', max=10, min=1)"
      ]
     },
     "metadata": {},
     "output_type": "display_data"
    },
    {
     "data": {
      "application/vnd.jupyter.widget-view+json": {
       "model_id": "c6df8ffab4854a88b8c1e9a090ff5b15",
       "version_major": 2,
       "version_minor": 0
      },
      "text/html": [
       "<p>Failed to display Jupyter Widget of type <code>IntSlider</code>.</p>\n",
       "<p>\n",
       "  If you're reading this message in the Jupyter Notebook or JupyterLab Notebook, it may mean\n",
       "  that the widgets JavaScript is still loading. If this message persists, it\n",
       "  likely means that the widgets JavaScript library is either not installed or\n",
       "  not enabled. See the <a href=\"https://ipywidgets.readthedocs.io/en/stable/user_install.html\">Jupyter\n",
       "  Widgets Documentation</a> for setup instructions.\n",
       "</p>\n",
       "<p>\n",
       "  If you're reading this message in another frontend (for example, a static\n",
       "  rendering on GitHub or <a href=\"https://nbviewer.jupyter.org/\">NBViewer</a>),\n",
       "  it may mean that your frontend doesn't currently support widgets.\n",
       "</p>\n"
      ],
      "text/plain": [
       "IntSlider(value=3, continuous_update=False, description='N value', max=10, min=1)"
      ]
     },
     "metadata": {},
     "output_type": "display_data"
    },
    {
     "name": "stdout",
     "output_type": "stream",
     "text": [
      "at x=5\n",
      "As we can see from the marked y-coordinates on the graph above, the points at log(6x), log(3x) and log(18x) are at 1.477, 1.176 and 2.653 repectively\n",
      "1.477+1.176=2.653\n",
      "2.653=2.653\n",
      "This means that the left side of the equation equals the right side\n",
      "thus\n"
     ]
    },
    {
     "data": {
      "text/latex": [
       "$\\log_{B}(MN)=\\log_{B}(M)+\\log_{B}(N)$"
      ],
      "text/plain": [
       "<IPython.core.display.Latex object>"
      ]
     },
     "metadata": {},
     "output_type": "display_data"
    },
    {
     "data": {
      "image/png": "[encoded data removed]",
      "text/plain": [
       "<matplotlib.figure.Figure at 0x7f5d0c3742e8>"
      ]
     },
     "metadata": {},
     "output_type": "display_data"
    }
   ],
   "source": [
    "class ProductLaw(LogarithmLaw):\n",
    "    # Create 2x2 sub plots\n",
    "    gs = gridspec.GridSpec(2, 2)\n",
    "    x=np.linspace(1,10)\n",
    "    axis=5\n",
    "    M=6\n",
    "    N=3\n",
    "\n",
    "    def create_graph():\n",
    "\n",
    "        #########################################\n",
    "        # Description: generates a graph in order to prove Product Law\n",
    "        #\n",
    "        # @Args: chosen x-coordinate for analysis (based on sliding bar)\n",
    "        #        The values from the sliding bar range from 1 to 10 and increase by increments of 1.\n",
    "        #\n",
    "        # @Return: graph for graphical proof as well as the y-coordinate corresponding to the graphed points\n",
    "        #\n",
    "        #########################################\n",
    "\n",
    "        #x = np.linspace(1,10)\n",
    "\n",
    "        #Plot the 3 log functions from the left and right side of the Product Law\n",
    "        ax1 = plt.subplot(ProductLaw.gs[0, 1]) # row 0, col 0\n",
    "        ax1.plot(x,Logarithm.log(ProductLaw.M,base,x),'-b',label='$y=\\log_{B}(Mx)$')\n",
    "        p1=log(ProductLaw.M*ProductLaw.axis,base)\n",
    "        ax1.plot(ProductLaw.axis,p1,'ob')\n",
    "        ax1.annotate('%1.3f' %p1,xy=(ProductLaw.axis,p1),xytext=(-10,-20),textcoords='offset points')\n",
    "        ax1.set_title('Right side of Product law')\n",
    "        plt.ylabel('$y=\\log_{B}(Mx)$')\n",
    "        ax1.yaxis.set_label_position(\"right\")\n",
    "        plt.grid()\n",
    "\n",
    "        ax2 = plt.subplot(ProductLaw.gs[1, 1])\n",
    "        ax2.plot(x,Logarithm.log(ProductLaw.N,base,x),'-g',label='$y=\\log_{B}(Nx)$')\n",
    "        p2=log(ProductLaw.N*ProductLaw.axis,base)\n",
    "        ax2.plot(ProductLaw.axis,p2,'og')\n",
    "        ax2.annotate('%1.3f' %p2,xy=(ProductLaw.axis,p2),xytext=(-10,-20),textcoords='offset points')\n",
    "        plt.ylabel('$y=\\log_{B}(Nx)$')\n",
    "        ax2.yaxis.set_label_position(\"right\")\n",
    "        plt.xlabel('x')\n",
    "        plt.grid()\n",
    "\n",
    "        ax3 = plt.subplot(ProductLaw.gs[:, 0])\n",
    "        ax3.plot(x,Logarithm.log(ProductLaw.M*ProductLaw.N,base,x**2),'-r',label='$y=\\log_{B}(MNx^2)$')\n",
    "        p3=log(ProductLaw.M*ProductLaw.N*(ProductLaw.axis**2),base)\n",
    "        ax3.plot(ProductLaw.axis,p3,'or')\n",
    "        ax3.annotate('%1.3f' %p3,xy=(ProductLaw.axis,p3),xytext=(-10,-20),textcoords='offset points')\n",
    "        ax3.set_title('Left side of Product Law')\n",
    "        plt.ylabel('$y=\\log_{B}(MNx^2)$')\n",
    "        plt.xlabel('x')\n",
    "        plt.grid()\n",
    "        \n",
    "\n",
    "        print('at x={0:1d}'.format(ProductLaw.axis))\n",
    "\n",
    "        #Display the value of the points to prove that the law is valid\n",
    "        print('As we can see from the marked y-coordinates on the graph above, the points at log({0:1d}x), log({1:1d}x) and log({2:1d}x) are at {3:1.3f}, {4:1.3f} and {5:1.3f} repectively'.format(ProductLaw.M,ProductLaw.N,ProductLaw.M*ProductLaw.N,p1, p2, p3))\n",
    "        print('{0:1.3f}+{1:1.3f}={2:1.3f}'.format(p1,p2,p1+p2))\n",
    "        print('{0:1.3f}={1:1.3f}'.format(p3,p3))\n",
    "        print('This means that the left side of the equation equals the right side')\n",
    "        print('thus')\n",
    "        display(Latex('$\\log_{B}(MN)=\\log_{B}(M)+\\log_{B}(N)$'))\n",
    "\n",
    "    def clear_display():\n",
    "        clear_output(wait=True)\n",
    "        display(x_axis_bar)\n",
    "        display(M_bar)\n",
    "        display(N_bar)\n",
    "        ProductLaw.create_graph()\n",
    "        \n",
    "    def xv(value):\n",
    "        ProductLaw.axis=value['new']\n",
    "        ProductLaw.clear_display()\n",
    "        \n",
    "    def Mv(value):\n",
    "        ProductLaw.M=value['new']\n",
    "        ProductLaw.clear_display()\n",
    "        \n",
    "    def Nv(value):\n",
    "        ProductLaw.N=value['new']\n",
    "        ProductLaw.clear_display()\n",
    "\n",
    "x_axis_bar = widgets.IntSlider(\n",
    "    value=5,\n",
    "    min=1,\n",
    "    max=10,\n",
    "    step=1,\n",
    "    description='x-coordinate',\n",
    "    disabled=False,\n",
    "    continuous_update=False,\n",
    "    orientation='horizontal',\n",
    "    readout=True,\n",
    "    readout_format='d'\n",
    ")       \n",
    "\n",
    "M_bar = widgets.IntSlider(\n",
    "    value=ProductLaw.M,\n",
    "    min=1,\n",
    "    max=10,\n",
    "    step=1,\n",
    "    description='M value',\n",
    "    disabled=False,\n",
    "    continuous_update=False,\n",
    "    orientation='horizontal',\n",
    "    readout=True,\n",
    "    readout_format='d'\n",
    ")            \n",
    "\n",
    "N_bar = widgets.IntSlider(\n",
    "    value=ProductLaw.N,\n",
    "    min=1,\n",
    "    max=10,\n",
    "    step=1,\n",
    "    description='N value',\n",
    "    disabled=False,\n",
    "    continuous_update=False,\n",
    "    orientation='horizontal',\n",
    "    readout=True,\n",
    "    readout_format='d'\n",
    ")    \n",
    "\n",
    "\n",
    "ProductLaw.clear_display()\n",
    "x_axis_bar.observe(ProductLaw.xv, names='value')\n",
    "M_bar.observe(ProductLaw.Mv, names='value')\n",
    "N_bar.observe(ProductLaw.Nv, names='value')\n",
    "\n"
   ]
  },
  {
   "cell_type": "markdown",
   "metadata": {},
   "source": [
    "### Results\n",
    "During the mathematical proof, we  used the relationship between logarithms and exponents in order to derive Product Law. Based on the values recorded during the graphical proof, we can see that at any inputed x-coordinates, the left hand side of the law is equivalent to sum of the two functions on the right hand side. This analysis can validate Product Law.\n",
    "\n",
    "## <span style=\"color:blue\"> Quotient Law\n",
    "The next law we will be looking at is Quotient Law. This is used when finding the difference of 2 logarithmic functions. The law states that: <br />\n",
    "$\\log_{B}\\left(\\frac{M}{N}\\right)=\\log_{B}M-\\log_{B}N$\n",
    "### Mathematical proof\n",
    "The proof we will be looking at is to mathematically prove Quotient law <br />\n",
    "First we need to define some variables. We will choose x and y. <br />\n",
    "$\\text{Let } x=\\log_BM \\text{ and Let } y=\\log_BN\\\\\n",
    "\\text{Based on the basic of logarithms, we know that the equivalent exponential forms are:} $ <br />\n",
    "$B^x=M \\text{ and } B^y=N$ <br />\n",
    "Based on the above, we can state that: <br />\n",
    "$\\frac{B^x}{B^y}=\\frac{M}{N}$ <br />\n",
    "Using Exponential Law (2), the above equation is equivalent to: <br />\n",
    "$B^{x-y}=\\frac{M}{N}$ <br />\n",
    "$\\log_{B}\\left(\\frac{M}{N}\\right)=x-y $ <br />\n",
    "$\\log_{B}\\left(\\frac{M}{N}\\right)=\\log_{B}M-\\log_{B}N$\n",
    "### Graphical Proof\n",
    "We will graph all of the functions in the equation based on the previouslly defined variables. From the right side, we will graph $y=\\log_B(Mx)$ and $y=\\log_B(Nx)$. From the left side, we will graph $y=\\log_B\\left(\\frac{Mx}{Nx}\\right)$ which reduces to $y=\\log_B\\left(\\frac{M}{N}\\right)$. It is expected that at any given x-coordinate, the difference between the respected y coordinates on the right side should be equivalent to the corresponding point on the function from the left side of the equation. Theoretically, if this equality proves to be true at all x points, then Quotient Law is valid."
   ]
  },
  {
   "cell_type": "code",
   "execution_count": 22,
   "metadata": {
    "scrolled": true
   },
   "outputs": [
    {
     "data": {
      "application/vnd.jupyter.widget-view+json": {
       "model_id": "0cac1f05a8fd4ac3a1c85493e27a1be7",
       "version_major": 2,
       "version_minor": 0
      },
      "text/html": [
       "<p>Failed to display Jupyter Widget of type <code>IntSlider</code>.</p>\n",
       "<p>\n",
       "  If you're reading this message in the Jupyter Notebook or JupyterLab Notebook, it may mean\n",
       "  that the widgets JavaScript is still loading. If this message persists, it\n",
       "  likely means that the widgets JavaScript library is either not installed or\n",
       "  not enabled. See the <a href=\"https://ipywidgets.readthedocs.io/en/stable/user_install.html\">Jupyter\n",
       "  Widgets Documentation</a> for setup instructions.\n",
       "</p>\n",
       "<p>\n",
       "  If you're reading this message in another frontend (for example, a static\n",
       "  rendering on GitHub or <a href=\"https://nbviewer.jupyter.org/\">NBViewer</a>),\n",
       "  it may mean that your frontend doesn't currently support widgets.\n",
       "</p>\n"
      ],
      "text/plain": [
       "IntSlider(value=3, continuous_update=False, description='x-coordinate', max=10, min=1)"
      ]
     },
     "metadata": {},
     "output_type": "display_data"
    },
    {
     "data": {
      "application/vnd.jupyter.widget-view+json": {
       "model_id": "1b7e906b212e450b949b39ccb0c899d6",
       "version_major": 2,
       "version_minor": 0
      },
      "text/html": [
       "<p>Failed to display Jupyter Widget of type <code>IntSlider</code>.</p>\n",
       "<p>\n",
       "  If you're reading this message in the Jupyter Notebook or JupyterLab Notebook, it may mean\n",
       "  that the widgets JavaScript is still loading. If this message persists, it\n",
       "  likely means that the widgets JavaScript library is either not installed or\n",
       "  not enabled. See the <a href=\"https://ipywidgets.readthedocs.io/en/stable/user_install.html\">Jupyter\n",
       "  Widgets Documentation</a> for setup instructions.\n",
       "</p>\n",
       "<p>\n",
       "  If you're reading this message in another frontend (for example, a static\n",
       "  rendering on GitHub or <a href=\"https://nbviewer.jupyter.org/\">NBViewer</a>),\n",
       "  it may mean that your frontend doesn't currently support widgets.\n",
       "</p>\n"
      ],
      "text/plain": [
       "IntSlider(value=6, continuous_update=False, description='M value', max=10, min=1)"
      ]
     },
     "metadata": {},
     "output_type": "display_data"
    },
    {
     "data": {
      "application/vnd.jupyter.widget-view+json": {
       "model_id": "45325508d1934695ac1e61329d860ead",
       "version_major": 2,
       "version_minor": 0
      },
      "text/html": [
       "<p>Failed to display Jupyter Widget of type <code>IntSlider</code>.</p>\n",
       "<p>\n",
       "  If you're reading this message in the Jupyter Notebook or JupyterLab Notebook, it may mean\n",
       "  that the widgets JavaScript is still loading. If this message persists, it\n",
       "  likely means that the widgets JavaScript library is either not installed or\n",
       "  not enabled. See the <a href=\"https://ipywidgets.readthedocs.io/en/stable/user_install.html\">Jupyter\n",
       "  Widgets Documentation</a> for setup instructions.\n",
       "</p>\n",
       "<p>\n",
       "  If you're reading this message in another frontend (for example, a static\n",
       "  rendering on GitHub or <a href=\"https://nbviewer.jupyter.org/\">NBViewer</a>),\n",
       "  it may mean that your frontend doesn't currently support widgets.\n",
       "</p>\n"
      ],
      "text/plain": [
       "IntSlider(value=9, continuous_update=False, description='N value', max=10, min=1)"
      ]
     },
     "metadata": {},
     "output_type": "display_data"
    },
    {
     "name": "stdout",
     "output_type": "stream",
     "text": [
      "at x=3\n",
      "The y-coordinates are at 1.255 1.431 -0.176\n",
      "The points at log(6x), log(9x) and log(1) are at 1.255, 1.431 and -0.176 repectively\n",
      "1.255-1.431=-0.176\n",
      "thus\n"
     ]
    },
    {
     "data": {
      "text/latex": [
       "$\\log_{B}\\left(\\frac{M}{N}\\right)=\\log_{B}(M)-\\log_{B}(N)$"
      ],
      "text/plain": [
       "<IPython.core.display.Latex object>"
      ]
     },
     "metadata": {},
     "output_type": "display_data"
    },
    {
     "data": {
      "image/png": "[encoded data removed]",
      "text/plain": [
       "<matplotlib.figure.Figure at 0x7f5d113c5828>"
      ]
     },
     "metadata": {},
     "output_type": "display_data"
    }
   ],
   "source": [
    "class QuotientLaw():\n",
    "   \n",
    "    # Create 2x2 sub plots\n",
    "    gs = gridspec.GridSpec(2, 2)\n",
    "    \n",
    "    axis=5\n",
    "    M=6\n",
    "    N=3\n",
    "    \n",
    "    def create_graph():\n",
    "\n",
    "        #########################################\n",
    "        # Description: generates a graph in order to prove Quotient Law\n",
    "        #\n",
    "        # @Args: chosen x-coordinate for analysis (based on sliding bar)\n",
    "        #        The values from the sliding bar range from 1 to 10 and increase by increments of 1.\n",
    "        #\n",
    "        # @Return: graph for graphical proof as well as the y-coordinate corresponding to the graphed points\n",
    "        #\n",
    "        #########################################\n",
    "        \n",
    "        y=np.linspace(QuotientLaw.M/QuotientLaw.N,QuotientLaw.M/QuotientLaw.N)\n",
    "        \n",
    "        #Plot the 3 log functions from the left and right side of the Product Law\n",
    "        ax1 = plt.subplot(QuotientLaw.gs[0, 1]) # row 0, col 0\n",
    "        ax1.plot(x,Logarithm.log(QuotientLaw.M,base,x),'-b')\n",
    "        p1=log(QuotientLaw.M*QuotientLaw.axis,base)\n",
    "        ax1.plot(QuotientLaw.axis,p1,'ob')\n",
    "        ax1.annotate('%1.3f' %p1,xy=(QuotientLaw.axis,p1),xytext=(-10,-20),textcoords='offset points')\n",
    "        ax1.set_title('Right side of Quotient Law')\n",
    "        plt.ylabel('$y=\\log_{B}(Mx)$')\n",
    "        ax1.yaxis.set_label_position(\"right\")\n",
    "        plt.grid()\n",
    "\n",
    "        ax2 = plt.subplot(QuotientLaw.gs[1, 1])\n",
    "        ax2.plot(x,Logarithm.log(QuotientLaw.N,base,x),'-g')\n",
    "        p2=log(QuotientLaw.N*QuotientLaw.axis,base)\n",
    "        ax2.plot(QuotientLaw.axis,p2,'og')\n",
    "        ax2.annotate('%1.3f' %p2,xy=(QuotientLaw.axis,p2),xytext=(-10,-20),textcoords='offset points')\n",
    "        plt.ylabel('$y=\\log_{B}(Nx)$')\n",
    "        ax2.yaxis.set_label_position(\"right\")\n",
    "        plt.xlabel('x')\n",
    "        plt.grid()\n",
    "\n",
    "        ax3 = plt.subplot(QuotientLaw.gs[:, 0])\n",
    "        ax3.plot(x,Logarithm.log(1,base,y),'-r')\n",
    "        p3=log(QuotientLaw.M/QuotientLaw.N,base)\n",
    "        ax3.plot(QuotientLaw.axis,p3,'or')\n",
    "        ax3.annotate('%1.3f' %p3,xy=(QuotientLaw.axis,p3),xytext=(-10,-20),textcoords='offset points')\n",
    "        ax3.set_title('Left side of Quotient Law')\n",
    "        plt.ylabel('$y=\\log_{B}(MNx^2)$')\n",
    "        plt.xlabel('x')\n",
    "        plt.grid()\n",
    "        \n",
    "        \n",
    "        print('at x={0:1.0f}'.format(QuotientLaw.axis))\n",
    "        print('The y-coordinates are at {0:1.3f} {1:1.3f} {2:1.3f}'.format(p1, p2, p3))\n",
    "        print('The points at log({0:1.0f}x), log({1:1.0f}x) and log({2:1.0f}) are at {3:1.3f}, {4:1.3f} and {5:1.3f} repectively'.format(QuotientLaw.M,QuotientLaw.N,QuotientLaw.M/QuotientLaw.N,p1, p2, p3))\n",
    "        print('{0:1.3f}-{1:1.3f}={2:1.3f}'.format(p1,p2,p3))\n",
    "\n",
    "        print('thus')\n",
    "        display(Latex(r'$\\log_{B}\\left(\\frac{M}{N}\\right)=\\log_{B}(M)-\\log_{B}(N)$'))\n",
    "    \n",
    "    def clear_display():\n",
    "        clear_output(wait=True)\n",
    "        display(x_axis_bar)\n",
    "        display(M_bar)\n",
    "        display(N_bar)\n",
    "        QuotientLaw.create_graph()\n",
    "        \n",
    "        \n",
    "\n",
    "    def xv(value):\n",
    "        QuotientLaw.axis=value['new']\n",
    "        QuotientLaw.clear_display()\n",
    "        \n",
    "    def Mv(value):\n",
    "        QuotientLaw.M=value['new']\n",
    "        QuotientLaw.clear_display()\n",
    "        \n",
    "    def Nv(value):\n",
    "        QuotientLaw.N=value['new']\n",
    "        QuotientLaw.clear_display()\n",
    "\n",
    "x_axis_bar = widgets.IntSlider(\n",
    "    value=5,\n",
    "    min=1,\n",
    "    max=10,\n",
    "    step=1,\n",
    "    description='x-coordinate',\n",
    "    disabled=False,\n",
    "    continuous_update=False,\n",
    "    orientation='horizontal',\n",
    "    readout=True,\n",
    "    readout_format='d'\n",
    ")       \n",
    "\n",
    "M_bar = widgets.IntSlider(\n",
    "    value=QuotientLaw.M,\n",
    "    min=1,\n",
    "    max=10,\n",
    "    step=1,\n",
    "    description='M value',\n",
    "    disabled=False,\n",
    "    continuous_update=False,\n",
    "    orientation='horizontal',\n",
    "    readout=True,\n",
    "    readout_format='d'\n",
    ")            \n",
    "\n",
    "N_bar = widgets.IntSlider(\n",
    "    value=QuotientLaw.N,\n",
    "    min=1,\n",
    "    max=10,\n",
    "    step=1,\n",
    "    description='N value',\n",
    "    disabled=False,\n",
    "    continuous_update=False,\n",
    "    orientation='horizontal',\n",
    "    readout=True,\n",
    "    readout_format='d'\n",
    ")    \n",
    "\n",
    "\n",
    "QuotientLaw.clear_display()\n",
    "x_axis_bar.observe(QuotientLaw.xv, names='value')\n",
    "M_bar.observe(QuotientLaw.Mv, names='value')\n",
    "N_bar.observe(QuotientLaw.Nv, names='value')\n"
   ]
  },
  {
   "cell_type": "markdown",
   "metadata": {},
   "source": [
    "### Result\n",
    "During the mathematical proof, we  used the relationship between logarithms and exponents as well as exponential laws in order to derive Quotient Law. When we look at the graphical proof, we can see that the functions on the right hand side both resemble very similar curves. On the left hand side of the law, we can see that the function remains as a constant number. This appears reasonable as the two curves appear to be a consistent distance apparent. From the combined evidence of the mathematical and graphical proofs, we can prove the accuracy of Quotient Laws.\n",
    "\n",
    "## <span style=\"color:blue\"> Power Law\n",
    "The next law we will look at is power law. This is used in the case when there is an exponent inside the logarithmic function this states that: <br />\n",
    "$\\log_{B}(M^R)=R\\log_B(M)$\n",
    "\n",
    "### Mathematical Proof \n",
    "$\\text{First we need to define some variables. We will choose x and y.}$ <br />\n",
    "$\\text{Let } x=\\log_{B}(M^R)$ <br />\n",
    "From the basics of logarithms, the equivalent exponential form is: <br />\n",
    "$B^x=M^R $<br /> \n",
    "$\\text{If we put each side of the equation to the exponent of }\\frac{1}{R}\\text{, we get:}$ <br />\n",
    "$(B^x)^{\\frac{1}{R}}=(M^R)^{\\frac{1}{R}}$ <br />\n",
    "By using Exponential Law (3), we can multiply the exponents to the one inside the brackets to get: <br />\n",
    "$B^{\\frac{x}{R}}=M$ <br />\n",
    "In order to isolate for x, we can apply the log function to both sides to get: <br />\n",
    "$\\log_B(M)=\\frac{x}{R} $ <br />\n",
    "Using basic algebra to isolate from x, we can multiply R onto both sides to get: <br />\n",
    "$R\\log_B(M)=x$ <br />\n",
    "The last step is to substitute in x to end up with the final result: <br />\n",
    "$R\\log_B(M)=\\log_B(M^R)$ <br />\n",
    "\n",
    "### Graphical Proof\n",
    "In this case, there is one function on each the left and right hand sides of the law. For this reason 2 functions will be graphed. Since they are theoretically be equivalent to each other, we can expect that the functions will be identical on the graph. If this is seen on the graph, we can validate Power Law."
   ]
  },
  {
   "cell_type": "code",
   "execution_count": 27,
   "metadata": {},
   "outputs": [
    {
     "data": {
      "application/vnd.jupyter.widget-view+json": {
       "model_id": "8fbd8fef60c64963bb1e363e0633786a",
       "version_major": 2,
       "version_minor": 0
      },
      "text/html": [
       "<p>Failed to display Jupyter Widget of type <code>IntSlider</code>.</p>\n",
       "<p>\n",
       "  If you're reading this message in the Jupyter Notebook or JupyterLab Notebook, it may mean\n",
       "  that the widgets JavaScript is still loading. If this message persists, it\n",
       "  likely means that the widgets JavaScript library is either not installed or\n",
       "  not enabled. See the <a href=\"https://ipywidgets.readthedocs.io/en/stable/user_install.html\">Jupyter\n",
       "  Widgets Documentation</a> for setup instructions.\n",
       "</p>\n",
       "<p>\n",
       "  If you're reading this message in another frontend (for example, a static\n",
       "  rendering on GitHub or <a href=\"https://nbviewer.jupyter.org/\">NBViewer</a>),\n",
       "  it may mean that your frontend doesn't currently support widgets.\n",
       "</p>\n"
      ],
      "text/plain": [
       "IntSlider(value=5, continuous_update=False, description='x-coordinate', max=10, min=1)"
      ]
     },
     "metadata": {},
     "output_type": "display_data"
    },
    {
     "data": {
      "application/vnd.jupyter.widget-view+json": {
       "model_id": "a7fb32b633074d81aa5a7486e4ad3b3c",
       "version_major": 2,
       "version_minor": 0
      },
      "text/html": [
       "<p>Failed to display Jupyter Widget of type <code>IntSlider</code>.</p>\n",
       "<p>\n",
       "  If you're reading this message in the Jupyter Notebook or JupyterLab Notebook, it may mean\n",
       "  that the widgets JavaScript is still loading. If this message persists, it\n",
       "  likely means that the widgets JavaScript library is either not installed or\n",
       "  not enabled. See the <a href=\"https://ipywidgets.readthedocs.io/en/stable/user_install.html\">Jupyter\n",
       "  Widgets Documentation</a> for setup instructions.\n",
       "</p>\n",
       "<p>\n",
       "  If you're reading this message in another frontend (for example, a static\n",
       "  rendering on GitHub or <a href=\"https://nbviewer.jupyter.org/\">NBViewer</a>),\n",
       "  it may mean that your frontend doesn't currently support widgets.\n",
       "</p>\n"
      ],
      "text/plain": [
       "IntSlider(value=6, continuous_update=False, description='M value', max=10, min=1)"
      ]
     },
     "metadata": {},
     "output_type": "display_data"
    },
    {
     "data": {
      "application/vnd.jupyter.widget-view+json": {
       "model_id": "1fab0e8a8eb140968514ef6d81763e38",
       "version_major": 2,
       "version_minor": 0
      },
      "text/html": [
       "<p>Failed to display Jupyter Widget of type <code>IntSlider</code>.</p>\n",
       "<p>\n",
       "  If you're reading this message in the Jupyter Notebook or JupyterLab Notebook, it may mean\n",
       "  that the widgets JavaScript is still loading. If this message persists, it\n",
       "  likely means that the widgets JavaScript library is either not installed or\n",
       "  not enabled. See the <a href=\"https://ipywidgets.readthedocs.io/en/stable/user_install.html\">Jupyter\n",
       "  Widgets Documentation</a> for setup instructions.\n",
       "</p>\n",
       "<p>\n",
       "  If you're reading this message in another frontend (for example, a static\n",
       "  rendering on GitHub or <a href=\"https://nbviewer.jupyter.org/\">NBViewer</a>),\n",
       "  it may mean that your frontend doesn't currently support widgets.\n",
       "</p>\n"
      ],
      "text/plain": [
       "IntSlider(value=3, continuous_update=False, description='N value', max=10, min=1)"
      ]
     },
     "metadata": {},
     "output_type": "display_data"
    },
    {
     "data": {
      "application/vnd.jupyter.widget-view+json": {
       "model_id": "ad95335be3ae49e18fc960395c7cc834",
       "version_major": 2,
       "version_minor": 0
      },
      "text/html": [
       "<p>Failed to display Jupyter Widget of type <code>IntSlider</code>.</p>\n",
       "<p>\n",
       "  If you're reading this message in the Jupyter Notebook or JupyterLab Notebook, it may mean\n",
       "  that the widgets JavaScript is still loading. If this message persists, it\n",
       "  likely means that the widgets JavaScript library is either not installed or\n",
       "  not enabled. See the <a href=\"https://ipywidgets.readthedocs.io/en/stable/user_install.html\">Jupyter\n",
       "  Widgets Documentation</a> for setup instructions.\n",
       "</p>\n",
       "<p>\n",
       "  If you're reading this message in another frontend (for example, a static\n",
       "  rendering on GitHub or <a href=\"https://nbviewer.jupyter.org/\">NBViewer</a>),\n",
       "  it may mean that your frontend doesn't currently support widgets.\n",
       "</p>\n"
      ],
      "text/plain": [
       "IntSlider(value=7, continuous_update=False, description='R value', max=10, min=1)"
      ]
     },
     "metadata": {},
     "output_type": "display_data"
    },
    {
     "name": "stdout",
     "output_type": "stream",
     "text": [
      "at x=5\n",
      "We can see that the y-coordinates are labeled on the graph. At the points log(6^7x) and 7*log(6x) the y-coordinates are 10.340 and 10.340 repectively\n",
      "10.340=10.340\n",
      "thus\n"
     ]
    },
    {
     "data": {
      "text/latex": [
       "$\\log_{B}(M^R)=R\\log_B(M)$"
      ],
      "text/plain": [
       "<IPython.core.display.Latex object>"
      ]
     },
     "metadata": {},
     "output_type": "display_data"
    },
    {
     "data": {
      "image/png": "[encoded data removed]",
      "text/plain": [
       "<matplotlib.figure.Figure at 0x7f5d0c19a160>"
      ]
     },
     "metadata": {},
     "output_type": "display_data"
    }
   ],
   "source": [
    "class PowerLaw():\n",
    "    # Create 2x2 sub plots\n",
    "    gs = gridspec.GridSpec(1, 2)\n",
    "    x=np.linspace(1,10)\n",
    "    axis=5\n",
    "    M=6\n",
    "    N=3\n",
    "    R=2\n",
    "\n",
    "    def create_graph():\n",
    "\n",
    "        #########################################\n",
    "        # Description: generates a graph in order to prove Product Law\n",
    "        #\n",
    "        # @Args: chosen x-coordinate for analysis (based on sliding bar)\n",
    "        #        The values from the sliding bar range from 1 to 10 and increase by increments of 1.\n",
    "        #\n",
    "        # @Return: graph for graphical proof as well as the y-coordinate corresponding to the graphed points\n",
    "        #\n",
    "        #########################################\n",
    "\n",
    "        #Plot the 3 log functions from the left and right side of the Product Law\n",
    "        ax1 = plt.subplot(PowerLaw.gs[0,1]) # row 0, col 0\n",
    "        ax1.plot(x,Logarithm.log_exp(PowerLaw.R,PowerLaw.M,base,x),'-g')\n",
    "        p1=log((PowerLaw.M*PowerLaw.axis)**PowerLaw.R,base)\n",
    "        ax1.plot(PowerLaw.axis,p1,'ob')\n",
    "        ax1.annotate('%1.3f' %p1,xy=(PowerLaw.axis,p1),xytext=(-10,-20),textcoords='offset points')\n",
    "        ax1.set_title('Right side of Power law')\n",
    "        plt.ylabel('$y=\\log_{B}(Mx)$')\n",
    "        ax1.yaxis.set_label_position(\"right\")\n",
    "        plt.xlabel('x')\n",
    "        plt.grid()\n",
    "\n",
    "        ax2 = plt.subplot(PowerLaw.gs[0, 0])\n",
    "        ax2.plot(x,Logarithm.constant_x_log(PowerLaw.R,PowerLaw.M,base,x),'-b')\n",
    "        p2=PowerLaw.R*log(PowerLaw.M*PowerLaw.axis,base)\n",
    "        ax2.plot(ProductLaw.axis,p2,'og')\n",
    "        ax2.annotate('%1.3f' %p2,xy=(ProductLaw.axis,p2),xytext=(-10,-20),textcoords='offset points')\n",
    "        plt.ylabel('$y=\\log_{B}(Nx)$')\n",
    "        ax2.yaxis.set_label_position(\"left\")\n",
    "        ax2.set_title('Left side of Power Law')\n",
    "        plt.xlabel('x')\n",
    "        plt.grid()\n",
    "        \n",
    "        print('at x={0:1d}'.format(PowerLaw.axis))\n",
    "        print('We can see that the y-coordinates are labeled on the graph. At the points log({0:1d}^{1:1d}x) and {2:1d}*log({3:1d}x) the y-coordinates are {4:1.3f} and {5:1.3f} repectively'.format(PowerLaw.M,PowerLaw.R,PowerLaw.R,PowerLaw.M,p1,p2))\n",
    "        print('{0:1.3f}={1:1.3f}'.format(p1,p2))\n",
    "\n",
    "        print('thus')\n",
    "        display(Latex(r'$\\log_{B}(M^R)=R\\log_B(M)$'))\n",
    "        \n",
    "    def clear_display():\n",
    "        clear_output(wait=True)\n",
    "        display(x_axis_bar)\n",
    "        display(M_bar)\n",
    "        display(N_bar)\n",
    "        display(R_bar)\n",
    "        PowerLaw.create_graph()\n",
    "        \n",
    "    def xv(value):\n",
    "        PowerLaw.axis=value['new']\n",
    "        PowerLaw.clear_display()\n",
    "        \n",
    "    def Mv(value):\n",
    "        PowerLaw.M=value['new']\n",
    "        PowerLaw.clear_display()\n",
    "        \n",
    "    def Nv(value):\n",
    "        PowerLaw.N=value['new']\n",
    "        PowerLaw.clear_display()\n",
    "        \n",
    "    def Rv(value):\n",
    "        PowerLaw.R=value['new']\n",
    "        PowerLaw.clear_display()\n",
    "\n",
    "x_axis_bar = widgets.IntSlider(\n",
    "    value=5,\n",
    "    min=1,\n",
    "    max=10,\n",
    "    step=1,\n",
    "    description='x-coordinate',\n",
    "    disabled=False,\n",
    "    continuous_update=False,\n",
    "    orientation='horizontal',\n",
    "    readout=True,\n",
    "    readout_format='d'\n",
    ")       \n",
    "\n",
    "M_bar = widgets.IntSlider(\n",
    "    value=PowerLaw.M,\n",
    "    min=1,\n",
    "    max=10,\n",
    "    step=1,\n",
    "    description='M value',\n",
    "    disabled=False,\n",
    "    continuous_update=False,\n",
    "    orientation='horizontal',\n",
    "    readout=True,\n",
    "    readout_format='d'\n",
    ")            \n",
    "\n",
    "N_bar = widgets.IntSlider(\n",
    "    value=PowerLaw.N,\n",
    "    min=1,\n",
    "    max=10,\n",
    "    step=1,\n",
    "    description='N value',\n",
    "    disabled=False,\n",
    "    continuous_update=False,\n",
    "    orientation='horizontal',\n",
    "    readout=True,\n",
    "    readout_format='d'\n",
    ")    \n",
    "\n",
    "R_bar = widgets.IntSlider(\n",
    "    value=PowerLaw.R,\n",
    "    min=1,\n",
    "    max=10,\n",
    "    step=1,\n",
    "    description='R value',\n",
    "    disabled=False,\n",
    "    continuous_update=False,\n",
    "    orientation='horizontal',\n",
    "    readout=True,\n",
    "    readout_format='d'\n",
    ") \n",
    "\n",
    "PowerLaw.clear_display()\n",
    "x_axis_bar.observe(PowerLaw.xv, names='value')\n",
    "M_bar.observe(PowerLaw.Mv, names='value')\n",
    "N_bar.observe(PowerLaw.Nv, names='value')\n",
    "R_bar.observe(PowerLaw.Rv, names='value')\n"
   ]
  },
  {
   "cell_type": "markdown",
   "metadata": {},
   "source": [
    "### Results\n",
    "The Mathematical proof shows that by first converting the logarithmic functions into exponents then using exponential laws we can derive Power Law. When looking at the graph, we can see that the functions on the left and right hand side are identical like we predicted. Thus, we can show that Power Law is accurate.\n",
    "\n",
    "## <span style=\"color:blue\"> Change of Base Rule\n",
    "This rule is useful for changing the base of a logarithmic function which can be useful for proofs or comparing certain functions. The law states that: <br />\n",
    "$\\log_{B}(M)=\\frac{\\log_N(M)}{\\log_N(B)}$ \n",
    "\n",
    "### Mathematical Proof\n",
    "First we need to define a variable. In this case, we will use x. <br />\n",
    "$\\text{Let }x=\\log_{B}(M)$ <br />\n",
    "When converting this to exponents by using basic logarithmic properties, we get: <br />\n",
    "$B^x=M$ <br />\n",
    "$\\text{Next, is to apply } \\log_N \\text{ to both sides of the equation}$ <br />\n",
    "$\\log_N(B^x)=\\log_N(M)$ <br />\n",
    "By Power Law (see above) this can be simplified to: <br />\n",
    "$x\\log_N(B)=\\log_N(M)$ <br />\n",
    "Isolating for x: <br />\n",
    "$x=\\frac{\\log_N(M)}{\\log_N(B)}$ <br />\n",
    "After inputing the x value we defined earlier, we get <br />\n",
    "$\\log_{B}(M)=\\frac{\\log_N(M)}{\\log_N(B)}$\n",
    "\n",
    "### Evidence\n",
    "As it is hard to graph this function, as there is no good place to put x, this function with be proved through evidence. We will plug numbers into each side of the equation to calculate the values obtained on each side of the law."
   ]
  },
  {
   "cell_type": "code",
   "execution_count": 12,
   "metadata": {},
   "outputs": [
    {
     "data": {
      "application/vnd.jupyter.widget-view+json": {
       "model_id": "3dbedd7d3178484883b26385565c02d4",
       "version_major": 2,
       "version_minor": 0
      },
      "text/html": [
       "<p>Failed to display Jupyter Widget of type <code>IntSlider</code>.</p>\n",
       "<p>\n",
       "  If you're reading this message in the Jupyter Notebook or JupyterLab Notebook, it may mean\n",
       "  that the widgets JavaScript is still loading. If this message persists, it\n",
       "  likely means that the widgets JavaScript library is either not installed or\n",
       "  not enabled. See the <a href=\"https://ipywidgets.readthedocs.io/en/stable/user_install.html\">Jupyter\n",
       "  Widgets Documentation</a> for setup instructions.\n",
       "</p>\n",
       "<p>\n",
       "  If you're reading this message in another frontend (for example, a static\n",
       "  rendering on GitHub or <a href=\"https://nbviewer.jupyter.org/\">NBViewer</a>),\n",
       "  it may mean that your frontend doesn't currently support widgets.\n",
       "</p>\n"
      ],
      "text/plain": [
       "IntSlider(value=7, continuous_update=False, description='M value', max=10, min=1)"
      ]
     },
     "metadata": {},
     "output_type": "display_data"
    },
    {
     "data": {
      "application/vnd.jupyter.widget-view+json": {
       "model_id": "08ab67978c9e469c83365bf07778622a",
       "version_major": 2,
       "version_minor": 0
      },
      "text/html": [
       "<p>Failed to display Jupyter Widget of type <code>IntSlider</code>.</p>\n",
       "<p>\n",
       "  If you're reading this message in the Jupyter Notebook or JupyterLab Notebook, it may mean\n",
       "  that the widgets JavaScript is still loading. If this message persists, it\n",
       "  likely means that the widgets JavaScript library is either not installed or\n",
       "  not enabled. See the <a href=\"https://ipywidgets.readthedocs.io/en/stable/user_install.html\">Jupyter\n",
       "  Widgets Documentation</a> for setup instructions.\n",
       "</p>\n",
       "<p>\n",
       "  If you're reading this message in another frontend (for example, a static\n",
       "  rendering on GitHub or <a href=\"https://nbviewer.jupyter.org/\">NBViewer</a>),\n",
       "  it may mean that your frontend doesn't currently support widgets.\n",
       "</p>\n"
      ],
      "text/plain": [
       "IntSlider(value=2, continuous_update=False, description='original Base value', max=10, min=2)"
      ]
     },
     "metadata": {},
     "output_type": "display_data"
    },
    {
     "data": {
      "application/vnd.jupyter.widget-view+json": {
       "model_id": "2ce67ea0abf94764b128927b26b0a216",
       "version_major": 2,
       "version_minor": 0
      },
      "text/html": [
       "<p>Failed to display Jupyter Widget of type <code>IntSlider</code>.</p>\n",
       "<p>\n",
       "  If you're reading this message in the Jupyter Notebook or JupyterLab Notebook, it may mean\n",
       "  that the widgets JavaScript is still loading. If this message persists, it\n",
       "  likely means that the widgets JavaScript library is either not installed or\n",
       "  not enabled. See the <a href=\"https://ipywidgets.readthedocs.io/en/stable/user_install.html\">Jupyter\n",
       "  Widgets Documentation</a> for setup instructions.\n",
       "</p>\n",
       "<p>\n",
       "  If you're reading this message in another frontend (for example, a static\n",
       "  rendering on GitHub or <a href=\"https://nbviewer.jupyter.org/\">NBViewer</a>),\n",
       "  it may mean that your frontend doesn't currently support widgets.\n",
       "</p>\n"
      ],
      "text/plain": [
       "IntSlider(value=2, continuous_update=False, description='New Base value', max=10, min=2)"
      ]
     },
     "metadata": {},
     "output_type": "display_data"
    },
    {
     "name": "stdout",
     "output_type": "stream",
     "text": [
      "The value of the right hand side is 2.807\n",
      "The value of the left hand side is 2.807\n",
      "2.807=2.807\n",
      "thus\n"
     ]
    },
    {
     "data": {
      "text/latex": [
       "$\\log_{B}(M^R)=R\\log_B(M)$"
      ],
      "text/plain": [
       "<IPython.core.display.Latex object>"
      ]
     },
     "metadata": {},
     "output_type": "display_data"
    }
   ],
   "source": [
    "class ChangeOfBase():\n",
    "    \n",
    "    #First set random variables\n",
    "    M=5\n",
    "    base=10\n",
    "    new_base=5\n",
    "\n",
    "    def create_graph():\n",
    "\n",
    "        #########################################\n",
    "        # Description: Plugs in numbers to prove Change of Base Rules\n",
    "        #\n",
    "        # @Args: sliding bars for the M argument, the old base and the new base.\n",
    "        #        \n",
    "        #\n",
    "        # @Return: The corresponding value of each side of the equation which result after plugging in the numbers.\n",
    "        #########################################\n",
    "   \n",
    "        p1=log(ChangeOfBase.M,ChangeOfBase.base)\n",
    "        p2=log(ChangeOfBase.M,ChangeOfBase.new_base)/ log(ChangeOfBase.base,ChangeOfBase.new_base)\n",
    "\n",
    "        print('The value of the right hand side is {0:1.3f}.'.format(p1))\n",
    "        print('The value of the left hand side is {0:1.3f}.'.format(p2))\n",
    "        print('{0:1.3f}={1:1.3f}'.format(p1,p2))\n",
    "        print('thus')\n",
    "        display(Latex(r'$\\log_{B}(M^R)=R\\log_B(M)$'))\n",
    "\n",
    "    def clear_display():\n",
    "        clear_output(wait=True)   \n",
    "        display(M_bar)\n",
    "        display(base_bar)\n",
    "        display(new_base_bar)\n",
    "        ChangeOfBase.create_graph()\n",
    "\n",
    "    def xv(value):\n",
    "        ChangeOfBase.axis=value['new']\n",
    "        ChangeOfBase.clear_display()\n",
    "        \n",
    "    def Mv(value):\n",
    "        ChangeOfBase.M=value['new']\n",
    "        ChangeOfBase.clear_display()\n",
    "        \n",
    "    def Basev(value):\n",
    "        ChangeOfBase.base=value['new']\n",
    "        ChangeOfBase.clear_display()\n",
    "        \n",
    "    def New_basev(value):\n",
    "        ChangeOfBase.new_base=value['new']\n",
    "        ChangeOfBase.clear_display()      \n",
    "\n",
    "M_bar = widgets.IntSlider(\n",
    "    value=ChangeOfBase.M,\n",
    "    min=1,\n",
    "    max=10,\n",
    "    step=1,\n",
    "    description='M value',\n",
    "    disabled=False,\n",
    "    continuous_update=False,\n",
    "    orientation='horizontal',\n",
    "    readout=True,\n",
    "    readout_format='d'\n",
    ")            \n",
    "\n",
    "base_bar = widgets.IntSlider(\n",
    "    value=ChangeOfBase.base,\n",
    "    min=2,\n",
    "    max=10,\n",
    "    step=1,\n",
    "    description='original Base value',\n",
    "    disabled=False,\n",
    "    continuous_update=False,\n",
    "    orientation='horizontal',\n",
    "    readout=True,\n",
    "    readout_format='d'\n",
    ")    \n",
    "\n",
    "new_base_bar = widgets.IntSlider(\n",
    "    value=ChangeOfBase.new_base,\n",
    "    min=2,\n",
    "    max=10,\n",
    "    step=1,\n",
    "    description='New Base value',\n",
    "    disabled=False,\n",
    "    continuous_update=False,\n",
    "    orientation='horizontal',\n",
    "    readout=True,\n",
    "    readout_format='d'\n",
    ")  \n",
    "\n",
    "\n",
    "ChangeOfBase.clear_display()\n",
    "M_bar.observe(ChangeOfBase.Mv, names='value')\n",
    "base_bar.observe(ChangeOfBase.Basev, names='value')\n",
    "new_base_bar.observe(ChangeOfBase.New_basev, names='value')\n"
   ]
  },
  {
   "cell_type": "markdown",
   "metadata": {},
   "source": [
    "### Results\n",
    "The mathematical proof uses the relationship between logarithms and exponents in order to change the value of the base and thus derive the rule. When plugging numbers into the rule, we can see that the left hand side of the equation is always equal to the right hand side, regardless of the numbers that are plugged in. By these 2 proofs, we can confirm the changing base rule."
   ]
  },
  {
   "cell_type": "markdown",
   "metadata": {},
   "source": [
    "## <span style=\"color:blue\"> Diploma Examples\n",
    "### 1. $ 3^{\\log(x)}3^{\\log(x)}$\n",
    "Using Exponential Law (1), we can get: <br /> $3^{\\log(x)+\\log(x)}$<br />\n",
    "This is simplified to:<br />\n",
    "$3^{2\\log(x)}$<br />\n",
    "Using Power law, we know $2\\log(x)=\\log(x^2)$. From this identity, we can get: <br />\n",
    "<div id='page' style='width: 70px'>\n",
    "<p style=\"border:2px; border-style:solid; border-color:#000000;\">\n",
    "$\\quad 3^{\\log(x^2)}$\n",
    "</div>\n",
    "\n",
    "### 2. $\\text{simplify the expression: } 2\\log(x) - \\frac{\\log(z)}{2} + 3\\log(y)$\n",
    "Next, we will apply Power Law on each term. While keeping in mind that $z^{\\frac{1}{2}}=\\sqrt{z}$, we can simplify this equation to: <br />\n",
    "$\\log(x^2) - \\log(\\sqrt{z})+\\log(y^3)$ <br />\n",
    "We can apply both Quotient and Product Law to this equation. This will result in the final simplified form of: <br />\n",
    "<div id='page' style='width: 100px'>\n",
    "<p style=\"border:2px; border-style:solid; border-color:#000000;\"> $\\quad \\log\\left(\\frac{x^2y^3}{\\sqrt{z}}\\right)$ <p />\n",
    "</div>\n",
    "\n",
    "### 3.    Solve for x $ 2^{(x-2)}=2^x -2 $\n",
    "<p> Using Exponent Law (2) reguarding the division of exponents, we can come up with the equivalent equation: <br>\n",
    "$\\frac{2^x}{2^2}=2^x-2$ <br>\n",
    "The next step is to complete simple algebra. We can put all of the $2^x$ terms on the same side to isolate for x.\n",
    "The intermediate step is: <br>\n",
    "$2^x=4(2^x-2)$<br>\n",
    "When we put all of the $2^x$ terms on the same side, we get: <br>\n",
    "$-3(2^x)=-8$ <br>\n",
    "which becomes: <br>\n",
    "$2^x = \\frac{8}{3}$ <br>\n",
    "Since we know, $\\log_2(2)=1$, we can apply $\\log_2$ onto both sides. We get: <br>\n",
    "$\\log_2(2^x)=\\log_2\\left(\\frac{8}{3}\\right)$<br>\n",
    "Using Power Law, $\\log_2(2^x)$ is equivalent to $ x\\log_22$ where $\\log_22 = 1$. Thus: <br>\n",
    "<div id='page' style='width: 100px'>\n",
    "<p style=\"border:2px; border-style:solid; border-color:#000000;\"> $x= \\log_2\\left(\\frac{8}{3}\\right)$ <p />\n",
    "\n",
    "## Conclusion\n",
    "\n",
    "<p> When analysing each of the 5 functions in mathematical  and graphical ways, that each of these 5 laws can be proven and validated. This creates shortcuts to make it easier to simplify and analyze more complex functions.<p/>"
   ]
  },
  {
   "cell_type": "code",
   "execution_count": null,
   "metadata": {},
   "outputs": [],
   "source": []
  }
 ],
 "metadata": {
  "kernelspec": {
   "display_name": "Python 3",
   "language": "python",
   "name": "python3"
  },
  "language_info": {
   "codemirror_mode": {
    "name": "ipython",
    "version": 3
   },
   "file_extension": ".py",
   "mimetype": "text/x-python",
   "name": "python",
   "nbconvert_exporter": "python",
   "pygments_lexer": "ipython3",
   "version": "3.6.5"
  }
 },
 "nbformat": 4,
 "nbformat_minor": 2
}

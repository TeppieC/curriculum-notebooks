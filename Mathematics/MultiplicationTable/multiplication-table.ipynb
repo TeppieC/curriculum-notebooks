{
 "cells": [
  {
   "cell_type": "markdown",
   "metadata": {},
   "source": []
  },
  {
   "cell_type": "markdown",
   "metadata": {},
   "source": [
    "# Multiplication Table\n",
    "\n"
   ]
  },
  {
   "cell_type": "code",
   "execution_count": null,
   "metadata": {},
   "outputs": [],
   "source": [
    "up_to = 9\n",
    "import pandas as pd\n",
    "table = pd.DataFrame()\n",
    "for y in range(up_to+1):\n",
    "    numbers = []\n",
    "    for x in range(up_to+1):\n",
    "        numbers.append(x * y)\n",
    "    table[y] = numbers\n",
    "table"
   ]
  },
  {
   "cell_type": "markdown",
   "metadata": {},
   "source": []
  },
  {
   "cell_type": "code",
   "execution_count": null,
   "metadata": {},
   "outputs": [],
   "source": [
    "up_to = 9\n",
    "number_of_questions = 15\n",
    "seconds_per_question = 1\n",
    "\n",
    "import time\n",
    "from random import randint\n",
    "from IPython.display import clear_output\n",
    "solutions = []\n",
    "for q in range(number_of_questions):\n",
    "    a = randint(0, up_to)\n",
    "    b = randint(0, up_to)\n",
    "    question = str(q+1)+'. '+str(a)+' × '+str(b)+' = '\n",
    "    print(question)\n",
    "    time.sleep(seconds_per_question)\n",
    "    clear_output()\n",
    "    solution = question + str(a*b)\n",
    "    print(solution)\n",
    "    solutions.append(solution)\n",
    "    time.sleep(2)\n",
    "clear_output()\n",
    "solutions"
   ]
  },
  {
   "cell_type": "markdown",
   "metadata": {},
   "source": []
  },
  {
   "cell_type": "markdown",
   "metadata": {},
   "source": []
  }
 ],
 "metadata": {
  "kernelspec": {
   "display_name": "Python 3",
   "language": "python",
   "name": "python3"
  },
  "language_info": {
   "codemirror_mode": {
    "name": "ipython",
    "version": 3
   },
   "file_extension": ".py",
   "mimetype": "text/x-python",
   "name": "python",
   "nbconvert_exporter": "python",
   "pygments_lexer": "ipython3",
   "version": "3.8.3"
  }
 },
 "nbformat": 4,
 "nbformat_minor": 4
}

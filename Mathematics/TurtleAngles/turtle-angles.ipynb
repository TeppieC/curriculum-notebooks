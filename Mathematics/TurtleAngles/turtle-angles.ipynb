{
 "cells": [
  {
   "cell_type": "markdown",
   "metadata": {},
   "source": [
    "![Callysto.ca Banner](https://github.com/callysto/curriculum-notebooks/blob/master/callysto-notebook-banner-top.jpg?raw=true)\n",
    "\n",
    "<a href=\"https://hub.callysto.ca/jupyter/hub/user-redirect/git-pull?repo=https%3A%2F%2Fgithub.com%2Fcallysto%2Fcurriculum-notebooks&branch=master&subPath=Mathematics/TurtleAngles/turtle-angles.ipynb&depth=1\" target=\"_parent\"><img src=\"https://raw.githubusercontent.com/callysto/curriculum-notebooks/master/open-in-callysto-button.svg?sanitize=true\" width=\"123\" height=\"24\" alt=\"Open in Callysto\"/></a>"
   ]
  },
  {
   "cell_type": "markdown",
   "metadata": {},
   "source": [
    "# Drawing Angles with Turtles\n",
    "\n"
   ]
  },
  {
   "cell_type": "code",
   "execution_count": null,
   "metadata": {},
   "outputs": [],
   "source": [
    "from mobilechelonian import Turtle\n",
    "t = Turtle()\n",
    "t.speed(10)\n",
    "t.forward(100)\n",
    "t.backward(100)\n",
    "t.left(45)\n",
    "t.forward(100)"
   ]
  },
  {
   "cell_type": "code",
   "execution_count": null,
   "metadata": {},
   "outputs": [],
   "source": [
    "angle = 45\n",
    "\n",
    "if angle > 0 and angle < 90:\n",
    "    print(angle, 'is acute')\n",
    "if angle == 90:\n",
    "    print(angle, 'is right')\n",
    "if angle > 90 and angle < 180:\n",
    "    print(angle, 'is obtuse')\n",
    "if angle == 180:\n",
    "    print(angle, 'is straight')\n",
    "if angle > 180 and angle < 360:\n",
    "    print(angle, 'is reflex')\n",
    "if angle < 0 or angle >= 360:\n",
    "    print('Please enter an angle between 0 and 360')\n",
    "\n",
    "length = 100\n",
    "t = Turtle()\n",
    "t.speed(10)\n",
    "t.forward(length)\n",
    "t.backward(length)\n",
    "t.left(45)\n",
    "t.forward(length)"
   ]
  },
  {
   "cell_type": "code",
   "execution_count": null,
   "metadata": {},
   "outputs": [],
   "source": [
    "length = 100\n",
    "\n",
    "from mobilechelonian import Turtle\n",
    "t = Turtle()\n",
    "t.speed(10)\n",
    "t.forward(length)\n",
    "t.backward(length)\n",
    "\n",
    "t.pencolor('red')\n",
    "t.left(45)\n",
    "t.forward(length)\n",
    "t.backward(length)\n",
    "t.right(45)\n",
    "\n",
    "t.pencolor('green')\n",
    "t.left(90)\n",
    "t.forward(length)\n",
    "t.backward(length)\n",
    "t.right(90)\n",
    "\n",
    "t.pencolor('blue')\n",
    "t.left(135)\n",
    "t.forward(length)\n",
    "t.backward(length)\n",
    "t.right(135)\n",
    "\n",
    "t.penup()\n",
    "t.forward(200)"
   ]
  },
  {
   "cell_type": "markdown",
   "metadata": {},
   "source": [
    "## Turtle Commands\n",
    "\n",
    "Assuming that your turtle is named `t`, here are the possible commands you can use.\n",
    "\n",
    "`t.speed(integer)`\n",
    "* Speed of your turtle, 1-10 (hint set your speed to 10) \n",
    "\n",
    "`t.left(degrees)` or `t.right(degrees)`\n",
    "* Turn turtle left or right by some degrees\n",
    "\n",
    "`t.forward(units)` or `t.backward(units)`\n",
    "* Move your turtle forward or backward (units are in pixels) \n",
    "\n",
    "`t.pendown()` or `t.penup()`\n",
    "* For drawing lines or not drawing lines\n",
    "\n",
    "`t.pencolor('color')`\n",
    "* [Color](https://www.w3schools.com/tags/ref_colornames.asp) of your turtle’s line, e.g. 'blue' or 'rgb(100, 0, 255)'\n",
    "\n",
    "`t.setposition(x, y)`\n",
    "* Move the turtle to a specific position\n",
    "* (0,0) is the top left and (400, 400) is the bottom right\n",
    "\n",
    "`t.circle(r, degrees)`\n",
    "* Have turtle draw a piece of a circle of radius r, through some number of degrees "
   ]
  },
  {
   "cell_type": "markdown",
   "metadata": {},
   "source": []
  },
  {
   "cell_type": "markdown",
   "metadata": {},
   "source": [
    "[![Callysto.ca License](https://github.com/callysto/curriculum-notebooks/blob/master/callysto-notebook-banner-bottom.jpg?raw=true)](https://github.com/callysto/curriculum-notebooks/blob/master/LICENSE.md)"
   ]
  }
 ],
 "metadata": {
  "kernelspec": {
   "display_name": "Python 3",
   "language": "python",
   "name": "python3"
  },
  "language_info": {
   "codemirror_mode": {
    "name": "ipython",
    "version": 3
   },
   "file_extension": ".py",
   "mimetype": "text/x-python",
   "name": "python",
   "nbconvert_exporter": "python",
   "pygments_lexer": "ipython3",
   "version": "3.7.3"
  }
 },
 "nbformat": 4,
 "nbformat_minor": 2
}

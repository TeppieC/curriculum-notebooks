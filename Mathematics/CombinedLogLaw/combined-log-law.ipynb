{
 "cells": [
  {
   "cell_type": "markdown",
   "metadata": {},
   "source": [
    "![Callysto.ca Banner](https://github.com/callysto/curriculum-notebooks/blob/master/callysto-notebook-banner-top.jpg?raw=true)\n",
    "\n",
    "<a href=\"https://hub.callysto.ca/jupyter/hub/user-redirect/git-pull?repo=https%3A%2F%2Fgithub.com%2Fcallysto%2Fcurriculum-notebooks&branch=master&subPath=Mathematics/CombinedLogLaw/combined-log-law.ipynb&depth=1\" target=\"_parent\"><img src=\"https://raw.githubusercontent.com/callysto/curriculum-notebooks/master/open-in-callysto-button.svg?sanitize=true\" width=\"123\" height=\"24\" alt=\"Open in Callysto\"/></a>"
   ]
  },
  {
   "cell_type": "markdown",
   "metadata": {},
   "source": [
    "<h1><center>Logarithmic Laws</center></h1>"
   ]
  },
  {
   "cell_type": "code",
   "execution_count": 1,
   "metadata": {
    "scrolled": false
   },
   "outputs": [
    {
     "data": {
      "text/html": [
       "<script>\n",
       "code_show=true; \n",
       "function code_toggle() {\n",
       " if (code_show){\n",
       " $('div.input').hide();\n",
       " } else {\n",
       " $('div.input').show();\n",
       " }\n",
       " code_show = !code_show\n",
       "} \n",
       "$( document ).ready(code_toggle);\n",
       "</script>\n",
       "<form action=\"javascript:code_toggle()\"><input type=\"submit\" value=\"Click here to toggle on/off the raw code.\"></form>"
      ],
      "text/plain": [
       "<IPython.core.display.HTML object>"
      ]
     },
     "execution_count": 1,
     "metadata": {},
     "output_type": "execute_result"
    }
   ],
   "source": [
    "from IPython.display import HTML\n",
    "\n",
    "HTML('''<script>\n",
    "code_show=true; \n",
    "function code_toggle() {\n",
    " if (code_show){\n",
    " $('div.input').hide();\n",
    " } else {\n",
    " $('div.input').show();\n",
    " }\n",
    " code_show = !code_show\n",
    "} \n",
    "$( document ).ready(code_toggle);\n",
    "</script>\n",
    "<form action=\"javascript:code_toggle()\"><input type=\"submit\" value=\"Click here to toggle on/off the raw code.\"></form>''')"
   ]
  },
  {
   "cell_type": "markdown",
   "metadata": {},
   "source": [
    "# Combined Log Law"
   ]
  },
  {
   "cell_type": "markdown",
   "metadata": {},
   "source": [
    "## Introduction:\n",
    "\n",
    "Logarithms are the inverse operation to exponentials. They are useful because they change the arithmetic operations of multiplication, division, and powers into addition, subtraction, and products. While modern calculators can do all these operations quickly, for us mere humans logarithms can be useful for doing quick approximations in our heads."
   ]
  },
  {
   "cell_type": "markdown",
   "metadata": {},
   "source": [
    "## Motivation:\n",
    "\n",
    "Going about our day, we often run into powers of ten, when we see kilograms of food in a grocery store (1000 grams), megawatts of power from an electrical generator (1,000,000 watts) or gigabytes of memory in our computer (1,000,000,000 bytes). It is the **power** of ten that is important, and the logarithm captures this idea with the formulas\n",
    "$$ \\log(10) = 1$$\n",
    "$$ \\log(1000) = 3$$\n",
    "$$ \\log(1,000,000) = 6$$\n",
    "$$ \\log(1,000,000,000) = 9.$$\n",
    "\n",
    "The logarithm of a number $x$ is defined as the power $n$ it takes so that $$x = 10^n.$$ So, for instance, since $1000 = 10^3$, we know that $\\log(1000) = 3,$ as indicated in the list above.\n",
    "\n",
    "For numbers that aren't integer powers of 10, the logarithm is still defined by the above formula, where $n$ can be any real number solving $x = 10^n$. For instance, you might guess that $\\log(5000)$ is somewhere between 3 and 4, since the number 5000 is halfway between $10^3 = 1000$ and $10^4 = 10,000$. You might even guess that $\\log(5000) = 3.5$, which is not a bad approximation: in fact, a calculator shows that\n",
    "$$\\log(5000) = 3.69897...,$$\n",
    "which is the same as saying\n",
    "$$5000 = 10^{3.69897...}.$$\n",
    "\n",
    "We can also take logarithms of small numbers, like this:\n",
    "$$\\log(0.01) = \\log\\left(\\frac{1}{100}\\right) = \\log(10^{-2}) = -2.$$\n",
    "\n",
    "But you cannot take logarithms of negative numbers. (Unless you are willing to learn about something called complex numbers!)"
   ]
  },
  {
   "cell_type": "markdown",
   "metadata": {},
   "source": [
    "## Base for logarithm:\n",
    "\n",
    "In the examples above, we worked with powers of ten, so ten is called the **base** for the logarithm.\n",
    "\n",
    "We can work with other bases. For instance, with computers we often work with power of two. A KB of memory is actually $1024 = 2^{10}$ bytes. \n",
    "\n",
    "If you aren't sure about this, multiply out \n",
    "$2\\times 2 \\times 2 \\times \\ldots \\times 2$ with ten 2's, to see you get $1024= 2^{10}.$\n",
    "\n",
    "A MB of memory is $1,048,576 = 2^{20}$ bytes, or just over a million bytes. A GB is $1073741824 = 2^{30}$ bytes, or just over a billion bytes. (It's a funny coincidence that $10^3 \\approx 2^{10}$ so that kilo =1000 is about the same as Kilo = 1024.)\n",
    "\n",
    "We write this down in logarithm form, adding a subscript to keep track of the base. So\n",
    "$$ \\log_2(1024) = 10$$\n",
    "$$ \\log_2(1048576) = 20$$\n",
    "$$ \\log_2(1073741824) = 30.$$\n",
    "\n",
    "In general, the number $\\log_2(x)$ is defined as the solution to \n",
    "$$x = 2^n.$$\n",
    "\n",
    "Logarithms can be defined with any number $B$ as a base, provided $B$ is positive and not equal to one. The function is then written as $\\log_B(x).$\n",
    "\n"
   ]
  },
  {
   "cell_type": "markdown",
   "metadata": {},
   "source": [
    "## Three important bases:\n",
    "\n",
    "In practice, there are only three log functions that occur in most of math and science:\n",
    "$$\\log_2(x), \\log_{10}(x), \\mbox{ and } \\log_e(x),$$\n",
    "which have bases 2, 10 and $e$, respectively, where $e = 2.71...$ is the natural exponential that occurs in calculus. \n",
    "\n",
    "The base ten logarithm $\\log_{10}(x)$ occurs so often that it is sometimes abbreviated as $\\log(x)$, as we did in the first section of this notebook.\n",
    "\n",
    "The base $e$ logarithm is called the natural log, written $\\ln(x)$. The natural logarithm arises in calculus,\n",
    "where it is often denoted simply as $\\log x$. So one must pay attention to the context when the base is unspecified!"
   ]
  },
  {
   "cell_type": "markdown",
   "metadata": {},
   "source": [
    "## Examples:\n",
    "\n",
    "- {1} Can we find $\\log_2(4000)$ approximately, without using a calculator?\n",
    "\n",
    "Sure. Here's one way. We know that $4 = 2^2$, and that $1000 \\approx 2^{10}$. So $4000 \\approx 2^2 \\times 2^{10} = 2^{12}$.\n",
    "So we conclude\n",
    "$$ \\log_2(4000) \\approx 12.$$\n",
    "\n",
    "A quick check with a calculator shows $\\log_2(4000) = 11.96578...$ so that was a pretty good approximation!\n",
    "\n",
    "- {2} Can we find $\\log(\\pi)$ approximately?\n",
    "\n",
    "Well, our friends the ancient Egyptians thought that $\\pi$ was the square root of 10. It's not, but that's a pretty good approximation. So we have\n",
    "$$\\log(\\pi) \\approx \\log(10^{1/2}) = 1/2.$$\n",
    "In fact, a check with a calculator shows $\\log(\\pi) = 0.49715...$, so again we have a pretty good approximation."
   ]
  },
  {
   "cell_type": "markdown",
   "metadata": {},
   "source": [
    "   \n",
    "    \n",
    "## Basics of Logarithms:<p>\n",
    "Even though logarithms can seem very complicated, we can look at the basic relationship between logarithms and exponentials in order to simplify these expressions to furture enhance our understandings. Before looking deeper in these relationships, we will first identify the main components of a logarithmic function. Logarithms are written in the following form:<p>\n",
    "$\\log_B(x)=m$ where B is the base of the logarithm. <p>\n",
    "Given a number $x$, we define $\\log_B(x)=m$ as the solution to the  exponential relationship\n",
    "$$x=B^m.$$\n",
    "    \n",
    "## Logarithmic Laws<p>\n",
    "There are 4 main logarithmic laws which help show the relationship between exponential and logarithmic functions.\n",
    "\n",
    "- Product Law: $\\log_{B}(x \\times y)=\\log_{B}(x)+\\log_{B}(y)$ \n",
    "- Quotient Law: $\\log_{B}( x \\div y) =\\log_{B}(x)-\\log_{B}(y)$\n",
    "- Power Law: $\\log_{B}(x^p)=p\\times \\log_B(x)$\n",
    "- Changing Base Rule: $\\log_{B}(x)=\\frac{\\log_C(x)}{\\log_C(B)}$\n",
    "\n",
    "## Background: Exponential Laws\n",
    "Since logarithms are closely related with exponents, we will be using exponential laws when deriving logarithmic laws. Exponential Laws state: \n",
    "\n",
    "- $B^m \\times B^n=B^{m+n} \\quad (1) $\n",
    "- $\\frac{B^m}{B^n}=B^{m-n} \\quad \\quad \\; \\;\\;\\,(2)$\n",
    "- $(B^m)^n=B^{mn} \\quad \\quad \\,(3)$\n",
    "- $(BC)^m=B^m C^m \\quad  \\,(4)$\n",
    "\n",
    "We will be referring to these laws throughout the program using the number in the brackets above."
   ]
  },
  {
   "cell_type": "code",
   "execution_count": 2,
   "metadata": {
    "scrolled": false
   },
   "outputs": [],
   "source": [
    "from IPython.display import display, Latex, clear_output\n",
    "from math import log\n",
    "import matplotlib.pyplot as plt\n",
    "import matplotlib.gridspec as gridspec\n",
    "%matplotlib inline\n",
    "import numpy as np\n",
    "import ipywidgets as widgets\n",
    "from ipywidgets import interact, interactive, fixed, interact_manual,IntSlider, Output, VBox, HBox, Label\n",
    "from abc import ABCMeta, abstractmethod"
   ]
  },
  {
   "cell_type": "code",
   "execution_count": 3,
   "metadata": {
    "scrolled": false
   },
   "outputs": [],
   "source": [
    "class Logarithm:\n",
    "    #############################################\n",
    "    #     Description: stores all functions that will be using as shortcuts when graphing functions.\n",
    "    #############################################\n",
    "    \n",
    "    @staticmethod\n",
    "    #A static method is contains an object that does not change.\n",
    "    #In this case, the functions are created to pass in arguments and should not change.\n",
    "    def log(m,b,x):\n",
    "        #########################################\n",
    "        #   Function: y= log(mx)\n",
    "        #   \n",
    "        #   @Args:\n",
    "        #   m: constant inside the logarithm\n",
    "        #   b: base of the logarithm\n",
    "        #   x: vector with all of the x-coordinates\n",
    "        #\n",
    "        #   @Returns:\n",
    "        #   y: y-coordinates of the graph based on the x-coordinates and function\n",
    "        #\n",
    "        #########################################\n",
    "        i=x*m\n",
    "        return [log(y,b) for y in i]\n",
    "\n",
    "    @staticmethod\n",
    "    def log_exp(r,m,b,x):\n",
    "        #########################################\n",
    "        #   Function: y=log((mx)^r)\n",
    "        #   \n",
    "        #   @Args:\n",
    "        #   m: constant inside the logarithm\n",
    "        #   b: base of the logarithm\n",
    "        #   x: vector with all of the x-coordinates\n",
    "        #   r: exponent within the logarith\n",
    "        #\n",
    "        #   @Returns:\n",
    "        #   y: y-coordinates of the graph based on the x-coordinates and function\n",
    "        #\n",
    "        #########################################\n",
    "        x= (x*m)**r\n",
    "        return [log(y,b) for y in x]\n",
    "\n",
    "    @staticmethod\n",
    "    def constant_x_log(r,m,b,x):\n",
    "        #########################################\n",
    "        #   Function: y=r*log(mx)\n",
    "        #   \n",
    "        #   @Args:\n",
    "        #   r: constant multiplied by the logarithm\n",
    "        #   m: constant inside the logarithm\n",
    "        #   b: base of the logarithm\n",
    "        #   x: vector with all of the x-coordinates\n",
    "        #\n",
    "        #   @Returns:\n",
    "        #   y: y-coordinates of the graph based on the x-coordinates and function\n",
    "        #\n",
    "        #########################################\n",
    "        x= x*m\n",
    "        return [r*log(y,b) for y in x]\n",
    "\n",
    "    @staticmethod\n",
    "    def division_of_logs(m,n,b,x):\n",
    "        #########################################\n",
    "        #   Function: y=log_m(nx)/log_b(nx)\n",
    "        #   \n",
    "        #   @Args:\n",
    "        #   m: base of logarithm in the numerator\n",
    "        #   b: base of logarithm in the denominator\n",
    "        #   n: constant inside each logarithm\n",
    "        #   x: vector with all of the x-coordinates\n",
    "        #\n",
    "        #   @Returns:\n",
    "        #   y: y-coordinates of the graph based on the x-coordinates and function\n",
    "        #\n",
    "        #########################################\n",
    "        y1=Logarithm.log(m,n,x)\n",
    "        y2=Logarithm.log(b,n,x)\n",
    "        y=np.divide(y1,y2)\n",
    "        return y"
   ]
  },
  {
   "cell_type": "code",
   "execution_count": 4,
   "metadata": {
    "scrolled": false
   },
   "outputs": [],
   "source": [
    "#########################################\n",
    "# Variables:\n",
    "# base - Value of the base of the logarithms\n",
    "#      - Over the coarse of the program, we will set the base to be 10.\n",
    "# x    - The range of numbers that are shown on the x-axis for the graphical proofs\n",
    "#########################################\n",
    "\n",
    "base=10\n",
    "x=np.linspace(1,10)"
   ]
  },
  {
   "cell_type": "markdown",
   "metadata": {},
   "source": [
    "## <span style=\"color:blue\"> Product Law\n",
    "The first law we are looking at is the Product Law. This is used when finding the sum of two logarithmic functions with the same base. The law states that \n",
    "\n",
    "- $\\log_{B}(xy)=\\log_{B}x+\\log_{B}y$.\n",
    "\n",
    "\n",
    "### An example\n",
    "\n",
    "- $\\log(100\\times 1000) = \\log(100) + \\log(1000)$ or equivalently\n",
    "- $\\log(100,000) = 5 = 2 + 3.$\n",
    "\n",
    "### Mathematical proof\n",
    "We will look at the mathematical proof. It may look complicated, however, it can simply be broken down. First we fix quantities $x,y$ and then define\n",
    "- $p=\\log_B x$ and  $q=\\log_B y$.\n",
    "\n",
    "The equivalent exponential forms are \n",
    "- $B^p=x$ and $B^q=y$.\n",
    "\n",
    "We take the product of these two equations to obtain\n",
    "- $B^p \\times B^q=x \\times y$, \n",
    "\n",
    "and from the Exponential Law (1), we can get the equivalent expression\n",
    "- $B^{p+q}=x \\times y$.\n",
    "\n",
    "We  apply log to both sides\n",
    "- $\\log_B(B^{p+q})=\\log_B(x \\times y),$ \n",
    "\n",
    "and then by the definition of a logarithm, we have  \n",
    "- $p+q=\\log_B(x \\times y)$.\n",
    "\n",
    "Since we know $ p=\\log_B x$ and $ q=\\log_B y$, we obtain\n",
    "- $\\log_{B}x+\\log_{B}y = \\log_{B}(x \\times y).$\n",
    "\n",
    "That completes the mathematical proof of the product law."
   ]
  },
  {
   "cell_type": "markdown",
   "metadata": {},
   "source": [
    "### Graphical Demonstration\n",
    "As we know, the product law states: $\\log_{B}x+\\log_{B}y = \\log_{B}(x \\times y).$ \n",
    "\n",
    "To go about this, we introduce a parameter $t$ that allows us to trace the graph of the logarithm function. We also introduce two constant integers, $m$ and $n$.\n",
    "\n",
    "We let $x=mt$ and $y=nt$ and set the base $B$ to 10, abbreviating $\\log_{10}(x)$ as $\\log(x)$.\n",
    "\n",
    "For these values of $x$ and $y$, the product law becomes \n",
    "$\\log(mt)+\\log(nt) = \\log(mnt^2)$\n",
    "\n",
    "For the graphical demonstration, we graph the three terms in the above equation separately with respect to $t$. When looking at a $t$ value, the sum of the corresponding values of the functions on the left side of the equation should be equivalent to the function on the right side of the equation, thus providing a demonstration of the Product Law."
   ]
  },
  {
   "cell_type": "code",
   "execution_count": 5,
   "metadata": {
    "scrolled": true
   },
   "outputs": [
    {
     "data": {
      "application/vnd.jupyter.widget-view+json": {
       "model_id": "4fa05fcda451441fa5da8effa6ad07e9",
       "version_major": 2,
       "version_minor": 0
      },
      "text/plain": [
       "IntSlider(value=6, continuous_update=False, description='$m$', max=10, min=1)"
      ]
     },
     "metadata": {},
     "output_type": "display_data"
    },
    {
     "data": {
      "application/vnd.jupyter.widget-view+json": {
       "model_id": "6230ec80f8304acca3ba7b5e9930b520",
       "version_major": 2,
       "version_minor": 0
      },
      "text/plain": [
       "IntSlider(value=3, continuous_update=False, description='$n$', max=10, min=1)"
      ]
     },
     "metadata": {},
     "output_type": "display_data"
    },
    {
     "data": {
      "application/vnd.jupyter.widget-view+json": {
       "model_id": "6ba143b69fbd45888bbd8bcfbcd2f254",
       "version_major": 2,
       "version_minor": 0
      },
      "text/plain": [
       "IntSlider(value=5, continuous_update=False, description='$t$', max=10, min=1)"
      ]
     },
     "metadata": {},
     "output_type": "display_data"
    },
    {
     "data": {
      "image/png": "[encoded data removed]",
      "text/plain": [
       "<Figure size 432x288 with 3 Axes>"
      ]
     },
     "metadata": {
      "needs_background": "light"
     },
     "output_type": "display_data"
    },
    {
     "data": {
      "text/latex": [
       "When $m$=6 and $n$=3"
      ],
      "text/plain": [
       "<IPython.core.display.Latex object>"
      ]
     },
     "metadata": {},
     "output_type": "display_data"
    },
    {
     "data": {
      "text/latex": [
       "From the marked y-coordinates on the graph above, the points at log(6$t$), log(3$t$) and log(18$t^2$) are at 1.477, 1.176 and 2.653 repectively"
      ],
      "text/plain": [
       "<IPython.core.display.Latex object>"
      ]
     },
     "metadata": {},
     "output_type": "display_data"
    },
    {
     "data": {
      "text/latex": [
       "1.477+1.176=2.653"
      ],
      "text/plain": [
       "<IPython.core.display.Latex object>"
      ]
     },
     "metadata": {},
     "output_type": "display_data"
    },
    {
     "data": {
      "text/latex": [
       "2.653=2.653"
      ],
      "text/plain": [
       "<IPython.core.display.Latex object>"
      ]
     },
     "metadata": {},
     "output_type": "display_data"
    },
    {
     "data": {
      "text/latex": [
       "This means that the left side of the equation equals the right side"
      ],
      "text/plain": [
       "<IPython.core.display.Latex object>"
      ]
     },
     "metadata": {},
     "output_type": "display_data"
    },
    {
     "data": {
      "text/latex": [
       "thus"
      ],
      "text/plain": [
       "<IPython.core.display.Latex object>"
      ]
     },
     "metadata": {},
     "output_type": "display_data"
    },
    {
     "data": {
      "text/latex": [
       "$\\log_{B}x+\\log_{B}y = \\log_{B}(x \\times y)$"
      ],
      "text/plain": [
       "<IPython.core.display.Latex object>"
      ]
     },
     "metadata": {},
     "output_type": "display_data"
    }
   ],
   "source": [
    "\n",
    "class ProductLaw():\n",
    "    # Create 2x2 sub plots\n",
    "    gs = gridspec.GridSpec(2, 2)\n",
    "    \n",
    "    axis=5\n",
    "    x=6\n",
    "    y=3\n",
    "    \n",
    "    x_axis_bar = widgets.IntSlider(\n",
    "        value=5,\n",
    "        min=1,\n",
    "        max=10,\n",
    "        step=1,\n",
    "        description='$t$',\n",
    "        disabled=False,\n",
    "        continuous_update=False,\n",
    "        orientation='horizontal',\n",
    "        readout=True,\n",
    "        readout_format='d'\n",
    "    )       \n",
    "\n",
    "    x_bar = widgets.IntSlider(\n",
    "        value=x,\n",
    "        min=1,\n",
    "        max=10,\n",
    "        step=1,\n",
    "        description='$m$',\n",
    "        disabled=False,\n",
    "        continuous_update=False,\n",
    "        orientation='horizontal',\n",
    "        readout=True,\n",
    "        readout_format='d'\n",
    "    )            \n",
    "\n",
    "    y_bar = widgets.IntSlider(\n",
    "        value=y,\n",
    "        min=1,\n",
    "        max=10,\n",
    "        step=1,\n",
    "        description='$n$',\n",
    "        disabled=False,\n",
    "        continuous_update=False,\n",
    "        orientation='horizontal',\n",
    "        readout=True,\n",
    "        readout_format='d'\n",
    "    )   \n",
    "    \n",
    "    def create_graph():\n",
    "\n",
    "        #########################################\n",
    "        # Description: generates a graph in order to prove Product Law\n",
    "        #\n",
    "        # @Args: Inputs are for the variables shown in ProductLaw\n",
    "        #        x-coordinate: based on a sliding bar in range 1-10\n",
    "        #        M constant: based on a sliding bar in range 1-10\n",
    "        #        N constant: based on a sliding bar in range 1-10\n",
    "        #\n",
    "        # @Return: graph for graphical proof as well as the y-coordinate corresponding to the graphed points\n",
    "        #\n",
    "        #########################################\n",
    "        \n",
    "        #Plot the 3 log functions from the left and right side of the Product Law\n",
    "        ax1 = plt.subplot(ProductLaw.gs[0, 0]) # row 0, col 0\n",
    "        ax1.plot(x,Logarithm.log(ProductLaw.x,base,x),'-b',label='$y=\\log_{B}(x)$')\n",
    "        p1=log(ProductLaw.x*ProductLaw.axis,base)\n",
    "        ax1.plot(ProductLaw.axis,p1,'ob')\n",
    "        ax1.annotate('%1.3f' %p1,xy=(ProductLaw.axis,p1),xytext=(-10,-20),textcoords='offset points')\n",
    "        ax1.set_title('Left side of Product law')\n",
    "        plt.ylabel('$\\log_{B}(mt)$')\n",
    "        ax1.yaxis.set_label_position(\"left\")\n",
    "        plt.grid()\n",
    "\n",
    "        ax2 = plt.subplot(ProductLaw.gs[1, 0])\n",
    "        ax2.plot(x,Logarithm.log(ProductLaw.y,base,x),'-g',label='$y=\\log_{B}(y)$')\n",
    "        p2=log(ProductLaw.y*ProductLaw.axis,base)\n",
    "        ax2.plot(ProductLaw.axis,p2,'og')\n",
    "        ax2.annotate('%1.3f' %p2,xy=(ProductLaw.axis,p2),xytext=(-10,-20),textcoords='offset points')\n",
    "        plt.ylabel('$\\log_{B}(nt)$')\n",
    "        ax2.yaxis.set_label_position(\"left\")\n",
    "        plt.xlabel('$t$')\n",
    "        plt.grid()\n",
    "\n",
    "        ax3 = plt.subplot(ProductLaw.gs[:, 1])\n",
    "        ax3.plot(x,Logarithm.log(ProductLaw.x*ProductLaw.y,base,x**2),'-r',label='$y=\\log_{B}(xy)$')\n",
    "        p3=log(ProductLaw.x*ProductLaw.y*(ProductLaw.axis**2),base)\n",
    "        ax3.plot(ProductLaw.axis,p3,'or')\n",
    "        ax3.annotate('%1.3f' %p3,xy=(ProductLaw.axis,p3),xytext=(-10,-20),textcoords='offset points')\n",
    "        ax3.set_title('Right side of Product Law')\n",
    "        plt.ylabel('$\\log_{B}(mnt^2)$')\n",
    "        ax3.yaxis.set_label_position(\"right\")\n",
    "        plt.xlabel('$t$')\n",
    "        plt.grid()\n",
    "        plt.show()\n",
    "    \n",
    "        display(Latex('When $m$={1:1d} and $n$={2:1d}'.format(ProductLaw.axis,ProductLaw.x,ProductLaw.y)))\n",
    "\n",
    "        #Display the value of the points to prove that the law is valid\n",
    "        display(Latex('From the marked y-coordinates on the graph above, the points at log({0:1d}$t$), log({1:1d}$t$) and log({2:1d}$t^2$) are at {3:1.3f}, {4:1.3f} and {5:1.3f} repectively'.format(ProductLaw.x,ProductLaw.y,ProductLaw.x*ProductLaw.y,p1, p2, p3)))\n",
    "        display(Latex('{0:1.3f}+{1:1.3f}={2:1.3f}'.format(p1,p2,p1+p2)))\n",
    "        display(Latex('{0:1.3f}={1:1.3f}'.format(p3,p3)))\n",
    "        display(Latex('This means that the left side of the equation equals the right side'))\n",
    "        display(Latex('thus'))\n",
    "        display(Latex(r'$\\log_{B}x+\\log_{B}y = \\log_{B}(x \\times y)$'))\n",
    "\n",
    "    def clear_display():  \n",
    "        clear_output(wait=True)\n",
    "        display(ProductLaw.x_bar)\n",
    "        display(ProductLaw.y_bar)\n",
    "        display(ProductLaw.x_axis_bar)\n",
    "        ProductLaw.create_graph()\n",
    "        ProductLaw.observe()\n",
    "        \n",
    "    def observe():\n",
    "        ProductLaw.x_axis_bar.observe(ProductLaw.xv, names='value')\n",
    "        ProductLaw.x_bar.observe(ProductLaw.x_barv, names='value')\n",
    "        ProductLaw.y_bar.observe(ProductLaw.y_barv, names='value')\n",
    "        #ProductLaw.clear_display()\n",
    "        \n",
    "    def xv(value):\n",
    "        ProductLaw.axis=value['new']\n",
    "        ProductLaw.clear_display()\n",
    "        \n",
    "    def x_barv(value):\n",
    "        ProductLaw.x=value['new']\n",
    "        ProductLaw.clear_display()\n",
    "        \n",
    "    def y_barv(value):\n",
    "        ProductLaw.y=value['new']\n",
    "        ProductLaw.clear_display() \n",
    "\n",
    "ProductLaw.clear_display()\n",
    "\n",
    "\n",
    "\n"
   ]
  },
  {
   "cell_type": "markdown",
   "metadata": {},
   "source": [
    "### Results\n",
    "In the mathematical proof, we used the relationship between logarithms and exponents in order to derive the Product Law. Based on the values recorded during the graphical proof, we see that the left-hand side of the law is equivalent to sum of the two functions on the right-hand side."
   ]
  },
  {
   "cell_type": "markdown",
   "metadata": {},
   "source": [
    "## <span style=\"color:blue\"> Quotient Law\n",
    "The next law we will be looking at is the Quotient Law. This is used when finding the difference of two logarithmic functions. The law states that\n",
    "- $\\log_{B}(x \\div y)=\\log_{B}x -\\log_{B}y$.\n",
    "\n",
    "### An example\n",
    "- $\\log(1000 \\div 100) = \\log(1000) - \\log(100)$ or equivalently\n",
    "- $\\log(10) = 1 = 3 -2.$\n",
    "\n",
    "### Mathematical proof\n",
    "Let's create a proof of the Quotient law.\n",
    "\n",
    "First, fix quantities $x$ and $y$ and define the values \n",
    "- $ p = \\log_B x$ and $ q = \\log_B y.$\n",
    "\n",
    "The equivalent exponential forms are\n",
    "- $B^p= x$ and $B^q = y$.\n",
    "\n",
    "Divide these two equations to obtain: <br />\n",
    "- $B^p \\div B^q = x \\div y.$\n",
    "\n",
    "Using Exponential Law (2), the above equation is equivalent to: <br />\n",
    "- $B^{p-q}=x \\div y.$\n",
    "\n",
    "Taking logs, we have\n",
    "- $\\log_{B}(B^{p-q}) = \\log_B(x\\div y) $ which becomes\n",
    "- $p - q = \\log_{B}(x \\div y).$\n",
    "\n",
    "Recalling our definition of m,n this becomes\n",
    "- $\\log_B x - \\log_B y = \\log_B(x\\div y),$\n",
    "\n",
    "which completes the proof of the Quotient Law.\n",
    "\n",
    "\n",
    "### Graphical Demonstration\n",
    "As we know, the Quotient Law states: $\\log_{B}x+\\log_{B}y = \\log_{B}(x \\times y).$ \n",
    "\n",
    "To go about this, we introduce a parameter $t$ that allows us to trace the graph of the logarithm function. We will also introduce two constant integers, $m$ and $n$.  \n",
    "\n",
    "We let $x=mt$ and $y=nt$ and set the base $B$ to 10, abbreviating $\\log_{10}(x)$ as $\\log(x)$.\n",
    "\n",
    "For these values of $x$ and $y$, the product law becomes  \n",
    "\n",
    "$\\log(mt)-\\log(nt) = \\log\\left(\\frac{mt}{nt}\\right)$\n",
    "\n",
    "which reduces to:\n",
    "\n",
    "$\\log(mt)-\\log(nt) = \\log\\left(\\frac{m}{n}\\right)$\n",
    "\n",
    "For the graphical demonstration, we will graph the three terms in the above equation separately with respect to $t$. When looking at a $t$ value, the difference of the corresponding values of the functions on the left side of the equation should be equivalent to the function on the right side of the equation, thus providing a demonstration of the Quotient Law.\n"
   ]
  },
  {
   "cell_type": "code",
   "execution_count": 6,
   "metadata": {
    "scrolled": true
   },
   "outputs": [
    {
     "data": {
      "application/vnd.jupyter.widget-view+json": {
       "model_id": "f76998a35ae947278997b771f1721b53",
       "version_major": 2,
       "version_minor": 0
      },
      "text/plain": [
       "IntSlider(value=6, continuous_update=False, description='$m$', max=10, min=1)"
      ]
     },
     "metadata": {},
     "output_type": "display_data"
    },
    {
     "data": {
      "application/vnd.jupyter.widget-view+json": {
       "model_id": "72e6bc8b608144aca69f109eb247424a",
       "version_major": 2,
       "version_minor": 0
      },
      "text/plain": [
       "IntSlider(value=3, continuous_update=False, description='$n$', max=10, min=1)"
      ]
     },
     "metadata": {},
     "output_type": "display_data"
    },
    {
     "data": {
      "application/vnd.jupyter.widget-view+json": {
       "model_id": "b8c2a639cb1649dfbd7542d48fb23caa",
       "version_major": 2,
       "version_minor": 0
      },
      "text/plain": [
       "IntSlider(value=5, continuous_update=False, description='x', max=10, min=1)"
      ]
     },
     "metadata": {},
     "output_type": "display_data"
    },
    {
     "data": {
      "image/png": "[encoded data removed]",
      "text/plain": [
       "<Figure size 432x288 with 3 Axes>"
      ]
     },
     "metadata": {
      "needs_background": "light"
     },
     "output_type": "display_data"
    },
    {
     "data": {
      "text/latex": [
       "When $m$= 6 and $n$= 3"
      ],
      "text/plain": [
       "<IPython.core.display.Latex object>"
      ]
     },
     "metadata": {},
     "output_type": "display_data"
    },
    {
     "data": {
      "text/latex": [
       "The y-coordinates at log(6$t$), log(3$t$) and log(2) are at 1.477, 1.176 and 0.301 repectively"
      ],
      "text/plain": [
       "<IPython.core.display.Latex object>"
      ]
     },
     "metadata": {},
     "output_type": "display_data"
    },
    {
     "data": {
      "text/latex": [
       "1.477-1.176=0.301"
      ],
      "text/plain": [
       "<IPython.core.display.Latex object>"
      ]
     },
     "metadata": {},
     "output_type": "display_data"
    },
    {
     "data": {
      "text/latex": [
       "thus"
      ],
      "text/plain": [
       "<IPython.core.display.Latex object>"
      ]
     },
     "metadata": {},
     "output_type": "display_data"
    },
    {
     "data": {
      "text/latex": [
       "$\\log(m) - \\log(n) = \\log(\\frac{m}{n})$"
      ],
      "text/plain": [
       "<IPython.core.display.Latex object>"
      ]
     },
     "metadata": {},
     "output_type": "display_data"
    }
   ],
   "source": [
    "class QuotientLaw():\n",
    "   \n",
    "    # Create 2x2 sub plots\n",
    "    gs = gridspec.GridSpec(2, 2)\n",
    "    \n",
    "    axis=5\n",
    "    x=6\n",
    "    y=3\n",
    "    x_axis_bar = widgets.IntSlider(\n",
    "        value=5,\n",
    "        min=1,\n",
    "        max=10,\n",
    "        step=1,\n",
    "        description='x',\n",
    "        disabled=False,\n",
    "        continuous_update=False,\n",
    "        orientation='horizontal',\n",
    "        readout=True,\n",
    "        readout_format='d'\n",
    "    )       \n",
    "\n",
    "    x_bar = widgets.IntSlider(\n",
    "        value=x,\n",
    "        min=1,\n",
    "        max=10,\n",
    "        step=1,\n",
    "        description='$m$',\n",
    "        disabled=False,\n",
    "        continuous_update=False,\n",
    "        orientation='horizontal',\n",
    "        readout=True,\n",
    "        readout_format='d'\n",
    "    )            \n",
    "\n",
    "    y_bar = widgets.IntSlider(\n",
    "        value=y,\n",
    "        min=1,\n",
    "        max=10,\n",
    "        step=1,\n",
    "        description='$n$',\n",
    "        disabled=False,\n",
    "        continuous_update=False,\n",
    "        orientation='horizontal',\n",
    "        readout=True,\n",
    "        readout_format='d'\n",
    "    )  \n",
    "    def create_graph():\n",
    "\n",
    "        #########################################\n",
    "        # Description: generates a graph in order to prove Quotient Law\n",
    "        #\n",
    "        # @Args: Inputs are for the variables shown in Quotient Law\n",
    "        #        x-coordinate: based on a sliding bar in range 1-10\n",
    "        #        M constant: based on a sliding bar in range 1-10\n",
    "        #        N constant: based on a sliding bar in range 1-10\n",
    "        #\n",
    "        # @Return: graph for graphical proof as well as the y-coordinate corresponding to the graphed points\n",
    "        #\n",
    "        #########################################\n",
    "        \n",
    "        y_value=np.linspace(QuotientLaw.x/QuotientLaw.y,QuotientLaw.x/QuotientLaw.y)\n",
    "        \n",
    "        #Plot the 3 log functions from the left and right side of the Product Law\n",
    "        ax1 = plt.subplot(QuotientLaw.gs[0, 0]) # row 0, col 0\n",
    "        ax1.plot(x,Logarithm.log(QuotientLaw.x,base,x),'-b')\n",
    "        p1=log(QuotientLaw.x*QuotientLaw.axis,base)\n",
    "        ax1.plot(QuotientLaw.axis,p1,'ob')\n",
    "        ax1.annotate('%1.3f' %p1,xy=(QuotientLaw.axis,p1),xytext=(-10,-20),textcoords='offset points')\n",
    "        ax1.set_title('Left side of Quotient Law')\n",
    "        plt.ylabel('$\\log(m)$')\n",
    "        plt.grid()\n",
    "\n",
    "        ax2 = plt.subplot(QuotientLaw.gs[1, 0])\n",
    "        ax2.plot(x,Logarithm.log(QuotientLaw.y,base,x),'-g')\n",
    "        p2=log(QuotientLaw.y*QuotientLaw.axis,base)\n",
    "        ax2.plot(QuotientLaw.axis,p2,'og')\n",
    "        ax2.annotate('%1.3f' %p2,xy=(QuotientLaw.axis,p2),xytext=(-10,-20),textcoords='offset points')\n",
    "        plt.ylabel('$\\log(n)$')\n",
    "\n",
    "        plt.xlabel('x')\n",
    "        plt.grid()\n",
    "\n",
    "        ax3 = plt.subplot(QuotientLaw.gs[:, 1])\n",
    "        ax3.plot(x,Logarithm.log(1,base,y_value),'-r')\n",
    "        p3=log(QuotientLaw.x/QuotientLaw.y,base)\n",
    "        ax3.plot(QuotientLaw.axis,p3,'or')\n",
    "        ax3.annotate('%1.3f' %p3,xy=(QuotientLaw.axis,p3),xytext=(-10,-20),textcoords='offset points')\n",
    "        ax3.set_title('Right side of Quotient Law')\n",
    "        plt.ylabel(r'$\\log(\\frac{m}{n})$')\n",
    "        ax3.yaxis.set_label_position(\"right\")\n",
    "        plt.xlabel('x')\n",
    "        plt.grid()\n",
    "        plt.show()\n",
    "        \n",
    "        display(Latex('When $m$={1:2.0f} and $n$={2:2.0f}'.format(QuotientLaw.axis,QuotientLaw.x,QuotientLaw.y)))\n",
    "        display(Latex('The y-coordinates at log({0:1.0f}$t$), log({1:1.0f}$t$) and log({2:1.0f}) are at {3:1.3f}, {4:1.3f} and {5:1.3f} repectively'.format(QuotientLaw.x,QuotientLaw.y,QuotientLaw.x/QuotientLaw.y,p1, p2, p3)))\n",
    "        display(Latex('{0:1.3f}-{1:1.3f}={2:1.3f}'.format(p1,p2,p3)))\n",
    "        display(Latex('thus'))\n",
    "        display(Latex(r'$\\log(m) - \\log(n) = \\log(\\frac{m}{n})$'))\n",
    "    \n",
    "    def clear_display():\n",
    "        clear_output(wait=True)\n",
    "        display(QuotientLaw.x_bar)\n",
    "        display(QuotientLaw.y_bar)\n",
    "        display(QuotientLaw.x_axis_bar)\n",
    "        QuotientLaw.create_graph()\n",
    "        QuotientLaw.observe()\n",
    "        \n",
    "    def observe():\n",
    "        QuotientLaw.x_axis_bar.observe(QuotientLaw.x_value, names='value')\n",
    "        QuotientLaw.x_bar.observe(QuotientLaw.xv, names='value')\n",
    "        QuotientLaw.y_bar.observe(QuotientLaw.yv, names='value')\n",
    "\n",
    "    def x_value(value):\n",
    "        QuotientLaw.axis=value['new']\n",
    "        QuotientLaw.clear_display()\n",
    "        \n",
    "    def xv(value):\n",
    "        QuotientLaw.x=value['new']\n",
    "        QuotientLaw.clear_display()\n",
    "        \n",
    "    def yv(value):\n",
    "        QuotientLaw.y=value['new']\n",
    "        QuotientLaw.clear_display()\n",
    "\n",
    "QuotientLaw.clear_display()\n"
   ]
  },
  {
   "cell_type": "markdown",
   "metadata": {
    "slideshow": {
     "slide_type": "slide"
    }
   },
   "source": [
    "### Result\n",
    "In the mathematical proof, we  used the relationship between logarithms and exponents as well as exponential laws in order to derive the Quotient Law. When we look at the graphical demonstration, we see that the functions on the right hand side both resemble very similar curves. On the left hand side of the law, we can see that the function remains as a constant number. We also see that the left-hand side of the law is equivalent to the difference to the two functions on the right-hand side."
   ]
  },
  {
   "cell_type": "markdown",
   "metadata": {},
   "source": [
    "## <span style=\"color:blue\"> Power Law\n",
    "The next law we will look at is power law. This is used in the case when there is an exponential power inside the logarithmic function. The law states that\n",
    "- $\\log_{B}(x^p)=p \\times \\log_B(x)$.\n",
    "\n",
    "### An example\n",
    "\n",
    "- $\\log(1000^2) = 2\\log(1000) $ or equivalently\n",
    "- $\\log(1,000,000) = 6 = 2 \\times 3.$\n",
    "\n",
    "### Mathematical Proof \n",
    "First we fix quantities $x$ and $p$ then define\n",
    "- $ m = \\log_B (x^p).$\n",
    "\n",
    "The equivalent exponential form is\n",
    "- $B^m=x^p$. \n",
    "\n",
    "Bring each side of the equation to the power of $1/p$ to obtain\n",
    "- $(B^m)^{\\frac{1}{p}}=(x^p)^{\\frac{1}{p}}.$ \n",
    "\n",
    "By using Exponential Law (3), we can multiply the exponents to the one inside the brackets to get\n",
    "- $B^{\\frac{m}{p}}= x.$ \n",
    "\n",
    "Apply the log function to both sides to get \n",
    "- $\\log_B(B^{\\frac{m}{p}})=\\log_B(x) $, resulting in \n",
    "- $\\frac{m}{p} = \\log_B(x).$\n",
    "\n",
    "Multiply by $p$ to obtain\n",
    "- $m = p \\times log_B(x),$ and recalling the definition of m, we have\n",
    "- $\\log_B(x^p) = p \\times \\log_B(x).$\n",
    "\n",
    "This completes the proof.\n",
    "\n",
    "\n",
    "\n",
    "### Graphical Demonstration\n",
    "In this case, there is one function on each the left and right hand sides of the law. For this reason 2 functions will be graphed. Since they are theoretically be equivalent to each other, we can expect that the functions will be identical on the graph. If this is seen on the graph, we can validate Power Law.\n",
    "\n",
    "As we know, the power Law states: $\\log_B(x^p) = p \\times \\log_B(x).$ \n",
    "\n",
    "To go about this, we introduce a parameter $t$ that allows us to trace the graph of the logarithm function. We will also introduce a constant interger, $m$.  \n",
    "\n",
    "We let $x=mt$ and set the base $B$ to 10, abbreviating $\\log{10}(x)$ as $\\log(x)$.\n",
    "\n",
    "For these values of $x$ and $y$, the product law becomes\n",
    "\n",
    "$\\log_B(mt^p) = p \\times \\log_B(mt)$ \n",
    "\n",
    "For the graphical demonstration, we will graph the three terms in the above equation separately with respect to $t$. When looking at a $t$ value, the function on the left side of the equation should be equivalent to the function on the right side of the equation, thus providing a demonstration of the power law."
   ]
  },
  {
   "cell_type": "code",
   "execution_count": 7,
   "metadata": {
    "scrolled": false
   },
   "outputs": [
    {
     "data": {
      "application/vnd.jupyter.widget-view+json": {
       "model_id": "56b39cc14baf4800aa0244a3d8ae121a",
       "version_major": 2,
       "version_minor": 0
      },
      "text/plain": [
       "IntSlider(value=6, continuous_update=False, description='$m$', max=10, min=1)"
      ]
     },
     "metadata": {},
     "output_type": "display_data"
    },
    {
     "data": {
      "application/vnd.jupyter.widget-view+json": {
       "model_id": "95bedc296a4042829d5d7d9459cdfd79",
       "version_major": 2,
       "version_minor": 0
      },
      "text/plain": [
       "IntSlider(value=2, continuous_update=False, description='$p$', max=10, min=1)"
      ]
     },
     "metadata": {},
     "output_type": "display_data"
    },
    {
     "data": {
      "application/vnd.jupyter.widget-view+json": {
       "model_id": "8018577f1e2544a6badfe08e4639cba2",
       "version_major": 2,
       "version_minor": 0
      },
      "text/plain": [
       "IntSlider(value=5, continuous_update=False, description='x', max=10, min=1)"
      ]
     },
     "metadata": {},
     "output_type": "display_data"
    },
    {
     "data": {
      "image/png": "[encoded data removed]",
      "text/plain": [
       "<Figure size 432x288 with 2 Axes>"
      ]
     },
     "metadata": {
      "needs_background": "light"
     },
     "output_type": "display_data"
    },
    {
     "data": {
      "text/latex": [
       "at $m$=6 and $p$=2"
      ],
      "text/plain": [
       "<IPython.core.display.Latex object>"
      ]
     },
     "metadata": {},
     "output_type": "display_data"
    },
    {
     "data": {
      "text/latex": [
       "We can see that the y-coordinates are labeled on the graph. At the points log($6^2x$) and 2 $\\times$ log(6$x$) the y-coordinates are 2.954 and 2.954 repectively"
      ],
      "text/plain": [
       "<IPython.core.display.Latex object>"
      ]
     },
     "metadata": {},
     "output_type": "display_data"
    },
    {
     "data": {
      "text/latex": [
       "2.954=2.954"
      ],
      "text/plain": [
       "<IPython.core.display.Latex object>"
      ]
     },
     "metadata": {},
     "output_type": "display_data"
    },
    {
     "data": {
      "text/latex": [
       "thus"
      ],
      "text/plain": [
       "<IPython.core.display.Latex object>"
      ]
     },
     "metadata": {},
     "output_type": "display_data"
    },
    {
     "data": {
      "text/latex": [
       "$\\log_{B}(x^p)=p \\times \\log_B(x)$"
      ],
      "text/plain": [
       "<IPython.core.display.Latex object>"
      ]
     },
     "metadata": {},
     "output_type": "display_data"
    }
   ],
   "source": [
    "class PowerLaw():\n",
    "    # Create 2x2 sub plots\n",
    "    gs = gridspec.GridSpec(1, 2)\n",
    "    x=np.linspace(1,10)\n",
    "    axis=5\n",
    "    x=6\n",
    "    p=2\n",
    "    \n",
    "    x_axis_bar = widgets.IntSlider(\n",
    "        value=5,\n",
    "        min=1,\n",
    "        max=10,\n",
    "        step=1,\n",
    "        description='x',\n",
    "        disabled=False,\n",
    "        continuous_update=False,\n",
    "        orientation='horizontal',\n",
    "        readout=True,\n",
    "        readout_format='d'\n",
    "    )       \n",
    "\n",
    "    x_bar = widgets.IntSlider(\n",
    "        value=x,\n",
    "        min=1,\n",
    "        max=10,\n",
    "        step=1,\n",
    "        description='$m$',\n",
    "        disabled=False,\n",
    "        continuous_update=False,\n",
    "        orientation='horizontal',\n",
    "        readout=True,\n",
    "        readout_format='d'\n",
    "    )            \n",
    "\n",
    "\n",
    "    p_bar = widgets.IntSlider(\n",
    "        value=p,\n",
    "        min=1,\n",
    "        max=10,\n",
    "        step=1,\n",
    "        description='$p$',\n",
    "        disabled=False,\n",
    "        continuous_update=False,\n",
    "        orientation='horizontal',\n",
    "        readout=True,\n",
    "        readout_format='d'\n",
    "    ) \n",
    "\n",
    "    def create_graph():\n",
    "\n",
    "        #########################################\n",
    "        # Description: generates a graph in order to prove Power Law\n",
    "        #\n",
    "        # @Args: Inputs are for the variables shown in Power Law\n",
    "        #        x-coordinate: based on a sliding bar in range 1-10\n",
    "        #        M constant: based on a sliding bar in range 1-10\n",
    "        #        N constant: based on a sliding bar in range 1-10\n",
    "        #        R exponential constant: based on a sliding bar in range 1-10\n",
    "        #\n",
    "        # @Return: graph for graphical proof as well as the y-coordinate corresponding to the graphed points\n",
    "        #\n",
    "        #########################################\n",
    "\n",
    "        #Plot the 3 log functions from the left and right side of the Product Law\n",
    "        ax1 = plt.subplot(PowerLaw.gs[0,1]) # row 0, col 0\n",
    "        ax1.plot(x,Logarithm.log_exp(PowerLaw.p,PowerLaw.x,base,x),'-g')\n",
    "        p1=log((PowerLaw.x*PowerLaw.axis)**PowerLaw.p,base)\n",
    "        ax1.plot(PowerLaw.axis,p1,'ob')\n",
    "        ax1.annotate('%1.3f' %p1,xy=(PowerLaw.axis,p1),xytext=(-10,-20),textcoords='offset points')\n",
    "        ax1.set_title('Right side of Power law')\n",
    "        plt.ylabel('$y=\\log_{B}(Mx)$')\n",
    "        ax1.yaxis.set_label_position(\"right\")\n",
    "        plt.xlabel('x')\n",
    "        plt.grid()\n",
    "\n",
    "        ax2 = plt.subplot(PowerLaw.gs[0, 0])\n",
    "        ax2.plot(x,Logarithm.constant_x_log(PowerLaw.p,PowerLaw.x,base,x),'-b')\n",
    "        p2=PowerLaw.p*log(PowerLaw.x*PowerLaw.axis,base)\n",
    "        ax2.plot(PowerLaw.axis,p2,'og')\n",
    "        ax2.annotate('%1.3f' %p2,xy=(PowerLaw.axis,p2),xytext=(-10,-20),textcoords='offset points')\n",
    "        plt.ylabel('$y=\\log_{B}(Nx)$')\n",
    "        ax2.yaxis.set_label_position(\"left\")\n",
    "        ax2.set_title('Left side of Power Law')\n",
    "        plt.xlabel('x')\n",
    "        plt.grid()\n",
    "        plt.show()\n",
    "        \n",
    "        display(Latex('at $m$={0:1d} and $p$={1:1d}'.format(PowerLaw.x,PowerLaw.p)))\n",
    "        display(Latex(r'We can see that the y-coordinates are labeled on the graph. At the points log(${0:1d}^{1:1d}x$) and {2:1d} $\\times$ log({3:1d}$x$) the y-coordinates are {4:1.3f} and {5:1.3f} repectively'.format(PowerLaw.x,PowerLaw.p,PowerLaw.p,PowerLaw.x,p1,p2)))\n",
    "        display(Latex('{0:1.3f}={1:1.3f}'.format(p1,p2)))\n",
    "\n",
    "        display(Latex('thus'))\n",
    "        display(Latex(r'$\\log_{B}(x^p)=p \\times \\log_B(x)$'))\n",
    "        \n",
    "    def clear_display():\n",
    "        clear_output(wait=True)\n",
    "        display(PowerLaw.x_bar)\n",
    "        display(PowerLaw.p_bar)\n",
    "        display(PowerLaw.x_axis_bar)\n",
    "        PowerLaw.create_graph()\n",
    "        PowerLaw.observe()\n",
    "        \n",
    "    def observe():\n",
    "        PowerLaw.x_axis_bar.observe(PowerLaw.x_value, names='value')\n",
    "        PowerLaw.x_bar.observe(PowerLaw.xv, names='value')\n",
    "        PowerLaw.p_bar.observe(PowerLaw.pv, names='value')\n",
    "        \n",
    "    def x_value(value):\n",
    "        PowerLaw.axis=value['new']\n",
    "        PowerLaw.clear_display()\n",
    "        \n",
    "    def xv(value):\n",
    "        PowerLaw.x=value['new']\n",
    "        PowerLaw.clear_display()\n",
    "        \n",
    "        \n",
    "    def pv(value):\n",
    "        PowerLaw.p=value['new']\n",
    "        PowerLaw.clear_display()\n",
    "\n",
    "\n",
    "\n",
    "PowerLaw.clear_display()\n",
    "\n"
   ]
  },
  {
   "cell_type": "markdown",
   "metadata": {},
   "source": [
    "### Results\n",
    "The Mathematical proof shows that by first converting the logarithmic functions into exponents then using the exponential laws we can derive the power Law. When looking at the graph, we see that the function on the left-hand side are equavalent to the right-hand side."
   ]
  },
  {
   "cell_type": "markdown",
   "metadata": {},
   "source": [
    "## <span style=\"color:blue\"> Change of Base Rule\n",
    "This rule is useful for changing the base of a logarithmic function which can be useful for proofs or comparing certain functions. The law states that: <br />\n",
    "$\\log_{B}(x)=\\frac{\\log_C(x)}{\\log_C(B)}$ \n",
    "\n",
    "### An example\n",
    "\n",
    "- $\\log_8(64) = \\frac{\\log_2(64)}{\\log_2(8)}$ or equivalently\n",
    "- $2 = \\frac{6}{3}.$\n",
    "\n",
    "### Mathematical Proof\n",
    "First we need to define a variable. In this case, we will use x.\n",
    "- $\\text{Let }x=\\log_{B}(M)$ \n",
    "\n",
    "When converting this to exponents by using basic logarithmic properties, we get: \n",
    "- $B^x=M$ \n",
    "\n",
    "$\\text{Next, is to apply } \\log_N \\text{ to both sides of the equation}$ \n",
    "- $\\log_N(B^x)=\\log_N(M)$\n",
    "\n",
    "By Power Law (see above) this can be simplified to: \n",
    "- $x\\log_N(B)=\\log_N(M)$ \n",
    "\n",
    "Isolating for x: \n",
    "- $x=\\frac{\\log_N(M)}{\\log_N(B)}$ \n",
    "\n",
    "After inputing the x value we defined earlier, we get:\n",
    "- $\\log_{B}(M)=\\frac{\\log_N(M)}{\\log_N(B)}$\n",
    "\n"
   ]
  },
  {
   "cell_type": "markdown",
   "metadata": {},
   "source": [
    "### Discussion\n",
    "\n",
    "The change of base law says that\n",
    "- $\\log_B(x) = \\frac{\\log_C(x)}{\\log_C(B)}.$\n",
    "\n",
    "Another way to write this is\n",
    "- $\\log_B(x) = \\log_C(x)\\times \\log_B(C)).$ (Can you see why?)\n",
    "\n",
    "The point is, the two functions $\\log_B(x), \\log_C(x)$ are related by a proportionality constant, so we can write\n",
    "$$ \\log_B(x) = k\\cdot \\log_C(x).$$\n",
    "\n",
    "For instance, the two functions $\\log_2(x)$ and $\\log_{10}(x)$ are the same, up to some constant $k$. Perhaps you can explain why this constant is approximately $10/3$. That is\n",
    "$$\\log_2(x) \\approx \\frac{10}{3} \\log_{10}(x).$$\n",
    "\n",
    "Equivalently, \n",
    "$$\\log_{10}(x) \\approx 0.3 \\log_{2}(x).$$\n",
    "\n",
    "(Hint: this has something to do with our discussion of kilos in the first section of this notebook.)"
   ]
  },
  {
   "cell_type": "markdown",
   "metadata": {},
   "source": [
    "### Evidence\n",
    "As it is hard to graph this function, as there is no good place to put $x$, this function with be proved through evidence. We will plug numbers into each side of the equation to calculate the values obtained on each side of the law. Notice that changing the new base value has no affect on the final value."
   ]
  },
  {
   "cell_type": "code",
   "execution_count": 8,
   "metadata": {
    "scrolled": false
   },
   "outputs": [
    {
     "data": {
      "application/vnd.jupyter.widget-view+json": {
       "model_id": "ef95ff2dc9e0471f931b50a9aace6b59",
       "version_major": 2,
       "version_minor": 0
      },
      "text/plain": [
       "HBox(children=(Label(value='M value'), IntSlider(value=5, continuous_update=False, max=10, min=1)))"
      ]
     },
     "metadata": {},
     "output_type": "display_data"
    },
    {
     "data": {
      "application/vnd.jupyter.widget-view+json": {
       "model_id": "c37bf1ecd83346ce9fa17a10dfc460bc",
       "version_major": 2,
       "version_minor": 0
      },
      "text/plain": [
       "HBox(children=(Label(value='Original base value'), IntSlider(value=10, continuous_update=False, max=10, min=2)…"
      ]
     },
     "metadata": {},
     "output_type": "display_data"
    },
    {
     "data": {
      "application/vnd.jupyter.widget-view+json": {
       "model_id": "fbd892b08c9742f0bf0d301c9498861e",
       "version_major": 2,
       "version_minor": 0
      },
      "text/plain": [
       "HBox(children=(Label(value='New base value'), IntSlider(value=5, continuous_update=False, max=10, min=2)))"
      ]
     },
     "metadata": {},
     "output_type": "display_data"
    },
    {
     "data": {
      "text/latex": [
       "On the left hand side $\\log_B(M)$ = 0.699."
      ],
      "text/plain": [
       "<IPython.core.display.Latex object>"
      ]
     },
     "metadata": {},
     "output_type": "display_data"
    },
    {
     "data": {
      "text/latex": [
       "On the right hand side is $\\log_C(M) \\div \\log_C(B)$ = 0.699."
      ],
      "text/plain": [
       "<IPython.core.display.Latex object>"
      ]
     },
     "metadata": {},
     "output_type": "display_data"
    },
    {
     "data": {
      "text/latex": [
       "0.699 = 0.699"
      ],
      "text/plain": [
       "<IPython.core.display.Latex object>"
      ]
     },
     "metadata": {},
     "output_type": "display_data"
    },
    {
     "data": {
      "text/latex": [
       "thus"
      ],
      "text/plain": [
       "<IPython.core.display.Latex object>"
      ]
     },
     "metadata": {},
     "output_type": "display_data"
    },
    {
     "data": {
      "text/latex": [
       "$\\log_{B}(M) = \\frac{\\log_C(M)}{\\log_C(B)}$"
      ],
      "text/plain": [
       "<IPython.core.display.Latex object>"
      ]
     },
     "metadata": {},
     "output_type": "display_data"
    }
   ],
   "source": [
    "class ChangeOfBase():\n",
    "    \n",
    "    #First set random variables\n",
    "    M=5\n",
    "    base=10\n",
    "    new_base=5\n",
    "\n",
    "    def create_graph():\n",
    "\n",
    "        #########################################\n",
    "        # Description: Plugs in numbers to prove Change of Base Rules\n",
    "        #\n",
    "        # @Args: Inputs are for the variables shown in Power Law\n",
    "        #        M constant: based on a sliding bar in range 1-10\n",
    "        #        base: based on a sliding bar in range 1-10\n",
    "        #        new base: based on a sliding bar in range 1-10 \n",
    "        #\n",
    "        # @Return: The corresponding value of each side of the equation which result after plugging in the numbers.\n",
    "        #########################################\n",
    "   \n",
    "        \n",
    "    \n",
    "        p1=log(ChangeOfBase.M,ChangeOfBase.base)\n",
    "        p2=log(ChangeOfBase.M,ChangeOfBase.new_base)/ log(ChangeOfBase.base,ChangeOfBase.new_base)\n",
    "\n",
    "        display(Latex('On the left hand side $\\log_B(M)$ = {0:1.3f}.'.format(p1)))\n",
    "        display(Latex(r'On the right hand side is $\\log_C(M) \\div \\log_C(B)$ = {0:1.3f}.'.format(p2)))\n",
    "        display(Latex('{0:1.3f} = {1:1.3f}'.format(p1,p2)))\n",
    "        display(Latex('thus'))\n",
    "        display(Latex(r'$\\log_{B}(M) = \\frac{\\log_C(M)}{\\log_C(B)}$'))\n",
    "\n",
    "    def clear_display():\n",
    "        clear_output(wait=True)   \n",
    "        display(m_box)\n",
    "        display(base_box)\n",
    "        display(new_base_box)\n",
    "        ChangeOfBase.create_graph()\n",
    "\n",
    "    def xv(value):\n",
    "        ChangeOfBase.axis=value['new']\n",
    "        ChangeOfBase.clear_display()\n",
    "        \n",
    "    def Mv(value):\n",
    "        ChangeOfBase.M=value['new']\n",
    "        ChangeOfBase.clear_display()\n",
    "        \n",
    "    def Basev(value):\n",
    "        ChangeOfBase.base=value['new']\n",
    "        ChangeOfBase.clear_display()\n",
    "        \n",
    "    def New_basev(value):\n",
    "        ChangeOfBase.new_base=value['new']\n",
    "        ChangeOfBase.clear_display()      \n",
    "\n",
    "M_bar = widgets.IntSlider(\n",
    "    value=ChangeOfBase.M,\n",
    "    min=1,\n",
    "    max=10,\n",
    "    step=1,\n",
    "    disabled=False,\n",
    "    continuous_update=False,\n",
    "    orientation='horizontal',\n",
    "    readout=True,\n",
    "    readout_format='d'\n",
    ")\n",
    "\n",
    "m_box = HBox([Label('M value'), M_bar])\n",
    "\n",
    "base_bar = widgets.IntSlider(\n",
    "    value=ChangeOfBase.base,\n",
    "    min=2,\n",
    "    max=10,\n",
    "    step=1,\n",
    "    disabled=False,\n",
    "    continuous_update=False,\n",
    "    orientation='horizontal',\n",
    "    readout=True,\n",
    "    readout_format='d'\n",
    ")\n",
    "\n",
    "base_box = HBox([Label('Original base value'), base_bar])\n",
    "\n",
    "new_base_bar = widgets.IntSlider(\n",
    "    value=ChangeOfBase.new_base,\n",
    "    min=2,\n",
    "    max=10,\n",
    "    step=1,\n",
    "    disabled=False,\n",
    "    continuous_update=False,\n",
    "    orientation='horizontal',\n",
    "    readout=True,\n",
    "    readout_format='d'\n",
    ")\n",
    "\n",
    "new_base_box = HBox([Label('New base value'), new_base_bar])\n",
    "\n",
    "ChangeOfBase.clear_display()\n",
    "M_bar.observe(ChangeOfBase.Mv, names='value')\n",
    "base_bar.observe(ChangeOfBase.Basev, names='value')\n",
    "new_base_bar.observe(ChangeOfBase.New_basev, names='value')\n"
   ]
  },
  {
   "cell_type": "markdown",
   "metadata": {},
   "source": [
    "### Results\n",
    "The mathematical proof uses the relationship between logarithms and exponents in order to change the value of the base and thus derive the rule. When plugging numbers into the rule, we can see that the left hand side of the equation is always equal to the right hand side, regardless of the numbers that are plugged in. By these 2 proofs, we can confirm the changing base rule."
   ]
  },
  {
   "cell_type": "markdown",
   "metadata": {},
   "source": [
    "## <span style=\"color:blue\"> Examples\n",
    "### 1. Simplify the following equation, then solve for $x$\n",
    "### $ 3^{\\log(x)}3^{\\log(x)}$\n",
    "Using Exponential Law (1), we can get:\n",
    "- $3^{\\log(x)+\\log(x)}$\n",
    "\n",
    "This is simplified to:\n",
    "\n",
    "- $3^{2\\log(x)}$\n",
    "\n",
    "Using Power law, we know $2\\log(x)=\\log(x^2)$. From this identity, we simplify the expression to:\n",
    "\n",
    "- $3^{\\log(x^2)}$\n",
    "\n",
    "To solve for $x$, we need to first note that $3 = 10^{\\log 3}.$ So we can continue with\n",
    "- $ 3^{\\log(x^2)} = 10^{\\log 3 \\log x^2} = 10^{\\log x^{2\\log 3}} = x^{2\\log 3} = x^{\\log(9)}.$\n",
    "\n",
    "Thus, we can say:\n",
    "\n",
    "- $x^{\\log(9)} \\approx x^{.954}$ </p>\n",
    "\n",
    "\n",
    "### 2. $\\text{Simplify the expression: } 2\\log(x) - \\frac{\\log(z)}{2} + 3\\log(y)$\n",
    "\n",
    "Next, we will apply Power Law on each term. While keeping in mind that $z^{\\frac{1}{2}}=\\sqrt{z}$, we can simplify this equation to:\n",
    "- $\\log\\left(x^2\\right) - \\log(\\sqrt{z})+\\log(y^3)$\n",
    "\n",
    "We can apply both Quotient and Product Law to this equation. This will result in the final simplified form of:\n",
    "\n",
    "<div id='page' style='width: 100px'>\n",
    "<p style=\"border:2px; border-style:solid; border-color:#000000;\"> $\\quad \\log(\\frac{x^2y^3}{\\sqrt{z}})$ <p />\n",
    "</div>\n",
    "\n",
    "### 3.    Solve for x $ 2^{(x-2)}=2^x -2 $\n",
    "\n",
    "Using Exponent Law (2) reguarding the division of exponents, we can come up with the equivalent equation:\n",
    "- $\\frac{2^x}{2^2}=2^x-2$\n",
    "\n",
    "The next step is to complete simple algebra. We can put all of the $2^x$ terms on the same side to isolate for x.\n",
    "\n",
    "The intermediate step is:\n",
    "- $2^x=4(2^x-2)$<br>\n",
    "When we put all of the $2^x$ terms on the same side, we get:\n",
    "- $-3(2^x)=-8$\n",
    "\n",
    "which becomes:\n",
    "- $2^x = \\frac{8}{3}$\n",
    "\n",
    "Since we know, $\\log_2(2)=1$, we can apply $\\log_2$ onto both sides. We get:\n",
    "- $\\log_2(2^x)=\\log_2\\left(\\frac{8}{3}\\right)$\n",
    "\n",
    "Using Power Law, $\\log_2(2^x)$ is equivalent to $ x\\log_22$ where $\\log_22 = 1$. Thus:\n",
    "\n",
    "<div id='page' style='width: 100px'>\n",
    "<p style=\"border:2px; border-style:solid; border-color:#000000;\"> $x= \\log_2\\left(\\frac{8}{3}\\right)$ <p />\n"
   ]
  },
  {
   "cell_type": "markdown",
   "metadata": {},
   "source": [
    "## Conclusion\n",
    "When analysing each of the 5 functions in mathematical  and graphical ways, that each of these 5 laws can be proven and validated. This creates shortcuts to make it easier to simplify and analyze more complex functions."
   ]
  },
  {
   "cell_type": "markdown",
   "metadata": {},
   "source": [
    "[![Callysto.ca License](https://github.com/callysto/curriculum-notebooks/blob/master/callysto-notebook-banner-bottom.jpg?raw=true)](https://github.com/callysto/curriculum-notebooks/blob/master/LICENSE.md)"
   ]
  }
 ],
 "metadata": {
  "kernelspec": {
   "display_name": "Python 3",
   "language": "python",
   "name": "python3"
  },
  "language_info": {
   "codemirror_mode": {
    "name": "ipython",
    "version": 3
   },
   "file_extension": ".py",
   "mimetype": "text/x-python",
   "name": "python",
   "nbconvert_exporter": "python",
   "pygments_lexer": "ipython3",
   "version": "3.7.4"
  }
 },
 "nbformat": 4,
 "nbformat_minor": 2
}

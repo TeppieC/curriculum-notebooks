{
 "cells": [
  {
   "cell_type": "markdown",
   "metadata": {},
   "source": [
    "![Callysto.ca Banner](https://github.com/callysto/curriculum-notebooks/blob/master/callysto-notebook-banner-top.jpg?raw=true)\n",
    "\n",
    "<a href=\"https://hub.callysto.ca/jupyter/hub/user-redirect/git-pull?repo=https%3A%2F%2Fgithub.com%2Fcallysto%2Fcurriculum-notebooks&branch=master&subPath=Mathematics/ApproximatingNonPerfectSquareRoots/approximating-non-perfect-square-roots.ipynb&depth=1\" target=\"_parent\"><img src=\"https://raw.githubusercontent.com/callysto/curriculum-notebooks/master/open-in-callysto-button.svg?sanitize=true\" width=\"123\" height=\"24\" alt=\"Open in Callysto\"/></a>"
   ]
  },
  {
   "cell_type": "code",
   "execution_count": 1,
   "metadata": {
    "tags": [
     "hide-input"
    ]
   },
   "outputs": [
    {
     "data": {
      "text/html": [
       "\n",
       "<script>\n",
       "  function code_toggle() {\n",
       "    if (code_shown){\n",
       "      $('div.input').hide('500');\n",
       "      $('#toggleButton').val('Show Code')\n",
       "    } else {\n",
       "      $('div.input').show('500');\n",
       "      $('#toggleButton').val('Hide Code')\n",
       "    }\n",
       "    code_shown = !code_shown\n",
       "  }\n",
       "\n",
       "  $( document ).ready(function(){\n",
       "    code_shown=false;\n",
       "    $('div.input').hide()\n",
       "  });\n",
       "</script>\n",
       "\n",
       "<form action=\"javascript:code_toggle()\"><input type=\"submit\" id=\"toggleButton\" value=\"Show Code\"></form>\n"
      ],
      "text/plain": [
       "<IPython.core.display.HTML object>"
      ]
     },
     "metadata": {},
     "output_type": "display_data"
    }
   ],
   "source": [
    "%%html\n",
    "\n",
    "<script>\n",
    "  function code_toggle() {\n",
    "    if (code_shown){\n",
    "      $('div.input').hide('500');\n",
    "      $('#toggleButton').val('Show Code')\n",
    "    } else {\n",
    "      $('div.input').show('500');\n",
    "      $('#toggleButton').val('Hide Code')\n",
    "    }\n",
    "    code_shown = !code_shown\n",
    "  }\n",
    "\n",
    "  $( document ).ready(function(){\n",
    "    code_shown=false;\n",
    "    $('div.input').hide()\n",
    "  });\n",
    "</script>\n",
    "<p> Code is hidden for ease of viewing. Click the Show/Hide button to see. </>\n",
    "<form action=\"javascript:code_toggle()\"><input type=\"submit\" id=\"toggleButton\" value=\"Show Code\"></form>"
   ]
  },
  {
   "cell_type": "code",
   "execution_count": 2,
   "metadata": {
    "tags": [
     "hide-input"
    ]
   },
   "outputs": [],
   "source": [
    "## List of Imports ##\n",
    "import random as rand\n",
    "import matplotlib.pyplot as plt\n",
    "import matplotlib\n",
    "import numpy as np\n",
    "from ipywidgets import *\n",
    "import math\n",
    "from IPython.display import display, Markdown, Latex,Math, HTML, clear_output, Javascript\n",
    "from traitlets import traitlets\n",
    "from matplotlib.widgets import Slider, Button, RadioButtons\n",
    "from fractions import Fraction\n",
    "from random import randint\n",
    "\n",
    "%matplotlib inline"
   ]
  },
  {
   "cell_type": "markdown",
   "metadata": {},
   "source": [
    "# Approximating Square Roots of Non-Perfect Squares"
   ]
  },
  {
   "cell_type": "markdown",
   "metadata": {},
   "source": [
    "Welcome! In this notebook, we will explore how to estimate the roots of non-perfect square numbers.\n",
    "\n",
    "As you progress through this math class, you will find that non-perfect squares become more prominent in finding areas and volumes, as well as in finding the side lengths of right triangles. Thus, it is important that we can approximate them, and also apply them to some geometric problems."
   ]
  },
  {
   "cell_type": "markdown",
   "metadata": {},
   "source": [
    "## Learning Objectives/Curriculum Objectives\n",
    "\n",
    "To determine the approximate square root of numbers that are not perfect squares (limited to whole numbers)."
   ]
  },
  {
   "cell_type": "markdown",
   "metadata": {},
   "source": [
    "## Background\n",
    "\n",
    "Recall that a **perfect square** is a **whole number** (or positive integer) that is the product of **two identical integers** or **two other perfect squares**. Note that fractions can also be a perfect square. This will happen if the numerator and the denominator are both perfect squares. For example, ${\\frac{4}{9}}$ is a perfect square, because 4 is a perfect square, and 9 is a perfect square. \n",
    "\n",
    "We could identify whether a number was a perfect square by factoring it into its prime factors or by drawing out a square on grid paper and determining the area. Also, remember that squaring a number and taking the square root are **opposite operations**.\n",
    "\n",
    "Today, we will be looking at approximating **non-perfect squares**. Non-perfect squares are also **whole numbers** that are not a product of two identical integers or a product of two perfect squares. When we take the square root of these numbers, we won't get an integer, we will get a decimal number.\n",
    "\n",
    "For example: 16 is a perfect square. Why? Well, we can either take its square root, or we can prime factorize it. If we prime factorize, we would get 16 = 2$\\cdot$2$\\cdot$2$\\cdot$2. Now it may not look like that 16 is the product of two identical integers but it is. We can group the two's together and get 16 = 4 $\\cdot$ 4. So, 16 is a perfect square. And, if we were to take the square root of 16, we would end up with ${\\sqrt{16} = 4}$.\n",
    "\n",
    "In contrast, if we prime factorize a non-perfect square, we would find that it has extra unpaired prime factors.\n",
    "\n",
    "To illustrate this, let's prime factorize 72. After prime factorizing, we get: 72 = 2 $\\cdot$ 2 $\\cdot$ 2 $\\cdot$ 3 $\\cdot$ 3 or 72 = 2 $\\cdot$ 4 $\\cdot$ 9. So, we cannot write 72 as a product of perfect squares, we have a 2 which is unpaired. And we cannot write 72 as a product of identical integers either, since 2, 4, and 9 are different.\n",
    "\n",
    "Also, the prime numbers: 2, 3, 5, 7, 11, 13,... are all non-perfect squares. This is because they have no factors other than 1 and themselves.\n",
    "\n",
    "### Why we need to approximate:\n",
    "\n",
    "We mentioned above that taking the square roots of non-perfect squares gives us a decimal number. More specifically, we will get an **irrational** decimal number. Irrational numbers are numbers that you cannot represent as a fraction, and square roots of non-perfect squares are an example of irrational numbers. A famous example is $\\sqrt{2} = 1.414213\\ldots$. $\\sqrt{2}$ is an irrational number. It has no patterns in its decimal form, and it has infinite decimal places, so we cannot write it as a fraction.\n",
    "\n",
    "Because these numbers have infinite decimal places, there is no way we can store all of the digits in a computer, we would need one with infinite storage, and that is not physically possible. So as a consequence, we can only store a limited number of decimal places, but we lose accuracy. In many areas of science, engineering and in some areas of math, we often deal with quantities that we can only approximate. An example would be the area of circle, or the volume of a cone, which will often be an irrational number."
   ]
  },
  {
   "cell_type": "markdown",
   "metadata": {},
   "source": [
    "## Ways To Approximate Non-Perfect Squares\n",
    "\n",
    "To begin, we will explore estimating the square roots of non-perfect squares using a calculator.\n",
    "\n",
    "### Using a Calculator\n",
    "\n",
    "The quickest and easiest way to approximate a non-perfect square is to use our calculators. Take the number you wish to approximate, find the ${\\sqrt{}}$ key, and apply it. Now, depending on how many decimal places you keep, your approximation will be better or worse. \n",
    "\n",
    "#### Examples:\n",
    "\n",
    "1) Approximate the square root of 11 to three decimal places: <br />\n",
    "We take the square root of 11 and get 3.3166247904... . If we take three decimal places, we will end up with 3.316 as our approximation. And, if we square this number, we get 10.995856. <br />\n",
    "    \n",
    "2) Approximate the square root of 45 to five decimal places: <br />\n",
    "Applying the square root key gives us 6.7082039325... . Taking five decimal places will give us: 6.70820. If we square this number, we get 44.99994724. <br />\n",
    "\n",
    "3) Approximate the square root of 27 to one decimal place: <br />\n",
    "Once again applying the square root key, we obtain 5.19611524227... . If we take one decimal place, we get 5.1. Squaring this number gives us 26.01, which is not very exact at all! <br />\n",
    "\n",
    "\n",
    "As you can see above, taking fewer decimal places resulted in us losing accuracy. \n",
    "\n",
    "Now, we will explore the relationship between the accuracy of our estimate and the number of decimal places we keep. Choose an integer by adjusting the first slider, then choose the number of decimal places to keep with the second slider."
   ]
  },
  {
   "cell_type": "code",
   "execution_count": 3,
   "metadata": {
    "tags": [
     "hide-input"
    ]
   },
   "outputs": [
    {
     "data": {
      "application/vnd.jupyter.widget-view+json": {
       "model_id": "71c0a4d740d04995992a27b7874d6a4c",
       "version_major": 2,
       "version_minor": 0
      },
      "text/plain": [
       "Label(value='Adjust the sliders to see how taking greater or fewer decimals affects our accuracy!')"
      ]
     },
     "metadata": {},
     "output_type": "display_data"
    },
    {
     "data": {
      "application/vnd.jupyter.widget-view+json": {
       "model_id": "a00ba93201e44dd0b07212ccfba28467",
       "version_major": 2,
       "version_minor": 0
      },
      "text/plain": [
       "interactive(children=(IntSlider(value=1, description='Integer', max=130, min=1), IntSlider(value=1, descriptio…"
      ]
     },
     "metadata": {},
     "output_type": "display_data"
    }
   ],
   "source": [
    "## Label Definitions ##\n",
    "caption1 = widgets.Label(value = \"Adjust the sliders to see how taking greater or fewer decimals affects our accuracy!\")\n",
    "\n",
    "## Functions for accuracy activity ##\n",
    "def Take_Square_Root(Integer, Decimals):\n",
    "    Estimate = 0\n",
    "    Estimate = round(math.sqrt(Integer), Decimals) ## Round the integer to the specified number of decimal places ##\n",
    "    ## Some caption definitions ##\n",
    "    caption2 = widgets.Label(value = \"Actual value: \" + str(math.sqrt(Integer)) + ',')\n",
    "    caption3 = widgets.Label(value = \"Estimate: \" + str(Estimate) + ',')\n",
    "    caption4 = widgets.Label(value = \"Actual value squared: \" + str(Integer))\n",
    "    caption5 = widgets.Label(value = \"Estimate squared: \" + str(Estimate ** 2))\n",
    "    caption6 = widgets.Label(value = \"Difference: \" + '{0:.15f}'.format(abs(Integer-Estimate ** 2)))\n",
    "    container = widgets.HBox(children = [caption2, caption4])\n",
    "    container2 = widgets.HBox(children = [caption3, caption5, caption6])\n",
    "    display(container)\n",
    "    display(container2)\n",
    "    \n",
    "display(caption1)\n",
    "\n",
    "#I added \"name = \" in front of the interact to stop it displaying that output under it\n",
    "name = interact(Take_Square_Root, Integer = widgets.IntSlider(min = 1, max = 130, value = 1), Decimals = widgets.IntSlider(min = 1, max = 9, step = 1))"
   ]
  },
  {
   "cell_type": "markdown",
   "metadata": {},
   "source": [
    "#### Questions:\n",
    "\n",
    "What did you observe as you took more or less decimal places?\n",
    "How did the estimate differ from the exact value?"
   ]
  },
  {
   "cell_type": "markdown",
   "metadata": {},
   "source": [
    "### Finding non-perfect square roots on a number line:\n",
    "\n",
    "Now, we will try to approximate square roots of non-perfect squares using a number line. Suppose we want to approximate the square root of 90 by looking at a number line, denoted by the blue square.\n",
    "\n",
    "<img src=\"images/Example_Pt1.jpg\">\n",
    "\n",
    "In order to determine an estimate for the square root of 90, we need to find the closest perfect squares to 90. Those would be 81 and 100. This also means that the square root of 90 falls in between the square root of 81 and the square root of 100, which are 9 and 10. They are shown by the red dots.\n",
    "\n",
    "<img src=\"images/Example_Pt2.jpg\">\n",
    "\n",
    "We can see that the square root of 90 is almost halfway between 9 and 10, its just a little bit under 9.5. So, lets try guessing a number that is just a little bit smaller than 9.5, say, 9.45. Our guess is shown by the green diamond.\n",
    "\n",
    "<img src=\"images/Example_Pt3.jpg\">\n",
    "\n",
    "Ah, we can see that our guess is close. If we check what the square root of 90 is on our calculator, we find that it equals 9.48683... . It is very difficult to achieve perfect accuracy just visually, however, for our purposes, our guess is good!"
   ]
  },
  {
   "cell_type": "markdown",
   "metadata": {},
   "source": [
    "### Another way to estimate:\n",
    "\n",
    "Our guess of 9.45 is a good guess, but if we want more accuracy we need to use another way. Say that we want to estimate the square root of 90 again, but this time we don't want to estimate it visually. Then, we do the following steps:\n",
    "\n",
    "> 1. First, we need to find what perfect squares 90 lies between. Taking a look at the number line, its 81 and 100. <br />\n",
    "> 2. Next, we find the difference between the larger perfect square and the smaller perfect square, which would be 100 - 81 = 19. <br />\n",
    "> 3. Then, we find the difference between the non-perfect square, which is 90 in this example, and the smaller perfect square, 81. So we would get 90 - 81 = 9. <br />\n",
    "> 4. Now, we will form a fraction, with the number we got in step three as our numerator, and the number we got in step two as our denominator. So we would have 9/19. <br />\n",
    "> 5. Next, we will take the square root of the smaller perfect square, in this case 81, and then add our fraction to it. So we get 9 + 9/19. In decimal form, this is 9.47368... . <br />\n",
    "> 6. Finally, square the number you got in step 5, in this example, we get 89.74909. <br />\n",
    "\n",
    "Excellent! Our guess is a lot closer now than before when we determined it visually."
   ]
  },
  {
   "cell_type": "markdown",
   "metadata": {},
   "source": [
    "In this next activity, we will apply what we have learned above to finding square roots on a number line. First, find the larger and smaller perfect squares on the number line. Remember, they have to be the closest perfect squares. If you have found the two closest squares, then estimate it visually and enter your answer, click the \"Check the results\" button and you should see it placed on the number line. We aren't looking for perfect accuracy, just find a value that is close to the actual answer.\n",
    "\n",
    "If you want to get a new question, click the \"Restart\" button."
   ]
  },
  {
   "cell_type": "code",
   "execution_count": 4,
   "metadata": {
    "tags": [
     "hide-input"
    ]
   },
   "outputs": [
    {
     "data": {
      "image/png": "[encoded data removed]",
      "text/plain": [
       "<Figure size 1080x288 with 2 Axes>"
      ]
     },
     "metadata": {
      "needs_background": "light"
     },
     "output_type": "display_data"
    },
    {
     "data": {
      "text/markdown": [
       "**Estimate the square root of 361:**"
      ],
      "text/plain": [
       "<IPython.core.display.Markdown object>"
      ]
     },
     "metadata": {},
     "output_type": "display_data"
    },
    {
     "data": {
      "application/vnd.jupyter.widget-view+json": {
       "model_id": "bc1214420ad24c87804445f6dce36a5e",
       "version_major": 2,
       "version_minor": 0
      },
      "text/plain": [
       "HBox(children=(Dropdown(description='Enter the smaller perfect square:', options=('1', '2', '3', '4', '5', '6'…"
      ]
     },
     "metadata": {},
     "output_type": "display_data"
    },
    {
     "data": {
      "application/vnd.jupyter.widget-view+json": {
       "model_id": "5a4ece18d0b445abb8bb69a03dee53f4",
       "version_major": 2,
       "version_minor": 0
      },
      "text/plain": [
       "Button(button_style='info', description='Check the results', style=ButtonStyle())"
      ]
     },
     "metadata": {},
     "output_type": "display_data"
    },
    {
     "data": {
      "application/vnd.jupyter.widget-view+json": {
       "model_id": "6a3a68139d3c4bdca8ca5d47b04c5232",
       "version_major": 2,
       "version_minor": 0
      },
      "text/plain": [
       "HTML(value=' ')"
      ]
     },
     "metadata": {},
     "output_type": "display_data"
    }
   ],
   "source": [
    "digit=randint(2, 400)\n",
    "\n",
    "## Widget Definitions ##\n",
    "style = {'description_width': 'initial'}\n",
    "dropdown_options=['1', '2', '3','4','5','6','7','8','9','10','11', '12', '13','14','15','16','17','18','19','20']\n",
    "Get_Smaller_Square = widgets.Dropdown(options=dropdown_options,description = \"Enter the smaller perfect square:\", style = style, value = '1')\n",
    "Get_Larger_Square = widgets.Dropdown(options=dropdown_options,description = \"Enter the larger perfect square:\", style = style, value = '1')\n",
    "Get_User_Estimate = widgets.FloatText(description = \"What is your estimate?\", style = style, value = '0')\n",
    "submit_button=widgets.Button(description='Check the results',button_style='info',disabled=False)\n",
    "reset_button=widgets.Button(description='Restart',disabled=False)\n",
    "warning=widgets.HTML(value=\" \")\n",
    "\n",
    "\n",
    "def on_button_submit_clicked(b):\n",
    "    global digit\n",
    "    \n",
    "    \n",
    "    if int(Get_Larger_Square.value) < int(Get_Smaller_Square.value):\n",
    "        warning.value=\"<font color='red'>Try again: larger perfect square should be greater than or equal to smaller perfect square</font>\"\n",
    "    else :\n",
    "        if (Get_User_Estimate.value>=int(Get_Smaller_Square.value)) &(Get_User_Estimate.value<=int(Get_Larger_Square.value)):\n",
    "\n",
    "            \n",
    "            fig, ax1 = plt.subplots(figsize=(15,4))\n",
    "            ax1.set_yticklabels([])\n",
    "            \n",
    "            ax2 = ax1.twiny()\n",
    "            ax1.set_xlabel(\"Square Roots of Perfect Squares\",size=14)\n",
    "            ax2.set_xlabel(\"Perfect Squares\",size=14)\n",
    "            \n",
    "            ax2.set_xlim(ax1.get_xlim())\n",
    "           \n",
    "            ax2.set_xticks(np.arange(0,21,1))\n",
    "            ax1.set_xticks(np.arange(0,21,1))\n",
    "            labels=list(range(21))\n",
    "            labels_squared=[number**2 for number in labels]\n",
    "            ax1.set_xticklabels(labels)    \n",
    "            ax2.set_xticklabels(labels_squared)    \n",
    "\n",
    "            \n",
    "            x = np.linspace(0,20,100)\n",
    "            y=x*0\n",
    "            plt.plot(x, y, '-b')\n",
    "            plt.plot(math.sqrt(digit), 0, 'b', marker=\"s\")\n",
    "            \n",
    "            plt.plot(int(Get_Smaller_Square.value), 0, 'r',marker=\"o\")\n",
    "            plt.plot(int(Get_Larger_Square.value), 0, 'r',marker=\"o\")\n",
    "            \n",
    "            plt.plot(Get_User_Estimate.value, 0, 'g',marker=\"o\")\n",
    "            \n",
    "            plt.show()\n",
    "            \n",
    "            warning.value=\"\"\n",
    "            b.disabled=True\n",
    "            Get_User_Estimate.disabled=True\n",
    "            Get_Smaller_Square.disabled=True\n",
    "            Get_Larger_Square.disabled=True\n",
    "            display(Markdown(\"**The actual value is**: \"+str(math.sqrt(digit))))\n",
    "            display(Markdown(\"**Difference**: \"+'{0:.15f}'.format(abs(math.sqrt(digit)-Get_User_Estimate.value))))\n",
    "            display(reset_button)\n",
    "        else:\n",
    "            warning.value=\"<font color='red'>Try again: your estimate should be between larger and smaller perfect squares</font>\"\n",
    "    \n",
    "submit_button.on_click(on_button_submit_clicked)\n",
    "\n",
    "def restart_cell(b):\n",
    "    display(Javascript('IPython.notebook.execute_cell_range(IPython.notebook.get_selected_index(), IPython.notebook.get_selected_index()+1)'))\n",
    "\n",
    "reset_button.on_click(restart_cell)\n",
    "\n",
    "\n",
    "\n",
    "fig, ax1 = plt.subplots(figsize=(15,4))\n",
    "ax1.set_yticklabels([])\n",
    "            \n",
    "ax2 = ax1.twiny()\n",
    "ax1.set_xlabel(\"Square Roots of Perfect Squares\",size=14)\n",
    "ax2.set_xlabel(\"Perfect Squares\",size=14)\n",
    "            \n",
    "ax2.set_xlim(ax1.get_xlim())\n",
    "\n",
    "ax1.set_xticks(np.arange(0,21))\n",
    "ax2.set_xticks(np.arange(0,21))\n",
    "labels=list(range(21))\n",
    "labels_squared=[number**2 for number in labels]\n",
    "ax1.set_xticklabels(labels)    \n",
    "ax2.set_xticklabels(labels_squared) \n",
    "\n",
    "\n",
    "            \n",
    "x = np.linspace(0,20,100)\n",
    "y=x*0\n",
    "plt.plot(x, y, '-b')\n",
    "plt.plot(math.sqrt(digit), 0, 'b', marker=\"s\")\n",
    "\n",
    "plt.show()\n",
    "\n",
    "\n",
    "display(Markdown(\"**Estimate the square root of \"+str(digit)+\":**\"))\n",
    "widgets.HBox(children = [Get_Smaller_Square, Get_Larger_Square, Get_User_Estimate])\n",
    "display(widgets.HBox(children = [Get_Smaller_Square, Get_Larger_Square, Get_User_Estimate]))\n",
    "display(submit_button)\n",
    "display(warning)"
   ]
  },
  {
   "cell_type": "markdown",
   "metadata": {},
   "source": [
    "### Questions / Practice:\n",
    "\n",
    "Did having a visual representation help in finding the square roots?\n",
    "Were your estimates close to the actual values?\n",
    "Did using the steps above create a more accurate estimate?\n",
    "\n",
    "To practice, perform this activity as many times as you want, if you think you are ready, continue on."
   ]
  },
  {
   "cell_type": "markdown",
   "metadata": {},
   "source": [
    "## Application:\n",
    "\n",
    "Now, we are going to apply the knowledge we have learned to approximate the side lengths of squares.\n",
    "\n",
    "For example, say we want to approximate the side length of the square with area 130:\n",
    "\n",
    "<img src=\"images/Example2_Pt1.jpg\">\n",
    "\n",
    "We can see that the side lengths of this square fall between 11 and 12. So, we now create a square of side length 11, and a square of side length 12.\n",
    "\n",
    "<img src=\"images/Example2_Pt2.jpg\">\n",
    "\n",
    "Now we can see that the side length of the imperfect square is closer to 11 than it is to 12. Now, we can apply what we have seen from the number line activity. We can either guess the side length visually, or we can find an estimate by calculating it using the steps above. Calculating gives a better estimate, so after doing so, we find the estimated side length equal to 11.39130... . \n",
    "\n",
    "<img src=\"images/Example2_Pt3.jpg\">\n",
    "\n",
    "We are pretty close!\n",
    "\n",
    "In this activity, we will practice finding side lengths. First try to visually estimate the smaller and larger square sides that bound the non-perfect square. If you think you have the right squares, try to estimate the side length for the non-perfect square and press the \"Check the results\" button.\n",
    "\n",
    "If you are ready for a new question, press the \"Restart\" button."
   ]
  },
  {
   "cell_type": "code",
   "execution_count": 5,
   "metadata": {
    "tags": [
     "hide-input"
    ]
   },
   "outputs": [
    {
     "data": {
      "image/png": "[encoded data removed]",
      "text/plain": [
       "<Figure size 576x576 with 1 Axes>"
      ]
     },
     "metadata": {
      "needs_background": "light"
     },
     "output_type": "display_data"
    },
    {
     "data": {
      "text/markdown": [
       "**Find the side length of a square with area 329:**"
      ],
      "text/plain": [
       "<IPython.core.display.Markdown object>"
      ]
     },
     "metadata": {},
     "output_type": "display_data"
    },
    {
     "data": {
      "application/vnd.jupyter.widget-view+json": {
       "model_id": "c26a35358a3e4094803f6431d2862225",
       "version_major": 2,
       "version_minor": 0
      },
      "text/plain": [
       "HBox(children=(Dropdown(description='Smaller perfect square side:', options=('1', '2', '3', '4', '5', '6', '7'…"
      ]
     },
     "metadata": {},
     "output_type": "display_data"
    },
    {
     "data": {
      "application/vnd.jupyter.widget-view+json": {
       "model_id": "265f17dd083f416f8a3c1b48b3e99d52",
       "version_major": 2,
       "version_minor": 0
      },
      "text/plain": [
       "Button(button_style='info', description='Check the results', style=ButtonStyle())"
      ]
     },
     "metadata": {},
     "output_type": "display_data"
    },
    {
     "data": {
      "application/vnd.jupyter.widget-view+json": {
       "model_id": "3dfb259111d34f06b39300a0499fb3e1",
       "version_major": 2,
       "version_minor": 0
      },
      "text/plain": [
       "HTML(value=' ')"
      ]
     },
     "metadata": {},
     "output_type": "display_data"
    }
   ],
   "source": [
    "digit1=randint(2, 400)\n",
    "\n",
    "## Widget Definitions ##\n",
    "style = {'description_width': 'initial'}\n",
    "dropdown_options=['1', '2', '3','4','5','6','7','8','9','10','11', '12', '13','14','15','16','17','18','19','20']\n",
    "Get_Smaller_Square1 = widgets.Dropdown(options=dropdown_options,description = \"Smaller perfect square side:\", style = style, value = '1')\n",
    "Get_Larger_Square1 = widgets.Dropdown(options=dropdown_options,description = \"Larger perfect square side:\", style = style, value = '1')\n",
    "Get_User_Estimate1 = widgets.FloatText(description = \"What do you think the side length is?\", style = style, value = '0')\n",
    "submit_button1=widgets.Button(description='Check the results',button_style='info',disabled=False)\n",
    "reset_button1=widgets.Button(description='Restart',disabled=False)\n",
    "warning1=widgets.HTML(value=\" \")\n",
    "\n",
    "\n",
    "def on_button_submit1_clicked(b):\n",
    "    global digit1\n",
    "    \n",
    "    \n",
    "    if int(Get_Larger_Square1.value) < int(Get_Smaller_Square1.value):\n",
    "        warning.value=\"<font color='red'>Try again: larger perfect square side should be greater than or equal to smaller perfect square side</font>\"\n",
    "    else :\n",
    "        if (Get_User_Estimate1.value>=int(Get_Smaller_Square1.value)) &(Get_User_Estimate1.value<=int(Get_Larger_Square1.value)):\n",
    "\n",
    "            \n",
    "            fig, ax = plt.subplots(figsize=(8,8))\n",
    "            \n",
    "            ax.set_xticks(np.arange(0,21,1))\n",
    "            ax.set_yticks(np.arange(0,21,1))\n",
    "            \n",
    "            Smaller_Rectangle = matplotlib.patches.Rectangle((0,0), int(Get_Smaller_Square1.value), int(Get_Smaller_Square1.value), alpha = 0.5)\n",
    "            Larger_Rectangle = matplotlib.patches.Rectangle((0,0), int(Get_Larger_Square1.value), int(Get_Larger_Square1.value), alpha = 0.5)\n",
    "            Imperfect_Rectangle = matplotlib.patches.Rectangle((0,0), math.sqrt(digit1), math.sqrt(digit1), alpha = 0.5)\n",
    "            \n",
    "            ax.add_patch(Smaller_Rectangle)\n",
    "            ax.add_patch(Larger_Rectangle)\n",
    "            ax.add_patch(Imperfect_Rectangle)\n",
    "            plt.show()\n",
    "            \n",
    "            warning1.value=\"\"\n",
    "            b.disabled=True\n",
    "            Get_User_Estimate1.disabled=True\n",
    "            Get_Smaller_Square1.disabled=True\n",
    "            Get_Larger_Square1.disabled=True\n",
    "            display(Markdown(\"**The actual side length is**: \"+str(math.sqrt(digit1))))\n",
    "            display(Markdown(\"**Difference**: \"+'{0:.15f}'.format(abs(math.sqrt(digit1)-Get_User_Estimate1.value))))\n",
    "            display(reset_button)\n",
    "        else:\n",
    "            warning1.value=\"<font color='red'>Try again: your estimate should be between larger and smaller perfect square sides</font>\"\n",
    "    \n",
    "submit_button1.on_click(on_button_submit1_clicked)\n",
    "\n",
    "def restart_cell(b):\n",
    "    display(Javascript('IPython.notebook.execute_cell_range(IPython.notebook.get_selected_index(), IPython.notebook.get_selected_index()+1)'))\n",
    "\n",
    "reset_button1.on_click(restart_cell)\n",
    "\n",
    "\n",
    "\n",
    "fig, ax = plt.subplots(figsize=(8,8))\n",
    "            \n",
    "ax.set_xticks(np.arange(0,21,1))\n",
    "ax.set_yticks(np.arange(0,21,1))\n",
    "            \n",
    "Imperfect_Rectangle = matplotlib.patches.Rectangle((0,0), math.sqrt(digit1), math.sqrt(digit1), alpha = 0.5)\n",
    "            \n",
    "ax.add_patch(Imperfect_Rectangle)\n",
    "plt.show()\n",
    "\n",
    "\n",
    "display(Markdown(\"**Find the side length of a square with area \"+str(digit1)+\":**\"))\n",
    "widgets.HBox(children = [Get_Smaller_Square1, Get_Larger_Square1, Get_User_Estimate1])\n",
    "display(widgets.HBox(children = [Get_Smaller_Square1, Get_Larger_Square1, Get_User_Estimate1]))\n",
    "display(submit_button1)\n",
    "display(warning1)"
   ]
  },
  {
   "cell_type": "markdown",
   "metadata": {},
   "source": [
    "### Questions / Practice:\n",
    "\n",
    "Practice this activity in two ways, estimate the side length visually and find the side length of the square. Then, apply the non-visual method find a better estimate."
   ]
  },
  {
   "cell_type": "markdown",
   "metadata": {},
   "source": [
    "## Conclusion:\n",
    "\n",
    "In this notebook, we have seen how to:\n",
    "\n",
    "> 1. Check whether or not a number is a perfect or non-perfect square through prime factorization <br />\n",
    "> 2. Explored how keeping more or less decimal places affects accuracy <br />\n",
    "> 3. Found how to use number lines to our advantage in estimating square roots <br />\n",
    "> 4. Applied these methods to finding unknown side lengths of squares <br />\n",
    "\n",
    "By now, you should be comfortable estimating the square roots of non-perfect squares, both visually and by using the formula."
   ]
  },
  {
   "cell_type": "markdown",
   "metadata": {},
   "source": [
    "[![Callysto.ca License](https://github.com/callysto/curriculum-notebooks/blob/master/callysto-notebook-banner-bottom.jpg?raw=true)](https://github.com/callysto/curriculum-notebooks/blob/master/LICENSE.md)"
   ]
  }
 ],
 "metadata": {
  "celltoolbar": "Edit Metadata",
  "kernelspec": {
   "display_name": "Python 3",
   "language": "python",
   "name": "python3"
  },
  "language_info": {
   "codemirror_mode": {
    "name": "ipython",
    "version": 3
   },
   "file_extension": ".py",
   "mimetype": "text/x-python",
   "name": "python",
   "nbconvert_exporter": "python",
   "pygments_lexer": "ipython3",
   "version": "3.7.4"
  },
  "latex_envs": {
   "LaTeX_envs_menu_present": true,
   "autoclose": false,
   "autocomplete": true,
   "bibliofile": "biblio.bib",
   "cite_by": "apalike",
   "current_citInitial": 1,
   "eqLabelWithNumbers": true,
   "eqNumInitial": 1,
   "hotkeys": {
    "equation": "Ctrl-E",
    "itemize": "Ctrl-I"
   },
   "labels_anchors": false,
   "latex_user_defs": false,
   "report_style_numbering": false,
   "user_envs_cfg": false
  },
  "nbTranslate": {
   "displayLangs": [
    "*"
   ],
   "hotkey": "alt-t",
   "langInMainMenu": true,
   "sourceLang": "en",
   "targetLang": "fr",
   "useGoogleTranslate": true
  }
 },
 "nbformat": 4,
 "nbformat_minor": 2
}

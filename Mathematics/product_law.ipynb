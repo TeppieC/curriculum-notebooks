{
 "cells": [
  {
   "cell_type": "markdown",
   "metadata": {},
   "source": [
    "Purpose: 2 Proofs of Product rule (mathematical and Graphical)\n",
    "The type of proof shown is chosen by the user\n",
    "Author: Alyson Birce"
   ]
  },
  {
   "cell_type": "code",
   "execution_count": 3,
   "metadata": {},
   "outputs": [],
   "source": [
    "from IPython.display import display, Math, Latex, Markdown\n",
    "import math\n",
    "from math import log\n",
    "from IPython.external import mathjax\n",
    "import matplotlib.pyplot as plt\n",
    "%matplotlib inline\n",
    "import numpy as np\n",
    "from __future__ import print_function\n",
    "from ipywidgets import interact, interactive, fixed, interact_manual\n",
    "import ipywidgets as widgets"
   ]
  },
  {
   "cell_type": "code",
   "execution_count": 4,
   "metadata": {},
   "outputs": [],
   "source": [
    "def f(m,b,x):\n",
    "    x= x*m\n",
    "    return [log(y,b) for y in x]"
   ]
  },
  {
   "cell_type": "markdown",
   "metadata": {},
   "source": [
    "$\\text{The law we are looking at is the first law which is Product Law. This states that: \\\\\n",
    "\\log_{B}(MN)=\\log_{B}(M)+\\log_{B}(N)$"
   ]
  },
  {
   "cell_type": "markdown",
   "metadata": {},
   "source": [
    "$\\text{First lets look at the mathematical proof. It may look complex, however, it can simply be broken down}\\\\\n",
    "\\text{First we need to define some variables. We will choose x and y.}\\\\\n",
    "Let \\: x=\\log_B(M) \\:and \\: Let \\: y=\\log_B(N)\\\\\n",
    "\\text{We know that the equivalent exponential forms are}\\\\\n",
    "B^x=M \\: and \\: B^y=N\\\\\n",
    "\\text{we can state that}\\\\\n",
    "B^x \\times B^y=M \\times N\\\\\n",
    "\\text{From the properties of Exponents}\\\\\n",
    "B^{x+y}=M \\times N\\\\\n",
    "\\text{Apply Log to both sides}\\\\\n",
    "\\log_B(B^{x+y})=\\log_B(M \\times N)\\\\\n",
    "\\text{This is equivalent to}\\\\\n",
    "x+y=\\log_B(M \\times N)\\\\\n",
    "\\text {as we know} \\: x=\\log_B(M) \\:and \\: y=\\log_B(N)\\\\\n",
    "\\text{Therefore:}\\\\\n",
    "\\log_{B}(M \\times N)=\\log_{B}(M)+\\log_{B}(N)$"
   ]
  },
  {
   "cell_type": "code",
   "execution_count": 6,
   "metadata": {},
   "outputs": [
    {
     "name": "stdout",
     "output_type": "stream",
     "text": [
      "pick a base (B) -must be an integer 2\n",
      "pick a first number (M) -must be an integer 3\n",
      "pick a second number (N) -must be an integer 2\n"
     ]
    },
    {
     "data": {
      "text/plain": [
       "<matplotlib.figure.Figure at 0x7f63577e0828>"
      ]
     },
     "metadata": {},
     "output_type": "display_data"
    },
    {
     "data": {
      "application/vnd.jupyter.widget-view+json": {
       "model_id": "5a702c695f6e414db0616af53b0f4cc0",
       "version_major": 2,
       "version_minor": 0
      },
      "text/html": [
       "<p>Failed to display Jupyter Widget of type <code>interactive</code>.</p>\n",
       "<p>\n",
       "  If you're reading this message in the Jupyter Notebook or JupyterLab Notebook, it may mean\n",
       "  that the widgets JavaScript is still loading. If this message persists, it\n",
       "  likely means that the widgets JavaScript library is either not installed or\n",
       "  not enabled. See the <a href=\"https://ipywidgets.readthedocs.io/en/stable/user_install.html\">Jupyter\n",
       "  Widgets Documentation</a> for setup instructions.\n",
       "</p>\n",
       "<p>\n",
       "  If you're reading this message in another frontend (for example, a static\n",
       "  rendering on GitHub or <a href=\"https://nbviewer.jupyter.org/\">NBViewer</a>),\n",
       "  it may mean that your frontend doesn't currently support widgets.\n",
       "</p>\n"
      ],
      "text/plain": [
       "interactive(children=(FloatSlider(value=5.0, description='axis', max=10.0, min=1.0, step=1.0), Output()), _dom_classes=('widget-interact',))"
      ]
     },
     "metadata": {},
     "output_type": "display_data"
    },
    {
     "name": "stdout",
     "output_type": "stream",
     "text": [
      "thus\n"
     ]
    },
    {
     "data": {
      "text/latex": [
       "$$log_{B}(MN)=log_{B}(M)+log_{B}(N)$$"
      ],
      "text/plain": [
       "<IPython.core.display.Math object>"
      ]
     },
     "metadata": {},
     "output_type": "display_data"
    }
   ],
   "source": [
    "# Graphical interactive proof\n",
    "display(Latex($\\text{We will look at the graphical proof of this law next}$))\n",
    "b=int(input('pick a base (B) -must be an integer ')) \n",
    "m=int(input('pick a first number (M) -must be an integer '))\n",
    "n=int(input('pick a second number (N) -must be an integer '))\n",
    "    \n",
    "x=np.linspace(1,10)\n",
    "fig = plt.figure()\n",
    "#ax = fig.add_subplot(1, 1, 1)\n",
    "#line, = ax.plot(x, f(m,b,x))\n",
    "\n",
    "def update(axis = (1.0,10,1)):\n",
    "    p1=log(m*axis,b)\n",
    "    p2=log(n*axis,b)\n",
    "    p3=log(m*n*(axis**2),b)\n",
    "    plt.plot(x,f(m,b,x),'-b',label='log(m)')\n",
    "    plt.plot(x,f(n,b,x),'-g',label='log(n)')\n",
    "    plt.plot(x,f(m*n,b,x**2),'-r',label='log(n*m)')\n",
    "    plt.plot(axis,p1,'ob',axis,p2,'og',axis,p3,'or')\n",
    "    plt.legend(bbox_to_anchor=(1.05, 1), loc=2, borderaxespad=0.)\n",
    "    plt.xticks(np.arange(0, 10, step=1))\n",
    "    print('at x={0:1.3f}'.format(axis))\n",
    "    print('The points are at {0:1.3f} {1:1.3f} {2:1.3f}'.format(p1, p2, p3))\n",
    "    print('The points at log({0:1.3f}x), log({1:1.3f}x) and log({2:1.3f}x) are at {3:1.3f}, {4:1.3f} and {5:1.3f} repectively'.format(m,n,m*n,p1, p2, p3))\n",
    "    print('{0:1.3f}+{1:1.3f}={2:1.3f}'.format(p1,p2,p3))\n",
    "    fig.canvas.draw()\n",
    "\n",
    "interact(update);\n",
    "\n",
    "\n",
    "print('thus')\n",
    "display(Math(r'log_{B}(MN)=log_{B}(M)+log_{B}(N)'))"
   ]
  },
  {
   "cell_type": "code",
   "execution_count": null,
   "metadata": {},
   "outputs": [],
   "source": []
  }
 ],
 "metadata": {
  "kernelspec": {
   "display_name": "Python 3",
   "language": "python",
   "name": "python3"
  },
  "language_info": {
   "codemirror_mode": {
    "name": "ipython",
    "version": 3
   },
   "file_extension": ".py",
   "mimetype": "text/x-python",
   "name": "python",
   "nbconvert_exporter": "python",
   "pygments_lexer": "ipython3",
   "version": "3.6.5"
  }
 },
 "nbformat": 4,
 "nbformat_minor": 2
}

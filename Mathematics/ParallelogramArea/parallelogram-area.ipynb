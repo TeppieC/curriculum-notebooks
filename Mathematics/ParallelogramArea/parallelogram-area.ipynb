{
 "cells": [
  {
   "cell_type": "markdown",
   "metadata": {},
   "source": [
    "![Callysto.ca Banner](https://github.com/callysto/curriculum-notebooks/blob/master/callysto-notebook-banner-top.jpg?raw=true)\n",
    "\n",
    "<a href=\"https://hub.callysto.ca/jupyter/hub/user-redirect/git-pull?repo=https%3A%2F%2Fgithub.com%2Fcallysto%2Fcurriculum-notebooks&branch=master&subPath=Mathematics/ParallelogramArea/parallelogram-area.ipynb&depth=1\" target=\"_parent\"><img src=\"https://raw.githubusercontent.com/callysto/curriculum-notebooks/master/open-in-callysto-button.svg?sanitize=true\" width=\"123\" height=\"24\" alt=\"Open in Callysto\"/></a>"
   ]
  },
  {
   "cell_type": "code",
   "execution_count": 1,
   "metadata": {
    "tags": [
     "hide-input"
    ]
   },
   "outputs": [
    {
     "data": {
      "text/html": [
       "\n",
       "<script>\n",
       "  function code_toggle() {\n",
       "    if (code_shown){\n",
       "      $('div.input').hide('500');\n",
       "      $('#toggleButton').val('Show Code')\n",
       "    } else {\n",
       "      $('div.input').show('500');\n",
       "      $('#toggleButton').val('Hide Code')\n",
       "    }\n",
       "    code_shown = !code_shown\n",
       "  }\n",
       "\n",
       "  $( document ).ready(function(){\n",
       "    code_shown=false;\n",
       "    $('div.input').hide()\n",
       "  });\n",
       "</script>\n",
       "<form action=\"javascript:code_toggle()\"><input type=\"submit\" id=\"toggleButton\" value=\"Show Code\"></form>\n"
      ],
      "text/plain": [
       "<IPython.core.display.HTML object>"
      ]
     },
     "metadata": {},
     "output_type": "display_data"
    }
   ],
   "source": [
    "%%html\n",
    "\n",
    "<script>\n",
    "  function code_toggle() {\n",
    "    if (code_shown){\n",
    "      $('div.input').hide('500');\n",
    "      $('#toggleButton').val('Show Code')\n",
    "    } else {\n",
    "      $('div.input').show('500');\n",
    "      $('#toggleButton').val('Hide Code')\n",
    "    }\n",
    "    code_shown = !code_shown\n",
    "  }\n",
    "\n",
    "  $( document ).ready(function(){\n",
    "    code_shown=false;\n",
    "    $('div.input').hide()\n",
    "  });\n",
    "</script>\n",
    "<form action=\"javascript:code_toggle()\"><input type=\"submit\" id=\"toggleButton\" value=\"Show Code\"></form>"
   ]
  },
  {
   "cell_type": "code",
   "execution_count": 2,
   "metadata": {
    "tags": [
     "hide-cell"
    ]
   },
   "outputs": [
    {
     "name": "stdout",
     "output_type": "stream",
     "text": [
      "Collecting geogebra\n",
      "  Cloning git://github.com/callysto/nbplus.git to /tmp/pip-install-c6j2ctg_/geogebra\n",
      "Building wheels for collected packages: geogebra\n",
      "  Building wheel for geogebra (setup.py) ... \u001b[?25ldone\n",
      "\u001b[?25h  Created wheel for geogebra: filename=geogebra-0.0.0-py3-none-any.whl size=6210 sha256=58b428ffcc30c8bc15b7e3cdbf8faaf83487b2bddf0d5b1bed4e10e195d44c21\n",
      "  Stored in directory: /tmp/pip-ephem-wheel-cache-4z71sfxy/wheels/a2/4f/cf/ee77bbaa35bfe141f46fc9f8153c9509b1535406d0d68b6086\n",
      "Successfully built geogebra\n",
      "Installing collected packages: geogebra\n",
      "  Attempting uninstall: geogebra\n",
      "    Found existing installation: geogebra 0.0.0\n",
      "    Uninstalling geogebra-0.0.0:\n",
      "      Successfully uninstalled geogebra-0.0.0\n",
      "Successfully installed geogebra-0.0.0\n"
     ]
    }
   ],
   "source": [
    "!pip install --upgrade --force-reinstall --user git+git://github.com/callysto/nbplus.git#egg=geogebra\\&subdirectory=geogebra"
   ]
  },
  {
   "cell_type": "code",
   "execution_count": 3,
   "metadata": {
    "tags": [
     "hide-input"
    ]
   },
   "outputs": [
    {
     "data": {
      "text/html": [
       "<div id=\"ggbLoadMsg\"></div>"
      ],
      "text/plain": [
       "<IPython.core.display.HTML object>"
      ]
     },
     "metadata": {},
     "output_type": "display_data"
    },
    {
     "data": {
      "application/javascript": [
       "\n",
       "            window.ggbRequireStatus = 'loading';\n",
       "            requirejs.config({\n",
       "                paths: {\n",
       "                    ggb: \"https://cdn.geogebra.org/apps/deployggb\"\n",
       "                }\n",
       "            });\n",
       "\n",
       "            window.safeGGB = function safeGGB(counter, cb) {\n",
       "                if (window.ggbRequireStatus == 'failed') {\n",
       "                    console.log('panic-failed');\n",
       "                }\n",
       "\n",
       "                if (window.ggbRequireStatus == 'loading') {\n",
       "                    if (counter > 0) {\n",
       "                        console.log('in-loop' + counter);\n",
       "                        counter = counter-1;\n",
       "                        setTimeout(() => safeGGB(counter, cb), 2000);\n",
       "                    } else {\n",
       "                        console.log('panic-timeout');\n",
       "                    }\n",
       "                } else if (window.ggbRequireStatus == 'loaded') {\n",
       "                    cb();\n",
       "                }\n",
       "\n",
       "            }\n",
       "\n",
       "            requirejs(\n",
       "                [\"ggb\"],\n",
       "                () => {\n",
       "                    window.ggbRequireStatus = 'loaded';\n",
       "                    console.log('loaded');\n",
       "                    return;\n",
       "                },\n",
       "                (err) => {\n",
       "                    if (err.requireModules) {\n",
       "                        window.ggbRequireStatus = 'failed';\n",
       "                        console.error(\"There was an error while downloading one or more required Javascript Libraries.\");\n",
       "                        err.requireModules.forEach(failedItem => {\n",
       "                            console.error(\"Failed to load: \" + failedItem);\n",
       "                            $('#ggbLoadMsg').append('<p>Failed to load: ' + failedItem + '</p>');\n",
       "                        });\n",
       "                        $('#ggbLoadMsg').append('<p>Please check your internet connection.</p>');\n",
       "                        $('#ggbLoadMsg').css({'color':'red', 'font-size':'150%'});\n",
       "                    }\n",
       "                }\n",
       "            );\n",
       "\n",
       "            console.log(window.ggbRequireStatus);\n",
       "        "
      ],
      "text/plain": [
       "<IPython.core.display.Javascript object>"
      ]
     },
     "metadata": {},
     "output_type": "display_data"
    }
   ],
   "source": [
    "from importlib import reload\n",
    "import site\n",
    "reload(site)\n",
    "\n",
    "from geogebra.ggb import *\n",
    "ggb = GGB()\n",
    "\n",
    "from IPython.display import Image\n",
    "\n",
    "import ipywidgets as widgets\n",
    "import IPython"
   ]
  },
  {
   "cell_type": "markdown",
   "metadata": {},
   "source": [
    "# Parallelogram: Area\n",
    "\n",
    "#### Grade 7 Curriculum\n",
    "\n",
    "This is a notebook on how to calculate the area of a parallelogram. In this notebook, we will focus on how to calculate the area of any parallelogram. We will also learn how to find out the length of one variable, either base or height, when given the other variable and the area. \n",
    "\n",
    "This notebook will help you understand how to find the area of a parallelogram, and give a few practice questions. This one notebook won’t be enough practice to master this skill, so you'll need to do lots of practice. A parallelogram is a special type of *quadrilateral* -- a shape with four sides. There are many different types of quadrilateral, as shown below:\n",
    "\n",
    "![pic](http://www.mathwords.com/q/q_assets/q12.gif) www.mathwords.com\n",
    "\n",
    "### Recall what a Parallelogram is\n",
    "\n",
    "A parallelogram is a four-sided shape where both pair of sides are parallel, like this:\n",
    "\n",
    "![picture](https://www.mathsisfun.com/images/quadrilateral-parallelogram.gif) www.mathisfun.com\n",
    "\n",
    "**It's also important to note that a rectangle and a square are also types of parallelograms.**\n",
    "\n",
    "### How to find the area\n",
    "\n",
    "Since we know a rectangle is a type of parallelogram, let's recall the area of a rectangle: $$\\text{base} \\times \\text{height}$$\n",
    "Can we use this formula for all parallelograms? Actually, yes we can! This is because of the fact that parallelograms have parallel sides."
   ]
  },
  {
   "cell_type": "markdown",
   "metadata": {},
   "source": [
    "![animation](https://upload.wikimedia.org/wikipedia/commons/2/27/Parallelogram_area_animated.gif) wikimedia.org"
   ]
  },
  {
   "cell_type": "markdown",
   "metadata": {},
   "source": [
    "### What about skewed parallelograms?\n",
    "\n",
    "Certain parallelograms are so skewed that they do not resemble a rectangle with a triangle on either end like the one above. However, the same area formula applies.\n",
    "\n",
    "The applet below automatically calculates the area of the parallelogram shown. You can move the sliders to change the length and height, and you can also move the point $P$ to change how skewed the parallelogram is. Notice how the area changes when you change the base or height, but not when you move the point $P$."
   ]
  },
  {
   "cell_type": "code",
   "execution_count": 4,
   "metadata": {
    "tags": [
     "hide-input"
    ]
   },
   "outputs": [
    {
     "data": {
      "text/html": [
       "<iframe scrolling=\"no\" title=\"ParaEx2\" src=\"https://www.geogebra.org/material/iframe/id/YFS3rJVz/width/700/height/400/border/888888/sfsb/true/smb/false/stb/false/stbh/false/ai/false/asb/false/sri/false/rc/false/ld/false/sdz/false/ctl/false\" width=\"700px\" height=\"400px\" style=\"border:0px;\"> </iframe>\n"
      ],
      "text/plain": [
       "<IPython.core.display.HTML object>"
      ]
     },
     "metadata": {},
     "output_type": "display_data"
    }
   ],
   "source": [
    "%%html\n",
    "<iframe scrolling=\"no\" title=\"ParaEx2\" src=\"https://www.geogebra.org/material/iframe/id/YFS3rJVz/width/700/height/400/border/888888/sfsb/true/smb/false/stb/false/stbh/false/ai/false/asb/false/sri/false/rc/false/ld/false/sdz/false/ctl/false\" width=\"700px\" height=\"400px\" style=\"border:0px;\"> </iframe>"
   ]
  },
  {
   "cell_type": "markdown",
   "metadata": {},
   "source": [
    "It turns out all parallelograms have the same formula for area, no matter what angle their sides are at. \n",
    "\n",
    "### Example\n",
    "\n",
    "Let's go through an example. Here is a parallelogram. What is its area?"
   ]
  },
  {
   "cell_type": "markdown",
   "metadata": {},
   "source": [
    "<img style=\"float: left;\" src=\"images/ParaStep1.png\"  width=\"400\">"
   ]
  },
  {
   "cell_type": "markdown",
   "metadata": {},
   "source": [
    "Let's dissect this parallelogram using two vertical lines. Then let's move the triangles inwards to create a rectangle."
   ]
  },
  {
   "cell_type": "markdown",
   "metadata": {},
   "source": [
    "<img style=\"float: left;\" src=\"images/ParaStep2.png\"  width=\"400\">"
   ]
  },
  {
   "cell_type": "markdown",
   "metadata": {},
   "source": [
    "<img style=\"float: left;\" src=\"images/ParaStep3.png\"  width=\"400\">"
   ]
  },
  {
   "cell_type": "markdown",
   "metadata": {},
   "source": [
    "Now we can see that the area of this parallelogram can be calculated like the area of a rectangle:\n",
    "$$\\begin{align*}\n",
    "\\text{Area of parallelogram} & = \\text{Area of rectangle}\\\\\n",
    "\\text{Area of parallelogram} & = \\text{base} \\times \\text{height}\\\\\n",
    "\\text{Area of parallelogram} & = 2 \\text{ cm} \\times 3 \\text{ cm}\\\\\n",
    "\\text{Area of parallelogram} & = 6 \\text{ cm}^2\n",
    "\\end{align*}$$\n",
    "\n",
    "For one last check, slide point $P$ forward and back, perhaps lining up with the height line, to confirm that the parallelogram can be turned into a rectangle without changing how much area is there."
   ]
  },
  {
   "cell_type": "code",
   "execution_count": 5,
   "metadata": {
    "tags": [
     "hide-input"
    ]
   },
   "outputs": [
    {
     "data": {
      "text/html": [
       "<iframe scrolling=\"no\" title=\"ParaEx\" src=\"https://www.geogebra.org/material/iframe/id/g5m3ecev/width/541/height/276/border/888888/sfsb/true/smb/false/stb/false/stbh/false/ai/false/asb/false/sri/false/rc/false/ld/false/sdz/false/ctl/false\" width=\"541px\" height=\"276px\" style=\"border:0px;\"> </iframe>\n"
      ],
      "text/plain": [
       "<IPython.core.display.HTML object>"
      ]
     },
     "metadata": {},
     "output_type": "display_data"
    }
   ],
   "source": [
    "%%html\n",
    "<iframe scrolling=\"no\" title=\"ParaEx\" src=\"https://www.geogebra.org/material/iframe/id/g5m3ecev/width/541/height/276/border/888888/sfsb/true/smb/false/stb/false/stbh/false/ai/false/asb/false/sri/false/rc/false/ld/false/sdz/false/ctl/false\" width=\"541px\" height=\"276px\" style=\"border:0px;\"> </iframe>"
   ]
  },
  {
   "cell_type": "markdown",
   "metadata": {},
   "source": [
    "### Calculate Area\n",
    "\n",
    "Let's try a few examples. Don't forget the formula:\n",
    "\n",
    "$$\\text{Area of parallelogram} = \\text{base} \\times \\text{height}$$\n",
    "\n",
    "**Note:** if units are given for the lengths of the two sides, then you should include units in your answer for area! Remember that area is given in square units, like $\\text{cm}^2$ or $\\text{m}^2$. You can include units in your answer by typing `cm^2` or `m^2`. Round to 2 decimal places.\n",
    "\n",
    "### Question 1"
   ]
  },
  {
   "cell_type": "markdown",
   "metadata": {},
   "source": [
    "<img style=\"float: left;\" src=\"images/ParaQ1.png\"  width=\"400\">"
   ]
  },
  {
   "cell_type": "code",
   "execution_count": 6,
   "metadata": {
    "tags": [
     "hide-input"
    ]
   },
   "outputs": [
    {
     "name": "stdout",
     "output_type": "stream",
     "text": [
      "What is the area of this parallelogram?\n"
     ]
    },
    {
     "data": {
      "application/vnd.jupyter.widget-view+json": {
       "model_id": "dc90033591b04c6380d3d889a7b5bff3",
       "version_major": 2,
       "version_minor": 0
      },
      "text/plain": [
       "Text(value='', continuous_update=False, description='Area=', placeholder='0')"
      ]
     },
     "metadata": {},
     "output_type": "display_data"
    }
   ],
   "source": [
    "ans = widgets.Text(value='',placeholder='0',description='Area=',continuous_update=False)\n",
    "\n",
    "def display():\n",
    "    print(\"What is the area of this parallelogram?\")\n",
    "    IPython.display.display(ans)\n",
    "\n",
    "def check(a):\n",
    "    IPython.display.clear_output(wait=True)\n",
    "    display()\n",
    "    if ans.value == '8.84m^2' or ans.value == '8.84 m^2':\n",
    "        print(\"Great job!\")\n",
    "    else:\n",
    "        if ans.value == '':\n",
    "            pass\n",
    "        if ans.value == '8.84':\n",
    "            print(\"Don't forget units! Remember that area is given in square units.\")\n",
    "            print(\"You can include units in your answer by typing cm^2, m^2, or mm^2.\")\n",
    "        else:\n",
    "            print(\"Not quite, don't forget the formula. Area = base x height\")\n",
    "\n",
    "display()\n",
    "ans.observe(check, 'value')"
   ]
  },
  {
   "cell_type": "markdown",
   "metadata": {},
   "source": [
    "<img style=\"float: left;\" src=\"images/ParaQ2.png\"  width=\"300\">"
   ]
  },
  {
   "cell_type": "code",
   "execution_count": 7,
   "metadata": {
    "tags": [
     "hide-input"
    ]
   },
   "outputs": [
    {
     "name": "stdout",
     "output_type": "stream",
     "text": [
      "What is the area of this parallelogram?\n"
     ]
    },
    {
     "data": {
      "application/vnd.jupyter.widget-view+json": {
       "model_id": "d104b9cdff3c4e6e90d6a579172be6d3",
       "version_major": 2,
       "version_minor": 0
      },
      "text/plain": [
       "Text(value='', continuous_update=False, description='Area=', placeholder='0')"
      ]
     },
     "metadata": {},
     "output_type": "display_data"
    }
   ],
   "source": [
    "ans2 = widgets.Text(value='',placeholder='0',description='Area=',continuous_update=False)\n",
    "\n",
    "def display2():\n",
    "    print(\"What is the area of this parallelogram?\")\n",
    "    IPython.display.display(ans2)\n",
    "\n",
    "def check2(a):\n",
    "    IPython.display.clear_output(wait=True)\n",
    "    display2()\n",
    "    if ans2.value == '1.61mm^2' or ans2.value == '1.61 mm^2':\n",
    "        print(\"Great job!\")\n",
    "    else:\n",
    "        if ans2.value == '':\n",
    "            pass\n",
    "        if ans2.value == '1.61':\n",
    "            print(\"Don't forget units! Remember that area is given in square units.\")\n",
    "            print(\"You can include units in your answer by typing cm^2, m^2, or mm^2.\")\n",
    "        else:\n",
    "            print(\"Not quite, don't forget the formula.\")\n",
    "\n",
    "display2()\n",
    "ans2.observe(check2, 'value')"
   ]
  },
  {
   "cell_type": "markdown",
   "metadata": {},
   "source": [
    "### How does changing the base change the area?\n",
    "\n",
    "Let's take the first parallelogram from the example we went through where the base is 2 cm and the height is 3 cm which we figured out the area is $6 cm^2$. What do you think would happen to the area if we doubled the base to 4 cm? \n",
    "Let's calculate it:\n",
    "$$\\begin{align*}\n",
    "\\text{Area of parallelogram} & = \\text{base} \\times \\text{height}\\\\\n",
    "\\text{Area of parallelogram} & = 4 \\text{ cm} \\times 3 \\text{ cm}\\\\\n",
    "\\text{Area of parallelogram} & = 12 \\text{ cm}^2\n",
    "\\end{align*}$$\n",
    "\n",
    "Interesting. The new area, $12 \\text{ cm}^2$ is double the amount of the old area, $6.8 \\text{ cm}^2$. Perhaps that was just a coincidence? There's a slider over the next parallelogram labelled base, slide it to double the current base length and look at what happens to the area. Can we generalize that when the base is doubled then the area is doubled?\n",
    "\n",
    "### How does changing the height change the area?\n",
    "\n",
    "Now instead of changing the base, let's double the height of the parallelogram in the first example to 6 cm and keep the base at 2 cm. How will this new area compare to the old area? How will it compare to the area when we changed the base?\n",
    "Let's calculate it:\n",
    "$$\\begin{align*}\n",
    "\\text{Area of parallelogram} & = \\text{base} \\times \\text{height}\\\\\n",
    "\\text{Area of parallelogram} & = 6 \\text{ cm} \\times 2 \\text{ cm}\\\\\n",
    "\\text{Area of parallelogram} & = 12 \\text{ cm}^2\n",
    "\\end{align*}$$\n",
    "\n",
    "Look at that! This new area is the same as when we doubled the base! Let's confirm that doubling the height doubles the area by using the slider labelled height over the parallelogram below to double the height and watch what happens to the area.\n",
    "\n",
    "**Note:** you can slide P back and forth to create differently skewed parallelograms, including a rectangle, or even a square if you choose the same base length and height."
   ]
  },
  {
   "cell_type": "code",
   "execution_count": 8,
   "metadata": {
    "tags": [
     "hide-input"
    ]
   },
   "outputs": [
    {
     "data": {
      "text/html": [
       "<iframe scrolling=\"no\" title=\"ParaEx2\" src=\"https://www.geogebra.org/material/iframe/id/YFS3rJVz/width/700/height/400/border/888888/sfsb/true/smb/false/stb/false/stbh/false/ai/false/asb/false/sri/false/rc/false/ld/false/sdz/false/ctl/false\" width=\"700px\" height=\"400px\" style=\"border:0px;\"> </iframe>\n"
      ],
      "text/plain": [
       "<IPython.core.display.HTML object>"
      ]
     },
     "metadata": {},
     "output_type": "display_data"
    }
   ],
   "source": [
    "%%html\n",
    "<iframe scrolling=\"no\" title=\"ParaEx2\" src=\"https://www.geogebra.org/material/iframe/id/YFS3rJVz/width/700/height/400/border/888888/sfsb/true/smb/false/stb/false/stbh/false/ai/false/asb/false/sri/false/rc/false/ld/false/sdz/false/ctl/false\" width=\"700px\" height=\"400px\" style=\"border:0px;\"> </iframe>"
   ]
  },
  {
   "cell_type": "markdown",
   "metadata": {},
   "source": [
    "### What conclusion can we draw?\n",
    "\n",
    "By trying different values for base and height of the parallelogram above, we can safely conclude that doubling the base or doubling the height will double the area. \n",
    "\n",
    "Let's extend this conclusion: \n",
    ">What would happen to the area if the base or the height were halved?\n",
    "\n",
    "Go back to the parallelogram above and try it!"
   ]
  },
  {
   "cell_type": "markdown",
   "metadata": {},
   "source": [
    "## Practice\n",
    "\n",
    "Lets use what you've learned to answer these questions:\n",
    "\n",
    "#### Question 1\n",
    "\n",
    "What is the area of a parallelogram with a base length of 3.2 m and a height of 4 m?\n",
    "\n",
    "#### Question 2\n",
    "\n",
    "What is the area of the parallelogram in question 1 if the height is halved?\n",
    "\n",
    "#### Question 3\n",
    "\n",
    "What is the area of the parallelogram in question 1 if the base is halved and the height is doubled?"
   ]
  },
  {
   "cell_type": "markdown",
   "metadata": {},
   "source": [
    "### What if you know the area, but not one of the variables?\n",
    "\n",
    "Let's say you know the area and the base, but are asked for the height, or you know the area and the height, but are asked for the base. How can we find these missing variables? Look at this example below. What is the height of the parallelogram?"
   ]
  },
  {
   "cell_type": "markdown",
   "metadata": {},
   "source": [
    "<img style=\"float: left;\" src=\"images/ParaQ3.png\"  width=\"300\">"
   ]
  },
  {
   "cell_type": "markdown",
   "metadata": {},
   "source": [
    "Let's look at the formula: $$ \\text{Area of parallelogram} = \\text{base} \\times \\text{height}$$\n",
    "\n",
    "Now let's plug in all the values we know into the formula: $$10 \\text{ mm}^2 = 2.5 \\text{ mm} \\times \\text{height}$$\n",
    "\n",
    "This looks a lot different than when all the numbers we know are on one side of the equals sign, so let's solve this equation for $height$ which will put all the numbers on one side of the equals sign and $height$ will be the only thing on the other side of the equals sign. \n",
    "\n",
    "*Don't forget, to keep the meaning of the equation the same, any operation you do on one side, you must do it to the other.*\n",
    "\n",
    "$$ \\begin{align*}\n",
    "10 \\text{ mm}^2 & = 2.5 \\text{ mm} \\times \\text{height}\\\\\n",
    "10 \\text{ mm}^2 \\div 2.5 \\!\\!\\!\\!\\diagup \\text{ mm} & = 2.5 \\!\\!\\!\\!\\diagup \\text{ mm} \\times \\text{height} \\tag{divide by 2.5 mm to cancel multiplication}\\\\[4pt]\n",
    "10 \\text{ mm}^2 \\div 2.5 \\text{ mm} & = \\text{height} \\tag{Solve}\\\\[4pt]\n",
    "10 \\text{ mm}^2\\!\\!\\!\\!\\!\\diagup \\div 2.5 \\text{ mm}\\!\\!\\!\\!\\!\\diagup & = \\text{height} \\tag{cancel units}\\\\\n",
    "4 \\text{ mm} & = \\text{height}\n",
    "\\end{align*}$$\n",
    "\n",
    "At the step with the comment \"Solve\" on it, that step actually shows us the formula for height when you know the base and area. Let's remove the values from that step to see what the formula is in general: $$\\frac{\\text{Area of parallelogram}}{\\text{base}} = \\text{height}$$\n",
    "\n",
    "This can also be written with height on the left and the formula on the right: $$\\text{height} = \\frac{\\text{Area of parallelogram}}{\\text{base}}$$\n",
    "\n",
    "### What about the other way?\n",
    "\n",
    "We can do the same thing if we know the height and not the base! What is the base length of this parallelogram?"
   ]
  },
  {
   "cell_type": "markdown",
   "metadata": {},
   "source": [
    "<img style=\"float: left;\" src=\"images/ParaQ4.png\"  width=\"200\">"
   ]
  },
  {
   "cell_type": "markdown",
   "metadata": {},
   "source": [
    "Let's use the same steps as the last example to solve this one.\n",
    "\n",
    "*Don't forget, to keep the meaning of the equation the same, any operation you do on one side, you must do it to the other.*\n",
    "\n",
    "$$\\begin{align*}\n",
    "\\text{Area of parallelogram} & = \\text{base} \\times \\text{height}\\\\\n",
    "35 \\text{ cm}^2 & = \\text{base} \\times 4 \\text{ cm} \\tag{plug in values}\\\\[4pt]\n",
    "35 \\text{ cm}^2 \\div 4 \\text{ cm} & = \\text{base} \\times 4 \\!\\!\\!\\!\\diagup \\text{ cm} \\div 4 \\!\\!\\!\\!\\diagup \\text{ cm} \\tag{divide by 4 to cancel out the multiplication}\\\\[4pt]\n",
    "35 \\text{ cm}^2 \\div 4 \\text{ cm} & = \\text{base} \\tag{Solve}\\\\[4pt]\n",
    "35 \\text{ cm}^2\\!\\!\\!\\!\\diagup \\div 4 \\text{ cm}\\!\\!\\!\\!\\diagup & = \\text{base} \\tag{cancel units}\\\\\n",
    "8.75 \\text{ cm} & = \\text{base}\n",
    "\\end{align*}$$\n",
    "\n",
    "Now let's get the general formula from the \"Solve\" step: $$\\frac{\\text{Area of parallelogram}}{\\text{height}} = \\text{base}$$\n",
    "\n",
    "we can also write this with base on the left and the formula on the right: $$\\text{base} = \\frac{\\text{Area of parallelogram}}{\\text{height}}$$"
   ]
  },
  {
   "cell_type": "markdown",
   "metadata": {},
   "source": [
    "### Practice Questions\n",
    "\n",
    "Try to figure out the values of the missing base or height. \n",
    "\n",
    "##### Question 1\n",
    "What is the base length of this parallelogram?"
   ]
  },
  {
   "cell_type": "markdown",
   "metadata": {},
   "source": [
    "<img style=\"float: left;\" src=\"images/ParaQ5.png\"  width=\"300\">"
   ]
  },
  {
   "cell_type": "code",
   "execution_count": 9,
   "metadata": {
    "tags": [
     "hide-input"
    ]
   },
   "outputs": [
    {
     "name": "stdout",
     "output_type": "stream",
     "text": [
      "What is the base length of this parallelogram?\n"
     ]
    },
    {
     "data": {
      "application/vnd.jupyter.widget-view+json": {
       "model_id": "8258d2dcae19469baed8cc6b1abcbe12",
       "version_major": 2,
       "version_minor": 0
      },
      "text/plain": [
       "Text(value='', continuous_update=False, description='Base=', placeholder='0')"
      ]
     },
     "metadata": {},
     "output_type": "display_data"
    }
   ],
   "source": [
    "ans3 = widgets.Text(value='',placeholder='0',description='Base=',continuous_update=False)\n",
    "\n",
    "def display3():\n",
    "    print(\"What is the base length of this parallelogram?\")\n",
    "    IPython.display.display(ans3)\n",
    "\n",
    "def check3(a):\n",
    "    IPython.display.clear_output(wait=True)\n",
    "    display3()\n",
    "    if ans3.value == '2.5 m' or ans3.value == '2.5m':\n",
    "        print(\"Great job!\")\n",
    "    else:\n",
    "        if ans3.value == '':\n",
    "            pass\n",
    "        if ans3.value == '2.5':\n",
    "            print(\"Don't forget units! Remember that area is given in square units.\")\n",
    "            print(\"You can include units in your answer by typing cm^2, m^2, or mm^2.\")\n",
    "        else:\n",
    "            print(\"Not quite, don't forget the formula.\")\n",
    "\n",
    "display3()\n",
    "ans3.observe(check3, 'value')"
   ]
  },
  {
   "cell_type": "markdown",
   "metadata": {},
   "source": [
    "##### Question 2\n",
    "What is the height of this parallelogram?"
   ]
  },
  {
   "cell_type": "markdown",
   "metadata": {},
   "source": [
    "<img style=\"float: left;\" src=\"images/ParaQ6.png\"  width=\"700\">"
   ]
  },
  {
   "cell_type": "code",
   "execution_count": 10,
   "metadata": {
    "tags": [
     "hide-input"
    ]
   },
   "outputs": [
    {
     "name": "stdout",
     "output_type": "stream",
     "text": [
      "What is the height of this parallelogram?\n"
     ]
    },
    {
     "data": {
      "application/vnd.jupyter.widget-view+json": {
       "model_id": "6560ac5aa56d4d09ae101e00705add42",
       "version_major": 2,
       "version_minor": 0
      },
      "text/plain": [
       "Text(value='', continuous_update=False, description='Height=', placeholder='0')"
      ]
     },
     "metadata": {},
     "output_type": "display_data"
    }
   ],
   "source": [
    "ans4 = widgets.Text(value='',placeholder='0',description='Height=',continuous_update=False)\n",
    "\n",
    "def display4():\n",
    "    print(\"What is the height of this parallelogram?\")\n",
    "    IPython.display.display(ans4)\n",
    "\n",
    "def check4(a):\n",
    "    IPython.display.clear_output(wait=True)\n",
    "    display4()\n",
    "    if ans4.value == '0.5 cm' or ans4.value == '0.5cm':\n",
    "        print(\"Great job!\")\n",
    "    else:\n",
    "        if ans4.value == '':\n",
    "            pass\n",
    "        if ans4.value == '0.5':\n",
    "            print(\"Don't forget units! Remember that area is given in square units.\")\n",
    "            print(\"You can include units in your answer by typing cm^2, m^2, or mm^2.\")\n",
    "        else:\n",
    "            print(\"Not quite, don't forget the formula.\")\n",
    "\n",
    "display4()\n",
    "ans4.observe(check4, 'value')"
   ]
  },
  {
   "cell_type": "markdown",
   "metadata": {},
   "source": [
    "## Conclusion\n",
    "\n",
    "Let's review what we've learned in this notebook.\n",
    "\n",
    "- The area of a parallelogram is the same as the area of a rectangle with the same base and height.\n",
    "- The formula is $\\text{Area} = \\text{base} \\times \\text{height}$\n",
    "- The formula works for all types of parallelograms as long as you know base and height.\n",
    "- The formula works for finding any variable that is missing by rearranging values on either side of the equals sign.\n",
    "\n",
    "Take the time to learn this formula and how to fill it in. You may not always have the formula to read, but filling in and manipulating equations like this formula will be essential for many math skills in the future. As always in mathematics, the more you practice, the easier it gets!"
   ]
  },
  {
   "cell_type": "markdown",
   "metadata": {},
   "source": [
    "[![Callysto.ca License](https://github.com/callysto/curriculum-notebooks/blob/master/callysto-notebook-banner-bottom.jpg?raw=true)](https://github.com/callysto/curriculum-notebooks/blob/master/LICENSE.md)"
   ]
  }
 ],
 "metadata": {
  "celltoolbar": "Edit Metadata",
  "kernelspec": {
   "display_name": "Python 3",
   "language": "python",
   "name": "python3"
  },
  "language_info": {
   "codemirror_mode": {
    "name": "ipython",
    "version": 3
   },
   "file_extension": ".py",
   "mimetype": "text/x-python",
   "name": "python",
   "nbconvert_exporter": "python",
   "pygments_lexer": "ipython3",
   "version": "3.7.4"
  }
 },
 "nbformat": 4,
 "nbformat_minor": 2
}

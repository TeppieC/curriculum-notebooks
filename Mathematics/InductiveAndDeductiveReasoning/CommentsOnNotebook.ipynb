{
 "cells": [
  {
   "cell_type": "markdown",
   "metadata": {},
   "source": [
    "## Comments on notebook\n",
    "\n",
    "Jiri task ?? is to comment on notebook CC-20. Develop number sense and logical reasoning - 1.\n",
    "\n",
    "from Michael Lamoureux (Notebook CC-20 written by Mohamar Rios Flores)"
   ]
  },
  {
   "cell_type": "markdown",
   "metadata": {},
   "source": [
    "- Notebook looks complete, it seems to capture all the curruculum items that are requested in this item.\n",
    "- I think it is debatable as to whether the \"visual proofs\" are actually proofs. (Of, say, that the sum of odd integers is a square. Or sum of integers from 1 to n is n(n+1)/2.) Personally, I would accept a visual \"proof\" as a real proof, and some teachers may feel the same. On the other hand, a proof by induction or by algebra would make me more comfortable.\n",
    "- So I would suggest a brief comment could be included to say \"some people would accept the visual argument as a proof.\"\n",
    "- I really like the sliders. Good job!\n",
    "- in the section on Fractions, I don't think it is correct to use the word \"numbers\" when you mean integers. \n",
    "\n",
    "That is, here:\n",
    "\n",
    "First some observations:\n",
    "1. Every number $a$ can be written in fraction form: $$ a=\\frac{a}{1}. $$\n",
    "2. For every number $a$, except in the case where $a=0$, we can write: $$ 1=\\frac{a}{a}. $$\n",
    "\n",
    "I would prefer to see this:\n",
    "\n",
    "First some observations:\n",
    "1. Every integer $a$ can be written in fraction form: $$ a=\\frac{a}{1}. $$\n",
    "2. For every integer $a$, except in the case where $a=0$, we can write: $$ 1=\\frac{a}{a}. $$\n",
    "\n",
    "I also wonder if it would be more \"friendly\" to introduce the ideas with examples of real integers. For instance:\n",
    "\n",
    "First some observations:\n",
    "1. Any integer, like $3$, can be written in fraction form: $$ 3=\\frac{3}{1}. $$\n",
    "2. Any integer, like $3$, can be put into a fraction to get $1$: $$ 1=\\frac{3}{3}. $$ Except of course for the integer $0$, as the fraction $0/0$ makes no sense.\n",
    "3. Multiplying two fractions just multiplies the numerators and denominators: $$ \\left( \\frac{3}{4}\\right) \\left( \\frac{6}{5} \\right) = \\frac{3*6}{4*5} = \\frac{18}{20}. $$\n",
    "\n",
    "\n"
   ]
  },
  {
   "cell_type": "code",
   "execution_count": null,
   "metadata": {},
   "outputs": [],
   "source": []
  }
 ],
 "metadata": {
  "kernelspec": {
   "display_name": "Python 3",
   "language": "python",
   "name": "python3"
  },
  "language_info": {
   "codemirror_mode": {
    "name": "ipython",
    "version": 3
   },
   "file_extension": ".py",
   "mimetype": "text/x-python",
   "name": "python",
   "nbconvert_exporter": "python",
   "pygments_lexer": "ipython3",
   "version": "3.6.4"
  }
 },
 "nbformat": 4,
 "nbformat_minor": 2
}

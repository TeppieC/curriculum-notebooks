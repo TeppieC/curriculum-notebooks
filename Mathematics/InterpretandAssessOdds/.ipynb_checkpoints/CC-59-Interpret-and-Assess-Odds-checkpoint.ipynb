{
 "cells": [
  {
   "cell_type": "markdown",
   "metadata": {},
   "source": [
    "<img src =\"https://callysto.ca/wp-content/uploads/2018/06/Callysto_Notebook-Banner_Top_06.06.18.jpg\">"
   ]
  },
  {
   "cell_type": "code",
   "execution_count": 1,
   "metadata": {},
   "outputs": [
    {
     "data": {
      "text/html": [
       "<script>requirejs.config({paths: { 'plotly': ['https://cdn.plot.ly/plotly-latest.min']},});if(!window.Plotly) {{require(['plotly'],function(plotly) {window.Plotly=plotly;});}}</script>"
      ],
      "text/vnd.plotly.v1+html": [
       "<script>requirejs.config({paths: { 'plotly': ['https://cdn.plot.ly/plotly-latest.min']},});if(!window.Plotly) {{require(['plotly'],function(plotly) {window.Plotly=plotly;});}}</script>"
      ]
     },
     "metadata": {},
     "output_type": "display_data"
    },
    {
     "data": {
      "text/html": [
       "<script>\n",
       "  function code_toggle() {\n",
       "    if (code_shown){\n",
       "      $('div.input').hide('500');\n",
       "      $('#toggleButton').val('Show Code')\n",
       "    } else {\n",
       "      $('div.input').show('500');\n",
       "      $('#toggleButton').val('Hide Code')\n",
       "    }\n",
       "    code_shown = !code_shown\n",
       "  }\n",
       "  \n",
       "  $( document ).ready(function(){\n",
       "    code_shown=false;\n",
       "    $('div.input').hide()\n",
       "  });\n",
       "</script>\n",
       "<form action=\"javascript:code_toggle()\"><input type=\"submit\" id=\"toggleButton\" value=\"Show Code\"></form>"
      ],
      "text/plain": [
       "<IPython.core.display.HTML object>"
      ]
     },
     "execution_count": 1,
     "metadata": {},
     "output_type": "execute_result"
    }
   ],
   "source": [
    "import numpy as np\n",
    "import matplotlib.pyplot as plt\n",
    "from IPython.display import display, Math, Latex, HTML, clear_output, Markdown, Javascript\n",
    "import ipywidgets as widgets\n",
    "from ipywidgets import interact, FloatSlider, IntSlider, interactive, Layout, ButtonStyle\n",
    "from traitlets import traitlets\n",
    "\n",
    "\n",
    "import plotly as py\n",
    "import plotly.graph_objs as go\n",
    "from plotly.offline import download_plotlyjs, init_notebook_mode, plot, iplot\n",
    "init_notebook_mode(connected=True)\n",
    "\n",
    "\n",
    "\n",
    "HTML('''<script>\n",
    "  function code_toggle() {\n",
    "    if (code_shown){\n",
    "      $('div.input').hide('500');\n",
    "      $('#toggleButton').val('Show Code')\n",
    "    } else {\n",
    "      $('div.input').show('500');\n",
    "      $('#toggleButton').val('Hide Code')\n",
    "    }\n",
    "    code_shown = !code_shown\n",
    "  }\n",
    "  \n",
    "  $( document ).ready(function(){\n",
    "    code_shown=false;\n",
    "    $('div.input').hide()\n",
    "  });\n",
    "</script>\n",
    "<form action=\"javascript:code_toggle()\"><input type=\"submit\" id=\"toggleButton\" value=\"Show Code\"></form>''')"
   ]
  },
  {
   "cell_type": "markdown",
   "metadata": {},
   "source": [
    "# <center>Interpret and Assess the Validity of Odds and Probability Statements</center>\n",
    "---\n",
    "\n",
    "In this Jupyter Notebook you will be looking at examples of probablistic statements that we encounter in our daily lives and some errors in our judgment that can arise when we try to reason with probabilistic statements. Specifically, we will be looking at:\n",
    "\n",
    "- Examples of statements of probability and odds found in fields such as media, biology, sports, medicine, sociology and psychology.\n",
    "- Explain, using examples, the relationship between odds (part-part) and probability (part-whole).\n",
    "- Express odds as a probability and vice versa.\n",
    "- Determine the probability of, or the odds on and against, an outcome in a situation.\n",
    "- Explain, using examples, how decisions may be based on probability or odds and on subjective judgments.\n",
    "- Solve a contextual problem that involves odds or probability.\n"
   ]
  },
  {
   "cell_type": "markdown",
   "metadata": {},
   "source": [
    "## Probability and Odds\n",
    "\n",
    "Let's first start with some definitions. Having a clear understanding of these definitions will help with the rest of the notebook, as these concepts will be used often. \n",
    "\n",
    "**Event**: An outcome of an experiment. These are the outcomes that are possible. For example, when rolling a die, possible events are the die landing on the numbers $1-6$.\n",
    "\n",
    "**Probability**: The likelihood for an event to occur. In a very large amount of trials, it is the fraction of times you expect the event to happen. This is expressed as a number between $0$ and $1$, with $1$ being $100$% likelihood. For example, after a large number of coin flips you would expect a properly weighted coin to land on heads half of the time. Therefore the probability of said event is $0.5$. \n",
    "\n",
    "**Odds**: The odds of an event $X$ are typically expressed as a ratio $X$ to $Y$. This is typically expressed as the ratio between the probability that the event will occur and the probability that it will not occur. For example, what are the odds of rolling a $1$ for a fair die? \n",
    "\n",
    "Well the probability of rolling a $1$ is $\\frac{1}{6}$ and the probability of not rolling a $6$ is $1-\\frac{1}{6} = \\frac{5}{6}$ . Therefore the odds are:\n",
    "\n",
    "\\begin{equation} \n",
    "\\frac{1}{6}:\\frac{5}{6} = 1:5\n",
    "\\end{equation}\n",
    "\n",
    "\n",
    "**Note**: Anytime you would like to express the probability of an event *not* happening, this is given by $1-p$, where $p$ is the probability of the event occuring. It will be found useful to think in the negatory sometimes. "
   ]
  },
  {
   "cell_type": "markdown",
   "metadata": {},
   "source": [
    "### Different types of Odds\n",
    "\n",
    "- **Odds against**: This happens when the probability of the event not happening are higher than the event happening. Odds against are expressed with the larger number first. For example, the *odds against* rolling a 1 on a fair dice are 5:1.\n",
    "\n",
    "- **Odds on**: These are the opposite of odds against, i.e the probability of the event happening are greater than it not happening.\n",
    "\n",
    "- **Even odds**: This occurs when the probability of an event happening are the same it not. For example, tossing a fair coin as an even odds of landing on heads or tails. \n",
    "\n",
    "\n",
    "### Dependent vs. Independent Events\n",
    "\n",
    "An independent event is one that, if it occurs, it does not influence the likelihood of any other event happening. For example, tossing a coin. The fact that one coin toss lands on heads does not affect the probability of the next coin toss. Conversely, dependent events change the future probability of other one occuring. The most classic example is pulling cards at random from a deck of cards. If you take a card out, and don't put it back in, then there are now less cards in the deck. If you pulled an ace of spades from a standard deck of cards, with probability $\\frac{1}[52}$, the probability of pulling an ace of hearts is now $\\frac{1}{51}$ . The first event, namely pulling a card at random *and not replacing it*, influenced the probability of the next card being pulled. When evaluating probabilistic statements, it is important to consider whether or not the events are dependent or independent.\n",
    "\n",
    "\n",
    "Let's try some true or false questions on what you have learned about odds and probability so far!"
   ]
  },
  {
   "cell_type": "code",
   "execution_count": 2,
   "metadata": {},
   "outputs": [
    {
     "data": {
      "text/markdown": [
       "The probability of rolling an even number on a fair die is $\\frac{1}{2}$."
      ],
      "text/plain": [
       "<IPython.core.display.Markdown object>"
      ]
     },
     "metadata": {},
     "output_type": "display_data"
    },
    {
     "data": {
      "application/vnd.jupyter.widget-view+json": {
       "model_id": "900afb8382fa4bd695a163589c099f40",
       "version_major": 2,
       "version_minor": 0
      },
      "text/html": [
       "<p>Failed to display Jupyter Widget of type <code>RadioButtons</code>.</p>\n",
       "<p>\n",
       "  If you're reading this message in the Jupyter Notebook or JupyterLab Notebook, it may mean\n",
       "  that the widgets JavaScript is still loading. If this message persists, it\n",
       "  likely means that the widgets JavaScript library is either not installed or\n",
       "  not enabled. See the <a href=\"https://ipywidgets.readthedocs.io/en/stable/user_install.html\">Jupyter\n",
       "  Widgets Documentation</a> for setup instructions.\n",
       "</p>\n",
       "<p>\n",
       "  If you're reading this message in another frontend (for example, a static\n",
       "  rendering on GitHub or <a href=\"https://nbviewer.jupyter.org/\">NBViewer</a>),\n",
       "  it may mean that your frontend doesn't currently support widgets.\n",
       "</p>\n"
      ],
      "text/plain": [
       "RadioButtons(options=('True', 'False'), value=None)"
      ]
     },
     "metadata": {},
     "output_type": "display_data"
    },
    {
     "data": {
      "text/markdown": [
       "The odds on rolling an even number are $2:1$."
      ],
      "text/plain": [
       "<IPython.core.display.Markdown object>"
      ]
     },
     "metadata": {},
     "output_type": "display_data"
    },
    {
     "data": {
      "application/vnd.jupyter.widget-view+json": {
       "model_id": "199b00ab301d4f7ba9981e85d2d0a48a",
       "version_major": 2,
       "version_minor": 0
      },
      "text/html": [
       "<p>Failed to display Jupyter Widget of type <code>RadioButtons</code>.</p>\n",
       "<p>\n",
       "  If you're reading this message in the Jupyter Notebook or JupyterLab Notebook, it may mean\n",
       "  that the widgets JavaScript is still loading. If this message persists, it\n",
       "  likely means that the widgets JavaScript library is either not installed or\n",
       "  not enabled. See the <a href=\"https://ipywidgets.readthedocs.io/en/stable/user_install.html\">Jupyter\n",
       "  Widgets Documentation</a> for setup instructions.\n",
       "</p>\n",
       "<p>\n",
       "  If you're reading this message in another frontend (for example, a static\n",
       "  rendering on GitHub or <a href=\"https://nbviewer.jupyter.org/\">NBViewer</a>),\n",
       "  it may mean that your frontend doesn't currently support widgets.\n",
       "</p>\n"
      ],
      "text/plain": [
       "RadioButtons(options=('True', 'False'), value=None)"
      ]
     },
     "metadata": {},
     "output_type": "display_data"
    },
    {
     "data": {
      "text/markdown": [
       "The odds against rolling a $4$ are $1:5$."
      ],
      "text/plain": [
       "<IPython.core.display.Markdown object>"
      ]
     },
     "metadata": {},
     "output_type": "display_data"
    },
    {
     "data": {
      "application/vnd.jupyter.widget-view+json": {
       "model_id": "5b554d221cf54d9d961fd986990d201e",
       "version_major": 2,
       "version_minor": 0
      },
      "text/html": [
       "<p>Failed to display Jupyter Widget of type <code>RadioButtons</code>.</p>\n",
       "<p>\n",
       "  If you're reading this message in the Jupyter Notebook or JupyterLab Notebook, it may mean\n",
       "  that the widgets JavaScript is still loading. If this message persists, it\n",
       "  likely means that the widgets JavaScript library is either not installed or\n",
       "  not enabled. See the <a href=\"https://ipywidgets.readthedocs.io/en/stable/user_install.html\">Jupyter\n",
       "  Widgets Documentation</a> for setup instructions.\n",
       "</p>\n",
       "<p>\n",
       "  If you're reading this message in another frontend (for example, a static\n",
       "  rendering on GitHub or <a href=\"https://nbviewer.jupyter.org/\">NBViewer</a>),\n",
       "  it may mean that your frontend doesn't currently support widgets.\n",
       "</p>\n"
      ],
      "text/plain": [
       "RadioButtons(options=('True', 'False'), value=None)"
      ]
     },
     "metadata": {},
     "output_type": "display_data"
    },
    {
     "data": {
      "text/markdown": [
       "The odds of rolling an uneven number are $1:1$."
      ],
      "text/plain": [
       "<IPython.core.display.Markdown object>"
      ]
     },
     "metadata": {},
     "output_type": "display_data"
    },
    {
     "data": {
      "application/vnd.jupyter.widget-view+json": {
       "model_id": "91e6b733c0c8463fa762b04f3bdce81c",
       "version_major": 2,
       "version_minor": 0
      },
      "text/html": [
       "<p>Failed to display Jupyter Widget of type <code>RadioButtons</code>.</p>\n",
       "<p>\n",
       "  If you're reading this message in the Jupyter Notebook or JupyterLab Notebook, it may mean\n",
       "  that the widgets JavaScript is still loading. If this message persists, it\n",
       "  likely means that the widgets JavaScript library is either not installed or\n",
       "  not enabled. See the <a href=\"https://ipywidgets.readthedocs.io/en/stable/user_install.html\">Jupyter\n",
       "  Widgets Documentation</a> for setup instructions.\n",
       "</p>\n",
       "<p>\n",
       "  If you're reading this message in another frontend (for example, a static\n",
       "  rendering on GitHub or <a href=\"https://nbviewer.jupyter.org/\">NBViewer</a>),\n",
       "  it may mean that your frontend doesn't currently support widgets.\n",
       "</p>\n"
      ],
      "text/plain": [
       "RadioButtons(options=('True', 'False'), value=None)"
      ]
     },
     "metadata": {},
     "output_type": "display_data"
    },
    {
     "data": {
      "text/markdown": [
       "The probability of *not* rolling a $5$ is $\\frac{5}{6}$."
      ],
      "text/plain": [
       "<IPython.core.display.Markdown object>"
      ]
     },
     "metadata": {},
     "output_type": "display_data"
    },
    {
     "data": {
      "application/vnd.jupyter.widget-view+json": {
       "model_id": "012ed4606ec44449870b03be41b9c55c",
       "version_major": 2,
       "version_minor": 0
      },
      "text/html": [
       "<p>Failed to display Jupyter Widget of type <code>RadioButtons</code>.</p>\n",
       "<p>\n",
       "  If you're reading this message in the Jupyter Notebook or JupyterLab Notebook, it may mean\n",
       "  that the widgets JavaScript is still loading. If this message persists, it\n",
       "  likely means that the widgets JavaScript library is either not installed or\n",
       "  not enabled. See the <a href=\"https://ipywidgets.readthedocs.io/en/stable/user_install.html\">Jupyter\n",
       "  Widgets Documentation</a> for setup instructions.\n",
       "</p>\n",
       "<p>\n",
       "  If you're reading this message in another frontend (for example, a static\n",
       "  rendering on GitHub or <a href=\"https://nbviewer.jupyter.org/\">NBViewer</a>),\n",
       "  it may mean that your frontend doesn't currently support widgets.\n",
       "</p>\n"
      ],
      "text/plain": [
       "RadioButtons(options=('True', 'False'), value=None)"
      ]
     },
     "metadata": {},
     "output_type": "display_data"
    },
    {
     "data": {
      "text/markdown": [
       "The probability of rolling a $7$ on a regular die is $1$."
      ],
      "text/plain": [
       "<IPython.core.display.Markdown object>"
      ]
     },
     "metadata": {},
     "output_type": "display_data"
    },
    {
     "data": {
      "application/vnd.jupyter.widget-view+json": {
       "model_id": "6daf3477b23342149d22d05398972bff",
       "version_major": 2,
       "version_minor": 0
      },
      "text/html": [
       "<p>Failed to display Jupyter Widget of type <code>RadioButtons</code>.</p>\n",
       "<p>\n",
       "  If you're reading this message in the Jupyter Notebook or JupyterLab Notebook, it may mean\n",
       "  that the widgets JavaScript is still loading. If this message persists, it\n",
       "  likely means that the widgets JavaScript library is either not installed or\n",
       "  not enabled. See the <a href=\"https://ipywidgets.readthedocs.io/en/stable/user_install.html\">Jupyter\n",
       "  Widgets Documentation</a> for setup instructions.\n",
       "</p>\n",
       "<p>\n",
       "  If you're reading this message in another frontend (for example, a static\n",
       "  rendering on GitHub or <a href=\"https://nbviewer.jupyter.org/\">NBViewer</a>),\n",
       "  it may mean that your frontend doesn't currently support widgets.\n",
       "</p>\n"
      ],
      "text/plain": [
       "RadioButtons(options=('True', 'False'), value=None)"
      ]
     },
     "metadata": {},
     "output_type": "display_data"
    },
    {
     "data": {
      "application/vnd.jupyter.widget-view+json": {
       "model_id": "bff1d95f4074472eab7ec19bf698e2eb",
       "version_major": 2,
       "version_minor": 0
      },
      "text/html": [
       "<p>Failed to display Jupyter Widget of type <code>Button</code>.</p>\n",
       "<p>\n",
       "  If you're reading this message in the Jupyter Notebook or JupyterLab Notebook, it may mean\n",
       "  that the widgets JavaScript is still loading. If this message persists, it\n",
       "  likely means that the widgets JavaScript library is either not installed or\n",
       "  not enabled. See the <a href=\"https://ipywidgets.readthedocs.io/en/stable/user_install.html\">Jupyter\n",
       "  Widgets Documentation</a> for setup instructions.\n",
       "</p>\n",
       "<p>\n",
       "  If you're reading this message in another frontend (for example, a static\n",
       "  rendering on GitHub or <a href=\"https://nbviewer.jupyter.org/\">NBViewer</a>),\n",
       "  it may mean that your frontend doesn't currently support widgets.\n",
       "</p>\n"
      ],
      "text/plain": [
       "Button(button_style='primary', description='Check Answers', layout=Layout(height='60px', width='25%'), style=ButtonStyle())"
      ]
     },
     "metadata": {},
     "output_type": "display_data"
    }
   ],
   "source": [
    "#true or false questions exercise\n",
    "\n",
    "a1 = widgets.RadioButtons(\n",
    "    options=['True', 'False'],\n",
    "    value= None,\n",
    "    disabled=False\n",
    ")\n",
    "\n",
    "a2 = widgets.RadioButtons(\n",
    "    options=['True', 'False'],\n",
    "    value= None,\n",
    "    disabled=False\n",
    ")\n",
    "\n",
    "a3 = widgets.RadioButtons(\n",
    "    options=['True', 'False'],\n",
    "    value= None,\n",
    "    disabled=False\n",
    ")\n",
    "\n",
    "a4 = widgets.RadioButtons(\n",
    "    options=['True', 'False'],\n",
    "    value= None,\n",
    "    disabled=False\n",
    ")\n",
    "\n",
    "a5 = widgets.RadioButtons(\n",
    "    options=['True', 'False'],\n",
    "    value= None,\n",
    "    disabled=False\n",
    ")\n",
    "\n",
    "a6 = widgets.RadioButtons(\n",
    "    options=['True', 'False'],\n",
    "    value= None,\n",
    "    disabled=False\n",
    ")\n",
    "\n",
    "#Questions:\n",
    "\n",
    "display(Markdown('The probability of rolling an even number on a fair die is $\\\\frac{1}{2}$.'))\n",
    "display(a1)\n",
    "\n",
    "display(Markdown('The odds on rolling an even number are $2:1$.'))\n",
    "display(a2)\n",
    "\n",
    "display(Markdown('The odds against rolling a $4$ are $1:5$.'))\n",
    "display(a3)\n",
    "\n",
    "display(Markdown('The odds of rolling an uneven number are $1:1$.'))\n",
    "display(a4)\n",
    "\n",
    "display(Markdown('The probability of *not* rolling a $5$ is $\\\\frac{5}{6}$.'))\n",
    "display(a5)\n",
    "\n",
    "display(Markdown('The probability of rolling a $7$ on a regular die is $1$.'))\n",
    "display(a6)\n",
    "\n",
    "\n",
    "bt = widgets.Button(description = \"Check Answers\", \n",
    "                    layout = Layout(width = '25%', height = '60px'),\n",
    "                    button_style = 'primary'\n",
    "                    )\n",
    "\n",
    "def check_answers(b):\n",
    "    if a1.value == 'True' and a2.value == 'False' and a3.value == 'False' and a4.value == 'True' and a5.value == 'True' and a6.value == 'False':\n",
    "        display(Markdown(\"Correct! Well done.\"))\n",
    "    else:\n",
    "        display(Markdown(\"Not quite, please try again.\"))\n",
    "\n",
    "    return\n",
    "\n",
    "\n",
    "bt.on_click(check_answers)\n",
    "\n",
    "display(bt)"
   ]
  },
  {
   "cell_type": "markdown",
   "metadata": {},
   "source": [
    "*Wording* plays a crucical role in evaluating these statements. This last exercise demonstrated that there are many ways to phrase these questions. It is important to pay attention to the structure of these statements when evaluating and assessing them."
   ]
  },
  {
   "cell_type": "markdown",
   "metadata": {},
   "source": [
    "## Converting between Odds and Probability\n",
    "\n",
    "This is a quick exercise in algebra, but will nevertheless be useful to your understanding of these concepts. So, currently we know how to convert probability to odds:\n",
    "\n",
    "To determine the odds on or against an event happening, we first determine its probability to occur, $p$, and then take the ratio between $p$ and $1-p$. Then we can obtain the odds on or against, by simply arranging the two numbers correctly, e.g. the odds on rolling a $5$ for a fair dice are $1:5$ whereas the odds against are $5:1$. \n",
    "\n",
    "Let's try converting from odds to probability in a very general way. Please try solving the following question on paper, then press the button to see if you obtained the correct answer."
   ]
  },
  {
   "cell_type": "code",
   "execution_count": 3,
   "metadata": {},
   "outputs": [
    {
     "data": {
      "text/latex": [
       "If the odds against an event happening are $N:1$, where $N$ is a natural number, what is the probability of the event happening?"
      ],
      "text/plain": [
       "<IPython.core.display.Latex object>"
      ]
     },
     "metadata": {},
     "output_type": "display_data"
    },
    {
     "data": {
      "application/vnd.jupyter.widget-view+json": {
       "model_id": "d3dc31976e2842cc89eade7927dd986a",
       "version_major": 2,
       "version_minor": 0
      },
      "text/html": [
       "<p>Failed to display Jupyter Widget of type <code>Button</code>.</p>\n",
       "<p>\n",
       "  If you're reading this message in the Jupyter Notebook or JupyterLab Notebook, it may mean\n",
       "  that the widgets JavaScript is still loading. If this message persists, it\n",
       "  likely means that the widgets JavaScript library is either not installed or\n",
       "  not enabled. See the <a href=\"https://ipywidgets.readthedocs.io/en/stable/user_install.html\">Jupyter\n",
       "  Widgets Documentation</a> for setup instructions.\n",
       "</p>\n",
       "<p>\n",
       "  If you're reading this message in another frontend (for example, a static\n",
       "  rendering on GitHub or <a href=\"https://nbviewer.jupyter.org/\">NBViewer</a>),\n",
       "  it may mean that your frontend doesn't currently support widgets.\n",
       "</p>\n"
      ],
      "text/plain": [
       "Button(button_style='primary', description='Show Answer', layout=Layout(height='60px', width='25%'), style=ButtonStyle())"
      ]
     },
     "metadata": {},
     "output_type": "display_data"
    }
   ],
   "source": [
    "display(Latex('If the odds against an event happening are $N:1$, where $N$ is a natural number, what is the \\\n",
    "probability of the event happening?'))\n",
    "\n",
    "\n",
    "#Steps for the answer:\n",
    "prob_button= widgets.Button(description = \"Show Answer\", \n",
    "                            layout = Layout(width = '25%', height = '60px'),\n",
    "                            button_style = 'primary'\n",
    "                            )\n",
    "display(prob_button)\n",
    "\n",
    "def prob_answer(b):\n",
    "    display(Latex(\"The formula we need here, and this depends on the statement, is $N = \\\\frac{1-p}{p}$\"))\n",
    "    display(Latex(\"Why? This is because odds against is the reciprocal ratio of odds on.\"))\n",
    "    display(Latex(\"Rearrange the formula: $Np = 1-p$\"))\n",
    "    display(Latex(\"Isolate the value you're looking for: $p(1+N) = 1$\"))\n",
    "    display(Latex(\"$\\\\Rightarrow p = \\\\frac{1}{N+1}$\"))\n",
    "    return\n",
    "\n",
    "prob_button.on_click(prob_answer)\n",
    "    \n",
    "    \n",
    "    \n",
    "    "
   ]
  },
  {
   "cell_type": "markdown",
   "metadata": {},
   "source": [
    "Check to make sure this works for the dice roll!\n",
    "\n",
    "---"
   ]
  },
  {
   "cell_type": "markdown",
   "metadata": {},
   "source": [
    "# <center> Bayesian vs. Frequentist Reasoning </center>\n",
    "    \n",
    "These two schools of probabilistic reasoning are at the foundation of modern probability theory. Since you are not taking a course in probability theory, we won't delve too deep into these subjects. Nevertheless, understanding their basic principles will assist you greatly in evaluating the validity of statements about odds and probability. \n",
    "\n",
    "**Frequentist School**:\n",
    "The frequentist approach to probability emphasizes large amounts of data to assess and determine probabilities. \n",
    "\n",
    "**Bayesian School**:\n",
    "The Bayesian approach, named after the 18th century Reverend Thomas Bayes, employs the use of conditional probabilities. They also look at large amounts of data, but also want to consider the conditional probabilities, which are the likelihoods of a certain event occuring in the first place. \n",
    "\n",
    "It's easiest to understand their differences through an example. Say you have a bird feeder hung from a stand which keeps track of how many and what type of birds come to feed. At some point, it is noted that 2 Emperor Penguins have come to feed. If there were $N$ birds over 1 day, the frequentist would be inclined to say that there is a $\\frac{2}{N}$ probability that an Emperor Penguin will fly up to the bird feeder in a day. The Bayesian, with their conditional probabilities, disagrees. The Bayesian, who knows beforehand the percentage of all the birds in Canada that are flying Emperor Penguins which happens to be very small (some might say $0$), says this is an incredibly rare event. By considering a prior probability, the probability that a bird is a flying emperor penguin, the Bayesian drew a more educated conclusion. \n",
    "\n",
    "Before you make up your mind about which approach is better to think about probability, we note a couple very important points:\n",
    "\n",
    "- What if the conditional probabilities are incorrect? Where did the Bayesian get their data from? What were the methods used, were they biased? The Bayesian, with their prior knowledge, can sometimes unknowingly introduce biases and thus making the interpretation of the probability values somewhat subjective.\n",
    "\n",
    "- The Frequentist relies solely upon the data collected and thus remains as unbiased as possible. \n",
    "\n",
    "It is crucial to understand the pros and cons of each school of thought. Using one approach or the other can be useful based on the context of the problem and data set.  "
   ]
  },
  {
   "cell_type": "markdown",
   "metadata": {},
   "source": [
    "## Dartboard Exercise\n",
    "\n",
    "Let's do a bit more of an applied exercise for the concepts you have learned thus far. Consider the \"dartboard\" pictured below, if a dart is thrown at random, what are the odds on it hitting the red circle?\n",
    "\n",
    "*Approach to solving this problem*: Firstly, we need to understand how to calculate a probability in this context. This will be given by the ratio of the area of the red circle to the entire circle! We must calculate the area of the entire cirle and the area of the the red circle, after this has been done we can calculate the probability and then the odds!\n",
    "\n",
    "For our current problem: Take $r_1$ to be the radius of the entire dartboard and $r_2 = \\frac{r_1}{2}$ to be the radius of the red circle. Calculate the probability that a dart thrown at random will land within the red circle."
   ]
  },
  {
   "cell_type": "code",
   "execution_count": 4,
   "metadata": {},
   "outputs": [
    {
     "data": {
      "application/vnd.jupyter.widget-view+json": {
       "model_id": "1903572315ec4c7ebd204d392084a1d4",
       "version_major": 2,
       "version_minor": 0
      },
      "text/html": [
       "<p>Failed to display Jupyter Widget of type <code>Button</code>.</p>\n",
       "<p>\n",
       "  If you're reading this message in the Jupyter Notebook or JupyterLab Notebook, it may mean\n",
       "  that the widgets JavaScript is still loading. If this message persists, it\n",
       "  likely means that the widgets JavaScript library is either not installed or\n",
       "  not enabled. See the <a href=\"https://ipywidgets.readthedocs.io/en/stable/user_install.html\">Jupyter\n",
       "  Widgets Documentation</a> for setup instructions.\n",
       "</p>\n",
       "<p>\n",
       "  If you're reading this message in another frontend (for example, a static\n",
       "  rendering on GitHub or <a href=\"https://nbviewer.jupyter.org/\">NBViewer</a>),\n",
       "  it may mean that your frontend doesn't currently support widgets.\n",
       "</p>\n"
      ],
      "text/plain": [
       "Button(button_style='primary', description='Check Answer', layout=Layout(height='60px', width='25%'), style=ButtonStyle())"
      ]
     },
     "metadata": {},
     "output_type": "display_data"
    }
   ],
   "source": [
    "#Dartboard exercise part 1 answer\n",
    "dboard1 = widgets.Button(description = \"Check Answer\", \n",
    "                         layout = Layout(width = '25%', height = \"60px\"),\n",
    "                         button_style = 'primary'\n",
    "                        )\n",
    "display(dboard1)\n",
    "\n",
    "def check_dboard1(b):\n",
    "    \n",
    "    display(Latex(\"The area of the entire dartboard is given by: $\\pi r_1^2$\"))\n",
    "    display(Latex(\"The ratio of the areas is given by: $\\\\frac{\\pi r_2^2}{\\pi r_1^2}$\"))\n",
    "    display(Latex(\"Simplifying and substituting the value for $r_2$ we obtain: \\\n",
    "                  $\\\\frac{(\\\\frac{r_1}{2})^2}{r_1^2} = \\\\frac{1}{4}$\"))\n",
    "    display(Latex(\"Thus the probability of landing on the red circle is $\\\\frac{1}{4}$\"))\n",
    "    \n",
    "    return\n",
    "\n",
    "dboard1.on_click(check_dboard1)"
   ]
  },
  {
   "cell_type": "markdown",
   "metadata": {},
   "source": [
    "Now what are the odds against landing in the red cirle?"
   ]
  },
  {
   "cell_type": "code",
   "execution_count": 5,
   "metadata": {},
   "outputs": [
    {
     "data": {
      "application/vnd.jupyter.widget-view+json": {
       "model_id": "874d5cb814944a6f916fd6a63ea586db",
       "version_major": 2,
       "version_minor": 0
      },
      "text/html": [
       "<p>Failed to display Jupyter Widget of type <code>Button</code>.</p>\n",
       "<p>\n",
       "  If you're reading this message in the Jupyter Notebook or JupyterLab Notebook, it may mean\n",
       "  that the widgets JavaScript is still loading. If this message persists, it\n",
       "  likely means that the widgets JavaScript library is either not installed or\n",
       "  not enabled. See the <a href=\"https://ipywidgets.readthedocs.io/en/stable/user_install.html\">Jupyter\n",
       "  Widgets Documentation</a> for setup instructions.\n",
       "</p>\n",
       "<p>\n",
       "  If you're reading this message in another frontend (for example, a static\n",
       "  rendering on GitHub or <a href=\"https://nbviewer.jupyter.org/\">NBViewer</a>),\n",
       "  it may mean that your frontend doesn't currently support widgets.\n",
       "</p>\n"
      ],
      "text/plain": [
       "Button(button_style='primary', description='Show Answer', layout=Layout(height='60px', width='25%'), style=ButtonStyle())"
      ]
     },
     "metadata": {},
     "output_type": "display_data"
    }
   ],
   "source": [
    "#dartboard exercise part 2\n",
    "\n",
    "dboard2_button = widgets.Button(description = \"Check Answer\", \n",
    "                                layout = Layout(width = '25%', height = '60px'),\n",
    "                                button_style = 'primary'\n",
    "                               )\n",
    "display(dboard2_button)\n",
    "\n",
    "def check_dboard2(b):\n",
    "    display(Latex(\"The probability of landing in the red circle is $\\\\frac{1}{4}$, therefore the probability that \\\n",
    "                  it won't hit the red circle is $1-0.25 = 0.75 = \\\\frac{3}{4}$.\"))\n",
    "    display(Latex(\"As explained above, we take the ratio $\\\\frac{3}{4}:\\\\frac{1}{4}$.\"))\n",
    "    display(Latex(\"Thus the odds against landing in the red circle are $3:1$.\"))\n",
    "    \n",
    "    return\n",
    "dboard2_button.on_click(check_dboard2)\n",
    "                            "
   ]
  },
  {
   "cell_type": "code",
   "execution_count": 6,
   "metadata": {
    "scrolled": false
   },
   "outputs": [
    {
     "data": {
      "text/html": [
       "\n",
       "<div style=\"text-align: center\">\n",
       "    <iframe width=\"500px\" height=\"500px\" src=\"p5interactions/dartboard_probability.html\" frameborder=\"0\"></iframe>\n",
       "</div>"
      ],
      "text/plain": [
       "<IPython.core.display.HTML object>"
      ]
     },
     "metadata": {},
     "output_type": "display_data"
    }
   ],
   "source": [
    "%%html\n",
    "\n",
    "<div style=\"text-align: center\">\n",
    "    <iframe width=\"500px\" height=\"500px\" src=\"p5interactions/dartboard_probability.html\" frameborder=\"0\"></iframe>\n",
    "</div>"
   ]
  },
  {
   "cell_type": "markdown",
   "metadata": {},
   "source": [
    "Let's now try some more difficult questions with the dartboard. These may take a bit more time to work through, so if you would like to review some more material, please go through the rest of the notebook and then come back to these! Please try taking the time to solve the questions on paper before pressing the \"Show Answer\" button. I know it is tempting but it is always more rewarding to attempt to solve it yourself. "
   ]
  },
  {
   "cell_type": "code",
   "execution_count": 7,
   "metadata": {},
   "outputs": [
    {
     "data": {
      "application/vnd.jupyter.widget-view+json": {
       "model_id": "6da69f49ea70445b9e593bd313e302bc",
       "version_major": 2,
       "version_minor": 0
      },
      "text/html": [
       "<p>Failed to display Jupyter Widget of type <code>Button</code>.</p>\n",
       "<p>\n",
       "  If you're reading this message in the Jupyter Notebook or JupyterLab Notebook, it may mean\n",
       "  that the widgets JavaScript is still loading. If this message persists, it\n",
       "  likely means that the widgets JavaScript library is either not installed or\n",
       "  not enabled. See the <a href=\"https://ipywidgets.readthedocs.io/en/stable/user_install.html\">Jupyter\n",
       "  Widgets Documentation</a> for setup instructions.\n",
       "</p>\n",
       "<p>\n",
       "  If you're reading this message in another frontend (for example, a static\n",
       "  rendering on GitHub or <a href=\"https://nbviewer.jupyter.org/\">NBViewer</a>),\n",
       "  it may mean that your frontend doesn't currently support widgets.\n",
       "</p>\n"
      ],
      "text/plain": [
       "Button(button_style='info', description='Question #1', layout=Layout(height='60px', width='25%'), style=ButtonStyle())"
      ]
     },
     "metadata": {},
     "output_type": "display_data"
    }
   ],
   "source": [
    "question1 = widgets.Button(description = \"Question #1\", \n",
    "                           layout = Layout(width = '25%', height = '60px'),\n",
    "                           button_style = 'info'\n",
    "                          )\n",
    "display(question1)\n",
    "q1answer = widgets.Button(description = \"Show Answer\")\n",
    "\n",
    "def q1check(b):\n",
    "    display(Latex(\"What is the probability of landing on the $8$?\"))\n",
    "    display(q1answer)\n",
    "    return\n",
    "question1.on_click(q1check)\n",
    "\n",
    "def q1ans(b):\n",
    "    display(Latex(\"We first start with the probability of landing in the red circle, $p = \\\\frac{1}{4}$\"))\n",
    "    display(Latex(\"The probability of landing in the blue circle (not red) is: $1-p = \\\\frac{3}{4}$\"))\n",
    "    display(Latex(\"Since the blue circle is divided into $6$ equal parts, one of which being the $8$, we simply \\\n",
    "    divide this probability by $6$.\"))\n",
    "    display(Latex(\"Thus the probability of landing on the $8$ is given by: $\\\\frac{3}{4 \\\\times 6} = \\\\frac{3}{24} = \\\\frac{1}{8}$\"))\n",
    "    return\n",
    "\n",
    "q1answer.on_click(q1ans)\n",
    "    "
   ]
  },
  {
   "cell_type": "code",
   "execution_count": 8,
   "metadata": {},
   "outputs": [
    {
     "data": {
      "application/vnd.jupyter.widget-view+json": {
       "model_id": "191426961ed9442899ea86ae0d0cd3f1",
       "version_major": 2,
       "version_minor": 0
      },
      "text/html": [
       "<p>Failed to display Jupyter Widget of type <code>Button</code>.</p>\n",
       "<p>\n",
       "  If you're reading this message in the Jupyter Notebook or JupyterLab Notebook, it may mean\n",
       "  that the widgets JavaScript is still loading. If this message persists, it\n",
       "  likely means that the widgets JavaScript library is either not installed or\n",
       "  not enabled. See the <a href=\"https://ipywidgets.readthedocs.io/en/stable/user_install.html\">Jupyter\n",
       "  Widgets Documentation</a> for setup instructions.\n",
       "</p>\n",
       "<p>\n",
       "  If you're reading this message in another frontend (for example, a static\n",
       "  rendering on GitHub or <a href=\"https://nbviewer.jupyter.org/\">NBViewer</a>),\n",
       "  it may mean that your frontend doesn't currently support widgets.\n",
       "</p>\n"
      ],
      "text/plain": [
       "Button(button_style='info', description='Question #2', layout=Layout(height='60px', width='25%'), style=ButtonStyle())"
      ]
     },
     "metadata": {},
     "output_type": "display_data"
    }
   ],
   "source": [
    "question2 = widgets.Button(description = \"Question #2\", \n",
    "                           layout = Layout(width = '25%', height = '60px'),\n",
    "                           button_style = 'info'\n",
    "                          )\n",
    "display(question2)\n",
    "q2answer = widgets.Button(description = \"Show Answer\")\n",
    "\n",
    "def q2check(b):\n",
    "    display(Latex(\"What is the probability of landing on an even number?\"))\n",
    "    display(q2answer)\n",
    "    return\n",
    "question2.on_click(q2check)\n",
    "\n",
    "def q2ans(b):\n",
    "    \n",
    "    display(Latex(\"So there's an easy way and a hard way to solve this problem. \\\n",
    "                  Let's start with the more difficult approach.\"))\n",
    "    display(Latex(\"Let's just divide up the probabilities for each colour of the dartboard:\"))\n",
    "    display(Latex(\"The probability of landing in the red circle is $\\\\frac{1}{4}$ and \\\n",
    "                  half of the red circle contains even numbers.\"))\n",
    "    display(Latex(\"Thus the probability of landing on an even number in the red circle is $\\\\frac{1}{8}$\"))\n",
    "    display(Latex(\"The probability of landing on the blue annulus is $\\\\frac{3}{4}$.\"))\n",
    "    display(Latex(\"Thus by the same analysis, the probability of landing on an even number in the blue portion is \\\n",
    "                  $\\\\frac{3}{8}$.\"))\n",
    "    display(Latex(\"Since these regions contain no intersection, we simply add the two probabilities: \\\n",
    "                  $\\\\frac{3}{8} + \\\\frac{1}{8} = \\\\frac{1}{2}$.\"))\n",
    "    display(Latex(\"The easy way: Exactly half the board contains an even number...\"))\n",
    "    return\n",
    "\n",
    "q2answer.on_click(q2ans)\n",
    "    "
   ]
  },
  {
   "cell_type": "code",
   "execution_count": 9,
   "metadata": {},
   "outputs": [
    {
     "data": {
      "application/vnd.jupyter.widget-view+json": {
       "model_id": "4f74ce63c5514bde8f30d3c0b957ad12",
       "version_major": 2,
       "version_minor": 0
      },
      "text/html": [
       "<p>Failed to display Jupyter Widget of type <code>Button</code>.</p>\n",
       "<p>\n",
       "  If you're reading this message in the Jupyter Notebook or JupyterLab Notebook, it may mean\n",
       "  that the widgets JavaScript is still loading. If this message persists, it\n",
       "  likely means that the widgets JavaScript library is either not installed or\n",
       "  not enabled. See the <a href=\"https://ipywidgets.readthedocs.io/en/stable/user_install.html\">Jupyter\n",
       "  Widgets Documentation</a> for setup instructions.\n",
       "</p>\n",
       "<p>\n",
       "  If you're reading this message in another frontend (for example, a static\n",
       "  rendering on GitHub or <a href=\"https://nbviewer.jupyter.org/\">NBViewer</a>),\n",
       "  it may mean that your frontend doesn't currently support widgets.\n",
       "</p>\n"
      ],
      "text/plain": [
       "Button(button_style='info', description='Question #3', layout=Layout(height='60px', width='25%'), style=ButtonStyle())"
      ]
     },
     "metadata": {},
     "output_type": "display_data"
    }
   ],
   "source": [
    "question3 = widgets.Button(description = \"Question #3\", \n",
    "                           layout = Layout(width = '25%', height = '60px'),\n",
    "                           button_style = 'info'\n",
    "                          )\n",
    "display(question3)\n",
    "q3answer = widgets.Button(description = \"Show Answer\")\n",
    "\n",
    "def q3check(b):\n",
    "    display(Latex(\"What is the probability of landing on a $1$ and then a $10$?\"))\n",
    "    display(q3answer)\n",
    "    return\n",
    "question3.on_click(q3check)\n",
    "\n",
    "def q3ans(b):\n",
    "    \n",
    "    display(Latex(\"First off, we note that the two events are independent from \\\n",
    "    one another. Next we have to calculate the probability of each event.\"))\n",
    "    display(Latex(\"The probability to land on the $1$ is $\\\\frac{1}{24}$ and the probability of hitting the ten is \\\n",
    "                  $\\\\frac{1}{8}$.\"))\n",
    "    display(Latex(\"We then multiply the two probabilities together to obtain the probability of these events \\\n",
    "    happening in succession to obtain:\"))\n",
    "    display(Latex(\"$\\\\frac{1}{24} \\\\times \\\\frac{1}{8} = \\\\frac{1}{192}$.\"))\n",
    "    \n",
    "    return\n",
    "\n",
    "q3answer.on_click(q3ans)\n",
    "    "
   ]
  },
  {
   "cell_type": "markdown",
   "metadata": {},
   "source": [
    "This dartboard example can also be used to interpret the different ways of assessing the validity of these statements. Use the frequentist approach to experimentally determine the probability of landing on the red circle or on a certain number. Remember that the frequentist assumes no prior knowledge about the dartboard; it requires collecting data. Note where the random throws lands, keep track of both the number of throw $N$ and the number of times, $m$ they land on the red circle. How many throws until $\\frac{m}{N} \\approx \\frac{1}{4}$? \n",
    "\n",
    "Remember that the frequentist approach relies on large data sets! See if the there is convergence towards $\\frac{1}{4}$ after 20 throws. "
   ]
  },
  {
   "cell_type": "markdown",
   "metadata": {},
   "source": [
    "## Odds and Probability examples\n",
    "\n",
    "There are, in fact, many decisions in society that are based on probabilistic reasoning and the assessment of odds. It is important in all types of industries to understand the odds relevant to them. Let's look at some specific examples:\n",
    "\n",
    "## <center>Sports</center>\n",
    "\n",
    "Take for example, sports betting, a multi-million dollar industry, purely based on odds and probabilistic reasoning. "
   ]
  },
  {
   "cell_type": "code",
   "execution_count": 10,
   "metadata": {},
   "outputs": [],
   "source": [
    "#probability of contracting Dengue fever\n",
    "#odds on getting bit by a shark\n",
    "#odds on "
   ]
  },
  {
   "cell_type": "markdown",
   "metadata": {},
   "source": [
    "## <center>Biology</center>\n",
    "\n",
    "Let's assess some statements about the chances of contracting a certain disease. "
   ]
  },
  {
   "cell_type": "code",
   "execution_count": null,
   "metadata": {},
   "outputs": [],
   "source": []
  },
  {
   "cell_type": "markdown",
   "metadata": {},
   "source": [
    "## Making Decisions"
   ]
  },
  {
   "cell_type": "code",
   "execution_count": 11,
   "metadata": {},
   "outputs": [],
   "source": [
    "#make some more practice problems surrounding the dartboard example"
   ]
  },
  {
   "cell_type": "markdown",
   "metadata": {},
   "source": [
    "<img src = \"https://callysto.ca/wp-content/uploads/2018/07/Callysto-Notebook-Banner_Bottom_07.30.18.jpg\">"
   ]
  }
 ],
 "metadata": {
  "kernelspec": {
   "display_name": "Python 3",
   "language": "python",
   "name": "python3"
  },
  "language_info": {
   "codemirror_mode": {
    "name": "ipython",
    "version": 3
   },
   "file_extension": ".py",
   "mimetype": "text/x-python",
   "name": "python",
   "nbconvert_exporter": "python",
   "pygments_lexer": "ipython3",
   "version": "3.6.5"
  }
 },
 "nbformat": 4,
 "nbformat_minor": 2
}

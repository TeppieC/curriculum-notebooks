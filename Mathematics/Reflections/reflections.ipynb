{
 "cells": [
  {
   "cell_type": "code",
   "execution_count": 1,
   "metadata": {},
   "outputs": [],
   "source": [
    "from reflection_functions import *"
   ]
  },
  {
   "cell_type": "code",
   "execution_count": 2,
   "metadata": {},
   "outputs": [
    {
     "data": {
      "text/html": [
       "\n",
       "<script src=\"https://cdn.geogebra.org/apps/deployggb.js\"></script>"
      ],
      "text/plain": [
       "<IPython.core.display.HTML object>"
      ]
     },
     "metadata": {},
     "output_type": "display_data"
    }
   ],
   "source": [
    "%%html\n",
    "\n",
    "<script src=\"https://cdn.geogebra.org/apps/deployggb.js\"></script>"
   ]
  },
  {
   "cell_type": "markdown",
   "metadata": {},
   "source": [
    "# Reflections of Graphs\n",
    "\n",
    "## Introduction\n",
    "\n",
    "Imagine looking into a large mirror.\n",
    "Your reflection appears to be on the other side of the mirror,\n",
    "and it appears to be as far from the mirror's surface as you are.\n",
    "In order to see your reflection, you have to look at the mirror straight on.\n",
    "If you look at the mirror at an angle, you don't see yourself (except maybe in your peripheral vision).\n",
    "You see a maybe a nearby wall, or a shower curtain.\n",
    "\n",
    "Now we let's see how the reflection of a point across a line is just like your reflection in a mirror.\n",
    "The applet below shows a point $P$ and its reflection $P'$ across a line.\n",
    "Try moving $P$ and the line and see how $P'$ changes."
   ]
  },
  {
   "cell_type": "code",
   "execution_count": 31,
   "metadata": {},
   "outputs": [
    {
     "data": {
      "text/html": [
       "\n",
       "<div id=\"ggb-element1\"></div>\n",
       "\n",
       "<script>\n",
       "  var ggbApp = new GGBApplet({\n",
       "      \"width\": 400,\n",
       "      \"height\": 400,\n",
       "      \"showToolBar\": false,\n",
       "      \"showMenuBar\": false,\n",
       "      \"showAlgebraInput\": false,\n",
       "      \"showResetIcon\": true,\n",
       "      \"enableLabelDrags\": false,\n",
       "      \"enableRightClick\": false,\n",
       "      \"enableShiftDragZoom\": true,\n",
       "      \"useBrowserForJS\": false,\n",
       "      \"filename\": \"geogebra/reflection-point.ggb\"\n",
       "  }, 'ggb-element1');\n",
       "\n",
       "  ggbApp.inject();\n",
       "</script>"
      ],
      "text/plain": [
       "<IPython.core.display.HTML object>"
      ]
     },
     "metadata": {},
     "output_type": "display_data"
    }
   ],
   "source": [
    "%%html\n",
    "\n",
    "<div id=\"ggb-element1\"></div>\n",
    "\n",
    "<script>\n",
    "  var ggbApp = new GGBApplet({\n",
    "      \"width\": 400,\n",
    "      \"height\": 400,\n",
    "      \"showToolBar\": false,\n",
    "      \"showMenuBar\": false,\n",
    "      \"showAlgebraInput\": false,\n",
    "      \"showResetIcon\": true,\n",
    "      \"enableLabelDrags\": false,\n",
    "      \"enableRightClick\": false,\n",
    "      \"enableShiftDragZoom\": true,\n",
    "      \"useBrowserForJS\": false,\n",
    "      \"filename\": \"geogebra/reflection-point.ggb\"\n",
    "  }, 'ggb-element1');\n",
    "\n",
    "  ggbApp.inject();\n",
    "</script>"
   ]
  },
  {
   "cell_type": "markdown",
   "metadata": {},
   "source": [
    "Whichever side of the line $P$ is on, its reflection $P'$ is on the opposite side.\n",
    "The point $P$ is as far from the line as $P'$ is.\n",
    "If we were to draw a line from $P$ to $P'$, this line would intersect the line we are reflecting across at a right angle; to \"see\" $P'$, $P$ has to look at the line straight on.\n",
    "\n",
    "The applet shows the reflection of a point across any line.\n",
    "In this notebook, we will learn how to reflect a point across three particular lines:\n",
    "the $x$-axis, the $y$-axis, and the line $y = x$.\n",
    "We will also learn how to reflect functions and graphs of functions across these lines.\n",
    "Reflecting across other lines will be outside the scope of this notebook.\n"
   ]
  },
  {
   "cell_type": "markdown",
   "metadata": {},
   "source": [
    "## Reflections across the $x$-axis\n",
    "\n",
    "### Points\n",
    "\n",
    "The easiest line to reflect across is the $x$-axis.\n",
    "You might already have an idea of where the reflection of a point across the $x$-axis ought to be.\n",
    "Let's test your intuition.\n",
    "In the applet below, there are three blue points, $A$, $B$, and $C$.\n",
    "There are three more red points, $A'$, $B'$, and $C'$ that are supposed to be their reflections,\n",
    "but they are in the wrong place.\n",
    "Try moving $A'$, $B'$, and $C'$ to where you think they belong.\n",
    "You will see a message if you got it right.\n",
    "\n",
    "It might help play with the applet above again and observe what happens when the line is horizontal.\n",
    "You can also keep reading and come back to this exercise later."
   ]
  },
  {
   "cell_type": "code",
   "execution_count": 20,
   "metadata": {},
   "outputs": [
    {
     "data": {
      "text/html": [
       "\n",
       "<div id=\"ggb-element2\"></div>\n",
       "\n",
       "<script>\n",
       "  var ggbApp = new GGBApplet({\n",
       "      \"width\": 600,\n",
       "      \"height\": 600,\n",
       "      \"showToolBar\": false,\n",
       "      \"showMenuBar\": false,\n",
       "      \"showAlgebraInput\": false,\n",
       "      \"showResetIcon\": true,\n",
       "      \"enableLabelDrags\": false,\n",
       "      \"enableShiftDragZoom\": true,\n",
       "      \"enableRightClick\": false,\n",
       "      \"useBrowserForJS\": false,\n",
       "      \"filename\": \"geogebra/reflection-exercise1.ggb\"\n",
       "  }, 'ggb-element2');\n",
       "\n",
       "  ggbApp.inject();\n",
       "</script>"
      ],
      "text/plain": [
       "<IPython.core.display.HTML object>"
      ]
     },
     "metadata": {},
     "output_type": "display_data"
    }
   ],
   "source": [
    "%%html\n",
    "\n",
    "<div id=\"ggb-element2\"></div>\n",
    "\n",
    "<script>\n",
    "  var ggbApp = new GGBApplet({\n",
    "      \"width\": 600,\n",
    "      \"height\": 600,\n",
    "      \"showToolBar\": false,\n",
    "      \"showMenuBar\": false,\n",
    "      \"showAlgebraInput\": false,\n",
    "      \"showResetIcon\": true,\n",
    "      \"enableLabelDrags\": false,\n",
    "      \"enableShiftDragZoom\": true,\n",
    "      \"enableRightClick\": false,\n",
    "      \"useBrowserForJS\": false,\n",
    "      \"filename\": \"geogebra/reflection-exercise1.ggb\"\n",
    "  }, 'ggb-element2');\n",
    "\n",
    "  ggbApp.inject();\n",
    "</script>"
   ]
  },
  {
   "cell_type": "markdown",
   "metadata": {},
   "source": [
    "If you were able to solve the exercise, you might already have guessed the following facts:\n",
    "\n",
    "* A point and its reflection across the $x$-axis have the same $x$-coordinate.\n",
    "\n",
    "This is because the line from a point to its reflection across the $x$-axis\n",
    "has to intersect the $x$-axis at a right angle. \n",
    "Since the $x$-axis is perfectly horizontal,\n",
    "this line from point to point has to be perfectly vertical,\n",
    "which means the points are directly above one another, so they have the same $x$-coordinate.\n",
    "\n",
    "* A point and its reflection across the $x$-axis have equal but opposite $y$-coordinates.\n",
    "\n",
    "What is meant by that is if a point has a $y$-coordinate of, say, 17,\n",
    "its reflection has the $y$-coordinate -17.\n",
    "More generally, if a point has a $y$-coordinate of $a$, its reflection has the $y$-coordinate $-a$.\n",
    "This follows from the fact that the two points are on opposite sides of the $x$-axis\n",
    "(so one is positive and the other negative, unless the points are *on* the $x$-axis)\n",
    "and the fact that the two points are equally distant from the $x$-axis.\n",
    "\n",
    "Putting these two facts together, we get the following rule:\n",
    "\n",
    "**Rule:** For an arbitrary point $(x, y)$, its reflection across the $x$-axis is the point $(x, -y)$.\n",
    "\n",
    "**Example:** Consider the point $P = (1, 3)$.\n",
    "Let's call its reflection $P'$.\n",
    "Then $P'$ has the same $x$-coordinate as $P$, but its $y$-coordinate is the negative of $P$'s.\n",
    "This means $P' = (1, -3)$.\n",
    "\n",
    "**Example:** Suppose we have instead the point $P = (2, 0)$.\n",
    "This point is *on* the $x$-axis.\n",
    "Since $-0 = 0$, its reflection is $P' = (2, 0)$.\n",
    "If we have a point on the $x$-axis and we reflect it across the $x$-axis, we get the same point back.\n",
    "It is its own reflection."
   ]
  },
  {
   "cell_type": "markdown",
   "metadata": {},
   "source": [
    "### Graphs\n",
    "\n",
    "In the previous exercise, not only did we reflect three points,\n",
    "but we also plotted the reflection of a triangle.\n",
    "We can reflect points, triangles, and many other shapes and objects.\n",
    "Now we will see how to reflect the graph of a function.\n",
    "\n",
    "The graph of a function is just a bunch of points --\n",
    "so many points packed closely together that it looks like a single curve.\n",
    "To reflect the graph, we just have to reflect all of the points!\n",
    "\n",
    "Below, in blue, is the graph of some function $y = f(x)$\n",
    "and a few of the points making up its graph.\n",
    "The reflection of these points is in red.\n",
    "Use the slider to see what happens when we take and reflect more and more points on the graph."
   ]
  },
  {
   "cell_type": "code",
   "execution_count": 21,
   "metadata": {},
   "outputs": [
    {
     "data": {
      "text/html": [
       "\n",
       "<div id=\"ggb-element3\"></div>\n",
       "\n",
       "<script>\n",
       "  var ggbApp = new GGBApplet({\n",
       "      \"width\": 600,\n",
       "      \"height\": 600,\n",
       "      \"showToolBar\": false,\n",
       "      \"showMenuBar\": false,\n",
       "      \"showAlgebraInput\": false,\n",
       "      \"showResetIcon\": true,\n",
       "      \"enableLabelDrags\": false,\n",
       "      \"enableRightClick\": false,\n",
       "      \"enableShiftDragZoom\": true,\n",
       "      \"useBrowserForJS\": false,\n",
       "      \"filename\": \"geogebra/reflection-slider1.ggb\"\n",
       "  }, 'ggb-element3');\n",
       "\n",
       "  ggbApp.inject();\n",
       "</script>"
      ],
      "text/plain": [
       "<IPython.core.display.HTML object>"
      ]
     },
     "metadata": {},
     "output_type": "display_data"
    }
   ],
   "source": [
    "%%html\n",
    "\n",
    "<div id=\"ggb-element3\"></div>\n",
    "\n",
    "<script>\n",
    "  var ggbApp = new GGBApplet({\n",
    "      \"width\": 600,\n",
    "      \"height\": 600,\n",
    "      \"showToolBar\": false,\n",
    "      \"showMenuBar\": false,\n",
    "      \"showAlgebraInput\": false,\n",
    "      \"showResetIcon\": true,\n",
    "      \"enableLabelDrags\": false,\n",
    "      \"enableRightClick\": false,\n",
    "      \"enableShiftDragZoom\": true,\n",
    "      \"useBrowserForJS\": false,\n",
    "      \"filename\": \"geogebra/reflection-slider1.ggb\"\n",
    "  }, 'ggb-element3');\n",
    "\n",
    "  ggbApp.inject();\n",
    "</script>"
   ]
  },
  {
   "cell_type": "markdown",
   "metadata": {},
   "source": [
    "If we only reflect a few points, the red dots don't look like much,\n",
    "but as we reflect more and more points, the red dots start to resemble the blue curve but flipped upside-down.\n",
    "This is the reflection of the graph across the $x$-axis.\n",
    "Or more accurately, if we had the time to sample and reflect infinitely many points, we would get the reflection of the graph.\n",
    "Usually, it will suffice to sample and reflect a few points and connect the dots with a curve.\n",
    "(Even computer programs that graph functions typically just plot a bunch of points and connect them by straight lines, but they plot so many points that it looks accurate.)\n",
    "\n",
    "**Example:** Let's reflect the graph of $y = \\log_2(x)$ across the $x$-axis.\n",
    "We start by identifying a few points on the graph of $y = \\log_2(x)$.\n",
    "We know, for example, that $(1,0)$, $(2,1)$, $(4,2)$, and $(8,3)$ are points on the graph.\n",
    "Their reflections are $(1, 0)$, $(2,-1)$, $(4,-2)$, and $(8,-3)$, respectively.\n",
    "Then we connect these points by a curve."
   ]
  },
  {
   "cell_type": "code",
   "execution_count": 37,
   "metadata": {},
   "outputs": [
    {
     "data": {
      "image/png": "[encoded data removed]",
      "text/plain": [
       "<matplotlib.figure.Figure at 0x7febb2152908>"
      ]
     },
     "metadata": {},
     "output_type": "display_data"
    }
   ],
   "source": [
    "\n",
    "def draw():\n",
    "    def g(x):\n",
    "        return log(x,2)\n",
    "    f = np.vectorize(g)\n",
    "    xmin, xmax = 0.01, 10\n",
    "    nsamples = 100 #2*(xmax - xmin) - 1\n",
    "    x = np.linspace(xmin, xmax, nsamples)\n",
    "\n",
    "    plt.axhline(color=\"black\", linewidth=1)\n",
    "    plt.axvline(color=\"black\", linewidth=1)\n",
    "    plt.ylim(-5, 5)\n",
    "    plt.plot(x, f(x), label=\"$y = \\log_2(x)$\")\n",
    "    plt.plot(x, -f(x), label=\"Reflection of $y = \\log_2(x)$\", color=\"red\", sketch_params=0.8)\n",
    "    pts = {(1,0), (2,1), (4,2), (8,3)}\n",
    "    plot_and_reflect_points(pts, \"x-axis\", set_bounds=False)\n",
    "    plt.legend(loc='upper center', bbox_to_anchor=(1.45, 0.8))\n",
    "\n",
    "draw()"
   ]
  },
  {
   "cell_type": "markdown",
   "metadata": {},
   "source": [
    "### Functions\n",
    "\n",
    "We have reflected points and graphs across the $x$-axis.\n",
    "These were both geometric ideas.\n",
    "Now we will reflect functions themselves,\n",
    "and we start with the observation that the reflection of the graph $y = \\log_2(x)$ in the last example\n",
    "is precisely the graph of the function $y = -\\log_2(x)$.\n",
    "\n",
    "If we have an arbitrary function $y = f(x)$,\n",
    "its graph is all of the points of the form $(x, f(x))$.\n",
    "To reflect these points across the $x$-axis, we negate their $y$-coordinates,\n",
    "so the reflection of the graph is all of the points of the form $(x, -f(x))$.\n",
    "But this is just the graph of the function $y = -f(x)$!\n",
    "\n",
    "**Rule:** The reflection of a function $y = f(x)$ across the $x$-axis is the function $y = -f(x)$.\n",
    "\n",
    "**Example:** Suppose we have the function $y = x^2$ and we want to reflect it across the $x$-axis.\n",
    "All we have to do is negate the right hand side of the equation.\n",
    "The reflection is simply\n",
    "    $$ y = -(x^2) = -x^2. $$\n",
    "\n",
    "**Example:** Suppose we have the function $y = \\sin(x) - x$ instead.\n",
    "Again, we just negate the right hand side of the equation,\n",
    "but make sure to negate *all* of the terms and be careful with double negatives.\n",
    "This time, the reflection across the $x$-axis is\n",
    "    $$ y = -(\\sin(x) - x) = -\\sin(x) + x. $$\n",
    "\n",
    "The interactive graph below allows you to enter an arbitrary function $f(x)$ and see its graph and its reflection across the $x$-axis."
   ]
  },
  {
   "cell_type": "code",
   "execution_count": 22,
   "metadata": {
    "scrolled": false
   },
   "outputs": [
    {
     "data": {
      "text/html": [
       "\n",
       "<div id=\"ggb-element4\"></div>\n",
       "\n",
       "<script>\n",
       "  var ggbApp = new GGBApplet({\n",
       "      \"width\": 600,\n",
       "      \"height\": 600,\n",
       "      \"showToolBar\": false,\n",
       "      \"showMenuBar\": false,\n",
       "      \"showAlgebraInput\": false,\n",
       "      \"showResetIcon\": true,\n",
       "      \"enableLabelDrags\": true,\n",
       "      \"enableShiftDragZoom\": true,\n",
       "      \"enableRightClick\": false,\n",
       "      \"useBrowserForJS\": false,\n",
       "      \"filename\": \"geogebra/reflection-interactive1.ggb\"\n",
       "  }, 'ggb-element4');\n",
       "\n",
       "  ggbApp.inject();\n",
       "</script>"
      ],
      "text/plain": [
       "<IPython.core.display.HTML object>"
      ]
     },
     "metadata": {},
     "output_type": "display_data"
    }
   ],
   "source": [
    "%%html\n",
    "\n",
    "<div id=\"ggb-element4\"></div>\n",
    "\n",
    "<script>\n",
    "  var ggbApp = new GGBApplet({\n",
    "      \"width\": 600,\n",
    "      \"height\": 600,\n",
    "      \"showToolBar\": false,\n",
    "      \"showMenuBar\": false,\n",
    "      \"showAlgebraInput\": false,\n",
    "      \"showResetIcon\": true,\n",
    "      \"enableLabelDrags\": true,\n",
    "      \"enableShiftDragZoom\": true,\n",
    "      \"enableRightClick\": false,\n",
    "      \"useBrowserForJS\": false,\n",
    "      \"filename\": \"geogebra/reflection-interactive1.ggb\"\n",
    "  }, 'ggb-element4');\n",
    "\n",
    "  ggbApp.inject();\n",
    "</script>"
   ]
  },
  {
   "cell_type": "markdown",
   "metadata": {},
   "source": [
    "## Reflections across the $y$-axis\n",
    "\n",
    "### Points\n",
    "\n",
    "Now that we know how to reflect points, graphs, and functions across the $x$-axis,\n",
    "we will see how to reflect them across the $y$-axis instead.\n",
    "Geometrically, the idea is the same as before.\n",
    "A point and its reflection are on opposite sides of the $y$-axis,\n",
    "and both are the same distance away from the $y$-axis.\n",
    "The line between them intersects the $y$-axis at a right angle.\n",
    "Since the the $y$-axis is vertical, this line intersecting it is horizontal,\n",
    "so the point's reflection must be directly to the left or right of it.\n",
    "Therefore the point and its reflection have the same $y$-coordinate.\n",
    "\n",
    "Before seeing the \"rule\" for reflecting a point across the $y$-axis,\n",
    "try this exercise to test your intuition and understanding.\n",
    "Click and drag the points $A'$, $B'$, and $C'$ so that they are the reflections across the $y$-axis\n",
    "of $A$, $B$, and $C$, respectively."
   ]
  },
  {
   "cell_type": "code",
   "execution_count": 24,
   "metadata": {},
   "outputs": [
    {
     "data": {
      "text/html": [
       "\n",
       "<div id=\"ggb-element5\"></div>\n",
       "\n",
       "<script>\n",
       "  var ggbApp = new GGBApplet({\n",
       "      \"width\": 600,\n",
       "      \"height\": 600,\n",
       "      \"showToolBar\": false,\n",
       "      \"showMenuBar\": false,\n",
       "      \"showAlgebraInput\": false,\n",
       "      \"showResetIcon\": true,\n",
       "      \"enableLabelDrags\": true,\n",
       "      \"enableShiftDragZoom\": true,\n",
       "      \"enableRightClick\": false,\n",
       "      \"useBrowserForJS\": false,\n",
       "      \"filename\": \"geogebra/reflection-exercise2.ggb\"\n",
       "  }, 'ggb-element5');\n",
       "\n",
       "  ggbApp.inject();\n",
       "</script>"
      ],
      "text/plain": [
       "<IPython.core.display.HTML object>"
      ]
     },
     "metadata": {},
     "output_type": "display_data"
    }
   ],
   "source": [
    "%%html\n",
    "\n",
    "<div id=\"ggb-element5\"></div>\n",
    "\n",
    "<script>\n",
    "  var ggbApp = new GGBApplet({\n",
    "      \"width\": 600,\n",
    "      \"height\": 600,\n",
    "      \"showToolBar\": false,\n",
    "      \"showMenuBar\": false,\n",
    "      \"showAlgebraInput\": false,\n",
    "      \"showResetIcon\": true,\n",
    "      \"enableLabelDrags\": true,\n",
    "      \"enableShiftDragZoom\": true,\n",
    "      \"enableRightClick\": false,\n",
    "      \"useBrowserForJS\": false,\n",
    "      \"filename\": \"geogebra/reflection-exercise2.ggb\"\n",
    "  }, 'ggb-element5');\n",
    "\n",
    "  ggbApp.inject();\n",
    "</script>"
   ]
  },
  {
   "cell_type": "markdown",
   "metadata": {},
   "source": [
    "**Rule:** For an arbitrary point $(x, y)$, its reflection across the $y$-axis is the point $(-x, y)$.\n",
    "\n",
    "**Example:** Consider the point $P = (1, 3)$ and its reflection across the $y$-axis, $P'$.\n",
    "The points $P$ and $P'$ have the same $y$-coordinates, but their $x$-coordinates are negatives of one another.\n",
    "So $P' = (-1, 3)$.\n",
    "\n",
    "**Example:** Suppose we have instead the point $P = (0, 2)$.\n",
    "This point is on the $y$-axis.\n",
    "Since $-0 = 0$, its reflection is $P' = (0, 2)$.\n",
    "If we have a point on the $y$-axis and we reflect it across the $y$-axis, we get the same point back.\n"
   ]
  },
  {
   "cell_type": "markdown",
   "metadata": {},
   "source": [
    "### Graphs\n",
    "\n",
    "To reflect a graph across the $y$-axis, we do just like before.\n",
    "In theory, we think of the graph as consisting of infinitely many points,\n",
    "and we draw the reflection across the $y$-axis of each of these points to get the graphs reflection.\n",
    "In practice, because life is short, we reflect a few points and connect them by a curve.\n",
    "The more points we reflect, the more accurately we can draw the reflection of the graph."
   ]
  },
  {
   "cell_type": "code",
   "execution_count": 25,
   "metadata": {},
   "outputs": [
    {
     "data": {
      "text/html": [
       "\n",
       "<div id=\"ggb-element6\"></div>\n",
       "\n",
       "<script>\n",
       "  var ggbApp = new GGBApplet({\n",
       "      \"width\": 600,\n",
       "      \"height\": 600,\n",
       "      \"showToolBar\": false,\n",
       "      \"showMenuBar\": false,\n",
       "      \"showAlgebraInput\": false,\n",
       "      \"showResetIcon\": true,\n",
       "      \"enableLabelDrags\": true,\n",
       "      \"enableShiftDragZoom\": true,\n",
       "      \"enableRightClick\": false,\n",
       "      \"useBrowserForJS\": false,\n",
       "      \"filename\": \"geogebra/reflection-slider2.ggb\"\n",
       "  }, 'ggb-element6');\n",
       "\n",
       "  ggbApp.inject();\n",
       "</script>"
      ],
      "text/plain": [
       "<IPython.core.display.HTML object>"
      ]
     },
     "metadata": {},
     "output_type": "display_data"
    }
   ],
   "source": [
    "%%html\n",
    "\n",
    "<div id=\"ggb-element6\"></div>\n",
    "\n",
    "<script>\n",
    "  var ggbApp = new GGBApplet({\n",
    "      \"width\": 600,\n",
    "      \"height\": 600,\n",
    "      \"showToolBar\": false,\n",
    "      \"showMenuBar\": false,\n",
    "      \"showAlgebraInput\": false,\n",
    "      \"showResetIcon\": true,\n",
    "      \"enableLabelDrags\": true,\n",
    "      \"enableShiftDragZoom\": true,\n",
    "      \"enableRightClick\": false,\n",
    "      \"useBrowserForJS\": false,\n",
    "      \"filename\": \"geogebra/reflection-slider2.ggb\"\n",
    "  }, 'ggb-element6');\n",
    "\n",
    "  ggbApp.inject();\n",
    "</script>"
   ]
  },
  {
   "cell_type": "markdown",
   "metadata": {},
   "source": [
    "### Functions\n",
    "\n",
    "In the same way that we reflected the function $y = f(x)$ across the $x$-axis to get $y = -f(x)$,\n",
    "we can also reflect the function across the $y$-axis.\n",
    "An arbitrary point on the graph of $y = f(x)$ has the form $(x, f(x))$.\n",
    "Using the rule above, the reflection of an arbitrary point on the graph is of the form $(-x, f(x))$.\n",
    "But $(-x, f(x))$ has the same \"form\" as $(x, f(-x))$, and points of *this* form make up the graph of $y = f(-x)$.\n",
    "\n",
    "**Rule:** The reflection of a function $y = f(x)$ across the $y$-axis is $y = f(-x)$.\n",
    "\n",
    "This means we just have to replace $x$ with $-x$ everywhere in our function.\n",
    "Let's do a couple of examples.\n",
    "We reflected the following functions across the $x$-axis before.\n",
    "Let's reflect them across the $y$-axis instead.\n",
    "\n",
    "**Example:** Let's reflect $y = x^2$ across the $y$-axis.\n",
    "According to our rule, we just replace $x$ with $-x$,\n",
    "but we should be careful and put parentheses around it, like so: $(-x)$.\n",
    "The reflection is simply\n",
    "    $$ y = (-x)^2 = x^2. $$\n",
    "In this case, the reflection across the $y$-axis is the same as the original function.\n",
    "\n",
    "**Example:** Let's reflect the function $y = \\sin(x) - x$ across the $y$-axis.\n",
    "We replace every $x$ with $-x$ to get\n",
    "    $$ y = \\sin(-x) - (-x) = \\sin(-x) + x. $$\n",
    "This is a perfectly acceptable answer.\n",
    "You might have learned that $\\sin(-x) = -\\sin(x)$,\n",
    "so we could also rewrite this as\n",
    "    $$ y = -\\sin(x) + x $$\n",
    "if we prefer.\n",
    "You might also notice that this is the same answer that we got when we reflected it across the $x$-axis.\n",
    "Whether we reflect $y = \\sin(x) - x$ across the $x$-axis or the $y$-axis, we get the same result.\n",
    "\n",
    "Use the interactive graph below to plot any function with its reflection across the $y$-axis.\n",
    "As usual, the function will be in blue and its reflection in red."
   ]
  },
  {
   "cell_type": "code",
   "execution_count": 26,
   "metadata": {},
   "outputs": [
    {
     "data": {
      "text/html": [
       "\n",
       "<div id=\"ggb-element7\"></div>\n",
       "\n",
       "<script>\n",
       "  var ggbApp = new GGBApplet({\n",
       "      \"width\": 600,\n",
       "      \"height\": 600,\n",
       "      \"showToolBar\": false,\n",
       "      \"showMenuBar\": false,\n",
       "      \"showAlgebraInput\": false,\n",
       "      \"showResetIcon\": true,\n",
       "      \"enableLabelDrags\": true,\n",
       "      \"enableShiftDragZoom\": true,\n",
       "      \"enableRightClick\": false,\n",
       "      \"useBrowserForJS\": false,\n",
       "      \"filename\": \"geogebra/reflection-interactive2.ggb\"\n",
       "  }, 'ggb-element7');\n",
       "\n",
       "  ggbApp.inject();\n",
       "</script>"
      ],
      "text/plain": [
       "<IPython.core.display.HTML object>"
      ]
     },
     "metadata": {},
     "output_type": "display_data"
    }
   ],
   "source": [
    "%%html\n",
    "\n",
    "<div id=\"ggb-element7\"></div>\n",
    "\n",
    "<script>\n",
    "  var ggbApp = new GGBApplet({\n",
    "      \"width\": 600,\n",
    "      \"height\": 600,\n",
    "      \"showToolBar\": false,\n",
    "      \"showMenuBar\": false,\n",
    "      \"showAlgebraInput\": false,\n",
    "      \"showResetIcon\": true,\n",
    "      \"enableLabelDrags\": true,\n",
    "      \"enableShiftDragZoom\": true,\n",
    "      \"enableRightClick\": false,\n",
    "      \"useBrowserForJS\": false,\n",
    "      \"filename\": \"geogebra/reflection-interactive2.ggb\"\n",
    "  }, 'ggb-element7');\n",
    "\n",
    "  ggbApp.inject();\n",
    "</script>"
   ]
  },
  {
   "cell_type": "markdown",
   "metadata": {},
   "source": [
    "## Reflections across both axes\n",
    "\n",
    "If we reflect a point across the $x$-axis and then reflect it again, the twice-reflected point is in the same position as the original point.\n",
    "The same thing happens when we reflect a point twice across the $y$-axis.\n",
    "But what happens when we reflect a point across the $x$-axis and the across the $y$-axis?\n",
    "\n",
    "Let's work with an example.\n",
    "Suppose we start with the point $(1, 2)$.\n",
    "Its reflection across the $x$-axis is $(-1, 2)$.\n",
    "The reflection of *that* across the $y$-axis is $(-1, -2)$.\n",
    "\n",
    "What if we work with an arbitrary point whose coordinates we don't know?\n",
    "We start with the point $(x, y)$, then reflect it across the $x$-axis to get $(-x, y)$.\n",
    "The reflection of the new point across the $y$-axis is $(-x, -y)$.\n",
    "\n",
    "To reflect a point across the $x$-axis followed by the $y$-axis, we just negate both of the point's coordinates.\n",
    "Now check for yourself that if we reflected $(x, y)$ across the axes in the other order --\n",
    "the $y$-axis and then the $x$-axis --\n",
    "we still get the point $(-x, -y)$.\n",
    "The order we do the reflections in does not matter!\n",
    "\n",
    "Something interesting happens when we look at what happens graphically.\n",
    "Try playing with the following applet.\n",
    "Click and drag the point $P$ in blue.\n",
    "The red point $P'$ is the result of reflecting $P$ across both axes."
   ]
  },
  {
   "cell_type": "code",
   "execution_count": 36,
   "metadata": {},
   "outputs": [
    {
     "data": {
      "text/html": [
       "\n",
       "<div id=\"ggb-point2\"></div>\n",
       "\n",
       "<script>\n",
       "  var ggbApp = new GGBApplet({\n",
       "      \"width\": 400,\n",
       "      \"height\": 400,\n",
       "      \"showToolBar\": false,\n",
       "      \"showMenuBar\": false,\n",
       "      \"showAlgebraInput\": false,\n",
       "      \"showResetIcon\": true,\n",
       "      \"enableLabelDrags\": true,\n",
       "      \"enableShiftDragZoom\": true,\n",
       "      \"enableRightClick\": false,\n",
       "      \"useBrowserForJS\": false,\n",
       "      \"filename\": \"geogebra/reflection-point2.ggb\"\n",
       "  }, 'ggb-point2');\n",
       "\n",
       "  ggbApp.inject();\n",
       "</script>"
      ],
      "text/plain": [
       "<IPython.core.display.HTML object>"
      ]
     },
     "metadata": {},
     "output_type": "display_data"
    }
   ],
   "source": [
    "%%html\n",
    "\n",
    "<div id=\"ggb-point2\"></div>\n",
    "\n",
    "<script>\n",
    "  var ggbApp = new GGBApplet({\n",
    "      \"width\": 400,\n",
    "      \"height\": 400,\n",
    "      \"showToolBar\": false,\n",
    "      \"showMenuBar\": false,\n",
    "      \"showAlgebraInput\": false,\n",
    "      \"showResetIcon\": true,\n",
    "      \"enableLabelDrags\": true,\n",
    "      \"enableShiftDragZoom\": true,\n",
    "      \"enableRightClick\": false,\n",
    "      \"useBrowserForJS\": false,\n",
    "      \"filename\": \"geogebra/reflection-point2.ggb\"\n",
    "  }, 'ggb-point2');\n",
    "\n",
    "  ggbApp.inject();\n",
    "</script>"
   ]
  },
  {
   "cell_type": "markdown",
   "metadata": {},
   "source": [
    "Can you see what is happening?\n",
    "There are a couple of ways of thinking about the relationship between $P$ and $P'$ in this applet.\n",
    "One way is that $P'$ is the result of rotating $P$ 180 degrees around the origin.\n",
    "Another way is that $P'$ is the reflection of $P$ across the origin -- a line from $P$ to $P'$ passes through the origin and both points are equally distant from the origin."
   ]
  },
  {
   "cell_type": "markdown",
   "metadata": {},
   "source": [
    "## Even and odd functions\n",
    "\n",
    "Functions that are their own reflections across the $y$-axis have a special name.\n",
    "These are called **even** functions.\n",
    "Geometrically, this means the graph of the function is the same after we reflect it across the $y$-axis.\n",
    "What does this mean algebraically?\n",
    "An arbitrary point on the graph of the function looks like $(x, f(x))$.\n",
    "When we reflect it across the $y$-axis, we get the point $(-x, f(x))$.\n",
    "But because the graph is its own reflection, this has to be the same as the point $(-x, f(-x))$.\n",
    "If $(-x, f(x))$ and $(-x, f(-x))$ are the same point, that means $f(x) = f(-x)$.\n",
    "An even function is a function for which $f(x) = f(-x)$.\n",
    "Some example of even functions are\n",
    "* $f(x) = c$, where $c$ is any constant;\n",
    "* $f(x) = |x|$;\n",
    "* $f(x) = x^2$;\n",
    "* $f(x) = x^a$ where $a$ is any even power; and\n",
    "* $f(x) = \\cos(x)$.\n",
    "Earlier in this notebook, there was an interactive graph allowing you to enter a function and see its reflection across the $y$-axis.\n",
    "Try entering these functions and see how the functions and their reflections overlap.\n",
    "\n",
    "Functions that are their own 180-degree rotations around the origin also have a special name.\n",
    "They are called **odd** functions.\n",
    "Geometrically, this means if we graph the function and the rotate the graph 180 degrees about the origin,\n",
    "we get the same image.\n",
    "Like before, let's consider what this means algebraically.\n",
    "We start with an arbitrary point on the graph of the function, $(x, f(x))$.\n",
    "We rotate it 180 degrees (or equivalently, we reflect across the $x$-axis and then the $y$-axis) and get the point $(-x, -f(x))$.\n",
    "But since the graph is its own rotation, this is the same point as $(-x, f(-x))$.\n",
    "This means that $f(-x) = -f(x)$.\n",
    "So an odd function is a function for which $f(-x) = -f(x)$.\n",
    "Some examples of odd functions are\n",
    "* $f(x) = 0$;\n",
    "* $f(x) = x$;\n",
    "* $f(x) = x^a$ where $a$ is any odd power; and\n",
    "* $f(x) = \\sin(x)$.\n",
    "\n",
    "We don't have a special name for functions that are their own reflections across the $x$-axis.\n",
    "Why not?\n",
    "Because other than the function $f(x) = 0$, there is no such thing as a function that is its own reflection across the $x$-axis!\n",
    "Such a \"function\" would not pass the vertical line test.\n",
    "\n",
    "The only function that is both even and odd at the same time is $y = 0$.\n",
    "\n",
    "We are used to calling integers even and odd.\n",
    "It is strange to call functions even and odd,\n",
    "but there is a relationship between the two.\n",
    "* The product and quotient of two even functions is even, just like the sum and difference of even numbers is even.\n",
    "* The product and quotient of two odd functions is even, just like the sum and difference of odd numbers is even.\n",
    "* The product and quotient of an even and odd function is odd, just like the sum and difference of an even and odd number is odd.\n",
    "Be careful though, because the sum of two odd functions is odd, whereas the sum of two odd numbers is even."
   ]
  },
  {
   "cell_type": "markdown",
   "metadata": {},
   "source": [
    "## Reflections across the line $y = x$\n",
    "\n",
    "### Points\n",
    "\n",
    "The \"rule\" for reflecting across the line $y = x$ is not hard to use,\n",
    "but understanding why the rule works is harder to explain than for the previous two reflections.\n",
    "Let's state the rule first:\n",
    "\n",
    "**Rule:** The reflection of an arbitrary point $(x,y)$ across the line $y = x$ is the point $(y,x)$.\n",
    "\n",
    "We just swap the point's $x$- and $y$-coordinates.\n",
    "\n",
    "Try the following exercise.\n",
    "Move the points $A'$, $B'$, $C'$, and $D'$ so that they are the reflections of $A$, $B$, $C$, and $D$, respectively."
   ]
  },
  {
   "cell_type": "code",
   "execution_count": 28,
   "metadata": {},
   "outputs": [
    {
     "data": {
      "text/html": [
       "\n",
       "<div id=\"ggb-element8\"></div>\n",
       "\n",
       "<script>\n",
       "  var ggbApp = new GGBApplet({\n",
       "      \"width\": 600,\n",
       "      \"height\": 600,\n",
       "      \"showToolBar\": false,\n",
       "      \"showMenuBar\": false,\n",
       "      \"showAlgebraInput\": false,\n",
       "      \"showResetIcon\": true,\n",
       "      \"enableLabelDrags\": true,\n",
       "      \"enableShiftDragZoom\": true,\n",
       "      \"enableRightClick\": false,\n",
       "      \"useBrowserForJS\": false,\n",
       "      \"filename\": \"geogebra/reflection-exercise3.ggb\"\n",
       "  }, 'ggb-element8');\n",
       "\n",
       "  ggbApp.inject();\n",
       "</script>"
      ],
      "text/plain": [
       "<IPython.core.display.HTML object>"
      ]
     },
     "metadata": {},
     "output_type": "display_data"
    }
   ],
   "source": [
    "%%html\n",
    "\n",
    "<div id=\"ggb-element8\"></div>\n",
    "\n",
    "<script>\n",
    "  var ggbApp = new GGBApplet({\n",
    "      \"width\": 600,\n",
    "      \"height\": 600,\n",
    "      \"showToolBar\": false,\n",
    "      \"showMenuBar\": false,\n",
    "      \"showAlgebraInput\": false,\n",
    "      \"showResetIcon\": true,\n",
    "      \"enableLabelDrags\": true,\n",
    "      \"enableShiftDragZoom\": true,\n",
    "      \"enableRightClick\": false,\n",
    "      \"useBrowserForJS\": false,\n",
    "      \"filename\": \"geogebra/reflection-exercise3.ggb\"\n",
    "  }, 'ggb-element8');\n",
    "\n",
    "  ggbApp.inject();\n",
    "</script>"
   ]
  },
  {
   "cell_type": "markdown",
   "metadata": {},
   "source": [
    "Here is an explanation of why this rule works.\n",
    "\n",
    "Let's start by drawing a picture of the line $y = x$, a point $P$, and its reflection $P'$.\n",
    "The points $P$ and $P'$ are on opposite sides of the line $y = x$,\n",
    "and the line connecting them intersects $y = x$ at a right angle.\n",
    "Let's call the this point of intersection $Q$.\n",
    "The points $P$ and $P'$ are the same distance from $Q$.\n",
    "This is our picture so far:\n"
   ]
  },
  {
   "cell_type": "markdown",
   "metadata": {},
   "source": [
    "<img src=\"images/ggb1.png\",width=300,height=300>"
   ]
  },
  {
   "cell_type": "markdown",
   "metadata": {},
   "source": [
    "Draw a line segment from $P$ directly left until it intersects the line $y = x$.\n",
    "Draw another line segment from $P'$ directly down until it too intersects the line $y = x$.\n",
    "These two line segments and the line $y = x$ all meet at the same point.\n",
    "Let's call this point $R$."
   ]
  },
  {
   "cell_type": "markdown",
   "metadata": {},
   "source": [
    "<img src=\"images/ggb2.png\",width=300,height=300>"
   ]
  },
  {
   "cell_type": "markdown",
   "metadata": {},
   "source": [
    "Since the line segment $PR$ is horizontal and $P'R$ is vertical,\n",
    "then angle $\\angle PRP'$ is a right angle.\n",
    "The other angles $\\angle RPP'$ and $\\angle RP'P$ are each 45 degrees, so this makes the triangle $\\triangle PRP'$ an isosceles triangle.\n",
    "\n",
    "Now suppose $P$ has the coordinates $(a, b)$.\n",
    "Let's try to find the coordinates of $P'$.\n",
    "\n",
    "The triangle $\\triangle PRP'$ is an iscoceles triangle, so the lengths $\\overline{PR}$ and $\\overline{P'R}$ are equal.\n",
    "What's more, $R$ and $P$ have the same $y$-coordinate (we only moved in the $x$ direction to get to $R$)\n",
    "and $R$ and $P'$ have the same $x$-coordinate.\n",
    "We just need to determine how far $R$ is from $P$.\n",
    "To get from $P$ to $P'$, we subtract that distance from the $x$-coordinate and add it to the $y$-coordinate.\n",
    "\n",
    "Since $P = (a, b)$ is to the lower-right of $y = x$, its $x$-coordinate is larger than the $y$-coordinate, so $a > b$.\n",
    "Since $R$ is on the line $y = x$, its $x$- and $y$-coordinates are equal.\n",
    "But we know $R$ has the same $y$-coordinate as $P$, so $R = (b, b)$.\n",
    "The distance from $P$ to $R$ is just the difference between $a$ and $b$, so $\\overline{PR} = a - b$.\n",
    "\n",
    "Now\n",
    "\\begin{align*}\n",
    "    P'\n",
    "        &= (a - \\overline{PR}, b + \\overline{PR}) \\\\\n",
    "        &= (a - (a - b), b + (a - b)) \\\\\n",
    "        &= (a - a + b, b + a - b) \\\\\n",
    "        &= (b, a).\n",
    "\\end{align*}\n",
    "\n",
    "This argument depended on $P$ being to the lower-right of the line $y = x$.\n",
    "As an exercise, figure out how this argument has to change if $P$ is to the upper-left instead.\n",
    "\n",
    "Now let's reflect the graph of a function across the line $y = x$.\n",
    "As always, we sample a bunch of points on the curve, and reflect them each across the line $y = x$.\n",
    "See what happens when we sample more and more points on the graph of $y = x^2$."
   ]
  },
  {
   "cell_type": "code",
   "execution_count": 15,
   "metadata": {},
   "outputs": [
    {
     "data": {
      "text/html": [
       "\n",
       "<div id=\"ggb-element9\"></div>\n",
       "\n",
       "<script>\n",
       "  var ggbApp = new GGBApplet({\n",
       "      \"width\": 600,\n",
       "      \"height\": 600,\n",
       "      \"showToolBar\": false,\n",
       "      \"showMenuBar\": false,\n",
       "      \"showAlgebraInput\": false,\n",
       "      \"showResetIcon\": true,\n",
       "      \"enableLabelDrags\": true,\n",
       "      \"enableShiftDragZoom\": true,\n",
       "      \"enableRightClick\": false,\n",
       "      \"useBrowserForJS\": false,\n",
       "      \"filename\": \"geogebra/reflection-slider3.ggb\"\n",
       "  }, 'ggb-element9');\n",
       "\n",
       "  ggbApp.inject();\n",
       "</script>"
      ],
      "text/plain": [
       "<IPython.core.display.HTML object>"
      ]
     },
     "metadata": {},
     "output_type": "display_data"
    }
   ],
   "source": [
    "%%html\n",
    "\n",
    "<div id=\"ggb-element9\"></div>\n",
    "\n",
    "<script>\n",
    "  var ggbApp = new GGBApplet({\n",
    "      \"width\": 600,\n",
    "      \"height\": 600,\n",
    "      \"showToolBar\": false,\n",
    "      \"showMenuBar\": false,\n",
    "      \"showAlgebraInput\": false,\n",
    "      \"showResetIcon\": true,\n",
    "      \"enableLabelDrags\": true,\n",
    "      \"enableShiftDragZoom\": true,\n",
    "      \"enableRightClick\": false,\n",
    "      \"useBrowserForJS\": false,\n",
    "      \"filename\": \"geogebra/reflection-slider3.ggb\"\n",
    "  }, 'ggb-element9');\n",
    "\n",
    "  ggbApp.inject();\n",
    "</script>"
   ]
  },
  {
   "cell_type": "markdown",
   "metadata": {},
   "source": [
    "We started with a parabola opening upwards.\n",
    "Its reflection is a parabola opening sideways.\n",
    "This has an important implication:\n",
    "*the reflection of a function across $y = x$ might not pass the vertical line test!*\n",
    "\n",
    "Keep this in mind while we see how to reflect a function across $y = x$.\n",
    "Points on the graph of an arbitrary function $y = f(x)$ have the form $(x, f(x))$.\n",
    "Their reflections have the form $(f(x), x)$, but this is the same \"form\" as $(f(y), y)$.\n",
    "Points of that form are just the points on the graph of $x = f(y)$.\n",
    "\n",
    "**Rule:** The reflection of a function $y = f(x)$ across the line $y = x$ is the function $x = f(y)$.\n",
    "\n",
    "This rule tells us that we only need to swap the $x$'s and $y$'s in our function to get its reflection across $y = x$.\n",
    "\n",
    "**Example:** Let's reflect the function $y = x^2$ across the line $y = x$.\n",
    "According to our rule, we just swap the $x$'s and $y$'s.\n",
    "So the reflection is\n",
    "    $$ x = y^2. $$\n",
    "The problem is solved at this point, but suppose we try to solve for $y$.\n",
    "We get either\n",
    "    $$ y = \\sqrt x $$\n",
    "or\n",
    "    $$ y = -\\sqrt x. $$\n",
    "How do the graphs of $x = y^2$, $y = \\sqrt x$, and $y = -\\sqrt x$ compare to one another?\n",
    "The graph of $x = y^2$ is a sideways parabola and does not pass the vertical line test.\n",
    "The graph of $y = \\sqrt x$ is just the top half of that parabola and therefore *does* pass the vertical line test.\n",
    "The graph of $y = -\\sqrt x$ is the bottom half of the parabola and also passes the vertical line test.\n",
    "\n",
    "**Example:** Now let's reflect the straight line $y = \\frac 1 2 x + 1$ across the line $y = x$.\n",
    "Our rule says we just need to swap the $x$'s and $y$'s, so we get\n",
    "    $$ x = \\frac 1 2 y + 1. $$\n",
    "Once again, the problem is solved at this point, but let's try solving for $y$:\n",
    "    $$ y = 2 x - 2. $$\n",
    "The reflection of the line $y = \\frac 1 2 x + 1$ across the line $y = x$ is the line $y = 2 x - 2$.\n",
    "This is a case of a function whose reflection actually does pass the vertical line test\n",
    "and can be written in the form $y = f(x)$.\n",
    "\n",
    "Use the interactive graph below to plot functions and their reflections across $y = x$."
   ]
  },
  {
   "cell_type": "code",
   "execution_count": 29,
   "metadata": {},
   "outputs": [
    {
     "data": {
      "text/html": [
       "\n",
       "<div id=\"ggb-element10\"></div>\n",
       "\n",
       "<script>\n",
       "  var ggbApp = new GGBApplet({\n",
       "      \"width\": 600,\n",
       "      \"height\": 600,\n",
       "      \"showToolBar\": false,\n",
       "      \"showMenuBar\": false,\n",
       "      \"showAlgebraInput\": false,\n",
       "      \"showResetIcon\": true,\n",
       "      \"enableLabelDrags\": true,\n",
       "      \"enableShiftDragZoom\": true,\n",
       "      \"enableRightClick\": false,\n",
       "      \"useBrowserForJS\": false,\n",
       "      \"filename\": \"geogebra/reflection-interactive3.ggb\"\n",
       "  }, 'ggb-element10');\n",
       "\n",
       "  ggbApp.inject();\n",
       "</script>"
      ],
      "text/plain": [
       "<IPython.core.display.HTML object>"
      ]
     },
     "metadata": {},
     "output_type": "display_data"
    }
   ],
   "source": [
    "%%html\n",
    "\n",
    "<div id=\"ggb-element10\"></div>\n",
    "\n",
    "<script>\n",
    "  var ggbApp = new GGBApplet({\n",
    "      \"width\": 600,\n",
    "      \"height\": 600,\n",
    "      \"showToolBar\": false,\n",
    "      \"showMenuBar\": false,\n",
    "      \"showAlgebraInput\": false,\n",
    "      \"showResetIcon\": true,\n",
    "      \"enableLabelDrags\": true,\n",
    "      \"enableShiftDragZoom\": true,\n",
    "      \"enableRightClick\": false,\n",
    "      \"useBrowserForJS\": false,\n",
    "      \"filename\": \"geogebra/reflection-interactive3.ggb\"\n",
    "  }, 'ggb-element10');\n",
    "\n",
    "  ggbApp.inject();\n",
    "</script>"
   ]
  },
  {
   "cell_type": "markdown",
   "metadata": {},
   "source": [
    "## Reflections combined with function operations\n",
    "\n",
    "We might be asked to reflect a function after performing some function operations.\n",
    "For example, we might be asked to add two functions and the reflect them across the $x$-axis,\n",
    "or reflect the composition of two functions across the $y$-axis.\n",
    "Well, the sum of two functions, for instance, is a function and we know how to reflect functions now,\n",
    "so we ought to be able to do this.\n",
    "\n",
    "**Problem:**\n",
    "Reflect $f(x) + g(x)$ across the $x$-axis, where\n",
    "    $$ f(x) = x^2 + 1 \\text{ and } g(x) = x^3 + 1. $$\n",
    "\n",
    "**Solution:**\n",
    "To do this, let's add $f(x)$ and $g(x)$ and call their sum $h(x)$. So\n",
    "\\begin{align*}\n",
    "    h(x)\n",
    "        &= f(x) + g(x) \\\\\n",
    "        &= (x^2 + 1) + (x^3 + 1) \\\\\n",
    "        &= x^3 + x^2 + 2.\n",
    "\\end{align*}\n",
    "Now we just need to reflect $h(x)$ across the $x$-axis.\n",
    "Its reflection is $y = -h(x)$, so\n",
    "\\begin{align*}\n",
    "    y\n",
    "        &= -h(x) \\\\\n",
    "        &= -(x^3 + x^2 + 2) \\\\\n",
    "        &= -x^3 - x^2 - 2.\n",
    "\\end{align*}\n",
    "\n",
    "**Problem:**\n",
    "Reflect $f(g(x))$ across the $y$-axis, where\n",
    "    $$ f(x) = \\sin(x) \\text{ and } g(x) = x^2. $$\n",
    "\n",
    "**Solution:**\n",
    "Like before, let's compose $f(x)$ and $g(x)$ and call their composite $h(x)$. So\n",
    "\\begin{align*}\n",
    "    h(x)\n",
    "        &= f(g(x)) \\\\\n",
    "        &= f(x^2) \\\\\n",
    "        &= \\sin(x^2).\n",
    "\\end{align*}\n",
    "Now we reflect $h(x)$ across the $y$-axis.\n",
    "The reflection of $h(x)$ is $y = h(-x)$, so\n",
    "\\begin{align*}\n",
    "    y\n",
    "        &= h(-x) \\\\\n",
    "        &= \\sin((-x)^2) \\\\\n",
    "        &= \\sin(x^2).\n",
    "\\end{align*}"
   ]
  },
  {
   "cell_type": "markdown",
   "metadata": {},
   "source": [
    "## Reflections combined with translations\n",
    "\n",
    "We can apply the same idea above to reflect translations of graphs.\n",
    "\n",
    "**Problem:**\n",
    "Translate the function $y = f(x)$ left by three units, then reflect across the $y$-axis,\n",
    "where $y = |2x|$.\n",
    "\n",
    "**Solution:**\n",
    "Let's label by $g(x)$ the translation of $f(x)$ left by three units.\n",
    "Then we just have to reflect $g(x)$ across the $y$-axis.\n",
    "So\n",
    "\\begin{align*}\n",
    "    g(x)\n",
    "        &= f(x+3) \\\\\n",
    "        &= |2(x+3)| \\\\\n",
    "        &= |2x + 6|.\n",
    "\\end{align*}\n",
    "Its reflection across the $y$-axis is\n",
    "\\begin{align*}\n",
    "    y\n",
    "        &= g(-x) \\\\\n",
    "        &= |2(-x) + 6| \\\\\n",
    "        &= |-2x + 6|.\n",
    "\\end{align*}"
   ]
  },
  {
   "cell_type": "markdown",
   "metadata": {},
   "source": [
    "## Conclusion\n",
    "\n",
    "In this notebook, we saw how to reflect over the $x$-axis, the $y$-axis, the line $y = x$, and combining reflection.\n",
    "We've also made a distinction between reflecting a point, reflecting the graph of a function, and reflecting the function itself.\n",
    "Reflections of points and graphs are geometric ideas, manipulating plots;\n",
    "reflections of functions is about manipulating equations,\n",
    "although\n",
    "\n",
    "The studies of statistics and of the sciences depend heavily on the skills learned in later math courses, especially Calculus courses.\n",
    "A lot of time is spent in Calculus courses analyzing functions and to do this, it is usually helpful to have a clear image in one's mind of the function being analyzed.\n",
    "Understanding reflections of graphs and functions is one step towards forming such a clear image.\n",
    "For instance, you might already know what the graph of $y = 10^x$ looks like,\n",
    "but using the techniques covered in this notebook,\n",
    "you can also tell what $y = -10^x$, $y = 10^{-x}$, $y = -10^{-x}$, and $x = 10^y$ look like.\n",
    "\n",
    "Recognizing when a function is \"even\" or \"odd\" also has its uses.\n",
    "A typical question in a Calculus class is to find the area underneath a curve and above the $x$-axis.\n",
    "If the curve is given by an even function, then the area to the right of the $y$-axis is the same as the area to the left.\n",
    "That means we can get away with only calculating half the area and then doubling the result.\n",
    "Doubling a number is easier than most things in math, so this can be a time saver."
   ]
  },
  {
   "cell_type": "markdown",
   "metadata": {},
   "source": [
    "## Exercises\n",
    "\n",
    "* Plot the point $(1, 2)$ as well as its reflections across the $x$-axis, the $y$-axis, both axes, and the line $y = x$.\n",
    "* Graph the function $y = x^2 - 2x$. Plot its reflection across the $x$-axis and the $y$-axis. What are the equations of these reflections?\n",
    "* Graph the function $y = e^x$. Plot its reflection across the line $y = x$. Does the reflected function pass the vertical line test? What is the equation of its reflection (in the form $x = f(y)$ and in the form $y = f(x)$)?"
   ]
  }
 ],
 "metadata": {
  "kernelspec": {
   "display_name": "Python 3",
   "language": "python",
   "name": "python3"
  },
  "language_info": {
   "codemirror_mode": {
    "name": "ipython",
    "version": 3
   },
   "file_extension": ".py",
   "mimetype": "text/x-python",
   "name": "python",
   "nbconvert_exporter": "python",
   "pygments_lexer": "ipython3",
   "version": "3.6.4"
  }
 },
 "nbformat": 4,
 "nbformat_minor": 2
}

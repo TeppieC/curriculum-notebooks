{
 "cells": [
  {
   "cell_type": "markdown",
   "metadata": {},
   "source": [
    "![Callysto.ca Banner](https://github.com/callysto/curriculum-notebooks/blob/master/callysto-notebook-banner-top.jpg?raw=true)\n",
    "\n",
    "<a href=\"https://hub.callysto.ca/jupyter/hub/user-redirect/git-pull?repo=https%3A%2F%2Fgithub.com%2Fcallysto%2Fcurriculum-notebooks&branch=master&subPath=Mathematics/TellingTime/telling-time.ipynb&depth=1\" target=\"_parent\"><img src=\"https://raw.githubusercontent.com/callysto/curriculum-notebooks/master/open-in-callysto-button.svg?sanitize=true\" width=\"123\" height=\"24\" alt=\"Open in Callysto\"/></a>"
   ]
  },
  {
   "cell_type": "code",
   "execution_count": 1,
   "metadata": {
    "tags": [
     "hide-input"
    ]
   },
   "outputs": [
    {
     "data": {
      "text/html": [
       "                    <script>\n",
       "                    document.getElementById('toggleButton').onclick = function () {\n",
       "                        if (code_shown) {\n",
       "                            $('div.input').hide('500');\n",
       "                            $('#toggleButton').val('Show Code')\n",
       "                        } else {\n",
       "                            $('div.input').show('500');\n",
       "                            $('#toggleButton').val('Hide Code')\n",
       "                        }\n",
       "                        code_shown = !code_shown\n",
       "                    }\n",
       "\n",
       "                    document.getElementById('init').onclick = function () {\n",
       "                        runAll = document.getElementById('run_all_cells_below').childNodes[1]\n",
       "                        console.log(runAll)\n",
       "                        runAll.click()\n",
       "                    }\n",
       "\n",
       "                    $(document).ready(function () {\n",
       "                        code_shown = true;\n",
       "                        $('div.input').hide()\n",
       "                    });\n",
       "                </script>\n",
       "                <input type=\"submit\" id=\"toggleButton\" value=\"Show Code\">\n",
       "                <input id=\"init\" type=\"submit\" value=\"Initialize\">\n"
      ],
      "text/plain": [
       "<IPython.core.display.HTML object>"
      ]
     },
     "metadata": {},
     "output_type": "display_data"
    }
   ],
   "source": [
    "from IPython.display import HTML\n",
    "from IPython.display import YouTubeVideo\n",
    "import myMagics\n",
    "%uiButtons"
   ]
  },
  {
   "cell_type": "markdown",
   "metadata": {},
   "source": [
    "*Note: Run the cell above then click on the \"Initialize\" button to get notebook ready*"
   ]
  },
  {
   "cell_type": "markdown",
   "metadata": {},
   "source": [
    "# Telling Time\n",
    "Time is a concept we are all very familiar with. Seconds, minutes, hours, and days are simply part of our everyday life. Have you ever wondered about how all these units of time relate or why we use \"am\" and \"pm\" when talking about the hours of the day? \n",
    "\n",
    "There are two important distinctions to make when thinking of time:\n",
    " 1. Telling the time - looking at a clock and knowing what time it is.\n",
    " 2. Measuring the time - using a clock or other tools to measure how long something takes.\n",
    "\n",
    "In this notebook we will explore the relationships between all the different units of time and how to use different tools to read and keep track of time. We will also learn how to easily convert between hours, minutes and seconds."
   ]
  },
  {
   "cell_type": "markdown",
   "metadata": {},
   "source": [
    "## A Little History\n",
    "When thinking of the different times of the day one thing stands out: there are two of each hour in the day; for example, 2 AM and 2 PM. Why is that?\n",
    "\n",
    "This dates back to the Roman times. It was decided a day should be split up into two parts, one part for day time and the other for night time.\n",
    "\n",
    "Eventually this split was made to use noon and midnight as the points where it changes from one part of the day to the other\n",
    "\n",
    "- AM means \"ante meridiem\" which means \"before midday\"\n",
    "\n",
    "- PM means \"post meridiem\" which means \"after midday\"\n",
    "\n",
    "Click on the \"More\" button for more details"
   ]
  },
  {
   "cell_type": "markdown",
   "metadata": {},
   "source": [
    "<div class=\"hideMe\">\n",
    "Initially to do this split the Romans decided to break the day up into two 12 hour blocks. As we can imagine from back in those days it would only be logical to make the 12 hours in the \"day\" start at sunrise and the 12 hours of the \"night\" start at dusk. But since the day/night cycle changes over the year (shorter days in winter for example), this caused problems.<br>\n",
    "\n",
    "Eventually it was decided to change from sunset/dusk to midnight/midday, this is where AM and PM where born. AM means \"ante meridiem\" which stands for \"before midday\" and PM means \"post meridiem\" meaning, you guessed it, \"after midday\". When you think about it this makes sense: 3PM is 3 hours past the midday. Eventually it was decided that keeping one day split up into 24 hours instead of two blocks of 12 hours made more sense. The 24 hour clock was then introduced. The hours on this clock range from 0 to 23 (totalling 24 hours). We in North America still frequently use the AM/PM 12 hour day format but many parts of the world use the 24 hour clock."
   ]
  },
  {
   "cell_type": "code",
   "execution_count": 2,
   "metadata": {
    "tags": [
     "hide-input"
    ]
   },
   "outputs": [
    {
     "data": {
      "text/html": [
       "                    <button onclick='toggleMore()'>More</button>\n",
       "                    <script>\n",
       "                     var cells = document.getElementById('notebook-container');\n",
       "                     $(cells).find('.hideMe').closest('div.cell').hide('0');\n",
       "                    function toggleMore() {\n",
       "                      setTimeout(function() {\n",
       "                        var index = 0;\n",
       "                        var cells = document.getElementById('notebook-container');\n",
       "                        for (var cell of cells.childNodes) {\n",
       "                            if ($(cell).hasClass('selected'))\n",
       "                                break;\n",
       "                            index++;\n",
       "                        }\n",
       "                        $(cells.childNodes[index - 1]).toggle('500');\n",
       "                        }, 100);\n",
       "                    }\n",
       "                    </script>\n"
      ],
      "text/plain": [
       "<IPython.core.display.HTML object>"
      ]
     },
     "metadata": {},
     "output_type": "display_data"
    }
   ],
   "source": [
    "%toggleMore"
   ]
  },
  {
   "cell_type": "markdown",
   "metadata": {},
   "source": [
    "## How Well do you Know Time?\n",
    "Ok so now that we have a little background on how our measurements of time came about, let's play a little game. Do you think you can guess exactly 15 seconds without using a clock? If you think you can do it, click the button below. When you think it’s been 15 seconds click it again and see how close you are. (Click again if you want to retry)"
   ]
  },
  {
   "cell_type": "code",
   "execution_count": 3,
   "metadata": {
    "tags": [
     "hide-input"
    ]
   },
   "outputs": [
    {
     "data": {
      "text/html": [
       "<style>\n",
       "        @import url('https://fonts.googleapis.com/css?family=Patrick+Hand');\n",
       "\n",
       "        #btnOutline {\n",
       "            width: 400px;\n",
       "            height: 250px;\n",
       "            border: solid 2px black;\n",
       "            display: block;\n",
       "            border-radius: 50px;\n",
       "            background: rgb(126, 114, 230);\n",
       "            cursor: pointer;\n",
       "            margin: 0 auto;\n",
       "        }\n",
       "\n",
       "        #btnOutline:hover {\n",
       "            background: rgb(144, 134, 238);\n",
       "            box-shadow: 2px 2px 2px #0a0a0a;\n",
       "        }\n",
       "\n",
       "        #btnText {\n",
       "            display: block;\n",
       "            text-align: center;\n",
       "            vertical-align: middle;\n",
       "            line-height: 250px;\n",
       "            font-size: 5em;\n",
       "            font-family: 'Patrick Hand', cursive;\n",
       "\n",
       "        }\n",
       "    </style>\n",
       "     <div id=\"btnOutline\" onclick=\"play(this)\">\n",
       "        <span id=\"btnText\">Start</span>\n",
       "    </div>\n",
       "\n",
       "    <script>\n",
       "        let gameState = 0;\n",
       "        let startTime;\n",
       "        let endTime;\n",
       "\n",
       "        function play(e) {\n",
       "            let text = e.firstElementChild;\n",
       "            switch (gameState) {\n",
       "                case 0:\n",
       "                    startTime = new Date();\n",
       "                    $('#btnText').fadeOut(800, function () {\n",
       "                        text.innerHTML = \"15sec?\";\n",
       "                        $('#btnText').fadeIn(800);\n",
       "                    });\n",
       "                    gameState++;\n",
       "                    break;\n",
       "                case 1:\n",
       "                    endTime = new Date();\n",
       "                    let time = new Date(endTime - startTime);\n",
       "                    let str = (time.getMinutes() < 10 ? (\"0\" + time.getMinutes()) : (time.getMinutes())) + \":\" + (time.getSeconds() <\n",
       "                        10 ?\n",
       "                        (\"0\" + time.getSeconds()) : (time.getSeconds())) + \":\" + time.getMilliseconds();\n",
       "                    text.innerHTML = str;\n",
       "                    gameState++;\n",
       "                    break;\n",
       "                case 2:\n",
       "                    delete startTime;\n",
       "                    delete endTime;\n",
       "                    text.innerHTML = \"Start\";\n",
       "                    gameState = 0;\n",
       "                    break;\n",
       "                default:\n",
       "                    gameState = 0;\n",
       "            }\n",
       "        };\n",
       "    </script>"
      ],
      "text/plain": [
       "<IPython.core.display.HTML object>"
      ]
     },
     "execution_count": 3,
     "metadata": {},
     "output_type": "execute_result"
    }
   ],
   "source": [
    "HTML(filename='TimeGuessWidget.html')"
   ]
  },
  {
   "cell_type": "markdown",
   "metadata": {},
   "source": [
    "So how did you do? Not as easy as it seems eh. Most people, when trying this the first time, end up clicking much too early. You may have counted up to 15 \"Mississippi’s\" in your head which can help get closer to 15 seconds, but what if I asked you to guess 3 minutes? Rhythmically counting to 180 \"Mississippi’s\" is not particularly fun . This example shows the importance of using tools to more accurately measure time."
   ]
  },
  {
   "cell_type": "markdown",
   "metadata": {},
   "source": [
    "## Reading Time\n",
    "\n",
    "Long ago before electricity was invented, ancient civilizations had to find other cleaver ways of reading time. Two common techniques used where:\n",
    "1. Using the position of the sun to know the time of day\n",
    "<img src=\"https://upload.wikimedia.org/wikipedia/commons/6/66/Sundial_-_Canonical_Hour.jpg\" width=\"400\" style=\"box-shadow: 4px 4px 12px gray;margin: 5px;\">\n",
    "2. Studying the position of the stars was used to know time in the night\n",
    "<img src=\"https://c.tadst.com/gfx/750x500/tell-time-with-stars.png?1\" width=\"400\" style=\"box-shadow: 4px 4px 12px gray;margin: 5px;\">\n",
    "\n",
    "Now days the time is everywhere and is easily accessible. The main two ways of displaying time are using a digital clock or analog. Digital represents the time as numbers, an analog clock represents the time using clock hands going in circle."
   ]
  },
  {
   "cell_type": "markdown",
   "metadata": {},
   "source": [
    "<div class=\"hideMe\">\n",
    "\n",
    "These days the time is everywhere. We simply look for a clock on a wall, appliance, a watch, or our phones. This was not always the case though. Does this mean time did not exist long ago? Egyptians 1500 BC (roughly 3500 years ago) were very much aware of time and found very clever ways for measuring it. For these ancient civilizations, as for us, knowing the time and months of the year was crucial to their survival. It turns out the most important clocks of all where not found on earth but in the sky! The stars and sun have been used to measure time for thousands of years and by many civilizations. Using the position of the sun casting shadows was used during the day and the position of known constellations were used at night. \n",
    "\n",
    "Luckily for us we have evolved far beyond using the sun and stars to tell time. Imagine trying to get to school on time on a cloudy day! Now when we get a new watch or clock we simply synchronize it to match another time piece showing the correct time. More and more, as devices are connected to the internet we don’t even have to set the time, it is done automatically!"
   ]
  },
  {
   "cell_type": "code",
   "execution_count": 4,
   "metadata": {
    "tags": [
     "hide-input"
    ]
   },
   "outputs": [
    {
     "data": {
      "text/html": [
       "                    <button onclick='toggleMore()'>More</button>\n",
       "                    <script>\n",
       "                     var cells = document.getElementById('notebook-container');\n",
       "                     $(cells).find('.hideMe').closest('div.cell').hide('0');\n",
       "                    function toggleMore() {\n",
       "                      setTimeout(function() {\n",
       "                        var index = 0;\n",
       "                        var cells = document.getElementById('notebook-container');\n",
       "                        for (var cell of cells.childNodes) {\n",
       "                            if ($(cell).hasClass('selected'))\n",
       "                                break;\n",
       "                            index++;\n",
       "                        }\n",
       "                        $(cells.childNodes[index - 1]).toggle('500');\n",
       "                        }, 100);\n",
       "                    }\n",
       "                    </script>\n"
      ],
      "text/plain": [
       "<IPython.core.display.HTML object>"
      ]
     },
     "metadata": {},
     "output_type": "display_data"
    }
   ],
   "source": [
    "%toggleMore"
   ]
  },
  {
   "cell_type": "markdown",
   "metadata": {},
   "source": [
    "## Units of Time\n",
    "So if I ask you what time it is right now you could easily look at a clock and tell me right? For example you could go as far as saying \"it is 11:37:12 on Monday December 17, 2018\". Now, that is probably a lot more information then was asked when asking for the time but bear with me. Let's break down all the components of that sentence: \n",
    "\n",
    "- 1 year is made up of 365 days (366 if the year is leap)\n",
    "- 1 day is made up of 24 hours\n",
    "- 1 hour is made up of 60 minutes\n",
    "- 1 minutes is made up of 60 seconds\n",
    "- 1 second is made up of 1000 milliseconds\n",
    "\n",
    "We could keep going but already 1 millisecond happens so fast that they are rarely used in everyday life.\n",
    "\n",
    "Let's visualize this by using an analog clock. If you count all the ticks around the clock you will find out that there are 60 of them. This makes sense, as 1 one hour is made up of 60 minutes and 1 minute is made up of 60 seconds. In everyday life we know a clock only ever goes forward, and some might say it moves relatively slow. This can make it hard to fully understand its pattern. This example breaks these rules and allows you to manipulate the clock forward and backwards, fast or slow. \n",
    "\n",
    "If you adjust the slider below the clock you will see that the hands will begin to move. Each tick on the slider represents a second. Try adjusting the time to see how each hand behaves. (You can also use your keyboard's side arrows to tick through 1 second at a time)"
   ]
  },
  {
   "cell_type": "code",
   "execution_count": 5,
   "metadata": {
    "tags": [
     "hide-input"
    ]
   },
   "outputs": [
    {
     "data": {
      "text/html": [
       "<style>\n",
       " @import url('https://fonts.googleapis.com/css?family=Orbitron');\n",
       "    #digitalClock {\n",
       "        font-family: 'Orbitron', sans-serif;\n",
       "        font-size: 60px;\n",
       "    }\n",
       "</style>\n",
       "\n",
       "<div style=\"display: block; text-align: center;\">\n",
       "    <canvas id=\"clockFace\" width=\"400\" height=\"400\"></canvas>\n",
       "    <div>\n",
       "        <input type=\"range\" min=\"0\" max=\"3600\" value=\"0\" id=\"sliderTime\" style=\"width: 380px; margin: 0 auto;\">\n",
       "    </div>\n",
       "    <div style=\"padding: 30px 0;\">\n",
       "        <span id=\"digitalClock\">12:00:00</span>\n",
       "    </div>\n",
       "</div>\n",
       "<script>\n",
       "        var inputTime = document.getElementById('sliderTime');\n",
       "\n",
       "        //Followed MDN Canvas Animation Tutorial to create clock\n",
       "        function clock() {\n",
       "            var canvas = document.getElementById('clockFace');\n",
       "            var ctx = canvas.getContext('2d');\n",
       "            var x = canvas.width / 2;\n",
       "            var y = canvas.height / 2;\n",
       "            ctx.save();\n",
       "            ctx.clearRect(0, 0, canvas.width, canvas.height);\n",
       "            ctx.translate(x, y);\n",
       "            ctx.rotate(-Math.PI / 2);\n",
       "            ctx.strokeStyle = 'black';\n",
       "            ctx.fillStyle = \"white\";\n",
       "            ctx.lineWidth = 8;\n",
       "            ctx.lineCap = 'round';\n",
       "\n",
       "            // Hour marks\n",
       "            ctx.save();\n",
       "            for (var i = 0; i < 12; i++) {\n",
       "                ctx.beginPath();\n",
       "                ctx.rotate(Math.PI / 6);\n",
       "                ctx.moveTo(150, 0);\n",
       "                ctx.lineTo(170, 0);\n",
       "                ctx.stroke();\n",
       "            }\n",
       "            ctx.restore();\n",
       "\n",
       "            // Minute marks\n",
       "            ctx.save();\n",
       "            ctx.lineWidth = 5;\n",
       "            for (i = 0; i < 60; i++) {\n",
       "                if (i % 5 != 0) {\n",
       "                    ctx.beginPath();\n",
       "                    ctx.moveTo(160, 0);\n",
       "                    ctx.lineTo(170, 0);\n",
       "                    ctx.stroke();\n",
       "                }\n",
       "                ctx.rotate(Math.PI / 30);\n",
       "            }\n",
       "            ctx.restore();\n",
       "\n",
       "            let dummyTime = new Date(0,0,0,0,0,0);\n",
       "            dummyTime.setSeconds(inputTime.value);\n",
       "            var sec = dummyTime.getSeconds();\n",
       "            var min = dummyTime.getMinutes();\n",
       "            var hr = dummyTime.getHours();\n",
       "            ctx.fillStyle = 'black';\n",
       "            updateDigitalClock(hr, min, sec);\n",
       "\n",
       "\n",
       "            // write Hours\n",
       "            ctx.save();\n",
       "            ctx.rotate(hr * (Math.PI / 6) + (Math.PI / 360) * min + (Math.PI / 21600) * sec);\n",
       "            ctx.lineWidth = 14;\n",
       "            ctx.beginPath();\n",
       "            ctx.moveTo(-20, 0);\n",
       "            ctx.lineTo(100, 0);\n",
       "            ctx.stroke();\n",
       "            ctx.restore();\n",
       "\n",
       "            // write Minutes\n",
       "            ctx.save();\n",
       "            ctx.rotate((Math.PI / 30) * min + (Math.PI / 1800) * sec);\n",
       "            ctx.lineWidth = 10;\n",
       "            ctx.beginPath();\n",
       "            ctx.moveTo(-28, 0);\n",
       "            ctx.lineTo(160, 0);\n",
       "            ctx.strokeStyle = \"#0000FF\"\n",
       "            ctx.stroke();\n",
       "            ctx.restore();\n",
       "\n",
       "            // Write seconds\n",
       "            ctx.save();\n",
       "            ctx.rotate(sec * Math.PI / 30);\n",
       "            ctx.strokeStyle = '#D40000';\n",
       "            ctx.fillStyle = '#D40000';\n",
       "            ctx.lineWidth = 6;\n",
       "            ctx.beginPath();\n",
       "            ctx.moveTo(-30, 0);\n",
       "            ctx.lineTo(160, 0);\n",
       "            ctx.stroke();\n",
       "            ctx.beginPath();\n",
       "            ctx.arc(0, 0, 5, 0, Math.PI * 2, true);\n",
       "            ctx.fill();\n",
       "            ctx.fillStyle = 'rgba(0, 0, 0, 0)';\n",
       "            ctx.arc(0, 0, 3, 0, Math.PI * 2, true);\n",
       "            ctx.fill();\n",
       "            ctx.restore();\n",
       "\n",
       "            ctx.restore();\n",
       "\n",
       "            window.requestAnimationFrame(clock);\n",
       "        }\n",
       "        \n",
       "        function updateDigitalClock(h, m, s) {\n",
       "            let dClock = document.getElementById('digitalClock');\n",
       "            h += 12;\n",
       "            if (h === 13)\n",
       "                h = 1;\n",
       "            dClock.innerHTML = (h < 10 ? (\"0\" + h) : h) + \":\" +\n",
       "                (m < 10 ? (\"0\" + m) : m) + \":\" +\n",
       "                (s < 10 ? (\"0\" + s) : s);\n",
       "        }\n",
       "\n",
       "        window.requestAnimationFrame(clock);\n",
       "</script>"
      ],
      "text/plain": [
       "<IPython.core.display.HTML object>"
      ]
     },
     "execution_count": 5,
     "metadata": {},
     "output_type": "execute_result"
    }
   ],
   "source": [
    "from IPython.display import HTML\n",
    "HTML(filename='ClockWidget.html')"
   ]
  },
  {
   "cell_type": "markdown",
   "metadata": {},
   "source": [
    "What have you noticed about the relationships between the hands as you slide back and forth? \n",
    "Two important things to notice about the clock:\n",
    "1. In order for the minute hand (blue) to move one full tick the seconds hand (red) must do one full rotation\n",
    "2. When the minute hand does a full rotation the hour hand will have moved 5 ticks\n",
    "\n",
    "Why does the hour hand move 5 ticks per minute rotation? That is because a day has 24 hours, not 60 hours. Remember earlier when we talked about AM and PM, the 24 hour day was broken down into two 12 hour sections. So we can see that if we divide a full rotation (60 minutes) into 12 hours we get $$60\\div12=5$$ This means in the time the minute hand does a full rotation, meaning 60 minutes, the hour hand will advance 5 ticks on the clock. You will see this happening if you slide the slider from the far left all the way to the far right, the minute hand will have done a full rotation and the hour hand will have moved 5 ticks. \n",
    "\n",
    "Now that we have a better understanding of the relationships between the units, can we figure out how many seconds are in 1 hour? Sure we can! Let's think about this. In 1 hour the minute hand goes around 60 times and for each one of these minutes the seconds hand goes around 60 times, this must mean $$60_\\frac{min}{hr} \\times60_\\frac{sec}{min}=3600_\\frac{sec}{hr}$$ So 1 hour has 3600 seconds. This means if you use your keyboard arrows on the slider from left to right you will need to push it 3600 times!! (Don't do that.)\n",
    "\n",
    "Based on this math can you figure out how many seconds are in a day? or how many minutes are in a week?"
   ]
  },
  {
   "cell_type": "markdown",
   "metadata": {},
   "source": [
    "## Measuring Time\n",
    "So as we all know being able to tell the time is a crucial part of our everyday lives. It helps us know when we have appointments, when we should eat or when we should go to sleep. \n",
    "\n",
    "Time also has many other great uses like keeping time for a hockey game or measuring how long it takes to drive from one city to another. \n",
    "\n",
    "Let's take travelling from city to another as an example. Say you are going from Calgary to Edmonton and you want to calculate how long the trip takes. The simplest way of doing this without extra tools is to write down the time when you leave and then check the time when you arrive. Now all we do is take the difference between these two times.\n",
    "\n",
    "Let's say you leave at 1:32 and arrive at 4:47. You can probably estimate in your head that the trip took a little over 3 hours, but we can calculate it exactly. To make this simpler we will convert the format from hours:minutes to just have minutes. Let's recall how many minutes are in 1 hour to get the following: \n",
    "$$(1_{hr}\\times60_\\frac{min}{hr})+32_{min}=60_{min} + 32_{min}=92_{min}$$ \n",
    "$$(4_{hr}\\times60_\\frac{min}{hr})+47_{min}=240_{min} + 47_{min}=287_{min}$$ \n",
    "\n",
    "*Notice these times in minutes actually mean 92 min and 287 min past noon respectively*\n",
    "\n",
    "And now we get the difference: \n",
    "$$287_{min}-92_{min}=195_{min}$$ \n",
    "\n",
    "So the trip took 195 minutes to get from Calgary to Edmonton. To get it back into the hours:minutes format we need to figure out how many times $195$ can be divided by $60$. We can see that $60$ will fit $3$ times inside $195$ and we will be left with a remainder of $15$, so the trip took $3$ hours and $15$ minutes.\n",
    "\n",
    "Ok so that wasn't too bad. It took some work to get an exact value but it is definitely doable. Now let's take our hockey example and look at how we could keep track of the time for the game. A few things to consider before attempting this \n",
    "1. The time goes backwards from 20 minutes down to 0 milliseconds\n",
    "2. The time has to stop every time the whistle is blown\n",
    "3. The time has to be accurate to the 100th millisecond\n",
    "\n",
    "Analyzing this problem we can quickly see that if all we have is a regular clock then a hockey game would take a very long time between each whistle blown as someone would have to calculate the differences in time between each stop and start. Thankfully we have many different types of tools to measure times like this. In this case a scoreboard with a timeclock built in does the trick. \n",
    "\n",
    "Now all the time keeper has to do is stop and start time as the whistle is blown and the play starts again."
   ]
  },
  {
   "cell_type": "markdown",
   "metadata": {},
   "source": [
    "<div class=\"hideMe\">\n",
    "In other sports sometimes a fraction of a second makes the difference between first and second place. Precise measurements of time may also be needed during a critical science experiment. With examples like these we can see that a person's reflex to start/stop a clock is probably not going to cut it. Many other techniques have been developed to overcome these challenges. Laser sensors are far more accurate then the human hand-to-eye coordination. \n",
    "<img src=\"https://upload.wikimedia.org/wikipedia/commons/thumb/c/c0/LightBeamTiming.jpg/220px-LightBeamTiming.jpg\" style=\"box-shadow: 4px 4px 12px gray;\">\n",
    "The image above is of a light beam sensor used on the Olympic track."
   ]
  },
  {
   "cell_type": "code",
   "execution_count": 6,
   "metadata": {
    "tags": [
     "hide-input"
    ]
   },
   "outputs": [
    {
     "data": {
      "text/html": [
       "                    <button onclick='toggleMore()'>More</button>\n",
       "                    <script>\n",
       "                     var cells = document.getElementById('notebook-container');\n",
       "                     $(cells).find('.hideMe').closest('div.cell').hide('0');\n",
       "                    function toggleMore() {\n",
       "                      setTimeout(function() {\n",
       "                        var index = 0;\n",
       "                        var cells = document.getElementById('notebook-container');\n",
       "                        for (var cell of cells.childNodes) {\n",
       "                            if ($(cell).hasClass('selected'))\n",
       "                                break;\n",
       "                            index++;\n",
       "                        }\n",
       "                        $(cells.childNodes[index - 1]).toggle('500');\n",
       "                        }, 100);\n",
       "                    }\n",
       "                    </script>\n"
      ],
      "text/plain": [
       "<IPython.core.display.HTML object>"
      ]
     },
     "metadata": {},
     "output_type": "display_data"
    }
   ],
   "source": [
    "%toggleMore"
   ]
  },
  {
   "cell_type": "markdown",
   "metadata": {},
   "source": [
    "## 24-Hour Clock\n",
    "As we now know a day has 24 hours. We also know why AM and PM were introduced and still used today. Another wildly popular way of representing time is to use the 24-hour clock. The 24-hour clock eliminates the need to us AM and PM. Using the 24-hour clock simply means we don't go back to one after we pass noon, we keep going from 12 to 13. This may seem odd at first since saying it is 13 o'clock is not something we are use to. \n",
    "\n",
    "One major benefit to using this format is that you will never set your alarm wrong by putting 8PM instead of 8AM; 8 just means 8 in the morning and 20 means 8 at night. \n",
    "\n",
    "If you use this format enough, knowing that 16:03 simply means 4:03pm becomes second nature, but you're probably wondering how to quickly get this answer when you are not used to it yet. \n",
    "\n",
    "All you have to do is take the hour $16$ and subtract $12$ from it so $$16-12=4\\text{ o'clock PM.}$$ A good way to quickly do this in your head is to first take away $10$ which is easy to do then remove the last $2$, so $$16-10=6,$$ and then $$6-2=4\\text{ o'clock.}$$ Give this a try: what time is 18:39? How about 22:18?\n",
    "\n",
    "Many modern watches, smartphones, alarm clocks, etc. allow you to use the 24 hour clock. Try it out for a week or two and see how fast you adjust to this format."
   ]
  },
  {
   "cell_type": "markdown",
   "metadata": {},
   "source": [
    "## Different Ways to Express Time\n",
    "Now that we have a much better understanding of how time works and the relationships between the different units we can start getting creative and come up with other ways to express time. Check out this video for an abstract wooden pendulum clock"
   ]
  },
  {
   "cell_type": "code",
   "execution_count": 7,
   "metadata": {
    "tags": [
     "hide-input"
    ]
   },
   "outputs": [
    {
     "data": {
      "image/jpeg": "[encoded data removed]",
      "text/html": [
       "\n",
       "        <iframe\n",
       "            width=\"800\"\n",
       "            height=\"550\"\n",
       "            src=\"https://www.youtube.com/embed/9ZzkMIrWdPE\"\n",
       "            frameborder=\"0\"\n",
       "            allowfullscreen\n",
       "        ></iframe>\n",
       "        "
      ],
      "text/plain": [
       "<IPython.lib.display.YouTubeVideo at 0x7fe4f865f350>"
      ]
     },
     "execution_count": 7,
     "metadata": {},
     "output_type": "execute_result"
    }
   ],
   "source": [
    "YouTubeVideo('9ZzkMIrWdPE', width=800, height=550)"
   ]
  },
  {
   "cell_type": "code",
   "execution_count": 8,
   "metadata": {
    "tags": [
     "hide-input"
    ]
   },
   "outputs": [
    {
     "data": {
      "text/html": [
       "<iframe width=\"560\" height=\"315\" src=\"https://www.youtube.com/embed/9ZzkMIrWdPE\" frameborder=\"0\" allow=\"accelerometer; autoplay; clipboard-write; encrypted-media; gyroscope; picture-in-picture\" allowfullscreen></iframe>\n"
      ],
      "text/plain": [
       "<IPython.core.display.HTML object>"
      ]
     },
     "metadata": {},
     "output_type": "display_data"
    }
   ],
   "source": [
    "%%html\n",
    "<iframe width=\"560\" height=\"315\" src=\"https://www.youtube.com/embed/9ZzkMIrWdPE\" frameborder=\"0\" allow=\"accelerometer; autoplay; clipboard-write; encrypted-media; gyroscope; picture-in-picture\" allowfullscreen></iframe>"
   ]
  },
  {
   "cell_type": "markdown",
   "metadata": {},
   "source": [
    "Here is another abstract way of telling time, can you decipher what each colour represent?\n",
    "\n",
    "You can speed up the clock to see how each ring behaves over time, when you think you have figured it out check your answers below."
   ]
  },
  {
   "cell_type": "code",
   "execution_count": 9,
   "metadata": {
    "tags": [
     "hide-input"
    ]
   },
   "outputs": [
    {
     "data": {
      "text/html": [
       "\n",
       "<style>\n",
       "body {\n",
       "    margin: 0;\n",
       "}\n",
       "\n",
       ".main {\n",
       "    margin: 0 auto;\n",
       "    width: 500px;\n",
       "}\n",
       "\n",
       "#clock {\n",
       "    border-radius: 40px;\n",
       "    padding: 0;\n",
       "}\n",
       "\n",
       "h1 {\n",
       "    font-family: Arial, Helvetica, sans-serif;\n",
       "}\n",
       "</style>\n",
       "\n",
       "    <div class=\"main\">\n",
       "        <canvas id=\"clock\"></canvas>\n",
       "        <div class=\"btns\">\n",
       "            <button onclick=\"speedUp();\">Speed Up</button>\n",
       "            <button onclick=\"slowDown();\">Slow Down</button>\n",
       "            <button onclick=\"regularSpeed(null);\">Regular Speed</button>\n",
       "            <button onclick=\"resetClock();\">Reset</button>\n",
       "        </div>\n",
       "    </div>\n",
       "    <script>\n",
       "   var canvas = document.getElementById('clock');\n",
       "var ctx = canvas.getContext('2d');\n",
       "\n",
       "var width = 600;\n",
       "var height = 600;\n",
       "canvas.width = width;\n",
       "canvas.height = height;\n",
       "var x = canvas.width / 2;\n",
       "var y = canvas.height / 2;\n",
       "var radius = 40;\n",
       "var lineWidth = 35;\n",
       "\n",
       "var speed = 0;\n",
       "\n",
       "var months = [\n",
       "    \"January\",\n",
       "    \"February\",\n",
       "    \"March\",\n",
       "    \"April\",\n",
       "    \"May\",\n",
       "    \"June\",\n",
       "    \"July\",\n",
       "    \"August\",\n",
       "    \"September\",\n",
       "    \"October\",\n",
       "    \"November\",\n",
       "    \"December\",\n",
       "]\n",
       "\n",
       "function speedUp() {\n",
       "    if (speed <= 0)\n",
       "        speed = 1;\n",
       "    if (speed < 30000)\n",
       "        speed *= 8;\n",
       "}\n",
       "\n",
       "function slowDown() {\n",
       "    speed /= 8;\n",
       "    if (speed <= 1)\n",
       "        speed = 0;\n",
       "}\n",
       "\n",
       "function regularSpeed() {\n",
       "    speed = 0;\n",
       "}\n",
       "\n",
       "function resetClock() {\n",
       "    speed = -1;\n",
       "}\n",
       "\n",
       "function animate(date) {\n",
       "    var date = new Date(date);\n",
       "    if (speed > 0)\n",
       "        date.setSeconds((date.getSeconds()) + speed);\n",
       "    else {\n",
       "        date.setMilliseconds((date.getMilliseconds() + (1000/60)));\n",
       "    }\n",
       "    requestAnimationFrame(function() {\n",
       "        animate(speed > -1 ? date : new Date());\n",
       "    });\n",
       "\n",
       "    ctx.clearRect(0, 0, canvas.width, canvas.height);\n",
       "    ctx.fillStyle = \"#090909\";\n",
       "    ctx.fillRect(0, 0, canvas.width, canvas.height);\n",
       "\n",
       "    var sec = new TimeCircle(x, y, radius, lineWidth, 1, ((Math.PI * 2 / 60) * date.getSeconds() + Math.PI * 3 / 2), '#CC00FF');\n",
       "    var min = new TimeCircle(x, y, radius, lineWidth, 2, ((Math.PI * 2 / 60) * date.getMinutes() + Math.PI * 3 / 2), '#099FFF');\n",
       "    var hour = new TimeCircle(x, y, radius, lineWidth, 3, ((Math.PI * 2 / 24) * date.getHours() + Math.PI * 3 / 2), '#00FF00');\n",
       "    var day = new TimeCircle(x, y, radius, lineWidth, 4, ((Math.PI * 2 / monthDivider(date.getMonth(), date.getFullYear())) * date.getDate() + Math.PI * 3 / 2), '#FFFF33');\n",
       "    var month = new TimeCircle(x, y, radius, lineWidth, 5, ((Math.PI * 2 / 12) * date.getMonth() + Math.PI * 3 / 2), '#FF0000');\n",
       "\n",
       "    sec.draw();\n",
       "    min.draw();\n",
       "    hour.draw();\n",
       "    day.draw();\n",
       "    month.draw();\n",
       "\n",
       "    var time = (date.getHours() < 10 ? \"0\" + date.getHours() : date.getHours()) +\n",
       "        \":\" + (date.getMinutes() < 10 ? \"0\" + date.getMinutes() : date.getMinutes()) +\n",
       "        \":\" + (date.getSeconds() < 10 ? \"0\" + date.getSeconds() : date.getSeconds()) +\n",
       "        \", \" + months[date.getMonth()] + \" \" + date.getDate() + \", \" + date.getFullYear();\n",
       "    ctx.fillStyle = \"white\";\n",
       "    ctx.font = \"30px Arial\";\n",
       "    ctx.fillText(time, 30, height - 10);\n",
       "}\n",
       "\n",
       "animate(new Date());\n",
       "\n",
       "function TimeCircle(x, y, radius, strokeWidth, radiusMultiplyer, end, colour) {\n",
       "    this.x = x;\n",
       "    this.y = y;\n",
       "    this.radiusMultiplyer = radiusMultiplyer;\n",
       "    this.start = Math.PI * 3 / 2;\n",
       "    this.end = end;\n",
       "    this.radius = radius + (strokeWidth * radiusMultiplyer);\n",
       "    this.strokeWidth = strokeWidth;\n",
       "    this.colour = colour;\n",
       "\n",
       "    this.draw = function () {\n",
       "        ctx.beginPath(x, y);\n",
       "        ctx.arc(this.x, this.y, this.radius, this.start, this.end, this.false);\n",
       "        ctx.lineWidth = this.strokeWidth;\n",
       "        ctx.strokeStyle = this.colour;\n",
       "        ctx.lineCap = 'round';\n",
       "        ctx.stroke();\n",
       "    }\n",
       "}\n",
       "\n",
       "function monthDivider(month, year) {\n",
       "    switch (month) {\n",
       "        case 0:\n",
       "        case 2:\n",
       "        case 4:\n",
       "        case 6:\n",
       "        case 7:\n",
       "        case 9:\n",
       "        case 11:\n",
       "            return 31;\n",
       "        case 3:\n",
       "        case 5:\n",
       "        case 8:\n",
       "        case 10:\n",
       "            return 30;\n",
       "        case 1:\n",
       "            if (((year % 4 == 0) && (year % 100 != 0)) || (year % 400 == 0)) {\n",
       "                return 29\n",
       "            } else {\n",
       "                return 28\n",
       "            };\n",
       "        default:\n",
       "            return 31;\n",
       "    }\n",
       "}\n",
       "\n",
       "    </script>\n"
      ],
      "text/plain": [
       "<IPython.core.display.HTML object>"
      ]
     },
     "execution_count": 9,
     "metadata": {},
     "output_type": "execute_result"
    }
   ],
   "source": [
    "from IPython.display import HTML\n",
    "HTML(filename='AbsClockWidget.html')"
   ]
  },
  {
   "cell_type": "code",
   "execution_count": 10,
   "metadata": {
    "tags": [
     "hide-input"
    ]
   },
   "outputs": [
    {
     "data": {
      "text/html": [
       "    <style>\n",
       "        #list {\n",
       "            margin: 20px 0;\n",
       "            padding: 0;\n",
       "        }\n",
       "        #list li {\n",
       "            list-style: none;\n",
       "            margin: 5px 0;\n",
       "        }\n",
       "\n",
       "        .colour {\n",
       "            width: 50px;\n",
       "            height: 50px;\n",
       "            border-radius: 10px;\n",
       "        }\n",
       "\n",
       "        .answerSelect {\n",
       "            margin: 10px 10px;\n",
       "        }\n",
       "\n",
       "        .correct {\n",
       "            color: green;\n",
       "            font-size: 25px;\n",
       "            display: none;\n",
       "        }\n",
       "\n",
       "        .wrong {\n",
       "            color: red;\n",
       "            font-size: 25px;\n",
       "            display: none;\n",
       "        }\n",
       "\n",
       "        .ansBtn {\n",
       "            cursor: pointer;\n",
       "            border: solid black 1px;\n",
       "            background: #d3d3d3;\n",
       "            padding: 10px 5px;\n",
       "            border-radius: 5px;\n",
       "            font-family: 'Courier New', Courier, monospace;\n",
       "            font-size: 20px;\n",
       "        }\n",
       "\n",
       "        .ansBtn:hover {\n",
       "            background: #f3f3f3;\n",
       "        }\n",
       "    </style>\n",
       "\n",
       "    <div style=\"height: 550px\">\n",
       "        <ul id=\"list\">\n",
       "            <li>\n",
       "                <div class=\"colour\" style=\"background: #099FFF\"></div>\n",
       "                <select name=\"\" id=\"q1\" class=\"answerSelect\">\n",
       "                    <option value=\"default\" selected>Select an Answer</option>\n",
       "                    <option value=\"seconds\">Seconds</option>\n",
       "                    <option value=\"minutes\">Minutes</option>\n",
       "                    <option value=\"hours\">Hours</option>\n",
       "                    <option value=\"days\">Days</option>\n",
       "                    <option value=\"month\">month</option>\n",
       "                </select>\n",
       "                <span class=\"correct\" id=\"Q1C\">&#10003</span>\n",
       "                <span class=\"wrong\" id=\"Q1W\">&#10007</span>\n",
       "            </li>\n",
       "            <li>\n",
       "                <div class=\"colour\" style=\"background: #FF0000\"></div>\n",
       "                <select name=\"\" id=\"q2\" class=\"answerSelect\">\n",
       "                    <option value=\"default\" selected>Select an Answer</option>\n",
       "                    <option value=\"seconds\">Seconds</option>\n",
       "                    <option value=\"minutes\">Minutes</option>\n",
       "                    <option value=\"hours\">Hours</option>\n",
       "                    <option value=\"days\">Days</option>\n",
       "                    <option value=\"month\">month</option>\n",
       "                </select>\n",
       "                <span class=\"correct\" id=\"Q2C\">&#10003</span>\n",
       "                <span class=\"wrong\" id=\"Q2W\">&#10007</span>\n",
       "            </li>\n",
       "            <li>\n",
       "                <div class=\"colour\" style=\"background: #CC00FF\"></div>\n",
       "                <select name=\"\" id=\"q3\" class=\"answerSelect\">\n",
       "                    <option value=\"default\" selected>Select an Answer</option>\n",
       "                    <option value=\"seconds\">Seconds</option>\n",
       "                    <option value=\"minutes\">Minutes</option>\n",
       "                    <option value=\"hours\">Hours</option>\n",
       "                    <option value=\"days\">Days</option>\n",
       "                    <option value=\"month\">month</option>\n",
       "                </select>\n",
       "                <span class=\"correct\" id=\"Q3C\">&#10003</span>\n",
       "                <span class=\"wrong\" id=\"Q3W\">&#10007</span>\n",
       "            </li>\n",
       "            <li>\n",
       "                <div class=\"colour\" style=\"background: #00FF00\"></div>\n",
       "                <select name=\"\" id=\"q4\" class=\"answerSelect\">\n",
       "                    <option value=\"default\" selected>Select an Answer</option>\n",
       "                    <option value=\"seconds\">Seconds</option>\n",
       "                    <option value=\"minutes\">Minutes</option>\n",
       "                    <option value=\"hours\">Hours</option>\n",
       "                    <option value=\"days\">Days</option>\n",
       "                    <option value=\"month\">month</option>\n",
       "                </select>\n",
       "                <span class=\"correct\" id=\"Q4C\">&#10003</span>\n",
       "                <span class=\"wrong\" id=\"Q4W\">&#10007</span>\n",
       "            </li>\n",
       "            <li>\n",
       "                <div class=\"colour\" style=\"background: #FFFF33\"></div>\n",
       "                <select name=\"\" id=\"q5\" class=\"answerSelect\">\n",
       "                    <option value=\"default\" selected>Select an Answer</option>\n",
       "                    <option value=\"seconds\">Seconds</option>\n",
       "                    <option value=\"minutes\">Minutes</option>\n",
       "                    <option value=\"hours\">Hours</option>\n",
       "                    <option value=\"days\">Days</option>\n",
       "                    <option value=\"month\">month</option>\n",
       "                </select>\n",
       "                <span class=\"correct\" id=\"Q5C\">&#10003</span>\n",
       "                <span class=\"wrong\" id=\"Q5W\">&#10007</span>\n",
       "            </li>\n",
       "        </ul>\n",
       "        <span class=\"ansBtn\" id=\"ansBtn\" onclick=\"checkAns()\">Check Answers!</span>\n",
       "    </div>\n",
       "\n",
       "    <script>\n",
       "        function checkAns() {\n",
       "            console.log('clicked');\n",
       "            var ansArray = [];\n",
       "            var questionList = document.getElementById('list');\n",
       "            for (var i = 0; i < document.getElementsByClassName('correct').length; i++) {\n",
       "                document.getElementsByClassName('correct')[i].style.display = 'none';  \n",
       "            }\n",
       "            for (var i = 0; i < document.getElementsByClassName('wrong').length; i++) {\n",
       "                document.getElementsByClassName('wrong')[i].style.display = 'none';\n",
       "            }\n",
       "            for (var i = 0; i < questionList.children.length; i++) {\n",
       "                ansArray.push(questionList.children[i].children[1].value);\n",
       "            }\n",
       "            ansArray[0] === 'minutes' ? setAns(1, true) : setAns(1, false);\n",
       "            ansArray[1] === 'month' ? setAns(2, true) : setAns(2, false);\n",
       "            ansArray[2] === 'seconds' ? setAns(3, true) : setAns(3, false);\n",
       "            ansArray[3] === 'hours' ? setAns(4, true) : setAns(4, false);\n",
       "            ansArray[4] === 'days' ? setAns(5, true) : setAns(5, false);\n",
       "        }\n",
       "\n",
       "        function setAns(pos, isCorrect) {\n",
       "            var ansId = \"Q\" + pos + (isCorrect ? \"C\" : \"W\");\n",
       "            var ans = document.getElementById(ansId);\n",
       "            ans.style.display = \"inline\";\n",
       "        }\n",
       "    </script>"
      ],
      "text/plain": [
       "<IPython.core.display.HTML object>"
      ]
     },
     "execution_count": 10,
     "metadata": {},
     "output_type": "execute_result"
    }
   ],
   "source": [
    "from IPython.display import HTML\n",
    "HTML(filename='questions.html')"
   ]
  },
  {
   "cell_type": "markdown",
   "metadata": {},
   "source": [
    "## Conclusion\n",
    "In this notebook we explored:\n",
    "1. Some history of time and where AM and PM comes from\n",
    "2. The relationships between the different units of time and how the behave together\n",
    "3. Examples of tools to use the time in different ways (Time for a sports game)\n",
    "4. How to use the 24-hour clock"
   ]
  },
  {
   "cell_type": "markdown",
   "metadata": {},
   "source": [
    "[![Callysto.ca License](https://github.com/callysto/curriculum-notebooks/blob/master/callysto-notebook-banner-bottom.jpg?raw=true)](https://github.com/callysto/curriculum-notebooks/blob/master/LICENSE.md)"
   ]
  }
 ],
 "metadata": {
  "celltoolbar": "Edit Metadata",
  "kernelspec": {
   "display_name": "Python 3",
   "language": "python",
   "name": "python3"
  },
  "language_info": {
   "codemirror_mode": {
    "name": "ipython",
    "version": 3
   },
   "file_extension": ".py",
   "mimetype": "text/x-python",
   "name": "python",
   "nbconvert_exporter": "python",
   "pygments_lexer": "ipython3",
   "version": "3.7.4"
  }
 },
 "nbformat": 4,
 "nbformat_minor": 2
}

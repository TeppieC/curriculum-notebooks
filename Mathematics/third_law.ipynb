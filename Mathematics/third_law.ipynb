{
 "cells": [
  {
   "cell_type": "code",
   "execution_count": null,
   "metadata": {},
   "outputs": [],
   "source": []
  },
  {
   "cell_type": "code",
   "execution_count": 1,
   "metadata": {},
   "outputs": [],
   "source": [
    "from IPython.display import display, Math, Latex, Markdown\n",
    "import math\n",
    "from math import log\n",
    "from IPython.external import mathjax\n",
    "import matplotlib.pyplot as plt\n",
    "%matplotlib inline\n",
    "import numpy as np\n",
    "from __future__ import print_function\n",
    "from ipywidgets import interact, interactive, fixed, interact_manual\n",
    "import ipywidgets as widgets"
   ]
  },
  {
   "cell_type": "code",
   "execution_count": 2,
   "metadata": {},
   "outputs": [],
   "source": [
    "def f(r,m,b,x):\n",
    "    x= (x*m)**r\n",
    "    return [log(y,b) for y in x]\n",
    "\n",
    "def f1(r,m,b,x):\n",
    "    x= x*m\n",
    "    return [r*log(y,b) for y in x]"
   ]
  },
  {
   "cell_type": "code",
   "execution_count": 3,
   "metadata": {},
   "outputs": [
    {
     "data": {
      "text/latex": [
       "$$\\log_{B}(M^R)=R\\log_B(M)$$"
      ],
      "text/plain": [
       "<IPython.core.display.Math object>"
      ]
     },
     "metadata": {},
     "output_type": "display_data"
    }
   ],
   "source": [
    "display(Math(r'\\log_{B}(M^R)=R\\log_B(M)'))"
   ]
  },
  {
   "cell_type": "code",
   "execution_count": 4,
   "metadata": {},
   "outputs": [
    {
     "name": "stdout",
     "output_type": "stream",
     "text": [
      "type \"math\" for mathematical proof and \"graph\" for graphical proof: graph\n"
     ]
    }
   ],
   "source": [
    "#Choose the type of proof to be shown\n",
    "direction= input('type \"math\" for mathematical proof and \"graph\" for graphical proof: ')"
   ]
  },
  {
   "cell_type": "code",
   "execution_count": 5,
   "metadata": {},
   "outputs": [],
   "source": [
    "#mathematical proof\n",
    "if direction=='math':\n",
    "    display(Latex(r'$\\text{First we need to define some variables. We will choose x and y.}$'))\n",
    "    display(Latex(r'$\\text{Let} \\: x=\\log_{B}(M^R)$'))\n",
    "    display(Latex(r'$\\text{The equivalent exponential form is }B^x=M^R$'))\n",
    "    display(Latex(r'$\\text{If we put both sides of the equation to the exponent of }\\frac{1}{R}\\text{, we get:}$'))\n",
    "    display(Latex(r'$(B^x)^{\\frac{1}{R}}=(M^R)^{\\frac{1}{R}}$'))\n",
    "    display(Latex(r'$\\text{this reduces to } B^{\\frac{x}{R}}=M$'))\n",
    "    display(Latex(r'$\\text{Applying the log function to both sides, we get:}$'))\n",
    "    display(Latex(r'$\\log_B(M)=\\frac{x}{R}$'))\n",
    "    display(Latex(r'$\\text{Multiply R onto both sides}$'))\n",
    "    display(Latex(r'$R\\log_B(M)=x$'))\n",
    "    display(Latex(r'$\\text{substite in x}$'))\n",
    "    display(Latex(r'$R\\log_B(M)=\\log_B(M^R)$'))"
   ]
  },
  {
   "cell_type": "code",
   "execution_count": 7,
   "metadata": {},
   "outputs": [
    {
     "name": "stdout",
     "output_type": "stream",
     "text": [
      "pick a base (B) -must be an integer 2\n",
      "pick a first number (M) -must be an integer 3\n",
      "pick a second number (R) -must be an integer 2\n"
     ]
    },
    {
     "data": {
      "image/png": "[encoded data removed]",
      "text/plain": [
       "<matplotlib.figure.Figure at 0x7fc4de743710>"
      ]
     },
     "metadata": {},
     "output_type": "display_data"
    },
    {
     "data": {
      "application/vnd.jupyter.widget-view+json": {
       "model_id": "31294ca19de04677820c6494308979f1",
       "version_major": 2,
       "version_minor": 0
      },
      "text/html": [
       "<p>Failed to display Jupyter Widget of type <code>interactive</code>.</p>\n",
       "<p>\n",
       "  If you're reading this message in the Jupyter Notebook or JupyterLab Notebook, it may mean\n",
       "  that the widgets JavaScript is still loading. If this message persists, it\n",
       "  likely means that the widgets JavaScript library is either not installed or\n",
       "  not enabled. See the <a href=\"https://ipywidgets.readthedocs.io/en/stable/user_install.html\">Jupyter\n",
       "  Widgets Documentation</a> for setup instructions.\n",
       "</p>\n",
       "<p>\n",
       "  If you're reading this message in another frontend (for example, a static\n",
       "  rendering on GitHub or <a href=\"https://nbviewer.jupyter.org/\">NBViewer</a>),\n",
       "  it may mean that your frontend doesn't currently support widgets.\n",
       "</p>\n"
      ],
      "text/plain": [
       "interactive(children=(FloatSlider(value=5.0, description='axis', max=10.0, min=1.0, step=1.0), Output()), _dom_classes=('widget-interact',))"
      ]
     },
     "metadata": {},
     "output_type": "display_data"
    },
    {
     "name": "stdout",
     "output_type": "stream",
     "text": [
      "thus\n"
     ]
    },
    {
     "data": {
      "text/latex": [
       "$$\\log_{B}(M^R)=R\\log_B(M)$$"
      ],
      "text/plain": [
       "<IPython.core.display.Math object>"
      ]
     },
     "metadata": {},
     "output_type": "display_data"
    }
   ],
   "source": [
    "#Interactive graphical proof\n",
    "if direction=='graph':\n",
    "    b=int(input('pick a base (B) -must be an integer '))\n",
    "    m=int(input('pick a first number (M) -must be an integer '))\n",
    "    r=int(input('pick a second number (R) -must be an integer '))\n",
    "    \n",
    "    x=np.linspace(1,10)\n",
    "    fig = plt.figure()\n",
    "    ax = fig.add_subplot(1, 1, 1)\n",
    "    line, = ax.plot(x, f(r,m,b,x))\n",
    "\n",
    "    def update(axis = (1.0,10,1)):\n",
    "        p1=log((m*axis)**r,b)\n",
    "        p2=r*log(m*axis,b)  \n",
    "        plt.plot(x,f(r,m,b,x),'-g',label='log(n)')\n",
    "        plt.plot(x,f1(r,m,b,x),'-b',label='log(m)')\n",
    "        plt.plot(axis,p1,'ob',axis,p2,'og')\n",
    "        plt.legend(bbox_to_anchor=(1.05, 1), loc=2, borderaxespad=0.)\n",
    "        plt.xticks(np.arange(0, 10, step=1))\n",
    "        plt.show()\n",
    "        print('at x={0:1.3f}'.format(axis))\n",
    "        print('The points are at {0:1.3f} {1:1.3f} '.format(p1, p2))\n",
    "        print('The points at {0:1.3f}*log({1:1.3f}x) and log({2:1.3f}x) are at {3:1.3f} and {4:1.3f} repectively'.format(r,m,m**r,p1, p2))\n",
    "        print('{0:1.3f}={1:1.3f}'.format(p1,p2))\n",
    "        fig.canvas.draw()\n",
    "\n",
    "    interact(update);\n",
    "\n",
    "\n",
    "    print('thus')\n",
    "    display(Math(r'\\log_{B}(M^R)=R\\log_B(M)'))"
   ]
  }
 ],
 "metadata": {
  "kernelspec": {
   "display_name": "Python 3",
   "language": "python",
   "name": "python3"
  },
  "language_info": {
   "codemirror_mode": {
    "name": "ipython",
    "version": 3
   },
   "file_extension": ".py",
   "mimetype": "text/x-python",
   "name": "python",
   "nbconvert_exporter": "python",
   "pygments_lexer": "ipython3",
   "version": "3.6.5"
  }
 },
 "nbformat": 4,
 "nbformat_minor": 2
}

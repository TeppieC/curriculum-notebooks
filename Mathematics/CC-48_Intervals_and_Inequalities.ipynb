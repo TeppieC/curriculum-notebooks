{
 "cells": [
  {
   "cell_type": "code",
   "execution_count": 7,
   "metadata": {
    "scrolled": false
   },
   "outputs": [
    {
     "data": {
      "text/html": [
       "<script>\n",
       "  function code_toggle() {\n",
       "    if (code_shown){\n",
       "      $('div.input').hide();\n",
       "      $('#toggleButton').val('Show Code')\n",
       "    } else {\n",
       "      $('div.input').show();\n",
       "      $('#toggleButton').val('Hide Code')\n",
       "    }\n",
       "    code_shown = !code_shown\n",
       "  }\n",
       "\n",
       "  $( document ).ready(function(){\n",
       "    code_shown=false;\n",
       "    $('div.input').hide()\n",
       "  });\n",
       "</script>\n",
       "<form action=\"javascript:code_toggle()\"><input type=\"submit\" id=\"toggleButton\" value=\"Show Code\"></form"
      ],
      "text/plain": [
       "<IPython.core.display.HTML object>"
      ]
     },
     "execution_count": 7,
     "metadata": {},
     "output_type": "execute_result"
    }
   ],
   "source": [
    "from IPython.display import HTML\n",
    "\n",
    "HTML('''<script>\n",
    "  function code_toggle() {\n",
    "    if (code_shown){\n",
    "      $('div.input').hide();\n",
    "      $('#toggleButton').val('Show Code')\n",
    "    } else {\n",
    "      $('div.input').show();\n",
    "      $('#toggleButton').val('Hide Code')\n",
    "    }\n",
    "    code_shown = !code_shown\n",
    "  }\n",
    "\n",
    "  $( document ).ready(function(){\n",
    "    code_shown=false;\n",
    "    $('div.input').hide()\n",
    "  });\n",
    "</script>\n",
    "<form action=\"javascript:code_toggle()\"><input type=\"submit\" id=\"toggleButton\" value=\"Show Code\"></form''')"
   ]
  },
  {
   "cell_type": "markdown",
   "metadata": {},
   "source": [
    "*Be sure to run the cell (by pressing SHIFT and ENTER at the same time) below to input the necessary python libraries to run this notebook*"
   ]
  },
  {
   "cell_type": "code",
   "execution_count": 8,
   "metadata": {},
   "outputs": [],
   "source": [
    "import numpy as np\n",
    "import matplotlib.pyplot as plt\n",
    "from IPython.display import display, Math, Latex\n",
    "import matplotlib as mpl\n",
    "import ipywidgets as widgets\n",
    "from ipywidgets import interact, interactive, Layout\n",
    "import time\n",
    "import matplotlib.image as mpimg\n",
    "\n",
    "'''\n",
    "Above, we are importing all the necessary modules in order to run the notebook. \n",
    "Numpy allows us to define arrays of values for our variables to plot them\n",
    "matplotlib is what we use to create the figures\n",
    "the display and widgets are to make the notebook look neat\n",
    "''';\n",
    "\n"
   ]
  },
  {
   "cell_type": "markdown",
   "metadata": {},
   "source": [
    "# Introduction"
   ]
  },
  {
   "cell_type": "markdown",
   "metadata": {},
   "source": [
    "In this notebook, we will review some basics about polynomial functions such as\n",
    "- the general form of a polynomial\n",
    "- what terms make up a polynomial\n",
    "- what defines the degree or order of a polynomial\n",
    "\n",
    "We will then examine solving inequalities involving polynomials of degree 3 or less, both analytically and graphically, and breifly look over how to display the solutions on a number line, and how to represent solutions in interval notation. \n",
    "\n",
    "Finally, we will visualize how changing certain paramaters of polynomials can change the shape of it's graph, which results in a different interval satisfying a given inequality.\n",
    "\n",
    "At the end of this notebook, there will be a small section covering some basics of  `python` syntax and coding. This optional section will show the user how to create simple plots of polynomials in `python`, which can be used to help solve some of the extra problems.\n",
    "\n"
   ]
  },
  {
   "cell_type": "markdown",
   "metadata": {},
   "source": [
    "## Polynomials\n"
   ]
  },
  {
   "cell_type": "markdown",
   "metadata": {},
   "source": [
    "A polynomial is a function comprised of constants and variables. The constants and variables can be related to each other  by addition, multiplication and exponentiation to a non-negative integer power ( https://en.wikipedia.org/wiki/Polynomial ). In this notebook, we will let $P(x)$ denote a general polynomial, and we will only deal with polynomials of a single variable $x$. \n",
    "\n",
    "In general, a polynomial is expressed as:\n",
    "\n",
    "$P(x) = c_0x^n + c_1x^{n-1} + c_2x^{n-2} + ... + c_{n-1}x + c_n = \\Sigma^n_{k=0}a_kx^k$\n",
    "\n",
    "where $c_i$ are *constant terms*, $x$ is the variable. The largest value of $n$ ( i.e. the largest exponent of the polynomial) determines the *degree* of the polynomial. For example, some polynomials of degree *three* ($n=3$) could be:</br>\n",
    "\n",
    "$P(x) = x^3 + 2x^2 + 5x + 4$\n",
    "\n",
    "$P(x) = 3x^3 + 8x $\n",
    "\n",
    "$P(x) = x^3 + x^2 + 4$\n",
    "\n",
    "Note how the number of terms **does not** effect the degree of the polynomial, only the value of the largest exponent does. \n",
    "\n",
    "A polynomial with degree *0* is called a *constant polynomial*, or just a *constant*. This is because of the mathematical identity\n",
    "\n",
    "$x^0 = 1$,\n",
    "\n",
    "so if we have any polynomail of degree 0, we have\n",
    "\n",
    "$P(x) = c_1x^0 + c_2 = c_1 + c_2 = C$,\n",
    "\n",
    "which of course is just a constant (i.e. some number, $C$).\n",
    "\n",
    "While we will only be dealing with singe variable polynomials, it is worth noting that they can exist with *multiple variables*, i.e.\n",
    "\n",
    "$P(x,y,z) = x^3 - xy^2 + z^6 -3x^2y^6z^4 +2$"
   ]
  },
  {
   "cell_type": "code",
   "execution_count": 10,
   "metadata": {
    "scrolled": false
   },
   "outputs": [
    {
     "data": {
      "text/latex": [
       "From the list of funcitons below, check which ones are polynomials:"
      ],
      "text/plain": [
       "<IPython.core.display.Latex object>"
      ]
     },
     "metadata": {},
     "output_type": "display_data"
    },
    {
     "data": {
      "application/vnd.jupyter.widget-view+json": {
       "model_id": "354268032e244ed7813fd8ceefd5d7bc",
       "version_major": 2,
       "version_minor": 0
      },
      "text/plain": [
       "Checkbox(value=False, description='$x^2+5x-8x^3$')"
      ]
     },
     "metadata": {},
     "output_type": "display_data"
    },
    {
     "data": {
      "application/vnd.jupyter.widget-view+json": {
       "model_id": "f4a6f16f5ef24af3897d40889f2b0bfb",
       "version_major": 2,
       "version_minor": 0
      },
      "text/plain": [
       "Checkbox(value=False, description='$x+3$')"
      ]
     },
     "metadata": {},
     "output_type": "display_data"
    },
    {
     "data": {
      "application/vnd.jupyter.widget-view+json": {
       "model_id": "324ce88d5a264bd38bafb84b13dbb6d6",
       "version_major": 2,
       "version_minor": 0
      },
      "text/plain": [
       "Checkbox(value=False, description='$\\\\sin(x) + \\\\cos(x)$')"
      ]
     },
     "metadata": {},
     "output_type": "display_data"
    },
    {
     "data": {
      "application/vnd.jupyter.widget-view+json": {
       "model_id": "6833f485c06e44e6bb58f7d1756af0d6",
       "version_major": 2,
       "version_minor": 0
      },
      "text/plain": [
       "Checkbox(value=False, description='$x^5 - 2$')"
      ]
     },
     "metadata": {},
     "output_type": "display_data"
    },
    {
     "data": {
      "application/vnd.jupyter.widget-view+json": {
       "model_id": "4bcd0a36e1114bacaf5f1440be8856a7",
       "version_major": 2,
       "version_minor": 0
      },
      "text/plain": [
       "Checkbox(value=False, description='$\\\\ln(x)$')"
      ]
     },
     "metadata": {},
     "output_type": "display_data"
    },
    {
     "data": {
      "application/vnd.jupyter.widget-view+json": {
       "model_id": "77efa1b930ce4f1bbafd034a53625cbe",
       "version_major": 2,
       "version_minor": 0
      },
      "text/plain": [
       "Checkbox(value=False, description='$100$')"
      ]
     },
     "metadata": {},
     "output_type": "display_data"
    },
    {
     "data": {
      "application/vnd.jupyter.widget-view+json": {
       "model_id": "8b99a119be91419cbc7f9a70107648a4",
       "version_major": 2,
       "version_minor": 0
      },
      "text/plain": [
       "Button(description='check', style=ButtonStyle())"
      ]
     },
     "metadata": {},
     "output_type": "display_data"
    }
   ],
   "source": [
    "\n",
    "#display(Latex('...')) will print the string in the output cell, in a nice font, and allows for easily inputing Math symbos and equations\n",
    "display(Latex('From the list of funcitons below, check which ones are polynomials:'))\n",
    "\n",
    "#define a series of checkboxes to test knowledge of  polynomial forms\n",
    "a=widgets.Checkbox(\n",
    "    value=False, #a false value meand unchecked, while a checked value will be \"True'\" \n",
    "    description=r'$x^2+5x-8x^3$', #use r'' to make a raw stringas button description\n",
    "    disabled=False\n",
    ")\n",
    "\n",
    "b=widgets.Checkbox(\n",
    "    value=False,\n",
    "    description=r'$x+3$',\n",
    "    disabled=False\n",
    ")\n",
    "c=widgets.Checkbox(\n",
    "    value=False,\n",
    "    description=r'$\\sin(x) + \\cos(x)$',\n",
    "    disabled=False\n",
    ")\n",
    "d=widgets.Checkbox(\n",
    "    value=False,\n",
    "    description=r'$x^5 - 2$',\n",
    "    disabled=False\n",
    ")\n",
    "\n",
    "e=widgets.Checkbox(\n",
    "    value=False,\n",
    "    description=r'$\\ln(x)$',\n",
    "    disabled=False\n",
    ")\n",
    "\n",
    "f=widgets.Checkbox(\n",
    "        value=False,\n",
    "        description=r'$100$',\n",
    "    disabled=False\n",
    ")\n",
    "\n",
    "#to actually display the buttons, we need to use the IPython.display package, and call each button as the argument\n",
    "display(a)\n",
    "display(b)\n",
    "display(c)\n",
    "display(d)\n",
    "display(e)\n",
    "display(f)\n",
    "\n",
    "#create a button widget to check answers, again calling the button to display\n",
    "button_check = widgets.Button(description=\"check\")\n",
    "display(button_check)\n",
    "\n",
    "#a simple funciton to determine if user inputs are correct\n",
    "def check_button(x):\n",
    "    if a.value==True and b.value==True and c.value==False and d.value==True and e.value==False and f.value==True: #notebook will display 'correct'  message  IF (and only if) each of the boxes satisfy these value conditions \n",
    "        display(Latex(\"Correct - these are all polynomials! Let's move on to the next cell.\"))\n",
    "    else: #if any of the checkboxes have the incorrect value, output will ask user to try again\n",
    "        display(Latex(\"Not quite - either some of your selections aren't polynomials, or some of the options that you didn't select are. Check your answers again!\"))\n",
    "\n",
    "button_check.on_click(check_button)\n",
    "\n",
    "    "
   ]
  },
  {
   "cell_type": "markdown",
   "metadata": {},
   "source": [
    "# Intervals of Inequalities"
   ]
  },
  {
   "cell_type": "markdown",
   "metadata": {},
   "source": [
    "## Interval Notation\n"
   ]
  },
  {
   "cell_type": "markdown",
   "metadata": {},
   "source": [
    "Interval notation is a way of representing an interval of numbers by the two endpoints of the interval. Parentheses (  ) and brackets [  ] are used to represent whether the end points are included in the interval or not.  \n",
    "\n",
    "\n",
    "For example, consider the interval between $-3$ and $4$, including $-3$, but **not** including $4$, i.e. $-3 \\leq x < 4$. We can represent this on a number line as follows:\n",
    "\n",
    "![intvl1.png](images/intvl1.png)\n",
    "\n",
    "In **interval notation**, we would simply write: $[-3,4)$\n",
    "\n",
    "If, however, the interval extended from $-3$ to **all** real numbers larger than $-3$, i.e. $-3 \\leq x$, the number line would look like:\n",
    "\n",
    "![intvl2.png](images/intvl2.png)\n",
    "\n",
    "and our interval notation representation would be: $[-3, \\infty)$, where $\\infty$ (infinity) essentially means all possible numbers beyond this point.\n",
    "\n",
    "Sometimes it is alos necessary to include multiple intervals. Consider an inequality in which the solution is $-3\\leq x <0$ and $4 \\leq x$. We can represent this solution in interval notation with the **union** symbol, which is just a capitol U, and means that both intervals satisfy the inequality: $[-3,0)$ U $[4,\\infty)$"
   ]
  },
  {
   "cell_type": "markdown",
   "metadata": {},
   "source": [
    "## Solving Inequalities"
   ]
  },
  {
   "cell_type": "markdown",
   "metadata": {},
   "source": [
    "Given a polynomial $P(x)$, we can determine the range in which that polynomial satisfies a certain inequality. For example, consider the polynomial function\n",
    "\n",
    "$P(x) = x^2 + 4x$.\n",
    "\n",
    "For which values of $x$ is the ploynomial $P(x)$ less than three? Or, in a mathematical representations, on which interval is the inequality $P(x) \\leq -3$ satisfied?\n",
    "\n",
    "We can solve this algebraically, as follows:\n",
    "\n",
    "1. Write the polynomial in standard form:   $x^2 + 4x + 3 \\leq 0 $\n",
    "    \n",
    "2. Factor the polynomial:   $(x+1)(x+3) \\leq 0$\n",
    "\n",
    "What this new expression is essentiall telling us is that the product of two numbers (say $a=(x+1)$ and $b=(x+3)$) is equal to zero, or negative, i.e. $a\\cdot b\\leq 0 $. The only way this is possible is if $a=0$, $b=0$, or $a$ and $b$ have **opposite** signs. So the inequality $P(x) \\leq -3$ is satisfied if:\n",
    "\n",
    "- $(x+1) = 0$\n",
    "- $(x+3) = 0$\n",
    "- $(x+1)>0$ and $(x+3)<0$\n",
    "- $(x+1)<0$ and $(x+3)>0$\n",
    "\n",
    "From these possibilities, we can see the possible solutions are:\n",
    "\n",
    "- $x=-1$\n",
    "- $x=-3$\n",
    "- $x>-1$ and $x<-3$\n",
    "- $x<-1$ and $x>-3$\n",
    " \n",
    "If we consider the solution $x>-1$ and $x<-3$, what are the possible values of $x$? If we say $x=1$ we satisfy the first inequality, but not the second, since $1$ is **not** less than $-3$. We can see that there is no possible x value that will result in  $(x+1)>0$ and $(x+3)<0$, so we can eliminate this as a possible solution.\n",
    "\n",
    "However, we can find values of $x$ that satisfy $x<-1$ and $x>-3$. For example, $x=-2$\n",
    "\n",
    "Thus, the solution to the inequality is $x=-1$, $x=-3$, and $x<-1$ and $x>-3$. We can plot this solution set on a number line:\n",
    "\n",
    "![ex1.png](images/ex1.png)\n",
    "\n",
    "\n",
    "or in *interval notation*, the solution is : **[-3,-1]**"
   ]
  },
  {
   "cell_type": "markdown",
   "metadata": {},
   "source": [
    "## Let's work through an example together"
   ]
  },
  {
   "cell_type": "code",
   "execution_count": 12,
   "metadata": {
    "scrolled": false
   },
   "outputs": [
    {
     "data": {
      "text/latex": [
       "Consider the inequality $(-x)(4x - 8) \\leq -96$. Re-write the inequality in standard form (use the symbol ^ to indicate an exponent and <= for the inequality sign):"
      ],
      "text/plain": [
       "<IPython.core.display.Latex object>"
      ]
     },
     "metadata": {},
     "output_type": "display_data"
    },
    {
     "name": "stdout",
     "output_type": "stream",
     "text": [
      "-4x^2+8x+96<=0\n"
     ]
    },
    {
     "data": {
      "text/latex": [
       "Very good! The standard form of this inequality is $-4x^2+8x+96\\leq0$."
      ],
      "text/plain": [
       "<IPython.core.display.Latex object>"
      ]
     },
     "metadata": {},
     "output_type": "display_data"
    },
    {
     "data": {
      "text/latex": [
       "We can simplify this further by reducing the leading coeffecient to 1. We do this by simply dividing both sides by $-4$. If we do this, what does our expression become then?"
      ],
      "text/plain": [
       "<IPython.core.display.Latex object>"
      ]
     },
     "metadata": {},
     "output_type": "display_data"
    },
    {
     "name": "stdout",
     "output_type": "stream",
     "text": [
      "x^2-2x-24>=0\n"
     ]
    },
    {
     "data": {
      "text/latex": [
       "Excellent! It's important to remember that if we divide or multiply an inequality by a negative number, we flip the inequality sign."
      ],
      "text/plain": [
       "<IPython.core.display.Latex object>"
      ]
     },
     "metadata": {},
     "output_type": "display_data"
    },
    {
     "data": {
      "text/latex": [
       "The next step is to factor our simplified polynomial expression: $x^2 - 2x - 24 \\geq 0$."
      ],
      "text/plain": [
       "<IPython.core.display.Latex object>"
      ]
     },
     "metadata": {},
     "output_type": "display_data"
    },
    {
     "data": {
      "text/latex": [
       "Input the factored expression below:"
      ],
      "text/plain": [
       "<IPython.core.display.Latex object>"
      ]
     },
     "metadata": {},
     "output_type": "display_data"
    },
    {
     "name": "stdout",
     "output_type": "stream",
     "text": [
      "(x+4)(x-6)>=0\n"
     ]
    },
    {
     "data": {
      "text/latex": [
       "Correctomundo!"
      ],
      "text/plain": [
       "<IPython.core.display.Latex object>"
      ]
     },
     "metadata": {},
     "output_type": "display_data"
    },
    {
     "data": {
      "text/latex": [
       "Since we have $(x-6)(x+4)\\geq 0$, there are the two sign possibilities; either"
      ],
      "text/plain": [
       "<IPython.core.display.Latex object>"
      ]
     },
     "metadata": {},
     "output_type": "display_data"
    },
    {
     "data": {
      "text/latex": [
       "$1. ~ (x-6)\\geq 0$ and $(x+4)\\geq 0$"
      ],
      "text/plain": [
       "<IPython.core.display.Latex object>"
      ]
     },
     "metadata": {},
     "output_type": "display_data"
    },
    {
     "data": {
      "text/latex": [
       "or"
      ],
      "text/plain": [
       "<IPython.core.display.Latex object>"
      ]
     },
     "metadata": {},
     "output_type": "display_data"
    },
    {
     "data": {
      "text/latex": [
       "$2. ~ (x-6)\\leq 0$ and $(x+4)\\leq 0$"
      ],
      "text/plain": [
       "<IPython.core.display.Latex object>"
      ]
     },
     "metadata": {},
     "output_type": "display_data"
    },
    {
     "data": {
      "text/latex": [
       "Consider expression $1.$ Can you see what solution satisfies both $(x-6)\\geq 0$ and $(x+4)\\geq 0$? Enter your answer below in the form \"x>= _\""
      ],
      "text/plain": [
       "<IPython.core.display.Latex object>"
      ]
     },
     "metadata": {},
     "output_type": "display_data"
    },
    {
     "name": "stdout",
     "output_type": "stream",
     "text": [
      "x>=6\n"
     ]
    },
    {
     "data": {
      "text/latex": [
       "Very good! Since we are looking for values of $x$ that are larger than 6 and -4, and $6>-4$, the first expresssion gives us one simple solution interval: $x\\geq6$"
      ],
      "text/plain": [
       "<IPython.core.display.Latex object>"
      ]
     },
     "metadata": {},
     "output_type": "display_data"
    },
    {
     "data": {
      "text/latex": [
       "Now consider expression $2$ What is the interval satsfying these inequalities?"
      ],
      "text/plain": [
       "<IPython.core.display.Latex object>"
      ]
     },
     "metadata": {},
     "output_type": "display_data"
    },
    {
     "name": "stdout",
     "output_type": "stream",
     "text": [
      "x<=-4\n"
     ]
    },
    {
     "data": {
      "text/latex": [
       "Very good! Since we are looking for values of $x$ that are less than -4 and6 and $6>-4$, this expresssion also gives us one simple solution interval: $x\\leq-4$"
      ],
      "text/plain": [
       "<IPython.core.display.Latex object>"
      ]
     },
     "metadata": {},
     "output_type": "display_data"
    },
    {
     "data": {
      "text/latex": [
       "So, what is our final solution interval for the inequality $(-x)(4x - 8) \\leq -96$? Enter your answer in interval notation, using the following notations if necessary:"
      ],
      "text/plain": [
       "<IPython.core.display.Latex object>"
      ]
     },
     "metadata": {},
     "output_type": "display_data"
    },
    {
     "data": {
      "text/latex": [
       " Union symbol: U"
      ],
      "text/plain": [
       "<IPython.core.display.Latex object>"
      ]
     },
     "metadata": {},
     "output_type": "display_data"
    },
    {
     "data": {
      "text/latex": [
       "+/- Infinity : +/-infinity"
      ],
      "text/plain": [
       "<IPython.core.display.Latex object>"
      ]
     },
     "metadata": {},
     "output_type": "display_data"
    },
    {
     "name": "stdout",
     "output_type": "stream",
     "text": [
      "(-infinity,-4]U[6,infinity)\n"
     ]
    },
    {
     "data": {
      "text/latex": [
       "Excellent!"
      ],
      "text/plain": [
       "<IPython.core.display.Latex object>"
      ]
     },
     "metadata": {},
     "output_type": "display_data"
    },
    {
     "data": {
      "text/latex": [
       "The solution of the inequality is: $(-\\infty, -4]$U$[6,\\infty)$"
      ],
      "text/plain": [
       "<IPython.core.display.Latex object>"
      ]
     },
     "metadata": {},
     "output_type": "display_data"
    },
    {
     "data": {
      "text/latex": [
       "On a number line, this solution looks like"
      ],
      "text/plain": [
       "<IPython.core.display.Latex object>"
      ]
     },
     "metadata": {},
     "output_type": "display_data"
    },
    {
     "data": {
      "image/png": "[encoded data removed]",
      "text/plain": [
       "<matplotlib.figure.Figure at 0x7f7078c5d470>"
      ]
     },
     "metadata": {},
     "output_type": "display_data"
    },
    {
     "data": {
      "text/latex": [
       "Let's move on to solving inequalities graphically! "
      ],
      "text/plain": [
       "<IPython.core.display.Latex object>"
      ]
     },
     "metadata": {},
     "output_type": "display_data"
    }
   ],
   "source": [
    "%matplotlib inline\n",
    "%matplotlib inline\n",
    "try:\n",
    "    display(Latex('Consider the inequality $(-x)(4x - 8) \\leq -96$. Re-write the inequality in standard form (use the symbol ^ to indicate an exponent and <= for the inequality sign):'))\n",
    "\n",
    "    std_form = '-4x^2+8x+96<=0'\n",
    "    check_inpt = 0\n",
    "\n",
    "    breaker = 0\n",
    "    while check_inpt == 0:\n",
    "        inpt_form = str(input())\n",
    "        if inpt_form == std_form:\n",
    "            check_inpt = 1\n",
    "            display(Latex('Very good! The standard form of this inequality is $-4x^2+8x+96\\leq0$.'))\n",
    "        else:\n",
    "            breaker += 1\n",
    "            display(Latex('Not quite - try again! Hint: make sure there are no spaces between any of the characters.'))\n",
    "            if breaker == 5:\n",
    "                display(Latex(\"The correct answer is $-4x^2+8x+96\\leq0$.\"))\n",
    "                display(Latex(\"Let's try the next step!\"))\n",
    "                check_inpt = 1\n",
    "                break\n",
    "            else:\n",
    "                continue\n",
    "\n",
    "    \n",
    "    if check_inpt == 1:\n",
    "        breaker = 0\n",
    "        display(Latex('We can simplify this further by reducing the leading coeffecient to 1. We do this by simply dividing both sides by $-4$. If we do this, what does our expression become then?'))\n",
    "        simplify_form = 'x^2-2x-24>=0'   \n",
    "        while check_inpt == 1:\n",
    "            inpt_simpl = str(input())\n",
    "            if inpt_simpl == simplify_form:\n",
    "                check_inpt = 2\n",
    "                display(Latex(\"Excellent! It's important to remember that if we divide or multiply an inequality by a negative number, we flip the inequality sign.\"))\n",
    "            elif inpt_simpl ==  'x^2-2x-24<=0':\n",
    "                breaker += 1 \n",
    "                display(Latex('Almost, but not quite! Remeber that if we divide or multiply an inequality by a negative number, we flip the inequality sign.'))\n",
    "                if breaker == 5:\n",
    "                    display(Latex(\"The answer we're looking for is $x^2 - 2x - 24 \\geq 0$\"))\n",
    "                    display(Latex(\"Let's go on to the next step in this problem.\"))\n",
    "                    check_inpt = 2\n",
    "                    break\n",
    "                else:\n",
    "                    continue\n",
    "            else:\n",
    "                breaker += 1\n",
    "                display(Latex('Not quite - try again! Hint: make sure there are no spaces between any of the characters.'))\n",
    "                if breaker == 5:\n",
    "                    display(Latex(\"The answer we're looking for is $x^2 - 2x - 24 \\geq 0$\"))\n",
    "                    display(Latex(\"Let's go on to the next step in this problem.\"))\n",
    "                    check_inpt = 2\n",
    "                    break\n",
    "                else:   \n",
    "                    continue\n",
    "\n",
    "    if check_inpt == 2:\n",
    "        breaker = 0\n",
    "        display(Latex('The next step is to factor our simplified polynomial expression: $x^2 - 2x - 24 \\geq 0$.'))\n",
    "        display(Latex('Input the factored expression below:'))\n",
    "        factored_1 = '(x-6)(x+4)>=0'\n",
    "        factored_2 = '(x+4)(x-6)>=0'\n",
    "        while check_inpt == 2:\n",
    "            inpt_factor = str(input())\n",
    "            if inpt_factor == factored_1 or inpt_factor == factored_2:\n",
    "                check_inpt = 3\n",
    "                display(Latex('Correctomundo!'))\n",
    "            else:\n",
    "                breaker += 1\n",
    "                display(Latex('Not quite - try again!'))\n",
    "                if breaker == 5:\n",
    "                    display(Latex(\"If we factor this expression, we should find $(x-6)(x+4)\\geq 0$.\"))\n",
    "                    display(Latex(\"Before you move on, make sure you understand how to get this answer!\"))\n",
    "                    check_inpt = 3\n",
    "                    break\n",
    "                else:\n",
    "                    continue\n",
    " \n",
    "    if check_inpt == 3:\n",
    "        breaker = 0\n",
    "        display(Latex('Since we have $(x-6)(x+4)\\geq 0$, there are the two sign possibilities; either'))\n",
    "        display(Latex('$1. ~ (x-6)\\geq 0$ and $(x+4)\\geq 0$'))\n",
    "        display(Latex('or'))\n",
    "        display(Latex('$2. ~ (x-6)\\leq 0$ and $(x+4)\\leq 0$'))\n",
    "        display(Latex('Consider expression $1.$ Can you see what solution satisfies both $(x-6)\\geq 0$ and $(x+4)\\geq 0$? Enter your answer below in the form \"x>= _\"'))\n",
    "        while check_inpt == 3:\n",
    "                intvl_1 = str(input())\n",
    "                if intvl_1 == 'x>=6':\n",
    "                    check_inpt = 4\n",
    "                    display(Latex('Very good! Since we are looking for values of $x$ that are larger than 6 and -4, and $6>-4$, the first expresssion gives us one simple solution interval: $x\\geq6$'))\n",
    "                else:\n",
    "                    breaker += 1\n",
    "                    display(Latex('Not quite - try again!'))\n",
    "                    if breaker == 5:\n",
    "                        display(Latex(\"From expression 1, we should find that $x\\geq6$, since any number greater than 6 is also larger than -4!\"))\n",
    "                        check_inpt = 4\n",
    "                        break\n",
    "                    else:\n",
    "                        continue\n",
    "\n",
    "    if check_inpt == 4:\n",
    "        breaker = 0\n",
    "        display(Latex('Now consider expression $2$ What is the interval satsfying these inequalities?'))\n",
    "        while check_inpt == 4:\n",
    "            intvl_2 = str(input())\n",
    "            if intvl_2 == 'x<=-4':\n",
    "                check_inpt = 5\n",
    "                display(Latex('Very good! Since we are looking for values of $x$ that are less than -4 and6 and $6>-4$, this expresssion also gives us one simple solution interval: $x\\leq-4$'))\n",
    "            else:\n",
    "                breaker += 1\n",
    "                display(Latex('Not quite - try again!'))\n",
    "                if breaker == 5:\n",
    "                    display(Latex(\"The interval from expression 2 is $x\\leq-4$.\"))\n",
    "                    check_inpt = 5\n",
    "                    break\n",
    "                else:\n",
    "                    continue\n",
    "\n",
    "    if check_inpt == 5:\n",
    "        breaker = 0\n",
    "        display(Latex('So, what is our final solution interval for the inequality $(-x)(4x - 8) \\leq -96$? Enter your answer in interval notation, using the following notations if necessary:'))\n",
    "        display(Latex(' Union symbol: U'))\n",
    "        display(Latex('+/- Infinity : +/-infinity'))\n",
    "        final_intvl ='(-infinity,-4]U[6,infinity)'\n",
    "        while check_inpt == 5:\n",
    "            final_inpt = str(input())\n",
    "            if final_inpt == final_intvl:\n",
    "                check_inpt = 6\n",
    "                display(Latex('Excellent!'))\n",
    "                display(Latex('The solution of the inequality is: $(-\\infty, -4]$U$[6,\\infty)$'))\n",
    "                display(Latex('On a number line, this solution looks like'))\n",
    "                img = mpimg.imread('images/ex_soln.png')\n",
    "                fig, ax = plt.subplots(figsize=(18, 3))\n",
    "                imgplot = ax.imshow(img,  aspect='auto')\n",
    "                ax.axis('off')\n",
    "                plt.show()\n",
    "                display(Latex(\"Let's move on to solving inequalities graphically! \"))\n",
    "            else:\n",
    "                breaker += 1\n",
    "                display(Latex('Not quite - try again!'))\n",
    "                if breaker == 5:\n",
    "                    display(Latex(\"The solution of the inequality is: $(-\\infty, -4]$U$[6,\\infty)$\"))\n",
    "                    display(Latex('On a number line, this solution looks like'))\n",
    "                    img = mpimg.imread('images/ex_soln.png')\n",
    "                    fig, ax = plt.subplots(figsize=(18, 3))\n",
    "                    imgplot = ax.imshow(img,  aspect='auto')\n",
    "                    ax.axis('off')\n",
    "                    plt.show()\n",
    "                    display(Latex(\"If you struggled with any of these steps, try going back and starting this example again, and make sure you understand all the steps involved!\"))\n",
    "                    display(Latex(\"Otherwise, let's move on to solving inequalities graphically! \"))\n",
    "                    break\n",
    "                else:\n",
    "                    continue\n",
    "\n",
    "                \n",
    "except KeyboardInterrupt:\n",
    "    pass"
   ]
  },
  {
   "cell_type": "markdown",
   "metadata": {},
   "source": [
    "## Graphical visualization of inequality solutions"
   ]
  },
  {
   "cell_type": "code",
   "execution_count": 13,
   "metadata": {
    "scrolled": false
   },
   "outputs": [
    {
     "data": {
      "text/latex": [
       "Here is a graph of the polynomial $P(x) = x^2 + 4x$"
      ],
      "text/plain": [
       "<IPython.core.display.Latex object>"
      ]
     },
     "metadata": {},
     "output_type": "display_data"
    },
    {
     "data": {
      "text/latex": [
       "Let's try to solve where this polynomial is $\\leq -3$, or  $x^2 + 4x \\leq -3$."
      ],
      "text/plain": [
       "<IPython.core.display.Latex object>"
      ]
     },
     "metadata": {},
     "output_type": "display_data"
    },
    {
     "data": {
      "text/latex": [
       "Let's draw a line at $y=-3$ to help visualize this. (press the 'draw' button)"
      ],
      "text/plain": [
       "<IPython.core.display.Latex object>"
      ]
     },
     "metadata": {},
     "output_type": "display_data"
    },
    {
     "data": {
      "application/javascript": [
       "/* Put everything inside the global mpl namespace */\n",
       "window.mpl = {};\n",
       "\n",
       "mpl.get_websocket_type = function() {\n",
       "    if (typeof(WebSocket) !== 'undefined') {\n",
       "        return WebSocket;\n",
       "    } else if (typeof(MozWebSocket) !== 'undefined') {\n",
       "        return MozWebSocket;\n",
       "    } else {\n",
       "        alert('Your browser does not have WebSocket support.' +\n",
       "              'Please try Chrome, Safari or Firefox ≥ 6. ' +\n",
       "              'Firefox 4 and 5 are also supported but you ' +\n",
       "              'have to enable WebSockets in about:config.');\n",
       "    };\n",
       "}\n",
       "\n",
       "mpl.figure = function(figure_id, websocket, ondownload, parent_element) {\n",
       "    this.id = figure_id;\n",
       "\n",
       "    this.ws = websocket;\n",
       "\n",
       "    this.supports_binary = (this.ws.binaryType != undefined);\n",
       "\n",
       "    if (!this.supports_binary) {\n",
       "        var warnings = document.getElementById(\"mpl-warnings\");\n",
       "        if (warnings) {\n",
       "            warnings.style.display = 'block';\n",
       "            warnings.textContent = (\n",
       "                \"This browser does not support binary websocket messages. \" +\n",
       "                    \"Performance may be slow.\");\n",
       "        }\n",
       "    }\n",
       "\n",
       "    this.imageObj = new Image();\n",
       "\n",
       "    this.context = undefined;\n",
       "    this.message = undefined;\n",
       "    this.canvas = undefined;\n",
       "    this.rubberband_canvas = undefined;\n",
       "    this.rubberband_context = undefined;\n",
       "    this.format_dropdown = undefined;\n",
       "\n",
       "    this.image_mode = 'full';\n",
       "\n",
       "    this.root = $('<div/>');\n",
       "    this._root_extra_style(this.root)\n",
       "    this.root.attr('style', 'display: inline-block');\n",
       "\n",
       "    $(parent_element).append(this.root);\n",
       "\n",
       "    this._init_header(this);\n",
       "    this._init_canvas(this);\n",
       "    this._init_toolbar(this);\n",
       "\n",
       "    var fig = this;\n",
       "\n",
       "    this.waiting = false;\n",
       "\n",
       "    this.ws.onopen =  function () {\n",
       "            fig.send_message(\"supports_binary\", {value: fig.supports_binary});\n",
       "            fig.send_message(\"send_image_mode\", {});\n",
       "            fig.send_message(\"refresh\", {});\n",
       "        }\n",
       "\n",
       "    this.imageObj.onload = function() {\n",
       "            if (fig.image_mode == 'full') {\n",
       "                // Full images could contain transparency (where diff images\n",
       "                // almost always do), so we need to clear the canvas so that\n",
       "                // there is no ghosting.\n",
       "                fig.context.clearRect(0, 0, fig.canvas.width, fig.canvas.height);\n",
       "            }\n",
       "            fig.context.drawImage(fig.imageObj, 0, 0);\n",
       "        };\n",
       "\n",
       "    this.imageObj.onunload = function() {\n",
       "        this.ws.close();\n",
       "    }\n",
       "\n",
       "    this.ws.onmessage = this._make_on_message_function(this);\n",
       "\n",
       "    this.ondownload = ondownload;\n",
       "}\n",
       "\n",
       "mpl.figure.prototype._init_header = function() {\n",
       "    var titlebar = $(\n",
       "        '<div class=\"ui-dialog-titlebar ui-widget-header ui-corner-all ' +\n",
       "        'ui-helper-clearfix\"/>');\n",
       "    var titletext = $(\n",
       "        '<div class=\"ui-dialog-title\" style=\"width: 100%; ' +\n",
       "        'text-align: center; padding: 3px;\"/>');\n",
       "    titlebar.append(titletext)\n",
       "    this.root.append(titlebar);\n",
       "    this.header = titletext[0];\n",
       "}\n",
       "\n",
       "\n",
       "\n",
       "mpl.figure.prototype._canvas_extra_style = function(canvas_div) {\n",
       "\n",
       "}\n",
       "\n",
       "\n",
       "mpl.figure.prototype._root_extra_style = function(canvas_div) {\n",
       "\n",
       "}\n",
       "\n",
       "mpl.figure.prototype._init_canvas = function() {\n",
       "    var fig = this;\n",
       "\n",
       "    var canvas_div = $('<div/>');\n",
       "\n",
       "    canvas_div.attr('style', 'position: relative; clear: both; outline: 0');\n",
       "\n",
       "    function canvas_keyboard_event(event) {\n",
       "        return fig.key_event(event, event['data']);\n",
       "    }\n",
       "\n",
       "    canvas_div.keydown('key_press', canvas_keyboard_event);\n",
       "    canvas_div.keyup('key_release', canvas_keyboard_event);\n",
       "    this.canvas_div = canvas_div\n",
       "    this._canvas_extra_style(canvas_div)\n",
       "    this.root.append(canvas_div);\n",
       "\n",
       "    var canvas = $('<canvas/>');\n",
       "    canvas.addClass('mpl-canvas');\n",
       "    canvas.attr('style', \"left: 0; top: 0; z-index: 0; outline: 0\")\n",
       "\n",
       "    this.canvas = canvas[0];\n",
       "    this.context = canvas[0].getContext(\"2d\");\n",
       "\n",
       "    var rubberband = $('<canvas/>');\n",
       "    rubberband.attr('style', \"position: absolute; left: 0; top: 0; z-index: 1;\")\n",
       "\n",
       "    var pass_mouse_events = true;\n",
       "\n",
       "    canvas_div.resizable({\n",
       "        start: function(event, ui) {\n",
       "            pass_mouse_events = false;\n",
       "        },\n",
       "        resize: function(event, ui) {\n",
       "            fig.request_resize(ui.size.width, ui.size.height);\n",
       "        },\n",
       "        stop: function(event, ui) {\n",
       "            pass_mouse_events = true;\n",
       "            fig.request_resize(ui.size.width, ui.size.height);\n",
       "        },\n",
       "    });\n",
       "\n",
       "    function mouse_event_fn(event) {\n",
       "        if (pass_mouse_events)\n",
       "            return fig.mouse_event(event, event['data']);\n",
       "    }\n",
       "\n",
       "    rubberband.mousedown('button_press', mouse_event_fn);\n",
       "    rubberband.mouseup('button_release', mouse_event_fn);\n",
       "    // Throttle sequential mouse events to 1 every 20ms.\n",
       "    rubberband.mousemove('motion_notify', mouse_event_fn);\n",
       "\n",
       "    rubberband.mouseenter('figure_enter', mouse_event_fn);\n",
       "    rubberband.mouseleave('figure_leave', mouse_event_fn);\n",
       "\n",
       "    canvas_div.on(\"wheel\", function (event) {\n",
       "        event = event.originalEvent;\n",
       "        event['data'] = 'scroll'\n",
       "        if (event.deltaY < 0) {\n",
       "            event.step = 1;\n",
       "        } else {\n",
       "            event.step = -1;\n",
       "        }\n",
       "        mouse_event_fn(event);\n",
       "    });\n",
       "\n",
       "    canvas_div.append(canvas);\n",
       "    canvas_div.append(rubberband);\n",
       "\n",
       "    this.rubberband = rubberband;\n",
       "    this.rubberband_canvas = rubberband[0];\n",
       "    this.rubberband_context = rubberband[0].getContext(\"2d\");\n",
       "    this.rubberband_context.strokeStyle = \"#000000\";\n",
       "\n",
       "    this._resize_canvas = function(width, height) {\n",
       "        // Keep the size of the canvas, canvas container, and rubber band\n",
       "        // canvas in synch.\n",
       "        canvas_div.css('width', width)\n",
       "        canvas_div.css('height', height)\n",
       "\n",
       "        canvas.attr('width', width);\n",
       "        canvas.attr('height', height);\n",
       "\n",
       "        rubberband.attr('width', width);\n",
       "        rubberband.attr('height', height);\n",
       "    }\n",
       "\n",
       "    // Set the figure to an initial 600x600px, this will subsequently be updated\n",
       "    // upon first draw.\n",
       "    this._resize_canvas(600, 600);\n",
       "\n",
       "    // Disable right mouse context menu.\n",
       "    $(this.rubberband_canvas).bind(\"contextmenu\",function(e){\n",
       "        return false;\n",
       "    });\n",
       "\n",
       "    function set_focus () {\n",
       "        canvas.focus();\n",
       "        canvas_div.focus();\n",
       "    }\n",
       "\n",
       "    window.setTimeout(set_focus, 100);\n",
       "}\n",
       "\n",
       "mpl.figure.prototype._init_toolbar = function() {\n",
       "    var fig = this;\n",
       "\n",
       "    var nav_element = $('<div/>')\n",
       "    nav_element.attr('style', 'width: 100%');\n",
       "    this.root.append(nav_element);\n",
       "\n",
       "    // Define a callback function for later on.\n",
       "    function toolbar_event(event) {\n",
       "        return fig.toolbar_button_onclick(event['data']);\n",
       "    }\n",
       "    function toolbar_mouse_event(event) {\n",
       "        return fig.toolbar_button_onmouseover(event['data']);\n",
       "    }\n",
       "\n",
       "    for(var toolbar_ind in mpl.toolbar_items) {\n",
       "        var name = mpl.toolbar_items[toolbar_ind][0];\n",
       "        var tooltip = mpl.toolbar_items[toolbar_ind][1];\n",
       "        var image = mpl.toolbar_items[toolbar_ind][2];\n",
       "        var method_name = mpl.toolbar_items[toolbar_ind][3];\n",
       "\n",
       "        if (!name) {\n",
       "            // put a spacer in here.\n",
       "            continue;\n",
       "        }\n",
       "        var button = $('<button/>');\n",
       "        button.addClass('ui-button ui-widget ui-state-default ui-corner-all ' +\n",
       "                        'ui-button-icon-only');\n",
       "        button.attr('role', 'button');\n",
       "        button.attr('aria-disabled', 'false');\n",
       "        button.click(method_name, toolbar_event);\n",
       "        button.mouseover(tooltip, toolbar_mouse_event);\n",
       "\n",
       "        var icon_img = $('<span/>');\n",
       "        icon_img.addClass('ui-button-icon-primary ui-icon');\n",
       "        icon_img.addClass(image);\n",
       "        icon_img.addClass('ui-corner-all');\n",
       "\n",
       "        var tooltip_span = $('<span/>');\n",
       "        tooltip_span.addClass('ui-button-text');\n",
       "        tooltip_span.html(tooltip);\n",
       "\n",
       "        button.append(icon_img);\n",
       "        button.append(tooltip_span);\n",
       "\n",
       "        nav_element.append(button);\n",
       "    }\n",
       "\n",
       "    var fmt_picker_span = $('<span/>');\n",
       "\n",
       "    var fmt_picker = $('<select/>');\n",
       "    fmt_picker.addClass('mpl-toolbar-option ui-widget ui-widget-content');\n",
       "    fmt_picker_span.append(fmt_picker);\n",
       "    nav_element.append(fmt_picker_span);\n",
       "    this.format_dropdown = fmt_picker[0];\n",
       "\n",
       "    for (var ind in mpl.extensions) {\n",
       "        var fmt = mpl.extensions[ind];\n",
       "        var option = $(\n",
       "            '<option/>', {selected: fmt === mpl.default_extension}).html(fmt);\n",
       "        fmt_picker.append(option)\n",
       "    }\n",
       "\n",
       "    // Add hover states to the ui-buttons\n",
       "    $( \".ui-button\" ).hover(\n",
       "        function() { $(this).addClass(\"ui-state-hover\");},\n",
       "        function() { $(this).removeClass(\"ui-state-hover\");}\n",
       "    );\n",
       "\n",
       "    var status_bar = $('<span class=\"mpl-message\"/>');\n",
       "    nav_element.append(status_bar);\n",
       "    this.message = status_bar[0];\n",
       "}\n",
       "\n",
       "mpl.figure.prototype.request_resize = function(x_pixels, y_pixels) {\n",
       "    // Request matplotlib to resize the figure. Matplotlib will then trigger a resize in the client,\n",
       "    // which will in turn request a refresh of the image.\n",
       "    this.send_message('resize', {'width': x_pixels, 'height': y_pixels});\n",
       "}\n",
       "\n",
       "mpl.figure.prototype.send_message = function(type, properties) {\n",
       "    properties['type'] = type;\n",
       "    properties['figure_id'] = this.id;\n",
       "    this.ws.send(JSON.stringify(properties));\n",
       "}\n",
       "\n",
       "mpl.figure.prototype.send_draw_message = function() {\n",
       "    if (!this.waiting) {\n",
       "        this.waiting = true;\n",
       "        this.ws.send(JSON.stringify({type: \"draw\", figure_id: this.id}));\n",
       "    }\n",
       "}\n",
       "\n",
       "\n",
       "mpl.figure.prototype.handle_save = function(fig, msg) {\n",
       "    var format_dropdown = fig.format_dropdown;\n",
       "    var format = format_dropdown.options[format_dropdown.selectedIndex].value;\n",
       "    fig.ondownload(fig, format);\n",
       "}\n",
       "\n",
       "\n",
       "mpl.figure.prototype.handle_resize = function(fig, msg) {\n",
       "    var size = msg['size'];\n",
       "    if (size[0] != fig.canvas.width || size[1] != fig.canvas.height) {\n",
       "        fig._resize_canvas(size[0], size[1]);\n",
       "        fig.send_message(\"refresh\", {});\n",
       "    };\n",
       "}\n",
       "\n",
       "mpl.figure.prototype.handle_rubberband = function(fig, msg) {\n",
       "    var x0 = msg['x0'];\n",
       "    var y0 = fig.canvas.height - msg['y0'];\n",
       "    var x1 = msg['x1'];\n",
       "    var y1 = fig.canvas.height - msg['y1'];\n",
       "    x0 = Math.floor(x0) + 0.5;\n",
       "    y0 = Math.floor(y0) + 0.5;\n",
       "    x1 = Math.floor(x1) + 0.5;\n",
       "    y1 = Math.floor(y1) + 0.5;\n",
       "    var min_x = Math.min(x0, x1);\n",
       "    var min_y = Math.min(y0, y1);\n",
       "    var width = Math.abs(x1 - x0);\n",
       "    var height = Math.abs(y1 - y0);\n",
       "\n",
       "    fig.rubberband_context.clearRect(\n",
       "        0, 0, fig.canvas.width, fig.canvas.height);\n",
       "\n",
       "    fig.rubberband_context.strokeRect(min_x, min_y, width, height);\n",
       "}\n",
       "\n",
       "mpl.figure.prototype.handle_figure_label = function(fig, msg) {\n",
       "    // Updates the figure title.\n",
       "    fig.header.textContent = msg['label'];\n",
       "}\n",
       "\n",
       "mpl.figure.prototype.handle_cursor = function(fig, msg) {\n",
       "    var cursor = msg['cursor'];\n",
       "    switch(cursor)\n",
       "    {\n",
       "    case 0:\n",
       "        cursor = 'pointer';\n",
       "        break;\n",
       "    case 1:\n",
       "        cursor = 'default';\n",
       "        break;\n",
       "    case 2:\n",
       "        cursor = 'crosshair';\n",
       "        break;\n",
       "    case 3:\n",
       "        cursor = 'move';\n",
       "        break;\n",
       "    }\n",
       "    fig.rubberband_canvas.style.cursor = cursor;\n",
       "}\n",
       "\n",
       "mpl.figure.prototype.handle_message = function(fig, msg) {\n",
       "    fig.message.textContent = msg['message'];\n",
       "}\n",
       "\n",
       "mpl.figure.prototype.handle_draw = function(fig, msg) {\n",
       "    // Request the server to send over a new figure.\n",
       "    fig.send_draw_message();\n",
       "}\n",
       "\n",
       "mpl.figure.prototype.handle_image_mode = function(fig, msg) {\n",
       "    fig.image_mode = msg['mode'];\n",
       "}\n",
       "\n",
       "mpl.figure.prototype.updated_canvas_event = function() {\n",
       "    // Called whenever the canvas gets updated.\n",
       "    this.send_message(\"ack\", {});\n",
       "}\n",
       "\n",
       "// A function to construct a web socket function for onmessage handling.\n",
       "// Called in the figure constructor.\n",
       "mpl.figure.prototype._make_on_message_function = function(fig) {\n",
       "    return function socket_on_message(evt) {\n",
       "        if (evt.data instanceof Blob) {\n",
       "            /* FIXME: We get \"Resource interpreted as Image but\n",
       "             * transferred with MIME type text/plain:\" errors on\n",
       "             * Chrome.  But how to set the MIME type?  It doesn't seem\n",
       "             * to be part of the websocket stream */\n",
       "            evt.data.type = \"image/png\";\n",
       "\n",
       "            /* Free the memory for the previous frames */\n",
       "            if (fig.imageObj.src) {\n",
       "                (window.URL || window.webkitURL).revokeObjectURL(\n",
       "                    fig.imageObj.src);\n",
       "            }\n",
       "\n",
       "            fig.imageObj.src = (window.URL || window.webkitURL).createObjectURL(\n",
       "                evt.data);\n",
       "            fig.updated_canvas_event();\n",
       "            fig.waiting = false;\n",
       "            return;\n",
       "        }\n",
       "        else if (typeof evt.data === 'string' && evt.data.slice(0, 21) == \"data:image/png;base64\") {\n",
       "            fig.imageObj.src = evt.data;\n",
       "            fig.updated_canvas_event();\n",
       "            fig.waiting = false;\n",
       "            return;\n",
       "        }\n",
       "\n",
       "        var msg = JSON.parse(evt.data);\n",
       "        var msg_type = msg['type'];\n",
       "\n",
       "        // Call the  \"handle_{type}\" callback, which takes\n",
       "        // the figure and JSON message as its only arguments.\n",
       "        try {\n",
       "            var callback = fig[\"handle_\" + msg_type];\n",
       "        } catch (e) {\n",
       "            console.log(\"No handler for the '\" + msg_type + \"' message type: \", msg);\n",
       "            return;\n",
       "        }\n",
       "\n",
       "        if (callback) {\n",
       "            try {\n",
       "                // console.log(\"Handling '\" + msg_type + \"' message: \", msg);\n",
       "                callback(fig, msg);\n",
       "            } catch (e) {\n",
       "                console.log(\"Exception inside the 'handler_\" + msg_type + \"' callback:\", e, e.stack, msg);\n",
       "            }\n",
       "        }\n",
       "    };\n",
       "}\n",
       "\n",
       "// from http://stackoverflow.com/questions/1114465/getting-mouse-location-in-canvas\n",
       "mpl.findpos = function(e) {\n",
       "    //this section is from http://www.quirksmode.org/js/events_properties.html\n",
       "    var targ;\n",
       "    if (!e)\n",
       "        e = window.event;\n",
       "    if (e.target)\n",
       "        targ = e.target;\n",
       "    else if (e.srcElement)\n",
       "        targ = e.srcElement;\n",
       "    if (targ.nodeType == 3) // defeat Safari bug\n",
       "        targ = targ.parentNode;\n",
       "\n",
       "    // jQuery normalizes the pageX and pageY\n",
       "    // pageX,Y are the mouse positions relative to the document\n",
       "    // offset() returns the position of the element relative to the document\n",
       "    var x = e.pageX - $(targ).offset().left;\n",
       "    var y = e.pageY - $(targ).offset().top;\n",
       "\n",
       "    return {\"x\": x, \"y\": y};\n",
       "};\n",
       "\n",
       "/*\n",
       " * return a copy of an object with only non-object keys\n",
       " * we need this to avoid circular references\n",
       " * http://stackoverflow.com/a/24161582/3208463\n",
       " */\n",
       "function simpleKeys (original) {\n",
       "  return Object.keys(original).reduce(function (obj, key) {\n",
       "    if (typeof original[key] !== 'object')\n",
       "        obj[key] = original[key]\n",
       "    return obj;\n",
       "  }, {});\n",
       "}\n",
       "\n",
       "mpl.figure.prototype.mouse_event = function(event, name) {\n",
       "    var canvas_pos = mpl.findpos(event)\n",
       "\n",
       "    if (name === 'button_press')\n",
       "    {\n",
       "        this.canvas.focus();\n",
       "        this.canvas_div.focus();\n",
       "    }\n",
       "\n",
       "    var x = canvas_pos.x;\n",
       "    var y = canvas_pos.y;\n",
       "\n",
       "    this.send_message(name, {x: x, y: y, button: event.button,\n",
       "                             step: event.step,\n",
       "                             guiEvent: simpleKeys(event)});\n",
       "\n",
       "    /* This prevents the web browser from automatically changing to\n",
       "     * the text insertion cursor when the button is pressed.  We want\n",
       "     * to control all of the cursor setting manually through the\n",
       "     * 'cursor' event from matplotlib */\n",
       "    event.preventDefault();\n",
       "    return false;\n",
       "}\n",
       "\n",
       "mpl.figure.prototype._key_event_extra = function(event, name) {\n",
       "    // Handle any extra behaviour associated with a key event\n",
       "}\n",
       "\n",
       "mpl.figure.prototype.key_event = function(event, name) {\n",
       "\n",
       "    // Prevent repeat events\n",
       "    if (name == 'key_press')\n",
       "    {\n",
       "        if (event.which === this._key)\n",
       "            return;\n",
       "        else\n",
       "            this._key = event.which;\n",
       "    }\n",
       "    if (name == 'key_release')\n",
       "        this._key = null;\n",
       "\n",
       "    var value = '';\n",
       "    if (event.ctrlKey && event.which != 17)\n",
       "        value += \"ctrl+\";\n",
       "    if (event.altKey && event.which != 18)\n",
       "        value += \"alt+\";\n",
       "    if (event.shiftKey && event.which != 16)\n",
       "        value += \"shift+\";\n",
       "\n",
       "    value += 'k';\n",
       "    value += event.which.toString();\n",
       "\n",
       "    this._key_event_extra(event, name);\n",
       "\n",
       "    this.send_message(name, {key: value,\n",
       "                             guiEvent: simpleKeys(event)});\n",
       "    return false;\n",
       "}\n",
       "\n",
       "mpl.figure.prototype.toolbar_button_onclick = function(name) {\n",
       "    if (name == 'download') {\n",
       "        this.handle_save(this, null);\n",
       "    } else {\n",
       "        this.send_message(\"toolbar_button\", {name: name});\n",
       "    }\n",
       "};\n",
       "\n",
       "mpl.figure.prototype.toolbar_button_onmouseover = function(tooltip) {\n",
       "    this.message.textContent = tooltip;\n",
       "};\n",
       "mpl.toolbar_items = [[\"Home\", \"Reset original view\", \"fa fa-home icon-home\", \"home\"], [\"Back\", \"Back to  previous view\", \"fa fa-arrow-left icon-arrow-left\", \"back\"], [\"Forward\", \"Forward to next view\", \"fa fa-arrow-right icon-arrow-right\", \"forward\"], [\"\", \"\", \"\", \"\"], [\"Pan\", \"Pan axes with left mouse, zoom with right\", \"fa fa-arrows icon-move\", \"pan\"], [\"Zoom\", \"Zoom to rectangle\", \"fa fa-square-o icon-check-empty\", \"zoom\"], [\"\", \"\", \"\", \"\"], [\"Download\", \"Download plot\", \"fa fa-floppy-o icon-save\", \"download\"]];\n",
       "\n",
       "mpl.extensions = [\"eps\", \"jpeg\", \"pdf\", \"png\", \"ps\", \"raw\", \"svg\", \"tif\"];\n",
       "\n",
       "mpl.default_extension = \"png\";var comm_websocket_adapter = function(comm) {\n",
       "    // Create a \"websocket\"-like object which calls the given IPython comm\n",
       "    // object with the appropriate methods. Currently this is a non binary\n",
       "    // socket, so there is still some room for performance tuning.\n",
       "    var ws = {};\n",
       "\n",
       "    ws.close = function() {\n",
       "        comm.close()\n",
       "    };\n",
       "    ws.send = function(m) {\n",
       "        //console.log('sending', m);\n",
       "        comm.send(m);\n",
       "    };\n",
       "    // Register the callback with on_msg.\n",
       "    comm.on_msg(function(msg) {\n",
       "        //console.log('receiving', msg['content']['data'], msg);\n",
       "        // Pass the mpl event to the overriden (by mpl) onmessage function.\n",
       "        ws.onmessage(msg['content']['data'])\n",
       "    });\n",
       "    return ws;\n",
       "}\n",
       "\n",
       "mpl.mpl_figure_comm = function(comm, msg) {\n",
       "    // This is the function which gets called when the mpl process\n",
       "    // starts-up an IPython Comm through the \"matplotlib\" channel.\n",
       "\n",
       "    var id = msg.content.data.id;\n",
       "    // Get hold of the div created by the display call when the Comm\n",
       "    // socket was opened in Python.\n",
       "    var element = $(\"#\" + id);\n",
       "    var ws_proxy = comm_websocket_adapter(comm)\n",
       "\n",
       "    function ondownload(figure, format) {\n",
       "        window.open(figure.imageObj.src);\n",
       "    }\n",
       "\n",
       "    var fig = new mpl.figure(id, ws_proxy,\n",
       "                           ondownload,\n",
       "                           element.get(0));\n",
       "\n",
       "    // Call onopen now - mpl needs it, as it is assuming we've passed it a real\n",
       "    // web socket which is closed, not our websocket->open comm proxy.\n",
       "    ws_proxy.onopen();\n",
       "\n",
       "    fig.parent_element = element.get(0);\n",
       "    fig.cell_info = mpl.find_output_cell(\"<div id='\" + id + \"'></div>\");\n",
       "    if (!fig.cell_info) {\n",
       "        console.error(\"Failed to find cell for figure\", id, fig);\n",
       "        return;\n",
       "    }\n",
       "\n",
       "    var output_index = fig.cell_info[2]\n",
       "    var cell = fig.cell_info[0];\n",
       "\n",
       "};\n",
       "\n",
       "mpl.figure.prototype.handle_close = function(fig, msg) {\n",
       "    fig.root.unbind('remove')\n",
       "\n",
       "    // Update the output cell to use the data from the current canvas.\n",
       "    fig.push_to_output();\n",
       "    var dataURL = fig.canvas.toDataURL();\n",
       "    // Re-enable the keyboard manager in IPython - without this line, in FF,\n",
       "    // the notebook keyboard shortcuts fail.\n",
       "    IPython.keyboard_manager.enable()\n",
       "    $(fig.parent_element).html('<img src=\"' + dataURL + '\">');\n",
       "    fig.close_ws(fig, msg);\n",
       "}\n",
       "\n",
       "mpl.figure.prototype.close_ws = function(fig, msg){\n",
       "    fig.send_message('closing', msg);\n",
       "    // fig.ws.close()\n",
       "}\n",
       "\n",
       "mpl.figure.prototype.push_to_output = function(remove_interactive) {\n",
       "    // Turn the data on the canvas into data in the output cell.\n",
       "    var dataURL = this.canvas.toDataURL();\n",
       "    this.cell_info[1]['text/html'] = '<img src=\"' + dataURL + '\">';\n",
       "}\n",
       "\n",
       "mpl.figure.prototype.updated_canvas_event = function() {\n",
       "    // Tell IPython that the notebook contents must change.\n",
       "    IPython.notebook.set_dirty(true);\n",
       "    this.send_message(\"ack\", {});\n",
       "    var fig = this;\n",
       "    // Wait a second, then push the new image to the DOM so\n",
       "    // that it is saved nicely (might be nice to debounce this).\n",
       "    setTimeout(function () { fig.push_to_output() }, 1000);\n",
       "}\n",
       "\n",
       "mpl.figure.prototype._init_toolbar = function() {\n",
       "    var fig = this;\n",
       "\n",
       "    var nav_element = $('<div/>')\n",
       "    nav_element.attr('style', 'width: 100%');\n",
       "    this.root.append(nav_element);\n",
       "\n",
       "    // Define a callback function for later on.\n",
       "    function toolbar_event(event) {\n",
       "        return fig.toolbar_button_onclick(event['data']);\n",
       "    }\n",
       "    function toolbar_mouse_event(event) {\n",
       "        return fig.toolbar_button_onmouseover(event['data']);\n",
       "    }\n",
       "\n",
       "    for(var toolbar_ind in mpl.toolbar_items){\n",
       "        var name = mpl.toolbar_items[toolbar_ind][0];\n",
       "        var tooltip = mpl.toolbar_items[toolbar_ind][1];\n",
       "        var image = mpl.toolbar_items[toolbar_ind][2];\n",
       "        var method_name = mpl.toolbar_items[toolbar_ind][3];\n",
       "\n",
       "        if (!name) { continue; };\n",
       "\n",
       "        var button = $('<button class=\"btn btn-default\" href=\"#\" title=\"' + name + '\"><i class=\"fa ' + image + ' fa-lg\"></i></button>');\n",
       "        button.click(method_name, toolbar_event);\n",
       "        button.mouseover(tooltip, toolbar_mouse_event);\n",
       "        nav_element.append(button);\n",
       "    }\n",
       "\n",
       "    // Add the status bar.\n",
       "    var status_bar = $('<span class=\"mpl-message\" style=\"text-align:right; float: right;\"/>');\n",
       "    nav_element.append(status_bar);\n",
       "    this.message = status_bar[0];\n",
       "\n",
       "    // Add the close button to the window.\n",
       "    var buttongrp = $('<div class=\"btn-group inline pull-right\"></div>');\n",
       "    var button = $('<button class=\"btn btn-mini btn-primary\" href=\"#\" title=\"Stop Interaction\"><i class=\"fa fa-power-off icon-remove icon-large\"></i></button>');\n",
       "    button.click(function (evt) { fig.handle_close(fig, {}); } );\n",
       "    button.mouseover('Stop Interaction', toolbar_mouse_event);\n",
       "    buttongrp.append(button);\n",
       "    var titlebar = this.root.find($('.ui-dialog-titlebar'));\n",
       "    titlebar.prepend(buttongrp);\n",
       "}\n",
       "\n",
       "mpl.figure.prototype._root_extra_style = function(el){\n",
       "    var fig = this\n",
       "    el.on(\"remove\", function(){\n",
       "\tfig.close_ws(fig, {});\n",
       "    });\n",
       "}\n",
       "\n",
       "mpl.figure.prototype._canvas_extra_style = function(el){\n",
       "    // this is important to make the div 'focusable\n",
       "    el.attr('tabindex', 0)\n",
       "    // reach out to IPython and tell the keyboard manager to turn it's self\n",
       "    // off when our div gets focus\n",
       "\n",
       "    // location in version 3\n",
       "    if (IPython.notebook.keyboard_manager) {\n",
       "        IPython.notebook.keyboard_manager.register_events(el);\n",
       "    }\n",
       "    else {\n",
       "        // location in version 2\n",
       "        IPython.keyboard_manager.register_events(el);\n",
       "    }\n",
       "\n",
       "}\n",
       "\n",
       "mpl.figure.prototype._key_event_extra = function(event, name) {\n",
       "    var manager = IPython.notebook.keyboard_manager;\n",
       "    if (!manager)\n",
       "        manager = IPython.keyboard_manager;\n",
       "\n",
       "    // Check for shift+enter\n",
       "    if (event.shiftKey && event.which == 13) {\n",
       "        this.canvas_div.blur();\n",
       "        event.shiftKey = false;\n",
       "        // Send a \"J\" for go to next cell\n",
       "        event.which = 74;\n",
       "        event.keyCode = 74;\n",
       "        manager.command_mode();\n",
       "        manager.handle_keydown(event);\n",
       "    }\n",
       "}\n",
       "\n",
       "mpl.figure.prototype.handle_save = function(fig, msg) {\n",
       "    fig.ondownload(fig, null);\n",
       "}\n",
       "\n",
       "\n",
       "mpl.find_output_cell = function(html_output) {\n",
       "    // Return the cell and output element which can be found *uniquely* in the notebook.\n",
       "    // Note - this is a bit hacky, but it is done because the \"notebook_saving.Notebook\"\n",
       "    // IPython event is triggered only after the cells have been serialised, which for\n",
       "    // our purposes (turning an active figure into a static one), is too late.\n",
       "    var cells = IPython.notebook.get_cells();\n",
       "    var ncells = cells.length;\n",
       "    for (var i=0; i<ncells; i++) {\n",
       "        var cell = cells[i];\n",
       "        if (cell.cell_type === 'code'){\n",
       "            for (var j=0; j<cell.output_area.outputs.length; j++) {\n",
       "                var data = cell.output_area.outputs[j];\n",
       "                if (data.data) {\n",
       "                    // IPython >= 3 moved mimebundle to data attribute of output\n",
       "                    data = data.data;\n",
       "                }\n",
       "                if (data['text/html'] == html_output) {\n",
       "                    return [cell, data, j];\n",
       "                }\n",
       "            }\n",
       "        }\n",
       "    }\n",
       "}\n",
       "\n",
       "// Register the function which deals with the matplotlib target/channel.\n",
       "// The kernel may be null if the page has been refreshed.\n",
       "if (IPython.notebook.kernel != null) {\n",
       "    IPython.notebook.kernel.comm_manager.register_target('matplotlib', mpl.mpl_figure_comm);\n",
       "}\n"
      ],
      "text/plain": [
       "<IPython.core.display.Javascript object>"
      ]
     },
     "metadata": {},
     "output_type": "display_data"
    },
    {
     "data": {
      "text/html": [
       "<img src=\"data:image/png;base64,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\">"
      ],
      "text/plain": [
       "<IPython.core.display.HTML object>"
      ]
     },
     "metadata": {},
     "output_type": "display_data"
    },
    {
     "data": {
      "text/latex": [
       "You can pan around the graph by clicking the fourth button (looks like a cross) and dragging the mouse around. You can zoom in to get a better look at the zeros by clicking the white square button, and making a rectangle on the plot where you want a closer look. To reset the graph back to normal, press the \"home\" button."
      ],
      "text/plain": [
       "<IPython.core.display.Latex object>"
      ]
     },
     "metadata": {},
     "output_type": "display_data"
    },
    {
     "data": {
      "application/vnd.jupyter.widget-view+json": {
       "model_id": "f40f2ae6373b41309287a93007277d4e",
       "version_major": 2,
       "version_minor": 0
      },
      "text/plain": [
       "Button(description='draw!', style=ButtonStyle())"
      ]
     },
     "metadata": {},
     "output_type": "display_data"
    },
    {
     "data": {
      "text/latex": [
       "Can you see where the inequality is satisfied?"
      ],
      "text/plain": [
       "<IPython.core.display.Latex object>"
      ]
     },
     "metadata": {},
     "output_type": "display_data"
    },
    {
     "data": {
      "text/latex": [
       "Zoom in (with the 'box' icon) to find where the lines intersect. We can see that they are the same values as we calculated above."
      ],
      "text/plain": [
       "<IPython.core.display.Latex object>"
      ]
     },
     "metadata": {},
     "output_type": "display_data"
    },
    {
     "data": {
      "text/latex": [
       "Pressing the 'shade' button will shade in the interval where the inequailty is satisfied on the graph"
      ],
      "text/plain": [
       "<IPython.core.display.Latex object>"
      ]
     },
     "metadata": {},
     "output_type": "display_data"
    },
    {
     "data": {
      "application/vnd.jupyter.widget-view+json": {
       "model_id": "bf39553c9aee43ff8b2a7b0fff261d22",
       "version_major": 2,
       "version_minor": 0
      },
      "text/plain": [
       "Button(description='shade', style=ButtonStyle())"
      ]
     },
     "metadata": {},
     "output_type": "display_data"
    },
    {
     "data": {
      "text/latex": [
       "We can see that the interval for which $P(x) \\leq -3$ is again [-3,-1], agreeing with our algebraic solution."
      ],
      "text/plain": [
       "<IPython.core.display.Latex object>"
      ]
     },
     "metadata": {},
     "output_type": "display_data"
    }
   ],
   "source": [
    "%matplotlib notebook\n",
    "%matplotlib notebook\n",
    "\n",
    "\n",
    "display(Latex('Here is a graph of the polynomial $P(x) = x^2 + 4x$'))\n",
    "display(Latex(\"Let's try to solve where this polynomial is $\\leq -3$, or  $x^2 + 4x \\leq -3$.\"))\n",
    "display(Latex(\"Let's draw a line at $y=-3$ to help visualize this. (press the 'draw' button)\"))\n",
    "\n",
    "x = np.linspace(-10,10,1000); #define a vector space for the variable x\n",
    "\n",
    "#this block will create an interactive figure of the polynomial\n",
    "plt.figure(figsize=(11,8)) #define the figure window size\n",
    "plt.plot(x,x**2 + 4*x, linewidth=2, label=r'$P(x) = x^2 + 4x$'); #plot the polynomial as a funciton of x\n",
    "plt.ylabel('P(x)', fontsize=20) #label the axes\n",
    "plt.xlabel('x', fontsize=20)\n",
    "plt.grid(alpha = 0.7) #place a grid on the figure for readability; alpha defines the opacity\n",
    "plt.xticks(np.arange(-10,11)) #define the xticks for easier reading\n",
    "plt.ylim([-20,40]) #adjust the limits of the y and x axes of the figure for readability\n",
    "plt.xlim([-9,9])\n",
    "plt.plot([-75,75],[0,0],'k-',alpha = 1,linewidth = 1) #plot solid lines along origin for easier reading\n",
    "plt.plot([0,0],[-75,75],'k-',alpha = 1,linewidth = 1)\n",
    "plt.legend(loc='best', fontsize = 18) #add a legend \n",
    "display(Latex('You can pan around the graph by clicking the fourth button (looks like a cross) and dragging the mouse around. You can zoom in to get a better look at the zeros by clicking the white square button, and making a rectangle on the plot where you want a closer look. To reset the graph back to normal, press the \"home\" button.'))\n",
    "\n",
    "\n",
    "#create a button to draw a line at y=0 when clicked\n",
    "button = widgets.Button(description=\"draw!\")\n",
    "\n",
    "#function to produce the plot when the button is clicked\n",
    "def on_button_clicked(b):\n",
    "    plt.plot(x,np.ones(len(x))*-3, linewidth=2, label = r'$y = -3$'); #plot the y=0 line\n",
    "    plt.legend(loc='best', fontsize = 18) #add a legend \n",
    "    display(Latex('Can you see where the inequality is satisfied?'))\n",
    "    display(Latex(\"Zoom in (with the 'box' icon) to find where the lines intersect. We can see that they are the same values as we calculated above.\"))\n",
    "    display(Latex(\"Pressing the 'shade' button will shade in the interval where the inequailty is satisfied on the graph\"))\n",
    "    display(button2) #display a second button after the line is drawn\n",
    "\n",
    "# create a button to shade the satisfied interval on the figure\n",
    "button2 = widgets.Button(description='shade')\n",
    "\n",
    "#function to shade the region between x = -3 and x= -1 when button 2 is clicked\n",
    "def shade_click(b):\n",
    "    plt.axvspan(-3,-1,facecolor='#2ca02c', alpha=0.5)\n",
    "    display(Latex(\"We can see that the interval for which $P(x) \\leq -3$ is again [-3,-1], agreeing with our algebraic solution.\"))\n",
    "\n",
    "display(button) #display the first button below the figure window\n",
    "\n",
    "button.on_click(on_button_clicked)\n",
    "button2.on_click(shade_click)\n",
    "\n",
    "\n",
    "\n",
    "\n"
   ]
  },
  {
   "cell_type": "markdown",
   "metadata": {},
   "source": [
    "# Changing Parameters"
   ]
  },
  {
   "cell_type": "markdown",
   "metadata": {},
   "source": [
    "## Constant term"
   ]
  },
  {
   "cell_type": "markdown",
   "metadata": {},
   "source": [
    "The **constant term** of a polynomial is the term in which the variable does not appear (i.e. the degree $0$ term). For example, the constant term for the polynomial \n",
    "\n",
    "$P(x) = x^3 + 2x^2 + 5x + 4$,</br>\n",
    "\n",
    "is $4$.\n",
    "\n",
    "Let's look at how changing the constant term changes the graph of the polynomial. We will consider the same polynomial as before, but this time we will let $k$ be an arbitrary value for the constant term. \n",
    "\n"
   ]
  },
  {
   "cell_type": "code",
   "execution_count": 14,
   "metadata": {
    "scrolled": false
   },
   "outputs": [
    {
     "data": {
      "text/latex": [
       "Adjust the value of $k$ using the slider. What do you notice about the graph as the value changes?"
      ],
      "text/plain": [
       "<IPython.core.display.Latex object>"
      ]
     },
     "metadata": {},
     "output_type": "display_data"
    },
    {
     "data": {
      "application/vnd.jupyter.widget-view+json": {
       "model_id": "123212cb23b24a38925ee7325802c711",
       "version_major": 2,
       "version_minor": 0
      },
      "text/plain": [
       "interactive(children=(IntSlider(value=1, description='k', max=20, min=1), Output()), _dom_classes=('widget-int…"
      ]
     },
     "metadata": {},
     "output_type": "display_data"
    },
    {
     "data": {
      "text/latex": [
       "Try doing the same with other polynomials. Is there a similar, or different behaviour?"
      ],
      "text/plain": [
       "<IPython.core.display.Latex object>"
      ]
     },
     "metadata": {},
     "output_type": "display_data"
    }
   ],
   "source": [
    "%matplotlib inline \n",
    "#we're using sliders to change figures in this cell, which works more smoothly with 'inline' figures instead of 'notebook', so we switch to inline for this cell\n",
    "\n",
    "display(Latex('Adjust the value of $k$ using the slider. What do you notice about the graph as the value changes?'))\n",
    "\n",
    "x = np.linspace(-10,10, 1000)\n",
    "\n",
    "#define function to create a graph of a polynomial\n",
    "def Plot_poly(k=0): #we make the python function a function of the variable 'k', which we will use as the constant term in the polynomial\n",
    "    plt.figure(figsize=(11,8))\n",
    "    plt.plot(x,x**3 + 2*x**2 + 5*x + k, linewidth = 2) #here is the variable k\n",
    "    plt.title(r'Graph of $P(x) = x^3 + 2x^2 + 5x + k$', fontsize = 20)\n",
    "    plt.ylabel('P(x)', fontsize=20)\n",
    "    plt.xlabel('x', fontsize=20)\n",
    "    plt.grid(alpha = 0.7) \n",
    "    plt.xticks(np.arange(-10,11))\n",
    "    plt.ylim([-20,40])\n",
    "    plt.xlim([-9,9])\n",
    "    plt.plot([-75,75],[0,0],'k-',alpha = 1,linewidth = 1)\n",
    "    plt.plot([0,0],[-75,75],'k-',alpha = 1,linewidth = 1)\n",
    "    plt.show()\n",
    "    \n",
    "interact(Plot_poly,k=(1,20)); #use the IPython interact function to create a slider to adjust the value of 'k' for the plot\n",
    "\n",
    "display(Latex('Try doing the same with other polynomials. Is there a similar, or different behaviour?'))\n"
   ]
  },
  {
   "cell_type": "code",
   "execution_count": 15,
   "metadata": {
    "scrolled": false
   },
   "outputs": [
    {
     "data": {
      "text/latex": [
       "Provide the order of polynomial you wish to plot (between 1 and 3):"
      ],
      "text/plain": [
       "<IPython.core.display.Latex object>"
      ]
     },
     "metadata": {},
     "output_type": "display_data"
    },
    {
     "name": "stdout",
     "output_type": "stream",
     "text": [
      "degree:3\n"
     ]
    },
    {
     "data": {
      "text/latex": [
       "Provide a value for $a$, $b$, and $c$ in the polynomial $P(x) = ax^3 +bx^2 + cx + k$:"
      ],
      "text/plain": [
       "<IPython.core.display.Latex object>"
      ]
     },
     "metadata": {},
     "output_type": "display_data"
    },
    {
     "name": "stdout",
     "output_type": "stream",
     "text": [
      "a=4\n",
      "b=8\n",
      "c=-96\n"
     ]
    },
    {
     "data": {
      "application/vnd.jupyter.widget-view+json": {
       "model_id": "382d23a725ae41059812e90971c05940",
       "version_major": 2,
       "version_minor": 0
      },
      "text/plain": [
       "Button(description='Graph', style=ButtonStyle())"
      ]
     },
     "metadata": {},
     "output_type": "display_data"
    },
    {
     "data": {
      "application/vnd.jupyter.widget-view+json": {
       "model_id": "e289f37dcf714b4fb06d80ccb1b53ae1",
       "version_major": 2,
       "version_minor": 0
      },
      "text/plain": [
       "interactive(children=(IntSlider(value=0, description='k', max=10, min=-10), Output()), _dom_classes=('widget-i…"
      ]
     },
     "metadata": {},
     "output_type": "display_data"
    },
    {
     "data": {
      "text/latex": [
       "Click somewhere in this cell and press SHIFT and ENTER to run the cell again if you would like to try graphing a different polynomial."
      ],
      "text/plain": [
       "<IPython.core.display.Latex object>"
      ]
     },
     "metadata": {},
     "output_type": "display_data"
    }
   ],
   "source": [
    "try:\n",
    "    display(Latex('Provide the order of polynomial you wish to plot (between 1 and 3):'))\n",
    "    poly_order = int(input('degree:'))\n",
    "\n",
    "    if poly_order == 1:\n",
    "        display(Latex('Provide a value for $a$ in the polynomial $P(x) = ax + k$:'))    \n",
    "        a = int(input('a='))\n",
    "        custom_poly = a * x #define the polynomial based on the order and coeffecient(s) provided. we leave out the contant term here and add it in the custom_plot function\n",
    "        def custom_plot(k=0):\n",
    "            plt.figure(figsize=(11,8))\n",
    "            plt.plot(x,custom_poly + k, linewidth=2) #plot the polynomial with the constant term k \n",
    "            plt.ylabel('P(x)', fontsize=20)\n",
    "            plt.xlabel('x', fontsize=20)\n",
    "            plt.grid(alpha = 0.7) \n",
    "            plt.xticks(np.arange(-10,11))\n",
    "            plt.ylim([-20,40])\n",
    "            plt.xlim([-9,9])\n",
    "            plt.plot([-75,75],[0,0],'k-',alpha = 1,linewidth = 1)\n",
    "            plt.plot([0,0],[-75,75],'k-',alpha = 1,linewidth = 1)\n",
    "            plt.title('Graph of polynomial $P(x) ='+str(a) + 'x+ k$', fontsize=20)\n",
    "            plt.show()\n",
    "        def graph(b):\n",
    "            interact(custom_plot,k=(-10,10)) #interact with the graph via slider that changes value of k\n",
    "        graph_button = widgets.Button(description = 'Graph')    \n",
    "        display(graph_button)\n",
    "        graph_button.on_click(graph)\n",
    "\n",
    "    ###the same structure for order 2 and 3 below\n",
    "\n",
    "    if poly_order == 2:\n",
    "        display(Latex('Provide a value for $a$ and $b$ in the polynomial $P(x) = ax^2 +bx + k$:'))\n",
    "        a = int(input('a='))\n",
    "        b = int(input('b='))\n",
    "        custom_poly = a * x**2 + b*x\n",
    "        def custom_plot(k=0):\n",
    "            plt.figure(figsize=(11,8))\n",
    "            plt.plot(x,custom_poly + k, linewidth=2)\n",
    "            plt.ylabel('P(x)', fontsize=20)\n",
    "            plt.xlabel('x', fontsize=20)\n",
    "            plt.grid(alpha = 0.7) \n",
    "            plt.xticks(np.arange(-10,11))\n",
    "            plt.ylim([-20,40])\n",
    "            plt.xlim([-9,9])\n",
    "            plt.plot([-75,75],[0,0],'k-',alpha = 1,linewidth = 1)\n",
    "            plt.plot([0,0],[-75,75],'k-',alpha = 1,linewidth = 1)\n",
    "            plt.title('Graph of polynomial $P(x) ='+str(a) + 'x^2 +' + str(b) + 'x + k$', fontsize=20)\n",
    "            plt.show()\n",
    "        def graph(b):\n",
    "            interact(custom_plot,k=(-10,10))\n",
    "            display(Latex(\"Click somewhere in this cell and press SHIFT and ENTER to run the cell again if you would like to try graphing a different polynomial.\"))\n",
    "        graph_button = widgets.Button(description = 'Graph')    \n",
    "        display(graph_button)\n",
    "        graph_button.on_click(graph)\n",
    "\n",
    "    if poly_order == 3:\n",
    "        display(Latex('Provide a value for $a$, $b$, and $c$ in the polynomial $P(x) = ax^3 +bx^2 + cx + k$:'))\n",
    "        a = int(input('a='))\n",
    "        b = int(input('b='))\n",
    "        c = int(input('c='))\n",
    "        custom_poly = a * x**3 + b*x**2 + c*x\n",
    "        def custom_plot(k=0):\n",
    "            plt.figure(figsize=(11,8))\n",
    "            plt.plot(x,custom_poly + k, linewidth=2)\n",
    "            plt.ylabel('P(x)', fontsize=20)\n",
    "            plt.xlabel('x', fontsize=20)\n",
    "            plt.grid(alpha = 0.7) \n",
    "            plt.xticks(np.arange(-10,11))\n",
    "            plt.ylim([-20,40])\n",
    "            plt.xlim([-9,9])\n",
    "            plt.plot([-75,75],[0,0],'k-',alpha = 1,linewidth = 1)\n",
    "            plt.plot([0,0],[-75,75],'k-',alpha = 1,linewidth = 1)\n",
    "            plt.title('Graph of polynomial $P(x) ='+str(a) + 'x^3 +' + str(b) + 'x^2 + ' + str(c) + 'x + k$', fontsize=20)\n",
    "            plt.show()\n",
    "        def graph(b):\n",
    "            interact(custom_plot,k=(-10,10))\n",
    "            display(Latex(\"Click somewhere in this cell and press SHIFT and ENTER to run the cell again if you would like to try graphing a different polynomial.\"))\n",
    "        graph_button = widgets.Button(description = 'Graph')    \n",
    "        display(graph_button)\n",
    "        graph_button.on_click(graph)\n",
    "\n",
    "except KeyboardInterrupt:\n",
    "    pass"
   ]
  },
  {
   "cell_type": "markdown",
   "metadata": {},
   "source": [
    "In the next graph, we will quantify how the constant term can change the interval satisfying an inequality. "
   ]
  },
  {
   "cell_type": "code",
   "execution_count": 16,
   "metadata": {
    "scrolled": false
   },
   "outputs": [
    {
     "data": {
      "text/latex": [
       "Where are the x intercepts for the polynomial $x^2-4x+3$?"
      ],
      "text/plain": [
       "<IPython.core.display.Latex object>"
      ]
     },
     "metadata": {},
     "output_type": "display_data"
    },
    {
     "name": "stdout",
     "output_type": "stream",
     "text": [
      "x1=1\n",
      "x2=3\n"
     ]
    },
    {
     "data": {
      "text/latex": [
       "Correct! Press the button to display the points on the graph above"
      ],
      "text/plain": [
       "<IPython.core.display.Latex object>"
      ]
     },
     "metadata": {},
     "output_type": "display_data"
    },
    {
     "data": {
      "application/vnd.jupyter.widget-view+json": {
       "model_id": "e4afe6a039de4cd2ac51929531fda186",
       "version_major": 2,
       "version_minor": 0
      },
      "text/plain": [
       "Button(description='Show intercepts', style=ButtonStyle())"
      ]
     },
     "metadata": {},
     "output_type": "display_data"
    },
    {
     "data": {
      "application/javascript": [
       "/* Put everything inside the global mpl namespace */\n",
       "window.mpl = {};\n",
       "\n",
       "mpl.get_websocket_type = function() {\n",
       "    if (typeof(WebSocket) !== 'undefined') {\n",
       "        return WebSocket;\n",
       "    } else if (typeof(MozWebSocket) !== 'undefined') {\n",
       "        return MozWebSocket;\n",
       "    } else {\n",
       "        alert('Your browser does not have WebSocket support.' +\n",
       "              'Please try Chrome, Safari or Firefox ≥ 6. ' +\n",
       "              'Firefox 4 and 5 are also supported but you ' +\n",
       "              'have to enable WebSockets in about:config.');\n",
       "    };\n",
       "}\n",
       "\n",
       "mpl.figure = function(figure_id, websocket, ondownload, parent_element) {\n",
       "    this.id = figure_id;\n",
       "\n",
       "    this.ws = websocket;\n",
       "\n",
       "    this.supports_binary = (this.ws.binaryType != undefined);\n",
       "\n",
       "    if (!this.supports_binary) {\n",
       "        var warnings = document.getElementById(\"mpl-warnings\");\n",
       "        if (warnings) {\n",
       "            warnings.style.display = 'block';\n",
       "            warnings.textContent = (\n",
       "                \"This browser does not support binary websocket messages. \" +\n",
       "                    \"Performance may be slow.\");\n",
       "        }\n",
       "    }\n",
       "\n",
       "    this.imageObj = new Image();\n",
       "\n",
       "    this.context = undefined;\n",
       "    this.message = undefined;\n",
       "    this.canvas = undefined;\n",
       "    this.rubberband_canvas = undefined;\n",
       "    this.rubberband_context = undefined;\n",
       "    this.format_dropdown = undefined;\n",
       "\n",
       "    this.image_mode = 'full';\n",
       "\n",
       "    this.root = $('<div/>');\n",
       "    this._root_extra_style(this.root)\n",
       "    this.root.attr('style', 'display: inline-block');\n",
       "\n",
       "    $(parent_element).append(this.root);\n",
       "\n",
       "    this._init_header(this);\n",
       "    this._init_canvas(this);\n",
       "    this._init_toolbar(this);\n",
       "\n",
       "    var fig = this;\n",
       "\n",
       "    this.waiting = false;\n",
       "\n",
       "    this.ws.onopen =  function () {\n",
       "            fig.send_message(\"supports_binary\", {value: fig.supports_binary});\n",
       "            fig.send_message(\"send_image_mode\", {});\n",
       "            fig.send_message(\"refresh\", {});\n",
       "        }\n",
       "\n",
       "    this.imageObj.onload = function() {\n",
       "            if (fig.image_mode == 'full') {\n",
       "                // Full images could contain transparency (where diff images\n",
       "                // almost always do), so we need to clear the canvas so that\n",
       "                // there is no ghosting.\n",
       "                fig.context.clearRect(0, 0, fig.canvas.width, fig.canvas.height);\n",
       "            }\n",
       "            fig.context.drawImage(fig.imageObj, 0, 0);\n",
       "        };\n",
       "\n",
       "    this.imageObj.onunload = function() {\n",
       "        this.ws.close();\n",
       "    }\n",
       "\n",
       "    this.ws.onmessage = this._make_on_message_function(this);\n",
       "\n",
       "    this.ondownload = ondownload;\n",
       "}\n",
       "\n",
       "mpl.figure.prototype._init_header = function() {\n",
       "    var titlebar = $(\n",
       "        '<div class=\"ui-dialog-titlebar ui-widget-header ui-corner-all ' +\n",
       "        'ui-helper-clearfix\"/>');\n",
       "    var titletext = $(\n",
       "        '<div class=\"ui-dialog-title\" style=\"width: 100%; ' +\n",
       "        'text-align: center; padding: 3px;\"/>');\n",
       "    titlebar.append(titletext)\n",
       "    this.root.append(titlebar);\n",
       "    this.header = titletext[0];\n",
       "}\n",
       "\n",
       "\n",
       "\n",
       "mpl.figure.prototype._canvas_extra_style = function(canvas_div) {\n",
       "\n",
       "}\n",
       "\n",
       "\n",
       "mpl.figure.prototype._root_extra_style = function(canvas_div) {\n",
       "\n",
       "}\n",
       "\n",
       "mpl.figure.prototype._init_canvas = function() {\n",
       "    var fig = this;\n",
       "\n",
       "    var canvas_div = $('<div/>');\n",
       "\n",
       "    canvas_div.attr('style', 'position: relative; clear: both; outline: 0');\n",
       "\n",
       "    function canvas_keyboard_event(event) {\n",
       "        return fig.key_event(event, event['data']);\n",
       "    }\n",
       "\n",
       "    canvas_div.keydown('key_press', canvas_keyboard_event);\n",
       "    canvas_div.keyup('key_release', canvas_keyboard_event);\n",
       "    this.canvas_div = canvas_div\n",
       "    this._canvas_extra_style(canvas_div)\n",
       "    this.root.append(canvas_div);\n",
       "\n",
       "    var canvas = $('<canvas/>');\n",
       "    canvas.addClass('mpl-canvas');\n",
       "    canvas.attr('style', \"left: 0; top: 0; z-index: 0; outline: 0\")\n",
       "\n",
       "    this.canvas = canvas[0];\n",
       "    this.context = canvas[0].getContext(\"2d\");\n",
       "\n",
       "    var rubberband = $('<canvas/>');\n",
       "    rubberband.attr('style', \"position: absolute; left: 0; top: 0; z-index: 1;\")\n",
       "\n",
       "    var pass_mouse_events = true;\n",
       "\n",
       "    canvas_div.resizable({\n",
       "        start: function(event, ui) {\n",
       "            pass_mouse_events = false;\n",
       "        },\n",
       "        resize: function(event, ui) {\n",
       "            fig.request_resize(ui.size.width, ui.size.height);\n",
       "        },\n",
       "        stop: function(event, ui) {\n",
       "            pass_mouse_events = true;\n",
       "            fig.request_resize(ui.size.width, ui.size.height);\n",
       "        },\n",
       "    });\n",
       "\n",
       "    function mouse_event_fn(event) {\n",
       "        if (pass_mouse_events)\n",
       "            return fig.mouse_event(event, event['data']);\n",
       "    }\n",
       "\n",
       "    rubberband.mousedown('button_press', mouse_event_fn);\n",
       "    rubberband.mouseup('button_release', mouse_event_fn);\n",
       "    // Throttle sequential mouse events to 1 every 20ms.\n",
       "    rubberband.mousemove('motion_notify', mouse_event_fn);\n",
       "\n",
       "    rubberband.mouseenter('figure_enter', mouse_event_fn);\n",
       "    rubberband.mouseleave('figure_leave', mouse_event_fn);\n",
       "\n",
       "    canvas_div.on(\"wheel\", function (event) {\n",
       "        event = event.originalEvent;\n",
       "        event['data'] = 'scroll'\n",
       "        if (event.deltaY < 0) {\n",
       "            event.step = 1;\n",
       "        } else {\n",
       "            event.step = -1;\n",
       "        }\n",
       "        mouse_event_fn(event);\n",
       "    });\n",
       "\n",
       "    canvas_div.append(canvas);\n",
       "    canvas_div.append(rubberband);\n",
       "\n",
       "    this.rubberband = rubberband;\n",
       "    this.rubberband_canvas = rubberband[0];\n",
       "    this.rubberband_context = rubberband[0].getContext(\"2d\");\n",
       "    this.rubberband_context.strokeStyle = \"#000000\";\n",
       "\n",
       "    this._resize_canvas = function(width, height) {\n",
       "        // Keep the size of the canvas, canvas container, and rubber band\n",
       "        // canvas in synch.\n",
       "        canvas_div.css('width', width)\n",
       "        canvas_div.css('height', height)\n",
       "\n",
       "        canvas.attr('width', width);\n",
       "        canvas.attr('height', height);\n",
       "\n",
       "        rubberband.attr('width', width);\n",
       "        rubberband.attr('height', height);\n",
       "    }\n",
       "\n",
       "    // Set the figure to an initial 600x600px, this will subsequently be updated\n",
       "    // upon first draw.\n",
       "    this._resize_canvas(600, 600);\n",
       "\n",
       "    // Disable right mouse context menu.\n",
       "    $(this.rubberband_canvas).bind(\"contextmenu\",function(e){\n",
       "        return false;\n",
       "    });\n",
       "\n",
       "    function set_focus () {\n",
       "        canvas.focus();\n",
       "        canvas_div.focus();\n",
       "    }\n",
       "\n",
       "    window.setTimeout(set_focus, 100);\n",
       "}\n",
       "\n",
       "mpl.figure.prototype._init_toolbar = function() {\n",
       "    var fig = this;\n",
       "\n",
       "    var nav_element = $('<div/>')\n",
       "    nav_element.attr('style', 'width: 100%');\n",
       "    this.root.append(nav_element);\n",
       "\n",
       "    // Define a callback function for later on.\n",
       "    function toolbar_event(event) {\n",
       "        return fig.toolbar_button_onclick(event['data']);\n",
       "    }\n",
       "    function toolbar_mouse_event(event) {\n",
       "        return fig.toolbar_button_onmouseover(event['data']);\n",
       "    }\n",
       "\n",
       "    for(var toolbar_ind in mpl.toolbar_items) {\n",
       "        var name = mpl.toolbar_items[toolbar_ind][0];\n",
       "        var tooltip = mpl.toolbar_items[toolbar_ind][1];\n",
       "        var image = mpl.toolbar_items[toolbar_ind][2];\n",
       "        var method_name = mpl.toolbar_items[toolbar_ind][3];\n",
       "\n",
       "        if (!name) {\n",
       "            // put a spacer in here.\n",
       "            continue;\n",
       "        }\n",
       "        var button = $('<button/>');\n",
       "        button.addClass('ui-button ui-widget ui-state-default ui-corner-all ' +\n",
       "                        'ui-button-icon-only');\n",
       "        button.attr('role', 'button');\n",
       "        button.attr('aria-disabled', 'false');\n",
       "        button.click(method_name, toolbar_event);\n",
       "        button.mouseover(tooltip, toolbar_mouse_event);\n",
       "\n",
       "        var icon_img = $('<span/>');\n",
       "        icon_img.addClass('ui-button-icon-primary ui-icon');\n",
       "        icon_img.addClass(image);\n",
       "        icon_img.addClass('ui-corner-all');\n",
       "\n",
       "        var tooltip_span = $('<span/>');\n",
       "        tooltip_span.addClass('ui-button-text');\n",
       "        tooltip_span.html(tooltip);\n",
       "\n",
       "        button.append(icon_img);\n",
       "        button.append(tooltip_span);\n",
       "\n",
       "        nav_element.append(button);\n",
       "    }\n",
       "\n",
       "    var fmt_picker_span = $('<span/>');\n",
       "\n",
       "    var fmt_picker = $('<select/>');\n",
       "    fmt_picker.addClass('mpl-toolbar-option ui-widget ui-widget-content');\n",
       "    fmt_picker_span.append(fmt_picker);\n",
       "    nav_element.append(fmt_picker_span);\n",
       "    this.format_dropdown = fmt_picker[0];\n",
       "\n",
       "    for (var ind in mpl.extensions) {\n",
       "        var fmt = mpl.extensions[ind];\n",
       "        var option = $(\n",
       "            '<option/>', {selected: fmt === mpl.default_extension}).html(fmt);\n",
       "        fmt_picker.append(option)\n",
       "    }\n",
       "\n",
       "    // Add hover states to the ui-buttons\n",
       "    $( \".ui-button\" ).hover(\n",
       "        function() { $(this).addClass(\"ui-state-hover\");},\n",
       "        function() { $(this).removeClass(\"ui-state-hover\");}\n",
       "    );\n",
       "\n",
       "    var status_bar = $('<span class=\"mpl-message\"/>');\n",
       "    nav_element.append(status_bar);\n",
       "    this.message = status_bar[0];\n",
       "}\n",
       "\n",
       "mpl.figure.prototype.request_resize = function(x_pixels, y_pixels) {\n",
       "    // Request matplotlib to resize the figure. Matplotlib will then trigger a resize in the client,\n",
       "    // which will in turn request a refresh of the image.\n",
       "    this.send_message('resize', {'width': x_pixels, 'height': y_pixels});\n",
       "}\n",
       "\n",
       "mpl.figure.prototype.send_message = function(type, properties) {\n",
       "    properties['type'] = type;\n",
       "    properties['figure_id'] = this.id;\n",
       "    this.ws.send(JSON.stringify(properties));\n",
       "}\n",
       "\n",
       "mpl.figure.prototype.send_draw_message = function() {\n",
       "    if (!this.waiting) {\n",
       "        this.waiting = true;\n",
       "        this.ws.send(JSON.stringify({type: \"draw\", figure_id: this.id}));\n",
       "    }\n",
       "}\n",
       "\n",
       "\n",
       "mpl.figure.prototype.handle_save = function(fig, msg) {\n",
       "    var format_dropdown = fig.format_dropdown;\n",
       "    var format = format_dropdown.options[format_dropdown.selectedIndex].value;\n",
       "    fig.ondownload(fig, format);\n",
       "}\n",
       "\n",
       "\n",
       "mpl.figure.prototype.handle_resize = function(fig, msg) {\n",
       "    var size = msg['size'];\n",
       "    if (size[0] != fig.canvas.width || size[1] != fig.canvas.height) {\n",
       "        fig._resize_canvas(size[0], size[1]);\n",
       "        fig.send_message(\"refresh\", {});\n",
       "    };\n",
       "}\n",
       "\n",
       "mpl.figure.prototype.handle_rubberband = function(fig, msg) {\n",
       "    var x0 = msg['x0'];\n",
       "    var y0 = fig.canvas.height - msg['y0'];\n",
       "    var x1 = msg['x1'];\n",
       "    var y1 = fig.canvas.height - msg['y1'];\n",
       "    x0 = Math.floor(x0) + 0.5;\n",
       "    y0 = Math.floor(y0) + 0.5;\n",
       "    x1 = Math.floor(x1) + 0.5;\n",
       "    y1 = Math.floor(y1) + 0.5;\n",
       "    var min_x = Math.min(x0, x1);\n",
       "    var min_y = Math.min(y0, y1);\n",
       "    var width = Math.abs(x1 - x0);\n",
       "    var height = Math.abs(y1 - y0);\n",
       "\n",
       "    fig.rubberband_context.clearRect(\n",
       "        0, 0, fig.canvas.width, fig.canvas.height);\n",
       "\n",
       "    fig.rubberband_context.strokeRect(min_x, min_y, width, height);\n",
       "}\n",
       "\n",
       "mpl.figure.prototype.handle_figure_label = function(fig, msg) {\n",
       "    // Updates the figure title.\n",
       "    fig.header.textContent = msg['label'];\n",
       "}\n",
       "\n",
       "mpl.figure.prototype.handle_cursor = function(fig, msg) {\n",
       "    var cursor = msg['cursor'];\n",
       "    switch(cursor)\n",
       "    {\n",
       "    case 0:\n",
       "        cursor = 'pointer';\n",
       "        break;\n",
       "    case 1:\n",
       "        cursor = 'default';\n",
       "        break;\n",
       "    case 2:\n",
       "        cursor = 'crosshair';\n",
       "        break;\n",
       "    case 3:\n",
       "        cursor = 'move';\n",
       "        break;\n",
       "    }\n",
       "    fig.rubberband_canvas.style.cursor = cursor;\n",
       "}\n",
       "\n",
       "mpl.figure.prototype.handle_message = function(fig, msg) {\n",
       "    fig.message.textContent = msg['message'];\n",
       "}\n",
       "\n",
       "mpl.figure.prototype.handle_draw = function(fig, msg) {\n",
       "    // Request the server to send over a new figure.\n",
       "    fig.send_draw_message();\n",
       "}\n",
       "\n",
       "mpl.figure.prototype.handle_image_mode = function(fig, msg) {\n",
       "    fig.image_mode = msg['mode'];\n",
       "}\n",
       "\n",
       "mpl.figure.prototype.updated_canvas_event = function() {\n",
       "    // Called whenever the canvas gets updated.\n",
       "    this.send_message(\"ack\", {});\n",
       "}\n",
       "\n",
       "// A function to construct a web socket function for onmessage handling.\n",
       "// Called in the figure constructor.\n",
       "mpl.figure.prototype._make_on_message_function = function(fig) {\n",
       "    return function socket_on_message(evt) {\n",
       "        if (evt.data instanceof Blob) {\n",
       "            /* FIXME: We get \"Resource interpreted as Image but\n",
       "             * transferred with MIME type text/plain:\" errors on\n",
       "             * Chrome.  But how to set the MIME type?  It doesn't seem\n",
       "             * to be part of the websocket stream */\n",
       "            evt.data.type = \"image/png\";\n",
       "\n",
       "            /* Free the memory for the previous frames */\n",
       "            if (fig.imageObj.src) {\n",
       "                (window.URL || window.webkitURL).revokeObjectURL(\n",
       "                    fig.imageObj.src);\n",
       "            }\n",
       "\n",
       "            fig.imageObj.src = (window.URL || window.webkitURL).createObjectURL(\n",
       "                evt.data);\n",
       "            fig.updated_canvas_event();\n",
       "            fig.waiting = false;\n",
       "            return;\n",
       "        }\n",
       "        else if (typeof evt.data === 'string' && evt.data.slice(0, 21) == \"data:image/png;base64\") {\n",
       "            fig.imageObj.src = evt.data;\n",
       "            fig.updated_canvas_event();\n",
       "            fig.waiting = false;\n",
       "            return;\n",
       "        }\n",
       "\n",
       "        var msg = JSON.parse(evt.data);\n",
       "        var msg_type = msg['type'];\n",
       "\n",
       "        // Call the  \"handle_{type}\" callback, which takes\n",
       "        // the figure and JSON message as its only arguments.\n",
       "        try {\n",
       "            var callback = fig[\"handle_\" + msg_type];\n",
       "        } catch (e) {\n",
       "            console.log(\"No handler for the '\" + msg_type + \"' message type: \", msg);\n",
       "            return;\n",
       "        }\n",
       "\n",
       "        if (callback) {\n",
       "            try {\n",
       "                // console.log(\"Handling '\" + msg_type + \"' message: \", msg);\n",
       "                callback(fig, msg);\n",
       "            } catch (e) {\n",
       "                console.log(\"Exception inside the 'handler_\" + msg_type + \"' callback:\", e, e.stack, msg);\n",
       "            }\n",
       "        }\n",
       "    };\n",
       "}\n",
       "\n",
       "// from http://stackoverflow.com/questions/1114465/getting-mouse-location-in-canvas\n",
       "mpl.findpos = function(e) {\n",
       "    //this section is from http://www.quirksmode.org/js/events_properties.html\n",
       "    var targ;\n",
       "    if (!e)\n",
       "        e = window.event;\n",
       "    if (e.target)\n",
       "        targ = e.target;\n",
       "    else if (e.srcElement)\n",
       "        targ = e.srcElement;\n",
       "    if (targ.nodeType == 3) // defeat Safari bug\n",
       "        targ = targ.parentNode;\n",
       "\n",
       "    // jQuery normalizes the pageX and pageY\n",
       "    // pageX,Y are the mouse positions relative to the document\n",
       "    // offset() returns the position of the element relative to the document\n",
       "    var x = e.pageX - $(targ).offset().left;\n",
       "    var y = e.pageY - $(targ).offset().top;\n",
       "\n",
       "    return {\"x\": x, \"y\": y};\n",
       "};\n",
       "\n",
       "/*\n",
       " * return a copy of an object with only non-object keys\n",
       " * we need this to avoid circular references\n",
       " * http://stackoverflow.com/a/24161582/3208463\n",
       " */\n",
       "function simpleKeys (original) {\n",
       "  return Object.keys(original).reduce(function (obj, key) {\n",
       "    if (typeof original[key] !== 'object')\n",
       "        obj[key] = original[key]\n",
       "    return obj;\n",
       "  }, {});\n",
       "}\n",
       "\n",
       "mpl.figure.prototype.mouse_event = function(event, name) {\n",
       "    var canvas_pos = mpl.findpos(event)\n",
       "\n",
       "    if (name === 'button_press')\n",
       "    {\n",
       "        this.canvas.focus();\n",
       "        this.canvas_div.focus();\n",
       "    }\n",
       "\n",
       "    var x = canvas_pos.x;\n",
       "    var y = canvas_pos.y;\n",
       "\n",
       "    this.send_message(name, {x: x, y: y, button: event.button,\n",
       "                             step: event.step,\n",
       "                             guiEvent: simpleKeys(event)});\n",
       "\n",
       "    /* This prevents the web browser from automatically changing to\n",
       "     * the text insertion cursor when the button is pressed.  We want\n",
       "     * to control all of the cursor setting manually through the\n",
       "     * 'cursor' event from matplotlib */\n",
       "    event.preventDefault();\n",
       "    return false;\n",
       "}\n",
       "\n",
       "mpl.figure.prototype._key_event_extra = function(event, name) {\n",
       "    // Handle any extra behaviour associated with a key event\n",
       "}\n",
       "\n",
       "mpl.figure.prototype.key_event = function(event, name) {\n",
       "\n",
       "    // Prevent repeat events\n",
       "    if (name == 'key_press')\n",
       "    {\n",
       "        if (event.which === this._key)\n",
       "            return;\n",
       "        else\n",
       "            this._key = event.which;\n",
       "    }\n",
       "    if (name == 'key_release')\n",
       "        this._key = null;\n",
       "\n",
       "    var value = '';\n",
       "    if (event.ctrlKey && event.which != 17)\n",
       "        value += \"ctrl+\";\n",
       "    if (event.altKey && event.which != 18)\n",
       "        value += \"alt+\";\n",
       "    if (event.shiftKey && event.which != 16)\n",
       "        value += \"shift+\";\n",
       "\n",
       "    value += 'k';\n",
       "    value += event.which.toString();\n",
       "\n",
       "    this._key_event_extra(event, name);\n",
       "\n",
       "    this.send_message(name, {key: value,\n",
       "                             guiEvent: simpleKeys(event)});\n",
       "    return false;\n",
       "}\n",
       "\n",
       "mpl.figure.prototype.toolbar_button_onclick = function(name) {\n",
       "    if (name == 'download') {\n",
       "        this.handle_save(this, null);\n",
       "    } else {\n",
       "        this.send_message(\"toolbar_button\", {name: name});\n",
       "    }\n",
       "};\n",
       "\n",
       "mpl.figure.prototype.toolbar_button_onmouseover = function(tooltip) {\n",
       "    this.message.textContent = tooltip;\n",
       "};\n",
       "mpl.toolbar_items = [[\"Home\", \"Reset original view\", \"fa fa-home icon-home\", \"home\"], [\"Back\", \"Back to  previous view\", \"fa fa-arrow-left icon-arrow-left\", \"back\"], [\"Forward\", \"Forward to next view\", \"fa fa-arrow-right icon-arrow-right\", \"forward\"], [\"\", \"\", \"\", \"\"], [\"Pan\", \"Pan axes with left mouse, zoom with right\", \"fa fa-arrows icon-move\", \"pan\"], [\"Zoom\", \"Zoom to rectangle\", \"fa fa-square-o icon-check-empty\", \"zoom\"], [\"\", \"\", \"\", \"\"], [\"Download\", \"Download plot\", \"fa fa-floppy-o icon-save\", \"download\"]];\n",
       "\n",
       "mpl.extensions = [\"eps\", \"jpeg\", \"pdf\", \"png\", \"ps\", \"raw\", \"svg\", \"tif\"];\n",
       "\n",
       "mpl.default_extension = \"png\";var comm_websocket_adapter = function(comm) {\n",
       "    // Create a \"websocket\"-like object which calls the given IPython comm\n",
       "    // object with the appropriate methods. Currently this is a non binary\n",
       "    // socket, so there is still some room for performance tuning.\n",
       "    var ws = {};\n",
       "\n",
       "    ws.close = function() {\n",
       "        comm.close()\n",
       "    };\n",
       "    ws.send = function(m) {\n",
       "        //console.log('sending', m);\n",
       "        comm.send(m);\n",
       "    };\n",
       "    // Register the callback with on_msg.\n",
       "    comm.on_msg(function(msg) {\n",
       "        //console.log('receiving', msg['content']['data'], msg);\n",
       "        // Pass the mpl event to the overriden (by mpl) onmessage function.\n",
       "        ws.onmessage(msg['content']['data'])\n",
       "    });\n",
       "    return ws;\n",
       "}\n",
       "\n",
       "mpl.mpl_figure_comm = function(comm, msg) {\n",
       "    // This is the function which gets called when the mpl process\n",
       "    // starts-up an IPython Comm through the \"matplotlib\" channel.\n",
       "\n",
       "    var id = msg.content.data.id;\n",
       "    // Get hold of the div created by the display call when the Comm\n",
       "    // socket was opened in Python.\n",
       "    var element = $(\"#\" + id);\n",
       "    var ws_proxy = comm_websocket_adapter(comm)\n",
       "\n",
       "    function ondownload(figure, format) {\n",
       "        window.open(figure.imageObj.src);\n",
       "    }\n",
       "\n",
       "    var fig = new mpl.figure(id, ws_proxy,\n",
       "                           ondownload,\n",
       "                           element.get(0));\n",
       "\n",
       "    // Call onopen now - mpl needs it, as it is assuming we've passed it a real\n",
       "    // web socket which is closed, not our websocket->open comm proxy.\n",
       "    ws_proxy.onopen();\n",
       "\n",
       "    fig.parent_element = element.get(0);\n",
       "    fig.cell_info = mpl.find_output_cell(\"<div id='\" + id + \"'></div>\");\n",
       "    if (!fig.cell_info) {\n",
       "        console.error(\"Failed to find cell for figure\", id, fig);\n",
       "        return;\n",
       "    }\n",
       "\n",
       "    var output_index = fig.cell_info[2]\n",
       "    var cell = fig.cell_info[0];\n",
       "\n",
       "};\n",
       "\n",
       "mpl.figure.prototype.handle_close = function(fig, msg) {\n",
       "    fig.root.unbind('remove')\n",
       "\n",
       "    // Update the output cell to use the data from the current canvas.\n",
       "    fig.push_to_output();\n",
       "    var dataURL = fig.canvas.toDataURL();\n",
       "    // Re-enable the keyboard manager in IPython - without this line, in FF,\n",
       "    // the notebook keyboard shortcuts fail.\n",
       "    IPython.keyboard_manager.enable()\n",
       "    $(fig.parent_element).html('<img src=\"' + dataURL + '\">');\n",
       "    fig.close_ws(fig, msg);\n",
       "}\n",
       "\n",
       "mpl.figure.prototype.close_ws = function(fig, msg){\n",
       "    fig.send_message('closing', msg);\n",
       "    // fig.ws.close()\n",
       "}\n",
       "\n",
       "mpl.figure.prototype.push_to_output = function(remove_interactive) {\n",
       "    // Turn the data on the canvas into data in the output cell.\n",
       "    var dataURL = this.canvas.toDataURL();\n",
       "    this.cell_info[1]['text/html'] = '<img src=\"' + dataURL + '\">';\n",
       "}\n",
       "\n",
       "mpl.figure.prototype.updated_canvas_event = function() {\n",
       "    // Tell IPython that the notebook contents must change.\n",
       "    IPython.notebook.set_dirty(true);\n",
       "    this.send_message(\"ack\", {});\n",
       "    var fig = this;\n",
       "    // Wait a second, then push the new image to the DOM so\n",
       "    // that it is saved nicely (might be nice to debounce this).\n",
       "    setTimeout(function () { fig.push_to_output() }, 1000);\n",
       "}\n",
       "\n",
       "mpl.figure.prototype._init_toolbar = function() {\n",
       "    var fig = this;\n",
       "\n",
       "    var nav_element = $('<div/>')\n",
       "    nav_element.attr('style', 'width: 100%');\n",
       "    this.root.append(nav_element);\n",
       "\n",
       "    // Define a callback function for later on.\n",
       "    function toolbar_event(event) {\n",
       "        return fig.toolbar_button_onclick(event['data']);\n",
       "    }\n",
       "    function toolbar_mouse_event(event) {\n",
       "        return fig.toolbar_button_onmouseover(event['data']);\n",
       "    }\n",
       "\n",
       "    for(var toolbar_ind in mpl.toolbar_items){\n",
       "        var name = mpl.toolbar_items[toolbar_ind][0];\n",
       "        var tooltip = mpl.toolbar_items[toolbar_ind][1];\n",
       "        var image = mpl.toolbar_items[toolbar_ind][2];\n",
       "        var method_name = mpl.toolbar_items[toolbar_ind][3];\n",
       "\n",
       "        if (!name) { continue; };\n",
       "\n",
       "        var button = $('<button class=\"btn btn-default\" href=\"#\" title=\"' + name + '\"><i class=\"fa ' + image + ' fa-lg\"></i></button>');\n",
       "        button.click(method_name, toolbar_event);\n",
       "        button.mouseover(tooltip, toolbar_mouse_event);\n",
       "        nav_element.append(button);\n",
       "    }\n",
       "\n",
       "    // Add the status bar.\n",
       "    var status_bar = $('<span class=\"mpl-message\" style=\"text-align:right; float: right;\"/>');\n",
       "    nav_element.append(status_bar);\n",
       "    this.message = status_bar[0];\n",
       "\n",
       "    // Add the close button to the window.\n",
       "    var buttongrp = $('<div class=\"btn-group inline pull-right\"></div>');\n",
       "    var button = $('<button class=\"btn btn-mini btn-primary\" href=\"#\" title=\"Stop Interaction\"><i class=\"fa fa-power-off icon-remove icon-large\"></i></button>');\n",
       "    button.click(function (evt) { fig.handle_close(fig, {}); } );\n",
       "    button.mouseover('Stop Interaction', toolbar_mouse_event);\n",
       "    buttongrp.append(button);\n",
       "    var titlebar = this.root.find($('.ui-dialog-titlebar'));\n",
       "    titlebar.prepend(buttongrp);\n",
       "}\n",
       "\n",
       "mpl.figure.prototype._root_extra_style = function(el){\n",
       "    var fig = this\n",
       "    el.on(\"remove\", function(){\n",
       "\tfig.close_ws(fig, {});\n",
       "    });\n",
       "}\n",
       "\n",
       "mpl.figure.prototype._canvas_extra_style = function(el){\n",
       "    // this is important to make the div 'focusable\n",
       "    el.attr('tabindex', 0)\n",
       "    // reach out to IPython and tell the keyboard manager to turn it's self\n",
       "    // off when our div gets focus\n",
       "\n",
       "    // location in version 3\n",
       "    if (IPython.notebook.keyboard_manager) {\n",
       "        IPython.notebook.keyboard_manager.register_events(el);\n",
       "    }\n",
       "    else {\n",
       "        // location in version 2\n",
       "        IPython.keyboard_manager.register_events(el);\n",
       "    }\n",
       "\n",
       "}\n",
       "\n",
       "mpl.figure.prototype._key_event_extra = function(event, name) {\n",
       "    var manager = IPython.notebook.keyboard_manager;\n",
       "    if (!manager)\n",
       "        manager = IPython.keyboard_manager;\n",
       "\n",
       "    // Check for shift+enter\n",
       "    if (event.shiftKey && event.which == 13) {\n",
       "        this.canvas_div.blur();\n",
       "        event.shiftKey = false;\n",
       "        // Send a \"J\" for go to next cell\n",
       "        event.which = 74;\n",
       "        event.keyCode = 74;\n",
       "        manager.command_mode();\n",
       "        manager.handle_keydown(event);\n",
       "    }\n",
       "}\n",
       "\n",
       "mpl.figure.prototype.handle_save = function(fig, msg) {\n",
       "    fig.ondownload(fig, null);\n",
       "}\n",
       "\n",
       "\n",
       "mpl.find_output_cell = function(html_output) {\n",
       "    // Return the cell and output element which can be found *uniquely* in the notebook.\n",
       "    // Note - this is a bit hacky, but it is done because the \"notebook_saving.Notebook\"\n",
       "    // IPython event is triggered only after the cells have been serialised, which for\n",
       "    // our purposes (turning an active figure into a static one), is too late.\n",
       "    var cells = IPython.notebook.get_cells();\n",
       "    var ncells = cells.length;\n",
       "    for (var i=0; i<ncells; i++) {\n",
       "        var cell = cells[i];\n",
       "        if (cell.cell_type === 'code'){\n",
       "            for (var j=0; j<cell.output_area.outputs.length; j++) {\n",
       "                var data = cell.output_area.outputs[j];\n",
       "                if (data.data) {\n",
       "                    // IPython >= 3 moved mimebundle to data attribute of output\n",
       "                    data = data.data;\n",
       "                }\n",
       "                if (data['text/html'] == html_output) {\n",
       "                    return [cell, data, j];\n",
       "                }\n",
       "            }\n",
       "        }\n",
       "    }\n",
       "}\n",
       "\n",
       "// Register the function which deals with the matplotlib target/channel.\n",
       "// The kernel may be null if the page has been refreshed.\n",
       "if (IPython.notebook.kernel != null) {\n",
       "    IPython.notebook.kernel.comm_manager.register_target('matplotlib', mpl.mpl_figure_comm);\n",
       "}\n"
      ],
      "text/plain": [
       "<IPython.core.display.Javascript object>"
      ]
     },
     "metadata": {},
     "output_type": "display_data"
    },
    {
     "data": {
      "text/html": [
       "<img src=\"data:image/png;base64,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\">"
      ],
      "text/plain": [
       "<IPython.core.display.HTML object>"
      ]
     },
     "metadata": {},
     "output_type": "display_data"
    },
    {
     "data": {
      "text/latex": [
       "Based on the previous cell, what do you think will happen if we change the constant term from $3$ to $-3$? Press the button to find out if you are correct."
      ],
      "text/plain": [
       "<IPython.core.display.Latex object>"
      ]
     },
     "metadata": {},
     "output_type": "display_data"
    },
    {
     "data": {
      "application/vnd.jupyter.widget-view+json": {
       "model_id": "13862d4a50714fd5b6b4ad5e81aed936",
       "version_major": 2,
       "version_minor": 0
      },
      "text/plain": [
       "Button(description='Change Constant', style=ButtonStyle())"
      ]
     },
     "metadata": {},
     "output_type": "display_data"
    },
    {
     "data": {
      "text/latex": [
       "As we can see, changing the constant term shifts the graph of a polynomial up or down. This results in different x-intercepts, and therefore a different interval. "
      ],
      "text/plain": [
       "<IPython.core.display.Latex object>"
      ]
     },
     "metadata": {},
     "output_type": "display_data"
    }
   ],
   "source": [
    "%matplotlib notebook\n",
    "\n",
    "try:\n",
    "    display(Latex(\"Where are the x intercepts for the polynomial $x^2-4x+3$?\"))\n",
    "\n",
    "    int_1 = str(1)\n",
    "    int_2 = str(3)\n",
    "\n",
    "    def click_show(b):\n",
    "        plt.figure(figsize=(11,8))\n",
    "        plt.plot(x,x**2  - 4*x + 3, linewidth=2, label=r'$P(x) = x^2 -4x+3$');\n",
    "        plt.plot([-75,75],[0,0],'k-',alpha = 1,linewidth = 1)\n",
    "        plt.plot([0,0],[-75,75],'k-',alpha = 1,linewidth = 1)\n",
    "        plt.plot(3,0,'ro',markersize=10)\n",
    "        plt.plot(1,0,'ro',markersize=10)\n",
    "        plt.ylabel('P(x)', fontsize=20)\n",
    "        plt.xlabel('x', fontsize=20)\n",
    "        plt.grid(alpha = 0.7)\n",
    "        plt.xticks(np.arange(-10,11))\n",
    "        plt.ylim([-20,20])\n",
    "        plt.xlim([-9,9])\n",
    "        plt.legend(loc='best', fontsize = 18)\n",
    "        plt.show()\n",
    "        display(Latex('Based on the previous cell, what do you think will happen if we change the constant term from $3$ to $-3$? Press the button to find out if you are correct.'))\n",
    "        display(change_c)\n",
    "\n",
    "    def change_const(b):\n",
    "        plt.plot(x,x**2 - 4*x - 3, linewidth=2, label=r'$P(x) = x^2 -4x-3$')\n",
    "        plt.plot(2-np.sqrt(7),0,'yo',markersize=10)\n",
    "        plt.plot(2+np.sqrt(7),0,'yo', markersize=10)\n",
    "        plt.legend(loc='best', fontsize = 18)\n",
    "        display(Latex('As we can see, changing the constant term shifts the graph of a polynomial up or down. This results in different x-intercepts, and therefore a different interval. '))\n",
    "\n",
    "        \n",
    "    check = 0\n",
    "    breaker = 0\n",
    "    while check == 0:\n",
    "        guess_int_1 = str(input('x1='))\n",
    "        guess_int_2 = str(input('x2='))\n",
    "        show_int = widgets.Button(description ='Show intercepts')\n",
    "        if guess_int_1 == int_1 and guess_int_2 == int_2 or guess_int_1 == int_2 and guess_int_2 == int_1:\n",
    "            display(Latex('Correct! Press the button to display the points on the graph above'))\n",
    "            display(show_int)\n",
    "            check = 1\n",
    "        else:\n",
    "            breaker += 1\n",
    "            display(Latex('Try Again!'))\n",
    "            if breaker == 3:\n",
    "                display(Latex(\"Hint: Factor the polynomial. What are the x intercepts?\"))\n",
    "            elif breaker == 5:\n",
    "                display(Latex(\"The correct intercepts are $x=1$ and $x=3$. Press the button to display the points on the graph above\"))\n",
    "                display(show_int)\n",
    "                break\n",
    "            \n",
    "    show_int.on_click(click_show)\n",
    "\n",
    "    change_c = widgets.Button(description = 'Change Constant')\n",
    "\n",
    "    change_c.on_click(change_const)\n",
    "\n",
    "except KeyboardInterrupt:\n",
    "    pass\n"
   ]
  },
  {
   "cell_type": "markdown",
   "metadata": {},
   "source": [
    "Another way to think about this is that changing the constant term is the same as solving for a different interval of inequality. Take, for example the polynomials we just used above.\n",
    "\n",
    "We know that \n",
    "\n",
    "$x^2-4x+3 \\leq 0$ \n",
    "\n",
    "is **not** the same as \n",
    "\n",
    "$x^2-4x-3\\leq 0$.\n",
    "\n",
    "However, consider a new inequality:\n",
    "\n",
    "$x^2 - 4x - 3 \\leq -6$.\n",
    "\n",
    "If we simplify this expression, we find\n",
    "\n",
    "$x^2 - 4x +3 \\leq 0$\n",
    "\n",
    "which is indeed equivalent to the first polynomial (plotted in blue in the cell above)."
   ]
  },
  {
   "cell_type": "markdown",
   "metadata": {},
   "source": [
    "# Extra Problems"
   ]
  },
  {
   "cell_type": "markdown",
   "metadata": {},
   "source": [
    "## Practice solving graphically"
   ]
  },
  {
   "cell_type": "markdown",
   "metadata": {},
   "source": [
    "First, we will practice how to solve inequalities graphically. Below is a plot of the polynomial $P(x) = x^3 - 1x^2 - 22x + 40$. Using the graph, find the values of the three x intercepts. Based on this, determine the interval where $P(x) \\leq 0 $.\n",
    "\n",
    "This can method can be used to solve almost any polynomial inequality, provided that the x-intercepts are rational numbers which can be easily read off of the axes of the graph."
   ]
  },
  {
   "cell_type": "code",
   "execution_count": 17,
   "metadata": {
    "scrolled": false
   },
   "outputs": [
    {
     "data": {
      "application/vnd.jupyter.widget-view+json": {
       "model_id": "6d171b8ff756459082f507b12cd467ef",
       "version_major": 2,
       "version_minor": 0
      },
      "text/plain": [
       "interactive(children=(IntSlider(value=0, description='x1', max=10, min=-10), IntSlider(value=0, description='x…"
      ]
     },
     "metadata": {},
     "output_type": "display_data"
    }
   ],
   "source": [
    "%matplotlib inline\n",
    "\n",
    "def slider(x1,x2,x3):\n",
    "    xx = np.linspace(-10,10,300)\n",
    "    p1 = plt.figure(1,figsize = (11,8))\n",
    "    hold = True\n",
    "    plt.plot(xx,xx**3 - 1*xx**2 - 22*xx + 40, linewidth = 2, label = r'$P(x) = x^3 - 1x^2 - 22x + 40$')\n",
    "    plt.axhline(y=0, color = 'k', linewidth=1)\n",
    "    plt.axvline(x=0, color = 'k', linewidth=1)\n",
    "    plt.plot(x1,0,'ro',markersize=10)\n",
    "    plt.plot(x2,0,'mo',markersize=10)\n",
    "    plt.plot(x3,0,'go',markersize=10)\n",
    "    if x1 == -5 and x2 == 2 and x3 == 4:\n",
    "        plt.text(-7,20,'VERY GOOD!', fontsize = 25, fontweight = 'bold',color = 'r')\n",
    "        plt.fill_between(xx,xx**3 - 1*xx**2 - 22*xx + 40,np.zeros(len(xx)), where=xx**3 - 1*xx**2 - 22*xx + 40<0, interpolate = True, alpha=0.5, color='g' )\n",
    "        display(Latex('What interval then satisfies $P(x) \\leq 0$?'))\n",
    "        intvl_1=widgets.Checkbox(\n",
    "        value=False, \n",
    "        description=r'$[-5,4]$', \n",
    "        disabled=False\n",
    "        )\n",
    "        intvl_2=widgets.Checkbox(\n",
    "            value=False,\n",
    "            description=r'$[-5,3]U[4,\\infty)$',\n",
    "            disabled=False\n",
    "        )\n",
    "        intvl_3=widgets.Checkbox(\n",
    "            value=False,\n",
    "            description=r'$[-5,2]$',\n",
    "            disabled=False\n",
    "        )\n",
    "        intvl_4=widgets.Checkbox(\n",
    "            value=False,\n",
    "            description=r'$(-\\infty,-5]U[2,4]$',\n",
    "            disabled=False\n",
    "        )\n",
    "        display(intvl_1)\n",
    "        display(intvl_2)\n",
    "        display(intvl_3)\n",
    "        display(intvl_4)\n",
    "        \n",
    "        def check_button2(x):\n",
    "            if intvl_2.value == False and intvl_1.value==False and intvl_3.value==False and intvl_4.value==True:\n",
    "                display(Latex('Correct!'))\n",
    "            else: \n",
    "                display(Latex(\"Not quite - Check your answer again!\"))\n",
    "                \n",
    "        button_check2 = widgets.Button(description=\"check\")\n",
    "        display(button_check2)\n",
    "        button_check2.on_click(check_button2)\n",
    "        \n",
    "    plt.xlabel('$x$',fontsize = 14)\n",
    "    plt.ylabel('$y$',fontsize = 14)\n",
    "    plt.grid(alpha = 0.7)\n",
    "    plt.xticks(np.arange(-10,11))\n",
    "    plt.ylim([-75,75])\n",
    "    plt.xlim([-9,9])\n",
    "    plt.legend(loc = 'best', fontsize = 18)\n",
    "    plt.show()\n",
    "    \n",
    "sl = interactive(slider, x1=(-10,10,1), x2=(-10,10,1), x3=(-10,10,1)) \n",
    "display(sl)\n"
   ]
  },
  {
   "cell_type": "markdown",
   "metadata": {},
   "source": [
    "## Solve the inequalitites"
   ]
  },
  {
   "cell_type": "markdown",
   "metadata": {},
   "source": [
    "In the next cell, we have a function that will generate a random polynomial of degree 2 or 3. Using the analytic steps shown above, try to solve the intervals of inequalities for a few polynomials. Since we can always rearrange the polynomial into standard form, without loss of generality we can always take the inequality to be $\\leq 0 $ or $\\geq 0 $. Re-run this function as many times as you would like, until you are comfortable with solving polynomial inequalities.\n",
    "\n",
    "If you have trouble solving the inequality analytically, you can try to find the solution graphically, following the method in the cell above. At the bottom of this notebook, there will be some instructions on how to make basic plots with Python. Follow these steps and try to solve the inequality.\n",
    "\n",
    "**Note**: you will need to scroll to the top of the notebook and press the '**show code**' button to be able to write your own code in a cell.\n"
   ]
  },
  {
   "cell_type": "code",
   "execution_count": 18,
   "metadata": {},
   "outputs": [],
   "source": [
    "%matplotlib notebook \n",
    "%matplotlib notebook \n",
    "\n",
    "def find_interval():\n",
    "    display(Latex('Provide order of polynomial:'))\n",
    "    poly_order = int(input())\n",
    "    check_interval = 0\n",
    "    button_clicked = 0\n",
    "    \n",
    "    if poly_order > 3:\n",
    "        display(Latex('Order of polynomial must be less than or equal to 3'))\n",
    "        display(Latex('Provide order of polynomial:'))\n",
    "        poly_order = input()\n",
    "        \n",
    "    if poly_order == 3:    \n",
    "        C = np.random.randint(-5,5,poly_order)\n",
    "        C1 = -1*np.sum(C)\n",
    "        C2 = C[0]*C[1] + C[2]*(C[0]+C[1])\n",
    "        C3 = -1*C[0]*C[1]*C[2]\n",
    "        C11=C1\n",
    "        C22=C2\n",
    "        C33=C3\n",
    "        display(Latex('Find the interval where $P(x) \\geq 0 $ for $P(x)$ as given below:'))\n",
    "        if C1>0:\n",
    "            str1 = '+' + str(C11) + 'x^2'\n",
    "        elif C1== 0:\n",
    "            str1 = ''\n",
    "        else:\n",
    "            str1=  str(C11) + 'x^2'\n",
    "        if C2>0:\n",
    "            str2 = '+' + str(C22) + 'x'\n",
    "        elif C2== 0:\n",
    "            str2=''\n",
    "        else:\n",
    "            str2= str(C22) + 'x'\n",
    "        if C3>0:\n",
    "            str3 = '+' + str(C33)\n",
    "        elif C3== 0:\n",
    "            str3=''\n",
    "        else:\n",
    "            str3= str(C33)\n",
    "        a = 'P(x)= x^3' + str1 + str2 + str3\n",
    "        display(Math(a))\n",
    "        def poly(x):\n",
    "            return x**3 + C1*x**2 + C2*x + C3\n",
    "        \n",
    "    if poly_order == 2:\n",
    "        C = np.random.randint(-5,5,poly_order)\n",
    "        C1 = -1*np.sum(C)\n",
    "        C2 = C[0]*C[1]\n",
    "        C11=C1\n",
    "        C22=C2\n",
    "        if C1>0:\n",
    "            str1 = '+' + str(C11) + 'x'\n",
    "        elif C1== 0:\n",
    "            str1 = ''\n",
    "        else:\n",
    "            str1=  str(C11) + 'x'\n",
    "        if C2>0:\n",
    "            str2 = '+' + str(C22)\n",
    "        elif C2== 0:\n",
    "            str2=''\n",
    "        else:\n",
    "            str2= str(C22) \n",
    "        display(Latex('Find the interval where $P(x) \\geq 0 $ for $y$ as given below:'))\n",
    "        a = 'P(x) = x^2 ' + str1 + str2\n",
    "        display(Math(a))\n",
    "        def poly(x):\n",
    "            return x**2 + C1*x + C2\n",
    "    \n",
    "    Max = max(C)\n",
    "    Min = min(C)\n",
    "    M = [Min, Max]\n",
    "    V = np.sort(C)\n",
    "    eps = 0.1\n",
    "    \n",
    "    if poly_order ==3:\n",
    "        v = V[1]\n",
    "        if Max == Min and poly(Max +eps) > 0:\n",
    "                          interval = '['+str(Max)+',infinity)'\n",
    "        if Max == Min and poly(Max +eps) < 0:\n",
    "                          interval = '(-infinity,' + str( Max)+']'\n",
    "                      \n",
    "        if poly(Max + eps) >0:\n",
    "#         interval = '(' + str(Max) + ', infinity)'\n",
    "            if v !=  Max and v!= Min:\n",
    "                      interval = '['+str(Min) + ',' + str(v) + ']U[' + str(Max) + ',infinity)'\n",
    "            if v == Max:\n",
    "                          interval = '[' + str(Min) + ',infinity)'\n",
    "            if v== Min:\n",
    "                          interval = '[' + str(Max) + ',infinity)'\n",
    "    \n",
    "        if poly(Max + eps) <0:\n",
    "#         interval = '(-infinty,' + str(Min) + ')'\n",
    "            if v != Max and v != Min:\n",
    "                          interval = '(-inifinity,' + str(Min) + ']U['+str(v) + ','+str(Max) + ']'\n",
    "            if v == Max:\n",
    "                          interval = '(-infinity,' + str( Max) + ']'\n",
    "            if v == Min:\n",
    "                          interval = '(-infinity,' + str(Min) + ']'\n",
    "                    \n",
    "    if poly_order == 2:\n",
    "            if Max == Min and poly(Max+eps)>0:\n",
    "                interval = '(-infinity,infinity)'\n",
    "            elif poly(Max+eps)<0:\n",
    "                interval = '['+str(Min)+','+str(Max)+']'\n",
    "            elif poly(Max + eps)>0:\n",
    "                interval = '(-infinity,'+str(Min)+']U[' + str(Max)+',infinity)'\n",
    "            else:\n",
    "                interval = str(Max)    \n",
    "\n",
    "#     print(interval)\n",
    "    breaker = 0\n",
    "    while  check_interval == 0:\n",
    "        display(Latex('Input answer in interval notation (i.e. [-4,-1]U[5,infinity) ):'))\n",
    "        interval_input = str(input())\n",
    "        if interval_input == interval:\n",
    "            check_interval = 1\n",
    "            display(Latex(\"Correct! Here's a visualization of the solution:\"))\n",
    "            x=np.linspace(-100,100,10000)\n",
    "            y= poly(x)\n",
    "            plt.figure(figsize=(11,8))\n",
    "            plt.plot(x,y, linewidth = 2, label = '$' + str(a) + '$')\n",
    "            plt.xlabel('$x$',fontsize = 14)\n",
    "            plt.ylabel('$y$',fontsize = 14)\n",
    "            plt.axhline(y=0, color = 'k', linewidth=1)\n",
    "            plt.axvline(x=0, color = 'k', linewidth=1)\n",
    "            plt.grid(alpha = 0.7)\n",
    "            plt.xticks(np.arange(-10,11))\n",
    "            plt.ylim([-75,75])\n",
    "            plt.xlim([-9,9])\n",
    "            plt.legend(loc = 'best', fontsize = 18)\n",
    "            plt.fill_between(x,y,0, where=y>0, interpolate=True, alpha = 0.5, color='g')\n",
    "        else:\n",
    "            breaker += 1\n",
    "            display(Latex(\"That's not quite right, try again.\" ))\n",
    "            if breaker == 3:\n",
    "                display(Latex(\"Try plotting the polynomial to help you visualize the solution!\"))\n",
    "            elif breaker == 5:\n",
    "                display(Latex(\"The solution interval for this problem is\" + str(interval)))\n",
    "                display(Latex(\"Run this cell again to try another problem!\"))\n",
    "                x=np.linspace(-100,100,10000)\n",
    "                y= poly(x)\n",
    "                plt.figure(figsize=(11,8))\n",
    "                plt.plot(x,y, linewidth = 2, label = '$' + str(a) + '$')\n",
    "                plt.xlabel('$x$',fontsize = 14)\n",
    "                plt.ylabel('$y$',fontsize = 14)\n",
    "                plt.axhline(y=0, color = 'k', linewidth=1)\n",
    "                plt.axvline(x=0, color = 'k', linewidth=1)\n",
    "                plt.grid(alpha = 0.7)\n",
    "                plt.xticks(np.arange(-10,11))\n",
    "                plt.ylim([-75,75])\n",
    "                plt.xlim([-9,9])\n",
    "                plt.legend(loc = 'best', fontsize = 18)\n",
    "                plt.fill_between(x,y,0, where=y>0, interpolate=True, alpha = 0.5, color='g')\n",
    "                check_interval = 1\n",
    "            else:\n",
    "                continue\n",
    "        \n"
   ]
  },
  {
   "cell_type": "code",
   "execution_count": null,
   "metadata": {},
   "outputs": [
    {
     "data": {
      "text/latex": [
       "Provide order of polynomial:"
      ],
      "text/plain": [
       "<IPython.core.display.Latex object>"
      ]
     },
     "metadata": {},
     "output_type": "display_data"
    }
   ],
   "source": [
    "try:\n",
    "    find_interval()\n",
    "except KeyboardInterrupt:\n",
    "    pass"
   ]
  },
  {
   "cell_type": "markdown",
   "metadata": {
    "collapsed": true
   },
   "source": [
    "## Plotting in Python\n"
   ]
  },
  {
   "cell_type": "markdown",
   "metadata": {},
   "source": [
    " To create a simple plot of a polynomial, we can run the following code:\n",
    "\n",
    "First, we have to import the necessary libraries to create the plot. We can call the matplotlib library in the code by using the 'plt.' prefix. \n",
    "\n",
    "We will use the Python `matplotlib` library to plot the polynomials.\n",
    "\n",
    "The` numpy` library is used to create an object called a 'vector' -- we use this to plot the  polynomial over some range of x:\n",
    "\n",
    "```python\n",
    "import matplotlib.pyplot as plt\n",
    "\n",
    "import numpy as np \n",
    "```\n",
    "\n",
    "From the `numpy` library, we call the 'linspace' function, which creates a list of linearly spaced numbers. The numbers in the brackets are the starting number, the final number, and the number of points between the two. In this case, we create a list of 1000 numbers equally spaced between `-10` and `10`. We will define this list as the variable `x` by typing `x=` before we call the `numpy` function:\n",
    "\n",
    "```python\n",
    "x = np.linspace(-10,10,1000) \n",
    "```\n",
    "\n",
    "Now we can use `matplotlib` functions to create the graph. Calling the `figure()` function creates a figure box to make the graph. We can enter arguments in the brackets to specify the size of the figure window to make it easier to read. To actually draw the graph, we call `plot(x,y)`, draws the graph of y as a function of x.\n",
    "\n",
    "```python\n",
    "plt.figure(figsize=(11,8)) \n",
    "\n",
    "plt.plot(x,y)  \n",
    "```\n",
    "\n",
    "When you write the code for yourself, instead of typing 'y' in the brackets, write out the actual polynomial you wish to plot. For example, if we wanted to plot $y = x^2 + 2x - 3$, our code may look like:\n",
    "\n",
    "```python\n",
    "plt.figure(figsize=(11,8)) \n",
    "\n",
    "plt.plot(x,x**2 + 2*x - 3)  \n",
    "```\n",
    "\n",
    "Notice the *syntax* of the polynomial. Double asterisks `**` are used to exponentiate variables (i.e. $x^2$ = `x**2`), while a single asterisk `*` means multiplication in Python. Addition and subtraction are the usual `+` and `-` symbols.\n",
    "\n",
    "We can make the intercepts easier to read by placing a grid on the figure with\n",
    "\n",
    "```python\n",
    "plt.grid(alpha=0.7)\n",
    "```\n",
    "and making the origin lines solid by using\n",
    "\n",
    "```python\n",
    "plt.axhline(y=0, color = 'k', linewidth=1)\n",
    "\n",
    "plt.axvline(x=0, color = 'k', linewidth=1)\n",
    "```\n",
    "\n",
    "\n",
    "\n",
    "In the cell below, write out this code block, entering the polynomial you wish to solve as 'y'."
   ]
  },
  {
   "cell_type": "code",
   "execution_count": null,
   "metadata": {},
   "outputs": [],
   "source": []
  },
  {
   "cell_type": "markdown",
   "metadata": {},
   "source": [
    "# Conclusion\n"
   ]
  },
  {
   "cell_type": "markdown",
   "metadata": {},
   "source": [
    " In this notebook, we reviewed some basics of polynomial functions:\n",
    " - what is the general form of a polynomial\n",
    " - what are some examples of polynomials\n",
    " - what defines the order (or degree) of a polynomial\n",
    " - what is the constant term of a polynomial, and what is it's role on the graph of a polynomial\n",
    " \n",
    "We explored who to solve inequalities involving polynomials analytically, and demonstrated how we can search for solutions graphically as well.\n",
    "\n",
    "You should also be familiar with some basic Python syntax and plotting routines to create simple plots of polynomial functions with the `matplotlib` library."
   ]
  }
 ],
 "metadata": {
  "kernelspec": {
   "display_name": "Python 3",
   "language": "python",
   "name": "python3"
  },
  "language_info": {
   "codemirror_mode": {
    "name": "ipython",
    "version": 3
   },
   "file_extension": ".py",
   "mimetype": "text/x-python",
   "name": "python",
   "nbconvert_exporter": "python",
   "pygments_lexer": "ipython3",
   "version": "3.5.2"
  }
 },
 "nbformat": 4,
 "nbformat_minor": 2
}

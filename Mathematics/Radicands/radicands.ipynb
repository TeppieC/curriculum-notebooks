{
 "cells": [
  {
   "cell_type": "markdown",
   "metadata": {},
   "source": [
    "![Callysto.ca Banner](https://github.com/callysto/curriculum-notebooks/blob/master/callysto-notebook-banner-top.jpg?raw=true)\n",
    "\n",
    "<a href=\"https://hub.callysto.ca/jupyter/hub/user-redirect/git-pull?repo=https%3A%2F%2Fgithub.com%2Fcallysto%2Fcurriculum-notebooks&branch=master&subPath=Mathematics/Radicands/radicands.ipynb&depth=1\" target=\"_parent\"><img src=\"https://raw.githubusercontent.com/callysto/curriculum-notebooks/master/open-in-callysto-button.svg?sanitize=true\" width=\"123\" height=\"24\" alt=\"Open in Callysto\"/></a>"
   ]
  },
  {
   "cell_type": "code",
   "execution_count": 1,
   "metadata": {
    "tags": [
     "hide-input"
    ]
   },
   "outputs": [
    {
     "data": {
      "application/javascript": [
       "\n",
       "            require.config({\n",
       "                paths: {\n",
       "                    ggb: \"https://cdn.geogebra.org/apps/deployggb\"\n",
       "                }\n",
       "            });\n",
       "\n",
       "            require([\"ggb\"]);\n",
       "        "
      ],
      "text/plain": [
       "<IPython.core.display.Javascript object>"
      ]
     },
     "metadata": {},
     "output_type": "display_data"
    },
    {
     "data": {
      "text/html": [
       "<script>\n",
       "  function code_toggle() {\n",
       "    if (code_shown){\n",
       "      $('div.input').hide('500');\n",
       "      $('#toggleButton').val('Show Code')\n",
       "    } else {\n",
       "      $('div.input').show('500');\n",
       "      $('#toggleButton').val('Hide Code')\n",
       "    }\n",
       "    code_shown = !code_shown\n",
       "  }\n",
       "  \n",
       "  $( document ).ready(function(){\n",
       "    code_shown=false;\n",
       "    $('div.input').hide()\n",
       "  });\n",
       "</script>\n",
       "<form action=\"javascript:code_toggle()\"><input type=\"submit\" id=\"toggleButton\" value=\"Show Code\"></form>"
      ],
      "text/plain": [
       "<IPython.core.display.HTML object>"
      ]
     },
     "execution_count": 1,
     "metadata": {},
     "output_type": "execute_result"
    }
   ],
   "source": [
    "import numpy as np\n",
    "import pylab as plt\n",
    "from IPython.display import display, Latex, clear_output, Markdown, Image, HTML, Javascript\n",
    "import ipywidgets as widgets\n",
    "from astropy.table import Table, Column\n",
    "from ipywidgets import interact, interactive, Button , Layout\n",
    "import ipywidgets as w\n",
    "import matplotlib.pyplot as plt\n",
    "import plotly.graph_objs as go\n",
    "import math\n",
    "from ggb import *\n",
    "\n",
    "ggb = GGB()\n",
    "\n",
    "\n",
    "# Create a text box for user to input text\n",
    "\n",
    "get_user_text = w.Textarea( value='', placeholder='Enter your text here.', description='', disabled=False , layout=Layout(width='100%', height='250px') )\n",
    "\n",
    "# Create a slider to obtain shift integer from user \n",
    "\n",
    "get_user_shift = w.IntSlider( value=7, min=1, max=26, step=1, description='Ceasar Shift:', disabled=False, continuous_update=False, orientation='horizontal', readout=True, readout_format='d')\n",
    "\n",
    "# Function: After clicking on a button prompt, the next cell is executed.\n",
    "\n",
    "def rerun_cell(ev):\n",
    "    \n",
    "    display(Javascript('IPython.notebook.execute_cell_range(IPython.notebook.get_selected_index()+1,IPython.notebook.get_selected_index()+2)'))\n",
    "    button_t = w.Button(button_style='info',description=\"Restart\") \n",
    "\n",
    "\n",
    "from IPython.display import HTML\n",
    "HTML('''<script>\n",
    "  function code_toggle() {\n",
    "    if (code_shown){\n",
    "      $('div.input').hide('500');\n",
    "      $('#toggleButton').val('Show Code')\n",
    "    } else {\n",
    "      $('div.input').show('500');\n",
    "      $('#toggleButton').val('Hide Code')\n",
    "    }\n",
    "    code_shown = !code_shown\n",
    "  }\n",
    "  \n",
    "  $( document ).ready(function(){\n",
    "    code_shown=false;\n",
    "    $('div.input').hide()\n",
    "  });\n",
    "</script>\n",
    "<form action=\"javascript:code_toggle()\"><input type=\"submit\" id=\"toggleButton\" value=\"Show Code\"></form>''')"
   ]
  },
  {
   "cell_type": "markdown",
   "metadata": {},
   "source": [
    "# Radicans: Simplifying\n",
    "\n",
    "\n",
    "\n",
    "## Overview\n",
    "\n",
    ">### Lesson outcomes\n",
    "\n",
    "<ul>\n",
    "    <li> Compare and simplify radical expressions with numbers and variables. </li>\n",
    "    <li> Express an entire radical as a mixed radical and vice versa. </li>\n",
    "    <li> Rationalize  a radical expression.</li>\n",
    "    <li>Identify values for which the radical expression is defined.</li>\n",
    "</ul>\n",
    "\n",
    "\n",
    "## Introduction\n",
    "\n",
    "\n",
    "**Radicals** (or *roots*) are the *opposite* operation of applying exponents: we can undo a power with a radical, and we can undo a radical with a power. \n",
    "For instance, if we square 2, we get 4, and if we \"take the square root of 4\", we get 2.\n",
    "In mathematical notation, the previous sentence means the following:\n",
    "\n",
    "$$2^2 = 4, \\quad \\text{so} \\quad \\sqrt{4} = 2$$\n",
    "\n",
    "The $\\sqrt{}$ symbol used above is called the radical symbol. The expression $\\sqrt{9}$ is read as \"root nine\", \"radical nine\", or \"the square root of nine\".\n",
    "\n",
    "The figure below should help you understand what we mean by squaring a number\n",
    "\n",
    "\n"
   ]
  },
  {
   "cell_type": "code",
   "execution_count": 2,
   "metadata": {
    "tags": [
     "hide-input"
    ]
   },
   "outputs": [],
   "source": [
    "#ggb.file('files/square_numbers.ggb').draw();"
   ]
  },
  {
   "cell_type": "code",
   "execution_count": 3,
   "metadata": {
    "tags": [
     "hide-input"
    ]
   },
   "outputs": [
    {
     "data": {
      "text/html": [
       "<iframe scrolling=\"no\" title=\"SquareNumbers\" src=\"https://www.geogebra.org/material/iframe/id/nxyydwdt/width/607/height/403/border/888888/sfsb/true/smb/false/stb/false/stbh/false/ai/false/asb/false/sri/false/rc/false/ld/false/sdz/false/ctl/false\" width=\"607px\" height=\"403px\" style=\"border:0px;\"> </iframe>\n"
      ],
      "text/plain": [
       "<IPython.core.display.HTML object>"
      ]
     },
     "metadata": {},
     "output_type": "display_data"
    }
   ],
   "source": [
    "%%html\n",
    "<iframe scrolling=\"no\" title=\"SquareNumbers\" src=\"https://www.geogebra.org/material/iframe/id/nxyydwdt/width/607/height/403/border/888888/sfsb/true/smb/false/stb/false/stbh/false/ai/false/asb/false/sri/false/rc/false/ld/false/sdz/false/ctl/false\" width=\"607px\" height=\"403px\" style=\"border:0px;\"> </iframe>"
   ]
  },
  {
   "cell_type": "markdown",
   "metadata": {},
   "source": [
    "Numbers can be raised to powers other than just 2; you can cube things, raise them to the fourth power, raise them to the 100th power, and so forth. In the same way, you can take the cube root of a number, the fourth root, the 100th root, and so forth. To indicate some root other than a square root, you use the same radical symbol, but you insert a number into the radical, tucking it into the check mark. For example:\n",
    "\n",
    "$$4^3 =64 \\qquad \\sqrt[3]{64} = 4$$\n",
    "\n",
    "The $3$ inside the check mark part is the **index** of the radical. The $64$ is *the argument of the radical*, also called **the radicand**. Since most radicals you see are square roots, the index is notincluded on square roots. \n",
    "\n",
    "Throughout this notebook, we will only deal with the **square root**. The  equation for the square root function is\n",
    "\n",
    "$$y =\\sqrt{x}.$$\n",
    "\n",
    "The figure below displays what the graph of the square root looks like."
   ]
  },
  {
   "cell_type": "code",
   "execution_count": 4,
   "metadata": {
    "tags": [
     "hide-input"
    ]
   },
   "outputs": [
    {
     "data": {
      "image/png": "[encoded data removed]",
      "text/plain": [
       "<Figure size 432x288 with 1 Axes>"
      ]
     },
     "metadata": {
      "needs_background": "light"
     },
     "output_type": "display_data"
    }
   ],
   "source": [
    "x = np.linspace(0,100, 100)\n",
    "y = np.sqrt(x)\n",
    "plt.plot(x,y)\n",
    "plt.title(\"Graph of $y = \\sqrt{x}$\")\n",
    "plt.xlabel(\"$x$\")\n",
    "plt.ylabel(\"$y$\")\n",
    "axes = plt.gca()\n",
    "plt.show()"
   ]
  },
  {
   "cell_type": "markdown",
   "metadata": {},
   "source": [
    "### Compare and order radical expressions with numerical radicands.\n",
    "\n",
    "\n",
    "To compare irrational numbers that are square roots, we can simply examine the number that we are taking the square root of. For example, we know that $\\sqrt{15} < \\sqrt{17}$ because $15$ is less than $17$.\n",
    "\n",
    "The reason for this is that the function \n",
    "\n",
    "$$y =\\sqrt{x}$$\n",
    "\n",
    "is *increasing*. This means that given any two numbers $a$ and $b$, if $a < b$ then $f(a) < f(b)$, in other words, a function is increasing when the output is always bigger than the input.\n",
    "\n",
    "Observe the figure below where the points $5$ and $10$ are highlighted. Because $5<10$, then also $\\sqrt{5} <\\sqrt{10}$.\n",
    "\n",
    "<img src=\"./figures/sqrt_increasing.jpg\" style=\"width: 700px;\"/>\n",
    "\n",
    "This rule holds for any number under the square root!\n",
    "\n",
    "Therefore, it is pretty easy to compare and order numerical radicands. You just look at the number under the square root and decide which one is bigger.\n",
    "\n",
    "\n",
    "Use the activity below to test your understanding."
   ]
  },
  {
   "cell_type": "markdown",
   "metadata": {},
   "source": [
    "Is $\\sqrt{45}$ smaller than $\\sqrt{33}$?"
   ]
  },
  {
   "cell_type": "code",
   "execution_count": 5,
   "metadata": {
    "tags": [
     "hide-input"
    ]
   },
   "outputs": [
    {
     "data": {
      "application/vnd.jupyter.widget-view+json": {
       "model_id": "5363e4886bf84ed798523d2056310305",
       "version_major": 2,
       "version_minor": 0
      },
      "text/plain": [
       "interactive(children=(Dropdown(description='Choose One:', options=(' ', 'Yes', 'No'), value=' '), Output()), _…"
      ]
     },
     "metadata": {},
     "output_type": "display_data"
    }
   ],
   "source": [
    "def rad(val):\n",
    "    if val == \"Yes\":\n",
    "        display(Latex(\"No! $45>33$, therefore $\\sqrt{45}>\\sqrt{33}$.\"))\n",
    "        #display(Latex(\"This equation has no exponent on either variable, and is therefore linear.\"))\n",
    "    elif val == \"No\":\n",
    "        display(Latex(\"Correct!\"))\n",
    "\n",
    "#display(Latex(\"Is $\\sqrt{45}$ smaller than $\\sqrt{33}$?\"))\n",
    "\n",
    "    \n",
    "interact(rad, val = widgets.Dropdown(options=[' ','Yes', 'No'],value = ' ',description = 'Choose One:',disabled = False));"
   ]
  },
  {
   "cell_type": "markdown",
   "metadata": {},
   "source": [
    "However, if you're trying to compare a radical expression to a decimal number things may get little bit more tricky.\n",
    "\n",
    "For example, let's say you have to decide which number, between $\\sqrt{29}$ and $5.1$ is bigger.\n",
    "\n",
    "Well we know that \n",
    "\n",
    "$$\\sqrt{29}>\\sqrt{25} = 5,$$ \n",
    "\n",
    "and\n",
    "\n",
    "$$\\sqrt{29}<\\sqrt{36} = 6,$$\n",
    "\n",
    "Because $29$ is almost halfway between $25$ and $36$ we can estimate that $\\sqrt{29}$ would be closer to $5.5$ than to $5.1$. Therefore, we can conclude that\n",
    "\n",
    "$$\\sqrt{29} > 5.1.$$\n",
    "\n",
    "Say now we want to compare $\\sqrt{27}$ and $5.1$. This time, $\\sqrt{27}$ is much closer to $\\sqrt{25}$ and $\\sqrt{36}$ so it is more complicated to decide which number is bigger.\n",
    "\n",
    "The safest way to make a decision, in this case, is by squaring $5.1$ and see if it is bigger that $27$ or not.\n",
    "\n",
    "$$5.1^2 = 5.1 \\cdot5.1 = 26.01$$\n",
    "\n",
    "Therefore, $\\sqrt{26.01} = 5.1$. Now, since $\\sqrt{27} > \\sqrt{26.01}$, we conclude that \n",
    "\n",
    "\n",
    "$$\\sqrt{27}> 5.1$$"
   ]
  },
  {
   "cell_type": "markdown",
   "metadata": {},
   "source": [
    "### Properties of Radicands\n",
    "\n",
    "Before explaining how to simplify radical expressions, we need to learn about some of their properties.\n",
    "\n",
    "**Product of Radicands**\n",
    "\n",
    "This property lets you take a square root of a product of numbers and break up the radical into the product of separate square roots. \n",
    "\n",
    "$$\\left(\\sqrt{ab}\\right)^2 = ab = a \\cdot b = \\left(\\sqrt{a}\\right)^2  \\left(\\sqrt{b}\\right)^2 =  \\left(\\sqrt{a}  \\sqrt{b}\\right)^2$$\n",
    "\n",
    "\n",
    "So we have\n",
    "\n",
    "$$\\sqrt{ab}  = \\sqrt{a}\\sqrt{b}$$\n",
    "\n",
    "Note that this property is valid for all $a,b \\geq 0$\n",
    "\n",
    "Another way to think about this property is that **the root of the product is the product of the roots**.\n",
    "\n",
    "**Quotient of Radicands**\n",
    "\n",
    "This property lets you take a square root of the quotient of numbers and break up the radical into the quotient of separate square roots. \n",
    "\n",
    "$$\\left(\\sqrt{\\frac{a}{b}}\\right)^2 =\\frac{a}{b} =  \\frac{\\left(\\sqrt{a}\\right)^2}{  \\left(\\sqrt{b}\\right)^2 } =\\left(\\frac{\\sqrt{a} }{ \\sqrt{b}}\\right)^2$$\n",
    "\n",
    "So we have\n",
    "\n",
    "$$\\sqrt{\\frac{a}{b}} = \\frac{\\sqrt{a}}{\\sqrt{b}}$$\n",
    "\n",
    "This property is valid for all $a \\geq 0$ and for $b>0$.\n",
    "\n",
    "Another way to think about this property is that **the root of a quotient is the quotient of the roots**.\n",
    "\n",
    "\n",
    "*Remark*\n",
    "\n",
    "Also note that while we can break up products and quotients under a radical we can’t do the same thing for sums or differences.  In other words,\n",
    "\n",
    "$$\\sqrt{a + b} \\neq \\sqrt{a} + \\sqrt{b} \\qquad \\sqrt{a - b} \\neq \\sqrt{a} - \\sqrt{b}$$\n"
   ]
  },
  {
   "cell_type": "markdown",
   "metadata": {},
   "source": [
    "### Simplify square root terms\n",
    "\n",
    "\n",
    "We already learned that taking the quare root of a number is the opposite operation than raising to the power of two.\n",
    "The following table summarizes these results for the first $10$ positive integers.\n",
    "\n",
    "|[]()|[]()|[]()|[]()|[]()|\n",
    "|--------------|--------|-------|--------|---------|\n",
    "| $\\sqrt{1}$   | = $1$  | since | $1^2$  | = $1$   |\n",
    "| $\\sqrt{4}$   | = $2$  | since | $2^2$  | = $4$   |\n",
    "| $\\sqrt{9}$   | = $3$  | since | $3^2$  | = $9$   |\n",
    "| $\\sqrt{16}$  | = $4$  | since | $4^2$  | = $16$  |\n",
    "| $\\sqrt{25}$  | = $5$  | since | $5^2$  | = $25$  |\n",
    "| $\\sqrt{36}$  | = $6$  | since | $6^2$  | = $36$  |\n",
    "| $\\sqrt{49}$  | = $7$  | since | $7^2$  | = $49$  |\n",
    "| $\\sqrt{64}$  | = $8$  | since | $8^2$  | = $64$  |\n",
    "| $\\sqrt{81}$  | = $9$  | since | $9^2$  | = $81$  |\n",
    "| $\\sqrt{100}$ | = $10$ | since | $10^2$ | = $100$ |\n",
    "      \n",
    "      \n",
    "The numbers $1,4,9,16 \\dots$ are called **perfect squares** and we will use them to simplify square root terms.\n",
    "\n",
    "To simplify a term containing a square root, we factor out anything that is a *perfect square*; that is, we factor inside the radical symbol and then we take out in front of that symbol anything that has two copies of the same factor. \n",
    "\n",
    "This rules still apply when we try to simplify a number under the square root that is not a perfect square.\n",
    "\n",
    "Consider for instance $\\sqrt{75}$. First of all, we need to factor $75$ in prime factors.\n",
    "\n",
    "$$\\sqrt{75} = \\sqrt{3 \\cdot 5 \\cdot 5}.$$\n",
    "\n",
    "Next, we look for any factor that has two copies\n",
    "\n",
    "$$\\sqrt{75} = \\sqrt{3 \\cdot 5 \\cdot 5}=  \\sqrt{5^2 \\cdot 3}.$$ \n",
    "\n",
    "Finally, we take those factors out of the square root symbol using the property for product of radicands that we learned above.\n",
    "\n",
    "$$\\sqrt{75} = \\sqrt{3 \\cdot 3 \\cdot 5}=  \\sqrt{5^2 \\cdot 3} = \\sqrt{5^2}\\sqrt{3} =5\\sqrt{3}.$$\n",
    "\n",
    "This factorization gives me two copies of the factor $5$, but only one copy of the factor $3$. Since I have two copies of $5$, I can take $5$ out front. Since I have only the one copy of 3, we have to leave it under the square root.\n",
    "\n",
    "In this last case, we say that **expressed an entire radical with a numerical radicand as a mixed radical**.\n",
    "\n",
    "\n",
    "Consider now $\\sqrt{72}$. It can be decomposed as\n",
    "\n",
    "$$\\sqrt{72} = \\sqrt{3 \\cdot 3 \\cdot 2 \\cdot 2 \\cdot 2} = \\sqrt{3^2 \\cdot 2^2 \\cdot 2}$$\n",
    "\n",
    "Because the last $2$ under the square root does not come as a pair of factor, we have to leave it under the square root.\n",
    "\n",
    "Therefore we have\n",
    "\n",
    "$$\\sqrt{72} = \\sqrt{3 \\cdot 3 \\cdot 2 \\cdot 2 \\cdot 2} = \\sqrt{3^2 \\cdot 2^2 \\cdot 2} = 3\\cdot 2\\sqrt{2} = 6\\sqrt{2}.$$\n",
    "\n",
    "\n",
    "As another example consider $\\sqrt{720}$\n",
    "\n",
    "$$\\sqrt{720}= \\sqrt{3 \\cdot 3  \\cdot 2  \\cdot  2 \\cdot 2 \\cdot 2 \\cdot 5} = \\sqrt{3^2 \\cdot 2^2 \\cdot 2^2 \\cdot 5} = 3\\cdot2\\cdot2\\sqrt{5} = 12 \\sqrt{5}.$$\n",
    "\n",
    "Use the following activity to test your understanding."
   ]
  },
  {
   "cell_type": "code",
   "execution_count": 6,
   "metadata": {
    "tags": [
     "hide-input"
    ]
   },
   "outputs": [
    {
     "data": {
      "text/html": [
       "<iframe scrolling=\"no\" title=\"MixedRadicals\" src=\"https://www.geogebra.org/material/iframe/id/g3gyde4q/width/801/height/411/border/888888/sfsb/true/smb/false/stb/false/stbh/false/ai/false/asb/false/sri/false/rc/false/ld/false/sdz/false/ctl/false\" width=\"801px\" height=\"411px\" style=\"border:0px;\"> </iframe>\n"
      ],
      "text/plain": [
       "<IPython.core.display.HTML object>"
      ]
     },
     "metadata": {},
     "output_type": "display_data"
    }
   ],
   "source": [
    "%%html\n",
    "<iframe scrolling=\"no\" title=\"MixedRadicals\" src=\"https://www.geogebra.org/material/iframe/id/g3gyde4q/width/801/height/411/border/888888/sfsb/true/smb/false/stb/false/stbh/false/ai/false/asb/false/sri/false/rc/false/ld/false/sdz/false/ctl/false\" width=\"801px\" height=\"411px\" style=\"border:0px;\"> </iframe>"
   ]
  },
  {
   "cell_type": "markdown",
   "metadata": {},
   "source": [
    "\n",
    "### Express a mixed radical with a numerical radicand as an entire radical\n",
    "\n",
    "In the next section, we will learn how to express a mixed radical as an entire radical.\n",
    "\n",
    "Keeping in mind that any number can be written as the square root of its square, you can use this strategy to write a mixed radical as an entire radical by writing the leading number as a radical, then multiplying the radicands.\n",
    "\n",
    "**Example 1**\n",
    "\n",
    "Express $3\\sqrt{2}$ as an entire radical. \n",
    "\n",
    "We know that the index of $3\\sqrt{2}$ is $2$ so we can write\n",
    "\n",
    "$$3\\sqrt{2} = \\sqrt{3^2}\\sqrt{2} = \\sqrt{9}\\sqrt{2} = \\sqrt{9\\cdot 2}=\\sqrt{18}.$$\n",
    "\n",
    "\n",
    "**Example 2**\n",
    "\n",
    "Express $5\\sqrt{7}$ as an entire radical. \n",
    "\n",
    "We know that the index of $5\\sqrt{7}$ is again $2$ so we can write\n",
    "\n",
    "$$5\\sqrt{7} = \\sqrt{5^2}\\sqrt{7} = \\sqrt{25}\\sqrt{7} = \\sqrt{25\\cdot 7} = \\sqrt{175}.$$\n",
    "\n",
    "\n",
    "Test you knowledge with the following activities."
   ]
  },
  {
   "cell_type": "markdown",
   "metadata": {},
   "source": [
    "Is $2\\sqrt{4}$ greater than $4\\sqrt{2}$?"
   ]
  },
  {
   "cell_type": "code",
   "execution_count": 7,
   "metadata": {
    "tags": [
     "hide-input"
    ]
   },
   "outputs": [
    {
     "data": {
      "application/vnd.jupyter.widget-view+json": {
       "model_id": "779870b5b01e482ab5513fe84731786f",
       "version_major": 2,
       "version_minor": 0
      },
      "text/plain": [
       "interactive(children=(Dropdown(description='Choose One:', options=(' ', 'Yes', 'No'), value=' '), Output()), _…"
      ]
     },
     "metadata": {},
     "output_type": "display_data"
    }
   ],
   "source": [
    "def rad(val):\n",
    "    if val == \"Yes\":\n",
    "         display(Latex(\"Try again!\"))\n",
    "    elif val == \"No\":\n",
    "        display(Latex(\"Correct!\"))       \n",
    "        display(Latex(\"$4\\sqrt{2} = \\sqrt{4^2}\\sqrt{2} = \\sqrt{16}\\sqrt{2} = \\sqrt{32}.$\"))\n",
    "        display(Latex(\"$2\\sqrt{4} = \\sqrt{2^2}\\sqrt{4} = \\sqrt{4}\\sqrt{4} = \\sqrt{16}.$\"))\n",
    "\n",
    "#display(Latex(\"Is $2\\sqrt{4}$ greater than $4\\sqrt{2}$?\"))\n",
    "\n",
    "    \n",
    "interact(rad, val = widgets.Dropdown(options=[ ' ', 'Yes', 'No'],value = ' ',description = 'Choose One:',disabled = False));"
   ]
  },
  {
   "cell_type": "markdown",
   "metadata": {},
   "source": [
    "Express $6\\sqrt{2}$ as an entire radical"
   ]
  },
  {
   "cell_type": "code",
   "execution_count": 8,
   "metadata": {
    "tags": [
     "hide-input"
    ]
   },
   "outputs": [
    {
     "data": {
      "application/vnd.jupyter.widget-view+json": {
       "model_id": "a402e9238848460ca1f34f8a673223e1",
       "version_major": 2,
       "version_minor": 0
      },
      "text/plain": [
       "Text(value='', description='$\\\\sqrt{}$', placeholder='Your answer')"
      ]
     },
     "metadata": {},
     "output_type": "display_data"
    },
    {
     "data": {
      "application/vnd.jupyter.widget-view+json": {
       "model_id": "276493c53abe489d9a90002679aa090d",
       "version_major": 2,
       "version_minor": 0
      },
      "text/plain": [
       "Button(button_style='info', description='Enter', layout=Layout(height='30px', width='15%'), style=ButtonStyle(…"
      ]
     },
     "metadata": {},
     "output_type": "display_data"
    }
   ],
   "source": [
    "#display(Latex(\"Express $6\\sqrt{2}$ as an entire radical\"))\n",
    "#display(Latex(\"Write your answer as sqrt(your answer)\"))\n",
    "\n",
    "\n",
    "\n",
    "attempts_1 = 0\n",
    "exercise_1 = w.Text( placeholder='Your answer', description='$\\sqrt{}$', disabled=False )\n",
    "display(exercise_1)\n",
    "\n",
    "button_exercise_1 = w.Button(button_style='info',description=\"Enter\", layout=Layout(width='15%', height='30px') )\n",
    "button_exercise_1.on_click(rerun_cell)\n",
    "display(button_exercise_1)"
   ]
  },
  {
   "cell_type": "code",
   "execution_count": 9,
   "metadata": {
    "tags": [
     "hide-input"
    ]
   },
   "outputs": [],
   "source": [
    "# Exercise 1 user answer handling\n",
    "\n",
    "user_answer = exercise_1.value\n",
    "expected_answer =  '72'\n",
    "\n",
    "\n",
    "if attempts_1 == 0:\n",
    "    attempts_1 += 1\n",
    "else:\n",
    "    # Close the option to keep attempting the answer \n",
    "    if(attempts_1 >= 4):\n",
    "        \n",
    "        exercise_1.disabled = True\n",
    "        button_exercise_1.disabled = True\n",
    "        \n",
    "    \n",
    "        display(Markdown(\"#### The aswer is $6\\sqrt{2} = \\sqrt{36}\\sqrt{2} = \\sqrt{72}$\"))\n",
    "\n",
    "        \n",
    "    # If answer is correct, display appropriate markdown cells\n",
    "    \n",
    "    if(user_answer == expected_answer):\n",
    "        \n",
    "        display(Markdown(\"#### Your answer is correct.\"))\n",
    "        \n",
    "        exercise_1.disabled = True\n",
    "        button_exercise_1.disabled = True\n",
    "        \n",
    "    else:\n",
    "        \n",
    "        attempts_1 += 1\n",
    "        \n",
    "        if(attempts_1 <= 4):\n",
    "            display(Markdown(\"# Please try again.\"))"
   ]
  },
  {
   "cell_type": "markdown",
   "metadata": {},
   "source": [
    "### Perform one or more operations to simplify radical expressions with numerical or variable radicands\n",
    "\n",
    "When square roots include variables, they are still simplified the same way. We just have to work with variables as well as numbers.\n",
    "\n",
    "We follow again these basic steps:\n",
    "\n",
    "1)\tFactor the radicand (the numbers/variables inside the square root). Factor the number into its prime factors and expand the variable(s).\n",
    "\n",
    "2)\tBring any factor listed twice in the radicand to the outside.\n",
    "\n",
    "\n",
    "Consider for example \n",
    "\n",
    "$$\\sqrt{9x^2y} = \\sqrt{(3 \\cdot 3)\\cdot (x \\cdot x) \\cdot y} = \\sqrt{3^2 \\cdot x^2 \\cdot y} = \\sqrt{3^2}\\sqrt{x^2}\\sqrt{y} = 3x\\sqrt{y}.$$\n",
    "\n",
    "Since there was a pair of $3$'s and a pair of $x$'s, we brought the $3$ and the $x$ outside, but the $y$ stayed inside since it was not a pair.\n",
    "\n",
    "As another example consider $\\sqrt{7a^5}$\n",
    "\n",
    "$$\\sqrt{7a^5} = \\sqrt{7\\cdot ({a}\\cdot a)\\cdot (a\\cdot a) \\cdot a} = \\sqrt{7 \\cdot a^2 \\cdot a^2 \\cdot a} = \\sqrt{7} \\cdot \\sqrt{a^2} \\cdot \\sqrt{a^2} \\cdot \\sqrt{a} = a \\cdot a \\sqrt{7}\\sqrt{a} = a^2\\sqrt{7a}.$$\n",
    "\n",
    "Notice that there were two pairs of $a$'s, so we were able to bring two to the outside. The last $a$, however, was not part of a pair and thus stayed inside.\n",
    "\n",
    "Test you understanding with the following activity."
   ]
  },
  {
   "cell_type": "markdown",
   "metadata": {},
   "source": [
    "Express $\\sqrt{12a^2c}$ as a mixed radicand."
   ]
  },
  {
   "cell_type": "code",
   "execution_count": 10,
   "metadata": {
    "tags": [
     "hide-input"
    ]
   },
   "outputs": [
    {
     "data": {
      "application/vnd.jupyter.widget-view+json": {
       "model_id": "9173893708414b72a052b1a668b70c73",
       "version_major": 2,
       "version_minor": 0
      },
      "text/plain": [
       "Text(value='', placeholder='Factors outside the square root')"
      ]
     },
     "metadata": {},
     "output_type": "display_data"
    },
    {
     "data": {
      "application/vnd.jupyter.widget-view+json": {
       "model_id": "b258252ff2b846babdd04054f49f4a8e",
       "version_major": 2,
       "version_minor": 0
      },
      "text/plain": [
       "Button(button_style='info', description='Enter', layout=Layout(height='30px', width='10%'), style=ButtonStyle(…"
      ]
     },
     "metadata": {},
     "output_type": "display_data"
    }
   ],
   "source": [
    "#display(Latex(\"Express $\\sqrt{12a^2c}$ as a mixed radicand\"))\n",
    "#display(Latex(\"Write your answer as (factors outside of the square root)sqrt(factors inside of the square root) \"))\n",
    "\n",
    "\n",
    "attempts_2 = 0\n",
    "exercise_2 = w.Text( placeholder='Factors outside the square root', description='', disabled=False ) \n",
    "display(exercise_2)\n",
    "\n",
    "button_exercise_2 = w.Button(button_style='info',description=\"Enter\", layout=Layout(width='10%', height='30px') )\n",
    "button_exercise_2.on_click(rerun_cell)\n",
    "display(button_exercise_2)\n",
    "\n",
    "\n"
   ]
  },
  {
   "cell_type": "code",
   "execution_count": 11,
   "metadata": {
    "tags": [
     "hide-input"
    ]
   },
   "outputs": [],
   "source": [
    "# Exercise 2 user answer handling\n",
    "\n",
    "user_answer = exercise_2.value\n",
    "expected_answer =  '2a'\n",
    "\n",
    "\n",
    "\n",
    "\n",
    "if attempts_2 == 0:\n",
    "    attempts_2 += 1\n",
    "else:\n",
    "    # Close the option to keep attempting the answer \n",
    "    if(attempts_2 >= 4):\n",
    "        \n",
    "        exercise_2.disabled = True\n",
    "        button_exercise_2.disabled = True\n",
    "        \n",
    "    \n",
    "        display(Latex(\"The answer is $2a$ because $\\sqrt{12a^2c}$ factors as  $\\sqrt{2\\cdot2\\cdot 3\\cdot a \\cdot a \\cdot c}$\"))\n",
    "\n",
    "        \n",
    "    # If answer is correct, display appropriate markdown cells\n",
    "    \n",
    "    if(user_answer == expected_answer):\n",
    "        \n",
    "        display(Markdown(\"#### Your answer is correct.\"))\n",
    "        \n",
    "        exercise_2.disabled = True\n",
    "        button_exercise_2.disabled = True\n",
    "        \n",
    "    else:\n",
    "        \n",
    "        attempts_2 += 1\n",
    "        \n",
    "        if(attempts_2 <= 4):\n",
    "            display(Markdown(\"# Please try again.\"))"
   ]
  },
  {
   "cell_type": "code",
   "execution_count": 12,
   "metadata": {
    "tags": [
     "hide-input"
    ]
   },
   "outputs": [
    {
     "data": {
      "application/vnd.jupyter.widget-view+json": {
       "model_id": "a87e03707a224cce8073da16f82495f1",
       "version_major": 2,
       "version_minor": 0
      },
      "text/plain": [
       "Text(value='', description='$\\\\sqrt{}$', placeholder='Factors inside the square root')"
      ]
     },
     "metadata": {},
     "output_type": "display_data"
    },
    {
     "data": {
      "application/vnd.jupyter.widget-view+json": {
       "model_id": "a4c7bfaf1fd5447a947c501461151e8a",
       "version_major": 2,
       "version_minor": 0
      },
      "text/plain": [
       "Button(button_style='info', description='Enter', layout=Layout(height='30px', width='10%'), style=ButtonStyle(…"
      ]
     },
     "metadata": {},
     "output_type": "display_data"
    }
   ],
   "source": [
    "attempts_3 = 0\n",
    "\n",
    "exercise_3 = w.Text( placeholder='Factors inside the square root', description='$\\sqrt{}$', disabled=False )\n",
    "display(exercise_3)\n",
    "\n",
    "button_exercise_3 = w.Button(button_style='info',description=\"Enter\", layout=Layout(width='10%', height='30px') )\n",
    "button_exercise_3.on_click(rerun_cell)\n",
    "display(button_exercise_3)"
   ]
  },
  {
   "cell_type": "code",
   "execution_count": 13,
   "metadata": {
    "tags": [
     "hide-input"
    ]
   },
   "outputs": [],
   "source": [
    "# Exercise 3 user answer handling\n",
    "\n",
    "user_answer = exercise_3.value\n",
    "expected_answer =  '3c'\n",
    "\n",
    "\n",
    "\n",
    "\n",
    "if attempts_3 == 0:\n",
    "    attempts_3 += 1\n",
    "else:\n",
    "    # Close the option to keep attempting the answer \n",
    "    if(attempts_3 >= 4):\n",
    "        \n",
    "        exercise_3.disabled = True\n",
    "        button_exercise_3.disabled = True\n",
    "        \n",
    "    \n",
    "        display(Latex(\"The answer is $2a$ because $\\sqrt{12a^2c}$ factors as  $\\sqrt{2\\cdot2\\cdot 3\\cdot a \\cdot a \\cdot c}$\"))\n",
    "\n",
    "        \n",
    "    # If answer is correct, display appropriate markdown cells\n",
    "    \n",
    "    if(user_answer == expected_answer):\n",
    "        \n",
    "        display(Markdown(\"#### Your answer is correct.\"))\n",
    "        \n",
    "        exercise_3.disabled = True\n",
    "        button_exercise_3.disabled = True\n",
    "        \n",
    "    else:\n",
    "\n",
    "        attempts_3 += 1\n",
    "        \n",
    "        if(attempts_3 <= 4):\n",
    "            display(Markdown(\"# Please try again.\"))"
   ]
  },
  {
   "cell_type": "markdown",
   "metadata": {},
   "source": [
    "### Rationalize the monomial denominator of a radical expression\n",
    "\n",
    "\n",
    "\n",
    "The result of taking the square root of a number that is not a perfect square, for example $\\sqrt{5}$,   is  an irrational number. In the case we are working with fraction, if the irrational number appears in the denominator, we usually want to *rationalize* it by getting rid of all radicals that are in the denominator.\n",
    "\n",
    "\n",
    "\n",
    "For example, assume we want to rationalize the following fraction\n",
    "\n",
    "$$\\frac{4}{\\sqrt{6}}$$\n",
    "\n",
    "**Step 1**\n",
    "*Multiply numerator and denominator by a radical that will get rid of the radical in the denominator*.\n",
    "\n",
    "Since we have a square root in the denominator, then we need to multiply by the square root of an expression that will give us a perfect square under the radical in the denominator.\n",
    "\n",
    "$$\\frac{4}{\\sqrt{6}}\\cdot \\frac{\\sqrt{6}}{\\sqrt{6}} = \\frac{4\\sqrt{6}}{\\sqrt{36}}$$\n",
    "\n",
    "Notice that the denominator now has a perfect square under the square root.\n",
    "\n",
    "**Step 2**\n",
    "*Simplify the radicals.*\n",
    "\n",
    "Here we notice that the square root of $36$ is $6$\n",
    "\n",
    "$$\\frac{4\\sqrt{6}}{\\sqrt{36}} = \\frac{4\\sqrt{6}}{6}$$\n",
    "\n",
    "**Step 3** *Simplify the fraction.*\n",
    "\n",
    "Divide numerator and denominator by the common factor of $2$.\n",
    "\n",
    "$$ \\frac{4\\sqrt{6}}{6} = \\frac{2\\sqrt{6}}{3}$$\n",
    "\n",
    "\n",
    "An another example consider\n",
    "\n",
    "$$\\frac{32}{\\sqrt{8}}$$\n",
    "\n",
    "**Step 1**\n",
    "\n",
    "First of all, we want to multiply by the square root of an expression that will give us a perfect square under the radical in the denominator.\n",
    "\n",
    "$$\\frac{32}{\\sqrt{8}}\\cdot \\frac{\\sqrt{8}}{\\sqrt{8}} = \\frac{32\\sqrt{8}}{\\sqrt{64}}$$\n",
    "\n",
    "\n",
    "**Step 2**\n",
    "\n",
    "Next, we notice that the square root of $64$ is $8$\n",
    "\n",
    "$$\\frac{32\\sqrt{8}}{\\sqrt{64}} = \\frac{32\\sqrt{8}}{8}$$\n",
    "\n",
    "**Step 3**\n",
    "\n",
    "Finally, we simplify the fraction\n",
    "\n",
    "$$ \\frac{32\\sqrt{8}}{8} = 4\\sqrt{8}.$$\n",
    "\n",
    "The reason why we choose to rationalize a radical expression is because they are easier to understand. For example, consider $\\frac{7}{\\sqrt{8}}$. We learned that\n",
    "\n",
    "$$\\frac{7}{\\sqrt{8}} = \\frac{7\\sqrt{8}}{8}.$$\n",
    "\n",
    "If you think about it, it is easier to divide a number by a whole number: dividing $7\\sqrt{8}$ by $8$ is simpler that dividing $7$ by $\\sqrt{8}$!\n",
    "\n",
    "However, it is very important that you remember that the value of radical expression before and after rationalizing **does not change!**\n",
    "\n",
    "Test your understanding using the activity below."
   ]
  },
  {
   "cell_type": "markdown",
   "metadata": {},
   "source": [
    "Rationalize and simplify $\\frac{13}{\\sqrt{7}}$."
   ]
  },
  {
   "cell_type": "code",
   "execution_count": 14,
   "metadata": {
    "tags": [
     "hide-input"
    ]
   },
   "outputs": [
    {
     "data": {
      "application/vnd.jupyter.widget-view+json": {
       "model_id": "8cabe3fcc68848d0927cf2bc4d75280f",
       "version_major": 2,
       "version_minor": 0
      },
      "text/plain": [
       "Text(value='', placeholder='Factors at the nominator outside the square root')"
      ]
     },
     "metadata": {},
     "output_type": "display_data"
    },
    {
     "data": {
      "application/vnd.jupyter.widget-view+json": {
       "model_id": "48806a0665814dd086fbd2ed27cce350",
       "version_major": 2,
       "version_minor": 0
      },
      "text/plain": [
       "Button(button_style='info', description='Enter', layout=Layout(height='30px', width='20%'), style=ButtonStyle(…"
      ]
     },
     "metadata": {},
     "output_type": "display_data"
    }
   ],
   "source": [
    "#display(Latex(\"Rationalize and simplify $\\\\frac{13}{\\sqrt{7}}$\"))\n",
    "#display(Latex(\"Write your answer as (factor)sqrt(factor)/factor \"))\n",
    "\n",
    "\n",
    "attempts_4 = 0\n",
    "exercise_4 = w.Text( placeholder='Factors at the nominator outside the square root', description='', disabled=False )\n",
    "display(exercise_4)\n",
    "\n",
    "button_exercise_4 = w.Button(button_style='info',description=\"Enter\", layout=Layout(width='20%', height='30px') )\n",
    "button_exercise_4.on_click(rerun_cell)\n",
    "display(button_exercise_4)"
   ]
  },
  {
   "cell_type": "code",
   "execution_count": 15,
   "metadata": {
    "tags": [
     "hide-input"
    ]
   },
   "outputs": [],
   "source": [
    "# Exercise 1 user answer handling\n",
    "\n",
    "user_answer = exercise_4.value\n",
    "expected_answer =  '13'\n",
    "\n",
    "if attempts_4 == 0:\n",
    "    attempts_4 += 1\n",
    "else:\n",
    "    # Close the option to keep attempting the answer \n",
    "    if(attempts_4 >= 4):\n",
    "        \n",
    "        exercise_4.disabled = True\n",
    "        button_exercise_4.disabled = True\n",
    "        \n",
    "    \n",
    "        display(Markdown(\"#### The aswer is $13$\"))\n",
    "\n",
    "        \n",
    "    # If answer is correct, display appropriate markdown cells\n",
    "    \n",
    "    if(user_answer == expected_answer):\n",
    "        \n",
    "        display(Markdown(\"#### Your answer is correct.\"))\n",
    "        \n",
    "        exercise_4.disabled = True\n",
    "        button_exercise_4.disabled = True\n",
    "        \n",
    "    else:\n",
    "        \n",
    "        attempts_4 += 1\n",
    "        \n",
    "        if(attempts_4 <= 4):\n",
    "            display(Markdown(\"# Please try again.\"))"
   ]
  },
  {
   "cell_type": "code",
   "execution_count": 16,
   "metadata": {
    "tags": [
     "hide-input"
    ]
   },
   "outputs": [
    {
     "data": {
      "application/vnd.jupyter.widget-view+json": {
       "model_id": "92b172f3aeb842f989631022765b27fb",
       "version_major": 2,
       "version_minor": 0
      },
      "text/plain": [
       "Text(value='', description='$\\\\sqrt{}$', placeholder='Factors at the nominator inside the square root')"
      ]
     },
     "metadata": {},
     "output_type": "display_data"
    },
    {
     "data": {
      "application/vnd.jupyter.widget-view+json": {
       "model_id": "55e2b6ddd7934cd091b5dd2ca17a98ca",
       "version_major": 2,
       "version_minor": 0
      },
      "text/plain": [
       "Button(button_style='info', description='Enter', layout=Layout(height='30px', width='20%'), style=ButtonStyle(…"
      ]
     },
     "metadata": {},
     "output_type": "display_data"
    }
   ],
   "source": [
    "attempts_5 = 0\n",
    "exercise_5 = w.Text( placeholder='Factors at the nominator inside the square root', description='$\\sqrt{}$', disabled=False )\n",
    "display(exercise_5)\n",
    "\n",
    "button_exercise_5 = w.Button(button_style='info',description=\"Enter\", layout=Layout(width='20%', height='30px') )\n",
    "button_exercise_5.on_click(rerun_cell)\n",
    "display(button_exercise_5)"
   ]
  },
  {
   "cell_type": "code",
   "execution_count": 17,
   "metadata": {
    "tags": [
     "hide-input"
    ]
   },
   "outputs": [],
   "source": [
    "# Exercise 1 user answer handling\n",
    "\n",
    "user_answer = exercise_5.value\n",
    "expected_answer =  '7'\n",
    "\n",
    "if attempts_5 == 0:\n",
    "    attempts_5 += 1\n",
    "else:\n",
    "    # Close the option to keep attempting the answer \n",
    "    if(attempts_5 >= 4):\n",
    "        \n",
    "        exercise_5.disabled = True\n",
    "        button_exercise_5.disabled = True\n",
    "        \n",
    "    \n",
    "        display(Markdown(\"#### The aswer is $7$\"))\n",
    "\n",
    "        \n",
    "    # If answer is correct, display appropriate markdown cells\n",
    "    \n",
    "    if(user_answer == expected_answer):\n",
    "        \n",
    "        display(Markdown(\"#### Your answer is correct.\"))\n",
    "        \n",
    "        exercise_5.disabled = True\n",
    "        button_exercise_5.disabled = True\n",
    "        \n",
    "    else:\n",
    "        \n",
    "        attempts_5 += 1\n",
    "        \n",
    "        if(attempts_5 <= 4):\n",
    "            display(Markdown(\"# Please try again.\"))"
   ]
  },
  {
   "cell_type": "code",
   "execution_count": 18,
   "metadata": {
    "tags": [
     "hide-input"
    ]
   },
   "outputs": [
    {
     "data": {
      "application/vnd.jupyter.widget-view+json": {
       "model_id": "5bdc255ce3ed4cee90d22496d9b59255",
       "version_major": 2,
       "version_minor": 0
      },
      "text/plain": [
       "Text(value='', placeholder='Denominator')"
      ]
     },
     "metadata": {},
     "output_type": "display_data"
    },
    {
     "data": {
      "application/vnd.jupyter.widget-view+json": {
       "model_id": "25ea3f4ac0fe48b2969661b02b735884",
       "version_major": 2,
       "version_minor": 0
      },
      "text/plain": [
       "Button(button_style='info', description='Enter', layout=Layout(height='30px', width='15%'), style=ButtonStyle(…"
      ]
     },
     "metadata": {},
     "output_type": "display_data"
    }
   ],
   "source": [
    "attempts_6 = 0\n",
    "exercise_6 = w.Text( placeholder='Denominator', description='', disabled=False )\n",
    "display(exercise_6)\n",
    "\n",
    "button_exercise_6 = w.Button(button_style='info',description=\"Enter\", layout=Layout(width='15%', height='30px') )\n",
    "button_exercise_6.on_click(rerun_cell)\n",
    "display(button_exercise_6)"
   ]
  },
  {
   "cell_type": "code",
   "execution_count": 19,
   "metadata": {
    "tags": [
     "hide-input"
    ]
   },
   "outputs": [],
   "source": [
    "# Exercise 6 user answer handling\n",
    "\n",
    "user_answer = exercise_6.value\n",
    "expected_answer =  '7'\n",
    "\n",
    "if attempts_6 == 0:\n",
    "    attempts_6 += 1\n",
    "else:\n",
    "    # Close the option to keep attempting the answer \n",
    "    if(attempts_6 >= 4):\n",
    "        \n",
    "        exercise_6.disabled = True\n",
    "        button_exercise_6.disabled = True\n",
    "        \n",
    "    \n",
    "        display(Markdown(\"#### The aswer is $7$\"))\n",
    "\n",
    "        \n",
    "    # If answer is correct, display appropriate markdown cells\n",
    "    \n",
    "    if(user_answer == expected_answer):\n",
    "        \n",
    "        display(Markdown(\"#### Your answer is correct.\"))\n",
    "        \n",
    "        exercise_6.disabled = True\n",
    "        button_exercise_6.disabled = True\n",
    "        \n",
    "    else:\n",
    "        \n",
    "        attempts_6 += 1\n",
    "        \n",
    "        if(attempts_6 <= 4):\n",
    "            display(Markdown(\"# Please try again.\"))"
   ]
  },
  {
   "cell_type": "markdown",
   "metadata": {},
   "source": [
    "### Identify values of the variable for which the radical expression is defined\n",
    "\n",
    "We cannot have a negative inside number a square root. This can be better understood by looking at the graph of the square root we've seen at the beginning of this notebook.\n",
    "\n",
    "You see that the function only branches from the origin to the positive side of the $x$ axis. This means that the square root is not defined (in other words, 'cannot handle') values of $x$ that are negative.\n",
    "\n",
    "\n",
    "In particular, consider taking the square root of $-4$. You quickly realize that this is not possible as there is no **real number that squares to $-4$**.\n",
    "\n",
    "$$\\sqrt{-4} \\neq -2, $$\n",
    " as we can verify by squaring\n",
    " \n",
    " $$(-2)^2 = + 4 \\neq -4.$$\n",
    "\n",
    "We must have a **positive value** inside the square root. This fact can be important for defining and graphing functions. \n",
    "\n",
    "The exception is for *imaginary* (also called *complex*) numbers. \n",
    "\n",
    "\n",
    "\n",
    "Another way to see why the square root cannot take negative values is to consider a square with side length $l$. We know that the area $A$ of the square is given by\n",
    "\n",
    "$$A = l \\times l= l^2.$$\n",
    "\n",
    "Therefore\n",
    "\n",
    "$$l = \\sqrt{A}.$$"
   ]
  },
  {
   "cell_type": "code",
   "execution_count": 20,
   "metadata": {
    "tags": [
     "hide-input"
    ]
   },
   "outputs": [
    {
     "data": {
      "text/html": [
       "<iframe scrolling=\"no\" title=\"SquareArea\" src=\"https://www.geogebra.org/material/iframe/id/bcukxbwx/width/611/height/470/border/888888/sfsb/true/smb/false/stb/false/stbh/false/ai/false/asb/false/sri/false/rc/false/ld/false/sdz/false/ctl/false\" width=\"611px\" height=\"470px\" style=\"border:0px;\"> </iframe>\n"
      ],
      "text/plain": [
       "<IPython.core.display.HTML object>"
      ]
     },
     "metadata": {},
     "output_type": "display_data"
    }
   ],
   "source": [
    "%%html\n",
    "<iframe scrolling=\"no\" title=\"SquareArea\" src=\"https://www.geogebra.org/material/iframe/id/bcukxbwx/width/611/height/470/border/888888/sfsb/true/smb/false/stb/false/stbh/false/ai/false/asb/false/sri/false/rc/false/ld/false/sdz/false/ctl/false\" width=\"611px\" height=\"470px\" style=\"border:0px;\"> </iframe>"
   ]
  },
  {
   "cell_type": "markdown",
   "metadata": {},
   "source": [
    "Because the area of a square (or of any geometric figure!) cannot be negative, we cannot compute the square root of  negative number. \n",
    "\n",
    "In the following exercise you will learn about what happens to the number zero."
   ]
  },
  {
   "cell_type": "markdown",
   "metadata": {},
   "source": [
    "What is $\\sqrt{0}$?\n",
    "\n",
    "- Hint. Think about it..what do you get if you multiply any number by $0?$"
   ]
  },
  {
   "cell_type": "code",
   "execution_count": 21,
   "metadata": {
    "tags": [
     "hide-input"
    ]
   },
   "outputs": [
    {
     "data": {
      "application/vnd.jupyter.widget-view+json": {
       "model_id": "647bd85d5e124cb1bf5891ddd44a6926",
       "version_major": 2,
       "version_minor": 0
      },
      "text/plain": [
       "Text(value='', description='$\\\\sqrt{}$', placeholder='Your answer')"
      ]
     },
     "metadata": {},
     "output_type": "display_data"
    },
    {
     "data": {
      "application/vnd.jupyter.widget-view+json": {
       "model_id": "9e1713716fb34c36bc806c2b7eab29ed",
       "version_major": 2,
       "version_minor": 0
      },
      "text/plain": [
       "Button(button_style='info', description='Enter', layout=Layout(height='30px', width='15%'), style=ButtonStyle(…"
      ]
     },
     "metadata": {},
     "output_type": "display_data"
    }
   ],
   "source": [
    "#display(Latex(\"What is $\\sqrt{0}?$\"))\n",
    "#display(Latex(\"Write your answer as sqrt(your answer)\"))\n",
    "\n",
    "\n",
    "#display(Latex(\"Hint. Think about it..what do you get if you multiply any number by $0?$\"))\n",
    "\n",
    "\n",
    "attempts_7 = 0\n",
    "exercise_7 = w.Text( placeholder='Your answer', description='$\\sqrt{}$', disabled=False )\n",
    "display(exercise_7)\n",
    "\n",
    "button_exercise_7 = w.Button(button_style='info',description=\"Enter\", layout=Layout(width='15%', height='30px') )\n",
    "button_exercise_7.on_click(rerun_cell)\n",
    "display(button_exercise_7)\n",
    "\n"
   ]
  },
  {
   "cell_type": "code",
   "execution_count": 22,
   "metadata": {
    "tags": [
     "hide-input"
    ]
   },
   "outputs": [],
   "source": [
    "# Exercise 7 user answer handling\n",
    "\n",
    "user_answer = exercise_7.value\n",
    "expected_answer =  '0'\n",
    "\n",
    "if attempts_7 == 0:\n",
    "    attempts_7 += 1\n",
    "else:\n",
    "    # Close the option to keep attempting the answer \n",
    "    if(attempts_7 >= 4):\n",
    "        \n",
    "        exercise_7.disabled = True\n",
    "        button_exercise_7.disabled = True\n",
    "        \n",
    "    \n",
    "        display(Markdown(\"#### The aswer is $0$ because $0 \\cdot 0 = 0^2 =  0$.\"))\n",
    "\n",
    "        \n",
    "    # If answer is correct, display appropriate markdown cells\n",
    "    \n",
    "    if(user_answer == expected_answer):\n",
    "        \n",
    "        display(Markdown(\"#### Your answer is correct! The square root of $0$ is $0$ because $0 \\cdot 0 = 0^2 =  0$.\"))\n",
    "        \n",
    "        exercise_7.disabled = True\n",
    "        button_exercise_7.disabled = True\n",
    "        \n",
    "    else:\n",
    "        \n",
    "        attempts_7 += 1\n",
    "        \n",
    "        if(attempts_7 <= 4):\n",
    "            display(Markdown(\"# Please try again.\"))"
   ]
  },
  {
   "cell_type": "markdown",
   "metadata": {},
   "source": [
    "### Conclusion\n",
    "\n",
    "In this notebook we learnt\n",
    "\n",
    "\n",
    "<ul>\n",
    "    <li> The square root is an increasing function, therefore comparing radicals under the square root is easy. </li>\n",
    "    <li> The value of a fraction doesn't change before and after we rationalized it.</li>\n",
    "    <li>We can only take the square root of any number greater than or equal than zero.</li>\n",
    "</ul>\n"
   ]
  },
  {
   "cell_type": "markdown",
   "metadata": {},
   "source": [
    "[![Callysto.ca License](https://github.com/callysto/curriculum-notebooks/blob/master/callysto-notebook-banner-bottom.jpg?raw=true)](https://github.com/callysto/curriculum-notebooks/blob/master/LICENSE.md)"
   ]
  }
 ],
 "metadata": {
  "celltoolbar": "Edit Metadata",
  "kernelspec": {
   "display_name": "Python 3",
   "language": "python",
   "name": "python3"
  },
  "language_info": {
   "codemirror_mode": {
    "name": "ipython",
    "version": 3
   },
   "file_extension": ".py",
   "mimetype": "text/x-python",
   "name": "python",
   "nbconvert_exporter": "python",
   "pygments_lexer": "ipython3",
   "version": "3.7.4"
  }
 },
 "nbformat": 4,
 "nbformat_minor": 2
}

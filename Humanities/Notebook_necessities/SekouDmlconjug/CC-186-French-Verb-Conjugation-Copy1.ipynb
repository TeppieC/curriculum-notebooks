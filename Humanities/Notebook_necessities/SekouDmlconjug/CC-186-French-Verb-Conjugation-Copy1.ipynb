{
 "cells": [
  {
   "cell_type": "markdown",
   "metadata": {
    "hidden": false
   },
   "source": [
    "<img src = \"https://callysto.ca/wp-content/uploads/2018/06/Callysto_Notebook-Banner_Top_06.06.18.jpg\">"
   ]
  },
  {
   "cell_type": "code",
   "execution_count": 1,
   "metadata": {
    "hidden": false
   },
   "outputs": [
    {
     "data": {
      "text/html": [
       "<script>requirejs.config({paths: { 'plotly': ['https://cdn.plot.ly/plotly-latest.min']},});if(!window.Plotly) {{require(['plotly'],function(plotly) {window.Plotly=plotly;});}}</script>"
      ],
      "text/vnd.plotly.v1+html": [
       "<script>requirejs.config({paths: { 'plotly': ['https://cdn.plot.ly/plotly-latest.min']},});if(!window.Plotly) {{require(['plotly'],function(plotly) {window.Plotly=plotly;});}}</script>"
      ]
     },
     "metadata": {},
     "output_type": "display_data"
    },
    {
     "data": {
      "text/html": [
       "<script>\n",
       "  function code_toggle() {\n",
       "    if (code_shown){\n",
       "      $('div.input').hide('500');\n",
       "      $('#toggleButton').val('Show Code')\n",
       "    } else {\n",
       "      $('div.input').show('500');\n",
       "      $('#toggleButton').val('Hide Code')\n",
       "    }\n",
       "    code_shown = !code_shown\n",
       "  }\n",
       "  \n",
       "  $( document ).ready(function(){\n",
       "    code_shown=false;\n",
       "    $('div.input').hide()\n",
       "  });\n",
       "</script>\n",
       "<form action=\"javascript:code_toggle()\"><input type=\"submit\" id=\"toggleButton\" value=\"Show Code\"></form>"
      ],
      "text/plain": [
       "<IPython.core.display.HTML object>"
      ]
     },
     "execution_count": 1,
     "metadata": {},
     "output_type": "execute_result"
    }
   ],
   "source": [
    "import numpy as np\n",
    "import matplotlib.pyplot as plt\n",
    "from IPython.display import display, Math, Latex, HTML, clear_output, Markdown, Javascript\n",
    "import ipywidgets as widgets\n",
    "from ipywidgets import interact, FloatSlider, IntSlider, interactive, Layout\n",
    "from traitlets import traitlets\n",
    "#module to ocnjugate\n",
    "import mlconjug\n",
    "from functools import partial\n",
    "import pickle\n",
    "\n",
    "\n",
    "import plotly as py\n",
    "import plotly.graph_objs as go\n",
    "from plotly.offline import download_plotlyjs, init_notebook_mode, plot, iplot\n",
    "init_notebook_mode(connected=True)\n",
    "\n",
    "HTML('''<script>\n",
    "  function code_toggle() {\n",
    "    if (code_shown){\n",
    "      $('div.input').hide('500');\n",
    "      $('#toggleButton').val('Show Code')\n",
    "    } else {\n",
    "      $('div.input').show('500');\n",
    "      $('#toggleButton').val('Hide Code')\n",
    "    }\n",
    "    code_shown = !code_shown\n",
    "  }\n",
    "  \n",
    "  $( document ).ready(function(){\n",
    "    code_shown=false;\n",
    "    $('div.input').hide()\n",
    "  });\n",
    "</script>\n",
    "<form action=\"javascript:code_toggle()\"><input type=\"submit\" id=\"toggleButton\" value=\"Show Code\"></form>''')"
   ]
  },
  {
   "cell_type": "markdown",
   "metadata": {
    "hidden": false
   },
   "source": [
    "# <center>$French\\, Verb\\,Conjugation$<center>\n",
    "    \n",
    "----\n",
    "\n",
    "## Introduction\n",
    "\n",
    "In this Jupyter Notebook by Callysto you will learn about French verb conjugation and some basics of programming in python. Mastering the basics of verb conjugation is essential to reading and writing in French. There are some basic rules (and exceptions) that we will address. Along the way you will gain some insight into how this notebook was made and thus gain some exposure to some programming concepts.\n",
    "\n",
    "*Necessary background*:\n",
    "- Some basic knowledge of French\n",
    "- Elementary python syntax\n",
    "\n",
    "On-y-vas!"
   ]
  },
  {
   "cell_type": "markdown",
   "metadata": {
    "hidden": false
   },
   "source": [
    "## $Personal\\, pronouns$\n",
    "\n",
    "In order to start conjugating verbs, we must first learn what the personal pronouns in french are. Below is table showing the subject pronouns in French, these will be used to separate the different cases of verb conjugation. "
   ]
  },
  {
   "cell_type": "code",
   "execution_count": 2,
   "metadata": {
    "hidden": false
   },
   "outputs": [
    {
     "data": {
      "application/vnd.plotly.v1+json": {
       "data": [
        {
         "cells": {
          "align": [
           "center",
           "center"
          ],
          "fill": {
           "color": "rgb(95,102,161)"
          },
          "font": {
           "color": "white",
           "size": 14
          },
          "height": 30,
          "line": {
           "color": "black"
          },
          "values": [
           [
            "First",
            "Second",
            "Third",
            "First (plural)",
            "Second (plural)",
            "Third (plural)"
           ],
           [
            "je",
            "tu",
            "elle/il/on",
            "nous",
            "vous",
            "elles/ils"
           ],
           [
            "I",
            "you (informal/sing.)",
            "she/he/one",
            "we",
            "you (plural, formal/sing.)",
            "they"
           ]
          ]
         },
         "columnorder": [
          1,
          2,
          3
         ],
         "columnwidth": [
          10,
          10
         ],
         "header": {
          "align": [
           "center",
           "center"
          ],
          "fill": {
           "color": "rgb(0,35,48)"
          },
          "font": {
           "color": "white",
           "size": 16
          },
          "height": 40,
          "line": {
           "color": "rgb(0,0,0)"
          },
          "values": [
           "Person",
           "French",
           "English"
          ]
         },
         "type": "table",
         "uid": "97db8b20-cb6c-11e8-8b31-0242ac110004"
        }
       ],
       "layout": {
        "height": 450,
        "width": 650
       }
      },
      "text/html": [
       "<div id=\"a3d1df2c-d4c8-4de5-8953-aaae97e68cba\" style=\"height: 450px; width: 650px;\" class=\"plotly-graph-div\"></div><script type=\"text/javascript\">require([\"plotly\"], function(Plotly) { window.PLOTLYENV=window.PLOTLYENV || {};window.PLOTLYENV.BASE_URL=\"https://plot.ly\";Plotly.newPlot(\"a3d1df2c-d4c8-4de5-8953-aaae97e68cba\", [{\"cells\": {\"align\": [\"center\", \"center\"], \"fill\": {\"color\": \"rgb(95,102,161)\"}, \"font\": {\"color\": \"white\", \"size\": 14}, \"height\": 30, \"line\": {\"color\": \"black\"}, \"values\": [[\"First\", \"Second\", \"Third\", \"First (plural)\", \"Second (plural)\", \"Third (plural)\"], [\"je\", \"tu\", \"elle/il/on\", \"nous\", \"vous\", \"elles/ils\"], [\"I\", \"you (informal/sing.)\", \"she/he/one\", \"we\", \"you (plural, formal/sing.)\", \"they\"]]}, \"columnorder\": [1, 2, 3], \"columnwidth\": [10, 10], \"header\": {\"align\": [\"center\", \"center\"], \"fill\": {\"color\": \"rgb(0,35,48)\"}, \"font\": {\"color\": \"white\", \"size\": 16}, \"height\": 40, \"line\": {\"color\": \"rgb(0,0,0)\"}, \"values\": [\"Person\", \"French\", \"English\"]}, \"type\": \"table\", \"uid\": \"980ba38c-cb6c-11e8-8b31-0242ac110004\"}], {\"height\": 450, \"width\": 650}, {\"showLink\": true, \"linkText\": \"Export to plot.ly\"})});</script>"
      ],
      "text/vnd.plotly.v1+html": [
       "<div id=\"a3d1df2c-d4c8-4de5-8953-aaae97e68cba\" style=\"height: 450px; width: 650px;\" class=\"plotly-graph-div\"></div><script type=\"text/javascript\">require([\"plotly\"], function(Plotly) { window.PLOTLYENV=window.PLOTLYENV || {};window.PLOTLYENV.BASE_URL=\"https://plot.ly\";Plotly.newPlot(\"a3d1df2c-d4c8-4de5-8953-aaae97e68cba\", [{\"cells\": {\"align\": [\"center\", \"center\"], \"fill\": {\"color\": \"rgb(95,102,161)\"}, \"font\": {\"color\": \"white\", \"size\": 14}, \"height\": 30, \"line\": {\"color\": \"black\"}, \"values\": [[\"First\", \"Second\", \"Third\", \"First (plural)\", \"Second (plural)\", \"Third (plural)\"], [\"je\", \"tu\", \"elle/il/on\", \"nous\", \"vous\", \"elles/ils\"], [\"I\", \"you (informal/sing.)\", \"she/he/one\", \"we\", \"you (plural, formal/sing.)\", \"they\"]]}, \"columnorder\": [1, 2, 3], \"columnwidth\": [10, 10], \"header\": {\"align\": [\"center\", \"center\"], \"fill\": {\"color\": \"rgb(0,35,48)\"}, \"font\": {\"color\": \"white\", \"size\": 16}, \"height\": 40, \"line\": {\"color\": \"rgb(0,0,0)\"}, \"values\": [\"Person\", \"French\", \"English\"]}, \"type\": \"table\", \"uid\": \"980ba38c-cb6c-11e8-8b31-0242ac110004\"}], {\"height\": 450, \"width\": 650}, {\"showLink\": true, \"linkText\": \"Export to plot.ly\"})});</script>"
      ]
     },
     "metadata": {},
     "output_type": "display_data"
    }
   ],
   "source": [
    "#table for personal pronouns using plotly\n",
    "\n",
    "french = ['je','tu','elle/il/on','nous','vous','elles/ils']\n",
    "english = ['I','you (informal/sing.)','she/he/one','we','you (plural, formal/sing.)','they']\n",
    "person = ['First','Second','Third','First (plural)','Second (plural)','Third (plural)']\n",
    "\n",
    "\n",
    "trace0 = go.Table(\n",
    "  columnorder = [1,2,3],\n",
    "  columnwidth = [10,10],\n",
    "  header = dict(\n",
    "    values = ['Person','French','English'],\n",
    "    line = dict(color = 'rgb(0,0,0)'),\n",
    "    fill = dict(color = 'rgb(0,35,48)'),\n",
    "    align = ['center','center'],\n",
    "    font = dict(color = 'white', size = 16),\n",
    "    height = 40\n",
    "  ),\n",
    "  cells = dict(\n",
    "    values = [person,french,english],\n",
    "    line = dict(color = 'black'),\n",
    "    fill = dict(color = 'rgb(95,102,161)'),\n",
    "    align = ['center', 'center'],\n",
    "    font = dict(color = 'white', size = 14),\n",
    "    height = 30\n",
    "    )\n",
    ")\n",
    "layout = dict(width=650, height=450)\n",
    "\n",
    "data = [trace0]\n",
    "fig = dict(data = data, layout = layout)\n",
    "\n",
    "iplot(fig)"
   ]
  },
  {
   "cell_type": "markdown",
   "metadata": {
    "hidden": false
   },
   "source": [
    "Our verb conjugation rules will be based on these personal pronouns, so it is good to get familiar with their translations. French makes a distinction between all of these different tense based on their person, whether or not they are masculine or feminine, and if they are plural or singular. Let's jump right to conjugating the two (arguably) most important verbs: to be and to have.\n",
    "\n",
    "## $\\hat{E}tre \\, (to\\, be)$"
   ]
  },
  {
   "cell_type": "code",
   "execution_count": 3,
   "metadata": {
    "hidden": false
   },
   "outputs": [
    {
     "data": {
      "application/vnd.plotly.v1+json": {
       "data": [
        {
         "cells": {
          "align": [
           "center",
           "center"
          ],
          "fill": {
           "color": "rgb(95,102,161)"
          },
          "font": {
           "color": "white",
           "size": 14
          },
          "height": 30,
          "line": {
           "color": "black"
          },
          "values": [
           [
            "je",
            "tu",
            "elle/il/on",
            "nous",
            "vous",
            "elles/ils"
           ],
           [
            "suis",
            "es",
            "est",
            "sommes",
            "êtes",
            "sont"
           ]
          ]
         },
         "columnorder": [
          1,
          2
         ],
         "columnwidth": [
          10,
          10
         ],
         "header": {
          "align": [
           "center",
           "center"
          ],
          "fill": {
           "color": "rgb(0,35,48)"
          },
          "font": {
           "color": "white",
           "size": 16
          },
          "height": 40,
          "line": {
           "color": "rgb(0,0,0)"
          },
          "values": [
           "Pronoun",
           "Conjugation"
          ]
         },
         "type": "table",
         "uid": "9816d14e-cb6c-11e8-8b31-0242ac110004"
        }
       ],
       "layout": {
        "height": 450,
        "width": 500
       }
      },
      "text/html": [
       "<div id=\"0c6612d8-de04-4744-8b19-cbeeb306a806\" style=\"height: 450px; width: 500px;\" class=\"plotly-graph-div\"></div><script type=\"text/javascript\">require([\"plotly\"], function(Plotly) { window.PLOTLYENV=window.PLOTLYENV || {};window.PLOTLYENV.BASE_URL=\"https://plot.ly\";Plotly.newPlot(\"0c6612d8-de04-4744-8b19-cbeeb306a806\", [{\"cells\": {\"align\": [\"center\", \"center\"], \"fill\": {\"color\": \"rgb(95,102,161)\"}, \"font\": {\"color\": \"white\", \"size\": 14}, \"height\": 30, \"line\": {\"color\": \"black\"}, \"values\": [[\"je\", \"tu\", \"elle/il/on\", \"nous\", \"vous\", \"elles/ils\"], [\"suis\", \"es\", \"est\", \"sommes\", \"\\u00eates\", \"sont\"]]}, \"columnorder\": [1, 2], \"columnwidth\": [10, 10], \"header\": {\"align\": [\"center\", \"center\"], \"fill\": {\"color\": \"rgb(0,35,48)\"}, \"font\": {\"color\": \"white\", \"size\": 16}, \"height\": 40, \"line\": {\"color\": \"rgb(0,0,0)\"}, \"values\": [\"Pronoun\", \"Conjugation\"]}, \"type\": \"table\", \"uid\": \"981c6b04-cb6c-11e8-8b31-0242ac110004\"}], {\"height\": 450, \"width\": 500}, {\"showLink\": true, \"linkText\": \"Export to plot.ly\"})});</script>"
      ],
      "text/vnd.plotly.v1+html": [
       "<div id=\"0c6612d8-de04-4744-8b19-cbeeb306a806\" style=\"height: 450px; width: 500px;\" class=\"plotly-graph-div\"></div><script type=\"text/javascript\">require([\"plotly\"], function(Plotly) { window.PLOTLYENV=window.PLOTLYENV || {};window.PLOTLYENV.BASE_URL=\"https://plot.ly\";Plotly.newPlot(\"0c6612d8-de04-4744-8b19-cbeeb306a806\", [{\"cells\": {\"align\": [\"center\", \"center\"], \"fill\": {\"color\": \"rgb(95,102,161)\"}, \"font\": {\"color\": \"white\", \"size\": 14}, \"height\": 30, \"line\": {\"color\": \"black\"}, \"values\": [[\"je\", \"tu\", \"elle/il/on\", \"nous\", \"vous\", \"elles/ils\"], [\"suis\", \"es\", \"est\", \"sommes\", \"\\u00eates\", \"sont\"]]}, \"columnorder\": [1, 2], \"columnwidth\": [10, 10], \"header\": {\"align\": [\"center\", \"center\"], \"fill\": {\"color\": \"rgb(0,35,48)\"}, \"font\": {\"color\": \"white\", \"size\": 16}, \"height\": 40, \"line\": {\"color\": \"rgb(0,0,0)\"}, \"values\": [\"Pronoun\", \"Conjugation\"]}, \"type\": \"table\", \"uid\": \"981c6b04-cb6c-11e8-8b31-0242ac110004\"}], {\"height\": 450, \"width\": 500}, {\"showLink\": true, \"linkText\": \"Export to plot.ly\"})});</script>"
      ]
     },
     "metadata": {},
     "output_type": "display_data"
    }
   ],
   "source": [
    "french = ['je','tu','elle/il/on','nous','vous','elles/ils']\n",
    "conjug = ['suis','es','est','sommes','êtes','sont']\n",
    "\n",
    "trace0 = go.Table(\n",
    "  columnorder = [1,2],\n",
    "  columnwidth = [10,10],\n",
    "  header = dict(\n",
    "    values = ['Pronoun','Conjugation'],\n",
    "    line = dict(color = 'rgb(0,0,0)'),\n",
    "    fill = dict(color = 'rgb(0,35,48)'),\n",
    "    align = ['center','center'],\n",
    "    font = dict(color = 'white', size = 16),\n",
    "    height = 40\n",
    "  ),\n",
    "  cells = dict(\n",
    "    values = [french,conjug],\n",
    "    line = dict(color = 'black'),\n",
    "    fill = dict(color = 'rgb(95,102,161)'),\n",
    "    align = ['center', 'center'],\n",
    "    font = dict(color = 'white', size = 14),\n",
    "    height = 30\n",
    "    )\n",
    ")\n",
    "layout = dict(width=500, height=450)\n",
    "\n",
    "data = [trace0]\n",
    "fig = dict(data = data, layout = layout)\n",
    "\n",
    "iplot(fig)"
   ]
  },
  {
   "cell_type": "markdown",
   "metadata": {
    "hidden": false
   },
   "source": [
    "*Être* is an irregular verb, that does not obey a certain \"format\", if you will, for conjugating verbs in the present tense. There many examples of exceptions, which we will explore further. But first, the next most important verb..."
   ]
  },
  {
   "cell_type": "markdown",
   "metadata": {
    "hidden": false
   },
   "source": [
    "## $Avoir \\, (to\\,have)$"
   ]
  },
  {
   "cell_type": "code",
   "execution_count": 4,
   "metadata": {
    "hidden": false
   },
   "outputs": [
    {
     "data": {
      "application/vnd.plotly.v1+json": {
       "data": [
        {
         "cells": {
          "align": [
           "center",
           "center"
          ],
          "fill": {
           "color": "rgb(95,102,161)"
          },
          "font": {
           "color": "white",
           "size": 14
          },
          "height": 30,
          "line": {
           "color": "black"
          },
          "values": [
           [
            "j'",
            "tu",
            "elle/il/on",
            "nous",
            "vous",
            "elles/ils"
           ],
           [
            "ai",
            "as",
            "a",
            "avons",
            "avez",
            "ont"
           ]
          ]
         },
         "columnorder": [
          1,
          2
         ],
         "columnwidth": [
          10,
          10
         ],
         "header": {
          "align": [
           "center",
           "center"
          ],
          "fill": {
           "color": "rgb(0,35,48)"
          },
          "font": {
           "color": "white",
           "size": 16
          },
          "height": 40,
          "line": {
           "color": "rgb(0,0,0)"
          },
          "values": [
           "Pronoun",
           "Conjugation"
          ]
         },
         "type": "table",
         "uid": "98285400-cb6c-11e8-8b31-0242ac110004"
        }
       ],
       "layout": {
        "height": 450,
        "width": 500
       }
      },
      "text/html": [
       "<div id=\"162a166c-b126-40a2-bf5a-47fbed86b3ff\" style=\"height: 450px; width: 500px;\" class=\"plotly-graph-div\"></div><script type=\"text/javascript\">require([\"plotly\"], function(Plotly) { window.PLOTLYENV=window.PLOTLYENV || {};window.PLOTLYENV.BASE_URL=\"https://plot.ly\";Plotly.newPlot(\"162a166c-b126-40a2-bf5a-47fbed86b3ff\", [{\"cells\": {\"align\": [\"center\", \"center\"], \"fill\": {\"color\": \"rgb(95,102,161)\"}, \"font\": {\"color\": \"white\", \"size\": 14}, \"height\": 30, \"line\": {\"color\": \"black\"}, \"values\": [[\"j'\", \"tu\", \"elle/il/on\", \"nous\", \"vous\", \"elles/ils\"], [\"ai\", \"as\", \"a\", \"avons\", \"avez\", \"ont\"]]}, \"columnorder\": [1, 2], \"columnwidth\": [10, 10], \"header\": {\"align\": [\"center\", \"center\"], \"fill\": {\"color\": \"rgb(0,35,48)\"}, \"font\": {\"color\": \"white\", \"size\": 16}, \"height\": 40, \"line\": {\"color\": \"rgb(0,0,0)\"}, \"values\": [\"Pronoun\", \"Conjugation\"]}, \"type\": \"table\", \"uid\": \"982dd9e8-cb6c-11e8-8b31-0242ac110004\"}], {\"height\": 450, \"width\": 500}, {\"showLink\": true, \"linkText\": \"Export to plot.ly\"})});</script>"
      ],
      "text/vnd.plotly.v1+html": [
       "<div id=\"162a166c-b126-40a2-bf5a-47fbed86b3ff\" style=\"height: 450px; width: 500px;\" class=\"plotly-graph-div\"></div><script type=\"text/javascript\">require([\"plotly\"], function(Plotly) { window.PLOTLYENV=window.PLOTLYENV || {};window.PLOTLYENV.BASE_URL=\"https://plot.ly\";Plotly.newPlot(\"162a166c-b126-40a2-bf5a-47fbed86b3ff\", [{\"cells\": {\"align\": [\"center\", \"center\"], \"fill\": {\"color\": \"rgb(95,102,161)\"}, \"font\": {\"color\": \"white\", \"size\": 14}, \"height\": 30, \"line\": {\"color\": \"black\"}, \"values\": [[\"j'\", \"tu\", \"elle/il/on\", \"nous\", \"vous\", \"elles/ils\"], [\"ai\", \"as\", \"a\", \"avons\", \"avez\", \"ont\"]]}, \"columnorder\": [1, 2], \"columnwidth\": [10, 10], \"header\": {\"align\": [\"center\", \"center\"], \"fill\": {\"color\": \"rgb(0,35,48)\"}, \"font\": {\"color\": \"white\", \"size\": 16}, \"height\": 40, \"line\": {\"color\": \"rgb(0,0,0)\"}, \"values\": [\"Pronoun\", \"Conjugation\"]}, \"type\": \"table\", \"uid\": \"982dd9e8-cb6c-11e8-8b31-0242ac110004\"}], {\"height\": 450, \"width\": 500}, {\"showLink\": true, \"linkText\": \"Export to plot.ly\"})});</script>"
      ]
     },
     "metadata": {},
     "output_type": "display_data"
    }
   ],
   "source": [
    "french = [\"j'\",'tu','elle/il/on','nous','vous','elles/ils']\n",
    "conjug = ['ai','as','a','avons','avez','ont']\n",
    "\n",
    "trace0 = go.Table(\n",
    "  columnorder = [1,2],\n",
    "  columnwidth = [10,10],\n",
    "  header = dict(\n",
    "    values = ['Pronoun','Conjugation'],\n",
    "    line = dict(color = 'rgb(0,0,0)'),\n",
    "    fill = dict(color = 'rgb(0,35,48)'),\n",
    "    align = ['center','center'],\n",
    "    font = dict(color = 'white', size = 16),\n",
    "    height = 40\n",
    "  ),\n",
    "  cells = dict(\n",
    "    values = [french,conjug],\n",
    "    line = dict(color = 'black'),\n",
    "    fill = dict(color = 'rgb(95,102,161)'),\n",
    "    align = ['center', 'center'],\n",
    "    font = dict(color = 'white', size = 14),\n",
    "    height = 30\n",
    "    )\n",
    ")\n",
    "layout = dict(width=500, height=450)\n",
    "\n",
    "data = [trace0]\n",
    "fig = dict(data = data, layout = layout)\n",
    "\n",
    "iplot(fig)"
   ]
  },
  {
   "cell_type": "markdown",
   "metadata": {
    "hidden": false
   },
   "source": [
    "Notice for the first person singular we have *j'* instead of *je*, this is due to the fact that the verb starts a vowel. This rule is similar to using \"a\" and \"an\" in English. Let's now look at the general rubric for conjugating verbs that end in **er** in the present tense. We will illustrate this with the verb *parler* (to speak). "
   ]
  },
  {
   "cell_type": "code",
   "execution_count": 5,
   "metadata": {
    "hidden": false
   },
   "outputs": [
    {
     "data": {
      "application/vnd.plotly.v1+json": {
       "data": [
        {
         "cells": {
          "align": [
           "center",
           "center"
          ],
          "fill": {
           "color": "rgb(95,102,161)"
          },
          "font": {
           "color": "white",
           "size": 14
          },
          "height": 30,
          "line": {
           "color": "black"
          },
          "values": [
           [
            "je",
            "tu",
            "elle/il/on",
            "nous",
            "vous",
            "elles/ils"
           ],
           [
            "parl-",
            "parl-",
            "parl-",
            "parl-",
            "parl-",
            "parl-"
           ],
           [
            "e",
            "es",
            "e",
            "ons",
            "ez",
            "ent"
           ]
          ]
         },
         "columnorder": [
          1,
          2,
          3
         ],
         "columnwidth": [
          10,
          10
         ],
         "header": {
          "align": [
           "center",
           "center"
          ],
          "fill": {
           "color": "rgb(0,35,48)"
          },
          "font": {
           "color": "white",
           "size": 16
          },
          "height": 40,
          "line": {
           "color": "rgb(0,0,0)"
          },
          "values": [
           "Pronoun",
           "Stem",
           "Ending"
          ]
         },
         "type": "table",
         "uid": "9839f642-cb6c-11e8-8b31-0242ac110004"
        }
       ],
       "layout": {
        "height": 450,
        "width": 500
       }
      },
      "text/html": [
       "<div id=\"8e1afdc1-c0bf-4246-9082-4ebfeaa9444d\" style=\"height: 450px; width: 500px;\" class=\"plotly-graph-div\"></div><script type=\"text/javascript\">require([\"plotly\"], function(Plotly) { window.PLOTLYENV=window.PLOTLYENV || {};window.PLOTLYENV.BASE_URL=\"https://plot.ly\";Plotly.newPlot(\"8e1afdc1-c0bf-4246-9082-4ebfeaa9444d\", [{\"cells\": {\"align\": [\"center\", \"center\"], \"fill\": {\"color\": \"rgb(95,102,161)\"}, \"font\": {\"color\": \"white\", \"size\": 14}, \"height\": 30, \"line\": {\"color\": \"black\"}, \"values\": [[\"je\", \"tu\", \"elle/il/on\", \"nous\", \"vous\", \"elles/ils\"], [\"parl-\", \"parl-\", \"parl-\", \"parl-\", \"parl-\", \"parl-\"], [\"e\", \"es\", \"e\", \"ons\", \"ez\", \"ent\"]]}, \"columnorder\": [1, 2, 3], \"columnwidth\": [10, 10], \"header\": {\"align\": [\"center\", \"center\"], \"fill\": {\"color\": \"rgb(0,35,48)\"}, \"font\": {\"color\": \"white\", \"size\": 16}, \"height\": 40, \"line\": {\"color\": \"rgb(0,0,0)\"}, \"values\": [\"Pronoun\", \"Stem\", \"Ending\"]}, \"type\": \"table\", \"uid\": \"983fa448-cb6c-11e8-8b31-0242ac110004\"}], {\"height\": 450, \"width\": 500}, {\"showLink\": true, \"linkText\": \"Export to plot.ly\"})});</script>"
      ],
      "text/vnd.plotly.v1+html": [
       "<div id=\"8e1afdc1-c0bf-4246-9082-4ebfeaa9444d\" style=\"height: 450px; width: 500px;\" class=\"plotly-graph-div\"></div><script type=\"text/javascript\">require([\"plotly\"], function(Plotly) { window.PLOTLYENV=window.PLOTLYENV || {};window.PLOTLYENV.BASE_URL=\"https://plot.ly\";Plotly.newPlot(\"8e1afdc1-c0bf-4246-9082-4ebfeaa9444d\", [{\"cells\": {\"align\": [\"center\", \"center\"], \"fill\": {\"color\": \"rgb(95,102,161)\"}, \"font\": {\"color\": \"white\", \"size\": 14}, \"height\": 30, \"line\": {\"color\": \"black\"}, \"values\": [[\"je\", \"tu\", \"elle/il/on\", \"nous\", \"vous\", \"elles/ils\"], [\"parl-\", \"parl-\", \"parl-\", \"parl-\", \"parl-\", \"parl-\"], [\"e\", \"es\", \"e\", \"ons\", \"ez\", \"ent\"]]}, \"columnorder\": [1, 2, 3], \"columnwidth\": [10, 10], \"header\": {\"align\": [\"center\", \"center\"], \"fill\": {\"color\": \"rgb(0,35,48)\"}, \"font\": {\"color\": \"white\", \"size\": 16}, \"height\": 40, \"line\": {\"color\": \"rgb(0,0,0)\"}, \"values\": [\"Pronoun\", \"Stem\", \"Ending\"]}, \"type\": \"table\", \"uid\": \"983fa448-cb6c-11e8-8b31-0242ac110004\"}], {\"height\": 450, \"width\": 500}, {\"showLink\": true, \"linkText\": \"Export to plot.ly\"})});</script>"
      ]
     },
     "metadata": {},
     "output_type": "display_data"
    }
   ],
   "source": [
    "french = ['je','tu','elle/il/on','nous','vous','elles/ils']\n",
    "stem = ['parl-','parl-','parl-','parl-','parl-','parl-']\n",
    "ending = ['e','es','e','ons','ez','ent']\n",
    "\n",
    "trace0 = go.Table(\n",
    "  columnorder = [1,2,3],\n",
    "  columnwidth = [10,10],\n",
    "  header = dict(\n",
    "    values = ['Pronoun','Stem','Ending'],\n",
    "    line = dict(color = 'rgb(0,0,0)'),\n",
    "    fill = dict(color = 'rgb(0,35,48)'),\n",
    "    align = ['center','center'],\n",
    "    font = dict(color = 'white', size = 16),\n",
    "    height = 40\n",
    "  ),\n",
    "  cells = dict(\n",
    "    values = [french,stem,ending],\n",
    "    line = dict(color = 'black'),\n",
    "    fill = dict(color = 'rgb(95,102,161)'),\n",
    "    align = ['center', 'center'],\n",
    "    font = dict(color = 'white', size = 14),\n",
    "    height = 30\n",
    "    )\n",
    ")\n",
    "layout = dict(width=500, height=450)\n",
    "\n",
    "data = [trace0]\n",
    "fig = dict(data = data, layout = layout)\n",
    "\n",
    "iplot(fig)"
   ]
  },
  {
   "cell_type": "markdown",
   "metadata": {
    "hidden": false
   },
   "source": [
    "This can be taken as the general rule for conjugating **er** verbs in the present tense. All you need to do is find the *stem* of the verb, which was parl- in this case and then apply these endings to figure out how to conjugate the verb for every personal pronoun. All you have to do is watch out for the exceptions..."
   ]
  },
  {
   "cell_type": "markdown",
   "metadata": {
    "hidden": false
   },
   "source": [
    "## $Exceptions$ \n",
    "\n",
    "French is filled with exceptions, which makes it a bit of a difficult language to master as one has to basically dedicate the exceptions to memory. An exception for a verb means that it is not (maybe just partially) conjugating using the endings given above. Thankfully there are not many exceptions for the **er** verbs. Most exceptions arise in an alteration of the stem of the verb. Here are a few notable ones:\n",
    "\n",
    "- \"-oyer\" and \"-uyer\" verbs:\n",
    "\n",
    "For verbs like *envoyer* (to send) or *ennuyer* (to annoy) the stem changes the \"y\" to an \"i\" for all pronouns except nous and vous:"
   ]
  },
  {
   "cell_type": "code",
   "execution_count": 6,
   "metadata": {
    "hidden": false
   },
   "outputs": [
    {
     "data": {
      "application/vnd.plotly.v1+json": {
       "data": [
        {
         "cells": {
          "align": [
           "center",
           "center"
          ],
          "fill": {
           "color": "rgb(95,102,161)"
          },
          "font": {
           "color": "white",
           "size": 14
          },
          "height": 30,
          "line": {
           "color": "black"
          },
          "values": [
           [
            "j'",
            "tu",
            "elle/il/on",
            "nous",
            "vous",
            "elles/ils"
           ],
           [
            "envoie",
            "envoies",
            "envoie",
            "envoyons",
            "envoyez",
            "envoient"
           ]
          ]
         },
         "columnorder": [
          1,
          2,
          3
         ],
         "columnwidth": [
          10,
          10
         ],
         "header": {
          "align": [
           "center",
           "center"
          ],
          "fill": {
           "color": "rgb(0,35,48)"
          },
          "font": {
           "color": "white",
           "size": 16
          },
          "height": 40,
          "line": {
           "color": "rgb(0,0,0)"
          },
          "values": [
           "Pronoun",
           "Conjugation"
          ]
         },
         "type": "table",
         "uid": "984c653e-cb6c-11e8-8b31-0242ac110004"
        }
       ],
       "layout": {
        "height": 450,
        "width": 500
       }
      },
      "text/html": [
       "<div id=\"6e2c68fc-985e-4c8a-9f39-16575d7136a8\" style=\"height: 450px; width: 500px;\" class=\"plotly-graph-div\"></div><script type=\"text/javascript\">require([\"plotly\"], function(Plotly) { window.PLOTLYENV=window.PLOTLYENV || {};window.PLOTLYENV.BASE_URL=\"https://plot.ly\";Plotly.newPlot(\"6e2c68fc-985e-4c8a-9f39-16575d7136a8\", [{\"cells\": {\"align\": [\"center\", \"center\"], \"fill\": {\"color\": \"rgb(95,102,161)\"}, \"font\": {\"color\": \"white\", \"size\": 14}, \"height\": 30, \"line\": {\"color\": \"black\"}, \"values\": [[\"j'\", \"tu\", \"elle/il/on\", \"nous\", \"vous\", \"elles/ils\"], [\"envoie\", \"envoies\", \"envoie\", \"envoyons\", \"envoyez\", \"envoient\"]]}, \"columnorder\": [1, 2, 3], \"columnwidth\": [10, 10], \"header\": {\"align\": [\"center\", \"center\"], \"fill\": {\"color\": \"rgb(0,35,48)\"}, \"font\": {\"color\": \"white\", \"size\": 16}, \"height\": 40, \"line\": {\"color\": \"rgb(0,0,0)\"}, \"values\": [\"Pronoun\", \"Conjugation\"]}, \"type\": \"table\", \"uid\": \"98543034-cb6c-11e8-8b31-0242ac110004\"}], {\"height\": 450, \"width\": 500}, {\"showLink\": true, \"linkText\": \"Export to plot.ly\"})});</script>"
      ],
      "text/vnd.plotly.v1+html": [
       "<div id=\"6e2c68fc-985e-4c8a-9f39-16575d7136a8\" style=\"height: 450px; width: 500px;\" class=\"plotly-graph-div\"></div><script type=\"text/javascript\">require([\"plotly\"], function(Plotly) { window.PLOTLYENV=window.PLOTLYENV || {};window.PLOTLYENV.BASE_URL=\"https://plot.ly\";Plotly.newPlot(\"6e2c68fc-985e-4c8a-9f39-16575d7136a8\", [{\"cells\": {\"align\": [\"center\", \"center\"], \"fill\": {\"color\": \"rgb(95,102,161)\"}, \"font\": {\"color\": \"white\", \"size\": 14}, \"height\": 30, \"line\": {\"color\": \"black\"}, \"values\": [[\"j'\", \"tu\", \"elle/il/on\", \"nous\", \"vous\", \"elles/ils\"], [\"envoie\", \"envoies\", \"envoie\", \"envoyons\", \"envoyez\", \"envoient\"]]}, \"columnorder\": [1, 2, 3], \"columnwidth\": [10, 10], \"header\": {\"align\": [\"center\", \"center\"], \"fill\": {\"color\": \"rgb(0,35,48)\"}, \"font\": {\"color\": \"white\", \"size\": 16}, \"height\": 40, \"line\": {\"color\": \"rgb(0,0,0)\"}, \"values\": [\"Pronoun\", \"Conjugation\"]}, \"type\": \"table\", \"uid\": \"98543034-cb6c-11e8-8b31-0242ac110004\"}], {\"height\": 450, \"width\": 500}, {\"showLink\": true, \"linkText\": \"Export to plot.ly\"})});</script>"
      ]
     },
     "metadata": {},
     "output_type": "display_data"
    }
   ],
   "source": [
    "french = [\"j'\",'tu','elle/il/on','nous','vous','elles/ils']\n",
    "conjug = ['envoie', 'envoies','envoie','envoyons','envoyez','envoient']\n",
    "\n",
    "trace0 = go.Table(\n",
    "  columnorder = [1,2,3],\n",
    "  columnwidth = [10,10],\n",
    "  header = dict(\n",
    "    values = ['Pronoun','Conjugation'],\n",
    "    line = dict(color = 'rgb(0,0,0)'),\n",
    "    fill = dict(color = 'rgb(0,35,48)'),\n",
    "    align = ['center','center'],\n",
    "    font = dict(color = 'white', size = 16),\n",
    "    height = 40\n",
    "  ),\n",
    "  cells = dict(\n",
    "    values = [french,conjug],\n",
    "    line = dict(color = 'black'),\n",
    "    fill = dict(color = 'rgb(95,102,161)'),\n",
    "    align = ['center', 'center'],\n",
    "    font = dict(color = 'white', size = 14),\n",
    "    height = 30\n",
    "    )\n",
    ")\n",
    "layout = dict(width=500, height=450)\n",
    "\n",
    "data = [trace0]\n",
    "fig = dict(data = data, layout = layout)\n",
    "\n",
    "iplot(fig)"
   ]
  },
  {
   "cell_type": "markdown",
   "metadata": {
    "hidden": false
   },
   "source": [
    "- \"e_er\" or \"é_er\" verbs\n",
    "\n",
    "Verbs like *acheter* or *préférer* also follow an exception rule. The accent aigue becomes an accent grave, i.e é $\\rightarrow$ è except for the nous and vous cases, where it does not change."
   ]
  },
  {
   "cell_type": "code",
   "execution_count": 7,
   "metadata": {
    "hidden": false
   },
   "outputs": [
    {
     "data": {
      "application/vnd.plotly.v1+json": {
       "data": [
        {
         "cells": {
          "align": [
           "center",
           "center"
          ],
          "fill": {
           "color": "rgb(95,102,161)"
          },
          "font": {
           "color": "white",
           "size": 14
          },
          "height": 30,
          "line": {
           "color": "black"
          },
          "values": [
           [
            "je",
            "tu",
            "elle/il/on",
            "nous",
            "vous",
            "elles/ils"
           ],
           [
            "préfère",
            "préfères",
            "préfère",
            "préférons",
            "préférez",
            "préfèrent"
           ]
          ]
         },
         "columnorder": [
          1,
          2,
          3
         ],
         "columnwidth": [
          10,
          10
         ],
         "header": {
          "align": [
           "center",
           "center"
          ],
          "fill": {
           "color": "rgb(0,35,48)"
          },
          "font": {
           "color": "white",
           "size": 16
          },
          "height": 40,
          "line": {
           "color": "rgb(0,0,0)"
          },
          "values": [
           "Pronoun",
           "Conjugation"
          ]
         },
         "type": "table",
         "uid": "985e15b8-cb6c-11e8-8b31-0242ac110004"
        }
       ],
       "layout": {
        "height": 450,
        "width": 500
       }
      },
      "text/html": [
       "<div id=\"43ba445d-079a-440b-bfc2-776a2918598b\" style=\"height: 450px; width: 500px;\" class=\"plotly-graph-div\"></div><script type=\"text/javascript\">require([\"plotly\"], function(Plotly) { window.PLOTLYENV=window.PLOTLYENV || {};window.PLOTLYENV.BASE_URL=\"https://plot.ly\";Plotly.newPlot(\"43ba445d-079a-440b-bfc2-776a2918598b\", [{\"cells\": {\"align\": [\"center\", \"center\"], \"fill\": {\"color\": \"rgb(95,102,161)\"}, \"font\": {\"color\": \"white\", \"size\": 14}, \"height\": 30, \"line\": {\"color\": \"black\"}, \"values\": [[\"je\", \"tu\", \"elle/il/on\", \"nous\", \"vous\", \"elles/ils\"], [\"pr\\u00e9f\\u00e8re\", \"pr\\u00e9f\\u00e8res\", \"pr\\u00e9f\\u00e8re\", \"pr\\u00e9f\\u00e9rons\", \"pr\\u00e9f\\u00e9rez\", \"pr\\u00e9f\\u00e8rent\"]]}, \"columnorder\": [1, 2, 3], \"columnwidth\": [10, 10], \"header\": {\"align\": [\"center\", \"center\"], \"fill\": {\"color\": \"rgb(0,35,48)\"}, \"font\": {\"color\": \"white\", \"size\": 16}, \"height\": 40, \"line\": {\"color\": \"rgb(0,0,0)\"}, \"values\": [\"Pronoun\", \"Conjugation\"]}, \"type\": \"table\", \"uid\": \"9865d974-cb6c-11e8-8b31-0242ac110004\"}], {\"height\": 450, \"width\": 500}, {\"showLink\": true, \"linkText\": \"Export to plot.ly\"})});</script>"
      ],
      "text/vnd.plotly.v1+html": [
       "<div id=\"43ba445d-079a-440b-bfc2-776a2918598b\" style=\"height: 450px; width: 500px;\" class=\"plotly-graph-div\"></div><script type=\"text/javascript\">require([\"plotly\"], function(Plotly) { window.PLOTLYENV=window.PLOTLYENV || {};window.PLOTLYENV.BASE_URL=\"https://plot.ly\";Plotly.newPlot(\"43ba445d-079a-440b-bfc2-776a2918598b\", [{\"cells\": {\"align\": [\"center\", \"center\"], \"fill\": {\"color\": \"rgb(95,102,161)\"}, \"font\": {\"color\": \"white\", \"size\": 14}, \"height\": 30, \"line\": {\"color\": \"black\"}, \"values\": [[\"je\", \"tu\", \"elle/il/on\", \"nous\", \"vous\", \"elles/ils\"], [\"pr\\u00e9f\\u00e8re\", \"pr\\u00e9f\\u00e8res\", \"pr\\u00e9f\\u00e8re\", \"pr\\u00e9f\\u00e9rons\", \"pr\\u00e9f\\u00e9rez\", \"pr\\u00e9f\\u00e8rent\"]]}, \"columnorder\": [1, 2, 3], \"columnwidth\": [10, 10], \"header\": {\"align\": [\"center\", \"center\"], \"fill\": {\"color\": \"rgb(0,35,48)\"}, \"font\": {\"color\": \"white\", \"size\": 16}, \"height\": 40, \"line\": {\"color\": \"rgb(0,0,0)\"}, \"values\": [\"Pronoun\", \"Conjugation\"]}, \"type\": \"table\", \"uid\": \"9865d974-cb6c-11e8-8b31-0242ac110004\"}], {\"height\": 450, \"width\": 500}, {\"showLink\": true, \"linkText\": \"Export to plot.ly\"})});</script>"
      ]
     },
     "metadata": {},
     "output_type": "display_data"
    }
   ],
   "source": [
    "conjug = ['préfère','préfères','préfère','préférons','préférez','préfèrent']\n",
    "french = [\"je\",'tu','elle/il/on','nous','vous','elles/ils']\n",
    "\n",
    "trace0 = go.Table(\n",
    "  columnorder = [1,2,3],\n",
    "  columnwidth = [10,10],\n",
    "  header = dict(\n",
    "    values = ['Pronoun','Conjugation'],\n",
    "    line = dict(color = 'rgb(0,0,0)'),\n",
    "    fill = dict(color = 'rgb(0,35,48)'),\n",
    "    align = ['center','center'],\n",
    "    font = dict(color = 'white', size = 16),\n",
    "    height = 40\n",
    "  ),\n",
    "  cells = dict(\n",
    "    values = [french,conjug],\n",
    "    line = dict(color = 'black'),\n",
    "    fill = dict(color = 'rgb(95,102,161)'),\n",
    "    align = ['center', 'center'],\n",
    "    font = dict(color = 'white', size = 14),\n",
    "    height = 30\n",
    "    )\n",
    ")\n",
    "layout = dict(width=500, height=450)\n",
    "\n",
    "data = [trace0]\n",
    "fig = dict(data = data, layout = layout)\n",
    "\n",
    "iplot(fig)"
   ]
  },
  {
   "cell_type": "markdown",
   "metadata": {
    "hidden": false
   },
   "source": [
    "- \"– eler \" and \" - eter \" verbs\n",
    "\n",
    "For verbs like \"appeler\" (to call) or \"rejeter\" (to reject) the **l** or **t** gets doubled. Again, this does not hold for the nous and vous cases. \n"
   ]
  },
  {
   "cell_type": "code",
   "execution_count": 8,
   "metadata": {
    "hidden": false
   },
   "outputs": [
    {
     "data": {
      "application/vnd.plotly.v1+json": {
       "data": [
        {
         "cells": {
          "align": [
           "center",
           "center"
          ],
          "fill": {
           "color": "rgb(95,102,161)"
          },
          "font": {
           "color": "white",
           "size": 14
          },
          "height": 30,
          "line": {
           "color": "black"
          },
          "values": [
           [
            "je",
            "tu",
            "elle/il/on",
            "nous",
            "vous",
            "elles/ils"
           ],
           [
            "appelle",
            "appelles",
            "appelle",
            "appelons",
            "appelez",
            "appellent"
           ]
          ]
         },
         "columnorder": [
          1,
          2,
          3
         ],
         "columnwidth": [
          10,
          10
         ],
         "header": {
          "align": [
           "center",
           "center"
          ],
          "fill": {
           "color": "rgb(0,35,48)"
          },
          "font": {
           "color": "white",
           "size": 16
          },
          "height": 40,
          "line": {
           "color": "rgb(0,0,0)"
          },
          "values": [
           "Pronoun",
           "Conjugation"
          ]
         },
         "type": "table",
         "uid": "9871aa24-cb6c-11e8-8b31-0242ac110004"
        }
       ],
       "layout": {
        "height": 450,
        "width": 500
       }
      },
      "text/html": [
       "<div id=\"fa69a761-e201-4d6a-aeb2-30b0446fdb3c\" style=\"height: 450px; width: 500px;\" class=\"plotly-graph-div\"></div><script type=\"text/javascript\">require([\"plotly\"], function(Plotly) { window.PLOTLYENV=window.PLOTLYENV || {};window.PLOTLYENV.BASE_URL=\"https://plot.ly\";Plotly.newPlot(\"fa69a761-e201-4d6a-aeb2-30b0446fdb3c\", [{\"cells\": {\"align\": [\"center\", \"center\"], \"fill\": {\"color\": \"rgb(95,102,161)\"}, \"font\": {\"color\": \"white\", \"size\": 14}, \"height\": 30, \"line\": {\"color\": \"black\"}, \"values\": [[\"je\", \"tu\", \"elle/il/on\", \"nous\", \"vous\", \"elles/ils\"], [\"appelle\", \"appelles\", \"appelle\", \"appelons\", \"appelez\", \"appellent\"]]}, \"columnorder\": [1, 2, 3], \"columnwidth\": [10, 10], \"header\": {\"align\": [\"center\", \"center\"], \"fill\": {\"color\": \"rgb(0,35,48)\"}, \"font\": {\"color\": \"white\", \"size\": 16}, \"height\": 40, \"line\": {\"color\": \"rgb(0,0,0)\"}, \"values\": [\"Pronoun\", \"Conjugation\"]}, \"type\": \"table\", \"uid\": \"987716d0-cb6c-11e8-8b31-0242ac110004\"}], {\"height\": 450, \"width\": 500}, {\"showLink\": true, \"linkText\": \"Export to plot.ly\"})});</script>"
      ],
      "text/vnd.plotly.v1+html": [
       "<div id=\"fa69a761-e201-4d6a-aeb2-30b0446fdb3c\" style=\"height: 450px; width: 500px;\" class=\"plotly-graph-div\"></div><script type=\"text/javascript\">require([\"plotly\"], function(Plotly) { window.PLOTLYENV=window.PLOTLYENV || {};window.PLOTLYENV.BASE_URL=\"https://plot.ly\";Plotly.newPlot(\"fa69a761-e201-4d6a-aeb2-30b0446fdb3c\", [{\"cells\": {\"align\": [\"center\", \"center\"], \"fill\": {\"color\": \"rgb(95,102,161)\"}, \"font\": {\"color\": \"white\", \"size\": 14}, \"height\": 30, \"line\": {\"color\": \"black\"}, \"values\": [[\"je\", \"tu\", \"elle/il/on\", \"nous\", \"vous\", \"elles/ils\"], [\"appelle\", \"appelles\", \"appelle\", \"appelons\", \"appelez\", \"appellent\"]]}, \"columnorder\": [1, 2, 3], \"columnwidth\": [10, 10], \"header\": {\"align\": [\"center\", \"center\"], \"fill\": {\"color\": \"rgb(0,35,48)\"}, \"font\": {\"color\": \"white\", \"size\": 16}, \"height\": 40, \"line\": {\"color\": \"rgb(0,0,0)\"}, \"values\": [\"Pronoun\", \"Conjugation\"]}, \"type\": \"table\", \"uid\": \"987716d0-cb6c-11e8-8b31-0242ac110004\"}], {\"height\": 450, \"width\": 500}, {\"showLink\": true, \"linkText\": \"Export to plot.ly\"})});</script>"
      ]
     },
     "metadata": {},
     "output_type": "display_data"
    }
   ],
   "source": [
    "conjug = ['appelle','appelles','appelle','appelons','appelez','appellent']\n",
    "\n",
    "trace0 = go.Table(\n",
    "  columnorder = [1,2,3],\n",
    "  columnwidth = [10,10],\n",
    "  header = dict(\n",
    "    values = ['Pronoun','Conjugation'],\n",
    "    line = dict(color = 'rgb(0,0,0)'),\n",
    "    fill = dict(color = 'rgb(0,35,48)'),\n",
    "    align = ['center','center'],\n",
    "    font = dict(color = 'white', size = 16),\n",
    "    height = 40\n",
    "  ),\n",
    "  cells = dict(\n",
    "    values = [french,conjug],\n",
    "    line = dict(color = 'black'),\n",
    "    fill = dict(color = 'rgb(95,102,161)'),\n",
    "    align = ['center', 'center'],\n",
    "    font = dict(color = 'white', size = 14),\n",
    "    height = 30\n",
    "    )\n",
    ")\n",
    "layout = dict(width=500, height=450)\n",
    "\n",
    "data = [trace0]\n",
    "fig = dict(data = data, layout = layout)\n",
    "\n",
    "iplot(fig)"
   ]
  },
  {
   "cell_type": "markdown",
   "metadata": {
    "hidden": false
   },
   "source": [
    "It's important to be aware of these exceptions, as you will be able to identify patterns in verbs of these forms and the exceptions themselves, like how it doesn't apply for nous and vous. Knowledge of the exceptions is crucial to mastering the language!\n",
    "\n",
    "Below is a conjugator, select a mode and tense to conjugate in and then type in the verb you'd like to conjugate."
   ]
  },
  {
   "cell_type": "code",
   "execution_count": 56,
   "metadata": {
    "hidden": false
   },
   "outputs": [
    {
     "data": {
      "application/vnd.jupyter.widget-view+json": {
       "model_id": "128a028118a146aa898d4ebc684a1139",
       "version_major": 2,
       "version_minor": 0
      },
      "text/html": [
       "<p>Failed to display Jupyter Widget of type <code>Dropdown</code>.</p>\n",
       "<p>\n",
       "  If you're reading this message in the Jupyter Notebook or JupyterLab Notebook, it may mean\n",
       "  that the widgets JavaScript is still loading. If this message persists, it\n",
       "  likely means that the widgets JavaScript library is either not installed or\n",
       "  not enabled. See the <a href=\"https://ipywidgets.readthedocs.io/en/stable/user_install.html\">Jupyter\n",
       "  Widgets Documentation</a> for setup instructions.\n",
       "</p>\n",
       "<p>\n",
       "  If you're reading this message in another frontend (for example, a static\n",
       "  rendering on GitHub or <a href=\"https://nbviewer.jupyter.org/\">NBViewer</a>),\n",
       "  it may mean that your frontend doesn't currently support widgets.\n",
       "</p>\n"
      ],
      "text/plain": [
       "Dropdown(description='Mode:', index=4, options=('Conditionnel', 'Imperatif', 'Indicatif', 'Participe', 'Subjonctif'), value='Subjonctif')"
      ]
     },
     "metadata": {},
     "output_type": "display_data"
    },
    {
     "data": {
      "application/javascript": [
       "IPython.notebook.execute_cell_range(IPython.notebook.get_selected_index()+1,    IPython.notebook.get_selected_index()+2)"
      ],
      "text/plain": [
       "<IPython.core.display.Javascript object>"
      ]
     },
     "metadata": {},
     "output_type": "display_data"
    }
   ],
   "source": [
    "import warnings\n",
    "\n",
    "#textbox widgets for general conjugator\n",
    "verb_in = widgets.Text(value = 'Enter a verb')\n",
    "\n",
    "#button to execute next cell to run conjugator\n",
    "button = widgets.Button(description=\"Conjugate\", \n",
    "                         layout = Layout(width='30%', height='60px'),\n",
    "                         button_style = 'info'\n",
    "\n",
    ")\n",
    "\n",
    "#These are the conjugation options for the different verb modes\n",
    "ops0 = [\"Présent\"]\n",
    "ops1 = [\"Imperatif Présent\"]\n",
    "ops2 = [\"Futur\",\"Imparfait\",\"Passé Simple\",\"Présent\"]\n",
    "ops3 = [\"Participe Passé\", \"Participe Présent\"]\n",
    "ops4 = [\"Imparfait\",\"Présent\"]\n",
    "ops = [ops0,ops1,ops2,ops3,ops4]\n",
    "options = ['Conditionnel', 'Imperatif', 'Indicatif',\n",
    "             'Participe','Subjonctif']\n",
    "\n",
    "mode = widgets.Dropdown(\n",
    "    options = options,\n",
    "    value='Indicatif',\n",
    "    description='Mode:',\n",
    "    disabled=False,\n",
    ")\n",
    "\n",
    "def mode_callback(sender):\n",
    "    clear_output()\n",
    "    display(mode)\n",
    "    display(Javascript('IPython.notebook.execute_cell_range(IPython.notebook.get_selected_index()+1,\\\n",
    "    IPython.notebook.get_selected_index()+2)'))\n",
    "    return\n",
    "\n",
    "mode.observe(mode_callback)\n",
    "\n",
    "display(mode)\n",
    "\n",
    "def button_click(b):\n",
    "    display(Javascript('IPython.notebook.execute_cell_range(IPython.notebook.get_selected_index()+1,\\\n",
    "    IPython.notebook.get_selected_index()+2)'))\n",
    "    \n",
    "button.on_click(button_click)\n",
    "\n",
    "warnings.filterwarnings('ignore')"
   ]
  },
  {
   "cell_type": "code",
   "execution_count": 62,
   "metadata": {
    "hidden": false
   },
   "outputs": [
    {
     "data": {
      "application/vnd.jupyter.widget-view+json": {
       "model_id": "4bae39f40f1548b187affe2585c79fde",
       "version_major": 2,
       "version_minor": 0
      },
      "text/html": [
       "<p>Failed to display Jupyter Widget of type <code>Dropdown</code>.</p>\n",
       "<p>\n",
       "  If you're reading this message in the Jupyter Notebook or JupyterLab Notebook, it may mean\n",
       "  that the widgets JavaScript is still loading. If this message persists, it\n",
       "  likely means that the widgets JavaScript library is either not installed or\n",
       "  not enabled. See the <a href=\"https://ipywidgets.readthedocs.io/en/stable/user_install.html\">Jupyter\n",
       "  Widgets Documentation</a> for setup instructions.\n",
       "</p>\n",
       "<p>\n",
       "  If you're reading this message in another frontend (for example, a static\n",
       "  rendering on GitHub or <a href=\"https://nbviewer.jupyter.org/\">NBViewer</a>),\n",
       "  it may mean that your frontend doesn't currently support widgets.\n",
       "</p>\n"
      ],
      "text/plain": [
       "Dropdown(description='Tense:', options=('Imparfait', 'Présent'), value='Imparfait')"
      ]
     },
     "metadata": {},
     "output_type": "display_data"
    },
    {
     "data": {
      "application/vnd.jupyter.widget-view+json": {
       "model_id": "3b7137065b2947b4b8631e8ed3a2926b",
       "version_major": 2,
       "version_minor": 0
      },
      "text/html": [
       "<p>Failed to display Jupyter Widget of type <code>Text</code>.</p>\n",
       "<p>\n",
       "  If you're reading this message in the Jupyter Notebook or JupyterLab Notebook, it may mean\n",
       "  that the widgets JavaScript is still loading. If this message persists, it\n",
       "  likely means that the widgets JavaScript library is either not installed or\n",
       "  not enabled. See the <a href=\"https://ipywidgets.readthedocs.io/en/stable/user_install.html\">Jupyter\n",
       "  Widgets Documentation</a> for setup instructions.\n",
       "</p>\n",
       "<p>\n",
       "  If you're reading this message in another frontend (for example, a static\n",
       "  rendering on GitHub or <a href=\"https://nbviewer.jupyter.org/\">NBViewer</a>),\n",
       "  it may mean that your frontend doesn't currently support widgets.\n",
       "</p>\n"
      ],
      "text/plain": [
       "Text(value='aller')"
      ]
     },
     "metadata": {},
     "output_type": "display_data"
    },
    {
     "data": {
      "application/vnd.jupyter.widget-view+json": {
       "model_id": "e3557d4e2f6c4931a49ac30c055a71a1",
       "version_major": 2,
       "version_minor": 0
      },
      "text/html": [
       "<p>Failed to display Jupyter Widget of type <code>Button</code>.</p>\n",
       "<p>\n",
       "  If you're reading this message in the Jupyter Notebook or JupyterLab Notebook, it may mean\n",
       "  that the widgets JavaScript is still loading. If this message persists, it\n",
       "  likely means that the widgets JavaScript library is either not installed or\n",
       "  not enabled. See the <a href=\"https://ipywidgets.readthedocs.io/en/stable/user_install.html\">Jupyter\n",
       "  Widgets Documentation</a> for setup instructions.\n",
       "</p>\n",
       "<p>\n",
       "  If you're reading this message in another frontend (for example, a static\n",
       "  rendering on GitHub or <a href=\"https://nbviewer.jupyter.org/\">NBViewer</a>),\n",
       "  it may mean that your frontend doesn't currently support widgets.\n",
       "</p>\n"
      ],
      "text/plain": [
       "Button(button_style='info', description='Conjugate', layout=Layout(height='60px', width='30%'), style=ButtonStyle())"
      ]
     },
     "metadata": {},
     "output_type": "display_data"
    },
    {
     "data": {
      "application/javascript": [
       "IPython.notebook.execute_cell_range(IPython.notebook.get_selected_index()+1,    IPython.notebook.get_selected_index()+2)"
      ],
      "text/plain": [
       "<IPython.core.display.Javascript object>"
      ]
     },
     "metadata": {},
     "output_type": "display_data"
    }
   ],
   "source": [
    "for i in options:\n",
    "    if mode.value == i:\n",
    "        tense = widgets.Dropdown(\n",
    "        options = ops[options.index(i)],\n",
    "        description='Tense:',\n",
    "        disabled=False)\n",
    "display(tense,verb_in,button)"
   ]
  },
  {
   "cell_type": "code",
   "execution_count": 65,
   "metadata": {
    "hidden": false
   },
   "outputs": [
    {
     "data": {
      "application/vnd.plotly.v1+json": {
       "data": [
        {
         "cells": {
          "align": [
           "center",
           "center"
          ],
          "fill": {
           "color": "rgb(95,102,161)"
          },
          "font": {
           "color": "white",
           "size": 14
          },
          "height": 30,
          "line": {
           "color": "black"
          },
          "values": [
           [
            "j'",
            "tu",
            "elle/il/on",
            "nous",
            "vous",
            "elles/ils"
           ],
           [
            "allasse",
            "allasses",
            "allât",
            "allassions",
            "allassiez",
            "allassent"
           ]
          ]
         },
         "columnorder": [
          1,
          2,
          3
         ],
         "columnwidth": [
          10,
          10
         ],
         "header": {
          "align": [
           "center",
           "center"
          ],
          "fill": {
           "color": "rgb(0,35,48)"
          },
          "font": {
           "color": "white",
           "size": 16
          },
          "height": 40,
          "line": {
           "color": "rgb(0,0,0)"
          },
          "values": [
           "Pronoun",
           "Conjugation"
          ]
         },
         "type": "table",
         "uid": "4b59d968-cb6d-11e8-8b31-0242ac110004"
        }
       ],
       "layout": {
        "height": 450,
        "width": 500
       }
      },
      "text/html": [
       "<div id=\"01579345-7e5f-4579-9e8c-060f2b1f2095\" style=\"height: 450px; width: 500px;\" class=\"plotly-graph-div\"></div><script type=\"text/javascript\">require([\"plotly\"], function(Plotly) { window.PLOTLYENV=window.PLOTLYENV || {};window.PLOTLYENV.BASE_URL=\"https://plot.ly\";Plotly.newPlot(\"01579345-7e5f-4579-9e8c-060f2b1f2095\", [{\"cells\": {\"align\": [\"center\", \"center\"], \"fill\": {\"color\": \"rgb(95,102,161)\"}, \"font\": {\"color\": \"white\", \"size\": 14}, \"height\": 30, \"line\": {\"color\": \"black\"}, \"values\": [[\"j'\", \"tu\", \"elle/il/on\", \"nous\", \"vous\", \"elles/ils\"], [\"allasse\", \"allasses\", \"all\\u00e2t\", \"allassions\", \"allassiez\", \"allassent\"]]}, \"columnorder\": [1, 2, 3], \"columnwidth\": [10, 10], \"header\": {\"align\": [\"center\", \"center\"], \"fill\": {\"color\": \"rgb(0,35,48)\"}, \"font\": {\"color\": \"white\", \"size\": 16}, \"height\": 40, \"line\": {\"color\": \"rgb(0,0,0)\"}, \"values\": [\"Pronoun\", \"Conjugation\"]}, \"type\": \"table\", \"uid\": \"4b5f0fbe-cb6d-11e8-8b31-0242ac110004\"}], {\"height\": 450, \"width\": 500}, {\"showLink\": true, \"linkText\": \"Export to plot.ly\"})});</script>"
      ],
      "text/vnd.plotly.v1+html": [
       "<div id=\"01579345-7e5f-4579-9e8c-060f2b1f2095\" style=\"height: 450px; width: 500px;\" class=\"plotly-graph-div\"></div><script type=\"text/javascript\">require([\"plotly\"], function(Plotly) { window.PLOTLYENV=window.PLOTLYENV || {};window.PLOTLYENV.BASE_URL=\"https://plot.ly\";Plotly.newPlot(\"01579345-7e5f-4579-9e8c-060f2b1f2095\", [{\"cells\": {\"align\": [\"center\", \"center\"], \"fill\": {\"color\": \"rgb(95,102,161)\"}, \"font\": {\"color\": \"white\", \"size\": 14}, \"height\": 30, \"line\": {\"color\": \"black\"}, \"values\": [[\"j'\", \"tu\", \"elle/il/on\", \"nous\", \"vous\", \"elles/ils\"], [\"allasse\", \"allasses\", \"all\\u00e2t\", \"allassions\", \"allassiez\", \"allassent\"]]}, \"columnorder\": [1, 2, 3], \"columnwidth\": [10, 10], \"header\": {\"align\": [\"center\", \"center\"], \"fill\": {\"color\": \"rgb(0,35,48)\"}, \"font\": {\"color\": \"white\", \"size\": 16}, \"height\": 40, \"line\": {\"color\": \"rgb(0,0,0)\"}, \"values\": [\"Pronoun\", \"Conjugation\"]}, \"type\": \"table\", \"uid\": \"4b5f0fbe-cb6d-11e8-8b31-0242ac110004\"}], {\"height\": 450, \"width\": 500}, {\"showLink\": true, \"linkText\": \"Export to plot.ly\"})});</script>"
      ]
     },
     "metadata": {},
     "output_type": "display_data"
    }
   ],
   "source": [
    "if verb_in.value != 'Enter a verb':\n",
    "    verb = verb_in.value\n",
    "    # To use mlconjug with the default parameters and a pre-trained conjugation model.\n",
    "    default_conjugator = mlconjug.Conjugator(language='fr')\n",
    "\n",
    "    # Verify that the model works, list since the output is an ordered dictionary that I want to index.\n",
    "    #conjug is a function of the user inputs\n",
    "    conjug = list(default_conjugator.conjugate(verb).conjug_info[mode.value][tense.value].items())\n",
    "    v = []\n",
    "    for i in range(0,len(conjug)):\n",
    "        v.append(conjug[i][1])\n",
    "    \n",
    "    vowels = 'aeiouy'\n",
    "    pronoun = [\"je\",'tu','elle/il/on','nous','vous','elles/ils']\n",
    "    \n",
    "    #if the verb starts with a vowel then je becomes j'\n",
    "    if v[0][0] in vowels:\n",
    "        pronoun = [\"j'\",'tu','elle/il/on','nous','vous','elles/ils']\n",
    "        \n",
    "            \n",
    "    \n",
    "    trace0 = go.Table(\n",
    "      columnorder = [1,2,3],\n",
    "      columnwidth = [10,10],\n",
    "      header = dict(\n",
    "        values = ['Pronoun','Conjugation'],\n",
    "        line = dict(color = 'rgb(0,0,0)'),\n",
    "        fill = dict(color = 'rgb(0,35,48)'),\n",
    "        align = ['center','center'],\n",
    "        font = dict(color = 'white', size = 16),\n",
    "        height = 40\n",
    "      ),\n",
    "      cells = dict(\n",
    "        values = [pronoun,v],\n",
    "        line = dict(color = 'black'),\n",
    "        fill = dict(color = 'rgb(95,102,161)'),\n",
    "        align = ['center', 'center'],\n",
    "        font = dict(color = 'white', size = 14),\n",
    "        height = 30\n",
    "        )\n",
    "    )\n",
    "    layout = dict(width=500, height=450)\n",
    "    data = [trace0]\n",
    "    fig = dict(data = data, layout = layout)\n",
    "    iplot(fig)\n",
    "    "
   ]
  },
  {
   "cell_type": "markdown",
   "metadata": {
    "hidden": false
   },
   "source": [
    "## Coding Examples\n",
    "\n",
    "---\n",
    "\n",
    "How could one write code to see if someone conjugated a verb correctly? The following exercise will test your knowledge of french verb conjugation and also introduce you to some aspects of coding. \n",
    "\n",
    "Let's start this with an example. I ask you to input an answer to: \"conjugate fermer to the first person singular in the present tense\". How do I check whether or not you input the correct answer?\n",
    "\n",
    "Firstly, to get a user to input a value, we create a *variable* that holds the user input:\n",
    "\n",
    "``` python \n",
    "x = input()\n",
    "```\n",
    "The variable x is a *string*, which a finite sequence of characters, or in English, a word. This will be what we use to check against the correct answer. In our case, the correct answer is \"ferme\". To check if the answer is correct we will employ an `if` statement, which will then `print` a message:\n",
    "\n",
    "``` python \n",
    "if x == 'ferme':\n",
    "    print('Correct')\n",
    "if x != 'ferme':\n",
    "    print('Incorrect')\n",
    "```\n",
    "\n",
    "This deserves some unpacking.\n",
    "\n",
    "- We used the quotations around the answer (`'ferme'`) as this is how python recognizes strings. Since our variable x was held as a string we want to check it against something that is itself a string. \n",
    "- If you want to check that the variable is equal to the correct answer we used ==.\n",
    "- If the answer was incorrect we used !=, which means does not equal (like $\\ne$).\n",
    "- The `print` statement was the operation that we chose to do when the `if` statement was fulfilled. \n",
    "- The if statement requires the colon at the end of the statement and whatever operation you choose to perform given that the statement is fulfilled needs to be indented within the statement. "
   ]
  },
  {
   "cell_type": "code",
   "execution_count": 64,
   "metadata": {
    "hidden": false
   },
   "outputs": [],
   "source": [
    "#perhaps show how this work for a different verb and subject."
   ]
  },
  {
   "cell_type": "markdown",
   "metadata": {
    "hidden": false
   },
   "source": [
    "### Generalizing\n",
    "\n",
    "--- \n",
    "\n",
    "Code that has multiple uses, which is more broad, is typically a lot more valuable. In our case, how could we write a program that check the correct answer for any verb, tense, and personal pronoun. This would be a generalization of the simple case that we constructed above. This is a lot more of a complex problem that will have to be broken down. \n",
    "\n",
    "The exercise will be: Conjugate the verb \"___ -er\" in the present tense in every subject. \n",
    "\n",
    "Since we have knowledge of the endings for \"-er\" verbs in the present tense, our problem reduces to analyzing if each of their answers fits the form that the conjugated verb should take in that subject. Steps we require then:\n",
    "\n",
    "1. We need to extract the root from each verb.\n",
    "2. See if the remainder of the verb has the correct terminaison.\n",
    "3. Make sure all answers are correct. \n",
    "\n",
    "To achieve this we will employing the use of a *list*. A list is a data type which has some sort of ordering to it. The ordering gives us the means to *index* an *element* of the list. For example, we have the list:\n",
    "\n",
    "```python\n",
    "subjects = ['je','tu','il/elle/on','nous','vous','ils/elles']\n",
    "```\n",
    "(Note the square brackets)\n",
    "\n",
    "\"subjects\" is a comma separated list of string objects. We can do things like index the list:\n",
    "\n",
    "```python \n",
    "subjects[0] = 'je'\n",
    "subjects[1] = 'tu'\n",
    "subjects[2] = 'il/elle/on'\n",
    "```\n",
    "Notice how the indexing starts from 0. This means if you have **n** elements in a list `v`, and you want to index the last element of the list, you would write `v[n-1]`.\n",
    "\n",
    "What is the value of `subjects[4]`?"
   ]
  },
  {
   "cell_type": "code",
   "execution_count": 13,
   "metadata": {
    "hidden": false
   },
   "outputs": [
    {
     "data": {
      "application/vnd.jupyter.widget-view+json": {
       "model_id": "c50eb57216f042d9a07d429e13764f0e",
       "version_major": 2,
       "version_minor": 0
      },
      "text/html": [
       "<p>Failed to display Jupyter Widget of type <code>Text</code>.</p>\n",
       "<p>\n",
       "  If you're reading this message in the Jupyter Notebook or JupyterLab Notebook, it may mean\n",
       "  that the widgets JavaScript is still loading. If this message persists, it\n",
       "  likely means that the widgets JavaScript library is either not installed or\n",
       "  not enabled. See the <a href=\"https://ipywidgets.readthedocs.io/en/stable/user_install.html\">Jupyter\n",
       "  Widgets Documentation</a> for setup instructions.\n",
       "</p>\n",
       "<p>\n",
       "  If you're reading this message in another frontend (for example, a static\n",
       "  rendering on GitHub or <a href=\"https://nbviewer.jupyter.org/\">NBViewer</a>),\n",
       "  it may mean that your frontend doesn't currently support widgets.\n",
       "</p>\n"
      ],
      "text/plain": [
       "Text(value='')"
      ]
     },
     "metadata": {},
     "output_type": "display_data"
    }
   ],
   "source": [
    "#Simple list test\n",
    "\n",
    "a = widgets.Text(value = None)\n",
    "display(a)\n",
    "\n",
    "def callback(sender):\n",
    "    clear_output()\n",
    "    display(a)\n",
    "    if a.value != None:\n",
    "        if a.value == \"'vous'\":\n",
    "            print('Correct!')\n",
    "        if a.value != \"'vous'\":\n",
    "            print('Incorrect, please try again. Make sure you input in a string format.')\n",
    "    return\n",
    "\n",
    "a.on_submit(callback)\n"
   ]
  },
  {
   "cell_type": "markdown",
   "metadata": {
    "hidden": false
   },
   "source": [
    "A more useful list to us would be:\n",
    "\n",
    "``` python\n",
    "\n",
    "endings = ['e','es','e','ons','ez','ent']\n",
    "\n",
    "```\n",
    "\n",
    "These are the verb endings given for conjugating \"-er\" verbs in the present tense. Now we just need to some means of analyzing their answer to see if they used the right ending. \n",
    "\n",
    "Say that we store all of their answers in a list like:\n",
    "\n",
    "```python\n",
    "answers = ['x1','x2','x3','x4','x5','x6']\n",
    "```\n",
    "This elements of the list, labelled \"x1,x2,..\" are variables, which are themselves strings. Their position in the list indicates which subject they were trying to conjugate to, i.e. x1 $\\rightarrow$ 'je'. The convenience of storing the answers like this will become apparent soon.\n",
    "\n",
    "If we wanted to perform a simple check, say whether or not they simply got the correct form, and not necessarily the correct spelling, we would use the following:\n",
    "\n",
    "```python\n",
    "for i in range(0,6):\n",
    "    \n",
    "    n = len(endings[i])\n",
    "    if answers[i][-n:] != endings[i]:\n",
    "        print('Incorrect')\n",
    "```\n",
    "**What does this do?**\n",
    "\n",
    "This short little piece of code checks to see if they got the right ending. Let's look at some the tools that it uses.\n",
    "\n",
    "**What does the `for` statement do?**\n",
    "```python\n",
    "for i in range(0,6):\n",
    "```\n",
    "This is another essential programming tool known as the `for` loop. Within the `for` loop, the indented code block is executed, then the next iteration of the loop is performed, in our case $i \\mapsto i+1$, and this continues until all iterations are done. It provides a means of counting or iterating through a process. In our case we want to iterate over every element in the list and perform the check in the `if` statement.\n",
    "\n",
    "**The `if` statement**\n",
    "\n",
    "Again we used the \"!=\" to see if two strings are not equal to each other. Firstly, we have declared a variable in the loop:\n",
    "```python\n",
    "n = len(endings[i])\n",
    "```\n",
    "This is simply the length of the ending. So for `endings[5]`, `n = 3`. This gives us a way of checking the last letters of the respective answer. We accomplish by using:\n",
    "\n",
    "```python\n",
    "answers[i][-n:]\n",
    "```\n",
    "The first index, `answers[i]` gives us the `i+1` element of the list answers (since we begin indexing from 0). e.g. `answers[3] = 'x4'`. The second index we used, `answers[i][-n:]`, indexes the element of the list. How are we indexing an already indexed list you might ask? Well, this is because a string is conveniently broken up into the characters that make it up. This gives us a way of indexing any \"letter\" of the string. For example, if `x1 = 'mange'` then `x1[3] = 'g'`. This is very nice for us, since we can employ this to check the ending of their answers. To index the last element of a string, or a list, we use the negative. e.g. `x1[-1] = 'e'`. To take out an entire section of a list or string we used \"slice notation\", this is why there is the extra colon. e.g. `x1[-3:] = 'nge'`. In our case we only wanted to index the last `n` letters of the string because this is the amount of letters in the ending that we wanted to check against. If all the answers were correct then the entire `for` loop would run and the `if` statement would never be fulfilled!\n",
    "\n",
    "----\n",
    "\n",
    "\n",
    "Now this was quite a bit of information, so let's test your knowledge on what we've done so far and then we'll work on generalizing this further for a different case.\n",
    "\n",
    "For the lists:\n",
    "\n",
    "```python \n",
    "endings = ['e','es','e','ons','ez','ent']\n",
    "answers = ['mange','manges','mange','mangeons','manger','mangent']\n",
    "```"
   ]
  },
  {
   "cell_type": "code",
   "execution_count": 14,
   "metadata": {
    "hidden": false
   },
   "outputs": [
    {
     "data": {
      "text/markdown": [
       "Which element of answers is incorrect? Use index notation to express your response"
      ],
      "text/plain": [
       "<IPython.core.display.Markdown object>"
      ]
     },
     "metadata": {},
     "output_type": "display_data"
    },
    {
     "data": {
      "application/vnd.jupyter.widget-view+json": {
       "model_id": "d46bde779c4341c4bd5cbb2169e37dc3",
       "version_major": 2,
       "version_minor": 0
      },
      "text/html": [
       "<p>Failed to display Jupyter Widget of type <code>Text</code>.</p>\n",
       "<p>\n",
       "  If you're reading this message in the Jupyter Notebook or JupyterLab Notebook, it may mean\n",
       "  that the widgets JavaScript is still loading. If this message persists, it\n",
       "  likely means that the widgets JavaScript library is either not installed or\n",
       "  not enabled. See the <a href=\"https://ipywidgets.readthedocs.io/en/stable/user_install.html\">Jupyter\n",
       "  Widgets Documentation</a> for setup instructions.\n",
       "</p>\n",
       "<p>\n",
       "  If you're reading this message in another frontend (for example, a static\n",
       "  rendering on GitHub or <a href=\"https://nbviewer.jupyter.org/\">NBViewer</a>),\n",
       "  it may mean that your frontend doesn't currently support widgets.\n",
       "</p>\n"
      ],
      "text/plain": [
       "Text(value='')"
      ]
     },
     "metadata": {},
     "output_type": "display_data"
    },
    {
     "data": {
      "text/markdown": [
       "What part should be changed? Use the double index notation, i.e. ` answers[][]`"
      ],
      "text/plain": [
       "<IPython.core.display.Markdown object>"
      ]
     },
     "metadata": {},
     "output_type": "display_data"
    },
    {
     "data": {
      "application/vnd.jupyter.widget-view+json": {
       "model_id": "1dcc73a63951425a9e42f2666a264815",
       "version_major": 2,
       "version_minor": 0
      },
      "text/html": [
       "<p>Failed to display Jupyter Widget of type <code>Text</code>.</p>\n",
       "<p>\n",
       "  If you're reading this message in the Jupyter Notebook or JupyterLab Notebook, it may mean\n",
       "  that the widgets JavaScript is still loading. If this message persists, it\n",
       "  likely means that the widgets JavaScript library is either not installed or\n",
       "  not enabled. See the <a href=\"https://ipywidgets.readthedocs.io/en/stable/user_install.html\">Jupyter\n",
       "  Widgets Documentation</a> for setup instructions.\n",
       "</p>\n",
       "<p>\n",
       "  If you're reading this message in another frontend (for example, a static\n",
       "  rendering on GitHub or <a href=\"https://nbviewer.jupyter.org/\">NBViewer</a>),\n",
       "  it may mean that your frontend doesn't currently support widgets.\n",
       "</p>\n"
      ],
      "text/plain": [
       "Text(value='')"
      ]
     },
     "metadata": {},
     "output_type": "display_data"
    },
    {
     "data": {
      "text/markdown": [
       "What should the ending be? Use index notation again."
      ],
      "text/plain": [
       "<IPython.core.display.Markdown object>"
      ]
     },
     "metadata": {},
     "output_type": "display_data"
    },
    {
     "data": {
      "application/vnd.jupyter.widget-view+json": {
       "model_id": "64c9b9f5f72946cc8739c5def66c820d",
       "version_major": 2,
       "version_minor": 0
      },
      "text/html": [
       "<p>Failed to display Jupyter Widget of type <code>Text</code>.</p>\n",
       "<p>\n",
       "  If you're reading this message in the Jupyter Notebook or JupyterLab Notebook, it may mean\n",
       "  that the widgets JavaScript is still loading. If this message persists, it\n",
       "  likely means that the widgets JavaScript library is either not installed or\n",
       "  not enabled. See the <a href=\"https://ipywidgets.readthedocs.io/en/stable/user_install.html\">Jupyter\n",
       "  Widgets Documentation</a> for setup instructions.\n",
       "</p>\n",
       "<p>\n",
       "  If you're reading this message in another frontend (for example, a static\n",
       "  rendering on GitHub or <a href=\"https://nbviewer.jupyter.org/\">NBViewer</a>),\n",
       "  it may mean that your frontend doesn't currently support widgets.\n",
       "</p>\n"
      ],
      "text/plain": [
       "Text(value='')"
      ]
     },
     "metadata": {},
     "output_type": "display_data"
    },
    {
     "data": {
      "text/markdown": [
       "If I wanted to check the first three answers, how would the for loop initial statement look like?         Please use `i` as the index."
      ],
      "text/plain": [
       "<IPython.core.display.Markdown object>"
      ]
     },
     "metadata": {},
     "output_type": "display_data"
    },
    {
     "data": {
      "application/vnd.jupyter.widget-view+json": {
       "model_id": "a56e738c6cf24ed8b645c3887652bab3",
       "version_major": 2,
       "version_minor": 0
      },
      "text/html": [
       "<p>Failed to display Jupyter Widget of type <code>Text</code>.</p>\n",
       "<p>\n",
       "  If you're reading this message in the Jupyter Notebook or JupyterLab Notebook, it may mean\n",
       "  that the widgets JavaScript is still loading. If this message persists, it\n",
       "  likely means that the widgets JavaScript library is either not installed or\n",
       "  not enabled. See the <a href=\"https://ipywidgets.readthedocs.io/en/stable/user_install.html\">Jupyter\n",
       "  Widgets Documentation</a> for setup instructions.\n",
       "</p>\n",
       "<p>\n",
       "  If you're reading this message in another frontend (for example, a static\n",
       "  rendering on GitHub or <a href=\"https://nbviewer.jupyter.org/\">NBViewer</a>),\n",
       "  it may mean that your frontend doesn't currently support widgets.\n",
       "</p>\n"
      ],
      "text/plain": [
       "Text(value='')"
      ]
     },
     "metadata": {},
     "output_type": "display_data"
    }
   ],
   "source": [
    "display(Markdown('Which element of answers is incorrect? Use index notation to express your response'))\n",
    "\n",
    "ans1 = widgets.Text(value = None)\n",
    "display(ans1)\n",
    "\n",
    "def callback1(sender):\n",
    "    if ans1.value != None:\n",
    "        clear_output()\n",
    "        display(Markdown('Which element of answers is incorrect? Use index notation to express your response.'))\n",
    "        display(ans1)\n",
    "        if ans1.value == 'answers[4]' or ans1.value == 'answers[-2]':\n",
    "            display(Markdown('Correct!'))\n",
    "        else:\n",
    "            display(Markdown('Not quite! Please try again.'))\n",
    "    return\n",
    "\n",
    "ans1.on_submit(callback1)\n",
    "\n",
    "display(Markdown(\"What part should be changed? Use the double index notation, i.e. ` answers[][]`\"))\n",
    "ans2 = widgets.Text(value = None)\n",
    "display(ans2)\n",
    "\n",
    "def callback2(sender):\n",
    "    if ans2.value != None:\n",
    "        clear_output()\n",
    "        display(Markdown(\"What part should be changed? Use the double index notation, i.e. ` answers[][]`\"))\n",
    "        display(ans2)\n",
    "        if ans2.value == 'answers[4][4:]' or 'answers[4][-2:]':\n",
    "            display(Markdown('Correct!'))\n",
    "        else:\n",
    "            display(Markdown('Not quite! Please try again.'))\n",
    "        return\n",
    "    \n",
    "ans2.on_submit(callback2)\n",
    "\n",
    "display(Markdown('What should the ending be? Use index notation again.'))\n",
    "ans3 = widgets.Text(value = None)\n",
    "display(ans3)\n",
    "\n",
    "def callback3(sender):\n",
    "    \n",
    "    if ans3.value != None:\n",
    "        clear_output()\n",
    "        display(Markdown(\"What should be the ending? Use index notation again.\"))\n",
    "        display(ans3)\n",
    "        if ans3.value == 'endings[4]' or 'endings[-2]':\n",
    "            display(Markdown('Correct!'))\n",
    "        else:\n",
    "            display(Markdown('Not quite! Please try again.'))\n",
    "        return\n",
    "    \n",
    "ans3.on_submit(callback3)\n",
    "\n",
    "display(Markdown(\"If I wanted to check the first three answers, how would the for loop initial statement look like? \\\n",
    "        Please use `i` as the index.\"))\n",
    "ans4 = widgets.Text(value = None)\n",
    "display(ans4)\n",
    "\n",
    "def callback4(sender):\n",
    "    \n",
    "    if ans4.value != None:\n",
    "        clear_output()\n",
    "        display(Markdown(\"If I wanted to check the first three answers, \\\n",
    "        how would the for loop initial statement look like? Please use `i` as the index.\"))\n",
    "        display(ans3)\n",
    "        if an4.value == 'for i in range(0,2):':\n",
    "            display(Markdown('Correct!'))\n",
    "        else:\n",
    "            display(Markdown(\"Not quite! Please try again. Don't forget the colon :)\"))\n",
    "\n",
    "    return\n",
    "ans4.on_submit(callback4)"
   ]
  },
  {
   "cell_type": "markdown",
   "metadata": {
    "hidden": false
   },
   "source": [
    "---\n",
    "## \"-ir\" verbs\n",
    "\n",
    "Let's use some of these tools to build a conjugation checker for \"-ir\" verbs in the present tense. Here are the forms of the endings should take for the verb finir (to finish), this generalizes to most other \"-ir\" verbs (there are always exceptions...):"
   ]
  },
  {
   "cell_type": "code",
   "execution_count": 15,
   "metadata": {
    "hidden": false
   },
   "outputs": [
    {
     "data": {
      "application/vnd.plotly.v1+json": {
       "data": [
        {
         "cells": {
          "align": [
           "center",
           "center"
          ],
          "fill": {
           "color": "rgb(95,102,161)"
          },
          "font": {
           "color": "white",
           "size": 14
          },
          "height": 30,
          "line": {
           "color": "black"
          },
          "values": [
           [
            "je",
            "tu",
            "elle/il/on",
            "nous",
            "vous",
            "elles/ils"
           ],
           [
            "fin-",
            "fin-",
            "fin-",
            "fin-",
            "fin-",
            "fin-"
           ],
           [
            "is",
            "is",
            "it",
            "issons",
            "issez",
            "issent"
           ]
          ]
         },
         "columnorder": [
          1,
          2,
          3
         ],
         "columnwidth": [
          10,
          10
         ],
         "header": {
          "align": [
           "center",
           "center"
          ],
          "fill": {
           "color": "rgb(0,35,48)"
          },
          "font": {
           "color": "white",
           "size": 16
          },
          "height": 40,
          "line": {
           "color": "rgb(0,0,0)"
          },
          "values": [
           "Pronoun",
           "Stem",
           "Ending"
          ]
         },
         "type": "table",
         "uid": "98b7419c-cb6c-11e8-8b31-0242ac110004"
        }
       ],
       "layout": {
        "height": 450,
        "width": 500
       }
      },
      "text/html": [
       "<div id=\"5dbab9b0-a1de-42d0-8860-0a08a97513cb\" style=\"height: 450px; width: 500px;\" class=\"plotly-graph-div\"></div><script type=\"text/javascript\">require([\"plotly\"], function(Plotly) { window.PLOTLYENV=window.PLOTLYENV || {};window.PLOTLYENV.BASE_URL=\"https://plot.ly\";Plotly.newPlot(\"5dbab9b0-a1de-42d0-8860-0a08a97513cb\", [{\"cells\": {\"align\": [\"center\", \"center\"], \"fill\": {\"color\": \"rgb(95,102,161)\"}, \"font\": {\"color\": \"white\", \"size\": 14}, \"height\": 30, \"line\": {\"color\": \"black\"}, \"values\": [[\"je\", \"tu\", \"elle/il/on\", \"nous\", \"vous\", \"elles/ils\"], [\"fin-\", \"fin-\", \"fin-\", \"fin-\", \"fin-\", \"fin-\"], [\"is\", \"is\", \"it\", \"issons\", \"issez\", \"issent\"]]}, \"columnorder\": [1, 2, 3], \"columnwidth\": [10, 10], \"header\": {\"align\": [\"center\", \"center\"], \"fill\": {\"color\": \"rgb(0,35,48)\"}, \"font\": {\"color\": \"white\", \"size\": 16}, \"height\": 40, \"line\": {\"color\": \"rgb(0,0,0)\"}, \"values\": [\"Pronoun\", \"Stem\", \"Ending\"]}, \"type\": \"table\", \"uid\": \"98c2cb2a-cb6c-11e8-8b31-0242ac110004\"}], {\"height\": 450, \"width\": 500}, {\"showLink\": true, \"linkText\": \"Export to plot.ly\"})});</script>"
      ],
      "text/vnd.plotly.v1+html": [
       "<div id=\"5dbab9b0-a1de-42d0-8860-0a08a97513cb\" style=\"height: 450px; width: 500px;\" class=\"plotly-graph-div\"></div><script type=\"text/javascript\">require([\"plotly\"], function(Plotly) { window.PLOTLYENV=window.PLOTLYENV || {};window.PLOTLYENV.BASE_URL=\"https://plot.ly\";Plotly.newPlot(\"5dbab9b0-a1de-42d0-8860-0a08a97513cb\", [{\"cells\": {\"align\": [\"center\", \"center\"], \"fill\": {\"color\": \"rgb(95,102,161)\"}, \"font\": {\"color\": \"white\", \"size\": 14}, \"height\": 30, \"line\": {\"color\": \"black\"}, \"values\": [[\"je\", \"tu\", \"elle/il/on\", \"nous\", \"vous\", \"elles/ils\"], [\"fin-\", \"fin-\", \"fin-\", \"fin-\", \"fin-\", \"fin-\"], [\"is\", \"is\", \"it\", \"issons\", \"issez\", \"issent\"]]}, \"columnorder\": [1, 2, 3], \"columnwidth\": [10, 10], \"header\": {\"align\": [\"center\", \"center\"], \"fill\": {\"color\": \"rgb(0,35,48)\"}, \"font\": {\"color\": \"white\", \"size\": 16}, \"height\": 40, \"line\": {\"color\": \"rgb(0,0,0)\"}, \"values\": [\"Pronoun\", \"Stem\", \"Ending\"]}, \"type\": \"table\", \"uid\": \"98c2cb2a-cb6c-11e8-8b31-0242ac110004\"}], {\"height\": 450, \"width\": 500}, {\"showLink\": true, \"linkText\": \"Export to plot.ly\"})});</script>"
      ]
     },
     "metadata": {},
     "output_type": "display_data"
    }
   ],
   "source": [
    "french = ['je','tu','elle/il/on','nous','vous','elles/ils']\n",
    "stem = ['fin-','fin-','fin-','fin-','fin-','fin-']\n",
    "ending = ['is','is','it','issons','issez','issent']\n",
    "\n",
    "trace0 = go.Table(\n",
    "  columnorder = [1,2,3],\n",
    "  columnwidth = [10,10],\n",
    "  header = dict(\n",
    "    values = ['Pronoun','Stem','Ending'],\n",
    "    line = dict(color = 'rgb(0,0,0)'),\n",
    "    fill = dict(color = 'rgb(0,35,48)'),\n",
    "    align = ['center','center'],\n",
    "    font = dict(color = 'white', size = 16),\n",
    "    height = 40\n",
    "  ),\n",
    "  cells = dict(\n",
    "    values = [french,stem,ending],\n",
    "    line = dict(color = 'black'),\n",
    "    fill = dict(color = 'rgb(95,102,161)'),\n",
    "    align = ['center', 'center'],\n",
    "    font = dict(color = 'white', size = 14),\n",
    "    height = 30\n",
    "    )\n",
    ")\n",
    "layout = dict(width=500, height=450)\n",
    "\n",
    "data = [trace0]\n",
    "fig = dict(data = data, layout = layout)\n",
    "\n",
    "iplot(fig)"
   ]
  },
  {
   "cell_type": "markdown",
   "metadata": {
    "hidden": false
   },
   "source": [
    "### Try yourself!\n",
    "\n",
    "Try to see if you can make your own conjugation checker from the information provided for \"-ir\" verbs. The program will follow the same form as for the \"-er\" verbs, except this time you have to write it yourself :). Click on the \"Show Code\" button to reveal the cells below where you can manipulate the code written. I have included some widgets for text boxes for the user inputs so you can see if your code works correctly. The user inputs will be stored in the list: `user_answers`. Try to change it for different verbs as well. If you get stuck at any point, don't worry, Google and \"Stack Exchange\" are filled with answers to programming questions and bug fixes of all sorts :). To check to see if your code runs properly, select the cell and press Shift+Enter.\n",
    "\n",
    "Some likely problems you'll run into and things to keep in mind:\n",
    "\n",
    "1) Syntax: If there is anything misspelled, if you are missing an indent or a \":\" somewhere or a bracket. If you use the wrong brackets. If you index improperly. These small syntax errors will prevent your program from running correctly. Debugging these issues is all part of the learning process though!\n",
    "\n",
    "2) Exceptions: Some of the verb conjugations contain exceptions, see if you can create a more general code to handle these exceptions.  \n",
    "\n",
    "3) You can always check your answers with the general conjugator above!"
   ]
  },
  {
   "cell_type": "code",
   "execution_count": 68,
   "metadata": {
    "hidden": false
   },
   "outputs": [
    {
     "data": {
      "application/vnd.jupyter.widget-view+json": {
       "model_id": "83a189972d8d4fac93af6917a54cbd44",
       "version_major": 2,
       "version_minor": 0
      },
      "text/html": [
       "<p>Failed to display Jupyter Widget of type <code>Text</code>.</p>\n",
       "<p>\n",
       "  If you're reading this message in the Jupyter Notebook or JupyterLab Notebook, it may mean\n",
       "  that the widgets JavaScript is still loading. If this message persists, it\n",
       "  likely means that the widgets JavaScript library is either not installed or\n",
       "  not enabled. See the <a href=\"https://ipywidgets.readthedocs.io/en/stable/user_install.html\">Jupyter\n",
       "  Widgets Documentation</a> for setup instructions.\n",
       "</p>\n",
       "<p>\n",
       "  If you're reading this message in another frontend (for example, a static\n",
       "  rendering on GitHub or <a href=\"https://nbviewer.jupyter.org/\">NBViewer</a>),\n",
       "  it may mean that your frontend doesn't currently support widgets.\n",
       "</p>\n"
      ],
      "text/plain": [
       "Text(value='', description='je')"
      ]
     },
     "metadata": {},
     "output_type": "display_data"
    },
    {
     "data": {
      "application/vnd.jupyter.widget-view+json": {
       "model_id": "19ff6a432d564b0a9a92fa1f0caa3dae",
       "version_major": 2,
       "version_minor": 0
      },
      "text/html": [
       "<p>Failed to display Jupyter Widget of type <code>Text</code>.</p>\n",
       "<p>\n",
       "  If you're reading this message in the Jupyter Notebook or JupyterLab Notebook, it may mean\n",
       "  that the widgets JavaScript is still loading. If this message persists, it\n",
       "  likely means that the widgets JavaScript library is either not installed or\n",
       "  not enabled. See the <a href=\"https://ipywidgets.readthedocs.io/en/stable/user_install.html\">Jupyter\n",
       "  Widgets Documentation</a> for setup instructions.\n",
       "</p>\n",
       "<p>\n",
       "  If you're reading this message in another frontend (for example, a static\n",
       "  rendering on GitHub or <a href=\"https://nbviewer.jupyter.org/\">NBViewer</a>),\n",
       "  it may mean that your frontend doesn't currently support widgets.\n",
       "</p>\n"
      ],
      "text/plain": [
       "Text(value='', description='tu')"
      ]
     },
     "metadata": {},
     "output_type": "display_data"
    },
    {
     "data": {
      "application/vnd.jupyter.widget-view+json": {
       "model_id": "17c9b1803a434d92a7f60357016ceac3",
       "version_major": 2,
       "version_minor": 0
      },
      "text/html": [
       "<p>Failed to display Jupyter Widget of type <code>Text</code>.</p>\n",
       "<p>\n",
       "  If you're reading this message in the Jupyter Notebook or JupyterLab Notebook, it may mean\n",
       "  that the widgets JavaScript is still loading. If this message persists, it\n",
       "  likely means that the widgets JavaScript library is either not installed or\n",
       "  not enabled. See the <a href=\"https://ipywidgets.readthedocs.io/en/stable/user_install.html\">Jupyter\n",
       "  Widgets Documentation</a> for setup instructions.\n",
       "</p>\n",
       "<p>\n",
       "  If you're reading this message in another frontend (for example, a static\n",
       "  rendering on GitHub or <a href=\"https://nbviewer.jupyter.org/\">NBViewer</a>),\n",
       "  it may mean that your frontend doesn't currently support widgets.\n",
       "</p>\n"
      ],
      "text/plain": [
       "Text(value='', description='elle/il/on')"
      ]
     },
     "metadata": {},
     "output_type": "display_data"
    },
    {
     "data": {
      "application/vnd.jupyter.widget-view+json": {
       "model_id": "baec2484af1149b2aceaa02b71082837",
       "version_major": 2,
       "version_minor": 0
      },
      "text/html": [
       "<p>Failed to display Jupyter Widget of type <code>Text</code>.</p>\n",
       "<p>\n",
       "  If you're reading this message in the Jupyter Notebook or JupyterLab Notebook, it may mean\n",
       "  that the widgets JavaScript is still loading. If this message persists, it\n",
       "  likely means that the widgets JavaScript library is either not installed or\n",
       "  not enabled. See the <a href=\"https://ipywidgets.readthedocs.io/en/stable/user_install.html\">Jupyter\n",
       "  Widgets Documentation</a> for setup instructions.\n",
       "</p>\n",
       "<p>\n",
       "  If you're reading this message in another frontend (for example, a static\n",
       "  rendering on GitHub or <a href=\"https://nbviewer.jupyter.org/\">NBViewer</a>),\n",
       "  it may mean that your frontend doesn't currently support widgets.\n",
       "</p>\n"
      ],
      "text/plain": [
       "Text(value='', description='nous')"
      ]
     },
     "metadata": {},
     "output_type": "display_data"
    },
    {
     "data": {
      "application/vnd.jupyter.widget-view+json": {
       "model_id": "38b12c41b9904e6088a005dc4c6282c3",
       "version_major": 2,
       "version_minor": 0
      },
      "text/html": [
       "<p>Failed to display Jupyter Widget of type <code>Text</code>.</p>\n",
       "<p>\n",
       "  If you're reading this message in the Jupyter Notebook or JupyterLab Notebook, it may mean\n",
       "  that the widgets JavaScript is still loading. If this message persists, it\n",
       "  likely means that the widgets JavaScript library is either not installed or\n",
       "  not enabled. See the <a href=\"https://ipywidgets.readthedocs.io/en/stable/user_install.html\">Jupyter\n",
       "  Widgets Documentation</a> for setup instructions.\n",
       "</p>\n",
       "<p>\n",
       "  If you're reading this message in another frontend (for example, a static\n",
       "  rendering on GitHub or <a href=\"https://nbviewer.jupyter.org/\">NBViewer</a>),\n",
       "  it may mean that your frontend doesn't currently support widgets.\n",
       "</p>\n"
      ],
      "text/plain": [
       "Text(value='', description='vous')"
      ]
     },
     "metadata": {},
     "output_type": "display_data"
    },
    {
     "data": {
      "application/vnd.jupyter.widget-view+json": {
       "model_id": "3d25c8d0770f493da3cab305de1573f5",
       "version_major": 2,
       "version_minor": 0
      },
      "text/html": [
       "<p>Failed to display Jupyter Widget of type <code>Text</code>.</p>\n",
       "<p>\n",
       "  If you're reading this message in the Jupyter Notebook or JupyterLab Notebook, it may mean\n",
       "  that the widgets JavaScript is still loading. If this message persists, it\n",
       "  likely means that the widgets JavaScript library is either not installed or\n",
       "  not enabled. See the <a href=\"https://ipywidgets.readthedocs.io/en/stable/user_install.html\">Jupyter\n",
       "  Widgets Documentation</a> for setup instructions.\n",
       "</p>\n",
       "<p>\n",
       "  If you're reading this message in another frontend (for example, a static\n",
       "  rendering on GitHub or <a href=\"https://nbviewer.jupyter.org/\">NBViewer</a>),\n",
       "  it may mean that your frontend doesn't currently support widgets.\n",
       "</p>\n"
      ],
      "text/plain": [
       "Text(value='', description='elles/ils')"
      ]
     },
     "metadata": {},
     "output_type": "display_data"
    }
   ],
   "source": [
    "je = widgets.Text(value = None, description = 'je')\n",
    "tu = widgets.Text(value = None, description = 'tu')\n",
    "elle = widgets.Text(value = None, description = 'elle/il/on')\n",
    "nous = widgets.Text(value = None, description = 'nous')\n",
    "vous = widgets.Text(value = None, description = 'vous')\n",
    "elles = widgets.Text(value = None, description = 'elles/ils')\n",
    "\n",
    "display(je,tu,elle,nous,vous,elles)\n"
   ]
  },
  {
   "cell_type": "code",
   "execution_count": 79,
   "metadata": {
    "hidden": false
   },
   "outputs": [
    {
     "name": "stdout",
     "output_type": "stream",
     "text": [
      "Incorrect\n",
      "Incorrect\n",
      "Incorrect\n",
      "Incorrect\n",
      "Incorrect\n",
      "Incorrect\n"
     ]
    }
   ],
   "source": [
    "#manipulate this code for 'ir' verbs or try to write your own code to handle the exceptions above.\n",
    "#remember to use the list user_answer for the user_inputs and don't forget to enter some inputs yourself ;)\n",
    "#Don't change user_answer...\n",
    "user_answer = [je.value,tu.value,elle.value,nous.value,vous.value,elles.value]\n",
    "\n",
    "endings = ['e','es','e','ons','ez','ent']\n",
    "\n",
    "for i in range(0,len(endings)):\n",
    "    n = len(endings[i])\n",
    "    #feel free to change what happens if they get it right or wrong.\n",
    "    \n",
    "    if user_answer[i][-n:] != endings[i]:\n",
    "        print('Incorrect')\n",
    "    if user_answer[i][-n:] == endings[i]:\n",
    "        print('Correct!')"
   ]
  },
  {
   "cell_type": "markdown",
   "metadata": {
    "hidden": false
   },
   "source": [
    "---\n",
    "## Conclusion\n",
    "\n",
    "In this Jupyter Notebook by Callysto you learned the basics of French verb conjugation in the present tense. You also learned about some basic aspects used in programming such as `for` loops, `if` statements. You additionally learned about strings, lists, and indexing. You were also challenged to see to create your own program for \"-ir\" verbs. We saw that we could expose the structure of the french verb conjugation rules to compose a program that checks if a user input the correct answers to conjugate a verb in the present tense. This is somewhat of a hallmark of coding. Taking some sort of structure of the problem at hand and exposing in the form of generalizable and applicable written code. Breaking down problems in this fashion is essential to computational thinking. Je te remercie pour avoir essayer les exercises donner. "
   ]
  },
  {
   "cell_type": "markdown",
   "metadata": {
    "hidden": false
   },
   "source": [
    "<img src = \"https://callysto.ca/wp-content/uploads/2018/07/Callysto-Notebook-Banner_Bottom_07.30.18.jpg\">"
   ]
  }
 ],
 "metadata": {
  "kernelspec": {
   "display_name": "Python 3",
   "language": "python",
   "name": "python3"
  },
  "language_info": {
   "codemirror_mode": {
    "name": "ipython",
    "version": 3
   },
   "file_extension": ".py",
   "mimetype": "text/x-python",
   "name": "python",
   "nbconvert_exporter": "python",
   "pygments_lexer": "ipython3",
   "version": "3.6.5"
  }
 },
 "nbformat": 4,
 "nbformat_minor": 2
}

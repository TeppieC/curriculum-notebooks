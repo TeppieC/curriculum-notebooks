{
 "cells": [
  {
   "cell_type": "markdown",
   "metadata": {
    "hidden": false
   },
   "source": [
    "<img src = \"https://callysto.ca/wp-content/uploads/2018/06/Callysto_Notebook-Banner_Top_06.06.18.jpg\">"
   ]
  },
  {
   "cell_type": "code",
   "execution_count": 1,
   "metadata": {
    "hidden": false
   },
   "outputs": [
    {
     "data": {
      "text/html": [
       "<script>requirejs.config({paths: { 'plotly': ['https://cdn.plot.ly/plotly-latest.min']},});if(!window.Plotly) {{require(['plotly'],function(plotly) {window.Plotly=plotly;});}}</script>"
      ],
      "text/vnd.plotly.v1+html": [
       "<script>requirejs.config({paths: { 'plotly': ['https://cdn.plot.ly/plotly-latest.min']},});if(!window.Plotly) {{require(['plotly'],function(plotly) {window.Plotly=plotly;});}}</script>"
      ]
     },
     "metadata": {},
     "output_type": "display_data"
    },
    {
     "data": {
      "text/html": [
       "<script>\n",
       "  function code_toggle() {\n",
       "    if (code_shown){\n",
       "      $('div.input').hide('500');\n",
       "      $('#toggleButton').val('Show Code')\n",
       "    } else {\n",
       "      $('div.input').show('500');\n",
       "      $('#toggleButton').val('Hide Code')\n",
       "    }\n",
       "    code_shown = !code_shown\n",
       "  }\n",
       "  \n",
       "  $( document ).ready(function(){\n",
       "    code_shown=false;\n",
       "    $('div.input').hide()\n",
       "  });\n",
       "</script>\n",
       "<form action=\"javascript:code_toggle()\"><input type=\"submit\" id=\"toggleButton\" value=\"Show Code\"></form>"
      ],
      "text/plain": [
       "<IPython.core.display.HTML object>"
      ]
     },
     "execution_count": 1,
     "metadata": {},
     "output_type": "execute_result"
    }
   ],
   "source": [
    "import numpy as np\n",
    "import matplotlib.pyplot as plt\n",
    "from IPython.display import display, Math, Latex, HTML, clear_output, Markdown, Javascript\n",
    "import ipywidgets as widgets\n",
    "from ipywidgets import interact, FloatSlider, IntSlider, interactive, Layout\n",
    "from traitlets import traitlets\n",
    "\n",
    "\n",
    "import plotly as py\n",
    "import plotly.graph_objs as go\n",
    "from plotly.offline import download_plotlyjs, init_notebook_mode, plot, iplot\n",
    "init_notebook_mode(connected=True)\n",
    "\n",
    "HTML('''<script>\n",
    "  function code_toggle() {\n",
    "    if (code_shown){\n",
    "      $('div.input').hide('500');\n",
    "      $('#toggleButton').val('Show Code')\n",
    "    } else {\n",
    "      $('div.input').show('500');\n",
    "      $('#toggleButton').val('Hide Code')\n",
    "    }\n",
    "    code_shown = !code_shown\n",
    "  }\n",
    "  \n",
    "  $( document ).ready(function(){\n",
    "    code_shown=false;\n",
    "    $('div.input').hide()\n",
    "  });\n",
    "</script>\n",
    "<form action=\"javascript:code_toggle()\"><input type=\"submit\" id=\"toggleButton\" value=\"Show Code\"></form>''')"
   ]
  },
  {
   "cell_type": "markdown",
   "metadata": {
    "hidden": false
   },
   "source": [
    "# <center>$French\\, Verb\\,Conjugation$<center>\n",
    "    \n",
    "----\n",
    "\n",
    "In this Jupyter Notebook by Callysto you will learn about French verb conjugation and some basics of programming in python. Mastering the basics of verb conjugation is essential to reading and writing in French. There are some basic rules (and exceptions) that we will address. Along the way you will gain some insight into how this notebook was made and thus gain some exposure to some programming concepts.\n",
    "\n",
    "*Necessary background*:\n",
    "- Some basic knowledge of French\n",
    "- Elementary python syntax\n",
    "\n",
    "On-y-vas!"
   ]
  },
  {
   "cell_type": "markdown",
   "metadata": {
    "hidden": false
   },
   "source": [
    "## $Personal\\, pronouns$\n",
    "\n",
    "In order to start conjugating verbs, we must first learn what the personal pronouns in french are. Below is table showing the subject pronouns in French, these will be used to separate the different cases of verb conjugation. "
   ]
  },
  {
   "cell_type": "code",
   "execution_count": 2,
   "metadata": {
    "hidden": false
   },
   "outputs": [
    {
     "data": {
      "application/vnd.plotly.v1+json": {
       "data": [
        {
         "cells": {
          "align": [
           "center",
           "center"
          ],
          "fill": {
           "color": "rgb(95,102,161)"
          },
          "font": {
           "color": "white",
           "size": 14
          },
          "height": 30,
          "line": {
           "color": "black"
          },
          "values": [
           [
            "First",
            "Second",
            "Third",
            "First (plural)",
            "Second (plural)",
            "Third (plural)"
           ],
           [
            "je",
            "tu",
            "elle/il/on",
            "nous",
            "vous",
            "elles/ils"
           ],
           [
            "I",
            "you (informal/sing.)",
            "she/he/one",
            "we",
            "you (plural, formal/sing.)",
            "they"
           ]
          ]
         },
         "columnorder": [
          1,
          2,
          3
         ],
         "columnwidth": [
          10,
          10
         ],
         "header": {
          "align": [
           "center",
           "center"
          ],
          "fill": {
           "color": "rgb(0,35,48)"
          },
          "font": {
           "color": "white",
           "size": 16
          },
          "height": 40,
          "line": {
           "color": "rgb(0,0,0)"
          },
          "values": [
           "Person",
           "French",
           "English"
          ]
         },
         "type": "table",
         "uid": "35e09870-b7b2-11e8-a6f5-0242ac110004"
        }
       ],
       "layout": {
        "height": 450,
        "width": 650
       }
      },
      "text/html": [
       "<div id=\"f5f03b69-5b22-42e4-a8bc-2c5cd599e0e9\" style=\"height: 450px; width: 650px;\" class=\"plotly-graph-div\"></div><script type=\"text/javascript\">require([\"plotly\"], function(Plotly) { window.PLOTLYENV=window.PLOTLYENV || {};window.PLOTLYENV.BASE_URL=\"https://plot.ly\";Plotly.newPlot(\"f5f03b69-5b22-42e4-a8bc-2c5cd599e0e9\", [{\"cells\": {\"align\": [\"center\", \"center\"], \"fill\": {\"color\": \"rgb(95,102,161)\"}, \"font\": {\"color\": \"white\", \"size\": 14}, \"height\": 30, \"line\": {\"color\": \"black\"}, \"values\": [[\"First\", \"Second\", \"Third\", \"First (plural)\", \"Second (plural)\", \"Third (plural)\"], [\"je\", \"tu\", \"elle/il/on\", \"nous\", \"vous\", \"elles/ils\"], [\"I\", \"you (informal/sing.)\", \"she/he/one\", \"we\", \"you (plural, formal/sing.)\", \"they\"]]}, \"columnorder\": [1, 2, 3], \"columnwidth\": [10, 10], \"header\": {\"align\": [\"center\", \"center\"], \"fill\": {\"color\": \"rgb(0,35,48)\"}, \"font\": {\"color\": \"white\", \"size\": 16}, \"height\": 40, \"line\": {\"color\": \"rgb(0,0,0)\"}, \"values\": [\"Person\", \"French\", \"English\"]}, \"type\": \"table\", \"uid\": \"36129690-b7b2-11e8-a6f5-0242ac110004\"}], {\"height\": 450, \"width\": 650}, {\"showLink\": true, \"linkText\": \"Export to plot.ly\"})});</script>"
      ],
      "text/vnd.plotly.v1+html": [
       "<div id=\"f5f03b69-5b22-42e4-a8bc-2c5cd599e0e9\" style=\"height: 450px; width: 650px;\" class=\"plotly-graph-div\"></div><script type=\"text/javascript\">require([\"plotly\"], function(Plotly) { window.PLOTLYENV=window.PLOTLYENV || {};window.PLOTLYENV.BASE_URL=\"https://plot.ly\";Plotly.newPlot(\"f5f03b69-5b22-42e4-a8bc-2c5cd599e0e9\", [{\"cells\": {\"align\": [\"center\", \"center\"], \"fill\": {\"color\": \"rgb(95,102,161)\"}, \"font\": {\"color\": \"white\", \"size\": 14}, \"height\": 30, \"line\": {\"color\": \"black\"}, \"values\": [[\"First\", \"Second\", \"Third\", \"First (plural)\", \"Second (plural)\", \"Third (plural)\"], [\"je\", \"tu\", \"elle/il/on\", \"nous\", \"vous\", \"elles/ils\"], [\"I\", \"you (informal/sing.)\", \"she/he/one\", \"we\", \"you (plural, formal/sing.)\", \"they\"]]}, \"columnorder\": [1, 2, 3], \"columnwidth\": [10, 10], \"header\": {\"align\": [\"center\", \"center\"], \"fill\": {\"color\": \"rgb(0,35,48)\"}, \"font\": {\"color\": \"white\", \"size\": 16}, \"height\": 40, \"line\": {\"color\": \"rgb(0,0,0)\"}, \"values\": [\"Person\", \"French\", \"English\"]}, \"type\": \"table\", \"uid\": \"36129690-b7b2-11e8-a6f5-0242ac110004\"}], {\"height\": 450, \"width\": 650}, {\"showLink\": true, \"linkText\": \"Export to plot.ly\"})});</script>"
      ]
     },
     "metadata": {},
     "output_type": "display_data"
    }
   ],
   "source": [
    "#table for personal pronouns using plotly\n",
    "\n",
    "french = ['je','tu','elle/il/on','nous','vous','elles/ils']\n",
    "english = ['I','you (informal/sing.)','she/he/one','we','you (plural, formal/sing.)','they']\n",
    "person = ['First','Second','Third','First (plural)','Second (plural)','Third (plural)']\n",
    "\n",
    "\n",
    "trace0 = go.Table(\n",
    "  columnorder = [1,2,3],\n",
    "  columnwidth = [10,10],\n",
    "  header = dict(\n",
    "    values = ['Person','French','English'],\n",
    "    line = dict(color = 'rgb(0,0,0)'),\n",
    "    fill = dict(color = 'rgb(0,35,48)'),\n",
    "    align = ['center','center'],\n",
    "    font = dict(color = 'white', size = 16),\n",
    "    height = 40\n",
    "  ),\n",
    "  cells = dict(\n",
    "    values = [person,french,english],\n",
    "    line = dict(color = 'black'),\n",
    "    fill = dict(color = 'rgb(95,102,161)'),\n",
    "    align = ['center', 'center'],\n",
    "    font = dict(color = 'white', size = 14),\n",
    "    height = 30\n",
    "    )\n",
    ")\n",
    "layout = dict(width=650, height=450)\n",
    "\n",
    "data = [trace0]\n",
    "fig = dict(data = data, layout = layout)\n",
    "\n",
    "iplot(fig)"
   ]
  },
  {
   "cell_type": "markdown",
   "metadata": {
    "hidden": false
   },
   "source": [
    "Our verb conjugation rules will be based on these personal pronouns, so it is good to get familiar with their translations. French makes a distinction between all of these different tense based on their person, whether or not they are masculine or feminine, and if they are plural or singular. Let's jump right to conjugating the two (arguably) most important verbs: to be and to have.\n",
    "\n",
    "## <center> $\\hat{E}tre \\, (to\\, be)$</center>"
   ]
  },
  {
   "cell_type": "code",
   "execution_count": 3,
   "metadata": {
    "hidden": false
   },
   "outputs": [
    {
     "data": {
      "application/vnd.plotly.v1+json": {
       "data": [
        {
         "cells": {
          "align": [
           "center",
           "center"
          ],
          "fill": {
           "color": "rgb(95,102,161)"
          },
          "font": {
           "color": "white",
           "size": 14
          },
          "height": 30,
          "line": {
           "color": "black"
          },
          "values": [
           [
            "je",
            "tu",
            "elle/il/on",
            "nous",
            "vous",
            "elles/ils"
           ],
           [
            "suis",
            "es",
            "est",
            "sommes",
            "êtes",
            "sont"
           ]
          ]
         },
         "columnorder": [
          1,
          2
         ],
         "columnwidth": [
          10,
          10
         ],
         "header": {
          "align": [
           "center",
           "center"
          ],
          "fill": {
           "color": "rgb(0,35,48)"
          },
          "font": {
           "color": "white",
           "size": 16
          },
          "height": 40,
          "line": {
           "color": "rgb(0,0,0)"
          },
          "values": [
           "Pronoun",
           "Conjugation"
          ]
         },
         "type": "table",
         "uid": "361cc0fc-b7b2-11e8-a6f5-0242ac110004"
        }
       ],
       "layout": {
        "height": 450,
        "width": 650
       }
      },
      "text/html": [
       "<div id=\"1f7fd6b4-8474-4103-9374-f6e264a1498c\" style=\"height: 450px; width: 650px;\" class=\"plotly-graph-div\"></div><script type=\"text/javascript\">require([\"plotly\"], function(Plotly) { window.PLOTLYENV=window.PLOTLYENV || {};window.PLOTLYENV.BASE_URL=\"https://plot.ly\";Plotly.newPlot(\"1f7fd6b4-8474-4103-9374-f6e264a1498c\", [{\"cells\": {\"align\": [\"center\", \"center\"], \"fill\": {\"color\": \"rgb(95,102,161)\"}, \"font\": {\"color\": \"white\", \"size\": 14}, \"height\": 30, \"line\": {\"color\": \"black\"}, \"values\": [[\"je\", \"tu\", \"elle/il/on\", \"nous\", \"vous\", \"elles/ils\"], [\"suis\", \"es\", \"est\", \"sommes\", \"\\u00eates\", \"sont\"]]}, \"columnorder\": [1, 2], \"columnwidth\": [10, 10], \"header\": {\"align\": [\"center\", \"center\"], \"fill\": {\"color\": \"rgb(0,35,48)\"}, \"font\": {\"color\": \"white\", \"size\": 16}, \"height\": 40, \"line\": {\"color\": \"rgb(0,0,0)\"}, \"values\": [\"Pronoun\", \"Conjugation\"]}, \"type\": \"table\", \"uid\": \"3622db18-b7b2-11e8-a6f5-0242ac110004\"}], {\"height\": 450, \"width\": 650}, {\"showLink\": true, \"linkText\": \"Export to plot.ly\"})});</script>"
      ],
      "text/vnd.plotly.v1+html": [
       "<div id=\"1f7fd6b4-8474-4103-9374-f6e264a1498c\" style=\"height: 450px; width: 650px;\" class=\"plotly-graph-div\"></div><script type=\"text/javascript\">require([\"plotly\"], function(Plotly) { window.PLOTLYENV=window.PLOTLYENV || {};window.PLOTLYENV.BASE_URL=\"https://plot.ly\";Plotly.newPlot(\"1f7fd6b4-8474-4103-9374-f6e264a1498c\", [{\"cells\": {\"align\": [\"center\", \"center\"], \"fill\": {\"color\": \"rgb(95,102,161)\"}, \"font\": {\"color\": \"white\", \"size\": 14}, \"height\": 30, \"line\": {\"color\": \"black\"}, \"values\": [[\"je\", \"tu\", \"elle/il/on\", \"nous\", \"vous\", \"elles/ils\"], [\"suis\", \"es\", \"est\", \"sommes\", \"\\u00eates\", \"sont\"]]}, \"columnorder\": [1, 2], \"columnwidth\": [10, 10], \"header\": {\"align\": [\"center\", \"center\"], \"fill\": {\"color\": \"rgb(0,35,48)\"}, \"font\": {\"color\": \"white\", \"size\": 16}, \"height\": 40, \"line\": {\"color\": \"rgb(0,0,0)\"}, \"values\": [\"Pronoun\", \"Conjugation\"]}, \"type\": \"table\", \"uid\": \"3622db18-b7b2-11e8-a6f5-0242ac110004\"}], {\"height\": 450, \"width\": 650}, {\"showLink\": true, \"linkText\": \"Export to plot.ly\"})});</script>"
      ]
     },
     "metadata": {},
     "output_type": "display_data"
    }
   ],
   "source": [
    "french = ['je','tu','elle/il/on','nous','vous','elles/ils']\n",
    "conjug = ['suis','es','est','sommes','êtes','sont']\n",
    "\n",
    "trace0 = go.Table(\n",
    "  columnorder = [1,2],\n",
    "  columnwidth = [10,10],\n",
    "  header = dict(\n",
    "    values = ['Pronoun','Conjugation'],\n",
    "    line = dict(color = 'rgb(0,0,0)'),\n",
    "    fill = dict(color = 'rgb(0,35,48)'),\n",
    "    align = ['center','center'],\n",
    "    font = dict(color = 'white', size = 16),\n",
    "    height = 40\n",
    "  ),\n",
    "  cells = dict(\n",
    "    values = [french,conjug],\n",
    "    line = dict(color = 'black'),\n",
    "    fill = dict(color = 'rgb(95,102,161)'),\n",
    "    align = ['center', 'center'],\n",
    "    font = dict(color = 'white', size = 14),\n",
    "    height = 30\n",
    "    )\n",
    ")\n",
    "layout = dict(width=650, height=450)\n",
    "\n",
    "data = [trace0]\n",
    "fig = dict(data = data, layout = layout)\n",
    "\n",
    "iplot(fig)"
   ]
  },
  {
   "cell_type": "markdown",
   "metadata": {
    "hidden": false
   },
   "source": [
    "*Être* is an irregular verb, that does not obey a certain \"format\", if you will, for conjugating verbs in the present tense. There many examples of exceptions, which we will explore further. But first, the next most important verb..."
   ]
  },
  {
   "cell_type": "markdown",
   "metadata": {
    "hidden": false
   },
   "source": [
    "## <center>$Avoir \\, (to\\,have)$"
   ]
  },
  {
   "cell_type": "code",
   "execution_count": 4,
   "metadata": {
    "hidden": false
   },
   "outputs": [
    {
     "data": {
      "application/vnd.plotly.v1+json": {
       "data": [
        {
         "cells": {
          "align": [
           "center",
           "center"
          ],
          "fill": {
           "color": "rgb(95,102,161)"
          },
          "font": {
           "color": "white",
           "size": 14
          },
          "height": 30,
          "line": {
           "color": "black"
          },
          "values": [
           [
            "j'",
            "tu",
            "elle/il/on",
            "nous",
            "vous",
            "elles/ils"
           ],
           [
            "ai",
            "as",
            "a",
            "avons",
            "avez",
            "ont"
           ]
          ]
         },
         "columnorder": [
          1,
          2
         ],
         "columnwidth": [
          10,
          10
         ],
         "header": {
          "align": [
           "center",
           "center"
          ],
          "fill": {
           "color": "rgb(0,35,48)"
          },
          "font": {
           "color": "white",
           "size": 16
          },
          "height": 40,
          "line": {
           "color": "rgb(0,0,0)"
          },
          "values": [
           "Pronoun",
           "Conjugation"
          ]
         },
         "type": "table",
         "uid": "362c766e-b7b2-11e8-a6f5-0242ac110004"
        }
       ],
       "layout": {
        "height": 450,
        "width": 650
       }
      },
      "text/html": [
       "<div id=\"dd7c5f00-f32f-4f21-872f-74be68248c3b\" style=\"height: 450px; width: 650px;\" class=\"plotly-graph-div\"></div><script type=\"text/javascript\">require([\"plotly\"], function(Plotly) { window.PLOTLYENV=window.PLOTLYENV || {};window.PLOTLYENV.BASE_URL=\"https://plot.ly\";Plotly.newPlot(\"dd7c5f00-f32f-4f21-872f-74be68248c3b\", [{\"cells\": {\"align\": [\"center\", \"center\"], \"fill\": {\"color\": \"rgb(95,102,161)\"}, \"font\": {\"color\": \"white\", \"size\": 14}, \"height\": 30, \"line\": {\"color\": \"black\"}, \"values\": [[\"j'\", \"tu\", \"elle/il/on\", \"nous\", \"vous\", \"elles/ils\"], [\"ai\", \"as\", \"a\", \"avons\", \"avez\", \"ont\"]]}, \"columnorder\": [1, 2], \"columnwidth\": [10, 10], \"header\": {\"align\": [\"center\", \"center\"], \"fill\": {\"color\": \"rgb(0,35,48)\"}, \"font\": {\"color\": \"white\", \"size\": 16}, \"height\": 40, \"line\": {\"color\": \"rgb(0,0,0)\"}, \"values\": [\"Pronoun\", \"Conjugation\"]}, \"type\": \"table\", \"uid\": \"3631c060-b7b2-11e8-a6f5-0242ac110004\"}], {\"height\": 450, \"width\": 650}, {\"showLink\": true, \"linkText\": \"Export to plot.ly\"})});</script>"
      ],
      "text/vnd.plotly.v1+html": [
       "<div id=\"dd7c5f00-f32f-4f21-872f-74be68248c3b\" style=\"height: 450px; width: 650px;\" class=\"plotly-graph-div\"></div><script type=\"text/javascript\">require([\"plotly\"], function(Plotly) { window.PLOTLYENV=window.PLOTLYENV || {};window.PLOTLYENV.BASE_URL=\"https://plot.ly\";Plotly.newPlot(\"dd7c5f00-f32f-4f21-872f-74be68248c3b\", [{\"cells\": {\"align\": [\"center\", \"center\"], \"fill\": {\"color\": \"rgb(95,102,161)\"}, \"font\": {\"color\": \"white\", \"size\": 14}, \"height\": 30, \"line\": {\"color\": \"black\"}, \"values\": [[\"j'\", \"tu\", \"elle/il/on\", \"nous\", \"vous\", \"elles/ils\"], [\"ai\", \"as\", \"a\", \"avons\", \"avez\", \"ont\"]]}, \"columnorder\": [1, 2], \"columnwidth\": [10, 10], \"header\": {\"align\": [\"center\", \"center\"], \"fill\": {\"color\": \"rgb(0,35,48)\"}, \"font\": {\"color\": \"white\", \"size\": 16}, \"height\": 40, \"line\": {\"color\": \"rgb(0,0,0)\"}, \"values\": [\"Pronoun\", \"Conjugation\"]}, \"type\": \"table\", \"uid\": \"3631c060-b7b2-11e8-a6f5-0242ac110004\"}], {\"height\": 450, \"width\": 650}, {\"showLink\": true, \"linkText\": \"Export to plot.ly\"})});</script>"
      ]
     },
     "metadata": {},
     "output_type": "display_data"
    }
   ],
   "source": [
    "french = [\"j'\",'tu','elle/il/on','nous','vous','elles/ils']\n",
    "conjug = ['ai','as','a','avons','avez','ont']\n",
    "\n",
    "trace0 = go.Table(\n",
    "  columnorder = [1,2],\n",
    "  columnwidth = [10,10],\n",
    "  header = dict(\n",
    "    values = ['Pronoun','Conjugation'],\n",
    "    line = dict(color = 'rgb(0,0,0)'),\n",
    "    fill = dict(color = 'rgb(0,35,48)'),\n",
    "    align = ['center','center'],\n",
    "    font = dict(color = 'white', size = 16),\n",
    "    height = 40\n",
    "  ),\n",
    "  cells = dict(\n",
    "    values = [french,conjug],\n",
    "    line = dict(color = 'black'),\n",
    "    fill = dict(color = 'rgb(95,102,161)'),\n",
    "    align = ['center', 'center'],\n",
    "    font = dict(color = 'white', size = 14),\n",
    "    height = 30\n",
    "    )\n",
    ")\n",
    "layout = dict(width=650, height=450)\n",
    "\n",
    "data = [trace0]\n",
    "fig = dict(data = data, layout = layout)\n",
    "\n",
    "iplot(fig)"
   ]
  },
  {
   "cell_type": "markdown",
   "metadata": {
    "hidden": false
   },
   "source": [
    "Notice for the first person singular we have *j'* instead of *je*, this is to avoid the awkward pronunciation of *je ai*. ?(is it)?. Let's now look a the general rubric for conjugating verbs that end in **er** in the present tense. "
   ]
  },
  {
   "cell_type": "code",
   "execution_count": null,
   "metadata": {
    "hidden": false
   },
   "outputs": [],
   "source": []
  },
  {
   "cell_type": "code",
   "execution_count": null,
   "metadata": {
    "hidden": false
   },
   "outputs": [],
   "source": []
  },
  {
   "cell_type": "code",
   "execution_count": null,
   "metadata": {
    "hidden": false
   },
   "outputs": [],
   "source": []
  },
  {
   "cell_type": "markdown",
   "metadata": {
    "hidden": false
   },
   "source": [
    "<img src = \"https://callysto.ca/wp-content/uploads/2018/07/Callysto-Notebook-Banner_Bottom_07.30.18.jpg\">"
   ]
  }
 ],
 "metadata": {
  "kernelspec": {
   "display_name": "Python 3",
   "language": "python",
   "name": "python3"
  },
  "language_info": {
   "codemirror_mode": {
    "name": "ipython",
    "version": 3
   },
   "file_extension": ".py",
   "mimetype": "text/x-python",
   "name": "python",
   "nbconvert_exporter": "python",
   "pygments_lexer": "ipython3",
   "version": "3.6.5"
  }
 },
 "nbformat": 4,
 "nbformat_minor": 2
}

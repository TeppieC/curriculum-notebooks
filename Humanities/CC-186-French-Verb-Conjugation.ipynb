{
 "cells": [
  {
   "cell_type": "markdown",
   "metadata": {
    "hidden": false
   },
   "source": [
    "<img src = \"https://callysto.ca/wp-content/uploads/2018/06/Callysto_Notebook-Banner_Top_06.06.18.jpg\">"
   ]
  },
  {
   "cell_type": "code",
   "execution_count": 1,
   "metadata": {
    "hidden": false
   },
   "outputs": [
    {
     "data": {
      "text/html": [
       "<script type=\"text/javascript\">window.PlotlyConfig = {MathJaxConfig: 'local'};</script><script type=\"text/javascript\">if (window.MathJax) {MathJax.Hub.Config({SVG: {font: \"STIX-Web\"}});}</script><script>requirejs.config({paths: { 'plotly': ['https://cdn.plot.ly/plotly-latest.min']},});if(!window._Plotly) {require(['plotly'],function(plotly) {window._Plotly=plotly;});}</script>"
      ],
      "text/vnd.plotly.v1+html": [
       "<script type=\"text/javascript\">window.PlotlyConfig = {MathJaxConfig: 'local'};</script><script type=\"text/javascript\">if (window.MathJax) {MathJax.Hub.Config({SVG: {font: \"STIX-Web\"}});}</script><script>requirejs.config({paths: { 'plotly': ['https://cdn.plot.ly/plotly-latest.min']},});if(!window._Plotly) {require(['plotly'],function(plotly) {window._Plotly=plotly;});}</script>"
      ]
     },
     "metadata": {},
     "output_type": "display_data"
    },
    {
     "data": {
      "text/html": [
       "<script>\n",
       "  function code_toggle() {\n",
       "    if (code_shown){\n",
       "      $('div.input').hide('500');\n",
       "      $('#toggleButton').val('Show Code')\n",
       "    } else {\n",
       "      $('div.input').show('500');\n",
       "      $('#toggleButton').val('Hide Code')\n",
       "    }\n",
       "    code_shown = !code_shown\n",
       "  }\n",
       "  \n",
       "  $( document ).ready(function(){\n",
       "    code_shown=false;\n",
       "    $('div.input').hide()\n",
       "  });\n",
       "</script>\n",
       "<form action=\"javascript:code_toggle()\"><input type=\"submit\" id=\"toggleButton\" value=\"Show Code\"></form>"
      ],
      "text/plain": [
       "<IPython.core.display.HTML object>"
      ]
     },
     "execution_count": 1,
     "metadata": {},
     "output_type": "execute_result"
    }
   ],
   "source": [
    "import numpy as np\n",
    "#import matplotlib.pyplot as plt\n",
    "from IPython.display import display, Math, Latex, HTML, clear_output, Markdown, Javascript\n",
    "import ipywidgets as widgets\n",
    "from ipywidgets import interact, FloatSlider, IntSlider, interactive, Layout\n",
    "from traitlets import traitlets\n",
    "#module to conjugate\n",
    "#import mlconjug\n",
    "#from functools import partial\n",
    "#import pickle\n",
    "\n",
    "\n",
    "import plotly as py\n",
    "import plotly.graph_objs as go\n",
    "from plotly.offline import download_plotlyjs, init_notebook_mode, plot, iplot\n",
    "init_notebook_mode(connected=True)\n",
    "\n",
    "HTML('''<script>\n",
    "  function code_toggle() {\n",
    "    if (code_shown){\n",
    "      $('div.input').hide('500');\n",
    "      $('#toggleButton').val('Show Code')\n",
    "    } else {\n",
    "      $('div.input').show('500');\n",
    "      $('#toggleButton').val('Hide Code')\n",
    "    }\n",
    "    code_shown = !code_shown\n",
    "  }\n",
    "  \n",
    "  $( document ).ready(function(){\n",
    "    code_shown=false;\n",
    "    $('div.input').hide()\n",
    "  });\n",
    "</script>\n",
    "<form action=\"javascript:code_toggle()\"><input type=\"submit\" id=\"toggleButton\" value=\"Show Code\"></form>''')#"
   ]
  },
  {
   "cell_type": "markdown",
   "metadata": {
    "hidden": false
   },
   "source": [
    "# <center>French Verb Conjugation<center>\n",
    "    \n",
    "----\n",
    "\n",
    "## Introduction\n",
    "\n",
    "In this Jupyter Notebook by Callysto you will learn about French verb conjugation and some basics of programming in Python. Mastering the basics of verb conjugation is essential to reading and writing in French. There are some basic rules (and exceptions) that we will address. Along the way you will gain some insight into how this notebook was made and thus gain some exposure to some programming concepts.\n",
    "\n",
    "#### Necessary background\n",
    "- Some basic knowledge of French\n",
    "- Elementary Python syntax\n",
    "\n",
    "#### Allons-y!"
   ]
  },
  {
   "cell_type": "markdown",
   "metadata": {
    "hidden": false
   },
   "source": [
    "## Personal pronouns\n",
    "\n",
    "In order to start conjugating verbs, we must first learn what are the personal pronouns in French. Below is table showing the subject pronouns in French. These will be used to separate the different cases of verb conjugation. "
   ]
  },
  {
   "cell_type": "code",
   "execution_count": 2,
   "metadata": {
    "hidden": false
   },
   "outputs": [
    {
     "data": {
      "application/vnd.plotly.v1+json": {
       "config": {
        "linkText": "Export to plot.ly",
        "plotlyServerURL": "https://plot.ly",
        "showLink": false
       },
       "data": [
        {
         "cells": {
          "align": [
           "center",
           "center"
          ],
          "fill": {
           "color": "rgb(95,102,161)"
          },
          "font": {
           "color": "white",
           "size": 14
          },
          "height": 30,
          "line": {
           "color": "black"
          },
          "values": [
           [
            "First",
            "Second",
            "Third",
            "First (plural)",
            "Second (plural)",
            "Third (plural)"
           ],
           [
            "je",
            "tu",
            "elle, il, on",
            "nous",
            "vous",
            "elles, ils"
           ],
           [
            "I",
            "you",
            "she, he, one",
            "we",
            "you (plural or formal)",
            "they"
           ]
          ]
         },
         "columnorder": [
          1,
          2,
          3
         ],
         "columnwidth": [
          10,
          10
         ],
         "header": {
          "align": [
           "center",
           "center"
          ],
          "fill": {
           "color": "rgb(0,35,48)"
          },
          "font": {
           "color": "white",
           "size": 16
          },
          "height": 40,
          "line": {
           "color": "rgb(0,0,0)"
          },
          "values": [
           "Person",
           "French",
           "English"
          ]
         },
         "type": "table",
         "uid": "6c8863e6-e950-4023-a0f0-3602229ccd15"
        }
       ],
       "layout": {
        "height": 450,
        "width": 750
       }
      },
      "text/html": [
       "<div id=\"fac84afd-952f-46d4-8297-14cf909e02d4\" style=\"height: 450px; width: 750px;\" class=\"plotly-graph-div\"></div><script type=\"text/javascript\">require([\"plotly\"], function(Plotly) { window.PLOTLYENV=window.PLOTLYENV || {};window.PLOTLYENV.BASE_URL=\"https://plot.ly\";Plotly.newPlot(\"fac84afd-952f-46d4-8297-14cf909e02d4\", [{\"cells\": {\"align\": [\"center\", \"center\"], \"fill\": {\"color\": \"rgb(95,102,161)\"}, \"font\": {\"color\": \"white\", \"size\": 14}, \"height\": 30, \"line\": {\"color\": \"black\"}, \"values\": [[\"First\", \"Second\", \"Third\", \"First (plural)\", \"Second (plural)\", \"Third (plural)\"], [\"je\", \"tu\", \"elle, il, on\", \"nous\", \"vous\", \"elles, ils\"], [\"I\", \"you\", \"she, he, one\", \"we\", \"you (plural or formal)\", \"they\"]]}, \"columnorder\": [1, 2, 3], \"columnwidth\": [10, 10], \"header\": {\"align\": [\"center\", \"center\"], \"fill\": {\"color\": \"rgb(0,35,48)\"}, \"font\": {\"color\": \"white\", \"size\": 16}, \"height\": 40, \"line\": {\"color\": \"rgb(0,0,0)\"}, \"values\": [\"Person\", \"French\", \"English\"]}, \"type\": \"table\", \"uid\": \"39e92928-a097-48f6-ab7d-a191209cba2d\"}], {\"height\": 450, \"width\": 750}, {\"showLink\": false, \"linkText\": \"Export to plot.ly\", \"plotlyServerURL\": \"https://plot.ly\"})});</script>"
      ],
      "text/vnd.plotly.v1+html": [
       "<div id=\"fac84afd-952f-46d4-8297-14cf909e02d4\" style=\"height: 450px; width: 750px;\" class=\"plotly-graph-div\"></div><script type=\"text/javascript\">require([\"plotly\"], function(Plotly) { window.PLOTLYENV=window.PLOTLYENV || {};window.PLOTLYENV.BASE_URL=\"https://plot.ly\";Plotly.newPlot(\"fac84afd-952f-46d4-8297-14cf909e02d4\", [{\"cells\": {\"align\": [\"center\", \"center\"], \"fill\": {\"color\": \"rgb(95,102,161)\"}, \"font\": {\"color\": \"white\", \"size\": 14}, \"height\": 30, \"line\": {\"color\": \"black\"}, \"values\": [[\"First\", \"Second\", \"Third\", \"First (plural)\", \"Second (plural)\", \"Third (plural)\"], [\"je\", \"tu\", \"elle, il, on\", \"nous\", \"vous\", \"elles, ils\"], [\"I\", \"you\", \"she, he, one\", \"we\", \"you (plural or formal)\", \"they\"]]}, \"columnorder\": [1, 2, 3], \"columnwidth\": [10, 10], \"header\": {\"align\": [\"center\", \"center\"], \"fill\": {\"color\": \"rgb(0,35,48)\"}, \"font\": {\"color\": \"white\", \"size\": 16}, \"height\": 40, \"line\": {\"color\": \"rgb(0,0,0)\"}, \"values\": [\"Person\", \"French\", \"English\"]}, \"type\": \"table\", \"uid\": \"39e92928-a097-48f6-ab7d-a191209cba2d\"}], {\"height\": 450, \"width\": 750}, {\"showLink\": false, \"linkText\": \"Export to plot.ly\", \"plotlyServerURL\": \"https://plot.ly\"})});</script>"
      ]
     },
     "metadata": {},
     "output_type": "display_data"
    }
   ],
   "source": [
    "#table for personal pronouns using plotly\n",
    "\n",
    "french = ['je','tu','elle, il, on','nous','vous','elles, ils']\n",
    "english = ['I','you','she, he, one','we','you (plural or formal)','they']\n",
    "person = ['First','Second','Third','First (plural)','Second (plural)','Third (plural)']\n",
    "\n",
    "\n",
    "trace0 = go.Table(\n",
    "  columnorder = [1,2,3],\n",
    "  columnwidth = [10,10],\n",
    "  header = dict(\n",
    "    values = ['Person','French','English'],\n",
    "    line = dict(color = 'rgb(0,0,0)'),\n",
    "    fill = dict(color = 'rgb(0,35,48)'),\n",
    "    align = ['center','center'],\n",
    "    font = dict(color = 'white', size = 16),\n",
    "    height = 40\n",
    "  ),\n",
    "  cells = dict(\n",
    "    values = [person,french,english],\n",
    "    line = dict(color = 'black'),\n",
    "    fill = dict(color = 'rgb(95,102,161)'),\n",
    "    align = ['center', 'center'],\n",
    "    font = dict(color = 'white', size = 14),\n",
    "    height = 30\n",
    "    )\n",
    ")\n",
    "layout = dict(\n",
    "    width=750, \n",
    "    height=450\n",
    ")\n",
    "#     margin=go.layout.Margin(\n",
    "#     l=0,\n",
    "#     r=0,\n",
    "#     b=0,\n",
    "#     t=0,\n",
    "#     pad=0\n",
    "#     )\n",
    "\n",
    "\n",
    "data = [trace0]\n",
    "fig = dict(data = data, layout = layout)\n",
    "\n",
    "iplot(fig)"
   ]
  },
  {
   "cell_type": "markdown",
   "metadata": {
    "hidden": false
   },
   "source": [
    "Our verb conjugation rules will be based on these personal pronouns, so it is good to get familiar with their translations. French makes a distinction between all of these different tense based on their person, whether or not they are masculine or feminine, and if they are plural or singular. \n",
    "\n",
    "\n",
    "## Special Verbs\n",
    "\n",
    "Let's jump right to conjugating the two (arguably) most important verbs: To Be and To Have.\n",
    "\n",
    "\n",
    "\n",
    "## Être (to be)"
   ]
  },
  {
   "cell_type": "code",
   "execution_count": 3,
   "metadata": {
    "hidden": false
   },
   "outputs": [
    {
     "data": {
      "application/vnd.plotly.v1+json": {
       "config": {
        "linkText": "Export to plot.ly",
        "plotlyServerURL": "https://plot.ly",
        "showLink": false
       },
       "data": [
        {
         "cells": {
          "align": [
           "center",
           "center"
          ],
          "fill": {
           "color": "rgb(95,102,161)"
          },
          "font": {
           "color": "white",
           "size": 14
          },
          "height": 30,
          "line": {
           "color": "black"
          },
          "values": [
           [
            "je",
            "tu",
            "elle, il, on",
            "nous",
            "vous",
            "elles, ils"
           ],
           [
            "suis",
            "es",
            "est",
            "sommes",
            "êtes",
            "sont"
           ]
          ]
         },
         "columnorder": [
          1,
          2
         ],
         "columnwidth": [
          10,
          10
         ],
         "header": {
          "align": [
           "center",
           "center"
          ],
          "fill": {
           "color": "rgb(0,35,48)"
          },
          "font": {
           "color": "white",
           "size": 16
          },
          "height": 40,
          "line": {
           "color": "rgb(0,0,0)"
          },
          "values": [
           "Pronoun",
           "Conjugation"
          ]
         },
         "type": "table",
         "uid": "70cfc777-731b-4bb7-9421-137feb35ecc5"
        }
       ],
       "layout": {
        "height": 450,
        "width": 500
       }
      },
      "text/html": [
       "<div id=\"099b93e3-4cb9-4472-a225-ce87798f9971\" style=\"height: 450px; width: 500px;\" class=\"plotly-graph-div\"></div><script type=\"text/javascript\">require([\"plotly\"], function(Plotly) { window.PLOTLYENV=window.PLOTLYENV || {};window.PLOTLYENV.BASE_URL=\"https://plot.ly\";Plotly.newPlot(\"099b93e3-4cb9-4472-a225-ce87798f9971\", [{\"cells\": {\"align\": [\"center\", \"center\"], \"fill\": {\"color\": \"rgb(95,102,161)\"}, \"font\": {\"color\": \"white\", \"size\": 14}, \"height\": 30, \"line\": {\"color\": \"black\"}, \"values\": [[\"je\", \"tu\", \"elle, il, on\", \"nous\", \"vous\", \"elles, ils\"], [\"suis\", \"es\", \"est\", \"sommes\", \"\\u00eates\", \"sont\"]]}, \"columnorder\": [1, 2], \"columnwidth\": [10, 10], \"header\": {\"align\": [\"center\", \"center\"], \"fill\": {\"color\": \"rgb(0,35,48)\"}, \"font\": {\"color\": \"white\", \"size\": 16}, \"height\": 40, \"line\": {\"color\": \"rgb(0,0,0)\"}, \"values\": [\"Pronoun\", \"Conjugation\"]}, \"type\": \"table\", \"uid\": \"614b9169-58eb-4aff-8fa0-b7fe43d9e795\"}], {\"height\": 450, \"width\": 500}, {\"showLink\": false, \"linkText\": \"Export to plot.ly\", \"plotlyServerURL\": \"https://plot.ly\"})});</script>"
      ],
      "text/vnd.plotly.v1+html": [
       "<div id=\"099b93e3-4cb9-4472-a225-ce87798f9971\" style=\"height: 450px; width: 500px;\" class=\"plotly-graph-div\"></div><script type=\"text/javascript\">require([\"plotly\"], function(Plotly) { window.PLOTLYENV=window.PLOTLYENV || {};window.PLOTLYENV.BASE_URL=\"https://plot.ly\";Plotly.newPlot(\"099b93e3-4cb9-4472-a225-ce87798f9971\", [{\"cells\": {\"align\": [\"center\", \"center\"], \"fill\": {\"color\": \"rgb(95,102,161)\"}, \"font\": {\"color\": \"white\", \"size\": 14}, \"height\": 30, \"line\": {\"color\": \"black\"}, \"values\": [[\"je\", \"tu\", \"elle, il, on\", \"nous\", \"vous\", \"elles, ils\"], [\"suis\", \"es\", \"est\", \"sommes\", \"\\u00eates\", \"sont\"]]}, \"columnorder\": [1, 2], \"columnwidth\": [10, 10], \"header\": {\"align\": [\"center\", \"center\"], \"fill\": {\"color\": \"rgb(0,35,48)\"}, \"font\": {\"color\": \"white\", \"size\": 16}, \"height\": 40, \"line\": {\"color\": \"rgb(0,0,0)\"}, \"values\": [\"Pronoun\", \"Conjugation\"]}, \"type\": \"table\", \"uid\": \"614b9169-58eb-4aff-8fa0-b7fe43d9e795\"}], {\"height\": 450, \"width\": 500}, {\"showLink\": false, \"linkText\": \"Export to plot.ly\", \"plotlyServerURL\": \"https://plot.ly\"})});</script>"
      ]
     },
     "metadata": {},
     "output_type": "display_data"
    }
   ],
   "source": [
    "french = ['je','tu','elle, il, on','nous','vous','elles, ils']\n",
    "conjug = ['suis','es','est','sommes','êtes','sont']\n",
    "\n",
    "trace0 = go.Table(\n",
    "  columnorder = [1,2],\n",
    "  columnwidth = [10,10],\n",
    "  header = dict(\n",
    "    values = ['Pronoun','Conjugation'],\n",
    "    line = dict(color = 'rgb(0,0,0)'),\n",
    "    fill = dict(color = 'rgb(0,35,48)'),\n",
    "    align = ['center','center'],\n",
    "    font = dict(color = 'white', size = 16),\n",
    "    height = 40\n",
    "  ),\n",
    "  cells = dict(\n",
    "    values = [french,conjug],\n",
    "    line = dict(color = 'black'),\n",
    "    fill = dict(color = 'rgb(95,102,161)'),\n",
    "    align = ['center', 'center'],\n",
    "    font = dict(color = 'white', size = 14),\n",
    "    height = 30\n",
    "    )\n",
    ")\n",
    "layout = dict(\n",
    "    width=500, \n",
    "    height=450)\n",
    "\n",
    "data = [trace0]\n",
    "fig = dict(data = data, layout = layout)\n",
    "\n",
    "iplot(fig)"
   ]
  },
  {
   "cell_type": "markdown",
   "metadata": {
    "hidden": false
   },
   "source": [
    "\"Être\" is an irregular verb, that does not obey a certain format, if you will, for conjugating verbs in the present tense. There many examples of exceptions, which we will explore further. But first, the next most important verb:"
   ]
  },
  {
   "cell_type": "markdown",
   "metadata": {
    "hidden": false
   },
   "source": [
    "## Avoir  (to have)"
   ]
  },
  {
   "cell_type": "code",
   "execution_count": 4,
   "metadata": {
    "hidden": false
   },
   "outputs": [
    {
     "data": {
      "application/vnd.plotly.v1+json": {
       "config": {
        "linkText": "Export to plot.ly",
        "plotlyServerURL": "https://plot.ly",
        "showLink": false
       },
       "data": [
        {
         "cells": {
          "align": [
           "center",
           "center"
          ],
          "fill": {
           "color": "rgb(95,102,161)"
          },
          "font": {
           "color": "white",
           "size": 14
          },
          "height": 30,
          "line": {
           "color": "black"
          },
          "values": [
           [
            "j'",
            "tu",
            "elle, il, on",
            "nous",
            "vous",
            "elles, ils"
           ],
           [
            "ai",
            "as",
            "a",
            "avons",
            "avez",
            "ont"
           ]
          ]
         },
         "columnorder": [
          1,
          2
         ],
         "columnwidth": [
          10,
          10
         ],
         "header": {
          "align": [
           "center",
           "center"
          ],
          "fill": {
           "color": "rgb(0,35,48)"
          },
          "font": {
           "color": "white",
           "size": 16
          },
          "height": 40,
          "line": {
           "color": "rgb(0,0,0)"
          },
          "values": [
           "Pronoun",
           "Conjugation"
          ]
         },
         "type": "table",
         "uid": "efbdf18f-0d7c-4daa-bf64-016a4729aa75"
        }
       ],
       "layout": {
        "height": 450,
        "width": 500
       }
      },
      "text/html": [
       "<div id=\"241a4959-e050-44c8-a3d3-131ac1ad68f1\" style=\"height: 450px; width: 500px;\" class=\"plotly-graph-div\"></div><script type=\"text/javascript\">require([\"plotly\"], function(Plotly) { window.PLOTLYENV=window.PLOTLYENV || {};window.PLOTLYENV.BASE_URL=\"https://plot.ly\";Plotly.newPlot(\"241a4959-e050-44c8-a3d3-131ac1ad68f1\", [{\"cells\": {\"align\": [\"center\", \"center\"], \"fill\": {\"color\": \"rgb(95,102,161)\"}, \"font\": {\"color\": \"white\", \"size\": 14}, \"height\": 30, \"line\": {\"color\": \"black\"}, \"values\": [[\"j'\", \"tu\", \"elle, il, on\", \"nous\", \"vous\", \"elles, ils\"], [\"ai\", \"as\", \"a\", \"avons\", \"avez\", \"ont\"]]}, \"columnorder\": [1, 2], \"columnwidth\": [10, 10], \"header\": {\"align\": [\"center\", \"center\"], \"fill\": {\"color\": \"rgb(0,35,48)\"}, \"font\": {\"color\": \"white\", \"size\": 16}, \"height\": 40, \"line\": {\"color\": \"rgb(0,0,0)\"}, \"values\": [\"Pronoun\", \"Conjugation\"]}, \"type\": \"table\", \"uid\": \"f7f8d1ca-eda7-4535-a140-c30c5d8d888d\"}], {\"height\": 450, \"width\": 500}, {\"showLink\": false, \"linkText\": \"Export to plot.ly\", \"plotlyServerURL\": \"https://plot.ly\"})});</script>"
      ],
      "text/vnd.plotly.v1+html": [
       "<div id=\"241a4959-e050-44c8-a3d3-131ac1ad68f1\" style=\"height: 450px; width: 500px;\" class=\"plotly-graph-div\"></div><script type=\"text/javascript\">require([\"plotly\"], function(Plotly) { window.PLOTLYENV=window.PLOTLYENV || {};window.PLOTLYENV.BASE_URL=\"https://plot.ly\";Plotly.newPlot(\"241a4959-e050-44c8-a3d3-131ac1ad68f1\", [{\"cells\": {\"align\": [\"center\", \"center\"], \"fill\": {\"color\": \"rgb(95,102,161)\"}, \"font\": {\"color\": \"white\", \"size\": 14}, \"height\": 30, \"line\": {\"color\": \"black\"}, \"values\": [[\"j'\", \"tu\", \"elle, il, on\", \"nous\", \"vous\", \"elles, ils\"], [\"ai\", \"as\", \"a\", \"avons\", \"avez\", \"ont\"]]}, \"columnorder\": [1, 2], \"columnwidth\": [10, 10], \"header\": {\"align\": [\"center\", \"center\"], \"fill\": {\"color\": \"rgb(0,35,48)\"}, \"font\": {\"color\": \"white\", \"size\": 16}, \"height\": 40, \"line\": {\"color\": \"rgb(0,0,0)\"}, \"values\": [\"Pronoun\", \"Conjugation\"]}, \"type\": \"table\", \"uid\": \"f7f8d1ca-eda7-4535-a140-c30c5d8d888d\"}], {\"height\": 450, \"width\": 500}, {\"showLink\": false, \"linkText\": \"Export to plot.ly\", \"plotlyServerURL\": \"https://plot.ly\"})});</script>"
      ]
     },
     "metadata": {},
     "output_type": "display_data"
    }
   ],
   "source": [
    "french = [\"j'\",'tu','elle, il, on','nous','vous','elles, ils']\n",
    "conjug = ['ai','as','a','avons','avez','ont']\n",
    "\n",
    "trace0 = go.Table(\n",
    "  columnorder = [1,2],\n",
    "  columnwidth = [10,10],\n",
    "  header = dict(\n",
    "    values = ['Pronoun','Conjugation'],\n",
    "    line = dict(color = 'rgb(0,0,0)'),\n",
    "    fill = dict(color = 'rgb(0,35,48)'),\n",
    "    align = ['center','center'],\n",
    "    font = dict(color = 'white', size = 16),\n",
    "    height = 40\n",
    "  ),\n",
    "  cells = dict(\n",
    "    values = [french,conjug],\n",
    "    line = dict(color = 'black'),\n",
    "    fill = dict(color = 'rgb(95,102,161)'),\n",
    "    align = ['center', 'center'],\n",
    "    font = dict(color = 'white', size = 14),\n",
    "    height = 30\n",
    "    )\n",
    ")\n",
    "layout = dict(width=500, height=450)\n",
    "\n",
    "data = [trace0]\n",
    "fig = dict(data = data, layout = layout)\n",
    "\n",
    "iplot(fig)"
   ]
  },
  {
   "cell_type": "markdown",
   "metadata": {
    "hidden": false
   },
   "source": [
    "Notice for the first person singular we have *j'* instead of *je*, this is due to the fact that the verb starts a vowel. This rule is similar to using \"a\" and \"an\" in English. \n",
    "\n",
    "## Regular \"er\" verbs\n",
    "\n",
    "Let's now look at the general rubric for conjugating verbs that end in **er** in the present tense. \n",
    "\n",
    "We will illustrate this with the verb \"parler\" (to speak). The stem of the verb parler is \"parl-\". We conjugate it by adding on the endings \"e\", \"es\", \"e\", \"ons\", \"ez\" \"ent\" for the corresponding pronouns, as follows:"
   ]
  },
  {
   "cell_type": "code",
   "execution_count": 5,
   "metadata": {
    "hidden": false
   },
   "outputs": [
    {
     "data": {
      "application/vnd.plotly.v1+json": {
       "config": {
        "linkText": "Export to plot.ly",
        "plotlyServerURL": "https://plot.ly",
        "showLink": false
       },
       "data": [
        {
         "cells": {
          "align": [
           "center",
           "center"
          ],
          "fill": {
           "color": "rgb(95,102,161)"
          },
          "font": {
           "color": "white",
           "size": 14
          },
          "height": 30,
          "line": {
           "color": "black"
          },
          "values": [
           [
            "je",
            "tu",
            "elle, il, on",
            "nous",
            "vous",
            "elles, ils"
           ],
           [
            "parle",
            "parles",
            "parle",
            "parlons",
            "parlez",
            "parlent"
           ]
          ]
         },
         "columnorder": [
          1,
          2
         ],
         "columnwidth": [
          10,
          10
         ],
         "header": {
          "align": [
           "center",
           "center"
          ],
          "fill": {
           "color": "rgb(0,35,48)"
          },
          "font": {
           "color": "white",
           "size": 16
          },
          "height": 40,
          "line": {
           "color": "rgb(0,0,0)"
          },
          "values": [
           "Pronoun",
           "Conjugation"
          ]
         },
         "type": "table",
         "uid": "162d87f7-44ae-4931-9e34-ad8fcf7fdd51"
        }
       ],
       "layout": {
        "height": 450,
        "width": 500
       }
      },
      "text/html": [
       "<div id=\"092047a0-4fcf-485c-a8d2-b4494eb1e741\" style=\"height: 450px; width: 500px;\" class=\"plotly-graph-div\"></div><script type=\"text/javascript\">require([\"plotly\"], function(Plotly) { window.PLOTLYENV=window.PLOTLYENV || {};window.PLOTLYENV.BASE_URL=\"https://plot.ly\";Plotly.newPlot(\"092047a0-4fcf-485c-a8d2-b4494eb1e741\", [{\"cells\": {\"align\": [\"center\", \"center\"], \"fill\": {\"color\": \"rgb(95,102,161)\"}, \"font\": {\"color\": \"white\", \"size\": 14}, \"height\": 30, \"line\": {\"color\": \"black\"}, \"values\": [[\"je\", \"tu\", \"elle, il, on\", \"nous\", \"vous\", \"elles, ils\"], [\"parle\", \"parles\", \"parle\", \"parlons\", \"parlez\", \"parlent\"]]}, \"columnorder\": [1, 2], \"columnwidth\": [10, 10], \"header\": {\"align\": [\"center\", \"center\"], \"fill\": {\"color\": \"rgb(0,35,48)\"}, \"font\": {\"color\": \"white\", \"size\": 16}, \"height\": 40, \"line\": {\"color\": \"rgb(0,0,0)\"}, \"values\": [\"Pronoun\", \"Conjugation\"]}, \"type\": \"table\", \"uid\": \"0c7c235d-6f95-49cf-9c88-92c6cb70cb66\"}], {\"height\": 450, \"width\": 500}, {\"showLink\": false, \"linkText\": \"Export to plot.ly\", \"plotlyServerURL\": \"https://plot.ly\"})});</script>"
      ],
      "text/vnd.plotly.v1+html": [
       "<div id=\"092047a0-4fcf-485c-a8d2-b4494eb1e741\" style=\"height: 450px; width: 500px;\" class=\"plotly-graph-div\"></div><script type=\"text/javascript\">require([\"plotly\"], function(Plotly) { window.PLOTLYENV=window.PLOTLYENV || {};window.PLOTLYENV.BASE_URL=\"https://plot.ly\";Plotly.newPlot(\"092047a0-4fcf-485c-a8d2-b4494eb1e741\", [{\"cells\": {\"align\": [\"center\", \"center\"], \"fill\": {\"color\": \"rgb(95,102,161)\"}, \"font\": {\"color\": \"white\", \"size\": 14}, \"height\": 30, \"line\": {\"color\": \"black\"}, \"values\": [[\"je\", \"tu\", \"elle, il, on\", \"nous\", \"vous\", \"elles, ils\"], [\"parle\", \"parles\", \"parle\", \"parlons\", \"parlez\", \"parlent\"]]}, \"columnorder\": [1, 2], \"columnwidth\": [10, 10], \"header\": {\"align\": [\"center\", \"center\"], \"fill\": {\"color\": \"rgb(0,35,48)\"}, \"font\": {\"color\": \"white\", \"size\": 16}, \"height\": 40, \"line\": {\"color\": \"rgb(0,0,0)\"}, \"values\": [\"Pronoun\", \"Conjugation\"]}, \"type\": \"table\", \"uid\": \"0c7c235d-6f95-49cf-9c88-92c6cb70cb66\"}], {\"height\": 450, \"width\": 500}, {\"showLink\": false, \"linkText\": \"Export to plot.ly\", \"plotlyServerURL\": \"https://plot.ly\"})});</script>"
      ]
     },
     "metadata": {},
     "output_type": "display_data"
    }
   ],
   "source": [
    "french = ['je','tu','elle, il, on','nous','vous','elles, ils']\n",
    "stem = ['parl-','parl-','parl-','parl-','parl-','parl-']\n",
    "ending = ['e','es','e','ons','ez','ent']\n",
    "conjug = ['parle','parles','parle','parlons','parlez','parlent']\n",
    "\n",
    "\n",
    "trace0 = go.Table(\n",
    "  columnorder = [1,2],\n",
    "  columnwidth = [10,10],\n",
    "  header = dict(\n",
    "    values = ['Pronoun','Conjugation'],\n",
    "    line = dict(color = 'rgb(0,0,0)'),\n",
    "    fill = dict(color = 'rgb(0,35,48)'),\n",
    "    align = ['center','center'],\n",
    "    font = dict(color = 'white', size = 16),\n",
    "    height = 40\n",
    "  ),\n",
    "  cells = dict(\n",
    "    values = [french,conjug],\n",
    "    line = dict(color = 'black'),\n",
    "    fill = dict(color = 'rgb(95,102,161)'),\n",
    "    align = ['center', 'center'],\n",
    "    font = dict(color = 'white', size = 14),\n",
    "    height = 30\n",
    "    )\n",
    ")\n",
    "layout = dict(width=500, height=450)\n",
    "\n",
    "data = [trace0]\n",
    "fig = dict(data = data, layout = layout)\n",
    "\n",
    "iplot(fig)"
   ]
  },
  {
   "cell_type": "markdown",
   "metadata": {
    "hidden": false
   },
   "source": [
    "This can be taken as the general rule for conjugating **er** verbs in the present tense. All you need to do is find the *stem* of the verb, which was parl- in this case and then apply these endings to figure out how to conjugate the verb for every personal pronoun. \n",
    "\n",
    "For instance, try this yourself with the verb \"manger\" (to eat). The stem is \"mang-\", so what are the corresponding six conjucations, as in the table above?\n",
    "\n",
    "This pattern works for most \"er\" verbs, and there are hundreds of them. All you have to do is watch out for the exceptions..."
   ]
  },
  {
   "cell_type": "markdown",
   "metadata": {
    "hidden": false
   },
   "source": [
    "## Exceptions for \"er\" verbs\n",
    "\n",
    "French is filled with exceptions, which makes it a bit of a difficult language to master as one has to basically dedicate the exceptions to memory. An exception for a verb means that it is not (maybe just partially) conjugating using the endings given above. Thankfully there are not many exceptions for the **er** verbs. Most exceptions arise in an alteration of the stem of the verb. Here are a few notable ones:\n",
    "\n",
    "## The  \"-oyer\" and \"-uyer\" exceptions:\n",
    "\n",
    "For verbs like \"envoyer\" (to send) or \"ennuyer\" (to annoy) the stem changes the \"y\" to an \"i\" for all pronouns except nous and vous:"
   ]
  },
  {
   "cell_type": "code",
   "execution_count": 6,
   "metadata": {
    "hidden": false
   },
   "outputs": [
    {
     "data": {
      "application/vnd.plotly.v1+json": {
       "config": {
        "linkText": "Export to plot.ly",
        "plotlyServerURL": "https://plot.ly",
        "showLink": false
       },
       "data": [
        {
         "cells": {
          "align": [
           "center",
           "center"
          ],
          "fill": {
           "color": "rgb(95,102,161)"
          },
          "font": {
           "color": "white",
           "size": 14
          },
          "height": 30,
          "line": {
           "color": "black"
          },
          "values": [
           [
            "j'",
            "tu",
            "elle, il, on",
            "nous",
            "vous",
            "elles, ils"
           ],
           [
            "envoie",
            "envoies",
            "envoie",
            "envoyons",
            "envoyez",
            "envoient"
           ]
          ]
         },
         "columnorder": [
          1,
          2,
          3
         ],
         "columnwidth": [
          10,
          10
         ],
         "header": {
          "align": [
           "center",
           "center"
          ],
          "fill": {
           "color": "rgb(0,35,48)"
          },
          "font": {
           "color": "white",
           "size": 16
          },
          "height": 40,
          "line": {
           "color": "rgb(0,0,0)"
          },
          "values": [
           "Pronoun",
           "Conjugation"
          ]
         },
         "type": "table",
         "uid": "1bc0da22-5212-4de4-8139-f6cfcfcdd7b2"
        }
       ],
       "layout": {
        "height": 450,
        "width": 500
       }
      },
      "text/html": [
       "<div id=\"45b850c5-0abd-4f35-a160-b8c2f4c89bde\" style=\"height: 450px; width: 500px;\" class=\"plotly-graph-div\"></div><script type=\"text/javascript\">require([\"plotly\"], function(Plotly) { window.PLOTLYENV=window.PLOTLYENV || {};window.PLOTLYENV.BASE_URL=\"https://plot.ly\";Plotly.newPlot(\"45b850c5-0abd-4f35-a160-b8c2f4c89bde\", [{\"cells\": {\"align\": [\"center\", \"center\"], \"fill\": {\"color\": \"rgb(95,102,161)\"}, \"font\": {\"color\": \"white\", \"size\": 14}, \"height\": 30, \"line\": {\"color\": \"black\"}, \"values\": [[\"j'\", \"tu\", \"elle, il, on\", \"nous\", \"vous\", \"elles, ils\"], [\"envoie\", \"envoies\", \"envoie\", \"envoyons\", \"envoyez\", \"envoient\"]]}, \"columnorder\": [1, 2, 3], \"columnwidth\": [10, 10], \"header\": {\"align\": [\"center\", \"center\"], \"fill\": {\"color\": \"rgb(0,35,48)\"}, \"font\": {\"color\": \"white\", \"size\": 16}, \"height\": 40, \"line\": {\"color\": \"rgb(0,0,0)\"}, \"values\": [\"Pronoun\", \"Conjugation\"]}, \"type\": \"table\", \"uid\": \"9dbedbfc-7c31-40cf-988d-bbac4d3da9c7\"}], {\"height\": 450, \"width\": 500}, {\"showLink\": false, \"linkText\": \"Export to plot.ly\", \"plotlyServerURL\": \"https://plot.ly\"})});</script>"
      ],
      "text/vnd.plotly.v1+html": [
       "<div id=\"45b850c5-0abd-4f35-a160-b8c2f4c89bde\" style=\"height: 450px; width: 500px;\" class=\"plotly-graph-div\"></div><script type=\"text/javascript\">require([\"plotly\"], function(Plotly) { window.PLOTLYENV=window.PLOTLYENV || {};window.PLOTLYENV.BASE_URL=\"https://plot.ly\";Plotly.newPlot(\"45b850c5-0abd-4f35-a160-b8c2f4c89bde\", [{\"cells\": {\"align\": [\"center\", \"center\"], \"fill\": {\"color\": \"rgb(95,102,161)\"}, \"font\": {\"color\": \"white\", \"size\": 14}, \"height\": 30, \"line\": {\"color\": \"black\"}, \"values\": [[\"j'\", \"tu\", \"elle, il, on\", \"nous\", \"vous\", \"elles, ils\"], [\"envoie\", \"envoies\", \"envoie\", \"envoyons\", \"envoyez\", \"envoient\"]]}, \"columnorder\": [1, 2, 3], \"columnwidth\": [10, 10], \"header\": {\"align\": [\"center\", \"center\"], \"fill\": {\"color\": \"rgb(0,35,48)\"}, \"font\": {\"color\": \"white\", \"size\": 16}, \"height\": 40, \"line\": {\"color\": \"rgb(0,0,0)\"}, \"values\": [\"Pronoun\", \"Conjugation\"]}, \"type\": \"table\", \"uid\": \"9dbedbfc-7c31-40cf-988d-bbac4d3da9c7\"}], {\"height\": 450, \"width\": 500}, {\"showLink\": false, \"linkText\": \"Export to plot.ly\", \"plotlyServerURL\": \"https://plot.ly\"})});</script>"
      ]
     },
     "metadata": {},
     "output_type": "display_data"
    }
   ],
   "source": [
    "french = [\"j'\",'tu','elle, il, on','nous','vous','elles, ils']\n",
    "conjug = ['envoie', 'envoies','envoie','envoyons','envoyez','envoient']\n",
    "\n",
    "trace0 = go.Table(\n",
    "  columnorder = [1,2,3],\n",
    "  columnwidth = [10,10],\n",
    "  header = dict(\n",
    "    values = ['Pronoun','Conjugation'],\n",
    "    line = dict(color = 'rgb(0,0,0)'),\n",
    "    fill = dict(color = 'rgb(0,35,48)'),\n",
    "    align = ['center','center'],\n",
    "    font = dict(color = 'white', size = 16),\n",
    "    height = 40\n",
    "  ),\n",
    "  cells = dict(\n",
    "    values = [french,conjug],\n",
    "    line = dict(color = 'black'),\n",
    "    fill = dict(color = 'rgb(95,102,161)'),\n",
    "    align = ['center', 'center'],\n",
    "    font = dict(color = 'white', size = 14),\n",
    "    height = 30\n",
    "    )\n",
    ")\n",
    "layout = dict(width=500, height=450)\n",
    "\n",
    "data = [trace0]\n",
    "fig = dict(data = data, layout = layout)\n",
    "\n",
    "iplot(fig)"
   ]
  },
  {
   "cell_type": "markdown",
   "metadata": {
    "hidden": false
   },
   "source": [
    "## The \"e_er\" or \"é_er\" exceptions:\n",
    "\n",
    "Verbs like \"acheter\" (to buy) or \"préférer\" (to prefer) also follow an exception rule. The accent aigue becomes an accent grave, that is,  é becomes è, except in the nous and vous cases, where it does not change. Note this means the pronunciation of the letter changes as well. "
   ]
  },
  {
   "cell_type": "code",
   "execution_count": 7,
   "metadata": {
    "hidden": false
   },
   "outputs": [
    {
     "data": {
      "application/vnd.plotly.v1+json": {
       "config": {
        "linkText": "Export to plot.ly",
        "plotlyServerURL": "https://plot.ly",
        "showLink": false
       },
       "data": [
        {
         "cells": {
          "align": [
           "center",
           "center"
          ],
          "fill": {
           "color": "rgb(95,102,161)"
          },
          "font": {
           "color": "white",
           "size": 14
          },
          "height": 30,
          "line": {
           "color": "black"
          },
          "values": [
           [
            "je",
            "tu",
            "elle, il, on",
            "nous",
            "vous",
            "elles, ils"
           ],
           [
            "préfère",
            "préfères",
            "préfère",
            "préférons",
            "préférez",
            "préfèrent"
           ]
          ]
         },
         "columnorder": [
          1,
          2,
          3
         ],
         "columnwidth": [
          10,
          10
         ],
         "header": {
          "align": [
           "center",
           "center"
          ],
          "fill": {
           "color": "rgb(0,35,48)"
          },
          "font": {
           "color": "white",
           "size": 16
          },
          "height": 40,
          "line": {
           "color": "rgb(0,0,0)"
          },
          "values": [
           "Pronoun",
           "Conjugation"
          ]
         },
         "type": "table",
         "uid": "35ecac92-e603-4fac-beeb-5c31fe6ad3db"
        }
       ],
       "layout": {
        "height": 450,
        "width": 500
       }
      },
      "text/html": [
       "<div id=\"01f3e812-448b-49e5-94c2-26f62701a4eb\" style=\"height: 450px; width: 500px;\" class=\"plotly-graph-div\"></div><script type=\"text/javascript\">require([\"plotly\"], function(Plotly) { window.PLOTLYENV=window.PLOTLYENV || {};window.PLOTLYENV.BASE_URL=\"https://plot.ly\";Plotly.newPlot(\"01f3e812-448b-49e5-94c2-26f62701a4eb\", [{\"cells\": {\"align\": [\"center\", \"center\"], \"fill\": {\"color\": \"rgb(95,102,161)\"}, \"font\": {\"color\": \"white\", \"size\": 14}, \"height\": 30, \"line\": {\"color\": \"black\"}, \"values\": [[\"je\", \"tu\", \"elle, il, on\", \"nous\", \"vous\", \"elles, ils\"], [\"pr\\u00e9f\\u00e8re\", \"pr\\u00e9f\\u00e8res\", \"pr\\u00e9f\\u00e8re\", \"pr\\u00e9f\\u00e9rons\", \"pr\\u00e9f\\u00e9rez\", \"pr\\u00e9f\\u00e8rent\"]]}, \"columnorder\": [1, 2, 3], \"columnwidth\": [10, 10], \"header\": {\"align\": [\"center\", \"center\"], \"fill\": {\"color\": \"rgb(0,35,48)\"}, \"font\": {\"color\": \"white\", \"size\": 16}, \"height\": 40, \"line\": {\"color\": \"rgb(0,0,0)\"}, \"values\": [\"Pronoun\", \"Conjugation\"]}, \"type\": \"table\", \"uid\": \"0e3753dd-71fe-4c80-a871-b03d80960d33\"}], {\"height\": 450, \"width\": 500}, {\"showLink\": false, \"linkText\": \"Export to plot.ly\", \"plotlyServerURL\": \"https://plot.ly\"})});</script>"
      ],
      "text/vnd.plotly.v1+html": [
       "<div id=\"01f3e812-448b-49e5-94c2-26f62701a4eb\" style=\"height: 450px; width: 500px;\" class=\"plotly-graph-div\"></div><script type=\"text/javascript\">require([\"plotly\"], function(Plotly) { window.PLOTLYENV=window.PLOTLYENV || {};window.PLOTLYENV.BASE_URL=\"https://plot.ly\";Plotly.newPlot(\"01f3e812-448b-49e5-94c2-26f62701a4eb\", [{\"cells\": {\"align\": [\"center\", \"center\"], \"fill\": {\"color\": \"rgb(95,102,161)\"}, \"font\": {\"color\": \"white\", \"size\": 14}, \"height\": 30, \"line\": {\"color\": \"black\"}, \"values\": [[\"je\", \"tu\", \"elle, il, on\", \"nous\", \"vous\", \"elles, ils\"], [\"pr\\u00e9f\\u00e8re\", \"pr\\u00e9f\\u00e8res\", \"pr\\u00e9f\\u00e8re\", \"pr\\u00e9f\\u00e9rons\", \"pr\\u00e9f\\u00e9rez\", \"pr\\u00e9f\\u00e8rent\"]]}, \"columnorder\": [1, 2, 3], \"columnwidth\": [10, 10], \"header\": {\"align\": [\"center\", \"center\"], \"fill\": {\"color\": \"rgb(0,35,48)\"}, \"font\": {\"color\": \"white\", \"size\": 16}, \"height\": 40, \"line\": {\"color\": \"rgb(0,0,0)\"}, \"values\": [\"Pronoun\", \"Conjugation\"]}, \"type\": \"table\", \"uid\": \"0e3753dd-71fe-4c80-a871-b03d80960d33\"}], {\"height\": 450, \"width\": 500}, {\"showLink\": false, \"linkText\": \"Export to plot.ly\", \"plotlyServerURL\": \"https://plot.ly\"})});</script>"
      ]
     },
     "metadata": {},
     "output_type": "display_data"
    }
   ],
   "source": [
    "conjug = ['préfère','préfères','préfère','préférons','préférez','préfèrent']\n",
    "french = ['je','tu','elle, il, on','nous','vous','elles, ils']\n",
    "\n",
    "trace0 = go.Table(\n",
    "  columnorder = [1,2,3],\n",
    "  columnwidth = [10,10],\n",
    "  header = dict(\n",
    "    values = ['Pronoun','Conjugation'],\n",
    "    line = dict(color = 'rgb(0,0,0)'),\n",
    "    fill = dict(color = 'rgb(0,35,48)'),\n",
    "    align = ['center','center'],\n",
    "    font = dict(color = 'white', size = 16),\n",
    "    height = 40\n",
    "  ),\n",
    "  cells = dict(\n",
    "    values = [french,conjug],\n",
    "    line = dict(color = 'black'),\n",
    "    fill = dict(color = 'rgb(95,102,161)'),\n",
    "    align = ['center', 'center'],\n",
    "    font = dict(color = 'white', size = 14),\n",
    "    height = 30\n",
    "    )\n",
    ")\n",
    "layout = dict(width=500, height=450)\n",
    "\n",
    "data = [trace0]\n",
    "fig = dict(data = data, layout = layout)\n",
    "\n",
    "iplot(fig)"
   ]
  },
  {
   "cell_type": "markdown",
   "metadata": {
    "hidden": false
   },
   "source": [
    "## The  \" –eler \" and \" -eter \" exceptions:\n",
    "\n",
    "For verbs like \"appeler\" (to call) or \"rejeter\" (to reject) the letters \"l\" \n",
    "or \"t\" get doubled. Again, this does not hold for the nous and vous cases. \n"
   ]
  },
  {
   "cell_type": "code",
   "execution_count": 8,
   "metadata": {
    "hidden": false
   },
   "outputs": [
    {
     "data": {
      "application/vnd.plotly.v1+json": {
       "config": {
        "linkText": "Export to plot.ly",
        "plotlyServerURL": "https://plot.ly",
        "showLink": false
       },
       "data": [
        {
         "cells": {
          "align": [
           "center",
           "center"
          ],
          "fill": {
           "color": "rgb(95,102,161)"
          },
          "font": {
           "color": "white",
           "size": 14
          },
          "height": 30,
          "line": {
           "color": "black"
          },
          "values": [
           [
            "je",
            "tu",
            "elle, il, on",
            "nous",
            "vous",
            "elles, ils"
           ],
           [
            "appelle",
            "appelles",
            "appelle",
            "appelons",
            "appelez",
            "appellent"
           ]
          ]
         },
         "columnorder": [
          1,
          2,
          3
         ],
         "columnwidth": [
          10,
          10
         ],
         "header": {
          "align": [
           "center",
           "center"
          ],
          "fill": {
           "color": "rgb(0,35,48)"
          },
          "font": {
           "color": "white",
           "size": 16
          },
          "height": 40,
          "line": {
           "color": "rgb(0,0,0)"
          },
          "values": [
           "Pronoun",
           "Conjugation"
          ]
         },
         "type": "table",
         "uid": "698a121d-1a2d-4061-a603-193d6adda847"
        }
       ],
       "layout": {
        "height": 450,
        "width": 500
       }
      },
      "text/html": [
       "<div id=\"fae4340b-73c1-48a5-b3d5-5cfae73bb7e8\" style=\"height: 450px; width: 500px;\" class=\"plotly-graph-div\"></div><script type=\"text/javascript\">require([\"plotly\"], function(Plotly) { window.PLOTLYENV=window.PLOTLYENV || {};window.PLOTLYENV.BASE_URL=\"https://plot.ly\";Plotly.newPlot(\"fae4340b-73c1-48a5-b3d5-5cfae73bb7e8\", [{\"cells\": {\"align\": [\"center\", \"center\"], \"fill\": {\"color\": \"rgb(95,102,161)\"}, \"font\": {\"color\": \"white\", \"size\": 14}, \"height\": 30, \"line\": {\"color\": \"black\"}, \"values\": [[\"je\", \"tu\", \"elle, il, on\", \"nous\", \"vous\", \"elles, ils\"], [\"appelle\", \"appelles\", \"appelle\", \"appelons\", \"appelez\", \"appellent\"]]}, \"columnorder\": [1, 2, 3], \"columnwidth\": [10, 10], \"header\": {\"align\": [\"center\", \"center\"], \"fill\": {\"color\": \"rgb(0,35,48)\"}, \"font\": {\"color\": \"white\", \"size\": 16}, \"height\": 40, \"line\": {\"color\": \"rgb(0,0,0)\"}, \"values\": [\"Pronoun\", \"Conjugation\"]}, \"type\": \"table\", \"uid\": \"ceb3f541-7f0a-4dd6-83aa-03a694001128\"}], {\"height\": 450, \"width\": 500}, {\"showLink\": false, \"linkText\": \"Export to plot.ly\", \"plotlyServerURL\": \"https://plot.ly\"})});</script>"
      ],
      "text/vnd.plotly.v1+html": [
       "<div id=\"fae4340b-73c1-48a5-b3d5-5cfae73bb7e8\" style=\"height: 450px; width: 500px;\" class=\"plotly-graph-div\"></div><script type=\"text/javascript\">require([\"plotly\"], function(Plotly) { window.PLOTLYENV=window.PLOTLYENV || {};window.PLOTLYENV.BASE_URL=\"https://plot.ly\";Plotly.newPlot(\"fae4340b-73c1-48a5-b3d5-5cfae73bb7e8\", [{\"cells\": {\"align\": [\"center\", \"center\"], \"fill\": {\"color\": \"rgb(95,102,161)\"}, \"font\": {\"color\": \"white\", \"size\": 14}, \"height\": 30, \"line\": {\"color\": \"black\"}, \"values\": [[\"je\", \"tu\", \"elle, il, on\", \"nous\", \"vous\", \"elles, ils\"], [\"appelle\", \"appelles\", \"appelle\", \"appelons\", \"appelez\", \"appellent\"]]}, \"columnorder\": [1, 2, 3], \"columnwidth\": [10, 10], \"header\": {\"align\": [\"center\", \"center\"], \"fill\": {\"color\": \"rgb(0,35,48)\"}, \"font\": {\"color\": \"white\", \"size\": 16}, \"height\": 40, \"line\": {\"color\": \"rgb(0,0,0)\"}, \"values\": [\"Pronoun\", \"Conjugation\"]}, \"type\": \"table\", \"uid\": \"ceb3f541-7f0a-4dd6-83aa-03a694001128\"}], {\"height\": 450, \"width\": 500}, {\"showLink\": false, \"linkText\": \"Export to plot.ly\", \"plotlyServerURL\": \"https://plot.ly\"})});</script>"
      ]
     },
     "metadata": {},
     "output_type": "display_data"
    }
   ],
   "source": [
    "conjug = ['appelle','appelles','appelle','appelons','appelez','appellent']\n",
    "\n",
    "trace0 = go.Table(\n",
    "  columnorder = [1,2,3],\n",
    "  columnwidth = [10,10],\n",
    "  header = dict(\n",
    "    values = ['Pronoun','Conjugation'],\n",
    "    line = dict(color = 'rgb(0,0,0)'),\n",
    "    fill = dict(color = 'rgb(0,35,48)'),\n",
    "    align = ['center','center'],\n",
    "    font = dict(color = 'white', size = 16),\n",
    "    height = 40\n",
    "  ),\n",
    "  cells = dict(\n",
    "    values = [french,conjug],\n",
    "    line = dict(color = 'black'),\n",
    "    fill = dict(color = 'rgb(95,102,161)'),\n",
    "    align = ['center', 'center'],\n",
    "    font = dict(color = 'white', size = 14),\n",
    "    height = 30\n",
    "    )\n",
    ")\n",
    "layout = dict(width=500, height=450)\n",
    "\n",
    "data = [trace0]\n",
    "fig = dict(data = data, layout = layout)\n",
    "\n",
    "iplot(fig)"
   ]
  },
  {
   "cell_type": "markdown",
   "metadata": {
    "hidden": false
   },
   "source": [
    "It's important to be aware of these exceptions, as you will be able to identify patterns in verbs of these forms and the exceptions themselves, like how it doesn't apply for nous and vous. Knowledge of the exceptions is crucial to mastering the language!"
   ]
  },
  {
   "cell_type": "markdown",
   "metadata": {
    "hidden": false
   },
   "source": [
    "## Coding Examples\n",
    "\n",
    "---\n",
    "\n",
    "How could one write code to see if someone conjugated a verb correctly? The following exercise will test your knowledge of French verb conjugation and also introduce you to some aspects of coding. \n",
    "\n",
    "First thing to do is to view the code in this Jupyter notebook!  At the top of the page, there is a button for \n",
    "`Show Code / Hide Code. `  Click on it to show the code in the notebook. \n",
    "\n",
    "Let's now start the coding with an example. I ask you to input an answer to: \"Conjugate the verb *fermer* to the first person singular in the present tense\". How do I check whether or not you input the correct answer?\n",
    "\n",
    "Firstly, to get a user to input a value, we create a *variable* that holds the user input:\n",
    "\n",
    "``` python \n",
    "x = input()\n",
    "```\n",
    "The variable x is a *string*, which a short list of characters, like a word. This will be what we use to check against the correct answer. In our case, the correct answer is \"ferme\". To check if the answer is correct we will employ an `if` statement, which will then `print` a message:\n",
    "\n",
    "``` python \n",
    "if x == 'ferme':\n",
    "    print('Correct')\n",
    "if x != 'ferme':\n",
    "    print('Incorrect')\n",
    "```\n",
    "\n",
    "This deserves some explanation.\n",
    "\n",
    "- We used the quotations around the answer (`'ferme'`) as this is how Python recognizes strings. Since our variable x was held as a string we want to check it against something that is itself a string. \n",
    "- If you want to check that the variable is equal to the correct answer we used ==.\n",
    "- If the answer was incorrect we used !=, which means does not equal (like $\\ne$).\n",
    "- The `print` statement was the operation that we chose to do when the `if` statement was fulfilled. \n",
    "- The if statement requires the colon at the end of the statement and whatever operation you choose to perform given that the statement is fulfilled needs to be indented within the statement. "
   ]
  },
  {
   "cell_type": "code",
   "execution_count": 9,
   "metadata": {
    "hidden": false
   },
   "outputs": [],
   "source": [
    "#perhaps show how this work for a different verb and subject."
   ]
  },
  {
   "cell_type": "markdown",
   "metadata": {
    "hidden": false
   },
   "source": [
    "## Generalizing\n",
    "\n",
    "--- \n",
    "\n",
    "Code that has multiple uses, and is more broadlu useful, is typically a lot more valuable. In our case, how could we write a program that checks the correct answer for any verb, tense, and personal pronoun? This would be a generalization of the simple case that we constructed above. This is a lot more of a complex problem that will have to be broken down. \n",
    "\n",
    "The exercise will be: Conjugate the verb \"___ -er\" in the present tense in every subject. \n",
    "\n",
    "Since we have knowledge of the endings for \"-er\" verbs in the present tense, our problem reduces to analyzing if each of the student's answers fits the form that the conjugated verb should take in that subject. Steps we require then:\n",
    "\n",
    "1. We need to extract the root from each verb.\n",
    "2. See if the remainder of the verb has the correct ending.\n",
    "3. Make sure all answers are correct. \n",
    "\n",
    "To achieve this we will employing the use of a *list*. A list is a data type which has some sort of ordering to it. The ordering gives us the means to *index* an *element* of the list. For example, we have the list:\n",
    "\n",
    "```python\n",
    "subjects = ['je','tu','il/elle/on','nous','vous','ils/elles']\n",
    "```\n",
    "(Note the square brackets)\n",
    "\n",
    "\"subjects\" is a comma separated list of string objects. We can do things like index the list:\n",
    "\n",
    "```python \n",
    "subjects[0] = 'je'\n",
    "subjects[1] = 'tu'\n",
    "subjects[2] = 'il/elle/on'\n",
    "```\n",
    "Notice how the indexing starts from 0. This means if you have **n** elements in a list `v`, and you want to index the last element of the list, you would write `v[n-1]`.\n",
    "\n",
    "What is the value of `subjects[4]`?"
   ]
  },
  {
   "cell_type": "code",
   "execution_count": 10,
   "metadata": {
    "hidden": false
   },
   "outputs": [
    {
     "data": {
      "application/vnd.jupyter.widget-view+json": {
       "model_id": "e5c83839fa844948be75f9047f9a07e8",
       "version_major": 2,
       "version_minor": 0
      },
      "text/plain": [
       "Text(value='vous', placeholder='Enter a Value')"
      ]
     },
     "metadata": {},
     "output_type": "display_data"
    },
    {
     "name": "stdout",
     "output_type": "stream",
     "text": [
      "Correct!\n"
     ]
    }
   ],
   "source": [
    "#Simple list test\n",
    "\n",
    "a = widgets.Text(value = None, placeholder = \"Enter a Value\")\n",
    "display(a)\n",
    "\n",
    "def callback(sender):\n",
    "    clear_output()\n",
    "    display(a)\n",
    "    if a.value != None:\n",
    "        if a.value == \"vous\":\n",
    "            print('Correct!')\n",
    "        if a.value != \"vous\":\n",
    "            print('Incorrect, please try again. Make sure you use only letters, no quotes, no spaces.')\n",
    "    return\n",
    "\n",
    "a.on_submit(callback)\n"
   ]
  },
  {
   "cell_type": "markdown",
   "metadata": {
    "hidden": false
   },
   "source": [
    "A more useful list to us would be:\n",
    "\n",
    "``` python\n",
    "\n",
    "endings = ['e','es','e','ons','ez','ent']\n",
    "\n",
    "```\n",
    "\n",
    "These are the verb endings given for conjugating \"-er\" verbs in the present tense. Now we just need to some means of analyzing their answer to see if they used the right ending. \n",
    "\n",
    "Say that we store all of their answers in a list like:\n",
    "\n",
    "```python\n",
    "answers = ['x1','x2','x3','x4','x5','x6']\n",
    "```\n",
    "This elements of the list, labelled \"x1, x2, ...\" are variables, which are themselves strings. Their position in the list indicates which subject they were trying to conjugate to, for instance x1 $\\rightarrow$ 'je'. The convenience of storing the answers like this will become apparent soon.\n",
    "\n",
    "If we wanted to perform a simple check, say whether or not they simply got the correct form, and not necessarily the correct spelling, we would use the following:\n",
    "\n",
    "```python\n",
    "for i in range(0,6):\n",
    "    \n",
    "    n = len(endings[i])\n",
    "    if answers[i][-n:] != endings[i]:\n",
    "        print('Incorrect')\n",
    "```\n",
    "**What does this do?**\n",
    "\n",
    "This short little piece of code checks to see if they got the right ending. Let's look at some the tools that it uses.\n",
    "\n",
    "**What does the `for` statement do?**\n",
    "```python\n",
    "for i in range(0,6):\n",
    "```\n",
    "This is another essential programming tool known as the `for` loop. Within the `for` loop, the indented code block is executed, then the next iteration of the loop is performed, in our case the index $i$ is increased to $i+1$. This continues until all iterations are done. It provides a means of counting or iterating through a process. In our case we want to iterate over every element in the list and perform the check in the `if` statement.\n",
    "\n",
    "Notice the code `range(0,6)` tells us the index `i` will start at `i=0` and end at `i=5`. It stops before 6.\n",
    "\n",
    "**The `if` statement**\n",
    "\n",
    "Again we used the \"!=\" to see if two strings are not equal to each other. Firstly, we have declared a variable in the loop:\n",
    "```python\n",
    "n = len(endings[i])\n",
    "```\n",
    "This is simply the length of the ending. So for `endings[5]`, which is the string 'ent', the length is `n = 3`. This gives us a way of checking the last letters of the respective answer. We accomplish by using:\n",
    "\n",
    "```python\n",
    "answers[i][-n:]\n",
    "```\n",
    "The first index, `answers[i]` gives us the `i+1` element of the list answers (since we begin indexing from 0). e.g. `answers[3] = 'x4'`. The second index we used, `answers[i][-n:]`, indexes the element of the list. How are we indexing an already indexed list you might ask? Well, this is because a string is conveniently broken up into the characters that make it up. This gives us a way of indexing any \"letter\" of the string. For example, if `x1 = 'mange'` then `x1[3] = 'g'`. This is very nice for us, since we can employ this to check the ending of their answers. To index the last element of a string, or a list, we use the negative. e.g. `x1[-1] = 'e'`. To take out an entire section of a list or string we used \"slice notation\", this is why there is the extra colon. e.g. `x1[-3:] = 'nge'`. In our case we only wanted to index the last `n` letters of the string because this is the amount of letters in the ending that we wanted to check against. If all the answers were correct then the entire `for` loop would run and the `if` statement would never be fulfilled!\n",
    "\n",
    "----\n",
    "\n",
    "\n",
    "Now this was quite a bit of information, so let's test your knowledge on what we've done so far and then we'll work on generalizing this further for a different case.\n",
    "\n",
    "For the lists:\n",
    "\n",
    "```python \n",
    "endings = ['e','es','e','ons','ez','ent']\n",
    "answers = ['mange','manges','mange','mangeons','manger','mangent']\n",
    "```"
   ]
  },
  {
   "cell_type": "code",
   "execution_count": 11,
   "metadata": {},
   "outputs": [
    {
     "data": {
      "text/markdown": [
       "Which element of answers is incorrect? Use index notation , i.e. `answers[]`"
      ],
      "text/plain": [
       "<IPython.core.display.Markdown object>"
      ]
     },
     "metadata": {},
     "output_type": "display_data"
    },
    {
     "data": {
      "application/vnd.jupyter.widget-view+json": {
       "model_id": "1c03636da5054b5d879c16b674ee95bf",
       "version_major": 2,
       "version_minor": 0
      },
      "text/plain": [
       "Text(value='answers[-2]')"
      ]
     },
     "metadata": {},
     "output_type": "display_data"
    },
    {
     "data": {
      "text/markdown": [
       "What part should be changed? Use the double index notation, i.e. `answers[][]`"
      ],
      "text/plain": [
       "<IPython.core.display.Markdown object>"
      ]
     },
     "metadata": {},
     "output_type": "display_data"
    },
    {
     "data": {
      "application/vnd.jupyter.widget-view+json": {
       "model_id": "3ac283dda7264ccb98ddf1d35adc3486",
       "version_major": 2,
       "version_minor": 0
      },
      "text/plain": [
       "Text(value='answers[4][-1]')"
      ]
     },
     "metadata": {},
     "output_type": "display_data"
    },
    {
     "data": {
      "text/markdown": [
       "What should the ending be? Use index notation again, i.e. `endings[]`"
      ],
      "text/plain": [
       "<IPython.core.display.Markdown object>"
      ]
     },
     "metadata": {},
     "output_type": "display_data"
    },
    {
     "data": {
      "application/vnd.jupyter.widget-view+json": {
       "model_id": "f91a5024e5eb40288e74e9dc8ad30b1b",
       "version_major": 2,
       "version_minor": 0
      },
      "text/plain": [
       "Text(value='endings[4]')"
      ]
     },
     "metadata": {},
     "output_type": "display_data"
    },
    {
     "data": {
      "text/markdown": [
       "If I wanted to check the first three answers, how would the `for` loop initial statement look like?         Please use `i` as the index."
      ],
      "text/plain": [
       "<IPython.core.display.Markdown object>"
      ]
     },
     "metadata": {},
     "output_type": "display_data"
    },
    {
     "data": {
      "application/vnd.jupyter.widget-view+json": {
       "model_id": "a9f5493898394f85aa695fc7e1a5fd10",
       "version_major": 2,
       "version_minor": 0
      },
      "text/plain": [
       "Text(value='for i in range(3):')"
      ]
     },
     "metadata": {},
     "output_type": "display_data"
    },
    {
     "data": {
      "text/markdown": [
       "Correct!"
      ],
      "text/plain": [
       "<IPython.core.display.Markdown object>"
      ]
     },
     "metadata": {},
     "output_type": "display_data"
    }
   ],
   "source": [
    "ques1 = \"Which element of answers is incorrect? Use index notation , i.e. `answers[]`\"\n",
    "ques2 = \"What part should be changed? Use the double index notation, i.e. `answers[][]`\"\n",
    "ques3 = \"What should the ending be? Use index notation again, i.e. `endings[]`\"\n",
    "ques4 = \"If I wanted to check the first three answers, how would the `for` loop initial statement look like? \\\n",
    "        Please use `i` as the index.\"\n",
    "ans1 = widgets.Text(value = None)\n",
    "ans2 = widgets.Text(value = None)\n",
    "ans3 = widgets.Text(value = None)\n",
    "ans4 = widgets.Text(value = None)\n",
    "\n",
    "\n",
    "def callback1(sender):\n",
    "    if ans1.value != None:\n",
    "        clear_output()\n",
    "        display(Markdown(ques1))\n",
    "        display(ans1)\n",
    "        if ans1.value == 'answers[4]' or ans1.value == 'answers[-2]':\n",
    "            display(Markdown('Correct!'))\n",
    "        else:\n",
    "            display(Markdown('Not quite! Please try again.'))\n",
    "        display(Markdown(ques2))\n",
    "        display(ans2)\n",
    "        display(Markdown(ques3))\n",
    "        display(ans3)\n",
    "        display(Markdown(ques4))\n",
    "        display(ans4)       \n",
    "    return\n",
    "\n",
    "def callback2(sender):\n",
    "    if ans2.value != None:\n",
    "        clear_output()\n",
    "        display(Markdown(ques1))\n",
    "        display(ans1)\n",
    "        display(Markdown(ques2))\n",
    "        display(ans2)\n",
    "        if ans2.value == 'answers[4][4:]' or ans2.value == 'answers[4][-2:]' or \\\n",
    "            ans2.value == 'answers[4][-1]'  or ans2.value == 'answers[4][5]':\n",
    "            display(Markdown('Correct!'))\n",
    "        else:\n",
    "            display(Markdown('Not quite! Please try again. You might need a colon in there.'))\n",
    "        display(Markdown(ques3))\n",
    "        display(ans3)\n",
    "        display(Markdown(ques4))\n",
    "        display(ans4)       \n",
    "        return\n",
    "    \n",
    "def callback3(sender):    \n",
    "    if ans3.value != None:\n",
    "        clear_output()\n",
    "        display(Markdown(ques1))\n",
    "        display(ans1)\n",
    "        display(Markdown(ques2))\n",
    "        display(ans2)\n",
    "        display(Markdown(ques3))\n",
    "        display(ans3)\n",
    "        if ans3.value == 'endings[4]' or ans3.value == 'endings[-2]':\n",
    "            display(Markdown('Correct!'))\n",
    "        else:\n",
    "            display(Markdown('Not quite! Please try again.'))\n",
    "        display(Markdown(ques4))\n",
    "        display(ans4)       \n",
    "        return\n",
    "    \n",
    "def callback4(sender):\n",
    "    if ans4.value != None:\n",
    "        clear_output()\n",
    "        display(Markdown(ques1))\n",
    "        display(ans1)\n",
    "        display(Markdown(ques2))\n",
    "        display(ans2)\n",
    "        display(Markdown(ques3))\n",
    "        display(ans3)\n",
    "        display(Markdown(ques4))\n",
    "        display(ans4)       \n",
    "        if ans4.value == 'for i in range(0,3):' or ans4.value == 'for i in range(3):':\n",
    "            display(Markdown('Correct!'))\n",
    "        else:\n",
    "            display(Markdown(\"Not quite! Please try again. Don't forget the colon :\"))\n",
    "    return\n",
    "\n",
    "ans1.on_submit(callback1)\n",
    "ans2.on_submit(callback2)\n",
    "ans3.on_submit(callback3)\n",
    "ans4.on_submit(callback4)\n",
    "\n",
    "display(Markdown(ques1))\n",
    "display(ans1)\n",
    "display(Markdown(ques2))\n",
    "display(ans2)\n",
    "display(Markdown(ques3))\n",
    "display(ans3)\n",
    "display(Markdown(ques4))\n",
    "display(ans4)       \n"
   ]
  },
  {
   "cell_type": "markdown",
   "metadata": {
    "hidden": false
   },
   "source": [
    "---\n",
    "## The \"-ir\" verbs\n",
    "\n",
    "Let's use some of these tools to build a conjugation checker for \"-ir\" verbs in the present tense. Here are the forms of the endings should take for the verb \"finir\" (to finish): Is, is, it, issons, issez, issent. \n",
    "\n",
    "This generalizes to most other \"-ir\" verbs.  (However, there are always exceptions...):"
   ]
  },
  {
   "cell_type": "code",
   "execution_count": 12,
   "metadata": {
    "hidden": false
   },
   "outputs": [
    {
     "data": {
      "application/vnd.plotly.v1+json": {
       "config": {
        "linkText": "Export to plot.ly",
        "plotlyServerURL": "https://plot.ly",
        "showLink": false
       },
       "data": [
        {
         "cells": {
          "align": [
           "center",
           "center"
          ],
          "fill": {
           "color": "rgb(95,102,161)"
          },
          "font": {
           "color": "white",
           "size": 14
          },
          "height": 30,
          "line": {
           "color": "black"
          },
          "values": [
           [
            "je",
            "tu",
            "elle, il, on",
            "nous",
            "vous",
            "elles, ils"
           ],
           [
            "finis",
            "finis",
            "finit",
            "finissons",
            "finissez",
            "finissent"
           ]
          ]
         },
         "columnorder": [
          1,
          2
         ],
         "columnwidth": [
          10,
          10
         ],
         "header": {
          "align": [
           "center",
           "center"
          ],
          "fill": {
           "color": "rgb(0,35,48)"
          },
          "font": {
           "color": "white",
           "size": 16
          },
          "height": 40,
          "line": {
           "color": "rgb(0,0,0)"
          },
          "values": [
           "Pronoun",
           "Conjugated"
          ]
         },
         "type": "table",
         "uid": "ccf08c2b-8b0c-4834-b7e0-393f3bbcda61"
        }
       ],
       "layout": {
        "height": 450,
        "width": 500
       }
      },
      "text/html": [
       "<div id=\"0b8f7f9d-4862-4164-8eb8-410cf4d7b6b0\" style=\"height: 450px; width: 500px;\" class=\"plotly-graph-div\"></div><script type=\"text/javascript\">require([\"plotly\"], function(Plotly) { window.PLOTLYENV=window.PLOTLYENV || {};window.PLOTLYENV.BASE_URL=\"https://plot.ly\";Plotly.newPlot(\"0b8f7f9d-4862-4164-8eb8-410cf4d7b6b0\", [{\"cells\": {\"align\": [\"center\", \"center\"], \"fill\": {\"color\": \"rgb(95,102,161)\"}, \"font\": {\"color\": \"white\", \"size\": 14}, \"height\": 30, \"line\": {\"color\": \"black\"}, \"values\": [[\"je\", \"tu\", \"elle, il, on\", \"nous\", \"vous\", \"elles, ils\"], [\"finis\", \"finis\", \"finit\", \"finissons\", \"finissez\", \"finissent\"]]}, \"columnorder\": [1, 2], \"columnwidth\": [10, 10], \"header\": {\"align\": [\"center\", \"center\"], \"fill\": {\"color\": \"rgb(0,35,48)\"}, \"font\": {\"color\": \"white\", \"size\": 16}, \"height\": 40, \"line\": {\"color\": \"rgb(0,0,0)\"}, \"values\": [\"Pronoun\", \"Conjugated\"]}, \"type\": \"table\", \"uid\": \"19b8218e-212e-45aa-adf1-5586afd8ccc2\"}], {\"height\": 450, \"width\": 500}, {\"showLink\": false, \"linkText\": \"Export to plot.ly\", \"plotlyServerURL\": \"https://plot.ly\"})});</script>"
      ],
      "text/vnd.plotly.v1+html": [
       "<div id=\"0b8f7f9d-4862-4164-8eb8-410cf4d7b6b0\" style=\"height: 450px; width: 500px;\" class=\"plotly-graph-div\"></div><script type=\"text/javascript\">require([\"plotly\"], function(Plotly) { window.PLOTLYENV=window.PLOTLYENV || {};window.PLOTLYENV.BASE_URL=\"https://plot.ly\";Plotly.newPlot(\"0b8f7f9d-4862-4164-8eb8-410cf4d7b6b0\", [{\"cells\": {\"align\": [\"center\", \"center\"], \"fill\": {\"color\": \"rgb(95,102,161)\"}, \"font\": {\"color\": \"white\", \"size\": 14}, \"height\": 30, \"line\": {\"color\": \"black\"}, \"values\": [[\"je\", \"tu\", \"elle, il, on\", \"nous\", \"vous\", \"elles, ils\"], [\"finis\", \"finis\", \"finit\", \"finissons\", \"finissez\", \"finissent\"]]}, \"columnorder\": [1, 2], \"columnwidth\": [10, 10], \"header\": {\"align\": [\"center\", \"center\"], \"fill\": {\"color\": \"rgb(0,35,48)\"}, \"font\": {\"color\": \"white\", \"size\": 16}, \"height\": 40, \"line\": {\"color\": \"rgb(0,0,0)\"}, \"values\": [\"Pronoun\", \"Conjugated\"]}, \"type\": \"table\", \"uid\": \"19b8218e-212e-45aa-adf1-5586afd8ccc2\"}], {\"height\": 450, \"width\": 500}, {\"showLink\": false, \"linkText\": \"Export to plot.ly\", \"plotlyServerURL\": \"https://plot.ly\"})});</script>"
      ]
     },
     "metadata": {},
     "output_type": "display_data"
    }
   ],
   "source": [
    "french = ['je','tu','elle, il, on','nous','vous','elles, ils']\n",
    "stem = ['fin-','fin-','fin-','fin-','fin-','fin-']\n",
    "ending = ['is','is','it','issons','issez','issent']\n",
    "conjug = ['finis','finis','finit','finissons', 'finissez','finissent']\n",
    "\n",
    "trace0 = go.Table(\n",
    "  columnorder = [1,2],\n",
    "  columnwidth = [10,10],\n",
    "  header = dict(\n",
    "    values = ['Pronoun','Conjugated'],\n",
    "    line = dict(color = 'rgb(0,0,0)'),\n",
    "    fill = dict(color = 'rgb(0,35,48)'),\n",
    "    align = ['center','center'],\n",
    "    font = dict(color = 'white', size = 16),\n",
    "    height = 40\n",
    "  ),\n",
    "  cells = dict(\n",
    "    values = [french,conjug],\n",
    "    line = dict(color = 'black'),\n",
    "    fill = dict(color = 'rgb(95,102,161)'),\n",
    "    align = ['center', 'center'],\n",
    "    font = dict(color = 'white', size = 14),\n",
    "    height = 30\n",
    "    )\n",
    ")\n",
    "layout = dict(width=500, height=450)\n",
    "\n",
    "data = [trace0]\n",
    "fig = dict(data = data, layout = layout)\n",
    "\n",
    "iplot(fig)"
   ]
  },
  {
   "cell_type": "markdown",
   "metadata": {
    "hidden": false
   },
   "source": [
    "## Try yourself!\n",
    "\n",
    "Try to see if you can make your own conjugation checker from the information provided for \"-ir\" verbs. The program will follow the same form as for the \"-er\" verbs, except this time you have to write it yourself :). Click on the \"Show Code\" button to reveal the cells below where you can manipulate the code written. I have included some widgets for text boxes for the user inputs so you can see if your code works correctly. The user inputs will be stored in the list: `user_answers`. Try to change it for different verbs as well. If you get stuck at any point, don't worry, Google and \"Stack Exchange\" are filled with answers to programming questions and bug fixes of all sorts :). To check to see if your code runs properly, select the cell and press Shift+Enter.\n",
    "\n",
    "Some likely problems you'll run into and things to keep in mind:\n",
    "\n",
    "1. Syntax: If there is anything misspelled, if you are missing an indent or a \":\" somewhere or a bracket. If you use the wrong brackets. If you index improperly. These small syntax errors will prevent your program from running correctly. Debugging these issues is all part of the learning process though!\n",
    "\n",
    "2. Exceptions: Some of the verb conjugations contain exceptions, see if you can create a more general code to handle these exceptions.  \n",
    "\n",
    "3. You can always check your answers online!"
   ]
  },
  {
   "cell_type": "code",
   "execution_count": 13,
   "metadata": {
    "hidden": false
   },
   "outputs": [
    {
     "data": {
      "text/markdown": [
       "Enter conjugations for the verb \"manger\" in the boxes below."
      ],
      "text/plain": [
       "<IPython.core.display.Markdown object>"
      ]
     },
     "metadata": {},
     "output_type": "display_data"
    },
    {
     "data": {
      "application/vnd.jupyter.widget-view+json": {
       "model_id": "54174a04f9c94eec80c041b9ca4ec69a",
       "version_major": 2,
       "version_minor": 0
      },
      "text/plain": [
       "Text(value='', description='je', placeholder='Enter a verb')"
      ]
     },
     "metadata": {},
     "output_type": "display_data"
    },
    {
     "data": {
      "application/vnd.jupyter.widget-view+json": {
       "model_id": "c8e52cc2b50c45538cd5387deb0f0bda",
       "version_major": 2,
       "version_minor": 0
      },
      "text/plain": [
       "Text(value='', description='tu', placeholder='Enter a verb')"
      ]
     },
     "metadata": {},
     "output_type": "display_data"
    },
    {
     "data": {
      "application/vnd.jupyter.widget-view+json": {
       "model_id": "e219b044d2fa486187927dffd61fce2b",
       "version_major": 2,
       "version_minor": 0
      },
      "text/plain": [
       "Text(value='', description='elle/il/on', placeholder='Enter a verb')"
      ]
     },
     "metadata": {},
     "output_type": "display_data"
    },
    {
     "data": {
      "application/vnd.jupyter.widget-view+json": {
       "model_id": "af771e926d7847b3a1f07c2133499e64",
       "version_major": 2,
       "version_minor": 0
      },
      "text/plain": [
       "Text(value='', description='nous', placeholder='Enter a verb')"
      ]
     },
     "metadata": {},
     "output_type": "display_data"
    },
    {
     "data": {
      "application/vnd.jupyter.widget-view+json": {
       "model_id": "e1b46df1dd9745eb992b29eed4dd1be7",
       "version_major": 2,
       "version_minor": 0
      },
      "text/plain": [
       "Text(value='', description='vous', placeholder='Enter a verb')"
      ]
     },
     "metadata": {},
     "output_type": "display_data"
    },
    {
     "data": {
      "application/vnd.jupyter.widget-view+json": {
       "model_id": "23f9a920accf4d91ae43e21e83860748",
       "version_major": 2,
       "version_minor": 0
      },
      "text/plain": [
       "Text(value='', description='elles/ils', placeholder='Enter a verb')"
      ]
     },
     "metadata": {},
     "output_type": "display_data"
    },
    {
     "data": {
      "text/markdown": [
       "Run the code below to check your answers."
      ],
      "text/plain": [
       "<IPython.core.display.Markdown object>"
      ]
     },
     "metadata": {},
     "output_type": "display_data"
    }
   ],
   "source": [
    "je = widgets.Text(value = None, description = 'je', placeholder = \"Enter a verb\")\n",
    "tu = widgets.Text(value = None, description = 'tu', placeholder = \"Enter a verb\")\n",
    "elle = widgets.Text(value = None, description = 'elle/il/on', placeholder = \"Enter a verb\")\n",
    "nous = widgets.Text(value = None, description = 'nous', placeholder = \"Enter a verb\")\n",
    "vous = widgets.Text(value = None, description = 'vous', placeholder = \"Enter a verb\")\n",
    "elles = widgets.Text(value = None, description = 'elles/ils', placeholder = \"Enter a verb\")\n",
    "\n",
    "display(Markdown('Enter conjugations for the verb \"manger\" in the boxes below.'),je,tu,elle,nous,vous,elles)\n",
    "display(Markdown('Run the code below to check your answers.'))\n"
   ]
  },
  {
   "cell_type": "code",
   "execution_count": 14,
   "metadata": {
    "hidden": false
   },
   "outputs": [],
   "source": [
    "#manipulate this code for 'ir' verbs or try to write your own code to handle the exceptions above.\n",
    "#remember to use the list user_answer for the user_inputs and don't forget to enter some inputs yourself ;)\n",
    "\n",
    "user_answer = [je.value,tu.value,elle.value,nous.value,vous.value,elles.value]\n",
    "\n",
    "french = ['je','tu','elle/il/on','nous','vous','elles/ils']\n",
    "endings = ['e','es','e','ons','ez','ent']\n",
    "\n",
    "for i in range(0,len(endings)):\n",
    "    n = len(endings[i])\n",
    "    #feel free to change what happens if they get it right or wrong.\n",
    "    if user_answer[i] != '':  #So that it doesn't print if nothing has been entered\n",
    "        if user_answer[i][-n:] != endings[i]:\n",
    "            print('The conjugation for \"'+french[i]+'\" is incorrect')\n",
    "        if user_answer[i][-n:] == endings[i]:\n",
    "            print('The conjugation for \"'+french[i]+'\" is correct!')\n"
   ]
  },
  {
   "cell_type": "markdown",
   "metadata": {
    "hidden": false
   },
   "source": [
    "---\n",
    "## Conclusion\n",
    "\n",
    "In this Jupyter Notebook by Callysto you learned the basics of French verb conjugation in the present tense. You also learned about some basic aspects used in programming such as `for` loops, `if` statements. You additionally learned about strings, lists, and indexing. You were also challenged to see to create your own program for \"-ir\" verbs. We saw that we could expose the structure of the french verb conjugation rules to compose a program that checks if a user input the correct answers to conjugate a verb in the present tense. This is somewhat of a hallmark of coding. Taking some sort of structure of the problem at hand and exposing in the form of generalizable and applicable written code. Breaking down problems in this fashion is essential to computational thinking. Je te remercie pour avoir essayer les exercises donner. "
   ]
  },
  {
   "cell_type": "markdown",
   "metadata": {
    "hidden": false
   },
   "source": [
    "<img src = \"https://callysto.ca/wp-content/uploads/2018/07/Callysto-Notebook-Banner_Bottom_07.30.18.jpg\">"
   ]
  }
 ],
 "metadata": {
  "kernelspec": {
   "display_name": "Python 3",
   "language": "python",
   "name": "python3"
  },
  "language_info": {
   "codemirror_mode": {
    "name": "ipython",
    "version": 3
   },
   "file_extension": ".py",
   "mimetype": "text/x-python",
   "name": "python",
   "nbconvert_exporter": "python",
   "pygments_lexer": "ipython3",
   "version": "3.6.8"
  }
 },
 "nbformat": 4,
 "nbformat_minor": 2
}

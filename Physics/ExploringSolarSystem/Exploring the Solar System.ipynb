{
 "cells": [
  {
   "cell_type": "code",
   "execution_count": 1,
   "metadata": {},
   "outputs": [
    {
     "data": {
      "text/html": [
       "<img src=\"https://raw.githubusercontent.com/callysto/callysto-sample-notebooks/master/notebooks/images/Callysto_Notebook-Banner_Top_06.06.18.jpg\" onerror=\"this.src='Images/callysto_top_banner.jpg'\" alt=\"\" width=\"100%\"/>\n"
      ],
      "text/plain": [
       "<IPython.core.display.HTML object>"
      ]
     },
     "metadata": {},
     "output_type": "display_data"
    }
   ],
   "source": [
    "%%html\n",
    "<img src=\"https://raw.githubusercontent.com/callysto/callysto-sample-notebooks/master/notebooks/images/Callysto_Notebook-Banner_Top_06.06.18.jpg\" onerror=\"this.src='Images/callysto_top_banner.jpg'\" alt=\"\" width=\"100%\"/>"
   ]
  },
  {
   "cell_type": "markdown",
   "metadata": {},
   "source": [
    "(Click **Cell** > **Run All** before proceeding.) "
   ]
  },
  {
   "cell_type": "code",
   "execution_count": 2,
   "metadata": {},
   "outputs": [],
   "source": [
    "#Import modules and packages \n",
    "import ipywidgets as widgets\n",
    "import random\n",
    "from IPython.display import clear_output, display, HTML, SVG\n",
    "\n",
    "#----------\n",
    "\n",
    "#import ipywidgets as widgets\n",
    "#import random\n",
    "\n",
    "#This function produces a multiple choice form with four options\n",
    "def multiple_choice_4(option_1, option_2, option_3, option_4):\n",
    "    option_list = [option_1, option_2, option_3, option_4]\n",
    "    answer = option_list[0]\n",
    "    letters = [\"<b>(A)</b> \", \"<b>(B)</b> \", \"<b>(C)</b> \", \"<b>(D)</b> \"]\n",
    "\n",
    "    #Randomly shuffle the options\n",
    "    random.shuffle(option_list)\n",
    "    \n",
    "    #Print the letters (A) to (D) in sequence with randomly chosen options\n",
    "    for i in range(4):\n",
    "        option_text = option_list.pop()\n",
    "        option_text_2 = letters[i] + option_text\n",
    "        option_output = widgets.HTMLMath(value=option_text_2)\n",
    "        display(option_output)\n",
    "                \n",
    "        #Stores the correct answer\n",
    "        if option_text == answer:\n",
    "            letter_answer = letters[i]\n",
    "\n",
    "    button1 = widgets.Button(description=\"(A)\"); button2 = widgets.Button(description=\"(B)\")\n",
    "    button3 = widgets.Button(description=\"(C)\"); button4 = widgets.Button(description=\"(D)\")\n",
    "    \n",
    "    button1.style.button_color = 'Whitesmoke'; button2.style.button_color = 'Whitesmoke'\n",
    "    button3.style.button_color = 'Whitesmoke'; button4.style.button_color = 'Whitesmoke'\n",
    "    \n",
    "    container = widgets.HBox(children=[button1,button2,button3,button4])\n",
    "    display(container)\n",
    "    print(\" \", end='\\r')\n",
    "\n",
    "    def on_button1_clicked(b):\n",
    "        if \"<b>(A)</b> \" == letter_answer:\n",
    "            print(\"Correct!    \", end='\\r')\n",
    "            button1.style.button_color = 'Moccasin'; button2.style.button_color = 'Whitesmoke'\n",
    "            button3.style.button_color = 'Whitesmoke'; button4.style.button_color = 'Whitesmoke'\n",
    "        else:\n",
    "            print(\"Try again.\", end='\\r')\n",
    "            button1.style.button_color = 'Lightgray'; button2.style.button_color = 'Whitesmoke'\n",
    "            button3.style.button_color = 'Whitesmoke'; button4.style.button_color = 'Whitesmoke'\n",
    "\n",
    "    def on_button2_clicked(b):\n",
    "        if \"<b>(B)</b> \" == letter_answer:\n",
    "            print(\"Correct!    \", end='\\r')\n",
    "            button1.style.button_color = 'Whitesmoke'; button2.style.button_color = 'Moccasin'\n",
    "            button3.style.button_color = 'Whitesmoke'; button4.style.button_color = 'Whitesmoke'\n",
    "        else:\n",
    "            print(\"Try again.\", end='\\r')\n",
    "            button1.style.button_color = 'Whitesmoke'; button2.style.button_color = 'Lightgray'\n",
    "            button3.style.button_color = 'Whitesmoke'; button4.style.button_color = 'Whitesmoke'\n",
    "\n",
    "    def on_button3_clicked(b):\n",
    "        if \"<b>(C)</b> \" == letter_answer:\n",
    "            print(\"Correct!    \", end='\\r')\n",
    "            button1.style.button_color = 'Whitesmoke'; button2.style.button_color = 'Whitesmoke'\n",
    "            button3.style.button_color = 'Moccasin'; button4.style.button_color = 'Whitesmoke'\n",
    "        else:\n",
    "            print(\"Try again.\", end='\\r')\n",
    "            button1.style.button_color = 'Whitesmoke'; button2.style.button_color = 'Whitesmoke'\n",
    "            button3.style.button_color = 'Lightgray'; button4.style.button_color = 'Whitesmoke'\n",
    "\n",
    "    def on_button4_clicked(b):\n",
    "        if \"<b>(D)</b> \" == letter_answer:\n",
    "            print(\"Correct!    \", end='\\r')\n",
    "            button1.style.button_color = 'Whitesmoke'; button2.style.button_color = 'Whitesmoke'\n",
    "            button3.style.button_color = 'Whitesmoke'; button4.style.button_color = 'Moccasin'\n",
    "        else:\n",
    "            print(\"Try again.\", end='\\r')\n",
    "            button1.style.button_color = 'Whitesmoke'; button2.style.button_color = 'Whitesmoke'\n",
    "            button3.style.button_color = 'Whitesmoke'; button4.style.button_color = 'Lightgray'\n",
    "\n",
    "    button1.on_click(on_button1_clicked); button2.on_click(on_button2_clicked)\n",
    "    button3.on_click(on_button3_clicked); button4.on_click(on_button4_clicked)"
   ]
  },
  {
   "cell_type": "markdown",
   "metadata": {},
   "source": [
    "# Exploring the Solar System\n",
    "\n",
    "## Introduction\n",
    "\n",
    "Scientists describe the **Solar System** as the collection of objects orbiting the Sun. The Solar System formed approximately 4.6 billion years ago from the gravitational collapse of a large **molecular cloud**, or **nebula**. This giant cloud, full of gas and dust, formed during an earlier period within the history of the universe. As the nebula contracted under gravity, it began to swirl faster and faster due to the conservation of angular momentum. This resulted in the formation of a **protoplanetary disk**. The majority of the nebula's matter collected at the centre of this disk to form a sphere, known as a **protostar**. The remaining matter continued to spin around the center, clumping together by gravity to form the **planets**. As the pressure and temperature increased at the centre of the protostar, some of the hydrogen began to fuse into helium - a process known as **nuclear fusion**. The energy released from this process initiated a self-sustaining fusion reaction and a new star, the **Sun**, was born. Streams of energized particles flowing outward from the Sun, known as the **solar wind**, blew away much of the remaining gas and dust from the protoplanetary disc into interstellar space. This ended the planetary formation process. This model of the Solar System's formation is known as the **nebular hypothesis**. However, it is important to remember that the scientific study of the Solar System and its formation remain active areas of research with many questions yet to be answered.\n",
    "\n",
    "<img src=\"Images/formation_of_solar_system.svg\" width=\"100%\"/>"
   ]
  },
  {
   "cell_type": "code",
   "execution_count": 3,
   "metadata": {},
   "outputs": [
    {
     "data": {
      "application/vnd.jupyter.widget-view+json": {
       "model_id": "a2d314d9556e48f3b1f0d247c8dca4aa",
       "version_major": 2,
       "version_minor": 0
      },
      "text/plain": [
       "HTMLMath(value='<b>Question:</b> <i>Approximately how old is the Solar System?</i>')"
      ]
     },
     "metadata": {},
     "output_type": "display_data"
    },
    {
     "data": {
      "application/vnd.jupyter.widget-view+json": {
       "model_id": "b78e4f6e78204312ac8027a8fce3fa21",
       "version_major": 2,
       "version_minor": 0
      },
      "text/plain": [
       "HTMLMath(value='<b>(A)</b> 4.6 billion years')"
      ]
     },
     "metadata": {},
     "output_type": "display_data"
    },
    {
     "data": {
      "application/vnd.jupyter.widget-view+json": {
       "model_id": "2313bf5fa81e4db69e20b79a92f86e1d",
       "version_major": 2,
       "version_minor": 0
      },
      "text/plain": [
       "HTMLMath(value='<b>(B)</b> 4.5 billion years')"
      ]
     },
     "metadata": {},
     "output_type": "display_data"
    },
    {
     "data": {
      "application/vnd.jupyter.widget-view+json": {
       "model_id": "ae45a0ddc48145b7893aa2f3f856a01d",
       "version_major": 2,
       "version_minor": 0
      },
      "text/plain": [
       "HTMLMath(value='<b>(C)</b> 4.6 million years')"
      ]
     },
     "metadata": {},
     "output_type": "display_data"
    },
    {
     "data": {
      "application/vnd.jupyter.widget-view+json": {
       "model_id": "d27587cc55c341f5861d35ab10a077f9",
       "version_major": 2,
       "version_minor": 0
      },
      "text/plain": [
       "HTMLMath(value='<b>(D)</b> 13.8 billion years')"
      ]
     },
     "metadata": {},
     "output_type": "display_data"
    },
    {
     "data": {
      "application/vnd.jupyter.widget-view+json": {
       "model_id": "5c5ac816e39d4e05988807ad6bc5912a",
       "version_major": 2,
       "version_minor": 0
      },
      "text/plain": [
       "HBox(children=(Button(description='(A)', style=ButtonStyle(button_color='Whitesmoke')), Button(description='(B…"
      ]
     },
     "metadata": {},
     "output_type": "display_data"
    },
    {
     "name": "stdout",
     "output_type": "stream",
     "text": [
      " \r"
     ]
    }
   ],
   "source": [
    "#import ipywidgets as widgets\n",
    "#from IPython.display import display, HTML\n",
    "\n",
    "display(widgets.HTMLMath(value=\"<b>Question:</b> <i>Approximately how old is the Solar System?</i>\"))\n",
    "\n",
    "option_1 = \"4.6 billion years\" \n",
    "option_2 = \"4.6 million years\"\n",
    "option_3 = \"13.8 billion years\"\n",
    "option_4 = \"4.5 billion years\"\n",
    "\n",
    "multiple_choice_4(option_1, option_2, option_3, option_4)"
   ]
  },
  {
   "cell_type": "code",
   "execution_count": 4,
   "metadata": {},
   "outputs": [
    {
     "data": {
      "application/vnd.jupyter.widget-view+json": {
       "model_id": "e6e93b6d07a0487aa3042c018749fff9",
       "version_major": 2,
       "version_minor": 0
      },
      "text/plain": [
       "HTMLMath(value='<b>Question:</b> <i>What caused the molecular cloud to contract into the protoplanetary disk?<…"
      ]
     },
     "metadata": {},
     "output_type": "display_data"
    },
    {
     "data": {
      "application/vnd.jupyter.widget-view+json": {
       "model_id": "09f22140f83d4a198d68055f74c9c34d",
       "version_major": 2,
       "version_minor": 0
      },
      "text/plain": [
       "HTMLMath(value='<b>(A)</b> Angular momentum')"
      ]
     },
     "metadata": {},
     "output_type": "display_data"
    },
    {
     "data": {
      "application/vnd.jupyter.widget-view+json": {
       "model_id": "f5bbb46e00994a76b1ad9553e6c780aa",
       "version_major": 2,
       "version_minor": 0
      },
      "text/plain": [
       "HTMLMath(value='<b>(B)</b> Gravity')"
      ]
     },
     "metadata": {},
     "output_type": "display_data"
    },
    {
     "data": {
      "application/vnd.jupyter.widget-view+json": {
       "model_id": "961f985a6eb84213933fe831ae9c6fff",
       "version_major": 2,
       "version_minor": 0
      },
      "text/plain": [
       "HTMLMath(value='<b>(C)</b> Nuclear fusion')"
      ]
     },
     "metadata": {},
     "output_type": "display_data"
    },
    {
     "data": {
      "application/vnd.jupyter.widget-view+json": {
       "model_id": "0fda66b7fc5b403d8e70df5f5edf1460",
       "version_major": 2,
       "version_minor": 0
      },
      "text/plain": [
       "HTMLMath(value='<b>(D)</b> Magnetism')"
      ]
     },
     "metadata": {},
     "output_type": "display_data"
    },
    {
     "data": {
      "application/vnd.jupyter.widget-view+json": {
       "model_id": "b88177eb7ee340ce9e6edea234cb0cb6",
       "version_major": 2,
       "version_minor": 0
      },
      "text/plain": [
       "HBox(children=(Button(description='(A)', style=ButtonStyle(button_color='Whitesmoke')), Button(description='(B…"
      ]
     },
     "metadata": {},
     "output_type": "display_data"
    },
    {
     "name": "stdout",
     "output_type": "stream",
     "text": [
      " \r"
     ]
    }
   ],
   "source": [
    "#import ipywidgets as widgets\n",
    "#from IPython.display import display, HTML\n",
    "\n",
    "display(widgets.HTMLMath(value=\"<b>Question:</b> <i>What caused the molecular cloud to contract into the protoplanetary disk?</i>\"))\n",
    "\n",
    "option_1 = \"Gravity\" \n",
    "option_2 = \"Nuclear fusion\"\n",
    "option_3 = \"Angular momentum\"\n",
    "option_4 = \"Magnetism\"\n",
    "\n",
    "multiple_choice_4(option_1, option_2, option_3, option_4)"
   ]
  },
  {
   "cell_type": "code",
   "execution_count": 5,
   "metadata": {
    "scrolled": true
   },
   "outputs": [
    {
     "data": {
      "application/vnd.jupyter.widget-view+json": {
       "model_id": "48fd2a0be2074c3eb1d324a224ced13a",
       "version_major": 2,
       "version_minor": 0
      },
      "text/plain": [
       "HTMLMath(value='<b>Question:</b> <i>Most of the material left behind from the formation of the Sun eventually …"
      ]
     },
     "metadata": {},
     "output_type": "display_data"
    },
    {
     "data": {
      "application/vnd.jupyter.widget-view+json": {
       "model_id": "6d6fe87fb11c4d7d8b25348f3e3a41f3",
       "version_major": 2,
       "version_minor": 0
      },
      "text/plain": [
       "HTMLMath(value='<b>(A)</b> Nebulae')"
      ]
     },
     "metadata": {},
     "output_type": "display_data"
    },
    {
     "data": {
      "application/vnd.jupyter.widget-view+json": {
       "model_id": "01d71342d70646949b8b824042750dab",
       "version_major": 2,
       "version_minor": 0
      },
      "text/plain": [
       "HTMLMath(value='<b>(B)</b> Planets')"
      ]
     },
     "metadata": {},
     "output_type": "display_data"
    },
    {
     "data": {
      "application/vnd.jupyter.widget-view+json": {
       "model_id": "f8a2552f254a4642b8c200ed97cae9ec",
       "version_major": 2,
       "version_minor": 0
      },
      "text/plain": [
       "HTMLMath(value='<b>(C)</b> Solar wind')"
      ]
     },
     "metadata": {},
     "output_type": "display_data"
    },
    {
     "data": {
      "application/vnd.jupyter.widget-view+json": {
       "model_id": "9777325b07cd49e6899a241aefb13e55",
       "version_major": 2,
       "version_minor": 0
      },
      "text/plain": [
       "HTMLMath(value='<b>(D)</b> Stars')"
      ]
     },
     "metadata": {},
     "output_type": "display_data"
    },
    {
     "data": {
      "application/vnd.jupyter.widget-view+json": {
       "model_id": "4a87262506244e2aa7b087e0330d2c7b",
       "version_major": 2,
       "version_minor": 0
      },
      "text/plain": [
       "HBox(children=(Button(description='(A)', style=ButtonStyle(button_color='Whitesmoke')), Button(description='(B…"
      ]
     },
     "metadata": {},
     "output_type": "display_data"
    },
    {
     "name": "stdout",
     "output_type": "stream",
     "text": [
      " \r"
     ]
    }
   ],
   "source": [
    "#import ipywidgets as widgets\n",
    "#from IPython.display import display, HTML\n",
    "\n",
    "display(widgets.HTMLMath(value=\"<b>Question:</b> <i>Most of the material left behind from the formation of the Sun eventually became __________?</i>\"))\n",
    "\n",
    "option_1 = \"Planets\" \n",
    "option_2 = \"Nebulae\"\n",
    "option_3 = \"Solar wind\"\n",
    "option_4 = \"Stars\"\n",
    "\n",
    "multiple_choice_4(option_1, option_2, option_3, option_4)"
   ]
  },
  {
   "cell_type": "markdown",
   "metadata": {},
   "source": [
    "## Main Features of the Solar System\n",
    "\n",
    "The main features of the Solar System include the **Sun**, the **planets**, and the **asteroid belt**. There are eight planets within the Solar System. The four closest to the Sun are called the **rocky inner planets**. These are named **Mercury**, **Venus**, **Earth**, and **Mars**. The rocky planets are composed primarily of rock and metal. During the formation of the rocky inner planets, these heavier substances were able to resist the high temperatures experienced close to the Sun. Most of the lighter substances within this region of the protoplanetary disk were vaporized and blown away by the solar wind. Further from the Sun, where the temperatures are much colder, the lighter substances and gases coalesced to form the two **gas giants**, **Jupiter** and **Saturn**. They are named the gas giants because more than 90% of their mass consists of hydrogen and helium. Their composition is therefore similar to that of the Sun, though they are considerably smaller in size. Beyond the gas giants, where the temperatures are even colder, are the two **ice giants**, **Uranus** and **Neptune**. Unlike the gas giants, the ice giants consist of only about 20% hydrogen and helium while the remaining mass is thought to consist of heavier elements, such as oxygen, carbon, nitrogen, and sulfur. The ice giants formed primarily by the gradual accumulation of frozen solids and ice which formed in the cold outermost regions of the protoplanetary disk."
   ]
  },
  {
   "cell_type": "markdown",
   "metadata": {},
   "source": [
    "*Use the interactive widget below to explore some of the main features of the Solar System.*"
   ]
  },
  {
   "cell_type": "code",
   "execution_count": 6,
   "metadata": {},
   "outputs": [
    {
     "data": {
      "application/vnd.jupyter.widget-view+json": {
       "model_id": "c1a9dbeeda9546b8b56138c2b8e4e8e8",
       "version_major": 2,
       "version_minor": 0
      },
      "text/plain": [
       "Button(button_style='success', description='Explore!', style=ButtonStyle())"
      ]
     },
     "metadata": {},
     "output_type": "display_data"
    },
    {
     "data": {
      "application/vnd.jupyter.widget-view+json": {
       "model_id": "6e1eb14c264e4417a38b8424298ac5c1",
       "version_major": 2,
       "version_minor": 0
      },
      "text/plain": [
       "Output()"
      ]
     },
     "metadata": {},
     "output_type": "display_data"
    }
   ],
   "source": [
    "#import ipywidgets as widgets\n",
    "#from IPython.display import clear_output, SVG\n",
    "\n",
    "output_1 = widgets.Output()\n",
    "frame_1 = 1\n",
    "\n",
    "#Toggle images\n",
    "def show_svg_1():\n",
    "    global frame_1\n",
    "\n",
    "    text_sun_1 = widgets.HTMLMath(value=\"<b>Circumference</b>: 109 x Earth <br> <b>Volume</b>: 1,301,019 x Earth <br> <b>Mass</b>: 333,060 x Earth <br> <b>Temperature</b>: 5,500<sup>o</sup>C <br> <b>Spectral Type</b>: Yellow dwarf <br> <b>Age</b>: 4.6 billion years\")\n",
    "    text_sun_2 = widgets.HTMLMath(value=\"The Sun is the most prominent feature of the Solar System, and it accounts for approximately 99.86% of all its mass. The main components of the Sun are hydrogen and helium, which make up 73% and 25% of the mass, respectively. The remaining 2% consists of heavier elements, such as oxygen, carbon, and iron. The Sun is so large that it could fit over 1 million Earths inside its volume. Within the core, nuclear fusion converts hydrogen into helium. This process releases an enormous amount of energy which radiates from the Sun in the form of heat and light.\")\n",
    "    \n",
    "    text_mercury_1 = widgets.HTMLMath(value=\"<b>Circumference</b>: 0.383 x Earth <br> <b>Volume</b>: 0.056 x Earth <br> <b>Mass</b>: 0.055 x Earth <br> <b>Distance from Sun</b>: 0.3871 AU (or 58 million km) <br> <b>Year</b>: 87.969 days <br> <b>Day</b>: 1407.5 hours <br> <b>Temperature</b>: -173/427<sup>o</sup>C (min/max) <br> <b>Atmosphere</b>: O<sub>2</sub>, Na, H<sub>2</sub>\")\n",
    "    text_mercury_2 = widgets.HTMLMath(value=\"Mercury is the smallest and closest planet to the Sun. It is so small that 18 Mercury-sized planets could fit inside the volume of the Earth. The surface of Mercury is covered in craters due to its thin atmosphere, which provides little protection from meteors. Mercury has the smallest tilt of any planet in the Solar System at just 0.033 degrees. The planet was named after the Roman god often associated with trade and profit. Mercury has no known moons.\")\n",
    " \n",
    "    text_venus_1 = widgets.HTMLMath(value=\"<b>Circumference</b>: 0.950 x Earth <br> <b>Volume</b>: 0.857 x Earth <br> <b>Mass</b>: 0.815 x Earth <br> <b>Distance from Sun</b>: 0.723 AU (or 108 million km) <br> <b>Year</b>: 224.701 days <br> <b>Day</b>: 5832.4 hours <br> <b>Temperature</b>: 462<sup>o</sup>C (mean) <br> <b>Atmosphere</b>: CO<sub>2</sub>, N<sub>2</sub>\")\n",
    "    text_venus_2 = widgets.HTMLMath(value=\"Venus is the second planet from the Sun and the second brightest object in our night sky. The surface of Venus is extremely hostile due to its thick atmosphere of carbon dioxide. This atmosphere creates a greenhouse effect by trapping heat from the Sun. Consequently, the surface temperature on Venus is 462<sup>o</sup>C, hot enough to melt lead. Unlike most of the other planets, Venus rotates in the opposite direction about its axis; an observer on Venus would see the Sun rise in the west and set in the east. The only other planet to exhibit this type of rotation is Uranus. The planet was named after the Roman goddess of love and beauty. Venus has no known moons.\") \n",
    "    \n",
    "    text_earth_1 = widgets.HTMLMath(value=\"<b>Circumference</b>: 40,030 km <br> <b>Volume</b>: 1.083 x 10<sup>12</sup> km<sup>3</sup> <br> <b>Mass</b>: 5.972 x 10<sup>24</sup> kg <br> <b>Distance from Sun</b>: 1 AU (or 150 million km) <br> <b>Year</b>: 365.25 days <br> <b>Day</b>: 24 hours <br> <b>Temperature</b>: -89/57<sup>o</sup>C (min/max) <br> <b>Atmosphere</b>: N<sub>2</sub>, O<sub>2</sub>\")\n",
    "    text_earth_2 = widgets.HTMLMath(value=\"Earth is the third planet from the Sun, the largest of the inner rocky planets, and the fifth largest planet in the Solar System. It is the only planet in the Solar System known to support life. The main surface feature of the Earth is its oceans, which cover more than 71% of its surface. The age of the Earth has been estimated to be around 4.54 billion years old. It is the only planet not named after a Roman or Greek deity. Instead the name is derived from an English word meaning ground. The Earth has one moon, simply called 'the moon'.\") \n",
    "        \n",
    "    text_mars_1 = widgets.HTMLMath(value=\"<b>Circumference</b>: 0.532 x Earth <br> <b>Volume</b>: 0.151 x Earth <br> <b>Mass</b>: 0.107 x Earth <br> <b>Distance from Sun</b>: 1.524 AU (or 228 million km) <br> <b>Year</b>: 686.971 days <br> <b>Day</b>: 24.6 hours <br> <b>Temperature</b>: -153/20<sup>o</sup>C (min/max) <br> <b>Atmosphere</b>: CO<sub>2</sub>, N<sub>2</sub>, Ar\")\n",
    "    text_mars_2 = widgets.HTMLMath(value=\"Mars is the fourth planet from the Sun. It is considerably colder and drier than Earth, with a thin dusty atmosphere. The surface of Mars is covered in red, rusty soil. Yet despite this hostile description, the planet contains many striking features, such as polar ice caps, canyons, craters, mountains, volcanoes, and deserts. During an earlier and warmer era, the surface of Mars once featured lakes and oceans of liquid water. Mars was named after the Roman god often associated with war. Mars has two moons, Phobos and Deimos.\") \n",
    "\n",
    "    text_asteroid_belt_1 = widgets.HTMLMath(value=\"The Asteroid Belt is a region of space located between the orbits of Mars and Jupiter. It is occupied by millions of oddly-shaped objects called asteroids. The four largest asteroids within the belt are Ceres, Vesta, Pallas, and Hygiea. These four asteroids contain about half of all the mass within the entire Asteroid Belt. In the early history of the Solar System, protoplanets developing within this region would have been greatly affected by the gravity of Jupiter. As Jupiter passed by, it would have pulled on the protoplanets, causing numerous collisions between them, which prevented them from fusing together. What resulted instead of a planet was a belt of asteroids. The orbits of these asteroids are still significantly affected by Jupiter to this day.\") \n",
    "\n",
    "    text_jupiter_1 = widgets.HTMLMath(value=\"<b>Circumference</b>: 10.973 x Earth <br> <b>Volume</b>: 1,321 x Earth <br> <b>Mass</b>: 317.8 x Earth <br> <b>Distance from Sun</b>: 5.203 AU (or 778 million km) <br> <b>Year</b>: 4,332.59 days <br> <b>Day</b>: 9.92 hours <br> <b>Temperature</b>: -145<sup>o</sup>C (mean) <br> <b>Atmosphere</b>: H<sub>2</sub>, He\")\n",
    "    text_jupiter_2 = widgets.HTMLMath(value=\"Jupiter is the fifth planet from the Sun and the first of the gas giants. It is also the largest planet in the Solar System. The mass of Jupiter is greater than 2.5 times the mass of all the other planets combined. As a gas giant, Jupiter lacks a well-defined solid surface. The atmosphere of Jupiter features many layers of clouds and a Great Red Spot, which is a persistent anticyclonic storm larger in size than the Earth. The planet was named after the king of the Roman gods, who is often associated with the sky and thunder. Jupiter has 79 known moons. The largest include Io, Europa, Ganymede, and Callisto.\") \n",
    "\n",
    "    text_saturn_1 = widgets.HTMLMath(value=\"<b>Circumference</b>: 9.140 x Earth <br> <b>Volume</b>: 763.594 x Earth <br> <b>Mass</b>: 95.161 x Earth <br> <b>Distance from Sun</b>: 9.5 AU (or 1,427 million km) <br> <b>Year</b>: 10,759.22 days <br> <b>Day</b>: 10.66 hours <br> <b>Temperature</b>: -178<sup>o</sup>C (mean) <br> <b>Atmosphere</b>: H<sub>2</sub>, He\")\n",
    "    text_saturn_2 = widgets.HTMLMath(value=\"Saturn is the sixth planet from the Sun, the second of the gas giants, and the second largest planet in the Solar System. It is the only planet less dense than water. Saturn's most distinguishing feature is its spectacular ring system, which is composed primarily of ice and rock. These rings extend over 282,000 km from the planet and are thought to be fragments of comets, asteroids, or moons that were broken up by Saturn's powerful gravitational field. The planet was named after the Roman god who fathered Jupiter. Saturn has 53 official moons, with an additional 9 known moons awaiting confirmation. The largest include Titan, Rhea, and Iapetus.\") \n",
    " \n",
    "    text_uranus_1 = widgets.HTMLMath(value=\"<b>Circumference</b>: 3.981 x Earth <br> <b>Volume</b>: 63.085 x Earth <br> <b>Mass</b>: 14.536 x Earth <br> <b>Distance from Sun</b>: 19.2 AU (or 2,871 million km) <br> <b>Year</b>: 30,687.15 days <br> <b>Day</b>: 17.23 hours <br> <b>Temperature</b>: -216<sup>o</sup>C (mean) <br> <b>Atmosphere</b>: H<sub>2</sub>, He, CH<sub>4</sub>\")\n",
    "    text_uranus_2 = widgets.HTMLMath(value=\"Uranus is the seventh planet from the Sun and the first of the ice giants. It is the only planet known to rotate on its side with an axial tilt of 97.77 degrees. This peculiar axis of rotation may have resulted from a collision with another planet-sized object in Uranus' early history. Like Venus, Uranus also features a retrograde rotation about its axis. More than 80% of its mass consists of icy materials (primarily water, methane, and ammonia). Uranus features a system of rings, though they are considerably fainter than those of Saturn. The planet was named after the Greek god of the Sky. It is the only planet named after a god of Greek mythology. Uranus has 27 known moons. The largest include Miranda, Ariel, Umbriel, Titania, and Oberon.\") \n",
    " \n",
    "    text_neptune_1 = widgets.HTMLMath(value=\"<b>Circumference</b>: 3.865 x Earth <br> <b>Volume</b>: 57.723 x Earth <br> <b>Mass</b>: 17.148 x Earth <br> <b>Distance from Sun</b>: 30.1 AU (or 4,498 million km) <br> <b>Year</b>: 60,190.03 days <br> <b>Day</b>: 16.11 hours <br> <b>Temperature</b>: -201<sup>o</sup>C (mean) <br> <b>Atmosphere</b>: H<sub>2</sub>, He, CH<sub>4</sub>\")\n",
    "    text_neptune_2 = widgets.HTMLMath(value=\"Neptune is the eighth planet from the Sun, the second of the ice giants, and the most distant planet in the Solar System. It is also the windiest planet in the solar system, with clouds moving across the atmosphere at speeds exceeding 2,100 km/h. Neptune was named after the Roman god of the sea. Neptune has 6 faint rings and 13 moons. The largest of these moons is Triton, which comprises more than 99.5% of the mass orbiting Neptune.\") \n",
    "    \n",
    "    text_kuiper_belt_1 = widgets.HTMLMath(value=\"The Kuiper Belt is a region of space located beyond the orbit of Neptune. Like the Asteroid Belt, the Kuiper Belt is occupied by millions of small bodies that formed during the early stages of the Solar System. However, unlike the Asteroid Belt, the majority of these small bodies are composed of icy materials instead of rock. The most notable objects in the Kuiper Belt include the dwarf planets Pluto, Eris, Haumea, and Makemake. The objects within the Kuiper Belt are strongly influenced by Neptune's gravity, and vice versa. One of Neptune's moons, Triton, may have originated from the Kuiper Belt.\") \n",
    "\n",
    "    \n",
    "    if frame_1 == 0:\n",
    "        display(SVG(\"Images/solar_system_00_blank.svg\"))\n",
    "        frame_1 = 1\n",
    "    elif frame_1 == 1:\n",
    "        display(SVG(\"Images/solar_system_01_sun.svg\"))\n",
    "        display(text_sun_1, text_sun_2)\n",
    "        display(widgets.HTMLMath(value=\"<b><i>Press the 'Explore!' button again to learn more about Mercury.</i></b>\"))\n",
    "        frame_1 = 2\n",
    "    elif frame_1 == 2:\n",
    "        display(SVG(\"Images/solar_system_02_mercury.svg\"))\n",
    "        display(text_mercury_1, text_mercury_2)\n",
    "        display(widgets.HTMLMath(value=\"<b><i>Press the 'Explore!' button again to learn more about Venus.</i></b>\"))\n",
    "        frame_1 = 3\n",
    "    elif frame_1 == 3:\n",
    "        display(SVG(\"Images/solar_system_03_venus.svg\"))\n",
    "        display(text_venus_1, text_venus_2)\n",
    "        display(widgets.HTMLMath(value=\"<b><i>Press the 'Explore!' button again to learn more about Earth.</i></b>\"))\n",
    "        frame_1 = 4\n",
    "    elif frame_1 == 4:\n",
    "        display(SVG(\"Images/solar_system_04_earth.svg\"))\n",
    "        display(text_earth_1, text_earth_2)\n",
    "        display(widgets.HTMLMath(value=\"<b><i>Press the 'Explore!' button again to learn more about Mars.</i></b>\"))\n",
    "        frame_1 = 5\n",
    "    elif frame_1 == 5:\n",
    "        display(SVG(\"Images/solar_system_05_mars.svg\"))\n",
    "        display(text_mars_1, text_mars_2)\n",
    "        display(widgets.HTMLMath(value=\"<b><i>Press the 'Explore!' button again to learn more about the Astroid Belt.</i></b>\"))\n",
    "        frame_1 = 6\n",
    "    elif frame_1 == 6:\n",
    "        display(SVG(\"Images/solar_system_06_astroid_belt.svg\"))\n",
    "        display(text_asteroid_belt_1)\n",
    "        display(widgets.HTMLMath(value=\"<b><i>Press the 'Explore!' button again to learn more about Jupiter.</i></b>\"))\n",
    "        frame_1 = 7\n",
    "    elif frame_1 == 7:\n",
    "        display(SVG(\"Images/solar_system_07_jupiter.svg\"))\n",
    "        display(text_jupiter_1, text_jupiter_2)\n",
    "        display(widgets.HTMLMath(value=\"<b><i>Press the 'Explore!' button again to learn more about Saturn.</i></b>\"))\n",
    "        frame_1 = 8\n",
    "    elif frame_1 == 8:\n",
    "        display(SVG(\"Images/solar_system_08_saturn.svg\"))\n",
    "        display(text_saturn_1, text_saturn_2)\n",
    "        display(widgets.HTMLMath(value=\"<b><i>Press the 'Explore!' button again to learn more about Uranus.</i></b>\"))\n",
    "        frame_1 = 9\n",
    "    elif frame_1 == 9:\n",
    "        display(SVG(\"Images/solar_system_09_uranus.svg\"))\n",
    "        display(text_uranus_1, text_uranus_2)\n",
    "        display(widgets.HTMLMath(value=\"<b><i>Press the 'Explore!' button again to learn more about Neptune.</i></b>\"))\n",
    "        frame_1 = 10\n",
    "    elif frame_1 == 10:\n",
    "        display(SVG(\"Images/solar_system_10_neptune.svg\"))\n",
    "        display(text_uranus_1, text_uranus_2)\n",
    "        display(widgets.HTMLMath(value=\"<b><i>Press the 'Explore!' button again to learn more about the Kuiper Belt.</i></b>\"))\n",
    "        frame_1 = 11\n",
    "    elif frame_1 == 11:\n",
    "        display(SVG(\"Images/solar_system_11_kuiper_belt.svg\"))\n",
    "        display(text_kuiper_belt_1)\n",
    "        frame_1 = 0\n",
    "        \n",
    "button_1 = widgets.Button(description=\"Explore!\", button_style = 'success')\n",
    "display(button_1)\n",
    "\n",
    "def on_submit_button_1_clicked(b):\n",
    "    with output_1:\n",
    "        clear_output(wait=True)\n",
    "        show_svg_1()\n",
    "\n",
    "with output_1:\n",
    "    display(SVG(\"Images/solar_system_00_blank.svg\"))\n",
    "    \n",
    "button_1.on_click(on_submit_button_1_clicked)\n",
    "display(output_1)\n"
   ]
  },
  {
   "cell_type": "code",
   "execution_count": 7,
   "metadata": {},
   "outputs": [
    {
     "data": {
      "application/vnd.jupyter.widget-view+json": {
       "model_id": "f688d24c88b5436db36154dd3baa9df9",
       "version_major": 2,
       "version_minor": 0
      },
      "text/plain": [
       "HTMLMath(value='<b>Question:</b> <i>Which four planets make up the inner rocky planets?</i>')"
      ]
     },
     "metadata": {},
     "output_type": "display_data"
    },
    {
     "data": {
      "application/vnd.jupyter.widget-view+json": {
       "model_id": "c73a46b650f34b9099a3fab2e33feab9",
       "version_major": 2,
       "version_minor": 0
      },
      "text/plain": [
       "HTMLMath(value='<b>(A)</b> Jupiter, Saturn, Uranus, Neptune')"
      ]
     },
     "metadata": {},
     "output_type": "display_data"
    },
    {
     "data": {
      "application/vnd.jupyter.widget-view+json": {
       "model_id": "ffec54d52d7f4fdbb705571464a355b5",
       "version_major": 2,
       "version_minor": 0
      },
      "text/plain": [
       "HTMLMath(value='<b>(B)</b> Mercury, Venus, Earth, Mars')"
      ]
     },
     "metadata": {},
     "output_type": "display_data"
    },
    {
     "data": {
      "application/vnd.jupyter.widget-view+json": {
       "model_id": "adb54b2fdfa946f6bc9f10e0cec58a8e",
       "version_major": 2,
       "version_minor": 0
      },
      "text/plain": [
       "HTMLMath(value='<b>(C)</b> Venus, Earth, Mars, Jupiter')"
      ]
     },
     "metadata": {},
     "output_type": "display_data"
    },
    {
     "data": {
      "application/vnd.jupyter.widget-view+json": {
       "model_id": "c80a1d912c4c4f7daea5b6d9035086d6",
       "version_major": 2,
       "version_minor": 0
      },
      "text/plain": [
       "HTMLMath(value='<b>(D)</b> Mercury, Venus, Earth, Neptune')"
      ]
     },
     "metadata": {},
     "output_type": "display_data"
    },
    {
     "data": {
      "application/vnd.jupyter.widget-view+json": {
       "model_id": "ac1c13f7770648f591676ec24570058d",
       "version_major": 2,
       "version_minor": 0
      },
      "text/plain": [
       "HBox(children=(Button(description='(A)', style=ButtonStyle(button_color='Whitesmoke')), Button(description='(B…"
      ]
     },
     "metadata": {},
     "output_type": "display_data"
    },
    {
     "name": "stdout",
     "output_type": "stream",
     "text": [
      " \r"
     ]
    }
   ],
   "source": [
    "#import ipywidgets as widgets\n",
    "#from IPython.display import display, HTML\n",
    "\n",
    "display(widgets.HTMLMath(value=\"<b>Question:</b> <i>Which four planets make up the inner rocky planets?</i>\"))\n",
    "\n",
    "option_1 = \"Mercury, Venus, Earth, Mars\" \n",
    "option_2 = \"Mercury, Venus, Earth, Neptune\"\n",
    "option_3 = \"Jupiter, Saturn, Uranus, Neptune\"\n",
    "option_4 = \"Venus, Earth, Mars, Jupiter\"\n",
    "\n",
    "multiple_choice_4(option_1, option_2, option_3, option_4)"
   ]
  },
  {
   "cell_type": "code",
   "execution_count": 8,
   "metadata": {},
   "outputs": [
    {
     "data": {
      "application/vnd.jupyter.widget-view+json": {
       "model_id": "45c1fba046cc4a709d4cfad55807ac96",
       "version_major": 2,
       "version_minor": 0
      },
      "text/plain": [
       "HTMLMath(value='<b>Question:</b> <i>Which two planets are called the gas giants?</i>')"
      ]
     },
     "metadata": {},
     "output_type": "display_data"
    },
    {
     "data": {
      "application/vnd.jupyter.widget-view+json": {
       "model_id": "a32c3394852c463598ad90cb858b5ae0",
       "version_major": 2,
       "version_minor": 0
      },
      "text/plain": [
       "HTMLMath(value='<b>(A)</b> Jupiter, Saturn')"
      ]
     },
     "metadata": {},
     "output_type": "display_data"
    },
    {
     "data": {
      "application/vnd.jupyter.widget-view+json": {
       "model_id": "e3ece9a6af384efbbc59c8a3a094f72e",
       "version_major": 2,
       "version_minor": 0
      },
      "text/plain": [
       "HTMLMath(value='<b>(B)</b> Jupiter, Venus')"
      ]
     },
     "metadata": {},
     "output_type": "display_data"
    },
    {
     "data": {
      "application/vnd.jupyter.widget-view+json": {
       "model_id": "8fcc53a297244fbea57bfa85ae988b8a",
       "version_major": 2,
       "version_minor": 0
      },
      "text/plain": [
       "HTMLMath(value='<b>(C)</b> Saturn, Venus')"
      ]
     },
     "metadata": {},
     "output_type": "display_data"
    },
    {
     "data": {
      "application/vnd.jupyter.widget-view+json": {
       "model_id": "9391c81a60fd4b8bb37d6f2b1d4a2008",
       "version_major": 2,
       "version_minor": 0
      },
      "text/plain": [
       "HTMLMath(value='<b>(D)</b> Mars, Jupiter')"
      ]
     },
     "metadata": {},
     "output_type": "display_data"
    },
    {
     "data": {
      "application/vnd.jupyter.widget-view+json": {
       "model_id": "28664afb344a46a782aa8cddae88e940",
       "version_major": 2,
       "version_minor": 0
      },
      "text/plain": [
       "HBox(children=(Button(description='(A)', style=ButtonStyle(button_color='Whitesmoke')), Button(description='(B…"
      ]
     },
     "metadata": {},
     "output_type": "display_data"
    },
    {
     "name": "stdout",
     "output_type": "stream",
     "text": [
      " \r"
     ]
    }
   ],
   "source": [
    "#import ipywidgets as widgets\n",
    "#from IPython.display import display, HTML\n",
    "\n",
    "display(widgets.HTMLMath(value=\"<b>Question:</b> <i>Which two planets are called the gas giants?</i>\"))\n",
    "\n",
    "option_1 = \"Jupiter, Saturn\" \n",
    "option_2 = \"Jupiter, Venus\"\n",
    "option_3 = \"Saturn, Venus\"\n",
    "option_4 = \"Mars, Jupiter\"\n",
    "\n",
    "multiple_choice_4(option_1, option_2, option_3, option_4)"
   ]
  },
  {
   "cell_type": "code",
   "execution_count": 9,
   "metadata": {},
   "outputs": [
    {
     "data": {
      "application/vnd.jupyter.widget-view+json": {
       "model_id": "c0726a8d8d65420598d10eb6515380bc",
       "version_major": 2,
       "version_minor": 0
      },
      "text/plain": [
       "HTMLMath(value='<b>Question:</b> <i>Which two planets are called the ice giants?</i>')"
      ]
     },
     "metadata": {},
     "output_type": "display_data"
    },
    {
     "data": {
      "application/vnd.jupyter.widget-view+json": {
       "model_id": "765780cc5b154861920188f7e88d4b35",
       "version_major": 2,
       "version_minor": 0
      },
      "text/plain": [
       "HTMLMath(value='<b>(A)</b> Jupiter, Saturn')"
      ]
     },
     "metadata": {},
     "output_type": "display_data"
    },
    {
     "data": {
      "application/vnd.jupyter.widget-view+json": {
       "model_id": "8f1a817357a947f9a753dc4d83e63592",
       "version_major": 2,
       "version_minor": 0
      },
      "text/plain": [
       "HTMLMath(value='<b>(B)</b> Saturn, Uranus')"
      ]
     },
     "metadata": {},
     "output_type": "display_data"
    },
    {
     "data": {
      "application/vnd.jupyter.widget-view+json": {
       "model_id": "4d3c169dc0c94eb583d9caa4313ae511",
       "version_major": 2,
       "version_minor": 0
      },
      "text/plain": [
       "HTMLMath(value='<b>(C)</b> Saturn, Neptune')"
      ]
     },
     "metadata": {},
     "output_type": "display_data"
    },
    {
     "data": {
      "application/vnd.jupyter.widget-view+json": {
       "model_id": "d95bdd0a3c2c4d0aaff0813c9fc18c29",
       "version_major": 2,
       "version_minor": 0
      },
      "text/plain": [
       "HTMLMath(value='<b>(D)</b> Uranus, Neptune')"
      ]
     },
     "metadata": {},
     "output_type": "display_data"
    },
    {
     "data": {
      "application/vnd.jupyter.widget-view+json": {
       "model_id": "dd985c5e64ec4c61b55af328457acb0e",
       "version_major": 2,
       "version_minor": 0
      },
      "text/plain": [
       "HBox(children=(Button(description='(A)', style=ButtonStyle(button_color='Whitesmoke')), Button(description='(B…"
      ]
     },
     "metadata": {},
     "output_type": "display_data"
    },
    {
     "name": "stdout",
     "output_type": "stream",
     "text": [
      " \r"
     ]
    }
   ],
   "source": [
    "#import ipywidgets as widgets\n",
    "#from IPython.display import display, HTML\n",
    "\n",
    "display(widgets.HTMLMath(value=\"<b>Question:</b> <i>Which two planets are called the ice giants?</i>\"))\n",
    "\n",
    "option_1 = \"Uranus, Neptune\" \n",
    "option_2 = \"Jupiter, Saturn\"\n",
    "option_3 = \"Saturn, Uranus\"\n",
    "option_4 = \"Saturn, Neptune\"\n",
    "\n",
    "multiple_choice_4(option_1, option_2, option_3, option_4)"
   ]
  },
  {
   "cell_type": "code",
   "execution_count": 10,
   "metadata": {},
   "outputs": [
    {
     "data": {
      "application/vnd.jupyter.widget-view+json": {
       "model_id": "0eea9746afae42ae943d115ebab90ab4",
       "version_major": 2,
       "version_minor": 0
      },
      "text/plain": [
       "HTMLMath(value='<b>Question:</b> <i>Which is the largest planet in the Solar System?</i>')"
      ]
     },
     "metadata": {},
     "output_type": "display_data"
    },
    {
     "data": {
      "application/vnd.jupyter.widget-view+json": {
       "model_id": "8b2b4999aecb40a28ba1d5a8b93e0b79",
       "version_major": 2,
       "version_minor": 0
      },
      "text/plain": [
       "HTMLMath(value='<b>(A)</b> Saturn')"
      ]
     },
     "metadata": {},
     "output_type": "display_data"
    },
    {
     "data": {
      "application/vnd.jupyter.widget-view+json": {
       "model_id": "157c4fce856a44529c1686f654e8a1d9",
       "version_major": 2,
       "version_minor": 0
      },
      "text/plain": [
       "HTMLMath(value='<b>(B)</b> Jupiter')"
      ]
     },
     "metadata": {},
     "output_type": "display_data"
    },
    {
     "data": {
      "application/vnd.jupyter.widget-view+json": {
       "model_id": "b0a90c056ac54f04a4f046121a89eff3",
       "version_major": 2,
       "version_minor": 0
      },
      "text/plain": [
       "HTMLMath(value='<b>(C)</b> Uranus')"
      ]
     },
     "metadata": {},
     "output_type": "display_data"
    },
    {
     "data": {
      "application/vnd.jupyter.widget-view+json": {
       "model_id": "9095e95619a54b1781353296b4d6acc9",
       "version_major": 2,
       "version_minor": 0
      },
      "text/plain": [
       "HTMLMath(value='<b>(D)</b> Earth')"
      ]
     },
     "metadata": {},
     "output_type": "display_data"
    },
    {
     "data": {
      "application/vnd.jupyter.widget-view+json": {
       "model_id": "59e67797c2584cf6b0a0191e6036d269",
       "version_major": 2,
       "version_minor": 0
      },
      "text/plain": [
       "HBox(children=(Button(description='(A)', style=ButtonStyle(button_color='Whitesmoke')), Button(description='(B…"
      ]
     },
     "metadata": {},
     "output_type": "display_data"
    },
    {
     "name": "stdout",
     "output_type": "stream",
     "text": [
      " \r"
     ]
    }
   ],
   "source": [
    "#import ipywidgets as widgets\n",
    "#from IPython.display import display, HTML\n",
    "\n",
    "display(widgets.HTMLMath(value=\"<b>Question:</b> <i>Which is the largest planet in the Solar System?</i>\"))\n",
    "\n",
    "option_1 = \"Jupiter\" \n",
    "option_2 = \"Saturn\"\n",
    "option_3 = \"Earth\"\n",
    "option_4 = \"Uranus\"\n",
    "\n",
    "multiple_choice_4(option_1, option_2, option_3, option_4)"
   ]
  },
  {
   "cell_type": "code",
   "execution_count": 11,
   "metadata": {},
   "outputs": [
    {
     "data": {
      "application/vnd.jupyter.widget-view+json": {
       "model_id": "eeffa0b978284d54b8f26ef435aa4725",
       "version_major": 2,
       "version_minor": 0
      },
      "text/plain": [
       "HTMLMath(value='<b>Question:</b> <i>Which is the smallest planet in the Solar System?</i>')"
      ]
     },
     "metadata": {},
     "output_type": "display_data"
    },
    {
     "data": {
      "application/vnd.jupyter.widget-view+json": {
       "model_id": "f8f89b1d29d6453cbe18c3ab5bc111a7",
       "version_major": 2,
       "version_minor": 0
      },
      "text/plain": [
       "HTMLMath(value='<b>(A)</b> Neptune')"
      ]
     },
     "metadata": {},
     "output_type": "display_data"
    },
    {
     "data": {
      "application/vnd.jupyter.widget-view+json": {
       "model_id": "e0955e228d294892a770e0ca5b154409",
       "version_major": 2,
       "version_minor": 0
      },
      "text/plain": [
       "HTMLMath(value='<b>(B)</b> Venus')"
      ]
     },
     "metadata": {},
     "output_type": "display_data"
    },
    {
     "data": {
      "application/vnd.jupyter.widget-view+json": {
       "model_id": "87f14373a14547e389d5f67eaaac1305",
       "version_major": 2,
       "version_minor": 0
      },
      "text/plain": [
       "HTMLMath(value='<b>(C)</b> Mercury')"
      ]
     },
     "metadata": {},
     "output_type": "display_data"
    },
    {
     "data": {
      "application/vnd.jupyter.widget-view+json": {
       "model_id": "2a87ae17738b4347b75c405cb2c824c3",
       "version_major": 2,
       "version_minor": 0
      },
      "text/plain": [
       "HTMLMath(value='<b>(D)</b> Mars')"
      ]
     },
     "metadata": {},
     "output_type": "display_data"
    },
    {
     "data": {
      "application/vnd.jupyter.widget-view+json": {
       "model_id": "ac13081cccbb4a5897f0b64440679c0a",
       "version_major": 2,
       "version_minor": 0
      },
      "text/plain": [
       "HBox(children=(Button(description='(A)', style=ButtonStyle(button_color='Whitesmoke')), Button(description='(B…"
      ]
     },
     "metadata": {},
     "output_type": "display_data"
    },
    {
     "name": "stdout",
     "output_type": "stream",
     "text": [
      " \r"
     ]
    }
   ],
   "source": [
    "#import ipywidgets as widgets\n",
    "#from IPython.display import display, HTML\n",
    "\n",
    "display(widgets.HTMLMath(value=\"<b>Question:</b> <i>Which is the smallest planet in the Solar System?</i>\"))\n",
    "\n",
    "option_1 = \"Mercury\" \n",
    "option_2 = \"Mars\"\n",
    "option_3 = \"Venus\"\n",
    "option_4 = \"Neptune\"\n",
    "\n",
    "multiple_choice_4(option_1, option_2, option_3, option_4)"
   ]
  },
  {
   "cell_type": "markdown",
   "metadata": {},
   "source": [
    "## Lesser Features of the Solar System\n",
    "\n",
    "**Dwarf planets**: A dwarf planet is similar to a regular planet in that it has a spherical shape and directly orbits a star. However unlike planets, dwarf planets share their orbital zone with other bodies of significant size. For example, **Ceres** is located within the asteroid belt and thus shares its orbital zone with many asteroids. **Pluto**, **Eris**, **Haumea**, and **Makemake** are dwarf planets located in the **Kuiper belt**, a region of space located beyond Neptune that contains many small bodies, all remnants from the Solar System's formation.\n",
    "\n",
    "**Asteroids**: Asteroids are small oddly-shaped objects scattered throughout the solar system. The vast majority of asteroids are located in the Asteroid Belt between Mars and Jupiter. There are two additional groups of asteroids, known as the **Trojan asteroids**, that are co-orbital with Jupiter. Asteroids are composed primarily of nickel, iron, titanium, and water.\n",
    "\n",
    "**Meteoroids**: A meteoroid is a space rock, typically less than 1 m wide. Most meteoroids are fragments from comets or asteroids, while others originate from the debris ejected from impacts. When a meteor impacts Earth, the recoverable fragments are called **meteorites**. It is estimated that 25 million meteoroids enter the Earth's atmosphere each day, though most are below 1 mm in size. While most of these impacts go unnoticed, meteors on the scale of tens of centimeters to several meters can be observed as **shooting stars** at night.\n",
    "\n",
    "**Comets**: A comet is a small, icy object that usually follows an elliptical orbit around the Sun. As it passes close to the Sun, it warms and releases gases that streak behind it like a tail. It is this feature that distinguishes a comet from an asteroid. Most comets are believed to originate from either the Kuiper belt, or the **Oort cloud**, a spherical cloud of icy objects surrounding our solar system. The Oort cloud extends well-beyond Neptune and into interstellar space.\n",
    "\n",
    "## Measuring Distances in the Solar System\n",
    "\n",
    "One common unit used to measure distances in the Solar System is the **astronomical unit (AU)**. One AU equals the average distance between the Sun and the Earth, or about 150 million km. \n",
    "\n",
    "Below is a table showing the average distances of each planet from the Sun in units of AU and km. Note the convenience of using AU when comparing distances between planets. \n",
    "\n",
    "Planet             | Distance in astronomical units (AU) | Distance in kilometers (km) \n",
    "---                | ---          | ---\n",
    "Mercury            | 0.39         | 58,065,000 \n",
    "Venus              | 0.72         | 108,450,000  \n",
    "Earth              | 1.00         | 150,000,000 \n",
    "Mars               | 1.52         | 228,600,000 \n",
    "Jupiter            | 5.20         | 780,450,000 \n",
    "Saturn             | 9.50         | 1,425,000,000 \n",
    "Uranus             | 19.20        | 2,880,000,000 \n",
    "Neptune            | 30.10        | 4,515,000,000 "
   ]
  },
  {
   "cell_type": "code",
   "execution_count": 12,
   "metadata": {},
   "outputs": [
    {
     "data": {
      "application/vnd.jupyter.widget-view+json": {
       "model_id": "e8894380e89c4f1cbc12ce5476fbee5e",
       "version_major": 2,
       "version_minor": 0
      },
      "text/plain": [
       "HTMLMath(value='<b>Question:</b> <i>If we assume that the orbits of the planets are essentially circles, what …"
      ]
     },
     "metadata": {},
     "output_type": "display_data"
    },
    {
     "data": {
      "application/vnd.jupyter.widget-view+json": {
       "model_id": "23c61bb1e0b34a139e2c1423c544e1c2",
       "version_major": 2,
       "version_minor": 0
      },
      "text/plain": [
       "HTMLMath(value='<b>(A)</b> 0.52 AU')"
      ]
     },
     "metadata": {},
     "output_type": "display_data"
    },
    {
     "data": {
      "application/vnd.jupyter.widget-view+json": {
       "model_id": "258f9bcbcf524355a8291febf296fc97",
       "version_major": 2,
       "version_minor": 0
      },
      "text/plain": [
       "HTMLMath(value='<b>(B)</b> 0.28 AU')"
      ]
     },
     "metadata": {},
     "output_type": "display_data"
    },
    {
     "data": {
      "application/vnd.jupyter.widget-view+json": {
       "model_id": "9e458f9c000e4b7ca41d9d11a9ea7606",
       "version_major": 2,
       "version_minor": 0
      },
      "text/plain": [
       "HTMLMath(value='<b>(C)</b> 18.20 AU')"
      ]
     },
     "metadata": {},
     "output_type": "display_data"
    },
    {
     "data": {
      "application/vnd.jupyter.widget-view+json": {
       "model_id": "2a7f651b94c1481384d4dcf1f01d9934",
       "version_major": 2,
       "version_minor": 0
      },
      "text/plain": [
       "HTMLMath(value='<b>(D)</b> 8.50 AU')"
      ]
     },
     "metadata": {},
     "output_type": "display_data"
    },
    {
     "data": {
      "application/vnd.jupyter.widget-view+json": {
       "model_id": "7b5552f151ce42ce82f84227b5347e01",
       "version_major": 2,
       "version_minor": 0
      },
      "text/plain": [
       "HBox(children=(Button(description='(A)', style=ButtonStyle(button_color='Whitesmoke')), Button(description='(B…"
      ]
     },
     "metadata": {},
     "output_type": "display_data"
    },
    {
     "name": "stdout",
     "output_type": "stream",
     "text": [
      " \r"
     ]
    }
   ],
   "source": [
    "#import ipywidgets as widgets\n",
    "#from IPython.display import display, HTML\n",
    "#import random\n",
    "\n",
    "random_number_1 = random.randint(0,6)\n",
    "planets = [\"Mercury\", \"Venus\", \"Mars\", \"Jupiter\", \"Saturn\", \"Uranus\", \"Neptune\"]\n",
    "answers = [\"0.61 AU\", \"0.28 AU\", \"0.52 AU\", \"4.20 AU\", \"8.50 AU\", \"18.20 AU\", \"29.10 AU\"]\n",
    "planet = planets[random_number_1]\n",
    "answer = answers[random_number_1]\n",
    "\n",
    "#Create three choices that are unique (and not equal to the answer) \n",
    "choice_list = random.sample(answers,3)\n",
    "while choice_list.count(answer) >= 1:\n",
    "    choice_list = random.sample(answers,3)\n",
    "\n",
    "display(widgets.HTMLMath(value=\"<b>Question:</b> <i>If we assume that the orbits of the planets are essentially circles, what is the closest distance possible between Earth and \" + planet + \" (in units of AU)?\"))\n",
    "\n",
    "option_1 = answer \n",
    "option_2 = choice_list[0]\n",
    "option_3 = choice_list[1]\n",
    "option_4 = choice_list[2]\n",
    "\n",
    "multiple_choice_4(option_1, option_2, option_3, option_4)"
   ]
  },
  {
   "cell_type": "code",
   "execution_count": 13,
   "metadata": {},
   "outputs": [
    {
     "data": {
      "application/vnd.jupyter.widget-view+json": {
       "model_id": "d465f625da6d416fb512b2fee858901b",
       "version_major": 2,
       "version_minor": 0
      },
      "text/plain": [
       "HTMLMath(value='<b>Question:</b> <i>If we assume that the orbits of the planets are essentially circles, what …"
      ]
     },
     "metadata": {},
     "output_type": "display_data"
    },
    {
     "data": {
      "application/vnd.jupyter.widget-view+json": {
       "model_id": "9bbd735fd4ba43e991b3f73e82d4e53c",
       "version_major": 2,
       "version_minor": 0
      },
      "text/plain": [
       "HTMLMath(value='<b>(A)</b> 4,365 million km')"
      ]
     },
     "metadata": {},
     "output_type": "display_data"
    },
    {
     "data": {
      "application/vnd.jupyter.widget-view+json": {
       "model_id": "b9e3664b8d1b42179aa04bf0f5d40a3b",
       "version_major": 2,
       "version_minor": 0
      },
      "text/plain": [
       "HTMLMath(value='<b>(B)</b> 1,275 million km')"
      ]
     },
     "metadata": {},
     "output_type": "display_data"
    },
    {
     "data": {
      "application/vnd.jupyter.widget-view+json": {
       "model_id": "8efa87a1126c496fa6e64f48e1d2b346",
       "version_major": 2,
       "version_minor": 0
      },
      "text/plain": [
       "HTMLMath(value='<b>(C)</b> 2,730 million km')"
      ]
     },
     "metadata": {},
     "output_type": "display_data"
    },
    {
     "data": {
      "application/vnd.jupyter.widget-view+json": {
       "model_id": "ff38dbdbd4b64ce0809002dbab7d7479",
       "version_major": 2,
       "version_minor": 0
      },
      "text/plain": [
       "HTMLMath(value='<b>(D)</b> 42 million km')"
      ]
     },
     "metadata": {},
     "output_type": "display_data"
    },
    {
     "data": {
      "application/vnd.jupyter.widget-view+json": {
       "model_id": "3d62a1c18a29410b9022e85460bd74dc",
       "version_major": 2,
       "version_minor": 0
      },
      "text/plain": [
       "HBox(children=(Button(description='(A)', style=ButtonStyle(button_color='Whitesmoke')), Button(description='(B…"
      ]
     },
     "metadata": {},
     "output_type": "display_data"
    },
    {
     "name": "stdout",
     "output_type": "stream",
     "text": [
      " \r"
     ]
    }
   ],
   "source": [
    "#import ipywidgets as widgets\n",
    "#from IPython.display import display, HTML\n",
    "#import random\n",
    "\n",
    "random_number_2 = random.randint(0,6)\n",
    "planets = [\"Mercury\", \"Venus\", \"Mars\", \"Jupiter\", \"Saturn\", \"Uranus\", \"Neptune\"]\n",
    "answers = [\"92 million km\", \"42 million km\", \"79 million km\", \"630 million km\", \"1,275 million km\", \"2,730 million km\", \"4,365 million km\"]\n",
    "planet = planets[random_number_2]\n",
    "answer = answers[random_number_2]\n",
    "\n",
    "#Create three choices that are unique (and not equal to the answer) \n",
    "choice_list = random.sample(answers,3)\n",
    "while choice_list.count(answer) >= 1:\n",
    "    choice_list = random.sample(answers,3)\n",
    "\n",
    "display(widgets.HTMLMath(value=\"<b>Question:</b> <i>If we assume that the orbits of the planets are essentially circles, what is the closest distance possible between Earth and \" + planet + \" (in units of km)?\"))\n",
    "\n",
    "option_1 = answer \n",
    "option_2 = choice_list[0]\n",
    "option_3 = choice_list[1]\n",
    "option_4 = choice_list[2]\n",
    "\n",
    "multiple_choice_4(option_1, option_2, option_3, option_4)"
   ]
  },
  {
   "cell_type": "code",
   "execution_count": 14,
   "metadata": {},
   "outputs": [
    {
     "data": {
      "application/vnd.jupyter.widget-view+json": {
       "model_id": "c7908c481b784fd29b38f679101acac6",
       "version_major": 2,
       "version_minor": 0
      },
      "text/plain": [
       "HTMLMath(value='<b>Question:</b> <i>If we assume that the orbits of the planets are essentially circles, what …"
      ]
     },
     "metadata": {},
     "output_type": "display_data"
    },
    {
     "data": {
      "application/vnd.jupyter.widget-view+json": {
       "model_id": "232d93270b084a31aba19ed1ab95b331",
       "version_major": 2,
       "version_minor": 0
      },
      "text/plain": [
       "HTMLMath(value='<b>(A)</b> 31.10 AU')"
      ]
     },
     "metadata": {},
     "output_type": "display_data"
    },
    {
     "data": {
      "application/vnd.jupyter.widget-view+json": {
       "model_id": "126a070a5c0c41aa88c80bb5ed3b53f5",
       "version_major": 2,
       "version_minor": 0
      },
      "text/plain": [
       "HTMLMath(value='<b>(B)</b> 1.72 AU')"
      ]
     },
     "metadata": {},
     "output_type": "display_data"
    },
    {
     "data": {
      "application/vnd.jupyter.widget-view+json": {
       "model_id": "53555339326d4cce9f93f643afd50342",
       "version_major": 2,
       "version_minor": 0
      },
      "text/plain": [
       "HTMLMath(value='<b>(C)</b> 10.50 AU')"
      ]
     },
     "metadata": {},
     "output_type": "display_data"
    },
    {
     "data": {
      "application/vnd.jupyter.widget-view+json": {
       "model_id": "fe82914e94ac493c9e2b59ad4187820b",
       "version_major": 2,
       "version_minor": 0
      },
      "text/plain": [
       "HTMLMath(value='<b>(D)</b> 20.20 AU')"
      ]
     },
     "metadata": {},
     "output_type": "display_data"
    },
    {
     "data": {
      "application/vnd.jupyter.widget-view+json": {
       "model_id": "1a3001920df941309afebaa9cf43ae3f",
       "version_major": 2,
       "version_minor": 0
      },
      "text/plain": [
       "HBox(children=(Button(description='(A)', style=ButtonStyle(button_color='Whitesmoke')), Button(description='(B…"
      ]
     },
     "metadata": {},
     "output_type": "display_data"
    },
    {
     "name": "stdout",
     "output_type": "stream",
     "text": [
      " \r"
     ]
    }
   ],
   "source": [
    "#import ipywidgets as widgets\n",
    "#from IPython.display import display, HTML\n",
    "#import random\n",
    "\n",
    "random_number_3 = random.randint(0,6)\n",
    "planets = [\"Mercury\", \"Venus\", \"Mars\", \"Jupiter\", \"Saturn\", \"Uranus\", \"Neptune\"]\n",
    "answers = [\"1.39 AU\", \"1.72 AU\", \"2.52 AU\", \"6.20 AU\", \"10.50 AU\", \"20.20 AU\", \"31.10 AU\"]\n",
    "planet = planets[random_number_3]\n",
    "answer = answers[random_number_3]\n",
    "\n",
    "#Create three choices that are unique (and not equal to the answer) \n",
    "choice_list = random.sample(answers,3)\n",
    "while choice_list.count(answer) >= 1:\n",
    "    choice_list = random.sample(answers,3)\n",
    "\n",
    "display(widgets.HTMLMath(value=\"<b>Question:</b> <i>If we assume that the orbits of the planets are essentially circles, what is the farthest distance possible between Earth and \" + planet + \" (in units of AU)?\"))\n",
    "\n",
    "option_1 = answer \n",
    "option_2 = choice_list[0]\n",
    "option_3 = choice_list[1]\n",
    "option_4 = choice_list[2]\n",
    "\n",
    "multiple_choice_4(option_1, option_2, option_3, option_4)"
   ]
  },
  {
   "cell_type": "code",
   "execution_count": 15,
   "metadata": {},
   "outputs": [
    {
     "data": {
      "application/vnd.jupyter.widget-view+json": {
       "model_id": "be2ebea83bae40b8aa27f100649f9aca",
       "version_major": 2,
       "version_minor": 0
      },
      "text/plain": [
       "HTMLMath(value='<b>Question:</b> <i>If we assume that the orbits of the planets are essentially circles, what …"
      ]
     },
     "metadata": {},
     "output_type": "display_data"
    },
    {
     "data": {
      "application/vnd.jupyter.widget-view+json": {
       "model_id": "f8303b5e37cb4dbfab877b5191e000b2",
       "version_major": 2,
       "version_minor": 0
      },
      "text/plain": [
       "HTMLMath(value='<b>(A)</b> 208 million km')"
      ]
     },
     "metadata": {},
     "output_type": "display_data"
    },
    {
     "data": {
      "application/vnd.jupyter.widget-view+json": {
       "model_id": "87af1dfa1371417cb39f6e261352e1a0",
       "version_major": 2,
       "version_minor": 0
      },
      "text/plain": [
       "HTMLMath(value='<b>(B)</b> 379 million km')"
      ]
     },
     "metadata": {},
     "output_type": "display_data"
    },
    {
     "data": {
      "application/vnd.jupyter.widget-view+json": {
       "model_id": "5ea3bcc9875647018410ae55b803bc97",
       "version_major": 2,
       "version_minor": 0
      },
      "text/plain": [
       "HTMLMath(value='<b>(C)</b> 258 million km')"
      ]
     },
     "metadata": {},
     "output_type": "display_data"
    },
    {
     "data": {
      "application/vnd.jupyter.widget-view+json": {
       "model_id": "86c733cb5dcb47b58f302a0e01feb572",
       "version_major": 2,
       "version_minor": 0
      },
      "text/plain": [
       "HTMLMath(value='<b>(D)</b> 930 million km')"
      ]
     },
     "metadata": {},
     "output_type": "display_data"
    },
    {
     "data": {
      "application/vnd.jupyter.widget-view+json": {
       "model_id": "c218f8d9aae2405ba268d293c2b875c9",
       "version_major": 2,
       "version_minor": 0
      },
      "text/plain": [
       "HBox(children=(Button(description='(A)', style=ButtonStyle(button_color='Whitesmoke')), Button(description='(B…"
      ]
     },
     "metadata": {},
     "output_type": "display_data"
    },
    {
     "name": "stdout",
     "output_type": "stream",
     "text": [
      " \r"
     ]
    }
   ],
   "source": [
    "#import ipywidgets as widgets\n",
    "#from IPython.display import display, HTML\n",
    "#import random\n",
    "\n",
    "random_number_4 = random.randint(0,6)\n",
    "planets = [\"Mercury\", \"Venus\", \"Mars\", \"Jupiter\", \"Saturn\", \"Uranus\", \"Neptune\"]\n",
    "answers = [\"208 million km\", \"258 million km\", \"379 million km\", \"930 million km\", \"1,575 million km\", \"3,030 million km\", \"4,665 million km\"]\n",
    "planet = planets[random_number_4]\n",
    "answer = answers[random_number_4]\n",
    "\n",
    "#Create three choices that are unique (and not equal to the answer) \n",
    "choice_list = random.sample(answers,3)\n",
    "while choice_list.count(answer) >= 1:\n",
    "    choice_list = random.sample(answers,3)\n",
    "\n",
    "display(widgets.HTMLMath(value=\"<b>Question:</b> <i>If we assume that the orbits of the planets are essentially circles, what is the farthest distance possible between Earth and \" + planet + \" (in units of km)?\"))\n",
    "\n",
    "option_1 = answer \n",
    "option_2 = choice_list[0]\n",
    "option_3 = choice_list[1]\n",
    "option_4 = choice_list[2]\n",
    "\n",
    "multiple_choice_4(option_1, option_2, option_3, option_4)"
   ]
  },
  {
   "cell_type": "markdown",
   "metadata": {},
   "source": [
    "## Conclusion\n",
    "\n",
    "* The **Solar System** is a term used to describe the collection of objects orbiting the Sun.\n",
    "* The Solar System formed approximately 4.6 billion years ago.\n",
    "* The Sun makes up about 99.86% of all the mass in the Solar System. It consists predominately of hydrogen and helium.\n",
    "* The four rocky inner planets are called **Mercury**, **Venus**, **Earth**, and **Mars**.\n",
    "* The two gas giants are called **Jupiter** and **Saturn**.\n",
    "* The two ice giants are called **Uranus** and **Neptune**.\n",
    "* Other important objects in the Solar System include **dwarf planets**, **asteroids**, **meteoroids**, and **comets**.\n",
    "* **Astronomical units (AU)** are commonly used to measure distances in the Solar System."
   ]
  },
  {
   "cell_type": "code",
   "execution_count": 16,
   "metadata": {},
   "outputs": [
    {
     "data": {
      "text/html": [
       "\n",
       "<script>\n",
       "  function code_toggle() {\n",
       "    if (code_shown){\n",
       "      $('div.input').hide('500');\n",
       "      $('#toggleButton').val('Show Code')\n",
       "    } else {\n",
       "      $('div.input').show('500');\n",
       "      $('#toggleButton').val('Hide Code')\n",
       "    }\n",
       "    code_shown = !code_shown\n",
       "  }\n",
       "\n",
       "  $( document ).ready(function(){\n",
       "    code_shown=false;\n",
       "    $('div.input').hide()\n",
       "  });\n",
       "</script>\n",
       "<form action=\"javascript:code_toggle()\"><input type=\"submit\" id=\"toggleButton\" value=\"Show Code\"></form>\n"
      ],
      "text/plain": [
       "<IPython.core.display.HTML object>"
      ]
     },
     "metadata": {},
     "output_type": "display_data"
    }
   ],
   "source": [
    "%%html\n",
    "\n",
    "<script>\n",
    "  function code_toggle() {\n",
    "    if (code_shown){\n",
    "      $('div.input').hide('500');\n",
    "      $('#toggleButton').val('Show Code')\n",
    "    } else {\n",
    "      $('div.input').show('500');\n",
    "      $('#toggleButton').val('Hide Code')\n",
    "    }\n",
    "    code_shown = !code_shown\n",
    "  }\n",
    "\n",
    "  $( document ).ready(function(){\n",
    "    code_shown=false;\n",
    "    $('div.input').hide()\n",
    "  });\n",
    "</script>\n",
    "<form action=\"javascript:code_toggle()\"><input type=\"submit\" id=\"toggleButton\" value=\"Show Code\"></form>"
   ]
  },
  {
   "cell_type": "code",
   "execution_count": 17,
   "metadata": {},
   "outputs": [
    {
     "data": {
      "text/html": [
       "<img src=\"https://raw.githubusercontent.com/callysto/callysto-sample-notebooks/master/notebooks/images/Callysto_Notebook-Banners_Bottom_06.06.18.jpg\" onerror=\"this.src='Images/callysto_bottom_banner.jpg'\" alt=\"\" width=\"100%\"/>\n"
      ],
      "text/plain": [
       "<IPython.core.display.HTML object>"
      ]
     },
     "metadata": {},
     "output_type": "display_data"
    }
   ],
   "source": [
    "%%html\n",
    "<img src=\"https://raw.githubusercontent.com/callysto/callysto-sample-notebooks/master/notebooks/images/Callysto_Notebook-Banners_Bottom_06.06.18.jpg\" onerror=\"this.src='Images/callysto_bottom_banner.jpg'\" alt=\"\" width=\"100%\"/>"
   ]
  }
 ],
 "metadata": {
  "kernelspec": {
   "display_name": "Python 3",
   "language": "python",
   "name": "python3"
  },
  "language_info": {
   "codemirror_mode": {
    "name": "ipython",
    "version": 3
   },
   "file_extension": ".py",
   "mimetype": "text/x-python",
   "name": "python",
   "nbconvert_exporter": "python",
   "pygments_lexer": "ipython3",
   "version": "3.6.8"
  }
 },
 "nbformat": 4,
 "nbformat_minor": 2
}

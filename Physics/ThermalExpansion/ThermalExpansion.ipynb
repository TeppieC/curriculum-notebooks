{
 "cells": [
  {
   "cell_type": "code",
   "execution_count": 2,
   "metadata": {},
   "outputs": [
    {
     "data": {
      "text/html": [
       "<button onclick=\"run_all()\">CLICK HERE TO BEGIN</button> \n",
       "<script>\n",
       "function run_all(){\n",
       "    Jupyter.actions.call('jupyter-notebook:run-all-cells-below');\n",
       "    Jupyter.actions.call('jupyter-notebook:save-notebook');\n",
       "}\n",
       "</script>"
      ],
      "text/plain": [
       "<IPython.core.display.HTML object>"
      ]
     },
     "metadata": {},
     "output_type": "display_data"
    }
   ],
   "source": [
    "%%html\n",
    "<button onclick=\"run_all()\">CLICK HERE TO BEGIN</button> \n",
    "<script>\n",
    "function run_all(){\n",
    "    Jupyter.actions.call('jupyter-notebook:run-all-cells-below');\n",
    "    Jupyter.actions.call('jupyter-notebook:save-notebook');\n",
    "}\n",
    "</script>"
   ]
  },
  {
   "cell_type": "markdown",
   "metadata": {},
   "source": [
    "# Thermal Linear Expansion"
   ]
  },
  {
   "cell_type": "markdown",
   "metadata": {},
   "source": [
    "## Introduction\n",
    "\n",
    "The goal of this notebook is to discuss the following:\n",
    "- Review **Kinetic Molecular Theory** and how it relates to thermal expansion.\n",
    "- Derive a **formula** to compute thermal expansion.\n",
    "- **Apply** this formula to real-world scenarios."
   ]
  },
  {
   "cell_type": "markdown",
   "metadata": {},
   "source": [
    "## Kinetic Molecular Theory\n",
    "\n",
    "**Summary:**\n",
    "\n",
    "- Matter is made up of particles that are constantly moving.\n",
    "- The temperature of a substance is a measure of the average kinetic energy of the particles.\n",
    "- There are spaces between particles of matter. The average amount of empty space between molecules gets progressively larger as a sample of matter moves from solid to the liquid and gas phases.\n",
    "\n",
    "<img style=\"float: center;\" src=\"Images/particles.svg\" height=\"1800\" width=\"400\">"
   ]
  },
  {
   "cell_type": "code",
   "execution_count": 3,
   "metadata": {},
   "outputs": [],
   "source": [
    "import ipywidgets as widgets\n",
    "import random\n",
    "\n",
    "#This function produces a multiple choice form with four options\n",
    "def multiple_choice(option_1, option_2, option_3, option_4):\n",
    "    option_list = [option_1, option_2, option_3, option_4]\n",
    "    answer = option_list[0]\n",
    "    letters = [\"(A) \", \"(B) \", \"(C) \", \"(D) \"]\n",
    "\n",
    "    #Boldface letters at the beginning of each option\n",
    "    start_bold = \"\\033[1m\"; end_bold = \"\\033[0;0m\"\n",
    "\n",
    "    #Randomly shuffle the options\n",
    "    random.shuffle(option_list)\n",
    "    \n",
    "    #Prints the letters (A) to (D) in sequence with randomly chosen options\n",
    "    for i in range(4):\n",
    "        option_text = option_list.pop()\n",
    "        print(start_bold + letters[i] + end_bold + option_text)\n",
    "\n",
    "        #Stores the correct answer\n",
    "        if option_text == answer:\n",
    "            letter_answer = letters[i]\n",
    "\n",
    "    button1 = widgets.Button(description=\"(A)\"); button2 = widgets.Button(description=\"(B)\")\n",
    "    button3 = widgets.Button(description=\"(C)\"); button4 = widgets.Button(description=\"(D)\")\n",
    "    \n",
    "    button1.style.button_color = 'Whitesmoke'; button2.style.button_color = 'Whitesmoke'\n",
    "    button3.style.button_color = 'Whitesmoke'; button4.style.button_color = 'Whitesmoke'\n",
    "    \n",
    "    container = widgets.HBox(children=[button1,button2,button3,button4])\n",
    "    display(container)\n",
    "    print(\" \", end='\\r')\n",
    "\n",
    "    def on_button1_clicked(b):\n",
    "        if \"(A) \" == letter_answer:\n",
    "            print(\"Correct! 👏\", end='\\r')\n",
    "            button1.style.button_color = '#abffa8'; button2.style.button_color = 'Whitesmoke'\n",
    "            button3.style.button_color = 'Whitesmoke'; button4.style.button_color = 'Whitesmoke'\n",
    "        else:\n",
    "            print(\"Try again! \", end='\\r')\n",
    "            button1.style.button_color = '#ffbbb8'; button2.style.button_color = 'Whitesmoke'\n",
    "            button3.style.button_color = 'Whitesmoke'; button4.style.button_color = 'Whitesmoke'\n",
    "\n",
    "    def on_button2_clicked(b):\n",
    "        if \"(B) \" == letter_answer:\n",
    "            print(\"Correct! 👏\", end='\\r')\n",
    "            button1.style.button_color = 'Whitesmoke'; button2.style.button_color = '#abffa8'\n",
    "            button3.style.button_color = 'Whitesmoke'; button4.style.button_color = 'Whitesmoke'\n",
    "        else:\n",
    "            print(\"Try again! \", end='\\r')\n",
    "            button1.style.button_color = 'Whitesmoke'; button2.style.button_color = '#ffbbb8'\n",
    "            button3.style.button_color = 'Whitesmoke'; button4.style.button_color = 'Whitesmoke'\n",
    "\n",
    "    def on_button3_clicked(b):\n",
    "        if \"(C) \" == letter_answer:\n",
    "            print(\"Correct! 👏\", end='\\r')\n",
    "            button1.style.button_color = 'Whitesmoke'; button2.style.button_color = 'Whitesmoke'\n",
    "            button3.style.button_color = '#abffa8'; button4.style.button_color = 'Whitesmoke'\n",
    "        else:\n",
    "            print(\"Try again! \", end='\\r')\n",
    "            button1.style.button_color = 'Whitesmoke'; button2.style.button_color = 'Whitesmoke'\n",
    "            button3.style.button_color = '#ffbbb8'; button4.style.button_color = 'Whitesmoke'\n",
    "\n",
    "    def on_button4_clicked(b):\n",
    "        if \"(D) \" == letter_answer:\n",
    "            print(\"Correct! 👏\", end='\\r')\n",
    "            button1.style.button_color = 'Whitesmoke'; button2.style.button_color = 'Whitesmoke'\n",
    "            button3.style.button_color = 'Whitesmoke'; button4.style.button_color = '#abffa8'\n",
    "        else:\n",
    "            print(\"Try again! \", end='\\r')\n",
    "            button1.style.button_color = 'Whitesmoke'; button2.style.button_color = 'Whitesmoke'\n",
    "            button3.style.button_color = 'Whitesmoke'; button4.style.button_color = '#ffbbb8'\n",
    "\n",
    "    button1.on_click(on_button1_clicked); button2.on_click(on_button2_clicked)\n",
    "    button3.on_click(on_button3_clicked); button4.on_click(on_button4_clicked)"
   ]
  },
  {
   "cell_type": "code",
   "execution_count": 4,
   "metadata": {},
   "outputs": [
    {
     "name": "stdout",
     "output_type": "stream",
     "text": [
      "\u001b[1mKey Question: \u001b[0;0mMost solids \u001b[1mexpand\u001b[0;0m when heated. Based on the points above, \u001b[1mwhy is this the case?\u001b[0;0m\n",
      "\n",
      "\u001b[1m(A) \u001b[0;0mAs objects become hotter, they contract and the molecules increase their speed.\n",
      "\u001b[1m(B) \u001b[0;0mAn increase in temperature causes the molecules to tighten up and move in a constricted manner.\n",
      "\u001b[1m(C) \u001b[0;0mAn increase in temperature causes the molecules to loosen up and move freely but slowly around.\n",
      "\u001b[1m(D) \u001b[0;0mWhen heat is added to a substance, the molecules vibrate faster causing the space between molecules to increase.\n"
     ]
    },
    {
     "data": {
      "application/vnd.jupyter.widget-view+json": {
       "model_id": "d473f280d75442f4b4dc651a46ead3a5",
       "version_major": 2,
       "version_minor": 0
      },
      "text/html": [
       "<p>Failed to display Jupyter Widget of type <code>HBox</code>.</p>\n",
       "<p>\n",
       "  If you're reading this message in the Jupyter Notebook or JupyterLab Notebook, it may mean\n",
       "  that the widgets JavaScript is still loading. If this message persists, it\n",
       "  likely means that the widgets JavaScript library is either not installed or\n",
       "  not enabled. See the <a href=\"https://ipywidgets.readthedocs.io/en/stable/user_install.html\">Jupyter\n",
       "  Widgets Documentation</a> for setup instructions.\n",
       "</p>\n",
       "<p>\n",
       "  If you're reading this message in another frontend (for example, a static\n",
       "  rendering on GitHub or <a href=\"https://nbviewer.jupyter.org/\">NBViewer</a>),\n",
       "  it may mean that your frontend doesn't currently support widgets.\n",
       "</p>\n"
      ],
      "text/plain": [
       "HBox(children=(Button(description='(A)', style=ButtonStyle(button_color='Whitesmoke')), Button(description='(B)', style=ButtonStyle(button_color='Whitesmoke')), Button(description='(C)', style=ButtonStyle(button_color='Whitesmoke')), Button(description='(D)', style=ButtonStyle(button_color='Whitesmoke'))))"
      ]
     },
     "metadata": {},
     "output_type": "display_data"
    },
    {
     "name": "stdout",
     "output_type": "stream",
     "text": [
      "Correct! 👏\r"
     ]
    }
   ],
   "source": [
    "start_bold = \"\\033[1m\"; end_bold = \"\\033[0;0m\"\n",
    "question = start_bold + \"Key Question: \" + end_bold + \\\n",
    "\"Most solids \" + start_bold + \"expand\" + end_bold + \" when heated. Based on the points above, \" + start_bold + \"why is this the case?\" + end_bold\n",
    "print(question)\n",
    "print(\"\")\n",
    "option_1 = \"When heat is added to a substance, the molecules vibrate faster causing the space between molecules to increase.\"\n",
    "option_2 = \"An increase in temperature causes the molecules to loosen up and move freely but slowly around.\"\n",
    "option_3 = \"As objects become hotter, they contract and the molecules increase their speed.\"\n",
    "option_4 = \"An increase in temperature causes the molecules to tighten up and move in a constricted manner.\"\n",
    "\n",
    "multiple_choice(option_1, option_2, option_3, option_4)"
   ]
  },
  {
   "cell_type": "markdown",
   "metadata": {},
   "source": [
    "## Thermal Linear Expansion\n",
    "\n",
    "**Definition:** The increase in length of a solid in one direction (due to an increase in temperature) is called *thermal linear expansion*. \n",
    "\n",
    "**Goal:** Given any solid, we wish to **predict** how much the solid will expand with a change in temperature; i.e. how do we predict the *change in length* ($\\Delta L$) of a solid due to an increase in temperature?"
   ]
  },
  {
   "cell_type": "markdown",
   "metadata": {},
   "source": [
    "<img style=\"float: center;\" src=\"Images/RodExpanding.svg\" height=\"1800\" width=\"400\">"
   ]
  },
  {
   "cell_type": "code",
   "execution_count": 5,
   "metadata": {},
   "outputs": [
    {
     "name": "stdout",
     "output_type": "stream",
     "text": [
      "\u001b[1mKey Question: \u001b[0;0mWhat \u001b[1mvariable(s)\u001b[0;0m would you need know to predict how much a substance will expand when heat is added?\n",
      "\n",
      "\u001b[1m(A) \u001b[0;0mType of material, Amount of heat added\n",
      "\u001b[1m(B) \u001b[0;0mType of material, Initial length/size, Amount of heat added\n",
      "\u001b[1m(C) \u001b[0;0mRoughness of the material, Type of material\n",
      "\u001b[1m(D) \u001b[0;0mPressure acting material, Amount of heat added\n"
     ]
    },
    {
     "data": {
      "application/vnd.jupyter.widget-view+json": {
       "model_id": "91c2859df1b24b5a91e9a2fa9e30b958",
       "version_major": 2,
       "version_minor": 0
      },
      "text/html": [
       "<p>Failed to display Jupyter Widget of type <code>HBox</code>.</p>\n",
       "<p>\n",
       "  If you're reading this message in the Jupyter Notebook or JupyterLab Notebook, it may mean\n",
       "  that the widgets JavaScript is still loading. If this message persists, it\n",
       "  likely means that the widgets JavaScript library is either not installed or\n",
       "  not enabled. See the <a href=\"https://ipywidgets.readthedocs.io/en/stable/user_install.html\">Jupyter\n",
       "  Widgets Documentation</a> for setup instructions.\n",
       "</p>\n",
       "<p>\n",
       "  If you're reading this message in another frontend (for example, a static\n",
       "  rendering on GitHub or <a href=\"https://nbviewer.jupyter.org/\">NBViewer</a>),\n",
       "  it may mean that your frontend doesn't currently support widgets.\n",
       "</p>\n"
      ],
      "text/plain": [
       "HBox(children=(Button(description='(A)', style=ButtonStyle(button_color='Whitesmoke')), Button(description='(B)', style=ButtonStyle(button_color='Whitesmoke')), Button(description='(C)', style=ButtonStyle(button_color='Whitesmoke')), Button(description='(D)', style=ButtonStyle(button_color='Whitesmoke'))))"
      ]
     },
     "metadata": {},
     "output_type": "display_data"
    },
    {
     "name": "stdout",
     "output_type": "stream",
     "text": [
      " \r"
     ]
    }
   ],
   "source": [
    "start_bold = \"\\033[1m\"; end_bold = \"\\033[0;0m\"\n",
    "question = start_bold + \"Key Question: \" + end_bold + \"What \" + start_bold + \"variable(s)\" + end_bold + \" would you need know to predict how much a substance will expand when heat is added?\"\n",
    "print(question)\n",
    "print(\"\")\n",
    "option_1 = \"Type of material, Initial length/size, Amount of heat added\"\n",
    "option_2 = \"Type of material, Amount of heat added\"\n",
    "option_3 = \"Pressure acting material, Amount of heat added\"\n",
    "option_4 = \"Roughness of the material, Type of material\"\n",
    "\n",
    "multiple_choice(option_1, option_2, option_3, option_4)"
   ]
  },
  {
   "cell_type": "markdown",
   "metadata": {},
   "source": [
    "**Fact:** The change of length $(\\Delta L)$ of a solid depends on **three** factors:\n",
    "1. *Initial length* of the solid $(L)$\n",
    "2. *Temperature change* $(\\Delta T)$\n",
    "3. Type of material, distinguished by a constant value named the *coefficient of linear expansion* $(\\alpha)$\n",
    "\n",
    "Some values for the coefficient of linear expansion are shown in the table below:\n",
    "\n",
    " Materials                 | Coefficient of linear expansion, $\\alpha$ $\\:$ ($1/°\\rm{C}$)\n",
    " ---                       | ---\n",
    " Aluminum                  | 25 $\\times$ 10$^{-6}$\n",
    " Concrete, iron, steel     | 12 $\\times$ 10$^{-6}$\n",
    " Copper                    | 16 $\\times$ 10$^{-6}$\n",
    " Glass (soft), Platinum    | 9 $\\times$ 10$^{-6}$\n",
    " Glass (Pyrex)             | 3 $\\times$ 10$^{-6}$\n",
    "\n",
    "The following formula relates these **four quantities variables** together: \n",
    "\n",
    "<h2><center>$\\Delta L = \\alpha L \\Delta T$</center></h2>\n",
    "\n",
    "We will derive this formula later on in the notebook. Before that, let's get accustomed to using this formula in practical situations."
   ]
  },
  {
   "cell_type": "markdown",
   "metadata": {},
   "source": [
    "### Example\n",
    "\n",
    "The longest continuous bridge in Saskatchewan is a 380 m long steel bridge in North Battleford. The temperature in the area varies from -40.0 $^\\circ$C to 30.0 $^\\circ$C. What is the *change in length of the bridge*? Round to two significant figures."
   ]
  },
  {
   "cell_type": "code",
   "execution_count": 6,
   "metadata": {},
   "outputs": [
    {
     "data": {
      "application/vnd.jupyter.widget-view+json": {
       "model_id": "05b7f52d375443b196b4a37f03bd7b3f",
       "version_major": 2,
       "version_minor": 0
      },
      "text/html": [
       "<p>Failed to display Jupyter Widget of type <code>VBox</code>.</p>\n",
       "<p>\n",
       "  If you're reading this message in the Jupyter Notebook or JupyterLab Notebook, it may mean\n",
       "  that the widgets JavaScript is still loading. If this message persists, it\n",
       "  likely means that the widgets JavaScript library is either not installed or\n",
       "  not enabled. See the <a href=\"https://ipywidgets.readthedocs.io/en/stable/user_install.html\">Jupyter\n",
       "  Widgets Documentation</a> for setup instructions.\n",
       "</p>\n",
       "<p>\n",
       "  If you're reading this message in another frontend (for example, a static\n",
       "  rendering on GitHub or <a href=\"https://nbviewer.jupyter.org/\">NBViewer</a>),\n",
       "  it may mean that your frontend doesn't currently support widgets.\n",
       "</p>\n"
      ],
      "text/plain": [
       "VBox(children=(Button(description='STEP 1', layout=Layout(height='100%', width='20%'), style=ButtonStyle()), Output()))"
      ]
     },
     "metadata": {},
     "output_type": "display_data"
    }
   ],
   "source": [
    "from ipywidgets import Output, IntSlider, VBox, Layout\n",
    "from IPython.display import clear_output, display, HTML\n",
    "\n",
    "out1 = Output()\n",
    "Step1B = widgets.Button(description=\"STEP 1\", layout=Layout(width='20%', height='100%'))\n",
    "count1 = 1\n",
    "\n",
    "info1 = widgets.HTMLMath(value=\"Identify the variables that we know and what we're looking for:\")\n",
    "math_text1 = widgets.HTMLMath(value=\"Initial length: $L=380\\:m$\")\n",
    "math_text2 = widgets.HTMLMath(value=\"Change in temperature: $\\Delta T = T_{final} - T_{initial}$ = 30°C $-$ ($-$40°C) = 70°C\")\n",
    "math_text3 = widgets.HTMLMath(value=\"Coefficient of linear expansion (specific to steel): \" + chr(0x3B1) + \" = $12 × 10^{-6}$ °C$^{-1}$ (reference from table)\")\n",
    "math_text4 = widgets.HTMLMath(value=\"Change in length of the bridge:  $\\Delta L$ = ?\")\n",
    "\n",
    "\n",
    "\n",
    "def on_Step1B_clicked(b):\n",
    "    global count1\n",
    "    count1 += 1\n",
    "    with out1:\n",
    "        clear_output()\n",
    "        if count1 % 2 == 0:\n",
    "            display(info1, math_text1, math_text2, math_text3, math_text4)\n",
    "            \n",
    "display(VBox([Step1B, out1]))\n",
    "Step1B.on_click(on_Step1B_clicked)"
   ]
  },
  {
   "cell_type": "code",
   "execution_count": 7,
   "metadata": {},
   "outputs": [
    {
     "data": {
      "application/vnd.jupyter.widget-view+json": {
       "model_id": "b38484888deb4fd2a8d4482ba9adb77d",
       "version_major": 2,
       "version_minor": 0
      },
      "text/html": [
       "<p>Failed to display Jupyter Widget of type <code>VBox</code>.</p>\n",
       "<p>\n",
       "  If you're reading this message in the Jupyter Notebook or JupyterLab Notebook, it may mean\n",
       "  that the widgets JavaScript is still loading. If this message persists, it\n",
       "  likely means that the widgets JavaScript library is either not installed or\n",
       "  not enabled. See the <a href=\"https://ipywidgets.readthedocs.io/en/stable/user_install.html\">Jupyter\n",
       "  Widgets Documentation</a> for setup instructions.\n",
       "</p>\n",
       "<p>\n",
       "  If you're reading this message in another frontend (for example, a static\n",
       "  rendering on GitHub or <a href=\"https://nbviewer.jupyter.org/\">NBViewer</a>),\n",
       "  it may mean that your frontend doesn't currently support widgets.\n",
       "</p>\n"
      ],
      "text/plain": [
       "VBox(children=(Button(description='STEP 2', layout=Layout(height='100%', width='20%'), style=ButtonStyle()), Output()))"
      ]
     },
     "metadata": {},
     "output_type": "display_data"
    }
   ],
   "source": [
    "out2 = Output()\n",
    "Step2B = widgets.Button(description=\"STEP 2\", layout=Layout(width='20%', height='100%'))\n",
    "count2 = 1\n",
    "\n",
    "info2 = widgets.HTMLMath(value=\"Substitute each known value into the formula and solve for the missing variable:\")\n",
    "math_text5 = widgets.HTMLMath(value=\"$\\Delta L$ = \" + chr(0x3B1) + \" L $\\Delta T$ = ($12 × 10^{-6}$ °C$^{-1}$)(380 m)(70 °C) = 0.3192 m\")\n",
    "\n",
    "def on_Step2B_clicked(b):\n",
    "    global count2\n",
    "    count2 += 1\n",
    "    with out2:\n",
    "        clear_output()\n",
    "        if count2 % 2 == 0:\n",
    "            display(info2, math_text5)\n",
    "            \n",
    "display(VBox([Step2B, out2]))\n",
    "Step2B.on_click(on_Step2B_clicked)"
   ]
  },
  {
   "cell_type": "code",
   "execution_count": 8,
   "metadata": {},
   "outputs": [
    {
     "data": {
      "application/vnd.jupyter.widget-view+json": {
       "model_id": "e41b576d19e6400c808e4667a5a622b1",
       "version_major": 2,
       "version_minor": 0
      },
      "text/html": [
       "<p>Failed to display Jupyter Widget of type <code>VBox</code>.</p>\n",
       "<p>\n",
       "  If you're reading this message in the Jupyter Notebook or JupyterLab Notebook, it may mean\n",
       "  that the widgets JavaScript is still loading. If this message persists, it\n",
       "  likely means that the widgets JavaScript library is either not installed or\n",
       "  not enabled. See the <a href=\"https://ipywidgets.readthedocs.io/en/stable/user_install.html\">Jupyter\n",
       "  Widgets Documentation</a> for setup instructions.\n",
       "</p>\n",
       "<p>\n",
       "  If you're reading this message in another frontend (for example, a static\n",
       "  rendering on GitHub or <a href=\"https://nbviewer.jupyter.org/\">NBViewer</a>),\n",
       "  it may mean that your frontend doesn't currently support widgets.\n",
       "</p>\n"
      ],
      "text/plain": [
       "VBox(children=(Button(description='STEP 3', layout=Layout(height='100%', width='20%'), style=ButtonStyle()), Output()))"
      ]
     },
     "metadata": {},
     "output_type": "display_data"
    }
   ],
   "source": [
    "out3 = Output()\n",
    "Step3B = widgets.Button(description=\"STEP 3\", layout=Layout(width='20%', height='100%'))\n",
    "count3 = 1\n",
    "\n",
    "info3 = widgets.HTMLMath(value=\"Round to the correct number of significant figures and convert to the correct units (if needed):\")\n",
    "math_text6 = widgets.HTMLMath(value=\"0.3192 m = 0.32 m or 32 cm\")\n",
    "\n",
    "def on_Step3B_clicked(b):\n",
    "    global count3\n",
    "    count3 += 1\n",
    "    with out3:\n",
    "        clear_output()\n",
    "        if count3 % 2 == 0:\n",
    "            display(info3, math_text6)\n",
    "            \n",
    "display(VBox([Step3B, out3]))\n",
    "Step3B.on_click(on_Step3B_clicked)"
   ]
  },
  {
   "cell_type": "markdown",
   "metadata": {},
   "source": [
    "### Practice\n",
    "Try multiple practice problems by clicking the 'Generate New Question' button upon completing a problem."
   ]
  },
  {
   "cell_type": "code",
   "execution_count": 22,
   "metadata": {},
   "outputs": [
    {
     "data": {
      "application/javascript": [
       "IPython.notebook.execute_cell()"
      ],
      "text/plain": [
       "<IPython.core.display.Javascript object>"
      ]
     },
     "metadata": {},
     "output_type": "display_data"
    },
    {
     "data": {
      "application/vnd.jupyter.widget-view+json": {
       "model_id": "e9453611d51245ee8aa0d294cb422c10",
       "version_major": 2,
       "version_minor": 0
      },
      "text/html": [
       "<p>Failed to display Jupyter Widget of type <code>Button</code>.</p>\n",
       "<p>\n",
       "  If you're reading this message in the Jupyter Notebook or JupyterLab Notebook, it may mean\n",
       "  that the widgets JavaScript is still loading. If this message persists, it\n",
       "  likely means that the widgets JavaScript library is either not installed or\n",
       "  not enabled. See the <a href=\"https://ipywidgets.readthedocs.io/en/stable/user_install.html\">Jupyter\n",
       "  Widgets Documentation</a> for setup instructions.\n",
       "</p>\n",
       "<p>\n",
       "  If you're reading this message in another frontend (for example, a static\n",
       "  rendering on GitHub or <a href=\"https://nbviewer.jupyter.org/\">NBViewer</a>),\n",
       "  it may mean that your frontend doesn't currently support widgets.\n",
       "</p>\n"
      ],
      "text/plain": [
       "Button(description='Generate New Question', layout=Layout(height='100%', width='20%'), style=ButtonStyle())"
      ]
     },
     "metadata": {},
     "output_type": "display_data"
    },
    {
     "name": "stdout",
     "output_type": "stream",
     "text": [
      "A piece of glass (pyrex) is 2.73 m on a cold winter day (-34.3 °C). How much longer is it on a very hot summer day (30.3 °C)? Round to two decimal places.\n",
      "\u001b[1m(A) \u001b[0;0m0.01 cm\n",
      "\u001b[1m(B) \u001b[0;0m0.05 cm\n",
      "\u001b[1m(C) \u001b[0;0m0.86 cm\n",
      "\u001b[1m(D) \u001b[0;0m0.40 cm\n"
     ]
    },
    {
     "data": {
      "application/vnd.jupyter.widget-view+json": {
       "model_id": "22b52fa3ee0c4f8ea5b9a758e0c4c4ff",
       "version_major": 2,
       "version_minor": 0
      },
      "text/html": [
       "<p>Failed to display Jupyter Widget of type <code>HBox</code>.</p>\n",
       "<p>\n",
       "  If you're reading this message in the Jupyter Notebook or JupyterLab Notebook, it may mean\n",
       "  that the widgets JavaScript is still loading. If this message persists, it\n",
       "  likely means that the widgets JavaScript library is either not installed or\n",
       "  not enabled. See the <a href=\"https://ipywidgets.readthedocs.io/en/stable/user_install.html\">Jupyter\n",
       "  Widgets Documentation</a> for setup instructions.\n",
       "</p>\n",
       "<p>\n",
       "  If you're reading this message in another frontend (for example, a static\n",
       "  rendering on GitHub or <a href=\"https://nbviewer.jupyter.org/\">NBViewer</a>),\n",
       "  it may mean that your frontend doesn't currently support widgets.\n",
       "</p>\n"
      ],
      "text/plain": [
       "HBox(children=(Button(description='(A)', style=ButtonStyle(button_color='Whitesmoke')), Button(description='(B)', style=ButtonStyle(button_color='Whitesmoke')), Button(description='(C)', style=ButtonStyle(button_color='Whitesmoke')), Button(description='(D)', style=ButtonStyle(button_color='Whitesmoke'))))"
      ]
     },
     "metadata": {},
     "output_type": "display_data"
    },
    {
     "name": "stdout",
     "output_type": "stream",
     "text": [
      " \r"
     ]
    }
   ],
   "source": [
    "from IPython.display import Javascript, display\n",
    "from ipywidgets import widgets\n",
    "\n",
    "def run_all(ev):\n",
    "    display(Javascript('IPython.notebook.execute_cell()'))\n",
    "\n",
    "button = widgets.Button(description=\"Generate New Question\", layout=Layout(width='20%', height='100%'))\n",
    "button.on_click(run_all)\n",
    "display(button)\n",
    "\n",
    "#import random\n",
    "#import ipywidgets as widgets\n",
    "\n",
    "#Variables to randomize\n",
    "initial_length = round(random.uniform(2.0, 6.0), 2)\n",
    "initial_temp = round(random.uniform(-50.0, -20.0), 1)\n",
    "final_temp = round(random.uniform(30.0, 45.0), 1)\n",
    "\n",
    "#Dictionary of different materials\n",
    "materials = {\"aluminum\": 0.000025, \"iron\": 0.000012, \"steel\": 0.000012, \"glass (soft)\": 0.000009, \"glass (pyrex)\": 0.000003, \"concrete\": 0.000012, \"platinum\": 0.000009, \"copper\": 0.000016}\n",
    "chosen_material = random.choice(list(materials.keys()))\n",
    "\n",
    "#Print question\n",
    "question = \"A piece of {} is {} m on a cold winter day ({} °C). How much longer is it on a very hot summer day ({} °C)? Round to two decimal places.\".format(chosen_material, initial_length, initial_temp, final_temp)\n",
    "print(question)\n",
    "\n",
    "#Answer calculation\n",
    "answer = round((initial_length * materials[chosen_material] * (final_temp - initial_temp))*100, 2)\n",
    "\n",
    "#Define range of values for random multiple choices\n",
    "mini = 1\n",
    "maxa = 100\n",
    "\n",
    "#Create three choices that are unique (and not equal to the answer)\n",
    "choice_list = random.sample(range(mini,maxa),3)\n",
    "while choice_list.count(int(answer*100)) >= 1:\n",
    "    choice_list = random.sample(range(mini,maxa),3)\n",
    "    \n",
    "#Assign each multiple choice to these four variables\n",
    "#Option_1 contains the answer\n",
    "option_1 = '{:.2f}'.format(answer) + \" cm\" \n",
    "option_2 = '{:.2f}'.format(choice_list[0]/100) + \" cm\"\n",
    "option_3 = '{:.2f}'.format(choice_list[1]/100) + \" cm\"\n",
    "option_4 = '{:.2f}'.format(choice_list[2]/100) + \" cm\"\n",
    "\n",
    "multiple_choice(option_1, option_2, option_3, option_4)"
   ]
  },
  {
   "cell_type": "markdown",
   "metadata": {},
   "source": [
    "## Deriving the Formula\n",
    "\n",
    "Now that you are comfortable using the thermal expansion formula, we now discuss how it is derived experimentally. Of the four quantities in the equation, $\\Delta L = \\alpha L \\Delta T$, it is the coefficent of linear expansion ($\\alpha$) that may be still be mysterious in how it is measured. Previously, we have referenced a table of values to determine $\\alpha$, but *where do these values come from?*\n",
    "\n",
    "We demonstrate how to calculate $\\alpha$ experimentally below. We will require two different materials so we can compare each expansion (which you can select in the dropdown menus below). We then apply *the exact same amount of heat to both materials* (which you can adjust using the slider). When you are ready, click the \"Calculate Linear Expansion\" button below. "
   ]
  },
  {
   "cell_type": "code",
   "execution_count": 10,
   "metadata": {},
   "outputs": [
    {
     "data": {
      "text/html": [
       "<script>requirejs.config({paths: { 'plotly': ['https://cdn.plot.ly/plotly-latest.min']},});if(!window.Plotly) {{require(['plotly'],function(plotly) {window.Plotly=plotly;});}}</script>"
      ],
      "text/vnd.plotly.v1+html": [
       "<script>requirejs.config({paths: { 'plotly': ['https://cdn.plot.ly/plotly-latest.min']},});if(!window.Plotly) {{require(['plotly'],function(plotly) {window.Plotly=plotly;});}}</script>"
      ]
     },
     "metadata": {},
     "output_type": "display_data"
    },
    {
     "data": {
      "application/vnd.jupyter.widget-view+json": {
       "model_id": "46343b1a01a249ff80bfa1fc5525b90d",
       "version_major": 2,
       "version_minor": 0
      },
      "text/html": [
       "<p>Failed to display Jupyter Widget of type <code>HBox</code>.</p>\n",
       "<p>\n",
       "  If you're reading this message in the Jupyter Notebook or JupyterLab Notebook, it may mean\n",
       "  that the widgets JavaScript is still loading. If this message persists, it\n",
       "  likely means that the widgets JavaScript library is either not installed or\n",
       "  not enabled. See the <a href=\"https://ipywidgets.readthedocs.io/en/stable/user_install.html\">Jupyter\n",
       "  Widgets Documentation</a> for setup instructions.\n",
       "</p>\n",
       "<p>\n",
       "  If you're reading this message in another frontend (for example, a static\n",
       "  rendering on GitHub or <a href=\"https://nbviewer.jupyter.org/\">NBViewer</a>),\n",
       "  it may mean that your frontend doesn't currently support widgets.\n",
       "</p>\n"
      ],
      "text/plain": [
       "HBox(children=(VBox(children=(Dropdown(description='Material 1:', index=1, options=('Steel', 'Aluminum', 'Copper'), value='Aluminum'), Dropdown(description='Material 2:', index=1, options=('Platinum', 'Iron', 'Glass (Pyrex)'), value='Iron'))), VBox(children=(IntSlider(value=500, continuous_update=False, description='ΔT (°C)', max=1000, min=50, step=50), IntSlider(value=5, continuous_update=False, description='L (m)', max=10, min=1)))))"
      ]
     },
     "metadata": {},
     "output_type": "display_data"
    },
    {
     "data": {
      "application/vnd.jupyter.widget-view+json": {
       "model_id": "b7369820cbc44277843c7da9a1fb5610",
       "version_major": 2,
       "version_minor": 0
      },
      "text/html": [
       "<p>Failed to display Jupyter Widget of type <code>Button</code>.</p>\n",
       "<p>\n",
       "  If you're reading this message in the Jupyter Notebook or JupyterLab Notebook, it may mean\n",
       "  that the widgets JavaScript is still loading. If this message persists, it\n",
       "  likely means that the widgets JavaScript library is either not installed or\n",
       "  not enabled. See the <a href=\"https://ipywidgets.readthedocs.io/en/stable/user_install.html\">Jupyter\n",
       "  Widgets Documentation</a> for setup instructions.\n",
       "</p>\n",
       "<p>\n",
       "  If you're reading this message in another frontend (for example, a static\n",
       "  rendering on GitHub or <a href=\"https://nbviewer.jupyter.org/\">NBViewer</a>),\n",
       "  it may mean that your frontend doesn't currently support widgets.\n",
       "</p>\n"
      ],
      "text/plain": [
       "Button(button_style='success', description='Calculate Linear Expansion', layout=Layout(height='88%', width='20%'), style=ButtonStyle())"
      ]
     },
     "metadata": {},
     "output_type": "display_data"
    },
    {
     "data": {
      "application/vnd.jupyter.widget-view+json": {
       "model_id": "38c8c5d4412244af9cefe6accb120259",
       "version_major": 2,
       "version_minor": 0
      },
      "text/html": [
       "<p>Failed to display Jupyter Widget of type <code>Output</code>.</p>\n",
       "<p>\n",
       "  If you're reading this message in the Jupyter Notebook or JupyterLab Notebook, it may mean\n",
       "  that the widgets JavaScript is still loading. If this message persists, it\n",
       "  likely means that the widgets JavaScript library is either not installed or\n",
       "  not enabled. See the <a href=\"https://ipywidgets.readthedocs.io/en/stable/user_install.html\">Jupyter\n",
       "  Widgets Documentation</a> for setup instructions.\n",
       "</p>\n",
       "<p>\n",
       "  If you're reading this message in another frontend (for example, a static\n",
       "  rendering on GitHub or <a href=\"https://nbviewer.jupyter.org/\">NBViewer</a>),\n",
       "  it may mean that your frontend doesn't currently support widgets.\n",
       "</p>\n"
      ],
      "text/plain": [
       "Output()"
      ]
     },
     "metadata": {},
     "output_type": "display_data"
    }
   ],
   "source": [
    "from plotly.offline import init_notebook_mode, iplot\n",
    "from ipywidgets import HBox\n",
    "import plotly.graph_objs as go\n",
    "import numpy as np\n",
    "import random\n",
    "\n",
    "init_notebook_mode(connected=True)\n",
    "\n",
    "coefficients = {\"Aluminum\": 0.000025, \"Iron\": 0.000012, \"Steel\": 0.000012, \"Glass (soft)\": 0.000009, \"Glass (Pyrex)\": 0.000003, \"Concrete\": 0.000012, \"Platinum\": 0.000009, \"Copper\": 0.000016}\n",
    "\n",
    "graph_out = Output()\n",
    "\n",
    "selection1 = widgets.Dropdown(\n",
    "    options={'Aluminum', 'Steel', 'Copper'},\n",
    "    value='Aluminum',\n",
    "    description='Material 1:',\n",
    ")\n",
    "\n",
    "selection2 = widgets.Dropdown(\n",
    "    options={'Iron', 'Platinum', 'Glass (Pyrex)'},\n",
    "    value='Iron',\n",
    "    description='Material 2:',\n",
    ")\n",
    "\n",
    "temp_slider = IntSlider(continuous_update=False, wait=True, value=500, min=50, max=1000, step=50, description=chr(0x0394) + 'T (°C)')\n",
    "initial_length_slider = IntSlider(continuous_update=False, wait=True, value=5, min=1, max=10, step=1, description='L (m)')\n",
    "\n",
    "submit_button = widgets.Button(description=\"Calculate Linear Expansion\", layout=Layout(width='20%', height='88%'),button_style='success')\n",
    "\n",
    "################ Functions ##################\n",
    "\n",
    "def initial_graph(material1, material2):\n",
    "################# Parametric Equations #################\n",
    "    s3 = np.linspace(0, 2 * np.pi, 30)\n",
    "    t3 = np.linspace(0, 5, 30)\n",
    "    tGrid3, sGrid3 = np.meshgrid(s3, t3)\n",
    "\n",
    "    x3 = np.cos(tGrid3) + 1.5\n",
    "    y3 = np.sin(tGrid3) + 1.5\n",
    "    z3 = sGrid3\n",
    "\n",
    "    s4 = np.linspace(0, 2 * np.pi, 30)\n",
    "    t4 = np.linspace(0, 5, 30)\n",
    "    tGrid4, sGrid4 = np.meshgrid(s4, t4)\n",
    "\n",
    "    x4 = np.cos(tGrid4) + 3.5\n",
    "    y4 = np.sin(tGrid4) + 3.5\n",
    "    z4 = sGrid4\n",
    "\n",
    "    ######################################################\n",
    "\n",
    "    trace1 = go.Surface(x=x3, y=y3, z=z3, colorscale='Greens', showscale=False, text = material1, hoverinfo='text')\n",
    "    trace2 = go.Surface(x=x4, y=y4, z=z4, colorscale='Blues', showscale=False, text = material2, hoverinfo='text')\n",
    "    data = [trace1, trace2]\n",
    "    layout = go.Layout(title = material1 + \" and \" + material2 + \" (before heat is applied)\",\n",
    "    scene = dict(xaxis = dict(title='', range = [0,5],\n",
    "                     backgroundcolor=\"rgb(200, 200, 230)\",\n",
    "                     gridcolor=\"rgb(255, 255, 255)\",\n",
    "                     showbackground=True,\n",
    "                     zerolinecolor=\"rgb(255, 255, 255)\",\n",
    "                     showticklabels=False,),\n",
    "                yaxis = dict(title='', range = [0,5],\n",
    "                    backgroundcolor=\"rgb(230, 200,230)\",\n",
    "                    gridcolor=\"rgb(255, 255, 255)\",\n",
    "                    showbackground=True,\n",
    "                    zerolinecolor=\"rgb(255, 255, 255)\",\n",
    "                    showticklabels=False),\n",
    "                zaxis = dict(title='', range = [0,4],\n",
    "                    backgroundcolor=\"rgb(230, 230,200)\",\n",
    "                    gridcolor=\"rgb(255, 255, 255)\",\n",
    "                    showbackground=True,\n",
    "                    zerolinecolor=\"rgb(255, 255, 255)\",\n",
    "                    showticklabels=False,),),\n",
    "              )\n",
    "    config={'showLink': False, 'editable': False}\n",
    "    fig = go.Figure(data=data, layout=layout)\n",
    "    iplot(fig, config=config)\n",
    "\n",
    "\n",
    "def graph(h, h2, material1, material2, initial_length):\n",
    "    with graph_out:\n",
    "        clear_output(wait=True)\n",
    "        \n",
    "        ################# Parametric Equations #################\n",
    "        s = np.linspace(0, 2 * np.pi, 30)\n",
    "        t = np.linspace(0, h, 30)\n",
    "        tGrid, sGrid = np.meshgrid(s, t)\n",
    "        \n",
    "        x = np.cos(tGrid) + 1.5\n",
    "        y = np.sin(tGrid) + 1.5\n",
    "        z = sGrid + initial_length\n",
    "        \n",
    "        s2 = np.linspace(0, 2 * np.pi, 30)\n",
    "        t2 = np.linspace(0, h2, 30)\n",
    "        tGrid2, sGrid2 = np.meshgrid(s2, t2)\n",
    "        \n",
    "        x2 = np.cos(tGrid2) + 3.5\n",
    "        y2 = np.sin(tGrid2) + 3.5\n",
    "        z2 = sGrid2 + initial_length\n",
    "        \n",
    "        s3 = np.linspace(0, 2 * np.pi, 30)\n",
    "        t3 = np.linspace(0, initial_length, 30)\n",
    "        tGrid3, sGrid3 = np.meshgrid(s3, t3)\n",
    "        \n",
    "        x3 = np.cos(tGrid3) + 1.5\n",
    "        y3 = np.sin(tGrid3) + 1.5\n",
    "        z3 = sGrid3\n",
    "        \n",
    "        s4 = np.linspace(0, 2 * np.pi, 30)\n",
    "        t4 = np.linspace(0, initial_length, 30)\n",
    "        tGrid4, sGrid4 = np.meshgrid(s4, t4)\n",
    "        \n",
    "        x4 = np.cos(tGrid4) + 3.5\n",
    "        y4 = np.sin(tGrid4) + 3.5\n",
    "        z4 = sGrid4\n",
    "        ######################################################\n",
    "        \n",
    "        trace1 = go.Surface(x=x, y=y, z=z, colorscale='Reds', showscale=False, text = chr(0x0394) + 'L (' + material1 + ') = ' + str(round(h/5 * 100 ,5)) + ' cm', hoverinfo='text')\n",
    "        trace2 = go.Surface(x=x2, y=y2, z=z2, colorscale='Reds', showscale=False, text = chr(0x0394) + 'L (' + material2 + ') = ' + str(round(h2/5 * 100,5)) + ' cm', hoverinfo='text')\n",
    "        trace3 = go.Surface(x=x3, y=y3, z=z3, colorscale='Greens', showscale=False, text = material1, hoverinfo='text')\n",
    "        trace4 = go.Surface(x=x4, y=y4, z=z4, colorscale='Blues', showscale=False, text = material2, hoverinfo='text')\n",
    "        \n",
    "        data = [trace1, trace2, trace3, trace4]\n",
    "        layout = go.Layout(title = chr(0x0394) + 'L (' + material1 + ') = ' + str(round(h/5 * 100 ,5)) + ' cm;  ' + chr(0x0394) + 'L (' + material2 + ') = ' + str(round(h2/5 * 100,5)) + ' cm',\n",
    "                    scene = dict(\n",
    "                    xaxis = dict(title='', range = [0,5],\n",
    "                         backgroundcolor=\"rgb(200, 200, 230)\",\n",
    "                         gridcolor=\"rgb(255, 255, 255)\",\n",
    "                         showbackground=True,\n",
    "                         zerolinecolor=\"rgb(255, 255, 255)\",\n",
    "                         showticklabels=False,),\n",
    "                    yaxis = dict(title='', range = [0,5],\n",
    "                        backgroundcolor=\"rgb(230, 200,230)\",\n",
    "                        gridcolor=\"rgb(255, 255, 255)\",\n",
    "                        showbackground=True,\n",
    "                        zerolinecolor=\"rgb(255, 255, 255)\",\n",
    "                        showticklabels=False),\n",
    "                    zaxis = dict(title='', range = [0,initial_length + max(h,h2)],\n",
    "                        backgroundcolor=\"rgb(230, 230,200)\",\n",
    "                        gridcolor=\"rgb(255, 255, 255)\",\n",
    "                        showbackground=True,\n",
    "                        zerolinecolor=\"rgb(255, 255, 255)\",\n",
    "                        showticklabels=False,),),\n",
    "                  )\n",
    "        config={'showLink': False, 'editable': False}\n",
    "        fig = go.Figure(data=data, layout=layout)\n",
    "        note = widgets.HTMLMath(value=r\"$\\textbf{Note: } \\text{The thermal expansion shown below (coloured red) is magnified (5x) for easier viewing.}$\")\n",
    "        display(note)\n",
    "        iplot(fig, config=config)\n",
    "\n",
    "def on_submit_button_clicked(b):\n",
    "    height = (initial_length_slider.value*temp_slider.value*coefficients[selection1.value]) * 5\n",
    "    height2 = (initial_length_slider.value*temp_slider.value*coefficients[selection2.value]) *  5\n",
    "    graph(height, height2, selection1.value, selection2.value, initial_length_slider.value)\n",
    "    \n",
    "\n",
    "display(HBox([VBox([selection1, selection2]), VBox([temp_slider, initial_length_slider])]))\n",
    "display(submit_button)\n",
    "display(graph_out)\n",
    "\n",
    "with graph_out:\n",
    "    initial_graph(selection1.value, selection2.value)\n",
    "    \n",
    "submit_button.on_click(on_submit_button_clicked)"
   ]
  },
  {
   "cell_type": "markdown",
   "metadata": {},
   "source": [
    "*Use the interactive simulation above to answer the following two questions.*"
   ]
  },
  {
   "cell_type": "code",
   "execution_count": 11,
   "metadata": {},
   "outputs": [
    {
     "name": "stdout",
     "output_type": "stream",
     "text": [
      "Keep ΔT fixed and only adjust L. Run the simulation many times, each with a different value for L (but the same value for ΔT). What happens to ΔL?\n",
      "\n",
      "\u001b[1m(A) \u001b[0;0mΔL increases as L increases and ΔL decreases as L decreases.\n",
      "\u001b[1m(B) \u001b[0;0mThere is no relationship between ΔL and L.\n",
      "\u001b[1m(C) \u001b[0;0mWhen L decreases or increases, ΔL remains constant.\n",
      "\u001b[1m(D) \u001b[0;0mΔL increases as L decreases and ΔL decreases as L increases.\n"
     ]
    },
    {
     "data": {
      "application/vnd.jupyter.widget-view+json": {
       "model_id": "c97124ad7e7442a0b71c78cf05ca8932",
       "version_major": 2,
       "version_minor": 0
      },
      "text/html": [
       "<p>Failed to display Jupyter Widget of type <code>HBox</code>.</p>\n",
       "<p>\n",
       "  If you're reading this message in the Jupyter Notebook or JupyterLab Notebook, it may mean\n",
       "  that the widgets JavaScript is still loading. If this message persists, it\n",
       "  likely means that the widgets JavaScript library is either not installed or\n",
       "  not enabled. See the <a href=\"https://ipywidgets.readthedocs.io/en/stable/user_install.html\">Jupyter\n",
       "  Widgets Documentation</a> for setup instructions.\n",
       "</p>\n",
       "<p>\n",
       "  If you're reading this message in another frontend (for example, a static\n",
       "  rendering on GitHub or <a href=\"https://nbviewer.jupyter.org/\">NBViewer</a>),\n",
       "  it may mean that your frontend doesn't currently support widgets.\n",
       "</p>\n"
      ],
      "text/plain": [
       "HBox(children=(Button(description='(A)', style=ButtonStyle(button_color='Whitesmoke')), Button(description='(B)', style=ButtonStyle(button_color='Whitesmoke')), Button(description='(C)', style=ButtonStyle(button_color='Whitesmoke')), Button(description='(D)', style=ButtonStyle(button_color='Whitesmoke'))))"
      ]
     },
     "metadata": {},
     "output_type": "display_data"
    },
    {
     "name": "stdout",
     "output_type": "stream",
     "text": [
      " \r"
     ]
    }
   ],
   "source": [
    "start_bold = \"\\033[1m\"; end_bold = \"\\033[0;0m\"\n",
    "question = \"Keep ΔT fixed and only adjust L. Run the simulation many times, each with a different value for L (but the same value for ΔT). What happens to ΔL?\"\n",
    "print(question)\n",
    "print(\"\")\n",
    "option_1 = \"ΔL increases as L increases and ΔL decreases as L decreases.\"\n",
    "option_2 = \"ΔL increases as L decreases and ΔL decreases as L increases.\"\n",
    "option_3 = \"There is no relationship between ΔL and L.\"\n",
    "option_4 = \"When L decreases or increases, ΔL remains constant.\"\n",
    "\n",
    "multiple_choice(option_1, option_2, option_3, option_4)"
   ]
  },
  {
   "cell_type": "code",
   "execution_count": 12,
   "metadata": {},
   "outputs": [
    {
     "name": "stdout",
     "output_type": "stream",
     "text": [
      "Now, keep L fixed and only adjust ΔT. Again, run the simulation many times, each with a different value for ΔT (but the same value for L). What happens to ΔL?\n",
      "\n",
      "\u001b[1m(A) \u001b[0;0mΔL increases as ΔT decreases and ΔL decreases as ΔT increases.\n",
      "\u001b[1m(B) \u001b[0;0mThere is no relationship between ΔL and ΔT.\n",
      "\u001b[1m(C) \u001b[0;0mΔL increases as ΔT increases and ΔL decreases as ΔT decreases.\n",
      "\u001b[1m(D) \u001b[0;0mWhen ΔT decreases or increases, ΔL remains constant.\n"
     ]
    },
    {
     "data": {
      "application/vnd.jupyter.widget-view+json": {
       "model_id": "42d0969053184b33b6ba2c892dfc8884",
       "version_major": 2,
       "version_minor": 0
      },
      "text/html": [
       "<p>Failed to display Jupyter Widget of type <code>HBox</code>.</p>\n",
       "<p>\n",
       "  If you're reading this message in the Jupyter Notebook or JupyterLab Notebook, it may mean\n",
       "  that the widgets JavaScript is still loading. If this message persists, it\n",
       "  likely means that the widgets JavaScript library is either not installed or\n",
       "  not enabled. See the <a href=\"https://ipywidgets.readthedocs.io/en/stable/user_install.html\">Jupyter\n",
       "  Widgets Documentation</a> for setup instructions.\n",
       "</p>\n",
       "<p>\n",
       "  If you're reading this message in another frontend (for example, a static\n",
       "  rendering on GitHub or <a href=\"https://nbviewer.jupyter.org/\">NBViewer</a>),\n",
       "  it may mean that your frontend doesn't currently support widgets.\n",
       "</p>\n"
      ],
      "text/plain": [
       "HBox(children=(Button(description='(A)', style=ButtonStyle(button_color='Whitesmoke')), Button(description='(B)', style=ButtonStyle(button_color='Whitesmoke')), Button(description='(C)', style=ButtonStyle(button_color='Whitesmoke')), Button(description='(D)', style=ButtonStyle(button_color='Whitesmoke'))))"
      ]
     },
     "metadata": {},
     "output_type": "display_data"
    },
    {
     "name": "stdout",
     "output_type": "stream",
     "text": [
      " \r"
     ]
    }
   ],
   "source": [
    "start_bold = \"\\033[1m\"; end_bold = \"\\033[0;0m\"\n",
    "question = \"Now, keep L fixed and only adjust ΔT. Again, run the simulation many times, each with a different value for ΔT (but the same value for L). What happens to ΔL?\"\n",
    "print(question)\n",
    "print(\"\")\n",
    "option_1 = \"ΔL increases as ΔT increases and ΔL decreases as ΔT decreases.\"\n",
    "option_2 = \"ΔL increases as ΔT decreases and ΔL decreases as ΔT increases.\"\n",
    "option_3 = \"There is no relationship between ΔL and ΔT.\"\n",
    "option_4 = \"When ΔT decreases or increases, ΔL remains constant.\"\n",
    "\n",
    "multiple_choice(option_1, option_2, option_3, option_4)"
   ]
  },
  {
   "cell_type": "markdown",
   "metadata": {},
   "source": [
    "**Goal:** To establish a thermal expansion formula capable of accurately predicting how much a material will expand linearly when heat is applied.\n",
    "\n",
    "Observe how $\\Delta L$ is different for some materials (aluminum versus platinum), but the same for others (steel versus iron). This is due to similarities and differences between the chemical composition of each material. For example, steel is comprised of around 90-95% iron, which accounts for both materials' identical rate of thermal expansion. \n",
    "\n",
    "Simply knowing the initial length ($L$) and change in temperature ($\\Delta T$) is clearly not enough to predict change in length ($\\Delta L$). We can see this above: when both materials share the same values of $L$ and $\\Delta T$, their $\\Delta L$ is often different. We somehow must assign a *constant* value (which we call $\\alpha$) for each material that we can use alongside $L$ and $\\Delta T$ to compute $\\Delta L$. Since we experimentally measured $\\Delta L$ above, we in fact have all the information we need to establish such a constant.\n",
    "\n",
    "The above simulation and questions indicates that the relationship between $L$, $\\Delta T$, and $\\Delta L$ is direct rather than inverse ($1/\\Delta T$ or $1/L$). Since $\\Delta L$ becomes larger as both $L$ and $\\Delta T$ become larger, we guess that their relationship is multiplicative. Hence, we begin by writing down the following formula that we want:\n",
    "\n",
    "<h2><center>$\\Delta L$ = <span style=\"color: red\"> $\\alpha$</span> $L \\Delta T$</center></h2>\n",
    "\n",
    "The <span style=\"color: red\"> $\\alpha$</span> is the constant that we need, but do not know. However, we measured $\\Delta L$ and we know both $L$ and $\\Delta T$, so computing <span style=\"color: red\"> $\\alpha$</span> is easy:\n",
    "\n",
    "<h2><center><span style=\"color: red\"> $\\alpha$</span> $ = \\dfrac{\\Delta L}{L \\Delta T}$</center></h2>\n",
    "    \n",
    "Using the sliders below, input the change in length ($\\Delta L$) for both materials 1 and 2 from the above experimental simulation to compute $\\alpha$ for each material. **Hint:** Use your *arrow keys* on your keyboard to use the sliders with precision."
   ]
  },
  {
   "cell_type": "code",
   "execution_count": 13,
   "metadata": {},
   "outputs": [
    {
     "data": {
      "application/vnd.jupyter.widget-view+json": {
       "model_id": "3fc94bab69624c1da7be109d2029fd13",
       "version_major": 2,
       "version_minor": 0
      },
      "text/html": [
       "<p>Failed to display Jupyter Widget of type <code>VBox</code>.</p>\n",
       "<p>\n",
       "  If you're reading this message in the Jupyter Notebook or JupyterLab Notebook, it may mean\n",
       "  that the widgets JavaScript is still loading. If this message persists, it\n",
       "  likely means that the widgets JavaScript library is either not installed or\n",
       "  not enabled. See the <a href=\"https://ipywidgets.readthedocs.io/en/stable/user_install.html\">Jupyter\n",
       "  Widgets Documentation</a> for setup instructions.\n",
       "</p>\n",
       "<p>\n",
       "  If you're reading this message in another frontend (for example, a static\n",
       "  rendering on GitHub or <a href=\"https://nbviewer.jupyter.org/\">NBViewer</a>),\n",
       "  it may mean that your frontend doesn't currently support widgets.\n",
       "</p>\n"
      ],
      "text/plain": [
       "VBox(children=(IntSlider(value=500, continuous_update=False, description='ΔT (°C)', max=1000, min=10), FloatSlider(value=0.0, continuous_update=False, description='ΔL₁ (cm)', max=10.0, readout_format='.3f', step=0.001, style=SliderStyle(description_width='initial')), FloatSlider(value=0.0, continuous_update=False, description='ΔL₂ (cm)', max=10.0, readout_format='.3f', step=0.001, style=SliderStyle(description_width='initial')), Button(button_style='success', description='Calculate α₁ and α₂', layout=Layout(height='88%', width='20%'), style=ButtonStyle())))"
      ]
     },
     "metadata": {},
     "output_type": "display_data"
    },
    {
     "data": {
      "application/vnd.jupyter.widget-view+json": {
       "model_id": "ecebe150dd594162b603f0feff983b95",
       "version_major": 2,
       "version_minor": 0
      },
      "text/html": [
       "<p>Failed to display Jupyter Widget of type <code>Output</code>.</p>\n",
       "<p>\n",
       "  If you're reading this message in the Jupyter Notebook or JupyterLab Notebook, it may mean\n",
       "  that the widgets JavaScript is still loading. If this message persists, it\n",
       "  likely means that the widgets JavaScript library is either not installed or\n",
       "  not enabled. See the <a href=\"https://ipywidgets.readthedocs.io/en/stable/user_install.html\">Jupyter\n",
       "  Widgets Documentation</a> for setup instructions.\n",
       "</p>\n",
       "<p>\n",
       "  If you're reading this message in another frontend (for example, a static\n",
       "  rendering on GitHub or <a href=\"https://nbviewer.jupyter.org/\">NBViewer</a>),\n",
       "  it may mean that your frontend doesn't currently support widgets.\n",
       "</p>\n"
      ],
      "text/plain": [
       "Output()"
      ]
     },
     "metadata": {},
     "output_type": "display_data"
    }
   ],
   "source": [
    "out_text = Output()\n",
    "\n",
    "################ Widgets #################\n",
    "style = {'description_width': 'initial'}\n",
    "temp1_slider = IntSlider(continuous_update=False, wait=True, value=500, min=10, max=1000, step=1, description=chr(0x0394) + 'T (°C)')\n",
    "change1_slider = widgets.FloatSlider(continuous_update=False, wait=True, value=0, min=0, max=10, step=0.001, readout_format='.3f', description=chr(0x0394) + 'L'+ chr(0x2081) + ' (cm)', style=style)\n",
    "change2_slider = widgets.FloatSlider(continuous_update=False, wait=True, value=0, min=0, max=10, step=0.001, readout_format='.3f', description=chr(0x0394) + 'L'+ chr(0x2082) + ' (cm)', style=style)\n",
    "coeff_calc = widgets.Button(description=\"Calculate \" + chr(0x03b1) + chr(0x2081) + \" and \" + chr(0x03b1) + chr(0x2082), layout=Layout(width='20%', height='88%'),button_style='success')\n",
    "###########################################\n",
    "\n",
    "display(VBox([temp1_slider, change1_slider, change2_slider, coeff_calc]))\n",
    "\n",
    "def on_submit_button_clicked(b):\n",
    "    ans1 = round(change1_slider.value / (300.0 * temp1_slider.value), 8)\n",
    "    ans2 = round(change2_slider.value / (300.0 * temp1_slider.value), 8)\n",
    "    with out_text:\n",
    "        clear_output()\n",
    "        text_answer = widgets.HTMLMath(value=r\"$\\alpha_1 = $ \" + str(ans1) + \" °C$^{-1}$\" + \"$\\qquad$\" + r\"$\\alpha_2 = $ \" + str(ans2) + \" °C$^{-1}$\")\n",
    "        text_answer2 = widgets.HTMLMath(value=r\"Compare each $\\alpha_1$ and $\\alpha_2$ to those found in the table of coefficients of linear expansion above. See if they match.\")\n",
    "        display(text_answer)\n",
    "        display(text_answer2)\n",
    "\n",
    "### Widget Interaction Function Calls ###\n",
    "coeff_calc.on_click(on_submit_button_clicked)\n",
    "\n",
    "display(out_text)"
   ]
  },
  {
   "cell_type": "markdown",
   "metadata": {},
   "source": [
    "## Variations on the Thermal Expansion Formula\n",
    "\n",
    "As we've just seen, the formula $\\Delta L = \\alpha L \\Delta T$ is not always used to find $\\Delta L$. Often, we can experimentally measure $\\Delta L$. Depending on the application, we can then theoretically compute one of the other quantities (assuming we know the value of two of the other quantities). It is worth noting the three variations of the thermal expansion formula:\n",
    "\n",
    "<h1><center>$\\alpha = \\dfrac{\\Delta L}{L \\Delta T}$ &emsp; $L = \\dfrac{\\Delta L}{\\alpha \\Delta T}$ &emsp; $\\Delta T = \\dfrac{\\Delta L}{\\alpha L}$</center></h1>\n",
    "\n",
    "**Note:** This is **one** formula being displayed in **three** different ways. It is convenient to make use of the variation that corresponds to the unknown value that you wish to determine."
   ]
  },
  {
   "cell_type": "markdown",
   "metadata": {},
   "source": [
    "### Practice \n",
    "\n",
    "Try the three different types of questions using the above variations of the thermal expansion formula. Use the 'Generate New Question' button to complete additional practice problems."
   ]
  },
  {
   "cell_type": "code",
   "execution_count": 14,
   "metadata": {},
   "outputs": [
    {
     "data": {
      "application/vnd.jupyter.widget-view+json": {
       "model_id": "3758ff435aaa4df29115c35dc1b90894",
       "version_major": 2,
       "version_minor": 0
      },
      "text/html": [
       "<p>Failed to display Jupyter Widget of type <code>Button</code>.</p>\n",
       "<p>\n",
       "  If you're reading this message in the Jupyter Notebook or JupyterLab Notebook, it may mean\n",
       "  that the widgets JavaScript is still loading. If this message persists, it\n",
       "  likely means that the widgets JavaScript library is either not installed or\n",
       "  not enabled. See the <a href=\"https://ipywidgets.readthedocs.io/en/stable/user_install.html\">Jupyter\n",
       "  Widgets Documentation</a> for setup instructions.\n",
       "</p>\n",
       "<p>\n",
       "  If you're reading this message in another frontend (for example, a static\n",
       "  rendering on GitHub or <a href=\"https://nbviewer.jupyter.org/\">NBViewer</a>),\n",
       "  it may mean that your frontend doesn't currently support widgets.\n",
       "</p>\n"
      ],
      "text/plain": [
       "Button(description='Generate New Question', layout=Layout(height='100%', width='20%'), style=ButtonStyle())"
      ]
     },
     "metadata": {},
     "output_type": "display_data"
    },
    {
     "name": "stdout",
     "output_type": "stream",
     "text": [
      "An newly made synthetic material 2.0 m long expands 0.52 mm when heated from 22.3°C to 146.3°C. What is the coefficient of linear expansion of this new material?\n",
      "\u001b[1m(A) \u001b[0;0m2.1e-06 °C⁻¹\n",
      "\u001b[1m(B) \u001b[0;0m3.51e-06 °C⁻¹\n",
      "\u001b[1m(C) \u001b[0;0m3.55e-06 °C⁻¹\n",
      "\u001b[1m(D) \u001b[0;0m2.86e-06 °C⁻¹\n"
     ]
    },
    {
     "data": {
      "application/vnd.jupyter.widget-view+json": {
       "model_id": "240fd1271ca747919b5dcce9d3388908",
       "version_major": 2,
       "version_minor": 0
      },
      "text/html": [
       "<p>Failed to display Jupyter Widget of type <code>HBox</code>.</p>\n",
       "<p>\n",
       "  If you're reading this message in the Jupyter Notebook or JupyterLab Notebook, it may mean\n",
       "  that the widgets JavaScript is still loading. If this message persists, it\n",
       "  likely means that the widgets JavaScript library is either not installed or\n",
       "  not enabled. See the <a href=\"https://ipywidgets.readthedocs.io/en/stable/user_install.html\">Jupyter\n",
       "  Widgets Documentation</a> for setup instructions.\n",
       "</p>\n",
       "<p>\n",
       "  If you're reading this message in another frontend (for example, a static\n",
       "  rendering on GitHub or <a href=\"https://nbviewer.jupyter.org/\">NBViewer</a>),\n",
       "  it may mean that your frontend doesn't currently support widgets.\n",
       "</p>\n"
      ],
      "text/plain": [
       "HBox(children=(Button(description='(A)', style=ButtonStyle(button_color='Whitesmoke')), Button(description='(B)', style=ButtonStyle(button_color='Whitesmoke')), Button(description='(C)', style=ButtonStyle(button_color='Whitesmoke')), Button(description='(D)', style=ButtonStyle(button_color='Whitesmoke'))))"
      ]
     },
     "metadata": {},
     "output_type": "display_data"
    },
    {
     "name": "stdout",
     "output_type": "stream",
     "text": [
      " \r"
     ]
    }
   ],
   "source": [
    "#from IPython.display import Javascript, display\n",
    "#from ipywidgets import widgets\n",
    "\n",
    "def run_all(ev):\n",
    "    display(Javascript('IPython.notebook.execute_cell()'))\n",
    "\n",
    "button1 = widgets.Button(description=\"Generate New Question\", layout=Layout(width='20%', height='100%'))\n",
    "button1.on_click(run_all)\n",
    "display(button1)\n",
    "\n",
    "#import random\n",
    "#import ipywidgets as widgets\n",
    "\n",
    "#Variables to randomize\n",
    "change_length = round(random.uniform(0.2, 0.9), 2)\n",
    "initial_length = round(random.uniform(1.0, 3.0), 2)\n",
    "initial_temp = round(random.uniform(10.0, 25.0), 1)\n",
    "final_temp = round(random.uniform(100.0, 150.0), 1)\n",
    "\n",
    "#Print question\n",
    "question = \"An newly made synthetic material {} m long expands {} mm when heated from {}°C to {}°C. What is the coefficient of linear expansion of this new material?\".format(initial_length, change_length, initial_temp, final_temp)\n",
    "print(question)\n",
    "\n",
    "#Answer calculation\n",
    "answer = round((change_length/1000) / (initial_length * (final_temp - initial_temp)), 8)\n",
    "\n",
    "#Define range of values for random multiple choices\n",
    "mini = 100\n",
    "maxa = 900\n",
    "\n",
    "#Create three choices that are unique (and not equal to the answer)\n",
    "choice_list = random.sample(range(mini,maxa),3)\n",
    "while choice_list.count(int(answer*100000000)) >= 1:\n",
    "    choice_list = random.sample(range(mini,maxa),3)\n",
    "    \n",
    "#Assign each multiple choice to these four variables\n",
    "#Option_1 contains the answer\n",
    "option_1 = str(answer) + \" °C\" + chr(0x207B) + chr(0x00B9) \n",
    "option_2 = str(choice_list[0]/100000000) + \" °C\" + chr(0x207B) + chr(0x00B9)\n",
    "option_3 = str(choice_list[1]/100000000) + \" °C\" + chr(0x207B) + chr(0x00B9)\n",
    "option_4 = str(choice_list[2]/100000000) + \" °C\" + chr(0x207B) + chr(0x00B9)\n",
    "\n",
    "multiple_choice(option_1, option_2, option_3, option_4)"
   ]
  },
  {
   "cell_type": "code",
   "execution_count": 15,
   "metadata": {},
   "outputs": [
    {
     "data": {
      "application/vnd.jupyter.widget-view+json": {
       "model_id": "a73f5fce7f4d479da7cc8037483ba0e0",
       "version_major": 2,
       "version_minor": 0
      },
      "text/html": [
       "<p>Failed to display Jupyter Widget of type <code>Button</code>.</p>\n",
       "<p>\n",
       "  If you're reading this message in the Jupyter Notebook or JupyterLab Notebook, it may mean\n",
       "  that the widgets JavaScript is still loading. If this message persists, it\n",
       "  likely means that the widgets JavaScript library is either not installed or\n",
       "  not enabled. See the <a href=\"https://ipywidgets.readthedocs.io/en/stable/user_install.html\">Jupyter\n",
       "  Widgets Documentation</a> for setup instructions.\n",
       "</p>\n",
       "<p>\n",
       "  If you're reading this message in another frontend (for example, a static\n",
       "  rendering on GitHub or <a href=\"https://nbviewer.jupyter.org/\">NBViewer</a>),\n",
       "  it may mean that your frontend doesn't currently support widgets.\n",
       "</p>\n"
      ],
      "text/plain": [
       "Button(description='Generate New Question', layout=Layout(height='100%', width='20%'), style=ButtonStyle())"
      ]
     },
     "metadata": {},
     "output_type": "display_data"
    },
    {
     "name": "stdout",
     "output_type": "stream",
     "text": [
      "A piece of glass (pyrex) changes in length by 1.04 m. The initial temperature was 29.7°C and the final temperature was 162.4°C. Determine the original length of the material. Leave your answer unrounded.\n",
      "\u001b[1m(A) \u001b[0;0m2612.41 m\n",
      "\u001b[1m(B) \u001b[0;0m1299.00 m\n",
      "\u001b[1m(C) \u001b[0;0m1149.00 m\n",
      "\u001b[1m(D) \u001b[0;0m1095.00 m\n"
     ]
    },
    {
     "data": {
      "application/vnd.jupyter.widget-view+json": {
       "model_id": "7aa6c29a2d344093bd32c8784a94c790",
       "version_major": 2,
       "version_minor": 0
      },
      "text/html": [
       "<p>Failed to display Jupyter Widget of type <code>HBox</code>.</p>\n",
       "<p>\n",
       "  If you're reading this message in the Jupyter Notebook or JupyterLab Notebook, it may mean\n",
       "  that the widgets JavaScript is still loading. If this message persists, it\n",
       "  likely means that the widgets JavaScript library is either not installed or\n",
       "  not enabled. See the <a href=\"https://ipywidgets.readthedocs.io/en/stable/user_install.html\">Jupyter\n",
       "  Widgets Documentation</a> for setup instructions.\n",
       "</p>\n",
       "<p>\n",
       "  If you're reading this message in another frontend (for example, a static\n",
       "  rendering on GitHub or <a href=\"https://nbviewer.jupyter.org/\">NBViewer</a>),\n",
       "  it may mean that your frontend doesn't currently support widgets.\n",
       "</p>\n"
      ],
      "text/plain": [
       "HBox(children=(Button(description='(A)', style=ButtonStyle(button_color='Whitesmoke')), Button(description='(B)', style=ButtonStyle(button_color='Whitesmoke')), Button(description='(C)', style=ButtonStyle(button_color='Whitesmoke')), Button(description='(D)', style=ButtonStyle(button_color='Whitesmoke'))))"
      ]
     },
     "metadata": {},
     "output_type": "display_data"
    },
    {
     "name": "stdout",
     "output_type": "stream",
     "text": [
      " \r"
     ]
    }
   ],
   "source": [
    "#from IPython.display import Javascript, display\n",
    "#from ipywidgets import widgets\n",
    "\n",
    "def run_all(ev):\n",
    "    display(Javascript('IPython.notebook.execute_cell()'))\n",
    "\n",
    "button2 = widgets.Button(description=\"Generate New Question\", layout=Layout(width='20%', height='100%'))\n",
    "button2.on_click(run_all)\n",
    "display(button2)\n",
    "\n",
    "#import random\n",
    "#import ipywidgets as widgets\n",
    "\n",
    "#Variables to randomize\n",
    "change_length = round(random.uniform(0.5, 2.0), 2)\n",
    "initial_temp = round(random.uniform(20.0, 30.0), 1)\n",
    "final_temp = round(random.uniform(100.0, 250.0), 1)\n",
    "\n",
    "#Dictionary of different materials\n",
    "materials = {\"aluminum\": 0.000025, \"iron\": 0.000012, \"steel\": 0.000012, \"glass (soft)\": 0.000009, \"glass (pyrex)\": 0.000003, \"concrete\": 0.000012, \"platinum\": 0.000009, \"copper\": 0.000016}\n",
    "chosen_material = random.choice(list(materials.keys()))\n",
    "\n",
    "#Print question\n",
    "question = \"A piece of {} changes in length by {} m. The initial temperature was {}°C and the final temperature was {}°C. Determine the original length of the material. Leave your answer unrounded.\".format(chosen_material, change_length, initial_temp, final_temp)\n",
    "print(question)\n",
    "\n",
    "#Answer calculation\n",
    "answer = round(change_length / (materials[chosen_material] * (final_temp - initial_temp)), 2)\n",
    "\n",
    "#Define range of values for random multiple choices\n",
    "mini = 500\n",
    "maxa = 1500\n",
    "\n",
    "#Create three choices that are unique (and not equal to the answer)\n",
    "choice_list = random.sample(range(mini,maxa),3)\n",
    "while choice_list.count(int(answer)) >= 1:\n",
    "    choice_list = random.sample(range(mini,maxa),3)\n",
    "    \n",
    "#Assign each multiple choice to these four variables\n",
    "#Option_1 contains the answer\n",
    "option_1 = '{:.2f}'.format(answer) + \" m\" \n",
    "option_2 = '{:.2f}'.format(choice_list[0]) + \" m\"\n",
    "option_3 = '{:.2f}'.format(choice_list[1]) + \" m\"\n",
    "option_4 = '{:.2f}'.format(choice_list[2]) + \" m\"\n",
    "\n",
    "multiple_choice(option_1, option_2, option_3, option_4)"
   ]
  },
  {
   "cell_type": "code",
   "execution_count": 16,
   "metadata": {},
   "outputs": [
    {
     "data": {
      "application/vnd.jupyter.widget-view+json": {
       "model_id": "887044b08c774b76a770634a4ad0448f",
       "version_major": 2,
       "version_minor": 0
      },
      "text/html": [
       "<p>Failed to display Jupyter Widget of type <code>Button</code>.</p>\n",
       "<p>\n",
       "  If you're reading this message in the Jupyter Notebook or JupyterLab Notebook, it may mean\n",
       "  that the widgets JavaScript is still loading. If this message persists, it\n",
       "  likely means that the widgets JavaScript library is either not installed or\n",
       "  not enabled. See the <a href=\"https://ipywidgets.readthedocs.io/en/stable/user_install.html\">Jupyter\n",
       "  Widgets Documentation</a> for setup instructions.\n",
       "</p>\n",
       "<p>\n",
       "  If you're reading this message in another frontend (for example, a static\n",
       "  rendering on GitHub or <a href=\"https://nbviewer.jupyter.org/\">NBViewer</a>),\n",
       "  it may mean that your frontend doesn't currently support widgets.\n",
       "</p>\n"
      ],
      "text/plain": [
       "Button(description='Generate New Question', layout=Layout(height='100%', width='20%'), style=ButtonStyle())"
      ]
     },
     "metadata": {},
     "output_type": "display_data"
    },
    {
     "name": "stdout",
     "output_type": "stream",
     "text": [
      "By how much would you need to heat a 147.1 inch glass (pyrex) sample to make it expand by 2.41 inches? Round to the nearest degree Celsius.\n",
      "\u001b[1m(A) \u001b[0;0m1671 °C\n",
      "\u001b[1m(B) \u001b[0;0m2683 °C\n",
      "\u001b[1m(C) \u001b[0;0m1321 °C\n",
      "\u001b[1m(D) \u001b[0;0m5461 °C\n"
     ]
    },
    {
     "data": {
      "application/vnd.jupyter.widget-view+json": {
       "model_id": "fb03af27c2724822a5fd5217e228f556",
       "version_major": 2,
       "version_minor": 0
      },
      "text/html": [
       "<p>Failed to display Jupyter Widget of type <code>HBox</code>.</p>\n",
       "<p>\n",
       "  If you're reading this message in the Jupyter Notebook or JupyterLab Notebook, it may mean\n",
       "  that the widgets JavaScript is still loading. If this message persists, it\n",
       "  likely means that the widgets JavaScript library is either not installed or\n",
       "  not enabled. See the <a href=\"https://ipywidgets.readthedocs.io/en/stable/user_install.html\">Jupyter\n",
       "  Widgets Documentation</a> for setup instructions.\n",
       "</p>\n",
       "<p>\n",
       "  If you're reading this message in another frontend (for example, a static\n",
       "  rendering on GitHub or <a href=\"https://nbviewer.jupyter.org/\">NBViewer</a>),\n",
       "  it may mean that your frontend doesn't currently support widgets.\n",
       "</p>\n"
      ],
      "text/plain": [
       "HBox(children=(Button(description='(A)', style=ButtonStyle(button_color='Whitesmoke')), Button(description='(B)', style=ButtonStyle(button_color='Whitesmoke')), Button(description='(C)', style=ButtonStyle(button_color='Whitesmoke')), Button(description='(D)', style=ButtonStyle(button_color='Whitesmoke'))))"
      ]
     },
     "metadata": {},
     "output_type": "display_data"
    },
    {
     "name": "stdout",
     "output_type": "stream",
     "text": [
      " \r"
     ]
    }
   ],
   "source": [
    "#from IPython.display import Javascript, display\n",
    "#from ipywidgets import widgets\n",
    "\n",
    "def run_all(ev):\n",
    "    display(Javascript('IPython.notebook.execute_cell()'))\n",
    "\n",
    "button3 = widgets.Button(description=\"Generate New Question\", layout=Layout(width='20%', height='100%'))\n",
    "button3.on_click(run_all)\n",
    "display(button3)\n",
    "\n",
    "#import random\n",
    "#import ipywidgets as widgets\n",
    "\n",
    "#Variables to randomize\n",
    "change_length = round(random.uniform(1.0, 4.0), 2)\n",
    "initial_length = round(random.uniform(100.0, 150.0), 1)\n",
    "\n",
    "#Dictionary of different materials\n",
    "materials = {\"aluminum\": 0.000025, \"iron\": 0.000012, \"steel\": 0.000012, \"glass (soft)\": 0.000009, \"glass (pyrex)\": 0.000003, \"concrete\": 0.000012, \"platinum\": 0.000009, \"copper\": 0.000016}\n",
    "chosen_material = random.choice(list(materials.keys()))\n",
    "\n",
    "#Print question\n",
    "question = \"By how much would you need to heat a {} inch {} sample to make it expand by {} inches? Round to the nearest degree Celsius.\".format(initial_length, chosen_material, change_length)\n",
    "print(question)\n",
    "\n",
    "#Answer calculation\n",
    "answer = int(change_length / (materials[chosen_material] * initial_length))\n",
    "\n",
    "#Define range of values for random multiple choices\n",
    "mini = 600\n",
    "maxa = 3000\n",
    "\n",
    "#Create three choices that are unique (and not equal to the answer)\n",
    "choice_list = random.sample(range(mini,maxa),3)\n",
    "while choice_list.count(answer) >= 1:\n",
    "    choice_list = random.sample(range(mini,maxa),3)\n",
    "    \n",
    "#Assign each multiple choice to these four variables\n",
    "#Option_1 contains the answer\n",
    "option_1 = str(answer) + \" °C\" \n",
    "option_2 = str(choice_list[0]) + \" °C\"\n",
    "option_3 = str(choice_list[1]) + \" °C\"\n",
    "option_4 = str(choice_list[2]) + \" °C\"\n",
    "\n",
    "multiple_choice(option_1, option_2, option_3, option_4)"
   ]
  },
  {
   "cell_type": "markdown",
   "metadata": {},
   "source": [
    "## Application: Aircraft Components\n",
    "\n",
    "Aircraft materials often require *specialized properties* in order to operate in the most desirable manner. The specialized property of the material may be the most important consideration in materials selection. Listed below are several key specialized properties considered in aircraft materials selection:\n",
    "\n",
    "- Electrical conductivity (important for the outer skin of the aircraft)\n",
    "- Stealth (materials that can absorb radar waves and/or reduce the infrared visibility are used in the external surface of covert military aircraft)\n",
    "- Thermal conductivity (used in high-temperature applications, such as heat shields and engine components)\n",
    "- <span style=\"color: maroon\">Thermal expansion (used in high-temperature range applications, such as wing and engine components)</span>\n",
    "\n",
    "### Problem\n",
    "\n",
    "An unknown metal alloy is being tested to discover its thermal properties to see if it suitable for use as a *spar*, which is a component of an airplane wing (shown in red below). The alloy is formed into a bar measuring 1.00 metre in length and it is then heated from its starting temperature of 30 °C to a final temperature of 100.0 °C. The length of the heated bar is measured to be exactly 1.002 metres in length. **What is the coefficient of thermal expansion of the alloy? Round your answer to two significant figures.**\n",
    "\n",
    "<img style=\"float: center;\" src=\"Images/WingSpar.svg\" height=\"1200\" width=\"600\">"
   ]
  },
  {
   "cell_type": "code",
   "execution_count": 17,
   "metadata": {},
   "outputs": [
    {
     "name": "stdout",
     "output_type": "stream",
     "text": [
      "\u001b[1m(A) \u001b[0;0m0.014 °C⁻¹\n",
      "\u001b[1m(B) \u001b[0;0m2.9e-05 °C⁻¹\n",
      "\u001b[1m(C) \u001b[0;0m0.014 °C⁻¹\n",
      "\u001b[1m(D) \u001b[0;0m3.2e-05 °C⁻¹\n"
     ]
    },
    {
     "data": {
      "application/vnd.jupyter.widget-view+json": {
       "model_id": "062217a7303e4a749b3e09e19794e66f",
       "version_major": 2,
       "version_minor": 0
      },
      "text/html": [
       "<p>Failed to display Jupyter Widget of type <code>HBox</code>.</p>\n",
       "<p>\n",
       "  If you're reading this message in the Jupyter Notebook or JupyterLab Notebook, it may mean\n",
       "  that the widgets JavaScript is still loading. If this message persists, it\n",
       "  likely means that the widgets JavaScript library is either not installed or\n",
       "  not enabled. See the <a href=\"https://ipywidgets.readthedocs.io/en/stable/user_install.html\">Jupyter\n",
       "  Widgets Documentation</a> for setup instructions.\n",
       "</p>\n",
       "<p>\n",
       "  If you're reading this message in another frontend (for example, a static\n",
       "  rendering on GitHub or <a href=\"https://nbviewer.jupyter.org/\">NBViewer</a>),\n",
       "  it may mean that your frontend doesn't currently support widgets.\n",
       "</p>\n"
      ],
      "text/plain": [
       "HBox(children=(Button(description='(A)', style=ButtonStyle(button_color='Whitesmoke')), Button(description='(B)', style=ButtonStyle(button_color='Whitesmoke')), Button(description='(C)', style=ButtonStyle(button_color='Whitesmoke')), Button(description='(D)', style=ButtonStyle(button_color='Whitesmoke'))))"
      ]
     },
     "metadata": {},
     "output_type": "display_data"
    },
    {
     "name": "stdout",
     "output_type": "stream",
     "text": [
      " \r"
     ]
    }
   ],
   "source": [
    "option_1 = str(0.000029) + \" °C\" + chr(0x207B) + chr(0x00B9)\n",
    "option_2 = str(0.014) + \" °C\" + chr(0x207B) + chr(0x00B9)\n",
    "option_3 = str(0.000032) + \" °C\" + chr(0x207B) + chr(0x00B9)\n",
    "option_4 = str(0.0140) + \" °C\" + chr(0x207B) + chr(0x00B9)\n",
    "\n",
    "multiple_choice(option_1, option_2, option_3, option_4)"
   ]
  },
  {
   "cell_type": "markdown",
   "metadata": {},
   "source": [
    "The aircraft wing (from above) experiences temperature extremes that span 210 ℃. The spar for the wing will have a length of 18.0 metres. Testing indicates that the aircraft wing will remain stable only if the spar never expands to a length larger than 18.103 metres. **If the component is made from the metal alloy in question, will it meet this requirement?**\n",
    "\n",
    "**Hint:** Use the sliders below to calculate the linear expansion of the spar."
   ]
  },
  {
   "cell_type": "code",
   "execution_count": 18,
   "metadata": {},
   "outputs": [
    {
     "data": {
      "application/vnd.jupyter.widget-view+json": {
       "model_id": "4739df39c5cc458fbdbd6c82d2c87d49",
       "version_major": 2,
       "version_minor": 0
      },
      "text/html": [
       "<p>Failed to display Jupyter Widget of type <code>VBox</code>.</p>\n",
       "<p>\n",
       "  If you're reading this message in the Jupyter Notebook or JupyterLab Notebook, it may mean\n",
       "  that the widgets JavaScript is still loading. If this message persists, it\n",
       "  likely means that the widgets JavaScript library is either not installed or\n",
       "  not enabled. See the <a href=\"https://ipywidgets.readthedocs.io/en/stable/user_install.html\">Jupyter\n",
       "  Widgets Documentation</a> for setup instructions.\n",
       "</p>\n",
       "<p>\n",
       "  If you're reading this message in another frontend (for example, a static\n",
       "  rendering on GitHub or <a href=\"https://nbviewer.jupyter.org/\">NBViewer</a>),\n",
       "  it may mean that your frontend doesn't currently support widgets.\n",
       "</p>\n"
      ],
      "text/plain": [
       "VBox(children=(IntSlider(value=0, continuous_update=False, description='ΔT (°C)', max=500), FloatSlider(value=0.0, continuous_update=False, description='L (m)', max=30.0, readout_format='.1f', step=1.0, style=SliderStyle(description_width='initial')), FloatSlider(value=0.0, continuous_update=False, description='α (1⨉10⁻⁵ , ℃⁻¹)', max=10.0, readout_format='.1f', style=SliderStyle(description_width='initial'))))"
      ]
     },
     "metadata": {},
     "output_type": "display_data"
    },
    {
     "data": {
      "application/vnd.jupyter.widget-view+json": {
       "model_id": "4b1ad91b537d4e8f902f3bd1a0b43119",
       "version_major": 2,
       "version_minor": 0
      },
      "text/html": [
       "<p>Failed to display Jupyter Widget of type <code>Button</code>.</p>\n",
       "<p>\n",
       "  If you're reading this message in the Jupyter Notebook or JupyterLab Notebook, it may mean\n",
       "  that the widgets JavaScript is still loading. If this message persists, it\n",
       "  likely means that the widgets JavaScript library is either not installed or\n",
       "  not enabled. See the <a href=\"https://ipywidgets.readthedocs.io/en/stable/user_install.html\">Jupyter\n",
       "  Widgets Documentation</a> for setup instructions.\n",
       "</p>\n",
       "<p>\n",
       "  If you're reading this message in another frontend (for example, a static\n",
       "  rendering on GitHub or <a href=\"https://nbviewer.jupyter.org/\">NBViewer</a>),\n",
       "  it may mean that your frontend doesn't currently support widgets.\n",
       "</p>\n"
      ],
      "text/plain": [
       "Button(button_style='success', description='Calculate Linear Expansion', layout=Layout(height='88%', width='20%'), style=ButtonStyle())"
      ]
     },
     "metadata": {},
     "output_type": "display_data"
    },
    {
     "data": {
      "application/vnd.jupyter.widget-view+json": {
       "model_id": "391cbf89dbcc45819d558bc67020a870",
       "version_major": 2,
       "version_minor": 0
      },
      "text/html": [
       "<p>Failed to display Jupyter Widget of type <code>Output</code>.</p>\n",
       "<p>\n",
       "  If you're reading this message in the Jupyter Notebook or JupyterLab Notebook, it may mean\n",
       "  that the widgets JavaScript is still loading. If this message persists, it\n",
       "  likely means that the widgets JavaScript library is either not installed or\n",
       "  not enabled. See the <a href=\"https://ipywidgets.readthedocs.io/en/stable/user_install.html\">Jupyter\n",
       "  Widgets Documentation</a> for setup instructions.\n",
       "</p>\n",
       "<p>\n",
       "  If you're reading this message in another frontend (for example, a static\n",
       "  rendering on GitHub or <a href=\"https://nbviewer.jupyter.org/\">NBViewer</a>),\n",
       "  it may mean that your frontend doesn't currently support widgets.\n",
       "</p>\n"
      ],
      "text/plain": [
       "Output()"
      ]
     },
     "metadata": {},
     "output_type": "display_data"
    }
   ],
   "source": [
    "################ Widgets #################\n",
    "app_out = Output()\n",
    "style = {'description_width': 'initial'}\n",
    "temp_span = IntSlider(continuous_update=False, wait=True, value=0, min=0, max=500, step=1, description=chr(0x0394) + 'T (°C)')\n",
    "initialL_alloy = widgets.FloatSlider(continuous_update=False, wait=True, value=0, min=0, max=30, step=1, readout_format='.1f', description= 'L (m)', style=style)\n",
    "linear_constant = widgets.FloatSlider(continuous_update=False, wait=True, value=0, min=0, max=10, step=0.1, readout_format='.1f', description= chr(0x03b1) + \" (1\" + chr(0x2A09) + \"10\" + chr(0x207B) + chr(0x2075) + \" , \" + chr(0x2103) + chr(0x207B) + chr(0x00B9) + \")\", style=style)\n",
    "calc_change = widgets.Button(description=\"Calculate Linear Expansion\", layout=Layout(width='20%', height='88%'),button_style='success')\n",
    "\n",
    "############## Functions ################\n",
    "def initial_spar():\n",
    "    layout = go.Layout(title = \"Unknown Alloy (before heat is applied)\", scene = dict(\n",
    "                    xaxis = dict(title='', range = [0,5],\n",
    "                         backgroundcolor=\"rgb(200, 200, 230)\",\n",
    "                         gridcolor=\"rgb(255, 255, 255)\",\n",
    "                         showbackground=True,\n",
    "                         zerolinecolor=\"rgb(255, 255, 255)\",\n",
    "                         showticklabels=False,),\n",
    "                    yaxis = dict(title='', range = [0,5],\n",
    "                        backgroundcolor=\"rgb(230, 200,230)\",\n",
    "                        gridcolor=\"rgb(255, 255, 255)\",\n",
    "                        showbackground=True,\n",
    "                        zerolinecolor=\"rgb(255, 255, 255)\",\n",
    "                        showticklabels=False),\n",
    "                    zaxis = dict(title='', range = [0,18],\n",
    "                        backgroundcolor=\"rgb(230, 230,200)\",\n",
    "                        gridcolor=\"rgb(255, 255, 255)\",\n",
    "                        showbackground=True,\n",
    "                        zerolinecolor=\"rgb(255, 255, 255)\",\n",
    "                        showticklabels=False,),),\n",
    "                  )\n",
    "    data = [go.Mesh3d(\n",
    "            x = [2, 2, 4, 4, 2, 2, 4, 4],\n",
    "            y = [2, 3, 3, 2, 2, 3, 3, 2],\n",
    "            z = [0, 0, 0, 0, 18, 18, 18, 18],\n",
    "            i = [7, 0, 0, 0, 4, 4, 6, 6, 4, 0, 3, 2],\n",
    "            j = [3, 4, 1, 2, 5, 6, 5, 2, 0, 1, 6, 3],\n",
    "            k = [0, 7, 2, 3, 6, 7, 1, 1, 5, 5, 7, 6],\n",
    "            name='Unknown Alloy',\n",
    "            color='#000066',\n",
    "            text = \"Spar (wing component; unknown alloy)\", hoverinfo='text',\n",
    "        )]\n",
    "    config={'showLink': False, 'editable': False}\n",
    "    fig = go.Figure(data=data, layout=layout)\n",
    "    iplot(fig, config=config)\n",
    "\n",
    "\n",
    "def draw_spar(new, i_height):\n",
    "    clear_output(wait=True)\n",
    "    layout = go.Layout(title = chr(0x0394) + 'L (Unknown Alloy) = ' + str(round(new * 100 ,5)) + ' cm', scene = dict(\n",
    "                    xaxis = dict(title='', range = [0,5],\n",
    "                         backgroundcolor=\"rgb(200, 200, 230)\",\n",
    "                         gridcolor=\"rgb(255, 255, 255)\",\n",
    "                         showbackground=True,\n",
    "                         zerolinecolor=\"rgb(255, 255, 255)\",\n",
    "                         showticklabels=False,),\n",
    "                    yaxis = dict(title='', range = [0,5],\n",
    "                        backgroundcolor=\"rgb(230, 200,230)\",\n",
    "                        gridcolor=\"rgb(255, 255, 255)\",\n",
    "                        showbackground=True,\n",
    "                        zerolinecolor=\"rgb(255, 255, 255)\",\n",
    "                        showticklabels=False),\n",
    "                    zaxis = dict(title='', range = [0,18],\n",
    "                        backgroundcolor=\"rgb(230, 230,200)\",\n",
    "                        gridcolor=\"rgb(255, 255, 255)\",\n",
    "                        showbackground=True,\n",
    "                        zerolinecolor=\"rgb(255, 255, 255)\",\n",
    "                        showticklabels=False,),),\n",
    "                  )\n",
    "    data = [go.Mesh3d(\n",
    "            x = [2, 2, 4, 4, 2, 2, 4, 4],\n",
    "            y = [2, 3, 3, 2, 2, 3, 3, 2],\n",
    "            z = [0, 0, 0, 0, 18, 18, 18, 18],\n",
    "            i = [7, 0, 0, 0, 4, 4, 6, 6, 4, 0, 3, 2],\n",
    "            j = [3, 4, 1, 2, 5, 6, 5, 2, 0, 1, 6, 3],\n",
    "            k = [0, 7, 2, 3, 6, 7, 1, 1, 5, 5, 7, 6],\n",
    "            name='Unknown Alloy',\n",
    "            color='#000066',\n",
    "            text = \"Initial length (L) = \" + str(i_height) + ' m', hoverinfo='text',\n",
    "        ), go.Mesh3d(\n",
    "            x = [2, 2, 4, 4, 2, 2, 4, 4],\n",
    "            y = [2, 3, 3, 2, 2, 3, 3, 2],\n",
    "            z = [18, 18, 18, 18, 18+new, 18+new, 18+new, 18+new],\n",
    "            i = [7, 0, 0, 0, 4, 4, 6, 6, 4, 0, 3, 2],\n",
    "            j = [3, 4, 1, 2, 5, 6, 5, 2, 0, 1, 6, 3],\n",
    "            k = [0, 7, 2, 3, 6, 7, 1, 1, 5, 5, 7, 6],\n",
    "            name='Thermal Expansion',\n",
    "            color = \"#CC0000\",\n",
    "            text = \"Thermal Expansion (\"+chr(0x0394)+\"L) = \" + str(round(new,5)) + ' m', hoverinfo='text',\n",
    "        )]\n",
    "    config={'showLink': False, 'editable': False}\n",
    "    fig = go.Figure(data=data, layout=layout)\n",
    "    iplot(fig, config=config)\n",
    "\n",
    "\n",
    "def on_submit_button_clicked(b):\n",
    "    alloy_change = temp_span.value * initialL_alloy.value * (linear_constant.value * 0.00001)\n",
    "    with app_out:\n",
    "        draw_spar(alloy_change, initialL_alloy.value)\n",
    "\n",
    "\n",
    "######### Display #########\n",
    "display(VBox([temp_span, initialL_alloy, linear_constant]))\n",
    "display(calc_change)\n",
    "display(app_out)\n",
    "\n",
    "with app_out:\n",
    "    initial_spar()\n",
    "    \n",
    "calc_change.on_click(on_submit_button_clicked)"
   ]
  },
  {
   "cell_type": "code",
   "execution_count": 19,
   "metadata": {},
   "outputs": [
    {
     "name": "stdout",
     "output_type": "stream",
     "text": [
      "\u001b[1m(A) \u001b[0;0mThe final length of the spar is 10.962 cm; therefore, it passes the requirement.\n",
      "\u001b[1m(B) \u001b[0;0mThe final length of the spar is 28.962 m; therefore, it fails the requirement.\n",
      "\u001b[1m(C) \u001b[0;0mThe final length of the spar is 18.10962 m; therefore, it fails the requirement.\n",
      "\u001b[1m(D) \u001b[0;0mThe final length of the spar is 18.103 m; therefore, it passes the requirement.\n"
     ]
    },
    {
     "data": {
      "application/vnd.jupyter.widget-view+json": {
       "model_id": "6ab2e375c62f4815b042ef12dcdb7056",
       "version_major": 2,
       "version_minor": 0
      },
      "text/html": [
       "<p>Failed to display Jupyter Widget of type <code>HBox</code>.</p>\n",
       "<p>\n",
       "  If you're reading this message in the Jupyter Notebook or JupyterLab Notebook, it may mean\n",
       "  that the widgets JavaScript is still loading. If this message persists, it\n",
       "  likely means that the widgets JavaScript library is either not installed or\n",
       "  not enabled. See the <a href=\"https://ipywidgets.readthedocs.io/en/stable/user_install.html\">Jupyter\n",
       "  Widgets Documentation</a> for setup instructions.\n",
       "</p>\n",
       "<p>\n",
       "  If you're reading this message in another frontend (for example, a static\n",
       "  rendering on GitHub or <a href=\"https://nbviewer.jupyter.org/\">NBViewer</a>),\n",
       "  it may mean that your frontend doesn't currently support widgets.\n",
       "</p>\n"
      ],
      "text/plain": [
       "HBox(children=(Button(description='(A)', style=ButtonStyle(button_color='Whitesmoke')), Button(description='(B)', style=ButtonStyle(button_color='Whitesmoke')), Button(description='(C)', style=ButtonStyle(button_color='Whitesmoke')), Button(description='(D)', style=ButtonStyle(button_color='Whitesmoke'))))"
      ]
     },
     "metadata": {},
     "output_type": "display_data"
    },
    {
     "name": "stdout",
     "output_type": "stream",
     "text": [
      " \r"
     ]
    }
   ],
   "source": [
    "option_1 = \"The final length of the spar is 18.10962 m; therefore, it fails the requirement.\"\n",
    "option_2 = \"The final length of the spar is 10.962 cm; therefore, it passes the requirement.\"\n",
    "option_3 = \"The final length of the spar is 18.103 m; therefore, it passes the requirement.\"\n",
    "option_4 = \"The final length of the spar is 28.962 m; therefore, it fails the requirement.\"\n",
    "\n",
    "multiple_choice(option_1, option_2, option_3, option_4)"
   ]
  },
  {
   "cell_type": "markdown",
   "metadata": {},
   "source": [
    "## Conclusion\n",
    "\n",
    "- Thermal Linear Expansion is calculated using the formula: $\\Delta L = \\alpha L \\Delta T$.\n",
    "- The coefficient of linear expansion ($\\alpha$) is experimentally calculated. The experiment involves measuring $\\Delta L$ and solving for $\\alpha$ using the above formula.\n",
    "- If the material is known (such as steel, concrete, iron, etc.) you can reference the material's coefficient of linear expansion using a Table of Coefficient of Linear Expansion.\n",
    "- There are many applications to being able to predict thermal expansion, such as the building of bridges, skyscrapers, airplanes, cars, and piping (to name a few).\n",
    "- This notebook covered *linear* thermal expansion. If you are interested in applying what you have learned or gaining further knowledge of material science, you're next step is to study *area expansion* and *volume expansion*, which will explore the 2-dimensional and 3-dimensional expansion of materials."
   ]
  },
  {
   "cell_type": "code",
   "execution_count": 20,
   "metadata": {},
   "outputs": [
    {
     "data": {
      "text/html": [
       "\n",
       "<script>\n",
       "  function code_toggle() {\n",
       "    if (code_shown){\n",
       "      $('div.input').hide('500');\n",
       "      $('#toggleButton').val('Show Code')\n",
       "    } else {\n",
       "      $('div.input').show('500');\n",
       "      $('#toggleButton').val('Hide Code')\n",
       "    }\n",
       "    code_shown = !code_shown\n",
       "  }\n",
       "\n",
       "  $( document ).ready(function(){\n",
       "    code_shown=false;\n",
       "    $('div.input').hide()\n",
       "  });\n",
       "</script>\n",
       "<form action=\"javascript:code_toggle()\"><input type=\"submit\" id=\"toggleButton\" value=\"Show Code\"></form>"
      ],
      "text/plain": [
       "<IPython.core.display.HTML object>"
      ]
     },
     "metadata": {},
     "output_type": "display_data"
    }
   ],
   "source": [
    "%%html\n",
    "\n",
    "<script>\n",
    "  function code_toggle() {\n",
    "    if (code_shown){\n",
    "      $('div.input').hide('500');\n",
    "      $('#toggleButton').val('Show Code')\n",
    "    } else {\n",
    "      $('div.input').show('500');\n",
    "      $('#toggleButton').val('Hide Code')\n",
    "    }\n",
    "    code_shown = !code_shown\n",
    "  }\n",
    "\n",
    "  $( document ).ready(function(){\n",
    "    code_shown=false;\n",
    "    $('div.input').hide()\n",
    "  });\n",
    "</script>\n",
    "<form action=\"javascript:code_toggle()\"><input type=\"submit\" id=\"toggleButton\" value=\"Show Code\"></form>"
   ]
  }
 ],
 "metadata": {
  "kernelspec": {
   "display_name": "Python 3",
   "language": "python",
   "name": "python3"
  },
  "language_info": {
   "codemirror_mode": {
    "name": "ipython",
    "version": 3
   },
   "file_extension": ".py",
   "mimetype": "text/x-python",
   "name": "python",
   "nbconvert_exporter": "python",
   "pygments_lexer": "ipython3",
   "version": "3.6.5"
  }
 },
 "nbformat": 4,
 "nbformat_minor": 2
}

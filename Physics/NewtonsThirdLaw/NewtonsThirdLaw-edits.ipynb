{
 "cells": [
  {
   "cell_type": "markdown",
   "metadata": {},
   "source": [
    "![logo](https://callysto.ca/wp-content/uploads/2018/06/Callysto_Notebook-Banner_Top_06.06.18.jpg)"
   ]
  },
  {
   "cell_type": "markdown",
   "metadata": {},
   "source": [
    "# Newton's Third Law\n"
   ]
  },
  {
   "cell_type": "code",
   "execution_count": 2,
   "metadata": {},
   "outputs": [
    {
     "data": {
      "text/html": [
       "\n",
       "<script>\n",
       "  function code_toggle() {\n",
       "    if (code_shown){\n",
       "      $('div.input').hide('500');\n",
       "      $('#toggleButton').val('Show Code')\n",
       "    } else {\n",
       "      $('div.input').show('500');\n",
       "      $('#toggleButton').val('Hide Code')\n",
       "    }\n",
       "    code_shown = !code_shown\n",
       "  }\n",
       "\n",
       "  $( document ).ready(function(){\n",
       "    code_shown=false;\n",
       "    $('div.input').hide()\n",
       "  });\n",
       "</script>\n",
       "\n",
       "<form action=\"javascript:code_toggle()\"><input type=\"submit\" id=\"toggleButton\" value=\"Show Code\"></form>"
      ],
      "text/plain": [
       "<IPython.core.display.HTML object>"
      ]
     },
     "metadata": {},
     "output_type": "display_data"
    }
   ],
   "source": [
    "%%html\n",
    "\n",
    "<script>\n",
    "  function code_toggle() {\n",
    "    if (code_shown){\n",
    "      $('div.input').hide('500');\n",
    "      $('#toggleButton').val('Show Code')\n",
    "    } else {\n",
    "      $('div.input').show('500');\n",
    "      $('#toggleButton').val('Hide Code')\n",
    "    }\n",
    "    code_shown = !code_shown\n",
    "  }\n",
    "\n",
    "  $( document ).ready(function(){\n",
    "    code_shown=false;\n",
    "    $('div.input').hide()\n",
    "  });\n",
    "</script>\n",
    "\n",
    "<form action=\"javascript:code_toggle()\"><input type=\"submit\" id=\"toggleButton\" value=\"Show Code\"></form>\n"
   ]
  },
  {
   "cell_type": "markdown",
   "metadata": {},
   "source": [
    "## The Third Law\n",
    "\n",
    "Let's remind ourselves of the Three Laws of motion from Newton:\n",
    "\n",
    "1. A body at **rest** stays at **rest**. A body in **motion** stays in **motion**, with uniform speed in a straight line. A change happens only if a **force** acts on the body.\n",
    "\n",
    "2. The **force** on the body equals the rate of change of its **momentum** (mass times velocity). \n",
    "\n",
    "3. For every **action**, there is an equal and opposite **reaction**.\n",
    "\n",
    "In this notebook, we examine the Third Law:\n",
    "\n",
    "#3. For every **action**, there is an equal and opposite **reaction**."
   ]
  },
  {
   "cell_type": "markdown",
   "metadata": {},
   "source": [
    "### Example 1\n",
    "\n",
    "A familiar example of the Third Law we see often on TV or the Internet - a rocket blasting off to space.\n",
    "\n",
    "The rocket demonstrates Newton's Third Law. In a NASA rocket, as in the video below, some chemicals inside the the rocket body are burned, creating hot gases that shoot out the bottom of the rocket. That motion of hot gases is the **action**. The rocket responds by moving in the opposite direction. That rocket motion is the **reaction**.\n",
    "\n",
    "\n",
    "</br>\n",
    "<font color = 'red'> I would recommend including these gifs directly in the markdown either with `![alt text](link)` or the html tag if you'd like to more control `<img src=\"your gif\" width=\"\" height=\"\" />`. Of course, once the code is hidden it doesn't really matter, so this probably isn't important. </font>"
   ]
  },
  {
   "cell_type": "code",
   "execution_count": 3,
   "metadata": {},
   "outputs": [
    {
     "data": {
      "text/html": [
       "<iframe src=\"https://giphy.com/embed/6yWV529bDk3WU\" width=\"480\" height=\"349\" frameBorder=\"0\" class=\"giphy-embed\" allowFullScreen></iframe><p><a href=\"https://giphy.com/gifs/nasa-concorde-airlineflights-6yWV529bDk3WU\">via GIPHY</a></p>"
      ],
      "text/plain": [
       "<IPython.core.display.HTML object>"
      ]
     },
     "metadata": {},
     "output_type": "display_data"
    }
   ],
   "source": [
    "%%html\n",
    "<iframe src=\"https://giphy.com/embed/6yWV529bDk3WU\" width=\"480\" height=\"349\" frameBorder=\"0\" class=\"giphy-embed\" allowFullScreen></iframe><p><a href=\"https://giphy.com/gifs/nasa-concorde-airlineflights-6yWV529bDk3WU\">via GIPHY</a></p>"
   ]
  },
  {
   "cell_type": "markdown",
   "metadata": {},
   "source": [
    "### Example 2\n",
    "\n",
    "A similar example is with a water bottle rocket, as in the video below. \n",
    "\n",
    "The child pumps air into the water bottle creating pressure inside the container. When the lid on the bottom open, the air pressure forces the water  out the bottom of the rocket. That motion of water is the **action.** The resulting **reaction** is the water bottle shooting up into the air.  \n",
    "\n"
   ]
  },
  {
   "cell_type": "code",
   "execution_count": 4,
   "metadata": {},
   "outputs": [
    {
     "data": {
      "text/html": [
       "<iframe src=\"https://giphy.com/embed/qGQ7uiYh4II2k\" width=\"480\" height=\"270\" frameBorder=\"0\" class=\"giphy-embed\" allowFullScreen></iframe><p><a href=\"https://giphy.com/gifs/water-qGQ7uiYh4II2k\">via GIPHY</a></p>"
      ],
      "text/plain": [
       "<IPython.core.display.HTML object>"
      ]
     },
     "metadata": {},
     "output_type": "display_data"
    }
   ],
   "source": [
    "%%html\n",
    "<iframe src=\"https://giphy.com/embed/qGQ7uiYh4II2k\" width=\"480\" height=\"270\" frameBorder=\"0\" class=\"giphy-embed\" allowFullScreen></iframe><p><a href=\"https://giphy.com/gifs/water-qGQ7uiYh4II2k\">via GIPHY</a></p>"
   ]
  },
  {
   "cell_type": "markdown",
   "metadata": {},
   "source": [
    "### Example 3\n",
    "\n",
    "### Equal and opposite\n",
    "\n",
    "Equal reaction might not be obvious. In the video below, two people collide while holding big, bouncy balls. At the collision, one of them flies backwards (and looks like they get hurt. Ouch!) The reaction seems opposite (goes in the reverse direction), but not really equal.\n",
    "\n"
   ]
  },
  {
   "cell_type": "code",
   "execution_count": 5,
   "metadata": {},
   "outputs": [
    {
     "data": {
      "text/html": [
       "<iframe src=\"https://giphy.com/embed/bJ7HgYDjNiJ1K\" width=\"480\" height=\"285\" frameBorder=\"0\" class=\"giphy-embed\" allowFullScreen></iframe><p><a href=\"https://giphy.com/gifs/exercise-collision-bJ7HgYDjNiJ1K\">via GIPHY</a></p>"
      ],
      "text/plain": [
       "<IPython.core.display.HTML object>"
      ]
     },
     "metadata": {},
     "output_type": "display_data"
    }
   ],
   "source": [
    "%%html\n",
    "<iframe src=\"https://giphy.com/embed/bJ7HgYDjNiJ1K\" width=\"480\" height=\"285\" frameBorder=\"0\" class=\"giphy-embed\" allowFullScreen></iframe><p><a href=\"https://giphy.com/gifs/exercise-collision-bJ7HgYDjNiJ1K\">via GIPHY</a></p>"
   ]
  },
  {
   "cell_type": "markdown",
   "metadata": {},
   "source": [
    "### Some details\n",
    "\n",
    "So, what's happening here?\n",
    "\n",
    "<font color ='red'> I've placed Newton's Third Law in a block quote </font>\n",
    "\n",
    "A more precise statement of Newton's Third Law is the following:\n",
    "\n",
    "> #3. When two objects interact, there are two forces acting, one on each object, that are equal strength and opposite in direction. \n",
    "\n",
    "In the video above with the two people colliding, each has a **force** on them (the force through the balls). These are equal and opposite **forces** acting on them. The person on the left is big, heavy, and has his feet firmly planted on the ground - he is well able to absorb the force of the collision. The person on the right is small, light-weight, and has her feet off the ground. When the equal-sized force hits her, she flies back quickly because her momentum, and her velocity, must make a big change in reaction to the force of the collision.\n",
    "\n",
    "By the Second Law, a force causes a change in momentum (velocity times mass), so it is the change in **momentum** that must be equal. Here, the smaller person on the right, with lower mass, has to see a bigger change in velocity in the collision to have an equivalent change of momentum. So this person bounces back much faster.\n",
    "\n",
    " "
   ]
  },
  {
   "cell_type": "markdown",
   "metadata": {},
   "source": [
    "### Example 4\n",
    "\n",
    "### A train derailment \n",
    "\n",
    "Tragic accidents can happen when we forget Newton's Third Law. Here is an example of a train derailment, captured in the video below. The train is following Newton's laws of motion, but something went terribly wrong. \n"
   ]
  },
  {
   "cell_type": "code",
   "execution_count": 6,
   "metadata": {},
   "outputs": [
    {
     "data": {
      "text/html": [
       "<div class=\"tenor-gif-embed\" data-postid=\"7514279\" data-share-method=\"host\" data-width=\"50%\" data-aspect-ratio=\"1.3333333333333333\"><a href=\"https://tenor.com/view/derailed-train-crash-gif-7514279\">Derailed Train GIF</a> from <a href=\"https://tenor.com/search/derailed-gifs\">Derailed GIFs</a></div><script type=\"text/javascript\" async src=\"https://tenor.com/embed.js\"></script>"
      ],
      "text/plain": [
       "<IPython.core.display.HTML object>"
      ]
     },
     "metadata": {},
     "output_type": "display_data"
    }
   ],
   "source": [
    "%%html\n",
    "<div class=\"tenor-gif-embed\" data-postid=\"7514279\" data-share-method=\"host\" data-width=\"50%\" data-aspect-ratio=\"1.3333333333333333\"><a href=\"https://tenor.com/view/derailed-train-crash-gif-7514279\">Derailed Train GIF</a> from <a href=\"https://tenor.com/search/derailed-gifs\">Derailed GIFs</a></div><script type=\"text/javascript\" async src=\"https://tenor.com/embed.js\"></script>"
   ]
  },
  {
   "cell_type": "markdown",
   "metadata": {},
   "source": [
    "So, what went wrong here?\n",
    "\n",
    "First, notice the train is turning in a curve - by Newton's First Law, there must be a force on the train causing it to deviate from a straight line. It's not hard to imagine that this force is the action of the rails on the ground pushing against the wheels of the train.\n",
    "\n",
    "By the Third Law, the wheels/train push back on the rails. This is the equal, opposite force. Because it is a fast, heavy train, this results in a very strong force pushing on the rails.\n",
    "\n",
    "Normally, the rails do not move (much) because they are cemented into the ground. In this derailment video, though, the force is so strong that the rails break! Once they are broken, there is nothing to push against the train. With no force, Newton's First Law says the train will have to move in a straight line. So it does, which means it leaves the curved track and crashes into the wall."
   ]
  },
  {
   "cell_type": "markdown",
   "metadata": {},
   "source": [
    "### A simulation\n",
    "\n",
    "Following is a bouncing ball simulation, based on code by Ziggy Jonsson [Click here for the original](http://bl.ocks.org/ZJONSSON/1706849). Details are in this [paper](http://www.vobarian.com/collisions/2dcollisions2.pdf)\n",
    "\n",
    "What we see in the animation is a collection of balls that bounce off each other in elastic collisions. Each ball has a different mass, proportional to the area of the ball. \n",
    "\n",
    "So when a small ball hits a big ball, there is a force acting on each ball, in equal and opposite directions. The difference in masses means the velocity of the small ball changes a lot, while the big ball only changes a little.\n",
    "\n",
    "</br>\n",
    "<font color = 'red'> I enjoy this animation a lot, my one concern is that this is a perfectly ideal closed system in terms of conservation of momentum. Which is great, however, once you add a bunch of momentum to the system (say, by grabbing one of the circles and launching it at high speed, not to say that was the first thing I did..) there's no way for that additional momentum to leave the system. Would it be possible to include a reset button in case a student has the same idea as me? </font> "
   ]
  },
  {
   "cell_type": "code",
   "execution_count": 7,
   "metadata": {},
   "outputs": [],
   "source": [
    "from IPython.display import IFrame"
   ]
  },
  {
   "cell_type": "code",
   "execution_count": 8,
   "metadata": {},
   "outputs": [
    {
     "data": {
      "text/html": [
       "\n",
       "        <iframe\n",
       "            width=\"500\"\n",
       "            height=\"500\"\n",
       "            src=\"C3.html\"\n",
       "            frameborder=\"0\"\n",
       "            allowfullscreen\n",
       "        ></iframe>\n",
       "        "
      ],
      "text/plain": [
       "<IPython.lib.display.IFrame at 0x1114a3fd0>"
      ]
     },
     "execution_count": 8,
     "metadata": {},
     "output_type": "execute_result"
    }
   ],
   "source": [
    "with open('MassCollision.txt','r') as f:\n",
    "    s=f.read()\n",
    "    with open('C3.html','w') as g:\n",
    "        g.write(s)\n",
    "    \n",
    "IFrame('C3.html',500,500)"
   ]
  },
  {
   "cell_type": "markdown",
   "metadata": {},
   "source": [
    "## Second and Third Law together\n",
    "\n",
    "\n",
    "<br>\n",
    "<font color = 'red'> I've added vectors to all the velocities. I've also added a line indicating the equality of momentum explicitly\n",
    "<br>\n",
    "<br>\n",
    "Would it be possible to change the `\\mbox{ change in }` to $\\Delta$? Or is the notation here specific to how it is taught in high school?\n",
    "\n",
    "</font>\n",
    "\n",
    "When two balls hit, the Third Law tells us that the force each feels is equal and opposite. The Second Law tells us the change in **momentum** for each ball is equal to this force. \n",
    "\n",
    "This means the change in **momentum** for the two balls is equal and opposite. That is to say that the change in total momentum between two objects is\n",
    "\n",
    "$$\\mbox{ change in } \\vec{p}_1 = - \\mbox{ change in } \\vec{p}_2. $$\n",
    "\n",
    "Remember that momentum is mass times velocity, so for the two balls (1 and 2) we have\n",
    "$$ \\mbox{ change in } (m_1 \\cdot \\vec{v}_1) = - \\mbox{ change in } (m_2 \\cdot \\vec{v}_2).$$\n",
    "The minus sign on the right is to remind us that the change is in opposite directions.\n",
    "\n",
    "For the balls in this simulation, the masses stay constant, and it is only the velocities that change, so we can write\n",
    "$$ m_1 \\cdot (\\mbox{ change in } \\vec{v}_1) = - m_2 \\cdot (\\mbox{ change in }  \\vec{v}_2).$$\n",
    "\n",
    "In other words, the relative change in velocities is related to the ratio of their masses,\n",
    "$$ (\\mbox{ change in } \\vec{v}_1) = - \\frac{m_2}{m_1} \\cdot (\\mbox{ change in }   \\vec{v}_2).$$\n",
    "\n",
    "So, if ball two has twice the mass of ball one, the change in speed of ball one is twice the change in ball two. \n",
    "\n",
    "<br>\n",
    "<font color = 'red'> It might be useful to include a example calculation, perhaps in reference to one of the gifs above? Something very minor to demonstrate the dependence on initial and final velocities of each object before/after a collision. </font>\n"
   ]
  },
  {
   "cell_type": "markdown",
   "metadata": {},
   "source": [
    "## Conservation law\n",
    "\n",
    "Newton's Third Law leads to the conservation of momentum law. This is a deeper physical result that holds true even in very complicated situations, with many bodies (not just two), and even for things like fluids, gases, and elastic solids.\n",
    "\n",
    "It is easy to see this conservation of total momentum for the bouncing balls. We write\n",
    "$$\\mbox{Total Momentum}, \\; \\vec{p} = m_1\\cdot \\vec{v}_1 + m_2\\cdot \\vec{v}_2 + m_3\\cdot \\vec{v}_3 + \\ldots$$\n",
    "as the sum of the momenta of all the balls. \n",
    "\n",
    "Now, if two balls collide, say one and two, then the momentum of first ball goes up by $\\mbox{ change in } (m_1 \\cdot v_1)$ while the momentum of the second ball goes down by the same amount. This is the **equal and opposite** part of the Third Law. The Total Momentum stays the same, since this increase and decrease cancels out in the total sum of momenta.\n"
   ]
  },
  {
   "cell_type": "markdown",
   "metadata": {},
   "source": [
    "## Summary of Newton's Third Law\n",
    "<br>\n",
    "<font color = 'red'> I think before this summary it would be best to include an example of Newton's third law explicitly using forces. The discussion up to this point has only been in terms of momentum, and at the grade 11(?) level, the relationship between momentum and force may not be obvious. I'd also remove the last sentence, or include a segue into that point. </font>\n",
    "<br>\n",
    "\n",
    "The Third Law really is a physical law. It says that when two objects interact, it is through forces. Each object experiences a force, that is equal to, and opposite to the force on the other object. \n",
    "\n",
    "From the First and Second Laws, we know there are consequences to these forces. The objects will change their motion, and the size of the change of their velocities will depend on their relative masses. \n",
    "\n",
    "So when big things hit small things, the small thing has a bigger change in velocity. \n",
    "\n",
    "One important consequence of Newtons' Third Law is the conservation of total momentum for a system of particles. "
   ]
  },
  {
   "cell_type": "markdown",
   "metadata": {},
   "source": [
    "## Exercises\n",
    "\n",
    "<font color='red'> Perhaps a simple widget that allows you to simulate a collision with adjustable masses? It might also be nice to show their individual velocities/momentum or forces to demonstrate conservation/Newton's third law </font>\n",
    "\n",
    "We need to insert some exercises here. "
   ]
  },
  {
   "cell_type": "markdown",
   "metadata": {},
   "source": [
    "### License notice\n",
    "\n",
    "Callysto™ instructional material is made available under the [Creative Commons Attribution 4.0 license](https://creativecommons.org/licenses/by/4.0/), and the underlying software is made available under the [Open Source Initiative](https://opensource.org)-approved [MIT license](https://opensource.org/licenses/mit-license.html). Licensing details are [here](CallystoLicense.html).\n",
    "\n",
    "![logo](https://github.com/callysto/callysto-sample-notebooks/raw/master/notebooks/images/Callysto_Notebook-Banners_Bottom_06.06.18.jpg)"
   ]
  }
 ],
 "metadata": {
  "kernelspec": {
   "display_name": "Python 3",
   "language": "python",
   "name": "python3"
  },
  "language_info": {
   "codemirror_mode": {
    "name": "ipython",
    "version": 3
   },
   "file_extension": ".py",
   "mimetype": "text/x-python",
   "name": "python",
   "nbconvert_exporter": "python",
   "pygments_lexer": "ipython3",
   "version": "3.6.4"
  }
 },
 "nbformat": 4,
 "nbformat_minor": 2
}

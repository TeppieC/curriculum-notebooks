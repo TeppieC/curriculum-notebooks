{
 "cells": [
  {
   "cell_type": "markdown",
   "metadata": {},
   "source": [
    "![logo](https://callysto.ca/wp-content/uploads/2018/06/Callysto_Notebook-Banner_Top_06.06.18.jpg)"
   ]
  },
  {
   "cell_type": "markdown",
   "metadata": {},
   "source": [
    "# Newton's Third Law\n"
   ]
  },
  {
   "cell_type": "code",
   "execution_count": 1,
   "metadata": {},
   "outputs": [
    {
     "data": {
      "text/html": [
       "\n",
       "<script>\n",
       "  function code_toggle() {\n",
       "    if (code_shown){\n",
       "      $('div.input').hide('500');\n",
       "      $('#toggleButton').val('Show Code')\n",
       "    } else {\n",
       "      $('div.input').show('500');\n",
       "      $('#toggleButton').val('Hide Code')\n",
       "    }\n",
       "    code_shown = !code_shown\n",
       "  }\n",
       "\n",
       "  $( document ).ready(function(){\n",
       "    code_shown=false;\n",
       "    $('div.input').hide()\n",
       "  });\n",
       "</script>\n",
       "\n",
       "<form action=\"javascript:code_toggle()\"><input type=\"submit\" id=\"toggleButton\" value=\"Show Code\"></form>"
      ],
      "text/plain": [
       "<IPython.core.display.HTML object>"
      ]
     },
     "metadata": {},
     "output_type": "display_data"
    }
   ],
   "source": [
    "%%html\n",
    "\n",
    "<script>\n",
    "  function code_toggle() {\n",
    "    if (code_shown){\n",
    "      $('div.input').hide('500');\n",
    "      $('#toggleButton').val('Show Code')\n",
    "    } else {\n",
    "      $('div.input').show('500');\n",
    "      $('#toggleButton').val('Hide Code')\n",
    "    }\n",
    "    code_shown = !code_shown\n",
    "  }\n",
    "\n",
    "  $( document ).ready(function(){\n",
    "    code_shown=false;\n",
    "    $('div.input').hide()\n",
    "  });\n",
    "</script>\n",
    "\n",
    "<form action=\"javascript:code_toggle()\"><input type=\"submit\" id=\"toggleButton\" value=\"Show Code\"></form>\n"
   ]
  },
  {
   "cell_type": "markdown",
   "metadata": {},
   "source": [
    "## The Third Law\n",
    "\n",
    "Let's remind ourselves of the Three Laws of motion from Newton:\n",
    "\n",
    "1. A body at **rest** stays at **rest**. A body in **motion** stays in **motion**, with uniform speed in a straight line. A change happens only if a **force** acts on the body.\n",
    "\n",
    "2. The **force** on the body equals the rate of change of its **momentum** (mass times velocity). \n",
    "\n",
    "3. For every **action**, there is an equal and opposite **reaction**.\n",
    "\n",
    "In this notebook, we examine the Third Law:\n",
    "\n",
    "#3. For every **action**, there is an equal and opposite **reaction**."
   ]
  },
  {
   "cell_type": "markdown",
   "metadata": {},
   "source": [
    "### Example 1\n",
    "\n",
    "A familiar example of the Third Law we see often on TV or the Internet -- a rocket blasting off to space.\n",
    "\n",
    "The rocket demonstrates Newton's Third Law. In a NASA rocket, as in the video below, some chemicals inside the the rocket body are burned, creating hot gases that shoot out the bottom of the rocket. That motion of hot gases is the **action**. The rocket responds by moving in the opposite direction. That rocket motion is the **reaction**."
   ]
  },
  {
   "cell_type": "code",
   "execution_count": 15,
   "metadata": {},
   "outputs": [
    {
     "data": {
      "text/html": [
       "<iframe src=\"https://giphy.com/embed/6yWV529bDk3WU\" width=\"480\" height=\"349\" frameBorder=\"0\" class=\"giphy-embed\" allowFullScreen></iframe><p><a href=\"https://giphy.com/gifs/nasa-concorde-airlineflights-6yWV529bDk3WU\">via GIPHY</a></p>"
      ],
      "text/plain": [
       "<IPython.core.display.HTML object>"
      ]
     },
     "metadata": {},
     "output_type": "display_data"
    }
   ],
   "source": [
    "%%html\n",
    "<iframe src=\"https://giphy.com/embed/6yWV529bDk3WU\" width=\"480\" height=\"349\" frameBorder=\"0\" class=\"giphy-embed\" allowFullScreen></iframe><p><a href=\"https://giphy.com/gifs/nasa-concorde-airlineflights-6yWV529bDk3WU\">via GIPHY</a></p>"
   ]
  },
  {
   "cell_type": "markdown",
   "metadata": {},
   "source": [
    "### Example 2\n",
    "\n",
    "A similar example is with a water bottle rocket, as in the video below. \n",
    "\n",
    "The child pumps air into the water bottle creating pressure inside the container. When the lid on the bottom open, the air pressure forces the water  out the bottom of the rocket. That motion of water is the **action.** The resuling **reaction** is the water bottle shooting up into the air.  \n"
   ]
  },
  {
   "cell_type": "code",
   "execution_count": 14,
   "metadata": {},
   "outputs": [
    {
     "data": {
      "text/html": [
       "<iframe src=\"https://giphy.com/embed/qGQ7uiYh4II2k\" width=\"480\" height=\"270\" frameBorder=\"0\" class=\"giphy-embed\" allowFullScreen></iframe><p><a href=\"https://giphy.com/gifs/water-qGQ7uiYh4II2k\">via GIPHY</a></p>"
      ],
      "text/plain": [
       "<IPython.core.display.HTML object>"
      ]
     },
     "metadata": {},
     "output_type": "display_data"
    }
   ],
   "source": [
    "%%html\n",
    "<iframe src=\"https://giphy.com/embed/qGQ7uiYh4II2k\" width=\"480\" height=\"270\" frameBorder=\"0\" class=\"giphy-embed\" allowFullScreen></iframe><p><a href=\"https://giphy.com/gifs/water-qGQ7uiYh4II2k\">via GIPHY</a></p>"
   ]
  },
  {
   "cell_type": "markdown",
   "metadata": {},
   "source": [
    "### Example 3\n",
    "\n",
    "### Equal and opposite\n",
    "\n",
    "Equal reaction might not be obvious. In the video below, two people collide while holding big, bouncy balls. At the collision, one of them flies backwards (and looks like they get hurt. Ouch!) The reaction seems opposite (goes in the reverse direction), but not really equal."
   ]
  },
  {
   "cell_type": "code",
   "execution_count": 12,
   "metadata": {},
   "outputs": [
    {
     "data": {
      "text/html": [
       "<iframe src=\"https://giphy.com/embed/bJ7HgYDjNiJ1K\" width=\"480\" height=\"285\" frameBorder=\"0\" class=\"giphy-embed\" allowFullScreen></iframe><p><a href=\"https://giphy.com/gifs/exercise-collision-bJ7HgYDjNiJ1K\">via GIPHY</a></p>"
      ],
      "text/plain": [
       "<IPython.core.display.HTML object>"
      ]
     },
     "metadata": {},
     "output_type": "display_data"
    }
   ],
   "source": [
    "%%html\n",
    "<iframe src=\"https://giphy.com/embed/bJ7HgYDjNiJ1K\" width=\"480\" height=\"285\" frameBorder=\"0\" class=\"giphy-embed\" allowFullScreen></iframe><p><a href=\"https://giphy.com/gifs/exercise-collision-bJ7HgYDjNiJ1K\">via GIPHY</a></p>"
   ]
  },
  {
   "cell_type": "markdown",
   "metadata": {},
   "source": [
    "### Some details\n",
    "\n",
    "So, what's happening here?\n",
    "\n",
    "A more precise statement of Newton's Third Law is the following:\n",
    "\n",
    "#3. When two objects interact, there are two forces acting, one on each onject, that are equal strength and opposite in direction. \n",
    "\n",
    "So, in the video above with the two people colliding, each has a **force** on them (the force through the balls). These are equal and opposite **forces** acting on them. The person on the left is big, heavy, and has his feet firmly planted on the ground -- he is well able to absorb the force of the collision. The person on the right is small, light-weight, and has her feet off the ground. When the equal-sized force hits her, she flys back quickly because her momentum, and  her velocity, must make a big change in reaction to the force of the collision.\n",
    "\n",
    "By the Second Law, a force causes a change in momentum (velocity times mass), so it is the change in **momentum** that must be equal. Here, the smaller person on the right, with lower mass, has to see a bigger change in velocity in the collision to have an equivalent change of momentum. So this person bounces back much faster.\n",
    "\n",
    " "
   ]
  },
  {
   "cell_type": "markdown",
   "metadata": {},
   "source": [
    "### Example 4\n",
    "\n",
    "### A train derailment \n",
    "\n",
    "Tragic accidents can happen when we forget Newton's Third Law. Here is an example of a train derailment, captured in the video below. The train is following Newton's laws of motion, but something went terribly wrong. \n"
   ]
  },
  {
   "cell_type": "code",
   "execution_count": 17,
   "metadata": {},
   "outputs": [
    {
     "data": {
      "text/html": [
       "<div class=\"tenor-gif-embed\" data-postid=\"7514279\" data-share-method=\"host\" data-width=\"50%\" data-aspect-ratio=\"1.3333333333333333\"><a href=\"https://tenor.com/view/derailed-train-crash-gif-7514279\">Derailed Train GIF</a> from <a href=\"https://tenor.com/search/derailed-gifs\">Derailed GIFs</a></div><script type=\"text/javascript\" async src=\"https://tenor.com/embed.js\"></script>"
      ],
      "text/plain": [
       "<IPython.core.display.HTML object>"
      ]
     },
     "metadata": {},
     "output_type": "display_data"
    }
   ],
   "source": [
    "%%html\n",
    "<div class=\"tenor-gif-embed\" data-postid=\"7514279\" data-share-method=\"host\" data-width=\"50%\" data-aspect-ratio=\"1.3333333333333333\"><a href=\"https://tenor.com/view/derailed-train-crash-gif-7514279\">Derailed Train GIF</a> from <a href=\"https://tenor.com/search/derailed-gifs\">Derailed GIFs</a></div><script type=\"text/javascript\" async src=\"https://tenor.com/embed.js\"></script>"
   ]
  },
  {
   "cell_type": "markdown",
   "metadata": {},
   "source": [
    "So, what went wrong here?\n",
    "\n",
    "First, notice the train is turning in a curve -- by Newton's First Law, there must be a force on the train causing it to deviate from a straight line. It's not hard to imagine that this force is the action of the rails on the ground pushing against the wheels of the train.\n",
    "\n",
    "By the Third Law, the wheels/train push back on the rails. This is the equal, opposite force. Because it is a fast, heavy train, this results in a very strong force pushing on the rails.\n",
    "\n",
    "Normally, the rails do not move (much) because they are cemented into the ground. In this derailment video, though, the force is so strong that the rails break! Once they are broken, there is nothing to push against the train. With no force, Newton's First Law says the train will have to move in a straight line. So it does, which means it leaves the curved track and crashes into the wall."
   ]
  },
  {
   "cell_type": "markdown",
   "metadata": {},
   "source": [
    "### A simulation\n",
    "\n",
    "I tried to do a D3 simulation where the bodies have different masses.\n",
    "\n",
    "Unfortunately, D3 works under the assumptions that all the bodies have the same mass. I tried doing something where I had two or three balls tied together, so they act as one, with twice or three times the mass. \n",
    "\n",
    "It didn't work, but it sure looks funny!!  (See below.)\n",
    "\n",
    "I recall seeing a webpage of D3 examples that had bodies with different masses. I will try to track that down to see if I can replicate that."
   ]
  },
  {
   "cell_type": "code",
   "execution_count": 6,
   "metadata": {},
   "outputs": [],
   "source": [
    "from IPython.display import IFrame"
   ]
  },
  {
   "cell_type": "code",
   "execution_count": 29,
   "metadata": {},
   "outputs": [
    {
     "data": {
      "text/html": [
       "\n",
       "        <iframe\n",
       "            width=\"500\"\n",
       "            height=\"500\"\n",
       "            src=\"C3.html\"\n",
       "            frameborder=\"0\"\n",
       "            allowfullscreen\n",
       "        ></iframe>\n",
       "        "
      ],
      "text/plain": [
       "<IPython.lib.display.IFrame at 0x7f392840ec50>"
      ]
     },
     "execution_count": 29,
     "metadata": {},
     "output_type": "execute_result"
    }
   ],
   "source": [
    "with open('Collision3.txt','r') as f:\n",
    "    s=f.read()\n",
    "    with open('C3.html','w') as g:\n",
    "        g.write(s)\n",
    "    \n",
    "IFrame('C3.html',500,500)"
   ]
  },
  {
   "cell_type": "markdown",
   "metadata": {},
   "source": [
    "## Conservation law\n",
    "\n",
    "Newton's Third Law leads to the conservation of momentum law. This is a deeper physical result that holds true even in very complicated situations, with many bodies (not just two), and even for things like fluids, gases, and elastic solids.\n",
    "\n",
    "Not sure this is in the curriculum. "
   ]
  },
  {
   "cell_type": "markdown",
   "metadata": {},
   "source": [
    "## Summary of Newton's Third Law\n",
    "\n",
    "The Third Law really is a physical law. It says that when two objects interact, it is through forces. Each object experiences a force, that is equal to, and opposite to the force on the other object. \n",
    "\n",
    "From the First and Second Laws, we know there are consequences to these forces. The objects will change their motion, and the size of the change of their velocities will depend on their relative masses. \n",
    "\n",
    "So when big things hit small things, the small thing has a bigger change in velocity. "
   ]
  },
  {
   "cell_type": "markdown",
   "metadata": {},
   "source": [
    "## Exercises\n",
    "\n",
    "We need to insert some exercises here. "
   ]
  },
  {
   "cell_type": "markdown",
   "metadata": {},
   "source": [
    "### License notice\n",
    "\n",
    "Callysto™ instructional material is made available under the [Creative Commons Attribution 4.0 license](https://creativecommons.org/licenses/by/4.0/), and the underlying software is made available under the [Open Source Initiative](https://opensource.org)-approved [MIT license](https://opensource.org/licenses/mit-license.html). Licensing details are [here](CallystoLicense.html).\n",
    "\n",
    "![logo](https://callysto.ca/wp-content/uploads/2018/06/Callysto_Notebook-Banners_Bottom_06.06.18.jpg)"
   ]
  }
 ],
 "metadata": {
  "kernelspec": {
   "display_name": "Python 3",
   "language": "python",
   "name": "python3"
  },
  "language_info": {
   "codemirror_mode": {
    "name": "ipython",
    "version": 3
   },
   "file_extension": ".py",
   "mimetype": "text/x-python",
   "name": "python",
   "nbconvert_exporter": "python",
   "pygments_lexer": "ipython3",
   "version": "3.6.5"
  }
 },
 "nbformat": 4,
 "nbformat_minor": 2
}

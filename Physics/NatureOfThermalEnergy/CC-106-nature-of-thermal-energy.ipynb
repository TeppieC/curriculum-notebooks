{
 "cells": [
  {
   "cell_type": "markdown",
   "metadata": {
    "hidden": false
   },
   "source": [
    "<img src = 'images/Callysto_Notebook-Banner_Top.jpg'>"
   ]
  },
  {
   "cell_type": "code",
   "execution_count": 1,
   "metadata": {
    "hidden": false,
    "scrolled": true
   },
   "outputs": [
    {
     "data": {
      "text/html": [
       "<script type=\"text/javascript\">window.PlotlyConfig = {MathJaxConfig: 'local'};</script><script type=\"text/javascript\">if (window.MathJax) {MathJax.Hub.Config({SVG: {font: \"STIX-Web\"}});}</script><script>requirejs.config({paths: { 'plotly': ['https://cdn.plot.ly/plotly-latest.min']},});if(!window._Plotly) {require(['plotly'],function(plotly) {window._Plotly=plotly;});}</script>"
      ],
      "text/vnd.plotly.v1+html": [
       "<script type=\"text/javascript\">window.PlotlyConfig = {MathJaxConfig: 'local'};</script><script type=\"text/javascript\">if (window.MathJax) {MathJax.Hub.Config({SVG: {font: \"STIX-Web\"}});}</script><script>requirejs.config({paths: { 'plotly': ['https://cdn.plot.ly/plotly-latest.min']},});if(!window._Plotly) {require(['plotly'],function(plotly) {window._Plotly=plotly;});}</script>"
      ]
     },
     "metadata": {},
     "output_type": "display_data"
    }
   ],
   "source": [
    "import numpy as np\n",
    "import matplotlib.pyplot as plt\n",
    "import matplotlib.animation as animation\n",
    "from mpl_toolkits.mplot3d import Axes3D\n",
    "import mpl_toolkits.mplot3d.axes3d as p3\n",
    "from matplotlib import rc\n",
    "from IPython.display import display, Math, Latex, HTML, clear_output, Markdown, IFrame, Javascript\n",
    "import ipywidgets as widgets\n",
    "from ipywidgets import interact, FloatSlider, IntSlider, interactive, Layout\n",
    "from traitlets import traitlets\n",
    "\n",
    "\n",
    "from plotly.offline import download_plotlyjs, init_notebook_mode, plot, iplot\n",
    "init_notebook_mode(connected=True)\n",
    "\n",
    "%matplotlib notebook\n",
    "\n",
    "#Convenience function that evaluates a certain cell range\n",
    "\n",
    "def evaluate_cells(de, a):\n",
    "    display(Javascript('IPython.notebook.execute_cell_range(IPython.notebook.get_selected_index()+%s,IPython.notebook.get_selected_index()+%s)'%(de,a)))\n",
    "    return"
   ]
  },
  {
   "cell_type": "code",
   "execution_count": 2,
   "metadata": {
    "hidden": false,
    "scrolled": true
   },
   "outputs": [
    {
     "data": {
      "text/html": [
       "<script>\n",
       "  function code_toggle() {\n",
       "    if (code_shown){\n",
       "      $('div.input').hide('500');\n",
       "      $('#toggleButton').val('Show Code')\n",
       "    } else {\n",
       "      $('div.input').show('500');\n",
       "      $('#toggleButton').val('Hide Code')\n",
       "    }\n",
       "    code_shown = !code_shown\n",
       "  }\n",
       "  \n",
       "  $( document ).ready(function(){\n",
       "    code_shown=false;\n",
       "    $('div.input').hide()\n",
       "  });\n",
       "</script>\n",
       "<form action=\"javascript:code_toggle()\"><input type=\"submit\" id=\"toggleButton\" value=\"Show Code\"></form>"
      ],
      "text/plain": [
       "<IPython.core.display.HTML object>"
      ]
     },
     "execution_count": 2,
     "metadata": {},
     "output_type": "execute_result"
    }
   ],
   "source": [
    "HTML('''<script>\n",
    "  function code_toggle() {\n",
    "    if (code_shown){\n",
    "      $('div.input').hide('500');\n",
    "      $('#toggleButton').val('Show Code')\n",
    "    } else {\n",
    "      $('div.input').show('500');\n",
    "      $('#toggleButton').val('Hide Code')\n",
    "    }\n",
    "    code_shown = !code_shown\n",
    "  }\n",
    "  \n",
    "  $( document ).ready(function(){\n",
    "    code_shown=false;\n",
    "    $('div.input').hide()\n",
    "  });\n",
    "</script>\n",
    "<form action=\"javascript:code_toggle()\"><input type=\"submit\" id=\"toggleButton\" value=\"Show Code\"></form>''')\n"
   ]
  },
  {
   "cell_type": "markdown",
   "metadata": {
    "hidden": false
   },
   "source": [
    "#  <center>Heat and Temperature: The Nature of Thermal Energy </center>\n",
    "\n",
    "In this Jupyter Notebook you will explore the nature of thermal energy and its effects on different forms of matter using informal observations, experimental evidence, and models. By the end of the notebook you will have gained an understanding on:\n",
    "\n",
    "- comparing heat transmission in different materials \n",
    "- explaining how heat is transmitted by conduction, convection and radiation in solids, liquids and gases\n",
    "- describing the effect of heat on the motion of particles; and explain changes of state, using the particle model of matter\n",
    "- distinguishing between heat and temperature; and explain temperature, using the concept of kinetic energy and the particle model of matter\n",
    "- investigating and describing the effects of heating and cooling on the volume of different materials, and identify applications of these effects\n",
    "\n",
    "Necessary Background: Basic understanding of kinetic energy and states of matter.\n",
    "\n",
    "Thermal energy applications are found throughout our daily lives; the means by which a refrigerator functions, the ways we power and heat our homes, the combustion which drives our engines. These are just a few of the many ways we use thermal energy to improve our lives. Consequently, having a better understanding of the nature of thermal energy means having a better understanding of the world around us, natural and manufactured. "
   ]
  },
  {
   "cell_type": "markdown",
   "metadata": {
    "hidden": false
   },
   "source": [
    "\n",
    "## Heat vs. Temperature\n",
    "\n",
    "The difference between temperature and heat is quite subtle. We'd better state the definitions formally:\n",
    "\n",
    "**Heat** is a type of energy transfer in which energy flow is caused by a difference in temperature. \n",
    "\n",
    "**Temperature** is a measure of the average heat or thermal energy of the particles in a substance. \n",
    "\n",
    "These are simple explanations for the time being and will become clearer over the course of this notebook. heat is  a *microscopic* quantity which gives rise to the *macroscopic* quantity of temperature. We often think of heat and temperature interchangably but they have fundamentally different meanings. Heat can be exchanged between matter and temperature can be possessed by matter. Over the course of this notebook the differences will become clearer.\n",
    "\n",
    "---\n",
    "\n",
    "*Side note*: **Macroscopic vs Microscopic**\n",
    "\n",
    "Macroscopic quantities can be thought of as the things that you can *see* and quantify, whereas microscopic quantities are the opposite of this; they need some more detailed measuring tools in order to observe. For example, consider the picture of a forest below. Many trees come together to make up the entire forest. In the picture, these trees are comprised of many different shades of green. As we zoom in further, we see that these shades are actually just individual square pixels, each with one colour and brightness. The brightness, colour, and size of each pixel can be seen as the microscopic properties. The macroscopic properties would be the individual trees and the forest that they form. Microscopic properties can only be seen as we zoom into the image. Similarly, macroscopic properties can only be seen as we zoom out. \n",
    " \n",
    "<img src = \"images/macroscopic_forest.png\" height = 550 width = 550 style = \"border-radius: 8px\">\n"
   ]
  },
  {
   "cell_type": "markdown",
   "metadata": {
    "hidden": false
   },
   "source": [
    "# <center> Particle Model of Matter </center>    \n",
    "In order to help you understand heat, it will be useful to think of the *Particle Model of Matter*. This model was first proposed by the Greek philosopher Democritus over 2000 years ago. He thought of being able to cut up matter, the stuff that makes up everything in the world, into smaller and smaller parts. Eventually, one would reach its basic components; the particles that make up all matter. The term particle is still used everywhere in the physical sciences. They can be simply thought of as small objects with certain properties such as size, speed, or colour. Typically they form interact together in terms of these properties, creating some macroscopic property. Using the concept of a particle has helped us model how different microscopic quantities combine to create macroscopic ones. The particle model states that:\n",
    "\n",
    "### 1. All matter is made up of tiny particles"
   ]
  },
  {
   "cell_type": "code",
   "execution_count": 3,
   "metadata": {
    "hidden": false,
    "scrolled": false
   },
   "outputs": [
    {
     "data": {
      "text/html": [
       "\n",
       "<div style=\"text-align: center\">\n",
       "    <iframe width=\"500px\" height=\"420px\" src=\"animations/cube_grid.html\" frameborder=\"0\"></iframe>\n",
       "</div>\n",
       "            \n"
      ],
      "text/plain": [
       "<IPython.core.display.HTML object>"
      ]
     },
     "metadata": {},
     "output_type": "display_data"
    }
   ],
   "source": [
    "%%html\n",
    "\n",
    "<div style=\"text-align: center\">\n",
    "    <iframe width=\"500px\" height=\"420px\" src=\"animations/cube_grid.html\" frameborder=\"0\"></iframe>\n",
    "</div>\n",
    "            "
   ]
  },
  {
   "cell_type": "markdown",
   "metadata": {
    "hidden": false
   },
   "source": [
    "### 2. The particles are constantly moving \n",
    "\n",
    "Since the particles are not at absolute (0 Kelvin), they still contain a bit of thermal energy. When the particles are bound in a solid structure, like above, this causes them to vibrate slightly. Particles in any state will always slightly unless they are at absolute 0 temperature. Below is the same solid as above, but depicted more realistically."
   ]
  },
  {
   "cell_type": "code",
   "execution_count": 4,
   "metadata": {
    "hidden": false
   },
   "outputs": [
    {
     "data": {
      "text/html": [
       "\n",
       "<div style=\"text-align: center\">\n",
       "    <iframe width=\"450px\" height=\"420px\" src=\"animations/vibrating_cube.html\" frameborder=\"0\"></iframe>\n",
       "</div>\n"
      ],
      "text/plain": [
       "<IPython.core.display.HTML object>"
      ]
     },
     "metadata": {},
     "output_type": "display_data"
    }
   ],
   "source": [
    "%%html\n",
    "\n",
    "<div style=\"text-align: center\">\n",
    "    <iframe width=\"450px\" height=\"420px\" src=\"animations/vibrating_cube.html\" frameborder=\"0\"></iframe>\n",
    "</div>"
   ]
  },
  {
   "cell_type": "markdown",
   "metadata": {
    "hidden": false
   },
   "source": [
    "*Side Note*:**Absoloute Zero**\n",
    "\n",
    "The Kelvin scale is an absolute temperature scale using 0 as the point where all motion due to heat. The celsius scale on the other hand uses the freezing point of water as its zero, which corresponds to 273.15 Kelvin. This can be inconvenient for many scientists, especially when quantities have to be multiplied by temperature, thus the Kelvin scale is the international standard and is recognized as the base unit of temperature. Absolute 0 is an *absolute* since all motion for any type of matter will stop at this temperature. That being said, absolute zero is actually physically impossible to reach <a href = \"https://www.sciencealert.com/after-a-century-of-debate-cooling-to-absolute-zero-has-been-declared-mathematically-impossible\">Click here if you're interested</a>. There is ongoing research on cooling matter to extremely low temperatures in order to observe its behaviour when there is nearly zero thermal motion. "
   ]
  },
  {
   "cell_type": "markdown",
   "metadata": {
    "hidden": false
   },
   "source": [
    "### 3. The particles move faster as you heat them up"
   ]
  },
  {
   "cell_type": "code",
   "execution_count": 5,
   "metadata": {
    "hidden": false,
    "scrolled": false
   },
   "outputs": [
    {
     "data": {
      "text/html": [
       "\n",
       "<div style=\"text-align: center\">\n",
       "    <iframe width=\"450px\" height=\"420px\" src=\"animations/particle_in_a_box.html\" frameborder=\"0\"></iframe>\n",
       "</div>\n"
      ],
      "text/plain": [
       "<IPython.core.display.HTML object>"
      ]
     },
     "metadata": {},
     "output_type": "display_data"
    }
   ],
   "source": [
    "%%html\n",
    "\n",
    "<div style=\"text-align: center\">\n",
    "    <iframe width=\"450px\" height=\"420px\" src=\"animations/particle_in_a_box.html\" frameborder=\"0\"></iframe>\n",
    "</div>\n"
   ]
  },
  {
   "cell_type": "markdown",
   "metadata": {
    "hidden": false
   },
   "source": [
    "Statement 3 of the particle model offers the clearest description for the difference between temperature and heat. As the temperature inside the square increases, the particles move faster. This is because the the particles have more heat energy, but what we actually measure is temperature. The particles collide with the sides of the box more frequently. The more frequent the collisions, the higher the temperature we measure. Above is a graphic describing how the 'particles' that make up water might behave as they are heated."
   ]
  },
  {
   "cell_type": "markdown",
   "metadata": {
    "hidden": false
   },
   "source": [
    "---\n",
    "## <center>Changes of State</center>\n",
    "\n",
    "Heat transfer plays a deciding role in the changes of state of matter (Solid, Liquid or Gas). Let's break down how heat energy changes the state of matter and what these processes are called. Matter will be thought of as a collection of particles. The behaviour of these particles is determined by the state of matter in which they are in:\n",
    "\n",
    "- Particles in a **solid** are tighly packed. They have very little motion other than vibrating in the location that they are in.\n",
    "\n",
    "- Particles in a **liquid** are able to move past one another. This is what gives liquids the property of being able to \"flow\".\n",
    "\n",
    "- Particles in a **gas** can essentially move around freely, occasionally colliding into one another. This is why gases have so much free space.\n",
    "\n",
    "Note the use of a macroscopic quantity to used to describe microscopic ones (state $\\rightarrow$ motion).\n",
    "\n",
    "### Why do the changes happen?\n",
    "\n",
    "Matter changes state due to heat energy. Think of the particles in a solid. As they gain more heat energy, the particles themselves gain more kinetic energy. More kinetic energy means they are moving faster, making them collide into one another more often. Eventually the bonds that hold the solid together cannot maintain the amount of collisions and the solid begins to break apart, into a liquid. This is known as melting. \n",
    "\n",
    "Once the matter has melted, the particles begin to flow, yet they still maintain a bit of their structure; they are still \"connected\". If you were to give them even more heat energy, the structure begins to fall apart, and eventually the matter becomes a gas where the particles can move around freely and disperse from one another. This process is called evaporation. \n",
    "\n",
    "Some of the main characteristics of a substance are the temperatures at which these transitions happen. These are known as the *melting point* and *boiling point* of the substance. For example, water has a melting point of 0$^{\\circ}$C and a boiling point of 100$^{\\circ}$C (STP) and these temperatures are a fundamental part of what it means to be \"water\". The acronym SATP stands for Standard Ambient Temperature and Pressure, and is used as a standard ruler for experimental measurements. The melting and boiling points of water change at different pressures and therefore the pressure at which these quanitities were measured must be specified as well. This allows for accurate comparisons between different experiments and laboratories. \n",
    "\n",
    "The different changes that occur in matter are pictured below. Try to memorize the names of the different changes of state. Hover your mouse over each grey box to see the names of them. Once you press the \"Play memory game\" button, you won't be able to see their names anymore and will have to match the numbers to the name of change of state. See how many times you can get them correct! You'll have them memorized in no time :-)"
   ]
  },
  {
   "cell_type": "code",
   "execution_count": 28,
   "metadata": {
    "hidden": false,
    "scrolled": false
   },
   "outputs": [
    {
     "data": {
      "application/javascript": [
       "/* Put everything inside the global mpl namespace */\n",
       "window.mpl = {};\n",
       "\n",
       "\n",
       "mpl.get_websocket_type = function() {\n",
       "    if (typeof(WebSocket) !== 'undefined') {\n",
       "        return WebSocket;\n",
       "    } else if (typeof(MozWebSocket) !== 'undefined') {\n",
       "        return MozWebSocket;\n",
       "    } else {\n",
       "        alert('Your browser does not have WebSocket support.' +\n",
       "              'Please try Chrome, Safari or Firefox ≥ 6. ' +\n",
       "              'Firefox 4 and 5 are also supported but you ' +\n",
       "              'have to enable WebSockets in about:config.');\n",
       "    };\n",
       "}\n",
       "\n",
       "mpl.figure = function(figure_id, websocket, ondownload, parent_element) {\n",
       "    this.id = figure_id;\n",
       "\n",
       "    this.ws = websocket;\n",
       "\n",
       "    this.supports_binary = (this.ws.binaryType != undefined);\n",
       "\n",
       "    if (!this.supports_binary) {\n",
       "        var warnings = document.getElementById(\"mpl-warnings\");\n",
       "        if (warnings) {\n",
       "            warnings.style.display = 'block';\n",
       "            warnings.textContent = (\n",
       "                \"This browser does not support binary websocket messages. \" +\n",
       "                    \"Performance may be slow.\");\n",
       "        }\n",
       "    }\n",
       "\n",
       "    this.imageObj = new Image();\n",
       "\n",
       "    this.context = undefined;\n",
       "    this.message = undefined;\n",
       "    this.canvas = undefined;\n",
       "    this.rubberband_canvas = undefined;\n",
       "    this.rubberband_context = undefined;\n",
       "    this.format_dropdown = undefined;\n",
       "\n",
       "    this.image_mode = 'full';\n",
       "\n",
       "    this.root = $('<div/>');\n",
       "    this._root_extra_style(this.root)\n",
       "    this.root.attr('style', 'display: inline-block');\n",
       "\n",
       "    $(parent_element).append(this.root);\n",
       "\n",
       "    this._init_header(this);\n",
       "    this._init_canvas(this);\n",
       "    this._init_toolbar(this);\n",
       "\n",
       "    var fig = this;\n",
       "\n",
       "    this.waiting = false;\n",
       "\n",
       "    this.ws.onopen =  function () {\n",
       "            fig.send_message(\"supports_binary\", {value: fig.supports_binary});\n",
       "            fig.send_message(\"send_image_mode\", {});\n",
       "            if (mpl.ratio != 1) {\n",
       "                fig.send_message(\"set_dpi_ratio\", {'dpi_ratio': mpl.ratio});\n",
       "            }\n",
       "            fig.send_message(\"refresh\", {});\n",
       "        }\n",
       "\n",
       "    this.imageObj.onload = function() {\n",
       "            if (fig.image_mode == 'full') {\n",
       "                // Full images could contain transparency (where diff images\n",
       "                // almost always do), so we need to clear the canvas so that\n",
       "                // there is no ghosting.\n",
       "                fig.context.clearRect(0, 0, fig.canvas.width, fig.canvas.height);\n",
       "            }\n",
       "            fig.context.drawImage(fig.imageObj, 0, 0);\n",
       "        };\n",
       "\n",
       "    this.imageObj.onunload = function() {\n",
       "        fig.ws.close();\n",
       "    }\n",
       "\n",
       "    this.ws.onmessage = this._make_on_message_function(this);\n",
       "\n",
       "    this.ondownload = ondownload;\n",
       "}\n",
       "\n",
       "mpl.figure.prototype._init_header = function() {\n",
       "    var titlebar = $(\n",
       "        '<div class=\"ui-dialog-titlebar ui-widget-header ui-corner-all ' +\n",
       "        'ui-helper-clearfix\"/>');\n",
       "    var titletext = $(\n",
       "        '<div class=\"ui-dialog-title\" style=\"width: 100%; ' +\n",
       "        'text-align: center; padding: 3px;\"/>');\n",
       "    titlebar.append(titletext)\n",
       "    this.root.append(titlebar);\n",
       "    this.header = titletext[0];\n",
       "}\n",
       "\n",
       "\n",
       "\n",
       "mpl.figure.prototype._canvas_extra_style = function(canvas_div) {\n",
       "\n",
       "}\n",
       "\n",
       "\n",
       "mpl.figure.prototype._root_extra_style = function(canvas_div) {\n",
       "\n",
       "}\n",
       "\n",
       "mpl.figure.prototype._init_canvas = function() {\n",
       "    var fig = this;\n",
       "\n",
       "    var canvas_div = $('<div/>');\n",
       "\n",
       "    canvas_div.attr('style', 'position: relative; clear: both; outline: 0');\n",
       "\n",
       "    function canvas_keyboard_event(event) {\n",
       "        return fig.key_event(event, event['data']);\n",
       "    }\n",
       "\n",
       "    canvas_div.keydown('key_press', canvas_keyboard_event);\n",
       "    canvas_div.keyup('key_release', canvas_keyboard_event);\n",
       "    this.canvas_div = canvas_div\n",
       "    this._canvas_extra_style(canvas_div)\n",
       "    this.root.append(canvas_div);\n",
       "\n",
       "    var canvas = $('<canvas/>');\n",
       "    canvas.addClass('mpl-canvas');\n",
       "    canvas.attr('style', \"left: 0; top: 0; z-index: 0; outline: 0\")\n",
       "\n",
       "    this.canvas = canvas[0];\n",
       "    this.context = canvas[0].getContext(\"2d\");\n",
       "\n",
       "    var backingStore = this.context.backingStorePixelRatio ||\n",
       "\tthis.context.webkitBackingStorePixelRatio ||\n",
       "\tthis.context.mozBackingStorePixelRatio ||\n",
       "\tthis.context.msBackingStorePixelRatio ||\n",
       "\tthis.context.oBackingStorePixelRatio ||\n",
       "\tthis.context.backingStorePixelRatio || 1;\n",
       "\n",
       "    mpl.ratio = (window.devicePixelRatio || 1) / backingStore;\n",
       "\n",
       "    var rubberband = $('<canvas/>');\n",
       "    rubberband.attr('style', \"position: absolute; left: 0; top: 0; z-index: 1;\")\n",
       "\n",
       "    var pass_mouse_events = true;\n",
       "\n",
       "    canvas_div.resizable({\n",
       "        start: function(event, ui) {\n",
       "            pass_mouse_events = false;\n",
       "        },\n",
       "        resize: function(event, ui) {\n",
       "            fig.request_resize(ui.size.width, ui.size.height);\n",
       "        },\n",
       "        stop: function(event, ui) {\n",
       "            pass_mouse_events = true;\n",
       "            fig.request_resize(ui.size.width, ui.size.height);\n",
       "        },\n",
       "    });\n",
       "\n",
       "    function mouse_event_fn(event) {\n",
       "        if (pass_mouse_events)\n",
       "            return fig.mouse_event(event, event['data']);\n",
       "    }\n",
       "\n",
       "    rubberband.mousedown('button_press', mouse_event_fn);\n",
       "    rubberband.mouseup('button_release', mouse_event_fn);\n",
       "    // Throttle sequential mouse events to 1 every 20ms.\n",
       "    rubberband.mousemove('motion_notify', mouse_event_fn);\n",
       "\n",
       "    rubberband.mouseenter('figure_enter', mouse_event_fn);\n",
       "    rubberband.mouseleave('figure_leave', mouse_event_fn);\n",
       "\n",
       "    canvas_div.on(\"wheel\", function (event) {\n",
       "        event = event.originalEvent;\n",
       "        event['data'] = 'scroll'\n",
       "        if (event.deltaY < 0) {\n",
       "            event.step = 1;\n",
       "        } else {\n",
       "            event.step = -1;\n",
       "        }\n",
       "        mouse_event_fn(event);\n",
       "    });\n",
       "\n",
       "    canvas_div.append(canvas);\n",
       "    canvas_div.append(rubberband);\n",
       "\n",
       "    this.rubberband = rubberband;\n",
       "    this.rubberband_canvas = rubberband[0];\n",
       "    this.rubberband_context = rubberband[0].getContext(\"2d\");\n",
       "    this.rubberband_context.strokeStyle = \"#000000\";\n",
       "\n",
       "    this._resize_canvas = function(width, height) {\n",
       "        // Keep the size of the canvas, canvas container, and rubber band\n",
       "        // canvas in synch.\n",
       "        canvas_div.css('width', width)\n",
       "        canvas_div.css('height', height)\n",
       "\n",
       "        canvas.attr('width', width * mpl.ratio);\n",
       "        canvas.attr('height', height * mpl.ratio);\n",
       "        canvas.attr('style', 'width: ' + width + 'px; height: ' + height + 'px;');\n",
       "\n",
       "        rubberband.attr('width', width);\n",
       "        rubberband.attr('height', height);\n",
       "    }\n",
       "\n",
       "    // Set the figure to an initial 600x600px, this will subsequently be updated\n",
       "    // upon first draw.\n",
       "    this._resize_canvas(600, 600);\n",
       "\n",
       "    // Disable right mouse context menu.\n",
       "    $(this.rubberband_canvas).bind(\"contextmenu\",function(e){\n",
       "        return false;\n",
       "    });\n",
       "\n",
       "    function set_focus () {\n",
       "        canvas.focus();\n",
       "        canvas_div.focus();\n",
       "    }\n",
       "\n",
       "    window.setTimeout(set_focus, 100);\n",
       "}\n",
       "\n",
       "mpl.figure.prototype._init_toolbar = function() {\n",
       "    var fig = this;\n",
       "\n",
       "    var nav_element = $('<div/>')\n",
       "    nav_element.attr('style', 'width: 100%');\n",
       "    this.root.append(nav_element);\n",
       "\n",
       "    // Define a callback function for later on.\n",
       "    function toolbar_event(event) {\n",
       "        return fig.toolbar_button_onclick(event['data']);\n",
       "    }\n",
       "    function toolbar_mouse_event(event) {\n",
       "        return fig.toolbar_button_onmouseover(event['data']);\n",
       "    }\n",
       "\n",
       "    for(var toolbar_ind in mpl.toolbar_items) {\n",
       "        var name = mpl.toolbar_items[toolbar_ind][0];\n",
       "        var tooltip = mpl.toolbar_items[toolbar_ind][1];\n",
       "        var image = mpl.toolbar_items[toolbar_ind][2];\n",
       "        var method_name = mpl.toolbar_items[toolbar_ind][3];\n",
       "\n",
       "        if (!name) {\n",
       "            // put a spacer in here.\n",
       "            continue;\n",
       "        }\n",
       "        var button = $('<button/>');\n",
       "        button.addClass('ui-button ui-widget ui-state-default ui-corner-all ' +\n",
       "                        'ui-button-icon-only');\n",
       "        button.attr('role', 'button');\n",
       "        button.attr('aria-disabled', 'false');\n",
       "        button.click(method_name, toolbar_event);\n",
       "        button.mouseover(tooltip, toolbar_mouse_event);\n",
       "\n",
       "        var icon_img = $('<span/>');\n",
       "        icon_img.addClass('ui-button-icon-primary ui-icon');\n",
       "        icon_img.addClass(image);\n",
       "        icon_img.addClass('ui-corner-all');\n",
       "\n",
       "        var tooltip_span = $('<span/>');\n",
       "        tooltip_span.addClass('ui-button-text');\n",
       "        tooltip_span.html(tooltip);\n",
       "\n",
       "        button.append(icon_img);\n",
       "        button.append(tooltip_span);\n",
       "\n",
       "        nav_element.append(button);\n",
       "    }\n",
       "\n",
       "    var fmt_picker_span = $('<span/>');\n",
       "\n",
       "    var fmt_picker = $('<select/>');\n",
       "    fmt_picker.addClass('mpl-toolbar-option ui-widget ui-widget-content');\n",
       "    fmt_picker_span.append(fmt_picker);\n",
       "    nav_element.append(fmt_picker_span);\n",
       "    this.format_dropdown = fmt_picker[0];\n",
       "\n",
       "    for (var ind in mpl.extensions) {\n",
       "        var fmt = mpl.extensions[ind];\n",
       "        var option = $(\n",
       "            '<option/>', {selected: fmt === mpl.default_extension}).html(fmt);\n",
       "        fmt_picker.append(option)\n",
       "    }\n",
       "\n",
       "    // Add hover states to the ui-buttons\n",
       "    $( \".ui-button\" ).hover(\n",
       "        function() { $(this).addClass(\"ui-state-hover\");},\n",
       "        function() { $(this).removeClass(\"ui-state-hover\");}\n",
       "    );\n",
       "\n",
       "    var status_bar = $('<span class=\"mpl-message\"/>');\n",
       "    nav_element.append(status_bar);\n",
       "    this.message = status_bar[0];\n",
       "}\n",
       "\n",
       "mpl.figure.prototype.request_resize = function(x_pixels, y_pixels) {\n",
       "    // Request matplotlib to resize the figure. Matplotlib will then trigger a resize in the client,\n",
       "    // which will in turn request a refresh of the image.\n",
       "    this.send_message('resize', {'width': x_pixels, 'height': y_pixels});\n",
       "}\n",
       "\n",
       "mpl.figure.prototype.send_message = function(type, properties) {\n",
       "    properties['type'] = type;\n",
       "    properties['figure_id'] = this.id;\n",
       "    this.ws.send(JSON.stringify(properties));\n",
       "}\n",
       "\n",
       "mpl.figure.prototype.send_draw_message = function() {\n",
       "    if (!this.waiting) {\n",
       "        this.waiting = true;\n",
       "        this.ws.send(JSON.stringify({type: \"draw\", figure_id: this.id}));\n",
       "    }\n",
       "}\n",
       "\n",
       "\n",
       "mpl.figure.prototype.handle_save = function(fig, msg) {\n",
       "    var format_dropdown = fig.format_dropdown;\n",
       "    var format = format_dropdown.options[format_dropdown.selectedIndex].value;\n",
       "    fig.ondownload(fig, format);\n",
       "}\n",
       "\n",
       "\n",
       "mpl.figure.prototype.handle_resize = function(fig, msg) {\n",
       "    var size = msg['size'];\n",
       "    if (size[0] != fig.canvas.width || size[1] != fig.canvas.height) {\n",
       "        fig._resize_canvas(size[0], size[1]);\n",
       "        fig.send_message(\"refresh\", {});\n",
       "    };\n",
       "}\n",
       "\n",
       "mpl.figure.prototype.handle_rubberband = function(fig, msg) {\n",
       "    var x0 = msg['x0'] / mpl.ratio;\n",
       "    var y0 = (fig.canvas.height - msg['y0']) / mpl.ratio;\n",
       "    var x1 = msg['x1'] / mpl.ratio;\n",
       "    var y1 = (fig.canvas.height - msg['y1']) / mpl.ratio;\n",
       "    x0 = Math.floor(x0) + 0.5;\n",
       "    y0 = Math.floor(y0) + 0.5;\n",
       "    x1 = Math.floor(x1) + 0.5;\n",
       "    y1 = Math.floor(y1) + 0.5;\n",
       "    var min_x = Math.min(x0, x1);\n",
       "    var min_y = Math.min(y0, y1);\n",
       "    var width = Math.abs(x1 - x0);\n",
       "    var height = Math.abs(y1 - y0);\n",
       "\n",
       "    fig.rubberband_context.clearRect(\n",
       "        0, 0, fig.canvas.width, fig.canvas.height);\n",
       "\n",
       "    fig.rubberband_context.strokeRect(min_x, min_y, width, height);\n",
       "}\n",
       "\n",
       "mpl.figure.prototype.handle_figure_label = function(fig, msg) {\n",
       "    // Updates the figure title.\n",
       "    fig.header.textContent = msg['label'];\n",
       "}\n",
       "\n",
       "mpl.figure.prototype.handle_cursor = function(fig, msg) {\n",
       "    var cursor = msg['cursor'];\n",
       "    switch(cursor)\n",
       "    {\n",
       "    case 0:\n",
       "        cursor = 'pointer';\n",
       "        break;\n",
       "    case 1:\n",
       "        cursor = 'default';\n",
       "        break;\n",
       "    case 2:\n",
       "        cursor = 'crosshair';\n",
       "        break;\n",
       "    case 3:\n",
       "        cursor = 'move';\n",
       "        break;\n",
       "    }\n",
       "    fig.rubberband_canvas.style.cursor = cursor;\n",
       "}\n",
       "\n",
       "mpl.figure.prototype.handle_message = function(fig, msg) {\n",
       "    fig.message.textContent = msg['message'];\n",
       "}\n",
       "\n",
       "mpl.figure.prototype.handle_draw = function(fig, msg) {\n",
       "    // Request the server to send over a new figure.\n",
       "    fig.send_draw_message();\n",
       "}\n",
       "\n",
       "mpl.figure.prototype.handle_image_mode = function(fig, msg) {\n",
       "    fig.image_mode = msg['mode'];\n",
       "}\n",
       "\n",
       "mpl.figure.prototype.updated_canvas_event = function() {\n",
       "    // Called whenever the canvas gets updated.\n",
       "    this.send_message(\"ack\", {});\n",
       "}\n",
       "\n",
       "// A function to construct a web socket function for onmessage handling.\n",
       "// Called in the figure constructor.\n",
       "mpl.figure.prototype._make_on_message_function = function(fig) {\n",
       "    return function socket_on_message(evt) {\n",
       "        if (evt.data instanceof Blob) {\n",
       "            /* FIXME: We get \"Resource interpreted as Image but\n",
       "             * transferred with MIME type text/plain:\" errors on\n",
       "             * Chrome.  But how to set the MIME type?  It doesn't seem\n",
       "             * to be part of the websocket stream */\n",
       "            evt.data.type = \"image/png\";\n",
       "\n",
       "            /* Free the memory for the previous frames */\n",
       "            if (fig.imageObj.src) {\n",
       "                (window.URL || window.webkitURL).revokeObjectURL(\n",
       "                    fig.imageObj.src);\n",
       "            }\n",
       "\n",
       "            fig.imageObj.src = (window.URL || window.webkitURL).createObjectURL(\n",
       "                evt.data);\n",
       "            fig.updated_canvas_event();\n",
       "            fig.waiting = false;\n",
       "            return;\n",
       "        }\n",
       "        else if (typeof evt.data === 'string' && evt.data.slice(0, 21) == \"data:image/png;base64\") {\n",
       "            fig.imageObj.src = evt.data;\n",
       "            fig.updated_canvas_event();\n",
       "            fig.waiting = false;\n",
       "            return;\n",
       "        }\n",
       "\n",
       "        var msg = JSON.parse(evt.data);\n",
       "        var msg_type = msg['type'];\n",
       "\n",
       "        // Call the  \"handle_{type}\" callback, which takes\n",
       "        // the figure and JSON message as its only arguments.\n",
       "        try {\n",
       "            var callback = fig[\"handle_\" + msg_type];\n",
       "        } catch (e) {\n",
       "            console.log(\"No handler for the '\" + msg_type + \"' message type: \", msg);\n",
       "            return;\n",
       "        }\n",
       "\n",
       "        if (callback) {\n",
       "            try {\n",
       "                // console.log(\"Handling '\" + msg_type + \"' message: \", msg);\n",
       "                callback(fig, msg);\n",
       "            } catch (e) {\n",
       "                console.log(\"Exception inside the 'handler_\" + msg_type + \"' callback:\", e, e.stack, msg);\n",
       "            }\n",
       "        }\n",
       "    };\n",
       "}\n",
       "\n",
       "// from http://stackoverflow.com/questions/1114465/getting-mouse-location-in-canvas\n",
       "mpl.findpos = function(e) {\n",
       "    //this section is from http://www.quirksmode.org/js/events_properties.html\n",
       "    var targ;\n",
       "    if (!e)\n",
       "        e = window.event;\n",
       "    if (e.target)\n",
       "        targ = e.target;\n",
       "    else if (e.srcElement)\n",
       "        targ = e.srcElement;\n",
       "    if (targ.nodeType == 3) // defeat Safari bug\n",
       "        targ = targ.parentNode;\n",
       "\n",
       "    // jQuery normalizes the pageX and pageY\n",
       "    // pageX,Y are the mouse positions relative to the document\n",
       "    // offset() returns the position of the element relative to the document\n",
       "    var x = e.pageX - $(targ).offset().left;\n",
       "    var y = e.pageY - $(targ).offset().top;\n",
       "\n",
       "    return {\"x\": x, \"y\": y};\n",
       "};\n",
       "\n",
       "/*\n",
       " * return a copy of an object with only non-object keys\n",
       " * we need this to avoid circular references\n",
       " * http://stackoverflow.com/a/24161582/3208463\n",
       " */\n",
       "function simpleKeys (original) {\n",
       "  return Object.keys(original).reduce(function (obj, key) {\n",
       "    if (typeof original[key] !== 'object')\n",
       "        obj[key] = original[key]\n",
       "    return obj;\n",
       "  }, {});\n",
       "}\n",
       "\n",
       "mpl.figure.prototype.mouse_event = function(event, name) {\n",
       "    var canvas_pos = mpl.findpos(event)\n",
       "\n",
       "    if (name === 'button_press')\n",
       "    {\n",
       "        this.canvas.focus();\n",
       "        this.canvas_div.focus();\n",
       "    }\n",
       "\n",
       "    var x = canvas_pos.x * mpl.ratio;\n",
       "    var y = canvas_pos.y * mpl.ratio;\n",
       "\n",
       "    this.send_message(name, {x: x, y: y, button: event.button,\n",
       "                             step: event.step,\n",
       "                             guiEvent: simpleKeys(event)});\n",
       "\n",
       "    /* This prevents the web browser from automatically changing to\n",
       "     * the text insertion cursor when the button is pressed.  We want\n",
       "     * to control all of the cursor setting manually through the\n",
       "     * 'cursor' event from matplotlib */\n",
       "    event.preventDefault();\n",
       "    return false;\n",
       "}\n",
       "\n",
       "mpl.figure.prototype._key_event_extra = function(event, name) {\n",
       "    // Handle any extra behaviour associated with a key event\n",
       "}\n",
       "\n",
       "mpl.figure.prototype.key_event = function(event, name) {\n",
       "\n",
       "    // Prevent repeat events\n",
       "    if (name == 'key_press')\n",
       "    {\n",
       "        if (event.which === this._key)\n",
       "            return;\n",
       "        else\n",
       "            this._key = event.which;\n",
       "    }\n",
       "    if (name == 'key_release')\n",
       "        this._key = null;\n",
       "\n",
       "    var value = '';\n",
       "    if (event.ctrlKey && event.which != 17)\n",
       "        value += \"ctrl+\";\n",
       "    if (event.altKey && event.which != 18)\n",
       "        value += \"alt+\";\n",
       "    if (event.shiftKey && event.which != 16)\n",
       "        value += \"shift+\";\n",
       "\n",
       "    value += 'k';\n",
       "    value += event.which.toString();\n",
       "\n",
       "    this._key_event_extra(event, name);\n",
       "\n",
       "    this.send_message(name, {key: value,\n",
       "                             guiEvent: simpleKeys(event)});\n",
       "    return false;\n",
       "}\n",
       "\n",
       "mpl.figure.prototype.toolbar_button_onclick = function(name) {\n",
       "    if (name == 'download') {\n",
       "        this.handle_save(this, null);\n",
       "    } else {\n",
       "        this.send_message(\"toolbar_button\", {name: name});\n",
       "    }\n",
       "};\n",
       "\n",
       "mpl.figure.prototype.toolbar_button_onmouseover = function(tooltip) {\n",
       "    this.message.textContent = tooltip;\n",
       "};\n",
       "mpl.toolbar_items = [[\"Home\", \"Reset original view\", \"fa fa-home icon-home\", \"home\"], [\"Back\", \"Back to  previous view\", \"fa fa-arrow-left icon-arrow-left\", \"back\"], [\"Forward\", \"Forward to next view\", \"fa fa-arrow-right icon-arrow-right\", \"forward\"], [\"\", \"\", \"\", \"\"], [\"Pan\", \"Pan axes with left mouse, zoom with right\", \"fa fa-arrows icon-move\", \"pan\"], [\"Zoom\", \"Zoom to rectangle\", \"fa fa-square-o icon-check-empty\", \"zoom\"], [\"\", \"\", \"\", \"\"], [\"Download\", \"Download plot\", \"fa fa-floppy-o icon-save\", \"download\"]];\n",
       "\n",
       "mpl.extensions = [\"eps\", \"jpeg\", \"pdf\", \"png\", \"ps\", \"raw\", \"svg\", \"tif\"];\n",
       "\n",
       "mpl.default_extension = \"png\";var comm_websocket_adapter = function(comm) {\n",
       "    // Create a \"websocket\"-like object which calls the given IPython comm\n",
       "    // object with the appropriate methods. Currently this is a non binary\n",
       "    // socket, so there is still some room for performance tuning.\n",
       "    var ws = {};\n",
       "\n",
       "    ws.close = function() {\n",
       "        comm.close()\n",
       "    };\n",
       "    ws.send = function(m) {\n",
       "        //console.log('sending', m);\n",
       "        comm.send(m);\n",
       "    };\n",
       "    // Register the callback with on_msg.\n",
       "    comm.on_msg(function(msg) {\n",
       "        //console.log('receiving', msg['content']['data'], msg);\n",
       "        // Pass the mpl event to the overridden (by mpl) onmessage function.\n",
       "        ws.onmessage(msg['content']['data'])\n",
       "    });\n",
       "    return ws;\n",
       "}\n",
       "\n",
       "mpl.mpl_figure_comm = function(comm, msg) {\n",
       "    // This is the function which gets called when the mpl process\n",
       "    // starts-up an IPython Comm through the \"matplotlib\" channel.\n",
       "\n",
       "    var id = msg.content.data.id;\n",
       "    // Get hold of the div created by the display call when the Comm\n",
       "    // socket was opened in Python.\n",
       "    var element = $(\"#\" + id);\n",
       "    var ws_proxy = comm_websocket_adapter(comm)\n",
       "\n",
       "    function ondownload(figure, format) {\n",
       "        window.open(figure.imageObj.src);\n",
       "    }\n",
       "\n",
       "    var fig = new mpl.figure(id, ws_proxy,\n",
       "                           ondownload,\n",
       "                           element.get(0));\n",
       "\n",
       "    // Call onopen now - mpl needs it, as it is assuming we've passed it a real\n",
       "    // web socket which is closed, not our websocket->open comm proxy.\n",
       "    ws_proxy.onopen();\n",
       "\n",
       "    fig.parent_element = element.get(0);\n",
       "    fig.cell_info = mpl.find_output_cell(\"<div id='\" + id + \"'></div>\");\n",
       "    if (!fig.cell_info) {\n",
       "        console.error(\"Failed to find cell for figure\", id, fig);\n",
       "        return;\n",
       "    }\n",
       "\n",
       "    var output_index = fig.cell_info[2]\n",
       "    var cell = fig.cell_info[0];\n",
       "\n",
       "};\n",
       "\n",
       "mpl.figure.prototype.handle_close = function(fig, msg) {\n",
       "    var width = fig.canvas.width/mpl.ratio\n",
       "    fig.root.unbind('remove')\n",
       "\n",
       "    // Update the output cell to use the data from the current canvas.\n",
       "    fig.push_to_output();\n",
       "    var dataURL = fig.canvas.toDataURL();\n",
       "    // Re-enable the keyboard manager in IPython - without this line, in FF,\n",
       "    // the notebook keyboard shortcuts fail.\n",
       "    IPython.keyboard_manager.enable()\n",
       "    $(fig.parent_element).html('<img src=\"' + dataURL + '\" width=\"' + width + '\">');\n",
       "    fig.close_ws(fig, msg);\n",
       "}\n",
       "\n",
       "mpl.figure.prototype.close_ws = function(fig, msg){\n",
       "    fig.send_message('closing', msg);\n",
       "    // fig.ws.close()\n",
       "}\n",
       "\n",
       "mpl.figure.prototype.push_to_output = function(remove_interactive) {\n",
       "    // Turn the data on the canvas into data in the output cell.\n",
       "    var width = this.canvas.width/mpl.ratio\n",
       "    var dataURL = this.canvas.toDataURL();\n",
       "    this.cell_info[1]['text/html'] = '<img src=\"' + dataURL + '\" width=\"' + width + '\">';\n",
       "}\n",
       "\n",
       "mpl.figure.prototype.updated_canvas_event = function() {\n",
       "    // Tell IPython that the notebook contents must change.\n",
       "    IPython.notebook.set_dirty(true);\n",
       "    this.send_message(\"ack\", {});\n",
       "    var fig = this;\n",
       "    // Wait a second, then push the new image to the DOM so\n",
       "    // that it is saved nicely (might be nice to debounce this).\n",
       "    setTimeout(function () { fig.push_to_output() }, 1000);\n",
       "}\n",
       "\n",
       "mpl.figure.prototype._init_toolbar = function() {\n",
       "    var fig = this;\n",
       "\n",
       "    var nav_element = $('<div/>')\n",
       "    nav_element.attr('style', 'width: 100%');\n",
       "    this.root.append(nav_element);\n",
       "\n",
       "    // Define a callback function for later on.\n",
       "    function toolbar_event(event) {\n",
       "        return fig.toolbar_button_onclick(event['data']);\n",
       "    }\n",
       "    function toolbar_mouse_event(event) {\n",
       "        return fig.toolbar_button_onmouseover(event['data']);\n",
       "    }\n",
       "\n",
       "    for(var toolbar_ind in mpl.toolbar_items){\n",
       "        var name = mpl.toolbar_items[toolbar_ind][0];\n",
       "        var tooltip = mpl.toolbar_items[toolbar_ind][1];\n",
       "        var image = mpl.toolbar_items[toolbar_ind][2];\n",
       "        var method_name = mpl.toolbar_items[toolbar_ind][3];\n",
       "\n",
       "        if (!name) { continue; };\n",
       "\n",
       "        var button = $('<button class=\"btn btn-default\" href=\"#\" title=\"' + name + '\"><i class=\"fa ' + image + ' fa-lg\"></i></button>');\n",
       "        button.click(method_name, toolbar_event);\n",
       "        button.mouseover(tooltip, toolbar_mouse_event);\n",
       "        nav_element.append(button);\n",
       "    }\n",
       "\n",
       "    // Add the status bar.\n",
       "    var status_bar = $('<span class=\"mpl-message\" style=\"text-align:right; float: right;\"/>');\n",
       "    nav_element.append(status_bar);\n",
       "    this.message = status_bar[0];\n",
       "\n",
       "    // Add the close button to the window.\n",
       "    var buttongrp = $('<div class=\"btn-group inline pull-right\"></div>');\n",
       "    var button = $('<button class=\"btn btn-mini btn-primary\" href=\"#\" title=\"Stop Interaction\"><i class=\"fa fa-power-off icon-remove icon-large\"></i></button>');\n",
       "    button.click(function (evt) { fig.handle_close(fig, {}); } );\n",
       "    button.mouseover('Stop Interaction', toolbar_mouse_event);\n",
       "    buttongrp.append(button);\n",
       "    var titlebar = this.root.find($('.ui-dialog-titlebar'));\n",
       "    titlebar.prepend(buttongrp);\n",
       "}\n",
       "\n",
       "mpl.figure.prototype._root_extra_style = function(el){\n",
       "    var fig = this\n",
       "    el.on(\"remove\", function(){\n",
       "\tfig.close_ws(fig, {});\n",
       "    });\n",
       "}\n",
       "\n",
       "mpl.figure.prototype._canvas_extra_style = function(el){\n",
       "    // this is important to make the div 'focusable\n",
       "    el.attr('tabindex', 0)\n",
       "    // reach out to IPython and tell the keyboard manager to turn it's self\n",
       "    // off when our div gets focus\n",
       "\n",
       "    // location in version 3\n",
       "    if (IPython.notebook.keyboard_manager) {\n",
       "        IPython.notebook.keyboard_manager.register_events(el);\n",
       "    }\n",
       "    else {\n",
       "        // location in version 2\n",
       "        IPython.keyboard_manager.register_events(el);\n",
       "    }\n",
       "\n",
       "}\n",
       "\n",
       "mpl.figure.prototype._key_event_extra = function(event, name) {\n",
       "    var manager = IPython.notebook.keyboard_manager;\n",
       "    if (!manager)\n",
       "        manager = IPython.keyboard_manager;\n",
       "\n",
       "    // Check for shift+enter\n",
       "    if (event.shiftKey && event.which == 13) {\n",
       "        this.canvas_div.blur();\n",
       "        event.shiftKey = false;\n",
       "        // Send a \"J\" for go to next cell\n",
       "        event.which = 74;\n",
       "        event.keyCode = 74;\n",
       "        manager.command_mode();\n",
       "        manager.handle_keydown(event);\n",
       "    }\n",
       "}\n",
       "\n",
       "mpl.figure.prototype.handle_save = function(fig, msg) {\n",
       "    fig.ondownload(fig, null);\n",
       "}\n",
       "\n",
       "\n",
       "mpl.find_output_cell = function(html_output) {\n",
       "    // Return the cell and output element which can be found *uniquely* in the notebook.\n",
       "    // Note - this is a bit hacky, but it is done because the \"notebook_saving.Notebook\"\n",
       "    // IPython event is triggered only after the cells have been serialised, which for\n",
       "    // our purposes (turning an active figure into a static one), is too late.\n",
       "    var cells = IPython.notebook.get_cells();\n",
       "    var ncells = cells.length;\n",
       "    for (var i=0; i<ncells; i++) {\n",
       "        var cell = cells[i];\n",
       "        if (cell.cell_type === 'code'){\n",
       "            for (var j=0; j<cell.output_area.outputs.length; j++) {\n",
       "                var data = cell.output_area.outputs[j];\n",
       "                if (data.data) {\n",
       "                    // IPython >= 3 moved mimebundle to data attribute of output\n",
       "                    data = data.data;\n",
       "                }\n",
       "                if (data['text/html'] == html_output) {\n",
       "                    return [cell, data, j];\n",
       "                }\n",
       "            }\n",
       "        }\n",
       "    }\n",
       "}\n",
       "\n",
       "// Register the function which deals with the matplotlib target/channel.\n",
       "// The kernel may be null if the page has been refreshed.\n",
       "if (IPython.notebook.kernel != null) {\n",
       "    IPython.notebook.kernel.comm_manager.register_target('matplotlib', mpl.mpl_figure_comm);\n",
       "}\n"
      ],
      "text/plain": [
       "<IPython.core.display.Javascript object>"
      ]
     },
     "metadata": {},
     "output_type": "display_data"
    },
    {
     "data": {
      "text/html": [
       "<img src=\"data:image/png;base64,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\" width=\"799.3333333333334\">"
      ],
      "text/plain": [
       "<IPython.core.display.HTML object>"
      ]
     },
     "metadata": {},
     "output_type": "display_data"
    },
    {
     "data": {
      "application/vnd.jupyter.widget-view+json": {
       "model_id": "c607879a2149479bb9d839957364b86b",
       "version_major": 2,
       "version_minor": 0
      },
      "text/plain": [
       "Button(button_style='info', description='Play Memory Game', layout=Layout(height='60px', width='30%'), style=B…"
      ]
     },
     "metadata": {},
     "output_type": "display_data"
    },
    {
     "data": {
      "application/vnd.jupyter.widget-view+json": {
       "model_id": "a870ba5b1a3a4655918e3b96f353252e",
       "version_major": 2,
       "version_minor": 0
      },
      "text/plain": [
       "HBox(children=(RadioButtons(description='1)', options=('Melting', 'Freezing', 'Condensation', 'Vaporization', …"
      ]
     },
     "metadata": {},
     "output_type": "display_data"
    },
    {
     "data": {
      "application/vnd.jupyter.widget-view+json": {
       "model_id": "e98753671a904f3fb3714c17f8b24a54",
       "version_major": 2,
       "version_minor": 0
      },
      "text/plain": [
       "HBox(children=(RadioButtons(description='4)', options=('Melting', 'Freezing', 'Condensation', 'Vaporization', …"
      ]
     },
     "metadata": {},
     "output_type": "display_data"
    },
    {
     "data": {
      "application/vnd.jupyter.widget-view+json": {
       "model_id": "b76fdeee242447309ff00ba3584f5a56",
       "version_major": 2,
       "version_minor": 0
      },
      "text/plain": [
       "Button(button_style='info', description='Check your answers', layout=Layout(height='60px', width='30%'), style…"
      ]
     },
     "metadata": {},
     "output_type": "display_data"
    },
    {
     "data": {
      "application/vnd.jupyter.widget-view+json": {
       "model_id": "ab2bd9333b694b56aee20d3fd97d4ce8",
       "version_major": 2,
       "version_minor": 0
      },
      "text/plain": [
       "Output()"
      ]
     },
     "metadata": {},
     "output_type": "display_data"
    }
   ],
   "source": [
    "%matplotlib notebook\n",
    "\n",
    "#Memory game for state transitions\n",
    "import random\n",
    "\n",
    "x = [470,550,810,810,1100,1180]\n",
    "y = [550,550,835,905,550,550]\n",
    "\n",
    "img = plt.imread(\"images/changes_of_state.png\")\n",
    "fig, ax = plt.subplots(figsize = (8,8), num = 'Changes of State of Water')\n",
    "ax.imshow(img)\n",
    "\n",
    "\n",
    "annot = ax.annotate(\"\", xy=(0,0), xytext=(30,30),textcoords=\"offset points\",\n",
    "                    bbox=dict(boxstyle=\"round\", fc=\"w\"),\n",
    "                    arrowprops=dict(arrowstyle=\"->\"))\n",
    "annot.set_visible(False)\n",
    "\n",
    "\n",
    "names = ['Melting','Freezing','Condensation','Vaporization','Deposition','Sublimation']\n",
    "\n",
    "norm = plt.Normalize(1,4)\n",
    "cmap = plt.cm.RdYlGn\n",
    "sc = plt.scatter(x,y,c = 'k', marker = 's', alpha = 1, s = 250)\n",
    "\n",
    "annot = ax.annotate(\"\", xy=(0,0), xytext=(30,30),textcoords=\"offset points\",\n",
    "                    bbox=dict(boxstyle=\"round\", fc=\"w\"),\n",
    "                    arrowprops=dict(arrowstyle=\"->\"))\n",
    "annot.set_visible(False)\n",
    "\n",
    "def update_annot(ind):\n",
    "\n",
    "    pos = sc.get_offsets()[ind[\"ind\"][0]]\n",
    "    annot.xy = pos\n",
    "    text = \"{}\".format(\" \".join([names[n] for n in ind[\"ind\"]]))\n",
    "    annot.set_text(text)\n",
    "    annot.get_bbox_patch().set_alpha(1)\n",
    "\n",
    "\n",
    "def hover(event):\n",
    "    vis = annot.get_visible()\n",
    "    if event.inaxes == ax:\n",
    "        cont, ind = sc.contains(event)\n",
    "        if cont:\n",
    "            update_annot(ind)\n",
    "            annot.set_visible(True)\n",
    "            fig.canvas.draw_idle()\n",
    "        else:\n",
    "            if vis:\n",
    "                annot.set_visible(False)\n",
    "                fig.canvas.draw_idle()\n",
    "\n",
    "fig.canvas.mpl_connect(\"motion_notify_event\", hover)\n",
    "\n",
    "fig.patch.set_visible(False)\n",
    "ax.axis('off')\n",
    "plt.show()\n",
    "\n",
    "memgame = widgets.Button(description= \"Play Memory Game\", \n",
    "                         layout = Layout(width='30%', height='60px'),\n",
    "                         button_style = 'info'\n",
    "                        )\n",
    "reset = widgets.Button(description=\"Reset Game\", \n",
    "                       layout = Layout(width='30%', height='60px'),\n",
    "                       button_style = 'info'\n",
    "                      )\n",
    "\n",
    "display(memgame)\n",
    "\n",
    "a1 = widgets.RadioButtons(\n",
    "options=['Melting','Freezing','Condensation','Vaporization','Deposition','Sublimation'],\n",
    "description = '1)',\n",
    "value = None,\n",
    "disabled=False)\n",
    "a2 = widgets.RadioButtons(\n",
    "options=['Melting','Freezing','Condensation','Vaporization','Deposition','Sublimation'],\n",
    "description = '2)',\n",
    "value = None,\n",
    "disabled=False)\n",
    "a3 = widgets.RadioButtons(\n",
    "options=['Melting','Freezing','Condensation','Vaporization','Deposition','Sublimation'],\n",
    "description = '3)',\n",
    "value = None,\n",
    "disabled=False)\n",
    "a4 = widgets.RadioButtons(\n",
    "options=['Melting','Freezing','Condensation','Vaporization','Deposition','Sublimation'],\n",
    "description = '4)',\n",
    "value = None,\n",
    "disabled=False)\n",
    "a5 = widgets.RadioButtons(\n",
    "options=['Melting','Freezing','Condensation','Vaporization','Deposition','Sublimation'],\n",
    "description = '5)',\n",
    "value = None,\n",
    "disabled=False)\n",
    "a6 = widgets.RadioButtons(\n",
    "options=['Melting','Freezing','Condensation','Vaporization','Deposition','Sublimation'],\n",
    "description = '6)',\n",
    "value = None,\n",
    "disabled=False)\n",
    "\n",
    "Qs1to3 = widgets.HBox([a1,a2,a3])\n",
    "Qs4to6 = widgets.HBox([a4,a5,a6])\n",
    "button_check = widgets.Button(description=\"Check your answers\", \n",
    "                        layout = Layout(width='30%', height='60px'),\n",
    "                        button_style = 'info'\n",
    ")\n",
    "\n",
    "def button_onclick(b):\n",
    "    annot.remove()\n",
    "    x = [470,550,810,810,1100,1180]\n",
    "    y = [550,550,835,905,550,550]\n",
    "    ax.axis('off')\n",
    "    plt.scatter(x,y,c = 'k', marker = 's', alpha = 1, s = 250)\n",
    "    a = [1,2,3,4,5,6]\n",
    "    corr = 10  #small correction on number\n",
    "    random.shuffle(a)\n",
    "    for i,j,k in zip(x,y,a):\n",
    "        ax.annotate(str(k), xy = (i-corr,j+corr), color = 'w')\n",
    "\n",
    "    display(Qs1to3)\n",
    "    display(Qs4to6)\n",
    "\n",
    "    display(button_check)\n",
    "    output0 = widgets.Output()\n",
    "    def check_button(x):\n",
    "        output0.clear_output()\n",
    "        if a1.value == names[a.index(1)] and a2.value == names[a.index(2)] and a3.value == names[a.index(3)] \\\n",
    "        and a4.value == names[a.index(4)] and a5.value == names[a.index(5)] and a6.value == names[a.index(6)]:\n",
    "            display(Markdown(\"Correct!\"))\n",
    "            display(play_again)\n",
    "        else:   \n",
    "            inc = []\n",
    "            answers = [a1.value,a2.value,a3.value,a4.value,a5.value,a6.value]\n",
    "            for i in range(len(answers)):\n",
    "                if answers[i] != names[a.index(i+1)]:\n",
    "                    inc.append(\"Incorrect\")\n",
    "                else:\n",
    "                    inc.append(\"Correct\")\n",
    "                \n",
    "            \n",
    "            output0.append_display_data(Latex(\"Those aren't quite correct, please try again.\"))\n",
    "            output0.append_display_data(Latex(\"1. %s, 2. %s, 3. %s, 4. %s, 5. %s, 6. %s\" %tuple(inc[:])))\n",
    "    display(output0)\n",
    "    button_check.on_click(check_button)\n",
    "                    \n",
    "        \n",
    "memgame.on_click(button_onclick)\n",
    "\n",
    "play_again = widgets.Button(description = \"Play Again\",\n",
    "                            layout = Layout(width='30%', height='60px'),\n",
    "                            button_style = 'info'\n",
    "                           )\n",
    "\n",
    "def joue_encore(x):\n",
    "    clear_output()\n",
    "    img = plt.imread(\"images/changes_of_state.png\")\n",
    "    fig, ax = plt.subplots(figsize = (8,8))\n",
    "    ax.imshow(img)\n",
    "    x = [470,550,810,810,1100,1180]\n",
    "    y = [550,550,835,905,550,550]\n",
    "    ax.axis('off')\n",
    "    plt.scatter(x,y,c = 'k', marker = 's', alpha = 0, s = 250 )\n",
    "    a = [1,2,3,4,5,6]\n",
    "    corr = 10  #small correction on number\n",
    "    random.shuffle(a)\n",
    "    for i,j,k in zip(x,y,a):\n",
    "        ax.annotate(str(k), xy = (i-corr,j+corr), color = 'w')\n",
    "\n",
    "    display(Qs1to3)\n",
    "    display(Qs4to6)\n",
    "    button_check = widgets.Button(description=\"Check your answers\", \n",
    "                            layout = Layout(width='30%', height='60px'),\n",
    "                            button_style = 'info'\n",
    "                           )\n",
    "    display(button_check)\n",
    "    output= widgets.Output()\n",
    "    def check_button(x):\n",
    "        output.clear_output()\n",
    "        if a1.value == names[a.index(1)] and a2.value == names[a.index(2)] and a3.value == names[a.index(3)] \\\n",
    "        and a4.value == names[a.index(4)] and a5.value == names[a.index(5)] and a6.value == names[a.index(6)]:\n",
    "            display(Markdown(\"Correct!\"))\n",
    "            display(play_again)\n",
    "        else:   \n",
    "            inc = []\n",
    "            answers = [a1.value,a2.value,a3.value,a4.value,a5.value,a6.value]\n",
    "            for i in range(len(answers)):\n",
    "                if answers[i] != names[a.index(i+1)]:\n",
    "                    inc.append(\"Incorrect\")\n",
    "                else:\n",
    "                    inc.append(\"Correct\")\n",
    "                \n",
    "            output.append_display_data(Latex(\"Those aren't quite correct, please try again.\"))\n",
    "            output.append_display_data(Latex(\"1. %s, 2. %s, 3. %s, 4. %s, 5. %s, 6. %s\" %tuple(inc[:])))\n",
    "    dipslay(output)\n",
    "    button_check.on_click(check_button)\n",
    "\n",
    "play_again.on_click(joue_encore) "
   ]
  },
  {
   "cell_type": "markdown",
   "metadata": {
    "hidden": false
   },
   "source": [
    "### <center>Visualizing the changes of state</center>\n",
    "\n",
    "Below is an interactive animation on the changes of state for *water*. Move the slider to change the temperature of the particles in the box below. Observe where the changes of state occur and how the particles gain more kinetic energy as the temperature increases."
   ]
  },
  {
   "cell_type": "code",
   "execution_count": 7,
   "metadata": {
    "hidden": false
   },
   "outputs": [
    {
     "data": {
      "text/html": [
       "\n",
       "<div style=\"text-align: center\">\n",
       "    <iframe width=\"500px\" height=\"420px\" src=\"animations/changes_of_state.html\" frameborder=\"0\"></iframe>\n",
       "</div>\n",
       "         \n"
      ],
      "text/plain": [
       "<IPython.core.display.HTML object>"
      ]
     },
     "metadata": {},
     "output_type": "display_data"
    }
   ],
   "source": [
    "%%html\n",
    "\n",
    "<div style=\"text-align: center\">\n",
    "    <iframe width=\"500px\" height=\"420px\" src=\"animations/changes_of_state.html\" frameborder=\"0\"></iframe>\n",
    "</div>\n",
    "         "
   ]
  },
  {
   "cell_type": "markdown",
   "metadata": {
    "hidden": false
   },
   "source": [
    "# <center> How is Heat Transmitted?</center>\n",
    "There are three main methods by which heat is transmitted: conduction, convection and radiation. Below we present the basic theory behind these methods of heat transfer and some applications of how we use them to improve our lives. Examples will be provided where we analyze how the three different methods of heat transmission occur in natural processes. "
   ]
  },
  {
   "cell_type": "markdown",
   "metadata": {
    "hidden": false
   },
   "source": [
    "## 1. Conduction\n",
    "Heat transfer via **conduction** occurs when two bodies, with different temperatures, are in physical contact with each other. Conduction is how a stove top heats a pan or why a hot cup feels warm on your hand. Different materials conduct heat faster or slower. The conductivity of material also depends on what state it is in. These differences are expressed by a material property known as the ***thermal conductivity***. \n",
    "\n",
    "<img src = \"images/thermal_conductivity.jpg\" width =\"480\" height=\"480\" style = \"border-radius: 8px;\">\n",
    "\n",
    "\n",
    "\n",
    "\n",
    "This graphic provides an visual interpretion of the heat flow, denoted as $\\rm Q$ between two bodies in contact at surface $\\rm A$ with temperatures $\\rm T_1$ and $\\rm T_2$. Let's explore how thermal conductivity changes in different materials.\n",
    "\n",
    "### Thermal Conductivity\n",
    "\n",
    "Materials with low thermal conductivity transfer heat slowly and materials with high conductivity transfer heat quickly. Can you think of some benefits of using materials with different a thermal conductivity for commercial use? \n",
    "\n",
    "For example, consider a to-go mug. The whole purpose of this product is to keep the contained drink warm or cold. If the drink is warm, the contents will be warmer than the mug itself. They will then exchange heat to the body of the mug via conduction. If the drink is cold then the mug will transfer heat to the contents. In each case the mug is in contact with the external environment; the air outside or your hand. The environment itself, depending on its temperature, will either transfer heat to or gain heat from the mug. Since this additional heat transfer is on going, eventually the mug and the drink inside will reach the same temperature as the outside environment.\n",
    "\n",
    "In either case, one would want the mug to have a low *thermal conductivity* so that it does not easily exchange heat with its environment. This will preserve the temperature of its contents. Below is an interesting video from Veritasium illustrating how conduction occurs differently in different materials. \n",
    "\n",
    "If you haven't heard of Veritasium before, I strongly encourage you to check the YouTube channel out. He explains a lot of topics in science and there's always something new to learn from each video."
   ]
  },
  {
   "cell_type": "code",
   "execution_count": 8,
   "metadata": {
    "hidden": false,
    "scrolled": true,
    "slideshow": {
     "slide_type": "fragment"
    }
   },
   "outputs": [
    {
     "data": {
      "text/html": [
       "<div style=\"text-align: center\">\n",
       "<iframe width=\"560\" height=\"315\" src=\"https://www.youtube.com/embed/vqDbMEdLiCs\" frameborder=\"0\" allow=\"autoplay; encrypted-media\" allowfullscreen></iframe>\n",
       "</div>\n"
      ],
      "text/plain": [
       "<IPython.core.display.HTML object>"
      ]
     },
     "metadata": {},
     "output_type": "display_data"
    }
   ],
   "source": [
    "%%html\n",
    "<div style=\"text-align: center\">\n",
    "<iframe width=\"560\" height=\"315\" src=\"https://www.youtube.com/embed/vqDbMEdLiCs\" frameborder=\"0\" allow=\"autoplay; encrypted-media\" allowfullscreen></iframe>\n",
    "</div>"
   ]
  },
  {
   "cell_type": "markdown",
   "metadata": {
    "hidden": false
   },
   "source": [
    "## 2. Convection\n",
    "\n",
    "Heat transfer via **convection** occurs due to the movement of molecules in a fluid (gas or liquid). Convection is perhaps the most intuitive method of heat transfer. Since it involves the flow of a gas or liquid from a warmer to a colder temperature within the fluid, it is easy to visualize. Convection does not occur in solid materials because the molecules that make up a solid do not have the ability to flow; this is what makes a solid a solid. Not unlike conduction, convection occurs from the flow of heat energy due a temperature difference within a fluid. The hotter fluid flows to regions where the fluid is cooler. It is the process which governs the currents in our oceans and the movement of air in our atmosphere. Our understanding of convection has helped us forecast the weather and even explain how energy is transported within the sun!\n",
    "\n",
    "---\n",
    "**Why does the movement occur?**\n",
    "\n",
    "If we consider the particle model of matter, the fluid moves due to changes in **kinetic energy** of the particles in the fluid. The hotter regions in the fluid, the ones with more heat energy, have more \"excited\" particles that are colliding into one another more frequently. These regions are less **dense** than the colder regions. In the colder regions, the particles are colliding into one another less frequently therefore they do not spread out as much. Since there are less collisions, the particles are more concentrated in the colder region. These more dense and concentrated regions in the fluid are heavier since they have more particles in them. The cold, heavier regions will sink; allowing for the hotter regions to rise. Convection is the reason why \"heat rises\" in a room. \n",
    "\n",
    "---\n",
    "**Examples of convective processes**\n",
    "\n",
    "\n",
    "- In a pot filled with water on the stove, we observe convective heat transfer in the bubbles rising to the top of the pot. These are hotter, *lense dense* regions rising to the surface of the liquid. When these regions reach the point the that they are lense dense than the surrounding air, they will evaporate and undergo a transition of state from liquid to gas. \n",
    "\n",
    "<img src=\"images/pot_boiling.png\" width = \"400\" height = \"400\" style = \"border-radius: 8px;\">\n",
    "\n",
    "\n",
    "- In stars, there is a zone in which energy is transported from the core of the star, where energy is produced by nuclear fusion, to the surface. This is known as the *convective zone*. Due to the complicated nature of energy transportation within stars, this proces is difficult to model and the subject of ongoing research within the field of stellar astrophysics. Understanding convection has helped astrophysicists know more about our sun and other stars like it!\n",
    "\n",
    "<img src = \"images/convectioninstarsdata.jpg\" width=\"400\" height=\"400\" style = \"border-radius: 8px;\">\n",
    "\n",
    "\n",
    "- In the atmosphere, convection plays a major role in the creation of a thunderstorm. Clouds form as hotter air rises, carrying moisture with them. The air cools on its ascent, causing the moisture to condense. If the air is unstable enough, this process can occur for a longer time. This results in the formation of \"cumulonimbus clouds\", which are those very tall pillowy clouds that often produce thunder and lightning. Given enough moisture, instability in the air and convection (heat transfer), a thuderstorm is likely to occur. \n",
    "\n",
    "<img src = \"images/convectioninthunderstorms.jpg\" width = \"500\" height = \"500\" style = \"border-radius: 8px;\">\n",
    "\n",
    "---"
   ]
  },
  {
   "cell_type": "markdown",
   "metadata": {
    "hidden": false
   },
   "source": [
    "## 3. Radiation\n",
    "\n",
    "Radiation is our third and final form of heat transfer to discuss. Heat transfer via radiation occurs in all matter that has a temperature above absolute 0 (0 Kelvin). It occurs from a conversion of thermal energy into *electromagnetic energy*. Energy is \"radiated\" away from a body in the form of \"light\". This light varies in wavelength and is dependent on the temperature of the body; hotter objects emit radiation at shorter wavelengths that carry higher energy. For example, in a fire, you may have heard how the blue part of a fire is hotter than the red part. This is true and is due to the fact that blue light has a shorter wavelength than red light, and since the wavelength is dependent on the temperature of the material emmitting it, the blue portion of a fire is hotter. \n",
    "\n",
    "An interesting consequence of this fact comes from the analysis of the wavelengths of light radiated from the sun. Below is graphic showing the types of radiation emitted from the sun.\n",
    "\n",
    "\n",
    "<img src = \"images/earth_sun_plank.jpg\" width = \"400\" height =\"400\" style = \"border-radius: 8px;\">\n",
    "\n",
    "\n",
    "The most intensely radiated wavelength from the sun comes from the green part of visible light. Plants, trees, and even our eyes have become fine tuned to absorbing and perceiving more variations of the colour green because this is the most prominent radiation from the sun. Understanding thermal radiation has offered a scientific explanation for why our planet is so green. \n",
    "\n",
    "---\n",
    "Exercises \n",
    "---\n",
    "Below a list of processes in which heat transfer occurs in different forms. You will be asked to check the box for which type of heat transfer you think is correct to match the description. Press \"Check Answer\" to see if you were correct!\n",
    "\n",
    "## <center>Boiling Water </center>\n",
    "\n",
    "<img src=\"images/Boiling_Water_pic.jpg\" height = \"400\" width = \"400\" style = \"border-radius: 8px;\"/> \n",
    "\n",
    "\n",
    "---"
   ]
  },
  {
   "cell_type": "code",
   "execution_count": 9,
   "metadata": {
    "hidden": false
   },
   "outputs": [
    {
     "data": {
      "text/markdown": [
       "1) After you turn on the stove, you hold your hand above the stove and it feels hot."
      ],
      "text/plain": [
       "<IPython.core.display.Markdown object>"
      ]
     },
     "metadata": {},
     "output_type": "display_data"
    },
    {
     "data": {
      "application/vnd.jupyter.widget-view+json": {
       "model_id": "697a62cb883d4e53ac72c291a5565564",
       "version_major": 2,
       "version_minor": 0
      },
      "text/plain": [
       "RadioButtons(options=('Conduction', 'Convection', 'Radiation'), value=None)"
      ]
     },
     "metadata": {},
     "output_type": "display_data"
    },
    {
     "data": {
      "text/markdown": [
       "2) The pot starts to heat up when placed on the stove."
      ],
      "text/plain": [
       "<IPython.core.display.Markdown object>"
      ]
     },
     "metadata": {},
     "output_type": "display_data"
    },
    {
     "data": {
      "application/vnd.jupyter.widget-view+json": {
       "model_id": "1eefac4c1075415bacd2cd4fc5dfca9d",
       "version_major": 2,
       "version_minor": 0
      },
      "text/plain": [
       "RadioButtons(options=('Conduction', 'Convection', 'Radiation'), value=None)"
      ]
     },
     "metadata": {},
     "output_type": "display_data"
    },
    {
     "data": {
      "text/markdown": [
       "3) Hot water rises to the surface of the pot."
      ],
      "text/plain": [
       "<IPython.core.display.Markdown object>"
      ]
     },
     "metadata": {},
     "output_type": "display_data"
    },
    {
     "data": {
      "application/vnd.jupyter.widget-view+json": {
       "model_id": "2e41b5eec72145848b03b2148884a55b",
       "version_major": 2,
       "version_minor": 0
      },
      "text/plain": [
       "RadioButtons(options=('Conduction', 'Convection', 'Radiation'), value=None)"
      ]
     },
     "metadata": {},
     "output_type": "display_data"
    },
    {
     "data": {
      "text/markdown": [
       "4) Steam from the pot feels hot on your hand. (Somewhat tricky)"
      ],
      "text/plain": [
       "<IPython.core.display.Markdown object>"
      ]
     },
     "metadata": {},
     "output_type": "display_data"
    },
    {
     "data": {
      "application/vnd.jupyter.widget-view+json": {
       "model_id": "ac48720fac384fbfb992cd172bdaeac4",
       "version_major": 2,
       "version_minor": 0
      },
      "text/plain": [
       "RadioButtons(options=('Conduction', 'Convection', 'Radiation'), value=None)"
      ]
     },
     "metadata": {},
     "output_type": "display_data"
    },
    {
     "data": {
      "application/vnd.jupyter.widget-view+json": {
       "model_id": "ebd86fe1bc124c57b47efff99c7590b9",
       "version_major": 2,
       "version_minor": 0
      },
      "text/plain": [
       "Button(button_style='info', description='Check your answers', layout=Layout(height='60px', width='30%'), style…"
      ]
     },
     "metadata": {},
     "output_type": "display_data"
    },
    {
     "data": {
      "application/vnd.jupyter.widget-view+json": {
       "model_id": "3fd3e786753047b69e7fae957a3c7447",
       "version_major": 2,
       "version_minor": 0
      },
      "text/plain": [
       "Output()"
      ]
     },
     "metadata": {},
     "output_type": "display_data"
    }
   ],
   "source": [
    "a1 = widgets.RadioButtons(\n",
    "    options=['Conduction', 'Convection', 'Radiation'],\n",
    "    disabled=False,\n",
    "    value = None,\n",
    "    continuous_update=True\n",
    ")\n",
    "a2 = widgets.RadioButtons(\n",
    "    options=['Conduction', 'Convection', 'Radiation'],\n",
    "    disabled=False,\n",
    "    value = None,\n",
    "    continuous_update=True\n",
    ")\n",
    "a3 = widgets.RadioButtons(\n",
    "    options=['Conduction', 'Convection', 'Radiation'],\n",
    "    disabled=False,\n",
    "    value = None,\n",
    "    continuous_update=True\n",
    ")\n",
    "a4 = widgets.RadioButtons(\n",
    "    options=['Conduction', 'Convection', 'Radiation'],\n",
    "    disabled=False,\n",
    "    value = None,\n",
    "    continuous_update=True\n",
    ")\n",
    "\n",
    "#create a button widget to check answers, again calling the button to display\n",
    "button_check = widgets.Button(description=\"Check your answers\",\n",
    "                              layout = Layout(width='30%', height='60px'),\n",
    "                              button_style = 'info'\n",
    "                             )\n",
    "\n",
    "\n",
    "#compare answers to responses\n",
    "def compare(l1,l2):\n",
    "    a = []\n",
    "    for i in range(0,min(len(l1),len(l2))):\n",
    "        if l1[i] == l2[i]:\n",
    "            a.append(1)\n",
    "        else:\n",
    "            a.append(0)\n",
    "    return a\n",
    "\n",
    "ans1 = ['Radiation', 'Conduction', 'Convection', 'Conduction']\n",
    "\n",
    "out = widgets.Output()\n",
    "\n",
    "def check_button(event):\n",
    "\n",
    "    out.clear_output()\n",
    "    rs1 = [a1.value, a2.value, a3.value, a4.value]\n",
    "\n",
    "    if  rs1 == ans1:\n",
    "        out.append_display_data(Markdown(\"Correct! Here's why : </br></br> \\\n",
    "                          1. The stove top heats up and radiates energy away from it. This is what you feels in your hand as heat. </br> \\\n",
    "                          2. The stove top conducts heat to the pot since they are in physical contact with one another. </br> \\\n",
    "                          3. Heat is transferred by fluid motion within the water via convection. </br> \\\n",
    "                          4. The gas particles carry heat energy, in the form of kinetic energy, which gets transferred via physical contact with your hand and the steam. </br> \\\n",
    "                             Since the heat transfer occurs via physical contact, the process responsible for the heat transfer is conduction. \"))\n",
    "    else:  \n",
    "        bien = compare(rs1,ans1)\n",
    "        h = []\n",
    "        for i in bien:\n",
    "            if i == 0:\n",
    "                h.append('Incorrect')\n",
    "            if i == 1:\n",
    "                h.append('Correct')\n",
    "\n",
    "        s = \"Those aren't quite correct, please try again.\"\n",
    "        corrections = \"1. %s, 2. %s, 3. %s, 4. %s\" %(h[0],h[1],h[2],h[3])\n",
    "        out.append_display_data(Latex(s))\n",
    "        out.append_display_data(Latex(corrections))\n",
    "        \n",
    "button_check.on_click(check_button)\n",
    "\n",
    "display(Markdown('1) After you turn on the stove, you hold your hand above the stove and it feels hot.'))\n",
    "display(a1)\n",
    "display(Markdown('2) The pot starts to heat up when placed on the stove.'))\n",
    "display(a2)\n",
    "display(Markdown('3) Hot water rises to the surface of the pot.'))\n",
    "display(a3)\n",
    "display(Markdown('4) Steam from the pot feels hot on your hand. (Somewhat tricky)'))\n",
    "display(a4)\n",
    "\n",
    "display(button_check) \n",
    "display(out)\n"
   ]
  },
  {
   "cell_type": "markdown",
   "metadata": {
    "hidden": false
   },
   "source": [
    "## <center>Refrigerator</center>\n",
    "\n",
    "<img src=\"images/fridge.jpg\" height = \"300\" width=\"300\">\n",
    "\n"
   ]
  },
  {
   "cell_type": "code",
   "execution_count": 10,
   "metadata": {
    "hidden": false,
    "scrolled": false
   },
   "outputs": [
    {
     "data": {
      "text/markdown": [
       "1) Hot air is pumped out of the food compartment"
      ],
      "text/plain": [
       "<IPython.core.display.Markdown object>"
      ]
     },
     "metadata": {},
     "output_type": "display_data"
    },
    {
     "data": {
      "application/vnd.jupyter.widget-view+json": {
       "model_id": "e4ff393bbfff4de9ae173c81050f92e5",
       "version_major": 2,
       "version_minor": 0
      },
      "text/plain": [
       "RadioButtons(options=('Conduction', 'Convection', 'Radiation'), value=None)"
      ]
     },
     "metadata": {},
     "output_type": "display_data"
    },
    {
     "data": {
      "text/markdown": [
       "2)  You grab a cold popsicle out of the refrigerator. It feels cold on your hand."
      ],
      "text/plain": [
       "<IPython.core.display.Markdown object>"
      ]
     },
     "metadata": {},
     "output_type": "display_data"
    },
    {
     "data": {
      "application/vnd.jupyter.widget-view+json": {
       "model_id": "ffc2366c56374864988f8a8875f80205",
       "version_major": 2,
       "version_minor": 0
      },
      "text/plain": [
       "RadioButtons(options=('Conduction', 'Convection', 'Radiation'), value=None)"
      ]
     },
     "metadata": {},
     "output_type": "display_data"
    },
    {
     "data": {
      "text/markdown": [
       "3) How did the popsicle get cold? How did it transfer heat energy while sitting in the refrigerator?"
      ],
      "text/plain": [
       "<IPython.core.display.Markdown object>"
      ]
     },
     "metadata": {},
     "output_type": "display_data"
    },
    {
     "data": {
      "application/vnd.jupyter.widget-view+json": {
       "model_id": "d956d4f8597342baae75c490a497949d",
       "version_major": 2,
       "version_minor": 0
      },
      "text/plain": [
       "RadioButtons(options=('Conduction', 'Convection', 'Radiation'), value=None)"
      ]
     },
     "metadata": {},
     "output_type": "display_data"
    },
    {
     "data": {
      "text/markdown": [
       "4) You open the refrigerator door and it feels cold inside."
      ],
      "text/plain": [
       "<IPython.core.display.Markdown object>"
      ]
     },
     "metadata": {},
     "output_type": "display_data"
    },
    {
     "data": {
      "application/vnd.jupyter.widget-view+json": {
       "model_id": "ab1f788d1b1f4a389e8d1432811adc18",
       "version_major": 2,
       "version_minor": 0
      },
      "text/plain": [
       "RadioButtons(options=('Conduction', 'Convection', 'Radiation'), value=None)"
      ]
     },
     "metadata": {},
     "output_type": "display_data"
    },
    {
     "data": {
      "application/vnd.jupyter.widget-view+json": {
       "model_id": "38b5b70839174f44a5c9ba779a1d32fc",
       "version_major": 2,
       "version_minor": 0
      },
      "text/plain": [
       "Button(button_style='info', description='Check your answers', layout=Layout(height='60px', width='30%'), style…"
      ]
     },
     "metadata": {},
     "output_type": "display_data"
    },
    {
     "data": {
      "application/vnd.jupyter.widget-view+json": {
       "model_id": "0098ddf3efb444639b42b45c09c02485",
       "version_major": 2,
       "version_minor": 0
      },
      "text/plain": [
       "Output()"
      ]
     },
     "metadata": {},
     "output_type": "display_data"
    }
   ],
   "source": [
    "display(Markdown('1) Hot air is pumped out of the food compartment'))\n",
    "\n",
    "a1 = widgets.RadioButtons(\n",
    "    options=['Conduction', 'Convection', 'Radiation'],\n",
    "    value = None,\n",
    "    disabled=False\n",
    ")\n",
    "\n",
    "display(a1)\n",
    "\n",
    "display(Markdown('2)  You grab a cold popsicle out of the refrigerator. It feels cold on your hand.'))\n",
    "\n",
    "a2 = widgets.RadioButtons(\n",
    "    options=['Conduction', 'Convection', 'Radiation'],\n",
    "    value = None,\n",
    "    disabled=False\n",
    ")\n",
    "\n",
    "display(a2)\n",
    "\n",
    "display(Markdown('3) How did the popsicle get cold? How did it transfer heat energy while sitting in the refrigerator?'))\n",
    "\n",
    "a3 = widgets.RadioButtons(\n",
    "    options=['Conduction', 'Convection', 'Radiation'],\n",
    "    value = None,\n",
    "    disabled=False\n",
    ")\n",
    "display(a3)\n",
    "\n",
    "display(Markdown('4) You open the refrigerator door and it feels cold inside.'))\n",
    "\n",
    "a4 = widgets.RadioButtons(\n",
    "    options=['Conduction', 'Convection', 'Radiation'],\n",
    "    value = None,\n",
    "    disabled=False\n",
    ")\n",
    "\n",
    "display(a4)\n",
    "\n",
    "#create a button widget to check answers, again calling the button to display\n",
    "button_check = widgets.Button(description=\"Check your answers\",\n",
    "                              layout = Layout(width='30%', height='60px'),\n",
    "                              button_style = 'info'\n",
    "                             )\n",
    "display(button_check)\n",
    "\n",
    "#Answers to be checked against, third entry should be != Conduction, fourth is != 'Radiation'\n",
    "ans = ['Convection','Conduction', 'Conduction','Radiation']\n",
    "\n",
    "\n",
    "#compare answers to responses\n",
    "def compare(l1,l2):\n",
    "    a = []\n",
    "    for i in range(0,min(len(l1),len(l2))):\n",
    "        if l1[i] == l2[i]:\n",
    "            a.append(1)\n",
    "        else:\n",
    "            a.append(0)\n",
    "    return a\n",
    "\n",
    "outtie = widgets.Output()\n",
    "def check_button(x):\n",
    "    outtie.clear_output()\n",
    "    rs = [a1.value, a2.value, a3.value, a4.value]  #responses\n",
    "    if rs[0] == ans[0]  and rs[1] == ans[1] and rs[2] != ans[2] and rs[3] != ans[3]:\n",
    "        outtie.append_display_data(Markdown(\"Correct! Here's why : </br></br> \\\n",
    "                          1. Hot air flows out of the fridge via convection. </br> \\\n",
    "                          2. Heat is transferred via convection since your hand it hotter than the popsicle. </br> \\\n",
    "                          3. Heat is transferred by radiation or conduction. The food sitting in the refrigerator radiates heat energy and also conducts heat to the colder air within the fridge. </br> \\\n",
    "                          4. Heat is transferred via conduction from your warmer self to the cold air within the refrigerator.\"))\n",
    "    else: \n",
    "        a = compare(rs,ans)\n",
    "        bien = [1,1,0,0] #This is what \"a\" should be\n",
    "        xx = compare(a,bien)\n",
    "        h = []\n",
    "        for i in xx:\n",
    "            if i == 0:\n",
    "                h.append('Incorrect')\n",
    "            if i == 1:\n",
    "                h.append('Correct')\n",
    "                \n",
    "        outtie.append_display_data(Latex(\"Those aren't quite correct, please try again.\"))\n",
    "        outtie.append_display_data(Latex(\"1. %s, 2. %s, 3. %s, 4. %s\" %(h[0],h[1],h[2],h[3])))\n",
    "        \n",
    "button_check.on_click(check_button)\n",
    "display(outtie)\n",
    "\n"
   ]
  },
  {
   "cell_type": "markdown",
   "metadata": {
    "hidden": false
   },
   "source": [
    "# Conclusion\n",
    "---\n",
    "In this Jupyter Notebook you learned about some aspects of the nature of thermal energy. We differentiated between heat and temperature. The particle model was used to describe the effect of heat on matter. You learned about the various modes of heat transfer:\n",
    "- **Conduction**\n",
    "- **Convection**\n",
    "- **Radiation**\n",
    "\n",
    "You also some examples of how these processes are studied in everyday life.\n",
    "You also learned the different changes of state of matter. If you don't feel like you have these memorized, I encourage you to play the memory game a few more times. \n",
    "\n",
    "We exploit thermal energy to improve our daily lives. It is through our understanding of the processes that govern heat that we have been able to do so."
   ]
  },
  {
   "cell_type": "markdown",
   "metadata": {
    "hidden": false
   },
   "source": [
    "**Image References**\n",
    "\n",
    "- conduction :<font size = \"0.5\"> https://www.khanacademy.org/science/physics/thermodynamics/specific-heat-and-heat-transfer/a/what-is-thermal-conductivity </font>\n",
    "- sun: <font size=\"0.5\"> https://phys.org/news/2016-07-astronomers-gain-insight-magnetic-field.html</font>\n",
    "- thunderstorm: <font size = \"0.5\">https://www.britannica.com/science/thunderstorm </font>\n",
    "- boiling pot:  <font size = \"0.5\">https://dr282zn36sxxg.cloudfront.net/datastreams/f-d%3A5f69d56e0b81661f4564d03405f4cd0be18c94afbe66c30f9eb9a17b%2BIMAGE_THUMB_POSTCARD_TINY%2BIMAGE_THUMB_POSTCARD_TINY.</font>\n",
    "- radiation diagram: <font size = \"0.5\"> http://apollo.lsc.vsc.edu/classes/met130/notes/chapter2/plank_e_sun.html </font> "
   ]
  },
  {
   "cell_type": "markdown",
   "metadata": {
    "hidden": false
   },
   "source": [
    "<img src = 'images/Callysto_Notebook-Banners_Bottom.jpg'>"
   ]
  }
 ],
 "metadata": {
  "kernelspec": {
   "display_name": "Python 3",
   "language": "python",
   "name": "python3"
  },
  "language_info": {
   "codemirror_mode": {
    "name": "ipython",
    "version": 3
   },
   "file_extension": ".py",
   "mimetype": "text/x-python",
   "name": "python",
   "nbconvert_exporter": "python",
   "pygments_lexer": "ipython3",
   "version": "3.6.8"
  }
 },
 "nbformat": 4,
 "nbformat_minor": 2
}

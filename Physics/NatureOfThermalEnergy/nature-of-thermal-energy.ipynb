{
 "cells": [
  {
   "cell_type": "markdown",
   "metadata": {
    "hidden": false
   },
   "source": [
    "<img src = 'images/Callysto_Notebook-Banner_Top.jpg'>"
   ]
  },
  {
   "cell_type": "code",
   "execution_count": 1,
   "metadata": {
    "hidden": false,
    "scrolled": true
   },
   "outputs": [
    {
     "data": {
      "text/html": [
       "<script type=\"text/javascript\">window.PlotlyConfig = {MathJaxConfig: 'local'};</script><script type=\"text/javascript\">if (window.MathJax) {MathJax.Hub.Config({SVG: {font: \"STIX-Web\"}});}</script><script>requirejs.config({paths: { 'plotly': ['https://cdn.plot.ly/plotly-latest.min']},});if(!window._Plotly) {require(['plotly'],function(plotly) {window._Plotly=plotly;});}</script>"
      ],
      "text/vnd.plotly.v1+html": [
       "<script type=\"text/javascript\">window.PlotlyConfig = {MathJaxConfig: 'local'};</script><script type=\"text/javascript\">if (window.MathJax) {MathJax.Hub.Config({SVG: {font: \"STIX-Web\"}});}</script><script>requirejs.config({paths: { 'plotly': ['https://cdn.plot.ly/plotly-latest.min']},});if(!window._Plotly) {require(['plotly'],function(plotly) {window._Plotly=plotly;});}</script>"
      ]
     },
     "metadata": {},
     "output_type": "display_data"
    }
   ],
   "source": [
    "import numpy as np\n",
    "import matplotlib.pyplot as plt\n",
    "import matplotlib.animation as animation\n",
    "from mpl_toolkits.mplot3d import Axes3D\n",
    "import mpl_toolkits.mplot3d.axes3d as p3\n",
    "from matplotlib import rc\n",
    "from IPython.display import display, Math, Latex, HTML, clear_output, Markdown, IFrame, Javascript\n",
    "import ipywidgets as widgets\n",
    "from ipywidgets import interact, FloatSlider, IntSlider, interactive, Layout\n",
    "from traitlets import traitlets\n",
    "\n",
    "\n",
    "from plotly.offline import download_plotlyjs, init_notebook_mode, plot, iplot\n",
    "init_notebook_mode(connected=True)\n",
    "\n",
    "%matplotlib notebook\n",
    "\n",
    "#Convenience function that evaluates a certain cell range\n",
    "\n",
    "def evaluate_cells(de, a):\n",
    "    display(Javascript('IPython.notebook.execute_cell_range(IPython.notebook.get_selected_index()+%s,IPython.notebook.get_selected_index()+%s)'%(de,a)))\n",
    "    return"
   ]
  },
  {
   "cell_type": "code",
   "execution_count": 2,
   "metadata": {
    "hidden": false,
    "scrolled": true
   },
   "outputs": [
    {
     "data": {
      "text/html": [
       "<script>\n",
       "  function code_toggle() {\n",
       "    if (code_shown){\n",
       "      $('div.input').hide('500');\n",
       "      $('#toggleButton').val('Show Code')\n",
       "    } else {\n",
       "      $('div.input').show('500');\n",
       "      $('#toggleButton').val('Hide Code')\n",
       "    }\n",
       "    code_shown = !code_shown\n",
       "  }\n",
       "  \n",
       "  $( document ).ready(function(){\n",
       "    code_shown=false;\n",
       "    $('div.input').hide()\n",
       "  });\n",
       "</script>\n",
       "<form action=\"javascript:code_toggle()\"><input type=\"submit\" id=\"toggleButton\" value=\"Show Code\"></form>"
      ],
      "text/plain": [
       "<IPython.core.display.HTML object>"
      ]
     },
     "execution_count": 2,
     "metadata": {},
     "output_type": "execute_result"
    }
   ],
   "source": [
    "HTML('''<script>\n",
    "  function code_toggle() {\n",
    "    if (code_shown){\n",
    "      $('div.input').hide('500');\n",
    "      $('#toggleButton').val('Show Code')\n",
    "    } else {\n",
    "      $('div.input').show('500');\n",
    "      $('#toggleButton').val('Hide Code')\n",
    "    }\n",
    "    code_shown = !code_shown\n",
    "  }\n",
    "  \n",
    "  $( document ).ready(function(){\n",
    "    code_shown=false;\n",
    "    $('div.input').hide()\n",
    "  });\n",
    "</script>\n",
    "<form action=\"javascript:code_toggle()\"><input type=\"submit\" id=\"toggleButton\" value=\"Show Code\"></form>''')\n"
   ]
  },
  {
   "cell_type": "markdown",
   "metadata": {
    "hidden": false
   },
   "source": [
    "#  <center>Heat and Temperature: The Nature of Thermal Energy </center>\n",
    "\n",
    "In this Jupyter Notebook you will explore the nature of thermal energy and its effects on different forms of matter using informal observations, experimental evidence, and models. By the end of the notebook you will have gained an understanding on:\n",
    "\n",
    "- comparing heat transmission in different materials \n",
    "- explaining how heat is transmitted by conduction, convection and radiation in solids, liquids and gases\n",
    "- describing the effect of heat on the motion of particles; and explain changes of state, using the particle model of matter\n",
    "- distinguishing between heat and temperature; and explain temperature, using the concept of kinetic energy and the particle model of matter\n",
    "- investigating and describing the effects of heating and cooling on the volume of different materials, and identify applications of these effects\n",
    "\n",
    "Necessary Background: Basic understanding of kinetic energy and states of matter.\n",
    "\n",
    "Thermal energy applications are found throughout our daily lives; the means by which a refrigerator functions, the ways we power and heat our homes, the combustion which drives our engines. These are just a few of the many ways we use thermal energy to improve our lives. Consequently, having a better understanding of the nature of thermal energy means having a better understanding of the world around us, natural and manufactured. "
   ]
  },
  {
   "cell_type": "markdown",
   "metadata": {
    "hidden": false
   },
   "source": [
    "\n",
    "## Heat vs. Temperature\n",
    "\n",
    "The difference between temperature and heat is quite subtle. We'd better state the definitions formally:\n",
    "\n",
    "**Heat** is a type of energy transfer in which energy flow is caused by a difference in temperature. \n",
    "\n",
    "**Temperature** is a measure of the average heat or thermal energy of the particles in a substance. \n",
    "\n",
    "These are simple explanations for the time being and will become clearer over the course of this notebook. heat is  a *microscopic* quantity which gives rise to the *macroscopic* quantity of temperature. We often think of heat and temperature interchangably but they have fundamentally different meanings. Heat can be exchanged between matter and temperature can be possessed by matter. Over the course of this notebook the differences will become clearer.\n",
    "\n",
    "---\n",
    "\n",
    "*Side note*: **Macroscopic vs Microscopic**\n",
    "\n",
    "Macroscopic quantities can be thought of as the things that you can *see* and quantify, whereas microscopic quantities are the opposite of this; they need some more detailed measuring tools in order to observe. For example, consider the picture of a forest below. Many trees come together to make up the entire forest. In the picture, these trees are comprised of many different shades of green. As we zoom in further, we see that these shades are actually just individual square pixels, each with one colour and brightness. The brightness, colour, and size of each pixel can be seen as the microscopic properties. The macroscopic properties would be the individual trees and the forest that they form. Microscopic properties can only be seen as we zoom into the image. Similarly, macroscopic properties can only be seen as we zoom out. \n",
    " \n",
    "<img src = \"images/macroscopic_forest.png\" height = 550 width = 550 style = \"border-radius: 8px\">\n"
   ]
  },
  {
   "cell_type": "markdown",
   "metadata": {
    "hidden": false
   },
   "source": [
    "# <center> Particle Model of Matter </center>    \n",
    "In order to help you understand heat, it will be useful to think of the *Particle Model of Matter*. This model was first proposed by the Greek philosopher Democritus over 2000 years ago. He thought of being able to cut up matter, the stuff that makes up everything in the world, into smaller and smaller parts. Eventually, one would reach its basic components; the particles that make up all matter. The term particle is still used everywhere in the physical sciences. They can be simply thought of as small objects with certain properties such as size, speed, or colour. Typically they form interact together in terms of these properties, creating some macroscopic property. Using the concept of a particle has helped us model how different microscopic quantities combine to create macroscopic ones. The particle model states that:\n",
    "\n",
    "### 1. All matter is made up of tiny particles \n",
    "\n",
    "Place your mouse over the image below to interact."
   ]
  },
  {
   "cell_type": "code",
   "execution_count": 3,
   "metadata": {
    "hidden": false,
    "scrolled": false
   },
   "outputs": [
    {
     "data": {
      "text/html": [
       "\n",
       "<div style=\"text-align: center\">\n",
       "    <iframe width=\"500px\" height=\"420px\" src=\"animations/cube_grid.html\" frameborder=\"0\"></iframe>\n",
       "</div>\n",
       "            \n"
      ],
      "text/plain": [
       "<IPython.core.display.HTML object>"
      ]
     },
     "metadata": {},
     "output_type": "display_data"
    }
   ],
   "source": [
    "%%html\n",
    "\n",
    "<div style=\"text-align: center\">\n",
    "    <iframe width=\"500px\" height=\"420px\" src=\"animations/cube_grid.html\" frameborder=\"0\"></iframe>\n",
    "</div>\n",
    "            "
   ]
  },
  {
   "cell_type": "markdown",
   "metadata": {
    "hidden": false
   },
   "source": [
    "### 2. The particles are constantly moving \n",
    "\n",
    "Since the particles are not at absolute (0 Kelvin), they still contain a bit of thermal energy. When the particles are bound in a solid structure, like above, this causes them to vibrate slightly. Particles in any state will always slightly unless they are at absolute 0 temperature. Below is the same solid as above, but depicted more realistically."
   ]
  },
  {
   "cell_type": "code",
   "execution_count": 4,
   "metadata": {
    "hidden": false
   },
   "outputs": [
    {
     "data": {
      "text/html": [
       "\n",
       "<div style=\"text-align: center\">\n",
       "    <iframe width=\"450px\" height=\"420px\" src=\"animations/vibrating_cube.html\" frameborder=\"0\"></iframe>\n",
       "</div>\n"
      ],
      "text/plain": [
       "<IPython.core.display.HTML object>"
      ]
     },
     "metadata": {},
     "output_type": "display_data"
    }
   ],
   "source": [
    "%%html\n",
    "\n",
    "<div style=\"text-align: center\">\n",
    "    <iframe width=\"450px\" height=\"420px\" src=\"animations/vibrating_cube.html\" frameborder=\"0\"></iframe>\n",
    "</div>"
   ]
  },
  {
   "cell_type": "markdown",
   "metadata": {
    "hidden": false
   },
   "source": [
    "*Side Note*: **Absoloute Zero**\n",
    "\n",
    "The Kelvin scale is an absolute temperature scale using 0 as the point where all motion due to heat. The celsius scale on the other hand uses the freezing point of water as its zero, which corresponds to 273.15 Kelvin. This can be inconvenient for many scientists, especially when quantities have to be multiplied by temperature, thus the Kelvin scale is the international standard and is recognized as the base unit of temperature. Absolute 0 is an *absolute* since all motion for any type of matter will stop at this temperature. That being said, absolute zero is actually physically impossible to reach <a href = \"https://www.sciencealert.com/after-a-century-of-debate-cooling-to-absolute-zero-has-been-declared-mathematically-impossible\">Click here if you're interested</a>. There is ongoing research on cooling matter to extremely low temperatures in order to observe its behaviour when there is nearly zero thermal motion. "
   ]
  },
  {
   "cell_type": "markdown",
   "metadata": {
    "hidden": false
   },
   "source": [
    "### 3. The particles move faster as you heat them up"
   ]
  },
  {
   "cell_type": "code",
   "execution_count": 5,
   "metadata": {
    "hidden": false,
    "scrolled": false
   },
   "outputs": [
    {
     "data": {
      "text/html": [
       "\n",
       "<div style=\"text-align: center\">\n",
       "    <iframe width=\"450px\" height=\"420px\" src=\"animations/particle_in_a_box.html\" frameborder=\"0\"></iframe>\n",
       "</div>\n"
      ],
      "text/plain": [
       "<IPython.core.display.HTML object>"
      ]
     },
     "metadata": {},
     "output_type": "display_data"
    }
   ],
   "source": [
    "%%html\n",
    "\n",
    "<div style=\"text-align: center\">\n",
    "    <iframe width=\"450px\" height=\"420px\" src=\"animations/particle_in_a_box.html\" frameborder=\"0\"></iframe>\n",
    "</div>\n"
   ]
  },
  {
   "cell_type": "markdown",
   "metadata": {
    "hidden": false
   },
   "source": [
    "Statement 3 of the particle model offers the clearest description for the difference between temperature and heat. As the temperature inside the square increases, the particles move faster. This is because the the particles have more heat energy, but what we actually measure is temperature. The particles collide with the sides of the box more frequently. The more frequent the collisions, the higher the temperature we measure. Above is a graphic describing how the 'particles' that make up water might behave as they are heated."
   ]
  },
  {
   "cell_type": "markdown",
   "metadata": {
    "hidden": false
   },
   "source": [
    "---\n",
    "## <center>Changes of State</center>\n",
    "\n",
    "Heat transfer plays a deciding role in the changes of state of matter (Solid, Liquid or Gas). Let's break down how heat energy changes the state of matter and what these processes are called. Matter will be thought of as a collection of particles. The behaviour of these particles is determined by the state of matter in which they are in:\n",
    "\n",
    "- Particles in a **solid** are tighly packed. They have very little motion other than vibrating in the location that they are in.\n",
    "\n",
    "- Particles in a **liquid** are able to move past one another. This is what gives liquids the property of being able to \"flow\".\n",
    "\n",
    "- Particles in a **gas** can essentially move around freely, occasionally colliding into one another. This is why gases have so much free space.\n",
    "\n",
    "Note the use of a macroscopic quantity to used to describe microscopic ones (state $\\rightarrow$ motion).\n",
    "\n",
    "### Why do the changes happen?\n",
    "\n",
    "Matter changes state due to heat energy. Think of the particles in a solid. As they gain more heat energy, the particles themselves gain more kinetic energy. More kinetic energy means they are moving faster, making them collide into one another more often. Eventually the bonds that hold the solid together cannot maintain the amount of collisions and the solid begins to break apart, into a liquid. This is known as melting. \n",
    "\n",
    "Once the matter has melted, the particles begin to flow, yet they still maintain a bit of their structure; they are still \"connected\". If you were to give them even more heat energy, the structure begins to fall apart, and eventually the matter becomes a gas where the particles can move around freely and disperse from one another. This process is called evaporation. \n",
    "\n",
    "Some of the main characteristics of a substance are the temperatures at which these transitions happen. These are known as the *melting point* and *boiling point* of the substance. For example, water has a melting point of 0$^{\\circ}$C and a boiling point of 100$^{\\circ}$C (STP) and these temperatures are a fundamental part of what it means to be \"water\". The acronym SATP stands for Standard Ambient Temperature and Pressure, and is used as a standard ruler for experimental measurements. The melting and boiling points of water change at different pressures and therefore the pressure at which these quanitities were measured must be specified as well. This allows for accurate comparisons between different experiments and laboratories. \n",
    "\n",
    "The different changes that occur in matter are pictured below. Try to memorize the names of the different changes of state. Hover your mouse over each grey box to see the names of them. Once you press the \"Play memory game\" button, you won't be able to see their names anymore and will have to match the numbers to the name of change of state. See how many times you can get them correct! You'll have them memorized in no time :-)"
   ]
  },
  {
   "cell_type": "code",
   "execution_count": 6,
   "metadata": {
    "hidden": false,
    "scrolled": false
   },
   "outputs": [
    {
     "data": {
      "application/javascript": [
       "/* Put everything inside the global mpl namespace */\n",
       "window.mpl = {};\n",
       "\n",
       "\n",
       "mpl.get_websocket_type = function() {\n",
       "    if (typeof(WebSocket) !== 'undefined') {\n",
       "        return WebSocket;\n",
       "    } else if (typeof(MozWebSocket) !== 'undefined') {\n",
       "        return MozWebSocket;\n",
       "    } else {\n",
       "        alert('Your browser does not have WebSocket support.' +\n",
       "              'Please try Chrome, Safari or Firefox ≥ 6. ' +\n",
       "              'Firefox 4 and 5 are also supported but you ' +\n",
       "              'have to enable WebSockets in about:config.');\n",
       "    };\n",
       "}\n",
       "\n",
       "mpl.figure = function(figure_id, websocket, ondownload, parent_element) {\n",
       "    this.id = figure_id;\n",
       "\n",
       "    this.ws = websocket;\n",
       "\n",
       "    this.supports_binary = (this.ws.binaryType != undefined);\n",
       "\n",
       "    if (!this.supports_binary) {\n",
       "        var warnings = document.getElementById(\"mpl-warnings\");\n",
       "        if (warnings) {\n",
       "            warnings.style.display = 'block';\n",
       "            warnings.textContent = (\n",
       "                \"This browser does not support binary websocket messages. \" +\n",
       "                    \"Performance may be slow.\");\n",
       "        }\n",
       "    }\n",
       "\n",
       "    this.imageObj = new Image();\n",
       "\n",
       "    this.context = undefined;\n",
       "    this.message = undefined;\n",
       "    this.canvas = undefined;\n",
       "    this.rubberband_canvas = undefined;\n",
       "    this.rubberband_context = undefined;\n",
       "    this.format_dropdown = undefined;\n",
       "\n",
       "    this.image_mode = 'full';\n",
       "\n",
       "    this.root = $('<div/>');\n",
       "    this._root_extra_style(this.root)\n",
       "    this.root.attr('style', 'display: inline-block');\n",
       "\n",
       "    $(parent_element).append(this.root);\n",
       "\n",
       "    this._init_header(this);\n",
       "    this._init_canvas(this);\n",
       "    this._init_toolbar(this);\n",
       "\n",
       "    var fig = this;\n",
       "\n",
       "    this.waiting = false;\n",
       "\n",
       "    this.ws.onopen =  function () {\n",
       "            fig.send_message(\"supports_binary\", {value: fig.supports_binary});\n",
       "            fig.send_message(\"send_image_mode\", {});\n",
       "            if (mpl.ratio != 1) {\n",
       "                fig.send_message(\"set_dpi_ratio\", {'dpi_ratio': mpl.ratio});\n",
       "            }\n",
       "            fig.send_message(\"refresh\", {});\n",
       "        }\n",
       "\n",
       "    this.imageObj.onload = function() {\n",
       "            if (fig.image_mode == 'full') {\n",
       "                // Full images could contain transparency (where diff images\n",
       "                // almost always do), so we need to clear the canvas so that\n",
       "                // there is no ghosting.\n",
       "                fig.context.clearRect(0, 0, fig.canvas.width, fig.canvas.height);\n",
       "            }\n",
       "            fig.context.drawImage(fig.imageObj, 0, 0);\n",
       "        };\n",
       "\n",
       "    this.imageObj.onunload = function() {\n",
       "        fig.ws.close();\n",
       "    }\n",
       "\n",
       "    this.ws.onmessage = this._make_on_message_function(this);\n",
       "\n",
       "    this.ondownload = ondownload;\n",
       "}\n",
       "\n",
       "mpl.figure.prototype._init_header = function() {\n",
       "    var titlebar = $(\n",
       "        '<div class=\"ui-dialog-titlebar ui-widget-header ui-corner-all ' +\n",
       "        'ui-helper-clearfix\"/>');\n",
       "    var titletext = $(\n",
       "        '<div class=\"ui-dialog-title\" style=\"width: 100%; ' +\n",
       "        'text-align: center; padding: 3px;\"/>');\n",
       "    titlebar.append(titletext)\n",
       "    this.root.append(titlebar);\n",
       "    this.header = titletext[0];\n",
       "}\n",
       "\n",
       "\n",
       "\n",
       "mpl.figure.prototype._canvas_extra_style = function(canvas_div) {\n",
       "\n",
       "}\n",
       "\n",
       "\n",
       "mpl.figure.prototype._root_extra_style = function(canvas_div) {\n",
       "\n",
       "}\n",
       "\n",
       "mpl.figure.prototype._init_canvas = function() {\n",
       "    var fig = this;\n",
       "\n",
       "    var canvas_div = $('<div/>');\n",
       "\n",
       "    canvas_div.attr('style', 'position: relative; clear: both; outline: 0');\n",
       "\n",
       "    function canvas_keyboard_event(event) {\n",
       "        return fig.key_event(event, event['data']);\n",
       "    }\n",
       "\n",
       "    canvas_div.keydown('key_press', canvas_keyboard_event);\n",
       "    canvas_div.keyup('key_release', canvas_keyboard_event);\n",
       "    this.canvas_div = canvas_div\n",
       "    this._canvas_extra_style(canvas_div)\n",
       "    this.root.append(canvas_div);\n",
       "\n",
       "    var canvas = $('<canvas/>');\n",
       "    canvas.addClass('mpl-canvas');\n",
       "    canvas.attr('style', \"left: 0; top: 0; z-index: 0; outline: 0\")\n",
       "\n",
       "    this.canvas = canvas[0];\n",
       "    this.context = canvas[0].getContext(\"2d\");\n",
       "\n",
       "    var backingStore = this.context.backingStorePixelRatio ||\n",
       "\tthis.context.webkitBackingStorePixelRatio ||\n",
       "\tthis.context.mozBackingStorePixelRatio ||\n",
       "\tthis.context.msBackingStorePixelRatio ||\n",
       "\tthis.context.oBackingStorePixelRatio ||\n",
       "\tthis.context.backingStorePixelRatio || 1;\n",
       "\n",
       "    mpl.ratio = (window.devicePixelRatio || 1) / backingStore;\n",
       "\n",
       "    var rubberband = $('<canvas/>');\n",
       "    rubberband.attr('style', \"position: absolute; left: 0; top: 0; z-index: 1;\")\n",
       "\n",
       "    var pass_mouse_events = true;\n",
       "\n",
       "    canvas_div.resizable({\n",
       "        start: function(event, ui) {\n",
       "            pass_mouse_events = false;\n",
       "        },\n",
       "        resize: function(event, ui) {\n",
       "            fig.request_resize(ui.size.width, ui.size.height);\n",
       "        },\n",
       "        stop: function(event, ui) {\n",
       "            pass_mouse_events = true;\n",
       "            fig.request_resize(ui.size.width, ui.size.height);\n",
       "        },\n",
       "    });\n",
       "\n",
       "    function mouse_event_fn(event) {\n",
       "        if (pass_mouse_events)\n",
       "            return fig.mouse_event(event, event['data']);\n",
       "    }\n",
       "\n",
       "    rubberband.mousedown('button_press', mouse_event_fn);\n",
       "    rubberband.mouseup('button_release', mouse_event_fn);\n",
       "    // Throttle sequential mouse events to 1 every 20ms.\n",
       "    rubberband.mousemove('motion_notify', mouse_event_fn);\n",
       "\n",
       "    rubberband.mouseenter('figure_enter', mouse_event_fn);\n",
       "    rubberband.mouseleave('figure_leave', mouse_event_fn);\n",
       "\n",
       "    canvas_div.on(\"wheel\", function (event) {\n",
       "        event = event.originalEvent;\n",
       "        event['data'] = 'scroll'\n",
       "        if (event.deltaY < 0) {\n",
       "            event.step = 1;\n",
       "        } else {\n",
       "            event.step = -1;\n",
       "        }\n",
       "        mouse_event_fn(event);\n",
       "    });\n",
       "\n",
       "    canvas_div.append(canvas);\n",
       "    canvas_div.append(rubberband);\n",
       "\n",
       "    this.rubberband = rubberband;\n",
       "    this.rubberband_canvas = rubberband[0];\n",
       "    this.rubberband_context = rubberband[0].getContext(\"2d\");\n",
       "    this.rubberband_context.strokeStyle = \"#000000\";\n",
       "\n",
       "    this._resize_canvas = function(width, height) {\n",
       "        // Keep the size of the canvas, canvas container, and rubber band\n",
       "        // canvas in synch.\n",
       "        canvas_div.css('width', width)\n",
       "        canvas_div.css('height', height)\n",
       "\n",
       "        canvas.attr('width', width * mpl.ratio);\n",
       "        canvas.attr('height', height * mpl.ratio);\n",
       "        canvas.attr('style', 'width: ' + width + 'px; height: ' + height + 'px;');\n",
       "\n",
       "        rubberband.attr('width', width);\n",
       "        rubberband.attr('height', height);\n",
       "    }\n",
       "\n",
       "    // Set the figure to an initial 600x600px, this will subsequently be updated\n",
       "    // upon first draw.\n",
       "    this._resize_canvas(600, 600);\n",
       "\n",
       "    // Disable right mouse context menu.\n",
       "    $(this.rubberband_canvas).bind(\"contextmenu\",function(e){\n",
       "        return false;\n",
       "    });\n",
       "\n",
       "    function set_focus () {\n",
       "        canvas.focus();\n",
       "        canvas_div.focus();\n",
       "    }\n",
       "\n",
       "    window.setTimeout(set_focus, 100);\n",
       "}\n",
       "\n",
       "mpl.figure.prototype._init_toolbar = function() {\n",
       "    var fig = this;\n",
       "\n",
       "    var nav_element = $('<div/>')\n",
       "    nav_element.attr('style', 'width: 100%');\n",
       "    this.root.append(nav_element);\n",
       "\n",
       "    // Define a callback function for later on.\n",
       "    function toolbar_event(event) {\n",
       "        return fig.toolbar_button_onclick(event['data']);\n",
       "    }\n",
       "    function toolbar_mouse_event(event) {\n",
       "        return fig.toolbar_button_onmouseover(event['data']);\n",
       "    }\n",
       "\n",
       "    for(var toolbar_ind in mpl.toolbar_items) {\n",
       "        var name = mpl.toolbar_items[toolbar_ind][0];\n",
       "        var tooltip = mpl.toolbar_items[toolbar_ind][1];\n",
       "        var image = mpl.toolbar_items[toolbar_ind][2];\n",
       "        var method_name = mpl.toolbar_items[toolbar_ind][3];\n",
       "\n",
       "        if (!name) {\n",
       "            // put a spacer in here.\n",
       "            continue;\n",
       "        }\n",
       "        var button = $('<button/>');\n",
       "        button.addClass('ui-button ui-widget ui-state-default ui-corner-all ' +\n",
       "                        'ui-button-icon-only');\n",
       "        button.attr('role', 'button');\n",
       "        button.attr('aria-disabled', 'false');\n",
       "        button.click(method_name, toolbar_event);\n",
       "        button.mouseover(tooltip, toolbar_mouse_event);\n",
       "\n",
       "        var icon_img = $('<span/>');\n",
       "        icon_img.addClass('ui-button-icon-primary ui-icon');\n",
       "        icon_img.addClass(image);\n",
       "        icon_img.addClass('ui-corner-all');\n",
       "\n",
       "        var tooltip_span = $('<span/>');\n",
       "        tooltip_span.addClass('ui-button-text');\n",
       "        tooltip_span.html(tooltip);\n",
       "\n",
       "        button.append(icon_img);\n",
       "        button.append(tooltip_span);\n",
       "\n",
       "        nav_element.append(button);\n",
       "    }\n",
       "\n",
       "    var fmt_picker_span = $('<span/>');\n",
       "\n",
       "    var fmt_picker = $('<select/>');\n",
       "    fmt_picker.addClass('mpl-toolbar-option ui-widget ui-widget-content');\n",
       "    fmt_picker_span.append(fmt_picker);\n",
       "    nav_element.append(fmt_picker_span);\n",
       "    this.format_dropdown = fmt_picker[0];\n",
       "\n",
       "    for (var ind in mpl.extensions) {\n",
       "        var fmt = mpl.extensions[ind];\n",
       "        var option = $(\n",
       "            '<option/>', {selected: fmt === mpl.default_extension}).html(fmt);\n",
       "        fmt_picker.append(option)\n",
       "    }\n",
       "\n",
       "    // Add hover states to the ui-buttons\n",
       "    $( \".ui-button\" ).hover(\n",
       "        function() { $(this).addClass(\"ui-state-hover\");},\n",
       "        function() { $(this).removeClass(\"ui-state-hover\");}\n",
       "    );\n",
       "\n",
       "    var status_bar = $('<span class=\"mpl-message\"/>');\n",
       "    nav_element.append(status_bar);\n",
       "    this.message = status_bar[0];\n",
       "}\n",
       "\n",
       "mpl.figure.prototype.request_resize = function(x_pixels, y_pixels) {\n",
       "    // Request matplotlib to resize the figure. Matplotlib will then trigger a resize in the client,\n",
       "    // which will in turn request a refresh of the image.\n",
       "    this.send_message('resize', {'width': x_pixels, 'height': y_pixels});\n",
       "}\n",
       "\n",
       "mpl.figure.prototype.send_message = function(type, properties) {\n",
       "    properties['type'] = type;\n",
       "    properties['figure_id'] = this.id;\n",
       "    this.ws.send(JSON.stringify(properties));\n",
       "}\n",
       "\n",
       "mpl.figure.prototype.send_draw_message = function() {\n",
       "    if (!this.waiting) {\n",
       "        this.waiting = true;\n",
       "        this.ws.send(JSON.stringify({type: \"draw\", figure_id: this.id}));\n",
       "    }\n",
       "}\n",
       "\n",
       "\n",
       "mpl.figure.prototype.handle_save = function(fig, msg) {\n",
       "    var format_dropdown = fig.format_dropdown;\n",
       "    var format = format_dropdown.options[format_dropdown.selectedIndex].value;\n",
       "    fig.ondownload(fig, format);\n",
       "}\n",
       "\n",
       "\n",
       "mpl.figure.prototype.handle_resize = function(fig, msg) {\n",
       "    var size = msg['size'];\n",
       "    if (size[0] != fig.canvas.width || size[1] != fig.canvas.height) {\n",
       "        fig._resize_canvas(size[0], size[1]);\n",
       "        fig.send_message(\"refresh\", {});\n",
       "    };\n",
       "}\n",
       "\n",
       "mpl.figure.prototype.handle_rubberband = function(fig, msg) {\n",
       "    var x0 = msg['x0'] / mpl.ratio;\n",
       "    var y0 = (fig.canvas.height - msg['y0']) / mpl.ratio;\n",
       "    var x1 = msg['x1'] / mpl.ratio;\n",
       "    var y1 = (fig.canvas.height - msg['y1']) / mpl.ratio;\n",
       "    x0 = Math.floor(x0) + 0.5;\n",
       "    y0 = Math.floor(y0) + 0.5;\n",
       "    x1 = Math.floor(x1) + 0.5;\n",
       "    y1 = Math.floor(y1) + 0.5;\n",
       "    var min_x = Math.min(x0, x1);\n",
       "    var min_y = Math.min(y0, y1);\n",
       "    var width = Math.abs(x1 - x0);\n",
       "    var height = Math.abs(y1 - y0);\n",
       "\n",
       "    fig.rubberband_context.clearRect(\n",
       "        0, 0, fig.canvas.width, fig.canvas.height);\n",
       "\n",
       "    fig.rubberband_context.strokeRect(min_x, min_y, width, height);\n",
       "}\n",
       "\n",
       "mpl.figure.prototype.handle_figure_label = function(fig, msg) {\n",
       "    // Updates the figure title.\n",
       "    fig.header.textContent = msg['label'];\n",
       "}\n",
       "\n",
       "mpl.figure.prototype.handle_cursor = function(fig, msg) {\n",
       "    var cursor = msg['cursor'];\n",
       "    switch(cursor)\n",
       "    {\n",
       "    case 0:\n",
       "        cursor = 'pointer';\n",
       "        break;\n",
       "    case 1:\n",
       "        cursor = 'default';\n",
       "        break;\n",
       "    case 2:\n",
       "        cursor = 'crosshair';\n",
       "        break;\n",
       "    case 3:\n",
       "        cursor = 'move';\n",
       "        break;\n",
       "    }\n",
       "    fig.rubberband_canvas.style.cursor = cursor;\n",
       "}\n",
       "\n",
       "mpl.figure.prototype.handle_message = function(fig, msg) {\n",
       "    fig.message.textContent = msg['message'];\n",
       "}\n",
       "\n",
       "mpl.figure.prototype.handle_draw = function(fig, msg) {\n",
       "    // Request the server to send over a new figure.\n",
       "    fig.send_draw_message();\n",
       "}\n",
       "\n",
       "mpl.figure.prototype.handle_image_mode = function(fig, msg) {\n",
       "    fig.image_mode = msg['mode'];\n",
       "}\n",
       "\n",
       "mpl.figure.prototype.updated_canvas_event = function() {\n",
       "    // Called whenever the canvas gets updated.\n",
       "    this.send_message(\"ack\", {});\n",
       "}\n",
       "\n",
       "// A function to construct a web socket function for onmessage handling.\n",
       "// Called in the figure constructor.\n",
       "mpl.figure.prototype._make_on_message_function = function(fig) {\n",
       "    return function socket_on_message(evt) {\n",
       "        if (evt.data instanceof Blob) {\n",
       "            /* FIXME: We get \"Resource interpreted as Image but\n",
       "             * transferred with MIME type text/plain:\" errors on\n",
       "             * Chrome.  But how to set the MIME type?  It doesn't seem\n",
       "             * to be part of the websocket stream */\n",
       "            evt.data.type = \"image/png\";\n",
       "\n",
       "            /* Free the memory for the previous frames */\n",
       "            if (fig.imageObj.src) {\n",
       "                (window.URL || window.webkitURL).revokeObjectURL(\n",
       "                    fig.imageObj.src);\n",
       "            }\n",
       "\n",
       "            fig.imageObj.src = (window.URL || window.webkitURL).createObjectURL(\n",
       "                evt.data);\n",
       "            fig.updated_canvas_event();\n",
       "            fig.waiting = false;\n",
       "            return;\n",
       "        }\n",
       "        else if (typeof evt.data === 'string' && evt.data.slice(0, 21) == \"data:image/png;base64\") {\n",
       "            fig.imageObj.src = evt.data;\n",
       "            fig.updated_canvas_event();\n",
       "            fig.waiting = false;\n",
       "            return;\n",
       "        }\n",
       "\n",
       "        var msg = JSON.parse(evt.data);\n",
       "        var msg_type = msg['type'];\n",
       "\n",
       "        // Call the  \"handle_{type}\" callback, which takes\n",
       "        // the figure and JSON message as its only arguments.\n",
       "        try {\n",
       "            var callback = fig[\"handle_\" + msg_type];\n",
       "        } catch (e) {\n",
       "            console.log(\"No handler for the '\" + msg_type + \"' message type: \", msg);\n",
       "            return;\n",
       "        }\n",
       "\n",
       "        if (callback) {\n",
       "            try {\n",
       "                // console.log(\"Handling '\" + msg_type + \"' message: \", msg);\n",
       "                callback(fig, msg);\n",
       "            } catch (e) {\n",
       "                console.log(\"Exception inside the 'handler_\" + msg_type + \"' callback:\", e, e.stack, msg);\n",
       "            }\n",
       "        }\n",
       "    };\n",
       "}\n",
       "\n",
       "// from http://stackoverflow.com/questions/1114465/getting-mouse-location-in-canvas\n",
       "mpl.findpos = function(e) {\n",
       "    //this section is from http://www.quirksmode.org/js/events_properties.html\n",
       "    var targ;\n",
       "    if (!e)\n",
       "        e = window.event;\n",
       "    if (e.target)\n",
       "        targ = e.target;\n",
       "    else if (e.srcElement)\n",
       "        targ = e.srcElement;\n",
       "    if (targ.nodeType == 3) // defeat Safari bug\n",
       "        targ = targ.parentNode;\n",
       "\n",
       "    // jQuery normalizes the pageX and pageY\n",
       "    // pageX,Y are the mouse positions relative to the document\n",
       "    // offset() returns the position of the element relative to the document\n",
       "    var x = e.pageX - $(targ).offset().left;\n",
       "    var y = e.pageY - $(targ).offset().top;\n",
       "\n",
       "    return {\"x\": x, \"y\": y};\n",
       "};\n",
       "\n",
       "/*\n",
       " * return a copy of an object with only non-object keys\n",
       " * we need this to avoid circular references\n",
       " * http://stackoverflow.com/a/24161582/3208463\n",
       " */\n",
       "function simpleKeys (original) {\n",
       "  return Object.keys(original).reduce(function (obj, key) {\n",
       "    if (typeof original[key] !== 'object')\n",
       "        obj[key] = original[key]\n",
       "    return obj;\n",
       "  }, {});\n",
       "}\n",
       "\n",
       "mpl.figure.prototype.mouse_event = function(event, name) {\n",
       "    var canvas_pos = mpl.findpos(event)\n",
       "\n",
       "    if (name === 'button_press')\n",
       "    {\n",
       "        this.canvas.focus();\n",
       "        this.canvas_div.focus();\n",
       "    }\n",
       "\n",
       "    var x = canvas_pos.x * mpl.ratio;\n",
       "    var y = canvas_pos.y * mpl.ratio;\n",
       "\n",
       "    this.send_message(name, {x: x, y: y, button: event.button,\n",
       "                             step: event.step,\n",
       "                             guiEvent: simpleKeys(event)});\n",
       "\n",
       "    /* This prevents the web browser from automatically changing to\n",
       "     * the text insertion cursor when the button is pressed.  We want\n",
       "     * to control all of the cursor setting manually through the\n",
       "     * 'cursor' event from matplotlib */\n",
       "    event.preventDefault();\n",
       "    return false;\n",
       "}\n",
       "\n",
       "mpl.figure.prototype._key_event_extra = function(event, name) {\n",
       "    // Handle any extra behaviour associated with a key event\n",
       "}\n",
       "\n",
       "mpl.figure.prototype.key_event = function(event, name) {\n",
       "\n",
       "    // Prevent repeat events\n",
       "    if (name == 'key_press')\n",
       "    {\n",
       "        if (event.which === this._key)\n",
       "            return;\n",
       "        else\n",
       "            this._key = event.which;\n",
       "    }\n",
       "    if (name == 'key_release')\n",
       "        this._key = null;\n",
       "\n",
       "    var value = '';\n",
       "    if (event.ctrlKey && event.which != 17)\n",
       "        value += \"ctrl+\";\n",
       "    if (event.altKey && event.which != 18)\n",
       "        value += \"alt+\";\n",
       "    if (event.shiftKey && event.which != 16)\n",
       "        value += \"shift+\";\n",
       "\n",
       "    value += 'k';\n",
       "    value += event.which.toString();\n",
       "\n",
       "    this._key_event_extra(event, name);\n",
       "\n",
       "    this.send_message(name, {key: value,\n",
       "                             guiEvent: simpleKeys(event)});\n",
       "    return false;\n",
       "}\n",
       "\n",
       "mpl.figure.prototype.toolbar_button_onclick = function(name) {\n",
       "    if (name == 'download') {\n",
       "        this.handle_save(this, null);\n",
       "    } else {\n",
       "        this.send_message(\"toolbar_button\", {name: name});\n",
       "    }\n",
       "};\n",
       "\n",
       "mpl.figure.prototype.toolbar_button_onmouseover = function(tooltip) {\n",
       "    this.message.textContent = tooltip;\n",
       "};\n",
       "mpl.toolbar_items = [[\"Home\", \"Reset original view\", \"fa fa-home icon-home\", \"home\"], [\"Back\", \"Back to  previous view\", \"fa fa-arrow-left icon-arrow-left\", \"back\"], [\"Forward\", \"Forward to next view\", \"fa fa-arrow-right icon-arrow-right\", \"forward\"], [\"\", \"\", \"\", \"\"], [\"Pan\", \"Pan axes with left mouse, zoom with right\", \"fa fa-arrows icon-move\", \"pan\"], [\"Zoom\", \"Zoom to rectangle\", \"fa fa-square-o icon-check-empty\", \"zoom\"], [\"\", \"\", \"\", \"\"], [\"Download\", \"Download plot\", \"fa fa-floppy-o icon-save\", \"download\"]];\n",
       "\n",
       "mpl.extensions = [\"eps\", \"jpeg\", \"pdf\", \"png\", \"ps\", \"raw\", \"svg\", \"tif\"];\n",
       "\n",
       "mpl.default_extension = \"png\";var comm_websocket_adapter = function(comm) {\n",
       "    // Create a \"websocket\"-like object which calls the given IPython comm\n",
       "    // object with the appropriate methods. Currently this is a non binary\n",
       "    // socket, so there is still some room for performance tuning.\n",
       "    var ws = {};\n",
       "\n",
       "    ws.close = function() {\n",
       "        comm.close()\n",
       "    };\n",
       "    ws.send = function(m) {\n",
       "        //console.log('sending', m);\n",
       "        comm.send(m);\n",
       "    };\n",
       "    // Register the callback with on_msg.\n",
       "    comm.on_msg(function(msg) {\n",
       "        //console.log('receiving', msg['content']['data'], msg);\n",
       "        // Pass the mpl event to the overridden (by mpl) onmessage function.\n",
       "        ws.onmessage(msg['content']['data'])\n",
       "    });\n",
       "    return ws;\n",
       "}\n",
       "\n",
       "mpl.mpl_figure_comm = function(comm, msg) {\n",
       "    // This is the function which gets called when the mpl process\n",
       "    // starts-up an IPython Comm through the \"matplotlib\" channel.\n",
       "\n",
       "    var id = msg.content.data.id;\n",
       "    // Get hold of the div created by the display call when the Comm\n",
       "    // socket was opened in Python.\n",
       "    var element = $(\"#\" + id);\n",
       "    var ws_proxy = comm_websocket_adapter(comm)\n",
       "\n",
       "    function ondownload(figure, format) {\n",
       "        window.open(figure.imageObj.src);\n",
       "    }\n",
       "\n",
       "    var fig = new mpl.figure(id, ws_proxy,\n",
       "                           ondownload,\n",
       "                           element.get(0));\n",
       "\n",
       "    // Call onopen now - mpl needs it, as it is assuming we've passed it a real\n",
       "    // web socket which is closed, not our websocket->open comm proxy.\n",
       "    ws_proxy.onopen();\n",
       "\n",
       "    fig.parent_element = element.get(0);\n",
       "    fig.cell_info = mpl.find_output_cell(\"<div id='\" + id + \"'></div>\");\n",
       "    if (!fig.cell_info) {\n",
       "        console.error(\"Failed to find cell for figure\", id, fig);\n",
       "        return;\n",
       "    }\n",
       "\n",
       "    var output_index = fig.cell_info[2]\n",
       "    var cell = fig.cell_info[0];\n",
       "\n",
       "};\n",
       "\n",
       "mpl.figure.prototype.handle_close = function(fig, msg) {\n",
       "    var width = fig.canvas.width/mpl.ratio\n",
       "    fig.root.unbind('remove')\n",
       "\n",
       "    // Update the output cell to use the data from the current canvas.\n",
       "    fig.push_to_output();\n",
       "    var dataURL = fig.canvas.toDataURL();\n",
       "    // Re-enable the keyboard manager in IPython - without this line, in FF,\n",
       "    // the notebook keyboard shortcuts fail.\n",
       "    IPython.keyboard_manager.enable()\n",
       "    $(fig.parent_element).html('<img src=\"' + dataURL + '\" width=\"' + width + '\">');\n",
       "    fig.close_ws(fig, msg);\n",
       "}\n",
       "\n",
       "mpl.figure.prototype.close_ws = function(fig, msg){\n",
       "    fig.send_message('closing', msg);\n",
       "    // fig.ws.close()\n",
       "}\n",
       "\n",
       "mpl.figure.prototype.push_to_output = function(remove_interactive) {\n",
       "    // Turn the data on the canvas into data in the output cell.\n",
       "    var width = this.canvas.width/mpl.ratio\n",
       "    var dataURL = this.canvas.toDataURL();\n",
       "    this.cell_info[1]['text/html'] = '<img src=\"' + dataURL + '\" width=\"' + width + '\">';\n",
       "}\n",
       "\n",
       "mpl.figure.prototype.updated_canvas_event = function() {\n",
       "    // Tell IPython that the notebook contents must change.\n",
       "    IPython.notebook.set_dirty(true);\n",
       "    this.send_message(\"ack\", {});\n",
       "    var fig = this;\n",
       "    // Wait a second, then push the new image to the DOM so\n",
       "    // that it is saved nicely (might be nice to debounce this).\n",
       "    setTimeout(function () { fig.push_to_output() }, 1000);\n",
       "}\n",
       "\n",
       "mpl.figure.prototype._init_toolbar = function() {\n",
       "    var fig = this;\n",
       "\n",
       "    var nav_element = $('<div/>')\n",
       "    nav_element.attr('style', 'width: 100%');\n",
       "    this.root.append(nav_element);\n",
       "\n",
       "    // Define a callback function for later on.\n",
       "    function toolbar_event(event) {\n",
       "        return fig.toolbar_button_onclick(event['data']);\n",
       "    }\n",
       "    function toolbar_mouse_event(event) {\n",
       "        return fig.toolbar_button_onmouseover(event['data']);\n",
       "    }\n",
       "\n",
       "    for(var toolbar_ind in mpl.toolbar_items){\n",
       "        var name = mpl.toolbar_items[toolbar_ind][0];\n",
       "        var tooltip = mpl.toolbar_items[toolbar_ind][1];\n",
       "        var image = mpl.toolbar_items[toolbar_ind][2];\n",
       "        var method_name = mpl.toolbar_items[toolbar_ind][3];\n",
       "\n",
       "        if (!name) { continue; };\n",
       "\n",
       "        var button = $('<button class=\"btn btn-default\" href=\"#\" title=\"' + name + '\"><i class=\"fa ' + image + ' fa-lg\"></i></button>');\n",
       "        button.click(method_name, toolbar_event);\n",
       "        button.mouseover(tooltip, toolbar_mouse_event);\n",
       "        nav_element.append(button);\n",
       "    }\n",
       "\n",
       "    // Add the status bar.\n",
       "    var status_bar = $('<span class=\"mpl-message\" style=\"text-align:right; float: right;\"/>');\n",
       "    nav_element.append(status_bar);\n",
       "    this.message = status_bar[0];\n",
       "\n",
       "    // Add the close button to the window.\n",
       "    var buttongrp = $('<div class=\"btn-group inline pull-right\"></div>');\n",
       "    var button = $('<button class=\"btn btn-mini btn-primary\" href=\"#\" title=\"Stop Interaction\"><i class=\"fa fa-power-off icon-remove icon-large\"></i></button>');\n",
       "    button.click(function (evt) { fig.handle_close(fig, {}); } );\n",
       "    button.mouseover('Stop Interaction', toolbar_mouse_event);\n",
       "    buttongrp.append(button);\n",
       "    var titlebar = this.root.find($('.ui-dialog-titlebar'));\n",
       "    titlebar.prepend(buttongrp);\n",
       "}\n",
       "\n",
       "mpl.figure.prototype._root_extra_style = function(el){\n",
       "    var fig = this\n",
       "    el.on(\"remove\", function(){\n",
       "\tfig.close_ws(fig, {});\n",
       "    });\n",
       "}\n",
       "\n",
       "mpl.figure.prototype._canvas_extra_style = function(el){\n",
       "    // this is important to make the div 'focusable\n",
       "    el.attr('tabindex', 0)\n",
       "    // reach out to IPython and tell the keyboard manager to turn it's self\n",
       "    // off when our div gets focus\n",
       "\n",
       "    // location in version 3\n",
       "    if (IPython.notebook.keyboard_manager) {\n",
       "        IPython.notebook.keyboard_manager.register_events(el);\n",
       "    }\n",
       "    else {\n",
       "        // location in version 2\n",
       "        IPython.keyboard_manager.register_events(el);\n",
       "    }\n",
       "\n",
       "}\n",
       "\n",
       "mpl.figure.prototype._key_event_extra = function(event, name) {\n",
       "    var manager = IPython.notebook.keyboard_manager;\n",
       "    if (!manager)\n",
       "        manager = IPython.keyboard_manager;\n",
       "\n",
       "    // Check for shift+enter\n",
       "    if (event.shiftKey && event.which == 13) {\n",
       "        this.canvas_div.blur();\n",
       "        event.shiftKey = false;\n",
       "        // Send a \"J\" for go to next cell\n",
       "        event.which = 74;\n",
       "        event.keyCode = 74;\n",
       "        manager.command_mode();\n",
       "        manager.handle_keydown(event);\n",
       "    }\n",
       "}\n",
       "\n",
       "mpl.figure.prototype.handle_save = function(fig, msg) {\n",
       "    fig.ondownload(fig, null);\n",
       "}\n",
       "\n",
       "\n",
       "mpl.find_output_cell = function(html_output) {\n",
       "    // Return the cell and output element which can be found *uniquely* in the notebook.\n",
       "    // Note - this is a bit hacky, but it is done because the \"notebook_saving.Notebook\"\n",
       "    // IPython event is triggered only after the cells have been serialised, which for\n",
       "    // our purposes (turning an active figure into a static one), is too late.\n",
       "    var cells = IPython.notebook.get_cells();\n",
       "    var ncells = cells.length;\n",
       "    for (var i=0; i<ncells; i++) {\n",
       "        var cell = cells[i];\n",
       "        if (cell.cell_type === 'code'){\n",
       "            for (var j=0; j<cell.output_area.outputs.length; j++) {\n",
       "                var data = cell.output_area.outputs[j];\n",
       "                if (data.data) {\n",
       "                    // IPython >= 3 moved mimebundle to data attribute of output\n",
       "                    data = data.data;\n",
       "                }\n",
       "                if (data['text/html'] == html_output) {\n",
       "                    return [cell, data, j];\n",
       "                }\n",
       "            }\n",
       "        }\n",
       "    }\n",
       "}\n",
       "\n",
       "// Register the function which deals with the matplotlib target/channel.\n",
       "// The kernel may be null if the page has been refreshed.\n",
       "if (IPython.notebook.kernel != null) {\n",
       "    IPython.notebook.kernel.comm_manager.register_target('matplotlib', mpl.mpl_figure_comm);\n",
       "}\n"
      ],
      "text/plain": [
       "<IPython.core.display.Javascript object>"
      ]
     },
     "metadata": {},
     "output_type": "display_data"
    },
    {
     "data": {
      "text/html": [
       "<img src=\"data:image/png;base64,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\" width=\"799.3333333333334\">"
      ],
      "text/plain": [
       "<IPython.core.display.HTML object>"
      ]
     },
     "metadata": {},
     "output_type": "display_data"
    },
    {
     "data": {
      "application/vnd.jupyter.widget-view+json": {
       "model_id": "d50907db80574bf9afb7abc63bcb602b",
       "version_major": 2,
       "version_minor": 0
      },
      "text/plain": [
       "Button(button_style='info', description='Play Memory Game', layout=Layout(height='60px', width='30%'), style=B…"
      ]
     },
     "metadata": {},
     "output_type": "display_data"
    },
    {
     "data": {
      "application/vnd.jupyter.widget-view+json": {
       "model_id": "a49b5a515daf42e0bf340a467ad58a2f",
       "version_major": 2,
       "version_minor": 0
      },
      "text/plain": [
       "HBox(children=(RadioButtons(description='1)', options=('Melting', 'Freezing', 'Condensation', 'Vaporization', …"
      ]
     },
     "metadata": {},
     "output_type": "display_data"
    },
    {
     "data": {
      "application/vnd.jupyter.widget-view+json": {
       "model_id": "8b1ea734cf57470499b227df2c850684",
       "version_major": 2,
       "version_minor": 0
      },
      "text/plain": [
       "HBox(children=(RadioButtons(description='4)', options=('Melting', 'Freezing', 'Condensation', 'Vaporization', …"
      ]
     },
     "metadata": {},
     "output_type": "display_data"
    },
    {
     "data": {
      "application/vnd.jupyter.widget-view+json": {
       "model_id": "24c72f04bc8849549b8e521312696b89",
       "version_major": 2,
       "version_minor": 0
      },
      "text/plain": [
       "Button(button_style='info', description='Check your answers', layout=Layout(height='60px', width='30%'), style…"
      ]
     },
     "metadata": {},
     "output_type": "display_data"
    },
    {
     "data": {
      "application/vnd.jupyter.widget-view+json": {
       "model_id": "5a34400c4d014ce28ea12e6ac541e655",
       "version_major": 2,
       "version_minor": 0
      },
      "text/plain": [
       "Output()"
      ]
     },
     "metadata": {},
     "output_type": "display_data"
    }
   ],
   "source": [
    "%matplotlib notebook\n",
    "\n",
    "#Memory game for state transitions\n",
    "import random\n",
    "\n",
    "x = [470,550,810,810,1100,1180]\n",
    "y = [550,550,835,905,550,550]\n",
    "\n",
    "img = plt.imread(\"images/changes_of_state.png\")\n",
    "fig, ax = plt.subplots(figsize = (8,8), num = 'Changes of State of Water')\n",
    "ax.imshow(img)\n",
    "\n",
    "\n",
    "annot = ax.annotate(\"\", xy=(0,0), xytext=(30,30),textcoords=\"offset points\",\n",
    "                    bbox=dict(boxstyle=\"round\", fc=\"w\"),\n",
    "                    arrowprops=dict(arrowstyle=\"->\"))\n",
    "annot.set_visible(False)\n",
    "\n",
    "\n",
    "names = ['Melting','Freezing','Condensation','Vaporization','Deposition','Sublimation']\n",
    "\n",
    "norm = plt.Normalize(1,4)\n",
    "cmap = plt.cm.RdYlGn\n",
    "sc = plt.scatter(x,y,c = 'k', marker = 's', alpha = 1, s = 250)\n",
    "\n",
    "annot = ax.annotate(\"\", xy=(0,0), xytext=(30,30),textcoords=\"offset points\",\n",
    "                    bbox=dict(boxstyle=\"round\", fc=\"w\"),\n",
    "                    arrowprops=dict(arrowstyle=\"->\"))\n",
    "annot.set_visible(False)\n",
    "\n",
    "def update_annot(ind):\n",
    "\n",
    "    pos = sc.get_offsets()[ind[\"ind\"][0]]\n",
    "    annot.xy = pos\n",
    "    text = \"{}\".format(\" \".join([names[n] for n in ind[\"ind\"]]))\n",
    "    annot.set_text(text)\n",
    "    annot.get_bbox_patch().set_alpha(1)\n",
    "\n",
    "\n",
    "def hover(event):\n",
    "    vis = annot.get_visible()\n",
    "    if event.inaxes == ax:\n",
    "        cont, ind = sc.contains(event)\n",
    "        if cont:\n",
    "            update_annot(ind)\n",
    "            annot.set_visible(True)\n",
    "            fig.canvas.draw_idle()\n",
    "        else:\n",
    "            if vis:\n",
    "                annot.set_visible(False)\n",
    "                fig.canvas.draw_idle()\n",
    "\n",
    "fig.canvas.mpl_connect(\"motion_notify_event\", hover)\n",
    "\n",
    "fig.patch.set_visible(False)\n",
    "ax.axis('off')\n",
    "plt.show()\n",
    "\n",
    "memgame = widgets.Button(description= \"Play Memory Game\", \n",
    "                         layout = Layout(width='30%', height='60px'),\n",
    "                         button_style = 'info'\n",
    "                        )\n",
    "reset = widgets.Button(description=\"Reset Game\", \n",
    "                       layout = Layout(width='30%', height='60px'),\n",
    "                       button_style = 'info'\n",
    "                      )\n",
    "\n",
    "display(memgame)\n",
    "\n",
    "a1 = widgets.RadioButtons(\n",
    "options=['Melting','Freezing','Condensation','Vaporization','Deposition','Sublimation'],\n",
    "description = '1)',\n",
    "value = None,\n",
    "disabled=False)\n",
    "a2 = widgets.RadioButtons(\n",
    "options=['Melting','Freezing','Condensation','Vaporization','Deposition','Sublimation'],\n",
    "description = '2)',\n",
    "value = None,\n",
    "disabled=False)\n",
    "a3 = widgets.RadioButtons(\n",
    "options=['Melting','Freezing','Condensation','Vaporization','Deposition','Sublimation'],\n",
    "description = '3)',\n",
    "value = None,\n",
    "disabled=False)\n",
    "a4 = widgets.RadioButtons(\n",
    "options=['Melting','Freezing','Condensation','Vaporization','Deposition','Sublimation'],\n",
    "description = '4)',\n",
    "value = None,\n",
    "disabled=False)\n",
    "a5 = widgets.RadioButtons(\n",
    "options=['Melting','Freezing','Condensation','Vaporization','Deposition','Sublimation'],\n",
    "description = '5)',\n",
    "value = None,\n",
    "disabled=False)\n",
    "a6 = widgets.RadioButtons(\n",
    "options=['Melting','Freezing','Condensation','Vaporization','Deposition','Sublimation'],\n",
    "description = '6)',\n",
    "value = None,\n",
    "disabled=False)\n",
    "\n",
    "Qs1to3 = widgets.HBox([a1,a2,a3])\n",
    "Qs4to6 = widgets.HBox([a4,a5,a6])\n",
    "button_check = widgets.Button(description=\"Check your answers\", \n",
    "                        layout = Layout(width='30%', height='60px'),\n",
    "                        button_style = 'info'\n",
    ")\n",
    "\n",
    "def button_onclick(b):\n",
    "    annot.remove()\n",
    "    x = [470,550,810,810,1100,1180]\n",
    "    y = [550,550,835,905,550,550]\n",
    "    ax.axis('off')\n",
    "    plt.scatter(x,y,c = 'k', marker = 's', alpha = 1, s = 250)\n",
    "    a = [1,2,3,4,5,6]\n",
    "    corr = 10  #small correction on number\n",
    "    random.shuffle(a)\n",
    "    for i,j,k in zip(x,y,a):\n",
    "        ax.annotate(str(k), xy = (i-corr,j+corr), color = 'w')\n",
    "\n",
    "    display(Qs1to3)\n",
    "    display(Qs4to6)\n",
    "\n",
    "    display(button_check)\n",
    "    output0 = widgets.Output()\n",
    "    def check_button(x):\n",
    "        output0.clear_output()\n",
    "        if a1.value == names[a.index(1)] and a2.value == names[a.index(2)] and a3.value == names[a.index(3)] \\\n",
    "        and a4.value == names[a.index(4)] and a5.value == names[a.index(5)] and a6.value == names[a.index(6)]:\n",
    "            display(Markdown(\"Correct!\"))\n",
    "            display(play_again)\n",
    "        else:   \n",
    "            inc = []\n",
    "            answers = [a1.value,a2.value,a3.value,a4.value,a5.value,a6.value]\n",
    "            for i in range(len(answers)):\n",
    "                if answers[i] != names[a.index(i+1)]:\n",
    "                    inc.append(\"Incorrect\")\n",
    "                else:\n",
    "                    inc.append(\"Correct\")\n",
    "                \n",
    "            \n",
    "            output0.append_display_data(Latex(\"Those aren't quite correct, please try again.\"))\n",
    "            output0.append_display_data(Latex(\"1. %s, 2. %s, 3. %s, 4. %s, 5. %s, 6. %s\" %tuple(inc[:])))\n",
    "    display(output0)\n",
    "    button_check.on_click(check_button)\n",
    "                    \n",
    "        \n",
    "memgame.on_click(button_onclick)\n",
    "\n",
    "play_again = widgets.Button(description = \"Play Again\",\n",
    "                            layout = Layout(width='30%', height='60px'),\n",
    "                            button_style = 'info'\n",
    "                           )\n",
    "\n",
    "def joue_encore(x):\n",
    "    clear_output()\n",
    "    img = plt.imread(\"images/changes_of_state.png\")\n",
    "    fig, ax = plt.subplots(figsize = (8,8))\n",
    "    ax.imshow(img)\n",
    "    x = [470,550,810,810,1100,1180]\n",
    "    y = [550,550,835,905,550,550]\n",
    "    ax.axis('off')\n",
    "    plt.scatter(x,y,c = 'k', marker = 's', alpha = 0, s = 250 )\n",
    "    a = [1,2,3,4,5,6]\n",
    "    corr = 10  #small correction on number\n",
    "    random.shuffle(a)\n",
    "    for i,j,k in zip(x,y,a):\n",
    "        ax.annotate(str(k), xy = (i-corr,j+corr), color = 'w')\n",
    "\n",
    "    display(Qs1to3)\n",
    "    display(Qs4to6)\n",
    "    button_check = widgets.Button(description=\"Check your answers\", \n",
    "                            layout = Layout(width='30%', height='60px'),\n",
    "                            button_style = 'info'\n",
    "                           )\n",
    "    display(button_check)\n",
    "    output= widgets.Output()\n",
    "    def check_button(x):\n",
    "        output.clear_output()\n",
    "        if a1.value == names[a.index(1)] and a2.value == names[a.index(2)] and a3.value == names[a.index(3)] \\\n",
    "        and a4.value == names[a.index(4)] and a5.value == names[a.index(5)] and a6.value == names[a.index(6)]:\n",
    "            display(Markdown(\"Correct!\"))\n",
    "            display(play_again)\n",
    "        else:   \n",
    "            inc = []\n",
    "            answers = [a1.value,a2.value,a3.value,a4.value,a5.value,a6.value]\n",
    "            for i in range(len(answers)):\n",
    "                if answers[i] != names[a.index(i+1)]:\n",
    "                    inc.append(\"Incorrect\")\n",
    "                else:\n",
    "                    inc.append(\"Correct\")\n",
    "                \n",
    "            output.append_display_data(Latex(\"Those aren't quite correct, please try again.\"))\n",
    "            output.append_display_data(Latex(\"1. %s, 2. %s, 3. %s, 4. %s, 5. %s, 6. %s\" %tuple(inc[:])))\n",
    "    dipslay(output)\n",
    "    button_check.on_click(check_button)\n",
    "\n",
    "play_again.on_click(joue_encore) \n"
   ]
  },
  {
   "cell_type": "markdown",
   "metadata": {
    "hidden": false
   },
   "source": [
    "### <center>Visualizing the changes of state</center>\n",
    "\n",
    "Below is an interactive animation on the changes of state for *water*. Move the slider to change the temperature of the particles in the box below. Observe where the changes of state occur and how the particles gain more kinetic energy as the temperature increases."
   ]
  },
  {
   "cell_type": "code",
   "execution_count": 7,
   "metadata": {
    "hidden": false
   },
   "outputs": [
    {
     "data": {
      "text/html": [
       "\n",
       "<div style=\"text-align: center\">\n",
       "    <iframe width=\"500px\" height=\"420px\" src=\"animations/changes_of_state.html\" frameborder=\"0\"></iframe>\n",
       "</div>\n",
       "         \n"
      ],
      "text/plain": [
       "<IPython.core.display.HTML object>"
      ]
     },
     "metadata": {},
     "output_type": "display_data"
    }
   ],
   "source": [
    "%%html\n",
    "\n",
    "<div style=\"text-align: center\">\n",
    "    <iframe width=\"500px\" height=\"420px\" src=\"animations/changes_of_state.html\" frameborder=\"0\"></iframe>\n",
    "</div>\n",
    "         "
   ]
  },
  {
   "cell_type": "markdown",
   "metadata": {
    "hidden": false
   },
   "source": [
    "# <center> How is Heat Transmitted?</center>\n",
    "There are three main methods by which heat is transmitted: conduction, convection and radiation. Below we present the basic theory behind these methods of heat transfer and some applications of how we use them to improve our lives. Examples will be provided where we analyze how the three different methods of heat transmission occur in natural processes. "
   ]
  },
  {
   "cell_type": "markdown",
   "metadata": {
    "hidden": false
   },
   "source": [
    "## 1. Conduction\n",
    "Heat transfer via **conduction** occurs when two bodies, with different temperatures, are in physical contact with each other. Conduction is how a stove top heats a pan or why a hot cup feels warm on your hand. Different materials conduct heat faster or slower. The conductivity of material also depends on what state it is in. These differences are expressed by a material property known as the ***thermal conductivity***. \n",
    "\n",
    "<img src = \"images/thermal_conductivity.jpg\" width =\"480\" height=\"480\" style = \"border-radius: 8px;\">\n",
    "\n",
    "\n",
    "\n",
    "\n",
    "This graphic provides an visual interpretion of the heat flow, denoted as $\\rm Q$ between two bodies in contact at surface $\\rm A$ with temperatures $\\rm T_1$ and $\\rm T_2$. Let's explore how thermal conductivity changes in different materials.\n",
    "\n",
    "### Thermal Conductivity\n",
    "\n",
    "Materials with low thermal conductivity transfer heat slowly and materials with high conductivity transfer heat quickly. Can you think of some benefits of using materials with different a thermal conductivity for commercial use? \n",
    "\n",
    "For example, consider a to-go mug. The whole purpose of this product is to keep the contained drink warm or cold. If the drink is warm, the contents will be warmer than the mug itself. They will then exchange heat to the body of the mug via conduction. If the drink is cold then the mug will transfer heat to the contents. In each case the mug is in contact with the external environment; the air outside or your hand. The environment itself, depending on its temperature, will either transfer heat to or gain heat from the mug. Since this additional heat transfer is on going, eventually the mug and the drink inside will reach the same temperature as the outside environment.\n",
    "\n",
    "In either case, one would want the mug to have a low *thermal conductivity* so that it does not easily exchange heat with its environment. This will preserve the temperature of its contents. Below is an interesting video from Veritasium illustrating how conduction occurs differently in different materials. \n",
    "\n",
    "If you haven't heard of Veritasium before, I strongly encourage you to check the YouTube channel out. He explains a lot of topics in science and there's always something new to learn from each video."
   ]
  },
  {
   "cell_type": "code",
   "execution_count": 8,
   "metadata": {
    "hidden": false,
    "scrolled": true,
    "slideshow": {
     "slide_type": "fragment"
    }
   },
   "outputs": [
    {
     "data": {
      "text/html": [
       "<div style=\"text-align: center\">\n",
       "<iframe width=\"560\" height=\"315\" src=\"https://www.youtube.com/embed/vqDbMEdLiCs\" frameborder=\"0\" allow=\"autoplay; encrypted-media\" allowfullscreen></iframe>\n",
       "</div>\n"
      ],
      "text/plain": [
       "<IPython.core.display.HTML object>"
      ]
     },
     "metadata": {},
     "output_type": "display_data"
    }
   ],
   "source": [
    "%%html\n",
    "<div style=\"text-align: center\">\n",
    "<iframe width=\"560\" height=\"315\" src=\"https://www.youtube.com/embed/vqDbMEdLiCs\" frameborder=\"0\" allow=\"autoplay; encrypted-media\" allowfullscreen></iframe>\n",
    "</div>"
   ]
  },
  {
   "cell_type": "markdown",
   "metadata": {
    "hidden": false
   },
   "source": [
    "## 2. Convection\n",
    "\n",
    "Heat transfer via **convection** occurs due to the movement of molecules in a fluid (gas or liquid). Convection is perhaps the most intuitive method of heat transfer. Since it involves the flow of a gas or liquid from a warmer to a colder temperature within the fluid, it is easy to visualize. Convection does not occur in solid materials because the molecules that make up a solid do not have the ability to flow; this is what makes a solid a solid. Not unlike conduction, convection occurs from the flow of heat energy due a temperature difference within a fluid. The hotter fluid flows to regions where the fluid is cooler. It is the process which governs the currents in our oceans and the movement of air in our atmosphere. Our understanding of convection has helped us forecast the weather and even explain how energy is transported within the sun!\n",
    "\n",
    "---\n",
    "**Why does the movement occur?**\n",
    "\n",
    "If we consider the particle model of matter, the fluid moves due to changes in **kinetic energy** of the particles in the fluid. The hotter regions in the fluid, the ones with more heat energy, have more \"excited\" particles that are colliding into one another more frequently. These regions are less **dense** than the colder regions. In the colder regions, the particles are colliding into one another less frequently therefore they do not spread out as much. Since there are less collisions, the particles are more concentrated in the colder region. These more dense and concentrated regions in the fluid are heavier since they have more particles in them. The cold, heavier regions will sink; allowing for the hotter regions to rise. Convection is the reason why \"heat rises\" in a room. \n",
    "\n",
    "---\n",
    "**Examples of convective processes**\n",
    "\n",
    "\n",
    "- In a pot filled with water on the stove, we observe convective heat transfer in the bubbles rising to the top of the pot. These are hotter, *lense dense* regions rising to the surface of the liquid. When these regions reach the point the that they are lense dense than the surrounding air, they will evaporate and undergo a transition of state from liquid to gas. \n",
    "\n",
    "<img src=\"images/pot_boiling.png\" width = \"400\" height = \"400\" style = \"border-radius: 8px;\">\n",
    "\n",
    "\n",
    "- In stars, there is a zone in which energy is transported from the core of the star, where energy is produced by nuclear fusion, to the surface. This is known as the *convective zone*. Due to the complicated nature of energy transportation within stars, this proces is difficult to model and the subject of ongoing research within the field of stellar astrophysics. Understanding convection has helped astrophysicists know more about our sun and other stars like it!\n",
    "\n",
    "<img src = \"images/convectioninstarsdata.jpg\" width=\"400\" height=\"400\" style = \"border-radius: 8px;\">\n",
    "\n",
    "\n",
    "- In the atmosphere, convection plays a major role in the creation of a thunderstorm. Clouds form as hotter air rises, carrying moisture with them. The air cools on its ascent, causing the moisture to condense. If the air is unstable enough, this process can occur for a longer time. This results in the formation of \"cumulonimbus clouds\", which are those very tall pillowy clouds that often produce thunder and lightning. Given enough moisture, instability in the air and convection (heat transfer), a thuderstorm is likely to occur. \n",
    "\n",
    "<img src = \"images/convectioninthunderstorms.jpg\" width = \"500\" height = \"500\" style = \"border-radius: 8px;\">\n",
    "\n",
    "---"
   ]
  },
  {
   "cell_type": "markdown",
   "metadata": {
    "hidden": false
   },
   "source": [
    "## 3. Radiation\n",
    "\n",
    "Radiation is our third and final form of heat transfer to discuss. Heat transfer via radiation occurs in all matter that has a temperature above absolute 0 (0 Kelvin). It occurs from a conversion of thermal energy into *electromagnetic energy*. Energy is \"radiated\" away from a body in the form of \"light\". This light varies in wavelength and is dependent on the temperature of the body; hotter objects emit radiation at shorter wavelengths that carry higher energy. For example, in a fire, you may have heard how the blue part of a fire is hotter than the red part. This is true and is due to the fact that blue light has a shorter wavelength than red light, and since the wavelength is dependent on the temperature of the material emmitting it, the blue portion of a fire is hotter. \n",
    "\n",
    "An interesting consequence of this fact comes from the analysis of the wavelengths of light radiated from the sun. Below is graphic showing the types of radiation emitted from the sun.\n",
    "\n",
    "\n",
    "<img src = \"images/earth_sun_plank.jpg\" width = \"400\" height =\"400\" style = \"border-radius: 8px;\">\n",
    "\n",
    "\n",
    "The most intensely radiated wavelength from the sun comes from the green part of visible light. Plants, trees, and even our eyes have become fine tuned to absorbing and perceiving more variations of the colour green because this is the most prominent radiation from the sun. Understanding thermal radiation has offered a scientific explanation for why our planet is so green. \n",
    "\n",
    "---\n",
    "Exercises \n",
    "---\n",
    "Below a list of processes in which heat transfer occurs in different forms. You will be asked to check the box for which type of heat transfer you think is correct to match the description. Press \"Check Answer\" to see if you were correct!\n",
    "\n",
    "## <center>Boiling Water </center>\n",
    "\n",
    "<img src=\"images/Boiling_Water_pic.jpg\" height = \"400\" width = \"400\" style = \"border-radius: 8px;\"/> \n",
    "\n",
    "\n",
    "---"
   ]
  },
  {
   "cell_type": "code",
   "execution_count": 9,
   "metadata": {
    "hidden": false
   },
   "outputs": [
    {
     "data": {
      "text/markdown": [
       "1) After you turn on the stove, you hold your hand above the stove and it feels hot."
      ],
      "text/plain": [
       "<IPython.core.display.Markdown object>"
      ]
     },
     "metadata": {},
     "output_type": "display_data"
    },
    {
     "data": {
      "application/vnd.jupyter.widget-view+json": {
       "model_id": "b5704699b9264d35872c0cdc2f191532",
       "version_major": 2,
       "version_minor": 0
      },
      "text/plain": [
       "RadioButtons(options=('Conduction', 'Convection', 'Radiation'), value=None)"
      ]
     },
     "metadata": {},
     "output_type": "display_data"
    },
    {
     "data": {
      "text/markdown": [
       "2) The pot starts to heat up when placed on the stove."
      ],
      "text/plain": [
       "<IPython.core.display.Markdown object>"
      ]
     },
     "metadata": {},
     "output_type": "display_data"
    },
    {
     "data": {
      "application/vnd.jupyter.widget-view+json": {
       "model_id": "7ad55489878a478ba458a09e409a2bcc",
       "version_major": 2,
       "version_minor": 0
      },
      "text/plain": [
       "RadioButtons(options=('Conduction', 'Convection', 'Radiation'), value=None)"
      ]
     },
     "metadata": {},
     "output_type": "display_data"
    },
    {
     "data": {
      "text/markdown": [
       "3) Hot water rises to the surface of the pot."
      ],
      "text/plain": [
       "<IPython.core.display.Markdown object>"
      ]
     },
     "metadata": {},
     "output_type": "display_data"
    },
    {
     "data": {
      "application/vnd.jupyter.widget-view+json": {
       "model_id": "4ea19fe6fd254365a7f73e387f7d5e39",
       "version_major": 2,
       "version_minor": 0
      },
      "text/plain": [
       "RadioButtons(options=('Conduction', 'Convection', 'Radiation'), value=None)"
      ]
     },
     "metadata": {},
     "output_type": "display_data"
    },
    {
     "data": {
      "text/markdown": [
       "4) Steam from the pot feels hot on your hand. (Somewhat tricky)"
      ],
      "text/plain": [
       "<IPython.core.display.Markdown object>"
      ]
     },
     "metadata": {},
     "output_type": "display_data"
    },
    {
     "data": {
      "application/vnd.jupyter.widget-view+json": {
       "model_id": "68b48ba2fe7041f891c96e386ffd7195",
       "version_major": 2,
       "version_minor": 0
      },
      "text/plain": [
       "RadioButtons(options=('Conduction', 'Convection', 'Radiation'), value=None)"
      ]
     },
     "metadata": {},
     "output_type": "display_data"
    },
    {
     "data": {
      "application/vnd.jupyter.widget-view+json": {
       "model_id": "abbdab74315742d28f84a59c56dfdfcf",
       "version_major": 2,
       "version_minor": 0
      },
      "text/plain": [
       "Button(button_style='info', description='Check your answers', layout=Layout(height='60px', width='30%'), style…"
      ]
     },
     "metadata": {},
     "output_type": "display_data"
    },
    {
     "data": {
      "application/vnd.jupyter.widget-view+json": {
       "model_id": "3845507507844063a9eb156343478247",
       "version_major": 2,
       "version_minor": 0
      },
      "text/plain": [
       "Output()"
      ]
     },
     "metadata": {},
     "output_type": "display_data"
    }
   ],
   "source": [
    "a1 = widgets.RadioButtons(\n",
    "    options=['Conduction', 'Convection', 'Radiation'],\n",
    "    disabled=False,\n",
    "    value = None,\n",
    "    continuous_update=True\n",
    ")\n",
    "a2 = widgets.RadioButtons(\n",
    "    options=['Conduction', 'Convection', 'Radiation'],\n",
    "    disabled=False,\n",
    "    value = None,\n",
    "    continuous_update=True\n",
    ")\n",
    "a3 = widgets.RadioButtons(\n",
    "    options=['Conduction', 'Convection', 'Radiation'],\n",
    "    disabled=False,\n",
    "    value = None,\n",
    "    continuous_update=True\n",
    ")\n",
    "a4 = widgets.RadioButtons(\n",
    "    options=['Conduction', 'Convection', 'Radiation'],\n",
    "    disabled=False,\n",
    "    value = None,\n",
    "    continuous_update=True\n",
    ")\n",
    "\n",
    "#create a button widget to check answers, again calling the button to display\n",
    "button_check = widgets.Button(description=\"Check your answers\",\n",
    "                              layout = Layout(width='30%', height='60px'),\n",
    "                              button_style = 'info'\n",
    "                             )\n",
    "\n",
    "\n",
    "#compare answers to responses\n",
    "def compare(l1,l2):\n",
    "    a = []\n",
    "    for i in range(0,min(len(l1),len(l2))):\n",
    "        if l1[i] == l2[i]:\n",
    "            a.append(1)\n",
    "        else:\n",
    "            a.append(0)\n",
    "    return a\n",
    "\n",
    "ans1 = ['Radiation', 'Conduction', 'Convection', 'Conduction']\n",
    "\n",
    "out = widgets.Output()\n",
    "\n",
    "def check_button(event):\n",
    "\n",
    "    out.clear_output()\n",
    "    rs1 = [a1.value, a2.value, a3.value, a4.value]\n",
    "\n",
    "    if  rs1 == ans1:\n",
    "        out.append_display_data(Markdown(\"Correct! Here's why : </br></br> \\\n",
    "                          1. The stove top heats up and radiates energy away from it. This is what you feels in your hand as heat. </br> \\\n",
    "                          2. The stove top conducts heat to the pot since they are in physical contact with one another. </br> \\\n",
    "                          3. Heat is transferred by fluid motion within the water via convection. </br> \\\n",
    "                          4. The gas particles carry heat energy, in the form of kinetic energy, which gets transferred via physical contact with your hand and the steam. </br> \\\n",
    "                             Since the heat transfer occurs via physical contact, the process responsible for the heat transfer is conduction. \"))\n",
    "    else:  \n",
    "        bien = compare(rs1,ans1)\n",
    "        h = []\n",
    "        for i in bien:\n",
    "            if i == 0:\n",
    "                h.append('Incorrect')\n",
    "            if i == 1:\n",
    "                h.append('Correct')\n",
    "\n",
    "        s = \"Those aren't quite correct, please try again.\"\n",
    "        corrections = \"1. %s, 2. %s, 3. %s, 4. %s\" %(h[0],h[1],h[2],h[3])\n",
    "        out.append_display_data(Latex(s))\n",
    "        out.append_display_data(Latex(corrections))\n",
    "        \n",
    "button_check.on_click(check_button)\n",
    "\n",
    "display(Markdown('1) After you turn on the stove, you hold your hand above the stove and it feels hot.'))\n",
    "display(a1)\n",
    "display(Markdown('2) The pot starts to heat up when placed on the stove.'))\n",
    "display(a2)\n",
    "display(Markdown('3) Hot water rises to the surface of the pot.'))\n",
    "display(a3)\n",
    "display(Markdown('4) Steam from the pot feels hot on your hand. (Somewhat tricky)'))\n",
    "display(a4)\n",
    "\n",
    "display(button_check) \n",
    "display(out)\n"
   ]
  },
  {
   "cell_type": "markdown",
   "metadata": {
    "hidden": false
   },
   "source": [
    "## <center>Refrigerator</center>\n",
    "\n",
    "<img src=\"images/fridge.jpg\" height = \"300\" width=\"300\">\n",
    "\n"
   ]
  },
  {
   "cell_type": "code",
   "execution_count": 10,
   "metadata": {
    "hidden": false,
    "scrolled": false
   },
   "outputs": [
    {
     "data": {
      "text/markdown": [
       "1) Hot air is pumped out of the food compartment"
      ],
      "text/plain": [
       "<IPython.core.display.Markdown object>"
      ]
     },
     "metadata": {},
     "output_type": "display_data"
    },
    {
     "data": {
      "application/vnd.jupyter.widget-view+json": {
       "model_id": "eae17c68fdcd42ae827c720669ef8be2",
       "version_major": 2,
       "version_minor": 0
      },
      "text/plain": [
       "RadioButtons(options=('Conduction', 'Convection', 'Radiation'), value=None)"
      ]
     },
     "metadata": {},
     "output_type": "display_data"
    },
    {
     "data": {
      "text/markdown": [
       "2)  You grab a cold popsicle out of the refrigerator. It feels cold on your hand."
      ],
      "text/plain": [
       "<IPython.core.display.Markdown object>"
      ]
     },
     "metadata": {},
     "output_type": "display_data"
    },
    {
     "data": {
      "application/vnd.jupyter.widget-view+json": {
       "model_id": "01176fcac36c46bfa51c5777bc2990d8",
       "version_major": 2,
       "version_minor": 0
      },
      "text/plain": [
       "RadioButtons(options=('Conduction', 'Convection', 'Radiation'), value=None)"
      ]
     },
     "metadata": {},
     "output_type": "display_data"
    },
    {
     "data": {
      "text/markdown": [
       "3) How did the popsicle get cold? How did it transfer heat energy while sitting in the refrigerator?"
      ],
      "text/plain": [
       "<IPython.core.display.Markdown object>"
      ]
     },
     "metadata": {},
     "output_type": "display_data"
    },
    {
     "data": {
      "application/vnd.jupyter.widget-view+json": {
       "model_id": "1fffff92615449dbb036962666c96ff7",
       "version_major": 2,
       "version_minor": 0
      },
      "text/plain": [
       "RadioButtons(options=('Conduction', 'Convection', 'Radiation'), value=None)"
      ]
     },
     "metadata": {},
     "output_type": "display_data"
    },
    {
     "data": {
      "text/markdown": [
       "4) You open the refrigerator door and it feels cold inside."
      ],
      "text/plain": [
       "<IPython.core.display.Markdown object>"
      ]
     },
     "metadata": {},
     "output_type": "display_data"
    },
    {
     "data": {
      "application/vnd.jupyter.widget-view+json": {
       "model_id": "ab95683561064c898f3be2bc42e2e43f",
       "version_major": 2,
       "version_minor": 0
      },
      "text/plain": [
       "RadioButtons(options=('Conduction', 'Convection', 'Radiation'), value=None)"
      ]
     },
     "metadata": {},
     "output_type": "display_data"
    },
    {
     "data": {
      "application/vnd.jupyter.widget-view+json": {
       "model_id": "24c72f04bc8849549b8e521312696b89",
       "version_major": 2,
       "version_minor": 0
      },
      "text/plain": [
       "Button(button_style='info', description='Check your answers', layout=Layout(height='60px', width='30%'), style…"
      ]
     },
     "metadata": {},
     "output_type": "display_data"
    },
    {
     "data": {
      "application/vnd.jupyter.widget-view+json": {
       "model_id": "b6e51ce998ec49b58f185495f392b674",
       "version_major": 2,
       "version_minor": 0
      },
      "text/plain": [
       "Output()"
      ]
     },
     "metadata": {},
     "output_type": "display_data"
    }
   ],
   "source": [
    "display(Markdown('1) Hot air is pumped out of the food compartment'))\n",
    "\n",
    "a1 = widgets.RadioButtons(\n",
    "    options=['Conduction', 'Convection', 'Radiation'],\n",
    "    value = None,\n",
    "    disabled=False\n",
    ")\n",
    "\n",
    "display(a1)\n",
    "\n",
    "display(Markdown('2)  You grab a cold popsicle out of the refrigerator. It feels cold on your hand.'))\n",
    "\n",
    "a2 = widgets.RadioButtons(\n",
    "    options=['Conduction', 'Convection', 'Radiation'],\n",
    "    value = None,\n",
    "    disabled=False\n",
    ")\n",
    "\n",
    "display(a2)\n",
    "\n",
    "display(Markdown('3) How did the popsicle get cold? How did it transfer heat energy while sitting in the refrigerator?'))\n",
    "\n",
    "a3 = widgets.RadioButtons(\n",
    "    options=['Conduction', 'Convection', 'Radiation'],\n",
    "    value = None,\n",
    "    disabled=False\n",
    ")\n",
    "display(a3)\n",
    "\n",
    "display(Markdown('4) You open the refrigerator door and it feels cold inside.'))\n",
    "\n",
    "a4 = widgets.RadioButtons(\n",
    "    options=['Conduction', 'Convection', 'Radiation'],\n",
    "    value = None,\n",
    "    disabled=False\n",
    ")\n",
    "\n",
    "display(a4)\n",
    "\n",
    "#create a button widget to check answers, again calling the button to display\n",
    "button_check = widgets.Button(description=\"Check your answers\",\n",
    "                              layout = Layout(width='30%', height='60px'),\n",
    "                              button_style = 'info'\n",
    "                             )\n",
    "display(button_check)\n",
    "\n",
    "#Answers to be checked against, third entry should be != Conduction, fourth is != 'Radiation'\n",
    "ans = ['Convection','Conduction', 'Conduction','Radiation']\n",
    "\n",
    "\n",
    "#compare answers to responses\n",
    "def compare(l1,l2):\n",
    "    a = []\n",
    "    for i in range(0,min(len(l1),len(l2))):\n",
    "        if l1[i] == l2[i]:\n",
    "            a.append(1)\n",
    "        else:\n",
    "            a.append(0)\n",
    "    return a\n",
    "\n",
    "outtie = widgets.Output()\n",
    "def check_button(x):\n",
    "    outtie.clear_output()\n",
    "    rs = [a1.value, a2.value, a3.value, a4.value]  #responses\n",
    "    if rs[0] == ans[0]  and rs[1] == ans[1] and rs[2] != ans[2] and rs[3] != ans[3]:\n",
    "        outtie.append_display_data(Markdown(\"Correct! Here's why : </br></br> \\\n",
    "                          1. Hot air flows out of the fridge via convection. </br> \\\n",
    "                          2. Heat is transferred via convection since your hand it hotter than the popsicle. </br> \\\n",
    "                          3. Heat is transferred by radiation or conduction. The food sitting in the refrigerator radiates heat energy and also conducts heat to the colder air within the fridge. </br> \\\n",
    "                          4. Heat is transferred via conduction from your warmer self to the cold air within the refrigerator.\"))\n",
    "    else: \n",
    "        a = compare(rs,ans)\n",
    "        bien = [1,1,0,0] #This is what \"a\" should be\n",
    "        xx = compare(a,bien)\n",
    "        h = []\n",
    "        for i in xx:\n",
    "            if i == 0:\n",
    "                h.append('Incorrect')\n",
    "            if i == 1:\n",
    "                h.append('Correct')\n",
    "                \n",
    "        outtie.append_display_data(Latex(\"Those aren't quite correct, please try again.\"))\n",
    "        outtie.append_display_data(Latex(\"1. %s, 2. %s, 3. %s, 4. %s\" %(h[0],h[1],h[2],h[3])))\n",
    "        \n",
    "button_check.on_click(check_button)\n",
    "display(outtie)\n",
    "\n"
   ]
  },
  {
   "cell_type": "markdown",
   "metadata": {
    "hidden": false
   },
   "source": [
    "# Conclusion\n",
    "---\n",
    "In this Jupyter Notebook you learned about some aspects of the nature of thermal energy. We differentiated between heat and temperature. The particle model was used to describe the effect of heat on matter. You learned about the various modes of heat transfer:\n",
    "- **Conduction**\n",
    "- **Convection**\n",
    "- **Radiation**\n",
    "\n",
    "You also some examples of how these processes are studied in everyday life.\n",
    "You also learned the different changes of state of matter. If you don't feel like you have these memorized, I encourage you to play the memory game a few more times. \n",
    "\n",
    "We exploit thermal energy to improve our daily lives. It is through our understanding of the processes that govern heat that we have been able to do so."
   ]
  },
  {
   "cell_type": "markdown",
   "metadata": {
    "hidden": false
   },
   "source": [
    "**Image References**\n",
    "\n",
    "- conduction :<font size = \"0.5\"> https://www.khanacademy.org/science/physics/thermodynamics/specific-heat-and-heat-transfer/a/what-is-thermal-conductivity </font>\n",
    "- sun: <font size=\"0.5\"> https://phys.org/news/2016-07-astronomers-gain-insight-magnetic-field.html</font>\n",
    "- thunderstorm: <font size = \"0.5\">https://www.britannica.com/science/thunderstorm </font>\n",
    "- boiling pot:  <font size = \"0.5\">https://dr282zn36sxxg.cloudfront.net/datastreams/f-d%3A5f69d56e0b81661f4564d03405f4cd0be18c94afbe66c30f9eb9a17b%2BIMAGE_THUMB_POSTCARD_TINY%2BIMAGE_THUMB_POSTCARD_TINY.</font>\n",
    "- radiation diagram: <font size = \"0.5\"> http://apollo.lsc.vsc.edu/classes/met130/notes/chapter2/plank_e_sun.html </font> "
   ]
  },
  {
   "cell_type": "markdown",
   "metadata": {
    "hidden": false
   },
   "source": [
    "<img src = 'images/Callysto_Notebook-Banners_Bottom.jpg'>"
   ]
  }
 ],
 "metadata": {
  "kernelspec": {
   "display_name": "Python 3",
   "language": "python",
   "name": "python3"
  },
  "language_info": {
   "codemirror_mode": {
    "name": "ipython",
    "version": 3
   },
   "file_extension": ".py",
   "mimetype": "text/x-python",
   "name": "python",
   "nbconvert_exporter": "python",
   "pygments_lexer": "ipython3",
   "version": "3.6.8"
  },
  "nbTranslate": {
   "displayLangs": [
    "*"
   ],
   "hotkey": "alt-t",
   "langInMainMenu": true,
   "sourceLang": "en",
   "targetLang": "fr",
   "useGoogleTranslate": true
  }
 },
 "nbformat": 4,
 "nbformat_minor": 2
}

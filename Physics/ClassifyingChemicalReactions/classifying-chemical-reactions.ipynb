{
 "cells": [
  {
   "cell_type": "markdown",
   "metadata": {
    "scrolled": true
   },
   "source": [
    "![alt text][top-banner]\n",
    "\n",
    "[top-banner]: ./images/callysto_top_banner.jpg"
   ]
  },
  {
   "cell_type": "code",
   "execution_count": 1,
   "metadata": {},
   "outputs": [
    {
     "data": {
      "text/html": [
       "\n",
       "<script>\n",
       "  function code_toggle() {\n",
       "    if (code_shown){\n",
       "      $('div.input').hide('500');\n",
       "      $('#toggleButton').val('Show Code')\n",
       "    } else {\n",
       "      $('div.input').show('500');\n",
       "      $('#toggleButton').val('Hide Code')\n",
       "    }\n",
       "    code_shown = !code_shown\n",
       "  }\n",
       "\n",
       "  $( document ).ready(function(){\n",
       "    code_shown=false;\n",
       "    $('div.input').hide()\n",
       "  });\n",
       "</script>\n",
       "<form action=\"javascript:code_toggle()\"><input type=\"submit\" id=\"toggleButton\" value=\"Show Code\"></form>\n"
      ],
      "text/plain": [
       "<IPython.core.display.HTML object>"
      ]
     },
     "metadata": {},
     "output_type": "display_data"
    }
   ],
   "source": [
    "%%html\n",
    "\n",
    "<script>\n",
    "  function code_toggle() {\n",
    "    if (code_shown){\n",
    "      $('div.input').hide('500');\n",
    "      $('#toggleButton').val('Show Code')\n",
    "    } else {\n",
    "      $('div.input').show('500');\n",
    "      $('#toggleButton').val('Hide Code')\n",
    "    }\n",
    "    code_shown = !code_shown\n",
    "  }\n",
    "\n",
    "  $( document ).ready(function(){\n",
    "    code_shown=false;\n",
    "    $('div.input').hide()\n",
    "  });\n",
    "</script>\n",
    "<form action=\"javascript:code_toggle()\"><input type=\"submit\" id=\"toggleButton\" value=\"Show Code\"></form>"
   ]
  },
  {
   "cell_type": "markdown",
   "metadata": {},
   "source": [
    "(Click **Cell** > **Run All** before proceeding.) "
   ]
  },
  {
   "cell_type": "code",
   "execution_count": 2,
   "metadata": {},
   "outputs": [],
   "source": [
    "%matplotlib inline\n",
    "from helper import *"
   ]
  },
  {
   "cell_type": "markdown",
   "metadata": {},
   "source": [
    "# Classifying Chemical Equations"
   ]
  },
  {
   "cell_type": "markdown",
   "metadata": {},
   "source": [
    "## Introduction\n",
    "\n",
    "A **chemical equation** is used to describe the  process that involves the rearrangement of the atoms in the molecular or ionic structure of a substance or material. All chemical reactions involve the formation or destruction of chemical bonds wherein reactants are transformed into products. Chemical reactions take place all around us and within us. Many of these chemical reactions share similar characteristics to one another, which allow them to be grouped and classified in a number of different ways. One common classification scheme organizes chemical reactions into four types: \n",
    "\n",
    "* <a href=\"#combination\">Combination reactions</a> \n",
    "* <a href=\"#decomposition\">Decomposition reactions</a> \n",
    "* <a href=\"#single\">Single replacement reactions</a>\n",
    "* <a href=\"#double\">Double replacement reactions</a>\n",
    "\n",
    "## <a id=\"combination\"> #1 Combination Reaction</a>\n",
    "\n",
    "A **combination reaction** (also called a *synthesis reaction*) describes the process in which two or more reactants combine to form a new singular product. The general form for a combination reaction is given below: \n",
    "\n",
    "<img src=\"images/combination_reaction.svg\" width=\"55%\"/>\n",
    "\n",
    "The reactant side may contain two or more elements or compounds, but the product side will always contain only one compound. This is the key characteristic of a combination reaction. Combination reactions may include reactions between two or more elements:\n",
    "\n",
    "2H<sub>2</sub> + O<sub>2</sub> &rarr; 2H<sub>2</sub>O\n",
    "\n",
    "Between elements and compounds:\n",
    "\n",
    "O<sub>2</sub> + 2CO &rarr; 2CO<sub>2</sub>\n",
    "\n",
    "Or between compounds:\n",
    "\n",
    "CaO + CO<sub>2</sub> &rarr; CaCO<sub>3</sub>\n",
    "\n",
    "The new bonds formed in the product are often lower in energy than the bonds in the reactants. When this occurs, energy is released, often in the form of heat. As a consequence, combination reactions are usually exothermic."
   ]
  },
  {
   "cell_type": "markdown",
   "metadata": {},
   "source": [
    "## Practice Problems"
   ]
  },
  {
   "cell_type": "markdown",
   "metadata": {},
   "source": [
    "**Question:** *Select 'True' or 'False' for each of the follow statements.* "
   ]
  },
  {
   "cell_type": "code",
   "execution_count": 3,
   "metadata": {
    "scrolled": true
   },
   "outputs": [
    {
     "data": {
      "application/vnd.jupyter.widget-view+json": {
       "model_id": "1a12ab6748e9474ea36ca63187ef8095",
       "version_major": 2,
       "version_minor": 0
      },
      "text/plain": [
       "HBox(children=(Button(description='True', style=ButtonStyle(button_color='Whitesmoke')), Button(description='F…"
      ]
     },
     "metadata": {},
     "output_type": "display_data"
    },
    {
     "data": {
      "application/vnd.jupyter.widget-view+json": {
       "model_id": "8ffd9baccb3f46d1a660281f5450ffe6",
       "version_major": 2,
       "version_minor": 0
      },
      "text/plain": [
       "HBox(children=(Button(description='True', style=ButtonStyle(button_color='Whitesmoke')), Button(description='F…"
      ]
     },
     "metadata": {},
     "output_type": "display_data"
    },
    {
     "data": {
      "application/vnd.jupyter.widget-view+json": {
       "model_id": "9cb7c5e095274a87be89634e78fe2af2",
       "version_major": 2,
       "version_minor": 0
      },
      "text/plain": [
       "HBox(children=(Button(description='True', style=ButtonStyle(button_color='Whitesmoke')), Button(description='F…"
      ]
     },
     "metadata": {},
     "output_type": "display_data"
    },
    {
     "data": {
      "application/vnd.jupyter.widget-view+json": {
       "model_id": "7e9386e0933b4477a702d357208e7737",
       "version_major": 2,
       "version_minor": 0
      },
      "text/plain": [
       "HBox(children=(Button(description='True', style=ButtonStyle(button_color='Whitesmoke')), Button(description='F…"
      ]
     },
     "metadata": {},
     "output_type": "display_data"
    },
    {
     "name": "stdout",
     "output_type": "stream",
     "text": [
      " \r"
     ]
    }
   ],
   "source": [
    "randomize_1 = random.randint(1, 2)\n",
    "if randomize_1 == 1:\n",
    "    option_1 = \"Combination reactions are often exothermic.\"; bool_1 = True\n",
    "elif randomize_1 == 2:\n",
    "    option_1 = \"Combination reactions are often endothermic.\"; bool_1 = False\n",
    "\n",
    "randomize_1 = random.randint(1, 4)\n",
    "if randomize_1 == 1:\n",
    "    option_2 = \"Combination reactions always have two or more reactants, but only one product.\"; bool_2 = True\n",
    "elif randomize_1 == 2:\n",
    "    option_2 = \"Combination reactions always have two or more reactants, but only one product.\"; bool_2 = True    \n",
    "elif randomize_1 == 3:\n",
    "    option_2 = \"Combination reactions always have two or more reactants, and two or more products.\"; bool_2 = False\n",
    "elif randomize_1 == 4:\n",
    "    option_2 = \"Combination reactions always have one reactant, and one product.\"; bool_2 = False\n",
    "\n",
    "randomize_1 = random.randint(1, 6)\n",
    "if randomize_1 == 1:\n",
    "    option_3 = \"The general form of a combination reaction is: A + B &rarr; AB.\"; bool_3 = True\n",
    "elif randomize_1 == 2:\n",
    "    option_3 = \"The general form of a combination reaction is: A + B &rarr; AB.\"; bool_3 = True\n",
    "elif randomize_1 == 3:\n",
    "    option_3 = \"The general form of a combination reaction is: A + B &rarr; AB.\"; bool_3 = True\n",
    "elif randomize_1 == 4:\n",
    "    option_3 = \"The general form of a combination reaction is: AB &rarr; A + B.\"; bool_3 = False\n",
    "elif randomize_1 == 5:\n",
    "    option_3 = \"The general form of a combination reaction is: AB + X &rarr; XB + A.\"; bool_3 = False\n",
    "elif randomize_1 == 6:\n",
    "    option_3 = \"The general form of a combination reaction is: AB + XY &rarr; XB + AY.\"; bool_3 = False\n",
    "\n",
    "randomize_1 = random.randint(1, 2)\n",
    "if randomize_1 == 1:\n",
    "    option_4 = \"The product generated from a combination reaction is always a compound.\"; bool_4 = True\n",
    "elif randomize_1 == 2:\n",
    "    option_4 = \"The product generated from a combination reaction is always an element.\"; bool_4 = False    \n",
    "\n",
    "true_false(option_1, bool_1, option_2, bool_2, option_3, bool_3, option_4, bool_4, \"True\", \"False\")"
   ]
  },
  {
   "cell_type": "markdown",
   "metadata": {},
   "source": [
    "**Question:** *Which of the follow chemical reactions is a combination reaction?* "
   ]
  },
  {
   "cell_type": "code",
   "execution_count": 4,
   "metadata": {
    "scrolled": false
   },
   "outputs": [
    {
     "data": {
      "application/vnd.jupyter.widget-view+json": {
       "model_id": "83a2598b5d1d4c0b8f839f1243e0d224",
       "version_major": 2,
       "version_minor": 0
      },
      "text/plain": [
       "HTMLMath(value='<b>(A)</b> NaCl + AgNO<sub>3</sub> &rarr; AgCl + NaNO<sub>3</sub>')"
      ]
     },
     "metadata": {},
     "output_type": "display_data"
    },
    {
     "data": {
      "application/vnd.jupyter.widget-view+json": {
       "model_id": "cd6e2ff116d546d8b717b3e2799bec78",
       "version_major": 2,
       "version_minor": 0
      },
      "text/plain": [
       "HTMLMath(value='<b>(B)</b> 2NaCl + F<sub>2</sub> &rarr; 2NaF + Cl<sub>2</sub>')"
      ]
     },
     "metadata": {},
     "output_type": "display_data"
    },
    {
     "data": {
      "application/vnd.jupyter.widget-view+json": {
       "model_id": "94b6835e69804533815db2cada3d5c22",
       "version_major": 2,
       "version_minor": 0
      },
      "text/plain": [
       "HTMLMath(value='<b>(C)</b> Ba + F<sub>2</sub> &rarr; BaF<sub>2</sub>')"
      ]
     },
     "metadata": {},
     "output_type": "display_data"
    },
    {
     "data": {
      "application/vnd.jupyter.widget-view+json": {
       "model_id": "4b3166825005455e8423ca205cde4451",
       "version_major": 2,
       "version_minor": 0
      },
      "text/plain": [
       "HTMLMath(value='<b>(D)</b> CH<sub>4</sub> + 2O<sub>2</sub> &rarr; CO<sub>2</sub> + 2H<sub>2</sub>O')"
      ]
     },
     "metadata": {},
     "output_type": "display_data"
    },
    {
     "data": {
      "application/vnd.jupyter.widget-view+json": {
       "model_id": "03d55b0c0e95418d993a692225579453",
       "version_major": 2,
       "version_minor": 0
      },
      "text/plain": [
       "HBox(children=(Button(description='(A)', style=ButtonStyle(button_color='Whitesmoke')), Button(description='(B…"
      ]
     },
     "metadata": {},
     "output_type": "display_data"
    },
    {
     "name": "stdout",
     "output_type": "stream",
     "text": [
      " \r"
     ]
    }
   ],
   "source": [
    "#import ipywidgets as widgets\n",
    "#import random\n",
    "#from IPython.display import clear_output, display, HTML\n",
    "\n",
    "option_1 = \"Ba + F<sub>2</sub> &rarr; BaF<sub>2</sub>\" \n",
    "option_2 = \"NaCl + AgNO<sub>3</sub> &rarr; AgCl + NaNO<sub>3</sub>\"\n",
    "option_3 = \"CH<sub>4</sub> + 2O<sub>2</sub> &rarr; CO<sub>2</sub> + 2H<sub>2</sub>O\"\n",
    "option_4 = \"2NaCl + F<sub>2</sub> &rarr; 2NaF + Cl<sub>2</sub>\"\n",
    "\n",
    "multiple_choice(option_1, option_2, option_3, option_4)"
   ]
  },
  {
   "cell_type": "code",
   "execution_count": 5,
   "metadata": {},
   "outputs": [
    {
     "data": {
      "application/vnd.jupyter.widget-view+json": {
       "model_id": "c122c6984465454d824d936fdd5f70d1",
       "version_major": 2,
       "version_minor": 0
      },
      "text/plain": [
       "HTMLMath(value='<b>(A)</b> C<sub>2</sub>H<sub>5</sub>OH + 3O<sub>2</sub> &rarr; 2CO<sub>2</sub> + 3H<sub>2</su…"
      ]
     },
     "metadata": {},
     "output_type": "display_data"
    },
    {
     "data": {
      "application/vnd.jupyter.widget-view+json": {
       "model_id": "4d3fe16942dc48bc98f300b413111ea3",
       "version_major": 2,
       "version_minor": 0
      },
      "text/plain": [
       "HTMLMath(value='<b>(B)</b> 2HBr + Cl<sub>2</sub> &rarr; 2HCl + Br<sub>2</sub>')"
      ]
     },
     "metadata": {},
     "output_type": "display_data"
    },
    {
     "data": {
      "application/vnd.jupyter.widget-view+json": {
       "model_id": "998b579429544d6ebbee18f558862672",
       "version_major": 2,
       "version_minor": 0
      },
      "text/plain": [
       "HTMLMath(value='<b>(C)</b> Fe + S &rarr; FeS')"
      ]
     },
     "metadata": {},
     "output_type": "display_data"
    },
    {
     "data": {
      "application/vnd.jupyter.widget-view+json": {
       "model_id": "a554dd09b8f5489a895f20c0e7c67f65",
       "version_major": 2,
       "version_minor": 0
      },
      "text/plain": [
       "HTMLMath(value='<b>(D)</b> Zn + 2HCl &rarr; ZnCl<sub>2</sub> + H<sub>2</sub>')"
      ]
     },
     "metadata": {},
     "output_type": "display_data"
    },
    {
     "data": {
      "application/vnd.jupyter.widget-view+json": {
       "model_id": "fb56de5eaaf9450cb8c3199384035146",
       "version_major": 2,
       "version_minor": 0
      },
      "text/plain": [
       "HBox(children=(Button(description='(A)', style=ButtonStyle(button_color='Whitesmoke')), Button(description='(B…"
      ]
     },
     "metadata": {},
     "output_type": "display_data"
    },
    {
     "name": "stdout",
     "output_type": "stream",
     "text": [
      " \r"
     ]
    }
   ],
   "source": [
    "#import ipywidgets as widgets\n",
    "#import random\n",
    "#from IPython.display import clear_output, display, HTML\n",
    "\n",
    "option_1 = \"Fe + S &rarr; FeS\" \n",
    "option_2 = \"2HBr + Cl<sub>2</sub> &rarr; 2HCl + Br<sub>2</sub>\"\n",
    "option_3 = \"C<sub>2</sub>H<sub>5</sub>OH + 3O<sub>2</sub> &rarr; 2CO<sub>2</sub> + 3H<sub>2</sub>O\"\n",
    "option_4 = \"Zn + 2HCl &rarr; ZnCl<sub>2</sub> + H<sub>2</sub>\"\n",
    "\n",
    "multiple_choice(option_1, option_2, option_3, option_4)"
   ]
  },
  {
   "cell_type": "code",
   "execution_count": 6,
   "metadata": {},
   "outputs": [
    {
     "data": {
      "application/vnd.jupyter.widget-view+json": {
       "model_id": "11b346ed464240d6ac6c66a473c98b5c",
       "version_major": 2,
       "version_minor": 0
      },
      "text/plain": [
       "HTMLMath(value='<b>(A)</b> MgO + CO<sub>2</sub> &rarr; MgCO<sub>3</sub>')"
      ]
     },
     "metadata": {},
     "output_type": "display_data"
    },
    {
     "data": {
      "application/vnd.jupyter.widget-view+json": {
       "model_id": "10f224e783e7498bb17c4b78ec4484e3",
       "version_major": 2,
       "version_minor": 0
      },
      "text/plain": [
       "HTMLMath(value='<b>(B)</b> NaNO<sub>3</sub> + KCl &rarr; KNO<sub>3</sub> + NaCl')"
      ]
     },
     "metadata": {},
     "output_type": "display_data"
    },
    {
     "data": {
      "application/vnd.jupyter.widget-view+json": {
       "model_id": "b7f3f42e04d24cc8bc4105d66012b11e",
       "version_major": 2,
       "version_minor": 0
      },
      "text/plain": [
       "HTMLMath(value='<b>(C)</b> 4NH<sub>3</sub> + 3O<sub>2</sub> &rarr; 2N<sub>2</sub> + 6H<sub>2</sub>O')"
      ]
     },
     "metadata": {},
     "output_type": "display_data"
    },
    {
     "data": {
      "application/vnd.jupyter.widget-view+json": {
       "model_id": "8c32790c3bdc4f89918483db1ea79f61",
       "version_major": 2,
       "version_minor": 0
      },
      "text/plain": [
       "HTMLMath(value='<b>(D)</b> Na<sub>2</sub>CO<sub>3</sub> &rarr; Na<sub>2</sub>O + CO<sub>2</sub>')"
      ]
     },
     "metadata": {},
     "output_type": "display_data"
    },
    {
     "data": {
      "application/vnd.jupyter.widget-view+json": {
       "model_id": "7e1e672a08364ab8b4c6ec3136e7b2fa",
       "version_major": 2,
       "version_minor": 0
      },
      "text/plain": [
       "HBox(children=(Button(description='(A)', style=ButtonStyle(button_color='Whitesmoke')), Button(description='(B…"
      ]
     },
     "metadata": {},
     "output_type": "display_data"
    },
    {
     "name": "stdout",
     "output_type": "stream",
     "text": [
      " \r"
     ]
    }
   ],
   "source": [
    "#import ipywidgets as widgets\n",
    "#import random\n",
    "#from IPython.display import clear_output, display, HTML\n",
    "\n",
    "option_1 = \"MgO + CO<sub>2</sub> &rarr; MgCO<sub>3</sub>\" \n",
    "option_2 = \"Na<sub>2</sub>CO<sub>3</sub> &rarr; Na<sub>2</sub>O + CO<sub>2</sub>\"\n",
    "option_3 = \"4NH<sub>3</sub> + 3O<sub>2</sub> &rarr; 2N<sub>2</sub> + 6H<sub>2</sub>O\"\n",
    "option_4 = \"NaNO<sub>3</sub> + KCl &rarr; KNO<sub>3</sub> + NaCl\"\n",
    "\n",
    "multiple_choice(option_1, option_2, option_3, option_4)"
   ]
  },
  {
   "cell_type": "code",
   "execution_count": 7,
   "metadata": {},
   "outputs": [
    {
     "data": {
      "application/vnd.jupyter.widget-view+json": {
       "model_id": "10e7c771b0bb471398a47c115a453742",
       "version_major": 2,
       "version_minor": 0
      },
      "text/plain": [
       "HTMLMath(value='<b>(A)</b> C<sub>3</sub>H<sub>8</sub> + 5O<sub>2</sub> &rarr; 3CO<sub>2</sub> + 4H<sub>2</sub>…"
      ]
     },
     "metadata": {},
     "output_type": "display_data"
    },
    {
     "data": {
      "application/vnd.jupyter.widget-view+json": {
       "model_id": "058ee69fd5b947439efa32d651ab8354",
       "version_major": 2,
       "version_minor": 0
      },
      "text/plain": [
       "HTMLMath(value='<b>(B)</b> CaCO<sub>3</sub> &rarr; CaO + CO<sub>2</sub>')"
      ]
     },
     "metadata": {},
     "output_type": "display_data"
    },
    {
     "data": {
      "application/vnd.jupyter.widget-view+json": {
       "model_id": "e21e0b7731774d1d81d06768c1febce3",
       "version_major": 2,
       "version_minor": 0
      },
      "text/plain": [
       "HTMLMath(value='<b>(C)</b> 2S + 3O<sub>2</sub> &rarr; 2SO<sub>3</sub>')"
      ]
     },
     "metadata": {},
     "output_type": "display_data"
    },
    {
     "data": {
      "application/vnd.jupyter.widget-view+json": {
       "model_id": "9964a9f6e55341ad99888511892f1c54",
       "version_major": 2,
       "version_minor": 0
      },
      "text/plain": [
       "HTMLMath(value='<b>(D)</b> KBr + AgNO<sub>3</sub> &rarr; KNO<sub>3</sub> + AgBr')"
      ]
     },
     "metadata": {},
     "output_type": "display_data"
    },
    {
     "data": {
      "application/vnd.jupyter.widget-view+json": {
       "model_id": "26ce7be8fd83402dba45bc5a617ef867",
       "version_major": 2,
       "version_minor": 0
      },
      "text/plain": [
       "HBox(children=(Button(description='(A)', style=ButtonStyle(button_color='Whitesmoke')), Button(description='(B…"
      ]
     },
     "metadata": {},
     "output_type": "display_data"
    },
    {
     "name": "stdout",
     "output_type": "stream",
     "text": [
      " \r"
     ]
    }
   ],
   "source": [
    "#import ipywidgets as widgets\n",
    "#import random\n",
    "#from IPython.display import clear_output, display, HTML\n",
    "\n",
    "option_1 = \"2S + 3O<sub>2</sub> &rarr; 2SO<sub>3</sub>\" \n",
    "option_2 = \"CaCO<sub>3</sub> &rarr; CaO + CO<sub>2</sub>\"\n",
    "option_3 = \"C<sub>3</sub>H<sub>8</sub> + 5O<sub>2</sub> &rarr; 3CO<sub>2</sub> + 4H<sub>2</sub>O\"\n",
    "option_4 = \"KBr + AgNO<sub>3</sub> &rarr; KNO<sub>3</sub> + AgBr\"\n",
    "\n",
    "multiple_choice(option_1, option_2, option_3, option_4)"
   ]
  },
  {
   "cell_type": "markdown",
   "metadata": {},
   "source": [
    "## <a id=\"decomposition\"> #2 Decomposition Reaction</a>\n",
    "\n",
    "A **decomposition reaction** describes the process in which a single reactant breaks down to form two or more products. The general form for a decomposition reaction is given below:\n",
    "\n",
    "<img src=\"images/decomposition_reaction.svg\" width=\"55%\"/>\n",
    "\n",
    "The reactant side will always contain a compound, but the product side may contain two or more elements or compounds. This is the key characteristic of a decomposition reaction. For example, the products may include two or more elements:\n",
    "\n",
    "2H<sub>2</sub>O &rarr; 2H<sub>2</sub> + O<sub>2</sub>\n",
    "\n",
    "Elements and compounds:\n",
    "\n",
    "2KClO<sub>3</sub> &rarr; 3O<sub>2</sub> + 2KCl\n",
    "\n",
    "Or two or more compounds:\n",
    "\n",
    "NH<sub>4</sub>Cl &rarr; NH<sub>3</sub> + HCl\n",
    "\n",
    "The new bonds formed in the products are often higher in energy than the bonds in the reactant. When this occurs, some energy, usually in the form of heat, is needed. As a consequence, decomposition reactions are usually endothermic."
   ]
  },
  {
   "cell_type": "markdown",
   "metadata": {},
   "source": [
    "## Practice Problems"
   ]
  },
  {
   "cell_type": "markdown",
   "metadata": {},
   "source": [
    "**Question:** *Select 'True' or 'False' for each of the follow statements.* "
   ]
  },
  {
   "cell_type": "code",
   "execution_count": 8,
   "metadata": {},
   "outputs": [
    {
     "data": {
      "application/vnd.jupyter.widget-view+json": {
       "model_id": "fa6b58593af94c9ca1c7d3dce9dd75e7",
       "version_major": 2,
       "version_minor": 0
      },
      "text/plain": [
       "HBox(children=(Button(description='True', style=ButtonStyle(button_color='Whitesmoke')), Button(description='F…"
      ]
     },
     "metadata": {},
     "output_type": "display_data"
    },
    {
     "data": {
      "application/vnd.jupyter.widget-view+json": {
       "model_id": "47ea9d349f42471e9e812ed9fa5b4dbd",
       "version_major": 2,
       "version_minor": 0
      },
      "text/plain": [
       "HBox(children=(Button(description='True', style=ButtonStyle(button_color='Whitesmoke')), Button(description='F…"
      ]
     },
     "metadata": {},
     "output_type": "display_data"
    },
    {
     "data": {
      "application/vnd.jupyter.widget-view+json": {
       "model_id": "2522c128bac448578c0523310869329d",
       "version_major": 2,
       "version_minor": 0
      },
      "text/plain": [
       "HBox(children=(Button(description='True', style=ButtonStyle(button_color='Whitesmoke')), Button(description='F…"
      ]
     },
     "metadata": {},
     "output_type": "display_data"
    },
    {
     "data": {
      "application/vnd.jupyter.widget-view+json": {
       "model_id": "088c3c8c5956471e827cea3f0c5bf6fe",
       "version_major": 2,
       "version_minor": 0
      },
      "text/plain": [
       "HBox(children=(Button(description='True', style=ButtonStyle(button_color='Whitesmoke')), Button(description='F…"
      ]
     },
     "metadata": {},
     "output_type": "display_data"
    },
    {
     "name": "stdout",
     "output_type": "stream",
     "text": [
      " \r"
     ]
    }
   ],
   "source": [
    "randomize_2 = random.randint(1, 2)\n",
    "if randomize_2 == 1:\n",
    "    option_1 = \"Decomposition reactions are often endothermic.\"; bool_1 = True\n",
    "elif randomize_2 == 2:\n",
    "    option_1 = \"Decomposition reactions are often exothermic.\"; bool_1 = False\n",
    "\n",
    "randomize_2 = random.randint(1, 4)\n",
    "if randomize_2 == 1:\n",
    "    option_2 = \"Decomposition reactions always have one reactant, but two or more products.\"; bool_2 = True\n",
    "elif randomize_2 == 2:    \n",
    "    option_2 = \"Decomposition reactions always have one reactant, but two or more products.\"; bool_2 = True\n",
    "elif randomize_2 == 3:\n",
    "    option_2 = \"Decomposition reactions always have two or more reactants, and two or more products.\"; bool_2 = False\n",
    "elif randomize_2 == 4:\n",
    "    option_2 = \"Decomposition reactions always have one reactant, and one product.\"; bool_2 = False\n",
    "\n",
    "randomize_2 = random.randint(1, 6)\n",
    "if randomize_2 == 1:\n",
    "    option_3 = \"The general form of a decomposition reaction is: AB &rarr; A + B.\"; bool_3 = True\n",
    "elif randomize_2 == 2:\n",
    "    option_3 = \"The general form of a decomposition reaction is: AB &rarr; A + B.\"; bool_3 = True\n",
    "elif randomize_2 == 3:\n",
    "    option_3 = \"The general form of a decomposition reaction is: AB &rarr; A + B.\"; bool_3 = True\n",
    "elif randomize_2 == 4:\n",
    "    option_3 = \"The general form of a decomposition reaction is: A + B &rarr; AB.\"; bool_3 = False\n",
    "elif randomize_2 == 5:\n",
    "    option_3 = \"The general form of a decomposition reaction is: AB + X &rarr; XB + A.\"; bool_3 = False\n",
    "elif randomize_2 == 6:\n",
    "    option_3 = \"The general form of a decomposition reaction is: AB + XY &rarr; XB + AY.\"; bool_3 = False\n",
    "\n",
    "randomize_2 = random.randint(1, 2)\n",
    "if randomize_2 == 1:\n",
    "    option_4 = \"The reactant in a decomposition reaction is always a compound.\"; bool_4 = True\n",
    "elif randomize_2 == 2:\n",
    "    option_4 = \"The reactant in a decomposition reaction is always an element.\"; bool_4 = False    \n",
    "\n",
    "true_false(option_1, bool_1, option_2, bool_2, option_3, bool_3, option_4, bool_4, \"True\", \"False\")"
   ]
  },
  {
   "cell_type": "markdown",
   "metadata": {},
   "source": [
    "**Question:** *Which of the follow chemical reactions is a decomposition reaction?* "
   ]
  },
  {
   "cell_type": "code",
   "execution_count": 9,
   "metadata": {},
   "outputs": [
    {
     "data": {
      "application/vnd.jupyter.widget-view+json": {
       "model_id": "b1f44e3ce2d14238a42aae847d00f17f",
       "version_major": 2,
       "version_minor": 0
      },
      "text/plain": [
       "HTMLMath(value='<b>(A)</b> 2Ni<sub>2</sub>O<sub>3</sub> &rarr; 4Ni + 3O<sub>2</sub>')"
      ]
     },
     "metadata": {},
     "output_type": "display_data"
    },
    {
     "data": {
      "application/vnd.jupyter.widget-view+json": {
       "model_id": "49c4ce5cc753459fb1fe65fe8ea2db3d",
       "version_major": 2,
       "version_minor": 0
      },
      "text/plain": [
       "HTMLMath(value='<b>(B)</b> SeCl<sub>6</sub> + O<sub>2</sub> &rarr; SeO<sub>2</sub> + 3Cl<sub>2</sub>')"
      ]
     },
     "metadata": {},
     "output_type": "display_data"
    },
    {
     "data": {
      "application/vnd.jupyter.widget-view+json": {
       "model_id": "7da28ac3428b464cac7a6bbb435c5539",
       "version_major": 2,
       "version_minor": 0
      },
      "text/plain": [
       "HTMLMath(value='<b>(C)</b> Na<sub>2</sub>S + 2HCl &rarr; 2NaCl + H<sub>2</sub>S')"
      ]
     },
     "metadata": {},
     "output_type": "display_data"
    },
    {
     "data": {
      "application/vnd.jupyter.widget-view+json": {
       "model_id": "ca881eab4ea04486b1ad2f28424c5041",
       "version_major": 2,
       "version_minor": 0
      },
      "text/plain": [
       "HTMLMath(value='<b>(D)</b> Ba + F<sub>2</sub> &rarr; BaF<sub>2</sub>')"
      ]
     },
     "metadata": {},
     "output_type": "display_data"
    },
    {
     "data": {
      "application/vnd.jupyter.widget-view+json": {
       "model_id": "46fdfb8d148e47c4864543e89e5bd32d",
       "version_major": 2,
       "version_minor": 0
      },
      "text/plain": [
       "HBox(children=(Button(description='(A)', style=ButtonStyle(button_color='Whitesmoke')), Button(description='(B…"
      ]
     },
     "metadata": {},
     "output_type": "display_data"
    },
    {
     "name": "stdout",
     "output_type": "stream",
     "text": [
      " \r"
     ]
    }
   ],
   "source": [
    "#import ipywidgets as widgets\n",
    "#import random\n",
    "#from IPython.display import clear_output, display, HTML\n",
    "\n",
    "option_1 = \"2Ni<sub>2</sub>O<sub>3</sub> &rarr; 4Ni + 3O<sub>2</sub>\" \n",
    "option_2 = \"Na<sub>2</sub>S + 2HCl &rarr; 2NaCl + H<sub>2</sub>S\"\n",
    "option_3 = \"SeCl<sub>6</sub> + O<sub>2</sub> &rarr; SeO<sub>2</sub> + 3Cl<sub>2</sub>\"\n",
    "option_4 = \"Ba + F<sub>2</sub> &rarr; BaF<sub>2</sub>\"\n",
    "\n",
    "multiple_choice(option_1, option_2, option_3, option_4)"
   ]
  },
  {
   "cell_type": "code",
   "execution_count": 10,
   "metadata": {},
   "outputs": [
    {
     "data": {
      "application/vnd.jupyter.widget-view+json": {
       "model_id": "4360b014a9ee4394b0f60c543a0f6686",
       "version_major": 2,
       "version_minor": 0
      },
      "text/plain": [
       "HTMLMath(value='<b>(A)</b> 2NaOH + CaBr<sub>2</sub> &rarr; 2NaBr + Ca(OH)<sub>2</sub>')"
      ]
     },
     "metadata": {},
     "output_type": "display_data"
    },
    {
     "data": {
      "application/vnd.jupyter.widget-view+json": {
       "model_id": "ee67abd802ad49758ca6c5519835bc7c",
       "version_major": 2,
       "version_minor": 0
      },
      "text/plain": [
       "HTMLMath(value='<b>(B)</b> Fe + S &rarr; FeS')"
      ]
     },
     "metadata": {},
     "output_type": "display_data"
    },
    {
     "data": {
      "application/vnd.jupyter.widget-view+json": {
       "model_id": "bbb480f1363847139e1886de6f1be363",
       "version_major": 2,
       "version_minor": 0
      },
      "text/plain": [
       "HTMLMath(value='<b>(C)</b> Al<sub>2</sub>O<sub>3</sub> &rarr; Al + O<sub>2</sub>')"
      ]
     },
     "metadata": {},
     "output_type": "display_data"
    },
    {
     "data": {
      "application/vnd.jupyter.widget-view+json": {
       "model_id": "9a1826166ce448a2bece1ad0c7455370",
       "version_major": 2,
       "version_minor": 0
      },
      "text/plain": [
       "HTMLMath(value='<b>(D)</b> Zn + 2HCl &rarr; H<sub>2</sub> + ZnCl<sub>2</sub>')"
      ]
     },
     "metadata": {},
     "output_type": "display_data"
    },
    {
     "data": {
      "application/vnd.jupyter.widget-view+json": {
       "model_id": "0db33e79c0bc4345a4cebc489e6473cd",
       "version_major": 2,
       "version_minor": 0
      },
      "text/plain": [
       "HBox(children=(Button(description='(A)', style=ButtonStyle(button_color='Whitesmoke')), Button(description='(B…"
      ]
     },
     "metadata": {},
     "output_type": "display_data"
    },
    {
     "name": "stdout",
     "output_type": "stream",
     "text": [
      " \r"
     ]
    }
   ],
   "source": [
    "#import ipywidgets as widgets\n",
    "#import random\n",
    "#from IPython.display import clear_output, display, HTML\n",
    "\n",
    "option_1 = \"Al<sub>2</sub>O<sub>3</sub> &rarr; Al + O<sub>2</sub>\" \n",
    "option_2 = \"2NaOH + CaBr<sub>2</sub> &rarr; 2NaBr + Ca(OH)<sub>2</sub>\"\n",
    "option_3 = \"Fe + S &rarr; FeS\"\n",
    "option_4 = \"Zn + 2HCl &rarr; H<sub>2</sub> + ZnCl<sub>2</sub>\"\n",
    "\n",
    "multiple_choice(option_1, option_2, option_3, option_4)"
   ]
  },
  {
   "cell_type": "code",
   "execution_count": 11,
   "metadata": {},
   "outputs": [
    {
     "data": {
      "application/vnd.jupyter.widget-view+json": {
       "model_id": "82005f74cc03448d85bbf409c602f985",
       "version_major": 2,
       "version_minor": 0
      },
      "text/plain": [
       "HTMLMath(value='<b>(A)</b> CH<sub>4</sub> + 2O<sub>2</sub> &rarr; CO<sub>2</sub> + 2H<sub>2</sub>O')"
      ]
     },
     "metadata": {},
     "output_type": "display_data"
    },
    {
     "data": {
      "application/vnd.jupyter.widget-view+json": {
       "model_id": "a79c90f0f18d49e2803364634952034d",
       "version_major": 2,
       "version_minor": 0
      },
      "text/plain": [
       "HTMLMath(value='<b>(B)</b> MgO + CO<sub>2</sub> &rarr; MgCO<sub>3</sub>')"
      ]
     },
     "metadata": {},
     "output_type": "display_data"
    },
    {
     "data": {
      "application/vnd.jupyter.widget-view+json": {
       "model_id": "693747e5d4df4ef7bc4395f2f6eccc4b",
       "version_major": 2,
       "version_minor": 0
      },
      "text/plain": [
       "HTMLMath(value='<b>(C)</b> 2NaCl + F<sub>2</sub> &rarr; 2NaF + Cl<sub>2</sub>')"
      ]
     },
     "metadata": {},
     "output_type": "display_data"
    },
    {
     "data": {
      "application/vnd.jupyter.widget-view+json": {
       "model_id": "6e55b6e1703840ebb0d4126a4414acc7",
       "version_major": 2,
       "version_minor": 0
      },
      "text/plain": [
       "HTMLMath(value='<b>(D)</b> 2NaClO<sub>3</sub> &rarr; 2NaCl + 3O<sub>2</sub>')"
      ]
     },
     "metadata": {},
     "output_type": "display_data"
    },
    {
     "data": {
      "application/vnd.jupyter.widget-view+json": {
       "model_id": "8aee2f68de364d0ab0c2de912bcc17fa",
       "version_major": 2,
       "version_minor": 0
      },
      "text/plain": [
       "HBox(children=(Button(description='(A)', style=ButtonStyle(button_color='Whitesmoke')), Button(description='(B…"
      ]
     },
     "metadata": {},
     "output_type": "display_data"
    },
    {
     "name": "stdout",
     "output_type": "stream",
     "text": [
      " \r"
     ]
    }
   ],
   "source": [
    "#import ipywidgets as widgets\n",
    "#import random\n",
    "#from IPython.display import clear_output, display, HTML\n",
    "\n",
    "option_1 = \"2NaClO<sub>3</sub> &rarr; 2NaCl + 3O<sub>2</sub>\" \n",
    "option_2 = \"MgO + CO<sub>2</sub> &rarr; MgCO<sub>3</sub>\"\n",
    "option_3 = \"2NaCl + F<sub>2</sub> &rarr; 2NaF + Cl<sub>2</sub>\"\n",
    "option_4 = \"CH<sub>4</sub> + 2O<sub>2</sub> &rarr; CO<sub>2</sub> + 2H<sub>2</sub>O\"\n",
    "\n",
    "multiple_choice(option_1, option_2, option_3, option_4)"
   ]
  },
  {
   "cell_type": "code",
   "execution_count": 12,
   "metadata": {},
   "outputs": [
    {
     "data": {
      "application/vnd.jupyter.widget-view+json": {
       "model_id": "44653b39c1454db18bae707686323baf",
       "version_major": 2,
       "version_minor": 0
      },
      "text/plain": [
       "HTMLMath(value='<b>(A)</b> 2S + 3O<sub>2</sub> &rarr; 2SO<sub>3</sub>')"
      ]
     },
     "metadata": {},
     "output_type": "display_data"
    },
    {
     "data": {
      "application/vnd.jupyter.widget-view+json": {
       "model_id": "c424eae024524c21ae1d3409d47a3deb",
       "version_major": 2,
       "version_minor": 0
      },
      "text/plain": [
       "HTMLMath(value='<b>(B)</b> FeS + 2HCl &rarr; FeCl<sub>2</sub> + H<sub>2</sub>S')"
      ]
     },
     "metadata": {},
     "output_type": "display_data"
    },
    {
     "data": {
      "application/vnd.jupyter.widget-view+json": {
       "model_id": "53894c8514f545f6aa9758909012d2e7",
       "version_major": 2,
       "version_minor": 0
      },
      "text/plain": [
       "HTMLMath(value='<b>(C)</b> 2Al + 3Cu(NO<sub>3</sub>)<sub>2</sub> &rarr; 3Cu + 2Al(NO<sub>3</sub>)<sub>3</sub>'…"
      ]
     },
     "metadata": {},
     "output_type": "display_data"
    },
    {
     "data": {
      "application/vnd.jupyter.widget-view+json": {
       "model_id": "63d5b034acf04806b1fe4ae494326d2f",
       "version_major": 2,
       "version_minor": 0
      },
      "text/plain": [
       "HTMLMath(value='<b>(D)</b> CaCO<sub>3</sub> &rarr; CaO + CO<sub>2</sub>')"
      ]
     },
     "metadata": {},
     "output_type": "display_data"
    },
    {
     "data": {
      "application/vnd.jupyter.widget-view+json": {
       "model_id": "88c3030867dd44888c63efda7b0ed9c3",
       "version_major": 2,
       "version_minor": 0
      },
      "text/plain": [
       "HBox(children=(Button(description='(A)', style=ButtonStyle(button_color='Whitesmoke')), Button(description='(B…"
      ]
     },
     "metadata": {},
     "output_type": "display_data"
    },
    {
     "name": "stdout",
     "output_type": "stream",
     "text": [
      " \r"
     ]
    }
   ],
   "source": [
    "#import ipywidgets as widgets\n",
    "#import random\n",
    "#from IPython.display import clear_output, display, HTML\n",
    "\n",
    "option_1 = \"CaCO<sub>3</sub> &rarr; CaO + CO<sub>2</sub>\" \n",
    "option_2 = \"2S + 3O<sub>2</sub> &rarr; 2SO<sub>3</sub>\"\n",
    "option_3 = \"2Al + 3Cu(NO<sub>3</sub>)<sub>2</sub> &rarr; 3Cu + 2Al(NO<sub>3</sub>)<sub>3</sub>\"\n",
    "option_4 = \"FeS + 2HCl &rarr; FeCl<sub>2</sub> + H<sub>2</sub>S\"\n",
    "\n",
    "multiple_choice(option_1, option_2, option_3, option_4)"
   ]
  },
  {
   "cell_type": "markdown",
   "metadata": {},
   "source": [
    "## <a id=\"single\"> #3 Single Replacement Reaction</a>\n",
    "\n",
    "A **single replacement reaction** (also called a *single displacement reaction*) describes the process in which one element replaces another element in a compound. The general form for a single replacement reaction is given below:\n",
    "\n",
    "<img src=\"images/single_displacement_reaction.svg\" width=\"78%\"/>\n",
    "\n",
    "The reactant side always contains at least one pure element and one compound. Likewise, the product side always contains at least one pure element and one compound. Only positive ions (cations) can replace other positive ions, while only negative ions (anions) can replace other negative ions. In the general equation shown above, <b>X</b> must be positive because it replaces <b>A</b>. If <b>X</b> was negative, then it would replace <b>B</b>.\n",
    "\n",
    "Below is an example of cation replacement, in which the positive ion (Ni<sup>2+</sup>) is replaced by another positive ion (Zn<sup>2+</sup>):\n",
    "\n",
    "<span style=\"color:red\">Ni</span>Cl<sub>2</sub> + <span style=\"color:blue\">Zn</span> &rarr; <span style=\"color:blue\">Zn</span>Cl<sub>2</sub> + <span style=\"color:red\">Ni</span>\n",
    "\n",
    "Below is an example of anion replacement, in which the negative ion (Br<sup>-</sup>) is replaced by another negative ion (Cl<sup>-</sup>):\n",
    "\n",
    "2Na<span style=\"color:red\">Br</span> + <span style=\"color:blue\">Cl<sub>2</sub></span> &rarr; 2Na<span style=\"color:blue\">Cl</span> + <span style=\"color:red\">Br<sub>2</sub></span>\n",
    "\n",
    "Notice how the elements shown in <span style=\"color:blue\">blue</span> replace the elements shown in <span style=\"color:red\">red</span> in each of these examples."
   ]
  },
  {
   "cell_type": "markdown",
   "metadata": {},
   "source": [
    "## Practice Problems"
   ]
  },
  {
   "cell_type": "markdown",
   "metadata": {},
   "source": [
    "**Question:** *Select 'True' or 'False' for each of the follow statements.* "
   ]
  },
  {
   "cell_type": "code",
   "execution_count": 13,
   "metadata": {},
   "outputs": [
    {
     "data": {
      "application/vnd.jupyter.widget-view+json": {
       "model_id": "9d9e127c054b4aeb9f661c52830a936b",
       "version_major": 2,
       "version_minor": 0
      },
      "text/plain": [
       "HBox(children=(Button(description='True', style=ButtonStyle(button_color='Whitesmoke')), Button(description='F…"
      ]
     },
     "metadata": {},
     "output_type": "display_data"
    },
    {
     "data": {
      "application/vnd.jupyter.widget-view+json": {
       "model_id": "56511125f7d94e639b417323d254afc7",
       "version_major": 2,
       "version_minor": 0
      },
      "text/plain": [
       "HBox(children=(Button(description='True', style=ButtonStyle(button_color='Whitesmoke')), Button(description='F…"
      ]
     },
     "metadata": {},
     "output_type": "display_data"
    },
    {
     "data": {
      "application/vnd.jupyter.widget-view+json": {
       "model_id": "12dc341909764d98b4515698a2b0cb48",
       "version_major": 2,
       "version_minor": 0
      },
      "text/plain": [
       "HBox(children=(Button(description='True', style=ButtonStyle(button_color='Whitesmoke')), Button(description='F…"
      ]
     },
     "metadata": {},
     "output_type": "display_data"
    },
    {
     "data": {
      "application/vnd.jupyter.widget-view+json": {
       "model_id": "dfe54515ef6144849a237bfcb874713a",
       "version_major": 2,
       "version_minor": 0
      },
      "text/plain": [
       "HBox(children=(Button(description='True', style=ButtonStyle(button_color='Whitesmoke')), Button(description='F…"
      ]
     },
     "metadata": {},
     "output_type": "display_data"
    },
    {
     "name": "stdout",
     "output_type": "stream",
     "text": [
      " \r"
     ]
    }
   ],
   "source": [
    "randomize_3 = random.randint(1, 2)\n",
    "if randomize_3 == 1:\n",
    "    option_1 = \"Single replacement reactions are also called single displacement reactions.\"; bool_1 = True\n",
    "elif randomize_3 == 2:\n",
    "    option_1 = \"Single replacement reactions are also called synthesis reactions.\"; bool_1 = False\n",
    "\n",
    "randomize_3 = random.randint(1, 4)\n",
    "if randomize_3 == 1:\n",
    "    option_2 = \"The reactants used in a single replacement reaction always include one element and one compound.\"; bool_2 = True\n",
    "elif randomize_3 == 2:\n",
    "    option_2 = \"The reactants used in a single replacement reaction always include one element and one compound.\"; bool_2 = True\n",
    "elif randomize_3 == 3:\n",
    "    option_2 = \"The reactants used in a single replacement reaction always include two elements and no compounds.\"; bool_2 = False\n",
    "elif randomize_3 == 4:\n",
    "    option_2 = \"The reactants used in a single replacement reaction always include two compounds and no elements.\"; bool_2 = False\n",
    "    \n",
    "randomize_3 = random.randint(1, 6)\n",
    "if randomize_3 == 1:\n",
    "    option_3 = \"The general form of a single replacement reaction is: AB + X &rarr; XB + A.\"; bool_3 = True\n",
    "elif randomize_3 == 2:\n",
    "    option_3 = \"The general form of a single replacement reaction is: AB + X &rarr; XB + A.\"; bool_3 = True\n",
    "elif randomize_3 == 3:\n",
    "    option_3 = \"The general form of a single replacement reaction is: AB + Y &rarr; AY + B.\"; bool_3 = True\n",
    "elif randomize_3 == 4:\n",
    "    option_3 = \"The general form of a single replacement reaction is: AB &rarr; A + B.\"; bool_3 = False\n",
    "elif randomize_3 == 5:\n",
    "    option_3 = \"The general form of a single replacement reaction is: A + B &rarr; AB.\"; bool_3 = False\n",
    "elif randomize_3 == 6:\n",
    "    option_3 = \"The general form of a single replacement reaction is: AB + XY &rarr; XB + AY.\"; bool_3 = False\n",
    "\n",
    "randomize_3 = random.randint(1, 4)\n",
    "if randomize_3 == 1:\n",
    "    option_4 = \"The products generated from a single replacement reaction always include one element and one compound.\"; bool_4 = True\n",
    "elif randomize_3 == 2:\n",
    "    option_4 = \"The products generated from a single replacement reaction always include one element and one compound.\"; bool_4 = True\n",
    "elif randomize_3 == 3:\n",
    "    option_4 = \"The products generated from a single replacement reaction always include two elements and no compounds.\"; bool_4 = False    \n",
    "elif randomize_3 == 4:\n",
    "    option_4 = \"The products generated from a single replacement reaction always include two compounds and no elements.\"; bool_4 = False \n",
    "    \n",
    "true_false(option_1, bool_1, option_2, bool_2, option_3, bool_3, option_4, bool_4, \"True\", \"False\")"
   ]
  },
  {
   "cell_type": "markdown",
   "metadata": {},
   "source": [
    "**Question:** *Which of the follow chemical reactions is a single replacement reaction?* "
   ]
  },
  {
   "cell_type": "code",
   "execution_count": 14,
   "metadata": {},
   "outputs": [
    {
     "data": {
      "application/vnd.jupyter.widget-view+json": {
       "model_id": "49369c61b6e04e99a8992ff007ff9591",
       "version_major": 2,
       "version_minor": 0
      },
      "text/plain": [
       "HTMLMath(value='<b>(A)</b> 2MgI<sub>2</sub> + Mn(SO<sub>3</sub>)<sub>2</sub> &rarr; 2MgSO<sub>3</sub> + MnI<su…"
      ]
     },
     "metadata": {},
     "output_type": "display_data"
    },
    {
     "data": {
      "application/vnd.jupyter.widget-view+json": {
       "model_id": "5d0eba34d3d9477fa8e438c29155d754",
       "version_major": 2,
       "version_minor": 0
      },
      "text/plain": [
       "HTMLMath(value='<b>(B)</b> 2Na + Cl<sub>2</sub> &rarr; 2NaCl')"
      ]
     },
     "metadata": {},
     "output_type": "display_data"
    },
    {
     "data": {
      "application/vnd.jupyter.widget-view+json": {
       "model_id": "b44b0d31349c4c74b787c13dc10bca0b",
       "version_major": 2,
       "version_minor": 0
      },
      "text/plain": [
       "HTMLMath(value='<b>(C)</b> 2Ag(NO<sub>3</sub>) + Cu &rarr; Cu(NO<sub>3</sub>)<sub>2</sub> + 2Ag')"
      ]
     },
     "metadata": {},
     "output_type": "display_data"
    },
    {
     "data": {
      "application/vnd.jupyter.widget-view+json": {
       "model_id": "556328e8501e48da8964a62f91cb63f9",
       "version_major": 2,
       "version_minor": 0
      },
      "text/plain": [
       "HTMLMath(value='<b>(D)</b> 2Ag<sub>2</sub>O &rarr; 4Ag + O<sub>2</sub>')"
      ]
     },
     "metadata": {},
     "output_type": "display_data"
    },
    {
     "data": {
      "application/vnd.jupyter.widget-view+json": {
       "model_id": "44668d68c10d4ddb83f6c3995866baa0",
       "version_major": 2,
       "version_minor": 0
      },
      "text/plain": [
       "HBox(children=(Button(description='(A)', style=ButtonStyle(button_color='Whitesmoke')), Button(description='(B…"
      ]
     },
     "metadata": {},
     "output_type": "display_data"
    },
    {
     "name": "stdout",
     "output_type": "stream",
     "text": [
      " \r"
     ]
    }
   ],
   "source": [
    "#import ipywidgets as widgets\n",
    "#import random\n",
    "#from IPython.display import clear_output, display, HTML\n",
    "\n",
    "option_1 = \"2Ag(NO<sub>3</sub>) + Cu &rarr; Cu(NO<sub>3</sub>)<sub>2</sub> + 2Ag\" \n",
    "option_2 = \"2Na + Cl<sub>2</sub> &rarr; 2NaCl\"\n",
    "option_3 = \"2Ag<sub>2</sub>O &rarr; 4Ag + O<sub>2</sub>\"\n",
    "option_4 = \"2MgI<sub>2</sub> + Mn(SO<sub>3</sub>)<sub>2</sub> &rarr; 2MgSO<sub>3</sub> + MnI<sub>4</sub>\"\n",
    "\n",
    "multiple_choice(option_1, option_2, option_3, option_4)"
   ]
  },
  {
   "cell_type": "code",
   "execution_count": 15,
   "metadata": {},
   "outputs": [
    {
     "data": {
      "application/vnd.jupyter.widget-view+json": {
       "model_id": "a99ac9c402bd4d618a9b559b5a68d2a5",
       "version_major": 2,
       "version_minor": 0
      },
      "text/plain": [
       "HTMLMath(value='<b>(A)</b> Na<sub>3</sub>PO<sub>4</sub> + 3KOH &rarr; 3NaOH + K<sub>3</sub>PO<sub>4</sub>')"
      ]
     },
     "metadata": {},
     "output_type": "display_data"
    },
    {
     "data": {
      "application/vnd.jupyter.widget-view+json": {
       "model_id": "a371bb9a77ef4de3980e509c5c583a60",
       "version_major": 2,
       "version_minor": 0
      },
      "text/plain": [
       "HTMLMath(value='<b>(B)</b> 2KI + Br<sub>2</sub> &rarr; 2KBr + I<sub>2</sub>')"
      ]
     },
     "metadata": {},
     "output_type": "display_data"
    },
    {
     "data": {
      "application/vnd.jupyter.widget-view+json": {
       "model_id": "7c604eb55eb34cb683e48630a5590b64",
       "version_major": 2,
       "version_minor": 0
      },
      "text/plain": [
       "HTMLMath(value='<b>(C)</b> 2NO<sub>2</sub> &rarr; 2O<sub>2</sub> + N<sub>2</sub>')"
      ]
     },
     "metadata": {},
     "output_type": "display_data"
    },
    {
     "data": {
      "application/vnd.jupyter.widget-view+json": {
       "model_id": "775abc2eecf146168314cd21adcb944f",
       "version_major": 2,
       "version_minor": 0
      },
      "text/plain": [
       "HTMLMath(value='<b>(D)</b> 2Ca + O<sub>2</sub> &rarr; 2CaO')"
      ]
     },
     "metadata": {},
     "output_type": "display_data"
    },
    {
     "data": {
      "application/vnd.jupyter.widget-view+json": {
       "model_id": "677e4410ca364b7281a57f6ed8563259",
       "version_major": 2,
       "version_minor": 0
      },
      "text/plain": [
       "HBox(children=(Button(description='(A)', style=ButtonStyle(button_color='Whitesmoke')), Button(description='(B…"
      ]
     },
     "metadata": {},
     "output_type": "display_data"
    },
    {
     "name": "stdout",
     "output_type": "stream",
     "text": [
      " \r"
     ]
    }
   ],
   "source": [
    "#import ipywidgets as widgets\n",
    "#import random\n",
    "#from IPython.display import clear_output, display, HTML\n",
    "\n",
    "option_1 = \"2KI + Br<sub>2</sub> &rarr; 2KBr + I<sub>2</sub>\" \n",
    "option_2 = \"2Ca + O<sub>2</sub> &rarr; 2CaO\"\n",
    "option_3 = \"2NO<sub>2</sub> &rarr; 2O<sub>2</sub> + N<sub>2</sub>\"\n",
    "option_4 = \"Na<sub>3</sub>PO<sub>4</sub> + 3KOH &rarr; 3NaOH + K<sub>3</sub>PO<sub>4</sub>\"\n",
    "\n",
    "multiple_choice(option_1, option_2, option_3, option_4)"
   ]
  },
  {
   "cell_type": "code",
   "execution_count": 16,
   "metadata": {},
   "outputs": [
    {
     "data": {
      "application/vnd.jupyter.widget-view+json": {
       "model_id": "fb7cd13643d546c688834fa52570e6d2",
       "version_major": 2,
       "version_minor": 0
      },
      "text/plain": [
       "HTMLMath(value='<b>(A)</b> Ca(OH)<sub>2</sub> &rarr; CaO + H<sub>2</sub>O')"
      ]
     },
     "metadata": {},
     "output_type": "display_data"
    },
    {
     "data": {
      "application/vnd.jupyter.widget-view+json": {
       "model_id": "71fbacfbe5394ff4abd547bc632fff23",
       "version_major": 2,
       "version_minor": 0
      },
      "text/plain": [
       "HTMLMath(value='<b>(B)</b> 2Li + S &rarr; Li<sub>2</sub>S')"
      ]
     },
     "metadata": {},
     "output_type": "display_data"
    },
    {
     "data": {
      "application/vnd.jupyter.widget-view+json": {
       "model_id": "09939e3e7871456cb7508df7f52d7d2e",
       "version_major": 2,
       "version_minor": 0
      },
      "text/plain": [
       "HTMLMath(value='<b>(C)</b> Zn + H<sub>2</sub>SO<sub>4</sub> &rarr; ZnSO<sub>4</sub> + H<sub>2</sub>')"
      ]
     },
     "metadata": {},
     "output_type": "display_data"
    },
    {
     "data": {
      "application/vnd.jupyter.widget-view+json": {
       "model_id": "ce6618f1d4f94872be8961877caf11bf",
       "version_major": 2,
       "version_minor": 0
      },
      "text/plain": [
       "HTMLMath(value='<b>(D)</b> C<sub>3</sub>H<sub>6</sub>O + 4O<sub>2</sub> &rarr; 3CO<sub>2</sub> + 3H<sub>2</sub…"
      ]
     },
     "metadata": {},
     "output_type": "display_data"
    },
    {
     "data": {
      "application/vnd.jupyter.widget-view+json": {
       "model_id": "a16ee85c1bb3499091ce87d23630ea76",
       "version_major": 2,
       "version_minor": 0
      },
      "text/plain": [
       "HBox(children=(Button(description='(A)', style=ButtonStyle(button_color='Whitesmoke')), Button(description='(B…"
      ]
     },
     "metadata": {},
     "output_type": "display_data"
    },
    {
     "name": "stdout",
     "output_type": "stream",
     "text": [
      " \r"
     ]
    }
   ],
   "source": [
    "#import ipywidgets as widgets\n",
    "#import random\n",
    "#from IPython.display import clear_output, display, HTML\n",
    "\n",
    "option_1 = \"Zn + H<sub>2</sub>SO<sub>4</sub> &rarr; ZnSO<sub>4</sub> + H<sub>2</sub>\" \n",
    "option_2 = \"2Li + S &rarr; Li<sub>2</sub>S\"\n",
    "option_3 = \"C<sub>3</sub>H<sub>6</sub>O + 4O<sub>2</sub> &rarr; 3CO<sub>2</sub> + 3H<sub>2</sub>O\"\n",
    "option_4 = \"Ca(OH)<sub>2</sub> &rarr; CaO + H<sub>2</sub>O\"\n",
    "\n",
    "multiple_choice(option_1, option_2, option_3, option_4)"
   ]
  },
  {
   "cell_type": "code",
   "execution_count": 17,
   "metadata": {},
   "outputs": [
    {
     "data": {
      "application/vnd.jupyter.widget-view+json": {
       "model_id": "9117027923754d4689cf0364a7d7d6bd",
       "version_major": 2,
       "version_minor": 0
      },
      "text/plain": [
       "HTMLMath(value='<b>(A)</b> Cl<sub>2</sub> + CaI<sub>2</sub> &rarr; CaCl<sub>2</sub> + I<sub>2</sub>')"
      ]
     },
     "metadata": {},
     "output_type": "display_data"
    },
    {
     "data": {
      "application/vnd.jupyter.widget-view+json": {
       "model_id": "397dc5b557d44b8185051119bf9068d0",
       "version_major": 2,
       "version_minor": 0
      },
      "text/plain": [
       "HTMLMath(value='<b>(B)</b> 3H<sub>2</sub> + N<sub>2</sub> &rarr; 2NH<sub>3</sub>')"
      ]
     },
     "metadata": {},
     "output_type": "display_data"
    },
    {
     "data": {
      "application/vnd.jupyter.widget-view+json": {
       "model_id": "1a0be730d14d49dfbfd0e0c026c1d6ca",
       "version_major": 2,
       "version_minor": 0
      },
      "text/plain": [
       "HTMLMath(value='<b>(C)</b> AgNO<sub>3</sub> + KI &rarr; AgI + KNO<sub>3</sub>')"
      ]
     },
     "metadata": {},
     "output_type": "display_data"
    },
    {
     "data": {
      "application/vnd.jupyter.widget-view+json": {
       "model_id": "26c33ef20d4744abb51520cbb91ab3ac",
       "version_major": 2,
       "version_minor": 0
      },
      "text/plain": [
       "HTMLMath(value='<b>(D)</b> 2Hg<sub>2</sub>O &rarr; 4Hg + O<sub>2</sub>')"
      ]
     },
     "metadata": {},
     "output_type": "display_data"
    },
    {
     "data": {
      "application/vnd.jupyter.widget-view+json": {
       "model_id": "4608d2b4bfbd4511a29afccb57da8b49",
       "version_major": 2,
       "version_minor": 0
      },
      "text/plain": [
       "HBox(children=(Button(description='(A)', style=ButtonStyle(button_color='Whitesmoke')), Button(description='(B…"
      ]
     },
     "metadata": {},
     "output_type": "display_data"
    },
    {
     "name": "stdout",
     "output_type": "stream",
     "text": [
      " \r"
     ]
    }
   ],
   "source": [
    "#import ipywidgets as widgets\n",
    "#import random\n",
    "#from IPython.display import clear_output, display, HTML\n",
    "\n",
    "option_1 = \"Cl<sub>2</sub> + CaI<sub>2</sub> &rarr; CaCl<sub>2</sub> + I<sub>2</sub>\" \n",
    "option_2 = \"3H<sub>2</sub> + N<sub>2</sub> &rarr; 2NH<sub>3</sub>\"\n",
    "option_3 = \"2Hg<sub>2</sub>O &rarr; 4Hg + O<sub>2</sub>\"\n",
    "option_4 = \"AgNO<sub>3</sub> + KI &rarr; AgI + KNO<sub>3</sub>\"\n",
    "\n",
    "multiple_choice(option_1, option_2, option_3, option_4)"
   ]
  },
  {
   "cell_type": "markdown",
   "metadata": {},
   "source": [
    "### Reactivity Series\n",
    "\n",
    "The reactivity of a metal is determined by its tendency to donate electrons (a process known as **oxidation**). The reactivity of a halogen is determined by its tendency to accept electrons (a process known as **reduction**). A list or metals and halogens in order of their reactivity (highest to lowest) is called a **reactivity series** (or *activity series*). Only metals of higher reactivity can replace metals with lower reactivity. Likewise, only halogens of higher reactivity can replace halogens with lower reactivity. Below is a reactivity series for some common metals and halogens:\n",
    "\n",
    "Metals       | Cations           | Halogens | Anions\n",
    "---          | ---               | ---      | ---                                                          \n",
    "Potassium    | K<sup>+</sup>     | Fluorine | F<sup>-</sup>                                                                \n",
    "Sodium       | Na<sup>+</sup>    | Chlorine | Cl<sup>-</sup>\n",
    "Calcium      | Ca<sup>2+</sup>   | Bromine  | Br<sup>-</sup>\n",
    "Magnesium    | Mg<sup>2+</sup>   | Iodine   | I<sup>-</sup>\n",
    "Aluminum     | Al<sup>3+</sup>   | \n",
    "Manganese    | Mn<sup>2+</sup>   |  \n",
    "Zinc         | Zn<sup>2+</sup>   | \n",
    "Chromium     | Cr<sup>3+</sup>   | \n",
    "Iron         | Fe<sup>2+</sup>   | \n",
    "Cobalt       | Co<sup>2+</sup>   | \n",
    "Nickle       | Ni<sup>2+</sup>   | \n",
    "Tin          | Sn<sup>2+</sup>   | \n",
    "Lead         | Pb<sup>2+</sup>   | \n",
    "Hydrogen     | H<sup>+</sup>     | \n",
    "Copper       | Cu<sup>2+</sup>   | \n",
    "Mercury      | Hg<sup>2+</sup>   | \n",
    "Silver       | Ag<sup>+</sup>    | \n",
    "Gold         | Au<sup>3+</sup>   | \n",
    "Platinum     | Pt<sup>4+</sup>   | \n",
    "\n",
    "The reactivity series can be used to determine if a reaction will spontaneously occur. If the replacing element is more reactive (higher on the list) than the element it is replacing, then the reaction will spontaneously occur."
   ]
  },
  {
   "cell_type": "markdown",
   "metadata": {},
   "source": [
    "**Question:** *Using the reactivity series shown above, predict if each reaction will, or will not, spontaneously occur.* "
   ]
  },
  {
   "cell_type": "code",
   "execution_count": 18,
   "metadata": {},
   "outputs": [
    {
     "data": {
      "application/vnd.jupyter.widget-view+json": {
       "model_id": "501a56ad4651434491fb5dfb46e28983",
       "version_major": 2,
       "version_minor": 0
      },
      "text/plain": [
       "HBox(children=(Button(description='Will occur', style=ButtonStyle(button_color='Whitesmoke')), Button(descript…"
      ]
     },
     "metadata": {},
     "output_type": "display_data"
    },
    {
     "data": {
      "application/vnd.jupyter.widget-view+json": {
       "model_id": "182a35b104fd4d43932247e9056417b5",
       "version_major": 2,
       "version_minor": 0
      },
      "text/plain": [
       "HBox(children=(Button(description='Will occur', style=ButtonStyle(button_color='Whitesmoke')), Button(descript…"
      ]
     },
     "metadata": {},
     "output_type": "display_data"
    },
    {
     "data": {
      "application/vnd.jupyter.widget-view+json": {
       "model_id": "136904ae27754c4fa1e2dba8f167ae4b",
       "version_major": 2,
       "version_minor": 0
      },
      "text/plain": [
       "HBox(children=(Button(description='Will occur', style=ButtonStyle(button_color='Whitesmoke')), Button(descript…"
      ]
     },
     "metadata": {},
     "output_type": "display_data"
    },
    {
     "data": {
      "application/vnd.jupyter.widget-view+json": {
       "model_id": "f0b34e41db374969b42c8be244e2f2ec",
       "version_major": 2,
       "version_minor": 0
      },
      "text/plain": [
       "HBox(children=(Button(description='Will occur', style=ButtonStyle(button_color='Whitesmoke')), Button(descript…"
      ]
     },
     "metadata": {},
     "output_type": "display_data"
    },
    {
     "name": "stdout",
     "output_type": "stream",
     "text": [
      " \r"
     ]
    }
   ],
   "source": [
    "randomize_4 = random.randint(1, 2)\n",
    "if randomize_4 == 1:\n",
    "    option_1 = \"Al + H<sub>2</sub>O &rarr;\"; bool_1 = True\n",
    "elif randomize_4 == 2:\n",
    "    option_1 = \"Ag + H<sub>2</sub>O &rarr;\"; bool_1 = False\n",
    "\n",
    "randomize_4 = random.randint(1, 2)\n",
    "if randomize_4 == 1:\n",
    "    option_2 = \"AlPO<sub>4</sub> + Mg &rarr;\"; bool_2 = True\n",
    "elif randomize_4 == 2:\n",
    "    option_2 = \"AlPO<sub>4</sub> + Ni&rarr;\"; bool_2 = False\n",
    "\n",
    "randomize_4 = random.randint(1, 2)\n",
    "if randomize_4 == 1:\n",
    "    option_3 = \"F<sub>2</sub> + CaCl<sub>2</sub> &rarr;\"; bool_3 = True\n",
    "elif randomize_4 == 2:\n",
    "    option_3 = \"Br<sub>2</sub> + CaCl<sub>2</sub> &rarr;\"; bool_3 = False\n",
    "\n",
    "randomize_4 = random.randint(1, 2)\n",
    "if randomize_4 == 1:\n",
    "    option_4 = \"CuSO<sub>4</sub> + Zn &rarr;\"; bool_4 = True\n",
    "elif randomize_4 == 2:\n",
    "    option_4 = \"CuSO<sub>4</sub> + Hg &rarr;\"; bool_4 = False\n",
    "   \n",
    "true_false(option_1, bool_1, option_2, bool_2, option_3, bool_3, option_4, bool_4, \"Will occur\", \"Will not occur\")"
   ]
  },
  {
   "cell_type": "markdown",
   "metadata": {},
   "source": [
    "## <a id=\"double\"> #4 Double Replacement Reaction </a>\n",
    "\n",
    "A **double replacement reaction** (also called a *double displacement reaction*) describes the process in which the positive and negative ions from two compounds replace one another. The general form for a double replacement reaction is given below:\n",
    "\n",
    "<img src=\"images/double_displacement_reaction.svg\" width=\"92%\"/>\n",
    "\n",
    "The reactant side always contains two compounds. Likewise, the product side always contains two compounds. Only positive ions (cations) can exchange places with other positive ions. Likewise, only negative ions (anions) can exchange places with other negative ions.\n",
    "\n",
    "An example of a double replacement reaction is:\n",
    "\n",
    "<span style=\"color:red\">NaCl</span> + <span style=\"color:blue\">AgNO<sub>3</sub></span> &rarr; <span style=\"color:blue\">Ag</span><span style=\"color:red\">Cl</span> + <span style=\"color:red\">Na</span><span style=\"color:blue\">NO<sub>3</sub></span>"
   ]
  },
  {
   "cell_type": "markdown",
   "metadata": {},
   "source": [
    "## Practice Problems"
   ]
  },
  {
   "cell_type": "markdown",
   "metadata": {},
   "source": [
    "**Question:** *Select 'True' or 'False' for each of the follow statements.* "
   ]
  },
  {
   "cell_type": "code",
   "execution_count": 19,
   "metadata": {},
   "outputs": [
    {
     "data": {
      "application/vnd.jupyter.widget-view+json": {
       "model_id": "04ce3942cbe7497b9de4a96622a864e0",
       "version_major": 2,
       "version_minor": 0
      },
      "text/plain": [
       "HBox(children=(Button(description='True', style=ButtonStyle(button_color='Whitesmoke')), Button(description='F…"
      ]
     },
     "metadata": {},
     "output_type": "display_data"
    },
    {
     "data": {
      "application/vnd.jupyter.widget-view+json": {
       "model_id": "2d5d7a0d52a349e88f5da6837dc658ee",
       "version_major": 2,
       "version_minor": 0
      },
      "text/plain": [
       "HBox(children=(Button(description='True', style=ButtonStyle(button_color='Whitesmoke')), Button(description='F…"
      ]
     },
     "metadata": {},
     "output_type": "display_data"
    },
    {
     "data": {
      "application/vnd.jupyter.widget-view+json": {
       "model_id": "346f6aa933864202a7ac036afbfe916f",
       "version_major": 2,
       "version_minor": 0
      },
      "text/plain": [
       "HBox(children=(Button(description='True', style=ButtonStyle(button_color='Whitesmoke')), Button(description='F…"
      ]
     },
     "metadata": {},
     "output_type": "display_data"
    },
    {
     "data": {
      "application/vnd.jupyter.widget-view+json": {
       "model_id": "6795e1bc79594803965fa4374799df8c",
       "version_major": 2,
       "version_minor": 0
      },
      "text/plain": [
       "HBox(children=(Button(description='True', style=ButtonStyle(button_color='Whitesmoke')), Button(description='F…"
      ]
     },
     "metadata": {},
     "output_type": "display_data"
    },
    {
     "name": "stdout",
     "output_type": "stream",
     "text": [
      " \r"
     ]
    }
   ],
   "source": [
    "randomize_5 = random.randint(1, 2)\n",
    "if randomize_5 == 1:\n",
    "    option_1 = \"Double replacement reactions are also called double displacement reactions.\"; bool_1 = True\n",
    "elif randomize_5 == 2:\n",
    "    option_1 = \"Double replacement reactions are also called analysis reactions.\"; bool_1 = False\n",
    "\n",
    "randomize_5 = random.randint(1, 4)\n",
    "if randomize_5 == 1:\n",
    "    option_2 = \"The reactants used in a double replacement reaction always include two compounds.\"; bool_2 = True\n",
    "elif randomize_5 == 2:\n",
    "    option_2 = \"The reactants used in a double replacement reaction always include two compounds.\"; bool_2 = True\n",
    "elif randomize_5 == 3:\n",
    "    option_2 = \"The reactants used in a double replacement reaction always include two elements.\"; bool_2 = False\n",
    "elif randomize_5 == 4:\n",
    "    option_2 = \"The reactants used in a double replacement reaction always include one element and one compound.\"; bool_2 = False\n",
    "    \n",
    "randomize_5 = random.randint(1, 6)\n",
    "if randomize_5 == 1:\n",
    "    option_3 = \"The general form of a double replacement reaction is: AB + XY &rarr; XB + AY.\"; bool_3 = True\n",
    "elif randomize_5 == 2:\n",
    "    option_3 = \"The general form of a double replacement reaction is: AB + XY &rarr; XB + AY.\"; bool_3 = True\n",
    "elif randomize_5 == 3:\n",
    "    option_3 = \"The general form of a double replacement reaction is: AB + XY &rarr; AY + XB.\"; bool_3 = True\n",
    "elif randomize_5 == 4:\n",
    "    option_3 = \"The general form of a double replacement reaction is: A + B &rarr; AB.\"; bool_3 = False\n",
    "elif randomize_5 == 5:\n",
    "    option_3 = \"The general form of a double replacement reaction is: AB &rarr; A + B.\"; bool_3 = False\n",
    "elif randomize_5 == 6:\n",
    "    option_3 = \"The general form of a double replacement reaction is: AB + X &rarr; XB + A.\"; bool_3 = False\n",
    "\n",
    "randomize_5 = random.randint(1, 4)\n",
    "if randomize_5 == 1:\n",
    "    option_4 = \"The products generated from a double replacement reaction always include two compounds.\"; bool_4 = True\n",
    "elif randomize_5 == 2:\n",
    "    option_4 = \"The products generated from a double replacement reaction always include two compounds.\"; bool_4 = True\n",
    "elif randomize_5 == 3:\n",
    "    option_4 = \"The products generated from a double replacement reaction always include two elements.\"; bool_4 = False    \n",
    "elif randomize_5 == 4:\n",
    "    option_4 = \"The products generated from a double replacement reaction always include one element and one compound.\"; bool_4 = False \n",
    "    \n",
    "true_false(option_1, bool_1, option_2, bool_2, option_3, bool_3, option_4, bool_4, \"True\", \"False\")"
   ]
  },
  {
   "cell_type": "markdown",
   "metadata": {},
   "source": [
    "**Question:** *Which of the follow chemical reactions is a double replacement reaction?* "
   ]
  },
  {
   "cell_type": "code",
   "execution_count": 20,
   "metadata": {},
   "outputs": [
    {
     "data": {
      "application/vnd.jupyter.widget-view+json": {
       "model_id": "11ef809c4578470aa64bb90929cfddd0",
       "version_major": 2,
       "version_minor": 0
      },
      "text/plain": [
       "HTMLMath(value='<b>(A)</b> 2NaOH + CaBr<sub>2</sub> &rarr; 2NaBr + Ca(OH)<sub>2</sub>')"
      ]
     },
     "metadata": {},
     "output_type": "display_data"
    },
    {
     "data": {
      "application/vnd.jupyter.widget-view+json": {
       "model_id": "575cc28311854421bc6c9bcb2d842306",
       "version_major": 2,
       "version_minor": 0
      },
      "text/plain": [
       "HTMLMath(value='<b>(B)</b> 2Ni<sub>2</sub>O<sub>3</sub> &rarr; 4Ni + 3O<sub>2</sub>')"
      ]
     },
     "metadata": {},
     "output_type": "display_data"
    },
    {
     "data": {
      "application/vnd.jupyter.widget-view+json": {
       "model_id": "7017f74b542341109641bc5aa8727b3f",
       "version_major": 2,
       "version_minor": 0
      },
      "text/plain": [
       "HTMLMath(value='<b>(C)</b> 3Mg + N<sub>2</sub> &rarr; Mg<sub>3</sub>N<sub>2</sub>')"
      ]
     },
     "metadata": {},
     "output_type": "display_data"
    },
    {
     "data": {
      "application/vnd.jupyter.widget-view+json": {
       "model_id": "e671ff01a8cf46c58900a3b471283acd",
       "version_major": 2,
       "version_minor": 0
      },
      "text/plain": [
       "HTMLMath(value='<b>(D)</b> 3AgNO<sub>3</sub> + Ni &rarr; Ni(NO)<sub>3</sub> + 3Ag')"
      ]
     },
     "metadata": {},
     "output_type": "display_data"
    },
    {
     "data": {
      "application/vnd.jupyter.widget-view+json": {
       "model_id": "b9787bb6fdc04492a5ba36a9359e5d80",
       "version_major": 2,
       "version_minor": 0
      },
      "text/plain": [
       "HBox(children=(Button(description='(A)', style=ButtonStyle(button_color='Whitesmoke')), Button(description='(B…"
      ]
     },
     "metadata": {},
     "output_type": "display_data"
    },
    {
     "name": "stdout",
     "output_type": "stream",
     "text": [
      " \r"
     ]
    }
   ],
   "source": [
    "#import ipywidgets as widgets\n",
    "#import random\n",
    "#from IPython.display import clear_output, display, HTML\n",
    "\n",
    "option_1 = \"2NaOH + CaBr<sub>2</sub> &rarr; 2NaBr + Ca(OH)<sub>2</sub>\" \n",
    "option_2 = \"3Mg + N<sub>2</sub> &rarr; Mg<sub>3</sub>N<sub>2</sub>\"\n",
    "option_3 = \"2Ni<sub>2</sub>O<sub>3</sub> &rarr; 4Ni + 3O<sub>2</sub>\"\n",
    "option_4 = \"3AgNO<sub>3</sub> + Ni &rarr; Ni(NO)<sub>3</sub> + 3Ag\"\n",
    "\n",
    "multiple_choice(option_1, option_2, option_3, option_4)"
   ]
  },
  {
   "cell_type": "code",
   "execution_count": 21,
   "metadata": {},
   "outputs": [
    {
     "data": {
      "application/vnd.jupyter.widget-view+json": {
       "model_id": "1b53738fa3e442338ed818aead18a754",
       "version_major": 2,
       "version_minor": 0
      },
      "text/plain": [
       "HTMLMath(value='<b>(A)</b> 2AlBr<sub>3</sub> + 3Cl<sub>2</sub> &rarr; 2AlCl<sub>3</sub> + 3Br<sub>2</sub>')"
      ]
     },
     "metadata": {},
     "output_type": "display_data"
    },
    {
     "data": {
      "application/vnd.jupyter.widget-view+json": {
       "model_id": "35cff5ce91ac40599c6c957598481391",
       "version_major": 2,
       "version_minor": 0
      },
      "text/plain": [
       "HTMLMath(value='<b>(B)</b> Li<sub>2</sub>SO<sub>4</sub> + BaCl<sub>2</sub> &rarr; 2LiCl + BaSO<sub>4</sub>')"
      ]
     },
     "metadata": {},
     "output_type": "display_data"
    },
    {
     "data": {
      "application/vnd.jupyter.widget-view+json": {
       "model_id": "966cc766cde5409fa7a5282770689d81",
       "version_major": 2,
       "version_minor": 0
      },
      "text/plain": [
       "HTMLMath(value='<b>(C)</b> 4Li + O<sub>2</sub> &rarr; 2Li<sub>2</sub>O')"
      ]
     },
     "metadata": {},
     "output_type": "display_data"
    },
    {
     "data": {
      "application/vnd.jupyter.widget-view+json": {
       "model_id": "7f66fad082884f288a407fc80b0bed45",
       "version_major": 2,
       "version_minor": 0
      },
      "text/plain": [
       "HTMLMath(value='<b>(D)</b> Al<sub>2</sub>O<sub>3</sub> &rarr; Al + O<sub>2</sub>')"
      ]
     },
     "metadata": {},
     "output_type": "display_data"
    },
    {
     "data": {
      "application/vnd.jupyter.widget-view+json": {
       "model_id": "fd02af76abc544bfabaebc409c554710",
       "version_major": 2,
       "version_minor": 0
      },
      "text/plain": [
       "HBox(children=(Button(description='(A)', style=ButtonStyle(button_color='Whitesmoke')), Button(description='(B…"
      ]
     },
     "metadata": {},
     "output_type": "display_data"
    },
    {
     "name": "stdout",
     "output_type": "stream",
     "text": [
      " \r"
     ]
    }
   ],
   "source": [
    "#import ipywidgets as widgets\n",
    "#import random\n",
    "#from IPython.display import clear_output, display, HTML\n",
    "\n",
    "option_1 = \"Li<sub>2</sub>SO<sub>4</sub> + BaCl<sub>2</sub> &rarr; 2LiCl + BaSO<sub>4</sub>\" \n",
    "option_2 = \"4Li + O<sub>2</sub> &rarr; 2Li<sub>2</sub>O\"\n",
    "option_3 = \"Al<sub>2</sub>O<sub>3</sub> &rarr; Al + O<sub>2</sub>\"\n",
    "option_4 = \"2AlBr<sub>3</sub> + 3Cl<sub>2</sub> &rarr; 2AlCl<sub>3</sub> + 3Br<sub>2</sub>\"\n",
    "\n",
    "multiple_choice(option_1, option_2, option_3, option_4)"
   ]
  },
  {
   "cell_type": "code",
   "execution_count": 22,
   "metadata": {},
   "outputs": [
    {
     "data": {
      "application/vnd.jupyter.widget-view+json": {
       "model_id": "f74ab10632de410dadb5852ac3e79dc9",
       "version_major": 2,
       "version_minor": 0
      },
      "text/plain": [
       "HTMLMath(value='<b>(A)</b> 2Cr + 3O<sub>2</sub> &rarr; 2CrO<sub>3</sub>')"
      ]
     },
     "metadata": {},
     "output_type": "display_data"
    },
    {
     "data": {
      "application/vnd.jupyter.widget-view+json": {
       "model_id": "abbac80b8e9a467da237d819c4e77a58",
       "version_major": 2,
       "version_minor": 0
      },
      "text/plain": [
       "HTMLMath(value='<b>(B)</b> 2Na + 2H<sub>2</sub>O &rarr; 2NaOH + H<sub>2</sub>')"
      ]
     },
     "metadata": {},
     "output_type": "display_data"
    },
    {
     "data": {
      "application/vnd.jupyter.widget-view+json": {
       "model_id": "93f5eb1f5b3d44e7881cb6e7599bb1cc",
       "version_major": 2,
       "version_minor": 0
      },
      "text/plain": [
       "HTMLMath(value='<b>(C)</b> CaCO<sub>3</sub> &rarr; CaO + CO<sub>2</sub>')"
      ]
     },
     "metadata": {},
     "output_type": "display_data"
    },
    {
     "data": {
      "application/vnd.jupyter.widget-view+json": {
       "model_id": "937c18053b1547b2b57b68e1a3ca8810",
       "version_major": 2,
       "version_minor": 0
      },
      "text/plain": [
       "HTMLMath(value='<b>(D)</b> Na<sub>2</sub>S + 2HCl &rarr; 2NaCl + H<sub>2</sub>S')"
      ]
     },
     "metadata": {},
     "output_type": "display_data"
    },
    {
     "data": {
      "application/vnd.jupyter.widget-view+json": {
       "model_id": "c3c437b937fb463e859cf90eccd7cf13",
       "version_major": 2,
       "version_minor": 0
      },
      "text/plain": [
       "HBox(children=(Button(description='(A)', style=ButtonStyle(button_color='Whitesmoke')), Button(description='(B…"
      ]
     },
     "metadata": {},
     "output_type": "display_data"
    },
    {
     "name": "stdout",
     "output_type": "stream",
     "text": [
      " \r"
     ]
    }
   ],
   "source": [
    "#import ipywidgets as widgets\n",
    "#import random\n",
    "#from IPython.display import clear_output, display, HTML\n",
    "\n",
    "option_1 = \"Na<sub>2</sub>S + 2HCl &rarr; 2NaCl + H<sub>2</sub>S\" \n",
    "option_2 = \"2Cr + 3O<sub>2</sub> &rarr; 2CrO<sub>3</sub>\"\n",
    "option_3 = \"CaCO<sub>3</sub> &rarr; CaO + CO<sub>2</sub>\"\n",
    "option_4 = \"2Na + 2H<sub>2</sub>O &rarr; 2NaOH + H<sub>2</sub>\"\n",
    "\n",
    "multiple_choice(option_1, option_2, option_3, option_4)"
   ]
  },
  {
   "cell_type": "code",
   "execution_count": 23,
   "metadata": {},
   "outputs": [
    {
     "data": {
      "application/vnd.jupyter.widget-view+json": {
       "model_id": "a8dccfd5de224d1d8a06e61b9439b60f",
       "version_major": 2,
       "version_minor": 0
      },
      "text/plain": [
       "HTMLMath(value='<b>(A)</b> HCl + NaOH &rarr; NaCl + H<sub>2</sub>O')"
      ]
     },
     "metadata": {},
     "output_type": "display_data"
    },
    {
     "data": {
      "application/vnd.jupyter.widget-view+json": {
       "model_id": "c0664839b7e944d5abd66fca7be77272",
       "version_major": 2,
       "version_minor": 0
      },
      "text/plain": [
       "HTMLMath(value='<b>(B)</b> MgO + H<sub>2</sub>O &rarr; Mg(OH)<sub>2</sub>')"
      ]
     },
     "metadata": {},
     "output_type": "display_data"
    },
    {
     "data": {
      "application/vnd.jupyter.widget-view+json": {
       "model_id": "a2832eb4fe0b49a18a94cef60fe1b749",
       "version_major": 2,
       "version_minor": 0
      },
      "text/plain": [
       "HTMLMath(value='<b>(C)</b> 2NaI + Br<sub>2</sub> &rarr; 2NaBr + I<sub>2</sub>')"
      ]
     },
     "metadata": {},
     "output_type": "display_data"
    },
    {
     "data": {
      "application/vnd.jupyter.widget-view+json": {
       "model_id": "13ba7046de3c4ad6b888deb153516401",
       "version_major": 2,
       "version_minor": 0
      },
      "text/plain": [
       "HTMLMath(value='<b>(D)</b> H<sub>2</sub>CO<sub>3</sub> &rarr; CO<sub>2</sub> + H<sub>2</sub>O')"
      ]
     },
     "metadata": {},
     "output_type": "display_data"
    },
    {
     "data": {
      "application/vnd.jupyter.widget-view+json": {
       "model_id": "3f859d19c4e9487ea800404a8496b591",
       "version_major": 2,
       "version_minor": 0
      },
      "text/plain": [
       "HBox(children=(Button(description='(A)', style=ButtonStyle(button_color='Whitesmoke')), Button(description='(B…"
      ]
     },
     "metadata": {},
     "output_type": "display_data"
    },
    {
     "name": "stdout",
     "output_type": "stream",
     "text": [
      " \r"
     ]
    }
   ],
   "source": [
    "#import ipywidgets as widgets\n",
    "#import random\n",
    "#from IPython.display import clear_output, display, HTML\n",
    "\n",
    "option_1 = \"HCl + NaOH &rarr; NaCl + H<sub>2</sub>O\" \n",
    "option_2 = \"MgO + H<sub>2</sub>O &rarr; Mg(OH)<sub>2</sub>\"\n",
    "option_3 = \"H<sub>2</sub>CO<sub>3</sub> &rarr; CO<sub>2</sub> + H<sub>2</sub>O\"\n",
    "option_4 = \"2NaI + Br<sub>2</sub> &rarr; 2NaBr + I<sub>2</sub>\"\n",
    "\n",
    "multiple_choice(option_1, option_2, option_3, option_4)"
   ]
  },
  {
   "cell_type": "markdown",
   "metadata": {},
   "source": [
    "### Solubility Chart\n",
    "\n",
    "Often, double replacement reactions result in the precipitation of one product. **Precipitation** occurs when a substance is deposited in the form of a solid from a solution. A solubility chart can be used to determine whether or not a product will precipitate or remain in solution. An example of a solubility chart is shown below:\n",
    "\n",
    "Anions                                    | Cations that form soluble compounds | Cations that form insoluble compounds\n",
    "---                                       | ---                                 | ---                                                             \n",
    "Nitrate (NO<sub>3</sub><sup>-</sup>)      | All                                 | None\n",
    "Acetate (CH<sub>3</sub>COO<sup>-</sup>)   | All                                 | None\n",
    "Chlorate (ClO<sub>3</sub><sup>-</sup>)    | All                                 | None\n",
    "Perchlorate (ClO<sub>4</sub><sup>-</sup>) | All                                 | None\n",
    "----------------------------------- | ----------------------------------- | -----------------------------------\n",
    "Chloride (Cl<sup>-</sup>)                 | Most                                | Ag, Hg(I), Pb(II)\n",
    "Bromide (Br<sup>-</sup>)                  | Most                                | Ag, Hg(I), Pb(II)\n",
    "Iodide (I<sup>-</sup>)                    | Most                                | Ag, Hg(I), Pb(II)\n",
    "----------------------------------- | ----------------------------------- | -----------------------------------\n",
    "Fluoride (F<sup>-</sup>)                  | Most                                | Mg, Ca, Sr, Ba, Pb(II)\n",
    "----------------------------------- | ----------------------------------- | -----------------------------------\n",
    "Sulfate (SO<sub>4</sub><sup>2-</sup>)     | Most                                | Ba, Pb(II), Sr\n",
    "----------------------------------- | ----------------------------------- | -----------------------------------\n",
    "Carbonate (CO<sub>3</sub><sup>2-</sup>)   | (Group 1 Metals), NH<sub>4</sub>      | Most\n",
    "Sulfite (SO<sub>3</sub><sup>2-</sup>)     | (Group 1 Metals), NH<sub>4</sub>      | Most\n",
    "Phosphate (PO<sub>4</sub><sup>3-</sup>)   | (Group 1 Metals), NH<sub>4</sub>      | Most\n",
    "Chromate (CrO<sub>4</sub><sup>2-</sup>)   | (Group 1 Metals), NH<sub>4</sub>      | Most\n",
    "----------------------------------- | ----------------------------------- | -----------------------------------\n",
    "Sulfide (S<sup>2-</sup>)                  | (Group 1 Metals), NH<sub>4</sub>, Ca, Ba, Sr | Most\n",
    "Hydroxide (OH<sup>-</sup>)                | (Group 1 Metals), NH<sub>4</sub>, Ca, Ba, Sr | Most\n",
    "\n",
    "To use the solubility chart, match the anion and cation in the compound using the rows and columns on the chart. If the resulting compound is located in the second column, then the compound is soluble. If the compound is located in the third column, then the compound is insoluble.\n",
    "\n",
    "For example, consider the following reaction:\n",
    "\n",
    "AgNO<sub>3</sub> + KCl &rarr; AgCl + KNO<sub>3</sub>\n",
    "\n",
    "There are two products, AgCl and KNO<sub>3</sub>, formed in this reaction. For AgCl, the anion is chloride (Cl<sup>-</sup>) and the cation is silver (Ag<sup>+</sup>). Matching the anion and cation on the solubility table above (row 5, column 3) indicates that the compound is insoluble. In other words, the compound will form a precipitate. \n",
    "\n",
    "For KNO<sub>3</sub>, the anion is nitrate (NO<sub>3</sub><sup>-</sup>) and the cation is potassium (K<sup>+</sup>). Matching the anion and cation on the solubility table above (row 1, column 2) indicates that the compound is soluble. In other words, the compound will remain in solution."
   ]
  },
  {
   "cell_type": "markdown",
   "metadata": {},
   "source": [
    "**Question:** *Using the solubility chart shown above, predict if each compound highlighted in <span style='color:red'>red</span> will dissolve or form a precipitate.*"
   ]
  },
  {
   "cell_type": "code",
   "execution_count": 24,
   "metadata": {},
   "outputs": [
    {
     "data": {
      "application/vnd.jupyter.widget-view+json": {
       "model_id": "c8a18e50bbee430d9da454377521191d",
       "version_major": 2,
       "version_minor": 0
      },
      "text/plain": [
       "HBox(children=(Button(description='Soluble', style=ButtonStyle(button_color='Whitesmoke')), Button(description…"
      ]
     },
     "metadata": {},
     "output_type": "display_data"
    },
    {
     "data": {
      "application/vnd.jupyter.widget-view+json": {
       "model_id": "462841b7ba714035b48ba4c7e74f1e3c",
       "version_major": 2,
       "version_minor": 0
      },
      "text/plain": [
       "HBox(children=(Button(description='Soluble', style=ButtonStyle(button_color='Whitesmoke')), Button(description…"
      ]
     },
     "metadata": {},
     "output_type": "display_data"
    },
    {
     "data": {
      "application/vnd.jupyter.widget-view+json": {
       "model_id": "ad32ff16b58244c48c6afc70b1a16ee8",
       "version_major": 2,
       "version_minor": 0
      },
      "text/plain": [
       "HBox(children=(Button(description='Soluble', style=ButtonStyle(button_color='Whitesmoke')), Button(description…"
      ]
     },
     "metadata": {},
     "output_type": "display_data"
    },
    {
     "data": {
      "application/vnd.jupyter.widget-view+json": {
       "model_id": "b43530c71be44b8283c930c6e0a3d622",
       "version_major": 2,
       "version_minor": 0
      },
      "text/plain": [
       "HBox(children=(Button(description='Soluble', style=ButtonStyle(button_color='Whitesmoke')), Button(description…"
      ]
     },
     "metadata": {},
     "output_type": "display_data"
    },
    {
     "name": "stdout",
     "output_type": "stream",
     "text": [
      " \r"
     ]
    }
   ],
   "source": [
    "randomize_6 = random.randint(1, 2)\n",
    "if randomize_6 == 1:\n",
    "    option_1 = \"Pb(NO<sub>3</sub>)<sub>2</sub> + 2AgCl &rarr; PbCl<sub>2</sub> + <span style='color:red'>2AgNO<sub>3</sub></span>\"; bool_1 = True\n",
    "elif randomize_6 == 2:\n",
    "    option_1 = \"Pb(NO<sub>3</sub>)<sub>2</sub> + 2AgCl &rarr; <span style='color:red'>PbCl<sub>2</sub></span> + 2AgNO<sub>3</sub>\"; bool_1 = False\n",
    "\n",
    "randomize_6 = random.randint(1, 2)\n",
    "if randomize_6 == 1:\n",
    "    option_2 = \"Mg(NO<sub>3</sub>)<sub>2</sub> + 2NaOH &rarr; Mg(OH)<sub>2</sub> + <span style='color:red'>2NaNO<sub>3</sub></span>\"; bool_2 = True\n",
    "elif randomize_6 == 2:\n",
    "    option_2 = \"Mg(NO<sub>3</sub>)<sub>2</sub> + 2NaOH &rarr; <span style='color:red'>Mg(OH)<sub>2</sub></span> + 2NaNO<sub>3</sub>\"; bool_2 = False\n",
    "\n",
    "randomize_6 = random.randint(1, 2)\n",
    "if randomize_6 == 1:\n",
    "    option_3 = \"ZnSO<sub>4</sub> + BaCl<sub>2</sub> &rarr; <span style='color:red'>ZnCl<sub>2</sub></span> + BaSO<sub>4</sub>\"; bool_3 = True\n",
    "elif randomize_6 == 2:\n",
    "    option_3 = \"ZnSO<sub>4</sub> + BaCl<sub>2</sub> &rarr; ZnCl<sub>2</sub> + <span style='color:red'>BaSO<sub>4</sub></sub>\"; bool_3 = False\n",
    "\n",
    "randomize_6 = random.randint(1, 2)\n",
    "if randomize_6 == 1:\n",
    "    option_4 = \"CaCl<sub>2</sub> + Na<sub>2</sub>CO<sub>3</sub> &rarr; CaCO<sub>3</sub> + <span style='color:red'>2NaCl</span>\"; bool_4 = True\n",
    "elif randomize_6 == 2:\n",
    "    option_4 = \"CaCl<sub>2</sub> + Na<sub>2</sub>CO<sub>3</sub> &rarr; <span style='color:red'>CaCO<sub>3</sub></span> + 2NaCl\"; bool_4 = False\n",
    "   \n",
    "true_false(option_1, bool_1, option_2, bool_2, option_3, bool_3, option_4, bool_4, \"Soluble\", \"Precipitate\")"
   ]
  },
  {
   "cell_type": "markdown",
   "metadata": {},
   "source": [
    "## Conclusion"
   ]
  },
  {
   "cell_type": "markdown",
   "metadata": {},
   "source": [
    "* A **chemical reaction** is a process that involves the rearrangement of the atoms in the molecular or ionic structure of a substance or material.\n",
    "* One common classification scheme organizes chemical reactions into four types: *combination, decomposition, single replacement, and double replacement reactions*.\n",
    "* The **general form** for each reaction type is given as follows:\n",
    "  + **Combination reaction:** A + B &rarr; AB\n",
    "  + **Decomposition reaction:** AB &rarr; A + B\n",
    "  + **Single replacement reaction:** AB + X &rarr; XB + A\n",
    "  + **Double replacement reaction:** AB + XY &rarr; XB + AY\n",
    "* The reactivity series can be used to determine if a reaction will spontaneously occur.\n",
    "* A solubility chart can be used to determine whether or not a product will form a precipitate or remain in solution."
   ]
  },
  {
   "cell_type": "markdown",
   "metadata": {},
   "source": [
    "![alt text][bottom-banner]\n",
    "\n",
    "[bottom-banner]: ./Images/callysto_bottom_banner.jpg"
   ]
  }
 ],
 "metadata": {
  "kernelspec": {
   "display_name": "Python 3",
   "language": "python",
   "name": "python3"
  },
  "language_info": {
   "codemirror_mode": {
    "name": "ipython",
    "version": 3
   },
   "file_extension": ".py",
   "mimetype": "text/x-python",
   "name": "python",
   "nbconvert_exporter": "python",
   "pygments_lexer": "ipython3",
   "version": "3.7.3"
  },
  "latex_envs": {
   "LaTeX_envs_menu_present": true,
   "autoclose": false,
   "autocomplete": true,
   "bibliofile": "biblio.bib",
   "cite_by": "apalike",
   "current_citInitial": 1,
   "eqLabelWithNumbers": true,
   "eqNumInitial": 1,
   "hotkeys": {
    "equation": "Ctrl-E",
    "itemize": "Ctrl-I"
   },
   "labels_anchors": false,
   "latex_user_defs": false,
   "report_style_numbering": false,
   "user_envs_cfg": false
  },
  "nbTranslate": {
   "displayLangs": [
    "*"
   ],
   "hotkey": "alt-t",
   "langInMainMenu": true,
   "sourceLang": "en",
   "targetLang": "fr",
   "useGoogleTranslate": true
  }
 },
 "nbformat": 4,
 "nbformat_minor": 2
}

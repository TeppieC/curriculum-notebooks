{
 "cells": [
  {
   "cell_type": "code",
   "execution_count": 27,
   "metadata": {
    "scrolled": true
   },
   "outputs": [
    {
     "data": {
      "text/html": [
       "<img src=\"https://raw.githubusercontent.com/callysto/callysto-sample-notebooks/master/notebooks/images/Callysto_Notebook-Banner_Top_06.06.18.jpg\" onerror=\"this.src='Images/callysto_top_banner.jpg'\" alt=\"\" width=\"100%\"/>\n"
      ],
      "text/plain": [
       "<IPython.core.display.HTML object>"
      ]
     },
     "metadata": {},
     "output_type": "display_data"
    }
   ],
   "source": [
    "%%html\n",
    "<img src=\"https://raw.githubusercontent.com/callysto/callysto-sample-notebooks/master/notebooks/images/Callysto_Notebook-Banner_Top_06.06.18.jpg\" onerror=\"this.src='Images/callysto_top_banner.jpg'\" alt=\"\" width=\"100%\"/>"
   ]
  },
  {
   "cell_type": "markdown",
   "metadata": {},
   "source": [
    "(Click **Cell** > **Run All** before proceeding.) "
   ]
  },
  {
   "cell_type": "code",
   "execution_count": 28,
   "metadata": {},
   "outputs": [],
   "source": [
    "%matplotlib inline\n",
    "\n",
    "#----------\n",
    "\n",
    "#Import modules and packages \n",
    "import ipywidgets as widgets\n",
    "import random\n",
    "\n",
    "from ipywidgets import Output, IntSlider, VBox, HBox, Layout\n",
    "from IPython.display import clear_output, display, HTML\n",
    "\n",
    "#----------\n",
    "\n",
    "#import ipywidgets as widgets\n",
    "#import random\n",
    "\n",
    "#This function produces a multiple choice form with four options\n",
    "def multiple_choice(option_1, option_2, option_3, option_4):\n",
    "    option_list = [option_1, option_2, option_3, option_4]\n",
    "    answer = option_list[0]\n",
    "    letters = [\"<b>(A)</b> \", \"<b>(B)</b> \", \"<b>(C)</b> \", \"<b>(D)</b> \"]\n",
    "\n",
    "    #Randomly shuffle the options\n",
    "    random.shuffle(option_list)\n",
    "    \n",
    "    #Print the letters (A) to (D) in sequence with randomly chosen options\n",
    "    for i in range(4):\n",
    "        option_text = option_list.pop()\n",
    "        option_text_2 = letters[i] + option_text\n",
    "        option_output = widgets.HTMLMath(value=option_text_2)\n",
    "        display(option_output)\n",
    "                \n",
    "        #Stores the correct answer\n",
    "        if option_text == answer:\n",
    "            letter_answer = letters[i]\n",
    "\n",
    "    button1 = widgets.Button(description=\"(A)\"); button2 = widgets.Button(description=\"(B)\")\n",
    "    button3 = widgets.Button(description=\"(C)\"); button4 = widgets.Button(description=\"(D)\")\n",
    "    \n",
    "    button1.style.button_color = 'Whitesmoke'; button2.style.button_color = 'Whitesmoke'\n",
    "    button3.style.button_color = 'Whitesmoke'; button4.style.button_color = 'Whitesmoke'\n",
    "    \n",
    "    container = widgets.HBox(children=[button1,button2,button3,button4])\n",
    "    display(container)\n",
    "    print(\" \", end='\\r')\n",
    "\n",
    "    def on_button1_clicked(b):\n",
    "        if \"<b>(A)</b> \" == letter_answer:\n",
    "            print(\"Correct!    \", end='\\r')\n",
    "            button1.style.button_color = 'Moccasin'; button2.style.button_color = 'Whitesmoke'\n",
    "            button3.style.button_color = 'Whitesmoke'; button4.style.button_color = 'Whitesmoke'\n",
    "        else:\n",
    "            print(\"Try again.\", end='\\r')\n",
    "            button1.style.button_color = 'Lightgray'; button2.style.button_color = 'Whitesmoke'\n",
    "            button3.style.button_color = 'Whitesmoke'; button4.style.button_color = 'Whitesmoke'\n",
    "\n",
    "    def on_button2_clicked(b):\n",
    "        if \"<b>(B)</b> \" == letter_answer:\n",
    "            print(\"Correct!    \", end='\\r')\n",
    "            button1.style.button_color = 'Whitesmoke'; button2.style.button_color = 'Moccasin'\n",
    "            button3.style.button_color = 'Whitesmoke'; button4.style.button_color = 'Whitesmoke'\n",
    "        else:\n",
    "            print(\"Try again.\", end='\\r')\n",
    "            button1.style.button_color = 'Whitesmoke'; button2.style.button_color = 'Lightgray'\n",
    "            button3.style.button_color = 'Whitesmoke'; button4.style.button_color = 'Whitesmoke'\n",
    "\n",
    "    def on_button3_clicked(b):\n",
    "        if \"<b>(C)</b> \" == letter_answer:\n",
    "            print(\"Correct!    \", end='\\r')\n",
    "            button1.style.button_color = 'Whitesmoke'; button2.style.button_color = 'Whitesmoke'\n",
    "            button3.style.button_color = 'Moccasin'; button4.style.button_color = 'Whitesmoke'\n",
    "        else:\n",
    "            print(\"Try again.\", end='\\r')\n",
    "            button1.style.button_color = 'Whitesmoke'; button2.style.button_color = 'Whitesmoke'\n",
    "            button3.style.button_color = 'Lightgray'; button4.style.button_color = 'Whitesmoke'\n",
    "\n",
    "    def on_button4_clicked(b):\n",
    "        if \"<b>(D)</b> \" == letter_answer:\n",
    "            print(\"Correct!    \", end='\\r')\n",
    "            button1.style.button_color = 'Whitesmoke'; button2.style.button_color = 'Whitesmoke'\n",
    "            button3.style.button_color = 'Whitesmoke'; button4.style.button_color = 'Moccasin'\n",
    "        else:\n",
    "            print(\"Try again.\", end='\\r')\n",
    "            button1.style.button_color = 'Whitesmoke'; button2.style.button_color = 'Whitesmoke'\n",
    "            button3.style.button_color = 'Whitesmoke'; button4.style.button_color = 'Lightgray'\n",
    "\n",
    "    button1.on_click(on_button1_clicked); button2.on_click(on_button2_clicked)\n",
    "    button3.on_click(on_button3_clicked); button4.on_click(on_button4_clicked)\n",
    "\n",
    "#----------\n",
    "#This function produces a true or false choice form with four options\n",
    "def true_false(option_1, bool_1, option_2, bool_2, option_3, bool_3, option_4, bool_4, button_text_1, button_text_2):\n",
    " \n",
    "    #Convert string to HTMLMath so equations can be displayed\n",
    "    TF_question_1 = widgets.HTMLMath(value=option_1)\n",
    "    TF_question_2 = widgets.HTMLMath(value=option_2)\n",
    "    TF_question_3 = widgets.HTMLMath(value=option_3)\n",
    "    TF_question_4 = widgets.HTMLMath(value=option_4)\n",
    "    \n",
    "    #Create true and false bottons\n",
    "    button1_1 = widgets.Button(description=button_text_1); button1_2 = widgets.Button(description=button_text_2)\n",
    "    button2_1 = widgets.Button(description=button_text_1); button2_2 = widgets.Button(description=button_text_2)\n",
    "    button3_1 = widgets.Button(description=button_text_1); button3_2 = widgets.Button(description=button_text_2)\n",
    "    button4_1 = widgets.Button(description=button_text_1); button4_2 = widgets.Button(description=button_text_2)\n",
    "    \n",
    "    button1_1.style.button_color = 'Whitesmoke'; button1_2.style.button_color = 'Whitesmoke'\n",
    "    button2_1.style.button_color = 'Whitesmoke'; button2_2.style.button_color = 'Whitesmoke'\n",
    "    button3_1.style.button_color = 'Whitesmoke'; button3_2.style.button_color = 'Whitesmoke'\n",
    "    button4_1.style.button_color = 'Whitesmoke'; button4_2.style.button_color = 'Whitesmoke'\n",
    "\n",
    "    #Display buttons in front of each question \n",
    "    container1 = widgets.HBox(children=[button1_1,button1_2,TF_question_1])\n",
    "    container2 = widgets.HBox(children=[button2_1,button2_2,TF_question_2]) \n",
    "    container3 = widgets.HBox(children=[button3_1,button3_2,TF_question_3])\n",
    "    container4 = widgets.HBox(children=[button4_1,button4_2,TF_question_4])\n",
    "    \n",
    "    #Place true or false questions in an array so they can be shuffled\n",
    "    containers = [container1, container2, container3, container4]\n",
    "    random.shuffle(containers)\n",
    "    \n",
    "    #Reassign containers and display\n",
    "    container1 = containers[0]; container2 = containers[1]\n",
    "    container3 = containers[2]; container4 = containers[3]\n",
    "    display(container1, container2, container3, container4)\n",
    "    print(\" \", end='\\r')\n",
    "\n",
    "    def on_button1_1_clicked(b):\n",
    "        if bool_1 == True:\n",
    "            print(\"Correct!    \", end='\\r')\n",
    "            button1_1.style.button_color = 'Moccasin'; button1_2.style.button_color = 'Whitesmoke'\n",
    "        else:\n",
    "            print(\"Try again.\", end='\\r')\n",
    "            button1_1.style.button_color = 'Lightgray'; button1_2.style.button_color = 'Whitesmoke'\n",
    "\n",
    "    def on_button1_2_clicked(b):\n",
    "        if bool_1 == False:\n",
    "            print(\"Correct!    \", end='\\r')\n",
    "            button1_1.style.button_color = 'Whitesmoke'; button1_2.style.button_color = 'Moccasin'\n",
    "        else:\n",
    "            print(\"Try again.\", end='\\r')\n",
    "            button1_1.style.button_color = 'Whitesmoke'; button1_2.style.button_color = 'Lightgray'\n",
    "\n",
    "            \n",
    "    def on_button2_1_clicked(b):\n",
    "        if bool_2 == True:\n",
    "            print(\"Correct!    \", end='\\r')\n",
    "            button2_1.style.button_color = 'Moccasin'; button2_2.style.button_color = 'Whitesmoke'\n",
    "        else:\n",
    "            print(\"Try again.\", end='\\r')\n",
    "            button2_1.style.button_color = 'Lightgray'; button2_2.style.button_color = 'Whitesmoke'\n",
    "\n",
    "    def on_button2_2_clicked(b):\n",
    "        if bool_2 == False:\n",
    "            print(\"Correct!    \", end='\\r')\n",
    "            button2_1.style.button_color = 'Whitesmoke'; button2_2.style.button_color = 'Moccasin'\n",
    "        else:\n",
    "            print(\"Try again.\", end='\\r')\n",
    "            button2_1.style.button_color = 'Whitesmoke'; button2_2.style.button_color = 'Lightgray'        \n",
    "            \n",
    "    \n",
    "    def on_button3_1_clicked(b):\n",
    "        if bool_3 == True:\n",
    "            print(\"Correct!    \", end='\\r')\n",
    "            button3_1.style.button_color = 'Moccasin'; button3_2.style.button_color = 'Whitesmoke'\n",
    "        else:\n",
    "            print(\"Try again.\", end='\\r')\n",
    "            button3_1.style.button_color = 'Lightgray'; button3_2.style.button_color = 'Whitesmoke'\n",
    "\n",
    "    def on_button3_2_clicked(b):\n",
    "        if bool_3 == False:\n",
    "            print(\"Correct!    \", end='\\r')\n",
    "            button3_1.style.button_color = 'Whitesmoke'; button3_2.style.button_color = 'Moccasin'\n",
    "        else:\n",
    "            print(\"Try again.\", end='\\r')\n",
    "            button3_1.style.button_color = 'Whitesmoke'; button3_2.style.button_color = 'Lightgray'\n",
    "    \n",
    "    def on_button4_1_clicked(b):\n",
    "        if bool_4 == True:\n",
    "            print(\"Correct!    \", end='\\r')\n",
    "            button4_1.style.button_color = 'Moccasin'; button4_2.style.button_color = 'Whitesmoke'\n",
    "        else:\n",
    "            print(\"Try again.\", end='\\r')\n",
    "            button4_1.style.button_color = 'Lightgray'; button4_2.style.button_color = 'Whitesmoke'\n",
    "\n",
    "    def on_button4_2_clicked(b):\n",
    "        if bool_4 == False:\n",
    "            print(\"Correct!    \", end='\\r')\n",
    "            button4_1.style.button_color = 'Whitesmoke'; button4_2.style.button_color = 'Moccasin'\n",
    "        else:\n",
    "            print(\"Try again.\", end='\\r')\n",
    "            button4_1.style.button_color = 'Whitesmoke'; button4_2.style.button_color = 'Lightgray'\n",
    "    \n",
    "    button1_1.on_click(on_button1_1_clicked); button1_2.on_click(on_button1_2_clicked)\n",
    "    button2_1.on_click(on_button2_1_clicked); button2_2.on_click(on_button2_2_clicked)\n",
    "    button3_1.on_click(on_button3_1_clicked); button3_2.on_click(on_button3_2_clicked)\n",
    "    button4_1.on_click(on_button4_1_clicked); button4_2.on_click(on_button4_2_clicked)"
   ]
  },
  {
   "cell_type": "markdown",
   "metadata": {},
   "source": [
    "# Classifying Chemical Equations"
   ]
  },
  {
   "cell_type": "markdown",
   "metadata": {},
   "source": [
    "## Introduction\n",
    "\n",
    "A **chemical equation** is used to describe the  process that involves the rearrangement of the atoms in the molecular or ionic structure of a substance or material. All chemical reactions involve the formation or destruction of chemical bonds wherein reactants are transformed into products. Chemical reactions take place all around us and within us. Many of these chemical reactions share similar characteristics to one another, which allow them to be grouped and classified in a number of different ways. One common classification scheme organizes chemical reactions into four types: \n",
    "\n",
    "* <a href=\"#combination\">Combination reactions</a> \n",
    "* <a href=\"#decomposition\">Decomposition reactions</a> \n",
    "* <a href=\"#single\">Single replacement reactions</a>\n",
    "* <a href=\"#double\">Double replacement reactions</a>\n",
    "\n",
    "## <a id=\"combination\"> #1 Combination Reaction</a>\n",
    "\n",
    "A **combination reaction** (also called a *synthesis reaction*) describes the process in which two or more reactants combine to form a new singular product. The general form for a combination reaction is given below: \n",
    "\n",
    "<img src=\"Images/combination_reaction.svg\" width=\"55%\"/>\n",
    "\n",
    "The reactant side may contain two or more elements or compounds, but the product side will always contain only one compound. This is the key characteristic of a combination reaction. Combination reactions may include reactions between two or more elements:\n",
    "\n",
    "2H<sub>2</sub> + O<sub>2</sub> &rarr; 2H<sub>2</sub>O\n",
    "\n",
    "Between elements and compounds:\n",
    "\n",
    "O<sub>2</sub> + 2CO &rarr; 2CO<sub>2</sub>\n",
    "\n",
    "Or between compounds:\n",
    "\n",
    "CaO + CO<sub>2</sub> &rarr; CaCO<sub>3</sub>\n",
    "\n",
    "The new bonds formed in the product are often lower in energy than the bonds in the reactants. When this occurs, energy is released, often in the form of heat. As a consequence, combination reactions are usually exothermic."
   ]
  },
  {
   "cell_type": "markdown",
   "metadata": {},
   "source": [
    "## Practice Problems"
   ]
  },
  {
   "cell_type": "markdown",
   "metadata": {},
   "source": [
    "**Question:** *Select 'True' or 'False' for each of the follow statements.* "
   ]
  },
  {
   "cell_type": "code",
   "execution_count": 29,
   "metadata": {
    "scrolled": true
   },
   "outputs": [
    {
     "data": {
      "application/vnd.jupyter.widget-view+json": {
       "model_id": "6af02d02c88f40ba8093c3ec49107e9b",
       "version_major": 2,
       "version_minor": 0
      },
      "text/plain": [
       "HBox(children=(Button(description='True', style=ButtonStyle(button_color='Whitesmoke')), Button(description='F…"
      ]
     },
     "metadata": {},
     "output_type": "display_data"
    },
    {
     "data": {
      "application/vnd.jupyter.widget-view+json": {
       "model_id": "204c751d90264a0696331ea3eacbdbfd",
       "version_major": 2,
       "version_minor": 0
      },
      "text/plain": [
       "HBox(children=(Button(description='True', style=ButtonStyle(button_color='Whitesmoke')), Button(description='F…"
      ]
     },
     "metadata": {},
     "output_type": "display_data"
    },
    {
     "data": {
      "application/vnd.jupyter.widget-view+json": {
       "model_id": "0fb5a415fd8e44329e609c5cc3a50a12",
       "version_major": 2,
       "version_minor": 0
      },
      "text/plain": [
       "HBox(children=(Button(description='True', style=ButtonStyle(button_color='Whitesmoke')), Button(description='F…"
      ]
     },
     "metadata": {},
     "output_type": "display_data"
    },
    {
     "data": {
      "application/vnd.jupyter.widget-view+json": {
       "model_id": "476ba14798da4b5d95b758dc1a3e1e61",
       "version_major": 2,
       "version_minor": 0
      },
      "text/plain": [
       "HBox(children=(Button(description='True', style=ButtonStyle(button_color='Whitesmoke')), Button(description='F…"
      ]
     },
     "metadata": {},
     "output_type": "display_data"
    },
    {
     "name": "stdout",
     "output_type": "stream",
     "text": [
      " \r"
     ]
    }
   ],
   "source": [
    "randomize_1 = random.randint(1, 2)\n",
    "if randomize_1 == 1:\n",
    "    option_1 = \"Combination reactions are often exothermic.\"; bool_1 = True\n",
    "elif randomize_1 == 2:\n",
    "    option_1 = \"Combination reactions are often endothermic.\"; bool_1 = False\n",
    "\n",
    "randomize_1 = random.randint(1, 4)\n",
    "if randomize_1 == 1:\n",
    "    option_2 = \"Combination reactions always have two or more reactants, but only one product.\"; bool_2 = True\n",
    "elif randomize_1 == 2:\n",
    "    option_2 = \"Combination reactions always have two or more reactants, but only one product.\"; bool_2 = True    \n",
    "elif randomize_1 == 3:\n",
    "    option_2 = \"Combination reactions always have two or more reactants, and two or more products.\"; bool_2 = False\n",
    "elif randomize_1 == 4:\n",
    "    option_2 = \"Combination reactions always have one reactant, and one product.\"; bool_2 = False\n",
    "\n",
    "randomize_1 = random.randint(1, 6)\n",
    "if randomize_1 == 1:\n",
    "    option_3 = \"The general form of a combination reaction is: A + B &rarr; AB.\"; bool_3 = True\n",
    "elif randomize_1 == 2:\n",
    "    option_3 = \"The general form of a combination reaction is: A + B &rarr; AB.\"; bool_3 = True\n",
    "elif randomize_1 == 3:\n",
    "    option_3 = \"The general form of a combination reaction is: A + B &rarr; AB.\"; bool_3 = True\n",
    "elif randomize_1 == 4:\n",
    "    option_3 = \"The general form of a combination reaction is: AB &rarr; A + B.\"; bool_3 = False\n",
    "elif randomize_1 == 5:\n",
    "    option_3 = \"The general form of a combination reaction is: AB + X &rarr; XB + A.\"; bool_3 = False\n",
    "elif randomize_1 == 6:\n",
    "    option_3 = \"The general form of a combination reaction is: AB + XY &rarr; XB + AY.\"; bool_3 = False\n",
    "\n",
    "randomize_1 = random.randint(1, 2)\n",
    "if randomize_1 == 1:\n",
    "    option_4 = \"The product generated from a combination reaction is always a compound.\"; bool_4 = True\n",
    "elif randomize_1 == 2:\n",
    "    option_4 = \"The product generated from a combination reaction is always an element.\"; bool_4 = False    \n",
    "\n",
    "true_false(option_1, bool_1, option_2, bool_2, option_3, bool_3, option_4, bool_4, \"True\", \"False\")"
   ]
  },
  {
   "cell_type": "markdown",
   "metadata": {},
   "source": [
    "**Question:** *Which of the follow chemical reactions is a combination reaction?* "
   ]
  },
  {
   "cell_type": "code",
   "execution_count": 30,
   "metadata": {
    "scrolled": false
   },
   "outputs": [
    {
     "data": {
      "application/vnd.jupyter.widget-view+json": {
       "model_id": "08095391937243678375f841a7ccf2f3",
       "version_major": 2,
       "version_minor": 0
      },
      "text/plain": [
       "HTMLMath(value='<b>(A)</b> NaCl + AgNO<sub>3</sub> &rarr; AgCl + NaNO<sub>3</sub>')"
      ]
     },
     "metadata": {},
     "output_type": "display_data"
    },
    {
     "data": {
      "application/vnd.jupyter.widget-view+json": {
       "model_id": "81a45684fc36487995f02c722c7ca8d6",
       "version_major": 2,
       "version_minor": 0
      },
      "text/plain": [
       "HTMLMath(value='<b>(B)</b> Ba + F<sub>2</sub> &rarr; BaF<sub>2</sub>')"
      ]
     },
     "metadata": {},
     "output_type": "display_data"
    },
    {
     "data": {
      "application/vnd.jupyter.widget-view+json": {
       "model_id": "f5fc0f85257e438db14a198de1f372d7",
       "version_major": 2,
       "version_minor": 0
      },
      "text/plain": [
       "HTMLMath(value='<b>(C)</b> 2NaCl + F<sub>2</sub> &rarr; 2NaF + Cl<sub>2</sub>')"
      ]
     },
     "metadata": {},
     "output_type": "display_data"
    },
    {
     "data": {
      "application/vnd.jupyter.widget-view+json": {
       "model_id": "fff5cb0e3e284a6396c70ed8e3c6a54f",
       "version_major": 2,
       "version_minor": 0
      },
      "text/plain": [
       "HTMLMath(value='<b>(D)</b> CH<sub>4</sub> + 2O<sub>2</sub> &rarr; CO<sub>2</sub> + 2H<sub>2</sub>O')"
      ]
     },
     "metadata": {},
     "output_type": "display_data"
    },
    {
     "data": {
      "application/vnd.jupyter.widget-view+json": {
       "model_id": "2972200e8f79498c8aa0d705a1dbde7d",
       "version_major": 2,
       "version_minor": 0
      },
      "text/plain": [
       "HBox(children=(Button(description='(A)', style=ButtonStyle(button_color='Whitesmoke')), Button(description='(B…"
      ]
     },
     "metadata": {},
     "output_type": "display_data"
    },
    {
     "name": "stdout",
     "output_type": "stream",
     "text": [
      " \r"
     ]
    }
   ],
   "source": [
    "#import ipywidgets as widgets\n",
    "#import random\n",
    "#from IPython.display import clear_output, display, HTML\n",
    "\n",
    "option_1 = \"Ba + F<sub>2</sub> &rarr; BaF<sub>2</sub>\" \n",
    "option_2 = \"NaCl + AgNO<sub>3</sub> &rarr; AgCl + NaNO<sub>3</sub>\"\n",
    "option_3 = \"CH<sub>4</sub> + 2O<sub>2</sub> &rarr; CO<sub>2</sub> + 2H<sub>2</sub>O\"\n",
    "option_4 = \"2NaCl + F<sub>2</sub> &rarr; 2NaF + Cl<sub>2</sub>\"\n",
    "\n",
    "multiple_choice(option_1, option_2, option_3, option_4)"
   ]
  },
  {
   "cell_type": "code",
   "execution_count": 31,
   "metadata": {},
   "outputs": [
    {
     "data": {
      "application/vnd.jupyter.widget-view+json": {
       "model_id": "637aa03c54f84a20826b744e9c47642a",
       "version_major": 2,
       "version_minor": 0
      },
      "text/plain": [
       "HTMLMath(value='<b>(A)</b> 2HBr + Cl<sub>2</sub> &rarr; 2HCl + Br<sub>2</sub>')"
      ]
     },
     "metadata": {},
     "output_type": "display_data"
    },
    {
     "data": {
      "application/vnd.jupyter.widget-view+json": {
       "model_id": "23bdf5b3f7bf488ea6a5a761a08dd429",
       "version_major": 2,
       "version_minor": 0
      },
      "text/plain": [
       "HTMLMath(value='<b>(B)</b> Zn + 2HCl &rarr; ZnCl<sub>2</sub> + H<sub>2</sub>')"
      ]
     },
     "metadata": {},
     "output_type": "display_data"
    },
    {
     "data": {
      "application/vnd.jupyter.widget-view+json": {
       "model_id": "f74c9579caba449c9c90cc1a173f153f",
       "version_major": 2,
       "version_minor": 0
      },
      "text/plain": [
       "HTMLMath(value='<b>(C)</b> Fe + S &rarr; FeS')"
      ]
     },
     "metadata": {},
     "output_type": "display_data"
    },
    {
     "data": {
      "application/vnd.jupyter.widget-view+json": {
       "model_id": "ae75314f95f246649e7a89a80a2b4471",
       "version_major": 2,
       "version_minor": 0
      },
      "text/plain": [
       "HTMLMath(value='<b>(D)</b> C<sub>2</sub>H<sub>5</sub>OH + 3O<sub>2</sub> &rarr; 2CO<sub>2</sub> + 3H<sub>2</su…"
      ]
     },
     "metadata": {},
     "output_type": "display_data"
    },
    {
     "data": {
      "application/vnd.jupyter.widget-view+json": {
       "model_id": "7d0829b66799431a82b9d85facfec195",
       "version_major": 2,
       "version_minor": 0
      },
      "text/plain": [
       "HBox(children=(Button(description='(A)', style=ButtonStyle(button_color='Whitesmoke')), Button(description='(B…"
      ]
     },
     "metadata": {},
     "output_type": "display_data"
    },
    {
     "name": "stdout",
     "output_type": "stream",
     "text": [
      " \r"
     ]
    }
   ],
   "source": [
    "#import ipywidgets as widgets\n",
    "#import random\n",
    "#from IPython.display import clear_output, display, HTML\n",
    "\n",
    "option_1 = \"Fe + S &rarr; FeS\" \n",
    "option_2 = \"2HBr + Cl<sub>2</sub> &rarr; 2HCl + Br<sub>2</sub>\"\n",
    "option_3 = \"C<sub>2</sub>H<sub>5</sub>OH + 3O<sub>2</sub> &rarr; 2CO<sub>2</sub> + 3H<sub>2</sub>O\"\n",
    "option_4 = \"Zn + 2HCl &rarr; ZnCl<sub>2</sub> + H<sub>2</sub>\"\n",
    "\n",
    "multiple_choice(option_1, option_2, option_3, option_4)"
   ]
  },
  {
   "cell_type": "code",
   "execution_count": 32,
   "metadata": {},
   "outputs": [
    {
     "data": {
      "application/vnd.jupyter.widget-view+json": {
       "model_id": "7e34caba11c3494abead2bd64b64ed44",
       "version_major": 2,
       "version_minor": 0
      },
      "text/plain": [
       "HTMLMath(value='<b>(A)</b> NaNO<sub>3</sub> + KCl &rarr; KNO<sub>3</sub> + NaCl')"
      ]
     },
     "metadata": {},
     "output_type": "display_data"
    },
    {
     "data": {
      "application/vnd.jupyter.widget-view+json": {
       "model_id": "8bab59c870fc492094351fe8ac0e2f56",
       "version_major": 2,
       "version_minor": 0
      },
      "text/plain": [
       "HTMLMath(value='<b>(B)</b> Na<sub>2</sub>CO<sub>3</sub> &rarr; Na<sub>2</sub>O + CO<sub>2</sub>')"
      ]
     },
     "metadata": {},
     "output_type": "display_data"
    },
    {
     "data": {
      "application/vnd.jupyter.widget-view+json": {
       "model_id": "2756fad50608474eb1fd968655dd8a3d",
       "version_major": 2,
       "version_minor": 0
      },
      "text/plain": [
       "HTMLMath(value='<b>(C)</b> 4NH<sub>3</sub> + 3O<sub>2</sub> &rarr; 2N<sub>2</sub> + 6H<sub>2</sub>O')"
      ]
     },
     "metadata": {},
     "output_type": "display_data"
    },
    {
     "data": {
      "application/vnd.jupyter.widget-view+json": {
       "model_id": "11ba87b0b47c4381b2d1fbb762508379",
       "version_major": 2,
       "version_minor": 0
      },
      "text/plain": [
       "HTMLMath(value='<b>(D)</b> MgO + CO<sub>2</sub> &rarr; MgCO<sub>3</sub>')"
      ]
     },
     "metadata": {},
     "output_type": "display_data"
    },
    {
     "data": {
      "application/vnd.jupyter.widget-view+json": {
       "model_id": "2bce579240f744c7955f2e673294d7cb",
       "version_major": 2,
       "version_minor": 0
      },
      "text/plain": [
       "HBox(children=(Button(description='(A)', style=ButtonStyle(button_color='Whitesmoke')), Button(description='(B…"
      ]
     },
     "metadata": {},
     "output_type": "display_data"
    },
    {
     "name": "stdout",
     "output_type": "stream",
     "text": [
      " \r"
     ]
    }
   ],
   "source": [
    "#import ipywidgets as widgets\n",
    "#import random\n",
    "#from IPython.display import clear_output, display, HTML\n",
    "\n",
    "option_1 = \"MgO + CO<sub>2</sub> &rarr; MgCO<sub>3</sub>\" \n",
    "option_2 = \"Na<sub>2</sub>CO<sub>3</sub> &rarr; Na<sub>2</sub>O + CO<sub>2</sub>\"\n",
    "option_3 = \"4NH<sub>3</sub> + 3O<sub>2</sub> &rarr; 2N<sub>2</sub> + 6H<sub>2</sub>O\"\n",
    "option_4 = \"NaNO<sub>3</sub> + KCl &rarr; KNO<sub>3</sub> + NaCl\"\n",
    "\n",
    "multiple_choice(option_1, option_2, option_3, option_4)"
   ]
  },
  {
   "cell_type": "code",
   "execution_count": 33,
   "metadata": {},
   "outputs": [
    {
     "data": {
      "application/vnd.jupyter.widget-view+json": {
       "model_id": "325a8fcc801e457fa4a9fb590be1ee94",
       "version_major": 2,
       "version_minor": 0
      },
      "text/plain": [
       "HTMLMath(value='<b>(A)</b> C<sub>3</sub>H<sub>8</sub> + 5O<sub>2</sub> &rarr; 3CO<sub>2</sub> + 4H<sub>2</sub>…"
      ]
     },
     "metadata": {},
     "output_type": "display_data"
    },
    {
     "data": {
      "application/vnd.jupyter.widget-view+json": {
       "model_id": "ca63a0da1c4b49e792e6051fb07366e9",
       "version_major": 2,
       "version_minor": 0
      },
      "text/plain": [
       "HTMLMath(value='<b>(B)</b> KBr + AgNO<sub>3</sub> &rarr; KNO<sub>3</sub> + AgBr')"
      ]
     },
     "metadata": {},
     "output_type": "display_data"
    },
    {
     "data": {
      "application/vnd.jupyter.widget-view+json": {
       "model_id": "a5c99bb22e0f40fd8158c13040589708",
       "version_major": 2,
       "version_minor": 0
      },
      "text/plain": [
       "HTMLMath(value='<b>(C)</b> 2S + 3O<sub>2</sub> &rarr; 2SO<sub>3</sub>')"
      ]
     },
     "metadata": {},
     "output_type": "display_data"
    },
    {
     "data": {
      "application/vnd.jupyter.widget-view+json": {
       "model_id": "5fa2e0b0e9124b518c11b80c90d87cbb",
       "version_major": 2,
       "version_minor": 0
      },
      "text/plain": [
       "HTMLMath(value='<b>(D)</b> CaCO<sub>3</sub> &rarr; CaO + CO<sub>2</sub>')"
      ]
     },
     "metadata": {},
     "output_type": "display_data"
    },
    {
     "data": {
      "application/vnd.jupyter.widget-view+json": {
       "model_id": "6ef7451c26b7441a95badb100609223b",
       "version_major": 2,
       "version_minor": 0
      },
      "text/plain": [
       "HBox(children=(Button(description='(A)', style=ButtonStyle(button_color='Whitesmoke')), Button(description='(B…"
      ]
     },
     "metadata": {},
     "output_type": "display_data"
    },
    {
     "name": "stdout",
     "output_type": "stream",
     "text": [
      " \r"
     ]
    }
   ],
   "source": [
    "#import ipywidgets as widgets\n",
    "#import random\n",
    "#from IPython.display import clear_output, display, HTML\n",
    "\n",
    "option_1 = \"2S + 3O<sub>2</sub> &rarr; 2SO<sub>3</sub>\" \n",
    "option_2 = \"CaCO<sub>3</sub> &rarr; CaO + CO<sub>2</sub>\"\n",
    "option_3 = \"C<sub>3</sub>H<sub>8</sub> + 5O<sub>2</sub> &rarr; 3CO<sub>2</sub> + 4H<sub>2</sub>O\"\n",
    "option_4 = \"KBr + AgNO<sub>3</sub> &rarr; KNO<sub>3</sub> + AgBr\"\n",
    "\n",
    "multiple_choice(option_1, option_2, option_3, option_4)"
   ]
  },
  {
   "cell_type": "markdown",
   "metadata": {},
   "source": [
    "## <a id=\"decomposition\"> #2 Decomposition Reaction</a>\n",
    "\n",
    "A **decomposition reaction** describes the process in which a single reactant breaks down to form two or more products. The general form for a decomposition reaction is given below:\n",
    "\n",
    "<img src=\"Images/decomposition_reaction.svg\" width=\"55%\"/>\n",
    "\n",
    "The reactant side will always contain a compound, but the product side may contain two or more elements or compounds. This is the key characteristic of a decomposition reaction. For example, the products may include two or more elements:\n",
    "\n",
    "2H<sub>2</sub>O &rarr; 2H<sub>2</sub> + O<sub>2</sub>\n",
    "\n",
    "Elements and compounds:\n",
    "\n",
    "2KClO<sub>3</sub> &rarr; 3O<sub>2</sub> + 2KCl\n",
    "\n",
    "Or two or more compounds:\n",
    "\n",
    "NH<sub>4</sub>Cl &rarr; NH<sub>3</sub> + HCl\n",
    "\n",
    "The new bonds formed in the products are often higher in energy than the bonds in the reactant. When this occurs, some energy, usually in the form of heat, is needed. As a consequence, decomposition reactions are usually endothermic."
   ]
  },
  {
   "cell_type": "markdown",
   "metadata": {},
   "source": [
    "## Practice Problems"
   ]
  },
  {
   "cell_type": "markdown",
   "metadata": {},
   "source": [
    "**Question:** *Select 'True' or 'False' for each of the follow statements.* "
   ]
  },
  {
   "cell_type": "code",
   "execution_count": 34,
   "metadata": {},
   "outputs": [
    {
     "data": {
      "application/vnd.jupyter.widget-view+json": {
       "model_id": "d912236738814e4e93c664cf5cab92d9",
       "version_major": 2,
       "version_minor": 0
      },
      "text/plain": [
       "HBox(children=(Button(description='True', style=ButtonStyle(button_color='Whitesmoke')), Button(description='F…"
      ]
     },
     "metadata": {},
     "output_type": "display_data"
    },
    {
     "data": {
      "application/vnd.jupyter.widget-view+json": {
       "model_id": "2ffa8bcec34e42d29a8f5f8506e29b46",
       "version_major": 2,
       "version_minor": 0
      },
      "text/plain": [
       "HBox(children=(Button(description='True', style=ButtonStyle(button_color='Whitesmoke')), Button(description='F…"
      ]
     },
     "metadata": {},
     "output_type": "display_data"
    },
    {
     "data": {
      "application/vnd.jupyter.widget-view+json": {
       "model_id": "5efc0f93152042d48e1392ed39663311",
       "version_major": 2,
       "version_minor": 0
      },
      "text/plain": [
       "HBox(children=(Button(description='True', style=ButtonStyle(button_color='Whitesmoke')), Button(description='F…"
      ]
     },
     "metadata": {},
     "output_type": "display_data"
    },
    {
     "data": {
      "application/vnd.jupyter.widget-view+json": {
       "model_id": "825b7880286e4585bce0528a37ffc579",
       "version_major": 2,
       "version_minor": 0
      },
      "text/plain": [
       "HBox(children=(Button(description='True', style=ButtonStyle(button_color='Whitesmoke')), Button(description='F…"
      ]
     },
     "metadata": {},
     "output_type": "display_data"
    },
    {
     "name": "stdout",
     "output_type": "stream",
     "text": [
      " \r"
     ]
    }
   ],
   "source": [
    "randomize_2 = random.randint(1, 2)\n",
    "if randomize_2 == 1:\n",
    "    option_1 = \"Decomposition reactions are often endothermic.\"; bool_1 = True\n",
    "elif randomize_2 == 2:\n",
    "    option_1 = \"Decomposition reactions are often exothermic.\"; bool_1 = False\n",
    "\n",
    "randomize_2 = random.randint(1, 4)\n",
    "if randomize_2 == 1:\n",
    "    option_2 = \"Decomposition reactions always have one reactant, but two or more products.\"; bool_2 = True\n",
    "elif randomize_2 == 2:    \n",
    "    option_2 = \"Decomposition reactions always have one reactant, but two or more products.\"; bool_2 = True\n",
    "elif randomize_2 == 3:\n",
    "    option_2 = \"Decomposition reactions always have two or more reactants, and two or more products.\"; bool_2 = False\n",
    "elif randomize_2 == 4:\n",
    "    option_2 = \"Decomposition reactions always have one reactant, and one product.\"; bool_2 = False\n",
    "\n",
    "randomize_2 = random.randint(1, 6)\n",
    "if randomize_2 == 1:\n",
    "    option_3 = \"The general form of a decomposition reaction is: AB &rarr; A + B.\"; bool_3 = True\n",
    "elif randomize_2 == 2:\n",
    "    option_3 = \"The general form of a decomposition reaction is: AB &rarr; A + B.\"; bool_3 = True\n",
    "elif randomize_2 == 3:\n",
    "    option_3 = \"The general form of a decomposition reaction is: AB &rarr; A + B.\"; bool_3 = True\n",
    "elif randomize_2 == 4:\n",
    "    option_3 = \"The general form of a decomposition reaction is: A + B &rarr; AB.\"; bool_3 = False\n",
    "elif randomize_2 == 5:\n",
    "    option_3 = \"The general form of a decomposition reaction is: AB + X &rarr; XB + A.\"; bool_3 = False\n",
    "elif randomize_2 == 6:\n",
    "    option_3 = \"The general form of a decomposition reaction is: AB + XY &rarr; XB + AY.\"; bool_3 = False\n",
    "\n",
    "randomize_2 = random.randint(1, 2)\n",
    "if randomize_2 == 1:\n",
    "    option_4 = \"The reactant in a decomposition reaction is always a compound.\"; bool_4 = True\n",
    "elif randomize_2 == 2:\n",
    "    option_4 = \"The reactant in a decomposition reaction is always an element.\"; bool_4 = False    \n",
    "\n",
    "true_false(option_1, bool_1, option_2, bool_2, option_3, bool_3, option_4, bool_4, \"True\", \"False\")"
   ]
  },
  {
   "cell_type": "markdown",
   "metadata": {},
   "source": [
    "**Question:** *Which of the follow chemical reactions is a decomposition reaction?* "
   ]
  },
  {
   "cell_type": "code",
   "execution_count": 35,
   "metadata": {},
   "outputs": [
    {
     "data": {
      "application/vnd.jupyter.widget-view+json": {
       "model_id": "4f31881cb33c4c859ad96221df641799",
       "version_major": 2,
       "version_minor": 0
      },
      "text/plain": [
       "HTMLMath(value='<b>(A)</b> Ba + F<sub>2</sub> &rarr; BaF<sub>2</sub>')"
      ]
     },
     "metadata": {},
     "output_type": "display_data"
    },
    {
     "data": {
      "application/vnd.jupyter.widget-view+json": {
       "model_id": "3a65c48351c64b398556c706a486a7fd",
       "version_major": 2,
       "version_minor": 0
      },
      "text/plain": [
       "HTMLMath(value='<b>(B)</b> 2Ni<sub>2</sub>O<sub>3</sub> &rarr; 4Ni + 3O<sub>2</sub>')"
      ]
     },
     "metadata": {},
     "output_type": "display_data"
    },
    {
     "data": {
      "application/vnd.jupyter.widget-view+json": {
       "model_id": "2c0ea112ade949c29f87c1f79e7115da",
       "version_major": 2,
       "version_minor": 0
      },
      "text/plain": [
       "HTMLMath(value='<b>(C)</b> Na<sub>2</sub>S + 2HCl &rarr; 2NaCl + H<sub>2</sub>S')"
      ]
     },
     "metadata": {},
     "output_type": "display_data"
    },
    {
     "data": {
      "application/vnd.jupyter.widget-view+json": {
       "model_id": "c7554496e2ce45219dfa5ce4e4a81c13",
       "version_major": 2,
       "version_minor": 0
      },
      "text/plain": [
       "HTMLMath(value='<b>(D)</b> SeCl<sub>6</sub> + O<sub>2</sub> &rarr; SeO<sub>2</sub> + 3Cl<sub>2</sub>')"
      ]
     },
     "metadata": {},
     "output_type": "display_data"
    },
    {
     "data": {
      "application/vnd.jupyter.widget-view+json": {
       "model_id": "6575e701f11a49e4a654bfd0f43c2cdc",
       "version_major": 2,
       "version_minor": 0
      },
      "text/plain": [
       "HBox(children=(Button(description='(A)', style=ButtonStyle(button_color='Whitesmoke')), Button(description='(B…"
      ]
     },
     "metadata": {},
     "output_type": "display_data"
    },
    {
     "name": "stdout",
     "output_type": "stream",
     "text": [
      " \r"
     ]
    }
   ],
   "source": [
    "#import ipywidgets as widgets\n",
    "#import random\n",
    "#from IPython.display import clear_output, display, HTML\n",
    "\n",
    "option_1 = \"2Ni<sub>2</sub>O<sub>3</sub> &rarr; 4Ni + 3O<sub>2</sub>\" \n",
    "option_2 = \"Na<sub>2</sub>S + 2HCl &rarr; 2NaCl + H<sub>2</sub>S\"\n",
    "option_3 = \"SeCl<sub>6</sub> + O<sub>2</sub> &rarr; SeO<sub>2</sub> + 3Cl<sub>2</sub>\"\n",
    "option_4 = \"Ba + F<sub>2</sub> &rarr; BaF<sub>2</sub>\"\n",
    "\n",
    "multiple_choice(option_1, option_2, option_3, option_4)"
   ]
  },
  {
   "cell_type": "code",
   "execution_count": 36,
   "metadata": {},
   "outputs": [
    {
     "data": {
      "application/vnd.jupyter.widget-view+json": {
       "model_id": "11ae0aff383645dd82a0f2bad775e87b",
       "version_major": 2,
       "version_minor": 0
      },
      "text/plain": [
       "HTMLMath(value='<b>(A)</b> 2NaOH + CaBr<sub>2</sub> &rarr; 2NaBr + Ca(OH)<sub>2</sub>')"
      ]
     },
     "metadata": {},
     "output_type": "display_data"
    },
    {
     "data": {
      "application/vnd.jupyter.widget-view+json": {
       "model_id": "e86d90ec7d7f47c4ad881fec9de8261b",
       "version_major": 2,
       "version_minor": 0
      },
      "text/plain": [
       "HTMLMath(value='<b>(B)</b> Fe + S &rarr; FeS')"
      ]
     },
     "metadata": {},
     "output_type": "display_data"
    },
    {
     "data": {
      "application/vnd.jupyter.widget-view+json": {
       "model_id": "6175236edf4140b09a572089ac6d349f",
       "version_major": 2,
       "version_minor": 0
      },
      "text/plain": [
       "HTMLMath(value='<b>(C)</b> Zn + 2HCl &rarr; H<sub>2</sub> + ZnCl<sub>2</sub>')"
      ]
     },
     "metadata": {},
     "output_type": "display_data"
    },
    {
     "data": {
      "application/vnd.jupyter.widget-view+json": {
       "model_id": "cc5cd7111e194516a1123e32d11ec449",
       "version_major": 2,
       "version_minor": 0
      },
      "text/plain": [
       "HTMLMath(value='<b>(D)</b> Al<sub>2</sub>O<sub>3</sub> &rarr; Al + O<sub>2</sub>')"
      ]
     },
     "metadata": {},
     "output_type": "display_data"
    },
    {
     "data": {
      "application/vnd.jupyter.widget-view+json": {
       "model_id": "0024fcb83de24d9d9b932ddaaff2a478",
       "version_major": 2,
       "version_minor": 0
      },
      "text/plain": [
       "HBox(children=(Button(description='(A)', style=ButtonStyle(button_color='Whitesmoke')), Button(description='(B…"
      ]
     },
     "metadata": {},
     "output_type": "display_data"
    },
    {
     "name": "stdout",
     "output_type": "stream",
     "text": [
      " \r"
     ]
    }
   ],
   "source": [
    "#import ipywidgets as widgets\n",
    "#import random\n",
    "#from IPython.display import clear_output, display, HTML\n",
    "\n",
    "option_1 = \"Al<sub>2</sub>O<sub>3</sub> &rarr; Al + O<sub>2</sub>\" \n",
    "option_2 = \"2NaOH + CaBr<sub>2</sub> &rarr; 2NaBr + Ca(OH)<sub>2</sub>\"\n",
    "option_3 = \"Fe + S &rarr; FeS\"\n",
    "option_4 = \"Zn + 2HCl &rarr; H<sub>2</sub> + ZnCl<sub>2</sub>\"\n",
    "\n",
    "multiple_choice(option_1, option_2, option_3, option_4)"
   ]
  },
  {
   "cell_type": "code",
   "execution_count": 37,
   "metadata": {},
   "outputs": [
    {
     "data": {
      "application/vnd.jupyter.widget-view+json": {
       "model_id": "d057441557454913b48161bb872f1505",
       "version_major": 2,
       "version_minor": 0
      },
      "text/plain": [
       "HTMLMath(value='<b>(A)</b> 2NaCl + F<sub>2</sub> &rarr; 2NaF + Cl<sub>2</sub>')"
      ]
     },
     "metadata": {},
     "output_type": "display_data"
    },
    {
     "data": {
      "application/vnd.jupyter.widget-view+json": {
       "model_id": "a153b955cef04c2c961be69e79bc39d7",
       "version_major": 2,
       "version_minor": 0
      },
      "text/plain": [
       "HTMLMath(value='<b>(B)</b> 2NaClO<sub>3</sub> &rarr; 2NaCl + 3O<sub>2</sub>')"
      ]
     },
     "metadata": {},
     "output_type": "display_data"
    },
    {
     "data": {
      "application/vnd.jupyter.widget-view+json": {
       "model_id": "4b9f9a13ad724a04af54817d64b57fbc",
       "version_major": 2,
       "version_minor": 0
      },
      "text/plain": [
       "HTMLMath(value='<b>(C)</b> MgO + CO<sub>2</sub> &rarr; MgCO<sub>3</sub>')"
      ]
     },
     "metadata": {},
     "output_type": "display_data"
    },
    {
     "data": {
      "application/vnd.jupyter.widget-view+json": {
       "model_id": "279dec7d4c56431d90079f10f653f7f2",
       "version_major": 2,
       "version_minor": 0
      },
      "text/plain": [
       "HTMLMath(value='<b>(D)</b> CH<sub>4</sub> + 2O<sub>2</sub> &rarr; CO<sub>2</sub> + 2H<sub>2</sub>O')"
      ]
     },
     "metadata": {},
     "output_type": "display_data"
    },
    {
     "data": {
      "application/vnd.jupyter.widget-view+json": {
       "model_id": "1625536bc41e495fa9ff3580e66ff507",
       "version_major": 2,
       "version_minor": 0
      },
      "text/plain": [
       "HBox(children=(Button(description='(A)', style=ButtonStyle(button_color='Whitesmoke')), Button(description='(B…"
      ]
     },
     "metadata": {},
     "output_type": "display_data"
    },
    {
     "name": "stdout",
     "output_type": "stream",
     "text": [
      " \r"
     ]
    }
   ],
   "source": [
    "#import ipywidgets as widgets\n",
    "#import random\n",
    "#from IPython.display import clear_output, display, HTML\n",
    "\n",
    "option_1 = \"2NaClO<sub>3</sub> &rarr; 2NaCl + 3O<sub>2</sub>\" \n",
    "option_2 = \"MgO + CO<sub>2</sub> &rarr; MgCO<sub>3</sub>\"\n",
    "option_3 = \"2NaCl + F<sub>2</sub> &rarr; 2NaF + Cl<sub>2</sub>\"\n",
    "option_4 = \"CH<sub>4</sub> + 2O<sub>2</sub> &rarr; CO<sub>2</sub> + 2H<sub>2</sub>O\"\n",
    "\n",
    "multiple_choice(option_1, option_2, option_3, option_4)"
   ]
  },
  {
   "cell_type": "code",
   "execution_count": 38,
   "metadata": {},
   "outputs": [
    {
     "data": {
      "application/vnd.jupyter.widget-view+json": {
       "model_id": "4541e7a716b14354a620cda0ba126416",
       "version_major": 2,
       "version_minor": 0
      },
      "text/plain": [
       "HTMLMath(value='<b>(A)</b> 2Al + 3Cu(NO<sub>3</sub>)<sub>2</sub> &rarr; 3Cu + 2Al(NO<sub>3</sub>)<sub>3</sub>'…"
      ]
     },
     "metadata": {},
     "output_type": "display_data"
    },
    {
     "data": {
      "application/vnd.jupyter.widget-view+json": {
       "model_id": "b9c727db261241448fb8465afb9e6559",
       "version_major": 2,
       "version_minor": 0
      },
      "text/plain": [
       "HTMLMath(value='<b>(B)</b> FeS + 2HCl &rarr; FeCl<sub>2</sub> + H<sub>2</sub>S')"
      ]
     },
     "metadata": {},
     "output_type": "display_data"
    },
    {
     "data": {
      "application/vnd.jupyter.widget-view+json": {
       "model_id": "c833ef6379bb4056950e402b809224da",
       "version_major": 2,
       "version_minor": 0
      },
      "text/plain": [
       "HTMLMath(value='<b>(C)</b> 2S + 3O<sub>2</sub> &rarr; 2SO<sub>3</sub>')"
      ]
     },
     "metadata": {},
     "output_type": "display_data"
    },
    {
     "data": {
      "application/vnd.jupyter.widget-view+json": {
       "model_id": "f01f1d8755754685a07f7cc18662744f",
       "version_major": 2,
       "version_minor": 0
      },
      "text/plain": [
       "HTMLMath(value='<b>(D)</b> CaCO<sub>3</sub> &rarr; CaO + CO<sub>2</sub>')"
      ]
     },
     "metadata": {},
     "output_type": "display_data"
    },
    {
     "data": {
      "application/vnd.jupyter.widget-view+json": {
       "model_id": "9f122ed2fb32415983f51b6c8fa9c329",
       "version_major": 2,
       "version_minor": 0
      },
      "text/plain": [
       "HBox(children=(Button(description='(A)', style=ButtonStyle(button_color='Whitesmoke')), Button(description='(B…"
      ]
     },
     "metadata": {},
     "output_type": "display_data"
    },
    {
     "name": "stdout",
     "output_type": "stream",
     "text": [
      " \r"
     ]
    }
   ],
   "source": [
    "#import ipywidgets as widgets\n",
    "#import random\n",
    "#from IPython.display import clear_output, display, HTML\n",
    "\n",
    "option_1 = \"CaCO<sub>3</sub> &rarr; CaO + CO<sub>2</sub>\" \n",
    "option_2 = \"2S + 3O<sub>2</sub> &rarr; 2SO<sub>3</sub>\"\n",
    "option_3 = \"2Al + 3Cu(NO<sub>3</sub>)<sub>2</sub> &rarr; 3Cu + 2Al(NO<sub>3</sub>)<sub>3</sub>\"\n",
    "option_4 = \"FeS + 2HCl &rarr; FeCl<sub>2</sub> + H<sub>2</sub>S\"\n",
    "\n",
    "multiple_choice(option_1, option_2, option_3, option_4)"
   ]
  },
  {
   "cell_type": "markdown",
   "metadata": {},
   "source": [
    "## <a id=\"single\"> #3 Single Replacement Reaction</a>\n",
    "\n",
    "A **single replacement reaction** (also called a *single displacement reaction*) describes the process in which one element replaces another element in a compound. The general form for a single replacement reaction is given below:\n",
    "\n",
    "<img src=\"Images/single_displacement_reaction.svg\" width=\"78%\"/>\n",
    "\n",
    "The reactant side always contains at least one pure element and one compound. Likewise, the product side always contains at least one pure element and one compound. Only positive ions (cations) can replace other positive ions, while only negative ions (anions) can replace other negative ions. In the general equation shown above, <b>X</b> must be positive because it replaces <b>A</b>. If <b>X</b> was negative, then it would replace <b>B</b>.\n",
    "\n",
    "Below is an example of cation replacement, in which the positive ion (Ni<sup>2+</sup>) is replaced by another positive ion (Zn<sup>2+</sup>):\n",
    "\n",
    "<span style=\"color:red\">Ni</span>Cl<sub>2</sub> + <span style=\"color:blue\">Zn</span> &rarr; <span style=\"color:blue\">Zn</span>Cl<sub>2</sub> + <span style=\"color:red\">Ni</span>\n",
    "\n",
    "Below is an example of anion replacement, in which the negative ion (Br<sup>-</sup>) is replaced by another negative ion (Cl<sup>-</sup>):\n",
    "\n",
    "2Na<span style=\"color:red\">Br</span> + <span style=\"color:blue\">Cl<sub>2</sub></span> &rarr; 2Na<span style=\"color:blue\">Cl</span> + <span style=\"color:red\">Br<sub>2</sub></span>\n",
    "\n",
    "Notice how the elements shown in <span style=\"color:blue\">blue</span> replace the elements shown in <span style=\"color:red\">red</span> in each of these examples."
   ]
  },
  {
   "cell_type": "markdown",
   "metadata": {},
   "source": [
    "## Practice Problems"
   ]
  },
  {
   "cell_type": "markdown",
   "metadata": {},
   "source": [
    "**Question:** *Select 'True' or 'False' for each of the follow statements.* "
   ]
  },
  {
   "cell_type": "code",
   "execution_count": 39,
   "metadata": {},
   "outputs": [
    {
     "data": {
      "application/vnd.jupyter.widget-view+json": {
       "model_id": "9470c499bb054c73969562f6804fde77",
       "version_major": 2,
       "version_minor": 0
      },
      "text/plain": [
       "HBox(children=(Button(description='True', style=ButtonStyle(button_color='Whitesmoke')), Button(description='F…"
      ]
     },
     "metadata": {},
     "output_type": "display_data"
    },
    {
     "data": {
      "application/vnd.jupyter.widget-view+json": {
       "model_id": "6364c8c4127a4f82917ecf84f528c9fb",
       "version_major": 2,
       "version_minor": 0
      },
      "text/plain": [
       "HBox(children=(Button(description='True', style=ButtonStyle(button_color='Whitesmoke')), Button(description='F…"
      ]
     },
     "metadata": {},
     "output_type": "display_data"
    },
    {
     "data": {
      "application/vnd.jupyter.widget-view+json": {
       "model_id": "5202b4bc114040d696fac24309a77b07",
       "version_major": 2,
       "version_minor": 0
      },
      "text/plain": [
       "HBox(children=(Button(description='True', style=ButtonStyle(button_color='Whitesmoke')), Button(description='F…"
      ]
     },
     "metadata": {},
     "output_type": "display_data"
    },
    {
     "data": {
      "application/vnd.jupyter.widget-view+json": {
       "model_id": "3a2d1de6f9c24f5cae8d2c4fa5d04ebe",
       "version_major": 2,
       "version_minor": 0
      },
      "text/plain": [
       "HBox(children=(Button(description='True', style=ButtonStyle(button_color='Whitesmoke')), Button(description='F…"
      ]
     },
     "metadata": {},
     "output_type": "display_data"
    },
    {
     "name": "stdout",
     "output_type": "stream",
     "text": [
      " \r"
     ]
    }
   ],
   "source": [
    "randomize_3 = random.randint(1, 2)\n",
    "if randomize_3 == 1:\n",
    "    option_1 = \"Single replacement reactions are also called single displacement reactions.\"; bool_1 = True\n",
    "elif randomize_3 == 2:\n",
    "    option_1 = \"Single replacement reactions are also called synthesis reactions.\"; bool_1 = False\n",
    "\n",
    "randomize_3 = random.randint(1, 4)\n",
    "if randomize_3 == 1:\n",
    "    option_2 = \"The reactants used in a single replacement reaction always include one element and one compound.\"; bool_2 = True\n",
    "elif randomize_3 == 2:\n",
    "    option_2 = \"The reactants used in a single replacement reaction always include one element and one compound.\"; bool_2 = True\n",
    "elif randomize_3 == 3:\n",
    "    option_2 = \"The reactants used in a single replacement reaction always include two elements and no compounds.\"; bool_2 = False\n",
    "elif randomize_3 == 4:\n",
    "    option_2 = \"The reactants used in a single replacement reaction always include two compounds and no elements.\"; bool_2 = False\n",
    "    \n",
    "randomize_3 = random.randint(1, 6)\n",
    "if randomize_3 == 1:\n",
    "    option_3 = \"The general form of a single replacement reaction is: AB + X &rarr; XB + A.\"; bool_3 = True\n",
    "elif randomize_3 == 2:\n",
    "    option_3 = \"The general form of a single replacement reaction is: AB + X &rarr; XB + A.\"; bool_3 = True\n",
    "elif randomize_3 == 3:\n",
    "    option_3 = \"The general form of a single replacement reaction is: AB + Y &rarr; AY + B.\"; bool_3 = True\n",
    "elif randomize_3 == 4:\n",
    "    option_3 = \"The general form of a single replacement reaction is: AB &rarr; A + B.\"; bool_3 = False\n",
    "elif randomize_3 == 5:\n",
    "    option_3 = \"The general form of a single replacement reaction is: A + B &rarr; AB.\"; bool_3 = False\n",
    "elif randomize_3 == 6:\n",
    "    option_3 = \"The general form of a single replacement reaction is: AB + XY &rarr; XB + AY.\"; bool_3 = False\n",
    "\n",
    "randomize_3 = random.randint(1, 4)\n",
    "if randomize_3 == 1:\n",
    "    option_4 = \"The products generated from a single replacement reaction always include one element and one compound.\"; bool_4 = True\n",
    "elif randomize_3 == 2:\n",
    "    option_4 = \"The products generated from a single replacement reaction always include one element and one compound.\"; bool_4 = True\n",
    "elif randomize_3 == 3:\n",
    "    option_4 = \"The products generated from a single replacement reaction always include two elements and no compounds.\"; bool_4 = False    \n",
    "elif randomize_3 == 4:\n",
    "    option_4 = \"The products generated from a single replacement reaction always include two compounds and no elements.\"; bool_4 = False \n",
    "    \n",
    "true_false(option_1, bool_1, option_2, bool_2, option_3, bool_3, option_4, bool_4, \"True\", \"False\")"
   ]
  },
  {
   "cell_type": "markdown",
   "metadata": {},
   "source": [
    "**Question:** *Which of the follow chemical reactions is a single replacement reaction?* "
   ]
  },
  {
   "cell_type": "code",
   "execution_count": 40,
   "metadata": {},
   "outputs": [
    {
     "data": {
      "application/vnd.jupyter.widget-view+json": {
       "model_id": "972cd4fc2f854d26834f8cea95f14646",
       "version_major": 2,
       "version_minor": 0
      },
      "text/plain": [
       "HTMLMath(value='<b>(A)</b> 2Ag<sub>2</sub>O &rarr; 4Ag + O<sub>2</sub>')"
      ]
     },
     "metadata": {},
     "output_type": "display_data"
    },
    {
     "data": {
      "application/vnd.jupyter.widget-view+json": {
       "model_id": "11f23f7d81bc473c90bfa91a16f4a2e7",
       "version_major": 2,
       "version_minor": 0
      },
      "text/plain": [
       "HTMLMath(value='<b>(B)</b> 2Na + Cl<sub>2</sub> &rarr; 2NaCl')"
      ]
     },
     "metadata": {},
     "output_type": "display_data"
    },
    {
     "data": {
      "application/vnd.jupyter.widget-view+json": {
       "model_id": "b663d64402fd49899687d32b4e85e3d1",
       "version_major": 2,
       "version_minor": 0
      },
      "text/plain": [
       "HTMLMath(value='<b>(C)</b> 2MgI<sub>2</sub> + Mn(SO<sub>3</sub>)<sub>2</sub> &rarr; 2MgSO<sub>3</sub> + MnI<su…"
      ]
     },
     "metadata": {},
     "output_type": "display_data"
    },
    {
     "data": {
      "application/vnd.jupyter.widget-view+json": {
       "model_id": "5e331bc3487d4f3e9fbea1186a13a7cb",
       "version_major": 2,
       "version_minor": 0
      },
      "text/plain": [
       "HTMLMath(value='<b>(D)</b> 2Ag(NO<sub>3</sub>) + Cu &rarr; Cu(NO<sub>3</sub>)<sub>2</sub> + 2Ag')"
      ]
     },
     "metadata": {},
     "output_type": "display_data"
    },
    {
     "data": {
      "application/vnd.jupyter.widget-view+json": {
       "model_id": "0fcadb775a6649ac9b946410b1990f56",
       "version_major": 2,
       "version_minor": 0
      },
      "text/plain": [
       "HBox(children=(Button(description='(A)', style=ButtonStyle(button_color='Whitesmoke')), Button(description='(B…"
      ]
     },
     "metadata": {},
     "output_type": "display_data"
    },
    {
     "name": "stdout",
     "output_type": "stream",
     "text": [
      " \r"
     ]
    }
   ],
   "source": [
    "#import ipywidgets as widgets\n",
    "#import random\n",
    "#from IPython.display import clear_output, display, HTML\n",
    "\n",
    "option_1 = \"2Ag(NO<sub>3</sub>) + Cu &rarr; Cu(NO<sub>3</sub>)<sub>2</sub> + 2Ag\" \n",
    "option_2 = \"2Na + Cl<sub>2</sub> &rarr; 2NaCl\"\n",
    "option_3 = \"2Ag<sub>2</sub>O &rarr; 4Ag + O<sub>2</sub>\"\n",
    "option_4 = \"2MgI<sub>2</sub> + Mn(SO<sub>3</sub>)<sub>2</sub> &rarr; 2MgSO<sub>3</sub> + MnI<sub>4</sub>\"\n",
    "\n",
    "multiple_choice(option_1, option_2, option_3, option_4)"
   ]
  },
  {
   "cell_type": "code",
   "execution_count": 41,
   "metadata": {},
   "outputs": [
    {
     "data": {
      "application/vnd.jupyter.widget-view+json": {
       "model_id": "167a8efaf15d49c480d11ca3c730d187",
       "version_major": 2,
       "version_minor": 0
      },
      "text/plain": [
       "HTMLMath(value='<b>(A)</b> Na<sub>3</sub>PO<sub>4</sub> + 3KOH &rarr; 3NaOH + K<sub>3</sub>PO<sub>4</sub>')"
      ]
     },
     "metadata": {},
     "output_type": "display_data"
    },
    {
     "data": {
      "application/vnd.jupyter.widget-view+json": {
       "model_id": "23ded69538164c3ebe0c11374e6e5dd4",
       "version_major": 2,
       "version_minor": 0
      },
      "text/plain": [
       "HTMLMath(value='<b>(B)</b> 2Ca + O<sub>2</sub> &rarr; 2CaO')"
      ]
     },
     "metadata": {},
     "output_type": "display_data"
    },
    {
     "data": {
      "application/vnd.jupyter.widget-view+json": {
       "model_id": "2c2a5894fbcf48888fa0b1b35bf4faff",
       "version_major": 2,
       "version_minor": 0
      },
      "text/plain": [
       "HTMLMath(value='<b>(C)</b> 2KI + Br<sub>2</sub> &rarr; 2KBr + I<sub>2</sub>')"
      ]
     },
     "metadata": {},
     "output_type": "display_data"
    },
    {
     "data": {
      "application/vnd.jupyter.widget-view+json": {
       "model_id": "978e4ac7f08f4e719cb13cff4c2d7394",
       "version_major": 2,
       "version_minor": 0
      },
      "text/plain": [
       "HTMLMath(value='<b>(D)</b> 2NO<sub>2</sub> &rarr; 2O<sub>2</sub> + N<sub>2</sub>')"
      ]
     },
     "metadata": {},
     "output_type": "display_data"
    },
    {
     "data": {
      "application/vnd.jupyter.widget-view+json": {
       "model_id": "ad2947de394d4f51a982d077217dda7a",
       "version_major": 2,
       "version_minor": 0
      },
      "text/plain": [
       "HBox(children=(Button(description='(A)', style=ButtonStyle(button_color='Whitesmoke')), Button(description='(B…"
      ]
     },
     "metadata": {},
     "output_type": "display_data"
    },
    {
     "name": "stdout",
     "output_type": "stream",
     "text": [
      " \r"
     ]
    }
   ],
   "source": [
    "#import ipywidgets as widgets\n",
    "#import random\n",
    "#from IPython.display import clear_output, display, HTML\n",
    "\n",
    "option_1 = \"2KI + Br<sub>2</sub> &rarr; 2KBr + I<sub>2</sub>\" \n",
    "option_2 = \"2Ca + O<sub>2</sub> &rarr; 2CaO\"\n",
    "option_3 = \"2NO<sub>2</sub> &rarr; 2O<sub>2</sub> + N<sub>2</sub>\"\n",
    "option_4 = \"Na<sub>3</sub>PO<sub>4</sub> + 3KOH &rarr; 3NaOH + K<sub>3</sub>PO<sub>4</sub>\"\n",
    "\n",
    "multiple_choice(option_1, option_2, option_3, option_4)"
   ]
  },
  {
   "cell_type": "code",
   "execution_count": 42,
   "metadata": {},
   "outputs": [
    {
     "data": {
      "application/vnd.jupyter.widget-view+json": {
       "model_id": "e04d9659d826432384d4339a3668aa75",
       "version_major": 2,
       "version_minor": 0
      },
      "text/plain": [
       "HTMLMath(value='<b>(A)</b> C<sub>3</sub>H<sub>6</sub>O + 4O<sub>2</sub> &rarr; 3CO<sub>2</sub> + 3H<sub>2</sub…"
      ]
     },
     "metadata": {},
     "output_type": "display_data"
    },
    {
     "data": {
      "application/vnd.jupyter.widget-view+json": {
       "model_id": "1cb57e5c77ef4ba5a23d9326cf623eab",
       "version_major": 2,
       "version_minor": 0
      },
      "text/plain": [
       "HTMLMath(value='<b>(B)</b> Ca(OH)<sub>2</sub> &rarr; CaO + H<sub>2</sub>O')"
      ]
     },
     "metadata": {},
     "output_type": "display_data"
    },
    {
     "data": {
      "application/vnd.jupyter.widget-view+json": {
       "model_id": "68e945c39af54193916595d191fae3ba",
       "version_major": 2,
       "version_minor": 0
      },
      "text/plain": [
       "HTMLMath(value='<b>(C)</b> 2Li + S &rarr; Li<sub>2</sub>S')"
      ]
     },
     "metadata": {},
     "output_type": "display_data"
    },
    {
     "data": {
      "application/vnd.jupyter.widget-view+json": {
       "model_id": "2de5cf13b8d44d51be004551be874ca5",
       "version_major": 2,
       "version_minor": 0
      },
      "text/plain": [
       "HTMLMath(value='<b>(D)</b> Zn + H<sub>2</sub>SO<sub>4</sub> &rarr; ZnSO<sub>4</sub> + H<sub>2</sub>')"
      ]
     },
     "metadata": {},
     "output_type": "display_data"
    },
    {
     "data": {
      "application/vnd.jupyter.widget-view+json": {
       "model_id": "d0fcff2dc6d64dbdb98cd5d133415ce5",
       "version_major": 2,
       "version_minor": 0
      },
      "text/plain": [
       "HBox(children=(Button(description='(A)', style=ButtonStyle(button_color='Whitesmoke')), Button(description='(B…"
      ]
     },
     "metadata": {},
     "output_type": "display_data"
    },
    {
     "name": "stdout",
     "output_type": "stream",
     "text": [
      " \r"
     ]
    }
   ],
   "source": [
    "#import ipywidgets as widgets\n",
    "#import random\n",
    "#from IPython.display import clear_output, display, HTML\n",
    "\n",
    "option_1 = \"Zn + H<sub>2</sub>SO<sub>4</sub> &rarr; ZnSO<sub>4</sub> + H<sub>2</sub>\" \n",
    "option_2 = \"2Li + S &rarr; Li<sub>2</sub>S\"\n",
    "option_3 = \"C<sub>3</sub>H<sub>6</sub>O + 4O<sub>2</sub> &rarr; 3CO<sub>2</sub> + 3H<sub>2</sub>O\"\n",
    "option_4 = \"Ca(OH)<sub>2</sub> &rarr; CaO + H<sub>2</sub>O\"\n",
    "\n",
    "multiple_choice(option_1, option_2, option_3, option_4)"
   ]
  },
  {
   "cell_type": "code",
   "execution_count": 43,
   "metadata": {},
   "outputs": [
    {
     "data": {
      "application/vnd.jupyter.widget-view+json": {
       "model_id": "7b4be8dc88ac493a9668774461910bf4",
       "version_major": 2,
       "version_minor": 0
      },
      "text/plain": [
       "HTMLMath(value='<b>(A)</b> 3H<sub>2</sub> + N<sub>2</sub> &rarr; 2NH<sub>3</sub>')"
      ]
     },
     "metadata": {},
     "output_type": "display_data"
    },
    {
     "data": {
      "application/vnd.jupyter.widget-view+json": {
       "model_id": "d9dd1ddc66164de6ab9f9a6126930abe",
       "version_major": 2,
       "version_minor": 0
      },
      "text/plain": [
       "HTMLMath(value='<b>(B)</b> AgNO<sub>3</sub> + KI &rarr; AgI + KNO<sub>3</sub>')"
      ]
     },
     "metadata": {},
     "output_type": "display_data"
    },
    {
     "data": {
      "application/vnd.jupyter.widget-view+json": {
       "model_id": "242df75ff74d48f2adc5ea3ede61a6e8",
       "version_major": 2,
       "version_minor": 0
      },
      "text/plain": [
       "HTMLMath(value='<b>(C)</b> 2Hg<sub>2</sub>O &rarr; 4Hg + O<sub>2</sub>')"
      ]
     },
     "metadata": {},
     "output_type": "display_data"
    },
    {
     "data": {
      "application/vnd.jupyter.widget-view+json": {
       "model_id": "284e60c55a6e4697acc04261df5c0b7c",
       "version_major": 2,
       "version_minor": 0
      },
      "text/plain": [
       "HTMLMath(value='<b>(D)</b> Cl<sub>2</sub> + CaI<sub>2</sub> &rarr; CaCl<sub>2</sub> + I<sub>2</sub>')"
      ]
     },
     "metadata": {},
     "output_type": "display_data"
    },
    {
     "data": {
      "application/vnd.jupyter.widget-view+json": {
       "model_id": "30a8aefb2ef4482d91063ecbf94ed634",
       "version_major": 2,
       "version_minor": 0
      },
      "text/plain": [
       "HBox(children=(Button(description='(A)', style=ButtonStyle(button_color='Whitesmoke')), Button(description='(B…"
      ]
     },
     "metadata": {},
     "output_type": "display_data"
    },
    {
     "name": "stdout",
     "output_type": "stream",
     "text": [
      " \r"
     ]
    }
   ],
   "source": [
    "#import ipywidgets as widgets\n",
    "#import random\n",
    "#from IPython.display import clear_output, display, HTML\n",
    "\n",
    "option_1 = \"Cl<sub>2</sub> + CaI<sub>2</sub> &rarr; CaCl<sub>2</sub> + I<sub>2</sub>\" \n",
    "option_2 = \"3H<sub>2</sub> + N<sub>2</sub> &rarr; 2NH<sub>3</sub>\"\n",
    "option_3 = \"2Hg<sub>2</sub>O &rarr; 4Hg + O<sub>2</sub>\"\n",
    "option_4 = \"AgNO<sub>3</sub> + KI &rarr; AgI + KNO<sub>3</sub>\"\n",
    "\n",
    "multiple_choice(option_1, option_2, option_3, option_4)"
   ]
  },
  {
   "cell_type": "markdown",
   "metadata": {},
   "source": [
    "### Reactivity Series\n",
    "\n",
    "The reactivity of a metal is determined by its tendency to donate electrons (a process known as **oxidation**). The reactivity of a halogen is determined by its tendency to accept electrons (a process known as **reduction**). A list or metals and halogens in order of their reactivity (highest to lowest) is called a **reactivity series** (or *activity series*). Only metals of higher reactivity can replace metals with lower reactivity. Likewise, only halogens of higher reactivity can replace halogens with lower reactivity. Below is a reactivity series for some common metals and halogens:\n",
    "\n",
    "Metals       | Cations           | Halogens | Anions\n",
    "---          | ---               | ---      | ---                                                          \n",
    "Potassium    | K<sup>+</sup>     | Fluorine | F<sup>-</sup>                                                                \n",
    "Sodium       | Na<sup>+</sup>    | Chlorine | Cl<sup>-</sup>\n",
    "Calcium      | Ca<sup>2+</sup>   | Bromine  | Br<sup>-</sup>\n",
    "Magnesium    | Mg<sup>2+</sup>   | Iodine   | I<sup>-</sup>\n",
    "Aluminum     | Al<sup>3+</sup>   | \n",
    "Manganese    | Mn<sup>2+</sup>   |  \n",
    "Zinc         | Zn<sup>2+</sup>   | \n",
    "Chromium     | Cr<sup>3+</sup>   | \n",
    "Iron         | Fe<sup>2+</sup>   | \n",
    "Cobalt       | Co<sup>2+</sup>   | \n",
    "Nickle       | Ni<sup>2+</sup>   | \n",
    "Tin          | Sn<sup>2+</sup>   | \n",
    "Lead         | Pb<sup>2+</sup>   | \n",
    "Hydrogen     | H<sup>+</sup>     | \n",
    "Copper       | Cu<sup>2+</sup>   | \n",
    "Mercury      | Hg<sup>2+</sup>   | \n",
    "Silver       | Ag<sup>+</sup>    | \n",
    "Gold         | Au<sup>3+</sup>   | \n",
    "Platinum     | Pt<sup>4+</sup>   | \n",
    "\n",
    "The reactivity series can be used to determine if a reaction will spontaneously occur. If the replacing element is more reactive (higher on the list) than the element it is replacing, then the reaction will spontaneously occur."
   ]
  },
  {
   "cell_type": "markdown",
   "metadata": {},
   "source": [
    "**Question:** *Using the reactivity series shown above, predict if each reaction will, or will not, spontaneously occur.* "
   ]
  },
  {
   "cell_type": "code",
   "execution_count": 44,
   "metadata": {},
   "outputs": [
    {
     "data": {
      "application/vnd.jupyter.widget-view+json": {
       "model_id": "c8c4e36f08f64f7e94e1f267a64a296f",
       "version_major": 2,
       "version_minor": 0
      },
      "text/plain": [
       "HBox(children=(Button(description='Will occur', style=ButtonStyle(button_color='Whitesmoke')), Button(descript…"
      ]
     },
     "metadata": {},
     "output_type": "display_data"
    },
    {
     "data": {
      "application/vnd.jupyter.widget-view+json": {
       "model_id": "2d0e036347e9466ca5a97cfd246447b8",
       "version_major": 2,
       "version_minor": 0
      },
      "text/plain": [
       "HBox(children=(Button(description='Will occur', style=ButtonStyle(button_color='Whitesmoke')), Button(descript…"
      ]
     },
     "metadata": {},
     "output_type": "display_data"
    },
    {
     "data": {
      "application/vnd.jupyter.widget-view+json": {
       "model_id": "424540da3848412aa92aa0e0d9712ab7",
       "version_major": 2,
       "version_minor": 0
      },
      "text/plain": [
       "HBox(children=(Button(description='Will occur', style=ButtonStyle(button_color='Whitesmoke')), Button(descript…"
      ]
     },
     "metadata": {},
     "output_type": "display_data"
    },
    {
     "data": {
      "application/vnd.jupyter.widget-view+json": {
       "model_id": "bc8f0a195b1e4f419bba62b759dea3bc",
       "version_major": 2,
       "version_minor": 0
      },
      "text/plain": [
       "HBox(children=(Button(description='Will occur', style=ButtonStyle(button_color='Whitesmoke')), Button(descript…"
      ]
     },
     "metadata": {},
     "output_type": "display_data"
    },
    {
     "name": "stdout",
     "output_type": "stream",
     "text": [
      " \r"
     ]
    }
   ],
   "source": [
    "randomize_4 = random.randint(1, 2)\n",
    "if randomize_4 == 1:\n",
    "    option_1 = \"Al + H<sub>2</sub>O &rarr;\"; bool_1 = True\n",
    "elif randomize_4 == 2:\n",
    "    option_1 = \"Ag + H<sub>2</sub>O &rarr;\"; bool_1 = False\n",
    "\n",
    "randomize_4 = random.randint(1, 2)\n",
    "if randomize_4 == 1:\n",
    "    option_2 = \"AlPO<sub>4</sub> + Mg &rarr;\"; bool_2 = True\n",
    "elif randomize_4 == 2:\n",
    "    option_2 = \"AlPO<sub>4</sub> + Ni&rarr;\"; bool_2 = False\n",
    "\n",
    "randomize_4 = random.randint(1, 2)\n",
    "if randomize_4 == 1:\n",
    "    option_3 = \"F<sub>2</sub> + CaCl<sub>2</sub> &rarr;\"; bool_3 = True\n",
    "elif randomize_4 == 2:\n",
    "    option_3 = \"Br<sub>2</sub> + CaCl<sub>2</sub> &rarr;\"; bool_3 = False\n",
    "\n",
    "randomize_4 = random.randint(1, 2)\n",
    "if randomize_4 == 1:\n",
    "    option_4 = \"CuSO<sub>4</sub> + Zn &rarr;\"; bool_4 = True\n",
    "elif randomize_4 == 2:\n",
    "    option_4 = \"CuSO<sub>4</sub> + Hg &rarr;\"; bool_4 = False\n",
    "   \n",
    "true_false(option_1, bool_1, option_2, bool_2, option_3, bool_3, option_4, bool_4, \"Will occur\", \"Will not occur\")"
   ]
  },
  {
   "cell_type": "markdown",
   "metadata": {},
   "source": [
    "## <a id=\"double\"> #4 Double Replacement Reaction </a>\n",
    "\n",
    "A **double replacement reaction** (also called a *double displacement reaction*) describes the process in which the positive and negative ions from two compounds replace one another. The general form for a double replacement reaction is given below:\n",
    "\n",
    "<img src=\"Images/double_displacement_reaction.svg\" width=\"92%\"/>\n",
    "\n",
    "The reactant side always contains two compounds. Likewise, the product side always contains two compounds. Only positive ions (cations) can exchange places with other positive ions. Likewise, only negative ions (anions) can exchange places with other negative ions.\n",
    "\n",
    "An example of a double replacement reaction is:\n",
    "\n",
    "<span style=\"color:red\">NaCl</span> + <span style=\"color:blue\">AgNO<sub>3</sub></span> &rarr; <span style=\"color:blue\">Ag</span><span style=\"color:red\">Cl</span> + <span style=\"color:red\">Na</span><span style=\"color:blue\">NO<sub>3</sub></span>"
   ]
  },
  {
   "cell_type": "markdown",
   "metadata": {},
   "source": [
    "## Practice Problems"
   ]
  },
  {
   "cell_type": "markdown",
   "metadata": {},
   "source": [
    "**Question:** *Select 'True' or 'False' for each of the follow statements.* "
   ]
  },
  {
   "cell_type": "code",
   "execution_count": 45,
   "metadata": {},
   "outputs": [
    {
     "data": {
      "application/vnd.jupyter.widget-view+json": {
       "model_id": "ba583368a8c14de1b7c5141d703257b2",
       "version_major": 2,
       "version_minor": 0
      },
      "text/plain": [
       "HBox(children=(Button(description='True', style=ButtonStyle(button_color='Whitesmoke')), Button(description='F…"
      ]
     },
     "metadata": {},
     "output_type": "display_data"
    },
    {
     "data": {
      "application/vnd.jupyter.widget-view+json": {
       "model_id": "14236af4701946d39ca78e90a5546aeb",
       "version_major": 2,
       "version_minor": 0
      },
      "text/plain": [
       "HBox(children=(Button(description='True', style=ButtonStyle(button_color='Whitesmoke')), Button(description='F…"
      ]
     },
     "metadata": {},
     "output_type": "display_data"
    },
    {
     "data": {
      "application/vnd.jupyter.widget-view+json": {
       "model_id": "3703bdfca5f84054a2d36a91f163641c",
       "version_major": 2,
       "version_minor": 0
      },
      "text/plain": [
       "HBox(children=(Button(description='True', style=ButtonStyle(button_color='Whitesmoke')), Button(description='F…"
      ]
     },
     "metadata": {},
     "output_type": "display_data"
    },
    {
     "data": {
      "application/vnd.jupyter.widget-view+json": {
       "model_id": "3223bf54e2f94f6c96a1913836db47ef",
       "version_major": 2,
       "version_minor": 0
      },
      "text/plain": [
       "HBox(children=(Button(description='True', style=ButtonStyle(button_color='Whitesmoke')), Button(description='F…"
      ]
     },
     "metadata": {},
     "output_type": "display_data"
    },
    {
     "name": "stdout",
     "output_type": "stream",
     "text": [
      " \r"
     ]
    }
   ],
   "source": [
    "randomize_5 = random.randint(1, 2)\n",
    "if randomize_5 == 1:\n",
    "    option_1 = \"Double replacement reactions are also called double displacement reactions.\"; bool_1 = True\n",
    "elif randomize_5 == 2:\n",
    "    option_1 = \"Double replacement reactions are also called analysis reactions.\"; bool_1 = False\n",
    "\n",
    "randomize_5 = random.randint(1, 4)\n",
    "if randomize_5 == 1:\n",
    "    option_2 = \"The reactants used in a double replacement reaction always include two compounds.\"; bool_2 = True\n",
    "elif randomize_5 == 2:\n",
    "    option_2 = \"The reactants used in a double replacement reaction always include two compounds.\"; bool_2 = True\n",
    "elif randomize_5 == 3:\n",
    "    option_2 = \"The reactants used in a double replacement reaction always include two elements.\"; bool_2 = False\n",
    "elif randomize_5 == 4:\n",
    "    option_2 = \"The reactants used in a double replacement reaction always include one element and one compound.\"; bool_2 = False\n",
    "    \n",
    "randomize_5 = random.randint(1, 6)\n",
    "if randomize_5 == 1:\n",
    "    option_3 = \"The general form of a double replacement reaction is: AB + XY &rarr; XB + AY.\"; bool_3 = True\n",
    "elif randomize_5 == 2:\n",
    "    option_3 = \"The general form of a double replacement reaction is: AB + XY &rarr; XB + AY.\"; bool_3 = True\n",
    "elif randomize_5 == 3:\n",
    "    option_3 = \"The general form of a double replacement reaction is: AB + XY &rarr; AY + XB.\"; bool_3 = True\n",
    "elif randomize_5 == 4:\n",
    "    option_3 = \"The general form of a double replacement reaction is: A + B &rarr; AB.\"; bool_3 = False\n",
    "elif randomize_5 == 5:\n",
    "    option_3 = \"The general form of a double replacement reaction is: AB &rarr; A + B.\"; bool_3 = False\n",
    "elif randomize_5 == 6:\n",
    "    option_3 = \"The general form of a double replacement reaction is: AB + X &rarr; XB + A.\"; bool_3 = False\n",
    "\n",
    "randomize_5 = random.randint(1, 4)\n",
    "if randomize_5 == 1:\n",
    "    option_4 = \"The products generated from a double replacement reaction always include two compounds.\"; bool_4 = True\n",
    "elif randomize_5 == 2:\n",
    "    option_4 = \"The products generated from a double replacement reaction always include two compounds.\"; bool_4 = True\n",
    "elif randomize_5 == 3:\n",
    "    option_4 = \"The products generated from a double replacement reaction always include two elements.\"; bool_4 = False    \n",
    "elif randomize_5 == 4:\n",
    "    option_4 = \"The products generated from a double replacement reaction always include one element and one compound.\"; bool_4 = False \n",
    "    \n",
    "true_false(option_1, bool_1, option_2, bool_2, option_3, bool_3, option_4, bool_4, \"True\", \"False\")"
   ]
  },
  {
   "cell_type": "markdown",
   "metadata": {},
   "source": [
    "**Question:** *Which of the follow chemical reactions is a double replacement reaction?* "
   ]
  },
  {
   "cell_type": "code",
   "execution_count": 46,
   "metadata": {},
   "outputs": [
    {
     "data": {
      "application/vnd.jupyter.widget-view+json": {
       "model_id": "113be48453454378abb309d95117b4da",
       "version_major": 2,
       "version_minor": 0
      },
      "text/plain": [
       "HTMLMath(value='<b>(A)</b> 2Ni<sub>2</sub>O<sub>3</sub> &rarr; 4Ni + 3O<sub>2</sub>')"
      ]
     },
     "metadata": {},
     "output_type": "display_data"
    },
    {
     "data": {
      "application/vnd.jupyter.widget-view+json": {
       "model_id": "b7f08203ccdc43f08caa6debd46ed9ea",
       "version_major": 2,
       "version_minor": 0
      },
      "text/plain": [
       "HTMLMath(value='<b>(B)</b> 2NaOH + CaBr<sub>2</sub> &rarr; 2NaBr + Ca(OH)<sub>2</sub>')"
      ]
     },
     "metadata": {},
     "output_type": "display_data"
    },
    {
     "data": {
      "application/vnd.jupyter.widget-view+json": {
       "model_id": "0b5577789e524d9ab35d166f2afd753e",
       "version_major": 2,
       "version_minor": 0
      },
      "text/plain": [
       "HTMLMath(value='<b>(C)</b> 3Mg + N<sub>2</sub> &rarr; Mg<sub>3</sub>N<sub>2</sub>')"
      ]
     },
     "metadata": {},
     "output_type": "display_data"
    },
    {
     "data": {
      "application/vnd.jupyter.widget-view+json": {
       "model_id": "374f720a116645198fb1efaab277faf0",
       "version_major": 2,
       "version_minor": 0
      },
      "text/plain": [
       "HTMLMath(value='<b>(D)</b> 3AgNO<sub>3</sub> + Ni &rarr; Ni(NO)<sub>3</sub> + 3Ag')"
      ]
     },
     "metadata": {},
     "output_type": "display_data"
    },
    {
     "data": {
      "application/vnd.jupyter.widget-view+json": {
       "model_id": "616c4d3d9a1b45189aea1fddf297151c",
       "version_major": 2,
       "version_minor": 0
      },
      "text/plain": [
       "HBox(children=(Button(description='(A)', style=ButtonStyle(button_color='Whitesmoke')), Button(description='(B…"
      ]
     },
     "metadata": {},
     "output_type": "display_data"
    },
    {
     "name": "stdout",
     "output_type": "stream",
     "text": [
      " \r"
     ]
    }
   ],
   "source": [
    "#import ipywidgets as widgets\n",
    "#import random\n",
    "#from IPython.display import clear_output, display, HTML\n",
    "\n",
    "option_1 = \"2NaOH + CaBr<sub>2</sub> &rarr; 2NaBr + Ca(OH)<sub>2</sub>\" \n",
    "option_2 = \"3Mg + N<sub>2</sub> &rarr; Mg<sub>3</sub>N<sub>2</sub>\"\n",
    "option_3 = \"2Ni<sub>2</sub>O<sub>3</sub> &rarr; 4Ni + 3O<sub>2</sub>\"\n",
    "option_4 = \"3AgNO<sub>3</sub> + Ni &rarr; Ni(NO)<sub>3</sub> + 3Ag\"\n",
    "\n",
    "multiple_choice(option_1, option_2, option_3, option_4)"
   ]
  },
  {
   "cell_type": "code",
   "execution_count": 47,
   "metadata": {},
   "outputs": [
    {
     "data": {
      "application/vnd.jupyter.widget-view+json": {
       "model_id": "744cab84c3344588b3b785f29dcf450d",
       "version_major": 2,
       "version_minor": 0
      },
      "text/plain": [
       "HTMLMath(value='<b>(A)</b> 2AlBr<sub>3</sub> + 3Cl<sub>2</sub> &rarr; 2AlCl<sub>3</sub> + 3Br<sub>2</sub>')"
      ]
     },
     "metadata": {},
     "output_type": "display_data"
    },
    {
     "data": {
      "application/vnd.jupyter.widget-view+json": {
       "model_id": "b1d6597cdc0b46dc8e7506292bb5d604",
       "version_major": 2,
       "version_minor": 0
      },
      "text/plain": [
       "HTMLMath(value='<b>(B)</b> Li<sub>2</sub>SO<sub>4</sub> + BaCl<sub>2</sub> &rarr; 2LiCl + BaSO<sub>4</sub>')"
      ]
     },
     "metadata": {},
     "output_type": "display_data"
    },
    {
     "data": {
      "application/vnd.jupyter.widget-view+json": {
       "model_id": "27ecd1ef1bfa47fea53fb7d3df7587cc",
       "version_major": 2,
       "version_minor": 0
      },
      "text/plain": [
       "HTMLMath(value='<b>(C)</b> 4Li + O<sub>2</sub> &rarr; 2Li<sub>2</sub>O')"
      ]
     },
     "metadata": {},
     "output_type": "display_data"
    },
    {
     "data": {
      "application/vnd.jupyter.widget-view+json": {
       "model_id": "e965f840024b488891090104e7e0fdea",
       "version_major": 2,
       "version_minor": 0
      },
      "text/plain": [
       "HTMLMath(value='<b>(D)</b> Al<sub>2</sub>O<sub>3</sub> &rarr; Al + O<sub>2</sub>')"
      ]
     },
     "metadata": {},
     "output_type": "display_data"
    },
    {
     "data": {
      "application/vnd.jupyter.widget-view+json": {
       "model_id": "4c15d06edfa0491d958b47b6bd7f716e",
       "version_major": 2,
       "version_minor": 0
      },
      "text/plain": [
       "HBox(children=(Button(description='(A)', style=ButtonStyle(button_color='Whitesmoke')), Button(description='(B…"
      ]
     },
     "metadata": {},
     "output_type": "display_data"
    },
    {
     "name": "stdout",
     "output_type": "stream",
     "text": [
      " \r"
     ]
    }
   ],
   "source": [
    "#import ipywidgets as widgets\n",
    "#import random\n",
    "#from IPython.display import clear_output, display, HTML\n",
    "\n",
    "option_1 = \"Li<sub>2</sub>SO<sub>4</sub> + BaCl<sub>2</sub> &rarr; 2LiCl + BaSO<sub>4</sub>\" \n",
    "option_2 = \"4Li + O<sub>2</sub> &rarr; 2Li<sub>2</sub>O\"\n",
    "option_3 = \"Al<sub>2</sub>O<sub>3</sub> &rarr; Al + O<sub>2</sub>\"\n",
    "option_4 = \"2AlBr<sub>3</sub> + 3Cl<sub>2</sub> &rarr; 2AlCl<sub>3</sub> + 3Br<sub>2</sub>\"\n",
    "\n",
    "multiple_choice(option_1, option_2, option_3, option_4)"
   ]
  },
  {
   "cell_type": "code",
   "execution_count": 48,
   "metadata": {},
   "outputs": [
    {
     "data": {
      "application/vnd.jupyter.widget-view+json": {
       "model_id": "e0d01c856a3045079d41525b408d28ea",
       "version_major": 2,
       "version_minor": 0
      },
      "text/plain": [
       "HTMLMath(value='<b>(A)</b> CaCO<sub>3</sub> &rarr; CaO + CO<sub>2</sub>')"
      ]
     },
     "metadata": {},
     "output_type": "display_data"
    },
    {
     "data": {
      "application/vnd.jupyter.widget-view+json": {
       "model_id": "0ac2d47fb8434b5cb0d9140a23eb7ca1",
       "version_major": 2,
       "version_minor": 0
      },
      "text/plain": [
       "HTMLMath(value='<b>(B)</b> 2Cr + 3O<sub>2</sub> &rarr; 2CrO<sub>3</sub>')"
      ]
     },
     "metadata": {},
     "output_type": "display_data"
    },
    {
     "data": {
      "application/vnd.jupyter.widget-view+json": {
       "model_id": "039fb235bbd345b0ae9abf46b84e25b2",
       "version_major": 2,
       "version_minor": 0
      },
      "text/plain": [
       "HTMLMath(value='<b>(C)</b> Na<sub>2</sub>S + 2HCl &rarr; 2NaCl + H<sub>2</sub>S')"
      ]
     },
     "metadata": {},
     "output_type": "display_data"
    },
    {
     "data": {
      "application/vnd.jupyter.widget-view+json": {
       "model_id": "4da29e3163514ce999f783220f851084",
       "version_major": 2,
       "version_minor": 0
      },
      "text/plain": [
       "HTMLMath(value='<b>(D)</b> 2Na + 2H<sub>2</sub>O &rarr; 2NaOH + H<sub>2</sub>')"
      ]
     },
     "metadata": {},
     "output_type": "display_data"
    },
    {
     "data": {
      "application/vnd.jupyter.widget-view+json": {
       "model_id": "b48e470916aa424d9e7a1a34abb5322b",
       "version_major": 2,
       "version_minor": 0
      },
      "text/plain": [
       "HBox(children=(Button(description='(A)', style=ButtonStyle(button_color='Whitesmoke')), Button(description='(B…"
      ]
     },
     "metadata": {},
     "output_type": "display_data"
    },
    {
     "name": "stdout",
     "output_type": "stream",
     "text": [
      " \r"
     ]
    }
   ],
   "source": [
    "#import ipywidgets as widgets\n",
    "#import random\n",
    "#from IPython.display import clear_output, display, HTML\n",
    "\n",
    "option_1 = \"Na<sub>2</sub>S + 2HCl &rarr; 2NaCl + H<sub>2</sub>S\" \n",
    "option_2 = \"2Cr + 3O<sub>2</sub> &rarr; 2CrO<sub>3</sub>\"\n",
    "option_3 = \"CaCO<sub>3</sub> &rarr; CaO + CO<sub>2</sub>\"\n",
    "option_4 = \"2Na + 2H<sub>2</sub>O &rarr; 2NaOH + H<sub>2</sub>\"\n",
    "\n",
    "multiple_choice(option_1, option_2, option_3, option_4)"
   ]
  },
  {
   "cell_type": "code",
   "execution_count": 49,
   "metadata": {},
   "outputs": [
    {
     "data": {
      "application/vnd.jupyter.widget-view+json": {
       "model_id": "6bb49ad73075425d991d8c596e52ae8d",
       "version_major": 2,
       "version_minor": 0
      },
      "text/plain": [
       "HTMLMath(value='<b>(A)</b> 2NaI + Br<sub>2</sub> &rarr; 2NaBr + I<sub>2</sub>')"
      ]
     },
     "metadata": {},
     "output_type": "display_data"
    },
    {
     "data": {
      "application/vnd.jupyter.widget-view+json": {
       "model_id": "9ace59e316c94e9aad136bd95c74ff7d",
       "version_major": 2,
       "version_minor": 0
      },
      "text/plain": [
       "HTMLMath(value='<b>(B)</b> MgO + H<sub>2</sub>O &rarr; Mg(OH)<sub>2</sub>')"
      ]
     },
     "metadata": {},
     "output_type": "display_data"
    },
    {
     "data": {
      "application/vnd.jupyter.widget-view+json": {
       "model_id": "69b916d1c883409ab1b4082c7910c5e1",
       "version_major": 2,
       "version_minor": 0
      },
      "text/plain": [
       "HTMLMath(value='<b>(C)</b> HCl + NaOH &rarr; NaCl + H<sub>2</sub>O')"
      ]
     },
     "metadata": {},
     "output_type": "display_data"
    },
    {
     "data": {
      "application/vnd.jupyter.widget-view+json": {
       "model_id": "f5025e87de3c4fa792c9c797df511008",
       "version_major": 2,
       "version_minor": 0
      },
      "text/plain": [
       "HTMLMath(value='<b>(D)</b> H<sub>2</sub>CO<sub>3</sub> &rarr; CO<sub>2</sub> + H<sub>2</sub>O')"
      ]
     },
     "metadata": {},
     "output_type": "display_data"
    },
    {
     "data": {
      "application/vnd.jupyter.widget-view+json": {
       "model_id": "789a22ffbcab4e92a78e665f2a94ade3",
       "version_major": 2,
       "version_minor": 0
      },
      "text/plain": [
       "HBox(children=(Button(description='(A)', style=ButtonStyle(button_color='Whitesmoke')), Button(description='(B…"
      ]
     },
     "metadata": {},
     "output_type": "display_data"
    },
    {
     "name": "stdout",
     "output_type": "stream",
     "text": [
      " \r"
     ]
    }
   ],
   "source": [
    "#import ipywidgets as widgets\n",
    "#import random\n",
    "#from IPython.display import clear_output, display, HTML\n",
    "\n",
    "option_1 = \"HCl + NaOH &rarr; NaCl + H<sub>2</sub>O\" \n",
    "option_2 = \"MgO + H<sub>2</sub>O &rarr; Mg(OH)<sub>2</sub>\"\n",
    "option_3 = \"H<sub>2</sub>CO<sub>3</sub> &rarr; CO<sub>2</sub> + H<sub>2</sub>O\"\n",
    "option_4 = \"2NaI + Br<sub>2</sub> &rarr; 2NaBr + I<sub>2</sub>\"\n",
    "\n",
    "multiple_choice(option_1, option_2, option_3, option_4)"
   ]
  },
  {
   "cell_type": "markdown",
   "metadata": {},
   "source": [
    "### Solubility Chart\n",
    "\n",
    "Often, double replacement reactions result in the precipitation of one product. **Precipitation** occurs when a substance is deposited in the form of a solid from a solution. A solubility chart can be used to determine whether or not a product will precipitate or remain in solution. An example of a solubility chart is shown below:\n",
    "\n",
    "Anions                                    | Cations that form soluble compounds | Cations that form insoluble compounds\n",
    "---                                       | ---                                 | ---                                                             \n",
    "Nitrate (NO<sub>3</sub><sup>-</sup>)      | All                                 | None\n",
    "Acetate (CH<sub>3</sub>COO<sup>-</sup>)   | All                                 | None\n",
    "Chlorate (ClO<sub>3</sub><sup>-</sup>)    | All                                 | None\n",
    "Perchlorate (ClO<sub>4</sub><sup>-</sup>) | All                                 | None\n",
    "----------------------------------- | ----------------------------------- | -----------------------------------\n",
    "Chloride (Cl<sup>-</sup>)                 | Most                                | Ag, Hg(I), Pb(II)\n",
    "Bromide (Br<sup>-</sup>)                  | Most                                | Ag, Hg(I), Pb(II)\n",
    "Iodide (I<sup>-</sup>)                    | Most                                | Ag, Hg(I), Pb(II)\n",
    "----------------------------------- | ----------------------------------- | -----------------------------------\n",
    "Fluoride (F<sup>-</sup>)                  | Most                                | Mg, Ca, Sr, Ba, Pb(II)\n",
    "----------------------------------- | ----------------------------------- | -----------------------------------\n",
    "Sulfate (SO<sub>4</sub><sup>2-</sup>)     | Most                                | Ba, Pb(II), Sr\n",
    "----------------------------------- | ----------------------------------- | -----------------------------------\n",
    "Carbonate (CO<sub>3</sub><sup>2-</sup>)   | (Group 1 Metals), NH<sub>4</sub>      | Most\n",
    "Sulfite (SO<sub>3</sub><sup>2-</sup>)     | (Group 1 Metals), NH<sub>4</sub>      | Most\n",
    "Phosphate (PO<sub>4</sub><sup>3-</sup>)   | (Group 1 Metals), NH<sub>4</sub>      | Most\n",
    "Chromate (CrO<sub>4</sub><sup>2-</sup>)   | (Group 1 Metals), NH<sub>4</sub>      | Most\n",
    "----------------------------------- | ----------------------------------- | -----------------------------------\n",
    "Sulfide (S<sup>2-</sup>)                  | (Group 1 Metals), NH<sub>4</sub>, Ca, Ba, Sr | Most\n",
    "Hydroxide (OH<sup>-</sup>)                | (Group 1 Metals), NH<sub>4</sub>, Ca, Ba, Sr | Most\n",
    "\n",
    "To use the solubility chart, match the anion and cation in the compound using the rows and columns on the chart. If the resulting compound is located in the second column, then the compound is soluble. If the compound is located in the third column, then the compound is insoluble.\n",
    "\n",
    "For example, consider the following reaction:\n",
    "\n",
    "AgNO<sub>3</sub> + KCl &rarr; AgCl + KNO<sub>3</sub>\n",
    "\n",
    "There are two products, AgCl and KNO<sub>3</sub>, formed in this reaction. For AgCl, the anion is chloride (Cl<sup>-</sup>) and the cation is silver (Ag<sup>+</sup>). Matching the anion and cation on the solubility table above (row 5, column 3) indicates that the compound is insoluble. In other words, the compound will form a precipitate. \n",
    "\n",
    "For KNO<sub>3</sub>, the anion is nitrate (NO<sub>3</sub><sup>-</sup>) and the cation is potassium (K<sup>+</sup>). Matching the anion and cation on the solubility table above (row 1, column 2) indicates that the compound is soluble. In other words, the compound will remain in solution."
   ]
  },
  {
   "cell_type": "markdown",
   "metadata": {},
   "source": [
    "**Question:** *Using the solubility chart shown above, predict if each compound highlighted in <span style='color:red'>red</span> will dissolve or form a precipitate.*"
   ]
  },
  {
   "cell_type": "code",
   "execution_count": 50,
   "metadata": {},
   "outputs": [
    {
     "data": {
      "application/vnd.jupyter.widget-view+json": {
       "model_id": "8eb803c8ceb946188309a7cc864ac9dd",
       "version_major": 2,
       "version_minor": 0
      },
      "text/plain": [
       "HBox(children=(Button(description='Soluble', style=ButtonStyle(button_color='Whitesmoke')), Button(description…"
      ]
     },
     "metadata": {},
     "output_type": "display_data"
    },
    {
     "data": {
      "application/vnd.jupyter.widget-view+json": {
       "model_id": "138dec52023540b1829867f3e0395e74",
       "version_major": 2,
       "version_minor": 0
      },
      "text/plain": [
       "HBox(children=(Button(description='Soluble', style=ButtonStyle(button_color='Whitesmoke')), Button(description…"
      ]
     },
     "metadata": {},
     "output_type": "display_data"
    },
    {
     "data": {
      "application/vnd.jupyter.widget-view+json": {
       "model_id": "7556881de757414d8ca746e53c1328ee",
       "version_major": 2,
       "version_minor": 0
      },
      "text/plain": [
       "HBox(children=(Button(description='Soluble', style=ButtonStyle(button_color='Whitesmoke')), Button(description…"
      ]
     },
     "metadata": {},
     "output_type": "display_data"
    },
    {
     "data": {
      "application/vnd.jupyter.widget-view+json": {
       "model_id": "963a0fc552da4a21949aa41bdb4f1cb0",
       "version_major": 2,
       "version_minor": 0
      },
      "text/plain": [
       "HBox(children=(Button(description='Soluble', style=ButtonStyle(button_color='Whitesmoke')), Button(description…"
      ]
     },
     "metadata": {},
     "output_type": "display_data"
    },
    {
     "name": "stdout",
     "output_type": "stream",
     "text": [
      " \r"
     ]
    }
   ],
   "source": [
    "randomize_6 = random.randint(1, 2)\n",
    "if randomize_6 == 1:\n",
    "    option_1 = \"Pb(NO<sub>3</sub>)<sub>2</sub> + 2AgCl &rarr; PbCl<sub>2</sub> + <span style='color:red'>2AgNO<sub>3</sub></span>\"; bool_1 = True\n",
    "elif randomize_6 == 2:\n",
    "    option_1 = \"Pb(NO<sub>3</sub>)<sub>2</sub> + 2AgCl &rarr; <span style='color:red'>PbCl<sub>2</sub></span> + 2AgNO<sub>3</sub>\"; bool_1 = False\n",
    "\n",
    "randomize_6 = random.randint(1, 2)\n",
    "if randomize_6 == 1:\n",
    "    option_2 = \"Mg(NO<sub>3</sub>)<sub>2</sub> + 2NaOH &rarr; Mg(OH)<sub>2</sub> + <span style='color:red'>2NaNO<sub>3</sub></span>\"; bool_2 = True\n",
    "elif randomize_6 == 2:\n",
    "    option_2 = \"Mg(NO<sub>3</sub>)<sub>2</sub> + 2NaOH &rarr; <span style='color:red'>Mg(OH)<sub>2</sub></span> + 2NaNO<sub>3</sub>\"; bool_2 = False\n",
    "\n",
    "randomize_6 = random.randint(1, 2)\n",
    "if randomize_6 == 1:\n",
    "    option_3 = \"ZnSO<sub>4</sub> + BaCl<sub>2</sub> &rarr; <span style='color:red'>ZnCl<sub>2</sub></span> + BaSO<sub>4</sub>\"; bool_3 = True\n",
    "elif randomize_6 == 2:\n",
    "    option_3 = \"ZnSO<sub>4</sub> + BaCl<sub>2</sub> &rarr; ZnCl<sub>2</sub> + <span style='color:red'>BaSO<sub>4</sub></sub>\"; bool_3 = False\n",
    "\n",
    "randomize_6 = random.randint(1, 2)\n",
    "if randomize_6 == 1:\n",
    "    option_4 = \"CaCl<sub>2</sub> + Na<sub>2</sub>CO<sub>3</sub> &rarr; CaCO<sub>3</sub> + <span style='color:red'>2NaCl</span>\"; bool_4 = True\n",
    "elif randomize_6 == 2:\n",
    "    option_4 = \"CaCl<sub>2</sub> + Na<sub>2</sub>CO<sub>3</sub> &rarr; <span style='color:red'>CaCO<sub>3</sub></span> + 2NaCl\"; bool_4 = False\n",
    "   \n",
    "true_false(option_1, bool_1, option_2, bool_2, option_3, bool_3, option_4, bool_4, \"Soluble\", \"Precipitate\")"
   ]
  },
  {
   "cell_type": "markdown",
   "metadata": {},
   "source": [
    "## Conclusion"
   ]
  },
  {
   "cell_type": "markdown",
   "metadata": {},
   "source": [
    "* A **chemical reaction** is a process that involves the rearrangement of the atoms in the molecular or ionic structure of a substance or material.\n",
    "* One common classification scheme organizes chemical reactions into four types: *combination, decomposition, single replacement, and double replacement reactions*.\n",
    "* The **general form** for each reaction type is given as follows:\n",
    "  + **Combination reaction:** A + B &rarr; AB\n",
    "  + **Decomposition reaction:** AB &rarr; A + B\n",
    "  + **Single replacement reaction:** AB + X &rarr; XB + A\n",
    "  + **Double replacement reaction:** AB + XY &rarr; XB + AY\n",
    "* The reactivity series can be used to determine if a reaction will spontaneously occur.\n",
    "* A solubility chart can be used to determine whether or not a product will form a precipitate or remain in solution."
   ]
  },
  {
   "cell_type": "code",
   "execution_count": 51,
   "metadata": {
    "scrolled": true
   },
   "outputs": [
    {
     "data": {
      "text/html": [
       "\n",
       "<script>\n",
       "  function code_toggle() {\n",
       "    if (code_shown){\n",
       "      $('div.input').hide('500');\n",
       "      $('#toggleButton').val('Show Code')\n",
       "    } else {\n",
       "      $('div.input').show('500');\n",
       "      $('#toggleButton').val('Hide Code')\n",
       "    }\n",
       "    code_shown = !code_shown\n",
       "  }\n",
       "\n",
       "  $( document ).ready(function(){\n",
       "    code_shown=false;\n",
       "    $('div.input').hide()\n",
       "  });\n",
       "</script>\n",
       "<form action=\"javascript:code_toggle()\"><input type=\"submit\" id=\"toggleButton\" value=\"Show Code\"></form>\n"
      ],
      "text/plain": [
       "<IPython.core.display.HTML object>"
      ]
     },
     "metadata": {},
     "output_type": "display_data"
    }
   ],
   "source": [
    "%%html\n",
    "\n",
    "<script>\n",
    "  function code_toggle() {\n",
    "    if (code_shown){\n",
    "      $('div.input').hide('500');\n",
    "      $('#toggleButton').val('Show Code')\n",
    "    } else {\n",
    "      $('div.input').show('500');\n",
    "      $('#toggleButton').val('Hide Code')\n",
    "    }\n",
    "    code_shown = !code_shown\n",
    "  }\n",
    "\n",
    "  $( document ).ready(function(){\n",
    "    code_shown=false;\n",
    "    $('div.input').hide()\n",
    "  });\n",
    "</script>\n",
    "<form action=\"javascript:code_toggle()\"><input type=\"submit\" id=\"toggleButton\" value=\"Show Code\"></form>"
   ]
  },
  {
   "cell_type": "code",
   "execution_count": 52,
   "metadata": {},
   "outputs": [
    {
     "data": {
      "text/html": [
       "<img src=\"https://raw.githubusercontent.com/callysto/callysto-sample-notebooks/master/notebooks/images/Callysto_Notebook-Banner_Bottom_06.06.18.jpg\" onerror=\"this.src='Images/callysto_bottom_banner.jpg'\" alt=\"\" width=\"100%\"/>\n"
      ],
      "text/plain": [
       "<IPython.core.display.HTML object>"
      ]
     },
     "metadata": {},
     "output_type": "display_data"
    }
   ],
   "source": [
    "%%html\n",
    "<img src=\"https://raw.githubusercontent.com/callysto/callysto-sample-notebooks/master/notebooks/images/Callysto_Notebook-Banner_Bottom_06.06.18.jpg\" onerror=\"this.src='Images/callysto_bottom_banner.jpg'\" alt=\"\" width=\"100%\"/>"
   ]
  }
 ],
 "metadata": {
  "kernelspec": {
   "display_name": "Python 3",
   "language": "python",
   "name": "python3"
  },
  "language_info": {
   "codemirror_mode": {
    "name": "ipython",
    "version": 3
   },
   "file_extension": ".py",
   "mimetype": "text/x-python",
   "name": "python",
   "nbconvert_exporter": "python",
   "pygments_lexer": "ipython3",
   "version": "3.6.8"
  }
 },
 "nbformat": 4,
 "nbformat_minor": 2
}

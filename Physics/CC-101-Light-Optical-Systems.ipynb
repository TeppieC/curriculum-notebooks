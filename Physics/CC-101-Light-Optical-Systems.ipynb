{
 "cells": [
  {
   "cell_type": "markdown",
   "metadata": {},
   "source": [
    "<img src=\"https://callysto.ca/wp-content/uploads/2018/06/Callysto_Notebook-Banner_Top_06.06.18.jpg\" alt=\"Drawing\" style=\"width: 1800px;\"/>"
   ]
  },
  {
   "cell_type": "code",
   "execution_count": 2,
   "metadata": {},
   "outputs": [
    {
     "data": {
      "text/html": [
       "<script>requirejs.config({paths: { 'plotly': ['https://cdn.plot.ly/plotly-latest.min']},});if(!window.Plotly) {{require(['plotly'],function(plotly) {window.Plotly=plotly;});}}</script>"
      ],
      "text/vnd.plotly.v1+html": [
       "<script>requirejs.config({paths: { 'plotly': ['https://cdn.plot.ly/plotly-latest.min']},});if(!window.Plotly) {{require(['plotly'],function(plotly) {window.Plotly=plotly;});}}</script>"
      ]
     },
     "metadata": {},
     "output_type": "display_data"
    }
   ],
   "source": [
    "import matplotlib.pyplot as plt\n",
    "import plotly as py\n",
    "import plotly.graph_objs as go\n",
    "import numpy as np\n",
    "import math\n",
    "import ipywidgets as widgets\n",
    "from IPython.display import display, Math, Latex, HTML, IFrame\n",
    "from astropy.table import Table, Column\n",
    "from ipywidgets import interact, interactive\n",
    "\n",
    "py.offline.init_notebook_mode(connected=True)\n",
    "%matplotlib inline\n",
    "\n",
    "font = {'family' : 'sans-serif',\n",
    "        'weight' : 'normal',\n",
    "        'size'   : 14}\n",
    "\n",
    "plt.rc('font', **font)\n"
   ]
  },
  {
   "cell_type": "markdown",
   "metadata": {},
   "source": [
    "***\n",
    "<h1><center>  **Light and Optical Systems** </center></h1> \n",
    "***\n",
    "\n",
    "<img src=\"https://media.giphy.com/media/3o7OsM9vKFH2ESl0KA/giphy.gif\" alt=\"Drawing\" style=\"width: 600px;\"/>\n",
    "<center>Gif taken from https://giphy.com/gifs/fandor-sun-eclipse-3o7OsM9vKFH2ESl0KA/links, August 1st, 2018.</center>\n",
    "<center> Figure 1 </center> \n",
    "\n",
    "***\n",
    "\n",
    "## Introduction\n",
    "https://en.wikipedia.org/wiki/Speed_of_light\n",
    "\n",
    "Throughout most of history, humans did not understand light as we do today. As science and technology have progressed over time, so too has our knowledge of the nature of light. \n",
    "\n",
    "In this notebook, when we say the word \"light\", we will be referring to visible light. We will go over how our understanding of light has developed, and some of the essential properties and applications of light. We will also talk about how our eyes enable us to see visible light.\n",
    "\n",
    "## Background\n",
    "\n",
    "Our understanding of light truly began to develop around the 17th century, when a few individuals started to realize that light was not a mystical substance. Scientists (or \"natural philosophers\", as they were called during that time) recognized that certain properties of light were measurable, and that some properties could be manipulated. Sir Isaac Newton and Ole Rømer were among the first scientists to take steps in this direction.\n",
    "\n",
    "\n",
    "> ### Isaac Newton's Prism Experiment\n",
    "\n",
    "Sir Isaac Newton has made many contributions to varying fields of science and mathematics. In 1666, while spending time at his childhood home in Lincolnshire, England, Newton began experimenting with light. \n",
    "\n",
    "Using a small slit in his window shutters, Newton passed a narrow beam of sunlight through a glass prism. The light travelled through the prism, and projected a rainbow of color on the other side!\n",
    "\n",
    "<img src=\"http://lightingmatters.com.au/wp/wp-content/uploads/2015/09/White-Light-Prism-Experiment.jpg\" alt=\"Drawing\" style=\"width: 500px;\"/>\n",
    "<center>*Picture taken from http://lightingmatters.com.au/wp/what-is-the-colour-of-white/white-light-prism-experiment/, July 30th, 2018.*</center>\n",
    "<center> Figure 1: This picture shows how a prism can create a spectrum of color. This is what Newton would have seen in 1666.</center>\n",
    "\n",
    "In addition to this, Newton was able to recombine these separate bands of light with a second prism, reforming the original white light that had entered the first prism.\n",
    "\n",
    "Later on, scientists determined that the prism was actually splitting incoming light into its component parts. This phenomenon is called **dispersion**.\n",
    "\n",
    "Through this experiment, Newton demonstrated that white light was actually made up of all of the individual colors in the rainbow!\n",
    "\n",
    "> ### Ole Rømer and the Speed of Light\n",
    "\n",
    "For many years, people thought light travelled instantaneously. They thought that if somebody lit a match, the light from that match would be instantly visible to everyone, no matter how far away they were. However, in 1676 Ole Rømer proved that this is not the case.\n",
    "\n",
    "Rømer spent a long time studying the orbit of Io, one of Jupiter's moons. As part of his study, he began predicting the times when Io should be hidden behind Jupiter's shadow (these periods are called eclipses). However, Rømer saw that his predictions for when the eclipses should occur were not always accurate. "
   ]
  },
  {
   "cell_type": "markdown",
   "metadata": {},
   "source": [
    "<img src=\"https://media.giphy.com/media/DXIa1beDspYRy/giphy.gif\" alt=\"Drawing\" style=\"width: 300px;\"/>\n",
    "<center>Gif taken from https://giphy.com/gifs/timelapse-DXIa1beDspYRy, August 1st, 2018.</center>\n",
    "<center> Figure 2: Here we can see Jupiter as it looks through a telescope. You might be able to see a black spot move from the left to the right across Jupiter's surface. This is actually one of Jupiter's moons!</center> "
   ]
  },
  {
   "cell_type": "markdown",
   "metadata": {},
   "source": [
    "Rømer then realized that these errors may be because the distance between Io and the Earth was always changing. Rømer thought that when the distance between Io and the Earth increased, it might take a longer time for light coming from Io to reach Earth. If this were the case, then the light must be travelling at a finite speed!\n",
    "\n",
    "After taking many measurements and using some clever mathematics, Rømer calculated the speed of light to be roughly 220,000,000 m/s, or 792,000,000 km/h.\n",
    "\n",
    "Today, we have measured the speed of light to be 299,792,458 m/s. Although he was not exactly accurate, Rømer provided the first mathematically sound calculation for the speed of light. \n",
    "\n",
    "***\n",
    "The discoveries of both Newton and Rømer allowed people to realize that light was not some magical substance, but rather, something that could be measured and studied. \n",
    "\n",
    "Two of the most important ways in which we are able to manipulate light are through **reflection** and **refraction**.\n",
    "\n",
    "## Reflection\n",
    "\n",
    "Reflection is the term used to describe how light can change direction when it comes into contact with certain surfaces. \n",
    "\n",
    "When incoming light rays encounter a reflective surface, they bounce off the surface and continue moving in a new direction. The new direction in which it moves is determined by the **law of reflection**.\n",
    "\n",
    "\\begin{equation} \n",
    "\\rm Law\\: of\\: Reflection: Angle\\: of\\: Incidence = Angle\\: of\\: Reflection\n",
    "\\end{equation}\n",
    "\n",
    "On the animation below, click on the flashlight to turn it on, and move your mouse to change the angle of incidence."
   ]
  },
  {
   "cell_type": "code",
   "execution_count": 3,
   "metadata": {
    "scrolled": true
   },
   "outputs": [
    {
     "data": {
      "text/html": [
       "\n",
       "        <iframe\n",
       "            width=\"500\"\n",
       "            height=\"300\"\n",
       "            src=\"p5 animations/reflect.html\"\n",
       "            frameborder=\"0\"\n",
       "            allowfullscreen\n",
       "        ></iframe>\n",
       "        "
      ],
      "text/plain": [
       "<IPython.lib.display.IFrame at 0x7f171464b2e8>"
      ]
     },
     "execution_count": 3,
     "metadata": {},
     "output_type": "execute_result"
    }
   ],
   "source": [
    "IFrame('p5 animations/reflect.html',width=500,height=300)"
   ]
  },
  {
   "cell_type": "markdown",
   "metadata": {},
   "source": [
    "As seen above, the **normal** is what we call the line that forms a 90$^{\\circ}$ angle with  the surface. The **angle of incidence** is what we call the angle between the flash lights beam and the normal. Similarly, the **angle of reflection** is the angle that the newly reflected light beam makes with the normal. The law of reflection states that these two angles will always be equal.\n",
    "\n",
    "\n",
    "## Refraction\n",
    "\n",
    "Have you ever tried to reach down and grab an object sitting at the bottom of a pool of water? If you have, you may have noticed that the object isn't actually in the location that you see from the surface."
   ]
  },
  {
   "cell_type": "markdown",
   "metadata": {},
   "source": [
    "<img src=\"http://www.calacademy.org/sites/default/files/assets/images/Education_Images/TYE_Images/refraction_lightinairandwater_jbenitez.jpg\" alt=\"Drawing\" style=\"width: 400px;\"/>"
   ]
  },
  {
   "cell_type": "markdown",
   "metadata": {},
   "source": [
    "This phenomenon occurs because the light travelling to your eyes from the bottom of the pool **refracts**, or changes its direction of travel, when it transitions from water to air. \n",
    "\n",
    "Depending on the substance that light is travelling through (also known as the **medium**), light can bend a little, or a lot. Each medium has its own **index of refraction**, which is just a value that tells us how much light will bend. For example, the index of refraction for air is approximately 1.00, and the index of refraction for water is about 1.33. Because these indexes are different, light will travel at a different angle when passing from water to air, or vice versa.\n",
    "\n",
    "Use the animation below to see how light refracts when passing from air to water. Click on the flashlight to turn it on."
   ]
  },
  {
   "cell_type": "code",
   "execution_count": 4,
   "metadata": {},
   "outputs": [
    {
     "data": {
      "text/html": [
       "\n",
       "        <iframe\n",
       "            width=\"520\"\n",
       "            height=\"320\"\n",
       "            src=\"p5 animations/refract.html\"\n",
       "            frameborder=\"0\"\n",
       "            allowfullscreen\n",
       "        ></iframe>\n",
       "        "
      ],
      "text/plain": [
       "<IPython.lib.display.IFrame at 0x7f171464b2b0>"
      ]
     },
     "execution_count": 4,
     "metadata": {},
     "output_type": "execute_result"
    }
   ],
   "source": [
    "IFrame('p5 animations/refract.html',width=520,height=320)"
   ]
  },
  {
   "cell_type": "markdown",
   "metadata": {},
   "source": [
    "The **angle of refraction** is the angle between the refracted light ray and the normal, and can be determined using the following equation, known as Snell's Law:\n",
    "\n",
    "\\begin{equation} \n",
    "\\textrm{Snells Law:}\\: n_1\\sin(\\theta_1) = n_2\\sin(\\theta_2)\n",
    "\\end{equation}\n",
    "\n",
    "where $n_1$ is the index of refraction for the first medium, $\\theta_1$ is the incident angle, $n_2$ is the index of refraction for the second medium, and $\\theta_2$ is the angle of refraction.\n",
    "\n",
    "Light will bend *towards* the normal when travelling from a medium with a *lower* index of refraction to one with a *higher* index of refraction, and vice versa.\n",
    "\n",
    "\n",
    "## Lenses\n",
    "\n",
    "If you have glasses, or contact lenses, then you are constantly using refraction in order to help you see! Lenses use the principle of refraction to direct light in specific dirctions. Lenses work by having two different points of refraction: one as light is entering the lens, and the other as light is leaving the lens.\n",
    "\n",
    "Generally speaking, there are two types of lenses: **convex** and **concave**.\n",
    "\n",
    "<img src=\"https://writingexplained.org/wp-content/uploads/Definition-of-concave-versus-convex-1.png\" alt=\"Drawing\" style=\"width: 300px;\"/>\n",
    "https://writingexplained.org/concave-vs-convex-difference\n",
    "\n",
    "To see how each type of lense affects light, use the following animation.\n",
    "\n",
    "\n",
    "As seen above, a convex lens focuses light towards a specific point, while a concave lens will spread light away from a point. These lenses can be combined in many ways in order to produce different effects. For example, a camera lens uses a series of both convex and concave lenses in order to focus.\n",
    "\n",
    "<img src=\"http://i.imgur.com/IH2ymaj.jpg\" alt=\"Drawing\" style=\"width: 400px;\"/>\n",
    "\n",
    "\n",
    "\n",
    "\n",
    "## Vision\n",
    "\n",
    "Our eyes are very complex organs, but the essential principles that enable us to see are quite simple! The basic steps are as follows:\n",
    "\n",
    "1. Light enters the eye through the pupil\n",
    "2. The convex lens behind the pupil directs incoming light towards the **retina**, which is like a screen at the back of our eye.\n",
    "3. The retina then converts the image into an electrical signal that can be sent to the brain.\n",
    "4. The brain then interprets the image. \n",
    "\n",
    "<img src=\"https://openclipart.org/image/2400px/svg_to_png/261647/EyeDiagram.png\" alt=\"Drawing\" style=\"width: 400px;\"/>\n",
    "\n",
    "However, the image that is sent to our brain by the retina is actually an upside down picture of what we are looking at! Our brains automatically flip this image rightside up, and compensates for this effect. The reason why the image is upside down is due to the distance between our retinas and our lenses.\n",
    "\n",
    "\n",
    "\n",
    "This distance is greater than the focal length, so the light that hits the top portion of our lens is sent to the lower portion of our retina. Take a look at the following animation to show how this phenomenon occurs.\n",
    "\n",
    "**show animation with lens**\n",
    "\n",
    "\n",
    "## Applications and Inventions\n",
    "\n",
    "Some of the most beautiful sights in nature are caused by reflection and refraction. \n",
    "\n",
    "### Rainbows\n",
    "\n",
    "Rainbows are a result of both reflection and refraction. Each water droplet acts like a tiny prism, splitting visible light into its component colors as it enters the droplet. These colors then reflect off of the inner boundary of the water droplet, and it is directed back towards our eyes.\n",
    "\n",
    "**show diagram of water droplet**\n",
    "\n",
    "When light reflects off of the inner boundary of a surface, it is called **internal reflection**. \n",
    "\n",
    "\n",
    "### Mirage\n",
    "\n",
    "Have you ever been driving on a sunny day, and it seems as though you are driving towards a puddle, but you never reach it? You are really seeing a mirage.\n",
    "Mirages also occur because of refraction, but they do not result in a display of color like a rainbow. This type of refraction occurs due to a difference in temperature between separate layers of air.\n",
    "\n",
    "As we were describing before, refraction occurs when light travels into a new medium with a different index of refraction. Well, hot air can have a different index of refraction than cold air, so light will refract when passing through one to the other. \n",
    "\n",
    "When you are looking at a mirage, it can look as though the air is wavy and fluid like, which is why it is common to think that you are looking at a body of water. That is because the layers of hot and cold air are mixing together, and the angle of refraction is constantly changing. \n",
    "\n",
    "You may see a mirage appear on top of a hot roadway, behind the exhaust pipe of a plane or car, or any other significant heat source.\n",
    "\n",
    "\n",
    "## Technology\n",
    "\n",
    "### Telescopes, Microscopes\n",
    "\n",
    "Both telescopes and microscopes use a combination of reflective and refractive surfaces to enable us to get a closer look at certain objects. \n",
    "\n",
    "\n",
    "\n",
    "supported by\n",
    "- classic experiments\n",
    "- EMR theory\n",
    "- animations/interactives\n",
    "\n",
    "then talk about interactio\n",
    "\n",
    "\n",
    "\n",
    "## Excercises\n",
    "\n",
    "- predicting reflection/refraction\n",
    "- lens questions\n",
    "\n",
    "\n",
    "## Conclusion"
   ]
  },
  {
   "cell_type": "markdown",
   "metadata": {},
   "source": [
    "<img src=\"https://callysto.ca/wp-content/uploads/2018/06/Callysto_Notebook-Banners_Bottom_06.06.18.jpg\" alt=\"Drawing\" style=\"width: 1800px;\"/>"
   ]
  },
  {
   "cell_type": "code",
   "execution_count": null,
   "metadata": {},
   "outputs": [],
   "source": []
  }
 ],
 "metadata": {
  "kernelspec": {
   "display_name": "Python 3",
   "language": "python",
   "name": "python3"
  },
  "language_info": {
   "codemirror_mode": {
    "name": "ipython",
    "version": 3
   },
   "file_extension": ".py",
   "mimetype": "text/x-python",
   "name": "python",
   "nbconvert_exporter": "python",
   "pygments_lexer": "ipython3",
   "version": "3.6.5"
  }
 },
 "nbformat": 4,
 "nbformat_minor": 2
}

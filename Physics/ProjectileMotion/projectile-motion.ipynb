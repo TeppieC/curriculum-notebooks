{
 "cells": [
  {
   "cell_type": "markdown",
   "metadata": {},
   "source": [
    "# Projectile Motion\n",
    "## 1. Introduction\n",
    "*This notebook is meant to satisfy Physics 20-A1.3s.* \n",
    "#### *Objective: Mathematically analyze the movement of a launched object to determine flight path, speed, and time.*  \n",
    "Learning projectile motion will enable __you__ with the skills to understand how launched objects fly through the air and how you can design your own. It is critical for sports, military, and any scenario where you need an airborne object to reach a destination. What examples can you think of?  \n",
    "\n",
    "---"
   ]
  },
  {
   "cell_type": "markdown",
   "metadata": {},
   "source": [
    "## 2. Background\n",
    "Projectile motion explores the physics behind anything airborne that is subjected only to gravity. From throwing a dart to shooting a basketball to medieval cannons used during sieges, all of these objects are ruled by the same basic principles. \n",
    "\n",
    "\n",
    "<img src=\"images/catapult.gif\" width=\"500\" height=\"400\" />\n",
    "\n",
    "### Who created projectile motion analysis?\n",
    "\n",
    "<img src=\"images\\galileo.jpg\" alt=\"Drawing\" style=\"width: 400px;\"/>\n",
    "\n",
    "\n",
    "Galileo, one of the great fathers of astronomy and modern science, created projectile motion analysis over 400 years ago. This gave him the tools to improve the accuracy and effectiveness of military cannons in the 17th century. The reason we study it today is because his method has stood the test of time and continues to be a fundamental foundation to areas like aerodynamics, sports performance, and military design.  \n",
    "\n",
    "For the purposes of understanding the fundamentals, the effects of air resistance will be ignored. While it makes our lives simpler, it is wrong to assume that projectiles only experience the force of gravity - air resistance can play a significant role in many cases. Air resistance is responsible for lower projectile speeds and distances but it is also critical to helping airplanes slow down, allowing curve balls to be possible, and causing crazy effects with backspin (this involves more complex fluid dynamics). \n",
    "\n",
    "<img src=\"images/backspin.gif\" width=\"500\" height=\"400\" />\n",
    "\n",
    "However, in order to understand these complex cases, we must first strip away the layer of friction and look at how objects travel solely under the force gravity.  \n",
    "\n",
    "***"
   ]
  },
  {
   "cell_type": "markdown",
   "metadata": {},
   "source": [
    "## 3. Theory\n",
    "\n",
    "\n",
    "Neglecting air resistance, all projectiles in the air will only be under the force of gravity. This means objects travelling in 2 dimensions will constantly be pulled down to earth and forced into a curved trajectory known as a parabola. Take a look at the gif below. What do you notice about the velocity vectors in the horizontal and vertical directions? Which one changes? Which one stays the same?\n",
    "\n",
    "\n",
    "<img src=\"images\\parabola.gif\" alt=\"Drawing\" style=\"width: 400px;\"/>\n",
    "\n",
    "\n",
    "Galileo realized that projectile motion could be broken into two components: __horizontal (x)__ and __vertical (y)__ that can be analyzed separately. These two dimensions are __independent__, the only variable they share is time *t*. This means that changes in the vertical distance, speed, and acceleration will not affect the horizontal components and vice versa."
   ]
  },
  {
   "cell_type": "markdown",
   "metadata": {},
   "source": [
    "### Vertical Component\n",
    "Due to the force of gravity, the object will accelerate downwards throughout its trajectory. This means that its initial velocity will be different from its final velocity.\n",
    "There are 5 variables involved in the vertical component: acceleration, initial velocity, final velocity, *altitude* (distance travelled vertically), and time. We will assume $ \\vec a $ is constant for projectile motion and equivalent to $ 9.81  m/s^2$.\n",
    "$$ \\vec a , \\vec v_i , \\vec v_f , \\vec d_y , t $$"
   ]
  },
  {
   "cell_type": "markdown",
   "metadata": {},
   "source": [
    "There are 5 kinematic equations for uniform acceleration where each one contains 4 of the 5 variables listed above. Given 3 of the variables in a problem, the other 2 can be found by picking appropriate equations. *Note: If the object is initially launched horizontally, then $\\vec v_i $ = 0 * \n",
    "$$ \\vec a_{ave} = \\frac{\\vec v_f - \\vec v_i}{t}  $$\n",
    "\n",
    "$$ \\vec d = \\vec v_i t + \\frac12\\ \\vec a t^2 $$\n",
    "\n",
    "$$ \\vec d = \\vec v_f t - \\frac12\\ \\vec a t^2 $$\n",
    "\n",
    "$$ \\vec d = \\frac{\\vec v_f + \\vec v_i}{2} t $$\n",
    "\n",
    "$$ v_f^2 = v_i^2 + 2 a d $$"
   ]
  },
  {
   "cell_type": "markdown",
   "metadata": {},
   "source": [
    "### Horizontal Component\n",
    "There is no force acting horizontally. Therefore there is no acceleration so it is **uniform motion** ($ \\vec v_i = \\vec v_f = \\vec v_x $).\n",
    "Horizontal uniform motion is governed by 3 variables: velocity, *range* (distance travelled horizontally), and time. \n",
    "$$ \\vec v_x , \\vec d_x , t $$ \n",
    "These 3 variables are related by the uniform motion equation:\n",
    "$$ \\vec v_x = \\frac {\\vec d_x}{t} $$\n",
    "Let's do some practice to solidify the concepts."
   ]
  },
  {
   "cell_type": "markdown",
   "metadata": {},
   "source": [
    "<details> \n",
    "  <summary>\n",
    "__Question 1__  \n",
    "<br>\n",
    "Evil Knievel, the daredevil stunt driver, is performing his next trick. He speeds horizontally off of a 50.0 m high cliff on a motorcycle. How fast must he leave the cliff-top if he needs to soar over the 90.0 m river at the base of the cliff?   \n",
    "      <br>\n",
    "Try solving this question on your own, it's the best way to develop your skills. Once you've given it a go, click the dropdown arrow to reveal the solution.\n",
    "  </summary>\n",
    "    <br> \n",
    "__Solution__  \n",
    "     <br>\n",
    "1) Draw a picture of the scenario. This will give you a better grasp of the problem.  \n",
    "2) Define your sign convention. Assign positive and negative directions to both x and y.  \n",
    "3) Set up a table and identify the variables you know and the variable(s) you're trying to find. Pick a vertical component formula that best fits the problem scenario and solve for the unknown.\n",
    "<img src=\"images\\qu_1.jpg\" alt=\"Drawing\" style=\"width: 400px;\"/> \n",
    "</details>"
   ]
  },
  {
   "cell_type": "markdown",
   "metadata": {},
   "source": [
    "---"
   ]
  },
  {
   "cell_type": "markdown",
   "metadata": {},
   "source": [
    "<details> \n",
    "  <summary>\n",
    "__Question 2__  \n",
    "      <br>\n",
    "Galileo predicted that an object launched horizontally and an object dropped vertically will reach the ground at the same time. Will they? Why or why not?  \n",
    "  </summary>\n",
    "    <br>\n",
    "__Solution__\n",
    "    <br>\n",
    "Yes they will. Horizontal and vertical motion are independent for a projectile, so the horizontal movement of the launched object does not affect its vertical freefall.\n",
    "<img src=\"images\\qu_2.JPG\" alt=\"Drawing\" style=\"width: 300px;\"/>\n",
    "</details>\n",
    "\n",
    "\n",
    "\n"
   ]
  },
  {
   "cell_type": "markdown",
   "metadata": {},
   "source": [
    "---"
   ]
  },
  {
   "cell_type": "markdown",
   "metadata": {},
   "source": [
    "### Projectiles Fired at an Angle\n",
    "What happens when your projectile is launched at an angle? What are the initial velocities?  \n",
    "\n",
    "In this case, the initial vertical velocity is no longer 0. It will have some value $ \\vec v_i $ that will gradually decrease to 0 at the top of its trajectory and then increase in the downward direction as it returns back to ground. Let's take a football punt for example.\n",
    "\n",
    "According to [Angelo Armenti's The Physics of Sports](https://www.livestrong.com/article/397904-maximum-speed-of-a-football/), top-level football kickers can send footballs flying at 70 mph (31 m/s)! If the player kicked it at an angle of 50&deg;, the trajectory would look something like this:\n",
    "\n",
    "<img src=\"images\\proj_angle_1.jpg\" alt=\"Drawing\" style=\"width: 500px;\"/>\n",
    "\n",
    "The horizontal velocity $ \\vec v_x $ will remain the same throughout the flight (uniform motion) while $ \\vec v_y $ will decrease to the top of its trajectory and then increase downwards. __Note: If the initial launch height and final landing height are the same ($ \\vec d_y $ = 0), then the projectile will land with the same initial speed and angle!__ The initial vertical and horizontal velocities can be solved with some simple trigonometry:\n",
    "\n",
    "<img src=\"images\\proj_angle_2.jpg\" alt=\"Drawing\" style=\"width: 500px;\"/>\n"
   ]
  },
  {
   "cell_type": "markdown",
   "metadata": {},
   "source": [
    "<details> \n",
    "  <summary>\n",
    "__Question 3__  \n",
    "      <br>\n",
    "A football player kicks a ball across a flat field at 31.0 m/s and 50.0&deg; from the ground. Find:  \n",
    "a) The maximum height reached  \n",
    "b) The flight time (time before it hits the ground)   \n",
    "c) The range (how far away it hits the ground)  \n",
    "d) The velocity vector at its maximum height  \n",
    "e) The acceleration vector at its maximum height  \n",
    "f) The velocity of the football when it hits the ground\n",
    "  </summary>\n",
    "    <br>\n",
    "__Solution__  \n",
    "    <br>\n",
    "<img src=\"images\\qu_3-1.jpg\" alt=\"Drawing\" style=\"width: 600px;\"/>\n",
    "<img src=\"images\\qu_3-2.jpg\" alt=\"Drawing\" style=\"width: 600px;\"/>\n",
    "</details>"
   ]
  },
  {
   "cell_type": "markdown",
   "metadata": {},
   "source": [
    "### Determing the Optimum Launch Angle\n",
    "<br>\n",
    "<details> \n",
    "  <summary>\n",
    "__Question 4__  \n",
    "<br>\n",
    "Picture this: The International Olympic Committee runs a worldwide survey to see what new global event people would like to see. After some fierce debate and tallying the votes, __shot-cannon__ is chosen! Shot-cannon is a fairly straightforward sport: each country develops their own medieval cannon that competes in a series of challenges. While each challenge tests a different aspect of the design, the main event is the range competition to see which country's cannon can fire a lead ball the farthest across the field. Canada has chosen __you__ to man the cannon for the main event! With the cannon already designed and providing a fixed initial velocity $ \\vec v_i $, your responsibility is to pick the optimal angle $ \\theta $ to fire the cannon to achieve maximum distance. If you assume no air resistance and a flat field, what angle should you pick?    \n",
    "<br>\n",
    "Before reading on, take a moment to picture the scenario in your head and, using your intuition, take a guess at what angle you think would provide the maximum range. Can you think of a way to prove this?  \n",
    "<br>\n",
    "Now, to test your guess, let's tackle this problem with the skills we've just learnt.\n",
    "  </summary>\n",
    "    <br>\n",
    "__Solution__\n",
    "    <br>\n",
    "<img src=\"images\\qu_4-1.jpg\" alt=\"Drawing\" style=\"width: 400px;\"/>\n",
    "With a picture and sign convention drawn, let's mark down the values we know in a table. While we don't know the angle $\\theta$ and $ \\vec v_i $ is an unknown constant, we can still write down $ \\vec v_x $ and $ \\vec v_{i_y} $ in terms of the two variables stated in the question:\n",
    "\n",
    "<img src=\"images\\qu_4-2.jpg\" alt=\"Drawing\" style=\"width: 250px;\"/>\n",
    "<img src=\"images\\qu_4-3.JPG\" alt=\"Drawing\" style=\"width: 500px;\"/>\n",
    "\n",
    "We know $ \\vec v_x $ and $ \\vec v_{i_y} $ are both positive so the vector sign on $ v_i $ is removed. The acceleration is written as the constant $ -g = -9.81 m/s^2 $.  \n",
    "\n",
    "In order to come up with an equation for $ \\vec d_x $, we first need an equation for *t* in terms of the given variables $ \\vec v_i $ and $\\theta$:\n",
    "\n",
    "<img src=\"images\\qu_4-4.JPG\" alt=\"Drawing\" style=\"width: 250px;\"/>\n",
    "\n",
    "Now this can be applied to the horizontal component to come up with an equation for $ \\vec d_x $:\n",
    "\n",
    "<img src=\"images\\qu_4-5.JPG\" alt=\"Drawing\" style=\"width: 250px;\"/>\n",
    "\n",
    "Knowing that $ g $ and $ v_i $ are constants, this means that $ \\vec d_x $ is only a function of $\\theta$.    \n",
    "\n",
    "From this point on, there are two ways to solve for $\\theta$: you can use calculus to solve for it analytically, or we can get creative and use graphing to find the answer!\n",
    "\n",
    "Python provides us with some great tools to graph this function easily. If you have some knowledge of Python you can skip the explanations and just run the code cells. If not, we're going to take a moment to understand what the code you're about to see does. First up, let's go over the first bit of code.\n",
    "</details>\n",
    "\n",
    "\n",
    "\n"
   ]
  },
  {
   "cell_type": "markdown",
   "metadata": {},
   "source": [
    "### Digression: Python Basics\n",
    "\n",
    "__Imports__  \n",
    "At the beginning of most Python programs you're more than likely to see a few (or many) `import` statements. The purpose of these is to bring in other pieces of code, that either you or someone else have written, in order to keep your current program more manageable. For example, the set of import statements we're going to use to plot our functions look like this (press control and enter simultaneously to run the cell below)"
   ]
  },
  {
   "cell_type": "code",
   "execution_count": 1,
   "metadata": {},
   "outputs": [],
   "source": [
    "%matplotlib inline\n",
    "import matplotlib\n",
    "import numpy as np\n",
    "import matplotlib.pyplot as plt"
   ]
  },
  {
   "cell_type": "markdown",
   "metadata": {},
   "source": [
    "Starting from the top down, let's go over what each piece of this code does. \n",
    "\n",
    "1. **%matplotlib inline:** This is very specific to the Jupyter notebook we're using. This tells matplotlib (next bullet) to output graphs in the cell directly below the one in which the code is executed. For more information about Jupyter \"magic commands\" feel free to read [this document](http://ipython.readthedocs.io/en/stable/interactive/magics.html).\n",
    "\n",
    "2. **import matplotlib**: This command tells Python to import the `matplotlib` package. This package contains the python functions that we'll be using for plotting. \n",
    "\n",
    "3. **import numpy as np**: This imports the python package `numpy` or \"numerical python\" and assigns the name to it within our code to `np` so we don't have to type out `numpy` every time we need a function. We'll be using this package for mathematical functions like sine and the square root.  \n",
    "\n",
    "4. **import matplotlib.pyplot as plt**: This imports the graphing subroutines from the `matplotlib` packages and assigns them the name `plt` so we don't have to type as much when we want to produce a graph.\n",
    "\n",
    "__Plotting__  \n",
    "After required modules have been imported into our script, we're ready to get started graphing. First up, we need to define a number of points which to plot. Our computer doesn't understand that the variable $ \\theta $ is fully continuous, so we have to give it a discrete set of points to plot our function with. We can do that in python using numpy as follows (click the next cell and press control and enter at the same time on your keyboard)."
   ]
  },
  {
   "cell_type": "code",
   "execution_count": 2,
   "metadata": {},
   "outputs": [
    {
     "name": "stdout",
     "output_type": "stream",
     "text": [
      "theta =  [  0.   22.5  45.   67.5  90. ]\n"
     ]
    }
   ],
   "source": [
    "theta = np.linspace(0,90,5)\n",
    "print(\"theta = \", theta)"
   ]
  },
  {
   "cell_type": "markdown",
   "metadata": {},
   "source": [
    "This creates a **list** of numbers called `theta` which consists of 5 numbers evenly spaced in the range $[0,90]$ that we'll use to plot our function. The `print` function is a standard python function that simply displays our variables to the screen as either numbers or characters. In order to plot our functions, we type the following. Note that we've increased the number of points in `theta` to create a smoother plot. Feel free to change the number `100` to something smaller and observe how the plot changes. We also assigned a value to `v_i` and `g` so that the computer can plot the function numerically. Likewise, play around with these numbers and see how your range changes."
   ]
  },
  {
   "cell_type": "code",
   "execution_count": 3,
   "metadata": {},
   "outputs": [
    {
     "data": {
      "text/plain": [
       "[<matplotlib.lines.Line2D at 0x7fa37c339b70>]"
      ]
     },
     "execution_count": 3,
     "metadata": {},
     "output_type": "execute_result"
    },
    {
     "data": {
      "image/png": "[encoded data removed]",
      "text/plain": [
       "<matplotlib.figure.Figure at 0x7fa37e3764e0>"
      ]
     },
     "metadata": {},
     "output_type": "display_data"
    }
   ],
   "source": [
    "theta = np.linspace(0,90,100)\n",
    "v_i = 30.0\n",
    "g = 9.81\n",
    "plt.plot(theta, 2 / g * (v_i**2) * np.sin(np.deg2rad(theta)) * np.cos(np.deg2rad(theta)))"
   ]
  },
  {
   "cell_type": "markdown",
   "metadata": {},
   "source": [
    "There's a fair bit going on in that last line of code that should be noted. First, by using `plt.plot` we're calling a function from `matplotlib.pyplot` (that we called `plt`) called `plot`. This function, unsurprisingly, is used to tell Python what to plot. We then pass this function a number of arguments. The first argument `theta` is the list of numbers we generated earlier. The second argument `2 / g * (v_i**2) * np.sin(np.deg2rad(theta)) * np.cos(np.deg2rad(theta))` is the mathematical function we're going to plot. Here `theta` is the variable we're going to plot, and also the list of points that we generated earlier. The `**` is the python way of saying \"the power of\". Because `sin` and `cos` functions take radians as an input and not degrees, we use `np.deg2rad` which is a function that converts degrees to radians. So, what we're really saying here is $ \\frac{2}{g}v_i^2 \\sin(\\theta)\\cos(\\theta)  $.\n",
    "\n",
    "Now, that graph is missing a lot of the important things like axis labels and a legend. We can add those like this:"
   ]
  },
  {
   "cell_type": "code",
   "execution_count": 4,
   "metadata": {},
   "outputs": [
    {
     "data": {
      "text/plain": [
       "Text(0.5,1,'Range as a function of launch angle $ \\\\theta $')"
      ]
     },
     "execution_count": 4,
     "metadata": {},
     "output_type": "execute_result"
    },
    {
     "data": {
      "image/png": "[encoded data removed]",
      "text/plain": [
       "<matplotlib.figure.Figure at 0x7fa37e35f9e8>"
      ]
     },
     "metadata": {},
     "output_type": "display_data"
    }
   ],
   "source": [
    "plt.plot(theta, 2 / g * (v_i**2) * np.sin(np.deg2rad(theta)) * np.cos(np.deg2rad(theta)))\n",
    "plt.xlabel(r\"$ \\theta ( \\degree ) $\", fontsize=16)\n",
    "plt.ylabel(r\"$ \\vec d_x (m) $\", fontsize=16)\n",
    "plt.margins(0)\n",
    "plt.grid()\n",
    "plt.title(r\"Range as a function of launch angle $ \\theta $\")"
   ]
  },
  {
   "cell_type": "markdown",
   "metadata": {},
   "source": [
    "where the `plt.` calls are still calling functions from `matplotlib.pyplot` however this time we're creating x axes labels with `plt.xlabel` and y axes labels with `plt.ylabel`. `plt.margins(0)` removes any unnecessary blank space around the graph and `plt.grid()` adds a nice grid to visually locate points on the graph easier. Finally, `plt.title` adds a title bar to our graph. The dollar signs and \"r\" characters are just there to make the lettering look nice. Play around with the code and see if you can change the title bar, label font sizes, and margins.\n",
    "\n",
    "### --- End of Digression ---\n",
    "\n",
    "Based on the plot above, we see that the maximum range lines up with a launch angle of 45&deg; ! Was this your initial guess?\n",
    "\n",
    "---"
   ]
  },
  {
   "cell_type": "markdown",
   "metadata": {},
   "source": [
    "## 4. Conclusion & Extension\n",
    "\n",
    "This notebook has demonstrated the basics of projectile motion that can be used to determine flight paths, speeds, and times. Reasoning for why projectile motion is foundational to physics is stated, followed by a breakdown describing the horizontal and vertical components of projectile motion. The two components were brought together in an angled launch example and the final question utilized Python programming to solve a basic calculus problem. Applying the skills taught in this notebook to your practice examples will give you a strong grasp of projectile motion analysis and enable __you__ to begin designing your own basic launchers!\n",
    "\n",
    "\n",
    "### Practice: Projectile Game\n",
    "For a great interactive visualization of projectile motion, check out the PhET link below!\n",
    "\n",
    "<div style=\"position: relative; width: 300px; height: 200px;\"><a href=\"https://phet.colorado.edu/sims/html/projectile-motion/latest/projectile-motion_en.html\" style=\"text-decoration: none;\"><img src=\"https://phet.colorado.edu/sims/html/projectile-motion/latest/projectile-motion-600.png\" alt=\"Projectile Motion\" style=\"border: none;\" width=\"300\" height=\"200\"/><div style=\"position: absolute; width: 200px; height: 80px; left: 50px; top: 60px; background-color: #FFF; opacity: 0.6; filter: alpha(opacity = 60);\"></div><table style=\"position: absolute; width: 200px; height: 80px; left: 50px; top: 60px;\"><tr><td style=\"text-align: center; color: #000; font-size: 24px; font-family: Arial,sans-serif;\">Click to Run</td></tr></table></a></div>\n"
   ]
  }
 ],
 "metadata": {
  "kernelspec": {
   "display_name": "Python 3",
   "language": "python",
   "name": "python3"
  },
  "language_info": {
   "codemirror_mode": {
    "name": "ipython",
    "version": 3
   },
   "file_extension": ".py",
   "mimetype": "text/x-python",
   "name": "python",
   "nbconvert_exporter": "python",
   "pygments_lexer": "ipython3",
   "version": "3.6.5"
  }
 },
 "nbformat": 4,
 "nbformat_minor": 2
}

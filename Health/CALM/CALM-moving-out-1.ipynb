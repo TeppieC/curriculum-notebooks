{
 "cells": [
  {
   "cell_type": "markdown",
   "metadata": {},
   "source": [
    "![alt text](https://github.com/callysto/callysto-sample-notebooks/blob/master/notebooks/images/Callysto_Notebook-Banner_Top_06.06.18.jpg?raw=true)"
   ]
  },
  {
   "cell_type": "markdown",
   "metadata": {},
   "source": [
    "# CALM - Moving Out Project\n",
    "## Part 1 - Personal Profile\n",
    "📘\n",
    "\n",
    "Imagine that you are in your early twenties and it is time to move out of your family home.\n",
    "\n",
    "You work 40 hours per week and your wage is $15.00 per hour gross income (before deductions).\n",
    "\n",
    "You will be required to calculate your net income and manage financial resources effectively.\n",
    "\n",
    "You may choose to live with a roommate. If you choose to live with a roommate and share rent, you must each complete and hand in a separate assignment.\n",
    "\n",
    "You will use the internet for all the information required to complete this project. However, you may want to also refer to flyers to find prices for food and household items.\n",
    "\n",
    "Cells that contain a pencil emoji (✏️) are ones you should edit. Cells with a book emoji (e.g. 📘) are for you to read without editing."
   ]
  },
  {
   "cell_type": "markdown",
   "metadata": {},
   "source": [
    "## My Personal Profile - Age Twenty-something\n",
    "📘\n",
    "\n",
    "Complete these questions based on what your hope of plan to do with your life. Once you have answered all of the questions in the code cell below, run the cell using the `Run` button on the tool bar it will store your answers in a text file."
   ]
  },
  {
   "cell_type": "code",
   "execution_count": 6,
   "metadata": {},
   "outputs": [
    {
     "name": "stdout",
     "output_type": "stream",
     "text": [
      "Writing moving_out_1.txt\n"
     ]
    }
   ],
   "source": [
    "#✏️\n",
    "%%writefile moving_out_1.txt\n",
    "My name is \n",
    "1. I will move out of my family home at the age of \n",
    "2. My educational path will be \n",
    "3. My occupation or job at that time will be \n",
    "4. I expect to take home $      each month.\n",
    "5. I (will / will not) be married sometime in my twenties.\n",
    "6. By the age of 30 I will likely have     children.\n",
    "7. I (will / will not) buy a home sometime in my twenties.\n",
    "8. My home or living accommodations will be described as\n",
    "9. I will be living in or near the city/town of \n",
    "10. A vehicle I would like to drive when I am in my twenties is\n",
    "11. Other things I own will be\n",
    "    1. \n",
    "    2. \n",
    "    3. \n",
    "12. I (will / will not) plan to travel in my twenties.\n",
    "13. If I plan to travel, some of my vacations will be\n",
    "    1. \n",
    "    2. \n",
    "    3. \n",
    "14. My major accomplishments or bucket list items in my twenties will be\n",
    "    1. \n",
    "    2. \n",
    "    3. "
   ]
  },
  {
   "cell_type": "code",
   "execution_count": 7,
   "metadata": {},
   "outputs": [
    {
     "name": "stdout",
     "output_type": "stream",
     "text": [
      "My name is \n",
      "1. I will move out of my family home at the age of \n",
      "2. My educational path will be \n",
      "3. My occupation or job at that time will be \n",
      "4. I expect to take home $      each month.\n",
      "5. I (will / will not) be married sometime in my twenties.\n",
      "6. By the age of 30 I will likely have     children.\n",
      "7. I (will / will not) buy a home sometime in my twenties.\n",
      "8. My home or living accommodations will be described as\n",
      "9. I will be living in or near the city/town of \n",
      "10. A vehicle I would like to drive when I'm in my twenties is\n",
      "11. Other things I own will be\n",
      "    1. \n",
      "    2. \n",
      "    3. \n",
      "12. I (will / will not) plan to travel in my twenties.\n",
      "13. If I plan to travel, some of my vacations will be\n",
      "    1. \n",
      "    2. \n",
      "    3. \n",
      "14. My major accomplishments or bucket list items in my twenties will be\n",
      "    1. \n",
      "    2. \n",
      "    3. \n",
      "\n"
     ]
    }
   ],
   "source": [
    "#📘\n",
    "# Run this cell to check that your file contains your answers\n",
    "with open('moving_out_1.txt', 'r') as file:\n",
    "    print(file.read())"
   ]
  },
  {
   "cell_type": "markdown",
   "metadata": {},
   "source": [
    "📘You have now completed this section. Proceed to [section 2](./CALM-moving-out-2.ipynb)"
   ]
  },
  {
   "cell_type": "markdown",
   "metadata": {},
   "source": [
    "![alt text](https://github.com/callysto/callysto-sample-notebooks/blob/master/notebooks/images/Callysto_Notebook-Banners_Bottom_06.06.18.jpg?raw=true)"
   ]
  }
 ],
 "metadata": {
  "kernelspec": {
   "display_name": "Python 3",
   "language": "python",
   "name": "python3"
  },
  "language_info": {
   "codemirror_mode": {
    "name": "ipython",
    "version": 3
   },
   "file_extension": ".py",
   "mimetype": "text/x-python",
   "name": "python",
   "nbconvert_exporter": "python",
   "pygments_lexer": "ipython3",
   "version": "3.7.3"
  }
 },
 "nbformat": 4,
 "nbformat_minor": 2
}

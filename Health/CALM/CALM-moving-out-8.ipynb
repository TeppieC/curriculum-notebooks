{
 "cells": [
  {
   "cell_type": "markdown",
   "metadata": {},
   "source": [
    "![alt text](https://github.com/callysto/callysto-sample-notebooks/blob/master/notebooks/images/Callysto_Notebook-Banner_Top_06.06.18.jpg?raw=true)"
   ]
  },
  {
   "cell_type": "markdown",
   "metadata": {},
   "source": [
    "# CALM - Moving Out Project\n",
    "## Part 8 - Education and Investments\n",
    "\n",
    "📚\n",
    "\n",
    "### Education\n",
    "\n",
    "Education is a costly expense that usually pays for itself in the long run. Your parents may have been saving money for you to attend post-secondary in an [RESP](https://www.canada.ca/en/services/benefits/education/education-savings/resp.html), but many individuals will pay their own way through post-secondary working full- or part-time jobs and perhaps taking out student loans.\n",
    "\n",
    "It is wise to invest some time to see if you qualify for the many grants, scholarships, or bursaries. If you are paying for your education you will need to work the costs into your budget. If you are planning to attend postsecondary you should have already investigated the cost in your Occupational Research activity."
   ]
  },
  {
   "cell_type": "code",
   "execution_count": null,
   "metadata": {},
   "outputs": [],
   "source": [
    "%%writefile moving_out_10.txt\n",
    "✏️\n",
    "I (am / am not) planning to attend any type of post-secondary education.\n",
    "\n",
    "I (will / will not) be paying for my own education\n",
    "\n",
    "I (have / have not) looked into bursaries, grants, and scholarships.\n",
    "\n",
    "During my post-secondary education, I will be living (at home / on my own)."
   ]
  },
  {
   "cell_type": "code",
   "execution_count": null,
   "metadata": {},
   "outputs": [],
   "source": [
    "#✏️Leave the next two lines with 0s if you don't plan to attend postsecondary, then run the cell\n",
    "tuitionPerYear = 0\n",
    "booksAndSuppliesPerYear = 0\n",
    "\n",
    "#📚\n",
    "tuitionPerMonth = tuitionPerYear / 12\n",
    "booksAndSuppliesPerMonth = booksAndSuppliesPerYear / 12\n",
    "monthlyEducationCost = tuitionPerMonth + booksAndSuppliesPerMonth\n",
    "%store monthlyEducationCost\n",
    "print('You will likely be spending $' + str('{:.2f}'.format(monthlyEducationCost)) + ' per month for education.')"
   ]
  },
  {
   "cell_type": "markdown",
   "metadata": {},
   "source": [
    "### Savings and Investments\n",
    "\n",
    "📚When you do move out, what do you think you will be saving money for? Education, a car, a house, retirement, early retirement?\n",
    "\n",
    "1.\tThe secret to retirement is to **pay yourself first**:\n",
    "    1. aim for 10% of each paycheck\n",
    "    2. Put this money into an account like a [TFSA](https://www.canada.ca/en/revenue-agency/services/tax/individuals/topics/tax-free-savings-account.html) or [RRSP](https://www.canada.ca/en/revenue-agency/services/tax/individuals/topics/rrsps-related-plans/registered-retirement-savings-plan-rrsp.html) that you don’t spend until retirement. \n",
    "2.\tKeep an [emergency fund](https://www.investopedia.com/terms/e/emergency_fund.asp) for unexpected things like a job loss, break-ups, and break-downs.\n",
    "    1. This should be about three months worth of basic living expenses\n",
    "    2. While it can (and perhaps should) be invested somewhere, it needs to be a [liquid asset](https://www.investopedia.com/terms/l/liquidasset.asp)\n",
    "3.\tHave some short term (3 – 6 months) and long-term **financial goals**."
   ]
  },
  {
   "cell_type": "code",
   "execution_count": null,
   "metadata": {},
   "outputs": [],
   "source": [
    "%%writefile moving_out_11.txt\n",
    "✏️\n",
    "\n",
    "I plan to retire by the time I am \n",
    "\n",
    "I intend to have $   set aside for emergencies.\n",
    "\n",
    "My short-term financial goals are:\n",
    "1. \n",
    "2. \n",
    "\n",
    "My long-term financial goals are:\n",
    "1. \n",
    "2. "
   ]
  },
  {
   "cell_type": "code",
   "execution_count": null,
   "metadata": {},
   "outputs": [],
   "source": [
    "#📚Run this cell to check that your answers have been stored\n",
    "print('Monthly education cost:', monthlyEducationCost)\n",
    "with open('moving_out_10.txt', 'r') as file10:\n",
    "    print(file10.read())\n",
    "with open('moving_out_11.txt', 'r') as file11:\n",
    "    print(file11.read())"
   ]
  },
  {
   "cell_type": "markdown",
   "metadata": {},
   "source": [
    "📚You have now completed this section. Proceed to the summary in [section 9](./CALM-moving-out-9.ipynb)"
   ]
  },
  {
   "cell_type": "markdown",
   "metadata": {},
   "source": [
    "![alt text](https://github.com/callysto/callysto-sample-notebooks/blob/master/notebooks/images/Callysto_Notebook-Banners_Bottom_06.06.18.jpg?raw=true)"
   ]
  }
 ],
 "metadata": {
  "kernelspec": {
   "display_name": "Python 3",
   "language": "python",
   "name": "python3"
  },
  "language_info": {
   "codemirror_mode": {
    "name": "ipython",
    "version": 3
   },
   "file_extension": ".py",
   "mimetype": "text/x-python",
   "name": "python",
   "nbconvert_exporter": "python",
   "pygments_lexer": "ipython3",
   "version": "3.7.3"
  }
 },
 "nbformat": 4,
 "nbformat_minor": 2
}

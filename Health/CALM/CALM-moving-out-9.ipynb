{
 "cells": [
  {
   "cell_type": "markdown",
   "metadata": {},
   "source": [
    "![alt text](https://github.com/callysto/callysto-sample-notebooks/blob/master/notebooks/images/Callysto_Notebook-Banner_Top_06.06.18.jpg?raw=true)"
   ]
  },
  {
   "cell_type": "markdown",
   "metadata": {},
   "source": [
    "# CALM - Moving Out Project\n",
    "## Part 9 - Summary\n",
    "\n",
    "🎒In this final notebook you will write some reflections and then collect all of your answers to submit to your teacher.\n",
    "\n",
    "Make sure you have completed all of the actitivies, and run all of the cells even if they resulted in zero expenses. If you get any errors, read the error messages to determine what you may have missed."
   ]
  },
  {
   "cell_type": "code",
   "execution_count": 4,
   "metadata": {},
   "outputs": [
    {
     "name": "stdout",
     "output_type": "stream",
     "text": [
      "Your total expense per month will be about $224.88.\n",
      "This is about 13.2% of your net income.\n"
     ]
    },
    {
     "data": {
      "text/html": [
       "<div>\n",
       "<style scoped>\n",
       "    .dataframe tbody tr th:only-of-type {\n",
       "        vertical-align: middle;\n",
       "    }\n",
       "\n",
       "    .dataframe tbody tr th {\n",
       "        vertical-align: top;\n",
       "    }\n",
       "\n",
       "    .dataframe thead th {\n",
       "        text-align: right;\n",
       "    }\n",
       "</style>\n",
       "<table border=\"1\" class=\"dataframe\">\n",
       "  <thead>\n",
       "    <tr style=\"text-align: right;\">\n",
       "      <th></th>\n",
       "      <th>Item</th>\n",
       "      <th>Cost Per Month</th>\n",
       "    </tr>\n",
       "  </thead>\n",
       "  <tbody>\n",
       "    <tr>\n",
       "      <th>0</th>\n",
       "      <td>Transportation</td>\n",
       "      <td>119.731223</td>\n",
       "    </tr>\n",
       "    <tr>\n",
       "      <th>1</th>\n",
       "      <td>Food</td>\n",
       "      <td>77.400000</td>\n",
       "    </tr>\n",
       "    <tr>\n",
       "      <th>2</th>\n",
       "      <td>Household Items</td>\n",
       "      <td>25.000000</td>\n",
       "    </tr>\n",
       "    <tr>\n",
       "      <th>3</th>\n",
       "      <td>Clothing</td>\n",
       "      <td>1.333333</td>\n",
       "    </tr>\n",
       "    <tr>\n",
       "      <th>4</th>\n",
       "      <td>Gifts</td>\n",
       "      <td>0.500000</td>\n",
       "    </tr>\n",
       "    <tr>\n",
       "      <th>5</th>\n",
       "      <td>Health</td>\n",
       "      <td>0.916667</td>\n",
       "    </tr>\n",
       "    <tr>\n",
       "      <th>6</th>\n",
       "      <td>Entertainment</td>\n",
       "      <td>0.000000</td>\n",
       "    </tr>\n",
       "    <tr>\n",
       "      <th>7</th>\n",
       "      <td>Education</td>\n",
       "      <td>0.000000</td>\n",
       "    </tr>\n",
       "  </tbody>\n",
       "</table>\n",
       "</div>"
      ],
      "text/plain": [
       "              Item  Cost Per Month\n",
       "0   Transportation      119.731223\n",
       "1             Food       77.400000\n",
       "2  Household Items       25.000000\n",
       "3         Clothing        1.333333\n",
       "4            Gifts        0.500000\n",
       "5           Health        0.916667\n",
       "6    Entertainment        0.000000\n",
       "7        Education        0.000000"
      ]
     },
     "execution_count": 4,
     "metadata": {},
     "output_type": "execute_result"
    }
   ],
   "source": [
    "#🎒Run this cell to calculate your total monthly expenses\n",
    "import pandas as pd\n",
    "import qgrid\n",
    "%store -r\n",
    "totalCostsValues = [transportationExpenses, \n",
    "                    monthlyFoodCost, \n",
    "                    monthlyHouseholdCost, \n",
    "                    monthlyClothingCost, \n",
    "                    monthlyGiftsCost, \n",
    "                    monthlyHealthCost, \n",
    "                    monthlyEntertainmentCost, \n",
    "                    monthlyEducationCost]\n",
    "dfTotalCosts = pd.DataFrame({'Item': ['Transportation',\n",
    "                                      'Food',\n",
    "                                      'Household Items',\n",
    "                                      'Clothing',\n",
    "                                      'Gifts',\n",
    "                                      'Health',\n",
    "                                      'Entertainment',\n",
    "                                      'Education'],\n",
    "                            'Cost Per Month': totalCostsValues})\n",
    "\n",
    "oneTimeExpenses = movingExpenses + fneCost\n",
    "\n",
    "totalCostsPerMonth = pd.to_numeric(dfTotalCosts['Cost Per Month']).sum()\n",
    "print('Your total expense per month will be about $' + str('{:.2f}'.format(totalCostsPerMonth)) + '.')\n",
    "print('This is about ' + str('{:.1f}'.format(totalCostsPerMonth / netIncome * 100)) + '% of your net income.')\n",
    "dfTotalCosts"
   ]
  },
  {
   "cell_type": "code",
   "execution_count": 6,
   "metadata": {},
   "outputs": [
    {
     "name": "stdout",
     "output_type": "stream",
     "text": [
      "Can you afford your lifestyle? (y/n) y\n",
      "What do you plan to do with any extra money you might have? invest\n",
      "Writing 'financialPlan' (str) to file 'moving_out_11.txt'.\n"
     ]
    }
   ],
   "source": [
    "#🎒Run this cell and answer the questions\n",
    "afford = input('Can you afford your lifestyle? (y/n) ')\n",
    "if afford == 'n':\n",
    "    financialPlan = input('What do you think you can change to have a balanced budget? ')\n",
    "if afford == 'y':\n",
    "    financialPlan = input('What do you plan to do with any extra money you might have? ')\n",
    "%store financialPlan >>moving_out_11.txt"
   ]
  },
  {
   "cell_type": "markdown",
   "metadata": {},
   "source": [
    "## Reflections\n",
    "🎒Explain in detail five things you have learned from this project. What was the most surprising or eye-opening learning you had completing this project? Be specific."
   ]
  },
  {
   "cell_type": "code",
   "execution_count": null,
   "metadata": {},
   "outputs": [],
   "source": [
    "%%writefile moving_out_12.txt\n",
    "✏️\n",
    "\n",
    "My total expense per month will be about\n",
    "\n",
    "\n",
    "\n",
    "Five things I learned from this project are\n",
    "\n",
    "1. \n",
    "\n",
    "2. \n",
    "\n",
    "3. \n",
    "\n",
    "4. \n",
    "\n",
    "5. \n",
    "\n",
    "\n",
    "The most surprising or eye-opening part of this project was "
   ]
  },
  {
   "cell_type": "code",
   "execution_count": null,
   "metadata": {},
   "outputs": [],
   "source": [
    "#🎒Run this cell to finish up and check all of your answers\n",
    "yourname = input('Type your name: ')\n",
    "answerFilename = yourname.replace(' ', '_')+'_moving_out.txt'\n",
    "answerFile = open(answerFilename, 'a')\n",
    "\n",
    "for filenumber in range(1, 13):\n",
    "    filename = 'moving_out_'+str(filenumber)+'.txt'\n",
    "    try:\n",
    "        file = open(filename, 'r')\n",
    "        answerFile.write(file.read())\n",
    "        file.close()\n",
    "    except:\n",
    "        print('Unable to open ' + filename)\n",
    "answerFile.close()\n",
    "\n",
    "print(yourname)\n",
    "completeAnswerFile = open(answerFilename, 'r')\n",
    "print(completeAnswerFile.read())"
   ]
  },
  {
   "cell_type": "markdown",
   "metadata": {},
   "source": [
    "🎒You have now completed this moving out assignment. Submit the file `Your_Name_moving_out.txt` to your teacher, or copy and past your answers from the output of the previous cell.\n",
    "\n",
    "If you are interested in learning more about Jupyter notebooks and Python programming, check out [callyst.ca](https://callysto.ca)."
   ]
  },
  {
   "cell_type": "markdown",
   "metadata": {},
   "source": [
    "![alt text](https://github.com/callysto/callysto-sample-notebooks/blob/master/notebooks/images/Callysto_Notebook-Banners_Bottom_06.06.18.jpg?raw=true)"
   ]
  }
 ],
 "metadata": {
  "kernelspec": {
   "display_name": "Python 3",
   "language": "python",
   "name": "python3"
  },
  "language_info": {
   "codemirror_mode": {
    "name": "ipython",
    "version": 3
   },
   "file_extension": ".py",
   "mimetype": "text/x-python",
   "name": "python",
   "nbconvert_exporter": "python",
   "pygments_lexer": "ipython3",
   "version": "3.7.3"
  }
 },
 "nbformat": 4,
 "nbformat_minor": 2
}

{
 "cells": [
  {
   "cell_type": "markdown",
   "metadata": {},
   "source": [
    "![alt text](https://github.com/callysto/callysto-sample-notebooks/blob/master/notebooks/images/Callysto_Notebook-Banner_Top_06.06.18.jpg?raw=true)"
   ]
  },
  {
   "cell_type": "markdown",
   "metadata": {},
   "source": [
    "# CALM - Moving Out Project\n",
    "\n",
    "Imagine that you are in your early twenties and it is time to move out of your family home.\n",
    "\n",
    "You work 40 hours per week and your wage is $15.00 per hour gross income (before deductions).\n",
    "\n",
    "You will be required to calculate your net income and manage financial resources effectively.\n",
    "\n",
    "You may choose to live with a roommate. If you choose to live with a roommate and share rent, you must each complete and hand in a separate assignment.\n",
    "\n",
    "You will use the internet for all the information required to complete this project. However, you may want to also refer to flyers to find prices for food and household items."
   ]
  },
  {
   "cell_type": "markdown",
   "metadata": {},
   "source": [
    "## My Personal Profile - Age Twenty-something\n",
    "Complete these questions based on what your hope of plan to do wtih your life. Double-click on a cell in order to edit it."
   ]
  },
  {
   "cell_type": "markdown",
   "metadata": {},
   "source": [
    "My name is "
   ]
  },
  {
   "cell_type": "markdown",
   "metadata": {},
   "source": [
    "1. I will move out of my family home at the age of "
   ]
  },
  {
   "cell_type": "markdown",
   "metadata": {},
   "source": [
    "2. My educational path will be "
   ]
  },
  {
   "cell_type": "markdown",
   "metadata": {},
   "source": [
    "3. My occupation or job at that time will be "
   ]
  },
  {
   "cell_type": "markdown",
   "metadata": {},
   "source": [
    "4. I expect to take home $      each month."
   ]
  },
  {
   "cell_type": "markdown",
   "metadata": {},
   "source": [
    "5. I (will / will not) be married sometime in my twenties."
   ]
  },
  {
   "cell_type": "markdown",
   "metadata": {},
   "source": [
    "6. By the age of 30 I will likely have     children."
   ]
  },
  {
   "cell_type": "markdown",
   "metadata": {},
   "source": [
    "7. I (will / will not) buy a home sometime in my twenties."
   ]
  },
  {
   "cell_type": "markdown",
   "metadata": {},
   "source": [
    "8. My home or living accommodations will be described as\n",
    "\n"
   ]
  },
  {
   "cell_type": "markdown",
   "metadata": {},
   "source": [
    "9. I will be living in or near the city/town of "
   ]
  },
  {
   "cell_type": "markdown",
   "metadata": {},
   "source": [
    "10. A vehicle I would like to drive when I'm in my twenties is"
   ]
  },
  {
   "cell_type": "markdown",
   "metadata": {},
   "source": [
    "11. Other things I own will be\n",
    "    1. \n",
    "    2. \n",
    "    3. "
   ]
  },
  {
   "cell_type": "markdown",
   "metadata": {},
   "source": [
    "12. I (will / will not) plan to travel in my twenties."
   ]
  },
  {
   "cell_type": "markdown",
   "metadata": {},
   "source": [
    "13. If I plan to travel, some of my vacations will be\n",
    "    1. \n",
    "    2. \n",
    "    3. "
   ]
  },
  {
   "cell_type": "markdown",
   "metadata": {},
   "source": [
    "14. My major accomplishments or bucket list items in my twenties will be\n",
    "    1. \n",
    "    2. \n",
    "    3. "
   ]
  },
  {
   "cell_type": "markdown",
   "metadata": {},
   "source": [
    "## Income"
   ]
  },
  {
   "cell_type": "markdown",
   "metadata": {},
   "source": [
    "### Paycheque Definitions\n",
    "\n",
    "#### Gross Income (pay/earnings)\n",
    "The amount of income/earnings, for any pay period, before deductions\n",
    " \n",
    "#### Net income (pay/earnings)\n",
    "The amount of income/earnings, for any pay period, after deductions (Take home pay)\n",
    " \n",
    " \n",
    "#### CPP - Canada Pension Plan\n",
    "2.3% of gross income deducted for insurance in case of unemployment\n",
    " \n",
    "#### Income Tax\n",
    "A deduction paid to the Federal and Provincial government for taxes\n",
    " \n",
    "#### LTD\n",
    "A deduction for Long Term Disability insurance\n",
    " \n",
    "#### Union Dues\n",
    "Fees paid for membership in a union\n",
    " \n",
    "#### Bonds\n",
    "An investment in which a business or government pays a set interest rate\n",
    " \n",
    "#### Advance Earnings\n",
    "Deducted money that was received in advance of the pay cheque\n",
    " \n",
    "#### Overtime Earnings\n",
    "Pay received for working over 8 hours a day or 44 hours a week, whichever is greater"
   ]
  },
  {
   "cell_type": "markdown",
   "metadata": {},
   "source": [
    "### Calculating Net Income\n",
    "\n",
    "Click on the code cell below, then press the Run button on the toolbar to calculate your net income. You may also change some values in the code to see how the results change."
   ]
  },
  {
   "cell_type": "code",
   "execution_count": 14,
   "metadata": {},
   "outputs": [
    {
     "name": "stdout",
     "output_type": "stream",
     "text": [
      "Your gross income is $ 2520 per month.\n",
      "$ 821.02  will be taken off your paycheck.\n",
      "Your net income is $ 1698.98 per month.\n"
     ]
    }
   ],
   "source": [
    "wagePerHour = 15  # this is your wage in $/hour\n",
    "hoursPerDay = 8\n",
    "daysPerMonth = 21\n",
    "\n",
    "grossIncome = wagePerHour * hoursPerDay * daysPerMonth\n",
    "print('Your gross income is $', grossIncome, 'per month.')\n",
    "\n",
    "incomeTax = .15 + .10 # assume federal income tax is 15% and provincial is 10%\n",
    "cpp = .0495  # assume Canada Pension Plan is 4.95%\n",
    "ei = .0188  # assume Employment Insurance is 1.88%\n",
    "unionDues = .0075  # 0.75% sounds reasonable for union dues\n",
    "\n",
    "deductions = grossIncome * (incomeTax + cpp + ei + unionDues)\n",
    "print('$', '{:.2f}'.format(deductions), ' will be taken off your paycheck.')\n",
    "\n",
    "netIncome = grossIncome - deductions\n",
    "print('Your net income is $', '{:.2f}'.format(netIncome), 'per month.')"
   ]
  },
  {
   "cell_type": "markdown",
   "metadata": {},
   "source": [
    "We can also look at how your net income (take-home pay) changes based on your hourly wage. We will use [2019 taxation rates](https://www.canada.ca/en/revenue-agency/services/tax/individuals/frequently-asked-questions-individuals/canadian-income-tax-rates-individuals-current-previous-years.html)."
   ]
  },
  {
   "cell_type": "code",
   "execution_count": 3,
   "metadata": {},
   "outputs": [
    {
     "data": {
      "application/vnd.plotly.v1+json": {
       "config": {
        "plotlyServerURL": "https://plot.ly"
       },
       "data": [
        {
         "name": "Net Income",
         "type": "scatter",
         "x": [
          15,
          16,
          17,
          18,
          19,
          20,
          21,
          22,
          23,
          24,
          25,
          26,
          27,
          28,
          29,
          30,
          31,
          32,
          33,
          34,
          35,
          36,
          37,
          38,
          39,
          40,
          41,
          42,
          43,
          44,
          45,
          46,
          47,
          48,
          49,
          50,
          51,
          52,
          53,
          54,
          55,
          56,
          57,
          58,
          59,
          60,
          61,
          62,
          63,
          64,
          65,
          66,
          67,
          68,
          69,
          70,
          71,
          72,
          73,
          74,
          75,
          76,
          77,
          78,
          79,
          80,
          81,
          82,
          83,
          84,
          85,
          86,
          87,
          88,
          89,
          90,
          91,
          92,
          93,
          94,
          95,
          96,
          97,
          98,
          99,
          100,
          101,
          102,
          103,
          104,
          105,
          106,
          107,
          108,
          109,
          110,
          111,
          112,
          113,
          114,
          115,
          116,
          117,
          118,
          119,
          120,
          121,
          122,
          123,
          124,
          125,
          126,
          127,
          128,
          129,
          130,
          131,
          132,
          133,
          134,
          135,
          136,
          137,
          138,
          139,
          140,
          141,
          142,
          143,
          144,
          145,
          146,
          147,
          148,
          149
         ],
         "y": [
          19664.64,
          20975.616,
          22286.592,
          23597.568,
          24908.544,
          26219.52,
          27530.496,
          28841.472,
          30152.448,
          31463.424,
          32754.05,
          33959.426,
          35164.801999999996,
          36380.87,
          37708.130000000005,
          39042.53,
          40376.93,
          41711.33,
          43045.729999999996,
          44380.13,
          45714.53,
          47048.93,
          48383.33,
          49717.729999999996,
          51052.13,
          52386.53,
          53720.93,
          55055.33,
          56389.729999999996,
          57724.13,
          59058.53,
          60392.93,
          61727.33,
          63061.729999999996,
          64396.13,
          63070.125,
          64298.925,
          65527.725,
          66756.525,
          67985.32500000001,
          69214.125,
          70442.92499999999,
          71671.725,
          72900.525,
          74129.32500000001,
          75358.125,
          76586.92499999999,
          77815.725,
          79044.525,
          80273.32500000001,
          81502.125,
          82730.92499999999,
          83959.725,
          85188.525,
          86392.125,
          87582.525,
          88772.92499999999,
          89963.325,
          91153.725,
          92344.125,
          93534.525,
          94724.92499999999,
          90670.89,
          91803.69,
          92936.48999999999,
          94069.29000000001,
          95202.09,
          96334.89,
          94824.32999999999,
          95937.93,
          97051.53,
          98165.13,
          99278.73000000001,
          100392.33,
          101505.93000000001,
          102619.53,
          103733.13,
          104846.73000000001,
          105960.33,
          107073.93000000001,
          108187.53,
          109301.13,
          110414.73000000001,
          111528.33,
          112641.93000000001,
          113755.53,
          114869.13,
          115982.73000000001,
          117096.33,
          118209.93000000001,
          119323.53,
          120437.13,
          121550.73000000001,
          122664.33,
          123777.93,
          118841.24,
          119858.84000000001,
          120876.44,
          121894.04000000001,
          122911.64000000001,
          123929.24,
          124946.84000000001,
          125964.44,
          126982.04000000001,
          127999.64000000001,
          129017.23999999999,
          130034.84000000001,
          131052.44,
          132070.04,
          133087.64,
          134105.24,
          135122.84000000003,
          136140.44,
          137158.04,
          138175.64,
          139193.24,
          140210.84000000003,
          141228.44,
          142246.04,
          143263.64,
          144281.24,
          145298.84000000003,
          146316.44,
          147334.04,
          148351.64,
          149369.24,
          150386.84000000003,
          151404.44,
          152422.04,
          153439.64,
          154457.24,
          155474.84000000003,
          156492.44,
          157510.04,
          158527.64
         ]
        }
       ],
       "layout": {
        "template": {
         "data": {
          "bar": [
           {
            "error_x": {
             "color": "#2a3f5f"
            },
            "error_y": {
             "color": "#2a3f5f"
            },
            "marker": {
             "line": {
              "color": "#E5ECF6",
              "width": 0.5
             }
            },
            "type": "bar"
           }
          ],
          "barpolar": [
           {
            "marker": {
             "line": {
              "color": "#E5ECF6",
              "width": 0.5
             }
            },
            "type": "barpolar"
           }
          ],
          "carpet": [
           {
            "aaxis": {
             "endlinecolor": "#2a3f5f",
             "gridcolor": "white",
             "linecolor": "white",
             "minorgridcolor": "white",
             "startlinecolor": "#2a3f5f"
            },
            "baxis": {
             "endlinecolor": "#2a3f5f",
             "gridcolor": "white",
             "linecolor": "white",
             "minorgridcolor": "white",
             "startlinecolor": "#2a3f5f"
            },
            "type": "carpet"
           }
          ],
          "choropleth": [
           {
            "colorbar": {
             "outlinewidth": 0,
             "ticks": ""
            },
            "type": "choropleth"
           }
          ],
          "contour": [
           {
            "colorbar": {
             "outlinewidth": 0,
             "ticks": ""
            },
            "colorscale": [
             [
              0,
              "#0d0887"
             ],
             [
              0.1111111111111111,
              "#46039f"
             ],
             [
              0.2222222222222222,
              "#7201a8"
             ],
             [
              0.3333333333333333,
              "#9c179e"
             ],
             [
              0.4444444444444444,
              "#bd3786"
             ],
             [
              0.5555555555555556,
              "#d8576b"
             ],
             [
              0.6666666666666666,
              "#ed7953"
             ],
             [
              0.7777777777777778,
              "#fb9f3a"
             ],
             [
              0.8888888888888888,
              "#fdca26"
             ],
             [
              1,
              "#f0f921"
             ]
            ],
            "type": "contour"
           }
          ],
          "contourcarpet": [
           {
            "colorbar": {
             "outlinewidth": 0,
             "ticks": ""
            },
            "type": "contourcarpet"
           }
          ],
          "heatmap": [
           {
            "colorbar": {
             "outlinewidth": 0,
             "ticks": ""
            },
            "colorscale": [
             [
              0,
              "#0d0887"
             ],
             [
              0.1111111111111111,
              "#46039f"
             ],
             [
              0.2222222222222222,
              "#7201a8"
             ],
             [
              0.3333333333333333,
              "#9c179e"
             ],
             [
              0.4444444444444444,
              "#bd3786"
             ],
             [
              0.5555555555555556,
              "#d8576b"
             ],
             [
              0.6666666666666666,
              "#ed7953"
             ],
             [
              0.7777777777777778,
              "#fb9f3a"
             ],
             [
              0.8888888888888888,
              "#fdca26"
             ],
             [
              1,
              "#f0f921"
             ]
            ],
            "type": "heatmap"
           }
          ],
          "heatmapgl": [
           {
            "colorbar": {
             "outlinewidth": 0,
             "ticks": ""
            },
            "colorscale": [
             [
              0,
              "#0d0887"
             ],
             [
              0.1111111111111111,
              "#46039f"
             ],
             [
              0.2222222222222222,
              "#7201a8"
             ],
             [
              0.3333333333333333,
              "#9c179e"
             ],
             [
              0.4444444444444444,
              "#bd3786"
             ],
             [
              0.5555555555555556,
              "#d8576b"
             ],
             [
              0.6666666666666666,
              "#ed7953"
             ],
             [
              0.7777777777777778,
              "#fb9f3a"
             ],
             [
              0.8888888888888888,
              "#fdca26"
             ],
             [
              1,
              "#f0f921"
             ]
            ],
            "type": "heatmapgl"
           }
          ],
          "histogram": [
           {
            "marker": {
             "colorbar": {
              "outlinewidth": 0,
              "ticks": ""
             }
            },
            "type": "histogram"
           }
          ],
          "histogram2d": [
           {
            "colorbar": {
             "outlinewidth": 0,
             "ticks": ""
            },
            "colorscale": [
             [
              0,
              "#0d0887"
             ],
             [
              0.1111111111111111,
              "#46039f"
             ],
             [
              0.2222222222222222,
              "#7201a8"
             ],
             [
              0.3333333333333333,
              "#9c179e"
             ],
             [
              0.4444444444444444,
              "#bd3786"
             ],
             [
              0.5555555555555556,
              "#d8576b"
             ],
             [
              0.6666666666666666,
              "#ed7953"
             ],
             [
              0.7777777777777778,
              "#fb9f3a"
             ],
             [
              0.8888888888888888,
              "#fdca26"
             ],
             [
              1,
              "#f0f921"
             ]
            ],
            "type": "histogram2d"
           }
          ],
          "histogram2dcontour": [
           {
            "colorbar": {
             "outlinewidth": 0,
             "ticks": ""
            },
            "colorscale": [
             [
              0,
              "#0d0887"
             ],
             [
              0.1111111111111111,
              "#46039f"
             ],
             [
              0.2222222222222222,
              "#7201a8"
             ],
             [
              0.3333333333333333,
              "#9c179e"
             ],
             [
              0.4444444444444444,
              "#bd3786"
             ],
             [
              0.5555555555555556,
              "#d8576b"
             ],
             [
              0.6666666666666666,
              "#ed7953"
             ],
             [
              0.7777777777777778,
              "#fb9f3a"
             ],
             [
              0.8888888888888888,
              "#fdca26"
             ],
             [
              1,
              "#f0f921"
             ]
            ],
            "type": "histogram2dcontour"
           }
          ],
          "mesh3d": [
           {
            "colorbar": {
             "outlinewidth": 0,
             "ticks": ""
            },
            "type": "mesh3d"
           }
          ],
          "parcoords": [
           {
            "line": {
             "colorbar": {
              "outlinewidth": 0,
              "ticks": ""
             }
            },
            "type": "parcoords"
           }
          ],
          "scatter": [
           {
            "marker": {
             "colorbar": {
              "outlinewidth": 0,
              "ticks": ""
             }
            },
            "type": "scatter"
           }
          ],
          "scatter3d": [
           {
            "line": {
             "colorbar": {
              "outlinewidth": 0,
              "ticks": ""
             }
            },
            "marker": {
             "colorbar": {
              "outlinewidth": 0,
              "ticks": ""
             }
            },
            "type": "scatter3d"
           }
          ],
          "scattercarpet": [
           {
            "marker": {
             "colorbar": {
              "outlinewidth": 0,
              "ticks": ""
             }
            },
            "type": "scattercarpet"
           }
          ],
          "scattergeo": [
           {
            "marker": {
             "colorbar": {
              "outlinewidth": 0,
              "ticks": ""
             }
            },
            "type": "scattergeo"
           }
          ],
          "scattergl": [
           {
            "marker": {
             "colorbar": {
              "outlinewidth": 0,
              "ticks": ""
             }
            },
            "type": "scattergl"
           }
          ],
          "scattermapbox": [
           {
            "marker": {
             "colorbar": {
              "outlinewidth": 0,
              "ticks": ""
             }
            },
            "type": "scattermapbox"
           }
          ],
          "scatterpolar": [
           {
            "marker": {
             "colorbar": {
              "outlinewidth": 0,
              "ticks": ""
             }
            },
            "type": "scatterpolar"
           }
          ],
          "scatterpolargl": [
           {
            "marker": {
             "colorbar": {
              "outlinewidth": 0,
              "ticks": ""
             }
            },
            "type": "scatterpolargl"
           }
          ],
          "scatterternary": [
           {
            "marker": {
             "colorbar": {
              "outlinewidth": 0,
              "ticks": ""
             }
            },
            "type": "scatterternary"
           }
          ],
          "surface": [
           {
            "colorbar": {
             "outlinewidth": 0,
             "ticks": ""
            },
            "colorscale": [
             [
              0,
              "#0d0887"
             ],
             [
              0.1111111111111111,
              "#46039f"
             ],
             [
              0.2222222222222222,
              "#7201a8"
             ],
             [
              0.3333333333333333,
              "#9c179e"
             ],
             [
              0.4444444444444444,
              "#bd3786"
             ],
             [
              0.5555555555555556,
              "#d8576b"
             ],
             [
              0.6666666666666666,
              "#ed7953"
             ],
             [
              0.7777777777777778,
              "#fb9f3a"
             ],
             [
              0.8888888888888888,
              "#fdca26"
             ],
             [
              1,
              "#f0f921"
             ]
            ],
            "type": "surface"
           }
          ],
          "table": [
           {
            "cells": {
             "fill": {
              "color": "#EBF0F8"
             },
             "line": {
              "color": "white"
             }
            },
            "header": {
             "fill": {
              "color": "#C8D4E3"
             },
             "line": {
              "color": "white"
             }
            },
            "type": "table"
           }
          ]
         },
         "layout": {
          "annotationdefaults": {
           "arrowcolor": "#2a3f5f",
           "arrowhead": 0,
           "arrowwidth": 1
          },
          "colorscale": {
           "diverging": [
            [
             0,
             "#8e0152"
            ],
            [
             0.1,
             "#c51b7d"
            ],
            [
             0.2,
             "#de77ae"
            ],
            [
             0.3,
             "#f1b6da"
            ],
            [
             0.4,
             "#fde0ef"
            ],
            [
             0.5,
             "#f7f7f7"
            ],
            [
             0.6,
             "#e6f5d0"
            ],
            [
             0.7,
             "#b8e186"
            ],
            [
             0.8,
             "#7fbc41"
            ],
            [
             0.9,
             "#4d9221"
            ],
            [
             1,
             "#276419"
            ]
           ],
           "sequential": [
            [
             0,
             "#0d0887"
            ],
            [
             0.1111111111111111,
             "#46039f"
            ],
            [
             0.2222222222222222,
             "#7201a8"
            ],
            [
             0.3333333333333333,
             "#9c179e"
            ],
            [
             0.4444444444444444,
             "#bd3786"
            ],
            [
             0.5555555555555556,
             "#d8576b"
            ],
            [
             0.6666666666666666,
             "#ed7953"
            ],
            [
             0.7777777777777778,
             "#fb9f3a"
            ],
            [
             0.8888888888888888,
             "#fdca26"
            ],
            [
             1,
             "#f0f921"
            ]
           ],
           "sequentialminus": [
            [
             0,
             "#0d0887"
            ],
            [
             0.1111111111111111,
             "#46039f"
            ],
            [
             0.2222222222222222,
             "#7201a8"
            ],
            [
             0.3333333333333333,
             "#9c179e"
            ],
            [
             0.4444444444444444,
             "#bd3786"
            ],
            [
             0.5555555555555556,
             "#d8576b"
            ],
            [
             0.6666666666666666,
             "#ed7953"
            ],
            [
             0.7777777777777778,
             "#fb9f3a"
            ],
            [
             0.8888888888888888,
             "#fdca26"
            ],
            [
             1,
             "#f0f921"
            ]
           ]
          },
          "colorway": [
           "#636efa",
           "#EF553B",
           "#00cc96",
           "#ab63fa",
           "#FFA15A",
           "#19d3f3",
           "#FF6692",
           "#B6E880",
           "#FF97FF",
           "#FECB52"
          ],
          "font": {
           "color": "#2a3f5f"
          },
          "geo": {
           "bgcolor": "white",
           "lakecolor": "white",
           "landcolor": "#E5ECF6",
           "showlakes": true,
           "showland": true,
           "subunitcolor": "white"
          },
          "hoverlabel": {
           "align": "left"
          },
          "hovermode": "closest",
          "mapbox": {
           "style": "light"
          },
          "paper_bgcolor": "white",
          "plot_bgcolor": "#E5ECF6",
          "polar": {
           "angularaxis": {
            "gridcolor": "white",
            "linecolor": "white",
            "ticks": ""
           },
           "bgcolor": "#E5ECF6",
           "radialaxis": {
            "gridcolor": "white",
            "linecolor": "white",
            "ticks": ""
           }
          },
          "scene": {
           "xaxis": {
            "backgroundcolor": "#E5ECF6",
            "gridcolor": "white",
            "gridwidth": 2,
            "linecolor": "white",
            "showbackground": true,
            "ticks": "",
            "zerolinecolor": "white"
           },
           "yaxis": {
            "backgroundcolor": "#E5ECF6",
            "gridcolor": "white",
            "gridwidth": 2,
            "linecolor": "white",
            "showbackground": true,
            "ticks": "",
            "zerolinecolor": "white"
           },
           "zaxis": {
            "backgroundcolor": "#E5ECF6",
            "gridcolor": "white",
            "gridwidth": 2,
            "linecolor": "white",
            "showbackground": true,
            "ticks": "",
            "zerolinecolor": "white"
           }
          },
          "shapedefaults": {
           "line": {
            "color": "#2a3f5f"
           }
          },
          "ternary": {
           "aaxis": {
            "gridcolor": "white",
            "linecolor": "white",
            "ticks": ""
           },
           "baxis": {
            "gridcolor": "white",
            "linecolor": "white",
            "ticks": ""
           },
           "bgcolor": "#E5ECF6",
           "caxis": {
            "gridcolor": "white",
            "linecolor": "white",
            "ticks": ""
           }
          },
          "title": {
           "x": 0.05
          },
          "xaxis": {
           "automargin": true,
           "gridcolor": "white",
           "linecolor": "white",
           "ticks": "",
           "zerolinecolor": "white",
           "zerolinewidth": 2
          },
          "yaxis": {
           "automargin": true,
           "gridcolor": "white",
           "linecolor": "white",
           "ticks": "",
           "zerolinecolor": "white",
           "zerolinewidth": 2
          }
         }
        },
        "title": {
         "text": "Net Income vs Hourly Wage"
        },
        "xaxis": {
         "title": {
          "text": "Hourly Wage"
         }
        },
        "yaxis": {
         "title": {
          "text": "Income"
         }
        }
       }
      },
      "text/html": [
       "<div>\n",
       "        \n",
       "        \n",
       "            <div id=\"3f602208-d011-49e5-ae07-12b74b2fb14f\" class=\"plotly-graph-div\" style=\"height:525px; width:100%;\"></div>\n",
       "            <script type=\"text/javascript\">\n",
       "                require([\"plotly\"], function(Plotly) {\n",
       "                    window.PLOTLYENV=window.PLOTLYENV || {};\n",
       "                    \n",
       "                if (document.getElementById(\"3f602208-d011-49e5-ae07-12b74b2fb14f\")) {\n",
       "                    Plotly.newPlot(\n",
       "                        '3f602208-d011-49e5-ae07-12b74b2fb14f',\n",
       "                        [{\"name\": \"Net Income\", \"type\": \"scatter\", \"x\": [15, 16, 17, 18, 19, 20, 21, 22, 23, 24, 25, 26, 27, 28, 29, 30, 31, 32, 33, 34, 35, 36, 37, 38, 39, 40, 41, 42, 43, 44, 45, 46, 47, 48, 49, 50, 51, 52, 53, 54, 55, 56, 57, 58, 59, 60, 61, 62, 63, 64, 65, 66, 67, 68, 69, 70, 71, 72, 73, 74, 75, 76, 77, 78, 79, 80, 81, 82, 83, 84, 85, 86, 87, 88, 89, 90, 91, 92, 93, 94, 95, 96, 97, 98, 99, 100, 101, 102, 103, 104, 105, 106, 107, 108, 109, 110, 111, 112, 113, 114, 115, 116, 117, 118, 119, 120, 121, 122, 123, 124, 125, 126, 127, 128, 129, 130, 131, 132, 133, 134, 135, 136, 137, 138, 139, 140, 141, 142, 143, 144, 145, 146, 147, 148, 149], \"y\": [19664.64, 20975.616, 22286.592, 23597.568, 24908.544, 26219.52, 27530.496, 28841.472, 30152.448, 31463.424, 32754.05, 33959.426, 35164.801999999996, 36380.87, 37708.130000000005, 39042.53, 40376.93, 41711.33, 43045.729999999996, 44380.13, 45714.53, 47048.93, 48383.33, 49717.729999999996, 51052.13, 52386.53, 53720.93, 55055.33, 56389.729999999996, 57724.13, 59058.53, 60392.93, 61727.33, 63061.729999999996, 64396.13, 63070.125, 64298.925, 65527.725, 66756.525, 67985.32500000001, 69214.125, 70442.92499999999, 71671.725, 72900.525, 74129.32500000001, 75358.125, 76586.92499999999, 77815.725, 79044.525, 80273.32500000001, 81502.125, 82730.92499999999, 83959.725, 85188.525, 86392.125, 87582.525, 88772.92499999999, 89963.325, 91153.725, 92344.125, 93534.525, 94724.92499999999, 90670.89, 91803.69, 92936.48999999999, 94069.29000000001, 95202.09, 96334.89, 94824.32999999999, 95937.93, 97051.53, 98165.13, 99278.73000000001, 100392.33, 101505.93000000001, 102619.53, 103733.13, 104846.73000000001, 105960.33, 107073.93000000001, 108187.53, 109301.13, 110414.73000000001, 111528.33, 112641.93000000001, 113755.53, 114869.13, 115982.73000000001, 117096.33, 118209.93000000001, 119323.53, 120437.13, 121550.73000000001, 122664.33, 123777.93, 118841.24, 119858.84000000001, 120876.44, 121894.04000000001, 122911.64000000001, 123929.24, 124946.84000000001, 125964.44, 126982.04000000001, 127999.64000000001, 129017.23999999999, 130034.84000000001, 131052.44, 132070.04, 133087.64, 134105.24, 135122.84000000003, 136140.44, 137158.04, 138175.64, 139193.24, 140210.84000000003, 141228.44, 142246.04, 143263.64, 144281.24, 145298.84000000003, 146316.44, 147334.04, 148351.64, 149369.24, 150386.84000000003, 151404.44, 152422.04, 153439.64, 154457.24, 155474.84000000003, 156492.44, 157510.04, 158527.64]}],\n",
       "                        {\"template\": {\"data\": {\"bar\": [{\"error_x\": {\"color\": \"#2a3f5f\"}, \"error_y\": {\"color\": \"#2a3f5f\"}, \"marker\": {\"line\": {\"color\": \"#E5ECF6\", \"width\": 0.5}}, \"type\": \"bar\"}], \"barpolar\": [{\"marker\": {\"line\": {\"color\": \"#E5ECF6\", \"width\": 0.5}}, \"type\": \"barpolar\"}], \"carpet\": [{\"aaxis\": {\"endlinecolor\": \"#2a3f5f\", \"gridcolor\": \"white\", \"linecolor\": \"white\", \"minorgridcolor\": \"white\", \"startlinecolor\": \"#2a3f5f\"}, \"baxis\": {\"endlinecolor\": \"#2a3f5f\", \"gridcolor\": \"white\", \"linecolor\": \"white\", \"minorgridcolor\": \"white\", \"startlinecolor\": \"#2a3f5f\"}, \"type\": \"carpet\"}], \"choropleth\": [{\"colorbar\": {\"outlinewidth\": 0, \"ticks\": \"\"}, \"type\": \"choropleth\"}], \"contour\": [{\"colorbar\": {\"outlinewidth\": 0, \"ticks\": \"\"}, \"colorscale\": [[0.0, \"#0d0887\"], [0.1111111111111111, \"#46039f\"], [0.2222222222222222, \"#7201a8\"], [0.3333333333333333, \"#9c179e\"], [0.4444444444444444, \"#bd3786\"], [0.5555555555555556, \"#d8576b\"], [0.6666666666666666, \"#ed7953\"], [0.7777777777777778, \"#fb9f3a\"], [0.8888888888888888, \"#fdca26\"], [1.0, \"#f0f921\"]], \"type\": \"contour\"}], \"contourcarpet\": [{\"colorbar\": {\"outlinewidth\": 0, \"ticks\": \"\"}, \"type\": \"contourcarpet\"}], \"heatmap\": [{\"colorbar\": {\"outlinewidth\": 0, \"ticks\": \"\"}, \"colorscale\": [[0.0, \"#0d0887\"], [0.1111111111111111, \"#46039f\"], [0.2222222222222222, \"#7201a8\"], [0.3333333333333333, \"#9c179e\"], [0.4444444444444444, \"#bd3786\"], [0.5555555555555556, \"#d8576b\"], [0.6666666666666666, \"#ed7953\"], [0.7777777777777778, \"#fb9f3a\"], [0.8888888888888888, \"#fdca26\"], [1.0, \"#f0f921\"]], \"type\": \"heatmap\"}], \"heatmapgl\": [{\"colorbar\": {\"outlinewidth\": 0, \"ticks\": \"\"}, \"colorscale\": [[0.0, \"#0d0887\"], [0.1111111111111111, \"#46039f\"], [0.2222222222222222, \"#7201a8\"], [0.3333333333333333, \"#9c179e\"], [0.4444444444444444, \"#bd3786\"], [0.5555555555555556, \"#d8576b\"], [0.6666666666666666, \"#ed7953\"], [0.7777777777777778, \"#fb9f3a\"], [0.8888888888888888, \"#fdca26\"], [1.0, \"#f0f921\"]], \"type\": \"heatmapgl\"}], \"histogram\": [{\"marker\": {\"colorbar\": {\"outlinewidth\": 0, \"ticks\": \"\"}}, \"type\": \"histogram\"}], \"histogram2d\": [{\"colorbar\": {\"outlinewidth\": 0, \"ticks\": \"\"}, \"colorscale\": [[0.0, \"#0d0887\"], [0.1111111111111111, \"#46039f\"], [0.2222222222222222, \"#7201a8\"], [0.3333333333333333, \"#9c179e\"], [0.4444444444444444, \"#bd3786\"], [0.5555555555555556, \"#d8576b\"], [0.6666666666666666, \"#ed7953\"], [0.7777777777777778, \"#fb9f3a\"], [0.8888888888888888, \"#fdca26\"], [1.0, \"#f0f921\"]], \"type\": \"histogram2d\"}], \"histogram2dcontour\": [{\"colorbar\": {\"outlinewidth\": 0, \"ticks\": \"\"}, \"colorscale\": [[0.0, \"#0d0887\"], [0.1111111111111111, \"#46039f\"], [0.2222222222222222, \"#7201a8\"], [0.3333333333333333, \"#9c179e\"], [0.4444444444444444, \"#bd3786\"], [0.5555555555555556, \"#d8576b\"], [0.6666666666666666, \"#ed7953\"], [0.7777777777777778, \"#fb9f3a\"], [0.8888888888888888, \"#fdca26\"], [1.0, \"#f0f921\"]], \"type\": \"histogram2dcontour\"}], \"mesh3d\": [{\"colorbar\": {\"outlinewidth\": 0, \"ticks\": \"\"}, \"type\": \"mesh3d\"}], \"parcoords\": [{\"line\": {\"colorbar\": {\"outlinewidth\": 0, \"ticks\": \"\"}}, \"type\": \"parcoords\"}], \"scatter\": [{\"marker\": {\"colorbar\": {\"outlinewidth\": 0, \"ticks\": \"\"}}, \"type\": \"scatter\"}], \"scatter3d\": [{\"line\": {\"colorbar\": {\"outlinewidth\": 0, \"ticks\": \"\"}}, \"marker\": {\"colorbar\": {\"outlinewidth\": 0, \"ticks\": \"\"}}, \"type\": \"scatter3d\"}], \"scattercarpet\": [{\"marker\": {\"colorbar\": {\"outlinewidth\": 0, \"ticks\": \"\"}}, \"type\": \"scattercarpet\"}], \"scattergeo\": [{\"marker\": {\"colorbar\": {\"outlinewidth\": 0, \"ticks\": \"\"}}, \"type\": \"scattergeo\"}], \"scattergl\": [{\"marker\": {\"colorbar\": {\"outlinewidth\": 0, \"ticks\": \"\"}}, \"type\": \"scattergl\"}], \"scattermapbox\": [{\"marker\": {\"colorbar\": {\"outlinewidth\": 0, \"ticks\": \"\"}}, \"type\": \"scattermapbox\"}], \"scatterpolar\": [{\"marker\": {\"colorbar\": {\"outlinewidth\": 0, \"ticks\": \"\"}}, \"type\": \"scatterpolar\"}], \"scatterpolargl\": [{\"marker\": {\"colorbar\": {\"outlinewidth\": 0, \"ticks\": \"\"}}, \"type\": \"scatterpolargl\"}], \"scatterternary\": [{\"marker\": {\"colorbar\": {\"outlinewidth\": 0, \"ticks\": \"\"}}, \"type\": \"scatterternary\"}], \"surface\": [{\"colorbar\": {\"outlinewidth\": 0, \"ticks\": \"\"}, \"colorscale\": [[0.0, \"#0d0887\"], [0.1111111111111111, \"#46039f\"], [0.2222222222222222, \"#7201a8\"], [0.3333333333333333, \"#9c179e\"], [0.4444444444444444, \"#bd3786\"], [0.5555555555555556, \"#d8576b\"], [0.6666666666666666, \"#ed7953\"], [0.7777777777777778, \"#fb9f3a\"], [0.8888888888888888, \"#fdca26\"], [1.0, \"#f0f921\"]], \"type\": \"surface\"}], \"table\": [{\"cells\": {\"fill\": {\"color\": \"#EBF0F8\"}, \"line\": {\"color\": \"white\"}}, \"header\": {\"fill\": {\"color\": \"#C8D4E3\"}, \"line\": {\"color\": \"white\"}}, \"type\": \"table\"}]}, \"layout\": {\"annotationdefaults\": {\"arrowcolor\": \"#2a3f5f\", \"arrowhead\": 0, \"arrowwidth\": 1}, \"colorscale\": {\"diverging\": [[0, \"#8e0152\"], [0.1, \"#c51b7d\"], [0.2, \"#de77ae\"], [0.3, \"#f1b6da\"], [0.4, \"#fde0ef\"], [0.5, \"#f7f7f7\"], [0.6, \"#e6f5d0\"], [0.7, \"#b8e186\"], [0.8, \"#7fbc41\"], [0.9, \"#4d9221\"], [1, \"#276419\"]], \"sequential\": [[0.0, \"#0d0887\"], [0.1111111111111111, \"#46039f\"], [0.2222222222222222, \"#7201a8\"], [0.3333333333333333, \"#9c179e\"], [0.4444444444444444, \"#bd3786\"], [0.5555555555555556, \"#d8576b\"], [0.6666666666666666, \"#ed7953\"], [0.7777777777777778, \"#fb9f3a\"], [0.8888888888888888, \"#fdca26\"], [1.0, \"#f0f921\"]], \"sequentialminus\": [[0.0, \"#0d0887\"], [0.1111111111111111, \"#46039f\"], [0.2222222222222222, \"#7201a8\"], [0.3333333333333333, \"#9c179e\"], [0.4444444444444444, \"#bd3786\"], [0.5555555555555556, \"#d8576b\"], [0.6666666666666666, \"#ed7953\"], [0.7777777777777778, \"#fb9f3a\"], [0.8888888888888888, \"#fdca26\"], [1.0, \"#f0f921\"]]}, \"colorway\": [\"#636efa\", \"#EF553B\", \"#00cc96\", \"#ab63fa\", \"#FFA15A\", \"#19d3f3\", \"#FF6692\", \"#B6E880\", \"#FF97FF\", \"#FECB52\"], \"font\": {\"color\": \"#2a3f5f\"}, \"geo\": {\"bgcolor\": \"white\", \"lakecolor\": \"white\", \"landcolor\": \"#E5ECF6\", \"showlakes\": true, \"showland\": true, \"subunitcolor\": \"white\"}, \"hoverlabel\": {\"align\": \"left\"}, \"hovermode\": \"closest\", \"mapbox\": {\"style\": \"light\"}, \"paper_bgcolor\": \"white\", \"plot_bgcolor\": \"#E5ECF6\", \"polar\": {\"angularaxis\": {\"gridcolor\": \"white\", \"linecolor\": \"white\", \"ticks\": \"\"}, \"bgcolor\": \"#E5ECF6\", \"radialaxis\": {\"gridcolor\": \"white\", \"linecolor\": \"white\", \"ticks\": \"\"}}, \"scene\": {\"xaxis\": {\"backgroundcolor\": \"#E5ECF6\", \"gridcolor\": \"white\", \"gridwidth\": 2, \"linecolor\": \"white\", \"showbackground\": true, \"ticks\": \"\", \"zerolinecolor\": \"white\"}, \"yaxis\": {\"backgroundcolor\": \"#E5ECF6\", \"gridcolor\": \"white\", \"gridwidth\": 2, \"linecolor\": \"white\", \"showbackground\": true, \"ticks\": \"\", \"zerolinecolor\": \"white\"}, \"zaxis\": {\"backgroundcolor\": \"#E5ECF6\", \"gridcolor\": \"white\", \"gridwidth\": 2, \"linecolor\": \"white\", \"showbackground\": true, \"ticks\": \"\", \"zerolinecolor\": \"white\"}}, \"shapedefaults\": {\"line\": {\"color\": \"#2a3f5f\"}}, \"ternary\": {\"aaxis\": {\"gridcolor\": \"white\", \"linecolor\": \"white\", \"ticks\": \"\"}, \"baxis\": {\"gridcolor\": \"white\", \"linecolor\": \"white\", \"ticks\": \"\"}, \"bgcolor\": \"#E5ECF6\", \"caxis\": {\"gridcolor\": \"white\", \"linecolor\": \"white\", \"ticks\": \"\"}}, \"title\": {\"x\": 0.05}, \"xaxis\": {\"automargin\": true, \"gridcolor\": \"white\", \"linecolor\": \"white\", \"ticks\": \"\", \"zerolinecolor\": \"white\", \"zerolinewidth\": 2}, \"yaxis\": {\"automargin\": true, \"gridcolor\": \"white\", \"linecolor\": \"white\", \"ticks\": \"\", \"zerolinecolor\": \"white\", \"zerolinewidth\": 2}}}, \"title\": {\"text\": \"Net Income vs Hourly Wage\"}, \"xaxis\": {\"title\": {\"text\": \"Hourly Wage\"}}, \"yaxis\": {\"title\": {\"text\": \"Income\"}}},\n",
       "                        {\"responsive\": true}\n",
       "                    ).then(function(){\n",
       "                            \n",
       "var gd = document.getElementById('3f602208-d011-49e5-ae07-12b74b2fb14f');\n",
       "var x = new MutationObserver(function (mutations, observer) {{\n",
       "        var display = window.getComputedStyle(gd).display;\n",
       "        if (!display || display === 'none') {{\n",
       "            console.log([gd, 'removed!']);\n",
       "            Plotly.purge(gd);\n",
       "            observer.disconnect();\n",
       "        }}\n",
       "}});\n",
       "\n",
       "// Listen for the removal of the full notebook cells\n",
       "var notebookContainer = gd.closest('#notebook-container');\n",
       "if (notebookContainer) {{\n",
       "    x.observe(notebookContainer, {childList: true});\n",
       "}}\n",
       "\n",
       "// Listen for the clearing of the current output cell\n",
       "var outputEl = gd.closest('.output');\n",
       "if (outputEl) {{\n",
       "    x.observe(outputEl, {childList: true});\n",
       "}}\n",
       "\n",
       "                        })\n",
       "                };\n",
       "                });\n",
       "            </script>\n",
       "        </div>"
      ]
     },
     "metadata": {},
     "output_type": "display_data"
    }
   ],
   "source": [
    "def calculateFederalTax(income):\n",
    "    taxBrackets = [47630, 95259, 147667, 210371]\n",
    "    taxRates = [.15, .205, .26, .29, .33]\n",
    "    taxes = []\n",
    "    for i in range(0, len(taxBrackets)):\n",
    "        taxes.append(taxBrackets[i] * taxRates[i])\n",
    "    if income < taxBrackets[0]:\n",
    "        tax = income * taxRates[0]\n",
    "    elif income < taxBrackets[1]:\n",
    "        tax = taxes[0] + (income - taxBrackets[0]) * taxRates[1]\n",
    "    elif income < taxBrackets[2]:\n",
    "        tax = taxes[1] + (income - taxBrackets[1]) * taxRates[2]\n",
    "    elif income < taxBrackets[3]:\n",
    "        tax = taxes[2] + (income - taxBrackets[2]) * taxRates[3]\n",
    "    else:\n",
    "        tax = taxes[3] + (income - taxBrackets[3]) * taxRates[4]\n",
    "    return tax\n",
    "\n",
    "def calculateProvincialTax(income):\n",
    "    taxBrackets = [131220, 157464, 209952, 314928] # for Alberta\n",
    "    taxRates = [.1, .12, .13, .14, .15]\n",
    "    taxes = []\n",
    "    for i in range(0, len(taxBrackets)):\n",
    "        taxes.append(taxBrackets[i] * taxRates[i])\n",
    "    if income < taxBrackets[0]:\n",
    "        tax = income * taxRates[0]\n",
    "    elif income < taxBrackets[1]:\n",
    "        tax = taxes[0] + (income - taxBrackets[0]) * taxRates[1]\n",
    "    elif income < taxBrackets[2]:\n",
    "        tax = taxes[1] + (income - taxBrackets[1]) * taxRates[2]\n",
    "    elif income < taxBrackets[3]:\n",
    "        tax = taxes[2] + (income - taxBrackets[2]) * taxRates[3]\n",
    "    else:\n",
    "        tax = taxes[3] + (income - taxBrackets[3]) * taxRates[4]\n",
    "    return tax\n",
    "\n",
    "def calcuateEI(income):\n",
    "    eiMaxInsurableEarnings = 53100\n",
    "    eiRate = 0.0162\n",
    "    if income >= eiMaxInsurableEarnings:\n",
    "        eiPremium = eiMaxInsurableEarnings * eiRate\n",
    "    else:\n",
    "        eiPremium = income * eiRate\n",
    "    return eiPremium\n",
    "\n",
    "def calculateCPP(income):\n",
    "    cppMaxContributoryEarnings = 53900\n",
    "    cppRate = 0.051\n",
    "    if income >= cppMaxContributoryEarnings:\n",
    "        cppPremium = cppMaxContributoryEarnings * cppRate\n",
    "    else:\n",
    "        cppPremium = income * cppRate\n",
    "    return cppPremium\n",
    "\n",
    "wages = []\n",
    "grossIncomes = []\n",
    "netIncomes = []\n",
    "for wage in range(15, 150):\n",
    "    wages.append(wage)\n",
    "    grossAnnualIncome = wage * 8 * 240\n",
    "    grossIncomes.append(grossAnnualIncome)\n",
    "    incomeTax = calculateFederalTax(grossAnnualIncome) + calculateProvincialTax(grossAnnualIncome)\n",
    "    eiPremium = calcuateEI(grossAnnualIncome)\n",
    "    cppPremium = calculateCPP(grossAnnualIncome)\n",
    "    netIncome = grossAnnualIncome - (incomeTax + eiPremium + cppPremium)\n",
    "    netIncomes.append(netIncome)\n",
    "\n",
    "import plotly.graph_objects as go\n",
    "fig = go.Figure()\n",
    "#fig.add_trace(go.Scatter(x=wages, y=grossIncomes, name='Gross Income'))\n",
    "fig.add_trace(go.Scatter(x=wages, y=netIncomes, name='Net Income'))\n",
    "fig.update_layout(\n",
    "    title=go.layout.Title(text='Net Income vs Hourly Wage'),\n",
    "    xaxis=go.layout.XAxis(title=go.layout.xaxis.Title(text='Hourly Wage')),\n",
    "    yaxis=go.layout.YAxis(title=go.layout.yaxis.Title(text='Income')))\n",
    "fig.show()"
   ]
  },
  {
   "cell_type": "markdown",
   "metadata": {},
   "source": [
    "### Accomodation Options\n",
    "\n",
    "Using [Kijiji](https://www.kijiji.ca) or other internet sources, investigate each of the following options and add information to the cells."
   ]
  },
  {
   "cell_type": "markdown",
   "metadata": {},
   "source": [
    "#### Apartment\n",
    "Advantages:\n",
    "1. \n",
    "2. \n",
    "3. \n",
    "\n",
    "Disadvantages:\n",
    "1. \n",
    "2. \n",
    "3. \n",
    "\n",
    "Approximate cost per month: "
   ]
  },
  {
   "cell_type": "markdown",
   "metadata": {},
   "source": [
    "#### Townhouse or Duplex\n",
    "Advantages:\n",
    "1. \n",
    "2. \n",
    "3. \n",
    "\n",
    "Disadvantages:\n",
    "1. \n",
    "2. \n",
    "3. \n",
    "\n",
    "Approximate cost per month: "
   ]
  },
  {
   "cell_type": "markdown",
   "metadata": {},
   "source": [
    "#### Single Detached House\n",
    "Advantages:\n",
    "1. \n",
    "2. \n",
    "3. \n",
    "\n",
    "Disadvantages:\n",
    "1. \n",
    "2. \n",
    "3. \n",
    "\n",
    "Approximate cost per month: "
   ]
  },
  {
   "cell_type": "markdown",
   "metadata": {},
   "source": [
    "The best choice of housing for a retired couple with no children who do not want to cut grass or do other maintenance is _______ because"
   ]
  },
  {
   "cell_type": "markdown",
   "metadata": {},
   "source": [
    "The best choice of housing for a middle-aged couple with two small children who what room for children and friends to visit is _______ because"
   ]
  },
  {
   "cell_type": "markdown",
   "metadata": {},
   "source": [
    "The best choice of housing for a young couple with a small child is _______ because"
   ]
  },
  {
   "cell_type": "markdown",
   "metadata": {},
   "source": [
    "The best choice of housing for a young, single person who travels frequently for work is _______ because"
   ]
  },
  {
   "cell_type": "markdown",
   "metadata": {},
   "source": [
    "The type of home I picture myself in when I decide to move out is (be descriptive)"
   ]
  },
  {
   "cell_type": "markdown",
   "metadata": {},
   "source": [
    "For the purpose of this project you will consider rental properties only. Find an online listing for a suitable place to rent and include a screenshot below.\n",
    "\n",
    "Carefully read the listing to see if any untilities are included, as well as the amount of the damage deposit or security deposit. You will need that information later in this assignment."
   ]
  },
  {
   "cell_type": "markdown",
   "metadata": {},
   "source": [
    "## Expenses\n",
    "Expenses are the money that you spend on necessary or desired goods and services.\n",
    "\n",
    "Some expenses can be decreased by having a roommate. For the purposes of this project you may **not** choose to have more than one roommate.\n",
    "\n",
    "Complete the statements in the cells below."
   ]
  },
  {
   "cell_type": "markdown",
   "metadata": {},
   "source": [
    "Four advantages of living on my own are:\n",
    "1. \n",
    "2. \n",
    "3. \n",
    "4. "
   ]
  },
  {
   "cell_type": "markdown",
   "metadata": {},
   "source": [
    "Four disadvantages of living on my own are:\n",
    "1. \n",
    "2. \n",
    "3. \n",
    "4. "
   ]
  },
  {
   "cell_type": "markdown",
   "metadata": {},
   "source": [
    "Four advantages of living with a roommate are:\n",
    "1. \n",
    "2. \n",
    "3. \n",
    "4. "
   ]
  },
  {
   "cell_type": "markdown",
   "metadata": {},
   "source": [
    "Four disadvantages of living with a roommate are:\n",
    "1. \n",
    "2. \n",
    "3. \n",
    "4. "
   ]
  },
  {
   "cell_type": "markdown",
   "metadata": {},
   "source": [
    "My decision is to live (on my own / with a roommate) because "
   ]
  },
  {
   "cell_type": "markdown",
   "metadata": {},
   "source": [
    "Four essential characteristics of a roommate are:\n",
    "1. \n",
    "2. \n",
    "3. \n",
    "4. "
   ]
  },
  {
   "cell_type": "markdown",
   "metadata": {},
   "source": [
    "### Calculating Housing Expenses\n",
    "Follow the instructions in the code below, then run the cell to calculate your monthly housing expenses."
   ]
  },
  {
   "cell_type": "code",
   "execution_count": 18,
   "metadata": {},
   "outputs": [
    {
     "name": "stdout",
     "output_type": "stream",
     "text": [
      "Your monthly costs will be approximately $ 1364.58\n",
      "This is 70.2 % of your net income.\n"
     ]
    }
   ],
   "source": [
    "rent = 900\n",
    "\n",
    "# change this to 1 if you plan to have a roommate\n",
    "roommate = 0\n",
    "\n",
    "# Natural Gas is hard to estimate, depending on different circumstances, but rough guidelines are:\n",
    "#  Average 1200 sq. ft. house - $94 per month\n",
    "#  New energy efficient average home (1200 sq. ft.) - $67 per month\n",
    "#  Large new home (1800 sq. ft.) - $90 per month\n",
    "#  Larger older home with heated garage - $128 per month\n",
    "# enter 0 if this is included in your rent\n",
    "heating = 94\n",
    "\n",
    "# Electricity:\n",
    "#  an average two-bedroom apartment will cost about $50 per month\n",
    "#  a small 1100 square foot home with the usual appliances will cost $75 per month\n",
    "#  a large home with many appliances, a hot tub, and air conditioning will cost over $120 per month\n",
    "electricity = 75\n",
    "\n",
    "# Water and Waste will be about 60 for an apartment, 100 for a house\n",
    "waterAndWaste = 100\n",
    "\n",
    "# Tenant Insurance: each individual must have their own tenant insurance to cover their belongings\n",
    "# in case of fire, theft, flooding, or natural disaster. Landlords have insurance on the building\n",
    "# but not on your personal possessions. Use the following chart to estimate how much you would pay:\n",
    "#  Value    Annual Premium (we will divide this by 12 to get the monthly cost)\n",
    "#  $10,000  $92\n",
    "#  $20,000  $159\n",
    "#  $30,000  $208\n",
    "#  $40,000  $268\n",
    "#  $50,000  $305\n",
    "#  $60,000  $367\n",
    "tenantInsurance = 367 / 12\n",
    "\n",
    "# TV and Internet Access: check out Shaw and Telus to see what plans are available\n",
    "internet = 100\n",
    "\n",
    "# Mobile Phone: check out various service providers and choose a plan\n",
    "phone = 65\n",
    "\n",
    "# Now you've finished adjusting the code, run the cell to calculate your monthly housing costs\n",
    "if roommate == 1:\n",
    "    monthlyCosts = (rent + heating + electricity + waterAndWaste + internet) / 2 + tenantInsurance + phone\n",
    "else:\n",
    "    monthlyCosts = rent + heating + electricity + waterAndWaste + tenantInsurance + phone + internet\n",
    "\n",
    "print('Your monthly costs will be approximately $', '{:.2f}'.format(monthlyCosts))\n",
    "print('This is', '{:.1f}'.format(monthlyCosts / netIncome * 100), '% of your net income.')\n",
    "\n",
    "# consider adding a pie chart of expenses, perhaps with sliders for each value"
   ]
  },
  {
   "cell_type": "markdown",
   "metadata": {},
   "source": [
    "## Moving Expenses\n",
    "As well as the monthly expenses there are one-time moving expenses to consider:"
   ]
  },
  {
   "cell_type": "code",
   "execution_count": 65,
   "metadata": {},
   "outputs": [
    {
     "name": "stdout",
     "output_type": "stream",
     "text": [
      "Moving expenses will be about $  3045\n"
     ]
    }
   ],
   "source": [
    "# Security / Damage Deposit: this is usually equal to one month's rent.\n",
    "#  You can get your deposit back when you move out if you take care of your home.\n",
    "#  Some landlords charge a non-refundable pet fee.\n",
    "damageDeposit = rent\n",
    "petFee = 0\n",
    "\n",
    "# If you plan to have a pet, estimate the cost of the pet, toys, furniture, etc.\n",
    "petPurchase = 1000\n",
    "\n",
    "# There are sometimes utility activation or hookup costs\n",
    "electricalActivation = 10\n",
    "naturalGasActivation = 10\n",
    "waterActivation = 0\n",
    "internetActivation = 0\n",
    "mobilePhoneActivitation = 25\n",
    "\n",
    "mobilePhonePurchase = 300\n",
    "\n",
    "furnitureAndAppliances = 500\n",
    "\n",
    "movingCosts = 300\n",
    "\n",
    "# Now run the cell to add up expenses\n",
    "if roommate == 1:\n",
    "    movingExpenses = (\n",
    "        damageDeposit + \n",
    "        electricalActivation + \n",
    "        naturalGasActivation + \n",
    "        waterActivation + \n",
    "        internetActivation + \n",
    "        furnitureAndAppliances\n",
    "        ) / 2 + mobilePhoneActivitation + mobilePhonePurchase + movingCosts + petFee + petPurchase\n",
    "else:\n",
    "    movingExpenses = (\n",
    "        damageDeposit +\n",
    "        electricalActivation + \n",
    "        naturalGasActivation + \n",
    "        waterActivation + \n",
    "        internetActivation + \n",
    "        furnitureAndAppliances + \n",
    "        mobilePhoneActivitation + \n",
    "        mobilePhonePurchase + \n",
    "        movingCosts + \n",
    "        petFee + \n",
    "        petPurchase\n",
    "        )\n",
    "\n",
    "print('Moving expenses will be about $', movingExpenses)"
   ]
  },
  {
   "cell_type": "markdown",
   "metadata": {},
   "source": [
    "### Transportation"
   ]
  },
  {
   "cell_type": "markdown",
   "metadata": {},
   "source": []
  },
  {
   "cell_type": "markdown",
   "metadata": {},
   "source": [
    "### Food and Household Supplies"
   ]
  },
  {
   "cell_type": "markdown",
   "metadata": {},
   "source": []
  },
  {
   "cell_type": "markdown",
   "metadata": {},
   "source": [
    "### Clothing"
   ]
  },
  {
   "cell_type": "markdown",
   "metadata": {},
   "source": []
  },
  {
   "cell_type": "markdown",
   "metadata": {},
   "source": [
    "### Household Maintenance and Furnishings"
   ]
  },
  {
   "cell_type": "markdown",
   "metadata": {},
   "source": []
  },
  {
   "cell_type": "markdown",
   "metadata": {},
   "source": [
    "### Charitable Donations and Gifts"
   ]
  },
  {
   "cell_type": "markdown",
   "metadata": {},
   "source": []
  },
  {
   "cell_type": "markdown",
   "metadata": {},
   "source": [
    "### Other Insurance"
   ]
  },
  {
   "cell_type": "markdown",
   "metadata": {},
   "source": []
  },
  {
   "cell_type": "markdown",
   "metadata": {},
   "source": [
    "### Healthcare and Hygene"
   ]
  },
  {
   "cell_type": "markdown",
   "metadata": {},
   "source": []
  },
  {
   "cell_type": "markdown",
   "metadata": {},
   "source": [
    "### Recreation and Entertainment"
   ]
  },
  {
   "cell_type": "markdown",
   "metadata": {},
   "source": []
  },
  {
   "cell_type": "markdown",
   "metadata": {},
   "source": [
    "### Savings and Investments"
   ]
  },
  {
   "cell_type": "markdown",
   "metadata": {},
   "source": []
  },
  {
   "cell_type": "markdown",
   "metadata": {},
   "source": [
    "### Miscellaneous"
   ]
  },
  {
   "cell_type": "markdown",
   "metadata": {},
   "source": []
  },
  {
   "cell_type": "markdown",
   "metadata": {},
   "source": [
    "### Calculating Other Monthly Expenses\n",
    "Input your numbers from above to calculate your other monthly expenses and compare to your net income."
   ]
  },
  {
   "cell_type": "code",
   "execution_count": 74,
   "metadata": {},
   "outputs": [
    {
     "name": "stdout",
     "output_type": "stream",
     "text": [
      "Your other costs will be about $ 600\n",
      "Your monthly total costs will be approximately $ 1964.58\n",
      "This is 116.1 % of your net income.\n",
      "With these expenses you will be overspending by $ 271.90 each month.\n"
     ]
    }
   ],
   "source": [
    "# Groceries\n",
    "groceries = 150\n",
    "\n",
    "# Eating out\n",
    "restaurants = 100\n",
    "\n",
    "# Clothing\n",
    "clothing = 100\n",
    "\n",
    "# Bus pass or car, insurance, gas, maintenance\n",
    "transportation = 150\n",
    "\n",
    "# If you plan to have a pet, Wealthsimple estimates that a dog costs about $100 to $180 per month\n",
    "#  and a cat maybe about half of that\n",
    "petCosts = 100\n",
    "\n",
    "# Run the cell and we'll calculate costs. Hopefully this is less than 100% of your income\n",
    "otherCosts = groceries + restaurants + clothing + transportation + petCosts\n",
    "print('Your other costs will be about $', otherCosts)\n",
    "totalCosts = monthlyCosts + otherCosts\n",
    "print('Your monthly total costs will be approximately $','{:.2f}'.format(totalCosts))\n",
    "print('This is', '{:.1f}'.format(totalCosts / netIncome * 100), '% of your net income.')\n",
    "difference = netIncome - totalCosts\n",
    "if difference > 0:\n",
    "    print('This means that you will have $', difference, 'left at the end of each month.')\n",
    "else:\n",
    "    print('With these expenses you will be overspending by $', '{:.2f}'.format(abs(difference)), 'each month.')"
   ]
  },
  {
   "cell_type": "markdown",
   "metadata": {},
   "source": [
    "## Summary\n",
    "\n",
    "Can you afford your lifestyle? If no then what can you change to have a balanced budget? If yes, what will you do with the excess money?"
   ]
  },
  {
   "cell_type": "markdown",
   "metadata": {},
   "source": []
  },
  {
   "cell_type": "markdown",
   "metadata": {},
   "source": [
    "What have you learned from this project?"
   ]
  },
  {
   "cell_type": "markdown",
   "metadata": {},
   "source": []
  },
  {
   "cell_type": "markdown",
   "metadata": {},
   "source": []
  },
  {
   "cell_type": "markdown",
   "metadata": {},
   "source": []
  },
  {
   "cell_type": "markdown",
   "metadata": {},
   "source": []
  },
  {
   "cell_type": "markdown",
   "metadata": {},
   "source": []
  },
  {
   "cell_type": "markdown",
   "metadata": {},
   "source": [
    "## Representing Expenses Versus Home Size\n",
    "\n",
    "Let's make a bar graph to visualize the approximate monthly expenses for different home sizes. Feel free to change some of the values if necessary."
   ]
  },
  {
   "cell_type": "code",
   "execution_count": 23,
   "metadata": {},
   "outputs": [
    {
     "data": {
      "text/plain": [
       "<BarContainer object of 4 artists>"
      ]
     },
     "execution_count": 23,
     "metadata": {},
     "output_type": "execute_result"
    },
    {
     "data": {
      "image/png": "[encoded data removed]",
      "text/plain": [
       "<Figure size 432x288 with 1 Axes>"
      ]
     },
     "metadata": {
      "needs_background": "light"
     },
     "output_type": "display_data"
    }
   ],
   "source": [
    "def calculateExpenses(size):\n",
    "    phone = 65\n",
    "    internet = 100\n",
    "    if size == 'apartment':\n",
    "        rent = 900\n",
    "        heating = 0\n",
    "        electricity = 50\n",
    "        waterAndWaste = 0\n",
    "    if size == 'townhouse':\n",
    "        rent = 1200\n",
    "        heating = 67\n",
    "        electricity = 75\n",
    "        waterAndWaste = 100\n",
    "    if size == 'medium house':\n",
    "        rent = 1500\n",
    "        heating = 100\n",
    "        electricity = 75\n",
    "        waterAndWaste = 100\n",
    "    if size == 'large house':\n",
    "        rent = 2000\n",
    "        heating = 125\n",
    "        electricity = 100\n",
    "        waterAndWaste = 100\n",
    "    expenses = rent + heating + electricity + waterAndWaste + tenantInsurance + phone + internet\n",
    "    return(expenses)\n",
    "\n",
    "homeSizes = ['apartment', 'townhouse', 'medium house', 'large house']\n",
    "expensesList = []\n",
    "for size in homeSizes:\n",
    "    expensesList.append(calculateExpenses(size))\n",
    "\n",
    "%matplotlib inline\n",
    "import matplotlib.pyplot as plt\n",
    "plt.bar(homeSizes, expensesList)"
   ]
  },
  {
   "cell_type": "markdown",
   "metadata": {},
   "source": [
    "# Cost of Items over Time"
   ]
  },
  {
   "cell_type": "code",
   "execution_count": 57,
   "metadata": {},
   "outputs": [
    {
     "data": {
      "text/plain": [
       "[<matplotlib.lines.Line2D at 0x119ebe3c8>]"
      ]
     },
     "execution_count": 57,
     "metadata": {},
     "output_type": "execute_result"
    },
    {
     "data": {
      "image/png": "[encoded data removed]",
      "text/plain": [
       "<Figure size 432x288 with 1 Axes>"
      ]
     },
     "metadata": {
      "needs_background": "light"
     },
     "output_type": "display_data"
    }
   ],
   "source": [
    "costOfItem1 = 1200\n",
    "costOfItem2 = 600\n",
    "buyItem2Every = 4\n",
    "interestRate = 0.04  # 4%\n",
    "\n",
    "def futureCost(initialCost, years, interestRate):\n",
    "    cost = initialCost * (1 + interestRate) ** years\n",
    "    return(cost)\n",
    "\n",
    "item1 = []\n",
    "item2 = []\n",
    "for years in range(0, 11):\n",
    "    item1.append(futureCost(costOfItem1, years, interestRate))\n",
    "    if years > buyItem2Every:\n",
    "        if years > buyItem2Every*2:\n",
    "            item2.append(futureCost(costOfItem2, years, interestRate) + costOfItem2*2)\n",
    "        else:\n",
    "            item2.append(futureCost(costOfItem2, years, interestRate) + costOfItem2)\n",
    "    else:\n",
    "        item2.append(futureCost(costOfItem2, years, interestRate))\n",
    "    \n",
    "        \n",
    "%matplotlib inline\n",
    "import matplotlib.pyplot as plt\n",
    "plt.plot(item1)\n",
    "plt.plot(item2)"
   ]
  },
  {
   "cell_type": "markdown",
   "metadata": {},
   "source": [
    "![alt text](https://github.com/callysto/callysto-sample-notebooks/blob/master/notebooks/images/Callysto_Notebook-Banners_Bottom_06.06.18.jpg?raw=true)"
   ]
  }
 ],
 "metadata": {
  "kernelspec": {
   "display_name": "Python 3",
   "language": "python",
   "name": "python3"
  },
  "language_info": {
   "codemirror_mode": {
    "name": "ipython",
    "version": 3
   },
   "file_extension": ".py",
   "mimetype": "text/x-python",
   "name": "python",
   "nbconvert_exporter": "python",
   "pygments_lexer": "ipython3",
   "version": "3.7.3"
  }
 },
 "nbformat": 4,
 "nbformat_minor": 2
}

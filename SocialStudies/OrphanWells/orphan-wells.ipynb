{
 "cells": [
  {
   "cell_type": "markdown",
   "metadata": {},
   "source": [
    "# Orphan Wells in Alberta\n",
    "\n",
    "\n",
    "\n",
    "Data from [orphanwell.ca](https://www.orphanwell.ca/about/orphan-inventory) as of 2021-12-14.\n",
    "\n",
    "The Orphan Well Association or OWA makes no representation, warranties, or guarantees, expressed or implied, for the fitness of the data with respect to its use. The OWA is not responsible for any costs incurred from use of the information in this list.\n",
    "\n",
    "The AER Licence Details Report includes multiple events for individual wells in order to report production. Therefore there will be more entries than number of wells. Users of this list are advised that it does not necessarily reflect the current inventory of orphan wells held by the OWA and users are responsible for confirming any information used.\n",
    "\n",
    "https://www.wellwiki.org/wiki/Special:AlbertaAdvancedWellSearch"
   ]
  },
  {
   "cell_type": "code",
   "execution_count": 2,
   "metadata": {},
   "outputs": [
    {
     "data": {
      "text/html": [
       "<div>\n",
       "<style scoped>\n",
       "    .dataframe tbody tr th:only-of-type {\n",
       "        vertical-align: middle;\n",
       "    }\n",
       "\n",
       "    .dataframe tbody tr th {\n",
       "        vertical-align: top;\n",
       "    }\n",
       "\n",
       "    .dataframe thead th {\n",
       "        text-align: right;\n",
       "    }\n",
       "</style>\n",
       "<table border=\"1\" class=\"dataframe\">\n",
       "  <thead>\n",
       "    <tr style=\"text-align: right;\">\n",
       "      <th></th>\n",
       "      <th>Unique Well Identifier</th>\n",
       "      <th>Status</th>\n",
       "      <th>Surface Latitude</th>\n",
       "      <th>Surface Longitude</th>\n",
       "    </tr>\n",
       "  </thead>\n",
       "  <tbody>\n",
       "    <tr>\n",
       "      <th>0</th>\n",
       "      <td>100/01-01-021-27W4/0</td>\n",
       "      <td>Closed</td>\n",
       "      <td>50.747744</td>\n",
       "      <td>-113.610782</td>\n",
       "    </tr>\n",
       "    <tr>\n",
       "      <th>1</th>\n",
       "      <td>100/16-36-020-27W4/0</td>\n",
       "      <td>Closed</td>\n",
       "      <td>50.747742</td>\n",
       "      <td>-113.611065</td>\n",
       "    </tr>\n",
       "    <tr>\n",
       "      <th>2</th>\n",
       "      <td>100/13-31-001-18W4/0</td>\n",
       "      <td>Active</td>\n",
       "      <td>49.087051</td>\n",
       "      <td>-112.410697</td>\n",
       "    </tr>\n",
       "    <tr>\n",
       "      <th>3</th>\n",
       "      <td>100/01-01-012-13W4/0</td>\n",
       "      <td>Active</td>\n",
       "      <td>49.963746</td>\n",
       "      <td>-111.647497</td>\n",
       "    </tr>\n",
       "    <tr>\n",
       "      <th>4</th>\n",
       "      <td>100/16-36-016-25W4/0</td>\n",
       "      <td>Closed</td>\n",
       "      <td>50.397926</td>\n",
       "      <td>-113.304177</td>\n",
       "    </tr>\n",
       "    <tr>\n",
       "      <th>...</th>\n",
       "      <td>...</td>\n",
       "      <td>...</td>\n",
       "      <td>...</td>\n",
       "      <td>...</td>\n",
       "    </tr>\n",
       "    <tr>\n",
       "      <th>8678</th>\n",
       "      <td>100/16-36-060-15W4/0</td>\n",
       "      <td>Closed</td>\n",
       "      <td>54.235706</td>\n",
       "      <td>-112.105920</td>\n",
       "    </tr>\n",
       "    <tr>\n",
       "      <th>8679</th>\n",
       "      <td>100/16-36-065-23W4/0</td>\n",
       "      <td>Active</td>\n",
       "      <td>54.673830</td>\n",
       "      <td>-113.337140</td>\n",
       "    </tr>\n",
       "    <tr>\n",
       "      <th>8680</th>\n",
       "      <td>100/16-36-065-27W4/3</td>\n",
       "      <td>Closed</td>\n",
       "      <td>54.673794</td>\n",
       "      <td>-113.938961</td>\n",
       "    </tr>\n",
       "    <tr>\n",
       "      <th>8681</th>\n",
       "      <td>100/16-36-066-24W4/0</td>\n",
       "      <td>Closed</td>\n",
       "      <td>54.762023</td>\n",
       "      <td>-113.486038</td>\n",
       "    </tr>\n",
       "    <tr>\n",
       "      <th>8682</th>\n",
       "      <td>100/16-36-085-11W5/2</td>\n",
       "      <td>Active</td>\n",
       "      <td>56.418826</td>\n",
       "      <td>-115.587351</td>\n",
       "    </tr>\n",
       "  </tbody>\n",
       "</table>\n",
       "<p>8683 rows × 4 columns</p>\n",
       "</div>"
      ],
      "text/plain": [
       "     Unique Well Identifier  Status  Surface Latitude  Surface Longitude\n",
       "0      100/01-01-021-27W4/0  Closed         50.747744        -113.610782\n",
       "1      100/16-36-020-27W4/0  Closed         50.747742        -113.611065\n",
       "2      100/13-31-001-18W4/0  Active         49.087051        -112.410697\n",
       "3      100/01-01-012-13W4/0  Active         49.963746        -111.647497\n",
       "4      100/16-36-016-25W4/0  Closed         50.397926        -113.304177\n",
       "...                     ...     ...               ...                ...\n",
       "8678   100/16-36-060-15W4/0  Closed         54.235706        -112.105920\n",
       "8679   100/16-36-065-23W4/0  Active         54.673830        -113.337140\n",
       "8680   100/16-36-065-27W4/3  Closed         54.673794        -113.938961\n",
       "8681   100/16-36-066-24W4/0  Closed         54.762023        -113.486038\n",
       "8682   100/16-36-085-11W5/2  Active         56.418826        -115.587351\n",
       "\n",
       "[8683 rows x 4 columns]"
      ]
     },
     "execution_count": 2,
     "metadata": {},
     "output_type": "execute_result"
    }
   ],
   "source": [
    "import pandas as pd\n",
    "try:\n",
    "    df = pd.read_csv('./orphan-wells-alberta.csv')\n",
    "except:\n",
    "    df = pd.read_csv('') # GitHub link here\n",
    "df"
   ]
  },
  {
   "cell_type": "markdown",
   "metadata": {},
   "source": [
    "There are 8683 rows in this data set, which means that 8683 orphan wells have been identified in Alberta.\n",
    "\n",
    "We can also check how many wells there are in the data set with each \"Status\"."
   ]
  },
  {
   "cell_type": "code",
   "execution_count": 12,
   "metadata": {},
   "outputs": [
    {
     "name": "stdout",
     "output_type": "stream",
     "text": [
      "Closed 6639\n",
      "Active 2044\n"
     ]
    }
   ],
   "source": [
    "for status in df['Status'].unique():\n",
    "    print(status, df[df['Status'] == status].shape[0])"
   ]
  },
  {
   "cell_type": "markdown",
   "metadata": {},
   "source": []
  },
  {
   "cell_type": "code",
   "execution_count": null,
   "metadata": {},
   "outputs": [],
   "source": []
  },
  {
   "cell_type": "code",
   "execution_count": null,
   "metadata": {},
   "outputs": [],
   "source": [
    "import folium\n",
    "from folium.plugins import MarkerCluster\n",
    "m = folium.Map(location=[53.5,-114], zoom_start=5)\n",
    "mc = MarkerCluster()\n",
    "for i, row in df.iterrows():\n",
    "    if row['Status'] == 'Closed':\n",
    "        color = 'red'\n",
    "    else:\n",
    "        color = 'blue'\n",
    "    mc.add_child(folium.Marker(location=[row['Surface Latitude'],row['Surface Longitude']],tooltip=row['Unique Well Identifier']+' '+row['Status'],icon=folium.Icon(color=color)))\n",
    "m.add_child(mc)\n",
    "m"
   ]
  },
  {
   "cell_type": "code",
   "execution_count": 1,
   "metadata": {},
   "outputs": [
    {
     "name": "stdout",
     "output_type": "stream",
     "text": [
      "https://docs.google.com/spreadsheets/d/1iM7SC-UqAHPpPnXCT3X8hxVuZV0KD7CpaUGr13JbVoc/export?gid=77886383&format=csv\n"
     ]
    }
   ],
   "source": [
    "spreadsheet_key = '1iM7SC-UqAHPpPnXCT3X8hxVuZV0KD7CpaUGr13JbVoc'\n",
    "spreadsheet_gid = '77886383'\n",
    "\n",
    "import pandas as pd\n",
    "csv_link = 'https://docs.google.com/spreadsheets/d/'+spreadsheet_key+'/export?gid='+spreadsheet_gid+'&format=csv'\n",
    "print(csv_link)"
   ]
  },
  {
   "cell_type": "code",
   "execution_count": null,
   "metadata": {},
   "outputs": [],
   "source": [
    "# without marker clusters, this is terrible\n",
    "\n",
    "spreadsheet_key = '1iM7SC-UqAHPpPnXCT3X8hxVuZV0KD7CpaUGr13JbVoc'\n",
    "spreadsheet_gid = '77886383'\n",
    "\n",
    "import pandas as pd\n",
    "csv_link = 'https://docs.google.com/spreadsheets/d/'+spreadsheet_key+'/export?gid='+spreadsheet_gid+'&format=csv'\n",
    "df = pd.read_csv(csv_link)\n",
    "\n",
    "import folium\n",
    "from folium.plugins import MarkerCluster\n",
    "m = folium.Map(location=[53.5,-114], zoom_start=5)\n",
    "mc = MarkerCluster()\n",
    "for i, row in df.iterrows():\n",
    "    if row['Status'] == 'Closed':\n",
    "        color = 'red'\n",
    "    else:\n",
    "        color = 'blue'\n",
    "    folium.Marker(location=[row['Surface Latitude'],row['Surface Longitude']],tooltip=row['Unique Well Identifier']+' '+row['Status'],icon=folium.Icon(color=color)).add_to(m)\n",
    "m"
   ]
  },
  {
   "cell_type": "code",
   "execution_count": null,
   "metadata": {},
   "outputs": [],
   "source": []
  },
  {
   "cell_type": "code",
   "execution_count": null,
   "metadata": {},
   "outputs": [],
   "source": []
  },
  {
   "cell_type": "code",
   "execution_count": null,
   "metadata": {},
   "outputs": [],
   "source": []
  },
  {
   "cell_type": "code",
   "execution_count": null,
   "metadata": {},
   "outputs": [],
   "source": [
    "url = 'https://www.wellwiki.org/wiki/Special:AlbertaAdvancedWellSearch?operatorfiltertype=matches&operatorfiltervalue=&countyfiltertype=matches&countyfiltervalue=&datefiltertype=matches&datefiltervalue=&licensefiltertype=matches&licensefiltervalue=Abandoned&meridianfiltertype=matches&meridianfiltervalue=&townshipfiltertype=matches&townshipfiltervalue=&rangefiltertype=matches&rangefiltervalue=&sectionfiltertype=matches&sectionfiltervalue=&pagenum=&pagesize=100000'\n",
    "\n",
    "import pandas as pd\n",
    "df = pd.read_html(url)[1]\n",
    "df.columns = ['UWI','Operator','County/Municipality','Meridian','Township','Range','Section','License Date','License Status']\n",
    "df['Latitude'] = ''\n",
    "df['Longitude'] = ''\n",
    "df"
   ]
  },
  {
   "cell_type": "code",
   "execution_count": null,
   "metadata": {},
   "outputs": [],
   "source": [
    "df.to_csv('abandoned-wells.csv')"
   ]
  },
  {
   "cell_type": "code",
   "execution_count": null,
   "metadata": {},
   "outputs": [],
   "source": []
  },
  {
   "cell_type": "code",
   "execution_count": null,
   "metadata": {},
   "outputs": [],
   "source": [
    "%%time\n",
    "for i, row in df.head(100).iterrows():\n",
    "    well_id = row[0]\n",
    "    loc = pd.read_html('https://www.wellwiki.org/wiki/'+well_id)[0][0]\n",
    "    lat = loc[19].split(': ')[1]\n",
    "    lon = loc[20].split(': ')[1]\n",
    "    df.loc[[i],['Latitude']] = lat\n",
    "    df.loc[[i],['Longitude']] = lon\n",
    "df.head(10)"
   ]
  },
  {
   "cell_type": "code",
   "execution_count": null,
   "metadata": {},
   "outputs": [],
   "source": [
    "import folium\n",
    "from folium.plugins import MarkerCluster\n",
    "m = folium.Map(location=[53.5,-114], zoom_start=5)\n",
    "mc = MarkerCluster()\n",
    "for row in df.head(100).itertuples():\n",
    "    mc.add_child(folium.Marker(location=[row.Latitude,row.Longitude], tooltip=row.UWI))\n",
    "m.add_child(mc)\n",
    "m"
   ]
  },
  {
   "cell_type": "code",
   "execution_count": null,
   "metadata": {},
   "outputs": [],
   "source": []
  },
  {
   "cell_type": "code",
   "execution_count": null,
   "metadata": {},
   "outputs": [],
   "source": [
    "UWI = '0104181914002'\n",
    "TWP = UWI[:3]\n",
    "Meridian = UWI[3:4]\n",
    "Range = UWI[4:6]\n",
    "Section = UWI[6:8]\n",
    "LSD = UWI[8:10] # not sure about this one\n",
    "print('Meridian',Meridian)\n",
    "print('TWP',TWP)\n",
    "print('Range',Range)\n",
    "print('Section',Section)\n",
    "print('LSD',LSD)"
   ]
  }
 ],
 "metadata": {
  "kernelspec": {
   "display_name": "Python 3",
   "language": "python",
   "name": "python3"
  },
  "language_info": {
   "codemirror_mode": {
    "name": "ipython",
    "version": 3
   },
   "file_extension": ".py",
   "mimetype": "text/x-python",
   "name": "python",
   "nbconvert_exporter": "python",
   "pygments_lexer": "ipython3",
   "version": "3.8.3"
  }
 },
 "nbformat": 4,
 "nbformat_minor": 4
}

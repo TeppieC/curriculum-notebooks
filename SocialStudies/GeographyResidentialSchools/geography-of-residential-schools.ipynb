{
 "cells": [
  {
   "cell_type": "markdown",
   "metadata": {},
   "source": [
    "![Callysto.ca Banner](https://github.com/callysto/curriculum-notebooks/blob/master/callysto-notebook-banner-top.jpg?raw=true)\n",
    "\n",
    "<a href=\"https://hub.callysto.ca/jupyter/hub/user-redirect/git-pull?repo=https%3A%2F%2Fgithub.com%2Fcallysto%2Fcurriculum-notebooks&branch=master&subPath=SocialStudies/GeographyResidentialSchools/geography-of-residential-schools.ipynb&depth=1\" target=\"_parent\"><img src=\"https://raw.githubusercontent.com/callysto/curriculum-notebooks/master/open-in-callysto-button.svg?sanitize=true\" width=\"123\" height=\"24\" alt=\"Open in Callysto\"/></a>"
   ]
  },
  {
   "cell_type": "code",
   "execution_count": 1,
   "metadata": {},
   "outputs": [
    {
     "data": {
      "text/html": [
       "\n",
       "<script>\n",
       "  function code_toggle() {\n",
       "    if (code_shown){\n",
       "      $('div.input').hide('500');\n",
       "      $('#toggleButton').val('Show Code')\n",
       "    } else {\n",
       "      $('div.input').show('500');\n",
       "      $('#toggleButton').val('Hide Code')\n",
       "    }\n",
       "    code_shown = !code_shown\n",
       "  }\n",
       "  \n",
       "  $( document ).ready(function(){\n",
       "    code_shown=false;\n",
       "    $('div.input').hide()\n",
       "  });\n",
       "</script>\n",
       "<form action=\"javascript:code_toggle()\"><input type=\"submit\" id=\"toggleButton\" value=\"Show Code\"></form>\n"
      ],
      "text/plain": [
       "<IPython.core.display.HTML object>"
      ]
     },
     "metadata": {},
     "output_type": "display_data"
    }
   ],
   "source": [
    "%%html\n",
    "\n",
    "<script>\n",
    "  function code_toggle() {\n",
    "    if (code_shown){\n",
    "      $('div.input').hide('500');\n",
    "      $('#toggleButton').val('Show Code')\n",
    "    } else {\n",
    "      $('div.input').show('500');\n",
    "      $('#toggleButton').val('Hide Code')\n",
    "    }\n",
    "    code_shown = !code_shown\n",
    "  }\n",
    "  \n",
    "  $( document ).ready(function(){\n",
    "    code_shown=false;\n",
    "    $('div.input').hide()\n",
    "  });\n",
    "</script>\n",
    "<form action=\"javascript:code_toggle()\"><input type=\"submit\" id=\"toggleButton\" value=\"Show Code\"></form>"
   ]
  },
  {
   "cell_type": "markdown",
   "metadata": {},
   "source": [
    "# Canada's Residential Schools"
   ]
  },
  {
   "cell_type": "markdown",
   "metadata": {},
   "source": [
    "The [Truth and Reconciliation Commission of Canada](https://www.rcaanc-cirnac.gc.ca/eng/1450124405592/1529106060525) [(TRC)](http://www.trc.ca) was created in 2008 to bring  to light the experiences of Indigenous students in residential schools. In December 2015, TRC came up with the final report which gave in detail the history of residential schools, their devastating legacy and the abuse left by these residential schools. The intention of this notebook is to bring awareness about the residential schools and to know about the past associated with this country which will help in understanding why it is important to be supportive and inclusive of different groups of people, launguages and cultures."
   ]
  },
  {
   "cell_type": "markdown",
   "metadata": {},
   "source": [
    "## What is a residential school?"
   ]
  },
  {
   "cell_type": "markdown",
   "metadata": {},
   "source": [
    "![Study time in residential school](images/study-time.jpg)\n",
    "<center>Study time in a residential school.</center>\n",
    "<center>Source: Library and Archives Canada, PA-042133</center>"
   ]
  },
  {
   "cell_type": "markdown",
   "metadata": {},
   "source": [
    "The Canadian government in the 19th century decided that it was responsible for providing education and care for the aboriginal people of the country in order to assimilate them into the Canadian society. The government believed that the only way to achieve this is by separating the students from their families and denying access to their own culture, language, and traditions. The government also believed that the best chance of success for these students was to learn English and to adopt Christianity and Canadian customs. This way the students will pass on the newly adopted lifestyle, language and culture to their children which would completely abolish the native traditions in a few generations.\n",
    "\n",
    "In order to put these into action, the Canadian government developed a policy called \"aggressive assimilation\" to be taught at the government-funded educational institutions which were church-run and provided the Indigenous children with rudimentary training in the trades and agriculture. The government believed that the children were easier to mold than adults and the concept of boarding school with compulsory attendance where children were separated from their families and communities was the best way to prepare them for life in the mainstream society."
   ]
  },
  {
   "cell_type": "markdown",
   "metadata": {},
   "source": [
    "## Students at the residential school"
   ]
  },
  {
   "cell_type": "markdown",
   "metadata": {},
   "source": [
    "It is estimated that about 150,000 First Nation, Inuit, and Métis children attended these residential schools. \n",
    "\n",
    "**Métis:** Métis Nation's political organization, The Métis National Council (MNC), defines “Metis” as: “a person who self-identifies as Métis, is distinct from other Aboriginal Peoples, is of historic Métis Nation ancestry and who is accepted by the Métis Nation.” Métis people are a mix of European and Indigenous ancestry who trace their origin to Red River valley and the prairies including Ontario, British Columbia, the Northwest Territories and the northern United States.\n",
    "\n",
    "**Inuit:** Inhabitants of North American Arctic, covering a distance of 6,000 kilometres from the Bering Strait to East Greenland were termed as Inuit, which simply means \"the people\". Inuit also live in northern Alaska, Greenland and some even in Russia who have culturally common heritage and a common language. The term \"Eskimo\" was used to identify the Inuit people until recently.\n",
    "\n",
    "**First Nations:** A term used to refer to about 1.3 million Aboriginal people in Canada who are not Métis or Inuit and who are the original inhabitants of the land that is now called Canada. There are [634 First nations governments or band ](https://en.wikipedia.org/wiki/List_of_First_Nations_governments) in Canada, who speak more than 50 different languages."
   ]
  },
  {
   "cell_type": "markdown",
   "metadata": {},
   "source": [
    "### Questions\n",
    "\n",
    "1. Identify two recognized First nations governments in your province."
   ]
  },
  {
   "cell_type": "markdown",
   "metadata": {},
   "source": [
    "## Issues at residential schools"
   ]
  },
  {
   "cell_type": "markdown",
   "metadata": {},
   "source": [
    "### Quality of Education:"
   ]
  },
  {
   "cell_type": "markdown",
   "metadata": {},
   "source": [
    "The quality of education and skills that were taught at the residential schools were generally substandard. The students were often trained for menial labor positions that many were not able to adapt or function in an urban setting."
   ]
  },
  {
   "cell_type": "markdown",
   "metadata": {},
   "source": [
    "### Language, Values, beliefs, culture and traditions:"
   ]
  },
  {
   "cell_type": "markdown",
   "metadata": {},
   "source": [
    "The schools were increasingly run by well-established churches in Canada, which meant the students were exposed to Christian values, beliefs, and traditions. The students were not allowed to wear traditional clothing or accessories. They were given uniform clothing (mostly of substandard quality) and a number or a Christian name. Children were punished if they were found using their traditional names, which further separated the children from their culture and idenitities.\n",
    "\n",
    "Students were encouraged to speak in either English or French and were restrained from speaking their first language or even practice any native traditions. The students were belittled and punished when they were found speaking in their first language or practicing their traditions. As a result of this students were deprived of speaking and learning their first language and made them feel like they didn't belong in their own family whenever they went back to their reserves and made them feel ashamed of their native heritage. Without the knowledge of their first language comes the loss of the ability to understand the teachings and stories that were passed down in Indigenous cultures that value oral tradition."
   ]
  },
  {
   "cell_type": "markdown",
   "metadata": {},
   "source": [
    "### Separation from family:"
   ]
  },
  {
   "cell_type": "markdown",
   "metadata": {},
   "source": [
    "Attendance was initially voluntary but later the government became more stringent and attendance was made compulsory. The idea was to separate the children as far away as possible from their family and communities to sever connections to their roots. Students never got to experience the normal life outside these schools as most students in these residential schools spent almost 10months of a year in the school, away from their parents; some even stayed all year round. Students were also forced to have all correspondence sent to their parents be written in English, which many parents couldn't read, which further broke ties with their families."
   ]
  },
  {
   "cell_type": "markdown",
   "metadata": {},
   "source": [
    "### Poor nutrition:"
   ]
  },
  {
   "cell_type": "markdown",
   "metadata": {},
   "source": [
    "Dr. Peter Bryce reported in 1907, medical inspector for the Department of Indian affairs, found that the students were not given nutritious food, the living conditions were often very poor and the schools were overcrowded. It was also noted that the school buildings were often poorly constructed with bad ventilation and poor heating which paved way for various disease outbreaks."
   ]
  },
  {
   "cell_type": "markdown",
   "metadata": {},
   "source": [
    "### Abuse:"
   ]
  },
  {
   "cell_type": "markdown",
   "metadata": {},
   "source": [
    "Students were often subject to emotional, physical and sexual abuse. Since the schools were overcrowded the students did not receive any personal attention and the lack of love or care from family and the fear of being punished for making mistakes contributed to long-term depression, anxiety, and disconnect. About half of the 80,000 survivors of the residential school system reported of being seriously abused either physically or sexually. These cases went unreported or often ignored by the institutions in order to save their own face than protecting the children."
   ]
  },
  {
   "cell_type": "markdown",
   "metadata": {},
   "source": [
    "### Missing or gone:"
   ]
  },
  {
   "cell_type": "markdown",
   "metadata": {},
   "source": [
    "Many students tried to escape these residential schools, the harsh punishments and abuse to be back with their parents often risking their own lives without supplies, help or proper clothing. Children were often caught by officials and brought back to the schools to be severely punished. A number of children even lost their lives trying to escape the horrible conditions to return to their loved ones."
   ]
  },
  {
   "cell_type": "markdown",
   "metadata": {},
   "source": [
    "### Questions\n",
    "\n",
    "1. Can you relate a time where a relative passed on a particular skill to you?\n",
    "2. Can you relate a story that has been passed down to you from an older generation that you would be able to tell the next generation? What part(s) of the story offer a learning aspect?"
   ]
  },
  {
   "cell_type": "markdown",
   "metadata": {},
   "source": [
    "### Activity"
   ]
  },
  {
   "cell_type": "markdown",
   "metadata": {},
   "source": [
    "Below is a video interview of one of the survivors of the residential school system. Watch the video carefully and answer the questions that follow.\n",
    "\n",
    "Video source: http://www.cbc.ca/player/play/1178497603731/"
   ]
  },
  {
   "cell_type": "code",
   "execution_count": 2,
   "metadata": {},
   "outputs": [
    {
     "data": {
      "text/html": [
       "\n",
       "        <iframe\n",
       "            width=\"640\"\n",
       "            height=\"360\"\n",
       "            src=\"https://www.cbc.ca/i/caffeine/syndicate/?mediaId=1178497603731\"\n",
       "            frameborder=\"0\"\n",
       "            allowfullscreen\n",
       "        ></iframe>\n",
       "        "
      ],
      "text/plain": [
       "<IPython.lib.display.IFrame at 0x7ff42f797d50>"
      ]
     },
     "execution_count": 2,
     "metadata": {},
     "output_type": "execute_result"
    }
   ],
   "source": [
    "from IPython.display import IFrame\n",
    "IFrame(src=\"https://www.cbc.ca/i/caffeine/syndicate/?mediaId=1178497603731\", width=\"640\", height=\"360\")"
   ]
  },
  {
   "cell_type": "markdown",
   "metadata": {},
   "source": [
    "### Questions\n",
    "\n",
    "1. What key issues did Wanbdi discuss in the video? ( Choose all that apply: Anger, physical abuse, flight, poor nutrition, racism, pride, mental abuse)\n",
    "\n",
    "2. What consequences did Wanbdi face for running away from residential school?\n",
    "\n",
    "3. What are his recommendations to Canadians on reconciliation?"
   ]
  },
  {
   "cell_type": "markdown",
   "metadata": {},
   "source": [
    "## Geographic locations of residential schools"
   ]
  },
  {
   "cell_type": "markdown",
   "metadata": {},
   "source": [
    "![Mohawk School](images/mohawk-school.jpg)\n",
    "<center>The first residential school - Mohawk Institute Residential School in Ontario</center>\n",
    "<center>Source: Library and Archives Canada</center>"
   ]
  },
  {
   "cell_type": "markdown",
   "metadata": {},
   "source": [
    "In order to understand and acknowledge the truth behind these devastating residential schools, it is important to know the locations of such schools. From this, we can understand how and where it all began, which was the first residential school and how the idea quickly progressed to other provinces. Knowing the history of the place you live is important to give the respect that the place and people that belong to that place deserve and also critical to form meaningful relationships with them."
   ]
  },
  {
   "cell_type": "markdown",
   "metadata": {},
   "source": [
    "To begin with we first download open data set available at http://hesperus-wild.org/GIS_carto/IRS.html that contains the locations and other information about the residential schools."
   ]
  },
  {
   "cell_type": "code",
   "execution_count": 4,
   "metadata": {},
   "outputs": [
    {
     "name": "stdout",
     "output_type": "stream",
     "text": [
      "Collecting fastkml\n",
      "  Downloading fastkml-0.11.tar.gz (66 kB)\n",
      "\u001b[K     |████████████████████████████████| 66 kB 1.1 MB/s eta 0:00:011\n",
      "\u001b[?25hCollecting pygeoif\n",
      "  Downloading pygeoif-0.7.tar.gz (34 kB)\n",
      "Requirement already satisfied: python-dateutil in /Users/davidhay/opt/anaconda3/lib/python3.7/site-packages (from fastkml) (2.8.1)\n",
      "Requirement already satisfied: six>=1.5 in /Users/davidhay/opt/anaconda3/lib/python3.7/site-packages (from python-dateutil->fastkml) (1.14.0)\n",
      "Building wheels for collected packages: fastkml, pygeoif\n",
      "  Building wheel for fastkml (setup.py) ... \u001b[?25ldone\n",
      "\u001b[?25h  Created wheel for fastkml: filename=fastkml-0.11-py3-none-any.whl size=61864 sha256=b96daedfc69ba232d1c2b1768a79c8f89a8ed51b7ba02cbc80f01e48b5d5a8d7\n",
      "  Stored in directory: /Users/davidhay/Library/Caches/pip/wheels/40/5b/cc/f1e6b46274d5ebe229555ffd2e2cdbd0cf9781a2acea9ae005\n",
      "  Building wheel for pygeoif (setup.py) ... \u001b[?25ldone\n",
      "\u001b[?25h  Created wheel for pygeoif: filename=pygeoif-0.7-py3-none-any.whl size=19247 sha256=25bd3509a6b1378bb8169ba0926808bc5bf2753a4927fdeac93e29f69d897ea7\n",
      "  Stored in directory: /Users/davidhay/Library/Caches/pip/wheels/4a/84/19/a1fcaf92f8f57a424eca18e2d8c03d149436806b91474bcb89\n",
      "Successfully built fastkml pygeoif\n",
      "Installing collected packages: pygeoif, fastkml\n",
      "Successfully installed fastkml-0.11 pygeoif-0.7\n"
     ]
    },
    {
     "ename": "ModuleNotFoundError",
     "evalue": "No module named 'chart_studio'",
     "output_type": "error",
     "traceback": [
      "\u001b[0;31m---------------------------------------------------------------------------\u001b[0m",
      "\u001b[0;31mModuleNotFoundError\u001b[0m                       Traceback (most recent call last)",
      "\u001b[0;32m<ipython-input-4-df1edb42f2b3>\u001b[0m in \u001b[0;36m<module>\u001b[0;34m\u001b[0m\n\u001b[1;32m      7\u001b[0m \u001b[0;32mfrom\u001b[0m \u001b[0mplotly\u001b[0m\u001b[0;34m.\u001b[0m\u001b[0moffline\u001b[0m \u001b[0;32mimport\u001b[0m \u001b[0minit_notebook_mode\u001b[0m\u001b[0;34m,\u001b[0m \u001b[0miplot\u001b[0m\u001b[0;34m\u001b[0m\u001b[0;34m\u001b[0m\u001b[0m\n\u001b[1;32m      8\u001b[0m \u001b[0;32mimport\u001b[0m \u001b[0mplotly\u001b[0m\u001b[0;34m.\u001b[0m\u001b[0mgraph_objs\u001b[0m \u001b[0;32mas\u001b[0m \u001b[0mgo\u001b[0m\u001b[0;34m\u001b[0m\u001b[0;34m\u001b[0m\u001b[0m\n\u001b[0;32m----> 9\u001b[0;31m \u001b[0;32mimport\u001b[0m \u001b[0mchart_studio\u001b[0m\u001b[0;34m.\u001b[0m\u001b[0mplotly\u001b[0m \u001b[0;32mas\u001b[0m \u001b[0mpy\u001b[0m\u001b[0;34m\u001b[0m\u001b[0;34m\u001b[0m\u001b[0m\n\u001b[0m\u001b[1;32m     10\u001b[0m \u001b[0minit_notebook_mode\u001b[0m\u001b[0;34m(\u001b[0m\u001b[0mconnected\u001b[0m\u001b[0;34m=\u001b[0m\u001b[0;32mTrue\u001b[0m\u001b[0;34m)\u001b[0m\u001b[0;34m\u001b[0m\u001b[0;34m\u001b[0m\u001b[0m\n\u001b[1;32m     11\u001b[0m \u001b[0;34m\u001b[0m\u001b[0m\n",
      "\u001b[0;31mModuleNotFoundError\u001b[0m: No module named 'chart_studio'"
     ]
    }
   ],
   "source": [
    "!pip install fastkml --user\n",
    "from fastkml import  kml\n",
    "from lxml import etree\n",
    "import pandas as pd\n",
    "import pandas as pd\n",
    "import matplotlib.pyplot as plt\n",
    "from plotly.offline import init_notebook_mode, iplot\n",
    "import plotly.graph_objs as go\n",
    "import chart_studio.plotly as py\n",
    "init_notebook_mode(connected=True)\n",
    "\n",
    "kml_file = 'data/IRS.kml'\n",
    "myfile = open(kml_file, 'rt', encoding='utf-8')\n",
    "doc = myfile.read().encode('utf-8')\n",
    "\n",
    "k = kml.KML()\n",
    "k.from_string(doc)\n",
    "\n",
    "for doc in k.features():\n",
    "    for folder in doc.features():\n",
    "        value_dict = []\n",
    "        for plcm in folder.features():\n",
    "            for schema_data in plcm.extended_data.elements:\n",
    "                data_dict ={}\n",
    "                for data in schema_data.data:\n",
    "                    data_dict[data['name']] = data['value']               \n",
    "            value_dict.append(data_dict)                       \n",
    "\n",
    "residential_df = pd.DataFrame(value_dict)\n",
    "residential_df['Longitude'] = pd.to_numeric(residential_df['Longitude'],errors='ignore')\n",
    "residential_df['Latitude'] = pd.to_numeric(residential_df['Latitude'],errors='ignore')\n",
    "residential_df"
   ]
  },
  {
   "cell_type": "code",
   "execution_count": 5,
   "metadata": {},
   "outputs": [
    {
     "data": {
      "text/plain": [
       "b'<?xml version=\"1.0\" encoding=\"utf-8\" ?>\\n<kml xmlns=\"http://www.opengis.net/kml/2.2\">\\n<Document><Folder><name>IRS_KIB</name>\\n  <Placemark>\\n\\t<name>Assumption (Hay Lakes), Assumption, Alberta</name>\\n\\t<ExtendedData><SchemaData schemaUrl=\"#IRS_KIB\">\\n\\t\\t<SimpleData name=\"School_num\">1</SimpleData>\\n\\t\\t<SimpleData name=\"Province o\">Alberta</SimpleData>\\n\\t\\t<SimpleData name=\"From\">1951</SimpleData>\\n\\t\\t<SimpleData name=\"To\">1974</SimpleData>\\n\\t\\t<SimpleData name=\"Descriptio\">Chateh, AB: Lot 1, north of Sousa creek</SimpleData>\\n\\t\\t<SimpleData name=\"Longitude\">-118.691153999999997</SimpleData>\\n\\t\\t<SimpleData name=\"Latitude\">58.704324999999997</SimpleData>\\n\\t\\t<SimpleData name=\"Location p\">0.000000000000000</SimpleData>\\n\\t\\t<SimpleData name=\"Reference\">Plan 51954 CLSR AB</SimpleData>\\n\\t\\t<SimpleData name=\"Religious\">Roman Catholic</SimpleData>\\n\\t\\t<SimpleData name=\"Atlas_pg\">1</SimpleData>\\n\\t\\t<SimpleData name=\"map_name\">Assumption</SimpleData>\\n\\t\\t<SimpleData name=\"atlas_pg_s\">001</SimpleData>\\n\\t</SchemaData></ExtendedData>\\n      <Point><coordinates>-118.691154,58.704325</coordinates></Point>\\n  </Placemark>\\n  <Placemark>\\n\\t<name>Blue Quills (Saddle Lake, Sacred Heart, formerly Lac la Biche), St. Paul, Alberta</name>\\n\\t<ExtendedData><SchemaData schemaUrl=\"#IRS_KIB\">\\n\\t\\t<SimpleData name=\"School_num\">2</SimpleData>\\n\\t\\t<SimpleData name=\"Province o\">Alberta</SimpleData>\\n\\t\\t<SimpleData name=\"From\">1898</SimpleData>\\n\\t\\t<SimpleData name=\"To\">1931</SimpleData>\\n\\t\\t<SimpleData name=\"Descriptio\">Present locations of the Onchimnahoos School in Saddle Lake, AB</SimpleData>\\n\\t\\t<SimpleData name=\"Longitude\">-111.689611999999997</SimpleData>\\n\\t\\t<SimpleData name=\"Latitude\">53.968387999999997</SimpleData>\\n\\t\\t<SimpleData name=\"Location p\">0.000000000000000</SimpleData>\\n\\t\\t<SimpleData name=\"Reference\">Plan 63063 CLSR AB</SimpleData>\\n\\t\\t<SimpleData name=\"Religious\">Roman Catholic</SimpleData>\\n\\t\\t<SimpleData name=\"Atlas_pg\">2</SimpleData>\\n\\t\\t<SimpleData name=\"map_name\">Blue Quills Boarding School</SimpleData>\\n\\t\\t<SimpleData name=\"atlas_pg_s\">002</SimpleData>\\n\\t</SchemaData></ExtendedData>\\n      <Point><coordinates>-111.689612,53.968388</coordinates></Point>\\n  </Placemark>\\n  <Placemark>\\n\\t<name>Blue Quills (Saddle Lake, Sacred Heart, formerly Lac la Biche), St. Paul, Alberta</name>\\n\\t<ExtendedData><SchemaData schemaUrl=\"#IRS_KIB\">\\n\\t\\t<SimpleData name=\"School_num\">2</SimpleData>\\n\\t\\t<SimpleData name=\"Province o\">Alberta</SimpleData>\\n\\t\\t<SimpleData name=\"From\">1931</SimpleData>\\n\\t\\t<SimpleData name=\"To\">1990</SimpleData>\\n\\t\\t<SimpleData name=\"Descriptio\">Present location of Blue Quills First Nation\\'s College, just west of Saint Paul, AB</SimpleData>\\n\\t\\t<SimpleData name=\"Longitude\">-111.369698999999997</SimpleData>\\n\\t\\t<SimpleData name=\"Latitude\">54.000495000000001</SimpleData>\\n\\t\\t<SimpleData name=\"Location p\">0.000000000000000</SimpleData>\\n\\t\\t<SimpleData name=\"Reference\">Plan 76635 CLSR AB</SimpleData>\\n\\t\\t<SimpleData name=\"Religious\">Roman Catholic</SimpleData>\\n\\t\\t<SimpleData name=\"Atlas_pg\">3</SimpleData>\\n\\t\\t<SimpleData name=\"map_name\">Blue Quills IRS</SimpleData>\\n\\t\\t<SimpleData name=\"atlas_pg_s\">003</SimpleData>\\n\\t</SchemaData></ExtendedData>\\n      <Point><coordinates>-111.369699,54.000495</coordinates></Point>\\n  </Placemark>\\n  <Placemark>\\n\\t<name>Crowfoot (St. Joseph\\'s, Ste. Trinit\\xc3\\xa9), Cluny, Alberta</name>\\n\\t<ExtendedData><SchemaData schemaUrl=\"#IRS_KIB\">\\n\\t\\t<SimpleData name=\"School_num\">3</SimpleData>\\n\\t\\t<SimpleData name=\"Province o\">Alberta</SimpleData>\\n\\t\\t<SimpleData name=\"From\">1900</SimpleData>\\n\\t\\t<SimpleData name=\"To\">1909</SimpleData>\\n\\t\\t<SimpleData name=\"Descriptio\">At Blackfoot, Crossing, on the north side of the Bow River</SimpleData>\\n\\t\\t<SimpleData name=\"Longitude\">-112.860489999999999</SimpleData>\\n\\t\\t<SimpleData name=\"Latitude\">50.781325000000002</SimpleData>\\n\\t\\t<SimpleData name=\"Location p\">0.000000000000000</SimpleData>\\n\\t\\t<SimpleData name=\"Reference\">NCTR \\xe2\\x80\\x93 Crowfoot, AB, map</SimpleData>\\n\\t\\t<SimpleData name=\"Map Notes\">Moved to Cluny, AB, after 1905</SimpleData>\\n\\t\\t<SimpleData name=\"Religious\">Roman Catholic</SimpleData>\\n\\t\\t<SimpleData name=\"Atlas_pg\">4</SimpleData>\\n\\t\\t<SimpleData name=\"map_name\">St. Joseph\\'s</SimpleData>\\n\\t\\t<SimpleData name=\"atlas_pg_s\">004</SimpleData>\\n\\t</SchemaData></ExtendedData>\\n      <Point><coordinates>-112.86049,50.781325</coordinates></Point>\\n  </Placemark>\\n  <Placemark>\\n\\t<name>Crowfoot (St. Joseph\\'s, Ste. Trinit\\xc3\\xa9), Cluny, Alberta</name>\\n\\t<ExtendedData><SchemaData schemaUrl=\"#IRS_KIB\">\\n\\t\\t<SimpleData name=\"School_num\">3</SimpleData>\\n\\t\\t<SimpleData name=\"Province o\">Alberta</SimpleData>\\n\\t\\t<SimpleData name=\"From\">1909</SimpleData>\\n\\t\\t<SimpleData name=\"To\">1968</SimpleData>\\n\\t\\t<SimpleData name=\"Descriptio\">just west of Cluny where Range Road 214A meets Township Road 220.</SimpleData>\\n\\t\\t<SimpleData name=\"Longitude\">-112.881046999999995</SimpleData>\\n\\t\\t<SimpleData name=\"Latitude\">50.832410000000003</SimpleData>\\n\\t\\t<SimpleData name=\"Location p\">0.000000000000000</SimpleData>\\n\\t\\t<SimpleData name=\"Reference\">Plan 53416 CLSR AB and Fieldbook 30619 CLSR AB</SimpleData>\\n\\t\\t<SimpleData name=\"Map Notes\">Moved from Blackfoot Crossing in 1909 or 1915 (sources differ)</SimpleData>\\n\\t\\t<SimpleData name=\"Religious\">Roman Catholic</SimpleData>\\n\\t\\t<SimpleData name=\"Atlas_pg\">5</SimpleData>\\n\\t\\t<SimpleData name=\"map_name\">St. Joseph\\'s</SimpleData>\\n\\t\\t<SimpleData name=\"atlas_pg_s\">005</SimpleData>\\n\\t</SchemaData></ExtendedData>\\n      <Point><coordinates>-112.881047,50.83241</coordinates></Point>\\n  </Placemark>\\n  <Placemark>\\n\\t<name>Desmarais (St. Martin\\'s, Wabasca Roman Catholic), Desmarais-Wabasca, Alberta</name>\\n\\t<ExtendedData><SchemaData schemaUrl=\"#IRS_KIB\">\\n\\t\\t<SimpleData name=\"School_num\">4</SimpleData>\\n\\t\\t<SimpleData name=\"Province o\">Alberta</SimpleData>\\n\\t\\t<SimpleData name=\"From\">1902</SimpleData>\\n\\t\\t<SimpleData name=\"To\">1973</SimpleData>\\n\\t\\t<SimpleData name=\"Descriptio\">In the old Wabasca Settlement,at what is today the Northern Lakes College Wabasca Campus</SimpleData>\\n\\t\\t<SimpleData name=\"Longitude\">-113.805895000000007</SimpleData>\\n\\t\\t<SimpleData name=\"Latitude\">55.943852000000000</SimpleData>\\n\\t\\t<SimpleData name=\"Location p\">0.000000000000000</SimpleData>\\n\\t\\t<SimpleData name=\"Reference\">NCTR \\xe2\\x80\\x93 Desmarais, AB, map and Plan 52590 CLSR AB</SimpleData>\\n\\t\\t<SimpleData name=\"Religious\">Roman Catholic</SimpleData>\\n\\t\\t<SimpleData name=\"Atlas_pg\">6</SimpleData>\\n\\t\\t<SimpleData name=\"map_name\">St. Martin\\'s IRS</SimpleData>\\n\\t\\t<SimpleData name=\"atlas_pg_s\">006</SimpleData>\\n\\t</SchemaData></ExtendedData>\\n      <Point><coordinates>-113.805895,55.943852</coordinates></Point>\\n  </Placemark>\\n  <Placemark>\\n\\t<name>Edmonton (formerly Red Deer Industrial), St. Albert, Alberta</name>\\n\\t<ExtendedData><SchemaData schemaUrl=\"#IRS_KIB\">\\n\\t\\t<SimpleData name=\"School_num\">5</SimpleData>\\n\\t\\t<SimpleData name=\"Province o\">Alberta</SimpleData>\\n\\t\\t<SimpleData name=\"From\">1824</SimpleData>\\n\\t\\t<SimpleData name=\"To\">1968</SimpleData>\\n\\t\\t<SimpleData name=\"Descriptio\">current location of the Poundmaker\\'s Lodge Treatment centre in St. Albert, AB</SimpleData>\\n\\t\\t<SimpleData name=\"Longitude\">-113.574707000000004</SimpleData>\\n\\t\\t<SimpleData name=\"Latitude\">53.652994999999997</SimpleData>\\n\\t\\t<SimpleData name=\"Location p\">0.000000000000000</SimpleData>\\n\\t\\t<SimpleData name=\"Reference\">NCTR \\xe2\\x80\\x93 Edmonton, AB, map and Plan 1898A CLSR AB</SimpleData>\\n\\t\\t<SimpleData name=\"Religious\">United Church/Methodist</SimpleData>\\n\\t\\t<SimpleData name=\"Atlas_pg\">7</SimpleData>\\n\\t\\t<SimpleData name=\"map_name\">Edmonton IRS</SimpleData>\\n\\t\\t<SimpleData name=\"atlas_pg_s\">007</SimpleData>\\n\\t</SchemaData></ExtendedData>\\n      <Point><coordinates>-113.574707,53.652995</coordinates></Point>\\n  </Placemark>\\n  <Placemark>\\n\\t<name>Ermineskin, Hobbema, Alberta</name>\\n\\t<ExtendedData><SchemaData schemaUrl=\"#IRS_KIB\">\\n\\t\\t<SimpleData name=\"School_num\">6</SimpleData>\\n\\t\\t<SimpleData name=\"Province o\">Alberta</SimpleData>\\n\\t\\t<SimpleData name=\"From\">1895</SimpleData>\\n\\t\\t<SimpleData name=\"To\">1975</SimpleData>\\n\\t\\t<SimpleData name=\"Descriptio\">Maskwasis, AB, across the street from the Ermineskin Elders Centre</SimpleData>\\n\\t\\t<SimpleData name=\"Longitude\">-113.456142999999997</SimpleData>\\n\\t\\t<SimpleData name=\"Latitude\">52.836277000000003</SimpleData>\\n\\t\\t<SimpleData name=\"Location p\">0.000000000000000</SimpleData>\\n\\t\\t<SimpleData name=\"Reference\">NCTR \\xe2\\x80\\x93 Ermineskin, AB, map and Plan F3867 CLSR AB</SimpleData>\\n\\t\\t<SimpleData name=\"Religious\">Roman Catholic</SimpleData>\\n\\t\\t<SimpleData name=\"Atlas_pg\">8</SimpleData>\\n\\t\\t<SimpleData name=\"map_name\">Ermineskin IRS</SimpleData>\\n\\t\\t<SimpleData name=\"atlas_pg_s\">008</SimpleData>\\n\\t</SchemaData></ExtendedData>\\n      <Point><coordinates>-113.456143,52.836277</coordinates></Point>\\n  </Placemark>\\n  <Placemark>\\n\\t<name>Fort Vermilion (St. Henry\\'s), Fort Vermilion, Alberta</name>\\n\\t<ExtendedData><SchemaData schemaUrl=\"#IRS_KIB\">\\n\\t\\t<SimpleData name=\"School_num\">7</SimpleData>\\n\\t\\t<SimpleData name=\"Province o\">Alberta</SimpleData>\\n\\t\\t<SimpleData name=\"From\">1903</SimpleData>\\n\\t\\t<SimpleData name=\"To\">1968</SimpleData>\\n\\t\\t<SimpleData name=\"Descriptio\">On River Road, just west of 50th Street</SimpleData>\\n\\t\\t<SimpleData name=\"Longitude\">-116.020034999999993</SimpleData>\\n\\t\\t<SimpleData name=\"Latitude\">58.389223999999999</SimpleData>\\n\\t\\t<SimpleData name=\"Location p\">0.000000000000000</SimpleData>\\n\\t\\t<SimpleData name=\"Reference\">NCTR \\xe2\\x80\\x93 Fort Vermillion, AB, map and Plan 4452 CLSR AB</SimpleData>\\n\\t\\t<SimpleData name=\"Religious\">Roman Catholic</SimpleData>\\n\\t\\t<SimpleData name=\"Atlas_pg\">9</SimpleData>\\n\\t\\t<SimpleData name=\"map_name\">Fort Vermilion IRS</SimpleData>\\n\\t\\t<SimpleData name=\"atlas_pg_s\">009</SimpleData>\\n\\t</SchemaData></ExtendedData>\\n      <Point><coordinates>-116.020035,58.389224</coordinates></Point>\\n  </Placemark>\\n  <Placemark>\\n\\t<name>Grouard (St. Bernard\\'s, Lesser Slave Lake Roman Catholic), Grouard , Alberta</name>\\n\\t<ExtendedData><SchemaData schemaUrl=\"#IRS_KIB\">\\n\\t\\t<SimpleData name=\"School_num\">8</SimpleData>\\n\\t\\t<SimpleData name=\"Province o\">Alberta</SimpleData>\\n\\t\\t<SimpleData name=\"From\">1894</SimpleData>\\n\\t\\t<SimpleData name=\"To\">1957</SimpleData>\\n\\t\\t<SimpleData name=\"Descriptio\">Site of North Lakes College, Grouard Campus</SimpleData>\\n\\t\\t<SimpleData name=\"Longitude\">-116.162578999999994</SimpleData>\\n\\t\\t<SimpleData name=\"Latitude\">55.546011000000000</SimpleData>\\n\\t\\t<SimpleData name=\"Location p\">0.000000000000000</SimpleData>\\n\\t\\t<SimpleData name=\"Reference\">Plan A150B CLSR AB</SimpleData>\\n\\t\\t<SimpleData name=\"Religious\">Roman Catholic</SimpleData>\\n\\t\\t<SimpleData name=\"Atlas_pg\">10</SimpleData>\\n\\t\\t<SimpleData name=\"map_name\">Grouard IRS</SimpleData>\\n\\t\\t<SimpleData name=\"atlas_pg_s\">010</SimpleData>\\n\\t</SchemaData></ExtendedData>\\n      <Point><coordinates>-116.162579,55.546011</coordinates></Point>\\n  </Placemark>\\n  <Placemark>\\n\\t<name>Holy Angels (Fort Chipewyan, \\xc3\\x89cole des Saints-Anges), Fort Chipewyan, Alberta</name>\\n\\t<ExtendedData><SchemaData schemaUrl=\"#IRS_KIB\">\\n\\t\\t<SimpleData name=\"School_num\">9</SimpleData>\\n\\t\\t<SimpleData name=\"Province o\">Alberta</SimpleData>\\n\\t\\t<SimpleData name=\"From\">1874</SimpleData>\\n\\t\\t<SimpleData name=\"To\">1974</SimpleData>\\n\\t\\t<SimpleData name=\"Descriptio\">Near Mission Point, today\\'s Lot 2A</SimpleData>\\n\\t\\t<SimpleData name=\"Longitude\">-111.174884000000006</SimpleData>\\n\\t\\t<SimpleData name=\"Latitude\">58.711182000000001</SimpleData>\\n\\t\\t<SimpleData name=\"Location p\">0.000000000000000</SimpleData>\\n\\t\\t<SimpleData name=\"Reference\">Plan 2482 CLSR AB; and Plan 92 RSA AB</SimpleData>\\n\\t\\t<SimpleData name=\"Religious\">Roman Catholic</SimpleData>\\n\\t\\t<SimpleData name=\"Atlas_pg\">11</SimpleData>\\n\\t\\t<SimpleData name=\"map_name\">Holy Angels IRS</SimpleData>\\n\\t\\t<SimpleData name=\"atlas_pg_s\">011</SimpleData>\\n\\t</SchemaData></ExtendedData>\\n      <Point><coordinates>-111.174884,58.711182</coordinates></Point>\\n  </Placemark>\\n  <Placemark>\\n\\t<name>Joussard (St. Bruno\\'s), Joussard, Alberta</name>\\n\\t<ExtendedData><SchemaData schemaUrl=\"#IRS_KIB\">\\n\\t\\t<SimpleData name=\"School_num\">10</SimpleData>\\n\\t\\t<SimpleData name=\"Province o\">Alberta</SimpleData>\\n\\t\\t<SimpleData name=\"From\">1913</SimpleData>\\n\\t\\t<SimpleData name=\"To\">1969</SimpleData>\\n\\t\\t<SimpleData name=\"Descriptio\">Just west of Joussard, AB, where Mission Creek flows into Lesser Slave Lake</SimpleData>\\n\\t\\t<SimpleData name=\"Longitude\">-115.969583999999998</SimpleData>\\n\\t\\t<SimpleData name=\"Latitude\">55.401193999999997</SimpleData>\\n\\t\\t<SimpleData name=\"Location p\">0.000000000000000</SimpleData>\\n\\t\\t<SimpleData name=\"Reference\">NCTR \\xe2\\x80\\x93 Joussard, AB, map</SimpleData>\\n\\t\\t<SimpleData name=\"Religious\">Roman Catholic</SimpleData>\\n\\t\\t<SimpleData name=\"Atlas_pg\">12</SimpleData>\\n\\t\\t<SimpleData name=\"map_name\">St. Bruno\\'s IRS</SimpleData>\\n\\t\\t<SimpleData name=\"atlas_pg_s\">012</SimpleData>\\n\\t</SchemaData></ExtendedData>\\n      <Point><coordinates>-115.969584,55.401194</coordinates></Point>\\n  </Placemark>\\n  <Placemark>\\n\\t<name>Lac la Biche (Notre Dame des Victoire, predecessor to Blue Quills) from 1893 to 1898, Lac la Biche, Alberta</name>\\n\\t<ExtendedData><SchemaData schemaUrl=\"#IRS_KIB\">\\n\\t\\t<SimpleData name=\"School_num\">11</SimpleData>\\n\\t\\t<SimpleData name=\"Province o\">Alberta</SimpleData>\\n\\t\\t<SimpleData name=\"From\">1893</SimpleData>\\n\\t\\t<SimpleData name=\"To\">1898</SimpleData>\\n\\t\\t<SimpleData name=\"Descriptio\">Lac La Biche Mission, 16 km NW of Lac La Biche</SimpleData>\\n\\t\\t<SimpleData name=\"Longitude\">-112.091600000000000</SimpleData>\\n\\t\\t<SimpleData name=\"Latitude\">54.823300000000003</SimpleData>\\n\\t\\t<SimpleData name=\"Location p\">0.000000000000000</SimpleData>\\n\\t\\t<SimpleData name=\"Reference\">Lac La Biche Mission Historical Society</SimpleData>\\n\\t\\t<SimpleData name=\"Religious\">Roman Catholic</SimpleData>\\n\\t\\t<SimpleData name=\"Atlas_pg\">13</SimpleData>\\n\\t\\t<SimpleData name=\"map_name\">Notre Dame des Victoire</SimpleData>\\n\\t\\t<SimpleData name=\"atlas_pg_s\">013</SimpleData>\\n\\t</SchemaData></ExtendedData>\\n      <Point><coordinates>-112.0916,54.8233</coordinates></Point>\\n  </Placemark>\\n  <Placemark>\\n\\t<name>Lesser Slave Lake (St. Peter\\'s), Lesser Slave Lake, Alberta</name>\\n\\t<ExtendedData><SchemaData schemaUrl=\"#IRS_KIB\">\\n\\t\\t<SimpleData name=\"School_num\">12</SimpleData>\\n\\t\\t<SimpleData name=\"Province o\">Alberta</SimpleData>\\n\\t\\t<SimpleData name=\"From\">1895</SimpleData>\\n\\t\\t<SimpleData name=\"To\">1932</SimpleData>\\n\\t\\t<SimpleData name=\"Descriptio\">Lot 64, SEC 13, T76 R15: 300m west of the Kapawe\\'no No. 150CV reserve.</SimpleData>\\n\\t\\t<SimpleData name=\"Longitude\">-116.192935000000006</SimpleData>\\n\\t\\t<SimpleData name=\"Latitude\">55.590609000000001</SimpleData>\\n\\t\\t<SimpleData name=\"Location p\">0.000000000000000</SimpleData>\\n\\t\\t<SimpleData name=\"Reference\">Anglican Church, St. Peter\\'s, AB and Plan 9303 CLSR AB</SimpleData>\\n\\t\\t<SimpleData name=\"Religious\">Anglican</SimpleData>\\n\\t\\t<SimpleData name=\"Atlas_pg\">14</SimpleData>\\n\\t\\t<SimpleData name=\"map_name\">Lesser Slave Lake IRS</SimpleData>\\n\\t\\t<SimpleData name=\"atlas_pg_s\">014</SimpleData>\\n\\t</SchemaData></ExtendedData>\\n      <Point><coordinates>-116.192935,55.590609</coordinates></Point>\\n  </Placemark>\\n  <Placemark>\\n\\t<name>Morley (McDougal Orphange)</name>\\n\\t<ExtendedData><SchemaData schemaUrl=\"#IRS_KIB\">\\n\\t\\t<SimpleData name=\"School_num\">13</SimpleData>\\n\\t\\t<SimpleData name=\"Province o\">Alberta</SimpleData>\\n\\t\\t<SimpleData name=\"From\">1885</SimpleData>\\n\\t\\t<SimpleData name=\"To\">1908</SimpleData>\\n\\t\\t<SimpleData name=\"Descriptio\">McDougal Memorial wayside on the Bow Valley Trail, approx. 3 km from Morley</SimpleData>\\n\\t\\t<SimpleData name=\"Longitude\">-114.830928999999998</SimpleData>\\n\\t\\t<SimpleData name=\"Latitude\">51.189531000000002</SimpleData>\\n\\t\\t<SimpleData name=\"Location p\">0.000000000000000</SimpleData>\\n\\t\\t<SimpleData name=\"Reference\">Plan T1104 CLSR AB and ChildrenRemembered \\xe2\\x80\\x93 Morley</SimpleData>\\n\\t\\t<SimpleData name=\"Religious\">United Church/Methodist</SimpleData>\\n\\t\\t<SimpleData name=\"Atlas_pg\">15</SimpleData>\\n\\t\\t<SimpleData name=\"map_name\">McDougal Orphange</SimpleData>\\n\\t\\t<SimpleData name=\"atlas_pg_s\">015</SimpleData>\\n\\t</SchemaData></ExtendedData>\\n      <Point><coordinates>-114.830929,51.189531</coordinates></Point>\\n  </Placemark>\\n  <Placemark>\\n\\t<name>Morley (Stony), Morley, Alberta</name>\\n\\t<ExtendedData><SchemaData schemaUrl=\"#IRS_KIB\">\\n\\t\\t<SimpleData name=\"School_num\">13</SimpleData>\\n\\t\\t<SimpleData name=\"Province o\">Alberta</SimpleData>\\n\\t\\t<SimpleData name=\"From\">1922</SimpleData>\\n\\t\\t<SimpleData name=\"To\">1969</SimpleData>\\n\\t\\t<SimpleData name=\"Descriptio\">in the area of the Nakoda Elementary School</SimpleData>\\n\\t\\t<SimpleData name=\"Longitude\">-114.854969999999994</SimpleData>\\n\\t\\t<SimpleData name=\"Latitude\">51.170509000000003</SimpleData>\\n\\t\\t<SimpleData name=\"Location p\">0.000000000000000</SimpleData>\\n\\t\\t<SimpleData name=\"Reference\">NCTR \\xe2\\x80\\x93 Morley, AB, narrative and ChildrenRemembered \\xe2\\x80\\x93 Morley</SimpleData>\\n\\t\\t<SimpleData name=\"Religious\">United Church/Methodist</SimpleData>\\n\\t\\t<SimpleData name=\"Atlas_pg\">16</SimpleData>\\n\\t\\t<SimpleData name=\"map_name\">Morley IRS</SimpleData>\\n\\t\\t<SimpleData name=\"atlas_pg_s\">016</SimpleData>\\n\\t</SchemaData></ExtendedData>\\n      <Point><coordinates>-114.85497,51.170509</coordinates></Point>\\n  </Placemark>\\n  <Placemark>\\n\\t<name>Old Sun, Gleichen, Alberta</name>\\n\\t<ExtendedData><SchemaData schemaUrl=\"#IRS_KIB\">\\n\\t\\t<SimpleData name=\"School_num\">14</SimpleData>\\n\\t\\t<SimpleData name=\"Province o\">Alberta</SimpleData>\\n\\t\\t<SimpleData name=\"From\">1886</SimpleData>\\n\\t\\t<SimpleData name=\"To\">1909</SimpleData>\\n\\t\\t<SimpleData name=\"Descriptio\">Approx. 5km southwest of Gleichen, AB</SimpleData>\\n\\t\\t<SimpleData name=\"Longitude\">-113.132388000000006</SimpleData>\\n\\t\\t<SimpleData name=\"Latitude\">50.836379999999998</SimpleData>\\n\\t\\t<SimpleData name=\"Location p\">0.500000000000000</SimpleData>\\n\\t\\t<SimpleData name=\"Reference\">NCTR \\xe2\\x80\\x93 Old Sun, AB, map</SimpleData>\\n\\t\\t<SimpleData name=\"Religious\">Anglican</SimpleData>\\n\\t\\t<SimpleData name=\"Atlas_pg\">17</SimpleData>\\n\\t\\t<SimpleData name=\"map_name\">Old Sun Boarding School</SimpleData>\\n\\t\\t<SimpleData name=\"atlas_pg_s\">017</SimpleData>\\n\\t</SchemaData></ExtendedData>\\n      <Point><coordinates>-113.132388,50.83638</coordinates></Point>\\n  </Placemark>\\n  <Placemark>\\n\\t<name>Old Sun, Gleichen, Alberta</name>\\n\\t<ExtendedData><SchemaData schemaUrl=\"#IRS_KIB\">\\n\\t\\t<SimpleData name=\"School_num\">14</SimpleData>\\n\\t\\t<SimpleData name=\"Province o\">Alberta</SimpleData>\\n\\t\\t<SimpleData name=\"From\">1889</SimpleData>\\n\\t\\t<SimpleData name=\"To\">1901</SimpleData>\\n\\t\\t<SimpleData name=\"Descriptio\">Approx. 4.5 km southwest of Cluny, AB</SimpleData>\\n\\t\\t<SimpleData name=\"Longitude\">-112.940181999999993</SimpleData>\\n\\t\\t<SimpleData name=\"Latitude\">50.811019000000002</SimpleData>\\n\\t\\t<SimpleData name=\"Location p\">1.000000000000000</SimpleData>\\n\\t\\t<SimpleData name=\"Reference\">Untitled 1901 map of Blackfoot Crossing area</SimpleData>\\n\\t\\t<SimpleData name=\"Map Notes\">Boys only; amalgamated with Old Sun in 1901</SimpleData>\\n\\t\\t<SimpleData name=\"Religious\">Anglican</SimpleData>\\n\\t\\t<SimpleData name=\"Atlas_pg\">18</SimpleData>\\n\\t\\t<SimpleData name=\"map_name\">White Eagle Boarding School</SimpleData>\\n\\t\\t<SimpleData name=\"atlas_pg_s\">018</SimpleData>\\n\\t</SchemaData></ExtendedData>\\n      <Point><coordinates>-112.940182,50.811019</coordinates></Point>\\n  </Placemark>\\n  <Placemark>\\n\\t<name>Old Sun, Gleichen, Alberta</name>\\n\\t<ExtendedData><SchemaData schemaUrl=\"#IRS_KIB\">\\n\\t\\t<SimpleData name=\"School_num\">14</SimpleData>\\n\\t\\t<SimpleData name=\"Province o\">Alberta</SimpleData>\\n\\t\\t<SimpleData name=\"From\">1912</SimpleData>\\n\\t\\t<SimpleData name=\"To\">1971</SimpleData>\\n\\t\\t<SimpleData name=\"Descriptio\">At the site of Old Sun Community College, Lot 388, N \\xc2\\xbd SEC T22 R23</SimpleData>\\n\\t\\t<SimpleData name=\"Longitude\">-113.060777999999999</SimpleData>\\n\\t\\t<SimpleData name=\"Latitude\">50.848019000000001</SimpleData>\\n\\t\\t<SimpleData name=\"Location p\">0.000000000000000</SimpleData>\\n\\t\\t<SimpleData name=\"Reference\">Plan 53147 CLSR AB and Fieldbook 30619 CLSR AB</SimpleData>\\n\\t\\t<SimpleData name=\"Religious\">Anglican</SimpleData>\\n\\t\\t<SimpleData name=\"Atlas_pg\">19</SimpleData>\\n\\t\\t<SimpleData name=\"map_name\">Old Sun IRS</SimpleData>\\n\\t\\t<SimpleData name=\"atlas_pg_s\">019</SimpleData>\\n\\t</SchemaData></ExtendedData>\\n      <Point><coordinates>-113.060778,50.848019</coordinates></Point>\\n  </Placemark>\\n  <Placemark>\\n\\t<name>Sacred Heart, Brocket, Alberta</name>\\n\\t<ExtendedData><SchemaData schemaUrl=\"#IRS_KIB\">\\n\\t\\t<SimpleData name=\"School_num\">15</SimpleData>\\n\\t\\t<SimpleData name=\"Province o\">Alberta</SimpleData>\\n\\t\\t<SimpleData name=\"From\">1887</SimpleData>\\n\\t\\t<SimpleData name=\"To\">1961</SimpleData>\\n\\t\\t<SimpleData name=\"Descriptio\">About 8 km due east of Brocket, in SW \\xc2\\xbc SEC 7 TOWNSHIP 7 RANGE 27</SimpleData>\\n\\t\\t<SimpleData name=\"Longitude\">-113.646553999999995</SimpleData>\\n\\t\\t<SimpleData name=\"Latitude\">49.545115000000003</SimpleData>\\n\\t\\t<SimpleData name=\"Location p\">0.000000000000000</SimpleData>\\n\\t\\t<SimpleData name=\"Reference\">NCTR \\xe2\\x80\\x93 Sacred Heart, AB, map and narrative</SimpleData>\\n\\t\\t<SimpleData name=\"Map Notes\">The school was in an undetermined  location from 1887 to 1926</SimpleData>\\n\\t\\t<SimpleData name=\"Religious\">Roman Catholic</SimpleData>\\n\\t\\t<SimpleData name=\"Atlas_pg\">20</SimpleData>\\n\\t\\t<SimpleData name=\"map_name\">Sacred Heart, IRS</SimpleData>\\n\\t\\t<SimpleData name=\"atlas_pg_s\">020</SimpleData>\\n\\t</SchemaData></ExtendedData>\\n      <Point><coordinates>-113.646554,49.545115</coordinates></Point>\\n  </Placemark>\\n  <Placemark>\\n\\t<name>St. Albert (Youville), Youville, Alberta</name>\\n\\t<ExtendedData><SchemaData schemaUrl=\"#IRS_KIB\">\\n\\t\\t<SimpleData name=\"School_num\">16</SimpleData>\\n\\t\\t<SimpleData name=\"Province o\">Alberta</SimpleData>\\n\\t\\t<SimpleData name=\"From\">1873</SimpleData>\\n\\t\\t<SimpleData name=\"To\">1948</SimpleData>\\n\\t\\t<SimpleData name=\"Descriptio\">Mission Park, St. Albert, AB</SimpleData>\\n\\t\\t<SimpleData name=\"Longitude\">-113.631096999999997</SimpleData>\\n\\t\\t<SimpleData name=\"Latitude\">53.636778000000000</SimpleData>\\n\\t\\t<SimpleData name=\"Location p\">0.000000000000000</SimpleData>\\n\\t\\t<SimpleData name=\"Reference\">NCTR \\xe2\\x80\\x93 Youville, AB, map and narrative</SimpleData>\\n\\t\\t<SimpleData name=\"Religious\">Roman Catholic</SimpleData>\\n\\t\\t<SimpleData name=\"Atlas_pg\">21</SimpleData>\\n\\t\\t<SimpleData name=\"map_name\">St. Albert (Youville)  IRS</SimpleData>\\n\\t\\t<SimpleData name=\"atlas_pg_s\">021</SimpleData>\\n\\t</SchemaData></ExtendedData>\\n      <Point><coordinates>-113.631097,53.636778</coordinates></Point>\\n  </Placemark>\\n  <Placemark>\\n\\t<name>St. Augustine (Smoky River) from 1900 to 1907, Smoky River, Alberta</name>\\n\\t<ExtendedData><SchemaData schemaUrl=\"#IRS_KIB\">\\n\\t\\t<SimpleData name=\"School_num\">17</SimpleData>\\n\\t\\t<SimpleData name=\"Province o\">Alberta</SimpleData>\\n\\t\\t<SimpleData name=\"From\">1900</SimpleData>\\n\\t\\t<SimpleData name=\"To\">1907</SimpleData>\\n\\t\\t<SimpleData name=\"Descriptio\">next to the Peace River Correctional Centre, on Hwy 684, near Grimshaw, on the north side of the Peace River.</SimpleData>\\n\\t\\t<SimpleData name=\"Longitude\">-117.445398999999995</SimpleData>\\n\\t\\t<SimpleData name=\"Latitude\">56.154876999999999</SimpleData>\\n\\t\\t<SimpleData name=\"Location p\">0.000000000000000</SimpleData>\\n\\t\\t<SimpleData name=\"Reference\">NCTR- St. Augustine, AB, map, and</SimpleData>\\n\\t\\t<SimpleData name=\"Notes\">The school operated until 1950 but government funding ended in 1907.</SimpleData>\\n\\t\\t<SimpleData name=\"Religious\">Roman Catholic</SimpleData>\\n\\t\\t<SimpleData name=\"Atlas_pg\">22</SimpleData>\\n\\t\\t<SimpleData name=\"map_name\">St. Augustine</SimpleData>\\n\\t\\t<SimpleData name=\"atlas_pg_s\">022</SimpleData>\\n\\t</SchemaData></ExtendedData>\\n      <Point><coordinates>-117.445399,56.154877</coordinates></Point>\\n  </Placemark>\\n  <Placemark>\\n\\t<name>St. Cyprian\\'s (Queen Victoria\\'s Jubilee Home), Brocket, Peigan Reserve, Alberta</name>\\n\\t<ExtendedData><SchemaData schemaUrl=\"#IRS_KIB\">\\n\\t\\t<SimpleData name=\"School_num\">18</SimpleData>\\n\\t\\t<SimpleData name=\"Province o\">Alberta</SimpleData>\\n\\t\\t<SimpleData name=\"From\">1890</SimpleData>\\n\\t\\t<SimpleData name=\"To\">1926</SimpleData>\\n\\t\\t<SimpleData name=\"Descriptio\">Victoria Mission Historic Site, 3.5km west of Brocket on Hwy 3</SimpleData>\\n\\t\\t<SimpleData name=\"Longitude\">-113.797792999999999</SimpleData>\\n\\t\\t<SimpleData name=\"Latitude\">49.547305999999999</SimpleData>\\n\\t\\t<SimpleData name=\"Location p\">0.000000000000000</SimpleData>\\n\\t\\t<SimpleData name=\"Reference\">Plan 50148 CLSR AB</SimpleData>\\n\\t\\t<SimpleData name=\"Map Notes\">Moved to St. Cyprian\\'s in 1927</SimpleData>\\n\\t\\t<SimpleData name=\"Religious\">Anglican</SimpleData>\\n\\t\\t<SimpleData name=\"Atlas_pg\">23</SimpleData>\\n\\t\\t<SimpleData name=\"map_name\">Queen Victoria\\'s Jubilee Home</SimpleData>\\n\\t\\t<SimpleData name=\"atlas_pg_s\">023</SimpleData>\\n\\t</SchemaData></ExtendedData>\\n      <Point><coordinates>-113.797793,49.547306</coordinates></Point>\\n  </Placemark>\\n  <Placemark>\\n\\t<name>St. Cyprian\\'s (Queen Victoria\\'s Jubilee Home), Brocket, Peigan Reserve, Alberta</name>\\n\\t<ExtendedData><SchemaData schemaUrl=\"#IRS_KIB\">\\n\\t\\t<SimpleData name=\"School_num\">18</SimpleData>\\n\\t\\t<SimpleData name=\"Province o\">Alberta</SimpleData>\\n\\t\\t<SimpleData name=\"From\">1927</SimpleData>\\n\\t\\t<SimpleData name=\"To\">1961</SimpleData>\\n\\t\\t<SimpleData name=\"Descriptio\">SEC D T6 R28, 4.5 km southeast of Brocket.</SimpleData>\\n\\t\\t<SimpleData name=\"Longitude\">-113.704871999999995</SimpleData>\\n\\t\\t<SimpleData name=\"Latitude\">49.516537000000000</SimpleData>\\n\\t\\t<SimpleData name=\"Location p\">0.000000000000000</SimpleData>\\n\\t\\t<SimpleData name=\"Reference\">NCTR \\xe2\\x80\\x93 St. Cyprian\\'s, AB, map and narrative</SimpleData>\\n\\t\\t<SimpleData name=\"Map Notes\">Originally the Queen Victoria Jubilee Home</SimpleData>\\n\\t\\t<SimpleData name=\"Religious\">Anglican</SimpleData>\\n\\t\\t<SimpleData name=\"Atlas_pg\">24</SimpleData>\\n\\t\\t<SimpleData name=\"map_name\">St. Cyprian\\'s IRS</SimpleData>\\n\\t\\t<SimpleData name=\"atlas_pg_s\">024</SimpleData>\\n\\t</SchemaData></ExtendedData>\\n      <Point><coordinates>-113.704872,49.516537</coordinates></Point>\\n  </Placemark>\\n  <Placemark>\\n\\t<name>St. Joseph\\'s (Dunbow), High River, Alberta</name>\\n\\t<ExtendedData><SchemaData schemaUrl=\"#IRS_KIB\">\\n\\t\\t<SimpleData name=\"School_num\">19</SimpleData>\\n\\t\\t<SimpleData name=\"Province o\">Alberta</SimpleData>\\n\\t\\t<SimpleData name=\"From\">1884</SimpleData>\\n\\t\\t<SimpleData name=\"To\">1922</SimpleData>\\n\\t\\t<SimpleData name=\"Descriptio\">On the west bank of the High River, 1.8km SW of its confluence with the Bow River.</SimpleData>\\n\\t\\t<SimpleData name=\"Longitude\">-113.793248000000006</SimpleData>\\n\\t\\t<SimpleData name=\"Latitude\">50.803950000000000</SimpleData>\\n\\t\\t<SimpleData name=\"Location p\">0.000000000000000</SimpleData>\\n\\t\\t<SimpleData name=\"Reference\">NCTR \\xe2\\x80\\x93 St. Jospeh\\'s, AB, map;  and LAC, 1883, St. Joseph\\'s</SimpleData>\\n\\t\\t<SimpleData name=\"Religious\">Roman Catholic</SimpleData>\\n\\t\\t<SimpleData name=\"Atlas_pg\">25</SimpleData>\\n\\t\\t<SimpleData name=\"map_name\">St. Joseph\\'s Industrial School</SimpleData>\\n\\t\\t<SimpleData name=\"atlas_pg_s\">025</SimpleData>\\n\\t</SchemaData></ExtendedData>\\n      <Point><coordinates>-113.793248,50.80395</coordinates></Point>\\n  </Placemark>\\n  <Placemark>\\n\\t<name>St. Mary\\'s (Blood, Immaculate Conception), Cardston, Alberta</name>\\n\\t<ExtendedData><SchemaData schemaUrl=\"#IRS_KIB\">\\n\\t\\t<SimpleData name=\"School_num\">20</SimpleData>\\n\\t\\t<SimpleData name=\"Province o\">Alberta</SimpleData>\\n\\t\\t<SimpleData name=\"From\">1911</SimpleData>\\n\\t\\t<SimpleData name=\"To\">1926</SimpleData>\\n\\t\\t<SimpleData name=\"Descriptio\">In Standoff, AB</SimpleData>\\n\\t\\t<SimpleData name=\"Longitude\">-113.305093999999997</SimpleData>\\n\\t\\t<SimpleData name=\"Latitude\">49.461112999999997</SimpleData>\\n\\t\\t<SimpleData name=\"Location p\">0.500000000000000</SimpleData>\\n\\t\\t<SimpleData name=\"Reference\">NCTR \\xe2\\x80\\x93 St. Mary\\'s, AB, narrative and Anglican Church \\xe2\\x80\\x93 St. Paul\\'s AB</SimpleData>\\n\\t\\t<SimpleData name=\"Map Notes\">The school site unclear, other than being 22 miles from Fort Macleod and in low-lying flats bordering the Belly River.</SimpleData>\\n\\t\\t<SimpleData name=\"Notes\">Some sources give Standoff as the location, which fits the description of being  22 miles from Fort Macleod and in low-lying flats bordering the Belly River.</SimpleData>\\n\\t\\t<SimpleData name=\"Religious\">Roman Catholic</SimpleData>\\n\\t\\t<SimpleData name=\"Atlas_pg\">26</SimpleData>\\n\\t\\t<SimpleData name=\"map_name\">Immaculate Conception Boarding School</SimpleData>\\n\\t\\t<SimpleData name=\"atlas_pg_s\">026</SimpleData>\\n\\t</SchemaData></ExtendedData>\\n      <Point><coordinates>-113.305094,49.461113</coordinates></Point>\\n  </Placemark>\\n  <Placemark>\\n\\t<name>St. Mary\\'s (Blood, Immaculate Conception), Cardston, Alberta</name>\\n\\t<ExtendedData><SchemaData schemaUrl=\"#IRS_KIB\">\\n\\t\\t<SimpleData name=\"School_num\">20</SimpleData>\\n\\t\\t<SimpleData name=\"Province o\">Alberta</SimpleData>\\n\\t\\t<SimpleData name=\"From\">1926</SimpleData>\\n\\t\\t<SimpleData name=\"To\">1988</SimpleData>\\n\\t\\t<SimpleData name=\"Descriptio\">Red Crow Community College</SimpleData>\\n\\t\\t<SimpleData name=\"Longitude\">-113.343299000000002</SimpleData>\\n\\t\\t<SimpleData name=\"Latitude\">49.299604000000002</SimpleData>\\n\\t\\t<SimpleData name=\"Location p\">0.000000000000000</SimpleData>\\n\\t\\t<SimpleData name=\"Reference\">NCTR \\xe2\\x80\\x93 St. Mary\\'s, AB, map</SimpleData>\\n\\t\\t<SimpleData name=\"Religious\">Roman Catholic</SimpleData>\\n\\t\\t<SimpleData name=\"Atlas_pg\">27</SimpleData>\\n\\t\\t<SimpleData name=\"map_name\">St. Mary\\'s (Blood) IRS</SimpleData>\\n\\t\\t<SimpleData name=\"atlas_pg_s\">027</SimpleData>\\n\\t</SchemaData></ExtendedData>\\n      <Point><coordinates>-113.343299,49.299604</coordinates></Point>\\n  </Placemark>\\n  <Placemark>\\n\\t<name>St. Paul\\'s (Blood, Anglican/Church of England), Cardston, Alberta</name>\\n\\t<ExtendedData><SchemaData schemaUrl=\"#IRS_KIB\">\\n\\t\\t<SimpleData name=\"School_num\">21</SimpleData>\\n\\t\\t<SimpleData name=\"Province o\">Alberta</SimpleData>\\n\\t\\t<SimpleData name=\"From\">1893</SimpleData>\\n\\t\\t<SimpleData name=\"To\">1925</SimpleData>\\n\\t\\t<SimpleData name=\"Descriptio\">on the west side of the Belly River and within a mile of the Blood Agency (and possibly on an island)</SimpleData>\\n\\t\\t<SimpleData name=\"Longitude\">-113.248868000000002</SimpleData>\\n\\t\\t<SimpleData name=\"Latitude\">49.592323999999998</SimpleData>\\n\\t\\t<SimpleData name=\"Location p\">1.000000000000000</SimpleData>\\n\\t\\t<SimpleData name=\"Reference\">Plan 2360R RSA AB and NCTR \\xe2\\x80\\x93 St. Paul\\'s, AB, narrative, and Anglican Church \\xe2\\x80\\x93 St. Paul\\'s AB</SimpleData>\\n\\t\\t<SimpleData name=\"Map Notes\">School was on an island within one mile of the Indian Agency</SimpleData>\\n\\t\\t<SimpleData name=\"Religious\">Anglican</SimpleData>\\n\\t\\t<SimpleData name=\"Atlas_pg\">28</SimpleData>\\n\\t\\t<SimpleData name=\"map_name\">St. Paul\\'s Anglican Boarding School</SimpleData>\\n\\t\\t<SimpleData name=\"atlas_pg_s\">028</SimpleData>\\n\\t</SchemaData></ExtendedData>\\n      <Point><coordinates>-113.248868,49.592324</coordinates></Point>\\n  </Placemark>\\n  <Placemark>\\n\\t<name>St. Paul\\'s (Blood, Anglican/Church of England), Cardston, Alberta</name>\\n\\t<ExtendedData><SchemaData schemaUrl=\"#IRS_KIB\">\\n\\t\\t<SimpleData name=\"School_num\">21</SimpleData>\\n\\t\\t<SimpleData name=\"Province o\">Alberta</SimpleData>\\n\\t\\t<SimpleData name=\"From\">1925</SimpleData>\\n\\t\\t<SimpleData name=\"To\">1975</SimpleData>\\n\\t\\t<SimpleData name=\"Descriptio\">At Ninastoko, 7km NW of Cardston, AB</SimpleData>\\n\\t\\t<SimpleData name=\"Longitude\">-113.388774999999995</SimpleData>\\n\\t\\t<SimpleData name=\"Latitude\">49.230834999999999</SimpleData>\\n\\t\\t<SimpleData name=\"Location p\">0.000000000000000</SimpleData>\\n\\t\\t<SimpleData name=\"Reference\">Plan 2356R RSA AB and NCTR \\xe2\\x80\\x93 St. Paul\\'s, AB, narrative</SimpleData>\\n\\t\\t<SimpleData name=\"Map Notes\">Note ST. PAUL\\'S CEMETERY one mile west of this location.</SimpleData>\\n\\t\\t<SimpleData name=\"Religious\">Anglican</SimpleData>\\n\\t\\t<SimpleData name=\"Atlas_pg\">29</SimpleData>\\n\\t\\t<SimpleData name=\"map_name\">St. Paul\\'s IRS</SimpleData>\\n\\t\\t<SimpleData name=\"atlas_pg_s\">029</SimpleData>\\n\\t</SchemaData></ExtendedData>\\n      <Point><coordinates>-113.388775,49.230835</coordinates></Point>\\n  </Placemark>\\n  <Placemark>\\n\\t<name>Sarcee (St. Barnabas), T\\'suu Tina, Alberta</name>\\n\\t<ExtendedData><SchemaData schemaUrl=\"#IRS_KIB\">\\n\\t\\t<SimpleData name=\"School_num\">22</SimpleData>\\n\\t\\t<SimpleData name=\"Province o\">Alberta</SimpleData>\\n\\t\\t<SimpleData name=\"From\">1892</SimpleData>\\n\\t\\t<SimpleData name=\"To\">1921</SimpleData>\\n\\t\\t<SimpleData name=\"Descriptio\">Old Agency Road, 2.8 km south of Two Guns</SimpleData>\\n\\t\\t<SimpleData name=\"Longitude\">-114.149142999999995</SimpleData>\\n\\t\\t<SimpleData name=\"Latitude\">50.932549000000002</SimpleData>\\n\\t\\t<SimpleData name=\"Location p\">0.000000000000000</SimpleData>\\n\\t\\t<SimpleData name=\"Reference\">NCTR \\xe2\\x80\\x93 Sarcee, AB, map and Plans T233 CLSR AB and 57675 CLSR AB</SimpleData>\\n\\t\\t<SimpleData name=\"Religious\">Anglican</SimpleData>\\n\\t\\t<SimpleData name=\"Atlas_pg\">30</SimpleData>\\n\\t\\t<SimpleData name=\"map_name\">St. Barnabas IRS</SimpleData>\\n\\t\\t<SimpleData name=\"atlas_pg_s\">030</SimpleData>\\n\\t</SchemaData></ExtendedData>\\n      <Point><coordinates>-114.149143,50.932549</coordinates></Point>\\n  </Placemark>\\n  <Placemark>\\n\\t<name>Sturgeon Lake (St. Francis Xavier), Calais, Alberta</name>\\n\\t<ExtendedData><SchemaData schemaUrl=\"#IRS_KIB\">\\n\\t\\t<SimpleData name=\"School_num\">23</SimpleData>\\n\\t\\t<SimpleData name=\"Province o\">Alberta</SimpleData>\\n\\t\\t<SimpleData name=\"From\">1907</SimpleData>\\n\\t\\t<SimpleData name=\"To\">1961</SimpleData>\\n\\t\\t<SimpleData name=\"Descriptio\">Township Road 703A just north of the reserve office</SimpleData>\\n\\t\\t<SimpleData name=\"Longitude\">-117.501041999999998</SimpleData>\\n\\t\\t<SimpleData name=\"Latitude\">55.072549000000002</SimpleData>\\n\\t\\t<SimpleData name=\"Location p\">0.000000000000000</SimpleData>\\n\\t\\t<SimpleData name=\"Reference\">NCTR \\xe2\\x80\\x93 Sturgeon Lake, AB, map; and LAC, 1909, Sturgeon Lake, AB; and Plan 1115 RSA AB</SimpleData>\\n\\t\\t<SimpleData name=\"Notes\">The R. C. Mission held Lot 5, which became this part of the village of Sturgeon Lake</SimpleData>\\n\\t\\t<SimpleData name=\"Religious\">Roman Catholic</SimpleData>\\n\\t\\t<SimpleData name=\"Atlas_pg\">31</SimpleData>\\n\\t\\t<SimpleData name=\"map_name\">Sturgeon Lake IRS</SimpleData>\\n\\t\\t<SimpleData name=\"atlas_pg_s\">031</SimpleData>\\n\\t</SchemaData></ExtendedData>\\n      <Point><coordinates>-117.501042,55.072549</coordinates></Point>\\n  </Placemark>\\n  <Placemark>\\n\\t<name>St. John\\'s (Wabasca Anglican/Church of England), Wabasca, Alberta</name>\\n\\t<ExtendedData><SchemaData schemaUrl=\"#IRS_KIB\">\\n\\t\\t<SimpleData name=\"School_num\">24</SimpleData>\\n\\t\\t<SimpleData name=\"Province o\">Alberta</SimpleData>\\n\\t\\t<SimpleData name=\"From\">1902</SimpleData>\\n\\t\\t<SimpleData name=\"To\">1966</SimpleData>\\n\\t\\t<SimpleData name=\"Descriptio\">Current location of St. Theresa School on Neewatin Drive</SimpleData>\\n\\t\\t<SimpleData name=\"Longitude\">-113.896949000000006</SimpleData>\\n\\t\\t<SimpleData name=\"Latitude\">55.982635999999999</SimpleData>\\n\\t\\t<SimpleData name=\"Location p\">0.000000000000000</SimpleData>\\n\\t\\t<SimpleData name=\"Reference\">NCTR \\xe2\\x80\\x93 Wabasca, AB, map and narrative</SimpleData>\\n\\t\\t<SimpleData name=\"Religious\">Anglican</SimpleData>\\n\\t\\t<SimpleData name=\"Atlas_pg\">32</SimpleData>\\n\\t\\t<SimpleData name=\"map_name\">St. John\\'s IRS</SimpleData>\\n\\t\\t<SimpleData name=\"atlas_pg_s\">032</SimpleData>\\n\\t</SchemaData></ExtendedData>\\n      <Point><coordinates>-113.896949,55.982636</coordinates></Point>\\n  </Placemark>\\n  <Placemark>\\n\\t<name>Whitefish Lake (St. Andrew\\'s), Whitefish Lake, Alberta</name>\\n\\t<ExtendedData><SchemaData schemaUrl=\"#IRS_KIB\">\\n\\t\\t<SimpleData name=\"School_num\">25</SimpleData>\\n\\t\\t<SimpleData name=\"Province o\">Alberta</SimpleData>\\n\\t\\t<SimpleData name=\"From\">1908</SimpleData>\\n\\t\\t<SimpleData name=\"To\">1950</SimpleData>\\n\\t\\t<SimpleData name=\"Descriptio\">Atikameg, AB: on Settlement Drive, about 1.5km NW of the Whitefish Lake Health Centre</SimpleData>\\n\\t\\t<SimpleData name=\"Longitude\">-115.657578000000001</SimpleData>\\n\\t\\t<SimpleData name=\"Latitude\">55.918036999999998</SimpleData>\\n\\t\\t<SimpleData name=\"Location p\">0.500000000000000</SimpleData>\\n\\t\\t<SimpleData name=\"Reference\">NCTR \\xe2\\x80\\x93 Whitefish Lake, AB, map; and Plan 99443 CLSR AB</SimpleData>\\n\\t\\t<SimpleData name=\"Notes\">There is a cemetery here as well as a lot that is \\xe2\\x80\\x9cNot I. R.\\xe2\\x80\\x9d</SimpleData>\\n\\t\\t<SimpleData name=\"Religious\">Anglican</SimpleData>\\n\\t\\t<SimpleData name=\"Atlas_pg\">33</SimpleData>\\n\\t\\t<SimpleData name=\"map_name\">St. Andrew\\'s (Whitefish Lake) IRS</SimpleData>\\n\\t\\t<SimpleData name=\"atlas_pg_s\">033</SimpleData>\\n\\t</SchemaData></ExtendedData>\\n      <Point><coordinates>-115.657578,55.918037</coordinates></Point>\\n  </Placemark>\\n  <Placemark>\\n\\t<name>Ahousaht, Ahousaht, British Columbia</name>\\n\\t<ExtendedData><SchemaData schemaUrl=\"#IRS_KIB\">\\n\\t\\t<SimpleData name=\"School_num\">26</SimpleData>\\n\\t\\t<SimpleData name=\"Province o\">British Columbia</SimpleData>\\n\\t\\t<SimpleData name=\"From\">1904</SimpleData>\\n\\t\\t<SimpleData name=\"To\">1940</SimpleData>\\n\\t\\t<SimpleData name=\"Descriptio\">less than 1 km south of Marktosis on the east coast of Flores Island.</SimpleData>\\n\\t\\t<SimpleData name=\"Longitude\">-126.050763000000003</SimpleData>\\n\\t\\t<SimpleData name=\"Latitude\">49.272933999999999</SimpleData>\\n\\t\\t<SimpleData name=\"Location p\">0.500000000000000</SimpleData>\\n\\t\\t<SimpleData name=\"Reference\">NCTR \\xe2\\x80\\x93 Ahousaht, BC, map; and LAC Neill 1904</SimpleData>\\n\\t\\t<SimpleData name=\"Map Notes\">At the time, this school was not on reserve, which appears to have been extended south at later date.</SimpleData>\\n\\t\\t<SimpleData name=\"Notes\">It is possible that the school was near the village of Ahousat</SimpleData>\\n\\t\\t<SimpleData name=\"Religious\">United Church/Presbyterian</SimpleData>\\n\\t\\t<SimpleData name=\"Atlas_pg\">34</SimpleData>\\n\\t\\t<SimpleData name=\"map_name\">Ahousaht IRS</SimpleData>\\n\\t\\t<SimpleData name=\"atlas_pg_s\">034</SimpleData>\\n\\t</SchemaData></ExtendedData>\\n      <Point><coordinates>-126.050763,49.272934</coordinates></Point>\\n  </Placemark>\\n  <Placemark>\\n\\t<name>Alberni, Port Alberni, British Columbia</name>\\n\\t<ExtendedData><SchemaData schemaUrl=\"#IRS_KIB\">\\n\\t\\t<SimpleData name=\"School_num\">27</SimpleData>\\n\\t\\t<SimpleData name=\"Province o\">British Columbia</SimpleData>\\n\\t\\t<SimpleData name=\"From\">1900</SimpleData>\\n\\t\\t<SimpleData name=\"To\">1973</SimpleData>\\n\\t\\t<SimpleData name=\"Descriptio\">5010 Mission Road, on the south side of the Somass River, Tseshaht reserve</SimpleData>\\n\\t\\t<SimpleData name=\"Longitude\">-124.844532999999998</SimpleData>\\n\\t\\t<SimpleData name=\"Latitude\">49.263933000000002</SimpleData>\\n\\t\\t<SimpleData name=\"Location p\">0.000000000000000</SimpleData>\\n\\t\\t<SimpleData name=\"Reference\">NCTR \\xe2\\x80\\x93 Alberni, BC, map; and Fieldbook FBBC479 CLSR BC</SimpleData>\\n\\t\\t<SimpleData name=\"Notes\">day school operated from 1893</SimpleData>\\n\\t\\t<SimpleData name=\"Religious\">United Church/Presbyterian</SimpleData>\\n\\t\\t<SimpleData name=\"Atlas_pg\">35</SimpleData>\\n\\t\\t<SimpleData name=\"map_name\">Alberni IRS</SimpleData>\\n\\t\\t<SimpleData name=\"atlas_pg_s\">035</SimpleData>\\n\\t</SchemaData></ExtendedData>\\n      <Point><coordinates>-124.844533,49.263933</coordinates></Point>\\n  </Placemark>\\n  <Placemark>\\n\\t<name>Cariboo (St. Joseph\\'s, Williams Lake), Williams Lake, British Columbia</name>\\n\\t<ExtendedData><SchemaData schemaUrl=\"#IRS_KIB\">\\n\\t\\t<SimpleData name=\"School_num\">28</SimpleData>\\n\\t\\t<SimpleData name=\"Province o\">British Columbia</SimpleData>\\n\\t\\t<SimpleData name=\"From\">1891</SimpleData>\\n\\t\\t<SimpleData name=\"To\">1981</SimpleData>\\n\\t\\t<SimpleData name=\"Descriptio\">Approx. 1820 Mission Road, 2.4km West of Hwy 97, 7.6km  south of 150 Mile House, BC</SimpleData>\\n\\t\\t<SimpleData name=\"Longitude\">-121.952057999999994</SimpleData>\\n\\t\\t<SimpleData name=\"Latitude\">52.062004000000002</SimpleData>\\n\\t\\t<SimpleData name=\"Location p\">0.000000000000000</SimpleData>\\n\\t\\t<SimpleData name=\"Reference\">NCTR \\xe2\\x80\\x93 Cariboo, BC, map and narrative</SimpleData>\\n\\t\\t<SimpleData name=\"Notes\">Land is now private</SimpleData>\\n\\t\\t<SimpleData name=\"Religious\">Roman Catholic</SimpleData>\\n\\t\\t<SimpleData name=\"Atlas_pg\">36</SimpleData>\\n\\t\\t<SimpleData name=\"map_name\">St. Joseph\\'s (Cariboo ) IRS</SimpleData>\\n\\t\\t<SimpleData name=\"atlas_pg_s\">036</SimpleData>\\n\\t</SchemaData></ExtendedData>\\n      <Point><coordinates>-121.952058,52.062004</coordinates></Point>\\n  </Placemark>\\n  <Placemark>\\n\\t<name>Christie (Clayoquot, Kakawis), Tofino, British Columbia</name>\\n\\t<ExtendedData><SchemaData schemaUrl=\"#IRS_KIB\">\\n\\t\\t<SimpleData name=\"School_num\">29</SimpleData>\\n\\t\\t<SimpleData name=\"Province o\">British Columbia</SimpleData>\\n\\t\\t<SimpleData name=\"From\">1900</SimpleData>\\n\\t\\t<SimpleData name=\"To\">1983</SimpleData>\\n\\t\\t<SimpleData name=\"Descriptio\">current site of Best Western Tin Wis resort</SimpleData>\\n\\t\\t<SimpleData name=\"Longitude\">-125.900948999999997</SimpleData>\\n\\t\\t<SimpleData name=\"Latitude\">49.130913000000000</SimpleData>\\n\\t\\t<SimpleData name=\"Location p\">0.000000000000000</SimpleData>\\n\\t\\t<SimpleData name=\"Reference\">NCTR \\xe2\\x80\\x93 Christie, BC, map and narrative; and Plan 55407 CLSR BC</SimpleData>\\n\\t\\t<SimpleData name=\"Religious\">Roman Catholic</SimpleData>\\n\\t\\t<SimpleData name=\"Atlas_pg\">37</SimpleData>\\n\\t\\t<SimpleData name=\"map_name\">Christie IRS</SimpleData>\\n\\t\\t<SimpleData name=\"atlas_pg_s\">037</SimpleData>\\n\\t</SchemaData></ExtendedData>\\n      <Point><coordinates>-125.900949,49.130913</coordinates></Point>\\n  </Placemark>\\n  <Placemark>\\n\\t<name>Coqualeetza from 1924 to 1940, Chilliwack / Sardis, British Columbia</name>\\n\\t<ExtendedData><SchemaData schemaUrl=\"#IRS_KIB\">\\n\\t\\t<SimpleData name=\"School_num\">30</SimpleData>\\n\\t\\t<SimpleData name=\"Province o\">British Columbia</SimpleData>\\n\\t\\t<SimpleData name=\"From\">1889</SimpleData>\\n\\t\\t<SimpleData name=\"To\">1940</SimpleData>\\n\\t\\t<SimpleData name=\"Descriptio\">On Vedder Road, across the street from the Carman United Church</SimpleData>\\n\\t\\t<SimpleData name=\"Longitude\">-121.960802999999999</SimpleData>\\n\\t\\t<SimpleData name=\"Latitude\">49.134467000000001</SimpleData>\\n\\t\\t<SimpleData name=\"Location p\">0.000000000000000</SimpleData>\\n\\t\\t<SimpleData name=\"Reference\">Plan BC962 CLSR BC</SimpleData>\\n\\t\\t<SimpleData name=\"Notes\">day school from 1886</SimpleData>\\n\\t\\t<SimpleData name=\"Religious\">United Church/Methodist</SimpleData>\\n\\t\\t<SimpleData name=\"Atlas_pg\">38</SimpleData>\\n\\t\\t<SimpleData name=\"map_name\">Coqualeetza IRS</SimpleData>\\n\\t\\t<SimpleData name=\"atlas_pg_s\">038</SimpleData>\\n\\t</SchemaData></ExtendedData>\\n      <Point><coordinates>-121.960803,49.134467</coordinates></Point>\\n  </Placemark>\\n  <Placemark>\\n\\t<name>Cranbrook (St. Eugene\\'s, Kootenay), Cranbrook, British Columbia</name>\\n\\t<ExtendedData><SchemaData schemaUrl=\"#IRS_KIB\">\\n\\t\\t<SimpleData name=\"School_num\">31</SimpleData>\\n\\t\\t<SimpleData name=\"Province o\">British Columbia</SimpleData>\\n\\t\\t<SimpleData name=\"From\">1890</SimpleData>\\n\\t\\t<SimpleData name=\"To\">1970</SimpleData>\\n\\t\\t<SimpleData name=\"Descriptio\">Currently the St. Eugene Mission Golf Resort</SimpleData>\\n\\t\\t<SimpleData name=\"Longitude\">-115.756619000000001</SimpleData>\\n\\t\\t<SimpleData name=\"Latitude\">49.585987000000003</SimpleData>\\n\\t\\t<SimpleData name=\"Location p\">0.000000000000000</SimpleData>\\n\\t\\t<SimpleData name=\"Reference\">NCTR \\xe2\\x80\\x93 St. Eugene\\'s, BC, map; and INAC, 2009</SimpleData>\\n\\t\\t<SimpleData name=\"Religious\">Roman Catholic</SimpleData>\\n\\t\\t<SimpleData name=\"Atlas_pg\">39</SimpleData>\\n\\t\\t<SimpleData name=\"map_name\">St. Eugene IRS</SimpleData>\\n\\t\\t<SimpleData name=\"atlas_pg_s\">039</SimpleData>\\n\\t</SchemaData></ExtendedData>\\n      <Point><coordinates>-115.756619,49.585987</coordinates></Point>\\n  </Placemark>\\n  <Placemark>\\n\\t<name>Kamloops, Kamloops, British Columbia</name>\\n\\t<ExtendedData><SchemaData schemaUrl=\"#IRS_KIB\">\\n\\t\\t<SimpleData name=\"School_num\">32</SimpleData>\\n\\t\\t<SimpleData name=\"Province o\">British Columbia</SimpleData>\\n\\t\\t<SimpleData name=\"From\">1890</SimpleData>\\n\\t\\t<SimpleData name=\"To\">1978</SimpleData>\\n\\t\\t<SimpleData name=\"Descriptio\">Chief Alex Thomas Way, at the Kamloops Indian Residential School Monument</SimpleData>\\n\\t\\t<SimpleData name=\"Longitude\">-120.295114999999996</SimpleData>\\n\\t\\t<SimpleData name=\"Latitude\">50.679158999999999</SimpleData>\\n\\t\\t<SimpleData name=\"Location p\">0.000000000000000</SimpleData>\\n\\t\\t<SimpleData name=\"Reference\">NCTR \\xe2\\x80\\x93 Kamloops, BC, map; OpenStreetmap, Kamloops; LandOfTheShuswap ResidentialSchoolPage</SimpleData>\\n\\t\\t<SimpleData name=\"Notes\">building still stands</SimpleData>\\n\\t\\t<SimpleData name=\"Religious\">Roman Catholic</SimpleData>\\n\\t\\t<SimpleData name=\"Atlas_pg\">40</SimpleData>\\n\\t\\t<SimpleData name=\"map_name\">Kamloops IRS</SimpleData>\\n\\t\\t<SimpleData name=\"atlas_pg_s\">040</SimpleData>\\n\\t</SchemaData></ExtendedData>\\n      <Point><coordinates>-120.295115,50.679159</coordinates></Point>\\n  </Placemark>\\n  <Placemark>\\n\\t<name>Kitimaat, Kitimaat, British Columbia</name>\\n\\t<ExtendedData><SchemaData schemaUrl=\"#IRS_KIB\">\\n\\t\\t<SimpleData name=\"School_num\">33</SimpleData>\\n\\t\\t<SimpleData name=\"Province o\">British Columbia</SimpleData>\\n\\t\\t<SimpleData name=\"From\">1908</SimpleData>\\n\\t\\t<SimpleData name=\"To\">1941</SimpleData>\\n\\t\\t<SimpleData name=\"Descriptio\">Kitimaat Village, where Haisla and Kitlope avenues cross (south end of town)</SimpleData>\\n\\t\\t<SimpleData name=\"Longitude\">-128.647709999999989</SimpleData>\\n\\t\\t<SimpleData name=\"Latitude\">53.969380000000001</SimpleData>\\n\\t\\t<SimpleData name=\"Location p\">0.000000000000000</SimpleData>\\n\\t\\t<SimpleData name=\"Reference\">NCTR \\xe2\\x80\\x93 Kitimaat, BC, map; FBBC439 CLSR BC</SimpleData>\\n\\t\\t<SimpleData name=\"Notes\">informal boarding school and Girl\\'s Home operated back to 1894</SimpleData>\\n\\t\\t<SimpleData name=\"Religious\">United Church/Methodist</SimpleData>\\n\\t\\t<SimpleData name=\"Atlas_pg\">41</SimpleData>\\n\\t\\t<SimpleData name=\"map_name\">Kitimaat IRS</SimpleData>\\n\\t\\t<SimpleData name=\"atlas_pg_s\">041</SimpleData>\\n\\t</SchemaData></ExtendedData>\\n      <Point><coordinates>-128.64771,53.96938</coordinates></Point>\\n  </Placemark>\\n  <Placemark>\\n\\t<name>Kuper Island, Kuper Island, British Columbia</name>\\n\\t<ExtendedData><SchemaData schemaUrl=\"#IRS_KIB\">\\n\\t\\t<SimpleData name=\"School_num\">34</SimpleData>\\n\\t\\t<SimpleData name=\"Province o\">British Columbia</SimpleData>\\n\\t\\t<SimpleData name=\"From\">1890</SimpleData>\\n\\t\\t<SimpleData name=\"To\">1975</SimpleData>\\n\\t\\t<SimpleData name=\"Descriptio\">1751 School Rd, Chemainus, BC (on Penelakut Island)</SimpleData>\\n\\t\\t<SimpleData name=\"Longitude\">-123.656045000000006</SimpleData>\\n\\t\\t<SimpleData name=\"Latitude\">48.973199999999999</SimpleData>\\n\\t\\t<SimpleData name=\"Location p\">0.000000000000000</SimpleData>\\n\\t\\t<SimpleData name=\"Reference\">NCTR \\xe2\\x80\\x93 Kuper Island, BC, map; Plan 3437R RSBC BC</SimpleData>\\n\\t\\t<SimpleData name=\"Religious\">Roman Catholic</SimpleData>\\n\\t\\t<SimpleData name=\"Atlas_pg\">42</SimpleData>\\n\\t\\t<SimpleData name=\"map_name\">Kuper Island IRS</SimpleData>\\n\\t\\t<SimpleData name=\"atlas_pg_s\">042</SimpleData>\\n\\t</SchemaData></ExtendedData>\\n      <Point><coordinates>-123.656045,48.9732</coordinates></Point>\\n  </Placemark>\\n  <Placemark>\\n\\t<name>Lejac (Fraser Lake), Fraser Lake, British Columbia</name>\\n\\t<ExtendedData><SchemaData schemaUrl=\"#IRS_KIB\">\\n\\t\\t<SimpleData name=\"School_num\">35</SimpleData>\\n\\t\\t<SimpleData name=\"Province o\">British Columbia</SimpleData>\\n\\t\\t<SimpleData name=\"From\">1922</SimpleData>\\n\\t\\t<SimpleData name=\"To\">1976</SimpleData>\\n\\t\\t<SimpleData name=\"Descriptio\">On the north side of Highway 16 at. 5.9 km east of Fraser Lake, BC.</SimpleData>\\n\\t\\t<SimpleData name=\"Longitude\">-124.761050999999995</SimpleData>\\n\\t\\t<SimpleData name=\"Latitude\">54.063389000000001</SimpleData>\\n\\t\\t<SimpleData name=\"Location p\">0.000000000000000</SimpleData>\\n\\t\\t<SimpleData name=\"Reference\">NCTR \\xe2\\x80\\x93 Lejac, BC, map and narrative; Plan 51 RSBC BC</SimpleData>\\n\\t\\t<SimpleData name=\"Notes\">1917-1922 was at Stuart Lake; location not yet determined</SimpleData>\\n\\t\\t<SimpleData name=\"Religious\">Roman Catholic</SimpleData>\\n\\t\\t<SimpleData name=\"Atlas_pg\">43</SimpleData>\\n\\t\\t<SimpleData name=\"map_name\">Lejac IRS</SimpleData>\\n\\t\\t<SimpleData name=\"atlas_pg_s\">043</SimpleData>\\n\\t</SchemaData></ExtendedData>\\n      <Point><coordinates>-124.761051,54.063389</coordinates></Point>\\n  </Placemark>\\n  <Placemark>\\n\\t<name>Lower Post, Lower Post, British Columbia</name>\\n\\t<ExtendedData><SchemaData schemaUrl=\"#IRS_KIB\">\\n\\t\\t<SimpleData name=\"School_num\">36</SimpleData>\\n\\t\\t<SimpleData name=\"Province o\">British Columbia</SimpleData>\\n\\t\\t<SimpleData name=\"From\">1951</SimpleData>\\n\\t\\t<SimpleData name=\"To\">1975</SimpleData>\\n\\t\\t<SimpleData name=\"Descriptio\">East side of G street, Lower Post, BC.</SimpleData>\\n\\t\\t<SimpleData name=\"Longitude\">-128.491113000000013</SimpleData>\\n\\t\\t<SimpleData name=\"Latitude\">59.924446000000003</SimpleData>\\n\\t\\t<SimpleData name=\"Location p\">0.000000000000000</SimpleData>\\n\\t\\t<SimpleData name=\"Reference\">NCTR \\xe2\\x80\\x93 Lower Post, BC, narrative; Fieldbook FBBC829 CLSR BC; Gcatholic \\xe2\\x80\\x93 Lower Post, BC</SimpleData>\\n\\t\\t<SimpleData name=\"Notes\">Potential exists for better documentation of location</SimpleData>\\n\\t\\t<SimpleData name=\"Religious\">Roman Catholic</SimpleData>\\n\\t\\t<SimpleData name=\"Atlas_pg\">44</SimpleData>\\n\\t\\t<SimpleData name=\"map_name\">Lower Post IRS</SimpleData>\\n\\t\\t<SimpleData name=\"atlas_pg_s\">044</SimpleData>\\n\\t</SchemaData></ExtendedData>\\n      <Point><coordinates>-128.491113,59.924446</coordinates></Point>\\n  </Placemark>\\n  <Placemark>\\n\\t<name>Port Simpson (Crosby Home for Girls), Port Simpson, British Columbia</name>\\n\\t<ExtendedData><SchemaData schemaUrl=\"#IRS_KIB\">\\n\\t\\t<SimpleData name=\"School_num\">37</SimpleData>\\n\\t\\t<SimpleData name=\"Province o\">British Columbia</SimpleData>\\n\\t\\t<SimpleData name=\"From\">1892</SimpleData>\\n\\t\\t<SimpleData name=\"To\">1914</SimpleData>\\n\\t\\t<SimpleData name=\"Descriptio\">West side of Legaic St., just south of First St.</SimpleData>\\n\\t\\t<SimpleData name=\"Longitude\">-130.431129999999996</SimpleData>\\n\\t\\t<SimpleData name=\"Latitude\">54.555357999999998</SimpleData>\\n\\t\\t<SimpleData name=\"Location p\">0.000000000000000</SimpleData>\\n\\t\\t<SimpleData name=\"Reference\">ChildrenRemembered \\xe2\\x80\\x93 Port Simpson;</SimpleData>\\n\\t\\t<SimpleData name=\"Notes\">400 m from the waterfront in the southeast corner of town.</SimpleData>\\n\\t\\t<SimpleData name=\"Religious\">United Church/Methodist</SimpleData>\\n\\t\\t<SimpleData name=\"Atlas_pg\">45</SimpleData>\\n\\t\\t<SimpleData name=\"map_name\">Port Simpson (Home for Boys)</SimpleData>\\n\\t\\t<SimpleData name=\"atlas_pg_s\">045</SimpleData>\\n\\t</SchemaData></ExtendedData>\\n      <Point><coordinates>-130.43113,54.555358</coordinates></Point>\\n  </Placemark>\\n  <Placemark>\\n\\t<name>Port Simpson (Crosby Home for Girls), Port Simpson, British Columbia</name>\\n\\t<ExtendedData><SchemaData schemaUrl=\"#IRS_KIB\">\\n\\t\\t<SimpleData name=\"School_num\">37</SimpleData>\\n\\t\\t<SimpleData name=\"Province o\">British Columbia</SimpleData>\\n\\t\\t<SimpleData name=\"From\">1892</SimpleData>\\n\\t\\t<SimpleData name=\"To\">1948</SimpleData>\\n\\t\\t<SimpleData name=\"Descriptio\">On Munroe (Wallace) St., east of Eagle (Legaic) St., near present school location</SimpleData>\\n\\t\\t<SimpleData name=\"Longitude\">-130.429210000000012</SimpleData>\\n\\t\\t<SimpleData name=\"Latitude\">54.558438000000002</SimpleData>\\n\\t\\t<SimpleData name=\"Location p\">0.000000000000000</SimpleData>\\n\\t\\t<SimpleData name=\"Reference\">Plan 67790 CLSR BC; NCTR \\xe2\\x80\\x93 Port Simpson, BC, narrative</SimpleData>\\n\\t\\t<SimpleData name=\"Notes\">Children were living at the Crosby\\'s Home from 1881. There was a separate Boy\\'s Home 1892-1914</SimpleData>\\n\\t\\t<SimpleData name=\"Religious\">United Church/Methodist</SimpleData>\\n\\t\\t<SimpleData name=\"Atlas_pg\">46</SimpleData>\\n\\t\\t<SimpleData name=\"map_name\">Port Simpson IRS (Crosby Girls\\' Home)</SimpleData>\\n\\t\\t<SimpleData name=\"atlas_pg_s\">046</SimpleData>\\n\\t</SchemaData></ExtendedData>\\n      <Point><coordinates>-130.42921,54.558438</coordinates></Point>\\n  </Placemark>\\n  <Placemark>\\n\\t<name>St. George\\'s (Lytton), Lytton, British Columbia</name>\\n\\t<ExtendedData><SchemaData schemaUrl=\"#IRS_KIB\">\\n\\t\\t<SimpleData name=\"School_num\">38</SimpleData>\\n\\t\\t<SimpleData name=\"Province o\">British Columbia</SimpleData>\\n\\t\\t<SimpleData name=\"From\">1901</SimpleData>\\n\\t\\t<SimpleData name=\"To\">1979</SimpleData>\\n\\t\\t<SimpleData name=\"Descriptio\">On St. George\\'s Rd, on river flats below the Lytton-Lillooet Highway, near Nlakapamux School</SimpleData>\\n\\t\\t<SimpleData name=\"Longitude\">-121.597109000000003</SimpleData>\\n\\t\\t<SimpleData name=\"Latitude\">50.266995999999999</SimpleData>\\n\\t\\t<SimpleData name=\"Location p\">0.500000000000000</SimpleData>\\n\\t\\t<SimpleData name=\"Reference\">NCTR \\xe2\\x80\\x93 St. George\\'s, BC, narrative; Plan TBC314  CLSR BC;</SimpleData>\\n\\t\\t<SimpleData name=\"Map Notes\">The school was moved in 1928 within this area.</SimpleData>\\n\\t\\t<SimpleData name=\"Notes\">Precise coordinates of the school locations still to be determined. St. George\\'s School Lands were approx. 2 sq. km., with additional farm lands 8 miles to the NE</SimpleData>\\n\\t\\t<SimpleData name=\"Religious\">Anglican</SimpleData>\\n\\t\\t<SimpleData name=\"Atlas_pg\">47</SimpleData>\\n\\t\\t<SimpleData name=\"map_name\">St. George\\'s IRS</SimpleData>\\n\\t\\t<SimpleData name=\"atlas_pg_s\">047</SimpleData>\\n\\t</SchemaData></ExtendedData>\\n      <Point><coordinates>-121.597109,50.266996</coordinates></Point>\\n  </Placemark>\\n  <Placemark>\\n\\t<name>St. Mary\\'s (Mission), Mission, British Columbia</name>\\n\\t<ExtendedData><SchemaData schemaUrl=\"#IRS_KIB\">\\n\\t\\t<SimpleData name=\"School_num\">39</SimpleData>\\n\\t\\t<SimpleData name=\"Province o\">British Columbia</SimpleData>\\n\\t\\t<SimpleData name=\"From\">1867</SimpleData>\\n\\t\\t<SimpleData name=\"To\">1882</SimpleData>\\n\\t\\t<SimpleData name=\"Descriptio\">Present-day CPR tracks adjacent to Fraser River Heritage Park, Mission, BC</SimpleData>\\n\\t\\t<SimpleData name=\"Longitude\">-122.283855000000003</SimpleData>\\n\\t\\t<SimpleData name=\"Latitude\">49.137189999999997</SimpleData>\\n\\t\\t<SimpleData name=\"Location p\">0.000000000000000</SimpleData>\\n\\t\\t<SimpleData name=\"Reference\">FraserHertiagePark 2004</SimpleData>\\n\\t\\t<SimpleData name=\"Map Notes\">School was moved further from the river when the railway was built.</SimpleData>\\n\\t\\t<SimpleData name=\"Notes\">School functioned from 1863</SimpleData>\\n\\t\\t<SimpleData name=\"Religious\">Roman Catholic</SimpleData>\\n\\t\\t<SimpleData name=\"Atlas_pg\">48</SimpleData>\\n\\t\\t<SimpleData name=\"map_name\">St. Mary\\'s IRS</SimpleData>\\n\\t\\t<SimpleData name=\"atlas_pg_s\">048</SimpleData>\\n\\t</SchemaData></ExtendedData>\\n      <Point><coordinates>-122.283855,49.13719</coordinates></Point>\\n  </Placemark>\\n  <Placemark>\\n\\t<name>St. Mary\\'s (Mission), Mission, British Columbia</name>\\n\\t<ExtendedData><SchemaData schemaUrl=\"#IRS_KIB\">\\n\\t\\t<SimpleData name=\"School_num\">39</SimpleData>\\n\\t\\t<SimpleData name=\"Province o\">British Columbia</SimpleData>\\n\\t\\t<SimpleData name=\"From\">1882</SimpleData>\\n\\t\\t<SimpleData name=\"To\">1961</SimpleData>\\n\\t\\t<SimpleData name=\"Descriptio\">Fraser River Heritage Park in Mission, BC</SimpleData>\\n\\t\\t<SimpleData name=\"Longitude\">-122.286255999999995</SimpleData>\\n\\t\\t<SimpleData name=\"Latitude\">49.137839999999997</SimpleData>\\n\\t\\t<SimpleData name=\"Location p\">0.000000000000000</SimpleData>\\n\\t\\t<SimpleData name=\"Reference\">FraserHeritagePark 2004</SimpleData>\\n\\t\\t<SimpleData name=\"Map Notes\">The school was moved some distance east in 1961</SimpleData>\\n\\t\\t<SimpleData name=\"Religious\">Roman Catholic</SimpleData>\\n\\t\\t<SimpleData name=\"Atlas_pg\">49</SimpleData>\\n\\t\\t<SimpleData name=\"map_name\">St. Mary\\'s IRS</SimpleData>\\n\\t\\t<SimpleData name=\"atlas_pg_s\">049</SimpleData>\\n\\t</SchemaData></ExtendedData>\\n      <Point><coordinates>-122.286256,49.13784</coordinates></Point>\\n  </Placemark>\\n  <Placemark>\\n\\t<name>St. Mary\\'s (Mission), Mission, British Columbia</name>\\n\\t<ExtendedData><SchemaData schemaUrl=\"#IRS_KIB\">\\n\\t\\t<SimpleData name=\"School_num\">39</SimpleData>\\n\\t\\t<SimpleData name=\"Province o\">British Columbia</SimpleData>\\n\\t\\t<SimpleData name=\"From\">1961</SimpleData>\\n\\t\\t<SimpleData name=\"To\">1984</SimpleData>\\n\\t\\t<SimpleData name=\"Descriptio\">Pekw\\'Xe:yles Indian Reserve</SimpleData>\\n\\t\\t<SimpleData name=\"Longitude\">-122.275205999999997</SimpleData>\\n\\t\\t<SimpleData name=\"Latitude\">49.143287000000001</SimpleData>\\n\\t\\t<SimpleData name=\"Location p\">0.000000000000000</SimpleData>\\n\\t\\t<SimpleData name=\"Reference\">Wikipedia \\xe2\\x80\\x93 Mission, BC</SimpleData>\\n\\t\\t<SimpleData name=\"Religious\">Roman Catholic</SimpleData>\\n\\t\\t<SimpleData name=\"Atlas_pg\">50</SimpleData>\\n\\t\\t<SimpleData name=\"map_name\">St. Mary\\'s IRS</SimpleData>\\n\\t\\t<SimpleData name=\"atlas_pg_s\">050</SimpleData>\\n\\t</SchemaData></ExtendedData>\\n      <Point><coordinates>-122.275206,49.143287</coordinates></Point>\\n  </Placemark>\\n  <Placemark>\\n\\t<name>St. Michael\\'s (Alert Bay Girls\\' Home, Alert Bay Boys\\' Home), Alert Bay, British Columbia</name>\\n\\t<ExtendedData><SchemaData schemaUrl=\"#IRS_KIB\">\\n\\t\\t<SimpleData name=\"School_num\">40</SimpleData>\\n\\t\\t<SimpleData name=\"Province o\">British Columbia</SimpleData>\\n\\t\\t<SimpleData name=\"From\">1894</SimpleData>\\n\\t\\t<SimpleData name=\"To\">1974</SimpleData>\\n\\t\\t<SimpleData name=\"Descriptio\">On School Rd. in Alert Bay, BC</SimpleData>\\n\\t\\t<SimpleData name=\"Longitude\">-126.941770000000005</SimpleData>\\n\\t\\t<SimpleData name=\"Latitude\">50.593927000000001</SimpleData>\\n\\t\\t<SimpleData name=\"Location p\">0.000000000000000</SimpleData>\\n\\t\\t<SimpleData name=\"Reference\">Wikipedia \\xe2\\x80\\x93 St. Michael\\'s, Alert Bay; Plan BC139 CLSR BC</SimpleData>\\n\\t\\t<SimpleData name=\"Religious\">Anglican</SimpleData>\\n\\t\\t<SimpleData name=\"Atlas_pg\">51</SimpleData>\\n\\t\\t<SimpleData name=\"map_name\">St. Michael\\'s IRS</SimpleData>\\n\\t\\t<SimpleData name=\"atlas_pg_s\">051</SimpleData>\\n\\t</SchemaData></ExtendedData>\\n      <Point><coordinates>-126.94177,50.593927</coordinates></Point>\\n  </Placemark>\\n  <Placemark>\\n\\t<name>Sechelt, Sechelt, British Columbia</name>\\n\\t<ExtendedData><SchemaData schemaUrl=\"#IRS_KIB\">\\n\\t\\t<SimpleData name=\"School_num\">41</SimpleData>\\n\\t\\t<SimpleData name=\"Province o\">British Columbia</SimpleData>\\n\\t\\t<SimpleData name=\"From\">1904</SimpleData>\\n\\t\\t<SimpleData name=\"To\">1975</SimpleData>\\n\\t\\t<SimpleData name=\"Descriptio\">Just west of St. Mary\\'s Hospital in Sechelt, BC</SimpleData>\\n\\t\\t<SimpleData name=\"Longitude\">-123.751583999999994</SimpleData>\\n\\t\\t<SimpleData name=\"Latitude\">49.474978000000000</SimpleData>\\n\\t\\t<SimpleData name=\"Location p\">0.000000000000000</SimpleData>\\n\\t\\t<SimpleData name=\"Reference\">Fieldbook FBBC497 CLSR BC</SimpleData>\\n\\t\\t<SimpleData name=\"Religious\">Roman Catholic</SimpleData>\\n\\t\\t<SimpleData name=\"Atlas_pg\">52</SimpleData>\\n\\t\\t<SimpleData name=\"map_name\">Sechelt IRS</SimpleData>\\n\\t\\t<SimpleData name=\"atlas_pg_s\">052</SimpleData>\\n\\t</SchemaData></ExtendedData>\\n      <Point><coordinates>-123.751584,49.474978</coordinates></Point>\\n  </Placemark>\\n  <Placemark>\\n\\t<name>St. Paul\\'s (Squamish, North Vancouver), North Vancouver, British Columbia</name>\\n\\t<ExtendedData><SchemaData schemaUrl=\"#IRS_KIB\">\\n\\t\\t<SimpleData name=\"School_num\">42</SimpleData>\\n\\t\\t<SimpleData name=\"Province o\">British Columbia</SimpleData>\\n\\t\\t<SimpleData name=\"From\">1899</SimpleData>\\n\\t\\t<SimpleData name=\"To\">1959</SimpleData>\\n\\t\\t<SimpleData name=\"Descriptio\">located in the 500 Block West Keith Road at what is now the site of St. Thomas Aquinas High School in the City of North Vancouver.</SimpleData>\\n\\t\\t<SimpleData name=\"Longitude\">-123.087076999999994</SimpleData>\\n\\t\\t<SimpleData name=\"Latitude\">49.319668000000000</SimpleData>\\n\\t\\t<SimpleData name=\"Location p\">0.000000000000000</SimpleData>\\n\\t\\t<SimpleData name=\"Reference\">Wikipedia \\xe2\\x80\\x93 St. Paul\\'s, North Vancouver, BC</SimpleData>\\n\\t\\t<SimpleData name=\"Religious\">Roman Catholic</SimpleData>\\n\\t\\t<SimpleData name=\"Atlas_pg\">53</SimpleData>\\n\\t\\t<SimpleData name=\"map_name\">St. Paul\\'s IRS</SimpleData>\\n\\t\\t<SimpleData name=\"atlas_pg_s\">053</SimpleData>\\n\\t</SchemaData></ExtendedData>\\n      <Point><coordinates>-123.087077,49.319668</coordinates></Point>\\n  </Placemark>\\n  <Placemark>\\n\\t<name>Anahim Lake Dormitory (September 1968 to June 1977), Anahim Lake, British Columbia</name>\\n\\t<ExtendedData><SchemaData schemaUrl=\"#IRS_KIB\">\\n\\t\\t<SimpleData name=\"School_num\">43</SimpleData>\\n\\t\\t<SimpleData name=\"Province o\">British Columbia</SimpleData>\\n\\t\\t<SimpleData name=\"From\">1968</SimpleData>\\n\\t\\t<SimpleData name=\"To\">1977</SimpleData>\\n\\t\\t<SimpleData name=\"Descriptio\">In the community of Anahim Lake, BC</SimpleData>\\n\\t\\t<SimpleData name=\"Longitude\">-125.307198999999997</SimpleData>\\n\\t\\t<SimpleData name=\"Latitude\">52.465363000000004</SimpleData>\\n\\t\\t<SimpleData name=\"Location p\">0.500000000000000</SimpleData>\\n\\t\\t<SimpleData name=\"Reference\">NCTR \\xe2\\x80\\x93 Anahim Lake, BC, map</SimpleData>\\n\\t\\t<SimpleData name=\"Notes\">The dormitory opened in 1960</SimpleData>\\n\\t\\t<SimpleData name=\"Religious\">Roman Catholic</SimpleData>\\n\\t\\t<SimpleData name=\"Atlas_pg\">54</SimpleData>\\n\\t\\t<SimpleData name=\"map_name\">Anahim Lake Dormitory</SimpleData>\\n\\t\\t<SimpleData name=\"atlas_pg_s\">054</SimpleData>\\n\\t</SchemaData></ExtendedData>\\n      <Point><coordinates>-125.307199,52.465363</coordinates></Point>\\n  </Placemark>\\n  <Placemark>\\n\\t<name>Assiniboia (Winnipeg), Winnipeg, Manitoba</name>\\n\\t<ExtendedData><SchemaData schemaUrl=\"#IRS_KIB\">\\n\\t\\t<SimpleData name=\"School_num\">44</SimpleData>\\n\\t\\t<SimpleData name=\"Province o\">Manitoba</SimpleData>\\n\\t\\t<SimpleData name=\"From\">1958</SimpleData>\\n\\t\\t<SimpleData name=\"To\">1973</SimpleData>\\n\\t\\t<SimpleData name=\"Descriptio\">615 Academy Rd, Winnipeg, MB</SimpleData>\\n\\t\\t<SimpleData name=\"Longitude\">-97.200056000000004</SimpleData>\\n\\t\\t<SimpleData name=\"Latitude\">49.875303000000002</SimpleData>\\n\\t\\t<SimpleData name=\"Location p\">0.000000000000000</SimpleData>\\n\\t\\t<SimpleData name=\"Reference\">Mitchell, 2015</SimpleData>\\n\\t\\t<SimpleData name=\"Notes\">Now the Canadian Centre for Child Protection</SimpleData>\\n\\t\\t<SimpleData name=\"Religious\">Roman Catholic</SimpleData>\\n\\t\\t<SimpleData name=\"Atlas_pg\">55</SimpleData>\\n\\t\\t<SimpleData name=\"map_name\">Assiniboia IRS</SimpleData>\\n\\t\\t<SimpleData name=\"atlas_pg_s\">055</SimpleData>\\n\\t</SchemaData></ExtendedData>\\n      <Point><coordinates>-97.200056,49.875303</coordinates></Point>\\n  </Placemark>\\n  <Placemark>\\n\\t<name>Birtle, Birtle, Manitoba</name>\\n\\t<ExtendedData><SchemaData schemaUrl=\"#IRS_KIB\">\\n\\t\\t<SimpleData name=\"School_num\">45</SimpleData>\\n\\t\\t<SimpleData name=\"Province o\">Manitoba</SimpleData>\\n\\t\\t<SimpleData name=\"From\">1888</SimpleData>\\n\\t\\t<SimpleData name=\"To\">1970</SimpleData>\\n\\t\\t<SimpleData name=\"Descriptio\">just north of downtown Birtle</SimpleData>\\n\\t\\t<SimpleData name=\"Longitude\">-101.041830000000004</SimpleData>\\n\\t\\t<SimpleData name=\"Latitude\">50.431910000000002</SimpleData>\\n\\t\\t<SimpleData name=\"Location p\">0.000000000000000</SimpleData>\\n\\t\\t<SimpleData name=\"Reference\">Historic Sites of Manitoba: Birtle Indian Residential School</SimpleData>\\n\\t\\t<SimpleData name=\"Notes\">abandonned</SimpleData>\\n\\t\\t<SimpleData name=\"Religious\">Presbyterian</SimpleData>\\n\\t\\t<SimpleData name=\"Atlas_pg\">56</SimpleData>\\n\\t\\t<SimpleData name=\"map_name\">Birtle IRS</SimpleData>\\n\\t\\t<SimpleData name=\"atlas_pg_s\">056</SimpleData>\\n\\t</SchemaData></ExtendedData>\\n      <Point><coordinates>-101.04183,50.43191</coordinates></Point>\\n  </Placemark>\\n  <Placemark>\\n\\t<name>Brandon, Brandon, Manitoba</name>\\n\\t<ExtendedData><SchemaData schemaUrl=\"#IRS_KIB\">\\n\\t\\t<SimpleData name=\"School_num\">46</SimpleData>\\n\\t\\t<SimpleData name=\"Province o\">Manitoba</SimpleData>\\n\\t\\t<SimpleData name=\"From\">1895</SimpleData>\\n\\t\\t<SimpleData name=\"To\">1972</SimpleData>\\n\\t\\t<SimpleData name=\"Descriptio\">northwest of downtown Brandon</SimpleData>\\n\\t\\t<SimpleData name=\"Longitude\">-99.989530000000002</SimpleData>\\n\\t\\t<SimpleData name=\"Latitude\">49.869349999999997</SimpleData>\\n\\t\\t<SimpleData name=\"Location p\">0.000000000000000</SimpleData>\\n\\t\\t<SimpleData name=\"Reference\">Historic Sites of Manitoba: Brandon Indian Residential School</SimpleData>\\n\\t\\t<SimpleData name=\"Notes\">ruins only</SimpleData>\\n\\t\\t<SimpleData name=\"Religious\">Methodist</SimpleData>\\n\\t\\t<SimpleData name=\"Atlas_pg\">57</SimpleData>\\n\\t\\t<SimpleData name=\"map_name\">Brandon IRS</SimpleData>\\n\\t\\t<SimpleData name=\"atlas_pg_s\">057</SimpleData>\\n\\t</SchemaData></ExtendedData>\\n      <Point><coordinates>-99.98953,49.86935</coordinates></Point>\\n  </Placemark>\\n  <Placemark>\\n\\t<name>Churchill Vocational Centre, Churchill, Manitoba</name>\\n\\t<ExtendedData><SchemaData schemaUrl=\"#IRS_KIB\">\\n\\t\\t<SimpleData name=\"School_num\">47</SimpleData>\\n\\t\\t<SimpleData name=\"Province o\">Manitoba</SimpleData>\\n\\t\\t<SimpleData name=\"From\">1964</SimpleData>\\n\\t\\t<SimpleData name=\"To\">1973</SimpleData>\\n\\t\\t<SimpleData name=\"Descriptio\">Fort Churchill, about 8 km east of Churchill, MB</SimpleData>\\n\\t\\t<SimpleData name=\"Longitude\">-94.170998999999995</SimpleData>\\n\\t\\t<SimpleData name=\"Latitude\">58.769841000000000</SimpleData>\\n\\t\\t<SimpleData name=\"Location p\">0.000000000000000</SimpleData>\\n\\t\\t<SimpleData name=\"Reference\">NCTR \\xe2\\x80\\x93 Churchill, MB, map and narrative</SimpleData>\\n\\t\\t<SimpleData name=\"Religious\">Non-denominational</SimpleData>\\n\\t\\t<SimpleData name=\"Atlas_pg\">58</SimpleData>\\n\\t\\t<SimpleData name=\"map_name\">Churchill Vocational Centre</SimpleData>\\n\\t\\t<SimpleData name=\"atlas_pg_s\">058</SimpleData>\\n\\t</SchemaData></ExtendedData>\\n      <Point><coordinates>-94.170999,58.769841</coordinates></Point>\\n  </Placemark>\\n  <Placemark>\\n\\t<name>Cross Lake (St. Joseph\\'s, Jack River Annex - predecessor to Notre Dame Hostel), Cross Lake, Manitoba</name>\\n\\t<ExtendedData><SchemaData schemaUrl=\"#IRS_KIB\">\\n\\t\\t<SimpleData name=\"School_num\">48</SimpleData>\\n\\t\\t<SimpleData name=\"Province o\">Manitoba</SimpleData>\\n\\t\\t<SimpleData name=\"From\">1912</SimpleData>\\n\\t\\t<SimpleData name=\"To\">1969</SimpleData>\\n\\t\\t<SimpleData name=\"Descriptio\">At the end of R. C. Mission Rd., off the west end of the airport runway</SimpleData>\\n\\t\\t<SimpleData name=\"Longitude\">-97.773843999999997</SimpleData>\\n\\t\\t<SimpleData name=\"Latitude\">54.602888000000000</SimpleData>\\n\\t\\t<SimpleData name=\"Location p\">0.000000000000000</SimpleData>\\n\\t\\t<SimpleData name=\"Reference\">Plan T1279A CLSR MB</SimpleData>\\n\\t\\t<SimpleData name=\"Religious\">Roman Catholic</SimpleData>\\n\\t\\t<SimpleData name=\"Atlas_pg\">59</SimpleData>\\n\\t\\t<SimpleData name=\"map_name\">Cross Lake IRS</SimpleData>\\n\\t\\t<SimpleData name=\"atlas_pg_s\">059</SimpleData>\\n\\t</SchemaData></ExtendedData>\\n      <Point><coordinates>-97.773844,54.602888</coordinates></Point>\\n  </Placemark>\\n  <Placemark>\\n\\t<name>Dauphin (McKay), The Pas / Dauphin, Manitoba</name>\\n\\t<ExtendedData><SchemaData schemaUrl=\"#IRS_KIB\">\\n\\t\\t<SimpleData name=\"School_num\">49</SimpleData>\\n\\t\\t<SimpleData name=\"Province o\">Manitoba</SimpleData>\\n\\t\\t<SimpleData name=\"From\">1915</SimpleData>\\n\\t\\t<SimpleData name=\"To\">1933</SimpleData>\\n\\t\\t<SimpleData name=\"Descriptio\">Fisher Island, north of The Pas, MB</SimpleData>\\n\\t\\t<SimpleData name=\"Longitude\">-101.365750000000006</SimpleData>\\n\\t\\t<SimpleData name=\"Latitude\">53.868189999999998</SimpleData>\\n\\t\\t<SimpleData name=\"Location p\">0.000000000000000</SimpleData>\\n\\t\\t<SimpleData name=\"Reference\">Historic Sites of Manitoba: MacKay Indian Residential School</SimpleData>\\n\\t\\t<SimpleData name=\"Religious\">Anglican</SimpleData>\\n\\t\\t<SimpleData name=\"Atlas_pg\">60</SimpleData>\\n\\t\\t<SimpleData name=\"map_name\">Mackay IRS</SimpleData>\\n\\t\\t<SimpleData name=\"atlas_pg_s\">060</SimpleData>\\n\\t</SchemaData></ExtendedData>\\n      <Point><coordinates>-101.36575,53.86819</coordinates></Point>\\n  </Placemark>\\n  <Placemark>\\n\\t<name>Dauphin (McKay), The Pas / Dauphin, Manitoba</name>\\n\\t<ExtendedData><SchemaData schemaUrl=\"#IRS_KIB\">\\n\\t\\t<SimpleData name=\"School_num\">49</SimpleData>\\n\\t\\t<SimpleData name=\"Province o\">Manitoba</SimpleData>\\n\\t\\t<SimpleData name=\"From\">1957</SimpleData>\\n\\t\\t<SimpleData name=\"To\">1988</SimpleData>\\n\\t\\t<SimpleData name=\"Descriptio\">Whitmore Avenue, and bordered by Pioneer Avenue and Ida Street</SimpleData>\\n\\t\\t<SimpleData name=\"Longitude\">-100.065128999999999</SimpleData>\\n\\t\\t<SimpleData name=\"Latitude\">51.140932999999997</SimpleData>\\n\\t\\t<SimpleData name=\"Location p\">0.000000000000000</SimpleData>\\n\\t\\t<SimpleData name=\"Reference\">Historic Sites of Manitoba: MacKay Indian Residential School; NCTR \\xe2\\x80\\x93 MacKay, MB, narrative</SimpleData>\\n\\t\\t<SimpleData name=\"Religious\">Anglican</SimpleData>\\n\\t\\t<SimpleData name=\"Atlas_pg\">61</SimpleData>\\n\\t\\t<SimpleData name=\"map_name\">Dauphin IRS</SimpleData>\\n\\t\\t<SimpleData name=\"atlas_pg_s\">061</SimpleData>\\n\\t</SchemaData></ExtendedData>\\n      <Point><coordinates>-100.065129,51.140933</coordinates></Point>\\n  </Placemark>\\n  <Placemark>\\n\\t<name>Elkhorn (Washakada), Elkhorn, Manitoba</name>\\n\\t<ExtendedData><SchemaData schemaUrl=\"#IRS_KIB\">\\n\\t\\t<SimpleData name=\"School_num\">50</SimpleData>\\n\\t\\t<SimpleData name=\"Province o\">Manitoba</SimpleData>\\n\\t\\t<SimpleData name=\"From\">1888</SimpleData>\\n\\t\\t<SimpleData name=\"To\">1949</SimpleData>\\n\\t\\t<SimpleData name=\"Descriptio\">just west of the town centre of Elkhorn, MB</SimpleData>\\n\\t\\t<SimpleData name=\"Longitude\">-101.250950000000003</SimpleData>\\n\\t\\t<SimpleData name=\"Latitude\">49.977069999999998</SimpleData>\\n\\t\\t<SimpleData name=\"Location p\">0.000000000000000</SimpleData>\\n\\t\\t<SimpleData name=\"Reference\">Historic Sites of Manitoba: Elkhorn Indian Residential Schoole</SimpleData>\\n\\t\\t<SimpleData name=\"Notes\">destroyed</SimpleData>\\n\\t\\t<SimpleData name=\"Religious\">Anglican</SimpleData>\\n\\t\\t<SimpleData name=\"Atlas_pg\">62</SimpleData>\\n\\t\\t<SimpleData name=\"map_name\">Elkhorn IRS</SimpleData>\\n\\t\\t<SimpleData name=\"atlas_pg_s\">062</SimpleData>\\n\\t</SchemaData></ExtendedData>\\n      <Point><coordinates>-101.25095,49.97707</coordinates></Point>\\n  </Placemark>\\n  <Placemark>\\n\\t<name>Fort Alexander (Pine Falls), Fort Alexander, Manitoba</name>\\n\\t<ExtendedData><SchemaData schemaUrl=\"#IRS_KIB\">\\n\\t\\t<SimpleData name=\"School_num\">51</SimpleData>\\n\\t\\t<SimpleData name=\"Province o\">Manitoba</SimpleData>\\n\\t\\t<SimpleData name=\"From\">1905</SimpleData>\\n\\t\\t<SimpleData name=\"To\">1970</SimpleData>\\n\\t\\t<SimpleData name=\"Descriptio\">in Fort Alexander, near the Saint Alexander Roman Catholic Cemetery</SimpleData>\\n\\t\\t<SimpleData name=\"Longitude\">-96.308719999999994</SimpleData>\\n\\t\\t<SimpleData name=\"Latitude\">50.616309999999999</SimpleData>\\n\\t\\t<SimpleData name=\"Location p\">1.000000000000000</SimpleData>\\n\\t\\t<SimpleData name=\"Reference\">Historic Sites of Manitoba: Fort Alexander Indian Residential School</SimpleData>\\n\\t\\t<SimpleData name=\"Religious\">Roman Catholic</SimpleData>\\n\\t\\t<SimpleData name=\"Atlas_pg\">63</SimpleData>\\n\\t\\t<SimpleData name=\"map_name\">Fort Alexander IRS</SimpleData>\\n\\t\\t<SimpleData name=\"atlas_pg_s\">063</SimpleData>\\n\\t</SchemaData></ExtendedData>\\n      <Point><coordinates>-96.30872,50.61631</coordinates></Point>\\n  </Placemark>\\n  <Placemark>\\n\\t<name>Guy Hill (Clearwater, The Pas, formerly Sturgeon Landing, SK), The Pas, Manitoba</name>\\n\\t<ExtendedData><SchemaData schemaUrl=\"#IRS_KIB\">\\n\\t\\t<SimpleData name=\"School_num\">52</SimpleData>\\n\\t\\t<SimpleData name=\"Province o\">Manitoba</SimpleData>\\n\\t\\t<SimpleData name=\"From\">1952</SimpleData>\\n\\t\\t<SimpleData name=\"To\">1958</SimpleData>\\n\\t\\t<SimpleData name=\"Descriptio\">Assumed to be near the Our Lady of the Sacred Heart Cathedral</SimpleData>\\n\\t\\t<SimpleData name=\"Longitude\">-101.251532999999995</SimpleData>\\n\\t\\t<SimpleData name=\"Latitude\">53.827880999999998</SimpleData>\\n\\t\\t<SimpleData name=\"Location p\">0.500000000000000</SimpleData>\\n\\t\\t<SimpleData name=\"Reference\">NCTR \\xe2\\x80\\x93 Guy Hill, MB narrative</SimpleData>\\n\\t\\t<SimpleData name=\"Map Notes\">These were temporary quarters while the school at Clearwater was being built. Location assumed to be within 500m of Roman Catholic Cathedral</SimpleData>\\n\\t\\t<SimpleData name=\"Religious\">Roman Catholic</SimpleData>\\n\\t\\t<SimpleData name=\"Atlas_pg\">64</SimpleData>\\n\\t\\t<SimpleData name=\"map_name\">Guy Hill IRS</SimpleData>\\n\\t\\t<SimpleData name=\"atlas_pg_s\">064</SimpleData>\\n\\t</SchemaData></ExtendedData>\\n      <Point><coordinates>-101.251533,53.827881</coordinates></Point>\\n  </Placemark>\\n  <Placemark>\\n\\t<name>Guy Hill (Clearwater, The Pas, formerly Sturgeon Landing, SK), The Pas, Manitoba</name>\\n\\t<ExtendedData><SchemaData schemaUrl=\"#IRS_KIB\">\\n\\t\\t<SimpleData name=\"School_num\">52</SimpleData>\\n\\t\\t<SimpleData name=\"Province o\">Manitoba</SimpleData>\\n\\t\\t<SimpleData name=\"From\">1958</SimpleData>\\n\\t\\t<SimpleData name=\"To\">1979</SimpleData>\\n\\t\\t<SimpleData name=\"Descriptio\">south shore of Clearwater Lake, just east of the airport</SimpleData>\\n\\t\\t<SimpleData name=\"Longitude\">-101.037205000000000</SimpleData>\\n\\t\\t<SimpleData name=\"Latitude\">53.984803999999997</SimpleData>\\n\\t\\t<SimpleData name=\"Location p\">0.000000000000000</SimpleData>\\n\\t\\t<SimpleData name=\"Reference\">Cybercartographic Atlas, Carleton, 2017</SimpleData>\\n\\t\\t<SimpleData name=\"Religious\">Roman Catholic</SimpleData>\\n\\t\\t<SimpleData name=\"Atlas_pg\">65</SimpleData>\\n\\t\\t<SimpleData name=\"map_name\">Guy Hill IRS</SimpleData>\\n\\t\\t<SimpleData name=\"atlas_pg_s\">065</SimpleData>\\n\\t</SchemaData></ExtendedData>\\n      <Point><coordinates>-101.037205,53.984804</coordinates></Point>\\n  </Placemark>\\n  <Placemark>\\n\\t<name>Norway House United Church, Norway House, Manitoba</name>\\n\\t<ExtendedData><SchemaData schemaUrl=\"#IRS_KIB\">\\n\\t\\t<SimpleData name=\"School_num\">53</SimpleData>\\n\\t\\t<SimpleData name=\"Province o\">Manitoba</SimpleData>\\n\\t\\t<SimpleData name=\"From\">1900</SimpleData>\\n\\t\\t<SimpleData name=\"To\">1967</SimpleData>\\n\\t\\t<SimpleData name=\"Descriptio\">Rossville, MB, on Norway House Reserve No. 17</SimpleData>\\n\\t\\t<SimpleData name=\"Longitude\">-97.785849999999996</SimpleData>\\n\\t\\t<SimpleData name=\"Latitude\">53.997320000000002</SimpleData>\\n\\t\\t<SimpleData name=\"Location p\">0.000000000000000</SimpleData>\\n\\t\\t<SimpleData name=\"Reference\">Historic Sites of Manitoba: Norway House Indian Residential School; Plan T2097 CLSR MB</SimpleData>\\n\\t\\t<SimpleData name=\"Religious\">United Church</SimpleData>\\n\\t\\t<SimpleData name=\"Atlas_pg\">66</SimpleData>\\n\\t\\t<SimpleData name=\"map_name\">Norway House United Church IRS</SimpleData>\\n\\t\\t<SimpleData name=\"atlas_pg_s\">066</SimpleData>\\n\\t</SchemaData></ExtendedData>\\n      <Point><coordinates>-97.78585,53.99732</coordinates></Point>\\n  </Placemark>\\n  <Placemark>\\n\\t<name>Notre Dame Hostel (Norway House Roman Catholic, Jack River Hostel, replaced Jack River Annex at Cross Lake), Norway House, Manitoba</name>\\n\\t<ExtendedData><SchemaData schemaUrl=\"#IRS_KIB\">\\n\\t\\t<SimpleData name=\"School_num\">54</SimpleData>\\n\\t\\t<SimpleData name=\"Province o\">Manitoba</SimpleData>\\n\\t\\t<SimpleData name=\"From\">1915</SimpleData>\\n\\t\\t<SimpleData name=\"To\">1942</SimpleData>\\n\\t\\t<SimpleData name=\"Descriptio\">on the Jack River, on the Norway House Reserve</SimpleData>\\n\\t\\t<SimpleData name=\"Longitude\">-97.847590999999994</SimpleData>\\n\\t\\t<SimpleData name=\"Latitude\">53.951045999999998</SimpleData>\\n\\t\\t<SimpleData name=\"Location p\">0.000000000000000</SimpleData>\\n\\t\\t<SimpleData name=\"Reference\">LAC Norway House 1910</SimpleData>\\n\\t\\t<SimpleData name=\"Map Notes\">Operated 1912-1915, 1930-1940; and 1943-1963</SimpleData>\\n\\t\\t<SimpleData name=\"Religious\">Roman Catholic</SimpleData>\\n\\t\\t<SimpleData name=\"Atlas_pg\">67</SimpleData>\\n\\t\\t<SimpleData name=\"map_name\">Notre Dame Hostel</SimpleData>\\n\\t\\t<SimpleData name=\"atlas_pg_s\">067</SimpleData>\\n\\t</SchemaData></ExtendedData>\\n      <Point><coordinates>-97.847591,53.951046</coordinates></Point>\\n  </Placemark>\\n  <Placemark>\\n\\t<name>Pine Creek (Camperville), Camperville, Manitoba</name>\\n\\t<ExtendedData><SchemaData schemaUrl=\"#IRS_KIB\">\\n\\t\\t<SimpleData name=\"School_num\">55</SimpleData>\\n\\t\\t<SimpleData name=\"Province o\">Manitoba</SimpleData>\\n\\t\\t<SimpleData name=\"From\">1890</SimpleData>\\n\\t\\t<SimpleData name=\"To\">1969</SimpleData>\\n\\t\\t<SimpleData name=\"Descriptio\">just north of Pine Creek, MB</SimpleData>\\n\\t\\t<SimpleData name=\"Longitude\">-100.150397999999996</SimpleData>\\n\\t\\t<SimpleData name=\"Latitude\">52.003599999999999</SimpleData>\\n\\t\\t<SimpleData name=\"Location p\">0.000000000000000</SimpleData>\\n\\t\\t<SimpleData name=\"Reference\">Historic Sites of Manitoba: Pine Creek Indian Residential School</SimpleData>\\n\\t\\t<SimpleData name=\"Religious\">Roman Catholic</SimpleData>\\n\\t\\t<SimpleData name=\"Atlas_pg\">68</SimpleData>\\n\\t\\t<SimpleData name=\"map_name\">Pine Creek IRS</SimpleData>\\n\\t\\t<SimpleData name=\"atlas_pg_s\">068</SimpleData>\\n\\t</SchemaData></ExtendedData>\\n      <Point><coordinates>-100.150398,52.0036</coordinates></Point>\\n  </Placemark>\\n  <Placemark>\\n\\t<name>Portage la Prairie, Portage la Prairie, Manitoba</name>\\n\\t<ExtendedData><SchemaData schemaUrl=\"#IRS_KIB\">\\n\\t\\t<SimpleData name=\"School_num\">56</SimpleData>\\n\\t\\t<SimpleData name=\"Province o\">Manitoba</SimpleData>\\n\\t\\t<SimpleData name=\"From\">1888</SimpleData>\\n\\t\\t<SimpleData name=\"To\">1915</SimpleData>\\n\\t\\t<SimpleData name=\"Descriptio\">one quarter mile east of Portage la Prairie, Manitoba</SimpleData>\\n\\t\\t<SimpleData name=\"Longitude\">-98.274648999999997</SimpleData>\\n\\t\\t<SimpleData name=\"Latitude\">49.972102000000000</SimpleData>\\n\\t\\t<SimpleData name=\"Location p\">1.000000000000000</SimpleData>\\n\\t\\t<SimpleData name=\"Reference\">ChildrenRemembered \\xe2\\x80\\x93 Portage la Prairie</SimpleData>\\n\\t\\t<SimpleData name=\"Map Notes\">In this time period the school was located \\xe2\\x80\\x9cone quarter mile east of Portage la Prairie.\\xe2\\x80\\x9d</SimpleData>\\n\\t\\t<SimpleData name=\"Religious\">United Church</SimpleData>\\n\\t\\t<SimpleData name=\"Atlas_pg\">69</SimpleData>\\n\\t\\t<SimpleData name=\"map_name\">Portage la Prairie IRS</SimpleData>\\n\\t\\t<SimpleData name=\"atlas_pg_s\">069</SimpleData>\\n\\t</SchemaData></ExtendedData>\\n      <Point><coordinates>-98.274649,49.972102</coordinates></Point>\\n  </Placemark>\\n  <Placemark>\\n\\t<name>Portage la Prairie, Portage la Prairie, Manitoba</name>\\n\\t<ExtendedData><SchemaData schemaUrl=\"#IRS_KIB\">\\n\\t\\t<SimpleData name=\"School_num\">56</SimpleData>\\n\\t\\t<SimpleData name=\"Province o\">Manitoba</SimpleData>\\n\\t\\t<SimpleData name=\"From\">1916</SimpleData>\\n\\t\\t<SimpleData name=\"To\">1975</SimpleData>\\n\\t\\t<SimpleData name=\"Descriptio\">5000 Crescent Rd. W</SimpleData>\\n\\t\\t<SimpleData name=\"Longitude\">-98.322550000000007</SimpleData>\\n\\t\\t<SimpleData name=\"Latitude\">49.962299999999999</SimpleData>\\n\\t\\t<SimpleData name=\"Location p\">0.000000000000000</SimpleData>\\n\\t\\t<SimpleData name=\"Reference\">Historic Sites of Manitoba: Portage la Prairie Indian Residential School</SimpleData>\\n\\t\\t<SimpleData name=\"Notes\">only used as a student residence 1961\\xe2\\x80\\x931975</SimpleData>\\n\\t\\t<SimpleData name=\"Religious\">United Church</SimpleData>\\n\\t\\t<SimpleData name=\"Atlas_pg\">70</SimpleData>\\n\\t\\t<SimpleData name=\"map_name\">Portage la Prairie IRS</SimpleData>\\n\\t\\t<SimpleData name=\"atlas_pg_s\">070</SimpleData>\\n\\t</SchemaData></ExtendedData>\\n      <Point><coordinates>-98.32255,49.9623</coordinates></Point>\\n  </Placemark>\\n  <Placemark>\\n\\t<name>Sandy Bay, Marius, Manitoba</name>\\n\\t<ExtendedData><SchemaData schemaUrl=\"#IRS_KIB\">\\n\\t\\t<SimpleData name=\"School_num\">57</SimpleData>\\n\\t\\t<SimpleData name=\"Province o\">Manitoba</SimpleData>\\n\\t\\t<SimpleData name=\"From\">1905</SimpleData>\\n\\t\\t<SimpleData name=\"To\">1970</SimpleData>\\n\\t\\t<SimpleData name=\"Descriptio\">Sandy Bay, MB</SimpleData>\\n\\t\\t<SimpleData name=\"Longitude\">-98.643410000000003</SimpleData>\\n\\t\\t<SimpleData name=\"Latitude\">50.550730000000001</SimpleData>\\n\\t\\t<SimpleData name=\"Location p\">1.000000000000000</SimpleData>\\n\\t\\t<SimpleData name=\"Reference\">Cybercartographic Atlas, Carleton, 2017</SimpleData>\\n\\t\\t<SimpleData name=\"Religious\">Roman Catholic</SimpleData>\\n\\t\\t<SimpleData name=\"Atlas_pg\">71</SimpleData>\\n\\t\\t<SimpleData name=\"map_name\">Sandy Bay IRS</SimpleData>\\n\\t\\t<SimpleData name=\"atlas_pg_s\">071</SimpleData>\\n\\t</SchemaData></ExtendedData>\\n      <Point><coordinates>-98.64341,50.55073</coordinates></Point>\\n  </Placemark>\\n  <Placemark>\\n\\t<name>Immaculate Conception (Aklavik Roman Catholic), Aklavik, NWT</name>\\n\\t<ExtendedData><SchemaData schemaUrl=\"#IRS_KIB\">\\n\\t\\t<SimpleData name=\"School_num\">58</SimpleData>\\n\\t\\t<SimpleData name=\"Province o\">Northwest Territories</SimpleData>\\n\\t\\t<SimpleData name=\"From\">1925</SimpleData>\\n\\t\\t<SimpleData name=\"To\">1959</SimpleData>\\n\\t\\t<SimpleData name=\"Descriptio\">Aklavik, NWT</SimpleData>\\n\\t\\t<SimpleData name=\"Longitude\">-135.004285000000010</SimpleData>\\n\\t\\t<SimpleData name=\"Latitude\">68.217275000000001</SimpleData>\\n\\t\\t<SimpleData name=\"Location p\">1.000000000000000</SimpleData>\\n\\t\\t<SimpleData name=\"Reference\">Anglican Church, Aklavik</SimpleData>\\n\\t\\t<SimpleData name=\"Map Notes\">The precise location of the school within Aklavik is undetermined</SimpleData>\\n\\t\\t<SimpleData name=\"Notes\">The precise location of the school within Aklavik is undetermined</SimpleData>\\n\\t\\t<SimpleData name=\"Religious\">Roman Catholic</SimpleData>\\n\\t\\t<SimpleData name=\"Atlas_pg\">72</SimpleData>\\n\\t\\t<SimpleData name=\"map_name\">Immaculate Conception Residential School</SimpleData>\\n\\t\\t<SimpleData name=\"atlas_pg_s\">072</SimpleData>\\n\\t</SchemaData></ExtendedData>\\n      <Point><coordinates>-135.004285,68.217275</coordinates></Point>\\n  </Placemark>\\n  <Placemark>\\n\\t<name>All Saints (Aklavik Anglican), Aklavik, NWT</name>\\n\\t<ExtendedData><SchemaData schemaUrl=\"#IRS_KIB\">\\n\\t\\t<SimpleData name=\"School_num\">59</SimpleData>\\n\\t\\t<SimpleData name=\"Province o\">Northwest Territories</SimpleData>\\n\\t\\t<SimpleData name=\"From\">1934</SimpleData>\\n\\t\\t<SimpleData name=\"To\">1959</SimpleData>\\n\\t\\t<SimpleData name=\"Descriptio\">Aklavik, NWT</SimpleData>\\n\\t\\t<SimpleData name=\"Longitude\">-135.004285000000010</SimpleData>\\n\\t\\t<SimpleData name=\"Latitude\">68.217275000000001</SimpleData>\\n\\t\\t<SimpleData name=\"Location p\">1.000000000000000</SimpleData>\\n\\t\\t<SimpleData name=\"Reference\">Anglican Church, Aklavik</SimpleData>\\n\\t\\t<SimpleData name=\"Map Notes\">The precise location of the school within Aklavik is undetermined</SimpleData>\\n\\t\\t<SimpleData name=\"Notes\">No precise information on the location of the school within Aklavik</SimpleData>\\n\\t\\t<SimpleData name=\"Religious\">Anglican</SimpleData>\\n\\t\\t<SimpleData name=\"Atlas_pg\">73</SimpleData>\\n\\t\\t<SimpleData name=\"map_name\">All Saints Aklavik Residential School</SimpleData>\\n\\t\\t<SimpleData name=\"atlas_pg_s\">073</SimpleData>\\n\\t</SchemaData></ExtendedData>\\n      <Point><coordinates>-135.004285,68.217275</coordinates></Point>\\n  </Placemark>\\n  <Placemark>\\n\\t<name>Fleming Hall (Fort McPherson), Fort McPherson, NWT</name>\\n\\t<ExtendedData><SchemaData schemaUrl=\"#IRS_KIB\">\\n\\t\\t<SimpleData name=\"School_num\">60</SimpleData>\\n\\t\\t<SimpleData name=\"Province o\">Northwest Territories</SimpleData>\\n\\t\\t<SimpleData name=\"From\">1958</SimpleData>\\n\\t\\t<SimpleData name=\"To\">1969</SimpleData>\\n\\t\\t<SimpleData name=\"Descriptio\">Fort McPherson, NT</SimpleData>\\n\\t\\t<SimpleData name=\"Longitude\">-134.880259999999993</SimpleData>\\n\\t\\t<SimpleData name=\"Latitude\">67.436556999999993</SimpleData>\\n\\t\\t<SimpleData name=\"Location p\">1.000000000000000</SimpleData>\\n\\t\\t<SimpleData name=\"Reference\">Anglican Church, Fort McPherson</SimpleData>\\n\\t\\t<SimpleData name=\"Map Notes\">The precise location of the school within Fort McPherson is undetermined</SimpleData>\\n\\t\\t<SimpleData name=\"Notes\">No precise information on the location of the school within Fort McPherson</SimpleData>\\n\\t\\t<SimpleData name=\"Religious\">Anglican</SimpleData>\\n\\t\\t<SimpleData name=\"Atlas_pg\">74</SimpleData>\\n\\t\\t<SimpleData name=\"map_name\">Fleming Hall Student Residence</SimpleData>\\n\\t\\t<SimpleData name=\"atlas_pg_s\">074</SimpleData>\\n\\t</SchemaData></ExtendedData>\\n      <Point><coordinates>-134.88026,67.436557</coordinates></Point>\\n  </Placemark>\\n  <Placemark>\\n\\t<name>Sacred Heart (Fort Providence), Fort Providence, NWT</name>\\n\\t<ExtendedData><SchemaData schemaUrl=\"#IRS_KIB\">\\n\\t\\t<SimpleData name=\"School_num\">61</SimpleData>\\n\\t\\t<SimpleData name=\"Province o\">Northwest Territories</SimpleData>\\n\\t\\t<SimpleData name=\"From\">1868</SimpleData>\\n\\t\\t<SimpleData name=\"To\">1960</SimpleData>\\n\\t\\t<SimpleData name=\"Descriptio\">Deh Cho Drive, just south of the current Memorial to the students who died.</SimpleData>\\n\\t\\t<SimpleData name=\"Longitude\">-117.666799999999995</SimpleData>\\n\\t\\t<SimpleData name=\"Latitude\">61.355468999999999</SimpleData>\\n\\t\\t<SimpleData name=\"Location p\">0.000000000000000</SimpleData>\\n\\t\\t<SimpleData name=\"Reference\">Plat 1510 CLSR NT</SimpleData>\\n\\t\\t<SimpleData name=\"Notes\">this is the site of the Roman Catholic Mission, 1932</SimpleData>\\n\\t\\t<SimpleData name=\"Religious\">Roman Catholic</SimpleData>\\n\\t\\t<SimpleData name=\"Atlas_pg\">75</SimpleData>\\n\\t\\t<SimpleData name=\"map_name\">Fort Providence (Sacred Heart) Residential School</SimpleData>\\n\\t\\t<SimpleData name=\"atlas_pg_s\">075</SimpleData>\\n\\t</SchemaData></ExtendedData>\\n      <Point><coordinates>-117.6668,61.355469</coordinates></Point>\\n  </Placemark>\\n  <Placemark>\\n\\t<name>St. Joseph\\'s (Fort Resolution), Fort Resolution, NWT</name>\\n\\t<ExtendedData><SchemaData schemaUrl=\"#IRS_KIB\">\\n\\t\\t<SimpleData name=\"School_num\">62</SimpleData>\\n\\t\\t<SimpleData name=\"Province o\">Northwest Territories</SimpleData>\\n\\t\\t<SimpleData name=\"From\">1903</SimpleData>\\n\\t\\t<SimpleData name=\"To\">1910</SimpleData>\\n\\t\\t<SimpleData name=\"Descriptio\">Within the hairpin turn of Great Slave Route, down on the point</SimpleData>\\n\\t\\t<SimpleData name=\"Longitude\">-113.678040999999993</SimpleData>\\n\\t\\t<SimpleData name=\"Latitude\">61.167994000000000</SimpleData>\\n\\t\\t<SimpleData name=\"Location p\">0.000000000000000</SimpleData>\\n\\t\\t<SimpleData name=\"Reference\">FB 13888 CLSR NT</SimpleData>\\n\\t\\t<SimpleData name=\"Notes\">See Field Book 13888 page 54 and final drawing. RC School is located among HBC buildings on the point, in Lot 20. Also see Plan 35026 CLSR NT</SimpleData>\\n\\t\\t<SimpleData name=\"Religious\">Roman Catholic</SimpleData>\\n\\t\\t<SimpleData name=\"Atlas_pg\">76</SimpleData>\\n\\t\\t<SimpleData name=\"map_name\">St. Joseph\\'s Residential School</SimpleData>\\n\\t\\t<SimpleData name=\"atlas_pg_s\">076</SimpleData>\\n\\t</SchemaData></ExtendedData>\\n      <Point><coordinates>-113.678041,61.167994</coordinates></Point>\\n  </Placemark>\\n  <Placemark>\\n\\t<name>St. Joseph\\'s (Fort Resolution), Fort Resolution, NWT</name>\\n\\t<ExtendedData><SchemaData schemaUrl=\"#IRS_KIB\">\\n\\t\\t<SimpleData name=\"School_num\">62</SimpleData>\\n\\t\\t<SimpleData name=\"Province o\">Northwest Territories</SimpleData>\\n\\t\\t<SimpleData name=\"From\">1911</SimpleData>\\n\\t\\t<SimpleData name=\"To\">1957</SimpleData>\\n\\t\\t<SimpleData name=\"Descriptio\">About 500\\' east of the old church which still stands.</SimpleData>\\n\\t\\t<SimpleData name=\"Longitude\">-113.665682000000004</SimpleData>\\n\\t\\t<SimpleData name=\"Latitude\">61.169857999999998</SimpleData>\\n\\t\\t<SimpleData name=\"Location p\">0.000000000000000</SimpleData>\\n\\t\\t<SimpleData name=\"Reference\">NWT Archives N-1979-003:0063; NCTR \\xe2\\x80\\x93 St. Joseph\\'s, NT, narrative</SimpleData>\\n\\t\\t<SimpleData name=\"Religious\">Roman Catholic</SimpleData>\\n\\t\\t<SimpleData name=\"Atlas_pg\">77</SimpleData>\\n\\t\\t<SimpleData name=\"map_name\">St. Joseph\\'s Residential School</SimpleData>\\n\\t\\t<SimpleData name=\"atlas_pg_s\">077</SimpleData>\\n\\t</SchemaData></ExtendedData>\\n      <Point><coordinates>-113.665682,61.169858</coordinates></Point>\\n  </Placemark>\\n  <Placemark>\\n\\t<name>Bompas Hall (Fort Simpson Anglican), Fort Simpson, NWT</name>\\n\\t<ExtendedData><SchemaData schemaUrl=\"#IRS_KIB\">\\n\\t\\t<SimpleData name=\"School_num\">63</SimpleData>\\n\\t\\t<SimpleData name=\"Province o\">Northwest Territories</SimpleData>\\n\\t\\t<SimpleData name=\"From\">1960</SimpleData>\\n\\t\\t<SimpleData name=\"To\">1969</SimpleData>\\n\\t\\t<SimpleData name=\"Descriptio\">Assumed to be adjacent to the Thomas Simpson Secondary School</SimpleData>\\n\\t\\t<SimpleData name=\"Longitude\">-121.356133000000000</SimpleData>\\n\\t\\t<SimpleData name=\"Latitude\">61.863585000000000</SimpleData>\\n\\t\\t<SimpleData name=\"Location p\">1.000000000000000</SimpleData>\\n\\t\\t<SimpleData name=\"Reference\">address of Thomas Simpson School: 9909 100 St, Fort Simpson, NT</SimpleData>\\n\\t\\t<SimpleData name=\"Map Notes\">The residence was assumed to be close to the Thomas Simpson Secondary School</SimpleData>\\n\\t\\t<SimpleData name=\"Religious\">Anglican</SimpleData>\\n\\t\\t<SimpleData name=\"Atlas_pg\">78</SimpleData>\\n\\t\\t<SimpleData name=\"map_name\">Bompas Hall Student Residence</SimpleData>\\n\\t\\t<SimpleData name=\"atlas_pg_s\">078</SimpleData>\\n\\t</SchemaData></ExtendedData>\\n      <Point><coordinates>-121.356133,61.863585</coordinates></Point>\\n  </Placemark>\\n  <Placemark>\\n\\t<name>Lapointe Hall (Fort Simpson Roman Catholic), Fort Simpson, NWT</name>\\n\\t<ExtendedData><SchemaData schemaUrl=\"#IRS_KIB\">\\n\\t\\t<SimpleData name=\"School_num\">64</SimpleData>\\n\\t\\t<SimpleData name=\"Province o\">Northwest Territories</SimpleData>\\n\\t\\t<SimpleData name=\"From\">1960</SimpleData>\\n\\t\\t<SimpleData name=\"To\">1969</SimpleData>\\n\\t\\t<SimpleData name=\"Descriptio\">Assumed to be adjacent to the Thomas Simpson Secondary School</SimpleData>\\n\\t\\t<SimpleData name=\"Longitude\">-121.356133000000000</SimpleData>\\n\\t\\t<SimpleData name=\"Latitude\">61.863585000000000</SimpleData>\\n\\t\\t<SimpleData name=\"Location p\">1.000000000000000</SimpleData>\\n\\t\\t<SimpleData name=\"Reference\">address of Thomas Simpson School: 9909 100 St, Fort Simpson, NT</SimpleData>\\n\\t\\t<SimpleData name=\"Map Notes\">The residence was assumed to be close to the Thomas Simpson Secondary School</SimpleData>\\n\\t\\t<SimpleData name=\"Religious\">Roman Catholic</SimpleData>\\n\\t\\t<SimpleData name=\"Atlas_pg\">79</SimpleData>\\n\\t\\t<SimpleData name=\"map_name\">Lapointe Hall Student Residence</SimpleData>\\n\\t\\t<SimpleData name=\"atlas_pg_s\">079</SimpleData>\\n\\t</SchemaData></ExtendedData>\\n      <Point><coordinates>-121.356133,61.863585</coordinates></Point>\\n  </Placemark>\\n  <Placemark>\\n\\t<name>Breynat Hall (Fort Smith), Fort Smith, NWT</name>\\n\\t<ExtendedData><SchemaData schemaUrl=\"#IRS_KIB\">\\n\\t\\t<SimpleData name=\"School_num\">65</SimpleData>\\n\\t\\t<SimpleData name=\"Province o\">Northwest Territories</SimpleData>\\n\\t\\t<SimpleData name=\"From\">1955</SimpleData>\\n\\t\\t<SimpleData name=\"To\">1970</SimpleData>\\n\\t\\t<SimpleData name=\"Descriptio\">Fort Smith Mission Territorial Park</SimpleData>\\n\\t\\t<SimpleData name=\"Longitude\">-111.880252999999996</SimpleData>\\n\\t\\t<SimpleData name=\"Latitude\">60.004458999999997</SimpleData>\\n\\t\\t<SimpleData name=\"Location p\">0.000000000000000</SimpleData>\\n\\t\\t<SimpleData name=\"Reference\">Fort Smith Mission | NWT Campgrounds</SimpleData>\\n\\t\\t<SimpleData name=\"Notes\">The present park encompasses the site of the original mission</SimpleData>\\n\\t\\t<SimpleData name=\"Religious\">Roman Catholic</SimpleData>\\n\\t\\t<SimpleData name=\"Atlas_pg\">80</SimpleData>\\n\\t\\t<SimpleData name=\"map_name\">Breynat Hall Student Residence</SimpleData>\\n\\t\\t<SimpleData name=\"atlas_pg_s\">080</SimpleData>\\n\\t</SchemaData></ExtendedData>\\n      <Point><coordinates>-111.880253,60.004459</coordinates></Point>\\n  </Placemark>\\n  <Placemark>\\n\\t<name>Grandin College, Fort Smith, NWT</name>\\n\\t<ExtendedData><SchemaData schemaUrl=\"#IRS_KIB\">\\n\\t\\t<SimpleData name=\"School_num\">66</SimpleData>\\n\\t\\t<SimpleData name=\"Province o\">Northwest Territories</SimpleData>\\n\\t\\t<SimpleData name=\"From\">1964</SimpleData>\\n\\t\\t<SimpleData name=\"To\">1985</SimpleData>\\n\\t\\t<SimpleData name=\"Descriptio\">present location of Aurora College Thebacha Campus</SimpleData>\\n\\t\\t<SimpleData name=\"Longitude\">-111.898002000000005</SimpleData>\\n\\t\\t<SimpleData name=\"Latitude\">60.002502999999997</SimpleData>\\n\\t\\t<SimpleData name=\"Location p\">0.000000000000000</SimpleData>\\n\\t\\t<SimpleData name=\"Reference\">Eugenics Archive \\xe2\\x80\\x93 Grandin College</SimpleData>\\n\\t\\t<SimpleData name=\"Notes\">elite leadership high school</SimpleData>\\n\\t\\t<SimpleData name=\"Religious\">Roman Catholic</SimpleData>\\n\\t\\t<SimpleData name=\"Atlas_pg\">81</SimpleData>\\n\\t\\t<SimpleData name=\"map_name\">Grandin College Student Residence</SimpleData>\\n\\t\\t<SimpleData name=\"atlas_pg_s\">081</SimpleData>\\n\\t</SchemaData></ExtendedData>\\n      <Point><coordinates>-111.898002,60.002503</coordinates></Point>\\n  </Placemark>\\n  <Placemark>\\n\\t<name>Hay River (St. Peter\\'s), Hay River, NWT</name>\\n\\t<ExtendedData><SchemaData schemaUrl=\"#IRS_KIB\">\\n\\t\\t<SimpleData name=\"School_num\">67</SimpleData>\\n\\t\\t<SimpleData name=\"Province o\">Northwest Territories</SimpleData>\\n\\t\\t<SimpleData name=\"From\">1895</SimpleData>\\n\\t\\t<SimpleData name=\"To\">1937</SimpleData>\\n\\t\\t<SimpleData name=\"Descriptio\">In old Lot 14, Hay River 1 reserve, on east side of Hay River, just east of Island A</SimpleData>\\n\\t\\t<SimpleData name=\"Longitude\">-115.723393000000002</SimpleData>\\n\\t\\t<SimpleData name=\"Latitude\">60.857658999999998</SimpleData>\\n\\t\\t<SimpleData name=\"Location p\">0.000000000000000</SimpleData>\\n\\t\\t<SimpleData name=\"Reference\">Fieldbook 13885 CLSR NT</SimpleData>\\n\\t\\t<SimpleData name=\"Notes\">photographs show school faced south with extensive gardens in front;  inconsistent date ranges given for this school by different sources. Day school continues to operate intermittently after 1937</SimpleData>\\n\\t\\t<SimpleData name=\"Religious\">Anglican</SimpleData>\\n\\t\\t<SimpleData name=\"Atlas_pg\">82</SimpleData>\\n\\t\\t<SimpleData name=\"map_name\">Hay River (St. Peter\\'s) Residential School</SimpleData>\\n\\t\\t<SimpleData name=\"atlas_pg_s\">082</SimpleData>\\n\\t</SchemaData></ExtendedData>\\n      <Point><coordinates>-115.723393,60.857659</coordinates></Point>\\n  </Placemark>\\n  <Placemark>\\n\\t<name>Grollier Hall (Inuvik Roman Catholic), Inuvik, NWT</name>\\n\\t<ExtendedData><SchemaData schemaUrl=\"#IRS_KIB\">\\n\\t\\t<SimpleData name=\"School_num\">68</SimpleData>\\n\\t\\t<SimpleData name=\"Province o\">Northwest Territories</SimpleData>\\n\\t\\t<SimpleData name=\"From\">1959</SimpleData>\\n\\t\\t<SimpleData name=\"To\">1996</SimpleData>\\n\\t\\t<SimpleData name=\"Descriptio\">Inuvik, NWT</SimpleData>\\n\\t\\t<SimpleData name=\"Longitude\">-133.721652000000006</SimpleData>\\n\\t\\t<SimpleData name=\"Latitude\">68.357870000000005</SimpleData>\\n\\t\\t<SimpleData name=\"Location p\">1.000000000000000</SimpleData>\\n\\t\\t<SimpleData name=\"Reference\">Anglican Church, Inuvik</SimpleData>\\n\\t\\t<SimpleData name=\"Map Notes\">The residence was quite close to the Sir Alexander Mackenzie School</SimpleData>\\n\\t\\t<SimpleData name=\"Religious\">Roman Catholic</SimpleData>\\n\\t\\t<SimpleData name=\"Atlas_pg\">83</SimpleData>\\n\\t\\t<SimpleData name=\"map_name\">Grollier Hall Student Residence</SimpleData>\\n\\t\\t<SimpleData name=\"atlas_pg_s\">083</SimpleData>\\n\\t</SchemaData></ExtendedData>\\n      <Point><coordinates>-133.721652,68.35787</coordinates></Point>\\n  </Placemark>\\n  <Placemark>\\n\\t<name>Stringer Hall (Inuvik Anglican Hostel), Inuvik, NWT</name>\\n\\t<ExtendedData><SchemaData schemaUrl=\"#IRS_KIB\">\\n\\t\\t<SimpleData name=\"School_num\">69</SimpleData>\\n\\t\\t<SimpleData name=\"Province o\">Northwest Territories</SimpleData>\\n\\t\\t<SimpleData name=\"From\">1959</SimpleData>\\n\\t\\t<SimpleData name=\"To\">1975</SimpleData>\\n\\t\\t<SimpleData name=\"Descriptio\">Inuvik, NWT</SimpleData>\\n\\t\\t<SimpleData name=\"Longitude\">-133.717899999999986</SimpleData>\\n\\t\\t<SimpleData name=\"Latitude\">68.356427999999994</SimpleData>\\n\\t\\t<SimpleData name=\"Location p\">1.000000000000000</SimpleData>\\n\\t\\t<SimpleData name=\"Reference\">Anglican Church, Inuvik</SimpleData>\\n\\t\\t<SimpleData name=\"Map Notes\">The residence was quite close to the Sir Alexander Mackenzie School</SimpleData>\\n\\t\\t<SimpleData name=\"Religious\">Anglican</SimpleData>\\n\\t\\t<SimpleData name=\"Atlas_pg\">84</SimpleData>\\n\\t\\t<SimpleData name=\"map_name\">Inuvik Hostel, Stringer Hall  Student Residence</SimpleData>\\n\\t\\t<SimpleData name=\"atlas_pg_s\">084</SimpleData>\\n\\t</SchemaData></ExtendedData>\\n      <Point><coordinates>-133.7179,68.356428</coordinates></Point>\\n  </Placemark>\\n  <Placemark>\\n\\t<name>Akaitcho Hall (Yellowknife), Yellowknife, NWT</name>\\n\\t<ExtendedData><SchemaData schemaUrl=\"#IRS_KIB\">\\n\\t\\t<SimpleData name=\"School_num\">70</SimpleData>\\n\\t\\t<SimpleData name=\"Province o\">Northwest Territories</SimpleData>\\n\\t\\t<SimpleData name=\"From\">1958</SimpleData>\\n\\t\\t<SimpleData name=\"To\">1994</SimpleData>\\n\\t\\t<SimpleData name=\"Descriptio\">now vacant lot due north of Sir John Franklin High School, Yellowknife</SimpleData>\\n\\t\\t<SimpleData name=\"Longitude\">-114.360961000000003</SimpleData>\\n\\t\\t<SimpleData name=\"Latitude\">62.452970000000001</SimpleData>\\n\\t\\t<SimpleData name=\"Location p\">0.000000000000000</SimpleData>\\n\\t\\t<SimpleData name=\"Reference\">Curran and Dunleavy 2008</SimpleData>\\n\\t\\t<SimpleData name=\"Notes\">aerial photograph from 2005 shows this large building just north of the high school, gone in 2012</SimpleData>\\n\\t\\t<SimpleData name=\"Religious\">Non-denominational</SimpleData>\\n\\t\\t<SimpleData name=\"Atlas_pg\">85</SimpleData>\\n\\t\\t<SimpleData name=\"map_name\">Akaitcho Hall</SimpleData>\\n\\t\\t<SimpleData name=\"atlas_pg_s\">085</SimpleData>\\n\\t</SchemaData></ExtendedData>\\n      <Point><coordinates>-114.360961,62.45297</coordinates></Point>\\n  </Placemark>\\n  <Placemark>\\n\\t<name>Federal Hostel at Fort Franklin, D\\xc3\\xa9line, NWT</name>\\n\\t<ExtendedData><SchemaData schemaUrl=\"#IRS_KIB\">\\n\\t\\t<SimpleData name=\"School_num\">71</SimpleData>\\n\\t\\t<SimpleData name=\"Province o\">Northwest Territories</SimpleData>\\n\\t\\t<SimpleData name=\"From\">1962</SimpleData>\\n\\t\\t<SimpleData name=\"To\">1980</SimpleData>\\n\\t\\t<SimpleData name=\"Descriptio\">Within the community of D\\xc3\\xa9line</SimpleData>\\n\\t\\t<SimpleData name=\"Longitude\">-123.423119999999997</SimpleData>\\n\\t\\t<SimpleData name=\"Latitude\">65.187411999999995</SimpleData>\\n\\t\\t<SimpleData name=\"Location p\">1.000000000000000</SimpleData>\\n\\t\\t<SimpleData name=\"Reference\">TRC list of residential schools</SimpleData>\\n\\t\\t<SimpleData name=\"Notes\">closing date unknown: \\xe2\\x80\\x9cin the 1980s.\\xe2\\x80\\x9d</SimpleData>\\n\\t\\t<SimpleData name=\"Religious\">Non-denominational</SimpleData>\\n\\t\\t<SimpleData name=\"Atlas_pg\">86</SimpleData>\\n\\t\\t<SimpleData name=\"map_name\">Federal Hostel at Fort Franklin</SimpleData>\\n\\t\\t<SimpleData name=\"atlas_pg_s\">086</SimpleData>\\n\\t</SchemaData></ExtendedData>\\n      <Point><coordinates>-123.42312,65.187412</coordinates></Point>\\n  </Placemark>\\n  <Placemark>\\n\\t<name>Shubenacadie, Shubenacadie, Nova Scotia</name>\\n\\t<ExtendedData><SchemaData schemaUrl=\"#IRS_KIB\">\\n\\t\\t<SimpleData name=\"School_num\">72</SimpleData>\\n\\t\\t<SimpleData name=\"Province o\">Nova Scotia</SimpleData>\\n\\t\\t<SimpleData name=\"From\">1929</SimpleData>\\n\\t\\t<SimpleData name=\"To\">1967</SimpleData>\\n\\t\\t<SimpleData name=\"Descriptio\">On Indian School Rd., on the north side of the Shubenacadie River</SimpleData>\\n\\t\\t<SimpleData name=\"Longitude\">-63.406806000000003</SimpleData>\\n\\t\\t<SimpleData name=\"Latitude\">45.096933999999997</SimpleData>\\n\\t\\t<SimpleData name=\"Location p\">0.000000000000000</SimpleData>\\n\\t\\t<SimpleData name=\"Reference\">Wikipedia \\xe2\\x80\\x93 Shubenacadie Residential School; Plan M2264 CLSR NS</SimpleData>\\n\\t\\t<SimpleData name=\"Notes\">The school building was destroyed by fire in 1986. The school\\'s site is now occupied by a plastics factory although a few staff houses remain and the road to the school is still named &quot;Indian School Road\\xe2\\x80\\x9d</SimpleData>\\n\\t\\t<SimpleData name=\"Religious\">Roman Catholic</SimpleData>\\n\\t\\t<SimpleData name=\"Atlas_pg\">87</SimpleData>\\n\\t\\t<SimpleData name=\"map_name\">Shubenacadie IRS</SimpleData>\\n\\t\\t<SimpleData name=\"atlas_pg_s\">087</SimpleData>\\n\\t</SchemaData></ExtendedData>\\n      <Point><coordinates>-63.406806,45.096934</coordinates></Point>\\n  </Placemark>\\n  <Placemark>\\n\\t<name>Chesterfield Inlet (Turquetil Hall), Chesterfield Inlet, Nunavut</name>\\n\\t<ExtendedData><SchemaData schemaUrl=\"#IRS_KIB\">\\n\\t\\t<SimpleData name=\"School_num\">73</SimpleData>\\n\\t\\t<SimpleData name=\"Province o\">Nunavut</SimpleData>\\n\\t\\t<SimpleData name=\"From\">1954</SimpleData>\\n\\t\\t<SimpleData name=\"To\">1969</SimpleData>\\n\\t\\t<SimpleData name=\"Descriptio\">near the Joseph Bernier Federal Day School</SimpleData>\\n\\t\\t<SimpleData name=\"Longitude\">-90.710392999999996</SimpleData>\\n\\t\\t<SimpleData name=\"Latitude\">63.337580000000003</SimpleData>\\n\\t\\t<SimpleData name=\"Location p\">0.500000000000000</SimpleData>\\n\\t\\t<SimpleData name=\"Reference\">NCTR \\xe2\\x80\\x93 Chesterfield Inlet, NU, narrative</SimpleData>\\n\\t\\t<SimpleData name=\"Map Notes\">The residence was assumed to be close to the Joseph Bernier Federal Day School</SimpleData>\\n\\t\\t<SimpleData name=\"Notes\">Students living at Turquetil Hall attended Joseph Bernier Federal Day School, now renamed the Victor Sammurtok school</SimpleData>\\n\\t\\t<SimpleData name=\"Religious\">Roman Catholic</SimpleData>\\n\\t\\t<SimpleData name=\"Atlas_pg\">88</SimpleData>\\n\\t\\t<SimpleData name=\"map_name\">Turquetil Hall Student Residence</SimpleData>\\n\\t\\t<SimpleData name=\"atlas_pg_s\">088</SimpleData>\\n\\t</SchemaData></ExtendedData>\\n      <Point><coordinates>-90.710393,63.33758</coordinates></Point>\\n  </Placemark>\\n  <Placemark>\\n\\t<name>Federal Tent Hostel at Coppermine, Coppermine, Nunavut</name>\\n\\t<ExtendedData><SchemaData schemaUrl=\"#IRS_KIB\">\\n\\t\\t<SimpleData name=\"School_num\">74</SimpleData>\\n\\t\\t<SimpleData name=\"Province o\">Nunavut</SimpleData>\\n\\t\\t<SimpleData name=\"From\">1955</SimpleData>\\n\\t\\t<SimpleData name=\"To\">1959</SimpleData>\\n\\t\\t<SimpleData name=\"Descriptio\">on Coronation Drive near the old day school</SimpleData>\\n\\t\\t<SimpleData name=\"Longitude\">-115.096857999999997</SimpleData>\\n\\t\\t<SimpleData name=\"Latitude\">67.828214000000003</SimpleData>\\n\\t\\t<SimpleData name=\"Location p\">0.000000000000000</SimpleData>\\n\\t\\t<SimpleData name=\"Reference\">NCTR \\xe2\\x80\\x93 Coppermine, NU, narrative and Plan 67162 CLSR NU</SimpleData>\\n\\t\\t<SimpleData name=\"Notes\">on the land of the adjacent Federal Day School that stood on old lot 7. Also see Plan 51848 CLSR NU (1930) for the original lots.</SimpleData>\\n\\t\\t<SimpleData name=\"Religious\">Anglican</SimpleData>\\n\\t\\t<SimpleData name=\"Atlas_pg\">89</SimpleData>\\n\\t\\t<SimpleData name=\"map_name\">Coppermine Tent Hostel</SimpleData>\\n\\t\\t<SimpleData name=\"atlas_pg_s\">089</SimpleData>\\n\\t</SchemaData></ExtendedData>\\n      <Point><coordinates>-115.096858,67.828214</coordinates></Point>\\n  </Placemark>\\n  <Placemark>\\n\\t<name>Federal Hostel at Baker Lake, Qamani\\'tuaq, Qamanittuaq, Nunavut</name>\\n\\t<ExtendedData><SchemaData schemaUrl=\"#IRS_KIB\">\\n\\t\\t<SimpleData name=\"School_num\">75</SimpleData>\\n\\t\\t<SimpleData name=\"Province o\">Nunavut</SimpleData>\\n\\t\\t<SimpleData name=\"From\">1961</SimpleData>\\n\\t\\t<SimpleData name=\"To\">1968</SimpleData>\\n\\t\\t<SimpleData name=\"Descriptio\">just east of the Health Centre</SimpleData>\\n\\t\\t<SimpleData name=\"Longitude\">-96.013435999999999</SimpleData>\\n\\t\\t<SimpleData name=\"Latitude\">64.316221999999996</SimpleData>\\n\\t\\t<SimpleData name=\"Location p\">0.000000000000000</SimpleData>\\n\\t\\t<SimpleData name=\"Reference\">NCTR \\xe2\\x80\\x93 Baker Lake, NU, map</SimpleData>\\n\\t\\t<SimpleData name=\"Religious\">Non-denominational</SimpleData>\\n\\t\\t<SimpleData name=\"Atlas_pg\">90</SimpleData>\\n\\t\\t<SimpleData name=\"map_name\">Federal Hostel at Baker Lake</SimpleData>\\n\\t\\t<SimpleData name=\"atlas_pg_s\">090</SimpleData>\\n\\t</SchemaData></ExtendedData>\\n      <Point><coordinates>-96.013436,64.316222</coordinates></Point>\\n  </Placemark>\\n  <Placemark>\\n\\t<name>Federal Hostel at Belcher Islands, Sanikiluaq, Nunavut</name>\\n\\t<ExtendedData><SchemaData schemaUrl=\"#IRS_KIB\">\\n\\t\\t<SimpleData name=\"School_num\">76</SimpleData>\\n\\t\\t<SimpleData name=\"Province o\">Nunavut</SimpleData>\\n\\t\\t<SimpleData name=\"From\">1963</SimpleData>\\n\\t\\t<SimpleData name=\"To\">1964</SimpleData>\\n\\t\\t<SimpleData name=\"Descriptio\">South Camp, Flaherty Island</SimpleData>\\n\\t\\t<SimpleData name=\"Longitude\">-79.591785000000002</SimpleData>\\n\\t\\t<SimpleData name=\"Latitude\">55.914209000000000</SimpleData>\\n\\t\\t<SimpleData name=\"Location p\">0.000000000000000</SimpleData>\\n\\t\\t<SimpleData name=\"Reference\">NCTR \\xe2\\x80\\x93 Belcher Islands, NU, narrative</SimpleData>\\n\\t\\t<SimpleData name=\"Map Notes\">The hostel was located in South Camp</SimpleData>\\n\\t\\t<SimpleData name=\"Notes\">Qikiqtani Truth Commission, 2013 says that this hostel was never used</SimpleData>\\n\\t\\t<SimpleData name=\"Religious\">Non-denominational</SimpleData>\\n\\t\\t<SimpleData name=\"Atlas_pg\">91</SimpleData>\\n\\t\\t<SimpleData name=\"map_name\">Federal Hostel at Belcher Islands</SimpleData>\\n\\t\\t<SimpleData name=\"atlas_pg_s\">091</SimpleData>\\n\\t</SchemaData></ExtendedData>\\n      <Point><coordinates>-79.591785,55.914209</coordinates></Point>\\n  </Placemark>\\n  <Placemark>\\n\\t<name>Federal Hostel at Broughton Island, Qikiqtarjuaq, Nunavut</name>\\n\\t<ExtendedData><SchemaData schemaUrl=\"#IRS_KIB\">\\n\\t\\t<SimpleData name=\"School_num\">77</SimpleData>\\n\\t\\t<SimpleData name=\"Province o\">Nunavut</SimpleData>\\n\\t\\t<SimpleData name=\"From\">1961</SimpleData>\\n\\t\\t<SimpleData name=\"To\">1966</SimpleData>\\n\\t\\t<SimpleData name=\"Descriptio\">on the same property as the Federal Day School of the time</SimpleData>\\n\\t\\t<SimpleData name=\"Longitude\">-64.028236000000007</SimpleData>\\n\\t\\t<SimpleData name=\"Latitude\">67.557008999999994</SimpleData>\\n\\t\\t<SimpleData name=\"Location p\">0.000000000000000</SimpleData>\\n\\t\\t<SimpleData name=\"Reference\">NCTR \\xe2\\x80\\x93 Boughton Island, NU, narrative</SimpleData>\\n\\t\\t<SimpleData name=\"Notes\">School was in Lot 109 in 1968, now lot 256.</SimpleData>\\n\\t\\t<SimpleData name=\"Religious\">Non-denominational</SimpleData>\\n\\t\\t<SimpleData name=\"Atlas_pg\">92</SimpleData>\\n\\t\\t<SimpleData name=\"map_name\">Federal Hostel at Broughton Island</SimpleData>\\n\\t\\t<SimpleData name=\"atlas_pg_s\">092</SimpleData>\\n\\t</SchemaData></ExtendedData>\\n      <Point><coordinates>-64.028236,67.557009</coordinates></Point>\\n  </Placemark>\\n  <Placemark>\\n\\t<name>Federal Hostel at Cambridge Bay, Cambridge Bay, Nunavut</name>\\n\\t<ExtendedData><SchemaData schemaUrl=\"#IRS_KIB\">\\n\\t\\t<SimpleData name=\"School_num\">78</SimpleData>\\n\\t\\t<SimpleData name=\"Province o\">Nunavut</SimpleData>\\n\\t\\t<SimpleData name=\"From\">1964</SimpleData>\\n\\t\\t<SimpleData name=\"To\">1997</SimpleData>\\n\\t\\t<SimpleData name=\"Descriptio\">Current location of Kiliinik School</SimpleData>\\n\\t\\t<SimpleData name=\"Longitude\">-105.055773000000002</SimpleData>\\n\\t\\t<SimpleData name=\"Latitude\">69.118374000000003</SimpleData>\\n\\t\\t<SimpleData name=\"Location p\">0.500000000000000</SimpleData>\\n\\t\\t<SimpleData name=\"Reference\">Canada, Department of Public Works, May, 1967</SimpleData>\\n\\t\\t<SimpleData name=\"Map Notes\">The 3 hostels are assumed to have been within 500m of the school</SimpleData>\\n\\t\\t<SimpleData name=\"Notes\">Hostels assumed to be within 500m of the school</SimpleData>\\n\\t\\t<SimpleData name=\"Religious\">Non-denominational</SimpleData>\\n\\t\\t<SimpleData name=\"Atlas_pg\">93</SimpleData>\\n\\t\\t<SimpleData name=\"map_name\">Cambridge Bay Small Hostel</SimpleData>\\n\\t\\t<SimpleData name=\"atlas_pg_s\">093</SimpleData>\\n\\t</SchemaData></ExtendedData>\\n      <Point><coordinates>-105.055773,69.118374</coordinates></Point>\\n  </Placemark>\\n  <Placemark>\\n\\t<name>Federal Hostel at Cape Dorset, Kinngait, Nunavut</name>\\n\\t<ExtendedData><SchemaData schemaUrl=\"#IRS_KIB\">\\n\\t\\t<SimpleData name=\"School_num\">79</SimpleData>\\n\\t\\t<SimpleData name=\"Province o\">Nunavut</SimpleData>\\n\\t\\t<SimpleData name=\"From\">1962</SimpleData>\\n\\t\\t<SimpleData name=\"To\">1965</SimpleData>\\n\\t\\t<SimpleData name=\"Descriptio\">0</SimpleData>\\n\\t\\t<SimpleData name=\"Longitude\">-76.540266000000003</SimpleData>\\n\\t\\t<SimpleData name=\"Latitude\">64.230374999999995</SimpleData>\\n\\t\\t<SimpleData name=\"Location p\">0.500000000000000</SimpleData>\\n\\t\\t<SimpleData name=\"Reference\">NCTR \\xe2\\x80\\x93 Cape Dorset, NU, map</SimpleData>\\n\\t\\t<SimpleData name=\"Map Notes\">The specific locations of the 3 hostels have not been determined</SimpleData>\\n\\t\\t<SimpleData name=\"Notes\">Specific hostel locations unknown</SimpleData>\\n\\t\\t<SimpleData name=\"Religious\">Non-denominational</SimpleData>\\n\\t\\t<SimpleData name=\"Atlas_pg\">94</SimpleData>\\n\\t\\t<SimpleData name=\"map_name\">Federal Hostels at Cape Dorset</SimpleData>\\n\\t\\t<SimpleData name=\"atlas_pg_s\">094</SimpleData>\\n\\t</SchemaData></ExtendedData>\\n      <Point><coordinates>-76.540266,64.230375</coordinates></Point>\\n  </Placemark>\\n  <Placemark>\\n\\t<name>Federal Hostel at Eskimo Point, Arviat, Nunavut</name>\\n\\t<ExtendedData><SchemaData schemaUrl=\"#IRS_KIB\">\\n\\t\\t<SimpleData name=\"School_num\">80</SimpleData>\\n\\t\\t<SimpleData name=\"Province o\">Nunavut</SimpleData>\\n\\t\\t<SimpleData name=\"From\">1962</SimpleData>\\n\\t\\t<SimpleData name=\"To\">1967</SimpleData>\\n\\t\\t<SimpleData name=\"Descriptio\">within close proximity to the Federal Day School.</SimpleData>\\n\\t\\t<SimpleData name=\"Longitude\">-94.058971999999997</SimpleData>\\n\\t\\t<SimpleData name=\"Latitude\">61.107689999999998</SimpleData>\\n\\t\\t<SimpleData name=\"Location p\">0.500000000000000</SimpleData>\\n\\t\\t<SimpleData name=\"Reference\">NCTR \\xe2\\x80\\x93 Eskimo Point, NU, map and narrative</SimpleData>\\n\\t\\t<SimpleData name=\"Map Notes\">The 3 hostels are assumed to have been within 500m of the Federal Day School (assumed to be where the current high school is)</SimpleData>\\n\\t\\t<SimpleData name=\"Notes\">The 3 hostels were within close proximity to the Federal Day School. Location of the current high school complex used.</SimpleData>\\n\\t\\t<SimpleData name=\"Religious\">Non-denominational</SimpleData>\\n\\t\\t<SimpleData name=\"Atlas_pg\">95</SimpleData>\\n\\t\\t<SimpleData name=\"map_name\">Federal Hostel at Eskimo Point</SimpleData>\\n\\t\\t<SimpleData name=\"atlas_pg_s\">095</SimpleData>\\n\\t</SchemaData></ExtendedData>\\n      <Point><coordinates>-94.058972,61.10769</coordinates></Point>\\n  </Placemark>\\n  <Placemark>\\n\\t<name>Federal Hostel at Frobisher Bay (Ukkivik), Iqaluit , Nunavut</name>\\n\\t<ExtendedData><SchemaData schemaUrl=\"#IRS_KIB\">\\n\\t\\t<SimpleData name=\"School_num\">81</SimpleData>\\n\\t\\t<SimpleData name=\"Province o\">Nunavut</SimpleData>\\n\\t\\t<SimpleData name=\"From\">1971</SimpleData>\\n\\t\\t<SimpleData name=\"To\">1995</SimpleData>\\n\\t\\t<SimpleData name=\"Descriptio\">In Iqaluit, the Nunatta Residence of Nunvut Arctic College, the green building at the airport.</SimpleData>\\n\\t\\t<SimpleData name=\"Longitude\">-68.543406000000004</SimpleData>\\n\\t\\t<SimpleData name=\"Latitude\">63.757997000000003</SimpleData>\\n\\t\\t<SimpleData name=\"Location p\">0.000000000000000</SimpleData>\\n\\t\\t<SimpleData name=\"Reference\">NCTR \\xe2\\x80\\x93 Frobisher Bay, NU, map and narrative</SimpleData>\\n\\t\\t<SimpleData name=\"Map Notes\">The old Ukkivik residence is currently  the Nunatta Residence of Nunuvut Arctic College</SimpleData>\\n\\t\\t<SimpleData name=\"Religious\">Non-denominational</SimpleData>\\n\\t\\t<SimpleData name=\"Atlas_pg\">96</SimpleData>\\n\\t\\t<SimpleData name=\"map_name\">Federal Hostel at Frobisher Bay</SimpleData>\\n\\t\\t<SimpleData name=\"atlas_pg_s\">096</SimpleData>\\n\\t</SchemaData></ExtendedData>\\n      <Point><coordinates>-68.543406,63.757997</coordinates></Point>\\n  </Placemark>\\n  <Placemark>\\n\\t<name>Federal Hostel at Igloolik, Igloolik/Iglulik, Nunavut</name>\\n\\t<ExtendedData><SchemaData schemaUrl=\"#IRS_KIB\">\\n\\t\\t<SimpleData name=\"School_num\">82</SimpleData>\\n\\t\\t<SimpleData name=\"Province o\">Nunavut</SimpleData>\\n\\t\\t<SimpleData name=\"From\">1961</SimpleData>\\n\\t\\t<SimpleData name=\"To\">1969</SimpleData>\\n\\t\\t<SimpleData name=\"Descriptio\">Just north of the RCMP detatchment</SimpleData>\\n\\t\\t<SimpleData name=\"Longitude\">-81.798349999999999</SimpleData>\\n\\t\\t<SimpleData name=\"Latitude\">69.378523999999999</SimpleData>\\n\\t\\t<SimpleData name=\"Location p\">0.000000000000000</SimpleData>\\n\\t\\t<SimpleData name=\"Reference\">NCTR \\xe2\\x80\\x93 Igloolik, NU, narrative and FB31410 CLSR NU</SimpleData>\\n\\t\\t<SimpleData name=\"Map Notes\">The hostel was adjacent to the Federal Day School of the 1960s</SimpleData>\\n\\t\\t<SimpleData name=\"Religious\">Non-denominational</SimpleData>\\n\\t\\t<SimpleData name=\"Atlas_pg\">97</SimpleData>\\n\\t\\t<SimpleData name=\"map_name\">Igloolik IRS \\xe2\\x80\\x93 Federal, Small Hostel</SimpleData>\\n\\t\\t<SimpleData name=\"atlas_pg_s\">097</SimpleData>\\n\\t</SchemaData></ExtendedData>\\n      <Point><coordinates>-81.79835,69.378524</coordinates></Point>\\n  </Placemark>\\n  <Placemark>\\n\\t<name>Federal Hostel at Lake Harbour, Kimmirut, Nunavut</name>\\n\\t<ExtendedData><SchemaData schemaUrl=\"#IRS_KIB\">\\n\\t\\t<SimpleData name=\"School_num\">83</SimpleData>\\n\\t\\t<SimpleData name=\"Province o\">Nunavut</SimpleData>\\n\\t\\t<SimpleData name=\"From\">1963</SimpleData>\\n\\t\\t<SimpleData name=\"To\">1965</SimpleData>\\n\\t\\t<SimpleData name=\"Descriptio\">near the Federal Day School</SimpleData>\\n\\t\\t<SimpleData name=\"Longitude\">-69.871061999999995</SimpleData>\\n\\t\\t<SimpleData name=\"Latitude\">62.847177000000002</SimpleData>\\n\\t\\t<SimpleData name=\"Location p\">0.000000000000000</SimpleData>\\n\\t\\t<SimpleData name=\"Reference\">NCTR \\xe2\\x80\\x93 Lake Harbour, NU, narrative</SimpleData>\\n\\t\\t<SimpleData name=\"Religious\">Non-denominational</SimpleData>\\n\\t\\t<SimpleData name=\"Atlas_pg\">98</SimpleData>\\n\\t\\t<SimpleData name=\"map_name\">Federal Hostel at Lake Harbour</SimpleData>\\n\\t\\t<SimpleData name=\"atlas_pg_s\">098</SimpleData>\\n\\t</SchemaData></ExtendedData>\\n      <Point><coordinates>-69.871062,62.847177</coordinates></Point>\\n  </Placemark>\\n  <Placemark>\\n\\t<name>Federal Hostel at Pangnirtung (Pangnirtang), Pangnirtung / Panniqtuuq, Nunavut</name>\\n\\t<ExtendedData><SchemaData schemaUrl=\"#IRS_KIB\">\\n\\t\\t<SimpleData name=\"School_num\">84</SimpleData>\\n\\t\\t<SimpleData name=\"Province o\">Nunavut</SimpleData>\\n\\t\\t<SimpleData name=\"From\">1964</SimpleData>\\n\\t\\t<SimpleData name=\"To\">1967</SimpleData>\\n\\t\\t<SimpleData name=\"Descriptio\">Present Lot 199</SimpleData>\\n\\t\\t<SimpleData name=\"Longitude\">-65.704228999999998</SimpleData>\\n\\t\\t<SimpleData name=\"Latitude\">66.145301000000003</SimpleData>\\n\\t\\t<SimpleData name=\"Location p\">0.000000000000000</SimpleData>\\n\\t\\t<SimpleData name=\"Reference\">NCTR \\xe2\\x80\\x93 Pangnirtung, NU, narrative and Plans 52993 CLSR NU and 57326 CLSR NU</SimpleData>\\n\\t\\t<SimpleData name=\"Map Notes\">The hostel was adjacent to the Federal Day School of the 1960s</SimpleData>\\n\\t\\t<SimpleData name=\"Religious\">Non-denominational</SimpleData>\\n\\t\\t<SimpleData name=\"Atlas_pg\">99</SimpleData>\\n\\t\\t<SimpleData name=\"map_name\">Federal Hostel at Pangnirtung</SimpleData>\\n\\t\\t<SimpleData name=\"atlas_pg_s\">099</SimpleData>\\n\\t</SchemaData></ExtendedData>\\n      <Point><coordinates>-65.704229,66.145301</coordinates></Point>\\n  </Placemark>\\n  <Placemark>\\n\\t<name>Federal Hostel at Pond Inlet, Mittimatalik, Nunavut</name>\\n\\t<ExtendedData><SchemaData schemaUrl=\"#IRS_KIB\">\\n\\t\\t<SimpleData name=\"School_num\">85</SimpleData>\\n\\t\\t<SimpleData name=\"Province o\">Nunavut</SimpleData>\\n\\t\\t<SimpleData name=\"From\">1962</SimpleData>\\n\\t\\t<SimpleData name=\"To\">1970</SimpleData>\\n\\t\\t<SimpleData name=\"Descriptio\">Present lot 501, which in the 1960s was lot 49.</SimpleData>\\n\\t\\t<SimpleData name=\"Longitude\">-77.959610999999995</SimpleData>\\n\\t\\t<SimpleData name=\"Latitude\">72.700743000000003</SimpleData>\\n\\t\\t<SimpleData name=\"Location p\">0.000000000000000</SimpleData>\\n\\t\\t<SimpleData name=\"Reference\">NCTR \\xe2\\x80\\x93 Pond Inlet, NU, narrative and Plan 52989 CLSR NU</SimpleData>\\n\\t\\t<SimpleData name=\"Religious\">Non-denominational</SimpleData>\\n\\t\\t<SimpleData name=\"Atlas_pg\">100</SimpleData>\\n\\t\\t<SimpleData name=\"map_name\">Federal Hostel at Pond Inlet, Mittimatalik, Nunavut</SimpleData>\\n\\t\\t<SimpleData name=\"atlas_pg_s\">100</SimpleData>\\n\\t</SchemaData></ExtendedData>\\n      <Point><coordinates>-77.959611,72.700743</coordinates></Point>\\n  </Placemark>\\n  <Placemark>\\n\\t<name>Bishop Horden Hall (Moose Fort, Moose Factory), Moose Island, Ontario</name>\\n\\t<ExtendedData><SchemaData schemaUrl=\"#IRS_KIB\">\\n\\t\\t<SimpleData name=\"School_num\">86</SimpleData>\\n\\t\\t<SimpleData name=\"Province o\">Ontario</SimpleData>\\n\\t\\t<SimpleData name=\"From\">1906</SimpleData>\\n\\t\\t<SimpleData name=\"To\">1976</SimpleData>\\n\\t\\t<SimpleData name=\"Descriptio\">Current location of Ministik Public School</SimpleData>\\n\\t\\t<SimpleData name=\"Longitude\">-80.614208000000005</SimpleData>\\n\\t\\t<SimpleData name=\"Latitude\">51.249963000000001</SimpleData>\\n\\t\\t<SimpleData name=\"Location p\">0.000000000000000</SimpleData>\\n\\t\\t<SimpleData name=\"Reference\">Plan F4330 CLSR ON</SimpleData>\\n\\t\\t<SimpleData name=\"Notes\">\\xe2\\x80\\x9cand mission day schools at Fort Albany and Rupert House...\\xe2\\x80\\x9d [Anglican Church, Bishop Horden]; may have graveyard on site [Globe and Mail, 2007]</SimpleData>\\n\\t\\t<SimpleData name=\"Religious\">Anglican</SimpleData>\\n\\t\\t<SimpleData name=\"Atlas_pg\">101</SimpleData>\\n\\t\\t<SimpleData name=\"map_name\">Bishop Horden Hall</SimpleData>\\n\\t\\t<SimpleData name=\"atlas_pg_s\">101</SimpleData>\\n\\t</SchemaData></ExtendedData>\\n      <Point><coordinates>-80.614208,51.249963</coordinates></Point>\\n  </Placemark>\\n  <Placemark>\\n\\t<name>Cecilia Jeffrey (Kenora, Shoal Lake), Kenora, Ontario</name>\\n\\t<ExtendedData><SchemaData schemaUrl=\"#IRS_KIB\">\\n\\t\\t<SimpleData name=\"School_num\">87</SimpleData>\\n\\t\\t<SimpleData name=\"Province o\">Ontario</SimpleData>\\n\\t\\t<SimpleData name=\"From\">1902</SimpleData>\\n\\t\\t<SimpleData name=\"To\">1929</SimpleData>\\n\\t\\t<SimpleData name=\"Descriptio\">At the end of a peninsula between Rice Bay and Shoal Lake</SimpleData>\\n\\t\\t<SimpleData name=\"Longitude\">-95.110158999999996</SimpleData>\\n\\t\\t<SimpleData name=\"Latitude\">49.586008000000000</SimpleData>\\n\\t\\t<SimpleData name=\"Location p\">0.000000000000000</SimpleData>\\n\\t\\t<SimpleData name=\"Reference\">Lake of the Woods [map], 1919</SimpleData>\\n\\t\\t<SimpleData name=\"Notes\">access was by boat from Kenora. Address of the school during these years is often referred to as \\xe2\\x80\\x9cIndian Bay, Manitoba.\\xe2\\x80\\x9d</SimpleData>\\n\\t\\t<SimpleData name=\"Religious\">Presbyterian</SimpleData>\\n\\t\\t<SimpleData name=\"Atlas_pg\">102</SimpleData>\\n\\t\\t<SimpleData name=\"map_name\">Cecilia Jeffrey IRS</SimpleData>\\n\\t\\t<SimpleData name=\"atlas_pg_s\">102</SimpleData>\\n\\t</SchemaData></ExtendedData>\\n      <Point><coordinates>-95.110159,49.586008</coordinates></Point>\\n  </Placemark>\\n  <Placemark>\\n\\t<name>Cecilia Jeffrey (Kenora, Shoal Lake), Kenora, Ontario</name>\\n\\t<ExtendedData><SchemaData schemaUrl=\"#IRS_KIB\">\\n\\t\\t<SimpleData name=\"School_num\">87</SimpleData>\\n\\t\\t<SimpleData name=\"Province o\">Ontario</SimpleData>\\n\\t\\t<SimpleData name=\"From\">1929</SimpleData>\\n\\t\\t<SimpleData name=\"To\">1976</SimpleData>\\n\\t\\t<SimpleData name=\"Descriptio\">237 Airport Road, Kenora, Ontario P9N 0A2</SimpleData>\\n\\t\\t<SimpleData name=\"Longitude\">-94.440160000000006</SimpleData>\\n\\t\\t<SimpleData name=\"Latitude\">49.782330000000002</SimpleData>\\n\\t\\t<SimpleData name=\"Location p\">0.000000000000000</SimpleData>\\n\\t\\t<SimpleData name=\"Reference\">Lake of the Woods Ojibway Cultural Centre</SimpleData>\\n\\t\\t<SimpleData name=\"Notes\">From 1929-1974 the school was affiliated with the Presbyterian Church and was located at Round Lake, Northeast of Kenora, Ontario. The Lake of the Woods Ojibway Cultural Centre is located on the property formerly used as the Cecilia Jeffrey Indian Reside</SimpleData>\\n\\t\\t<SimpleData name=\"Religious\">Presbyterian</SimpleData>\\n\\t\\t<SimpleData name=\"Atlas_pg\">103</SimpleData>\\n\\t\\t<SimpleData name=\"map_name\">Cecilia Jeffrey IRS</SimpleData>\\n\\t\\t<SimpleData name=\"atlas_pg_s\">103</SimpleData>\\n\\t</SchemaData></ExtendedData>\\n      <Point><coordinates>-94.44016,49.78233</coordinates></Point>\\n  </Placemark>\\n  <Placemark>\\n\\t<name>Chapleau (St. John\\'s), Chapleau, Ontario</name>\\n\\t<ExtendedData><SchemaData schemaUrl=\"#IRS_KIB\">\\n\\t\\t<SimpleData name=\"School_num\">88</SimpleData>\\n\\t\\t<SimpleData name=\"Province o\">Ontario</SimpleData>\\n\\t\\t<SimpleData name=\"From\">1907</SimpleData>\\n\\t\\t<SimpleData name=\"To\">1921</SimpleData>\\n\\t\\t<SimpleData name=\"Descriptio\">east side of Chapleau and fronting on the Nebskwashi River.</SimpleData>\\n\\t\\t<SimpleData name=\"Longitude\">-83.388670000000005</SimpleData>\\n\\t\\t<SimpleData name=\"Latitude\">47.842739999999999</SimpleData>\\n\\t\\t<SimpleData name=\"Location p\">0.000000000000000</SimpleData>\\n\\t\\t<SimpleData name=\"Reference\">Anglican Church, Saint John\\'s; and Plan T729 CLSR ON</SimpleData>\\n\\t\\t<SimpleData name=\"Notes\">Work commenced in August 1906 and the school building was opened in January 1907. The residential school property comprised 153 acres, situated on the east side of Chapleau and fronting on the Nebskwashi River. Enrolment soon stretched the capacity of th</SimpleData>\\n\\t\\t<SimpleData name=\"Religious\">Anglican</SimpleData>\\n\\t\\t<SimpleData name=\"Atlas_pg\">104</SimpleData>\\n\\t\\t<SimpleData name=\"map_name\">Chapleau (St. John\\'s) IRS</SimpleData>\\n\\t\\t<SimpleData name=\"atlas_pg_s\">104</SimpleData>\\n\\t</SchemaData></ExtendedData>\\n      <Point><coordinates>-83.38867,47.84274</coordinates></Point>\\n  </Placemark>\\n  <Placemark>\\n\\t<name>Chapleau (St. John\\'s), Chapleau, Ontario</name>\\n\\t<ExtendedData><SchemaData schemaUrl=\"#IRS_KIB\">\\n\\t\\t<SimpleData name=\"School_num\">88</SimpleData>\\n\\t\\t<SimpleData name=\"Province o\">Ontario</SimpleData>\\n\\t\\t<SimpleData name=\"From\">1921</SimpleData>\\n\\t\\t<SimpleData name=\"To\">1948</SimpleData>\\n\\t\\t<SimpleData name=\"Descriptio\">three km south of the town. It totalled 2,142 acres and straddled the CPR and the main road running south</SimpleData>\\n\\t\\t<SimpleData name=\"Longitude\">-83.397400000000005</SimpleData>\\n\\t\\t<SimpleData name=\"Latitude\">47.818010000000001</SimpleData>\\n\\t\\t<SimpleData name=\"Location p\">0.000000000000000</SimpleData>\\n\\t\\t<SimpleData name=\"Reference\">Anglican Church, Saint John\\'s; Auger \\xe2\\x80\\x93 St. John\\'s; and Plan 1881 CLSR ON</SimpleData>\\n\\t\\t<SimpleData name=\"Notes\">By 1920, a large tract of land had been acquired three km south of the town. It totalled 2,142 acres and straddled the CPR and the main road running south to Lake Huron (later King\\xe2\\x80\\x99s Highways 129 and 101). Here the large new St. John\\xe2\\x80\\x99s Indian Residen</SimpleData>\\n\\t\\t<SimpleData name=\"Religious\">Anglican</SimpleData>\\n\\t\\t<SimpleData name=\"Atlas_pg\">105</SimpleData>\\n\\t\\t<SimpleData name=\"map_name\">Chapleau (St. John\\'s) IRS</SimpleData>\\n\\t\\t<SimpleData name=\"atlas_pg_s\">105</SimpleData>\\n\\t</SchemaData></ExtendedData>\\n      <Point><coordinates>-83.3974,47.81801</coordinates></Point>\\n  </Placemark>\\n  <Placemark>\\n\\t<name>Cristal Lake High School (September 1, 1976 to June 30, 1986)</name>\\n\\t<ExtendedData><SchemaData schemaUrl=\"#IRS_KIB\">\\n\\t\\t<SimpleData name=\"School_num\">89</SimpleData>\\n\\t\\t<SimpleData name=\"Province o\">Ontario</SimpleData>\\n\\t\\t<SimpleData name=\"From\">1976</SimpleData>\\n\\t\\t<SimpleData name=\"To\">1986</SimpleData>\\n\\t\\t<SimpleData name=\"Descriptio\">Cristal Lake</SimpleData>\\n\\t\\t<SimpleData name=\"Longitude\">-90.087951000000004</SimpleData>\\n\\t\\t<SimpleData name=\"Latitude\">52.107759000000001</SimpleData>\\n\\t\\t<SimpleData name=\"Location p\">0.000000000000000</SimpleData>\\n\\t\\t<SimpleData name=\"Reference\">Auger \\xe2\\x80\\x93 Poplar Hill; Digital Globe, Cristal Lake,  2017</SimpleData>\\n\\t\\t<SimpleData name=\"Notes\">[Auger \\xe2\\x80\\x93 Poplar Hill] says that a road was built from the gravel extension of Highway 599 to the school. This is the only such property.</SimpleData>\\n\\t\\t<SimpleData name=\"Religious\">Mennonite</SimpleData>\\n\\t\\t<SimpleData name=\"Atlas_pg\">106</SimpleData>\\n\\t\\t<SimpleData name=\"map_name\">Cristal Lake IRS</SimpleData>\\n\\t\\t<SimpleData name=\"atlas_pg_s\">106</SimpleData>\\n\\t</SchemaData></ExtendedData>\\n      <Point><coordinates>-90.087951,52.107759</coordinates></Point>\\n  </Placemark>\\n  <Placemark>\\n\\t<name>Fort Frances (St. Margaret\\'s), Fort Frances, Ontario</name>\\n\\t<ExtendedData><SchemaData schemaUrl=\"#IRS_KIB\">\\n\\t\\t<SimpleData name=\"School_num\">90</SimpleData>\\n\\t\\t<SimpleData name=\"Province o\">Ontario</SimpleData>\\n\\t\\t<SimpleData name=\"From\">1906</SimpleData>\\n\\t\\t<SimpleData name=\"To\">1974</SimpleData>\\n\\t\\t<SimpleData name=\"Descriptio\">close to the outlet of the lake at Pither\\'s Point (see map in source)</SimpleData>\\n\\t\\t<SimpleData name=\"Longitude\">-93.358883000000006</SimpleData>\\n\\t\\t<SimpleData name=\"Latitude\">48.628900000000002</SimpleData>\\n\\t\\t<SimpleData name=\"Location p\">0.000000000000000</SimpleData>\\n\\t\\t<SimpleData name=\"Reference\">Auger \\xe2\\x80\\x93 St. Margaret\\'s; Plan T842 CLSR ON</SimpleData>\\n\\t\\t<SimpleData name=\"Religious\">Roman Catholic</SimpleData>\\n\\t\\t<SimpleData name=\"Atlas_pg\">107</SimpleData>\\n\\t\\t<SimpleData name=\"map_name\">Fort Frances IRS</SimpleData>\\n\\t\\t<SimpleData name=\"atlas_pg_s\">107</SimpleData>\\n\\t</SchemaData></ExtendedData>\\n      <Point><coordinates>-93.358883,48.6289</coordinates></Point>\\n  </Placemark>\\n  <Placemark>\\n\\t<name>Fort William (St. Joseph\\'s), Fort William, Ontario</name>\\n\\t<ExtendedData><SchemaData schemaUrl=\"#IRS_KIB\">\\n\\t\\t<SimpleData name=\"School_num\">91</SimpleData>\\n\\t\\t<SimpleData name=\"Province o\">Ontario</SimpleData>\\n\\t\\t<SimpleData name=\"From\">1885</SimpleData>\\n\\t\\t<SimpleData name=\"To\">1906</SimpleData>\\n\\t\\t<SimpleData name=\"Descriptio\">Mission site on the south shore of the Kaministiquia river, at what is today the end of Darrel Ave.</SimpleData>\\n\\t\\t<SimpleData name=\"Longitude\">-89.259708000000003</SimpleData>\\n\\t\\t<SimpleData name=\"Latitude\">48.361226000000002</SimpleData>\\n\\t\\t<SimpleData name=\"Location p\">0.000000000000000</SimpleData>\\n\\t\\t<SimpleData name=\"Reference\">LAC, 1898, Ft. William</SimpleData>\\n\\t\\t<SimpleData name=\"Religious\">Roman Catholic</SimpleData>\\n\\t\\t<SimpleData name=\"Atlas_pg\">108</SimpleData>\\n\\t\\t<SimpleData name=\"map_name\">St. Joseph\\'s (Fort William) IRS</SimpleData>\\n\\t\\t<SimpleData name=\"atlas_pg_s\">108</SimpleData>\\n\\t</SchemaData></ExtendedData>\\n      <Point><coordinates>-89.259708,48.361226</coordinates></Point>\\n  </Placemark>\\n  <Placemark>\\n\\t<name>Fort William (St. Joseph\\'s), Fort William, Ontario</name>\\n\\t<ExtendedData><SchemaData schemaUrl=\"#IRS_KIB\">\\n\\t\\t<SimpleData name=\"School_num\">91</SimpleData>\\n\\t\\t<SimpleData name=\"Province o\">Ontario</SimpleData>\\n\\t\\t<SimpleData name=\"From\">1907</SimpleData>\\n\\t\\t<SimpleData name=\"To\">1909</SimpleData>\\n\\t\\t<SimpleData name=\"Descriptio\">What is today the the Mission Village subdivision, where Squaw Bay Rd. reaches Lake Superior, a bay now known as Squaw Bay</SimpleData>\\n\\t\\t<SimpleData name=\"Longitude\">-89.235495999999998</SimpleData>\\n\\t\\t<SimpleData name=\"Latitude\">48.306261999999997</SimpleData>\\n\\t\\t<SimpleData name=\"Location p\">0.000000000000000</SimpleData>\\n\\t\\t<SimpleData name=\"Reference\">Auger \\xe2\\x80\\x93 Ft. William; and Plan B823 CLSR ON</SimpleData>\\n\\t\\t<SimpleData name=\"Religious\">Roman Catholic</SimpleData>\\n\\t\\t<SimpleData name=\"Atlas_pg\">109</SimpleData>\\n\\t\\t<SimpleData name=\"map_name\">St. Joseph\\'s (Fort William) IRS</SimpleData>\\n\\t\\t<SimpleData name=\"atlas_pg_s\">109</SimpleData>\\n\\t</SchemaData></ExtendedData>\\n      <Point><coordinates>-89.235496,48.306262</coordinates></Point>\\n  </Placemark>\\n  <Placemark>\\n\\t<name>Fort William (St. Joseph\\'s), Fort William, Ontario</name>\\n\\t<ExtendedData><SchemaData schemaUrl=\"#IRS_KIB\">\\n\\t\\t<SimpleData name=\"School_num\">91</SimpleData>\\n\\t\\t<SimpleData name=\"Province o\">Ontario</SimpleData>\\n\\t\\t<SimpleData name=\"From\">1909</SimpleData>\\n\\t\\t<SimpleData name=\"To\">1970</SimpleData>\\n\\t\\t<SimpleData name=\"Descriptio\">at the corner of Franklin Street and Arthur Street, the site of the former boarding school. A senior elementary school now sits in that location.&quot; 205 S. Franklin St. Thunder Bay, ON P7E 1R2</SimpleData>\\n\\t\\t<SimpleData name=\"Longitude\">-89.257260000000002</SimpleData>\\n\\t\\t<SimpleData name=\"Latitude\">48.382050000000000</SimpleData>\\n\\t\\t<SimpleData name=\"Location p\">0.000000000000000</SimpleData>\\n\\t\\t<SimpleData name=\"Reference\">Auger \\xe2\\x80\\x93 Ft. William; Wataway News, 2015; NCTR \\xe2\\x80\\x93 Ft. William, ON, narrative</SimpleData>\\n\\t\\t<SimpleData name=\"Religious\">Roman Catholic</SimpleData>\\n\\t\\t<SimpleData name=\"Atlas_pg\">110</SimpleData>\\n\\t\\t<SimpleData name=\"map_name\">St. Joseph\\'s (Fort William) IRS</SimpleData>\\n\\t\\t<SimpleData name=\"atlas_pg_s\">110</SimpleData>\\n\\t</SchemaData></ExtendedData>\\n      <Point><coordinates>-89.25726,48.38205</coordinates></Point>\\n  </Placemark>\\n  <Placemark>\\n\\t<name>McIntosh, McIntosh, Ontario</name>\\n\\t<ExtendedData><SchemaData schemaUrl=\"#IRS_KIB\">\\n\\t\\t<SimpleData name=\"School_num\">92</SimpleData>\\n\\t\\t<SimpleData name=\"Province o\">Ontario</SimpleData>\\n\\t\\t<SimpleData name=\"From\">1925</SimpleData>\\n\\t\\t<SimpleData name=\"To\">1969</SimpleData>\\n\\t\\t<SimpleData name=\"Descriptio\">The school was located on a small bay at the southeast end of Canyon Lake</SimpleData>\\n\\t\\t<SimpleData name=\"Longitude\">-93.610938000000004</SimpleData>\\n\\t\\t<SimpleData name=\"Latitude\">49.960537000000002</SimpleData>\\n\\t\\t<SimpleData name=\"Location p\">0.000000000000000</SimpleData>\\n\\t\\t<SimpleData name=\"Reference\">Auger \\xe2\\x80\\x93 McIntosh, p.55; Plan 2049 CLSR ON</SimpleData>\\n\\t\\t<SimpleData name=\"Notes\">(320 acres of land in total). A trail was created from the CNR station to the school. Primary access to the school was by boat. Everything from supplies, equipment, livestock and students were moved by barge. See map on p. 55 [Auger \\xe2\\x80\\x93 McIntosh]</SimpleData>\\n\\t\\t<SimpleData name=\"Religious\">Roman Catholic</SimpleData>\\n\\t\\t<SimpleData name=\"Atlas_pg\">111</SimpleData>\\n\\t\\t<SimpleData name=\"map_name\">McIntosh IRS</SimpleData>\\n\\t\\t<SimpleData name=\"atlas_pg_s\">111</SimpleData>\\n\\t</SchemaData></ExtendedData>\\n      <Point><coordinates>-93.610938,49.960537</coordinates></Point>\\n  </Placemark>\\n  <Placemark>\\n\\t<name>Mohawk Institute, Brantford, Ontario</name>\\n\\t<ExtendedData><SchemaData schemaUrl=\"#IRS_KIB\">\\n\\t\\t<SimpleData name=\"School_num\">93</SimpleData>\\n\\t\\t<SimpleData name=\"Province o\">Ontario</SimpleData>\\n\\t\\t<SimpleData name=\"From\">1885</SimpleData>\\n\\t\\t<SimpleData name=\"To\">1970</SimpleData>\\n\\t\\t<SimpleData name=\"Descriptio\">now the Woodland Cultural Centre, 184 Mohawk St, Brantford, ON</SimpleData>\\n\\t\\t<SimpleData name=\"Longitude\">-80.240495999999993</SimpleData>\\n\\t\\t<SimpleData name=\"Latitude\">43.127608000000002</SimpleData>\\n\\t\\t<SimpleData name=\"Location p\">0.000000000000000</SimpleData>\\n\\t\\t<SimpleData name=\"Reference\">Mohawk Institute Residential School \\xe2\\x80\\x93 Wikipedia; Fieldbook FB30789 CLSR ON</SimpleData>\\n\\t\\t<SimpleData name=\"Religious\">Anglican</SimpleData>\\n\\t\\t<SimpleData name=\"Atlas_pg\">112</SimpleData>\\n\\t\\t<SimpleData name=\"map_name\">Mohawk Institute IRS</SimpleData>\\n\\t\\t<SimpleData name=\"atlas_pg_s\">112</SimpleData>\\n\\t</SchemaData></ExtendedData>\\n      <Point><coordinates>-80.240496,43.127608</coordinates></Point>\\n  </Placemark>\\n  <Placemark>\\n\\t<name>Mount Elgin (Muncey, St. Thomas), Munceytown, Ontario</name>\\n\\t<ExtendedData><SchemaData schemaUrl=\"#IRS_KIB\">\\n\\t\\t<SimpleData name=\"School_num\">94</SimpleData>\\n\\t\\t<SimpleData name=\"Province o\">Ontario</SimpleData>\\n\\t\\t<SimpleData name=\"From\">1841</SimpleData>\\n\\t\\t<SimpleData name=\"To\">1946</SimpleData>\\n\\t\\t<SimpleData name=\"Descriptio\">On what is now the Chippewas of the Thames First Nation No. 42, off East River Road, on the south side of the Thames 400m north of Mount Elgin Drive.</SimpleData>\\n\\t\\t<SimpleData name=\"Longitude\">-81.427629999999994</SimpleData>\\n\\t\\t<SimpleData name=\"Latitude\">42.807850000000002</SimpleData>\\n\\t\\t<SimpleData name=\"Location p\">0.000000000000000</SimpleData>\\n\\t\\t<SimpleData name=\"Reference\">Plan 426 CLSR ON</SimpleData>\\n\\t\\t<SimpleData name=\"Religious\">United Church</SimpleData>\\n\\t\\t<SimpleData name=\"Atlas_pg\">113</SimpleData>\\n\\t\\t<SimpleData name=\"map_name\">Mount Elgin IRS</SimpleData>\\n\\t\\t<SimpleData name=\"atlas_pg_s\">113</SimpleData>\\n\\t</SchemaData></ExtendedData>\\n      <Point><coordinates>-81.42763,42.80785</coordinates></Point>\\n  </Placemark>\\n  <Placemark>\\n\\t<name>Pelican Lake (Pelican Falls), Sioux Lookout, Ontario</name>\\n\\t<ExtendedData><SchemaData schemaUrl=\"#IRS_KIB\">\\n\\t\\t<SimpleData name=\"School_num\">95</SimpleData>\\n\\t\\t<SimpleData name=\"Province o\">Ontario</SimpleData>\\n\\t\\t<SimpleData name=\"From\">1926</SimpleData>\\n\\t\\t<SimpleData name=\"To\">1973</SimpleData>\\n\\t\\t<SimpleData name=\"Descriptio\">The school was located on Pelican Lake about six miles by air from the town of Sioux Lookout. The school lands were situated between the Sturgeon and Vermillion Rivers, near the &quot;Pelican Station&quot; on the mainline of the CNR... The school buildings were lo</SimpleData>\\n\\t\\t<SimpleData name=\"Longitude\">-92.011623999999998</SimpleData>\\n\\t\\t<SimpleData name=\"Latitude\">50.120094999999999</SimpleData>\\n\\t\\t<SimpleData name=\"Location p\">0.000000000000000</SimpleData>\\n\\t\\t<SimpleData name=\"Reference\">Auger \\xe2\\x80\\x93 Pelican Lake</SimpleData>\\n\\t\\t<SimpleData name=\"Notes\">Presently the site of Pelican Falls First Nations High School</SimpleData>\\n\\t\\t<SimpleData name=\"Religious\">Anglican</SimpleData>\\n\\t\\t<SimpleData name=\"Atlas_pg\">114</SimpleData>\\n\\t\\t<SimpleData name=\"map_name\">Pelican Lake (Sioux Lookout) IRS</SimpleData>\\n\\t\\t<SimpleData name=\"atlas_pg_s\">114</SimpleData>\\n\\t</SchemaData></ExtendedData>\\n      <Point><coordinates>-92.011624,50.120095</coordinates></Point>\\n  </Placemark>\\n  <Placemark>\\n\\t<name>Poplar Hill, Poplar Hill, Ontario</name>\\n\\t<ExtendedData><SchemaData schemaUrl=\"#IRS_KIB\">\\n\\t\\t<SimpleData name=\"School_num\">96</SimpleData>\\n\\t\\t<SimpleData name=\"Province o\">Ontario</SimpleData>\\n\\t\\t<SimpleData name=\"From\">1962</SimpleData>\\n\\t\\t<SimpleData name=\"To\">1989</SimpleData>\\n\\t\\t<SimpleData name=\"Descriptio\">in the community of Poplar Hill</SimpleData>\\n\\t\\t<SimpleData name=\"Longitude\">-94.297839999999994</SimpleData>\\n\\t\\t<SimpleData name=\"Latitude\">52.101190000000003</SimpleData>\\n\\t\\t<SimpleData name=\"Location p\">0.000000000000000</SimpleData>\\n\\t\\t<SimpleData name=\"Reference\">Auger \\xe2\\x80\\x93 Poplar Hill</SimpleData>\\n\\t\\t<SimpleData name=\"Notes\">It\\'s unclear where the school was within the small community.</SimpleData>\\n\\t\\t<SimpleData name=\"Religious\">Mennonite</SimpleData>\\n\\t\\t<SimpleData name=\"Atlas_pg\">115</SimpleData>\\n\\t\\t<SimpleData name=\"map_name\">Poplar Hill Development School</SimpleData>\\n\\t\\t<SimpleData name=\"atlas_pg_s\">115</SimpleData>\\n\\t</SchemaData></ExtendedData>\\n      <Point><coordinates>-94.29784,52.10119</coordinates></Point>\\n  </Placemark>\\n  <Placemark>\\n\\t<name>St. Anne\\'s (Fort Albany), Fort Albany, Ontario</name>\\n\\t<ExtendedData><SchemaData schemaUrl=\"#IRS_KIB\">\\n\\t\\t<SimpleData name=\"School_num\">97</SimpleData>\\n\\t\\t<SimpleData name=\"Province o\">Ontario</SimpleData>\\n\\t\\t<SimpleData name=\"From\">1910</SimpleData>\\n\\t\\t<SimpleData name=\"To\">1963</SimpleData>\\n\\t\\t<SimpleData name=\"Descriptio\">South across the dry channel from Fort Albany, near Yellow Creek.</SimpleData>\\n\\t\\t<SimpleData name=\"Longitude\">-81.689049999999995</SimpleData>\\n\\t\\t<SimpleData name=\"Latitude\">52.206870000000002</SimpleData>\\n\\t\\t<SimpleData name=\"Location p\">0.000000000000000</SimpleData>\\n\\t\\t<SimpleData name=\"Reference\">Plan 64885 CLSR ON and Plan 55901 CLSR ON</SimpleData>\\n\\t\\t<SimpleData name=\"Notes\">This is today the smaller, separated part of Fort Albany Reserve 67</SimpleData>\\n\\t\\t<SimpleData name=\"Religious\">Roman Catholic</SimpleData>\\n\\t\\t<SimpleData name=\"Atlas_pg\">116</SimpleData>\\n\\t\\t<SimpleData name=\"map_name\">St. Anne\\'s (Fort Albany) IRS</SimpleData>\\n\\t\\t<SimpleData name=\"atlas_pg_s\">116</SimpleData>\\n\\t</SchemaData></ExtendedData>\\n      <Point><coordinates>-81.68905,52.20687</coordinates></Point>\\n  </Placemark>\\n  <Placemark>\\n\\t<name>St. Mary\\'s (Kenora, St. Anthony\\'s), Kenora, Ontario</name>\\n\\t<ExtendedData><SchemaData schemaUrl=\"#IRS_KIB\">\\n\\t\\t<SimpleData name=\"School_num\">98</SimpleData>\\n\\t\\t<SimpleData name=\"Province o\">Ontario</SimpleData>\\n\\t\\t<SimpleData name=\"From\">1897</SimpleData>\\n\\t\\t<SimpleData name=\"To\">1972</SimpleData>\\n\\t\\t<SimpleData name=\"Descriptio\">on a point adjacent to a channel known as Devil\\'s Gap. The lands were adjacent to the Rat Portage Indian Reserve [incorrect: this is Kenora Reserve 38B] and known as the East part of Lot I.8 and a part of lot K.16.</SimpleData>\\n\\t\\t<SimpleData name=\"Longitude\">-94.480199999999996</SimpleData>\\n\\t\\t<SimpleData name=\"Latitude\">49.745469999999997</SimpleData>\\n\\t\\t<SimpleData name=\"Location p\">0.000000000000000</SimpleData>\\n\\t\\t<SimpleData name=\"Reference\">Auger \\xe2\\x80\\x93 St. Mary\\'s</SimpleData>\\n\\t\\t<SimpleData name=\"Religious\">Roman Catholic</SimpleData>\\n\\t\\t<SimpleData name=\"Atlas_pg\">117</SimpleData>\\n\\t\\t<SimpleData name=\"map_name\">St. Mary\\'s (Kenora) IRS</SimpleData>\\n\\t\\t<SimpleData name=\"atlas_pg_s\">117</SimpleData>\\n\\t</SchemaData></ExtendedData>\\n      <Point><coordinates>-94.4802,49.74547</coordinates></Point>\\n  </Placemark>\\n  <Placemark>\\n\\t<name>Shingwauk (Wawanosh Home), Sault Ste. Marie, Ontario</name>\\n\\t<ExtendedData><SchemaData schemaUrl=\"#IRS_KIB\">\\n\\t\\t<SimpleData name=\"School_num\">99</SimpleData>\\n\\t\\t<SimpleData name=\"Province o\">Ontario</SimpleData>\\n\\t\\t<SimpleData name=\"From\">1874</SimpleData>\\n\\t\\t<SimpleData name=\"To\">1996</SimpleData>\\n\\t\\t<SimpleData name=\"Descriptio\">present site of Algoma University (1520 Queen St E, Sault Ste. Marie, ON P6A 2G4, Canada)</SimpleData>\\n\\t\\t<SimpleData name=\"Longitude\">-84.287329999999997</SimpleData>\\n\\t\\t<SimpleData name=\"Latitude\">46.501010000000001</SimpleData>\\n\\t\\t<SimpleData name=\"Location p\">0.000000000000000</SimpleData>\\n\\t\\t<SimpleData name=\"Reference\">Shingwauk Indian Residential School - Wikipedia</SimpleData>\\n\\t\\t<SimpleData name=\"Religious\">Anglican</SimpleData>\\n\\t\\t<SimpleData name=\"Atlas_pg\">118</SimpleData>\\n\\t\\t<SimpleData name=\"map_name\">Shingwauk IRS</SimpleData>\\n\\t\\t<SimpleData name=\"atlas_pg_s\">118</SimpleData>\\n\\t</SchemaData></ExtendedData>\\n      <Point><coordinates>-84.28733,46.50101</coordinates></Point>\\n  </Placemark>\\n  <Placemark>\\n\\t<name>Spanish Boys School (Charles Garnier, St. Joseph\\'s, formerly Wikwemikong Industrial), Spanish, Ontario</name>\\n\\t<ExtendedData><SchemaData schemaUrl=\"#IRS_KIB\">\\n\\t\\t<SimpleData name=\"School_num\">100</SimpleData>\\n\\t\\t<SimpleData name=\"Province o\">Ontario</SimpleData>\\n\\t\\t<SimpleData name=\"From\">1913</SimpleData>\\n\\t\\t<SimpleData name=\"To\">1962</SimpleData>\\n\\t\\t<SimpleData name=\"Descriptio\">0</SimpleData>\\n\\t\\t<SimpleData name=\"Longitude\">-82.337429999999998</SimpleData>\\n\\t\\t<SimpleData name=\"Latitude\">46.187040000000003</SimpleData>\\n\\t\\t<SimpleData name=\"Location p\">0.000000000000000</SimpleData>\\n\\t\\t<SimpleData name=\"Reference\">NCTR  - Spanish, ON, map</SimpleData>\\n\\t\\t<SimpleData name=\"Religious\">Roman Catholic</SimpleData>\\n\\t\\t<SimpleData name=\"Atlas_pg\">119</SimpleData>\\n\\t\\t<SimpleData name=\"map_name\">Spanish IRS</SimpleData>\\n\\t\\t<SimpleData name=\"atlas_pg_s\">119</SimpleData>\\n\\t</SchemaData></ExtendedData>\\n      <Point><coordinates>-82.33743,46.18704</coordinates></Point>\\n  </Placemark>\\n  <Placemark>\\n\\t<name>Spanish Girls School (St. Joseph\\'s, St. Peter\\'s, St. Anne\\'s formerly Wikwemikong Industrial), Spanish, Ontario</name>\\n\\t<ExtendedData><SchemaData schemaUrl=\"#IRS_KIB\">\\n\\t\\t<SimpleData name=\"School_num\">101</SimpleData>\\n\\t\\t<SimpleData name=\"Province o\">Ontario</SimpleData>\\n\\t\\t<SimpleData name=\"From\">1913</SimpleData>\\n\\t\\t<SimpleData name=\"To\">1962</SimpleData>\\n\\t\\t<SimpleData name=\"Descriptio\">0</SimpleData>\\n\\t\\t<SimpleData name=\"Longitude\">-82.337429999999998</SimpleData>\\n\\t\\t<SimpleData name=\"Latitude\">46.187040000000003</SimpleData>\\n\\t\\t<SimpleData name=\"Location p\">0.000000000000000</SimpleData>\\n\\t\\t<SimpleData name=\"Reference\">NCTR  - Spanish, ON, map</SimpleData>\\n\\t\\t<SimpleData name=\"Religious\">Roman Catholic</SimpleData>\\n\\t\\t<SimpleData name=\"Atlas_pg\">120</SimpleData>\\n\\t\\t<SimpleData name=\"map_name\">Spanish IRS</SimpleData>\\n\\t\\t<SimpleData name=\"atlas_pg_s\">120</SimpleData>\\n\\t</SchemaData></ExtendedData>\\n      <Point><coordinates>-82.33743,46.18704</coordinates></Point>\\n  </Placemark>\\n  <Placemark>\\n\\t<name>Spanish Girls School (St. Joseph\\'s, St. Peter\\'s, St. Anne\\'s formerly Wikwemikong Industrial), Spanish, Ontario</name>\\n\\t<ExtendedData><SchemaData schemaUrl=\"#IRS_KIB\">\\n\\t\\t<SimpleData name=\"School_num\">100</SimpleData>\\n\\t\\t<SimpleData name=\"Province o\">Ontario</SimpleData>\\n\\t\\t<SimpleData name=\"From\">1862</SimpleData>\\n\\t\\t<SimpleData name=\"To\">1913</SimpleData>\\n\\t\\t<SimpleData name=\"Descriptio\">In the Wikwemikong village, on the hillside which forms the west shore of Smith Bay</SimpleData>\\n\\t\\t<SimpleData name=\"Longitude\">-81.708690000000004</SimpleData>\\n\\t\\t<SimpleData name=\"Latitude\">45.807789999999997</SimpleData>\\n\\t\\t<SimpleData name=\"Location p\">1.000000000000000</SimpleData>\\n\\t\\t<SimpleData name=\"Reference\">NCTR  - Spanish, ON, map</SimpleData>\\n\\t\\t<SimpleData name=\"Map Notes\">On the west shore of Smith Bay in the village of Wikwemikong</SimpleData>\\n\\t\\t<SimpleData name=\"Religious\">Roman Catholic</SimpleData>\\n\\t\\t<SimpleData name=\"Atlas_pg\">121</SimpleData>\\n\\t\\t<SimpleData name=\"map_name\">Wikwemikong Industrial School</SimpleData>\\n\\t\\t<SimpleData name=\"atlas_pg_s\">121</SimpleData>\\n\\t</SchemaData></ExtendedData>\\n      <Point><coordinates>-81.70869,45.80779</coordinates></Point>\\n  </Placemark>\\n  <Placemark>\\n\\t<name>Stirland Lake High School/Wahbon Bay Academy (September 1, 1971 to June 30, 1991)</name>\\n\\t<ExtendedData><SchemaData schemaUrl=\"#IRS_KIB\">\\n\\t\\t<SimpleData name=\"School_num\">102</SimpleData>\\n\\t\\t<SimpleData name=\"Province o\">Ontario</SimpleData>\\n\\t\\t<SimpleData name=\"From\">1971</SimpleData>\\n\\t\\t<SimpleData name=\"To\">1991</SimpleData>\\n\\t\\t<SimpleData name=\"Descriptio\">Stirland Lake</SimpleData>\\n\\t\\t<SimpleData name=\"Longitude\">-91.025620000000004</SimpleData>\\n\\t\\t<SimpleData name=\"Latitude\">52.346739999999997</SimpleData>\\n\\t\\t<SimpleData name=\"Location p\">0.000000000000000</SimpleData>\\n\\t\\t<SimpleData name=\"Reference\">Algoma \\xe2\\x80\\x93 Stirland Lake</SimpleData>\\n\\t\\t<SimpleData name=\"Notes\">accessible only by float plane. [Algoma \\xe2\\x80\\x93 Stirland Lake] \\xe2\\x80\\x9c the remote location of Stirland Lake in Northwestern Ontario, approximately 170 miles north of Sioux Lookout Ontario.\\xe2\\x80\\x9d See also [Auger \\xe2\\x80\\x93 Poplar Hill], which says the Stirland Lake school</SimpleData>\\n\\t\\t<SimpleData name=\"Religious\">Mennonite</SimpleData>\\n\\t\\t<SimpleData name=\"Atlas_pg\">122</SimpleData>\\n\\t\\t<SimpleData name=\"map_name\">Stirland Lake IRS</SimpleData>\\n\\t\\t<SimpleData name=\"atlas_pg_s\">122</SimpleData>\\n\\t</SchemaData></ExtendedData>\\n      <Point><coordinates>-91.02562,52.34674</coordinates></Point>\\n  </Placemark>\\n  <Placemark>\\n\\t<name>Wawanosh Home (January 1, 1879 to August 5, 1892), Sault Ste. Marie, Ontario</name>\\n\\t<ExtendedData><SchemaData schemaUrl=\"#IRS_KIB\">\\n\\t\\t<SimpleData name=\"School_num\">103</SimpleData>\\n\\t\\t<SimpleData name=\"Province o\">Ontario</SimpleData>\\n\\t\\t<SimpleData name=\"From\">1879</SimpleData>\\n\\t\\t<SimpleData name=\"To\">1892</SimpleData>\\n\\t\\t<SimpleData name=\"Descriptio\">5km northwest of Shingwauk</SimpleData>\\n\\t\\t<SimpleData name=\"Longitude\">-84.332229999999996</SimpleData>\\n\\t\\t<SimpleData name=\"Latitude\">46.536090000000002</SimpleData>\\n\\t\\t<SimpleData name=\"Location p\">1.000000000000000</SimpleData>\\n\\t\\t<SimpleData name=\"Reference\">Anglican Church, Shingwauk; NCTR \\xe2\\x80\\x93 Wawanosh, ON, map</SimpleData>\\n\\t\\t<SimpleData name=\"Map Notes\">5km northwest of Shingwauk IRS, but precise location unknown</SimpleData>\\n\\t\\t<SimpleData name=\"Religious\">Anglican</SimpleData>\\n\\t\\t<SimpleData name=\"Atlas_pg\">123</SimpleData>\\n\\t\\t<SimpleData name=\"map_name\">Wawanosh Home</SimpleData>\\n\\t\\t<SimpleData name=\"atlas_pg_s\">123</SimpleData>\\n\\t</SchemaData></ExtendedData>\\n      <Point><coordinates>-84.33223,46.53609</coordinates></Point>\\n  </Placemark>\\n  <Placemark>\\n\\t<name>Amos (Saint-Marc-de-Figuery), Amos, Qu\\xc3\\xa9bec</name>\\n\\t<ExtendedData><SchemaData schemaUrl=\"#IRS_KIB\">\\n\\t\\t<SimpleData name=\"School_num\">104</SimpleData>\\n\\t\\t<SimpleData name=\"Province o\">Qu\\xc3\\xa9bec</SimpleData>\\n\\t\\t<SimpleData name=\"From\">1955</SimpleData>\\n\\t\\t<SimpleData name=\"To\">1973</SimpleData>\\n\\t\\t<SimpleData name=\"Descriptio\">in Saint-Marc-de-Figuery</SimpleData>\\n\\t\\t<SimpleData name=\"Longitude\">-78.046000000000006</SimpleData>\\n\\t\\t<SimpleData name=\"Latitude\">48.472999999999999</SimpleData>\\n\\t\\t<SimpleData name=\"Location p\">1.000000000000000</SimpleData>\\n\\t\\t<SimpleData name=\"Reference\">Bousquet, 2006; Bousquet, 2017</SimpleData>\\n\\t\\t<SimpleData name=\"Map Notes\">The school was located in or near Saint-Marc de Figuery</SimpleData>\\n\\t\\t<SimpleData name=\"Notes\">\\xe2\\x80\\x9c...the Amos Indian Residential School, located at Saint-Marc-de-Figuery in Abitibi.\\xe2\\x80\\x9d (p. 2)</SimpleData>\\n\\t\\t<SimpleData name=\"Religious\">Roman Catholic</SimpleData>\\n\\t\\t<SimpleData name=\"Atlas_pg\">124</SimpleData>\\n\\t\\t<SimpleData name=\"map_name\">Amos IRS</SimpleData>\\n\\t\\t<SimpleData name=\"atlas_pg_s\">124</SimpleData>\\n\\t</SchemaData></ExtendedData>\\n      <Point><coordinates>-78.046,48.473</coordinates></Point>\\n  </Placemark>\\n  <Placemark>\\n\\t<name>Pointe Bleue, Pointe Bleue, Qu\\xc3\\xa9bec</name>\\n\\t<ExtendedData><SchemaData schemaUrl=\"#IRS_KIB\">\\n\\t\\t<SimpleData name=\"School_num\">105</SimpleData>\\n\\t\\t<SimpleData name=\"Province o\">Qu\\xc3\\xa9bec</SimpleData>\\n\\t\\t<SimpleData name=\"From\">1960</SimpleData>\\n\\t\\t<SimpleData name=\"To\">1991</SimpleData>\\n\\t\\t<SimpleData name=\"Descriptio\">507, rue Uapileu, Mashteuiatsh, QC, present site of \\xc3\\x89cole Amishk</SimpleData>\\n\\t\\t<SimpleData name=\"Longitude\">-72.231719999999996</SimpleData>\\n\\t\\t<SimpleData name=\"Latitude\">48.577370000000002</SimpleData>\\n\\t\\t<SimpleData name=\"Location p\">0.000000000000000</SimpleData>\\n\\t\\t<SimpleData name=\"Reference\">NCTR \\xe2\\x80\\x93 Pointe-Bleue, QC, map and narrative; and Plan 50193 CLSR QC</SimpleData>\\n\\t\\t<SimpleData name=\"Notes\">Two points are shown. Used the one cited as \\xe2\\x80\\x9cRESEARCH POINT - National Commemorative Marker Project\\xe2\\x80\\x9d</SimpleData>\\n\\t\\t<SimpleData name=\"Religious\">Roman Catholic</SimpleData>\\n\\t\\t<SimpleData name=\"Atlas_pg\">125</SimpleData>\\n\\t\\t<SimpleData name=\"map_name\">Pointe Bleue IRS</SimpleData>\\n\\t\\t<SimpleData name=\"atlas_pg_s\">125</SimpleData>\\n\\t</SchemaData></ExtendedData>\\n      <Point><coordinates>-72.23172,48.57737</coordinates></Point>\\n  </Placemark>\\n  <Placemark>\\n\\t<name>La Tuque, La Tuque, Qu\\xc3\\xa9bec</name>\\n\\t<ExtendedData><SchemaData schemaUrl=\"#IRS_KIB\">\\n\\t\\t<SimpleData name=\"School_num\">106</SimpleData>\\n\\t\\t<SimpleData name=\"Province o\">Qu\\xc3\\xa9bec</SimpleData>\\n\\t\\t<SimpleData name=\"From\">1963</SimpleData>\\n\\t\\t<SimpleData name=\"To\">1978</SimpleData>\\n\\t\\t<SimpleData name=\"Descriptio\">352 Ave Brown</SimpleData>\\n\\t\\t<SimpleData name=\"Longitude\">-72.781678999999997</SimpleData>\\n\\t\\t<SimpleData name=\"Latitude\">47.446624000000000</SimpleData>\\n\\t\\t<SimpleData name=\"Location p\">0.000000000000000</SimpleData>\\n\\t\\t<SimpleData name=\"Reference\">Plan 4661 CLSR QC and Field Book FB1300 CLSR QC</SimpleData>\\n\\t\\t<SimpleData name=\"Notes\">Youth hostel now on former site of school</SimpleData>\\n\\t\\t<SimpleData name=\"Religious\">Anglican</SimpleData>\\n\\t\\t<SimpleData name=\"Atlas_pg\">126</SimpleData>\\n\\t\\t<SimpleData name=\"map_name\">La Tuque IRS</SimpleData>\\n\\t\\t<SimpleData name=\"atlas_pg_s\">126</SimpleData>\\n\\t</SchemaData></ExtendedData>\\n      <Point><coordinates>-72.781679,47.446624</coordinates></Point>\\n  </Placemark>\\n  <Placemark>\\n\\t<name>Fort George (St. Philip\\'s), Fort George, Qu\\xc3\\xa9bec</name>\\n\\t<ExtendedData><SchemaData schemaUrl=\"#IRS_KIB\">\\n\\t\\t<SimpleData name=\"School_num\">107</SimpleData>\\n\\t\\t<SimpleData name=\"Province o\">Qu\\xc3\\xa9bec</SimpleData>\\n\\t\\t<SimpleData name=\"From\">1933</SimpleData>\\n\\t\\t<SimpleData name=\"To\">1975</SimpleData>\\n\\t\\t<SimpleData name=\"Descriptio\">old Fort George</SimpleData>\\n\\t\\t<SimpleData name=\"Longitude\">-78.993108000000007</SimpleData>\\n\\t\\t<SimpleData name=\"Latitude\">53.831704999999999</SimpleData>\\n\\t\\t<SimpleData name=\"Location p\">1.000000000000000</SimpleData>\\n\\t\\t<SimpleData name=\"Reference\">Anglican Church, St. Philip\\'s School</SimpleData>\\n\\t\\t<SimpleData name=\"Map Notes\">Location undetermined within the community of old Fort George</SimpleData>\\n\\t\\t<SimpleData name=\"Notes\">No location given within the town of Fort George</SimpleData>\\n\\t\\t<SimpleData name=\"Religious\">Anglican</SimpleData>\\n\\t\\t<SimpleData name=\"Atlas_pg\">127</SimpleData>\\n\\t\\t<SimpleData name=\"map_name\">Fort George Anglican IRS</SimpleData>\\n\\t\\t<SimpleData name=\"atlas_pg_s\">127</SimpleData>\\n\\t</SchemaData></ExtendedData>\\n      <Point><coordinates>-78.993108,53.831705</coordinates></Point>\\n  </Placemark>\\n  <Placemark>\\n\\t<name>Fort George (St. Joseph\\'s Mission, R\\xc3\\xa9sidence Couture, Sainte-Th\\xc3\\xa9r\\xc3\\xa8se-de-l\\'Enfant-J\\xc3\\xa9sus), Fort George, Qu\\xc3\\xa9bec</name>\\n\\t<ExtendedData><SchemaData schemaUrl=\"#IRS_KIB\">\\n\\t\\t<SimpleData name=\"School_num\">108</SimpleData>\\n\\t\\t<SimpleData name=\"Province o\">Qu\\xc3\\xa9bec</SimpleData>\\n\\t\\t<SimpleData name=\"From\">1937</SimpleData>\\n\\t\\t<SimpleData name=\"To\">1981</SimpleData>\\n\\t\\t<SimpleData name=\"Descriptio\">old Fort George</SimpleData>\\n\\t\\t<SimpleData name=\"Longitude\">-78.993108000000007</SimpleData>\\n\\t\\t<SimpleData name=\"Latitude\">53.831704999999999</SimpleData>\\n\\t\\t<SimpleData name=\"Location p\">1.000000000000000</SimpleData>\\n\\t\\t<SimpleData name=\"Reference\">St. Philip\\'s School, Anglican Church, 2017</SimpleData>\\n\\t\\t<SimpleData name=\"Map Notes\">Location undetermined within the community of old Fort George</SimpleData>\\n\\t\\t<SimpleData name=\"Notes\">No location given within the town of Fort George</SimpleData>\\n\\t\\t<SimpleData name=\"Religious\">Roman Catholic</SimpleData>\\n\\t\\t<SimpleData name=\"Atlas_pg\">128</SimpleData>\\n\\t\\t<SimpleData name=\"map_name\">Fort George Roman Catholic IRS</SimpleData>\\n\\t\\t<SimpleData name=\"atlas_pg_s\">128</SimpleData>\\n\\t</SchemaData></ExtendedData>\\n      <Point><coordinates>-78.993108,53.831705</coordinates></Point>\\n  </Placemark>\\n  <Placemark>\\n\\t<name>Sept-\\xc3\\x8eles (Notre-Dame, Maliotenam), Sept-\\xc3\\x8eles, Qu\\xc3\\xa9bec</name>\\n\\t<ExtendedData><SchemaData schemaUrl=\"#IRS_KIB\">\\n\\t\\t<SimpleData name=\"School_num\">109</SimpleData>\\n\\t\\t<SimpleData name=\"Province o\">Qu\\xc3\\xa9bec</SimpleData>\\n\\t\\t<SimpleData name=\"From\">1952</SimpleData>\\n\\t\\t<SimpleData name=\"To\">1967</SimpleData>\\n\\t\\t<SimpleData name=\"Descriptio\">within the community of Maliotenam</SimpleData>\\n\\t\\t<SimpleData name=\"Longitude\">-66.204550999999995</SimpleData>\\n\\t\\t<SimpleData name=\"Latitude\">50.214494000000002</SimpleData>\\n\\t\\t<SimpleData name=\"Location p\">0.000000000000000</SimpleData>\\n\\t\\t<SimpleData name=\"Reference\">Plan 3361 CLSR QC and Field Book  979 QC</SimpleData>\\n\\t\\t<SimpleData name=\"Notes\">Survey plan indicates lands being set aside for new school in lot G</SimpleData>\\n\\t\\t<SimpleData name=\"Religious\">Roman Catholic</SimpleData>\\n\\t\\t<SimpleData name=\"Atlas_pg\">129</SimpleData>\\n\\t\\t<SimpleData name=\"map_name\">Sept-\\xc3\\x8eles IRS</SimpleData>\\n\\t\\t<SimpleData name=\"atlas_pg_s\">129</SimpleData>\\n\\t</SchemaData></ExtendedData>\\n      <Point><coordinates>-66.204551,50.214494</coordinates></Point>\\n  </Placemark>\\n  <Placemark>\\n\\t<name>Federal Hostel at George River, Kangirsualujjuaq, Qu\\xc3\\xa9bec</name>\\n\\t<ExtendedData><SchemaData schemaUrl=\"#IRS_KIB\">\\n\\t\\t<SimpleData name=\"School_num\">110</SimpleData>\\n\\t\\t<SimpleData name=\"Province o\">Qu\\xc3\\xa9bec</SimpleData>\\n\\t\\t<SimpleData name=\"From\">1960</SimpleData>\\n\\t\\t<SimpleData name=\"To\">1960</SimpleData>\\n\\t\\t<SimpleData name=\"Descriptio\">within the community of Kangiqsualujjuaq</SimpleData>\\n\\t\\t<SimpleData name=\"Longitude\">-65.957470000000001</SimpleData>\\n\\t\\t<SimpleData name=\"Latitude\">58.697111999999997</SimpleData>\\n\\t\\t<SimpleData name=\"Location p\">0.500000000000000</SimpleData>\\n\\t\\t<SimpleData name=\"Reference\">NCTR \\xe2\\x80\\x93 Federal Hostel George River, QC, narrative</SimpleData>\\n\\t\\t<SimpleData name=\"Map Notes\">This was a tent hostel, on a ridge adjacent to the George River Community Hall</SimpleData>\\n\\t\\t<SimpleData name=\"Notes\">Unable to locate this tent hostel, I have chosen the current school in the small community of Kangirsualujjuaq and given it a 0.5 km radius.</SimpleData>\\n\\t\\t<SimpleData name=\"Religious\">Non-denominational</SimpleData>\\n\\t\\t<SimpleData name=\"Atlas_pg\">130</SimpleData>\\n\\t\\t<SimpleData name=\"map_name\">Federal Hostels at George River</SimpleData>\\n\\t\\t<SimpleData name=\"atlas_pg_s\">130</SimpleData>\\n\\t</SchemaData></ExtendedData>\\n      <Point><coordinates>-65.95747,58.697112</coordinates></Point>\\n  </Placemark>\\n  <Placemark>\\n\\t<name>Federal Hostel at Great Whale River (Poste-de-la-Baleine), Kuujjuaraapik / Whapmagoostui, Qu\\xc3\\xa9bec</name>\\n\\t<ExtendedData><SchemaData schemaUrl=\"#IRS_KIB\">\\n\\t\\t<SimpleData name=\"School_num\">111</SimpleData>\\n\\t\\t<SimpleData name=\"Province o\">Qu\\xc3\\xa9bec</SimpleData>\\n\\t\\t<SimpleData name=\"From\">1962</SimpleData>\\n\\t\\t<SimpleData name=\"To\">1970</SimpleData>\\n\\t\\t<SimpleData name=\"Descriptio\">within the community of Kuujjuaraapik</SimpleData>\\n\\t\\t<SimpleData name=\"Longitude\">-77.756670000000000</SimpleData>\\n\\t\\t<SimpleData name=\"Latitude\">55.278770000000002</SimpleData>\\n\\t\\t<SimpleData name=\"Location p\">0.500000000000000</SimpleData>\\n\\t\\t<SimpleData name=\"Reference\">NCTR \\xe2\\x80\\x93 Great Whale River, QC, narrative</SimpleData>\\n\\t\\t<SimpleData name=\"Map Notes\">There were 3 hostels (Dept. of Northern Affairs buildings 18, 19 and 20), somewhere adjacent to the air force base</SimpleData>\\n\\t\\t<SimpleData name=\"Religious\">Non-denominational</SimpleData>\\n\\t\\t<SimpleData name=\"Atlas_pg\">131</SimpleData>\\n\\t\\t<SimpleData name=\"map_name\">Great Whale River Hostels</SimpleData>\\n\\t\\t<SimpleData name=\"atlas_pg_s\">131</SimpleData>\\n\\t</SchemaData></ExtendedData>\\n      <Point><coordinates>-77.75667,55.27877</coordinates></Point>\\n  </Placemark>\\n  <Placemark>\\n\\t<name>Federal Hostel at Payne Bay (Bellin), Kangirsuk, Qu\\xc3\\xa9bec</name>\\n\\t<ExtendedData><SchemaData schemaUrl=\"#IRS_KIB\">\\n\\t\\t<SimpleData name=\"School_num\">112</SimpleData>\\n\\t\\t<SimpleData name=\"Province o\">Qu\\xc3\\xa9bec</SimpleData>\\n\\t\\t<SimpleData name=\"From\">1960</SimpleData>\\n\\t\\t<SimpleData name=\"To\">1962</SimpleData>\\n\\t\\t<SimpleData name=\"Descriptio\">within the community of Kangirsuk</SimpleData>\\n\\t\\t<SimpleData name=\"Longitude\">-70.018208999999999</SimpleData>\\n\\t\\t<SimpleData name=\"Latitude\">60.020209999999999</SimpleData>\\n\\t\\t<SimpleData name=\"Location p\">1.000000000000000</SimpleData>\\n\\t\\t<SimpleData name=\"Reference\">TRC list of residential schools</SimpleData>\\n\\t\\t<SimpleData name=\"Map Notes\">There were 2 hostels, location undetermined.</SimpleData>\\n\\t\\t<SimpleData name=\"Religious\">Non-denominational</SimpleData>\\n\\t\\t<SimpleData name=\"Atlas_pg\">132</SimpleData>\\n\\t\\t<SimpleData name=\"map_name\">Federal Hostels at Payne Bay</SimpleData>\\n\\t\\t<SimpleData name=\"atlas_pg_s\">132</SimpleData>\\n\\t</SchemaData></ExtendedData>\\n      <Point><coordinates>-70.018209,60.02021</coordinates></Point>\\n  </Placemark>\\n  <Placemark>\\n\\t<name>Federal Hostel at Port Harrison (Inoucdjouac, Innoucdouac), Inukjuak, Qu\\xc3\\xa9bec</name>\\n\\t<ExtendedData><SchemaData schemaUrl=\"#IRS_KIB\">\\n\\t\\t<SimpleData name=\"School_num\">113</SimpleData>\\n\\t\\t<SimpleData name=\"Province o\">Qu\\xc3\\xa9bec</SimpleData>\\n\\t\\t<SimpleData name=\"From\">1960</SimpleData>\\n\\t\\t<SimpleData name=\"To\">1971</SimpleData>\\n\\t\\t<SimpleData name=\"Descriptio\">Federal Day School was probably at the present location of the Kativik School Board\\'s Nunavimmi Pigiursavik Centre</SimpleData>\\n\\t\\t<SimpleData name=\"Longitude\">-78.104960000000005</SimpleData>\\n\\t\\t<SimpleData name=\"Latitude\">58.453470000000003</SimpleData>\\n\\t\\t<SimpleData name=\"Location p\">0.500000000000000</SimpleData>\\n\\t\\t<SimpleData name=\"Reference\">NCTR \\xe2\\x80\\x93 Port Harrison, QC, map; and Kativik, Inukjuak</SimpleData>\\n\\t\\t<SimpleData name=\"Map Notes\">There were three hostels, likely quite close to the Federal Day School.</SimpleData>\\n\\t\\t<SimpleData name=\"Religious\">Non-denominational</SimpleData>\\n\\t\\t<SimpleData name=\"Atlas_pg\">133</SimpleData>\\n\\t\\t<SimpleData name=\"map_name\">Port Harrison Federal Day School and Hostels</SimpleData>\\n\\t\\t<SimpleData name=\"atlas_pg_s\">133</SimpleData>\\n\\t</SchemaData></ExtendedData>\\n      <Point><coordinates>-78.10496,58.45347</coordinates></Point>\\n  </Placemark>\\n  <Placemark>\\n\\t<name>Fort George Hostels (September 1, 1975 to June 30, 1978), Fort George, Qu\\xc3\\xa9bec</name>\\n\\t<ExtendedData><SchemaData schemaUrl=\"#IRS_KIB\">\\n\\t\\t<SimpleData name=\"School_num\">114</SimpleData>\\n\\t\\t<SimpleData name=\"Province o\">Qu\\xc3\\xa9bec</SimpleData>\\n\\t\\t<SimpleData name=\"From\">1975</SimpleData>\\n\\t\\t<SimpleData name=\"To\">1978</SimpleData>\\n\\t\\t<SimpleData name=\"Descriptio\">old Fort George</SimpleData>\\n\\t\\t<SimpleData name=\"Longitude\">-78.993108000000007</SimpleData>\\n\\t\\t<SimpleData name=\"Latitude\">53.831704999999999</SimpleData>\\n\\t\\t<SimpleData name=\"Location p\">1.000000000000000</SimpleData>\\n\\t\\t<SimpleData name=\"Reference\">TRC list of residential schools</SimpleData>\\n\\t\\t<SimpleData name=\"Map Notes\">how many hostels?</SimpleData>\\n\\t\\t<SimpleData name=\"Notes\">No location given within the town of Fort George</SimpleData>\\n\\t\\t<SimpleData name=\"Religious\">Non-denominational</SimpleData>\\n\\t\\t<SimpleData name=\"Atlas_pg\">134</SimpleData>\\n\\t\\t<SimpleData name=\"map_name\">Fort George Hostels</SimpleData>\\n\\t\\t<SimpleData name=\"atlas_pg_s\">134</SimpleData>\\n\\t</SchemaData></ExtendedData>\\n      <Point><coordinates>-78.993108,53.831705</coordinates></Point>\\n  </Placemark>\\n  <Placemark>\\n\\t<name>Mistassini Hostels (September 1, 1971 to June 30, 1978)</name>\\n\\t<ExtendedData><SchemaData schemaUrl=\"#IRS_KIB\">\\n\\t\\t<SimpleData name=\"School_num\">115</SimpleData>\\n\\t\\t<SimpleData name=\"Province o\">Qu\\xc3\\xa9bec</SimpleData>\\n\\t\\t<SimpleData name=\"From\">1971</SimpleData>\\n\\t\\t<SimpleData name=\"To\">1978</SimpleData>\\n\\t\\t<SimpleData name=\"Descriptio\">within the community of Mistassini</SimpleData>\\n\\t\\t<SimpleData name=\"Longitude\">-73.869870000000006</SimpleData>\\n\\t\\t<SimpleData name=\"Latitude\">50.418309999999998</SimpleData>\\n\\t\\t<SimpleData name=\"Location p\">1.000000000000000</SimpleData>\\n\\t\\t<SimpleData name=\"Reference\">Independent Assessment Process, 23-Apr-2013</SimpleData>\\n\\t\\t<SimpleData name=\"Map Notes\">There were three cottage-style hostels in Mistassini</SimpleData>\\n\\t\\t<SimpleData name=\"Notes\">There were three cottage-style hostels in Mistassini</SimpleData>\\n\\t\\t<SimpleData name=\"Religious\">Non-denominational</SimpleData>\\n\\t\\t<SimpleData name=\"Atlas_pg\">135</SimpleData>\\n\\t\\t<SimpleData name=\"map_name\">Mistassini Hostels</SimpleData>\\n\\t\\t<SimpleData name=\"atlas_pg_s\">135</SimpleData>\\n\\t</SchemaData></ExtendedData>\\n      <Point><coordinates>-73.86987,50.41831</coordinates></Point>\\n  </Placemark>\\n  <Placemark>\\n\\t<name>Beauval (Lac la Plonge), Beauval, Saskatchewan</name>\\n\\t<ExtendedData><SchemaData schemaUrl=\"#IRS_KIB\">\\n\\t\\t<SimpleData name=\"School_num\">116</SimpleData>\\n\\t\\t<SimpleData name=\"Province o\">Saskatchewan</SimpleData>\\n\\t\\t<SimpleData name=\"From\">1895</SimpleData>\\n\\t\\t<SimpleData name=\"To\">1983</SimpleData>\\n\\t\\t<SimpleData name=\"Descriptio\">On the northeast side of the confluence of the La Plonge River with the Beaver River.</SimpleData>\\n\\t\\t<SimpleData name=\"Longitude\">-107.584721999999999</SimpleData>\\n\\t\\t<SimpleData name=\"Latitude\">55.155278000000003</SimpleData>\\n\\t\\t<SimpleData name=\"Location p\">0.000000000000000</SimpleData>\\n\\t\\t<SimpleData name=\"Reference\">Wikipedia \\xe2\\x80\\x93 Beauval Indian Residential School</SimpleData>\\n\\t\\t<SimpleData name=\"Religious\">Roman Catholic</SimpleData>\\n\\t\\t<SimpleData name=\"Atlas_pg\">136</SimpleData>\\n\\t\\t<SimpleData name=\"map_name\">Beauval IRS</SimpleData>\\n\\t\\t<SimpleData name=\"atlas_pg_s\">136</SimpleData>\\n\\t</SchemaData></ExtendedData>\\n      <Point><coordinates>-107.584722,55.155278</coordinates></Point>\\n  </Placemark>\\n  <Placemark>\\n\\t<name>Crowstand, Kamsack, Saskatchewan</name>\\n\\t<ExtendedData><SchemaData schemaUrl=\"#IRS_KIB\">\\n\\t\\t<SimpleData name=\"School_num\">117</SimpleData>\\n\\t\\t<SimpleData name=\"Province o\">Saskatchewan</SimpleData>\\n\\t\\t<SimpleData name=\"From\">1888</SimpleData>\\n\\t\\t<SimpleData name=\"To\">1915</SimpleData>\\n\\t\\t<SimpleData name=\"Descriptio\">5.3km southeast of Kamsack</SimpleData>\\n\\t\\t<SimpleData name=\"Longitude\">-101.848145000000002</SimpleData>\\n\\t\\t<SimpleData name=\"Latitude\">51.528303000000001</SimpleData>\\n\\t\\t<SimpleData name=\"Location p\">0.000000000000000</SimpleData>\\n\\t\\t<SimpleData name=\"Reference\">Plan 187 CLSR SK</SimpleData>\\n\\t\\t<SimpleData name=\"Religious\">Presbyterian</SimpleData>\\n\\t\\t<SimpleData name=\"Atlas_pg\">137</SimpleData>\\n\\t\\t<SimpleData name=\"map_name\">Crowstand IRS</SimpleData>\\n\\t\\t<SimpleData name=\"atlas_pg_s\">137</SimpleData>\\n\\t</SchemaData></ExtendedData>\\n      <Point><coordinates>-101.848145,51.528303</coordinates></Point>\\n  </Placemark>\\n  <Placemark>\\n\\t<name>File Hills, Balcarres, Saskatchewan</name>\\n\\t<ExtendedData><SchemaData schemaUrl=\"#IRS_KIB\">\\n\\t\\t<SimpleData name=\"School_num\">118</SimpleData>\\n\\t\\t<SimpleData name=\"Province o\">Saskatchewan</SimpleData>\\n\\t\\t<SimpleData name=\"From\">1889</SimpleData>\\n\\t\\t<SimpleData name=\"To\">1949</SimpleData>\\n\\t\\t<SimpleData name=\"Descriptio\">500m southwest of the Okanese Band Office</SimpleData>\\n\\t\\t<SimpleData name=\"Longitude\">-103.492868999999999</SimpleData>\\n\\t\\t<SimpleData name=\"Latitude\">50.939188999999999</SimpleData>\\n\\t\\t<SimpleData name=\"Location p\">0.000000000000000</SimpleData>\\n\\t\\t<SimpleData name=\"Reference\">Plan T2604 CLSR SK</SimpleData>\\n\\t\\t<SimpleData name=\"Notes\">The school lands 101 acres were added to the Okanese I. R. 82 in 1969 by</SimpleData>\\n\\t\\t<SimpleData name=\"Religious\">Presbyterian</SimpleData>\\n\\t\\t<SimpleData name=\"Atlas_pg\">138</SimpleData>\\n\\t\\t<SimpleData name=\"map_name\">File Hills IRS</SimpleData>\\n\\t\\t<SimpleData name=\"atlas_pg_s\">138</SimpleData>\\n\\t</SchemaData></ExtendedData>\\n      <Point><coordinates>-103.492869,50.939189</coordinates></Point>\\n  </Placemark>\\n  <Placemark>\\n\\t<name>Fort Pelly, Fort Pelly, Saskatchewan</name>\\n\\t<ExtendedData><SchemaData schemaUrl=\"#IRS_KIB\">\\n\\t\\t<SimpleData name=\"School_num\">119</SimpleData>\\n\\t\\t<SimpleData name=\"Province o\">Saskatchewan</SimpleData>\\n\\t\\t<SimpleData name=\"From\">1905</SimpleData>\\n\\t\\t<SimpleData name=\"To\">1915</SimpleData>\\n\\t\\t<SimpleData name=\"Descriptio\">one half mile east of St. Philips, SK</SimpleData>\\n\\t\\t<SimpleData name=\"Longitude\">-101.906070999999997</SimpleData>\\n\\t\\t<SimpleData name=\"Latitude\">51.714334999999998</SimpleData>\\n\\t\\t<SimpleData name=\"Location p\">0.000000000000000</SimpleData>\\n\\t\\t<SimpleData name=\"Reference\">NCTR \\xe2\\x80\\x93 Fort Pelly, SK, map</SimpleData>\\n\\t\\t<SimpleData name=\"Notes\">The school operated from 1881;  Government of Canada was responsible for the operation from 1905. Location used is the same as the later St. Philip\\'s IRS.</SimpleData>\\n\\t\\t<SimpleData name=\"Religious\">Roman Catholic</SimpleData>\\n\\t\\t<SimpleData name=\"Atlas_pg\">139</SimpleData>\\n\\t\\t<SimpleData name=\"map_name\">Fort Pelly IRS</SimpleData>\\n\\t\\t<SimpleData name=\"atlas_pg_s\">139</SimpleData>\\n\\t</SchemaData></ExtendedData>\\n      <Point><coordinates>-101.906071,51.714335</coordinates></Point>\\n  </Placemark>\\n  <Placemark>\\n\\t<name>Gordon\\'s, Gordon\\'s Reserve, Punnichy, Saskatchewan</name>\\n\\t<ExtendedData><SchemaData schemaUrl=\"#IRS_KIB\">\\n\\t\\t<SimpleData name=\"School_num\">120</SimpleData>\\n\\t\\t<SimpleData name=\"Province o\">Saskatchewan</SimpleData>\\n\\t\\t<SimpleData name=\"From\">1888</SimpleData>\\n\\t\\t<SimpleData name=\"To\">1996</SimpleData>\\n\\t\\t<SimpleData name=\"Descriptio\">1100m southwest of the George Gordon First Nation Offices</SimpleData>\\n\\t\\t<SimpleData name=\"Longitude\">-104.306601999999998</SimpleData>\\n\\t\\t<SimpleData name=\"Latitude\">51.280597000000000</SimpleData>\\n\\t\\t<SimpleData name=\"Location p\">0.000000000000000</SimpleData>\\n\\t\\t<SimpleData name=\"Reference\">Plan 2547 CLSR SK</SimpleData>\\n\\t\\t<SimpleData name=\"Religious\">Anglican</SimpleData>\\n\\t\\t<SimpleData name=\"Atlas_pg\">140</SimpleData>\\n\\t\\t<SimpleData name=\"map_name\">Gordon\\'s IRS</SimpleData>\\n\\t\\t<SimpleData name=\"atlas_pg_s\">140</SimpleData>\\n\\t</SchemaData></ExtendedData>\\n      <Point><coordinates>-104.306602,51.280597</coordinates></Point>\\n  </Placemark>\\n  <Placemark>\\n\\t<name>Lebret (Qu\\'Appelle, Whitecalf, St. Paul\\'s High School), Lebret, Saskatchewan</name>\\n\\t<ExtendedData><SchemaData schemaUrl=\"#IRS_KIB\">\\n\\t\\t<SimpleData name=\"School_num\">121</SimpleData>\\n\\t\\t<SimpleData name=\"Province o\">Saskatchewan</SimpleData>\\n\\t\\t<SimpleData name=\"From\">1884</SimpleData>\\n\\t\\t<SimpleData name=\"To\">1969</SimpleData>\\n\\t\\t<SimpleData name=\"Descriptio\">on what is now the Wa-Pii Moos-toosis (White Calf) Indian Reserve of the Star Blanket Cree Nation adjoining the village of Lebret, Saskatchewan</SimpleData>\\n\\t\\t<SimpleData name=\"Longitude\">-103.711183000000005</SimpleData>\\n\\t\\t<SimpleData name=\"Latitude\">50.759138999999998</SimpleData>\\n\\t\\t<SimpleData name=\"Location p\">0.000000000000000</SimpleData>\\n\\t\\t<SimpleData name=\"Reference\">Plan 877 CLSR SK</SimpleData>\\n\\t\\t<SimpleData name=\"Notes\">Re-opened 1973-1998 as White Calf College</SimpleData>\\n\\t\\t<SimpleData name=\"Religious\">Roman Catholic</SimpleData>\\n\\t\\t<SimpleData name=\"Atlas_pg\">141</SimpleData>\\n\\t\\t<SimpleData name=\"map_name\">Lebret IRS</SimpleData>\\n\\t\\t<SimpleData name=\"atlas_pg_s\">141</SimpleData>\\n\\t</SchemaData></ExtendedData>\\n      <Point><coordinates>-103.711183,50.759139</coordinates></Point>\\n  </Placemark>\\n  <Placemark>\\n\\t<name>Marieval (Cowesess, Crooked Lake), Grayson, Saskatchewan</name>\\n\\t<ExtendedData><SchemaData schemaUrl=\"#IRS_KIB\">\\n\\t\\t<SimpleData name=\"School_num\">122</SimpleData>\\n\\t\\t<SimpleData name=\"Province o\">Saskatchewan</SimpleData>\\n\\t\\t<SimpleData name=\"From\">1936</SimpleData>\\n\\t\\t<SimpleData name=\"To\">1975</SimpleData>\\n\\t\\t<SimpleData name=\"Descriptio\">site of Cowessess Community Education Centre near Marieval, SK</SimpleData>\\n\\t\\t<SimpleData name=\"Longitude\">-102.657689000000005</SimpleData>\\n\\t\\t<SimpleData name=\"Latitude\">50.580613000000000</SimpleData>\\n\\t\\t<SimpleData name=\"Location p\">0.000000000000000</SimpleData>\\n\\t\\t<SimpleData name=\"Reference\">Plan T999 CLSR SK</SimpleData>\\n\\t\\t<SimpleData name=\"Religious\">Roman Catholic</SimpleData>\\n\\t\\t<SimpleData name=\"Atlas_pg\">142</SimpleData>\\n\\t\\t<SimpleData name=\"map_name\">Marieval (Cowessess) IRS</SimpleData>\\n\\t\\t<SimpleData name=\"atlas_pg_s\">142</SimpleData>\\n\\t</SchemaData></ExtendedData>\\n      <Point><coordinates>-102.657689,50.580613</coordinates></Point>\\n  </Placemark>\\n  <Placemark>\\n\\t<name>Muscowequan (Lestock, Touchwood), Lestock, Saskatchewan</name>\\n\\t<ExtendedData><SchemaData schemaUrl=\"#IRS_KIB\">\\n\\t\\t<SimpleData name=\"School_num\">123</SimpleData>\\n\\t\\t<SimpleData name=\"Province o\">Saskatchewan</SimpleData>\\n\\t\\t<SimpleData name=\"From\">1932</SimpleData>\\n\\t\\t<SimpleData name=\"To\">1981</SimpleData>\\n\\t\\t<SimpleData name=\"Descriptio\">NW \\xc2\\xbc SEC 14, Township 27, Range 15</SimpleData>\\n\\t\\t<SimpleData name=\"Longitude\">-104.029206000000002</SimpleData>\\n\\t\\t<SimpleData name=\"Latitude\">51.341349999999998</SimpleData>\\n\\t\\t<SimpleData name=\"Location p\">0.000000000000000</SimpleData>\\n\\t\\t<SimpleData name=\"Reference\">Plan 65 RSS SK</SimpleData>\\n\\t\\t<SimpleData name=\"Religious\">Roman Catholic</SimpleData>\\n\\t\\t<SimpleData name=\"Atlas_pg\">143</SimpleData>\\n\\t\\t<SimpleData name=\"map_name\">Muscowequan IRS</SimpleData>\\n\\t\\t<SimpleData name=\"atlas_pg_s\">143</SimpleData>\\n\\t</SchemaData></ExtendedData>\\n      <Point><coordinates>-104.029206,51.34135</coordinates></Point>\\n  </Placemark>\\n  <Placemark>\\n\\t<name>Prince Albert (Onion Lake Church of England, St. Alban\\'s, All Saints, St. Barnabas, Lac La Ronge), Prince Albert, Saskatchewan</name>\\n\\t<ExtendedData><SchemaData schemaUrl=\"#IRS_KIB\">\\n\\t\\t<SimpleData name=\"School_num\">124</SimpleData>\\n\\t\\t<SimpleData name=\"Province o\">Saskatchewan</SimpleData>\\n\\t\\t<SimpleData name=\"From\">1944</SimpleData>\\n\\t\\t<SimpleData name=\"To\">1969</SimpleData>\\n\\t\\t<SimpleData name=\"Descriptio\">Former army barracks just east of Victoria Hospital in Prince Albert</SimpleData>\\n\\t\\t<SimpleData name=\"Longitude\">-105.778333000000003</SimpleData>\\n\\t\\t<SimpleData name=\"Latitude\">53.192500000000003</SimpleData>\\n\\t\\t<SimpleData name=\"Location p\">0.000000000000000</SimpleData>\\n\\t\\t<SimpleData name=\"Reference\">Wikipedia \\xe2\\x80\\x93 PAIRS</SimpleData>\\n\\t\\t<SimpleData name=\"Notes\">Formed by combining All Saints and St. Albans</SimpleData>\\n\\t\\t<SimpleData name=\"Religious\">Anglican</SimpleData>\\n\\t\\t<SimpleData name=\"Atlas_pg\">144</SimpleData>\\n\\t\\t<SimpleData name=\"map_name\">Prince Albert IRS</SimpleData>\\n\\t\\t<SimpleData name=\"atlas_pg_s\">144</SimpleData>\\n\\t</SchemaData></ExtendedData>\\n      <Point><coordinates>-105.778333,53.1925</coordinates></Point>\\n  </Placemark>\\n  <Placemark>\\n\\t<name>Prince Albert (Onion Lake Church of England, St. Alban\\'s, All Saints, St. Barnabas, Lac La Ronge), Prince Albert, Saskatchewan</name>\\n\\t<ExtendedData><SchemaData schemaUrl=\"#IRS_KIB\">\\n\\t\\t<SimpleData name=\"School_num\">124</SimpleData>\\n\\t\\t<SimpleData name=\"Province o\">Saskatchewan</SimpleData>\\n\\t\\t<SimpleData name=\"From\">1906</SimpleData>\\n\\t\\t<SimpleData name=\"To\">1947</SimpleData>\\n\\t\\t<SimpleData name=\"Descriptio\">near the La Ronge health centre</SimpleData>\\n\\t\\t<SimpleData name=\"Longitude\">-105.286687000000001</SimpleData>\\n\\t\\t<SimpleData name=\"Latitude\">55.102176000000000</SimpleData>\\n\\t\\t<SimpleData name=\"Location p\">0.000000000000000</SimpleData>\\n\\t\\t<SimpleData name=\"Reference\">Plans T1025 CLSR SK and 2050 CLSR SK</SimpleData>\\n\\t\\t<SimpleData name=\"Religious\">Anglican</SimpleData>\\n\\t\\t<SimpleData name=\"Atlas_pg\">145</SimpleData>\\n\\t\\t<SimpleData name=\"map_name\">All Saints, Lac La Ronge</SimpleData>\\n\\t\\t<SimpleData name=\"atlas_pg_s\">145</SimpleData>\\n\\t</SchemaData></ExtendedData>\\n      <Point><coordinates>-105.286687,55.102176</coordinates></Point>\\n  </Placemark>\\n  <Placemark>\\n\\t<name>Prince Albert (Onion Lake Church of England, St. Alban\\'s, All Saints, St. Barnabas, Lac La Ronge), Prince Albert, Saskatchewan</name>\\n\\t<ExtendedData><SchemaData schemaUrl=\"#IRS_KIB\">\\n\\t\\t<SimpleData name=\"School_num\">124</SimpleData>\\n\\t\\t<SimpleData name=\"Province o\">Saskatchewan</SimpleData>\\n\\t\\t<SimpleData name=\"From\">1893</SimpleData>\\n\\t\\t<SimpleData name=\"To\">1926</SimpleData>\\n\\t\\t<SimpleData name=\"Descriptio\">1.6 km west of Onion Lake</SimpleData>\\n\\t\\t<SimpleData name=\"Longitude\">-109.975319999999996</SimpleData>\\n\\t\\t<SimpleData name=\"Latitude\">53.712780000000002</SimpleData>\\n\\t\\t<SimpleData name=\"Location p\">0.000000000000000</SimpleData>\\n\\t\\t<SimpleData name=\"Reference\">Plan T1477 CLSR SK</SimpleData>\\n\\t\\t<SimpleData name=\"Religious\">Anglican</SimpleData>\\n\\t\\t<SimpleData name=\"Atlas_pg\">146</SimpleData>\\n\\t\\t<SimpleData name=\"map_name\">Onion Lake Anglican IRS</SimpleData>\\n\\t\\t<SimpleData name=\"atlas_pg_s\">146</SimpleData>\\n\\t</SchemaData></ExtendedData>\\n      <Point><coordinates>-109.97532,53.71278</coordinates></Point>\\n  </Placemark>\\n  <Placemark>\\n\\t<name>Prince Albert (Onion Lake Church of England, St. Alban\\'s, All Saints, St. Barnabas, Lac La Ronge), Prince Albert, Saskatchewan</name>\\n\\t<ExtendedData><SchemaData schemaUrl=\"#IRS_KIB\">\\n\\t\\t<SimpleData name=\"School_num\">124</SimpleData>\\n\\t\\t<SimpleData name=\"Province o\">Saskatchewan</SimpleData>\\n\\t\\t<SimpleData name=\"From\">1926</SimpleData>\\n\\t\\t<SimpleData name=\"To\">1943</SimpleData>\\n\\t\\t<SimpleData name=\"Descriptio\">In Section 11, Township 54, Range 27, 1.75 km north of Hwy 797, just off the east end of the lake</SimpleData>\\n\\t\\t<SimpleData name=\"Longitude\">-109.883058000000005</SimpleData>\\n\\t\\t<SimpleData name=\"Latitude\">53.651049000000000</SimpleData>\\n\\t\\t<SimpleData name=\"Location p\">0.000000000000000</SimpleData>\\n\\t\\t<SimpleData name=\"Reference\">NCTR \\xe2\\x80\\x93 Prince Albert, SK,  map</SimpleData>\\n\\t\\t<SimpleData name=\"Religious\">Anglican</SimpleData>\\n\\t\\t<SimpleData name=\"Atlas_pg\">147</SimpleData>\\n\\t\\t<SimpleData name=\"map_name\">Onion Lake Anglican IRS</SimpleData>\\n\\t\\t<SimpleData name=\"atlas_pg_s\">147</SimpleData>\\n\\t</SchemaData></ExtendedData>\\n      <Point><coordinates>-109.883058,53.651049</coordinates></Point>\\n  </Placemark>\\n  <Placemark>\\n\\t<name>Prince Albert (Onion Lake Church of England, St. Alban\\'s, All Saints, St. Barnabas, Lac La Ronge), Prince Albert, Saskatchewan</name>\\n\\t<ExtendedData><SchemaData schemaUrl=\"#IRS_KIB\">\\n\\t\\t<SimpleData name=\"School_num\">124</SimpleData>\\n\\t\\t<SimpleData name=\"Province o\">Saskatchewan</SimpleData>\\n\\t\\t<SimpleData name=\"From\">1948</SimpleData>\\n\\t\\t<SimpleData name=\"To\">1951</SimpleData>\\n\\t\\t<SimpleData name=\"Descriptio\">22nd St. between 1st Ave. W and Central Ave.</SimpleData>\\n\\t\\t<SimpleData name=\"Longitude\">-105.755461999999994</SimpleData>\\n\\t\\t<SimpleData name=\"Latitude\">53.193176000000001</SimpleData>\\n\\t\\t<SimpleData name=\"Location p\">0.000000000000000</SimpleData>\\n\\t\\t<SimpleData name=\"Reference\">NCTR \\xe2\\x80\\x93 Prince Albert map and narrative</SimpleData>\\n\\t\\t<SimpleData name=\"Religious\">Anglican</SimpleData>\\n\\t\\t<SimpleData name=\"Atlas_pg\">148</SimpleData>\\n\\t\\t<SimpleData name=\"map_name\">Saint Alban\\'s IRS</SimpleData>\\n\\t\\t<SimpleData name=\"atlas_pg_s\">148</SimpleData>\\n\\t</SchemaData></ExtendedData>\\n      <Point><coordinates>-105.755462,53.193176</coordinates></Point>\\n  </Placemark>\\n  <Placemark>\\n\\t<name>Regina, Regina, Saskatchewan</name>\\n\\t<ExtendedData><SchemaData schemaUrl=\"#IRS_KIB\">\\n\\t\\t<SimpleData name=\"School_num\">125</SimpleData>\\n\\t\\t<SimpleData name=\"Province o\">Saskatchewan</SimpleData>\\n\\t\\t<SimpleData name=\"From\">1890</SimpleData>\\n\\t\\t<SimpleData name=\"To\">1910</SimpleData>\\n\\t\\t<SimpleData name=\"Descriptio\">west end of Ritter Avenue, now the Pual Dojack Youth Deterntion Centre</SimpleData>\\n\\t\\t<SimpleData name=\"Longitude\">-104.694451000000001</SimpleData>\\n\\t\\t<SimpleData name=\"Latitude\">50.466225999999999</SimpleData>\\n\\t\\t<SimpleData name=\"Location p\">0.000000000000000</SimpleData>\\n\\t\\t<SimpleData name=\"Reference\">NCTR- Regina, map and narrative</SimpleData>\\n\\t\\t<SimpleData name=\"Religious\">Presbyterian</SimpleData>\\n\\t\\t<SimpleData name=\"Atlas_pg\">149</SimpleData>\\n\\t\\t<SimpleData name=\"map_name\">Regina IRS</SimpleData>\\n\\t\\t<SimpleData name=\"atlas_pg_s\">149</SimpleData>\\n\\t</SchemaData></ExtendedData>\\n      <Point><coordinates>-104.694451,50.466226</coordinates></Point>\\n  </Placemark>\\n  <Placemark>\\n\\t<name>Round Lake, Stockholm, Saskatchewan</name>\\n\\t<ExtendedData><SchemaData schemaUrl=\"#IRS_KIB\">\\n\\t\\t<SimpleData name=\"School_num\">126</SimpleData>\\n\\t\\t<SimpleData name=\"Province o\">Saskatchewan</SimpleData>\\n\\t\\t<SimpleData name=\"From\">1885</SimpleData>\\n\\t\\t<SimpleData name=\"To\">1950</SimpleData>\\n\\t\\t<SimpleData name=\"Descriptio\">On the north side of the Qu\\'Appele River where it enters Round Lake</SimpleData>\\n\\t\\t<SimpleData name=\"Longitude\">-102.310033000000004</SimpleData>\\n\\t\\t<SimpleData name=\"Latitude\">50.526587999999997</SimpleData>\\n\\t\\t<SimpleData name=\"Location p\">0.000000000000000</SimpleData>\\n\\t\\t<SimpleData name=\"Reference\">NCTR \\xe2\\x80\\x93 Round Lake, SK, map and narrative</SimpleData>\\n\\t\\t<SimpleData name=\"Religious\">United Church</SimpleData>\\n\\t\\t<SimpleData name=\"Atlas_pg\">150</SimpleData>\\n\\t\\t<SimpleData name=\"map_name\">Round Lake IRS</SimpleData>\\n\\t\\t<SimpleData name=\"atlas_pg_s\">150</SimpleData>\\n\\t</SchemaData></ExtendedData>\\n      <Point><coordinates>-102.310033,50.526588</coordinates></Point>\\n  </Placemark>\\n  <Placemark>\\n\\t<name>St. Anthony\\'s (Onion Lake Roman Catholic), Onion Lake, Saskatchewan</name>\\n\\t<ExtendedData><SchemaData schemaUrl=\"#IRS_KIB\">\\n\\t\\t<SimpleData name=\"School_num\">127</SimpleData>\\n\\t\\t<SimpleData name=\"Province o\">Saskatchewan</SimpleData>\\n\\t\\t<SimpleData name=\"From\">1894</SimpleData>\\n\\t\\t<SimpleData name=\"To\">1927</SimpleData>\\n\\t\\t<SimpleData name=\"Descriptio\">1.6 km west of Onion Lake</SimpleData>\\n\\t\\t<SimpleData name=\"Longitude\">-109.980189999999993</SimpleData>\\n\\t\\t<SimpleData name=\"Latitude\">53.712499999999999</SimpleData>\\n\\t\\t<SimpleData name=\"Location p\">0.000000000000000</SimpleData>\\n\\t\\t<SimpleData name=\"Reference\">Plan T1477 CLSR SK</SimpleData>\\n\\t\\t<SimpleData name=\"Notes\">Land was surveyed in 1915</SimpleData>\\n\\t\\t<SimpleData name=\"Religious\">Roman Catholic</SimpleData>\\n\\t\\t<SimpleData name=\"Atlas_pg\">151</SimpleData>\\n\\t\\t<SimpleData name=\"map_name\">St. Anthony\\'s (Onion Lake) Roman Catholic) IRS</SimpleData>\\n\\t\\t<SimpleData name=\"atlas_pg_s\">151</SimpleData>\\n\\t</SchemaData></ExtendedData>\\n      <Point><coordinates>-109.98019,53.7125</coordinates></Point>\\n  </Placemark>\\n  <Placemark>\\n\\t<name>St. Anthony\\'s (Onion Lake Roman Catholic), Onion Lake, Saskatchewan</name>\\n\\t<ExtendedData><SchemaData schemaUrl=\"#IRS_KIB\">\\n\\t\\t<SimpleData name=\"School_num\">127</SimpleData>\\n\\t\\t<SimpleData name=\"Province o\">Saskatchewan</SimpleData>\\n\\t\\t<SimpleData name=\"From\">1927</SimpleData>\\n\\t\\t<SimpleData name=\"To\">1974</SimpleData>\\n\\t\\t<SimpleData name=\"Descriptio\">Section 8, Township 54 Range 27</SimpleData>\\n\\t\\t<SimpleData name=\"Longitude\">-109.955933999999999</SimpleData>\\n\\t\\t<SimpleData name=\"Latitude\">53.643559000000003</SimpleData>\\n\\t\\t<SimpleData name=\"Location p\">0.000000000000000</SimpleData>\\n\\t\\t<SimpleData name=\"Reference\">Plan 1371 CLSR SK and NCTR \\xe2\\x80\\x93 St. Anthony\\'s</SimpleData>\\n\\t\\t<SimpleData name=\"Notes\">Across the road to the west of Pensenakwan Primary School. 1969-1974 it was a student residence.</SimpleData>\\n\\t\\t<SimpleData name=\"Religious\">Roman Catholic</SimpleData>\\n\\t\\t<SimpleData name=\"Atlas_pg\">152</SimpleData>\\n\\t\\t<SimpleData name=\"map_name\">St. Anthony\\'s (Onion Lake) Roman Catholic) IRS</SimpleData>\\n\\t\\t<SimpleData name=\"atlas_pg_s\">152</SimpleData>\\n\\t</SchemaData></ExtendedData>\\n      <Point><coordinates>-109.955934,53.643559</coordinates></Point>\\n  </Placemark>\\n  <Placemark>\\n\\t<name>St. Michael\\'s (Duck Lake), Duck Lake, Saskatchewan</name>\\n\\t<ExtendedData><SchemaData schemaUrl=\"#IRS_KIB\">\\n\\t\\t<SimpleData name=\"School_num\">128</SimpleData>\\n\\t\\t<SimpleData name=\"Province o\">Saskatchewan</SimpleData>\\n\\t\\t<SimpleData name=\"From\">1894</SimpleData>\\n\\t\\t<SimpleData name=\"To\">1996</SimpleData>\\n\\t\\t<SimpleData name=\"Descriptio\">one half mile south of Duck Lake, SK</SimpleData>\\n\\t\\t<SimpleData name=\"Longitude\">-106.233609000000001</SimpleData>\\n\\t\\t<SimpleData name=\"Latitude\">52.800454999999999</SimpleData>\\n\\t\\t<SimpleData name=\"Location p\">0.000000000000000</SimpleData>\\n\\t\\t<SimpleData name=\"Reference\">NCTR \\xe2\\x80\\x93 St. Michaels, SK, map and narrative</SimpleData>\\n\\t\\t<SimpleData name=\"Notes\">Operated by Grand Council of  the Willow Cree 1993-1996</SimpleData>\\n\\t\\t<SimpleData name=\"Religious\">Roman Catholic</SimpleData>\\n\\t\\t<SimpleData name=\"Atlas_pg\">153</SimpleData>\\n\\t\\t<SimpleData name=\"map_name\">St. Michael\\'s (Duck Lake) IRS</SimpleData>\\n\\t\\t<SimpleData name=\"atlas_pg_s\">153</SimpleData>\\n\\t</SchemaData></ExtendedData>\\n      <Point><coordinates>-106.233609,52.800455</coordinates></Point>\\n  </Placemark>\\n  <Placemark>\\n\\t<name>St. Philip\\'s, Kamsack, Saskatchewan</name>\\n\\t<ExtendedData><SchemaData schemaUrl=\"#IRS_KIB\">\\n\\t\\t<SimpleData name=\"School_num\">129</SimpleData>\\n\\t\\t<SimpleData name=\"Province o\">Saskatchewan</SimpleData>\\n\\t\\t<SimpleData name=\"From\">1928</SimpleData>\\n\\t\\t<SimpleData name=\"To\">1969</SimpleData>\\n\\t\\t<SimpleData name=\"Descriptio\">In the hamlet of St. Philips, SK, 500m south of Springside, SK</SimpleData>\\n\\t\\t<SimpleData name=\"Longitude\">-101.906070999999997</SimpleData>\\n\\t\\t<SimpleData name=\"Latitude\">51.714334999999998</SimpleData>\\n\\t\\t<SimpleData name=\"Location p\">0.000000000000000</SimpleData>\\n\\t\\t<SimpleData name=\"Reference\">NCTR \\xe2\\x80\\x93 St. Philip\\'s, SK, map and narrative</SimpleData>\\n\\t\\t<SimpleData name=\"Religious\">Roman Catholic</SimpleData>\\n\\t\\t<SimpleData name=\"Atlas_pg\">154</SimpleData>\\n\\t\\t<SimpleData name=\"map_name\">St. Philip\\'s IRS</SimpleData>\\n\\t\\t<SimpleData name=\"atlas_pg_s\">154</SimpleData>\\n\\t</SchemaData></ExtendedData>\\n      <Point><coordinates>-101.906071,51.714335</coordinates></Point>\\n  </Placemark>\\n  <Placemark>\\n\\t<name>Sturgeon Landing (Predecessor to Guy Hill, MB), Sturgeon Landing, Saskatchewan</name>\\n\\t<ExtendedData><SchemaData schemaUrl=\"#IRS_KIB\">\\n\\t\\t<SimpleData name=\"School_num\">130</SimpleData>\\n\\t\\t<SimpleData name=\"Province o\">Saskatchewan</SimpleData>\\n\\t\\t<SimpleData name=\"From\">1926</SimpleData>\\n\\t\\t<SimpleData name=\"To\">1952</SimpleData>\\n\\t\\t<SimpleData name=\"Descriptio\">on the west bank of the Sturgeon Weir River</SimpleData>\\n\\t\\t<SimpleData name=\"Longitude\">-101.821663000000001</SimpleData>\\n\\t\\t<SimpleData name=\"Latitude\">54.274481999999999</SimpleData>\\n\\t\\t<SimpleData name=\"Location p\">0.000000000000000</SimpleData>\\n\\t\\t<SimpleData name=\"Reference\">NCTR \\xe2\\x80\\x93 Sturgeon Landing, SK map and NCTR \\xe2\\x80\\x93 Guy Hill, MB narrative</SimpleData>\\n\\t\\t<SimpleData name=\"Religious\">Roman Catholic</SimpleData>\\n\\t\\t<SimpleData name=\"Atlas_pg\">155</SimpleData>\\n\\t\\t<SimpleData name=\"map_name\">Guy Hill IRS</SimpleData>\\n\\t\\t<SimpleData name=\"atlas_pg_s\">155</SimpleData>\\n\\t</SchemaData></ExtendedData>\\n      <Point><coordinates>-101.821663,54.274482</coordinates></Point>\\n  </Placemark>\\n  <Placemark>\\n\\t<name>Thunderchild (Delmas, St. Henri), Delmas, Saskatchewan</name>\\n\\t<ExtendedData><SchemaData schemaUrl=\"#IRS_KIB\">\\n\\t\\t<SimpleData name=\"School_num\">131</SimpleData>\\n\\t\\t<SimpleData name=\"Province o\">Saskatchewan</SimpleData>\\n\\t\\t<SimpleData name=\"From\">1901</SimpleData>\\n\\t\\t<SimpleData name=\"To\">1948</SimpleData>\\n\\t\\t<SimpleData name=\"Descriptio\">north of 99th Street in Delmas, SK</SimpleData>\\n\\t\\t<SimpleData name=\"Longitude\">-108.597723999999999</SimpleData>\\n\\t\\t<SimpleData name=\"Latitude\">52.932035999999997</SimpleData>\\n\\t\\t<SimpleData name=\"Location p\">0.000000000000000</SimpleData>\\n\\t\\t<SimpleData name=\"Reference\">NCTR \\xe2\\x80\\x93 Thunderchild, SK, map</SimpleData>\\n\\t\\t<SimpleData name=\"Religious\">Roman Catholic</SimpleData>\\n\\t\\t<SimpleData name=\"Atlas_pg\">156</SimpleData>\\n\\t\\t<SimpleData name=\"map_name\">Thunderchild IRS</SimpleData>\\n\\t\\t<SimpleData name=\"atlas_pg_s\">156</SimpleData>\\n\\t</SchemaData></ExtendedData>\\n      <Point><coordinates>-108.597724,52.932036</coordinates></Point>\\n  </Placemark>\\n  <Placemark>\\n\\t<name>Cote Improved Federal Day School (September 1928 to June 1940), Kamsack, Saskatchewan</name>\\n\\t<ExtendedData><SchemaData schemaUrl=\"#IRS_KIB\">\\n\\t\\t<SimpleData name=\"School_num\">132</SimpleData>\\n\\t\\t<SimpleData name=\"Province o\">Saskatchewan</SimpleData>\\n\\t\\t<SimpleData name=\"From\">1928</SimpleData>\\n\\t\\t<SimpleData name=\"To\">1940</SimpleData>\\n\\t\\t<SimpleData name=\"Descriptio\">In the settlement of Badgerville, SK</SimpleData>\\n\\t\\t<SimpleData name=\"Longitude\">-101.910600000000002</SimpleData>\\n\\t\\t<SimpleData name=\"Latitude\">51.639201000000000</SimpleData>\\n\\t\\t<SimpleData name=\"Location p\">0.000000000000000</SimpleData>\\n\\t\\t<SimpleData name=\"Reference\">CNTR \\xe2\\x80\\x93 Cote, SK, map</SimpleData>\\n\\t\\t<SimpleData name=\"Notes\">Day school from 1916 to 1928</SimpleData>\\n\\t\\t<SimpleData name=\"Religious\">United Church</SimpleData>\\n\\t\\t<SimpleData name=\"Atlas_pg\">157</SimpleData>\\n\\t\\t<SimpleData name=\"map_name\">Cote Improved Federal Day School</SimpleData>\\n\\t\\t<SimpleData name=\"atlas_pg_s\">157</SimpleData>\\n\\t</SchemaData></ExtendedData>\\n      <Point><coordinates>-101.9106,51.639201</coordinates></Point>\\n  </Placemark>\\n  <Placemark>\\n\\t<name>Battleford Industrial School (December 1883 to May 1914), Battleford, Saskatchewan</name>\\n\\t<ExtendedData><SchemaData schemaUrl=\"#IRS_KIB\">\\n\\t\\t<SimpleData name=\"School_num\">133</SimpleData>\\n\\t\\t<SimpleData name=\"Province o\">Saskatchewan</SimpleData>\\n\\t\\t<SimpleData name=\"From\">1883</SimpleData>\\n\\t\\t<SimpleData name=\"To\">1914</SimpleData>\\n\\t\\t<SimpleData name=\"Descriptio\">at the end of 3rd Ave. west, Battleford, SK</SimpleData>\\n\\t\\t<SimpleData name=\"Longitude\">-108.308278000000001</SimpleData>\\n\\t\\t<SimpleData name=\"Latitude\">52.711722000000002</SimpleData>\\n\\t\\t<SimpleData name=\"Location p\">0.000000000000000</SimpleData>\\n\\t\\t<SimpleData name=\"Reference\">NCTR \\xe2\\x80\\x93 Battleford, SK, map</SimpleData>\\n\\t\\t<SimpleData name=\"Notes\">The building then became the Seventh-day Adventist Battleford Academy from 1916 to 1931. From 1932 to 1972 it was the Oblate House of Studies and the St. Charles Scholasticate (seminary) which closed in 1972. The Oblates left the building in 1984. Old Go</SimpleData>\\n\\t\\t<SimpleData name=\"Religious\">Anglican</SimpleData>\\n\\t\\t<SimpleData name=\"Atlas_pg\">158</SimpleData>\\n\\t\\t<SimpleData name=\"map_name\">Battleford Industrial School</SimpleData>\\n\\t\\t<SimpleData name=\"atlas_pg_s\">158</SimpleData>\\n\\t</SchemaData></ExtendedData>\\n      <Point><coordinates>-108.308278,52.711722</coordinates></Point>\\n  </Placemark>\\n  <Placemark>\\n\\t<name>Carcross (Chooutla), Carcross, Yukon</name>\\n\\t<ExtendedData><SchemaData schemaUrl=\"#IRS_KIB\">\\n\\t\\t<SimpleData name=\"School_num\">134</SimpleData>\\n\\t\\t<SimpleData name=\"Province o\">Yukon</SimpleData>\\n\\t\\t<SimpleData name=\"From\">1903</SimpleData>\\n\\t\\t<SimpleData name=\"To\">1969</SimpleData>\\n\\t\\t<SimpleData name=\"Descriptio\">At the end of Choutla Village Rd. in Carcross, YT</SimpleData>\\n\\t\\t<SimpleData name=\"Longitude\">-134.685360000000003</SimpleData>\\n\\t\\t<SimpleData name=\"Latitude\">60.179490000000001</SimpleData>\\n\\t\\t<SimpleData name=\"Location p\">0.000000000000000</SimpleData>\\n\\t\\t<SimpleData name=\"Reference\">Plan T1334 CLSR YT; and Plan 51467 CLSR YT</SimpleData>\\n\\t\\t<SimpleData name=\"Notes\">This is the school\\'s location from 1911-1939, and again from 1953-1969. 1939-1953 it was in temporary quarters south of the narrows and one other location. Before 1903 the school was in Fortymile, YT</SimpleData>\\n\\t\\t<SimpleData name=\"Religious\">Anglican</SimpleData>\\n\\t\\t<SimpleData name=\"Atlas_pg\">159</SimpleData>\\n\\t\\t<SimpleData name=\"map_name\">Carcross IRS</SimpleData>\\n\\t\\t<SimpleData name=\"atlas_pg_s\">159</SimpleData>\\n\\t</SchemaData></ExtendedData>\\n      <Point><coordinates>-134.68536,60.17949</coordinates></Point>\\n  </Placemark>\\n  <Placemark>\\n\\t<name>Coudert Hall (Whitehorse Hostel/Student Residence - Predecessor to Yukon Hall), Whitehorse, Yukon</name>\\n\\t<ExtendedData><SchemaData schemaUrl=\"#IRS_KIB\">\\n\\t\\t<SimpleData name=\"School_num\">135</SimpleData>\\n\\t\\t<SimpleData name=\"Province o\">Yukon</SimpleData>\\n\\t\\t<SimpleData name=\"From\">1960</SimpleData>\\n\\t\\t<SimpleData name=\"To\">1971</SimpleData>\\n\\t\\t<SimpleData name=\"Descriptio\">Current location of Christ the King Elementary School. Whitehorse, YT</SimpleData>\\n\\t\\t<SimpleData name=\"Longitude\">-135.035744999999991</SimpleData>\\n\\t\\t<SimpleData name=\"Latitude\">60.704681999999998</SimpleData>\\n\\t\\t<SimpleData name=\"Location p\">0.000000000000000</SimpleData>\\n\\t\\t<SimpleData name=\"Reference\">NCTR \\xe2\\x80\\x93 Coudert Hall, YT, map and narrative; and Plan 43168 CLSR YT</SimpleData>\\n\\t\\t<SimpleData name=\"Religious\">Roman Catholic</SimpleData>\\n\\t\\t<SimpleData name=\"Atlas_pg\">160</SimpleData>\\n\\t\\t<SimpleData name=\"map_name\">Coudert Hall Student Residence</SimpleData>\\n\\t\\t<SimpleData name=\"atlas_pg_s\">160</SimpleData>\\n\\t</SchemaData></ExtendedData>\\n      <Point><coordinates>-135.035745,60.704682</coordinates></Point>\\n  </Placemark>\\n  <Placemark>\\n\\t<name>Shingle Point (Predecessor to All Saints, Aklavik), Shingle Point, Yukon</name>\\n\\t<ExtendedData><SchemaData schemaUrl=\"#IRS_KIB\">\\n\\t\\t<SimpleData name=\"School_num\">136</SimpleData>\\n\\t\\t<SimpleData name=\"Province o\">Yukon</SimpleData>\\n\\t\\t<SimpleData name=\"From\">1929</SimpleData>\\n\\t\\t<SimpleData name=\"To\">1936</SimpleData>\\n\\t\\t<SimpleData name=\"Descriptio\">Shingle Point, YT</SimpleData>\\n\\t\\t<SimpleData name=\"Longitude\">-137.408795999999995</SimpleData>\\n\\t\\t<SimpleData name=\"Latitude\">68.991024999999993</SimpleData>\\n\\t\\t<SimpleData name=\"Location p\">0.000000000000000</SimpleData>\\n\\t\\t<SimpleData name=\"Reference\">Anglican Church \\xe2\\x80\\x93 Shingle Point; and Inuvialuit Regional Corporation \\xe2\\x80\\x93 Heritage Sites \\xe2\\x80\\x93 Shingle Point</SimpleData>\\n\\t\\t<SimpleData name=\"Notes\">The Anglican Mission and the HBC post were not where the DEW line station is today, but rather out on the Point, a popular site for local families to camp</SimpleData>\\n\\t\\t<SimpleData name=\"Religious\">Anglican</SimpleData>\\n\\t\\t<SimpleData name=\"Atlas_pg\">161</SimpleData>\\n\\t\\t<SimpleData name=\"map_name\">Shingle Point Residential School</SimpleData>\\n\\t\\t<SimpleData name=\"atlas_pg_s\">161</SimpleData>\\n\\t</SchemaData></ExtendedData>\\n      <Point><coordinates>-137.408796,68.991025</coordinates></Point>\\n  </Placemark>\\n  <Placemark>\\n\\t<name>Whitehorse Baptist, Whitehorse, Yukon</name>\\n\\t<ExtendedData><SchemaData schemaUrl=\"#IRS_KIB\">\\n\\t\\t<SimpleData name=\"School_num\">137</SimpleData>\\n\\t\\t<SimpleData name=\"Province o\">Yukon</SimpleData>\\n\\t\\t<SimpleData name=\"From\">1947</SimpleData>\\n\\t\\t<SimpleData name=\"To\">1960</SimpleData>\\n\\t\\t<SimpleData name=\"Descriptio\">Between 4th and 5th Avenues, between Hawkins and Lowe Streets, between</SimpleData>\\n\\t\\t<SimpleData name=\"Longitude\">-135.054260999999997</SimpleData>\\n\\t\\t<SimpleData name=\"Latitude\">60.714844999999997</SimpleData>\\n\\t\\t<SimpleData name=\"Location p\">0.000000000000000</SimpleData>\\n\\t\\t<SimpleData name=\"Reference\">HougenGroup \\xe2\\x80\\x93 Indian Mission School</SimpleData>\\n\\t\\t<SimpleData name=\"Notes\">School continued in operation without government funding until 1962</SimpleData>\\n\\t\\t<SimpleData name=\"Religious\">Baptist</SimpleData>\\n\\t\\t<SimpleData name=\"Atlas_pg\">162</SimpleData>\\n\\t\\t<SimpleData name=\"map_name\">Whitehorse Baptist Mission</SimpleData>\\n\\t\\t<SimpleData name=\"atlas_pg_s\">162</SimpleData>\\n\\t</SchemaData></ExtendedData>\\n      <Point><coordinates>-135.054261,60.714845</coordinates></Point>\\n  </Placemark>\\n  <Placemark>\\n\\t<name>Yukon Hall (Whitehorse/Protestant Hostel), Whitehorse, Yukon</name>\\n\\t<ExtendedData><SchemaData schemaUrl=\"#IRS_KIB\">\\n\\t\\t<SimpleData name=\"School_num\">138</SimpleData>\\n\\t\\t<SimpleData name=\"Province o\">Yukon</SimpleData>\\n\\t\\t<SimpleData name=\"From\">1960</SimpleData>\\n\\t\\t<SimpleData name=\"To\">1985</SimpleData>\\n\\t\\t<SimpleData name=\"Descriptio\">11 Nisutlin Drive, Whitehorse, YT</SimpleData>\\n\\t\\t<SimpleData name=\"Longitude\">-135.037483000000009</SimpleData>\\n\\t\\t<SimpleData name=\"Latitude\">60.705134000000001</SimpleData>\\n\\t\\t<SimpleData name=\"Location p\">0.000000000000000</SimpleData>\\n\\t\\t<SimpleData name=\"Reference\">NCTR \\xe2\\x80\\x93 Yukon Hall, YT, map and narrative</SimpleData>\\n\\t\\t<SimpleData name=\"Notes\">Coudert Hall students were moved into Yukon Hall in 1971</SimpleData>\\n\\t\\t<SimpleData name=\"Religious\">Non-denominational</SimpleData>\\n\\t\\t<SimpleData name=\"Atlas_pg\">163</SimpleData>\\n\\t\\t<SimpleData name=\"map_name\">Yukon Hall Student Residence</SimpleData>\\n\\t\\t<SimpleData name=\"atlas_pg_s\">163</SimpleData>\\n\\t</SchemaData></ExtendedData>\\n      <Point><coordinates>-135.037483,60.705134</coordinates></Point>\\n  </Placemark>\\n  <Placemark>\\n\\t<name>St. Paul\\'s Hostel (September 1920 to June 1943), Dawson City, Yukon</name>\\n\\t<ExtendedData><SchemaData schemaUrl=\"#IRS_KIB\">\\n\\t\\t<SimpleData name=\"School_num\">139</SimpleData>\\n\\t\\t<SimpleData name=\"Province o\">Yukon</SimpleData>\\n\\t\\t<SimpleData name=\"From\">1920</SimpleData>\\n\\t\\t<SimpleData name=\"To\">1943</SimpleData>\\n\\t\\t<SimpleData name=\"Descriptio\">6th Avenue and Firth St.</SimpleData>\\n\\t\\t<SimpleData name=\"Longitude\">-139.434515000000005</SimpleData>\\n\\t\\t<SimpleData name=\"Latitude\">64.056010999999998</SimpleData>\\n\\t\\t<SimpleData name=\"Location p\">0.000000000000000</SimpleData>\\n\\t\\t<SimpleData name=\"Reference\">NCTR \\xe2\\x80\\x93 St. Paul\\'s, YT, map</SimpleData>\\n\\t\\t<SimpleData name=\"Notes\">In 1923 the hostel purchased the Samaritan Hospital and moved there from the private home it had been in.</SimpleData>\\n\\t\\t<SimpleData name=\"Religious\">Anglican</SimpleData>\\n\\t\\t<SimpleData name=\"Atlas_pg\">164</SimpleData>\\n\\t\\t<SimpleData name=\"map_name\">St. Paul\\'s Hostel</SimpleData>\\n\\t\\t<SimpleData name=\"atlas_pg_s\">164</SimpleData>\\n\\t</SchemaData></ExtendedData>\\n      <Point><coordinates>-139.434515,64.056011</coordinates></Point>\\n  </Placemark>\\n</Folder>\\n<Schema name=\"IRS_KIB\" id=\"IRS_KIB\">\\n\\t<SimpleField name=\"School_num\" type=\"int\"></SimpleField>\\n\\t<SimpleField name=\"Province o\" type=\"string\"></SimpleField>\\n\\t<SimpleField name=\"From\" type=\"int\"></SimpleField>\\n\\t<SimpleField name=\"To\" type=\"int\"></SimpleField>\\n\\t<SimpleField name=\"Descriptio\" type=\"string\"></SimpleField>\\n\\t<SimpleField name=\"Longitude\" type=\"float\"></SimpleField>\\n\\t<SimpleField name=\"Latitude\" type=\"float\"></SimpleField>\\n\\t<SimpleField name=\"Location p\" type=\"float\"></SimpleField>\\n\\t<SimpleField name=\"Reference\" type=\"string\"></SimpleField>\\n\\t<SimpleField name=\"Map Notes\" type=\"string\"></SimpleField>\\n\\t<SimpleField name=\"Notes\" type=\"string\"></SimpleField>\\n\\t<SimpleField name=\"Religious\" type=\"string\"></SimpleField>\\n\\t<SimpleField name=\"Atlas_pg\" type=\"int\"></SimpleField>\\n\\t<SimpleField name=\"map_name\" type=\"string\"></SimpleField>\\n\\t<SimpleField name=\"atlas_pg_s\" type=\"string\"></SimpleField>\\n</Schema>\\n</Document></kml>\\n'"
      ]
     },
     "execution_count": 5,
     "metadata": {},
     "output_type": "execute_result"
    }
   ],
   "source": [
    "kml_file = 'data/IRS.kml'\n",
    "myfile = open(kml_file, 'rt', encoding='utf-8')\n",
    "doc = myfile.read().encode('utf-8')\n",
    "doc"
   ]
  },
  {
   "cell_type": "code",
   "execution_count": 12,
   "metadata": {},
   "outputs": [
    {
     "data": {
      "text/html": [
       "<div style=\"width:100%;\"><div style=\"position:relative;width:100%;height:0;padding-bottom:60%;\"><span style=\"color:#565656\">Make this Notebook Trusted to load map: File -> Trust Notebook</span><iframe src=\"about:blank\" style=\"position:absolute;width:100%;height:100%;left:0;top:0;border:none !important;\" data-html=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 onload=\"this.contentDocument.open();this.contentDocument.write(atob(this.getAttribute('data-html')));this.contentDocument.close();\" allowfullscreen webkitallowfullscreen mozallowfullscreen></iframe></div></div>"
      ],
      "text/plain": [
       "<folium.folium.Map at 0x7ff434bbf7d0>"
      ]
     },
     "execution_count": 12,
     "metadata": {},
     "output_type": "execute_result"
    }
   ],
   "source": [
    "#!pip install folium --user\n",
    "import folium\n",
    "lat = 64.319832\n",
    "lon = -96.020912\n",
    "m = folium.Map(location=[lat,lon], zoom_start=3, tiles='Stamen Terrain')\n",
    "m"
   ]
  },
  {
   "cell_type": "code",
   "execution_count": 18,
   "metadata": {},
   "outputs": [
    {
     "ename": "UnicodeDecodeError",
     "evalue": "'utf-8' codec can't decode byte 0x8e in position 35: invalid start byte",
     "output_type": "error",
     "traceback": [
      "\u001b[0;31m---------------------------------------------------------------------------\u001b[0m",
      "\u001b[0;31mUnicodeDecodeError\u001b[0m                        Traceback (most recent call last)",
      "\u001b[0;32mpandas/_libs/parsers.pyx\u001b[0m in \u001b[0;36mpandas._libs.parsers.TextReader._convert_tokens\u001b[0;34m()\u001b[0m\n",
      "\u001b[0;32mpandas/_libs/parsers.pyx\u001b[0m in \u001b[0;36mpandas._libs.parsers.TextReader._convert_with_dtype\u001b[0;34m()\u001b[0m\n",
      "\u001b[0;32mpandas/_libs/parsers.pyx\u001b[0m in \u001b[0;36mpandas._libs.parsers.TextReader._string_convert\u001b[0;34m()\u001b[0m\n",
      "\u001b[0;32mpandas/_libs/parsers.pyx\u001b[0m in \u001b[0;36mpandas._libs.parsers._string_box_utf8\u001b[0;34m()\u001b[0m\n",
      "\u001b[0;31mUnicodeDecodeError\u001b[0m: 'utf-8' codec can't decode byte 0x8e in position 35: invalid start byte",
      "\nDuring handling of the above exception, another exception occurred:\n",
      "\u001b[0;31mUnicodeDecodeError\u001b[0m                        Traceback (most recent call last)",
      "\u001b[0;32m<ipython-input-18-a5c6fcbfa955>\u001b[0m in \u001b[0;36m<module>\u001b[0;34m\u001b[0m\n\u001b[1;32m      1\u001b[0m \u001b[0;32mimport\u001b[0m \u001b[0mpandas\u001b[0m \u001b[0;32mas\u001b[0m \u001b[0mpd\u001b[0m\u001b[0;34m\u001b[0m\u001b[0;34m\u001b[0m\u001b[0m\n\u001b[0;32m----> 2\u001b[0;31m \u001b[0mdf\u001b[0m \u001b[0;34m=\u001b[0m \u001b[0mpd\u001b[0m\u001b[0;34m.\u001b[0m\u001b[0mread_csv\u001b[0m\u001b[0;34m(\u001b[0m\u001b[0;34m'data/RSLlistv2.csv'\u001b[0m\u001b[0;34m)\u001b[0m\u001b[0;34m\u001b[0m\u001b[0;34m\u001b[0m\u001b[0m\n\u001b[0m\u001b[1;32m      3\u001b[0m \u001b[0mdf\u001b[0m\u001b[0;34m\u001b[0m\u001b[0;34m\u001b[0m\u001b[0m\n",
      "\u001b[0;32m~/opt/anaconda3/lib/python3.7/site-packages/pandas/io/parsers.py\u001b[0m in \u001b[0;36mparser_f\u001b[0;34m(filepath_or_buffer, sep, delimiter, header, names, index_col, usecols, squeeze, prefix, mangle_dupe_cols, dtype, engine, converters, true_values, false_values, skipinitialspace, skiprows, skipfooter, nrows, na_values, keep_default_na, na_filter, verbose, skip_blank_lines, parse_dates, infer_datetime_format, keep_date_col, date_parser, dayfirst, cache_dates, iterator, chunksize, compression, thousands, decimal, lineterminator, quotechar, quoting, doublequote, escapechar, comment, encoding, dialect, error_bad_lines, warn_bad_lines, delim_whitespace, low_memory, memory_map, float_precision)\u001b[0m\n\u001b[1;32m    674\u001b[0m         )\n\u001b[1;32m    675\u001b[0m \u001b[0;34m\u001b[0m\u001b[0m\n\u001b[0;32m--> 676\u001b[0;31m         \u001b[0;32mreturn\u001b[0m \u001b[0m_read\u001b[0m\u001b[0;34m(\u001b[0m\u001b[0mfilepath_or_buffer\u001b[0m\u001b[0;34m,\u001b[0m \u001b[0mkwds\u001b[0m\u001b[0;34m)\u001b[0m\u001b[0;34m\u001b[0m\u001b[0;34m\u001b[0m\u001b[0m\n\u001b[0m\u001b[1;32m    677\u001b[0m \u001b[0;34m\u001b[0m\u001b[0m\n\u001b[1;32m    678\u001b[0m     \u001b[0mparser_f\u001b[0m\u001b[0;34m.\u001b[0m\u001b[0m__name__\u001b[0m \u001b[0;34m=\u001b[0m \u001b[0mname\u001b[0m\u001b[0;34m\u001b[0m\u001b[0;34m\u001b[0m\u001b[0m\n",
      "\u001b[0;32m~/opt/anaconda3/lib/python3.7/site-packages/pandas/io/parsers.py\u001b[0m in \u001b[0;36m_read\u001b[0;34m(filepath_or_buffer, kwds)\u001b[0m\n\u001b[1;32m    452\u001b[0m \u001b[0;34m\u001b[0m\u001b[0m\n\u001b[1;32m    453\u001b[0m     \u001b[0;32mtry\u001b[0m\u001b[0;34m:\u001b[0m\u001b[0;34m\u001b[0m\u001b[0;34m\u001b[0m\u001b[0m\n\u001b[0;32m--> 454\u001b[0;31m         \u001b[0mdata\u001b[0m \u001b[0;34m=\u001b[0m \u001b[0mparser\u001b[0m\u001b[0;34m.\u001b[0m\u001b[0mread\u001b[0m\u001b[0;34m(\u001b[0m\u001b[0mnrows\u001b[0m\u001b[0;34m)\u001b[0m\u001b[0;34m\u001b[0m\u001b[0;34m\u001b[0m\u001b[0m\n\u001b[0m\u001b[1;32m    455\u001b[0m     \u001b[0;32mfinally\u001b[0m\u001b[0;34m:\u001b[0m\u001b[0;34m\u001b[0m\u001b[0;34m\u001b[0m\u001b[0m\n\u001b[1;32m    456\u001b[0m         \u001b[0mparser\u001b[0m\u001b[0;34m.\u001b[0m\u001b[0mclose\u001b[0m\u001b[0;34m(\u001b[0m\u001b[0;34m)\u001b[0m\u001b[0;34m\u001b[0m\u001b[0;34m\u001b[0m\u001b[0m\n",
      "\u001b[0;32m~/opt/anaconda3/lib/python3.7/site-packages/pandas/io/parsers.py\u001b[0m in \u001b[0;36mread\u001b[0;34m(self, nrows)\u001b[0m\n\u001b[1;32m   1131\u001b[0m     \u001b[0;32mdef\u001b[0m \u001b[0mread\u001b[0m\u001b[0;34m(\u001b[0m\u001b[0mself\u001b[0m\u001b[0;34m,\u001b[0m \u001b[0mnrows\u001b[0m\u001b[0;34m=\u001b[0m\u001b[0;32mNone\u001b[0m\u001b[0;34m)\u001b[0m\u001b[0;34m:\u001b[0m\u001b[0;34m\u001b[0m\u001b[0;34m\u001b[0m\u001b[0m\n\u001b[1;32m   1132\u001b[0m         \u001b[0mnrows\u001b[0m \u001b[0;34m=\u001b[0m \u001b[0m_validate_integer\u001b[0m\u001b[0;34m(\u001b[0m\u001b[0;34m\"nrows\"\u001b[0m\u001b[0;34m,\u001b[0m \u001b[0mnrows\u001b[0m\u001b[0;34m)\u001b[0m\u001b[0;34m\u001b[0m\u001b[0;34m\u001b[0m\u001b[0m\n\u001b[0;32m-> 1133\u001b[0;31m         \u001b[0mret\u001b[0m \u001b[0;34m=\u001b[0m \u001b[0mself\u001b[0m\u001b[0;34m.\u001b[0m\u001b[0m_engine\u001b[0m\u001b[0;34m.\u001b[0m\u001b[0mread\u001b[0m\u001b[0;34m(\u001b[0m\u001b[0mnrows\u001b[0m\u001b[0;34m)\u001b[0m\u001b[0;34m\u001b[0m\u001b[0;34m\u001b[0m\u001b[0m\n\u001b[0m\u001b[1;32m   1134\u001b[0m \u001b[0;34m\u001b[0m\u001b[0m\n\u001b[1;32m   1135\u001b[0m         \u001b[0;31m# May alter columns / col_dict\u001b[0m\u001b[0;34m\u001b[0m\u001b[0;34m\u001b[0m\u001b[0;34m\u001b[0m\u001b[0m\n",
      "\u001b[0;32m~/opt/anaconda3/lib/python3.7/site-packages/pandas/io/parsers.py\u001b[0m in \u001b[0;36mread\u001b[0;34m(self, nrows)\u001b[0m\n\u001b[1;32m   2035\u001b[0m     \u001b[0;32mdef\u001b[0m \u001b[0mread\u001b[0m\u001b[0;34m(\u001b[0m\u001b[0mself\u001b[0m\u001b[0;34m,\u001b[0m \u001b[0mnrows\u001b[0m\u001b[0;34m=\u001b[0m\u001b[0;32mNone\u001b[0m\u001b[0;34m)\u001b[0m\u001b[0;34m:\u001b[0m\u001b[0;34m\u001b[0m\u001b[0;34m\u001b[0m\u001b[0m\n\u001b[1;32m   2036\u001b[0m         \u001b[0;32mtry\u001b[0m\u001b[0;34m:\u001b[0m\u001b[0;34m\u001b[0m\u001b[0;34m\u001b[0m\u001b[0m\n\u001b[0;32m-> 2037\u001b[0;31m             \u001b[0mdata\u001b[0m \u001b[0;34m=\u001b[0m \u001b[0mself\u001b[0m\u001b[0;34m.\u001b[0m\u001b[0m_reader\u001b[0m\u001b[0;34m.\u001b[0m\u001b[0mread\u001b[0m\u001b[0;34m(\u001b[0m\u001b[0mnrows\u001b[0m\u001b[0;34m)\u001b[0m\u001b[0;34m\u001b[0m\u001b[0;34m\u001b[0m\u001b[0m\n\u001b[0m\u001b[1;32m   2038\u001b[0m         \u001b[0;32mexcept\u001b[0m \u001b[0mStopIteration\u001b[0m\u001b[0;34m:\u001b[0m\u001b[0;34m\u001b[0m\u001b[0;34m\u001b[0m\u001b[0m\n\u001b[1;32m   2039\u001b[0m             \u001b[0;32mif\u001b[0m \u001b[0mself\u001b[0m\u001b[0;34m.\u001b[0m\u001b[0m_first_chunk\u001b[0m\u001b[0;34m:\u001b[0m\u001b[0;34m\u001b[0m\u001b[0;34m\u001b[0m\u001b[0m\n",
      "\u001b[0;32mpandas/_libs/parsers.pyx\u001b[0m in \u001b[0;36mpandas._libs.parsers.TextReader.read\u001b[0;34m()\u001b[0m\n",
      "\u001b[0;32mpandas/_libs/parsers.pyx\u001b[0m in \u001b[0;36mpandas._libs.parsers.TextReader._read_low_memory\u001b[0;34m()\u001b[0m\n",
      "\u001b[0;32mpandas/_libs/parsers.pyx\u001b[0m in \u001b[0;36mpandas._libs.parsers.TextReader._read_rows\u001b[0;34m()\u001b[0m\n",
      "\u001b[0;32mpandas/_libs/parsers.pyx\u001b[0m in \u001b[0;36mpandas._libs.parsers.TextReader._convert_column_data\u001b[0;34m()\u001b[0m\n",
      "\u001b[0;32mpandas/_libs/parsers.pyx\u001b[0m in \u001b[0;36mpandas._libs.parsers.TextReader._convert_tokens\u001b[0;34m()\u001b[0m\n",
      "\u001b[0;32mpandas/_libs/parsers.pyx\u001b[0m in \u001b[0;36mpandas._libs.parsers.TextReader._convert_with_dtype\u001b[0;34m()\u001b[0m\n",
      "\u001b[0;32mpandas/_libs/parsers.pyx\u001b[0m in \u001b[0;36mpandas._libs.parsers.TextReader._string_convert\u001b[0;34m()\u001b[0m\n",
      "\u001b[0;32mpandas/_libs/parsers.pyx\u001b[0m in \u001b[0;36mpandas._libs.parsers._string_box_utf8\u001b[0;34m()\u001b[0m\n",
      "\u001b[0;31mUnicodeDecodeError\u001b[0m: 'utf-8' codec can't decode byte 0x8e in position 35: invalid start byte"
     ]
    }
   ],
   "source": [
    "import pandas as pd\n",
    "df = pd.read_csv('data/RSLlistv2.csv')\n",
    "df"
   ]
  },
  {
   "cell_type": "code",
   "execution_count": null,
   "metadata": {},
   "outputs": [],
   "source": []
  },
  {
   "cell_type": "code",
   "execution_count": null,
   "metadata": {},
   "outputs": [],
   "source": []
  },
  {
   "cell_type": "code",
   "execution_count": null,
   "metadata": {},
   "outputs": [],
   "source": []
  },
  {
   "cell_type": "code",
   "execution_count": null,
   "metadata": {},
   "outputs": [],
   "source": []
  },
  {
   "cell_type": "code",
   "execution_count": null,
   "metadata": {},
   "outputs": [],
   "source": []
  },
  {
   "cell_type": "code",
   "execution_count": null,
   "metadata": {},
   "outputs": [],
   "source": []
  },
  {
   "cell_type": "code",
   "execution_count": null,
   "metadata": {},
   "outputs": [],
   "source": []
  },
  {
   "cell_type": "code",
   "execution_count": null,
   "metadata": {},
   "outputs": [],
   "source": []
  },
  {
   "cell_type": "code",
   "execution_count": null,
   "metadata": {},
   "outputs": [],
   "source": []
  },
  {
   "cell_type": "markdown",
   "metadata": {},
   "source": [
    "Now that we have the data on hand, lets plot them on a graph to find the locations of the schools. "
   ]
  },
  {
   "cell_type": "code",
   "execution_count": null,
   "metadata": {},
   "outputs": [],
   "source": [
    "# residential_df.plot(kind=\"scatter\", x=\"Longitude\", y=\"Latitude\", alpha=0.4, label=\"Residential School\",\n",
    "#         figsize=(10,7),)\n",
    "# plt.show()\n",
    "\n",
    "trace = go.Scatter(\n",
    "    y = residential_df['Latitude'],\n",
    "    x = residential_df['Longitude'],\n",
    "    text = residential_df['map_name']+ '<br>'+'From:  '+residential_df['From']+'<br>' +'To:  '+residential_df['To'],\n",
    "    mode='markers',\n",
    "    marker = dict(\n",
    "    opacity = 0.5,\n",
    "    color = 'blue')\n",
    "    )\n",
    "\n",
    "layout = go.Layout(\n",
    "    title='Latitude vs Longitude - Scatter plot',\n",
    "    xaxis=dict(\n",
    "        title='Longitude'\n",
    "    ),\n",
    "    yaxis=dict(\n",
    "        title='Latitude'\n",
    "    )\n",
    ")\n",
    "\n",
    "data = [trace]\n",
    "\n",
    "fig = dict(data=data, layout=layout)\n",
    "iplot(fig, filename='styled-scatter')"
   ]
  },
  {
   "cell_type": "markdown",
   "metadata": {},
   "source": [
    "What we see above is a scatter plot to diplay two values of our dataset Latitude vs Longitude, but what do they mean and how are we supposed to use it? To get a better understanding of Latitudes and Longitudes, let us take a quick detour to explore a little more about these concepts. Before we do that lets test your knowledge about scatter plots. Try and answer the questions that follow."
   ]
  },
  {
   "cell_type": "markdown",
   "metadata": {},
   "source": [
    "### Questions\n",
    "\n",
    "1. What is a scatter plot?\n",
    "2. What two variables are related in the scatterplot? \n",
    "3. What do each dot on the plot represent?\n",
    "4. Why are some dots lighter and some darker? (Hint: Zoom in on darker dots)\n"
   ]
  },
  {
   "cell_type": "markdown",
   "metadata": {},
   "source": [
    "## Brief Detour About Geography\n",
    "\n",
    "**Latitudes and longitudes** are very basic terms in geography. They help us to explain the location or position of something anywhere in the world. Latitudes and longitudes form a grid system on the globe, and by knowing the shape of this grid, we can easily locate any place on Earth."
   ]
  },
  {
   "cell_type": "markdown",
   "metadata": {},
   "source": [
    "### Latitude\n",
    "\n",
    "Lines of latitudes are horizontal systems of measurement that encircle the globe from east to west. Latitudes are sometimes called \"parallels,\" as they are at an equal distance from each other and never meet.\n",
    "\n",
    "Latitude lines measure how far north or south of the equator something is. The equator is defined as the starting point for measuring latitude - that's why it is marked as 0 degrees latitude. The North Pole is listed at 90 degrees, and the South Pole is listed at -90 degrees. The more \"degrees latitude\" a location is, the further away it is from the equator. For example, 50 degrees latitude is further from the equator than 20 degrees latitude is. Depending on if a location is above or below the equator, they are listed as \"degrees North\" or \"degrees South\", and are given a matching positive (+) or negative (-) symbol. \n",
    "\n",
    "\n",
    "Each degree of latitude is approximately 111 kilometers apart (69 miles), although there is some variation as the Earth is not perfectly round. The globe below has the parallels drawn on it. Feel free to spin the globe and zoom in or out on any location. Parallels located south of the Equator are orange, and this part of the Earth is called the Southern Hemisphere. Conversely, parallels located north to the Equator are blue, and this part of the Earth is called the Northern Hemisphere.\n"
   ]
  },
  {
   "cell_type": "code",
   "execution_count": null,
   "metadata": {},
   "outputs": [],
   "source": [
    "\n",
    "contours = []\n",
    "\n",
    "equator_lon = [-180,-170,-160,-150,-140,-130,-120,-110,-100,-90,-80,-70,-60,-50,-40,-30,-20,-10,0,\n",
    "               10,20,30,40,50,60,70,80,90,100,110,120,130,140,150,160,170,180]\n",
    "euator_lat = [0,0,0,0,0,0,0,0,0,0,0,0,0,0,0,0,0,0,0,0,0,0,0,0,0,0,0,0,0,0,0,0,0,0,0,0,0]\n",
    "\n",
    "#equator\n",
    "contours.append( dict(\n",
    "        type = 'scattergeo',\n",
    "        hoverinfo='text',\n",
    "        text= '0° equator',\n",
    "        name = '0° equator',\n",
    "        lon = equator_lon,\n",
    "        lat = euator_lat,\n",
    "        mode = 'lines',\n",
    "        line = dict(\n",
    "            width = 3,\n",
    "            color = 'green'\n",
    "        )\n",
    "    ) )\n",
    "#north pole\n",
    "contours.append( dict(\n",
    "        type = 'scattergeo',\n",
    "        hoverinfo='text',\n",
    "        text= '90° north pole',\n",
    "        name = '90° north pole',\n",
    "        lon = [0],\n",
    "        lat = [90],\n",
    "        mode = 'markers',\n",
    "        line = dict(\n",
    "            width = 2,\n",
    "            color = 'rgb(50,136,189)'\n",
    "        )\n",
    "    ) )\n",
    "#north hemispere\n",
    "for i in range (1,9):\n",
    "    contours.append( dict(\n",
    "        type = 'scattergeo',\n",
    "        hoverinfo='text',\n",
    "        text= str(10*i)+'° north',\n",
    "        name = str(10*i)+'° north',\n",
    "        lon = equator_lon,\n",
    "        lat = [x+10*i for x in euator_lat],\n",
    "        mode = 'lines',\n",
    "        line = dict(\n",
    "            width = 2,\n",
    "            color = 'rgb(50,136,189)'\n",
    "        )\n",
    "    ) )\n",
    "    \n",
    "#south hemispere\n",
    "for i in range (1,9):\n",
    "    contours.append( dict(\n",
    "        type = 'scattergeo',\n",
    "        hoverinfo='text',\n",
    "        text= str(-10*i)+'° south',\n",
    "        name = str(-10*i)+'° south',\n",
    "        lon = equator_lon,\n",
    "        lat = [x-10*i for x in euator_lat],\n",
    "        mode = 'lines',\n",
    "        line = dict(\n",
    "            width = 2,\n",
    "            color = 'rgb(244,109,67)'\n",
    "        )\n",
    "    ) )\n",
    "    \n",
    "contours.append( dict(\n",
    "        type = 'scattergeo',\n",
    "        hoverinfo='text',\n",
    "        text= '-90° south pole',\n",
    "        name = '-90° south pole',\n",
    "        lon = [0],\n",
    "        lat = [-90],\n",
    "        mode = 'markers',\n",
    "        line = dict(\n",
    "            width = 2,\n",
    "            color = 'rgb(244,109,67)'\n",
    "        )\n",
    "    ) )\n",
    "\n",
    "layout = dict(\n",
    "        title = 'Parallels over globe<br>(Click and drag to rotate)',        \n",
    "        geo = dict(\n",
    "            showland = True,\n",
    "            showlakes = True,\n",
    "            showcountries = True,\n",
    "            showocean = True,\n",
    "            countrywidth = 0.5,\n",
    "            lakecolor = 'rgb(255, 255, 255)',\n",
    "            oceancolor = 'rgb(255, 255, 255)',\n",
    "            landcolor = 'rgb(212, 212, 212)',\n",
    "            projection = dict( \n",
    "                type = 'orthographic',\n",
    "                rotation = dict(\n",
    "                    lon = -100,\n",
    "                    lat = 40,\n",
    "                    roll = 0\n",
    "                )            \n",
    "            ),\n",
    "\n",
    "        )\n",
    "    )\n",
    "    \n",
    "fig = dict( data=contours, layout=layout )\n",
    "iplot( fig, validate=False )"
   ]
  },
  {
   "cell_type": "markdown",
   "metadata": {},
   "source": [
    "### Questions\n",
    "\n",
    "Look at the globe. Try rotating it and hover your mouse over different parallels. \n",
    "Every tenth parallel is displayed.\n",
    "If you click on any parallel listing on the right, the latitude line will either appear or disappear on the map.\n",
    "\n",
    "1. Can you find the Equator? Which continents does it go through?\n",
    "2. Find Canada. Is it located in the Southern or Northern Hemisphere?\n",
    "3. Which latitude lines is Canada located between?"
   ]
  },
  {
   "cell_type": "markdown",
   "metadata": {},
   "source": [
    "### Longitude\n",
    "In contrast to latitude, longitude lines Lines are vertical systems of measurement that encircle the globe from north to south. Longitude lines converge at poles and are widest at the equator. Longitude lines can also be called \"meridian lines\". Longitude shows how far a location is east or west of a universal vertical line, called the Prime Meridian. The Prime Meridian line runs through the British Royal Observatory in Greenwich England, from the North Pole to the South Pole. As the vertical starting point for longitude, the Prime Meridian is defined as 0 degrees longitude. Interestingly, for many years, each country had its own prime meridian. In 1884, a group of scientists, navigators, and business owners made Greenwich, England, the official worldwide Prime Meridian.\n",
    "\n",
    "Longitude lines span 180 degrees both east and west of the Prime Meridian. Longitude lines that are **east** of the prime meridian are positive (+), and lines that are **west** of the Prime Meridian are negative (-). The longitude line that is exactly 180 degrees east and west of the Prime Meridian is known as the International Date Line (it is directly opposite to the Prime Meridian). \n",
    "\n",
    "Lines of longitude at every ten degrees are shown on the globe below, try rotating it and hover your mouse over different meridians. If you click on any meridian listed on the right it will disappear/reappear on the map. On this map, the blue meridians located east of the Prime Meridian are part of the Eastern Hemisphere. The orange meridians located west to the Prime Meridian are part of the Western Hemisphere."
   ]
  },
  {
   "cell_type": "code",
   "execution_count": null,
   "metadata": {},
   "outputs": [],
   "source": [
    "contours = []\n",
    "\n",
    "mer_lat1 = [90,100,110,120,130,140,150,160,170,180,-180,-170,-160,-150,-140,-130,-120,-110,-100,-90]\n",
    "mer_lon1 = [0,0,0,0,0,0,0,0,0,0,0,0,0,0,0,0,0,0,0,0]\n",
    "\n",
    "mer_lat2 = [-90,-80,-70,-60,-50,-40,-30,-20,-10,0,10,20,30,40,50,60,70,80,90]\n",
    "mer_lon2 = [0,0,0,0,0,0,0,0,0,0,0,0,0,0,0,0,0,0,0]\n",
    "\n",
    "#zero meridian\n",
    "contours.append( dict(\n",
    "        type = 'scattergeo',\n",
    "        hoverinfo='text',\n",
    "        text= '0° Prime meridian',\n",
    "        name = '0° Prime meridian',\n",
    "        lon = mer_lon2,\n",
    "        lat = mer_lat2,\n",
    "        mode = 'lines',\n",
    "        line = dict(\n",
    "            width = 3,\n",
    "            color = 'green'\n",
    "        )\n",
    "    ) )\n",
    "\n",
    "contours.append( dict(\n",
    "        type = 'scattergeo',\n",
    "        hoverinfo='text',\n",
    "        text= '180° International Date Line',\n",
    "        name = '180° International Date Line',\n",
    "        lon = mer_lon1,\n",
    "        lat = mer_lat1,\n",
    "        mode = 'lines',\n",
    "        line = dict(\n",
    "            width = 3,\n",
    "            color = 'green'\n",
    "        )\n",
    "    ) )\n",
    "\n",
    "#west hemispere\n",
    "for i in range (1,18):\n",
    "    contours.append( dict(\n",
    "        type = 'scattergeo',\n",
    "        hoverinfo='text',\n",
    "        text= str(10*i-180)+'° west',\n",
    "        name = str(10*i-180)+'° west',\n",
    "        lat = mer_lat1,\n",
    "        lon = [x+10*i for x in mer_lon1],\n",
    "        mode = 'lines',\n",
    "        line = dict(\n",
    "            width = 2,\n",
    "            color = 'rgb(244,109,67)'\n",
    "        )\n",
    "    ) )\n",
    "    \n",
    "#east hemispere\n",
    "for i in range (1,18):\n",
    "    contours.append( dict(\n",
    "        type = 'scattergeo',\n",
    "        hoverinfo='text',\n",
    "        text= str(10*i)+'° east',\n",
    "        name = str(10*i)+'° east',\n",
    "        lat = mer_lat2,\n",
    "        lon = [x+10*i for x in mer_lon2],\n",
    "        mode = 'lines',\n",
    "        line = dict(\n",
    "            width = 2,\n",
    "            color = 'rgb(50,136,189)'\n",
    "        )\n",
    "    ) )\n",
    "    \n",
    "\n",
    "\n",
    "layout = dict(\n",
    "        title = 'Meridians over globe<br>(Click and drag to rotate)',\n",
    "       # showlegend = False,         \n",
    "        geo = dict(\n",
    "            showland = True,\n",
    "            showlakes = True,\n",
    "            showcountries = True,\n",
    "            showocean = True,\n",
    "            countrywidth = 0.5,\n",
    "            lakecolor = 'rgb(255, 255, 255)',\n",
    "            oceancolor = 'rgb(255, 255, 255)',\n",
    "            landcolor = 'rgb(212, 212, 212)',\n",
    "            projection = dict( \n",
    "                type = 'orthographic',\n",
    "                rotation = dict(\n",
    "                    lon = -100,\n",
    "                    lat = 40,\n",
    "                    roll = 0\n",
    "                )            \n",
    "            ),\n",
    "    \n",
    "        )\n",
    "    )\n",
    "    \n",
    "fig = dict( data=contours, layout=layout )\n",
    "iplot( fig, validate=False )"
   ]
  },
  {
   "cell_type": "markdown",
   "metadata": {},
   "source": [
    "### Questions\n",
    "\n",
    "\n",
    "\n",
    "1. Can you locate the Prime Meridian? \n",
    "    A. What city in Great Britain does it pass through? \n",
    "    B. What other countries does the Prime Meridian pass through?\n",
    "2. Locate Canada on the globe. Is Canada located in the Eastern or Western Hemisphere?\n",
    "3. Approximately what lines of latitude is Canada located between?"
   ]
  },
  {
   "cell_type": "markdown",
   "metadata": {},
   "source": [
    "## Looking at Canada's map\n",
    "Lets display some of the Canadian cities on the map.\n",
    "\n",
    "From the map below, if you hover your mouse over different cities, their latitude and longitude locations are  displayed as a pair of numbers: `(longitude, latitude)`. For example, if you hover your mouse over Ottawa, you will see: (-75.7, 45.42). This tells us that that Ottawa is located 75.7 degrees west (longitude) and 45.42 degrees north (latitude)."
   ]
  },
  {
   "cell_type": "code",
   "execution_count": null,
   "metadata": {
    "scrolled": false
   },
   "outputs": [],
   "source": [
    "import chart_studio.plotly as py\n",
    "import pandas as pd\n",
    "\n",
    "df = pd.read_csv('https://raw.githubusercontent.com/plotly/datasets/master/2011_february_us_airport_traffic.csv')\n",
    "df.head()\n",
    "name=[\"Edmonton\", \"Victoria\",\"Winnipeg\",\"Fredericton\",\"St. John's\",\"Halifax\",\"Toronto\",\n",
    "      #\"Charlottetown\",\"Quebec City\", \n",
    "      \"Regina\",\"Whitehorse\",\"Iqaluit\",\"Yellowknife\", \"Ottawa\"]\n",
    "long=[-113.49,-123.37,-97.14,-66.64, -52.71, -63.57, -79.38,\n",
    "      #-63.13,-71.21,\n",
    "      -104.62,-135.06,-68.52,-114.38,-75.70]\n",
    "latt=[53.54,48.43,49.90,45.97, 47.56, 44.65, 43.65,\n",
    "      #46.238240,46.813878,\n",
    "      50.44,60.72,63.75,62.45,45.42]\n",
    "df['text'] = df['airport'] + '' + df['city'] + ', ' + df['state'] + '' + 'Arrivals: ' + df['cnt'].astype(str)\n",
    "\n",
    "data = [ dict(\n",
    "        type = 'scattergeo',\n",
    "        locationmode = 'north america',\n",
    "        lon = long,\n",
    "        lat = latt,\n",
    "        text = name,\n",
    "        mode = 'markers+text',\n",
    "        textposition= 'top',\n",
    "        marker = dict(\n",
    "            size = 8,\n",
    "            opacity = 0.8,\n",
    "            reversescale = True,\n",
    "            autocolorscale = False,\n",
    "            symbol = 'square',\n",
    "            line = dict(\n",
    "                width=1,\n",
    "                color='rgba(102, 102, 102)'\n",
    "            ),\n",
    "            color = 'red',\n",
    "        ))]\n",
    "\n",
    "layout = dict(\n",
    "        title = \"Some Canada's provincial capitals <br>(Hover for coordinates)\",\n",
    "        colorbar = True,\n",
    "        geo = dict(\n",
    "            scope = 'north america',\n",
    "            showland = True,\n",
    "            landcolor = \"rgb(212, 212, 212)\",\n",
    "            countrycolor = \"rgb(255, 255, 255)\",\n",
    "            showlakes = True,\n",
    "            lakecolor = \"rgb(255, 255, 255)\",\n",
    "            showsubunits = False,\n",
    "            showcountries = True,\n",
    "            resolution = 50,\n",
    "            projection = dict(\n",
    "                type = 'kavrayskiy7',\n",
    "            ),\n",
    "            lonaxis = dict(\n",
    "                showgrid = True,\n",
    "                gridcolor ='rgb(244,109,67)',\n",
    "                gridwidth = 2,\n",
    "                range= [ -140, -50 ],\n",
    "                dtick = 10\n",
    "            ),\n",
    "            lataxis = dict (\n",
    "                showgrid = True,\n",
    "                gridcolor ='rgb(50,136,189)',\n",
    "                gridwidth = 2,\n",
    "                range= [ 40.0, 80.0 ],\n",
    "                dtick = 10\n",
    "            )\n",
    "        )\n",
    "    )\n",
    "\n",
    "fig = dict( data=data, layout=layout )\n",
    "iplot( fig, validate=False )"
   ]
  },
  {
   "cell_type": "markdown",
   "metadata": {},
   "source": [
    "### Questions \n",
    "\n",
    "1. Are there any negative values of latitude and longitude in Canada? Why or why not?\n",
    "2. What's the northern most Canadian city on the map? What are its coordinates?\n",
    "3. Locate Winnipeg and Regina, and note down their coordinates. What do you notice about their latitude values? What does this tell you?\n",
    "4. Locate both Edmonton and Yellowknife.\n",
    "    A. What is the difference between their latitudes?\n",
    "    B. What does the distance between their latitudes tell you?\n",
    "    C. Given that 1 degree of latitude covers approximately 111 km, calculate the distance between these cities. \n",
    "\n",
    "(Answer: (62.45-53.54)*111=989.01km )\n"
   ]
  },
  {
   "cell_type": "markdown",
   "metadata": {},
   "source": [
    "Now that we have a good understanding of what Latitude and Longitudes are, let's use them to plot the residential schools on a map. "
   ]
  },
  {
   "cell_type": "code",
   "execution_count": null,
   "metadata": {},
   "outputs": [],
   "source": [
    "df = pd.read_csv('https://raw.githubusercontent.com/plotly/datasets/master/2011_february_us_airport_traffic.csv')\n",
    "df.head()\n",
    "name=[\"Edmonton\", \"Victoria\",\"Winnipeg\",\"Fredericton\",\"St. John's\",\"Halifax\",\"Toronto\",\n",
    "      #\"Charlottetown\",\"Quebec City\", \n",
    "      \"Regina\",\"Whitehorse\",\"Iqaluit\",\"Yellowknife\", \"Ottawa\"]\n",
    "long=[-113.49,-123.37,-97.14,-66.64, -52.71, -63.57, -79.38,\n",
    "      #-63.13,-71.21,\n",
    "      -104.62,-135.06,-68.52,-114.38,-75.70]\n",
    "latt=[53.54,48.43,49.90,45.97, 47.56, 44.65, 43.65,\n",
    "      #46.238240,46.813878,\n",
    "      50.44,60.72,63.75,62.45,45.42]\n",
    "df['text'] = df['airport'] + '' + df['city'] + ', ' + df['state'] + '' + 'Arrivals: ' + df['cnt'].astype(str)\n",
    "\n",
    "\n",
    "N = 500\n",
    "\n",
    "trace0 = go.Scattergeo(\n",
    "    locationmode = 'country names',\n",
    "    lon = long,\n",
    "    lat = latt,\n",
    "    text = name,\n",
    "    name = 'Cities',\n",
    "    mode = 'markers+text',\n",
    "        textposition= 'top right',\n",
    "        marker = dict(\n",
    "            size = 8,\n",
    "            opacity = 0.8,\n",
    "            reversescale = True,\n",
    "            autocolorscale = False,\n",
    "            symbol = 'square',\n",
    "            \n",
    "            color = 'red',\n",
    "        )\n",
    ")\n",
    "\n",
    "trace1 = go.Scattergeo(\n",
    "    lat = residential_df['Latitude'],\n",
    "    lon = residential_df['Longitude'],\n",
    "    text = residential_df['map_name']+ '<br>'+'From:  '+residential_df['From']+'<br>' +'To:  '+residential_df['To'],\n",
    "    name = 'Schools',\n",
    "    marker = dict(\n",
    "    opacity = 0.8,\n",
    "    color = 'blue')\n",
    "    )\n",
    "\n",
    "data = [trace0, trace1]\n",
    "\n",
    "layout = dict(\n",
    "        geo = dict(\n",
    "            scope = 'north america',\n",
    "            showland = True,\n",
    "            landcolor = \"rgb(212, 212, 212)\",\n",
    "            countrycolor = \"rgb(255, 255, 255)\",\n",
    "            showlakes = True,\n",
    "            lakecolor = \"rgb(255, 255, 255)\",\n",
    "            showsubunits = True,\n",
    "            showcountries = True,\n",
    "            resolution = 50,\n",
    "            projection = dict(\n",
    "                type = 'kavrayskiy7',\n",
    "            ),\n",
    "            lonaxis = dict(\n",
    "                showgrid = False,\n",
    "                range= [ -140, -50 ],\n",
    "                dtick = 10\n",
    "            ),\n",
    "            lataxis = dict (\n",
    "                showgrid = False,\n",
    "                range= [ 40.0, 80.0 ],\n",
    "                dtick = 10\n",
    "            )\n",
    "        )\n",
    "             )\n",
    "\n",
    "fig = dict(data=data, layout=layout)\n",
    "iplot(fig, filename='styled-scatter')"
   ]
  },
  {
   "cell_type": "markdown",
   "metadata": {},
   "source": [
    "### Questions\n",
    "\n",
    "\n",
    "\n",
    "1. What was the last residential school to be opened and in which province was it located?\n",
    "(Hint: Hover over each marker to find out the name and year of operation)\n",
    "2. Locate a residential school that is close to where you currently live or go to school. Write down the name of the school and years of operation. \n",
    "3. How many schools were there in your province of residence?"
   ]
  },
  {
   "cell_type": "markdown",
   "metadata": {},
   "source": [
    "To make answering to question 3 in the above section a little easier, let us build a table by grouping number of schools by their province."
   ]
  },
  {
   "cell_type": "code",
   "execution_count": null,
   "metadata": {},
   "outputs": [],
   "source": [
    "province_count = residential_df.groupby(by='Province o', as_index=False).agg({'Atlas_pg': pd.Series.nunique})\n",
    "province_count.columns = ['Province', 'No. of Schools']\n",
    "province_count.sort_values(by=['No. of Schools'])"
   ]
  },
  {
   "cell_type": "markdown",
   "metadata": {},
   "source": [
    "The resulting table shows that the province with least residential schools was Nova Scotia with only 1 school in the provicne and Alberta had most number of residential schools with about 33 schools in the province. "
   ]
  },
  {
   "cell_type": "markdown",
   "metadata": {},
   "source": [
    "The Shingwauk Residential School Centre at Algoma University has put together a dataset with list of residential schools with information about their names, location, dates of operation, religion that the school followed, and some notes about them. It is to be noted that this may not be a definitive or complete list as it was created as part of their work in process as a community archive.\n",
    "\n",
    "Take a look at this second dataset below and try to answer the questions that follow."
   ]
  },
  {
   "cell_type": "code",
   "execution_count": null,
   "metadata": {},
   "outputs": [],
   "source": [
    "shingwauk_df = pd.read_excel('data/IRSList2018.xlsx')\n",
    "shingwauk_df"
   ]
  },
  {
   "cell_type": "markdown",
   "metadata": {},
   "source": [
    "### Questions\n",
    "\n",
    "1. Can you identify two differences between this dataset and the previous one? Please describe them.\n",
    "2. What information is missing that is required to plot these schools on a map?"
   ]
  },
  {
   "cell_type": "markdown",
   "metadata": {},
   "source": [
    "Like we already discussed in previous sections, to plot a location on map we need to have two data points, latitude and longitude. Geocoding the process of converting addresses into geographic coordinates (latitudes and longitudes). Below you'll see the complete geocoded dataset with the latitude and longitude values pointing to the city mentioned under the location column."
   ]
  },
  {
   "cell_type": "code",
   "execution_count": null,
   "metadata": {},
   "outputs": [],
   "source": [
    "### This is the code that was used to geocode the locations and write them to a new file\n",
    "\n",
    "# # we may have to download the geocoder before running the rest of the code.\n",
    "# #!pip install -U geocoder\n",
    "# import geocoder\n",
    "# import time\n",
    "# import csv\n",
    "\n",
    "# # Read the file and get Residential schools into a list.\n",
    "# file_in = pd.read_excel('data/IRSList2018.xlsx', sheet_name=0, header=0)\n",
    "\n",
    "# # Get the location information into a list\n",
    "# addresses = file_in['Location']\n",
    "\n",
    "# # Loop over the location list and geocode each location and add their coordinates to a list\n",
    "# results = []\n",
    "# geocode_done = False\n",
    "# for address in addresses:\n",
    "#     geocode_result = geocoder.google(address)\n",
    "#     print(geocode_result.status)\n",
    "#     if geocode_result.status == 'OVER_QUERY_LIMIT':\n",
    "#         time.sleep(120)\n",
    "#         geocode_result = geocoder.google(address)\n",
    "#     elif geocode_result.status != 'OK':\n",
    "#         geocode_result = geocoder.osm(address)\n",
    "    \n",
    "#     if geocode_result.status == 'ERROR - No results':\n",
    "#             time.sleep(60)\n",
    "#             geocode_result = geocoder.google(address)\n",
    "        \n",
    "#     results.append(geocode_result.json)\n",
    "# results\n",
    "\n",
    "# # Loop over the latitude and longitude list and add them to the \n",
    "# # original pandas dataframe that has the rest of the school information\n",
    "\n",
    "# lat_list = []\n",
    "# lng_list = []\n",
    "# for result in results:\n",
    "#     if result is not None:\n",
    "#         lat_list.append(result['lat'])\n",
    "#         lng_list.append(result['lng'])\n",
    "#     else:\n",
    "#         print(\"its none\")\n",
    "#         lat_list.append(0)\n",
    "#         lng_list.append(0)\n",
    "        \n",
    "        \n",
    "# file_in[\"latitude\"] = lat_list\n",
    "# file_in[\"longitude\"] = lng_list\n",
    "\n",
    "# # write the dataframe to a file\n",
    "# file_in.to_csv(\"data/IRSlist_with_latlng.csv\")"
   ]
  },
  {
   "cell_type": "code",
   "execution_count": null,
   "metadata": {},
   "outputs": [],
   "source": [
    "latlng_df = pd.read_csv('data/IRSlist_with_latlng.csv', sep=\"\\t\")\n",
    "latlng_df.loc[latlng_df[\"Dates\"].isnull()]"
   ]
  },
  {
   "cell_type": "markdown",
   "metadata": {},
   "source": [
    "Now let us plot the schools onto the previous map, so we can compare and contrast the two datasets. The blue markers represent the residential schools listed in the first dataset while yellow markers respresent the schools listed in the second dataset. \n",
    "\n",
    "Since we geolocated the latitude and longitude values in the second dataset to their nearest city or town listed in the location column, they may not represent the precise location of the school while in the first dataset we had the precise geographic coordinates for most of the schools. If you hover over the data points on the map you'll see that some of schools from the two datasets align perfectly at the same location while some do not. \n",
    "\n",
    "The orange or brown markers are nothing but a few of blue and yellow markers super imposed at a single location."
   ]
  },
  {
   "cell_type": "code",
   "execution_count": null,
   "metadata": {},
   "outputs": [],
   "source": [
    "df = pd.read_csv('https://raw.githubusercontent.com/plotly/datasets/master/2011_february_us_airport_traffic.csv')\n",
    "df.head()\n",
    "name=[\"Edmonton\", \"Victoria\",\"Winnipeg\",\"Fredericton\",\"St. John's\",\"Halifax\",\"Toronto\",\n",
    "      #\"Charlottetown\",\"Quebec City\", \n",
    "      \"Regina\",\"Whitehorse\",\"Iqaluit\",\"Yellowknife\", \"Ottawa\"]\n",
    "long=[-113.49,-123.37,-97.14,-66.64, -52.71, -63.57, -79.38,\n",
    "      #-63.13,-71.21,\n",
    "      -104.62,-135.06,-68.52,-114.38,-75.70]\n",
    "latt=[53.54,48.43,49.90,45.97, 47.56, 44.65, 43.65,\n",
    "      #46.238240,46.813878,\n",
    "      50.44,60.72,63.75,62.45,45.42]\n",
    "df['text'] = df['airport'] + '' + df['city'] + ', ' + df['state'] + '' + 'Arrivals: ' + df['cnt'].astype(str)\n",
    "\n",
    "\n",
    "N = 500\n",
    "\n",
    "trace0 = go.Scattergeo(\n",
    "    locationmode = 'country names',\n",
    "    lon = long,\n",
    "    lat = latt,\n",
    "    text = name,\n",
    "    name = 'Cities',\n",
    "    mode = 'markers+text',\n",
    "        textposition= 'top right',\n",
    "        marker = dict(\n",
    "            size = 8,\n",
    "            opacity = 0.8,\n",
    "            reversescale = True,\n",
    "            autocolorscale = False,\n",
    "            symbol = 'square',\n",
    "            \n",
    "            color = 'red',\n",
    "        )\n",
    ")\n",
    "\n",
    "trace1 = go.Scattergeo(\n",
    "    lat = residential_df['Latitude'],\n",
    "    lon = residential_df['Longitude'],\n",
    "    text = residential_df['map_name']+ '<br>'+'From:  '+residential_df['From']+'<br>' +'To:  '+residential_df['To'],\n",
    "    name = 'Schools dataset 1',\n",
    "    marker = dict(\n",
    "    opacity = 0.8,\n",
    "    color = 'blue')\n",
    "    )\n",
    "\n",
    "trace2 = go.Scattergeo(\n",
    "    lat = latlng_df['latitude'],\n",
    "    lon = latlng_df['longitude'],\n",
    "    text = latlng_df['School Name']+ '<br>' + latlng_df['Location']+ '<br>'+'From - To '+ latlng_df['Dates']+'<br>' +':  ',\n",
    "    name = 'Schools dataset 2',\n",
    "    marker = dict(\n",
    "    opacity = 0.6,\n",
    "    color = 'orange')\n",
    "    )\n",
    "\n",
    "data = [trace0, trace1, trace2]\n",
    "\n",
    "layout = dict(\n",
    "        geo = dict(\n",
    "            scope = 'north america',\n",
    "            showland = True,\n",
    "            landcolor = \"rgb(212, 212, 212)\",\n",
    "            countrycolor = \"rgb(255, 255, 255)\",\n",
    "            showlakes = True,\n",
    "            lakecolor = \"rgb(255, 255, 255)\",\n",
    "            showsubunits = True,\n",
    "            showcountries = True,\n",
    "            resolution = 50,\n",
    "            projection = dict(\n",
    "                type = 'kavrayskiy7',\n",
    "            ),\n",
    "            lonaxis = dict(\n",
    "                showgrid = False,\n",
    "                range= [ -140, -50 ],\n",
    "                dtick = 10\n",
    "            ),\n",
    "            lataxis = dict (\n",
    "                showgrid = False,\n",
    "                range= [ 40.0, 80.0 ],\n",
    "                dtick = 10\n",
    "            )\n",
    "        )\n",
    "             )\n",
    "\n",
    "fig = dict(data=data, layout=layout)\n",
    "iplot(fig, filename='styled-scatter')"
   ]
  },
  {
   "cell_type": "markdown",
   "metadata": {},
   "source": [
    "### Questions\n",
    "\n",
    "1. Identify 1 school in your province (if any) that has locations slightly different in the two datasets and note down their geographic coordinates.\n",
    "2. Identify 1 school in your province (if any) whose location information match pretty closely in the two datasets and note down their geographic coordinates. \n",
    "3. Why is it important to have precise location information?"
   ]
  },
  {
   "cell_type": "markdown",
   "metadata": {},
   "source": [
    "## Calls to action"
   ]
  },
  {
   "cell_type": "markdown",
   "metadata": {},
   "source": [
    "The report that the Truth and Reconciliation commission published after hearing to thousands of residential school survivors paved way to construct 94 Calls to action: which were individual instructions to guide governments, communities and faith groups down the road to reconciliation. These 94 calls to action can be categorized into six themes: Child Welfare, Education, Language & Culture, Health, Justice, Reconciliation.\n",
    "\n",
    "CBCNews put up an interactive webpage called [Beyond94](www.cbc.ca/beyond94) dedicated to track the progress of these 94 calls to action. This webpage gives detailed information on all of these 94 calls to action and CBC's analysis on what has been acheived so for, what is in progress and what is yet to be started."
   ]
  },
  {
   "cell_type": "markdown",
   "metadata": {},
   "source": [
    "### Questions\n",
    "\n",
    "Take a look at the [Beyond94](www.cbc.ca/beyond94) page to answer questions below:\n",
    "\n",
    "1. How many Calls to action are in progress? \n",
    "2. List the Calls to actions that has already been completed?\n",
    "3. Pick any one Call to Action under the theme \"Justice\", give a summary of what it means and write about its progress."
   ]
  },
  {
   "cell_type": "markdown",
   "metadata": {},
   "source": [
    "[![Callysto.ca License](https://github.com/callysto/curriculum-notebooks/blob/master/callysto-notebook-banner-bottom.jpg?raw=true)](https://github.com/callysto/curriculum-notebooks/blob/master/LICENSE.md)"
   ]
  }
 ],
 "metadata": {
  "kernelspec": {
   "display_name": "Python 3",
   "language": "python",
   "name": "python3"
  },
  "language_info": {
   "codemirror_mode": {
    "name": "ipython",
    "version": 3
   },
   "file_extension": ".py",
   "mimetype": "text/x-python",
   "name": "python",
   "nbconvert_exporter": "python",
   "pygments_lexer": "ipython3",
   "version": "3.7.6"
  }
 },
 "nbformat": 4,
 "nbformat_minor": 2
}

{
 "cells": [
  {
   "cell_type": "markdown",
   "metadata": {},
   "source": [
    "<img src = 'images/Callysto_Notebook-Banner_Top.jpg'>"
   ]
  },
  {
   "cell_type": "code",
   "execution_count": 1,
   "metadata": {},
   "outputs": [],
   "source": [
    "import numpy as np\n",
    "import matplotlib.pyplot as plt\n",
    "from IPython.display import display, Math, Latex, HTML, clear_output, Markdown\n",
    "import ipywidgets as widgets\n",
    "from ipywidgets import interact, FloatSlider, IntSlider, interactive\n",
    "from traitlets import traitlets\n",
    "%matplotlib notebook\n",
    "\n",
    "#Above, we are importing all the necessary modules in order to run the notebook. \n",
    "#Numpy allows us to define arrays of values for our variables to plot them\n",
    "#matplotlib is what we use to create the figures\n",
    "#the display and widgets are to make the notebook look neat\n"
   ]
  },
  {
   "cell_type": "code",
   "execution_count": 2,
   "metadata": {},
   "outputs": [
    {
     "data": {
      "text/html": [
       "<script>\n",
       "  function code_toggle() {\n",
       "    if (code_shown){\n",
       "      $('div.input').hide('500');\n",
       "      $('#toggleButton').val('Show Code')\n",
       "    } else {\n",
       "      $('div.input').show('500');\n",
       "      $('#toggleButton').val('Hide Code')\n",
       "    }\n",
       "    code_shown = !code_shown\n",
       "  }\n",
       "  \n",
       "  $( document ).ready(function(){\n",
       "    code_shown=false;\n",
       "    $('div.input').hide()\n",
       "  });\n",
       "</script>\n",
       "<form action=\"javascript:code_toggle()\"><input type=\"submit\" id=\"toggleButton\" value=\"Show Code\"></form>"
      ],
      "text/plain": [
       "<IPython.core.display.HTML object>"
      ]
     },
     "execution_count": 2,
     "metadata": {},
     "output_type": "execute_result"
    }
   ],
   "source": [
    "HTML('''<script>\n",
    "  function code_toggle() {\n",
    "    if (code_shown){\n",
    "      $('div.input').hide('500');\n",
    "      $('#toggleButton').val('Show Code')\n",
    "    } else {\n",
    "      $('div.input').show('500');\n",
    "      $('#toggleButton').val('Hide Code')\n",
    "    }\n",
    "    code_shown = !code_shown\n",
    "  }\n",
    "  \n",
    "  $( document ).ready(function(){\n",
    "    code_shown=false;\n",
    "    $('div.input').hide()\n",
    "  });\n",
    "</script>\n",
    "<form action=\"javascript:code_toggle()\"><input type=\"submit\" id=\"toggleButton\" value=\"Show Code\"></form>''')\n"
   ]
  },
  {
   "cell_type": "markdown",
   "metadata": {},
   "source": [
    "# Heat and Temperature: The Nature of Thermal Energy\n",
    "\n",
    "In this Jupyter Notebook you will explore the nature of thermal energy and its effects on different forms of matter, using informal observations, experimental evidence and models. By the end of the notebook you will have gained an understanding on:\n",
    "\n",
    "- comparing heat transmission in different materials \n",
    "- explaining how heat is transmitted by conduction, convection and radiation in solids, liquids and gases\n",
    "- describing the effect of heat on the motion of particles; and explain changes of state, using the particle model of matter\n",
    "- distinguishing between heat and temperature; and explain temperature, using the concept of kinetic energy and the particle model of matter\n",
    "- investigating and describing the effects of heating and cooling on the volume of different materials, and identify applications of these effects\n",
    "\n",
    "Necessary Background:\n",
    "?\n",
    "\n",
    "\n",
    "Thermal energy applications are found throughout our daily lives; the means by which a refridgerator functions, the ways we power and heat our homes, the combustion which drives our engines are just a few of the many ways we use thermal energy to improve our lives. Consequentially, having a better understanding of the nature of thermal energy means having a better understanding of the world around us, natural and manufactured. \n",
    "\n",
    "---"
   ]
  },
  {
   "cell_type": "markdown",
   "metadata": {},
   "source": [
    "## Heat vs. Temperature\n",
    "\n",
    "The difference between temperature and heat is quite subtle. Understanding the difference between heat and temperature will be fundamental to comprehending the rest of the content of the Notebook, so we'd better state the definitions formally:\n",
    "\n",
    "**Heat** is a type of energy transfer in which energy flows caused by a difference in Temperature. \n",
    "\n",
    "**Temperature** is a measure of the average heat or thermal energy of the molecules in a substance. \n",
    "\n",
    "These are simple explanations for the time being and will be elaborated upon over the course of this Notebook. Heat is  a microscopic quantity which gives rise to the macroscopic quantity of Temperature. We often think of these two concepts interchangably but they have fundamentally different meanings. Heat can be exchanged between bodies and temperature can be possessed by a body. \n",
    "\n",
    "Below are some ill-posed questions about heat and temperature. First, think about why the question does not make sense and then click \"Show Answer\" to see the exact reason why. Was your answer correct? If not, why?\n",
    "\n",
    "---"
   ]
  },
  {
   "cell_type": "code",
   "execution_count": null,
   "metadata": {},
   "outputs": [],
   "source": [
    "## Show answer button and questions"
   ]
  },
  {
   "cell_type": "markdown",
   "metadata": {},
   "source": [
    "# How is Heat Transmitted?\n",
    "\n",
    "There are three main methods of by which heat is transmitted: conduction, convection and radiation. Below we present the basic theory behind these methods of heat transfer and some applications of how we exploit them to improve our lives. Examples will provided where we analyze how the three different methods of heat transmission occur in natural processes. \n",
    "\n",
    "---"
   ]
  },
  {
   "cell_type": "markdown",
   "metadata": {},
   "source": [
    "## Conduction\n",
    "Heat transfer via **conduction** occurs when two bodies, with different temperatures, are in physical contact with each other. Conduction is how a stove top heats a pan or why a hot cup feels warm on your hand. Different materials, dependent on which state they are in, conduct heat differently. These differences are expressed by a material property $k$ which known as the thermal conductivity. \n",
    "\n",
    "<img src = \"images/thermal_conductivity.jpg\" width =\"480\" height=\"480\">\n",
    "\n",
    "<font size = \"0.5\"><center> https://www.khanacademy.org/science/physics/thermodynamics/specific-heat-and-heat-transfer/a/what-is-thermal-conductivity </center></font>\n",
    "\n",
    "\n",
    "This graphic provides an intuitive interpretion of the heat flow, denoted as $\\rm Q$ between two bodies in contact at surface $\\rm A$ with temperatures $\\rm T_1$ and $\\rm T_2$. Since the hotter material will transfer heat energy to the colder material, the thermal conductivity $\\rm k$ of the hotter body is of concern. Let's explore how thermal conductivity changes in the different materials.\n",
    "\n",
    "### Thermal Conductivity\n",
    "\n",
    "Materials with low thermal conductivity transfer heat slowly and materials with high conductivity transfer heat quickly. Can you think of some benefits of exploiting the thermal conductivity of a material for commercial use? Take a thermos for example, the whole purpose of the thermos is to keep the contained food or drink warm. Since the contents are warmer than thermos itself, they will exchange heat to the body of the thermos. We want the thermos to have a low thermal conductivity so it does not easily exchange heat with its environment, therefore preserving the Temperature of its contents. Here is an interesting video from Veritasium illustrating an interesting property of conduction and how it occurs differently in different materials. \n",
    "\n",
    "If you haven't heard of Veritasium before, I strongly encourage you to check it out. He thoroughly explains a broad range of topics in science and there's always something new to learn from each video. Press Shift+Enter on the next cell to see the video."
   ]
  },
  {
   "cell_type": "code",
   "execution_count": 3,
   "metadata": {},
   "outputs": [
    {
     "data": {
      "text/html": [
       "<iframe width=\"560\" height=\"315\" src=\"https://www.youtube.com/embed/vqDbMEdLiCs\" frameborder=\"0\" allow=\"autoplay; encrypted-media\" allowfullscreen></iframe>"
      ],
      "text/plain": [
       "<IPython.core.display.HTML object>"
      ]
     },
     "execution_count": 3,
     "metadata": {},
     "output_type": "execute_result"
    }
   ],
   "source": [
    "HTML('<iframe width=\"560\" height=\"315\" src=\"https://www.youtube.com/embed/vqDbMEdLiCs\" frameborder=\"0\" allow=\"autoplay; encrypted-media\" allowfullscreen></iframe>')"
   ]
  },
  {
   "cell_type": "code",
   "execution_count": 5,
   "metadata": {},
   "outputs": [],
   "source": [
    "#Explain how conduction changes in different materials and how we use this to our advantage\n",
    "#i.e. the lining of mugs, insulation, etc.."
   ]
  },
  {
   "cell_type": "code",
   "execution_count": 6,
   "metadata": {},
   "outputs": [],
   "source": [
    "#convection\n",
    "#talk about the atmosphere and how convection transports heat.\n",
    "# include some data visualizations on convective heat transfer"
   ]
  },
  {
   "cell_type": "markdown",
   "metadata": {},
   "source": [
    "## Convection\n",
    "\n",
    "Heat transfer via **convection** occurs due to the movement of molecules in a fluid (gas or liquid). Personally, I tend to think of heat transfer in terms of convection. Since it involves the flow of a gas or liquid from a warmer to a colder temperature within the fluid, I believe it is the most intuitive to visualize. Convection does not occur in solid materials because the molecules that make up a solid do not have the ability to flow; this is what makes a solid a solid. Not unlike conduction, convection occurs from the flow a heat energy due a temperature difference within a fluid. The hotter fluid flows to regions where the fluid is cooler. It is the process which governs the currents in our oceans and the movement of air in our atmosphere. Our understanding of convection has helped us understand how to forecast the weather and even how energy is transported within the sun! Below is an illustrative graphic of this phenomenon in the mantle of the earth. \n",
    "\n",
    "<img src = \"https://im5.ezgif.com/tmp/ezgif-5-ad43593b2f.gif\" width = \"400\" height=\"400\">\n",
    "\n",
    "---\n",
    "**Why does the movement occur?**\n",
    "\n",
    "If we consider a particle model of matter, the fluid moves due to changes in **kinetic energy** of the particles in the fluid. The hotter regions in the fluid, the ones with more heat energy, have more \"excited\" particles that are colliding into one another more frequently. These regions are less **dense** than the colder regions. In the colder regions, the particles are colliding into one another less frequently, thus these regions are more dense. The more dense regions in the fluid will sink, allowing for the hotter regions to rise. Convection is the reason why \"heat rises\". \n",
    "\n",
    "---\n",
    "**Examples of convective processes**\n",
    "\n",
    "- In stars, there is a zone in which energy is transported from the core of the star, where energy is produced by nuclear fusion, to the surface. The layer in which this occurs is known as the convective zone. Due to the complicated nature of energy transportation within stars, this proces is difficult to model and the subject of ongoing research within the field of stellar astrophysics.\n",
    "\n",
    "<img src = \"images/convectioninstarsdata.jpg\" width=\"400\" height=\"400\">\n",
    "<font size=\"0.5\"><center> https://phys.org/news/2016-07-astronomers-gain-insight-magnetic-field.html </center></font>\n",
    "\n",
    "- In the atmosphere, convection plays a major role in the creation of a thunderstorm. Clouds form as hotter air rises, carrying moisture with it. The air cools on its ascent, causing the moisture to condense. Condensation is the transition from gaseous to liquid state. If the air is instable enough, this process can occur for a longer time. This results in the formation of \"cumulonimbus clouds\", which are those very tall pillowy clouds which have the ability to produce thunder and lightning. Given enough moisture, instability in the air and convection (heat transfer), a thuderstorm is likely to occur. \n",
    "\n",
    "<img src = \"images/convectioninthunderstorms.jpg\" width = \"400\" height = \"400\" >\n",
    "<font size = \"0.5\"><center> https://www.britannica.com/science/thunderstorm </center></font>\n",
    "\n",
    "- In a pot filled with water on the stove, we observe convective heat transfer in the bubbles rising to the top of the pot. These are hotter, lense dense regions rising to the surface of the liquid. When these regions reach the point the that they are lense dense than the surrounding air, they will evaporate and undergo a transition of state from liquid to gas. \n",
    "\n",
    "<img src=\"images/pot_boiling.png\" width = \"400\" height = \"400\">\n",
    "\n",
    "<font size = 0.5> <center> https://dr282zn36sxxg.cloudfront.net/datastreams/f-d%3A5f69d56e0b81661f4564d03405f4cd0be18c94afbe66c30f9eb9a17b%2BIMAGE_THUMB_POSTCARD_TINY%2BIMAGE_THUMB_POSTCARD_TINY.1 </center></font>\n",
    "\n",
    "\n",
    "---"
   ]
  },
  {
   "cell_type": "markdown",
   "metadata": {},
   "source": [
    "## Radiation\n",
    "\n",
    "Radiation is our third and final form of heat transfer that we will discuss. Heat transfer via radiation occurs in all matter that has a temperature above absolute 0 (0 Kelvin). This occurs from a conversion of thermal energy into electromagnetic energy. Energy is \"radiated\" away from a body in the form of electromagnetic radiation, in other words \"light\" emanating from a hot object. This light varies in wavelength and is dependent on the temperature of the body; hotter objects emit radiation at shorter wavelengths that carry higher energy. For example, in a fire, you may have heard how the blue part of a fire is hotter than the red part. This is true and is due to the fact that blue light has a shorter wavelength than red light, and since the wavelength is dependent on the temperature of the material emmitting it, the blue portion of a fire is hotter. \n",
    "\n",
    "An interesting consequence of this fact comes from the analysis of the wavelengths of light radiated from the sun. Below is graphic showing the types of radiation emitted from the sun.\n",
    "\n",
    "\n",
    "<img src = \"images/earth_sun_plank.jpg\" width = \"400\" height =\"400\">\n",
    "<font size = \"0.5\"><center> http://apollo.lsc.vsc.edu/classes/met130/notes/chapter2/plank_e_sun.html </center></font> \n",
    "\n",
    "The most intensely radiated wavelength from the sun comes from the green part of visible light. Plants, trees, and even our eyes have become fine tuned to absorbing and perceiving more variations of the colour green because this is the most prominent radiation from the sun. Understanding thermal radiation has offered a scientific explanation on why our planet is so green. \n",
    "\n",
    "#Include some more explanations and exampled of thermal radiation\n",
    "\n",
    "\n",
    "Below a list of processes in which heat transfer occurs in different forms, you will be asked to check the box for which type of heat transfer you think is correct to match the description. Press Shift+Enter on the cell below the picture to initiate the exercise. Please only check one box per statement and then click \"Check\" to see if your answers were correct. \n",
    "\n",
    "\n",
    "### Boiling Water\n",
    "\n",
    "<img src=\"images/Boiling_Water_pic.jpg\" height = \"300\" width = \"300\"> \n",
    "\n",
    "---"
   ]
  },
  {
   "cell_type": "code",
   "execution_count": 31,
   "metadata": {},
   "outputs": [
    {
     "data": {
      "text/markdown": [
       "1) After you turn on the stove, you hold your hand above the stove and it feels hot."
      ],
      "text/plain": [
       "<IPython.core.display.Markdown object>"
      ]
     },
     "metadata": {},
     "output_type": "display_data"
    },
    {
     "data": {
      "application/vnd.jupyter.widget-view+json": {
       "model_id": "b60f83b4f9f249b7ad7c1c8e43c00409",
       "version_major": 2,
       "version_minor": 0
      },
      "text/html": [
       "<p>Failed to display Jupyter Widget of type <code>Checkbox</code>.</p>\n",
       "<p>\n",
       "  If you're reading this message in the Jupyter Notebook or JupyterLab Notebook, it may mean\n",
       "  that the widgets JavaScript is still loading. If this message persists, it\n",
       "  likely means that the widgets JavaScript library is either not installed or\n",
       "  not enabled. See the <a href=\"https://ipywidgets.readthedocs.io/en/stable/user_install.html\">Jupyter\n",
       "  Widgets Documentation</a> for setup instructions.\n",
       "</p>\n",
       "<p>\n",
       "  If you're reading this message in another frontend (for example, a static\n",
       "  rendering on GitHub or <a href=\"https://nbviewer.jupyter.org/\">NBViewer</a>),\n",
       "  it may mean that your frontend doesn't currently support widgets.\n",
       "</p>\n"
      ],
      "text/plain": [
       "Checkbox(value=False, description='Conduction')"
      ]
     },
     "metadata": {},
     "output_type": "display_data"
    },
    {
     "data": {
      "application/vnd.jupyter.widget-view+json": {
       "model_id": "00a300e1be054954a8f5b9ea5ef15d92",
       "version_major": 2,
       "version_minor": 0
      },
      "text/html": [
       "<p>Failed to display Jupyter Widget of type <code>Checkbox</code>.</p>\n",
       "<p>\n",
       "  If you're reading this message in the Jupyter Notebook or JupyterLab Notebook, it may mean\n",
       "  that the widgets JavaScript is still loading. If this message persists, it\n",
       "  likely means that the widgets JavaScript library is either not installed or\n",
       "  not enabled. See the <a href=\"https://ipywidgets.readthedocs.io/en/stable/user_install.html\">Jupyter\n",
       "  Widgets Documentation</a> for setup instructions.\n",
       "</p>\n",
       "<p>\n",
       "  If you're reading this message in another frontend (for example, a static\n",
       "  rendering on GitHub or <a href=\"https://nbviewer.jupyter.org/\">NBViewer</a>),\n",
       "  it may mean that your frontend doesn't currently support widgets.\n",
       "</p>\n"
      ],
      "text/plain": [
       "Checkbox(value=False, description='Convection')"
      ]
     },
     "metadata": {},
     "output_type": "display_data"
    },
    {
     "data": {
      "application/vnd.jupyter.widget-view+json": {
       "model_id": "bfdc715547664086b21132c86aede1b9",
       "version_major": 2,
       "version_minor": 0
      },
      "text/html": [
       "<p>Failed to display Jupyter Widget of type <code>Checkbox</code>.</p>\n",
       "<p>\n",
       "  If you're reading this message in the Jupyter Notebook or JupyterLab Notebook, it may mean\n",
       "  that the widgets JavaScript is still loading. If this message persists, it\n",
       "  likely means that the widgets JavaScript library is either not installed or\n",
       "  not enabled. See the <a href=\"https://ipywidgets.readthedocs.io/en/stable/user_install.html\">Jupyter\n",
       "  Widgets Documentation</a> for setup instructions.\n",
       "</p>\n",
       "<p>\n",
       "  If you're reading this message in another frontend (for example, a static\n",
       "  rendering on GitHub or <a href=\"https://nbviewer.jupyter.org/\">NBViewer</a>),\n",
       "  it may mean that your frontend doesn't currently support widgets.\n",
       "</p>\n"
      ],
      "text/plain": [
       "Checkbox(value=False, description='Radiation')"
      ]
     },
     "metadata": {},
     "output_type": "display_data"
    },
    {
     "data": {
      "text/markdown": [
       "2) The pot starts to heat up when placed on the stove."
      ],
      "text/plain": [
       "<IPython.core.display.Markdown object>"
      ]
     },
     "metadata": {},
     "output_type": "display_data"
    },
    {
     "data": {
      "application/vnd.jupyter.widget-view+json": {
       "model_id": "54554d46eba04c9d96e0a4865f2111f3",
       "version_major": 2,
       "version_minor": 0
      },
      "text/html": [
       "<p>Failed to display Jupyter Widget of type <code>Checkbox</code>.</p>\n",
       "<p>\n",
       "  If you're reading this message in the Jupyter Notebook or JupyterLab Notebook, it may mean\n",
       "  that the widgets JavaScript is still loading. If this message persists, it\n",
       "  likely means that the widgets JavaScript library is either not installed or\n",
       "  not enabled. See the <a href=\"https://ipywidgets.readthedocs.io/en/stable/user_install.html\">Jupyter\n",
       "  Widgets Documentation</a> for setup instructions.\n",
       "</p>\n",
       "<p>\n",
       "  If you're reading this message in another frontend (for example, a static\n",
       "  rendering on GitHub or <a href=\"https://nbviewer.jupyter.org/\">NBViewer</a>),\n",
       "  it may mean that your frontend doesn't currently support widgets.\n",
       "</p>\n"
      ],
      "text/plain": [
       "Checkbox(value=False, description='Conduction')"
      ]
     },
     "metadata": {},
     "output_type": "display_data"
    },
    {
     "data": {
      "application/vnd.jupyter.widget-view+json": {
       "model_id": "7cd13087530b46e3a692cd233822b305",
       "version_major": 2,
       "version_minor": 0
      },
      "text/html": [
       "<p>Failed to display Jupyter Widget of type <code>Checkbox</code>.</p>\n",
       "<p>\n",
       "  If you're reading this message in the Jupyter Notebook or JupyterLab Notebook, it may mean\n",
       "  that the widgets JavaScript is still loading. If this message persists, it\n",
       "  likely means that the widgets JavaScript library is either not installed or\n",
       "  not enabled. See the <a href=\"https://ipywidgets.readthedocs.io/en/stable/user_install.html\">Jupyter\n",
       "  Widgets Documentation</a> for setup instructions.\n",
       "</p>\n",
       "<p>\n",
       "  If you're reading this message in another frontend (for example, a static\n",
       "  rendering on GitHub or <a href=\"https://nbviewer.jupyter.org/\">NBViewer</a>),\n",
       "  it may mean that your frontend doesn't currently support widgets.\n",
       "</p>\n"
      ],
      "text/plain": [
       "Checkbox(value=False, description='Convection')"
      ]
     },
     "metadata": {},
     "output_type": "display_data"
    },
    {
     "data": {
      "application/vnd.jupyter.widget-view+json": {
       "model_id": "22c133cb3bd14ac39872192a83870c80",
       "version_major": 2,
       "version_minor": 0
      },
      "text/html": [
       "<p>Failed to display Jupyter Widget of type <code>Checkbox</code>.</p>\n",
       "<p>\n",
       "  If you're reading this message in the Jupyter Notebook or JupyterLab Notebook, it may mean\n",
       "  that the widgets JavaScript is still loading. If this message persists, it\n",
       "  likely means that the widgets JavaScript library is either not installed or\n",
       "  not enabled. See the <a href=\"https://ipywidgets.readthedocs.io/en/stable/user_install.html\">Jupyter\n",
       "  Widgets Documentation</a> for setup instructions.\n",
       "</p>\n",
       "<p>\n",
       "  If you're reading this message in another frontend (for example, a static\n",
       "  rendering on GitHub or <a href=\"https://nbviewer.jupyter.org/\">NBViewer</a>),\n",
       "  it may mean that your frontend doesn't currently support widgets.\n",
       "</p>\n"
      ],
      "text/plain": [
       "Checkbox(value=False, description='Radiation')"
      ]
     },
     "metadata": {},
     "output_type": "display_data"
    },
    {
     "data": {
      "text/markdown": [
       "3) Hot water rises to the surface of the pot."
      ],
      "text/plain": [
       "<IPython.core.display.Markdown object>"
      ]
     },
     "metadata": {},
     "output_type": "display_data"
    },
    {
     "data": {
      "application/vnd.jupyter.widget-view+json": {
       "model_id": "fd934935c07d4922acba9a4634b9fdcb",
       "version_major": 2,
       "version_minor": 0
      },
      "text/html": [
       "<p>Failed to display Jupyter Widget of type <code>Checkbox</code>.</p>\n",
       "<p>\n",
       "  If you're reading this message in the Jupyter Notebook or JupyterLab Notebook, it may mean\n",
       "  that the widgets JavaScript is still loading. If this message persists, it\n",
       "  likely means that the widgets JavaScript library is either not installed or\n",
       "  not enabled. See the <a href=\"https://ipywidgets.readthedocs.io/en/stable/user_install.html\">Jupyter\n",
       "  Widgets Documentation</a> for setup instructions.\n",
       "</p>\n",
       "<p>\n",
       "  If you're reading this message in another frontend (for example, a static\n",
       "  rendering on GitHub or <a href=\"https://nbviewer.jupyter.org/\">NBViewer</a>),\n",
       "  it may mean that your frontend doesn't currently support widgets.\n",
       "</p>\n"
      ],
      "text/plain": [
       "Checkbox(value=False, description='Conduction')"
      ]
     },
     "metadata": {},
     "output_type": "display_data"
    },
    {
     "data": {
      "application/vnd.jupyter.widget-view+json": {
       "model_id": "17134b5991be48e5b83861f22a02d5b4",
       "version_major": 2,
       "version_minor": 0
      },
      "text/html": [
       "<p>Failed to display Jupyter Widget of type <code>Checkbox</code>.</p>\n",
       "<p>\n",
       "  If you're reading this message in the Jupyter Notebook or JupyterLab Notebook, it may mean\n",
       "  that the widgets JavaScript is still loading. If this message persists, it\n",
       "  likely means that the widgets JavaScript library is either not installed or\n",
       "  not enabled. See the <a href=\"https://ipywidgets.readthedocs.io/en/stable/user_install.html\">Jupyter\n",
       "  Widgets Documentation</a> for setup instructions.\n",
       "</p>\n",
       "<p>\n",
       "  If you're reading this message in another frontend (for example, a static\n",
       "  rendering on GitHub or <a href=\"https://nbviewer.jupyter.org/\">NBViewer</a>),\n",
       "  it may mean that your frontend doesn't currently support widgets.\n",
       "</p>\n"
      ],
      "text/plain": [
       "Checkbox(value=False, description='Convection')"
      ]
     },
     "metadata": {},
     "output_type": "display_data"
    },
    {
     "data": {
      "application/vnd.jupyter.widget-view+json": {
       "model_id": "7fa986cd7044455abda8559cfa62d4ae",
       "version_major": 2,
       "version_minor": 0
      },
      "text/html": [
       "<p>Failed to display Jupyter Widget of type <code>Checkbox</code>.</p>\n",
       "<p>\n",
       "  If you're reading this message in the Jupyter Notebook or JupyterLab Notebook, it may mean\n",
       "  that the widgets JavaScript is still loading. If this message persists, it\n",
       "  likely means that the widgets JavaScript library is either not installed or\n",
       "  not enabled. See the <a href=\"https://ipywidgets.readthedocs.io/en/stable/user_install.html\">Jupyter\n",
       "  Widgets Documentation</a> for setup instructions.\n",
       "</p>\n",
       "<p>\n",
       "  If you're reading this message in another frontend (for example, a static\n",
       "  rendering on GitHub or <a href=\"https://nbviewer.jupyter.org/\">NBViewer</a>),\n",
       "  it may mean that your frontend doesn't currently support widgets.\n",
       "</p>\n"
      ],
      "text/plain": [
       "Checkbox(value=False, description='Radiation')"
      ]
     },
     "metadata": {},
     "output_type": "display_data"
    },
    {
     "data": {
      "text/markdown": [
       "4) Steam from the pot feels hot on your hand. (Somewhat tricky)"
      ],
      "text/plain": [
       "<IPython.core.display.Markdown object>"
      ]
     },
     "metadata": {},
     "output_type": "display_data"
    },
    {
     "data": {
      "application/vnd.jupyter.widget-view+json": {
       "model_id": "8540dda08918460aa542dde2c4936965",
       "version_major": 2,
       "version_minor": 0
      },
      "text/html": [
       "<p>Failed to display Jupyter Widget of type <code>Checkbox</code>.</p>\n",
       "<p>\n",
       "  If you're reading this message in the Jupyter Notebook or JupyterLab Notebook, it may mean\n",
       "  that the widgets JavaScript is still loading. If this message persists, it\n",
       "  likely means that the widgets JavaScript library is either not installed or\n",
       "  not enabled. See the <a href=\"https://ipywidgets.readthedocs.io/en/stable/user_install.html\">Jupyter\n",
       "  Widgets Documentation</a> for setup instructions.\n",
       "</p>\n",
       "<p>\n",
       "  If you're reading this message in another frontend (for example, a static\n",
       "  rendering on GitHub or <a href=\"https://nbviewer.jupyter.org/\">NBViewer</a>),\n",
       "  it may mean that your frontend doesn't currently support widgets.\n",
       "</p>\n"
      ],
      "text/plain": [
       "Checkbox(value=False, description='Conduction')"
      ]
     },
     "metadata": {},
     "output_type": "display_data"
    },
    {
     "data": {
      "application/vnd.jupyter.widget-view+json": {
       "model_id": "1ce9feafce3142adaabb82fe2bd984de",
       "version_major": 2,
       "version_minor": 0
      },
      "text/html": [
       "<p>Failed to display Jupyter Widget of type <code>Checkbox</code>.</p>\n",
       "<p>\n",
       "  If you're reading this message in the Jupyter Notebook or JupyterLab Notebook, it may mean\n",
       "  that the widgets JavaScript is still loading. If this message persists, it\n",
       "  likely means that the widgets JavaScript library is either not installed or\n",
       "  not enabled. See the <a href=\"https://ipywidgets.readthedocs.io/en/stable/user_install.html\">Jupyter\n",
       "  Widgets Documentation</a> for setup instructions.\n",
       "</p>\n",
       "<p>\n",
       "  If you're reading this message in another frontend (for example, a static\n",
       "  rendering on GitHub or <a href=\"https://nbviewer.jupyter.org/\">NBViewer</a>),\n",
       "  it may mean that your frontend doesn't currently support widgets.\n",
       "</p>\n"
      ],
      "text/plain": [
       "Checkbox(value=False, description='Convection')"
      ]
     },
     "metadata": {},
     "output_type": "display_data"
    },
    {
     "data": {
      "application/vnd.jupyter.widget-view+json": {
       "model_id": "fd8256d6a4574a42a67ca8923e9a589f",
       "version_major": 2,
       "version_minor": 0
      },
      "text/html": [
       "<p>Failed to display Jupyter Widget of type <code>Checkbox</code>.</p>\n",
       "<p>\n",
       "  If you're reading this message in the Jupyter Notebook or JupyterLab Notebook, it may mean\n",
       "  that the widgets JavaScript is still loading. If this message persists, it\n",
       "  likely means that the widgets JavaScript library is either not installed or\n",
       "  not enabled. See the <a href=\"https://ipywidgets.readthedocs.io/en/stable/user_install.html\">Jupyter\n",
       "  Widgets Documentation</a> for setup instructions.\n",
       "</p>\n",
       "<p>\n",
       "  If you're reading this message in another frontend (for example, a static\n",
       "  rendering on GitHub or <a href=\"https://nbviewer.jupyter.org/\">NBViewer</a>),\n",
       "  it may mean that your frontend doesn't currently support widgets.\n",
       "</p>\n"
      ],
      "text/plain": [
       "Checkbox(value=False, description='Radiation')"
      ]
     },
     "metadata": {},
     "output_type": "display_data"
    },
    {
     "data": {
      "application/vnd.jupyter.widget-view+json": {
       "model_id": "acd1b209936f40e7bcd0d23c22e81e43",
       "version_major": 2,
       "version_minor": 0
      },
      "text/html": [
       "<p>Failed to display Jupyter Widget of type <code>Button</code>.</p>\n",
       "<p>\n",
       "  If you're reading this message in the Jupyter Notebook or JupyterLab Notebook, it may mean\n",
       "  that the widgets JavaScript is still loading. If this message persists, it\n",
       "  likely means that the widgets JavaScript library is either not installed or\n",
       "  not enabled. See the <a href=\"https://ipywidgets.readthedocs.io/en/stable/user_install.html\">Jupyter\n",
       "  Widgets Documentation</a> for setup instructions.\n",
       "</p>\n",
       "<p>\n",
       "  If you're reading this message in another frontend (for example, a static\n",
       "  rendering on GitHub or <a href=\"https://nbviewer.jupyter.org/\">NBViewer</a>),\n",
       "  it may mean that your frontend doesn't currently support widgets.\n",
       "</p>\n"
      ],
      "text/plain": [
       "Button(description='Check', style=ButtonStyle())"
      ]
     },
     "metadata": {},
     "output_type": "display_data"
    },
    {
     "data": {
      "text/markdown": [
       "Correct! Here's why : </br></br>                           1. The stove top heats up and radiates energy away from it. This is what you feels in your hand as heat. </br>                           2. The stove top conducts heat to the pot since they are in physical contact with one another. </br>                           3. Heat is transferred by fluid motion within the water via convection. </br>                           4. The gas particles carry heat energy, in the form of kinetic energy, which gets transferred via physical contact with your hand and the steam. </br>                              Since the heat transfer occurs via physical contact, the process responsible for the heat transfer is conduction. "
      ],
      "text/plain": [
       "<IPython.core.display.Markdown object>"
      ]
     },
     "metadata": {},
     "output_type": "display_data"
    }
   ],
   "source": [
    "display(Markdown('1) After you turn on the stove, you hold your hand above the stove and it feels hot.'))\n",
    "\n",
    "a1=widgets.Checkbox(\n",
    "    value=False, #a false value means unchecked, while a checked value will be \"True\" \n",
    "    description='Conduction',\n",
    "    disabled=False)\n",
    "b1=widgets.Checkbox(\n",
    "    value=False, \n",
    "    description='Convection', \n",
    "    disabled=False)\n",
    "c1=widgets.Checkbox(\n",
    "    value=False,\n",
    "    description='Radiation', \n",
    "    disabled=False)\n",
    "\n",
    "display(a1)\n",
    "display(b1)\n",
    "display(c1)\n",
    "\n",
    "display(Markdown('2) The pot starts to heat up when placed on the stove.'))\n",
    "\n",
    "a2=widgets.Checkbox(\n",
    "    value=False, #a false value means unchecked, while a checked value will be \"True\" \n",
    "    description = 'Conduction',\n",
    "    disabled=False)\n",
    "b2=widgets.Checkbox(\n",
    "    value=False, \n",
    "    description='Convection', \n",
    "    disabled=False)\n",
    "c2=widgets.Checkbox(\n",
    "    value=False,\n",
    "    description='Radiation', \n",
    "    disabled=False)\n",
    "display(a2)\n",
    "display(b2)\n",
    "display(c2)\n",
    "\n",
    "display(Markdown('3) Hot water rises to the surface of the pot.'))\n",
    "\n",
    "a3=widgets.Checkbox(\n",
    "    value=False, #a false value means unchecked, while a checked value will be \"True\" \n",
    "    description = 'Conduction',\n",
    "    disabled=False)\n",
    "b3=widgets.Checkbox(\n",
    "    value=False, \n",
    "    description='Convection', \n",
    "    disabled=False)\n",
    "c3=widgets.Checkbox(\n",
    "    value=False,\n",
    "    description='Radiation', \n",
    "    disabled=False)\n",
    "display(a3)\n",
    "display(b3)\n",
    "display(c3)\n",
    "\n",
    "display(Markdown('4) Steam from the pot feels hot on your hand. (Somewhat tricky)'))\n",
    "a4=widgets.Checkbox(\n",
    "    value=False, #a false value means unchecked, while a checked value will be \"True\" \n",
    "    description = 'Conduction',\n",
    "    disabled=False)\n",
    "b4=widgets.Checkbox(\n",
    "    value=False, \n",
    "    description='Convection', \n",
    "    disabled=False)\n",
    "c4=widgets.Checkbox(\n",
    "    value=False,\n",
    "    description='Radiation', \n",
    "    disabled=False)\n",
    "display(a4)\n",
    "display(b4)\n",
    "display(c4)\n",
    "\n",
    "#create a button widget to check answers, again calling the button to display\n",
    "button_check = widgets.Button(description=\"Check\")\n",
    "display(button_check)\n",
    "\n",
    "wrongs = [a1.value,b1.value,b2.value,c2.value,a3.value,c3.value,b4.value,c4.value]\n",
    "rights = [c1.value, a2.value, b3.value, a4.value]\n",
    "def check_button(x):\n",
    "    if c1.value == a2.value == b3.value == a4.value and \\\n",
    "    a1.value == b1.value == b2.value == c2.value == a3.value == c3.value == b4.value == c4.value :\n",
    "        display(Markdown(\"Correct! Here's why : </br></br> \\\n",
    "                          1. The stove top heats up and radiates energy away from it. This is what you feels in your hand as heat. </br> \\\n",
    "                          2. The stove top conducts heat to the pot since they are in physical contact with one another. </br> \\\n",
    "                          3. Heat is transferred by fluid motion within the water via convection. </br> \\\n",
    "                          4. The gas particles carry heat energy, in the form of kinetic energy, which gets transferred via physical contact with your hand and the steam. </br> \\\n",
    "                             Since the heat transfer occurs via physical contact, the process responsible for the heat transfer is conduction. \"))\n",
    "    else:   \n",
    "        display(Latex(\"Those aren't quite correct, please try again.\"))\n",
    "button_check.on_click(check_button)\n",
    "\n",
    "## look into connecting all the checkboxes"
   ]
  },
  {
   "cell_type": "markdown",
   "metadata": {},
   "source": [
    "### Refridgerator\n",
    "\n",
    "<img src=\"images/fridge.jpg\" height = \"300\" width=\"300\">\n",
    "\n",
    "You will be asked additionally to indicate the direction of heat transfer for this exercise."
   ]
  },
  {
   "cell_type": "code",
   "execution_count": null,
   "metadata": {},
   "outputs": [],
   "source": [
    "display(Markdown(\"\"))"
   ]
  },
  {
   "cell_type": "markdown",
   "metadata": {},
   "source": [
    "## Changes of State\n",
    "\n",
    "Heat transfer plays a deciding role in the changes of state of matter (Solid, Liquid or Gas). Let's breakdown how heat energy changes the state and what these processes are called. Matter will be thought of a collection of particles, the behaviour of these particles is determined by the state of matter in which they are in. Heat transfer in matter can be thought of has the particles becoming \"excited\". They receive kinetic energy in the form of collision with other particles, in turn this cause the matter to \"heat up\". These excited particles are what we observe as heat transfer and measure as temperature. \n",
    "\n",
    "The different changes that occur in matter are visualized below. \n",
    "\n",
    "#create a graphic for the process\n",
    "\n",
    "\n"
   ]
  },
  {
   "cell_type": "markdown",
   "metadata": {},
   "source": [
    "### Moisture in the atmosphere\n",
    "\n",
    "<img src=\"images/_510379179.jpg\" width =\"300\" height =\"300\">"
   ]
  },
  {
   "cell_type": "markdown",
   "metadata": {},
   "source": [
    "<img src = 'images/Callysto_Notebook-Banners_Bottom.jpg'>"
   ]
  }
 ],
 "metadata": {
  "kernelspec": {
   "display_name": "Python 3",
   "language": "python",
   "name": "python3"
  },
  "language_info": {
   "codemirror_mode": {
    "name": "ipython",
    "version": 3
   },
   "file_extension": ".py",
   "mimetype": "text/x-python",
   "name": "python",
   "nbconvert_exporter": "python",
   "pygments_lexer": "ipython3",
   "version": "3.6.5"
  }
 },
 "nbformat": 4,
 "nbformat_minor": 2
}

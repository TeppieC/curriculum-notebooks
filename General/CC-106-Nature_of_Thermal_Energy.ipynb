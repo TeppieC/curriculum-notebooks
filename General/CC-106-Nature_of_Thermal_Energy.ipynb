{
 "cells": [
  {
   "cell_type": "markdown",
   "metadata": {},
   "source": [
    "<img src = 'images/Callysto_Notebook-Banner_Top.jpg'>"
   ]
  },
  {
   "cell_type": "code",
   "execution_count": 14,
   "metadata": {},
   "outputs": [],
   "source": [
    "import numpy as np\n",
    "import matplotlib.pyplot as plt\n",
    "from IPython.display import display, Math, Latex, HTML, clear_output, Markdown\n",
    "import ipywidgets as widgets\n",
    "from ipywidgets import interact, FloatSlider, IntSlider, interactive\n",
    "from traitlets import traitlets\n",
    "import plotly.offline as py\n",
    "import plotly.graph_objs as go\n",
    "from plotly.offline import init_notebook_mode, iplot\n",
    "\n",
    "%matplotlib notebook\n",
    "\n",
    "#Above, we are importing all the necessary modules in order to run the notebook. \n",
    "#Numpy allows us to define arrays of values for our variables to plot them\n",
    "#matplotlib is what we use to create the figures\n",
    "#the display and widgets are to make the notebook look neat\n"
   ]
  },
  {
   "cell_type": "code",
   "execution_count": 15,
   "metadata": {},
   "outputs": [
    {
     "data": {
      "text/html": [
       "<script>\n",
       "  function code_toggle() {\n",
       "    if (code_shown){\n",
       "      $('div.input').hide('500');\n",
       "      $('#toggleButton').val('Show Code')\n",
       "    } else {\n",
       "      $('div.input').show('500');\n",
       "      $('#toggleButton').val('Hide Code')\n",
       "    }\n",
       "    code_shown = !code_shown\n",
       "  }\n",
       "  \n",
       "  $( document ).ready(function(){\n",
       "    code_shown=false;\n",
       "    $('div.input').hide()\n",
       "  });\n",
       "</script>\n",
       "<form action=\"javascript:code_toggle()\"><input type=\"submit\" id=\"toggleButton\" value=\"Show Code\"></form>"
      ],
      "text/plain": [
       "<IPython.core.display.HTML object>"
      ]
     },
     "execution_count": 15,
     "metadata": {},
     "output_type": "execute_result"
    }
   ],
   "source": [
    "HTML('''<script>\n",
    "  function code_toggle() {\n",
    "    if (code_shown){\n",
    "      $('div.input').hide('500');\n",
    "      $('#toggleButton').val('Show Code')\n",
    "    } else {\n",
    "      $('div.input').show('500');\n",
    "      $('#toggleButton').val('Hide Code')\n",
    "    }\n",
    "    code_shown = !code_shown\n",
    "  }\n",
    "  \n",
    "  $( document ).ready(function(){\n",
    "    code_shown=false;\n",
    "    $('div.input').hide()\n",
    "  });\n",
    "</script>\n",
    "<form action=\"javascript:code_toggle()\"><input type=\"submit\" id=\"toggleButton\" value=\"Show Code\"></form>''')\n"
   ]
  },
  {
   "cell_type": "markdown",
   "metadata": {},
   "source": [
    "# Heat and Temperature: The Nature of Thermal Energy\n",
    "\n",
    "In this Jupyter Notebook you will explore the nature of thermal energy and its effects on different forms of matter, using informal observations, experimental evidence and models. By the end of the notebook you will have gained an understanding on:\n",
    "\n",
    "- comparing heat transmission in different materials \n",
    "- explaining how heat is transmitted by conduction, convection and radiation in solids, liquids and gases\n",
    "- describing the effect of heat on the motion of particles; and explain changes of state, using the particle model of matter\n",
    "- distinguishing between heat and temperature; and explain temperature, using the concept of kinetic energy and the particle model of matter\n",
    "- investigating and describing the effects of heating and cooling on the volume of different materials, and identify applications of these effects\n",
    "\n",
    "Necessary Background:\n",
    "?\n",
    "\n",
    "\n",
    "Thermal energy applications are found throughout our daily lives; the means by which a refridgerator functions, the ways we power and heat our homes, the combustion which drives our engines are just a few of the many ways we use thermal energy to improve our lives. Consequentially, having a better understanding of the nature of thermal energy means having a better understanding of the world around us, natural and manufactured. \n",
    "\n",
    "---"
   ]
  },
  {
   "cell_type": "markdown",
   "metadata": {},
   "source": [
    "## Heat vs. Temperature\n",
    "\n",
    "The difference between temperature and heat is quite subtle. Understanding the difference between heat and temperature will be fundamental to comprehending the rest of the content of the Notebook, so we'd better state the definitions formally:\n",
    "\n",
    "**Heat** is a type of energy transfer in which energy flows caused by a difference in Temperature. \n",
    "\n",
    "**Temperature** is a measure of the average heat or thermal energy of the molecules in a substance. \n",
    "\n",
    "These are simple explanations for the time being and will be elaborated upon over the course of this Notebook. Heat is  a microscopic quantity which gives rise to the macroscopic quantity of Temperature. We often think of these two concepts interchangably but they have fundamentally different meanings. Heat can be exchanged between bodies and temperature can be possessed by a body. \n",
    "\n",
    "Below are some ill-posed questions about heat and temperature. First, think about why the question does not make sense and then click \"Show Answer\" to see the exact reason why. Was your answer correct? If not, why?\n",
    "\n",
    "---"
   ]
  },
  {
   "cell_type": "code",
   "execution_count": 3,
   "metadata": {},
   "outputs": [],
   "source": [
    "## Show answer button and questions"
   ]
  },
  {
   "cell_type": "markdown",
   "metadata": {},
   "source": [
    "# How is Heat Transmitted?\n",
    "\n",
    "There are three main methods of by which heat is transmitted: conduction, convection and radiation. Below we present the basic theory behind these methods of heat transfer and some applications of how we exploit them to improve our lives. Examples will provided where we analyze how the three different methods of heat transmission occur in natural processes. \n",
    "\n",
    "---"
   ]
  },
  {
   "cell_type": "markdown",
   "metadata": {},
   "source": [
    "## Conduction\n",
    "Heat transfer via **conduction** occurs when two bodies, with different temperatures, are in physical contact with each other. Conduction is how a stove top heats a pan or why a hot cup feels warm on your hand. Different materials, dependent on which state they are in, conduct heat differently. These differences are expressed by a material property $k$ which known as the thermal conductivity. \n",
    "\n",
    "<img src = \"images/thermal_conductivity.jpg\" width =\"480\" height=\"480\">\n",
    "\n",
    "<font size = \"0.5\"><center> https://www.khanacademy.org/science/physics/thermodynamics/specific-heat-and-heat-transfer/a/what-is-thermal-conductivity </center></font>\n",
    "\n",
    "\n",
    "This graphic provides an intuitive interpretion of the heat flow, denoted as $\\rm Q$ between two bodies in contact at surface $\\rm A$ with temperatures $\\rm T_1$ and $\\rm T_2$. Since the hotter material will transfer heat energy to the colder material, the thermal conductivity $\\rm k$ of the hotter body is of concern. Let's explore how thermal conductivity changes in the different materials.\n",
    "\n",
    "### Thermal Conductivity\n",
    "\n",
    "Materials with low thermal conductivity transfer heat slowly and materials with high conductivity transfer heat quickly. Can you think of some benefits of exploiting the thermal conductivity of a material for commercial use? Take a thermos for example, the whole purpose of the thermos is to keep the contained food or drink warm. Since the contents are warmer than thermos itself, they will exchange heat to the body of the thermos. We want the thermos to have a low thermal conductivity so it does not easily exchange heat with its environment, therefore preserving the Temperature of its contents. Here is an interesting video from Veritasium illustrating an interesting property of conduction and how it occurs differently in different materials. \n",
    "\n",
    "If you haven't heard of Veritasium before, I strongly encourage you to check it out. He thoroughly explains a broad range of topics in science and there's always something new to learn from each video. Press Shift+Enter on the next cell to see the video."
   ]
  },
  {
   "cell_type": "code",
   "execution_count": 4,
   "metadata": {},
   "outputs": [
    {
     "data": {
      "text/html": [
       "<iframe width=\"560\" height=\"315\" src=\"https://www.youtube.com/embed/vqDbMEdLiCs\" frameborder=\"0\" allow=\"autoplay; encrypted-media\" allowfullscreen></iframe>"
      ],
      "text/plain": [
       "<IPython.core.display.HTML object>"
      ]
     },
     "execution_count": 4,
     "metadata": {},
     "output_type": "execute_result"
    }
   ],
   "source": [
    "HTML('<iframe width=\"560\" height=\"315\" src=\"https://www.youtube.com/embed/vqDbMEdLiCs\" frameborder=\"0\" allow=\"autoplay; encrypted-media\" allowfullscreen></iframe>')"
   ]
  },
  {
   "cell_type": "code",
   "execution_count": 5,
   "metadata": {},
   "outputs": [],
   "source": [
    "#Explain how conduction changes in different materials and how we use this to our advantage\n",
    "#i.e. the lining of mugs, insulation, etc.."
   ]
  },
  {
   "cell_type": "code",
   "execution_count": 6,
   "metadata": {},
   "outputs": [],
   "source": [
    "#convection\n",
    "#talk about the atmosphere and how convection transports heat.\n",
    "# include some data visualizations on convective heat transfer"
   ]
  },
  {
   "cell_type": "markdown",
   "metadata": {},
   "source": [
    "## Convection\n",
    "\n",
    "Heat transfer via **convection** occurs due to the movement of molecules in a fluid (gas or liquid). Personally, I tend to think of heat transfer in terms of convection. Since it involves the flow of a gas or liquid from a warmer to a colder temperature within the fluid, I believe it is the most intuitive to visualize. Convection does not occur in solid materials because the molecules that make up a solid do not have the ability to flow; this is what makes a solid a solid. Not unlike conduction, convection occurs from the flow a heat energy due a temperature difference within a fluid. The hotter fluid flows to regions where the fluid is cooler. It is the process which governs the currents in our oceans and the movement of air in our atmosphere. Our understanding of convection has helped us understand how to forecast the weather and even how energy is transported within the sun! Below is an illustrative graphic of this phenomenon in the mantle of the earth. \n",
    "\n",
    "<img src = \"https://im5.ezgif.com/tmp/ezgif-5-ad43593b2f.gif\" width = \"400\" height=\"400\">\n",
    "\n",
    "---\n",
    "**Why does the movement occur?**\n",
    "\n",
    "If we consider a particle model of matter, the fluid moves due to changes in **kinetic energy** of the particles in the fluid. The hotter regions in the fluid, the ones with more heat energy, have more \"excited\" particles that are colliding into one another more frequently. These regions are less **dense** than the colder regions. In the colder regions, the particles are colliding into one another less frequently, thus these regions are more dense. The more dense regions in the fluid will sink, allowing for the hotter regions to rise. Convection is the reason why \"heat rises\". \n",
    "\n",
    "---\n",
    "**Examples of convective processes**\n",
    "\n",
    "- In stars, there is a zone in which energy is transported from the core of the star, where energy is produced by nuclear fusion, to the surface. The layer in which this occurs is known as the convective zone. Due to the complicated nature of energy transportation within stars, this proces is difficult to model and the subject of ongoing research within the field of stellar astrophysics.\n",
    "\n",
    "<img src = \"images/convectioninstarsdata.jpg\" width=\"400\" height=\"400\">\n",
    "<font size=\"0.5\"><center> https://phys.org/news/2016-07-astronomers-gain-insight-magnetic-field.html </center></font>\n",
    "\n",
    "- In the atmosphere, convection plays a major role in the creation of a thunderstorm. Clouds form as hotter air rises, carrying moisture with it. The air cools on its ascent, causing the moisture to condense. Condensation is the transition from gaseous to liquid state. If the air is instable enough, this process can occur for a longer time. This results in the formation of \"cumulonimbus clouds\", which are those very tall pillowy clouds which have the ability to produce thunder and lightning. Given enough moisture, instability in the air and convection (heat transfer), a thuderstorm is likely to occur. \n",
    "\n",
    "<img src = \"images/convectioninthunderstorms.jpg\" width = \"400\" height = \"400\" >\n",
    "<font size = \"0.5\"><center> https://www.britannica.com/science/thunderstorm </center></font>\n",
    "\n",
    "- In a pot filled with water on the stove, we observe convective heat transfer in the bubbles rising to the top of the pot. These are hotter, lense dense regions rising to the surface of the liquid. When these regions reach the point the that they are lense dense than the surrounding air, they will evaporate and undergo a transition of state from liquid to gas. \n",
    "\n",
    "<img src=\"images/pot_boiling.png\" width = \"400\" height = \"400\">\n",
    "\n",
    "<font size = 0.5> <center> https://dr282zn36sxxg.cloudfront.net/datastreams/f-d%3A5f69d56e0b81661f4564d03405f4cd0be18c94afbe66c30f9eb9a17b%2BIMAGE_THUMB_POSTCARD_TINY%2BIMAGE_THUMB_POSTCARD_TINY.1 </center></font>\n",
    "\n",
    "\n",
    "---"
   ]
  },
  {
   "cell_type": "markdown",
   "metadata": {},
   "source": [
    "## Radiation\n",
    "\n",
    "Radiation is our third and final form of heat transfer that we will discuss. Heat transfer via radiation occurs in all matter that has a temperature above absolute 0 (0 Kelvin). This occurs from a conversion of thermal energy into electromagnetic energy. Energy is \"radiated\" away from a body in the form of electromagnetic radiation, in other words \"light\" emanating from a hot object. This light varies in wavelength and is dependent on the temperature of the body; hotter objects emit radiation at shorter wavelengths that carry higher energy. For example, in a fire, you may have heard how the blue part of a fire is hotter than the red part. This is true and is due to the fact that blue light has a shorter wavelength than red light, and since the wavelength is dependent on the temperature of the material emmitting it, the blue portion of a fire is hotter. \n",
    "\n",
    "An interesting consequence of this fact comes from the analysis of the wavelengths of light radiated from the sun. Below is graphic showing the types of radiation emitted from the sun.\n",
    "\n",
    "\n",
    "<img src = \"images/earth_sun_plank.jpg\" width = \"400\" height =\"400\">\n",
    "<font size = \"0.5\"><center> http://apollo.lsc.vsc.edu/classes/met130/notes/chapter2/plank_e_sun.html </center></font> \n",
    "\n",
    "The most intensely radiated wavelength from the sun comes from the green part of visible light. Plants, trees, and even our eyes have become fine tuned to absorbing and perceiving more variations of the colour green because this is the most prominent radiation from the sun. Understanding thermal radiation has offered a scientific explanation on why our planet is so green. \n",
    "\n",
    "#Include some more explanations and exampled of thermal radiation\n",
    "\n",
    "\n",
    "Below a list of processes in which heat transfer occurs in different forms, you will be asked to check the box for which type of heat transfer you think is correct to match the description. Press Shift+Enter on the cell below the picture to initiate the exercise. Please only check one box per statement and then click \"Check\" to see if your answers were correct. \n",
    "\n",
    "\n",
    "### Boiling Water\n",
    "\n",
    "<img src=\"images/Boiling_Water_pic.jpg\" height = \"300\" width = \"300\"> \n",
    "\n",
    "---"
   ]
  },
  {
   "cell_type": "code",
   "execution_count": 7,
   "metadata": {},
   "outputs": [
    {
     "data": {
      "text/markdown": [
       "1) After you turn on the stove, you hold your hand above the stove and it feels hot."
      ],
      "text/plain": [
       "<IPython.core.display.Markdown object>"
      ]
     },
     "metadata": {},
     "output_type": "display_data"
    },
    {
     "data": {
      "application/vnd.jupyter.widget-view+json": {
       "model_id": "5cb77a0724ce4c17b2cc92e0bd00fc14",
       "version_major": 2,
       "version_minor": 0
      },
      "text/html": [
       "<p>Failed to display Jupyter Widget of type <code>RadioButtons</code>.</p>\n",
       "<p>\n",
       "  If you're reading this message in the Jupyter Notebook or JupyterLab Notebook, it may mean\n",
       "  that the widgets JavaScript is still loading. If this message persists, it\n",
       "  likely means that the widgets JavaScript library is either not installed or\n",
       "  not enabled. See the <a href=\"https://ipywidgets.readthedocs.io/en/stable/user_install.html\">Jupyter\n",
       "  Widgets Documentation</a> for setup instructions.\n",
       "</p>\n",
       "<p>\n",
       "  If you're reading this message in another frontend (for example, a static\n",
       "  rendering on GitHub or <a href=\"https://nbviewer.jupyter.org/\">NBViewer</a>),\n",
       "  it may mean that your frontend doesn't currently support widgets.\n",
       "</p>\n"
      ],
      "text/plain": [
       "RadioButtons(options=('Conduction', 'Convection', 'Radiation'), value=None)"
      ]
     },
     "metadata": {},
     "output_type": "display_data"
    },
    {
     "data": {
      "text/markdown": [
       "2) The pot starts to heat up when placed on the stove."
      ],
      "text/plain": [
       "<IPython.core.display.Markdown object>"
      ]
     },
     "metadata": {},
     "output_type": "display_data"
    },
    {
     "data": {
      "application/vnd.jupyter.widget-view+json": {
       "model_id": "10beaa6cf3ef4ed3a79818b0194b694f",
       "version_major": 2,
       "version_minor": 0
      },
      "text/html": [
       "<p>Failed to display Jupyter Widget of type <code>RadioButtons</code>.</p>\n",
       "<p>\n",
       "  If you're reading this message in the Jupyter Notebook or JupyterLab Notebook, it may mean\n",
       "  that the widgets JavaScript is still loading. If this message persists, it\n",
       "  likely means that the widgets JavaScript library is either not installed or\n",
       "  not enabled. See the <a href=\"https://ipywidgets.readthedocs.io/en/stable/user_install.html\">Jupyter\n",
       "  Widgets Documentation</a> for setup instructions.\n",
       "</p>\n",
       "<p>\n",
       "  If you're reading this message in another frontend (for example, a static\n",
       "  rendering on GitHub or <a href=\"https://nbviewer.jupyter.org/\">NBViewer</a>),\n",
       "  it may mean that your frontend doesn't currently support widgets.\n",
       "</p>\n"
      ],
      "text/plain": [
       "RadioButtons(options=('Conduction', 'Convection', 'Radiation'), value=None)"
      ]
     },
     "metadata": {},
     "output_type": "display_data"
    },
    {
     "data": {
      "text/markdown": [
       "3) Hot water rises to the surface of the pot."
      ],
      "text/plain": [
       "<IPython.core.display.Markdown object>"
      ]
     },
     "metadata": {},
     "output_type": "display_data"
    },
    {
     "data": {
      "application/vnd.jupyter.widget-view+json": {
       "model_id": "e2fc8086518e458396a3e51b4dd28c3b",
       "version_major": 2,
       "version_minor": 0
      },
      "text/html": [
       "<p>Failed to display Jupyter Widget of type <code>RadioButtons</code>.</p>\n",
       "<p>\n",
       "  If you're reading this message in the Jupyter Notebook or JupyterLab Notebook, it may mean\n",
       "  that the widgets JavaScript is still loading. If this message persists, it\n",
       "  likely means that the widgets JavaScript library is either not installed or\n",
       "  not enabled. See the <a href=\"https://ipywidgets.readthedocs.io/en/stable/user_install.html\">Jupyter\n",
       "  Widgets Documentation</a> for setup instructions.\n",
       "</p>\n",
       "<p>\n",
       "  If you're reading this message in another frontend (for example, a static\n",
       "  rendering on GitHub or <a href=\"https://nbviewer.jupyter.org/\">NBViewer</a>),\n",
       "  it may mean that your frontend doesn't currently support widgets.\n",
       "</p>\n"
      ],
      "text/plain": [
       "RadioButtons(options=('Conduction', 'Convection', 'Radiation'), value=None)"
      ]
     },
     "metadata": {},
     "output_type": "display_data"
    },
    {
     "data": {
      "text/markdown": [
       "4) Steam from the pot feels hot on your hand. (Somewhat tricky)"
      ],
      "text/plain": [
       "<IPython.core.display.Markdown object>"
      ]
     },
     "metadata": {},
     "output_type": "display_data"
    },
    {
     "data": {
      "application/vnd.jupyter.widget-view+json": {
       "model_id": "f4a6b6b4def94451845b2db6c0035490",
       "version_major": 2,
       "version_minor": 0
      },
      "text/html": [
       "<p>Failed to display Jupyter Widget of type <code>RadioButtons</code>.</p>\n",
       "<p>\n",
       "  If you're reading this message in the Jupyter Notebook or JupyterLab Notebook, it may mean\n",
       "  that the widgets JavaScript is still loading. If this message persists, it\n",
       "  likely means that the widgets JavaScript library is either not installed or\n",
       "  not enabled. See the <a href=\"https://ipywidgets.readthedocs.io/en/stable/user_install.html\">Jupyter\n",
       "  Widgets Documentation</a> for setup instructions.\n",
       "</p>\n",
       "<p>\n",
       "  If you're reading this message in another frontend (for example, a static\n",
       "  rendering on GitHub or <a href=\"https://nbviewer.jupyter.org/\">NBViewer</a>),\n",
       "  it may mean that your frontend doesn't currently support widgets.\n",
       "</p>\n"
      ],
      "text/plain": [
       "RadioButtons(options=('Conduction', 'Convection', 'Radiation'), value=None)"
      ]
     },
     "metadata": {},
     "output_type": "display_data"
    },
    {
     "data": {
      "application/vnd.jupyter.widget-view+json": {
       "model_id": "123eb0d35c3f4d798846adfb593c83e0",
       "version_major": 2,
       "version_minor": 0
      },
      "text/html": [
       "<p>Failed to display Jupyter Widget of type <code>Button</code>.</p>\n",
       "<p>\n",
       "  If you're reading this message in the Jupyter Notebook or JupyterLab Notebook, it may mean\n",
       "  that the widgets JavaScript is still loading. If this message persists, it\n",
       "  likely means that the widgets JavaScript library is either not installed or\n",
       "  not enabled. See the <a href=\"https://ipywidgets.readthedocs.io/en/stable/user_install.html\">Jupyter\n",
       "  Widgets Documentation</a> for setup instructions.\n",
       "</p>\n",
       "<p>\n",
       "  If you're reading this message in another frontend (for example, a static\n",
       "  rendering on GitHub or <a href=\"https://nbviewer.jupyter.org/\">NBViewer</a>),\n",
       "  it may mean that your frontend doesn't currently support widgets.\n",
       "</p>\n"
      ],
      "text/plain": [
       "Button(description='Check your answers', style=ButtonStyle())"
      ]
     },
     "metadata": {},
     "output_type": "display_data"
    }
   ],
   "source": [
    "display(Markdown('1) After you turn on the stove, you hold your hand above the stove and it feels hot.'))\n",
    "\n",
    "a1 = widgets.RadioButtons(\n",
    "    options=['Conduction', 'Convection', 'Radiation'],\n",
    "    value = None,\n",
    "    disabled=False\n",
    ")\n",
    "\n",
    "display(a1)\n",
    "\n",
    "display(Markdown('2) The pot starts to heat up when placed on the stove.'))\n",
    "\n",
    "a2 = widgets.RadioButtons(\n",
    "    options=['Conduction', 'Convection', 'Radiation'],\n",
    "    value = None,\n",
    "    disabled=False\n",
    ")\n",
    "\n",
    "display(a2)\n",
    "\n",
    "display(Markdown('3) Hot water rises to the surface of the pot.'))\n",
    "\n",
    "a3 = widgets.RadioButtons(\n",
    "    options=['Conduction', 'Convection', 'Radiation'],\n",
    "    value = None,\n",
    "    disabled=False\n",
    ")\n",
    "display(a3)\n",
    "\n",
    "display(Markdown('4) Steam from the pot feels hot on your hand. (Somewhat tricky)'))\n",
    "\n",
    "a4 = widgets.RadioButtons(\n",
    "    options=['Conduction', 'Convection', 'Radiation'],\n",
    "    value = None,\n",
    "    disabled=False\n",
    ")\n",
    "\n",
    "display(a4)\n",
    "\n",
    "#create a button widget to check answers, again calling the button to display\n",
    "button_check = widgets.Button(description=\"Check your answers\")\n",
    "display(button_check)\n",
    "\n",
    "\n",
    "def check_button(x):\n",
    "    if a1.value == 'Radiation' and a2.value == 'Conduction' and a3.value == 'Convection' and a4.value == 'Conduction':\n",
    "        display(Markdown(\"Correct! Here's why : </br></br> \\\n",
    "                          1. The stove top heats up and radiates energy away from it. This is what you feels in your hand as heat. </br> \\\n",
    "                          2. The stove top conducts heat to the pot since they are in physical contact with one another. </br> \\\n",
    "                          3. Heat is transferred by fluid motion within the water via convection. </br> \\\n",
    "                          4. The gas particles carry heat energy, in the form of kinetic energy, which gets transferred via physical contact with your hand and the steam. </br> \\\n",
    "                             Since the heat transfer occurs via physical contact, the process responsible for the heat transfer is conduction. \"))\n",
    "    else:   \n",
    "        display(Latex(\"Those aren't quite correct, please try again.\"))\n",
    "button_check.on_click(check_button)\n",
    "\n"
   ]
  },
  {
   "cell_type": "markdown",
   "metadata": {},
   "source": [
    "### Refridgerator\n",
    "\n",
    "<img src=\"images/fridge.jpg\" height = \"300\" width=\"300\">\n",
    "\n"
   ]
  },
  {
   "cell_type": "code",
   "execution_count": 8,
   "metadata": {},
   "outputs": [
    {
     "data": {
      "text/markdown": [
       "1) Hot air is pumped out of the food compartment"
      ],
      "text/plain": [
       "<IPython.core.display.Markdown object>"
      ]
     },
     "metadata": {},
     "output_type": "display_data"
    },
    {
     "data": {
      "application/vnd.jupyter.widget-view+json": {
       "model_id": "74caac82f3e341f4800dec688c2e48bd",
       "version_major": 2,
       "version_minor": 0
      },
      "text/html": [
       "<p>Failed to display Jupyter Widget of type <code>RadioButtons</code>.</p>\n",
       "<p>\n",
       "  If you're reading this message in the Jupyter Notebook or JupyterLab Notebook, it may mean\n",
       "  that the widgets JavaScript is still loading. If this message persists, it\n",
       "  likely means that the widgets JavaScript library is either not installed or\n",
       "  not enabled. See the <a href=\"https://ipywidgets.readthedocs.io/en/stable/user_install.html\">Jupyter\n",
       "  Widgets Documentation</a> for setup instructions.\n",
       "</p>\n",
       "<p>\n",
       "  If you're reading this message in another frontend (for example, a static\n",
       "  rendering on GitHub or <a href=\"https://nbviewer.jupyter.org/\">NBViewer</a>),\n",
       "  it may mean that your frontend doesn't currently support widgets.\n",
       "</p>\n"
      ],
      "text/plain": [
       "RadioButtons(options=('Conduction', 'Convection', 'Radiation'), value=None)"
      ]
     },
     "metadata": {},
     "output_type": "display_data"
    },
    {
     "data": {
      "text/markdown": [
       "2)  You grab a cold popsicle out of the fridge. It feels cold on your hand."
      ],
      "text/plain": [
       "<IPython.core.display.Markdown object>"
      ]
     },
     "metadata": {},
     "output_type": "display_data"
    },
    {
     "data": {
      "application/vnd.jupyter.widget-view+json": {
       "model_id": "20e081db6d19476fa053b2093c99dfb3",
       "version_major": 2,
       "version_minor": 0
      },
      "text/html": [
       "<p>Failed to display Jupyter Widget of type <code>RadioButtons</code>.</p>\n",
       "<p>\n",
       "  If you're reading this message in the Jupyter Notebook or JupyterLab Notebook, it may mean\n",
       "  that the widgets JavaScript is still loading. If this message persists, it\n",
       "  likely means that the widgets JavaScript library is either not installed or\n",
       "  not enabled. See the <a href=\"https://ipywidgets.readthedocs.io/en/stable/user_install.html\">Jupyter\n",
       "  Widgets Documentation</a> for setup instructions.\n",
       "</p>\n",
       "<p>\n",
       "  If you're reading this message in another frontend (for example, a static\n",
       "  rendering on GitHub or <a href=\"https://nbviewer.jupyter.org/\">NBViewer</a>),\n",
       "  it may mean that your frontend doesn't currently support widgets.\n",
       "</p>\n"
      ],
      "text/plain": [
       "RadioButtons(options=('Conduction', 'Convection', 'Radiation'), value=None)"
      ]
     },
     "metadata": {},
     "output_type": "display_data"
    },
    {
     "data": {
      "text/markdown": [
       "3) How did it get cold? How did it transfer heat energy while sitting in the fridge?"
      ],
      "text/plain": [
       "<IPython.core.display.Markdown object>"
      ]
     },
     "metadata": {},
     "output_type": "display_data"
    },
    {
     "data": {
      "application/vnd.jupyter.widget-view+json": {
       "model_id": "30a2cf0679fd4a80a8e6b16d0d3a7201",
       "version_major": 2,
       "version_minor": 0
      },
      "text/html": [
       "<p>Failed to display Jupyter Widget of type <code>RadioButtons</code>.</p>\n",
       "<p>\n",
       "  If you're reading this message in the Jupyter Notebook or JupyterLab Notebook, it may mean\n",
       "  that the widgets JavaScript is still loading. If this message persists, it\n",
       "  likely means that the widgets JavaScript library is either not installed or\n",
       "  not enabled. See the <a href=\"https://ipywidgets.readthedocs.io/en/stable/user_install.html\">Jupyter\n",
       "  Widgets Documentation</a> for setup instructions.\n",
       "</p>\n",
       "<p>\n",
       "  If you're reading this message in another frontend (for example, a static\n",
       "  rendering on GitHub or <a href=\"https://nbviewer.jupyter.org/\">NBViewer</a>),\n",
       "  it may mean that your frontend doesn't currently support widgets.\n",
       "</p>\n"
      ],
      "text/plain": [
       "RadioButtons(options=('Conduction', 'Convection', 'Radiation'), value=None)"
      ]
     },
     "metadata": {},
     "output_type": "display_data"
    },
    {
     "data": {
      "text/markdown": [
       "4) You open the fridge door and it feels cold inside."
      ],
      "text/plain": [
       "<IPython.core.display.Markdown object>"
      ]
     },
     "metadata": {},
     "output_type": "display_data"
    },
    {
     "data": {
      "application/vnd.jupyter.widget-view+json": {
       "model_id": "f05db897d09c48ac86ff72975518e151",
       "version_major": 2,
       "version_minor": 0
      },
      "text/html": [
       "<p>Failed to display Jupyter Widget of type <code>RadioButtons</code>.</p>\n",
       "<p>\n",
       "  If you're reading this message in the Jupyter Notebook or JupyterLab Notebook, it may mean\n",
       "  that the widgets JavaScript is still loading. If this message persists, it\n",
       "  likely means that the widgets JavaScript library is either not installed or\n",
       "  not enabled. See the <a href=\"https://ipywidgets.readthedocs.io/en/stable/user_install.html\">Jupyter\n",
       "  Widgets Documentation</a> for setup instructions.\n",
       "</p>\n",
       "<p>\n",
       "  If you're reading this message in another frontend (for example, a static\n",
       "  rendering on GitHub or <a href=\"https://nbviewer.jupyter.org/\">NBViewer</a>),\n",
       "  it may mean that your frontend doesn't currently support widgets.\n",
       "</p>\n"
      ],
      "text/plain": [
       "RadioButtons(options=('Conduction', 'Convection', 'Radiation'), value=None)"
      ]
     },
     "metadata": {},
     "output_type": "display_data"
    },
    {
     "data": {
      "application/vnd.jupyter.widget-view+json": {
       "model_id": "23d16cb1d26c4dcabde5da5ac643158d",
       "version_major": 2,
       "version_minor": 0
      },
      "text/html": [
       "<p>Failed to display Jupyter Widget of type <code>Button</code>.</p>\n",
       "<p>\n",
       "  If you're reading this message in the Jupyter Notebook or JupyterLab Notebook, it may mean\n",
       "  that the widgets JavaScript is still loading. If this message persists, it\n",
       "  likely means that the widgets JavaScript library is either not installed or\n",
       "  not enabled. See the <a href=\"https://ipywidgets.readthedocs.io/en/stable/user_install.html\">Jupyter\n",
       "  Widgets Documentation</a> for setup instructions.\n",
       "</p>\n",
       "<p>\n",
       "  If you're reading this message in another frontend (for example, a static\n",
       "  rendering on GitHub or <a href=\"https://nbviewer.jupyter.org/\">NBViewer</a>),\n",
       "  it may mean that your frontend doesn't currently support widgets.\n",
       "</p>\n"
      ],
      "text/plain": [
       "Button(description='Check your answers', style=ButtonStyle())"
      ]
     },
     "metadata": {},
     "output_type": "display_data"
    },
    {
     "data": {
      "text/latex": [
       "Those aren't quite correct, please try again."
      ],
      "text/plain": [
       "<IPython.core.display.Latex object>"
      ]
     },
     "metadata": {},
     "output_type": "display_data"
    }
   ],
   "source": [
    "display(Markdown('1) Hot air is pumped out of the food compartment'))\n",
    "\n",
    "a1 = widgets.RadioButtons(\n",
    "    options=['Conduction', 'Convection', 'Radiation'],\n",
    "    value = None,\n",
    "    disabled=False\n",
    ")\n",
    "\n",
    "display(a1)\n",
    "\n",
    "display(Markdown('2)  You grab a cold popsicle out of the fridge. It feels cold on your hand.'))\n",
    "\n",
    "a2 = widgets.RadioButtons(\n",
    "    options=['Conduction', 'Convection', 'Radiation'],\n",
    "    value = None,\n",
    "    disabled=False\n",
    ")\n",
    "\n",
    "display(a2)\n",
    "\n",
    "display(Markdown('3) How did it get cold? How did it transfer heat energy while sitting in the fridge?'))\n",
    "\n",
    "a3 = widgets.RadioButtons(\n",
    "    options=['Conduction', 'Convection', 'Radiation'],\n",
    "    value = None,\n",
    "    disabled=False\n",
    ")\n",
    "display(a3)\n",
    "\n",
    "display(Markdown('4) You open the fridge door and it feels cold inside.'))\n",
    "\n",
    "a4 = widgets.RadioButtons(\n",
    "    options=['Conduction', 'Convection', 'Radiation'],\n",
    "    value = None,\n",
    "    disabled=False\n",
    ")\n",
    "\n",
    "display(a4)\n",
    "\n",
    "#create a button widget to check answers, again calling the button to display\n",
    "button_check = widgets.Button(description=\"Check your answers\")\n",
    "display(button_check)\n",
    "\n",
    "\n",
    "def check_button(x):\n",
    "    if a1.value == 'Convection' and a2.value == 'Conduction' and a3.value != ('Conduction' or None) and a4.value == 'Conduction':\n",
    "        display(Markdown(\"Correct! Here's why : </br></br> \\\n",
    "                          1. Hot air flows out of the fridge via convection. </br> \\\n",
    "                          2. Heat is transferred via convection since your hand it hotter than the popsicle. </br> \\\n",
    "                          3. Heat is transferred by radiation or conduction. The food sitting in the fridge radiates heat energy and also conducts heat to the colder air within the fridge. </br> \\\n",
    "                          4. Heat is transferred via conduction from your warmer self to the cold air within the fridge.\"))\n",
    "    else:   \n",
    "        display(Latex(\"Those aren't quite correct, please try again.\"))\n",
    "button_check.on_click(check_button)\n",
    "\n"
   ]
  },
  {
   "cell_type": "markdown",
   "metadata": {},
   "source": [
    "## Changes of State\n",
    "\n",
    "Heat transfer plays a deciding role in the changes of state of matter (Solid, Liquid or Gas). Let's breakdown how heat energy changes the state and what these processes are called. Matter will be thought of a collection of particles, the behaviour of these particles is determined by the state of matter in which they are in. Heat transfer in matter can be thought of has the particles becoming \"excited\". They receive kinetic energy in the form of collision with other particles, in turn this cause the matter to \"heat up\". These excited particles are what we observe as heat transfer and measure as temperature. \n",
    "\n",
    "The different changes that occur in matter are visualized below. "
   ]
  },
  {
   "cell_type": "code",
   "execution_count": 11,
   "metadata": {
    "scrolled": true
   },
   "outputs": [
    {
     "data": {
      "application/vnd.jupyter.widget-view+json": {
       "model_id": "57adc1a1871948d6832f8d44c946d201",
       "version_major": 2,
       "version_minor": 0
      },
      "text/html": [
       "<p>Failed to display Jupyter Widget of type <code>Select</code>.</p>\n",
       "<p>\n",
       "  If you're reading this message in the Jupyter Notebook or JupyterLab Notebook, it may mean\n",
       "  that the widgets JavaScript is still loading. If this message persists, it\n",
       "  likely means that the widgets JavaScript library is either not installed or\n",
       "  not enabled. See the <a href=\"https://ipywidgets.readthedocs.io/en/stable/user_install.html\">Jupyter\n",
       "  Widgets Documentation</a> for setup instructions.\n",
       "</p>\n",
       "<p>\n",
       "  If you're reading this message in another frontend (for example, a static\n",
       "  rendering on GitHub or <a href=\"https://nbviewer.jupyter.org/\">NBViewer</a>),\n",
       "  it may mean that your frontend doesn't currently support widgets.\n",
       "</p>\n"
      ],
      "text/plain": [
       "Select(description='Liquid to Gas:', options=('Condensation', 'Deposition', 'Evaporation', 'Freezing', 'Melting', 'Sublimation'), value=None)"
      ]
     },
     "metadata": {},
     "output_type": "display_data"
    },
    {
     "data": {
      "application/vnd.plotly.v1+json": {
       "data": [
        {
         "type": "scatter",
         "x": [
          0,
          0.5,
          1,
          2,
          2.2
         ],
         "y": [
          1.23,
          2.5,
          0.42,
          3,
          1
         ]
        }
       ],
       "layout": {
        "images": [
         {
          "layer": "below",
          "opacity": 0.7,
          "source": "images/states.png",
          "xref": "x",
          "yref": "y"
         }
        ]
       }
      }
     },
     "metadata": {},
     "output_type": "display_data"
    }
   ],
   "source": [
    "#Plot state transitions over an image\n",
    "\n",
    "#img = plt.imread(\"images/states.png\")\n",
    "#fig, ax = plt.subplots(figsize = (25,25))\n",
    "#ax.imshow(img)\n",
    "\n",
    "s1 = widgets.Select(\n",
    "    options=['Condensation','Deposition', 'Evaporation','Freezing','Melting','Sublimation'],\n",
    "    value= None,\n",
    "    description='Liquid to Gas:',\n",
    "    disabled=False\n",
    ")\n",
    "trace1= go.Scatter(x=[0,0.5,1,2,2.2],y=[1.23,2.5,0.42,3,1])\n",
    "layout= go.Layout(images= [dict(\n",
    "                  source= \"images/states.png\",\n",
    "                  xref= \"x\",\n",
    "                  yref= \"y\",\n",
    "                  opacity= 0.7,\n",
    "                    \n",
    "                  layer= \"below\")]\n",
    "                 )\n",
    "\n",
    "\n",
    "display(s1)\n",
    "\n",
    "fig=go.Figure(data = [trace1],layout=layout)\n",
    "py.iplot(fig)\n"
   ]
  },
  {
   "cell_type": "code",
   "execution_count": 21,
   "metadata": {},
   "outputs": [
    {
     "data": {
      "application/vnd.plotly.v1+json": {
       "data": [
        {
         "type": "scatter",
         "x": [
          -10,
          -9.899497487437186,
          -9.798994974874372,
          -9.698492462311558,
          -9.597989949748744,
          -9.49748743718593,
          -9.396984924623116,
          -9.296482412060302,
          -9.195979899497488,
          -9.095477386934673,
          -8.99497487437186,
          -8.894472361809045,
          -8.793969849246231,
          -8.693467336683417,
          -8.592964824120603,
          -8.492462311557789,
          -8.391959798994975,
          -8.291457286432161,
          -8.190954773869347,
          -8.090452261306533,
          -7.989949748743719,
          -7.889447236180905,
          -7.788944723618091,
          -7.688442211055277,
          -7.5879396984924625,
          -7.4874371859296485,
          -7.386934673366834,
          -7.28643216080402,
          -7.185929648241206,
          -7.085427135678392,
          -6.984924623115578,
          -6.884422110552764,
          -6.78391959798995,
          -6.683417085427136,
          -6.582914572864322,
          -6.482412060301508,
          -6.381909547738694,
          -6.28140703517588,
          -6.180904522613066,
          -6.080402010050252,
          -5.979899497487437,
          -5.879396984924623,
          -5.7788944723618085,
          -5.6783919597989945,
          -5.57788944723618,
          -5.477386934673366,
          -5.376884422110552,
          -5.276381909547738,
          -5.175879396984924,
          -5.07537688442211,
          -4.974874371859296,
          -4.874371859296482,
          -4.773869346733668,
          -4.673366834170854,
          -4.57286432160804,
          -4.472361809045226,
          -4.371859296482412,
          -4.271356783919598,
          -4.1708542713567835,
          -4.0703517587939695,
          -3.9698492462311554,
          -3.8693467336683414,
          -3.7688442211055273,
          -3.6683417085427132,
          -3.567839195979899,
          -3.467336683417085,
          -3.366834170854271,
          -3.266331658291457,
          -3.165829145728643,
          -3.065326633165829,
          -2.964824120603015,
          -2.8643216080402008,
          -2.7638190954773867,
          -2.6633165829145726,
          -2.5628140703517586,
          -2.4623115577889445,
          -2.3618090452261304,
          -2.2613065326633164,
          -2.1608040201005023,
          -2.0603015075376883,
          -1.9597989949748733,
          -1.8592964824120592,
          -1.7587939698492452,
          -1.6582914572864311,
          -1.557788944723617,
          -1.457286432160803,
          -1.356783919597989,
          -1.2562814070351749,
          -1.1557788944723608,
          -1.0552763819095468,
          -0.9547738693467327,
          -0.8542713567839186,
          -0.7537688442211046,
          -0.6532663316582905,
          -0.5527638190954764,
          -0.4522613065326624,
          -0.3517587939698483,
          -0.25125628140703427,
          -0.1507537688442202,
          -0.05025125628140614,
          0.05025125628140792,
          0.15075376884422198,
          0.25125628140703604,
          0.3517587939698501,
          0.45226130653266416,
          0.5527638190954782,
          0.6532663316582923,
          0.7537688442211063,
          0.8542713567839204,
          0.9547738693467345,
          1.0552763819095485,
          1.1557788944723626,
          1.2562814070351767,
          1.3567839195979907,
          1.4572864321608048,
          1.5577889447236188,
          1.658291457286433,
          1.758793969849247,
          1.859296482412061,
          1.959798994974875,
          2.060301507537689,
          2.160804020100503,
          2.2613065326633173,
          2.3618090452261313,
          2.4623115577889454,
          2.5628140703517595,
          2.6633165829145735,
          2.7638190954773876,
          2.8643216080402016,
          2.9648241206030157,
          3.0653266331658298,
          3.165829145728644,
          3.266331658291458,
          3.366834170854272,
          3.467336683417086,
          3.5678391959799,
          3.668341708542714,
          3.768844221105528,
          3.8693467336683423,
          3.9698492462311563,
          4.07035175879397,
          4.170854271356784,
          4.2713567839195985,
          4.371859296482413,
          4.472361809045227,
          4.572864321608041,
          4.673366834170855,
          4.773869346733669,
          4.874371859296483,
          4.974874371859297,
          5.075376884422111,
          5.175879396984925,
          5.276381909547739,
          5.376884422110553,
          5.477386934673367,
          5.577889447236181,
          5.678391959798995,
          5.778894472361809,
          5.8793969849246235,
          5.9798994974874375,
          6.080402010050253,
          6.180904522613066,
          6.2814070351758815,
          6.381909547738694,
          6.48241206030151,
          6.582914572864322,
          6.683417085427138,
          6.78391959798995,
          6.884422110552766,
          6.984924623115578,
          7.085427135678394,
          7.185929648241206,
          7.286432160804022,
          7.386934673366834,
          7.48743718592965,
          7.5879396984924625,
          7.688442211055278,
          7.788944723618091,
          7.8894472361809065,
          7.989949748743719,
          8.090452261306535,
          8.190954773869347,
          8.291457286432163,
          8.391959798994975,
          8.49246231155779,
          8.592964824120603,
          8.693467336683419,
          8.793969849246231,
          8.894472361809047,
          8.99497487437186,
          9.095477386934675,
          9.195979899497488,
          9.296482412060303,
          9.396984924623116,
          9.497487437185931,
          9.597989949748744,
          9.69849246231156,
          9.798994974874372,
          9.899497487437188,
          10
         ],
         "y": [
          10,
          9.899497487437186,
          9.798994974874372,
          9.698492462311558,
          9.597989949748744,
          9.49748743718593,
          9.396984924623116,
          9.296482412060302,
          9.195979899497488,
          9.095477386934673,
          8.99497487437186,
          8.894472361809045,
          8.793969849246231,
          8.693467336683417,
          8.592964824120603,
          8.492462311557789,
          8.391959798994975,
          8.291457286432161,
          8.190954773869347,
          8.090452261306533,
          7.989949748743719,
          7.889447236180905,
          7.788944723618091,
          7.688442211055277,
          7.5879396984924625,
          7.4874371859296485,
          7.386934673366834,
          7.28643216080402,
          7.185929648241206,
          7.085427135678392,
          6.984924623115578,
          6.884422110552764,
          6.78391959798995,
          6.683417085427136,
          6.582914572864322,
          6.482412060301508,
          6.381909547738694,
          6.28140703517588,
          6.180904522613066,
          6.080402010050252,
          5.979899497487437,
          5.879396984924623,
          5.7788944723618085,
          5.6783919597989945,
          5.57788944723618,
          5.477386934673366,
          5.376884422110552,
          5.276381909547738,
          5.175879396984924,
          5.07537688442211,
          4.974874371859296,
          4.874371859296482,
          4.773869346733668,
          4.673366834170854,
          4.57286432160804,
          4.472361809045226,
          4.371859296482412,
          4.271356783919598,
          4.1708542713567835,
          4.0703517587939695,
          3.9698492462311554,
          3.8693467336683414,
          3.7688442211055273,
          3.6683417085427132,
          3.567839195979899,
          3.467336683417085,
          3.366834170854271,
          3.266331658291457,
          3.165829145728643,
          3.065326633165829,
          2.964824120603015,
          2.8643216080402008,
          2.7638190954773867,
          2.6633165829145726,
          2.5628140703517586,
          2.4623115577889445,
          2.3618090452261304,
          2.2613065326633164,
          2.1608040201005023,
          2.0603015075376883,
          1.9597989949748733,
          1.8592964824120592,
          1.7587939698492452,
          1.6582914572864311,
          1.557788944723617,
          1.457286432160803,
          1.356783919597989,
          1.2562814070351749,
          1.1557788944723608,
          1.0552763819095468,
          0.9547738693467327,
          0.8542713567839186,
          0.7537688442211046,
          0.6532663316582905,
          0.5527638190954764,
          0.4522613065326624,
          0.3517587939698483,
          0.25125628140703427,
          0.1507537688442202,
          0.05025125628140614,
          0.05025125628140792,
          0.15075376884422198,
          0.25125628140703604,
          0.3517587939698501,
          0.45226130653266416,
          0.5527638190954782,
          0.6532663316582923,
          0.7537688442211063,
          0.8542713567839204,
          0.9547738693467345,
          1.0552763819095485,
          1.1557788944723626,
          1.2562814070351767,
          1.3567839195979907,
          1.4572864321608048,
          1.5577889447236188,
          1.658291457286433,
          1.758793969849247,
          1.859296482412061,
          1.959798994974875,
          2.060301507537689,
          2.160804020100503,
          2.2613065326633173,
          2.3618090452261313,
          2.4623115577889454,
          2.5628140703517595,
          2.6633165829145735,
          2.7638190954773876,
          2.8643216080402016,
          2.9648241206030157,
          3.0653266331658298,
          3.165829145728644,
          3.266331658291458,
          3.366834170854272,
          3.467336683417086,
          3.5678391959799,
          3.668341708542714,
          3.768844221105528,
          3.8693467336683423,
          3.9698492462311563,
          4.07035175879397,
          4.170854271356784,
          4.2713567839195985,
          4.371859296482413,
          4.472361809045227,
          4.572864321608041,
          4.673366834170855,
          4.773869346733669,
          4.874371859296483,
          4.974874371859297,
          5.075376884422111,
          5.175879396984925,
          5.276381909547739,
          5.376884422110553,
          5.477386934673367,
          5.577889447236181,
          5.678391959798995,
          5.778894472361809,
          5.8793969849246235,
          5.9798994974874375,
          6.080402010050253,
          6.180904522613066,
          6.2814070351758815,
          6.381909547738694,
          6.48241206030151,
          6.582914572864322,
          6.683417085427138,
          6.78391959798995,
          6.884422110552766,
          6.984924623115578,
          7.085427135678394,
          7.185929648241206,
          7.286432160804022,
          7.386934673366834,
          7.48743718592965,
          7.5879396984924625,
          7.688442211055278,
          7.788944723618091,
          7.8894472361809065,
          7.989949748743719,
          8.090452261306535,
          8.190954773869347,
          8.291457286432163,
          8.391959798994975,
          8.49246231155779,
          8.592964824120603,
          8.693467336683419,
          8.793969849246231,
          8.894472361809047,
          8.99497487437186,
          9.095477386934675,
          9.195979899497488,
          9.296482412060303,
          9.396984924623116,
          9.497487437185931,
          9.597989949748744,
          9.69849246231156,
          9.798994974874372,
          9.899497487437188,
          10
         ]
        }
       ],
       "layout": {}
      }
     },
     "metadata": {},
     "output_type": "display_data"
    }
   ],
   "source": []
  },
  {
   "cell_type": "markdown",
   "metadata": {},
   "source": [
    "### Moisture in the atmosphere\n",
    "\n",
    "<img src=\"images/_510379179.jpg\" width =\"300\" height =\"300\">"
   ]
  },
  {
   "cell_type": "markdown",
   "metadata": {},
   "source": [
    "<img src = 'images/Callysto_Notebook-Banners_Bottom.jpg'>"
   ]
  }
 ],
 "metadata": {
  "kernelspec": {
   "display_name": "Python 3",
   "language": "python",
   "name": "python3"
  },
  "language_info": {
   "codemirror_mode": {
    "name": "ipython",
    "version": 3
   },
   "file_extension": ".py",
   "mimetype": "text/x-python",
   "name": "python",
   "nbconvert_exporter": "python",
   "pygments_lexer": "ipython3",
   "version": "3.6.5"
  }
 },
 "nbformat": 4,
 "nbformat_minor": 2
}

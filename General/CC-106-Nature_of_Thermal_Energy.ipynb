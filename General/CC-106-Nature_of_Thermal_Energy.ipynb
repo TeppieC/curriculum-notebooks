{
 "cells": [
  {
   "cell_type": "markdown",
   "metadata": {
    "hidden": false
   },
   "source": [
    "<img src = 'images/Callysto_Notebook-Banner_Top.jpg'>"
   ]
  },
  {
   "cell_type": "code",
   "execution_count": 1,
   "metadata": {
    "hidden": false,
    "scrolled": true
   },
   "outputs": [
    {
     "data": {
      "text/html": [
       "<script>requirejs.config({paths: { 'plotly': ['https://cdn.plot.ly/plotly-latest.min']},});if(!window.Plotly) {{require(['plotly'],function(plotly) {window.Plotly=plotly;});}}</script>"
      ],
      "text/vnd.plotly.v1+html": [
       "<script>requirejs.config({paths: { 'plotly': ['https://cdn.plot.ly/plotly-latest.min']},});if(!window.Plotly) {{require(['plotly'],function(plotly) {window.Plotly=plotly;});}}</script>"
      ]
     },
     "metadata": {},
     "output_type": "display_data"
    }
   ],
   "source": [
    "import numpy as np\n",
    "import matplotlib.pyplot as plt\n",
    "import matplotlib.animation as animation\n",
    "from mpl_toolkits.mplot3d import Axes3D\n",
    "import mpl_toolkits.mplot3d.axes3d as p3\n",
    "from matplotlib import rc\n",
    "from IPython.display import display, Math, Latex, HTML, clear_output, Markdown, IFrame\n",
    "import ipywidgets as widgets\n",
    "from ipywidgets import interact, FloatSlider, IntSlider, interactive, Layout\n",
    "from traitlets import traitlets\n",
    "\n",
    "\n",
    "from plotly.offline import download_plotlyjs, init_notebook_mode, plot, iplot\n",
    "init_notebook_mode(connected=True)\n",
    "\n",
    "%matplotlib notebook\n",
    "%matplotlib notebook"
   ]
  },
  {
   "cell_type": "code",
   "execution_count": 2,
   "metadata": {
    "hidden": false,
    "scrolled": true
   },
   "outputs": [
    {
     "data": {
      "text/html": [
       "<script>\n",
       "  function code_toggle() {\n",
       "    if (code_shown){\n",
       "      $('div.input').hide('500');\n",
       "      $('#toggleButton').val('Show Code')\n",
       "    } else {\n",
       "      $('div.input').show('500');\n",
       "      $('#toggleButton').val('Hide Code')\n",
       "    }\n",
       "    code_shown = !code_shown\n",
       "  }\n",
       "  \n",
       "  $( document ).ready(function(){\n",
       "    code_shown=false;\n",
       "    $('div.input').hide()\n",
       "  });\n",
       "</script>\n",
       "<form action=\"javascript:code_toggle()\"><input type=\"submit\" id=\"toggleButton\" value=\"Show Code\"></form>"
      ],
      "text/plain": [
       "<IPython.core.display.HTML object>"
      ]
     },
     "execution_count": 2,
     "metadata": {},
     "output_type": "execute_result"
    }
   ],
   "source": [
    "HTML('''<script>\n",
    "  function code_toggle() {\n",
    "    if (code_shown){\n",
    "      $('div.input').hide('500');\n",
    "      $('#toggleButton').val('Show Code')\n",
    "    } else {\n",
    "      $('div.input').show('500');\n",
    "      $('#toggleButton').val('Hide Code')\n",
    "    }\n",
    "    code_shown = !code_shown\n",
    "  }\n",
    "  \n",
    "  $( document ).ready(function(){\n",
    "    code_shown=false;\n",
    "    $('div.input').hide()\n",
    "  });\n",
    "</script>\n",
    "<form action=\"javascript:code_toggle()\"><input type=\"submit\" id=\"toggleButton\" value=\"Show Code\"></form>''')\n"
   ]
  },
  {
   "cell_type": "markdown",
   "metadata": {
    "hidden": false
   },
   "source": [
    "#  <center>Heat and Temperature: The Nature of Thermal Energy </center>\n",
    "\n",
    "In this Jupyter Notebook you will explore the nature of thermal energy and its effects on different forms of matter, using informal observations, experimental evidence and models. By the end of the notebook you will have gained an understanding on:\n",
    "\n",
    "- comparing heat transmission in different materials \n",
    "- explaining how heat is transmitted by conduction, convection and radiation in solids, liquids and gases\n",
    "- describing the effect of heat on the motion of particles; and explain changes of state, using the particle model of matter\n",
    "- distinguishing between heat and temperature; and explain temperature, using the concept of kinetic energy and the particle model of matter\n",
    "- investigating and describing the effects of heating and cooling on the volume of different materials, and identify applications of these effects\n",
    "\n",
    "Necessary Background: Basic knowledge of kinetic energy and states of matter.\n",
    "\n",
    "Thermal energy applications are found throughout our daily lives; the means by which a refridgerator functions, the ways we power and heat our homes, the combustion which drives our engines. These are just a few of the many ways we use thermal energy to improve our lives. Consequentially, having a better understanding of the nature of thermal energy means having a better understanding of the world around us, natural and manufactured. "
   ]
  },
  {
   "cell_type": "markdown",
   "metadata": {
    "hidden": false
   },
   "source": [
    "\n",
    "## Heat vs. Temperature\n",
    "\n",
    "The difference between temperature and heat is quite subtle. We'd better state the definitions formally:\n",
    "\n",
    "**Heat** is a type of energy transfer in which energy flows caused by a difference in Temperature. \n",
    "\n",
    "**Temperature** is a measure of the average heat or thermal energy of the particles in a substance. \n",
    "\n",
    "These are simple explanations for the time being and will become clearer over the course of this notebook. Heat is  a *microscopic* quantity which gives rise to the *macroscopic* quantity of Temperature. We often think of these two concepts interchangably but they have fundamentally different meanings. Heat can be exchanged between matter and temperature can be possessed by matter. Over the course of this notebook the differences will become clearer.\n",
    "\n",
    "---\n",
    "\n",
    "*Side note*: **Macroscopic vs Microscopic**\n",
    "\n",
    "Macroscopic quantities can be thought of as the things that you can see and quantify, whereas microscopic quantities are the opposite of this; they need some more detailed measuring tools in order to observe. For example, think of a phone screen, the display looks bright and colourful, the colours blend into one another seamlessly, forming a purple circle. The fact that it is purple and a circle can be thought of as the macroscopic quantites. If one were to zoom in on the phone screen they would see a different picture: tiny squares (pixels) illuminating the screen with different combinations of red, blue, and green. The pixel's shape and colour combinations can be thought of as the microscopic quantities of the image. We see that they can be vastly different from one another: smaller squares making a circle and combinations of red, blue, and green making purple. The interplay between microscopic and macroscopic is crucial to understanding the difference between heat and temperature.  \n",
    "\n"
   ]
  },
  {
   "cell_type": "markdown",
   "metadata": {
    "hidden": false
   },
   "source": [
    "# <center> Particle Model of Matter </center>    \n",
    "In order to help you intepret heat, it will be useful to think of the *Particle Model of Matter*. This model was first proposed the Greek philosopher Democritus over 2000 years ago. He thought of being able to cut up matter, the stuff that makes up everything into the world, into smaller and smaller parts. Eventually, one would reach its fundamental constituents; the particles that made up all matter. This line of thinking has been explored, revised, and expanded upon. It has helped us begin to understand the world around us and is therefore an essential starting point for us to explore the nature of thermal energy. The particle model states that:\n",
    "\n",
    "### 1. All matter is made up of tiny particles"
   ]
  },
  {
   "cell_type": "code",
   "execution_count": 3,
   "metadata": {
    "hidden": false,
    "scrolled": false
   },
   "outputs": [
    {
     "data": {
      "text/html": [
       "\n",
       "<div style=\"text-align: center\">\n",
       "    <iframe width=\"500px\" height=\"420px\" src=\"animations/cube_grid.html\" frameborder=\"0\"></iframe>\n",
       "</div>\n",
       "            "
      ],
      "text/plain": [
       "<IPython.core.display.HTML object>"
      ]
     },
     "metadata": {},
     "output_type": "display_data"
    }
   ],
   "source": [
    "%%html\n",
    "\n",
    "<div style=\"text-align: center\">\n",
    "    <iframe width=\"500px\" height=\"420px\" src=\"animations/cube_grid.html\" frameborder=\"0\"></iframe>\n",
    "</div>\n",
    "            "
   ]
  },
  {
   "cell_type": "markdown",
   "metadata": {
    "hidden": false
   },
   "source": [
    "### 2. The particles are constantly moving \n",
    "\n",
    "Since the particles are not at absolute (0 Kelvin), they still contain a bit of thermal energy. When the particles are bound in a solid structure, like above, this cause them to vibrate slightly. Particles in any state will always slightly unless they are at absolute 0 temperature. Below is the same solid as above, but depicted more realistically."
   ]
  },
  {
   "cell_type": "code",
   "execution_count": 4,
   "metadata": {
    "hidden": false
   },
   "outputs": [
    {
     "data": {
      "text/html": [
       "\n",
       "<div style=\"text-align: center\">\n",
       "    <iframe width=\"450px\" height=\"420px\" src=\"animations/vibrating_cube.html\" frameborder=\"0\"></iframe>\n",
       "</div>"
      ],
      "text/plain": [
       "<IPython.core.display.HTML object>"
      ]
     },
     "metadata": {},
     "output_type": "display_data"
    }
   ],
   "source": [
    "%%html\n",
    "\n",
    "<div style=\"text-align: center\">\n",
    "    <iframe width=\"450px\" height=\"420px\" src=\"animations/vibrating_cube.html\" frameborder=\"0\"></iframe>\n",
    "</div>"
   ]
  },
  {
   "cell_type": "markdown",
   "metadata": {
    "hidden": false
   },
   "source": [
    "### 3. The particles move faster as you heat them up"
   ]
  },
  {
   "cell_type": "code",
   "execution_count": 5,
   "metadata": {
    "hidden": false,
    "scrolled": false
   },
   "outputs": [
    {
     "data": {
      "text/html": [
       "\n",
       "<div style=\"text-align: center\">\n",
       "    <iframe width=\"450px\" height=\"420px\" src=\"animations/particle_in_a_box.html\" frameborder=\"0\"></iframe>\n",
       "</div>"
      ],
      "text/plain": [
       "<IPython.core.display.HTML object>"
      ]
     },
     "metadata": {},
     "output_type": "display_data"
    }
   ],
   "source": [
    "%%html\n",
    "\n",
    "<div style=\"text-align: center\">\n",
    "    <iframe width=\"450px\" height=\"420px\" src=\"animations/particle_in_a_box.html\" frameborder=\"0\"></iframe>\n",
    "</div>\n"
   ]
  },
  {
   "cell_type": "markdown",
   "metadata": {
    "hidden": false
   },
   "source": [
    "Statement 3 of the particle model offers the clearest description for the difference between temperature and heat. As the temperature inside the square increases, the particles move faster. This is because the the particles have more heat energy, but we actually measure is temperature. The particles collide with the sides of the box more frequently, the more frequent the collisions, the higher the temperature we measure. "
   ]
  },
  {
   "cell_type": "markdown",
   "metadata": {
    "hidden": false
   },
   "source": [
    "---\n",
    "## <center>Changes of State</center>\n",
    "\n",
    "Heat transfer plays a deciding role in the changes of state of matter (Solid, Liquid or Gas). Let's breakdown how heat energy changes the state and what these processes are called. Matter will be thought of a collection of particles, the behaviour of these particles is determined by the state of matter in which they are in:\n",
    "\n",
    "- Particles in **solid** are tighly packed, they have very little motion either than vibrating in the location that they are in.\n",
    "\n",
    "- Particles in a **liquid** are able to move past one another. This is what gives liquids the property of being able to \"flow\".\n",
    "\n",
    "- Particles in a **gas** can essentially move around freely, occasionally colliding into one another. This is why gases have so much free space.\n",
    "\n",
    "### Why do the changes happen?\n",
    "\n",
    "Matter changes state due to heat energy! Think of the particles in a solid. As it gains more heat energy, the particles themselves gain more kinetic energy and they start to collide into one another more often. Eventually the bonds that hold the solid together cannot maintain the amount of collisions and the solid begins to fall apart, into a liquid. This is known as melting. Now the particles can flow, but they still maintain a bit of their structure; they are still connected. If you were to give them even more heat energy, the structure begins to fall apart, and eventually the matter becomes a gas where the particles can move around freely and disperse from one another. This process is called evaporation (or boiling). \n",
    "\n",
    "Some of the main characteristics of a substance are the temperatures at which these transitions happen. These are known as the *melting point* and *boiling point* of the substance. For example, water has a melting point of 0$^{\\circ}$C and a boiling point of 100$^{\\circ}$C and these temperatures are a fundamental part of what it means to be \"water\".\n",
    "\n",
    "The different changes that occur in matter can be seen below. Try to memorize the names of the different changes of state. Hover your mouse over each grey box to see the names of them. Once you press the \"Play memory game\" button, you won't be able to see their names anymore and will have to match the numbers to the name of change of state. See how many times you can get them correct! You'll have them memorized in no time :-)"
   ]
  },
  {
   "cell_type": "code",
   "execution_count": 6,
   "metadata": {
    "hidden": false,
    "scrolled": false
   },
   "outputs": [
    {
     "data": {
      "application/javascript": [
       "/* Put everything inside the global mpl namespace */\n",
       "window.mpl = {};\n",
       "\n",
       "\n",
       "mpl.get_websocket_type = function() {\n",
       "    if (typeof(WebSocket) !== 'undefined') {\n",
       "        return WebSocket;\n",
       "    } else if (typeof(MozWebSocket) !== 'undefined') {\n",
       "        return MozWebSocket;\n",
       "    } else {\n",
       "        alert('Your browser does not have WebSocket support.' +\n",
       "              'Please try Chrome, Safari or Firefox ≥ 6. ' +\n",
       "              'Firefox 4 and 5 are also supported but you ' +\n",
       "              'have to enable WebSockets in about:config.');\n",
       "    };\n",
       "}\n",
       "\n",
       "mpl.figure = function(figure_id, websocket, ondownload, parent_element) {\n",
       "    this.id = figure_id;\n",
       "\n",
       "    this.ws = websocket;\n",
       "\n",
       "    this.supports_binary = (this.ws.binaryType != undefined);\n",
       "\n",
       "    if (!this.supports_binary) {\n",
       "        var warnings = document.getElementById(\"mpl-warnings\");\n",
       "        if (warnings) {\n",
       "            warnings.style.display = 'block';\n",
       "            warnings.textContent = (\n",
       "                \"This browser does not support binary websocket messages. \" +\n",
       "                    \"Performance may be slow.\");\n",
       "        }\n",
       "    }\n",
       "\n",
       "    this.imageObj = new Image();\n",
       "\n",
       "    this.context = undefined;\n",
       "    this.message = undefined;\n",
       "    this.canvas = undefined;\n",
       "    this.rubberband_canvas = undefined;\n",
       "    this.rubberband_context = undefined;\n",
       "    this.format_dropdown = undefined;\n",
       "\n",
       "    this.image_mode = 'full';\n",
       "\n",
       "    this.root = $('<div/>');\n",
       "    this._root_extra_style(this.root)\n",
       "    this.root.attr('style', 'display: inline-block');\n",
       "\n",
       "    $(parent_element).append(this.root);\n",
       "\n",
       "    this._init_header(this);\n",
       "    this._init_canvas(this);\n",
       "    this._init_toolbar(this);\n",
       "\n",
       "    var fig = this;\n",
       "\n",
       "    this.waiting = false;\n",
       "\n",
       "    this.ws.onopen =  function () {\n",
       "            fig.send_message(\"supports_binary\", {value: fig.supports_binary});\n",
       "            fig.send_message(\"send_image_mode\", {});\n",
       "            if (mpl.ratio != 1) {\n",
       "                fig.send_message(\"set_dpi_ratio\", {'dpi_ratio': mpl.ratio});\n",
       "            }\n",
       "            fig.send_message(\"refresh\", {});\n",
       "        }\n",
       "\n",
       "    this.imageObj.onload = function() {\n",
       "            if (fig.image_mode == 'full') {\n",
       "                // Full images could contain transparency (where diff images\n",
       "                // almost always do), so we need to clear the canvas so that\n",
       "                // there is no ghosting.\n",
       "                fig.context.clearRect(0, 0, fig.canvas.width, fig.canvas.height);\n",
       "            }\n",
       "            fig.context.drawImage(fig.imageObj, 0, 0);\n",
       "        };\n",
       "\n",
       "    this.imageObj.onunload = function() {\n",
       "        fig.ws.close();\n",
       "    }\n",
       "\n",
       "    this.ws.onmessage = this._make_on_message_function(this);\n",
       "\n",
       "    this.ondownload = ondownload;\n",
       "}\n",
       "\n",
       "mpl.figure.prototype._init_header = function() {\n",
       "    var titlebar = $(\n",
       "        '<div class=\"ui-dialog-titlebar ui-widget-header ui-corner-all ' +\n",
       "        'ui-helper-clearfix\"/>');\n",
       "    var titletext = $(\n",
       "        '<div class=\"ui-dialog-title\" style=\"width: 100%; ' +\n",
       "        'text-align: center; padding: 3px;\"/>');\n",
       "    titlebar.append(titletext)\n",
       "    this.root.append(titlebar);\n",
       "    this.header = titletext[0];\n",
       "}\n",
       "\n",
       "\n",
       "\n",
       "mpl.figure.prototype._canvas_extra_style = function(canvas_div) {\n",
       "\n",
       "}\n",
       "\n",
       "\n",
       "mpl.figure.prototype._root_extra_style = function(canvas_div) {\n",
       "\n",
       "}\n",
       "\n",
       "mpl.figure.prototype._init_canvas = function() {\n",
       "    var fig = this;\n",
       "\n",
       "    var canvas_div = $('<div/>');\n",
       "\n",
       "    canvas_div.attr('style', 'position: relative; clear: both; outline: 0');\n",
       "\n",
       "    function canvas_keyboard_event(event) {\n",
       "        return fig.key_event(event, event['data']);\n",
       "    }\n",
       "\n",
       "    canvas_div.keydown('key_press', canvas_keyboard_event);\n",
       "    canvas_div.keyup('key_release', canvas_keyboard_event);\n",
       "    this.canvas_div = canvas_div\n",
       "    this._canvas_extra_style(canvas_div)\n",
       "    this.root.append(canvas_div);\n",
       "\n",
       "    var canvas = $('<canvas/>');\n",
       "    canvas.addClass('mpl-canvas');\n",
       "    canvas.attr('style', \"left: 0; top: 0; z-index: 0; outline: 0\")\n",
       "\n",
       "    this.canvas = canvas[0];\n",
       "    this.context = canvas[0].getContext(\"2d\");\n",
       "\n",
       "    var backingStore = this.context.backingStorePixelRatio ||\n",
       "\tthis.context.webkitBackingStorePixelRatio ||\n",
       "\tthis.context.mozBackingStorePixelRatio ||\n",
       "\tthis.context.msBackingStorePixelRatio ||\n",
       "\tthis.context.oBackingStorePixelRatio ||\n",
       "\tthis.context.backingStorePixelRatio || 1;\n",
       "\n",
       "    mpl.ratio = (window.devicePixelRatio || 1) / backingStore;\n",
       "\n",
       "    var rubberband = $('<canvas/>');\n",
       "    rubberband.attr('style', \"position: absolute; left: 0; top: 0; z-index: 1;\")\n",
       "\n",
       "    var pass_mouse_events = true;\n",
       "\n",
       "    canvas_div.resizable({\n",
       "        start: function(event, ui) {\n",
       "            pass_mouse_events = false;\n",
       "        },\n",
       "        resize: function(event, ui) {\n",
       "            fig.request_resize(ui.size.width, ui.size.height);\n",
       "        },\n",
       "        stop: function(event, ui) {\n",
       "            pass_mouse_events = true;\n",
       "            fig.request_resize(ui.size.width, ui.size.height);\n",
       "        },\n",
       "    });\n",
       "\n",
       "    function mouse_event_fn(event) {\n",
       "        if (pass_mouse_events)\n",
       "            return fig.mouse_event(event, event['data']);\n",
       "    }\n",
       "\n",
       "    rubberband.mousedown('button_press', mouse_event_fn);\n",
       "    rubberband.mouseup('button_release', mouse_event_fn);\n",
       "    // Throttle sequential mouse events to 1 every 20ms.\n",
       "    rubberband.mousemove('motion_notify', mouse_event_fn);\n",
       "\n",
       "    rubberband.mouseenter('figure_enter', mouse_event_fn);\n",
       "    rubberband.mouseleave('figure_leave', mouse_event_fn);\n",
       "\n",
       "    canvas_div.on(\"wheel\", function (event) {\n",
       "        event = event.originalEvent;\n",
       "        event['data'] = 'scroll'\n",
       "        if (event.deltaY < 0) {\n",
       "            event.step = 1;\n",
       "        } else {\n",
       "            event.step = -1;\n",
       "        }\n",
       "        mouse_event_fn(event);\n",
       "    });\n",
       "\n",
       "    canvas_div.append(canvas);\n",
       "    canvas_div.append(rubberband);\n",
       "\n",
       "    this.rubberband = rubberband;\n",
       "    this.rubberband_canvas = rubberband[0];\n",
       "    this.rubberband_context = rubberband[0].getContext(\"2d\");\n",
       "    this.rubberband_context.strokeStyle = \"#000000\";\n",
       "\n",
       "    this._resize_canvas = function(width, height) {\n",
       "        // Keep the size of the canvas, canvas container, and rubber band\n",
       "        // canvas in synch.\n",
       "        canvas_div.css('width', width)\n",
       "        canvas_div.css('height', height)\n",
       "\n",
       "        canvas.attr('width', width * mpl.ratio);\n",
       "        canvas.attr('height', height * mpl.ratio);\n",
       "        canvas.attr('style', 'width: ' + width + 'px; height: ' + height + 'px;');\n",
       "\n",
       "        rubberband.attr('width', width);\n",
       "        rubberband.attr('height', height);\n",
       "    }\n",
       "\n",
       "    // Set the figure to an initial 600x600px, this will subsequently be updated\n",
       "    // upon first draw.\n",
       "    this._resize_canvas(600, 600);\n",
       "\n",
       "    // Disable right mouse context menu.\n",
       "    $(this.rubberband_canvas).bind(\"contextmenu\",function(e){\n",
       "        return false;\n",
       "    });\n",
       "\n",
       "    function set_focus () {\n",
       "        canvas.focus();\n",
       "        canvas_div.focus();\n",
       "    }\n",
       "\n",
       "    window.setTimeout(set_focus, 100);\n",
       "}\n",
       "\n",
       "mpl.figure.prototype._init_toolbar = function() {\n",
       "    var fig = this;\n",
       "\n",
       "    var nav_element = $('<div/>')\n",
       "    nav_element.attr('style', 'width: 100%');\n",
       "    this.root.append(nav_element);\n",
       "\n",
       "    // Define a callback function for later on.\n",
       "    function toolbar_event(event) {\n",
       "        return fig.toolbar_button_onclick(event['data']);\n",
       "    }\n",
       "    function toolbar_mouse_event(event) {\n",
       "        return fig.toolbar_button_onmouseover(event['data']);\n",
       "    }\n",
       "\n",
       "    for(var toolbar_ind in mpl.toolbar_items) {\n",
       "        var name = mpl.toolbar_items[toolbar_ind][0];\n",
       "        var tooltip = mpl.toolbar_items[toolbar_ind][1];\n",
       "        var image = mpl.toolbar_items[toolbar_ind][2];\n",
       "        var method_name = mpl.toolbar_items[toolbar_ind][3];\n",
       "\n",
       "        if (!name) {\n",
       "            // put a spacer in here.\n",
       "            continue;\n",
       "        }\n",
       "        var button = $('<button/>');\n",
       "        button.addClass('ui-button ui-widget ui-state-default ui-corner-all ' +\n",
       "                        'ui-button-icon-only');\n",
       "        button.attr('role', 'button');\n",
       "        button.attr('aria-disabled', 'false');\n",
       "        button.click(method_name, toolbar_event);\n",
       "        button.mouseover(tooltip, toolbar_mouse_event);\n",
       "\n",
       "        var icon_img = $('<span/>');\n",
       "        icon_img.addClass('ui-button-icon-primary ui-icon');\n",
       "        icon_img.addClass(image);\n",
       "        icon_img.addClass('ui-corner-all');\n",
       "\n",
       "        var tooltip_span = $('<span/>');\n",
       "        tooltip_span.addClass('ui-button-text');\n",
       "        tooltip_span.html(tooltip);\n",
       "\n",
       "        button.append(icon_img);\n",
       "        button.append(tooltip_span);\n",
       "\n",
       "        nav_element.append(button);\n",
       "    }\n",
       "\n",
       "    var fmt_picker_span = $('<span/>');\n",
       "\n",
       "    var fmt_picker = $('<select/>');\n",
       "    fmt_picker.addClass('mpl-toolbar-option ui-widget ui-widget-content');\n",
       "    fmt_picker_span.append(fmt_picker);\n",
       "    nav_element.append(fmt_picker_span);\n",
       "    this.format_dropdown = fmt_picker[0];\n",
       "\n",
       "    for (var ind in mpl.extensions) {\n",
       "        var fmt = mpl.extensions[ind];\n",
       "        var option = $(\n",
       "            '<option/>', {selected: fmt === mpl.default_extension}).html(fmt);\n",
       "        fmt_picker.append(option)\n",
       "    }\n",
       "\n",
       "    // Add hover states to the ui-buttons\n",
       "    $( \".ui-button\" ).hover(\n",
       "        function() { $(this).addClass(\"ui-state-hover\");},\n",
       "        function() { $(this).removeClass(\"ui-state-hover\");}\n",
       "    );\n",
       "\n",
       "    var status_bar = $('<span class=\"mpl-message\"/>');\n",
       "    nav_element.append(status_bar);\n",
       "    this.message = status_bar[0];\n",
       "}\n",
       "\n",
       "mpl.figure.prototype.request_resize = function(x_pixels, y_pixels) {\n",
       "    // Request matplotlib to resize the figure. Matplotlib will then trigger a resize in the client,\n",
       "    // which will in turn request a refresh of the image.\n",
       "    this.send_message('resize', {'width': x_pixels, 'height': y_pixels});\n",
       "}\n",
       "\n",
       "mpl.figure.prototype.send_message = function(type, properties) {\n",
       "    properties['type'] = type;\n",
       "    properties['figure_id'] = this.id;\n",
       "    this.ws.send(JSON.stringify(properties));\n",
       "}\n",
       "\n",
       "mpl.figure.prototype.send_draw_message = function() {\n",
       "    if (!this.waiting) {\n",
       "        this.waiting = true;\n",
       "        this.ws.send(JSON.stringify({type: \"draw\", figure_id: this.id}));\n",
       "    }\n",
       "}\n",
       "\n",
       "\n",
       "mpl.figure.prototype.handle_save = function(fig, msg) {\n",
       "    var format_dropdown = fig.format_dropdown;\n",
       "    var format = format_dropdown.options[format_dropdown.selectedIndex].value;\n",
       "    fig.ondownload(fig, format);\n",
       "}\n",
       "\n",
       "\n",
       "mpl.figure.prototype.handle_resize = function(fig, msg) {\n",
       "    var size = msg['size'];\n",
       "    if (size[0] != fig.canvas.width || size[1] != fig.canvas.height) {\n",
       "        fig._resize_canvas(size[0], size[1]);\n",
       "        fig.send_message(\"refresh\", {});\n",
       "    };\n",
       "}\n",
       "\n",
       "mpl.figure.prototype.handle_rubberband = function(fig, msg) {\n",
       "    var x0 = msg['x0'] / mpl.ratio;\n",
       "    var y0 = (fig.canvas.height - msg['y0']) / mpl.ratio;\n",
       "    var x1 = msg['x1'] / mpl.ratio;\n",
       "    var y1 = (fig.canvas.height - msg['y1']) / mpl.ratio;\n",
       "    x0 = Math.floor(x0) + 0.5;\n",
       "    y0 = Math.floor(y0) + 0.5;\n",
       "    x1 = Math.floor(x1) + 0.5;\n",
       "    y1 = Math.floor(y1) + 0.5;\n",
       "    var min_x = Math.min(x0, x1);\n",
       "    var min_y = Math.min(y0, y1);\n",
       "    var width = Math.abs(x1 - x0);\n",
       "    var height = Math.abs(y1 - y0);\n",
       "\n",
       "    fig.rubberband_context.clearRect(\n",
       "        0, 0, fig.canvas.width, fig.canvas.height);\n",
       "\n",
       "    fig.rubberband_context.strokeRect(min_x, min_y, width, height);\n",
       "}\n",
       "\n",
       "mpl.figure.prototype.handle_figure_label = function(fig, msg) {\n",
       "    // Updates the figure title.\n",
       "    fig.header.textContent = msg['label'];\n",
       "}\n",
       "\n",
       "mpl.figure.prototype.handle_cursor = function(fig, msg) {\n",
       "    var cursor = msg['cursor'];\n",
       "    switch(cursor)\n",
       "    {\n",
       "    case 0:\n",
       "        cursor = 'pointer';\n",
       "        break;\n",
       "    case 1:\n",
       "        cursor = 'default';\n",
       "        break;\n",
       "    case 2:\n",
       "        cursor = 'crosshair';\n",
       "        break;\n",
       "    case 3:\n",
       "        cursor = 'move';\n",
       "        break;\n",
       "    }\n",
       "    fig.rubberband_canvas.style.cursor = cursor;\n",
       "}\n",
       "\n",
       "mpl.figure.prototype.handle_message = function(fig, msg) {\n",
       "    fig.message.textContent = msg['message'];\n",
       "}\n",
       "\n",
       "mpl.figure.prototype.handle_draw = function(fig, msg) {\n",
       "    // Request the server to send over a new figure.\n",
       "    fig.send_draw_message();\n",
       "}\n",
       "\n",
       "mpl.figure.prototype.handle_image_mode = function(fig, msg) {\n",
       "    fig.image_mode = msg['mode'];\n",
       "}\n",
       "\n",
       "mpl.figure.prototype.updated_canvas_event = function() {\n",
       "    // Called whenever the canvas gets updated.\n",
       "    this.send_message(\"ack\", {});\n",
       "}\n",
       "\n",
       "// A function to construct a web socket function for onmessage handling.\n",
       "// Called in the figure constructor.\n",
       "mpl.figure.prototype._make_on_message_function = function(fig) {\n",
       "    return function socket_on_message(evt) {\n",
       "        if (evt.data instanceof Blob) {\n",
       "            /* FIXME: We get \"Resource interpreted as Image but\n",
       "             * transferred with MIME type text/plain:\" errors on\n",
       "             * Chrome.  But how to set the MIME type?  It doesn't seem\n",
       "             * to be part of the websocket stream */\n",
       "            evt.data.type = \"image/png\";\n",
       "\n",
       "            /* Free the memory for the previous frames */\n",
       "            if (fig.imageObj.src) {\n",
       "                (window.URL || window.webkitURL).revokeObjectURL(\n",
       "                    fig.imageObj.src);\n",
       "            }\n",
       "\n",
       "            fig.imageObj.src = (window.URL || window.webkitURL).createObjectURL(\n",
       "                evt.data);\n",
       "            fig.updated_canvas_event();\n",
       "            fig.waiting = false;\n",
       "            return;\n",
       "        }\n",
       "        else if (typeof evt.data === 'string' && evt.data.slice(0, 21) == \"data:image/png;base64\") {\n",
       "            fig.imageObj.src = evt.data;\n",
       "            fig.updated_canvas_event();\n",
       "            fig.waiting = false;\n",
       "            return;\n",
       "        }\n",
       "\n",
       "        var msg = JSON.parse(evt.data);\n",
       "        var msg_type = msg['type'];\n",
       "\n",
       "        // Call the  \"handle_{type}\" callback, which takes\n",
       "        // the figure and JSON message as its only arguments.\n",
       "        try {\n",
       "            var callback = fig[\"handle_\" + msg_type];\n",
       "        } catch (e) {\n",
       "            console.log(\"No handler for the '\" + msg_type + \"' message type: \", msg);\n",
       "            return;\n",
       "        }\n",
       "\n",
       "        if (callback) {\n",
       "            try {\n",
       "                // console.log(\"Handling '\" + msg_type + \"' message: \", msg);\n",
       "                callback(fig, msg);\n",
       "            } catch (e) {\n",
       "                console.log(\"Exception inside the 'handler_\" + msg_type + \"' callback:\", e, e.stack, msg);\n",
       "            }\n",
       "        }\n",
       "    };\n",
       "}\n",
       "\n",
       "// from http://stackoverflow.com/questions/1114465/getting-mouse-location-in-canvas\n",
       "mpl.findpos = function(e) {\n",
       "    //this section is from http://www.quirksmode.org/js/events_properties.html\n",
       "    var targ;\n",
       "    if (!e)\n",
       "        e = window.event;\n",
       "    if (e.target)\n",
       "        targ = e.target;\n",
       "    else if (e.srcElement)\n",
       "        targ = e.srcElement;\n",
       "    if (targ.nodeType == 3) // defeat Safari bug\n",
       "        targ = targ.parentNode;\n",
       "\n",
       "    // jQuery normalizes the pageX and pageY\n",
       "    // pageX,Y are the mouse positions relative to the document\n",
       "    // offset() returns the position of the element relative to the document\n",
       "    var x = e.pageX - $(targ).offset().left;\n",
       "    var y = e.pageY - $(targ).offset().top;\n",
       "\n",
       "    return {\"x\": x, \"y\": y};\n",
       "};\n",
       "\n",
       "/*\n",
       " * return a copy of an object with only non-object keys\n",
       " * we need this to avoid circular references\n",
       " * http://stackoverflow.com/a/24161582/3208463\n",
       " */\n",
       "function simpleKeys (original) {\n",
       "  return Object.keys(original).reduce(function (obj, key) {\n",
       "    if (typeof original[key] !== 'object')\n",
       "        obj[key] = original[key]\n",
       "    return obj;\n",
       "  }, {});\n",
       "}\n",
       "\n",
       "mpl.figure.prototype.mouse_event = function(event, name) {\n",
       "    var canvas_pos = mpl.findpos(event)\n",
       "\n",
       "    if (name === 'button_press')\n",
       "    {\n",
       "        this.canvas.focus();\n",
       "        this.canvas_div.focus();\n",
       "    }\n",
       "\n",
       "    var x = canvas_pos.x * mpl.ratio;\n",
       "    var y = canvas_pos.y * mpl.ratio;\n",
       "\n",
       "    this.send_message(name, {x: x, y: y, button: event.button,\n",
       "                             step: event.step,\n",
       "                             guiEvent: simpleKeys(event)});\n",
       "\n",
       "    /* This prevents the web browser from automatically changing to\n",
       "     * the text insertion cursor when the button is pressed.  We want\n",
       "     * to control all of the cursor setting manually through the\n",
       "     * 'cursor' event from matplotlib */\n",
       "    event.preventDefault();\n",
       "    return false;\n",
       "}\n",
       "\n",
       "mpl.figure.prototype._key_event_extra = function(event, name) {\n",
       "    // Handle any extra behaviour associated with a key event\n",
       "}\n",
       "\n",
       "mpl.figure.prototype.key_event = function(event, name) {\n",
       "\n",
       "    // Prevent repeat events\n",
       "    if (name == 'key_press')\n",
       "    {\n",
       "        if (event.which === this._key)\n",
       "            return;\n",
       "        else\n",
       "            this._key = event.which;\n",
       "    }\n",
       "    if (name == 'key_release')\n",
       "        this._key = null;\n",
       "\n",
       "    var value = '';\n",
       "    if (event.ctrlKey && event.which != 17)\n",
       "        value += \"ctrl+\";\n",
       "    if (event.altKey && event.which != 18)\n",
       "        value += \"alt+\";\n",
       "    if (event.shiftKey && event.which != 16)\n",
       "        value += \"shift+\";\n",
       "\n",
       "    value += 'k';\n",
       "    value += event.which.toString();\n",
       "\n",
       "    this._key_event_extra(event, name);\n",
       "\n",
       "    this.send_message(name, {key: value,\n",
       "                             guiEvent: simpleKeys(event)});\n",
       "    return false;\n",
       "}\n",
       "\n",
       "mpl.figure.prototype.toolbar_button_onclick = function(name) {\n",
       "    if (name == 'download') {\n",
       "        this.handle_save(this, null);\n",
       "    } else {\n",
       "        this.send_message(\"toolbar_button\", {name: name});\n",
       "    }\n",
       "};\n",
       "\n",
       "mpl.figure.prototype.toolbar_button_onmouseover = function(tooltip) {\n",
       "    this.message.textContent = tooltip;\n",
       "};\n",
       "mpl.toolbar_items = [[\"Home\", \"Reset original view\", \"fa fa-home icon-home\", \"home\"], [\"Back\", \"Back to  previous view\", \"fa fa-arrow-left icon-arrow-left\", \"back\"], [\"Forward\", \"Forward to next view\", \"fa fa-arrow-right icon-arrow-right\", \"forward\"], [\"\", \"\", \"\", \"\"], [\"Pan\", \"Pan axes with left mouse, zoom with right\", \"fa fa-arrows icon-move\", \"pan\"], [\"Zoom\", \"Zoom to rectangle\", \"fa fa-square-o icon-check-empty\", \"zoom\"], [\"\", \"\", \"\", \"\"], [\"Download\", \"Download plot\", \"fa fa-floppy-o icon-save\", \"download\"]];\n",
       "\n",
       "mpl.extensions = [\"eps\", \"jpeg\", \"pdf\", \"png\", \"ps\", \"raw\", \"svg\", \"tif\"];\n",
       "\n",
       "mpl.default_extension = \"png\";var comm_websocket_adapter = function(comm) {\n",
       "    // Create a \"websocket\"-like object which calls the given IPython comm\n",
       "    // object with the appropriate methods. Currently this is a non binary\n",
       "    // socket, so there is still some room for performance tuning.\n",
       "    var ws = {};\n",
       "\n",
       "    ws.close = function() {\n",
       "        comm.close()\n",
       "    };\n",
       "    ws.send = function(m) {\n",
       "        //console.log('sending', m);\n",
       "        comm.send(m);\n",
       "    };\n",
       "    // Register the callback with on_msg.\n",
       "    comm.on_msg(function(msg) {\n",
       "        //console.log('receiving', msg['content']['data'], msg);\n",
       "        // Pass the mpl event to the overriden (by mpl) onmessage function.\n",
       "        ws.onmessage(msg['content']['data'])\n",
       "    });\n",
       "    return ws;\n",
       "}\n",
       "\n",
       "mpl.mpl_figure_comm = function(comm, msg) {\n",
       "    // This is the function which gets called when the mpl process\n",
       "    // starts-up an IPython Comm through the \"matplotlib\" channel.\n",
       "\n",
       "    var id = msg.content.data.id;\n",
       "    // Get hold of the div created by the display call when the Comm\n",
       "    // socket was opened in Python.\n",
       "    var element = $(\"#\" + id);\n",
       "    var ws_proxy = comm_websocket_adapter(comm)\n",
       "\n",
       "    function ondownload(figure, format) {\n",
       "        window.open(figure.imageObj.src);\n",
       "    }\n",
       "\n",
       "    var fig = new mpl.figure(id, ws_proxy,\n",
       "                           ondownload,\n",
       "                           element.get(0));\n",
       "\n",
       "    // Call onopen now - mpl needs it, as it is assuming we've passed it a real\n",
       "    // web socket which is closed, not our websocket->open comm proxy.\n",
       "    ws_proxy.onopen();\n",
       "\n",
       "    fig.parent_element = element.get(0);\n",
       "    fig.cell_info = mpl.find_output_cell(\"<div id='\" + id + \"'></div>\");\n",
       "    if (!fig.cell_info) {\n",
       "        console.error(\"Failed to find cell for figure\", id, fig);\n",
       "        return;\n",
       "    }\n",
       "\n",
       "    var output_index = fig.cell_info[2]\n",
       "    var cell = fig.cell_info[0];\n",
       "\n",
       "};\n",
       "\n",
       "mpl.figure.prototype.handle_close = function(fig, msg) {\n",
       "    var width = fig.canvas.width/mpl.ratio\n",
       "    fig.root.unbind('remove')\n",
       "\n",
       "    // Update the output cell to use the data from the current canvas.\n",
       "    fig.push_to_output();\n",
       "    var dataURL = fig.canvas.toDataURL();\n",
       "    // Re-enable the keyboard manager in IPython - without this line, in FF,\n",
       "    // the notebook keyboard shortcuts fail.\n",
       "    IPython.keyboard_manager.enable()\n",
       "    $(fig.parent_element).html('<img src=\"' + dataURL + '\" width=\"' + width + '\">');\n",
       "    fig.close_ws(fig, msg);\n",
       "}\n",
       "\n",
       "mpl.figure.prototype.close_ws = function(fig, msg){\n",
       "    fig.send_message('closing', msg);\n",
       "    // fig.ws.close()\n",
       "}\n",
       "\n",
       "mpl.figure.prototype.push_to_output = function(remove_interactive) {\n",
       "    // Turn the data on the canvas into data in the output cell.\n",
       "    var width = this.canvas.width/mpl.ratio\n",
       "    var dataURL = this.canvas.toDataURL();\n",
       "    this.cell_info[1]['text/html'] = '<img src=\"' + dataURL + '\" width=\"' + width + '\">';\n",
       "}\n",
       "\n",
       "mpl.figure.prototype.updated_canvas_event = function() {\n",
       "    // Tell IPython that the notebook contents must change.\n",
       "    IPython.notebook.set_dirty(true);\n",
       "    this.send_message(\"ack\", {});\n",
       "    var fig = this;\n",
       "    // Wait a second, then push the new image to the DOM so\n",
       "    // that it is saved nicely (might be nice to debounce this).\n",
       "    setTimeout(function () { fig.push_to_output() }, 1000);\n",
       "}\n",
       "\n",
       "mpl.figure.prototype._init_toolbar = function() {\n",
       "    var fig = this;\n",
       "\n",
       "    var nav_element = $('<div/>')\n",
       "    nav_element.attr('style', 'width: 100%');\n",
       "    this.root.append(nav_element);\n",
       "\n",
       "    // Define a callback function for later on.\n",
       "    function toolbar_event(event) {\n",
       "        return fig.toolbar_button_onclick(event['data']);\n",
       "    }\n",
       "    function toolbar_mouse_event(event) {\n",
       "        return fig.toolbar_button_onmouseover(event['data']);\n",
       "    }\n",
       "\n",
       "    for(var toolbar_ind in mpl.toolbar_items){\n",
       "        var name = mpl.toolbar_items[toolbar_ind][0];\n",
       "        var tooltip = mpl.toolbar_items[toolbar_ind][1];\n",
       "        var image = mpl.toolbar_items[toolbar_ind][2];\n",
       "        var method_name = mpl.toolbar_items[toolbar_ind][3];\n",
       "\n",
       "        if (!name) { continue; };\n",
       "\n",
       "        var button = $('<button class=\"btn btn-default\" href=\"#\" title=\"' + name + '\"><i class=\"fa ' + image + ' fa-lg\"></i></button>');\n",
       "        button.click(method_name, toolbar_event);\n",
       "        button.mouseover(tooltip, toolbar_mouse_event);\n",
       "        nav_element.append(button);\n",
       "    }\n",
       "\n",
       "    // Add the status bar.\n",
       "    var status_bar = $('<span class=\"mpl-message\" style=\"text-align:right; float: right;\"/>');\n",
       "    nav_element.append(status_bar);\n",
       "    this.message = status_bar[0];\n",
       "\n",
       "    // Add the close button to the window.\n",
       "    var buttongrp = $('<div class=\"btn-group inline pull-right\"></div>');\n",
       "    var button = $('<button class=\"btn btn-mini btn-primary\" href=\"#\" title=\"Stop Interaction\"><i class=\"fa fa-power-off icon-remove icon-large\"></i></button>');\n",
       "    button.click(function (evt) { fig.handle_close(fig, {}); } );\n",
       "    button.mouseover('Stop Interaction', toolbar_mouse_event);\n",
       "    buttongrp.append(button);\n",
       "    var titlebar = this.root.find($('.ui-dialog-titlebar'));\n",
       "    titlebar.prepend(buttongrp);\n",
       "}\n",
       "\n",
       "mpl.figure.prototype._root_extra_style = function(el){\n",
       "    var fig = this\n",
       "    el.on(\"remove\", function(){\n",
       "\tfig.close_ws(fig, {});\n",
       "    });\n",
       "}\n",
       "\n",
       "mpl.figure.prototype._canvas_extra_style = function(el){\n",
       "    // this is important to make the div 'focusable\n",
       "    el.attr('tabindex', 0)\n",
       "    // reach out to IPython and tell the keyboard manager to turn it's self\n",
       "    // off when our div gets focus\n",
       "\n",
       "    // location in version 3\n",
       "    if (IPython.notebook.keyboard_manager) {\n",
       "        IPython.notebook.keyboard_manager.register_events(el);\n",
       "    }\n",
       "    else {\n",
       "        // location in version 2\n",
       "        IPython.keyboard_manager.register_events(el);\n",
       "    }\n",
       "\n",
       "}\n",
       "\n",
       "mpl.figure.prototype._key_event_extra = function(event, name) {\n",
       "    var manager = IPython.notebook.keyboard_manager;\n",
       "    if (!manager)\n",
       "        manager = IPython.keyboard_manager;\n",
       "\n",
       "    // Check for shift+enter\n",
       "    if (event.shiftKey && event.which == 13) {\n",
       "        this.canvas_div.blur();\n",
       "        event.shiftKey = false;\n",
       "        // Send a \"J\" for go to next cell\n",
       "        event.which = 74;\n",
       "        event.keyCode = 74;\n",
       "        manager.command_mode();\n",
       "        manager.handle_keydown(event);\n",
       "    }\n",
       "}\n",
       "\n",
       "mpl.figure.prototype.handle_save = function(fig, msg) {\n",
       "    fig.ondownload(fig, null);\n",
       "}\n",
       "\n",
       "\n",
       "mpl.find_output_cell = function(html_output) {\n",
       "    // Return the cell and output element which can be found *uniquely* in the notebook.\n",
       "    // Note - this is a bit hacky, but it is done because the \"notebook_saving.Notebook\"\n",
       "    // IPython event is triggered only after the cells have been serialised, which for\n",
       "    // our purposes (turning an active figure into a static one), is too late.\n",
       "    var cells = IPython.notebook.get_cells();\n",
       "    var ncells = cells.length;\n",
       "    for (var i=0; i<ncells; i++) {\n",
       "        var cell = cells[i];\n",
       "        if (cell.cell_type === 'code'){\n",
       "            for (var j=0; j<cell.output_area.outputs.length; j++) {\n",
       "                var data = cell.output_area.outputs[j];\n",
       "                if (data.data) {\n",
       "                    // IPython >= 3 moved mimebundle to data attribute of output\n",
       "                    data = data.data;\n",
       "                }\n",
       "                if (data['text/html'] == html_output) {\n",
       "                    return [cell, data, j];\n",
       "                }\n",
       "            }\n",
       "        }\n",
       "    }\n",
       "}\n",
       "\n",
       "// Register the function which deals with the matplotlib target/channel.\n",
       "// The kernel may be null if the page has been refreshed.\n",
       "if (IPython.notebook.kernel != null) {\n",
       "    IPython.notebook.kernel.comm_manager.register_target('matplotlib', mpl.mpl_figure_comm);\n",
       "}\n"
      ],
      "text/plain": [
       "<IPython.core.display.Javascript object>"
      ]
     },
     "metadata": {},
     "output_type": "display_data"
    },
    {
     "data": {
      "text/html": [
       "<img src=\"data:image/png;base64,iVBORw0KGgoAAAANSUhEUgAAA2gAAANoCAYAAAC1Fsk9AAAgAElEQVR4nOzdeXRV5b3/cdo6ax1brUO12sHqta21arW1Wqt16PDrrbXWWqvWAat1RJBRFERAUGSQWeYZkgBJCFMgkAQSSAghZJ7n6eQkOeM+e+9n78/vj4Z7qVd7vf31/u7Q92utZ7Gy2WfnrJz8kc/6fp/vM2gQAAAAAAAAAAAAAAAAAAAAAAAAAAAAAAAAAAAAAAAAAAAAAAAAAAAAAAAAAAAAAAAAAAAAAAAAAAAAAAAAAAAAAAAAAAAAAAAAAAAAAAAAAAAAAAAAAAAAAAAAAAAAAAAAAAAAAAAAAAAAAAAAAAAAAAAAAAAAAAAAAAAAAAAAAAAAAAAAAAAAAAAAAAAAAAAAAAAAAAAAAAAAAAAAAAAAAAAAAAAAAAAAAAAAAAAAAAAAAAAAAAAAAAAAAAAAAAAAAAAAAAAAAAAAAAAAAAAAAAAAAAAAAAAAAAAAAAAAAAAAAAAAAAAAAAAAAAAAAAAAAAAAAAAAAAAAAAAAAAAAAAAAAAAAAAAAAAAAAAAAAAAAAAAAAAAAAAAAAAAAAAAAAAAAAAAAAAAAAAAAAAAAAAAAAAAAAAAAAAAAAAAAAAAAAAAAAAAAAAAAAAAAAAAAAAAAAAAAAAAAAAAAAAAAAAAAAAAAAAAAAAAAAAAAAAAAAAAAAAAAAAAAAAAAAAAAAAAAAAAAAAAAAAAAAAAAAAAAAAAAAAAAAAAAAAAAAAAAAAAAAAAAAAAAAAAAAAAAAAAAAAAAAAAAAAAAAAAAAAAAAAAAAAAAAAAAAAAAAAAAAAAAAAAAAAAAAAAAAAAAAAAAAAAAAAAAAAAAAAAAAAAAAAAAAAAAAAAAAAAAAAAAAAAAAAAAAAAAAAAAAAAAAAAAAAAAAAAAAAAAAAAAAAAAAAAAAAAAAAAAAAAAAAAAAAAAAAAAAAAAAAAAAAAAAAAAAAAAAAAAAAAAAAAAAAAAAAAAAAAAAAAAAAAAAAAAAAAAAAAAAAAAAAAAAAAAAAAAAAAAAAAAAAAAAAAAAAAAAAAAAAAAAAAAAAAAAAAAAAAAAAAAAAAAAAAAAAAAAAAAAAAAAAAAAAAAAAAAAAAAAAAAAAAAAAAAAAAAAAAAAAAAAAAAAAAAAAAAAAAAAAAAAAAAAAAAAAAAAAAAAAAAAAAAAAAAAAAAAAAAAAAAAAAAAAAAAAAAAAAAAAAAAAAAAAAAAAAAAAAAAAAAAAAAAAAAAAAAAAAAAAAAAAAAAAAAAAAAAAAAAAAAAAAAAAAAAAAAAAAAAAAAAAAAAAAAAAAAAAAAAAAAAAAAAAAAAAAAAAAAAAAAAAAAAAAAAAAAAAAAAAAAAAAAAAAAAAAAAAAAAAAAAAAAAAAAAAAAAAAAAAAAAAAAAAAAAAAAAAAAAAAAAAAAAAAAAAAAAAAAAAAAAAAAAAAAAAAAAAAAAAAAAAAAAAAAAAAAAAAAAAAAAAAAAAAAAAAAAAAAAAAAAAAAAAAAAAAAAAAAAAAAAAAAAAAAAAAAAAAAAAAAAAAAAAAAAAAAAAAAAAAAAAAAAAAAAAAAAAAAAAAAAAAAAAAAAAAAAAAAAAAAAAAAAAAAAAAAAAAAAAAAAAAAAAAAAAAAAAAAAAAAAAAAAAAAAAAAAAAAAAAAAAAAAAAAAAAAAAAAAAAAAAAAAAAAAAAAAAAAAAAAAAAAAAAAAAAAAAAAAAAAAAAAAAAAAAAAAAAAAAAAAAAAAAAAAAAAAPxv8PSgQYP0EevBv/F5xz/jr137pK8FAAAAgH8YHxXOjq23/h+f99eufdLXAgAAAMA/hI8KRB+uqP09nvn/47UAAAAA8D/ax7U0atCgQdsGfXQFbc5xr5nz7zzzr10bNGjQoFsGrvX+O/cBAAAAwP96H7f/7KP2oNX+lXtrj7vvkwa0v9ZaSUADAAAA8A/pr4Wk3o+57yeD/hzg/pYw9lHXrhg0aFDBx9wHAAAAAP9wrhj055bGj6pk3XLc17cc95rjK3DfGrj2SQLaxz2PgAYAAADgH9IVg/68h2zboH8biI4PSrcM+vhA9VHXCWgAAAAA8Dc4PhB962Ouf/jax7U9/q3Xju1fO+9j7gMAAACAfwjHqmefZFjH33LfJ73GkBAAAAAAGPSXY/OPX69+xL2vfoL7PmlA+3DFbNugvwyMAAAAAAAAAAAAAAAAAAAAn5SkT/0t67/6fQMAAADAf3t/JVR9+kPrM3+n9eHnEugAAAAA/GP6K0Hs+BB1wsA6cWCddGzV1NSc/Les459x3HOPfZ+PCnCENgAAAAD/O/yVEHZ8+DppIDyd0tLScqqk0zo7O0+XdEYwGDwzGAyeKelsSWeHQqFzw+HweZI+J+lzkUjk859kHbs/HA6fFwqFzj32vOOef8bA9zxt4D2cclyg+3CI+8jw9l/9swYAAACAv/AJAtlfhLHjg9jxASwSiZwfjUYviMViF8bj8Yvj8fgXJV0q6UuWZV2eSCS+PLC+kkgkvnr8Cn3o64F7vpxIJL5sWdblkr4k6dJ4PP7FeDx+cSwWuzAajV4QiUTOPz7AfTi4fUxo+8jA9l/9OQAAAAD4B/QRgexYGDvWknisKvYvIexYAJP0hXg8follWZdJuiKRSHzVtu2rbNu+RtK1juNc5zjOjY7j3CTpFtd1b3Vd93bXde9wXffHruve5bruPcdWKJq4p6yh+56cspZ7th1puSentvueUMK9J/Hn/79r4DV3DDzjVkm3OI5z08D3uE7StbZtX2Pb9lWJROKrkq6wLOuyeDx+SSwWu2jgPX/u+PD2oeD24dBGYAMAAADwn+/jQtmx6tixytixqlgkEjk/FotdKOnSgQrY12zbvspxnG8NBLGbXNf9vuu6t0u60xhzrzHmZ8aYXxpj7jfGPGiMecgY84gcPWYc84RxzFMxaXDAiQ3ujSWerm7vejqrrOHpxXtLnp6dW/30zKyKp7cfqh1c2x8b3B82T8Us84QjPWaM84htm4citnmwI2Lf3x62fxmImZ+FEubehHSnZbm3u278+44Tv2ngvX3Ltu1/SiQSX0skEl8eqL5dfKziJunsykDgs52dnae3tLScSlgDAAAA8J/qI9oW/yWQHV8hGwhjn4/H4xdblnXZsarYQEXsBtd1f+C67o8GAtj/McY8YIz5nTHmcc/znvY873nP84ZIGuF53hjXdce5rjvBdd3JrutOddzEe47rzkg43vsxy5kT6LHmBgKJeeGgmRcMJOZ1Br151c2xeVlFzfMyizvnbS0LzNtV1j73QHXPnKzDze+XtYVmVPY57y3Lr506M6d68ntZ5ROmZ5aNm769dMzyXcUjdpQ0DyluCT0f87ynLcd53P7ze3vAGPuXxiTulRJ3uq77g4Gq3rW2bV8TSiS+2tjff3lVS8/F9V3RC1paQuf2Smcdq7Ad1xb5bwLbf/XnCgAAAOB/kI+plJ0k6RRJpw20+p0zUCG7SNKXBkLZNY7jXOe67vck/XAgkP3CGPNbY8yjx4WxYZ7njXZdd7zrupNc151mjJlpjJlnjPnAGLPMGGelZ5y1vjEbfOOnGN/fFE7E08IJKz0YSmR09FoZ3TE/o7Y7trWyO7G1JhDb2tAb3VrXHc44XNudUdsVzihuCqWn5tWlbTnSuWluTkPKfTMzNjy4OHftY6sOrhyaVrFsyMbyD6Zsr563cF/LzAV7aqblVrVPCtnueM/zRrueO8zxvJccz3vaMeZx29i/tY19nzHmXst17wjG3e9VdfTcUN7ce01lW/jKho6+L7UGg5d0dkbObwmFzg0Gg2cOVBRPIagBAAAA+A/5qFB2rFIWCAQ+K+nsSCTy+VgsdtFAu+KVA62KN0r6YSKRuNsYc58x5iHHcZ7yPO8513WHe543dqAS9t5AAFtsjFltjNlgjNlsjMkwxuw0xmS5rptrjJtnjFvgee4hz/WKPc8rCSXs0mA0Ud4bcSq7+52qIy2R6v314er08r7qNYcC1fP3d1YvyuusXl/UWb2tMlh9sD5cXdkWra7tjlQVNgQr1+xrKJ+8uaR0+IaSkldSyoqHJBcfGpNRWfDyuqK8V5OP5g7dUJw1fkv1zkVZZRmH6gObWzp6NlQ3d65u74kurW5ontfZE5oZTdiTWzsC4+Nxe7jjOC8FguGn6tu7fl/R0nVfXSD005qWwA8rGrturu/q+1ZjT+Sqzv7+y4PB+CUdf54mec7Az/C041ohCWsAAAAA/tInCGbndHVFLwgG45eEQomv2Lb9T47j3DAwwOMeSf9sWdbDlmU9GY/HX3Zdd6Trum8lEol3LMuaOxDI1hpjUo6FMdd1s40x+40xBZ7nHfY876jneeWe51V7nlPreU6D8UyT8fyWuGW3BmLx9vpgomNnRX/n/JzGrsGrC7vvmb2r+9uTU7u//mZq95ff2tb95Qlbu7/+9pbu69/b2f18Sm33nJy27sNtsa6y9khnUk5FR/KB1vZJ6/Jbk0ujLZM3FjRN2XSg4Z2tR2pfW5tXPSapqHz02oNHs2qih4ua+wsau8L7m4PR7MZAdFdvyM0IRczmuO2t7YvayyzLmes47nTLdt+K2d5rwajzcm/M+2N7r/1wR799f0N76J6KlsAPm3tCN3R19X6zpTv0lfr29su6otELwuHweQQ1AAAAAH/hI0LZsemLpwUCgc+GQqFzo9HoBZZlXRZOJL7W3df37a6u8M390ehdtm3/whjze8dxBruuO9S27bG2bU+NRCLvW5a1dCCMpbmuu9113exYLJY/EMJKPc+r8jyvzvO8Js/zWj3P6/A8r8vzvB7P84Ke5/V5nhcyvht2fD/S0h2Kljb2xKZnN8V/NntX/Kxha6xTh2+wThyyzvrUi2utzwzfZJ08Kt06a0Jm4vPvZCdOHZdunfx6qnXhyA3WQ3P3WCVtcau0udsqaOqPZ1X3xXdW9sXSDndEM8sCkT0VwXB2bTS0ozTQt7c+Gkwrau3ZV9XZVdQQ6Chu6mutaOtpauruq+/ui1T1h2Pl/bH44f549GAwbGX39Ecze6OJtGDETuoKWUubg9a8+kB0anVH3/jajvDQ+u7In1p7or/viti/qg8m7jpU3/2DvTWN386rbr+qvL3vsuZA4KKBsf5nEdYAAACAf2AfMfTjpGMDP44Fs4E9ZVfGHOe6cNz9fkd36N7G9r77OvvCjycc7znPc8e4rj0xFou9b4xZZOz4et+4qa7r7opEIjnxeLzQdd0j0VCo0nPsOjsabfaMaXN902UZJ+D4fq/jef2+Z4d9Nx51XSfmeX7ccX2ryfIThzpdu7QtZNd3x5zM0l7nqnHr3TNHrXUHjUhxPzU02f30kCRz0ohUc9KIdPOZEanmvIm7zZVzC80XxqWaL4xaa/6wqsCkVCTM4dqIW1ARcHdW9bqbj3S7mw+1Okn765yNB5vs1KJ2O620J5Gyr9radTQQ3340ENtb0R4trOsMN/TG+jvCdm9vzAlG425XJJ7o6I85zYGYUx+MxCvbuvpKW3sihbVd4f1lreFdlR1WRk59ZH1SQfvyJbkt72841DK1sjMyJtAXfbmsLfZ41pHaBwtqO+6taAncVtMeuK6pI3h1X5++FAjELgqFQufWBINnHjcJ8i/2qv1X/74AAAAA+Dv7mIrZKcdG4kej0QsGDoX+uqRrB84eu8e2zYPhmPNEbUf/0MMNgTfqukPTw5ZZKKP14XBvWsJNZMXj1n7P84oHWhTrHMdpNp7fYYzfHff93qjthBKOG4lEYjHf9y3HMQnfOLbn+k7C992E77tR2zK275tXl27xHp+f7uVUh7ymrrhf39vnV3f2+dN3tfk/nrHbP/mllf4pr6z3Txua7J82YpN/yoiN/pmvrPG//Waa/8T6Mv/RD3L9Gfm9/vSdVf7q/GZ/66FmP3V/jZ96oNFPyW/01x1s8Zdk1/qLd1X5a/dWe7uKG7300gZv3aEak5xfZeq7LbetN+HW9UScus4+uzHQl2jqCVtNPeF4UyAUaQpGwmUNPb31XU5PWVuso7gl0rqzuKkuu7Kj6qkVu4sfW5p98OHl+Vm/m5m+dU99//rS5tDSo03d06t6rLcOt4WHFtb1PHOkOfTgnoq2nzf3Wbf2xJwbShrav36ksfPyo11dF5S1hM4tk84YCMzHRvZTUQMAAAD+t/hQxexESSd1dnaeHgwGz4xEIufH4/FLjg38GBiHf8/A1MUnXdd9NRSzx1e09M3Kr+xcXN7SndIbtbdGQrFcz3MLI9Fwue+ZGmP8Ftf4HZ7n9fi+3+d5XtjzvKjv+ZZvvEQ43G97nutEo/2u7znG+K7n+r5nfN9zje/3JHy/oC7oL8yt9Zcf7vTbQ546+2zV9iZU39Wjyh6jrHZfswpiGppcq98vPqAX0+o1alubhiWV6f2cdk3PrNfEzaWasqVSEzYe1tysWq3Mb9Da/Cat3VurzYWtWnGgUYv3Nyq5sEvbi7tUWNvjF7XE/P21IT+3JugXNnT7hxq7vINNvV5hXdArrO0xB+pCbkFjzD1U12cX1wYSRQ1xq7TFjm3aVRjeX97av7mwvmfl/prOEclFLS+vOVz/alJp+Yw9LYdTj/bmrs2qzaxqD6cUt0VXrsqumbU4s2RyWmnHq2vza55dt6votwdren++p6r9B7l17dcX1AeuLKpvv6y2s/P8/v7+c46bAHkiFTUAAADgf7iPqpgdG/oxcHj0l2zb/objON91XfduY8yvJA32PO8V13UnesaZ6ThmZV/cbDzS1Ld7R1Fj3r7ylqOl9e1VkWiiOZFwO1zf7zGe1x+JWZFAIBjvC3QnfNeyXcdyXSdhfM/3HMd4luf6/XbctzzPb+vu9VMPtmhFbqOGL81USmmf5uyp0sRtJXovtVz7GuJK23dUde0xNQdcHWqJa9jmQt06JUUXvbJM35iQqvuX5GtiXrfWFLdq9f4K7Shp1taSdm0o6taoFdmaurVaU1LLNW9nkxZmtWhBdosW7W3UvB1lWpnToPSiNqWWBDU2o0aPL8/XkJSjmranTfOymjRrd5Ne39aiBxbv129WHdZ3JqX7Xxm5xr9u/Ab/x++le8O3VHkTdtWZRflN7q4Wx9lY2pcYszI3Pn1reWRq6tHQ/D1NPbN2VXaNWr2zeVxyXu2mg/VHV+ytL5i8pWz30kPB9Bk7S1auKGiet/Ro/8S3M8tGLj3UPnjO/uqH1h2ouXtncdMt+ytavnGopfsr5Y2BC48NFfmoitp/9e8XAAAAgE/gQ+2Mx84vO+24itkXBw6R/o7rundI+mdjzBOe5700cDj0DM84K41rNiYck9UTtvML6gKlGYfqa7YWVrdWt0W6OgLh3lDUCffHrVhvKGaFopYdi9uu67rGc40Xice9hPF8x7d9y8R9243LcWx1dvQoFjFauC1fL85P1sysWi3Y06LXN5RoZEq5Jm0r07aygNZmV2pjdrlyOmzdv3Cnrp6Spa9PL9TZo3fqxg8qdcOkLP1iTr4mZJRoe1mf6lpdVTVZ2tcQ1dbaPi3YXa1xy3OUUhjWin2deivloBZlN2rl/jatyq1X0r5azdpRqRsnbtM1U3fpaxMz9M2JW/TzhXm6b+URXTRig84YulZnDE/R6aPTdOqoVJ09JlWDnl3kn/bsIv+cF5b7Zzwy3bvi6fe9WbvqzJ7aqDt3d5mdVh1NLMisiM1IK4iszm/uXZPXHthaFW6dsa2ifkJ6Rek7u+sKh67ckzVyfd6WR1flrXxkxf55f1xfMGFIatHwaZmVTyzYXfnAhqK6OzKONNyUV914VWe/dXkkEjlf0jnHDRM5tkeNtkcAAADgv6sPB7OBP+bPkHT2cRWzbzqOc5Mx5ifGmN94nvfcwIHR040xi4wxmwbG4B90XPdoKGbXt/ZEWvMqOgIbD1T35dQEotklzfHalj67sbPfqe/oM22BqNcStP2OsPFDtu/3O57K2/uVU96izENVyqtsVVVPQoVttjaU9mritlLNym7VyM3F+uBQl3bWGY3fUKjRaWV6bUOh3t3WoBUHWpRW3KGnlubr6ilb9cW3d+mC8Tt03hvpumjCZn1nWpZ++O5uTT9o6fUdzZqY1ai5B7o0M7NW07aUa+r2Gj2/pkDPJJfqT0lHNWpzuWZlNWpWVoMW5Xdp2Z4aLdnXqodXlOqaybt01bu5unZOkb79fp5uXlCoL03cqYvHpukHS0p1/eyD+sa0HF36RobOG56iS4cn6bsTt+idfe2atu2o1hc0+UkFTf7q/GZ/8roD3rTNZWZxTou7NK/FHrMq19pWHohuKusNPT59c2Bs6tGOMdsb6wevL6349YqCg0+l1e+5ffbuTf9nad7K367YP/3Z5KLxb6Qdem7KtqJHlueW/ORgffutUdv+ZiKR+EosFrswHA6fN/CZnkJQAwAAAP6bOi6cfUbSicemMkr6XDwev1jS1x3HuU7SncaYXw60Mg51XXfKwOHRScaYba7rHnBdt8RKOHUxy23tClk9VR39/dnl7dF1WaVW2oE6J7e8yz3a1GcqWoNeYXWzX98d80s7HM1P3acJS9OUVRVQ8r5ybS6s1pa8Fu1tlIZtqtDdM3bpq2M36MLhq/WDmXt1+gtLdO6fFujON5O0OrdNu6stTd9Zp8HzcjQiqUjvbjmkWbvqNHh1sR5aUapfLz6knyzM113z9+nRNaV6dFObvjU2Rd+buk03vbddd07frd8uPaxh6U16eX2xXkkt1z9P36HfzMvXz9/bqdEbj+qtrdUalVmn+xbu0OAV+Xp00WHd/u4e3TwvV994e6dunZKjH83er8vHpuq3G1p007TduumdDD24ulQ3TEjTz+bkasruFq0u7tGOuoSW5VZqRWGH3s+s1rLcWu2u7PffSSvxJ22p8Eas22uGrM0yM3bVOO9mlCVmZtZEH1q6P/Tdt1J77lpY1PHQmqN1d8zYU379O9sPXD9z1+4fzt2b9JMF2Uv+lHJ4ypCkfaPHp+cPXpZb/JuEdKfjODdJ+rplWZdF/nzw9VkDn/FJ7E8DAAAA/pv4qGAWCAQ+G4lEPh+Pxy+xbftqx3FuGBj88cCxipkxZqYxZqkxJt113T2u6xa7rltljGl1HKc7GrP6e/qi0aq2nkRBbaez43CT2bS/xttS1OpnHmn3D9T3+IfqelRY1qW5m/apoMvT0pxy7aoPaWdJh1oDjpo7wpq6p0ZXD5ut819ZpB/NytHP5uTpsbQmXTIiRVeM3aK75xXoxc31ej+zRgt3HtGUjGqNXF2hpz8o1LD1hXoz9YgmbqnXnMx6rcpr15L8dk3YXKS1Zb26b162bp+Spbtn79cts7J1/ZSdumJ8ir4/JV1Tt9dp8oYKTdlRo2n7W/Rm8iGtOdSn3y/YrYeWFevFlHYN3dahoTsq9FZurV5ZUaRpu4J6I6tRI9PKNWdfq+btb9ekA916dnOppmY1auWhZo1blamNha3KrOjS7N2NWnigXY/NSNXinEZllvYotyKkbfWuFuys0+4j3f6G/V3+M0lV/ovL9nvz9tabR5bucf6QfDjxkzl7Yt+ZldV/7ay9PeePTG796sStdV99I7n4hne27f/OpE3p987YuuYXc3bOfGbxljcjjvec45jfJ1z3Htd1v2/b9tWWZV1OUAMAAAD+G/nQEJBjZ5mdPbBn6Qrbtq9xXfdWY8zPjDGPe543xHXdt40x840xKQOtjIWO45QbY5qMMZ3GmH5jTMR2XKsvYtk1Hb3mcEPAyzzS6m860ODvre5X2sF67S3v0IGqPi3PKNW6o2HNzqzUov0NymxKaHVutfIbotp5tEPz9rVoalaz3tjVpD+tK9AzSXn6w7oc/WrpYb28uUaPzt6tYetKNWtvs3bWxbSyLKTXtrVoyo4mZbUavb42TyuP9Gn+gYAGL8rRT6fv0fPJ5Xp3e4leWVug+UWWfrc4V79fkqunVxVoVl5Eq/LC2lRh65U1JRqdWqWJqSV6N7VYa4r7NGR9oV5MrdeVQ1fp2gkpunvWZi051KqtxWGtO9Sj8WmFmphSonkFfRqe1qRvT8zQ2SNTdMErq/XUhmI9t2SP1uypVfrBFiUVhbXhcFgLdtYq/UCb8mvDWp1br8fmZ+ilNbs1ccdRPbnmsL7+ymLNzuvy5+5t8pcc7vPGFMbNje9sc84cstQ6edjK2GdHbe4/95XkwMVDVjR9+50t1ZePXl34zTfW7b1h0qaUe6auW9rQa79tu94ox3GesG1zv2W5t8Visev6+/uvCARiF0k6e2Di40kMEQEAAAD+P/tw1WxgP9JZkUjk85ZlXX5cMPu5MeZJz/OGua777sAes7SBitkR13WrjTFtxpjAwFj8uOd5tud5rv/n8fdeV3/Cr+2MaF9ll7YUNCq7IqCU/ErtPdKt1fkd+uYbK3XbrEw9t7FaT64t0ZPJpXp8Y7lun7dXV725UY9vLNNvVhXqxfR6jcts1yML8zVyd68mp9fp/W3lmppdr0fXHtbXhi/SiLRyPbEiT79OqdLzSYe14mC/ZmS1auimAv1i8T49sr5E9y8p1MspZfrD+zu1oDCmccn5GrsuTwXtUl7Q0/B12Zq8qVCr9tXo+ZU5uundLF350jI9tbxAQzcc0bpyo2n5vXpxd5sGJ9XoseUVenjyFs082KY55RHNOtSjTe1Gj83coj+sLNUXh6zUFZMyddnEPfr8Cx/oodlbtPxoWOPSSjVuS4WeXLBLUzJKtfZgvd7dXKCVeS1aV9ip5fmdGpNWq3vf3qbJ2+u05GCr7p2WoieW5ejqt/b4Fw3f4b+SWu9dNTnDfGpEkn36sBTrV6md4cvHbeo9e8jStmunZdVfPmb9kStHLN6/vbo7LW57q+LxxLRYzB4bDFtP9UfsXwf6Irf1x2LX9ffrioE9hmdJOu24sfzsTQMAAAD+M31EODtN0lkDf6BfIek7kn44MADkadd1x7muO8MYs25gj9lBx3HKjDHNxpiugYpZ1PO8hOd5jud5xvM8z9vlZsIAACAASURBVPNc3/ie3x9z1NIT16HagPaWtim/plvbimq1tyyqmXm9GjR0gU58br5unr1Ldy3J0x0f7Nf35+Xocy8v1S1z8vWj2bt19+IDunX+fl0/PVOXjNusM0al6NZp2XomtUE3TMvQ1TN26ZrJGfrdoiK9kdqoX83I0WPzc/VOdqcm7ajVsDV5mrStUdOyOjQhs12Li3r168kpGjw3S+/tadRbe5o1dP0BjU7OU0a1r7GrCpTTamn90R7dOCNX335npwavq9DLqQ36p9HL9L33tuh7r6/Tn1Yf1iOztimpNKrvTUrRF0Yn66tv79Zlr2/WA8sKNHhjiX66MEcPr2/Rz+YU6Q9JZRq5q1Fv7GzSuMw2TdvTpLkHejVy2R4lF3dq+KYaPbUgW+uLghqXUqi7pibr8Q379MtpydoS8PTcugKN31qlmyem6apxaZqys82/eepWf9ArK8ynXlnnfn5MRuLEZ5fGzx+7sf/cEesCZzy/sPmClxZVv59VebA3YXZH4vb6YNha0BqMjW8ORF/u7I08GAwl7nEc5zvhcOLKWCx2YSgUOnfgd4KWRwAAAOA/04dG558ysNfsfMuyLpN0reu6t0r6taTBruu+MbDPbL0xZrvruoWu61YYY1qNMQFjTNgYEzfGOMYY1/M8z/d9f+Af+b6R7/tyXF99UVt1HSGVNgdV0tajI7XdWl0a1flDFmnQn1boxBeXa9DgOTrjxaU69ZmFOv1PC3XztK0asq1JP56XqXsX5OnCURt04vCV+tQrqzXoj8s1aOganTJ8o858LUNnj9+uC17fpktHb9Vb2UG9nRPU119eoAeX52jGrgrN2HRE28t7df+ba3TlsCT9ftE+zT3Up5cX79SaozHN3dOjSZtLtbkqroenJOm5zSWallGkRQcbtbrB04K9lUprSOi6oUt0y4RNmnfU1vikQi3d36KMo/1aWtytR+bv1WOrDmvYgS6tt4ySW32tyK/XnL1Vmr23Ra8nH9a9E1dpen5Aj6wp1m1vp2lmXqNGbDioWbsrtay4QzMPBHXDa6s1+1C/7pu0XG9lt+v20Yt17VvrddnQ5bp70g7dMWmb3ilN6Ozn5+iSFxbo1tn7ddbQdf7Jr2zwTx6xyTtl+EZz6ph056RXk61zhq8Onz1sTe8v3tvSWtZnatt644eq2/r2ljYFN9S09S3s6LPG9cUTL9q2+XUikfhxVLo2kUh8ZaDF9ezjDrkmpAEAAAB/T8eFs+NbGs9PJBJfcRznW67r/ljSrwfOMhtvjPnAGJPkum6267qHjTH1xph2Y0yfMSZqjEkMhDNvgC9Jfw5n/xrQXOMrarlqD8ZV39Gv5mBE5c19+snUJJ38wiKd+OJaferpBTrh6Q904jMrdMJTS3TOi0t1x6wd+tHbm3XX/DxdNy1Lp720SicN26DzxmTohOfW6IzRq3TeyM367PAknTU6TV+atEdnvrFNV41P1pPJxbr5g326YWamNjZKY1NLtb6sQ39asl2/Wbxfr+9p1rMpRzV4XYGGZ5Rp0tYKLcir15srd2p+Vq1++Hay7p6xVw8sPqKbxyTr9ZQCTdpdo2dSK/TC+lLNOxLS0rKQttbaGrxop346I0mZ7b5m5gR1zkvv6+xhc3TF0CTN2BNQfre0ILdKD8zdqtveTdczyw/rT+tK9PO3N+lI2FdKYaO21lt6a8tRzUov09t7OnTdqOV6eu1+/XB8kp7b0aJ/Xlyoq8Zt1nXT9+nsMUn65bLDum7cZv3TlG36/vwiXfHGDn1jer7OHL3ZP3Nchn/ptALvs69tcU98eXnihOeXxL/72oa+vHaru74r3HC4NlBWUN2dU94a2tLdby/qj9tT4wnnJccxjyQS7o8dx7lxYCT/RbQ8AgAAAH9nx7U0Hjtw+oxQKHSuZVmX2bZ9tetatxlj/8LxnGddz3vNGG++MVrvuu5e13WLjgUz13X7B4KZfaxi5nnecRWzv1zHwprrS3HHV08opu6QpWBfXKWdYT28JFenPr1An3p+vk54eo5OevYDXfTmVp394gp9b9o2Pb6xTD9ZfEBffDNDF45dq7MHv6/PPLNAXxy5QY+kVOrMV1foqxP36Pq5Wbpuxj6NLjL63IjVGrwsT6v2t+iplbl6Mumo/rQsTy+nlOiJJQf0QkqFHvxgn340NV1PpjbqrnkHdc+MXZqzv0kTM0r13OoCTczt1PBtdXpmW62e216ld/Y3K6Xe0oK8Dq0p6tXCIz368cwtunFikn4zK0253VE9PXuVtna6mlcS0subD+pn09frdwu26r29dToa85RSWK2tDf2ava9WTy7eqze3V2h1SVCvJRdo7JZqvbiuSD+fmqbvvbtd3xm7VGNz2/TFl2br229l6oJX1+jcFxfr8e11uvH1VP1gxh5d8Pw6XTk+SReMXKWThq3RhW/t1LXTsnXNO1m6cnqu7ph31P/Rskr/9NfTvU+/8IG59KVldkpdf7yiubc/52hr9/7Kzoaq9lBZIGxlh2NumpVw5lu2OynheM/atnnQct3bJF07MJL//A+dm0Y1DQAAAPhbHD+lsaam5uTOzs7T26XPBYPxL0aj9jcty/rBn0fnO8+4rvuWMd482zap8biVHY1aZYmE0+C6bsB13ZAxxjLG2P+6x+yjg9nxy/M8uUaKO57ClqvemKu+mKfyzrDmlcR0zweFOvm5OTr5j7N1wtMLdPJzy3Xxq+t02/Sd+v6Mrfqnd7fp3LHb9YXRG3TFkKU66ZkFunL0Og3NqNCpz32gC8Zm6Ib3duj6d/fq2qm79eU3krWj1tHyncXaXNihZfsaNXlricYml+jpRTn61YxtemRVgR5ZcVAvrj2q1zKa9ZPZ2zUys1TPrN6v7763VZeOXauXsjt048ztunv+Tr2YUqQ7Jm7WY8sPaWhKqf550S5NLY0otdrTxI0HVNwW1/Tt1fric3N16eiVumvWbr2TVactzZZeScrS8pKAVh1o0LbqkD7Y16QxW+v14IpC3TZpgy4bulxXvZmhr766WCNz2vXrtRW6a/Eeraru1G0jZ2lSXlDXTUzV1yZn6dpJW7WsJKz1R/r1jVdW6vWCbl0+NkmffmGJzn8jXb/e3KIbp2bplvlFumXaPn319XSd+uoGf9DTs/1zBs83S4+0u0ebglZOaWskv6orUNPe19obipaF486BWDyRZln2Mst230q43hDbNg8kEu6Pbdv+5sC+xM8Fg8EzBw4uJ6QBAAAA/1EfbmlsaNDZ9V3RCyrbAlfWNYduaOoM/7wvbD1m2+5rA0NAklzX7IpZbkk4bNWFwrHumGX3HwtmxrhmoJ3xY4OZ53n/sowxMsbIdowsx1PMNoomXPXZvtoiRi+t2KfvjE/SpcMX6aQ/TNWgZ+frnFHrddP0LN05J1uXjFipzw5Zrosn79Zpo5L13TmFOnPYKj2QXKsnM5p1zqubdeqYDF07aZfuWVamCyds0/Xv7ND24hYdbulXRWNIrX2WVu05qgNdUm2vrYqgUfrRDu1qjOiDveWatfWgdjTE9e72Sq0+0KC1Jb2altuhF5Zn64VVhfr94gP62ujleuVQr66fvFF3zs7UBUOX6wvDNunK0et17+JMvbG7QY8s2at3Crs0ozio+5fsU06fq2V5rXoyvU7PbmnSqC0tuvv9XH1xdLLuXligq8ds0Pem7dIfN5bowcV7dOfcfbp9xk5dO2a97pi+X+/vbdKKog7ll/dp+eGwrhiVpJ/OzFZ2Q5fyWuO66MnZ+un0LF09epNOeXapvre4WD+au08/mJapm6dn6Z+XlejWWdn62do6nfbH+Tr74ff91Qc6/Yq2sMmv6nKLG3qs+s7+SDhidVsJ02wlnBLLcvbZtklOOGaBbbuvJRLOM4mE+bmkWxKJxJXxePySgX1ptDwCAAAA/xHHDwNpaWk5NRgMntkYCFxY1hL6yoHG4M0Ftd33VjT1D27vDo8KWc5cY8x613VzXNc7Erec5v6I1R2J2RHb8SxjjDswB8Q3xvybcPbhQPbh5biebMcoPhDS+hOugpansVvKdPYT7+m7U9P0pWGLdcLz83TKCwt0zeR03TY/X+e8tFznDlunz45cq8+9m60zR6TqxBeX6OJRG3TNtH36zvt5OnPUBt0+ba/umb1HZ760SHe+m67s2m4dbgqotLlPNR39yinv0ORVOWo30oGaPm3Nq1FFt63t5fXaVlGnjMIaFTT0am91q3YdbdOB2j6t3rFfG3KPaNnBWi0uadera3bq3vk5un5Wnq4ak6wvDV2mC1/9QN+fk6nr3t2iLwxfoK+/lqxfzs7WH7dU65mtFXoppUL3zt6nXywp0o/n5Oqaabk6783dunpyuu5btFP3L0jXb5fv1uCtVfrCi/N06ajVenR5ltbVWxq6NFPPrsjUgSZfj76XotsW7NOvF+eroccovSmu70/crkteWKYbZubovJHJunJCml5Ib9Loba368eQtenJNlW5/e6d+urBEFw5bqTOenKcl+W2q64r5hxt6vbLmHrepqz8RjliReNwNWgm72Uo4FVbCzUkk3DTLcuZatjvBcTTYts19ruvebNv21QOTPs8ZOC+P4SEAAADAv+e4EfonSTqttTV8XmsweElpa9+39lZ335p2uOWhtMKWF7JLu96tbe1b1h91Mx3HLfAcp951vY6o5YYicS8eS3iOa3xjjPGNcXzfM3+1nfH4fWfHL+NJrvH/JaglHEsx29dvP9ipU5+fp5N/95a++doqfXPcOt04NV2XvZGsc0Ym6cwRKbph4RGdOGKDBo1M0oXjdurEIat15aQdOvvllTrrlRX68qQM/XjGXr1XmdA5f5ytV1JLdaixTw0dvaptD6uiI6rdxbXakFWmLUc6lFsXUn3IVVl7SFUdYTX3O6qs7VRnZ79aOyPqD7nq7XXU3G2prCOojn5LPQFbhTVBjUk7ol8t3Knn5m1SbmWHKjr6dLCxX+kNjoavytaXX5yrB9eX6KkVe3XzlEzdNTdHL2b36Ipx6bpl2RE9kNWr897cqfOGrtbVw5frqpfnavS+oC56epYeWJyrwWsOadPRVmU3hzR5Q5Z2NwaVXh7Rfe8l6euTd+g7b6YpPeBrxJZaDdvdpAsGv6crJ+7Q6S8s1wNLSzR2U43e2lihZ5fm6xezcvWrhQW66739uvyNDTrhsZmav69B7X0JVbb2q7I16Lf1hL3+SMKJWiZhJZyQZTkBK+HUWwmnJJFwM23brHcc913X1QjbNg8lEu7djuN8S9IV4XD4vIF9aSdRSQMAAAA+xkecb3ZOb2/vpTUdwavzaztuTzvSdP+yfTVDluVUTdpxpG11ZUtwW3/MPew4pta4ptt1vVDccq1YwnMc1/e8P4/Nl+e5+vcC2of9S4XN11+ENM9zFbM93b8gUyc+v0CnPvauTnnwDV0zcpm+PGyJTn5mns4atVEnDE3SBW/u1CljtuiEkSm6fVWNrl9yVGf8aYlOfGSaPvXMYp3y8ipd+Vq6bp25R+c+t1jPrC9WaUtctd0xVXckVN7lqLitT00hX0dawyrrCqs14epgXacO1QVV2+Woqr1XhfXtqu+KqquvX1XdITX0Sy3dcXV1RtQbclTSFlFDn62q7h61hhy1BY26E46aQr2q6+hVWXdMlTFfhwJxlfXG9G5OnX6/5qAuf2WGfrK8UBcNW65znp+jy99M1eUj1+n8Iat0xpB1+sILc3X/ol36xftbNKewVRlVfVqxv1qvfbBLmUebtak6pIdnbtGVIzfohxN26ORn3tG9swp09gsL9LUJ23T+iCRd/OZWXTchVeMymzUxs04PLd6tO2bt1W/WlOvXi4/oO+9s1ykPv6cl+5rV0W+rqi2k6vY+tfaE/b5owoskjGslHCthuxHLMt0J22myHfew47p7bNusdhwz03W9IY5jHrEs93bHcb4t6VJJn/vQeWkENAAAAOCYY+Hs2DCQSCRyfkdf35eqOkI35NcH70otaHnig+yakePTS+e/nX40ObWwJa+4sbOsN2K1xeNO0DV+3HKNbdkJk0g4njG+73n/tiL2/7I8z5ORZPnSt4bM1aCH39KJv39Pgx6coBP/8K5OfnK6Bj0yTYMGz9Xpo1J18sh0nfN6ur7w5lad9epanT8qSSc8OlMXjkrWZW/t1NXv5+nckem6eMIu3TFvr0YkFWnKxoN6L+Oopu9t0LCVe7Qit0qbi+qUW96sLQXlOtIaVvKeEiXtK1ej46miNaiqlqBag3F19FrqidgKhhN/Xv0JdQaiiiZ8hWxHcU9q7giorSesnphRb8wo0G8rELUVSvhq6uxVZ8xWXW9CR3sTGrxgu64ZsUS/Wl+q+9YW6s73t+n703Zr/N5O/XLGVv18epq2dftKOtKp4paYNhyq15baJm0qb1FRc79e31qsYSlFmliU0GPJ9Xotu1HXj5ir51OqdPLgmbrg1TX6/JDV+sXSYg3NaNQL6w7r+eQKPTg7V79deFAjMur0o3e26tRHZ2p5YYfa+xKq7wyruj2kpp6YeiKOH7ZcP5pwTSzhOZbtx23HDyVst812nBrb8fMStp9hJcx8y3LftCzzRMy2f+E4zg2JROJrkUjk/A8ND6GSBgAAABxfOevs7Dw9FAqd299vXd7aFf3Wwdr2e3YcbXn4g6zKMW9llM3846oDm0YmHcremN9YeaSxq6U3Eu9LJJyYY3zHco2x7IRv267v+5Ixf79wdmy5rpHt+XpsabY+/fCbGvSr8Rr0wFh95oEJOuGhSTrl8Rn6zBOzdeILq3XSkA065eVV+tzIJJ30x/n6wqh1OnfoKp323CKdPTZFp7y8XGeNSdeFb+7UHzfVaerOOu2rbFU0LuW12Xo/q0b7K7tU2xlUXTCmzOJa5VR2qKQ5rLyKJlV3h1TZ3KOGroiaA3F1R4y6I46CsYQilq1QJKH+iKtAv62m7pA6+qJqDYTU0N6jzr6YeuOOAn0R9cdsBfrjau2J6khNh4qq29TU76g6Lk3Pr9edM/fqxhlZ+sH8/fr8sDV6cn2eNnS6Gr7pkBYdbNDaQ41asP2Qsms6tbW6UcWBiCpa+3Xr+HV6YXOt7l18UF+ZkKGk2rDumbJCN76WotNfXKCTn5mtL4/eqN+vrdK9M3foqeSjun1CipYUhfTy8nwtLOzRixvLddYz87W6LKjOPlv1nWHVtofV1B1RMGwrEncVsRw/ahkvYfuO4/qW7Zg+x3U7bcertGxzMJYwmyzLfGBZ7phEwnk6kUjcE48737Us6/JIJHJ+Z2fn6QMhjUoaAAAA/rF9uHIWjUYvkHRFMBS/qby196ephY3PLs2tG/dG2tFlT64t2PJ/5u0pemHVwdqtRV2BitZguDdiJayE4yaM71mu8ROOLdf15HmS53kfua/sb1n/2vvoyXiuXk09rPP++I4+c/84nfy78TrpwQk66cGJOuWRdzXo4Xd0+ksrdMLzK/SZJ+fo049M10lPvq+TnpqpE56crk8/Pl1nDFmuU19eqvPHpOorb+/W9yYma3F+lzr7bAV7Ynp05jI9sXi76nscdUUiau2zlFPWqrzqgFpDRgnPVzAcUW17vw5XtaquI6z2fltVLV0KWo7CCVeBUFwt3VE1dIZVWN2umvZetQbC6ui31Bu3FbWNLNeV5dgKJ2xZntQWjKkv6qor0CfjeIr/X/buK8jO+k73vbolkQ2YjY2P4zjNxmkcxnFsj2fsM8YZ44yxTTAoC4FIRgSTJIJAAgnlnCUUEEI5526ppc55da+c13pzjt9zsVpCnrHrnH32rrJn5v1U/Uu6EDfdvar64Zcsn2cOtPCdhYe4/rkdvHviK4zd1svPljbw0qFBmlRY16Vw3/K99Jd0YmWVs9WQw3GFD973Kl+Ytpk9lYCPTFrB++9dygOHMlzz+G6uvXs1wycs5LIH1vLDOad4YHMfU97s4+EtPTy/s5OprzWz5HiK2acE3nbXK6zvKJMXLOJ5hVhOJllSqcoWiu6g2x665YemHQSW7fuW7dq26+qm5VVM002ZptdsWt5Bw3JWmLb3om0H4xyfn5uu+2XHcT429DN3VVRJi0QikUgkEon8t/bnKmfAhyTD+GxWNH5welC4fXVD8umZ+3oWTN7ctvvmFadP3TBrf3zyhjPFA61lLZaTLdlwfMt2A9MLQssLsBz7goD2f65y9lY+8wnxeXJ/LyNufozLbnmey26bxkW/nkr9z59kxG+fp/63L3D53csYOXEZF901j4tHzeXae5byD9N3celdrzD8tpe47K4FXDRxEf+ypJN3P7yZzz21io0tAqblUTVMfj9/CROWvk6yqFPWqhRVl6ZYhYbeEr1ZgXgmTzJXJlXRyQomqbJOoqiQLAqUFQ3dB9kKyAo6qYpBy2CRVEUnnquSE3QyZQnV8bG8ADf0sX0P2w9QLZd8RcSwbWRFJwhc8pbHtN2tjNrcyuzmHBM2t/PQljbGzNjA8WJIU95g8YEOHlt/kJPxHE2Cx96uIp+4bwZjdmbo8eHDkxby95PnMXnNWf5teQdjjkh8aW4zVz36BqO2pHl8ywCTN57h7jWnePKNDl7eNciL21uZ0yjwzonz2dxZIVs1GMjL9GUlEiWNsmIh6za67WHYAYblh6blhbbj+ZbrOpbta5YTVA3LjRuG22ZY3m7TdFcblve0aQcTbNv+gWl6XwE+pOv6dVElLRKJRCKRSCTy39YFq/QvOjdzBnxINc2vVFTjB10ZZeLOlvwzM/f2r52yuXXvHSuaOn4492Tye7P2i0++0ak39lTcZEn3Fd0JTdsNLT/E8nwsx8Z1fWrzZ//71bM/xw9Dvjd1NcN/9Qh1P3mG4b95jpG/eoa6nz/JyJuncuntM7h+6jbqb5vFiDvnUnf7LOpveYErRr/KZaNnU3/rdOpve5WLxy3imnvW8oWZRxm3sZldbRV6czqxokVb1iEmQrKoo7khZc2jN2fQlVZJVFRyik1W9khVdIqKS6asURINHB80y8X1Q2RFxw0CvBAUq9bO6IRg+jCQq5IsiPQnClRkDcvzUTUD0/GoKhZF1UFULGzPwzRkirrG6+1Zxs7bxdRdHRxKq4ybsYS1nRVOJEociMu8sLOFY/1lGvsK9KVkbpq5nVFr+vnOnKN84ImNjFlynFm7u/nFylNcOXkZP1zVz1UPb+Kb0w/y0K4kv1p6kIc2dvDq4SSbWnRe2N3K5A1NvHfyKnb26iTLGr1Zga6MwEBJpazZCIaNYthopodh+dhOgO14oe04ge0Eru0Epml6om44OU23OzTDPqZpzlpdd182TXeiaTq/HApp15+bSYsWh0QikUgkEolE/lu58M7ZuW2NlmV9UNfdT4uG/f2coN7eEKtOXXd8cPETW9v33bPuzNnfLm5I/XDO8crP5h01Xtzd65yNCX66Yoaa6dWOSfshlhdiWg6u6w+Fs//zAS0MQ9wg5K4Vh7ly1Au87daXufSOGVx081Tqfv4E9TdPY8Svn+fKsfMYdst0Lho1j0tHz6P+ty9y6Z2vcMmdL1N3ywuMHLOQd03ZyHV/2MxHnt7J4693sqejxKl0lf6CTbbgkixqxIplND+gpLoca03RXzBpaOslp7rk1BDBDinrAaLmI8g2smKiGzZhCJ7nEPguEBCEIcVKBTcEw4eeeJ6S4lAQLUTDw/bA80G3fQqyyen+PH2lErLjEq/q5Ksmg7LHy7saee10ioacwemcwaJDPbzWmOTpVYc53FekJa1ypmDRVfX40tRNjNnUxWWjZvPFWUf59dI2njwU5yvzD1P369l8Zu5J3j1tB79a1cUtK5sYs7mNJzf2MfdQjOXH0sw+0M3U/Qk+/eQb7Oo2iZc1ujIi7ekq/QWZomohGQ6q4dYCmulhO7VzCJbthpbt+7YTuIbpGrrhSIpmplTN7tR0e59mOus0w5lqmvZE27a/77rul4dm0t5xwXbH6E5aJBKJRCKRSOS/tgvC2cihg8HXWpb1AdN0v6gY9ncLojG+O6s8s6Upue6F7S377l7T2DVm5en0zxc0yDfOOWmOXnrCW3J4IOhMSmGxaqBbPrbjYbu1X84NO8C2/KEWx///Ae0vCUMHP4QH1p2g/ubHGfbDhxj5i6eo+/lTXDl6AZePW07dra8wctQcLh41l/rfvshFt7/MpXfNZfjvZjLy97P44BObGDl2AZ97eh1/98AKRjy4kgfXnuFYUqGlYLO7oZdk1SUh2JzpTSMbPn3pIm+e6KC7oFOSDMqShuyEZAWdnUebiaUEvBBMJ8R0fCzbrd1uc7yhimKIZhhkqzLpqkGiKFBVdKwwpKJrteBm+8heQGs8Sdtgld6ihWmHmK6F5gXs6s0wbfsxeoyQVUd6OJXR2BeTWX64m+e2NpEQDN443c+oxVuZvu0wn395F595ZhXTYz63rj7JLxed4YbFLXx63lEuu2cx1zyxhc/POcUnn9vHpx/bzIQVp3h2Tx/TtrYx6+AgM15rYfzKE9y8tJETgxaxgkZ7QqI5LtCdVsgJFiXZRtJdZM3Gsn0su1ZFM90Aww5Cww4CzfQ8zfRszfBk3fQKuu52mZZ3wrT8dabtzTTsYLzpOD8zTfeLtm1/dGgF/xXUzj1ElbRIJBKJRCKRyH9dQ+FsOHCJIAhXmqb5Pk1zPqHY9g2Sbv02XVKeOhOrLFx5tH/fk1vOnp2w9kz690sbqz+fc8L8+bwG995Vp4I1xxJhf1ahLBnotoftDFXRbL8W2GwX3w//twLaXw5rLq4Pz+xs5aJbn2H4TX9kxK+eoe4XT3PtxGVcc+86ht3xKpdOWMLIUfOp/91LXHLnbIbd8iIjbn2Z+ttf4fpnd3DV3at54WyKG2dvZdhtzzGjUaajGrK9aYDmuERfWiFRsejLieQEG80JOd4+SFdaoKraKKZLQTIQrZBE1ajNnBkehaqEHUBI7X6bPxRUAfwgQLR9dpxooeqGqG6I4djkuLLDsgAAIABJREFUpCqq56JaLpJhUJFVJA36EhU0yUGWNQI/RArg5dePkfbhcLzAsZTOyaLHpoYuVh3opLNg8PTGw/xw6hJ6pYD3Pbicu/eV+cCdM/jEuOk8vq+bm5Yc5iNTNvDzFV184rntfHtND3//zG6+t/gMj27r49k32llzVmHpaZHXz1SZsPYU//TCdhqzDv0FmbZElTMDFdqTMoMFnXTZoCBbVBQL1XTQLLe2NMT2MBwf3fZCzXIDzXI9zXJN3fBk03LTlu12GZa3z7T8tZblPGXb7ljbtm8wDPfzpmm+b2ge8pKhkBZV0iKRSCQSiUQi/7Wc24wHjBhaxHC1YRjvBj5jWd63VMO6S9Ksx3uz0qoj3cU9c/f3dE5Z35QevfKMfMeyRvM3ixu925Y1BU9saQ63NKUYzCtUZBPd9rDsCwKa7WGYNo7r4/oeAeHQC/5CAOMvvLdun/3JC10CH6bv7ebiO56n/pfTqPv1swz/xWPU/+IZ/u7RjQy/fSbDb32JultmcNmoOQy/dQbDf/U8I297hWvvW8U1k1fy9rHz+Z8PLmR71uM942by4VunczpZoaNgkpB82uJ5UhWD9niZzkQZOwDRhkzVIF0UEDUb0fDICwY5yaaiOciGTaYiIJoOqungB7Xj2n4QEgJB6FM2PeI6NMbKlI0Qx3WpSDKm72N4Hrqu4no+OVGjYSBOzvLJ2A4DuQxJ1eCOFxfQnCyx7fAxNndWuHPuDhrjOXa0p7jzpXWsaSvx5Ia9jF+3n2v/+DpX3reOb855k0fPivz02Y3sSgeMXdfOmK09PNMLn5y2jdG7knz/1f2MWt7IH9/o5dF1TTywpom1R+I8eSDNt149SlvRYqCk0pkWONGT52RPidMxiea4RH9RIV3VETQLybBRzNrXQjFs1NrXIhx6nmratm57sm57Bd32OjXLPaY7zirb9l6wLP8u2/Z/pMNngL8Drh6q8o6IQlokEolEIpFI5L+Uf78UBHiXbdsftSzvG47Dz2XDmlIQtdm9WWXn4a7y6bl7elJT1jVVJq45Y45e3eTeuaoxGL/mTDhjdyc72zPES28FtNpiiNrTLBfDdM6HNj8I8IMALwjwAs4/xwvOP9cL8PwQzw8vqDr9+RX9XlALaBv7NK65ewFXjlrAsFue59LfPEn9zx7not9Op+7mqVw5ajYjbpnOiNtmUPfb56n/9QvU//p5LrpjFhfdNYcxx6tcOXYx331pJw/sSXL34oP0axbdBZO45FKxQ4qKTX9O4VjbIBXNYzAvkRcNZNNHMjxkwyNfUUiWFPKSihuE6I6HHUBZVIbCq4tuWgSESIqE4IQcaI3TGCtRUF1s18P3QbMcJE2nUCqiWRaDsk5MdmjuL9GRLuH5ASlJpsv0OFtRONEXZ3V7kYe2nKIjnmdfR4afPjOXo1mTrorE+qzC1+c18rVX9vP2Mcv45OMb+efp2/neK7v46by9/HhZA9+ZdZjPP/Mm/7qwgRtmH+KeFU08tzfO41taWNWmsrNb5ok9KX6x5Ayxks1ASaEnJ9PYX+ZwV4E9LXn2dxRpTlYZrJgUZIuyZCAMzaYphoNinn+hajqBajiearimajiSZjopzXI7dNveqTv+csPypliWf7tled/QHedTwLuAq6KlIZFIJBKJRCKR/1IunDsbmu25FrjeM71/chznFlP37hdUY2FR1Ld1pcSWoz3lxOKD/eIT604Zj29p8x5Ydzp4dFNb+OyOHtaejHOyr0yurCGoVm3mzAkvCGgOuuFimC6W7eN61GaxvADLG1ok4gYYjo/h+Ji2e75F0h0Ka64X4Ps+vu//hwqaF/r4HmzqlnjbmFep/92r1N/xMnW/fpphP/kjw38znbofP8rld8xkxM3TGfbzJ6j71VOM+NUzjLx5Ku99YBVXjFnAex5cy49fb+Ft967np4sbOZEVaUnppGWPg609FHWbkmwTLxk0DVboLegM5CUk06cgmpQVC9XyyJVlVBdEzcQPQjwvwLB8BEXHcGqr8x3PxQ8DDMtCMENakgJdWZmsaCAZNprpUlI1BMdHVk2yZYFjsSSPL1nNYEVB810k3eG1I22MnbmWI+kqL207ws4BiceWbiEtmuxoGuR4b4EzaY+4qLE3rfPhx9dx4+KjfHXaZhYO6nz7he386KV97Fd9fvziBn6xqIGP/nEzX595kjvWDPDotj7mH8sy70ic1UdiLD2eZMKas0xY30ai4jJQUunOyjQOVNnbkWdTY5I3zubY35bjTFwkXjJIlXUKoklVdRFU+09eVbFCQbbCqmR6VdG0RMUUJdXKyZrdIuvWflmzFmqG86RlObfotv1/q3D9UJX3iqGqb1RFi0QikUgkEon853ZhayNwiaIo15im+T7Xdb9g2/b3TNOepKv284JqbClL5rGejDjY0Fcpvdla1hcfiTsz9vQF07a1h89v62DOnl62n8nQOiBSqppIuo3phP8hoGmGi2a4GJaP44Y4bvgn4cx0g/MzSpbz1gzbhc/zfHw/wPeDP2l1dMMAz4NduYArJy5gxO8XcPG4+dTf/hJvv2cZ77x/NXW3PM+ld77CiN/O4NLbX+SSW5/nkt88y6W/e4EPPbqB+ltn8p57V/CeKet49xOrmbirh4aUTXdap2KHdKZLiE6AaPjkFYcziSpdeZ1ExaSs2BREA1GvrcEXNQvdCcmVBDw/IPQhDMD2wfJC7CDE8X1CQjzfx/ChaHh0pQTKuovqBoiOx96mNnqKQu3r4wT0llVO5RX2HG9DNAxkJ6Ahq/LKnkYaElVGz1hJc9EkLlo0DWY4lVQ5kdH45R8XsuFEJ2uaBa57dAM3b0owZvFRfjHnNLPPqDz+Zh//MnUX/zZ3PzcuaeZbCxr52kv7uXl+I09tTzF6yXGWHc+wen8n8w6neOjNQR7b3k9C9ImXdPoKKg0DFQ50l9hwMsHmpiw7zmY43luiJ6cyWFDIiRYl2aUiO1QUh4pkUxYtilWDYtUIC4IRFKuGV5YMvaqYgqBag5JinpVUc4tmuXNN051kms4vDMP4gm3bH1EU5Zqhqm/U6hiJRCKRSCQS+c+Nt45RXwJcZVnWB3RX/7Rh2z8yXHeUqtovaZqzTlGtxrJs9mXKRmUgr2qNfRV3R0vOX3aoP5y1t5tZuztYfLCHg50FujIKFak2Z1Xb3Odi2gGGG6JaAbLhIBsOiumi2T66E6DbAbrlY7lgum+1NZ4LcLX17LW/16putef5by3b8AOwfR8nhJvm7OKi8fOpG7WY+nHzGDl2IcNuncnl45dQd9vLDPvlM1x850xG/mY6w38zgxF3vMqVk5ZwyYTFXHXPKj741HZG3L2IL7y0k/tea6G/HHImVqSse1QFiXhBpqSYFEWFzoJCa1wkUXUpqw5l1aAgash6gOl6BCHEklni+SKeHxIEtZtwZhgykC9RlFVsz4XQJwxDNNunoNqUNA/D85FCaE1JtMZFFD+gP5nAtBzKikmxZHK0P8NDsxbRU/FZeTJGQ7xAe9VEtnw27D1CVrFp6i9xoE+hJVmkL++yo9/g3149wZenvcHHn9zC52cc5PcbO/nB/ENc/8gGfrnwGP/6yiG+9Ophfr2+jxtmHuH7L+7mme1pHtnUzJKGJI+ubuI3S06xpa1KXnBJlTUG8hJnBssc6MjxRkuJtSdS7GgrsL89T1taoicjkSwZZCo2BcmhqLiUZJuiZFCUatW1XFUPC6IelGXTLUu6WZb0SklUkxVZbxRV801JNV+SdPM+STV+pCjmlyXL+oCqqv9j6Gd4xLn/6fDX/mxFIpFIJBKJRCL/Sy5sbaxUKm/TNO0djuN83LK8r1uWe5thOVN0w1mh684eTXe6Rc3JFiVTTZY1u2mg6u/tKIRrGlLM3NPLjB2dLD7Yz76OAu0piYJkIWs2puVh2T6m5WPYAaoVIOn2n4Q01fJQTfd8QLO8t+bNXP+tgHYupF0Y0M6FtHPP8h0sF3637CiXj1vI8FFLGDZ+ARdNWMLI8YsZMXYh1/5hAyN//zLX3beMulue45LR86i/41VGjFnAJeMXcumYBVw6bh7XTnmdf1twlgc2t3O0I0uqYlKULARJoSgZKFZAWdZJqx4DeZl0xaQkG+QECdWGvlQZUTPRLJeSqKKfm6HzQ1w/xB06UK1aLoZtEYYe+Wwaw/E42dyJ6gQYboAdBIi6hWIFmEFAURRRLY/TvUlOdsepuD6DikEmgAdXHWbWjhNsaR2k6IYMyBaxkkxTf5bXD/cxKDo05hwWNWa5/vE1zOxU+PbabsYfrHLDS7u5YcZuJm5oYVWPwfWPb+afZx5m/GspfjW/iXFbuhi97DjP7u5i5ckEi/aleWBzN7u6q2RFnXRFZbAgczZe4WhviS2NGVYfS7DpdIa9nSXOxgU6k1ViOYVEQSVbqQWygqhTEnUqsk5VMakqFlXVDBXT9VXDdSXVUquqXSqKandJVI+VJX1FWdafrar6bYKif0fTnI+bpvmeSqXytqjVMRKJRCKRSCTyn9K/mzu7TNO0d9q2/WHLsr5hOs4vLMd7zLDc+brp7jcMt9UwvbyiO3JVMp181fRbk1K4pz3P/IO9PL+zh+e2djB7Vw9vnklzNi6SrmoIsoFhepiW9x8CmqCaVBUDUbNqIc300MzaQWZ7qCoWhLU/a5U0///TswMLxwu5Z3MLl901l+FjllN392JGTFhG3YQlfHjWYYbfvYRhNz/HsJ8+Rf3tLzHs189y1YSljLjjVf7H+Pl85N5FTNndx5X3ruLKezZwx/pmjvQWac9K5BUbyXBJZIvoTkBeNCiqPofO9hIvm5R1E8PzEFQT1QrIiwqmE6I6PvuPN2B6IYbjc/h4I4JsoFkubgiW7WGHYIRgA10DaTS7NnfnuC6FUhFBUSmJCrJhkRcVFFVH8mws3aJQERms6CT8kB09aV5raKdH9DiTqdCeq5LSQpoKGssO9vCJe2byyM5u5qU8vvj8Tm5c384rgy5fnrqX6cc1NrYbPLijl+8u7+CbK9r5wYKz/H5JCw+81saT+/t5Zmcv03f1sKzVYeLWHg72SeRkk1RVJVFSaU8JNPaX2d1aZP2xOOsbMmw7k+VkT4G2hMBAXiZbNRCNWgVVMd1aNdWqhfQLV/DrthdImumUJUMriHq+IOi9paq+v1jVVpcE7bGyZNyhadY3NM35hKZp76xUKm+LVu9HIpFIJBKJRP7TubC1URCEK4H3O47zD47j3Gjb7hjddl82Tf810/SaTMsdME1PNEzXkFXHK1bNoGmwEm49m+DF7S08vqmZF3b08sLWTjafznCyt0yqqlORTVTDxbQ8DKt2A021AkTNQlBNBNU8X027sIL25wLahQtCzr2/FNAsN2DqsQyXjp7H8DHLGTZhESMnLqdu4lKGjV/M8HtXMmLsQupunVULaj97gmtGz+FfFzZx+W9f4Aev7OV43uF9j61ixEMb+dTTG0g48OS8DbQmS+Q0H82uPcmGguTQkpLozmh0JTMkCyVKgoxi+kiOh6zblBWdsmZQVQxUO0T3wfRAt3wMs7Y0JVcSSRVF2nrjDBZkYiWV7pKN6EJZsxnIF+mOJdi+5wCGWwu7x9p7cEwXQzGIlRX2dOboqGqcjuXJmLC/uZ/Vext4/UQPJ5IF+tSQbz8wk5Ma3LX0GI8frvCRR1fzT4sO87Hn9/CpJ19n/M4Bbph/gnf/YSNX37+Wj08/wISdBR7b1MuUdU1MXtPC7XMPMmlnmk//cR1nMj4F0SUtaCSGFoU0DVQ51FliR2uO9SeTHOis0DRQpTNZJVnWqGoumu1heiG2X/uem26AOXTIemgeMTQcP5R1yytLhl2QDDFbkTPpitqUreg7s1X95YJsPiAZzo2K6X4ZeP+/b3X8a3/OIpFIJBKJRCKR/1cXhLORQ+HsXY7j/INlWd+ybXusZXnPmKa3yTDdY4blxk3LK1u2b+qW7wqyGaRLani8N8+aE/1M297OY1tbeGJLOzN2xVi6v4+dZ1P0ZpVaFU13z8+aqZaHZPrnK2iiZr3V6mg4aKb3Jy2OtWAW/kkL44VzaOf+fuGzPBfdga9PW0vd2DnUj1vKsDGvMmzsfOrHL+LyBzYwYuIK6icsZ8SklVzx2A4un7CUS383navGLeCdk5by/rvn0ymEfHnqSob9bibX3ruI4wmfdfubePX1/ZzJ6wiOx6mOLnJybRthX16lub9IRjApWSEpOSApBhQ1B0G1kUwH1Qupah6iFbJ610k27jmGoFmolktVMYglMpiuj+kGaH7AjoZeVhzqY/n2kxQ0m4KqIRo+ZgCCZaPqIaoHVQ9kG57btJ9RC7aS0FwKos3aPcdpTwr0qxaHeot0ywadmQr9pstXnljCsyc17tzcxjsmL+WzT29jwu4433r5OF+b18nIySsYce9yLpu0lquf3M51j25m1PJWntuT4+51Ldy7oZt/fWkPv1xzlu6cT1EyyQgWiZJBX16lLS1zOiFwPFZmT3OG491FulISfRmBTFVDMh1s18ELfAKGTiR4Ho771jZP3QlQTJeKbAZ5wfCzFc3MlDUpVVbjyZJyNl7SNmWqxqyqbI9VVedGXdf/AXi/IAhXDrU6Rqv3I5FIJBKJRCJ/+y7c2ji0Uv/vPM/7quM4P3Uc5xHL8ueZlrffMNxW0/IKuuUppuU5quH6VdkMs2WNhoEyG5syPLe7mz9ua+OJLe28tDvGiiNJ3mhM0JYUGSjJVHQH0XRQbA/FrgU02XAQNetPZ9EMp1Ztc2q/nL9VKQvPLwI5F9LOzZ79uYDmeB6GB9ffP5u6CfMYNmYBdaNfpW70PIaPXchF41dQP245wyetYcR966l/dDfXPLaNul9N5dr713DxhCVcOX4Bx0SXSZtPccUvX+Cy21+iKQfNgyVO5Q0mv7KSjGpRNFyyakhZ0MhVNAbSIv0Fhbji8/rJAZa+eZqcbFJRHcqKQVExqegesYLGruY4/WUVzQ0RNYuqZlK1A84OFBgsSJg+tMUynB0s0xIrkhFkKrpOWXUpaz6dyRy25VOpyOw/cRTT9tnWn+eml9fTr9jkRYcBPSCpeOzp6OdQb4Z0waYna9AhB3xx6jpuWdHBxx/axL/OOMQ/zm7ge4uO8+MFJ3jX4zu5duo+Lr5vFXUTV3DRw1v4yoJmfjLrOHdu6uCeza1M2dzN71ac5a51zcTyNgVJIV21SJR0evManRmZ9rzC2YzEyd4iTX0lBvIq6ZJKQdRRTLt2qPyCG3ZBEOD6IbrtoZoekuFQVSyyVTVMl9UgWZSddEXX4wWl0JeT+gZy8v54UVmdrxqPVCXrNlU1v6qqXA9ce+FWx7/25y0SiUQikUgkEvmL/n1ro2VZHwA+4zj+TbbtTrAsd65heFsN02szTCel665imK5lmK6vm24o6RZF0aQrpbC/vczsvT1M39nFU1s7eeqNbmbt7mNjQ4pT/RV6swIl2UbSbXTTwzACFD1ANjwk3UXUHBS9Vjkz7Npq/XPvXBXF88D3IAggDGsvGApq51bVX7ii33Z8VMfha0+v5+LR8xk2eiF1oxZQN3o+F01cyci71zBi4gouvm8NdRNWMfyB17nosR2MvHstl01ez9V/fIO3TVzLOyct5A8HB/nAQ6u4b90ZGjIB+3rzDJY0+nMag2LA0Z4ce8/2k1J9UmWDdMUiKfscaE9ysCNF3gwpKS4ltfYqqoug1kKH6floro/i1togRcenqDrIbojkQFUxkVQLzfbICiYZxSVnemw/3kFPQaNkuMguNLZ1kxMVSprL4bTJs0c6GXADuvMqB1Iyb5yMsbczwdGeJKdSBTqLNt1Vj395+nXuXHmUP+xKcvUjmxl7UOYTU9Zy764UF9+3gkvv2cQlD63n4snruPmNAr/fHOfu9Z38YesAv11yjIdf6+Cnyzr46oy9DBYCKqJFWtDpL0h0Z0W6cxJ9RY3egkxHWqAnK5AoqRRlC8nw0J3aHbvaNzSEoPa9lA2XsmxQEHVSVY2Bkkx/UaYvr4S9WdXvTstOZ1JU2hNCoTMttfVmpf2JkjY3WzWmVCX1JkE1/0mS/uNWx7/25y4SiUQikUgkEvmzhpYnjCgWi5cP/RJ7vWVZX7Ms93bL8R4zLWedaXmHDNMdMEy3ZJiuaZiua5huYJpOKBsWZcWkL6NypFtg/oF+XtzZzSMbW3hscxcv7uhl9bE4J3rLdGeq5EUDQbVRDRfdfCugiZqDpLvnw5nhvHWc2nBqbX7/KwHt3HFr03JRXY8vPbGOEXfNZcSEJQy7ay51Yxbytgc3UjdmGZfdv56R96xg+MRV1N2znvopW7nkwdcZfvc6Rk5exbsf3sw7xy/gC89u5p9n7mNTp8n+Pp3Fe1voyOu0pWRO9eXpr6g0dPSTETQ6MhV6siKxkkZnukJBtKjIDqmySllzyUsGnbE0JdlkMJ3H9gOqmoHkBmw71MAbR5vRfIjlKuQUl1RZpqtvEM2w0H3oyVZJCBY51SEjOoh2gBlAqiRTlC1Kus+sva3ctvIovZJOKq/TUjDpzRr0FTSyosORzgStFYduN+Szj63ngb1xbt/Uy+X3reO7izr43Iw9fPapLfxgaSsjJizl6sd3U3//Rt7z7G6+teA0333xIL9e3Mzvlp9m3LImfri0k6/P2Ecs7yJIFomKTm9OpCNVpSsjMlDSGChr9OVl4kWVXFWnqtholo9l+3heQOgHBH6tSqqYLhXVoiAaZCo6gwWFvrxEb16mN6vSmRSDjoTgtyWqZluiKnakxIGulHC6PyeuS5bk6QVBv72s6N+pqur1FcP4v4aqaBdFC0MikUgkEolEIn+TzlXPYrHYxYqiXAO83zTNrziOf5PjeFMsy52n294Bw/LaDdMt6bqjngtnhumGluUg6xYV1SCWUzjeU2LJkRjTtnXw8IY27l/XyvPbe1lyaJC9bXnakwLJskZJsZF1B9XwUY0Q2fBqc1m6fb6tUbfeCme67Z0/WO36b906C8K3Foc4Fxx7Pvff6HZthkl0fD7+0CpGjlnIyHGLGD52IcPGLeKaR7YxfMIq6sYvZcTdy7h08noufuA16h7cyKUP7+DSB7dSP2kpV4yaz1X3rOCTLx/il0tPc6BfYeamA7QlLU7FcvSXNPKahxpCpiojmQ6iF9CbLtOTLJEXdQiAELKCTkG2EG2fgqxTUW0E1UYxbCqyhu6HFBUT0QXBg1X7TrPiQAtZBxo7etF0nUxFoSNVpSVeoTVR4Wx/lu0HTlLUA0pmyGCmhKg4bDzazksHOmmsKPRLHvcvWkVjWuBQLMfRviIpwaOjYrGiLcc3X9rNV5/cxK1bE9y0rpuPPbeHKyYs4scrO2uHvScuZvj923j7tMN8ccEZfrKyg89N28WnXznKXau7GLuqg48+tZv3PryG9qpHUlUZLBl0ZWRa4gLtCYlEWSddqb28YCAqDpru4johtuXhOB6uW1sKoloeRdUgV9WJF2QG8xIDeZW+nEJvVqU7LdM2WAnb4pWgPSm47UnBaE9WSx2paqwrWT0Qy8lr0mV5SqGq/E5Qza+oqv33Qz/jl0WzaJFIJBKJRCKRvznnjveeW6sPvMu27f9p2963Lcu9zbad6ZrjrzMcr0mz3UHNdCXNck3Ncn3NckPNcrFMD8V0qGgmPVmBI515Fh/s4bk3O3lwzVkmr21m6hs9LDo0yK62AmcHBRIVi7xkoQwFNEWvVc+qSm2T47mAZnt/GrbOVdGcoXmzC7c6+sF/rJyd//duiOCFvGfiIobdtYARo+YyYvQC6sYt5u9eOMhFk9YyctIqhk9cyvDxK6ibsJxh963l2qcPcvkf3qB+0nKuuWcVI0Yv4d0vHeRHS47SENc5W9DpyimkRI1MRaWo2JRMn5LhkRV0RNUjnhGJF2TKhothOkiSQk40aB/MEMtXSFdkRMOjqjmobohme9hh7R6aHQS0JKrM2dnC/P2drNrfhOgHqLqJ5AR0ZAX2nuln1Y5jxCo6BS3g6IDAq9uOMSi5DORVmhMSiw91sfF0F32Cxwtb9tOctzgUK7GnJUdDW5LGvjyPbz7BTfOP8cNXj/C1GQe4f3uOTz67nR8u7eIXqwa4bsoW6sauYNhDr3PVE7v4/vJufji7gUm7K3z91QZ+tbaLW9Z18eEXDvHOh1bTXQ1IyxoDRZP2tMLpWIWzgwKDJYNMxSRTrQUvQbHRDRfHDrCtWjAzbA9Zd6lqDjlJI13VSRRUEgWVeFFnoGieD2gdCYHWeCVsS1T99qTgtKVEqT0tZTvTQlN3VtqeLMnTM2VlUknWvy1J+mfK8K6hJTjR2v1IJBKJRCKRyN+Wc3fPYrHYxedmzwzD/azpOD8zbfcew/YXqZazU7Pcbs1ycqrl6prlOophB6rphJrlYpgeomFTkHW60yLHuossPdTLC9u7eGjtGSavOsPUN3pYcCjOm805GnrL9Bd0cpI9NG/mIWu1rYcV2axVknQHww6w3FrYOlcJOxe67KGNjecOV5975ypsF1bcLC/EcD3yVsi14xYwfMwyht36IsNum0X9+EW11sa71zBy0goumbyWy+7bxEX3rmHYpJVcfN9Ght+7nmH3rOSj0/Zx5R9e573P7ucbr+zg9c4qWzsydKYqiIZDviwiGg7d6Txn+lIINoiKRUkwyQg2Gc2nN1WkJ5alO1miJ1VG9qCo2FghKDZoLsiGg2bX5rFMx+NIa5LVR/vZfCbF/rY4edXCC+FoUycJ2aWrYBCXbU71l+jJqSzc08qykwk2NPQzoMLK3c0sPxQjJnp0D8rsOJPmdKfEqT6R9pTNgAStSYk5B+PcuaGH7yxo5GOPv84t6zu5bPRsPv/cQT4/r5H3PbWXYZPWccUT2/nonNN8dl4j73p4Ld9Y2MAXZx7kE8+/ySemvcHbn9jFJWPm018IyAsa/XmVloTI8Z4ipwYEevM6gyWDdNUgK+hU5LeOlxuWi+H4KIYypLvNAAAgAElEQVRLUbIoShZZQSdV0UhVDBIljVhBoz+v05WS6EiJ519bohq0JgWvPS3prWm50p4Su7vT0tGBvLQoVdL+WBC0n4mi+rVzs2jRRsdIJBKJRCKRyN+cc7NnwBWapr1D1/VPWZb1TcOwx5um/ZxqOtsUwzwlG05GMWxJMSxHNR1fNZ1QNWutjZJsU5B0UlWFjqzIyQGBtY0JZu7q4bHX2nhofRtTt3Uzd28vr59KcbA1S0dSJl3Vqao2suYiay5VxaIim1SV2i/squGi2/6ftCqee7YTDK3VD84frHaHqm1/LqCZrk/Jh6vGLmL4mKVcdNdsLh67kLrR87ho/FKGjVrIsLFLuGjyOuonraNu0kpGPrSBS+9dzTuf2sHVT+/m0/PbeNfDm/nEtP18d1UTty04wrSdAxyOCVQ0HycAUbWxgbJmYgYgmjaaD0faU6x48zh5OUTUISNYVIyQjGSTrppoPpRFi3S+hOEG9Gar7GpoI2PCmd4cRclB80F3XfLlEqmijOoEiFZId6bKkbY4HWmJjORRlCArhrRnqxRdONKR5s32Iu0VkXjJYG9XiWMdVU5nFXacjbHoeA87m5LM3l9kzJsFPvLMTj41/RDfWNLGp188wr/Nb+FDL+5l5PjlDLt3I59b1MKHXjjKB2c18O6Z+/jW/EYmrE/w/VdP8JNlLVzzyA4uG7+U5qzDoFRrR2warLCnJc2BrjzNSYmunMpgWSNR1clJJmXFQtQsRMWkrBqUZJO8ZJOXbDJllWRJJV5UGCwoxAq1kNaTUejKyOcDWkuiGrYkqkFLouo0xyWtJSVl2tNSR0+2um0wL89NV7XxRcm4URT1Twmm+V7gimgWLRKJRCKRSCTyN+OCzY0XAVebpvle03S/ZBjOjarlTVEsd56s24dEzeqUNKusGLYm65YnG3agmC6y4SCoJmVZJy9aJMsabekqTXGBradTzN3Xz3Pbu3hqazvPbe/k1d1dbDg2yO6zaToyKvGSTkWxkfShcCbZFCWDsmLVNhWaHrrln7+Vpg8dtTbs4Pyf51oa3zpq7GE4Lobjog1VYywvxPZC+t2QkXfOZPj4hQwfu4hLxsxnxOgF1I9ZwIgJSxk2ZiF1YxdRP24Jwycu4xNzGhg+cRlXP7KVKx99g2uf2sMNC45x49LT/GTxSZ7cnuDlI2mWnkiwtz1HY6xKLCejudDTG8N2HNwQnDDkbF+ON4+2EcvpxHMqu46fZUAK2NowwMrdTcQEj65ECVH3KVk+bza0sqOpmz2NPbQP5NC8ENkNaBnIcLovjuL5CJZHd1Hn2aWvs689TV/JpKkrUdta6XpkBJmcAdtOdNBfcTjWNkBc8Fl3pJs3mlKkPdh1ppfj3TkGyx6Pbmnhm/Mbee8z+7juyTf54svH+fCTO/jp0j4+PGUrw8Ys4eL7N3LtU/t4xxP7ueLx3bzvuYN8ddoBbl3RwaPbYty7uZ+3P7iOS8ctpKHgkazKdGclGmNltp1Ns705w6kBkdaUSndeI1bSSQu1MFaULPKiRUbQKcgOWcEkK5jkRItUWWcgLxPLSQzkZQbyMn0Zga6MSHtGoC1dpTVVoTleCZvjFa81XrHaE9VyW0oc7MyIh3pz4ppkUZ2Sr+q/qSrml2TZ/jBw9dBGx6iKFolEIpFIJBL56zt39yyTyVyq6/p1qmr/vW7bNxiW+3vFtGfKmrlJ1IxWUTNTgmqqVdWwBdUMRM0KJd2molmUZJOsoJEo6sRyKq2pKqcGKuw4m2PZkTiz98V4cU8/L+3pYfbublYdGWBnS46mAYFYQaUo6FRkszZ/JjsURJ2iZFBRDKShKppquWi2h2b7F4Q0H8P2MGwfywmw3ABzaN7swq2P51siLZOzVYe3jX6FYbe9Qt1dyxl+12LqR89n+NiFDJ+wmPrxtcUhI8YtYsSkZdTdvYwRD7xG/f0buPqpnVz77D4+9vwefriklRvnNTDljUEmrzjE2hMpVu3vZm9LjgPNCdoTFaqmj2h7eEGAH/g4IeghJEoSBVFDNl3SgkmsYtJfNhgo68SKCrGiTE40UewA1YO4oNNfUOgcrLK/IUZjv0JzXCdTVLE86EyXiSshLYkKg0WZomxSli2KVY2cpBMXLQ62D5DRHUqayUBJYvvpHvZ2ZDnQWaA9a9FXUmhLy0zc0MC7H1zNJ2ee5gevJ/nH2Sf45MtHePvDm7juyR2MvHcdIyev551P7ePz81r5zJwGvr6gie/PbeSGOSe4eeEpxq7v58qJS6j7zXSOJG3SJZWujMzJvgqbGxNsbkhyoKPI8Z4iZwYFWpIiXWmR3qzIYF4mXlBIVw2SZY1M1Ti/TCRRVEmW9fNtjvGiykBeoicn0pUT6MyItKcF2tNVWhPVoC0huK2JqtqSqBZbkuXWzrSwJ5ZXZqYryr0lQb9BkvTPlHT9ukql8rboLlokEolEIpFI5K/u3OzZUPXsCtM036fr7qc10/ypotv3SLq1RNSM3YJq9gmqWawqplGWdFdQzVDQLKpqLZzlBZ1EWaU3o9CdVmhOVjneX2JHc541x9PM2dfPjD19zNzTyyt7ull1PMm2phQn+8r05RTygnZ+7qyquOQFjbykUxRrwU3Shw5Wmy6K6bzV5mi5GJaLfsEzbK+2+dEJ0P9dW6RlWbRpcM2kxYwYPZ/6u5YwfNQSho9bRP24RQwbu4D68YsYOW4RI8cupH7iEuruXcnIP2zhmmn7eff0Q1z9xJtc/cA6frS0i3+etpv7t/bz3J4eNhxNsLkxw66WIgfacuxu7KMjLZKSbCTNxPddXM9BsR0ky6Gk6Ei6Q64sYfhghpAVLfaf7iBWUkmVVUplnaJo0pEukKzqtA2W6CsanOwX2X68C9sPSKSzFFQbOYBEWa1txbR9znQlyFRNUhWdhOjREMvSWRBIVyUGSxJHuzMc6iuyqyXD6YRGR17kYFeBH8/ZzUef3ctnX23lQ8/t4wNPbOey+9fwz3Ob+egTe6i/dz1XPriVz7/awjdmn+GrMw7xs5Ud3LUxwZee28cXXzzCT1f18g8vHWTkrTPYGzNIFXU6kjLHeqpsOBHntRNJ9rTkOdxRoDFWoSlepSMt0J0W6MvJDOZlBvISiZJKaiikJUsq6apx/mWqBqmyRryo0F+Q6c2J9GRrQa87LdKRrIbtCcFvTQpGa1IQWhNCX0dKPN6bU5ckCsof84L205Kg/pMgmO8D3j70GYiqaJFIJBKJRCKRv54L2hsvUxTlGlXletWyvm4Y7ihZs56RVHurqFqNVdnIVmRTKkmGU5YMvyKbYVk2a+1ogkGyXPsluT0h0joocHqgzJGePDtbCmw4mWbe3l5m7enjpV09zDsUZ9GhGBsbBjnWU6Y7p5Ct6pQl4/z8WU40yFQ1MlWNgmhSVmzKioVg2MiGg2p5qJZ7PnhplotqOkhqbW5NMd1aO6Ttn59fMxwfIYAHNzQwYtwSLp6whBF3zaN+1Fzqxi9mxD0rqBu/mLpxC3n7Q+u4dOJS6scv4eIHXmPkA5t57/NHePejW/j0i/t5/2Mb+M1rMW5a2Mgju1IsbhFZtKeXRUd62N5ZYWdzjiMdRZpjAm2DIumSSkXQMd2QiuogmT796QKC7iKoFmVJIy/oZEUL0YV4xaY1WaY9U6GnIBEr6PQXVHryVfrLCo2xHBUPDM/FDkIkN+DQmQ4Kqk1RdTjc3Eta9cgoNqmqSl9B4XR/mZaExImODL1ll6asxqF+gYMxgcV7mmhMqsx+s5mblp3hgy8e45KHd3Dl1H1c9fBm3vaHTVz3/B6ufXY3wyeu5WOzznD5w9v4x5dP8oWXD/DlWYf43IvH+PtXGrnkkR28Z+o+rnv8Dervms2qthKDJZvWpMyxXoH1J5JsOJFiV1uRQ11VGgZETg8KtKZEurNSbbYsJ50PaOeqZ+mK/iftjucqa/GCfL7tsT8rEstJxHIKfRkp7ErLQWdacjpSot6RlrIdaamjK6NsjeWk2fmKMaosGt+tqur1ZXjX0PbSkVFAi0QikUgkEon81Vy4HETX9et0Xf+Mots3SLo5WVD0VwTZ2CdIRntFNssV2dTKkuGVRD0oSm+Fs0xVYzAv0ZsTaU+INMcqnO4vcKQry44zGTY0JJm/r5fZu3qYczDO7H39LNjfx/qTcY72lunMKGQrOgVRpySbFKXaVr+MqJOsKKQrKgXJGgpqDlXNQTHPzaTVWh9lw0HU7Np6fsVF0l1kw0Ozau2PhlM7flxwQkYtPciw8UsYOWEBF4+dT/2ExYyYvIa6e1ZyyYMbGH73Mt73zHbeMWUT9ROWU3f3Wt457RDvemov31pwiieaVd738Bo+9NBa7jlUZuyqZp7b28+GMyXun7+RTc0p9nYUOdlbpalP5Gxfhd6cSKKoMlg0SVRc8vL/w959R2lZ3/n/n4EBxFgSY8ymmWxM2WzKJptNc5OsMXXd9GjsGo0iNgQp0gQFERQFEaT3DkPvQxvKDDMMw/TeZ+5ervvqvTy/f9wD6+b3/f33M/vH73qccx3acA6cue9z7tf5vD+vt4Wg2eR0n7RsEhc00qrDQFYnJtrUdsSo7Utysq6Vfi2gTwhoSzl0Cy6dCY3q9hQtEYXDpZdo7ooiOlBe30okK5NQLAQP+hSPmO4RlzQSskNNZ5qejE1FW5ZTDVFONsZYfbSSyoTFkeYUhxrSLD7Wyb3bm/nywjJufPkYRTOO8pl5Jxn50na++HoJn5t1hOHjtvH5N85z69zT3LGilru2NPGjpRV8bd5Zbph+mMKXjzByxkGun7yHwtHLWFjWRXvSpq5P4lxrlm0X+th2oZ/DtXGONySp6BCo6s7RHBXpSmn50pCUSm9KoTeVLwbpT6tXT9Kig3fVYjlzcOxRpjuRX3Z95elOyHTFFVojYtDUl3UbezNmc1823dwvdjb2Syfao+L6vpTyYkIy7kmL2jdzOW4Ny0JCoVAoFAqFQv+r3l8OIsvyTaJpfjanmD8SVOPenKLOyeS0TRlBrkoLSncqp0lJQTVTOc1P5Izgajgb/IDcm5TpjEt0xFWaBkSquxNcaE9wtCZK8cU+1pzpZFVpLwuPtLKkpJ1Vpd1sq+jhVEuK+v4cAxn1fwS0SFalNy3Rn9Hoz2hEswbRtEEiZ5GSHHKKi2x4yFaAaPlkdYe06hDLmcQEi7Rsk1EsZCN/imYOPpJts7wyyojnNnDNM6sY+sQKhozbScELW7n25YMUTdrJtVP2cP2knQx7Zh2FL2ymcMJOrn35CLfMOMjzJxL89u0jjHx+CwXPrOGLr+1nUaXJgpJ21l7oorJP4mx7imOXe2jJeFT0ZLkckUlYAT2Sx4FLvey/2EVEsokkM4iqgWIHxHImguYhKAbC4KoCQTZRdeiMqpxsiHK+W+R8Uy+RrIZoBPRmTZrjBqobEE0JaI6HICtEMjlqe7McrmwnbQdUN3aQ1T20AGKixaWeOM1pmfqEQkvWo7RVYndFhBVnO1hQ0sXju1v5+htH+c3uOB9/7TSfnHeCO3Z185M1dfx6Wwc3vFTMx2cd47a5x/j5yhp+vKScO5Ze5E87BvjcvFKGTN3Pda+VMHz8LgqeXMWkvVW0xU3q+iTOtmbZXtHP1op+DtXFOd6YoKItS3WPQEdSo+vKGOPg9/1KQLsS0gYyKgMZhUg2/+NARqE/nX/9Xfm6K3vSehNa/jQtKvidkZzTHslJLZFMrDkiVLUOyPu74tKc/ow0Kp1TfpRRlC/LsnxTJBIZGY45hkKhUCgUCoX+V1wpBwGuUVX1Flm2vihp1i9ExXw8K2rvpAV9TzqnN2RyeiSZUbRkRrHTguZnJCNIiwapnEEkJdOXkIkmVSLp/BhaT1KhvjdNZUeSE/URDlyOsKMyypozPSw+1sKyE+2sP9fLrso+TjfGqO8T6EspRIX8qVxy8L5RT0KiPy0TFTRiOZVINr/YOSmaZFUbSXeRDA/J9BE0j6Rs5cfesvmvySgO0uBJm+7k76PprsvhAZVrn1nNiOfWMPSZzRRO2s2Q8dsYPmk7hc+tZ9j4rRSO2cjQ5zZRMHYzBS9sZuS0I9wwcTPzLwjc9e4JrplymMLxxXx59n4mbG9h5cleFh6p40y3REljjItdAtVdGWq7szT3i1xs7uF0bS+Hqno5UdtLRMjft0vlNLKySTKnoZg+omYhKAZZyULSXeKCSmV9G+3JHO0piaqWLnqTwuBuMIuU7CFqFrJuYLgBsmGTyKl0RjPE0xqpnEVE0EkbAXHNpyslk1AcukWPlAXn69rYXtbNhtJeVlb0MP9kFw+tuMAvV1Xz0ZeP8qNNHdz8+kk+9VYlN724lS+9eYxvLK7iq/PO8qNlF/neW6X8dnMrP1xxmRum7Gf41P2MmLybwsm7uH7yHkY+u5rnd1TRkdSp7RE415JjR3mEbWUDHKqLU9IQp7wtRV2/REdSpm9wlDHf2KjSm5T/x4jj+0/RIln96inaQEommlGJpBUGUioDKfVqYOuK5/yuuOh2RHJaeySbbu4XGpr7hRNtUeGd7qQ4Li5Iv0jltG+oqnrL4ClaWBYSCoVCoVAoFPr7+ttyEMEwPqNp2r+ohn23qFjjs6K2ISlop5KC0p0U1ExSUM2koHpJQQ1iWe3qh+H+pER/UiKSVohmVGJZjUhWpz0uUtOT4VxLghONSXZWDrCxrI+VpV2sPtPDxnM97L7Yy9nmJHW9Aj0JmUhWJy5aJHIG/en8B+yBjEIipyGoFmk53+yYkvKLrfOlIS6S7pJV8ydmSSm/0DiWzX+tbHhoto8xWMOvuwFLy3speHI5hS9sZPj4PYycVcKQcespGL2cIaNXMPT5dQwdt4WisdsYMmkHBS9sYvjkg9w4vZgDWsA/zdzNNY+t4NpHlzBqfyeTi+tYVxllZ32ag1V9lLWlqO1O0pPKYQCq46G5ATkLUoaPYDmkcwbJjIagWMTS0mCDpYmk5/8fUVElKRukJIOUrCGIGhlJxQ4C7ABkw0PSXdI5k5xq0ZcQyOk+OdNHtCCS1rBcsPyAnqREUvdpiYp0JCRqOmMcqu5ma0kF5c0DbCrrYfOFCOsqI8w71sX0gx08uLWZm6Ye4pbpB/jYzGN8ec5xJp5O8Kt1dXxk0h7+sKmRf1x4ntsXlvPQhibu29bAnQtLee5Qiq8sKqdo2h6Gjy+maPQK/rjsFHUxk8vdAqWNGXaUD7CrKsG+6gFKGuJUdma52JGmNSbRNxjyY1njaiiL5UyiwpVfq0QFbTC061efREa7+vq78nd7kzI9SZmuuBh0xSW/I5ozWwZyUmNvpruxX7jY0p/b0BUXZ/WnpbvfVxby4XDMMRQKhUKhUCj0d3cloHV2do4QBOEGSeLzhmF8V9bMR0TVfDkrqsXJnFIezUgDkbQkxgTVTuQ0P5ZVgvwphcxASqY/KTGQkollFZKD98TiOZOuuERDn8DFzjSlTSn2VUfZfL6X1aXdrC7tZv2ZLnZf7OVcS4qGfnHwBE0jIZnEcvl2vv6MRlzQERQLzQpQTQ9RzY83SqqDojuDrY75O2iiZpFTLDKycXXRtWJ4aIN70iwvQLNh0vYyCh5exDXT93DTjBKKXtrLyDGrKHh0AcOeWkbh0ysoeH4DQ1/YypAJ2ykYs5nrZh5nyIStfGnKTj7y0g4++sxynj7Yx183XGDOwWZK+1x2nm6jqiNFVPbQPHACcPGwAwc3CHB9kA2HRCZHPCOTlWwykkZaVMmpdv5RbDKKTVzWiYsaGdlEkHQsO0A3PTTHw/QCBMVGUB1SkkVHfyq/P0zx2Xv8AhX13YgmJEWDWFYhodjEVY/OpExfWqe2L8nW0lp2nW+htCFOSYvAwWaBVSd6WHCyl4XnB3hoRSn/sbqZb7x3ieumFfPlece5d/UF/rq1la/NOMrsGpsvzLvAz1c3MnpbI2+fTzFuZx0PrynjMzP2MmLqXoaML6bg6ZV8f84ezvZoVHeLnKxPUVwRZU91kkM1UUpbklR0ZKjqTNMcEel6X2vjledKMUj+yd9PjIsGCckkLhrEcwbp3OBrT9CJZvL31XoSUn6pdVIOupKy3xaV7JaBnNrQkxmo7U3X1fcJxa1R8e2elPxIUlLvlCQ+D9zc2dk5IhxzDIVCoVAoFAr9Xb2/vVFRlI+qqv3Pqmr+RDas5yXNekuQtJJkTqvrS4up/rSoDmQkdyAjBVFBIZZ7f8uizEBGIibKV++PJXL5/VUdMYma3iznWxIcromyqyrCylMdLC1pZVN5P/uq+znflqKhX6AvnR9fjIsGA0I+nEWEfCmIpLuohodp+aiGj6z5yJqLrNnIuoU62Oaomg6W7WPZPprpohouquFjWD62E+C4HoYTsKNd5EMTtzD0xfWMfG4dBU8soeDBORTcO5vCv7xD4VPLGfLCpvwJ2ritFI7bQdGkPXx84Xlufe0MH59/hseLu5lVEmf6/mZmHW5i/pEaTrekURwXJwhwfZcg8ABwPR/FdMhKJvGsTEpU6U8pxLImgmIg6TZZ2US1fAbiIpmcgWr6ZCQD1Q7IKBaRjERU0OhO5Bc09wsGgh3Q2J+mNy3TkxJJmz4RySJjeOSs/OhnXNRIyCadsRw9SYVozqFftmiIilyOWNRELNqyNkdrutlXmWTduR5KugR21Ke5893zfGPBGe5YVsnXXj/Nk3t7eXBrA5+euY9PzznIzbMO8415x3hwZRlvlsZ4ZXcTbx7q5bfrLnPLnOMUjNtB0Zj1fHLsKrbXZanszHL0coR9VQMcqUtQ3pHlQluCix1pqrsytEXl/L9xMIjF3/ckcvnx19RgGEvnTFKCQTKrkxIMUjmNtGzmC2YG76n1JHL0JGV6UypdSTlojYhuU1/WrOtKp6o6Uh21PamSxj5hdU9SfD4p6r9TVfufdV3/RNjmGAqFQqFQKBT6u3t/e6OqqrdomvZNXbf+U9KMSZJqLs2I6tmEoLYOJEVhICUakbTkRTNy8N9FHiaJnHb1iQsqqZxGavDn0Wy+ha++V6CiPcGxmii7L/azajCgrTvbzf7LA5R3ZGiK5OhNSVfH1vIFEPmAlhq8i6WZPqblo1ugmaAafn55tWGjmk6+pdG5EsTyJ2aGHWBZYNkBtuPjeC6aF/Dm6db8Iuoxa7jmsXcpeOB1Cu57hcIHXmfIY4soeGoFRS9uZcTEnYyYtJOCcTsZOnYrI17ex00zTjB82l5GHUkzaksDc073MGFTGRsre6jtlZAsA8U0cDyHIAggAM+DtKLTGRHIaAExSSclO8i2T0bSELV8+6SoOWRlE1lzcVyQNAvRdElrNp2pLJ1JkbaoSGdSoiUqkNA9qtr66M8oCIZLf1Yia7qoXoBkD45KZlRSik1CsmnsS9KXtSi93ELScCnvzHKgqpe63gznmmOc77XZUTnA5ajK6V6NXy4t49uLznPbK4f5xcYWfjT/BN9bUsGtc47zgxVn+cbcIzyyv5tH119k9LoLzDrQzuwjXdyzppIvLyhjyPjdFD67ho8/v4ottVkutKUpqennYPUAZ1uzXOrKUtObpqYnQ31vls64Qm8yH9RTUn7dwpXnyvqFjGSQFvWrr7WkoJIcfO3lx1/zp2gDGYW+lERvUsyfoiWkoCsuee0Rwa7vTgrVbam+mu702aa+zJbehDQpLRn3ipr2TfifbY7/2+/TUCgUCoVCodD/TwwGtGHAhw3D+LSiGLcbhn1PTlZfy4japoygXEoLSm9K0JR0TrcyouFnRD0Q5Pypj6CaCIpFWjJIiTrpnElW/u8nkTPoS6m0RSXqerOUNiXYd2mAtWe7WX6inXVnu9lX3c/F7hwtcZm+lExUUInlVGJp9erOq7hokNFsNDtAv3KCpgcopo9se6i2j2b76E6A6YDtgeuB6wXYToBtg+OA6/q4rkvagyfWnuXaMdspenIlQ+55ncI/v8LwR+dR+MDrFD25jILRKyl4YSMFYzYxZMIOCsbtYsTz67h22i4+9mopX1l5kZ8tq+PxPS388d3drDzTw95LHXQmcyQkh7hgYLoBng8BAa7nIek2kgVtcZm4YpOVNCzbJyNZiFp+LUBONdFsH9lyyRoWEUGkPy2SlAzSioXmQX9aJZrTyKg2iuMjWhaq7ZOWbaIZBdnyycoampG/pydqPglJZ0BQ6cloHDx7mcqWGDHR5lhDlF0VXTT2ZbnYLTNt62n21qap7zPYVZ/mR0sruO214/z4vfN8Yupefr6iji/NP8kPFpzl7rXlPLmljjEHu7l78UnePp3g3eOdLDvbxehNNXxveR0jXzrA8OfX8LmJG9jVolLVmaGsNcmFLpGqboH2uExPRqMnqdKdUBhI68SyBhnZJKdZ+fITw0GzAzQ7QDZcRNUmKxpkcvrVJysZZCSdtHxlaXr+nlp/WiaSlohmZKJZlf606velVLc9klMae4V4fXfiUnNPav9AWn4tI+lPKIpxuyxbXxy8h3ZNeA8tFAqFQqFQKPR38f+o1xf5nKiad+Rk7aGMqL2VFdXijKjXC5IeycmGJiqmIypmIKkWkmohKmb+9ErPh4qsbJIWddKShaDa5GSLjGwSy2p0xyXa4yIVbWlO1qfYer6HdWe62FjWkw9oXQLtcZVIJn96lpAMYoKar1rP5gNaWjaRNBNNszBMD8PKn6aZto9peYNjjS6W7eF54Pv5QGY7HpYTYHsBru/heR5yAM9uv8jIp1dT+NgiCu6dxZAHZlP04OsUPvoWhU+vYejzGxg6disFz2+haMIOhk3ew9Dn1lM0bgtFY7dy47RifrConJeP9fNuZYK1F/pojin0SiZp2SOneuRkA8sNcAPQLQfF9NC9gP6sSkwySOVUsrJBTvHJyQa6EwyWodjkDJekrJNW878vKCb9SZFEzqC5K07nQJaUqJOVVCRFQbZcooJCf0pEMX0000fIylf3wyUEnbTmENN9OtImp2p7GVBcdlzoZOPZFg5VD1DVp7O0pJZzfa/lxxEAACAASURBVA7VAw47222++NpRfrquhgmHe/jt5np+tewy/zL/JJ96eT+/3NTBP79xjJ++eYzJx3p5eMVpVpQOsOhIAy8VN3LHexWMnHaYoWPW8KUJaznUadLcK9HQK9I8INEVlYnl8mUoEUGlTzCIigqpXA5Fs5E0D810sCwfI3DRcbFtB0X3yGomKUUhLamkRJWMahBRPdKySU5S6M9q9Ods4mkxf8ImmmRki4ykB0nJ8PoEQ+tNyumemFQ/kFJLEoL2Vk42nlNV8w7Vtr8S1u2HQqFQKBQKhf6u3l+vr2naxxXF+rKsW3dJqjVakPTlgqQfESS1XVSNlGLYpmo6rmLYgWLk73wphp2/82W4KLpzdUQvLdv50yDFzIc0ySCayd9Ha+gVudCWZU9lPxvPtLOjqp+ShjiXeyU6EhoxwczfMVJsUpJBLGcSF/P7zHKGjWo56JaPZQeDI4v//TguVx/Pzz9Xfm15PrYf4AcQBAGKD/cuPsjQv7xNwUNvMOyhuQx/6DWGPvImhY8v5oaX9jBs7FaKxmyiaMxWCp5fT+ELmyl4bkP+Gb2Wa8Zv4weLyphxqI+nlh9nw4VeUqJPR1QiIdqkczZpQUNSLbKiTlY26Y0JJCSTrOGRkK2rwTMra2RkGR2IiSZxySYp2+R0l5zuImrO4AipTlTUaYsJZJyALkGjOZ4lppkkVZOs7tCXkhCN4OoJY041yIoaOcUhnlVojaZpGhA4W99NXA14e28VK062MX9fDftqEpS1xmmKO5Q0pJhzoofPvlLCbbMP8ciGGu5cXsFnJu/mP1bX8s3llfzzO2e5fWU596yq4vtTt/DXDVWsPhdj47lOlp5o5tnt9Vw7sZiC0Uv58F/fYV21QFdapy0l0yfoxASdlGKSUAySok2fZBIRLQTZJas7qJ5H/pvGID//cx+wfVzbQ9Y9FMknLVikxfxYY1daoTUm0ZXUiAlO/jWkegiah6SZgaxbvqTbZk41coJqtwuKeV5QrOU5xZwsW9Zduu58S9O0j7+vbj8MaKFQKBQKhUKhD9b7Atq1uq5/UlXVryq6/XtRM14QFG1dVtJOCpLeLWlmVrNcy3B8z3SDQLe9fCGHbqMbDprpoRr5so6cmr9DJWt2PrQpJpLqkJFtYjmTxv4cFzuylNQl2HOxl73V/ZxsjFHXL9OZ1EmIJinJIqvaCLI1uJA6P6YnGza67ebHGD2w/StjjOC4Pq4X5Eca/QDb/+8/d4L8Y/vB1eAm+/DnhfsY+uhbFD6ygML75lB03ysUPbqAotEr+c76Fq6btJMhz65jyLMbKHhuHQVjNjB8fDGFY7ZSMGYTwyfu5Kfr6hl/oIcxGy6wpz7DQFIjqfpEsyaJnEVGtBBkB1H1SEs2Kcnh/KVmVB+SijPYUKmSzgnkDIu0aiG50NIbJy3bpEUtf0qme8gWxFIKyYxGPK3SG5fojkmIJmR1H0FzsX3IiBaKGZBVXRQ7oDuWRDFdYmkJQXPoTuYYEC0qW6L0ZW1WlnaypizCgpJ2jnfkGNBcmiMiFf0mUw608sU5p/jJuibm1AS8WO/z4cl7+eqbZ/nyW8f52NStfP+tYzy4oYbpJTGmHu5m5ek+tpT3sL02y1ObL1P07FoKnljEyPtms6IsRveVZk7RIim6+T1wgkEya5HM6iQll4wOsutjBx6GD3oAgQu44LkB1uD30ghACsA0Ia37xHMK7QmJml6Z2s4Mrf0C3RmLuGSTkm1yuo9sOIFuOL6u65as2XJOsbsF2azMiuY6UTVnKrr9e8Nwvqvr+icFQbgh3IcWCoVCoVAoFPq7GAxowwdPCW7Vdf1fTdN+QNPMKbKq7VBUs0zVrIhhOKLjeI7nBb7nBXhegO+D5wW4ro/j5McLTcu7eqpmWB6mlW9T1G2PnGIRzxm0x3I09AlUtKUp78hyri1FeVuKpohCT0YnnjPIKhay4SFr+Q/vOdVGNVxsJx/AHC9/j8zzHALfJbjyyT3wAJ8g8PB9Hy/w8T2wHS8f3gLQbB9Jd2mXA0Ztq+a6Ue8y5OG3KPjzaxTd+wpFTy5l5NhNfHruKYY8t44hT6+kYPRqCp5dS8HTa/nQtIN8ZPYJrp12kA/PPMIvi7u4bfImxu1p5HiPQVVjG91JmaTskBAtsqpLTnHpiUpE0/mlyoIBigvltW3EJYukaiNoDooLgmwgyyqOG1wtP8lKaj78ygZCTsmvD9B9+gSV5r44guEg6UZ+1FHUcGwf14WsICLIKjkzoKk/ieSB7EJS9+lTA8605mhJq7x3qpMNF/rZWN7H0boItTGV1qTOpnMdPLzqHF+avo/bF5zhC5O38q1FZxkxcSe3zSzhZ6vq+dWmdu5cVcfvVlcxc18Tr++pZc7uOuYebGXitlp+tbKCgufWce0TS/nS+HUsvBijPanTE5ep7xOpizl0ZgPqerOc7xY42ypT3inRmFBp6hM43y4w+VAdD206w6Y6iUtRn5K2OJsud7O3WaK4VaSkU6K8Oc25DpFjbVn218Uovhxlc2WMo01pepJpolkJWdXJyRqyBbIVBJbtOYphaqJqRERFr5NUc4dkWG9qtv2Aabo/HiwK+UhYFBIKhUKhUCgU+sD97f4z0zT/0TCM75qm+RfTNF8xDGuvYRgXLcuKO44rO47juq7re17+Dpfv+/kQ5Pl4XjAY0lxMy8N08w2Kruvhuvl7YZLmkJQs+tIK7TGRuh6Bmm6Bmp4cl7qytMbyRRFJyRxcPu0ia+7Vgoh8db6H7wf4vjs44+bj+17+CXwgP77ok79vpjseiu6SlQySOZVYTqc3rdMUkdlcNcC3Z+5g+MPzGPrImxQ9PJ8RD71B0VMruGHSjnwoe3oVBU8tp/DpNQx5YQsFY7ZQNGk3H3ntBNdM3U/h2G0Me34ddx/t5v4VZ5i/+zyS7REVDbKqQ1bJN09mZZOYYBLP2UQFIx/EjIATZZdJyA6iA1ndI635iKKKpRvEBY2IaJNSLHKaiSAqCDkFQc6PRAqmR0p3aYskSasGkmGT0yxMOz/G6TkujuMgyhKi7rH3ZDlN/WlkN6CmI0JNVGHJvkpqIgp76tMcbU5xojVDXURjy6lGLnVl2d+q8tCGKn66vIIfvXOOf19+gVtn7OOrSy7w/cUXuX3+Bf5t4SX+dVEV9+/v55VDrSw+2sLbx7uYc7iH1w62819ryil8YTMjn17HdaPXcvfGSk53iVwakHn3WA2TiqtYdjHKmgu9TD3QxK+XlPLc5mqWne5l6ale7n3nOJ+etoubXz3MF2ce5P5VVbxyvJPvztnFyGdXcO1T73LXW/t4ct1ZHllfzn0LS5h1tJ3xhxu4a9lxZp/spi2ikFADdMvB0A0kwyNnBoFmuK6mG7qi6nFFNZsUw96ras47mun8RTPNn0qm+Y+Konw03IcWCoVCoVAoFPrAXQlogy11H7Ys60vADx3HGW3b9jzLso46jlvrOF7adVzNdV3Pdd3g/QEt8AMCzx8MTe87UXOvhDcPx3GwbRfVsPOFIYJGVNDzO6kSKi0RiaYBhbaYRF9aIyXnA5qsuSh6vvVQMR0Mx8Px/Hz4yF8/wvICFDtAsnxk2yerOWRUl7Tq0ZvW6YhLdKYsWmIaFzvTnG1NcbAhw+aKOI+tKeP6J5ZRcM80htz3CgUPvMGQR95myJPLuHHyToaN3czIcZspfHolhc+u5/oZR7h5binXvXqcYVMOcOOMwwx7cQfXvrCRW18/yIQDnbSJoGkWlg2Ol6/0lzSDnGoQF3VikklSNIhnVWTDQ9BcUopObXsXsu0imi66aWD4HnWywys7z1M5IBPXPUzPJyWqbDl0Gtn1sXyfpGqSsKAuKtKpuMRtSNuQUfOBNiNJGK6DbfuIhk1cUTEcD0H1aE7qnGlNEZVNzrVEONfYRXXEpLJH5EK3zuX2FNuaVP5r1SXu2tzOzzd2MOz5bXzljTK+taSM768s544lFXx29hF+sKKa66YUc8+6Oqbvbeet4x28c6KLh1eU8tLxFF+Yf4ahL67l6wvO8tfN9eypETnXbvLmyQh3vVfOr5eW8ciaCu5bc4mfL7vIvy+/xO2LzvHAuktM2N3MSydi/Hx9HbdOLeY7s/awpDzNrxaUMmLKLm6eupNXj8d4fGcN3513mi9N28fX3jzFJ6bu51sLy7hz5SW+NWMb4zeeI2VC4Hv4no/rBkHg2p7r2qbpuGnDcjp00z2qW84K1bJG67p1l6JYX1JV9ZbB90gY0EKhUCgUCoVCH5wrAS0SiYyUZfkm27a/YprmHY7jPO84zgLP8064rtvoul7WdV39/xrQvCD/+O87URsMap6fH4W0PQ/T8dAtj5zqkhIN0pJJImcykNHpTum0xWU6Eyp9aZWkbJNWXEQ9Py6pmDam7eG4AYYHggd9qseluMWpXp19rQLFtRG2n29jb0UXlV0yDTGbiq40ld1JanpFqjpFSuqS7KmOs/JUF28faGTc9gZue3knRX95g8L7X2XIA69T+MgCRjy7ht8ciHPb66f40NjNDH1uHUPGbuFTb5bz1RVNjJxxiCGTi7l+XDHXTSzmhsk7uW1JGU8vP09PKkBWdRwLHD/AcgNULT+emdZMkoqOIFvkFBvDCtAsF821iaTjeI6F4/qotoUd+Dy+9hhffXkL0zafYfXxGpIWtCdk6qIii3eV0GP5rD5YSm1KZ83pWiZvPM3k9SdZXlLHxahOY1whqroMSDqC5pGSLSTTwrJMFMOhW3I5VZ/kcFUTuuOh+T5VCYfj9VlON6ao6UqxoirNv84/zbXjdnDDS/u4duoRrp92iI++sp9/mLGXJy84fGTGAb6y6ByfeLOUXywr54Xt1bx8oI3ii1EeXHKKF/Z2cusrh7lm4g5+v76JZ9ZX8+yKCl7d3sSY7Q3cv/oyf1p2id+9V8YjG2r59fIqbpl5iOsm7+SR4jbGFjcwbmsTf1nfwn1bm5h4pJu1lWnG7qjnl6vPcvvbe5lxOMLPlpxj6OPLKXpsCSNHr+CaUav54bI6vreshhFPrOKWR96gTwff9yB/6hsEju25nmM5npd1HKfbspwTjuOsNRzned2yfqva9lfS8A+DTY5hUUgoFAqFQqFQ6IPzvor9a4Gbbdv+umVZP3ddd7zjOEtc1z3rOE6r67o513VN13X9vw1o/mCV/dVwFuQDmu/mT89c38PyXCzXwbJdDMdHMz0000PSHFKiRSRr0JPI0ZeQGUjJpHIaWclEVkw0yUbUAiI5n9JmhWWnevjB5A18atRyRjywkKKHFvDpp5fzyPIyjtXEae4XOduSYld5J7vOdXOyNsfZ1iyl7SnOdWUp7Uhzqi3Jmc4M6yuy3DRqPsNGLabgwXkMf+B1hjz6NkXPreVDL25nyOj1+dHGp1dzw/SDXP/yHm598yRfXVrN9bMOUThqLUNf2knh06spfHotdy87RbMBfZJFT9ImIelkJA3Py49iuq6FIGax/QDXA8N0UXULJwDLB023sLyApOnSl1P5zdLjfP6tM4zeUcvKizFqYxq9OYO0adMnm1xqG0AZrO/X/IA+1aVddOlWXC51Z2hPymw7eprOjEJ1zGDupmM0pWza4yI5H6rjOu8caaCsI4kd+OD7ZHWdjoRJZ8YhasAjK07x271RRk7Zzy3zzjJy+mE+tbCcD03fx8iJe7h+6kGGT97DyIm7+bd3qlhZlqQ56zNtVxMnenSm7apnwu42vvnGCf5h1kF+t76K0Zur+Mv6Cu5bfYHfLzvPI9uauGd1NQ+sqOLZHd38bEU1N8wp4fpZR7j9ndPcv76aOxYe4ytz9/HpN0/y8TnH+NdZO3nnRA+by5O8eqiDf3v9KJ+Ysp0/rC/jgXXVPLC7k1+uqebfF1dy4wurKfjTFIb+6VUOtWdwfXADHycAz3N9x/dsx3Nztm33uW5w1vP8za7rjzc8727Ntr9uGManBt8jw8KAFgqFQqFQKBT6wFwJaMlk8kOqqn4M+KZlWf/puu5LjuMsd123zHGcDsdxRNd1rf9bQPN88qEs8HF9B89z8n/m5r/mynOl0MP283fTbMdDs31ymkc8Z9Gd1OjLmvSmNPrTKrGcSUq2yIgOLQmN0pYUc3Zf5A9v7uAnb+7jJ/MOcvd7pTyzvYaZhzvYUC2xq1Zld73M+jM9bCnr41SrSFmvSkWfTnW/QX1fjqaeDC29WVr6RE71+nxl8ipGjlpC4UNvUPTg6xQ9Op/C5zcx8qW9FE3YRcHYzVwzYRsfnnqAO7Y18+2VF/nOoio+M+ckhY8tZ8iLGxnyxDKGPrOOW15cyepugw1l3ZyJeJT1yFzqzyH5YAOmm2+XtHwwPReX4Gr1f1bzUYELjb0sLj5CeVea787czKdmHuDPy8t470wvOQ8My8NzXWzXwbsyYurb+J6J7+fv+gXkW+i9IEC1HXKWS7/ucbgmwoUukZLKJopPXmDrqcvMPxdlXe0AjbEsuD6yKtMSEWlOmpT3KfxiQQlfeauMG6fv5+Y3zlI4YRc3zz7G11bVcdPrpyicuIeiCbu4bsp+7trUwfbqNG05mLm7gfdKO5h+qJlHV13kzrdPcefi04zd1ciM4iamH2zjmb1t3LPyMr9+r4KnNjUye18/ozc38Mv3yrh9QRm/W9nAs5vqmXMkyoPrK/nxkiN84b1qhs86w+3zS1l8LsOioz3M2NvGd989zV1rL7LkfIw/rr3EDWPXMeyvy/n3xZf45KQtjPjTNAr/cxKv7KvEcMHCzTd7+o7v+p7juq7oOP6A67plnudvd33/Jc/z7gW+aRjGZ5LJ5IfCgBYKhUKhUCgU+kC9r2L/usF9T9+2LOs3rutOdxxnjeu6lY7jdLuuK78/oF05LcufoDl4ro0XuHiBj+06BIOV9pLhYnj50yHHB9cHw8+3KMqGQ1LU6IoJ1HQlOH65i9o+iYvtKSpb4jT05xjIOQykVFp609R2ZSjrlilpEyjpljk3IDGQCRhIeZxoybKopIFfvXeMr83czjMbKimukSlpSHGktpfTHUkqujN0JHIkJJOYGtAY0zjQYvDl8e8x4pEFFNz3OgX3zaLo4TcZ8sIWCsfvomjaQQom7eDa6fu55sVifr65i2tf3MZ/be/ne8ur+cy4TXxk9DKKRi2m4Mn3GPbkKm4es54fvnWUr01ax9xTMcauL6Ui6zN+4WqOXe7mXGOMSw0dmF6AS0BOVYimRHKqie+7+EGAEbjkLJeOAB5fc4hxm89zrC2HoHt4XgA+eH6AA5he/j6eG+THSfO7wnzAHWy39PK/5ZkEgY8HqLqOYDhsPV7Ot17ZzaembqOkRSIIoDOtcqolxebyXt443Mi/zD7KrbNPc/PMfVw74wDDJ+7iX5bXcvOrRxg+4yBF0/dTOGYrRS9u4fNzjvHsnhqm7Klh9qFWXt/fwPQD3fz63Qqe3xthanEzi88neKG4iV8uOcf3F53nn+af4merqhm9uZbRa8r586pzPLyjjqfWN/DclkamlLQx+UADz22o5smNdfxo6Tm+985ZfvPeBX46/zT3rK7i8Q3V/GpVBY+sreGxdef5/hv7+eu2eqbsbuOJPc185MVlDL97FiP+azLfn7iUaC7ADix81yPwXd/3XNd1XNm17ZjjOJW2be92bXe6Z3sP4fBt0zQ/O9hyOjwMaKFQKBQKhUKhD8xgQUhRJpO5HvgHx3G+Y9v271zXnWnb9nrHcaocx+lxXVdxXde+0uD4/oCG998nY5qfL6cQDBiQPS51JmmKqrQnNDriCm39adojAr0phc5YjpqOKBdbI9T1CVS19tEVlxjIGvQnFQZSMpGsSldOojEmcrY9yfKTTczcXsYrW86z9MAlKjokLvXpbK3oZO25TtaWx1h5doBtF2McaxY43ZbmaE0P51r6qe6OMZCVScgG7WmDM60JNtQIfGnScoY/+AZDH5hLwX2zGPrgfAqeXc+ISXsomLSHIdP3MmLafoaO3cVtCy8zctZRbp6xn2snb+UfJm/mHyZuoOjpxRQ8uZiRT67hlxs7+fTYdUwo6Wf8+lLGLd9Lvws9ikvDQJaEFiBpAd19MVwCnMBH98EEooKBaEPGg7LWCKPmrWJrfT87L3fz6qotRCWNhKggmT6KbuF6PrY3uLM58Aj8AHcwuAWDbZaQ3/FM4IBvoxsWng8isPpUHZ+duJlvzdzGssOXMCxoiya42K+xqrSL2buquHPBGe7Y2MWHp+9mxPQ9XDO+mFvnnmb4pGKGTNlLwZitFDy9jqIX1vPD5dW8firFE8su8OqBTt48n+XORaV84uX93LW+kWe2NjCtpJcfLjjKt94+z7+9W8knXz3AT94r46GVFxizu5n/XF7Jdxae4KGtHfx6RRV3Lz/FtH31PLmxikeL2/nNu4d550yUu5ad5ttvHeVX66r5w6ZG/rCujd+8dY7x++p5ZEctk/a1MfdAF4/sqOH6CasY+ue3GPHbqXzqr29RE3VwPBvHBsdyfdPyXdWwFcWw4rJuVKm6sdc07Zmm6T2q6853gM8NvkeGD75nwpAWCoVCoVAoFPr/3pWAJgjCDbquf9JxnO/Ztv0n27Zn27a9yXGc6vy9HFcdDGjB3wY0x/NJySa9ksuhy/0s3lPOhpOt7LjYw6qSRlYfb2HLmS62nm7h6OU+ShuSXGjL0hA1qI3q1MYtahM2jVGVhohCe0KnK6XTnTboSqu0J0yaejRO1MTYVZNkf2OOEy0qp1qynG/LUNGd4Xx7gvLWFEdrYhyqS7KvLsbR1iylXRqnWxWOtmocbFLYWydQXJ1k88UYGyuT/OndEgr+PI1rHnqTovtepfCB1xjxl8UMGb2cwmfWMvTFnXxkzgk+NPsUQ2ecZMQrpRS+epgfLrvEL7a1csusgwwdv53Cp1cw7C/vMPz5lXzt9cOsPhfncHUfrUmFmGJjuOB6AZZj4AU2MNh26YHpevTEk/QmUkQTWXKqiepZnK9rQ3bBwMMBVCegeyBNIq2iaS4d3b0opo3jgiCKGI6DYnoYtj8Y2PIhTdNNVDN/90/WbHTTxrAd+g2fhcfq+PH8o7xTkyYLuAGcqOtm+7l2yjslhADePt3Nt+Yd58OzSiicVEzhE+v46KtHKJq8m+unHqTgyTUUPL2K657fwo/mn2JqcT3TjkS4e00FH3phM8OnH2Doy4f48LR93L7kAn9YVc1vV9fy7QUV/HBhOQ+srmbU1mYe3dDII+ub+PXay/z43VL+uLSKny45x5OrL7K32uCeJSf56aIzzNhdz5bKBE9sq+f3G+p5aEsdd68t50/vnuf3i06z4Gg/z21s4JtzD/Gd98r4/Gun+Oj0gxQ+uICCB2dzzZOrmH82Ql9WoiPj0BFVgoYBxa3py6m1/dlkYzRb3ZHIHYwL6mxB1B+XDed7Enx+cFl1GNBCoVAoFAqFQh+cwQ+bwwRBuMEwjE8ZhvED27bvtl17juN5W2zHqXEcpz8f0BzHdb3A83wC3yHwbDzfJ2vDikMVbK2KMv9IMwtL2ll1qpftl9K8e7CWtSdaOVYvcLpF5kR9imMNKfZcjLKxvJ9X9tUw/1gzm8u6OV6X4FBNnJ0VveyribH30gB7KvvYeLKL0haFk20iC49cYnNllF1VcY42xqjqlmjok6nqEijtkNjbJLKpOs28k51MOtDM71ac5ZfLz/CrNRf5+YpyfrrsDD9bepb/XH2R366v4baJGyl86HWGP/A6w+6fxZAH5zL8scUMfeJdhjy+iILH32PImC3cNP8Cw2eV8qHXzjLipV3cs72TO1Y3cONL+xk2dhsFTy6n6NF3GDZuDT9ccITuXICgOGiuiz3YaOk4Dq5n4QdOfqE2+QSl6TaxVBbD8TBdn3ROQbFtalt7USwPn/x9M820sb0AWbdxPfAC0N0AUbPJqAYJWaWiZYCUpOF4Dp7v4fk+hmkjKjpZzSBn+XiBi+3YtCRVJq/aw4KaBHfM2czhC22cqqrjcGOMU20SNS1xsrrHwnO9/GRVNTfOPMKwaYe55sW9DBlXTOH4nQx/aTfXTdzByLGb+OXyGqaelHl6TyNffnkjwx+Zz5CnNzF03E4Knt3M0Bd38LFXjvLNBeXctbmLL75Zyo9WVjLpUB/jT0T54fxD/OatEzy4roLHdzfyxM4W7t5Wx11rK5h4sJPx+xt4cW8LU3ZeZu7RFu5feoa73jjGywc6mLK7lnnHOnlxZxXvnOhl8aE+Rh3q5YuLzjFi3E6GPbuGwsffoGjMMkaM28HvV5dxtD7CgZoBdpZ1B1vOd3gbSlvUTWeaU7svdtQcr+s5dLkrPacznnkiJRg/SEnWbYIg3DC4Cy0MaKFQKBQKhUKhD8aVgAbcOBjQblcN48+mbc81bHObJEm1qqoO2Latua7ruK4fuF6A59pYjkev4vLGyU4++8wibhq9hE9M3MI35hzmj2uqmLGnhuLLUY61pilpy7C/Lk5Zp0xVq8Sy0318Z8pmPvbCFv5jzjF2VSscbxB593gPk3a18ND6Wv688hJ3r6ni9xvPMHlXJRsvDvDW4cvMPnCZafvqeO1QGwuPdrLpQpwFJ7u4f+V5Pj/zEB99+TAjph9i2PSDDJ2wg2ETNnPd2M0MG7WGa8cWM2LSHkZO2sHnZh/k2wvO8dFnV1N072wK73mVIfe/RuF9syh8cC6F986k6P45FD68kGsn7WL4hB2MnLCdz08r5p9f38tNk7bwvfcq+er8oxQ9sYShTy3mxnEbmX4yQlM8R0LUcIMgX9YxuAvOJ/gfo4dXXD2RDLj6BOTvmQ0OKeb/TgBBAJrhoJv5cUVZ0cjKOr1JgZ6sjKhb2K6HGwT0RqOYnofmuSieT1VzNx4uuutxqqGPDWfq2VXbzUubT5D2IWUGVPeIXOrNYZgBEVVj5qFLfH/WHr4zv4SPTtlM0bMr+PCLW7hx3CY+NG4dt87cx4+X1fKVeQe4ftRShj62kKGPL2DoY+9S+PgSwN96YQAAIABJREFUhj+7loKnVnPN1H0UTt3L8GmHGDF5H0XPruCap5Zy0+QDfPaNMu5dX8eWRocN52KM2ljLj5bUcOfqNr795hkeXFXD6rIEa852s6Iywpq6LIvLE8w70sdLh/oZtbOVl0uivHSki1Fbqrj73YPcOmYlw0avo3DMJoaOWUvBU0sZMmUXwyfu5jMv72Lh0Q6WHW3knaMdwduHGr23DzVrC482p1aeaKvddr7zyIm62NzLXfFRXTHh9nRa/gJwYxjQQqFQKBQKhUIfqL8JaJ82DON227b/rGjGXMdxtrmuW6vresQ0dc11XcfxvMB3A2wPYjbc99p6bv7TRAruGkvBH6dR+PB8hj22iG+9eZKph9pYXhll/okWXj3cyKzDTaytTHG4TmV/u87KSykWnI2zqizJzsoo809H+MvmWn7w9mluGL+VD03Yzj/NO8borVUcqNc526BytinHsaYkC4418Mzqs8w92MLcffWMWnueO+Yf5ZcrLvD7rbV86a3TXD/tAEPH7uHaCQcYPmk3BeO2MmTqEa6ZeJCfLa5ixukck86qfGHCFgp+/zIFf3qZofdMp/CPkxl2/2wK/jCZIX+YwtB7ZzP0LwsY9vhCRjw8l4899jY/WHCYr88p5huv7mLoY/MZ9vgihj21mGufWc5ft1bRnrOJprJYXoDr50NVfhw0X6biuu7VJd7/b66EuPeHuSCA4ErhyuCy7ithzvEDjMGF4fgBnu+h2Tad0SgXm5spr60hkdNwAhfT8zlyuYM3th6hPSHRb/sIuk9fMkd9j0xNt0CfZlLZXM+Bxjj3rbnAHSvL+fHqMr4+dxffnneY36yr5Sfvnub+9ZeYeGiA779bzrAX1jHixQ0UjH4v/4x6j6HPrqHgyRUMnVhM4aRdXDNlP7e9U84vVp7nd8vLuO6VEq579QK3v1LCtD3NLDzQxrQDA3x11lFum7mLn729h001IhtPdnGwNs1r+6v4+es7ufXppdz65ApumVzMbfNP84/T9/LhcesZ+dgyCu+dScH9bzDksVUMfX4dhWNWUfDUMgqm7KHwxWJuGLeRRce72XCmixWneoJlJzq85Sc6tBWnutLrz3TXFl/oO1LaFJ97uSszqi+l3J5Oy18MA1ooFAqFQqFQ6AP3twHNdd3bbdv+s2aYcw3D3uY4bm1WECOmaWm6qjmubwW+55DRYczKvRTeMYohdz5HwY+fouhnzzDsrvEM+91Uht89i+vun8uQP82g4A8zKPjzGwy5/y2uf3gBNz72Nrc89TaffXYZ//TcJj4z6j0+P/7/sHdXwXHfZxv3d1doCKehNg20T9oUU0i5DTVJw2a248QMsmzLsiVZFlhsW2CSxczMzMzMsNoVM+PS9z2Qk6dP3+P0nXnn/5nRaEYjH/hgZ3TN/buv25037eP5h1s22wNqORPZyrWEDq7HNGIeUYNDajtXo6u5l9dNRImcepmSqt55qnpmqJUtkiNdJrxplu3uRbzplM1Pb+bwsl0aX0R1sz+ujy9Ce3nscgTPWEfx3p0cLgZV8blDGPbprbiWjrJplwWibaaItpkg2mqK3nYzJJ9dQvQvA8QfnWXjNiPetAzgHzei+LNNLE+ecuOtW/E8vd+WJ854IP76HlqnvdE57s7TR5xpWoL+qSVGp5aYmFlC+bDIQ4MaNQpmZ2f/I3hpHk7I1GjUqvUUplE/bGNcn65pNBpUSg2ra2pWlGoWFGpW1bCm1qDRqFCrFCgUq6jUCtYUK6g06/fRVtWwpoFVNCwvr7KqUrCmVBFd1ET3nIqRyRnq5OO09o3TOzKGfFZBq3yWztFF6np6ieya4Td3SthgmclGswSeM0viR6bxfOVfzuW4ehzLx3nPIZlnrLPQM0tC+0QwWif82Xw1ng0XotEyi0bXNA5dkzietMniFYd8dI8H8IZZNO418/zLr4If2WVxKqYF1/x2QpsmcCsfwaFslpulc7hXzhPWukxg5ThpLbMk1w3iVtDPrepJzmcN8axjGptMwvnAu4HnndLQNk/gWeNwNp8PRnI2AF0DX7RPuKNzJggtk1gkFyN59JwfvoUyshpHSazs10SW96rCivsWQ0v7xqMq++qTavvTiluHHZrkQkATCAQCgUAgEPwX/ecTx/WAptq1srLmsLyiCl9YXqtfXFH0T84uLs7OLChmlxc1c4tLdE9peP/afUTvn0H7/TOI3zuO5N1jiN47iuijs4g+vYjo8ytsOHIL3WN3eN4igZ855fBj41CeP/EAvZ3XeOaII/+0icE6tYPgmmFiG5dwTO7APrkT5+xe3PN6cE6t50ZqK9fjGzGJqOR8YBG28U0k1k5Q2DpFhWyJgq5FwsoHiK0ZwSWtnesZfez3L2NPcDXv30zij2Z+nItqwK5ARmD9ILmdE7QNK5DOa+hbgto52LzdFNHnxoi3XEH0hRnaW4wRf2aE6JOLSD424E0Td35v6skLp2/w/t0c9A478cPz9/izdQw/MApGfMIbyZkgJEfc2fC1G2lDGvqmFQxOLjI5t/rtlEuDGrVGxezs7P9rUqZWq7/9vv6z/w1w63fk1N8+eewdGKFLNkBdcxtDY2Pr4U2tQa0GhUbDmkbFqkbFmkKFQrGeDhUaWJxfXP/5mpLkqg66JxcYm1uje15Jk3yI4SUlzQOLlDZ3Mjoyz4pSw5WYYp6xiOex6zk8ZpLE7x3S+Sp5mPc9q/nEp5oPfCr5h0c5uuaJbLTKRO98DOLzkehZJLPRNA3tS1FsNk1CdCES8flwHrVIQmIYwm/ulfG5VzH/ul/OLx1zuBjTQGLrDDvdU3j1ojsbD9/mkYO3eeaICy+fu89u9yIci0awyWxn1910fKpmsEyT8xfnDN69kYJjxjDHYlv50fU4tvrU8/L1VDZaJKJ91hetr++jdTIAHZMYJAYhPHrWm/CqYcq6JihoGtKk1ctV8TWyxdhK6Vh8VW99al1fWkn7/wlowhNHgUAgEAgEAsF37z9LQpRK5Z+Xl9d2LC2t2C0sLodOzC7XDU0ty6Wj8wsdncOK1pEpTZV8hOj6cZ7ab4zk3aPovPsVuu+fQOfD00g+NUKy0wzRHitEe+3QOnIH0ZH7aBuE8BO7bI7ESjFMGsAxqx/nXDn772Rwyj2X7OZlEhtGuZ3ehGN8PfdzevHI7iSiepiIykGSascJL5XjUz2CeUo9e+4m4N0yz8576Xx0K5ULUS2E1IzRPrxC28AiJa0jNMkX6R9TMDarYlkFa2uwugwLqzCyqEI+vkBbVz9ZraM8u98ayZbLaH12Eclnxkg+u4Bk+1Ue+/oW3/vKjrdsQ/jeQSteMbzLB27pvO2exxOn7/LsaU8kXzqhaxiC6GQgOscfIDnixvtX/emaWGVoaomB0TnmlxQolLC0soxKo/w2mKlUqv8T0L4JZ//+pVarUSjW75+pHwatoalZVtQaFlZWWVNrWFZCdVMn/ZPLTC+uotRoWFxdQ6nSML+whObhJE2jUDGzsoIGDa0TaywDPbJRZAurzCnVdMonKW2dIqm8lo6REarbunHJH+Klq3G8E1DH8ZRhzmT286J1EhKrfCRWuWw0ieXJq9G85VHNBsMQRMZhPO2YjbZJPJLrWWwwS0FkEIGOSSJ6V1N4/lY+my0SecIsmtcvB2MY0coHrrm8fM6Hf9il8juHXA6EdfF3+xR+ZRrMU3uuI9lqysYtZmzcdo3XTKP59H4RVyKbMI1q4kJIORYRZRR3LJJaO45DbAuf3EzlsVPeiE74IjrhheiEJxLDcDZbpCA5G86TF4KJqJmgUjpDeceoJr91SJVeP7CQWCMbS6qW12XUyFNK20ftGqVTR2Vj838eG5sVSkIEAoFAIBAIBN89/qNmf1mx/Mfl5bXtc3NLNhMzy8G9I7M17fJpWWXbyEJJrXytuGNIk94o54R7CpJPT6L17jF03juJ1gfnEf3rCuJ9rugYBKJrGMbmS+E8bp2GtlkKj9rl86PbFbxqlcSvXfPZ6d/IwZAO9oQ0YpUpIyini8iKEfwK+/HI6yekeJCQ/F7i6yYIrx4mqXqIlLoh4hrGiKgZxr1ynN9dC0D08QVEWyx4Zr8t9/K6qBtaIL9jhPrhZZr65xkcW59gzS2uMTa7StPgHOWd45Q2DVDXM0ZH3zAtIwr2++Sjs9UI3U/Pof/5ZXS2GCP64hI6O83YvOsqvzBy56/2UbxpF8XPLnnze+c0/uxVxiMG3uieuc8rN/ORnAxA++hdNp+4S2DDHNNrasbm15icX787ptaAGg1rSuW3oWxtbQ2FYhWNen0vTaHk36Zt//algbU1JUvLa6yuqVlSqllWqJhdXGBFqWJNAzWtUspb5UzOr7C6pkQDLK2pWFhVsqRUMr28xuT4FNOrSuYWV4ktqGMFkPUP0jk6w9DkKq09w9T2TdE8Ok/7+DT1E8scD67nU79G9oS38VOzSHQvxfCIXS5iiyTEJjHomcazySKVN1xzeONOMZuMw3nLt5kXLDLRtcniCacCdK8k8ti1DLQuxSA65c9P71bxF/cynCpmCKoexzS5jWcv+PHYhQAeOefBHt9iHAukmKa2YZc5ygGfchxye7BLa8OvVYNdYgtJzeNE1k4SXT9LcEU/8XX9pDQM4ZLaiFWBjKe+ckXv8AMkhkFIjMOQGEezySId0ckAdE944VU8QnHnNMVtw5rcphFlesPwQmJ1/2hCpbwmtUaeXNo2alPXO/513+jcH2dnZ4WafYFAIBAIBALBd4//OFQ9t7T05uT80hftfWOWNZ3ygJyGvqqUqj5pTKl0PqK8by2hqE0dnd/BdrcktD4+iejDC4jfP4n43eNIPrjAhpOe6BsH8xPrJH5skcDrtyt40bkC3SuJSIwi0boYgfh8ELpn/dE55Yv+KW9+bZ2AaWInwZVTfGoVwJ/MQjCKbMAurQOj+CaCKoaJLh8huXWJ6LpFvMtm2OtfxYfe1ewJaedAUDNGsY3EVo1S1jFGcfMQ7aPLdA7PMjyzinxaQWTVME6J9QSXd9E0scbQvILhhVX6ZxeQjql4xyYU8TZjtHeYIt5+FZ2PDPjFhbv8wfQB79qE8MzXjjx9yo0/3krm5avhPGIUwQajaL5nlYG2QTD658PZcC6YRy/4cCGzh7E1WFMpUSjVqFRq2tu7UChUKFVq1BrNt62MKo0aFeul+2o0oFpDo1hBrVoFzf8tEPlmmraysoJSqUSpUqJm/VmkYk3NsgK6BycZnZpjfnmFFaWKnsERBianGZyap2twmNlVJSV1zfROLNDQO8zUoorBmVXaRpdo7J1Y//fLa8hGlyjuW+JeXi+fehXxT99yvghv5YPwNn79oI5N15KRWKahb5vLJqs0tM1i0b4czg8dMvh7YBPft03me9fied48iScvR/OoSQxvRUn5lXs1r7oUo3chjCfN03nqrC9mad3cTO/BK3uQqJoFohumiKgeIbx6gsiaKZLrJ8lvnaJWPkdCTTuJjUNEV4xxNLCQr4KKsMrq4UP7MN684s37jvEYJLXiWT2FQ8UMj53yQOtSBPoWyYhMk9AxS0dk4I328ftcjm8numqEqKo+dWRZrzKsTDofXiYdjqyUViXX9McXt45Y1vSMf9k7MvfmyMiMcKhaIBAIBAKBQPDdA8SANrB5cXHx2dklxe9Gp+c/6xmdMy/r6PfNbpRVJNfKeqMr++aiyvtWk0o71VGlvZqd7hk8ttsE8ScXEH14Cu1/nkLnUxOePufNO/cLMcvu52S6nO9fi0fXKByRQSBiwyDEJ32RHH+A+IwXkrM+iA7fRvvQTd50TORauoyL0ZX84oInG3basmG7BS8a3Od4eBVmCZ38+oo/nztnciighjdvJbLbr5SbWf04JHTyoGAI/6wOSjtHaZLPIBtfo290ic4pJWXDCpyyerngk0/7qIrByWWGpufpn5qlc2ye3O5FNu+3R7zLFtFuM7R2GPNLAzf+dDWYx3de47fmvvzaLowfW8fw6rVI/vygjO/b5vDo1RQ2mSby0s1iJCd8EB/z5rFLwRwIq6N9bJnRmWmmFlaZXlKxoIBVFQ93wpT/rwmZ+puNM40SlWr120r9hx0h34azf//+7S9o1nfMVGoNaxoNSo2GNZWKVZWa2cUVpheWaJfKaevrZ3BymtHZRfrG55FOLDK7oqJ1ZIHOoSU6pGOMTc0ys7BK1/Ai9rly/mwZyY7QFj4LrOM9vxr+FdTCuwEN/OJeGTrXktG3yuR7t8oQXYpBfDGOjRei2RHezWf+dXwe0Mj+aBlborvXd9iuJfCSYw6v2KXz+OUInrTI4gfW6VgXjGERUcODqhkupXTyZUgpZ5ObMS3sx7pIzo3sJmJqZNT0LFDZN01B9zAZDUOcDSzkgF81vzGJ5ulj95FssUL0xTUeP+XC2/ZRfBnfhejwbfRM49hsk4nYLA1tk2TEBj6Ijt1np0cpzumduGa2qh/kdij9CnvnAoukQxHF3RWJVbLY3LZh86rusQPyiaXfDc/MvARsfhjQhHAmEAgEAoFAIPhuPAxoWqOjo5sWFha+NzOz+Mb49NJHfePzV1r7pzzyW4ZKMhr6u1Jr5TOJ1bLV5KpudXC5TPOWXRSP7TNH+/OLiL+4gN7nZoj2OvGaSyHbw7s5FFLPL27koHcljg1WaYguhSI2DETrZCCSkz5IjCPQMQpEZ7cNoi9M2HDEmTeuxeNXKSO6RopZYjOHgqo5HFbPfp8SToa08i/3En5s5M37NtEk92lI6F4mr2uakt55HiTX0jqmIbd/jZDaMRLa5niQ14VRbCMf3M3ndzdTOB3TQNuoiv6JJeSzS3RPLNM7Mk1h9zxPH7+L7kEXxNuvoL/9Ik9sNUZ/izG/tQnnV1ahPHXClXe8ivi+fQrPO2TwpF02z7mWsdkuC8nlaESGvuifC0f7cjxPWadimddPcu8sXcvQPb3Eqkqx/oxRo0EBqNVroFaCWgEaFRo0qB9O0r45Y63W8LDJUfntfto3hSHrQW29FESjXn8uqVKvhzO1Zv13lSoVSpWKVYUChUqNElhRaZicW2ROoaGha4B5hRrZ+ALjc2tMr60yMDLM2Bz41ozwt7ulvBfWyPaQGr6MbGB7RA07A6vYE1HPJxEtbDCNY+O1NJ5zKuURi0wktllsvJbAW16VfOJXy3u+tfzIOpm/eFTyxp0KNl1LQ8c8kT9617MtrJ1TWUP8/HoC56IauJPdjVlyBz8+74donwviQ3fYYBjOc1di+LNFNO7lY9zNbMMwpAjf+hHS2+eIalgkpGWFE6GVGCR28yerGF4+64X+V268ahrK05dC2XAxkmft83nRpYxHr+ejY5KM5Oz6XbY37TM4G1bHpYhatUVMncItrXPGO7u3P7SwtyS2oi8iq2XoSm3P+O6+8Zk3hqamXhwdHd30sFBHCGgCgUAgEAgEgu/GNwEN2Ag8Pb24+MuxqcX3ZWPzRp0DM/dKW0cKc+sG2tOrpdOZdf0r6bVS9Z2sJs3vzUPQ/vQ8+tsuI9lhivZuGyRH3dE2judJ0xR+6pTLJvMMJBbZ6NjkIroYjvhcMNoGYYjPBiO5FIHOGW90Pr+M1ofnEG+34JmTPtzIkeOV18n98knOhNZildKJaVIH19Jl3C6fxiy6hdC6WfyLRznsXsC2u5kENU5R3jFMbdcMWx0i+M1FT1zqFrEsHOEt12xetkjhRccc3nDK4EZqK8U9s3RPLdM3tUTXyAwV8lV+fMmHTYdu8tJJF/5g5c8rJ1zR3mbEM+fc0D/oxFPH7vE3lzQ2GviywTAQ0ekAtM4EoWUYhp5RJBvMonjcMg1d+wKeulnOE6e8efHsbd628OfAzWBkSg09S2sktAzSqIB+YBRYUqtRqNUoVWuoNeshbj20qVGrVahQrx+31mhQKpWsra09bHRUsqpQo3p4C21NpWFpdY3p+XnWFIpvd9xUKtX6LtrSMtPzS8wvr7GmUrOo1NDY08+cQsPs3AqzK0o6x0aRDo9ROahii08xz9vm8G6MlA/9KvnIu4zt0S0cSenjcGwb26I7+OGNAh63SOdFxwKeNE9CcjGYx0wjeNevnl87ZvPG7XJev13FH73qedo6E/GVJEQXY9EzjGDT+RB+61rMlpA+tvpU8XVkHTZ54zgWL7PDv4Y/2qfyvGEgf3LI5HJSL6HVk0TVjnPAq4AtAZUcDm3mzevx/NU+hl3BVXzqXca5hC7OxLTzllsB2+J6edk2A/HpQJ63zeVFxyKetC1C1zRpfXJ73IffOmRyOrKJS6G1arPI2rVbKe3T7lk9ssCCrsLocmlIVuuIUZ10fEfv6OIvByYnv//wMyIENIFAIBAIBALBd+dhQJMMDAxsmJube3JyYeH1iZmFt+XjCwYtfVMu5Z0T2WmVvc2l7WOTZe1jSyXdE6qw5gmNzhemaH1yAcm/ziL6xBidr27yG5d8nrXMZpNFFvpWqehZpaFnnc0TDnlIzgcjOhOAnlEM+heD0TriidY+J0SfnEH0qSHaex3RP+nB7y2TCO8Cw7AqrmUPY5rUxT7fYgzCqrEv6ONObieuyVXczOniD6ZhGCZLCW9dpXVwja4xNV/7F/DS6Ts8dtiJRw7Y8PPL/nzsXspWnyY+ulfO6ZhObNOk+Of3Uixfo2wKzDN70N5vx2vnffmpmS+PHXXk3ZspPH3iDuKv3XjkfCB/fVDBkwbeiA44Izrgit4JL7SPPUB8+C7aR90Rn/JHfDYI0aUINpolIdrvjOiwPaJDt9E57on+KR+evBKF3qUYNl9LZ4NJHM9dCeU3xu4cfRCPdWQmngV1pHaPM6iGBaX6f58/ataD1jdHrTUaDUtLS6jUGpYVSpYVSlRqDSrV/4ayb/x7K6QSWFlVMr+wyJoGZlaVjC+sMr2kpHd4moGxBYaXYJ9HOr+/UcBPnAr4nVMmnwdW8llgFdv8q9gbUsNH3pW851/HpisxPHc9nfdCWnjbt4q/eJTyl+AGtC+Hs+FKHHpmyehcTWTTtRT0riaz2TKTRy0y2WCWgtgkHj2rdDYZxfFTtypecC5E60ooupeCeMo8lufMwnnGyI8fm4Wy3S+f09HVuJfMcrNwjkeMIpBcjEH/QiS6hmHonY9iwwlfPr+Vhl1uP/+8U8CTxsFsNglnk3EUr94s4HnbLJ65UYqOWQLi016Ijnvxh1vZXEps1TgltakcE1tXnVLaJp3T2nsf5LRlR5T2+uW2jhvUSSc+lw0vvD4+znMDAwMbHj4HFgKaQCAQCAQCgeC78U1AA/SBxyfm51+bnp7/W9/YwsnqjiHHjMqO9Iruifqi9tHx4rbRxcKOMdXNrDaN9udm6Hx8CdH7pxB9eJFnL/jyeWQ3L1xLZZNlGqILoWibRLPZPJFXXYvQOx+A6IQXOhcj0T5+D739rmhvtUL00SlEWy6x4aQnTxiH8qyBL/drprBMasAqb4C3jH1J6lQQWjqBfXorVxPqCW5YxrVkHO+GGYJKenCJKKKke42g7GbsMlq4kt7F+y5JfB1Rg1+vAvMMGeej2zFKG2BnZBsfe1Xy/o0MtnsW8MYlX7536i6SAw68ZuDFxiN26By8zlu3ktE/5ILWUW+euRLF606Z/Mwpm5ctY3jUwBvxcXfEJ93ROnYXrWP3EJ3yQ+eEH/oXQ9A3Dka02wad/dfRPnwT8VF3Npkm8qhtHroWmehaZaJ1NQHdiyGI9zqgvdsW/f1OaO9x4MmjLvz81A2a55XMsj4dU6tgWaFmae1hyYhajWJtFQ1qFColCpXyf3fWNBrWVhTrQQ5QqtafQqJRsaZUrQc5tRqFBmZX1KwB06sqRucVSOULVErnORhQxPtuZXzsUcqRkFpMMns5Hd+MVXY/17J72BLWzt99athwLoC/elXzoW8573vm84l3Dd+7EoW2cQwv3SrnlRsl/MAxn+ed8njZqYBXbhTy9PUsNl5N4SmbHJ5zyOAxy1ietsngacscNl9JRPtiOI+bJrDhTCA/sU3nh1fi0T/myyMGQbxkGsXrNkm85FKA+HwE2heC0DbwQHzYGdFuWz66m82n3mU8apaA/pUItM/5ITrmwQ/ss3jcIpnnbpWiZRKH6LQnolO+/NUtD5PEFo1DbKPKPq5pxT6xefxGanvXvezW9PDSHs/81rGTTbLpjwcn5l8bHV145uFnREsIaAKBQCAQCASC78w3Aa27u1tvamrq0dHZ2VdGJuf+0Nozcri8VW5V2T0RX9Y5VlnYNj6c1TQ2F5zfrrwYXafW2mqK9mdmiD88jehTI54458dmoyiesErjlTvl6JknseFKPG96NfI3vyY2GAYgOu2F1hlvRPtvoL/LCq1PLqD16UW099mz4UIY4i/vsPl0AI99dZ9H91hwq3qK4Mop4ltmOPYggaohJWc84vm7bRDnk2QkdChJrOgnv2sC6RIElMpxyuzFvnCUnYHV/PhSEC+c8WTDTnteuhTMM8bB6BuFoWUYiv7FUERnvZCcuMePr0bxT9c8njnphtZuc35q7MPPLnrzY7MIjqZJ2fKgkEOhbRwNq+d0TAsH/Gv4851iNhj6ID7kjPYhN7ROeaF1xp/NF0MQH3JFfNhlfbJ23JMnryby2r1KvmeXjvhSFNrmKWiZRCM5chvxNhNE20yR7LZCa9d1RDtt0N7ryMatRjy9yxT3vHbiS1qJK24lv1HG0LyS1YfBTck3Vf1KNKpvykJUrCmUrADTKwra5P3Mq9SsAGvA4uoaK6sqvs1zwMjkDBOLKhIrewks7sMuuQPX4gls0uScC6rmlGc+tklt3M6XcadAzrtOqbzjlIhTySgPyie4WziMW+kI77jl8ppNFk+ZJvK6Yw5b/OvZFdDIFs9KPvOu5KvoDnZ617AtsJH3PSv4m0se/7xTwLuueewOaeW3dkm8YRPPrpAO3r1fwZHINswyh9jp18j/mCXyhksxG41C0L0Ugc65cJ4wiuYlq3TecC3lbf9GfmJhdzwiAAAgAElEQVSXyktXo/j+5QhesEhC78QDtI/c4wXbXPQvxfKCYwHP2eUhNgxBbBjOBx7lXItv0VjF1CstY2qWrsc3DDsktbR4ZLfFx1T0uZV2jRxulE++Nzq78srg4PxTD2+gCQFNIBAIBAKBQPDdehjSdIHN09PTP5QNz/62qWt4X6t80rS8YzSyuGOsJLN+eMA3s2EmqEym2OWZoxbvMkf8uRmSzy+gtfMqesfuoH3Sk42Xw3nMOhVtywz0ribzys0SXr2Rj/iUD6JTnoi+vo3WPifEW64g/sgQ7R1X0T9+hw2Xo9hsEoboS3f0T/qg/7ULLxl4YpI9zK2aKbybV3AuG+Ru2QC3qmZ4/tQDTNJkuJWP4Fk/wZmQUv7lnMrmnY488vUDHr0ci75ZIjoXw/ilXRbnM8Y5FNvLc1cj+IlzFq9ZRvNbmzh+YxvHh3fyOOxfzanYFj67n8mpyHquxTZjli7leGgJFyKrMI1rxzVLimuGjBtp3RgldvGGQzKir1wQ7bVDfNgV3ROebDDwR/TVHXTP+qJ9NhDxKX82m8Xy6s1sHj3vj9ggEIlZArpX49D6+ja6282QbDVBa4812rstkey2QrTNCt0dV9Heeg2bHDn+JX2El/YRWdxNdGkbzaNrtIzMM7i4PgFTPSwWUahVoF5Go1wBzfrtNKVmvXBkRbn+xHFNrUGlhvn5RWZmF1ECPePLtI2uEJjfhn+RDNdsKbcyZdilSHFKkRLRsMjtzB5MQ8u5HFKBZWwjd/NkBFeN4FMsx6toiKuBFZwIa+CAfzWHguo5EdnMUf9KToU0cTS8hT3e5RwLrsEgpJav/Eo5EVbLg8ppbDO7cS0e5Up0Ez718yRI4XxgOR/bx2EY3sdX90s48KCYgz7N7Apo5E83E/mTXSJfeFTzsnEMj50OYrNBCI+bxfGERTy/86pCtPcG2qc8ER1yQf+UJ7/3aOApywx+6FzEizdLEBkEITkXxj/dS7GIa9Fcj2tU2CQ0LNokNA44JDU1eGS3RsZUSm+UdU3sa+sf/8f09PQPZ+GJbyr2/7/+vAoEAoFAIBAI/n/u36r2N05MTLwgH5n6ec/wzJa2gSnDip5x//zWsZyQ3JbewILuSY+CvtVP7+WpxLvNNbrbryHZdgnxDlMke2wQ77VDfPgWopOeaFtkomuZgZ5pIrqXYhCd8ELr5APE+53Q3++A6AMDJJ9eQLTXDj1Df0TngtAyiUfbIg2JRRK/cS7hf8yTEJ8PYNO5ILT23kBruxWb99sg2mGNaOs19PbbID56F8npQLQvhPCMeTT7A6s4EdnA6QQZv7iewDveRez2KcIkrB6r+A7MY5pxTOwgpHyMwJJ+fEt6CCmTElMmI6KkmyLZEuHF7WS1jRBV2UdG8xh2EaVcCK/nVk430TVzeOV3EFk/jUFcJ9qnPdA6dAvtvdcR77NHtMcR7WP30TMKQ3QxEpFhBHpXYxEduoHuDmtEux0QXwhG62Ioop026G0xRWvLFcQ7zBHvMEN7lwWi7VaIt5sj3nEd4xQpPmWj+BX141MgxSu3B5+CHgKK+wgrlxNZ3klcSQdXw3LxLe9DvrDKilKBBiVqVCg0yvXyEZZRqhUolWuoNRrW1BomlmB4UU1k1SD3M1pxS20ipHoCy4gKbOMasEnowCVDyt2sbu5mdnEnT4ZDeg/RLdMEl8m5ndOGbW4bp0IqsEzsxTGlnfiOZZI6lnBJ6+RiaCNfeVdz0LeKI/5VGIXXYZfWg21qJy7ZMjyze/AokuGU3YVzRidhZf1ElckJrhggsnYIr9xWwiqk+JV141PWi1deCxktk8RXTuKc2IZVagtulRMYxLbxVXQbv7JJ5mnDQHSO3Efn5B3Eh+6y0TCI37hW8JhlNo9dz+BJ60zEhiFIzobylnOexiyqQW0b37xqk9Aw55TS0uuW2VbhX9Tjn1o7YFnTM7alc2DyD/0TEy90rx+p1hYCmkAgEAgEAoHgO/dvAU1/bGzx2aGJ+Z/IRuY+bu2fPlnSNeoRXdKZFlbU2RmQ1zXmktm98iebBKV4u5lGd4sJki3GSLYYo7XDAp3dNmgdcETr6H20jGMQGcciuhCFxDAc0UkvdE7cR7LLhk377BC9fxKdL4wQHbzJhkvh6JnGo2OVjY5lFo865CA+eBvxATe0DAPRPurOxqNubNhrhfgLIyRfXEKy3Rz9L2/xiFEIjxvH8AOrZH7ulMGtkgGyhlTYRjRgndiBeUYnlklNeBbI8CySE9EyhU9RJzFl3aTUSEms6SO5RkZWwzBZDYNkNwxS3TdHcl0n6XV9tAyukdy6zB6/GnZ55nK/cBDPki6CSvuwzx3k+1fCER9yRWuXBboH7JHsd0R86Cb6RiGIjaIQG8WgdTkS0W5rdLaYIdllg/jEA7TP+iHabo3ulitIHgY0rZ1XEe+wQLTDGvF2MyQ7rbgY04RPkRzvPCleub145vbikS9d///kD+BVIiWwWM52z2Ledc7mRkozydVSZhSgUKnRqNdQo2ZGuf7McWhqjgU1jC0pqR+ZIaGmH+e0DlwyOvEo6McpsQmf0iGsIqu4ntTOtZgGbuf0cSOtDfukZq6GV+JV2INnbg9uBXJOh1dyOqIBw9Bm7BMbcIqvxrdAyv2Cfi6GN2IQ1ohlQj0umR3cyWjFM78Hj/wePPOl3C0Y4HpGN0cDyznmU8z9nC5iGye4k1hPeu0QdcPzxNUNcT+vl5imIfJbB4gr6MA9R4ptSjM+2S14FkqxiG3AOaMHj9JJ7LL7eccumtcue/K0QSjPXUvmVzcK0TFL53GbbJ6yzkHLMBSts6F8/KBCYxnXorZNaF6xS2icdk5r63RLbykOLOzwSK+Tm9TLpj/uHpr5zdjY2LMPb6AJBSECgUAgEAgEgu/ev1Xt6w7MzT05MjPz8sDEwtutw9MHUmq6b0WXdUcHFXU2+ua2DLhkdi++YRGlEG011uh9ZoT4C2NEnxki3maKZKcVWnvt0Tniiuj4AyTngtEyDEfbMHy9IOToHbS3XUNnqymS90+gu8UI8bEH6FyM4gW7HJ6zymCDSQyv3cjjZ3ap/MAynldvFfGsRRqSg25of32HDSc8+aF5DM+ZhPKBVyWHY7v4xKMAw7hmDOJqcUltJLZ6mMAiKaEVg/gXru9VeWa345vfTWrdEPWyecpbBynvHKGga5KEGjmJdcNEl0rJbBwjuW6ArKYhcppGSKodwrN+jj/dyuFIWAPGQaUElA3hW9BJcMUwe33K2XjGG9EuS8S7rNHZa4NkjxWir5zRuRiItlkCupeiEB+8iXi3JeJdlmh/eQvtw26IvjBDa8sVRDvMEO+wQHv7NcQ7rJDss0d3nzWSnVZcSWjDp0hGQLEcv8I+PHN7eZDXx4O8Pjxy+3lQ0kNgkZwPfGt53T6XG7lSbmR3Y5Haymc3Qtjtmcwer2x2uxdw0jMXi8hKbiRU4VfUjX18LRbRdTilduGS1cvdbCmu6V1cj63HJasX86g6LONbsUnt5laODN+iPuLrRgkt7edubi+n/cq5EFTH1YhG3IuHuZnZSXj9BHfT27mT3cX9rGb8cuvpmVMzugLdk0oymkcJKugmoECKbVIr50Kr+Nq/issxbdzOaCOzdZSZhRVWlpVkNgxgFV2FSVQLt1ObmFHBjAq8MqqIqeunf05FQs0IN+MrSK6WUto6RP3AApEVvUS3z3IkopfXbFL5k0suEtMEnrPP4zn7PERnAhGdCuIT93KNeWSDyia+adEhrnX8VnJb493Mtszo8p5b2Q2ys819E2/LhidfH5ibe/Jhg6OwfyYQCAQCgUAg+O942OSo0wePT00t/0A2NvWXevn4zox6qW18lTQ4uLi32je/o88lt3v+97bxq6LdV9U6XxhrRFtNkGwzQrzDDNFOSyR77dA54or4tAfa54LQOR+xHtCOPkDnKzckn11B8skl9D46g94Xl5Ac9+KFG8X8xKmID/zbecIilqfPB2JUusyPbdPQOhfI/9wq5YnTQWw0CeOv96v4vUMOf7uXxaWYNo57V3PCvwrv3H6iqgbJrB8jo3GKsCoZAWVdxFXLSagZJKZ8iKjKYcLLukms7iW/QUa9bIqkim7iq/uIKJeSUj9Cau0AybUyCttmyWueJKN3ke3uafzpVi5mCR34FcuJrhwjpmqAqAo519Ol/M41B8l+B0Q7rZHss2XDfltEe6wRn7iHjkUS+sZRiA+7ITnoiHinBeKd1mjtsUf0+RXE264g3mmOaJsFkq3miLZfQ7TrOlp7rRHttOZKqhSfkkH8i2T45EvxzJPikdvLvewe7mZ0457fRlBBF1sC6/mlQyauOR24ZXVwJraNpwwD0bsUy6s2Oez0aeBocCsXYjqxz5Rik9SMVXwTlvGtOKV24JzRjWt6F+75MhyT2zCPrMU5R8YZ7wJMo5pxSO/BO7ed2NIufPK6sIypxCyhheuJnYQ3LXI9sQbn3D4eFPVzL7OL++ktSJdUDMyvUtjST06NlILWKaKrhgguGyKkdIQbSc1YRNVxPbEbm7gOAgp6iS7rYlqpYFahIKaohcTmAQo7R5BOLLGi0aBUqZidW2Zqdo3xZQ1eScXUjy4zvAbS6QXq5JNkNE3iFl/JV/71vONRxlt38tG6HMP3bTP5lUc9knMhaJ0J4dMH5WrTyHqldWzjvG1sy/DNxJZqr7yuxKjiDtuituGjPUNTfxkYn/ufPnj8YYOjRAhoAoFAIBAIBIL/iod/fGoDm0dHF57pG595o3Vg+qOcpoHLiVUy98jSrsLAwq52t7TOqfdupi+L9l1X6eyz04h3mCPaboreQUfEO63R2W2H1iFnJGeC0Dofib5ZPGLDEESH77LxoDOif51F9N4pxO8dQ+9TY3QNA/ieUxbPXYzi+zbpvO9ZzsWMEf5+v5xNp73YH97Kobg2tsTL+cy9CIOwGtyKR4hsHCWoXIZbehuBRe2kVA2QUDlEYrWcgpZxslvGCSlqxyenibTGMXLapomtlBFdISWuUkq1bJ6m/nnSmya5GlSIeWwD12KqCK/sJ75KRlrjMCk1Q8Q3zbDXq5gPnLNIbhhnalVNx4SSiGIpoZVywsqHcC6U8SubWDYdvo3eOW9MixfQ3W2L3pHbbDSJR+dcKJvP+KF94BZau63Q3nkN7e3miLZeQbTDFMlWU7R2Wq3vse20Rnv3dbR2WSDaYYVtjpyY6jHCSvsJLpUTVCwnsLgfn0Ipnvm9+BX0ElDWw5HwJv7snI1DdjeuOVKOx7bzyPlAdK/E8RvXYs6ENnMlpg2L+A4s41sxjWrEOqmL60ltOGd04ZLZw+1cGR6Fcu5mdXEvX8bF0Eru5EmxCC3FMaWN24m1NA2tkNowRmzFAOHFA9xLbuVuRheumV0c8ihgu0sWN3L6uZPZRlBOO8H53YRWj+BX2o9TaisOic0Uy1Yo6Zogq3GE+mEFWU1DRJV0kFQ/RGRJOyNLKgbn15CNzdM/Ps/cnJJVpQb55ArtI3P0js+yqIH+8Xnk4/OMr6ipaO2lb2KCGbWa9kkF5WNKPnbL5E3bFH7tmI2OQRjPXE3mH951bDSJQ/tCuGaXf7XKNKppzSqmfup6fKPsZlxdoU92S2habc/l5v6p3YPji29MT0//8OHzRqEgRCAQCAQCgUDw3/Nvzxw3Dg7OPyUfWfhZx+DMOwWtowbJNf23Ikp7M/0KuhtuJrWOvXsrc0G0306pu99RI9pujmiPDaL9NxDtuYFotyPiw65onwtC91Ikv/ao5lHjMLSO3kbvkD2id48gfucokn8eR/TBOTac8+dFuzR2+jXxukkkv7aOZJdPJZ8HtrDppDe/sEzk3ftlfBEt5UxkD7vu5mAc14xLZh32UYXcy2wjtKyTuKKu9eeJLZPE1gyRUjdCad8ilYML5DX2k1I7QGr9KHEVchKq5CRV9FHWNc+DlHqcEhoxiqjnXEAxPgVdJNcOkt06TETlAIF189xuWGK3SyzjCphZUNMwsEhIVT/RtcNEVA0QUTGEYYaUn16L4rkrwZjmTKK73xbRgZtonwzhkYvRiL+6j+igGzoH7RFtv4ZkqwmibVcQbTdBstUU8Q6L9ar93XaId1gi2mGOaIcV17PkRJQPE1QiI6BIhn+RDL9iGd5FfXgW9RFQKCewXMqJ8GY+8ijhXoEM1+xuTsa28cr1JB4zT+avHpWcj27GJLYd66RubJLauBbXxvXkbuxTOriR0cW9omHsklrxLBzELb0Nj3wpt1O7uZlQS0zzLDeTOklqmKFCOk1ao4zuOeidUiFf0BBbP8TtrEa+9i3la79yriW141E8gH+RjDupLdxLbya0Yghjvzwu+RcSUiqjfkRBx9AkPSNTzCphclXFxJoK+eQSbd3D9I8u0j++xNi8kqlFFeMzS9R3ymkfmqW9f4LGDilLCg0LSwqGZxQUt46S0TSMf2opTf3zZNYPczyois89y/nVzSwk50J50iyePz+oZuOVWMRnAjS7fMuV5nHNK5Yx9WOOqW1dnlldmfGVQz6ZDXKDpv7RL0amFn4mm5h4HtgI6AjTM4FAIBAIBALBf81/3kOTz86+2jky+YfKnslDWQ3918JLu6N98zpL7eIb+/9ilzQjOuiwpr3fSa29x1azaZ8NPzIOQf9LN7QPu6J9/AFiwxA2WyTyE4dsdL++j/YxV0Q7TNH661603j6I3r9OIProPK9YJPChdy1H/aoxiu5hW0A5Z5K62eFTzU+vxaB3/B7ifTfZfNqLg6mdnPIr46xHPnldC2T1LuGa1kZW7zzZjaMkVQ/ind9EYFEn2c0T5LdOUjO8Qkn3BNH1k7hmdHA7qY6Ikl7iK2UkVsmIqxvlTl4fl2I7uRDRSGzLLDmt42Q2DxBWPcQlzzTCqwdIbhmhc2yRrOp2MlvHueCRQlyJjLCaPkKz2vk6vBbJIWdeMo3GKmsM3a9vIj7myQ9vFyA2CkLHOBjR0dvofemIzk4LtHZeXZ+e7bqK1jYztHZaobXPDq39Toh32yLaboZohzVWGX0EFfcTUCzHp1jG/Zxu7uV241nQh2dhHw+ye/Eo6OJMWBNnEzrxzuvGt0DK1fQe3r5bzK9ditniW4NFfCtWiZ3YJHdjl9zO9aQObFO6cM7swTapBZfMbnzLBrmX3YNnThflg6tU9S4RUCTlon8Z7vmDXA0uwTG1jduJ7ThEVBLfOIGJVxr3smTcSpbiUdiLd3EfoZVDBBZLSWyeJqy8n+y6HgqaZMgWoH5IQUHbKPWyWeRDc0zOKplfUrOiAJUaVpUwtahhbE7F2IKawekVeoenmFxSMLqkoWN8Bem4AtnoHPLhcWaXlplcUlDXM0bvAowrYEWhorV/jpsFA3x2L483HNOQnA3kh9cz+blTPhKDUI3opI96j0/5mnlc84J5TF2/Y0pLg3d+d3RG05hzcefIocbByXfls7OvDsPTwv0zgUAgEAgEAsF/3TcB7Zt7aENTUy9KB2d+XSef2lHYOmIUXdYT6J3bnuuc0t77zq2MCdEhpxXJXkfV40dva96yieRS/jBPn7iL5LALuqd9EBmEsPlaCt+7HIf44B30jt9BZ7cl4j/uQfKPfeh8cBzR58b86FoCW/0aOR5Uw4XEPt65mYpheBuWWcP83TmDnzomoXfwNvr7b/HiaVeOh9RyNaUbr/w2Ispl3M/sJq1zhsRKOSkN4wQWNhNc2ERGwwQRJTIi68ZIal/gQc08Z4Iq8S0bwiurieiyblLr+smVrmAb38C58CYMgmpI7FghqX6YjMZRoipG6BjVML6kIaVSTkHzGHnSKVLaZggvldEoWyOpfZzU5imeO3UP0XEfXr0aza3cEZ47cxf9MyG8YpeIrqEPuoY+SE7cRveALTo7riLaaoJ411Uku83R3mWJZNd6Tb/+kTuId9kh2WGOaNd17HIHCSsdxCe/lwe5PbhlduKa0cH93B488nvxyJVzv1DK2fBmLqf3EVjUh3+hDLtMGTs8SvnYo5IjIY3YJ3dgnybFIa0Hx5R2nNK7sIprwr14EKeUVm5ntmHql0lQ5ShBZQME5LSS0zlBVOUQ1jH1GAaVcsyvCMOwBjxzewmvm8IuoQmr6FpuZ3TiXzhI2xw0j2sIL2ghKK8N//xu/Aq6iagcILlWTtPAAiMr0Dc6T+/gNAMTy/QOzTK5pGZqScXimppVjYaheQWpRdUMzK4xtQwT8womZtbIru3D1COWuynlSFehc3CWhp4hJpdUNLfLaJeNML2iYHlpma6hec4E5PNlSDW/c0xFcsqfN93r+ZVLJWLDcI32mQD1V8HVKxbxzbNm0bW9TinNlQEFPYHxFbLrFd0jO9qHpv4yNDX14sP9M11h/0wgEAgEAoFA8F/373X7o6OjzwyMz/1Pe//UB9Xd41+nNQ66RVcOxD3I72366E7egOSw06LWHvu1180j1LebFjSvnX/Api9vIfrSFfFRdyQGgYguRqFvEouWQQB6X7rw9CFHtN86hPgfh9D74CSiLcb8wj6Drf4t/M0mlnPhzez3reIrn0pOxzTzF4cEbjdrsMrs4nahjOZxNXeyOrCPr6VubBH5AtxNqCStaZjUqn4yGsZIbhknoWkau4QWTgXU8JFbEf9wyGKvdy2HvcrwKpQTV91PXFkvwbkthJQPYBJcjHVKN+YxTbiltxFZO8jF+EbORtfhWdyLbWQhrgX9mIQX4plZS2LDCHmtExS3jVDSPkFmzzzax2+zwSCEt2/F0jyyRrJ0kedOumPdsMhb90qR7HdBcsgZ0R5rRDuvItlpiXivNZL9Nmjts0e0z5FNZzzR+voOot32iLebIdpphW1W/8OAJuVeVg830zpxy+jGI68Pr7wu7mfLcEht41R4C1vv5uBTJOdulhSn9F4uRzVxMaoF88ROHJK7sErowDG1mxup7dgnt3PSPZPbOb24ZXYQVNpPevcyTuk9OOcN4p7bg0VUBUkd8yS2zBDVMMWtrF4c06VciG3DPKaJ8CI5Rd2LuKW14ZjZhU9eB/E1/QSU9uFePsbRoAq+9CvBOVuGX1Ef8ZV9pNePEF/ZT1KFlIGZFYbm15DPrtAzPsv40hojcwv0DE8ytaJiTgGTCwqm55aZX1YgG59nYknDkhLGppaQT8/TMzHNokrN6NQMzUNTyJdVTK8q6Ztcwb20n0tJHbxxPQGts0FsvprMM1ZZ6F5JUL9gnao8EVq7eDW8etw+pb3JNaM1O7i4xy21dvBCTf/UB9Kx6V+Njo4+82/1+sL+mUAgEAgEAoHgv+v/1O0PzD05PDPzknR4+u+1fVO7c5oH7eKqB4I9C6VV2zyLe/WOu8zq7LVf0dtnp/67XbRGf7c12gduIv7qNlrH7qN7xheJUTSPO2ahczkM0Y7r6H92GcnbBxD9/TA67x1D9MUFXroayz/vVPLYAQfOxTVwzK+aa9HdGMS08XfndPYHNhLTNElgmZzCwRWym2dJqhuje2wB6fgqdYNLZDf2E5fXQmbdIPmNMhr7ZkhpGMEloxXjmDrOhdZwMbwZi4QO/h/27vMtzvtM+P7MUFQsdzuOY8fOOonXTrIbe+1sqncTZ23HZd1kS1alF6EGkhASICRRRe+999577zAwMDDADGWGPvQmISEJCfg+L+x9Dh/387zf5D6uz98w8+I8rvP3PZOaJynq0lIqnyGqVEF6xzRhdRr8aybwLB0ipHqYouGbfBJYxZcRTbjXTGCf1YdtRg/BNQM0DC5R2TdH/aCWjul5xmfv0Tp5F4mJD/usYvBo03D73g4LW3Aktoln7dN5M7QFXdNwdplFID7sxl5TX8RfXUV8yJndRj7oG/oiOurJY2diER31RvKNx7eHqw8441I1SVrbLLENE0TVTxFYPUZIzTjRjZPENGgIqh7DtXSQc/mjfBpUQ0STlrBGLb7V41zOUWCb1cu14hFcS0fxKB/Ds0yNV+kQN0qG8KkaxbdiiNCaUaJqRwiqGORsQisfXs3Er26KuJY5rhYM4JbfRbv6Fl1TD7lROoRNVj8nEqW4VIzgWjqIV8kAHjmd+FSO4FuhxL9phuOJXfyHfz3vhjZjGNmGf5WaGtUSTYOLtA7OoVm8i3bpIZNLD2lWTNPWN8XCrW1u3oWNjW3u3Nvh1t2HLK5tsHrrHmu37rN0e5vp9W16JhYZW7nH4sYOA2PTjM8usnB7m3zZJG6ptfRMraKcXMM+tZlTqd28cb0QyalkdJ2KedqlBv3LRds/ca98YJ3Vd/NaVveMT4WmM7xBU5jboXWr65s1V0ytvjO2tPTPQl5fIBAIBAKBQPC/7vs1x4WFhefGtWtvDEytfNA6OHuuUj4TmNQ5WW2W1tb3qHnk4p7jPrd1TfwfSg64bD93KpJ9FiGIDQMQGQQgMg5F51wGT1+rQM8mnT3Gfoj+aoX4t/sR/+Ebdr9rjPhzW171KOdgch+26R2Et87jWKTCLrsH6zQ57/iU8FliF64Vw+yP7uKvgTUE5rRRoVyhQj6GevU+qqnbtKtmaR1epLpPS7Nyjk7NIhOrd9Gu32V5c5uFjYf0Tt9kePUetQNa8tqGKGgfomtilbIOJdp70DOxTuf4LVKahwmrHiKwSkl6xzhJUi0JLRrWHu6wtgma+Zs0D2jpGltjSLvGxsMt7gJ/uRLJM4fsGLm9ze3bD9jY2iFjcJUfedSw+2wqYtMg9EzDEB1xRe94AKIDLoi+8UDXwA9dA19Eh90RH3JBfNgZ3W+cEX/lhvjIDZyqx0lo1pLcOEFS8yQx9aNE1mqIqR8jqn6SoDo1QdXjuJcM86eAOvyrxolqnMancoJzuUpOZ6lwzBrkerEKt+IBQhumcC8ZxKV4BI8iFVG1aiIbR4lp0pDfv4DyLiS0LeJaPkpE3QRexf0kyxYIq1DhWzKEfZ6Ss6lyHHP7sMvqw6l8GtusPjzLhgkpVxFQO4lxbBtHYqSYpiowTuzGvkCJR/EAhV5TcbMAACAASURBVP2r5MlnCcproWPyJssbW4zM3yOqtIvUpkHGVh+ycHub3qEplm7e487dh9y8s8ngxAIL61sMjMwwtrZJXtc48TW9qGduMT69wK37DxmbW2Fs/jY3H8Lixjby0TX+5lvKv7rm8Au3Wh45kY6OSymPOJXt6DsUPnzlWuE9p8L+RZ+yHnVU9XB1Sst4Qmmv9lyHevHrEe3a/6feKAxoAoFAIBAIBIL/Fd+vOU5P33pqdnn9NeXU6jtSzZJ5rULrmiHVFFhnS6WPW0Zqdxn4rj1xMXVTz9B/S/e4785zF5LYezIKsVEAEpNQJGeS+XlwB4/Z5aBj4IvO55eQ/OkYuu8cQvddI3Q/u8gTp2J5y6UQ5+JBEqXzuJerscvs4US8jM+Tuvk3t2Lcy4d5P6CRVy6nElihIr1jhrymPgbn15lYuo98ZB755Bptwws0q+boVK+gmr7N9NpD7gL3gY0d2NgGuXqe4cV79Go3yGtWkt88zOjyfe5ub3N7e4uBxbtktkywsAV3APnUGtU948zfvEf/6BxNA1O0jKzSNrLM4PQq97d22NzeYfL+NlVjWlZ37rN2Z5X7DzZpmbzPXqsY9I8FsPdkGG94l6BzIhx9g1BEh24g+sYDyVFvJEe8EH3jivgbF0SHrn87qB3yQdfQl6uVIyQ1jpMlnSG3Y5asVi1pLVMkNY2R2DBGVN0wUXWTBNRN8xvPCrzKR/EqHcIxf5Aj0a0cT5Zjl6XEMU9BRNs8PuXDuBUquZjciX/VKNF1GrLbZompGyW+YZy49hnOp7dxOLaByJZp6sbu0j51j6iGMexzB7iSqyK2U4trQT/nc9UYJPZglijDuWScsLpJolrnuZwpwz5bzrWCPrwq1ARUfTv0+uW2kS+bYGJji+GFO9y5u8nt+zC0eJ8qxRSlHUNob8H65g537j9kdfUm6rEp5tbvIxueYmz5FpPLd5lag8VNWLh7j/mNO6xvb7O0cQ/l6DQrdzZZ29imTjXP7z3zeMomiFc9K9E3i0d0Lm1nl13e9iMORZuvuRTfuV7crw2uVvYnNWoKstongusGZ81lmsUPx2fXX1tc5IdCvVEgEAgEAoFA8L/u/zcWsrD2a8XEyv421ax1YfdorG+duuJZq9DhvYae8/qWIRui434PdIyDdiRGgew7FcOuExHoWYShYx7OizeqeeFaCaKjvjx7OhzRn80R/f4Aog8skHxoy6+di3jG1J/LGTJ8y7sJbZ7As2yIG2VTGGQO8tbVQgKaZvgsvA09s2Cs85U4lw3RP32biaWb3Lu/xcb9LabX7jC6eJsu9QIyzTKFjQpSChvon1xEObWITLNAjXyMNvUasqn7lPTMUdQ9T2xlP9Xd49x7uM19oHlwivxWNfktSvonlmgZXqJcMUedYobqwVtUDC5TIJ+mXXOTZsUYDx7C9vY2bG+xtQVsPeDuzg6L9yCzdZWnT0fyhIk/L1mGUrIIexzz0XHMRd8qAolpMLrGAega+aFj4I3OcS/EBm6Ij3uiYxyGvkUoPm1asqRTFCjmKetdoKJ3nvK+OfJ6piiUz5AlnSCtVUtY4xy/9a3hcr6Ks0kdOFdo+dC/lq+TFZzJVOFWPoJ9hgyPYhVOWV14lquJap8noHyATOkkUW0ThBYria6ZoX3mDpVjd4ioUhNRoyKmQUlYWR8RjTM4FQ5hGNfBl9Eyvgxt4EpmF6lSLYF1o/gVyImvVTK88pD5+ztoV++ztrnD/J0t6nrGmdyAoaUHdI2u0DY8z+jSBrfuw72HO2zuwOYOLKyss3znAQv3dlAt3GNyHVbu7bB4d4veiTkGp5aYXbyLenye5fXbLK7e4d4DmFteR7uyzuStewzdvEeGbAK/9g08227xE/c8xCei0DkcurP7VPrWniuFG69cy19xrxge9q/qb0lvnYgtlE1ebR1Z2N//XRzkJjz53X9AWG8UCAQCgUAgEPzv+p9YyPT09J6FhTvPaZfWXx2YWvmgY2zFpEyh9Y+STuf8xDq89wkT90m94+7roqPe9yVGgdu6xkE7+qbB7DsZicQkAB3TEB65lMETNilIDvvwyMlQdP5mjc5/HkP00Wl0P3XAMH+MX9rF41rQT2yDmriWccKqhnAtHOTD8CZ+5phD3MAmR+I6ecImjkcP3+DL4BpaR5a4df8hDzYfcv/uPe482Gb1/jaqqVsMau8wvLTB1N1tWkdWqepZoGHoJtX9C9QrF4kr6aCsa5qavgV613aoVmhpH9DSMrxCWscYBT1aMqSTFHdNkNo8SlbHDNWKeaoG17GPKiS5foC6/hkUU7dYvr3F/c1tdthkewfY2mH9IbROrXOlYAgdA1/0Drnzq8tpxI/usNshH8nFbMSnopBYRiA29kds7IfIyAeJiR8SgxuIjbwRGQajZxGKe+M0aS2T5Mpmye+cprhTS6FMS3bHJJnt06R3TJHRPktk0yxv+VRxLn+Yi7kqzmUN8653LV9njXC2cILLuUrOJki5ljeAb9UYbqXD+NeOEd4whkNaE67VaiIbFwgtm0SuvU2lYoaEpkli2+e4UdxHWNUAcU0TeJeP8mVEFwfi5DgVKGif3aRAsYhbmZKCwU0Sm8col2uYXP828nF3C2Zvb1PaOUaRfJac9nECi3vJVazRPjSPemaNjftb3NncQrt0m+n5VeZubdI4tIh9TBmRJR3Mb2wzNb+KamqV6VtbKMcXWLh5n7GxWdZubzG9dJ/RmXVqpAMMzm9QPzCFQ3QxX/s2cKVmgWcdUhGZh7LLKGxb/2TKg10O+es/dyuddypW9gZVD1Tmds77Vw9obbrHVz4YWVx7Y2Fh4bmlpaVHhTiIQCAQCAQCgeDvwvdjIePwhHZl5cWR+eXf9kwtf9YyOGuf2TUb/oZdXP3LJ/0GHjfyXNxt4Hf7R+cSHu4zCdwWf+POXrMgdAx92G0Wjuh0NHstoxF9cgXREWf0P73I7k/OoLv/CnsMffmjVwk3GmcJqRknqG6GyPoJMtq1+FaP8vKlRB6xTcepZorLhSO87pyP6CsPXnUqoHMZFje22Ly/zc2bd5i7dZ/Z29t0q5fon7iFfHKN9rElagbmqOlforJvnsq+Wap7p+ifvUdDv5bWwSXqhpaRTt2hdnIb5/JRDoTU4lKsJEO+QFH/IqWahxSPbFIqm6SgTYN05h4T96B1aJ7WkVXk47cYnL7F5OodRtcfMLVyC9noMkGVndg3TbPvXBb7TifxrH0aOmZB7LJJRt8yFb2z8YgtwtExCUZiEoCueTAS00BExzwRH/dCbBCInlUEZ4o1XMtVYZs9iE3WANZ5g1hnK7lUqOFayTh+tRrimqZIkM7z+8BaTLKHOV0wglGykl9cLebtWDl/DGjieLQUm7ReHHL6cS0ZwSlPSXDzHIE1Gi7kdXKpRMPR6DYSOxaJKu4mq2Ec/7JewqtHCaqbwTpdyvVCBeFVE3gWyUlvGqFNvUpm1xQnk9s5GtbCmaROrhSo8KtUE1ypIqVpjLLeRUoVy9RN7pDUriW4XMGl9G7OZ/STq1iiqGua5qFFOiduUT+0wsDsFjO3tpGPrTB1B1a3YWb1HvOrd5hcvItq9jaLmzssb2yxuL7D+NpDWkfm6ZreoE61SOvQCuPLW/TdhE/jevhDRCt7bZIRGYbuiCwCH+qfjrv3uFPe4mvORaNXC/rrw+sGUku6Z+2bhmaPKqdv/XZq4eZPv0vr7xa+ngkEAoFAIBAI/m58PxYyN3f72dH51X9Rauff7VbPnKzoW7zxp+sZRT87F9bxhGnQ9K7jvmtGpdObrzvlbukdubEjOuDMbhN/9lnFIDoTzW6zCHQOuiEydEP3k/OI/nYS8WdOiI5580v7RHxrp3Ev6ufJwy6cTW8no3sR31I1f/Kq4hW3Bk7mK/GqmeYvoQ3sO5nAy05lBNeqmdnYYXV9i+WbmwxMrtA9tkLX2CodI8v0TN6jRj5Lz9Q6s/d3qBteIlc2Tb5skqJuLRWqm4QUy6nunaeub5aknkU+8C7ks4h2LOI6CKsfw7tAhlfVGMf8SklrHqWoZ4GGkXlahqZpVs1Qp1yium+Rxv45WnuXqFQuU9k7QUnXHDGNo1hmK9G5VMAu+yLEVpE8fiaFPWfjkJxKRfdELCLjYMSGAUiM/JGYBiIxCUB01AvxMU/Ex/3RMQ/HKEeFQWwnv/So4J9vVPC6fz2vetfwc7dy3vGuxaFogKimSVI6Z/hdYC0Hk/r5JLSeT8Ok/C6kg1122fziRg3HkhRYJsq5nKvEtXSUq4XDXCnoJ6J1lpDaftJlK5xIaSe2ToFqfYdC+TIVg+skt07ikNPD0ahmzqb34lEwwMzGt+/zBlceEts0jmfjMiZJ3biXj+BWPoJrkZKAajXx9WP4ZLVR1LPI5ZgKqlRLdE2vUz58hzMJrXzpW86p2GbSO2bJk02T3zZKbc8cw3O3uXl3m63N+zzc3GJ6cZ3p5Q0Wbj9ENjiNdnUDtXaBiq4h5GOLzN3dIbdthGsJpeTLJ8mXqQhvHubfPWr4bVAbuieTd8SGkduSY16bv7hReftx+/Tp3wdU9wfWq4tS29VhNX0zJ6VDM58NTq/+i3Zl5UUhDiIQCAQCgUAg+LvzP2/R1Gr1rpWVlcdm19Zenlhce3NocuUr6eiKtUlcVfSbDgllPzLzV+0z8pp50tT3ju4h102JQcD2HsuoHfFxX3TNAnjkbDwSkzDEx3zQOXID0UEXJJ+dR/yeJTof27D3RBBvXkjBtmUBXSN/3o1owLN6jLwWLe4Vk+w6FcOXiQp8GyZJGrzJRwE12OQocS2S0zC8QKFci39JH4VdkzQMaOmcuEXH6E2aNDeJLO2iSDFP7cgqhYqb3CjoI7JxlGLFMi2qZfoX7qNY2aSyR0tD/zwtmhVUtx4yubFDUecczeP3SW4bpXp0jUzpKCkt49QN3ySjeZT0timyZNNktE2QI50hs3WCzHYtYY0aIhsmcClWsz9WisQmA7FNGuLTCUhMQ3nCJp69J8MQm4agYxb27c04oyAkx30RH/VE98iNb9+iGQahfyoWm2w1J9J6+DxGxjshLfxbSCu/9q3nLyFS9sfIsM0ewL9mhJDGGd7wquS9CBmvOWZyKEnJT+xz+SfPcqxK5jAvGOaNK+mcyuzHp0RNXMcyXnUTeFcM06icRzpzl+D6MeJapsmUzpDWuYBjQiseJQNkqVboWXlAxcAaXqUjxDRPE1yv5mJyE9dy+zifpuBESic2KZ3YZvfhWTVGUPUISfUa8jrnCC4foHnqDtWKBYoVC8jVKwwu3iW6dpCKkXskts8S2zBKUsMIma1jpLaMk9kxQ4lsknqFlgb1LbLaJ2kYXKJ9eInWkSUahxeQTa/QP3+H1pFFyrrHKe4a5UZqFYGVQ1wrUvBX/wb+I6wTPcu47T0G/g/1zkTc2Xcpc+mlS8mqD0IrmhJbJ6OLu6evSofmvlJOrv5pbHbtZa12/Wm1Wr1L+HomEAgEAoFAIPi78t2AJv6uYrd3cZEfziyt//PY7M33+8bXDG3TW7zfcU5Nf/V0uOw5U7/RPQeurOnsv3xXYuiztedszI7IMhSxZRhPO+ay90wC4mM+iA66ITnmw+6jrkjeP43+xxfQMw3g1YsZ/C25B32rZN7wqed4QislfQukd8/xaWAR/+WVT3TTKGeS6gitG2NwcZP5uzto722TWN1FfE0fqfUaijrmqOyZpqhngjLVKl2zm8SUdlKo2sAgugXbwmGu53SR3TVPac88xV0zVCpWKO2/TWnfMr3jq9zdgeaRZbyzWnHJkDK8DnP3dsjpnCCve4awWiUxTaOEVg8R3aQmsWWclLZpouvURNZo8C5T4VU2hEO+hs9iZYjOpqJ7MQfxqQREZmGIjfx56kIcOqZB6JiFIjYIRGIUjOS4H6IjXugc8UByzBOxQSD7rBNwrZrjarkGm1wlRkldHE/p5XhKL1YZSmxzh7lWrMatYhDXei0/dS/ji/gBDHJG+Y+QNv41TIr+5QxedS/nSNYwlgUaLhZrcMlVUDZ4F9/8AcLqRomrGSayYRyf6lFiWrRElvUSXdWH8g4ktk8Q2zRFSf8tQmtGscvqJqhmjOCqYQqH7hHeNIVDRjfe5cO4Fg9wPl3GhfRO/CpGiK5Wk9w4hWeuDKfkBqLqxkntWKCqd5rxtQcsPgSpepGQonbi64dI75giSz6Pb/kIHqUjhFaPk9A4iUNCA6eDiklr1tCqWSe9pocaxSTq5Q1ah+Yo6Z2jWDFPoXya1umbJLZMEN+zwhtXcnk/Xr6jbxGx9dL5xM1dVhFrT1/J1f7UIV32aWRNSXrnjHdFz+zZ3rGV90e0a2+ML/JD9crKY9/95oWvZwKBQCAQCASCvy/ff4sGPL60tPGj2Zs331JNr34UWNN37nB4qd/bDrFlPzsb3bXvoNPMri9tb4qPum+KT0Rs7bXP3dG5kMUj9oXsPpOEvlEAe0wC0TEMRvK1C+L/OoXOB2fRPerNq27lPGWXwZOudeiYJfCaXRJlw4t0T64hX9jmQ9cCohsXOR7bgHPlKEXaDfK6tASXDeOcLSVdqia5Y4LE1nGqu6bIa9IQ0zaPW4UGw+Q2XruSxX8GN3AkppVs+Qq5XVPkK2ZJbNBgHVHKhZgK4ppGye1ZJbZGTVKtmo6VhzRot7mc2cvFjB6im8fxqVDhXDaIW/kIHqVDeJQO4F+txr9qDM+GKVwLh7mSP4BdjgKTlH7+EtnFi+61SM6ksOtcGhKLaMTGQeiZB/PM+UR2mYehbxqKjlEIEsNgJIZBSA7f+K7iGMwT5+LxrJ7Bv34Mr1IVvmXDhFRN4Fs6jF/5EIGVasKrJwitGuVqySTPuxTz+1gpL1/JYdf5FB69lIfOyWT0bLPYbZ3Ae4k9vONbwcm0Hq4WqrlaOIhH5QhhdVP4VI5iFlnH1YIBIlpmCawdJby6n9jmcYJrNHiVDGGbqeB0Rh/Wmb14l48RXjfNlXwFV7JlZHTMUqFaxb9Sw+W8Aeyy5HhUqvGtHSdbOk1G6zjRLeMEFiu5UaEiqXmaEvkkYUUdRFQrSZLO4JbXiUdJH8bRNZjHNRHSMoNvWS8t2nWUt6Coa5KcdjU5XbMkNqop7JygqHOSgHwpHpktFPQtEVOjILBIhkOugufPJuz8MbJte+/JqM09x31v7zsRN/Njx3zV2845ZYfj62MKu7TnGlUzByeXNt6amL/5T6vwuPD2TCAQCAQCgUDwd+1/3qLNz88/otWuPz27vPza6Ozqn9I6R40sY6uuvOuenP5Lh4T654w8Nfu+cVqQHPO+KzaNevCiR9P2SwHSnaeuV/DY5VwePRWNnpEf+ibBiL9wRPf9U0jes0Lv0A32nY7hdyHNPOdVjr5ZDE8b+lLSv0xjv5bakTu851mMd/0iBrH1fBDYxK9v5GEcL+VodCsnM7uwz2nBpawXl6JucmXTRFWpcKmY4D3/Bl53q+I1t1JMUmVcTG6lsHOa/I5R8vtmSJOOM7h2D/XN+8TXj+GYK+dSfhfRrePE1PYTVtmPU3YPtmndOOX2cD67lzPpcmzSFFzK6ccxr49rJcM4Fak5mtiBXe4wl/MHsUrp4njqIG8FNPMDh3xE5pGIzCJ44kIGYpMQdC3D0DMP5imbeHSMg9A1DkbHKASxQdC3R6uPe6FjEsKT5xNwKdbgWTGEZ2kfgZUjRNWME1k7jl/lEAFVg4RUjRBSM4JLpZafe1fzhmcZr18vQvdcMvrnMnj8fD4v+DYhMgjiVY9aPgiXczyygzPZQ1wsHuNShorrGXK8yoaxTunANnuAc9lDGMZIcS8bw69qnNCWKdyr1ZzNGMAqRYl5SjdO+SOEtSzjWDSEZ7UG14xOrmY0Y5PSzqm0Hs6kdONdMYF74SDXcnq5kNKDYVwHxuHN2KRLCasZJ1W2RELbLMWDd4msGaJ9dod06RQ+lf2k9CzhUzqAZ4GchGYNmdIJUtvGSevU4lc1RETLNKktE+R3aakYvk3HEvjnSykeWCKrdxHXqglevV6y/XZo25aeReTdvSYBq8+dS9f8s3Ne5189C9KtMlp9qvvmjLrHF/82Prv+2tLSxvPz8/OPCG/PBAKBQCAQCAR/1/7Pu2jTy8svTK6s/KJONfeRR26L6cGgHN//8kjPeM06WPakkbvm0VNxqz+4UnL3RZfarWevFWz/wK2SFz1qEX16DT1DX0RfXUPvs0vo/rc14i8uon/4Bo+ejuBy2TR/cM9G94AbL54JI75FS2b7LO5Vat4NquBkwRCGCc08ahjEv/lW83FIO8F9d7FJ7+V6gRq3bBWBJaOEN8/gXj3Mmawe9vuXY58rJ7h6gJaRZVa2IUc6TlKjhsBiOYmto8S09BDbOkJYrYa2xS0Uqw+ILe+jYfIBgZWDtE7dYeLBNlcLBrBKkHEkthOD+G6MYjs5VzCMQWoPX8d180+OGRxPGuBEej9mqd0czhjiWdt0RIc80DEJRtc8HF3zSEQmoYgtI9C1ikLHMoznLqWy50Q4e09EomMUwm7jEETHvRGbhvDo+USu5qvxLB8iqEZDaN0YoTUTBNSM41KswqVYiUfZCC4VKtxbV/mBQz6fhHZjVbWG/plEdM+m8OjFbF4Lakb3SAC6F3N4xbMW00QZJ1Jk/MYpndcvJuFUOoZb2QjR3as4Fqg4ldDJxax+HPNUZCnvE9U+i3VWN58H17Pfrw7L5B7O5yq5kDeEXeEo53NUnEpsI6puinPJPRyP68YkuYeTqZ2YxzdhVzSCT8U47fNbNM3dJ6Syj/C6Cdzye7kQW01Y9RCh5f0kN2gokC+S17tKnmwB/2INMZ33+ca7CquYDq4UDmKR0MpHHjm410yQ0KjBtVCBTYoMt4J+mrTbJDZpCKgYwrV6YufX3jVbb4e03d9rEb36pFWo9meO2bI/eOSWHo8o93UpldlIhxc/0ixtvDW9vPzCd+VG4e6ZQCAQCAQCgeDv3//cRQN2z8Izc2trP5FpFv4YVSHffyKq0PELv8zwNy+E1L5g5ad4yi59fu+FzFs6Z1I2RVYhW7o2yTt7LuahaxqO7lFPnrMKRu+zS4g/s0X0tQM6h73RNw8kpfc+sZ3riD+242WHOHyrhgmp1HA2d4CvExSY5Y7yVVw/uy1C+aF1GL9yLuHj0BqOxbVxMEKKbU4PgW1TOOZ04V2uwTKsityeOdYe7nBvBza2oEU1RVjtIBH1k0RVjxHXPM7nAQ3sD27GLk2KX3EviS2TXM+U4l2uwadyBPcyFdcL5bgWKLicreRIUi8Hojo4GNXGNwkdfBwr5d99a9l7OpqDCQMcjengcHwbH0d3om8RgfigM+Jjnuy1ikJsFMzuUwmIzCPRORWD2CSA3Vbh/PByGrsswpEYBbLHJBQd00BEZmHstYnnSv4IPlUaIhomCKsd++591jCOOf1czR/CJW+YG6UjnElT8rh9IW9H9vDDK3nonIph18l4nrJJ46/JSiRG/uy6nMuv/Ovxb5yjemwH1+oZXj4bweHYbj73Ksa7ZhTvimH8SocoHbqNf42S+OZxAso1WCR0cTCmg9PZgzjk9HGjbgrzxDZOJXVhlzfI9eoJLiR1YpGk4GBMD8fju7FJ7SS6cwXvSiUe2TKSGjQ45TYSK13kYmYvxRMPyRq+h01CE6GtSzgXqbmUq+J0Uisehd24FnRzMraOS7m9XM3vxb10kBtNs7zrWcxHvlVcKxnhy6AGvghtw7FYQ2i5kvS2KZI6F3eulgxs/9Pl9M23A5o2HreInn/udOjIr12za9/3K0g9nVTr6F/fZzgwufrH8eX112Zneea7r2fC3TOBQCAQCAQCwT+G72f3Z2d5ZmR2+fXiLuWf3DOqjU6E5Tu+7xCR8i8nvWp+ZOo9/KiB55zukRt3dh112xQdct3Ws0nbEZ9KYJeBJzqf2vLo1w7s/voquw97ssc0FH2zUH7ukE7W2A57Dl7nx2ciuVGuxK2oj9cdC3nmagWvepTz56BWfnytgEcMw3j2fAKmBVP80buJ98M6OBrehGPpMO5lanwrNWTI5sjunCahXkm2dJT4mi4yW9UkN2oJKx8mpnWayNZ5jCKasU7pwCa5CcuEVnzq54isneTr8AZMYzpwLJ3CLKGTC6lybHMHOBDZzaGYXo4m9vFxaCsfxyv5+dUS9AyDeT+4FYMEGcei2vlrkpxHT8eiYxjIbpNAdE0CERsFo28ezi6zECSmweidiGLX6Th0LKL54eU8JMahPGEZxZ6TEYjNI3nsfBJXitUE140RXD+Oe9kgzvkqXAsGcS8a5mq+ktDaMQIr1XwW080+xxKeca7mOedK9C3i0LeKY49ZJIaFWsTGvuy6ls+j9sX8NqiNv0U0ENy+xvXyGXzqV7hWOs3JNDm22T0ktWqpVCwTUqXFKVvJ0fBmjka3czlHRUj1JBdzlBjGy/iDRwWfR3Zik67AKUtBzihYJHRzJLGHY4lyfJpmcMqRcb1IhXV6Lz7VM1xNkXItu5PY3lXcCwdwKVBQOvEAr9IBQhumcM7v5WJ+H1fKxzgWVoNjXhfp3VoSWrRYRtXiVyVHcxfqptYJKhsivn0Jm+R2rhaqCKjSkN2zvBNYpNg2iZM+fMG15M5Lfo3LL56PHf6VY0L7x0HVKcaxlV6eBa1GWZ1Df+ufXX59amnpR0JWXyAQCAQCgUDwD+d7wZDdKysrj42t3Xu5eWDs15FlTZ87pVaeOHQjPuh3Nt45PzFz737mmOvo7oPXVh/55vqG7hHXh3tt0rdFFjGIvnJE9MEZ9P5mxRsXo3jka0dEX15jl1kYYsNAPo5p4XWHbD6P6CSiegKP0mH+O2OUR2wz+YVzGceSR3kvUcleg1CevpTMvwXU8Wuvev4aKsU0SY51mgyXgn7ciwZxKxvHNKqZkwlSnHJ7KR55QHrXKiFV4wQ3aLhRJiewTEXfyjbTQFDFGG55gwTUjONZNcSFktQr0gAAIABJREFUlBYCm7TYZ3QS3jxKSPscR6PbORArwzxJxddJ/fzKu4p3Irr5xfVynjK+gUe1ljNZ3ZzLHMAwf4onz2UhMfBHz9AXHeMAxEbBSIyD0THwR3TMF4lpKBLzCMQmoew7ncDz9rnss/w2JCIxj+Jpu0yulo7iW6nGs2wI1xIVbkUq/CvH8SkfIaB+iuAqNcFVaowLxnjyaimv+DTz34Xz6FrGo38mGR2DYN72recl+0xEVpHsuZDJLwNkvHwxm8+DajCIbuNochN/dknBPn+Iy5n9OGYpcCrox6VqkDOZnZxIbOVKppTIOhWJXbNYJcs5FiPlQJyMQ7GdnM3ox7d+nsNhjRyN6eBYohyzlF6c8lTEd65xJaMP23Q5LkX9lI89wDl/kOsl47iUaHApHMKnfATnzG5CK8aIql/gYlYfX/oX8WlIPYejZdikybFL7eZygZKzcfXE1GhI7V7Cp0xFkWyOyc0typQ3CS5XENWg3gmoUT80Su25/6RD3upzblXaVy6ndL/lmlZxKL4l6EJ2q11Mfd/n5X0Tv1d9l9X/LgyiKwxnAoFAIBAIBIJ/KN9fddSurz+tGpt9uUyq+F10hfSzS9F5tofcYgJ+a+1T9pq5m+zZb65M7f7sworkC7t7e0/FPnz6ctaO5GunHclHNojfP4neByfQe/8Eel/Yo2cYwE99mthtncI/2WVhlKzCN1+JU34/j52I4UzdCo9bhPFOYCvi44G8bJOM+IAL+mdjePF6KR9GKtgf3sS59F7sshScT+/lfJ6SUykdFE8+oGjkNh45cvxqx3ArUxJcPoJnsQbb8gkOhddhm9GJY1YXTgXDmMV1cyalF7s0BcYJnRyLbsUytZtXLsTyblAHxklSzmcM87uIDp68VsBfQrv4c3gHPh1aCnpXcSzuwTqtiw9DunniUhGiQzcQH/FEdMwLkUEg+ubhSI77ssskCB3jIERGQeiYhKBnEYGueTg/cchDxzwEfYsIfnAxBYfCQTxKlLgWj+BcpMK/UkN04yRxrVN4VQzjWqDgRomKL5L7ecalitcCpDxlm8Me+zxE59PYcz4D3TPx7DYKQXQsGPGpJH7l28CJ0hn2J3TxO89qLDNGOJk5xLFoKbYFaqziWrFN7eBaUR92Wb1ENs/SMnWX+vE7XMvq4ErpFOcy+nEoHORibj+nUnuxTFbwTVwPxqn9WKb3YVc0wvlUOedT5VgkyzFNluJco8a9aoTTyR0cj2rCNLUDq3QZp1KlXC0ewq9Oy8nYBq7k91A4cIuLWQq+CGvifZ9yzmb24VQ4RLLiLuH1cwTXTuGa24tXqQq/+klcSocIrR/fyZTf3PLI67/3cUjLrR97Vk294ls38PaNorJPIytj7Uv7bUPr+46UKcZ/1zGqfVWr1T4trDYKBAKBQCAQCP5hfS8Yore0tPSoZn7+By29yl/mtfX9p29mtfGZ8OwrHzqEp7xp5VX90pGrg/s+Pzej+8WFdX3z4PvPO+Vvifbb74g/OY/eAWdEH5xB8sFJfmjqg+SoN7/wa+PlK5W8dD6F/TEyHNJlXMrr49nTMfyHXwV7zQJ49Wo+LzhkofO1M7sOOqNvEcEvfBr5PEbJwbgOjOM7OJc3zKWiUS5my7lR0ktMywgO2Z1cLxnFqXyUs+ntOOf2c6N8mg98KziZKOVG6TBXi4Ywiuvkz751/C1CinXuBAdjOvkkpJ2vM8b58aUsPg1u4kxKBxeyB3nyYgo/cS3ly/BuPkno4lymHMfMHmxze7FIlvNmUAt77fIQHfFCdPQGeyxDecI6AYlxEJJjPugY+LHLPAyRYSD6lpHomIUhMQ3lEZNgnj0fj55pIM/ZJnC9chSPskGuFahwLlISVKUhpmGcqAY1HqUqnLK6uZQm44+BLex1KufHHo3onk5i77VCRBcy0LPLQWKbhuioP3rHAhGZR/LS1QI+iZDi2HmHn9pl8B8RrfwlspXj2YOYZauwye7HuXSUS5kqTsd14FSk4nRaJ2ZpcgwSZNiVTHA6WUb+2A4+tROcyxngRMYAh2N7MU3pwzpbiU22ApusPk4kyTiZ0odFfBdOucNcz1SSrVgntm2OE5GN2Gf24VM1iWNmL/YZXVxOl2OV3M2xhHZOZPVyNlfF+z6VnCmawD5fyYm4Oi5mtXMxtYlE2SoBVePcKNHgVqzeOR1Vs+WYK39gk9W1/hu30sUX3UoG3w5rbf04pDLFPKPNy7dOaZwqVX3UqZ78pVqrfXFoaenR745SC6uNAoFAIBAIBIJ/TP8zpKnV6l1DS0uP9g5Pv9CkVP8itbrjA5+cGgOL4HT3jxxC4//V1LXxpW9s+/d9eX5e19D71uPWcZuiL+22JJ9e2BEfcN4Rf3EJvc/tkHzpwBMno/ihYxH/4tvOn6M7ee1aLueLBrEuUPLDi2noWoWjbxrIb7xqeOZs0rcZ+q+dER/y4pcBjRxOU2OQ3MeBeCkGiV0ciZVyIkmGY04PF7IVHExW8ufQLr5OUGCdN4h18Qgmye341ozTeXMT7+o+DGM6cSyexK12lk8C6zgW38WBoGoORbfxjncNnwbWkj92n+iuVQyjGvkiQcqR+G5skns5m63APn+EE1kDGMT18E18P896VaB/Jok9FiGIjt7gt2FNPHMhBdFxXyQGPoiNAtAzD0ds8u2ao55FJCLjEPSOB6BjEsBzdhk8ZZvM6Vwldnm9uBYpcS0aIKZhgqjqEWKbxolp0RJarSawbpI/R8rYe72Kl/za0LFNRnwyDl2bdHQu5rDLNpNHTsax+/ANJAZ+POZUwi/9WvgoXMp7YS0cjpFjnD7IO56l/HdEC99EtGMa1YVhYg+H4mT8LbSJf/er4V/8GnjFuZTPoqScLhjhTLKM04lSzhWq+SK0EdPkXgzjOrFI6uJ0uhzrDAWn0uUYJnZimijletkkl7NUXErrwLtqkISBTc4md2CdqeBCrpLTaXJOZXRjndFFouIuDpkKrharsM3pwSZbwYVsJUGy23i2zRPUME1ozSgBFQNEN2t2shTL27UTm5vBFao7XtWT88cyVerfBNc0fpoozT6V3unuUd13Kqd7/INmzexbw9PLL9y8efPJ74YzYbVRIBAIBAKBQPCP67sB7f9ddRzUap+Wq8ZeruxS/Daxpu0T+4Qim+PeCd5/tvbK/5XhlZZnv7Yd3WPgvbDHMmxD9NnFTZ2PbbZFn57b2fXVJXbtt2PXIVf2WITz68huHnMs5Gc3SngvQYFJqgLzrH6evZjB0/aFPHM5i8fOJPL8pTxEh73Z9c0NRAfc+LFXGd+kDmOU3Mfnce18E9PBu77VGCYO4Fw2jX2ekiPJcj5J6eXzWCkWKXJOZKr4IqiW81lyzqV1cy53iCMxbVild+NSocGvcZ6jSZ1YJMq4UDiEVU4/p1N6OJ0ixzK2ngs5Cs6k92KXo8KzYhSvkkEu5yoxTJJxILqXzyL7edQpH13TWMTHvRAdcEbPNACRgT8iAz90jPwQGQciNgtDZBaO2CwCiUkEItMw9phHIbEIR2IRzYtu5eyPkWKZKsOrYpjQpkmi6jVE14wS0zhJYquWlOYJ4tpm+ZVrMbuvl/KEUykim1h0zaPYfTIFvfPZ6FjEoW8SgZ5xCLssYthzOYc3w9r4PLKL/4qS80ZIO2/5N2GYOcKx2C6CZXdwKBzmaJyUD4ObORCv4ouwTgwLJngrsIU33cs5mDKAUbwci6QePg9p4ut4Ocfi2jga3YJVWg8Xcge5XjqGTUo3VindWKdLuZAh5VLOALZp/dhl9HIysR3P+jmsU/sxjZRiEinlTHIfF7J6uZwp51RSD0YxXbhXTnM+uwfT1D6Oxik4GN/DuQwlftUj+NSO7pxLatv2Lht66JHdvuFbKFv1qhoc/Ty8Sf5uZEO+WaEy/HrpgE14q+abOuX0bztGta8O/h+rjcKAJhAIBAKBQCD4h/a9VUddYO/09PRT/eqpn1bJ+9+OKm3afz2l9OQR99jA/7LxzPyZsYv0x+b+w08dc1vS+eTsus4HVg/0Pj69Jfn03I7oy0uIDXwQGYXwrEMRf4no5WDeJC9cLeOPcb38JrAB0bEQ3okf5innKp66VMDLntXoWCfzyMlEJOahPHoln1/4NfHbgCbeD2/HKKWfg+GtnMxTY5wqw61sHOe6BV5yKuerBDmX8oaxTBogrmuNk+kyvoiVY5k/jnFiN0ej29gf2srn4Z0ci5ZxJqMX+9wu3IqVeJSNczlbhWnOMIfjZFzJHySgVI1PuYarpRq+iGjjs6QBfuzZyHNerew6l4LEwIddJ6IQH/NBdMiLPSdikJiFITENRmwUjMg0DN3TsUisohCbhKBjFoLIIgxd0zB0LcMQnUrAtGQGu9x+4tpmSWhbwDF/gBNp3ZhkD2GVPcLp7GEs8ifY7ZTHc57NPG5fxi6bbHStMxCfikdiFIDOcW/0zMORWIQiNg7mBbcSPo3v5evYHt7yruS3YZ38JrCNv4a0Y5A2gHFyD4djZRyM6+YvPpV8nSTnw+AWPolo573wBr6I6sIwrpvzmX1YJsuwSOzkQmYvYVX91Ezv4Jjdi1/TAs5lapzy+0loX8ajbITzuX1YpsqwTO7lWEQbX4U3cSKlF/usPqKkS7gWD2KTLOVyVh/n0nowju3AOm+QM8ldOBcNEjvykL+45RPYvUaK8i4nkrp3zJK7ty0S2x9cyu3Z8MiTLrlmtU1cSpNKz+apSoxS2gOvVY9eSpBN7C9RTr3TNbXw07GxheeAvUK1USAQCAQCgUDwf5XvrzoqYZ9qYuL5jsHRV3Mbev8SWtx48FxkjsNht8iQN0/7lr92JqTzB8ddJvd+arOk996Ju5L3LB+IPjyzLfrCbkdyzAsd0zDEFnG87NXErwO7eNqxjF0O2bzgUcov/Rt4KaiOx1zK0T+ZxpvRPeyyzUBiFYu+TQJ77bOQmEfwm8AG3glt449eFRyIbud4dCdfRTZiEC/FJKWft13Lsc7uxz6njwMRLXjWT3EyScYX0d18HNyEVXo/pzP6OBLZyoHwVi5kKLmQqeB8tpzz2b2YRzcT0nmLD9wLsUzrwbVoiLCqMbwrNFzMH+TJC3H8S3gL+pfy2OVQhNg4FN2jnvzoSg4SAx9EBr78xLkYkVkoIpMg9ExDvh3KTkShYxmByDgIHdNAxCZB6BgEITEOZLdNCodT+vGs1BDboiWkUYtFag9/cC/nlUv5vORQzLNXi3nOrRLRtUoed2lE1z4f0flM9l7KRWQZjY5RADoGfoi+C5Lom0bwE/dKPolW8GVoBx+GS/lDSDPvxnSzP1rB8dheLNL6OJrUjV3xKNdrpzFLbMM0XopZSjcm6V1YJHZwNrWLa6Wj2KR141M6QHH/CtLlHWJaJvEqV2Od1M7p2Ebss7twzOvlTHI734RVY5jYzrGETowTZZzJkGMS0YBdtoLLuX04FAxxPqOXCOkqnlVTOJSMcjJVhl2mHI+iQS6kdWOZ1oNT2TBWsTU7R2Oatg9H1D08HlJ+93px/8102fxkbtdCf3zzTLl73WTCuRyZg3+j2rhkQPsX6djCv6omlp5fXeXx71YbhYPUAoFAIBAIBIL/u3wvva+vVqsf02jmf9DYP/J6mWzgj0GF9UcuRmef/8wlLuI/L0fk/9TYuesHX57TPPbx6eU9H566LfnI+oH4c7stXQPfnT0novmpdwOSi+k871LH78OkPH8hiU+iu8gahwOJPTx+Lp3fJY3wolctz7mV8axDPiLzSB5zyEJ83I99pyL497B2fu9fj1HWIPYlWkwSu9gfXs/pnCHMItsoGtnCpUSJcaIMi9hmfBuWOBDfyxfhUiyTujmf8e2Xn/MZPTjlDWCTreRE0Ti/v5qNVboc+yIVEdJlyuchpEZDTP04bmUjnMke4Dmncl7xakTXJh3989nomUfyQXwPr1zLQee4F3vMgpGYBiMyCkRs5o/EKBA9s1Akpt/eRJOYBCA28v52JfKoL2IDf/QtYvgmTsqNskGC6qa4lCrjUu4Al4oGuVo2jFX+AO+ENfGvnjU841zLq94yfnCtlD2Xc/lj6jD7ziUhMQxm36l4RKdiEVlGsvtCBs971fHjK8V8GqfgvfB2voiV82WKivcTVbzlXc3h+G7Mk3qwTm7HtXiAkFo1qb23CGiY4VrRIJ4VKvxrRnEuVHG9UEXp8AbptUrccjrwLOrDs0SFZ+kQOYObhNRPENqoxa1QhWvhCB5lE1zMHOBqwTBpijt4Vo7jUKjCKqkV25wB7HJURMvWuFY4iF1uP1eKv733djW7h4u5vThVjBIpXd5xz1NsO2b3P4hsnL/rlNq17Faomgqrn+yKaR+v8q3sjYhsH78W1TJ0pHRk4b3uidnX1dqVF9UrK499l9QXhjOBQCAQCAQCwf+dvlsT05ment6zurr6eL9m5setKs2vMus6PgjIqz5uGZzpvN89PupNc5fqnx62637qU+upvR+eWtb77/N39b668kDfOHD7SeuUnSdsMnjaLpdHrlXwgmsxv4uS8oxtEmfrJnjPvZSfXCnhOddq/jlMxvOupTx/tRiRWRR6Z5N41a0MyXEffhPcylvXyzDMGMK2aJSrJaNcL9HgXKzGuVDNlWw5lwoGuJA7zPnkbi4XqvhbYCOfhbVxNnOAk/HteJSrcS8b4UrJMOZZ/fzJtwarwglOxHdwrVSDV6kS59xuPAvkRNaM4Fam5mRmHy95trHXrgCd89noXSrgUbs8XnDMZ/cxTyQHnNEz9EdsFMxuq8j/h737jorqwPvHP1RrjDGbnuxm8ySbbJLN7qbsphiDURONJcYWe8cKiIqKDaWIAqKAKFJEQKRK7733PvQZGMpQZhiG6XPn1vf3j5j9+uSX57fZ55vs7vf73Nc59x84597L4f5x3+dTLsx2+kKw4zqm7Q+GYPcNmO+5AcGuaxDs8ILlTh8ItnrDbIcvLPcGYXdCBy7l9MIzvReuie3wzOzCteI+BFf0waegDw7xndgd0YlnLmTiDwEN+DKoGS975mN+TBceOxoBK9tgzHCIhsA+HNOOROOp85lYENGND3zKsCa4CRvvtuObu22wCWnCbKdYzD12D3uSRdgd3oRTSZ04Hd+MszG1uJLdh5OxrXBNFeFsajs80ttxo3gIF9O7cSy6Eadj2nA9txv3Gifhnd6OoJIB3CqWwCerHW4ZrfAp7IN3vgRumT1wz+3D6QfNcHsghEtyB86mdcG/Rg7X9G6cS2yHZ24/TicI4ZotwZHYRlzOGYBnlhgH7pZib2gxdymtg/VN76Yvp3YZTyXUq52SmoZXesZ13iiRFMTUjsYkVg+73a0SH3rQOvxl5bDi/fZR5UsjIyNPSqXSGQCs+NZGHo/H4/F4PN7/sx5dGiIWi6cNDAzM7Rkefr62veedjJp2G9+kop2ngh84r3HxD1twxDPt1R0uTc9vPtM3Z8O5yZnbLunMt/uScxyimFmHorg5dnHcYxez8eK1Ksw4HINnnNPxrGc2ZrrEwuxQBB4/n4m/hLbhJddcWDhEw/JoPB6/kI25x+NgvskLvz4Vi813O7A9qhlH4ptxOrYVp5K7cCpJCMeYRjglCrHrbhO+vlmNdXcasSO6AcsCy7EuvBGH4ztxMKoertl9uJjeA8e4ZuyIqMMfjoXgdLIQ17O64ZUlwpXMTvgWiBFU0o+gwl54ZolwILoZz3kX4DG3DAhOJ8PsXCYsnB5gmkMUBMtPQrD8FKbtvQnBrkDMORIFs13+sDgQDMGeQFjY3oKV7S2Y77oO8x0+EGy5DMGWS5h3OBDTbW9hxZ0GnMvtx9UcCdyTu3A8pRvLA0vwqX853vcuxhd+NdgS3o3HzsThVd9C2KZK8bJbPh53joOZrR/M7cJh4RADs4OhMHeIwuxzKVh1pw3fRrZgeVAVPvQuwjMX02C+PwTzDt3B2rAmHI5vhe29WhyOF+JovBAO91vglNaHXWHVcEnqhm/ZCIKrxnEtX4zDEVU4cK8ZDjHt8MpoR0j5IO6UDSKoQITAAhGu53bjft0EQirG4JnZjXMJTbia3Qvf7F64p3TAr3AEHhk9cEsTwiWxARcSm+GZ1YOLyUKcTmiEe2YX3FPa4Z0hgle2mPPM7GZvV8pI3/x+w4nY2km3jPbh27Xypiu5XQUR1f1h6e0yjyzh+M6MrvGvyiXyd7rHVS8PDGDuw7kzfikIj8fj8Xg8Hu//fY8uDWkEZqrV6ifaegZ/W9Eh+WNkYd0Kn+SCXQcD7l1a43477M/2PgWv7vVomrfVdWjWNg+F5S5/wyy7u+RbPiXMn7zzuTWpYsxyisX0Q3dhtt0fr/hUwNoxGlZ2MbA6mYh3Amrwh6uVmHM2AzPOpGHGhRw8654PwVYffBxQghX+ZdgV1YCTcU24kNKLr8OqsCWqCXvvVsIpoQ1bQxphE9KIl71ysTW2C5uiWrHUvwQH4jphFy+EQ2wzLuYO4lhUA85n9ME5oRF1SqBQrMP1PBFcklpxKacHN0sHcLuoH1dy++EQK8TKkAZ8EliFx86mY7pLLmacToNgXzAs1rpAsOo05h2/B4HtbZjvD4JgbwBmn7gP84OhsNgfDEvbIJjv8oPZVh9Y77gG6x1emLfHC2YbruBtl3TYJ3fjSnYvvHPFOBjfgs8Dy/D0+Qy86VuCdXcbcChBhHcuZeDj65X4KrwDs48lwcLuDgR7r8HMMQq/cs+HmW0QBPuCYX0iFjsi2rAzvBbLA0thc6sOs4/HwGzPLSwJqoJ9Uieu5IoR2aSGQ0ILDkXWwTGxG+uCyuGcKcKVrF4ElogQUibB9UIJnOIa4JYuREhZPwJL+nGrUITggh5ElA8gomoU17J74JfZi6t5/XBKbMXx+GbcrBiDb3YvvLI64Z7cAf/CIfjkiOCR0YVLmd3wLxIjsmECrkkN8M0TwTutHd6ZPZx9VBVzJKqc8kzvNpyIqFZ5ZnYM+eV2d9zIEhYkNo3H5rePXCoXyewr+qdWlIhlH7bJ1L8Vj+ue4peC8Hg8Ho/H4/H+x3n0I9YApkul0nnikZEXq1pEf0oua/r8enz27lPBD5w3eEWELnT2T31lv0/DS/bBvY/tui5fdC1Xc+Beo2lFcB092y6M/SSwiTOzi8DcfXfxknsaXjqTCuvjiZjmnIgP/Gvx/o0GPHYhG09eLsKfIjsw73wmpm0LxPKAPLiltuBMbAUyBgg45Q/jxQs5+J1PEY7H98DhfiMcEzrx+uUczD6Rgr/cqMaK4EasDanHvvuNsHvQgbdOx+LPV/LgkdGJyEYlrma1I6i4D0FFEgSVDeF8ohCnE5txPqkZfgV98MrsgntaO27m9sG7TIovblXhObc8TDuXDvPdt2Gx/RIE27zwpm8FzPYEwXyHN8y3X4Jg61WYbfeF+e7rMNvhBbPN7rDa5A6rje6YsfMKpm+6APOvT+FZu9vYltgDn/whXCsehmt2DxziW7Apoh5b7zXgdIoIR5MG8NmNcqwPq8V8v0a8cK4Q5icTYGV3D7NOZ8LqxANY7vSDme0tmDnEYvP9JmSNsSjs1yGvn8ATO3zwhusDOCZ2IyB/CF55vTiZIMSeO404m9YPlxQhPNKEcE1pw9X8fpyIb8al7F7cLBQjoWEcBSIdokp7cS1fjFulg7hZKEZwiQQRlSO4mS/C6eR27H/QgdVBZXBK7oFzXDPOJbbgemE/rmR2wydHhBslozgb2wz3ZCEiakfhWzQMz7RuuMXWcBEVQ+yVrG5mW2CB6cyDTr1LYpP8albngE9Wd0NM/Wh+Uv1gaF6nzKNWPLG7tV+xQjSi+tOQWv1Kp1Qzr+27dfp8WyOPx+PxeDwe73+eR5aGWLXJZLM6pdJ5wqGhV8paxX+OK6xb4Z9ctGv/rUT3zf4JwX90vJH7+rHbdfN2eks23a2SHXvQqjuQ1EEsDi5kVgfXsRYOd7hXXJLxZXgV5hy4iTlHImB9JBxvXMzCJ0HNePZyEZ52ycK8i2mY45yEd85nIk5MorCXRGCxBBcy2/CNfz6+uNmEP/vk42RCLy6k9uBMWi8+CqyEuUM8fuWSjq9uN2BjeBPO5wzBr1qLNdeKsTuqHa7ZEjjdr0dIjQxBRf2IrBxCTN0obuaLcLWgD6eTO+AU0wy/vD4E5PfiZmE//EsGsD9aiEXBLZh1NhVmtsEQbLsCs53XMdcpFoJdNyDY5g3LHT4QbPKEYKMnrHdehfVmD1isOQfzVc549vBNTN92CZZrT0Ow1BGP7fDFmshmuGUP4FxqD5yTOnAqrQeH4oU4ECvE1zfL8YdrZXjCNRfLQ+qxKbIJ7wVUwurkXVgfuok5pxNgefgOZtvfhvWxu7A+k4p5p9Px+vkUpHXKUTWix+aQWuyKFWFbaCOOxLTgTLYIWyLrsPRKOq4Uj8E/bwDRdZO4VtAP95we2MU041RCC0JLxLhfOYiQIjFuF0lwJaUV3mmt8M9uR0BOB26XSOCX2w37qDrsj2vFjru1OBbfimNR9XBObEVAUT+u5vTCNakFFxJbcDauBV6ZXQgrFuPU3Qr45fRxATk9nHd6OxNSKycdwyt1l9LaJ0PLBiQ38zrawsvEuYn1Q9E5whH33FaJXevQ1AqxXPvRkFr9ikQuf6ZNJpvFb2zk8Xg8Ho/H4/2P9mglTSqVzuiUSue1iUdeLGkR/SmtsnXhtbSyHSfuZzttuRZ/c6lHVMIfjt+qsrmS1PGqre+oS1rHlFdKozGunSQ/9i9m51/J4vZE1nLmu69i2q5r+LVLEj65WoRV0Z341eV8POmWg99HCDHHIxsLgmqx904lrqR340JKN3wqxmB/vwmb7tRhd1w7Dkc1wCmmAa7JQmy+W48/XivHUyfjsCS0Fh965+Er/xLsCK/DudQeuGWI4JLZhyORdbgQV4vbBb2IqZQgtXEE/jlduJLdDefkdpx50I7QUilCi/twPrEO13O64JE1hG2xvZjueA8au4odAAAgAElEQVQzj9+D5Y5rEGz2wvT9N/C4QwgEm71gsc0HFt+6w2qDO6zWucBqzTlYfHkUT264CKt1Z2Gx/hwsV52ExXInzNzijZXhTdgZXoc1/kXYfacOdvdbceJBB86k98H5QTc2Rjbj8dOpWBbahD0RbfjrtXzclzC420rC8qAfzI6EYlOuDAK7UMx0ScFzLrl47WIhvPJ78NWlWByIb4NnySSWXsnA9uACeD9owIW4KnjkS3Difj1cYxtxI0eMG8USnE6oxcW0TpyNb8Dt0gEEFfTiRr4IN4sGEV4iQWaXHpHlEkSUS5DUocONgj5cSu/F5dw+uKa0wj9fhMtZvXDLFOFyege8s3vhnS/BlbwBnIpvRkjtBCpHWS68bJCLb1Ky92rGadfkFqN/kVgTXtY3mtYyKY6rElfFlndmZrUM3yzrHb9Q0zuyQzg49dXAxHeVM6lUM0/2vytnfDjj8Xg8Ho/H4/3P9mOVtO9m0nr/GFPRtNQ3rXyr/e2Uc9v8EwNW38xNne+VVv7rAzd7FpwOlZZ0UaqAaplh/d0myiFJwrhUTHICuxDOaocfzHYGYpFfGb6OaMK0symwOPUAj7sXYo5rPt72ycfKwDyczRRhb2QTNkc2YHtoDfbEtcD2fisOx7XgVGIr4lp0uJghwje3SuCQKsLqO7X49Hox1ke0YNe9JlzK78OZB01wTWrC1Qwhbua0I6Z6AMn1wygWaXEsqg5nk1rhltIMvywhYmvHcSuvF7eqpLhRPADH1F68510Age0tzLQPh9WmyxCsOQvzzRcxa48XLDe4Y+7eAFisuwDLb87DbNUJmK8+gd/a+2P6mlMQrHKC1drTsF55ApZLj0Kw+jw+8S3ExtBqbAmtwfFkEU4+6MGx2DZczu9DUMkQTmUM4tkTqVgX1oR7HQYs9C+EVxUB24hmzHa8i+nH7uO3lwow69hdPHUhBUvDmrHqdgPccvtwKLoe26NqcTS5F+uDS+FRIMKgHhinAM+0dpyNq4NHShtCK0cQVNKPqxlChJX0ILJaCtfkNgSWSBFZKUViwwhiakYRXT6I1GY5EhtGEFE1DL+cLoSVDiG1Q497FX24X9WPoLIBeKS1I6B0GGcSmuEY3QDnB+1wTmiBW0YHIutlXFBBLxtc2EMFF/UQJyPyVGndallYnrAnIr+9vqBTlprfLgmr75s81zowtb9vQrNUpqH+KlMTv5XJdE/L+MoZj8fj8Xg8Ho/3n/2wkqZWq5/o6Rl+vqqr7+2Mxs75YXm1Gz0Siuw2+KVc3Xu/IfKPJ+4U/eZoQGNAlXLgN6f85OczxVq7u3XEB94p9Mzj99hf29/hnjoWi/UhNTiWM4THnNPwrFc5XvSsxWNOmVgZ2YWd95pxIrYFB2KFeM0vH5vuteNkghCnkjuxLawEp+Ob4JXZiaAyKS5ld6BylMPJ2DbsCW3CyQcSuD7owq28boSWDiK1aQTNEywKOicRkd+GuCoJ4muG4RRRA5/sHjxokiKvU4HkZiVuFg3ialozPFNasTq6AbOOR8Fsmx+mbfOC+TdnYb3+HK6KWMzbeRnmXzvDYs05WH17AbPWu2DaGmc8f/AqBF8fg9U3J2C+4igEXzlg2jI7WH9xCIJljnjz7H04pfXiTFovXNNFcE7qxIaAYmwKLsPO+GYsi6iFV4sJAZlCOKZUY/rZSLzimYN3/EogsLsHa+cMvOpajP+4VI63A1rhW9iLB+0KXMwdwtWCfqzzK4B9ogS299pxIUMM74w2XM5qx6WkDtypkiG0vA+3i7oQXNiNmKoR5LbLEFs3gnPxTfDOESGkSITIonZEVo3gblk/ikVaJNUNfRfSyiWIruhHVGEniromUSqeQkhRJzwfNCKwfAwPxBxO3G/A5cxu+OeLOP/cbjaiUkI/aBojLydUayvH6cn71aKB3Lah9qLWwaI68USCREVfnWLZU8NTuo1DcvVi2dTU22Mq1W/UwBN85YzH4/F4PB6Px/svPFpJw8Ptjv39U78uFw+9mds6uDCypG3d6bjiYx7pjZcPhWbFLL2emuuY3NvyyqnAvtIuYiI4v0+z/k4p8erpSOpag4x91z2D867T4vD9FrzoXoC5l/LwmFsJXvCpwrKIFhyIbIRPRjfOZIgw51w81oW3wT1LhCuZPfCrGEJI2ShOxNbCM0+Ez8/fQq2SxbF7VTge3w63zH7cLuxHZFEnIsslSG2RI6FmEHntE8hoGsH9MjEyWidxv1SE1JZxZHWpkNgwjoDsHlxIaEJkaS8yO/RYHlwBK9tbsN50BWarnWC59hys1p7H607hMP/6NH5/OgrTNrli7t6rmLXZFb9zvAWrr51g/pUjzL9ygGDpYQiWHIDF57awWrwfgq8c8MbJO3DLH4RntggeKUKcftCONTfLsDawHBujWvFhQCmuNCgRWzMEx6x+zDh2Hx+GtOA3njl41qUAj7nlY/7tRnx4rRYL/GvQquOQ3m/Af9hFwiVrAKcTWuGYIIRn1jD8sgdxKbcXjomt2BVYiAc9FO7kd6BxhELpgAkBuR3wzWhDTKMcvhlt8M1oQ3j1KC6ntMAzpQV3KweRWCtBYrUYcZV9iK+TIk+kQVLtENKbRnC/shchhV24kdUBx7AiXC+Q4FRkBa5ndnCJdSNsct0gndsqJfKFY7p7lcMTYcUDQ8m1gy0tw6rSAZkuRjKuC9Cz7DGCYbYTBLFQZTD8eWoKvwbwq0e2NfLhjMfj8Xg8Ho/H+zGPruAXi8XTpqamHpfI5c809Iy+XtjS/8G9suZV94qadrVIDRdzW6SB60LLUw9F1JZ1KKiuioHJociCfmVAvkR3PkZo2hzXRa8MzGQd79Vxr17KxvsxQsxzK8a0i1n4zK8IBxLbcLNCgXPpA1jklYljD3rhldWPiw9a4JcrwvXsXlzNl8C3sA/ZIwwCywbhndKOwIJheKX3ILZZidj6YYSV9SC2cgB5QhmKhSOolaiR0zqOgs4JlPZOoahDgds5InindCKxXoo6iQJDGgqRLVOYtu0qzLZegdU6F5gtd4b5+guw2nUNZlt8YbXpKhb4ZuOJPZ6w2uKO5+yCYbXqBMw+3wuLLw9CsPgALJYfhfW6M7BcehgWC20hWHII07ddwt7odrgkd+FiZi8uZPXDMaUDJx50wT6hDxvD2jHXKRquhZ3YGV6Ld11z8Il/Fb6+UYgzuWJY2gbhTwFF+PpOMw5FV+FiTi/+4paFg+ltiBPK8aBehqhSEXJaZUisHsStwj5czRHBJb4RiUItbheK4JfRhsCsToQXiJDUJENawzCqJHqEl/TiTrkY5aN6FHUrkFQtwYPaQcTVDuB2YQuyuieQ1TiIlGoxinqUyGwbRv2wCiXtg8gTjuFB/QhXIGHYhPpxJqN+yFQvnjJ0SDXKlHLhaEmvsisgubouubYvtXPcEK4k6IuS0cnDozLVKq2WmG8ymV43Go0vAHic/84Zj8fj8Xg8Ho/3Ez0a0qRS6QyxUjmna1DxXFOf9NUc4eBHKTWdy7rHDPvaBqfOHH1QF+SbL0nI6BqrCKvsaCvuMg4nC1UT28JqdL89epPYHttBH4gUMksC8rhZDpHcE+cKYeWcgfddMmAb14kLab04ElOLg7G1uJzfhxsZvYgoHcK96j7cyG3BzYIuBBd1wz+lAX4pjbhXJcXdilHcKuyHX4YQN3M74JfdgeSGMRR2TiKncQCVIhXKxRrkdciRVD+AdKEM4UVCFHfJINdzkKmAex2TWB6QB/NtV2G+xQ0Wa0/Aet15WOzwxrQDNzH3UDDm7LwGi1XHYL32OF60uwmLDa6wXn0SApvdsP7yECyWHob50sMwX+kI8yX7YLFgFwQLbWG18QK2hbXg6L02OKf24nCsENsi6uAQ34o99xqwOrAUG1L74JPZiCsFw/g6XIiI9gkMEMDW0GJY7A3As05R2JUgws7QGjjnjMPmShFu1alQ2KlHp5JEn5ZCj0wN4agGeW0yxFcOIKpUguSGUSTWSxGc34mEhjEk10sRXzOIvHYZirqUiKkZhntcGc5HZKF+VAuhnESRcBwZjQNIr+9HSccYGgbG0C03oFKiRXrzCOJKe9E8TKJhyMjFlnWzSTX9dFpVj0k0rtOpjaxSoWeGO4cU3RMUV9ErM2QMTFFBw5MGjzGFet+kyrhGqTV+pFTq3jQYDM8BeEIqlc7gV+nzeDwej8fj8Xj/gIch7fuWR+vOTszulGrmtQyMv9zQN/y2TE1/PqZm1qa0DDnezml1d0lrjlgfmJp+vUxat+VGYqfDvcYRh6LxyZdcEvWxrRThnlJLv30ukZ1xJp171qeC+6tbNtaG1sAusg5+xSNwim+Cd14fAnN7cbuoB2Fl/QguHcCtwl7cKe6GWM+hc4pDXJUY8TX9SKjqQ2bDMO6XiZHYpER5rwq1Eg06Ro1oGVChpnccRW1DaJXI0TaohMLAQUYAsR2T2BRWgemO0ZhxOApPHr6DXx28CcHa87Dc64fZx+7BbJsXBEsdYPH5Plh8uh1Pf3sK01efhPW6s7Bef+a7lsbFB2C9+CDMFtnCbOkBmC3aBfPPtkKwcBes15/F/vgB7A1twp6IJmwNqcPXt6uxJ7IZjiki7EnsxsqQOmR3a7DIOxXLw1uR0DWJzB4FHj9w87vtjQfvY8mNShxI64BrWgsCG/V43CUZ887HwD+1Cdn1I6jvmYB0koJCz2JcS0GiYCEaI1DdIUVeswRV/VNolGqR3jiI7OZBpNcPIrlhCHdLepHfO4kegkONWIFRFYUJPYvhSQqtPRMY1TKQqlkklbQgrlSIvNZhrqhVypYKR+nuUR05qSX1RopVqbTaEQNBiEmSrNPpiXy5UhOh1Rp9WZZyJAhiK0HTnwN4D8DLOp3uaQCzAUx/+Ezx4YzH4/F4PB6Px/tHPFJJsxCLxdPaZLJZvWNjv2ofHX1JriffmZiiP60Rj2zIbh45GNgwcWnT3bLbm0NKMq5XT5Tf79N3vn2tcPC3DncU8a0KTalkinBO66BevJzFTD8Vwy72zuQcH7TAObYBgXlS+OZKcDWzG7fzO5BQJ4Hvg0oU9lHwz2xFausYcoXDqBqYRG7TIDLrJCgVSlHTM46C5n4k1/WjtkuKVskkuoY1EIrHMCDXoF9JQqZnMaEFJJMs7teNYv7lNPz2fAJed76HNbdKcTy1Fzti2yDY4g2r/aGYfigUFhvcIPh0BwQfrMML3xyDxSc7YPXVUUz75iQs1jpDsOQgBDZ7Mf3LQ7D8yg6CpYdhvsQWlkv2wuKLgzBf5YQNkW3YEd6EI0ldOBLfhV3Rbdgb3oSD9zuxKrgG30a0IbtDjb+4RGJrah8+DcjDV6HVmHs4BmZ2MZh79A7OZPfjxP1SpE5wmH85GX/0KcKa8EZkd6tRN84gIKEcdb1KdA6o0TNKYljNQqoiMTRpwLCGhXBIjeKGXvTIjegY0yOnoQ8tI0a0jTOIL+/Bg+p+ZNeIMCDXo31QjtJmMeq6xlHfIcXAOIH+MQ03oqU5FcMxoxojLexTENIJnY5mOAXNsCMavalToTXUmWguQ08ykQaSvmSi2WMkSW6gTaYlJEm+A+AVAL9SKpVzHm5q5NsaeTwej8fj8Xi8/xOPVNK+a3kUK+coFIbn1Gr1K+Ma6oOuUfXiqFrxtrPpTY6H4xuvuqcLw88mNme/65ta9YezCd0OibWDTZIJRcOgXjNvjy8x2/YGGdVrYoYIjhXKTFx8pYjLahhC45ARZY0iTGoYqGkWErUWneNaiGRGSOQGSGQEJOME+mQm9MlJ6DhApiEgN7JQkcC4ERjWANJJCuNGDj0qDpFVg7iaWovzCZU4dr8GCW1atCk4KEwctAYaEh3gXSTGjK1XYLHZExYrnWG58ABmfLwRv99yEuYfb4XV4oMwW3Ec09aegmD1KVhucIHgi0OYttwOZsuOQLD4MASL98Psi/0w+/IwBKuOY/3demwKq8XRhFY43W+CXUwLDtxvgGvBEHYnCrHhZhHEI1q0yxiUSoHf+ZXC8mISnnXLxGvXq5EtUUNnBEqGTHjBLgL2KX3I61GgR2ZC5ySB/N5x5PRMoKpfjpZhOQo7JEir6UBD/zgGlQYoKWBAQWJCy0FPA72jGjRLFBAOKtAvJ1AuHEZDnwbZFd0QjRlRKxpDr4LA0BQLmVbPTap1rEqtZ/QkTY1N6AnZhFE3OqFSEDQ3QrNst1KtbRhXG7JlGjJGpaeuqvXkaYJhtpkYZgVFUR8AeOMHLY38MhAej8fj8Xg8Hu/n8uga/odtao/LdLqnNSbTqyNy1R9H9aYlOZ3j691yOxwTexRudxsm7qyLrkh63y+nYr5HYsvdMuFAv4Ybe8khTDXnYJj+VJbQNKbnKD3DsWK5ni1tHeAaB9Wo6B3HiJGFigMKmrpR3TOG/gkjtAQLigUmdTTkBiCjsgNdo1roWUBHAaNGoFXOIqtlAmlV/chvH4drdAmupjUgpESEhEYpmqR66CmA4wCOY0HpdWiTE/BvnYJggytm7b8Oi6WHMXPBdrzx7XFM+2wzBPO3wXLlMUzf7Aartadh8c1p2NwogvlKRwgW74HFl3awXmIPi0X7IPh8LwQ2+2D21VEcSBTBNkqI8xlieKR34VB0A7aElsEuohn7UkRYGVCIIRUBuZKAaBKYfTQKMy/l4INbxfgP12TUyTmMK2n4Vo3ghQOhSGpWoc9AoXlsAv1jatT3KVAnJdA0oMAUC1T1DqOofRQVnaOoapegvH0QqRVtqOwcgXRCD6FkEq3DKrQNyNA+oEC5cBjN/ZPoGTVArKBQKxrDqI7jZGqK05go1kCQtIliTCTHGRs6JSq5lp7QEtQAxbKdGq2uQqM3ZDEse4ekaR+WZR0phtlO0/QSiqL+YjKZXjUYDM8/sgzkb2v0/zsBbb5dkM2njiE7vz/m2wXZ/O04Ejz/wwNBL39//AKPPo/H4/F4PB6P9+/p0ZbHhxWRmQCeMBgMzym0ptcre/rfT2nuW3aztHmTV0nncbvUOo/PfZLCl1zLSvrSM7E8X0E1v+uZ0j/7RNzom2eip1rkem21UEQoSI5qH9UwpV0jbMOYkevWcVyhWI/b2UJciy1FrVgNJQUYAdSLx1AiHEJVzzhEChotQyq0DKqx50YOVp8LQ/MYhREdi45RHSrFavRPkhhQEjAwAMtxAFiw4MBygFJPw7N0EO/eqITVzqsw2+gFi0V78R87zsHy43WYZrMVgiVHMH2zF8y3XoFg1RlYrXLGrA2nIVi8G+aLbCFYZg/BF4dhsXAPpn2+G+YL98JyxQk4ZQxhf3QDjt7vgFtiN9wzenA2qQeH7zdh7b12bLiRi+rhcYxojejRcHjB+QHeOR+NNgL46EwcPvNJRVirCu55w7hbP4pOuQaicRXG1SQUOhoKPQOp3IiBUR1GlAQkcg0mNBRkKhMUGhJKI4Upgwk6ApAbGYxoaYimaPROkqjqGkNlpwxpDYPoUwGFDX1ceccg2zWsYKTjako6riYmprT6Sa12ysRxsqaOvn4tyXVo9MZyg8GUxTJsOE3TvixNH2coajfDMMtomv744ZbGlwA88XDezPrnaGm0cQy++PsvdkEgEPzd45N9vvjILviNn+Fx5/F4PB6Px+Px/v39YHmI1cOQ9rhCYXhOOKR+pVtBvVfYp1gYVdu38WpR+wGH+Eq3LbdzArYF5yccuVuQa+ObVv/KheTOt0/fH64b1cpr28VqsUyjL27uMbVJ1VRB+zgbmtPERpd0cjVDBJdW248S4QjkRhZ9oxMQy3VoG5yEWKZDz6gazeJxiORG1I5RaB4zgGBZ0BQJvZGGlgQ0JEBw31XNABYAwAEgTRT6JkxYf6cOz7gXwmKrByw3X8Fztl6YvtwB0z7eDIsPv4XlN2cw1z4Ugo3umPmtJyzXnIX5CkdYfGmH6WtPYdqa07BadRwWn++Flc1OmC20hfXKU3BK6oBzYhNOx/fALaUPLqndcEvuxpnUDiwLqUL2KJDdP4oskRr1w0a855EFz9J+9Oo4/M4+FL9zS8XW4GLcqFagWcFCqibQPTIFNQmMTGihNdJQaIyQyKagZQAdDZhIFgTJQU+y0FEMdDQgVzOoH1ajVCRHYk0fyiV6pDWOIrtZjqj8Jq5z1MRVNEuYvkkj3S+bNCnVhFFnYtQEwynURnLYSLEipYasV+vpYqVOl6A1GEJoknZjKfYoQzIbaRO9FMB7JpPpdYPB8JxGo5n3g++b/R/Pm9k4Bl98beHmnxTObI6Edv+fPuM8Ho/H4/F4PN7/dR5dxQ/AWiaTzRoA5k5OGl+YmNC82jtu+KBtRPd5ckPfxizhyP6sbvmF4KKW6xHduphFV5Izv/RMqK4Z1bepTKxEJJ0ck2voqayyFm1kZjURXdhKSqZIRtg/xsr0DCcam+KGFWpoaQZKHQETA9AcYDLR0BE01AYSk1NKEIQRYGiwDA2KBeRTesiVajAsB7AswHHgOIBmgX4th4CyAfzePRNWjvGYsdUVzx64Dsv17njzxF2YLdgNwYKdeONcDJ48EgbBl/awWumET9wT8ZytL8yWH4f5SidYfOUI8y/sIPhsN6wX74Vg0QHM+tYFwdUTuFPUh/NJHbiQKYZdZAPOJ3XhVPow/nA5E76lwwivH4JnehO65Cw+cE1CmpRDpkiD2fv9MWtfGE4ktyOkcgjDUxQ0OhJSNYMRNQOFloGWAjQkif5xOQwsIFMYoTNQoCgOJMnARLOYMHKIz2uGZIrCgIZF4+AUKrrHufzGfq51SMuK5VparqUoHcEQRprT0yw3RdO0jGIpCUWxXVNqQ7VMrsonGTbGQBBB40rNBaOJOsIwzEaTiVlmoKgPSJL8vdFofEGr1T4pk8lmPWx//VkXgSxwDPH57Uer/n/D2fwDfnhr/cXZP8f1eDwej8fj8Xi8/yv9sOXx4TKIuTKZ7mm1Wv1Kv2zqD1IV8Vn3qGKlREnseVDTfSymVe7lUSAKPhFfl3wlvrSgolXU2Dkw1qUkmOFBuUY2YaDUcoLVy6b0Ji1BUjqSZYwMxxIsx5lYjjOQNKQjMhiMBGiaAUUzIEgWBpICQXMwMIBcQ0BNcpBrSEyodNAZyYdzZ4DexEKmNuJG3Tj+eD4Os2wDINjggRd2X4LViuMQLHaE4KtjsFh9DILFtnhifyDMNlyG+TJ7CL7cD49KOb7wzYTZlwdhZrMHFksOQ2CzD4LPdmLGskMQLLPDrK0euFokRXCBGGeT22EfW4tjsQ04Ht2EvTE9+N3FdHx8IRY5IhU6Jwj0Tpgw378Ye2KE8CgewQy7UHzuXYTAomEE5XVhcMIAjdqAvjE1VCSDlLoeVPSOYVJrwrhcDZWBgVxNYmhcCbWWAE1SYFkKRgZQk4DOSMFIcpzOSHMExbJ6gmYohqOMHEcQDGdgGKgZmlGwFDnEspSIok2NNE2XabVksl5PRtA07UWz9Bm1gdijI5l1BE1/ZjBQ76rVeOXhrNnch+HsZ2lp/CGbIyF3/15Ae/yF12DjGJr4c12Tx+PxeDwej8f7p5h/JGjFz33OH5tNGwDm9slkT6vVeEWnI98iCMxv6JtYlljRsb1GStmnNI+4x1T2BTT1DsfWdfZnDsqV1QaKbqVYqp9hyRGKoidJklYr1RqDiWEJE8NSRhNBUyzHkgzLUjTL0QzHUTQHkuVAsgDJctASFCgOoCgaFEmCYACSBSiahYlmoTIykIyrseBKGqbZR8Hs2/P4zX4vWC/ZB6uvnTHvcCAsv3XDlphWTFtzBhbbfWC17yYE820h+Hgr1oTl45X9PrD6fDfMF22D2aJ9ECzcB8vFtjBbuBeCxYcwa9tlHIpugmdeP44ldmHn7UIEVg/jVvkwTqWLseW+EAcy+tGvB2paetEt08PmdjXevlKENVG9+GtADXaHVSAyvxdxdTKUjRig5QANQUNLkygYmoJ3bC6MFKBRMxifNEKuM0JpYKDSMzARNExGA2iTkaNMNKcxUqxKa2RYjqMY9rucS9GcxkCYFCq9YYwgiD6WpDo4hq5iGDqfZZlYlmWDaZp2p2nWiSCo7SRJrp7SEvMNFPVn4J8TzL5ncyTk7m8+WPZ3Wxyfeu09LDwahp/7+jwej8fj8Xg83i9m4dEw2DiGpPzc5/3hbJpUKp3Ro1A8Nq7TPWU0Gl8A8MagmnpXOCRf3CVVfSMcUu+rlqidpkwmbx3FBBtpJolhuDya5uppmm0nTKxEZyBH1HpiUmsg1CzHGViWJRiWoyiWozmOYziOYwkTxWkMJo5mvlv8odHqQRAkKIoGwIF5OHPGcRw4jgPJAVqKxYXsXvzaJQtWWy/BevVxWCw9hFnbL+OZC8l44ng05uwNgNk35/DR9ULM3OUP6y/sIJi/GTO/PQnrNc4wW3wAgs93wHzxfpgt2ocZSw/B/HNbCJbY4c3T92B7pwqH79ViV2gjtvsX41qxBBfS2rAzrBV7Eztx4kEDxnRA77ASUhWLZ/f44eUz8VgXLcKK8E7Md09EuVgLn4wWLDwXjDY1jUkti0GZFpWiMUjUFEaVJoxOEugfU0FjpGGkgUkNwSlUBKfWEixhohiCIBkNyVBagjYZKUavN1EakuUmTTQ3TlBUv8Zk6iJpuo6juGKGZh5QLHOXpmlvmqbPAtjHMMy3JhMWG43Uh1ot3iAI4jc6ne4pAI//YH3+L/ZtM5sjIbHPvvXJT1oS8tzbn2KBY4jPL3EfPB6Px+PxeDzez+aDQzeffVhdwMx5z8LGMVT3S1znR5aITAcwW6vVPqkwGJ6TTky8Jp/Sv6Oj6QWDU6av9AS1nWJZO4Ig3UwUfd1IkPdMJJNCM1wJx3B1BEF2URTbT5L0KMdxEzQDNcNyOoIgCYZlTTTDURTN0iaSZin6u8oaRbMcxQEUB7AMBcJg/C60kSQoioGJYJDapcSfLufAelcgrLdchMXiQxAst8MTh4JgsdUHVnsDYLHHF9arnYj3AusAACAASURBVCH4ZA8EH6yH4OMNMF+0D9Zfn4LlhvMw+/o4zBfuhsBmD6yXHYTZEltYb3TBrrh2eBX142RaO9wyBuGR1AeH6Fqcyx3ElsgmrA6uRGTjKCRTHEbkeoyrTfDI6YBg3Rm8fi4LC/1rsfxqKupUDPoNwOtHg/CFWwxaJRo09o5DKiehMADdQxMYU7HcmMzIESaGJRmOndIYmSmNkTKSLEnQnJFmOD1BM2qCpCdVGs2owWgaoCi2k2a5JoIwlWi0+ky9kYhiWfYmTdOuNMsepyhqO0mS39A0veDhApDXjEbjS1qt9kmlUjnn4f/0Fw9m37NxDC35qQFNIBDgpXeX8JU0Ho/H4/F4PN6/t4VHwzBj7tN/e4l9e8XBX+wl9pGQ9rclIgBmKpXKOTKZ7uk+pfKlsUnd74cU6vfUav1iksRqgmL2Go2moyRNXzJRTADDsPcZhkulabqUppk6lmU7KYrtY1huhDBRcpJiVDTDaWmGMzAsR9AMR1I0S5MUw1A0yzIsx5IUwxkII6c3EBzzsM2RYVgwNNCmYLHoWg4sdlyH2YazsFxyGIKFeyBY5gDBInvM3O6NWbbeECzcC/MPNsH8gzUQ/OUbmC3YBeulRzBt3WmYrT4Gi8/2wOxzW1h/dRiCLw9gru01rLpRiTNJvTgQXQu/0jEElMiwLqQM396pxoaQIpwvHME6tzC0TJgwMKlDz5gaad16PLHHC2+6pGPhtRKsDW3ArfJ+SFTAIrd4OEbXQSjVQaRiuNq+CW5cQ3MDag2roDhWNqJh1CRLG0iWnNIYTSqd0UDQnI6k2CmG4xQMy41QDCcxEGSHRmNopGimxEQyWSRJRWu12tskSXvQNHuKopg9DMNsIAhiEUVRH5Ik+XuCIH6r0+mefrg6f6ZYLJ728H/63/6u2T/qHw1oAoEAr372LT61v73ul743Ho/H4/F4PB7vH2bjGEoL/osX2YVHw/DxgaC3f4nr/khQs5JKpTMUCsVjIw8rahqT6VWSJP8AYL7JRH9pJMlNBEXZ6vXGUwRBehAEdYskmSitVp+u1xMFNMPVshzXSrOsiOW4AcJkGjMSxITRaFTRNK1lGMZA0zRB0zTJsixFcxxNcRxDMxzLcAzLcAzHMBxnMDHcxbQ2zmyzGyy+cYZgmSPMPtsDy4U7YLZgJwRfHITFKgcIPt4Eiw/Ww+LjTTD/eD0sFmz77vc2O2G2aBesP98LM5tdEHy6A4LP9uLXxyJgmyiBc1IPHOJbcOBeLezv1eBq7gB8c/oRWjOOuLopXCuRo2rQiIohPfxTmhBbMYTd96rhWiVDjJTD8w7x3N6QOi6xWc+dS2rlinoMbGZNO1sjVTHtI1q6b0xNiWRyckxHECYja9CaaJ1ab1JpjeSkSkeM6fSmYRNJ95IU3U5SdC3DcCUmkk7TGYkYo5G6qdUbvUiSPmkwmA6RJLPRZGJW0DT9CUVRfzaZTK9+XzH7QSvj3+bM/hnB7Hs2jiEDc198HWbm5lh4NAxPvfbeTwppb684iIfPPo/H4/F4PB6P9+/BxjFU+uf1J/7Ll1jrWY//4u1gj4Q0cwBWYrF4mkwmm6VUKufodLqnjUbjiyaT6XUAf6JpeoGJYZaRJLOZYRhbmmZP0TTtTlFMIEUxd0mSSSFpJpeimSoWaKQotoswUWKDwSBlWXacpulJhmFULMtqGYbRUyxDsBxnYhiGZBgTxbI0zXEcQ1AMe79NxppvPM+aL3fiZmx05easPMFZLdrFWX6xj7Nc7oBpa47B6ot9sPxsJwSfboPg000QzN8Ms/nbIPhkEwTzN8Lik00w/2QzzD7aCLNPd2DmrmvYnyqBX6kULsm92BVSjYPRDfAvH4J7ei9O5vbBPlWIBb6FCK0eRXy3llt2MZqrlTJcZOsUt/12ORfZpmSXe6WyTnGtrFepjLmQJ6HTm6foeomc7J7QmtRa1tg9pDI0Dmq1QwaotQQ3aTLSMpXWKDVQjISk2C4TSbfQNFfJMFyhVmtMZhg22mSibphM5BW1Vn/SZKIOGY3kJpOJWUnT9KcURb1vMplefzhj9jSAJx5Zm2/1z2pn/DHfB7SFR8Pwqf3tdQuPhuHxF177ySFt/pHg+f/se+bxeDwej8fj8f4/FtiH3Jjz3Cs/6UX2nzGz819V1ADM1mg08/R6/TMAXn4Y1t4DMJ9hmOUMw2ygKOyjKPYoSdOuJoq+SlFMKEky90maSacZJl+l0VYZjUSDTm/oUCrVvXKFcnBSqRpRabUygqAUNM2oaJbUmFhWZ+I4Q7ncQHzpnWQyW3+GNF91ivoPp0jqVftA2nzFUUaw6hgj+OYkI/j6OCtYcZQVrHBkzb86wpotPciafXmQM19ygDNfuIsz+2wLZ/nRRs7yo42c+adbOMtl9txTTve4jwNrubXhDdzaoBLOP2+c881TcC+fjGZnHIhkLe0jWSv7UPY5pwjWv7SPSW0ZZ/YEpzFxFV20V0oDdTFnnLqU0kpOsZwpunmEmLna2TDfPU7nXzSgrRUrVFN6YlJlNMomDMzotx5hg6svhYrbBqY6hiZUzQTFVNEMV8wwXDrDsvEMw4ZSFOVPkLQrzbInCYKyJQhys8Fk+kqnI2woCu+RJPmmSqV6+fuPTCuVyjn/6orZD9k4hgz88Pm0ORJSMXPesz/p2X53wynYHAkd/yffNo/H4/F4PB6P97/NPxK04vulIH/v+GDrhX/qR35/UFH724yaQqF47GFb3bM/DGomE7OMJJm1BgOxW6XS2JMkfY6maU+KYgL1euKOUq1LkE2q0qXj8qKxiamKKY2hUaHWtSn1ZI90bKp/Qqkblqs0ozIDJW+XqhTvnQ+fevzQLfVjO7y0M7e462dv9TJM2+hinLnhAjF9g4vJav1Z0vwbZ9Js9SnK/BtnyvIbZ9pi9UnabNUx2mLlMdps6UHGbMlexnL+dsb8k22MwGYPY7biODPD6T4zzTGeedUliVl9q5i5nNlLH4+op+1SJfQn3gX0F35F1JbgRup4kpB0TaomU6oGTaWSKSKrecTomtJo2BZcoT+d2KiVTrHq1B7N1OsHgya/uBwvv5LZMtY1bhoempiS6Chjj87EdUSUNDf6pBdVj0wSRSNKfbZaZ0wwEmQUxbCBJEn7kCR9jqKooxTF7CYZZqPBYFqmI4jPDAbqXZ2OfBPAywaD4flHg9kPZsz+JRWzH1p4NAwf2QW/8WM//6kh7S/bXX/0HDwej8fj8Xg83i/urfUXZ/9lu+tPrpx9ahe8+l9xnz+oqFkAsBSLxdOkUukMpVI5R6PRzHsY1n5tMpleJ0nyHZqmP6Jp+nOGYVYxDPOt1kDYGk2UA0HTZ3UE4UHRtD9BUMFGIxWtUukSZQp1llJlKhibICpG9ExtlYJrCa4fbn/LNbHneadw8fOHAwafOXht+Mm9PqOP774yPmfHlYlZWz0Us7Z4KGdv8Zh6bKuHes5WT/WMbZe1M7Z5aKdtvqibuclFP3Otk37mSnv9tEW2euvFB/WPrz6ln77GWf/YwUD903ah+qvlSr1v9qD+YnKLzim2UhdVN6G9ntOhyeqaVGe2KFW+xZIpl8JB5bm0dkX1CDFRP6AdLx0gRq9lNw/frRkeuJPdIb6e3tLjnSvquFXY2ZzTMV7fO6arGJSpizR6IstEMskkxUYTFHtHpzf5q/WmKwaCPGui2WMEw9gSDLPVZGJWmWj6CyNNf2QwUH/Wfhd4Xwbw7PcbGWUy2ayHoew/tTH+04OZjY3lfydA2RwJ7bae9fhPetb/usMDNkdCu3/Gu+bxeDwej8fj8f6+n1o5e+yZl7HgSEjQv+xGH/qRoGb1aFAD8IRer3/m4azaayRJvmUwGD4gCMw3meilWoNhNUmSWxmG2Ws0GY/qSfK0lqAv6Wn66hTDBg1omfD6IWXc7fy65G98IrNtPCIK3nGJLn/rTET1G6dCG147cbvlN8eC2n/teKvrRYdbohfsA/ueO+Q/8PxBv6Hn9l2XPrPPd+TJPV5j8/Z4jz++01P25HY3+RNrT07MXH5oYvaSnROzv9w38eSqIxNzVtpNWK06OjF7s8uES/HohHNim/x6Yb88sHRYFlA9On61bHjsTtPkSEidXLo3unloQ0TjwJv2/n3HIwpF5WNsV6OSay8cNLZki/UN2d3a6kyhqiy7U1eU3jCWVdmjSu2TEbHDE0Tk+JQhSKWj/XQE7UGS7Hm9iT1qoNgDeobZqmOYdRoTvVRFEDYag+GDKb3+HY1G86qKIH6j1+uf0Wq1TyoUisce2cj4rw1mAoFAYGNjufBoGP6rStnfs/BoGCyspv2kZ/6Tfb7/1Goxj8fj8Xg8Hu9/uJ8azv609ti/5VzOj4U1ANbfz6oBmKvVap80GAzPPaysvUaS5FsURb1P0/THahMWjxuY5UWdkvXRJfVb/Qob9nvl1DucTihx9i3pvHA0tuLKvvDyaxvDim9tCC0M/TooJ2r5rezYLwNykj6/npk23zs150PPpPz3Xe8X//lcZNk7J8Mq3z5xu/pNe/+639v7Nbx++FrTGwd9mn9n69nyuz3ura/t92z9g+ON1rcOX2t9Zc/l1tccbrT+1Sutdf6NvJYlV5NbbpZJm/0K+5tes/epf+tiTO0iv9zqZX7ZlZ/7ZZW97xZf/P7JG/k23gk5K27kpC12j0padjEkdr1nWNQOr4jQff5xt46GZ/kdvZNx+XR4pqtXctmpmzk1RyMqhPuiqlp2Jtd1rs9s7lmV2zW0uKhLsqCuZ+z9Jon0nZb+ide6B8Zf7hpUPCceH39qYGBgrkKheOyRFsZ/fSh76K31F2cvsLv5n6pcHxy6+ew/eh4bx1DFTw1pC+xuwsYxpOBn+yN4PB6Px+PxeLwfY+MY2v5TX1L/3deP/1j748NZtenff1MNwBM6ne5pg8HwvEqFl6UTE6+19Q2/XSMefDevve/jlBaxTVxD37LIKvHXt4s6Nt0qadtxr2Fo//XsTnvXnK4TLnldZx1S6t0OJFRftr1Xc21nVFXAhrDi2+v/F3v3HdbU9cYB/HXvUUer1VZF9t4zhBv23ktRcVRURBOcdbRFxV13kRGs1mpbR61tbdVqpXX9rBYVLatBUUFBEcUFKuP9/XETGjHATUBc7+d5ztPKHSf3QuB8c849J+lwql/Cr195r9q7zW3Fzu88lu/YxXyasof5JGUvb87Gn3mzN+5zidv0q+/yb3/lf5L6q2DR1/vt52/abz1z437TGRv32y3e9av10h9+tVu49Zetf5Xs++JXyU9hCfv3mn+2+XuXFbt2eqzY/p1T/JZtrou3fuW1KCV12FdHkkZuPbF+ZMrvq8cm/7Q0ZtPPC+O+PTJ3wXeHZi7anSZc9tPxCat/OTEmJS0jfOv/sgN3nc3z+CHjktPB7Cu2v+VcMz9xrVj/zPUSrXNFdwdLCksH5hUXv1tQcK+XpLS0e8Z/MzHKJv14JYIZABvOFH2gIIhNVSmkCWJTsVXr1px+/u0nJ9QAw7RtpkshhBBCCCHkWYLYVOytZthow7Rj9z4qz9hoE52gbi9KGc0XpixiROI0RiQuaK7X3xC5sPZcz5ossOWUlHTLR+x54wb2uXzz4XuSwtKB5/LvDj5fWKJ59mqp7p+S6yaHL12zOHTpEu+PK0WC/dk33X7KLvbekXEj6MvT+WFf/JE7cs2hi2NX/nZhwuJf0icv/OmUaOFPp2bM2fnnx3N2/DFXuGXfp8LUnxbEiPfET0r8fnHUht1Lx677bun49buWjd/4/bJJG3ctm7Lx+2VTUvYum5x6YFnsnr+Xxnx/con4XPHiH/MeLUo8kR+36vA/n3yy6+jcRXtPzF78w6npy389J1p24Nzklb+dn/DFofNjU34/P/LLPy+GbTpyNmjbsWzvHUfPu/30V4bjr2f+sTuS8a/ViX8LjU/kFeufv1SieeFqmZqksHRg1pWS/rk3bvQpK8N3ckpKuskCmVxPmWwmxlcilMlYRCf0sx6zpNmHIja05l/dwghTkC9MXtMc10MIIYQQQkgtuykbrdUdwjhPClJf74R9TLK/bEpzRcU+ej0aBYhwKD8E+2qYISNMUSnoNUU9PWvtpIGko3Ttrq75iD0LCu71yisufjerpKT/pTt3PswoLh7yV2GJZvqV2zr/FN41+p/khmlafrH1kbybdvvOXxHsO/Ov867/5Xp8dzLbe+dfeQHbTkmCNx/9Jzz5zwvDk46cHbX+l/+NXvvTn+PW7vlj/Lp9p6I+33cqasnekxOW/XJmwqr96RNW/XRywsqf/pqw8pf0CeuOXIhad+RC1MajWR9tPiUZuzHtXGTq7+dH7s8uGXY4ryzsq7SM4G3HsgJ2pV/1/uHsFY99Z/513ncqR/DrmRy7tKx866NZV0yP5lw2PC65qnfq0iWNC1evql28fv2DnGsl7+cVF7+bXVjYOz8fe+aUlHT7G7FzneGLz/WUvSrBDADAJiZZm8tQXEFsKqrSy8V1mG9tHYQQQgghhDQXRiROsx2/stkao/ZTU8K5NnClC2C/VHUC2zOhTb6HLROxq6S0tHt+Phvciooe9L188+Z7OSUl70sKSwdmFxUNvnC1TO38pULNv3PztU9nXtU7mV1gcOLffOOjWVdM0y5eMv/9fK5lWobE+vBZic3v5/Jsj/xz1e7IP3l2sv/+di7H7rdzOXZH/rlqd/Bctu3v57JtD5+9YpOWkW/9x7lci7SLOeaSu49MLt99aPT3pQKD05Kren/n39A+f6lQ88LVMrXs/KLBksLCgTnXSt6/fPPme5Kior6F0iAmYYd0dkXEzgp6yNq8yoGsLmUClKofAigb0hiRWNSUayKEEEIIIQQAAKQN2EaLXdQqZETiXVzOaROdoC4/cUN9Rdsl8qUHNBkFwyDlw1pbRGwv62UrKCjolFFc3OXZ0FbQq7CwsHdecfG7l2/efO/KlZL+uQW3B1zMu/7BpTt3PszOLxqccaV4yMVrN4devHZzaHpegfq5SwUaCktBgUZmwS319LwC9YuSa0MvXL2qlnOleEjW5RuD8krLP5CUlg68VlLyflZJSf/LN2++l1dc/G5hYWHvgoKCXrIwlonYVdobKB/I2ivoIXstQpk8ZT4EgCb0clFPGiGEEEIIaTFch4kBAOq6f6T09OWMSLzLLmpVg+ftp2f3yjdqGwhu8j1t7eoGOETs/DdiZ1mQyykp6ZZTUtJNUlra/c4d7FFvQWmR/ltSWtq9tLS0e05JSbecnJJumYhdpc+JdS4oKOgkratuAFPUM9a6zrW8FmGsIa9iSONNTXJvyjURQgghhJC3lCA2Fbks0PuejrVKjVsuPXM9Bmi88gGtrrohR0Fok+91qw1vsiKRSDqoUuTO0a5OCGtbp26FYexNCGR18YXJa7j2AIOqIY1h2nLpDQYAbNW6NfWkEUIIIYQQ5XHtFWjXqSsywpRjypzbIjqhnzK9DqpMh/6qUhSKFAS5ppSGzv/GBTCuXnRIq286/4bqUGXBbEIIIYQQ8hZiROISPc+oF9aY5dozJyu8mESmqdf0OmksZFHwUh4jEu+yn5xQAxx7uRiR+IGydeiFxHVtbMiurLRp14F60gghhBBCSOMYYcq3nXv1e2HhTJk1pGSFEabMb+JlEaJUgFJ1KKKyvcOqLphNCCGEEELeAvailNFcG5fWY5YovX4UIxQXGfhOVib8yQLa5ua4PkIYYcoxZXq5GKG4SNk6rCcmDraKjOdUR+de/agnjRBCCCGEPM8iOqGfaehszuGJJ0zmKXN+/pSUDcr2zAliU7HnQC1kRGJJc1wjIQDszzrXANW+Sw+VApQyM6ACqL5gNiGEEEIIeUNxbUy+86EuMqLkOGXObR+T7M/1/Gbhc9EsKrkPAMDg0XEdBbGp1MNAmh0jFBeZD5/POaQxQnG2snXwhMk8fe9JnOroMUCDfs4JIYQQQghLmfCkbENVLySuq1n4XM69CPZTU8LrnkOVCRsIaYxNTLI2115jVYci2k9JCqbFrAkhhBBCCGeMSFzQqnVrTo1HRiiuUPb8XBunXXoPoGfNSItjROIHyvRyMSLxLmXrsJ+SFKzuEMapjr4aZhTSCCGEEELeVoLYVNlC0I2GJ1Wn02/s3ACABr6TVZqMgZDmoEyA6jVYX9XZS0XUk0YIIYQQQurFEyZ6D7Lw4NxY1AuJ66rM+RmhOLt123bUGCWvBUYkrlSml4svTF6jbB18YcqigcaOnOpQdwij9wUhhBBCyNuCEYnPcZ3FTtWeMy49c6rOkEfIi8CIxKIPTF04vS8+MHVR6WeXL0xewwhTOPekSdcNJIQQQgghbzJ+TAKnxiE/JgEZkViszLl5wmTeEBtfzuHPemLi4Ga5KEKagSA2Ffvp2XH6+f3QzA0ZkVikbB2MSLyLywcYAID63pOQJskhhBBCCHlD2cUkmXN9DsbQbypafbR+oDLnZ0TiNK49c9JeBEJeOfwpKRv6aphxHoqoSi8XI0w5xvWDElUXzCaEEEIIIa84QWwqtmnXgWvPgNKNTn5MYk1j5wYAtItahYxQvL8ZLomQF4LrMF2Q9nIpu3A7ABvSuC7ebho6m0IaIYQQQsibhGvPWYeu7ygdnmxikrW5nl/TaQTaRicYN89VEfLiKBOgjIOmqTQUkRGKs7n2Oqu6YDYhhBBCCHnFMCLxQw3B8EYbgK1at1Z5UpC2HTo3en5a44m8bgSxqahML5dNTLK2snUwQnFR+y49ONVhF7UKGZH4TNOvjBBCCCGEvBSMKOUQ18bfi1zrrE27DsiIxOeafkWEtCxGKM7m+h6yioxXqZeLEYqLTENnc6pDuqj7saZfGSGEEEIIaVGMMGU+1ym97aJWITBMW6XOLxLf1XaJfGHhj5BXBddeYpCGNIvohH7K1sGIxA9atW7NqQ77yQk1jEi8q+lXRgghhBBCWoRNdIK6ge9kzuHJdmKivjLnZ0TiXR2796FwRt4ajFBcxGWSHZANRVShl4sRiSt1XMdwqkPVBbMJIYQQQkhLY5i2XIcevqtliczUlInKnN5+avJHXHvmrCLjUS8krmvzXBghL5cgNhW59nLxYxKU7pUGYEMal/MDsMtVUEgjhBBCCHnFcQ1nVpHxSk84YBGd0M8oQMS554w3JcW5ea6KkFeDsgFKlaGIgthU/MDUhVMdH5i6qLRgNiGEEEIIaQGMSFwCXBuPyk4LrkTPXI8BGsgXipc2xzUR8qrh+j4AUH1RdmXqEMSmor0waURTrokQQgghhDQzrlOC9xig8UJnbDQNnY2MSCxphksi5JWlbIBSpZdLEJuKfTXMONWh7RKJ9lOSgpt8YYQQQgghpOnsRSmj++nZcW4sKvtcGCMUF3F99kY6BIyQN56yIU3pCpTotZbVwRMm85p4WYQQQgghpCkYkVjCdQ0lVXvOuvb9oNFzd+7Vj2ZsJG8dpYciqtDLxfU9CKD6gtmEEEIIIW+LDQBw7UWWfno8Tg23Dl3fwdbtOt5T5tyt2rQtac1xanFBbCqaRSX3ada7R8irjmHa2k9OqAGOIa1D13cQlH+fF0qP415Hq1ZFKtTDpWxoxrtHCCGEENLirgHHRtXrXKjnjLzVlByK2KTSqtXLfr9fa7b7RgghhBDyErzxAa1D157ICMVfN98tI+T1oxcS17V9lx4t8H7j3pP2ggoFNEIIIYS81l5uQGvFbWKPppVWN5rxfhHyOrsOLRCQBLGp2Ibj0OMXUX8z3i9CCCGEkBb30gJam3YdWurTdmqwEcJqiff7NZ4wmddiQyrp/U4IIYSQNwynBltQUBCeOHECb9++jRUVFZiTk4Pz58/H9u3bq9yQkjbgODcYhw4diklJSZiRkYFVVVWYlpZGDTZClKNSQOvSpQsWFBQgIqKRkRHn95uqIS0yMhIVmT2b02yw9H4nhBBCyGuNU4MtKioKFy1ahP7+/sgwDM6aNQvLy8sxMTFRpQYYPyYBlakfANDX1xevXr2KO3bswJycHApohChPpYC2bNkyLCoqUjqg2U9JClYlpMkCmpOTE1pZWdWW/v370/udEEIIIW88lYc8xcfH4/3797GVkrO2CWJT0Xpi4mBl65ev54cffqCARojylH6/a2lp4YMHDzAqKkrpgCajbEiTBbQePVSa1ITe74QQQgh5rakc0GJjY7GiogJbt+Y+0cdAY8e6C+GqVD8FNEJUovT77bfffsOVK1eig4ODygGNmZoyQ5mQRgGNEEIIIW8zpRpsrVu3xo4dO6KtrS3m5+fjqlWrOB9rF7UKGVHKoabULysU0AhRiVLvt6CgICwqKsJu3bo1KaDJcJ0USBbQiouLsbKyEv/9918UCoX0fieEEELIW0GpBltFRUXtA/tbtmzhPLyxVevWyAjFRU2tX1YooBGiEs7vt06dOuHVq1dxzJgxCADNEtDaduhSzqVuV1dXnD9/Prq4uKCrqysmJSVhdXU1Lly4kN7vhBBCCHnjKRWQTExM0M7ODmNiYvDmzZu4adMmTsdJhzc1uX5ZoYBGiEo4v98WL16Mp0+frv13cwQ0ZeqvW5KSkrC8vBw7d+5M73dCCCGEvNFUbjD5+PggIqKpqWmD+3Xo+g4Cw7RtzvopoBGiEk7vtw8//BAfP36MHh4e2KNHD+zRowd6eXkhIiKPx8MuXbq0eEBzdnZGRERzc3N6vxNCCCHkjaZyg2nAgAGIiBgWFtbIvq1uNHf9FNAIUQmn95ust6w+jbz3KKARQgghhDSByg2m0NBQRES0tLRsSoOJAhohLYfT+61Hjx7o4ODwTBEKhYiIOG7cuMaGOb6QgJacnExDHAkhhBDyVuDUYNq/fz9Onz4d3d3d0dnZGefOnYt3797FAwcONDUgKTVpQVBQEAYFBeFff/2F//zzT+2/+/TpQw02QhqnckBqyWfQdu/ejTNnzkR3d3f08PBAsViMiIhxcXH0gQwhhBBC3nicGkwLZC/ehQAAIABJREFUFy7ECxcu4IMHD7CsrAzPnTuH06dPxw4dOrRYQBs0aFC9Q64cHByowUZI4154QGvXqXtlU+uPj4/H7OxsfPjwIVZUVOC5c+dwwoQJXF8rvd8JIYQQ8lpTucGmRHkhQ56aqX5C3iYv/P3WvksP1AuJ6/qy6gd6vxNCCCHkNfeyG0wvu35C3iYt8X5DfkwCMsKUYy+pfnq/E0IIIeS19lIbTFwXrn1R9RPylmmRgAYAaD85oUbB8hoU0AghhBBCGvHSGkyMSFzZph2nZ9iowUZI82ixgAYAyAhTkC9MXtPC9dP7nRBCCCGvtZfSYLKITuhn6De1pRqK1GAjhNWiAQ2kIa2F66f3OyGEEEJeay3eYOILUxLtJyfUtEC91GAj5FktHtAAAAWxqciIxKIWqp/e74QQQgh5rbV4g0kQm9rSDURqsBHCeikBDaQhrUXqb93mZjPeL0IIIYSQFtdiAU0vJK7rSwhnFNAI+c9LC2gAgB26vvPC62jXqRvaxCRrN+M9I4QQQghpURuAbbRda9e5e1W7Tt2UaWhd41g2ALA9Z116D2j03K1atVb2/JzqJ4T8935vxlLQoWtPZUOasnUUKhPuBLGpaBGd0K85bxwhhBBCSIviC5PXdO+vxrnxo+z5GZH4AZdzt2rdGhmhuKjpV0QIaSnK9o4LYlNV6uUSxKZi+y49ONVhF7UKzaKS+zT54gghhBBCWhpPmOjNtXFlFj5X6UYPIxRnm4XPfWHhjxDy8umFxHW1i1rF6X3epl0Hld7rNjHJ2soGQb2QuK5Nvrg3U2+o/94RQggh5GXRC4nrahUZz7mxYz81JVyZ8zPClPnvfKjLPZw9v7AtIeQ1YRGd0E/ZAKXKUERBbCq2at2aUx38mAT6vfI8Lvdu1kt7dYQQQsjbjGtjqkvvAcgIUzYrc26eMJnH9fyGflPRemLi4Ga5KELIS2MTk6xtMeIzTu/7zr36qdSTpszvFqAPfxSRvz93pF9Tg+fvHSGEEEJaEtcGjoHvZOWfC2OYttZjlnA6PyNMQWZqyoxmuShCyEvXUkMRlamjzoLZb7M78N992cjxGB4ovq936uy3uJ79ejf5VRNCCCFvOkYkvtimXQfunz4riWvDqUPXd5ARivc3/YoIIa8SnjCZp+89idPvgR4DNFT6PWMvShmtdE8akb8naioco6hw2Y8QQggh9RHEpmJvNcNGGzPtu/R4oeFM02kESmd3fJOtgYbvw00AaKPguDgF+74DADRM6/XVEer/OXgfADq9vJf2YthPSQpuiQBFIU0p9YWmhkKVJ7C9bbPq2R8AwEju30o9q0wIIYS81eymbLTWEAzn3JBR9rkwRphyrF2nrtRQYnFtND4GgB51jo1TsJ+zgv3I66Ohn4FQAPjw5b20F8d+SlKwukMYp/dCXw0zlX4v8IXJa6RDGDkVRiSubPKFvb7k74VaPV9XFOAA2OB1oIH96rvnNMSREEIIUYQRpRyyHb+SWwNGhec1BLGp+J6OdaPnVnWK7ddIT+AezuRLfwBoLT3HAgXbQ4AaOq8rBhR/zyUAUA4AYQDw7st6cS8aIxKLWqKXi2tIa9W69Zv+O6ghG6HhENZY8LoDbI9afecIB8X3fXGzXQEhhBDypuDaeLGLWqX0c2E2McnaOq5jODe+bCcm6jfPVb2SVAlnCAAfARvuACigvWli4fnvZyIAjAQAXwCwA4DOL+3VtQC+KGVlf317Tu+FofwQlQIUIxLv4sckcA5pb8EQ6/rUDVwA7O+WO3W2AbDDGhUFMUUBbRawPWwyDQU5Qggh5O1lE52grsxzYXYxSebKnJ8RiXdxXaDWYUri2/BHWtG1iwFgNAC4AYA5ADjUs58jsL1oDQW0zdJ/3wWAZPiv160+3wLAH3XOlQMA0fUcywA7xHKBXJE9Jyf/6fh6UPz8nIw2AJyT299cWl9D51d0jm/lzvEnsA3ANgDQqoG6+4Hi5/8WNvKauRIBQIXceQ8CgF49rykOAM4reC37AGAVsPelOV7TK68lhiK2xILZb4C6vWiKiixoNTSDo3zwamjhawT6cIkQQgj5jyA2Fdt36dFoY6XPUJMXOimIVWQ8MiLxmWa4pFcZA89f+1MAmARsA74rsBN9dASAJ9LtWcCGnYkAEAQA7UBxQBuu4GsI7DNs3RW8lv/Vs3/d0heeDWpxCvbRbOD47vB80HOvZ997ALConvPXPUdjr/seKJ40JZHDse+BaqGovuFbsnITnp/so7HXMg/Yn4u3AiMS7+oxQIPT7wx970kq9XIxIvE5riGtfZceyIjEBU2/steOonXP5AOXvLrbPeHZKfVlFD2fhsB9tkhCCCHkzcc1PLVp1wEZkficMue2iE7ox/X8Q2x8kTclxbl5ruqVlg/PX/80YIex1Q0E7QBABwCsge0p6gP/DXNTFNAaK33gvx6czUoe6yP3+lSp21Cu7mwVjo8AgPbS40VKHjtErm5ljpsHys2KKd+T11jRBfb7y+U1bQWAgdBwj+AbhRGmHLOPXq/M76YSZeuwiE7oZxUZz6kOVWesJYQQQghRCiMSl+h5RnFqoKjac9axe59Gz63qGkevKUX3IBoAbEBxA7wtsA35ur1HqoQkK/gv5CjaPg3Ynrx4BdtyoOHn3xoroY3U3ViJaOT45QAwGQD2K9h2F/4LtnW3TQGAscAOD1V03neBWzDSruf48gauaaj03I1d+9fwlgU0ADakde7Vj9PPh2nobGSE4iLl6xAXmYbO5lRH5179kBGmHGv6lRFCCCGEKMAIU77l2vhR8WH8Si7nlj6IL2n6Fb02FN2HCcAOb1SGopB0CNiwFw7ssMm62+UnEekCbGgaCwAxwAYVBtiZIrvV8zoNge1Fqy+gRQM7qYWiulfL1V132wVgg6EbADjVc25ZQOunYNseAPAHtqesOwCMUrCPjfT4ul9/BACfAxuCuwGACwB4A/usnw2wQx0be4ZP0TXJwp83AJgBwG4F238AduhibwD4XcH2GGC/Z37ADjN96zBCcbYyvVyMUJytbB12MUnmJiEzOdXxln2YRAgh5C0i/wdvFsf9WuK1cN2P9wJfT4uwF6WMVua5ML2QOKWef2GE4iKjANELC3+vOUX3IQrYoYzKUBSSJgM7VPJdYHvD6m4fAeyCxwBsz1x/ABgMbDg0BbYX6m49rxEBwBbqf/4tTVr3oHrq3iqtW1GPUQywAasr1L9YsyygKXp+LAbYHqy20vO3VbBPILALeXP5uUwE9jmx9sAtnIGCc6QDwDhgg1Vb6bXV3ecpsD1jbQFgu4LtE6Xbe8BbvAA5IxQXcV07UTrDrNIhjRGJH+h7T+Ic0hiReFfTr4wQQgh5dVBAe4ksohP6cR3SI4hNRd7UJHdlzs+fkrKh23uDKZzVLxmevxfxAGCgYN/NcvtMgWeHuCkKSZHw32LGgnq2D5Q7B6fvk1zhARtaFNW9VFp3q3rqlh+mV3fbBACQX1ahoYCWr8LrRmDDkhqwAfABx2M2APeJQuoeuxHYiVBaNbAPAoCJtI4t9dwXWngcWmYoYkssmE0IIYS8quT/0DUU0F4lb0xA49pz1mOABvKF4qXKnJsnTPTmen7T0NloFpXcp3mu6rUyFJ6/H8XA9k7VpejeaQLb6FcUkobBf4sZNxbQKuo5fwawPXHKBrT5jdTdUECLkl5XQ9ctC2jf1bO9sRIFbC9bK+nr/A4UD8WsWwaAakMcfwR2qYSG9kEAsAS2V3KLgm0U0OQwIvGDVq1bc/p+82MSVOrlEsSmIteQ9oGpCzKi5LgmXxghhBDyCuAa0OT3kye/tsodeHYNloaOPcBxv7pfV9RIfS0pE54YUUq+MufWC4nrajHiM07nF8Smor0waUTzXNVrqb570wUan+lwlHS/xhaqbiigfaxg22Jgnx9zBvZZrvp+9usLaPMaqbuhgIbAPqvVChRP4Y/wX0AzVbAtGdjeKkEDxR7+G94JwA5hfB/YiVPcACAMFE+OEggAvaBxil6zfA+aopknv4f/nuvbomA7BbQ6GJG4kuuC9301zJAvTElUoQ7RB6YunOoYZOFBPWmEEELeCPJ/4JQNaHeg4T+YDR3LNaDVt06LfCP1tcOIxAVcP31WZfFXruGPHX4k/rrpV/RauwUc7pWCsgzYIFHfc2BcA5qi9c+ige3F6lTPsbKf/eYIaDdVuHZZQKsv4A0GdvhiB2B7rxAAjgIbPEOlX1cU7voCO7FIX+k56m4fBWwvWmMuKDj2lvQ1QT2vebK0zlZAAY0zrhMQAQAywhTkC5PXKFuHIDYV+2qYcapD3SEM7ackBTf5wgghhJCXSP6Pm7IBrSlf4xrQGvvaaxfQBLGpyGXh1869+r3QhagNfCerNBX2G6gtAHwFygWUcgAYA+wwPYCmBTRbJeuWFXtonoDWFgCuK1m3/DT7O5U8dj0AGAEb0pS95mC562pIG1BufbdpwC4sLgtwWxTsQwGtHoLYVOTay8UORRSLlK2DEYq/7q1myKkOVRfMfp0gYqsXVV72tRFCCHn2D5uqAe2A3NdU6Rmrbz9ePcfKf+21Cmi8qUnugyw8ODUyBLGpaBGd0E+Z8zNCcXabdh04n795ruqN0Am4PQOFAHAP2N4WHrDDGwGaFtBaQ+O9eGIFXxMAG3KaGtAA2OChqN7l9XxdPqB1BIBcjvfuJ2BnQ9QANkTN4HgcAjsxi7VcvY1RNFOjoiIBdnkDc7n7sUXBfhTQGsD1gyGQ/u5hhMkxqtTB5cMtADak8YTJr9Xfh7oaCFGt65Q2zVDqnrM1hTdCCHl55P+otWRA4/K1NyqgMSLxOa5rCKnac9ZrsH6j527fpQeFM8W6AvsM0jpQHDg2AxvMhsN/k0nICADgGwD4Va7I9/YMAXZq+1/kto+C/yYJaQ8AQgC4JldfMbCzD44Hdsr8rwFgn9zxfsAGBgEAfFGn7tg6da+pU/cSeH6x5Z7ADjsMBXYJgGBgJ9ZoLKCB9F7YAhskFQVdsfTeBQHb6yib6KMNsM+efQEAlxUc9xuw0/aPhv8CqTJ6Sl/XiTrnLQX2+zkR2HXqBsKzM0QGAnvv5e9pFFBAa1BLDEVsiQWzW1oD4UsWntoiYjtpaS+RSDpIJJIOiNgRETsWFBR0Kigo6ISInRGxc0ZGRhcuRba/3PEd5c7dXq7OttJSN8xReCOEkBeEyx+6uvspOpbr12YB2yBqrvO9NgHNfnJCDXC43/bR65V+LownTOap8YI4hz/riYmDm+Wi3jztgA00VsCuBRYC7M9ruPTfAmAb83WDQisAsAAATwDwkhZbYBdbljGqs10Azw7XewcAjAEgANhn28KADWFG0v0+AHbhZtnxjPTrrYB9Lkv+3G516n63znYPULxQ9VEAsJNeY29ofB00eZ2k985Oeg2hcvfODwD4wC40XXcNsTbArtdmA+w9DpM7LlB6LRrABmhltZK+Ln1gJ1yRf00BwC5a3R+enxmytfQ1yd8zVwDorMJreHswTFtle9JU6eUSxKYi15BmFRmv9EiEF62eQFY3jLWXhTBZ+MrIyOiSmZnZVSKRdJdIJN3z8/N75ufn9ywoKOhVWFjYOzf3Rp/c3Nw+Eomkb2MlNze3T27ujT6FhYW9CwoKepWVlb2Tn5/f886dOz0kEkn3nJycbhkZGV2Ki4u7yIc3BcFNYWB72feYEEJed80V0Oo7rr797jSyn8ziRup45QOaXUySOddGi773JLSJSdau92QKMCJxms24ZZzOzwhTsN4TkbraABsm2klLG3i2x6muVgpKY/s0VG9beH7dr4aOV7VuRT8rVwBgISie/j8e2HBT35pkreD5e9e6geuVp+w9V4bseTv5c3M5prHvF6lDEJuKXNdfNA2drfTvPAB2OHf7Lj041WE9ZolKC2Y3l3rCWG0Qk4WwjIyMLjk5Od3u3LnTo6ys7J3s7MLeEomkb35+fr+cnJz3L17M+yArK2tQRkbGkIsXLw49d+6cRkZGhlZ6errO6dPn9U7+/bfBqVOnDI+eOmV47NhfRmw5Jlf+qi2nTp0yPPn33wZnzmTonz17VvfChQva58+f18zMzFS/cOGqWnZ29uC8vLwPcnNzB1y5cqX/5cuX37tx40afgoKCXrIQl5mZ2VXaC1c3vMn3tFFoI4QQFTQloAE8P5OjoiGOvevssxG4T8ev6DXK1/HKBDRmasoMRV8XxKYil+fC+uvbqzT0UBq6Gi12UauQEYr3K31h5E2naMbDhspEYHsHqcFFFNILieuqbE+aKiGN6+9WkP7+0wuJU6UXViUNhTKJRNKhoKCgU3FxcW0gKygo6CWRSPpevnz5vdzc3AGXLl368MKFC2rnzmVppKen65w5c0b/xInTxkeP/s/06NGjlofS0qwPHTrEO3jwIH/fgQOCn/fvd/rxx19cfvjhZ9c9e35037lzT/1lzx733Xv3uv3886+uv/xy0OXgwd8dDx1KY9LS0nh//vmn7cmTJy2P//WX+enTp43T09MNz549q5uRkaF18eLFodnZ2YMlEsnAnJyc9/Py8t69ceNGn/z8/J51A5tcWGtLYY0QQl4+RQHtrSCITX0uYHFtpLTv0gMZkThNmfpsYpK1uZ5f02kE2sUkmTfl+sgbqw2wQ/8a+znKAvY5Mgd4dvgkIQoJYlORay+XqkMRGZH4Qeu27TjVwS6YnfJD06/seQqGLbaR7yFDxM6yMFZYWNhbFsSysrIGnTt3TuPvv//W/uuvv4xOnTpl9scff9gcPHiQv2/fAecff/zRfefOnb7bt38XuHnz1vBNm7ZEJCamjN6QkDBu7dr1E1avXhu9cuWqqcuXrxQtWrx0+qJFi2fGLYyfNf/TBbPrlk8/XTB7wYJFsxctWjw7fsmyWStWrJqxZs26aRsSkoQbk1KmJKWkTNy0afP4LVu+HvP119tHfbNjx7A9e34M2bPnJ799+/Z5HTx40OXw4cOCo0eP2p08edLy9OnTxhkZGfrnz5/XvHjx4tC8vLwPcnJy3pdIJH2lgbN7ZmZm14KCgk7SHjaFge1FfD8IIYQ8660NaIxI/OCdD3Vrp3dmROIHGoLhjTYaWrVurfKkIFwaP32GmtCkIKQxHQHAEdgZIY8CwL9yRTbBx1hgn8XqCdR7RjiwiE7op2xPmiohTRCbilzXlWzu34UKQlltLxkids7MzOyan5/fs7CwsHd+fn4/iUQy8MKFC2rSoYmGp06dMvv9999tf/31N4e9e/e67d6922fbtm+DN2/eOnzDxqQx69ZtjFqx4vMpS5Ysm7Zw4bKPP4lbOH/evE8WfDx3fvy0GR8vmzZtxkqhaNqaKcLYdZMmT/li4sTJGz+aMClx3LiopDHjxieNGzc+acy4qKRx4ycmjY+KTpo4MTopOmZq4lRhbOL0GbMSZn08Z8P8+Z+u/eSzuFWfxS1cHrdg0ZL4JcsWLFvx+acrV62Zs3bt+pnrv0icmpSSEr1py5ZxX2/fPmrH7t2h3+/dG/Dz/v2eBw4cdj58+LD98ePHrU+fPm18/vx5vczMTPXs7OzBsl62srKydyQSSXe559nkh0JSUCOEkBbwNge0tH56drWNAK6fHL/Itc7atOuAjEh8rskXR94GrYENav2AnSBjqLSoATtpSBfg9twWIc9oiaGIXBbMFsSmom10gnFTr6e+nrKCgoJOxRnFXfLz83sWZhf2zsq60v/ixbwP0tMz1U+dOqt76lS62R9//GGzf/9+p717f/bctu3b4E2btkQkJCSOX7Pmi8mLl66cuWDR0nkfz/00fvr0WSsmi6atnxAzNXFs1KQvR40bvzVi1JjvwkZE7g4Oj9gbEBz2s19w6H6fgOCDXn4Bhz19A464efn96ezufdTF3eeYs6vXcRd3n+OuHr7HXT19j7t7+h338Ao47ukbeNwnIORYQEj4saCwiD9Dh4/6Y9jI0b8PGxl5aPioMQdGjB73S+TYqB/Hjp+4Z0L0lB0TY4TbJwunbRbN/Fg8a84nG+Z+umD1gsXLlyxaujJu2efrPl617otpGzcmTRSLvxyzbdu3YTt3fh/w88+/uu7ff4g5evSorJdN68KFC2q5ubkDLl++/J4ssMkNh5T1rLWmwEYIIaRZ8aekbBhi48v502KQNkaAYerOatcgRiS+q+v+0Uv5tJi8NbhMeEIIJzxhMk/ZnjRlfy8CNPzBlVVkvErPuclrYAhj58zMzK7S4NFXIpEMzMjIGZKenq5z4sRp499//912374Dgl279nhv2/ZtcErKptHr1ydMWLp0+fSFC+Pnzp4zb/H06bM+j46emhA1cbI4cvT4bSNGjNkRHB7xo39I2C/e/kGHvPwC0ty9fI87u3v+T+DqcUbg7J7OOLmdd3ByuWDv6PIP39Eli8c45VjbO+Ta8Jh/rW3ZYmPv+C/PwflfPuP6L+Pk9i/j7Pavo6vHvy4e3rlunr457j5+2Z5+AZlefoEXfQKCM/yCQs/5B4efCQgJ/yt42IgTYREjj4aPGH145JiPDoyOmvRTVPSU7ydOEX0zaWrslsmiGUmi6bPXfzx3/rLPPotbsHT5ytmrV68TJiWJx3351bYRO3bv9v/xxx/dDxw+bH/06FHLM2fO6J8/f17z0qVLH2ZdyeqfnV3Y+86dOz2Ki4u7yD23RkGNEEJI87EXpYw2CZmpVCPEbspGa2XqYIQp33KdXprCGSHkVaLMUERVZ5xVFNJUHToJoHgIo2ySD4lE0l06PX2/ixfzPsjIyND6+++/Df744w+bAwcOCHbs2O3z9ddfhyYkJI1bvXptzMKF8XPnzp2/UCgUrZkwKTpxxKjIr4cPH7kzKDjsZ3//4IOeXn5/urp5nXR29fpb4OiWwXd0yeI5OOXa2DtcsrZzyLfmORRY2fELrez4RVZ2/GJLO/4tK1t+iaUtr9TChldqYcO7Y2nHv2vFc7hrbetQZsNjymz5jmU8xrmMxziX2TPOZfYC5zJ7gfNdvqPLXQcn17sCF/c7Tq6epU5uHrcd3TxvObt73nT28Cpy9fS54eblW+Dm5XvV3dvvsoePv8Td2zfb0yfgoqev/1kP34DTHj7+x7z8go4EB4f/Gj585N5RkWO/GTd+4uYpU6ZtmDFjzspP4hZ+unjx0pnr1m2YmJycGrl9+3eBu374wePw4cP2J06csDh79qzuxYsXh+bm5g7Iy8t7986dOz0yM7FrnbDWhoIaIYQQldnFJJlzne6+t5oh1jfrY33spyZ/xPVTaKvI+BadsYwQQhpjPyUpWOmeNBXI18GPSUCzqOQ+qpynoWBWUFDQKysrq/+lS5c+lE3wcehQGu+XX35x+eabHUHiL78csWrNuslLliybMW/eZ4umT5/1edSEycmjR4/bGh4esScwKPQXdw/vNBc3zxOOTu7pAie3DHvGKcfO3lFibetwxdLavsDCmldkZm1308zK9raZlW2pmaXtXTMr23sWNrz75ja8BxZWvIdWdvxHlrb25ebWduUWNrwKa55DhS1fUMFjnCr4ji4VfEeXClu+4LE1z+Gxpa19hY09U2Hn4FhhL3Cu4Du6VDg4uVYwzq7lDs5ujxhnt4eMs9tDgbP7fSc3z3vObp5lAhe3uwIX99uMs9stByfXIr6T63Weg9NVOwfBZVu+IJfHOGUxAtdzTs4ep929fI96+wQcDg4Z9uPwkaN3jhk/cVN09NSE6TPnLJ03L+7T5ctXiTZu3Bi1dev28O+//953//5DzJEjx6zOnMnQP5eVpSELavn5+T2lM0LKgho9q0YIIUR1XBoflqMWICMSX1TmvBbRCf249s4JYlORNzXJvZkuiRBCmlVLhTRBbKrSH1TV6TFri4jtCgoKOklnI+x1+fLl985lZw8+k5GhderUKbNDh9J4u/fu9dz+3a6Q9Ykp45evWiP6eH5cnGjGzJXjJkSnjBjz0dfBYcP3+gaGHHDx8D7m6Oxx2s5BcNGG55BjZm2bb2ZlW2BmZVtsYmF9y9TC9o6JuU2ZkanVAyNTq4cm5jblJuY2FSbmNo9NzG2emFnaPbWwtn9qa+9YaefgWGljz1TZ8gVV1jyHKht7psqO71htL3Cu5ju5VvMdXaodnN2qeQ5O1VZ2/GpbvqC6drujSzXf0UX+/6scnFyrHJxcqxgnt0pZ4Tu6PLXjOz6x5jk8Nre2e2xmZVtuZmX7yMTc+oGxudV9Q1OLu4YmFqVGZpY3jc2tbpha2lw1t7K7ZGPPZPEYx/OMs+v/HF09/vD0DdjnHxK2e+TocZvHR8ckzPh4/pIFi5fPW7shITo19avIXbv2+P3yy0GXI8f+Z/XXX2eNZDNC5ubm9snPz+8p96zaMzNAqvJzQQgh5C3EpeEhm+Wxuc8LANhjgAbyheKlzXAphBDyQjAisahZQlpDz6kxTFtln2NT8HxZx4yMjC5lZWXv5OXlvZuVlTXo/PnzmmwwO8TbufN7ry1ffx26PiFhwtLPV0//eH5cvHDarDWjx0/YPGxE5A6/4ND9Hj7+ac7unqcZJ7fztnzHXCs7/mVzK7vrZla2xUYW1qXG5pZ3jc2tHhiZWT40MrUqNzC2eGxgbPHE0MTqqZGpVaWphW2luRWvytyKV2Vpw6+2suVX29o7Vts5ONbY8gU1dg6ONfYC5xq+o0sN4+xWI3Bxr3F09ahxcHKtcXByrbEXONfYOTjWbpcVByfXGr6jS+1+smMFLu41fCfXanuBc7Ud37HamsevNrOyrTI2t6oyMrOsNDKzfGpgYv7EwMT8sZ6haYWOoUm5rqHJAz0j0/v6xmZ39IxMS4zMLG+YWFhfM7e2y7O0sc+y4Tmk8xnnk26evod8AkJ+HhH50bYJ0cKUGTPmroiLi/90zbqNU5LEX47ZufP7gJ9//c31yLFjVqdOpRteuHBBTSKRDCwsLOwt7bXshM8+p0Y9aoQQQhrHpdEhiE1FnjCZ8wLbXBtJfZRuAAAgAElEQVQypqGzkRGl5Dfj5ZBXQ2Pf+9kAwKUhulm6f7sX8zKfqad9C9RDXnPS58xUCmlyi2E3SX09Zjk5Od2ys7N7Z2Vl9U9PT1c/efKkwaFDh3i79+51E3+5Zdja9evHL1q0ePacOfMWRcdMTRg59qOvAkPCf/QJCP7N2c3rFE/gfM6WL8i1suXnm9va3zC34d0ytbS9a2xhfc/QzPKRoZllub6J+RNDU4unhqaWlUamVlWGJpbVBsYW1YYm1tVGpjY1pha2NZY2/BobnqDG1t4R7RkX5Atc0dHFEx1dPZBxdkMHJ1d08fBGV08fdPX0QRcPb3RyY7c7uXki4+yGzu5e6O7th25evujq6VO7XeDijo6uHrX7yr7Od3RBOwdHtOY5oKWtPRqaWqCuoUmNtr5Rja6hSY2uoUmNnpFptZ6RabWOoUmVtp5xpbaecaWWrtETTR3DxxraBuVaukYPNXUMy7T1jEq19YyLdQ1MCozNrPPMre2zHASuZ1zcfY4FBIX9GhERuWvixClikWjWmk8XLP5kxYrVscnJX0Z+882OoAMHDgiOHDlilZ6erpOdnT1YNmV/RkZGlzo9ahTUCCGE1I9LmGrdth3nYTuMSFzA+aF6dppp8uYwBo6NVwC4DwAd6jlPPwCokNt3ELBT6je3NXJ1WEjrIaRejEi8i2tIa9W6de3oA9n6ak0NaHLhrPYZs+Li/3rMMjIyhqSnp+ukpaVZ//zzz06btnwduuaLxLFx8UtmTZ89b1HUpCkbI0aP3eofFPqTh4//YQdnt9O2Do4XzCxt8yyseddMLKxvmlra3Da2sL5nZG710NDUosLEwuaxvrHZUyNzq0pDU4sqfWOTaiMzy2pjc6saQ1PLGmNzqxpzK3u0snVAK1sHlAUze8YFGSd3dHTxRGc3b3T18EE3Tz/08PZHF+n/u3v5o4u7DxvgXDzR0dUTndy80M3TF929/NHDOwDdPP3QydULHV08UeD8bDgTuLijwMUd7QXOaMsXoIUND00tbVDPyBR1DIxri66hCeoZmaKekWmNrqFJjaauQY2mrkG1po5BlYaOfpW6tl6lmqbukyEaOhVDNfXKh2rq3dfQNijT0jUq0TMwu2FqYZtvZcvP5TMuZ13dvE8EBIfvDx8++vuPJsSkxohmrp2/YPEny1euEYnFX4747rtdfgcOHLA/deqU2blz5zQu5l38IDs7u26PGj2jRgghpH7yAa1j9z74zoe6OMTGF3XdP0KbcctQ1qiQFUYkljR0ru791RptuHTu1Y9mbHwzce5dkJZkAOjN4RwG0Lzrmcl65uRLlLQeQhrGMG35MQmcQ5ogNpVdnqShoY+NqBPM2iFix8zMzK6FhYW9s7Ky+p87d07j1KlThgcPHuTv3r3bMyFJPGr58pUx02bNXRg1acqa0IhRX/sEhvzg7O6Vxnd0+cvShpdpamGTZ2xudd3Q1OKWgYl5maGp+QM9I9NyfWOzx4amFk8tbe0rTS1tqk0srKtlQwlt7JkaHuOE9gJntHNwRDsHR7ThCZDn4IwOjm4ocPZAgbMHurj7oKsHG7I8fQLRyzcIffxD0C8wDAOCh6GPfwh6+gSii7uPNLz51v7XwzsAvXyD0Ms3CN29/NHdyx+d3bzZkCYNZ87uXrW9bYyzW23vmamlDRqYmKOOgTFq6xvVDWeoZ2SKuoYmqKVniJq6Bqipa4BDtXRr1DR1aoZoaNcMVteqHqSmVfWhmlbl4KHaT4eo61QM1dB7pKljcE9H3+SOnqFZsaGZ9TVrniCXL3DNcPXwPe7pG/hbeETkjnHjJm6aPnPO8gULFs1bvz5h/JdffhW2b98+57S0NGv5HjXZM2rShcFp6CMhhJDnPRfAhOJsRpiymZmaMoMnTOZxfWCdJ0z0HmThwXnoj6pTSJNXljs8/72eDgATAWA4ACxQsB0BwAqeXbOsJQLaFgV1TAAKaIQjRphyTBa6GivyC16rEtDqPGfWvqCgoFN+fn5PiUTSNzs7e/Dff/+tnZaWZr1v3z7nzZs3h69btzFq3rxP5guFsSuGR47d7BcUutvJzfMIj3E8ZWHNBjN9Y7MbuoYmJXpGZmW6hiYPdQ1NKrT1jZ4YmlpUGpiYVxmbW1WbWdnWuHn51vgEBNcEhg5DT98A9PQNQDcv39qhh7LeL1cPX/TyDUJvv2B09/JHb7/g2kDmFxiG/kHhGBAcgYEhIzA4bBT6BoSjj38YevoEo5tnALp5BqCHdxB6+gSjl28IevuFordfKHp4B6GHd0BtgHNx90YXD+/aYZGyHjQ7B0e0suOjsbkV6hub1fag6RqaPBfQdAyMUVPXADV09FFdWw/VNHVwiIY2DtHQxsHqWjWDh2rXDB6qXT14qHb1EHWdKjUN3afqWvqPtXSMyrV0je7r6JvcNTKxKjaxsC2wtObn2vGdMlzcfY55+wYeGDFizDfjo6KTZs+Ztyg+fsmM5OTUyG937gz4/fff+enp6WaZmZnqEolkYEFBQa+cnJxucote00QihBAi92lk3dK6GUp9535jf/EyIvE5y1ELOIezl/ZCyYv0Bzz//R4NAJrAPt/VQcH2fwEgQrpdBPWHuEQAWARsSKv7PnJXUHcFABysZ/84ADivoI6fpfUsAMVhsCMALJXb/woA/FlPHeQtYBGd0M96zBKleo2V+f1XXzDLy8t798KFC2qnT5/XO3ToEO+HH37yEIs3jVqx4vMpM2fPWTRp0tT1YWEjvnX38t1n5+B00sKad97Q1OKSvrFpoa6ByW0dQ5MyDR39R1p6+hXa+kZPdQ1NKnUN2WGL+sZmNVZ2vBr/4DAcMXocRo6LwshxURgRORYjIsdiYOgwDB0+sva/o8ZE4ehxE3Hk6PE4akwUDh85traER4zGkPCRGBw2AkOHjcLgsFEYFDoSg0JH1oYvN88A9PQJRh//MAwIjkD/oOHo4x9WG9C8/ULR0ycQ3Tz90NXDF9082XAoH9AYZze0sWfQ3NoOjc2t0MDEvLanTD6Y6Ruboa6hCWrrG+FQLd3aoqapU/tfNU0dVNPQxSHqOjhEXQcHD9WuGaKuUzNUU69aXUu/Sk1Dt1JNQ/eJtp5xuY6+yQN9I7M7BsYWN03Nba9YWvFyHRiXMy6unn8Eh4TvGTVq3JZp02auXBi/ZH5CYuL4bd9+G7b/t9+cjp48aXn+fLZmXl7eB7LJROSCGvWmEULefBxCWBu50lautFOhyB8vf94Gw9vLvkfNwX5yQg1waJzwYxKQEYq/fmkvlLxIX4Hi73sWAHQBNsT0BDZQRQBAOAAEAYAnsOEnv57j5YsmAHSWq5NLo/gWPDshCZdjNOHZZ97WcDimA1BQe+swQnG2VWR8swc0+UlAJBJJh8xM7FpWVvZObm7ugMzMTPXjx4+b799/iNm+/buQjRuTP/r00wXzhLHTV0SMHrfFNzBkj4OT65/WPIe/9U1M/9U1MLmqrWdUoqlneFdb3+iRtr5hhZae4VMNHd1KHQOjaj1D02pjM+sac2u7GjsHBgNCQvGjiZMxRjQdp06biVOnzcTJwmk4MUaIo8aOx4jI0Thh8pTafSYLp+GkmFicEC3ECZOnYlT0FBw3IRojx0XhqLHjMXxEJA4fNRbDI8ZicBgb1Dx9gmt7zPyDhteGN7/AYegbEF77X2+/UPTyDUJPn0D2mTSfAHT39qsNaLJJR2TDG43NrdDQ1KK2F03f2Kw2sMkCmpaeYW3vmawHTb7Iwpmahi4O1dTDoZp6qK6lX6OupV+jpqFbraahU6WpY1ipqWP4REvHqFxH3+SBroFJqb6RebGxmdVlSxt+Ft/R9aSzu9ehsBGR30ZNnpr86adxCz9fvXb6V9u2jfjxx32+f/550jY9Pd0wKytr0OXLl9+ThrTOcr1pb0z7gBDyFmsghMkHr3bSh3PbSz+t6ih9YLdzcXFxF0TsWlJS0q2kpKRbaWlpd0TswbWUlpZ2Ly0t7V5SUtINEbtKz9e5oKCgk7SOjtLx5u3rhLm6Ie61Cm52MUnmXGds1PeehDYxydov7cWSF601cO9J6ANsr1kb+K+36gqH4yIAoD+wk4go03PxAwC8K62Hy/6yXj2u+8uKG7yYyUzIK8wmJlnbNHR2swQ0+WCGiO0zMjK65Ofn98zJyXk/MzNTPS3tuPm+ffsEmzdvDV+7dv2EuXPnfzZlimhNeMSob3wCgvfxHZ1PWlrzMwxMLC9r65vc0NQxvDNUU+/+UE29CjUN3SfqWvpVGtoG1ewkGbo1+samaGppizY8AfIFrhgRORpjREKcOWcuzpwzFxcuWYqLli7DzxbF44yP5+D02bNx1lz2vzM+noOfLFiIM+fMxVlzP8Fps+bgtFlzagPdlNgZOGb8RBw55iOMiByLYSNGY2BYBPoFh6O7TwC6eftjYFiEtIxE36BhtcUnMBx9g4ahd0AY+viHoLdfMPtMmnRmRxcPb3R290LGyR3tGRe0snVAcyseGptZo6GJJRoYW6CBsQXqG5mjgbEF6hmaoa6BKWrpGqGWrhGqa+mjmobuc0Wu5wwHD9WuDWrqWvq1RU1Dt0ZNQ7dmiLpOtZqGTpWahm6lupb+Yw1to3JNHeMybT3jEh19k2s2POZfB0fXv739A/+IGDn6+4nRkzd/8tnCpctXrp391VffRO7+4Wf/I0f/Zycf1HJycrpJ2wwU1Aghr6dGAlk7RGwvDUUd64YwabDqee/evV7379/vXfTgQd/i4gfv3rqF/UpKHvUvKSl5v+D27QGFpaUDnyuFcqW0dGDB7dsDrpWUvH+tpOT9W7du9bt58+Z7RUUP+t64caNPwb17vRDxHVmIqxveFIQ2+cD2yoc1QWzqM89X1Ff669vT0Ma3wxPgHmby4NmerSscjpEFtCIF204BwGRgn3lTdCwPuIdIWUDzV7Btj7SeZfUc2xuoJ+2tw4jED7iEtIZ+D9btNcvIyOhSWFjYOzc3d0B6errO0aNHLXfu3OmVmrp5+OLFS6fPmvVx/OixH6UGhg7bJXBxT7NzcDpjamHzr56h+TVNPaOSodr6Zepa+uVDNXUfq2noVg5R16lS19Kv0dQxrNHWN0I9IyM0s7JFO74zunsFYmDIcJwSOw0/WRCHCxbHY1z8Ily9fh2uWL0Kl65cgUtWLGe/vngBLli8EBctXYILlyzGuPhF+OnCRTjvszicPnsuTp02E2d8PA+nzZqDH02cjGPGT2R70kaOxoDQYegfEo6BYcPRLzgMA0KHYWDYcAwMi0D/kGEYGBaBvkFh6B8yDANCh6N/CDuhiKy4e/k9MzW/LKBZ2zFoYW1fG9BkIU0W0HQNTFFH3wQ1dQxrA5osfCkKaIPUtBQGNFmP2lBNPRyirlMzRF2nZvBQ7Wo1DZ0qdS3Dp+pahhVDNPQfqmsZ3DExs7lpacW/bO/oluntG3giOGT4wYkTp2ybNn32FytXrpm3caN48q49Pwb+9tsRp7NnzxplZmaqX758+b38/PyeimZ7bImfY0IIUVpDYUw+iCFiV2kAewcR+xQXP3i3pKSk/+3btwfcuHFj0JUrxUPy8grUL1++riWRXNXNyMrTP3LsrNGhP8+YpB0/a37g95OW3/90yHrnz/ttdu09aLvj+1/tZGWb3P/v+PE3u137frfdte93259+TbM+eOSY1W9px82P/u9v07P/5BplXyowKCoq1b19H7UfP36sjohqFRUVg8rLywc+evSo/8OHD99DxD732BDXQxoc6wa3tqigh+1lfy8AuK911r5LD2RE4rSX9kJJS+oAAIbAPaQ9AYAB0mPbAIBjPfuNBIBAAHAGNgC1AwBTYJ9xGw/sc2WjAWAIsMMotyg4RySwQyl7AsDvCrbH1KmnrYJ97gEb3vQAoBso7snzlG4jbxn+lJQNvdUMlQ5ocn/X2kh/73cuKyt7JzMzs19GRobWqVOnzPbs+dF98+bN4fHxS6bNmvVx/KhRY74MDg753tHJ7aitPXPWyMzykoGJ+XUtfeM7GrqG94dq61eo6xg9HaqpVzVUU69aQ9ugRkPboEZH3wR1Ddjns4zMzJEvcEFHF08MCh2B4ydOwfhly3HF6lW4eMUSXLV+NX71zVbctPVLXJ+4ATckfYHrNq7H1RvW4PrEDbhu43pcm7AOP1+7GhcvX4aLli7Bj+d/hrPnfYqfLVqCohmza3vUxkZNwuGjR2NIRASGRERg2MiRGDZyJAYNG8aW8BEYGBaBAaHDMSh8BAaFj8CA0OHoExiK/kHh6B8Uzs7s6BeIHj7+bA+amzc6urAhjefgjDY8wTO9aEamVmhiboPGZta1AU1D20BR0HoupA1S08Ih6jq1+2hoG9QeK9eTVhvohqjr1AxS06kZpKZT/cEgrUptXdPHeoYW5Va2DmWmFrYlfAfnq/YOTjm+fkGnQsIiDk+cGLN9+vSPE5YuXzkvKSkl+ocffvA/fPiw4MKFCwZXr15Vk0gkfRU9m9aiP9CEEFKfBkJZe4lE0qGgoKBTcXFxF2nvVE9E7PPw4cP3bpeXD7iD+GHZ48dD799/rPngwQO9hw8fGj569NS0vPyp5f3yStv79yvty8oqHK/ffOiSl3/L/d9LRV45kut+F3OvBORcLgqWXC0NyZQUhV7Mux52Me962MXca2HnpeVi7rWwi3nXwzIlhaGZksLQnMtFwf9euRkouXbb79+rJd45+TfcJdduul4pLHYsKCpxuH6z1La8vNzq6dOnpk+fPjV68uSJ3uPHj7UeP348FBEHl5eXD0DEfrLAJuttkw2PlOtleyXCGiNMOcYloMmmmH4Zr5G8NB2AXVMsCgCeQuMhLR7YwNUK2GCjaB9LAOgl3d4G2J6wHgDwIQBoAIAJsM+zKZr8Q1aigH0Wrg0AbFewfaK0np7Sevor2OcnALABNui1AsU9chOlr4u8RfjC5DVcfifW/X0o9zeuDSK2Ly4u7lJWVvaORCIZeP78ec3Dhw/b7Nnzo/uGDRvHLFq0dHpMjHD1iFFjtrh7+u53ELicMDO3zTI0sbyirWdyS0vHqExdS79cU8fwsbqWfqW6ln71UE29GnUt/RotXSPU1jNGXQNT1DM0QyNTK7S2Y9Ddyx9DwkfihMlTcc4nn+EXScn4RVIibkhYj19v34rf7tiOO3Z9g1u2bkLxpiRM2ZSIyeKNmJC4Hr/YuA5Xr12FKz5fjmvWrcaVqz7HuPjFGL9subQ3bQ7OmvsJxoimY1T0FIwcPx6Hjx6NwyIja/8bGB6OgeHhGBoxCoOHjcCg8AgMjRiFQeERGDYiEoPCIzAgdBiGDB+JwcNGord/CHr5BqGHdyC6ewXWziLJF7iiHd8JLazt0czSDk0tbNHE3AaNTK3QyNQK9QzNUFvPuL6esGeeO5MNcaw7tFE+pNU9VhbuPhyiWTNwkHq1jr5JlY6+yVNDE8sKYzOrhxY2vFJLa/siVw8fiV9QSEZE5LgjH02YvHfm3E8SF8YvW5ySkhr9zY4dww4fPiw4lZ5ulpOTMyQ/P7+f3NpptMA1IeTlqhPKnglkcj1kPe/fv98bEfuVl5cPRES1+48faz58+MTg7qOnJvfLy23u36+wf/jwocu9R4887j965F/+5EnInYqKiNsPK0aXPXoadbvs0aTSu4+FpffLp92+83B28Z1Hc4tKHn16veTegsJbZfFXbt1ffLX4/tKrN8qWXr1etuzq9bJlV2/eX3bpetmyS9dvL7tUcGvppeu3l14qvLMkr/BW/OXCmwvzr5d8ernw1ryr1+/Mvn7z/ozSu4+Fjx49nYxPMaqqqmpsVdWTiKqqJ2GI6F9VVeVdWVnpgohMZWWlzdOnT82fPHligIjaiKiGiB/eunWrX1FRUV9E7CkNbZ3rCWwv5Ze2IDYV23borNJwHvJGawXsEMH3gZ263hMARkH9DdfB8N+wQEXbFU2zr2j4YUMlCgBkS0ZsUbC97jT7Y5Q8v6x8BQDmStwr8ppjROJdfTXMOP18yP9OlAtmbaUjJ7pnZWX1v3Dhgtoff/xh8fPPPzslJqaMXLZshXDqVNHKUaPHbPL09v+VzzgfNzOzzjI0Mr+io2tUoq6lf2+opl7FUE29J+pa+lWaOoa1PWayIX06+iaoo2+CBsYWaGJugzY8Abp7+2H4iEgUzZiFK9esxZQvN+GqdWtxzYb1uHXbV/j9D7tx2zdb8bud2/HLLWJM/TIZt3/3FW7dthm/3CLGr7d/hcniJBRvSsG169fg8pXLcOWa1fj52nW4YPES/GTBQhROn4WxMz9mJxmZOhXHTJiAEWPG4PDRo2v/GxIRgYFhwzF42IjakBY2IhLDRkTW/jtk+EgMCGWHO/oGhEqfSwtFN08/dHbzRoGzR20vmoW1PZpa2NYWYzNr1DM0e6YHTRaohmrqPdNrJus5k22TD2byPWjyAU02FPLDIZo4cJA6DlHXQS1doxpdA9MaQxPLKlML20o7B8fH9gLnR15+AXf8AsOK/YPDJOHDIjPGT5ry+9Sp0/YsWLTki9Vr1y/Yvn171Pff7w0+fvw4Lz093TAvL++D3NwbfYqLi7tI20A05JEQ0rIUBLN2sl4y2bDF+/fv93748OF75eXlH5Qhqj148kTn4cMnhuXlTy0rKpBX9vCxy51Hj70elD8Jflj+ZNijR0/HPnjweMK9h+XCsvsPZ9x5UDGv9F5F3J37j5aU3ClbcfdB5dri2482FJc+Trpx96m4sPTJ5sLbFV9dKSnfll/y4Jv8kvJvL5WUf5t/q/y7/KIKaSn/jv13+Xd5xQ++vXTjwTeXiu9tk9y4szXv+t3Nl289TL1UfD/p0s1HCYWlj9eWlld+/uhJ5ZInlZULq6sr51VXV86urn4qrK6ujmZDW9WIqqqq4KqqKt/KykqXyspKh6dPn1o+ffTI5MmTBzr37j1WLy0t/6Dk0aP+hWwo7Sm9H7KFLl9aULONTjCu71Nju6hVCAzTtsETkDeFojXQENgZF9sA23P1HgBsq2c/E/gvgHEJaIn17FcMAOtB8YySygY0nXrqaKz8AuzzbuQtIBtNoEwBAPlhje0QsWN+fn7Py5cvv3f+/HnNY8dOme3YscMzMTElYv78T2cLhbErQsIitrt5+Pxqa+dwxsjEIltbx/C6ppb+bXUN3YdqGroV6lr6lRraBlWaOoY12nrGNdp6xqijb4J6hma1z2EZGFvg/9l767C29jXtPzNzxt5je++6C7su1ChtaYFSiru7uzvFSqm7OxVaKO7u2hanSNFAICS4a4Fkrfv3RyCb9nSfOfP+3pkzc04+1/W9EsIK30WbZvXO/Tz3c/CwEASPiUBETBLS8gpwcHHFxatXcOPObVy/cxO3H9zBizcvERsfg8joCISGhyAk9A2C3wUhOjYCMfERCIsIQWR0GEJC3yAkNBiBL5/j0ZOHuP/wHp6/eolHz57i0rVrOOPrhzO+fvDyOwtHVzfYOjvD0d0dJlZW0DMxgYGZGdR1daGkoQE1bT2uSFPX0Ye6jj409QznnTM97vdV1HWgrKbNnbO2MCNNQloBJ8Wlv+pHO3xUGILHRHDwsBCnrHPPAWzftY+7Fou1hZ6zxcJsQYj9mnu2IO4WAkU2bN6G1es2Y8v2PdjNfwi7+Q9B4MgJUvCYMCEkfIotfFJiTkFZY1pZTXtcXkm9T0lNi65rZF6rp2/8wcHBJdbH59yL6zfvBjx7FugQm5CgkpOTI1ZTU7O7sbFxI5PJXDI/N22h9YEn0njw4PFfx6+Jst7e3t8ODAz8fmxs7KfeiYnlQ0PT6/pGR/l6hiZ2dfWP7O8aHhdiDk6I0XuH5ek9Q2rtzH4jZveA5dDQuMvo6LjXxMSXC5PTM9empubuj0/NPJ2cmg2anp59NzXLipqYZsWNTc2kTHyZSR+dJHOo3aP5xY3d7/OqOj5mfqKXZlTRy1Mr2ytTKtqrkstpn5IraNVplR3VaZUd1emVHdVpFZzb9MqO6oyqjk+Zn+if0is7KjOrOisyquilmdWM4rSKjvfptYyCzKqOnLxqWmZNKz1lgs1OYJOsKDZ7LgxgBxEEEUgQxH0Wi3WLxWJdIAjClyAIF4IgbAEYzc7Oas3MzMjPzLAkhsenhQampg4NTczu6h8b2zI0NL1uYGBq1UL/2nzwyEKt+sKb93+bYDvp/AJbT+l99SmxkN1Tnovw98M/UL4vVo5TOCWPCwR95xgmhVMSuSDm/xKB9u33KykUig2FQpGlcHrTvtdjtligfW/emjPla4H2vd+JSaFQFCkUysk/s0QonJh+Hjz+hG9LGuvr63/HYDB++vTp08YPHz7sTkxMFHv5Mkj14sXLTs7O7he0NHSDpKUUEgSPnijZt1+gfvuOvczNfNsHNm3aNrmZb/sXvp93sDgBFZwY+IUyxoW1a+9B7N1/GAcEjuGQ4HEICZ+C6CkpyCurwcDEDGd8veF6xg0Bl8/h0fMHePn2BUKj3iE0KgzB4SGIjItEfEocktITkZAaj7DodwiPCUNo1DuERAQjJCIYgUGBCAx6gRdvXuLR86d4+uI5bt69g6s3b+DStWs4f/kynNzc4OHrDQc3F7ic8YCVgx2MLc2hrKkOdV1t6BobQ9vQELrGxjAwM4OWgQH3MW1DY+gamUJL3wiaeobQ0DFY5KKpQVpOGVKySjglIQsRMUmIiEly3bQFgbZQ6rgQHLJjz35s38VJdNyyYw9+3r4bm7fu5Kwtu8C3dQ+2bN+LbTv3YesOfvy8bQ82b/lanH1b5rgg8rbt5MchwePYzX8IQsKnICR8CmKnZUmx07KEtJwKW15JY05aTmVaQUlzTFlNp1dWQbldQ0P3k6GhWYG9s1vE2XMXHt97+Ngr6N07i8zMTJmPHz8eq65u3NrczFgzPDz8R3wTx//Xfk3z4MHjb4jvCLN/WRBmQ0NDf+gGlvb3Y2XPyMjGgYHxrcz+kX2M3jHBjt5RsbaeYRyyf3IAACAASURBVJkm5pDGZ/qgYW1Hv20drce1md7nPzo9e4XNJu6z2cQzNpsIZrOJCDabTGCzyVQ2m8xhscgCFpssZrHJMhZBVs2RZE330Jf63MqWxvSylpbUqo7WpHI6LbGisz2urJ0eV9beGVfW3hlTSmPEltIYcWU0RmwZjRFd0saIKaUxoktojOiSts7IkrbO8I9UelhJa0dESRstori1Nay4tSW6vKMptqytPqGEWvu+trVqZHqunEWyilksVhFJsnNIkswgSTKBJMlogiCCCYJ4wWaz77NYrBsEQfizWCzPubk526kvbFN6/6hG58C4QsfgqBi9b1iovX9kX0f3xI6ekZGNjMHBNd3dWNoO/NDb2/vbRelPXwm1/+q/U1GnwIl/+e0fsZRvP0Qdnrv9V+/H438co5Tviyt9CkfsbPyV77tQOG7Vn3PQDlA4Yu/XyiAjKJxwjz9Qvh/u8a1AM/nO9z/P73Nu0T4t3zmOn0Kh/DuFIzwPzz9Gp1AoNykUit/84zznmMef8O01r6am5rfNzc1L6+rq1hUVFfEnJqaKPH0aqH3lyhU7W1v769pa+i/FT0mlHzl8vHjXrn0tW7ftYm7ctHVkw8Ytkxs3bZ3dtHkbi+/nHQTf1l3cUsadew5w3Ztdew9izz4B7Dt4BIcEj3OdMwlpBWjo6MPQ1Ay2TvbwDfDDs1dP8DYsCKFR7xAZF4GQiHcIiw5HUnoi0nPSkJiWgOiEKLyLDEZY9DtExIYhIjYcgUHP8TbsDV68eYlnr57jdUgQgt69wf3HD3Hr3l3cvHsHV25ch/dZP3ifOwtHd1e4+3jB0NwUeiZGMDAzgb6pMfRNTbl9aQviTMfICHomJtA35YgzLX0j6BiaQF1bH0qqWtxyRwVlDUjLKUNSRhGnJDjR+0LCpyB4TAQCR0581Yu2ELm/i/8AduzZh+27+bFt117uDDS+bX++tHHh/mI3bXEk/9Yde7F3/2EcEjwO/gOCOC4iDhExSUjKKENaTpWUkVcjpeVUCUkZ5TlpOdUZKVnlsVMSsoNS0krtapq6n41MrPJtHZzjvc6ee3jlxp1z795FmialpioVF1cI1tXV7Whvb1/Z3t7+Ay88hAcPHv/P+J5bhl+SF/8IYOng4PSa3tHRTT1DE7sGRucOMgZGRNr7h6SozCGNZnq/YR2936G6vd+zvLX/Unlb3+1iam9gcRMz+FNrV+zAF3bKDJvMJUnyPZvNLicIopogiAaCIJoJgqARBEFnEySTIMhukmT3sUlyYHB8bii/un04pbxtJKmiYzShomM8sYI+nlBBn0gsp08mVHRMxpe3TUaXtUxGl7ZMRpZTJ6PL2yYjy6mTUeXtk5HltMnIctpkRDltIqy0bSLkY/P4u9LWsZjKzpGIUtpwVAltKOZDy8CH+va+SRbRQxAEkyDmOkmSTSNJkkoQRANJkrUkSZaTJPmRzWbnkiSZzmazY9lsdtgcmx04NcO+T2UOXmrqHvGt7x5xqOgYMKuk92jU0AfkqT0jIu29Y4L0nqFdjP6xnwcHB9f09k4sn//z/N2ifrX/lhJIUafnWaJOgXX/VT+fx/9ofk0Y/bl1jcLp9VqcetjxZ44/QuGIsP+b0kOLRfv8muO3eJ+FGW3/mT2YFArl2Pw58uDBZdG17zdUKvVfh4eH/9ja2rq8tLR0a15e3qHg4GCFe/fuGbu4uPkbGho9lJSUjRc6JlKwZ8+Bhi1bdtI3btoytG4938S69Xwza9ZuYq3fsJXYtGkHuWULR0AsLmdcECN79x/G/kNHcUjwOE6IctIa5RTVoKymDT1DM9g4OMEvwB/Xbl/Fs1dPEBLxFpFxEYiMi0J8YhySUhKRnpmK5NQERMdGIC4hGvFJ0YhNiERE9DvEJkTi2YvHCAl9g4ioUISEvsHz18/x/PXzeTftMR48eYSrt67j/uNHuHDtCnwC/GHtaA837zM4c9YX1o72sLCzgYWdHcxtbWFmYwNTa2sYmpvD0NwcptbWMLOxgYGZGQzNzaFtYAxNXQPoGBhDS88IGtoGUFHX4bppUrJKkJRRhIiYJI4eP4nDR4W5vWj7Dx3lxu8vDLP+dnD1lh0cJ41v207uIOuFx7fs2I2tO/Zi64692LJ9z5/0r/Ft3YVdew9C4MgJCBw5gSNColxBLCWrCkUVHcgqaEBcUomUklUjJGVU2KellOZExKS/SMmqjCqr6fSpa+pTNXWNPpmY22Q4u3mG3bhx+/qzwJfu8fFJmtnZ+acramv3NDa2b2QwGD/V19f/btH1nRcewoMHj/8834Z+LAr8+OP4+PiS6enpNaOjXzb1Dk/s7h4YPdQxOCrWNjAm29I9rNPMGDKv6+hx+9TW419B7b5V2tL95ENTd0hhU3d0YWNPen5Td15RQ3sJtXukaoYg6lkE0UKS7HaSZDNIkt1Dkuw+kmQPkiR7GMAoSZDjBHtmgiDZkyNf2NOF9fTp1IrWL0mVtJnEirbZxIq22eTyttnkMtpcQkUbZ5U3z8WWNc1FlzbOxZW1zEWXNs/FlrXMRZdS56JLqXORJS2zEcXNsxHFzbPhxc0z0WWtX6LK2r9Efmydjn3fMlVST5+YnCXGCYIYJQjWCOd8yH6SJHtIkmSSJNlOkmQrQRD1JElWs9nsEhbJKmSR7PTxWXZ8I30gpI4xFFjVMXSrqKn7YkFLl9sHao/Np7YBndrOQaUm5qAYlTl0tLN3eDejf2zLYqG2qLn4rx4qwuNvniuUv1zMTFM4fV/ClK/LF/f8medoUTi9bNf/g5+d+Z3H/Cmc5EcKhSPQZv6Dff55/tjLf+Hv00vhzEcToHxd1snj75xvrn//1tTU9Pv6+vqVtbW1mzMyMgQjIyOlbt68aeHu7umto6P3TFZWIUZA4NjHvXv2f+bbvI25YT3f4Np1m6fWrts8s2btJvaatZuIDRu2kXx8u7B1K0cwLDhnC/HyC+uAwDEcPioM0VNSkJZThrKaNjR1DGFt54yz5y/hyo3reBz4CG/DghAZF47wmDBEJ8QgOTUJyalJSMtIQVJKPJJS4pGemYLElFhEx4UjOPQ1QiPe4m3Ia05vWlwkIqJCERr1Dm9Cg/D89XM8e/UcT18+w+PAJ3j8/Bmu370NL38/ePn7we9CANx9vODk4QZbZ0fYOjvDysEeFnZ2sHKwh5GFOUysLGFsaQlTa2uYWFnBzMYGWnqG0DU0gbG5FQxNLaCjbwJVDV0oqWpBUUWTW+4odloGJ0RP4/BRYRwSPP5VYAj/AUHwHzwM/oOHuQJt6849iwTajnmBtrB+EWgLg64XRNq3sfw79xzg9vkdFxHHSXFpyMirQEJaBYoqupBV0IToKTlIyaqRp6WUyVMSimzhk1Ks01IKX2Tk1cYVlDV7VTX12zV0DCtNLWxzvX39gy9fvXEn8OVbp6jYBN3cwkKRT58+7WttbV3HZDKXzP8/iivS/tqvdR48ePwv4BvH7DcA/nkh8IM5Pr6kvx8rR0exeWJ2dufY9JzgyMQX0fa+caU2xrBufdegXS1j0LOK3n+1kjb4oLh5IPhDY390QUN3Rm5dV0FuHbMiu45Rm1fPaMmpZbbn1nZ15dfQeqdYxBCbIEdIkhwnSXKSJMlpkiS/kCQ5Q5LkLEEQcyTJZpEkm0UQbPb4LItd0txJJFW1E0lVDCKxop1ILG8nEsvbycTydjKxgkYmVrSR8eWtZFx5KxlbTiVjy6lkTFkLGVNGJWPKWsmYsjYyqqydjChpIyNL2oiIkjYi4iOViCppISJL29iRHxvZ7+tprAkWweLsT87Nn8/M/PlNkSQ5DrBHCYI1xCbJfjZBdhEEQZ8jiJbxmbn62raeik+tgx9KWnozMmtoCSnVtOCMWvrTvIauq4WfO/0+NnfZlbT0GDd0DirR+kYlGL2Dgoy+yb300dHNjMHBNUwmc8nQ0NAfvlP+yBNqPP5f8k8UTjy9LYVCKaB8X8Q8pnCi6HUpFMpmCiftcTH/QKFQlCkUysA3z6VSOG7bhvl91lMolMZvjomY31uDQqH4UDix+KnzK4VCoayl/FK++C8UCiXhO+eYN7/Pv80f948UzrwzX8r3B2THzO+pS+GkN/LKG3lw+TYMZHR09MempqbVHz582J2amin09Gmg5oVLl2zNLKxuqqpqBB0/IZq9b9/Bis2bt7ev38DXu2r1+vGVK9d9WbVqPWvV6g3E6jUbyTVrN5GbNm8H35Zd2LaDHzt37cPufQLgP3gE/AePYPd+AfAfEMRBgWMQOHoCx4RP4pSkDGQVVKBnZAYLa3s4uLjD09cP9x49xOvgIIRGhSI49A0iY8IRlxiD6NhIRESFISklHsmpCcjISkVmdhqiYyMQEhWCqLgIhEeHIjE1HnEJ0YiOjUBEVCjCo0IRHvUOwaFvEBoRgrfvghAS9hav3r7E05fPOW7a04c4f/UiLl2/Av9LAbh88yo8fbzh4OIMFw8POHt6wMrBHua2NjCxtIa1gxPMbe1h4+gCQzMLmNvawcLWDmbWNtA1MoWGrj40dfWhqqUDOSU1SMkrQVxaHiKnJHH4mDCOHBeFoJAIDh45jkNHT0Dg6AkcPnYC+w4JYOdefuzetx879vBj++494Nu2neum8W1bLNR2YcsOjlDj2/bL7c/zt+v5tmID33YcOXESgkIiEBIVx2lpeYhJyuK0tAKU1XQhJ68OKWllyMqqQVFRC9IyKpCUUiKVVHXIU5JybClZ5TkZBdUpeWWNUXUtA6amnlGzibXtB0dXz+RzFy4/vnv/cUBwaLhxUmqGfG1t48GGhoYtPT09C/PSFq7rvGs6Dx48fp1vGqF/A+Df5oMsfuydmFjeMzKysXtwfPvY1JTAly9fRManoDQw9kW3hTFoX08f9Krs7LtR1d73uKS1N7S4pTehqL4nt6Ch52Pu556azM9djZmfu9qz6zqZOXUdfTm1jKGc2q6x/GraxNgcMTVLkF9IkpydF0Ks+cUmSZIgCIIgSTbB+ZIkp+bYZHkLk0yq6iATKhlkUiUdSRUdSKykI7GyA4mVHUiqoiOhqgPxle2Iq6AhroKG2PK2X1ZZO6LLOxBV1o7IUhoiS2lkbCWdTKiikZGlbWTEx0byfWMHOc5mz+9PEvPnw54/tznO+bJn2CRriiDJSRZBjhEEMTxHEH0TM+zumtbu9iraYMvH5t6alE/tZQkVrblJVR0pmTWdoZnVnS9y6jpvFDR2+VfQeu1rO4eMmzsHlehdo+JtPWMCrb3Du9t7RjYODEytGuUM714offzKUftrv2Z4/M3wjxSOy7WPwgntUKdwHCmt+fuKFI6QWUv50+j8BX5LoVB2UzizzRY/V5xCoSyfP+Y3FAplO4VCkaBwBJkWhdOHdorCEYn/TuEEdsjOLxkKhbJu/vwWWEXhOHiL91kYVL1YOP7j/LEH589/8e+kPL/nOgrPOeOxiMUfUC7E6Dc3N68pLa3empycfOL162ClgIALjrb2jpcUFFVCREXF03bt2V/N9/P2tjVrNwysXLVubNmy1TNLl61irVy5jli1egO5Zu0mrFm7CRs3b8PmLTuxbSc/9uw9iD37D2OfwFHwHzqCvQcFcfCwEAQOC0FQSBhCImKQklOEurYezKxsYePgDFtHF3ifO4fA16/wIug1nrx4ildBgQiLCEFMXCQSkmKRnJqA5NQEJCTFIiklHvGJMQiJCEZwRDAS0hMQkxiNhNR4RMdFIiomHLHxUYiMDkNcQjSiYsIRERWKhKRYxCVE403wKzx89giPnj/Go+ePcf3ODdx+cAd3Ht7F1VvX4H3WD77n/OF7LgDuXt6wc3GBjaMzTK1tYWXvCHNbe1g7OMHMxgaW9vYwt7WFqbU19E3MoW1oyInq19KCgqoGZBRVICGrCDFJWQiJikP4lCRHOB0XxTGRUxA8LoqDgkdw4LAgDhwWBP/BQ9i+ew+2796Dbbt2Y/tufq5jtngtOGk/b9+Fbbv2csofd+wG3/Zd2PDzNqzn24bjJ8VxVFgMcspqkJRTgoyiKuSU1SEnpwYFBQ3IyqpCRkYFsrKqkJJSgpy8GiRlFMlTUnKkpJwSW0FVc05WSW1aXlljWFFdu0dTz7DBwNSyxM7ZPdbn3IXndx8+834TGm6WWVAgUVZWJtDY2L6xtbV1+Tcx/LzrOQ8ePL7m2x6zBcdsfHx8CSd1cGbL8OTknu7+4ROM/jHp4clZ3YmpGauxqVnfvsHJqzWtvYFVzb1hxc3dacXU7vyPTd2V7xu7PufXddJyaxiMnFpmf2YdYyijjjmeXceYzKpp/5JT1zmTXcOcy6/pYI2zCDaLTS6IIC6Yh3OXAECABPCFDVS2dSGlio6kT11YEGhJFXQkV9KRXNWJpCqOWEtYJNAWxFpseRtiytsQXd6O6HIaoso4K6achqTqDkSWtiHiYzNKqEyMs9lYDPk1BEmyCTbJYhMkyWITHNE2RxJfRmfmpipaGeOlrb0juQ3d/QkVHd1RJW206NL2psRKemV8Of1DTGVrWnxVW3R2HSPwfVP3nbKWXt+yll6HsrY+3fL2QcWazuET1O7RA239Y1tau4bWMZnMJdSvHTVe6SOP/wr+kcIRUv88v35D+Vog/Uf80zfP/d5r8x8W7fFP3xzzD9+s7/EP3+zz7c/43jn95j9xPI+/QxY7ZwwG498ZDMZPVCp1bVFREX9cUpLo/fuPDHx9z7rq6xs+lJKRjTgkcPjDzl38n9dv4OtasXLt8LLlq6eXLF05u3TZKmLpslXkihVryVWrN2Dtus1Yu24zNswLtJ17DmD/AUHwHzqC/YePYZ/AURwQFMIRIVEcOcoRZ2IS0pCQkYe8shrUtfVgYGIOJzdP+AQE4NK1q7j78AFevHmJiOgwJKcmIDE5DonJcYiICkVichziE2OQkpaIjKxUJCbHISs/E8kZSUjOSEJCUixi5gXawrExcZGIT4zhlkbGxEVy5qaFh+BtWDDehgUjIjYSr0OC8Oj5Y9x7fB8Xr17Bzbt34OHtBQ9vL/gEBMDBzQ12Lpz5aTZOTrC0t+eKM2NLTvmjsYU1jCwsoKmvD1Vtbc6sNBV1SMgq4pSUHCRkFXFSQgbCpyQhIi6F4ydP46iwGI6LikFQSBh7Dwhgv8AR8B88jN37DmLvAQHs4j+Abbv2cgNEtu7cg60793wl1hYe27prL7bt5sf2PfuwdddeSCso47SMPORV1KGgqgFZJVXIKqlCTlENcopqkFVQhZKKFmdAuKY+FJQ1IKukBnkVDciraJASsoqEpJwSW15FY+a0jMKkgqpGv7K6doe+sXmlpb1DtqeP/+vrt+5cex0SZpWYmKJaXFwh2NzcvJ1Go60YHh7+47xI4zlpPHjw4PBtOeNCj1l7O37o7Z1YPjIysnFwcGLH0Nj0kb7RSfH23iFNaveQ2eDopNfo5JfLQ+NfnncNTYRWtXanlTYwCt43dFd9aOpu+NDU3fG+sasrv44+mFtHH8mu6ZzMrGNOZ9QxZ7LrmHNZNTRWTi2dnVPbTeTWdBBjc2ySTRIkfoUFgUaSbI5AIwhU03p+VaClVHUi+dMvIi2mgoaYChriqjj3o8vbEFXWiphFK7a8DTFlrYgvb0VECUeglbZ0YZJF/NppzZ8bm2STLI69RpAESbLZcySbNTozN1feypgpofZ8yW5gTMaWt46FFbcMRpS29cZU0DtiSmkt4eWtVRFlrR9TajrTsj4zogsbup4X1XffKqynexU0dNmWtfZr1naMydQwh440MYb3Nvb0bOwYGFjV3o4f6oHfLXpT54k0Hjx48Pj/wbfO2fx/nNdWVlbuSEhIPvn69Vt1Lx8/DxMzi5uS0jLRR44I5W3bsath0+atnatWrx9Ztnz11JKlK+d+/Gk5e8nSleTSZavIlSvXYuWq9Vi9ZiPHQePbhp+37cIu/gM4cFAQ+wWO4uARIew/fAwHBI/hyHFRHBMSwYmT4jgtLQcpOUXIKChDQ0cfBibmsLCxh6uXF27cuY3nr17idUjQ/PDpIEREhSI+MQaJyXFISolHanoSsnMzkJWTjszsNBS8z0NCchyS50VbVk46YuOjEBUTjsjoMMTGRyEzOw1pGclISIpFZHQYomMjkJgSj5T0JMQlxSIiOhwh4cEIfPUMj589xO37d3Dp2mV4+nrj8s3r8PTzhavXGdg6O8PBzQW2zk6wcXKCtaMjLOzsYGxpCXNbW5jb2MPY0hLahobQ0NODsoY2lNS1ICmnhNMyCpCUU+KUGcoo4LSMAleoiZySgKCQMA4cPopDR4Rw4PBR8B88jD37OemXO/cewI7dnCh+Thz/XmzfxY+de/ZjN/9B8B84jP0CRzni7pAgduzdjwOCx6CsoQ0FVQ2oaulCSV0LcspqUNHUgZKqFtS1fkmflFNUg5qmHtS19CGtoAIZRVUoa+hAVkmNlFfRIGQUVVkSsoqz8irq47JKKgMqWjqtuobGn6zsHFN8zga8vX3/YcDbt2G2WVm5siUllUfodPpmGo22guek8eDBg0Kh/LowGwV+pNH6VtRR+/g6hyd2dw+Pn2D0j8kwBycNGIMTdk2dfefr2/vv9Q5OvBsZn04cmWAVMoenKyqae5o+1DPb8xuYvQWNXYMFjczxogbmVF5tx0xuHX0up5bByqpjsjPqmER2HZPMru0gc2s6yLzPfcirZWBsjo1FhtmfQnztoM0SQB29nyPQKplIqehESnkHxz1bEGjz5Y4JFb+4ZosdtIUVU9aK6FIqR6iVUhFX2oKoUhoiPrailNqLKdafOS/OyYEEAQIkyPmvWSSbHJ2ZIytbGURxSxeRXUdnxZQ2zoV9rJ8JL26ejqmgjUeVNg2HlzT3RpS0dMZXtDclf+qoTqvpLEyrak9LLGt5l1ja8jSzmnk+r77HraCBbpDX0K30vrn7RHnHyP66zj6+ZsbgGvro6I/19Vyhxo3u5b3B8+DBg8dfDn7FOfv48eP+xMRUsdv3Hhh7evmd0dDSfS4hIRO3b79A2dZtO5vXrt/ct2LlWm5J45KlK4l5cYZly1dj1ap1WLV6PVav2YC16zZh48/bsGXHbuzZdxACh49B4OhxHDwihENHj0Pg2AkcOS6CE8JiEBY7DVFxSZyWloOkrALXQTO3toOnnx/OXbyAC1cu497j+3gT/ApxCdFIy0hGZnYaV5jlF+agoCgXOXmZyM3PQkpaIrJzM5Cbn4W8gmykpichNj4KcQnRSM9MQWZ2GrcsMj0zhVsqmZmViuycdCSnxCM6Jhxh4cEIeccRhvefPMDdR/dw9dY1+F8KwIVrV3Du8kX4X7oAD19v2Do7wsrBDqbWVrBxcoKdiwss7OxgYctx14wtLWFobg4NXQMoqWtBSl4ZcsrqkJJXhoyiKsSl5SEpp4RTUnI4JSWHE6KncUL0NI4ePwnhkxI4dkIMh48K4/BRYezdf5g7pmAheGXPPgHsP3QUgsdO4tgJcQiflIDwSQkcPymOQ0eP44TYaYhLy8HE0gbKGtrQ1DOEiaUNLO0coaVvBFMrW+gamUJdRx8augbcwduc+W7GUNXSg6qWHlQ0daGiqQtZJTVSRlGVUFTTmpNRVJ2WU1YfUlHXZuoZW9SaW9kXenr7v7t67dadkNAo+9TUDM3S0qqjdXUtO2i0vhVU6hCvJ40Hj79nvhFn/0ylUv91Ybj00ND0uoa2/i35n9oEmnonxGj9oxr03lHzjv4Jn46Byeu17X1BVa3dMcze0byhsS9lw5Osxs6h6fay5u7eos+MobwG5nh+A3OqoLFrpqiBOZdX28HO/dxJ5NTRyazPTDLzcxeZ87kbOXWdyK+lI7eulyPQZufLCH9NC80LNAJsrkCrZwwitaIDSZVMpFYykFpBR0pFJ+d2XqAlVXAE2q/2oc0LNO4qbUVsSTOiStoRUULjCLQ5EiRJ/hkB+bVAI0k2WCQLYzNz+NTKIEtbusi8WjoZX0olokpa2JEfqay4CtpMbGnLdFRx03jkh4aR+DJqb2o1vTOlmt6YWNFaFVnclBf+oSUproIelFTddS+xstUnrpRml1hJ10iv75b60NwjUFJP31lW17qO2tOzbGBg4PfzZY/cIZi8N3cePHjw+MvAorTGhZ6ziora7ampqWKvXr3RPHPG18vY1PKu+GmphEOHjhX9/POOlvUbNnevWLl2bNny1V++FWdLl63C8hVruAJtzdqNWLd+M1eg7d1/CIJHjkNQSJgrzhYLNFFxSYhLyUJSVgGSsgpQ1dSBgYk5twft6s0buPPgPgKDXuBdeDAiokIRGx+FtPQkpGck42NxIT58LEBefhYys1KRmZWKtIxk5BdkIy8/C+mZKYhPjOEKu4ysVKRnpiAhKRap6UlITI5DSloiij7kI78gG6lpiUhJTUBiUiySkuMQnxCNkHdBeB3yGvce38XtB7dx894tnL96ETfv35lPezwDBzcXWDnYwdLeHp5+fpweNScXWDs4w8bJCYbm5tAy+EX4KKppQU5ZHTKKql8Js5MSMpwADyl5nBSXhpDwKQiflMDho8LcmWkHBI5j555D4D9wBAJHhCF4TBRHj4vh2AlxnBSXhdhpOUhIK0FcUg5ikjI4JSULEXFJyCqrwMDMHGo6ujCx4owHcPXygqG5OawdnGFp5whdI1Pom5jDyNwKxhbWMLO2g6GZFVS19KBtYAJlDR1o6hlBRlGVVNHUJdV1DNjKGjpzKpq6k8rqOsPaesYd+oZmdZa2jpk+vgGhjx49u/gmJNQ+OztPrrSq6iidTt/c29u7fL7n/1/A6zHnwePvi18XZkPrBsbHtzIGxwSLG7rE3yZ91Cmm9ll/ZgwE1NH77zZ3DYe19Y8nV7X2fqxo6apu6xygDYxMdw2NzQ51DkyOlTb3TBfWM2fyG7pY+Q1d7KKmHuJ9YzeZX9dJFtYzkPu5E7n13ciq70bO527k1jFRUMtA3rxAG/7CAkGQIIlvxBA5b4uHfAAAIABJREFUvwgWFkocAQIsNlDPGEZqJR3JVUykVDGQUtWJlAoGUisY8wKtkyvQYis7EFfZjpiyxeKMxgkKKaUhqoSK2PI2JFbSkVHHRFRZB6LLO1BK7cPkLAmCIPDrBt8vAo0AQIIAm2Rj/MssPjV3oqylG/mfu5BSwUBsaQcZWdxBxlcyibgKOju6tJEVXdw0m1DRNp1UTZ+Iq+gYiilr73n5sY32qqit/u1Hxsewcmbmy/y6sGfZjU8fZ34OCHrf5hxZ2qYTlvVJNjq3QvB9PX1X19D0ut7eieU8ocaDBw8efzmLPrD8DRalNZaWlvKnp6effPzgqbGvb4CXlo7+i9OSsgl7+Q9W8v28rXX1mvUDy1esGV+6dNXskqUr2UuWriQXi7Nly1dj+Yo1WL3IPVu/gQ+btnDSBvkPCODI0RM4JiKGo8InceSEKI4Kn8TRE6IQFjmFk6elIC4lCyk5RcgpqULX0ASmljawtneCs6cnzp4PwOXr1/DkxVOEhL3lljdm56QjKzsNGZkp3PvZOenIzctETm4GUlITkJaehNT0JG7C40JZY3JqArJy0pGRlYr8whyuA5ealojcvEykpiUiJzeD66glpcQjPDoM7yJD8OTFY9x7fA93H9/Hzfu3cf3uTdy4dwsevmfg6uUOVy9PuHqdgaO7O1w8vWHv4s6dn7YwJ01L3wiaekZQUNWEiqYuFNW0oKyhw3XS5JTVISmjDEkZZYhLKkBcUgEnRCVx7IQ4RE/J4ISoJE6Ky0L0lAxOSynitJQiJKSV5m9VIC2nDglpJUjLqUJaXhmScoqQVlCGobk59ExMYGFnB2dPT9g6O8PZ0xPmtrbw8D8LJ68zMLO3g4OnB0ztbGHl7ARrF2doG5hATVsfesbmMLG0hb6JBTR0DaGuYwBlDR1SXkWDUNPWZ8krqn9R1dAd0dI16jExt663dXT94HfuQtjtOw/uhkfF2Kdn5WrU1NQINjXRtvXMf+AKXgQ/Dx5/Hyy6CHFDQAYGBn7fOzGxfHgY64eHJ/f0jY8fbeodV8isZupfDMr0yKjrvlzJHHxVTeuPruscyG/uGSuvZ460VLcPdLZ09g70Do+PDo1+mWIOTM2UU/tYRQ1d7Pz6bqKgoZv80NxDfmzpRWE9A4X1DOTV0ZFX34Wsz13Iqe9CTh0DBbXdyKvpQn4dA8PTBGZmWSAJAiBJsGbngPn7nEUAJAESLBAkGyw20NgzibRKGlKrOpFU1YHkig6kVTGQUkFHcmUHUqs6kTyf6Bj7qR1xlTQkVNAQV9aG2LJWxJbREFfWjugSKmLKqIguaUZsKRVJla2ILqMhqrQN5a19mJojQLJJToUl5k+Ha/ZxJNnC1yyOPMMMi4WRLyxUNHejpG0E6bU9iKnsRPSnXoRX9iCqZoAMq+oig8vaiZAyGju6uocVVzs4G1LWNfW6hD7+sKhj4FFhZ9ezQnrL6+LOmsc5dfm3MxqSriWWv7qb8fn2s+x2j3uRJRZ3wzIV4ooaRRnDs3v6+kb55meo/fC9EJG/9muQBw8ePP6nsXBdpFKp/1pfX/+7jo6OVdXV1VszMzNFQkJC1M76XvC0tLS7e1pSNkHg8LEPW7ftal27fnPP8hVrJpYsXTmzZOlK9k9LVnzlnC0ItBUr12L1vHu2fgMfNm7ags1bd2DLjt3Yd/AwjgmJ4PhJcQiJnsIxETEcPymO46KnICxyCmIS0jgtLQc5JVWoaurAzMoWdk6ucHLzhLOnJ3z8z3JLHF8GBeJN8CuER75Dcko8V5wVFOYgJzcDWdlpyMvPQn5eFtLSkzgCLisV2bkZyMxOQ3JqArc8cnFJZFZOOtIykpGVlYqiwhwUFmSjtKQIhQXZSE9LRHxcJGKTYhCTGI2gd68RHhOGN2HBCAp9i5v3b+Pqnavw8D0Ddx9PrkBzcHODuY09HFw9YO3oCBMrK+gYGUFL3wjGFtbQMTSFiqYuNPWMoKSuDQVVTa5QU1LXhpyiBuSVNLkCbEGEycirQUZeDUqqOlBU0YaSqg7kFDUgp6gBBWUtKKroQklVD3KKGlBU4QSSSMkrQUvfCM6enjA0N4e9qytcvbzg7uODgCtXYGBmBr/Ll2Dn7gYzezvYubvBxNYGFo4OMLO3g6a+EXSNzGBoZgVzGweYWdtDx/CX0kcNXUNSQ9eQUFLVYqlq6E5r6hiOGptZd1paO9a7enplXbp0LezZsxcXI6Jjbd+/L5aurq4/TKPRNnR3dy9d9EEr7/rNg8ffKotcs9+AE9P+u4mJiWVDQ9PrhocndvcNjR/tGhhXoPeNGVQzxj1jS+lXLS68CYr8QI8vbht+X9Lc/6mcNkQro/Z1lbT0DJdRB8Y/0we+dA5OzfaNs9jtfRPEp/ZhsoTaT35oHUBh6wAKqQMoog4ht7EfhU0DyGvoQ15jH/IaepFX34WCz50c8dbUjcJ6BrrGvmCaTWCOPYdZko0Zgo1ZEpghgWmCxDibxBiLxBRJYApsTBJAfdcY0itakV7NQHIVAymfmEj61ImETx1IqulEUg0T8dUMxFYxEF/dhcQqJhKqmIit6OSIpapOxFbSEFvegvjyZsSVNSKtmobESiYSP/UivpKBstZuTLBYYJMzIMhZAHMAWFjohwNBAiQbIFkAOQcSsyAxh/FZEg09X/Aisxl3khphdjMB+pcioXc5Boo+wVDwCoKC5yvInwmCvOdrUvNcBKl5LpIQtrrPFjS5OXfC5v4XIYu7kxp+74YNL0b2Wt6Mpp17Xfj5bkzV+9ux5WkXgguCrrxKv+t47bXnvbgii6auKQVGz4RI7/Dw7t7R0U09ExPLAPwRv8Ty897kefDgwWMRiz60/BcqlfoHGo22oqysbFdWVtbxp08D9QIuXHDX0zd8JiOjEM+//1Dllq07W1etXj+4dNmqiZ+WrJj74cdl7B9+XEb++NMKcumy1Vi6bDWWLV/DvV2xch1Wr9mItes2Y82GzVi7kY9b4sh/SBBCIpxSRpFTEhAWOw0RcSmInpbGCTEJiEvLQ0peGapautA1MoWZjQ1snZ3hcuYMzvj64fzlS7jz4D4eBz7Bm9A3CIsORWJaAlLTk5CemcIVafkF2SgsyEFBfjayc9KRnpGMtPQk5OZlIi8/i+uw5RdkIyc3A7l5mSgozEFefhb3mPcf8vHhYwE+FheiuKQIeflZyMhMQU5uBtIzOQOxE5PjEBUTjvDIdwh+F4Sg4Fd4GvgYF66ex/krAbh8/Sq8/c/C3tUVju7usHV2hLmtNSzsbLkJj+a2ttDSN4CxhTW0DYyhqWcIXSNTGJhaQMfQBFr6RpBXVoWckgqk5RWhqKoOFQ0tqGpqw8DEDLqGhjAys4CBsTk0dAyhoqkLHUNT6BqZQV3HAAqqWlBQ1YSSujbkldSgqKoGa3t7+AWch6mlFfwCzsPD2wf2zi7wPusP77P+8PL3g7OnOxzcXODk4QELOzuYWFnB2NISNo4uMLawhqmVLUytbGHj6AItfSOYWNpA38QUukYmUNbUInUMTQh1LT2WqobOjLGZ9aiJqVWPnb1LvYubx3v/c5fe3blz/1ZERLRVTk6+cmNj40EqlcrHYDB+mi93/A3v+s2Dx98gi0saAfzb0NDQHyYmJpaNjo5uGh6e2N0zMiHaPTiu1N43ak3rHvX+xJh6GJrXFKLt+iDzRUptcUYFsym3mtlR1TExUEEbHv3Q1DOdU90+86GewWrqHifaB76QzV3jZGXrAD40dKOoZRC5jX3IrOtFRm0/4ss6kVTehbTqbmR+7kdOQy+yaxnIq2ci/zMD2TWdyKrpQNvgFIa+EBibJjA0yUbnwCwa2kfwvrIDeWWtSC5owNvY98ivaMUnai9qqUNIq2QgprQTUaVMBOa2IPhDJ57nNuNuSjXupdbienwVLkSW4WJUJS6Gl+JCWAluJ33G07x2XE/9jDtZTXha0IrgUiaiqnoRVkbH6/xmPEprxYXQSni/yEdQVjU6J9mYYs9hjv0FLGKWkyRJkiDZBMfkYxMAewYgZgByFmxiBn3jc0guoUHzzDPonQ3GSdPrEDG5BSXnF1B2eQV1jzfQ8XoHPb9Q6PuHwf1JHlweZpHW1xNI86uxhOGFcJbmmddzhn5vpvU8n42b+b8c0HO+w/R7GNd0LSi78nlyVeaT6PfRtpdePvR5HnehqnPUurlrWKu9Z0R0YHTqYO/o6Kb+fqxcNOSaV/LIgwcPHvN8c238P1QqdVlNTc2mjJycY2FhkQoXL152sXNwuiEtqxh7TEikaMuWndS1azf1LFu+auLHJStmfvhxGfuPPywlf/xpOX5aspIrypavWPtdgbZq3Uas2bAZG/i2YvPWHdh78DCERMRw8rQUTp6WgpiENERPS+OkhAxOSshAWkEFskpqUNfRh76JOUytrWHt6Ag7Fxc4u3vA+6wfrty4jvtPHuBV8CuERr1DVDwnNj8uIRopqQnIyk5DTm4GCgpzkJvDcdKSU+KRlp6EvPws5ORmICc3A2npScgvyEbR+zzk5mVyn/f+Qz6K3uchLz8LH4sLUViUi+ycdGTnpHMcuYJsJKcmcJMjE5PjEBsfhejYCISGB+P5iye4ffcGbt2/idsP7uDKjWtw8nCDk4cH3H28YOPkAHtXZzh5cGL5zW1toWdiAnMbe+gYmkBD1wAmljbQNjCGuo4+tPSNoG9sAhMLSxiZmUPX0AiaunrQNTSCnZMz7Jwc4eLhDis7e1jZO8HK3hm6RmbQ0DWAvIo6FNW0oKSuDTVtfahrc57n4e0FLz9fePp449a9u7C2t8O5ixfge84f/hfOc8WZs6c7nDw8YG7LEZRWDg5wPeMDQzNLWDs4w8reCQ6uHjCztoOdsxu0DPSha2wMdV1d6BqZklq6hoSGtgHL3Mp+Wk/PZNTUzLrT1Mzys7u7V8a585eCnz5/cTYuLs6iqKhYvLq6fn8zg7FmdHT0R178Pg8ef2N845r9C4DfjY2N/TQ8jPWDExM7uofHTzCHx+XoA6MWbb3DZ5q7hu/XMwaCE/Jrsk5r2pZo2pxvtvS40xmVVjF4+1Xi2LVn8V88rgTOWnhcY2tZ+xBiKiakjLYNaeroDyN7P2hbeELV0BmS2s6Q0HSCqpk/bPyewtzrMazPPofP/Shce5OBa69ScOVFEkJSKxCdU4vA6CK8iCpCUEwBnr9LR0Z+Ld5XtON9TReyS2kobehDbfsoPrePo/zzAIrKW5HzsQ41Tb1Ift+CRxGFCHiSCL9HiTgfmAb3GxHQdroFYVU38EtYYr+ULQ7JOUJA0QXHVDwgpHYGJw3O4ZiuL06ZX4Kw0TmctrgEA5/nsL8eDvurYdB2fQqr8+FwvBqH28EFyK7oRCtzEP0jUxifYmNqhsTUNIHJSQJjk2xMTs+BNccCwWaBxWJhfHIazMFZJOTVwtz9NgztLsH13GNYe93Ehbtvce9lHJ6HpuNNdB48Lj3H+XuhuPs6BVaeN3H+3jsoG7mDX1id3C+iQQie1mGfufhkziPg/peQpPyJqta+wZjsym6+w6ebfz4oXbVH0iBL3MQ7+n3L8P2KtoGAxu5Ri6aeUbXO/uETzJFJ/uHh4fU9PRPL8MuQa96ncTx48Pi7ZvH1saam5rdMJnPJp0+ftmTn5wu8fftO/erV6/am5hYPFBSUIw8eOlK6bfuu5lWr1w8sX7Fm4sefls8tiLMfflyG7wm0hduFeP3FDtq6TT9j89Yd2CdwhDvr7JSkDE5Ly3EDMaTklbllffom5jC1suU6T27e3vA9F4CASxdx8eoV3Lp/Gy/fvuAMog5/i+jYCETFhCMlNQHpGcnIy89CQWEO11FbWAs9aXn5WdxjcvMyuc/LzctEdk46cnIzUPQ+jyveFp6z0IuWmp6ElLRETinkfF9aYnIcYuIiERYRgqC3L/Hy9fP5QddPcPPuHZy/ehlnL56Dl78PPHy94eZ9Bu4+XrB1doa1oyP0jM1gbGENcxt7mFrZwtjCGrZOrrCyd4KlrQ0cXV1gZWcLGwd7eHh7wdXTA05urrB2sIWtowPsnV1gYesASzsnrvumb2LOEXgmFtDSN4aJhRUsbW1xxs8LV25cx4Mnj+F7zh+Xrl3FGV8fnL98CZevX4PfhQCcu3wRnn4+8D53Dm7e3nD18sKZs2dhaefIXdYOzjC3sYelnSNMLG1gbGkOfVOO82liaQNjc2vS0MSS1NYzZmlo6M0YGpmPGJlYdpuYWdZa29jnX7ly8/W9B48vR8XGGmfm5srU1jbuaWtrWz88PLxQCcPrR+PB4387iy4+/0SlUv913iZfOjQ0va5veHJv3/C4EHNoQo3eO2pO7RoIaGYMPqjr7I+pbevLzi5trlYzc6Wevx/c43c9cPjKnaCpq4/DZxx97rGuP41h61p6k7rWPqScth0kVcwgrWaOk3L6UNS2xWlFUxyTMISAqA7UjbygZ3kOovJmOCSqDWktR4ir20BIzhgnZM1g43kP9l53Ia3pBBE5SwhJGEBUxhjnrjxFQmYFnkdmIaGgBpXUHjQxhtDCGEF00nvomDjCzt0fd54EIyKuAI9exOHy3RDceR6HR68SERyegycvkuB/6QVUtZ0hLmeKvYIK2MIvAb7dpyCtZotNe8WxcvsJ8B2Uwg8bBbFqhwi2HZLBxj2nsOuwPDwvPsPuIypYv1MCm3dJ4FFgArLya1BcScWnOgZqG7tQ28BATX0nSqpaUf2ZhsnJWUzPsNHdP4q2riFUNjCRUfgZtx9HIDgiG3GJRQiNzkV4bA6CQ1OQkl6MT3WdSM4uRVpeBZ6+jcOlOy9wxv8OzO38ICyhhWNiaqS4rB5p43yeCLj6jHUr8N2sm9+tKQ0jx1FhWY0eIUnNdiEFq2p5m4Ci3Ia+mI9N/S+q2voCauhDjk09Q2ptvZOnGMOTe0dHRzd3d2Pp0NDQH76dm/bXfq3y4MGDx383C6EgVCr1X0dHR39sbm5eU1hYeCAqLk7i6vXr1i4ubucVFJXDjgmJ5Gzfsadp/Qa+rmXLV48vWbpy5o8/LGX/8OMy8ocfl+Fbgba4zHHFynVfzT9bvX4T1m7kw/rNW8C3bSf2Hz4KIRExrjiTkJGHhKwiJGQVIa+iARVNXahp68PA1AJmNrawcXKCg5sLPHy9cfb8BQRcuohL167ixt2bePjsAR4HPkJg0HPEJUQjJi4SiclxSEiK5ZQhZiQjJzcD2fMrJS0RCUmxyMxOQ25+FvILc5CTl4m0jGTuYOuF0sWUtESkpSeh6H0esrLTUFCYg/cf8rllkRlZqdx+ttz8rK/KHd8Ev0JI6BsEvwtCYNALvHz7Co+eP8a1Wzdx6/5tXLx2Cb4Bfjh74Rx8/M/CxcMdto4OsLZ3gKOrGxxd3WBpawcHF1d4+Z3FGV8/+J7zh5efL1w9PeDh7QXvs37wPusHH38/+JzzxbmL5+HldxaObp4wt7GHvok5DEwtYGxhDQtbB9g5u8HQzBJ2Ti6wc3LE5RtX4OXni1v37uLsec4A8IBLF3HnwX3cf/wIdx49wNXbNxFw5RL8LlyAm7c3vPz9Ye/qCl1jY5jb2sLCzg4GZmawdnSEmY3NfLmmNYwtLWFiZQUDUwsYmFhAW8+YVNXQJTR1DFh6hmZT+kbmI7pGpu2Wtg7Vzu5nks5dvBL44kWQR2RMnH5xcblQXV3LjtbW1uVNTU2/X1wF89f+98ODB4//C74taQTwQ38/Vg6Mj28bHJsS6B0el6P3jxvSukd9qMyh2/WdAxGfO/syajoGqqpoAy3ppU09Yqqmw/L6NlM2Zy7NWLv6s7wv3CWevkkgvQIekY9eJiAq6SOKytpQUNyCwLfJCI3LR3ZRIxLTK3H7QTgCXyfh8vVAnPG9Dr+AW/D2uwlv35u4cOUJzl58iICLz5CaWYO3YTm4fPsd/C8Hwd33Mdx9HkHfLADmDjfh5BcIG6/7OHs1ELcehiDwTSpOShlj5wE5iEgZQ8vIBzfvR+DyrRBoGnpCUdMBUormkJY3xJHjCli3+SC27T6O3QfFsJZvP367ZDP+/Yf1+P2Pm/D7pZvxhxVb8Ntlm/HDyi1Ysmo7Vq7dgzUb9mPNpv1Ytmkbdh2WwAFhNRw4poHA4FwUVzBQUduN6sY+fKYO4TOtH59p/ahvHUJz+xA6mCNoow+irWcCTcxJlNV3IyrxPRw9r+PqvXd4+DoeNx69weU7T3HxxkNcfxiIC7efwN77Gqw8LsMp4D68r7+ER8BT2HnehmfAYwTcfIOAmyG4+SwR5+9GkY/eZBIxSVWslJxPsyn576fCYlJGrz2N7Ql4kdCeVdNVlVvbVfC+qSviY0vPk3Jar09d54BVC3NYjj48frxrYHzb0NDQWgA/APg/vJJHHjx4/D2yqO/s36hU6h/q6urWffjwYXdERITMnTv3Taxs7K6pqKi/PSQoVLRj55761as39C5dtmrsx5+Wzy70nC2IswWBtlicLV22muuerVq9geugrV6/6asSx8UCTVpeCdLySpBVUoOimhbUtPWhqccJoDAyt4KFnT0c3d3h4esN3/Pn4ON/jivQbj+4gzsPb+PFm0C8Cn6Jt6FBCA0P/iU+PzMFuXmZSJt3ujKz0/5kPlpuftZX0fpJKfHcRMeseRctOycdGZkpSE6JR0TkO6SmJSJpXgSmzqdCJqXEIzY+CilpiUhJS0R6ZgriEqIRFROOpLRERMVH4XUIR6w9DnyEu4/u4PYDzrpw9SJcz3hwhZenjzc8vL1w+fo1XLhyGf4XznNcrRtX8PDZI9x9dA8Xr13Cjbs3cf3ODZy7FIBL1y/C66w33L3OwM3bB56+/vDy94ebtzesHR1h4+QEexd32Do7w9XTE65n3HHl5mUEBr1AYNALXL5xBReuXsTFa5fw9OUzPHr+GP6XLsDL3w9nL56Hm7c3PP384ObtDSMLCzi4ucHEygr2rq4wMDODlYMD7F1dYWZjAws7G9i5uMDAzAxa+kbQ0jOCsZk1VNR1SG09Y0JdS5+lqqH7RVPHcEhd24BhaGJeYWnnkHH+/KVHDx8/901MSdf4+PGjSGtr688Lg6zBi9/nweN/J4vLNhgMxr8PDQ39YWBganX/2NiWvqHxoz3DU9L0gXHztv+PvfcOisMw135n7v2+M993ShJbvdiSuxOXuCSxk7jENS6yrV6oQhQhCXUJVSSBEL333nvvvQgkJBAqsEvvW6jL0ju7+7t/LGywT/LNuX/cc5Jz95l5Z2GB0WgG2PnxPO/zDoxdapOO+LWI5QkCkayivkf25EnPUPfjHvlAVUPf+HW30OnguJyFsvtCRUO7VCls7VElpOeRklNGVkEVhbcfUVjyiOzCByRm3yUqIR9P/3gcXCPw8UskKDSL4LhCwlPLCUksxSs8h2uO0VjeCOH4BU+OnrPH9PgVDh+zwuTodUyPWXPklCNmJ+xxdEvm8Ekv9Cy82WFkxxc7zvG7L8x472sTtv52Gx4xRRTU9lBe101n7ziF9xvY8s4X/PzVL1n71jYMzrpgdsGLNz/ezy//sJPXPtrFW5/u550/6/Pet0b84XtTPthxmI92mvPxrqN8uu8UXxw4zZc6Z/lK9xxfG1jylZEV2w/b853xDb7TP09Y2m2qBF3UNnTT0NRLY0sfwlYpDW19CDt6aezsp000RGvPIM1dAzSKBnnY0kdUegW7zK5hfiOAyJIGQjPuctrWh++MTvPet7r85vNd/PIPX/G7L3fz5e6jfL3vJO99occH35iw6+AlDCzsMDnjioGFI6evhXHWKlLlH1GprKgVK+TTioXxadXsw+6R8czHXbKC+t7uEkF/Y5mwr6KiuTezqq3P70HX0M0Gicy0rW90Z8/gxO/75ZOvyWSyjZLx8adXtDxqf9lrpZVW/7/Qyj9gNjY2/mt7e/uahw8fvlpYWPgHb29vvUuXrlju3bs/9NNPv8h9/Y23Bc89/5Jo7bpNY6vXbJxZijUql6ONKwFt1eoNrFq9QQNna9Zu0gDa5mee1+ygbd6qrtl/8dXXePf9P/LxZ1/y5TffsW37LrZt38X3u/axT+/gEpwZY2hymEPmRzA/cYIzFy25eO0ql65bcf2mGs6c3Fxx9/HA08+D4IggQiKDiU6IIik9kaycdHLyMjWQlF+QTXFpARV3yiguLaCoJJ+SskLuVN3WOGfLjllOXiZZOema6v2Cwhzy8rMoLMolMyuVjKUdt9S0RM2/kZ2bQXJqAjFxkZr7aimpCZr4Y3ZuBkmpCQRHBBEVH6mJZEbGRRAQGoBPoC+3nOywtrPB2s4GG/ubGviyc7bHyd0ZTz8vQiJD8Qn0xTfID08/Lzz9vHDxdMXF0xUnd0eu3LjCVevrWNlYc8HKiqs2NlyxtubMxYuYnzjB+StXMD9xggtXLnP5+hXCokMJCPXHJ9AbB1d7bB1vYud8i6DwQJw9nLhifZ1zly9y6boVJ8+f54q1NUdOnlRX8ltewvz4KcyOneD4mfOYHz/F+ctWHD9zXrNrZ3rsGHpGJugaHmK/7kF279NDV89YtW+foWLX7gMLe/bqTu7ctX94zz7dNsODJjUXLlkl3rrl4BEdm3CksLBke11d49stLT3PdXd3L7cz/9/A//Vf/bOklVZa/QfFX45s/tPKSOPQ6NRbstHJjyWycZ3ugdET7X2jLs3S4Ygmkay4QTT0oL57qKOue6jvcffg2IP23mlBj3RBMjqpmFOqlLOLSpVCCVPzKuQTc6RklzA2o2J4QsXgqJI++SIi2QzyaZBOqGiTQ9PgIs1Di3TIVXTLVIiHFIjki4jkCnpHQDq8iGR4hr6xOSSTC/SMzdMun6ZteI7mwWnyBb2EVbTimteAV2ETPgWNBJW2ElXWyhnfNIIrOkiskVJQJ0E0NMbwApQKe4i7007snTZCKpsIvddFdK2YmIdS4h71ElMjJvZ+J0kPJYSWN5JQKyLlSS8ptWJyn/RRIBikQDjMp6HsAAAgAElEQVRIQcMABQ0DlLaOUiAcpKJtlPttg4gmFhhRqJhSwoICFhWwoIQFFSyq1G8vKtXPK5TqI9ojc0pE40pqukd5KJ6kunOEh6JJartGqO4coapdRnVzH7LpRVJyKzlv5Y6LVyyHzK1Y/8L7bDtwjG37j2N00oHPdhzjT98f5bt9V9hrZM0hi1uqigfNyqqaJkViQfVCaN7d2WJh31hhvWSoWCjpKGmQ1Jc3iYorGqWJ99v7XB53Dl1s7pPpdPeNfyUdGn1rcGzshT5YveLWijbyqJVWWv231ko4k0gk/7u9vX2NQCB4Picn58PQ0NBd589fuKxveNDnww8/LXzjzXcebdn6onT9hmdGnnp63exTT69b/PkvVqt+CmcrI47LgLZu/TOsWbuJjZu2smHjFp559gU2P/M86zdvYfPWF3j+5V/yymtv8v6Hf+KTL77i6++28/3OPezap8NeXUMMjA8vVbcf5qCpOeYnTnLi3DkuWF3hmq0NV21uYGVtw017Oxxc1NDiHeCFT6A3vkE++AR6ExDqT3xSLMlpCSSnJpBfmENBUa7G1covzKHsdrHm+YKiXA2UpWemkJaRTHZuhsYdW4axjMwU4uKjSE6JJzklnqzsNBKSYklNTyIxOY7E5DiSUxOIjY8iLiFa8znpmSlkZqeRmp5EYVkBGbnpxCXHEJ0QSXhMGGHRofgG+eAb5ItfsD8BoYFExEbi6uWGs4cLLp6uBIapHa3AsABCIoOJTYohJjGa8JgwDUw5uNrh5O6Ii6crzh7u2Lu6YHn1MkdPneCQuRmmx9RFK5ZXr2DraEdoVCjhMaF4B3jhH+KHm7crHr7u+AX74urlgoOrPZZXL2PjYMflG9e4fOMGR06exOjwYU5ZWmJ+/BTHTp3l+JnzHDlxmmOnznLu0lVOW17CzEIdfTQ6fJgDBkbs3qfL9l37MTY7xgEdI/T1TVV6eibKr7/5YeG773dNb/tu56C+oUnnkaMn71y6fD3V2zfQPi4h+fid8jtfCQTN70p+XBqijTpqpdXfu5Yjaks/sP9zYGDgX8bHx58eHZ3dMjI5+frA2Nhn/fLJPT2D8rPt/WMOrRJ5XIN4qEDYM/hE2DPYXt89NFjXNTj2uHtw9lHX4IJQJFO0940oHzxqVj181IjgSQvF5dUUl9eQlFGCoKWfiuomkrPvkJBxm5jkfNolcjLuNhJR2oRPSQt+JU3EVbWTXt1F8UMx5QIpFY0S7jRLuNcq5X6zhJr2Aapa+7jfPqCetkHKBWLiqpsJKG/E9043/hXthFR2EH6ni/gaKdcSqnAr7ib03gAZT3rpGppgRAXlTT0k13QQf6+FhOpmYu81kVLbQUptp/oQdXUnyfc6SH8gIqNWROZDCRm1IrIfS8mpk5In6CNP0EtBQx9FTf2UNPdS3CihormX+61i+qcXmFQuMocCFctHq1Xq91TKpaPaSwe2lUoUShVdg2OklN3nfucQdeJRHnYMcL91gPutfdxp7qOiQcyTjj4qqmqwvOpMcYWA4NA0tu00ZfNL77FT7wQ6phc4edmb7XqW7DW+hq6ZPScvB2BpHUSNsFv1uKFXVd81qih61LFYXCeeLawXTRQJegbzhaKe4gbpk/JGye07zb1xNR39Xo97ZGcbpMOGnQNjn/WNTb/bNzq6ZWBgcu3AwMC/rPiFr4U0rbTS6r+lfhpt7OzsfLa6uvrNqKi471xcXMyMjU3dvv32+/hfv/3bmpdeea1t/YZnhlev2Tj1i6fWLjz19DrlylKQn87KHbRlB23T5ud+5KBt3voCW154mZd/9Qavv/UuHy25Zz/s2svu/boc0D+InpEpRmZHOWhqzkGzw5geU0cbz1y8yMVrV7lma8MVaytu2N7E3tkJe2cn3Lzd8Qv20zhokXERxKfEkZSeSGpGMlk56WTnZpCRlUrhUqlHTl6mZtds2TnLzE4jLSOZ1PQkDaQlpyaQlpFMUnIccfFRREWHkZaeRHpGMqlpiaSlJxEbry4mSUyO0+ybxSVEk5QST1JyHBmZKaSlJ2naHvMKssnMTiM9J5XEtHhiEtUuWkhkMPEpcQRHBJOUnkhUfCQ+gd6ERoUQFB5IZFwEQeGBBIT6ExoVQnhMGDGJ0XgHeGnAytnDETdvV1y93HD19OCGnS03He05d/kipy+c58jJ45ifsEDv0EHcfTzx9PMgNimagFB//EP88A7wwsXTmYBQf7wDvLBzvoWtkwM37Gy5fOOaZvfsyMmTmntuZsdOcOzUWc5evILllWtcuHqdY6fOcuKcOva4R1eX3Qf02L1fj117dTE1P84BXWMO6Bzih+37Vd/9sFux7ftd83v3640d0D3Yb3TosODMWcsy21uOwX5+Qda5ufkHqqpqPm1q6nypu7t7vTbqqJVW/wBaWQYC/C+ZTPZvQ7B+bIznh8dn3uuTT30lko2ZdfWNXGnvlQc1i4dTG8VD94U9A4313QO9gu4BeV3X4HRd18B8Xdeg4mHHkPJ+c7/q0i0/rt30ITQsjYSYPDy9o3BxD8fmVgD3HnZTK+jD3T8FD/8UnN3CeCToIb5EgGtqLTfSnmCX8RjvYgFhlS0kPegip66XksY+brf0cae1n3vtw1S3T1DbNcKT7jHqusa43zRAnWiCjAcdBBXV41fUQmBBI2GFDUSVthBS1oZ3aTdvGziw1yqBq0EFCMST3G7sIeVuAwlV7STc7yCxupXk6k7SanpIrxGRWSMl50Ef6Q87yHzcTXZdD9l1PWQ+7iK3XkSRUEqhQEKxQEyJUEJZg4SKZillwh4qG3q4J+ygf2yWuUUFi0oFKJfr9ZcgTaVEoVJqDlUrUTE9r6JreJrqbhkV7f009k/wpL2fh+39VLdJud3Yw92mHtp6ZRQVl2DtEMztmmauXHfm2x2HWf/y79A5dIHDJ+24aBOMgflNdE2s0TG+zvFzHpy38qK8upmc0sdUPBKpHraPqMqEUkWRQLxQ0CCeLhRKxgoF0t6iht724ibp/fLmvvzK1oGgmo6hW4K+MbO2wdGdkuHx9/qGJ385NMT6bvVemvZemlZaafXfUj+9d9bY2L2+srL6zfT07M8cHd3MTx4/e/Pbb79Peu/3H1a8+NIvOzZu2jK4es2G6adXrVv4W7HGlfOLVet5es1GVq3dpJkNm59j/aatbHxWXRCy5YWXeeGVX/H6W+/ym/f/yJ+//Z6vtv3Azr0H2Kujj6GxGaZHLDA7ehxzixOYWRzl+NnTSweeL3DB6hJXrK24anONazeva/avvAN8CAgNJDAsCP8QtbsUFR9JbFIMUfGRpGWnkpWfSWpWCmnZqWTmZZBTmE1KZjLpOWma51Iyk0nOSCIuOZbohCgSUuNJzkgiKj6SyKhQ4hKiSUiKJSMrlcSkWBKWGhojoyOIjY8hNj6G6NgoYuKiSU1PIS4hlqSUeKJjIzSxx8QlYMvOSSctM4ms3DTyCrPIyc8gJz+DrNw00jKTiE+KJjElltyCTJLT4olNiCQ2IZKY+AjiE2NITk0gdQkOg0MDCArxJzQ8iMjoMPwDfXBxc8Y7wAc7Z3tOnT/NsdMnOXn2DBeuXOa67Q3sXRy46WBDXHIscckxeAd44Rvkg6efB4FhgQRHhODp54WrlxtOHh7Yubhw09GRMxfVh7Ytr17lqo2NJvJ47vJlrlhbY3XzJlesrTl/5QpGZkfYp2fINz/sZMfeA3y7fTf79Y04aHqEnft02atryI69B9i5T0f13c49Ch3DQ3N6RqYTekamEtPDFg3nLl7Ju2nrGBYdnXA+OztP99GjR+83N3e+LJVKV628j/Zf/bOllVZa/UQrnLP/AfzTUlxt9dD4+Iuysel3Bkamt0mHJwy7+0evt0tGfJrFsqxG8dAdYc9QS33XoKSuq2+0rqt/uq5rcOFJ54CirmtQ9bhzUPWgTUJ+1SP6hqcYmZhjanKBIdkcPZJxWjvktPaM0yaaorV7CmHrCE8EUgZkCzT3L3K3c5a7XVPc7Rjlftcwj8QjPO6boKF3kraBKTqHJuiWTdEjm0E0PIdoZAqpfAbp8DTtvSO09o+R/aSHgCIhXoXN+BU1ElzUQFhpM2EVnQRVithuGc7WT46z/agraXfaSK5qIOFuCwn3ukmq7iGxpoPEBx2k1HaT+rCHjIcSsh5KyXnUQaFARO7jTgrqesh91En+k26K6kWU1Ispq++hXCCiUijhTpOUOvEIT7oHedIqZnh8Xh1fVKj+cp96aRRLowQUqE9YTy6oKH/ShmBgluyHHTT2z1DfOcjDtl5q2nupbJZyt0lMc08/RUV5XLH2J7/iCToG5nyz8wg/e+5N9h+8wF6D8xw748K2Xcf5YtthPv7CkI+/MOCPn+wlODqbizd9uHAzEOfgLFWxQKIqEIiU+ULRQoFAMltQ3ztaKJAOFAqlLcUNvbWlzb1ZlW39YbXdsuv14uGjbQMj23oGJ/4wND7+okw2vWHp+0dbw6+VVlr9t9OK18r/1draurq+vv654uLiDyJCo3dZWl6+oqdn5PfBH/9U/Prrbz95dsvzfWvXbRpbtXr9/FNPr1X8NTh7etU6zTy1ah0/f3odq9ZuYvW6zTy9ZiOr121m3cYtrNu4hQ3PqCHtuZde5aVfvs5bv3mPP3z0Cdu272LHnv0c0D+IwSFTzI4e5+iJ0xw+doIjx09ifsICizOnOGV5jjMXz2kA7Yq1FTduWePo5oSrlxs+gb4EhgXhF+yPX7C/uigkPpLohCgS0xJITEsgPiWO5IwkUjKTSUiNJyUzmbTsVPJL8khIjSc+JY74lDgSUuM1+2FxybHEJEYTERtORFQoSSnxpKYnEZcQTWx8FOGRIURGhxEdG0VEVDgxcdFERIUTGx9DanoKCUlqOIuMDtPEIDOyUsnMSiU5JZ60zCTSs5LJLcikoDiHvMIssvPSyc5LJzMnleKyfJJS4zSfl5qRSHJaPBlZqcTERZKUEk9CUixRMeFExYQTEhaIj58nLm6OeHq74eDqiL2LAzb2N9XR0BvXOXXuLC6eriSmJeEX7EtCahxxyTHEJsVo3MfohCiCI0Lw8PXEwdURV28vbJ2cuGBlxYlz57hhZ8cVa2suXb/O+StXsLp5ExsHB67a2GDv6qoBt8MWJ9ExPMS323exY+8Bfti9Dx1DY3QMjTlgYMSu/brs3KfDdzv3qHYf0FPqHzJd2K9/cObQ4WMysyMnus9ftrp3yepGekBAiENcQvLxysrKP9fXN70jFos3LlXv/5M26qiVVn9n+smNs/8ll8t/Njw8vEk2MfHy0MjEh33DE9tFQ+MnuwYmbrX1jsQ0SmT5jeKhOmHPYKewa0hW3z00UdfVP1fX1b9Y1zWorOsaVAl6ZNR3DdHY1c/UgooFJSiUClSqRaZmFpCNTtM7OE7/2Bwi2RSd0nE6peM0tw8wNDSNuH+Mlt4xGsSDNPb00i7pp0Mio7tvku6BMcSycaTDk/QNT9Avn2BodIJ++RhDwxMMyiaRDk3S2T9O9mMxQSVNeBY041vUSGh5C4EljQSUNRNS0U7M3T4iSsWEFrSQeL+L2KpmYu+1EX+/m+QaEUk1HSQ/6CSttpOM2i5yajvJe9hN7sNuiup7yXskouCJhPzHYgrrJRQ1SChpkFAqFFHWIKaiUcr95l4E4mGk4/NMK2BeoWJxXsHiogIApVKFUqlibm6Bxfl5VCqlOuKICiVKZhUqolMLsbzpy8OOMZp7p6nvHKS2tY/7bQNUtvZzp1HC4xYRmanRnLV04nZNHXa3HNm+15xfvPArPvxChzd++w0ff6HDlhfeY8Mzb7HhmbfZ/Oy7rFn/KzwD4zh1yRmz8+7c9M8ir15KvkCiKhSIlMV1EkWBQDJXKJRMFQilskKhVFzUIKkra+67XdnSF1PdPuD+RDRwsrlPpiMeGvlwYGTkjeHhmU0rykO0TppWWmn130Iro40jIyM/f/KkeWtFxb23IyIidt286XBcX/eg/5eff5Px2mtv1W3Z+mLPuvWbx1etXj+7avV6xdOr1qlWrV7PqtXrNUC28m01oK3l56vW8PTa9axat4E1GzaxZsNG1mzYyPrNz/DMcy+y5YWXefX1X/Prd3/HB3/6jC+/+Y7vd+5hj44uOoYHMTAxxcziOKZHj2Fy5BhGhw9jZnGUo6fU5SBnL1lidfM6N+xsuH7LGgdXR5w91FX1/iEBBIUHExQeTGBYEOEx4cQkxhAaFUpYdDgRsRGEx4QTGRelccbiU+KIjIsgOCKIyLgIwmPCNFAXm6QGlvCYMEKjQpaaIaOIjo8mPDqMqLhIQiJCiEmIJiwylKCwQEIjQwiNDCEoLJDo+ChiEqLxD/IjKiacmLhIYuOjiE+MIX1phy0lNYGs3HTyCrIoLM4lvzCbO1Xl3Ll3m9uVJVTdr6SoNJ+8wmwKi3MpKM5VxyhT4khKiScxOU7jzEVGhxEU4o9/oA/+gT4EBvvh6+/FLSc7rtve4KLVJa7ZqhsgbR3UDZB+wf4kZyThH+JHSGQQPoHeRMVHEhoVgqefB55+Xtg52+Pm7Y6LlzvW9racu2TJNVtrrO1tuWJ9DXsXRy5es8LGwR5rezucPT1w9/Xl4rVrnL5wgf36B9mx9wBff7+Db7fvQvegMYctTqFjaMxeXUP26hqwX19dBnPAwEilZ2SiNDQ1XzQ5YjF10OTwsMXpc62nz1+4b21tF+Pu7uuYnp51sKys8s+tra2v9vT0bNBGHbXS6u9MP3XO5HL5zyYnJ9dOTEy8Mjw+87u+4cmdItnY4c7+MYf23tHQJqm8uEE8XNsgGuoW9gwNCnpkk4Ie2Vx996CivvsvcCYQyajrHKJVNMzsIihVoFKBSqlgbmGB4dEJ+mWjDI7NIBmeQNQ7Rpd0jOaOAYZlkwzJJ2gWDVIvGaWuZ4gWiZxWsZyu/ml6BicRyacRy2fpHZmlb3SG/pFpBkfmGJDP0C+bQTwwTUffFDkPewguFOBd0IJ/cQuhpa0ElbQQUN5EUFkD4eWtRJa1El/ZReydNuLutxF/v52E+10k1XSRWNNJ8oMeUmtFpNeKyKwVk10rIetxD9lPxGQ97iG3XkqeUEphQx9FjVJKGqWUCEWUNoipbOqlpq2fJskwg1OzLKhgcmoWxaIChUKBUqnUPCqVSlAtWWpLo1IpmF9UMjEPzZIxHrYN0to3TYNIzsO2fqpb+7mzBGj1bWLS4oI5cvQCt+89wMnBiW27jPjXZ1/lvY938OLrH/Px5/t47sXfsunZX7Pp2bd5dutv2LzlHezdQrGwtMfU0oObQTnkN/RT0NhLkVCiKhZIVQX1YkV+vXg+v048WSCQyAsF4u7iRonwdlNf8d3W/oTazkGHOrHsTNvg6E6JbPRjmWzileHhmU1yufxnS5CmddK00kqrf3gt/zFzubWxurr6V7m5uR+5uXkYnzljeX3btu0J7//ug9vPP/9Kx6ZNWwfXrN04vWr1+oVVq9crn161TrUMZX9rnl69jl+sXsOqdetZtW49azeqAW3txk1s2rJV45z9+t3f8Zv3/8ifPv8zX237gR927WWPri46Bw9iaGqK8ZEjHDI31zQEHj5+jONnT3PpuhWWVy9xzfYG1vY3sXWyw9FNvXvm6edFcEQIQeHBmsfIuChiEmMJiQwlJDKUwLAgAkIDCYkMJSw6lPCYcMJjwpbupgUTEhlMQKg/0QlRS5G/WGIS/wJo4THhBIQGEh4TQWhUGOExEUTFRxMcEYJPoC/hMWGERAbjF+xLUHgg4TFhBIT64+HrTlRM+JLLFkFyagJJyXGkpCaQnBKv3oFbOp5dVl7Eveo7FJcWcPdeBXeqblNcWkDl3XKKSwsoKMwhKzuNnLxMEpPjiIgKxT/Qh/DIEMIjQ370tl+AN86uDly7eR0rm2vccrLDxctDXaji64OnnxcJqYmkZCbj4euGd4AnfsG+GlD1CfTGO8AHW8dbuHm7c932Bg6ujljb2eDo5oSN/U3sXRxwcnfmlrMjzp7uOHu6ExgehndgAKcsLTl8/Dg79h7gmx928t3OPezR0V86Yn0KPSNTdh/QY+c+HXYf0OOgqTnG5sc4YGCkOmhqrjQ2PzZnZHpk4ujJ05JjJ880XLh8Lcf2lmNwVETs6ays3L0CQfO7IpHo+Z+0Ompfp7XS6r9aK3fO5HL5z4ZnZjYNT0y8Khud/JNUPrm7Z3DsfEffqEubRJ7SLB0ubxQNNwlFMrFQNDwq6JFNC3pkC4IemULQNaSq7x5Sw1mPjCc9QzzuHqRZPMjIzDwqFWq3CBWLSgUzs/OMTEwjn5hhaHSa3sEJunvHaeuWMTAwxtDIJC29IzzsmeBRp5wmiZxW6QhdAxP0DE4gGZ6md2SWXvks/SNz9I/M0Sefo3dkFql8hp6hKTr6xsh70k1wcT2eBc34FbfgX9REUGkrQWUthJQ1EVLeQGRFE/H3u0h/LCWppov4e+0kVneSVNNFUk2nuhyktpOM2h4yH4rIeSQh90mPZvLrxRQIJBQ19FIi7KW0QfoXB62pn9rOYR519NI7Os3EnIL2bgkLC3+BsuX9s5WjATWVAqVSxYwCRLJJalvFNPWN0ygZo75HTnVLP5Ut/dxtEiPul5MeG8KN67ZUPXiAi4sr3+7Q5xfPvMmf/ryP1975lE//rMMLr37Aus1vs+m53/Lu+9v55gdTzlm5Y3HJCTNLD/xT7lLQ3E9hQy9FDb0UNvRSIJCoCgQSZYFAslAgkMwWCqWjBUJJf3GjtKmsUXq/srkv5V5bv/+TnpHzzdJhwx7Z6CfS0alfDw/PbBofH39au5OmlVZa/aNrZbSxubl51ZMnT7YWFxd/EBYWtvvcOUsrHR3DwN+//2H5r371a+GmTVsH12/YPLFq9fqFp55eq/zFU2tUT69ax+o1G34EZMvvr16zQTOr1m1Ycs82s3bjZtZvfpbNW19g64sv88s33uKNt3/De3/8iD989AlfbfuB7bv3sWPPfvbo6KFnZIyBsSnG5kcxPnKMIydPY3L0KEdOHuf8lUtcsb7ONdsb2Lk4YO/qiKO7M07uzrh5u+Md4KOBs2UgC4sO1xyE9gn0/dF4+XtrDkb7BfvjHxKAq5eb5usDQtX7V5FxUcQmxRERG0lEbCS+QX6Ex0QQEhlKdEIMccnxeAf4EBgWRFh0OIFhQUQnxBARG4F/iD/uPurikqAQfwKCfImKCde0OqalJ5GWnkRZeRHFJfkaQFs+gl1SWkBJaQFP6mq5c7ecispSym8XU1pWSH5BtqbIJCMrlbiEaLx9PfDx88TX3wsPL1fcPJzx8HLFw9cTN2937F0cuGF3Ew8fbwJCgknOSCE0KoyC0nxSMpPJyE3TRBzVLtqy8xiJl783jm5OSzfW7LB1vIWt4y0c3Zzw8vfGK8AHDz8v/EIC8Q70x9HdFeMjRzAwMWGfniG7D+hxwMCIwxYnOXbqHIctTqF/yIzdB/TYb2CI7kEjjpw4uVQIY4HZMQuViYWFwuTI0Tlj82MjZkdPSI6dOPPA0vJKtqu7t3NkZPTJ8vI7X9XX17/T09OzQRt11EqrvxOtXHSWyWT/Njk5uUZ9gHrmvaGxmT3iofFjXf2jrm19IzFNEnlFk0RWLxTJpYIemVzQI5sR9MjmBT0ypaBHpgGzlYBWJ5LR2NPPwNgkyhWApkTFokLF9LyCyTkFE7MKRibn6R2eoV0kQ9wnZ2h8hibJEE965DzuGqJFLKNdKqd7YBzR4CS9wzP0DqvdskH5nGb6R2boHZlGPDxN9+AkRQIxocWCpYhjM36FjQSWtBBU2kpwWQuht5sJq2gmvLKN+KouEu53EFfVRmJ1B0k1nSTVdKwAtK7/MKCVNYgpb5Rwu7GPqvZRqloGEI0rkI5M09bTy/yC4kfO2Uo4UyqVqJQKUKlHoVADWvfgOLWtEhqlYwhEI9SJRrjf3LcEaBIGhifIiAvlls0tCoqLOXTIiD//cIB/3fBLvtymw2tvf8InX+ny6ptf8PLrX/Dbj/by5bYjXLONJCS+iIySOnLudBCd/4SCRjWYFQvVkFbU0EuhUKoqFEqVBQLJYr5AMlMgkIwVCSXSUqGk5XaTpOJuc19abeegW1330IWuock9PbLRT5adtBU7adpf/FpppdU/nFasAvxTfX39v7S0tGysrq7+VWJi4jcuLu4mS62NSW+9+e7D5597pWvdumdG167bNLNq9XrFU0+vVS3vmq0Esb82a9Zu5Om1G1i1bhNrNz7Luk1b2PDMc0sHqX+lcc4+/ORzPv7sS779YSc79uxn++597NE1QN/EjIOHj2B8xAKTo8c5euosx86c5cjJ45y9dIEbdrZcv2WDrZMdNx1vYetkh6uXG17+3vgG+WnAbPnYclh0OMERIbh4umogztPPSwN1PoG+eAf44OjmhLuPh2aHbfnGWEhkKJFxUcQlxxMWHa65NRYZF6X5WEhkKC6erhpw8w7wISQylPCYCILCg3Hzdlc7d0twFhkdRkpaIqlpiSQkxpCRmUL57WIq75RRXJJPYVEuFZWlFBXnce9+JTUPqrhzt5z71Xe4d7+SsvIiCgpzyFk6hL0cc4yMDiMmLpKEpFiiYyMIjwzBy8cdO4eb2Dre4rrtDZw9XPDw8yE6Po6ElGSiE2JITEsiMi6CpPREktITiEmMJio+koTUeCLjIjVOoZO7My6erviHBODm7Y6t4y1cPNXwFxIZilegD8GRoUTEReEd6M9VmxvoHDyIrpERO/Ye4ICBEboHjTl57gIWp8+hf8gMHUNjfti9D71Dh9A5eJAT585pXNODZmYqg8NmSuOjRxf1jU0mDYzNZIZGpk2nTltW2jm4hnh7+9/IyyvcV1X14KOWlp7n+vr6Vq/YHde+Tmul1X+FluFsqRL9X4dg/dD43EtDo7Mf9cknd0kGxyw7B8bdWntH0lvE8juNYllbQ7esV9gzPC7okc0KemSLy6ZjyvUAACAASURBVHAmFA3zU0Bbfq6+uxeJbGQp4qiGM1BHHhcVKmYXYWZRxejUPH3Dk+QUVWLn5svA5Cy9k9NIR6eQDE8glU3SNzzFoHwW2cgs8vF5RsbnGRmbY2RsHvnoLPLROWRj0wyMTiGRT9Mjm6K0XkJkWROehc14FTbhX9S05KK1E1zWRmhFK8HlLYTcbiOwUEDc3Y4lB62DpJp2kmrafwJo3eQ8EmngLK9O9BdAE0opFkh/BGglgl7yhBPk1o9Q0jJGZG4Vwp4hZubmWVxc/JuAplQuoloahULFvAq6BsZ40CamoXccgWSMJ2I595p6udvcz50GEeJ+ObEh3vi4eePl48Pla5fZtkeXtc/9mm+26/H6u5/x+TYj3v7DLt7+YB+ffGfObsPrWN4IJyn3ISX3OiivFROdW02BUKoBzqKGXoobJBQ3SCgSilVFQomySCheLBSI5goEovFCoXioRChqKxOKHlY29WZUtw8G1XWPXGiWDhtKZJMfS0am3pDJpjd0wy+Wvt/+x3K09r/650ArrbTS6j+iFe7ZPzc3N6+qra19JS8v74+ent5GlpYXrb7//of437//4e2XXny1c/OmrUNr126cWbV6/eISnGmijT91zFY+v3rNBtas28RTqzewdsOzbNj8HJuefYHNW17kuRd/yYuv/CXa+MkXX/HF19v4bsduNaDt2c8uXX10jU0xMDPHxOIEpsdPYnbiFIdPnuToqRNYXr3M5RvXuGF3EzsXB2wcbHFwc8In0Bf/kAACw4J+BGchkaEEhYXiFxSIm5cnnr4+ePh64+7tib2zE7ec7LjpYIut4y1uOdmpSzC83HDzdicgNBDvAB98g/wICg/Gy98bN293fIP8iI6NISYulpj4WAKCAgkMDiIkLJTA4CAclyDGK8CHgLAgPP29cfVyw9Pfm6iYcELDg4iNjyItI1kDZ4VFuZSVF2ncs2Wn7HZFCdU1d3n85AH37ldSeaeMnNwMCgpzyC/IVrc/LgFaZnYauflZpGemEJ8YQ2R0mMZRCwz2+9Genqu3J76BAXj7q/9vto63iE2KITIugpzCLFIyk0nNSiEqPhJPP8+lspVwPHw9cfFwx83LEzcv9dt+QYH4BwcRGBqCd6A3iemJBEeGcvmGFQYmaujavncve3UNNPFFkyMW6BgeYtd+PbbvOcCu/brs09fH5OhRDExMsDhzBpOjRzE9dowjZ06rTI5bKA1NTef1D5lOGhwylRoamzVcuGCVY2NzKzA6OvZkbm7uridPnrzV1dW1pb29/WdLr9PatItWWv1na8VfAjV3zgbH5l4Ym154t290ZodUNmne1T/q2tI3EtMkHbnTKB5uaBDJ+hp6hkeFouFZoWh4QSga1sCZUDSMYHlWANqTniHqu3vpHhr+EaCpVKoVgKZiZlHF9IIKkXSI9KwifELiaB8YQTY3j3xqFtn4DMMT84xOLjI+pWBiWsHkjIKpWSXT0wqmpxVMTS4yPjHLyPg0w+PTGhftdkMv4cVC3PMb8chv+BGgBZW2El7ZQVhFO9H3RMTc6SCuaiWgdWgALfVBBxm1nWTUdpLzSA1nOY+7ya8Xk1cnokAgoVAgpaheslSvL6asQUxaVQvWUZWc9srB3CGOS15xdMjnmJlXsLi4+CMXbRnUlh00lXJR46DNKaCzf5TaDilCySh14hEe9QxT2z5EVUs/lYJuBuSTZCZHY2dtR9W9exw9eYQvf9jDqmd+yY79przz+6/5ft8J/vSNCZ//YMH3upbsMbbl7LUwkvMeUnavg0fNMjJuCyhulFKsATQpJUKJZooFYlWxQKwsEogVhULxbKFQNFEsEPcVC0Tt5Q29dyub+jJqO2Vu9RLZ+bbB0Z3ioYkPh8bHXxwaQntzRSuttPqH08rXzPb29p81NTVtqKi493ZSUtJXNja2p0wPH3H906df5L355rsPt2x5oXf9+mfGVq/eMP/0qnWKp55eq1ouAlkJYivLQn4UeVyrbm1cv2krG595nme2vsSzz73M8y/9ipdefYM33voNv3nvAz75/Cu++Fp992z77n3s2q/Lbn19dI2NOWhujtmJE5idPMnRM2cwP32aU5bnuHTdiqs2N7B1ssfe1RFr+5s4ebhoAC0gNJDQqDANoAVHhBAUFoK3vy9O7i64errj5OaCo6sztg52WNvZct3Whhu3bLhywwormxtctb7G9ZvWOLo54+jmjHeAL+4+nnj5+eDu44l/SCARMZEEhQXjE+BLUKj60SfAF98AP1w8XQmKCNG4cG7e7ngF+OAd4ENETDhRcREkpsZrbqrl5WdRVJRHaVkhJaUFFJfkU1CYw5275Tx8VE3Ngyru3a/kdkUJd6tuayKP2TnppKYlkp6RTE5uhuaeWlZOOrn5WSSlxBMeGUJgsB/+gT54B3jjH+KPh58HgeGBhEdH4enrQ1R8NLecbpGSmUxsUjQJqeq9u9SsFBLTEnD3ccPdx11zONvVyx0vfx/snBywd3EkODyUkIhwQiMjCIuJICohGldvd06cO4OukSG7dXTYraODgbGZZvbrH+T7XXvZtV+Xb37Yyfe79qJz0AjjI0c5dPgIFmfOcMjcHKPDhzE6egxdExOVjtGhxd0H9Gb36hrI9A1Nu8zNT1Ses7yc6OsbeD0+PvHQ3bsPPxAIWl+VSqWrgH/W1u5rpdV/sla+0AD/PDk5uWZ0lK2DEzO/HxiZ/k4qnzrV2T/i2CYdTW0Sj1Y2iIfbhKLhPqFoeFIoks0JRcOKlc7Z8tSL1fNTJ00g7qdN2v/vAA3UdfLzShWziwqmZhW0t4u4ZevBR1/u5W59O8Ozs4xNzTIyOcvo1ALjMwomZxaZmlUwPadkdl7F7JyS2TklU9MLTM4uMDEzz9j0HENjMwyOzVHTNkxkaSOeJa14FjVpIo7hlT0El7YSdruV8PIWIm93qEtCqtp+soPWsQLQ1JPzuPNH7ll+vZhCoZRCwY8dNLWL1k9SjQj39EekPh7ibvsI0ol55hfUcPa3AA2Vev9MpVQ3rPwF0Hqpl4zwRCTnUbcMQfco95oHqGkfQCqfwN/XgzMW52hqakff2JAPP9/G1pd/h+GR83z+nT5GFjbs1LvA9wcusP/QNczPenHJNprE3BrK7rfSKp7gcZecYqFYHdcU9KqbKYWSfwdpRQKxqlAoVhQKxfNFdaLJ4nqxrFgoaS9p7qutaO1Lu9/R71/XIzvT3Dei0zs48Ye+4YlX+ycn1yzFHf+nNu6olVZa/SNo2T2TSCT/u6OjY+2jR40vpqdnf+bj469/7NhJh+0798S++5v3a15+5bWODRufHV29ZsPMSjj76c7ZX5uVH1+3cQvPPvcyW55/ha0vvMrzL/2KV197i9fefJd3fvsH/vDhp3z6xTd8te0HduzZz869B9inZ8h+o4PomZpgaH4Yk+MWmBy34NCxoxgcNuPEuTNcsLqC1U1r7FwccHR35pazPS4r4o1+wf6a+2eBYUEEhgXhE+iLm7c7jm5O2Dnba/amrlpbceX6NS5fs+LyNSssL1/iwpXLXLl+jes3bbhmY431LVtsHexxcnPFzskRe2cnfAL8iUuOJzAsiNCoMAJCAzXRSGcPF7z81aUa3gE+uHm74+zhgp2zPYlpSUTEhmtaI7NzM8jNy6T8djF3KssoKy/idkUJ+QXZFJfkU11zl8o7ZTyovUfVvQqq7lVQVl5E5Z0ySssKycnNID0jmYzMFHVhSG4G2bkZZOWkk5WTTkpaoqZu393TBQ9fdwLDAvAO8sbB3YHwmCii4qMJiQwhNCqEnMJsUrOSSc1KJiM3nZTMZOKSYwkI9Sc8Joyg8EDcfdxw9XLRNDv6Bvmpo5shQRpACwgLwsnDBQOTQxww1Gevnh66RkboHzJF/5ApBsZm7Nh7gO937dW0OuofMsXY/Bhmx05w5ORpzCwsMDAxQd/YGF1jUw4YGat26ugpv/pu++J3O/ZO7tyjM7R3v77Q7PDxsuvXbf09PHwuZ2cXbr9bXf1+e3v75rGxsae0u2haafWfrOVSkKW2np+PjPDsyMjUG/0j09/0yqeMRAMTdh29o+FtkpHbTeIRQYN4pK9BPDq6BGeLQtGwUigaVjWI5fw1QKtfdtC61S6aUDJIs0j67yKOy4A2OjnF1Nwcc/MqykvvctPGnS++M6TicStj84uMT8wwOqEGtLHpBSam55meVzCzoGR2UcX8goqFRZibVzI9v8DUwgIziyrGZxSMTSmpbh0mtqIFz+JWPAoblxy0ZoLLOggtbyesrIWw0maibrcTc6f5rwBa598EtGU4KxBI1I914h85aOqiECklLUMUNo1S2jZJVUs//ePTzM7P/R8dtOWCkGVAm1VAZ/8ItR29CKWj1PUMUyca4UnHMNVtQzT0TtAzNEpIqD/mpidoae5Ax9CAjz/fxtYXfoPB0Yt8+LUOxsdt2W1wmZ36V9A1vYHJSTeu2scQGl9E+f1mRENzSMaVGkArEfZSLPz3gFYilLAEaMpCoVhRLBDPFQskk8VCaV9Rk7StrFFSUdncl/KwfcihXiQ/2dk/8q1kePy9vtHRLX2wWlu/r5VWWv0jaOXuWWNj47/W17dvvnfv4RvR0XHb7e0dLXT1DgZ89vnX2a+99lbD1q0vSdes3TC5dPNMuVyrvzLWuGbtxr86yx9bu059lHoZzJYff/n627z+a7V79sHHn/PpF9/w9bbt6nKQA3oc0D+IzsGD6B06hIGJCWbHj3P4xAlMLSwwtbDg3OWLXLx2lcs3rmHjYIudiwN2Lg64Lu2V+Qb5ERAaiF+wv6Y6fhmenD1ccHJ35qaDLdZ2Nty4Zc35y5ZcuHJZM+cvXeTsBUvOX7rIhSuXNcBmZX0DG7tbXL9pwy1HB9y9vfDw9dTst/kG+eEd4KMp4XDzdsfD15PAsCDcvN1xcHXEPySAuOR4ktITycrPJCk1gcLiPIqK87hbdZuqexVqUFuKNt6tuk3Ngyqqa+7yoPYed6tuc7/6DnfullOy1OJYVJxHfkG22j3Lz1K7arkZRESFEhUTTnhkCGERwQQG++EX5EtgWAABof44uDng7uuuaZ709PPCxt6a+JRYYhKjyCvOIbsgi7ziXFKzUgiNCiEqPhKfQG/sXexw8XReOmTth7uPB2HR4epYaXgYAWFBOHu6cv2WNfrGRuzW2c9+AwMOGBqie9AY/UOmmlto2/fs5/tde9l9QI9d+3U1gGZx+hxGhw+jd+iQekzMOGBkzPa9+1V/3rZd8e33u2Y//3Lb6M5d+zv19U0enD1/Kc7OzskxNjbZoKio7LPGxsYXOzo61q5oX9a+Pmul1f+XWlmnv5Qvfmp4ZmbT0Oj024PyqS/Esknz7sFx67a+sbiW3uGSBslIs1AslzaI5BMNYvmsUCxXNIjlykbJCCunQSynQSxHIFFP/dJonpcOIhSJUajURKZSKVAt7aApVVBXL+RB7RNmFlQ0NnZhZ++HqcUVHgo7mZyF8akZRiZnkU/PMTmnYGp2gem5RRYWYWEBFuZhYRFm5lWMzy4iGR5hZlHJ7KyCsak57rXJiShrwrO4Ga9idUlIUGkbAcXquv2QslZCylqJrGgjtqKVmLvtxFa1E1vVRkJ1J8k1XSQvwVnWw06yH3WR87ibnCci8pbds3oJRfUSigVSSoS9lDf0UyZc2kNrEFPW2Edp8wC3m3upbZEgG5/7dy2OK0ehUrKoWGBhfhYWF2FxkTmFiva+YRrEMholwzSIhqhbasp81DXMky4Zwp4BuqTd1AvaaGpsYt/+XXz06Tc88/y7mFhc56Mv9dAztWHbvvN8tfscu/QvonfUFhf/LBLTqqisaaN3dI6+KRWl9RKKG6WUNIopE6pdwb81S5FHRbFAPF8sEE0UCnqHihv7WsqbpPcrW/vjq9tl7kLx4JHWwdEdfbKxd8bGxp4fg6dWxii0LwJaaaXV36NWlGn9c3Nz86qHDx++mpNT8KGLi7vJmTPnbL765vvU3773x3svvPiKaOOmLSOr12yYWy4G+WuO2V+Ds3XrN7Nu/WbWb3iGTZuf0+ycbX3hVY2T9uIrr/PKr37Nm2//jt+89wF/+uwrvvzme3bs2c9eHX326Rqga2SErpERBiYmmJ84gfmJE5geO4bFmTOcPn8Oy8uXuGF7E1tHO+yc7TXFHsvuWXBECH7B/ngH+GggzdnDBQdXx7+4ZjeuctXairMXz3Hu4gXNnLE8zxnL81y4clkDaqfPn+PyNSsuXr3C5WtWXL9pg5ObK/bOTnj7++Hq6YGzhyvOHi74hwRg52yPh687zh5OuHg6c8vJFp9AbwJC/YlLjiV7hctVumLXrPJOGRWVpZSVF3G36ja1D+/zoPYeNQ+quFt1m+qau9yuKKGsvIii4jzNY35BtjoiWZxHXn4WWTnppGemkJGVSnpmCgmp8YRGhRCTGK255RYRG05SeiKp6SkkpSSSkpZMSloiIWGBBIX4kZaZRG5RDqlZ6q+PiA0nKDwQL39PPP08CAwLICI2nJDI4KVj1lGaUwNhMRFY29/k9IWzHDI3Y7+BniaqeMDACB3DQ+geNGavrgG7D+jx/a696BmZsH3Pfg4dPspBU3OOnzmHzsGDGgdN/5Dp0ufu48tvf1B98vnXC5998e3Mn7ftGNi+fU+bicnhorNnL0W4u3ufi4mJ33f//sN3mpubt2p30bTS6j9JK/8KODAw8C9DsF42MfeybHTyk1755L4e2bhVZ9+YX3OvvLBZOvyoQSyXNIjl8gaxfLZBLF9sEMuVDWK56v8NoDWK5AgkQwhFUhaUKlQrAW0J0gTCRh4/ETC3qGJYPoGXTyTnLtvTMzDG5IySiek5xqbnkU/PMTG7yPTcIjMLCmbnFMzPq1hcgIVFFVNziwxNzNI/Psn0gorZOQUTM4vcbxsmsrwJ96JGPAobCSxpJqCoieAydUmIGtBaiKxoI+Z2C9F32oitUk/8vXaSqttJqm4jraadzAed5Dzu1uyf5TzuIq+uh4IlSPtrgHZbKKasUUpZc98SoImRjc+wuPjX4WwZ0JRKBYsLc6BYBKWSOYWKjr5hmntHaJIM09A1gFA0xJPufp50y3nUKeNeQycS2SCSvjHuVlXx3Q/b+P2HX/LCL9/H+JgVv/9kLwcOXeeb3Wf5884z7NC9wM6DVwiOu01S+l3u1bYhm16kf1pFaZ2I0gYpJQ1iypZPB/yNWYo8KpcgbbZQKBkvEkqlJQ3SptvNvUV32wZiHnb3X2uQyEx7hsc+HRycelMmm94AaCt9tdJKq79rLa8EtLS0/FtjY/f65d2za9eszx46ZOL58cefFb3x63fqtmx9cWD9hs0Tq9eob579NLb419yy5Vm/4ZklONvKlq0v8uxzL7P1hVc1kLZcEPLqa2/x1rvv885v/8AfP/qMz/78Dd/t2M2ufTrs0zPA0NSUA4aGGkAzs7DA9Ngxjp89y9kLliscrZvcdLDllpMdnn5eBIQGEhgWhF+wP37B/nj5e2tAzdnDBUc3J67dvM6Fqxe5am3FpWuXOXPhLCfOnNbMybNnOHvBUgNrp8+rAe6S1VUsL1/i4tUrnL1gySWrq1y9YY2tgwOunh7YOTni5q126exdHPDy98TZwwlHNwccXO0JjwkjMi6C5IwkCopySctIpqAol9KyQg2YVVSWUlpWSHFJPg9q71FX/5CaB1WU3y6m5kEVlXfKyM3LJCc3g5LSAkrLCjVgttzoWFpWSElZIaXlRZSUFZKdm0F8Shyefh6ERYfiF+yLq5cL0QlRBIYFkJSSSGx8DCFhgaRnppCcmoCXjzup6UkUFueRmZ1GemYKYRHBhIQFEhqubqEMjQpZug0XTWRcBIlpiSSmJZGalUZQRAhOHi5cvnEVM4ujmBw15+ipU5geO8YBQ/U+mqGpKfrGxuzV0+OHPXvYuX8/e3R1OWBoyH4DA0yOHtWA3H79g+zXN2LHXh2++e7/Ye8to6NM1Kzt8+Od+cbfmdMGxEMSCA7dDd10Q9NY405CCAQNxN3dcHeXECMh7imvOEEjJXEpiacqXr7fH0/V04Gmz8x8I2dmndpr3SsJSbO6WHTXup69733vwpr1mzUrVq1TrV63SbZhy/ahTVt3dtntd6g8fORERkRUbMydO/cdaTTaitev62YLBII/ah+i6t+f9dLrv0of7Z39w+jo6BcDI5jdOzKxXDw0dkDQP+Lf2iN92NQ9lM8TDtZyhYMdHMGQtL5rcOJPwRlXKIEu6jgV0uoEBJxxOgfBEfSjvlMIuUoDtVI1BdCIuOP4xCQmZXLIFSpMjCsgEg2gnt+JcaUGcoUa0tFxSEYmMSpTYVIBDEhGMDapwOiYDBMTSkxOKDEpU2FCqUF1HQ+9o5OQqYGxMRUkYwq8aulDArMB1ylcXKdwcZ/Gw2NWM+5SebhH4+MBnY+HDB4Sy5uRXNqEhDI+EssbkVLVjJTKJrx42YL0l81ki2NxrRA0rggMjgDF71pR8K4Nhe/bP6jZ/xjQmBwBmFwhWHwhXjZ2om+EADSNBlCrPx4toEEDtVoJqBRQKhSQqYEW0SB4oiHwhEPgdPWjvr0Hte09eNvWj7ouCWo7e9EsHsCV28+QlZcDDy93LF2+DuZzlsHN/zRWrrfHviPh2GUfgvXbPbDbIQxHPM+jgNWIlFQqauvbIVGq0Tk8AZb20Da9QQBGvfjfAmganZNGaRDIqPUCKZUj6KZzBHUsnpBZ2dz9qKatL7ZRKDnY1ju4TjwwMru/f3wGgH/QP6XTSy+9/idq6t2zxsbGz+vq6syzsvJW3bp1x97Z2fXs9u07khYvWfrK0mpO6wwDE+lX0wwnP/9iuuqzz6dpPrVjNhXMvvzKAF9+ZUC6Z19NM4SBoSnMtHtnZhbWmGk1Fxaz5sFy9nxYWS+A9bzFmL9kKRZ9+z2W/bgKy39ajfWbt2H7HlvYHjiEA0ePwv7IERx1csJxFxccOXkSzp6e8AoIQFBYKLkzFn2aOI58QVsQots3u3X/Nm7dv43rd27g5r1buHb7Os5duohT585+sGumc8u8/Hzh5ecL/+Ag8mtPXx8S1nwDA+Dm5UnGH8OjoxAeHYXI2DhExMTi1LnzuPvwAW7du43Ys3G4cvMqTl84Q8Yc7zy8i4fxj5CYmoTcojzk5GagqDgP7FI6uVtWVV2mjThSUFbOwKvXlah5VQF2KQ2lZXSUlTNQWJSL4pJ8lJYxUFySj7z8LBLOKirZYLFpoNGLwS5jkHCWmf0CT5Oe4PYDIt547/Fd3H5wCwlJT/HoyX3kF+YgOzcD8QmPUUwpwLPEJ0jPTEVm9gsUleQjKycd+YU5KCjKRVLKMySlPENWTjrSsp4jPvkpniY9QXrOC2TlZyIzLxNpWS9w/+lDsrwlPDYa0WdOwcPPD14BAThy8iT2Hz6Mo05OOHjsGHbb2cHu0CHstbfHPgcHHDx2DCfc3GB36DD2HzqKA0eOY9/Bw9hjewCbt+3Gz2s34oeVa7B8xWr1T2vWK79f+fPY8h9X9a/4aS1n3fpNrJMn3e5ERMcGp6VlbCstLV3a2NhooL2Lpl9F0Euv/wpNjTYC+Jvh4eE/Dg5OGA0Mj3/bPTS+uXNwzKutV3q+uUeaxRcNVfC6Btu4QklffefAeEPXoOJTcMYVSsAVSj5w0TiCITQIhlAvHPoA0BoEfWjoEmFSG+nTFYTopIMUhUqJyUk5JiZVGJOpodAAMrkC0pFxDEjGMDwmx+iEEn2DEoyMyyCTq7URRw1kcjVkaqChtQvNwl6MTKohkUxiYHgSr1p6kcCoxbWSBlwvacDd4gbcp3Jxj8bHXRoXDxk8PGE3IaGsCSlljUgo4xPuWXUznlc1I62qCS+qm5Dxsg0ZL9uQ97oDdI4I1W39YHK6UPC6CdQ6XUkI4aIx6sVgccQEmNV1gsX9FdCqeO3oJR004rWrVBryo0qlgUKpAzSizVGpVGJCoUGToB98oRQ8gQQNnX3gtPegtr0b79r6UM0X4XVTF2qbxfALO4fKV9Xw9vfDN9+vxexFK+DiG4dVGw7i8MlYbN/nj/XbPbDzQAicA6+jgMlFfkE5eDwBhhQqNA1IUcoRgMkREO4fp5ssPZk6dO3QtDBHq+/UUOs61JQGgZLS0DlOaeiU0Bu62mkNne/YfFF2VUvvnVrhoFejaNC2e2B4aV/fsIVgePiP2mZHfdRRL730+h8l7XvnXwH4Oy6XO72q6o11QkLK5jNnzjkdOOBwa+3adTnWcxY0mJpaCqdNNxr7/MsZ8s8+n6bWAZoOxqa2NX4MZtNnGOPLrwwwbboRDI3MYDZzFozNrEgXTdfeOGvOQsyeuwiz5y/G3EXf4OvvfsSyH3/CT2t/wcZtO2F74BDsDx2Gw9FjOOHiCic3d7h4eMLd2we+gUEflHhEn47F2UvncPHaJRLQ7j66Rx6jvn7nBq7dvo4rN6/izIXziDt7BmFRkQiPjkJASDB8AwPg6esDd28vePkR7pxPgD88fX3g5uUJNy9PePn5wtXTA+7eXvAPDoJfUCACQoK1kBiFkIgoRMTE4uLVq4g5HYfTF84gMi4KV25exZWbV3H11jXy0LXOYcrKfoGyciZKyxhTwIyqLf+go7KKjZc15aisYqOsnIGycgaotELkF2SDzigBk0VFZlYaikvyUV7BQmVVKXknrbKqFKXlTFDpxcgvzMGLjOd4EH8fT5KfkED1KP4BGYMsKMpF6otkpL5IBo1RghcZz1GoPXxdVJKPnLxMFJXkg8mmITs3AxlZacjMfoGU9CQkv0hESnoycotykJmXgdTMVCSmJuHm/duIiItC7LlT8A70h39oMALDw+Hh54djzs444eZGRh537duHg8eOkXHGA0ePwtHVVXuw+hjsDx+DncMRbN2xF+s3bsOa9ZsJSPtptWbZDyvVC75eOjl/4WLpoiXftP7ww8qaffvtk7x9A888JxRZUQAAIABJREFUfPhsf1EedVVtba0Zj8f7TPsAVe+i6aXXf7am5Of/ZnBw8J8kkkmTobGxBT1D41vF0vET7b0jlxu7pSk84VA1XyRp4golAxzB0Njvwdm/NvVCAtS4XUPgd2njeIIejMqVUKuhBTQ1MKUsRKMhDlcrFCrIZWqMyRRQqFVQq5SYmFRgbEKJsQmltrVRiQm5ApMyBWRyJeQKFTFqorJ/XAlMKoBJmRrDE3LUdg0gtawBt2l83Gc24wmTj8d0Lh4wm3CPziMArbQRyZWtyHrViYQyPpKrmvD8ZQtSq1uQWaObDmTVdCKnphW0BiEqeZ1oHpCB+rYFlPftoLwn9tAotQIwG7rBbBCByRGA3SAAu6ELTK4ILJ4IVbxO9I4oIFdofuOeyeVKDAwMYXhkDEqVCkq1CmqVCiqVGpNKoLGjD41CKbhdQ6ht70V9ez/qOnpR296P9609qG0X4NqdVDi6BKOlowUbt2zD3EU/YcG363DYORhrtxzCgWOR2LnPHztsArD/cAQizycgn/YeJSUv0dE5gAG5GpweCUobhGA1iMDkCMHgiD8JaCSo1XeSn1PrOjSU+g51SX2HoqS+Y7KkvmOA0tDRyeAIXpY2dudXtfZcru3o9WvukWwTDg5/J5ZITIQjI59BfxxTL730+h+kKcmTvxkaGvq/dXV15nQ6fenNmzcP+vkFhG7Zsv350qXLSs1nzuowNDIb/OIrA9nH7tnHzY1T982mzrTpRjAyNifijSYWMDCeCRPzWTCzsCYBTTczZ8/DzNnztJD2A35YtQbrNm3FHrsDsD90GIePO+KEiyuc3T3g6euHoLBw+AUFIzg8TOtexeDU+TM4f+UCrt66hht3b5IV+7pY4427N3Hl5lVcvEa0L8adPYPw6CiERISTO2fu3l5wdncjHTM3L0+4e3vBw8cHHj4+cHZ3g4ePN7z9/eDs7gafAH+ER0fBy88PPgFBCAyNQOyZswiNjEBQeAiiTkUj7twpnL5wBjfu3kRSWjJSM9OQmZeF7IIc5BYQdfpsFnHb7NXrKvK2WVk5E9Uvy/CyphwVlSyUlTNQWkZHRSULFGoBaPRilGhjkbrRFYewS+koLslHcUk+CWdZOelISUtCwvNnyKPkIS0rlYC0xCcoLM4DnUkBlVaEnNwMJCQ+wcuaCuQXZONFegpycjOQmf0C2bkZYJXSQWdSkJOXiZTURBQU5aKIVoC84hw8S3mKzLwMZBdkITMvA89SEvDseSKu3bmBM5fOIep0HIIjw+Hk4QEPPz84HD+Oo05O5EFqHZTt2b8fNgeIXbXDJ07gwNGjOHT8JPYdPAwbewds3b4Xv2zYitVrNmDlT2vxzXc/YM6CxRpzK2uF2UzL8bnzFnQvXfo9f9OWHYVHj568f/H8Fffk5NQdr169mtfY2GhQW1v799qHFPr3Zr30+s/SJ6ONo3LroZHJH4UDY4e6+sZDWnqH4/liaQlXJOXyRBIhRzA0whEMyTiCIRVHMKTRuWW/N58CNM4UQOMJBtEg6MGITElG+LQbaCScqVQqKFVqKORqyCZVmJApoFKrAaWSALJJFSYmVdpKfSUmFUpMyhSQK1Sk4yRTqqFQajChAOQKYHJShdFJBeqFA3hRxcEtKg93aHzcL6nHIzoXj0tbSEB7WtaI59XtyKzpQGJFI5IqG7WA1ozMl80koGXWdCCF3YCSdx0or21GS984Kvli0N61g/KuC9RaESi1ArA4RMSRXt+JUo4QpRwhmFxiB62aJ0TvqAJyhZp0zFRaOFWrNZBIhjExKcekQgGFimh5lMmVmJBrwGvtQZNQCk7XEGrb+1Hb1o/a9l7UdfTjbZMALb39cPOKhYdXJPjNXKxctQZzF67G/G/Ww8U3Bms2O8DBMRqbd3lil20gHI5G4fyNdGTmvwSFUo32zkH0TqpQKxhEGacHbC1kMjjEx9+bqbBGq+8EpaFTQ6nvVFEaOhUl9R2jlPqOPlpDJ5fJE5WXN4vjX7f3nOEJBw639w7/Ih4YtR4YGDDQRx310kuv/0n6uBykuvrtnNzcwp9Onz7v7Ozsfnb1ml/ylixZ9trUzFI8fYbx8BdfziB3zz4GtKnxRtI5m2aE6dOMMO0rQxjMMIGpiQXMzaxgbGJB3j2zmDWPnJlWc2FuOQdmVnNgamkNq7kLsfCb7/Djz2uxduMW7LSxw36HIzji6ITjTi446eoGDx9fhEREIiAkGJGxMTh9/hzCoiIRc/oUGSO8cfcm2dh4+8EdXLt9nay4P3/lAs5cPIuYM7EIj44knTDfwAB4+/vB298PPgGB8A0MgqevH1w9veHi4QUXDy+4enrB0dkFLh6e8PT1g7d/AFw9veDm5Q3fwCCER8fg9PnziIiJRtSpGIRFh+PC1Ys4dT4ON+5eR1pWKhH/y36B3PwslFALQaMXo6KSjdIyBioqWah+WQYWm4rSMjpev6lCeQUTZeXE917WVKCikk1EF0vpKCrOQ3FJPlhsGkrLGCivYIFdSkcJpQBUWhHKK1hgsmnI1R6vztBGHDPyM1BAyUdaVipS0pORX5iDmtdVKKtgIb8wB0+fPcKT+IfIzH4BJpuGgqJcFFMKQKEVobK6DDRGCYpK8pGQ9BTZuRnIzElDbn4WMrLSkFeci4zcDGTkZuLB04d4khSPa3duIO78WYTFxMAnKAie/v444eZKHqHWQdmRkydhc+AgbOwdsHf/QRw6fhIHjzqSbY+2Bw4RVfx77LBuw1b8+NNafL30B1jPX4yZs+ZojM0tVSYzLWVWc+YPzF+wpH31mo3sfXYOyRHRp4IfPXpqX15e/g2fzzfTl4Xopdd/sqZEG/9KIBD8bffo6BdSqdR8aGRyRZ90dG9H32hYS+/wncZuKY0vlL7nCofEXKFEyhEMyTmCIRVXKNHwRFLo5t8CZ7/ZUesaAlc0AJ6wD/1jE5DrjjBrPnTP1Go1VCo1VEoN5HI1ZHI11BoNlCoFJiYJQBufUEIm10AmV2FikmhxVKmJohGVGpArFVCqNJDJlRjTRiDHJ5Ro7pEiu6YF1ykc3KZx8JDJw31GIx6xm3GfwcV9agMSy1uRWtWOZG05SEJlE55XEw7ai6oWpFe3Ir26FZk17XhU8hYpZTxQX7fiJb8bolE1WgbloLxvB61eCFqtEMyGbrDqhWDVEztopfUCsLhiMPkEoPWNKCCXfwhoutFFHRUqJZQqJSYnxzE+PoaxSTUa2/vQJBwFTyAhj4PXtvbibesg3rSIMDA+gpCAUwjwjURdXQO+/uZrzJ77CxYt3wxHjyhs3esC+6Nh2LrHCztsfWF/PBoPE6lglHJQXlWPFsEQ6PUtKG0Uo5z7K5yxGv51QKPXd5LD4AhAq+/U0Oo71dS6Djm1rmOU2tAppnEFfAZfRCtv6kl83dYTxhFJjnT1jazoHhyd0z06+gWAf9Dn3fXSS6//CcKUw9R8Pn8Gjcb69mlCwraAgJBQO3uH+98s+6Fs1ux5fAND08Fp040mfm/37OPRRRx1xSDTphthhoEJTEwtYGZuBTOtc2Y6czYZcdTV7ZuYz4KppTXMrOZg9nxiH+27Favw8/qN2LHHFvsdjuC4kytOuLjB3dsHfkHBCIuKRmRsDCJjYxAVF4uImGicuXiOOACtLQPRVexfu30dF65eJA9EX7p+GReuXkTcuVMIj4lAcARR+DG1tdHbPwCevn5w9/aBm5cv3Lx84eLhDTcvb7h6EqDm7O4BDx9f+AQEIjg8Aj4BgQgMDUNoJOHKRcVF49L1y9rbYDfxLCUeSWmJSExNQH5hDkqohSgqyQeVVkRGFcsrmCgto+PV60q8ffcSZeUMMJglJKCVlTPBZFHJApDSMgZo9GIwWVSUljFQWVWK6pflZC1/aRmDcLhK8lFYnAcGi4oCSj5KGMXIys9EbmE2qPRiFBTlorqmAuWVbOQVZCMnLxNPnz1CMaWAjDTSmRRQ6cVgldLJspDE5HgkpTzD8xeJyMpJR2b2C+0OWhbSczLw6NljXLpxBacunEFIVASiTp+Gb3AwXLy84OLliRNubnD19sbBY8fg7OkJ+yNHsct2P/buP4h9Bw/DzuEIbA8cgo29A+wPH8O23TbYsXcfNm/bjfUbt2HxN9/DcvZ8mFrMgslMK5hazFKbWVopLWbPHbGas7Bn+fJVbzdv3lnk5eV/4cLlq26FhSWra2rez21sFH+uLwvRS6//ROncs+bm5v+vv7//HwcHJ4yGxsbm92ujjZ39w1eau6WpjWLJK75Q2sIVSoa4Qsk4VyhRcgRDao5g6ANA+z1Y+ySYkd8nAI0j7EX38CgmVRqoVL8FNKVSCbWaAJTBoRGMjsmgVKuh0qhIQJuYVEGuAEbHZOjpHYBMroZKDXIUKiUUWrdpbHwSMrkaE5MqtPWNIutlC66VNOBmSS3u0hpwh8bDA2Yj7tE5eEjj4CmrEalV7Xhe3YpnpTzEl/ORUt38G0DLetWBlDI+ElkcFL1qBeV1M9629+N9lwTU953EDTQtoLEbRNp4o+DTgCZTfwBlU0epBTSFSgm5fBIymQyjkyrw23rRJJSCJ5ASpSwdfahtFeNtSy/et4kgGR9BoF80fH1CUVFeDSsrK5ha/ATrb9bghEc0NuxwhK1DELbs9sSW3Z7YfywSuZR3eFPbhQa+EGKpCjczS0DnEmDJ4grB5GodwD8BaCzuh9+fAmgaWn2nklbfKSup7xiiNHQJqNyuV+zG7oKa5p4rtV39fm09Q1sFA8NLBwcnjAD8iz7vrpdeev25NcU9+2uBQPBHLpdrUlBQsPLu3Qd2bm6eZ7bv2Ju0YNHXr83NZ7VPn2E8/MVXBrKpu2e/N7pyEN3u2fQZxphhYAJDIzMYm8yEqZklzGfOIuFMVxaiGxPzWTCfNRczZ8+D9YIlWPD1MnIPbfseW9gfOoqTrh5w8fCCp68fAkJCER5NgFlIBHFY+tS5szh76TwuXb+Mq7eukXfP7jy8S948u3rrGi5dv4yL1y5pXa3TiIyLQmhkOFn4obt95hMQCC8/f7h4eGrBjIA0JzdPnHT1gLO7F1w9f4U3T98AhEYSRSFBYeEIDg9D9OlYXL11TdsoeYestU/LfI7s3Azk5meBQisiWxvLK1jkjlnNqwpUVZeiqroUNa8qUF7BJAtAmCwqaPRilJUzyRtoNHox4ZZpv8cupePtuxqyxTG/MIeAQXoxGCwqaIwSFBbnIa8gG8UUIi7JYtNQVsFCRhbRLEljlCA7NwOFxXkoKslHUUk+KLQicv+smFKA5OcJSEp5htT0JDxPSyJ/PiM3Aynpz/E0KR437t1C1OkYRJ85hdDoaHgHBsLd1xcuXp447uICJw8PHDx2DG4+Pthlu58EtN377GFj7wDbA4ewy3Y/bA8cwo69+7Bh6w6s/WULVv68HnMXfA2LWfNgZjkbJjOtYGxuqTGZaaEys5w9bmW9YPCbpcu569ZvYZ1wcr0dG3sqMCMjY3NpadWS9vb2aXw+/x91e+J/7v829dLrf7U+EW38cmh0dF6/ZHRVv3T8RGe/JLqtT5rWKB5i84VDrXyhpI8rlExwhRIFVyhR69yzD0BsynzKSft0BHIQDaIB1It60dE/BBmAxqaW3xSFqFQqTE7KMD4+ibFxOUZGJ6FSa6DSqD9w0AhQU0IiHYNcoSHATKkmgUalUhLAowJkk8Q+W+fAOHJr2nC9pAE3it/jHp2D+8wmPGI34xG7EUkVbYhnNyG5vAWJ5Y1ILG9EQgXR4vi8qvk3DlrOmy6kVjThRhYLF5IKkFFeB0ptB4redoBWLwa9TvQbB43dIPgg4tg3oiAA808AmlJFtDkqFAoolGqMTWrQIhpEk3gEPKEUDZ0DqG3vRkN7D2rbevG+pQuDE5OIiD4PNzc/1Lx8gwWL5mP+ks2wWrQCh51D4B18GTYHg7Ftrze27vXCSY+zyMyvQmuHBHX8brT2KXAzlwEKTwg2XwwmVwgmV4BSLYRNnX8N0KYUiKi1kDZB43QNURsErUye+HUlvzutprnnCk/cf6K1Z2hLz9DovMHBQUOti/bXehdNL730+nNJV6wlEAj+lsNpn/b69evZKSlpm8+du+h08ODRO2vWbsifPXs+z9hkZveXXxlMfP7FdOUXX87Q/N4R6qnNjbqdsxkGJphhYAIDQ1MYGpnByNgcxiYzYWZuRcKZyZRGR52TNnP2PFjOWYA5C7/Ggq+X4dvlK/DDqjXYsnMP9h04BEdnN7h4eMHLzx8BIaEIjYxCUFgoAkNDEHP6FM5cOI8zF8+R8HXt9nXSvdL92sVrl8h445mLZ8kD1SERYeTvFRxOfO4fHALfwCC4eRFw5uHjD3dvPzi7e5EfXT19cOykC447ucI/OAz+wSEICAmFl58fouJicfbSebIU5HlGCjJy05GcmoiMrDQUFOWCVUpHmTaSWF7B0t47Y6LmVQVo9CKyIKT6ZRko1AKwS2lkeYguFqn752j0YlBpRWCX0sm4JLuUDiaLihJqIQlcdCYFVS/LkZ2TTjY/stg0UGlFePW6Cm9qXyMpLRHpOS+QmJqA3KIcZOVnooRRTDpwdCaFBLTE5HikvkhGemYK0tJTkJufhZy8TLzITMO9x/dx894txJ0/jdDocMSeO0OWg7j5+JCAppsjJ06Sztne/Q7Ya+eAPXYHsX3PPuw/dAx77A5iw9ad2LrLBus3bsP3P/6MWXMWwtxyDozNLWFoOhOGpjM1hqbmakPTmXJzyzkjCxZ+07H8x5/f2Nk5JPv4BJ19/PipXUlJyUoul2uirdzXn8TRS6//qHRP/3QHqYnWxollA5Lx7aKBkcCuHsmNph4ppVE89I4vHBLzhUNSnlAi5wolKq5AouEJCaeMP9U1E0vBEUvB+Z2446emQSRBvXgQDaJ+tPUOYkIDNDa1YiqfTb3/1draDplMhfEJBVRqDZRq1W920OQKYiZlKiiUGjLmqFApodYCmlJJtDsqZGqIhiZR+LoTN0o4uEmpI2KNWkB7yOLjEYOHJ0w+EkoJONNFHD8EtBakv2xBZk0bst90IP+9ELnvu5D3vgNF7ztQ+LYd1DoRKO+FWkATgznFQdMBGpsnQjX/1x00pVL9AaCppgCaXKmGQqWGXEEUiozLgY6eYTR1j4AnkqK+cwDvOvpR1zmId229qG3vhnhMiVOXbuHmnccoL6uC9fx5mDV/PWYvWgFn7xgERNzAvkOh2Gbrg817PeDpfwnPM5hobOlHLb8PtR1juFtcDUpTN9h8sdZB6wKL0/UnAY35EcB9AGh1HRpaXYea3tAlpzd0jVE5QjGDI+SzuEJKdaM4/n17XyBfPGQvGBhe1jc8bIlfD1jr3wj00kuvP4u076F/zeFw/qG2ttawrKxs4YMHj/eERUT77tpjG7/8h5/ollZzWg0MTfq17pnqs8+nab78yoC8c/apo9QfRxunzzCGkbE56aDpYo66GJrJTCsYmVnA1GIWzK2sYW5lDcs5C2A1dyGsFyzB/CVL8c33P+KHVWuwYesO7LKxwxFHJ5x0dYeXnz/8g0PgF0S0LoZGRhD7XnGxiDoVg9MXiKIQXYxRB2VnL53DucvncfrCGZy+cIaEs8i4KIRFRSA0khjdfTP/4BD4BATCJyAQnr4BpFPm7O4FFw9vODq74biTK066euDoCWf4BYXCw8cXfkHB8PDxRdzZMyQw3n/yAKmZz5GRm04ejKZpI42/OmdMlFewyCp9JosCBrOEhDQavUjrpBEuWVk5E2UVLALwyhikM1b1shwMFhUsNo24oaYtCGGV0kGlFxN7b5QC5ORmIO1FMnLzMsnfk8OtRT2vFpl5GXiRnQZGGR1pWanIL8lDZl4GKLQiEvZ0dfsZWWnIyklHUXEusnPSkVeQjaycdDxLfIrH8Y9x/soFhEaHI/pMLLwC/OAbHIyT7u444eaGk+5uOOHmQrY47jt4GHvsDmCXrT227bbD9t37sHXHXmzbaQMbOwfs2L0PG7fsxI7d+7Dy5/VY9PV35B6jkZkFDEzMtWOmMTKzUJjOnD0+Z+4i0dJlPzbs2Lkn29nZ7fqNG7eOZWXlrX/37p1lS0vLl/oiL730+g9qinv21wD+YWBiwmBwVD63f2h8S790/ER73+i1VrE0vUksecsXS9r5wiEpXzQ0yRdKVXyhVMMXSjF1PgY0rvhfjz1+DGkNokG09Q5hRK7G6JjsA/dMo9GQI5fLIdcemVYo1VBroN05m1oSooJcoSZ30GRyJRRKIg6pVsmgVBE7bJMyFeSTCogHJ1H0uhPXC+txn8HDXVoDbtN4uEfn4RG7EU+YfDwrbUY8k4dnpcR8AGjVzUh/2YyMmhZkvW5D9pt25LztQN77LuS/60Th+04Uve8E5b0I1FrCQWPUiz5w0JgcAVgcAtBe8oXoG1VCptCQ7h8Z01SqideiBiaVKsgUKoyPyyFXACOTGnT0DqOldwQ8kQR1nQN40z6EquZevOscwKuWHpx7kgWOsBt9klGEB0fBwnoOlnxnA+uFq2B32AdnLydju40vttn6Yf/xCARF3AK1tA7vOJ14z+sF8303nrJqwWjpRjlPjDJt8ySbJwSbJwKbJ/oNqH1qpv6cdkdNw6jvUtEbuuT0eqGUwRGKSznCtxV8cXFNS9+12o5+v9b+oS1dA8PfDgxMGAD4Z/3TOr300uvPoY/bG9+8eWNRVFT0/aVLl466eXjFrF+/KWvh4m9fGpvMFE2bbjT8xZczFJ9/MZ08TD3VKZtapz9tuhH5cfoMY3xlYIwvZxhhmqEJphuZwsDEnISxqWNmORszZ82Bxey5sJozH5ZzFpAO2rzF32DpDyuxcs16bNi6A7tt9+PQsRM47uQCNy9vuHv7wN3bB97+fggICUZACNHmGBwRiojYSMSciUX06Rita3MKcedP49SFMzhz6Rzizp8m5twpRJ2KRnhMBCJiCDdOV9lPFIYEwTeQiDq6e/vB3dsPTm6ecPb0wHEXZxw+4YgjJ0/C0dUFjq6u8PDzxRHHEwgMDUNweAQCQ0MQGRuNa7evIz75GTKy0vA8LQnpmanIycsEg0lBQWEOWYX/5u1LMFlUbTtjEQoKs0FnFIPFJvbS2KU0VFaxyQp9dikdVS/LSWjKyctEYXEecvOzQGdS8CI9BekZz5FfkI3naUnIK8hGYXEensQ/RNqLZBSV5ON5aiLyCnOQV5gNZikdDbxaclctMTkezxKfIK8gG4nJ8cjJy0R2bgYKinJRUJRL7qQVFOWihFqI/IIs5BdkIyc3g7iLlv4cT+If48x54sxAaHQ4vAL8cMLNDcecnXHI0RGHHI/hyElHHHVywk5bW+yy3Y/d+w5g2+592LTdBlu222DD5l3YtnMfdu6xxy+bdmLT1j1Yt2E7UQwybzG5x2hgYg5Ti1mYZmgCQ1NzzQxjM5WRqaVspoV1/7z5S1pXr9lAt7M7GB8Xd9onISFhd3V19YLm5mZDfZujXnr9B6VzzwQCwd8C+GepVDZzYHhiaf/QpH33wFhgZ+9IfFuPlNrYLWnki4e6eaKhcb5wSMEXStV8oVTTKBrGx8MXD4MjlqLh3w1oUnAFBFC0iPoxodRArf4w3vgrpKmgUBBFH3KFGhOTCqjUIGr2xxWYlKkhk2s+cM6mjhoqaNRyyFUqjMtVkMnVkMuV6JHIQX0vxM1iDm4WvcddegNu0/k4l1GF56+FeKx10J6x+Ihncz8JaBk1LcioaUHmq1ZkvW5DztsOFLwjpvB9J4rfdYL6ntg/+9cArUYLaBMKNeQKlTbOqD0zoAU0hQaQqTSQqYDxCQVkCkA6oUJX/wiae4bBFUpQ19GPd50DeN0xhFfNIvROavA4rwKv2jtQy22Cs6M7lny/At+vPIyvl23B3gOeuHg9DTts/XDwRCyOuMchNPouWFU8vK5rA7dVgir+MJ5XcsFsFqOK34NyrhbKtHD2e/MpSPtEkYia3tClpDcIx+kNgkEGR9BYyhVVVjf3xr9p6zvVLB6y7+iX/Nwrlc7s7h79Qvv3V/+0Ti+99Ppv1ZT9s7/jcDh/rKqqss7KylsVG3vK9ZjjyQsrV60tnjt/8XsDQ7Per6YZjn7x5Qzl519MV+vATOeg6Robp7plup0zA0NTTDcyxTRDExLQDE1nwsjMQlfgADPL2aRrRrpn1vMwa94izFn4NRYvXY5vvl+Bn9b+gnWbtmLLzj2wtXfAEUcnOLt7wsPHlyzq8PLzJcs9AkKCERAahPCYCIREhiIgNBARcVHa48iRiDkbh7jzpxFzNg4xZ+MQezYOUaeiERkXhYiYKLJuXwd8OpfOy8+fLAg5dtIZh08cx1GnE3A4fhT7Dzvg8InjcPZ0xwk3F23joxfCoqIRHB6G81cu4vaDO4hPfkYee9YBTU5uBlnuwWRRUf2yXNu8WIgSSj6YLApo9CKw2FRUvywj2x3ZpXSw2ETUkcYoAYVWhLyCbBSV5INdxkBeQTbyC3PI49eFRbl49OQ+8gqykfoimfx3eJHxnGh1zHmBF9lpKGEUg8amIr8wB5nZL/Dw8T0kJD1F6otkPE9LQk5eJuhMChgsKopK8lFeyUZ5JRsUWhHYZUSRSX5BNtIznqOwKBfxCU9w685NxMRFIzAsCL7B/nD19sRJd3cccnSE/ZEjcPJwx0l3V+w/fBh2hw5pGxr3YctOW2zZYYeNW3Zj1ZpN2LR1D9as34pNW/dg87a9+Gn1RixYvBTW8xbDYtY8mJjPgrG5JcytrDHD2AxGZuaYZmiiNjCeKTc1s5LMsl7Q9eOKn8t37tyTFhISFnr37oMDTGb5N+/e8Uz5fP4/6tsc9dLr/6em7p4NDg7+U//4+HSpdHzJ0PD4RnH/mE9X3+iVFvFwUbNY+pYvHhLzRUPDfNGQnC8aUvFFEk1T9zCauofRJJaiSSz9FdLEUvDEEmI+hjKxFByRFsaEUvBEw+TnXOEwOMIRcIUSNAlM6BhkAAAgAElEQVQHMDKpgkoLaB8XhWhAFIiMjk2i5tU7LaipyNbG8QkFRsdkkGudJ5lcDaVKC2gqNZQqOVSaSSg0GowrNJhQqCGTKdArlYNWK8DtEi4eMptxj8bDHSoPqW96UMiT4AGdh+c1XXjK5iClvBHJlU1I1u6gpVa14EUVAWiZNa3IetWK7NdtyH3bgYK3HSh814GidwSgUd4LQHkvAK1OBEa9GMx6IZgN2rKNBgLQyrhaQBtTYlxO3G9TqLSjPROgA7RxuQrDYzJMTKgwPq5Bv1SBtm4JGsVSNAileNfRj7dtPXjbKkRbNxEfFY2o0D02DhdPH8REXcKir5dh3VZ3/LDuMOwO+8Hd9wKOOJ+BX8QjHHE9jcu3slD1tg2cJjHae2VgvutGxssmMJtEqOR1awFNrJ1fgayUTwybdNd+OwSYdYHFFYDFFYDBEWgYHKGa3iCU0xsEY4wGoZjZIOSV8UVF1U3dj+q6+n2auwdtxP3SJRKJxHRwcPCftJEK/ZvBX45u/OEPf+j6L54b/22vRq//ldL+P+f/8Pn8f6yvb/uKTi9dkpCQstnPLyjY1nb/vW+W/VBmYTWncfoM46GvphlOfv7FdNXnX0zXTAUzXVPjp9oadftmhtqZYWxGumfG5pYwtZiFmbPmwNJ6LmbNnY/Z8xbAev4izF24BIu+WYblP/2Mn9dvwJoNm/DL5q3YaWOLXbb7YGNnh0NHj+K4kzPcvb3h5uUFTz8/ePn7wzeIKPXQQVVQWAj8ggPgG+iHgJBABIQFITgyFEERIQiKCEFodDjCYyMReSoaUdqJOROLyNhoMtroGxiAgBBil8wnIAhe/gFw9/GDo4sHDjs6we6QAw45Hof9kcPYf/gQCWxuPl5w9/FBaGQkwqIicfHqZZy/dB5Xrl9Bcmoyikvyka8t5CihFIBdSifvnZWWMUBnlIBdSkd+QTayc16ASitEaRkdL2vKUVVdCiaL2E9jsWlgsYkiEF0LZHpmKlngUUwrRFZuBrLzMpGSloRH8Q+QkBKPjJwXSM9OQ3ziE+QX5yLx+TM8eHwXWfmZeJ6RAiqbgnxKHgpK8pD4/Bkyc9JRUJyL7NwM0p0rphSgsDiPjEyWV7LBLmMQTlphDlLTkpCVnY6MzDTcuXcbZ8+fQVhEBHwDA3DS3Q3HXZzhcPw4jjk746S7O445O8H24AHsc3DA1t27sWn7TmzdtRc799pj1dqN+HHVOmzauhubtu7Gz2s3YeOWXVi1ZiO+/W4lrKwXYNacBbCyng9jcyuYmFvBdOYsGJtZwNDYHNMMTNQzDM2UxiaWoxaWc3q+Xbr83fpfthZ6eHidO3/+inNBQcnK169fz5ZKpf+ifXCqT7bopde/V7rFZgB/MzIy8plEAlOiVn/CVtg/GtPVN/K4RTxc3tgt5TeKJYN8sWS8USxRNool6qZuKXTTKJYQQwKa9mvxEBrFEvC1rhpXKAFP664RwPbhNIikqBdJ0SCSgC/ow9C4Egrlr1X7xE00Yg9NpSHco5bWTpw5exETk3JoAG0bIwFo/QNSKJTQ7qGpyFigSqWESi2DQjUOmQoYGlNApgImJyfRLZGBXteFW8Uc3CppxD0qD3epPDxmt+IZm4/79AYk13TiAaMWKWU8pFY3E4BW2Yy0SqLFkXTPXrUh+1Ubct90IP9t+wcOmu5INa2eADRGvRAMHaBxfgW0V3wR+sd0rZQqsq2RcNAApVINpQYYnVCgu0+Kvt5hjIyoIO4fB6etG3yxFPVdErxtG8Db9j68b+lCs0CMCRUgmVDjRU4BTrh54snjDFjPmYvVm52w3sYXW/a4wuF4GAKjniAwLhEn3M/jTjwVla+b0dLRB8GQEjmljch50wZWSzeqGntRzhODzRejlC9CWaMYZY1iEs7+1BCA1vXRCMDkCDUMjkDJaBDIGA2CQSZH2FHGE5VXNYnT33f0xvAEg45dfSMrxAOj1sKRkc96enr+Xt8c9Relrj/84Q/4L56u/7ZXo9f/Sukecg4NDf3fxsZGg8JC6nf3Hz3d7e7pG71zp0384sVLa8wtZrfNmGEy/NU0Q9kXX85QfwxoU2ONOuds+gxjGBiawch4JnHrTLtzZmRm8aFzZmUNS+s5mDV3PuYuXIR5ixZjzoLF+HrZcvy4ajW27NqBHTZ7YGu/H4eOHYWt/X7YOxzEMcfjcHZ1gaunB9y9veAXFIjQ6EiEREUgKCIMASFBCIkI+9VF00KWb2AAAsKC4B3oC99gf/iFBJDAFhIVhpDIUHLCoiLIiKMu3ujlFwA3bz+4evnCycMLBx2dcOD4Sey1t8dee3vstrPDll27sNfeDodPOOKEmwvcfb0RHBGGy9evEjfWosKRkPQMVDoFRcV5yM3LRHFJvvbeGRtMFhVUWhEYTArojBIUl+QjMysVhUU5qH5Zhjdvq1H9sgyvXleiopKF4pI8MFkUVFaxQaUR99Ny8jKRm59FNjMmpSXiwdP7SMtKxcP4B7h66wr8gn1x+8EtpGY+x9OkJ3ia9ARXbl4mv07LSkV2QSaS0hKQmZeBxNQE3H10B9kFWaBp99jyCrJBoRWBQisij1qXVbBQXVMBOpOC9IznSHmegISEeDxLeIrLV68g9tQpBIeGw9PXDweOHoXNgQM4fOIETri5wf7IkQ/+LHfb2WGnrS127t2Hbbv24ue1G7F+4zasWLUOy1esxup1m7Buw1asWLUO3363ApZz5sPSeh4sZhP7Z2YWs2BqZglTM0sYGpnDwNBMM8PAVGVsYjFuajZrYPHiZQ2rV2+gn3R0vR4be8Y7MzNnXWVl5fzGxsbPte/JekDTS69/jz7ePdPW6i8YGJnY2Tc04dbZP3Kvo1uS3yyWcJq6JaJGsWSsqVsqb+qWqpu6pZom8QiaxCNEpFH4oXv2K6ARDo7u53giKRq7R8ATE8D2qegjRzQCjliKRkE/+kcnIO7pRnd39wfumUqlgkqjhlKlxvtaDoqKaejtG4BSrdICmQZyBVHBT+ylqSFXEDfRlCo1FEoZlKpJqDVq9I/LkF7CxIQKkE3K0T+iQCW/B3coHNwo5uBGYR2u5tbC/cwz5LxqQ0J5Ax6xG/CQWY9nLC4yXncipaoFyZ8CtJpWZL9qQ87r9n8XoDE5Hzloo8rfBzQVsZcm034tk6nRPziGPskE2nuGwenqQ31nP2q7BvCmrRfv28WoaxWgZ3gSwv5xuPpF4Ny1B7h5Owlz5y3GyvWHYHM8Crv2eyHm7BOcuZqJ0HPJiDwdj1xKHd41CCDuH4VEDiTkV6Ogrguslm5U8rtRwe9GWWM3KvhilDV2k1PKF5PzqchjqbZg5FPD4AjUTI5AyWjoGmM0dPWXcQWcMp6QVdPSc6+2oy+0pVeyUzg4/J2udl+/i/YXJT2g6fVn1dSCLR5P+Fltba1ZRkbOz5euXnc4csTx8i8bNmdYz11YZ2JqIZw23Wj8y68MFLpq/an7ZlNHB2kGhqYwMDSDgaEZDI3MYWJqCVMzKxiZWcLYzOrXSn2rObC0ng/r+Ysxb9HX+Pq7H7ByzVrYHDgIR1dXOLo444SLMzx8vOHm6QFPH294eHnC198PQSHBCA4LRVRMNGLPnEbc2TOIiotFZFwMok7HICI2EmExEYRTFh6M4MhQBIQFwSvADx5+PvAO9IOnvy/cfb3hFxKEgLAQ+IcEwC/YHz5B/vALDoRvUCB8AgPh5e8PV09vHHd2xWFHJxx2dMKh406wOXAIew8exh47ov599z572B06gkOOjnDx8sJJdzd4BfghJDIUsWfjcP7KBdy6ews5ecRRah2AMVlUVFSyQWeUoLyCRdbb66ryKdQCFJfkkYeqdUeqWWwqGMwS0kljsigo1lbf05kU5BfmIDs/E48THiHh+TM8TXqCu4/u4MLV87h2+yqiT0chIjYcV29dwanzp3H11lXcvHcTSWmJyC7Iwr3Hd5Cek4aU9GRk5WciJT0ZuUU5YLCoRG1+VhrS0lOQk5eJjKw04sA2owQMFhWZ2S/wLOExEpOe4vrNa3j89BEuXLqI4LAwuHv5wMXLC/scHGB/5AgZb9x/+DC2792LHTY22LN/P3ba7MOm7TuxadtOrNu4BRu2bMfKn9fhux9X4bsff8LqdRuxas0vWPr9Ciz8ehlmz18Ei9lzYWY5G8bmljA2s4SRsTnMzK1gaGSOGQammukzTNRGxjNlpuZW0nnzl7T88OPPVfvtHB4HBoZGxMc/385isb7lcrnTm5ub/0n/0FQvvf6d+mj37F+Gh2UWg8MT3/VKxhzEA6Oh7T3SlPZuKau5e7itqVva39QtndS6Z5qmbgK6fgNoH4DZb4cnGkJjtxT8KdFHvhbWdMMVjxKfd/WhRzqG4dERjI6OfhBzVKvVUIPYwxobl6FL0I2W1nZoAChV0MKYGmPjcm0xiAZyBTA+IcfYxDg0UEKlnoRGA3QNDiOLUYFhuQqySQUGx1Sobu7DPSoP14sacLOIg+AHFNzLeomWUQ2eMd/hIaseT8ub8IBSj8y3IqS+7PgV0LQ7aDpAy6pp/U8HNLlSoXUDoYVSNbmLJ1doMC5ToUM8gGbxABo6e1Hf1Yf3nX143daLN23dqOF34H2TAK8aWrHnoCuephbh3MW7WLToe6zfcgzHPc/jpGcsHidScPsJDREXn+PWo3ywqlvRLpCgXzIBiQxIo75DCUdEABrvQ0Arb+pBeVPPbwDt92ZqYQibJ0IZV4gyrhDshi4Nu75LxarvnGTVd0pLOV1tZTzh66pGUcqbtt7zjd0Sh85e6dq+4WGLnp7RL/W7aH9R0gOaXn9WTdk/+5vm5uYvqqvfWSYnp204e/aSo529w61Vq9fnWc2ayzMwMuvR1ev/8bOvNJ99Pu2TgKaLOOr2znSAZmBoBlOzWTA1mwUjUyvivpnlHMy0mgcL6wWwmkvsmS369jv8snU7dtvZwTswACFRkfDy94F/cCACggPhH+iPgKAAhEeGIyomCpeuXML1m9dx78E93LhzCzdu38SFq5dx8eplnL54FqHR4Th98SxOXTiDsJgIBEeGwivAB14BfvD0J+DMzccLrt6ecPf11v6aD7wCfOAd6K+FNx+4+fjgpLs7Trp6wOHYCdgfPgY7h6OwPXAYNvaHYOtwFLtsCTjbu98Bdg5H4OjqBkcXNxx3doG7rxci46Jw9tI53H10FylpyWRrI51RgsKiXPKOGZNFRVV1GVhsGgoKc8Bi08j9sqntjTo4o9IKwS6lkcUhVFohcvMyUVCUCyq9GCmpiUjPTsOjZw/xOOERbty9gSs3ryA8JgzHnI7Byd0JLp7OCAwLRHBEKC7fuIKL1y4hPjkez1Li8STxEW7eu47bD24hLSsVJYxiZOZloKgkH/mFOcjKSUdKaiLyCrKRkZVGumn5hTlIfZGMZwmPkZT8DHfu3catO7dw7uIFhEREwMXDE24+vjjkeAL2R47C9qADdtjYYvc+O+y0scX2vTbYaWOLbbttsGn7LmzcugNrN2zGDz+txnc//oQfflqNH35ajeUrV+Hb73/Awq+XYs6CxZg1byHMraxhakHsnxmZWsDQyAwmphbk38UZBqZqQyNzubGJ5aj1nIUd3y778c3uXfuSPN19Tz26/9SGQqH8UF9fb9Te3v7P2qIQPaDppde/VVN3z8a1u2d9w+ObugdH/AR9o9c7eqXU9h5pbbNI2tsslo40i6XKZrFU3dI9jJbuYTSLdSNFk4iYZvHHQ/xMk3YaxVI0dg+DL5b+7jSKRtAoHkGreAjCASlUag0Zb9S1N+oijgSUaLS3z+RaWCGKQXSjUBIOGrGDpoFcKYdarbuBBrzltSC1gIoeySiGpeOQTGjwpm0AD5g8XCt8j/v0Zjwu7QCTPwoWfwBPGXV4wKzHYzYXT5hcJFY043lN+weAlv6y+QNAy33z25IQSq0A1DrhbwCN3SD4DaB9HHFUqlXka1eqNJDJlZDLiQinXKnBuEKNgTE5ugZH0NQjAUfQj/dt3Xjd1ofXHf2oaRahrVuKa7cf4dqdVCSm0RAddxHffr0aO/acgEfAVcRdfIqsgtdIyKjBjXg6HiVR8JYjRu/ABPolo+geVuBZXjnojWKwmsWo5IpRwe9GuRbQKrSOWgWfaHj8UzMV4khXTTtsrhAsjkDDbOhSMuu7JlgcQS+bK2oq54moL5u6n9Z39fu1iAZtxf3SJd3aXTT9YvJfjPSAptefVVPWBP6Oz+fPKC+vmfvoUfzO8PAYrx07bZ5+v3wl3czMqm2GgcnA519MJ+v1p1bqfwxqU3fPDI3MyTE1nQ1z8zkwnTkH5pbzYDl7IWbPXQLrBd9g4TfLsezHVfhlyw64+/oi6vQp3Lx/B6cvnsP1m9dw/+E93L1/B/fv38XT+CdISkpAbm428vNzkZHxAllZGSgoykdGVjqeJT3D06R4PIh/hCdJ8bj7+D7OX72I2HOnEHM2DoHhwfALCYFXQABcvb1xws0Nx11ccNTJCSfc3ODk4YaT7q447uKM4y7OOOrkhKMnnXHY8SQOHnXU3uI6qK18t8XWXTbYvGMPNm3fjfWbtxO7UjZ2cPfxx6HjJ+Hh54/A8BDcun8bdx7ewbOUeCQkx5PNh7piDwq1EC9rKlDzqhJMFhWFRbnk/bLsnHQSynRRRp1zxi6lgUorBItNBZ1RjLJyYm/tRcZzFFMKkJaegvikJ0hMTcCDp/dx8eplRMREwd3bi3Aa42IRHk0Uopy7dBGBoSE4e/ECzl0+h/jkp3j07AHuPLyFOw9vIz75Ke4+uoP45KcoKMolb51l5aQjM/sFUlITkZOXibyCbMQnPNY2VKbg3uP7uHD1IsKjIhF9+jR8g4Ph6RcIO4cj2H/oKPbuP4i9+w9ip40dduzdp/0zJJobN+/YjTUbNmPV2l+wfOXPWLp8BVb8vBrf/bgCS5Yuw7ffL8eCJV9j7sJFmLtwEcxnEbfPdCcbTMwtYWwyEwaGppg23RhGxjMxw8BUY2hkrjQynjluaTVXvHDRtw2bNm7PcnR0unr9+p3DWVl5a+rq6sx5POFn2vdjfapFL73+LZoayxgeHv6jRDJpot09sxH2D8d09g4/be8ZrmzrGW5qEUuHWsSSiRaxVNUilmpau4dBjBSt3VK0iKVoEUumjO7XhtEiHkGLeATNWretSTyCRtItk3xyGsVSNIqkaBENQdg/AoXqtwUhKpWKjPkRDpkaMrmSjDhOylQklOkATaFUa+FGob2jpoFSA/BaO5GWWwzJiByjYzJIxzV43ynBfQYH1wrf41YJF3dpLUhkt+IptR5PGHw8YPLwuJSDhIpGxJfzkfyy5Tc7aBk1Lch+TcQbp+6gFdV2kXD2e4DG4gp/A2iTMuI1yJUKIuaoJF6bQq3dsZNp6/YVGozJ1RiRA0LJOBrFQ+AKB1HX0Y83bQN41TaAV609aBL0o7LmDc5efITE51QEhUTi2yVrYWN3El5Bl3H2ahKyC9/g9hMmQs4mIjWnEg3NfZCOqTE4PIGeYQWuJ+aD2dwDVrMYFVwxURRCAtqfnnKe6Ndp6v7EztqvsMbkCDRMjkDF4AjkTI5giMkVdpXyRJVVTd0Z7zv6Y7iCwePELtrI7OHh4T9CfxftL0X/JkDbu3cv8vLyIBKJMDY2hnfv3uHQoUN6QNPrPyzte+lf1db2/H19fb1RWVnZwrt3H9gGBoYGbN66I/nbpctLTc0sO6fPMB76/PPp8s8+n6b+1K0z3UwFNCNjcxgZzyTHxGQWzMysYWYxF+aW82BlvQhW1ovw/9h76+i2DzTdf/bub/c3e+/uzp1pmBmbtCmkzJy0SdowNSlMym3SNNgwMzp2THHMMTOjLLJkZskik8jMMUj+3D9kK3aS6XTn7s7Mnuv3nOdI+ipSZEk+0sfP+z7v/McX8+QzL/LuByv47MtvOH3hAo5uzjh7uHDT/SY+fl7cCfQjPDKUmNhI4uKjSU1NQpCeQnJSPMnJCSQmxREVE0FkVBih4cGEhgcTHhNOQFgAbl7u3HS/yWWHyxw5dYT9Rw6w99BBdv38M3sPHWL3gQN8vX27fSny1m1/5NMvv+DTL7/kk21fsOXzbXz82TY2bPmUNZu3sHLdxn6IsIHZe8tW8s7SD3nzvQ9YumIVH63dyOZP/8i2b75j27ffsfvAAQ6dOIrzLWccnK9z29cDH38vIqJCSUiOQSYXk5qWSFa2FJlcTKZMRFp6EvEJ0faF0VHRYWTKhGQIUxCKUpHJRQhFqfZWx8SkGISiVHurY1JyHAH9kfmBwf4EBPvb586uOTmy79BBvt2xnR/37ubEuTPsO3SAfYcOcvbiRc5cuNC/TPsMx04fxTfQm8CwO9xwccDdyw3nWzdx93IjMjqM0PAggkLu4Ol9C19/L/zueNuWUYfcISDIj6iYcPyD/Lnh4sjh40fZe/AAR06eZO+hw3z34y5WrtvE5k//yMatn/HR2o1s+uRzlq9ax/JVa1m3+ROWrVzLm++9z8tvvMMLr7zB08+9yOLnX+K5l17hicXP8tiTT7Po6WdYsOhJ5i20BcvMnLfAngo6efosO6CNGz+ZMWMnMWHiNMaOm9w3bvzk3gkTp92dMXOeacHCJxVvvfVezJbNnzpduHB1W2Bg4Lt5eXkzVSrVyP7wruHP4+Earl9TAx8qJpPpf9V1dIxra2ubX9fUsczc2PF1TV2LU4WpMUptbCpRG5v0KkNzu9rQ3KM2NFsfBmg2SLPB2b1jLUMAbUADLZG2KP4/BWiNlBttgFZd20qlvpaent4HY/axLZy2tfr13ZvPug/QbHDWZwsVsfTSY+m2OXBW6Omz0muFykoDzc2ddHX30dRhobCqGdeUIhwSCrmZUo5TkhqnxBLckpXcStfhllbOLUERnqJS/OQqfKTlDwBasEx1LyAkr+oBQIsvqCKhcGiLY1pJtR3Q0or1iMoMZCn01Lb30t7ZS1e3he6e3n5Z6LVAZ3cfTS2dNLd00tMLze13aWrvoaq2hSK1HrW5FUVNk21Rta6RbG09crWRYk0FbZ0dnDnlhKdnDFu2fsZTj7/BuvXb2H/EEQe3KGKTyvALz2PvKS9CY7Mor2ygpa2bu10WDC3dHL3uTZrKhKDc5qDZ2hwNSH4FoA3WAJwNlkBhRKAwkV5mJL3MSGqpwZpaou8VlOrbBWX6OkGpvkRcZkjPVpudinS1+7SmpmXG+pan6+o6xgG/G26r+H+ifhWgSSQS/Pz8WLNmDa+99hqnTp3CYrGwf//+YUAbrr+4Bs9xKxSKfysoKJgaH5+y+NKlq1u+//7Hw2++/V7//rNphtFjJrSMGDm2d8TIsdb7gWxwtP7g+TPbQupp9pCQyVNmMn3GXGbOWcDcRxcxf+GTLFy0mCeeeZ73lrzPzwcO4XjTicDgACKjw+37uVJSE0hJTSBTJiJTKkQuE5MllyARC5DLxGRKhUjEAgQZKaSmJSIUpZGSlkh4ZAih4UGEhgfh6+/FNYfL3HC6xg3nG1xxdOTMpUscOXWKfYcPs+vnn/lu506+/P57tnz5BRs//4y1Wz5hzcdbWb15C6s2beHD9ZtYvnYDH6xay/sfrua9ZR/x5nvLeOvd5Sz70Ob6LF2xknUfb+Hjzz/ni+++48e9e/n56GHOXj6Pk9tNbvt6EBIZTEh4IMFhd0hKtTlkObkysrKlSKQZiCUC28+QmkC6IBmROL3fWROTlp5IQWE2ObmZyLPEdlctMSmGnNxMUlLjiYoOJSjYn5i4SCKjw4iNjyIqNpyrjlc4d/ksUQlxXLh2hR/37uaL777h6+3fs+7jTRw8fpSjJ0/x0959/Hz4ECfPneKa03VOnT+Bi8dNvPw9cXC+zmWHS7h5uhITF0lwaABhEcFERIXi6X2L217u+Ph54uPnSVRMOJHRYbh4uOLgfIMDx45w/OxpDp88yd7DR/hy+49s3fYVG7Z8xpbPv+TTL75hzcYtLF+1jhWr1/PR2s0sWW57nl9+4x1eevVNXnjldZ569gUef+pZHnviGRYuWsyc+Y8z99FFzFvwBLPnPca02fPsO/UGtzhOmDiVMWMnMW78lH5Am2IZP2Fq15Sps+vnzn1M+/prb6esXbvR4/jRMz94e3uvkMvl80tLS8cOjx0M13D9yhr4UFGpVP9/Q0PDvzc3353a0dHzZF1L53pjc+ee6vp2n6q69jStqUWjMbbUqQ2Nd9WGpl61oalvMJQNSKVvvA/OBgCt+QFAUxtaUelbUP3SvJq+kXJDE+X6JtTGZuIyZLR2dPaD2dBF1QPzaD09vXR3d2OxWOwtf10Du816+ujptbUCWvqs9FotWK29WK0W+qxg6e2lp7uL3u5eursstNzto6S6iVvpRTillnEtsRjHxFJcU5S4pSm5laGyLazOKMNXrCJAZmtv9JeoCMjUEJSpfugetPBcLVF5WqLyNMQVVBBfVEN8YTUphXrSio32PWh2QCupJqPMgLyshrp2K60dvXTdtdDTZaW3PwSls8dKXWsH+vomTA0tNLR0UNfUhqGhnaq6DnTmNjS1bZTVNFBQWUdORR05qjryNLXkqXS03e3k1AknbnvGsG79Zp59eglbtv7E6UueXHeNIC5FSaxAw/ZDTkQl5aGqaaKxqY32zi7KDE0cvuFDhtqMoEyPpMQWFCJS6pEoan4RyCRK4xA9DNDuDxkRlOn7BGV6a0ZJ9d2MkupmUVmNRlxWI5dr6nxydaZT5abG9dV1Ta+Ympun1rS2DrdV/L9RvwrQHnnkkQeOOTs709DQMAxow/UX1+DP0oEF1VFRcc+dO3fh86+++u7kq6+9Gb3wsSdz+ufP2voBre/XwtnkKTPsYDZ12mymTpvNrNmPMm/BEzz62FM89sQzPP7ks7z+9rv8cds23G+5ExISTEJinB20hKI0ZHIR8iwJebky8nJlFORnU1hgU0F+FjnZUnJzMpHJRGTKhEiktuj5hAmedlsAACAASURBVMQY4hOiCQsPIiQ0gMAgP3x8b+Pj542nvx83XJ05ef4sh04c4/DJ4xw6cYz9Rw7zxfYf2PzHL1i75RNWbtzMinUbWbFuI8vXbmD52g28v2otSz9azdtLl/POkhX2Jckr1qzhw7Xr2PTpp3z21Vd8/9OP7D10kONnT3PtpgM+AT4EhQcSEHqH4PAAIqJDiEuMQp4loag4j+KSfMQSAZkyESmpCSQlx5EhTEUmF5OTKyNDmIpEKqC4JM8Oa5kyISJxGhnCFDJlQuITokhOiSOiv30yLiGa+MQYYuKjuHjtAo6uN7ji6MDuAwc4ffEi+48c5oarC+evXmXHnt3sPXCIoydPsWvfPk6dP8Op86fwC/LhzMVTuHg44+l3G9fbLvgF+eLl42GHMS8fDzsMO7s62hdvh4YH4RPgi6OrM/uPHOLk+bMcP3eO/ceO8c3OXXyz/SfWbf6E9R9/yoYtn7F6w8es3bSVD9dsYPWGrbz/4Vpee3sJL772Fq+/tYQXX7W5aIueeo5HH3uKmXMWMH3WfBuYzZzH9FnzmTprrt09GwC0iZOm9bc52mfQGDN2knXsuEndk6fMaJw9e0HlSy+8JvhoxWrfn38+8pOHh9fqjIzMhQUFwwurh2u4fnUNtDf2x5+OaGjrnt/cfPf12sbOb6sb2s9V1bbHVphbcrTGFqPW1NqqMTb3aIzNVq2phQE9DNQGO2n3tzpqjK39jlqL/fjgmH57XL+xmTJjE6WGRpSmJkr19URnyKgx19KfsG+fQbNarTYg67XBWVdXF729vf07z3q529U7yEmzzW/1WgcDmm0Orbd/Jq2nx0J3l5WmDgtl+mbuSMtxTS/DIb4Yx/givDPUuCSX4JKmwDm1DDdBOd4SNb7icnxESvwl5QTKNATJ7gFaiFxNWLaWsGwtPql5BImKSSmqIT5XS1xeJUlFelIKbUovqkFQXE1Gyb2lzRklNchLqqltsdDW1mUDtO6+/iCQPhrbu6mpb8XY2EFNXSuG+nYa2y1oaurRGBqpqG1DZ26lrLqeggozuZV1ZCqM5GhqyS5T09ndxamTNwkITOX9FSt587U1fP/9ca44B3LLL4FEgRK3OwJ2HHFElKWhqraDWnMj3T0WshTVONyJI0NjQqjUI1WYkChNiMqNSJUPQpjkF1ofRQ/Rw4JEBGX6vrSy6p700uoOYZneKFQYyjLVtbE5WpNzWXX9tzpT03JjQ9v8urq6cf3v77/ah8Kr2123v7rd+chf4/8aLnv9xTNoX375JQC//e1vhwFtuP6iGgC06urqf2lubv59dnb2nNDQ0FeOHDvx7aeffnnh+RdeSZw7/7HCseMm1Y0aPb7jkRFjLCNGju0bCAMZPWaiXWPGTrK5E2MnM2HiNCZNnmFra5xyb9fZtJnzmDlnAbPmLWDBoqd45tkXeOPNdzhw6ABenu6IRWlIJRnkZEvJz5NTVJhDSXEeSkXRPZUWoFIUoVYWoyjJt5+WFOZQnJ9DUV42MomQrEwxGYIUEhNiyBCkIBSm2ZIN46MI6p/Jcr/tjs8dH647OXLp+lUOnTjBjj172Pbtt3zx3Xds2LqVlevX28BrzTqWrVrNkuUrWLLiQ95b/iEffLiKJcs+ZPnKtaxat5FV69az4eMtbPvaFv3/8+GDnL9yAQ+f23jf8cInwBvvO16ERoUQEhlMcEQQSemJiKUZSDOFZEqFZMsl5MgkyDJtbqFYlE5+XhYiYRrZOZmIxOmIJQLkWRJkcjH5BdlkCFNJFySTmBxHSFgg0bER3An0JT4xhvDIEPvCalf3m7h7uHD5+jXOX76Eo4sz151u8u32new7eIQfd+/j2PGTHDlxkh/37ubwyaOcvHCSa05X8fbzxNP7Fl4+HoRHhuDi5oSXjwdBIXcIDg0gPjEGvzveOLs62mfSPL1v4e17m6CIINy83Tl/9SIXr1/myKkT7Pp5Pzv27OGzr75h/cef8OkXX7N63WZWrFzHhs2fsn7TJyxdtpJ3liznjbeX8srr7/Dya2/z1DMvsvi5l1nw+NPMW/AE02bOY/LUWcya/SjTps9h2vQ5TJ8xl+kz5jJ12mymTJ3F5Ckz7e/HiZOmD0TtM2bsROuYcZN6xk2Y0jJ9xpyaxYtfkC5Zsjx45849B65fd9wkFAqfzM0tnVxSUvKv/enKw4A2XMP1S3V/OEhHT8+Tja1d75sa2/fW1Lc5VtS2petMraVaU0u91tTSoTW1WLSmlj6duRWdudUOaIOB7WHQNhjUBs+rDbhrfxLQzC2UmZpRGBooqa5DmFtMRY3+XmvjIEDr7e21n3Z3d9sBrbvHwt2uXnuLY3ePLSCktz/90Wq1gZnF2k2PpRtLXy+9vVZ6uvtoabeiNrYRmqXDLa0Ml2QFN+OLCcmuwTWlGOdUBS5pSlzSyvHvd8+8RWX4SZTckaoIkqkegLOo/CpSS41kKGspMXWTlFdhX1RtA7QaRAqzbQfaQIpjaY0N0EqraWix0tHeQ9ddC9090NUL9a3dGJo6qKpro7qu3ab6doyNXZRXmtHqG9Aam9GZWymtqqNAZyK3og55uZkslYlUWS5tnR2cPe1CcIiAt957nzdeXc233x3jktMdfILTSBCUcTtYyNmbQYiztVSa2mmob6G314q4SIN/ohyR1oRIbUCmMvcDmumhcPZLkCZVGu2S9LdIPsxVy1Do+9LKqi1pZdVdgjJ9fYZCr5OqTOkylcm3pLpxr8bUuL6uuePJpr9BWMhrO9wYBrS/ev3FgObj44NOpxt20IbrL67BSchlZWWPiETy+YGBoa8fPHhs+5Ytn1595tkXUufMfbRk7LiJDf0JjnZAu+ecTWLsuMl2jR83xQ5ok6fYdp1NnTmHabPmMmP2o8yet5DHnlzM44ue4pVXX2frp58QFBJIhiCZ/Dw5BflZlBTnUVZagKKsEKWiiHJlMRp1GRp1GeryEjTlJaiVxaiVxWjKS9Cpy1AriynIkZOfLSMvKxO5RIggPRlZpojsLCkZwlRS0xIJCw8iOOQOsfFRBIUE4OXryTXHG5w8f5Yde3ax+8ABtn37LZs/+4wNW7fy0bp1rN28mXUff8zazZtZs2kT73/0ER+sXMmqdRtZvnINK9duYNW6jazbtJmtn/+Rr777ju9/3MGl65cJDAvi/JXzuN52ISg8EA+fWwSGBeAX5Et8ShwpGcm2nWEyEXKZmGy5lEypEFmmCGFGKrJMEaUlBeTlypHJRPakx5LSArJzMpFmCklNs82cpaYnEZcQbW89jE+MISwimNj4KAKD/bl+4wo3nK5x092Z85cv4XbbA2f3W3zxzXf8sHM3+w4eYdsXX7H3wEF+2r+XM5fOcuL8Ca7cuMz5i+eIS4jGwfEql66cx93DxTbbFuSHr78XoeFB3Lrtioenmz1238XNCU/vW4TFhOLq5crF65e5eP0yB48fZd/hQ+zYs4dPtn3FqvWbWLPxY1asWsua9R+zbuNWln24hjffeZ/X31rCu0tXsOSDj3hy8Qssfu5lHn/yWRYuWszseY8xaeosJk2dxbTpc5g8ZaZ9lcOUqbP6d+/ZNBBUM+Ce2Ry0idYxYyf2jp8wpXXK1JmGJxYtlr/95pLw77//8cjly5e3xsenLC4oKJiqUCj+rR/QhoO7hmu4/lQNDgdpbW19pLn57tSmtruv1rXc3Wisbz9b09DmX1nbllNpbq3QmVtbdea2Lq2pxXo/oA1o4Nj9x4cAm6kJjalxELQ1D9G9mTZbOqTa2Ix6oH2yuhZzYydtd7vo62OIc2a1WjEYDHZg6+rqoqenx76MeqDFcSC90WIFS18fVvqwWHqwWHrotfbQ3nWXLostcKO7y9ZKqDW3EZlVgXNiETcSinBMKCRJ2YJbajEuaUpc01U4JpXiISgjQKbFV1xOoFxrB7Rg2b2o/RC5Gj9hCZEyFTEyFQU1HcjK60nOrSKlH9CSC2rIKDPZWxwHA1pWmZ7G9j7aOix0dllpauvG3HSXqvoOquo7qK7rtEvf0EWluZ0KYwtVdW3o+l8jO6DpasnR1JOlMVNcUUN7113OnXElOkbGK2+8zftLtvDjrrM4e0biG5JOZGIebgHJbN1+hJziGvQN3TQ0tNDb20eitJBoaSlCjQmxRo9MZUJabkasMiEtH6pfAjTJIDgbDGgD1w1uiRQrjaQraqzpipreDIW+NUOhN4pVxpxMtTEmX1d3Vqlv/Lq6runV+v7F1X+NsJBXt7tuf22HG1OfWzYMaH/9+osA7YUXXsBisfDtt98OA9pw/cU18HlaUFDwv1Qq1ciMjIyFvr4B7+zZs2/3ug0fOz759HMZM2bNU44eO7Fp5Khxd0eMHGsdOWpc39CF1JMZN37QvrPxU+2ANnXaLKbNmsv02fOYMWc+c+Y/xqOPP8niZ57jjTffZt/P+/H39ycrS0ZpST6KskIbhKlK7UCm0yrRaZVoNQrUqlK06jK0qlI7nGlVpagURZQU5pCfLSNXLkUuEZKXlUlRYS65OTKbEyUWEBMbQVx8FPEJ0UREhhASGoCXjwfXbzpwxeE6F65d4eDxo7aEwV272LFnD3sOHuT7n37i0y+/ZM2mTXy0bg0bP/mETZ98ypoNG1mzYTMr125g9fpNfPntdxw+foJrjjdwuOnI2UvnuH7zGs63buLk5oj3HS/8gnwJjQohLDqUxLQEElLjkWVJyMmVkZ0lpTA/h4L8bArys8nNkZGXKydTKiQ9LQmZXEy6IJmExBgk0gyysqX2vWmCjBTiE2NISUskoj9iPzI6DL873vY5MRc3J7x9b+MffIdDxw+ze/8+jp48waFjx9m17wDf/PAj332/nd37f+bi9aucv3qB6y7XuXD1PK7uLpw9fwpX95t4+97mTqAvvv5eBAb72+XtexsPTzd8/Dy5E+jLTZcbtrbH6BBu+d7C2cOVSw5XOHTiGDv37eWrH35g9YZNrN20hTUbP2b9pq2s3bCFlWs2smLlOt5duoL3l6/i3aUrePWNd3n+pdd5cvELLHj8aXtr46SptpUNNrd25qCl6DPsrtlgMBv8x4TRYyb0jRk70TJh4tT2yVNmmB9/7Knc1155K+aLL745dfr0hW3R0QnP5+TkzGhsbPzdcLLycA3Xn6mBSODq6up/aW9vH93a2jWrsaPrvbrmu3+sru9wqKprjag0t5ZUmFoNOnNLh87c1qMzt/YNtMoNnP4aQNOa+8FskNTGoe2Pg+FsQFpjs036BjTV9bR19WEBrFbbDJrFYqGnp4euri60Wq09OKSnp2cIoA3sBLMtc74HaJY+Kz09XVgsPXT19KCrMdDS2U13L/R099HeaaGytp0IuQanxAKuJRRxI7GQZFUrrqk2B801vRznVCXOSUV4C20tjgGZGu5I78Xs24NCcnSEZmnIUNUjKDWRlKtDUKwnIbeSpEGANngGbQDQBKU1ZJUbaOjoo7nNQl1zF1W1ttehsq6dito2O5xV1nVQ3XAXndkGZsrqesprGlGbWymtrie/opZcXS3Z6jpkKiOlehMNLc2cPetKfFIuz770Kh8u/4yfD13j9p1E7oSLiU0t4tR1PzZ8vZ8ChYnyqgaaWzvpsfSRnqckVFSISGdGqjEhLzeRWW5CojKSWW5AqronSbkesbIGsVL/ZwHNDmlK00MlUOr7MhR6S0aZvkNQpq+XlptKpCpDWl5FrUOpvnFXdW3Le7VNTY+bze2jgX/lv3hJ5ms73PjNb34zDGh/m/oPA9r48eOpqakhKSmJf/iHfxgGtOH6i2sA0EpKSv61oKBglEAgWOTl5bvkx59271u1Zr3L448/LZ4+Y45q9JgJzSNHjusaOWqcHdDGjpvEuPGT7W7E+AlTmTBhKpMmTn8ooE2fPY95Cxex6KlneP2Nt9iyZSteXl5kZKRTriy1wZdGgU6rRFVegkZdhlajoLJCRYWu3A5qVRUqdOoydOoyKjQKdOoylKUFNkDLySQvK5OCHDmlhXnk5siQSjIQidNJS08iJTWBxKRYYuMiiYkNx9PLjduebtwJ9Mfd6xYnz57h+OlTnLt0kXOXLnLo2FF+PnyIT7f9kfWbN7H5k618/uUX/PGrL/nkj5+z+ZNPWbdpM5998SU7du3m+OkzOLq44nDTiZPnTuPudYtb3u7cdHfCw9PNDkqR0WGkpicRnxhDXEI0GaI0CgpzKC7KIydLSllpISXF+RTkZyOXiSkuykMqyUAizSAxKZaY2AhE4nSyczLts2kpqQmERQSTnpFCUko8SSnxJKcm2FMWA4P98fX3srUlhgdy/soFjp85yalzZzlw5Ci79u1n+0+7OHDwMD/u3sOhE8dwdHfC0d2Rm+5OODhd56bLDZxdHfH2vW3f4RYcGsBtL3cb6N64wk2XG9y67YpPf0tkXEI0geGBePh54Oh2kzOXznHqwjm2797Ftm+/ZdX6eymO6zdvZc36j1n24Rree/9DlnzwEe8vX8Urr7/D4ude5vmXXrcHg8yY/aitvXHabKbOmMu48VOYMnWW/b13v3v2MEAbM3Zi36jR4y1jx01qnzBxat3CBU8UvPzSG/Gff/rFuePHT30VHh79kkwmm9W/C+23w4A2XMP1CzWQOAX8ayNMamrn8Ya2zjV1zZ27DPXtPjX17WlVte3aCnNrfUVtW1dFbbulsq69r6q+ww4EA5A2oPuhzQ5vtc39kFaP1lyP1txgd9IGgkQermY74KmMDdR19NILWCx9/ZBma3Ps6elBp9PZXbUBQBuc7GiDM5vud9B6rRbu9vYRHJVIpamRzu4+7nb20tFhwVDfRZCoDIe4HC4lFnAluYCYsiZuJhXhnFKKS6oC97Rybqcr8RGp8Raq8BdruCPREJipsQPaQJtjaJaGqDwdMblaYnM0JORXEN+f5jgAaIJiPRkltjm0tKIq0kprECgMZJbrqWrupsrcTqWp//mvswFaZW0bVXXtVNa1U1XfQWVjJ7r6djTmVgo0Jgq0ZkqqGymsbCRHW0uOxky2ug6pyoCqtoFqfQ1nzrqSllHCosXP8cHSrRw+7oRvSDohMdnEp5cRJyojKCmLQmUdZZV1dHRbuGuxEicrxC8lC4muDpnaTLbSjLzcjExlIKu8hky10S6pymA7rzKSqTLbXbWHBYbckwmxwjgEzsQKIyKFoU+kMFhFZfoucZm+RaI0aiVKY1a21uRTUlV/UmtsWGNobH2xsbFxEvD7gdaK/+zfpQHn7Df9X+SnPreMV39w8XjxW6dXh/XX0W/+xz/W/uY/AGe/+93vKCwspKCggH//93//dbf7H/9Y+7f+OYfV/3r/ndXAHzwVCsW/lZSUjElMTHzK3f32su++23Fo+fJVtx5duEg2ddps7ZixE1tGjBrX/YdHRlsfGTHGDmiDHbRx46cwfvwUJoyfysRJ05kydRbTZ8xh6sw5zJ6/kBlz5vPsCy/y+htvsXXrVjw8PCgpLkSjLqe6SktlheoBGKvQlVNdpaGqUm0/rdQqqdQqqa5QoVYW2+fRyssKKSnMoSBHTlFeNoW5WWRnSRFm2FobU9MS7YAWFR1GaKg/YWGBhEcEERIWSGh4CEHhwQSEBhISEY6HtxdHThxn557dfP39d/yw80e+/PYbduz+kR92/sj2n3by7fYfOHz8GB7ePvgGBOJzxx9Xj1s4uTn3Jxdet8fqBwT54ezqSERUKEkp8SQmx5GQFEtKWiJSmYjsnExKivMpLsyjuCiP/Dzb48+UCskQpNhTKtPSk+xwVliUS3ZOJmnpSSSnxJOSlkiGKA2xNANJphCxNIOwiGCiYyMIDg3A3cMFT29bi+WZi6c5ee4Uew/u48CRw+zcs4e9Bw6yb/8B9h44yMHjR7l04zKuXq62Bdee7nh637Lfh4ubE77+Xvj4eeLqfpObLjfsLZROzg54+94mPjGG5NQE/EP88bzjyQ1XJ46ePs6egz+z6dNP2LB1K6vWb2Ld5q2s3bSFFavW8uGq9by/fBXLP1rL0mUreePtpbzw8hs89+JrPLn4BR597CnmzH+cGXPmM3XmHPu+s0mTpzNl6kx7cugAmE2cNL1/3mzSEEAbNXoCI0aO7XtkxBjLqNHjO8eOm1Q/a+b84sWLX0zevPmzSwcOHPouKCjoVYFAOrekpOQP/UmOw4A2XMP1sBqcOAX8rrmZaS0tnc/Ut7ZvrWu5e9hQ3xFS09Ahra7vqKmsbWuurGvvqaxrt94PZ4PPD748GNp05lZ0ta3ozC1oTI1ozY1oTc1oTffm0QbaIAfPqA29rgmNqZnqhnY67vb2tzL2z59h24XW0dExZB6tp6eHPsBisWIZcM2GyIq1z0pvr20XWpcFBJIcUkVyenrB0gtd3VDb1Mud9GKckgu4mFDApYRCArKM3EwswS25DJeUMtzSFHikK/EUqvEWluMn1uAvUXMnU0OATEOwXEuwXEtYtobILDVRuTqiciqIzasiPq+a+PwqEvKrSO7fh5bWHxKSXlRFWmGVbVmz0ohEUYPS2ILO1IrO1IrW3IZuwEXrf/7tr1FdO7raNtTmVgq1ZnLVJvIr6snX1ZGnNZKjNSApNyEuN1Ld2IJarebUOTdkMiWLnn2J95Zu5tQZNwKiRQTHZxOTWkKisJw7kWLyFGbUplbu9ljpsvYRIS4gSFqCVFeHXFuLXG1CrjYj1+iRa2qQqQ02qWyQmanSk6kyIFUZbSo3IlHqkZQbHmiJtAGcaQis3dcm2Scqq+kRlunbJQpDjVRpLMzSmEMKKusuq41NW2vqm99obm6eZoAR/1VpjoPh7De/+Q1j5r/AotW7hvVX1D/9y7/9ajj77W9/i1AopLKyknHjxv3q2/3Tv/zb3/znHNYu+n/f/q6q/wvn/6dQKP6ttLR0bHx8/GIXF/cPv/nmh6PvL/vQ89EFi7KmTpulGz1mQuuIEWO7//DI6L4RI8cy2EEbPNPzMECbOfdRps2ay5xHH+Pl115nw8ZNXL58GbFISJVWg7G6gpqKfvjqB7QKXTlVlWpqqm3gNuS8rhx9lYYqXTkVGoUd0rSqUhTFBSiKCygpyKUoL5tMqRCRMA1hRioZwlT7Muio6FBiYkJITIgiLjaC8H6IiUuIJTQ8BB8/b1zcnDl24ihHjx/h4OEDnDx9guMnj3Hm3GkOHz3E2fNncPe8zZ3gIMKjo/APCsTd8zaOLs6cu3SB0xfOcOLscS5dv4iLx008brsSFR1GXHwUInE6iUmxJKfE22L0JQKysm3OmUpZQkF+NllyCTnZmeRkZyKXiRGL0klKiiVdkGwPBxkANKEoDbFEQIYoDalMZIezhKRYwiKCSUyOIzE5jguXzuLgeJUbLtc5f+Uc5y6fZc+BvRw7dZLjp09x6NhRe0jInoM/c+7qeZxuOeF86yZevp74+nvh6+9FQJAfnt638PS+xa3brly8fA7Hm9dxu+WMu4cLt27bIviTUxOIiYskLCYMvxA/rjpd5+jp4+zYs4vNn33Khq02MFu1fhOr1m/iw1XrWP6RDdJWrFzH2+8t45XX3+GV19/huRdf47EnnmH+wieZM/9xps+eZwe0KTNmDwG0gTbHwXNn989Kjh4zkZGjxvU9MmKMdfSYCZ1jx01smDljbunip55P3bhhy9Wffz64PTAw8HWRSDR/EKANpyoP13A9rAbaMYD/2dra+khbW/e8pra7r9W3dH5nbuq8aGhoS6hpaC+oqmutraprba+qa+2tqmu1u2eVg52a+yBtsAZctYdC26B2yMGBI78krbGZppaOIfH6VvrsC6sHjtkBrX8mrbfX2h+vfw/Q7t2u1zaH1gedPRZUumq6uq1YrdDZ1Udtcy+BwmIck/K5mFDIlYRCXFOU3EwsxTWxFNeUUlxTS3FPU+AhKMdLrMJPosFfquaOTE2gTE2oTEtoto6wbDVR8nKicrTE5FYSX6AnLl9PYr7evrA6uUhPWrEeQXF1v/S2ZdVleqRKPSXVjbb2T1OrrYVx0HM8+DWpqu9AZ25FZWqmQGciW2UiW20mW2WkQGciR12DVN2AVF2LvqkVlULJ8bNuFBRoePSpF3j17dVcuuhFcJyEyLRCYtJLSRIoSUgvpkTbQLGulrtdFrqt4J+WQ4i8nMyKOrJ0tci1RuRaI1lavU0aI3K1AbnagEyl75fhAWdNqno4oGWqzEPctgcBTd8rKtPfFSsMtdJSvSpLZU7Irah1K9c3fVdV37Tc2NY2r66jY2z/HNp/2g6W+52zYf396x//8R+JjIykvr6euXPn/s0fz7D+4/o7BrR/UqlU/56bqxgXGxv7rJOTy8pt27488d7SZT7z5j2WM3HKjMqRo8a2PTJiTM9gQBs8gzZ+wlT7l+GJEwbaG2czfYYtHGTBoqdY/PxL7N6zF1d3N9LTU1EqSqk1VGOqrsBsqMJoqKS6SkNNtRaDvgKDvgJ9jc4OaAPSV2up7m9zrNQqqdKVU1qUi7LUBmcFOXKypCIyUpNIT0tCJEwjUypEKEwlOSW+P1AjlpTEKFKSYxAIEklJjScxKZa4hGjCI22A5u3rhX+AH/4BftwJ9MfX3wdXdxf8/X1JSkkkTZBKRFQ4/oEBOLu7ceHK5f55rqOcvnCG0xfOcMPFAe87nkTFRxATG0FKagJiicA+N5aQGENiUqzN9ZIIUJQVYaipRFFWRG6OzA5ogvRkMqVCFIoiCgpzKCzKpbSskLz8LGRyMWKJwLZaQJCMPFuKUJxOfGIMkdFhxCVEExIWSEhYIO4eLtx0ucHxM0c5dvoIO3Zv58c9Ozh1/jQOzo6cuXCeEydPc+zUaY6dOcXZy+c4fu44Ds7XCQi6Y0+IjImLJCYukoioUPv8mX+ADyFhgYRFBJOQFGtv34yKCSciLhzvQG+Onz3J7gN7+eK7b/hmx3Y2f/YZqzdsZs3Gj/lo7QZWrtnAh6vWs3LNRt5dusKu1958j6effYkFjz/N3EcXMXPOAqbNfZDU0AAAIABJREFUnGvfczZlxmxbIM2UGUyafG/mbHBb40DK6Jixk+ypowOANmr0+Lujx05smj5tjuKpJ54RrFu32WHv3v07/fz83hIIBAuUSuWI7Ozs//J58OEarv+2NdCOAfxrW1vbqPZ2Hm9p73q3rrl9l7m544a+rlVQ09BeVlXX2lBd39ZZXd9mqa5v6xsIoxgMAX8O2P6kqzaoJfJPtUYOdtG0JttMWnP73SER+71Wi/38AKANRO4PHLdYGQJngwEN25prLH1WuixWOrpts2u9vdZ+QLMQJCoZBGhFOMYX45xUhltSmQ3Q0srwyFBwW6jER6rBT6LBT6IiIFNFSKaSUJmakGwdYTlaIrPUxGSricnVEpdfQ1y+gfgCPfEF+gcATViqJ6PE8ACgqfRNaIwtdkAb/BwOPN+Vde22vXT9gJajqSVXW0eO2kiexkCuVo9U3UCGQo+5tZOSohJOXfCgtLSKeU88x8tvrsTBIYCIlCwSJEpiBWWkS7Rk5lZRXt1KTmklHZ093LVCQEYBccU1ZFbUkqUzkaUzkV1hJkdnIqfCSJbmQck1RuRaM3KtGZnGhExjGgJsQ6SqJVNVi7TcfF+bowFRmb5PrDBYxApDt7BM3yBRGCrk5UZBrqbOV6Fv3FVZ27ymtqn98YaGzon9c2j/aXH7w3D230/Ozs4A7Nixg2eeeWaI/vmf//lv/viG9ef19w5o+fn546Oi4p5zdnZb/ccvvjr17pIP/ObNeyx30pTpVfcD2shR4xg1eny/izblAUAb2Hs2c9Y8Zs6ez/MvvsLK1Wu5dduD6JholIpSKiu0NNYaqTVUU2/SYzZV2+HMbKrGZKwa0tpYoSu3XV+ttSc3VunK0ZSX2OP287IyyZFJyEhNIiEmkpTkeDIEKSQnxZGYGGtvEZRI0snLlZCbI0EkSiYhMZqk5DjCI0MIDPYnMjKcmJgoEhPjCQkJIiwshKioCFJSkpDKRCSnJhAVE4mPnzdOrk4cPXWcIyeOc/XGda45OnD+ygXOXzmPl78nUXHhJKTEkpKagFCURrogmdi4SOITopFIM5BnSciUi5FIM5BlilCUFqIqL6WoMBeJWIAsU2Rfxp2TKyM3T45KXYayvARpptAWzy8TIchIQSBMRZYlISYukqiYcJJTE0hKicfLx4OwiGBCwoLw8rnNVcfLXLlxiUPHD7L34B4uXL3IZYcrHDp2lAuXLnHmwgUOnzzOgWMHOXzqMA7O17lx0wG/O95ERofZ7zsuIZqUtESiYyPs7YwDrZuh4UF2UPML9sXRzYlDJ46wY89PfL39ez7/+itWrFnD+o8/4cM16/ngo9WsXr+JlWs2snTZSt569wO7g/bqG+/y3Iuv8ehjTzFr7kJmzH7UBmXTZzFx6gymTJ/NhIlTmThpGuMn2N6PA384GHDLBk5Hj5nIqNEThjhoI0aOvTtq1Pim6dNmK59YtDhj9eoNjrt3793l4+PzdnJyxsJhQBuu4fozNfBhAvyus7NzfEtL57PNbZ0r65rajpmb2j1r6lvkVQ3t2qq61pbqurau6vo2a3V9W191Qyf3azC0DYa3+zUADfcfu99xexi43TvfQke3BWv/Yuq+vj4sVivd3d1YB5aj9S+sHnDUbOf77HNoPb19WPvAOmTJtZX+e6QPK5Y+C5Y+C22dFupb+wiVKLiZXMCF+AKuJBThnFSGc1IZ7skK3FLL8BRpuC1U4i1R4S/X4tvvogXINARkqgiWVxKYU8OdnCpC8vTE5amJz9MSX1hjg7MiAwlFBlKKDSQX6UntDwmxzaHdc9Ayyw12QFMbmh+A3YHnVWdutb8WmtpWCrQm8rR1tp1nGhM5qhqy1DVI1LXkVDVS29pBcWExJ8/foqysmgVPv8Dil97nymUfIlKyiBOWEpehQJhVhTBLR4m6ntzSCrq6rXRYwC89n3R1PTLdPUDL0pnI1to0+Jhca0SmMfS7bCbkWhNZOjNZOjNyrckOa4OVqTIjUw9A2tBEyP7ZNatEaewVKwwtEmWNQaY0yrPUpvDSmoZjGlPTp6aWlmfNzc3Tgf+UBKlh5+y/r3Q6HX+qJk+e/Dd/fMP68/p7BrTGxsbfFRQUTIiOjn7ewcFpzeeff3n63Xff958999G8iZOmV40cNa59xMgxPY+MGNP3yIgxQwBtwEUbO24y48dPZeKEGUycOJMpU+YwZ+5CFi16kp07tuPq4mjf6WXQV1Jr1lNfZ8RsqsGgr8RsqkFfU2E/X1Oto7JCbTvV2Voba3RKKlS25MZKrRK1qoyy0kJKSwooyM8mJzsTkTCNxIQYkhJjSUtNJCkxloT4aFKS40lKjEWYkYpIaAOlTJkImVxMpkxEpkxkB6AMURoRUaEEhwYQHRtBSlqifZdYSGQwvoE+3Pb1wM3TlZvuTpw4e5yfj+zn2InDnL94Bm/f20RGh5GYFGtvq4yNiyQlNQGJNIPsnExy8+QUFOYglgjsyZJCYRqyTBFFhbmoVWUUF+VRVJhLUWEuhQU5qNRlqDUKiorz7HA2AGjyLAlCURqSTKF9QfUAOAWEBhIeE8mZC+c5ffE85y6f5+ylc1y8dolT509z4epFzl+5wKnzp7ly4yqnL5zh4rVLHDl5lCMnj3L8zAlOnjvFxWuX8AnwxdPXB9+AO3j5++AX5EdQeCDhMWFEJ0QRHBGEX5AvQeGBxKfE4Rfkyy0vT85evMCufXvZuWcvf/zqG1au3cDKNRvZ+PFnrFi5jhUr1/HR6g329MZ3l67g9beW8Mrr7/D0sy/ZFlMveIJZsx9lxsx5TJs+x77nbMrUWfZZM5um2Bemjx03acgi9VGjxzNy1DhGjhrHIyPG9P3+D6Osv39kdNeIkWOap06bpVz4+FPClavWOe3auWe3l5fvO8nJGQtVKtXI/mXVw4A2XMP1sBoUEPJ7YFJb292XG1s619c1tp81NrTd0de15NU0tFVV17e0V9e39lTXt/bVNLQ9AGe/BGn3A9v9gHb/8V9qkxxwhjSGJlo6u+3u1wCA3b17l/b29l8EtO4eW4tjT+9AiqO133Wz2gCtH9TAisXaixUrLe091DZbCM8sxzmlkAvxBVxLKsE1RYlLsoJbKUpcU0pxFyi5LVRwW1iGt6Qcb6ECX7Ea/0wNQVmVBGbVEJBr5LB/Gpci5MTlqonJURGbX0lcfg0xeZUkFtkctJRiA2nFetIKK38R0B7moN0vZXU9Cn0D+Voj+bp6crV15GrN5Kr1ZGsMSFW1pBdpMbe0kZubz7GzrigUNTzxwms8/cJSHBwCiE3LI1GsJFGsQpJvID1TRXF5LQqdmR4LtFnggl8cIl0zMp2ZLJ3xAUC7X1kaI1la4wPQZtNDIE1da9fgdscBSJOWm/okSmOvUGFolyr1ZpnKkJelro0rrqw7qzI2fmVobH2prrV1dv/7/f86QWoYzoY1rL+d/jsAWkRE7AsODk5rPv182+m3313qP2vW/PxJk2dUjxo9vn3kqHE9I0aO7RsxciyjRo9/KKCN6we0CRNmMG36XObOW8iSJe/j7uZCSnI8ZaWF6LTlmE011NcZaag3UVdrwGSsptasx6CvtKuyQo1Wo6SyQk2lTkWlVomuvJgKVQkVGgWVWiUatQKNWkFertye2JiakoAwI5X0tCRSkuNJT0siJjqclOR4uxOVIUhBmikkLz+LrGwpuXlycnJl5BdkI80U2lv3EpJiSUyOIyIqlIAgPwKC/PAP9sM30AfnWzc5ee4Ex88c44aLA+5ebkNa/OISoklJTUAkTiddkIxQlIY8S2JzyuRiZHIxQpFteXZkVCgxsREIMlLIz8+yg1lZaSGKsiJKSwooV5ag1igoLSukqDgPeZaE/IJs5FkS0gXJCDJSEEsz7C5WTHwEsfFRtn1v4cEEhgVz9uIFTpw705/geIITZ0+y//DPnL5whv2Hf2bH7h85de4s+w8d5MyF8+w7eIADRw5z8OgRTp8/x4WrF7l+0wGHm044u7vhetsdnwBfvO944eFzC58Ab277euAX5MudEH/8gnwJDAvg3KWL/Lh7Fzt27Wb7T7vs++OWfbiG95evYs36j1m9bjPvL1/FW+9+YIez199awkuvvsWTi1/g8SefZe68x5g9ZwEzZs5j+oy5Q/adTZw03T4LOWHi1IfC2egxExg5ahwjRo5lxMix/OGR0X3/+/cjrb///ciuR0aMaZ4ydUb5wseeFK1cuc5p5849u729/d5NTU19bBjQhmu4fqEYtP8MGNHS0jWjvb3r7ebWjs/qmzocTE0dkYaGtlJ9Y5uxpqG1s6ahtbe6vqWvpqGVmsa7dv0pWPslgKtu6Bxy+8Gtkg9z3wb/m8q6drSmZmqb2/oXTFvtANbR0YFSqRxybOhMmm0Hms1Bs7U49lot/aEiFqxWWzskfRbos1220kdrRy+1Tb1EytW4ppdwKbGIq/0OmmuK0u6guQuUeIrK8BSV4SVW4idREZxdTYBMS6BMwx2phrPBGXhJVcSV1RNfWElMno64giqbcnWkluhJLTHaAW0gZv9+QCuuangA0Aa3k94PvypT8xAHLU9bS77WTLbWiExdh1xjpL69k5zsPK7eDKS0tIonnn+NhU+9iatLGAmCAgTZFaTKKxDnG0gWKZDnV6CprKfbAqb2Hrafd0dW046swkyWzkCWztjf4lhLjq6OHJ15iB7mrA2GtQdlHiJ7O+Q9WOuTlpssEqWxM7Pc0CBTmUqztbVphVWN19XGpp2Ghua3GxvbFwAj+E/ahzYMacMa1t9G/y0Bbc6C/EmTplePGj1+iIN2P6DZ96CNn8qECTOYPmMus2Y/yuo167l58yZ5udkoFcVUV2mpqzXQ1FhLU2MtjQ1m6uuM1Jr1dlAz6Cvt7lmFTkVVpcYWHqJRUK1VUKkuRasqpbysEI1aQUF+NtlZUvJy5QjSkxEJ05CIBUglGbYEx5QE0lITEYvSSUyIIT0tiZzsTDJlIpKS40hIjLEHb8TERpCcEo88S4I8S4JInI4gI4W4+CgiIkMICPTF944Xji43cHJ1xMnNEXdPV255u+PsfhMfP097KEeaIBmxREBCYozdOcvNk5OXn2WP/U9KjiMlNQGZXEx2TiYicbptliw1EZEwDblMTE52Jrk5MrLkEqRS21LqxKRY4uKjyMmVIZYIkGYKEYrSSEyOIzk1wRZ4khhFQlIsvv5euHi4cvHaZc5cOM+pC+fw9PXhwpXL7N6/j29++J4TZ05z7NRJdu7Zzb6DB/hh548cOGLbk7b/0MH+9k0Hzlw8y5ETxzl78SJnL17imqMjl65f4fSFU1y6fpHLDpdwcHbgquMVrty4TGBYACfPney/n0P8sPMnNm7ZyrKPVrPso9W8s2Q5K1au48NV6/lghe3yW+9+wNJlK1m6bCUvv/Y2Tz/7kn3+bN78x5k9ZwHTZ8x9YOfZhInT7jm5E6YwfsKUIWA2eswEu3v2yIgxjBg5lt//YdQDgPbY408NAjTvYUAbruH6czVo/uy3/fvPZrd0dC1taev6uqH1rkttc0e8vr6tXN/YVqtvbLtb09BqqWlo7dM3tlHT2PlQQBsMbr8Eb/dfd7/TNnDs/uuqGzqpqG1DY2yiwliLFejt7YU+G4h1d3cjlUqxWCxDNBjQunv6+iP3scXv91n73TYLFksvVisPBbS6FgvR2Vpc00u4kljE1UQboHmkq3BPVuCRXs5tkRZvSTm+0nK8RQq8hQpCc/XckagIkakIkqrxziglJLeCZGU9UXkaovK0xBdWE5tXSXyejoT8ClKKbW2OqYNSHP8coGlNLQ84ZwNtjlpTCypjE/kaI7naWltIiNpIlsqArLzGNsulqKK910JSYgpO7mEoldU8/9oSHnvyddzdI0kSFZORXUFaVgVxGQpiUwsRZ6morGnkbg+oTS3svupLjqGbnMpacipN5FSayamsJbeijtyK+ocCWtYgAMuuMP9qWBviuN1z1fqk5SarRGm8m6k2NMnV5vJsba2osKLBRWlo3FdT17K0tqlpkbl9yD60/+sPh2FIG9aw/vr67wBo9hbHbV+efve9Zf5z5y3MmzhpetVgQBvsoA188R2I2p8wYRrjx09j2vQ5zJ7zKEePHUcqlaDT2twwk7Ga5qY62lobaW6qo7HBTF2twd7uOABo1VXafjBTD3HQqrUKKlQl9mj9kuJ8O8RkSoVIxALkMjGyTJEd0CRiAbk5MoQZqSTERxMXG0lcbCSxcZGk90PUQLtjSmoCGcJUsrKlZOdkIpYISE1LJCo6jIjIEO4E+NiDNpxdHXF2dcTJ2TabFR0bYU9RzMmVkSkTkZwSj1Bka1vMy8+isCgXaaYNsgbaEmVyMcJ+ly1dkGwLMklJQJCeTG6OjPy8LHuSo0SagVgiIDEpFpE4nUyZCLHEFr8fnxBNYnIckkwhoeFBRESHEBoeRECQH6cvnGHn3l3sP3SQbd9+zWdfbOPH3bbLu/fbYvYPHTvKl99+w1fffcu2r7/i6++/Y82G9axev45d+/ay98DPHD15gp17drNr336+/3EnX377LXt+3s/hE0c4f+UCF69d4rLDFQ4eO4Sjq5Ntru34YfYdPMCOXbtZu3ETH61Zy7vvr2DJBx/xwYrVLPngI5Z/tJblH63l3aUr+GDFat5duoI333mfF15+g8XPvcwTTz/P3EcXMWfuQmbOms+UqbOYPGXmEEibMHHaoBh9W8LoQJjNwPt0wD37wyOj+cMjo/nfvx85BNAmT5muXLjwSeGHK9c4bbe3OCYPtzgO13D9UvUD2j8B/7Ozs3N8e3v3gubO7pUNrZ0761ruepuaOtONzXcrDE3tDYam9m5DU7vV2NyBoakdQ1OnXfrGjj+pmob2Iapu/HWqaeoYeuw+kNOZW8lTVdLS3Ut3n4U+azd91h6sVsjLL6Sn956DNuCmgS3wo6e7j94e6O2xLbq2yQZ4JpPJPsM2+Pbt7Z3UNXeQkl+BZ0YpDsmlOCYpuJlURni+AY/kYjwFGjxEOjzFKu6IVfiKlHhKlLYUR7ENzoIzNUTkVBCVX0F4jobovAqi8yruOWj9SizWk1BUQ2pRDWklthRHYbEtJETQHxJSWP0goA0OWBnsoOnMragMreRrzORrzeRoTGRrbIAkUxnIUBgQF1dwt9eCNDMbb+9Y8vILefWV5Tz1zCv4BiWTmFaEKFtHZn414oJKClW1yAs1lKo0NHdDlKiYiwFp5FZ0kqe1hYLYnLP6B9yz7PtA7WHHsiuGashM258EOTMyjcmaqTZ2yzSGVrnOrMuqqMvKr673UhgajlXXt31kaml5tq6uY1xDQ8O/97///1P2oQ1D2rCG9dfV3zOg3R8S8sV9ISEjRtpCQu5vcRz4Ajx+gi1af/LkmUyeNINp02fz/AsvIZaK0WhU1Jr1mE01NDaYaWqspbWlgabGWvsMmtlU83/Ye+/opu+s2ztr1jvvfWYSklBC6J3QQgcbTO8dQg0hIb2RBAihJIQ0MqkkJCEU05tx702WLcuWJVm9915tSbaK5d4k7fcPST9kIHPnue+UPLk+a+31/f0kOZYXZImP9zn7EK9xOmyw20wEpJlNOlhMOgLQrAYVsfcsOndGr6KisqIMXA4zDEMiHgR8Nvg8FqQSAQFvFdRSlJKLUFyUB3JpESppFJSWFaOSRkEVnQq+gH3fTBqzmgZSSQER7JGbn9Vj8XN0rxmdWQlmNY1wsyor774fAZ8NoYgLqUwIiVQAoYgLgZADLq+aCAmpoFHC+8qy08CspoHHZ4HPZ4W/VsABn8ciEiCjc2eVNArojApihq2IlA8KlYzikgIUFOcgJy8TN29fw6+JZ3HsxEc4/uknOHDkA7yx7x3sP/QB3j9yFAc+OIxPvjiJAx8cxv5DH+DVN9/GK2+8hb2vvIZtu3Zj87YdeG7vS9j7ymvYunMXdj63B2/sexf7Dx3B0eMf48MTJ3Dko2M4dPQIjh7/CO8ePIALly/hwuVL+Nu33+DYx8dx6OgxvPz6G9i269mIc7YZq9dtxobNO7Bh83as37QNq9dtxrqNW7Fl27NYtXYTFixegYRFyzF33iJMnxWPp6fPIdobo22NUUCLzp9FAW3I0DCkRV2zqKKA1n/AIALQHn2sf7Bvv4Ht/Qc82TBy1Fjt9Omz6dt37r5w6EhvSEhv9dY/VFFAc7lcD7e1tQ1vbe2a2djWudvX1P6Rt7E9rc7XxnR622y1vuYGR0NLl6uxLehqbIOrsQ1OfzuhWFi7V/cBm6/1fvj6R/SAVkmB1gp/Rze6QiGEgp0IBsKAZjRZ0NHZTcBVbKpjd3cQnR1BBLp7AloUxnw+HwKBwH2A1trajnpfCyplNiQxVDhXrsT5MjUukOWgaH24XaHAjUo9rjNMuMMxIpWpQ0q1DkkcPVJY+vCiao4R2VwTsnlG5PD1yBMaw3vQRGaQZfb/LaDR5bUEoHF0Dsjs3si+uAc7aLFBIea6JuhiAc3kAt9YB57BAba2BkydC1yNFY2tbaikMZGdQ4NQJMHKFdsRn7AcmXl0lJTLwJXWoFpoAU/lgMLkBp2nhNFRD1dTAKeu5uBamRASWwukpjqILHUQmd0Qmz0QW9wQW+ohMtf9Q3oQoEWhTGAJu3IPfr4ePFNdiGt0dXGNjha+2WnjW9xiqc2dqq71fWur9z9b62taEElyfPyfCWgPPdS7B+33oP/OHrT/U/XuQft96PcOaBpNbMz+O0TM/qjR460DnxzaHHXQnhg4hHAkolH70cXAo0Y/hTGjJ2DylGl48+23YTDpUesIh3646x3welzweevQ1OjtMX92L6BFXTSLWR8GNLMOdoseVoMKdpMGeo0cWpUUIiEXXA4TlRVlYNArIOCzCSCTiPmQSgSQSYXgcavB57FQRSsnAkMqKsuQk5uBO8k3kZ2TDnJpEeiMCjCraRBL+ERgCI8XDt8oLyeDFImXLyzOIxZAM1lVYHOZYLKqiJbIqAMnEnKJ9xQFsmhAiEQqgFwhhlDERRWjAuSyYhSR8pFXkA1yaRG4vGqIJXyIRTzIpEJIxHzwIpDGYtN7OHSFRbkgRYJBSiIQmV+UjdT0O7h8NRGff/UFPjxxPOySHXgPb+x7BwcPH8GHJz7BuwcP4aNPPsORj45j3/6DeG7vy9j53AtYs2EzVq/fhOWr12Hztp3YsGUbVqxZixVr1mLVuo3YunM39r7yKl589dUertvHn32KUz+dxtfff4eTX3+FQ0eP4M133sWzz7+AdZs2Y+nKNVi2ch1Wrd2EzVt3Y/W6u22NO559AZue2Ykly9dgweIViE9YgllzE+4up46Eg0RnzqJnz4CQ0YRrFhsIchfOwurXfxAe7zsw9OhjA4J9+z3Z3n/A4IaRo8Zqps2YU7Vjx55zhw9/dDgpKTZm/58zZtBbvfWHqgic/QnA/+t2u/v429tHt7V1xTW1dL3kbWz/wuNvy3X523guX7ujzt/W5PS1dDt9LUFXQyvCaidU5+8g5PS1welrI56LXjsbYoCusR0Of094+0cdubuuXCv4Wiv8XSF0hELh2bFgNwKBENo7uhC8xz2LnoFACN1dEQetOxgBtLtBI7H706IVCoXQ1RVAU0s3mOoaJDPV+LVMjrMlclwqlaHS0IA7VQpcKZPjIlWDW9U65PKtuMPQIImtQ3K1DhlsI+GgZfMMyBWEVSA0oVBkRrHYApLECpLECrLMjkptPcpVzt900Dg6B+Q1PgLQ7l1JEBuoEm4J9UNb64fE4ArPnRmdEJjqIw5XPdhGN6RWF9q7A7h46TqSU8jILSzAsqWbMW/+MuQUVKOYIgNX6kAV1wCF0QuVxQONzQNHSwAUrgnP7v8WWVwtZDVNkJvdkFgjsniJ61hII57/Dd3rsIks9RBZ6nvMrt3vtrnBN9eHeKa6bp7J2Sow19cKrB6FzO7J0TjcP1s9jS86G5qXNTRgVGNjY79IQM4/9QMiFtJGz9+Mpe9f+uKf9d/urX+obA/9690b27/tp+mt/1GFByyqvnYtvKh685Ztt6ZOncUfPeYp86DB4UXVUUCLglnUqYjG7I8ZMxHjxk7C1m07wGQx4aqvhdvjQIOvDl6PC41+D/wNbsI9i0JZFN7c9Q7UuWrgctpRYzfDYtaH3TRreDG1XiWB1aCCWiGGSi4iQj84bAa4HCbR6hjdISaVCCASconADZlUCC6HibLSYuTlZ6Essvi5kkYhHLVqVhUUcjH0OhUEfDYkYj7xPdgsOuiMChSXFKCSRgGbwwCdUYFqVlU4QZFNB4tNhzDy/QV8NtGmKJEKoFRJodEqIJbwweYwQC4tCrdOZiQjPTMFWTnpyM5JR25eJopJ+WGg47NRzaRBwGeDyaQRM2vRYJDiyKLtwqJcVNAooNGpSM9MQUr6bfx67mdcvHweBw4fxIefHMfBwx/grf3v4uDhY3jv/cP44Nhx7D90BO+9fxj7Dx3B9mf3YMv2XVi6cg2Wr16H+YuWYvHyVcSZsHgpFi1biWWr1mLF6g1YvX4TNm3djmef34OXXnsNhz/8CEePf4wvv/kGBw8fxuEPP8Q7Bw5g4zNbsXr9BixathJLV67BmvVbsG7jNqxcsxmr1m7G5q27sH3X81i/aRtWrtmIxctWE+5ZtL1xbKS1MTpzFuugRfeeRc9YKIt1zcLOWVh9+z0ZC2ht/QcM9o4e/ZRq1uz4it27nz9z7PiJ91NSehdV91Zv/d2KApper/9fXq/3UX9Hx9i2tu75ra3tr/mb27/yNHUUeho7hHX+Dld9Y3uzq6G129XQGqrztyGsjvsUhbX6xs4HPn6v2/Zb7ltsa+RvQpqvFSKzC66WTrQFgwhFZsZCIaCzK4BQBKyisfvRObRAIITubiDQDQQCoR6AFoWxqIMWC3iBQAgt7SFwdE4kV2twrlyJsyQZLpMloBu9yGSpcb1cgQsUFW4ytSiWOnG7SoUkjh7J1TqkswzIkcQPAAAgAElEQVQ9AC3qoOULwi4aSWLt4aBV6T2gql3hPWjqcFAIXV6LSqUdNFUNuHonFJH2RoPj7n642BZHc10T7N42WN0tMDgaoKtthNjghNjoAt/ghMBYD4nNB5HFDYbWgWqVAe3d3Th77hJSMyhISk1B3JzlWLR4BXILOSBRVeDJnBAonKgWmaAweaCvaUJNcwgXkquw5Y2vUKKwQ+ZohMLsgczihdzqgcLmJSS3eiCzuCGzuCG3eu6TzOKG1FwPicUNic0DsdX9QDCLhbPfAjS+2dUmtLqdQqtHJbV5CtS1vrOW+oZXa/0tK/1+/5impqb+kYCcf/oHRBTSegHtP1K9gNZb/7GKznZrNJo+SqVyUFlZ2ZybN29u3n/w0Gdbtu64Pn36HO7oMRNMg4eMaBwwcEhn/wGDgwOeGBwaNHgYBg8ZjiFDR2DosJFEi+Po0U9hzJin8P0Pp2CvtcJZV4MGfz08Hhca/V4Czhp89cTsWTTRMTqPFuui2axG1NjNsFsNsBg1MKhlsBk10CgkUCvE4PNY4LIZ4PPCrYAsVhVY1TTweSzIJAJUM6sg4HOgkEugUkqhVskh4HNQVhqOvaeUl6CKTiWcMwazEnwBG2q1DDqdMgJ9bHDYdPC4TFRH9phFQ0UYkQXTPD4LVXQqOFwm2BwG+LxqSMV8yKRCiEQ86PUq6A1qyOQiSGVCsDkMlFPJoJSXoIRciIysVKRnpiAtIxlZOelIz0hGYVEuyitKwWTSiJCQcioZtKpyovWynEpGTk4G8vOzUFScRwAbiVSAjOxUfPfD1zj51ed46719OHL8Q3x44mMcOnYUxz7+FCe//g5Hj3+CN/a9h/cOHcHzL7+GZ3Y8i9XrN2HZqrWYv3gZZscnYO78hViwZDkWLl2BhMXLiOvFy1ZhxZr1eGbHs3jtrX048MERvPf+B8R58PBR7HnxZazf/AxWr9+IZSvXYuHSlViyYg1WrtmI5as2YPW6Ldj0zE5s2/k8tu96HivXbMTqdZuxcMlKxCcswey4BZg2Mw5PTZyKseMnE7NmdwFtHIaPGBOZPxsZSW4c+UA469f/yfsA7bHHnwg9+tiAQN9+T7b17z/YM2rMeMWsOXHlu/fs/enjjz/bn5qaubSqij0pBtD+fyUp91Zv/eEqxkH7LwCPNzV1PNXU3r6oubljn9/fccrjbye7/W1St7+9vr6xvaXO3xaIBbR6Xzshd0MH3A0dqPc92FWrb+y866hFXDRXYwdcjR33tUlGr6Ou2m87aW1QOpshtzjRhhACoUAEpgB/YzNa2zp6gFl3dzcRsx+dPwt0321xjI3lj762B7R1d6O9MwSeoQ7pbC0uUJQ4VyLH5RIBWFYfCoUG3CiXIbFcjUvlMmRyTLhFU+I2K5zkeK+DFgW0qIMWdc+igEZROlCudIAqCwNZpcyKKlkNAWgcneMeQGvqAWixe9E0NjfR4igz1UNmcUNockFgrAdH5wBLU4sqdQ1YaiM6gwF8/vnXyM6rwvXbtzD96QTMm7cY1++UIbNAgAqWAVVcE6o4eiiMDaiW2KGwNeHd49ew7sW/odLghrTGC6XVB5mtAfIaL2R2T0ReyOxeSG0eSG2e+xyzBz0X67iJLfU9FNsS+QBAC/DNrg6Bub5eaPXopHZ3idrmvWiu87/l9DWuq29sHN/c3PzEvwrQHnooDGm9gPYfqV5A663/WEXTkZVK5SMGg2FgVVXVzNu3k9cfOXLs+I5dz12eMSuuevz4yfpBQ0b4nxw0vGPgk8OCTw4aHho6bCSGDR8VUXhB8KjR4/HUhCmIi58PvpAHX0M9Gps88Dd60NzcCL+/gQA0r8eF+rraHrNp/gY36utqiaCQ2hoz7DYjamvMsJi0MGgVsJt0sOjV0Kqk0CglkEr4EPKqIZXwIZMJQKuioJpZCaGADWZVOYQCDuQyERRyCaQSAXhcFhRyMZQKCQRCDuiMClTRqSgsyiXmuzhcJthcOkRiLiRiHtQKMZQKMeQyIYSRGbXoHjJaVTkRKhKdL5MrxLBZDDDpwjvaTGYdEY/PF7DB4TJBZ1SAXFpEzLUVkfKRk5eJvIJsZGanITs3A0WkfBQW54FCJYcdumoaKFQyqhgVKCLlo4JGAZlciILCHJSQCwngKy8vQX5+Ni5cPIsfz/yAr77/Goc/PIpPvvgc+/YfwAfHPsSrb72DfQcO4c13D+DNdw/g5TfexnMvvoItO57FynUbMW/RUsyKT8CMOfGYHZ+AabPmYtqsuZgdn4Dps+MwK24+5i1cgoVLV2DVuo3YtWcv9rz4Cp7b+zJ27dmL3S+8hK07d2P56nVYvHwV4hOWYO68RZgTvxDxCUuwdMVarFyzERu37MAz2/dg/aYdWLN+K7GcOgpnM2bGYeq02Rg3fjJGj5lAAFrYKRsVs5h6FJEoGg0DeRCg9ev/JPr2exL9+g/CY48/gUcfGxDq82j/wGOPP9HSr98g99ixE6VxcQvJL774+qnPTv5tX15e3iIul/uU2Wx+/J+x6qa3eusPV/cAWt+mJkxsbm5f0tjc9l5DY9tpT0Mrpa6hVV7na/fUNbS2urzNAae3OeTytcDla0Gdt62H6n3tqPO2weVtg8vbep8c3tZw++P/ZkYt6p7ZPc2we5rvhovce+9thdbTAaZMi7bw9jLC6QqGQugO3N2NhkjSY/g+4p519wS0+1shw+mPxOPdAXR1A0KTG5lcHc5T5DhLkuIKiQ+2zYcSqQk3qDJcpmpxkSJFJseEOwwNkrlGpHGMyGCHZ9DuBbRCkblHSAhZZidEiQDavS2OdI2DaHH8LUCLzqEZHA0EoGlqGiA11UFqridaHHkGFzg6J2gqO/h6C9q6OpGWnouCYjYuXElE/OxlWLpsNRKvFeLSTQrK6FrQeWbQ2AbIdI24fIcKscGDF94+g40vf4cqkxdimxtykw9iiw8SWz0ktrrwGQEuccQRi73uAWBW991ZNJOL0N+bWbsbHnIX0LhGRwfPVOfmm+sNYlt9mcpef8VU73u3xte00d3UNKElnOT4X/+sJMcH1bJDV3sB7d9fZx8KA9S/Umf/bT9Nb/2PqiigSaXSh/V6/RN0On1acnL6mg8/PH5s954XL8yNS6BPmDhFO3TYqIbBQ0a2PzloeHDwkJGhKJRF/6E8ctQ4jB7zFCZOehp7nt8Lm92ChkY3Wtv8aGn1o7GxAU1NfjQ1hl00r8dFtDjW19XC560jIvddTnsE0iyosZtgtxlhMqhh1ClhNWhgNWiglAmhUUogFnHBZVVBrZKCzaGDzqCCxaKByagAi1EBoSDcoqiQiyPtijzIZaLwzjQOA8xqGhGDz+VVE7Nj5ZVkVLNoEAk5UCslUMhFkEkFMBk10OlVkMqEhNsmkQqg1sihUsug06tgtuhhNelh1mug1SigVEmhVEkhlvCJ1MVoWiO1ohRFxXlEi2NmdhoRPJJXkA0SuRAVNApYHAZYHAYqaBQwqmlEGEhhcR4KCnPC75/PQmVVOQoKc5CaloTLNy7h868+w8lvvsSPv/yEr7//Du8cOIiTX3+DN97ZjzffPYA33tmP3XtfxnMvvoJnX3gJu/e+jC07nsWc+QsxZcZsLFy6AtNmzcXTM2Zj4tPT8fSM2ZgyfRamz45DXMIizJ2/EAuXrsD6zVuxZfsu7Nj9PHbt2Yt1m57BijXrMX/RUsxbuARx8xdj7rxFiJu/GAmLlmPF6g1YtXYT1m3ciq079mDthm1Yt3EbVq3dhGUr12Hu/EWYHZeAqdNmY/KUGRg9ZgJGjhpPAFo4EORuGMiQoSPvi9SPDQiJAlrffgPRt9+TUfcMfR7tH3qkT7/A430HtgwYMKRu3PjJovj4xcWvvPbWN19+++2beXlFCSyWcJzP53ss8gvSXkDrrd6KreiHiN1u/0tjY2O/5ubOKf7m9uXexo73HY0tZxz+topaX4vK7m3z2j3NbXZPc9DuaQ5FYenedMbYlEabtxl2bzPs3hbYPM2weCPytMDiaY1RE8yRx0zuFpjqW2Csb4Kpvhkmd0SRa5u7BTZ3C6z1zbBGly/XtYLE4KElFAa0qNsVu7i6u7v7vqj9sJMW7AFt3d3d6A50IhBsRzDUDYPNi6b2VgS6OxDsDgNce3cQEosHGRwDzpLlOFsiwTWyEAxrMzL4elyrkCKNb0Ma14w0jhW3GQYksQwRBy3c4pjNNSKHHw0J0aNQYkOxxAqSxAyy1IYyiQNlUgfI8hqUKpyoUIZ3odGVdtCUjh4x+2p7A/R2H4y1fpgcPefPTHVNsERkc7fA6PRDU+OH2OSKwFnkNDjB1bvAMtRDZKhHS2cLEi9cBYnOxEfHDmLZup1YvmILzt3Iw6nENKQVMnEtrRxUlhnlDCPySBIweUYs23oAS3cdBc/cDL7JA74pGtjhBs/sgcBS3yOlMbZNUWCqg8BUf5/CISYucPVO8AyuMEwaXWAbXWAbnOEzcs0yOFGtd4B19zpQrXd0MnS1XpbeaRKYXVSpte6mzuE9aPM0bfF6myfXA4MiLRb/MkB76KGHHuoFtN7qrf97KvazVa1W92cyeVNycnKWf/rpF+/vfenVM/HxCRWTp0xXDh8+xjtk6Ki2QYNHBAYPGRkaPmI8Ro6cgKFDxxLhIGPHTcS69RuQnp4Kr68Obe2NaGr2ornJh6bGBjQ1NhDx+l6PC16Pi5g/i7Y3ej0uIjQkCmd2mxFGg5qANL1GDp1aBq1GDqGADb1OCRaLBlJJPugMKugMKiqoZPC4TIiEHMikAjDoVDDoVMikAohFXKiUEvAEbFSz6aisKkdlVTkoVDJy87NQWJwHBqsS1SwaxCIuFDIh8TVR4IsGd0glAkjEfDAZlWCz6BAIORAIORALuJCLwwElUpkw/JhUAJlCDLFUAAqVjMqqclQxKlBYnIecvExkZqchNf0OUtPvoLA4D6UUEhjVNFQxKkCjU4ml2dTKMpDIheGvK8xGWWUpqnlMMDh0ZOZlID0nDb8mnsFP507j/JVEHP/8BBKvXcFXp77D1z/8gBMnT+LgkQ/xzsEP8MIrr+PF197EjudewPot27B+yzbMW7QUk6bNxMJlKzE7PgFPTZ6KqTPnYPK0mZgwZRomTJmGp2fMxsy58xCXsAjzFi7B4uWrsGzVWixZsRrzFy1F/ILFmDNvAebOX4i4hEVYtHQVFi5ZiQWLV2DR0lVYvmo9VqzegA2bt2PthmeIJMdlK9dh4ZKVmBU3H9NmzcXkKdPx1IQpGDFybOQXAqMJGIt1zGIDa2JB7Z7ERvTtNxCP9w1D2qOPDUCfR/sHH+nTr/vxvgObnhg4xDFh4lTegkXL8t5+58AXp079/DKZTI7jcqWjNRpNn8gMeC+g9VZvxVb0QwTAX5uamvr7mpuf9rd0rKxraPmg1td81uZpplnqm9Xmuiafud7fbq73B831/pCprgFGlw+muob7ZHT5oHf5YahrJM57pXfd1YMf90PnbCCkdfigczbA4AhLX+sLy9EAlasVBTQ2fB1d6A7dD2g9gexeQLsLbVEHrTvQie5QO1q7u5FVxEBTVycCgU4g8nxndwDKWj+yOUacL1PifJkcyQwdaJYW3KIrcZkqQRLLgFSWHll8G24zdEhhmyIOWhTQTBFAMyJPaEKhyBppcTSDorCDIqsBRVaLMmUY0qLLqukKG2hKByr/G4BmjgCaNeKkaR2NEJti5riMTghNLvAMdWAZ6iG3NaAz2IGvvzoFMqMah9/fhw07XsXS5Ztx4VYBfriYDipHh58v54BE06KUpgONZQJXbMO8da9hw2ufg2P0g6V1gqOvBVvvQLXeBZahDmxDHbh6J7FYmqWrBUtXS9yz9Y77xNK7wNI5wdQ6Ua0NnwydE3Sdo4cYeifoWkcPVWlqg3RNTSdNU+Oja2osHIOzUmhy3lbVeA9Z6hq2Ob3NU9zu1sEIL6v+lwJab/VWb/3z6vf+C49od4rdbv+L3+/vKxAIJubkFCz58stv33v11bd/TFiwpOzpqTNlI0aMdQ8dNrp10OARgSFDR4WGDw8D2ogRT2Hs2MkYMXIsxo2fiMNHDkOukKCp2YfmFh+am71o9HvQ1BiFNC983joC0GIdtCiwuZx2OB022KwGWC161NhN0GkVMBs1MOqUMOnDi6rlMiFEQg6UCjGKinNRQStDeUUJqujlqKwoBZNRAR6XiSoaBWWlReCw6WFHTCWFVCaARCYk4u1LSotArSxDbn4WUtPvoKAoG1X0cigVYqgUYpiMGhgNahj0KqiUUkjEfOh1KqhVMqiUUohFPIiE3HDqooQPuUQAg0ZJOGhyhRhypQRiqQB8IYdoVywi5SMjKxVpGclITr2NvIJsFJHyQS4rBo1ORTWbDjqzkniPFCoZ5LJiFBTlooiUj9ziHOSRclFaSUYZrQw3kq/jZupNJF67gO9//gGXb17FmcSz+Nv33+Kjzz7FgSNHsO9guLXxhVdex5vvHsCLr72J7bufx6r1m7B8zXrMmb8Qc+YvxLTZcZg6cw6mzpyDCVOmYcr0WZg2ay6mzpyD6bPjMGfeAsyOT0BcwiIkLF6GhMXLEL9gMWbHJ2DOvAWIS1hEOGjRZdNRB235qvVYt3Er1m54JhIYshXLVq7D0hVrsGjZKsyYE4+JT0/HxElTMW78JALOomcUxKJnrJs2aPBwDHxyGJ4YGOucPdkDzh7vOzDqoAX7PNq/q1//QY0DBw6rmTx5Gnvx0pVZ77578JPTp8++UFHBmC0SiUYqlcpHIoDW+9nbW70VW7GABmCAr6VlWp2/ZXWtr+mo2e2/oHU00NW1Xq2qxtegqvG2q2q8QVWNN6Su9UFd60X49EFd2wBVjReqmvC1otYHeY0XihofFDXha3mNJ3JGZG+A3NZAzCbJ7R7Ia9yQ17ghs9dDZndDXuOBzB5zb/NAZvNAZg2fcqsH4pomkNgS2Bta0BXCbwLagx202BbGSKR+qAsdgQ7UtQZBE1rQGAgiEOxAsDv8tZ1dAehdzSgQWnCxXIULFCUSy1S4StMgkSLFRaoEiWUilCpdSK5SIZmpQwpLj1S2ARmcGEDjmZHDsyBPYEOhyAqS1IYqQz2YxnqwjC6USU2gyO2gyGtRoazt4aD9FqAZnf4egGaMtDtaIqCmdfigqmm4G2FvdoFvdEZi9h3gmr2oFOnR0OLFieNfgC4U49WXdmP3KwexcvV2JN4uwo+XsiA1NOD8zWJkFovw/S8ZYAtrwWCrMWvFC3j7y6ugqupQqbKDpjKDprKAqrajQu0ATe1AlSr8/iuVNahQ2lEht4fvFfbwfQ/VgKK0g6Kwo0xhQ5nCHlENyHIbSmQ2kOU2kOV24j5WJKk1WCKzdJFklgay3G6tVNroTF1tsthSd0Tj9O6w+1qmejyeoZG//3/u/ZD4Q1Vvi+MfuJa+f+mL32O8frRiA7h8Pt9jQqFwXElJyfxTp358fd++/V8vW7aqaPrMOcLRY8a7hg0f0zxo8IjuwUNGhkaMeAojR07EmDFPY/ToSZg4aSqWLV8GamUZ/I1uNLf40NTkQVOjl3DNwk7aXUCL7kCrr6tFg68ePm8dHLVWYg+a2aSFxayD1aKHRisPtxeqZbAYNVAqxOByGNBo5aigklFFLweFWgIWlw4GswLl1BJU0SgoIRegoDAb1SwaePxqCEUcaLRySKR8wsWqoFHAZFWhilGBtIxkXLtxGQXFOWBWV0Ii5kGjksJq0cNoUMNi1kGllEKvU8GgV0OllEImFUIhF0OrUcBg1MBg1ECrkkEuFoDPY4HHZ0Ek5kEYEY1ORXZuBm7evobbd27g5u1rSElLQnZuBkjkQmLhtUDERQWNgkpmBdJz0pBPykNJOQm5RTlIz0lDZl4GkrOSUVBagFxSLm6k3MDVpKu4lXYLl29dxslv/4ZPvvwcP58/i5/Pn8OJkydx5PgneOfgBzj68ad45+AHeHv/+9i5Zy92Pf8i1m3eirgFizF9TjwmTZuJSdNm4ukZs/H0jNmYM28B5sxbgJlz52Hm3Hk9ICx+wWICxqKOWRTUZs6dF37d/MWYHbcAc+ctIlocV6/bTMTrr1i9IZzeuHwV5i1cgmmz5mLS1BkYN34SRo956r5ZsyicRe+HDhv1QECLhoHEQllUUQft0ccGdPbt96Rv0ODh1mkz5latWbMx+YOjHx65dOnqTjqdPk0qlQ6LLKnu/eztrd66t6KA5nK5Hm5ubn6iztcyrc7bssbq8R/TOXyJcpuXIbHUa0UWt19kdneIzO6gyOwOiS0eiC0eSGLO8K4rN0SR2HaRxX2P6iGMXAvM9RCaPBCYPBCaveF7sxtCSx0hQWSmSGB2gW9yhtvlTPU9T6MbXHMDSFwF9K4GdKEnoMUmMHZ3dxOKfe6uoumNnegMdcHqa0cxU4PmIBAMdaK7sysctR/ohsXTgkKBkQC0c2UqJJarca1KixsMLS5SRCgS25BCVyGlOgxoydU6pMc4aNncMKDlC+0oEFqQLzCCrLCBYaiD1tcJusoKqtyOcrkdVEV4F1pVxEGjqWtRpXGAq3cSgGZyNPYANEt9M8x1TbB5WlHra4fF0wpVrQdyqxsCkwt8kws8UxjO+EYnODonKpV2FDOl6Ai04cTxz8GSKLB3z05sf/5drFqzA5eTyfjlaj5S8lk4d52E1HweTvztMkQKN3IK6Ihb/yoO/5wBssKFErkFpXITSuUmkOVWkOV2lMjsIMtsKJFaQQ4DVPhafnfmrkRqQ0nkJElsKJLYUCy1h8/IfaHEhgKJDYUSKwql4ftCiQ35YmsP5YkswTyxpStPZG4oEJltJVIbg6qqTeGa6o5qnP6ddl/LNI+nbajL5er9kPjjVW9IyB+4lr5/6YvR8zf/LnegPfRQzxU2Go2mj1QqHU0mU+N++unMSwfeP/L56tXrc2fPmccdM2aCY/iIsY1Dh43uHjJ0VHDYsLEYNmwcRo2aiDFjJmPa9Jl44603YLHp0dziQ0uzD22tfrQ0N6CttRHNDR60NvrQ6PcQcfqxS6pjd6LV1lgi8fpG2KwGGPQq6PRK6LQKaJQS6DVycDkMiIQcCARsFBXmoIJWioLiHJRRSSgk5aKishRlpUUoIReCWlEaDs+gkiES86DTq8IpihWlRDgHT8AGuawYqel3cOPWVRSSckGrokCpEMNs1MBs0sJuM8KgV0GrUUCnVUKnVUKjlkMmFUKllEIuE8Fg1ECjVUAq5kMlE4PHrQaXVw2JVAAun4UiUj5S0pKQnHobd1Ju4fadG7h95wayczNQWJyH9MwUZOdmgMOrBovDALWyDFR6ObILskCmliC3KAdZ+Zm4mXwDSWm3kVuUg9IKMtKyU3Hp+kVcun4Rl29cwk9nT+Ozr77A9z//gJ/O/Yrjn3+GT778Eu8dOoK3979PzKAdOHwMz+zcjdUbNmPeoqWYPice02bHYfL0WZgSgbOZc+dh7vyFmDNvAeIXLCaAbFbcfMyOT8Ds+AQkRBIfp82aS0DZnHkLMCtufnheLTKDNn/hMiIgZNXaTVi5ZiMxj7Zq3UYsWLIcM+fOw6Sp0/DU5CkYPeYpjBo9ngCxqFMWbWGMnUGLwlm45TEMadF9ZzGx+rFwFurzaP/AI336djzed6Bn8JCRplmz4qnrNzxz4+OPPzt49eqNZ5hM5hSVSjX43zFe0Fu99T+yYgHN2dz8RF1Dy3S7t3GtptZ3TGqrS+QbXUy2waVj61x+ltbZwdI6gyytM8TR1+FBYutcYOlcqNbXoVofbplj6evA1LrA1IVb3aJi6u6KoXVG5IjICYbGCbq6FgyNAwyNE1Uax32iaRyo0HpAEuhQIdLA09IemUILw1ZHR0ePNMaoYxYbn38voAWDXegKtsHV1IL8Ml44HTLYjY6OLnR3dyEY6ILD344SkRFXKzQ4XyrH+TIlLlBUuFKpxZVKFa5WyZHG0iGFqUUSIwxo4UXVsYAWdtHyhVYUicwoEJqQy9eiXGmD3tsJRW0TqpRhMKtQ1oKqsIGmsvcANJ7B1cNBM9Q0wOj0E4AWDQqxultgqGuE3F4PqS2c3sg3RwDN6ATf6ARb60C1vg5sdQ1au1vw0+mzoAtleHb7M9i2511s2LQXV5LLkJhUitOJebiUVI7kXA7OXS0Ek2dBciYFcze+jvd+TEWG0IocsRnZAj2yBQZkCszIEljCJ8+EdL4JGXwT0vlGpPOMSOMZkc4zhcU3IUNgRjrfhHSeEelcI9K54RbR6JnCNiCFbUAq24AUdtidTOUYkHyP7rD1wWS2viuZrfensPX2TL6JUSSypdI0zmMSa/0uU51vWo3XO6wX0P6Q1Qtof+CKAtpDDz30e4e0P0ul0oflcvlwBoMx/eLFK89+ePzTY5s2bU2Zn7CYPm78JOuIkeN8w4aP6Rw6bHQwvBx4HEaOmoAxYydi57O7kJGVBp/fheYWDxob3Wht8aPR70Gj34PmBg+afG74G9zwuJ0EoEXnzaKwdtc908FmNcBk1ECllECjlUOlloYDO2RCcDkMSKR8FBXngkwuQHpWMgpJucjOS0d+UTby8jORn5+F/PxcFBTkoaAgDyRSESiUUiQnJ6G4uBA0OhVVkZ1mJHIhyGXFuHw1MRLSkYVKWhmMBjVq7Sa4HFbU2k0w6lWwWgywWY0wGbVQq2SQSgQwGjTQaZVEUiOfwwSfzYRYxANfwEZ5pDWxpLQIOXmZSElLwq2k68jMTkNmdhryCrJRUJSLnLxMkMiFYLKqwOIwwKimobSCjLLKUhSVFiIrPxOZeRlIy05FXnEu0rJTkZWfiTvpSbhx5zouXDmPxKsX8MnJE/jup1M4ffYMvvnxFD776m/44ptv8Pq+9/DRp1/gpdffwu69L+OZnbuxZuMWLFu97m5y49x5RJtjdI5s/qKlRLti9Iy2N86cOw/zFi4hgGzGnHjMmBNPpD7GJYRbG2ODQpYsX4MVqzdg+ar1WL1uM+smatIAACAASURBVFas3oAFS5YTkDd2wiSMGjceI0eFo/RjAS06exa9HvjkUMJRG/jkUAx4YjCeGDgUA54YQgBaFM4iYIY+j/bHw4/0Df314ce7H+nTr71f/0GuYcPGaOLjFxVv37478csvv30zKSllLYcjHq/X65+IBHT17kDrrd66t+4HtIbp9vrGtQq755jI7Exk6x1MuqZWR1PV+Gmqmg6aqiZIU9WEqtSRvVyqmgeqQlmLSpWjp9Q1qFSFW9cqI6+JiqqI3jsicoKqcICqCN+Xy2tRJq9BqdyGUnlsq5sdZIULRUIjciv58LcHewBaW1sbWltbiTbG33LQwo4bIkmPHQgE29HR3QGF3om2QBcCwW60dwTR2dGOQHcnXI1tKJOYcIOujQCaAhcoSlyiqnGJqsQNpgoZPDOSqw24xdAimWWMLKruOYOWKzAgP7KgukhsQSZLhWKhAUKjB0JjPWhyG6hyK8rldpTLrahQWP8hQIvO6GntHmhsbijNLsjMTshr3JDaPASgETKGQ0K4Zi8YMjNau1vwt5PfgS1TY8czm/DMs+9gzbrdOH+jCIlJFFxLpeNSUgWySyRIzmYir4SHrCIGpq5+Ce+fy0MS14Q7bD2SOTokc/S4wzHiDseEO2wDktl6JLF1SGLrcDtGSWw9ktj68DUnfN6s1uAWU4fb1XrcYuoI3WRo74qpww2GFjfoGlxnanvoGkMTvEpTdV2rUvuv0zX2pGotI4dvTi1T1B7jmZy7THUN03sB7Q9bvYD2B65YQHvodwpp0V1oAP6q0WiGMJnMKdeu3dr66Rdfvr91+66bCxYto06YONU0YuQ4z9BhozuGDB0VGDxsVGj4qPGYMHEqxo6biE8//xRSqQiNTR40NXrQ0hyeN4sCWjS9MXb/WfSMXse6Z9GZL61GDpmMB6VCDIVCBKGIAxa7CixOFZhsGsqoJOQWpCMzPx2pmXdw/eYVpGUkIyc3A9nZmUhKvo3U9BRkZKWjiFSI5NQ7+PXcGZDLSlBWXgoSuRC379zAraTrKCkrxJ3UmygqyUMxOR/VLBosRg3cTjusRi1qLQbYLXrYLXro1DLoNXIY9GqYTTpo1HLIZSLIZSIIBRwo5GKIhFxwueFkSFJJAXLzs1BEykdeQTZS0pKQmZ2GnLxMZGSlIicvE/mFOSgrL0FZeQnKK0rBqKahvKKUaMXMK8hGXlEObibfQG5RDnIKs5FdkINCcgFupdzElZuXcfbiOfx87hd8cvJTnEk8i+9++hEnv/0aRz7+CEdPHMfzr7yCN959F3teehW7nn8RW3Y8i41bdxCANmf+QsyOT8CsuPlEu+K8hUsQv2BxD0CLtjBGWx3nzl+IqTPnYObceYSLFk18nBU3HzPnzMesuQmYt2ApFi9bjWUr12HV2k3hxdSRWP+5CYswfU48Jk+fhbETp2DkuAlEOEi0hTEW0Ho6ZsOIeP3wQurBPeAsxjVDn0f745E+/fCXv/QN/fWv/boffnhA64AnBjlGjhynWLhwae5zz73wy6lTp15OTc1cIZPJxqjV6n/ZDtLe6q3/8XUvoNl9vmnmusY1YmvdMbbOkVihqmGUyWxastTiJ0msHSVSW7BEagvFxsA/UFJbWDIbcV0ssYZb2mThKHmS1AqS1AKS1IxiiRnFYiuKooq0shVJbCiMuS+UWCKyokBsRoHIgjypDXkiC26Sq9HYHUJ3MIRgsBvBUAjt7d2or/NGYvaDCAVBgFgwBHSHgK7uILq6uhAIBNDV3RWZUwsACCAQvBvd390dQnt7B4KBADxNHaApbLjJMOBcqRznS6W4RFXjWpUe12laJEVmzm7StbjF1CGJpbu/xZFniACaCUURQMvnG1DAN4Aqs4FvbkC51IoKRWQGLbL7LDx/VgO62g6+0QV1JGbf6PTD5LwbEhKVwdFAhLWoHV5ILS6IIi2o4aREF/gGB9g6JygSKxhKK/xtTfj+2+/BlJqxdt0WzFm4Ahu2PI/LN8g4c60E526W4XwSBemFAvxyPgvkChluZ9KwZM8RfJfNx4VKDa4w1LjMUOEyXYOLdC0u0rS4SNPgUqUKl6rUuFipxkWaComRM3ytjChyXaHGBaqKUPT+HFWJc1QlzpYrcLZcgXNUJc5XKHGOqsI5qgpny5U4W67ErxRF8FeKvOsMVe4/W6G0XWNqGMkcXSpZYT/G1jt3af4NDtqyQ1cxc+fRXv2b9ee/9PlXwxn+/Jc+//Gf8/9mDZqyoMefx+8N0mJmvP9Lr9c/weFwxmdkZKz97ofTbzz/wsvnV6xYUzhx8lT1yFHjXYOHjGwbPGRE96Bho0LDR47DqNHjsWDhYlRWVaLB7yZSG6PzZlE4i95Ho/Xd9Y4eioaD2KxGGPRq6HVKGA1qKBViiIQcyCV8iERcsHkMVFSVoYpJRTE5H3mFWbhyKxHXk67ibOIv+PXcz7h6/RJu37mFxMTzuHDxPH4+8xNu37mFi5cTcfb8r7h95xYKivJBIhcjJe0OyGXFuHLtIjKz01BIykV5JRk8fjW0OgVqbUbUO6yoMevhtJlQV2NBncOKWpsRzhozDHo1rBYD9DoV9DoVqpk00KuoqGbSwOezUEmj9Nh1lpx6mwgFiS6nzsnLRBEpH0WkfJRSSOG5s0iqJIVKRklpEYpLCpCafgeZuelIzUpBek4asvIzkZadjozcdFy5eRmXrl/ElZtXcernH3D6zC9IvHYJH356Aie//RoHjx7G/sMf4PlXXsFr+/Zh996XsXPPXmzd9Rye2bkbi5avQvzCJZgdccEI5ythEdHaGJ0pmzl3HmbMicf02XGYNmsups+Ow4w58Zg6cw4mTZ2BSVNnEPdPTZ4aDhSJ7D9btHQVMX+2et1mLF+1HguXriC+z9MzZmPClGkYNW4CRowZ3yO5MbaN8d6AkLtgNiiy+yzsnj2grRGP9OkXBbTgww/37+zT54nmQYOHWcaPnyxcvXpN8uuvv/n1uXOJu0gk0gK5XD48sgPtzwD+9J/+f7W3eut3V7GA5nBggN3nm6Z3NK4RmuqOVuscFyjKGkaJzKItkpgaCiWWjkKJJVgosYSKpFb8PRVLeqpIbCGWMReJLSgUmSMyoVBiisCWGfkiE/JFlvuUJzQjV2C6Tzl8IzKERmQLTbhMYsLXDQRCQFdXBzq7u+BwetDob4s4Y50IBqOhIUEEEUIgBAQC4dbHEIBAKOKoBe46a9EKhULo6AzH9Te0dIGhrsUtphHnKApcKJPhElWN63QDrtO04fY6pha3mVoksXS4w462OBofCGiFInMkZt8KqtqFHI4W5SonKLIalMvvB7QqdQ2YGjsERifUtT4CykyuRkJRQDO5GsMJmJFUTanJCbGxDsJIhL3A6ALfUAO2zolqnRuVChN87S24cvkiSqvVWLJiI6bPj8fKDTtx9ToZpy8V4uerJPx6m4KUfDbyS4TgiG04+fMdbD90Cj8UiHG+XItEmgrnaXKcr1TiXIUaFyo0EalxnqrqobMUBc5SFDhXrrxPv5YreugMRY6fKDL8XC7Hz+U9r3+mKPAzRYHTpTKcLpXhR7I0eLpU1nWaIm/4iaKwXaSrGDertSmFYvtRrql+p6bON83u8fxLZ9Ai/2js1e9Yf/rTn3DkyBFoNBp0dHSgpqYGiYmJ//H31av/vn5PkBb9fNXr9f9LrVb3l0qlo7Oz85f98sv5F1957c2f1q7dlD11+mzZmLETa4YMHdU6aMjIrqHDRoWGjxiDpyZMwQt7X4ROp0FrWyP8fncPIIsCWtRR+y1AiyY3mk066LQK6LQKGPQqSMQ8CPgsCHnVYLPpoDHKUVpejDIqCZk5qUhOu4WL1y7gxzOn8NPZH/HLr6dx7cZVJF66gAsXz+PUj9/jy69O4sLF8/j0809w6sfv8cPpUzifeI54TUZWOpKSb4JcVozC4jzQGOWQSPnQaORw1VrgtJtRV2NBfa0VdosedQ4r6p021NqMUKtk0OtUUCok4LAZoJaTUVlRBi6HiaoqKnJyM1BGISG/IBv5hTnIyctEQVEusfcsOnsWBbRYBy16lleUorikAIXFeUjLSsGNO9eRnpOG7IIsZOVnI7coh5g9u3LzCr74+iTOnD+HH3/9BV9+9w2+Pf0D3vvgfew7eADPv/IKXn/nHex6/kXseO4FbNnxLNZv2Yb5i5dhzvyFmBEBsFlx8wlQmzEnnpgliyr6WHSB9fTZcZgdn4Ap02fh6RmziddNnTkH8xYuIeL1lyxfg6Ur1hILqZevWo8lK1YTC7AnT5uJ8ZOexsixT2H46HE9AO1exyy21TEW0AY8MZgAtFg4iwW0hx/pG/rrX/sFH364f8ejjw70Dxk60jBp8jT2xo1brr/77v7Prly5vqWkpHyuSqUarNfrH404zL2A1lu9dW/FpjhGAG2qqc6/SmCqO8zQ2s+Vye1VxVKLpjAcstCeLzIF80WmUIHYjHsVhqv7Fft8gdiMQomFuM8TGpEnDLf65QqMRPR8rMILnY0EkMU+nsUzIENkQpbQhNuVYrjaQmht70JTkx+t7W3Q68xoa+1CIBCE1+uG02VHINgBIACEAmEbLRjZlRYMEICGu1zWo4KhIIKBLjR3hMA3upFUbQ67OmUyJFKUuFiuwsUyOdIFFiQxNLhdrcXt6jCkpbD0SGf/NqAVRlodS+U1IEms4SXVDwA0mroWdE3t3wU0cyS10VzXBEt9M4z1TbB4W6Gu8UBhrYfU4oHE5oPY6oXY4obEWgeewQm62oVymRE1Xg/ycjLxw4V0rFy9DRNnzcTOF97EmbNZOH0xHz9dLcGvSeX4288p+OlSLlhyB97/5gr2nU7ChSo9LtC0SKzU4HylkgC0XyOu1lmKAmep94NXLIDFioCvGCD7qUxOQFjs9Y9lYf1QKsUPpVKcIkuC35eIu06VSht+KJNZz1coq24yNXfyJZbD1TrHdrXdN9Xmdg/5V6Y49gLa7183btxAbW0t3n77bSxevBjPPfccfvjhh//4++rV/5l+Z5D2JwB/9vl8j2m12qEkEmXe5WvXtu/ff+jkth3P3pozdz7vqQlTTMOGj2kcOmx0x4iRY4MjR40LLVm6DFeuXEFjYwOaWxrQ2urv4aD5G9zhGbQYBy06f1ZfV0uEgzhqraixm2HQq6BWSaFRy6BWScFh08HlMMCupoFBp6KMSkIBKReZeelISb+NK9cTcePONXzx9ef46vu/4dsfv8MPv/yID098jA9PfIw339mHD44dxUefnMDR4x/hxOef4chHH+KbU9/j61Pf4Pqt6ygpJSElLQl3Um4RQCRXiGAx61DvtKGh3gGH1YgGjxN2ix56jRwWowZmQ9jp02mVkEoE4HGrUc2kgcmoREVlGcilRSijkECKwFUphUS4Ydm5GYRzlpmdhuKSApSUFiE3PwtZOekgkQuRX5iDrJx0FBTlIr8wB7n5WbiRdA0pmcnIK85FblEOrty8ijvp4aXUF66cx8/nfsHXp77BrxfO4+S3X+OrU9/hy+++wXsfHMJr+/bh5TffxItvvYl9Bw5hz0uvYtuze7B6w2bMX7wMcxMWYXYkmTHqaEWvoyAWC2PzFi4hnp8VNx9xCYswfXYcAXMz5sRj5tx54fm1hcsQn7AES5avwYbN27Fh83as27gVy1etR3zCYsycOw/TZ8fhqclTMXr8RAwdOQZDR4bhLBbQ7t1zFl1GHU5uvBurHwW0WOfsAYAWePjhAa2PPz7IM3LkeMWsWXHU5557/tePPvr4UEpKxqqqqqqpWq12QCTBsbe9sbd660EVC2g1NU39nV7vFKPLv0Jodh1iamt/LVPYK0lSq6pQZPbliyztBWJrsEBsDUVT82L1IOfrXgcsT2gmrnP4RmTzDcgWGpDFNyKTZ4jI1EMZXCMyuEakcwz3KY2tR7rAgDS+CbdoEihqGlDr8qCzsx1dgW60tnSiqzPsmjU1+eFy16KjqxWhUDAMaIEAQpEQkUAwSLQzIng/oYXn1gJhQOsMQmBy4zbLgIvUMKBdLFfhKk2Hy+VKpPJMuMPU4hZTgySWDml8M9K5JmQ8ANAKxGbCZYy2iJIkVpTKa0CR1aBS5XogoFVra/4uoFkii7yt7haY3M1Q2d1Q2d2QmV2Qmt0QWzwQmt0QmeshNDnAM9RC4mwFRWaEzeNFGbkQX56+iXUbnsWUuXOxa++bSLxUgJ8vF+D0FRJ+uUXBV7+k4fxNEhhyBw5+fw1fZdFwplKFcxVqnCtX4ixVHgNjyh46Q1EQ+qVMTqjH4zFuWMQRw49kKU6RJThFlsSCWEQynCLL8H2JFN+XSPEdSRL8tljc+S1J4vu+RGI5V6movMZQ3c6T2A4xdY5teqd3isXt/pfuQesFtN+3Vq1aha6uLkyaNOk//l569c/T7wXSIoD2/2g0mj5yufxJKpU6KykpdcORYx8d371n76V5CYsYkyZP0w4dNso3fMSY9uEjxgRGjR4fevnll8HlctDS6ofXVxeZQbvroMXOoTX46ol4/ahzFr121Fhgt+gJ8DHqlJCJeeBW01FdVQEmoxJ0egVy87OQnZ+JWyk3cTP5Bn759TTOXvwV3/zwNb4+9TU+/fIzfHjiYxw8/AHePfg+3tr/Ll5/5228+d47eP/YEbx/7AiOnjiODz89gc+/Ookfz5zGmfNncCvpOi5fTUQljQIGsxJKhRg2qwF1tVZ4nHa4ai1w2E2wmrQwG9Qw6VWwmXUQ8llgMirBYTNAr6KisqIMlPIS5OZlorAoFxQqGSRyIQqKclFQlIsKGgUVNAoKinKRV5CNsvISkMiFBJBFrylUMtIzU5BXkI3M7DSUlBYhOzcDuYXZyMhNR1Z+Jm6n3sLN5FtIyUzGzeQbBKBduXkV35/+EQcPf4Djn36CIx9/hDffew9v7H8PL739Fna//Cre2Pce9rz4CtZu3II1Gzb3gK3YpMa58xdibmQuLQpi0ZTG+AWLMXf+wrtuW9wCzIlfiLj5izEnfiGh+QuXYcHiFVi6Yi3WbngG6zZuxbqNW7Fm/RYsXbEWCYuXYVbcfEyeNhOjx0/E8NHjMGTEaAwePgoDnxxKLKEe+ORQPDFwCPFY7NxZ2DUb3GPv2b3uWWTvGR7p0w9/ffjx4F/+0rf7kUcGNPfvP8Q1bvxkcfy8BaRXXnnt+5MnT+7Lz89fLBAIJlqt/r6RBMdeQOut3npQIWaZpr2xsZ/D0zxJ72xYKrC69jO1jp/KFPZyktSmKBRZPYVie1uewBrIE1hD+UIb8oU2FIjsyBfZkC+0Ik8QVi7fgmxBT2XxzYRi7zN5RmTwDcjgm5DBM0ZS+0xh8UzEdTTB70FK42qRzDUgqVoDilAHX0sXEbNPOF8IoTsYQHt3NzqDQFt3CAEAoUAXgpEAkUAwgO5ggAC0UCgEq9WKrq6umCCRAELBTrR2BCCyeP8/9t47uKm7W/fPvPe+Cb23BBIIkAAhJCE9dAOmd4MxGDBgTCe0hA6hd0IJYAzuvduyLPcuSy6SVa3eLcmWLXdKwJb0/P7Y0kYGznlzzvm9N7m5XjPP7K+28CDPwOz56FnrWYhgKuGbK4JfrgiP8mUIZWrxMEeEiFIlIpkKhNoBLbJMRSyqLlUhvlSFxHIHsKrIGTQaT4d0fhUJaZkCvVNQChHIUmRPr3QAGldbB4mxkdh5Zgc0Z+dMU9sKQ+PvUNW1QlXXCnlNE/jqGvA1ZnC09YTsgMZSGsGpbkFyiRAyfTWEfDZ2HTyP+fPd8MFHY3Hx2n1s3X4WEcmluP4oAzcCM3EnMANZxSpksTQ4/iABIeVq3MoV4LccMX7LJXQnR4RbOULcyq3ErWwRbmaLnSTCr1kOVeJG5ktdzxASyqrEtUyhXQSAXU7n43I6H5fSeLhI4+JSGs/+WoDL6QJcpPFxIZVnu5DKs5xLrXhxLpVTf5HGU9/OFeQEFkkCUzi6PcUK0xJ5df04TV3dkH9n1G8noP21FR0djYyMjD/9c3Tq/3/9FSDN+UtQvV7fr6SkZFxSUtKMM2fO7fLZtuOay6y5GZ9/8RVv1OgxtR8MH/142Psfto8f/5k1ODgYLa0NaG4hXLInjxtfm0H7zwDN8dqo16BKI4dOLYNaIYZCKgS/ohwl9AIU5mYhLY2CzCwaImLDERUfiYBQfzwI8LWD2XmcOncKh44fxr6fDmLH3j3YsXcvNm3bhm179mDz9u3YsnMntu7eja27d2PH3r3Yc/AgDhz6GQcOH8TZi+dw8/av8A94gPiEaBQU5kAmFaLWpEe9SY8GkwFmkx611Toi+l8jh1JWCa1KCqGAAzarhGxvTM+gIoWaCJr98zraFDPs57yCbBQV54NRUkQGfzj2n+XmZ6GQnodCeh4Sk+OQmBxHJjxGRocRLZGUOEQnRCEg1B/BEUEIjghBYFgAgsIDceveTVy7dQ3BESE4cuI4Dh07iiMnTsJ9rSfWe3tjy65dWLxqNdZ6+8B7206sWrMOrvMXYarLbNIBcwDa91OmY9I0F0yZMQtTXWZj8vSZ+GHqDEyb6YppM10xfdYczJg9F1NdZmPKjFnEfZc5mDrDFVOmz8a3P0zDd5OmY8r02Zg8bRZmzVmIeQuXYdHSlaR75jpvMSZNnYlvv5uMT8Z/jtEfjcPwEaMx7P0PO+w8c4awV68OKHOoX//BHQDNORikV+8BDvcM3br3sXbr1u9F796DmgYP/qBq/KdfFM+c6Rq7b9++4zdu3FqXlZX1NZfLHSGVSnvaA0L+0QlondVZbyi83NXSpRnoazS3jlHXNU1ja2t2FkmN1zKFVZk0nk6QUqE1J7N1T5NY2g6A5gxljmsSS4v4CkJxbA3i2BoCwFhq8vXLe3YoK/+PAezViPUOKlMhukyGsFIFIksVSCri4Uk7OiylttqssNhlbnoGtaEJmppmPG4D2q0WWNstZItjm6W9A6CZzWanRdY22GxtgPU5nrVZIDQ0IapUhQd5IjzIqcTDPGkHBy2Ro0cYg5g/iyq3/w4l/xrQ0vlVyBQakCU0kmmW/11AU5taYGj8HWrzYxLQBBoT+Np6cHUNHQFNrkeZzozcSh0qlVVQyvjYvvcU5s9fgeEfj8N9v2j8+ONVxKRW4EZANi49SIVfaC6ikspBLZLhqG8corhV+DWbi7s5YtzJluBOzktAI9oTRbiRJcGNbBGp61mVhDKdQUyIqxkC4popxBU7lF0h4UyIS2kEiF2k8exXPi6kETpH4+FsKtd2NpVrOUNlPz+bWmG+mMZV3s4VZgYWSR+lcKt2MuQ1C6XG1jG1tbWDQUT9dgLa/4PSarW4c+cObt26hebmZjx79gxUKhUjRoz40z9bp/77ctnvjxn7Hu17608u52fsy4XVOT/cuHFz874DP52dv2Bx0nffTyn7cNQY43vvDW8ZNXJM27RpLlYWqxxPn7WgpdmMlmazHdKaXktxfBXQ6s01aKg3oamxDvXmGuirCHdKq5JCJRdBIuSBU16CEnoB6Pk5SE6OR3JKAoIjghAaFQJf//u4ff8Wzl85h7OXzuHnY4ewc+9u7P35IHbt348de/fCy8cHm7dvh5ePT4fzpm3bsGPvXmz/cTd+PnYYJ8+cxL4De3HkyCHExEagiJ4HhVyEGoMGddVVqDPqCPdMqyBm42SVkIn5kIn54HLKUVpCJ2bOCnKQnZOOZEo8MrNoHVobHbNlDoeMzihAMbOQjN53vJeemYrc/CxEx0YgMjoM/oF+iIgKRUhYIKJjIxAcHogHAb54GORn34UWjsi4CNx7eBcnzhxHQGggHgX7Y9feH3Hp8lVs27Uby1e5Y/P27Vi/xQfrfbZh96HDWL/ZByvc12DG7Ln4fsp0Mp3Rkdz4w9QZmDx9JqbMmIVJ01wwaZoLprrMxqy5CzBr7gLMnDOfFHnPlZAjPt9l9nzMmb8EcxcsxZz5S7Bg8QoS0OYuWIrpM+fi6++mYMJnX2LkKCKx0QFlzsunBw8ZRoKYA8qc3TJnMHsV0JxDQezR+ujarbetW/c+lh49Bjzv1+8987vvfqj6fOK3ufMXLAk5evT4AV/fh26dC6o7q7P+YDkeHvZvMnrrW1pGa2sbJnF1Jh+mwnAxXaCl0Xg6TgpHW0upqHqcxNJaklhamzOYJbG0BHDYzwmsVyHsPxYJZ68AWlR5R0WWqd6oqDIVokplCCuRI7Jcg4iscpgft8FqsdrBqh1WWGCFDc+e/w5zixVB0Rm44RcLkbYez202tL3S4viynZGYR7NYLE7x/G1A+3M8b7dAampBJFOB+1kC/JbBx4McMYLoKgQXKRBeogRNVIegQhFCiqWIKCV2dsWUKN8AaJo3OmgZAj1y3uCgFUmrQZcawZT+a0DT1j0mUxzV5sdQ1rZAoDFBoK0HT0sAGldrRoW6GmyFAQylASx9EwQKPaqr5Pjxp18ww2UO3h/1MTZsOoDoWCbuBmXjRmAOjl2NwoOgHFy8Hokidg0O3IjE1WQGbudwcSuTj9vZItzOluB2diVuZgtwI4uP65lCXMsQdQCxN8nRqviqW+ZwzM7ReDhH4+F8Gh9nU7k4m8rFGSoHZ6gc8nw6pcJ2OqXC8gul/PczKeza82kc2a1sAS2wSHqfKtD7MBXVc5V1LaNrah4P/HdG/XYC2l9bz58/R2trK5hMJubPn4+VK1dCoVBAJBLhH//4x5/++Tr1X9dfwTlzLvtz9m2RSNSDz+cPo9PpnwcGhqw8dercQffVa0KmTZuVO/7Tz1WffjbR/OXEb56fOXPW0tTUYGttbUZTYy3Z2vj0SfMfArSmxjpyL5pOq4BGKYJGKYFSVgkhlw12GQPlJXSUMYpAS01GXEI0Hgb54UHgA1y5dQXnLp/FiTPH8fOxQ9i9/0fs2LML23bvhveOHdi8bRs2+GzDOp8tWO+zBR6bNmK9zxZs2OoDr+3b4PPjHuzavxc7ftyNHw/8iCPHDuHqtUugF+aBU1GGKnsYl9F4RAAAIABJREFUSI1ejWqdinD2VFJoNXIyYl8hFUIiFoDHZYHNKgGjuAC5eZmgpVGQRIlHEoWASgd05RVkg5aeAgo1EbT0FOTkZZK72Ki0ZFCoiUi2h4kkJMWSC63jEqIRExeJ+MQYxCbGICI2HBGx4QiOCEJ4TASiE6IRGOaPwLAA3Lp3G6fO/YI9+/fjyrUb8PTaCI9167Fp6zYsc/fA5h274LP7R7itXou5C5fAxXUeZs9biGkzXTFzznzMW7QUC5euwFI3dyxf5YGVHp5Y6eEJj3VecF+7Hu7rvLBmwyasWb8RHuu84LHOC26rPbF8pQeWrliNJcvdsXjZKsxbuAxz5i+B67zFmLtgKebZ2xrnLVqGOQuWYMqM2fjmh2kY//lXGDtuwmvOmXML46DBQ0kNHPQeGQhCgNigDudXAc3hmL0KaF279Wnr0WPg0wEDhhqHDx9bOXmqS/LqNZ53rly54h0dHT2Hy+V+pFQqB/07vxTtrM76W5QzoDU0NPRqbm4eqTe1fCfQ1G0qldeczRIYKWncKlZKRVVNMlvbmsTStiextDbSKXtD62Jc+esg5uycxbE1bwSz19wxJ0UyFYhgyBFZQiiqVEEqmilHTIkG0aU6PKAyIDLUo93SBpu1DYDdTbNZUdfYgIbW3/EwLAUnr4fiblAKfm8HrFYLLO3PYbG22WHOSrZF2gAyPMS5/bHdakVVQytimVL45QjhWyjH/VwJolh6hBarEFmiRq6qFeEMKSKYMvJ3iC1VIL5MYZ8/UyOZrUMKRw8qrwppfAPSBUak2+Esq9KIbFE1ssU1yBETe+UKJdUolhjBlBpRKjWCrzFB6gRomtpWch5NYWyEqqYZEl0d5DVN0DU+g8LUDKG2FgJtHfg6M7jaOlRoTWBrqlGmNKBCWwOWth4MgRzV1Tr8dPAUvpo8E6NGjcKhI9fxKCYXtx9m4IpfJn65GYsd+y/jrl8iitm12HjsIa6msHAji0+Ee2QL8Ks9cfHlHJnwZetihhDX0jvOjDnNjuFyGg+XaFzSHbO3LeJCKo+EMmc5AM0BaadTKmy/UNjtp1LKnp1L4dRcShOIb+aJKI+KJXdogqpNLF3tbF1z80iDofXfuoulE9D+2nrx4gWePHmC/v37k/cmTpwIAFi+fPmf/vk69V/TX8U5cy77c/Z/6/X6riKRZgibzR4bFRW78MqVX7d7eW3xXbhgSerEiV9JPvnk05oVK1Y+o1JT258+fWprbWlCc5OZbGt0uGjOISHNTWY0NtSSgNZQb0JjQy2am8xoqDehSquARl4JnZpw0Cr5bHDZJSgrLQajuACZmTQkJMXi/qN7uOv3Gy5cv4BT507ip6MHsWf/PmzfvQtbtm/Dlu3b4L1tOzy9NmLjFh94bNgAjw0bsG7zZmzevh3eO3bAZ9cueO/Yhl37f8T2Pdtx7NQRXLp8DoEBfuCySqFWiGEyaokER4MGBp0SVRo5NEoJtCop1AoxNEoJ5BIBpBIhRJU8cCrKwCguQE5uBnJyM8iZs8TkOCRR4pGVk46ColwyOj8ji4b8whwU0vOQnZuBJEo80u1R/I5wEEdgSGoaBTFxkYiMDkN0fCTCokORkBKPpNREBEeE4FHwIwRHBCIwzN/uJh7B+ctXceTESbit9sCqNWuxet06rPHygveOHVjv7Q231Wuxwn0N5i9ehjkLFmOpmzsWLl2BZStXY7XnBqzb6A1Pr83Y5LMd3tt2YuvOPfDZsRteW3dgw9Yd2LR1J9Z6eWOtlzc81m3CKo/1WOWxHqvXesF9zQYsX7mmA7DNX7IScxetgOuCJXCZswDfTp6Oz7/+Dh+P/wyjx44nExsdYSCDhwzDIHsbozOcObc3dmxpHIS+/QahT9+B6NN3ILn7zAFoDkgj4IyI1+/de3DrkCEjtGPGfFYxd97CyM3ePpfv3LmzhkKhTONwOMP1en0/AG93zp91Vmf9i3J8uwegR3VT03CtuflLgdbsWSKvPp7FN8SlcrTM5DKtIbFc05xYrmlLLNdYE8s1SCzXdAjzcMDZmwAtplyF6DLlfyrHn4kqVZBXB4xFlsgRwSTSEB2x9eElCkSUKBDFlCO6RImoUh1CcvkoFqnQZm3Hixe/o6m5hYjGt1nRZmmHpqoGcZRc/HL1IeKohXhhscHS3gbY2mGDhXTbHIDmDGmO9kebxYp2qxV1T9sQXyLDg2wBfPNluJ8ngX+BFAGFMvhm8ZCpbCY/e0y5CtGlCsSVKZBQLkciS4XkCg0oHC2oXD1oPD0JZ1mVRmRVGhGRz0GGQIdCaTXyRcQC8GKJEcUSI0pkRpTJqiHQ1kJqbOgAaA73TGd+QrY5KmsJyaobIaoyQ6Svh1DfCL6+AbyqOnCralGhNYGnr0MWVwE6T4b6+hocO3oen303DZ9/PhGnfrmLC3ejcD8oD2d+TcTl+yk4ecEfKRkcZNA1WLj9Mq7SOLiRLSTcsqyXoR7X0nkknF1LFxBg5gRjF2ncDq2KzjDmcMvO0XgkgJ1+Rb+kVHTQaSoHp1IqbKco7LbjiWVPTyezDReoXP7N/Mq44FLptUyR3pOjrpumrm4a3gz0tf/7/7dE/XbuQftz9Ef3oJlMJpSUlLx2v6mpCSdOnPhPf7ZzD9qfq7/6HjRHOc2hva3X6/uJxeLhNFrmtEePgtfs3/vzpVWrPCKmTJnK/vbb7zSJiUktBoPheUtLk7WxwWxrbjLjyeOm1+bPHIDmaGVsbKjtcHU4aDVGLXRKMbSqlwEhFewSlJcxwGQUIjMjFfF2B+1hkB/OXDyNwycOYfuebdi81Qcbt3jDy3szvLy3YMNmb2zc4oN1GzfB02sj1m/aDE+vjVi3cRO8t23Hzh/3YtfeH7Hv5/04e/E0gkL8ERsXiby8LGiUEhirVKjWq2HQKcmzsYpw0ZSySujUMnIOTSziQyoRgsdlgV6Uh/yCbBQzCpCVnYbUNAoSkmLJ3WepdmctxR4e4ojPT8uggpaegujYCETFhCMhKRbhkSGg0pIRExdJwll8YgzCokIQlxyLkMhghEaF4N5DotXz19+u4/b9m7j38D5Onz+H47+cxtoNXnBbvRrLVq7EGq8N2Lx9G7x3bMeGLd5Y67UJHuu94O65HkvcVmH5ag+4eayF58bN8NzojQ3eW7F520747NwDn517sOPH/di2ey+2/rgf2/cdxPY9+7F1115s8N4GTy9vrPJYjxWr1mLxslVYsHgFlq5YjaUrVmP+ouVYsHgF5i9yg+u8pXCZPR9Tps/G519+h3ETJmLkx+MIOPtwNIaNGEW2NzoDmsM1c7Q2Os4dWxoJ96x3nwHo3WcAGRDi5Jqha7fe6NK1l61rt96W7t37P+3T592G4cPHiCdO/LZg9eq193/66dDhsLCwhbm5uV+KRKIhUqm0Jzrj9Turs/512R8e/zSZTN0NDQ3DDLVNn4t0de5lytpDuZXGSBpPX5TM1uoSK3SNCWztiwS21hpfrkb8K2mLpHtWpurokNnlDGwvwUyB6DI5qahSGSJLpKRT5qw3AVp4iQKRDBnhsJVoEVYoQg5Hgie/EymObK4AVdW1xMJpqxXCSglEUg32H70AobQKL15YYbW0AzYLrLZ2EsoAEEAGvBHQLFYbGn63Ir5Ehke5IjwokMM3X4pH+RKEMFTwzeIhgWdAVJmKADR7EmV8uRIJ5XIksQlAS+HqQOVV2QFNjwyhwe6cGRDHqARTVY9coQ6FIj2KxAYwJAYwpNUdAE1W3fgaoDmcNBLWGp9B1/gM8pomiPT1EOkbIDQ0QmhoBN9QD56+DhW6WsjqHyNXoEI+WwSzuRrHjp7HFz/MwKfjP8exE3dw+mYo7vln4tyvibjmS8X562GITSlFXJYEy/ffwdUMAa7nCMl0xZcpi/aWxXQBrqQJcSVNiMtpAlymCTpA2atwdp76ZpfsNJXXQb+kcPFLCsd+JXSKwrGdTKp4cZzCenyWytFdSuNz7uSJI4NLZRezRQZ3rrZ2kqKhYVgj0Bv/xmWZU3b7zujU/3m99Y//VffWHwC0/Pz8/xDQjh8//p///D/+V92f/Xv+v6oZex8GffjDkr+0c+Zcjrh9hULRSyqVvpebW/RtRETc0qNHT57w8dn2cMaMWfQlS5ZIFQpFo9lsftbc3GhpbDDbHLvO3tTa6AA0B5Q5HDRzXTXpqtXWVMGgkUGtEJEOGpvFJKPrMzJSkUyJJ9r+YsNx/so5HD11BLv378K2XTuxftNGrNtIwJiX9xZ4rFuPDZu94em1EWs3eGHdxk3YuMUH23btxu59+3Hw8CGcPHMCD/zvg0pLRl5eJng8VgfXzAFmjmuVRg6tSkpeNUoJxCI+FHIxhAIOSphFyC/IRr49qTEtg0o6Yo42xdj4KMQlRJM7zzKz05CWQUVySgJCw4PgH+jXwUVz7E6LiglHdGwEklOTkJ6ThozcdCSlJsLX3xc37lzHrXu/4lGwH27evYlDx45g4xYfLHVbAY91nli+aiXc163F5u1bsW7zRqzyXEPM4231gfu6dXBbuxYrPDzgvm4dPDdvxuZtO+G1ZRvWe/tg09Yd2LR1B9Z7+2Dztp3YvHMPNu3YDTePdVjr5Y11m3ywdv1meG7whofnRixz88CCxSvgOm8xOYc203UBZs9dgmku8/D95Bn46tvJGDv+C4we+yk+GPkRGak/dPjIjlH6b2hvdCQ4OrtozgEhDkBzJDfaA0FIQOvarbe1a7fe7b16D2jt1+8906jRn3C+/35q+iZvn2unT5/dnZiYOLO4uHi8TCYbwGazu3W6Z53VWX+gHO0XALqZzU/f0zU8Hi/W1y9nqUz7sioNwTSeNjeBpVbHsdT1sSz1izi2xhJTrrLFstSvReI7AM0R6hFLJjF2DPmIKiFmspxbFQnJEVkiQ3iJ/I0KYyoQxlSSCmUQ4BbBkCO8VIuwIjGyOHK0Pn+OdpsN6TkFyCsqJVPzzeZ6NLc8RXB4HNS6arS3W9De9oIANFhfumY2G563vSAdNIt9sbVjibXFakNLOwhAyxPBN18Gv3wZgouViCjT4VFeJR7mC4j5M4YMkUw5ophyJJQrkMhSILlCZd8Pp0MqX0/Mnwn0RLS+yIBMYRUyeVowVWYUSY2g290zppQAtFJ5NcrlNRDq6iCrbiRhTG1qId2zDk5aw1NUNf0OqbHB7qARgFZpbALfUA9uVS3KVUZUPbGgQKRDEU+K1tZ6nDv3q91B+wp378Xj9M1Q3A/MwplrsbgflItjpx8gllqOYAoXq08E4kaOFFeyibCPKxkCXMmwty2mOcCMgLJLTjB2nsbDuVQuzqXycI7KJ3XWrjOpL3Wa6gAwPk6l8HGSwsMpx9n++iSFhxMUnu1EMtd6PIn74lgyu/Ushau+ROWV/5YvDg4rUZzOFeuX8/T131aZze8pGho6l2X+PavqrT8AaAcPHsTTp08xYMAA8t5XX30FAFi4cOG/+vmq/8O/U2fZa8Y+v9MOQHv/S9e/NJy99dbL5yyfz++uUCgGlpaWfkah0Fwvnr+yb8+evTeXL1+Rdf/+fb7RqK9tbKx/3Nzc2N7YVGd1Dgd5NcHR0d7o7J45AM3xus6kh0Ejg1wiIEM4OBWlZHx9Xm4msjJpiE+MQUJKPG7du4lT507i2Mkj2PfTAaxZvw7rN20inTIv7y3k1eGqeW/bjj37D2DfTz/j7MULeOj/AJnZaSgrZ4BTUQqFXIRqvZqM+3d20Bwx+1UaOfRaBdQKMbQqKSRiPlRKCbmoOr8gGzm5GaAX55PpjbT0FMTERSIqJhyR0WGIjY8ClZZMRu0npyQgiRKP6NgIhIQFgkpLBqOkCDFxkYhLiCbfi4gKRQIlDrSsVASFB+Ku32+49/Aurt26ikfBfgiLDsHx0yewY88urPRYg1VrPLDSYzXmL16EtRs3wMvHG8tXr8KGLZuxYdtWeG7xxjqfLVizeRPcvTbAc4s33L02wGPTRrh7bcAKz7Xw2LQRK9evw5LV7li2xgPuGzZhtddmrFq7AavWbsDSlR5Y5uYBN3dPuLl7YsWqtVixai0WLnGD67zFmD13EWa6LsDkaa749ocZmPj1D5jwxTcY+dEneH/EaAwdPhJDhg3HoPfex+ChH3RcRm2HMefZMwekvQnQ+vQdiF69+9s1wBGnj27d+6BL1154p0tPW5euvSxdu/V+0afvoKaBg4dVjRv3GdPFZW78zt0//nLt2rVN6enpP1RUVIzWaDR97PNnnemNndVZ/6qc2i+6mEyPBxnMrR/L9I3zK5S127JEBt9UrpaWyNZI49ia2ugy5e8x5ar26DKlLaZc1WFPmbPIsI8S5etQ9qqcAM3hlpHuWJkKEaVKhJcoEMaUI5Sp7KAQBnE/hClDWJkW4cUKpLMVeGoFntuAhNRshEdTYLUSVpjVasWTJ8/w5MlT2Gw2tLe3Ew6aHcWssMFqs8FmI1wzbZUOrU8eo83S3mEGzWKzodUCJLNU8MsRwi9PBr88KfwLpAiiKxBcLMfDvEpEszRI5hkRXapEXKkcySwlKGwVUirUSKkgFlTTeHqk2ZMbcyXVyK7UI7fSABpbgRJ1PQolBKDRxQYwpQYwZTUolVeDpTChssoMham5Q0CIA8p05ieoqn9KApra/Biy6kaIDQ0QGxohqm6GqLoZPL0ZHJ0JnKo6CKsbcPiaLwo4EjQ0mHD8+AV88cNMTJ82G+EReTh+NQA37ibj0q0E+IXlISgiF8Exhbjin4OVJ4JwKUOCyxkiXM8QvpwtczhmNAEupQpxKVWIC6kCXKQJcS5V0EEklKXwCFF5OJXaUSepXALGUvg4RRWQ55MpfJwg4AzHk7m2Y0kc67FEzu9Hk9lNpylc6aVUQdH9QrFvVJnqcLGsZr7IUPeFyWQaZDKZOpdl/j3rDwFaz549odVqUVpaisWLF2P16tVQqVQoKyv7Iy2SnYD2J5UD0P7qzpmjXk1zFAqFo/Ly8r579Chgw+nTZ0/Ex8fHqNVqen1Drba5uaGhvrH2eUtLvaW1pYF00V4FtKbGOlIN9SZSdbVG1JoMaGyoRW1NFUx6FeQSIh1Ro5SAxy0nZ9AK87JRYN8fFhIehODwQNy6cwNXrl3E+SvnceDwz9i2awe2796J/T8fwp79+7Fl+3Zs3bkTew8cwPFffsH1W7fwKDAQv933RUBIMDKy0sDlsSCs5KBSyIFaJYVep4BOLYOxSkVCWbVejdpqHUxGLQlojsRJqUQAlVIKHpcFJqMQ9OJ8wkUrzEGRHdLyCrLJlMbE5DgkJMWSoqWnIDWNQsBXUiziE2MQlxANKi2ZaGmMCEZIWCDiE2MQHhmCuKRYRCdEISElHgGh/rh68yruPbwLv0A/nLt0Hjv27MYmHx8sWrYcS91WYd6iJZizYCFWeKyBx/oN2LR1Gzw3bYantzeWr/HAMg8PLF9DyM1zLdw3rMdyD0+s9FyPlZ7rsdTdA4vc3LF4pTsWrliJ+ctXwnXxMsxfsgJzFi7FgqVumDV3EWbNWYipM1wxfeZczJg1j0x0nDR1Jr6bNB0Tv5qETz79Gh+PnYAPR43FsA9G4d2hIzBk6AcYPPQDDHrvfQLSnCP1B7w5sfHVGTTHtVfv/ujRsy+hHv3QrVsfvNOlJ97p0hNduvZytDe2de/W5+mA/u/WfDBspPT77yanLV+68uGpU2f2+PsHLWMwGJ/KZLKhnemNndVZ/4VyAJpCoXjH0Nrav7m5eaTK0DyLq6nbmCM23KLxqpISWKrKOLamOrpM+TS6TEkCmvMCaeeF0q8CWSRT8YcVwZC/4pIpyGsIQ0UquFiJ4GIFQpgyBDOkCC7TILJMg7gCPhT6ajyzAX6hcYhLyUF7+0tAI5IZ29HW9oKYNbNYiPdIQAOsVuJ1Y3MTJDIp2l/ZkWa12fDYSgDag2wBAopU8C9UILCY+IwOeAwsFCGhogoxpUrElymQVK5AEktGwhmVoyXaG+2Ali0yIFNQhRyhHrQKBQokRuSJ9CiSErNnDGk1mLIalClqOgCaM5w5oMwBaFX1T6FrfAa1+TGkxgZIjI2QGJsgMjah0tgEXlUdODoTuHozCisVCEjJQ7FADr1ehePHLuC7GfOxxmMT4hOZOHzRD1d/S8T5m3EIiCpCUiobARF52H8+HGvPROJiugSX0ipxI60SV+1Q5tClVCEuUgW4SBXgQqoA552gjHDIBDhNfV0nqdwOOpHCwTEKF8dTeK/pGIWLYxQujiZzbEeSKixHkiqeHqWw609TOJWX0wS5Dwrlt+JYmn1MlWmW2NT4qcHQ2h/EkupOQPv71R8CtLfeegsjR45EamoqHj9+jKamJkRERGDQoEGdgPYXrhn7/E5/53X+/wo4e+utDoD2tkgk6qFQKIaVlpZ+FhERscLfP2ivXq8PqKurzWhpbZA1NNSazPU1z1pbGtpamuttr7Y1NjeZSTBzTnF0OGe1JgNMNXoiOKTOCJNeBaVMiEo+GxqlBEJBBVjlTDCKC1CQm4WCghykZ6YiLCKYBJbf7t3CHd/buHT9Mo6cPIrDJ47g4tUruH7rJk6eOY3jJ4/h5u2buHr9Gnz9fJGYnIiYuBjEJcSCXpwPYSUXAgEbYhEPapUUOp0MOrWEhLIag4Z00GoML3e16bUKVGnkkEqEUMjF5OcsKaWjmFGAvPws0BkFSM9MRWZ2GhkMkp6ZiuSUBETFhHdwx+ISoslWxuDQAMQnxiA+MQa09BTyfkhYIOKT45CVn4nAsACcvXQGN+78igcBfvjtwT3s2b8PO/b8iFVr1mLh0hVYuHQFps+ag7kLl2DRMjcsd18Dz43ecPfcgDUbvOC5aRNWr1+P5atXw33dOqzy9MTq9euxwXsrvLfvwgbvrVizYRPcPDyxcJkbFi5zw+xFSzFrIRH0McN1PqbNmospM2ZjmsscTJ42Cz9MccH3k2eQy6q//GYSPpv4LT799GuMGfM5Phw5Bh8MH40h736AwUPsQPbuMAwYMhQDhgztkNDYv9/LGbM3Rek7h4P07jMAPXv1Q/cefdC9Rx9069ob3br2Rpd3euKdt3vgnbd72Lq809PatWvv5z179G0dPGiYbuSHY7gzZ8yJW7fW69erV69ujIyMdO1Mb+yszvpvlqM/XgP0MTY0vK+sbZzM09W5F0hMF2gCfUQ8S1ERXabURpcqH0eVKl5ElCqskU5wFl2iQHSJgjwTUKZCeLECEQwloko0iCpRIZKpRASDeI+QGhFMDcIZaoQzVQgrUSGMqUQwU4EQu4KZCgQz5AhiyBFYrOigALoMgcUSBBZLEMCUI6xEhfBcLpTVDXjSZkVGbjFSMovQbgHaX1jw4sULItXRHpvviNQn9qXZyLND7e3taLe048WLF2hrI1IhAaDdZsMTC0DjaeGbJYR/gRwBhQoE0R0wKUMoQ46QIgmiS1WIZ+vs7Z4yxJRKkMLRIJWjRoZAh4zKKmRV6pEt1CObr0WeSI9ccQ0yK43IFtcgV2xEkayGkNwEhsKEUmUNypXVEOnriSXU9vkz53AQnfkJ9A3PoG94Bk39UyhrWyG1w1mlsQmimhaIaprAN5ghrG4A32AGV1cPhtSEcokUAj4b3pt3wGX2Ivx85AKu347B+VtRuOZLwYU7iQiJp+Puw2REJJZj3cF72PFrKq5nyHGJVonLNMIpu5j6cp6MmCkT4DyVjzOpPJxJFdjbFnl2GOPjlxReB52icHEildBxKoe8Hk3m4Ggy1xnIcDSZgyNJhA4lsK2HEtjthxLYj48ksE2/UCoqLqcLUh8Vyy5QuDoflrJ2skrf8pEG6Gy3+PvWHwa0/4E6Ae1Pqhn7/E7/3wJnjnIaJ+gik8kGCASCkQUFBS5CoWhdfX395ZaWxsg6czWrobFW3dRsbm5tafi9qbHO2txktjmi852DQRyqqzXCVKOH0aDtcK41GdBYX4OaKiX0Wjkq+Wyo5CIoFWKUlRajmJ4PJr0AhQU5KCjKRUYWjVjanBSLiOhQBIUHIDAsAA+D/HDjznXcuHMD/iH+iIyLxJ27N/HQ3xchYYF48PAeMrJoyM7NQFoGFeXlDEjEfEglAshllVCrxVAqK6FUCMnWxhqDhoQ0R1CIRikhnTSlQgKpRIjyMgbKSotRRM8Ds6QIRfQ8FBTlIjM7DckpCaDSkpGVkw5aespLNywhGhRqIiKjw8iF1OmZqaBQExEdG4HwyBD4B/rhwcN7CIsIJiL3k2IQnRCFu36/4cqvl/EoKBB37t/HoWPHsXbDRqxdvwkLl6zAvEXL4DpvCWbNWYT5i1Zg0bJVWO7uCc+NPlizwRvL3ddghfsauK1eC4/1G+G+dj2WrfLAwmVuRCT+YjfMWbAMrvOJiPxZcxfDxXUBZi1cgpkLFsNlzgJMnTkH306ejonfTMKX30zC519+R+qzid9iwhffYNynEzHmk88xcuQnGDFiLIYO+xDvDR2BQYOHYeCgoRgw8F30HTgEfQcOQZ8Br4R+9CVSGd8EYy9nzfp3cM66de+Nbt17o2uXXqTskGZ95+0e7d269XnSp/cA8wfvjxJ98dk3BW5uHr779v10NCAgeElGRsa3MplsaGNjIznv3fm87azO+oNl/w/zvxsaGnqZzeZ3VfUt34iq6pcWyWpOZQqrAhIrFCUx5QplVKmiObJE/jyiVGmNKFXaYspeJi86py++dM5egtjLswoRDALUwhkqhBYTCilWIIRBKMgOZEEkmMkQQJcigC4n5V8kg3+RDI/oEvgXifCoWIoQhgKRhZUwP7XiWZsNXIEY1PQCtFkAWIlI/Ze7zSxob7e+BDT7Mmrnctxz/Ay5Hw02PLMCOZV6+OVUwi9XgoBCGUKZSoSXqF6GmNgDTBIqqhDD1iKeo0UyR2XfeaZDOl+LTGEVskUGZAurkFtZhbxKPXIlJiSVq+BLoYOpbgRdXgO6ogZFylowlbUoU5nAUtWQgKapbSUdMweU6cxPYGhB+NdOAAAgAElEQVT8Hcam51Cbn0BtfgKJoQEifSMqq5tRaWqBoLoJwuomVKhrUKGtQbmqDnRRLURaFeJiw+DpuRmz5izGlZvBeBiaiQu3Y3HpbiKu3qciOCYfnhsPITSuFIu2XMGB+7m4SpPgMq3ytbAPRxqjo4WRSF/kkiEfZ1KFOE3lvxb8cTKF85pDdpTCcQKyChxOZONIUgUJaIcTK/BzPMt6KIHddjiB3XwsgW04ncIpuZzBjw8uVpyi8nUbuFX132hNzR8qGhp62SP2Ox8Yf7/qBLS/cX2z896QP/sz/FfLOc1Ro9H0kclkQ+VyzXcmk2lpc3PzMbPZ9KC+0VTQ2GgW1TWYzC3N9U+aGuvam5vMVodb5gA0c1016mqNJJBVG3XQV6lJ98yg16DaqEODuQZ1Jh0BPXIR5FIhdFoF2KwSMBmFYBYXgE7PA51RgNz8LCQkxRJ7xqiJiIgNQ0hkMIIjAhEcHgjfR/fh63cXsfFRhFsVHUZCT1ZOOuiMAhQW5YLFYkIs5kMqFUCllECtFkOlEkEuF5IumVGvJqXXKQlAU4mh1yqg1yqgUkqhVEhQVlqM8jIGcvMywWAWopCe16G9kZaegvTMVKRlUEGhJiI0PAih4UGIjY8iHcHY+CjQ0lOQkpoECjURIWGBeOjvi7v3byM0PAiBwY/sMfthuON7B1d+vYLA0DCcuXAJW3fuxqJlbmQ4x4xZ8zB52my4zluKRUvdscJ9HRYuc4frgqVYsGQlVq1ZhzXrN2LN+o1Y6eGJZStXY8GS5ZizYDFmz10C13lLMXvuErjMXoDZcxdj6oy5mOYyD1NmzcEUF1dMdXHF91Nd8O2k6fjym0n49POvMe7TiRg3YSLGffoFxo7/HB+Pm4DRY8Zj5Efj8MEHH+P99z/Cu+8Nx5B3P8DAQUP/Q0BzgJgD0Byve/XuT8bo9+zdDz169kX3Hn1eh7NuvToAmsM96/JOz7Ye3fs29+s7yDhq1FjWD99NTd3k5X3l1Ikzu2JjE2cyGIxPFQrFQHt7Y+e8d2d11n+lHA8Ok8nUvboaA/SNjRPExgbXYoVpf5ZIfzuBrcyNZakqI0vk9eFM6dNQhswSypDZnBMWnSPxI5kEpEUw5ASIFSsQyniTlASc0ZX2lkU5govldhh7Kf8iCfyLJHhUKO6ghwUiPLQDWgBdisBiGULyhdA1PEZbuw2mWjNoaVlot7xscbRYLGhra0NbmwVtbRZYLNYOrpkzmFksFlgsltfu2Ww2vLABpap6BBaI8SifiNgPYSgQypAholSJSHtYSnixDFElStxOLUUyrwpUnhY0rhYZXB0yeVpkCfXIqtQjp7IKeSI98sVGFMjNyK7Ug6GqRZHUgBJFNSFlLUpUdShX14KlqoHY0ABlbUsHQHNAmmNRdVX9U6jNT6CqewxRlRliQzOExhYIq1vBNzaDr28CT9sAtrYGTFkNikUmVNVW49zZU5jpuhhrN2zDzyeu425AGq7cTcbVB1T89jANCdQyTJjgioBwBlw8zuNEeCmupInemMZ4IZXXYbasYwojn3TQOqYyvg5oDiA7lMDG4cQKh1uGn+NZ+Dme5TjbDsaWWX6KK3/+czyr/lgCW3WWxsu9mS0OiShT7M+u1LsJ9I0T9PX1Q+3zZ5398H/P6gS0zvrLlROkdTMYDP3r6+vHtra2Tm1ubvZpaDCfbaqvTWioNzFrTUZdU2Ndo9lc87yh3mSpqzXaHIEgjQ21JJS9CmhGgxbVRh10WiW0GgVMNVWoNemhVkmhsrc3SsR8VAo5YLOYKCrMRUFBDoroecjNy0RWdhpo6SnEPrC0JCRSE5BAiUNichziE6IREhqA0LBA5OVnITsnHbQ0CmhpFBKgmCVFKGcxwK4oAbuiBJUiLqQyISRSAWTySkglAigVYmjUcmg1Cmg1CqhVUsJhUwqh0Yih0UggkwohkwpRVloMelEe0dpYnI+8/Czk5GWCSktGpj1y3wFjUTHhuP/gN9y8fR3RsRGIT4whF1FTqIkkxDli9wODH5FtkfHJ8QiOCEFEbCR+e3APp85egJf3VsxfvAzTZ82By+z5mDrDFT9MccEPU1wwa85CuM5bjBmz5sF13mJyV5nb6rVYvHwl5i5cgoVLV2D+4mWYv3gZXOcvwoxZCzB1xlx8P3kmvp/sgm++n4rPJn6LL7+ZhC+++h5ffPU9JnzxDalPJnyJseO/wEfjPsXoseMxaswn+PCjsRgxegwZnz/s/ZEYOuxDvPvecAwe8j4GDHwP/Qe8i379h7xxjxkRlT+QhLRevfsT9/oNQp8Bg9Gz7wAyQp9Utz4dwMzJPbO983aPtq5dej7r03uQ6d13P5B/NfG7rMULlwUfPnz4p3v37q3Ozc39ksvljlAoFJ1fhnZWZ/13yvHQ0Ov1XZuBvtX19WPl1U3TylU1O3LF+svJLBUtlqXmRJbITeEM6eMwprw9jCm3vjpf5ngdbg/6cMTiO9IXQ4rlCCmWI5gus0uO4CIFgosUCCySI4iuQBBd1sEp6+CWvQHQHhRK8LBAhEeFYgTQ5QgpEIGvNOKFxYZnz56hsIiBF202WNqtaG8novKfPn2GZ8+eo63NQoKXM6C1tbWRIOYox2uLzQqLpQ1tNqBC24jQQgLQAovkHQAtyr5aILpEgfgKLRK5VUjmViGVW4UMngEZXB2y+DpkC6pIFy1PRCykLpDUIEegA7uqAUViDUpkepTKq1EqN6FEVUc6aBJjI5S1LSSIOZwzfcMz8rWh8XcoTC1EemOVGRJjK/j6JtDFemSwZGCr68FS1YKtqwFdVgOmuBb1LfXw3uKF7yfPwS3fIMyY54Hbj6j41T8d1/xScS84C1HJxZi3eAsu3KTAZf0VnIvn4UIKD+epHJynVuBcCgfnqVycp3JxjvoS0Jyj8B2JjEQqI++1WbPjlIoObpkD0A4nVuBQApuEM8f5UDwHP8WybQdjWO0/xbKf/RzLNh2OZ0vPpQpod3JED+LZqh1F4pqFsur6sera2sF6vb5rZz/837Y6Aa2z/nLlmEVTKBTvNDQ09GpqahrR3Nz8ZXNz8+rW1qaDrS31QQ0NtVl1tUZZvbnaVFdrfFpXa2gz1eht5rpqm2MhtdGgRZVORYKZA8gczplWo4BGLYfRoIXRoIFSIYZMKgSPWw6hoAJ8HguscgaK6fkoLMwBg1mIInoecuwLnympiUhOSwIlLRmpGSlEKiIlHnHxUYiMCgUlJQGFRbnIzKIhJzcDWdlpKKLngV6cj9IyOspZDDCYBajglKJSxIWwkgOpTAixiGeHNCnUKhnUKhmUCjHRDikXQKUiWiJV9qj9EmYRigqJvycrOw05uRnIzE4DhZqI7NwM5BVkg0pLRlCIP+me+frdJVMbI6JCER0bQe5LS0iKRWJyHGLjoxAVE47Y+CgEhfgjKi4KAaGBeBQcgFt3b2P3vgPwWOcFF9d5mDTNBVOmz8YPU1wwaepMzJg1jzxPmT4bcxcsxeJlq7BkuTsWLXPDgiXLMX/xMixYshwLl66A6/xFmD5rDr6b5IKvvp2KiV9Pxhdf/YCJX/+A8Z99hXGfTsQnE77EJxO+JFsXPx73GUaP+RSjPh6PkR+Pw/BRH5NQ9t4HH2LIsOEYPNQxb/a+3TVzhrPXAc25hbFf35fzZb1690fvvgPRs+9AdOvVj0xpdACaY+asyzs9O7hn77zdw9rlnZ7Pu3ft0zpgwHu6D0d8xJs2bWbCWo/1ty9evOwTGhqxoKSkZJxYLH7XHq3/T/u//87nbWd11h8t5wFms9ncs6apaYSu+elXFdpazwJJ9TFqhSY6jq2mhzPluvBiaWNIsfxFSLHcEsJQ2Mg0xRKVPV2RCO4IYcgRRJchiC5DCEOFILoMgUXS1xRQKEFAIbHgmQSxAnkHPcyX4VGhFA8LJPDLF3c4++ZL8TCvEn75lfArlMM/XwQqg4/mF1ZYLW2EW9ZuRWNjs32uzILGxmaYasywtAMWi33WrL29A5Q5Q9uTJ0+I9wBYrEB723O0Wy0Qmx4jgi5GYJEcwcUKhNrBNKJUgZhyFbkbLpwuQUy5CmF0CVJ5RlArdMjiG5DF15EOWrbIgBxxDfIkBCgVSowolhtRrNCDKScAjS2vA1NZi3J1LdhqUwdAcwSDODtpDslrmgn3TF+PyqoGCAzNyKyQokikB0/XDLa6HqU6YtatmF+FtvZnmDnTBRO/mYEvf3DBgeNXcOVuLH59QMPl+xQ8iitAJJWOLbtPY477T5i9/S7OJQtwllJB7io7l8LDGQoHpylcnKY4xeNTHJDGI+HsF4oAp1L4OJ7MxbEkDo4ksHEkgY3D8SwciufgUHwFfo57qZ/iX+pALMtZtv0x5dYDsawXB2JZj3+Kr9AdTeRwr6aJo/3y5FfTuFpPpqJmuqamaYRe39IPxILqzoCQv2d1Alpn/SXLMYum1+u7Pn78eFBLS8voJ0+ezGppaVnf3Fx32Ww2Ruj1mrLaGoOy2qhrMhq0z4wGraXaqLPVVFeh1mRAlU4FlVIKjVoOjVoOlVIKhVwMpUICjVoOpUICuUwEhVwMhVwEhVwEAZ+N8rJisFlMlJYUoZieh8KCHOTmZCAvPwsFhTlIz6AiI4uGtAwqklITkZBCtDs6WgRpaRSk0pIRGRWKpOQ45OQSP+sAqOycdOTlZ6KwKAcFhdkooueimJGPInouSsvo4AvY4PJYqOCwwONxIBLxIazkgsMtA59fBpmUmFuTSgQQi3goL2OgsCAHqbRkUFISkJmdhpy8TLJdMa8gG5nZaQiPDCFbG8MjQ/DQ3xepaRSER4YgJCwQwaEB8A/0w6OABwiPDCHTHsMjQxAQ5I97fr7wC3iEy9evYe/Bn7DSwxNuq9di0jQXfD9lOqZMJwI7XGbPJxMUJ0+bhUlTZ5KO2ryFy+C2ei1WuK/BomVumLNgMeYvXoaZc+Zj8vSZmPj1ZIwd/yXGjv8SYz75HGPHf4GPx32GseO/wIejx+HD0eMwYtRYjBg1FsNHjsH7Iz7CsOGvQ9mg997HgCFD0X8wAWTOUNa332BymbTj2rvPQPTqPYA89+4zEL17dXTKunXvg649+qKLU3y+Q1279EK3rr0dYIa3/9nd9vY/u1vf/mf39m5d+zzu22dg3fAPRgu/+PyrvJVuHr779x485u8ftCwtLft7Pp8/rLm5uW/ns7azOut/UHBaWF1fXz9Ub2qcwNPXriiWVu9L5VYFxbN02VElSkUkU1EXylD8HspQtAcXy22OuTFnBRc74IxwxgKL5B1aFR0KKJLYAU0C/yKp3SWTvhnQ7FeH/PKk8MuTwjdfhod5lXhQIML9Ain8C8UISWfA/LuNdMzaLTa0t1vR1mbBixftsFhseP57O6wWwOaU7vjqHNqr9x2Lqy3tz2G1WqCsf4ZoughBdGL+7FVAS2BrkcDWIp6lQThDiohiGe6llCCeqUA6X49MIREQklWpR5bIEQpSDbqMgLR8aTWK5EbQ5QYw5UawlOYOM2gOQHMEhDhLU9uKqvqn0NY9hsTQAGVtKyp1dRAbmiCvfwZBdQsqa56CV9UCrq4RTLUeBbJq0LlqNDbWYMqUqZg0bT7Gf/E9zly5h6t3onDzAQ1X7iYjOJmBu8FJ+HryEsx02wu3I6G4SBWR82VnUrg4k8LHL8kcUqcoPJxM5uJEEucVcXE8gYNjiRwcTeTgSEIFDsezcTiejUNxFTgUzyGgLJZN6kBsBan9MWzsjyHu7Ysus+2LLrPujS77fX9sefPB+ArFkUROydUMSVBAoep0Nk+/okJj+l5fXz/0372gurP+9OoEtM76S5bzLBqAvg0NDcNaWlq+a21tXdrYaDpSW2O4p9Uocg16tUCrUdRqNYpWnVbZplHLrVqNwmY0aKFWyUgA06jlkEkryeRDjVoOtUoGmbQSErEAUokAokouuJwyMIrzUViQjaLCHBTkZyEvNxPZ2ekkYKWlp4BKS0ZqGgWJ1ATEJBALoFNSk5CaRiHeT01CQmIMQsMCyRbH9Awq0tJTkJaegvTMFGTm0JCdm47s3DTQ0ilISU1AVg4NFZwyCIQclJYyUVLCQAWnHBxuOTjcMvC4ZRCLuJBJhVDIRZCIBahgl6KYno+MzFSkpacgJy+TBLSEpFjk5GUiKycd0bERCA0PQkRUKKJiwuH36D7iEqIRHRuBsIhgBIX4IyDoIQKCHiIw+BHCI0MQFhGM8MhQ3PO9ixu3buLazZu4ePUqtu7chWUrV2OlhyemzJgFF9d5mDrDFYuWriSB7IcphKv2/eQZmDJ9NhYsXoGlK1ZjtecGrHBfgwVLlmPBkuVYtnI1XOcvwjc/TMG4T77EqI8+xeiPJmDUR59g5OhxpEaMHIPhH36M94ePxvvDR+ODER/hgxEfYdj7I/HesBF4d9hwvDv0Awx+930MGjIM/Qe9i34Dhji5ZS8BrW+/wSSU9ejZDz179ScXTDvu9+rZnwS0bt37oGv3Puhil2P5tDOgOdoa3/5ndwegWd55u8fznj36NQ4Y8F7V2I/Hl06eNCN588atl06fPr8zMTFxZmEhc4JSqRwkEol6dM6edVZn/Q/K6aHRpabm8cCq2uZRAmPz7BJlzcYMQdXNBI4+PqpEyQ+ny/QhdPmTkGL5i4BCmTWwSG4jWhOdYcyuIiX8CxXwL1QggC4nWxNJSCuUwL9ADP8CMR4VSgg4K3wJX69Lhge5UjzIlcI3RwLfHAnu50nxIE8E33wRfssV4SFdhvtUBsQ1LbDaYavd7pK1tVnw/HkbLO3Ai+dW2Kz2SH0yft/SIQzktdAQGwFoVssLWCxtMLS2I5kl7wBoEaXKDg5aMluHxAotknh6RDBkSOLokSE0IY1nBzSxoSOgiYwolBhRKKlGobIBeYpaFChqUCQ1olRmeg3QnPegOaSpbSWhTW1qgVhfD4WpBZW6Ogj0ZrA1JjBkxGxbubIOXE0jipRaFMhrUMhWQsAth7v7aoyd8DVGfDQOpy/dxtkrj3Dbj4ZLt+PxKCIHYbGZGDNhKhZ5/oydt9JxNkWIM6l8nKJw8Esyz0kcnKIQMHY8sQLHEipwLIGNY/Evr0fj2DgUx+7oktlh7GAMCweiy3Egupw8O6Bsfwwb+6JZzmfrnujy9t1RZU/2RbHqfo7j8I8lcbNuZstvhjE1e+li42yB3jShpqZmYOf+s799dQJaZ/1lyynRsVtra2v/1tbWMa2tjZPr6oybagzak2IhP0oiERZUVvJUXE55nVQifCaq5LVLJUKbVCK0CQUc8HlscCrKIOBXgM0qAZdTDlY5E0IBBwJ+BbicchTT81HBKQWDWYD8gixkZdOQSktCdk4aMrNSkZFORWZGKjIyU0FLoyCZEo8kSjziEqIRExdJzmvFJUQjISkWySkJiI2PQkxcJCKjwxAZHYYkSjwxo5YYgyRKPGgZFCRT40FNS0JmDg3UtCSERgQiINgPyZR45OZlgsksRl5eDpjMYpSVM8Bil4DNKkGlkAupRAipRAhRJQ9sVgkYxQXIL8hG2v/H3ntGx11ea9/v+xxsy7Ik925sOiSQkJCEQAgQCL27YDAYFzDGFdNMh+DecG/qzaqWZatYvc9oukbTm6b3pimaIo2mXe+HKR7JhuQ9zymcs+Za61r/+x7JXuYD679+s/e+dlMdauuq45WzWGpkS1sjmlsbUFNXjQulhcgryMaF0kJk5Zwb8++tvnIRF0oLUVxSEE+fzM3PwcVLlTh97hw+3vkFNm3bgTXvvo9nX3wFf3/2BfzlsSfw/MuvYc36jVi+8u34XrLf//FhPPq3p/HEU8/HQe2Z51+JB4O8vHQFXnptOZ567kU8/OjfcOev7sOSJXdj8eK7cMst92Dx4juxeMkdcS9cdGs8iTHR8xcsie8nS9xddm1+bPYYxwAtBmeTU6eOaVdMz5iJtPQZSJuSUDmLwtik1KmYODkDKQlwNiklPTFSHxNuSg1PuCk1NGli2ujkyVPds2bO1S2++Xb+w39+9Oprr72e9fXX3+/IPp+3vKur63f9/cIlydmzpJL6D9D4b/Xsdvtisdn+CFNhWdkm1O2pYauLyylyWjFJKi8giJ2FRNFIXo8klEuQhK+bFRtX+crtkV6rjvWIkU0QI4sQecY+y+m+ViWLAdn4allmhwjn24Vxn2sT4FynKO7MbgnOd4lxrokBusKMUChSNfNFVp3BFwzDaLVjxBeAbzSEUBAIBiNti6FQGOFQAOFwCMFwpD0yFIossY61PMYALRwYRSAwCqM7iEaWEvk9guisnSwCaHQZLtKVqGLIUcdS4zJTjhqOBpV0OcrIUjTyzbjK1qOFq0crN7HFMbL3rEdsQIfIgKxGKiqoInTLLCCKzaBKTFGoMqBvHKApza4bAprc6MSAwYEB0xB4agu4mkGw1XbQZCbQFXr0Ky3ok1lBlmnRKVSBzNKg/soVbPzgPdz7pz9i9uKb8cPeH3H0VCm+3V+MPScvoaCiC0WldXj4ieVY8cE+fJFLxu463jgwY4+pkkVArP86f3GpHzujIJYIZdfMxCcVfXF/XM7Ah5URb6+gY1s5Ddsr6PiwkoEtZfTQljK6f0sZ3flhBUP/RVU/7YfLrJozXcI9FX2qDRSZ/hGRznqX0+mcHp0/SwLa/14lAS2pX6wSZ9GsVmu63W5f7HA47jcbtEv1etU2Hqf/fH8/vZZOJXE721o0NGqvi81i+LgcZohOI4UpZAI6O1rQ1dmK9rYmtLU2orOjBZ0dLSASOkGlEEHq7UZbWyPa2hvR2taAhsYa1F+9jLr6atTVV6OhsQY1V6pQU1OF+qtXUFd/GdXRPWFV1RUoq7iA0vJilJQVoaSsCIXFeaisKkNVdQUKSyLJjnlFOSguK0RhaQGKSgtRUnEBF6vLUFFVgspLpahvvILqmkrk5J/HmfMnkJN7HhdKCtDc3ISWlhYQCN0gkXtAIveAQiaASiGC1U/HgCRSQYtBJ4VKRGdXaxwEW9oa0U3oQHtnS3wWrb2zBZcuV6K4pAA1ddUoq7iAS5cr4/vQWtubcLkmEnhSVnEBF0qLUVxSjKycbHz5zbdYtyECYavXbsATTz+HPz70CF58dRneXvsuXl32Bl58ZTke/usT+OOf/xrfT/anhx6N7yd75LG/429PPYsXXlmKVe+swyvLXseDf3kU9/3uD1h8251YuPB2LFp0BxYvvguLFt0eB7L5C5bEUxhjjs2WRebLrge0a7H4YwEtY+qsOIRNmTITqanTkZoaO8+IOy16nzRpKiZOysCklKmYOHkaJqRMxaSUdEyclIaJk9IwYeKUOJxFAS004abUYMqkNG/alOn2eXMXS++6617qM0+9ULp+7fuHjh4+sebixctP02i0uwQCwTxE9owmZ8+SSur/VtFvOW4CkGYyuedIzI772Rrbs50izSd1bOXJMspAWyFBxM3rEVlyu4Xu7G5RILtbFIpDVhy2Bsa0JGZ1RmbGYs7siTir59pnMQD7OY8Bs6jPtF9zDNTOtrDQzlVi1O9HKBSG1miB3TEEXzCEkVE/PN4RjPqD8AdCCAaj1bJQpHrmD0aAbjQYgj8QhD8QvNbmGG1xRNCPUGAU1pEwuoW6KKBFFmuXUOSRkBCqFFV0GarpA7jSL8dlphI1HA0uM5Wo5+hwhaFAE1eLZq4q3urYJogkOcYWVNcypGgXG9AjNYEoiYaESA2gDujAkBl+EtDkRmfcUr0dMtMQxAYH+Bor+FoLOBobWCormEoj+uVm9EntIEnV6BCrQeXqcaWqElu2bsSfHn0SsxbeigNHMrHrYA5efvNT7D5RjeJLRPyw/zTeWP8hnl39FXZXCPDt5f5IRay6D99cZuKby0x8WUWP+CIDX15k4suLTHxRGQGymD+Lg1jfmJbFWHVsRzk97tj9wzIGtpfRsb2Uju1lkfu2Ulp48wVqYFMJdWRzKc2yo5wm/eoSs21PbX9hAUn+ST1Ht6JfYb5fprfdDCAt+kVE8lu9/706/f9EAOo/06f/y/5rkvpfp4QqWopOp5vpcDhuMRjUf1WrFSvo1N7vOttbsro6W7suV1fyamsumTvam10d7c3+8rLiUGlJYTg/Lwt5eVnIzc3EubMnkXn+NHJyziM35zwqK0pQfakCJSWFyMvPREXlBZSWFaKi8gKqLpXhYlUpLlaVorSkEEWFubhUXYG6+suoqCxBSVkRLl4qR2l5MQqKclFQlIuiC/nx9sCiC/nILMjEqaxTOH7uOH48dQSHThzCkVNH8OPJIzh97jiy884hK/cscvLPo6A4B6fPHcfRE4dw6PA+7D+wG4cPH8Tp06dRXV2F1rZGdHa1RmbhOlrQ090OZh8VHHZfHNAYfRRQab1oarkaaV2sLMGV2kvoJnSA0NuFlrZGkCgENDbXo7yyBK3tTeghduLipXJkZp9Fbf1l1NRV40rtpXh1LScvG/sP7seOjz/CijfexIo338KLryzHS6+uwAMPPowH//IonnvpVTz5zPN49oVX8cZba/HGW2uxavV6vLb8TTz17Et4+K9P4A8PPoJnX3gVryxdiVeWvY5Xlr2OPz38V9x7/wO44557ryUuLrod8+ffggULbsO8+UvGQNh4x/aZRbwgvmg6Fo8fC/1Iz5g5xmnpM66lL0YhLPE5efJ0TJ48HanRZ0rKNKSkTIsD2sSfAbTrWhtnztfedee99IcferR+zZr3jnz79a4dZRcuPtfRQXhAKBTOj+49S86eJZXUf4QS0xy1Q0MzlIOuewQa+6NEmWFjI0+zt4ImqykiiGk53UJdbrfQmd0t8md3i0LZ3aJwIoAlzopld0mQ2SGKVsEiPzvfJcb5LjEyu8XI7BbG7+c6RTjXca0idrZDiDPtApztEMZ9pl2A0238OJSdaufjVDs//tnZDiHOtXJRRxfDH4rsOuvo6UXlxUvwB0IY9QfhGw3E7Q8EEApEFqUFg0GM+CJsVcoAACAASURBVAPQmqwYUGohlilhGrRdB2jhkB+hoB+OUYCuHEQxQRTdfyZHKVWBCqocVXQFLjHkqGHKUcNSoIatRC1HjSssBeo4apQTeGgX6dHCU0XhTIt2YQTOiANGdIv1aGMr0TNgAHHAAKJEB5rUCJrcBJpUD4bMALHBAZl56DpAS6ykKUxDkJtdEOntEUDTWMDX2sDRDIKlMoOtsIE5YANZpkGHWA0SWw0mlYydn+3AY0+/gtt/9Scc+DEfX+86g10/lmPX8UsorCTgwPFsnC66jFc37cUPVSJ8dSkyP/Z5FSM+Q7bzIj1qRgTGKphjPKY6Ng7IPiyjRc0Y4+2lETDbVkLD1gvU2DO8pZgS2lxE9n9QTPFsKSHrdpRT+V9f7q853MA+c5Gq3tgiMD7PNQzeo7RY5iXTG5NKKqn/biV0rUyw2WwZFotlnk6n/N3AwMDTBAJhW3V11cHS0pKanJxMyqVLleqq6gpbaVnRyPGTPwYOHNobPnxkf/jk6WM4efoYvv7mc/yw61vsP7Abe/f9gFNnjiMr+yzOnD2BY0cP4fy5UyguykNBfjaKCnNxoTgfF4rzkZ+Xhdyc8ygtKcTFylIUF+WhsDAXZeXFuFBSgJyc88jKPouc3PPIzDqDrJxzyM3PwpnMUzh66kccOLQX+w7uxne7vsG333+FXXu+x4FDe/Hj0YM4fGQ/jvx4AIeP7MeBg3uwa/d3+O7bL/H1Vzux87OP8NmnH2H3ru9w/NhhXLl8EY0Ntehob0ZrSwN6uttAoxLRz6SCRiWCQSeBQSeho70JlZUlOHPmOE6e/BEXSvJR13AZVZfL0dnTCgKpE7VXq1FdU4nGlkiwSV5BNlraGlFZVRYNBcnGiVNH8cPu77Bl+ya8sfpNvPTaUjz/ymt48tkX8cjfnsKDjzyOx/7+LJ5/ZRnefGc91m/cgp1ff481732AV5avwuNPvYCHHv07HnzkCfzx4cfxt6dfxGN/fx5PPPM8Hnr0b7j3d3/AbXf9CouW3IEFC2/B4iV3YNHNt2Le/JuxYOESzJt/M+bOW4S58xZh/oLFmDtvEebMjcDY/AWRfWaJ4R8zZ82Pz5bF58imzsKUtOnxObN4+2IU0lJjgR8JjrU0xubKUidPjQeApEzOiKc1JkAZJtyUGm9tTJmUPjo5JcMzfeoc46KFt0oe+P2D7U8//cKFjz/e+fXRoyfWXL3a8hcGg3G3SCSaGU1uTM6eJZXUf4QS0xwBpOlttpsVZsf9DKlxRadQ93EVXZpfSpK05nYLB3J6xObsLslwVqc4kNUpDie2Io5vSRxfCYvB19kO4Zjz2Q4RznZE5srOdohwuk0Q95l24Zh7zMfb+DgZdez3zrQLUUHkYSQYQiAUxLA/BKfThVF/ECM+P7zDPrjcXoz4/AgGwwgHQwj4fQgGg/D5Q6CzuBgc8sI7GkQgIUQkXkELB4HgKDz+MASGIZQQxSiLrhIop8hQRVfgCkOF2n4lrrAUqGUpUM9W4SpXjXqeCk18HSrJQjTzNWgTRSpnbQINOkQ6dIv06JHo0TtgBElsAHnABPKAHhSpIQ5osRZHidEJqckJmcERh7Tx82hyoxMKixtigwMC7SCEWiu4aitYKgvoUi24Kgf6pXZQFTp0yXTo5ajBZlDxySdb8NiTL+NPD72Iw8dL8e6Wf2DP8QrsPVmDwqpeHDpzAT/m1+DlrYfx3UU+vqzux2eVNHxWSYuD2acXafj0Ii06P8bEJxVMfFzOxMfljLg/ilfIGNhR3ndDGIs5BmRbiqjYUkTF5kJKzOHNhZTgliLq8OYLNPv2UsrAZ1V08t56bv7ZNsEP9f3qFWSR+S8yve1mpxPJRKmkkkrqF6HE2W8AUx0Oxy0Oh+P3BoNhuV6v3a7Tac4rlYoarVbFVqllKqVKOiSTi0ckA4KgUiUNq9QyqNQyKFVSKFVSaLQKaHVKGIwaGE1aGIwa6HUqGA0aGA0amIxaWC0GGA2a+M60WDJkbJ9a7LP4fjWtAmqNHGqNHCqNHAqVNH5XKAegUA5AKhNBLOFDMiCAWMKHUMSFUMSFQBhJaeTy+sHhMsHlRMxh94HLYYLNYoDVTweXw4SAz44HnwxI+FDIxVAqJJFl13IxBiR8SAcEEArY6GdSQaf1oquzBcTeTtDovehjUtDPooHOIIHZTwWdQYov3+7oakVbRzMIvV3o7G7DhdJCHP7xAP6x61t89Ml2bNz8AdZteA+rVr+D5SvfxIuvLsVLry3Dq8tWYOnrb+CVpcux4o1VWPb6m1j6+ht4/uVX8cTTz+KxJ5/Gk888j6effxl/e+o5/Oq3v8dtd/8ad/7qPiy+7U4sufUOLImGfSxcdAvmzb8Z8xcsjgPanLkLMW/+zfEq2ew5CzBj5lzMmr3gugCQadPnxFsYE2FsPKAlwtk/A7Txu83Gw1kU0MITbkoNTZwwJTA5JcOTnjZjcOGCWyS/uue3lOeeealk/dr3Dx09empdZWXls319ffcIhcL50aXUyS6VpJL6j1RiBLDFYpmnsLru5igtz/VKDBvq+hUnK8myywUECSe3S6zJ6hS7szrFo1md4lBmhyicCGaJLYnjAS2xMnYN0ERxxyDrdJsAp1r5ONUaga+TCTAW87FWHo618nCilYdTrXycbOHhdLsYZUQhfKEwAgjD6w/B6x2BxzuKEV8QHu8oPN5ReEeDGPZFovhDwQAAwB8MQmeyYsgzjFF/EKP+SOtjKBSdRYsBWsCHkQAgM3tQThSjlCxBMUmCMvIAqqgDuEJXorZfgcv9UtSy5Khnq1DPUqC2X4YaphxtYhNaBQa0CDRo5avRyldHWhyFGnSJtBFIE+lBkkQSHMkDelAk+niLI12qH1NBSwSz+N0YgTep0Qmhzga+xgq20gCBYQg8nQMslRk8jR1s5RCoSj265Xr0ctQwaVXY/Y8v8cJLb+DPf3kZR09VYfWGr/DdoSLsPVmLkho6Dp2pwKd7C/DaR6fxdRUPO6v64/Nj8bTFaLjHx+X06PxYBNA+KuvDR2V9Y4BsexkD28oY2FpKx5YSGraU0LD5AhWbL9Di3lRMxaZiKj4oomBjITnu9wtIoffzSYGNhWT3pmKqeXsZjfNlJaPtUBPvZE6X4NN2gfY5tsrye6XFMk9staYnv9VLKqmkfglK+FJ0QnReZ57P57trZGTk76OjI6u9Xvdej8dV4HYPEd0eu9A7PGTxDg+5nUODfo/XGXJ7HOERnxtujwMerxPe4SGM+NzwDg/Fz6GgD8HACEJBH4a9Q/CNuDEy7ILX44TX48TIsAvD3qH43etxwuN2xH/m9Q6N+ftdbjvcHgfcHgeGXDYMuWxwue1jns6hwTF3h9Masd0Cp8OKIecgnI7IPXZOtN1mwpDTOsYOuxlDTiucDgvcLhtcQ4Nw2M0YtBlhs5tgs5tgMmthMKphNGmg0ythMGnjVmsVUGnkUGsVUKikkCkkkEiFEIi44At54HBZ6OtjgEQiobWtFY2NDSgrL0VWThays7OQl5eHEydPYPfePfjs88+w7cNtWLN2Hd5ZuwbPv/gi/vLXR3H73fdgye134OZbb8Mtd9yJO+78FRYvuR0LF90Sr5zFPHfeIsyeswBz5i7EzFnz4rNm06bPjlfPYqEfscj8MTNm0epZosfE5kfTGCcl+EbJjOPBbBycxQAtOHHCFF962gzHrJlzdXfe8Wvmgw/+pXnVG++c2vnpF5/n55e+2tbW9pBcLl+s1WpnRINBkl0qSSX1H6nEsBAlME1nsy2S6mwP0WTmpa1czXeX6arsYqKMkN8tEWV2iAbPtwu959uFgfPtwtB4KLvR+Xz7tVbFmE9Hq18RC8dAWSKkHWvl4WgLd6zbeHFIO9nCw4lmLo43C5HXycVwMAR/OISRQDgSFjISgm80DN9oGCN+wGR1wh+6FhIChBAORyplQAihUADhcDAeEjIG0IKj8PsBvcOPSrIQZRQhSmkSVNAkuEKXorZPiTqWEjVsOWpZclxlRQDtKkeFCpIQjTw9mgVGtAoMaItCWrsoAmcRQNOhR6IHUWIAWWIEdcAEmjSyA40hN4KpMEFscEBqcl4Xsx9vbYwCmsw0BInRGWlz1NnB1TrB1jnAM9rB0znAVjnAUBvRJdOBKtRjxGXDru8/x9Klb+JvT7yOvYdLsOOLw/j+cDH2napDUTUFX+4pwJpPzuO9vZcjLYsX+/FxOWNMoMdHFTTsKKcmtCr24cPSsVWyrVEYiwAZ7QZARo/7gyIaPiiiYWPU7xdSsaGAEt6QTwm8l0/2bSyiDW4upSs/rqATvr/CrjjbOfBdJU22tldqekigtdyhVGJaMhwkqaSS+iUp8Z1rs9kyAMwbHfX8dmRk5O8+n2/T6OjInuFh98WREXePd3hI5h0eMg+PDHndHoff7XGEXG572Dt8DaKGXLY4QLlcdgx7hzAy7BoDXTF7PU64XfZrMJYAZ7FzzC63HR6vEx6vEy63Hc6hwes85LJFfnfIFgUtMxx2C2yDJthtZsQWbcecCGwxUBtyRsDL6bDAbjNh0GqA3WaCw26GbdAI26ARVoseVoseFrMORpMGFqs+/oydzRYddHoV9AY1jCYtjCZtvLpoMGqg1atgsRqg06ug0yqh1Shg0Ktg0qugVkmhUctgNKhh0KtgNKihUcug0ymh06ug0Sqg0SqgjFYTZTIx+AIOKDQKmltbkJefj02bt2Lxkltx8+JbMXfeojiYxapmc+YuxKzZ8+OQNmv2fMyYOTdeRYsB2vg9ZolVtBvNniXC2XhAm5SSjpTJ1+01w8QJU24IZzf92+RwJBQkupB65nzt4ptv5//5j480vvzS0vzPP/9656njZ99ubGx7iEaj3SUSiWZGq2fJL0GTSuo/Q+PDQhRm+295atvTnTzth/X9mh8v9Eob83rEzKxOoeF8B3/oXJvQf65NGDrXJghHIEx0LQa/TXidx7QrtgpxqiXik80CnGwW4ERLxCdbhfHziRYBjrUKcLSFP8Y/tia4mYdjLXycaBIju5mFQX8IfgDDI34EAqPwj4Yx6gvBO+zHsC8IRh8b3mE/EsP0w2EghDDCCAHhAMIhfyTBMei/NoMWBblAEBj0+FFNF6OMJkYFQ4HqPiVq+2WoZ2twlRWzCg0sFZq5GjRztajvV+IKXYp6lgKtQh06BGp0CjUgSAzoFmlBEEdbHGVmkGQWUKVmUKVm0GUW9KmsYCrNYKvNEEf3oKmtXqitXmhtw9DahqGyDkFpcUKoMkFqdIKvHsSAyQ2uxgECT4EmuhB0hQU8vQM8jRNcpRM0jQkUhQV0gQbDLjf27voary17E088+wb2HavAV3sz8Y8jF7D31BUUV9Ow8dMzWPVxHj442oodZTR8WtWHHaW0hPZFJnaU0bCtnIatpTRsLaVHzcCWMga2lETPJfSIL1xrXUz05gIGNhcwsKWwL37+oIiGjYVUbCighdcX0MLv5lH8G/LJ3vcLyIZNRVTRFxX9jftqODmFRNmHV5mqZUyF+bcyve1mQTIcJKmkkvoFKuGdmwpgus/nvN3v9/5xdHR45fCw5yOv15Xp9bpqvB4n2zVkV7lddqfLaRt2u+xBj9sRikGU22WH22VH4t01ZLvus8Tfcw3ZbugYNA05B+FxOzDkHBzzsxhcJToRxGyDJlgthjG2mPWwmPUwm3Qwm3Txu8mojTvycy1MRg1MRg2MBjVMUXAy6pQw6pQwaBXQa+TQaxXQauTQqGXQqGXQauRQq6RQq6RQRdsvFcoBKFXS+FmukEAmF0MqlUChHIicBwSQDfAhH+BBPsCDTMKFQsqHTMKFVMyBTMKNnyViHiRiXnyZ9oCED6NBDaNBDZlcApFIAD6fh5aWFrzw4ktYcsttmL9gMebMXRh/xpwYAJLoWOVs/NzZ+L1mMSiLfR67xyPyJ2dg4uQMTEhJH1NB+6l2xkTHWhsn3JTqn5yS4Z6aMcu6aOEt4l/d8xvyM089X/Luuo2HDxw4+m5xcekLvb30ezkcziKxWJyejNVPKqn/RCW0XaTYgakqk/NWscH5R9qAaVUrX/t5OVVRXEiQtOd0CaXn2wXmc23C4bOtAv/ZVkH4TLsAZ1sjPtPCx5kW/phzrBoWaUfkXw9nTXwca+LFfbyZH/ePzbx/ySdaRDjVQIfI5oJtOAS/H/CNBKMti2G4R/zw+AJQ6U1w+wIIR1sb4wupw2GEEEA45EM4HIQ/FIbPPxoFNyCEIILhEPyBEKwODxr7ZaigD6CCocRlpgr17MjMWT1bg0aODo0cDRo5GjRxtfFnM0+Hi2Q+2kR6dEp06BBr0S7SoEeiB2HAgF6ZGWS5FTTlIGgyC+hyKxhycxzQWCpLvMUxAmgeqK2eSBUtCmgSnQUSgx0ivQMSowv0ASN6eHIwVYNgqgbB0zvA1zrAUTjQp7aAobSALtJgdMSH8ycO4u3V6/DUC29h34lL+O5AIb47VIjDmfU4nd+Kv76wGcs2n8JH54nYUkbHRxcZ2FFKw0dl9HgL4/ZSGraVULCthBY1HdsuRIAsViX7oIiCD4oo2FQUmSfbVEAe4xiUbS5gYFM+HZvy6Xi/gIIN+WSsy6OF1+ZSg+/mUYbfL6DYNxZRpNsv0Cg/XGEXn2gW7bvEUK4iiIyPi03OWyUGzIrOeSTbLpJKKqlflBJbHbVa7WS32z0bcN42MuJ6dHjYvdzrdX097Hac8ThtLW7HINPtGNS57Fa72z444nYMBjxOWzhquB2Dcbsc19oHE4Fr/GfjQetGtg2a4Bw0xz1ks8BhNcFmNsQ9aNLDatRh0KS/sa3GOKjF5t6MBg0MenW8iqVRy6HVyOPgpVZJoVEOQK2QQCUXQyUXQykTQSkTQSbhQyEVQj4ggHxAAJmEjwERFxIhB2IBOz7vFpt1Y/XT0c+koZ9JQx+DBjqNBDqNBBqVCBqNABqtBwxqF2i0HlCp3aBSu0Gj9YBOJ8TvdAohbiqpG1RSN5h0EvpovWD2UUCnkUAgdqGjow3ffPMN7rvvN5i/YBEWLIzsNJs7b9GY2PwYoEWqZhFPmz7nOk+dNvuGYSCJjs2dTUpJHwNoMd9ot9nPwVnKpHT/5JQM77Rpc8zz5t4sv/fXvyU+9tiT1e+u23jg+293bS8rK3uOSCT+gc2WLHQ6ndOjcJbsUEkqqf8sJYaFmEymKRqrdYHa6P41U259qUdg+OASQ3W6pFd2ObdbzMlsE2rOtYldZ1tFvlMtwtCpVn54PKDFIS2hZfFEKw8nWsYC2PHmCJyNqZAlgNfRRi6ONnLxYwMn7iNN3LgPN0buh5o4ONnch36tBTqHF76REEZ9YXiHffD4RuEdDcDrD8EdCGE0BPgDQDAKZrFWxhCCCAV9CISC0BitsDndCISC8QpaMBxCIBiGfWgEXTw1LtJEqKRFwkEauSpc5agjZqnQwNaiiatHM08XmTvj6yOQxo/E63dKdOga0KNrQI8emRFEqRG9ski0PklqirY1mtGniEBUn8IUBzS5xQW1xQ21xQ2N1QW1ZShuuckOmcEBrtIEvsYGgdYBgcEJ6oABHK0jCmg28FROsJQm0NVmUCVqBEYDKM/PwuvL38QTT72OA8cv4cdzV7DnWCnOXejE8jXfYumar7F1dyk+ySFgc3kfPiqPANqHJVRsv0DD9gs0bLtAwbZiKrYVU7G1iIKthVRsLYxUxrYWX18xi4V+xODsg0IyNhZS8X4BBe8XULCxkBq/v5tHCa/NpYbW5lL97+aRXBvyyaZNxVTOR6WMtr313NNZneKdDWzdSzS59Y9iq3WBHUhG/iaVVFK/WGHsLtKpXq93vsfjud/tdj/p93o3jrgdPww77eUep63D7RiUeBw2g9sx6HbZrT6X3Rp02a1hl90aATO7NWLHjeErVv1y2C1w2C2w28zXOVYFsw2argMxm9kAu8U4Bsxu5PF/JrGSFgsh0etU0GoUUKtkUCmlUCoGoFRIoJCLIZeJIJMKIZPw4/AVs0TIgYjPgojPgpDXDyGvH3xOH7gsOrgsOthMKph9VPQxKPFnH4MCBp0MGrU3vneNSiGCTOqOmNwJMrkTJHI3SORu9JK64ib2doLY24leYtd1jv19JFInCD3t6GhvQmtLAz7++CPcd999mDdvQRzQYu2MsZ1miXAWi9D/Z4AW83gwizkWk5+4gHpiFM4mpfw8nEXbGkMTJ0wJpE6eOpyeNsMxb+4i1W233s155OHH65YuXZn95Zfffnry5Om3fqq1MfmOTSqp/0TFXhZSqXSSE5iut9luFulsD9Nk5qVXWapvKqkDmfnd4q7MdiH/TIvQcrpJ6D7ZLAqcaBGETjYLwolVsZPNAhxvjMDYiRYBjkXB62gz77qWxfFQFgOvw40c/NjA+5d8pImP000cEERaDPlDsNrMCAV98Hr9GB0NwOfzwzcSxIBcC3ofG/5AOBK3H62gIQphoaAPIwE/ZHoLBHIVgqEwAqEgQggiEAoiGArD5R0FXWZAFUWACqocVxhqNLBUqIsFg7BVuMqKVNKa+Aa0CSNzZ1f7lSDIrOgeMKNbqAVBpANRYkCvxIie6JkkNYEqN4EmN0UBzQS6yoo+lRUstRUDpiHILG6oB13Q2jzQ2iPW2NyRaprNG62g2SHU2SDUOdAv00No8EBg9ICrH4RAZ4NY54RYYwNdbQZDrYfH40VbXTVWLF2Jt9fswHf7C5Ff1o7Dpy8it5SAb/aX4lxJJ6rIenx5gYaNJQx8WEqPw1ksAn9rESXubUW0CJwVULClIAJrmwspcTD7oIiCDQURv5dPHuN380hxr8/txZpcUnhtHjm8OoccWJNDGl6fQ7S8n98r215C7fq8ilF2ukP8TQVZtoYkNT8s1FrudDqRXEydVFJJ/eKVmOpos9kyhodtN7vd7vu8Xu8LI17Hu8Mu+6HhIXux22EhuuyDApfNahqyWYaGbOZRl90aHLJZwjcCtBiI3QjGEkEs0dbBa7NiiTBmNerijn0eu8fBLOGZeI61NsYqZ4lgppBLIJeJIR0QQjogwICEH28ljEGYgMuEgMsEj80Am0kdY1YfBUw6CQwqEX20XvTRekGlEOMgRib1gNTbDVJvN4iETpAJXSATIoBFJHaCQOwY4+6eNnT3tKGH0A4CsQNd3a3o7GpBd1cburva0NPdHvmzhM6oO8Dh0ECl9qC9rRE1NZfx7rvv4c4778KChTfH2xsTF0/HoCzm2H6z/78tjrG5s9gztsMsZXIGUqLzZzFAmzjp+jCQxMrZxAlTQpMmpgVSJqWPZKTPtM2ePV97z12/6XvwwUdaVq5YdXbHjk+/PX8+e2VdXd3jTCbzDh5PMTeZ2phUUv/FirVciK3WdJPJPUehtf+Wozb9vZWv2XqZIT1YRBiozW4TUs+2CjWnmwX2481C3/FmXvBYEy98o8rY8eYIgB1rvTZPNh7GYs/xlbGIeT/rQw1cHGrg4mijECev8tDGUsMRALQmNYYDHgz7gIAf8PuC8I0EYTDY0cfkIhjCDQANCIdG4Q8GoLM70dvHQigyfYYQIpW0QDAMz0gALIUR9f1yXOrToqYvBmhK1HJUaOBq0MDRoUVoQovAiGaBHo0cDUq62GgT6NAtNoEkNIAkMoIkNoIyYAZRqAdZYgJhwACK3BKJ1leYwVBaQFMOgq4wg6W2QWRyQmp2QW5xQTnohnLQA+WgBwqrG8pBL1SOEUiMTgiNTnC1NggNTohMToiMHohMXojNQ5AYbZCahiDRO9GntaJPpYfBZIFMyMPrK97Gc6+sxpd7zuHAiSLsPlSEAycu47vDlcis6kVelwKfFpGxpZSJD0uiVbPiSHVsazHtGqAlgNnmfCo251OxpYCGTQVUfBCtiG0Y5xicrcunYG0eGWvzyFiTS8I7Ob1YnU0Mv5PTG1qdQ/atySW53s3t1bxfQOJ+Ws6o/f4K61xhj3RrfZ/ytdjsmdhqTfbFJ5VUUr94jW91BDALwC3Dw8MPe73eVz0e12cu19BRl8te6xqykYecVsWQ02px2C1eu800ahs0hew2czgRyH4OyhIDO8Z7/PzYz82QJX4WAzCTUQtz1LGzxaiB2aCGUaeEXiOPty7G2hcV0WqZfEAAqZiHAREXYgEbQi4LAk4/+Gwm+GwmuP0MsPto6KdTxlTGYo60LfaCTOoZA2aJ57Fw9fPuJXaB0NOBnu52dHW2oqe7PW4ioQOEnsizo7MZZAoBnV1tuHixAstXrMRtt9+NRTffhlnzFmL2/EWYOXcBZs6ZH6+cReAsBmOzMHXaDEyfMTtynzp3zN6zxBTHtPQZSEvLQFpaBlJT0zA5JR2pkzOQOjkDk6ILplMmpcf3ncVSG3+qchZ1KGVSenBySsbIlMnTXLNnLdDdsuQO0Z/++HD7c8++WLZt24c/7N+//4PKysqnurq6ficWixcolcppydbGpJL6L1biLJrNZstQGBxLpHrH70lS44pmjnpHGUWandcjvHquVcg/0yLUHW/mu4818UaPNfFCx5p44cRZsmNNkYpZDMYON3NxuJmLIy08HGnhXXeO+VATBwcb2RE3cHGwgYtDjby4D17lxB0DtEMNXBxtEKCojQeFB1B7hyEy22D2hDHkA0Z8QXiHA3C6A9DqLAiFgUAwdB2gIexHCEF4g4B71BefQYu1OIbCwGgQEGqtqO2ToJyuQi1bj/p+JerZGtRzdWjg6nCVo0YTXxd3M0+HSiIfXWIjOvg6dAr0aOdq0C7QoVNkQG4jCXV9UnRJDCBKjSCIo2mOA3qQpKb4TjSezg6xwYEBsxMSkwMSozOa1uiExOgCT+8AWaxBv8oKltoGltqGXoESXN0Q+AYXRCYHpBY7lGYXJCYv+BYvRGYndOZBjI6OoqSyHpfbeqG0e8CWq3Eq6wp2H6zERz/kYufJKnxdTsbHxTR8WEzHh8W0eDvjlqJIHP7mInLE8UoZFZsKqNhcQMXmwkjQYU6EYgAAIABJREFURzSJMV4pW5/bi/W5vViXQ8TaXCLW5FHxTi4Fq3PIWJ1DxltZveG3sgiht7J6/W9nk9yrs4mW93KJ/M3FlO5vL7OyjzYLv6thqFcQ+PpHhAbHEp1ONzM5e5ZUUkn9T1HCe/cmk8k0xeVyzfT5fHd6vd4/jY4Ovz7sHtrudjhOu522i06HleZ0WCQOu8XqsFvctkGT324zBx12S/haIuK/D9AsZv0NAS0RxMY7MewjtnstNmNm0F8DM61KGgcztUICpUwUnyVLbGeMtTHGoIzDpIPDpIPFoKKfTgGTNhbKrs2URVoOx0NYDLJiFbCYCT0d/9SJf45KIaKfSYNQwIFIyAGPywSNSoxU2Hra0d7RgvLyUjz2+N8xb/7NmDV7AabNmosZc+Zj+ux5mDF7XnTWbHa0ahZx5D4L06YnQNm0mciYNgvpU2cgNW1a3FPSpyM19RqUpU4eG50/Pkb/n8BZOFo9C0xOyfBlpM90zJo5z3D77b/iPvD7B7uXLXujYPPmbfuPHTu5vrS09AUymfwbuVy+2G63T42+X5NwllRS/5XCuB0tSotlnlxnvYuhMD/dxdetrWIoDxX3DpRkdYqoZ1oF0uPNfPuxJp73SBM3cKSJG/qpEI9E+DrSlHCOwtmhJk7ccThrZONAI/c6769nY389F/vrOThwlYcDV7mR37/Kwel6Bnj2MOpoA6jsEYOrc0HvDsLmHobD48OgaxTukWBkBi0Wtx+NdIzH6QMYDYcT4AwIhPwIRuP4faMhyMwu1PfLUEZXoYqpwVWOGlcYKlxhaVHdr8aVfhXqWJGZtEaeFk1CPZq4erQLjWhiqdHE1aOGoUAjT48WvhF1LBVahHq08PVoE+nRJtCig69BlzC6yFqkQ49AhX6lGVyVGVytBRxNJNmRrbaCrbKBp3OCIFSDIFSDq4/MndHlVhAFarA1TrA1dvB0FogMVgg0gxAYRsAZHMGAcwRmhwse7whUZje0zgBsQUBqtmLvkSI8+/IOfLq3CJ+cuowPC4jYXkTD9iIathVSsKWQHHFRbF8ZOR4CsjFhnuyDfAo2FUTOkSoZCevySVib1xt/rs3rxZpcEt7KIeGtrF68ldWLt7NJWJVJDK/K7g2syiT6VmUS7W9nETUbC8jUHeWM2v31/ENnu2TbWnj6p/sl5vuVFss8aSS2ekKyepZUUkn9T1HiiAGANK/Xu8Dn8909MuJ+cnjY/abX6/7O7bafG3IONjsdVobTYVU77OZBu808bLeZ/XabORSDtJ8CtJ+Ds/EVtBtVyWJA9q8Aml6niizGjqYv3qhyFgv6GB/2kQho7D4a2H00sBjUOKQlwhmVQgSN2htvaYxBWcyJkPbvBTQioRPMPip43H4MSPiQSYVQKiQQ8FkgEDvQQ+hAW3szystL8dv7/xAP/Zg6cw5mzo2CWhTQpk6bNW7mbHa8zTFj6sxI9WxGxGnTZmJy+jSkpE1FStpUTE6fhimpUzEldeoNAW18UuPPBYPEdp2lTEr3pU6e5p41c75x0YJbpQ/8/kHCU08+V71x47ZDP3y3+6OysrKX29raHmKxWLdIpdLZ0Spv8v2aVFL/HUocXLYDU1VW63yhwfoAXWZ5roGj3VFJHTiS0yWqP90uoJ1o4WmPNnPsR5q4viNN3MDhRk54fLtiYsvikUYOjjZG7oca2DjcyMGBBhYONXDjVbED9ey4IyB2vffVccZ4fy0HBxpZ2HuFgHq2Cc++8Q8899ZBbNtbgoY+BRQOL/R2L6x2N5xDXvgDwIgfGPUD/kAYoVCkOhbZj4Z4ZW00GIBp0IpAKBwBuiDgGQlgwOxBRa8YZ7vEONstRjXPgIIuMTK7JMjqkSC3S4R8wgAKeiW4QJGjkCRDDceCgk4RCglS5BPEKCKpcIGqRSFZhqJeBYp6FSilKlBKlaOCKsdFmhxVdAWqGSpU0+SoZcrRLTWje8CEXqkJvQNGUAasoA5Y0SsxooEhQQ1dhB6xCR0sOUgiLdh6Nzg6F2hSC2hSEygyHbpEWtT2qXGJrkVWJwf5XXSYhkeRlVuENZu/xOvrvsTazbuw5fP9ePzFdXjlzc9w76Nv4u5nt2BzHhmbi5jYUkDBpmJKtBpGw3v5karY+wkVsg0FFGzIp+K9fGq0WkbB+lwy1uVSsCYn4neyyXgnm4zVWSSszoqA2RvZvViZRcTrmQS8kUkIv5FJCC4/3+l7I4voejubpH0nl8TbWkqr/7qalXW2a2BHOUO9ok9qfUCkNN4SDQZJfruXVFJJ/Y8Txu1H83g8c91u970jIyN/9Xg8qz0e106Xy5k15LLXOB1WpsNukTns5kGH3eKOQlrQNmgK223mcAzMYrD2rwBaYuLieECLtzD+BJTFKmaJISBajQLaaCJjLIlRIRXG2xpjlop5kIp58SRGIa8fHHYfWP10MPuoNwz8iEFZYvBHbNbsX4Gvf9W9xC5QyATwuP2QiPnxyH2lQgLpgABUGhGdXa3o6GxFcXEhbrn1jmux+bPnIWPGbEyfPQ/TonCWnjEDU6fNii+mjkFaxtSZyJg6A+kZM5CaMXWMU9LSkZKWjsnpGUhPm460KTFQm5awgDrjJ5dP3yitceKEKYGUSem+9LQZzhnT5xpvu+Uuwe/u/2PvSy+9Vvreux8cPXTox01FRSVLqVTqH3g83u1arXZGMhQkqaR+AUrc0aLTuWYq9K67WSrbXzqFxjW1fcqv8gniC+e6BG2nWrmSY00c4+FGjudQA3v0UAM7dKiBHT7UyEuYI0v0tZbEg1c5kZbFaBvjgasc7K9nY18dK8Gcf8n76wTYU8vBgfo+FHVLsPHLc/jmxyocukDAt+cvgaG2Q2UfhdnqgsM5gpERwOsLwhcNEBkdDWDYH4BvNIDRgB/+YACBQOTsGHLCFwjDFwTcwwE43KMQWYZR0MHF7tp+7G3goErswOkOAY62cHGiXYBzHRJkEqQ40SnB8XYJTrcKUUkz4PBlKk528HCyLZJQmUVSYPcVMn5s5iGzW4acHiFyu4XI6xYinyBEIVGCQoIExQQRyilSNPBMaOQPolPsQDvfgg6eBZ0CM7qj0f0NbAVaOVqQJQbQpXowFSZQlUaQ5RaQFDbUMOW40CtFTrcMZwkD+LGWjIoeHvYey8aBY5l4deVmPPn8+1j7/j68u30P1m7dgxdXfoLfPPYmHl37A7YWULCpkIHN+WRsLCLH4SzmDQW06GeUMWEf63NJWJcTmSdbk0MeA2fvZJPxdmYv3s7sxapMIlZkEbA8swfLzneHV5zvCa043xNYdq7bszKzZ3B1Vq9kfT6Z/Ekl/cLuev6BQrJiTQNP/zRHYb1babHMi+4USn67l1RSSf2PU2KrY7RSMRXAYrfbfZ/P53nO4/GsdbuH9rhcjhync7DN6bAynQ6rxukYW0mLzaTdqLUxViG7EZwl7jH7qQpZ4v2nAC0xPj9WMbtRS+ONAE3EZ0HAZV4HaOPbGmNwRib1gEImxNsbY9Wxn6qc/bMK2vhZNDKpBzRqLzjsPoiEXEgHBJDLRNCoZVAqJGD2U9HZ1YrOrjbk5GRhwcIlmDV7/hhAmzFnPqbNnBMHtFilbOasyO9FllJHZtHSM6Yibdp0pE2bjtSMqZicHgGzKRlTI54yNQHQxkNaehzEYueb/m0yJtyUOh7OgpMmpvnSUqe7Z86YZ1wwb4ns/t88QHr8sadq163bcPzrr7//orCwcHlDQ8tjLBbrTqVSOU8gEKQl586SSuoXoPGx+yqrdb7EMHgPVWp+pouvXltFkx4sIIiLz7TwSCea2OLDjRzrwUa2+1AD23+wgRs62MANj5kbi0LYwatcHKiLeF8dJ1INq+dg31Uu9tZzsKeOjb31nOu87yo37r31LOyp68eeun7srmVGzcKeWjb2XmHhWE0/qjqFOJZTi0/3FGL95yexZU8Bcmv7IVB6oDb5YHKOwuh0w+gcwqB7BE7vKGyeEdi9Ixga9sHj92M46IfHNwqHZxhciRIEBheWIT+snhD65BYUdAmxPb8Ln5RRsau+H/sbmTjWwce5ngFkd8pxrEmAT8tJ+LyagY8qiNh9lYMjTWJ8XkbGzkssfFHNxreXadiSXYMzBCl217HxdS0LX9Uw8dUVJr6pZeP7ei72X2Xj4NV+HG3oRwlZhkqKEhfJUtT1qXGFpsAligz1/Up0Sixo5JtR3C1BA9eCRoEFVXQNCnpkOFbHxZ5qJr6souGjqn68f6Efm3IJyGmkoIXExEOPP4+zuRex85sjWP7GR1izYR+eenkTdu7JxItvbsPz73yKI9X92FpIx8YCOj7IJ0XnyKh4N4+GDQUMbChgYH0uBetzqViXQ8K6HGJkriynG+/kEPFOTi/eyenF29m98RbGRK/KJOLNLCKWZROw7Hx3eNn57tDSc13+5ee6h5ee77a+mUlQrs8jk7aV0q7suso9eL5Lsq2RrXmGLLX8XqWyzrfbk7H6SSWV1P9sRd+9/2/0C9IUANO9Xu8Cj8dz/8iI+wmPx7Pe43F95XLZcl1D1tpYJc1uM1ttgyaXbdA0ahs0BW2DpvCg1RiOwdn42bKfq56Nh7PE1sWYx0Pa+OqZRi2PpDWOg7NEQIuBWWJrYyy5kcfqi7c4shhUMGlkMGlk9FGvzZvFAkFiQSCxYI/Y3Nj4ubN/BdJiYBYLFqFRe0GnkcDqp0Mo4ERWAEiFUCkHoFZJweP3g9jbBWJvNw4c2I85cxdGo/TnY9qsuZg6cw7Sp89CxvRZ8fbGyHNONBRkDqZNm4vZcxZi1ux5SEmdjClpaUjPyEBaejrSMzKQkZGB1NRUTElLQ2pqKiZPnoypU6cjI2M6UlKmYMJNKZickoEJN6XGq2j/9n9SxoBadOYsntaYNmW6Y+aMecZbltwpuO/e35Gee+6l8nXr3j+xb8/B7Xl5hSs7Ozv/zOFw7pZKpbPFYnF68t2aVFK/IMVeElKpdJJWOzRDbrcv5mgH/0yR6l+pZyp2lpIGTuR0CBtON7EYhxs5msONHNuBq5yR/fXswP56dnh/PTt84CoHY83D/no+9tfzsa+ej711POyt42F3PQe76znYVcce4z039Hg4Y2JXfR921TOxt5aNI3Uc7MqsxWMvrMNt9/wNt97/PB54bhOeW7sHRbVcUAUWSK0+iExDEJnsUAx6ILe4oHeMQGcfhsbmgtrigMHpgnnIA9PQME7nl4PMkUNh8sBgHwVHM4QTV6j4tJiKb+vE2NcsxcEmHg63CHCsRYJTzTIcahBj9dlmLDvbihfONWFpZifeyabh0c8r8Wp2P5ZlMrAqqwu7OxTYWc3CmuwurMol4a08Mt7KI+PtfApW5VPwViEDa3KJ+LCEihPtUpxtFeF8uxDnOkU42czH6RYxTjWLcbJZjN1X+Fix+zJe+uESnv++EvvazfiiegA7Srh491w3NuYT8dbpVjz7jxq8c7AJZL4Cz7/8Ipa98TbO51WBxJCg9GInvvw+E++8/y02fbIbm3fuRX4dBd8W9eCDfBrW55KxIYeA9XkkrM2ljnGsdXFNLjkKZASszu7B2zkEvJ1NxFtZBKzKJmJVdi9WZffizSxi3G9kErAyk4ClWT1Yeq4rvPRcV/DVs50jy891D72e1a19O5vI31JEbdx5iZl3oo23s4Qsf4so0P6ZpbXcqdUOzYhWz24C8H/+u//fSSqppJL692p8aAiA6SMjI7d6PJ7feb3el7xe17tut3Ofx+XIdToH25x2a5/dZlJHIc1rGzSNDlqNwUGrMWy1GML/KqD91MzZ+ArajSpp/7eAFmttjAFa4gzazwFa7JmY0hgDsH8GaDeCtFiC43hAY/ZRweex4vNnscXaAiEbFCoRJDIBn3+xMw5os2YvwIw58+OzZOnTZiI9Y0bcU9KmY/qMuUhLm4X09NlYsHAJfn3vb7Fi5evYsWMHDh06hKKiIrS2tqKxsRFZWVnYv38/tmzZgpdffhl3330PZs+egylT0pCamo6JEyZjSuo0TJqYdh2o3fRvk8MTJ0wJTbgpNTA5JWMkbcp01/RpcwwL5i2W3nff73sffeSJ2tWr1534/LOvv8rJyX+jrq7xyb4+7j0SiWShVCrNSBgbSL5bk0rql6LEVketdmiG3GK5U6Ad/HO3SL/qar/m0yKSNDuznVd/rJnDOdTAVu2rZTn31bGG99Sxg/vqOKEbzYwlVsauwRgXu+q4+KGWEz/vquPGoWxXTX/cu2tZ1/mHOiZ+qGVhVy0L31fTUNDGx6e7crBq9VY8+tQKPL/yIzz+yod45vXP8PKaz8DRjuBStxhdAht6hGYQhUZQxBbQByxgq5zoV1jAVlnAkhsgNnrQK9RDPwxIDF4I1A4w5G6UkI3Ymt+Pl/Y24v3sPmzMpGPF0Q4sO9qFlUcJWHq4Ey8cJeChvc144KtqLFmfhblvnsMtG8tw+yd1+PXOWtz/+UX87osK/OaTavzhq0b8+bvmiL+9ioe+u4oHv7mK+//Rhge/b8RTe5uwMZeGrdlkfFRIw7Y8Ctae6sL6M0S8c6wDmzPJeOdkN57/vgH3rDuPv35RiT9sL8RvNxzHo9vO4OWdWdh04AK+OVuL/EYJDhd24JlnX8We3Qch07shkNmRXdKIDdu/xfn8y2hop4MjUMNgG8Gnh4qxq5yOjbl0rM2h4N1cAtbmEbA6JxLksTqHjLezidc5Xh3L7sabWT1Ymd2D1zN78HoUxlae74mA2fkerDzfg9fPdWP5ue7wsrNdwaWnO0eXn+l0rjzfY1yVQ+S8V0jq/KqKmX2ogfNDGU2+qp2ve0KotdypMJvnJlsbk0oqqf9NGh+/PzQ0NGN4eHiR1+v9/ciI+0mPx7Xe43F96XI5sx0O6xWHzUK32cySwUGT2TZoGrJajb5BqzEwaDWGrBZD+EYR+uPn0n4qsXH87FniXrPYORHQdFol1CoZ1CpZfAH1dS2OIt4NIU0sYEPAZYLL6QOX0wc2iw5WPw19DDL6GGTQab3XAVoipCW2Nv5UOMjPQVoM0GKQRqP2gkYngUEng9VPh1wmgkohgV4jhV4jhUwhBInag15yD9auX4uZsyJzZbNmLYwEhMyZg/TpMzB15ixkzJiJ9IxpyJg6HTPmzMV9v3sAn372BZpb2mAwGuByDcHv92F0dAQjI8Pwet0IBEbh9/swPOyFzzcMu3MQPr8XQ24HrDYTWlqa8fXXX+Hee3+NadMilbaUSamYcFNqrLUxnDp5amjihCn+lEnpw1MzZtlmzpiru/WWu7i/ufcBwrPPvFT69ttrj+/atWt7ZmbOG+3t7Q8zmcxfKRSKuVE4mxhLRE6+W5NK6hek2EsiliylHRxcKDXafk2Tmp9tERnXllOV+3N7RIXHm7mEw40s/v56tmlfHWtoTx17dG8tN7i3lhveV8fDNXPjcLYnAdD21HKxu4ZznX+oZeGHWha+v8KM+x817Otdy8U/rvDwQy0H312h4+hlIhpIMugsw2jpZuD9bd/j5de34c9PrsTvHluKc2VdOHmhF9t3FSOnhoH8OjqyqogoaexDeQsTtQQu6og8NFL5aGYMoJOrB1lqR5/UCp7Siat9hv+PvfeMajpf2/3P3s/zTFGxgWXsjuM4ozOOjm3KnrH3hr333hsWxN4Vld4FUZBeFUFp6SSkBwgBAgQIpCckJKEn1/8FZYBxZu991vmvc/beuda6VsIvib5Bv/n87vu+bvhny/DdwWCM3uqN8dt9MG5rEEbsCsawPSH4/GAERu8Lw9hDoZhwKBCjll/H8Nnn8cPh55h98w1Gb3uKMVsfw26xEwavv4Uxu4MxZv8rTDgchXH7wzFmdwjG7QnBuF3PMHZ3AEZueYwpB32x9los1l2NxjrnCGy+Got1V2Ox6WY8jri9x8VgKjZefoG70fk45ZWBa6FkXA/JwtlHMXj+WgBhTQuK5Q1gFNaAKKhEqaYeKoUeWp0FwTE0HDh9F6u3nYPLgwDkcIuh0lugN7SizmzFLb83cAogYJdf2/zYrgACdjwj/h7IAoltDiB3aV2kYnMAERsDiNgQQMR6PyLW+ZOw3p+E9X5tXtcGZljjnW1d65NtaYcz83qfbOWWAGrZzhAq5fgrZvyt1wX3fbJEx1P4VYs5leppxVLNcIkEtp0sNtlk07+duoSG/I9CoehtMBgGAvjcZDJNaTSblzeYTLuNRsOtOr3W36BXp+l1akatTlWm1SoVWo3CqFHLGzRqeYtaJbOolDW/g7Q/q6D94Z6zHq2PH6qgVUslv1XQJCWQlBdD0g5pHYBWXiz83Rxa11bHnoDGYdPBZuWAxew+g9Y1LKQD0HpG7P+9ylnXa11DRjrmzxi5bVU0LicX4hIhyktFqJIUQVpRjOLSAuTkkkGmEuG4ds1vASEDhqLfwCGwG+gAuwED0cuuL/r2H4AB9vb4fto0ePv6Il8ohMFYhzpjHeobzGhqakBzSwPqG4xobmlAY6MJjU1mtLQ2orm5Hg2NJrRaG9DUYkZ9Yx0am0yob6hDfb0Rubl0uD6+j5Ejh+PTT3vhf/67l/Wvf/nY+vFHfVo/+bhP8ycf9zH37tW/dpDDZ9Lhw8eKpkyeQfz11wXxO7fvfeLkdOGin5/fxoSEhHkcDudrsVg8QqfT9Wufg7SFgthk0/+r6hr/KwH6V6nVw4TVqimsSuWCN/yqwxGMspt+WfmR7ul5WQ/e5hXdTcmT3XnDN959nd94K0nQeiuZZ731moebb7i4+YaHm6/5neDV9fmHfC2Zj6tJvE5fSeR2+/laMh/XkvlwSeHhehIfNxN4uJbMxZ1YKtYfv4eEFDpkino0twL1jYCh1gy5zACxRIfcPCnoIjmYpbXgV9Ujp1AJWoECrBIt8iQG5FcYUCI3olTVgPzKOrDFOuQW60EWyEHhy5AtUCGz0Iz0QhPe5xuRKmzGM5IMp9zT8Oum2/hxwx1M33gH0zbcwLR1l7H9cijSi5uw7rw3vlt+EL9su4SDt8Pw0/qLWLz7Dr5bchRfzt2H2ZsvY+qy4/h+2QlsOeuNdbtdMGPuNix0PIZdx1yx64QbNh11xZJtV7D92AMccfbCjpOPsOO0J5xck3DQORDRqQK8JgjBLTIgKCIda/Y64bt5WzB00gIMn7QAU3/ZhEnTlmHB6j3YffwKbnuEgF0iB0VQiYTMXIhrdJDXNqDZArDzyrD/WgAOeL3rDPXYGUBphzAytviTOr2pLXkRm/zJ3VoXO0CsK4yt9yVigw8J63xJWOtDhKMPwbraO7t1jTeheY03ybjWl6Le7EMu3hFIYZwKZ0RdTeS5+RNKDsexJY7MEtUUkaR2jESC/u2HiK39wiabbPq30x9V0kwm03cNRuMck8mws66u9lxtrcZbr1dH63QqWq1OWaBVK2o0arlOo5bXq5WyJpWyxqJS1li7gtofRet/yD1hrecs2ocArQ3SxKiQlKCiR7x+ebGwW8x+x6JqcVE+ioR85LdX0Xjc3E5A47Dp3QCNQad024HWAWgdrY494/K7zqd9COC6vp9MyupMiMyht4Egi5kDUaEApSUFqCgrREVZIUrEQrDYdNBoFMyfPx8DBgxCXzt79Os3uL2VsT/s+vbH1xMn4uDBgygoyENdnR4WtKK5uREWSwsaG+vRamlEc0s9mpvMsKIZDY1GNDWb0dxS3wliTc1mtLS7taUe9Q2GzutGUy0aGo3QaBXgcNjWZctWWAY5DGn96H8+bfzkk16m/v0cVIMdhlWM+3wCZ+p3MzKXLVv9fNeOfQ9v3bp/2M8vcN379+9nsdnsr8rLy4fodLp+7Tc9bZUzm2z6f1ld++E7Wh1LVYYv8qvU0zOLVOtfsytPhJDFXj6ZBbEPUvOZ91LyxXfeCDS3k/NMt5IEzTeSea03knnWm2+4uPmaixvJPFxP4uJ6ErcTxDoqYdcSed18JZHbaZcEDi7Hs7td6wC2y8k8XE3k4no8F9df83AzhoLDd0Iwa85aXL7xFFRGPqRyA1pagPqGVpRXKiBV1qFMbkCpyoRSlRkVCiMUhlaojVao6yyoVptRKq2FsEwBIrMY8eksHHd5ihtPXmD9jpNYvP4wVu24AMedl7Bp5yWs3XIG0+ZsxKiJCzBm4iqMnbIJAyZvwZdLzmHm2svYcSEQoWmFuBOYhtE/r8OInzbgs583Yf6B25iy9jRGz9mObxbvx/hft2PCnJ34dskBfL/6JMYvOInJS89izpZb2H72GXZdCMUel1BsdQrAzvN+2HXBG3svB+D47Uj4RWQgIi0Xq/edR1imAEv238Dak16Yt/Melh54grXH3XHQJQT3fVIQHJ4GCrsMZFYJSmQmiGrqUKowoUrbgJg3GZBpjUh6m4Eb957i9os3OB6cgW0dlTE/Cjb7kbDZj9jNPQGt43lPOFvnS8Q6HyLWexOxzpeENd4Eq6NPtmW1d3bzai9iw1pvsnadH6lqawCJtf95TppzLMf7wTvh5Sh29Yb0PPlsoVT1RbnS1NHa+JHtDp9NNtn076oPVdLaZ9Imm0ymxSaTYZvRqHcxGLQetbWapFqdiqzVyIs0arlUo5bVqlUys0pZ3axS1rT2hLR/BNC6vt4zubED0roCWteY/arKUlRWiFHZHrXf4fJiYWfkftfWx440x4J8bjdA43IYnVW0rhW0DlDrADQyJRskclY3E0mZIBAzQCRl/mZiBghd3PGejucUKgG0HBJy6GTQGZTOaP+CfC5KivJQLi5AWUk+RKI8MBgUZGdlYs7sObAf4IC+dgPRr68D7AcOQb9+9li6dDnev38PuVyGltbGdvBqq5S1tjahvsGIhkYj6hvqYDLpYa43wGiqhdFUizqjDnVGXVulrKEODfUGNNQb0NxkQlOTCQ2NdahvMKChse21erPBajLpLVwOu+W80/mmYZ8Nq+vXt59m8KBh5aNHjhN8P2Xm+4ULlkTs23fonrPz1dOBgcFrkpOTf2Wv+FiiAAAgAElEQVSxWBM6Zs5slTObbPoXUs8F1nK5cVCFQj+WV6H9iVxUszqeXXEulCJ+7JFRmOT6roB2542g7EYyT3k9iWu+lsxtupbMt1xL5luvJws6QexqAhfXEtvgrKNS1hO+XOJ/8+U4Di7Hcbpdc4nn4koCD1cSeLiWwMPVWA5cEji4nZgLtzccHLrsjrkrd2D0l9OxYt1eRCdkg19QivomKwymJigNJlRr66AyNkNjaEBdgwXGBqC+GTA1AkZz22O1pgmvkrJRrGxCbkktKEX1yBAYkEStRmquAu9ypHjNkOIlpRwP4nKx2ikI665FYeoRX8w6E4yFzuGYsf8ppu68h823Y7D97nvMOuCPCVvd8d3eIPx0MgLf7PTBz0de4G/HwrDwfDx+PBaKX85G4IfjLzHfKRJrrifjbAgHpwJzsf9pNk4EMHHInYzzISycC6LjsBsRe28nwi1BhK3OIViw9z7OeLzDwXvxOHA3CofvReLQzWeYv/EEpv7qiBGjJ8POfjRGjpsCGqcUrxIIiEpIg1Suh19IOHyevQSroASaRgvel2hwKPAddgRT2neU0bDJj9I5O/Yhd8DZRr+2KlmH1/oQ203CGm8S1niTrGu8SZY13qQWRy+ieY03SbfRl1K+NYDKO/yCnuwUyw588j7fKZRatu29SPkTp0LztVguH1SkVtu1/z7aWhttssmmf2v1OIM70x2NRuM39fV1PxuNxk1Go+GYXl/72GDQhNZqlJkajZytUcklapVMoVLW1KmUNQ0qZU3Lh6ppHwK0DwFcz2THnkmOPQFNWtVWReu6pFpSKoKkpLDbXrT/HUDr6hwaqa1yRiX8Q4BG6AFoXd9HIGaAQiWASiOCSiOClkPqXIgt4LMgEvJQWpyH0uI8lJUWIU/AAZtFx2Xnixj+2TA4DHTA+HFfYtOGzcjKyIJOo0O9yQSzyYBWSyMam0xobqlHQ6MRRlMtDHVaaLQKqDVyyBVS1MgqUVFZCkmFGBWVpaiSlkMmr4JcIYVKVQOdToU6ow4mcy1M5lqY6/WobzBYm5vM1qZGU2tDfV2zTqs0N5hN+pCg4OoF8+YXT5r0Le3HH39KcXRc63vkyLGbDx+67nn+/PlKCoUyjcFgjBeLxYNsM2c22fQvqq5LNMVabd9ypXKIUK6dxClX/fKuoHpnbK7kgn920bMn7wve3E/h82+9FkiuJXF115L55qtJvJZrSQLLlSSB9VqSAFcT+X/oKwm8TvByiefjclzbY4cvx/E67RzLxeU4LlxiebgWx4dLXBugXY2l43YcA/ucfXDl8QscPXMbKzccxfSfHXH1lgfiU7Lh6haIQycv4YTTLTjf9cYDj1BEJhEQ95YGCqsMRIYY5JwqEGjlSH6fj9j3eUgmSRCVLsbTSC6O3Y3FhrPe2H89GIduBePkvWgcuB0Gl4AMnHV7i9Me73DoaSoWHvfCwUdvcehhGpaeDMHysy+x6lQwtl6Nw4ozYVjjFI1vVt6A45lwrDkbihUng7DmXAjWOD3H2kvh+GblHQz96TS+WHwVf9vhhVWnXmHWNlfM2uaKlSdfYItLNHZcj8OWy9GYvfshFu57hPnbnTF73XF8OWsFZi7eDPuxU9Fr6Ff4a+8h+Mun9vhfH/fDX/9qh//1X30x6LPx+HGOI36etx6hr5JQJatFbUMLSmW1YBSUodoIeL8XYbdvOrYEUrHBv22GbKMvGZv8KJ3e6EvG+g+CGLEboP322m9w5uhFbFnjTWpc50up3ehLrdniRxHsfkYlnI1gBN9I4t0NIZXuSuZIl7BKFd+U1mhHirXarslStkPEJpts+rdX10pae/dA//r6+pFNTU0TjUbj3Pp64zqTqe5sXZ3uvl6njtBqle90WiVPo5aXqlUylVolM7RBWnVzB6R9qJLWAWM92yA7Wh3/DNC6tjn2BLROOCsVoUIs+rsVtPw8Dvg8Jvg8ZmdISM8Wx56A1rWC1q1i1sM9Aa3rayRyFqg0InLo5E53VOu4HAYK8tgoEfFRWpzXFoBSXgy5rBKiwjwEPwuEh/tTvElOBpfDgVajgslogMlU114tq+usjukNGijVMlTLKlFSWoR8YR7ouTkgUYh4l56G1Hdv8TYtBe/S00CmksBg0pFXIEBxsQjSmgoo1TLoalXQGzRWk1lvMRlrWxvq65pMxlpzfb1RW6tTy3RaTWFyUhJj5UrHREfHtc+OHz959caNW4dfvny1LC0t7Uc2mz1OKBQObY/S/8RWObPJpn9RdZ1HA9CnSq0eVlSjnsAolc/NzK/aFE4rdQkgiLyfvhOk3U/NY95I4lVeT+KrryTwzC4JgiaXeL7lSgLP2gFhv/mPAcw5lotLMZxOd1zruH4xmo1LUVw4R/PgHMvGlXgubsSzcSWagR83nMGRS09w8Pg1bNnphMRUPl5EZWLe0m0YOW46hn8+A9/OWoPp83Zg6JezsffMI9zzTcQd73gcc/HG8Ek/YvR3P+Gn5etw+bEvXqZQ4PI4FCcv+8I9JA1SoxVSkxVqixW1ZqDJCjRagJYmwGxugVLfiMdez1GlbkHkGxauuyfjhm86LjyNxQ3/FGw57YZVe2/hllcSjlzywd6Tj7Ft/01s2nMVW/Zdx5ZDN7By92l8M28Dft1wFD+sOYwvftmA6XM2YupPG7B1/11cuR+OjbuuYujYOfi4z3j896ej8Ze/2qP/wLH4y3/1wycfDUCvjweizyeDsXPnUezffxoDBgzH5k17cc7pGmb8tBDTflqGyTOWYM+hSzhz+SEu3vGGf9Q7hCTScNvvDfa7ZWG7Dw3r/MlY70/EWj8i1vu2QdoGn98eu0LYGm/Cn9rRm2Bd7UW0OHoROypntRt8KZWb/Sn5+0MY7069yn3xMIV/9RmhcH+qoHoerUQ1pahKPaxLKIjtLp9NNtn0H6WuIwft/w/2MxqNg+vq6r40m83Tzea6VSZT7R6jQXu9tlbjXatTJOm0SpJaJStUKmoq1UqZVq2SGVXKmsau1bQPQVrP/Wg9d6R1jd3vubC6Wipph7Q/BrSOClppccEfApqAzwKfx/xgSMgfAdqHgKwnsP0jgEbLIYGWQ2qDtfZ9a2xWDvL4TBQJuRAXCVBaWoDq6lIoFVLotApUS8s7Y/irpRLIZVXQGzQw1OnQ0GiGtlYDjU4NSWUpCgrzQaaSkJqRhojYaDwPewnfwAC4+3jC1f0xHj59hEdurnjw5CGeeD6Fh68nAp4H40XEK7x9nwYynWItEOZbyiWlrWqVrNlYp28wGQ36xgajsrHBKDbotTyDXv9eq1ZHksnkR+7u7ue9vLw2xcTELCSRSN/yeLwxQqFwoFAo7NN1z5ntTLXJpn9B9VyiqddjgFSqGS6sUE2ll9QsSORUHgzPKbvmlSkMc03Lf3f7NT//WiKv8mo8v/ZKHN/sEidouRzHszjHcq1dQexDUNYGYDxcjObCOZbf6UsxvE5fjOa2vR7Nw6VYPi7EcuAcw8KVaCauxrIxb9d5/LRsK2b8tBCTJs/G+q2nsWr9IfwyZzVu3PTEr/M3Ye6yfZiz6ihc7j/Hy6QcpNJKsPXYdWw6fBWXXL3h9jIKYW/TkM7mI5nARFZuMdhFCuSXqlBWo4W61ohWK2AF0GhpQCsaAWtT2+BuYz0ePHkKtb4RL6LSsGzzcXw50xH9x/6M3sNnYPS0lZi78SQuPQrB9MWb8beV27Fu31ksXLcbq7Yfwu4TzjjqdAPXHwTgsW8kwuOzceHKE9y454s9h69i7bbLcNx+CccveSIiiY0tuy5j4/YL2LLzPFauPYi/fvwZ/vKRPeYvXofjp65i7wEnfDlxJoZ8Nh79+g7FX/5ih496DcF3Mxfh5/kb8dW0hVi17QSuu4Xhjk889jh5Yfm+e9jjlomtPlQ4+hCw3q+jAkbGej8q1vtRscGfhvV+VKz1+a1y1hXG1vqQu9nRi2hd7ZltWe1FbFnlRWxY7UWsXetDlm8JoBXsDKFTTr5ih1+JFzwOIIgORbMljuRC2fd5lfrPpVLDwPa9QLa7fDbZZNN/pLpCmlQq/VSr1fY1m82fNTYavqivr/vRbDYsNZv1B+v0mssGvcZPr1fFaFVyilolF2jU8kq1SqZSKWuMXVoeW9shzdo11bHrkusPAdofLbLuXkXrDmhdWxy77kX7ey2OHXD29wCtK4j9bu7s7wBax2fJlOzO+bMcOrkN1Nr3rOUyKOCycyDMY0FcJEBZeSHKJSLUyMpRIyuHtLoUlVUlKBHnQ1JRgippGdQaGaplVVBrVZBUlkMoEiKLkImEpHgEv3wO38AAPHJ7itsPH8D5+nWcvuCEY2dO4cipEzh04hgOHj+KI6dO4PjZ0zhz2RmXbl6Dq4ebNfhFqCXl7ZtWGo3SXF4mNldXVenrDDpZrU5V2tRgYppM+gxDbe0LrVL7VCaTneLz+duTk5PnZmRkTC0rKxslFosHCQSC3l1SkG1nqk02/aur/R/yf0ml0k91QL/SGu3IwirdNzki2eJ3/OodL6nim96ZooCHb/PSb73OY1+O51W6xHLUztEc86UodpNzNKf1YizbeiGWZb0Yx8bFOC4uxHI6fT6GjfMxbDjF8OEUw8f5aD7ORfNwLpKLc9EcOEVxOh9/Mw/no/ltwBbDgkscB15JVBRJNeByBXgVmYR9h85h2YotmDptDr6a+CPsh34Dx40ncPSMK+4+CcWNB0F45PkKEcl0xKRyEZySh6BUATzjcpBAk8I9gorHYdmIJhSAVKCAwgyYAZhbgXorUGcBjAAaANS1AuUqI1IILBRW6ZDJEMEtMAH3PSPgHZiEoJfv4B6chNuer3DTMxzXPSNw+Jondl9wxUEXdxy95oF9l55g/61IHLoVgZP3onDxSSIOOAdi1eEHWH3UFRvO+mPd+RBsvR6NNecCsPq0P9adcsPsFfsw/ts5+GbWbKzddRj/3X8k+g2dgO9mLcK3M+bBzn40BtiPwaAh49B34OdYsmo/jjjdx/4LD7D52GNsO/UA7i9I2HjaG44XnmGPHw2bvElY60fCWl8y1vlSsMGH1un13lSs96ZirXfnXBnWeJOw2ouI1V5EOHqT4OhNxmovsnW1F8W60oPcutKD1Lzck2he4UXSrfWlVG4IoBTsC2Wmnwxnv7r9Ju+Wf2bx0bcCyRJisXxGmU43qrq62r59eNm278wmm2z6j1aXm6X/1V796NMewz/GaDR+YzQa5xmNxnUmk+G0wWC4XVurDdXp1MlajYKh1SiEapWsWqWSqVXKGlNXUGvfmWbVahTdAK1ri2PXVsee7gC0niEhVV1CQiSlot/F7HekOHZE7RfkcyHgszpnzzrgLLc9sKMnnHUkOJLIWb+bK/tHAC273URyFshUAig0Imh0MnIYFNDoZFBoRJDIWcihZYOZS4IwLxfFhRyIxQKUlxegulqMqqoSiEuEEBUKICzgoyCfC2GhAHn5XOSyckCkZOF1WjJeRL1AQFAgfHz9cPPufZw444S9Bw9h685d2LBlMzZs2YyN27di045t2LBtS+fzzTu3Y/u+A9ad+w5a9h851nrm/PnmR48f1QcGBxjSM94quDymRFpdzpMrpSS9Xh1tNOp8TaY6Z7PZfNBgMCzTarU/lZWVfVlcXDxcp9P167I/1DYqYJNN/y7qGf0rk8GhXFY7ml+umUkvVi1NYlUdC6NW3HJ/X/Dq/pv891cTuHlXYzkVzjFs3aUYjuliNLv5Qgy71SmaZT0XzbR2QNb5aC4uxPBwPpqL89HcNiiL5uFMJAdnIjk4HcHGmUjWB8zB2QhOG8BFsnExmgXnWDauBcajRKpGa2sLGhotyBeWQySqQEZ2DoJDY3Hnvi827TiJ5Y77se+wMzZuP47vZy3D8HGzsGrraSzedgsTFxzBD5uv4vu1zph76BFWuQRizc1YLLnwAptuRmHX7Ug4+abg6nMSniYK4J0qhPe7Iri/KcSFZ9k44/cOK854Y8u1l5i06hwmLD2Fb1edw4QlJ/DVqrP4eo0Txi45iRGLjmHM0lMYt+Isvll/CZPWXsDXjk6YuNEZ07dfw9qLPth//xWOPo7GIddoHHwYiZNur3HOLwuXQ+m4Ec7Ao2g23KKpSCUIERz6Bq5ewVi/8zB+nLcSG3Ycx/K1ezHtx6X4/KsfMGzkJPQbOAp2A8bh6Nn7WLhmP5buOo0lO+/iwGVPRKSKsPfGC2y6GYMdvlRs9CFhjS8Ra3zaAK0DytZ7U7HOi4J1XpRucObY7tVeRKzyJGC1FwkrPYjW5e5EyzJ3UvNyd1L9Sg+ibpUnqWajHyV/WxCNfCyc/colXuDmnVl8LDa3cgOlRDGLX63+0hYKYpNNNtnUXV3O4f8Si8Uft3cXONTX1480mUyTGxoafjEajRuNRuNhvV5/V6/X+tfqVK91WiVJo5YLVSqZpB3SOmfT1CpZq1ols2jUcmvXFseugPahKlpPQOuYQetMcezS4lguLvwdoHXdhVYk5HcDNC6H0aV6Rv2HAe2fmUHrMJmS/bsERxqdDCqNCCIpEzRqFnIZJOTz6SjMZ6K4mIeyMiEqJEUoFRdCWMBHnoADDpsBWg6pcybudUoiXkWFISTsOQJCAvHo6RNcunIVB44cw/bd+7BkxSrMW7QYP/3tZ0yZ9j0mfTcZEyd/i/Fff4Wx47/AlxO/tk6ZPs26eMVqy+Ydu1p27j3QuO/QYfOps6d0t+7cVEREhpWkZ6TyhIX89Mqq8ujaWvVTo1HvYjKZdpnN5pVms3lGXV3dVyqVaqherx9gu9lpk03/xuoZv6/XY4BEXjumoLr2O1KhfNlbXvXul+Tim36ZRf73k/PSbsYJGJejOGUXY9gKpxi20SmK0+AUxWk5F8m2nI1gWc9FstHhsxEsnI1gdYJZB5z9mX8DNC4uRrNxOY6DoHcs1DZZYW1thNVqRZ2xAUajCY3NDWi2tMLc1ApBoRh19RYYzBaotA0oq9SgqEwNbmE1Cipa8J6rxdPkUqy8FIPVj8iY7pyM2XeJWOGWi11BApyNEuNMeD6cIoW4FFuIy/FFuP5GjOtvxHBJEON2ag3W3EzErdcVcIkV4UaiGNeSS3HjTTnupVXgXmoFHmfUwI0gh9v7SnhkSOGTLYdvVg38SDL4UisRSC5HQoEGSQVKpIjUiOFVIUkgRXyuBLHMaiTk1iCeJkEGuxRnrj7EAIex2LHzFObOX4t+g8Zgyqx5GDR8IiZ+Nwdjv5gF+8ETMGzEt+g7YAw+7TsWW/Zdwnd/W4mvfl6HtYc9cP5BMOIyCxH4rghHfQnY6NUWib/ai4g13iSs8yJhjRel046e5G5e7UXGKk8SVnmSsNyTiJUeROtKD6J1mQehZZlHdtNSD5JxiQdJs8qLXLbRm8Lf+4yedvwFM+xmcuEtj/TCY/Hs6uWEQsUPRRWKsaUKxeD2Lx62OH2bbLLJph7qUknr1vII4HOz2TzDZDLNN5lMOwwGwym9Xuuqr9UE67TKVK1aQdVqFIUatbxCpZKrNWq5QaOWN6iVsqYOUOuoqPUEtK6Lq5WK6t+1OXYAWtc9aB1wVlYiRFlRQefesxJRXmflrEjIR2H7/FlHiyOXwwAzlwpmLvV3i6o74vU7dp99aNbsz0Ctp8mU7M6AEEYuFTntcNbx51LIWaDTCOCxaRBw6Sgo4KJIlIciUR7y8zjIZVBBIROQ/j4Nr98kICLyJcLCnyMoOAC+Ab64//gBLl65hF0HDmDV2nWYOHkqBn02An372aP/AAf07z8Qn37aG3Z92/an9eptZ7Xr29/6yae9Wz/6+NOWjz6xa+zdb6B5zBcTdD/Pmas4fuqE2OWai+DR4wdZ4REvEhgMindxseimWq0+qNdr1zc01P3NZDJNrq+vHwnAQaFQ2FoabbLpP0FdIO0jhULRu1ShGFyh0I9lSzSzSIXyZXFMyZHnJPF1j/ei0Ltv8lOuxPG4F2I5YqcYtvpcBLvuXCS38WwEp+XMK6blzCum9XR4bhuYvWK2uQucnXrFwqlXLJwMZ3a649qpVyycDmfjzKs2SLsQ1RYeEk4WQttogaXFDKu1FS0tFjQ1NrQthGxthLSmGiQaHeZGC2qN9agzN0OuMkCpbYRS2wiDBSjRtsDJNxuTNj/GZt8SDN0dgfHHo/H9xWRs8WHhQrwEW1wzsdOdgt2eVOz2IuOgLxWHfek44k/DMX8yTgRScDmSC+dXDJx/QYVzJBPXYji4GcfFvUQe7idw8CQlH66JfDxN5sHzbQF834vg906EgIwShGSIkMyW4h1XijR2JRKZZUhmlSKRUYr4XAkScsuRSC0GmVOMtRv3YPDQ8Th/6T4mf/8rPurlgO+mzcbQ4RMxYeLf8Pn4HzBo6CQM/Wwi+vQbhQFDJ2HphmOYuWgjPp+5Gou33sUNzxd4Qy5GPEeDU88ZWOdJwnpvMhy9iHD0JGNdDyhb7UHCag8SVnkQsbLdyz3bvNQ927rULduy1D27dal7duMSj2zTUg+CepkXsXKtL5m7NZCWdTKcHeoSy3P1zhAfCaeVrycUKn5gSzRflSoUg9sTG20DzDbZZJNNf6APxPD3MxqNgxsbG8eZTKbvTCbTgvr6+g0mk+GU0VB7U1+rfVar0cTrtCqKTqvmadWqcq1GIWvfm2ZqCxGpbm6HtI5Y/j8FtI69aHJZVWfUfiegtVfPOmfOigq6tTR2VM5EBTwI2+HsQ4DWNWY/h0bqBmhkUtbvZtD+WUDriNenMyjdAa19mTWFlAk6lQAOkwIemwY+jwU+jwUOmwEGnYLMzHSkpqYgISEOEZEvERwSgKBgf/gH+uGh60OcOncWW3fuwJSZMzF05Bj06W+PvgMGY8CAwejX1x79+w5A/34O6NO7v9WuzwBrn979Lb179Wv99BO7pt69+jb07jOgzt5hqNbeYah0zNhxJXPnz889dOxY5hNPt/DQFyFeVCrpkkgkOqhQKFbodLpfjEbj1wBGtbe/doSB2Ga4bbLpP0Fdo38VCkVvqdQwUCSvHZMv1U3OFskWv+FVbAullLp4pos87rwuSLoWxyFfjMotcopgSs+GsWpPh7PNp8PZzafCWK2nwljWU2Es6+lwNk6FsXCyi0+8ZOL4i9xuPvGSiRMvmTgZxsKpl5w2h7HgFMHChSgO/N7xoKi3wGJpBKytaGxsQH5eASxWKyywosXSiojIGJjMzahvboGxoRnaugYUl8lQWCKFrqEF1UZgs5M/vt98E2fixPjmfAJGnU7HJOds/HgjG/Pvk7HSlQpHdyrWe5Ox0YeIbX4k7PKnYE8AFfsCKTgUkoNDwRRcTirEuWgOLkSx4BLLw81EAe4kCXAvuc0PUkV4mCqC6zsRnqQXwyOjGH4ZQgRnCZHErsRbdjlSORKk5VYijSFBUk4ZYujliKKLEUMVgV+ixLYdR+Hw2QR4BUfD/rPPMXT4Fxg77jsMHfYVJk76BcNGTsbgIV9jyJAJ+KTvKIyfPBczF23DrGXbMPnXHVi4/jpcg8LBFMkQmF2O7R7ZWNsOYW0wRsFKNxJWepCxwp3U6eVuRCzt4iXuRCx6mm1d9DTbsugpsXnRU0LDoifZtcvcMhWrPQlF63xJzJ0hOUnHI1nP7r4WuPhmiw4mcaoWk4XSmYIKfWflrMvdPtthYpNNNtn0B+ra8tj+RbwXgAEAhtbV1U1obm6e1mgyLak3Gjeb6mrPGgz6O/paTUhtrSZep1WTdRolV6tWlKnV8hq1SqZTq2R1KmVNg1LRtuRaqai2yGVVVrmsytq1pbFnUEjXmP3KCjEkPapnpcUFKBXldwO0jspZYT63HdDazOMyweMywWLmdDMzt62SRs8hg0ohfLCC9s/AGYmYCSIhA1QKATk0Uudi6s4F2KQsEAkZIBMyQCNngcWggMOkIZdBRQ6NBDIpG+np75CUlIDomEg8fxGC4OeB8Pb1QECQP65ev4bjJ0/g13nz4TDkM/TqOwC9+g1E3wGD0cduIOz6DETfPgNg17u/1a7XAKtdrwGWPp/2b+nbe0BjfzuH+gF9B+kdBgxVDx06onL0mHFFkyZNYcyc+WPm4qXLXm3ctMnn/sOHLklJSUfZbLZjUVHRXIVC8a1er//caDQO0v62lsbW0miTTf9p6jqsrFAoeovl8kESee0Ybpl6OrWwZmE8q2Lfc1LZJbc0of/d14K4KzFs+vlXTOHZMJbsVBhLdzKMVX/yJbPpxIvc1hMvcq0nXuRaT7bDV4ePv8jFsVAGjoUyO338BavTJ0LbfOolB06vOLgQxYFrAgMVtY1otbSg1WpBvbkeDx+5okomR2NrE+rqzahRqiBX1UJnMkNraobW3IriChVEYhnkGj2KpPXY5hSEpSd9cCa+BF+eCMf4s+mYeiUbv9zKwsK7mVh6LxMrHhKx9ikZG93J2OtLw6EgJg4G0LDfn4gjgWQcfUbCuVcMXE3Ig3MkA1djWLgRy8LdBA4eJHLh+lqAh6/5cE3hwy01H+5pBfDMEMIzPR9BhALEsSR4zanAG24lUphVSGFUIi6nDLG5lYhmlCGClI9qbSOWL9+ECd/8gMjkLAx0GI0vvpyK0WMn47PhE/HFhJkYOnwSBg8dD3v70fi47yiMmvgrflq2B/M3HsEPCw9i8bqrcA8JQ05BJbzSxdjoltUZBrLKnYyVbiQse0rAcncSljwldIeyp0QseUrCoqdEa5sJrQufEFoWPCHWL3xKNCx5SpCt8iSI1/mR6NsDqanHIlj+Lon82/6Eon0xrPJV1CLZdH6Z+kux3DhIrNX2tcXp22STTTb94+oRHtKxL61fR8tjc3PztIYG45x6o3GT0ag/bDDU3jQaaj31em2MVqt8p9UqmDqtQqhVy6vUqhqlSlmtbw8SaVQqqptlNZUWWU2lpR3SrB9KcPxt/qwMFZISSMqLUd6leiYuykepqHtro6iA1w3Q8vO4nYDG5eSCzaKDxczpBCdmLkVYtGwAACAASURBVA0sZs6ftjj+M4BGzs4AOTsDNFI2GFQSWHQqWHQqcmlk5JAJIGdngJSV3vmeXBoZzJy2Kh6FnI2M9FS8fpOA2PgYRMdG4UVYKEJfBiMkNAi37tzE6bNn4LhmDfrYDUC//g7o3W8geve1b4Mzu0Gw62Nv7dO7rWJm12tAa9/eA5v79h7Y0N/OoW5gv0G6IYOG14wcNrb8yy8n8b+bMp326+wFyStXrn158OChR05OF5yfPvXYlZDwerVIJPpRKpV+q9VqRxqNxkHtVbNu+81sZ6lNNv2HqeehIJGgf2mNdqSwUjuRWiCfm8qtXh9GKTvrm1ny4H6iIOJKDOe9UySbfzqcVXbyJVN94kWu4XgovfF4KKPl2HO65dhzurUNyH7z0ed0HH2e+4c+FsLC8edMnHnJxLlwNu5E0UEurEFjaytaLUBrqwWSimo0WayQKqoRlxwPvckMuaYWSoMJCkMjpNp6iCQq8ISVcPN8jOIqBShFLTjhnYNhW/0w4kA8Rhx+gwnn3uGHa+mYfTMTSx9kY+VjMhyfkrDmCQE7vEg4EMDAgYAc7POn4nAQA0eDc3E4kAbnGCEuxPBwOY6Pawl5uJWUj/tvCvEoVQT398V49CYfT9NEcE8rhE9GEXzTCxBGLsFrrhSpzCq8Z0mRxK5CHKsCUfRSRDIkiKKIkEjOh9ez57h75xF+mb0M6WQO7PuPwrff/IihwyZg6PCvMWHijxgy4is4DB0HB/tRGDxqEvoPn4r5G07g+8Xbsff4U9x0TUSBpAolCiOcw3Pg+CQDaz2pWOedg+VPCFj2lIDFT4hY5k7C4ifZWPQ4q4sJWOiabV3wONuy4HF263zXrMZ5jzJNC54S1IvcSFUr3Aj8dd4k0p5QRsTpCK7nvWThWf/s0p0p/Oq5OcKaqfk12pHFMplD+5eKzrbG/9u/2zbZZJNN/0rqMSP+Ufscb3+z2Tys0WD4wmw2TzcajXPrjcbNZqPxkNFouG40qN30OnWETqdK0WmVOVq1QqBWycvVKplMrZLpVMqaOrmsqkEuq2qSy6pa22HNKquptPasoHUFtPKyot8toxYXdp8766igCfM4yOezkCfgQMBng8vJBZeT261q1uGOsJCeISEfCgL5RwEth0xALo0MNoMGNoMGBpUEGikbpKx0kLLSQSFkgkbKBp1CRA6ZABIxE+nv3yI+LgqRUWGIignHq6iXCH4ZhJDQIFy/eQ0XnS9g2vTpGGg/CP0HDEL/jqqZ3UBrn9721t697S12fRxa7ezsW/r2tW/sZ+dQP2DAYP3AgUPVQ4aMrBo54vOSr776lj116gzi3AVL4leu3fD84OHj9y9cunLRw8N71/PnYY6pqek/k8mMyYWFhaOVSuUQtVpt1yUIxDYeYJNN/+nqOpMGoFd1dbW9uFo7Ir9cOZlWqPr1DVu69RVNctI7TfjkYVL+yysxnCynCA77dDhTciI0V3HsObPu+HNmw7GQnJZjz+mtR0IY1iMhDGsbmLX5SAjzdz4YysDh5wwcDWbg5PO2atvJMBbuRDMRmVOMeivQ2twCi9WKllYLmppbUd/QjOdhESiVVEMq06JGUweZ1gypqg55xVIUV6iwZfteVClkSKZK8euBUIzY+Rz2215i5JEUjDuThlnXsjH7ZiaW3M3E8kdErHJtA7RtniTs9adjvz8De/0oOBhEa4PIEBouxAhwOYYPlxgubsTxcCuRi7sJbDx6I4Bnhhiur/PhliqEW6oQPulCeL/Px0tyEZLYVXjLqkAqqxxJzErE51Yimi5BDLMcMVQhYrLY2LhjH9as2YKVq7cgKYWAAQNGYszob+EweDxGjZuKUV98D4dhX6L/kLHoaz8KfQZ9Abuh32DxptOYsWg3olOLkUYrQ5XWBJkZOB1CxYonmVj6mIglroRuXvwkC4ueZGChayYWuma3w1mmdaFrtmW+K6FlgSuhcb5rdt1C10zNkqcEyXJ3Qv56X1LWnmBa7NmI3Ce3kviXnpFKtsZxJIsZRdLJggrFWFF1tX2XPnnboWKTTTbZ9L+pni2P7V/Y+xuNxsHQ43OTyfRtg7FhttlsXmGuM+8zmWrP1uk0D/V6dYBWo0zQapUZGo2crVHLC9VqeZVaJVMo5FK9Qi41yWoqG6urK5rlsqpWuazKIquptNZUV1h7VtAk5cXdAK2jrVFc2AZnXdsbhXkcCPM4KBCwO2e7PgRofy/F8UMVtD+L3CeSMkEhtJlOIYKZQwEnN6cT0KikbBCy00HITgeZkAkysQ3SqMQsELLTkZb6GrGxkYiMCkN0bAQiYsLxIiIUnt4euHXnNjZv3YJBg4fC3qENzPr2c7D27zfI2q+vg6Wv3aBWuz4OLXZ2Dk12dg71AwYOqXOwH6odMmR4zYhhY8rHj/tK8M2kKTk//fRrypIlKyK37drjcfzk2Vu37tw/6uMTuC0mJmFhRkbGDywWa0JZWdkokajavqioyK69+8TW0miTTTb9pq537qRS6adirbZvhVr9mVBq+IIm1v6YnidfFkEtPRSQVeJy/3VBwLU4bpxTJIt2+iUz/2gwQ3okhKE+EsIwHQmhNx4Kzm05+Ixh2R+YY90fRLUeeEbDoeDcTh8IouNAEB37nrU9HnqWg8PB9M72x0tRTLin5sIIwGq1orm1AeZGE5pamtHU3AK9yYy6+iZU1ahQIdVBKq+DpMYAQXENSqr1iIiKx/OwcHhEMDFlkxeGbQzEiJ3RGHP8HcaeTsWs2yT8ejsbc++8x6KHRCx5SMCqJ2Rs8KRguy8De/2Z2ONDw35/Og4F0nE4KAenw9m4FJ0H52gBrscLcDOejzuJAjx6K8KTd0V4mFKAJ6lt9kgvgGeaAC/JRUhkVeA1S4LXjDIkMCSIp1cgli5BBK0Y8TQRXpPzMG/peuQVVOLeA29Exb2FvcMofP3VTPQfOBZDR36HQcO+RZ8BX6D/oK/xsd04/E+fcdh/+hFmOx7FhiN34HwvGj4v30BpMKJEYcL2R++x5CERi58QsdA1u5vbq2VY6JqN+Q+zrAseZVvmP8hsWfQgs2nRw2zTwgdZuiWPCNIVT8nF6z3JtC3+9LdHQpkBztGCu+7pokNhtLJ1aSLljwyxdmJhhfqztqXntuhfm2yyyab/k/ozUGufU5rU0NDwN7PZsNRkMuw0GGpP1NZqbxsMOk+dTh2p1apTdFpljkol46uU1WVKRXW1XFapkVVX6hVyqVkuq2qQVVc2y2oqW2qqKyw11RUWaVW5tbKi1Nqx/6xz9qz4t/RGcVEeSkQCFBfyUSTkoTCfA2EeGwWCNjjrqKBx2IzOFscOd0Bax2PnrBglu9PdZszIbQEiHa91/Nx5nZQFant7I4dBA5dJB4/VFvzREd2fTUjvlvZIImchK/sd3qYmISk5FolJsYhPjEN0bBQCnwXAzd0TCxctw9jPv8TgIcOtDoM+sw4aPMwy0H5I6yCHYS0O9p812Q8cVu9gP9w4aNBI3dAhI5TDh4+tGDvmi+JJX09mTZ0ygzhn9sKElcsdQ/fsOuB65sz5Kw8euB4ICgralJj4Zn5WVtZMPp//ZX5+/kiRqNpeLBb/btbMdo7aZJNN3dQzUUoiQf9ypXJInkTzFbNMMyONW7UqiibZ45Mhuv7wTZ7XlThe4oUIDvH4i9yCY8+ZksMhDPWhELrh4DNGw4EgevPeoBzL3qAc696gHOu+Z21Atjcop4sZ2BuUg/2BbT4SwsDR57m4EMPF3XgGFOZWtFossKAFTa2N7RW0FuiNjagzt0ClNaFSqodEWgtJjRH8YgUKq/QQFZUj8GU4wjMq8dO+EIzY9AyjdsRi+P5kjD6WghnXiZh9l4gF9zOx6D4JK59Q4PiEgvUeJGzzoWGXDx27fKhtgBbEwJFndJwMzcWFSB6cowW4GsvD9Xgebifx8CitsC0o5E0+HqXmtwHaOyG80gQIo5QgkVWBpNwyJDJKEZdThjhqKWJoFYiklSIyi480ugjX7/vifSYL9119USCWYsSo8Rgz5hv8/MsKzFu8BZOmLMSXE+fh628XYdjoHzF09I8IjCRg2sId2HziLh74vwaZWwIah4W3OQXYdPcdlj+iY4ErAfMfZXfzgkdtYDb/YZZ13oNMy/wHWS0L7mc0LHyQaVr4iKBe4kqsXulGKVjnSaPvCshJPPyCFXwlVnD9yduCY2HUqlUpAtkvbInmK0G1doREgv7osTTTdrDYZJNNNv2fUc/ZNKlU+qlarbYzGo2D6uvrh9fV1X1lNpu/N5lMC+rq6taYzeaDdXV6J51O+0in0wbUapTxWq3yvUYtz1UpZfkKeVW5TFZVrZBLNXJZlV5WU2mS1VQ2VFdXNNdUV7RIq8pbKytKLZXlxdaKsiJr5/6zdpeVCLu1PHadQ+uYQRPwf6ukdYSFdIW1jmpaR5hHDo0EKo3YmcTY9bFjvxmVRuy81tUdQSPMHAr4LAb47FzwOLlg0Cmdn+8KZ7Sctr8rK/sdUtOS8TY1Galpr5H0OhFRMZHw8fOBy5Vr1i/Gf20dOepz6/ARYywjRo5tHT5iTPOIkWObRgwfWz9i+FjjiOHjdCOGf6EcM3JC5bjPvxJPnDiFO3XKDOqc2fPfLFmyInLHtt2eRw6duH3t2u0T7k88d756Fb0sJSXll5ycnG85HOEXQqFkqFQqHSgQdAZq2WbNbLLJpj9X17t2YrH4Y0F7eEiZTjeKWVI9JTtPPjuRJdkSSig+9iS14OGteG6QcwT37dkwFu3oc7ro8LOcygNBdO3+wJy6PYG0xt0B1ObdAVTL7oAca7vR4V3+NOzyp2F3QA72BNJw8BkDh4NzcSaMDZdwBjjltWhqAZrMJjQ3t+BZ8EvweCVwfRIInb4VtQYLauQmlEkNqJCZkF+qRr6kFsx8MQokUkQRq7DlZgrG7gjB4A3hGL03GWOOvMFMFyJ+uZqJudczsfhOFlY8JGC1axY2uRGwzYuMHV4k7PIhYV8AFQeDKDj1komzYSw4hTPhHMXGlRg2bsRzcTuJg3uv+XjwJh/3X+fhUWo+Hr/Nh/s7IbxT8/CKUoYkdhWScsuQlFuGOHop4mlliKFVICpHggRKIVIoebhyyx0ZWWy4+75AeY0W30/7Bd9MmoWBDp9jzBezYD90MvrZT0L/QZPQf9BEjBz/E24+CcWKnWdxzSsC73NEEJSWY+9ZJ1zxT8Squ++x4C4B8x5mtUGZa9vzuQ8yrfPuZ1vn3c+2zLuf3TLvQWbj/IdZpgWPsrQLXbNlS56SRKs8Kawt/tS3e4Nzw89Fcx7eThacD8oq2RKXK1lMKFFNYVcpx4nl8kFicbcwEFvlzCabbLLp/yd9IETkEwB96urq7M1m82cGg2F825Jr469ms2GZwWDYaTQajhsMtbcMtWo3nU4dptOoE9UqBUGpkOcqFXKhUl5dqlRU1ygV1ar2FkijrKayvqa6orG6qrxZWlnWUlVRaqmUiC2VErG1w9IKMaokJagsL0a5uLCzwlYiyoOoMA/CAj4K8nnd3JHu2BXaOszl5ILFpoPJyul0LpPWaSaTDhaL8Qdugz4BhwmhgIvCPB6E+TxwuLmdn2fkUkFnUJDLpIHFpoORSwWVRmxvpcwCgZBpTUlNscYlxFsfPHpoWbR4WeuMmT+0TJ8xq3n6jB8apk2fZZ4+Y5Zh2owfdNOmzlJM+/6HqhnTfyqeNfMXwd9+nkudN2dR+srljtEbN24OPnzw6EMnpwsuDx64HvDx8d8UHx+/ICMj4wc6nfM1j8cbU1paOlgikfQH0MsGZjbZZNM/rS6HwX8D+EgI9KmurrMXyeVjBKWKbzILqucmMyvWhhCLTnq+K7h5O57/zCWak3AmjE49FkoXHAyiVR4IpCr3+lMNu/wp9Tv9yM07A2itO/yplh3+VOvOABp2BtCwy68N0nYGtIHavsAcHAii4+TzXFwIYyOKVAhDixVapQZKhQomcwtMJiDwWSyoOfnQ1wE1SjMKShQoLFeDVyQHp1AORl4pypW1SMutgUtILj7f5o+hG6Mwcm8Sxh5LwQ9XKJh/k4aFt0hYepeEFQ+y4fgwG5vdSdjmRcV2b0pbBS2AhqMhTJwJZ8PpFRcXwti4HMnF1eg2QLubxMe9ZAEephTgYUoB3N4Vwu1dITzeCeH7rgCvKGVI5kiRkFuOeEY7oNHLEUOrQjS9Aol0ETKYxTh05DyKi2vw/cy5YArEmDr1V3w3+W8Y6DAOY7/8AYOGfYt+DhPQq9/n+KT3KPQaMA6P/aKxaONh7DxzG57P4sAtlmDmih045ZOFJXczMP9hFuY+yMb8R0TMe0jAnPtZ1tn3syxz7ma2zr2X1TzvQWbD/AdZhvkPszQLXTMrFz/JFq3yJFE3B1BTD4XmPDsXxXr08G3+ST+CeFsyu2IuuVD2PU8iH1OqUAwWfiBh6v/276xNNtlk07+zupzLnSEiAHpptdq+RqNxcH19/Uij0fh1c3PztPaKmqO5rm6/yWQ4U6fX3TXU6jx1OnW4RqNI0qgVBI1awdCoFQUatUKsUsqqVcoapVxerZPLqgyymkqzrKayoaa6oqlaKmmWVpW3SqvKW6ulEkuNtNxaXVVmlVaWWislJagoK4akrAjlpSKUiosgLhGhuEjYzUWifBQKO+Ctwzzk57VZIOBAIOCAL+CAx2eDy2OBx2OBx2eDz+f+idkQ8NkQ5vFQLMxHiagAJUVC5OXzwOOzweOxwOWxwOEyweOzIcjjgsdjgcnKsdIZFCudQbXQaBRLFiG7NSX1bcvps2ebV65ybFqzdn398hWrTMuWr9QvW75Cu3z5Ktmy5Ssrly1bVbR82Sr+yuVrqatWrU/ftH5rzLatu54fPnzs8dmzTtfv3n1wzMPDe8erV9HLkpPf/komMybzeLzxhYWFn4lEInuhUNinRwiI7fy0ySab/nn9ruURbS2PhVLVeLZY/f1bgWxJLEOyOSCz+NyTNNG9a7Hc0IuRrKTjL3JzDgVR8/b5kyv3BJCVuwOohp0BNPMOf2rTdj9Ky3Y/imW7H8W605dm3emfg23+NGzzp2KPfw72BdBx9BkDh4JZuBqZBZKoDM3NQFNjI0z1ZtQ3WJCTm4cicTUUGiOqVGaUVGlRXKkDXyQHV1gDtrAGHEEpSLRSvGbIMWadK0ZujoX9vhgMOZqECWdT8cMVEubcpGHBbQqW3qdi1WM6NnmzsMmTia2eudjulYtdXgwc8GPi+DM2TgSxcT6Yi8sv83E1Ig83YwpwJzYP9xPz8ehNPlxf58P1tQBPUvLhniKA79s8RJLLEE9vg7NYeun/1959R0dZ5/3/P797111XXRUQBQULRVSKiqtiQwELoqiIdATpSBGkShHpkV5DEgIJvQSk94T0RiohpE76pCczmZlMv65r3r8/nLgsi7v37/5+75977/18nPM+nBNmJiGHc13ndb0/n/dHQhLy5GicTg5EF8m+6Hw5FJkusTnl0q/vp/LN1FnyTOeX5MLVBGnXrrt0evplafnI09LxuR7yVKeX5aFHO8mfHnhM/nh3a5k1f60MHTNPen48URas2S/jp/wgb707RAbN3i0DV8VJb59Y6eUTKm+vDPX0Wn3V02v1z8Hs7VVhrndWX3b09gnzBrPw0r4bI3M/3RwdP3hH/KWJwSl7ZhxK3bTqdObsbaG5Y0KS9H1DM6p7pBfWdszT1z9WXCwPprCkEQB+M3cIar8sfbylo9bBarV2dTgcb1qt1g+sVuswi8UywWIxzW9oaFhhMpl8zQ3GveYG42mzyXDFbDIkmhoM6Q2G+jyjoba4vq66sq6upra+rqahrrbaXFtTZautqbTXVFe5amuq3LU1VUptTZVaVVmuVVWWa5UVeq2ivMxTri/16MtKPGWlxR59WYncWqUlRVJSXCjFRQW/VFGhTooKdVJYqJOCgnwpKMgXnS7vl2r62j8sXZ6UFBWIvrhIykqLpaysRAoLdZKfn+vR6fI8eXk5nry8HE9+fq5WUJCv6XR5am5utpKTk6VkZ9903bx505mSlm6/dDnUuvj7JaZFC38wLFq4pHrhgh/0CxcsKVi08PvshQuWJC/8bknMwoWLLixYsPjYooU/BP7w/fJNq1at+X792o3fBgTsGr1///6B586d6xUeHv7qzx2znCcLCgoeNplMzTIyMu695aEm904A/2duW1bxy/CQ4traVrkl1U+l6Oq6R94s73X8WuGwvZG6KevPZa5acTJjx9z9107OCE68OmlX7PXxAdG6cf4xVaP94w0jfWOsQ32jHSN8Y9xf+saqI/1itOF+sZ5R/vHypV+cjPWPk3EBcTLe20mbtS9OdlxMl0ZFRFHcoioOURS3WBxuMdlcYrGpUm9ySVlNo5RW2eRGXp3cyDdIRk6F3MzIl/PHLsqxE/Hy0pC18tSQ3dLqyyPSduJJ6TTzvPxlYYS8uTRK3lkZI33XxMvHPjEyZH28DNsQLyM3xsiozVHy1dZoGbMjWqYEJ8mkXfEyO+iazN+bIov2JcuSAymyMiRdfE5kyo+nbsq601my4XSmbDmbLVvPZ8mW86myPzpPjsblS0isTo5EF8rR2DI5EF0oe2MKJDhKJwfDUiW/yiRjxk+XS6FJ0v7ZV2XnnuPSp89n8uQTXeWxtl2l3dOvyMOtn5OWrTrJn1s8JX9u8bSs3nZAXv/oK+n61nDp/dFkGThkprz24ViZEpggfXwi5c3VsdLLJ9rTc1W49uaqq1pPn3B3z1VXnT1XhFl7rwo19V4bVvXehojivhuvXv90U0TsMP+4k+OCE4PnH01dtep05uzAyJxhIUnFfaOzK7tfL6x7Oqu4ttUtw0CY1AgAv7FbQtp/iMhdOp3uj9XV1ffe0lFr43Q6O1mt1hccDkdPm8324V+DmmVeo7lheWNjwzarxRRksZhOWC3mi40WY6zFbEo2NxizzCZDvslkKGswGipNDYY6U4PBaGowWEwNBmuDsd5uNNY7jIY6l9FQ5zbU1yr1dTVqXW21WltTpd1SntqaKk9NdaWnuqrCU11V4amqLPdUV1VIdVWFVFWWS1VluVR6q6JC/zd1p6/dWuXlZZ7y8jJPVWW5p6aqwlNbU+Wprq70lJeXaXp9qVZeXqaWlZWoZWUlil5fqpSXl7nLy8tcZWUljtLSYltpaUljcXGxOTsnz3D5ytWawN17ynft3FO8KzA4d+fO4BuBO4MTdu4MigzcGXR2586gowEBgQE7d+7auGtX0OLg3ftmHjpwdHRIyE9fXLx4sU9YWORrSUlJnVNSMtv/3DErv71jxnJGAP933RbU/lBdXX1vcbE8mKevfyxLX9shPq/+lbAbNe8eSSgZsSuiYNqasxmrfzie5jf7UMrJaXuvXZ0YmJg+dmds3siAuIrhfjF1w3ZEW0bsiLYP2RHtHuobrYzwjdNG+MZ5vvSN9Yzyi5Wv/GJljF+MTNwVL98GR0psXrXYVRFNdYvmcYlDtYtDdYnd5ha7QxWj2S31JkV0ZRbJzK+Xgiqz3MjOEd2NVKmpqJA6VSSi0CN/GbVD/jI2SF6aECKvTjsvPWZekR7zw6TP0ij5yCdG+q26Ih+vuSSfbwyXQVujZPjWGBm5NUrG7YiTMdtjZNzuGJm4J06mHUiQafvj5ZtDCTI3JEUWhCTLijPXZcXJZFl7LlV8TiTLujOZsjuyUILD8+VgZKEcjCiW4Cu5Enw1WwJDr8uu0Buy/0KshMYlyytvvieHT4TLh5+NEZ91ATLg81HSutXT0q5Dd+n4TA95uHUXad7qGbmnWXu5p3lH6fb6Z/JMj8/kxbeHyccDp8vAMfMkJK5E+q465XnDJ9Tzxo+RWs9VoerbK8Pcb6287Oi5KtTyzuorxnd9wireXxNe+MHGyPT+WyJjhvhHnxy7OyF4zqG01ctOZ8z1i9CNOBxX8tHVrKpXEvLrn83T1z+WU25pkVH9y0ZmlmQAwL+QX+uoich9ZrO5udVqfUREnrRYLJ1+PvDa8abT6eznctkHORy2CU67dabDYVvqdNrXORy2nQ6Hdb/NZjtls9ku2e32GJvNlmSz2TLtdnuu1Wotttsa9XZbY7Xd1lhrtzUabVaLyWq1WKwWs9VmtditjWZHo8XkbLSYXI0Wk7vRYnJbzA2Kt1SLuUE1m4xNpZkaDJrZ3KCZTEbNZDJqDQ0GzWis1xoaDN5quFOpP5dBbWgwKGaTUbGYGxRro9ltsZhcDQ31TpPJ6GxoMNobGgw2o7G+0WistzQ0GBpMJqPBYKivMRjqKg0GQ2ldXV1hQVFxdlr69euJ11ITriWkRl67lnouMSH5eGJCSnBCQopvYnzK6oS45EWJiYlTEhKujU5MTP40MTH9vZSUjFfT0m4+n5mZ2b6goKBtXl7eQ017zG7rmHHfBPDf404jf5umPGbpaztcK6p5/nJWde9TqSUDdoXrpmy+lLVw6fHr2+cfSt//zd5rlycEx8eN3RWbNSIgumiYf0zNsB3RxsG+UdYhvrGOodvj3SN849QRvjHaCN8Yzyi/WM9IvxgZHZAgk3bFyooDEZJT2SiqiLjdLlE8DnF7XOJwOERVRGx2RQwmhxSVGSS3qFayy2qkqFwvN9NjpKLkprg1VYqrTRKeWSWp1SLBUVUyeOFReW/6Xnl/7ml5d/45+XRZuHz4Q6h8sDxMPvCJkE+2xMtHayNl4IZYGb0tSUZtSZQJfoky0f+aTN+TLt8eyJRv9qbJtwcyZM7BVJm9P0F2RJXJnms1suRgvPj8lCGBVwsk+GqeHIkqlsMROtlzJVP2XE6Tnefi5EhUhoSnZMnX02fLg488LrMXrpUzl5Pk409Hydgx06VZs7bSsdPL0v7pV6RV2xekeevO0q7zm/L7B5+ST4bPlCeff1/6fDZRXuk1SC5cL/cExZV5eq08q72+Kkx9ffVl95srLzj7rA61vr3qsqnnyks17/qElvVbG5710YbIcAK2SwAAIABJREFU5C+2xV4e5h93bOq+pO1zD6esWH8xe0pgZP6wM6nlvSNvVr2cWlDboWlJY8bPB6X+gf1mAPCv67aO2i971JqWPjYFNafT2clms3W32+1vOJ3OD10u1+cOh2OM0+mc5nK5FrkcjpVOp3Or0+kMdLlcR1wu1ymn0xnqdDqjXS5XssvpvO5yOnNcTqfO5XSWuJxOvdPprHI4HLV2u93gtNuNDofD7HA4LE6Hw+p0OGwOh8PusNvtDrvd4bDbnQ673WX/pWxuu93u/vnP28t+p2p6r9NutzntP3+m3WG32xwOh9XhsDdarVazzWYz2Ww2o81mrbfZrDU2m7XSZrOV2e32Yru9Mc9qtWZZrdY0i8WSWFlVFVFcXHqpsLDoeGFhyYGCggK/wsLijYWFhUsLCornFRSUTtTpikbqdLr+paWl7xYVFb1SVFTUTafTtS8oKGir0+lamkymZt6DxZtG5tMxA/D/n9unPIrIPSaTNCuurW2Vra/tmF5c+8KVjPI+P10rGRB4Vff1pvNZC5YeT908/0h68PR9186N3x0fNXpnfMZIv4T8ob7RFUO2R9UN9Y01D94WbRu0Lco1aHuke/C2SHXI9iht8I44z9AdcZ4J/hGywO+y+O0PlbIqq7g9mqiiicVkFrfbLarqEadLE5tTkwaLQ2pqTVJRUSlnTx2RYt11aTTWikdzyedDPpNeH/aRecuXy4GTZ6TCZBGDWySrvFFSixvlQnq97DyXI3P8o2T85lAZsuwnGbn6jIzfeFlG+pyWr9ZclMlbImTC5qsyYfNVGbPhikz3i5Zv/cJkdUiazN56RuZsOSkLt58Vn33nZdfZGDl4MVYuxqVJ7A2d5FeZpNqqic0jYhORlJQkeezhFtLikSdk9gIfWb9tv/To+bH06v2pNHvwcXm2yxvyVIdXpfWTL8k9zTvJe5+NlVFTFsj6gOPy7Ivve0ZPWeQJv16m+cfo1UHrLio9V0e53loVaX9rdai556orhl6rr1b0WRNW9OHG8Iz+myPjB/vGnRvtF3f4m4Opm787lr50w4Xsr/2v5gw7mVba52qW/pX0wtqOunJDG5NJmmWJ3MeURgD4n+W2jtrvROT3Op3uj3q9/k8Gg+F+EWkmIq3sdntbp9PZyeVydVUU5TWHw9HL6XT2d7lcg91u9zi32z1NUZSFiqIsVxRlk6qqfqqq7ldVNURV1bOqql5WFCVKUZR4RVFSFEW57na7s9xud67b7S5wu93Fbre7TFGUckVRKhVFqVYUpVZRlDpFUeoVRTEoimJUFKXBW6Z/UA23lNH73nrv59UoilKlKEqlqqp6t9td6na7i9xut87tducoipLpdrvT3G53kqIoMYqihCuKcsHlcp1yuVyHXC5XcGNj4zaTybTObDYvMZlMc00m02SLxTK6oaHhc7PZ/KHRaHzLbDa/bDAYnqupqWlfX1//WHV19cNGo/EB+evQrKYHmWwBAPDbuG3J410ico/OYLi/qKbmkezKhidSi2q6ReaUv3Y6ueyTQ3FFI7deyprtc/rm8oUhqQHf7ks6PGlXwpVxAYnxX/rHZo3YEV04bHt01eDtUfWDtkdaPt8SZhu0NdI1aGu4+/NtkeoX22O10b7Rnklbwz2Ltp6XJWuDpbKuQTQRcTlc0tBgEEVRRPVooqgeaTBZpK7GKBUl5bJy6Q8SFxUpRboiURWRr8bOkMFDJ8hnn4+Wjz4aLJ99MlimTJgqly6ESmlZldhUEYeINDhFdJWKXIjOkYjr5RKTXSXnkwrkxLUiORydI8FhNyToSobsOJcqaw+FyYnYPLmYViTRWeWSXtogOTV20dVbpdauSaMqYnN7pNGpiq6sWvIKKqSm2iBOt03CLp+SOdMnyohR4+XY6QhZuGyr9P1kpHTu9oY81raLPP3sG9Lmqb9I89bdpMVjL8iUeT4Sdi3b0/uTUZ55i37UMnW16pGIm8pH3x9yvbvsov2NVbGWXj7Rxnd/vFr17trIkg/XR2X12xCVPGBbzJVhfjEnJu1JDphzIHntqnNZs7dcyR5/OFb3ydnk4neic/XdUspq2hfV1DxiMkkz7/KMpr1mhDMA+B/mHwW1urq6P4tIM6vV+oh3r1oHl8v1nNvt/ouiKG8oivK+qqqfqKo6XFXVcZqmzdA0bb6iKCsURVmrqqqvqqq7VFU96A1sZ1RVvaiqariiKNGqqiaoqpqsaVq6pmk3NE3L0jQtR9O0fE3TCjRNK9I0rVjTtFJN08q8pf8nVeZ9fYn3vYWapuk0TcvTNC1b07SbmqZd1zQtTVXVa6qqximKEqmqaqiqqudUVT2pquphVVX3qarqryjKFkVRfBRF+cFut8+22WxTHQ7HaLvdPthms/VrbGzsbbfbX7XZbC9aLJZOJpPpKZvN1rqxsbGliPxaMON+CeC3d9vF/2+CWqHR+HhygbFLTFb1q2fTS/odTigY4h+aNX3dhYxFPxxP2zL7cErw1L3xZ8ftjg3/KiAmdVRAdPZQv8jSof7hVYO3RRoHb79qHuIbYR+0Ldr55dZI94jN0cq84ETtZHyxZlY0j1Nxe9JSk+X8+bNSUlYq9UaDFJeWiK64SAqLi2T/vn3y9uvvyPSpM8VktolT1aSixiZXI6/LyjW7ZMLkRTLwi4ky8PPx0u/jEfJ+30Hy2pvvyxs935P+H34qX40YI/369pdP+n8ui39YLoeOnRCTxSwBO3fJ/gNHJCb2muTkFkrQ3iNy+PgZiYy7JhcuX5W9B4/Kpm0BsmZDgMyeu1xmfLNYxo2ZIRMnzJKJk+fI8mUbpdFoE021yYWLR+WJNi2k/8dfyE8nw2XM5AUy9/u10rxVR+nSvbc8+0Jv6fpSX8+8xVs9QYeueEJjs7TEzEK1ulF1W+1uV1Zprd3nYGRjv5XnjW/7hNf0XBtT+sHasPzP1oWlDtgSFzNkR/zZUYGJh6YfSNky/2jKih/PZU33D80edTSxpN+5jLK34rKru2TqatoXFf01mLHXDAD+vdwhrN3VtFXBuyzvwaYJkN7OWgeXy/WciLykKMpriqL0UVW1n6qqX6iqOkJV1Qmapk3VNG2upmmLvMFtjaIoWzRN26Fp2m5N0/ZqmnZYREI8Hs9Jb4i7oKrqZVVVw7xhLkpRlGiPxxPj8Xhi/0HFeCtKRCI9Hs9Vj8cTqqrqJVVVz6uqelpV1ROaph3VNO2gpmnBmqYFapq2TVGUjYqirFYUZamIfKdp2ixN0yarqjpGVdUhqqoOcDqd74vIO263+xURecHpdHYSkXZ2u/0x79LQZt7uY9PesluXMLKMEcC/njtc9O/Orav7s15vbq4rN7RJ1dd2SNBVdr+aXdkz5FrBgD0xeaM2X8mcvers9eXfHUvzm3Uo6cCUPQkXxgfFRI4KiEz/cmdEznC/mNLhvhGVQ7aHGwZtDTeP3BppG+mX5PhmV5x77YEwpbC6Xm10OjSn2+VpaLR7TFaHx2yzi8Fskes3syQsOlo2bvWVH5aslFnfzpdrqWlisjeKTbVJo+oSu4gY7JoUVTXI5ehkWbklQOatWC+Dx0yXfp+PlnfeHyADh4+VcVNmyas935eBw8fKhGlzxNDYKKPGj5dPBg6WT78YKv36D5at24Nk7NhvpH//ITJ06DgZMWKSzJm9XBYuWi8/LN0qP/oEyP59Z+TM6Si5cbNEKios4nZ5xGI1ypJl86T7i10kMPCwnDgZJTuCTsm4aYukQ5cenrffH+wZPfE7zzdzfLQp365UPxn8tfLN/B/d85eud+46cNJWWlFj6fJqb8PvO/Sq6bfifGm/TfH5766PTR+w6Wr80M0RF74MuBYyaV+K36wj6WtWnMuavflSzoS98SUDziWXvns1u7J7SnH9Mxnlhja6qqqWubl1f+ZsFgD493anrpq3A3S3eM9UE5EHGxsbW9psttYOh+MJb1jr7Ha7X/SGtbcVRflAVdX+IjLIG9jGaZo2WdO0md7QtlhRlGXeDtU6RVE2a5q2TdM0f29wCvYGuAOaph3SNO2wt478SjX9/UFN0/aLyB5N04I0TQvwBsKt3iC2RlGUVZqm/aBp2kJN02ZrmvaNiEwUka9UVR2qqupAVVX7ici7IvKm2+1+xeVydXO5XM96Q1lbq9X6iMViadHUKdPr9X/yPrwkmAH4n+X2oKbT6f6YJXKfySTNSkrqWmeUmJ5KLarpFpFd3uNMmv7DQwlFg/3D8qZsvnBz/tIT6esWHkv2m7bvWsi0PdfOTdgdGzM+MCZlTEBMzsgdUUUjA+IqRwbG184Oim7o0mu45dGn/mJ/5e1PHQ893tXV7dW+yvxlG9QdQUfVgOAQbdOOPZ5FyzZ5lqza5lmzfpcsX71VVq/bJmcuR4jZ5Rab5hGHiFQ1WCSrsEQKSmqktM4muZVmya1slMxig+gqTJJ4o0DCE67L8fPhEnI2VM6Gxkp8apbsPXJCzoaGy8HjZ+TIySuyLeCwbNy+T3zWB8qOXSGy/+hlCT54Xo6fCpPUjAJJTsuWzByd5BeVSoOtURpsZjE6bFJYUSP1RkW2bN7nGTdpocd310nP5G+Xa1/PWqalZJaq+hqbcjNH76qosjiHjpxkb/ZI+8anu77V0OqJl+pfeLV/5er1QSVfTvsh5+PJy66P2xIWM2zT1Stf7UoPGR+UGjRzf8q6+SFpS9acy56yI0w38khCyYfnb5T1jM6t6ZZeWNsxu6SudU65pUWW98ZDMAOA/11uCWt/11lrCmzepZAPNA0Zsdvtj3lDW0cRecblcnVzu93dvcHtLUVR+jSFN1VVB3g7VMNVVR2tqupYTdMmaZo2RdO0b7xhbrY30M3TNG3+P6l5mqbN8XbAZmiaNt3bCZvg7YaNUlV1mDc0fqqq6keKorynKEovRVHeaOqOuVyuLk6n82mn09nebre3tdlsjzY2NrY0m83NvQH1ToHsdwQyAP9j3eFi/4efL3SG+8vLLS0KKgxts/S1HRKy67pHZBnfPJ5a2v9AfOFw39CcaRvOZy1Y8lPa+gXHUv1nHko6Om1vwtlJu+OjJgZfS/pyZ2zWhL2Juo0XMvUvfTCq6u6HnjOMmb7C9OGgqdZnXnrP/qcW7Zx33dfG1abdC0qH53ooz77QR+3c/T2tR88BWvfXPvJ88OkIz/jp8zzrtgZ4jpy8KCmZOkm+USAnL0TK8bOhsjXwgMxZtlYmzFokKzb4yezFK2XmgmUybfYimTxjvixc5iNB+4+K2a7K/iPH5fiZM3Lo2AnZsGWnrNu6U5at3SILV6yXwP0nJOVmsZTWWKXWVCtWl03cHk3sikfcHhGrS/NYVY/H7vF4CitMniEjZ2ntnu6jtWj9rPpYu+7qI0+8qLzwWl93t1f6OBNTsu1Wh2a1WBXzwMGjDfc9+GhNv89G6X13/1T08ttfZA0bMyftjX4jozr3GnZppt+lo/P2JwVNP5C2fuGx9KU+Z29M23o156tDMaX9T6SW947Oruyeml//bGaFoW1BdfXDOp3h/jtNZ+TGAwD/+9x27/5lXP+tYc275+oBEWnm3YfVym63t/EGtvZOp/Npl8vV2eVydRORl9xu9yve/Ww9FUXprSjKe6qqfqiq6kfeADVAVdUvvIFqsDfM/VoN9tYXqqoOFJHPvHvk+imK8oE3GPYSkTcVRXnN7Xa/7Ha7u7tcrq4ul+s5b6Bsd0sge1hEHhKRBw0Gw/3V1dX33hLKbt9Txv0RwL+HX3kqd3dTRy27pK51dlHDE0k6Q+fY3Mq/XEwr7XM8qaj/nqi8Uf5h2VPWXc5ctPrsDZ8lP6X5zzucvG/GoeTT4zacuNLp7cHx81f5pX454bvsXp+MKeg7dHLZR0MnV06dt6LuqynzjP0HjbV0f7WvtdUTL9pbtOnqeL33F665329y55ebFLPLo/gHH1XHfT1XPXLiiuazIUB7/e1PtK4vve1p0/4FT6snu3ruf/gpz0OPdfS0aNXe06rNM56HWnXw/McfmnnaPtHZ86d7H/G0efw5T/OWj3t+94d7Pb/7w72e3//xfs//c9e9nmdfeNXzeq8PPUtWbvas+HGHZ/lqf8/qDXs8voGntcA9Ydp2vwvaqjXH1ekzt6ifDZqtfPzFVGXa3LXuj4Z+7Xr8uTedD7buYO/98VBr3wFfWTr/pU/D2u176i5FXqsuqqgrqzJYiirqLNk388uvF5Qb4+sb1fC+g8ae3rzrxOHJc3707ztwwoZpKwIXLQ8Onekbmjdqd3j+wGNJpX0uZJT3SNJVdU7R1bT/uWNWfnvHjGAGAPg7dwhsTcshfwltt+xfawpuD1oslhZN4c27n62NiDzucDieEpF2Tqezo3dy5LPeMNfVu7ywm9vtfv4flfd1XV0uVxfv/rhnvJ2wDiLSTkSetNvtbe12+2M2m621d+/YQ2azubmIPNDUHfOGzbtvCWNNK0j+pkvGfRHAv63bLvK/v7Wjptebm+eW1T2aW1L9VHJBdZe4vKqXL6aV9jmVVNQ/OEb35c6I3Mmbzmcu8DmTsXLpsdTtY5bsDur21mfHX+/16bkTF6Ijk7KKE05ejb1+4nJc9urNAYVff7uw9P2Phla+9Pr7NR27vG5o27F7w/OvfWDp/clw69gpc23zl/g4Nu0IcuprLC6Tw+OuNDjcheVGJSOnXOn57hfqx5+PVYeNnqEOGzlV/Xb+au2bb1dq385ZrbVs9azWt99w7aGWT2t/uPsR7Xd3Ndd+d1cz7Xd/eFC76+5m2u//+KDW/KEntd//oYXa9fme6qLFG9UDB6+oWwPOK3MX+ytLVu11T56xzj18zPeu2fO3O9dvPuaYOnO17YNPxls7vvC+pV23d02LVm007NhzrO7Y2ejKvUcv6Gcv+rFwS+DB3Fqbcr3OqiTp9HWR1zJ1lxKu5x4v0dfti03N3h6enL8m6NDFBUd+ujp99fbDX67wP/b5yfjSPhfTyl+Ly67uklpQ2yG3rO5RXVVjS53OcH/KXycz/s36+d/6/wgA4F/Tbcsgb33o+jeBzRt27haRe6qrq++tq6v7szcQPSAizcxmc/Om8ObtXrWy2WytbTbbo3a7/TG73d7mP1GPecPXo00BrLGx8eHGxsaWFoulhTeIPSgiD3iXZt4nIvd4H0reHsju2CHjngjgf5U7ddR0Ot0fq6ur79XpDPfrqqpa5pbVPZpZVtM+rbTqueisqleu3ijreSa19OOjsbrB+0JvTlix7ciMUeNnfT9sxGSfb+Ys9Y1MztpdVGUKyS2qOz1rwfKw0ROmR0+eOj9p9Zod6VfCErOvXc/PL6o0FxdXmcvikjIrdcXV1edCo+rOXok2XIm61nD6cpRpxdrtlnkLVzQOHzXF+tXEObbBI7+xfzp4sv3dj0Y6Ph8+3fHeR6MdTzz9muP5Vz90dHzuLUefDwc7O7/4tqPrS70cXV96x/FGr/6ON3p94hg+erpjwZL19uU+frbDP121nb2YZD1w7GpjaFSGJaewzhyfnN2Qm6836CsNdXanpyYzs7By7/7T5UOHfVv8zrtfFgwbPTN7yUrfGwOHTE5q//TLcQOGjgvbFnjo/HdL1oYsWrZm3xcjRvkO/nLs+qTr2d8bLPY5qqpOMDtcI86HXfv48LGLfc5ein7lYnRqtxRdTfvMAkNbXVVVy1sOmW6aOMUaegDA/7FfCW63h7dbO263hri79Xr9n7zB6Z6mUPefqabX3/L+u3U63R9vC1933fL9b+2M/cftP/dv/XsEgH8JvxbUMqqr7zUa5QFdVVXL7JK61jdKTe1SiuufSSyoeyn6ZsUbJyKy+m7Z/dOA75dvGLVi9eZJU+esmDtp9solI8fNXPfhZ6O29R84Ovi7RT6H/PwPngoNS744ddp3Eb3eGxDbtfvbyW/2+TT91R7vZm3aEphbWmUqqDG5iww2T1mB3lAeFZ9ZGbT/cPXBkBO1Zy7F1F2OTKs/fj7e8OOW/caJs1Y2DBk3t2HQqBmmwaNnmr6a9J1p9aYA01eTZ5vGT5tvGjXxW9P4afMaFixf37A96Igx6WaRQV/vqK9p9NTVmNUas9NT3ejwVDpdnnJro6vMbnWV3LiRX5CYeD3P6dCybFZ3xuXQmOQhIyYkzF28KWLZKv8r48bPPzVkyMSQyTO+C96284CfyaqscyjKcruizLU7ndPcqjrK7lIHKU5rX0VR3q4zuV9KTs7ucuNGabsMna6NrqqxZXFx8YMZ3vX0LGUEAPx3+weB7fbgdmt4awpw/5W6PYDdHsT+Loxx/wOA/4TbLuRNF+q7ReQeo1Ee0Ov1zUtK6loXFhofj7l2/enLEcldLl2Nf+XYqUtvhUUk9T109Oxnm3cEjVz4/arxC5f8OGPOvGXzv1u4avnkafPXTJj87bbRY6cGfPnV1H1jxk8/8sPyNSczbuafNVjVKzd1+qtnL0VFL1qxIW6pz5akBctXpEyc8W36N3MXZew9fPbmqUvR2X7BR3O3BR7J27RjT/7GbXvy5363Mn/2vGX5FYbG/JETpuePnfld/shJs/Onz1mWt3DZhrztgUdyrkSnZ5+6FHfzXFjijStRaenh8SmpYdHXkq5ExCX4BQZHT5o8LWLVms1XsrILLtTV1J30Wbky5IMPPt7Xt9/nu3x3Hd623e/A+q/Gzlw+ecqcRXPnLpuxbNnmSRu2BY4M2hvyhcFs7etwKL3qzeZXGhoanrdYLE+LyJN1dbbWeXmVD8mvH5rJTQkA8Ju7U2D6v1W/9b8NAP6t3OFp2++bumriPfTaZJJmGRkFD1+/nvfYjRs32iUnZ3SKS0p/4dKl6Ff2Hz75zpUrce/v3n1gwIYNvkOWL98wdtmytV9/t3DZ7IWLfRYsWbpm+XeLV/y4fpPv5tDwGN86k2PXzbziPXsPnTwUfPBEyKWwuJNHT104s3Ld5guLlvtcXrD0x7AZ85aFT5m1OGrM17OiR46dHjNkxKTYGbMWx27cvDM2+WZe7K6DP8UGHvwp9tSVmNjDJ0Njgg6dij4YcjHy6Kmw8ANHz4cePH7h8v4jZy8EHTl59tBPZ08eCjl1/OSZi4eSUzP3pVzP3lVXZ/Jzu52bDx/ev27KlG+Wfzlm0mKfjX6zN/sGTduwaefYlSvXj9iyZeeAwOCj/Y6dDH3nxImLrxUXl7/Q2Nj4nMlkaldRUdG2urr6YbPZ3Fyn+3n61K9MnuLGBQAAAOC/7k5LIMU7WCQjo/penU53v8lkalaQUfBwWlruo8U5xU/q9foO4eGxna9ciXjhzJkLPc6du/RWyInT7x0O+emjQ4dODty378jQ06cvjrbY3OPNNudUfbVhxsmzV+YFBh9c6Ld7/w9bdwStWLfJ/8cf1/mum7do6abvvl+5ZfrsBdunTp+zY+533/vNmb/Yf/78xf7bt+/0T8vM8V+31c9/s1+w/ybfIP8dgQf8zl6K3BGbcGNbwO7DWwJ2Hdy4xTdo3RbfYJ8tAXtWBh889sO+Y6cXx11Ln3c9K2/Wzey8qcWl5ZPcDutoo7FmxJ49ewbu3rP/k5CQ0+8FBu9/JzQ0okd4eMxL4eGxnWNjkzulp6c/mZGha1NQUPCwxWJpodPp7nRGC6OAAQAAAPz3uUNQ+6Wzptfr/5SVlXWfTqe7PytL31yn07XMTct9NDMzs21KSkr75OSMTvHxKV3j45NfjIhI7BEaGvpmeXl1b6vV+r7RYvu4sr7hs/CohMEHDocMD9p7aPTOXYfHbvUNmrRx284pm7cGfLNh0/aZm7f6zV7ls27uj2s3zVu3bvP8nTuD5585c2b+9ZvZ8xevWDV/w3b/+dv9g+dv8w2a993iFXN37zk0+8ixMzODDxybviv40JQ9B0Mm7jv807jTF8NGh0UljEjNzB2ck1/yeX5h6cfFxcV9FcXR2+Fo7BkaGtrjSkTEX0KjorpGRSU8m5KS2T4tLe2JtLS0RzMzix7JytI3NxqND2RlZd0nIvfQKQMAAADwm7rDxuO/O49FRO7Jysq6z2g0PmAymZrl5eU9VFRU9Ehubu6jBZkFbU0m01NOp7ODxWJ5xmAwdL6Zl/d8VHz8i5FxSS9HxCb2CI9OeCMy8tpbl8Iie529eKVPSMiJ944dO/n++UthfXftCu574sTpvmFhEX0zMjL67t9/qK+vf3BfX//gvkFBBz84cuzk+5cvh713+PDJPocPH3vn9OnzPX/66fQbZy6E9oiMS3o5IyO7e1F5+fNl1dVdKivrn9Hr9R0dDtNTIvJ4bm7uo1lZxa3y8vIe0uv1zY1GeSA3N/fP8tfRwHcaCcy6ewAAAAC/vV8Ja78shWzqsDUdnqnT6e4vLi5+0GKxtBCRh2qs1kfq6upa68rL2xQWFj6ekZH71I0bN9olJiZ2DI+N7RQVlfDspUvhnUNDQ7tevBjWLSwsult4ePjzaWk3n8/Ly3s+Ly/v+fDw8OcvXfq5ml4TFxfXJSnpeuf8/Pxnk5MzOiUmJnZMSUlpn5CQ/mR2dtET5eXlberq6h6tqal5pKqqqqX352mm0+nuz83N/XNGxs9TF//BOS2EMgAAAAD/2u4wzenWkb6/jPBtOiel6eyU6urqe7Oysu7Lzc39s06nu99oND5QXFz8oF6vb56TU94iLy/voby8vId0Ol1LnU7Xsqqq6pdq+ppOp2vZ9LqcnJwW5eXlLUwmU7Pi4uIHjUbjA03hKysr676m81v+yYGZHJoJAAAA4N/HPwls/58Pz8zIqL43I+NvD8rMyMj4m0pJSfm7gzNvC2G3H575D89r+a1/hwAAAADw3+4O4e2fHab5X6nbP4/DMgEAAADgP+tXghuHZwIAAAAAAAAAAAAAAAAAAAAAAAAAAAAAAAAAAAAAAAAAAAAAAAAAAAAAAAAAAAAAAAAAAAAAAAAAAAAAAAAAAAAAAAAAAAAAAAAAAAAAAAAAAAAAAAAAAAAAAAAAAAAAAAAAAAAAAAAAAAAAAAAAAAAWgpm7AAAD3klEQVQAAAAAAAAAAAAAAAAAAAAAAAAAAAAAAAAAAAAAAAAAAAAAAAAAAAAAAAAAAAAAAAAAAAAAAAAAAAAAAAAAAAAAAAAAAAAAAAAAAAAAAAAAAAAAAAAAAAAAAAAAAAAAAAAAAAAAAAAAAAAAAAAAAAAAAAAAAAAAAAAAAAAAAAAAAAAAAAAAAAAAAAAAAAAAAAAAAAAAAAAAAAAAAAAAAAAAAAAAAAAAAAAAAAAAAAAAAAAAAAAAAAAAAAAAAAAAAAAAAAAAAAAAAAAAAAAAAAAAAAAAAAAAAAAAAAAAAAAAAAAAAAAAAAAAAAAAAAAAAAAAAAAAAAAAAAAAAAAAAAAAAAAAAAAAAAAAAAAAAAAAAAAAAAAAAAAAAAAAAAAAAAAAAAAAAAAAAAAAAAAAAAAAAAAAAAAAAAAAAAAAAAAAAAAAAAAAAAAAAAAAAAAAAAAAAAAAAAAAAAAAAAAAAAAAAAAAAAAAAAAAAAAAAAAAAAAAAAAAAAAAAAAAAAAAAAAAAAAAAAAAAAAAAAAAAAAAAAAAAAAAAAAAAAAAAAAAAAAAAAAAAAAAAAAAAAAAAAAAAAAAAAAAAAAAAAAAAAAAAAAAAAAAAAAAAAAAAAAAAAAAAAAAAAAAAAAAAAAAAAAAAAAAAAAAAAAAAAAAAAAAAAAAAAAAAAAAAAAAAAAAAAAAAAAAAAAAAAAAAAAAAAAAAAAAAAAAAAAAAAAAAAAAAAAAAAAAAAAAAAAAAAAAAAAAAAAAAAAAAAAAAAAAAAAAAAAAAAAAAAAAAAAAAAAAAAAAAAAAAAAAAAAAAAAAAAAAAAAAAAAAAAAAAAAAAAAAAAAAAAAAAAAAAAAAAAAAAAAAAAAAAAAAAAAAAAAAAAAAAAAAAAAAAAAAAAAAAAAAAAAAAAAAAAAAAAAAAAAAAAAAAAAAAAAAAAAAAAAAAAAAAAAAAAAAAAAAAAAAAAAAAAAAAAAAAAAAAAAAAAAAAAAAAAAAAAAAAAAAAAAAAAAAAAAAAAAAAAAAAAAAAAAAAAAAAAAAAAAAAAAAAAAAAAAAAAAAAAAAAAAAAAAAAAAAAAAAAAAAAAAAAAAAAAAAAAAAAAAAAAAAAAAAAAAAAAAAAAAAAAAAAAAAAAAAAAAAAAAAAAAAAAAAAAAAAAAAAAAAAAAAAAAAAAAAAAAAAAAAAAAAAAAAAAAAAAAAAAAAAAAAAAAAAAAAAAAAAAAAAAAAAAAAAAAAAAAAAAAAAAAAAAAAAAAAAAAAAAAAAAAAAAAAAAAAAAAAAAAAAAAAAAAAAAAAAAAAAAAAAAAAAAAAAADA/w7/L74WgLH6cfEcAAAAAElFTkSuQmCC\" width=\"799.3333333333334\">"
      ],
      "text/plain": [
       "<IPython.core.display.HTML object>"
      ]
     },
     "metadata": {},
     "output_type": "display_data"
    },
    {
     "data": {
      "application/vnd.jupyter.widget-view+json": {
       "model_id": "31983b7410dc4af0910fb9fc7fbcb11c",
       "version_major": 2,
       "version_minor": 0
      },
      "text/html": [
       "<p>Failed to display Jupyter Widget of type <code>Button</code>.</p>\n",
       "<p>\n",
       "  If you're reading this message in the Jupyter Notebook or JupyterLab Notebook, it may mean\n",
       "  that the widgets JavaScript is still loading. If this message persists, it\n",
       "  likely means that the widgets JavaScript library is either not installed or\n",
       "  not enabled. See the <a href=\"https://ipywidgets.readthedocs.io/en/stable/user_install.html\">Jupyter\n",
       "  Widgets Documentation</a> for setup instructions.\n",
       "</p>\n",
       "<p>\n",
       "  If you're reading this message in another frontend (for example, a static\n",
       "  rendering on GitHub or <a href=\"https://nbviewer.jupyter.org/\">NBViewer</a>),\n",
       "  it may mean that your frontend doesn't currently support widgets.\n",
       "</p>\n"
      ],
      "text/plain": [
       "Button(button_style='info', description='Play Memory Game', layout=Layout(height='60px', width='30%'), style=ButtonStyle())"
      ]
     },
     "metadata": {},
     "output_type": "display_data"
    },
    {
     "data": {
      "application/vnd.jupyter.widget-view+json": {
       "model_id": "4077a78267924a75aa4d5222d3882ad3",
       "version_major": 2,
       "version_minor": 0
      },
      "text/html": [
       "<p>Failed to display Jupyter Widget of type <code>RadioButtons</code>.</p>\n",
       "<p>\n",
       "  If you're reading this message in the Jupyter Notebook or JupyterLab Notebook, it may mean\n",
       "  that the widgets JavaScript is still loading. If this message persists, it\n",
       "  likely means that the widgets JavaScript library is either not installed or\n",
       "  not enabled. See the <a href=\"https://ipywidgets.readthedocs.io/en/stable/user_install.html\">Jupyter\n",
       "  Widgets Documentation</a> for setup instructions.\n",
       "</p>\n",
       "<p>\n",
       "  If you're reading this message in another frontend (for example, a static\n",
       "  rendering on GitHub or <a href=\"https://nbviewer.jupyter.org/\">NBViewer</a>),\n",
       "  it may mean that your frontend doesn't currently support widgets.\n",
       "</p>\n"
      ],
      "text/plain": [
       "RadioButtons(description='1)', options=('Melting', 'Freezing', 'Condensation', 'Vaporization', 'Deposition', 'Sublimation'), value=None)"
      ]
     },
     "metadata": {},
     "output_type": "display_data"
    },
    {
     "data": {
      "application/vnd.jupyter.widget-view+json": {
       "model_id": "931d07e2e02d4407be1522cf3e0133d3",
       "version_major": 2,
       "version_minor": 0
      },
      "text/html": [
       "<p>Failed to display Jupyter Widget of type <code>RadioButtons</code>.</p>\n",
       "<p>\n",
       "  If you're reading this message in the Jupyter Notebook or JupyterLab Notebook, it may mean\n",
       "  that the widgets JavaScript is still loading. If this message persists, it\n",
       "  likely means that the widgets JavaScript library is either not installed or\n",
       "  not enabled. See the <a href=\"https://ipywidgets.readthedocs.io/en/stable/user_install.html\">Jupyter\n",
       "  Widgets Documentation</a> for setup instructions.\n",
       "</p>\n",
       "<p>\n",
       "  If you're reading this message in another frontend (for example, a static\n",
       "  rendering on GitHub or <a href=\"https://nbviewer.jupyter.org/\">NBViewer</a>),\n",
       "  it may mean that your frontend doesn't currently support widgets.\n",
       "</p>\n"
      ],
      "text/plain": [
       "RadioButtons(description='2)', options=('Melting', 'Freezing', 'Condensation', 'Vaporization', 'Deposition', 'Sublimation'), value=None)"
      ]
     },
     "metadata": {},
     "output_type": "display_data"
    },
    {
     "data": {
      "application/vnd.jupyter.widget-view+json": {
       "model_id": "bd824068b4ef419eb1f497ad53ed1a1b",
       "version_major": 2,
       "version_minor": 0
      },
      "text/html": [
       "<p>Failed to display Jupyter Widget of type <code>RadioButtons</code>.</p>\n",
       "<p>\n",
       "  If you're reading this message in the Jupyter Notebook or JupyterLab Notebook, it may mean\n",
       "  that the widgets JavaScript is still loading. If this message persists, it\n",
       "  likely means that the widgets JavaScript library is either not installed or\n",
       "  not enabled. See the <a href=\"https://ipywidgets.readthedocs.io/en/stable/user_install.html\">Jupyter\n",
       "  Widgets Documentation</a> for setup instructions.\n",
       "</p>\n",
       "<p>\n",
       "  If you're reading this message in another frontend (for example, a static\n",
       "  rendering on GitHub or <a href=\"https://nbviewer.jupyter.org/\">NBViewer</a>),\n",
       "  it may mean that your frontend doesn't currently support widgets.\n",
       "</p>\n"
      ],
      "text/plain": [
       "RadioButtons(description='3)', options=('Melting', 'Freezing', 'Condensation', 'Vaporization', 'Deposition', 'Sublimation'), value=None)"
      ]
     },
     "metadata": {},
     "output_type": "display_data"
    },
    {
     "data": {
      "application/vnd.jupyter.widget-view+json": {
       "model_id": "af77b017256945e78c100c591d103a31",
       "version_major": 2,
       "version_minor": 0
      },
      "text/html": [
       "<p>Failed to display Jupyter Widget of type <code>RadioButtons</code>.</p>\n",
       "<p>\n",
       "  If you're reading this message in the Jupyter Notebook or JupyterLab Notebook, it may mean\n",
       "  that the widgets JavaScript is still loading. If this message persists, it\n",
       "  likely means that the widgets JavaScript library is either not installed or\n",
       "  not enabled. See the <a href=\"https://ipywidgets.readthedocs.io/en/stable/user_install.html\">Jupyter\n",
       "  Widgets Documentation</a> for setup instructions.\n",
       "</p>\n",
       "<p>\n",
       "  If you're reading this message in another frontend (for example, a static\n",
       "  rendering on GitHub or <a href=\"https://nbviewer.jupyter.org/\">NBViewer</a>),\n",
       "  it may mean that your frontend doesn't currently support widgets.\n",
       "</p>\n"
      ],
      "text/plain": [
       "RadioButtons(description='4)', options=('Melting', 'Freezing', 'Condensation', 'Vaporization', 'Deposition', 'Sublimation'), value=None)"
      ]
     },
     "metadata": {},
     "output_type": "display_data"
    },
    {
     "data": {
      "application/vnd.jupyter.widget-view+json": {
       "model_id": "53cf4eb49449458faad942cb44e977d5",
       "version_major": 2,
       "version_minor": 0
      },
      "text/html": [
       "<p>Failed to display Jupyter Widget of type <code>RadioButtons</code>.</p>\n",
       "<p>\n",
       "  If you're reading this message in the Jupyter Notebook or JupyterLab Notebook, it may mean\n",
       "  that the widgets JavaScript is still loading. If this message persists, it\n",
       "  likely means that the widgets JavaScript library is either not installed or\n",
       "  not enabled. See the <a href=\"https://ipywidgets.readthedocs.io/en/stable/user_install.html\">Jupyter\n",
       "  Widgets Documentation</a> for setup instructions.\n",
       "</p>\n",
       "<p>\n",
       "  If you're reading this message in another frontend (for example, a static\n",
       "  rendering on GitHub or <a href=\"https://nbviewer.jupyter.org/\">NBViewer</a>),\n",
       "  it may mean that your frontend doesn't currently support widgets.\n",
       "</p>\n"
      ],
      "text/plain": [
       "RadioButtons(description='5)', options=('Melting', 'Freezing', 'Condensation', 'Vaporization', 'Deposition', 'Sublimation'), value=None)"
      ]
     },
     "metadata": {},
     "output_type": "display_data"
    },
    {
     "data": {
      "application/vnd.jupyter.widget-view+json": {
       "model_id": "a2c10ddc9721488c9f177a0695c444d4",
       "version_major": 2,
       "version_minor": 0
      },
      "text/html": [
       "<p>Failed to display Jupyter Widget of type <code>RadioButtons</code>.</p>\n",
       "<p>\n",
       "  If you're reading this message in the Jupyter Notebook or JupyterLab Notebook, it may mean\n",
       "  that the widgets JavaScript is still loading. If this message persists, it\n",
       "  likely means that the widgets JavaScript library is either not installed or\n",
       "  not enabled. See the <a href=\"https://ipywidgets.readthedocs.io/en/stable/user_install.html\">Jupyter\n",
       "  Widgets Documentation</a> for setup instructions.\n",
       "</p>\n",
       "<p>\n",
       "  If you're reading this message in another frontend (for example, a static\n",
       "  rendering on GitHub or <a href=\"https://nbviewer.jupyter.org/\">NBViewer</a>),\n",
       "  it may mean that your frontend doesn't currently support widgets.\n",
       "</p>\n"
      ],
      "text/plain": [
       "RadioButtons(description='6)', options=('Melting', 'Freezing', 'Condensation', 'Vaporization', 'Deposition', 'Sublimation'), value=None)"
      ]
     },
     "metadata": {},
     "output_type": "display_data"
    },
    {
     "data": {
      "application/vnd.jupyter.widget-view+json": {
       "model_id": "bed3afd779ca42d7b0dc93b1add971ef",
       "version_major": 2,
       "version_minor": 0
      },
      "text/html": [
       "<p>Failed to display Jupyter Widget of type <code>Button</code>.</p>\n",
       "<p>\n",
       "  If you're reading this message in the Jupyter Notebook or JupyterLab Notebook, it may mean\n",
       "  that the widgets JavaScript is still loading. If this message persists, it\n",
       "  likely means that the widgets JavaScript library is either not installed or\n",
       "  not enabled. See the <a href=\"https://ipywidgets.readthedocs.io/en/stable/user_install.html\">Jupyter\n",
       "  Widgets Documentation</a> for setup instructions.\n",
       "</p>\n",
       "<p>\n",
       "  If you're reading this message in another frontend (for example, a static\n",
       "  rendering on GitHub or <a href=\"https://nbviewer.jupyter.org/\">NBViewer</a>),\n",
       "  it may mean that your frontend doesn't currently support widgets.\n",
       "</p>\n"
      ],
      "text/plain": [
       "Button(description='Check your answers', style=ButtonStyle())"
      ]
     },
     "metadata": {},
     "output_type": "display_data"
    }
   ],
   "source": [
    "%matplotlib notebook\n",
    "\n",
    "#Memory game for state transitions\n",
    "import random\n",
    "\n",
    "x = [470,550,810,810,1100,1180]\n",
    "y = [550,550,835,905,550,550]\n",
    "\n",
    "img = plt.imread(\"images/changes_of_state.png\")\n",
    "fig, ax = plt.subplots(figsize = (8,8), num = 'Changes of State of Water')\n",
    "ax.imshow(img)\n",
    "\n",
    "\n",
    "annot = ax.annotate(\"\", xy=(0,0), xytext=(30,30),textcoords=\"offset points\",\n",
    "                    bbox=dict(boxstyle=\"round\", fc=\"w\"),\n",
    "                    arrowprops=dict(arrowstyle=\"->\"))\n",
    "annot.set_visible(False)\n",
    "\n",
    "\n",
    "names = ['Melting','Freezing','Condensation','Vaporization','Deposition','Sublimation']\n",
    "\n",
    "norm = plt.Normalize(1,4)\n",
    "cmap = plt.cm.RdYlGn\n",
    "sc = plt.scatter(x,y,c = 'k', marker = 's', alpha = 0.7, s = 250)\n",
    "\n",
    "annot = ax.annotate(\"\", xy=(0,0), xytext=(30,30),textcoords=\"offset points\",\n",
    "                    bbox=dict(boxstyle=\"round\", fc=\"w\"),\n",
    "                    arrowprops=dict(arrowstyle=\"->\"))\n",
    "annot.set_visible(False)\n",
    "\n",
    "def update_annot(ind):\n",
    "\n",
    "    pos = sc.get_offsets()[ind[\"ind\"][0]]\n",
    "    annot.xy = pos\n",
    "    text = \"{}\".format(\" \".join([names[n] for n in ind[\"ind\"]]))\n",
    "    annot.set_text(text)\n",
    "    annot.get_bbox_patch().set_alpha(1)\n",
    "\n",
    "\n",
    "def hover(event):\n",
    "    vis = annot.get_visible()\n",
    "    if event.inaxes == ax:\n",
    "        cont, ind = sc.contains(event)\n",
    "        if cont:\n",
    "            update_annot(ind)\n",
    "            annot.set_visible(True)\n",
    "            fig.canvas.draw_idle()\n",
    "        else:\n",
    "            if vis:\n",
    "                annot.set_visible(False)\n",
    "                fig.canvas.draw_idle()\n",
    "\n",
    "fig.canvas.mpl_connect(\"motion_notify_event\", hover)\n",
    "\n",
    "fig.patch.set_visible(False)\n",
    "ax.axis('off')\n",
    "plt.show()\n",
    "\n",
    "memgame = widgets.Button(description= \"Play Memory Game\", \n",
    "                         layout = Layout(width='30%', height='60px'),\n",
    "                         button_style = 'info'\n",
    "                        )\n",
    "reset = widgets.Button(description=\"Reset Game\", \n",
    "                       layout = Layout(width='30%', height='60px'),\n",
    "                       button_style = 'info'\n",
    "                      )\n",
    "\n",
    "display(memgame)\n",
    "\n",
    "def button_onclick(b):\n",
    "    annot.remove()\n",
    "    x = [470,550,810,810,1100,1180]\n",
    "    y = [550,550,835,905,550,550]\n",
    "    ax.axis('off')\n",
    "    plt.scatter(x,y,c = 'k', marker = 's', alpha = 1, s = 250 )\n",
    "    a = [1,2,3,4,5,6]\n",
    "    corr = 10  #small correction on number\n",
    "    random.shuffle(a)\n",
    "    for i,j,k in zip(x,y,a):\n",
    "        ax.annotate(str(k), xy = (i-corr,j+corr), color = 'w')\n",
    "        \n",
    "    a1 = widgets.RadioButtons(\n",
    "    options=['Melting','Freezing','Condensation','Vaporization','Deposition','Sublimation'],\n",
    "    description = '1)',\n",
    "    value = None,\n",
    "    disabled=False)\n",
    "    a2 = widgets.RadioButtons(\n",
    "    options=['Melting','Freezing','Condensation','Vaporization','Deposition','Sublimation'],\n",
    "    description = '2)',\n",
    "    value = None,\n",
    "    disabled=False)\n",
    "    a3 = widgets.RadioButtons(\n",
    "    options=['Melting','Freezing','Condensation','Vaporization','Deposition','Sublimation'],\n",
    "    description = '3)',\n",
    "    value = None,\n",
    "    disabled=False)\n",
    "    a4 = widgets.RadioButtons(\n",
    "    options=['Melting','Freezing','Condensation','Vaporization','Deposition','Sublimation'],\n",
    "    description = '4)',\n",
    "    value = None,\n",
    "    disabled=False)\n",
    "    a5 = widgets.RadioButtons(\n",
    "    options=['Melting','Freezing','Condensation','Vaporization','Deposition','Sublimation'],\n",
    "    description = '5)',\n",
    "    value = None,\n",
    "    disabled=False)\n",
    "    a6 = widgets.RadioButtons(\n",
    "    options=['Melting','Freezing','Condensation','Vaporization','Deposition','Sublimation'],\n",
    "    description = '6)',\n",
    "    value = None,\n",
    "    disabled=False)\n",
    "    display(a1,a2,a3,a4,a5,a6)\n",
    "    button_check = widgets.Button(description=\"Check your answers\")\n",
    "    display(button_check)\n",
    "    \n",
    "    def check_button(x):\n",
    "        if a1.value == names[a.index(1)] and a2.value == names[a.index(2)] and a3.value == names[a.index(3)] \\\n",
    "        and a4.value == names[a.index(4)] and a5.value == names[a.index(5)] and a6.value == names[a.index(6)]:\n",
    "            display(Markdown(\"Correct!\"))\n",
    "            display(play_again)\n",
    "        else:   \n",
    "            display(Latex(\"Those aren't quite correct, please try again.\"))\n",
    "    button_check.on_click(check_button)\n",
    "                    \n",
    "        \n",
    "memgame.on_click(button_onclick)\n",
    "\n",
    "play_again = widgets.Button(description = \"Play Again\",\n",
    "                            layout = Layout(width='30%', height='60px'),\n",
    "                            button_style = 'info'\n",
    "                           )\n",
    "\n",
    "def joue_encore(x):\n",
    "    clear_output()\n",
    "    img = plt.imread(\"images/changes_of_state.png\")\n",
    "    fig, ax = plt.subplots(figsize = (8,8))\n",
    "    ax.imshow(img)\n",
    "    x = [470,550,810,810,1100,1180]\n",
    "    y = [550,550,835,905,550,550]\n",
    "    ax.axis('off')\n",
    "    plt.scatter(x,y,c = 'k', marker = 's', alpha = 1, s = 250 )\n",
    "    a = [1,2,3,4,5,6]\n",
    "    corr = 10  #small correction on number\n",
    "    random.shuffle(a)\n",
    "    for i,j,k in zip(x,y,a):\n",
    "        ax.annotate(str(k), xy = (i-corr,j+corr), color = 'w')\n",
    "        \n",
    "    a1 = widgets.RadioButtons(\n",
    "    options=['Melting','Freezing','Condensation','Vaporization','Deposition','Sublimation'],\n",
    "    description = '1)',\n",
    "    value = None,\n",
    "    disabled=False)\n",
    "    a2 = widgets.RadioButtons(\n",
    "    options=['Melting','Freezing','Condensation','Vaporization','Deposition','Sublimation'],\n",
    "    description = '2)',\n",
    "    value = None,\n",
    "    disabled=False)\n",
    "    a3 = widgets.RadioButtons(\n",
    "    options=['Melting','Freezing','Condensation','Vaporization','Deposition','Sublimation'],\n",
    "    description = '3)',\n",
    "    value = None,\n",
    "    disabled=False)\n",
    "    a4 = widgets.RadioButtons(\n",
    "    options=['Melting','Freezing','Condensation','Vaporization','Deposition','Sublimation'],\n",
    "    description = '4)',\n",
    "    value = None,\n",
    "    disabled=False)\n",
    "    a5 = widgets.RadioButtons(\n",
    "    options=['Melting','Freezing','Condensation','Vaporization','Deposition','Sublimation'],\n",
    "    description = '5)',\n",
    "    value = None,\n",
    "    disabled=False)\n",
    "    a6 = widgets.RadioButtons(\n",
    "    options=['Melting','Freezing','Condensation','Vaporization','Deposition','Sublimation'],\n",
    "    description = '6)',\n",
    "    value = None,\n",
    "    disabled=False)\n",
    "    display(a1,a2,a3,a4,a5,a6)\n",
    "    button_check = widgets.Button(description=\"Check your answers\")\n",
    "    display(button_check)\n",
    "    \n",
    "    def check_button(x):\n",
    "        if a1.value == names[a.index(1)] and a2.value == names[a.index(2)] and a3.value == names[a.index(3)] \\\n",
    "        and a4.value == names[a.index(4)] and a5.value == names[a.index(5)] and a6.value == names[a.index(6)]:\n",
    "            display(Markdown(\"Correct!\"))\n",
    "            display(play_again)\n",
    "        else:   \n",
    "            display(Latex(\"Those aren't quite correct, please try again.\"))\n",
    "    button_check.on_click(check_button)\n",
    "\n",
    "play_again.on_click(joue_encore) "
   ]
  },
  {
   "cell_type": "markdown",
   "metadata": {
    "hidden": false
   },
   "source": [
    "### <center>Visualizing the changes of state</center>\n",
    "\n",
    "Below is an interactive animation on the changes of state for water. Move the slider to change the temperature of the particles in the box below. Observe where the changes of state occur and how the particles gain more kinetic energy as the temperature increases."
   ]
  },
  {
   "cell_type": "code",
   "execution_count": 7,
   "metadata": {
    "hidden": false
   },
   "outputs": [
    {
     "data": {
      "text/html": [
       "\n",
       "<div style=\"text-align: center\">\n",
       "    <iframe width=\"500px\" height=\"420px\" src=\"animations/changes_of_state.html\" frameborder=\"0\"></iframe>\n",
       "</div>\n",
       "         "
      ],
      "text/plain": [
       "<IPython.core.display.HTML object>"
      ]
     },
     "metadata": {},
     "output_type": "display_data"
    }
   ],
   "source": [
    "%%html\n",
    "\n",
    "<div style=\"text-align: center\">\n",
    "    <iframe width=\"500px\" height=\"420px\" src=\"animations/changes_of_state.html\" frameborder=\"0\"></iframe>\n",
    "</div>\n",
    "         "
   ]
  },
  {
   "cell_type": "markdown",
   "metadata": {
    "hidden": false
   },
   "source": [
    "# <center> How is Heat Transmitted?</center>\n",
    "There are three main methods by which heat is transmitted: conduction, convection and radiation. Below we present the basic theory behind these methods of heat transfer and some applications of how we use them to improve our lives. Examples will be provided where we analyze how the three different methods of heat transmission occur in natural processes. "
   ]
  },
  {
   "cell_type": "markdown",
   "metadata": {
    "hidden": false
   },
   "source": [
    "## 1. Conduction\n",
    "Heat transfer via **conduction** occurs when two bodies, with different temperatures, are in physical contact with each other. Conduction is how a stove top heats a pan or why a hot cup feels warm on your hand. Different materials, dependent on which state they are in, conduct heat differently. These differences are expressed by a material property known as the *thermal conductivity*. \n",
    "\n",
    "<img src = \"images/thermal_conductivity.jpg\" width =\"480\" height=\"480\">\n",
    "\n",
    "\n",
    "\n",
    "\n",
    "This graphic provides an visual interpretion of the heat flow, denoted as $\\rm Q$ between two bodies in contact at surface $\\rm A$ with temperatures $\\rm T_1$ and $\\rm T_2$. Let's explore how thermal conductivity changes in the different materials.\n",
    "\n",
    "### Thermal Conductivity\n",
    "\n",
    "Materials with low thermal conductivity transfer heat slowly and materials with high conductivity transfer heat quickly. Can you think of some benefits of using materials with different thermal conductivity for commercial use? Take a thermos for example, the whole purpose of the thermos is to keep the contained food or drink warm. Since the contents are warmer than the thermos itself, they will exchange heat to the body of the thermos. We want the thermos to have a low thermal conductivity so it does not easily exchange heat with its environment, therefore preserving the temperature of its contents. Here is an interesting video from Veritasium illustrating how conduction occurs differently in different materials. \n",
    "\n",
    "If you haven't heard of Veritasium before, I strongly encourage you to check the YouTube channel out. He explains a lot of topics in science and there's always something new to learn from each video."
   ]
  },
  {
   "cell_type": "code",
   "execution_count": 8,
   "metadata": {
    "hidden": false,
    "scrolled": true
   },
   "outputs": [
    {
     "data": {
      "text/html": [
       "<div style=\"text-align: center\">\n",
       "<iframe width=\"560\" height=\"315\" src=\"https://www.youtube.com/embed/vqDbMEdLiCs\" frameborder=\"0\" allow=\"autoplay; encrypted-media\" allowfullscreen></iframe>\n",
       "</div>"
      ],
      "text/plain": [
       "<IPython.core.display.HTML object>"
      ]
     },
     "metadata": {},
     "output_type": "display_data"
    }
   ],
   "source": [
    "%%html\n",
    "<div style=\"text-align: center\">\n",
    "<iframe width=\"560\" height=\"315\" src=\"https://www.youtube.com/embed/vqDbMEdLiCs\" frameborder=\"0\" allow=\"autoplay; encrypted-media\" allowfullscreen></iframe>\n",
    "</div>"
   ]
  },
  {
   "cell_type": "markdown",
   "metadata": {
    "hidden": false
   },
   "source": [
    "## 2. Convection\n",
    "\n",
    "Heat transfer via **convection** occurs due to the movement of molecules in a fluid (gas or liquid). I tend to think of heat transfer in terms of convection. Since it involves the flow of a gas or liquid from a warmer to a colder temperature within the fluid, I believe it is the easiest to visualize. Convection does not occur in solid materials because the molecules that make up a solid do not have the ability to flow; this is what makes a solid a solid. Not unlike conduction, convection occurs from the flow of heat energy due a temperature difference within a fluid. The hotter fluid flows to regions where the fluid is cooler. It is the process which governs the currents in our oceans and the movement of air in our atmosphere. Our understanding of convection has helped us forecast the weather and even explain how energy is transported within the sun!\n",
    "\n",
    "---\n",
    "**Why does the movement occur?**\n",
    "\n",
    "If we consider the particle model of matter, the fluid moves due to changes in **kinetic energy** of the particles in the fluid. The hotter regions in the fluid, the ones with more heat energy, have more \"excited\" particles that are colliding into one another more frequently. These regions are less **dense** than the colder regions. In the colder regions, the particles are colliding into one another less frequently, thus these regions are more dense. The more dense regions in the fluid will sink, allowing for the hotter regions to rise. Convection is the reason why \"heat rises\" in a room! \n",
    "\n",
    "---\n",
    "**Examples of convective processes**\n",
    "\n",
    "\n",
    "- In a pot filled with water on the stove, we observe convective heat transfer in the bubbles rising to the top of the pot. These are hotter, lense dense regions rising to the surface of the liquid. When these regions reach the point the that they are lense dense than the surrounding air, they will evaporate and undergo a transition of state from liquid to gas. \n",
    "\n",
    "<img src=\"images/pot_boiling.png\" width = \"400\" height = \"400\">\n",
    "\n",
    "\n",
    "- In stars, there is a zone in which energy is transported from the core of the star, where energy is produced by nuclear fusion, to the surface. This is known as the *convective zone*. Due to the complicated nature of energy transportation within stars, this proces is difficult to model and the subject of ongoing research within the field of stellar astrophysics. Understanding convection has helped astrophysicists know more about our sun!\n",
    "\n",
    "<img src = \"images/convectioninstarsdata.jpg\" width=\"400\" height=\"400\">\n",
    "\n",
    "\n",
    "- In the atmosphere, convection plays a major role in the creation of a thunderstorm. Clouds form as hotter air rises, carrying moisture with it. The air cools on its ascent, causing the moisture to condense. If the air is instable enough, this process can occur for a longer time. This results in the formation of \"cumulonimbus clouds\", which are those very tall pillowy clouds which have the ability to produce thunder and lightning. Given enough moisture, instability in the air and convection (heat transfer), a thuderstorm is likely to occur. \n",
    "\n",
    "<img src = \"images/convectioninthunderstorms.jpg\" width = \"400\" height = \"450\" >\n",
    "\n",
    "---"
   ]
  },
  {
   "cell_type": "markdown",
   "metadata": {
    "hidden": false
   },
   "source": [
    "## 3. Radiation\n",
    "\n",
    "Radiation is our third and final form of heat transfer to discuss. Heat transfer via radiation occurs in all matter that has a temperature above absolute 0 (0 Kelvin). This occurs from a conversion of thermal energy into electromagnetic energy. Energy is \"radiated\" away from a body in the form of electromagnetic radiation, in other words \"light\" emanating from a hot object. This light varies in wavelength and is dependent on the temperature of the body; hotter objects emit radiation at shorter wavelengths that carry higher energy. For example, in a fire, you may have heard how the blue part of a fire is hotter than the red part. This is true and is due to the fact that blue light has a shorter wavelength than red light, and since the wavelength is dependent on the temperature of the material emmitting it, the blue portion of a fire is hotter. \n",
    "\n",
    "An interesting consequence of this fact comes from the analysis of the wavelengths of light radiated from the sun. Below is graphic showing the types of radiation emitted from the sun.\n",
    "\n",
    "\n",
    "<img src = \"images/earth_sun_plank.jpg\" width = \"400\" height =\"400\">\n",
    "\n",
    "\n",
    "The most intensely radiated wavelength from the sun comes from the green part of visible light. Plants, trees, and even our eyes have become fine tuned to absorbing and perceiving more variations of the colour green because this is the most prominent radiation from the sun. Understanding thermal radiation has offered a scientific explanation on why our planet is so green. \n",
    "\n",
    "\n",
    "Below a list of processes in which heat transfer occurs in different forms, you will be asked to check the box for which type of heat transfer you think is correct to match the description. Press \"Check Answer\" to see if you were correct!\n",
    "\n",
    "### Boiling Water\n",
    "\n",
    "<img src=\"images/Boiling_Water_pic.jpg\" height = \"300\" width = \"300\"> \n",
    "\n",
    "---"
   ]
  },
  {
   "cell_type": "code",
   "execution_count": 9,
   "metadata": {
    "hidden": false,
    "scrolled": false
   },
   "outputs": [
    {
     "data": {
      "text/markdown": [
       "1) After you turn on the stove, you hold your hand above the stove and it feels hot."
      ],
      "text/plain": [
       "<IPython.core.display.Markdown object>"
      ]
     },
     "metadata": {},
     "output_type": "display_data"
    },
    {
     "data": {
      "application/vnd.jupyter.widget-view+json": {
       "model_id": "90f9b0a0a70c467bb16a515372c5e806",
       "version_major": 2,
       "version_minor": 0
      },
      "text/html": [
       "<p>Failed to display Jupyter Widget of type <code>RadioButtons</code>.</p>\n",
       "<p>\n",
       "  If you're reading this message in the Jupyter Notebook or JupyterLab Notebook, it may mean\n",
       "  that the widgets JavaScript is still loading. If this message persists, it\n",
       "  likely means that the widgets JavaScript library is either not installed or\n",
       "  not enabled. See the <a href=\"https://ipywidgets.readthedocs.io/en/stable/user_install.html\">Jupyter\n",
       "  Widgets Documentation</a> for setup instructions.\n",
       "</p>\n",
       "<p>\n",
       "  If you're reading this message in another frontend (for example, a static\n",
       "  rendering on GitHub or <a href=\"https://nbviewer.jupyter.org/\">NBViewer</a>),\n",
       "  it may mean that your frontend doesn't currently support widgets.\n",
       "</p>\n"
      ],
      "text/plain": [
       "RadioButtons(options=('Conduction', 'Convection', 'Radiation'), value=None)"
      ]
     },
     "metadata": {},
     "output_type": "display_data"
    },
    {
     "data": {
      "text/markdown": [
       "2) The pot starts to heat up when placed on the stove."
      ],
      "text/plain": [
       "<IPython.core.display.Markdown object>"
      ]
     },
     "metadata": {},
     "output_type": "display_data"
    },
    {
     "data": {
      "application/vnd.jupyter.widget-view+json": {
       "model_id": "154d102a444846d49e4a912ae3aa45d7",
       "version_major": 2,
       "version_minor": 0
      },
      "text/html": [
       "<p>Failed to display Jupyter Widget of type <code>RadioButtons</code>.</p>\n",
       "<p>\n",
       "  If you're reading this message in the Jupyter Notebook or JupyterLab Notebook, it may mean\n",
       "  that the widgets JavaScript is still loading. If this message persists, it\n",
       "  likely means that the widgets JavaScript library is either not installed or\n",
       "  not enabled. See the <a href=\"https://ipywidgets.readthedocs.io/en/stable/user_install.html\">Jupyter\n",
       "  Widgets Documentation</a> for setup instructions.\n",
       "</p>\n",
       "<p>\n",
       "  If you're reading this message in another frontend (for example, a static\n",
       "  rendering on GitHub or <a href=\"https://nbviewer.jupyter.org/\">NBViewer</a>),\n",
       "  it may mean that your frontend doesn't currently support widgets.\n",
       "</p>\n"
      ],
      "text/plain": [
       "RadioButtons(options=('Conduction', 'Convection', 'Radiation'), value=None)"
      ]
     },
     "metadata": {},
     "output_type": "display_data"
    },
    {
     "data": {
      "text/markdown": [
       "3) Hot water rises to the surface of the pot."
      ],
      "text/plain": [
       "<IPython.core.display.Markdown object>"
      ]
     },
     "metadata": {},
     "output_type": "display_data"
    },
    {
     "data": {
      "application/vnd.jupyter.widget-view+json": {
       "model_id": "62ce860847644d08b7d0f42d4df015fc",
       "version_major": 2,
       "version_minor": 0
      },
      "text/html": [
       "<p>Failed to display Jupyter Widget of type <code>RadioButtons</code>.</p>\n",
       "<p>\n",
       "  If you're reading this message in the Jupyter Notebook or JupyterLab Notebook, it may mean\n",
       "  that the widgets JavaScript is still loading. If this message persists, it\n",
       "  likely means that the widgets JavaScript library is either not installed or\n",
       "  not enabled. See the <a href=\"https://ipywidgets.readthedocs.io/en/stable/user_install.html\">Jupyter\n",
       "  Widgets Documentation</a> for setup instructions.\n",
       "</p>\n",
       "<p>\n",
       "  If you're reading this message in another frontend (for example, a static\n",
       "  rendering on GitHub or <a href=\"https://nbviewer.jupyter.org/\">NBViewer</a>),\n",
       "  it may mean that your frontend doesn't currently support widgets.\n",
       "</p>\n"
      ],
      "text/plain": [
       "RadioButtons(options=('Conduction', 'Convection', 'Radiation'), value=None)"
      ]
     },
     "metadata": {},
     "output_type": "display_data"
    },
    {
     "data": {
      "text/markdown": [
       "4) Steam from the pot feels hot on your hand. (Somewhat tricky)"
      ],
      "text/plain": [
       "<IPython.core.display.Markdown object>"
      ]
     },
     "metadata": {},
     "output_type": "display_data"
    },
    {
     "data": {
      "application/vnd.jupyter.widget-view+json": {
       "model_id": "b92acd4eaf484616bba5338825eeaceb",
       "version_major": 2,
       "version_minor": 0
      },
      "text/html": [
       "<p>Failed to display Jupyter Widget of type <code>RadioButtons</code>.</p>\n",
       "<p>\n",
       "  If you're reading this message in the Jupyter Notebook or JupyterLab Notebook, it may mean\n",
       "  that the widgets JavaScript is still loading. If this message persists, it\n",
       "  likely means that the widgets JavaScript library is either not installed or\n",
       "  not enabled. See the <a href=\"https://ipywidgets.readthedocs.io/en/stable/user_install.html\">Jupyter\n",
       "  Widgets Documentation</a> for setup instructions.\n",
       "</p>\n",
       "<p>\n",
       "  If you're reading this message in another frontend (for example, a static\n",
       "  rendering on GitHub or <a href=\"https://nbviewer.jupyter.org/\">NBViewer</a>),\n",
       "  it may mean that your frontend doesn't currently support widgets.\n",
       "</p>\n"
      ],
      "text/plain": [
       "RadioButtons(options=('Conduction', 'Convection', 'Radiation'), value=None)"
      ]
     },
     "metadata": {},
     "output_type": "display_data"
    },
    {
     "data": {
      "application/vnd.jupyter.widget-view+json": {
       "model_id": "a5f64f0f02a047b190e1e7a3145ccd0a",
       "version_major": 2,
       "version_minor": 0
      },
      "text/html": [
       "<p>Failed to display Jupyter Widget of type <code>Button</code>.</p>\n",
       "<p>\n",
       "  If you're reading this message in the Jupyter Notebook or JupyterLab Notebook, it may mean\n",
       "  that the widgets JavaScript is still loading. If this message persists, it\n",
       "  likely means that the widgets JavaScript library is either not installed or\n",
       "  not enabled. See the <a href=\"https://ipywidgets.readthedocs.io/en/stable/user_install.html\">Jupyter\n",
       "  Widgets Documentation</a> for setup instructions.\n",
       "</p>\n",
       "<p>\n",
       "  If you're reading this message in another frontend (for example, a static\n",
       "  rendering on GitHub or <a href=\"https://nbviewer.jupyter.org/\">NBViewer</a>),\n",
       "  it may mean that your frontend doesn't currently support widgets.\n",
       "</p>\n"
      ],
      "text/plain": [
       "Button(button_style='info', description='Check your answers', layout=Layout(height='60px', width='30%'), style=ButtonStyle())"
      ]
     },
     "metadata": {},
     "output_type": "display_data"
    }
   ],
   "source": [
    "display(Markdown('1) After you turn on the stove, you hold your hand above the stove and it feels hot.'))\n",
    "\n",
    "a1 = widgets.RadioButtons(\n",
    "    options=['Conduction', 'Convection', 'Radiation'],\n",
    "    value = None,\n",
    "    disabled=False\n",
    ")\n",
    "\n",
    "display(a1)\n",
    "\n",
    "display(Markdown('2) The pot starts to heat up when placed on the stove.'))\n",
    "\n",
    "a2 = widgets.RadioButtons(\n",
    "    options=['Conduction', 'Convection', 'Radiation'],\n",
    "    value = None,\n",
    "    disabled=False\n",
    ")\n",
    "\n",
    "display(a2)\n",
    "\n",
    "display(Markdown('3) Hot water rises to the surface of the pot.'))\n",
    "\n",
    "a3 = widgets.RadioButtons(\n",
    "    options=['Conduction', 'Convection', 'Radiation'],\n",
    "    value = None,\n",
    "    disabled=False\n",
    ")\n",
    "display(a3)\n",
    "\n",
    "display(Markdown('4) Steam from the pot feels hot on your hand. (Somewhat tricky)'))\n",
    "\n",
    "a4 = widgets.RadioButtons(\n",
    "    options=['Conduction', 'Convection', 'Radiation'],\n",
    "    value = None,\n",
    "    disabled=False\n",
    ")\n",
    "\n",
    "display(a4)\n",
    "\n",
    "#create a button widget to check answers, again calling the button to display\n",
    "button_check = widgets.Button(description=\"Check your answers\",\n",
    "                              layout = Layout(width='30%', height='60px'),\n",
    "                              button_style = 'info'\n",
    "                             )\n",
    "display(button_check)\n",
    "\n",
    "\n",
    "def check_button(x):\n",
    "    if a1.value == 'Radiation' and a2.value == 'Conduction' and a3.value == 'Convection' and a4.value == 'Conduction':\n",
    "        display(Markdown(\"Correct! Here's why : </br></br> \\\n",
    "                          1. The stove top heats up and radiates energy away from it. This is what you feels in your hand as heat. </br> \\\n",
    "                          2. The stove top conducts heat to the pot since they are in physical contact with one another. </br> \\\n",
    "                          3. Heat is transferred by fluid motion within the water via convection. </br> \\\n",
    "                          4. The gas particles carry heat energy, in the form of kinetic energy, which gets transferred via physical contact with your hand and the steam. </br> \\\n",
    "                             Since the heat transfer occurs via physical contact, the process responsible for the heat transfer is conduction. \"))\n",
    "    else:   \n",
    "        display(Latex(\"Those aren't quite correct, please try again.\"))\n",
    "button_check.on_click(check_button)\n",
    "\n"
   ]
  },
  {
   "cell_type": "markdown",
   "metadata": {
    "hidden": false
   },
   "source": [
    "### Refridgerator\n",
    "\n",
    "<img src=\"images/fridge.jpg\" height = \"300\" width=\"300\">\n",
    "\n"
   ]
  },
  {
   "cell_type": "code",
   "execution_count": 10,
   "metadata": {
    "hidden": false,
    "scrolled": false
   },
   "outputs": [
    {
     "data": {
      "text/markdown": [
       "1) Hot air is pumped out of the food compartment"
      ],
      "text/plain": [
       "<IPython.core.display.Markdown object>"
      ]
     },
     "metadata": {},
     "output_type": "display_data"
    },
    {
     "data": {
      "application/vnd.jupyter.widget-view+json": {
       "model_id": "0f0ca036e4984c0394047d8936fc90ed",
       "version_major": 2,
       "version_minor": 0
      },
      "text/html": [
       "<p>Failed to display Jupyter Widget of type <code>RadioButtons</code>.</p>\n",
       "<p>\n",
       "  If you're reading this message in the Jupyter Notebook or JupyterLab Notebook, it may mean\n",
       "  that the widgets JavaScript is still loading. If this message persists, it\n",
       "  likely means that the widgets JavaScript library is either not installed or\n",
       "  not enabled. See the <a href=\"https://ipywidgets.readthedocs.io/en/stable/user_install.html\">Jupyter\n",
       "  Widgets Documentation</a> for setup instructions.\n",
       "</p>\n",
       "<p>\n",
       "  If you're reading this message in another frontend (for example, a static\n",
       "  rendering on GitHub or <a href=\"https://nbviewer.jupyter.org/\">NBViewer</a>),\n",
       "  it may mean that your frontend doesn't currently support widgets.\n",
       "</p>\n"
      ],
      "text/plain": [
       "RadioButtons(options=('Conduction', 'Convection', 'Radiation'), value=None)"
      ]
     },
     "metadata": {},
     "output_type": "display_data"
    },
    {
     "data": {
      "text/markdown": [
       "2)  You grab a cold popsicle out of the fridge. It feels cold on your hand."
      ],
      "text/plain": [
       "<IPython.core.display.Markdown object>"
      ]
     },
     "metadata": {},
     "output_type": "display_data"
    },
    {
     "data": {
      "application/vnd.jupyter.widget-view+json": {
       "model_id": "ece23ad01ea34778932f20cb138ae58b",
       "version_major": 2,
       "version_minor": 0
      },
      "text/html": [
       "<p>Failed to display Jupyter Widget of type <code>RadioButtons</code>.</p>\n",
       "<p>\n",
       "  If you're reading this message in the Jupyter Notebook or JupyterLab Notebook, it may mean\n",
       "  that the widgets JavaScript is still loading. If this message persists, it\n",
       "  likely means that the widgets JavaScript library is either not installed or\n",
       "  not enabled. See the <a href=\"https://ipywidgets.readthedocs.io/en/stable/user_install.html\">Jupyter\n",
       "  Widgets Documentation</a> for setup instructions.\n",
       "</p>\n",
       "<p>\n",
       "  If you're reading this message in another frontend (for example, a static\n",
       "  rendering on GitHub or <a href=\"https://nbviewer.jupyter.org/\">NBViewer</a>),\n",
       "  it may mean that your frontend doesn't currently support widgets.\n",
       "</p>\n"
      ],
      "text/plain": [
       "RadioButtons(options=('Conduction', 'Convection', 'Radiation'), value=None)"
      ]
     },
     "metadata": {},
     "output_type": "display_data"
    },
    {
     "data": {
      "text/markdown": [
       "3) How did it get cold? How did it transfer heat energy while sitting in the fridge?"
      ],
      "text/plain": [
       "<IPython.core.display.Markdown object>"
      ]
     },
     "metadata": {},
     "output_type": "display_data"
    },
    {
     "data": {
      "application/vnd.jupyter.widget-view+json": {
       "model_id": "7eb0c7e007404af499eab9b38010a936",
       "version_major": 2,
       "version_minor": 0
      },
      "text/html": [
       "<p>Failed to display Jupyter Widget of type <code>RadioButtons</code>.</p>\n",
       "<p>\n",
       "  If you're reading this message in the Jupyter Notebook or JupyterLab Notebook, it may mean\n",
       "  that the widgets JavaScript is still loading. If this message persists, it\n",
       "  likely means that the widgets JavaScript library is either not installed or\n",
       "  not enabled. See the <a href=\"https://ipywidgets.readthedocs.io/en/stable/user_install.html\">Jupyter\n",
       "  Widgets Documentation</a> for setup instructions.\n",
       "</p>\n",
       "<p>\n",
       "  If you're reading this message in another frontend (for example, a static\n",
       "  rendering on GitHub or <a href=\"https://nbviewer.jupyter.org/\">NBViewer</a>),\n",
       "  it may mean that your frontend doesn't currently support widgets.\n",
       "</p>\n"
      ],
      "text/plain": [
       "RadioButtons(options=('Conduction', 'Convection', 'Radiation'), value=None)"
      ]
     },
     "metadata": {},
     "output_type": "display_data"
    },
    {
     "data": {
      "text/markdown": [
       "4) You open the fridge door and it feels cold inside."
      ],
      "text/plain": [
       "<IPython.core.display.Markdown object>"
      ]
     },
     "metadata": {},
     "output_type": "display_data"
    },
    {
     "data": {
      "application/vnd.jupyter.widget-view+json": {
       "model_id": "5adb57defd7b41c2820a0256b7e9df11",
       "version_major": 2,
       "version_minor": 0
      },
      "text/html": [
       "<p>Failed to display Jupyter Widget of type <code>RadioButtons</code>.</p>\n",
       "<p>\n",
       "  If you're reading this message in the Jupyter Notebook or JupyterLab Notebook, it may mean\n",
       "  that the widgets JavaScript is still loading. If this message persists, it\n",
       "  likely means that the widgets JavaScript library is either not installed or\n",
       "  not enabled. See the <a href=\"https://ipywidgets.readthedocs.io/en/stable/user_install.html\">Jupyter\n",
       "  Widgets Documentation</a> for setup instructions.\n",
       "</p>\n",
       "<p>\n",
       "  If you're reading this message in another frontend (for example, a static\n",
       "  rendering on GitHub or <a href=\"https://nbviewer.jupyter.org/\">NBViewer</a>),\n",
       "  it may mean that your frontend doesn't currently support widgets.\n",
       "</p>\n"
      ],
      "text/plain": [
       "RadioButtons(options=('Conduction', 'Convection', 'Radiation'), value=None)"
      ]
     },
     "metadata": {},
     "output_type": "display_data"
    },
    {
     "data": {
      "application/vnd.jupyter.widget-view+json": {
       "model_id": "fb1c1b63483846f29e87c2241e5210c9",
       "version_major": 2,
       "version_minor": 0
      },
      "text/html": [
       "<p>Failed to display Jupyter Widget of type <code>Button</code>.</p>\n",
       "<p>\n",
       "  If you're reading this message in the Jupyter Notebook or JupyterLab Notebook, it may mean\n",
       "  that the widgets JavaScript is still loading. If this message persists, it\n",
       "  likely means that the widgets JavaScript library is either not installed or\n",
       "  not enabled. See the <a href=\"https://ipywidgets.readthedocs.io/en/stable/user_install.html\">Jupyter\n",
       "  Widgets Documentation</a> for setup instructions.\n",
       "</p>\n",
       "<p>\n",
       "  If you're reading this message in another frontend (for example, a static\n",
       "  rendering on GitHub or <a href=\"https://nbviewer.jupyter.org/\">NBViewer</a>),\n",
       "  it may mean that your frontend doesn't currently support widgets.\n",
       "</p>\n"
      ],
      "text/plain": [
       "Button(button_style='info', description='Check your answers', layout=Layout(height='60px', width='30%'), style=ButtonStyle())"
      ]
     },
     "metadata": {},
     "output_type": "display_data"
    }
   ],
   "source": [
    "display(Markdown('1) Hot air is pumped out of the food compartment'))\n",
    "\n",
    "a1 = widgets.RadioButtons(\n",
    "    options=['Conduction', 'Convection', 'Radiation'],\n",
    "    value = None,\n",
    "    disabled=False\n",
    ")\n",
    "\n",
    "display(a1)\n",
    "\n",
    "display(Markdown('2)  You grab a cold popsicle out of the fridge. It feels cold on your hand.'))\n",
    "\n",
    "a2 = widgets.RadioButtons(\n",
    "    options=['Conduction', 'Convection', 'Radiation'],\n",
    "    value = None,\n",
    "    disabled=False\n",
    ")\n",
    "\n",
    "display(a2)\n",
    "\n",
    "display(Markdown('3) How did it get cold? How did it transfer heat energy while sitting in the fridge?'))\n",
    "\n",
    "a3 = widgets.RadioButtons(\n",
    "    options=['Conduction', 'Convection', 'Radiation'],\n",
    "    value = None,\n",
    "    disabled=False\n",
    ")\n",
    "display(a3)\n",
    "\n",
    "display(Markdown('4) You open the fridge door and it feels cold inside.'))\n",
    "\n",
    "a4 = widgets.RadioButtons(\n",
    "    options=['Conduction', 'Convection', 'Radiation'],\n",
    "    value = None,\n",
    "    disabled=False\n",
    ")\n",
    "\n",
    "display(a4)\n",
    "\n",
    "#create a button widget to check answers, again calling the button to display\n",
    "button_check = widgets.Button(description=\"Check your answers\",\n",
    "                              layout = Layout(width='30%', height='60px'),\n",
    "                              button_style = 'info'\n",
    "                             )\n",
    "display(button_check)\n",
    "\n",
    "\n",
    "def check_button(x):\n",
    "    if a1.value == 'Convection' and a2.value == 'Conduction' and a3.value != 'Conduction' and a4.value == ('Conduction' or 'Convection'):\n",
    "        display(Markdown(\"Correct! Here's why : </br></br> \\\n",
    "                          1. Hot air flows out of the fridge via convection. </br> \\\n",
    "                          2. Heat is transferred via convection since your hand it hotter than the popsicle. </br> \\\n",
    "                          3. Heat is transferred by radiation or conduction. The food sitting in the fridge radiates heat energy and also conducts heat to the colder air within the fridge. </br> \\\n",
    "                          4. Heat is transferred via conduction from your warmer self to the cold air within the fridge.\"))\n",
    "    else:   \n",
    "        display(Latex(\"Those aren't quite correct, please try again.\"))\n",
    "button_check.on_click(check_button)\n",
    "\n"
   ]
  },
  {
   "cell_type": "markdown",
   "metadata": {
    "hidden": false
   },
   "source": [
    "# Conclusion\n",
    "---\n",
    "In this Jupyter Notebook you learned about some aspects of the nature of thermal energy. We differentiated between heat and temperature. The particle model was used to describe the effect of heat on matter. You learned about the various modes of heat transfer:\n",
    "- **Conduction**\n",
    "- **Convection**\n",
    "- **Radiation**\n",
    "\n",
    "Along with some examples of how these processes are studied in everyday life.\n",
    "You also memorized the changes of state of matter. If you don't feel like you have these memorized, I encourage you to play the memory game a few more times. \n",
    "\n",
    "We exploit thermal energy to improve our daily lives. It is through our understanding of the processes that govern heat that we have been able to do so."
   ]
  },
  {
   "cell_type": "markdown",
   "metadata": {
    "hidden": false
   },
   "source": [
    "**image references**\n",
    "\n",
    "- conduction :<font size = \"0.5\"> https://www.khanacademy.org/science/physics/thermodynamics/specific-heat-and-heat-transfer/a/what-is-thermal-conductivity </font>\n",
    "- sun: <font size=\"0.5\"> https://phys.org/news/2016-07-astronomers-gain-insight-magnetic-field.html</font>\n",
    "- thunderstorm: <font size = \"0.5\">https://www.britannica.com/science/thunderstorm </font>\n",
    "- boiling pot:  <font size = \"0.5\">https://dr282zn36sxxg.cloudfront.net/datastreams/f-d%3A5f69d56e0b81661f4564d03405f4cd0be18c94afbe66c30f9eb9a17b%2BIMAGE_THUMB_POSTCARD_TINY%2BIMAGE_THUMB_POSTCARD_TINY.</font>\n",
    "- radiation diagram: <font size = \"0.5\"> http://apollo.lsc.vsc.edu/classes/met130/notes/chapter2/plank_e_sun.html </font> "
   ]
  },
  {
   "cell_type": "markdown",
   "metadata": {
    "hidden": false
   },
   "source": [
    "<img src = 'images/Callysto_Notebook-Banners_Bottom.jpg'>"
   ]
  }
 ],
 "metadata": {
  "kernelspec": {
   "display_name": "Python 3",
   "language": "python",
   "name": "python3"
  },
  "language_info": {
   "codemirror_mode": {
    "name": "ipython",
    "version": 3
   },
   "file_extension": ".py",
   "mimetype": "text/x-python",
   "name": "python",
   "nbconvert_exporter": "python",
   "pygments_lexer": "ipython3",
   "version": "3.6.5"
  }
 },
 "nbformat": 4,
 "nbformat_minor": 2
}

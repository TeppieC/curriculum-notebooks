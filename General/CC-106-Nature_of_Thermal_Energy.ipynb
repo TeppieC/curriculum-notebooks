{
 "cells": [
  {
   "cell_type": "markdown",
   "metadata": {
    "hidden": false
   },
   "source": [
    "<img src = 'images/Callysto_Notebook-Banner_Top.jpg'>"
   ]
  },
  {
   "cell_type": "code",
   "execution_count": 1,
   "metadata": {
    "hidden": false,
    "scrolled": true
   },
   "outputs": [
    {
     "data": {
      "text/html": [
       "<script type=\"text/javascript\">window.PlotlyConfig = {MathJaxConfig: 'local'};</script><script type=\"text/javascript\">if (window.MathJax) {MathJax.Hub.Config({SVG: {font: \"STIX-Web\"}});}</script><script>requirejs.config({paths: { 'plotly': ['https://cdn.plot.ly/plotly-latest.min']},});if(!window._Plotly) {require(['plotly'],function(plotly) {window._Plotly=plotly;});}</script>"
      ],
      "text/vnd.plotly.v1+html": [
       "<script type=\"text/javascript\">window.PlotlyConfig = {MathJaxConfig: 'local'};</script><script type=\"text/javascript\">if (window.MathJax) {MathJax.Hub.Config({SVG: {font: \"STIX-Web\"}});}</script><script>requirejs.config({paths: { 'plotly': ['https://cdn.plot.ly/plotly-latest.min']},});if(!window._Plotly) {require(['plotly'],function(plotly) {window._Plotly=plotly;});}</script>"
      ]
     },
     "metadata": {},
     "output_type": "display_data"
    }
   ],
   "source": [
    "import numpy as np\n",
    "import matplotlib.pyplot as plt\n",
    "import matplotlib.animation as animation\n",
    "from mpl_toolkits.mplot3d import Axes3D\n",
    "import mpl_toolkits.mplot3d.axes3d as p3\n",
    "from matplotlib import rc\n",
    "from IPython.display import display, Math, Latex, HTML, clear_output, Markdown, IFrame\n",
    "import ipywidgets as widgets\n",
    "from ipywidgets import interact, FloatSlider, IntSlider, interactive, Layout\n",
    "from traitlets import traitlets\n",
    "\n",
    "\n",
    "from plotly.offline import download_plotlyjs, init_notebook_mode, plot, iplot\n",
    "init_notebook_mode(connected=True)\n",
    "\n",
    "%matplotlib notebook\n",
    "%matplotlib notebook"
   ]
  },
  {
   "cell_type": "code",
   "execution_count": 2,
   "metadata": {
    "hidden": false,
    "scrolled": true
   },
   "outputs": [
    {
     "data": {
      "text/html": [
       "<script>\n",
       "  function code_toggle() {\n",
       "    if (code_shown){\n",
       "      $('div.input').hide('500');\n",
       "      $('#toggleButton').val('Show Code')\n",
       "    } else {\n",
       "      $('div.input').show('500');\n",
       "      $('#toggleButton').val('Hide Code')\n",
       "    }\n",
       "    code_shown = !code_shown\n",
       "  }\n",
       "  \n",
       "  $( document ).ready(function(){\n",
       "    code_shown=false;\n",
       "    $('div.input').hide()\n",
       "  });\n",
       "</script>\n",
       "<form action=\"javascript:code_toggle()\"><input type=\"submit\" id=\"toggleButton\" value=\"Show Code\"></form>"
      ],
      "text/plain": [
       "<IPython.core.display.HTML object>"
      ]
     },
     "execution_count": 2,
     "metadata": {},
     "output_type": "execute_result"
    }
   ],
   "source": [
    "HTML('''<script>\n",
    "  function code_toggle() {\n",
    "    if (code_shown){\n",
    "      $('div.input').hide('500');\n",
    "      $('#toggleButton').val('Show Code')\n",
    "    } else {\n",
    "      $('div.input').show('500');\n",
    "      $('#toggleButton').val('Hide Code')\n",
    "    }\n",
    "    code_shown = !code_shown\n",
    "  }\n",
    "  \n",
    "  $( document ).ready(function(){\n",
    "    code_shown=false;\n",
    "    $('div.input').hide()\n",
    "  });\n",
    "</script>\n",
    "<form action=\"javascript:code_toggle()\"><input type=\"submit\" id=\"toggleButton\" value=\"Show Code\"></form>''')\n"
   ]
  },
  {
   "cell_type": "markdown",
   "metadata": {
    "hidden": false
   },
   "source": [
    "#  <center>Heat and Temperature: The Nature of Thermal Energy </center>\n",
    "\n",
    "In this Jupyter Notebook you will explore the nature of thermal energy and its effects on different forms of matter, using informal observations, experimental evidence and models. By the end of the notebook you will have gained an understanding on:\n",
    "\n",
    "- comparing heat transmission in different materials \n",
    "- explaining how heat is transmitted by conduction, convection and radiation in solids, liquids and gases\n",
    "- describing the effect of heat on the motion of particles; and explain changes of state, using the particle model of matter\n",
    "- distinguishing between heat and temperature; and explain temperature, using the concept of kinetic energy and the particle model of matter\n",
    "- investigating and describing the effects of heating and cooling on the volume of different materials, and identify applications of these effects\n",
    "\n",
    "Necessary Background: Basic knowledge of kinetic energy and states of matter.\n",
    "\n",
    "Thermal energy applications are found throughout our daily lives; the means by which a refridgerator functions, the ways we power and heat our homes, the combustion which drives our engines. These are just a few of the many ways we use thermal energy to improve our lives. Consequentially, having a better understanding of the nature of thermal energy means having a better understanding of the world around us, natural and manufactured. "
   ]
  },
  {
   "cell_type": "markdown",
   "metadata": {
    "hidden": false
   },
   "source": [
    "\n",
    "## Heat vs. Temperature\n",
    "\n",
    "The difference between temperature and heat is quite subtle. We'd better state the definitions formally:\n",
    "\n",
    "**Heat** is a type of energy transfer in which energy flows caused by a difference in Temperature. \n",
    "\n",
    "**Temperature** is a measure of the average heat or thermal energy of the particles in a substance. \n",
    "\n",
    "These are simple explanations for the time being and will become clearer over the course of this notebook. Heat is  a *microscopic* quantity which gives rise to the *macroscopic* quantity of Temperature. We often think of these two concepts interchangably but they have fundamentally different meanings. Heat can be exchanged between matter and temperature can be possessed by matter. Over the course of this notebook the differences will become clearer.\n",
    "\n",
    "---\n",
    "\n",
    "*Side note*: **Macroscopic vs Microscopic**\n",
    "\n",
    "Macroscopic quantities can be thought of as the things that you can see and quantify, whereas microscopic quantities are the opposite of this; they need some more detailed measuring tools in order to observe. For example, think of the pixels on a phone screen forming the image of a cat. The size of the cat and its fur colour can be thought of as the macroscopic quantities. If one were to zoom in on the phone screen, they would see many small pixels comprising of different combinations of red, green, and blue. The pixel's shape and colour can be thought of as the microscopic quantities. They combine together to form a larger picture of a cat with distinctly different properties from the smaller parts that make it up. This interplay between the microscopic and macroscopic is important to understanding the difference between heat and temperature.  \n",
    "\n"
   ]
  },
  {
   "cell_type": "markdown",
   "metadata": {
    "hidden": false
   },
   "source": [
    "# <center> Particle Model of Matter </center>    \n",
    "In order to help you intepret heat, it will be useful to think of the *Particle Model of Matter*. This model was first proposed the Greek philosopher Democritus over 2000 years ago. He thought of being able to cut up matter, the stuff that makes up everything into the world, into smaller and smaller parts. Eventually, one would reach its fundamental constituents; the particles that made up all matter. This line of thinking has been explored, revised, and expanded upon. It has helped us begin to understand the world around us and is therefore an essential starting point for us to explore the nature of thermal energy. The particle model states that:\n",
    "\n",
    "### 1. All matter is made up of tiny particles"
   ]
  },
  {
   "cell_type": "code",
   "execution_count": 3,
   "metadata": {
    "hidden": false,
    "scrolled": false
   },
   "outputs": [
    {
     "data": {
      "text/html": [
       "\n",
       "<div style=\"text-align: center\">\n",
       "    <iframe width=\"500px\" height=\"420px\" src=\"animations/cube_grid.html\" frameborder=\"0\"></iframe>\n",
       "</div>\n",
       "            \n"
      ],
      "text/plain": [
       "<IPython.core.display.HTML object>"
      ]
     },
     "metadata": {},
     "output_type": "display_data"
    }
   ],
   "source": [
    "%%html\n",
    "\n",
    "<div style=\"text-align: center\">\n",
    "    <iframe width=\"500px\" height=\"420px\" src=\"animations/cube_grid.html\" frameborder=\"0\"></iframe>\n",
    "</div>\n",
    "            "
   ]
  },
  {
   "cell_type": "markdown",
   "metadata": {
    "hidden": false
   },
   "source": [
    "### 2. The particles are constantly moving \n",
    "\n",
    "Since the particles are not at absolute (0 Kelvin), they still contain a bit of thermal energy. When the particles are bound in a solid structure, like above, this cause them to vibrate slightly. Particles in any state will always slightly unless they are at absolute 0 temperature. Below is the same solid as above, but depicted more realistically."
   ]
  },
  {
   "cell_type": "code",
   "execution_count": 4,
   "metadata": {
    "hidden": false
   },
   "outputs": [
    {
     "data": {
      "text/html": [
       "\n",
       "<div style=\"text-align: center\">\n",
       "    <iframe width=\"450px\" height=\"420px\" src=\"animations/vibrating_cube.html\" frameborder=\"0\"></iframe>\n",
       "</div>\n"
      ],
      "text/plain": [
       "<IPython.core.display.HTML object>"
      ]
     },
     "metadata": {},
     "output_type": "display_data"
    }
   ],
   "source": [
    "%%html\n",
    "\n",
    "<div style=\"text-align: center\">\n",
    "    <iframe width=\"450px\" height=\"420px\" src=\"animations/vibrating_cube.html\" frameborder=\"0\"></iframe>\n",
    "</div>"
   ]
  },
  {
   "cell_type": "markdown",
   "metadata": {
    "hidden": false
   },
   "source": [
    "### 3. The particles move faster as you heat them up"
   ]
  },
  {
   "cell_type": "code",
   "execution_count": 5,
   "metadata": {
    "hidden": false,
    "scrolled": false
   },
   "outputs": [
    {
     "data": {
      "text/html": [
       "\n",
       "<div style=\"text-align: center\">\n",
       "    <iframe width=\"450px\" height=\"420px\" src=\"animations/particle_in_a_box.html\" frameborder=\"0\"></iframe>\n",
       "</div>\n"
      ],
      "text/plain": [
       "<IPython.core.display.HTML object>"
      ]
     },
     "metadata": {},
     "output_type": "display_data"
    }
   ],
   "source": [
    "%%html\n",
    "\n",
    "<div style=\"text-align: center\">\n",
    "    <iframe width=\"450px\" height=\"420px\" src=\"animations/particle_in_a_box.html\" frameborder=\"0\"></iframe>\n",
    "</div>\n"
   ]
  },
  {
   "cell_type": "markdown",
   "metadata": {
    "hidden": false
   },
   "source": [
    "Statement 3 of the particle model offers the clearest description for the difference between temperature and heat. As the temperature inside the square increases, the particles move faster. This is because the the particles have more heat energy, but we actually measure is temperature. The particles collide with the sides of the box more frequently, the more frequent the collisions, the higher the temperature we measure. "
   ]
  },
  {
   "cell_type": "markdown",
   "metadata": {
    "hidden": false
   },
   "source": [
    "---\n",
    "## <center>Changes of State</center>\n",
    "\n",
    "Heat transfer plays a deciding role in the changes of state of matter (Solid, Liquid or Gas). Let's breakdown how heat energy changes the state and what these processes are called. Matter will be thought of a collection of particles, the behaviour of these particles is determined by the state of matter in which they are in:\n",
    "\n",
    "- Particles in **solid** are tighly packed, they have very little motion either than vibrating in the location that they are in.\n",
    "\n",
    "- Particles in a **liquid** are able to move past one another. This is what gives liquids the property of being able to \"flow\".\n",
    "\n",
    "- Particles in a **gas** can essentially move around freely, occasionally colliding into one another. This is why gases have so much free space.\n",
    "\n",
    "### Why do the changes happen?\n",
    "\n",
    "Matter changes state due to heat energy! Think of the particles in a solid. As it gains more heat energy, the particles themselves gain more kinetic energy and they start to collide into one another more often. Eventually the bonds that hold the solid together cannot maintain the amount of collisions and the solid begins to fall apart, into a liquid. This is known as melting. Now the particles can flow, but they still maintain a bit of their structure; they are still connected. If you were to give them even more heat energy, the structure begins to fall apart, and eventually the matter becomes a gas where the particles can move around freely and disperse from one another. This process is called evaporation. \n",
    "\n",
    "Some of the main characteristics of a substance are the temperatures at which these transitions happen. These are known as the *melting point* and *boiling point* of the substance. For example, water has a melting point of 0$^{\\circ}$C and a boiling point of 100$^{\\circ}$C and these temperatures are a fundamental part of what it means to be \"water\".\n",
    "\n",
    "The different changes that occur in matter can be seen below. Try to memorize the names of the different changes of state. Hover your mouse over each grey box to see the names of them. Once you press the \"Play memory game\" button, you won't be able to see their names anymore and will have to match the numbers to the name of change of state. See how many times you can get them correct! You'll have them memorized in no time :-)"
   ]
  },
  {
   "cell_type": "code",
   "execution_count": 6,
   "metadata": {
    "hidden": false,
    "scrolled": false
   },
   "outputs": [
    {
     "data": {
      "application/javascript": [
       "/* Put everything inside the global mpl namespace */\n",
       "window.mpl = {};\n",
       "\n",
       "\n",
       "mpl.get_websocket_type = function() {\n",
       "    if (typeof(WebSocket) !== 'undefined') {\n",
       "        return WebSocket;\n",
       "    } else if (typeof(MozWebSocket) !== 'undefined') {\n",
       "        return MozWebSocket;\n",
       "    } else {\n",
       "        alert('Your browser does not have WebSocket support.' +\n",
       "              'Please try Chrome, Safari or Firefox ≥ 6. ' +\n",
       "              'Firefox 4 and 5 are also supported but you ' +\n",
       "              'have to enable WebSockets in about:config.');\n",
       "    };\n",
       "}\n",
       "\n",
       "mpl.figure = function(figure_id, websocket, ondownload, parent_element) {\n",
       "    this.id = figure_id;\n",
       "\n",
       "    this.ws = websocket;\n",
       "\n",
       "    this.supports_binary = (this.ws.binaryType != undefined);\n",
       "\n",
       "    if (!this.supports_binary) {\n",
       "        var warnings = document.getElementById(\"mpl-warnings\");\n",
       "        if (warnings) {\n",
       "            warnings.style.display = 'block';\n",
       "            warnings.textContent = (\n",
       "                \"This browser does not support binary websocket messages. \" +\n",
       "                    \"Performance may be slow.\");\n",
       "        }\n",
       "    }\n",
       "\n",
       "    this.imageObj = new Image();\n",
       "\n",
       "    this.context = undefined;\n",
       "    this.message = undefined;\n",
       "    this.canvas = undefined;\n",
       "    this.rubberband_canvas = undefined;\n",
       "    this.rubberband_context = undefined;\n",
       "    this.format_dropdown = undefined;\n",
       "\n",
       "    this.image_mode = 'full';\n",
       "\n",
       "    this.root = $('<div/>');\n",
       "    this._root_extra_style(this.root)\n",
       "    this.root.attr('style', 'display: inline-block');\n",
       "\n",
       "    $(parent_element).append(this.root);\n",
       "\n",
       "    this._init_header(this);\n",
       "    this._init_canvas(this);\n",
       "    this._init_toolbar(this);\n",
       "\n",
       "    var fig = this;\n",
       "\n",
       "    this.waiting = false;\n",
       "\n",
       "    this.ws.onopen =  function () {\n",
       "            fig.send_message(\"supports_binary\", {value: fig.supports_binary});\n",
       "            fig.send_message(\"send_image_mode\", {});\n",
       "            if (mpl.ratio != 1) {\n",
       "                fig.send_message(\"set_dpi_ratio\", {'dpi_ratio': mpl.ratio});\n",
       "            }\n",
       "            fig.send_message(\"refresh\", {});\n",
       "        }\n",
       "\n",
       "    this.imageObj.onload = function() {\n",
       "            if (fig.image_mode == 'full') {\n",
       "                // Full images could contain transparency (where diff images\n",
       "                // almost always do), so we need to clear the canvas so that\n",
       "                // there is no ghosting.\n",
       "                fig.context.clearRect(0, 0, fig.canvas.width, fig.canvas.height);\n",
       "            }\n",
       "            fig.context.drawImage(fig.imageObj, 0, 0);\n",
       "        };\n",
       "\n",
       "    this.imageObj.onunload = function() {\n",
       "        fig.ws.close();\n",
       "    }\n",
       "\n",
       "    this.ws.onmessage = this._make_on_message_function(this);\n",
       "\n",
       "    this.ondownload = ondownload;\n",
       "}\n",
       "\n",
       "mpl.figure.prototype._init_header = function() {\n",
       "    var titlebar = $(\n",
       "        '<div class=\"ui-dialog-titlebar ui-widget-header ui-corner-all ' +\n",
       "        'ui-helper-clearfix\"/>');\n",
       "    var titletext = $(\n",
       "        '<div class=\"ui-dialog-title\" style=\"width: 100%; ' +\n",
       "        'text-align: center; padding: 3px;\"/>');\n",
       "    titlebar.append(titletext)\n",
       "    this.root.append(titlebar);\n",
       "    this.header = titletext[0];\n",
       "}\n",
       "\n",
       "\n",
       "\n",
       "mpl.figure.prototype._canvas_extra_style = function(canvas_div) {\n",
       "\n",
       "}\n",
       "\n",
       "\n",
       "mpl.figure.prototype._root_extra_style = function(canvas_div) {\n",
       "\n",
       "}\n",
       "\n",
       "mpl.figure.prototype._init_canvas = function() {\n",
       "    var fig = this;\n",
       "\n",
       "    var canvas_div = $('<div/>');\n",
       "\n",
       "    canvas_div.attr('style', 'position: relative; clear: both; outline: 0');\n",
       "\n",
       "    function canvas_keyboard_event(event) {\n",
       "        return fig.key_event(event, event['data']);\n",
       "    }\n",
       "\n",
       "    canvas_div.keydown('key_press', canvas_keyboard_event);\n",
       "    canvas_div.keyup('key_release', canvas_keyboard_event);\n",
       "    this.canvas_div = canvas_div\n",
       "    this._canvas_extra_style(canvas_div)\n",
       "    this.root.append(canvas_div);\n",
       "\n",
       "    var canvas = $('<canvas/>');\n",
       "    canvas.addClass('mpl-canvas');\n",
       "    canvas.attr('style', \"left: 0; top: 0; z-index: 0; outline: 0\")\n",
       "\n",
       "    this.canvas = canvas[0];\n",
       "    this.context = canvas[0].getContext(\"2d\");\n",
       "\n",
       "    var backingStore = this.context.backingStorePixelRatio ||\n",
       "\tthis.context.webkitBackingStorePixelRatio ||\n",
       "\tthis.context.mozBackingStorePixelRatio ||\n",
       "\tthis.context.msBackingStorePixelRatio ||\n",
       "\tthis.context.oBackingStorePixelRatio ||\n",
       "\tthis.context.backingStorePixelRatio || 1;\n",
       "\n",
       "    mpl.ratio = (window.devicePixelRatio || 1) / backingStore;\n",
       "\n",
       "    var rubberband = $('<canvas/>');\n",
       "    rubberband.attr('style', \"position: absolute; left: 0; top: 0; z-index: 1;\")\n",
       "\n",
       "    var pass_mouse_events = true;\n",
       "\n",
       "    canvas_div.resizable({\n",
       "        start: function(event, ui) {\n",
       "            pass_mouse_events = false;\n",
       "        },\n",
       "        resize: function(event, ui) {\n",
       "            fig.request_resize(ui.size.width, ui.size.height);\n",
       "        },\n",
       "        stop: function(event, ui) {\n",
       "            pass_mouse_events = true;\n",
       "            fig.request_resize(ui.size.width, ui.size.height);\n",
       "        },\n",
       "    });\n",
       "\n",
       "    function mouse_event_fn(event) {\n",
       "        if (pass_mouse_events)\n",
       "            return fig.mouse_event(event, event['data']);\n",
       "    }\n",
       "\n",
       "    rubberband.mousedown('button_press', mouse_event_fn);\n",
       "    rubberband.mouseup('button_release', mouse_event_fn);\n",
       "    // Throttle sequential mouse events to 1 every 20ms.\n",
       "    rubberband.mousemove('motion_notify', mouse_event_fn);\n",
       "\n",
       "    rubberband.mouseenter('figure_enter', mouse_event_fn);\n",
       "    rubberband.mouseleave('figure_leave', mouse_event_fn);\n",
       "\n",
       "    canvas_div.on(\"wheel\", function (event) {\n",
       "        event = event.originalEvent;\n",
       "        event['data'] = 'scroll'\n",
       "        if (event.deltaY < 0) {\n",
       "            event.step = 1;\n",
       "        } else {\n",
       "            event.step = -1;\n",
       "        }\n",
       "        mouse_event_fn(event);\n",
       "    });\n",
       "\n",
       "    canvas_div.append(canvas);\n",
       "    canvas_div.append(rubberband);\n",
       "\n",
       "    this.rubberband = rubberband;\n",
       "    this.rubberband_canvas = rubberband[0];\n",
       "    this.rubberband_context = rubberband[0].getContext(\"2d\");\n",
       "    this.rubberband_context.strokeStyle = \"#000000\";\n",
       "\n",
       "    this._resize_canvas = function(width, height) {\n",
       "        // Keep the size of the canvas, canvas container, and rubber band\n",
       "        // canvas in synch.\n",
       "        canvas_div.css('width', width)\n",
       "        canvas_div.css('height', height)\n",
       "\n",
       "        canvas.attr('width', width * mpl.ratio);\n",
       "        canvas.attr('height', height * mpl.ratio);\n",
       "        canvas.attr('style', 'width: ' + width + 'px; height: ' + height + 'px;');\n",
       "\n",
       "        rubberband.attr('width', width);\n",
       "        rubberband.attr('height', height);\n",
       "    }\n",
       "\n",
       "    // Set the figure to an initial 600x600px, this will subsequently be updated\n",
       "    // upon first draw.\n",
       "    this._resize_canvas(600, 600);\n",
       "\n",
       "    // Disable right mouse context menu.\n",
       "    $(this.rubberband_canvas).bind(\"contextmenu\",function(e){\n",
       "        return false;\n",
       "    });\n",
       "\n",
       "    function set_focus () {\n",
       "        canvas.focus();\n",
       "        canvas_div.focus();\n",
       "    }\n",
       "\n",
       "    window.setTimeout(set_focus, 100);\n",
       "}\n",
       "\n",
       "mpl.figure.prototype._init_toolbar = function() {\n",
       "    var fig = this;\n",
       "\n",
       "    var nav_element = $('<div/>')\n",
       "    nav_element.attr('style', 'width: 100%');\n",
       "    this.root.append(nav_element);\n",
       "\n",
       "    // Define a callback function for later on.\n",
       "    function toolbar_event(event) {\n",
       "        return fig.toolbar_button_onclick(event['data']);\n",
       "    }\n",
       "    function toolbar_mouse_event(event) {\n",
       "        return fig.toolbar_button_onmouseover(event['data']);\n",
       "    }\n",
       "\n",
       "    for(var toolbar_ind in mpl.toolbar_items) {\n",
       "        var name = mpl.toolbar_items[toolbar_ind][0];\n",
       "        var tooltip = mpl.toolbar_items[toolbar_ind][1];\n",
       "        var image = mpl.toolbar_items[toolbar_ind][2];\n",
       "        var method_name = mpl.toolbar_items[toolbar_ind][3];\n",
       "\n",
       "        if (!name) {\n",
       "            // put a spacer in here.\n",
       "            continue;\n",
       "        }\n",
       "        var button = $('<button/>');\n",
       "        button.addClass('ui-button ui-widget ui-state-default ui-corner-all ' +\n",
       "                        'ui-button-icon-only');\n",
       "        button.attr('role', 'button');\n",
       "        button.attr('aria-disabled', 'false');\n",
       "        button.click(method_name, toolbar_event);\n",
       "        button.mouseover(tooltip, toolbar_mouse_event);\n",
       "\n",
       "        var icon_img = $('<span/>');\n",
       "        icon_img.addClass('ui-button-icon-primary ui-icon');\n",
       "        icon_img.addClass(image);\n",
       "        icon_img.addClass('ui-corner-all');\n",
       "\n",
       "        var tooltip_span = $('<span/>');\n",
       "        tooltip_span.addClass('ui-button-text');\n",
       "        tooltip_span.html(tooltip);\n",
       "\n",
       "        button.append(icon_img);\n",
       "        button.append(tooltip_span);\n",
       "\n",
       "        nav_element.append(button);\n",
       "    }\n",
       "\n",
       "    var fmt_picker_span = $('<span/>');\n",
       "\n",
       "    var fmt_picker = $('<select/>');\n",
       "    fmt_picker.addClass('mpl-toolbar-option ui-widget ui-widget-content');\n",
       "    fmt_picker_span.append(fmt_picker);\n",
       "    nav_element.append(fmt_picker_span);\n",
       "    this.format_dropdown = fmt_picker[0];\n",
       "\n",
       "    for (var ind in mpl.extensions) {\n",
       "        var fmt = mpl.extensions[ind];\n",
       "        var option = $(\n",
       "            '<option/>', {selected: fmt === mpl.default_extension}).html(fmt);\n",
       "        fmt_picker.append(option)\n",
       "    }\n",
       "\n",
       "    // Add hover states to the ui-buttons\n",
       "    $( \".ui-button\" ).hover(\n",
       "        function() { $(this).addClass(\"ui-state-hover\");},\n",
       "        function() { $(this).removeClass(\"ui-state-hover\");}\n",
       "    );\n",
       "\n",
       "    var status_bar = $('<span class=\"mpl-message\"/>');\n",
       "    nav_element.append(status_bar);\n",
       "    this.message = status_bar[0];\n",
       "}\n",
       "\n",
       "mpl.figure.prototype.request_resize = function(x_pixels, y_pixels) {\n",
       "    // Request matplotlib to resize the figure. Matplotlib will then trigger a resize in the client,\n",
       "    // which will in turn request a refresh of the image.\n",
       "    this.send_message('resize', {'width': x_pixels, 'height': y_pixels});\n",
       "}\n",
       "\n",
       "mpl.figure.prototype.send_message = function(type, properties) {\n",
       "    properties['type'] = type;\n",
       "    properties['figure_id'] = this.id;\n",
       "    this.ws.send(JSON.stringify(properties));\n",
       "}\n",
       "\n",
       "mpl.figure.prototype.send_draw_message = function() {\n",
       "    if (!this.waiting) {\n",
       "        this.waiting = true;\n",
       "        this.ws.send(JSON.stringify({type: \"draw\", figure_id: this.id}));\n",
       "    }\n",
       "}\n",
       "\n",
       "\n",
       "mpl.figure.prototype.handle_save = function(fig, msg) {\n",
       "    var format_dropdown = fig.format_dropdown;\n",
       "    var format = format_dropdown.options[format_dropdown.selectedIndex].value;\n",
       "    fig.ondownload(fig, format);\n",
       "}\n",
       "\n",
       "\n",
       "mpl.figure.prototype.handle_resize = function(fig, msg) {\n",
       "    var size = msg['size'];\n",
       "    if (size[0] != fig.canvas.width || size[1] != fig.canvas.height) {\n",
       "        fig._resize_canvas(size[0], size[1]);\n",
       "        fig.send_message(\"refresh\", {});\n",
       "    };\n",
       "}\n",
       "\n",
       "mpl.figure.prototype.handle_rubberband = function(fig, msg) {\n",
       "    var x0 = msg['x0'] / mpl.ratio;\n",
       "    var y0 = (fig.canvas.height - msg['y0']) / mpl.ratio;\n",
       "    var x1 = msg['x1'] / mpl.ratio;\n",
       "    var y1 = (fig.canvas.height - msg['y1']) / mpl.ratio;\n",
       "    x0 = Math.floor(x0) + 0.5;\n",
       "    y0 = Math.floor(y0) + 0.5;\n",
       "    x1 = Math.floor(x1) + 0.5;\n",
       "    y1 = Math.floor(y1) + 0.5;\n",
       "    var min_x = Math.min(x0, x1);\n",
       "    var min_y = Math.min(y0, y1);\n",
       "    var width = Math.abs(x1 - x0);\n",
       "    var height = Math.abs(y1 - y0);\n",
       "\n",
       "    fig.rubberband_context.clearRect(\n",
       "        0, 0, fig.canvas.width, fig.canvas.height);\n",
       "\n",
       "    fig.rubberband_context.strokeRect(min_x, min_y, width, height);\n",
       "}\n",
       "\n",
       "mpl.figure.prototype.handle_figure_label = function(fig, msg) {\n",
       "    // Updates the figure title.\n",
       "    fig.header.textContent = msg['label'];\n",
       "}\n",
       "\n",
       "mpl.figure.prototype.handle_cursor = function(fig, msg) {\n",
       "    var cursor = msg['cursor'];\n",
       "    switch(cursor)\n",
       "    {\n",
       "    case 0:\n",
       "        cursor = 'pointer';\n",
       "        break;\n",
       "    case 1:\n",
       "        cursor = 'default';\n",
       "        break;\n",
       "    case 2:\n",
       "        cursor = 'crosshair';\n",
       "        break;\n",
       "    case 3:\n",
       "        cursor = 'move';\n",
       "        break;\n",
       "    }\n",
       "    fig.rubberband_canvas.style.cursor = cursor;\n",
       "}\n",
       "\n",
       "mpl.figure.prototype.handle_message = function(fig, msg) {\n",
       "    fig.message.textContent = msg['message'];\n",
       "}\n",
       "\n",
       "mpl.figure.prototype.handle_draw = function(fig, msg) {\n",
       "    // Request the server to send over a new figure.\n",
       "    fig.send_draw_message();\n",
       "}\n",
       "\n",
       "mpl.figure.prototype.handle_image_mode = function(fig, msg) {\n",
       "    fig.image_mode = msg['mode'];\n",
       "}\n",
       "\n",
       "mpl.figure.prototype.updated_canvas_event = function() {\n",
       "    // Called whenever the canvas gets updated.\n",
       "    this.send_message(\"ack\", {});\n",
       "}\n",
       "\n",
       "// A function to construct a web socket function for onmessage handling.\n",
       "// Called in the figure constructor.\n",
       "mpl.figure.prototype._make_on_message_function = function(fig) {\n",
       "    return function socket_on_message(evt) {\n",
       "        if (evt.data instanceof Blob) {\n",
       "            /* FIXME: We get \"Resource interpreted as Image but\n",
       "             * transferred with MIME type text/plain:\" errors on\n",
       "             * Chrome.  But how to set the MIME type?  It doesn't seem\n",
       "             * to be part of the websocket stream */\n",
       "            evt.data.type = \"image/png\";\n",
       "\n",
       "            /* Free the memory for the previous frames */\n",
       "            if (fig.imageObj.src) {\n",
       "                (window.URL || window.webkitURL).revokeObjectURL(\n",
       "                    fig.imageObj.src);\n",
       "            }\n",
       "\n",
       "            fig.imageObj.src = (window.URL || window.webkitURL).createObjectURL(\n",
       "                evt.data);\n",
       "            fig.updated_canvas_event();\n",
       "            fig.waiting = false;\n",
       "            return;\n",
       "        }\n",
       "        else if (typeof evt.data === 'string' && evt.data.slice(0, 21) == \"data:image/png;base64\") {\n",
       "            fig.imageObj.src = evt.data;\n",
       "            fig.updated_canvas_event();\n",
       "            fig.waiting = false;\n",
       "            return;\n",
       "        }\n",
       "\n",
       "        var msg = JSON.parse(evt.data);\n",
       "        var msg_type = msg['type'];\n",
       "\n",
       "        // Call the  \"handle_{type}\" callback, which takes\n",
       "        // the figure and JSON message as its only arguments.\n",
       "        try {\n",
       "            var callback = fig[\"handle_\" + msg_type];\n",
       "        } catch (e) {\n",
       "            console.log(\"No handler for the '\" + msg_type + \"' message type: \", msg);\n",
       "            return;\n",
       "        }\n",
       "\n",
       "        if (callback) {\n",
       "            try {\n",
       "                // console.log(\"Handling '\" + msg_type + \"' message: \", msg);\n",
       "                callback(fig, msg);\n",
       "            } catch (e) {\n",
       "                console.log(\"Exception inside the 'handler_\" + msg_type + \"' callback:\", e, e.stack, msg);\n",
       "            }\n",
       "        }\n",
       "    };\n",
       "}\n",
       "\n",
       "// from http://stackoverflow.com/questions/1114465/getting-mouse-location-in-canvas\n",
       "mpl.findpos = function(e) {\n",
       "    //this section is from http://www.quirksmode.org/js/events_properties.html\n",
       "    var targ;\n",
       "    if (!e)\n",
       "        e = window.event;\n",
       "    if (e.target)\n",
       "        targ = e.target;\n",
       "    else if (e.srcElement)\n",
       "        targ = e.srcElement;\n",
       "    if (targ.nodeType == 3) // defeat Safari bug\n",
       "        targ = targ.parentNode;\n",
       "\n",
       "    // jQuery normalizes the pageX and pageY\n",
       "    // pageX,Y are the mouse positions relative to the document\n",
       "    // offset() returns the position of the element relative to the document\n",
       "    var x = e.pageX - $(targ).offset().left;\n",
       "    var y = e.pageY - $(targ).offset().top;\n",
       "\n",
       "    return {\"x\": x, \"y\": y};\n",
       "};\n",
       "\n",
       "/*\n",
       " * return a copy of an object with only non-object keys\n",
       " * we need this to avoid circular references\n",
       " * http://stackoverflow.com/a/24161582/3208463\n",
       " */\n",
       "function simpleKeys (original) {\n",
       "  return Object.keys(original).reduce(function (obj, key) {\n",
       "    if (typeof original[key] !== 'object')\n",
       "        obj[key] = original[key]\n",
       "    return obj;\n",
       "  }, {});\n",
       "}\n",
       "\n",
       "mpl.figure.prototype.mouse_event = function(event, name) {\n",
       "    var canvas_pos = mpl.findpos(event)\n",
       "\n",
       "    if (name === 'button_press')\n",
       "    {\n",
       "        this.canvas.focus();\n",
       "        this.canvas_div.focus();\n",
       "    }\n",
       "\n",
       "    var x = canvas_pos.x * mpl.ratio;\n",
       "    var y = canvas_pos.y * mpl.ratio;\n",
       "\n",
       "    this.send_message(name, {x: x, y: y, button: event.button,\n",
       "                             step: event.step,\n",
       "                             guiEvent: simpleKeys(event)});\n",
       "\n",
       "    /* This prevents the web browser from automatically changing to\n",
       "     * the text insertion cursor when the button is pressed.  We want\n",
       "     * to control all of the cursor setting manually through the\n",
       "     * 'cursor' event from matplotlib */\n",
       "    event.preventDefault();\n",
       "    return false;\n",
       "}\n",
       "\n",
       "mpl.figure.prototype._key_event_extra = function(event, name) {\n",
       "    // Handle any extra behaviour associated with a key event\n",
       "}\n",
       "\n",
       "mpl.figure.prototype.key_event = function(event, name) {\n",
       "\n",
       "    // Prevent repeat events\n",
       "    if (name == 'key_press')\n",
       "    {\n",
       "        if (event.which === this._key)\n",
       "            return;\n",
       "        else\n",
       "            this._key = event.which;\n",
       "    }\n",
       "    if (name == 'key_release')\n",
       "        this._key = null;\n",
       "\n",
       "    var value = '';\n",
       "    if (event.ctrlKey && event.which != 17)\n",
       "        value += \"ctrl+\";\n",
       "    if (event.altKey && event.which != 18)\n",
       "        value += \"alt+\";\n",
       "    if (event.shiftKey && event.which != 16)\n",
       "        value += \"shift+\";\n",
       "\n",
       "    value += 'k';\n",
       "    value += event.which.toString();\n",
       "\n",
       "    this._key_event_extra(event, name);\n",
       "\n",
       "    this.send_message(name, {key: value,\n",
       "                             guiEvent: simpleKeys(event)});\n",
       "    return false;\n",
       "}\n",
       "\n",
       "mpl.figure.prototype.toolbar_button_onclick = function(name) {\n",
       "    if (name == 'download') {\n",
       "        this.handle_save(this, null);\n",
       "    } else {\n",
       "        this.send_message(\"toolbar_button\", {name: name});\n",
       "    }\n",
       "};\n",
       "\n",
       "mpl.figure.prototype.toolbar_button_onmouseover = function(tooltip) {\n",
       "    this.message.textContent = tooltip;\n",
       "};\n",
       "mpl.toolbar_items = [[\"Home\", \"Reset original view\", \"fa fa-home icon-home\", \"home\"], [\"Back\", \"Back to  previous view\", \"fa fa-arrow-left icon-arrow-left\", \"back\"], [\"Forward\", \"Forward to next view\", \"fa fa-arrow-right icon-arrow-right\", \"forward\"], [\"\", \"\", \"\", \"\"], [\"Pan\", \"Pan axes with left mouse, zoom with right\", \"fa fa-arrows icon-move\", \"pan\"], [\"Zoom\", \"Zoom to rectangle\", \"fa fa-square-o icon-check-empty\", \"zoom\"], [\"\", \"\", \"\", \"\"], [\"Download\", \"Download plot\", \"fa fa-floppy-o icon-save\", \"download\"]];\n",
       "\n",
       "mpl.extensions = [\"eps\", \"jpeg\", \"pdf\", \"png\", \"ps\", \"raw\", \"svg\", \"tif\"];\n",
       "\n",
       "mpl.default_extension = \"png\";var comm_websocket_adapter = function(comm) {\n",
       "    // Create a \"websocket\"-like object which calls the given IPython comm\n",
       "    // object with the appropriate methods. Currently this is a non binary\n",
       "    // socket, so there is still some room for performance tuning.\n",
       "    var ws = {};\n",
       "\n",
       "    ws.close = function() {\n",
       "        comm.close()\n",
       "    };\n",
       "    ws.send = function(m) {\n",
       "        //console.log('sending', m);\n",
       "        comm.send(m);\n",
       "    };\n",
       "    // Register the callback with on_msg.\n",
       "    comm.on_msg(function(msg) {\n",
       "        //console.log('receiving', msg['content']['data'], msg);\n",
       "        // Pass the mpl event to the overridden (by mpl) onmessage function.\n",
       "        ws.onmessage(msg['content']['data'])\n",
       "    });\n",
       "    return ws;\n",
       "}\n",
       "\n",
       "mpl.mpl_figure_comm = function(comm, msg) {\n",
       "    // This is the function which gets called when the mpl process\n",
       "    // starts-up an IPython Comm through the \"matplotlib\" channel.\n",
       "\n",
       "    var id = msg.content.data.id;\n",
       "    // Get hold of the div created by the display call when the Comm\n",
       "    // socket was opened in Python.\n",
       "    var element = $(\"#\" + id);\n",
       "    var ws_proxy = comm_websocket_adapter(comm)\n",
       "\n",
       "    function ondownload(figure, format) {\n",
       "        window.open(figure.imageObj.src);\n",
       "    }\n",
       "\n",
       "    var fig = new mpl.figure(id, ws_proxy,\n",
       "                           ondownload,\n",
       "                           element.get(0));\n",
       "\n",
       "    // Call onopen now - mpl needs it, as it is assuming we've passed it a real\n",
       "    // web socket which is closed, not our websocket->open comm proxy.\n",
       "    ws_proxy.onopen();\n",
       "\n",
       "    fig.parent_element = element.get(0);\n",
       "    fig.cell_info = mpl.find_output_cell(\"<div id='\" + id + \"'></div>\");\n",
       "    if (!fig.cell_info) {\n",
       "        console.error(\"Failed to find cell for figure\", id, fig);\n",
       "        return;\n",
       "    }\n",
       "\n",
       "    var output_index = fig.cell_info[2]\n",
       "    var cell = fig.cell_info[0];\n",
       "\n",
       "};\n",
       "\n",
       "mpl.figure.prototype.handle_close = function(fig, msg) {\n",
       "    var width = fig.canvas.width/mpl.ratio\n",
       "    fig.root.unbind('remove')\n",
       "\n",
       "    // Update the output cell to use the data from the current canvas.\n",
       "    fig.push_to_output();\n",
       "    var dataURL = fig.canvas.toDataURL();\n",
       "    // Re-enable the keyboard manager in IPython - without this line, in FF,\n",
       "    // the notebook keyboard shortcuts fail.\n",
       "    IPython.keyboard_manager.enable()\n",
       "    $(fig.parent_element).html('<img src=\"' + dataURL + '\" width=\"' + width + '\">');\n",
       "    fig.close_ws(fig, msg);\n",
       "}\n",
       "\n",
       "mpl.figure.prototype.close_ws = function(fig, msg){\n",
       "    fig.send_message('closing', msg);\n",
       "    // fig.ws.close()\n",
       "}\n",
       "\n",
       "mpl.figure.prototype.push_to_output = function(remove_interactive) {\n",
       "    // Turn the data on the canvas into data in the output cell.\n",
       "    var width = this.canvas.width/mpl.ratio\n",
       "    var dataURL = this.canvas.toDataURL();\n",
       "    this.cell_info[1]['text/html'] = '<img src=\"' + dataURL + '\" width=\"' + width + '\">';\n",
       "}\n",
       "\n",
       "mpl.figure.prototype.updated_canvas_event = function() {\n",
       "    // Tell IPython that the notebook contents must change.\n",
       "    IPython.notebook.set_dirty(true);\n",
       "    this.send_message(\"ack\", {});\n",
       "    var fig = this;\n",
       "    // Wait a second, then push the new image to the DOM so\n",
       "    // that it is saved nicely (might be nice to debounce this).\n",
       "    setTimeout(function () { fig.push_to_output() }, 1000);\n",
       "}\n",
       "\n",
       "mpl.figure.prototype._init_toolbar = function() {\n",
       "    var fig = this;\n",
       "\n",
       "    var nav_element = $('<div/>')\n",
       "    nav_element.attr('style', 'width: 100%');\n",
       "    this.root.append(nav_element);\n",
       "\n",
       "    // Define a callback function for later on.\n",
       "    function toolbar_event(event) {\n",
       "        return fig.toolbar_button_onclick(event['data']);\n",
       "    }\n",
       "    function toolbar_mouse_event(event) {\n",
       "        return fig.toolbar_button_onmouseover(event['data']);\n",
       "    }\n",
       "\n",
       "    for(var toolbar_ind in mpl.toolbar_items){\n",
       "        var name = mpl.toolbar_items[toolbar_ind][0];\n",
       "        var tooltip = mpl.toolbar_items[toolbar_ind][1];\n",
       "        var image = mpl.toolbar_items[toolbar_ind][2];\n",
       "        var method_name = mpl.toolbar_items[toolbar_ind][3];\n",
       "\n",
       "        if (!name) { continue; };\n",
       "\n",
       "        var button = $('<button class=\"btn btn-default\" href=\"#\" title=\"' + name + '\"><i class=\"fa ' + image + ' fa-lg\"></i></button>');\n",
       "        button.click(method_name, toolbar_event);\n",
       "        button.mouseover(tooltip, toolbar_mouse_event);\n",
       "        nav_element.append(button);\n",
       "    }\n",
       "\n",
       "    // Add the status bar.\n",
       "    var status_bar = $('<span class=\"mpl-message\" style=\"text-align:right; float: right;\"/>');\n",
       "    nav_element.append(status_bar);\n",
       "    this.message = status_bar[0];\n",
       "\n",
       "    // Add the close button to the window.\n",
       "    var buttongrp = $('<div class=\"btn-group inline pull-right\"></div>');\n",
       "    var button = $('<button class=\"btn btn-mini btn-primary\" href=\"#\" title=\"Stop Interaction\"><i class=\"fa fa-power-off icon-remove icon-large\"></i></button>');\n",
       "    button.click(function (evt) { fig.handle_close(fig, {}); } );\n",
       "    button.mouseover('Stop Interaction', toolbar_mouse_event);\n",
       "    buttongrp.append(button);\n",
       "    var titlebar = this.root.find($('.ui-dialog-titlebar'));\n",
       "    titlebar.prepend(buttongrp);\n",
       "}\n",
       "\n",
       "mpl.figure.prototype._root_extra_style = function(el){\n",
       "    var fig = this\n",
       "    el.on(\"remove\", function(){\n",
       "\tfig.close_ws(fig, {});\n",
       "    });\n",
       "}\n",
       "\n",
       "mpl.figure.prototype._canvas_extra_style = function(el){\n",
       "    // this is important to make the div 'focusable\n",
       "    el.attr('tabindex', 0)\n",
       "    // reach out to IPython and tell the keyboard manager to turn it's self\n",
       "    // off when our div gets focus\n",
       "\n",
       "    // location in version 3\n",
       "    if (IPython.notebook.keyboard_manager) {\n",
       "        IPython.notebook.keyboard_manager.register_events(el);\n",
       "    }\n",
       "    else {\n",
       "        // location in version 2\n",
       "        IPython.keyboard_manager.register_events(el);\n",
       "    }\n",
       "\n",
       "}\n",
       "\n",
       "mpl.figure.prototype._key_event_extra = function(event, name) {\n",
       "    var manager = IPython.notebook.keyboard_manager;\n",
       "    if (!manager)\n",
       "        manager = IPython.keyboard_manager;\n",
       "\n",
       "    // Check for shift+enter\n",
       "    if (event.shiftKey && event.which == 13) {\n",
       "        this.canvas_div.blur();\n",
       "        event.shiftKey = false;\n",
       "        // Send a \"J\" for go to next cell\n",
       "        event.which = 74;\n",
       "        event.keyCode = 74;\n",
       "        manager.command_mode();\n",
       "        manager.handle_keydown(event);\n",
       "    }\n",
       "}\n",
       "\n",
       "mpl.figure.prototype.handle_save = function(fig, msg) {\n",
       "    fig.ondownload(fig, null);\n",
       "}\n",
       "\n",
       "\n",
       "mpl.find_output_cell = function(html_output) {\n",
       "    // Return the cell and output element which can be found *uniquely* in the notebook.\n",
       "    // Note - this is a bit hacky, but it is done because the \"notebook_saving.Notebook\"\n",
       "    // IPython event is triggered only after the cells have been serialised, which for\n",
       "    // our purposes (turning an active figure into a static one), is too late.\n",
       "    var cells = IPython.notebook.get_cells();\n",
       "    var ncells = cells.length;\n",
       "    for (var i=0; i<ncells; i++) {\n",
       "        var cell = cells[i];\n",
       "        if (cell.cell_type === 'code'){\n",
       "            for (var j=0; j<cell.output_area.outputs.length; j++) {\n",
       "                var data = cell.output_area.outputs[j];\n",
       "                if (data.data) {\n",
       "                    // IPython >= 3 moved mimebundle to data attribute of output\n",
       "                    data = data.data;\n",
       "                }\n",
       "                if (data['text/html'] == html_output) {\n",
       "                    return [cell, data, j];\n",
       "                }\n",
       "            }\n",
       "        }\n",
       "    }\n",
       "}\n",
       "\n",
       "// Register the function which deals with the matplotlib target/channel.\n",
       "// The kernel may be null if the page has been refreshed.\n",
       "if (IPython.notebook.kernel != null) {\n",
       "    IPython.notebook.kernel.comm_manager.register_target('matplotlib', mpl.mpl_figure_comm);\n",
       "}\n"
      ],
      "text/plain": [
       "<IPython.core.display.Javascript object>"
      ]
     },
     "metadata": {},
     "output_type": "display_data"
    },
    {
     "data": {
      "text/html": [
       "<div id='0837c6a3-3dcd-42ef-a986-faefddd231b6'></div>"
      ],
      "text/plain": [
       "<IPython.core.display.HTML object>"
      ]
     },
     "metadata": {},
     "output_type": "display_data"
    },
    {
     "data": {
      "application/vnd.jupyter.widget-view+json": {
       "model_id": "eefe88164c7b4867848605d1f393f12e",
       "version_major": 2,
       "version_minor": 0
      },
      "text/plain": [
       "Button(button_style='info', description='Play Memory Game', layout=Layout(height='60px', width='30%'), style=B…"
      ]
     },
     "metadata": {},
     "output_type": "display_data"
    }
   ],
   "source": [
    "%matplotlib notebook\n",
    "\n",
    "#Memory game for state transitions\n",
    "import random\n",
    "\n",
    "x = [470,550,810,810,1100,1180]\n",
    "y = [550,550,835,905,550,550]\n",
    "\n",
    "img = plt.imread(\"images/changes_of_state.png\")\n",
    "fig, ax = plt.subplots(figsize = (8,8), num = 'Changes of State of Water')\n",
    "ax.imshow(img)\n",
    "\n",
    "\n",
    "annot = ax.annotate(\"\", xy=(0,0), xytext=(30,30),textcoords=\"offset points\",\n",
    "                    bbox=dict(boxstyle=\"round\", fc=\"w\"),\n",
    "                    arrowprops=dict(arrowstyle=\"->\"))\n",
    "annot.set_visible(False)\n",
    "\n",
    "\n",
    "names = ['Melting','Freezing','Condensation','Vaporization','Deposition','Sublimation']\n",
    "\n",
    "norm = plt.Normalize(1,4)\n",
    "cmap = plt.cm.RdYlGn\n",
    "sc = plt.scatter(x,y,c = 'k', marker = 's', alpha = 0.7, s = 250)\n",
    "\n",
    "annot = ax.annotate(\"\", xy=(0,0), xytext=(30,30),textcoords=\"offset points\",\n",
    "                    bbox=dict(boxstyle=\"round\", fc=\"w\"),\n",
    "                    arrowprops=dict(arrowstyle=\"->\"))\n",
    "annot.set_visible(False)\n",
    "\n",
    "def update_annot(ind):\n",
    "\n",
    "    pos = sc.get_offsets()[ind[\"ind\"][0]]\n",
    "    annot.xy = pos\n",
    "    text = \"{}\".format(\" \".join([names[n] for n in ind[\"ind\"]]))\n",
    "    annot.set_text(text)\n",
    "    annot.get_bbox_patch().set_alpha(1)\n",
    "\n",
    "\n",
    "def hover(event):\n",
    "    vis = annot.get_visible()\n",
    "    if event.inaxes == ax:\n",
    "        cont, ind = sc.contains(event)\n",
    "        if cont:\n",
    "            update_annot(ind)\n",
    "            annot.set_visible(True)\n",
    "            fig.canvas.draw_idle()\n",
    "        else:\n",
    "            if vis:\n",
    "                annot.set_visible(False)\n",
    "                fig.canvas.draw_idle()\n",
    "\n",
    "fig.canvas.mpl_connect(\"motion_notify_event\", hover)\n",
    "\n",
    "fig.patch.set_visible(False)\n",
    "ax.axis('off')\n",
    "plt.show()\n",
    "\n",
    "memgame = widgets.Button(description= \"Play Memory Game\", \n",
    "                         layout = Layout(width='30%', height='60px'),\n",
    "                         button_style = 'info'\n",
    "                        )\n",
    "reset = widgets.Button(description=\"Reset Game\", \n",
    "                       layout = Layout(width='30%', height='60px'),\n",
    "                       button_style = 'info'\n",
    "                      )\n",
    "\n",
    "display(memgame)\n",
    "\n",
    "def button_onclick(b):\n",
    "    annot.remove()\n",
    "    x = [470,550,810,810,1100,1180]\n",
    "    y = [550,550,835,905,550,550]\n",
    "    ax.axis('off')\n",
    "    plt.scatter(x,y,c = 'k', marker = 's', alpha = 1, s = 250 )\n",
    "    a = [1,2,3,4,5,6]\n",
    "    corr = 10  #small correction on number\n",
    "    random.shuffle(a)\n",
    "    for i,j,k in zip(x,y,a):\n",
    "        ax.annotate(str(k), xy = (i-corr,j+corr), color = 'w')\n",
    "        \n",
    "    a1 = widgets.RadioButtons(\n",
    "    options=['Melting','Freezing','Condensation','Vaporization','Deposition','Sublimation'],\n",
    "    description = '1)',\n",
    "    value = None,\n",
    "    disabled=False)\n",
    "    a2 = widgets.RadioButtons(\n",
    "    options=['Melting','Freezing','Condensation','Vaporization','Deposition','Sublimation'],\n",
    "    description = '2)',\n",
    "    value = None,\n",
    "    disabled=False)\n",
    "    a3 = widgets.RadioButtons(\n",
    "    options=['Melting','Freezing','Condensation','Vaporization','Deposition','Sublimation'],\n",
    "    description = '3)',\n",
    "    value = None,\n",
    "    disabled=False)\n",
    "    a4 = widgets.RadioButtons(\n",
    "    options=['Melting','Freezing','Condensation','Vaporization','Deposition','Sublimation'],\n",
    "    description = '4)',\n",
    "    value = None,\n",
    "    disabled=False)\n",
    "    a5 = widgets.RadioButtons(\n",
    "    options=['Melting','Freezing','Condensation','Vaporization','Deposition','Sublimation'],\n",
    "    description = '5)',\n",
    "    value = None,\n",
    "    disabled=False)\n",
    "    a6 = widgets.RadioButtons(\n",
    "    options=['Melting','Freezing','Condensation','Vaporization','Deposition','Sublimation'],\n",
    "    description = '6)',\n",
    "    value = None,\n",
    "    disabled=False)\n",
    "    display(a1,a2,a3,a4,a5,a6)\n",
    "    button_check = widgets.Button(description=\"Check your answers\")\n",
    "    display(button_check)\n",
    "    \n",
    "    def check_button(x):\n",
    "        if a1.value == names[a.index(1)] and a2.value == names[a.index(2)] and a3.value == names[a.index(3)] \\\n",
    "        and a4.value == names[a.index(4)] and a5.value == names[a.index(5)] and a6.value == names[a.index(6)]:\n",
    "            display(Markdown(\"Correct!\"))\n",
    "            display(play_again)\n",
    "        else:   \n",
    "            display(Latex(\"Those aren't quite correct, please try again.\"))\n",
    "    button_check.on_click(check_button)\n",
    "                    \n",
    "        \n",
    "memgame.on_click(button_onclick)\n",
    "\n",
    "play_again = widgets.Button(description = \"Play Again\",\n",
    "                            layout = Layout(width='30%', height='60px'),\n",
    "                            button_style = 'info'\n",
    "                           )\n",
    "\n",
    "def joue_encore(x):\n",
    "    clear_output()\n",
    "    img = plt.imread(\"images/changes_of_state.png\")\n",
    "    fig, ax = plt.subplots(figsize = (8,8))\n",
    "    ax.imshow(img)\n",
    "    x = [470,550,810,810,1100,1180]\n",
    "    y = [550,550,835,905,550,550]\n",
    "    ax.axis('off')\n",
    "    plt.scatter(x,y,c = 'k', marker = 's', alpha = 1, s = 250 )\n",
    "    a = [1,2,3,4,5,6]\n",
    "    corr = 10  #small correction on number\n",
    "    random.shuffle(a)\n",
    "    for i,j,k in zip(x,y,a):\n",
    "        ax.annotate(str(k), xy = (i-corr,j+corr), color = 'w')\n",
    "        \n",
    "    a1 = widgets.RadioButtons(\n",
    "    options=['Melting','Freezing','Condensation','Vaporization','Deposition','Sublimation'],\n",
    "    description = '1)',\n",
    "    value = None,\n",
    "    disabled=False)\n",
    "    a2 = widgets.RadioButtons(\n",
    "    options=['Melting','Freezing','Condensation','Vaporization','Deposition','Sublimation'],\n",
    "    description = '2)',\n",
    "    value = None,\n",
    "    disabled=False)\n",
    "    a3 = widgets.RadioButtons(\n",
    "    options=['Melting','Freezing','Condensation','Vaporization','Deposition','Sublimation'],\n",
    "    description = '3)',\n",
    "    value = None,\n",
    "    disabled=False)\n",
    "    a4 = widgets.RadioButtons(\n",
    "    options=['Melting','Freezing','Condensation','Vaporization','Deposition','Sublimation'],\n",
    "    description = '4)',\n",
    "    value = None,\n",
    "    disabled=False)\n",
    "    a5 = widgets.RadioButtons(\n",
    "    options=['Melting','Freezing','Condensation','Vaporization','Deposition','Sublimation'],\n",
    "    description = '5)',\n",
    "    value = None,\n",
    "    disabled=False)\n",
    "    a6 = widgets.RadioButtons(\n",
    "    options=['Melting','Freezing','Condensation','Vaporization','Deposition','Sublimation'],\n",
    "    description = '6)',\n",
    "    value = None,\n",
    "    disabled=False)\n",
    "    display(a1,a2,a3,a4,a5,a6)\n",
    "    button_check = widgets.Button(description=\"Check your answers\")\n",
    "    display(button_check)\n",
    "    \n",
    "    def check_button(x):\n",
    "        if a1.value == names[a.index(1)] and a2.value == names[a.index(2)] and a3.value == names[a.index(3)] \\\n",
    "        and a4.value == names[a.index(4)] and a5.value == names[a.index(5)] and a6.value == names[a.index(6)]:\n",
    "            display(Markdown(\"Correct!\"))\n",
    "            display(play_again)\n",
    "        else:   \n",
    "            display(Latex(\"Those aren't quite correct, please try again.\"))\n",
    "    button_check.on_click(check_button)\n",
    "\n",
    "play_again.on_click(joue_encore) "
   ]
  },
  {
   "cell_type": "markdown",
   "metadata": {
    "hidden": false
   },
   "source": [
    "### <center>Visualizing the changes of state</center>\n",
    "\n",
    "Below is an interactive animation on the changes of state for water. Move the slider to change the temperature of the particles in the box below. Observe where the changes of state occur and how the particles gain more kinetic energy as the temperature increases."
   ]
  },
  {
   "cell_type": "code",
   "execution_count": 7,
   "metadata": {
    "hidden": false
   },
   "outputs": [
    {
     "data": {
      "text/html": [
       "\n",
       "<div style=\"text-align: center\">\n",
       "    <iframe width=\"500px\" height=\"420px\" src=\"animations/changes_of_state.html\" frameborder=\"0\"></iframe>\n",
       "</div>\n",
       "         \n"
      ],
      "text/plain": [
       "<IPython.core.display.HTML object>"
      ]
     },
     "metadata": {},
     "output_type": "display_data"
    }
   ],
   "source": [
    "%%html\n",
    "\n",
    "<div style=\"text-align: center\">\n",
    "    <iframe width=\"500px\" height=\"420px\" src=\"animations/changes_of_state.html\" frameborder=\"0\"></iframe>\n",
    "</div>\n",
    "         "
   ]
  },
  {
   "cell_type": "markdown",
   "metadata": {
    "hidden": false
   },
   "source": [
    "# <center> How is Heat Transmitted?</center>\n",
    "There are three main methods by which heat is transmitted: conduction, convection and radiation. Below we present the basic theory behind these methods of heat transfer and some applications of how we use them to improve our lives. Examples will be provided where we analyze how the three different methods of heat transmission occur in natural processes. "
   ]
  },
  {
   "cell_type": "markdown",
   "metadata": {
    "hidden": false
   },
   "source": [
    "## 1. Conduction\n",
    "Heat transfer via **conduction** occurs when two bodies, with different temperatures, are in physical contact with each other. Conduction is how a stove top heats a pan or why a hot cup feels warm on your hand. Different materials, dependent on which state they are in, conduct heat differently. These differences are expressed by a material property known as the *thermal conductivity*. \n",
    "\n",
    "<img src = \"images/thermal_conductivity.jpg\" width =\"480\" height=\"480\">\n",
    "\n",
    "\n",
    "\n",
    "\n",
    "This graphic provides an visual interpretion of the heat flow, denoted as $\\rm Q$ between two bodies in contact at surface $\\rm A$ with temperatures $\\rm T_1$ and $\\rm T_2$. Let's explore how thermal conductivity changes in the different materials.\n",
    "\n",
    "### Thermal Conductivity\n",
    "\n",
    "Materials with low thermal conductivity transfer heat slowly and materials with high conductivity transfer heat quickly. Can you think of some benefits of using materials with different thermal conductivity for commercial use? Take a to-go mug for example, the whole purpose of which is to keep the contained drink warm or cold. If the drink is warm, the contents will be warmer than the mug itself. They will then exchange heat to the body of the mug. If the drink is cold then the mug will exchange heat to the contents since it is in contact with a warmer outside environment. In either case, want the thermos to have a low *thermal conductivity* so that it does not easily exchange heat with its environment. This will preserve the temperature of its contents. Here is an interesting video from Veritasium illustrating how conduction occurs differently in different materials. \n",
    "\n",
    "If you haven't heard of Veritasium before, I strongly encourage you to check the YouTube channel out. He explains a lot of topics in science and there's always something new to learn from each video."
   ]
  },
  {
   "cell_type": "code",
   "execution_count": 8,
   "metadata": {
    "hidden": false,
    "scrolled": true
   },
   "outputs": [
    {
     "data": {
      "text/html": [
       "<div style=\"text-align: center\">\n",
       "<iframe width=\"560\" height=\"315\" src=\"https://www.youtube.com/embed/vqDbMEdLiCs\" frameborder=\"0\" allow=\"autoplay; encrypted-media\" allowfullscreen></iframe>\n",
       "</div>\n"
      ],
      "text/plain": [
       "<IPython.core.display.HTML object>"
      ]
     },
     "metadata": {},
     "output_type": "display_data"
    }
   ],
   "source": [
    "%%html\n",
    "<div style=\"text-align: center\">\n",
    "<iframe width=\"560\" height=\"315\" src=\"https://www.youtube.com/embed/vqDbMEdLiCs\" frameborder=\"0\" allow=\"autoplay; encrypted-media\" allowfullscreen></iframe>\n",
    "</div>"
   ]
  },
  {
   "cell_type": "markdown",
   "metadata": {
    "hidden": false
   },
   "source": [
    "## 2. Convection\n",
    "\n",
    "Heat transfer via **convection** occurs due to the movement of molecules in a fluid (gas or liquid). I tend to think of heat transfer in terms of convection. Since it involves the flow of a gas or liquid from a warmer to a colder temperature within the fluid, I believe it is the easiest to visualize. Convection does not occur in solid materials because the molecules that make up a solid do not have the ability to flow; this is what makes a solid a solid. Not unlike conduction, convection occurs from the flow of heat energy due a temperature difference within a fluid. The hotter fluid flows to regions where the fluid is cooler. It is the process which governs the currents in our oceans and the movement of air in our atmosphere. Our understanding of convection has helped us forecast the weather and even explain how energy is transported within the sun!\n",
    "\n",
    "---\n",
    "**Why does the movement occur?**\n",
    "\n",
    "If we consider the particle model of matter, the fluid moves due to changes in **kinetic energy** of the particles in the fluid. The hotter regions in the fluid, the ones with more heat energy, have more \"excited\" particles that are colliding into one another more frequently. These regions are less **dense** than the colder regions. In the colder regions, the particles are colliding into one another less frequently therefore they do not spread out as much. Since there are less collisions, the particles are more concentrated in the colder region. These more dense and concentrated regions in the fluid are heavier since they have more particles in them. The cold, heavier regions will sink; allowing for the hotter regions to rise. Convection is the reason why \"heat rises\" in a room! \n",
    "\n",
    "---\n",
    "**Examples of convective processes**\n",
    "\n",
    "\n",
    "- In a pot filled with water on the stove, we observe convective heat transfer in the bubbles rising to the top of the pot. These are hotter, lense dense regions rising to the surface of the liquid. When these regions reach the point the that they are lense dense than the surrounding air, they will evaporate and undergo a transition of state from liquid to gas. \n",
    "\n",
    "<img src=\"images/pot_boiling.png\" width = \"400\" height = \"400\">\n",
    "\n",
    "\n",
    "- In stars, there is a zone in which energy is transported from the core of the star, where energy is produced by nuclear fusion, to the surface. This is known as the *convective zone*. Due to the complicated nature of energy transportation within stars, this proces is difficult to model and the subject of ongoing research within the field of stellar astrophysics. Understanding convection has helped astrophysicists know more about our sun!\n",
    "\n",
    "<img src = \"images/convectioninstarsdata.jpg\" width=\"400\" height=\"400\">\n",
    "\n",
    "\n",
    "- In the atmosphere, convection plays a major role in the creation of a thunderstorm. Clouds form as hotter air rises, carrying moisture with it. The air cools on its ascent, causing the moisture to condense. If the air is instable enough, this process can occur for a longer time. This results in the formation of \"cumulonimbus clouds\", which are those very tall pillowy clouds which have the ability to produce thunder and lightning. Given enough moisture, instability in the air and convection (heat transfer), a thuderstorm is likely to occur. \n",
    "\n",
    "<img src = \"images/convectioninthunderstorms.jpg\" width = \"400\" height = \"450\" >\n",
    "\n",
    "---"
   ]
  },
  {
   "cell_type": "markdown",
   "metadata": {
    "hidden": false
   },
   "source": [
    "## 3. Radiation\n",
    "\n",
    "Radiation is our third and final form of heat transfer to discuss. Heat transfer via radiation occurs in all matter that has a temperature above absolute 0 (0 Kelvin). This occurs from a conversion of thermal energy into electromagnetic energy. Energy is \"radiated\" away from a body in the form of electromagnetic radiation, in other words \"light\" emanating from a hot object. This light varies in wavelength and is dependent on the temperature of the body; hotter objects emit radiation at shorter wavelengths that carry higher energy. For example, in a fire, you may have heard how the blue part of a fire is hotter than the red part. This is true and is due to the fact that blue light has a shorter wavelength than red light, and since the wavelength is dependent on the temperature of the material emmitting it, the blue portion of a fire is hotter. \n",
    "\n",
    "An interesting consequence of this fact comes from the analysis of the wavelengths of light radiated from the sun. Below is graphic showing the types of radiation emitted from the sun.\n",
    "\n",
    "\n",
    "<img src = \"images/earth_sun_plank.jpg\" width = \"400\" height =\"400\">\n",
    "\n",
    "\n",
    "The most intensely radiated wavelength from the sun comes from the green part of visible light. Plants, trees, and even our eyes have become fine tuned to absorbing and perceiving more variations of the colour green because this is the most prominent radiation from the sun. Understanding thermal radiation has offered a scientific explanation on why our planet is so green. \n",
    "\n",
    "\n",
    "Below a list of processes in which heat transfer occurs in different forms, you will be asked to check the box for which type of heat transfer you think is correct to match the description. Press \"Check Answer\" to see if you were correct!\n",
    "\n",
    "### Boiling Water\n",
    "\n",
    "<img src=\"images/Boiling_Water_pic.jpg\" height = \"300\" width = \"300\"> \n",
    "\n",
    "---"
   ]
  },
  {
   "cell_type": "code",
   "execution_count": 29,
   "metadata": {
    "hidden": false,
    "scrolled": false
   },
   "outputs": [
    {
     "data": {
      "text/markdown": [
       "1) After you turn on the stove, you hold your hand above the stove and it feels hot."
      ],
      "text/plain": [
       "<IPython.core.display.Markdown object>"
      ]
     },
     "metadata": {},
     "output_type": "display_data"
    },
    {
     "data": {
      "application/vnd.jupyter.widget-view+json": {
       "model_id": "9b63bf5bdc464c8ca19c1653c8bfac20",
       "version_major": 2,
       "version_minor": 0
      },
      "text/plain": [
       "RadioButtons(options=('Conduction', 'Convection', 'Radiation'), value=None)"
      ]
     },
     "metadata": {},
     "output_type": "display_data"
    },
    {
     "data": {
      "text/markdown": [
       "2) The pot starts to heat up when placed on the stove."
      ],
      "text/plain": [
       "<IPython.core.display.Markdown object>"
      ]
     },
     "metadata": {},
     "output_type": "display_data"
    },
    {
     "data": {
      "application/vnd.jupyter.widget-view+json": {
       "model_id": "61753602b1674b3f9057c571d8bb7373",
       "version_major": 2,
       "version_minor": 0
      },
      "text/plain": [
       "RadioButtons(options=('Conduction', 'Convection', 'Radiation'), value=None)"
      ]
     },
     "metadata": {},
     "output_type": "display_data"
    },
    {
     "data": {
      "text/markdown": [
       "3) Hot water rises to the surface of the pot."
      ],
      "text/plain": [
       "<IPython.core.display.Markdown object>"
      ]
     },
     "metadata": {},
     "output_type": "display_data"
    },
    {
     "data": {
      "application/vnd.jupyter.widget-view+json": {
       "model_id": "75310b15d0e7483f9f1c62a90bf014a1",
       "version_major": 2,
       "version_minor": 0
      },
      "text/plain": [
       "RadioButtons(options=('Conduction', 'Convection', 'Radiation'), value=None)"
      ]
     },
     "metadata": {},
     "output_type": "display_data"
    },
    {
     "data": {
      "text/markdown": [
       "4) Steam from the pot feels hot on your hand. (Somewhat tricky)"
      ],
      "text/plain": [
       "<IPython.core.display.Markdown object>"
      ]
     },
     "metadata": {},
     "output_type": "display_data"
    },
    {
     "data": {
      "application/vnd.jupyter.widget-view+json": {
       "model_id": "79d9241a6f674a44be7593b1e3a1d52c",
       "version_major": 2,
       "version_minor": 0
      },
      "text/plain": [
       "RadioButtons(options=('Conduction', 'Convection', 'Radiation'), value=None)"
      ]
     },
     "metadata": {},
     "output_type": "display_data"
    },
    {
     "data": {
      "application/vnd.jupyter.widget-view+json": {
       "model_id": "10b93a2709ef4bffab0777f1895eb7b8",
       "version_major": 2,
       "version_minor": 0
      },
      "text/plain": [
       "Button(button_style='info', description='Check your answers', layout=Layout(height='60px', width='30%'), style…"
      ]
     },
     "metadata": {},
     "output_type": "display_data"
    },
    {
     "data": {
      "text/latex": [
       "Those aren't quite correct, please try again."
      ],
      "text/plain": [
       "<IPython.core.display.Latex object>"
      ]
     },
     "metadata": {},
     "output_type": "display_data"
    },
    {
     "data": {
      "text/latex": [
       "1. Incorrect, 2. Correct, 3. Incorrect, 4. Correct"
      ],
      "text/plain": [
       "<IPython.core.display.Latex object>"
      ]
     },
     "metadata": {},
     "output_type": "display_data"
    }
   ],
   "source": [
    "display(Markdown('1) After you turn on the stove, you hold your hand above the stove and it feels hot.'))\n",
    "\n",
    "a1 = widgets.RadioButtons(\n",
    "    options=['Conduction', 'Convection', 'Radiation'],\n",
    "    value = None,\n",
    "    disabled=False\n",
    ")\n",
    "\n",
    "display(a1)\n",
    "\n",
    "display(Markdown('2) The pot starts to heat up when placed on the stove.'))\n",
    "\n",
    "a2 = widgets.RadioButtons(\n",
    "    options=['Conduction', 'Convection', 'Radiation'],\n",
    "    value = None,\n",
    "    disabled=False\n",
    ")\n",
    "\n",
    "display(a2)\n",
    "\n",
    "display(Markdown('3) Hot water rises to the surface of the pot.'))\n",
    "\n",
    "a3 = widgets.RadioButtons(\n",
    "    options=['Conduction', 'Convection', 'Radiation'],\n",
    "    value = None,\n",
    "    disabled=False\n",
    ")\n",
    "display(a3)\n",
    "\n",
    "display(Markdown('4) Steam from the pot feels hot on your hand. (Somewhat tricky)'))\n",
    "\n",
    "a4 = widgets.RadioButtons(\n",
    "    options=['Conduction', 'Convection', 'Radiation'],\n",
    "    value = None,\n",
    "    disabled=False\n",
    ")\n",
    "\n",
    "display(a4)\n",
    "\n",
    "#create a button widget to check answers, again calling the button to display\n",
    "button_check = widgets.Button(description=\"Check your answers\",\n",
    "                              layout = Layout(width='30%', height='60px'),\n",
    "                              button_style = 'info'\n",
    "                             )\n",
    "display(button_check)\n",
    "\n",
    "#compare answers to responses\n",
    "def compare(l1,l2):\n",
    "    a = []\n",
    "    for i in range(0,min(len(l1),len(l2))):\n",
    "        if l1[i] == l2[i]:\n",
    "            a.append(1)\n",
    "        else:\n",
    "            a.append(0)\n",
    "    return a\n",
    "\n",
    "ans1 = ['Radiation', 'Conduction', 'Convection', 'Conduction']\n",
    "\n",
    "def check_button(x):\n",
    "    rs1 = [a1.value, a2.value, a3.value, a4.value]\n",
    "    if  rs1 == ans1:\n",
    "        display(Markdown(\"Correct! Here's why : </br></br> \\\n",
    "                          1. The stove top heats up and radiates energy away from it. This is what you feels in your hand as heat. </br> \\\n",
    "                          2. The stove top conducts heat to the pot since they are in physical contact with one another. </br> \\\n",
    "                          3. Heat is transferred by fluid motion within the water via convection. </br> \\\n",
    "                          4. The gas particles carry heat energy, in the form of kinetic energy, which gets transferred via physical contact with your hand and the steam. </br> \\\n",
    "                             Since the heat transfer occurs via physical contact, the process responsible for the heat transfer is conduction. \"))\n",
    "    else:  \n",
    "        bien = compare(rs1,ans1)\n",
    "        h = []\n",
    "        for i in bien:\n",
    "            if i == 0:\n",
    "                h.append('Incorrect')\n",
    "            if i == 1:\n",
    "                h.append('Correct')\n",
    "                \n",
    "        \n",
    "        display(Latex(\"Those aren't quite correct, please try again.\"))\n",
    "        display(Latex(\"1. %s, 2. %s, 3. %s, 4. %s\" %(h[0],h[1],h[2],h[3])))\n",
    "        \n",
    "button_check.on_click(check_button)\n",
    "\n"
   ]
  },
  {
   "cell_type": "markdown",
   "metadata": {
    "hidden": false
   },
   "source": [
    "### Refridgerator\n",
    "\n",
    "<img src=\"images/fridge.jpg\" height = \"300\" width=\"300\">\n",
    "\n"
   ]
  },
  {
   "cell_type": "code",
   "execution_count": 27,
   "metadata": {
    "hidden": false,
    "scrolled": false
   },
   "outputs": [
    {
     "data": {
      "text/markdown": [
       "1) Hot air is pumped out of the food compartment"
      ],
      "text/plain": [
       "<IPython.core.display.Markdown object>"
      ]
     },
     "metadata": {},
     "output_type": "display_data"
    },
    {
     "data": {
      "application/vnd.jupyter.widget-view+json": {
       "model_id": "18914a7ba58f4b15a36fc9b28e633764",
       "version_major": 2,
       "version_minor": 0
      },
      "text/plain": [
       "RadioButtons(options=('Conduction', 'Convection', 'Radiation'), value=None)"
      ]
     },
     "metadata": {},
     "output_type": "display_data"
    },
    {
     "data": {
      "text/markdown": [
       "2)  You grab a cold popsicle out of the fridge. It feels cold on your hand."
      ],
      "text/plain": [
       "<IPython.core.display.Markdown object>"
      ]
     },
     "metadata": {},
     "output_type": "display_data"
    },
    {
     "data": {
      "application/vnd.jupyter.widget-view+json": {
       "model_id": "82e49727583e476c8c8f75964e9ef1b5",
       "version_major": 2,
       "version_minor": 0
      },
      "text/plain": [
       "RadioButtons(options=('Conduction', 'Convection', 'Radiation'), value=None)"
      ]
     },
     "metadata": {},
     "output_type": "display_data"
    },
    {
     "data": {
      "text/markdown": [
       "3) How did the popsicle get cold? How did it transfer heat energy while sitting in the fridge?"
      ],
      "text/plain": [
       "<IPython.core.display.Markdown object>"
      ]
     },
     "metadata": {},
     "output_type": "display_data"
    },
    {
     "data": {
      "application/vnd.jupyter.widget-view+json": {
       "model_id": "792cb9090c9a42348639b4cb5ae91098",
       "version_major": 2,
       "version_minor": 0
      },
      "text/plain": [
       "RadioButtons(options=('Conduction', 'Convection', 'Radiation'), value=None)"
      ]
     },
     "metadata": {},
     "output_type": "display_data"
    },
    {
     "data": {
      "text/markdown": [
       "4) You open the fridge door and it feels cold inside."
      ],
      "text/plain": [
       "<IPython.core.display.Markdown object>"
      ]
     },
     "metadata": {},
     "output_type": "display_data"
    },
    {
     "data": {
      "application/vnd.jupyter.widget-view+json": {
       "model_id": "526c30468e13481c9c41c7a9565995e9",
       "version_major": 2,
       "version_minor": 0
      },
      "text/plain": [
       "RadioButtons(options=('Conduction', 'Convection', 'Radiation'), value=None)"
      ]
     },
     "metadata": {},
     "output_type": "display_data"
    },
    {
     "data": {
      "application/vnd.jupyter.widget-view+json": {
       "model_id": "208c92c37c304baa88374d855cad2223",
       "version_major": 2,
       "version_minor": 0
      },
      "text/plain": [
       "Button(button_style='info', description='Check your answers', layout=Layout(height='60px', width='30%'), style…"
      ]
     },
     "metadata": {},
     "output_type": "display_data"
    },
    {
     "name": "stdout",
     "output_type": "stream",
     "text": [
      "['Incorrect', 'Correct', 'Incorrect', 'Correct']\n"
     ]
    },
    {
     "data": {
      "text/latex": [
       "Those aren't quite correct, please try again."
      ],
      "text/plain": [
       "<IPython.core.display.Latex object>"
      ]
     },
     "metadata": {},
     "output_type": "display_data"
    },
    {
     "data": {
      "text/latex": [
       "1. Incorrect, 2. Correct, 3. Incorrect, 4. Correct"
      ],
      "text/plain": [
       "<IPython.core.display.Latex object>"
      ]
     },
     "metadata": {},
     "output_type": "display_data"
    }
   ],
   "source": [
    "display(Markdown('1) Hot air is pumped out of the food compartment'))\n",
    "\n",
    "a1 = widgets.RadioButtons(\n",
    "    options=['Conduction', 'Convection', 'Radiation'],\n",
    "    value = None,\n",
    "    disabled=False\n",
    ")\n",
    "\n",
    "display(a1)\n",
    "\n",
    "display(Markdown('2)  You grab a cold popsicle out of the fridge. It feels cold on your hand.'))\n",
    "\n",
    "a2 = widgets.RadioButtons(\n",
    "    options=['Conduction', 'Convection', 'Radiation'],\n",
    "    value = None,\n",
    "    disabled=False\n",
    ")\n",
    "\n",
    "display(a2)\n",
    "\n",
    "display(Markdown('3) How did the popsicle get cold? How did it transfer heat energy while sitting in the fridge?'))\n",
    "\n",
    "a3 = widgets.RadioButtons(\n",
    "    options=['Conduction', 'Convection', 'Radiation'],\n",
    "    value = None,\n",
    "    disabled=False\n",
    ")\n",
    "display(a3)\n",
    "\n",
    "display(Markdown('4) You open the fridge door and it feels cold inside.'))\n",
    "\n",
    "a4 = widgets.RadioButtons(\n",
    "    options=['Conduction', 'Convection', 'Radiation'],\n",
    "    value = None,\n",
    "    disabled=False\n",
    ")\n",
    "\n",
    "display(a4)\n",
    "\n",
    "#create a button widget to check answers, again calling the button to display\n",
    "button_check = widgets.Button(description=\"Check your answers\",\n",
    "                              layout = Layout(width='30%', height='60px'),\n",
    "                              button_style = 'info'\n",
    "                             )\n",
    "display(button_check)\n",
    "\n",
    "#Answers to be checked against, third entry should be != Conduction, fourth is != 'Radiation'\n",
    "ans = ['Convection','Conduction', 'Conduction','Radiation']\n",
    "\n",
    "\n",
    "#compare answers to responses\n",
    "def compare(l1,l2):\n",
    "    a = []\n",
    "    for i in range(0,min(len(l1),len(l2))):\n",
    "        if l1[i] == l2[i]:\n",
    "            a.append(1)\n",
    "        else:\n",
    "            a.append(0)\n",
    "    return a\n",
    "\n",
    "\n",
    "def check_button(x):\n",
    "    rs = [a1.value, a2.value, a3.value, a4.value]  #responses\n",
    "    if rs[0] == ans[0]  and rs[1] == ans[1] and rs[2] != ans[2] and rs[3] != ans[3]:\n",
    "        display(Markdown(\"Correct! Here's why : </br></br> \\\n",
    "                          1. Hot air flows out of the fridge via convection. </br> \\\n",
    "                          2. Heat is transferred via convection since your hand it hotter than the popsicle. </br> \\\n",
    "                          3. Heat is transferred by radiation or conduction. The food sitting in the fridge radiates heat energy and also conducts heat to the colder air within the fridge. </br> \\\n",
    "                          4. Heat is transferred via conduction from your warmer self to the cold air within the fridge.\"))\n",
    "    else: \n",
    "        a = compare(rs,ans)\n",
    "        bien = [1,1,0,0] #This is what \"a\" should be\n",
    "        xx = compare(a,bien)\n",
    "        h = []\n",
    "        for i in xx:\n",
    "            if i == 0:\n",
    "                h.append('Incorrect')\n",
    "            if i == 1:\n",
    "                h.append('Correct')\n",
    "                \n",
    "        display(Latex(\"Those aren't quite correct, please try again.\"))\n",
    "        display(Latex(\"1. %s, 2. %s, 3. %s, 4. %s\" %(h[0],h[1],h[2],h[3])))\n",
    "        \n",
    "button_check.on_click(check_button)\n",
    "\n"
   ]
  },
  {
   "cell_type": "markdown",
   "metadata": {
    "hidden": false
   },
   "source": [
    "# Conclusion\n",
    "---\n",
    "In this Jupyter Notebook you learned about some aspects of the nature of thermal energy. We differentiated between heat and temperature. The particle model was used to describe the effect of heat on matter. You learned about the various modes of heat transfer:\n",
    "- **Conduction**\n",
    "- **Convection**\n",
    "- **Radiation**\n",
    "\n",
    "Along with some examples of how these processes are studied in everyday life.\n",
    "You also memorized the changes of state of matter. If you don't feel like you have these memorized, I encourage you to play the memory game a few more times. \n",
    "\n",
    "We exploit thermal energy to improve our daily lives. It is through our understanding of the processes that govern heat that we have been able to do so."
   ]
  },
  {
   "cell_type": "markdown",
   "metadata": {
    "hidden": false
   },
   "source": [
    "**image references**\n",
    "\n",
    "- conduction :<font size = \"0.5\"> https://www.khanacademy.org/science/physics/thermodynamics/specific-heat-and-heat-transfer/a/what-is-thermal-conductivity </font>\n",
    "- sun: <font size=\"0.5\"> https://phys.org/news/2016-07-astronomers-gain-insight-magnetic-field.html</font>\n",
    "- thunderstorm: <font size = \"0.5\">https://www.britannica.com/science/thunderstorm </font>\n",
    "- boiling pot:  <font size = \"0.5\">https://dr282zn36sxxg.cloudfront.net/datastreams/f-d%3A5f69d56e0b81661f4564d03405f4cd0be18c94afbe66c30f9eb9a17b%2BIMAGE_THUMB_POSTCARD_TINY%2BIMAGE_THUMB_POSTCARD_TINY.</font>\n",
    "- radiation diagram: <font size = \"0.5\"> http://apollo.lsc.vsc.edu/classes/met130/notes/chapter2/plank_e_sun.html </font> "
   ]
  },
  {
   "cell_type": "markdown",
   "metadata": {
    "hidden": false
   },
   "source": [
    "<img src = 'images/Callysto_Notebook-Banners_Bottom.jpg'>"
   ]
  }
 ],
 "metadata": {
  "kernelspec": {
   "display_name": "Python 3",
   "language": "python",
   "name": "python3"
  },
  "language_info": {
   "codemirror_mode": {
    "name": "ipython",
    "version": 3
   },
   "file_extension": ".py",
   "mimetype": "text/x-python",
   "name": "python",
   "nbconvert_exporter": "python",
   "pygments_lexer": "ipython3",
   "version": "3.6.7"
  }
 },
 "nbformat": 4,
 "nbformat_minor": 2
}

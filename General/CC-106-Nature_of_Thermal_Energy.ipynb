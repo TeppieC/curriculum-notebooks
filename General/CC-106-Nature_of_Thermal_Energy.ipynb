{
 "cells": [
  {
   "cell_type": "markdown",
   "metadata": {},
   "source": [
    "<img src = 'images/Callysto_Notebook-Banner_Top.jpg'>"
   ]
  },
  {
   "cell_type": "code",
   "execution_count": 9,
   "metadata": {},
   "outputs": [],
   "source": [
    "import numpy as np\n",
    "import matplotlib.pyplot as plt\n",
    "from IPython.display import display, Math, Latex, HTML, clear_output, Markdown\n",
    "import ipywidgets as widgets\n",
    "from ipywidgets import interact, FloatSlider, IntSlider, interactive\n",
    "from traitlets import traitlets\n",
    "%matplotlib notebook\n",
    "\n",
    "#Above, we are importing all the necessary modules in order to run the notebook. \n",
    "#Numpy allows us to define arrays of values for our variables to plot them\n",
    "#matplotlib is what we use to create the figures\n",
    "#the display and widgets are to make the notebook look neat\n"
   ]
  },
  {
   "cell_type": "code",
   "execution_count": 5,
   "metadata": {},
   "outputs": [
    {
     "data": {
      "text/html": [
       "<script>\n",
       "  function code_toggle() {\n",
       "    if (code_shown){\n",
       "      $('div.input').hide('500');\n",
       "      $('#toggleButton').val('Show Code')\n",
       "    } else {\n",
       "      $('div.input').show('500');\n",
       "      $('#toggleButton').val('Hide Code')\n",
       "    }\n",
       "    code_shown = !code_shown\n",
       "  }\n",
       "  \n",
       "  $( document ).ready(function(){\n",
       "    code_shown=false;\n",
       "    $('div.input').hide()\n",
       "  });\n",
       "</script>\n",
       "<form action=\"javascript:code_toggle()\"><input type=\"submit\" id=\"toggleButton\" value=\"Show Code\"></form>"
      ],
      "text/plain": [
       "<IPython.core.display.HTML object>"
      ]
     },
     "execution_count": 5,
     "metadata": {},
     "output_type": "execute_result"
    }
   ],
   "source": [
    "HTML('''<script>\n",
    "  function code_toggle() {\n",
    "    if (code_shown){\n",
    "      $('div.input').hide('500');\n",
    "      $('#toggleButton').val('Show Code')\n",
    "    } else {\n",
    "      $('div.input').show('500');\n",
    "      $('#toggleButton').val('Hide Code')\n",
    "    }\n",
    "    code_shown = !code_shown\n",
    "  }\n",
    "  \n",
    "  $( document ).ready(function(){\n",
    "    code_shown=false;\n",
    "    $('div.input').hide()\n",
    "  });\n",
    "</script>\n",
    "<form action=\"javascript:code_toggle()\"><input type=\"submit\" id=\"toggleButton\" value=\"Show Code\"></form>''')\n"
   ]
  },
  {
   "cell_type": "markdown",
   "metadata": {},
   "source": [
    "# Heat and Temperature: The Nature of Thermal Energy\n",
    "---\n",
    "\n",
    "In this Jupyter Notebook you will explore the nature of thermal energy and its effects on different forms of matter, using informal observations, experimental evidence and models. By the end of the notebook you will have gained an understanding on:\n",
    "\n",
    "- comparing heat transmission in different materials \n",
    "- explaining how heat is transmitted by conduction, convection and radiation in solids, liquids and gases\n",
    "- describing the effect of heat on the motion of particles; and explain changes of state, using the particle model of matter\n",
    "- distinguishing between heat and temperature; and explain temperature, using the concept of kinetic energy and the particle model of matter\n",
    "- investigating and describing the effects of heating and cooling on the volume of different materials, and identify applications of these effects\n",
    "\n",
    "Necessary Background:\n",
    "?\n",
    "\n",
    "\n",
    "Thermal energy applications are found throughout our daily lives; the means by which a refridgerator functions, the ways we power and heat our homes, the combustion which drives our engines are just a few of the many ways we use thermal energy to improve our lives. Consequentially, having a better understanding of the nature of thermal energy means having a better understanding of the world around us, natural and manufactured. \n",
    "\n",
    "---\n"
   ]
  },
  {
   "cell_type": "markdown",
   "metadata": {},
   "source": [
    "## Heat vs. Temperature\n",
    "---\n",
    "\n",
    "The difference between temperature and heat is quite subtle. Understanding the difference between heat and temperature will be fundamental to comprehending the rest of the content of the Notebook, so we'd better state the definitions formally:\n",
    "\n",
    "**Heat** is a type of energy transfer in which energy flows caused by a difference in Temperature. \n",
    "\n",
    "**Temperature** is a measure of the average heat or thermal energy of the molecules in a substance. \n",
    "\n",
    "These are simple explanations for the time being and will be elaborated upon over the course of this Notebook. Heat is  a microscopic quantity which gives rise to the macroscopic quantity of Temperature. We often think of these two concepts interchangably but they have fundamentally different meanings. Heat can be exchanged between bodies and temperature can be possessed by a body. \n",
    "\n",
    "Below are some ill-posed questions about heat and temperature. First, think about why the question does not make sense and then click \"Show Answer\" to see the exact reason why. Was your answer correct? If not, why?\n",
    "\n",
    "---"
   ]
  },
  {
   "cell_type": "code",
   "execution_count": null,
   "metadata": {},
   "outputs": [],
   "source": [
    "## Show answer button and questions"
   ]
  },
  {
   "cell_type": "markdown",
   "metadata": {},
   "source": [
    "## How is Heat Transmitted?\n",
    "---\n",
    "\n",
    "There are three main methods of by which heat is transmitted: conduction, convection and radiation. Below we present the basic theory behind these methods of heat transfer and some applications of how we exploit them to improve our lives. \n",
    "\n",
    "\n",
    "\n"
   ]
  },
  {
   "cell_type": "markdown",
   "metadata": {},
   "source": [
    "## Conduction\n",
    "---\n",
    "\n",
    "Heat transfer via **conduction** occurs when two bodies, with different temperatures, are in physical contact with each other. Conduction is how a stove top heats a pan or why a hot cup feels warm on your hand. Conduction and \n"
   ]
  },
  {
   "cell_type": "code",
   "execution_count": null,
   "metadata": {},
   "outputs": [],
   "source": [
    "#include gif on conduction, veritasium video about conduction misconceptions\n",
    "#Explain how conduction changes in different materials and how we use this to our advantage\n",
    "#i.e. the lining of mugs, insulation, etc.."
   ]
  },
  {
   "cell_type": "code",
   "execution_count": null,
   "metadata": {},
   "outputs": [],
   "source": [
    "#convection\n",
    "#talk about the atmosphere and how convection transports heat.\n",
    "# include some data visualizations on convective heat transfer"
   ]
  },
  {
   "cell_type": "code",
   "execution_count": null,
   "metadata": {},
   "outputs": [],
   "source": [
    "# Radiation"
   ]
  },
  {
   "cell_type": "markdown",
   "metadata": {},
   "source": [
    "<img src = 'images/Callysto_Notebook-Banners_Bottom.jpg'>"
   ]
  }
 ],
 "metadata": {
  "kernelspec": {
   "display_name": "Python 3",
   "language": "python",
   "name": "python3"
  },
  "language_info": {
   "codemirror_mode": {
    "name": "ipython",
    "version": 3
   },
   "file_extension": ".py",
   "mimetype": "text/x-python",
   "name": "python",
   "nbconvert_exporter": "python",
   "pygments_lexer": "ipython3",
   "version": "3.6.5"
  }
 },
 "nbformat": 4,
 "nbformat_minor": 2
}

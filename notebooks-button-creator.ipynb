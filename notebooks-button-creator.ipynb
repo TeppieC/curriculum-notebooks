{
 "cells": [
  {
   "cell_type": "markdown",
   "metadata": {},
   "source": [
    "![Callysto.ca Banner](https://github.com/callysto/curriculum-notebooks/blob/master/callysto-notebook-banner-top.jpg?raw=true)\n",
    "\n",
    "<a href=\"https://hub.callysto.ca/jupyter/hub/user-redirect/git-pull?repo=https%3A%2F%2Fgithub.com%2Fcallysto%2Fcahiers-de-programmes&branch=master&subPath=/testing/test.ipynb&depth=1\" target=\"_parent\"><img src=\"https://raw.githubusercontent.com/callysto/cahiers-de-programmes/master/bouton-callysto.svg?sanitize=true\" width=\"123\" height=\"24\" alt=\"Open in Callysto\"/></a>"
   ]
  },
  {
   "cell_type": "markdown",
   "metadata": {},
   "source": [
    "# Adding \"Open In Callysto\" Buttons to notebooks"
   ]
  },
  {
   "cell_type": "code",
   "execution_count": 1,
   "metadata": {},
   "outputs": [
    {
     "name": "stdout",
     "output_type": "stream",
     "text": [
      "Libraries imported and functions defined.\n"
     ]
    }
   ],
   "source": [
    "import os\n",
    "import json\n",
    "import pandas as pd\n",
    "\n",
    "def button_code_generator(notebook_path, notebook_filename):\n",
    "    notebook_path = notebook_path.replace('.','')\n",
    "    button_image = 'https://raw.githubusercontent.com/callysto/curriculum-notebooks/master/open-in-callysto-button.svg?sanitize=true'\n",
    "    repo_path = 'https%3A%2F%2Fgithub.com%2Fcallysto%2Fcurriculum-notebooks&branch=master'\n",
    "    a = '<a href=\"https://hub.callysto.ca/jupyter/hub/user-redirect/git-pull?repo='\n",
    "    size_etc = '\" width=\"123\" height=\"24\" alt=\"Open in Callysto\"/></a>'\n",
    "    button_code = a+repo_path+'&subPath='+notebook_path+'/'+notebook_filename+'&depth=1\" target=\"_parent\"><img src=\"'+button_image+size_etc\n",
    "    return button_code\n",
    "\n",
    "def replace_first_cell(notebook_name_and_path, first_cell_code):\n",
    "    original_file = open(notebook_name_and_path, 'r')\n",
    "    notebook_contents = json.load(original_file)\n",
    "    original_file.close()\n",
    "    del notebook_contents['cells'][0]\n",
    "    notebook_contents['cells'].insert(0, first_cell_code)\n",
    "    with open(notebook_name_and_path, 'w') as notebook_file:\n",
    "        json.dump(notebook_contents, notebook_file)\n",
    "\n",
    "def replace_last_cell(notebook_name_and_path):\n",
    "    last_cell_data = {'cell_type': 'markdown','metadata': {},'source': ['[![Callysto.ca License](https://github.com/callysto/curriculum-notebooks/blob/master/callysto-notebook-banner-bottom.jpg?raw=true)](https://github.com/callysto/curriculum-notebooks/blob/master/LICENSE.md)']}\n",
    "    original_file = open(notebook_name_and_path, 'r')\n",
    "    notebook_contents = json.load(original_file)\n",
    "    original_file.close()\n",
    "    del notebook_contents['cells'][-1]\n",
    "    notebook_contents['cells'].append(last_cell_data)\n",
    "    with open(notebook_name_and_path, 'w') as notebook_file:\n",
    "        json.dump(notebook_contents, notebook_file)\n",
    "print('Libraries imported and functions defined.')"
   ]
  },
  {
   "cell_type": "markdown",
   "metadata": {},
   "source": [
    "## Create Notebooks DataFrame"
   ]
  },
  {
   "cell_type": "code",
   "execution_count": 2,
   "metadata": {
    "scrolled": false
   },
   "outputs": [
    {
     "data": {
      "text/html": [
       "<div>\n",
       "<style scoped>\n",
       "    .dataframe tbody tr th:only-of-type {\n",
       "        vertical-align: middle;\n",
       "    }\n",
       "\n",
       "    .dataframe tbody tr th {\n",
       "        vertical-align: top;\n",
       "    }\n",
       "\n",
       "    .dataframe thead th {\n",
       "        text-align: right;\n",
       "    }\n",
       "</style>\n",
       "<table border=\"1\" class=\"dataframe\">\n",
       "  <thead>\n",
       "    <tr style=\"text-align: right;\">\n",
       "      <th></th>\n",
       "      <th>Notebook</th>\n",
       "      <th>Button Code</th>\n",
       "    </tr>\n",
       "  </thead>\n",
       "  <tbody>\n",
       "    <tr>\n",
       "      <th>0</th>\n",
       "      <td>./notebooks-button-creator.ipynb</td>\n",
       "      <td>&lt;a href=\"https://hub.callysto.ca/jupyter/hub/u...</td>\n",
       "    </tr>\n",
       "    <tr>\n",
       "      <th>1</th>\n",
       "      <td>./Arts/MathematicsOfSound/mathematics-of-sound...</td>\n",
       "      <td>&lt;a href=\"https://hub.callysto.ca/jupyter/hub/u...</td>\n",
       "    </tr>\n",
       "    <tr>\n",
       "      <th>2</th>\n",
       "      <td>./Arts/MusicMathematicsOfPitch/music-mathemati...</td>\n",
       "      <td>&lt;a href=\"https://hub.callysto.ca/jupyter/hub/u...</td>\n",
       "    </tr>\n",
       "    <tr>\n",
       "      <th>3</th>\n",
       "      <td>./Health/CALM/CALM-moving-out-4.ipynb</td>\n",
       "      <td>&lt;a href=\"https://hub.callysto.ca/jupyter/hub/u...</td>\n",
       "    </tr>\n",
       "    <tr>\n",
       "      <th>4</th>\n",
       "      <td>./Health/CALM/CALM-moving-out-6.ipynb</td>\n",
       "      <td>&lt;a href=\"https://hub.callysto.ca/jupyter/hub/u...</td>\n",
       "    </tr>\n",
       "    <tr>\n",
       "      <th>...</th>\n",
       "      <td>...</td>\n",
       "      <td>...</td>\n",
       "    </tr>\n",
       "    <tr>\n",
       "      <th>104</th>\n",
       "      <td>./SocialStudies/Globalization/trade-and-global...</td>\n",
       "      <td>&lt;a href=\"https://hub.callysto.ca/jupyter/hub/u...</td>\n",
       "    </tr>\n",
       "    <tr>\n",
       "      <th>105</th>\n",
       "      <td>./SocialStudies/Globalization/languages-an-imp...</td>\n",
       "      <td>&lt;a href=\"https://hub.callysto.ca/jupyter/hub/u...</td>\n",
       "    </tr>\n",
       "    <tr>\n",
       "      <th>106</th>\n",
       "      <td>./SocialStudies/Globalization/migration-necess...</td>\n",
       "      <td>&lt;a href=\"https://hub.callysto.ca/jupyter/hub/u...</td>\n",
       "    </tr>\n",
       "    <tr>\n",
       "      <th>107</th>\n",
       "      <td>./SocialStudies/Globalization/sustainability-a...</td>\n",
       "      <td>&lt;a href=\"https://hub.callysto.ca/jupyter/hub/u...</td>\n",
       "    </tr>\n",
       "    <tr>\n",
       "      <th>108</th>\n",
       "      <td>./EnglishLanguageArts/IntroductionToPoetry/poe...</td>\n",
       "      <td>&lt;a href=\"https://hub.callysto.ca/jupyter/hub/u...</td>\n",
       "    </tr>\n",
       "  </tbody>\n",
       "</table>\n",
       "<p>109 rows × 2 columns</p>\n",
       "</div>"
      ],
      "text/plain": [
       "                                              Notebook  \\\n",
       "0                     ./notebooks-button-creator.ipynb   \n",
       "1    ./Arts/MathematicsOfSound/mathematics-of-sound...   \n",
       "2    ./Arts/MusicMathematicsOfPitch/music-mathemati...   \n",
       "3                ./Health/CALM/CALM-moving-out-4.ipynb   \n",
       "4                ./Health/CALM/CALM-moving-out-6.ipynb   \n",
       "..                                                 ...   \n",
       "104  ./SocialStudies/Globalization/trade-and-global...   \n",
       "105  ./SocialStudies/Globalization/languages-an-imp...   \n",
       "106  ./SocialStudies/Globalization/migration-necess...   \n",
       "107  ./SocialStudies/Globalization/sustainability-a...   \n",
       "108  ./EnglishLanguageArts/IntroductionToPoetry/poe...   \n",
       "\n",
       "                                           Button Code  \n",
       "0    <a href=\"https://hub.callysto.ca/jupyter/hub/u...  \n",
       "1    <a href=\"https://hub.callysto.ca/jupyter/hub/u...  \n",
       "2    <a href=\"https://hub.callysto.ca/jupyter/hub/u...  \n",
       "3    <a href=\"https://hub.callysto.ca/jupyter/hub/u...  \n",
       "4    <a href=\"https://hub.callysto.ca/jupyter/hub/u...  \n",
       "..                                                 ...  \n",
       "104  <a href=\"https://hub.callysto.ca/jupyter/hub/u...  \n",
       "105  <a href=\"https://hub.callysto.ca/jupyter/hub/u...  \n",
       "106  <a href=\"https://hub.callysto.ca/jupyter/hub/u...  \n",
       "107  <a href=\"https://hub.callysto.ca/jupyter/hub/u...  \n",
       "108  <a href=\"https://hub.callysto.ca/jupyter/hub/u...  \n",
       "\n",
       "[109 rows x 2 columns]"
      ]
     },
     "execution_count": 2,
     "metadata": {},
     "output_type": "execute_result"
    }
   ],
   "source": [
    "df = pd.DataFrame(columns=['Notebook', 'Button Code'])\n",
    "for root, dirs, files in os.walk(\".\"):\n",
    "    for filename in files:\n",
    "        if filename.endswith('.ipynb'):\n",
    "            if not 'checkpoint' in filename:\n",
    "                notebook_name_and_path = os.path.join(root, filename)\n",
    "                button_code = button_code_generator(root, filename)\n",
    "                df = df.append({'Notebook':notebook_name_and_path, 'Button Code':button_code}, ignore_index=True)\n",
    "df"
   ]
  },
  {
   "cell_type": "markdown",
   "metadata": {},
   "source": [
    "## Iterate through the DataFrame\n",
    "\n",
    "Replace the first cell in each notebook with the top banner and button, and the last cell with the bottom banner."
   ]
  },
  {
   "cell_type": "code",
   "execution_count": 3,
   "metadata": {},
   "outputs": [],
   "source": [
    "for i, row in df.iterrows():\n",
    "    notebook_name_and_path = row['Notebook']\n",
    "    banner_code = '![Callysto.ca Banner](https://github.com/callysto/curriculum-notebooks/blob/master/callysto-notebook-banner-top.jpg?raw=true)'\n",
    "    first_cell_code = {'cell_type': 'markdown', 'metadata': {}, 'source': [banner_code, '\\n', '\\n', row['Button Code']]}\n",
    "    if notebook_name_and_path != './notebooks-button-creator.ipynb':\n",
    "        if \n",
    "            replace_first_cell(notebook_name_and_path, first_cell_code)\n",
    "            replace_last_cell(notebook_name_and_path)"
   ]
  },
  {
   "cell_type": "code",
   "execution_count": 4,
   "metadata": {},
   "outputs": [
    {
     "data": {
      "text/plain": [
       "'<a href=\"https://hub.callysto.ca/jupyter/hub/user-redirect/git-pull?repo=https%3A%2F%2Fgithub.com%2Fcallysto%2Fcurriculum-notebooks&branch=master&subPath=/notebooks-button-creator.ipynb&depth=1\" target=\"_parent\"><img src=\"https://raw.githubusercontent.com/callysto/curriculum-notebooks/master/open-in-callysto-button.svg?sanitize=true\" width=\"123\" height=\"24\" alt=\"Open in Callysto\"/></a>'"
      ]
     },
     "execution_count": 4,
     "metadata": {},
     "output_type": "execute_result"
    }
   ],
   "source": [
    "df['Button Code'][0]"
   ]
  },
  {
   "cell_type": "code",
   "execution_count": 7,
   "metadata": {},
   "outputs": [
    {
     "data": {
      "text/html": [
       "<div>\n",
       "<style scoped>\n",
       "    .dataframe tbody tr th:only-of-type {\n",
       "        vertical-align: middle;\n",
       "    }\n",
       "\n",
       "    .dataframe tbody tr th {\n",
       "        vertical-align: top;\n",
       "    }\n",
       "\n",
       "    .dataframe thead th {\n",
       "        text-align: right;\n",
       "    }\n",
       "</style>\n",
       "<table border=\"1\" class=\"dataframe\">\n",
       "  <thead>\n",
       "    <tr style=\"text-align: right;\">\n",
       "      <th></th>\n",
       "      <th>Name</th>\n",
       "      <th>First Cell</th>\n",
       "      <th>Last Cell</th>\n",
       "    </tr>\n",
       "  </thead>\n",
       "  <tbody>\n",
       "    <tr>\n",
       "      <th>0</th>\n",
       "      <td>notebooks-button-creator</td>\n",
       "      <td>[![Callysto.ca Banner](https://github.com/call...</td>\n",
       "      <td>[[![Callysto.ca License](https://github.com/ca...</td>\n",
       "    </tr>\n",
       "    <tr>\n",
       "      <th>1</th>\n",
       "      <td>mathematics-of-sound</td>\n",
       "      <td>[![Callysto.ca Banner](https://github.com/call...</td>\n",
       "      <td>[[![Callysto.ca License](https://github.com/ca...</td>\n",
       "    </tr>\n",
       "    <tr>\n",
       "      <th>2</th>\n",
       "      <td>music-mathematics-of-pitch</td>\n",
       "      <td>[![Callysto.ca Banner](https://github.com/call...</td>\n",
       "      <td>[[![Callysto.ca License](https://github.com/ca...</td>\n",
       "    </tr>\n",
       "    <tr>\n",
       "      <th>3</th>\n",
       "      <td>CALM-moving-out-4</td>\n",
       "      <td>[![Callysto.ca Banner](https://github.com/call...</td>\n",
       "      <td>[[![Callysto.ca License](https://github.com/ca...</td>\n",
       "    </tr>\n",
       "    <tr>\n",
       "      <th>4</th>\n",
       "      <td>CALM-moving-out-6</td>\n",
       "      <td>[![Callysto.ca Banner](https://github.com/call...</td>\n",
       "      <td>[[![Callysto.ca License](https://github.com/ca...</td>\n",
       "    </tr>\n",
       "    <tr>\n",
       "      <th>...</th>\n",
       "      <td>...</td>\n",
       "      <td>...</td>\n",
       "      <td>...</td>\n",
       "    </tr>\n",
       "    <tr>\n",
       "      <th>104</th>\n",
       "      <td>trade-and-globalization</td>\n",
       "      <td>[![Callysto.ca Banner](https://github.com/call...</td>\n",
       "      <td>[[![Callysto.ca License](https://github.com/ca...</td>\n",
       "    </tr>\n",
       "    <tr>\n",
       "      <th>105</th>\n",
       "      <td>languages-an-important-identity-in-globalizing...</td>\n",
       "      <td>[![Callysto.ca Banner](https://github.com/call...</td>\n",
       "      <td>[[![Callysto.ca License](https://github.com/ca...</td>\n",
       "    </tr>\n",
       "    <tr>\n",
       "      <th>106</th>\n",
       "      <td>migration-necessity-for-diversity</td>\n",
       "      <td>[![Callysto.ca Banner](https://github.com/call...</td>\n",
       "      <td>[[![Callysto.ca License](https://github.com/ca...</td>\n",
       "    </tr>\n",
       "    <tr>\n",
       "      <th>107</th>\n",
       "      <td>sustainability-a-side-effect-of-globalization</td>\n",
       "      <td>[![Callysto.ca Banner](https://github.com/call...</td>\n",
       "      <td>[[![Callysto.ca License](https://github.com/ca...</td>\n",
       "    </tr>\n",
       "    <tr>\n",
       "      <th>108</th>\n",
       "      <td>poetry-introduction</td>\n",
       "      <td>[![Callysto.ca Banner](https://github.com/call...</td>\n",
       "      <td>[[![Callysto.ca License](https://github.com/ca...</td>\n",
       "    </tr>\n",
       "  </tbody>\n",
       "</table>\n",
       "<p>109 rows × 3 columns</p>\n",
       "</div>"
      ],
      "text/plain": [
       "                                                  Name  \\\n",
       "0                             notebooks-button-creator   \n",
       "1                                 mathematics-of-sound   \n",
       "2                           music-mathematics-of-pitch   \n",
       "3                                    CALM-moving-out-4   \n",
       "4                                    CALM-moving-out-6   \n",
       "..                                                 ...   \n",
       "104                            trade-and-globalization   \n",
       "105  languages-an-important-identity-in-globalizing...   \n",
       "106                  migration-necessity-for-diversity   \n",
       "107      sustainability-a-side-effect-of-globalization   \n",
       "108                                poetry-introduction   \n",
       "\n",
       "                                            First Cell  \\\n",
       "0    [![Callysto.ca Banner](https://github.com/call...   \n",
       "1    [![Callysto.ca Banner](https://github.com/call...   \n",
       "2    [![Callysto.ca Banner](https://github.com/call...   \n",
       "3    [![Callysto.ca Banner](https://github.com/call...   \n",
       "4    [![Callysto.ca Banner](https://github.com/call...   \n",
       "..                                                 ...   \n",
       "104  [![Callysto.ca Banner](https://github.com/call...   \n",
       "105  [![Callysto.ca Banner](https://github.com/call...   \n",
       "106  [![Callysto.ca Banner](https://github.com/call...   \n",
       "107  [![Callysto.ca Banner](https://github.com/call...   \n",
       "108  [![Callysto.ca Banner](https://github.com/call...   \n",
       "\n",
       "                                             Last Cell  \n",
       "0    [[![Callysto.ca License](https://github.com/ca...  \n",
       "1    [[![Callysto.ca License](https://github.com/ca...  \n",
       "2    [[![Callysto.ca License](https://github.com/ca...  \n",
       "3    [[![Callysto.ca License](https://github.com/ca...  \n",
       "4    [[![Callysto.ca License](https://github.com/ca...  \n",
       "..                                                 ...  \n",
       "104  [[![Callysto.ca License](https://github.com/ca...  \n",
       "105  [[![Callysto.ca License](https://github.com/ca...  \n",
       "106  [[![Callysto.ca License](https://github.com/ca...  \n",
       "107  [[![Callysto.ca License](https://github.com/ca...  \n",
       "108  [[![Callysto.ca License](https://github.com/ca...  \n",
       "\n",
       "[109 rows x 3 columns]"
      ]
     },
     "execution_count": 7,
     "metadata": {},
     "output_type": "execute_result"
    }
   ],
   "source": [
    "df3 = pd.DataFrame(columns=['Name','First Cell','Last Cell'])\n",
    "for root, dirs, files in os.walk(\".\"):\n",
    "    for filename in files:\n",
    "        if filename.endswith('.ipynb'):\n",
    "            if not 'checkpoint' in filename:\n",
    "                notebook_name = filename[:-6]\n",
    "                notebook_name_and_path = os.path.join(root, filename)\n",
    "                notebook = json.load(open(notebook_name_and_path))\n",
    "                first_cell = notebook['cells'][0]['source']#[0]\n",
    "                last_cell = notebook['cells'][-1]['source']#[0]\n",
    "                button_code = button_code_generator(root, filename)\n",
    "                df3 = df3.append({'Name':notebook_name,'First Cell':first_cell,'Last Cell':last_cell}, ignore_index=True)\n",
    "df3"
   ]
  },
  {
   "cell_type": "code",
   "execution_count": 23,
   "metadata": {},
   "outputs": [
    {
     "name": "stdout",
     "output_type": "stream",
     "text": [
      "40 chemical-nomenclature <img src=\"https://raw.githubusercontent.com/callysto/callysto-sample-notebooks/master/notebooks/images/Callysto_Notebook-Banner_Top_06.06.18.jpg\"/>\n",
      "42 electricity-consumption-monitoring <img src=\"images/Callysto_Notebook-Banner_Top_06.06.18.jpg\">\n",
      "61 irregular-shapes from IPython.display import HTML\n",
      "\n",
      "62 perimeter-triangles-and-squares from IPython.display import HTML\n",
      "\n",
      "65 compare-and-order-numbers <img src=\"images/Callysto_Notebook-Banner_Top_06.06.18.jpg\">\n",
      "71 interpreting-statistical-data [![Callysto.ca License](https://github.com/callysto/curriculum-notebooks/blob/master/callysto-notebook-banner-bottom.jpg?raw=true)](https://github.com/callysto/curriculum-notebooks/blob/master/LICENSE.md)\n"
     ]
    }
   ],
   "source": [
    "for i, row in df3.iterrows():\n",
    "    if '![Callysto.ca Banner](https://github.com' not in row['First Cell'][0]:\n",
    "        print(i, row['Name'], row['First Cell'][0])"
   ]
  },
  {
   "cell_type": "code",
   "execution_count": null,
   "metadata": {},
   "outputs": [],
   "source": []
  },
  {
   "cell_type": "markdown",
   "metadata": {},
   "source": [
    "## Check our Work"
   ]
  },
  {
   "cell_type": "code",
   "execution_count": null,
   "metadata": {},
   "outputs": [],
   "source": [
    "df2 = pd.DataFrame(columns=['Name','First Cell','Last Cell'])\n",
    "for root, dirs, files in os.walk(\".\"):\n",
    "    for filename in files:\n",
    "        if filename.endswith('.ipynb'):\n",
    "            if not 'checkpoint' in filename:\n",
    "                notebook_name = filename[:-6]\n",
    "                notebook_name_and_path = os.path.join(root, filename)\n",
    "                notebook = json.load(open(notebook_name_and_path))\n",
    "                first_cell = notebook['cells'][0]['source']#[0]\n",
    "                last_cell = notebook['cells'][-1]['source']#[0]\n",
    "                button_code = button_code_generator(root, filename)\n",
    "                df2 = df2.append({'Name':notebook_name,'First Cell':first_cell,'Last Cell':last_cell}, ignore_index=True)\n",
    "df2"
   ]
  },
  {
   "cell_type": "code",
   "execution_count": null,
   "metadata": {},
   "outputs": [],
   "source": [
    "for i, row in df2.iterrows():\n",
    "    print(i, row['Name'])\n",
    "    #print(row['First Cell'])\n",
    "    #print('Last Cell:')\n",
    "    print(row['Last Cell'])\n",
    "    print('')"
   ]
  },
  {
   "cell_type": "code",
   "execution_count": null,
   "metadata": {},
   "outputs": [],
   "source": [
    "last_cell_contents = df2['Last Cell'][0][0]\n",
    "for i, row in df2.iterrows():\n",
    "    if row['Last Cell'][0] != last_cell_contents:\n",
    "        print(i, row['Name'])"
   ]
  },
  {
   "cell_type": "markdown",
   "metadata": {},
   "source": [
    "[![Callysto.ca License](https://github.com/callysto/curriculum-notebooks/blob/master/callysto-notebook-banner-bottom.jpg?raw=true)](https://github.com/callysto/curriculum-notebooks/blob/master/LICENSE.md)"
   ]
  }
 ],
 "metadata": {
  "kernelspec": {
   "display_name": "Python 3",
   "language": "python",
   "name": "python3"
  },
  "language_info": {
   "codemirror_mode": {
    "name": "ipython",
    "version": 3
   },
   "file_extension": ".py",
   "mimetype": "text/x-python",
   "name": "python",
   "nbconvert_exporter": "python",
   "pygments_lexer": "ipython3",
   "version": "3.7.6"
  }
 },
 "nbformat": 4,
 "nbformat_minor": 2
}

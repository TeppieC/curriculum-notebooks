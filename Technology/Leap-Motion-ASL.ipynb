{
 "cells": [
  {
   "cell_type": "markdown",
   "metadata": {},
   "source": [
    "<img src=\"https://callysto.ca/wp-content/uploads/2018/06/Callysto_Notebook-Banner_Top_06.06.18.jpg\" alt=\"Drawing\" style=\"width: 1800px;\"/>"
   ]
  },
  {
   "cell_type": "code",
   "execution_count": null,
   "metadata": {},
   "outputs": [],
   "source": [
    "import matplotlib.pyplot as plt\n",
    "import plotly as py\n",
    "import plotly.graph_objs as go\n",
    "import numpy as np\n",
    "import math\n",
    "import ipywidgets as widgets\n",
    "from IPython.display import display, Math, Latex, HTML, IFrame\n",
    "from astropy.table import Table, Column\n",
    "from ipywidgets import interact, interactive\n",
    "\n",
    "py.offline.init_notebook_mode(connected=True)\n",
    "%matplotlib inline\n",
    "\n",
    "font = {'family' : 'sans-serif',\n",
    "        'weight' : 'normal',\n",
    "        'size'   : 14}\n",
    "\n",
    "plt.rc('font', **font)\n",
    "\n",
    "'''Above, we are importing all the necessary modules in order to run the notebook. \n",
    "Numpy allows us to define arrays of values for our variables to plot them\n",
    "matplotlib is what we use to create the figures\n",
    "the display and widgets are to make the notebook look neat\n",
    "'''\n",
    "\n",
    "HTML('''<script>\n",
    "  function code_toggle() {\n",
    "    if (code_shown){\n",
    "      $('div.input').hide('500');\n",
    "      $('#toggleButton').val('Show Code')\n",
    "    } else {\n",
    "      $('div.input').show('500');\n",
    "      $('#toggleButton').val('Hide Code')\n",
    "    }\n",
    "    code_shown = !code_shown\n",
    "  }\n",
    "  \n",
    "  $( document ).ready(function(){\n",
    "    code_shown=false;\n",
    "    $('div.input').hide()\n",
    "  });\n",
    "</script>\n",
    "<form action=\"javascript:code_toggle()\"><input type=\"submit\" id=\"toggleButton\" value=\"Show Code\"></form>''')\n",
    "        \n",
    "    "
   ]
  },
  {
   "cell_type": "markdown",
   "metadata": {},
   "source": [
    "<h1><center> **Interpreting American Sign Language Using a Leap Motion Device** </center></h1>\n",
    "\n",
    "<img src=\"http://www.richmedia.com/richideas/img/how-the-leap-motion-controller-could-change-the-world-banner.jpg\" alt=\"Drawing\" style=\"width: 500px;\"/>\n"
   ]
  },
  {
   "cell_type": "markdown",
   "metadata": {},
   "source": [
    "## Introduction\n",
    "\n",
    "In this notebook, we will go over a project designed by an Albertan highschool student that uses a Leap Motion Controller to interpret American Sign Language symbols. Currently, the program is able to accurately interpret half of the ASL alphabet.\n",
    "\n",
    "The program uses a Leap Motion Controller (LMC) to track the movement of the hands, and is able to recognize when the hands have made an official American Sign Language (ASL) symbol. When this happens, the program prints out which symbol has been recognized. \n",
    "\n",
    "The code for this program was written in Python, but if you are unfamiliar with computer coding, do not be discouraged! The student that created this program had minimal coding experience when the project began, and learned all of the necessary concepts along the way. \n",
    "\n",
    "Before we get into how the project began, here is a little background on ASL and the LMC.\n",
    "\n",
    "### American Sign Language\n",
    "\n",
    "American Sign Language (ASL) was develped in order to enable deaf and mute individuals to communicate. In ASL, there are 26 unique hand symbols and getures that correspond to the 26 letters of the English alphabet.\n",
    "\n",
    "<img src=\"https://cdn8.bigcommerce.com/s-dc9f5/images/stencil/original/products/2095/8082/ASL_Trans_ABCs__08283.1443708103.jpg?c=2&imbypass=on\" alt=\"Drawing\" style=\"width: 500px;\"/>\n",
    "\n",
    "A person that communicates with ASL will not use these symbols to spell out every word they are trying to say, however, they act as a good starting point when building a program to recognize distinct symbols. To learn more about ASL, check out the following link: https://www.nidcd.nih.gov/health/american-sign-language.\n",
    "\n",
    "### The Leap Motion Controller (LMC)\n",
    "\n",
    "The Leap Motion Controller was developed by Leap Motion Inc. in 2012. It is a small, portable device that uses a combination of infrared cameras and LEDs to track the motion of the hands and fingers, without needing to touch or manipulate the device in any way. The controller can be plugged into any computer or laptop, and can also be connected to a virtual reality (VR) headset. To get a better idea of how the LMC is able to track the motion of the hands, check out the following video:"
   ]
  },
  {
   "cell_type": "code",
   "execution_count": 9,
   "metadata": {},
   "outputs": [
    {
     "data": {
      "text/html": [
       "<center><iframe width=\"560\" height=\"315\" align=\"middle\" src=\"https://www.youtube.com/embed/pqeWzp6weMM?rel=0&amp;showinfo=0\" frameborder=\"0\" allow=\"autoplay; encrypted-media\" allowfullscreen></iframe><center>"
      ],
      "text/plain": [
       "<IPython.core.display.HTML object>"
      ]
     },
     "metadata": {},
     "output_type": "display_data"
    }
   ],
   "source": [
    "%%html\n",
    "<center><iframe width=\"560\" height=\"315\" align=\"middle\" src=\"https://www.youtube.com/embed/pqeWzp6weMM?rel=0&amp;showinfo=0\" frameborder=\"0\" allow=\"autoplay; encrypted-media\" allowfullscreen></iframe><center>"
   ]
  },
  {
   "cell_type": "markdown",
   "metadata": {},
   "source": [
    "<center>*Video from https://www.youtube.com/watch?time_continue=36&v=pqeWzp6weMM, August 13th, 2018.*</center>\n",
    "<center> Figure 1: Here we see a demontstration of how the Leap Motion Controller is able to digitally visualize and track the movement of the hands, including the knuckles, joints, fingertips and palms.</center> \n",
    "\n",
    "As you can see above, the LMC creates a digital representation of the hands in a 3-dimensional space. The LMC records the position of the hands between 20 and 200 times per second, depending on the users preference. It can accurately track two hands at once, but for this project, we will only focus on using one hand.\n",
    "\n",
    "### Procedure\n",
    "We will now go through the procedural steps that led to the creation of the program.\n",
    "\n",
    "#### Establishing a Goal\n",
    "\n",
    "In order to begin the project, we first had to decide what we were trying to achieve. Initially, the goal was to develop a program that would be able to translate ASL using the LMC. This was a broad and lofty goal, and knowing that the student had little to no coding experience, we did not expect to have a fully successful ASL translator within the time we were given.\n",
    "Instead, we decided to focus on a simpler task: designing a program that uses the LMC to interpret *letters* of the ASL alphabet. As there are 26 distinct symbols in the ASL alphabet, this provided us with a challenge that was attainable. If successful, we would also be taking the first steps towards a fully functional ASL translator\n",
    "\n",
    "**Goal: design a program that uses data from the LMC to interpret the ASL alphabet.\n",
    "\n",
    "\n",
    "#### Gathering Data\n",
    "\n",
    "To accomplish our goal, we needed a way to analyze the data from the LMC. The LMC records the coordinates of the palms, knuckles, joints, fingertips, and all of the bones in between. However, these coordinates are with respect to the LMC itself, with the origin being on its surface. \n",
    "\n",
    "**insert image of LMC coordinate system**\n",
    "\n",
    "In order to attempt to recognize symbols in the ASL alphabet, we need to know what variables allow us to distinguish one symbol from another. These variables are the **relative distances** between the individual fingers, and the distance from each fingertip to the palm.\n",
    "\n",
    "> For example, the ASL symbol for \"S\" shows the four fingers curled into a fist, with the thumb pointing towards the palm. To recognize this symbol, the program needs to know that all four fingers are bent down, and that the thumb is tucked towards the palm. This means that both the fingertip-to-palm distance and fingertip-to-fingertip distance for each finger needs to be very small. \n",
    "\n",
    "Therefore, we need to define the fingertip-to-fingertip distance and the fingertip-to-palm distance for each finger.\n",
    "\n",
    "\\begin{array}{| c | c | c | c | c | c | c |}\n",
    "\\hline\n",
    " & Palm & Thumb & Index & Middle & Ring & Pinky  \\\\\n",
    "  \\hline\n",
    "  Palm &  & ? & ? & ? & ? & ? \\\\\\hline\n",
    "  Thumb & ? &  & ? & ? & ? & ?  \\\\\\hline\n",
    "  Index & ? & ? &  & ? & ? & ?  \\\\\\hline\n",
    "  Middle & ? & ? & ? &  & ? & ? \\\\\\hline\n",
    "  Ring & ? & ? & ? & ? &  & ? \\\\\\hline\n",
    "  Pinky & ? & ? & ? & ? & ? &  \\\\\\hline\n",
    "\\end{array}\n",
    "\n",
    "These values will provide us with the information we need in order to distinguish one ASL letter from another. However, the LMC does not readily provide these values to us, so part of our program will involve obtaining these values ourselves.\n",
    "\n",
    "\n",
    "\n",
    "\n",
    "\n",
    "#### Identifying Symbols\n",
    "\n",
    "#### Output of Successful Translation"
   ]
  },
  {
   "cell_type": "markdown",
   "metadata": {},
   "source": [
    "<img src=\"https://callysto.ca/wp-content/uploads/2018/07/Callysto-Notebook-Banner_Bottom_07.30.18.jpg\" alt=\"Drawing\" style=\"width: 1800px;\"/>"
   ]
  }
 ],
 "metadata": {
  "kernelspec": {
   "display_name": "Python 3",
   "language": "python",
   "name": "python3"
  },
  "language_info": {
   "codemirror_mode": {
    "name": "ipython",
    "version": 3
   },
   "file_extension": ".py",
   "mimetype": "text/x-python",
   "name": "python",
   "nbconvert_exporter": "python",
   "pygments_lexer": "ipython3",
   "version": "3.6.5"
  }
 },
 "nbformat": 4,
 "nbformat_minor": 2
}

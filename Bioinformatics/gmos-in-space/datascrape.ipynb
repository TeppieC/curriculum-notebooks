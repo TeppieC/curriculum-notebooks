{
 "cells": [
  {
   "cell_type": "code",
   "execution_count": 252,
   "metadata": {},
   "outputs": [],
   "source": [
    "#import libraries\n",
    "import requests \n",
    "import pandas as pd\n",
    "from bs4 import BeautifulSoup \n",
    "import csv \n",
    "import lxml\n",
    "from textblob import TextBlob\n",
    "import regex as re"
   ]
  },
  {
   "cell_type": "code",
   "execution_count": 310,
   "metadata": {
    "scrolled": false
   },
   "outputs": [],
   "source": [
    "# get raw html\n",
    "URL = \"https://www.isaaa.org/gmapprovaldatabase/geneslist/default.asp\"\n",
    "gmo = requests.get(URL) \n",
    "soup = BeautifulSoup(gmo.content, \"lxml\")\n",
    "# get text \n",
    "souptext = str(soup.get_text())"
   ]
  },
  {
   "cell_type": "code",
   "execution_count": 305,
   "metadata": {},
   "outputs": [
    {
     "name": "stdout",
     "output_type": "stream",
     "text": [
      "['Genes List', 'Gene', 'Product and Function', 'Trait: 2,4-D herbicide tolerance', 'aad-1', 'Source:', 'synthetic form of the aad-1 gene from Sphingobium herbicidovorans', 'Product:', 'aryloxyalkanoate dioxygenase 1 (AAD-1) protein', 'Function:', 'detoxifies 2,4-D herbicide by side-chain degradation and degrades the R-enantiomers of aryloxyphenoxypropionate herbicides', 'aad-12', 'Source:', 'Delftia acidovorans', 'Product:', 'aryloxyalkanoate di-oxygenase 12 (AAD-12) protein', 'Function:', 'catalyzes the side chain degradation of 2,4-D herbicide', 'Trait: Altered lignin production', 'ccomt (inverted repeat)', 'Source:', 'Medicago sativa (alfalfa)', 'Product:', 'dsRNA that suppresses endogenous S-adenosyl-L-methionine: trans-caffeoyl CoA 3-O-methyltransferase (CCOMT gene) RNA transcript levels via the RNA interference (RNAi) pathway', 'Function:', 'reduces content of guaiacyl (G) lignin', 'EgCAld5H', 'Source:', 'Eucalyptus grandis', 'Product:', 'CAld5H enzyme', 'Function:', 'regulates the syringyl monolignol pathway;', 'Trait: Anti-allergy', '7crp', 'Source:', 'synthetic form of tolerogenic protein from Cryptomeria japonica', 'Product:', 'modified cry j 1 and cry j 2 pollen antigens containing seven major human T cell epitopes', 'Function:', 'triggers mucosal immune tolerance to cedar pollen allergens', 'Trait: Antibiotic resistance', 'aad', 'Source:', 'Escherichia coli', 'Product:', \"3''(9)-O-aminoglycoside adenylyltransferase enzyme\", 'Function:', 'allows selection for resistance to aminoglycoside antibiotics such as spectinomycin and streptomycin', 'aph4 (hpt)', 'Source:', 'Escherichia coli', 'Product:', 'hygromycin-B phosphotransferase (hph) enzyme', 'Function:', 'allows selection for resistance to the antibiotic hygromycin B', 'bla', 'Source:', 'Escherichia coli', 'Product:', 'beta lactamase enzyme', 'Function:', 'detoxifies beta lactam antibiotics such as ampicillin', 'hph', 'Source:', 'Streptomyces sp.', 'Product:', 'hygromycin phosphotransferase', 'Function:', 'allows selection for resistance to the antibiotic hygromycin B', 'nptII', 'Source:', 'Escherichia coli Tn5 transposon', 'Product:', 'neomycin phosphotransferase II enzyme', 'Function:', 'allows transformed plants to metabolize neomycin and kanamycin antibiotics during selection', 'spc', 'Source:', 'Escherichia coli', 'Product:', 'spectinomycin adenyl transferase enzyme (not expressed in plant tissues)', 'Function:', 'confers resistance to spectinomycin/streptomycin antibiotics, which permits prokaryotic selection', 'Trait: Coleopteran insect resistance', 'cry34Ab1', 'Source:', 'Bacillus thuringiensis strain PS149B1', 'Product:', 'Cry34Ab1 delta-endotoxin', 'Function:', 'confers resistance to coleopteran insects particularly corn rootworm by selectively damaging their midgut lining', 'cry35Ab1', 'Source:', 'Bacillus thuringiensis strain PS149B1', 'Product:', 'Cry35Ab1 delta-endotoxin', 'Function:', 'confers resistance to coleopteran insects particularly corn rootworm by selectively damaging their midgut lining', 'cry3A', 'Source:', 'Bacillus thuringiensis subsp. tenebrionis', 'Product:', 'cry3A delta endotoxin', 'Function:', 'confers resistance to coleopteran insects by selectively damaging their midgut lining', 'cry3Bb1', 'Source:', 'Bacillus thuringiensis subsp. kumamotoensis', 'Product:', 'Cry3Bb1 delta endotoxin', 'Function:', 'confers resistance to coleopteran insects particularly corn rootworm by selectively damaging their midgut lining', 'dvsnf7', 'Source:', 'Western Corn Rootworm (Diabrotica virgifera virgifera)', 'Product:', 'double-stranded RNA transcript containing a 240 bp fragment of the WCR Snf7 gene', 'Function:', 'RNAi interference resulting to down-regulation of the function of the targeted Snf7 gene leading to Western Corn Rootworm mortality.', 'mcry3A', 'Source:', 'synthetic form of cry3A gene from Bacillus thuringiensis subsp. tenebrionis', 'Product:', 'modified Cry3A delta-endotoxin', 'Function:', 'confers resistance to coleopteran insects particularly corn rootworm pests by selectively damaging their midgut lining', 'Trait: Delayed fruit softening', 'pg (sense or antisense)', 'Source:', 'Lycopersicon esculentum', 'Product:', 'no functional polygalacturonase enzyme is produced (transcription of the endogenous enzyme is suppressed by a gene silencing mechanism)', 'Function:', 'inhibits the production of polygalacturonase enzyme responsible for the breakdown of pectin molecules in the cell wall, and thus causes delayed softening of the fruit', 'Trait: Delayed ripening/senescence', 'acc', 'Source:', 'Ananas comosus', 'Product:', '1-aminocyclopropane-1-carboxylic acid synthase', 'Function:', 'involved in catalyzing the penultimate step in ethylene biosynthesis', 'acc (truncated)', 'Source:', 'Lycopersicon esculentum', 'Product:', 'modified transcript of 1-amino-cyclopropane-1-carboxylic acid (ACC) synthase gene', 'Function:', 'suppresses the normal expression of the native ACC synthase gene, resulting in reduced ethylene production and delayed fruit ripening', 'acc (truncated)', 'Source:', 'Dianthus caryophyllus', 'Product:', 'modified transcript of 1-amino-cyclopropane -1-carboxylic acid (ACC) synthase gene', 'Function:', 'causes reduced synthesis of endogenous ethylene through a gene silencing mechanism and thus delayed senescence and longer vase life', 'accd', 'Source:', 'Pseudomonas chlororaphis', 'Product:', '1-amino-cyclopropane-1-carboxylic acid deaminase enzyme', 'Function:', 'metabolizes the precursor of the fruit ripening hormone ethylene, resulting in delayed fruit ripening', 'anti-efe', 'Source:', 'Lycopersicon esculentum', 'Product:', 'antisense RNA of 1-amino-cyclopropane -1-carboxylate oxidase (ACO) gene (no functional ACO enzyme is produced)', 'Function:', 'causes delayed ripening by suppressing the production of ethylene via silencing of the ACO gene that encodes an ethylene-forming enzyme', 'sam-k', 'Source:', 'Escherichia coli bacteriophage T3', 'Product:', 'S-adenosylmethionine hydrolase\\xa0enzyme', 'Function:', 'causes delayed ripening by reducing the S-adenosylmethionine (SAM), a substrate for ethylene production', 'Trait: Dicamba herbicide tolerance', 'dmo', 'Source:', 'Stenotrophomonas maltophilia strain DI-6', 'Product:', 'dicamba mono-oxygenase enzyme', 'Function:', 'confers tolerance to the herbicide dicamba (2-methoxy-3,6-dichlorobenzoic acid) by using dicamba as substrate in an enzymatic reaction', 'Trait: Drought stress tolerance', 'cspB', 'Source:', 'Bacillus subtilis', 'Product:', 'cold shock protein B', 'Function:', 'maintains normal cellular functions under water stress conditions by preserving RNA stability and translation', 'EcBetA', 'Source:', 'Escherichia coli', 'Product:', 'choline dehydrogenase', 'Function:', 'catalyzes the production of the osmoprotectant compound glycine betaine conferring tolerance to water stress', 'Hahb-4', 'Source:', 'Helianthus annuus', 'Product:', 'Isolated nucleic acid molecule encoding the transcription factor Hahb-4', 'Function:', 'the transcription factor Hahb-4 binds to a dehydration transcription regulating region of plant', 'RmBetA', 'Source:', 'Rhizobium meliloti', 'Product:', 'choline dehydrogenase', 'Function:', 'catalyzes the production of the osmoprotectant compound glycine betaine conferring tolerance to water stress', 'Trait: Enhanced Photosynthesis/Yield', 'bbx32', 'Source:', 'Arabidopsis thaliana', 'Product:', 'protein that interacts with one or more endogenous transcription factors to regulate the plant’s day/night physiological processes', 'Function:', \"to modulate plant's diurnal biology and to enhance growth and reproductive development\", 'Trait: Enhanced Provitamin A Content', 'crt1', 'Source:', 'Pantoea ananatis', 'Product:', 'phytoene desaturase enzyme CRTI', 'Function:', 'catalyzes the conversion of 15-cis-phytoene to all-trans-lycopene', 'psy1', 'Source:', 'Zea mays', 'Product:', 'phytoene synthase ZmPSY1', 'Function:', 'converts geranylgeranyl diphosphate into phytoene, and acts upstream of CRTI in the carotenoid biosynthesis pathway', 'Trait: Fertility restoration', 'barstar', 'Source:', 'Bacillus amyloliquefaciens', 'Product:', 'barnase ribonuclease inhibitor', 'Function:', 'restores fertility by repressing the inhibitory effect of barnase on tapetum cells of the anther', 'ms45', 'Source:', 'Zea mays', 'Product:', 'ms45 protein', 'Function:', 'restores fertility by restoring the development of the microspore cell wall that gives rise to pollen', 'Trait: Foliar Late Blight Resistance', 'Rpi-vnt1', 'Source:', 'Solanum venturii', 'Product:', 'late blight resistance protein', 'Function:', 'confers resistance to potato late blight', 'Trait: Glufosinate herbicide tolerance', 'bar', 'Source:', 'Streptomyces hygroscopicus', 'Product:', 'phosphinothricin N-acetyltransferase (PAT) enzyme', 'Function:', 'eliminates herbicidal activity of glufosinate (phosphinothricin) herbicides by acetylation', 'pat', 'Source:', 'Streptomyces viridochromogenes', 'Product:', 'phosphinothricin N-acetyltransferase (PAT) enzyme', 'Function:', 'eliminates herbicidal activity of glufosinate (phosphinothricin) herbicides by acetylation', 'pat (syn)', 'Source:', 'synthetic form of pat gene derived from Streptomyces viridochromogenes strain Tu 494', 'Product:', 'phosphinothricin N-acetyltransferase (PAT) enzyme', 'Function:', 'eliminates herbicidal activity of glufosinate (phosphinothricin) herbicides by acetylation', 'Trait: Glyphosate herbicide tolerance', '2mepsps', 'Source:', 'Zea mays', 'Product:', '5-enolpyruvyl shikimate-3-phosphate synthase enzyme (double mutant version)', 'Function:', 'decreases binding affinity for glyphosate, thereby increasing tolerance to glyphosate herbicide', 'cp4 epsps (aroA:CP4)', 'Source:', 'Agrobacterium tumefaciens strain CP4', 'Product:', 'herbicide tolerant form of 5-enolpyruvulshikimate-3-phosphate synthase (EPSPS) enzyme', 'Function:', 'decreases binding affinity for glyphosate, thereby conferring increased tolerance to glyphosate herbicide', 'epsps (Ag)', 'Source:', 'Arthrobacter globiformis', 'Product:', '5-enolpyruvylshikimate-3-phosphate-synthase enzyme', 'Function:', 'confers tolerance to glyphosate herbicides', 'epsps grg23ace5', 'Source:', 'synthetic gene; similar to epsps grg23 gene from soil bacterium Arthrobacter globiformis', 'Product:', 'modified 5-enolpyruvylshikimate-3-phosphate synthase (EPSPS) protein or EPSPS ACE5 protein', 'Function:', 'confers tolerance to glyphosate herbicides', 'gat4601', 'Source:', 'Bacillus licheniformis', 'Product:', 'glyphosate N-acetyltransferase enzyme', 'Function:', 'catalyzes the inactivation of glyphosate,conferring tolerance to glyphosate herbicides', 'gat4621', 'Source:', 'Bacillus licheniformis', 'Product:', 'glyphosate N-acetyltransferase enzyme', 'Function:', 'catalyzes the inactivation of glyphosate, conferring tolerance to glyphosate herbicides', 'goxv247', 'Source:', 'Ochrobactrum anthropi\\xa0strain LBAA', 'Product:', 'glyphosate oxidase', 'Function:', 'confers tolerance to glyphosate herbicides by degrading glyphosate into aminomethylphosphonic acid (AMPA) and glyoxylate', 'mepsps', 'Source:', 'Zea mays', 'Product:', 'modified 5-enolpyruvylshikimate-3-phosphate synthase (EPSPS) enzyme', 'Function:', 'confers tolerance to glyphosate herbicides', 'Trait: Hemipteran Insect Resistance', 'mCry51Aa2', 'Source:', 'Bacillus thuringiensis', 'Product:', 'modified Bt Cry51Aa2 protein', 'Function:', 'confers resistance to hemipteran insects Lygus hesperus and L. lineolaris by selectively damaging their midgut lining', 'Trait: Imazamox herbicide tolerance', 'AtAHAS', 'Source:', 'Arabidopsis thaliana', 'Product:', 'acetohydroxy  acid synthase large subunit', 'Function:', 'tolerance to the herbicide imazamox', 'Trait: Increased Ear Biomass', 'athb17', 'Source:', 'Arabidopsis thaliana', 'Product:', 'a protein of the class II family of the homeodomain-leucine zipper (HD-Zip) transcription factors', 'Function:', 'Modulates plant growth and development and regulates gene expression', 'Trait: Inhibited stem elongation (dwarfed)', 'OsGA2ox1', 'Source:', 'rice (Oryza sativa L. cv Nipponbare)', 'Product:', 'GA 2-oxidase', 'Function:', 'inhibits stem elongation and the development of reproductive organs; promotes early development of the inflorescence meristem', 'Trait: Isoxaflutole herbicide tolerance', 'hppdPF W336', 'Source:', 'Pseudomonas fluorescens strain A32', 'Product:', 'modified p-hydroxyphenylpyruvate dioxygenase (hppd) enzyme', 'Function:', \"confers tolerance to HPPD-inhibiting herbicides (such as isoxaflutole) by reducing the specificity for the herbicide's bioactive constituent\", 'Trait: Late blight disease resistance', 'RB', 'Source:', 'Solanum bulbocastanum', 'Product:', 'late blight resistance protein', 'Function:', 'broad spectrum resistance against Phytophthora infestans races', 'Trait: Lepidopteran insect resistance', 'cry1A', 'Source:', 'Bacillus thuringiensis', 'Product:', 'delta-endotoxin of the Cry1A group', 'Function:', 'confers resistance to lepidopteran insects by selectively damaging their midgut lining', 'cry1A.105', 'Source:', 'Bacillus thuringiensis subsp. kumamotoensis', 'Product:', 'Cry1A.105 protein which comprises the Cry1Ab, Cry1F and Cry1Ac proteins', 'Function:', 'confers resistance to lepidopteran insects by selectively damaging their midgut lining', 'cry1Ab', 'Source:', 'Bacillus thuringiensis subsp. kurstaki', 'Product:', 'Cry1Ab delta-endotoxin', 'Function:', 'confers resistance to lepidopteran insects by selectively damaging their midgut lining', 'cry1Ab (truncated)', 'Source:', 'synthetic form of Cry1Ab from Bacillus thuringiensis subsp. kumamotoensis', 'Product:', 'Cry1Ab delta-endotoxin', 'Function:', 'confers resistance to lepidopteran insects by selectively damaging their midgut lining', 'cry1Ab-Ac', 'Source:', 'synthetic fusion gene derived from Bacillus thuringiensis', 'Product:', 'Cry1Ab-Ac delta endotoxin (fusion protein)', 'Function:', 'confers resistance to lepidopteran insects by selectively damaging their midgut lining', 'cry1Ac', 'Source:', 'Bacillus thuringiensis subsp.\\xa0Kurstaki strain HD73', 'Product:', 'Cry1Ac delta-endotoxin', 'Function:', 'confers resistance to lepidopteran insects by selectively damaging their midgut lining', 'cry1C', 'Source:', 'synthetic gene derived from Bacillus thuringiensis', 'Product:', 'Cry1C delta-endotoxin', 'Function:', 'confers resistance to lepidopteran insects, specifically Spodoptera', 'cry1F', 'Source:', 'Bacillus thuringiensis var. aizawai', 'Product:', 'Cry1F delta-endotoxin', 'Function:', 'confers resistance to lepidopteran insects by selectively damaging their midgut lining', 'cry1Fa2', 'Source:', 'synthetic form of cry1F gene derived from Bacillus thuringiensis var. aizawai', 'Product:', 'modified Cry1F protein', 'Function:', 'confers resistance to lepidopteran insects by selectively damaging their midgut lining', 'cry2Ab2', 'Source:', 'Bacillus thuringiensis subsp. kumamotoensis', 'Product:', 'Cry2Ab delta-endotoxin', 'Function:', 'confers resistance to lepidopteran insects by selectively damaging their midgut lining', 'cry2Ae', 'Source:', 'Bacillus thuringiensis subsp Dakota', 'Product:', 'Cry2Ae delta-endotoxin', 'Function:', 'confers resistance to lepidopteran insects by selectively damaging their midgut lining', 'cry9C', 'Source:', 'Bacillus thuringiensis\\xa0subsp. tolworthi strain BTS02618A', 'Product:', 'Cry9C delta endotoxin', 'Function:', 'confers resistance to lepidopteran insects by selectively damaging their midgut lining', 'mocry1F', 'Source:', 'synthetic form of cry1F gene from Bacillus thuringiensis var. aizawai', 'Product:', 'modified Cry1F protein', 'Function:', 'confers resistance to lepidopteran insects by selectively damaging their midgut lining', 'pinII', 'Source:', 'Solanum tuberosum', 'Product:', 'protease inhibitor protein', 'Function:', 'enhances defense against insect predators by reducing the digestibility and nutritional quality of the leaves', 'vip3A(a)', 'Source:', 'Bacillus thuringiensis strain AB88', 'Product:', 'VIP3A vegetative insecticidal protein', 'Function:', 'confers resistance to feeding damage caused by lepidopteran insects by selectively damaging their midgut lining', 'vip3Aa20', 'Source:', 'Bacillus thuringiensis strain AB88', 'Product:', 'vegetative insecticidal protein (vip3Aa variant)', 'Function:', 'confers resistance to feeding damage caused by lepidopteran insects by selectively damaging their midgut', 'Trait: Low Gossypol', 'dCS', 'Source:', 'Gossypium hirsutum L.', 'Product:', 'dsRNA that suppresses the expression of d-cadinene synthase gene that encode d-cadinene synthase, a key enzyme involved in gossypol', 'biosynthesis, thru RNAi pathway', 'Function:', 'silence the endogenous dCS genes', 'Trait: Lowered Free Asparagine', 'asn1', 'Source:', 'Solanum tuberosum', 'Product:', 'double stranded RNA', 'Function:', 'Designed to generate dsRNA to down regulate Asn1 transcripts which lowers asparagine formation', 'Trait: Lowered Reducing Sugars', 'PhL', 'Source:', 'Solanum tuberosum', 'Product:', 'double stranded RNA', 'Function:', 'Designed to generate dsRNA to down regulate PhL transcripts which lowers reducing sugars', 'R1', 'Source:', 'Solanum tuberosum', 'Product:', 'double stranded RNA', 'Function:', 'Designed to generate dsRNA to down regulate R1 transcripts which lowers reducing sugars', 'Vlnv', 'Source:', 'Solanum tuberosum', 'Product:', 'double stranded RNA', 'Function:', 'downregulates VInv transcripts which lowers reducing sugars', 'Trait: Male sterility', 'barnase', 'Source:', 'Bacillus amyloliquefaciens', 'Product:', 'barnase ribonuclease (RNAse) enzyme', 'Function:', 'causes male sterility by interfering with RNA production in the tapetum cells of the anther', 'dam', 'Source:', 'Escherichia coli', 'Product:', 'DNA adenine methylase enzyme', 'Function:', 'confers male sterility by interfering with the production of functional anthers and pollen', 'zm-aa1', 'Source:', 'Zea mays', 'Product:', 'alpha amylase enzyme', 'Function:', 'hydrolyses starch and makes pollen sterile when expressed in immature pollen', 'Trait: Mannose metabolism', 'pmi', 'Source:', 'Escherichia coli', 'Product:', 'Phosphomannose Isomerase (PMI) enzyme', 'Function:', 'metabolizes mannose and allows positive selection for recovery of transformed plants', 'Trait: Mesotrione Herbicide Tolerance', 'avhppd-03', 'Source:', 'Oat (Avena sativa)', 'Product:', 'p-hydroxyphenylpyruvate dioxygenase', 'Function:', 'Tolerance to Mesotrione herbicide', 'Trait: Modified alpha amylase', 'amy797E', 'Source:', 'synthetic gene derived from Thermococcales spp.', 'Product:', 'thermostable alpha-amylase enzyme', 'Function:', 'enhances bioethanol production by increasing the thermostability of amylase used in degrading starch', 'Trait: Modified amino acid', 'cordapA', 'Source:', 'Corynebacterium glutamicum', 'Product:', 'dihydrodipicolinate synthase enzyme', 'Function:', 'increases the production of amino acid lysine', 'Trait: Modified flower color', '5AT', 'Source:', 'Torenia sp.', 'Product:', 'anthocyanin 5-acyltransferase (5AT) enzyme', 'Function:', 'alters the production of a type of anthocyanin called delphinidin', \"bp40 (f3'5'h)\", 'Source:', 'Viola wittrockiana', 'Product:', \"Flavonoid 3',5'-hydroxylase (F3'5'H) enzyme\", 'Function:', 'catalyzes the production of the blue-coloured anthocyanin pigment delphinidin and its derivatives', 'cytb5', 'Source:', 'Petunia (Petunia hybrida)', 'Product:', 'Cytochrome b5', 'Function:', \"Cyt b5 protein acts as an electron donor to the Cyt P450 enzyme and is required for full activity of the Cyt P450 enzyme Flavinoid 3' 5' hydroxylase in vivo and the generation of purple/ blue flower colours.\", 'dfr', 'Source:', 'Petunia hybrida', 'Product:', 'dihydroflavonol-4-reductase (DFR) hydroxylase enzyme', 'Function:', 'catalyzes the production of the blue-coloured anthocyanin pigment delphinidin and its derivatives', 'dfr-diaca', 'Source:', 'Carnation (Dianthus caryophyllus)', 'Product:', 'Dihydroflavonol-4-reductase enzyme', 'Function:', 'functions in the biosynthesis pathway of the pink/ red-coloured anthocyandin 3-O-(6-O-malylglucoside) pigment in carnations', \"hfl (f3'5'h)\", 'Source:', 'Petunia hybrida', 'Product:', \"Flavonoid 3',5'-hydroxylase (F3'5'H) enzyme\", 'Function:', 'catalyzes the production of the blue-coloured anthocyanin pigment delphinidin and its derivatives', \"sfl (f3'5'h)\", 'Source:', 'Sage (Salvia splendens)', 'Product:', \"Flavonoid 3',5'-hydroxylase\", 'Function:', 'involved in the biosynthesis of a group of blue coloured anthocyanins called delphinidins', 'Trait: Modified fruit color', 'b-Lyc', 'Source:', 'Ananas comosus', 'Product:', 'gamma-carotene', 'Function:', 'increases lycopene accumulation using RNAi technology', 'e-Lyc', 'Source:', 'Ananas comosus', 'Product:', 'delta-carotene', 'Function:', 'increases lycopene accumulation using RNAi technology', 'Psy', 'Source:', 'Tangerine (Citrus reticulata)', 'Product:', 'phytoene', 'Function:', 'increases lycopene and/or beta-carotene levels', 'Trait: Modified oil/fatty acid', 'fad2-1A (sense and antisense)', 'Source:', 'Glycine max', 'Product:', 'no functional enzyme is produced (production of delta-12 desaturase enzyme is suppressed by RNA interference)', 'Function:', 'reduces desaturation of 18:1 oleic acid to 18:2 linoleic acid; increases the levels of monounsaturated oleic acid and decreases the levels of saturated linoleic acid in the seed', 'fad2.2', 'Source:', 'Carthamus tinctorius', 'Product:', 'no functional enzyme is produced (production of delta-12 desaturase enzyme is suppressed by RNA interference)', 'Function:', 'downregulation of fad2.2 gene', 'fatB', 'Source:', 'Carthamus tinctorius', 'Product:', 'no functional enzyme produced (production of FATB enzymes or acyl-acyl carrier protein thioesterases is suppressed by RNA interference)', 'Function:', 'downregulates fatB gene', 'fatb1-A (sense and antisense segments)', 'Source:', 'Glycine max', 'Product:', 'no functional enzyme is produced (production of FATB enzymes or acyl-acyl carrier protein thioesterases is suppressed by RNA interference)', 'Function:', 'decreases the transport of saturated fatty acids out of the plastid, thereby increasing their availability to desaturation to 18:1 oleic acid; reduces the levels of saturated fatty acids and increases the levels of 18:1 oleic acid', 'gm-fad2-1 (partial sequence)', 'Source:', 'Glycine max', 'Product:', 'no functional enzyme is produced (expression of the endogenous fad2-1 gene encoding omega-6 desaturase enzyme was suppressed by the partial gm-fad2-1 gene fragment)', 'Function:', 'blocks the formation of linoleic acid from oleic acid (by silencing the fad2-1 gene) and allows accumulation of oleic acid in the seed', 'gm-fad2-1 (silencing locus)', 'Source:', 'Glycine max', 'Product:', 'no functional enzyme is produced (production of endogenous delta-12 desaturase enzyme was suppressed by an additional copy of the gm-fad2-1 gene via a gene silencing mechanism)', 'Function:', 'blocks the conversion of oleic acid to linoleic acid (by silencing the endogenous fad2-1 gene) and allows accumulation of monounsaturated oleic acid in the seed', 'Lackl-delta12D', 'Source:', 'Lachancea kluyveri', 'Product:', 'delta-12-desaturase', 'Function:', 'converts oleic acid to linoleic acid', 'Micpu-delta-6D', 'Source:', 'Micromonas pusilla', 'Product:', 'delta-6-desaturase', 'Function:', 'convert a-linolenic acid to stearidonic acid', 'Nc.Fad3', 'Source:', 'Neurospora crassa', 'Product:', 'delta 15 desaturase protein', 'Function:', 'desaturates  certain endogenous fatty acids resulting in the production of stearidonic acid (SDA), an omega-3 fatty acid', 'OtD5E', 'Source:', 'Ostreococcus tauri', 'Product:', 'delta-5 elongase', 'Function:', 'catalyzes the decarboxylation Claisen-like condensation of two carbons from malonyl-CoA to C20:5n-3-CoA   generating   C22:5n-3-ß-keto-C oA,   which   is   then   converted   to   C22:5n-3-CoA by endogenous enzymes', 'OtD6D', 'Source:', 'Ostreococcus tauri', 'Product:', 'delta-6 desaturase', 'Function:', 'converts C18:2n-6 fatty acids into C18:3n-6 fatty acids', 'Pavsa-delta-4D', 'Source:', 'Pavlova salina', 'Product:', 'delta-4-desaturase', 'Function:', 'converts docosapentaenoic acid to docosahexaenoic acid', 'Pavsa-delta-5D', 'Source:', 'Pavlova salina', 'Product:', 'delta-5-desaturase', 'Function:', 'converts eicosatetraenoic acid to eicosapentaenoic acid', 'Picpa-omega-3D', 'Source:', 'Pichia pastoris', 'Product:', 'delta-15-/omega-3-desaturase', 'Function:', 'converts linoleic acid to a-linolenic acid', 'PiO3D', 'Source:', 'Phytophthora infestans', 'Product:', 'omega-3  desaturase', 'Function:', 'converts C20:4n-6 into C20:5n-3', 'PirO3D', 'Source:', 'Pythium irregulare', 'Product:', 'two copies of the  coding sequence for an omega-3  desaturase, cO3D(Pir)1 and cO3D(Pir)2', 'Function:', 'converts C20:4n-6 into C20:5n-3', 'Pj.D6D', 'Source:', 'Primula juliae', 'Product:', 'delta 6 desaturase protein', 'Function:', 'desaturates certain endogenous fatty acids resulting in the production of stearidonic acid (SDA), an omega-3 fatty acid', 'PlD4D', 'Source:', 'Pavlova lutheri', 'Product:', 'delta-4 desaturase', 'Function:', 'convert C22:5n-3 into C22:6n-3', 'PpD6E', 'Source:', 'Physcomitrella patens', 'Product:', 'delta-6 elongase', 'Function:', 'catalyzes the decarboxylation Claisen-like condensation of two carbons from malonyl-CoA to C18:3n-6-CoA generating C20:3n-6-ß-keto-CoA, which is then converted to C20:3n-6-CoA by endogenous enzymes', 'PsD12D', 'Source:', 'Phytophthora sojae', 'Product:', 'delta-12 desaturase', 'Function:', 'convert C18:1n-9 into C18:2n-6', 'Pyrco-delta-5E', 'Source:', 'Pyramimonas cordata', 'Product:', 'delta-5-elongase', 'Function:', 'converts eicosapentaenoic acid to docosapentaenoic acid', 'Pyrco-delta-6E', 'Source:', 'Pyramimonas cordata', 'Product:', 'delta-6-elongase', 'Function:', 'convert stearidonic acid to eicosatetraenoic acid', 'TcD4D', 'Source:', 'Thraustochytrium sp.', 'Product:', 'delta-4 desaturase', 'Function:', 'converts C22:5n-3 into C22:6n-3', 'TcD5D', 'Source:', 'Thraustochytrium sp.', 'Product:', 'two copies of the coding  sequence for a delta-5 desaturase, cD5D(Tc)1 and cD5D(Tc)2', 'Function:', 'te', 'Source:', 'Umbellularia californica (bay leaf)', 'Product:', '12:0 ACP thioesterase \\xa0enzyme', 'Function:', 'increases the level of triacylglycerides containing esterified lauric acid (12:0)', 'TpD6E', 'Source:', 'Thalassiosira pseudonana', 'Product:', 'delta-6 elongase', 'Function:', 'catalyzes the decarboxylation Claisen-like condensation of two carbons from malonyl-CoA to C18:3n-6-CoA generating C20:3n-6-ß-keto-CoA, which is then converted to C20:3n-6-CoA by endogenous enzymes', 'Trait: Modified starch/carbohydrate', 'gbss (antisense fragment)', 'Source:', 'Solanum tuberosum', 'Product:', 'no functional granule-bound starch synthase\\xa0(GBSS) enzyme is produced; production of GBSS enzyme is suppressed by a gene silencing mechanism', 'Function:', 'reduces the levels of amylose and increases the levels of amylopectin in starch granules', 'Trait: Multiple insect resistance', 'API', 'Source:', 'Sagittaria sagittifolia (arrowhead)', 'Product:', 'arrowhead protease inhibitor protein A or B', 'Function:', 'confers resistance to a wide range of insect pests', 'CpTI', 'Source:', 'Vigna unguiculata', 'Product:', 'trypsin inhibitor', 'Function:', 'confers resistance to a wide range of insect pests', 'ecry3.1Ab', 'Source:', 'synthetic form of Cry3A gene and Cry1Ab gene from Bacillus thuringiensis', 'Product:', 'chimeric (Cry3A-Cry1Ab) delta endotoxin protein', 'Function:', 'confers resistance to coleopteran and lepidopteran insects by selectively damaging their midgut lining', 'Trait: Nicotine reduction', 'NtQPT1 (antisense)', 'Source:', 'Nicotiana tabacum', 'Product:', 'antisense RNA of quinolinic acid phosphoribosyltransferase (QPTase) gene; no functional QPTase enzyme is produced', 'Function:', 'suppresses the transcription of the QPTase gene, thereby reducing the production of nicotinic acid, a precursor for nicotine', 'Trait: Non-Browning', 'PGAS PPO suppression gene', 'Source:', 'Malus domestica', 'Product:', 'double stranded RNA (dsRNA)', 'Function:', 'double stranded RNA (dsRNA)from the suppression transcript is processed into small interfering RNAs (siRNAs) that direct the cleavage of the target mRNA through sequence complementarity and suppresses PPO resulting in apples with a non-browning phenotype.', 'Trait: Nopaline synthesis', 'nos', 'Source:', 'Agrobacterium tumefaciens strain CP4', 'Product:', 'nopaline synthase enzyme', 'Function:', 'catalyses the synthesis of nopaline, which permits the identification of transformed plant embryos', 'Trait: Oxynil herbicide tolerance', 'bxn', 'Source:', 'Klebsiella pneumoniae subsp. Ozaenae', 'Product:', 'nitrilase enzyme', 'Function:', 'eliminates herbicidal activity of oxynil herbicides (eg. bromoxynil)', 'Trait: Phytase production', 'phyA', 'Source:', 'Aspergillus niger var. van Tieghem', 'Product:', '3-phytase enzyme', 'Function:', 'increases the breakdown of plant phytates which bind phosphorus and makes the latter available to monogastric animals', 'phyA2', 'Source:', 'Aspergillus niger strain 963', 'Product:', 'phytase enzyme', 'Function:', 'degrades phytate phosphorus in seeds into inorganic phosphate to be available to animals when used as feed', 'Trait: Reduced Black Spot', 'ppo5', 'Source:', 'Solanum verrucosum', 'Product:', 'double stranded RNA', 'Function:', 'Designed to generate dsRNA to down regulate Ppo5 transcripts which lowers black spot bruise development', 'Trait: Sulfonylurea herbicide tolerance', 'als', 'Source:', 'Arabidopsis thaliana', 'Product:', 'herbicide tolerant enzyme acetolactate synthase\\xa0(als)', 'Function:', 'allows the synthesis of essential amino acids in the presence of sulfonylurea herbicides', 'csr1-2', 'Source:', 'Arabidopsis thaliana', 'Product:', 'modified acetohydroxyacid synthase large subunit\\xa0(AtAHASL)', 'Function:', 'confers tolerance to imidazolinone herbicides', 'gm-hra', 'Source:', 'Glycine max', 'Product:', 'modified acetolactate synthase\\xa0(ALS) enzyme', 'Function:', 'confers tolerance to applications of sulfonylurea – based herbicides', 'S4-HrA', 'Source:', 'Nicotiana tabacum cv. Xanthi', 'Product:', 'herbicide tolerant acetolactate synthase (ALS) enzyme', 'Function:', 'allows the plant to synthesize essential amino acids in the presence of sulfonylurea herbicides', 'surB', 'Source:', 'Nicotiana tabacum', 'Product:', 'herbicide tolerant acetolactate synthase (ALS) enzyme', 'Function:', 'confers tolerance to sulfonylurea herbicides and other acetolactate synthase (ALS) inhibiting herbicides', 'zm-hra', 'Source:', 'Zea mays', 'Product:', 'herbicide tolerant acetolactase synthase (als) enzyme', 'Function:', 'confers tolerance to acetolactate synthase-inhibiting herbicides such as sulfonylurea and imidazolinone', 'Trait: Viral disease resistance', 'ac1 (sense and antisense)', 'Source:', 'Bean Golden Mosaic Virus (BGMV)', 'Product:', 'sense and antisense RNA of viral replication protein (Rep); no functional viral replication protein is produced', 'Function:', 'inhibits the synthesis of the viral replication protein of the Bean Golden Mosaic Virus (BGMV), thereby conferring resistance to the BGMV', 'cmv_cp', 'Source:', 'Cucumber Mosaic Cucumovirus (CMV)', 'Product:', 'coat protein of cucumber mosaic cucumovirus (CMV)', 'Function:', 'confers resistance to cucumber mosaic cucumovirus (CMV) through \"pathogen-derived resistance\" mechanism', 'plrv_orf1', 'Source:', 'Potato Leaf Roll Virus (PLRV)', 'Product:', 'putative replicase domain of the potato leaf roll virus  (PLRV)', 'Function:', 'confers resistance to potato leaf roll virus (PLRV) through gene silencing mechanism', 'plrv_orf2', 'Source:', 'Potato Leaf Roll Virus (PLRV)', 'Product:', 'putative helicase domain of the potato leaf roll virus (PLRV)', 'Function:', 'confers resistance to potato leaf roll virus (PLRV) through gene silencing mechanism', 'ppv_cp', 'Source:', 'Plum pox virus (PPV)', 'Product:', 'coat protein of plum pox virus (PPV)', 'Function:', 'confers resistance to plum pox virus (PPV) through \"pathogen-derived resistance\" mechanism', 'prsv_cp', 'Source:', 'Papaya ringspot virus (PRSV)', 'Product:', 'coat protein (CP) of the papaya ringspot virus (PRSV)', 'Function:', 'confers resistance to papaya ringspot virus (PRSV) through \"pathogen-derived resistance\" mechanism', 'prsv_rep', 'Source:', 'Papaya ringspot virus (PRSV)', 'Product:', 'replicase domain of the papaya ringspot virus (PRSV)', 'Function:', 'confers resistance to papaya ringspot virus (PRSV) through gene silencing mechanism', 'pvy_cp', 'Source:', 'Potato Virus Y (PVY)', 'Product:', 'coat protein of the potato virus Y (PVY)', 'Function:', 'confers resistance to potato virus Y (PVY) through \"pathogen-derived resistance\" mechanism', 'wmv_cp', 'Source:', 'Watermelon Mosaic Potyvirus 2 (WMV2)', 'Product:', 'coat protein of watermelon mosaic potyvirus 2 (WMV2)', 'Function:', 'confers resistance to watermelon mosaic potyvirus 2 (WMV2) through \"pathogen-derived resistance\" mechanism', 'zymv_cp', 'Source:', 'Zucchini Yellow Mosaic Potyvirus (ZYMV)', 'Product:', 'coat protein of zucchini yellow mosaic potyvirus (ZYMV)', 'Function:', 'confers resistance to zucchini yellow mosaic potyvirus (ZYMV) through \"pathogen-derived resistance\" mechanism', 'Trait: Visual marker', 'dsRed2', 'Source:', 'Discosoma sp.', 'Product:', 'red fluorescent protein', 'Function:', 'produces red stain on transformed tissue, which allows visual selection', 'uidA', 'Source:', 'Escherichia coli', 'Product:', 'beta-D-glucuronidase\\xa0(GUS) enzyme', 'Function:', 'produces blue stain on treated transformed tissue, which allows visual selection', 'Trait: Volumetric Wood Increase', 'cel1', 'Source:', 'Arabidopsis thaliana', 'Product:', 'CEL1 recombinant protein', 'Function:', 'promotes a faster growth']\n"
     ]
    }
   ],
   "source": [
    "# get rid of leading and trailing whitespace\n",
    "genetext_raw = souptext.splitlines() \n",
    "\n",
    "# remove leading and trailing whitespace\n",
    "genetext = []\n",
    "for element in genetext_raw: \n",
    "    genetext_entry = element.strip()\n",
    "    genetext.append(genetext_entry)\n",
    "\n",
    "# remove empty list entries \n",
    "while('' in genetext) : \n",
    "    genetext.remove('') \n",
    "\n",
    "# slice out only parts we want\n",
    "genetext = genetext[34:-15]\n",
    "print(genetext)"
   ]
  },
  {
   "cell_type": "code",
   "execution_count": null,
   "metadata": {},
   "outputs": [],
   "source": [
    "# iterate, +1 index for keyword? (trait inclusive, gene name is -1 source:)"
   ]
  },
  {
   "cell_type": "code",
   "execution_count": null,
   "metadata": {},
   "outputs": [],
   "source": []
  },
  {
   "cell_type": "code",
   "execution_count": null,
   "metadata": {},
   "outputs": [],
   "source": []
  },
  {
   "cell_type": "code",
   "execution_count": null,
   "metadata": {},
   "outputs": [],
   "source": []
  },
  {
   "cell_type": "code",
   "execution_count": 319,
   "metadata": {},
   "outputs": [],
   "source": [
    "# using blobtext\n",
    "souptext = str(soup.get_text())\n",
    "blobtext = TextBlob(souptext)\n",
    "blobtext2 = blobtext.strip()\n",
    "print(blobtext2, file=open(\"blobtext.txt\", \"a\")) # write to file"
   ]
  },
  {
   "cell_type": "code",
   "execution_count": 315,
   "metadata": {},
   "outputs": [],
   "source": [
    "# dictionary for regex matching\n",
    "gene_dict = {\n",
    "    'trait': re.compile(r'Trait: (?P<trait>.*)\\n'),\n",
    "    'gene' : re.compile(r'\\n(?P<gene>.*\\s)\\n Source:'),\n",
    "    'source': re.compile(r'Source:\\n(?P<source>.*)\\n'), \n",
    "    'product': re.compile(r'Product:\\n(?P<product>.*)\\n'),\n",
    "    'function': re.compile(r'Function:\\n(?P<function>.*)\\n')\n",
    "}"
   ]
  },
  {
   "cell_type": "code",
   "execution_count": 316,
   "metadata": {},
   "outputs": [],
   "source": [
    "# match lines to regex\n",
    "def parseinfo(text): \n",
    "    for info, regex in gene_dict.items():\n",
    "        match = regex.search(text)\n",
    "        if match: \n",
    "            return info, match\n",
    "    return None, None"
   ]
  },
  {
   "cell_type": "code",
   "execution_count": 331,
   "metadata": {},
   "outputs": [],
   "source": [
    "# parse blobtext file \n",
    "\n",
    "\n",
    "######### needs debugging!! \n",
    "def parsefile(file): \n",
    "    data = []\n",
    "    with open(file, 'r') as file: \n",
    "        line = file.readline()\n",
    "        while line: \n",
    "            info, match = parseinfo(line)\n",
    "            if info == 'trait': \n",
    "                trait = match.group('trait')\n",
    "            if info == 'gene': \n",
    "                gene = match.group('gene')\n",
    "            if info == 'source': \n",
    "                source = match.group('source')\n",
    "            if info == 'product':\n",
    "                product = match.group('product')\n",
    "            if info == 'function': \n",
    "                function = match.group('function')\n",
    "                \n",
    "            while line.strip():\n",
    "                row = {\n",
    "                    'Trait': trait, \n",
    "                    'Gene': gene,\n",
    "                    'Source': source,\n",
    "                    'Product': product,\n",
    "                    'Function': function\n",
    "                }\n",
    "                \n",
    "                data.append(row)\n",
    "                line = file.readline() #?? \n",
    "                \n",
    "            line = file.readline()\n",
    "\n",
    "        data = pd.DataFrame(data)\n",
    "        data.set_index(['Trait', 'Gene'], inplace = True)\n",
    "        data = data.groupby(level = data.index.names).first()\n",
    "    return data"
   ]
  },
  {
   "cell_type": "code",
   "execution_count": 332,
   "metadata": {},
   "outputs": [
    {
     "ename": "UnboundLocalError",
     "evalue": "local variable 'trait' referenced before assignment",
     "output_type": "error",
     "traceback": [
      "\u001b[0;31m---------------------------------------------------------------------------\u001b[0m",
      "\u001b[0;31mUnboundLocalError\u001b[0m                         Traceback (most recent call last)",
      "\u001b[0;32m<ipython-input-332-6c8e6a511e54>\u001b[0m in \u001b[0;36m<module>\u001b[0;34m\u001b[0m\n\u001b[0;32m----> 1\u001b[0;31m \u001b[0mparsefile\u001b[0m\u001b[0;34m(\u001b[0m\u001b[0;34m'./blobtext.txt'\u001b[0m\u001b[0;34m)\u001b[0m\u001b[0;34m\u001b[0m\u001b[0;34m\u001b[0m\u001b[0m\n\u001b[0m",
      "\u001b[0;32m<ipython-input-331-1057fc510bfb>\u001b[0m in \u001b[0;36mparsefile\u001b[0;34m(file)\u001b[0m\n\u001b[1;32m     19\u001b[0m             \u001b[0;32mwhile\u001b[0m \u001b[0mline\u001b[0m\u001b[0;34m.\u001b[0m\u001b[0mstrip\u001b[0m\u001b[0;34m(\u001b[0m\u001b[0;34m)\u001b[0m\u001b[0;34m:\u001b[0m\u001b[0;34m\u001b[0m\u001b[0;34m\u001b[0m\u001b[0m\n\u001b[1;32m     20\u001b[0m                 row = {\n\u001b[0;32m---> 21\u001b[0;31m                     \u001b[0;34m'Trait'\u001b[0m\u001b[0;34m:\u001b[0m \u001b[0mtrait\u001b[0m\u001b[0;34m,\u001b[0m\u001b[0;34m\u001b[0m\u001b[0;34m\u001b[0m\u001b[0m\n\u001b[0m\u001b[1;32m     22\u001b[0m                     \u001b[0;34m'Gene'\u001b[0m\u001b[0;34m:\u001b[0m \u001b[0mgene\u001b[0m\u001b[0;34m,\u001b[0m\u001b[0;34m\u001b[0m\u001b[0;34m\u001b[0m\u001b[0m\n\u001b[1;32m     23\u001b[0m                     \u001b[0;34m'Source'\u001b[0m\u001b[0;34m:\u001b[0m \u001b[0msource\u001b[0m\u001b[0;34m,\u001b[0m\u001b[0;34m\u001b[0m\u001b[0;34m\u001b[0m\u001b[0m\n",
      "\u001b[0;31mUnboundLocalError\u001b[0m: local variable 'trait' referenced before assignment"
     ]
    }
   ],
   "source": [
    "parsefile('./blobtext.txt')"
   ]
  },
  {
   "cell_type": "code",
   "execution_count": null,
   "metadata": {},
   "outputs": [],
   "source": []
  },
  {
   "cell_type": "code",
   "execution_count": null,
   "metadata": {},
   "outputs": [],
   "source": []
  },
  {
   "cell_type": "markdown",
   "metadata": {},
   "source": [
    "## Scrapwork"
   ]
  },
  {
   "cell_type": "code",
   "execution_count": 220,
   "metadata": {},
   "outputs": [
    {
     "data": {
      "text/html": [
       "<div>\n",
       "<style scoped>\n",
       "    .dataframe tbody tr th:only-of-type {\n",
       "        vertical-align: middle;\n",
       "    }\n",
       "\n",
       "    .dataframe tbody tr th {\n",
       "        vertical-align: top;\n",
       "    }\n",
       "\n",
       "    .dataframe thead th {\n",
       "        text-align: right;\n",
       "    }\n",
       "</style>\n",
       "<table border=\"1\" class=\"dataframe\">\n",
       "  <thead>\n",
       "    <tr style=\"text-align: right;\">\n",
       "      <th></th>\n",
       "      <th>0</th>\n",
       "      <th>1</th>\n",
       "      <th>2</th>\n",
       "      <th>3</th>\n",
       "      <th>4</th>\n",
       "      <th>5</th>\n",
       "      <th>6</th>\n",
       "      <th>7</th>\n",
       "      <th>8</th>\n",
       "      <th>9</th>\n",
       "      <th>...</th>\n",
       "      <th>2572</th>\n",
       "      <th>2573</th>\n",
       "      <th>2574</th>\n",
       "      <th>2575</th>\n",
       "      <th>2576</th>\n",
       "      <th>2577</th>\n",
       "      <th>2578</th>\n",
       "      <th>2579</th>\n",
       "      <th>2580</th>\n",
       "      <th>2581</th>\n",
       "    </tr>\n",
       "  </thead>\n",
       "  <tbody>\n",
       "    <tr>\n",
       "      <th>0</th>\n",
       "      <td>[''</td>\n",
       "      <td>''</td>\n",
       "      <td>''</td>\n",
       "      <td>''</td>\n",
       "      <td>''</td>\n",
       "      <td>' '</td>\n",
       "      <td>' '</td>\n",
       "      <td>''</td>\n",
       "      <td>'Genes List - GM Approval Database | ISAAA.org'</td>\n",
       "      <td>''</td>\n",
       "      <td>...</td>\n",
       "      <td>''</td>\n",
       "      <td>\"  ga('create'</td>\n",
       "      <td>'UA-11798562-1'</td>\n",
       "      <td>'auto');\"</td>\n",
       "      <td>\"  ga('send'</td>\n",
       "      <td>'pageview');\"</td>\n",
       "      <td>''</td>\n",
       "      <td>''</td>\n",
       "      <td>''</td>\n",
       "      <td>'']</td>\n",
       "    </tr>\n",
       "  </tbody>\n",
       "</table>\n",
       "<p>1 rows × 2582 columns</p>\n",
       "</div>"
      ],
      "text/plain": [
       "  0    1    2    3    4     5     6    7     \\\n",
       "0  [''   ''   ''   ''   ''   ' '   ' '   ''   \n",
       "\n",
       "                                               8    9     ... 2572  \\\n",
       "0   'Genes List - GM Approval Database | ISAAA.org'   ''  ...   ''   \n",
       "\n",
       "              2573              2574        2575           2576  \\\n",
       "0   \"  ga('create'   'UA-11798562-1'   'auto');\"   \"  ga('send'   \n",
       "\n",
       "             2577 2578 2579 2580  2581  \n",
       "0   'pageview');\"   ''   ''   ''   '']  \n",
       "\n",
       "[1 rows x 2582 columns]"
      ]
     },
     "execution_count": 220,
     "metadata": {},
     "output_type": "execute_result"
    }
   ],
   "source": [
    "str_gt = str(genetext_raw)\n",
    "df = pd.DataFrame([x.split(',') for x in str_gt.split('\\n')])\n",
    "pd.DataFrame.dropna(df, how = 'all')"
   ]
  },
  {
   "cell_type": "code",
   "execution_count": null,
   "metadata": {},
   "outputs": [],
   "source": [
    "gene_names = []\n",
    "gmo_tds = soup(\"tr\", class_=\"smalltext\")\n",
    "for td in gmo_tds:\n",
    "    gene_names.append(td.find(\"a\").contents[0])\n",
    "gene_names"
   ]
  },
  {
   "cell_type": "code",
   "execution_count": null,
   "metadata": {},
   "outputs": [],
   "source": [
    "soup = BeautifulSoup('<td bgcolor=\"#F7F7F7\" valign=\"top\"><strong>Product:</strong> CAld5H enzyme <br/>')\n",
    "tag = soup.b\n",
    "type(tag)"
   ]
  },
  {
   "cell_type": "code",
   "execution_count": null,
   "metadata": {},
   "outputs": [],
   "source": [
    "classes = []\n",
    "for element in soup.find_all(class_=True):\n",
    "    classes.extend(element[\"class\"])\n",
    "print(classes)"
   ]
  },
  {
   "cell_type": "code",
   "execution_count": null,
   "metadata": {},
   "outputs": [],
   "source": []
  }
 ],
 "metadata": {
  "kernelspec": {
   "display_name": "Python 3",
   "language": "python",
   "name": "python3"
  },
  "language_info": {
   "codemirror_mode": {
    "name": "ipython",
    "version": 3
   },
   "file_extension": ".py",
   "mimetype": "text/x-python",
   "name": "python",
   "nbconvert_exporter": "python",
   "pygments_lexer": "ipython3",
   "version": "3.7.6"
  }
 },
 "nbformat": 4,
 "nbformat_minor": 4
}

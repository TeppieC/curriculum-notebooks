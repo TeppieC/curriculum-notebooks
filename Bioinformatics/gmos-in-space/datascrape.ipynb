{
 "cells": [
  {
   "cell_type": "markdown",
   "metadata": {},
   "source": [
    "## ISAAA crop genomics webscrape\n",
    "\n",
    "**Description**: \n",
    "\n",
    "**Usage**: \n",
    "\n",
    "**Notes**: \n",
    "\n",
    "Last Edited: \n",
    "\n",
    "Author: LNC\n",
    "\n",
    "Contact: lisa.cao@cybera.ca"
   ]
  },
  {
   "cell_type": "code",
   "execution_count": 1,
   "metadata": {},
   "outputs": [],
   "source": [
    "#import libraries\n",
    "import requests \n",
    "import pandas as pd\n",
    "from bs4 import BeautifulSoup \n",
    "import csv \n",
    "import lxml\n",
    "from textblob import TextBlob\n",
    "import regex as re"
   ]
  },
  {
   "cell_type": "code",
   "execution_count": 2,
   "metadata": {},
   "outputs": [],
   "source": [
    "# get raw html\n",
    "URL = \"https://www.isaaa.org/gmapprovaldatabase/geneslist/default.asp\"\n",
    "gmo = requests.get(URL) \n",
    "soup = BeautifulSoup(gmo.content, \"lxml\")\n",
    "# get text \n",
    "souptext = str(soup.get_text())"
   ]
  },
  {
   "cell_type": "code",
   "execution_count": null,
   "metadata": {},
   "outputs": [],
   "source": [
    "# get rid of leading and trailing whitespace\n",
    "genetext_raw = souptext.splitlines() \n",
    "\n",
    "# remove leading and trailing whitespace\n",
    "genetext = []\n",
    "for element in genetext_raw: \n",
    "    genetext_entry = element.strip()\n",
    "    genetext.append(genetext_entry)\n",
    "\n",
    "# remove empty list entries \n",
    "while('' in genetext) : \n",
    "    genetext.remove('') \n",
    "\n",
    "# slice out only parts we want\n",
    "genetext = genetext[34:-15]\n",
    "print(genetext)"
   ]
  },
  {
   "cell_type": "code",
   "execution_count": null,
   "metadata": {},
   "outputs": [],
   "source": [
    "#generate list of traits\n",
    "traits = [info for info in genetext if \"Trait:\" in info]\n",
    "traits"
   ]
  },
  {
   "cell_type": "code",
   "execution_count": null,
   "metadata": {},
   "outputs": [],
   "source": [
    "#generate list of gene names\n",
    "genenames = []\n",
    "for i in range(1, len(genetext)): \n",
    "    if genetext[i] == 'Source:': \n",
    "        genenames.append(genetext[i-1])\n",
    "genenames"
   ]
  },
  {
   "cell_type": "code",
   "execution_count": null,
   "metadata": {},
   "outputs": [],
   "source": [
    "#split list into sublists based on trait\n",
    "sublist = []\n",
    "traitinfo = []\n",
    "for info in genetext: \n",
    "    if info in traits: \n",
    "        if sublist:\n",
    "            traitinfo.append(sublist)\n",
    "        sublist = [info]\n",
    "    else: \n",
    "        sublist.append(info)\n",
    "traitinfo.append(sublist)\n",
    "print(traitinfo)"
   ]
  },
  {
   "cell_type": "code",
   "execution_count": null,
   "metadata": {},
   "outputs": [],
   "source": [
    "#split sublist into sublists based on gene\n",
    "gene = []\n",
    "geneinfo = []\n",
    "for sublist in traitinfo: \n",
    "    for info in sublist:\n",
    "        if info in genenames: \n",
    "            if gene:\n",
    "                geneinfo.append(gene)\n",
    "            gene = [info]\n",
    "        else: \n",
    "            gene.append(info)\n",
    "    geneinfo.append(gene)\n",
    "    print(geneinfo)"
   ]
  },
  {
   "cell_type": "code",
   "execution_count": null,
   "metadata": {},
   "outputs": [],
   "source": [
    "#convert into dict? \n"
   ]
  },
  {
   "cell_type": "code",
   "execution_count": null,
   "metadata": {},
   "outputs": [],
   "source": [
    "#generate dataframe"
   ]
  },
  {
   "cell_type": "code",
   "execution_count": null,
   "metadata": {},
   "outputs": [],
   "source": []
  },
  {
   "cell_type": "code",
   "execution_count": null,
   "metadata": {},
   "outputs": [],
   "source": []
  },
  {
   "cell_type": "code",
   "execution_count": null,
   "metadata": {},
   "outputs": [],
   "source": [
    "#regex way - not completed"
   ]
  },
  {
   "cell_type": "code",
   "execution_count": 3,
   "metadata": {},
   "outputs": [],
   "source": [
    "# using blobtext\n",
    "souptext = str(soup.get_text())\n",
    "blobtext = TextBlob(souptext)\n",
    "blobtext2 = str(blobtext)\n",
    "print(blobtext2, file=open(\"blobtext.txt\", \"a\")) # write to file"
   ]
  },
  {
   "cell_type": "code",
   "execution_count": 4,
   "metadata": {},
   "outputs": [],
   "source": [
    "# dictionary for regex matching\n",
    "gene_dict = {\n",
    "    'trait': re.compile(r'Trait: (?P<trait>.*)\\n'),\n",
    "    'gene' : re.compile(r'\\n(?P<gene>.*\\s)\\n Source:'),\n",
    "    'source': re.compile(r'Source:\\n(?P<source>.*)\\n'), \n",
    "    'product': re.compile(r'Product:\\n(?P<product>.*)\\n'),\n",
    "    'function': re.compile(r'Function:\\n(?P<function>.*)\\n')\n",
    "}"
   ]
  },
  {
   "cell_type": "code",
   "execution_count": 7,
   "metadata": {},
   "outputs": [],
   "source": [
    "def parseinfo(text):\n",
    "    for info, regex in gene_dict.items():\n",
    "            match = regex.search(text)\n",
    "            if match: \n",
    "                return info, match\n",
    "    return None, None"
   ]
  }
 ],
 "metadata": {
  "kernelspec": {
   "display_name": "Python 3",
   "language": "python",
   "name": "python3"
  },
  "language_info": {
   "codemirror_mode": {
    "name": "ipython",
    "version": 3
   },
   "file_extension": ".py",
   "mimetype": "text/x-python",
   "name": "python",
   "nbconvert_exporter": "python",
   "pygments_lexer": "ipython3",
   "version": "3.7.6"
  }
 },
 "nbformat": 4,
 "nbformat_minor": 4
}

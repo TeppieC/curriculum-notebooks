{
 "cells": [
  {
   "cell_type": "markdown",
   "metadata": {},
   "source": [
    "![Callysto.ca Banner](https://github.com/callysto/curriculum-notebooks/blob/master/callysto-notebook-banner-top.jpg?raw=true)\n",
    "\n",
    "<a href=\"https://hub.callysto.ca/jupyter/hub/user-redirect/git-pull?repo=https%3A%2F%2Fgithub.com%2Fcallysto%2Fhackathon&branch=master&subPath=ColonizingMars/ChallengeTemplates/challenge-option-1-should-we-colonize-Mars.ipynb&depth=1\" target=\"_parent\"><img src=\"https://raw.githubusercontent.com/callysto/curriculum-notebooks/master/open-in-callysto-button.svg?sanitize=true\" width=\"123\" height=\"24\" alt=\"Open in Callysto\"/></a>"
   ]
  },
  {
   "cell_type": "code",
   "execution_count": 126,
   "metadata": {},
   "outputs": [],
   "source": [
    "# remove the '#' below and run this line if you are having an error that says \"no module named Bio\"\n",
    "#!pip install biopython"
   ]
  },
  {
   "cell_type": "markdown",
   "metadata": {},
   "source": [
    "# 🚀 Spacer's Challenge : Using Data and Biology to Decide What We Should Grow On Mars\n",
    "\n",
    "\n",
    "## 📌 Mission Statement\n",
    "\n",
    "You are a top scientist sent from Earth tasked with the most important mission of all: ensuring our survival on other planets. Before sending you off to space, your team gave you a variety of crop seeds, however there's a problem! The bag containing the crop seeds split open and spilled everywhere during your space travel! You picked up the ones you could find, but you now have no idea what it grows or what is special about them.\n",
    "\n",
    "Now on Mars, it is your job to [decide which crops to grow](https://www.sciencealert.com/growing-potatoes-on-mars-might-actually-work-hints-a-new-experiment). We will be using some basic bioinformatics concepts to try and find this out. To help you with this, you will work with a special robot-helper who will help write code for you, named ***Crop-3PO***.\n",
    "![](http://biowyse.eu/wp-content/uploads/2016/05/agrospace_01.jpg)"
   ]
  },
  {
   "cell_type": "markdown",
   "metadata": {},
   "source": [
    "\n",
    "**🤖 Crop-3PO:** Welcome! The people of Mars are counting on you! In order to use the special command, we need to import a special library by typing `import pandas`. We'll also need a few other libraries. \n",
    "\n",
    "**🤖 Crop-3PO:** I wrote it down in the code cell below, however because I'm just a robot I can't execute the code! I'll need your help to do that. The easiest way to do this is by clicking `cell -> Run All`. If you don't see anything or think something's broken, you can click `Run`in the toolbar above while you have the code cell selected.\n"
   ]
  },
  {
   "cell_type": "code",
   "execution_count": 1,
   "metadata": {},
   "outputs": [],
   "source": [
    "# ❗️ Run this cell!\n",
    "# import libraries\n",
    "import pandas \n",
    "import plotly.express as px\n",
    "import plotly.graph_objects as go\n",
    "from Bio import SeqIO"
   ]
  },
  {
   "cell_type": "code",
   "execution_count": 6,
   "metadata": {},
   "outputs": [],
   "source": [
    "# ❗️ Run this cell!\n",
    "# import data\n",
    "cropdata = pandas.read_csv(\"./data/cropdatafromearth.csv\")\n",
    "traitdata = pandas.read_csv(\"./data/isaaa_croptraits.csv\")\n",
    "GMtraitsdata = pandas.read_csv(\"./data/traitsofGMcrops.csv\")\n",
    "approvaldata = pandas.read_csv(\"./data/foodapprovals.csv\")"
   ]
  },
  {
   "cell_type": "markdown",
   "metadata": {},
   "source": [
    "## 🌽 Before we get started, what even is a GMO? \n",
    "\n",
    "*According to [gmotesting.com](http://www.gmotesting.com/GMOs/What-is-a-GMO):*\n",
    "\n",
    "> **GMO** is an acronym for genetically modified organism and is commonly used to refer to genetically altered crops that are grown in many areas around the globe.  Genetic engineering provides the ability to confer desired traits on plants such as herbicide tolerance and/or virus or insect resistance.  \n",
    "\n",
    "> The process of genetic modification involves splicing, or cutting, genes from one organism, such as a bacterium, virus, or animal, and inserting them into a recipient organism, such as a plant, so that the recipient is now able to express new traits provided by the donor genes.  The genetic material (commonly called a transgene) is inserted into the nucleus of a plant cell where it integrates into the plant DNA.  If integration of the DNA is successful, the plant cell, now described as a transgenic cell, divides and grows into a genetically modified (or transgenic) plant.  The genetic modification is permanent and will be passed on to the seeds of the transgenic (GMO) plant."
   ]
  },
  {
   "cell_type": "markdown",
   "metadata": {},
   "source": [
    "### **🤖 Crop-3PO:** GMOs have grown in popularity internationally over the last 30 years as  our scientific methods become more reliable. Take a look at some of these charts that show which countries started adopting GMOs earlier than others. "
   ]
  },
  {
   "cell_type": "code",
   "execution_count": 124,
   "metadata": {
    "scrolled": true
   },
   "outputs": [
    {
     "data": {
      "application/vnd.plotly.v1+json": {
       "config": {
        "plotlyServerURL": "https://plot.ly"
       },
       "data": [
        {
         "alignmentgroup": "True",
         "hovertemplate": "Country=%{x}<br>1992–2003=%{y}<extra></extra>",
         "legendgroup": "",
         "marker": {
          "color": "#636efa"
         },
         "name": "",
         "offsetgroup": "",
         "orientation": "v",
         "showlegend": false,
         "textposition": "auto",
         "type": "bar",
         "x": [
          "United States",
          "Canada",
          "Japan",
          "Brazil*",
          "Argentina*",
          "Australia",
          "South Africa*",
          "Uruguay*",
          "Colombia*",
          "Costa Rica*",
          "Paraguay*",
          "Philippines*",
          "China*",
          "Mexico*",
          "European Union (28)",
          "Honduras*",
          "India*",
          "Chile*",
          "Bangladesh*",
          "Bolivia*",
          "Burkina Faso*",
          "Egypt*",
          "Iran*",
          "Myanmar*",
          "Pakistan*",
          "Panama*",
          "South Korea",
          "Cuba*",
          "Sudan*",
          "Total"
         ],
         "xaxis": "x",
         "y": [
          96,
          56,
          5,
          1,
          7,
          21,
          10,
          2,
          1,
          1,
          0,
          1,
          8,
          6,
          6,
          2,
          1,
          0,
          0,
          0,
          0,
          0,
          0,
          0,
          0,
          0,
          0,
          0,
          0,
          224
         ],
         "yaxis": "y"
        }
       ],
       "layout": {
        "barmode": "relative",
        "legend": {
         "tracegroupgap": 0
        },
        "template": {
         "data": {
          "bar": [
           {
            "error_x": {
             "color": "#2a3f5f"
            },
            "error_y": {
             "color": "#2a3f5f"
            },
            "marker": {
             "line": {
              "color": "#E5ECF6",
              "width": 0.5
             }
            },
            "type": "bar"
           }
          ],
          "barpolar": [
           {
            "marker": {
             "line": {
              "color": "#E5ECF6",
              "width": 0.5
             }
            },
            "type": "barpolar"
           }
          ],
          "carpet": [
           {
            "aaxis": {
             "endlinecolor": "#2a3f5f",
             "gridcolor": "white",
             "linecolor": "white",
             "minorgridcolor": "white",
             "startlinecolor": "#2a3f5f"
            },
            "baxis": {
             "endlinecolor": "#2a3f5f",
             "gridcolor": "white",
             "linecolor": "white",
             "minorgridcolor": "white",
             "startlinecolor": "#2a3f5f"
            },
            "type": "carpet"
           }
          ],
          "choropleth": [
           {
            "colorbar": {
             "outlinewidth": 0,
             "ticks": ""
            },
            "type": "choropleth"
           }
          ],
          "contour": [
           {
            "colorbar": {
             "outlinewidth": 0,
             "ticks": ""
            },
            "colorscale": [
             [
              0,
              "#0d0887"
             ],
             [
              0.1111111111111111,
              "#46039f"
             ],
             [
              0.2222222222222222,
              "#7201a8"
             ],
             [
              0.3333333333333333,
              "#9c179e"
             ],
             [
              0.4444444444444444,
              "#bd3786"
             ],
             [
              0.5555555555555556,
              "#d8576b"
             ],
             [
              0.6666666666666666,
              "#ed7953"
             ],
             [
              0.7777777777777778,
              "#fb9f3a"
             ],
             [
              0.8888888888888888,
              "#fdca26"
             ],
             [
              1,
              "#f0f921"
             ]
            ],
            "type": "contour"
           }
          ],
          "contourcarpet": [
           {
            "colorbar": {
             "outlinewidth": 0,
             "ticks": ""
            },
            "type": "contourcarpet"
           }
          ],
          "heatmap": [
           {
            "colorbar": {
             "outlinewidth": 0,
             "ticks": ""
            },
            "colorscale": [
             [
              0,
              "#0d0887"
             ],
             [
              0.1111111111111111,
              "#46039f"
             ],
             [
              0.2222222222222222,
              "#7201a8"
             ],
             [
              0.3333333333333333,
              "#9c179e"
             ],
             [
              0.4444444444444444,
              "#bd3786"
             ],
             [
              0.5555555555555556,
              "#d8576b"
             ],
             [
              0.6666666666666666,
              "#ed7953"
             ],
             [
              0.7777777777777778,
              "#fb9f3a"
             ],
             [
              0.8888888888888888,
              "#fdca26"
             ],
             [
              1,
              "#f0f921"
             ]
            ],
            "type": "heatmap"
           }
          ],
          "heatmapgl": [
           {
            "colorbar": {
             "outlinewidth": 0,
             "ticks": ""
            },
            "colorscale": [
             [
              0,
              "#0d0887"
             ],
             [
              0.1111111111111111,
              "#46039f"
             ],
             [
              0.2222222222222222,
              "#7201a8"
             ],
             [
              0.3333333333333333,
              "#9c179e"
             ],
             [
              0.4444444444444444,
              "#bd3786"
             ],
             [
              0.5555555555555556,
              "#d8576b"
             ],
             [
              0.6666666666666666,
              "#ed7953"
             ],
             [
              0.7777777777777778,
              "#fb9f3a"
             ],
             [
              0.8888888888888888,
              "#fdca26"
             ],
             [
              1,
              "#f0f921"
             ]
            ],
            "type": "heatmapgl"
           }
          ],
          "histogram": [
           {
            "marker": {
             "colorbar": {
              "outlinewidth": 0,
              "ticks": ""
             }
            },
            "type": "histogram"
           }
          ],
          "histogram2d": [
           {
            "colorbar": {
             "outlinewidth": 0,
             "ticks": ""
            },
            "colorscale": [
             [
              0,
              "#0d0887"
             ],
             [
              0.1111111111111111,
              "#46039f"
             ],
             [
              0.2222222222222222,
              "#7201a8"
             ],
             [
              0.3333333333333333,
              "#9c179e"
             ],
             [
              0.4444444444444444,
              "#bd3786"
             ],
             [
              0.5555555555555556,
              "#d8576b"
             ],
             [
              0.6666666666666666,
              "#ed7953"
             ],
             [
              0.7777777777777778,
              "#fb9f3a"
             ],
             [
              0.8888888888888888,
              "#fdca26"
             ],
             [
              1,
              "#f0f921"
             ]
            ],
            "type": "histogram2d"
           }
          ],
          "histogram2dcontour": [
           {
            "colorbar": {
             "outlinewidth": 0,
             "ticks": ""
            },
            "colorscale": [
             [
              0,
              "#0d0887"
             ],
             [
              0.1111111111111111,
              "#46039f"
             ],
             [
              0.2222222222222222,
              "#7201a8"
             ],
             [
              0.3333333333333333,
              "#9c179e"
             ],
             [
              0.4444444444444444,
              "#bd3786"
             ],
             [
              0.5555555555555556,
              "#d8576b"
             ],
             [
              0.6666666666666666,
              "#ed7953"
             ],
             [
              0.7777777777777778,
              "#fb9f3a"
             ],
             [
              0.8888888888888888,
              "#fdca26"
             ],
             [
              1,
              "#f0f921"
             ]
            ],
            "type": "histogram2dcontour"
           }
          ],
          "mesh3d": [
           {
            "colorbar": {
             "outlinewidth": 0,
             "ticks": ""
            },
            "type": "mesh3d"
           }
          ],
          "parcoords": [
           {
            "line": {
             "colorbar": {
              "outlinewidth": 0,
              "ticks": ""
             }
            },
            "type": "parcoords"
           }
          ],
          "pie": [
           {
            "automargin": true,
            "type": "pie"
           }
          ],
          "scatter": [
           {
            "marker": {
             "colorbar": {
              "outlinewidth": 0,
              "ticks": ""
             }
            },
            "type": "scatter"
           }
          ],
          "scatter3d": [
           {
            "line": {
             "colorbar": {
              "outlinewidth": 0,
              "ticks": ""
             }
            },
            "marker": {
             "colorbar": {
              "outlinewidth": 0,
              "ticks": ""
             }
            },
            "type": "scatter3d"
           }
          ],
          "scattercarpet": [
           {
            "marker": {
             "colorbar": {
              "outlinewidth": 0,
              "ticks": ""
             }
            },
            "type": "scattercarpet"
           }
          ],
          "scattergeo": [
           {
            "marker": {
             "colorbar": {
              "outlinewidth": 0,
              "ticks": ""
             }
            },
            "type": "scattergeo"
           }
          ],
          "scattergl": [
           {
            "marker": {
             "colorbar": {
              "outlinewidth": 0,
              "ticks": ""
             }
            },
            "type": "scattergl"
           }
          ],
          "scattermapbox": [
           {
            "marker": {
             "colorbar": {
              "outlinewidth": 0,
              "ticks": ""
             }
            },
            "type": "scattermapbox"
           }
          ],
          "scatterpolar": [
           {
            "marker": {
             "colorbar": {
              "outlinewidth": 0,
              "ticks": ""
             }
            },
            "type": "scatterpolar"
           }
          ],
          "scatterpolargl": [
           {
            "marker": {
             "colorbar": {
              "outlinewidth": 0,
              "ticks": ""
             }
            },
            "type": "scatterpolargl"
           }
          ],
          "scatterternary": [
           {
            "marker": {
             "colorbar": {
              "outlinewidth": 0,
              "ticks": ""
             }
            },
            "type": "scatterternary"
           }
          ],
          "surface": [
           {
            "colorbar": {
             "outlinewidth": 0,
             "ticks": ""
            },
            "colorscale": [
             [
              0,
              "#0d0887"
             ],
             [
              0.1111111111111111,
              "#46039f"
             ],
             [
              0.2222222222222222,
              "#7201a8"
             ],
             [
              0.3333333333333333,
              "#9c179e"
             ],
             [
              0.4444444444444444,
              "#bd3786"
             ],
             [
              0.5555555555555556,
              "#d8576b"
             ],
             [
              0.6666666666666666,
              "#ed7953"
             ],
             [
              0.7777777777777778,
              "#fb9f3a"
             ],
             [
              0.8888888888888888,
              "#fdca26"
             ],
             [
              1,
              "#f0f921"
             ]
            ],
            "type": "surface"
           }
          ],
          "table": [
           {
            "cells": {
             "fill": {
              "color": "#EBF0F8"
             },
             "line": {
              "color": "white"
             }
            },
            "header": {
             "fill": {
              "color": "#C8D4E3"
             },
             "line": {
              "color": "white"
             }
            },
            "type": "table"
           }
          ]
         },
         "layout": {
          "annotationdefaults": {
           "arrowcolor": "#2a3f5f",
           "arrowhead": 0,
           "arrowwidth": 1
          },
          "coloraxis": {
           "colorbar": {
            "outlinewidth": 0,
            "ticks": ""
           }
          },
          "colorscale": {
           "diverging": [
            [
             0,
             "#8e0152"
            ],
            [
             0.1,
             "#c51b7d"
            ],
            [
             0.2,
             "#de77ae"
            ],
            [
             0.3,
             "#f1b6da"
            ],
            [
             0.4,
             "#fde0ef"
            ],
            [
             0.5,
             "#f7f7f7"
            ],
            [
             0.6,
             "#e6f5d0"
            ],
            [
             0.7,
             "#b8e186"
            ],
            [
             0.8,
             "#7fbc41"
            ],
            [
             0.9,
             "#4d9221"
            ],
            [
             1,
             "#276419"
            ]
           ],
           "sequential": [
            [
             0,
             "#0d0887"
            ],
            [
             0.1111111111111111,
             "#46039f"
            ],
            [
             0.2222222222222222,
             "#7201a8"
            ],
            [
             0.3333333333333333,
             "#9c179e"
            ],
            [
             0.4444444444444444,
             "#bd3786"
            ],
            [
             0.5555555555555556,
             "#d8576b"
            ],
            [
             0.6666666666666666,
             "#ed7953"
            ],
            [
             0.7777777777777778,
             "#fb9f3a"
            ],
            [
             0.8888888888888888,
             "#fdca26"
            ],
            [
             1,
             "#f0f921"
            ]
           ],
           "sequentialminus": [
            [
             0,
             "#0d0887"
            ],
            [
             0.1111111111111111,
             "#46039f"
            ],
            [
             0.2222222222222222,
             "#7201a8"
            ],
            [
             0.3333333333333333,
             "#9c179e"
            ],
            [
             0.4444444444444444,
             "#bd3786"
            ],
            [
             0.5555555555555556,
             "#d8576b"
            ],
            [
             0.6666666666666666,
             "#ed7953"
            ],
            [
             0.7777777777777778,
             "#fb9f3a"
            ],
            [
             0.8888888888888888,
             "#fdca26"
            ],
            [
             1,
             "#f0f921"
            ]
           ]
          },
          "colorway": [
           "#636efa",
           "#EF553B",
           "#00cc96",
           "#ab63fa",
           "#FFA15A",
           "#19d3f3",
           "#FF6692",
           "#B6E880",
           "#FF97FF",
           "#FECB52"
          ],
          "font": {
           "color": "#2a3f5f"
          },
          "geo": {
           "bgcolor": "white",
           "lakecolor": "white",
           "landcolor": "#E5ECF6",
           "showlakes": true,
           "showland": true,
           "subunitcolor": "white"
          },
          "hoverlabel": {
           "align": "left"
          },
          "hovermode": "closest",
          "mapbox": {
           "style": "light"
          },
          "paper_bgcolor": "white",
          "plot_bgcolor": "#E5ECF6",
          "polar": {
           "angularaxis": {
            "gridcolor": "white",
            "linecolor": "white",
            "ticks": ""
           },
           "bgcolor": "#E5ECF6",
           "radialaxis": {
            "gridcolor": "white",
            "linecolor": "white",
            "ticks": ""
           }
          },
          "scene": {
           "xaxis": {
            "backgroundcolor": "#E5ECF6",
            "gridcolor": "white",
            "gridwidth": 2,
            "linecolor": "white",
            "showbackground": true,
            "ticks": "",
            "zerolinecolor": "white"
           },
           "yaxis": {
            "backgroundcolor": "#E5ECF6",
            "gridcolor": "white",
            "gridwidth": 2,
            "linecolor": "white",
            "showbackground": true,
            "ticks": "",
            "zerolinecolor": "white"
           },
           "zaxis": {
            "backgroundcolor": "#E5ECF6",
            "gridcolor": "white",
            "gridwidth": 2,
            "linecolor": "white",
            "showbackground": true,
            "ticks": "",
            "zerolinecolor": "white"
           }
          },
          "shapedefaults": {
           "line": {
            "color": "#2a3f5f"
           }
          },
          "ternary": {
           "aaxis": {
            "gridcolor": "white",
            "linecolor": "white",
            "ticks": ""
           },
           "baxis": {
            "gridcolor": "white",
            "linecolor": "white",
            "ticks": ""
           },
           "bgcolor": "#E5ECF6",
           "caxis": {
            "gridcolor": "white",
            "linecolor": "white",
            "ticks": ""
           }
          },
          "title": {
           "x": 0.05
          },
          "xaxis": {
           "automargin": true,
           "gridcolor": "white",
           "linecolor": "white",
           "ticks": "",
           "title": {
            "standoff": 15
           },
           "zerolinecolor": "white",
           "zerolinewidth": 2
          },
          "yaxis": {
           "automargin": true,
           "gridcolor": "white",
           "linecolor": "white",
           "ticks": "",
           "title": {
            "standoff": 15
           },
           "zerolinecolor": "white",
           "zerolinewidth": 2
          }
         }
        },
        "title": {
         "text": "Number of Approved GMOs between 1992-2003"
        },
        "xaxis": {
         "anchor": "y",
         "domain": [
          0,
          1
         ],
         "title": {
          "text": "Country"
         }
        },
        "yaxis": {
         "anchor": "x",
         "domain": [
          0,
          1
         ],
         "range": [
          0,
          400
         ],
         "title": {
          "text": "1992–2003"
         }
        }
       }
      },
      "text/html": [
       "<div>\n",
       "        \n",
       "        \n",
       "            <div id=\"81f623d1-d7fb-401f-9b35-554f3648c8a9\" class=\"plotly-graph-div\" style=\"height:525px; width:100%;\"></div>\n",
       "            <script type=\"text/javascript\">\n",
       "                require([\"plotly\"], function(Plotly) {\n",
       "                    window.PLOTLYENV=window.PLOTLYENV || {};\n",
       "                    \n",
       "                if (document.getElementById(\"81f623d1-d7fb-401f-9b35-554f3648c8a9\")) {\n",
       "                    Plotly.newPlot(\n",
       "                        '81f623d1-d7fb-401f-9b35-554f3648c8a9',\n",
       "                        [{\"alignmentgroup\": \"True\", \"hovertemplate\": \"Country=%{x}<br>1992\\u20132003=%{y}<extra></extra>\", \"legendgroup\": \"\", \"marker\": {\"color\": \"#636efa\"}, \"name\": \"\", \"offsetgroup\": \"\", \"orientation\": \"v\", \"showlegend\": false, \"textposition\": \"auto\", \"type\": \"bar\", \"x\": [\"United States\", \"Canada\", \"Japan\", \"Brazil*\", \"Argentina*\", \"Australia\", \"South Africa*\", \"Uruguay*\", \"Colombia*\", \"Costa Rica*\", \"Paraguay*\", \"Philippines*\", \"China*\", \"Mexico*\", \"European Union (28)\", \"Honduras*\", \"India*\", \"Chile*\", \"Bangladesh*\", \"Bolivia*\", \"Burkina Faso*\", \"Egypt*\", \"Iran*\", \"Myanmar*\", \"Pakistan*\", \"Panama*\", \"South Korea\", \"Cuba*\", \"Sudan*\", \"Total\"], \"xaxis\": \"x\", \"y\": [96, 56, 5, 1, 7, 21, 10, 2, 1, 1, 0, 1, 8, 6, 6, 2, 1, 0, 0, 0, 0, 0, 0, 0, 0, 0, 0, 0, 0, 224], \"yaxis\": \"y\"}],\n",
       "                        {\"barmode\": \"relative\", \"legend\": {\"tracegroupgap\": 0}, \"template\": {\"data\": {\"bar\": [{\"error_x\": {\"color\": \"#2a3f5f\"}, \"error_y\": {\"color\": \"#2a3f5f\"}, \"marker\": {\"line\": {\"color\": \"#E5ECF6\", \"width\": 0.5}}, \"type\": \"bar\"}], \"barpolar\": [{\"marker\": {\"line\": {\"color\": \"#E5ECF6\", \"width\": 0.5}}, \"type\": \"barpolar\"}], \"carpet\": [{\"aaxis\": {\"endlinecolor\": \"#2a3f5f\", \"gridcolor\": \"white\", \"linecolor\": \"white\", \"minorgridcolor\": \"white\", \"startlinecolor\": \"#2a3f5f\"}, \"baxis\": {\"endlinecolor\": \"#2a3f5f\", \"gridcolor\": \"white\", \"linecolor\": \"white\", \"minorgridcolor\": \"white\", \"startlinecolor\": \"#2a3f5f\"}, \"type\": \"carpet\"}], \"choropleth\": [{\"colorbar\": {\"outlinewidth\": 0, \"ticks\": \"\"}, \"type\": \"choropleth\"}], \"contour\": [{\"colorbar\": {\"outlinewidth\": 0, \"ticks\": \"\"}, \"colorscale\": [[0.0, \"#0d0887\"], [0.1111111111111111, \"#46039f\"], [0.2222222222222222, \"#7201a8\"], [0.3333333333333333, \"#9c179e\"], [0.4444444444444444, \"#bd3786\"], [0.5555555555555556, \"#d8576b\"], [0.6666666666666666, \"#ed7953\"], [0.7777777777777778, \"#fb9f3a\"], [0.8888888888888888, \"#fdca26\"], [1.0, \"#f0f921\"]], \"type\": \"contour\"}], \"contourcarpet\": [{\"colorbar\": {\"outlinewidth\": 0, \"ticks\": \"\"}, \"type\": \"contourcarpet\"}], \"heatmap\": [{\"colorbar\": {\"outlinewidth\": 0, \"ticks\": \"\"}, \"colorscale\": [[0.0, \"#0d0887\"], [0.1111111111111111, \"#46039f\"], [0.2222222222222222, \"#7201a8\"], [0.3333333333333333, \"#9c179e\"], [0.4444444444444444, \"#bd3786\"], [0.5555555555555556, \"#d8576b\"], [0.6666666666666666, \"#ed7953\"], [0.7777777777777778, \"#fb9f3a\"], [0.8888888888888888, \"#fdca26\"], [1.0, \"#f0f921\"]], \"type\": \"heatmap\"}], \"heatmapgl\": [{\"colorbar\": {\"outlinewidth\": 0, \"ticks\": \"\"}, \"colorscale\": [[0.0, \"#0d0887\"], [0.1111111111111111, \"#46039f\"], [0.2222222222222222, \"#7201a8\"], [0.3333333333333333, \"#9c179e\"], [0.4444444444444444, \"#bd3786\"], [0.5555555555555556, \"#d8576b\"], [0.6666666666666666, \"#ed7953\"], [0.7777777777777778, \"#fb9f3a\"], [0.8888888888888888, \"#fdca26\"], [1.0, \"#f0f921\"]], \"type\": \"heatmapgl\"}], \"histogram\": [{\"marker\": {\"colorbar\": {\"outlinewidth\": 0, \"ticks\": \"\"}}, \"type\": \"histogram\"}], \"histogram2d\": [{\"colorbar\": {\"outlinewidth\": 0, \"ticks\": \"\"}, \"colorscale\": [[0.0, \"#0d0887\"], [0.1111111111111111, \"#46039f\"], [0.2222222222222222, \"#7201a8\"], [0.3333333333333333, \"#9c179e\"], [0.4444444444444444, \"#bd3786\"], [0.5555555555555556, \"#d8576b\"], [0.6666666666666666, \"#ed7953\"], [0.7777777777777778, \"#fb9f3a\"], [0.8888888888888888, \"#fdca26\"], [1.0, \"#f0f921\"]], \"type\": \"histogram2d\"}], \"histogram2dcontour\": [{\"colorbar\": {\"outlinewidth\": 0, \"ticks\": \"\"}, \"colorscale\": [[0.0, \"#0d0887\"], [0.1111111111111111, \"#46039f\"], [0.2222222222222222, \"#7201a8\"], [0.3333333333333333, \"#9c179e\"], [0.4444444444444444, \"#bd3786\"], [0.5555555555555556, \"#d8576b\"], [0.6666666666666666, \"#ed7953\"], [0.7777777777777778, \"#fb9f3a\"], [0.8888888888888888, \"#fdca26\"], [1.0, \"#f0f921\"]], \"type\": \"histogram2dcontour\"}], \"mesh3d\": [{\"colorbar\": {\"outlinewidth\": 0, \"ticks\": \"\"}, \"type\": \"mesh3d\"}], \"parcoords\": [{\"line\": {\"colorbar\": {\"outlinewidth\": 0, \"ticks\": \"\"}}, \"type\": \"parcoords\"}], \"pie\": [{\"automargin\": true, \"type\": \"pie\"}], \"scatter\": [{\"marker\": {\"colorbar\": {\"outlinewidth\": 0, \"ticks\": \"\"}}, \"type\": \"scatter\"}], \"scatter3d\": [{\"line\": {\"colorbar\": {\"outlinewidth\": 0, \"ticks\": \"\"}}, \"marker\": {\"colorbar\": {\"outlinewidth\": 0, \"ticks\": \"\"}}, \"type\": \"scatter3d\"}], \"scattercarpet\": [{\"marker\": {\"colorbar\": {\"outlinewidth\": 0, \"ticks\": \"\"}}, \"type\": \"scattercarpet\"}], \"scattergeo\": [{\"marker\": {\"colorbar\": {\"outlinewidth\": 0, \"ticks\": \"\"}}, \"type\": \"scattergeo\"}], \"scattergl\": [{\"marker\": {\"colorbar\": {\"outlinewidth\": 0, \"ticks\": \"\"}}, \"type\": \"scattergl\"}], \"scattermapbox\": [{\"marker\": {\"colorbar\": {\"outlinewidth\": 0, \"ticks\": \"\"}}, \"type\": \"scattermapbox\"}], \"scatterpolar\": [{\"marker\": {\"colorbar\": {\"outlinewidth\": 0, \"ticks\": \"\"}}, \"type\": \"scatterpolar\"}], \"scatterpolargl\": [{\"marker\": {\"colorbar\": {\"outlinewidth\": 0, \"ticks\": \"\"}}, \"type\": \"scatterpolargl\"}], \"scatterternary\": [{\"marker\": {\"colorbar\": {\"outlinewidth\": 0, \"ticks\": \"\"}}, \"type\": \"scatterternary\"}], \"surface\": [{\"colorbar\": {\"outlinewidth\": 0, \"ticks\": \"\"}, \"colorscale\": [[0.0, \"#0d0887\"], [0.1111111111111111, \"#46039f\"], [0.2222222222222222, \"#7201a8\"], [0.3333333333333333, \"#9c179e\"], [0.4444444444444444, \"#bd3786\"], [0.5555555555555556, \"#d8576b\"], [0.6666666666666666, \"#ed7953\"], [0.7777777777777778, \"#fb9f3a\"], [0.8888888888888888, \"#fdca26\"], [1.0, \"#f0f921\"]], \"type\": \"surface\"}], \"table\": [{\"cells\": {\"fill\": {\"color\": \"#EBF0F8\"}, \"line\": {\"color\": \"white\"}}, \"header\": {\"fill\": {\"color\": \"#C8D4E3\"}, \"line\": {\"color\": \"white\"}}, \"type\": \"table\"}]}, \"layout\": {\"annotationdefaults\": {\"arrowcolor\": \"#2a3f5f\", \"arrowhead\": 0, \"arrowwidth\": 1}, \"coloraxis\": {\"colorbar\": {\"outlinewidth\": 0, \"ticks\": \"\"}}, \"colorscale\": {\"diverging\": [[0, \"#8e0152\"], [0.1, \"#c51b7d\"], [0.2, \"#de77ae\"], [0.3, \"#f1b6da\"], [0.4, \"#fde0ef\"], [0.5, \"#f7f7f7\"], [0.6, \"#e6f5d0\"], [0.7, \"#b8e186\"], [0.8, \"#7fbc41\"], [0.9, \"#4d9221\"], [1, \"#276419\"]], \"sequential\": [[0.0, \"#0d0887\"], [0.1111111111111111, \"#46039f\"], [0.2222222222222222, \"#7201a8\"], [0.3333333333333333, \"#9c179e\"], [0.4444444444444444, \"#bd3786\"], [0.5555555555555556, \"#d8576b\"], [0.6666666666666666, \"#ed7953\"], [0.7777777777777778, \"#fb9f3a\"], [0.8888888888888888, \"#fdca26\"], [1.0, \"#f0f921\"]], \"sequentialminus\": [[0.0, \"#0d0887\"], [0.1111111111111111, \"#46039f\"], [0.2222222222222222, \"#7201a8\"], [0.3333333333333333, \"#9c179e\"], [0.4444444444444444, \"#bd3786\"], [0.5555555555555556, \"#d8576b\"], [0.6666666666666666, \"#ed7953\"], [0.7777777777777778, \"#fb9f3a\"], [0.8888888888888888, \"#fdca26\"], [1.0, \"#f0f921\"]]}, \"colorway\": [\"#636efa\", \"#EF553B\", \"#00cc96\", \"#ab63fa\", \"#FFA15A\", \"#19d3f3\", \"#FF6692\", \"#B6E880\", \"#FF97FF\", \"#FECB52\"], \"font\": {\"color\": \"#2a3f5f\"}, \"geo\": {\"bgcolor\": \"white\", \"lakecolor\": \"white\", \"landcolor\": \"#E5ECF6\", \"showlakes\": true, \"showland\": true, \"subunitcolor\": \"white\"}, \"hoverlabel\": {\"align\": \"left\"}, \"hovermode\": \"closest\", \"mapbox\": {\"style\": \"light\"}, \"paper_bgcolor\": \"white\", \"plot_bgcolor\": \"#E5ECF6\", \"polar\": {\"angularaxis\": {\"gridcolor\": \"white\", \"linecolor\": \"white\", \"ticks\": \"\"}, \"bgcolor\": \"#E5ECF6\", \"radialaxis\": {\"gridcolor\": \"white\", \"linecolor\": \"white\", \"ticks\": \"\"}}, \"scene\": {\"xaxis\": {\"backgroundcolor\": \"#E5ECF6\", \"gridcolor\": \"white\", \"gridwidth\": 2, \"linecolor\": \"white\", \"showbackground\": true, \"ticks\": \"\", \"zerolinecolor\": \"white\"}, \"yaxis\": {\"backgroundcolor\": \"#E5ECF6\", \"gridcolor\": \"white\", \"gridwidth\": 2, \"linecolor\": \"white\", \"showbackground\": true, \"ticks\": \"\", \"zerolinecolor\": \"white\"}, \"zaxis\": {\"backgroundcolor\": \"#E5ECF6\", \"gridcolor\": \"white\", \"gridwidth\": 2, \"linecolor\": \"white\", \"showbackground\": true, \"ticks\": \"\", \"zerolinecolor\": \"white\"}}, \"shapedefaults\": {\"line\": {\"color\": \"#2a3f5f\"}}, \"ternary\": {\"aaxis\": {\"gridcolor\": \"white\", \"linecolor\": \"white\", \"ticks\": \"\"}, \"baxis\": {\"gridcolor\": \"white\", \"linecolor\": \"white\", \"ticks\": \"\"}, \"bgcolor\": \"#E5ECF6\", \"caxis\": {\"gridcolor\": \"white\", \"linecolor\": \"white\", \"ticks\": \"\"}}, \"title\": {\"x\": 0.05}, \"xaxis\": {\"automargin\": true, \"gridcolor\": \"white\", \"linecolor\": \"white\", \"ticks\": \"\", \"title\": {\"standoff\": 15}, \"zerolinecolor\": \"white\", \"zerolinewidth\": 2}, \"yaxis\": {\"automargin\": true, \"gridcolor\": \"white\", \"linecolor\": \"white\", \"ticks\": \"\", \"title\": {\"standoff\": 15}, \"zerolinecolor\": \"white\", \"zerolinewidth\": 2}}}, \"title\": {\"text\": \"Number of Approved GMOs between 1992-2003\"}, \"xaxis\": {\"anchor\": \"y\", \"domain\": [0.0, 1.0], \"title\": {\"text\": \"Country\"}}, \"yaxis\": {\"anchor\": \"x\", \"domain\": [0.0, 1.0], \"range\": [0, 400], \"title\": {\"text\": \"1992\\u20132003\"}}},\n",
       "                        {\"responsive\": true}\n",
       "                    ).then(function(){\n",
       "                            \n",
       "var gd = document.getElementById('81f623d1-d7fb-401f-9b35-554f3648c8a9');\n",
       "var x = new MutationObserver(function (mutations, observer) {{\n",
       "        var display = window.getComputedStyle(gd).display;\n",
       "        if (!display || display === 'none') {{\n",
       "            console.log([gd, 'removed!']);\n",
       "            Plotly.purge(gd);\n",
       "            observer.disconnect();\n",
       "        }}\n",
       "}});\n",
       "\n",
       "// Listen for the removal of the full notebook cells\n",
       "var notebookContainer = gd.closest('#notebook-container');\n",
       "if (notebookContainer) {{\n",
       "    x.observe(notebookContainer, {childList: true});\n",
       "}}\n",
       "\n",
       "// Listen for the clearing of the current output cell\n",
       "var outputEl = gd.closest('.output');\n",
       "if (outputEl) {{\n",
       "    x.observe(outputEl, {childList: true});\n",
       "}}\n",
       "\n",
       "                        })\n",
       "                };\n",
       "                });\n",
       "            </script>\n",
       "        </div>"
      ]
     },
     "metadata": {},
     "output_type": "display_data"
    }
   ],
   "source": [
    "# ❗️ Run this cell!\n",
    "# Display a histogram of the number of approved GMOS by country\n",
    "fig = px.bar(approvaldata, x=\"Country\", y = '1992–2003', title=\"Number of Approved GMOs between 1992-2003\")\n",
    "fig.update_yaxes(range=[0, 400])\n",
    "fig.show()"
   ]
  },
  {
   "cell_type": "code",
   "execution_count": 125,
   "metadata": {
    "scrolled": true
   },
   "outputs": [
    {
     "data": {
      "application/vnd.plotly.v1+json": {
       "config": {
        "plotlyServerURL": "https://plot.ly"
       },
       "data": [
        {
         "alignmentgroup": "True",
         "hovertemplate": "Country=%{x}<br>2004–2014=%{y}<extra></extra>",
         "legendgroup": "",
         "marker": {
          "color": "#636efa"
         },
         "name": "",
         "offsetgroup": "",
         "orientation": "v",
         "showlegend": false,
         "textposition": "auto",
         "type": "bar",
         "x": [
          "United States",
          "Canada",
          "Japan",
          "Brazil*",
          "Argentina*",
          "Australia",
          "South Africa*",
          "Uruguay*",
          "Colombia*",
          "Costa Rica*",
          "Paraguay*",
          "Philippines*",
          "China*",
          "Mexico*",
          "European Union (28)",
          "Honduras*",
          "India*",
          "Chile*",
          "Bangladesh*",
          "Bolivia*",
          "Burkina Faso*",
          "Egypt*",
          "Iran*",
          "Myanmar*",
          "Pakistan*",
          "Panama*",
          "South Korea",
          "Cuba*",
          "Sudan*",
          "Total"
         ],
         "xaxis": "x",
         "y": [
          60,
          67,
          115,
          38,
          29,
          11,
          9,
          16,
          13,
          14,
          14,
          12,
          4,
          6,
          1,
          3,
          4,
          4,
          1,
          1,
          1,
          1,
          1,
          1,
          1,
          1,
          1,
          1,
          1,
          431
         ],
         "yaxis": "y"
        }
       ],
       "layout": {
        "barmode": "relative",
        "legend": {
         "tracegroupgap": 0
        },
        "template": {
         "data": {
          "bar": [
           {
            "error_x": {
             "color": "#2a3f5f"
            },
            "error_y": {
             "color": "#2a3f5f"
            },
            "marker": {
             "line": {
              "color": "#E5ECF6",
              "width": 0.5
             }
            },
            "type": "bar"
           }
          ],
          "barpolar": [
           {
            "marker": {
             "line": {
              "color": "#E5ECF6",
              "width": 0.5
             }
            },
            "type": "barpolar"
           }
          ],
          "carpet": [
           {
            "aaxis": {
             "endlinecolor": "#2a3f5f",
             "gridcolor": "white",
             "linecolor": "white",
             "minorgridcolor": "white",
             "startlinecolor": "#2a3f5f"
            },
            "baxis": {
             "endlinecolor": "#2a3f5f",
             "gridcolor": "white",
             "linecolor": "white",
             "minorgridcolor": "white",
             "startlinecolor": "#2a3f5f"
            },
            "type": "carpet"
           }
          ],
          "choropleth": [
           {
            "colorbar": {
             "outlinewidth": 0,
             "ticks": ""
            },
            "type": "choropleth"
           }
          ],
          "contour": [
           {
            "colorbar": {
             "outlinewidth": 0,
             "ticks": ""
            },
            "colorscale": [
             [
              0,
              "#0d0887"
             ],
             [
              0.1111111111111111,
              "#46039f"
             ],
             [
              0.2222222222222222,
              "#7201a8"
             ],
             [
              0.3333333333333333,
              "#9c179e"
             ],
             [
              0.4444444444444444,
              "#bd3786"
             ],
             [
              0.5555555555555556,
              "#d8576b"
             ],
             [
              0.6666666666666666,
              "#ed7953"
             ],
             [
              0.7777777777777778,
              "#fb9f3a"
             ],
             [
              0.8888888888888888,
              "#fdca26"
             ],
             [
              1,
              "#f0f921"
             ]
            ],
            "type": "contour"
           }
          ],
          "contourcarpet": [
           {
            "colorbar": {
             "outlinewidth": 0,
             "ticks": ""
            },
            "type": "contourcarpet"
           }
          ],
          "heatmap": [
           {
            "colorbar": {
             "outlinewidth": 0,
             "ticks": ""
            },
            "colorscale": [
             [
              0,
              "#0d0887"
             ],
             [
              0.1111111111111111,
              "#46039f"
             ],
             [
              0.2222222222222222,
              "#7201a8"
             ],
             [
              0.3333333333333333,
              "#9c179e"
             ],
             [
              0.4444444444444444,
              "#bd3786"
             ],
             [
              0.5555555555555556,
              "#d8576b"
             ],
             [
              0.6666666666666666,
              "#ed7953"
             ],
             [
              0.7777777777777778,
              "#fb9f3a"
             ],
             [
              0.8888888888888888,
              "#fdca26"
             ],
             [
              1,
              "#f0f921"
             ]
            ],
            "type": "heatmap"
           }
          ],
          "heatmapgl": [
           {
            "colorbar": {
             "outlinewidth": 0,
             "ticks": ""
            },
            "colorscale": [
             [
              0,
              "#0d0887"
             ],
             [
              0.1111111111111111,
              "#46039f"
             ],
             [
              0.2222222222222222,
              "#7201a8"
             ],
             [
              0.3333333333333333,
              "#9c179e"
             ],
             [
              0.4444444444444444,
              "#bd3786"
             ],
             [
              0.5555555555555556,
              "#d8576b"
             ],
             [
              0.6666666666666666,
              "#ed7953"
             ],
             [
              0.7777777777777778,
              "#fb9f3a"
             ],
             [
              0.8888888888888888,
              "#fdca26"
             ],
             [
              1,
              "#f0f921"
             ]
            ],
            "type": "heatmapgl"
           }
          ],
          "histogram": [
           {
            "marker": {
             "colorbar": {
              "outlinewidth": 0,
              "ticks": ""
             }
            },
            "type": "histogram"
           }
          ],
          "histogram2d": [
           {
            "colorbar": {
             "outlinewidth": 0,
             "ticks": ""
            },
            "colorscale": [
             [
              0,
              "#0d0887"
             ],
             [
              0.1111111111111111,
              "#46039f"
             ],
             [
              0.2222222222222222,
              "#7201a8"
             ],
             [
              0.3333333333333333,
              "#9c179e"
             ],
             [
              0.4444444444444444,
              "#bd3786"
             ],
             [
              0.5555555555555556,
              "#d8576b"
             ],
             [
              0.6666666666666666,
              "#ed7953"
             ],
             [
              0.7777777777777778,
              "#fb9f3a"
             ],
             [
              0.8888888888888888,
              "#fdca26"
             ],
             [
              1,
              "#f0f921"
             ]
            ],
            "type": "histogram2d"
           }
          ],
          "histogram2dcontour": [
           {
            "colorbar": {
             "outlinewidth": 0,
             "ticks": ""
            },
            "colorscale": [
             [
              0,
              "#0d0887"
             ],
             [
              0.1111111111111111,
              "#46039f"
             ],
             [
              0.2222222222222222,
              "#7201a8"
             ],
             [
              0.3333333333333333,
              "#9c179e"
             ],
             [
              0.4444444444444444,
              "#bd3786"
             ],
             [
              0.5555555555555556,
              "#d8576b"
             ],
             [
              0.6666666666666666,
              "#ed7953"
             ],
             [
              0.7777777777777778,
              "#fb9f3a"
             ],
             [
              0.8888888888888888,
              "#fdca26"
             ],
             [
              1,
              "#f0f921"
             ]
            ],
            "type": "histogram2dcontour"
           }
          ],
          "mesh3d": [
           {
            "colorbar": {
             "outlinewidth": 0,
             "ticks": ""
            },
            "type": "mesh3d"
           }
          ],
          "parcoords": [
           {
            "line": {
             "colorbar": {
              "outlinewidth": 0,
              "ticks": ""
             }
            },
            "type": "parcoords"
           }
          ],
          "pie": [
           {
            "automargin": true,
            "type": "pie"
           }
          ],
          "scatter": [
           {
            "marker": {
             "colorbar": {
              "outlinewidth": 0,
              "ticks": ""
             }
            },
            "type": "scatter"
           }
          ],
          "scatter3d": [
           {
            "line": {
             "colorbar": {
              "outlinewidth": 0,
              "ticks": ""
             }
            },
            "marker": {
             "colorbar": {
              "outlinewidth": 0,
              "ticks": ""
             }
            },
            "type": "scatter3d"
           }
          ],
          "scattercarpet": [
           {
            "marker": {
             "colorbar": {
              "outlinewidth": 0,
              "ticks": ""
             }
            },
            "type": "scattercarpet"
           }
          ],
          "scattergeo": [
           {
            "marker": {
             "colorbar": {
              "outlinewidth": 0,
              "ticks": ""
             }
            },
            "type": "scattergeo"
           }
          ],
          "scattergl": [
           {
            "marker": {
             "colorbar": {
              "outlinewidth": 0,
              "ticks": ""
             }
            },
            "type": "scattergl"
           }
          ],
          "scattermapbox": [
           {
            "marker": {
             "colorbar": {
              "outlinewidth": 0,
              "ticks": ""
             }
            },
            "type": "scattermapbox"
           }
          ],
          "scatterpolar": [
           {
            "marker": {
             "colorbar": {
              "outlinewidth": 0,
              "ticks": ""
             }
            },
            "type": "scatterpolar"
           }
          ],
          "scatterpolargl": [
           {
            "marker": {
             "colorbar": {
              "outlinewidth": 0,
              "ticks": ""
             }
            },
            "type": "scatterpolargl"
           }
          ],
          "scatterternary": [
           {
            "marker": {
             "colorbar": {
              "outlinewidth": 0,
              "ticks": ""
             }
            },
            "type": "scatterternary"
           }
          ],
          "surface": [
           {
            "colorbar": {
             "outlinewidth": 0,
             "ticks": ""
            },
            "colorscale": [
             [
              0,
              "#0d0887"
             ],
             [
              0.1111111111111111,
              "#46039f"
             ],
             [
              0.2222222222222222,
              "#7201a8"
             ],
             [
              0.3333333333333333,
              "#9c179e"
             ],
             [
              0.4444444444444444,
              "#bd3786"
             ],
             [
              0.5555555555555556,
              "#d8576b"
             ],
             [
              0.6666666666666666,
              "#ed7953"
             ],
             [
              0.7777777777777778,
              "#fb9f3a"
             ],
             [
              0.8888888888888888,
              "#fdca26"
             ],
             [
              1,
              "#f0f921"
             ]
            ],
            "type": "surface"
           }
          ],
          "table": [
           {
            "cells": {
             "fill": {
              "color": "#EBF0F8"
             },
             "line": {
              "color": "white"
             }
            },
            "header": {
             "fill": {
              "color": "#C8D4E3"
             },
             "line": {
              "color": "white"
             }
            },
            "type": "table"
           }
          ]
         },
         "layout": {
          "annotationdefaults": {
           "arrowcolor": "#2a3f5f",
           "arrowhead": 0,
           "arrowwidth": 1
          },
          "coloraxis": {
           "colorbar": {
            "outlinewidth": 0,
            "ticks": ""
           }
          },
          "colorscale": {
           "diverging": [
            [
             0,
             "#8e0152"
            ],
            [
             0.1,
             "#c51b7d"
            ],
            [
             0.2,
             "#de77ae"
            ],
            [
             0.3,
             "#f1b6da"
            ],
            [
             0.4,
             "#fde0ef"
            ],
            [
             0.5,
             "#f7f7f7"
            ],
            [
             0.6,
             "#e6f5d0"
            ],
            [
             0.7,
             "#b8e186"
            ],
            [
             0.8,
             "#7fbc41"
            ],
            [
             0.9,
             "#4d9221"
            ],
            [
             1,
             "#276419"
            ]
           ],
           "sequential": [
            [
             0,
             "#0d0887"
            ],
            [
             0.1111111111111111,
             "#46039f"
            ],
            [
             0.2222222222222222,
             "#7201a8"
            ],
            [
             0.3333333333333333,
             "#9c179e"
            ],
            [
             0.4444444444444444,
             "#bd3786"
            ],
            [
             0.5555555555555556,
             "#d8576b"
            ],
            [
             0.6666666666666666,
             "#ed7953"
            ],
            [
             0.7777777777777778,
             "#fb9f3a"
            ],
            [
             0.8888888888888888,
             "#fdca26"
            ],
            [
             1,
             "#f0f921"
            ]
           ],
           "sequentialminus": [
            [
             0,
             "#0d0887"
            ],
            [
             0.1111111111111111,
             "#46039f"
            ],
            [
             0.2222222222222222,
             "#7201a8"
            ],
            [
             0.3333333333333333,
             "#9c179e"
            ],
            [
             0.4444444444444444,
             "#bd3786"
            ],
            [
             0.5555555555555556,
             "#d8576b"
            ],
            [
             0.6666666666666666,
             "#ed7953"
            ],
            [
             0.7777777777777778,
             "#fb9f3a"
            ],
            [
             0.8888888888888888,
             "#fdca26"
            ],
            [
             1,
             "#f0f921"
            ]
           ]
          },
          "colorway": [
           "#636efa",
           "#EF553B",
           "#00cc96",
           "#ab63fa",
           "#FFA15A",
           "#19d3f3",
           "#FF6692",
           "#B6E880",
           "#FF97FF",
           "#FECB52"
          ],
          "font": {
           "color": "#2a3f5f"
          },
          "geo": {
           "bgcolor": "white",
           "lakecolor": "white",
           "landcolor": "#E5ECF6",
           "showlakes": true,
           "showland": true,
           "subunitcolor": "white"
          },
          "hoverlabel": {
           "align": "left"
          },
          "hovermode": "closest",
          "mapbox": {
           "style": "light"
          },
          "paper_bgcolor": "white",
          "plot_bgcolor": "#E5ECF6",
          "polar": {
           "angularaxis": {
            "gridcolor": "white",
            "linecolor": "white",
            "ticks": ""
           },
           "bgcolor": "#E5ECF6",
           "radialaxis": {
            "gridcolor": "white",
            "linecolor": "white",
            "ticks": ""
           }
          },
          "scene": {
           "xaxis": {
            "backgroundcolor": "#E5ECF6",
            "gridcolor": "white",
            "gridwidth": 2,
            "linecolor": "white",
            "showbackground": true,
            "ticks": "",
            "zerolinecolor": "white"
           },
           "yaxis": {
            "backgroundcolor": "#E5ECF6",
            "gridcolor": "white",
            "gridwidth": 2,
            "linecolor": "white",
            "showbackground": true,
            "ticks": "",
            "zerolinecolor": "white"
           },
           "zaxis": {
            "backgroundcolor": "#E5ECF6",
            "gridcolor": "white",
            "gridwidth": 2,
            "linecolor": "white",
            "showbackground": true,
            "ticks": "",
            "zerolinecolor": "white"
           }
          },
          "shapedefaults": {
           "line": {
            "color": "#2a3f5f"
           }
          },
          "ternary": {
           "aaxis": {
            "gridcolor": "white",
            "linecolor": "white",
            "ticks": ""
           },
           "baxis": {
            "gridcolor": "white",
            "linecolor": "white",
            "ticks": ""
           },
           "bgcolor": "#E5ECF6",
           "caxis": {
            "gridcolor": "white",
            "linecolor": "white",
            "ticks": ""
           }
          },
          "title": {
           "x": 0.05
          },
          "xaxis": {
           "automargin": true,
           "gridcolor": "white",
           "linecolor": "white",
           "ticks": "",
           "title": {
            "standoff": 15
           },
           "zerolinecolor": "white",
           "zerolinewidth": 2
          },
          "yaxis": {
           "automargin": true,
           "gridcolor": "white",
           "linecolor": "white",
           "ticks": "",
           "title": {
            "standoff": 15
           },
           "zerolinecolor": "white",
           "zerolinewidth": 2
          }
         }
        },
        "title": {
         "text": "Number of Approved GMOs between 2004-2014"
        },
        "xaxis": {
         "anchor": "y",
         "domain": [
          0,
          1
         ],
         "title": {
          "text": "Country"
         }
        },
        "yaxis": {
         "anchor": "x",
         "domain": [
          0,
          1
         ],
         "title": {
          "text": "2004–2014"
         }
        }
       }
      },
      "text/html": [
       "<div>\n",
       "        \n",
       "        \n",
       "            <div id=\"1815a105-b409-48be-99d7-59e8d473840a\" class=\"plotly-graph-div\" style=\"height:525px; width:100%;\"></div>\n",
       "            <script type=\"text/javascript\">\n",
       "                require([\"plotly\"], function(Plotly) {\n",
       "                    window.PLOTLYENV=window.PLOTLYENV || {};\n",
       "                    \n",
       "                if (document.getElementById(\"1815a105-b409-48be-99d7-59e8d473840a\")) {\n",
       "                    Plotly.newPlot(\n",
       "                        '1815a105-b409-48be-99d7-59e8d473840a',\n",
       "                        [{\"alignmentgroup\": \"True\", \"hovertemplate\": \"Country=%{x}<br>2004\\u20132014=%{y}<extra></extra>\", \"legendgroup\": \"\", \"marker\": {\"color\": \"#636efa\"}, \"name\": \"\", \"offsetgroup\": \"\", \"orientation\": \"v\", \"showlegend\": false, \"textposition\": \"auto\", \"type\": \"bar\", \"x\": [\"United States\", \"Canada\", \"Japan\", \"Brazil*\", \"Argentina*\", \"Australia\", \"South Africa*\", \"Uruguay*\", \"Colombia*\", \"Costa Rica*\", \"Paraguay*\", \"Philippines*\", \"China*\", \"Mexico*\", \"European Union (28)\", \"Honduras*\", \"India*\", \"Chile*\", \"Bangladesh*\", \"Bolivia*\", \"Burkina Faso*\", \"Egypt*\", \"Iran*\", \"Myanmar*\", \"Pakistan*\", \"Panama*\", \"South Korea\", \"Cuba*\", \"Sudan*\", \"Total\"], \"xaxis\": \"x\", \"y\": [60, 67, 115, 38, 29, 11, 9, 16, 13, 14, 14, 12, 4, 6, 1, 3, 4, 4, 1, 1, 1, 1, 1, 1, 1, 1, 1, 1, 1, 431], \"yaxis\": \"y\"}],\n",
       "                        {\"barmode\": \"relative\", \"legend\": {\"tracegroupgap\": 0}, \"template\": {\"data\": {\"bar\": [{\"error_x\": {\"color\": \"#2a3f5f\"}, \"error_y\": {\"color\": \"#2a3f5f\"}, \"marker\": {\"line\": {\"color\": \"#E5ECF6\", \"width\": 0.5}}, \"type\": \"bar\"}], \"barpolar\": [{\"marker\": {\"line\": {\"color\": \"#E5ECF6\", \"width\": 0.5}}, \"type\": \"barpolar\"}], \"carpet\": [{\"aaxis\": {\"endlinecolor\": \"#2a3f5f\", \"gridcolor\": \"white\", \"linecolor\": \"white\", \"minorgridcolor\": \"white\", \"startlinecolor\": \"#2a3f5f\"}, \"baxis\": {\"endlinecolor\": \"#2a3f5f\", \"gridcolor\": \"white\", \"linecolor\": \"white\", \"minorgridcolor\": \"white\", \"startlinecolor\": \"#2a3f5f\"}, \"type\": \"carpet\"}], \"choropleth\": [{\"colorbar\": {\"outlinewidth\": 0, \"ticks\": \"\"}, \"type\": \"choropleth\"}], \"contour\": [{\"colorbar\": {\"outlinewidth\": 0, \"ticks\": \"\"}, \"colorscale\": [[0.0, \"#0d0887\"], [0.1111111111111111, \"#46039f\"], [0.2222222222222222, \"#7201a8\"], [0.3333333333333333, \"#9c179e\"], [0.4444444444444444, \"#bd3786\"], [0.5555555555555556, \"#d8576b\"], [0.6666666666666666, \"#ed7953\"], [0.7777777777777778, \"#fb9f3a\"], [0.8888888888888888, \"#fdca26\"], [1.0, \"#f0f921\"]], \"type\": \"contour\"}], \"contourcarpet\": [{\"colorbar\": {\"outlinewidth\": 0, \"ticks\": \"\"}, \"type\": \"contourcarpet\"}], \"heatmap\": [{\"colorbar\": {\"outlinewidth\": 0, \"ticks\": \"\"}, \"colorscale\": [[0.0, \"#0d0887\"], [0.1111111111111111, \"#46039f\"], [0.2222222222222222, \"#7201a8\"], [0.3333333333333333, \"#9c179e\"], [0.4444444444444444, \"#bd3786\"], [0.5555555555555556, \"#d8576b\"], [0.6666666666666666, \"#ed7953\"], [0.7777777777777778, \"#fb9f3a\"], [0.8888888888888888, \"#fdca26\"], [1.0, \"#f0f921\"]], \"type\": \"heatmap\"}], \"heatmapgl\": [{\"colorbar\": {\"outlinewidth\": 0, \"ticks\": \"\"}, \"colorscale\": [[0.0, \"#0d0887\"], [0.1111111111111111, \"#46039f\"], [0.2222222222222222, \"#7201a8\"], [0.3333333333333333, \"#9c179e\"], [0.4444444444444444, \"#bd3786\"], [0.5555555555555556, \"#d8576b\"], [0.6666666666666666, \"#ed7953\"], [0.7777777777777778, \"#fb9f3a\"], [0.8888888888888888, \"#fdca26\"], [1.0, \"#f0f921\"]], \"type\": \"heatmapgl\"}], \"histogram\": [{\"marker\": {\"colorbar\": {\"outlinewidth\": 0, \"ticks\": \"\"}}, \"type\": \"histogram\"}], \"histogram2d\": [{\"colorbar\": {\"outlinewidth\": 0, \"ticks\": \"\"}, \"colorscale\": [[0.0, \"#0d0887\"], [0.1111111111111111, \"#46039f\"], [0.2222222222222222, \"#7201a8\"], [0.3333333333333333, \"#9c179e\"], [0.4444444444444444, \"#bd3786\"], [0.5555555555555556, \"#d8576b\"], [0.6666666666666666, \"#ed7953\"], [0.7777777777777778, \"#fb9f3a\"], [0.8888888888888888, \"#fdca26\"], [1.0, \"#f0f921\"]], \"type\": \"histogram2d\"}], \"histogram2dcontour\": [{\"colorbar\": {\"outlinewidth\": 0, \"ticks\": \"\"}, \"colorscale\": [[0.0, \"#0d0887\"], [0.1111111111111111, \"#46039f\"], [0.2222222222222222, \"#7201a8\"], [0.3333333333333333, \"#9c179e\"], [0.4444444444444444, \"#bd3786\"], [0.5555555555555556, \"#d8576b\"], [0.6666666666666666, \"#ed7953\"], [0.7777777777777778, \"#fb9f3a\"], [0.8888888888888888, \"#fdca26\"], [1.0, \"#f0f921\"]], \"type\": \"histogram2dcontour\"}], \"mesh3d\": [{\"colorbar\": {\"outlinewidth\": 0, \"ticks\": \"\"}, \"type\": \"mesh3d\"}], \"parcoords\": [{\"line\": {\"colorbar\": {\"outlinewidth\": 0, \"ticks\": \"\"}}, \"type\": \"parcoords\"}], \"pie\": [{\"automargin\": true, \"type\": \"pie\"}], \"scatter\": [{\"marker\": {\"colorbar\": {\"outlinewidth\": 0, \"ticks\": \"\"}}, \"type\": \"scatter\"}], \"scatter3d\": [{\"line\": {\"colorbar\": {\"outlinewidth\": 0, \"ticks\": \"\"}}, \"marker\": {\"colorbar\": {\"outlinewidth\": 0, \"ticks\": \"\"}}, \"type\": \"scatter3d\"}], \"scattercarpet\": [{\"marker\": {\"colorbar\": {\"outlinewidth\": 0, \"ticks\": \"\"}}, \"type\": \"scattercarpet\"}], \"scattergeo\": [{\"marker\": {\"colorbar\": {\"outlinewidth\": 0, \"ticks\": \"\"}}, \"type\": \"scattergeo\"}], \"scattergl\": [{\"marker\": {\"colorbar\": {\"outlinewidth\": 0, \"ticks\": \"\"}}, \"type\": \"scattergl\"}], \"scattermapbox\": [{\"marker\": {\"colorbar\": {\"outlinewidth\": 0, \"ticks\": \"\"}}, \"type\": \"scattermapbox\"}], \"scatterpolar\": [{\"marker\": {\"colorbar\": {\"outlinewidth\": 0, \"ticks\": \"\"}}, \"type\": \"scatterpolar\"}], \"scatterpolargl\": [{\"marker\": {\"colorbar\": {\"outlinewidth\": 0, \"ticks\": \"\"}}, \"type\": \"scatterpolargl\"}], \"scatterternary\": [{\"marker\": {\"colorbar\": {\"outlinewidth\": 0, \"ticks\": \"\"}}, \"type\": \"scatterternary\"}], \"surface\": [{\"colorbar\": {\"outlinewidth\": 0, \"ticks\": \"\"}, \"colorscale\": [[0.0, \"#0d0887\"], [0.1111111111111111, \"#46039f\"], [0.2222222222222222, \"#7201a8\"], [0.3333333333333333, \"#9c179e\"], [0.4444444444444444, \"#bd3786\"], [0.5555555555555556, \"#d8576b\"], [0.6666666666666666, \"#ed7953\"], [0.7777777777777778, \"#fb9f3a\"], [0.8888888888888888, \"#fdca26\"], [1.0, \"#f0f921\"]], \"type\": \"surface\"}], \"table\": [{\"cells\": {\"fill\": {\"color\": \"#EBF0F8\"}, \"line\": {\"color\": \"white\"}}, \"header\": {\"fill\": {\"color\": \"#C8D4E3\"}, \"line\": {\"color\": \"white\"}}, \"type\": \"table\"}]}, \"layout\": {\"annotationdefaults\": {\"arrowcolor\": \"#2a3f5f\", \"arrowhead\": 0, \"arrowwidth\": 1}, \"coloraxis\": {\"colorbar\": {\"outlinewidth\": 0, \"ticks\": \"\"}}, \"colorscale\": {\"diverging\": [[0, \"#8e0152\"], [0.1, \"#c51b7d\"], [0.2, \"#de77ae\"], [0.3, \"#f1b6da\"], [0.4, \"#fde0ef\"], [0.5, \"#f7f7f7\"], [0.6, \"#e6f5d0\"], [0.7, \"#b8e186\"], [0.8, \"#7fbc41\"], [0.9, \"#4d9221\"], [1, \"#276419\"]], \"sequential\": [[0.0, \"#0d0887\"], [0.1111111111111111, \"#46039f\"], [0.2222222222222222, \"#7201a8\"], [0.3333333333333333, \"#9c179e\"], [0.4444444444444444, \"#bd3786\"], [0.5555555555555556, \"#d8576b\"], [0.6666666666666666, \"#ed7953\"], [0.7777777777777778, \"#fb9f3a\"], [0.8888888888888888, \"#fdca26\"], [1.0, \"#f0f921\"]], \"sequentialminus\": [[0.0, \"#0d0887\"], [0.1111111111111111, \"#46039f\"], [0.2222222222222222, \"#7201a8\"], [0.3333333333333333, \"#9c179e\"], [0.4444444444444444, \"#bd3786\"], [0.5555555555555556, \"#d8576b\"], [0.6666666666666666, \"#ed7953\"], [0.7777777777777778, \"#fb9f3a\"], [0.8888888888888888, \"#fdca26\"], [1.0, \"#f0f921\"]]}, \"colorway\": [\"#636efa\", \"#EF553B\", \"#00cc96\", \"#ab63fa\", \"#FFA15A\", \"#19d3f3\", \"#FF6692\", \"#B6E880\", \"#FF97FF\", \"#FECB52\"], \"font\": {\"color\": \"#2a3f5f\"}, \"geo\": {\"bgcolor\": \"white\", \"lakecolor\": \"white\", \"landcolor\": \"#E5ECF6\", \"showlakes\": true, \"showland\": true, \"subunitcolor\": \"white\"}, \"hoverlabel\": {\"align\": \"left\"}, \"hovermode\": \"closest\", \"mapbox\": {\"style\": \"light\"}, \"paper_bgcolor\": \"white\", \"plot_bgcolor\": \"#E5ECF6\", \"polar\": {\"angularaxis\": {\"gridcolor\": \"white\", \"linecolor\": \"white\", \"ticks\": \"\"}, \"bgcolor\": \"#E5ECF6\", \"radialaxis\": {\"gridcolor\": \"white\", \"linecolor\": \"white\", \"ticks\": \"\"}}, \"scene\": {\"xaxis\": {\"backgroundcolor\": \"#E5ECF6\", \"gridcolor\": \"white\", \"gridwidth\": 2, \"linecolor\": \"white\", \"showbackground\": true, \"ticks\": \"\", \"zerolinecolor\": \"white\"}, \"yaxis\": {\"backgroundcolor\": \"#E5ECF6\", \"gridcolor\": \"white\", \"gridwidth\": 2, \"linecolor\": \"white\", \"showbackground\": true, \"ticks\": \"\", \"zerolinecolor\": \"white\"}, \"zaxis\": {\"backgroundcolor\": \"#E5ECF6\", \"gridcolor\": \"white\", \"gridwidth\": 2, \"linecolor\": \"white\", \"showbackground\": true, \"ticks\": \"\", \"zerolinecolor\": \"white\"}}, \"shapedefaults\": {\"line\": {\"color\": \"#2a3f5f\"}}, \"ternary\": {\"aaxis\": {\"gridcolor\": \"white\", \"linecolor\": \"white\", \"ticks\": \"\"}, \"baxis\": {\"gridcolor\": \"white\", \"linecolor\": \"white\", \"ticks\": \"\"}, \"bgcolor\": \"#E5ECF6\", \"caxis\": {\"gridcolor\": \"white\", \"linecolor\": \"white\", \"ticks\": \"\"}}, \"title\": {\"x\": 0.05}, \"xaxis\": {\"automargin\": true, \"gridcolor\": \"white\", \"linecolor\": \"white\", \"ticks\": \"\", \"title\": {\"standoff\": 15}, \"zerolinecolor\": \"white\", \"zerolinewidth\": 2}, \"yaxis\": {\"automargin\": true, \"gridcolor\": \"white\", \"linecolor\": \"white\", \"ticks\": \"\", \"title\": {\"standoff\": 15}, \"zerolinecolor\": \"white\", \"zerolinewidth\": 2}}}, \"title\": {\"text\": \"Number of Approved GMOs between 2004-2014\"}, \"xaxis\": {\"anchor\": \"y\", \"domain\": [0.0, 1.0], \"title\": {\"text\": \"Country\"}}, \"yaxis\": {\"anchor\": \"x\", \"domain\": [0.0, 1.0], \"title\": {\"text\": \"2004\\u20132014\"}}},\n",
       "                        {\"responsive\": true}\n",
       "                    ).then(function(){\n",
       "                            \n",
       "var gd = document.getElementById('1815a105-b409-48be-99d7-59e8d473840a');\n",
       "var x = new MutationObserver(function (mutations, observer) {{\n",
       "        var display = window.getComputedStyle(gd).display;\n",
       "        if (!display || display === 'none') {{\n",
       "            console.log([gd, 'removed!']);\n",
       "            Plotly.purge(gd);\n",
       "            observer.disconnect();\n",
       "        }}\n",
       "}});\n",
       "\n",
       "// Listen for the removal of the full notebook cells\n",
       "var notebookContainer = gd.closest('#notebook-container');\n",
       "if (notebookContainer) {{\n",
       "    x.observe(notebookContainer, {childList: true});\n",
       "}}\n",
       "\n",
       "// Listen for the clearing of the current output cell\n",
       "var outputEl = gd.closest('.output');\n",
       "if (outputEl) {{\n",
       "    x.observe(outputEl, {childList: true});\n",
       "}}\n",
       "\n",
       "                        })\n",
       "                };\n",
       "                });\n",
       "            </script>\n",
       "        </div>"
      ]
     },
     "metadata": {},
     "output_type": "display_data"
    }
   ],
   "source": [
    "# ❗️ Run this cell!\n",
    "# Display a histogram of the number of approved GMOS by country\n",
    "fig = px.bar(approvaldata, x=\"Country\", y = '2004–2014', title=\"Number of Approved GMOs between 2004-2014\")\n",
    "fig.show()"
   ]
  },
  {
   "cell_type": "markdown",
   "metadata": {},
   "source": [
    "### 📚 Look at the trends of approved GMOs by countries over the last three decades. What differences do you see? List some reasons why this might be.\n",
    "\n",
    "\n",
    "Fill in the boxes marked with ✏️ by double clicking on it and filling in your answer. Remember to save your answers by clicking `File > Save and Checkpoint`!"
   ]
  },
  {
   "cell_type": "markdown",
   "metadata": {},
   "source": [
    "✏️\n",
    "\n",
    "✏️\n",
    "\n",
    "✏️"
   ]
  },
  {
   "cell_type": "markdown",
   "metadata": {},
   "source": [
    "## 🌽 How are GMOs made?\n",
    "\n",
    "![](https://i1.wp.com/sitn.hms.harvard.edu/wp-content/uploads/2015/08/Untitled2.png?w=900)\n",
    "Image from: http://sitn.hms.harvard.edu/flash/2015/how-to-make-a-gmo/"
   ]
  },
  {
   "cell_type": "markdown",
   "metadata": {},
   "source": [
    "## 🌽  What are plant traits? How are traits selected for?\n",
    "\n",
    "Plant traits are desirable phenotypes (observable expression of a gene, it's functional use), and can be almost anything as long as they are useful. Century after century, farmers and botanists have selected plants that have desirable traits (sweet taste, size, etc) and cross bred them over time to produce more of that crop. With the use of modern technology however, we have successfully determined various genes that result in different plant traits. Some traits are not just the addition or enhancement of something, but can also be a surpresion (for instead, delayed ripening). Instead of breeding over many generations, we can directly insert the gene and have more direct and reliable results.\n",
    "\n",
    "To learn more about the science of how this is actually done, read here: https://www.nationalgeographic.com/environment/future-of-food/food-technology-gene-editing/"
   ]
  },
  {
   "cell_type": "code",
   "execution_count": 4,
   "metadata": {},
   "outputs": [
    {
     "data": {
      "application/vnd.plotly.v1+json": {
       "config": {
        "plotlyServerURL": "https://plot.ly"
       },
       "data": [
        {
         "alignmentgroup": "True",
         "bingroup": "x",
         "hovertemplate": "Variety=Insect-resistant (Bt) only                                           <br>Crop=%{x}<br>count=%{y}<extra></extra>",
         "legendgroup": "Insect-resistant (Bt) only                                           ",
         "marker": {
          "color": "#636efa"
         },
         "name": "Insect-resistant (Bt) only                                           ",
         "offsetgroup": "Insect-resistant (Bt) only                                           ",
         "orientation": "v",
         "showlegend": true,
         "type": "histogram",
         "x": [
          "Corn",
          "Corn",
          "Corn",
          "Corn",
          "Corn",
          "Corn",
          "Corn",
          "Corn",
          "Corn",
          "Corn",
          "Corn",
          "Corn",
          "Corn",
          "Corn",
          "Corn",
          "Corn",
          "Corn",
          "Corn",
          "Corn",
          "Corn",
          "Corn",
          "Corn",
          "Corn",
          "Corn",
          "Corn",
          "Corn",
          "Corn",
          "Corn",
          "Corn",
          "Corn",
          "Corn",
          "Corn",
          "Corn",
          "Corn",
          "Corn",
          "Corn",
          "Corn",
          "Corn",
          "Corn",
          "Corn",
          "Corn",
          "Corn",
          "Corn",
          "Corn",
          "Corn",
          "Corn",
          "Corn",
          "Corn",
          "Corn",
          "Corn",
          "Corn",
          "Corn",
          "Corn",
          "Corn",
          "Corn",
          "Corn",
          "Corn",
          "Corn",
          "Corn",
          "Corn",
          "Corn",
          "Corn",
          "Corn",
          "Corn",
          "Corn",
          "Corn",
          "Corn",
          "Corn",
          "Corn",
          "Corn",
          "Corn",
          "Corn",
          "Corn",
          "Corn",
          "Corn",
          "Corn",
          "Corn",
          "Corn",
          "Corn",
          "Corn",
          "Corn",
          "Corn",
          "Corn",
          "Corn",
          "Corn",
          "Corn",
          "Corn",
          "Corn",
          "Corn",
          "Corn",
          "Corn",
          "Corn",
          "Corn",
          "Corn",
          "Corn",
          "Corn",
          "Corn",
          "Corn",
          "Corn",
          "Corn",
          "Corn",
          "Corn",
          "Corn",
          "Corn",
          "Corn",
          "Corn",
          "Corn",
          "Corn",
          "Corn",
          "Corn",
          "Corn",
          "Corn",
          "Corn",
          "Corn",
          "Corn",
          "Corn",
          "Corn",
          "Corn",
          "Corn",
          "Corn",
          "Corn",
          "Corn",
          "Corn",
          "Corn",
          "Corn",
          "Corn",
          "Corn",
          "Corn",
          "Corn",
          "Corn",
          "Corn",
          "Corn",
          "Corn",
          "Corn",
          "Corn",
          "Corn",
          "Corn",
          "Corn",
          "Corn",
          "Corn",
          "Corn",
          "Corn",
          "Corn",
          "Corn",
          "Corn",
          "Corn",
          "Corn",
          "Corn",
          "Corn",
          "Corn",
          "Corn",
          "Corn",
          "Corn",
          "Corn",
          "Corn",
          "Corn",
          "Corn",
          "Corn",
          "Corn",
          "Corn",
          "Corn",
          "Corn",
          "Corn",
          "Corn",
          "Corn",
          "Corn",
          "Corn",
          "Corn",
          "Corn",
          "Corn",
          "Corn",
          "Corn",
          "Corn",
          "Corn",
          "Corn",
          "Corn",
          "Corn",
          "Corn",
          "Corn",
          "Corn",
          "Corn",
          "Corn",
          "Corn",
          "Corn",
          "Corn",
          "Corn",
          "Corn",
          "Corn",
          "Corn",
          "Corn",
          "Corn",
          "Corn",
          "Corn",
          "Corn",
          "Corn",
          "Corn",
          "Corn",
          "Corn",
          "Corn",
          "Corn",
          "Corn",
          "Corn",
          "Corn",
          "Corn",
          "Corn",
          "Corn",
          "Corn",
          "Corn",
          "Corn",
          "Corn",
          "Corn",
          "Corn",
          "Corn",
          "Corn",
          "Corn",
          "Corn",
          "Corn",
          "Corn",
          "Corn",
          "Corn",
          "Corn",
          "Corn",
          "Corn",
          "Corn",
          "Corn",
          "Corn",
          "Corn",
          "Corn",
          "Corn",
          "Corn",
          "Corn",
          "Corn",
          "Corn",
          "Corn",
          "Corn",
          "Corn",
          "Corn",
          "Corn",
          "Corn",
          "Corn",
          "Corn",
          "Corn",
          "Corn",
          "Corn",
          "Corn",
          "Corn",
          "Corn",
          "Corn",
          "Corn",
          "Corn",
          "Corn",
          "Corn",
          "Corn",
          "Corn",
          "Corn",
          "Corn",
          "Corn",
          "Corn",
          "Corn",
          "Corn",
          "Corn",
          "Corn",
          "Corn",
          "Corn",
          "Corn",
          "Corn",
          "Corn",
          "Corn",
          "Corn",
          "Corn",
          "Corn",
          "Corn",
          "Corn",
          "Corn",
          "Corn",
          "Corn",
          "Corn",
          "Corn",
          "Corn",
          "Corn",
          "Corn",
          "Corn",
          "Corn",
          "Corn",
          "Corn",
          "Corn",
          "Corn",
          "Corn",
          "Corn",
          "Corn",
          "Corn",
          "Corn",
          "Corn",
          "Corn",
          "Corn",
          "Corn",
          "Corn",
          "Corn",
          "Corn",
          "Corn",
          "Cotton",
          "Cotton",
          "Cotton",
          "Cotton",
          "Cotton",
          "Cotton",
          "Cotton",
          "Cotton",
          "Cotton",
          "Cotton",
          "Cotton",
          "Cotton",
          "Cotton",
          "Cotton",
          "Cotton",
          "Cotton",
          "Cotton",
          "Cotton",
          "Cotton",
          "Cotton",
          "Cotton",
          "Cotton",
          "Cotton",
          "Cotton",
          "Cotton",
          "Cotton",
          "Cotton",
          "Cotton",
          "Cotton",
          "Cotton",
          "Cotton",
          "Cotton",
          "Cotton",
          "Cotton",
          "Cotton",
          "Cotton",
          "Cotton",
          "Cotton",
          "Cotton",
          "Cotton",
          "Cotton",
          "Cotton",
          "Cotton",
          "Cotton",
          "Cotton",
          "Cotton",
          "Cotton",
          "Cotton",
          "Cotton",
          "Cotton",
          "Cotton",
          "Cotton",
          "Cotton",
          "Cotton",
          "Cotton",
          "Cotton",
          "Cotton",
          "Cotton",
          "Cotton",
          "Cotton",
          "Cotton",
          "Cotton",
          "Cotton",
          "Cotton",
          "Cotton",
          "Cotton",
          "Cotton",
          "Cotton",
          "Cotton",
          "Cotton",
          "Cotton",
          "Cotton",
          "Cotton",
          "Cotton",
          "Cotton",
          "Cotton",
          "Cotton",
          "Cotton",
          "Cotton",
          "Cotton",
          "Cotton",
          "Cotton",
          "Cotton",
          "Cotton",
          "Cotton",
          "Cotton",
          "Cotton",
          "Cotton",
          "Cotton",
          "Cotton",
          "Cotton",
          "Cotton",
          "Cotton",
          "Cotton",
          "Cotton",
          "Cotton",
          "Cotton",
          "Cotton",
          "Cotton",
          "Cotton",
          "Cotton",
          "Cotton",
          "Cotton",
          "Cotton",
          "Cotton",
          "Cotton",
          "Cotton",
          "Cotton",
          "Cotton",
          "Cotton",
          "Cotton",
          "Cotton",
          "Cotton",
          "Cotton",
          "Cotton",
          "Cotton",
          "Cotton",
          "Cotton",
          "Cotton",
          "Cotton",
          "Cotton",
          "Cotton",
          "Cotton",
          "Cotton",
          "Cotton",
          "Cotton",
          "Cotton",
          "Cotton",
          "Cotton",
          "Cotton",
          "Cotton",
          "Cotton",
          "Cotton",
          "Cotton",
          "Cotton",
          "Cotton",
          "Cotton",
          "Cotton",
          "Cotton",
          "Cotton",
          "Cotton",
          "Cotton",
          "Cotton",
          "Cotton",
          "Cotton",
          "Cotton",
          "Cotton",
          "Cotton",
          "Cotton",
          "Cotton",
          "Cotton",
          "Cotton",
          "Cotton",
          "Cotton",
          "Cotton",
          "Cotton",
          "Cotton",
          "Cotton",
          "Cotton",
          "Cotton",
          "Cotton",
          "Cotton",
          "Cotton",
          "Cotton",
          "Cotton",
          "Cotton",
          "Cotton",
          "Cotton",
          "Cotton",
          "Cotton",
          "Cotton",
          "Cotton",
          "Cotton",
          "Cotton",
          "Cotton",
          "Cotton",
          "Cotton",
          "Cotton",
          "Cotton",
          "Cotton",
          "Cotton",
          "Cotton",
          "Cotton",
          "Cotton",
          "Cotton",
          "Cotton",
          "Cotton",
          "Cotton",
          "Cotton",
          "Cotton",
          "Cotton",
          "Cotton",
          "Cotton",
          "Cotton",
          "Cotton",
          "Cotton",
          "Cotton",
          "Cotton",
          "Cotton",
          "Cotton",
          "Cotton",
          "Cotton",
          "Cotton",
          "Cotton",
          "Cotton",
          "Cotton",
          "Cotton",
          "Cotton",
          "Cotton",
          "Cotton",
          "Cotton",
          "Cotton",
          "Cotton",
          "Cotton",
          "Cotton",
          "Cotton",
          "Cotton",
          "Cotton",
          "Cotton",
          "Cotton",
          "Cotton",
          "Cotton",
          "Cotton",
          "Cotton",
          "Cotton",
          "Cotton",
          "Cotton",
          "Cotton",
          "Cotton",
          "Cotton",
          "Cotton",
          "Cotton",
          "Cotton",
          "Cotton",
          "Cotton",
          "Cotton",
          "Cotton",
          "Cotton",
          "Cotton",
          "Cotton"
         ],
         "xaxis": "x",
         "yaxis": "y"
        },
        {
         "alignmentgroup": "True",
         "bingroup": "x",
         "hovertemplate": "Variety=Herbicide-tolerant only                                           <br>Crop=%{x}<br>count=%{y}<extra></extra>",
         "legendgroup": "Herbicide-tolerant only                                           ",
         "marker": {
          "color": "#EF553B"
         },
         "name": "Herbicide-tolerant only                                           ",
         "offsetgroup": "Herbicide-tolerant only                                           ",
         "orientation": "v",
         "showlegend": true,
         "type": "histogram",
         "x": [
          "Corn",
          "Corn",
          "Corn",
          "Corn",
          "Corn",
          "Corn",
          "Corn",
          "Corn",
          "Corn",
          "Corn",
          "Corn",
          "Corn",
          "Corn",
          "Corn",
          "Corn",
          "Corn",
          "Corn",
          "Corn",
          "Corn",
          "Corn",
          "Corn",
          "Corn",
          "Corn",
          "Corn",
          "Corn",
          "Corn",
          "Corn",
          "Corn",
          "Corn",
          "Corn",
          "Corn",
          "Corn",
          "Corn",
          "Corn",
          "Corn",
          "Corn",
          "Corn",
          "Corn",
          "Corn",
          "Corn",
          "Corn",
          "Corn",
          "Corn",
          "Corn",
          "Corn",
          "Corn",
          "Corn",
          "Corn",
          "Corn",
          "Corn",
          "Corn",
          "Corn",
          "Corn",
          "Corn",
          "Corn",
          "Corn",
          "Corn",
          "Corn",
          "Corn",
          "Corn",
          "Corn",
          "Corn",
          "Corn",
          "Corn",
          "Corn",
          "Corn",
          "Corn",
          "Corn",
          "Corn",
          "Corn",
          "Corn",
          "Corn",
          "Corn",
          "Corn",
          "Corn",
          "Corn",
          "Corn",
          "Corn",
          "Corn",
          "Corn",
          "Corn",
          "Corn",
          "Corn",
          "Corn",
          "Corn",
          "Corn",
          "Corn",
          "Corn",
          "Corn",
          "Corn",
          "Corn",
          "Corn",
          "Corn",
          "Corn",
          "Corn",
          "Corn",
          "Corn",
          "Corn",
          "Corn",
          "Corn",
          "Corn",
          "Corn",
          "Corn",
          "Corn",
          "Corn",
          "Corn",
          "Corn",
          "Corn",
          "Corn",
          "Corn",
          "Corn",
          "Corn",
          "Corn",
          "Corn",
          "Corn",
          "Corn",
          "Corn",
          "Corn",
          "Corn",
          "Corn",
          "Corn",
          "Corn",
          "Corn",
          "Corn",
          "Corn",
          "Corn",
          "Corn",
          "Corn",
          "Corn",
          "Corn",
          "Corn",
          "Corn",
          "Corn",
          "Corn",
          "Corn",
          "Corn",
          "Corn",
          "Corn",
          "Corn",
          "Corn",
          "Corn",
          "Corn",
          "Corn",
          "Corn",
          "Corn",
          "Corn",
          "Corn",
          "Corn",
          "Corn",
          "Corn",
          "Corn",
          "Corn",
          "Corn",
          "Corn",
          "Corn",
          "Corn",
          "Corn",
          "Corn",
          "Corn",
          "Corn",
          "Corn",
          "Corn",
          "Corn",
          "Corn",
          "Corn",
          "Corn",
          "Corn",
          "Corn",
          "Corn",
          "Corn",
          "Corn",
          "Corn",
          "Corn",
          "Corn",
          "Corn",
          "Corn",
          "Corn",
          "Corn",
          "Corn",
          "Corn",
          "Corn",
          "Corn",
          "Corn",
          "Corn",
          "Corn",
          "Corn",
          "Corn",
          "Corn",
          "Corn",
          "Corn",
          "Corn",
          "Corn",
          "Corn",
          "Corn",
          "Corn",
          "Corn",
          "Corn",
          "Corn",
          "Corn",
          "Corn",
          "Corn",
          "Corn",
          "Corn",
          "Corn",
          "Corn",
          "Corn",
          "Corn",
          "Corn",
          "Corn",
          "Corn",
          "Corn",
          "Corn",
          "Corn",
          "Corn",
          "Corn",
          "Corn",
          "Corn",
          "Corn",
          "Corn",
          "Corn",
          "Corn",
          "Corn",
          "Corn",
          "Corn",
          "Corn",
          "Corn",
          "Corn",
          "Corn",
          "Corn",
          "Corn",
          "Corn",
          "Corn",
          "Corn",
          "Corn",
          "Corn",
          "Corn",
          "Corn",
          "Corn",
          "Corn",
          "Corn",
          "Corn",
          "Corn",
          "Corn",
          "Corn",
          "Corn",
          "Corn",
          "Corn",
          "Corn",
          "Corn",
          "Corn",
          "Corn",
          "Corn",
          "Corn",
          "Corn",
          "Corn",
          "Corn",
          "Corn",
          "Corn",
          "Corn",
          "Corn",
          "Corn",
          "Corn",
          "Corn",
          "Corn",
          "Corn",
          "Corn",
          "Corn",
          "Corn",
          "Corn",
          "Corn",
          "Corn",
          "Corn",
          "Corn",
          "Corn",
          "Corn",
          "Corn",
          "Corn",
          "Corn",
          "Corn",
          "Corn",
          "Corn",
          "Corn",
          "Corn",
          "Corn",
          "Corn",
          "Corn",
          "Corn",
          "Corn",
          "Corn",
          "Corn",
          "Corn",
          "Corn",
          "Corn",
          "Corn",
          "Corn",
          "Corn",
          "Corn",
          "Corn",
          "Corn",
          "Corn",
          "Cotton",
          "Cotton",
          "Cotton",
          "Cotton",
          "Cotton",
          "Cotton",
          "Cotton",
          "Cotton",
          "Cotton",
          "Cotton",
          "Cotton",
          "Cotton",
          "Cotton",
          "Cotton",
          "Cotton",
          "Cotton",
          "Cotton",
          "Cotton",
          "Cotton",
          "Cotton",
          "Cotton",
          "Cotton",
          "Cotton",
          "Cotton",
          "Cotton",
          "Cotton",
          "Cotton",
          "Cotton",
          "Cotton",
          "Cotton",
          "Cotton",
          "Cotton",
          "Cotton",
          "Cotton",
          "Cotton",
          "Cotton",
          "Cotton",
          "Cotton",
          "Cotton",
          "Cotton",
          "Cotton",
          "Cotton",
          "Cotton",
          "Cotton",
          "Cotton",
          "Cotton",
          "Cotton",
          "Cotton",
          "Cotton",
          "Cotton",
          "Cotton",
          "Cotton",
          "Cotton",
          "Cotton",
          "Cotton",
          "Cotton",
          "Cotton",
          "Cotton",
          "Cotton",
          "Cotton",
          "Cotton",
          "Cotton",
          "Cotton",
          "Cotton",
          "Cotton",
          "Cotton",
          "Cotton",
          "Cotton",
          "Cotton",
          "Cotton",
          "Cotton",
          "Cotton",
          "Cotton",
          "Cotton",
          "Cotton",
          "Cotton",
          "Cotton",
          "Cotton",
          "Cotton",
          "Cotton",
          "Cotton",
          "Cotton",
          "Cotton",
          "Cotton",
          "Cotton",
          "Cotton",
          "Cotton",
          "Cotton",
          "Cotton",
          "Cotton",
          "Cotton",
          "Cotton",
          "Cotton",
          "Cotton",
          "Cotton",
          "Cotton",
          "Cotton",
          "Cotton",
          "Cotton",
          "Cotton",
          "Cotton",
          "Cotton",
          "Cotton",
          "Cotton",
          "Cotton",
          "Cotton",
          "Cotton",
          "Cotton",
          "Cotton",
          "Cotton",
          "Cotton",
          "Cotton",
          "Cotton",
          "Cotton",
          "Cotton",
          "Cotton",
          "Cotton",
          "Cotton",
          "Cotton",
          "Cotton",
          "Cotton",
          "Cotton",
          "Cotton",
          "Cotton",
          "Cotton",
          "Cotton",
          "Cotton",
          "Cotton",
          "Cotton",
          "Cotton",
          "Cotton",
          "Cotton",
          "Cotton",
          "Cotton",
          "Cotton",
          "Cotton",
          "Cotton",
          "Cotton",
          "Cotton",
          "Cotton",
          "Cotton",
          "Cotton",
          "Cotton",
          "Cotton",
          "Cotton",
          "Cotton",
          "Cotton",
          "Cotton",
          "Cotton",
          "Cotton",
          "Cotton",
          "Cotton",
          "Cotton",
          "Cotton",
          "Cotton",
          "Cotton",
          "Cotton",
          "Cotton",
          "Cotton",
          "Cotton",
          "Cotton",
          "Cotton",
          "Cotton",
          "Cotton",
          "Cotton",
          "Cotton",
          "Cotton",
          "Cotton",
          "Cotton",
          "Cotton",
          "Cotton",
          "Cotton",
          "Cotton",
          "Cotton",
          "Cotton",
          "Cotton",
          "Cotton",
          "Cotton",
          "Cotton",
          "Cotton",
          "Cotton",
          "Cotton",
          "Cotton",
          "Cotton",
          "Cotton",
          "Cotton",
          "Cotton",
          "Cotton",
          "Cotton",
          "Cotton",
          "Cotton",
          "Cotton",
          "Cotton",
          "Cotton",
          "Cotton",
          "Cotton",
          "Cotton",
          "Cotton",
          "Cotton",
          "Cotton",
          "Cotton",
          "Cotton",
          "Cotton",
          "Cotton",
          "Cotton",
          "Cotton",
          "Cotton",
          "Cotton",
          "Cotton",
          "Cotton",
          "Cotton",
          "Cotton",
          "Cotton",
          "Cotton",
          "Cotton",
          "Cotton",
          "Cotton",
          "Cotton",
          "Cotton",
          "Cotton",
          "Cotton",
          "Cotton",
          "Cotton",
          "Cotton",
          "Cotton",
          "Cotton",
          "Cotton",
          "Cotton",
          "Cotton",
          "Cotton",
          "Cotton",
          "Cotton",
          "Cotton",
          "Cotton",
          "Cotton",
          "Cotton",
          "Cotton",
          "Cotton",
          "Cotton",
          "Cotton"
         ],
         "xaxis": "x",
         "yaxis": "y"
        },
        {
         "alignmentgroup": "True",
         "bingroup": "x",
         "hovertemplate": "Variety=Stacked gene varieties<br>Crop=%{x}<br>count=%{y}<extra></extra>",
         "legendgroup": "Stacked gene varieties",
         "marker": {
          "color": "#00cc96"
         },
         "name": "Stacked gene varieties",
         "offsetgroup": "Stacked gene varieties",
         "orientation": "v",
         "showlegend": true,
         "type": "histogram",
         "x": [
          "Corn",
          "Corn",
          "Corn",
          "Corn",
          "Corn",
          "Corn",
          "Corn",
          "Corn",
          "Corn",
          "Corn",
          "Corn",
          "Corn",
          "Corn",
          "Corn",
          "Corn",
          "Corn",
          "Corn",
          "Corn",
          "Corn",
          "Corn",
          "Corn",
          "Corn",
          "Corn",
          "Corn",
          "Corn",
          "Corn",
          "Corn",
          "Corn",
          "Corn",
          "Corn",
          "Corn",
          "Corn",
          "Corn",
          "Corn",
          "Corn",
          "Corn",
          "Corn",
          "Corn",
          "Corn",
          "Corn",
          "Corn",
          "Corn",
          "Corn",
          "Corn",
          "Corn",
          "Corn",
          "Corn",
          "Corn",
          "Corn",
          "Corn",
          "Corn",
          "Corn",
          "Corn",
          "Corn",
          "Corn",
          "Corn",
          "Corn",
          "Corn",
          "Corn",
          "Corn",
          "Corn",
          "Corn",
          "Corn",
          "Corn",
          "Corn",
          "Corn",
          "Corn",
          "Corn",
          "Corn",
          "Corn",
          "Corn",
          "Corn",
          "Corn",
          "Corn",
          "Corn",
          "Corn",
          "Corn",
          "Corn",
          "Corn",
          "Corn",
          "Corn",
          "Corn",
          "Corn",
          "Corn",
          "Corn",
          "Corn",
          "Corn",
          "Corn",
          "Corn",
          "Corn",
          "Corn",
          "Corn",
          "Corn",
          "Corn",
          "Corn",
          "Corn",
          "Corn",
          "Corn",
          "Corn",
          "Corn",
          "Corn",
          "Corn",
          "Corn",
          "Corn",
          "Corn",
          "Corn",
          "Corn",
          "Corn",
          "Corn",
          "Corn",
          "Corn",
          "Corn",
          "Corn",
          "Corn",
          "Corn",
          "Corn",
          "Corn",
          "Corn",
          "Corn",
          "Corn",
          "Corn",
          "Corn",
          "Corn",
          "Corn",
          "Corn",
          "Corn",
          "Corn",
          "Corn",
          "Corn",
          "Corn",
          "Corn",
          "Corn",
          "Corn",
          "Corn",
          "Corn",
          "Corn",
          "Corn",
          "Corn",
          "Corn",
          "Corn",
          "Corn",
          "Corn",
          "Corn",
          "Corn",
          "Corn",
          "Corn",
          "Corn",
          "Corn",
          "Corn",
          "Corn",
          "Corn",
          "Corn",
          "Corn",
          "Corn",
          "Corn",
          "Corn",
          "Corn",
          "Corn",
          "Corn",
          "Corn",
          "Corn",
          "Corn",
          "Corn",
          "Corn",
          "Corn",
          "Corn",
          "Corn",
          "Corn",
          "Corn",
          "Corn",
          "Corn",
          "Corn",
          "Corn",
          "Corn",
          "Corn",
          "Corn",
          "Corn",
          "Corn",
          "Corn",
          "Corn",
          "Corn",
          "Corn",
          "Corn",
          "Corn",
          "Corn",
          "Corn",
          "Corn",
          "Corn",
          "Corn",
          "Corn",
          "Corn",
          "Corn",
          "Corn",
          "Corn",
          "Corn",
          "Corn",
          "Corn",
          "Corn",
          "Corn",
          "Corn",
          "Corn",
          "Corn",
          "Corn",
          "Corn",
          "Corn",
          "Corn",
          "Corn",
          "Corn",
          "Corn",
          "Corn",
          "Corn",
          "Corn",
          "Corn",
          "Corn",
          "Corn",
          "Corn",
          "Corn",
          "Corn",
          "Corn",
          "Corn",
          "Corn",
          "Corn",
          "Corn",
          "Corn",
          "Corn",
          "Corn",
          "Corn",
          "Corn",
          "Corn",
          "Corn",
          "Corn",
          "Corn",
          "Corn",
          "Corn",
          "Corn",
          "Corn",
          "Corn",
          "Corn",
          "Corn",
          "Corn",
          "Corn",
          "Corn",
          "Corn",
          "Corn",
          "Corn",
          "Corn",
          "Corn",
          "Corn",
          "Corn",
          "Corn",
          "Corn",
          "Corn",
          "Corn",
          "Corn",
          "Corn",
          "Corn",
          "Corn",
          "Corn",
          "Corn",
          "Corn",
          "Corn",
          "Corn",
          "Corn",
          "Corn",
          "Corn",
          "Corn",
          "Corn",
          "Corn",
          "Corn",
          "Corn",
          "Corn",
          "Corn",
          "Corn",
          "Corn",
          "Corn",
          "Corn",
          "Corn",
          "Corn",
          "Corn",
          "Corn",
          "Corn",
          "Corn",
          "Corn",
          "Corn",
          "Corn",
          "Corn",
          "Corn",
          "Corn",
          "Corn",
          "Corn",
          "Corn",
          "Corn",
          "Corn",
          "Corn",
          "Corn",
          "Corn",
          "Corn",
          "Corn",
          "Corn",
          "Corn"
         ],
         "xaxis": "x",
         "yaxis": "y"
        },
        {
         "alignmentgroup": "True",
         "bingroup": "x",
         "hovertemplate": "Variety=All GE varieties 3/<br>Crop=%{x}<br>count=%{y}<extra></extra>",
         "legendgroup": "All GE varieties 3/",
         "marker": {
          "color": "#ab63fa"
         },
         "name": "All GE varieties 3/",
         "offsetgroup": "All GE varieties 3/",
         "orientation": "v",
         "showlegend": true,
         "type": "histogram",
         "x": [
          "Corn",
          "Corn",
          "Corn",
          "Corn",
          "Corn",
          "Corn",
          "Corn",
          "Corn",
          "Corn",
          "Corn",
          "Corn",
          "Corn",
          "Corn",
          "Corn",
          "Corn",
          "Corn",
          "Corn",
          "Corn",
          "Corn",
          "Corn",
          "Corn",
          "Corn",
          "Corn",
          "Corn",
          "Corn",
          "Corn",
          "Corn",
          "Corn",
          "Corn",
          "Corn",
          "Corn",
          "Corn",
          "Corn",
          "Corn",
          "Corn",
          "Corn",
          "Corn",
          "Corn",
          "Corn",
          "Corn",
          "Corn",
          "Corn",
          "Corn",
          "Corn",
          "Corn",
          "Corn",
          "Corn",
          "Corn",
          "Corn",
          "Corn",
          "Corn",
          "Corn",
          "Corn",
          "Corn",
          "Corn",
          "Corn",
          "Corn",
          "Corn",
          "Corn",
          "Corn",
          "Corn",
          "Corn",
          "Corn",
          "Corn",
          "Corn",
          "Corn",
          "Corn",
          "Corn",
          "Corn",
          "Corn",
          "Corn",
          "Corn",
          "Corn",
          "Corn",
          "Corn",
          "Corn",
          "Corn",
          "Corn",
          "Corn",
          "Corn",
          "Corn",
          "Corn",
          "Corn",
          "Corn",
          "Corn",
          "Corn",
          "Corn",
          "Corn",
          "Corn",
          "Corn",
          "Corn",
          "Corn",
          "Corn",
          "Corn",
          "Corn",
          "Corn",
          "Corn",
          "Corn",
          "Corn",
          "Corn",
          "Corn",
          "Corn",
          "Corn",
          "Corn",
          "Corn",
          "Corn",
          "Corn",
          "Corn",
          "Corn",
          "Corn",
          "Corn",
          "Corn",
          "Corn",
          "Corn",
          "Corn",
          "Corn",
          "Corn",
          "Corn",
          "Corn",
          "Corn",
          "Corn",
          "Corn",
          "Corn",
          "Corn",
          "Corn",
          "Corn",
          "Corn",
          "Corn",
          "Corn",
          "Corn",
          "Corn",
          "Corn",
          "Corn",
          "Corn",
          "Corn",
          "Corn",
          "Corn",
          "Corn",
          "Corn",
          "Corn",
          "Corn",
          "Corn",
          "Corn",
          "Corn",
          "Corn",
          "Corn",
          "Corn",
          "Corn",
          "Corn",
          "Corn",
          "Corn",
          "Corn",
          "Corn",
          "Corn",
          "Corn",
          "Corn",
          "Corn",
          "Corn",
          "Corn",
          "Corn",
          "Corn",
          "Corn",
          "Corn",
          "Corn",
          "Corn",
          "Corn",
          "Corn",
          "Corn",
          "Corn",
          "Corn",
          "Corn",
          "Corn",
          "Corn",
          "Corn",
          "Corn",
          "Corn",
          "Corn",
          "Corn",
          "Corn",
          "Corn",
          "Corn",
          "Corn",
          "Corn",
          "Corn",
          "Corn",
          "Corn",
          "Corn",
          "Corn",
          "Corn",
          "Corn",
          "Corn",
          "Corn",
          "Corn",
          "Corn",
          "Corn",
          "Corn",
          "Corn",
          "Corn",
          "Corn",
          "Corn",
          "Corn",
          "Corn",
          "Corn",
          "Corn",
          "Corn",
          "Corn",
          "Corn",
          "Corn",
          "Corn",
          "Corn",
          "Corn",
          "Corn",
          "Corn",
          "Corn",
          "Corn",
          "Corn",
          "Corn",
          "Corn",
          "Corn",
          "Corn",
          "Corn",
          "Corn",
          "Corn",
          "Corn",
          "Corn",
          "Corn",
          "Corn",
          "Corn",
          "Corn",
          "Corn",
          "Corn",
          "Corn",
          "Corn",
          "Corn",
          "Corn",
          "Corn",
          "Corn",
          "Corn",
          "Corn",
          "Corn",
          "Corn",
          "Corn",
          "Corn",
          "Corn",
          "Corn",
          "Corn",
          "Corn",
          "Corn",
          "Corn",
          "Corn",
          "Corn",
          "Corn",
          "Corn",
          "Corn",
          "Corn",
          "Corn",
          "Corn",
          "Corn",
          "Corn",
          "Corn",
          "Corn",
          "Corn",
          "Corn",
          "Corn",
          "Corn",
          "Corn",
          "Corn",
          "Corn",
          "Corn",
          "Corn",
          "Corn",
          "Corn",
          "Corn",
          "Corn",
          "Corn",
          "Corn",
          "Corn",
          "Corn",
          "Corn",
          "Corn",
          "Corn",
          "Corn",
          "Corn",
          "Corn",
          "Corn",
          "Corn",
          "Corn",
          "Corn",
          "Corn",
          "Corn",
          "Corn",
          "Corn",
          "Corn",
          "Corn",
          "Corn",
          "Corn",
          "Corn",
          "Corn",
          "Corn",
          "Corn",
          "Cotton",
          "Cotton",
          "Cotton",
          "Cotton",
          "Cotton",
          "Cotton",
          "Cotton",
          "Cotton",
          "Cotton",
          "Cotton",
          "Cotton",
          "Cotton",
          "Cotton",
          "Cotton",
          "Cotton",
          "Cotton",
          "Cotton",
          "Cotton",
          "Cotton",
          "Cotton",
          "Cotton",
          "Cotton",
          "Cotton",
          "Cotton",
          "Cotton",
          "Cotton",
          "Cotton",
          "Cotton",
          "Cotton",
          "Cotton",
          "Cotton",
          "Cotton",
          "Cotton",
          "Cotton",
          "Cotton",
          "Cotton",
          "Cotton",
          "Cotton",
          "Cotton",
          "Cotton",
          "Cotton",
          "Cotton",
          "Cotton",
          "Cotton",
          "Cotton",
          "Cotton",
          "Cotton",
          "Cotton",
          "Cotton",
          "Cotton",
          "Cotton",
          "Cotton",
          "Cotton",
          "Cotton",
          "Cotton",
          "Cotton",
          "Cotton",
          "Cotton",
          "Cotton",
          "Cotton",
          "Cotton",
          "Cotton",
          "Cotton",
          "Cotton",
          "Cotton",
          "Cotton",
          "Cotton",
          "Cotton",
          "Cotton",
          "Cotton",
          "Cotton",
          "Cotton",
          "Cotton",
          "Cotton",
          "Cotton",
          "Cotton",
          "Cotton",
          "Cotton",
          "Cotton",
          "Cotton",
          "Cotton",
          "Cotton",
          "Cotton",
          "Cotton",
          "Cotton",
          "Cotton",
          "Cotton",
          "Cotton",
          "Cotton",
          "Cotton",
          "Cotton",
          "Cotton",
          "Cotton",
          "Cotton",
          "Cotton",
          "Cotton",
          "Cotton",
          "Cotton",
          "Cotton",
          "Cotton",
          "Cotton",
          "Cotton",
          "Cotton",
          "Cotton",
          "Cotton",
          "Cotton",
          "Cotton",
          "Cotton",
          "Cotton",
          "Cotton",
          "Cotton",
          "Cotton",
          "Cotton",
          "Cotton",
          "Cotton",
          "Cotton",
          "Cotton",
          "Cotton",
          "Cotton",
          "Cotton",
          "Cotton",
          "Cotton",
          "Cotton",
          "Cotton",
          "Cotton",
          "Cotton",
          "Cotton",
          "Cotton",
          "Cotton",
          "Cotton",
          "Cotton",
          "Cotton",
          "Cotton",
          "Cotton",
          "Cotton",
          "Cotton",
          "Cotton",
          "Cotton",
          "Cotton",
          "Cotton",
          "Cotton",
          "Cotton",
          "Cotton",
          "Cotton",
          "Cotton",
          "Cotton",
          "Cotton",
          "Cotton",
          "Cotton",
          "Cotton",
          "Cotton",
          "Cotton",
          "Cotton",
          "Cotton",
          "Cotton",
          "Cotton",
          "Cotton",
          "Cotton",
          "Cotton",
          "Cotton",
          "Cotton",
          "Cotton",
          "Cotton",
          "Cotton",
          "Cotton",
          "Cotton",
          "Cotton",
          "Cotton",
          "Cotton",
          "Cotton",
          "Cotton",
          "Cotton",
          "Cotton",
          "Cotton",
          "Cotton",
          "Cotton",
          "Cotton",
          "Cotton",
          "Cotton",
          "Cotton",
          "Cotton",
          "Cotton",
          "Cotton",
          "Cotton",
          "Cotton",
          "Cotton",
          "Cotton",
          "Cotton",
          "Cotton",
          "Cotton",
          "Cotton",
          "Cotton",
          "Cotton",
          "Cotton",
          "Cotton",
          "Cotton",
          "Cotton",
          "Cotton",
          "Cotton",
          "Cotton",
          "Cotton",
          "Cotton",
          "Cotton",
          "Cotton",
          "Cotton",
          "Cotton",
          "Cotton",
          "Cotton",
          "Cotton",
          "Cotton",
          "Cotton",
          "Cotton",
          "Cotton",
          "Cotton",
          "Cotton",
          "Cotton",
          "Cotton",
          "Cotton",
          "Cotton",
          "Cotton",
          "Cotton",
          "Cotton",
          "Cotton",
          "Cotton",
          "Cotton",
          "Cotton",
          "Cotton",
          "Cotton",
          "Cotton",
          "Cotton",
          "Cotton",
          "Cotton",
          "Cotton",
          "Cotton",
          "Cotton",
          "Cotton",
          "Cotton",
          "Cotton",
          "Cotton",
          "Cotton"
         ],
         "xaxis": "x",
         "yaxis": "y"
        },
        {
         "alignmentgroup": "True",
         "bingroup": "x",
         "hovertemplate": "Variety=Stacked gene varieties            <br>Crop=%{x}<br>count=%{y}<extra></extra>",
         "legendgroup": "Stacked gene varieties            ",
         "marker": {
          "color": "#FFA15A"
         },
         "name": "Stacked gene varieties            ",
         "offsetgroup": "Stacked gene varieties            ",
         "orientation": "v",
         "showlegend": true,
         "type": "histogram",
         "x": [
          "Cotton",
          "Cotton",
          "Cotton",
          "Cotton",
          "Cotton",
          "Cotton",
          "Cotton",
          "Cotton",
          "Cotton",
          "Cotton",
          "Cotton",
          "Cotton",
          "Cotton",
          "Cotton",
          "Cotton",
          "Cotton",
          "Cotton",
          "Cotton",
          "Cotton",
          "Cotton",
          "Cotton",
          "Cotton",
          "Cotton",
          "Cotton",
          "Cotton",
          "Cotton",
          "Cotton",
          "Cotton",
          "Cotton",
          "Cotton",
          "Cotton",
          "Cotton",
          "Cotton",
          "Cotton",
          "Cotton",
          "Cotton",
          "Cotton",
          "Cotton",
          "Cotton",
          "Cotton",
          "Cotton",
          "Cotton",
          "Cotton",
          "Cotton",
          "Cotton",
          "Cotton",
          "Cotton",
          "Cotton",
          "Cotton",
          "Cotton",
          "Cotton",
          "Cotton",
          "Cotton",
          "Cotton",
          "Cotton",
          "Cotton",
          "Cotton",
          "Cotton",
          "Cotton",
          "Cotton",
          "Cotton",
          "Cotton",
          "Cotton",
          "Cotton",
          "Cotton",
          "Cotton",
          "Cotton",
          "Cotton",
          "Cotton",
          "Cotton",
          "Cotton",
          "Cotton",
          "Cotton",
          "Cotton",
          "Cotton",
          "Cotton",
          "Cotton",
          "Cotton",
          "Cotton",
          "Cotton",
          "Cotton",
          "Cotton",
          "Cotton",
          "Cotton",
          "Cotton",
          "Cotton",
          "Cotton",
          "Cotton",
          "Cotton",
          "Cotton",
          "Cotton",
          "Cotton",
          "Cotton",
          "Cotton",
          "Cotton",
          "Cotton",
          "Cotton",
          "Cotton",
          "Cotton",
          "Cotton",
          "Cotton",
          "Cotton",
          "Cotton",
          "Cotton",
          "Cotton",
          "Cotton",
          "Cotton",
          "Cotton",
          "Cotton",
          "Cotton",
          "Cotton",
          "Cotton",
          "Cotton",
          "Cotton",
          "Cotton",
          "Cotton",
          "Cotton",
          "Cotton",
          "Cotton",
          "Cotton",
          "Cotton",
          "Cotton",
          "Cotton",
          "Cotton",
          "Cotton",
          "Cotton",
          "Cotton",
          "Cotton",
          "Cotton",
          "Cotton",
          "Cotton",
          "Cotton",
          "Cotton",
          "Cotton",
          "Cotton",
          "Cotton",
          "Cotton",
          "Cotton",
          "Cotton",
          "Cotton",
          "Cotton",
          "Cotton",
          "Cotton",
          "Cotton",
          "Cotton",
          "Cotton",
          "Cotton",
          "Cotton",
          "Cotton",
          "Cotton",
          "Cotton",
          "Cotton",
          "Cotton",
          "Cotton",
          "Cotton",
          "Cotton",
          "Cotton",
          "Cotton",
          "Cotton",
          "Cotton",
          "Cotton",
          "Cotton",
          "Cotton",
          "Cotton",
          "Cotton",
          "Cotton",
          "Cotton",
          "Cotton",
          "Cotton",
          "Cotton",
          "Cotton",
          "Cotton",
          "Cotton",
          "Cotton",
          "Cotton",
          "Cotton",
          "Cotton",
          "Cotton",
          "Cotton",
          "Cotton",
          "Cotton",
          "Cotton",
          "Cotton",
          "Cotton",
          "Cotton",
          "Cotton",
          "Cotton",
          "Cotton",
          "Cotton",
          "Cotton",
          "Cotton",
          "Cotton",
          "Cotton",
          "Cotton",
          "Cotton",
          "Cotton",
          "Cotton",
          "Cotton",
          "Cotton",
          "Cotton",
          "Cotton",
          "Cotton",
          "Cotton",
          "Cotton",
          "Cotton",
          "Cotton",
          "Cotton",
          "Cotton",
          "Cotton",
          "Cotton",
          "Cotton",
          "Cotton",
          "Cotton",
          "Cotton",
          "Cotton",
          "Cotton",
          "Cotton",
          "Cotton",
          "Cotton",
          "Cotton",
          "Cotton",
          "Cotton",
          "Cotton",
          "Cotton",
          "Cotton",
          "Cotton",
          "Cotton",
          "Cotton",
          "Cotton",
          "Cotton",
          "Cotton",
          "Cotton",
          "Cotton",
          "Cotton",
          "Cotton",
          "Cotton",
          "Cotton",
          "Cotton",
          "Cotton",
          "Cotton"
         ],
         "xaxis": "x",
         "yaxis": "y"
        },
        {
         "alignmentgroup": "True",
         "bingroup": "x",
         "hovertemplate": "Variety=Herbicide-tolerant only<br>Crop=%{x}<br>count=%{y}<extra></extra>",
         "legendgroup": "Herbicide-tolerant only",
         "marker": {
          "color": "#19d3f3"
         },
         "name": "Herbicide-tolerant only",
         "offsetgroup": "Herbicide-tolerant only",
         "orientation": "v",
         "showlegend": true,
         "type": "histogram",
         "x": [
          "Soybeans",
          "Soybeans",
          "Soybeans",
          "Soybeans",
          "Soybeans",
          "Soybeans",
          "Soybeans",
          "Soybeans",
          "Soybeans",
          "Soybeans",
          "Soybeans",
          "Soybeans",
          "Soybeans",
          "Soybeans",
          "Soybeans",
          "Soybeans",
          "Soybeans",
          "Soybeans",
          "Soybeans",
          "Soybeans",
          "Soybeans",
          "Soybeans",
          "Soybeans",
          "Soybeans",
          "Soybeans",
          "Soybeans",
          "Soybeans",
          "Soybeans",
          "Soybeans",
          "Soybeans",
          "Soybeans",
          "Soybeans",
          "Soybeans",
          "Soybeans",
          "Soybeans",
          "Soybeans",
          "Soybeans",
          "Soybeans",
          "Soybeans",
          "Soybeans",
          "Soybeans",
          "Soybeans",
          "Soybeans",
          "Soybeans",
          "Soybeans",
          "Soybeans",
          "Soybeans",
          "Soybeans",
          "Soybeans",
          "Soybeans",
          "Soybeans",
          "Soybeans",
          "Soybeans",
          "Soybeans",
          "Soybeans",
          "Soybeans",
          "Soybeans",
          "Soybeans",
          "Soybeans",
          "Soybeans",
          "Soybeans",
          "Soybeans",
          "Soybeans",
          "Soybeans",
          "Soybeans",
          "Soybeans",
          "Soybeans",
          "Soybeans",
          "Soybeans",
          "Soybeans",
          "Soybeans",
          "Soybeans",
          "Soybeans",
          "Soybeans",
          "Soybeans",
          "Soybeans",
          "Soybeans",
          "Soybeans",
          "Soybeans",
          "Soybeans",
          "Soybeans",
          "Soybeans",
          "Soybeans",
          "Soybeans",
          "Soybeans",
          "Soybeans",
          "Soybeans",
          "Soybeans",
          "Soybeans",
          "Soybeans",
          "Soybeans",
          "Soybeans",
          "Soybeans",
          "Soybeans",
          "Soybeans",
          "Soybeans",
          "Soybeans",
          "Soybeans",
          "Soybeans",
          "Soybeans",
          "Soybeans",
          "Soybeans",
          "Soybeans",
          "Soybeans",
          "Soybeans",
          "Soybeans",
          "Soybeans",
          "Soybeans",
          "Soybeans",
          "Soybeans",
          "Soybeans",
          "Soybeans",
          "Soybeans",
          "Soybeans",
          "Soybeans",
          "Soybeans",
          "Soybeans",
          "Soybeans",
          "Soybeans",
          "Soybeans",
          "Soybeans",
          "Soybeans",
          "Soybeans",
          "Soybeans",
          "Soybeans",
          "Soybeans",
          "Soybeans",
          "Soybeans",
          "Soybeans",
          "Soybeans",
          "Soybeans",
          "Soybeans",
          "Soybeans",
          "Soybeans",
          "Soybeans",
          "Soybeans",
          "Soybeans",
          "Soybeans",
          "Soybeans",
          "Soybeans",
          "Soybeans",
          "Soybeans",
          "Soybeans",
          "Soybeans",
          "Soybeans",
          "Soybeans",
          "Soybeans",
          "Soybeans",
          "Soybeans",
          "Soybeans",
          "Soybeans",
          "Soybeans",
          "Soybeans",
          "Soybeans",
          "Soybeans",
          "Soybeans",
          "Soybeans",
          "Soybeans",
          "Soybeans",
          "Soybeans",
          "Soybeans",
          "Soybeans",
          "Soybeans",
          "Soybeans",
          "Soybeans",
          "Soybeans",
          "Soybeans",
          "Soybeans",
          "Soybeans",
          "Soybeans",
          "Soybeans",
          "Soybeans",
          "Soybeans",
          "Soybeans",
          "Soybeans",
          "Soybeans",
          "Soybeans",
          "Soybeans",
          "Soybeans",
          "Soybeans",
          "Soybeans",
          "Soybeans",
          "Soybeans",
          "Soybeans",
          "Soybeans",
          "Soybeans",
          "Soybeans",
          "Soybeans",
          "Soybeans",
          "Soybeans",
          "Soybeans",
          "Soybeans",
          "Soybeans",
          "Soybeans",
          "Soybeans",
          "Soybeans",
          "Soybeans",
          "Soybeans",
          "Soybeans",
          "Soybeans",
          "Soybeans",
          "Soybeans",
          "Soybeans",
          "Soybeans",
          "Soybeans",
          "Soybeans",
          "Soybeans",
          "Soybeans",
          "Soybeans",
          "Soybeans",
          "Soybeans",
          "Soybeans",
          "Soybeans",
          "Soybeans",
          "Soybeans",
          "Soybeans",
          "Soybeans",
          "Soybeans",
          "Soybeans",
          "Soybeans",
          "Soybeans",
          "Soybeans",
          "Soybeans",
          "Soybeans",
          "Soybeans",
          "Soybeans",
          "Soybeans",
          "Soybeans",
          "Soybeans",
          "Soybeans",
          "Soybeans",
          "Soybeans",
          "Soybeans",
          "Soybeans",
          "Soybeans",
          "Soybeans",
          "Soybeans",
          "Soybeans",
          "Soybeans",
          "Soybeans",
          "Soybeans",
          "Soybeans",
          "Soybeans",
          "Soybeans",
          "Soybeans",
          "Soybeans",
          "Soybeans",
          "Soybeans",
          "Soybeans",
          "Soybeans",
          "Soybeans",
          "Soybeans",
          "Soybeans",
          "Soybeans",
          "Soybeans",
          "Soybeans",
          "Soybeans",
          "Soybeans",
          "Soybeans",
          "Soybeans",
          "Soybeans",
          "Soybeans",
          "Soybeans",
          "Soybeans",
          "Soybeans",
          "Soybeans",
          "Soybeans",
          "Soybeans",
          "Soybeans",
          "Soybeans",
          "Soybeans",
          "Soybeans",
          "Soybeans",
          "Soybeans",
          "Soybeans",
          "Soybeans",
          "Soybeans",
          "Soybeans",
          "Soybeans",
          "Soybeans",
          "Soybeans",
          "Soybeans",
          "Soybeans",
          "Soybeans",
          "Soybeans",
          "Soybeans",
          "Soybeans",
          "Soybeans",
          "Soybeans",
          "Soybeans",
          "Soybeans",
          "Soybeans",
          "Soybeans",
          "Soybeans",
          "Soybeans",
          "Soybeans",
          "Soybeans",
          "Soybeans",
          "Soybeans",
          "Soybeans",
          "Soybeans",
          "Soybeans",
          "Soybeans",
          "Soybeans",
          "Soybeans",
          "Soybeans",
          "Soybeans",
          "Soybeans",
          "Soybeans",
          "Soybeans",
          "Soybeans",
          "Soybeans",
          "Soybeans",
          "Soybeans",
          "Soybeans",
          "Soybeans",
          "Soybeans",
          "Soybeans",
          "Soybeans",
          "Soybeans"
         ],
         "xaxis": "x",
         "yaxis": "y"
        },
        {
         "alignmentgroup": "True",
         "bingroup": "x",
         "hovertemplate": "Variety=All GE varieties <br>Crop=%{x}<br>count=%{y}<extra></extra>",
         "legendgroup": "All GE varieties ",
         "marker": {
          "color": "#FF6692"
         },
         "name": "All GE varieties ",
         "offsetgroup": "All GE varieties ",
         "orientation": "v",
         "showlegend": true,
         "type": "histogram",
         "x": [
          "Soybeans",
          "Soybeans",
          "Soybeans",
          "Soybeans",
          "Soybeans",
          "Soybeans",
          "Soybeans",
          "Soybeans",
          "Soybeans",
          "Soybeans",
          "Soybeans",
          "Soybeans",
          "Soybeans",
          "Soybeans",
          "Soybeans",
          "Soybeans",
          "Soybeans",
          "Soybeans",
          "Soybeans",
          "Soybeans",
          "Soybeans",
          "Soybeans",
          "Soybeans",
          "Soybeans",
          "Soybeans",
          "Soybeans",
          "Soybeans",
          "Soybeans",
          "Soybeans",
          "Soybeans",
          "Soybeans",
          "Soybeans",
          "Soybeans",
          "Soybeans",
          "Soybeans",
          "Soybeans",
          "Soybeans",
          "Soybeans",
          "Soybeans",
          "Soybeans",
          "Soybeans",
          "Soybeans",
          "Soybeans",
          "Soybeans",
          "Soybeans",
          "Soybeans",
          "Soybeans",
          "Soybeans",
          "Soybeans",
          "Soybeans",
          "Soybeans",
          "Soybeans",
          "Soybeans",
          "Soybeans",
          "Soybeans",
          "Soybeans",
          "Soybeans",
          "Soybeans",
          "Soybeans",
          "Soybeans",
          "Soybeans",
          "Soybeans",
          "Soybeans",
          "Soybeans",
          "Soybeans",
          "Soybeans",
          "Soybeans",
          "Soybeans",
          "Soybeans",
          "Soybeans",
          "Soybeans",
          "Soybeans",
          "Soybeans",
          "Soybeans",
          "Soybeans",
          "Soybeans",
          "Soybeans",
          "Soybeans",
          "Soybeans",
          "Soybeans",
          "Soybeans",
          "Soybeans",
          "Soybeans",
          "Soybeans",
          "Soybeans",
          "Soybeans",
          "Soybeans",
          "Soybeans",
          "Soybeans",
          "Soybeans",
          "Soybeans",
          "Soybeans",
          "Soybeans",
          "Soybeans",
          "Soybeans",
          "Soybeans",
          "Soybeans",
          "Soybeans",
          "Soybeans",
          "Soybeans",
          "Soybeans",
          "Soybeans",
          "Soybeans",
          "Soybeans",
          "Soybeans",
          "Soybeans",
          "Soybeans",
          "Soybeans",
          "Soybeans",
          "Soybeans",
          "Soybeans",
          "Soybeans",
          "Soybeans",
          "Soybeans",
          "Soybeans",
          "Soybeans",
          "Soybeans",
          "Soybeans",
          "Soybeans",
          "Soybeans",
          "Soybeans",
          "Soybeans",
          "Soybeans",
          "Soybeans",
          "Soybeans",
          "Soybeans",
          "Soybeans",
          "Soybeans",
          "Soybeans",
          "Soybeans",
          "Soybeans",
          "Soybeans",
          "Soybeans",
          "Soybeans",
          "Soybeans",
          "Soybeans",
          "Soybeans",
          "Soybeans",
          "Soybeans",
          "Soybeans",
          "Soybeans",
          "Soybeans",
          "Soybeans",
          "Soybeans",
          "Soybeans",
          "Soybeans",
          "Soybeans",
          "Soybeans",
          "Soybeans",
          "Soybeans",
          "Soybeans",
          "Soybeans",
          "Soybeans",
          "Soybeans",
          "Soybeans",
          "Soybeans",
          "Soybeans",
          "Soybeans",
          "Soybeans",
          "Soybeans",
          "Soybeans",
          "Soybeans",
          "Soybeans",
          "Soybeans",
          "Soybeans",
          "Soybeans",
          "Soybeans",
          "Soybeans",
          "Soybeans",
          "Soybeans",
          "Soybeans",
          "Soybeans",
          "Soybeans",
          "Soybeans",
          "Soybeans",
          "Soybeans",
          "Soybeans",
          "Soybeans",
          "Soybeans",
          "Soybeans",
          "Soybeans",
          "Soybeans",
          "Soybeans",
          "Soybeans",
          "Soybeans",
          "Soybeans",
          "Soybeans",
          "Soybeans",
          "Soybeans",
          "Soybeans",
          "Soybeans",
          "Soybeans",
          "Soybeans",
          "Soybeans",
          "Soybeans",
          "Soybeans",
          "Soybeans",
          "Soybeans",
          "Soybeans",
          "Soybeans",
          "Soybeans",
          "Soybeans",
          "Soybeans",
          "Soybeans",
          "Soybeans",
          "Soybeans",
          "Soybeans",
          "Soybeans",
          "Soybeans",
          "Soybeans",
          "Soybeans",
          "Soybeans",
          "Soybeans",
          "Soybeans",
          "Soybeans",
          "Soybeans",
          "Soybeans",
          "Soybeans",
          "Soybeans",
          "Soybeans",
          "Soybeans",
          "Soybeans",
          "Soybeans",
          "Soybeans",
          "Soybeans",
          "Soybeans",
          "Soybeans",
          "Soybeans",
          "Soybeans",
          "Soybeans",
          "Soybeans",
          "Soybeans",
          "Soybeans",
          "Soybeans",
          "Soybeans",
          "Soybeans",
          "Soybeans",
          "Soybeans",
          "Soybeans",
          "Soybeans",
          "Soybeans",
          "Soybeans",
          "Soybeans",
          "Soybeans",
          "Soybeans",
          "Soybeans",
          "Soybeans",
          "Soybeans",
          "Soybeans",
          "Soybeans",
          "Soybeans",
          "Soybeans",
          "Soybeans",
          "Soybeans",
          "Soybeans",
          "Soybeans",
          "Soybeans",
          "Soybeans",
          "Soybeans",
          "Soybeans",
          "Soybeans",
          "Soybeans",
          "Soybeans",
          "Soybeans",
          "Soybeans",
          "Soybeans",
          "Soybeans",
          "Soybeans",
          "Soybeans",
          "Soybeans",
          "Soybeans",
          "Soybeans",
          "Soybeans",
          "Soybeans",
          "Soybeans",
          "Soybeans",
          "Soybeans",
          "Soybeans",
          "Soybeans",
          "Soybeans",
          "Soybeans",
          "Soybeans",
          "Soybeans",
          "Soybeans",
          "Soybeans",
          "Soybeans",
          "Soybeans",
          "Soybeans",
          "Soybeans",
          "Soybeans",
          "Soybeans",
          "Soybeans",
          "Soybeans",
          "Soybeans",
          "Soybeans",
          "Soybeans",
          "Soybeans",
          "Soybeans",
          "Soybeans",
          "Soybeans",
          "Soybeans",
          "Soybeans",
          "Soybeans",
          "Soybeans",
          "Soybeans",
          "Soybeans",
          "Soybeans",
          "Soybeans",
          "Soybeans",
          "Soybeans",
          "Soybeans",
          "Soybeans",
          "Soybeans",
          "Soybeans",
          "Soybeans",
          "Soybeans",
          "Soybeans",
          "Soybeans",
          "Soybeans",
          "Soybeans"
         ],
         "xaxis": "x",
         "yaxis": "y"
        }
       ],
       "layout": {
        "barmode": "relative",
        "legend": {
         "title": {
          "text": "Variety"
         },
         "tracegroupgap": 0
        },
        "template": {
         "data": {
          "bar": [
           {
            "error_x": {
             "color": "#2a3f5f"
            },
            "error_y": {
             "color": "#2a3f5f"
            },
            "marker": {
             "line": {
              "color": "#E5ECF6",
              "width": 0.5
             }
            },
            "type": "bar"
           }
          ],
          "barpolar": [
           {
            "marker": {
             "line": {
              "color": "#E5ECF6",
              "width": 0.5
             }
            },
            "type": "barpolar"
           }
          ],
          "carpet": [
           {
            "aaxis": {
             "endlinecolor": "#2a3f5f",
             "gridcolor": "white",
             "linecolor": "white",
             "minorgridcolor": "white",
             "startlinecolor": "#2a3f5f"
            },
            "baxis": {
             "endlinecolor": "#2a3f5f",
             "gridcolor": "white",
             "linecolor": "white",
             "minorgridcolor": "white",
             "startlinecolor": "#2a3f5f"
            },
            "type": "carpet"
           }
          ],
          "choropleth": [
           {
            "colorbar": {
             "outlinewidth": 0,
             "ticks": ""
            },
            "type": "choropleth"
           }
          ],
          "contour": [
           {
            "colorbar": {
             "outlinewidth": 0,
             "ticks": ""
            },
            "colorscale": [
             [
              0,
              "#0d0887"
             ],
             [
              0.1111111111111111,
              "#46039f"
             ],
             [
              0.2222222222222222,
              "#7201a8"
             ],
             [
              0.3333333333333333,
              "#9c179e"
             ],
             [
              0.4444444444444444,
              "#bd3786"
             ],
             [
              0.5555555555555556,
              "#d8576b"
             ],
             [
              0.6666666666666666,
              "#ed7953"
             ],
             [
              0.7777777777777778,
              "#fb9f3a"
             ],
             [
              0.8888888888888888,
              "#fdca26"
             ],
             [
              1,
              "#f0f921"
             ]
            ],
            "type": "contour"
           }
          ],
          "contourcarpet": [
           {
            "colorbar": {
             "outlinewidth": 0,
             "ticks": ""
            },
            "type": "contourcarpet"
           }
          ],
          "heatmap": [
           {
            "colorbar": {
             "outlinewidth": 0,
             "ticks": ""
            },
            "colorscale": [
             [
              0,
              "#0d0887"
             ],
             [
              0.1111111111111111,
              "#46039f"
             ],
             [
              0.2222222222222222,
              "#7201a8"
             ],
             [
              0.3333333333333333,
              "#9c179e"
             ],
             [
              0.4444444444444444,
              "#bd3786"
             ],
             [
              0.5555555555555556,
              "#d8576b"
             ],
             [
              0.6666666666666666,
              "#ed7953"
             ],
             [
              0.7777777777777778,
              "#fb9f3a"
             ],
             [
              0.8888888888888888,
              "#fdca26"
             ],
             [
              1,
              "#f0f921"
             ]
            ],
            "type": "heatmap"
           }
          ],
          "heatmapgl": [
           {
            "colorbar": {
             "outlinewidth": 0,
             "ticks": ""
            },
            "colorscale": [
             [
              0,
              "#0d0887"
             ],
             [
              0.1111111111111111,
              "#46039f"
             ],
             [
              0.2222222222222222,
              "#7201a8"
             ],
             [
              0.3333333333333333,
              "#9c179e"
             ],
             [
              0.4444444444444444,
              "#bd3786"
             ],
             [
              0.5555555555555556,
              "#d8576b"
             ],
             [
              0.6666666666666666,
              "#ed7953"
             ],
             [
              0.7777777777777778,
              "#fb9f3a"
             ],
             [
              0.8888888888888888,
              "#fdca26"
             ],
             [
              1,
              "#f0f921"
             ]
            ],
            "type": "heatmapgl"
           }
          ],
          "histogram": [
           {
            "marker": {
             "colorbar": {
              "outlinewidth": 0,
              "ticks": ""
             }
            },
            "type": "histogram"
           }
          ],
          "histogram2d": [
           {
            "colorbar": {
             "outlinewidth": 0,
             "ticks": ""
            },
            "colorscale": [
             [
              0,
              "#0d0887"
             ],
             [
              0.1111111111111111,
              "#46039f"
             ],
             [
              0.2222222222222222,
              "#7201a8"
             ],
             [
              0.3333333333333333,
              "#9c179e"
             ],
             [
              0.4444444444444444,
              "#bd3786"
             ],
             [
              0.5555555555555556,
              "#d8576b"
             ],
             [
              0.6666666666666666,
              "#ed7953"
             ],
             [
              0.7777777777777778,
              "#fb9f3a"
             ],
             [
              0.8888888888888888,
              "#fdca26"
             ],
             [
              1,
              "#f0f921"
             ]
            ],
            "type": "histogram2d"
           }
          ],
          "histogram2dcontour": [
           {
            "colorbar": {
             "outlinewidth": 0,
             "ticks": ""
            },
            "colorscale": [
             [
              0,
              "#0d0887"
             ],
             [
              0.1111111111111111,
              "#46039f"
             ],
             [
              0.2222222222222222,
              "#7201a8"
             ],
             [
              0.3333333333333333,
              "#9c179e"
             ],
             [
              0.4444444444444444,
              "#bd3786"
             ],
             [
              0.5555555555555556,
              "#d8576b"
             ],
             [
              0.6666666666666666,
              "#ed7953"
             ],
             [
              0.7777777777777778,
              "#fb9f3a"
             ],
             [
              0.8888888888888888,
              "#fdca26"
             ],
             [
              1,
              "#f0f921"
             ]
            ],
            "type": "histogram2dcontour"
           }
          ],
          "mesh3d": [
           {
            "colorbar": {
             "outlinewidth": 0,
             "ticks": ""
            },
            "type": "mesh3d"
           }
          ],
          "parcoords": [
           {
            "line": {
             "colorbar": {
              "outlinewidth": 0,
              "ticks": ""
             }
            },
            "type": "parcoords"
           }
          ],
          "pie": [
           {
            "automargin": true,
            "type": "pie"
           }
          ],
          "scatter": [
           {
            "marker": {
             "colorbar": {
              "outlinewidth": 0,
              "ticks": ""
             }
            },
            "type": "scatter"
           }
          ],
          "scatter3d": [
           {
            "line": {
             "colorbar": {
              "outlinewidth": 0,
              "ticks": ""
             }
            },
            "marker": {
             "colorbar": {
              "outlinewidth": 0,
              "ticks": ""
             }
            },
            "type": "scatter3d"
           }
          ],
          "scattercarpet": [
           {
            "marker": {
             "colorbar": {
              "outlinewidth": 0,
              "ticks": ""
             }
            },
            "type": "scattercarpet"
           }
          ],
          "scattergeo": [
           {
            "marker": {
             "colorbar": {
              "outlinewidth": 0,
              "ticks": ""
             }
            },
            "type": "scattergeo"
           }
          ],
          "scattergl": [
           {
            "marker": {
             "colorbar": {
              "outlinewidth": 0,
              "ticks": ""
             }
            },
            "type": "scattergl"
           }
          ],
          "scattermapbox": [
           {
            "marker": {
             "colorbar": {
              "outlinewidth": 0,
              "ticks": ""
             }
            },
            "type": "scattermapbox"
           }
          ],
          "scatterpolar": [
           {
            "marker": {
             "colorbar": {
              "outlinewidth": 0,
              "ticks": ""
             }
            },
            "type": "scatterpolar"
           }
          ],
          "scatterpolargl": [
           {
            "marker": {
             "colorbar": {
              "outlinewidth": 0,
              "ticks": ""
             }
            },
            "type": "scatterpolargl"
           }
          ],
          "scatterternary": [
           {
            "marker": {
             "colorbar": {
              "outlinewidth": 0,
              "ticks": ""
             }
            },
            "type": "scatterternary"
           }
          ],
          "surface": [
           {
            "colorbar": {
             "outlinewidth": 0,
             "ticks": ""
            },
            "colorscale": [
             [
              0,
              "#0d0887"
             ],
             [
              0.1111111111111111,
              "#46039f"
             ],
             [
              0.2222222222222222,
              "#7201a8"
             ],
             [
              0.3333333333333333,
              "#9c179e"
             ],
             [
              0.4444444444444444,
              "#bd3786"
             ],
             [
              0.5555555555555556,
              "#d8576b"
             ],
             [
              0.6666666666666666,
              "#ed7953"
             ],
             [
              0.7777777777777778,
              "#fb9f3a"
             ],
             [
              0.8888888888888888,
              "#fdca26"
             ],
             [
              1,
              "#f0f921"
             ]
            ],
            "type": "surface"
           }
          ],
          "table": [
           {
            "cells": {
             "fill": {
              "color": "#EBF0F8"
             },
             "line": {
              "color": "white"
             }
            },
            "header": {
             "fill": {
              "color": "#C8D4E3"
             },
             "line": {
              "color": "white"
             }
            },
            "type": "table"
           }
          ]
         },
         "layout": {
          "annotationdefaults": {
           "arrowcolor": "#2a3f5f",
           "arrowhead": 0,
           "arrowwidth": 1
          },
          "coloraxis": {
           "colorbar": {
            "outlinewidth": 0,
            "ticks": ""
           }
          },
          "colorscale": {
           "diverging": [
            [
             0,
             "#8e0152"
            ],
            [
             0.1,
             "#c51b7d"
            ],
            [
             0.2,
             "#de77ae"
            ],
            [
             0.3,
             "#f1b6da"
            ],
            [
             0.4,
             "#fde0ef"
            ],
            [
             0.5,
             "#f7f7f7"
            ],
            [
             0.6,
             "#e6f5d0"
            ],
            [
             0.7,
             "#b8e186"
            ],
            [
             0.8,
             "#7fbc41"
            ],
            [
             0.9,
             "#4d9221"
            ],
            [
             1,
             "#276419"
            ]
           ],
           "sequential": [
            [
             0,
             "#0d0887"
            ],
            [
             0.1111111111111111,
             "#46039f"
            ],
            [
             0.2222222222222222,
             "#7201a8"
            ],
            [
             0.3333333333333333,
             "#9c179e"
            ],
            [
             0.4444444444444444,
             "#bd3786"
            ],
            [
             0.5555555555555556,
             "#d8576b"
            ],
            [
             0.6666666666666666,
             "#ed7953"
            ],
            [
             0.7777777777777778,
             "#fb9f3a"
            ],
            [
             0.8888888888888888,
             "#fdca26"
            ],
            [
             1,
             "#f0f921"
            ]
           ],
           "sequentialminus": [
            [
             0,
             "#0d0887"
            ],
            [
             0.1111111111111111,
             "#46039f"
            ],
            [
             0.2222222222222222,
             "#7201a8"
            ],
            [
             0.3333333333333333,
             "#9c179e"
            ],
            [
             0.4444444444444444,
             "#bd3786"
            ],
            [
             0.5555555555555556,
             "#d8576b"
            ],
            [
             0.6666666666666666,
             "#ed7953"
            ],
            [
             0.7777777777777778,
             "#fb9f3a"
            ],
            [
             0.8888888888888888,
             "#fdca26"
            ],
            [
             1,
             "#f0f921"
            ]
           ]
          },
          "colorway": [
           "#636efa",
           "#EF553B",
           "#00cc96",
           "#ab63fa",
           "#FFA15A",
           "#19d3f3",
           "#FF6692",
           "#B6E880",
           "#FF97FF",
           "#FECB52"
          ],
          "font": {
           "color": "#2a3f5f"
          },
          "geo": {
           "bgcolor": "white",
           "lakecolor": "white",
           "landcolor": "#E5ECF6",
           "showlakes": true,
           "showland": true,
           "subunitcolor": "white"
          },
          "hoverlabel": {
           "align": "left"
          },
          "hovermode": "closest",
          "mapbox": {
           "style": "light"
          },
          "paper_bgcolor": "white",
          "plot_bgcolor": "#E5ECF6",
          "polar": {
           "angularaxis": {
            "gridcolor": "white",
            "linecolor": "white",
            "ticks": ""
           },
           "bgcolor": "#E5ECF6",
           "radialaxis": {
            "gridcolor": "white",
            "linecolor": "white",
            "ticks": ""
           }
          },
          "scene": {
           "xaxis": {
            "backgroundcolor": "#E5ECF6",
            "gridcolor": "white",
            "gridwidth": 2,
            "linecolor": "white",
            "showbackground": true,
            "ticks": "",
            "zerolinecolor": "white"
           },
           "yaxis": {
            "backgroundcolor": "#E5ECF6",
            "gridcolor": "white",
            "gridwidth": 2,
            "linecolor": "white",
            "showbackground": true,
            "ticks": "",
            "zerolinecolor": "white"
           },
           "zaxis": {
            "backgroundcolor": "#E5ECF6",
            "gridcolor": "white",
            "gridwidth": 2,
            "linecolor": "white",
            "showbackground": true,
            "ticks": "",
            "zerolinecolor": "white"
           }
          },
          "shapedefaults": {
           "line": {
            "color": "#2a3f5f"
           }
          },
          "ternary": {
           "aaxis": {
            "gridcolor": "white",
            "linecolor": "white",
            "ticks": ""
           },
           "baxis": {
            "gridcolor": "white",
            "linecolor": "white",
            "ticks": ""
           },
           "bgcolor": "#E5ECF6",
           "caxis": {
            "gridcolor": "white",
            "linecolor": "white",
            "ticks": ""
           }
          },
          "title": {
           "x": 0.05
          },
          "xaxis": {
           "automargin": true,
           "gridcolor": "white",
           "linecolor": "white",
           "ticks": "",
           "title": {
            "standoff": 15
           },
           "zerolinecolor": "white",
           "zerolinewidth": 2
          },
          "yaxis": {
           "automargin": true,
           "gridcolor": "white",
           "linecolor": "white",
           "ticks": "",
           "title": {
            "standoff": 15
           },
           "zerolinecolor": "white",
           "zerolinewidth": 2
          }
         }
        },
        "title": {
         "text": "Breakdown of GMO Varieties in top 90% of crops"
        },
        "xaxis": {
         "anchor": "y",
         "domain": [
          0,
          1
         ],
         "title": {
          "text": "Crop"
         }
        },
        "yaxis": {
         "anchor": "x",
         "domain": [
          0,
          1
         ],
         "title": {
          "text": "count"
         }
        }
       }
      },
      "text/html": [
       "<div>\n",
       "        \n",
       "        \n",
       "            <div id=\"9c40c7c8-b923-4913-8542-4e9703deff4d\" class=\"plotly-graph-div\" style=\"height:525px; width:100%;\"></div>\n",
       "            <script type=\"text/javascript\">\n",
       "                require([\"plotly\"], function(Plotly) {\n",
       "                    window.PLOTLYENV=window.PLOTLYENV || {};\n",
       "                    \n",
       "                if (document.getElementById(\"9c40c7c8-b923-4913-8542-4e9703deff4d\")) {\n",
       "                    Plotly.newPlot(\n",
       "                        '9c40c7c8-b923-4913-8542-4e9703deff4d',\n",
       "                        [{\"alignmentgroup\": \"True\", \"bingroup\": \"x\", \"hovertemplate\": \"Variety=Insect-resistant (Bt) only                                           <br>Crop=%{x}<br>count=%{y}<extra></extra>\", \"legendgroup\": \"Insect-resistant (Bt) only                                           \", \"marker\": {\"color\": \"#636efa\"}, \"name\": \"Insect-resistant (Bt) only                                           \", \"offsetgroup\": \"Insect-resistant (Bt) only                                           \", \"orientation\": \"v\", \"showlegend\": true, \"type\": \"histogram\", \"x\": [\"Corn\", \"Corn\", \"Corn\", \"Corn\", \"Corn\", \"Corn\", \"Corn\", \"Corn\", \"Corn\", \"Corn\", \"Corn\", \"Corn\", \"Corn\", \"Corn\", \"Corn\", \"Corn\", \"Corn\", \"Corn\", \"Corn\", \"Corn\", \"Corn\", \"Corn\", \"Corn\", \"Corn\", \"Corn\", \"Corn\", \"Corn\", \"Corn\", \"Corn\", \"Corn\", \"Corn\", \"Corn\", \"Corn\", \"Corn\", \"Corn\", \"Corn\", \"Corn\", \"Corn\", \"Corn\", \"Corn\", \"Corn\", \"Corn\", \"Corn\", \"Corn\", \"Corn\", \"Corn\", \"Corn\", \"Corn\", \"Corn\", \"Corn\", \"Corn\", \"Corn\", \"Corn\", \"Corn\", \"Corn\", \"Corn\", \"Corn\", \"Corn\", \"Corn\", \"Corn\", \"Corn\", \"Corn\", \"Corn\", \"Corn\", \"Corn\", \"Corn\", \"Corn\", \"Corn\", \"Corn\", \"Corn\", \"Corn\", \"Corn\", \"Corn\", \"Corn\", \"Corn\", \"Corn\", \"Corn\", \"Corn\", \"Corn\", \"Corn\", \"Corn\", \"Corn\", \"Corn\", \"Corn\", \"Corn\", \"Corn\", \"Corn\", \"Corn\", \"Corn\", \"Corn\", \"Corn\", \"Corn\", \"Corn\", \"Corn\", \"Corn\", \"Corn\", \"Corn\", \"Corn\", \"Corn\", \"Corn\", \"Corn\", \"Corn\", \"Corn\", \"Corn\", \"Corn\", \"Corn\", \"Corn\", \"Corn\", \"Corn\", \"Corn\", \"Corn\", \"Corn\", \"Corn\", \"Corn\", \"Corn\", \"Corn\", \"Corn\", \"Corn\", \"Corn\", \"Corn\", \"Corn\", \"Corn\", \"Corn\", \"Corn\", \"Corn\", \"Corn\", \"Corn\", \"Corn\", \"Corn\", \"Corn\", \"Corn\", \"Corn\", \"Corn\", \"Corn\", \"Corn\", \"Corn\", \"Corn\", \"Corn\", \"Corn\", \"Corn\", \"Corn\", \"Corn\", \"Corn\", \"Corn\", \"Corn\", \"Corn\", \"Corn\", \"Corn\", \"Corn\", \"Corn\", \"Corn\", \"Corn\", \"Corn\", \"Corn\", \"Corn\", \"Corn\", \"Corn\", \"Corn\", \"Corn\", \"Corn\", \"Corn\", \"Corn\", \"Corn\", \"Corn\", \"Corn\", \"Corn\", \"Corn\", \"Corn\", \"Corn\", \"Corn\", \"Corn\", \"Corn\", \"Corn\", \"Corn\", \"Corn\", \"Corn\", \"Corn\", \"Corn\", \"Corn\", \"Corn\", \"Corn\", \"Corn\", \"Corn\", \"Corn\", \"Corn\", \"Corn\", \"Corn\", \"Corn\", \"Corn\", \"Corn\", \"Corn\", \"Corn\", \"Corn\", \"Corn\", \"Corn\", \"Corn\", \"Corn\", \"Corn\", \"Corn\", \"Corn\", \"Corn\", \"Corn\", \"Corn\", \"Corn\", \"Corn\", \"Corn\", \"Corn\", \"Corn\", \"Corn\", \"Corn\", \"Corn\", \"Corn\", \"Corn\", \"Corn\", \"Corn\", \"Corn\", \"Corn\", \"Corn\", \"Corn\", \"Corn\", \"Corn\", \"Corn\", \"Corn\", \"Corn\", \"Corn\", \"Corn\", \"Corn\", \"Corn\", \"Corn\", \"Corn\", \"Corn\", \"Corn\", \"Corn\", \"Corn\", \"Corn\", \"Corn\", \"Corn\", \"Corn\", \"Corn\", \"Corn\", \"Corn\", \"Corn\", \"Corn\", \"Corn\", \"Corn\", \"Corn\", \"Corn\", \"Corn\", \"Corn\", \"Corn\", \"Corn\", \"Corn\", \"Corn\", \"Corn\", \"Corn\", \"Corn\", \"Corn\", \"Corn\", \"Corn\", \"Corn\", \"Corn\", \"Corn\", \"Corn\", \"Corn\", \"Corn\", \"Corn\", \"Corn\", \"Corn\", \"Corn\", \"Corn\", \"Corn\", \"Corn\", \"Corn\", \"Corn\", \"Corn\", \"Corn\", \"Corn\", \"Corn\", \"Corn\", \"Corn\", \"Corn\", \"Corn\", \"Corn\", \"Corn\", \"Corn\", \"Corn\", \"Corn\", \"Corn\", \"Corn\", \"Corn\", \"Corn\", \"Corn\", \"Corn\", \"Corn\", \"Corn\", \"Corn\", \"Corn\", \"Corn\", \"Corn\", \"Corn\", \"Cotton\", \"Cotton\", \"Cotton\", \"Cotton\", \"Cotton\", \"Cotton\", \"Cotton\", \"Cotton\", \"Cotton\", \"Cotton\", \"Cotton\", \"Cotton\", \"Cotton\", \"Cotton\", \"Cotton\", \"Cotton\", \"Cotton\", \"Cotton\", \"Cotton\", \"Cotton\", \"Cotton\", \"Cotton\", \"Cotton\", \"Cotton\", \"Cotton\", \"Cotton\", \"Cotton\", \"Cotton\", \"Cotton\", \"Cotton\", \"Cotton\", \"Cotton\", \"Cotton\", \"Cotton\", \"Cotton\", \"Cotton\", \"Cotton\", \"Cotton\", \"Cotton\", \"Cotton\", \"Cotton\", \"Cotton\", \"Cotton\", \"Cotton\", \"Cotton\", \"Cotton\", \"Cotton\", \"Cotton\", \"Cotton\", \"Cotton\", \"Cotton\", \"Cotton\", \"Cotton\", \"Cotton\", \"Cotton\", \"Cotton\", \"Cotton\", \"Cotton\", \"Cotton\", \"Cotton\", \"Cotton\", \"Cotton\", \"Cotton\", \"Cotton\", \"Cotton\", \"Cotton\", \"Cotton\", \"Cotton\", \"Cotton\", \"Cotton\", \"Cotton\", \"Cotton\", \"Cotton\", \"Cotton\", \"Cotton\", \"Cotton\", \"Cotton\", \"Cotton\", \"Cotton\", \"Cotton\", \"Cotton\", \"Cotton\", \"Cotton\", \"Cotton\", \"Cotton\", \"Cotton\", \"Cotton\", \"Cotton\", \"Cotton\", \"Cotton\", \"Cotton\", \"Cotton\", \"Cotton\", \"Cotton\", \"Cotton\", \"Cotton\", \"Cotton\", \"Cotton\", \"Cotton\", \"Cotton\", \"Cotton\", \"Cotton\", \"Cotton\", \"Cotton\", \"Cotton\", \"Cotton\", \"Cotton\", \"Cotton\", \"Cotton\", \"Cotton\", \"Cotton\", \"Cotton\", \"Cotton\", \"Cotton\", \"Cotton\", \"Cotton\", \"Cotton\", \"Cotton\", \"Cotton\", \"Cotton\", \"Cotton\", \"Cotton\", \"Cotton\", \"Cotton\", \"Cotton\", \"Cotton\", \"Cotton\", \"Cotton\", \"Cotton\", \"Cotton\", \"Cotton\", \"Cotton\", \"Cotton\", \"Cotton\", \"Cotton\", \"Cotton\", \"Cotton\", \"Cotton\", \"Cotton\", \"Cotton\", \"Cotton\", \"Cotton\", \"Cotton\", \"Cotton\", \"Cotton\", \"Cotton\", \"Cotton\", \"Cotton\", \"Cotton\", \"Cotton\", \"Cotton\", \"Cotton\", \"Cotton\", \"Cotton\", \"Cotton\", \"Cotton\", \"Cotton\", \"Cotton\", \"Cotton\", \"Cotton\", \"Cotton\", \"Cotton\", \"Cotton\", \"Cotton\", \"Cotton\", \"Cotton\", \"Cotton\", \"Cotton\", \"Cotton\", \"Cotton\", \"Cotton\", \"Cotton\", \"Cotton\", \"Cotton\", \"Cotton\", \"Cotton\", \"Cotton\", \"Cotton\", \"Cotton\", \"Cotton\", \"Cotton\", \"Cotton\", \"Cotton\", \"Cotton\", \"Cotton\", \"Cotton\", \"Cotton\", \"Cotton\", \"Cotton\", \"Cotton\", \"Cotton\", \"Cotton\", \"Cotton\", \"Cotton\", \"Cotton\", \"Cotton\", \"Cotton\", \"Cotton\", \"Cotton\", \"Cotton\", \"Cotton\", \"Cotton\", \"Cotton\", \"Cotton\", \"Cotton\", \"Cotton\", \"Cotton\", \"Cotton\", \"Cotton\", \"Cotton\", \"Cotton\", \"Cotton\", \"Cotton\", \"Cotton\", \"Cotton\", \"Cotton\", \"Cotton\", \"Cotton\", \"Cotton\", \"Cotton\", \"Cotton\", \"Cotton\", \"Cotton\", \"Cotton\", \"Cotton\", \"Cotton\", \"Cotton\", \"Cotton\", \"Cotton\", \"Cotton\", \"Cotton\", \"Cotton\", \"Cotton\", \"Cotton\", \"Cotton\", \"Cotton\", \"Cotton\", \"Cotton\", \"Cotton\", \"Cotton\"], \"xaxis\": \"x\", \"yaxis\": \"y\"}, {\"alignmentgroup\": \"True\", \"bingroup\": \"x\", \"hovertemplate\": \"Variety=Herbicide-tolerant only                                           <br>Crop=%{x}<br>count=%{y}<extra></extra>\", \"legendgroup\": \"Herbicide-tolerant only                                           \", \"marker\": {\"color\": \"#EF553B\"}, \"name\": \"Herbicide-tolerant only                                           \", \"offsetgroup\": \"Herbicide-tolerant only                                           \", \"orientation\": \"v\", \"showlegend\": true, \"type\": \"histogram\", \"x\": [\"Corn\", \"Corn\", \"Corn\", \"Corn\", \"Corn\", \"Corn\", \"Corn\", \"Corn\", \"Corn\", \"Corn\", \"Corn\", \"Corn\", \"Corn\", \"Corn\", \"Corn\", \"Corn\", \"Corn\", \"Corn\", \"Corn\", \"Corn\", \"Corn\", \"Corn\", \"Corn\", \"Corn\", \"Corn\", \"Corn\", \"Corn\", \"Corn\", \"Corn\", \"Corn\", \"Corn\", \"Corn\", \"Corn\", \"Corn\", \"Corn\", \"Corn\", \"Corn\", \"Corn\", \"Corn\", \"Corn\", \"Corn\", \"Corn\", \"Corn\", \"Corn\", \"Corn\", \"Corn\", \"Corn\", \"Corn\", \"Corn\", \"Corn\", \"Corn\", \"Corn\", \"Corn\", \"Corn\", \"Corn\", \"Corn\", \"Corn\", \"Corn\", \"Corn\", \"Corn\", \"Corn\", \"Corn\", \"Corn\", \"Corn\", \"Corn\", \"Corn\", \"Corn\", \"Corn\", \"Corn\", \"Corn\", \"Corn\", \"Corn\", \"Corn\", \"Corn\", \"Corn\", \"Corn\", \"Corn\", \"Corn\", \"Corn\", \"Corn\", \"Corn\", \"Corn\", \"Corn\", \"Corn\", \"Corn\", \"Corn\", \"Corn\", \"Corn\", \"Corn\", \"Corn\", \"Corn\", \"Corn\", \"Corn\", \"Corn\", \"Corn\", \"Corn\", \"Corn\", \"Corn\", \"Corn\", \"Corn\", \"Corn\", \"Corn\", \"Corn\", \"Corn\", \"Corn\", \"Corn\", \"Corn\", \"Corn\", \"Corn\", \"Corn\", \"Corn\", \"Corn\", \"Corn\", \"Corn\", \"Corn\", \"Corn\", \"Corn\", \"Corn\", \"Corn\", \"Corn\", \"Corn\", \"Corn\", \"Corn\", \"Corn\", \"Corn\", \"Corn\", \"Corn\", \"Corn\", \"Corn\", \"Corn\", \"Corn\", \"Corn\", \"Corn\", \"Corn\", \"Corn\", \"Corn\", \"Corn\", \"Corn\", \"Corn\", \"Corn\", \"Corn\", \"Corn\", \"Corn\", \"Corn\", \"Corn\", \"Corn\", \"Corn\", \"Corn\", \"Corn\", \"Corn\", \"Corn\", \"Corn\", \"Corn\", \"Corn\", \"Corn\", \"Corn\", \"Corn\", \"Corn\", \"Corn\", \"Corn\", \"Corn\", \"Corn\", \"Corn\", \"Corn\", \"Corn\", \"Corn\", \"Corn\", \"Corn\", \"Corn\", \"Corn\", \"Corn\", \"Corn\", \"Corn\", \"Corn\", \"Corn\", \"Corn\", \"Corn\", \"Corn\", \"Corn\", \"Corn\", \"Corn\", \"Corn\", \"Corn\", \"Corn\", \"Corn\", \"Corn\", \"Corn\", \"Corn\", \"Corn\", \"Corn\", \"Corn\", \"Corn\", \"Corn\", \"Corn\", \"Corn\", \"Corn\", \"Corn\", \"Corn\", \"Corn\", \"Corn\", \"Corn\", \"Corn\", \"Corn\", \"Corn\", \"Corn\", \"Corn\", \"Corn\", \"Corn\", \"Corn\", \"Corn\", \"Corn\", \"Corn\", \"Corn\", \"Corn\", \"Corn\", \"Corn\", \"Corn\", \"Corn\", \"Corn\", \"Corn\", \"Corn\", \"Corn\", \"Corn\", \"Corn\", \"Corn\", \"Corn\", \"Corn\", \"Corn\", \"Corn\", \"Corn\", \"Corn\", \"Corn\", \"Corn\", \"Corn\", \"Corn\", \"Corn\", \"Corn\", \"Corn\", \"Corn\", \"Corn\", \"Corn\", \"Corn\", \"Corn\", \"Corn\", \"Corn\", \"Corn\", \"Corn\", \"Corn\", \"Corn\", \"Corn\", \"Corn\", \"Corn\", \"Corn\", \"Corn\", \"Corn\", \"Corn\", \"Corn\", \"Corn\", \"Corn\", \"Corn\", \"Corn\", \"Corn\", \"Corn\", \"Corn\", \"Corn\", \"Corn\", \"Corn\", \"Corn\", \"Corn\", \"Corn\", \"Corn\", \"Corn\", \"Corn\", \"Corn\", \"Corn\", \"Corn\", \"Corn\", \"Corn\", \"Corn\", \"Corn\", \"Corn\", \"Corn\", \"Corn\", \"Corn\", \"Corn\", \"Corn\", \"Corn\", \"Corn\", \"Corn\", \"Corn\", \"Corn\", \"Corn\", \"Corn\", \"Corn\", \"Corn\", \"Corn\", \"Corn\", \"Corn\", \"Corn\", \"Corn\", \"Cotton\", \"Cotton\", \"Cotton\", \"Cotton\", \"Cotton\", \"Cotton\", \"Cotton\", \"Cotton\", \"Cotton\", \"Cotton\", \"Cotton\", \"Cotton\", \"Cotton\", \"Cotton\", \"Cotton\", \"Cotton\", \"Cotton\", \"Cotton\", \"Cotton\", \"Cotton\", \"Cotton\", \"Cotton\", \"Cotton\", \"Cotton\", \"Cotton\", \"Cotton\", \"Cotton\", \"Cotton\", \"Cotton\", \"Cotton\", \"Cotton\", \"Cotton\", \"Cotton\", \"Cotton\", \"Cotton\", \"Cotton\", \"Cotton\", \"Cotton\", \"Cotton\", \"Cotton\", \"Cotton\", \"Cotton\", \"Cotton\", \"Cotton\", \"Cotton\", \"Cotton\", \"Cotton\", \"Cotton\", \"Cotton\", \"Cotton\", \"Cotton\", \"Cotton\", \"Cotton\", \"Cotton\", \"Cotton\", \"Cotton\", \"Cotton\", \"Cotton\", \"Cotton\", \"Cotton\", \"Cotton\", \"Cotton\", \"Cotton\", \"Cotton\", \"Cotton\", \"Cotton\", \"Cotton\", \"Cotton\", \"Cotton\", \"Cotton\", \"Cotton\", \"Cotton\", \"Cotton\", \"Cotton\", \"Cotton\", \"Cotton\", \"Cotton\", \"Cotton\", \"Cotton\", \"Cotton\", \"Cotton\", \"Cotton\", \"Cotton\", \"Cotton\", \"Cotton\", \"Cotton\", \"Cotton\", \"Cotton\", \"Cotton\", \"Cotton\", \"Cotton\", \"Cotton\", \"Cotton\", \"Cotton\", \"Cotton\", \"Cotton\", \"Cotton\", \"Cotton\", \"Cotton\", \"Cotton\", \"Cotton\", \"Cotton\", \"Cotton\", \"Cotton\", \"Cotton\", \"Cotton\", \"Cotton\", \"Cotton\", \"Cotton\", \"Cotton\", \"Cotton\", \"Cotton\", \"Cotton\", \"Cotton\", \"Cotton\", \"Cotton\", \"Cotton\", \"Cotton\", \"Cotton\", \"Cotton\", \"Cotton\", \"Cotton\", \"Cotton\", \"Cotton\", \"Cotton\", \"Cotton\", \"Cotton\", \"Cotton\", \"Cotton\", \"Cotton\", \"Cotton\", \"Cotton\", \"Cotton\", \"Cotton\", \"Cotton\", \"Cotton\", \"Cotton\", \"Cotton\", \"Cotton\", \"Cotton\", \"Cotton\", \"Cotton\", \"Cotton\", \"Cotton\", \"Cotton\", \"Cotton\", \"Cotton\", \"Cotton\", \"Cotton\", \"Cotton\", \"Cotton\", \"Cotton\", \"Cotton\", \"Cotton\", \"Cotton\", \"Cotton\", \"Cotton\", \"Cotton\", \"Cotton\", \"Cotton\", \"Cotton\", \"Cotton\", \"Cotton\", \"Cotton\", \"Cotton\", \"Cotton\", \"Cotton\", \"Cotton\", \"Cotton\", \"Cotton\", \"Cotton\", \"Cotton\", \"Cotton\", \"Cotton\", \"Cotton\", \"Cotton\", \"Cotton\", \"Cotton\", \"Cotton\", \"Cotton\", \"Cotton\", \"Cotton\", \"Cotton\", \"Cotton\", \"Cotton\", \"Cotton\", \"Cotton\", \"Cotton\", \"Cotton\", \"Cotton\", \"Cotton\", \"Cotton\", \"Cotton\", \"Cotton\", \"Cotton\", \"Cotton\", \"Cotton\", \"Cotton\", \"Cotton\", \"Cotton\", \"Cotton\", \"Cotton\", \"Cotton\", \"Cotton\", \"Cotton\", \"Cotton\", \"Cotton\", \"Cotton\", \"Cotton\", \"Cotton\", \"Cotton\", \"Cotton\", \"Cotton\", \"Cotton\", \"Cotton\", \"Cotton\", \"Cotton\", \"Cotton\", \"Cotton\", \"Cotton\", \"Cotton\", \"Cotton\", \"Cotton\", \"Cotton\", \"Cotton\", \"Cotton\", \"Cotton\", \"Cotton\", \"Cotton\", \"Cotton\", \"Cotton\", \"Cotton\", \"Cotton\", \"Cotton\", \"Cotton\", \"Cotton\", \"Cotton\", \"Cotton\", \"Cotton\", \"Cotton\"], \"xaxis\": \"x\", \"yaxis\": \"y\"}, {\"alignmentgroup\": \"True\", \"bingroup\": \"x\", \"hovertemplate\": \"Variety=Stacked gene varieties<br>Crop=%{x}<br>count=%{y}<extra></extra>\", \"legendgroup\": \"Stacked gene varieties\", \"marker\": {\"color\": \"#00cc96\"}, \"name\": \"Stacked gene varieties\", \"offsetgroup\": \"Stacked gene varieties\", \"orientation\": \"v\", \"showlegend\": true, \"type\": \"histogram\", \"x\": [\"Corn\", \"Corn\", \"Corn\", \"Corn\", \"Corn\", \"Corn\", \"Corn\", \"Corn\", \"Corn\", \"Corn\", \"Corn\", \"Corn\", \"Corn\", \"Corn\", \"Corn\", \"Corn\", \"Corn\", \"Corn\", \"Corn\", \"Corn\", \"Corn\", \"Corn\", \"Corn\", \"Corn\", \"Corn\", \"Corn\", \"Corn\", \"Corn\", \"Corn\", \"Corn\", \"Corn\", \"Corn\", \"Corn\", \"Corn\", \"Corn\", \"Corn\", \"Corn\", \"Corn\", \"Corn\", \"Corn\", \"Corn\", \"Corn\", \"Corn\", \"Corn\", \"Corn\", \"Corn\", \"Corn\", \"Corn\", \"Corn\", \"Corn\", \"Corn\", \"Corn\", \"Corn\", \"Corn\", \"Corn\", \"Corn\", \"Corn\", \"Corn\", \"Corn\", \"Corn\", \"Corn\", \"Corn\", \"Corn\", \"Corn\", \"Corn\", \"Corn\", \"Corn\", \"Corn\", \"Corn\", \"Corn\", \"Corn\", \"Corn\", \"Corn\", \"Corn\", \"Corn\", \"Corn\", \"Corn\", \"Corn\", \"Corn\", \"Corn\", \"Corn\", \"Corn\", \"Corn\", \"Corn\", \"Corn\", \"Corn\", \"Corn\", \"Corn\", \"Corn\", \"Corn\", \"Corn\", \"Corn\", \"Corn\", \"Corn\", \"Corn\", \"Corn\", \"Corn\", \"Corn\", \"Corn\", \"Corn\", \"Corn\", \"Corn\", \"Corn\", \"Corn\", \"Corn\", \"Corn\", \"Corn\", \"Corn\", \"Corn\", \"Corn\", \"Corn\", \"Corn\", \"Corn\", \"Corn\", \"Corn\", \"Corn\", \"Corn\", \"Corn\", \"Corn\", \"Corn\", \"Corn\", \"Corn\", \"Corn\", \"Corn\", \"Corn\", \"Corn\", \"Corn\", \"Corn\", \"Corn\", \"Corn\", \"Corn\", \"Corn\", \"Corn\", \"Corn\", \"Corn\", \"Corn\", \"Corn\", \"Corn\", \"Corn\", \"Corn\", \"Corn\", \"Corn\", \"Corn\", \"Corn\", \"Corn\", \"Corn\", \"Corn\", \"Corn\", \"Corn\", \"Corn\", \"Corn\", \"Corn\", \"Corn\", \"Corn\", \"Corn\", \"Corn\", \"Corn\", \"Corn\", \"Corn\", \"Corn\", \"Corn\", \"Corn\", \"Corn\", \"Corn\", \"Corn\", \"Corn\", \"Corn\", \"Corn\", \"Corn\", \"Corn\", \"Corn\", \"Corn\", \"Corn\", \"Corn\", \"Corn\", \"Corn\", \"Corn\", \"Corn\", \"Corn\", \"Corn\", \"Corn\", \"Corn\", \"Corn\", \"Corn\", \"Corn\", \"Corn\", \"Corn\", \"Corn\", \"Corn\", \"Corn\", \"Corn\", \"Corn\", \"Corn\", \"Corn\", \"Corn\", \"Corn\", \"Corn\", \"Corn\", \"Corn\", \"Corn\", \"Corn\", \"Corn\", \"Corn\", \"Corn\", \"Corn\", \"Corn\", \"Corn\", \"Corn\", \"Corn\", \"Corn\", \"Corn\", \"Corn\", \"Corn\", \"Corn\", \"Corn\", \"Corn\", \"Corn\", \"Corn\", \"Corn\", \"Corn\", \"Corn\", \"Corn\", \"Corn\", \"Corn\", \"Corn\", \"Corn\", \"Corn\", \"Corn\", \"Corn\", \"Corn\", \"Corn\", \"Corn\", \"Corn\", \"Corn\", \"Corn\", \"Corn\", \"Corn\", \"Corn\", \"Corn\", \"Corn\", \"Corn\", \"Corn\", \"Corn\", \"Corn\", \"Corn\", \"Corn\", \"Corn\", \"Corn\", \"Corn\", \"Corn\", \"Corn\", \"Corn\", \"Corn\", \"Corn\", \"Corn\", \"Corn\", \"Corn\", \"Corn\", \"Corn\", \"Corn\", \"Corn\", \"Corn\", \"Corn\", \"Corn\", \"Corn\", \"Corn\", \"Corn\", \"Corn\", \"Corn\", \"Corn\", \"Corn\", \"Corn\", \"Corn\", \"Corn\", \"Corn\", \"Corn\", \"Corn\", \"Corn\", \"Corn\", \"Corn\", \"Corn\", \"Corn\", \"Corn\", \"Corn\", \"Corn\", \"Corn\", \"Corn\", \"Corn\", \"Corn\", \"Corn\", \"Corn\", \"Corn\", \"Corn\", \"Corn\", \"Corn\", \"Corn\", \"Corn\", \"Corn\", \"Corn\", \"Corn\"], \"xaxis\": \"x\", \"yaxis\": \"y\"}, {\"alignmentgroup\": \"True\", \"bingroup\": \"x\", \"hovertemplate\": \"Variety=All GE varieties 3/<br>Crop=%{x}<br>count=%{y}<extra></extra>\", \"legendgroup\": \"All GE varieties 3/\", \"marker\": {\"color\": \"#ab63fa\"}, \"name\": \"All GE varieties 3/\", \"offsetgroup\": \"All GE varieties 3/\", \"orientation\": \"v\", \"showlegend\": true, \"type\": \"histogram\", \"x\": [\"Corn\", \"Corn\", \"Corn\", \"Corn\", \"Corn\", \"Corn\", \"Corn\", \"Corn\", \"Corn\", \"Corn\", \"Corn\", \"Corn\", \"Corn\", \"Corn\", \"Corn\", \"Corn\", \"Corn\", \"Corn\", \"Corn\", \"Corn\", \"Corn\", \"Corn\", \"Corn\", \"Corn\", \"Corn\", \"Corn\", \"Corn\", \"Corn\", \"Corn\", \"Corn\", \"Corn\", \"Corn\", \"Corn\", \"Corn\", \"Corn\", \"Corn\", \"Corn\", \"Corn\", \"Corn\", \"Corn\", \"Corn\", \"Corn\", \"Corn\", \"Corn\", \"Corn\", \"Corn\", \"Corn\", \"Corn\", \"Corn\", \"Corn\", \"Corn\", \"Corn\", \"Corn\", \"Corn\", \"Corn\", \"Corn\", \"Corn\", \"Corn\", \"Corn\", \"Corn\", \"Corn\", \"Corn\", \"Corn\", \"Corn\", \"Corn\", \"Corn\", \"Corn\", \"Corn\", \"Corn\", \"Corn\", \"Corn\", \"Corn\", \"Corn\", \"Corn\", \"Corn\", \"Corn\", \"Corn\", \"Corn\", \"Corn\", \"Corn\", \"Corn\", \"Corn\", \"Corn\", \"Corn\", \"Corn\", \"Corn\", \"Corn\", \"Corn\", \"Corn\", \"Corn\", \"Corn\", \"Corn\", \"Corn\", \"Corn\", \"Corn\", \"Corn\", \"Corn\", \"Corn\", \"Corn\", \"Corn\", \"Corn\", \"Corn\", \"Corn\", \"Corn\", \"Corn\", \"Corn\", \"Corn\", \"Corn\", \"Corn\", \"Corn\", \"Corn\", \"Corn\", \"Corn\", \"Corn\", \"Corn\", \"Corn\", \"Corn\", \"Corn\", \"Corn\", \"Corn\", \"Corn\", \"Corn\", \"Corn\", \"Corn\", \"Corn\", \"Corn\", \"Corn\", \"Corn\", \"Corn\", \"Corn\", \"Corn\", \"Corn\", \"Corn\", \"Corn\", \"Corn\", \"Corn\", \"Corn\", \"Corn\", \"Corn\", \"Corn\", \"Corn\", \"Corn\", \"Corn\", \"Corn\", \"Corn\", \"Corn\", \"Corn\", \"Corn\", \"Corn\", \"Corn\", \"Corn\", \"Corn\", \"Corn\", \"Corn\", \"Corn\", \"Corn\", \"Corn\", \"Corn\", \"Corn\", \"Corn\", \"Corn\", \"Corn\", \"Corn\", \"Corn\", \"Corn\", \"Corn\", \"Corn\", \"Corn\", \"Corn\", \"Corn\", \"Corn\", \"Corn\", \"Corn\", \"Corn\", \"Corn\", \"Corn\", \"Corn\", \"Corn\", \"Corn\", \"Corn\", \"Corn\", \"Corn\", \"Corn\", \"Corn\", \"Corn\", \"Corn\", \"Corn\", \"Corn\", \"Corn\", \"Corn\", \"Corn\", \"Corn\", \"Corn\", \"Corn\", \"Corn\", \"Corn\", \"Corn\", \"Corn\", \"Corn\", \"Corn\", \"Corn\", \"Corn\", \"Corn\", \"Corn\", \"Corn\", \"Corn\", \"Corn\", \"Corn\", \"Corn\", \"Corn\", \"Corn\", \"Corn\", \"Corn\", \"Corn\", \"Corn\", \"Corn\", \"Corn\", \"Corn\", \"Corn\", \"Corn\", \"Corn\", \"Corn\", \"Corn\", \"Corn\", \"Corn\", \"Corn\", \"Corn\", \"Corn\", \"Corn\", \"Corn\", \"Corn\", \"Corn\", \"Corn\", \"Corn\", \"Corn\", \"Corn\", \"Corn\", \"Corn\", \"Corn\", \"Corn\", \"Corn\", \"Corn\", \"Corn\", \"Corn\", \"Corn\", \"Corn\", \"Corn\", \"Corn\", \"Corn\", \"Corn\", \"Corn\", \"Corn\", \"Corn\", \"Corn\", \"Corn\", \"Corn\", \"Corn\", \"Corn\", \"Corn\", \"Corn\", \"Corn\", \"Corn\", \"Corn\", \"Corn\", \"Corn\", \"Corn\", \"Corn\", \"Corn\", \"Corn\", \"Corn\", \"Corn\", \"Corn\", \"Corn\", \"Corn\", \"Corn\", \"Corn\", \"Corn\", \"Corn\", \"Corn\", \"Corn\", \"Corn\", \"Corn\", \"Corn\", \"Corn\", \"Corn\", \"Corn\", \"Corn\", \"Corn\", \"Corn\", \"Corn\", \"Corn\", \"Corn\", \"Corn\", \"Corn\", \"Corn\", \"Corn\", \"Corn\", \"Corn\", \"Corn\", \"Corn\", \"Cotton\", \"Cotton\", \"Cotton\", \"Cotton\", \"Cotton\", \"Cotton\", \"Cotton\", \"Cotton\", \"Cotton\", \"Cotton\", \"Cotton\", \"Cotton\", \"Cotton\", \"Cotton\", \"Cotton\", \"Cotton\", \"Cotton\", \"Cotton\", \"Cotton\", \"Cotton\", \"Cotton\", \"Cotton\", \"Cotton\", \"Cotton\", \"Cotton\", \"Cotton\", \"Cotton\", \"Cotton\", \"Cotton\", \"Cotton\", \"Cotton\", \"Cotton\", \"Cotton\", \"Cotton\", \"Cotton\", \"Cotton\", \"Cotton\", \"Cotton\", \"Cotton\", \"Cotton\", \"Cotton\", \"Cotton\", \"Cotton\", \"Cotton\", \"Cotton\", \"Cotton\", \"Cotton\", \"Cotton\", \"Cotton\", \"Cotton\", \"Cotton\", \"Cotton\", \"Cotton\", \"Cotton\", \"Cotton\", \"Cotton\", \"Cotton\", \"Cotton\", \"Cotton\", \"Cotton\", \"Cotton\", \"Cotton\", \"Cotton\", \"Cotton\", \"Cotton\", \"Cotton\", \"Cotton\", \"Cotton\", \"Cotton\", \"Cotton\", \"Cotton\", \"Cotton\", \"Cotton\", \"Cotton\", \"Cotton\", \"Cotton\", \"Cotton\", \"Cotton\", \"Cotton\", \"Cotton\", \"Cotton\", \"Cotton\", \"Cotton\", \"Cotton\", \"Cotton\", \"Cotton\", \"Cotton\", \"Cotton\", \"Cotton\", \"Cotton\", \"Cotton\", \"Cotton\", \"Cotton\", \"Cotton\", \"Cotton\", \"Cotton\", \"Cotton\", \"Cotton\", \"Cotton\", \"Cotton\", \"Cotton\", \"Cotton\", \"Cotton\", \"Cotton\", \"Cotton\", \"Cotton\", \"Cotton\", \"Cotton\", \"Cotton\", \"Cotton\", \"Cotton\", \"Cotton\", \"Cotton\", \"Cotton\", \"Cotton\", \"Cotton\", \"Cotton\", \"Cotton\", \"Cotton\", \"Cotton\", \"Cotton\", \"Cotton\", \"Cotton\", \"Cotton\", \"Cotton\", \"Cotton\", \"Cotton\", \"Cotton\", \"Cotton\", \"Cotton\", \"Cotton\", \"Cotton\", \"Cotton\", \"Cotton\", \"Cotton\", \"Cotton\", \"Cotton\", \"Cotton\", \"Cotton\", \"Cotton\", \"Cotton\", \"Cotton\", \"Cotton\", \"Cotton\", \"Cotton\", \"Cotton\", \"Cotton\", \"Cotton\", \"Cotton\", \"Cotton\", \"Cotton\", \"Cotton\", \"Cotton\", \"Cotton\", \"Cotton\", \"Cotton\", \"Cotton\", \"Cotton\", \"Cotton\", \"Cotton\", \"Cotton\", \"Cotton\", \"Cotton\", \"Cotton\", \"Cotton\", \"Cotton\", \"Cotton\", \"Cotton\", \"Cotton\", \"Cotton\", \"Cotton\", \"Cotton\", \"Cotton\", \"Cotton\", \"Cotton\", \"Cotton\", \"Cotton\", \"Cotton\", \"Cotton\", \"Cotton\", \"Cotton\", \"Cotton\", \"Cotton\", \"Cotton\", \"Cotton\", \"Cotton\", \"Cotton\", \"Cotton\", \"Cotton\", \"Cotton\", \"Cotton\", \"Cotton\", \"Cotton\", \"Cotton\", \"Cotton\", \"Cotton\", \"Cotton\", \"Cotton\", \"Cotton\", \"Cotton\", \"Cotton\", \"Cotton\", \"Cotton\", \"Cotton\", \"Cotton\", \"Cotton\", \"Cotton\", \"Cotton\", \"Cotton\", \"Cotton\", \"Cotton\", \"Cotton\", \"Cotton\", \"Cotton\", \"Cotton\", \"Cotton\", \"Cotton\", \"Cotton\", \"Cotton\", \"Cotton\", \"Cotton\", \"Cotton\", \"Cotton\", \"Cotton\", \"Cotton\", \"Cotton\", \"Cotton\", \"Cotton\", \"Cotton\", \"Cotton\", \"Cotton\", \"Cotton\", \"Cotton\", \"Cotton\", \"Cotton\", \"Cotton\", \"Cotton\", \"Cotton\", \"Cotton\", \"Cotton\"], \"xaxis\": \"x\", \"yaxis\": \"y\"}, {\"alignmentgroup\": \"True\", \"bingroup\": \"x\", \"hovertemplate\": \"Variety=Stacked gene varieties            <br>Crop=%{x}<br>count=%{y}<extra></extra>\", \"legendgroup\": \"Stacked gene varieties            \", \"marker\": {\"color\": \"#FFA15A\"}, \"name\": \"Stacked gene varieties            \", \"offsetgroup\": \"Stacked gene varieties            \", \"orientation\": \"v\", \"showlegend\": true, \"type\": \"histogram\", \"x\": [\"Cotton\", \"Cotton\", \"Cotton\", \"Cotton\", \"Cotton\", \"Cotton\", \"Cotton\", \"Cotton\", \"Cotton\", \"Cotton\", \"Cotton\", \"Cotton\", \"Cotton\", \"Cotton\", \"Cotton\", \"Cotton\", \"Cotton\", \"Cotton\", \"Cotton\", \"Cotton\", \"Cotton\", \"Cotton\", \"Cotton\", \"Cotton\", \"Cotton\", \"Cotton\", \"Cotton\", \"Cotton\", \"Cotton\", \"Cotton\", \"Cotton\", \"Cotton\", \"Cotton\", \"Cotton\", \"Cotton\", \"Cotton\", \"Cotton\", \"Cotton\", \"Cotton\", \"Cotton\", \"Cotton\", \"Cotton\", \"Cotton\", \"Cotton\", \"Cotton\", \"Cotton\", \"Cotton\", \"Cotton\", \"Cotton\", \"Cotton\", \"Cotton\", \"Cotton\", \"Cotton\", \"Cotton\", \"Cotton\", \"Cotton\", \"Cotton\", \"Cotton\", \"Cotton\", \"Cotton\", \"Cotton\", \"Cotton\", \"Cotton\", \"Cotton\", \"Cotton\", \"Cotton\", \"Cotton\", \"Cotton\", \"Cotton\", \"Cotton\", \"Cotton\", \"Cotton\", \"Cotton\", \"Cotton\", \"Cotton\", \"Cotton\", \"Cotton\", \"Cotton\", \"Cotton\", \"Cotton\", \"Cotton\", \"Cotton\", \"Cotton\", \"Cotton\", \"Cotton\", \"Cotton\", \"Cotton\", \"Cotton\", \"Cotton\", \"Cotton\", \"Cotton\", \"Cotton\", \"Cotton\", \"Cotton\", \"Cotton\", \"Cotton\", \"Cotton\", \"Cotton\", \"Cotton\", \"Cotton\", \"Cotton\", \"Cotton\", \"Cotton\", \"Cotton\", \"Cotton\", \"Cotton\", \"Cotton\", \"Cotton\", \"Cotton\", \"Cotton\", \"Cotton\", \"Cotton\", \"Cotton\", \"Cotton\", \"Cotton\", \"Cotton\", \"Cotton\", \"Cotton\", \"Cotton\", \"Cotton\", \"Cotton\", \"Cotton\", \"Cotton\", \"Cotton\", \"Cotton\", \"Cotton\", \"Cotton\", \"Cotton\", \"Cotton\", \"Cotton\", \"Cotton\", \"Cotton\", \"Cotton\", \"Cotton\", \"Cotton\", \"Cotton\", \"Cotton\", \"Cotton\", \"Cotton\", \"Cotton\", \"Cotton\", \"Cotton\", \"Cotton\", \"Cotton\", \"Cotton\", \"Cotton\", \"Cotton\", \"Cotton\", \"Cotton\", \"Cotton\", \"Cotton\", \"Cotton\", \"Cotton\", \"Cotton\", \"Cotton\", \"Cotton\", \"Cotton\", \"Cotton\", \"Cotton\", \"Cotton\", \"Cotton\", \"Cotton\", \"Cotton\", \"Cotton\", \"Cotton\", \"Cotton\", \"Cotton\", \"Cotton\", \"Cotton\", \"Cotton\", \"Cotton\", \"Cotton\", \"Cotton\", \"Cotton\", \"Cotton\", \"Cotton\", \"Cotton\", \"Cotton\", \"Cotton\", \"Cotton\", \"Cotton\", \"Cotton\", \"Cotton\", \"Cotton\", \"Cotton\", \"Cotton\", \"Cotton\", \"Cotton\", \"Cotton\", \"Cotton\", \"Cotton\", \"Cotton\", \"Cotton\", \"Cotton\", \"Cotton\", \"Cotton\", \"Cotton\", \"Cotton\", \"Cotton\", \"Cotton\", \"Cotton\", \"Cotton\", \"Cotton\", \"Cotton\", \"Cotton\", \"Cotton\", \"Cotton\", \"Cotton\", \"Cotton\", \"Cotton\", \"Cotton\", \"Cotton\", \"Cotton\", \"Cotton\", \"Cotton\", \"Cotton\", \"Cotton\", \"Cotton\", \"Cotton\", \"Cotton\", \"Cotton\", \"Cotton\", \"Cotton\", \"Cotton\", \"Cotton\", \"Cotton\", \"Cotton\", \"Cotton\", \"Cotton\", \"Cotton\", \"Cotton\", \"Cotton\", \"Cotton\", \"Cotton\", \"Cotton\", \"Cotton\", \"Cotton\", \"Cotton\", \"Cotton\", \"Cotton\"], \"xaxis\": \"x\", \"yaxis\": \"y\"}, {\"alignmentgroup\": \"True\", \"bingroup\": \"x\", \"hovertemplate\": \"Variety=Herbicide-tolerant only<br>Crop=%{x}<br>count=%{y}<extra></extra>\", \"legendgroup\": \"Herbicide-tolerant only\", \"marker\": {\"color\": \"#19d3f3\"}, \"name\": \"Herbicide-tolerant only\", \"offsetgroup\": \"Herbicide-tolerant only\", \"orientation\": \"v\", \"showlegend\": true, \"type\": \"histogram\", \"x\": [\"Soybeans\", \"Soybeans\", \"Soybeans\", \"Soybeans\", \"Soybeans\", \"Soybeans\", \"Soybeans\", \"Soybeans\", \"Soybeans\", \"Soybeans\", \"Soybeans\", \"Soybeans\", \"Soybeans\", \"Soybeans\", \"Soybeans\", \"Soybeans\", \"Soybeans\", \"Soybeans\", \"Soybeans\", \"Soybeans\", \"Soybeans\", \"Soybeans\", \"Soybeans\", \"Soybeans\", \"Soybeans\", \"Soybeans\", \"Soybeans\", \"Soybeans\", \"Soybeans\", \"Soybeans\", \"Soybeans\", \"Soybeans\", \"Soybeans\", \"Soybeans\", \"Soybeans\", \"Soybeans\", \"Soybeans\", \"Soybeans\", \"Soybeans\", \"Soybeans\", \"Soybeans\", \"Soybeans\", \"Soybeans\", \"Soybeans\", \"Soybeans\", \"Soybeans\", \"Soybeans\", \"Soybeans\", \"Soybeans\", \"Soybeans\", \"Soybeans\", \"Soybeans\", \"Soybeans\", \"Soybeans\", \"Soybeans\", \"Soybeans\", \"Soybeans\", \"Soybeans\", \"Soybeans\", \"Soybeans\", \"Soybeans\", \"Soybeans\", \"Soybeans\", \"Soybeans\", \"Soybeans\", \"Soybeans\", \"Soybeans\", \"Soybeans\", \"Soybeans\", \"Soybeans\", \"Soybeans\", \"Soybeans\", \"Soybeans\", \"Soybeans\", \"Soybeans\", \"Soybeans\", \"Soybeans\", \"Soybeans\", \"Soybeans\", \"Soybeans\", \"Soybeans\", \"Soybeans\", \"Soybeans\", \"Soybeans\", \"Soybeans\", \"Soybeans\", \"Soybeans\", \"Soybeans\", \"Soybeans\", \"Soybeans\", \"Soybeans\", \"Soybeans\", \"Soybeans\", \"Soybeans\", \"Soybeans\", \"Soybeans\", \"Soybeans\", \"Soybeans\", \"Soybeans\", \"Soybeans\", \"Soybeans\", \"Soybeans\", \"Soybeans\", \"Soybeans\", \"Soybeans\", \"Soybeans\", \"Soybeans\", \"Soybeans\", \"Soybeans\", \"Soybeans\", \"Soybeans\", \"Soybeans\", \"Soybeans\", \"Soybeans\", \"Soybeans\", \"Soybeans\", \"Soybeans\", \"Soybeans\", \"Soybeans\", \"Soybeans\", \"Soybeans\", \"Soybeans\", \"Soybeans\", \"Soybeans\", \"Soybeans\", \"Soybeans\", \"Soybeans\", \"Soybeans\", \"Soybeans\", \"Soybeans\", \"Soybeans\", \"Soybeans\", \"Soybeans\", \"Soybeans\", \"Soybeans\", \"Soybeans\", \"Soybeans\", \"Soybeans\", \"Soybeans\", \"Soybeans\", \"Soybeans\", \"Soybeans\", \"Soybeans\", \"Soybeans\", \"Soybeans\", \"Soybeans\", \"Soybeans\", \"Soybeans\", \"Soybeans\", \"Soybeans\", \"Soybeans\", \"Soybeans\", \"Soybeans\", \"Soybeans\", \"Soybeans\", \"Soybeans\", \"Soybeans\", \"Soybeans\", \"Soybeans\", \"Soybeans\", \"Soybeans\", \"Soybeans\", \"Soybeans\", \"Soybeans\", \"Soybeans\", \"Soybeans\", \"Soybeans\", \"Soybeans\", \"Soybeans\", \"Soybeans\", \"Soybeans\", \"Soybeans\", \"Soybeans\", \"Soybeans\", \"Soybeans\", \"Soybeans\", \"Soybeans\", \"Soybeans\", \"Soybeans\", \"Soybeans\", \"Soybeans\", \"Soybeans\", \"Soybeans\", \"Soybeans\", \"Soybeans\", \"Soybeans\", \"Soybeans\", \"Soybeans\", \"Soybeans\", \"Soybeans\", \"Soybeans\", \"Soybeans\", \"Soybeans\", \"Soybeans\", \"Soybeans\", \"Soybeans\", \"Soybeans\", \"Soybeans\", \"Soybeans\", \"Soybeans\", \"Soybeans\", \"Soybeans\", \"Soybeans\", \"Soybeans\", \"Soybeans\", \"Soybeans\", \"Soybeans\", \"Soybeans\", \"Soybeans\", \"Soybeans\", \"Soybeans\", \"Soybeans\", \"Soybeans\", \"Soybeans\", \"Soybeans\", \"Soybeans\", \"Soybeans\", \"Soybeans\", \"Soybeans\", \"Soybeans\", \"Soybeans\", \"Soybeans\", \"Soybeans\", \"Soybeans\", \"Soybeans\", \"Soybeans\", \"Soybeans\", \"Soybeans\", \"Soybeans\", \"Soybeans\", \"Soybeans\", \"Soybeans\", \"Soybeans\", \"Soybeans\", \"Soybeans\", \"Soybeans\", \"Soybeans\", \"Soybeans\", \"Soybeans\", \"Soybeans\", \"Soybeans\", \"Soybeans\", \"Soybeans\", \"Soybeans\", \"Soybeans\", \"Soybeans\", \"Soybeans\", \"Soybeans\", \"Soybeans\", \"Soybeans\", \"Soybeans\", \"Soybeans\", \"Soybeans\", \"Soybeans\", \"Soybeans\", \"Soybeans\", \"Soybeans\", \"Soybeans\", \"Soybeans\", \"Soybeans\", \"Soybeans\", \"Soybeans\", \"Soybeans\", \"Soybeans\", \"Soybeans\", \"Soybeans\", \"Soybeans\", \"Soybeans\", \"Soybeans\", \"Soybeans\", \"Soybeans\", \"Soybeans\", \"Soybeans\", \"Soybeans\", \"Soybeans\", \"Soybeans\", \"Soybeans\", \"Soybeans\", \"Soybeans\", \"Soybeans\", \"Soybeans\", \"Soybeans\", \"Soybeans\", \"Soybeans\", \"Soybeans\", \"Soybeans\", \"Soybeans\", \"Soybeans\", \"Soybeans\", \"Soybeans\", \"Soybeans\", \"Soybeans\", \"Soybeans\", \"Soybeans\", \"Soybeans\", \"Soybeans\", \"Soybeans\", \"Soybeans\", \"Soybeans\", \"Soybeans\", \"Soybeans\", \"Soybeans\", \"Soybeans\", \"Soybeans\", \"Soybeans\", \"Soybeans\", \"Soybeans\", \"Soybeans\", \"Soybeans\", \"Soybeans\", \"Soybeans\", \"Soybeans\", \"Soybeans\", \"Soybeans\", \"Soybeans\", \"Soybeans\", \"Soybeans\", \"Soybeans\", \"Soybeans\", \"Soybeans\"], \"xaxis\": \"x\", \"yaxis\": \"y\"}, {\"alignmentgroup\": \"True\", \"bingroup\": \"x\", \"hovertemplate\": \"Variety=All GE varieties <br>Crop=%{x}<br>count=%{y}<extra></extra>\", \"legendgroup\": \"All GE varieties \", \"marker\": {\"color\": \"#FF6692\"}, \"name\": \"All GE varieties \", \"offsetgroup\": \"All GE varieties \", \"orientation\": \"v\", \"showlegend\": true, \"type\": \"histogram\", \"x\": [\"Soybeans\", \"Soybeans\", \"Soybeans\", \"Soybeans\", \"Soybeans\", \"Soybeans\", \"Soybeans\", \"Soybeans\", \"Soybeans\", \"Soybeans\", \"Soybeans\", \"Soybeans\", \"Soybeans\", \"Soybeans\", \"Soybeans\", \"Soybeans\", \"Soybeans\", \"Soybeans\", \"Soybeans\", \"Soybeans\", \"Soybeans\", \"Soybeans\", \"Soybeans\", \"Soybeans\", \"Soybeans\", \"Soybeans\", \"Soybeans\", \"Soybeans\", \"Soybeans\", \"Soybeans\", \"Soybeans\", \"Soybeans\", \"Soybeans\", \"Soybeans\", \"Soybeans\", \"Soybeans\", \"Soybeans\", \"Soybeans\", \"Soybeans\", \"Soybeans\", \"Soybeans\", \"Soybeans\", \"Soybeans\", \"Soybeans\", \"Soybeans\", \"Soybeans\", \"Soybeans\", \"Soybeans\", \"Soybeans\", \"Soybeans\", \"Soybeans\", \"Soybeans\", \"Soybeans\", \"Soybeans\", \"Soybeans\", \"Soybeans\", \"Soybeans\", \"Soybeans\", \"Soybeans\", \"Soybeans\", \"Soybeans\", \"Soybeans\", \"Soybeans\", \"Soybeans\", \"Soybeans\", \"Soybeans\", \"Soybeans\", \"Soybeans\", \"Soybeans\", \"Soybeans\", \"Soybeans\", \"Soybeans\", \"Soybeans\", \"Soybeans\", \"Soybeans\", \"Soybeans\", \"Soybeans\", \"Soybeans\", \"Soybeans\", \"Soybeans\", \"Soybeans\", \"Soybeans\", \"Soybeans\", \"Soybeans\", \"Soybeans\", \"Soybeans\", \"Soybeans\", \"Soybeans\", \"Soybeans\", \"Soybeans\", \"Soybeans\", \"Soybeans\", \"Soybeans\", \"Soybeans\", \"Soybeans\", \"Soybeans\", \"Soybeans\", \"Soybeans\", \"Soybeans\", \"Soybeans\", \"Soybeans\", \"Soybeans\", \"Soybeans\", \"Soybeans\", \"Soybeans\", \"Soybeans\", \"Soybeans\", \"Soybeans\", \"Soybeans\", \"Soybeans\", \"Soybeans\", \"Soybeans\", \"Soybeans\", \"Soybeans\", \"Soybeans\", \"Soybeans\", \"Soybeans\", \"Soybeans\", \"Soybeans\", \"Soybeans\", \"Soybeans\", \"Soybeans\", \"Soybeans\", \"Soybeans\", \"Soybeans\", \"Soybeans\", \"Soybeans\", \"Soybeans\", \"Soybeans\", \"Soybeans\", \"Soybeans\", \"Soybeans\", \"Soybeans\", \"Soybeans\", \"Soybeans\", \"Soybeans\", \"Soybeans\", \"Soybeans\", \"Soybeans\", \"Soybeans\", \"Soybeans\", \"Soybeans\", \"Soybeans\", \"Soybeans\", \"Soybeans\", \"Soybeans\", \"Soybeans\", \"Soybeans\", \"Soybeans\", \"Soybeans\", \"Soybeans\", \"Soybeans\", \"Soybeans\", \"Soybeans\", \"Soybeans\", \"Soybeans\", \"Soybeans\", \"Soybeans\", \"Soybeans\", \"Soybeans\", \"Soybeans\", \"Soybeans\", \"Soybeans\", \"Soybeans\", \"Soybeans\", \"Soybeans\", \"Soybeans\", \"Soybeans\", \"Soybeans\", \"Soybeans\", \"Soybeans\", \"Soybeans\", \"Soybeans\", \"Soybeans\", \"Soybeans\", \"Soybeans\", \"Soybeans\", \"Soybeans\", \"Soybeans\", \"Soybeans\", \"Soybeans\", \"Soybeans\", \"Soybeans\", \"Soybeans\", \"Soybeans\", \"Soybeans\", \"Soybeans\", \"Soybeans\", \"Soybeans\", \"Soybeans\", \"Soybeans\", \"Soybeans\", \"Soybeans\", \"Soybeans\", \"Soybeans\", \"Soybeans\", \"Soybeans\", \"Soybeans\", \"Soybeans\", \"Soybeans\", \"Soybeans\", \"Soybeans\", \"Soybeans\", \"Soybeans\", \"Soybeans\", \"Soybeans\", \"Soybeans\", \"Soybeans\", \"Soybeans\", \"Soybeans\", \"Soybeans\", \"Soybeans\", \"Soybeans\", \"Soybeans\", \"Soybeans\", \"Soybeans\", \"Soybeans\", \"Soybeans\", \"Soybeans\", \"Soybeans\", \"Soybeans\", \"Soybeans\", \"Soybeans\", \"Soybeans\", \"Soybeans\", \"Soybeans\", \"Soybeans\", \"Soybeans\", \"Soybeans\", \"Soybeans\", \"Soybeans\", \"Soybeans\", \"Soybeans\", \"Soybeans\", \"Soybeans\", \"Soybeans\", \"Soybeans\", \"Soybeans\", \"Soybeans\", \"Soybeans\", \"Soybeans\", \"Soybeans\", \"Soybeans\", \"Soybeans\", \"Soybeans\", \"Soybeans\", \"Soybeans\", \"Soybeans\", \"Soybeans\", \"Soybeans\", \"Soybeans\", \"Soybeans\", \"Soybeans\", \"Soybeans\", \"Soybeans\", \"Soybeans\", \"Soybeans\", \"Soybeans\", \"Soybeans\", \"Soybeans\", \"Soybeans\", \"Soybeans\", \"Soybeans\", \"Soybeans\", \"Soybeans\", \"Soybeans\", \"Soybeans\", \"Soybeans\", \"Soybeans\", \"Soybeans\", \"Soybeans\", \"Soybeans\", \"Soybeans\", \"Soybeans\", \"Soybeans\", \"Soybeans\", \"Soybeans\", \"Soybeans\", \"Soybeans\", \"Soybeans\", \"Soybeans\", \"Soybeans\", \"Soybeans\", \"Soybeans\", \"Soybeans\", \"Soybeans\", \"Soybeans\", \"Soybeans\", \"Soybeans\", \"Soybeans\", \"Soybeans\", \"Soybeans\", \"Soybeans\", \"Soybeans\", \"Soybeans\", \"Soybeans\", \"Soybeans\", \"Soybeans\", \"Soybeans\", \"Soybeans\", \"Soybeans\", \"Soybeans\", \"Soybeans\", \"Soybeans\", \"Soybeans\", \"Soybeans\", \"Soybeans\", \"Soybeans\", \"Soybeans\", \"Soybeans\", \"Soybeans\", \"Soybeans\", \"Soybeans\", \"Soybeans\", \"Soybeans\", \"Soybeans\", \"Soybeans\", \"Soybeans\", \"Soybeans\", \"Soybeans\"], \"xaxis\": \"x\", \"yaxis\": \"y\"}],\n",
       "                        {\"barmode\": \"relative\", \"legend\": {\"title\": {\"text\": \"Variety\"}, \"tracegroupgap\": 0}, \"template\": {\"data\": {\"bar\": [{\"error_x\": {\"color\": \"#2a3f5f\"}, \"error_y\": {\"color\": \"#2a3f5f\"}, \"marker\": {\"line\": {\"color\": \"#E5ECF6\", \"width\": 0.5}}, \"type\": \"bar\"}], \"barpolar\": [{\"marker\": {\"line\": {\"color\": \"#E5ECF6\", \"width\": 0.5}}, \"type\": \"barpolar\"}], \"carpet\": [{\"aaxis\": {\"endlinecolor\": \"#2a3f5f\", \"gridcolor\": \"white\", \"linecolor\": \"white\", \"minorgridcolor\": \"white\", \"startlinecolor\": \"#2a3f5f\"}, \"baxis\": {\"endlinecolor\": \"#2a3f5f\", \"gridcolor\": \"white\", \"linecolor\": \"white\", \"minorgridcolor\": \"white\", \"startlinecolor\": \"#2a3f5f\"}, \"type\": \"carpet\"}], \"choropleth\": [{\"colorbar\": {\"outlinewidth\": 0, \"ticks\": \"\"}, \"type\": \"choropleth\"}], \"contour\": [{\"colorbar\": {\"outlinewidth\": 0, \"ticks\": \"\"}, \"colorscale\": [[0.0, \"#0d0887\"], [0.1111111111111111, \"#46039f\"], [0.2222222222222222, \"#7201a8\"], [0.3333333333333333, \"#9c179e\"], [0.4444444444444444, \"#bd3786\"], [0.5555555555555556, \"#d8576b\"], [0.6666666666666666, \"#ed7953\"], [0.7777777777777778, \"#fb9f3a\"], [0.8888888888888888, \"#fdca26\"], [1.0, \"#f0f921\"]], \"type\": \"contour\"}], \"contourcarpet\": [{\"colorbar\": {\"outlinewidth\": 0, \"ticks\": \"\"}, \"type\": \"contourcarpet\"}], \"heatmap\": [{\"colorbar\": {\"outlinewidth\": 0, \"ticks\": \"\"}, \"colorscale\": [[0.0, \"#0d0887\"], [0.1111111111111111, \"#46039f\"], [0.2222222222222222, \"#7201a8\"], [0.3333333333333333, \"#9c179e\"], [0.4444444444444444, \"#bd3786\"], [0.5555555555555556, \"#d8576b\"], [0.6666666666666666, \"#ed7953\"], [0.7777777777777778, \"#fb9f3a\"], [0.8888888888888888, \"#fdca26\"], [1.0, \"#f0f921\"]], \"type\": \"heatmap\"}], \"heatmapgl\": [{\"colorbar\": {\"outlinewidth\": 0, \"ticks\": \"\"}, \"colorscale\": [[0.0, \"#0d0887\"], [0.1111111111111111, \"#46039f\"], [0.2222222222222222, \"#7201a8\"], [0.3333333333333333, \"#9c179e\"], [0.4444444444444444, \"#bd3786\"], [0.5555555555555556, \"#d8576b\"], [0.6666666666666666, \"#ed7953\"], [0.7777777777777778, \"#fb9f3a\"], [0.8888888888888888, \"#fdca26\"], [1.0, \"#f0f921\"]], \"type\": \"heatmapgl\"}], \"histogram\": [{\"marker\": {\"colorbar\": {\"outlinewidth\": 0, \"ticks\": \"\"}}, \"type\": \"histogram\"}], \"histogram2d\": [{\"colorbar\": {\"outlinewidth\": 0, \"ticks\": \"\"}, \"colorscale\": [[0.0, \"#0d0887\"], [0.1111111111111111, \"#46039f\"], [0.2222222222222222, \"#7201a8\"], [0.3333333333333333, \"#9c179e\"], [0.4444444444444444, \"#bd3786\"], [0.5555555555555556, \"#d8576b\"], [0.6666666666666666, \"#ed7953\"], [0.7777777777777778, \"#fb9f3a\"], [0.8888888888888888, \"#fdca26\"], [1.0, \"#f0f921\"]], \"type\": \"histogram2d\"}], \"histogram2dcontour\": [{\"colorbar\": {\"outlinewidth\": 0, \"ticks\": \"\"}, \"colorscale\": [[0.0, \"#0d0887\"], [0.1111111111111111, \"#46039f\"], [0.2222222222222222, \"#7201a8\"], [0.3333333333333333, \"#9c179e\"], [0.4444444444444444, \"#bd3786\"], [0.5555555555555556, \"#d8576b\"], [0.6666666666666666, \"#ed7953\"], [0.7777777777777778, \"#fb9f3a\"], [0.8888888888888888, \"#fdca26\"], [1.0, \"#f0f921\"]], \"type\": \"histogram2dcontour\"}], \"mesh3d\": [{\"colorbar\": {\"outlinewidth\": 0, \"ticks\": \"\"}, \"type\": \"mesh3d\"}], \"parcoords\": [{\"line\": {\"colorbar\": {\"outlinewidth\": 0, \"ticks\": \"\"}}, \"type\": \"parcoords\"}], \"pie\": [{\"automargin\": true, \"type\": \"pie\"}], \"scatter\": [{\"marker\": {\"colorbar\": {\"outlinewidth\": 0, \"ticks\": \"\"}}, \"type\": \"scatter\"}], \"scatter3d\": [{\"line\": {\"colorbar\": {\"outlinewidth\": 0, \"ticks\": \"\"}}, \"marker\": {\"colorbar\": {\"outlinewidth\": 0, \"ticks\": \"\"}}, \"type\": \"scatter3d\"}], \"scattercarpet\": [{\"marker\": {\"colorbar\": {\"outlinewidth\": 0, \"ticks\": \"\"}}, \"type\": \"scattercarpet\"}], \"scattergeo\": [{\"marker\": {\"colorbar\": {\"outlinewidth\": 0, \"ticks\": \"\"}}, \"type\": \"scattergeo\"}], \"scattergl\": [{\"marker\": {\"colorbar\": {\"outlinewidth\": 0, \"ticks\": \"\"}}, \"type\": \"scattergl\"}], \"scattermapbox\": [{\"marker\": {\"colorbar\": {\"outlinewidth\": 0, \"ticks\": \"\"}}, \"type\": \"scattermapbox\"}], \"scatterpolar\": [{\"marker\": {\"colorbar\": {\"outlinewidth\": 0, \"ticks\": \"\"}}, \"type\": \"scatterpolar\"}], \"scatterpolargl\": [{\"marker\": {\"colorbar\": {\"outlinewidth\": 0, \"ticks\": \"\"}}, \"type\": \"scatterpolargl\"}], \"scatterternary\": [{\"marker\": {\"colorbar\": {\"outlinewidth\": 0, \"ticks\": \"\"}}, \"type\": \"scatterternary\"}], \"surface\": [{\"colorbar\": {\"outlinewidth\": 0, \"ticks\": \"\"}, \"colorscale\": [[0.0, \"#0d0887\"], [0.1111111111111111, \"#46039f\"], [0.2222222222222222, \"#7201a8\"], [0.3333333333333333, \"#9c179e\"], [0.4444444444444444, \"#bd3786\"], [0.5555555555555556, \"#d8576b\"], [0.6666666666666666, \"#ed7953\"], [0.7777777777777778, \"#fb9f3a\"], [0.8888888888888888, \"#fdca26\"], [1.0, \"#f0f921\"]], \"type\": \"surface\"}], \"table\": [{\"cells\": {\"fill\": {\"color\": \"#EBF0F8\"}, \"line\": {\"color\": \"white\"}}, \"header\": {\"fill\": {\"color\": \"#C8D4E3\"}, \"line\": {\"color\": \"white\"}}, \"type\": \"table\"}]}, \"layout\": {\"annotationdefaults\": {\"arrowcolor\": \"#2a3f5f\", \"arrowhead\": 0, \"arrowwidth\": 1}, \"coloraxis\": {\"colorbar\": {\"outlinewidth\": 0, \"ticks\": \"\"}}, \"colorscale\": {\"diverging\": [[0, \"#8e0152\"], [0.1, \"#c51b7d\"], [0.2, \"#de77ae\"], [0.3, \"#f1b6da\"], [0.4, \"#fde0ef\"], [0.5, \"#f7f7f7\"], [0.6, \"#e6f5d0\"], [0.7, \"#b8e186\"], [0.8, \"#7fbc41\"], [0.9, \"#4d9221\"], [1, \"#276419\"]], \"sequential\": [[0.0, \"#0d0887\"], [0.1111111111111111, \"#46039f\"], [0.2222222222222222, \"#7201a8\"], [0.3333333333333333, \"#9c179e\"], [0.4444444444444444, \"#bd3786\"], [0.5555555555555556, \"#d8576b\"], [0.6666666666666666, \"#ed7953\"], [0.7777777777777778, \"#fb9f3a\"], [0.8888888888888888, \"#fdca26\"], [1.0, \"#f0f921\"]], \"sequentialminus\": [[0.0, \"#0d0887\"], [0.1111111111111111, \"#46039f\"], [0.2222222222222222, \"#7201a8\"], [0.3333333333333333, \"#9c179e\"], [0.4444444444444444, \"#bd3786\"], [0.5555555555555556, \"#d8576b\"], [0.6666666666666666, \"#ed7953\"], [0.7777777777777778, \"#fb9f3a\"], [0.8888888888888888, \"#fdca26\"], [1.0, \"#f0f921\"]]}, \"colorway\": [\"#636efa\", \"#EF553B\", \"#00cc96\", \"#ab63fa\", \"#FFA15A\", \"#19d3f3\", \"#FF6692\", \"#B6E880\", \"#FF97FF\", \"#FECB52\"], \"font\": {\"color\": \"#2a3f5f\"}, \"geo\": {\"bgcolor\": \"white\", \"lakecolor\": \"white\", \"landcolor\": \"#E5ECF6\", \"showlakes\": true, \"showland\": true, \"subunitcolor\": \"white\"}, \"hoverlabel\": {\"align\": \"left\"}, \"hovermode\": \"closest\", \"mapbox\": {\"style\": \"light\"}, \"paper_bgcolor\": \"white\", \"plot_bgcolor\": \"#E5ECF6\", \"polar\": {\"angularaxis\": {\"gridcolor\": \"white\", \"linecolor\": \"white\", \"ticks\": \"\"}, \"bgcolor\": \"#E5ECF6\", \"radialaxis\": {\"gridcolor\": \"white\", \"linecolor\": \"white\", \"ticks\": \"\"}}, \"scene\": {\"xaxis\": {\"backgroundcolor\": \"#E5ECF6\", \"gridcolor\": \"white\", \"gridwidth\": 2, \"linecolor\": \"white\", \"showbackground\": true, \"ticks\": \"\", \"zerolinecolor\": \"white\"}, \"yaxis\": {\"backgroundcolor\": \"#E5ECF6\", \"gridcolor\": \"white\", \"gridwidth\": 2, \"linecolor\": \"white\", \"showbackground\": true, \"ticks\": \"\", \"zerolinecolor\": \"white\"}, \"zaxis\": {\"backgroundcolor\": \"#E5ECF6\", \"gridcolor\": \"white\", \"gridwidth\": 2, \"linecolor\": \"white\", \"showbackground\": true, \"ticks\": \"\", \"zerolinecolor\": \"white\"}}, \"shapedefaults\": {\"line\": {\"color\": \"#2a3f5f\"}}, \"ternary\": {\"aaxis\": {\"gridcolor\": \"white\", \"linecolor\": \"white\", \"ticks\": \"\"}, \"baxis\": {\"gridcolor\": \"white\", \"linecolor\": \"white\", \"ticks\": \"\"}, \"bgcolor\": \"#E5ECF6\", \"caxis\": {\"gridcolor\": \"white\", \"linecolor\": \"white\", \"ticks\": \"\"}}, \"title\": {\"x\": 0.05}, \"xaxis\": {\"automargin\": true, \"gridcolor\": \"white\", \"linecolor\": \"white\", \"ticks\": \"\", \"title\": {\"standoff\": 15}, \"zerolinecolor\": \"white\", \"zerolinewidth\": 2}, \"yaxis\": {\"automargin\": true, \"gridcolor\": \"white\", \"linecolor\": \"white\", \"ticks\": \"\", \"title\": {\"standoff\": 15}, \"zerolinecolor\": \"white\", \"zerolinewidth\": 2}}}, \"title\": {\"text\": \"Breakdown of GMO Varieties in top 90% of crops\"}, \"xaxis\": {\"anchor\": \"y\", \"domain\": [0.0, 1.0], \"title\": {\"text\": \"Crop\"}}, \"yaxis\": {\"anchor\": \"x\", \"domain\": [0.0, 1.0], \"title\": {\"text\": \"count\"}}},\n",
       "                        {\"responsive\": true}\n",
       "                    ).then(function(){\n",
       "                            \n",
       "var gd = document.getElementById('9c40c7c8-b923-4913-8542-4e9703deff4d');\n",
       "var x = new MutationObserver(function (mutations, observer) {{\n",
       "        var display = window.getComputedStyle(gd).display;\n",
       "        if (!display || display === 'none') {{\n",
       "            console.log([gd, 'removed!']);\n",
       "            Plotly.purge(gd);\n",
       "            observer.disconnect();\n",
       "        }}\n",
       "}});\n",
       "\n",
       "// Listen for the removal of the full notebook cells\n",
       "var notebookContainer = gd.closest('#notebook-container');\n",
       "if (notebookContainer) {{\n",
       "    x.observe(notebookContainer, {childList: true});\n",
       "}}\n",
       "\n",
       "// Listen for the clearing of the current output cell\n",
       "var outputEl = gd.closest('.output');\n",
       "if (outputEl) {{\n",
       "    x.observe(outputEl, {childList: true});\n",
       "}}\n",
       "\n",
       "                        })\n",
       "                };\n",
       "                });\n",
       "            </script>\n",
       "        </div>"
      ]
     },
     "metadata": {},
     "output_type": "display_data"
    }
   ],
   "source": [
    "# ❗️ Run this cell!\n",
    "# Display a histogram breaking down the GMO varieties in most popular crops\n",
    "fig = px.histogram(cropdata, x=\"Crop\", color=\"Variety\", title = \"Breakdown of GMO Varieties in Top 90% of Crops\")\n",
    "fig.show()"
   ]
  },
  {
   "cell_type": "markdown",
   "metadata": {},
   "source": [
    "## 🌽 How are plant genes and proteins related to traits? \n",
    "\n",
    "\n",
    "Genes are actually only one part of the story. The way a gene becomes useful is by being translated into a protein in the cell. This protein then goes on to have different functions based on it's physical properties. \n",
    "\n",
    "*From [The University of Kentucky's College of Agriculture:](https://entomology.ca.uky.edu/ef130)* \n",
    "> To transform a plant into a GMO plant, the gene that produces a genetic trait of interest is identified and separated from the rest of the genetic material from a donor organism. Most organisms have thousands of genes, a single gene represents only a tiny fraction of the total genetic makeup of an organism. \n",
    "\n",
    ">A donor organism may be a bacterium, fungus or even another plant. In the case of Bt corn, the donor organism is a naturally occurring soil bacterium, Bacillus thuringiensis, and the gene of interest produces a protein that kills Lepidoptera larvae, in particular, European corn borer. This protein is called the Bt delta endotoxin. Growers use Bt corn as an alternative to spraying insecticides for control of European and southwestern corn borer. "
   ]
  },
  {
   "cell_type": "code",
   "execution_count": 102,
   "metadata": {
    "scrolled": true
   },
   "outputs": [
    {
     "data": {
      "application/vnd.plotly.v1+json": {
       "config": {
        "plotlyServerURL": "https://plot.ly"
       },
       "data": [
        {
         "alignmentgroup": "True",
         "bingroup": "x",
         "hovertemplate": "Phenotypic Trait=%{x}<br>count=%{y}<extra></extra>",
         "legendgroup": "",
         "marker": {
          "color": "#636efa"
         },
         "name": "",
         "offsetgroup": "",
         "orientation": "v",
         "showlegend": false,
         "type": "histogram",
         "x": [
          "2,4-D herbicide tolerance",
          "Altered lignin production",
          "Altered lignin production",
          "Anti-allergy",
          "Antibiotic resistance",
          "Antibiotic resistance",
          "Antibiotic resistance",
          "Antibiotic resistance",
          "Antibiotic resistance",
          "Antibiotic resistance",
          "Coleopteran insect resistance",
          "Coleopteran insect resistance",
          "Coleopteran insect resistance",
          "Coleopteran insect resistance",
          "Coleopteran insect resistance",
          "Coleopteran insect resistance",
          "Delayed fruit softening",
          "Delayed ripening/senescence",
          "Delayed ripening/senescence",
          "Delayed ripening/senescence",
          "Delayed ripening/senescence",
          "Delayed ripening/senescence",
          "Delayed ripening/senescence",
          "Dicamba herbicide tolerance",
          "Drought stress tolerance",
          "Drought stress tolerance",
          "Drought stress tolerance",
          "Drought stress tolerance",
          "Enhanced Photosynthesis/Yield",
          "Enhanced Provitamin A Content",
          "Enhanced Provitamin A Content",
          "Fertility restoration",
          "Fertility restoration",
          "Foliar Late Blight Resistance",
          "Glufosinate herbicide tolerance",
          "Glufosinate herbicide tolerance",
          "Glufosinate herbicide tolerance",
          "Glyphosate herbicide tolerance",
          "Glyphosate herbicide tolerance",
          "Glyphosate herbicide tolerance",
          "Glyphosate herbicide tolerance",
          "Glyphosate herbicide tolerance",
          "Glyphosate herbicide tolerance",
          "Glyphosate herbicide tolerance",
          "Glyphosate herbicide tolerance",
          "Hemipteran Insect Resistance",
          "Imazamox herbicide tolerance",
          "Increased Ear Biomass",
          "Inhibited stem elongation (dwarfed)",
          "Isoxaflutole herbicide tolerance",
          "Late blight disease resistance",
          "Lepidopteran insect resistance",
          "Lepidopteran insect resistance",
          "Lepidopteran insect resistance",
          "Lepidopteran insect resistance",
          "Lepidopteran insect resistance",
          "Lepidopteran insect resistance",
          "Lepidopteran insect resistance",
          "Lepidopteran insect resistance",
          "Lepidopteran insect resistance",
          "Lepidopteran insect resistance",
          "Lepidopteran insect resistance",
          "Lepidopteran insect resistance",
          "Lepidopteran insect resistance",
          "Lepidopteran insect resistance",
          "Lepidopteran insect resistance",
          "Lepidopteran insect resistance",
          "Low Gossypol",
          "Lowered Free Asparagine",
          "Lowered Reducing Sugars",
          "Lowered Reducing Sugars",
          "Lowered Reducing Sugars",
          "Male sterility",
          "Male sterility",
          "Male sterility",
          "Mannose metabolism",
          "Mesotrione Herbicide Tolerance",
          "Modified alpha amylase",
          "Modified amino acid",
          "Modified flower color",
          "Modified flower color",
          "Modified flower color",
          "Modified flower color",
          "Modified flower color",
          "Modified flower color",
          "Modified flower color",
          "Modified fruit color",
          "Modified fruit color",
          "Modified fruit color",
          "Modified oil/fatty acid",
          "Modified oil/fatty acid",
          "Modified oil/fatty acid",
          "Modified oil/fatty acid",
          "Modified oil/fatty acid",
          "Modified oil/fatty acid",
          "Modified oil/fatty acid",
          "Modified oil/fatty acid",
          "Modified oil/fatty acid",
          "Modified oil/fatty acid",
          "Modified oil/fatty acid",
          "Modified oil/fatty acid",
          "Modified oil/fatty acid",
          "Modified oil/fatty acid",
          "Modified oil/fatty acid",
          "Modified oil/fatty acid",
          "Modified oil/fatty acid",
          "Modified oil/fatty acid",
          "Modified oil/fatty acid",
          "Modified oil/fatty acid",
          "Modified oil/fatty acid",
          "Modified oil/fatty acid",
          "Modified oil/fatty acid",
          "Modified oil/fatty acid",
          "Modified oil/fatty acid",
          "Modified oil/fatty acid",
          "Modified starch/carbohydrate",
          "Multiple insect resistance",
          "Multiple insect resistance",
          "Multiple insect resistance",
          "Nicotine reduction",
          "Non-Browning",
          "Nopaline synthesis",
          "Oxynil herbicide tolerance",
          "Phytase production",
          "Phytase production",
          "Reduced Black Spot",
          "Sulfonylurea herbicide tolerance",
          "Sulfonylurea herbicide tolerance",
          "Sulfonylurea herbicide tolerance",
          "Sulfonylurea herbicide tolerance",
          "Sulfonylurea herbicide tolerance",
          "Sulfonylurea herbicide tolerance",
          "Viral disease resistance",
          "Viral disease resistance",
          "Viral disease resistance",
          "Viral disease resistance",
          "Viral disease resistance",
          "Viral disease resistance",
          "Viral disease resistance",
          "Viral disease resistance",
          "Viral disease resistance",
          "Viral disease resistance",
          "Visual marker",
          "Visual marker",
          "Volumetric Wood Increase"
         ],
         "xaxis": "x",
         "yaxis": "y"
        }
       ],
       "layout": {
        "barmode": "relative",
        "legend": {
         "tracegroupgap": 0
        },
        "template": {
         "data": {
          "bar": [
           {
            "error_x": {
             "color": "#2a3f5f"
            },
            "error_y": {
             "color": "#2a3f5f"
            },
            "marker": {
             "line": {
              "color": "#E5ECF6",
              "width": 0.5
             }
            },
            "type": "bar"
           }
          ],
          "barpolar": [
           {
            "marker": {
             "line": {
              "color": "#E5ECF6",
              "width": 0.5
             }
            },
            "type": "barpolar"
           }
          ],
          "carpet": [
           {
            "aaxis": {
             "endlinecolor": "#2a3f5f",
             "gridcolor": "white",
             "linecolor": "white",
             "minorgridcolor": "white",
             "startlinecolor": "#2a3f5f"
            },
            "baxis": {
             "endlinecolor": "#2a3f5f",
             "gridcolor": "white",
             "linecolor": "white",
             "minorgridcolor": "white",
             "startlinecolor": "#2a3f5f"
            },
            "type": "carpet"
           }
          ],
          "choropleth": [
           {
            "colorbar": {
             "outlinewidth": 0,
             "ticks": ""
            },
            "type": "choropleth"
           }
          ],
          "contour": [
           {
            "colorbar": {
             "outlinewidth": 0,
             "ticks": ""
            },
            "colorscale": [
             [
              0,
              "#0d0887"
             ],
             [
              0.1111111111111111,
              "#46039f"
             ],
             [
              0.2222222222222222,
              "#7201a8"
             ],
             [
              0.3333333333333333,
              "#9c179e"
             ],
             [
              0.4444444444444444,
              "#bd3786"
             ],
             [
              0.5555555555555556,
              "#d8576b"
             ],
             [
              0.6666666666666666,
              "#ed7953"
             ],
             [
              0.7777777777777778,
              "#fb9f3a"
             ],
             [
              0.8888888888888888,
              "#fdca26"
             ],
             [
              1,
              "#f0f921"
             ]
            ],
            "type": "contour"
           }
          ],
          "contourcarpet": [
           {
            "colorbar": {
             "outlinewidth": 0,
             "ticks": ""
            },
            "type": "contourcarpet"
           }
          ],
          "heatmap": [
           {
            "colorbar": {
             "outlinewidth": 0,
             "ticks": ""
            },
            "colorscale": [
             [
              0,
              "#0d0887"
             ],
             [
              0.1111111111111111,
              "#46039f"
             ],
             [
              0.2222222222222222,
              "#7201a8"
             ],
             [
              0.3333333333333333,
              "#9c179e"
             ],
             [
              0.4444444444444444,
              "#bd3786"
             ],
             [
              0.5555555555555556,
              "#d8576b"
             ],
             [
              0.6666666666666666,
              "#ed7953"
             ],
             [
              0.7777777777777778,
              "#fb9f3a"
             ],
             [
              0.8888888888888888,
              "#fdca26"
             ],
             [
              1,
              "#f0f921"
             ]
            ],
            "type": "heatmap"
           }
          ],
          "heatmapgl": [
           {
            "colorbar": {
             "outlinewidth": 0,
             "ticks": ""
            },
            "colorscale": [
             [
              0,
              "#0d0887"
             ],
             [
              0.1111111111111111,
              "#46039f"
             ],
             [
              0.2222222222222222,
              "#7201a8"
             ],
             [
              0.3333333333333333,
              "#9c179e"
             ],
             [
              0.4444444444444444,
              "#bd3786"
             ],
             [
              0.5555555555555556,
              "#d8576b"
             ],
             [
              0.6666666666666666,
              "#ed7953"
             ],
             [
              0.7777777777777778,
              "#fb9f3a"
             ],
             [
              0.8888888888888888,
              "#fdca26"
             ],
             [
              1,
              "#f0f921"
             ]
            ],
            "type": "heatmapgl"
           }
          ],
          "histogram": [
           {
            "marker": {
             "colorbar": {
              "outlinewidth": 0,
              "ticks": ""
             }
            },
            "type": "histogram"
           }
          ],
          "histogram2d": [
           {
            "colorbar": {
             "outlinewidth": 0,
             "ticks": ""
            },
            "colorscale": [
             [
              0,
              "#0d0887"
             ],
             [
              0.1111111111111111,
              "#46039f"
             ],
             [
              0.2222222222222222,
              "#7201a8"
             ],
             [
              0.3333333333333333,
              "#9c179e"
             ],
             [
              0.4444444444444444,
              "#bd3786"
             ],
             [
              0.5555555555555556,
              "#d8576b"
             ],
             [
              0.6666666666666666,
              "#ed7953"
             ],
             [
              0.7777777777777778,
              "#fb9f3a"
             ],
             [
              0.8888888888888888,
              "#fdca26"
             ],
             [
              1,
              "#f0f921"
             ]
            ],
            "type": "histogram2d"
           }
          ],
          "histogram2dcontour": [
           {
            "colorbar": {
             "outlinewidth": 0,
             "ticks": ""
            },
            "colorscale": [
             [
              0,
              "#0d0887"
             ],
             [
              0.1111111111111111,
              "#46039f"
             ],
             [
              0.2222222222222222,
              "#7201a8"
             ],
             [
              0.3333333333333333,
              "#9c179e"
             ],
             [
              0.4444444444444444,
              "#bd3786"
             ],
             [
              0.5555555555555556,
              "#d8576b"
             ],
             [
              0.6666666666666666,
              "#ed7953"
             ],
             [
              0.7777777777777778,
              "#fb9f3a"
             ],
             [
              0.8888888888888888,
              "#fdca26"
             ],
             [
              1,
              "#f0f921"
             ]
            ],
            "type": "histogram2dcontour"
           }
          ],
          "mesh3d": [
           {
            "colorbar": {
             "outlinewidth": 0,
             "ticks": ""
            },
            "type": "mesh3d"
           }
          ],
          "parcoords": [
           {
            "line": {
             "colorbar": {
              "outlinewidth": 0,
              "ticks": ""
             }
            },
            "type": "parcoords"
           }
          ],
          "pie": [
           {
            "automargin": true,
            "type": "pie"
           }
          ],
          "scatter": [
           {
            "marker": {
             "colorbar": {
              "outlinewidth": 0,
              "ticks": ""
             }
            },
            "type": "scatter"
           }
          ],
          "scatter3d": [
           {
            "line": {
             "colorbar": {
              "outlinewidth": 0,
              "ticks": ""
             }
            },
            "marker": {
             "colorbar": {
              "outlinewidth": 0,
              "ticks": ""
             }
            },
            "type": "scatter3d"
           }
          ],
          "scattercarpet": [
           {
            "marker": {
             "colorbar": {
              "outlinewidth": 0,
              "ticks": ""
             }
            },
            "type": "scattercarpet"
           }
          ],
          "scattergeo": [
           {
            "marker": {
             "colorbar": {
              "outlinewidth": 0,
              "ticks": ""
             }
            },
            "type": "scattergeo"
           }
          ],
          "scattergl": [
           {
            "marker": {
             "colorbar": {
              "outlinewidth": 0,
              "ticks": ""
             }
            },
            "type": "scattergl"
           }
          ],
          "scattermapbox": [
           {
            "marker": {
             "colorbar": {
              "outlinewidth": 0,
              "ticks": ""
             }
            },
            "type": "scattermapbox"
           }
          ],
          "scatterpolar": [
           {
            "marker": {
             "colorbar": {
              "outlinewidth": 0,
              "ticks": ""
             }
            },
            "type": "scatterpolar"
           }
          ],
          "scatterpolargl": [
           {
            "marker": {
             "colorbar": {
              "outlinewidth": 0,
              "ticks": ""
             }
            },
            "type": "scatterpolargl"
           }
          ],
          "scatterternary": [
           {
            "marker": {
             "colorbar": {
              "outlinewidth": 0,
              "ticks": ""
             }
            },
            "type": "scatterternary"
           }
          ],
          "surface": [
           {
            "colorbar": {
             "outlinewidth": 0,
             "ticks": ""
            },
            "colorscale": [
             [
              0,
              "#0d0887"
             ],
             [
              0.1111111111111111,
              "#46039f"
             ],
             [
              0.2222222222222222,
              "#7201a8"
             ],
             [
              0.3333333333333333,
              "#9c179e"
             ],
             [
              0.4444444444444444,
              "#bd3786"
             ],
             [
              0.5555555555555556,
              "#d8576b"
             ],
             [
              0.6666666666666666,
              "#ed7953"
             ],
             [
              0.7777777777777778,
              "#fb9f3a"
             ],
             [
              0.8888888888888888,
              "#fdca26"
             ],
             [
              1,
              "#f0f921"
             ]
            ],
            "type": "surface"
           }
          ],
          "table": [
           {
            "cells": {
             "fill": {
              "color": "#EBF0F8"
             },
             "line": {
              "color": "white"
             }
            },
            "header": {
             "fill": {
              "color": "#C8D4E3"
             },
             "line": {
              "color": "white"
             }
            },
            "type": "table"
           }
          ]
         },
         "layout": {
          "annotationdefaults": {
           "arrowcolor": "#2a3f5f",
           "arrowhead": 0,
           "arrowwidth": 1
          },
          "coloraxis": {
           "colorbar": {
            "outlinewidth": 0,
            "ticks": ""
           }
          },
          "colorscale": {
           "diverging": [
            [
             0,
             "#8e0152"
            ],
            [
             0.1,
             "#c51b7d"
            ],
            [
             0.2,
             "#de77ae"
            ],
            [
             0.3,
             "#f1b6da"
            ],
            [
             0.4,
             "#fde0ef"
            ],
            [
             0.5,
             "#f7f7f7"
            ],
            [
             0.6,
             "#e6f5d0"
            ],
            [
             0.7,
             "#b8e186"
            ],
            [
             0.8,
             "#7fbc41"
            ],
            [
             0.9,
             "#4d9221"
            ],
            [
             1,
             "#276419"
            ]
           ],
           "sequential": [
            [
             0,
             "#0d0887"
            ],
            [
             0.1111111111111111,
             "#46039f"
            ],
            [
             0.2222222222222222,
             "#7201a8"
            ],
            [
             0.3333333333333333,
             "#9c179e"
            ],
            [
             0.4444444444444444,
             "#bd3786"
            ],
            [
             0.5555555555555556,
             "#d8576b"
            ],
            [
             0.6666666666666666,
             "#ed7953"
            ],
            [
             0.7777777777777778,
             "#fb9f3a"
            ],
            [
             0.8888888888888888,
             "#fdca26"
            ],
            [
             1,
             "#f0f921"
            ]
           ],
           "sequentialminus": [
            [
             0,
             "#0d0887"
            ],
            [
             0.1111111111111111,
             "#46039f"
            ],
            [
             0.2222222222222222,
             "#7201a8"
            ],
            [
             0.3333333333333333,
             "#9c179e"
            ],
            [
             0.4444444444444444,
             "#bd3786"
            ],
            [
             0.5555555555555556,
             "#d8576b"
            ],
            [
             0.6666666666666666,
             "#ed7953"
            ],
            [
             0.7777777777777778,
             "#fb9f3a"
            ],
            [
             0.8888888888888888,
             "#fdca26"
            ],
            [
             1,
             "#f0f921"
            ]
           ]
          },
          "colorway": [
           "#636efa",
           "#EF553B",
           "#00cc96",
           "#ab63fa",
           "#FFA15A",
           "#19d3f3",
           "#FF6692",
           "#B6E880",
           "#FF97FF",
           "#FECB52"
          ],
          "font": {
           "color": "#2a3f5f"
          },
          "geo": {
           "bgcolor": "white",
           "lakecolor": "white",
           "landcolor": "#E5ECF6",
           "showlakes": true,
           "showland": true,
           "subunitcolor": "white"
          },
          "hoverlabel": {
           "align": "left"
          },
          "hovermode": "closest",
          "mapbox": {
           "style": "light"
          },
          "paper_bgcolor": "white",
          "plot_bgcolor": "#E5ECF6",
          "polar": {
           "angularaxis": {
            "gridcolor": "white",
            "linecolor": "white",
            "ticks": ""
           },
           "bgcolor": "#E5ECF6",
           "radialaxis": {
            "gridcolor": "white",
            "linecolor": "white",
            "ticks": ""
           }
          },
          "scene": {
           "xaxis": {
            "backgroundcolor": "#E5ECF6",
            "gridcolor": "white",
            "gridwidth": 2,
            "linecolor": "white",
            "showbackground": true,
            "ticks": "",
            "zerolinecolor": "white"
           },
           "yaxis": {
            "backgroundcolor": "#E5ECF6",
            "gridcolor": "white",
            "gridwidth": 2,
            "linecolor": "white",
            "showbackground": true,
            "ticks": "",
            "zerolinecolor": "white"
           },
           "zaxis": {
            "backgroundcolor": "#E5ECF6",
            "gridcolor": "white",
            "gridwidth": 2,
            "linecolor": "white",
            "showbackground": true,
            "ticks": "",
            "zerolinecolor": "white"
           }
          },
          "shapedefaults": {
           "line": {
            "color": "#2a3f5f"
           }
          },
          "ternary": {
           "aaxis": {
            "gridcolor": "white",
            "linecolor": "white",
            "ticks": ""
           },
           "baxis": {
            "gridcolor": "white",
            "linecolor": "white",
            "ticks": ""
           },
           "bgcolor": "#E5ECF6",
           "caxis": {
            "gridcolor": "white",
            "linecolor": "white",
            "ticks": ""
           }
          },
          "title": {
           "x": 0.05
          },
          "xaxis": {
           "automargin": true,
           "gridcolor": "white",
           "linecolor": "white",
           "ticks": "",
           "title": {
            "standoff": 15
           },
           "zerolinecolor": "white",
           "zerolinewidth": 2
          },
          "yaxis": {
           "automargin": true,
           "gridcolor": "white",
           "linecolor": "white",
           "ticks": "",
           "title": {
            "standoff": 15
           },
           "zerolinecolor": "white",
           "zerolinewidth": 2
          }
         }
        },
        "title": {
         "text": "Number of genes associated with traits"
        },
        "xaxis": {
         "anchor": "y",
         "categoryorder": "total descending",
         "domain": [
          0,
          1
         ],
         "title": {
          "text": "Phenotypic Trait"
         }
        },
        "yaxis": {
         "anchor": "x",
         "domain": [
          0,
          1
         ],
         "title": {
          "text": "count"
         }
        }
       }
      },
      "text/html": [
       "<div>\n",
       "        \n",
       "        \n",
       "            <div id=\"c8c0be19-3b9b-4e5f-be28-d7bc939f9787\" class=\"plotly-graph-div\" style=\"height:525px; width:100%;\"></div>\n",
       "            <script type=\"text/javascript\">\n",
       "                require([\"plotly\"], function(Plotly) {\n",
       "                    window.PLOTLYENV=window.PLOTLYENV || {};\n",
       "                    \n",
       "                if (document.getElementById(\"c8c0be19-3b9b-4e5f-be28-d7bc939f9787\")) {\n",
       "                    Plotly.newPlot(\n",
       "                        'c8c0be19-3b9b-4e5f-be28-d7bc939f9787',\n",
       "                        [{\"alignmentgroup\": \"True\", \"bingroup\": \"x\", \"hovertemplate\": \"Phenotypic Trait=%{x}<br>count=%{y}<extra></extra>\", \"legendgroup\": \"\", \"marker\": {\"color\": \"#636efa\"}, \"name\": \"\", \"offsetgroup\": \"\", \"orientation\": \"v\", \"showlegend\": false, \"type\": \"histogram\", \"x\": [\"2,4-D herbicide tolerance\", \"Altered lignin production\", \"Altered lignin production\", \"Anti-allergy\", \"Antibiotic resistance\", \"Antibiotic resistance\", \"Antibiotic resistance\", \"Antibiotic resistance\", \"Antibiotic resistance\", \"Antibiotic resistance\", \"Coleopteran insect resistance\", \"Coleopteran insect resistance\", \"Coleopteran insect resistance\", \"Coleopteran insect resistance\", \"Coleopteran insect resistance\", \"Coleopteran insect resistance\", \"Delayed fruit softening\", \"Delayed ripening/senescence\", \"Delayed ripening/senescence\", \"Delayed ripening/senescence\", \"Delayed ripening/senescence\", \"Delayed ripening/senescence\", \"Delayed ripening/senescence\", \"Dicamba herbicide tolerance\", \"Drought stress tolerance\", \"Drought stress tolerance\", \"Drought stress tolerance\", \"Drought stress tolerance\", \"Enhanced Photosynthesis/Yield\", \"Enhanced Provitamin A Content\", \"Enhanced Provitamin A Content\", \"Fertility restoration\", \"Fertility restoration\", \"Foliar Late Blight Resistance\", \"Glufosinate herbicide tolerance\", \"Glufosinate herbicide tolerance\", \"Glufosinate herbicide tolerance\", \"Glyphosate herbicide tolerance\", \"Glyphosate herbicide tolerance\", \"Glyphosate herbicide tolerance\", \"Glyphosate herbicide tolerance\", \"Glyphosate herbicide tolerance\", \"Glyphosate herbicide tolerance\", \"Glyphosate herbicide tolerance\", \"Glyphosate herbicide tolerance\", \"Hemipteran Insect Resistance\", \"Imazamox herbicide tolerance\", \"Increased Ear Biomass\", \"Inhibited stem elongation (dwarfed)\", \"Isoxaflutole herbicide tolerance\", \"Late blight disease resistance\", \"Lepidopteran insect resistance\", \"Lepidopteran insect resistance\", \"Lepidopteran insect resistance\", \"Lepidopteran insect resistance\", \"Lepidopteran insect resistance\", \"Lepidopteran insect resistance\", \"Lepidopteran insect resistance\", \"Lepidopteran insect resistance\", \"Lepidopteran insect resistance\", \"Lepidopteran insect resistance\", \"Lepidopteran insect resistance\", \"Lepidopteran insect resistance\", \"Lepidopteran insect resistance\", \"Lepidopteran insect resistance\", \"Lepidopteran insect resistance\", \"Lepidopteran insect resistance\", \"Low Gossypol\", \"Lowered Free Asparagine\", \"Lowered Reducing Sugars\", \"Lowered Reducing Sugars\", \"Lowered Reducing Sugars\", \"Male sterility\", \"Male sterility\", \"Male sterility\", \"Mannose metabolism\", \"Mesotrione Herbicide Tolerance\", \"Modified alpha amylase\", \"Modified amino acid\", \"Modified flower color\", \"Modified flower color\", \"Modified flower color\", \"Modified flower color\", \"Modified flower color\", \"Modified flower color\", \"Modified flower color\", \"Modified fruit color\", \"Modified fruit color\", \"Modified fruit color\", \"Modified oil/fatty acid\", \"Modified oil/fatty acid\", \"Modified oil/fatty acid\", \"Modified oil/fatty acid\", \"Modified oil/fatty acid\", \"Modified oil/fatty acid\", \"Modified oil/fatty acid\", \"Modified oil/fatty acid\", \"Modified oil/fatty acid\", \"Modified oil/fatty acid\", \"Modified oil/fatty acid\", \"Modified oil/fatty acid\", \"Modified oil/fatty acid\", \"Modified oil/fatty acid\", \"Modified oil/fatty acid\", \"Modified oil/fatty acid\", \"Modified oil/fatty acid\", \"Modified oil/fatty acid\", \"Modified oil/fatty acid\", \"Modified oil/fatty acid\", \"Modified oil/fatty acid\", \"Modified oil/fatty acid\", \"Modified oil/fatty acid\", \"Modified oil/fatty acid\", \"Modified oil/fatty acid\", \"Modified oil/fatty acid\", \"Modified starch/carbohydrate\", \"Multiple insect resistance\", \"Multiple insect resistance\", \"Multiple insect resistance\", \"Nicotine reduction\", \"Non-Browning\", \"Nopaline synthesis\", \"Oxynil herbicide tolerance\", \"Phytase production\", \"Phytase production\", \"Reduced Black Spot\", \"Sulfonylurea herbicide tolerance\", \"Sulfonylurea herbicide tolerance\", \"Sulfonylurea herbicide tolerance\", \"Sulfonylurea herbicide tolerance\", \"Sulfonylurea herbicide tolerance\", \"Sulfonylurea herbicide tolerance\", \"Viral disease resistance\", \"Viral disease resistance\", \"Viral disease resistance\", \"Viral disease resistance\", \"Viral disease resistance\", \"Viral disease resistance\", \"Viral disease resistance\", \"Viral disease resistance\", \"Viral disease resistance\", \"Viral disease resistance\", \"Visual marker\", \"Visual marker\", \"Volumetric Wood Increase\"], \"xaxis\": \"x\", \"yaxis\": \"y\"}],\n",
       "                        {\"barmode\": \"relative\", \"legend\": {\"tracegroupgap\": 0}, \"template\": {\"data\": {\"bar\": [{\"error_x\": {\"color\": \"#2a3f5f\"}, \"error_y\": {\"color\": \"#2a3f5f\"}, \"marker\": {\"line\": {\"color\": \"#E5ECF6\", \"width\": 0.5}}, \"type\": \"bar\"}], \"barpolar\": [{\"marker\": {\"line\": {\"color\": \"#E5ECF6\", \"width\": 0.5}}, \"type\": \"barpolar\"}], \"carpet\": [{\"aaxis\": {\"endlinecolor\": \"#2a3f5f\", \"gridcolor\": \"white\", \"linecolor\": \"white\", \"minorgridcolor\": \"white\", \"startlinecolor\": \"#2a3f5f\"}, \"baxis\": {\"endlinecolor\": \"#2a3f5f\", \"gridcolor\": \"white\", \"linecolor\": \"white\", \"minorgridcolor\": \"white\", \"startlinecolor\": \"#2a3f5f\"}, \"type\": \"carpet\"}], \"choropleth\": [{\"colorbar\": {\"outlinewidth\": 0, \"ticks\": \"\"}, \"type\": \"choropleth\"}], \"contour\": [{\"colorbar\": {\"outlinewidth\": 0, \"ticks\": \"\"}, \"colorscale\": [[0.0, \"#0d0887\"], [0.1111111111111111, \"#46039f\"], [0.2222222222222222, \"#7201a8\"], [0.3333333333333333, \"#9c179e\"], [0.4444444444444444, \"#bd3786\"], [0.5555555555555556, \"#d8576b\"], [0.6666666666666666, \"#ed7953\"], [0.7777777777777778, \"#fb9f3a\"], [0.8888888888888888, \"#fdca26\"], [1.0, \"#f0f921\"]], \"type\": \"contour\"}], \"contourcarpet\": [{\"colorbar\": {\"outlinewidth\": 0, \"ticks\": \"\"}, \"type\": \"contourcarpet\"}], \"heatmap\": [{\"colorbar\": {\"outlinewidth\": 0, \"ticks\": \"\"}, \"colorscale\": [[0.0, \"#0d0887\"], [0.1111111111111111, \"#46039f\"], [0.2222222222222222, \"#7201a8\"], [0.3333333333333333, \"#9c179e\"], [0.4444444444444444, \"#bd3786\"], [0.5555555555555556, \"#d8576b\"], [0.6666666666666666, \"#ed7953\"], [0.7777777777777778, \"#fb9f3a\"], [0.8888888888888888, \"#fdca26\"], [1.0, \"#f0f921\"]], \"type\": \"heatmap\"}], \"heatmapgl\": [{\"colorbar\": {\"outlinewidth\": 0, \"ticks\": \"\"}, \"colorscale\": [[0.0, \"#0d0887\"], [0.1111111111111111, \"#46039f\"], [0.2222222222222222, \"#7201a8\"], [0.3333333333333333, \"#9c179e\"], [0.4444444444444444, \"#bd3786\"], [0.5555555555555556, \"#d8576b\"], [0.6666666666666666, \"#ed7953\"], [0.7777777777777778, \"#fb9f3a\"], [0.8888888888888888, \"#fdca26\"], [1.0, \"#f0f921\"]], \"type\": \"heatmapgl\"}], \"histogram\": [{\"marker\": {\"colorbar\": {\"outlinewidth\": 0, \"ticks\": \"\"}}, \"type\": \"histogram\"}], \"histogram2d\": [{\"colorbar\": {\"outlinewidth\": 0, \"ticks\": \"\"}, \"colorscale\": [[0.0, \"#0d0887\"], [0.1111111111111111, \"#46039f\"], [0.2222222222222222, \"#7201a8\"], [0.3333333333333333, \"#9c179e\"], [0.4444444444444444, \"#bd3786\"], [0.5555555555555556, \"#d8576b\"], [0.6666666666666666, \"#ed7953\"], [0.7777777777777778, \"#fb9f3a\"], [0.8888888888888888, \"#fdca26\"], [1.0, \"#f0f921\"]], \"type\": \"histogram2d\"}], \"histogram2dcontour\": [{\"colorbar\": {\"outlinewidth\": 0, \"ticks\": \"\"}, \"colorscale\": [[0.0, \"#0d0887\"], [0.1111111111111111, \"#46039f\"], [0.2222222222222222, \"#7201a8\"], [0.3333333333333333, \"#9c179e\"], [0.4444444444444444, \"#bd3786\"], [0.5555555555555556, \"#d8576b\"], [0.6666666666666666, \"#ed7953\"], [0.7777777777777778, \"#fb9f3a\"], [0.8888888888888888, \"#fdca26\"], [1.0, \"#f0f921\"]], \"type\": \"histogram2dcontour\"}], \"mesh3d\": [{\"colorbar\": {\"outlinewidth\": 0, \"ticks\": \"\"}, \"type\": \"mesh3d\"}], \"parcoords\": [{\"line\": {\"colorbar\": {\"outlinewidth\": 0, \"ticks\": \"\"}}, \"type\": \"parcoords\"}], \"pie\": [{\"automargin\": true, \"type\": \"pie\"}], \"scatter\": [{\"marker\": {\"colorbar\": {\"outlinewidth\": 0, \"ticks\": \"\"}}, \"type\": \"scatter\"}], \"scatter3d\": [{\"line\": {\"colorbar\": {\"outlinewidth\": 0, \"ticks\": \"\"}}, \"marker\": {\"colorbar\": {\"outlinewidth\": 0, \"ticks\": \"\"}}, \"type\": \"scatter3d\"}], \"scattercarpet\": [{\"marker\": {\"colorbar\": {\"outlinewidth\": 0, \"ticks\": \"\"}}, \"type\": \"scattercarpet\"}], \"scattergeo\": [{\"marker\": {\"colorbar\": {\"outlinewidth\": 0, \"ticks\": \"\"}}, \"type\": \"scattergeo\"}], \"scattergl\": [{\"marker\": {\"colorbar\": {\"outlinewidth\": 0, \"ticks\": \"\"}}, \"type\": \"scattergl\"}], \"scattermapbox\": [{\"marker\": {\"colorbar\": {\"outlinewidth\": 0, \"ticks\": \"\"}}, \"type\": \"scattermapbox\"}], \"scatterpolar\": [{\"marker\": {\"colorbar\": {\"outlinewidth\": 0, \"ticks\": \"\"}}, \"type\": \"scatterpolar\"}], \"scatterpolargl\": [{\"marker\": {\"colorbar\": {\"outlinewidth\": 0, \"ticks\": \"\"}}, \"type\": \"scatterpolargl\"}], \"scatterternary\": [{\"marker\": {\"colorbar\": {\"outlinewidth\": 0, \"ticks\": \"\"}}, \"type\": \"scatterternary\"}], \"surface\": [{\"colorbar\": {\"outlinewidth\": 0, \"ticks\": \"\"}, \"colorscale\": [[0.0, \"#0d0887\"], [0.1111111111111111, \"#46039f\"], [0.2222222222222222, \"#7201a8\"], [0.3333333333333333, \"#9c179e\"], [0.4444444444444444, \"#bd3786\"], [0.5555555555555556, \"#d8576b\"], [0.6666666666666666, \"#ed7953\"], [0.7777777777777778, \"#fb9f3a\"], [0.8888888888888888, \"#fdca26\"], [1.0, \"#f0f921\"]], \"type\": \"surface\"}], \"table\": [{\"cells\": {\"fill\": {\"color\": \"#EBF0F8\"}, \"line\": {\"color\": \"white\"}}, \"header\": {\"fill\": {\"color\": \"#C8D4E3\"}, \"line\": {\"color\": \"white\"}}, \"type\": \"table\"}]}, \"layout\": {\"annotationdefaults\": {\"arrowcolor\": \"#2a3f5f\", \"arrowhead\": 0, \"arrowwidth\": 1}, \"coloraxis\": {\"colorbar\": {\"outlinewidth\": 0, \"ticks\": \"\"}}, \"colorscale\": {\"diverging\": [[0, \"#8e0152\"], [0.1, \"#c51b7d\"], [0.2, \"#de77ae\"], [0.3, \"#f1b6da\"], [0.4, \"#fde0ef\"], [0.5, \"#f7f7f7\"], [0.6, \"#e6f5d0\"], [0.7, \"#b8e186\"], [0.8, \"#7fbc41\"], [0.9, \"#4d9221\"], [1, \"#276419\"]], \"sequential\": [[0.0, \"#0d0887\"], [0.1111111111111111, \"#46039f\"], [0.2222222222222222, \"#7201a8\"], [0.3333333333333333, \"#9c179e\"], [0.4444444444444444, \"#bd3786\"], [0.5555555555555556, \"#d8576b\"], [0.6666666666666666, \"#ed7953\"], [0.7777777777777778, \"#fb9f3a\"], [0.8888888888888888, \"#fdca26\"], [1.0, \"#f0f921\"]], \"sequentialminus\": [[0.0, \"#0d0887\"], [0.1111111111111111, \"#46039f\"], [0.2222222222222222, \"#7201a8\"], [0.3333333333333333, \"#9c179e\"], [0.4444444444444444, \"#bd3786\"], [0.5555555555555556, \"#d8576b\"], [0.6666666666666666, \"#ed7953\"], [0.7777777777777778, \"#fb9f3a\"], [0.8888888888888888, \"#fdca26\"], [1.0, \"#f0f921\"]]}, \"colorway\": [\"#636efa\", \"#EF553B\", \"#00cc96\", \"#ab63fa\", \"#FFA15A\", \"#19d3f3\", \"#FF6692\", \"#B6E880\", \"#FF97FF\", \"#FECB52\"], \"font\": {\"color\": \"#2a3f5f\"}, \"geo\": {\"bgcolor\": \"white\", \"lakecolor\": \"white\", \"landcolor\": \"#E5ECF6\", \"showlakes\": true, \"showland\": true, \"subunitcolor\": \"white\"}, \"hoverlabel\": {\"align\": \"left\"}, \"hovermode\": \"closest\", \"mapbox\": {\"style\": \"light\"}, \"paper_bgcolor\": \"white\", \"plot_bgcolor\": \"#E5ECF6\", \"polar\": {\"angularaxis\": {\"gridcolor\": \"white\", \"linecolor\": \"white\", \"ticks\": \"\"}, \"bgcolor\": \"#E5ECF6\", \"radialaxis\": {\"gridcolor\": \"white\", \"linecolor\": \"white\", \"ticks\": \"\"}}, \"scene\": {\"xaxis\": {\"backgroundcolor\": \"#E5ECF6\", \"gridcolor\": \"white\", \"gridwidth\": 2, \"linecolor\": \"white\", \"showbackground\": true, \"ticks\": \"\", \"zerolinecolor\": \"white\"}, \"yaxis\": {\"backgroundcolor\": \"#E5ECF6\", \"gridcolor\": \"white\", \"gridwidth\": 2, \"linecolor\": \"white\", \"showbackground\": true, \"ticks\": \"\", \"zerolinecolor\": \"white\"}, \"zaxis\": {\"backgroundcolor\": \"#E5ECF6\", \"gridcolor\": \"white\", \"gridwidth\": 2, \"linecolor\": \"white\", \"showbackground\": true, \"ticks\": \"\", \"zerolinecolor\": \"white\"}}, \"shapedefaults\": {\"line\": {\"color\": \"#2a3f5f\"}}, \"ternary\": {\"aaxis\": {\"gridcolor\": \"white\", \"linecolor\": \"white\", \"ticks\": \"\"}, \"baxis\": {\"gridcolor\": \"white\", \"linecolor\": \"white\", \"ticks\": \"\"}, \"bgcolor\": \"#E5ECF6\", \"caxis\": {\"gridcolor\": \"white\", \"linecolor\": \"white\", \"ticks\": \"\"}}, \"title\": {\"x\": 0.05}, \"xaxis\": {\"automargin\": true, \"gridcolor\": \"white\", \"linecolor\": \"white\", \"ticks\": \"\", \"title\": {\"standoff\": 15}, \"zerolinecolor\": \"white\", \"zerolinewidth\": 2}, \"yaxis\": {\"automargin\": true, \"gridcolor\": \"white\", \"linecolor\": \"white\", \"ticks\": \"\", \"title\": {\"standoff\": 15}, \"zerolinecolor\": \"white\", \"zerolinewidth\": 2}}}, \"title\": {\"text\": \"Number of genes associated with traits\"}, \"xaxis\": {\"anchor\": \"y\", \"categoryorder\": \"total descending\", \"domain\": [0.0, 1.0], \"title\": {\"text\": \"Phenotypic Trait\"}}, \"yaxis\": {\"anchor\": \"x\", \"domain\": [0.0, 1.0], \"title\": {\"text\": \"count\"}}},\n",
       "                        {\"responsive\": true}\n",
       "                    ).then(function(){\n",
       "                            \n",
       "var gd = document.getElementById('c8c0be19-3b9b-4e5f-be28-d7bc939f9787');\n",
       "var x = new MutationObserver(function (mutations, observer) {{\n",
       "        var display = window.getComputedStyle(gd).display;\n",
       "        if (!display || display === 'none') {{\n",
       "            console.log([gd, 'removed!']);\n",
       "            Plotly.purge(gd);\n",
       "            observer.disconnect();\n",
       "        }}\n",
       "}});\n",
       "\n",
       "// Listen for the removal of the full notebook cells\n",
       "var notebookContainer = gd.closest('#notebook-container');\n",
       "if (notebookContainer) {{\n",
       "    x.observe(notebookContainer, {childList: true});\n",
       "}}\n",
       "\n",
       "// Listen for the clearing of the current output cell\n",
       "var outputEl = gd.closest('.output');\n",
       "if (outputEl) {{\n",
       "    x.observe(outputEl, {childList: true});\n",
       "}}\n",
       "\n",
       "                        })\n",
       "                };\n",
       "                });\n",
       "            </script>\n",
       "        </div>"
      ]
     },
     "metadata": {},
     "output_type": "display_data"
    }
   ],
   "source": [
    "# ❗️ Run this cell!\n",
    "# histogram of different genes associated with traits\n",
    "fig = px.histogram(traitdata, x=\"Trait\", title=\"Number of genes associated with traits\", \n",
    "                   labels={'Trait':'Phenotypic Trait'}).update_xaxes(categoryorder=\"total descending\")\n",
    "fig.show()"
   ]
  },
  {
   "cell_type": "markdown",
   "metadata": {},
   "source": [
    "### 📚 Look at the distribution of traits in the above two graphs. Which traits are the most popular? Why do you think that is?  \n",
    "\n",
    "\n",
    "Fill in the boxes marked with ✏️ by double clicking on it and filling in your answer. Remember to save your answers by clicking `File > Save and Checkpoint`!"
   ]
  },
  {
   "cell_type": "markdown",
   "metadata": {},
   "source": [
    "✏️\n",
    "\n",
    "✏️\n",
    "\n",
    "✏️"
   ]
  },
  {
   "cell_type": "markdown",
   "metadata": {},
   "source": [
    "### **🤖 Crop-3PO:** As you can see below, there are many genes associated with traits! "
   ]
  },
  {
   "cell_type": "code",
   "execution_count": 113,
   "metadata": {},
   "outputs": [
    {
     "data": {
      "text/html": [
       "<div>\n",
       "<style scoped>\n",
       "    .dataframe tbody tr th:only-of-type {\n",
       "        vertical-align: middle;\n",
       "    }\n",
       "\n",
       "    .dataframe tbody tr th {\n",
       "        vertical-align: top;\n",
       "    }\n",
       "\n",
       "    .dataframe thead th {\n",
       "        text-align: right;\n",
       "    }\n",
       "</style>\n",
       "<table border=\"1\" class=\"dataframe\">\n",
       "  <thead>\n",
       "    <tr style=\"text-align: right;\">\n",
       "      <th></th>\n",
       "      <th>Trait</th>\n",
       "      <th>Gene</th>\n",
       "      <th>Product</th>\n",
       "      <th>Source</th>\n",
       "      <th>Function</th>\n",
       "    </tr>\n",
       "  </thead>\n",
       "  <tbody>\n",
       "    <tr>\n",
       "      <th>0</th>\n",
       "      <td>2,4-D herbicide tolerance</td>\n",
       "      <td>aad-12</td>\n",
       "      <td>Delftia acidovorans</td>\n",
       "      <td>aryloxyalkanoate di-oxygenase 12 (AAD-12) protein</td>\n",
       "      <td>catalyzes the side chain degradation of 2,4-D herbicide</td>\n",
       "    </tr>\n",
       "    <tr>\n",
       "      <th>1</th>\n",
       "      <td>Altered lignin production</td>\n",
       "      <td>ccomt (inverted repeat)</td>\n",
       "      <td>Medicago sativa (alfalfa)</td>\n",
       "      <td>dsRNA that suppresses endogenous S-adenosyl-L-methionine: trans-caffeoyl CoA 3-O-methyltransferase (CCOMT gene) RNA transcript levels via the RNA interference (RNAi) pathway</td>\n",
       "      <td>reduces content of guaiacyl (G) lignin</td>\n",
       "    </tr>\n",
       "    <tr>\n",
       "      <th>2</th>\n",
       "      <td>Altered lignin production</td>\n",
       "      <td>EgCAld5H</td>\n",
       "      <td>Eucalyptus grandis</td>\n",
       "      <td>CAld5H enzyme</td>\n",
       "      <td>regulates the syringyl monolignol pathway;</td>\n",
       "    </tr>\n",
       "    <tr>\n",
       "      <th>3</th>\n",
       "      <td>Anti-allergy</td>\n",
       "      <td>7crp</td>\n",
       "      <td>synthetic form of tolerogenic protein from Cryptomeria japonica</td>\n",
       "      <td>modified cry j 1 and cry j 2 pollen antigens containing seven major human T cell epitopes</td>\n",
       "      <td>triggers mucosal immune tolerance to cedar pollen allergens</td>\n",
       "    </tr>\n",
       "    <tr>\n",
       "      <th>4</th>\n",
       "      <td>Antibiotic resistance</td>\n",
       "      <td>aad</td>\n",
       "      <td>Escherichia coli</td>\n",
       "      <td>3''(9)-O-aminoglycoside adenylyltransferase enzyme</td>\n",
       "      <td>allows selection for resistance to aminoglycoside antibiotics such as spectinomycin and streptomycin</td>\n",
       "    </tr>\n",
       "    <tr>\n",
       "      <th>5</th>\n",
       "      <td>Antibiotic resistance</td>\n",
       "      <td>aph4 (hpt)</td>\n",
       "      <td>Escherichia coli</td>\n",
       "      <td>hygromycin-B phosphotransferase (hph) enzyme</td>\n",
       "      <td>allows selection for resistance to the antibiotic hygromycin B</td>\n",
       "    </tr>\n",
       "    <tr>\n",
       "      <th>6</th>\n",
       "      <td>Antibiotic resistance</td>\n",
       "      <td>bla</td>\n",
       "      <td>Escherichia coli</td>\n",
       "      <td>beta lactamase enzyme</td>\n",
       "      <td>detoxifies beta lactam antibiotics such as ampicillin</td>\n",
       "    </tr>\n",
       "    <tr>\n",
       "      <th>7</th>\n",
       "      <td>Antibiotic resistance</td>\n",
       "      <td>hph</td>\n",
       "      <td>Streptomyces sp.</td>\n",
       "      <td>hygromycin phosphotransferase</td>\n",
       "      <td>allows selection for resistance to the antibiotic hygromycin B</td>\n",
       "    </tr>\n",
       "    <tr>\n",
       "      <th>8</th>\n",
       "      <td>Antibiotic resistance</td>\n",
       "      <td>nptII</td>\n",
       "      <td>Escherichia coli Tn5 transposon</td>\n",
       "      <td>neomycin phosphotransferase II enzyme</td>\n",
       "      <td>allows transformed plants to metabolize neomycin and kanamycin antibiotics during selection</td>\n",
       "    </tr>\n",
       "    <tr>\n",
       "      <th>9</th>\n",
       "      <td>Antibiotic resistance</td>\n",
       "      <td>spc</td>\n",
       "      <td>Escherichia coli</td>\n",
       "      <td>spectinomycin adenyl transferase enzyme (not expressed in plant tissues)</td>\n",
       "      <td>confers resistance to spectinomycin/streptomycin antibiotics, which permits prokaryotic selection</td>\n",
       "    </tr>\n",
       "    <tr>\n",
       "      <th>10</th>\n",
       "      <td>Coleopteran insect resistance</td>\n",
       "      <td>cry34Ab1</td>\n",
       "      <td>Bacillus thuringiensis strain PS149B1</td>\n",
       "      <td>Cry34Ab1 delta-endotoxin</td>\n",
       "      <td>confers resistance to coleopteran insects particularly corn rootworm by selectively damaging their midgut lining</td>\n",
       "    </tr>\n",
       "    <tr>\n",
       "      <th>11</th>\n",
       "      <td>Coleopteran insect resistance</td>\n",
       "      <td>cry35Ab1</td>\n",
       "      <td>Bacillus thuringiensis strain PS149B1</td>\n",
       "      <td>Cry35Ab1 delta-endotoxin</td>\n",
       "      <td>confers resistance to coleopteran insects particularly corn rootworm by selectively damaging their midgut lining</td>\n",
       "    </tr>\n",
       "    <tr>\n",
       "      <th>12</th>\n",
       "      <td>Coleopteran insect resistance</td>\n",
       "      <td>cry3A</td>\n",
       "      <td>Bacillus thuringiensis subsp. tenebrionis</td>\n",
       "      <td>cry3A delta endotoxin</td>\n",
       "      <td>confers resistance to coleopteran insects by selectively damaging their midgut lining</td>\n",
       "    </tr>\n",
       "    <tr>\n",
       "      <th>13</th>\n",
       "      <td>Coleopteran insect resistance</td>\n",
       "      <td>cry3Bb1</td>\n",
       "      <td>Bacillus thuringiensis subsp. kumamotoensis</td>\n",
       "      <td>Cry3Bb1 delta endotoxin</td>\n",
       "      <td>confers resistance to coleopteran insects particularly corn rootworm by selectively damaging their midgut lining</td>\n",
       "    </tr>\n",
       "    <tr>\n",
       "      <th>14</th>\n",
       "      <td>Coleopteran insect resistance</td>\n",
       "      <td>dvsnf7</td>\n",
       "      <td>Western Corn Rootworm (Diabrotica virgifera virgifera)</td>\n",
       "      <td>double-stranded RNA transcript containing a 240 bp fragment of the WCR Snf7 gene</td>\n",
       "      <td>RNAi interference resulting to down-regulation of the function of the targeted Snf7 gene leading to Western Corn Rootworm mortality.</td>\n",
       "    </tr>\n",
       "    <tr>\n",
       "      <th>15</th>\n",
       "      <td>Coleopteran insect resistance</td>\n",
       "      <td>mcry3A</td>\n",
       "      <td>synthetic form of cry3A gene from Bacillus thuringiensis subsp. tenebrionis</td>\n",
       "      <td>modified Cry3A delta-endotoxin</td>\n",
       "      <td>confers resistance to coleopteran insects particularly corn rootworm pests by selectively damaging their midgut lining</td>\n",
       "    </tr>\n",
       "    <tr>\n",
       "      <th>16</th>\n",
       "      <td>Delayed fruit softening</td>\n",
       "      <td>pg (sense or antisense)</td>\n",
       "      <td>Lycopersicon esculentum</td>\n",
       "      <td>no functional polygalacturonase enzyme is produced (transcription of the endogenous enzyme is suppressed by a gene silencing mechanism)</td>\n",
       "      <td>inhibits the production of polygalacturonase enzyme responsible for the breakdown of pectin molecules in the cell wall, and thus causes delayed softening of the fruit</td>\n",
       "    </tr>\n",
       "    <tr>\n",
       "      <th>17</th>\n",
       "      <td>Delayed ripening/senescence</td>\n",
       "      <td>acc</td>\n",
       "      <td>Ananas comosus</td>\n",
       "      <td>1-aminocyclopropane-1-carboxylic acid synthase</td>\n",
       "      <td>involved in catalyzing the penultimate step in ethylene biosynthesis</td>\n",
       "    </tr>\n",
       "    <tr>\n",
       "      <th>18</th>\n",
       "      <td>Delayed ripening/senescence</td>\n",
       "      <td>acc (truncated)</td>\n",
       "      <td>Lycopersicon esculentum</td>\n",
       "      <td>modified transcript of 1-amino-cyclopropane-1-carboxylic acid (ACC) synthase gene</td>\n",
       "      <td>suppresses the normal expression of the native ACC synthase gene, resulting in reduced ethylene production and delayed fruit ripening</td>\n",
       "    </tr>\n",
       "    <tr>\n",
       "      <th>19</th>\n",
       "      <td>Delayed ripening/senescence</td>\n",
       "      <td>acc (truncated)</td>\n",
       "      <td>Dianthus caryophyllus</td>\n",
       "      <td>modified transcript of 1-amino-cyclopropane -1-carboxylic acid (ACC) synthase gene</td>\n",
       "      <td>causes reduced synthesis of endogenous ethylene through a gene silencing mechanism and thus delayed senescence and longer vase life</td>\n",
       "    </tr>\n",
       "    <tr>\n",
       "      <th>20</th>\n",
       "      <td>Delayed ripening/senescence</td>\n",
       "      <td>accd</td>\n",
       "      <td>Pseudomonas chlororaphis</td>\n",
       "      <td>1-amino-cyclopropane-1-carboxylic acid deaminase enzyme</td>\n",
       "      <td>metabolizes the precursor of the fruit ripening hormone ethylene, resulting in delayed fruit ripening</td>\n",
       "    </tr>\n",
       "    <tr>\n",
       "      <th>21</th>\n",
       "      <td>Delayed ripening/senescence</td>\n",
       "      <td>anti-efe</td>\n",
       "      <td>Lycopersicon esculentum</td>\n",
       "      <td>antisense RNA of 1-amino-cyclopropane -1-carboxylate oxidase (ACO) gene (no functional ACO enzyme is produced)</td>\n",
       "      <td>causes delayed ripening by suppressing the production of ethylene via silencing of the ACO gene that encodes an ethylene-forming enzyme</td>\n",
       "    </tr>\n",
       "    <tr>\n",
       "      <th>22</th>\n",
       "      <td>Delayed ripening/senescence</td>\n",
       "      <td>sam-k</td>\n",
       "      <td>Escherichia coli bacteriophage T3</td>\n",
       "      <td>S-adenosylmethionine hydrolase enzyme</td>\n",
       "      <td>causes delayed ripening by reducing the S-adenosylmethionine (SAM), a substrate for ethylene production</td>\n",
       "    </tr>\n",
       "    <tr>\n",
       "      <th>23</th>\n",
       "      <td>Dicamba herbicide tolerance</td>\n",
       "      <td>dmo</td>\n",
       "      <td>Stenotrophomonas maltophilia strain DI-6</td>\n",
       "      <td>dicamba mono-oxygenase enzyme</td>\n",
       "      <td>confers tolerance to the herbicide dicamba (2-methoxy-3,6-dichlorobenzoic acid) by using dicamba as substrate in an enzymatic reaction</td>\n",
       "    </tr>\n",
       "    <tr>\n",
       "      <th>24</th>\n",
       "      <td>Drought stress tolerance</td>\n",
       "      <td>cspB</td>\n",
       "      <td>Bacillus subtilis</td>\n",
       "      <td>cold shock protein B</td>\n",
       "      <td>maintains normal cellular functions under water stress conditions by preserving RNA stability and translation</td>\n",
       "    </tr>\n",
       "    <tr>\n",
       "      <th>25</th>\n",
       "      <td>Drought stress tolerance</td>\n",
       "      <td>EcBetA</td>\n",
       "      <td>Escherichia coli</td>\n",
       "      <td>choline dehydrogenase</td>\n",
       "      <td>catalyzes the production of the osmoprotectant compound glycine betaine conferring tolerance to water stress</td>\n",
       "    </tr>\n",
       "    <tr>\n",
       "      <th>26</th>\n",
       "      <td>Drought stress tolerance</td>\n",
       "      <td>Hahb-4</td>\n",
       "      <td>Helianthus annuus</td>\n",
       "      <td>Isolated nucleic acid molecule encoding the transcription factor Hahb-4</td>\n",
       "      <td>the transcription factor Hahb-4 binds to a dehydration transcription regulating region of plant</td>\n",
       "    </tr>\n",
       "    <tr>\n",
       "      <th>27</th>\n",
       "      <td>Drought stress tolerance</td>\n",
       "      <td>RmBetA</td>\n",
       "      <td>Rhizobium meliloti</td>\n",
       "      <td>choline dehydrogenase</td>\n",
       "      <td>catalyzes the production of the osmoprotectant compound glycine betaine conferring tolerance to water stress</td>\n",
       "    </tr>\n",
       "    <tr>\n",
       "      <th>28</th>\n",
       "      <td>Enhanced Photosynthesis/Yield</td>\n",
       "      <td>bbx32</td>\n",
       "      <td>Arabidopsis thaliana</td>\n",
       "      <td>protein that interacts with one or more endogenous transcription factors to regulate the plant’s day/night physiological processes</td>\n",
       "      <td>to modulate plant's diurnal biology and to enhance growth and reproductive development</td>\n",
       "    </tr>\n",
       "    <tr>\n",
       "      <th>29</th>\n",
       "      <td>Enhanced Provitamin A Content</td>\n",
       "      <td>crt1</td>\n",
       "      <td>Pantoea ananatis</td>\n",
       "      <td>phytoene desaturase enzyme CRTI</td>\n",
       "      <td>catalyzes the conversion of 15-cis-phytoene to all-trans-lycopene</td>\n",
       "    </tr>\n",
       "    <tr>\n",
       "      <th>30</th>\n",
       "      <td>Enhanced Provitamin A Content</td>\n",
       "      <td>psy1</td>\n",
       "      <td>Zea mays</td>\n",
       "      <td>phytoene synthase ZmPSY1</td>\n",
       "      <td>converts geranylgeranyl diphosphate into phytoene, and acts upstream of CRTI in the carotenoid biosynthesis pathway</td>\n",
       "    </tr>\n",
       "    <tr>\n",
       "      <th>31</th>\n",
       "      <td>Fertility restoration</td>\n",
       "      <td>barstar</td>\n",
       "      <td>Bacillus amyloliquefaciens</td>\n",
       "      <td>barnase ribonuclease inhibitor</td>\n",
       "      <td>restores fertility by repressing the inhibitory effect of barnase on tapetum cells of the anther</td>\n",
       "    </tr>\n",
       "    <tr>\n",
       "      <th>32</th>\n",
       "      <td>Fertility restoration</td>\n",
       "      <td>ms45</td>\n",
       "      <td>Zea mays</td>\n",
       "      <td>ms45 protein</td>\n",
       "      <td>restores fertility by restoring the development of the microspore cell wall that gives rise to pollen</td>\n",
       "    </tr>\n",
       "    <tr>\n",
       "      <th>33</th>\n",
       "      <td>Foliar Late Blight Resistance</td>\n",
       "      <td>Rpi-vnt1</td>\n",
       "      <td>Solanum venturii</td>\n",
       "      <td>late blight resistance protein</td>\n",
       "      <td>confers resistance to potato late blight</td>\n",
       "    </tr>\n",
       "    <tr>\n",
       "      <th>34</th>\n",
       "      <td>Glufosinate herbicide tolerance</td>\n",
       "      <td>bar</td>\n",
       "      <td>Streptomyces hygroscopicus</td>\n",
       "      <td>phosphinothricin N-acetyltransferase (PAT) enzyme</td>\n",
       "      <td>eliminates herbicidal activity of glufosinate (phosphinothricin) herbicides by acetylation</td>\n",
       "    </tr>\n",
       "    <tr>\n",
       "      <th>35</th>\n",
       "      <td>Glufosinate herbicide tolerance</td>\n",
       "      <td>pat</td>\n",
       "      <td>Streptomyces viridochromogenes</td>\n",
       "      <td>phosphinothricin N-acetyltransferase (PAT) enzyme</td>\n",
       "      <td>eliminates herbicidal activity of glufosinate (phosphinothricin) herbicides by acetylation</td>\n",
       "    </tr>\n",
       "    <tr>\n",
       "      <th>36</th>\n",
       "      <td>Glufosinate herbicide tolerance</td>\n",
       "      <td>pat (syn)</td>\n",
       "      <td>synthetic form of pat gene derived from Streptomyces viridochromogenes strain Tu 494</td>\n",
       "      <td>phosphinothricin N-acetyltransferase (PAT) enzyme</td>\n",
       "      <td>eliminates herbicidal activity of glufosinate (phosphinothricin) herbicides by acetylation</td>\n",
       "    </tr>\n",
       "    <tr>\n",
       "      <th>37</th>\n",
       "      <td>Glyphosate herbicide tolerance</td>\n",
       "      <td>2mepsps</td>\n",
       "      <td>Zea mays</td>\n",
       "      <td>5-enolpyruvyl shikimate-3-phosphate synthase enzyme (double mutant version)</td>\n",
       "      <td>decreases binding affinity for glyphosate, thereby increasing tolerance to glyphosate herbicide</td>\n",
       "    </tr>\n",
       "    <tr>\n",
       "      <th>38</th>\n",
       "      <td>Glyphosate herbicide tolerance</td>\n",
       "      <td>cp4 epsps (aroA:CP4)</td>\n",
       "      <td>Agrobacterium tumefaciens strain CP4</td>\n",
       "      <td>herbicide tolerant form of 5-enolpyruvulshikimate-3-phosphate synthase (EPSPS) enzyme</td>\n",
       "      <td>decreases binding affinity for glyphosate, thereby conferring increased tolerance to glyphosate herbicide</td>\n",
       "    </tr>\n",
       "    <tr>\n",
       "      <th>39</th>\n",
       "      <td>Glyphosate herbicide tolerance</td>\n",
       "      <td>epsps (Ag)</td>\n",
       "      <td>Arthrobacter globiformis</td>\n",
       "      <td>5-enolpyruvylshikimate-3-phosphate-synthase enzyme</td>\n",
       "      <td>confers tolerance to glyphosate herbicides</td>\n",
       "    </tr>\n",
       "    <tr>\n",
       "      <th>40</th>\n",
       "      <td>Glyphosate herbicide tolerance</td>\n",
       "      <td>epsps grg23ace5</td>\n",
       "      <td>synthetic gene; similar to epsps grg23 gene from soil bacterium Arthrobacter globiformis</td>\n",
       "      <td>modified 5-enolpyruvylshikimate-3-phosphate synthase (EPSPS) protein or EPSPS ACE5 protein</td>\n",
       "      <td>confers tolerance to glyphosate herbicides</td>\n",
       "    </tr>\n",
       "    <tr>\n",
       "      <th>41</th>\n",
       "      <td>Glyphosate herbicide tolerance</td>\n",
       "      <td>gat4601</td>\n",
       "      <td>Bacillus licheniformis</td>\n",
       "      <td>glyphosate N-acetyltransferase enzyme</td>\n",
       "      <td>catalyzes the inactivation of glyphosate,conferring tolerance to glyphosate herbicides</td>\n",
       "    </tr>\n",
       "    <tr>\n",
       "      <th>42</th>\n",
       "      <td>Glyphosate herbicide tolerance</td>\n",
       "      <td>gat4621</td>\n",
       "      <td>Bacillus licheniformis</td>\n",
       "      <td>glyphosate N-acetyltransferase enzyme</td>\n",
       "      <td>catalyzes the inactivation of glyphosate, conferring tolerance to glyphosate herbicides</td>\n",
       "    </tr>\n",
       "    <tr>\n",
       "      <th>43</th>\n",
       "      <td>Glyphosate herbicide tolerance</td>\n",
       "      <td>goxv247</td>\n",
       "      <td>Ochrobactrum anthropi strain LBAA</td>\n",
       "      <td>glyphosate oxidase</td>\n",
       "      <td>confers tolerance to glyphosate herbicides by degrading glyphosate into aminomethylphosphonic acid (AMPA) and glyoxylate</td>\n",
       "    </tr>\n",
       "    <tr>\n",
       "      <th>44</th>\n",
       "      <td>Glyphosate herbicide tolerance</td>\n",
       "      <td>mepsps</td>\n",
       "      <td>Zea mays</td>\n",
       "      <td>modified 5-enolpyruvylshikimate-3-phosphate synthase (EPSPS) enzyme</td>\n",
       "      <td>confers tolerance to glyphosate herbicides</td>\n",
       "    </tr>\n",
       "    <tr>\n",
       "      <th>45</th>\n",
       "      <td>Hemipteran Insect Resistance</td>\n",
       "      <td>mCry51Aa2</td>\n",
       "      <td>Bacillus thuringiensis</td>\n",
       "      <td>modified Bt Cry51Aa2 protein</td>\n",
       "      <td>confers resistance to hemipteran insects Lygus hesperus and L. lineolaris by selectively damaging their midgut lining</td>\n",
       "    </tr>\n",
       "    <tr>\n",
       "      <th>46</th>\n",
       "      <td>Imazamox herbicide tolerance</td>\n",
       "      <td>AtAHAS</td>\n",
       "      <td>Arabidopsis thaliana</td>\n",
       "      <td>acetohydroxy  acid synthase large subunit</td>\n",
       "      <td>tolerance to the herbicide imazamox</td>\n",
       "    </tr>\n",
       "    <tr>\n",
       "      <th>47</th>\n",
       "      <td>Increased Ear Biomass</td>\n",
       "      <td>athb17</td>\n",
       "      <td>Arabidopsis thaliana</td>\n",
       "      <td>a protein of the class II family of the homeodomain-leucine zipper (HD-Zip) transcription factors</td>\n",
       "      <td>Modulates plant growth and development and regulates gene expression</td>\n",
       "    </tr>\n",
       "    <tr>\n",
       "      <th>48</th>\n",
       "      <td>Inhibited stem elongation (dwarfed)</td>\n",
       "      <td>OsGA2ox1</td>\n",
       "      <td>rice (Oryza sativa L. cv Nipponbare)</td>\n",
       "      <td>GA 2-oxidase</td>\n",
       "      <td>inhibits stem elongation and the development of reproductive organs; promotes early development of the inflorescence meristem</td>\n",
       "    </tr>\n",
       "    <tr>\n",
       "      <th>49</th>\n",
       "      <td>Isoxaflutole herbicide tolerance</td>\n",
       "      <td>hppdPF W336</td>\n",
       "      <td>Pseudomonas fluorescens strain A32</td>\n",
       "      <td>modified p-hydroxyphenylpyruvate dioxygenase (hppd) enzyme</td>\n",
       "      <td>confers tolerance to HPPD-inhibiting herbicides (such as isoxaflutole) by reducing the specificity for the herbicide's bioactive constituent</td>\n",
       "    </tr>\n",
       "    <tr>\n",
       "      <th>50</th>\n",
       "      <td>Late blight disease resistance</td>\n",
       "      <td>RB</td>\n",
       "      <td>Solanum bulbocastanum</td>\n",
       "      <td>late blight resistance protein</td>\n",
       "      <td>broad spectrum resistance against Phytophthora infestans races</td>\n",
       "    </tr>\n",
       "    <tr>\n",
       "      <th>51</th>\n",
       "      <td>Lepidopteran insect resistance</td>\n",
       "      <td>cry1A</td>\n",
       "      <td>Bacillus thuringiensis</td>\n",
       "      <td>delta-endotoxin of the Cry1A group</td>\n",
       "      <td>confers resistance to lepidopteran insects by selectively damaging their midgut lining</td>\n",
       "    </tr>\n",
       "    <tr>\n",
       "      <th>52</th>\n",
       "      <td>Lepidopteran insect resistance</td>\n",
       "      <td>cry1A.105</td>\n",
       "      <td>Bacillus thuringiensis subsp. kumamotoensis</td>\n",
       "      <td>Cry1A.105 protein which comprises the Cry1Ab, Cry1F and Cry1Ac proteins</td>\n",
       "      <td>confers resistance to lepidopteran insects by selectively damaging their midgut lining</td>\n",
       "    </tr>\n",
       "    <tr>\n",
       "      <th>53</th>\n",
       "      <td>Lepidopteran insect resistance</td>\n",
       "      <td>cry1Ab</td>\n",
       "      <td>Bacillus thuringiensis subsp. kurstaki</td>\n",
       "      <td>Cry1Ab delta-endotoxin</td>\n",
       "      <td>confers resistance to lepidopteran insects by selectively damaging their midgut lining</td>\n",
       "    </tr>\n",
       "    <tr>\n",
       "      <th>54</th>\n",
       "      <td>Lepidopteran insect resistance</td>\n",
       "      <td>cry1Ab (truncated)</td>\n",
       "      <td>synthetic form of Cry1Ab from Bacillus thuringiensis subsp. kumamotoensis</td>\n",
       "      <td>Cry1Ab delta-endotoxin</td>\n",
       "      <td>confers resistance to lepidopteran insects by selectively damaging their midgut lining</td>\n",
       "    </tr>\n",
       "    <tr>\n",
       "      <th>55</th>\n",
       "      <td>Lepidopteran insect resistance</td>\n",
       "      <td>cry1Ab-Ac</td>\n",
       "      <td>synthetic fusion gene derived from Bacillus thuringiensis</td>\n",
       "      <td>Cry1Ab-Ac delta endotoxin (fusion protein)</td>\n",
       "      <td>confers resistance to lepidopteran insects by selectively damaging their midgut lining</td>\n",
       "    </tr>\n",
       "    <tr>\n",
       "      <th>56</th>\n",
       "      <td>Lepidopteran insect resistance</td>\n",
       "      <td>cry1Ac</td>\n",
       "      <td>Bacillus thuringiensis subsp. Kurstaki strain HD73</td>\n",
       "      <td>Cry1Ac delta-endotoxin</td>\n",
       "      <td>confers resistance to lepidopteran insects by selectively damaging their midgut lining</td>\n",
       "    </tr>\n",
       "    <tr>\n",
       "      <th>57</th>\n",
       "      <td>Lepidopteran insect resistance</td>\n",
       "      <td>cry1C</td>\n",
       "      <td>synthetic gene derived from Bacillus thuringiensis</td>\n",
       "      <td>Cry1C delta-endotoxin</td>\n",
       "      <td>confers resistance to lepidopteran insects, specifically Spodoptera</td>\n",
       "    </tr>\n",
       "    <tr>\n",
       "      <th>58</th>\n",
       "      <td>Lepidopteran insect resistance</td>\n",
       "      <td>cry1F</td>\n",
       "      <td>Bacillus thuringiensis var. aizawai</td>\n",
       "      <td>Cry1F delta-endotoxin</td>\n",
       "      <td>confers resistance to lepidopteran insects by selectively damaging their midgut lining</td>\n",
       "    </tr>\n",
       "    <tr>\n",
       "      <th>59</th>\n",
       "      <td>Lepidopteran insect resistance</td>\n",
       "      <td>cry1Fa2</td>\n",
       "      <td>synthetic form of cry1F gene derived from Bacillus thuringiensis var. aizawai</td>\n",
       "      <td>modified Cry1F protein</td>\n",
       "      <td>confers resistance to lepidopteran insects by selectively damaging their midgut lining</td>\n",
       "    </tr>\n",
       "    <tr>\n",
       "      <th>60</th>\n",
       "      <td>Lepidopteran insect resistance</td>\n",
       "      <td>cry2Ab2</td>\n",
       "      <td>Bacillus thuringiensis subsp. kumamotoensis</td>\n",
       "      <td>Cry2Ab delta-endotoxin</td>\n",
       "      <td>confers resistance to lepidopteran insects by selectively damaging their midgut lining</td>\n",
       "    </tr>\n",
       "    <tr>\n",
       "      <th>61</th>\n",
       "      <td>Lepidopteran insect resistance</td>\n",
       "      <td>cry2Ae</td>\n",
       "      <td>Bacillus thuringiensis subsp Dakota</td>\n",
       "      <td>Cry2Ae delta-endotoxin</td>\n",
       "      <td>confers resistance to lepidopteran insects by selectively damaging their midgut lining</td>\n",
       "    </tr>\n",
       "    <tr>\n",
       "      <th>62</th>\n",
       "      <td>Lepidopteran insect resistance</td>\n",
       "      <td>cry9C</td>\n",
       "      <td>Bacillus thuringiensis subsp. tolworthi strain BTS02618A</td>\n",
       "      <td>Cry9C delta endotoxin</td>\n",
       "      <td>confers resistance to lepidopteran insects by selectively damaging their midgut lining</td>\n",
       "    </tr>\n",
       "    <tr>\n",
       "      <th>63</th>\n",
       "      <td>Lepidopteran insect resistance</td>\n",
       "      <td>mocry1F</td>\n",
       "      <td>synthetic form of cry1F gene from Bacillus thuringiensis var. aizawai</td>\n",
       "      <td>modified Cry1F protein</td>\n",
       "      <td>confers resistance to lepidopteran insects by selectively damaging their midgut lining</td>\n",
       "    </tr>\n",
       "    <tr>\n",
       "      <th>64</th>\n",
       "      <td>Lepidopteran insect resistance</td>\n",
       "      <td>pinII</td>\n",
       "      <td>Solanum tuberosum</td>\n",
       "      <td>protease inhibitor protein</td>\n",
       "      <td>enhances defense against insect predators by reducing the digestibility and nutritional quality of the leaves</td>\n",
       "    </tr>\n",
       "    <tr>\n",
       "      <th>65</th>\n",
       "      <td>Lepidopteran insect resistance</td>\n",
       "      <td>vip3A(a)</td>\n",
       "      <td>Bacillus thuringiensis strain AB88</td>\n",
       "      <td>VIP3A vegetative insecticidal protein</td>\n",
       "      <td>confers resistance to feeding damage caused by lepidopteran insects by selectively damaging their midgut lining</td>\n",
       "    </tr>\n",
       "    <tr>\n",
       "      <th>66</th>\n",
       "      <td>Lepidopteran insect resistance</td>\n",
       "      <td>vip3Aa20</td>\n",
       "      <td>Bacillus thuringiensis strain AB88</td>\n",
       "      <td>vegetative insecticidal protein (vip3Aa variant)</td>\n",
       "      <td>confers resistance to feeding damage caused by lepidopteran insects by selectively damaging their midgut</td>\n",
       "    </tr>\n",
       "    <tr>\n",
       "      <th>67</th>\n",
       "      <td>Low Gossypol</td>\n",
       "      <td>dCS</td>\n",
       "      <td>Gossypium hirsutum L.</td>\n",
       "      <td>dsRNA that suppresses the expression of d-cadinene synthase gene that encode d-cadinene synthase, a key enzyme involved in gossypolbiosynthesis, thru RNAi pathway</td>\n",
       "      <td>silence the endogenous dCS genes</td>\n",
       "    </tr>\n",
       "    <tr>\n",
       "      <th>68</th>\n",
       "      <td>Lowered Free Asparagine</td>\n",
       "      <td>asn1</td>\n",
       "      <td>Solanum tuberosum</td>\n",
       "      <td>double stranded RNA</td>\n",
       "      <td>Designed to generate dsRNA to down regulate Asn1 transcripts which lowers asparagine formation</td>\n",
       "    </tr>\n",
       "    <tr>\n",
       "      <th>69</th>\n",
       "      <td>Lowered Reducing Sugars</td>\n",
       "      <td>PhL</td>\n",
       "      <td>Solanum tuberosum</td>\n",
       "      <td>double stranded RNA</td>\n",
       "      <td>Designed to generate dsRNA to down regulate PhL transcripts which lowers reducing sugars</td>\n",
       "    </tr>\n",
       "    <tr>\n",
       "      <th>70</th>\n",
       "      <td>Lowered Reducing Sugars</td>\n",
       "      <td>R1</td>\n",
       "      <td>Solanum tuberosum</td>\n",
       "      <td>double stranded RNA</td>\n",
       "      <td>Designed to generate dsRNA to down regulate R1 transcripts which lowers reducing sugars</td>\n",
       "    </tr>\n",
       "    <tr>\n",
       "      <th>71</th>\n",
       "      <td>Lowered Reducing Sugars</td>\n",
       "      <td>Vlnv</td>\n",
       "      <td>Solanum tuberosum</td>\n",
       "      <td>double stranded RNA</td>\n",
       "      <td>downregulates VInv transcripts which lowers reducing sugars</td>\n",
       "    </tr>\n",
       "    <tr>\n",
       "      <th>72</th>\n",
       "      <td>Male sterility</td>\n",
       "      <td>barnase</td>\n",
       "      <td>Bacillus amyloliquefaciens</td>\n",
       "      <td>barnase ribonuclease (RNAse) enzyme</td>\n",
       "      <td>causes male sterility by interfering with RNA production in the tapetum cells of the anther</td>\n",
       "    </tr>\n",
       "    <tr>\n",
       "      <th>73</th>\n",
       "      <td>Male sterility</td>\n",
       "      <td>dam</td>\n",
       "      <td>Escherichia coli</td>\n",
       "      <td>DNA adenine methylase enzyme</td>\n",
       "      <td>confers male sterility by interfering with the production of functional anthers and pollen</td>\n",
       "    </tr>\n",
       "    <tr>\n",
       "      <th>74</th>\n",
       "      <td>Male sterility</td>\n",
       "      <td>zm-aa1</td>\n",
       "      <td>Zea mays</td>\n",
       "      <td>alpha amylase enzyme</td>\n",
       "      <td>hydrolyses starch and makes pollen sterile when expressed in immature pollen</td>\n",
       "    </tr>\n",
       "    <tr>\n",
       "      <th>75</th>\n",
       "      <td>Mannose metabolism</td>\n",
       "      <td>pmi</td>\n",
       "      <td>Escherichia coli</td>\n",
       "      <td>Phosphomannose Isomerase (PMI) enzyme</td>\n",
       "      <td>metabolizes mannose and allows positive selection for recovery of transformed plants</td>\n",
       "    </tr>\n",
       "    <tr>\n",
       "      <th>76</th>\n",
       "      <td>Mesotrione Herbicide Tolerance</td>\n",
       "      <td>avhppd-03</td>\n",
       "      <td>Oat (Avena sativa)</td>\n",
       "      <td>p-hydroxyphenylpyruvate dioxygenase</td>\n",
       "      <td>Tolerance to Mesotrione herbicide</td>\n",
       "    </tr>\n",
       "    <tr>\n",
       "      <th>77</th>\n",
       "      <td>Modified alpha amylase</td>\n",
       "      <td>amy797E</td>\n",
       "      <td>synthetic gene derived from Thermococcales spp.</td>\n",
       "      <td>thermostable alpha-amylase enzyme</td>\n",
       "      <td>enhances bioethanol production by increasing the thermostability of amylase used in degrading starch</td>\n",
       "    </tr>\n",
       "    <tr>\n",
       "      <th>78</th>\n",
       "      <td>Modified amino acid</td>\n",
       "      <td>cordapA</td>\n",
       "      <td>Corynebacterium glutamicum</td>\n",
       "      <td>dihydrodipicolinate synthase enzyme</td>\n",
       "      <td>increases the production of amino acid lysine</td>\n",
       "    </tr>\n",
       "    <tr>\n",
       "      <th>79</th>\n",
       "      <td>Modified flower color</td>\n",
       "      <td>5AT</td>\n",
       "      <td>Torenia sp.</td>\n",
       "      <td>anthocyanin 5-acyltransferase (5AT) enzyme</td>\n",
       "      <td>alters the production of a type of anthocyanin called delphinidin</td>\n",
       "    </tr>\n",
       "    <tr>\n",
       "      <th>80</th>\n",
       "      <td>Modified flower color</td>\n",
       "      <td>bp40 (f3'5'h)</td>\n",
       "      <td>Viola wittrockiana</td>\n",
       "      <td>Flavonoid 3',5'-hydroxylase (F3'5'H) enzyme</td>\n",
       "      <td>catalyzes the production of the blue-coloured anthocyanin pigment delphinidin and its derivatives</td>\n",
       "    </tr>\n",
       "    <tr>\n",
       "      <th>81</th>\n",
       "      <td>Modified flower color</td>\n",
       "      <td>cytb5</td>\n",
       "      <td>Petunia (Petunia hybrida)</td>\n",
       "      <td>Cytochrome b5</td>\n",
       "      <td>Cyt b5 protein acts as an electron donor to the Cyt P450 enzyme and is required for full activity of the Cyt P450 enzyme Flavinoid 3' 5' hydroxylase in vivo and the generation of purple/ blue flower colours.</td>\n",
       "    </tr>\n",
       "    <tr>\n",
       "      <th>82</th>\n",
       "      <td>Modified flower color</td>\n",
       "      <td>dfr</td>\n",
       "      <td>Petunia hybrida</td>\n",
       "      <td>dihydroflavonol-4-reductase (DFR) hydroxylase enzyme</td>\n",
       "      <td>catalyzes the production of the blue-coloured anthocyanin pigment delphinidin and its derivatives</td>\n",
       "    </tr>\n",
       "    <tr>\n",
       "      <th>83</th>\n",
       "      <td>Modified flower color</td>\n",
       "      <td>dfr-diaca</td>\n",
       "      <td>Carnation (Dianthus caryophyllus)</td>\n",
       "      <td>Dihydroflavonol-4-reductase enzyme</td>\n",
       "      <td>functions in the biosynthesis pathway of the pink/ red-coloured anthocyandin 3-O-(6-O-malylglucoside) pigment in carnations</td>\n",
       "    </tr>\n",
       "    <tr>\n",
       "      <th>84</th>\n",
       "      <td>Modified flower color</td>\n",
       "      <td>hfl (f3'5'h)</td>\n",
       "      <td>Petunia hybrida</td>\n",
       "      <td>Flavonoid 3',5'-hydroxylase (F3'5'H) enzyme</td>\n",
       "      <td>catalyzes the production of the blue-coloured anthocyanin pigment delphinidin and its derivatives</td>\n",
       "    </tr>\n",
       "    <tr>\n",
       "      <th>85</th>\n",
       "      <td>Modified flower color</td>\n",
       "      <td>sfl (f3'5'h)</td>\n",
       "      <td>Sage (Salvia splendens)</td>\n",
       "      <td>Flavonoid 3',5'-hydroxylase</td>\n",
       "      <td>involved in the biosynthesis of a group of blue coloured anthocyanins called delphinidins</td>\n",
       "    </tr>\n",
       "    <tr>\n",
       "      <th>86</th>\n",
       "      <td>Modified fruit color</td>\n",
       "      <td>b-Lyc</td>\n",
       "      <td>Ananas comosus</td>\n",
       "      <td>gamma-carotene</td>\n",
       "      <td>increases lycopene accumulation using RNAi technology</td>\n",
       "    </tr>\n",
       "    <tr>\n",
       "      <th>87</th>\n",
       "      <td>Modified fruit color</td>\n",
       "      <td>e-Lyc</td>\n",
       "      <td>Ananas comosus</td>\n",
       "      <td>delta-carotene</td>\n",
       "      <td>increases lycopene accumulation using RNAi technology</td>\n",
       "    </tr>\n",
       "    <tr>\n",
       "      <th>88</th>\n",
       "      <td>Modified fruit color</td>\n",
       "      <td>Psy</td>\n",
       "      <td>Tangerine (Citrus reticulata)</td>\n",
       "      <td>phytoene</td>\n",
       "      <td>increases lycopene and/or beta-carotene levels</td>\n",
       "    </tr>\n",
       "    <tr>\n",
       "      <th>89</th>\n",
       "      <td>Modified oil/fatty acid</td>\n",
       "      <td>fad2-1A (sense and antisense)</td>\n",
       "      <td>Glycine max</td>\n",
       "      <td>no functional enzyme is produced (production of delta-12 desaturase enzyme is suppressed by RNA interference)</td>\n",
       "      <td>reduces desaturation of 18:1 oleic acid to 18:2 linoleic acid; increases the levels of monounsaturated oleic acid and decreases the levels of saturated linoleic acid in the seed</td>\n",
       "    </tr>\n",
       "    <tr>\n",
       "      <th>90</th>\n",
       "      <td>Modified oil/fatty acid</td>\n",
       "      <td>fad2.2</td>\n",
       "      <td>Carthamus tinctorius</td>\n",
       "      <td>no functional enzyme is produced (production of delta-12 desaturase enzyme is suppressed by RNA interference)</td>\n",
       "      <td>downregulation of fad2.2 gene</td>\n",
       "    </tr>\n",
       "    <tr>\n",
       "      <th>91</th>\n",
       "      <td>Modified oil/fatty acid</td>\n",
       "      <td>fatB</td>\n",
       "      <td>Carthamus tinctorius</td>\n",
       "      <td>no functional enzyme produced (production of FATB enzymes or acyl-acyl carrier protein thioesterases is suppressed by RNA interference)</td>\n",
       "      <td>downregulates fatB gene</td>\n",
       "    </tr>\n",
       "    <tr>\n",
       "      <th>92</th>\n",
       "      <td>Modified oil/fatty acid</td>\n",
       "      <td>fatb1-A (sense and antisense segments)</td>\n",
       "      <td>Glycine max</td>\n",
       "      <td>no functional enzyme is produced (production of FATB enzymes or acyl-acyl carrier protein thioesterases is suppressed by RNA interference)</td>\n",
       "      <td>decreases the transport of saturated fatty acids out of the plastid, thereby increasing their availability to desaturation to 18:1 oleic acid; reduces the levels of saturated fatty acids and increases the levels of 18:1 oleic acid</td>\n",
       "    </tr>\n",
       "    <tr>\n",
       "      <th>93</th>\n",
       "      <td>Modified oil/fatty acid</td>\n",
       "      <td>gm-fad2-1 (partial sequence)</td>\n",
       "      <td>Glycine max</td>\n",
       "      <td>no functional enzyme is produced (expression of the endogenous fad2-1 gene encoding omega-6 desaturase enzyme was suppressed by the partial gm-fad2-1 gene fragment)</td>\n",
       "      <td>blocks the formation of linoleic acid from oleic acid (by silencing the fad2-1 gene) and allows accumulation of oleic acid in the seed</td>\n",
       "    </tr>\n",
       "    <tr>\n",
       "      <th>94</th>\n",
       "      <td>Modified oil/fatty acid</td>\n",
       "      <td>gm-fad2-1 (silencing locus)</td>\n",
       "      <td>Glycine max</td>\n",
       "      <td>no functional enzyme is produced (production of endogenous delta-12 desaturase enzyme was suppressed by an additional copy of the gm-fad2-1 gene via a gene silencing mechanism)</td>\n",
       "      <td>blocks the conversion of oleic acid to linoleic acid (by silencing the endogenous fad2-1 gene) and allows accumulation of monounsaturated oleic acid in the seed</td>\n",
       "    </tr>\n",
       "    <tr>\n",
       "      <th>95</th>\n",
       "      <td>Modified oil/fatty acid</td>\n",
       "      <td>Lackl-delta12D</td>\n",
       "      <td>Lachancea kluyveri</td>\n",
       "      <td>delta-12-desaturase</td>\n",
       "      <td>converts oleic acid to linoleic acid</td>\n",
       "    </tr>\n",
       "    <tr>\n",
       "      <th>96</th>\n",
       "      <td>Modified oil/fatty acid</td>\n",
       "      <td>Micpu-delta-6D</td>\n",
       "      <td>Micromonas pusilla</td>\n",
       "      <td>delta-6-desaturase</td>\n",
       "      <td>convert a-linolenic acid to stearidonic acid</td>\n",
       "    </tr>\n",
       "    <tr>\n",
       "      <th>97</th>\n",
       "      <td>Modified oil/fatty acid</td>\n",
       "      <td>Nc.Fad3</td>\n",
       "      <td>Neurospora crassa</td>\n",
       "      <td>delta 15 desaturase protein</td>\n",
       "      <td>desaturates  certain endogenous fatty acids resulting in the production of stearidonic acid (SDA), an omega-3 fatty acid</td>\n",
       "    </tr>\n",
       "    <tr>\n",
       "      <th>98</th>\n",
       "      <td>Modified oil/fatty acid</td>\n",
       "      <td>OtD5E</td>\n",
       "      <td>Ostreococcus tauri</td>\n",
       "      <td>delta-5 elongase</td>\n",
       "      <td>catalyzes the decarboxylation Claisen-like condensation of two carbons from malonyl-CoA to C20:5n-3-CoA   generating   C22:5n-3-ß-keto-C oA,   which   is   then   converted   to   C22:5n-3-CoA by endogenous enzymes</td>\n",
       "    </tr>\n",
       "    <tr>\n",
       "      <th>99</th>\n",
       "      <td>Modified oil/fatty acid</td>\n",
       "      <td>OtD6D</td>\n",
       "      <td>Ostreococcus tauri</td>\n",
       "      <td>delta-6 desaturase</td>\n",
       "      <td>converts C18:2n-6 fatty acids into C18:3n-6 fatty acids</td>\n",
       "    </tr>\n",
       "    <tr>\n",
       "      <th>100</th>\n",
       "      <td>Modified oil/fatty acid</td>\n",
       "      <td>Pavsa-delta-4D</td>\n",
       "      <td>Pavlova salina</td>\n",
       "      <td>delta-4-desaturase</td>\n",
       "      <td>converts docosapentaenoic acid to docosahexaenoic acid</td>\n",
       "    </tr>\n",
       "    <tr>\n",
       "      <th>101</th>\n",
       "      <td>Modified oil/fatty acid</td>\n",
       "      <td>Pavsa-delta-5D</td>\n",
       "      <td>Pavlova salina</td>\n",
       "      <td>delta-5-desaturase</td>\n",
       "      <td>converts eicosatetraenoic acid to eicosapentaenoic acid</td>\n",
       "    </tr>\n",
       "    <tr>\n",
       "      <th>102</th>\n",
       "      <td>Modified oil/fatty acid</td>\n",
       "      <td>Picpa-omega-3D</td>\n",
       "      <td>Pichia pastoris</td>\n",
       "      <td>delta-15-/omega-3-desaturase</td>\n",
       "      <td>converts linoleic acid to a-linolenic acid</td>\n",
       "    </tr>\n",
       "    <tr>\n",
       "      <th>103</th>\n",
       "      <td>Modified oil/fatty acid</td>\n",
       "      <td>PiO3D</td>\n",
       "      <td>Phytophthora infestans</td>\n",
       "      <td>omega-3  desaturase</td>\n",
       "      <td>converts C20:4n-6 into C20:5n-3</td>\n",
       "    </tr>\n",
       "    <tr>\n",
       "      <th>104</th>\n",
       "      <td>Modified oil/fatty acid</td>\n",
       "      <td>PirO3D</td>\n",
       "      <td>Pythium irregulare</td>\n",
       "      <td>two copies of the  coding sequence for an omega-3  desaturase, cO3D(Pir)1 and cO3D(Pir)2</td>\n",
       "      <td>converts C20:4n-6 into C20:5n-3</td>\n",
       "    </tr>\n",
       "    <tr>\n",
       "      <th>105</th>\n",
       "      <td>Modified oil/fatty acid</td>\n",
       "      <td>Pj.D6D</td>\n",
       "      <td>Primula juliae</td>\n",
       "      <td>delta 6 desaturase protein</td>\n",
       "      <td>desaturates certain endogenous fatty acids resulting in the production of stearidonic acid (SDA), an omega-3 fatty acid</td>\n",
       "    </tr>\n",
       "    <tr>\n",
       "      <th>106</th>\n",
       "      <td>Modified oil/fatty acid</td>\n",
       "      <td>PlD4D</td>\n",
       "      <td>Pavlova lutheri</td>\n",
       "      <td>delta-4 desaturase</td>\n",
       "      <td>convert C22:5n-3 into C22:6n-3</td>\n",
       "    </tr>\n",
       "    <tr>\n",
       "      <th>107</th>\n",
       "      <td>Modified oil/fatty acid</td>\n",
       "      <td>PpD6E</td>\n",
       "      <td>Physcomitrella patens</td>\n",
       "      <td>delta-6 elongase</td>\n",
       "      <td>catalyzes the decarboxylation Claisen-like condensation of two carbons from malonyl-CoA to C18:3n-6-CoA generating C20:3n-6-ß-keto-CoA, which is then converted to C20:3n-6-CoA by endogenous enzymes</td>\n",
       "    </tr>\n",
       "    <tr>\n",
       "      <th>108</th>\n",
       "      <td>Modified oil/fatty acid</td>\n",
       "      <td>PsD12D</td>\n",
       "      <td>Phytophthora sojae</td>\n",
       "      <td>delta-12 desaturase</td>\n",
       "      <td>convert C18:1n-9 into C18:2n-6</td>\n",
       "    </tr>\n",
       "    <tr>\n",
       "      <th>109</th>\n",
       "      <td>Modified oil/fatty acid</td>\n",
       "      <td>Pyrco-delta-5E</td>\n",
       "      <td>Pyramimonas cordata</td>\n",
       "      <td>delta-5-elongase</td>\n",
       "      <td>converts eicosapentaenoic acid to docosapentaenoic acid</td>\n",
       "    </tr>\n",
       "    <tr>\n",
       "      <th>110</th>\n",
       "      <td>Modified oil/fatty acid</td>\n",
       "      <td>Pyrco-delta-6E</td>\n",
       "      <td>Pyramimonas cordata</td>\n",
       "      <td>delta-6-elongase</td>\n",
       "      <td>convert stearidonic acid to eicosatetraenoic acid</td>\n",
       "    </tr>\n",
       "    <tr>\n",
       "      <th>111</th>\n",
       "      <td>Modified oil/fatty acid</td>\n",
       "      <td>TcD4D</td>\n",
       "      <td>Thraustochytrium sp.</td>\n",
       "      <td>delta-4 desaturase</td>\n",
       "      <td>converts C22:5n-3 into C22:6n-3</td>\n",
       "    </tr>\n",
       "    <tr>\n",
       "      <th>112</th>\n",
       "      <td>Modified oil/fatty acid</td>\n",
       "      <td>TcD5D</td>\n",
       "      <td>Thraustochytrium sp.</td>\n",
       "      <td>two copies of the coding  sequence for a delta-5 desaturase, cD5D(Tc)1 and cD5D(Tc)2</td>\n",
       "      <td>te</td>\n",
       "    </tr>\n",
       "    <tr>\n",
       "      <th>113</th>\n",
       "      <td>Modified oil/fatty acid</td>\n",
       "      <td>te</td>\n",
       "      <td>Umbellularia californica (bay leaf)</td>\n",
       "      <td>12:0 ACP thioesterase  enzyme</td>\n",
       "      <td>increases the level of triacylglycerides containing esterified lauric acid (12:0)</td>\n",
       "    </tr>\n",
       "    <tr>\n",
       "      <th>114</th>\n",
       "      <td>Modified oil/fatty acid</td>\n",
       "      <td>TpD6E</td>\n",
       "      <td>Thalassiosira pseudonana</td>\n",
       "      <td>delta-6 elongase</td>\n",
       "      <td>catalyzes the decarboxylation Claisen-like condensation of two carbons from malonyl-CoA to C18:3n-6-CoA generating C20:3n-6-ß-keto-CoA, which is then converted to C20:3n-6-CoA by endogenous enzymes</td>\n",
       "    </tr>\n",
       "    <tr>\n",
       "      <th>115</th>\n",
       "      <td>Modified starch/carbohydrate</td>\n",
       "      <td>gbss (antisense fragment)</td>\n",
       "      <td>Solanum tuberosum</td>\n",
       "      <td>no functional granule-bound starch synthase (GBSS) enzyme is produced; production of GBSS enzyme is suppressed by a gene silencing mechanism</td>\n",
       "      <td>reduces the levels of amylose and increases the levels of amylopectin in starch granules</td>\n",
       "    </tr>\n",
       "    <tr>\n",
       "      <th>116</th>\n",
       "      <td>Multiple insect resistance</td>\n",
       "      <td>API</td>\n",
       "      <td>Sagittaria sagittifolia (arrowhead)</td>\n",
       "      <td>arrowhead protease inhibitor protein A or B</td>\n",
       "      <td>confers resistance to a wide range of insect pests</td>\n",
       "    </tr>\n",
       "    <tr>\n",
       "      <th>117</th>\n",
       "      <td>Multiple insect resistance</td>\n",
       "      <td>CpTI</td>\n",
       "      <td>Vigna unguiculata</td>\n",
       "      <td>trypsin inhibitor</td>\n",
       "      <td>confers resistance to a wide range of insect pests</td>\n",
       "    </tr>\n",
       "    <tr>\n",
       "      <th>118</th>\n",
       "      <td>Multiple insect resistance</td>\n",
       "      <td>ecry3.1Ab</td>\n",
       "      <td>synthetic form of Cry3A gene and Cry1Ab gene from Bacillus thuringiensis</td>\n",
       "      <td>chimeric (Cry3A-Cry1Ab) delta endotoxin protein</td>\n",
       "      <td>confers resistance to coleopteran and lepidopteran insects by selectively damaging their midgut lining</td>\n",
       "    </tr>\n",
       "    <tr>\n",
       "      <th>119</th>\n",
       "      <td>Nicotine reduction</td>\n",
       "      <td>NtQPT1 (antisense)</td>\n",
       "      <td>Nicotiana tabacum</td>\n",
       "      <td>antisense RNA of quinolinic acid phosphoribosyltransferase (QPTase) gene; no functional QPTase enzyme is produced</td>\n",
       "      <td>suppresses the transcription of the QPTase gene, thereby reducing the production of nicotinic acid, a precursor for nicotine</td>\n",
       "    </tr>\n",
       "    <tr>\n",
       "      <th>120</th>\n",
       "      <td>Non-Browning</td>\n",
       "      <td>PGAS PPO suppression gene</td>\n",
       "      <td>Malus domestica</td>\n",
       "      <td>double stranded RNA (dsRNA)</td>\n",
       "      <td>double stranded RNA (dsRNA)from the suppression transcript is processed into small interfering RNAs (siRNAs) that direct the cleavage of the target mRNA through sequence complementarity and suppresses PPO resulting in apples with a non-browning phenotype.</td>\n",
       "    </tr>\n",
       "    <tr>\n",
       "      <th>121</th>\n",
       "      <td>Nopaline synthesis</td>\n",
       "      <td>nos</td>\n",
       "      <td>Agrobacterium tumefaciens strain CP4</td>\n",
       "      <td>nopaline synthase enzyme</td>\n",
       "      <td>catalyses the synthesis of nopaline, which permits the identification of transformed plant embryos</td>\n",
       "    </tr>\n",
       "    <tr>\n",
       "      <th>122</th>\n",
       "      <td>Oxynil herbicide tolerance</td>\n",
       "      <td>bxn</td>\n",
       "      <td>Klebsiella pneumoniae subsp. Ozaenae</td>\n",
       "      <td>nitrilase enzyme</td>\n",
       "      <td>eliminates herbicidal activity of oxynil herbicides (eg. bromoxynil)</td>\n",
       "    </tr>\n",
       "    <tr>\n",
       "      <th>123</th>\n",
       "      <td>Phytase production</td>\n",
       "      <td>phyA</td>\n",
       "      <td>Aspergillus niger var. van Tieghem</td>\n",
       "      <td>3-phytase enzyme</td>\n",
       "      <td>increases the breakdown of plant phytates which bind phosphorus and makes the latter available to monogastric animals</td>\n",
       "    </tr>\n",
       "    <tr>\n",
       "      <th>124</th>\n",
       "      <td>Phytase production</td>\n",
       "      <td>phyA2</td>\n",
       "      <td>Aspergillus niger strain 963</td>\n",
       "      <td>phytase enzyme</td>\n",
       "      <td>degrades phytate phosphorus in seeds into inorganic phosphate to be available to animals when used as feed</td>\n",
       "    </tr>\n",
       "    <tr>\n",
       "      <th>125</th>\n",
       "      <td>Reduced Black Spot</td>\n",
       "      <td>ppo5</td>\n",
       "      <td>Solanum verrucosum</td>\n",
       "      <td>double stranded RNA</td>\n",
       "      <td>Designed to generate dsRNA to down regulate Ppo5 transcripts which lowers black spot bruise development</td>\n",
       "    </tr>\n",
       "    <tr>\n",
       "      <th>126</th>\n",
       "      <td>Sulfonylurea herbicide tolerance</td>\n",
       "      <td>als</td>\n",
       "      <td>Arabidopsis thaliana</td>\n",
       "      <td>herbicide tolerant enzyme acetolactate synthase (als)</td>\n",
       "      <td>allows the synthesis of essential amino acids in the presence of sulfonylurea herbicides</td>\n",
       "    </tr>\n",
       "    <tr>\n",
       "      <th>127</th>\n",
       "      <td>Sulfonylurea herbicide tolerance</td>\n",
       "      <td>csr1-2</td>\n",
       "      <td>Arabidopsis thaliana</td>\n",
       "      <td>modified acetohydroxyacid synthase large subunit (AtAHASL)</td>\n",
       "      <td>confers tolerance to imidazolinone herbicides</td>\n",
       "    </tr>\n",
       "    <tr>\n",
       "      <th>128</th>\n",
       "      <td>Sulfonylurea herbicide tolerance</td>\n",
       "      <td>gm-hra</td>\n",
       "      <td>Glycine max</td>\n",
       "      <td>modified acetolactate synthase (ALS) enzyme</td>\n",
       "      <td>confers tolerance to applications of sulfonylurea – based herbicides</td>\n",
       "    </tr>\n",
       "    <tr>\n",
       "      <th>129</th>\n",
       "      <td>Sulfonylurea herbicide tolerance</td>\n",
       "      <td>S4-HrA</td>\n",
       "      <td>Nicotiana tabacum cv. Xanthi</td>\n",
       "      <td>herbicide tolerant acetolactate synthase (ALS) enzyme</td>\n",
       "      <td>allows the plant to synthesize essential amino acids in the presence of sulfonylurea herbicides</td>\n",
       "    </tr>\n",
       "    <tr>\n",
       "      <th>130</th>\n",
       "      <td>Sulfonylurea herbicide tolerance</td>\n",
       "      <td>surB</td>\n",
       "      <td>Nicotiana tabacum</td>\n",
       "      <td>herbicide tolerant acetolactate synthase (ALS) enzyme</td>\n",
       "      <td>confers tolerance to sulfonylurea herbicides and other acetolactate synthase (ALS) inhibiting herbicides</td>\n",
       "    </tr>\n",
       "    <tr>\n",
       "      <th>131</th>\n",
       "      <td>Sulfonylurea herbicide tolerance</td>\n",
       "      <td>zm-hra</td>\n",
       "      <td>Zea mays</td>\n",
       "      <td>herbicide tolerant acetolactase synthase (als) enzyme</td>\n",
       "      <td>confers tolerance to acetolactate synthase-inhibiting herbicides such as sulfonylurea and imidazolinone</td>\n",
       "    </tr>\n",
       "    <tr>\n",
       "      <th>132</th>\n",
       "      <td>Viral disease resistance</td>\n",
       "      <td>ac1 (sense and antisense)</td>\n",
       "      <td>Bean Golden Mosaic Virus (BGMV)</td>\n",
       "      <td>sense and antisense RNA of viral replication protein (Rep); no functional viral replication protein is produced</td>\n",
       "      <td>inhibits the synthesis of the viral replication protein of the Bean Golden Mosaic Virus (BGMV), thereby conferring resistance to the BGMV</td>\n",
       "    </tr>\n",
       "    <tr>\n",
       "      <th>133</th>\n",
       "      <td>Viral disease resistance</td>\n",
       "      <td>cmv_cp</td>\n",
       "      <td>Cucumber Mosaic Cucumovirus (CMV)</td>\n",
       "      <td>coat protein of cucumber mosaic cucumovirus (CMV)</td>\n",
       "      <td>confers resistance to cucumber mosaic cucumovirus (CMV) through \"pathogen-derived resistance\" mechanism</td>\n",
       "    </tr>\n",
       "    <tr>\n",
       "      <th>134</th>\n",
       "      <td>Viral disease resistance</td>\n",
       "      <td>plrv_orf1</td>\n",
       "      <td>Potato Leaf Roll Virus (PLRV)</td>\n",
       "      <td>putative replicase domain of the potato leaf roll virus  (PLRV)</td>\n",
       "      <td>confers resistance to potato leaf roll virus (PLRV) through gene silencing mechanism</td>\n",
       "    </tr>\n",
       "    <tr>\n",
       "      <th>135</th>\n",
       "      <td>Viral disease resistance</td>\n",
       "      <td>plrv_orf2</td>\n",
       "      <td>Potato Leaf Roll Virus (PLRV)</td>\n",
       "      <td>putative helicase domain of the potato leaf roll virus (PLRV)</td>\n",
       "      <td>confers resistance to potato leaf roll virus (PLRV) through gene silencing mechanism</td>\n",
       "    </tr>\n",
       "    <tr>\n",
       "      <th>136</th>\n",
       "      <td>Viral disease resistance</td>\n",
       "      <td>ppv_cp</td>\n",
       "      <td>Plum pox virus (PPV)</td>\n",
       "      <td>coat protein of plum pox virus (PPV)</td>\n",
       "      <td>confers resistance to plum pox virus (PPV) through \"pathogen-derived resistance\" mechanism</td>\n",
       "    </tr>\n",
       "    <tr>\n",
       "      <th>137</th>\n",
       "      <td>Viral disease resistance</td>\n",
       "      <td>prsv_cp</td>\n",
       "      <td>Papaya ringspot virus (PRSV)</td>\n",
       "      <td>coat protein (CP) of the papaya ringspot virus (PRSV)</td>\n",
       "      <td>confers resistance to papaya ringspot virus (PRSV) through \"pathogen-derived resistance\" mechanism</td>\n",
       "    </tr>\n",
       "    <tr>\n",
       "      <th>138</th>\n",
       "      <td>Viral disease resistance</td>\n",
       "      <td>prsv_rep</td>\n",
       "      <td>Papaya ringspot virus (PRSV)</td>\n",
       "      <td>replicase domain of the papaya ringspot virus (PRSV)</td>\n",
       "      <td>confers resistance to papaya ringspot virus (PRSV) through gene silencing mechanism</td>\n",
       "    </tr>\n",
       "    <tr>\n",
       "      <th>139</th>\n",
       "      <td>Viral disease resistance</td>\n",
       "      <td>pvy_cp</td>\n",
       "      <td>Potato Virus Y (PVY)</td>\n",
       "      <td>coat protein of the potato virus Y (PVY)</td>\n",
       "      <td>confers resistance to potato virus Y (PVY) through \"pathogen-derived resistance\" mechanism</td>\n",
       "    </tr>\n",
       "    <tr>\n",
       "      <th>140</th>\n",
       "      <td>Viral disease resistance</td>\n",
       "      <td>wmv_cp</td>\n",
       "      <td>Watermelon Mosaic Potyvirus 2 (WMV2)</td>\n",
       "      <td>coat protein of watermelon mosaic potyvirus 2 (WMV2)</td>\n",
       "      <td>confers resistance to watermelon mosaic potyvirus 2 (WMV2) through \"pathogen-derived resistance\" mechanism</td>\n",
       "    </tr>\n",
       "    <tr>\n",
       "      <th>141</th>\n",
       "      <td>Viral disease resistance</td>\n",
       "      <td>zymv_cp</td>\n",
       "      <td>Zucchini Yellow Mosaic Potyvirus (ZYMV)</td>\n",
       "      <td>coat protein of zucchini yellow mosaic potyvirus (ZYMV)</td>\n",
       "      <td>confers resistance to zucchini yellow mosaic potyvirus (ZYMV) through \"pathogen-derived resistance\" mechanism</td>\n",
       "    </tr>\n",
       "    <tr>\n",
       "      <th>142</th>\n",
       "      <td>Visual marker</td>\n",
       "      <td>dsRed2</td>\n",
       "      <td>Discosoma sp.</td>\n",
       "      <td>red fluorescent protein</td>\n",
       "      <td>produces red stain on transformed tissue, which allows visual selection</td>\n",
       "    </tr>\n",
       "    <tr>\n",
       "      <th>143</th>\n",
       "      <td>Visual marker</td>\n",
       "      <td>uidA</td>\n",
       "      <td>Escherichia coli</td>\n",
       "      <td>beta-D-glucuronidase (GUS) enzyme</td>\n",
       "      <td>produces blue stain on treated transformed tissue, which allows visual selection</td>\n",
       "    </tr>\n",
       "    <tr>\n",
       "      <th>144</th>\n",
       "      <td>Volumetric Wood Increase</td>\n",
       "      <td>cel1</td>\n",
       "      <td>Arabidopsis thaliana</td>\n",
       "      <td>CEL1 recombinant protein</td>\n",
       "      <td>promotes a faster growth</td>\n",
       "    </tr>\n",
       "  </tbody>\n",
       "</table>\n",
       "</div>"
      ],
      "text/plain": [
       "                                   Trait  \\\n",
       "0    2,4-D herbicide tolerance             \n",
       "1    Altered lignin production             \n",
       "2    Altered lignin production             \n",
       "3    Anti-allergy                          \n",
       "4    Antibiotic resistance                 \n",
       "5    Antibiotic resistance                 \n",
       "6    Antibiotic resistance                 \n",
       "7    Antibiotic resistance                 \n",
       "8    Antibiotic resistance                 \n",
       "9    Antibiotic resistance                 \n",
       "10   Coleopteran insect resistance         \n",
       "11   Coleopteran insect resistance         \n",
       "12   Coleopteran insect resistance         \n",
       "13   Coleopteran insect resistance         \n",
       "14   Coleopteran insect resistance         \n",
       "15   Coleopteran insect resistance         \n",
       "16   Delayed fruit softening               \n",
       "17   Delayed ripening/senescence           \n",
       "18   Delayed ripening/senescence           \n",
       "19   Delayed ripening/senescence           \n",
       "20   Delayed ripening/senescence           \n",
       "21   Delayed ripening/senescence           \n",
       "22   Delayed ripening/senescence           \n",
       "23   Dicamba herbicide tolerance           \n",
       "24   Drought stress tolerance              \n",
       "25   Drought stress tolerance              \n",
       "26   Drought stress tolerance              \n",
       "27   Drought stress tolerance              \n",
       "28   Enhanced Photosynthesis/Yield         \n",
       "29   Enhanced Provitamin A Content         \n",
       "30   Enhanced Provitamin A Content         \n",
       "31   Fertility restoration                 \n",
       "32   Fertility restoration                 \n",
       "33   Foliar Late Blight Resistance         \n",
       "34   Glufosinate herbicide tolerance       \n",
       "35   Glufosinate herbicide tolerance       \n",
       "36   Glufosinate herbicide tolerance       \n",
       "37   Glyphosate herbicide tolerance        \n",
       "38   Glyphosate herbicide tolerance        \n",
       "39   Glyphosate herbicide tolerance        \n",
       "40   Glyphosate herbicide tolerance        \n",
       "41   Glyphosate herbicide tolerance        \n",
       "42   Glyphosate herbicide tolerance        \n",
       "43   Glyphosate herbicide tolerance        \n",
       "44   Glyphosate herbicide tolerance        \n",
       "45   Hemipteran Insect Resistance          \n",
       "46   Imazamox herbicide tolerance          \n",
       "47   Increased Ear Biomass                 \n",
       "48   Inhibited stem elongation (dwarfed)   \n",
       "49   Isoxaflutole herbicide tolerance      \n",
       "50   Late blight disease resistance        \n",
       "51   Lepidopteran insect resistance        \n",
       "52   Lepidopteran insect resistance        \n",
       "53   Lepidopteran insect resistance        \n",
       "54   Lepidopteran insect resistance        \n",
       "55   Lepidopteran insect resistance        \n",
       "56   Lepidopteran insect resistance        \n",
       "57   Lepidopteran insect resistance        \n",
       "58   Lepidopteran insect resistance        \n",
       "59   Lepidopteran insect resistance        \n",
       "60   Lepidopteran insect resistance        \n",
       "61   Lepidopteran insect resistance        \n",
       "62   Lepidopteran insect resistance        \n",
       "63   Lepidopteran insect resistance        \n",
       "64   Lepidopteran insect resistance        \n",
       "65   Lepidopteran insect resistance        \n",
       "66   Lepidopteran insect resistance        \n",
       "67   Low Gossypol                          \n",
       "68   Lowered Free Asparagine               \n",
       "69   Lowered Reducing Sugars               \n",
       "70   Lowered Reducing Sugars               \n",
       "71   Lowered Reducing Sugars               \n",
       "72   Male sterility                        \n",
       "73   Male sterility                        \n",
       "74   Male sterility                        \n",
       "75   Mannose metabolism                    \n",
       "76   Mesotrione Herbicide Tolerance        \n",
       "77   Modified alpha amylase                \n",
       "78   Modified amino acid                   \n",
       "79   Modified flower color                 \n",
       "80   Modified flower color                 \n",
       "81   Modified flower color                 \n",
       "82   Modified flower color                 \n",
       "83   Modified flower color                 \n",
       "84   Modified flower color                 \n",
       "85   Modified flower color                 \n",
       "86   Modified fruit color                  \n",
       "87   Modified fruit color                  \n",
       "88   Modified fruit color                  \n",
       "89   Modified oil/fatty acid               \n",
       "90   Modified oil/fatty acid               \n",
       "91   Modified oil/fatty acid               \n",
       "92   Modified oil/fatty acid               \n",
       "93   Modified oil/fatty acid               \n",
       "94   Modified oil/fatty acid               \n",
       "95   Modified oil/fatty acid               \n",
       "96   Modified oil/fatty acid               \n",
       "97   Modified oil/fatty acid               \n",
       "98   Modified oil/fatty acid               \n",
       "99   Modified oil/fatty acid               \n",
       "100  Modified oil/fatty acid               \n",
       "101  Modified oil/fatty acid               \n",
       "102  Modified oil/fatty acid               \n",
       "103  Modified oil/fatty acid               \n",
       "104  Modified oil/fatty acid               \n",
       "105  Modified oil/fatty acid               \n",
       "106  Modified oil/fatty acid               \n",
       "107  Modified oil/fatty acid               \n",
       "108  Modified oil/fatty acid               \n",
       "109  Modified oil/fatty acid               \n",
       "110  Modified oil/fatty acid               \n",
       "111  Modified oil/fatty acid               \n",
       "112  Modified oil/fatty acid               \n",
       "113  Modified oil/fatty acid               \n",
       "114  Modified oil/fatty acid               \n",
       "115  Modified starch/carbohydrate          \n",
       "116  Multiple insect resistance            \n",
       "117  Multiple insect resistance            \n",
       "118  Multiple insect resistance            \n",
       "119  Nicotine reduction                    \n",
       "120  Non-Browning                          \n",
       "121  Nopaline synthesis                    \n",
       "122  Oxynil herbicide tolerance            \n",
       "123  Phytase production                    \n",
       "124  Phytase production                    \n",
       "125  Reduced Black Spot                    \n",
       "126  Sulfonylurea herbicide tolerance      \n",
       "127  Sulfonylurea herbicide tolerance      \n",
       "128  Sulfonylurea herbicide tolerance      \n",
       "129  Sulfonylurea herbicide tolerance      \n",
       "130  Sulfonylurea herbicide tolerance      \n",
       "131  Sulfonylurea herbicide tolerance      \n",
       "132  Viral disease resistance              \n",
       "133  Viral disease resistance              \n",
       "134  Viral disease resistance              \n",
       "135  Viral disease resistance              \n",
       "136  Viral disease resistance              \n",
       "137  Viral disease resistance              \n",
       "138  Viral disease resistance              \n",
       "139  Viral disease resistance              \n",
       "140  Viral disease resistance              \n",
       "141  Viral disease resistance              \n",
       "142  Visual marker                         \n",
       "143  Visual marker                         \n",
       "144  Volumetric Wood Increase              \n",
       "\n",
       "                                       Gene  \\\n",
       "0    aad-12                                   \n",
       "1    ccomt (inverted repeat)                  \n",
       "2    EgCAld5H                                 \n",
       "3    7crp                                     \n",
       "4    aad                                      \n",
       "5    aph4 (hpt)                               \n",
       "6    bla                                      \n",
       "7    hph                                      \n",
       "8    nptII                                    \n",
       "9    spc                                      \n",
       "10   cry34Ab1                                 \n",
       "11   cry35Ab1                                 \n",
       "12   cry3A                                    \n",
       "13   cry3Bb1                                  \n",
       "14   dvsnf7                                   \n",
       "15   mcry3A                                   \n",
       "16   pg (sense or antisense)                  \n",
       "17   acc                                      \n",
       "18   acc (truncated)                          \n",
       "19   acc (truncated)                          \n",
       "20   accd                                     \n",
       "21   anti-efe                                 \n",
       "22   sam-k                                    \n",
       "23   dmo                                      \n",
       "24   cspB                                     \n",
       "25   EcBetA                                   \n",
       "26   Hahb-4                                   \n",
       "27   RmBetA                                   \n",
       "28   bbx32                                    \n",
       "29   crt1                                     \n",
       "30   psy1                                     \n",
       "31   barstar                                  \n",
       "32   ms45                                     \n",
       "33   Rpi-vnt1                                 \n",
       "34   bar                                      \n",
       "35   pat                                      \n",
       "36   pat (syn)                                \n",
       "37   2mepsps                                  \n",
       "38   cp4 epsps (aroA:CP4)                     \n",
       "39   epsps (Ag)                               \n",
       "40   epsps grg23ace5                          \n",
       "41   gat4601                                  \n",
       "42   gat4621                                  \n",
       "43   goxv247                                  \n",
       "44   mepsps                                   \n",
       "45   mCry51Aa2                                \n",
       "46   AtAHAS                                   \n",
       "47   athb17                                   \n",
       "48   OsGA2ox1                                 \n",
       "49   hppdPF W336                              \n",
       "50   RB                                       \n",
       "51   cry1A                                    \n",
       "52   cry1A.105                                \n",
       "53   cry1Ab                                   \n",
       "54   cry1Ab (truncated)                       \n",
       "55   cry1Ab-Ac                                \n",
       "56   cry1Ac                                   \n",
       "57   cry1C                                    \n",
       "58   cry1F                                    \n",
       "59   cry1Fa2                                  \n",
       "60   cry2Ab2                                  \n",
       "61   cry2Ae                                   \n",
       "62   cry9C                                    \n",
       "63   mocry1F                                  \n",
       "64   pinII                                    \n",
       "65   vip3A(a)                                 \n",
       "66   vip3Aa20                                 \n",
       "67   dCS                                      \n",
       "68   asn1                                     \n",
       "69   PhL                                      \n",
       "70   R1                                       \n",
       "71   Vlnv                                     \n",
       "72   barnase                                  \n",
       "73   dam                                      \n",
       "74   zm-aa1                                   \n",
       "75   pmi                                      \n",
       "76   avhppd-03                                \n",
       "77   amy797E                                  \n",
       "78   cordapA                                  \n",
       "79   5AT                                      \n",
       "80   bp40 (f3'5'h)                            \n",
       "81   cytb5                                    \n",
       "82   dfr                                      \n",
       "83   dfr-diaca                                \n",
       "84   hfl (f3'5'h)                             \n",
       "85   sfl (f3'5'h)                             \n",
       "86   b-Lyc                                    \n",
       "87   e-Lyc                                    \n",
       "88   Psy                                      \n",
       "89   fad2-1A (sense and antisense)            \n",
       "90   fad2.2                                   \n",
       "91   fatB                                     \n",
       "92   fatb1-A (sense and antisense segments)   \n",
       "93   gm-fad2-1 (partial sequence)             \n",
       "94   gm-fad2-1 (silencing locus)              \n",
       "95   Lackl-delta12D                           \n",
       "96   Micpu-delta-6D                           \n",
       "97   Nc.Fad3                                  \n",
       "98   OtD5E                                    \n",
       "99   OtD6D                                    \n",
       "100  Pavsa-delta-4D                           \n",
       "101  Pavsa-delta-5D                           \n",
       "102  Picpa-omega-3D                           \n",
       "103  PiO3D                                    \n",
       "104  PirO3D                                   \n",
       "105  Pj.D6D                                   \n",
       "106  PlD4D                                    \n",
       "107  PpD6E                                    \n",
       "108  PsD12D                                   \n",
       "109  Pyrco-delta-5E                           \n",
       "110  Pyrco-delta-6E                           \n",
       "111  TcD4D                                    \n",
       "112  TcD5D                                    \n",
       "113  te                                       \n",
       "114  TpD6E                                    \n",
       "115  gbss (antisense fragment)                \n",
       "116  API                                      \n",
       "117  CpTI                                     \n",
       "118  ecry3.1Ab                                \n",
       "119  NtQPT1 (antisense)                       \n",
       "120  PGAS PPO suppression gene                \n",
       "121  nos                                      \n",
       "122  bxn                                      \n",
       "123  phyA                                     \n",
       "124  phyA2                                    \n",
       "125  ppo5                                     \n",
       "126  als                                      \n",
       "127  csr1-2                                   \n",
       "128  gm-hra                                   \n",
       "129  S4-HrA                                   \n",
       "130  surB                                     \n",
       "131  zm-hra                                   \n",
       "132  ac1 (sense and antisense)                \n",
       "133  cmv_cp                                   \n",
       "134  plrv_orf1                                \n",
       "135  plrv_orf2                                \n",
       "136  ppv_cp                                   \n",
       "137  prsv_cp                                  \n",
       "138  prsv_rep                                 \n",
       "139  pvy_cp                                   \n",
       "140  wmv_cp                                   \n",
       "141  zymv_cp                                  \n",
       "142  dsRed2                                   \n",
       "143  uidA                                     \n",
       "144  cel1                                     \n",
       "\n",
       "                                                                                      Product  \\\n",
       "0    Delftia acidovorans                                                                        \n",
       "1    Medicago sativa (alfalfa)                                                                  \n",
       "2    Eucalyptus grandis                                                                         \n",
       "3    synthetic form of tolerogenic protein from Cryptomeria japonica                            \n",
       "4    Escherichia coli                                                                           \n",
       "5    Escherichia coli                                                                           \n",
       "6    Escherichia coli                                                                           \n",
       "7    Streptomyces sp.                                                                           \n",
       "8    Escherichia coli Tn5 transposon                                                            \n",
       "9    Escherichia coli                                                                           \n",
       "10   Bacillus thuringiensis strain PS149B1                                                      \n",
       "11   Bacillus thuringiensis strain PS149B1                                                      \n",
       "12   Bacillus thuringiensis subsp. tenebrionis                                                  \n",
       "13   Bacillus thuringiensis subsp. kumamotoensis                                                \n",
       "14   Western Corn Rootworm (Diabrotica virgifera virgifera)                                     \n",
       "15   synthetic form of cry3A gene from Bacillus thuringiensis subsp. tenebrionis                \n",
       "16   Lycopersicon esculentum                                                                    \n",
       "17   Ananas comosus                                                                             \n",
       "18   Lycopersicon esculentum                                                                    \n",
       "19   Dianthus caryophyllus                                                                      \n",
       "20   Pseudomonas chlororaphis                                                                   \n",
       "21   Lycopersicon esculentum                                                                    \n",
       "22   Escherichia coli bacteriophage T3                                                          \n",
       "23   Stenotrophomonas maltophilia strain DI-6                                                   \n",
       "24   Bacillus subtilis                                                                          \n",
       "25   Escherichia coli                                                                           \n",
       "26   Helianthus annuus                                                                          \n",
       "27   Rhizobium meliloti                                                                         \n",
       "28   Arabidopsis thaliana                                                                       \n",
       "29   Pantoea ananatis                                                                           \n",
       "30   Zea mays                                                                                   \n",
       "31   Bacillus amyloliquefaciens                                                                 \n",
       "32   Zea mays                                                                                   \n",
       "33   Solanum venturii                                                                           \n",
       "34   Streptomyces hygroscopicus                                                                 \n",
       "35   Streptomyces viridochromogenes                                                             \n",
       "36   synthetic form of pat gene derived from Streptomyces viridochromogenes strain Tu 494       \n",
       "37   Zea mays                                                                                   \n",
       "38   Agrobacterium tumefaciens strain CP4                                                       \n",
       "39   Arthrobacter globiformis                                                                   \n",
       "40   synthetic gene; similar to epsps grg23 gene from soil bacterium Arthrobacter globiformis   \n",
       "41   Bacillus licheniformis                                                                     \n",
       "42   Bacillus licheniformis                                                                     \n",
       "43   Ochrobactrum anthropi strain LBAA                                                          \n",
       "44   Zea mays                                                                                   \n",
       "45   Bacillus thuringiensis                                                                     \n",
       "46   Arabidopsis thaliana                                                                       \n",
       "47   Arabidopsis thaliana                                                                       \n",
       "48   rice (Oryza sativa L. cv Nipponbare)                                                       \n",
       "49   Pseudomonas fluorescens strain A32                                                         \n",
       "50   Solanum bulbocastanum                                                                      \n",
       "51   Bacillus thuringiensis                                                                     \n",
       "52   Bacillus thuringiensis subsp. kumamotoensis                                                \n",
       "53   Bacillus thuringiensis subsp. kurstaki                                                     \n",
       "54   synthetic form of Cry1Ab from Bacillus thuringiensis subsp. kumamotoensis                  \n",
       "55   synthetic fusion gene derived from Bacillus thuringiensis                                  \n",
       "56   Bacillus thuringiensis subsp. Kurstaki strain HD73                                         \n",
       "57   synthetic gene derived from Bacillus thuringiensis                                         \n",
       "58   Bacillus thuringiensis var. aizawai                                                        \n",
       "59   synthetic form of cry1F gene derived from Bacillus thuringiensis var. aizawai              \n",
       "60   Bacillus thuringiensis subsp. kumamotoensis                                                \n",
       "61   Bacillus thuringiensis subsp Dakota                                                        \n",
       "62   Bacillus thuringiensis subsp. tolworthi strain BTS02618A                                   \n",
       "63   synthetic form of cry1F gene from Bacillus thuringiensis var. aizawai                      \n",
       "64   Solanum tuberosum                                                                          \n",
       "65   Bacillus thuringiensis strain AB88                                                         \n",
       "66   Bacillus thuringiensis strain AB88                                                         \n",
       "67   Gossypium hirsutum L.                                                                      \n",
       "68   Solanum tuberosum                                                                          \n",
       "69   Solanum tuberosum                                                                          \n",
       "70   Solanum tuberosum                                                                          \n",
       "71   Solanum tuberosum                                                                          \n",
       "72   Bacillus amyloliquefaciens                                                                 \n",
       "73   Escherichia coli                                                                           \n",
       "74   Zea mays                                                                                   \n",
       "75   Escherichia coli                                                                           \n",
       "76   Oat (Avena sativa)                                                                         \n",
       "77   synthetic gene derived from Thermococcales spp.                                            \n",
       "78   Corynebacterium glutamicum                                                                 \n",
       "79   Torenia sp.                                                                                \n",
       "80   Viola wittrockiana                                                                         \n",
       "81   Petunia (Petunia hybrida)                                                                  \n",
       "82   Petunia hybrida                                                                            \n",
       "83   Carnation (Dianthus caryophyllus)                                                          \n",
       "84   Petunia hybrida                                                                            \n",
       "85   Sage (Salvia splendens)                                                                    \n",
       "86   Ananas comosus                                                                             \n",
       "87   Ananas comosus                                                                             \n",
       "88   Tangerine (Citrus reticulata)                                                              \n",
       "89   Glycine max                                                                                \n",
       "90   Carthamus tinctorius                                                                       \n",
       "91   Carthamus tinctorius                                                                       \n",
       "92   Glycine max                                                                                \n",
       "93   Glycine max                                                                                \n",
       "94   Glycine max                                                                                \n",
       "95   Lachancea kluyveri                                                                         \n",
       "96   Micromonas pusilla                                                                         \n",
       "97   Neurospora crassa                                                                          \n",
       "98   Ostreococcus tauri                                                                         \n",
       "99   Ostreococcus tauri                                                                         \n",
       "100  Pavlova salina                                                                             \n",
       "101  Pavlova salina                                                                             \n",
       "102  Pichia pastoris                                                                            \n",
       "103  Phytophthora infestans                                                                     \n",
       "104  Pythium irregulare                                                                         \n",
       "105  Primula juliae                                                                             \n",
       "106  Pavlova lutheri                                                                            \n",
       "107  Physcomitrella patens                                                                      \n",
       "108  Phytophthora sojae                                                                         \n",
       "109  Pyramimonas cordata                                                                        \n",
       "110  Pyramimonas cordata                                                                        \n",
       "111  Thraustochytrium sp.                                                                       \n",
       "112  Thraustochytrium sp.                                                                       \n",
       "113  Umbellularia californica (bay leaf)                                                        \n",
       "114  Thalassiosira pseudonana                                                                   \n",
       "115  Solanum tuberosum                                                                          \n",
       "116  Sagittaria sagittifolia (arrowhead)                                                        \n",
       "117  Vigna unguiculata                                                                          \n",
       "118  synthetic form of Cry3A gene and Cry1Ab gene from Bacillus thuringiensis                   \n",
       "119  Nicotiana tabacum                                                                          \n",
       "120  Malus domestica                                                                            \n",
       "121  Agrobacterium tumefaciens strain CP4                                                       \n",
       "122  Klebsiella pneumoniae subsp. Ozaenae                                                       \n",
       "123  Aspergillus niger var. van Tieghem                                                         \n",
       "124  Aspergillus niger strain 963                                                               \n",
       "125  Solanum verrucosum                                                                         \n",
       "126  Arabidopsis thaliana                                                                       \n",
       "127  Arabidopsis thaliana                                                                       \n",
       "128  Glycine max                                                                                \n",
       "129  Nicotiana tabacum cv. Xanthi                                                               \n",
       "130  Nicotiana tabacum                                                                          \n",
       "131  Zea mays                                                                                   \n",
       "132  Bean Golden Mosaic Virus (BGMV)                                                            \n",
       "133  Cucumber Mosaic Cucumovirus (CMV)                                                          \n",
       "134  Potato Leaf Roll Virus (PLRV)                                                              \n",
       "135  Potato Leaf Roll Virus (PLRV)                                                              \n",
       "136  Plum pox virus (PPV)                                                                       \n",
       "137  Papaya ringspot virus (PRSV)                                                               \n",
       "138  Papaya ringspot virus (PRSV)                                                               \n",
       "139  Potato Virus Y (PVY)                                                                       \n",
       "140  Watermelon Mosaic Potyvirus 2 (WMV2)                                                       \n",
       "141  Zucchini Yellow Mosaic Potyvirus (ZYMV)                                                    \n",
       "142  Discosoma sp.                                                                              \n",
       "143  Escherichia coli                                                                           \n",
       "144  Arabidopsis thaliana                                                                       \n",
       "\n",
       "                                                                                                                                                                               Source  \\\n",
       "0    aryloxyalkanoate di-oxygenase 12 (AAD-12) protein                                                                                                                                  \n",
       "1    dsRNA that suppresses endogenous S-adenosyl-L-methionine: trans-caffeoyl CoA 3-O-methyltransferase (CCOMT gene) RNA transcript levels via the RNA interference (RNAi) pathway      \n",
       "2    CAld5H enzyme                                                                                                                                                                      \n",
       "3    modified cry j 1 and cry j 2 pollen antigens containing seven major human T cell epitopes                                                                                          \n",
       "4    3''(9)-O-aminoglycoside adenylyltransferase enzyme                                                                                                                                 \n",
       "5    hygromycin-B phosphotransferase (hph) enzyme                                                                                                                                       \n",
       "6    beta lactamase enzyme                                                                                                                                                              \n",
       "7    hygromycin phosphotransferase                                                                                                                                                      \n",
       "8    neomycin phosphotransferase II enzyme                                                                                                                                              \n",
       "9    spectinomycin adenyl transferase enzyme (not expressed in plant tissues)                                                                                                           \n",
       "10   Cry34Ab1 delta-endotoxin                                                                                                                                                           \n",
       "11   Cry35Ab1 delta-endotoxin                                                                                                                                                           \n",
       "12   cry3A delta endotoxin                                                                                                                                                              \n",
       "13   Cry3Bb1 delta endotoxin                                                                                                                                                            \n",
       "14   double-stranded RNA transcript containing a 240 bp fragment of the WCR Snf7 gene                                                                                                   \n",
       "15   modified Cry3A delta-endotoxin                                                                                                                                                     \n",
       "16   no functional polygalacturonase enzyme is produced (transcription of the endogenous enzyme is suppressed by a gene silencing mechanism)                                            \n",
       "17   1-aminocyclopropane-1-carboxylic acid synthase                                                                                                                                     \n",
       "18   modified transcript of 1-amino-cyclopropane-1-carboxylic acid (ACC) synthase gene                                                                                                  \n",
       "19   modified transcript of 1-amino-cyclopropane -1-carboxylic acid (ACC) synthase gene                                                                                                 \n",
       "20   1-amino-cyclopropane-1-carboxylic acid deaminase enzyme                                                                                                                            \n",
       "21   antisense RNA of 1-amino-cyclopropane -1-carboxylate oxidase (ACO) gene (no functional ACO enzyme is produced)                                                                     \n",
       "22   S-adenosylmethionine hydrolase enzyme                                                                                                                                              \n",
       "23   dicamba mono-oxygenase enzyme                                                                                                                                                      \n",
       "24   cold shock protein B                                                                                                                                                               \n",
       "25   choline dehydrogenase                                                                                                                                                              \n",
       "26   Isolated nucleic acid molecule encoding the transcription factor Hahb-4                                                                                                            \n",
       "27   choline dehydrogenase                                                                                                                                                              \n",
       "28   protein that interacts with one or more endogenous transcription factors to regulate the plant’s day/night physiological processes                                                 \n",
       "29   phytoene desaturase enzyme CRTI                                                                                                                                                    \n",
       "30   phytoene synthase ZmPSY1                                                                                                                                                           \n",
       "31   barnase ribonuclease inhibitor                                                                                                                                                     \n",
       "32   ms45 protein                                                                                                                                                                       \n",
       "33   late blight resistance protein                                                                                                                                                     \n",
       "34   phosphinothricin N-acetyltransferase (PAT) enzyme                                                                                                                                  \n",
       "35   phosphinothricin N-acetyltransferase (PAT) enzyme                                                                                                                                  \n",
       "36   phosphinothricin N-acetyltransferase (PAT) enzyme                                                                                                                                  \n",
       "37   5-enolpyruvyl shikimate-3-phosphate synthase enzyme (double mutant version)                                                                                                        \n",
       "38   herbicide tolerant form of 5-enolpyruvulshikimate-3-phosphate synthase (EPSPS) enzyme                                                                                              \n",
       "39   5-enolpyruvylshikimate-3-phosphate-synthase enzyme                                                                                                                                 \n",
       "40   modified 5-enolpyruvylshikimate-3-phosphate synthase (EPSPS) protein or EPSPS ACE5 protein                                                                                         \n",
       "41   glyphosate N-acetyltransferase enzyme                                                                                                                                              \n",
       "42   glyphosate N-acetyltransferase enzyme                                                                                                                                              \n",
       "43   glyphosate oxidase                                                                                                                                                                 \n",
       "44   modified 5-enolpyruvylshikimate-3-phosphate synthase (EPSPS) enzyme                                                                                                                \n",
       "45   modified Bt Cry51Aa2 protein                                                                                                                                                       \n",
       "46   acetohydroxy  acid synthase large subunit                                                                                                                                          \n",
       "47   a protein of the class II family of the homeodomain-leucine zipper (HD-Zip) transcription factors                                                                                  \n",
       "48   GA 2-oxidase                                                                                                                                                                       \n",
       "49   modified p-hydroxyphenylpyruvate dioxygenase (hppd) enzyme                                                                                                                         \n",
       "50   late blight resistance protein                                                                                                                                                     \n",
       "51   delta-endotoxin of the Cry1A group                                                                                                                                                 \n",
       "52   Cry1A.105 protein which comprises the Cry1Ab, Cry1F and Cry1Ac proteins                                                                                                            \n",
       "53   Cry1Ab delta-endotoxin                                                                                                                                                             \n",
       "54   Cry1Ab delta-endotoxin                                                                                                                                                             \n",
       "55   Cry1Ab-Ac delta endotoxin (fusion protein)                                                                                                                                         \n",
       "56   Cry1Ac delta-endotoxin                                                                                                                                                             \n",
       "57   Cry1C delta-endotoxin                                                                                                                                                              \n",
       "58   Cry1F delta-endotoxin                                                                                                                                                              \n",
       "59   modified Cry1F protein                                                                                                                                                             \n",
       "60   Cry2Ab delta-endotoxin                                                                                                                                                             \n",
       "61   Cry2Ae delta-endotoxin                                                                                                                                                             \n",
       "62   Cry9C delta endotoxin                                                                                                                                                              \n",
       "63   modified Cry1F protein                                                                                                                                                             \n",
       "64   protease inhibitor protein                                                                                                                                                         \n",
       "65   VIP3A vegetative insecticidal protein                                                                                                                                              \n",
       "66   vegetative insecticidal protein (vip3Aa variant)                                                                                                                                   \n",
       "67   dsRNA that suppresses the expression of d-cadinene synthase gene that encode d-cadinene synthase, a key enzyme involved in gossypolbiosynthesis, thru RNAi pathway                 \n",
       "68   double stranded RNA                                                                                                                                                                \n",
       "69   double stranded RNA                                                                                                                                                                \n",
       "70   double stranded RNA                                                                                                                                                                \n",
       "71   double stranded RNA                                                                                                                                                                \n",
       "72   barnase ribonuclease (RNAse) enzyme                                                                                                                                                \n",
       "73   DNA adenine methylase enzyme                                                                                                                                                       \n",
       "74   alpha amylase enzyme                                                                                                                                                               \n",
       "75   Phosphomannose Isomerase (PMI) enzyme                                                                                                                                              \n",
       "76   p-hydroxyphenylpyruvate dioxygenase                                                                                                                                                \n",
       "77   thermostable alpha-amylase enzyme                                                                                                                                                  \n",
       "78   dihydrodipicolinate synthase enzyme                                                                                                                                                \n",
       "79   anthocyanin 5-acyltransferase (5AT) enzyme                                                                                                                                         \n",
       "80   Flavonoid 3',5'-hydroxylase (F3'5'H) enzyme                                                                                                                                        \n",
       "81   Cytochrome b5                                                                                                                                                                      \n",
       "82   dihydroflavonol-4-reductase (DFR) hydroxylase enzyme                                                                                                                               \n",
       "83   Dihydroflavonol-4-reductase enzyme                                                                                                                                                 \n",
       "84   Flavonoid 3',5'-hydroxylase (F3'5'H) enzyme                                                                                                                                        \n",
       "85   Flavonoid 3',5'-hydroxylase                                                                                                                                                        \n",
       "86   gamma-carotene                                                                                                                                                                     \n",
       "87   delta-carotene                                                                                                                                                                     \n",
       "88   phytoene                                                                                                                                                                           \n",
       "89   no functional enzyme is produced (production of delta-12 desaturase enzyme is suppressed by RNA interference)                                                                      \n",
       "90   no functional enzyme is produced (production of delta-12 desaturase enzyme is suppressed by RNA interference)                                                                      \n",
       "91   no functional enzyme produced (production of FATB enzymes or acyl-acyl carrier protein thioesterases is suppressed by RNA interference)                                            \n",
       "92   no functional enzyme is produced (production of FATB enzymes or acyl-acyl carrier protein thioesterases is suppressed by RNA interference)                                         \n",
       "93   no functional enzyme is produced (expression of the endogenous fad2-1 gene encoding omega-6 desaturase enzyme was suppressed by the partial gm-fad2-1 gene fragment)               \n",
       "94   no functional enzyme is produced (production of endogenous delta-12 desaturase enzyme was suppressed by an additional copy of the gm-fad2-1 gene via a gene silencing mechanism)   \n",
       "95   delta-12-desaturase                                                                                                                                                                \n",
       "96   delta-6-desaturase                                                                                                                                                                 \n",
       "97   delta 15 desaturase protein                                                                                                                                                        \n",
       "98   delta-5 elongase                                                                                                                                                                   \n",
       "99   delta-6 desaturase                                                                                                                                                                 \n",
       "100  delta-4-desaturase                                                                                                                                                                 \n",
       "101  delta-5-desaturase                                                                                                                                                                 \n",
       "102  delta-15-/omega-3-desaturase                                                                                                                                                       \n",
       "103  omega-3  desaturase                                                                                                                                                                \n",
       "104  two copies of the  coding sequence for an omega-3  desaturase, cO3D(Pir)1 and cO3D(Pir)2                                                                                           \n",
       "105  delta 6 desaturase protein                                                                                                                                                         \n",
       "106  delta-4 desaturase                                                                                                                                                                 \n",
       "107  delta-6 elongase                                                                                                                                                                   \n",
       "108  delta-12 desaturase                                                                                                                                                                \n",
       "109  delta-5-elongase                                                                                                                                                                   \n",
       "110  delta-6-elongase                                                                                                                                                                   \n",
       "111  delta-4 desaturase                                                                                                                                                                 \n",
       "112  two copies of the coding  sequence for a delta-5 desaturase, cD5D(Tc)1 and cD5D(Tc)2                                                                                               \n",
       "113  12:0 ACP thioesterase  enzyme                                                                                                                                                      \n",
       "114  delta-6 elongase                                                                                                                                                                   \n",
       "115  no functional granule-bound starch synthase (GBSS) enzyme is produced; production of GBSS enzyme is suppressed by a gene silencing mechanism                                       \n",
       "116  arrowhead protease inhibitor protein A or B                                                                                                                                        \n",
       "117  trypsin inhibitor                                                                                                                                                                  \n",
       "118  chimeric (Cry3A-Cry1Ab) delta endotoxin protein                                                                                                                                    \n",
       "119  antisense RNA of quinolinic acid phosphoribosyltransferase (QPTase) gene; no functional QPTase enzyme is produced                                                                  \n",
       "120  double stranded RNA (dsRNA)                                                                                                                                                        \n",
       "121  nopaline synthase enzyme                                                                                                                                                           \n",
       "122  nitrilase enzyme                                                                                                                                                                   \n",
       "123  3-phytase enzyme                                                                                                                                                                   \n",
       "124  phytase enzyme                                                                                                                                                                     \n",
       "125  double stranded RNA                                                                                                                                                                \n",
       "126  herbicide tolerant enzyme acetolactate synthase (als)                                                                                                                              \n",
       "127  modified acetohydroxyacid synthase large subunit (AtAHASL)                                                                                                                         \n",
       "128  modified acetolactate synthase (ALS) enzyme                                                                                                                                        \n",
       "129  herbicide tolerant acetolactate synthase (ALS) enzyme                                                                                                                              \n",
       "130  herbicide tolerant acetolactate synthase (ALS) enzyme                                                                                                                              \n",
       "131  herbicide tolerant acetolactase synthase (als) enzyme                                                                                                                              \n",
       "132  sense and antisense RNA of viral replication protein (Rep); no functional viral replication protein is produced                                                                    \n",
       "133  coat protein of cucumber mosaic cucumovirus (CMV)                                                                                                                                  \n",
       "134  putative replicase domain of the potato leaf roll virus  (PLRV)                                                                                                                    \n",
       "135  putative helicase domain of the potato leaf roll virus (PLRV)                                                                                                                      \n",
       "136  coat protein of plum pox virus (PPV)                                                                                                                                               \n",
       "137  coat protein (CP) of the papaya ringspot virus (PRSV)                                                                                                                              \n",
       "138  replicase domain of the papaya ringspot virus (PRSV)                                                                                                                               \n",
       "139  coat protein of the potato virus Y (PVY)                                                                                                                                           \n",
       "140  coat protein of watermelon mosaic potyvirus 2 (WMV2)                                                                                                                               \n",
       "141  coat protein of zucchini yellow mosaic potyvirus (ZYMV)                                                                                                                            \n",
       "142  red fluorescent protein                                                                                                                                                            \n",
       "143  beta-D-glucuronidase (GUS) enzyme                                                                                                                                                  \n",
       "144  CEL1 recombinant protein                                                                                                                                                           \n",
       "\n",
       "                                                                                                                                                                                                                                                            Function  \n",
       "0    catalyzes the side chain degradation of 2,4-D herbicide                                                                                                                                                                                                          \n",
       "1    reduces content of guaiacyl (G) lignin                                                                                                                                                                                                                           \n",
       "2    regulates the syringyl monolignol pathway;                                                                                                                                                                                                                       \n",
       "3    triggers mucosal immune tolerance to cedar pollen allergens                                                                                                                                                                                                      \n",
       "4    allows selection for resistance to aminoglycoside antibiotics such as spectinomycin and streptomycin                                                                                                                                                             \n",
       "5    allows selection for resistance to the antibiotic hygromycin B                                                                                                                                                                                                   \n",
       "6    detoxifies beta lactam antibiotics such as ampicillin                                                                                                                                                                                                            \n",
       "7    allows selection for resistance to the antibiotic hygromycin B                                                                                                                                                                                                   \n",
       "8    allows transformed plants to metabolize neomycin and kanamycin antibiotics during selection                                                                                                                                                                      \n",
       "9    confers resistance to spectinomycin/streptomycin antibiotics, which permits prokaryotic selection                                                                                                                                                                \n",
       "10   confers resistance to coleopteran insects particularly corn rootworm by selectively damaging their midgut lining                                                                                                                                                 \n",
       "11   confers resistance to coleopteran insects particularly corn rootworm by selectively damaging their midgut lining                                                                                                                                                 \n",
       "12   confers resistance to coleopteran insects by selectively damaging their midgut lining                                                                                                                                                                            \n",
       "13   confers resistance to coleopteran insects particularly corn rootworm by selectively damaging their midgut lining                                                                                                                                                 \n",
       "14   RNAi interference resulting to down-regulation of the function of the targeted Snf7 gene leading to Western Corn Rootworm mortality.                                                                                                                             \n",
       "15   confers resistance to coleopteran insects particularly corn rootworm pests by selectively damaging their midgut lining                                                                                                                                           \n",
       "16   inhibits the production of polygalacturonase enzyme responsible for the breakdown of pectin molecules in the cell wall, and thus causes delayed softening of the fruit                                                                                           \n",
       "17   involved in catalyzing the penultimate step in ethylene biosynthesis                                                                                                                                                                                             \n",
       "18   suppresses the normal expression of the native ACC synthase gene, resulting in reduced ethylene production and delayed fruit ripening                                                                                                                            \n",
       "19   causes reduced synthesis of endogenous ethylene through a gene silencing mechanism and thus delayed senescence and longer vase life                                                                                                                              \n",
       "20   metabolizes the precursor of the fruit ripening hormone ethylene, resulting in delayed fruit ripening                                                                                                                                                            \n",
       "21   causes delayed ripening by suppressing the production of ethylene via silencing of the ACO gene that encodes an ethylene-forming enzyme                                                                                                                          \n",
       "22   causes delayed ripening by reducing the S-adenosylmethionine (SAM), a substrate for ethylene production                                                                                                                                                          \n",
       "23   confers tolerance to the herbicide dicamba (2-methoxy-3,6-dichlorobenzoic acid) by using dicamba as substrate in an enzymatic reaction                                                                                                                           \n",
       "24   maintains normal cellular functions under water stress conditions by preserving RNA stability and translation                                                                                                                                                    \n",
       "25   catalyzes the production of the osmoprotectant compound glycine betaine conferring tolerance to water stress                                                                                                                                                     \n",
       "26   the transcription factor Hahb-4 binds to a dehydration transcription regulating region of plant                                                                                                                                                                  \n",
       "27   catalyzes the production of the osmoprotectant compound glycine betaine conferring tolerance to water stress                                                                                                                                                     \n",
       "28   to modulate plant's diurnal biology and to enhance growth and reproductive development                                                                                                                                                                           \n",
       "29   catalyzes the conversion of 15-cis-phytoene to all-trans-lycopene                                                                                                                                                                                                \n",
       "30   converts geranylgeranyl diphosphate into phytoene, and acts upstream of CRTI in the carotenoid biosynthesis pathway                                                                                                                                              \n",
       "31   restores fertility by repressing the inhibitory effect of barnase on tapetum cells of the anther                                                                                                                                                                 \n",
       "32   restores fertility by restoring the development of the microspore cell wall that gives rise to pollen                                                                                                                                                            \n",
       "33   confers resistance to potato late blight                                                                                                                                                                                                                         \n",
       "34   eliminates herbicidal activity of glufosinate (phosphinothricin) herbicides by acetylation                                                                                                                                                                       \n",
       "35   eliminates herbicidal activity of glufosinate (phosphinothricin) herbicides by acetylation                                                                                                                                                                       \n",
       "36   eliminates herbicidal activity of glufosinate (phosphinothricin) herbicides by acetylation                                                                                                                                                                       \n",
       "37   decreases binding affinity for glyphosate, thereby increasing tolerance to glyphosate herbicide                                                                                                                                                                  \n",
       "38   decreases binding affinity for glyphosate, thereby conferring increased tolerance to glyphosate herbicide                                                                                                                                                        \n",
       "39   confers tolerance to glyphosate herbicides                                                                                                                                                                                                                       \n",
       "40   confers tolerance to glyphosate herbicides                                                                                                                                                                                                                       \n",
       "41   catalyzes the inactivation of glyphosate,conferring tolerance to glyphosate herbicides                                                                                                                                                                           \n",
       "42   catalyzes the inactivation of glyphosate, conferring tolerance to glyphosate herbicides                                                                                                                                                                          \n",
       "43   confers tolerance to glyphosate herbicides by degrading glyphosate into aminomethylphosphonic acid (AMPA) and glyoxylate                                                                                                                                         \n",
       "44   confers tolerance to glyphosate herbicides                                                                                                                                                                                                                       \n",
       "45   confers resistance to hemipteran insects Lygus hesperus and L. lineolaris by selectively damaging their midgut lining                                                                                                                                            \n",
       "46   tolerance to the herbicide imazamox                                                                                                                                                                                                                              \n",
       "47   Modulates plant growth and development and regulates gene expression                                                                                                                                                                                             \n",
       "48   inhibits stem elongation and the development of reproductive organs; promotes early development of the inflorescence meristem                                                                                                                                    \n",
       "49   confers tolerance to HPPD-inhibiting herbicides (such as isoxaflutole) by reducing the specificity for the herbicide's bioactive constituent                                                                                                                     \n",
       "50   broad spectrum resistance against Phytophthora infestans races                                                                                                                                                                                                   \n",
       "51   confers resistance to lepidopteran insects by selectively damaging their midgut lining                                                                                                                                                                           \n",
       "52   confers resistance to lepidopteran insects by selectively damaging their midgut lining                                                                                                                                                                           \n",
       "53   confers resistance to lepidopteran insects by selectively damaging their midgut lining                                                                                                                                                                           \n",
       "54   confers resistance to lepidopteran insects by selectively damaging their midgut lining                                                                                                                                                                           \n",
       "55   confers resistance to lepidopteran insects by selectively damaging their midgut lining                                                                                                                                                                           \n",
       "56   confers resistance to lepidopteran insects by selectively damaging their midgut lining                                                                                                                                                                           \n",
       "57   confers resistance to lepidopteran insects, specifically Spodoptera                                                                                                                                                                                              \n",
       "58   confers resistance to lepidopteran insects by selectively damaging their midgut lining                                                                                                                                                                           \n",
       "59   confers resistance to lepidopteran insects by selectively damaging their midgut lining                                                                                                                                                                           \n",
       "60   confers resistance to lepidopteran insects by selectively damaging their midgut lining                                                                                                                                                                           \n",
       "61   confers resistance to lepidopteran insects by selectively damaging their midgut lining                                                                                                                                                                           \n",
       "62   confers resistance to lepidopteran insects by selectively damaging their midgut lining                                                                                                                                                                           \n",
       "63   confers resistance to lepidopteran insects by selectively damaging their midgut lining                                                                                                                                                                           \n",
       "64   enhances defense against insect predators by reducing the digestibility and nutritional quality of the leaves                                                                                                                                                    \n",
       "65   confers resistance to feeding damage caused by lepidopteran insects by selectively damaging their midgut lining                                                                                                                                                  \n",
       "66   confers resistance to feeding damage caused by lepidopteran insects by selectively damaging their midgut                                                                                                                                                         \n",
       "67   silence the endogenous dCS genes                                                                                                                                                                                                                                 \n",
       "68   Designed to generate dsRNA to down regulate Asn1 transcripts which lowers asparagine formation                                                                                                                                                                   \n",
       "69   Designed to generate dsRNA to down regulate PhL transcripts which lowers reducing sugars                                                                                                                                                                         \n",
       "70   Designed to generate dsRNA to down regulate R1 transcripts which lowers reducing sugars                                                                                                                                                                          \n",
       "71   downregulates VInv transcripts which lowers reducing sugars                                                                                                                                                                                                      \n",
       "72   causes male sterility by interfering with RNA production in the tapetum cells of the anther                                                                                                                                                                      \n",
       "73   confers male sterility by interfering with the production of functional anthers and pollen                                                                                                                                                                       \n",
       "74   hydrolyses starch and makes pollen sterile when expressed in immature pollen                                                                                                                                                                                     \n",
       "75   metabolizes mannose and allows positive selection for recovery of transformed plants                                                                                                                                                                             \n",
       "76   Tolerance to Mesotrione herbicide                                                                                                                                                                                                                                \n",
       "77   enhances bioethanol production by increasing the thermostability of amylase used in degrading starch                                                                                                                                                             \n",
       "78   increases the production of amino acid lysine                                                                                                                                                                                                                    \n",
       "79   alters the production of a type of anthocyanin called delphinidin                                                                                                                                                                                                \n",
       "80   catalyzes the production of the blue-coloured anthocyanin pigment delphinidin and its derivatives                                                                                                                                                                \n",
       "81   Cyt b5 protein acts as an electron donor to the Cyt P450 enzyme and is required for full activity of the Cyt P450 enzyme Flavinoid 3' 5' hydroxylase in vivo and the generation of purple/ blue flower colours.                                                  \n",
       "82   catalyzes the production of the blue-coloured anthocyanin pigment delphinidin and its derivatives                                                                                                                                                                \n",
       "83   functions in the biosynthesis pathway of the pink/ red-coloured anthocyandin 3-O-(6-O-malylglucoside) pigment in carnations                                                                                                                                      \n",
       "84   catalyzes the production of the blue-coloured anthocyanin pigment delphinidin and its derivatives                                                                                                                                                                \n",
       "85   involved in the biosynthesis of a group of blue coloured anthocyanins called delphinidins                                                                                                                                                                        \n",
       "86   increases lycopene accumulation using RNAi technology                                                                                                                                                                                                            \n",
       "87   increases lycopene accumulation using RNAi technology                                                                                                                                                                                                            \n",
       "88   increases lycopene and/or beta-carotene levels                                                                                                                                                                                                                   \n",
       "89   reduces desaturation of 18:1 oleic acid to 18:2 linoleic acid; increases the levels of monounsaturated oleic acid and decreases the levels of saturated linoleic acid in the seed                                                                                \n",
       "90   downregulation of fad2.2 gene                                                                                                                                                                                                                                    \n",
       "91   downregulates fatB gene                                                                                                                                                                                                                                          \n",
       "92   decreases the transport of saturated fatty acids out of the plastid, thereby increasing their availability to desaturation to 18:1 oleic acid; reduces the levels of saturated fatty acids and increases the levels of 18:1 oleic acid                           \n",
       "93   blocks the formation of linoleic acid from oleic acid (by silencing the fad2-1 gene) and allows accumulation of oleic acid in the seed                                                                                                                           \n",
       "94   blocks the conversion of oleic acid to linoleic acid (by silencing the endogenous fad2-1 gene) and allows accumulation of monounsaturated oleic acid in the seed                                                                                                 \n",
       "95   converts oleic acid to linoleic acid                                                                                                                                                                                                                             \n",
       "96   convert a-linolenic acid to stearidonic acid                                                                                                                                                                                                                     \n",
       "97   desaturates  certain endogenous fatty acids resulting in the production of stearidonic acid (SDA), an omega-3 fatty acid                                                                                                                                         \n",
       "98   catalyzes the decarboxylation Claisen-like condensation of two carbons from malonyl-CoA to C20:5n-3-CoA   generating   C22:5n-3-ß-keto-C oA,   which   is   then   converted   to   C22:5n-3-CoA by endogenous enzymes                                           \n",
       "99   converts C18:2n-6 fatty acids into C18:3n-6 fatty acids                                                                                                                                                                                                          \n",
       "100  converts docosapentaenoic acid to docosahexaenoic acid                                                                                                                                                                                                           \n",
       "101  converts eicosatetraenoic acid to eicosapentaenoic acid                                                                                                                                                                                                          \n",
       "102  converts linoleic acid to a-linolenic acid                                                                                                                                                                                                                       \n",
       "103  converts C20:4n-6 into C20:5n-3                                                                                                                                                                                                                                  \n",
       "104  converts C20:4n-6 into C20:5n-3                                                                                                                                                                                                                                  \n",
       "105  desaturates certain endogenous fatty acids resulting in the production of stearidonic acid (SDA), an omega-3 fatty acid                                                                                                                                          \n",
       "106  convert C22:5n-3 into C22:6n-3                                                                                                                                                                                                                                   \n",
       "107  catalyzes the decarboxylation Claisen-like condensation of two carbons from malonyl-CoA to C18:3n-6-CoA generating C20:3n-6-ß-keto-CoA, which is then converted to C20:3n-6-CoA by endogenous enzymes                                                            \n",
       "108  convert C18:1n-9 into C18:2n-6                                                                                                                                                                                                                                   \n",
       "109  converts eicosapentaenoic acid to docosapentaenoic acid                                                                                                                                                                                                          \n",
       "110  convert stearidonic acid to eicosatetraenoic acid                                                                                                                                                                                                                \n",
       "111  converts C22:5n-3 into C22:6n-3                                                                                                                                                                                                                                  \n",
       "112  te                                                                                                                                                                                                                                                               \n",
       "113  increases the level of triacylglycerides containing esterified lauric acid (12:0)                                                                                                                                                                                \n",
       "114  catalyzes the decarboxylation Claisen-like condensation of two carbons from malonyl-CoA to C18:3n-6-CoA generating C20:3n-6-ß-keto-CoA, which is then converted to C20:3n-6-CoA by endogenous enzymes                                                            \n",
       "115  reduces the levels of amylose and increases the levels of amylopectin in starch granules                                                                                                                                                                         \n",
       "116  confers resistance to a wide range of insect pests                                                                                                                                                                                                               \n",
       "117  confers resistance to a wide range of insect pests                                                                                                                                                                                                               \n",
       "118  confers resistance to coleopteran and lepidopteran insects by selectively damaging their midgut lining                                                                                                                                                           \n",
       "119  suppresses the transcription of the QPTase gene, thereby reducing the production of nicotinic acid, a precursor for nicotine                                                                                                                                     \n",
       "120  double stranded RNA (dsRNA)from the suppression transcript is processed into small interfering RNAs (siRNAs) that direct the cleavage of the target mRNA through sequence complementarity and suppresses PPO resulting in apples with a non-browning phenotype.  \n",
       "121  catalyses the synthesis of nopaline, which permits the identification of transformed plant embryos                                                                                                                                                               \n",
       "122  eliminates herbicidal activity of oxynil herbicides (eg. bromoxynil)                                                                                                                                                                                             \n",
       "123  increases the breakdown of plant phytates which bind phosphorus and makes the latter available to monogastric animals                                                                                                                                            \n",
       "124  degrades phytate phosphorus in seeds into inorganic phosphate to be available to animals when used as feed                                                                                                                                                       \n",
       "125  Designed to generate dsRNA to down regulate Ppo5 transcripts which lowers black spot bruise development                                                                                                                                                          \n",
       "126  allows the synthesis of essential amino acids in the presence of sulfonylurea herbicides                                                                                                                                                                         \n",
       "127  confers tolerance to imidazolinone herbicides                                                                                                                                                                                                                    \n",
       "128  confers tolerance to applications of sulfonylurea – based herbicides                                                                                                                                                                                             \n",
       "129  allows the plant to synthesize essential amino acids in the presence of sulfonylurea herbicides                                                                                                                                                                  \n",
       "130  confers tolerance to sulfonylurea herbicides and other acetolactate synthase (ALS) inhibiting herbicides                                                                                                                                                         \n",
       "131  confers tolerance to acetolactate synthase-inhibiting herbicides such as sulfonylurea and imidazolinone                                                                                                                                                          \n",
       "132  inhibits the synthesis of the viral replication protein of the Bean Golden Mosaic Virus (BGMV), thereby conferring resistance to the BGMV                                                                                                                        \n",
       "133  confers resistance to cucumber mosaic cucumovirus (CMV) through \"pathogen-derived resistance\" mechanism                                                                                                                                                          \n",
       "134  confers resistance to potato leaf roll virus (PLRV) through gene silencing mechanism                                                                                                                                                                             \n",
       "135  confers resistance to potato leaf roll virus (PLRV) through gene silencing mechanism                                                                                                                                                                             \n",
       "136  confers resistance to plum pox virus (PPV) through \"pathogen-derived resistance\" mechanism                                                                                                                                                                       \n",
       "137  confers resistance to papaya ringspot virus (PRSV) through \"pathogen-derived resistance\" mechanism                                                                                                                                                               \n",
       "138  confers resistance to papaya ringspot virus (PRSV) through gene silencing mechanism                                                                                                                                                                              \n",
       "139  confers resistance to potato virus Y (PVY) through \"pathogen-derived resistance\" mechanism                                                                                                                                                                       \n",
       "140  confers resistance to watermelon mosaic potyvirus 2 (WMV2) through \"pathogen-derived resistance\" mechanism                                                                                                                                                       \n",
       "141  confers resistance to zucchini yellow mosaic potyvirus (ZYMV) through \"pathogen-derived resistance\" mechanism                                                                                                                                                    \n",
       "142  produces red stain on transformed tissue, which allows visual selection                                                                                                                                                                                          \n",
       "143  produces blue stain on treated transformed tissue, which allows visual selection                                                                                                                                                                                 \n",
       "144  promotes a faster growth                                                                                                                                                                                                                                         "
      ]
     },
     "execution_count": 113,
     "metadata": {},
     "output_type": "execute_result"
    }
   ],
   "source": [
    "# ❗️ Run this cell!\n",
    "# View the ENTIRE data frame\n",
    "pandas.set_option('display.max_rows', None)\n",
    "traitdata"
   ]
  },
  {
   "cell_type": "markdown",
   "metadata": {},
   "source": [
    "# 🧬 💻  Bioinformatics Hands-on portion"
   ]
  },
  {
   "cell_type": "markdown",
   "metadata": {},
   "source": [
    "Now that you understand a little more of what GMO's are, it's time to try and find out what our seeds are. Luckily, you have a sequencing machine that can tell you the DNA sequence of a seed. Crop-3PO also has a list of genes, but only knows a few of their DNA sequences. (Note that these sequences are made up, and that actual DNA sequences are much longer!)\n",
    "\n",
    "You sort your seeds out into 10 different groups based on colour, size, and hardness. You believe these ones are the same. By the end you have a total of 10 groups with only a few seeds each. To avoid wasting seeds, you tell Crop-3PO to sequence only one from each group. You call these your samples."
   ]
  },
  {
   "cell_type": "markdown",
   "metadata": {},
   "source": [
    "### **🤖 Crop-3PO:** I know lots of genes and sequences! Here is an example of what `cry1Ab` looks like:"
   ]
  },
  {
   "cell_type": "code",
   "execution_count": 7,
   "metadata": {},
   "outputs": [
    {
     "name": "stdout",
     "output_type": "stream",
     "text": [
      ">cry1Ab_1\n",
      "GACCCCACCAACCCAGCCCTGCGCGAGGAGATGCGCATCCAGTTCAACGACATGAACTCT\n",
      "GCCCTGACCACCGCCATCCCACTCTTCGCTGTCCAGAACTACCAGGTCCCTCTCCTGTCT\n",
      "\n"
     ]
    }
   ],
   "source": [
    "# ❗️ Run this cell!\n",
    "# Here, we can see a gene sequence associated with cry1AB_1\n",
    "genes_dict = SeqIO.to_dict(SeqIO.parse(\"./data/genes.fa\", \"fasta\"))\n",
    "print(genes_dict[\"cry1Ab_1\"].format(\"fasta\"))"
   ]
  },
  {
   "cell_type": "markdown",
   "metadata": {},
   "source": [
    "### **🤖 Crop-3PO:** Here are all the genes I know, some I only know part of the sequence for. If it looks similar, you can act like they are the same as the trait. For instance `tNOS` can be considered `nos` for our purposes"
   ]
  },
  {
   "cell_type": "code",
   "execution_count": 23,
   "metadata": {},
   "outputs": [
    {
     "data": {
      "text/plain": [
       "[dict_keys(['cry1Ab_1', 'tNOS', 'cry1Ac', 'Cry2Ab2', 'Epsps_1', 'Prsv_cp_1', 'CEL1', 'bar', 'pat'])]"
      ]
     },
     "execution_count": 23,
     "metadata": {},
     "output_type": "execute_result"
    }
   ],
   "source": [
    "# ❗️ Run this cell!\n",
    "#it will also be helpful for us to get a list of all the genes and samples we have\n",
    "geneslist = [] \n",
    "geneslist.append(genes_dict.keys())\n",
    "geneslist"
   ]
  },
  {
   "cell_type": "markdown",
   "metadata": {},
   "source": [
    "### **🤖 Crop-3PO:** Here is a list of all the samples I successfully sequenced!"
   ]
  },
  {
   "cell_type": "code",
   "execution_count": 24,
   "metadata": {},
   "outputs": [
    {
     "data": {
      "text/plain": [
       "[dict_keys(['sample1', 'sample2', 'sample3', 'sample4', 'sample5', 'sample6', 'sample7', 'sample8', 'sample9', 'sample10'])]"
      ]
     },
     "execution_count": 24,
     "metadata": {},
     "output_type": "execute_result"
    }
   ],
   "source": [
    "# ❗️ Run this cell!\n",
    "# list of our total samples\n",
    "sampleslist = [] \n",
    "sampleslist.append(samples_dict.keys())\n",
    "sampleslist"
   ]
  },
  {
   "cell_type": "markdown",
   "metadata": {},
   "source": [
    "### **🤖 Crop-3PO:** Here's an example of what the sequence for Sample 1 looks like."
   ]
  },
  {
   "cell_type": "code",
   "execution_count": 8,
   "metadata": {
    "scrolled": true
   },
   "outputs": [
    {
     "name": "stdout",
     "output_type": "stream",
     "text": [
      ">sample1\n",
      "GTCTGTGGTTGCTGTTATAGGCCTTCCAAACGATCCATCTGTTAGGTTGCATGAGGCTTT\n",
      "GGGATACACAGCCCGGGGTACATTGCGCGCAGCTGGATACAAGCATGGTGGATGGCATGA\n",
      "CCTTTGGGTCACGATCTCCCACCTTACTGGAATTTAGTCCCTGCTATAATTTGCCTTGCA\n",
      "TATAAGTTGCGTTACTTCAGCGTCCTAACCGCACCCTTAGCACGAAGACAGATTTGTTCA\n",
      "TTCCCATACTCCGGCGTTGGCAGGGGGTTCGCATGTCCCACGTGAAACGTTGCTAAACCC\n",
      "TCAGGTTTCTGAGCGACAAAAGCTTTAAACGGGAGTTCGCGCTCATAACTTGGTCCGAAT\n",
      "GCGGGTTCTTGCATCGTTCGACTGAGTTTGTTTCATGTAGAACGGGCGCAAAGTATACTT\n",
      "AGTTCAATCTTCAATACCTCGTATCATTGTACACCTGCCGGTCACCACCCGACCCCACCA\n",
      "ACCCAGCCCTGCGCGAGGAGATGCGCATCCAGTTCAACGACATGAACTCTGCCCTGACCA\n",
      "CCGCCATCCCACTCTTCGCTGTCCAGAACTACCAGGTCCCTCTCCTGTCTAACGATGTGG\n",
      "GGACGGCGTTGCAACTTCGAGGACCTAATCTGACCGACCTAGATTCGGCACTGTGGGCAA\n",
      "TATGAGGTATTGGCAGACACCCAGTGCCGAACAACACCTGACCTAACGGTAAGAGAGTCT\n",
      "CATAATGCGTCCGGCCGCGTGCCCAGGGTATATTTGGACAGTATCGAATGGACTGAGATG\n",
      "AACCTTTACACCGATCCGGAAACGGGTGCGTGGATTAGCCAGGAGCAAACGAAAAATCCT\n",
      "GGGCTACTTGATGTCTTGTGACGTTCTTAGAGATGGACGAAATGTTTCACGACCTAGGAT\n",
      "AAGGTCGCCCTACAAAATAGGCCAAGACTTTCTTTAGTCCGCTGATGGGACACTATATGA\n",
      "AAAGCGTTCTAAGCAAGGAAGCATACGTTAAGGACTTATTGAAATACTCAAGTGACATAA\n",
      "TTGTTGGTGAAGTTGACCACATTTGTGCTACTCTCCTCATAAGCAGTCCGGTGTATCGAA\n",
      "AGAACAAGACTAGCCTTGCTAGCAACCGCGGGCCTGCGGGCGGCCGGCTTCAAGCACGGG\n",
      "AACTGGCATGACGTGGGTTTCTGGCAGCTGGACTTCAGCCTGCCGGTACCGCCCCGTCCG\n",
      "GTCCTGCCCGTCACCGAGATCTGAACGGAGTGCTGGGGGGCTAAGGTATCACTCAAGAAG\n",
      "CAGGCTCGGTAACATACGGTCTAGCTATCTGACTATCGCCTACGTCATATAGGGACCTAT\n",
      "GATATCTGCGTGTCCAACCTTAGAATTCACTTCAGCGCGCAGGTTTGGGTCGAGATAAAA\n",
      "TCACCAGTACCCAAGACCACGGGCGCTCGGCGCCTTGGCTAATCCCGGTACATGTTGTTA\n",
      "TAAATAATCAGTAGAAAATCTGTGTTAGAGGGTCGAGTCACTCTAGGCCTTACTTAACCG\n",
      "GATACAGTGACTTTGACAGGTTTGTGGGCTACAGCAATCACTTGCATAGCTGCGTATGGA\n",
      "GGAAGCAACTCTTGAGTGTTAATATGTTGACCCCTGTATTAGGGATGCGGGTAGTAGATG\n",
      "TGGGCAGAGACACCCAGGTCAAGTACATAACCCTCTCGTAGGAGGTGTTCCAGATCACCA\n",
      "TACCACCATATCATTCGAGCATGACACTATGTACGCTGTCCCCATTCTGGTAGTCATCAT\n",
      "CCCTATCACGGTTTCGACTCTAGGCCTTACTTAACCGGATACAGTGACTTTGACAGGTTT\n",
      "GTGGGCTACAGCAATCACTTGCATAGCTGCGTATGGAGGAAGCAACTCTTGAGTGTTAAT\n",
      "ATGTTGACCCCTGTATTAGGGATGCGGGTAGTAGATGTGGGCAGAGACACCCAGGTCAAG\n",
      "TACATAACCCTCTCGTAGGAGGTGTTCCAGATCACCATACCACCATATCATTCGAGCATG\n",
      "ACACTATGTACGCTGTCCCCATTCTGGTAGTCATCATCCCTATCACGGTTTCGA\n",
      "\n"
     ]
    }
   ],
   "source": [
    "# ❗️ Run this cell!\n",
    "# let's look at some of the information in our first sample\n",
    "samples_dict = SeqIO.to_dict(SeqIO.parse(\"./data/samples.fa\", \"fasta\"))\n",
    "print(samples_dict[\"sample1\"].format(\"fasta\"))"
   ]
  },
  {
   "cell_type": "markdown",
   "metadata": {},
   "source": [
    "### **🤖 Crop-3PO:** That's probably pretty difficult for a human to read. Luckily, as a machine I can very quickly match the sequences of our genes and tell you whether a sample is likely to have the gene or not. Let me try doing this, and you can see my output down below."
   ]
  },
  {
   "cell_type": "code",
   "execution_count": 98,
   "metadata": {
    "scrolled": true
   },
   "outputs": [
    {
     "name": "stdout",
     "output_type": "stream",
     "text": [
      "🔬\u001b[1;36m sample1 \u001b[1;0m contains matches for \u001b[1;32m [['cry1Ab_1'], ['Prsv_cp_1'], ['bar'], ['pat']] \u001b[1;0m\n",
      "🔬\u001b[1;36m sample2 \u001b[1;0m contains matches for \u001b[1;32m [['CEL1'], ['pat']] \u001b[1;0m\n",
      "🔬\u001b[1;36m sample3 \u001b[1;0m contains matches for \u001b[1;32m [['cry1Ab_1'], ['Prsv_cp_1'], ['CEL1']] \u001b[1;0m\n",
      "🔬\u001b[1;36m sample4 \u001b[1;0m contains matches for \u001b[1;32m [['cry1Ab_1']] \u001b[1;0m\n",
      "🔬\u001b[1;36m sample5 \u001b[1;0m contains matches for \u001b[1;32m [['Cry2Ab2'], ['Epsps_1']] \u001b[1;0m\n",
      "🔬\u001b[1;36m sample6 \u001b[1;0m contains matches for \u001b[1;32m [['Cry2Ab2'], ['Epsps_1']] \u001b[1;0m\n",
      "🔬\u001b[1;36m sample7 \u001b[1;0m contains matches for \u001b[1;32m [['cry1Ab_1'], ['cry1Ac']] \u001b[1;0m\n",
      "🔬\u001b[1;36m sample8 \u001b[1;0m contains matches for \u001b[1;32m [['tNOS'], ['Epsps_1'], ['pat']] \u001b[1;0m\n",
      "🔬\u001b[1;36m sample9 \u001b[1;0m contains matches for \u001b[1;32m [['tNOS'], ['bar'], ['pat']] \u001b[1;0m\n",
      "🔬\u001b[1;36m sample10 \u001b[1;0m contains matches for \u001b[1;32m [['cry1Ac'], ['Prsv_cp_1'], ['bar']] \u001b[1;0m\n"
     ]
    }
   ],
   "source": [
    "# ❗️ Run this cell!\n",
    "# now we're going to match the genes to each sample\n",
    "for sample in samples_dict: \n",
    "    x.append(samples_dict[sample].name)\n",
    "    y.append(samples_dict[sample].seq)\n",
    "    temp2 = []\n",
    "    for gene in genes_dict:\n",
    "        temp1 = []\n",
    "        if genes_dict[gene].seq in samples_dict[sample].seq: \n",
    "            temp1.append(genes_dict[gene].name)\n",
    "            temp2.append(temp1)\n",
    "    print(\"🔬\\033[1;36m\", samples_dict[sample].name, \"\\033[1;0m contains matches for \\033[1;32m\", temp2, \"\\033[1;0m\")"
   ]
  },
  {
   "cell_type": "markdown",
   "metadata": {},
   "source": [
    "###  **🤖 Crop-3PO:** On a larger scale, if we had sequence matches for every single gene, we would likely see something like this:\n",
    "![](./images/genome.png)\n",
    "\n",
    "Image obtained from: https://www.nature.com/articles/s41598-019-51668-x/figures/3"
   ]
  },
  {
   "cell_type": "markdown",
   "metadata": {},
   "source": [
    "### **🤖 Crop-3PO:** Pretty cool trick huh? Now all that's left to do is try to figure out which ones are useful for us. You'll probably want to look at the genes in each sample and think about which traits they're associated with, and whether or not that is useful for us to have here on Mars. I've listed them down below."
   ]
  },
  {
   "cell_type": "code",
   "execution_count": 12,
   "metadata": {},
   "outputs": [
    {
     "data": {
      "text/html": [
       "<div>\n",
       "<style scoped>\n",
       "    .dataframe tbody tr th:only-of-type {\n",
       "        vertical-align: middle;\n",
       "    }\n",
       "\n",
       "    .dataframe tbody tr th {\n",
       "        vertical-align: top;\n",
       "    }\n",
       "\n",
       "    .dataframe thead th {\n",
       "        text-align: right;\n",
       "    }\n",
       "</style>\n",
       "<table border=\"1\" class=\"dataframe\">\n",
       "  <thead>\n",
       "    <tr style=\"text-align: right;\">\n",
       "      <th></th>\n",
       "      <th>Trait</th>\n",
       "      <th>Gene</th>\n",
       "      <th>Product</th>\n",
       "      <th>Source</th>\n",
       "      <th>Function</th>\n",
       "    </tr>\n",
       "  </thead>\n",
       "  <tbody>\n",
       "    <tr>\n",
       "      <th>34</th>\n",
       "      <td>Glufosinate herbicide tolerance</td>\n",
       "      <td>bar</td>\n",
       "      <td>Streptomyces hygroscopicus</td>\n",
       "      <td>phosphinothricin N-acetyltransferase (PAT) enzyme</td>\n",
       "      <td>eliminates herbicidal activity of glufosinate ...</td>\n",
       "    </tr>\n",
       "    <tr>\n",
       "      <th>35</th>\n",
       "      <td>Glufosinate herbicide tolerance</td>\n",
       "      <td>pat</td>\n",
       "      <td>Streptomyces viridochromogenes</td>\n",
       "      <td>phosphinothricin N-acetyltransferase (PAT) enzyme</td>\n",
       "      <td>eliminates herbicidal activity of glufosinate ...</td>\n",
       "    </tr>\n",
       "    <tr>\n",
       "      <th>39</th>\n",
       "      <td>Glyphosate herbicide tolerance</td>\n",
       "      <td>epsps (Ag)</td>\n",
       "      <td>Arthrobacter globiformis</td>\n",
       "      <td>5-enolpyruvylshikimate-3-phosphate-synthase en...</td>\n",
       "      <td>confers tolerance to glyphosate herbicides</td>\n",
       "    </tr>\n",
       "    <tr>\n",
       "      <th>53</th>\n",
       "      <td>Lepidopteran insect resistance</td>\n",
       "      <td>cry1Ab</td>\n",
       "      <td>Bacillus thuringiensis subsp. kurstaki</td>\n",
       "      <td>Cry1Ab delta-endotoxin</td>\n",
       "      <td>confers resistance to lepidopteran insects by ...</td>\n",
       "    </tr>\n",
       "    <tr>\n",
       "      <th>56</th>\n",
       "      <td>Lepidopteran insect resistance</td>\n",
       "      <td>cry1Ac</td>\n",
       "      <td>Bacillus thuringiensis subsp. Kurstaki strain ...</td>\n",
       "      <td>Cry1Ac delta-endotoxin</td>\n",
       "      <td>confers resistance to lepidopteran insects by ...</td>\n",
       "    </tr>\n",
       "    <tr>\n",
       "      <th>60</th>\n",
       "      <td>Lepidopteran insect resistance</td>\n",
       "      <td>cry2Ab2</td>\n",
       "      <td>Bacillus thuringiensis subsp. kumamotoensis</td>\n",
       "      <td>Cry2Ab delta-endotoxin</td>\n",
       "      <td>confers resistance to lepidopteran insects by ...</td>\n",
       "    </tr>\n",
       "    <tr>\n",
       "      <th>121</th>\n",
       "      <td>Nopaline synthesis</td>\n",
       "      <td>nos</td>\n",
       "      <td>Agrobacterium tumefaciens strain CP4</td>\n",
       "      <td>nopaline synthase enzyme</td>\n",
       "      <td>catalyses the synthesis of nopaline, which per...</td>\n",
       "    </tr>\n",
       "    <tr>\n",
       "      <th>137</th>\n",
       "      <td>Viral disease resistance</td>\n",
       "      <td>prsv_cp</td>\n",
       "      <td>Papaya ringspot virus (PRSV)</td>\n",
       "      <td>coat protein (CP) of the papaya ringspot virus...</td>\n",
       "      <td>confers resistance to papaya ringspot virus (P...</td>\n",
       "    </tr>\n",
       "    <tr>\n",
       "      <th>144</th>\n",
       "      <td>Volumetric Wood Increase</td>\n",
       "      <td>cel1</td>\n",
       "      <td>Arabidopsis thaliana</td>\n",
       "      <td>CEL1 recombinant protein</td>\n",
       "      <td>promotes a faster growth</td>\n",
       "    </tr>\n",
       "  </tbody>\n",
       "</table>\n",
       "</div>"
      ],
      "text/plain": [
       "                               Trait        Gene  \\\n",
       "34   Glufosinate herbicide tolerance         bar   \n",
       "35   Glufosinate herbicide tolerance         pat   \n",
       "39    Glyphosate herbicide tolerance  epsps (Ag)   \n",
       "53    Lepidopteran insect resistance      cry1Ab   \n",
       "56    Lepidopteran insect resistance      cry1Ac   \n",
       "60    Lepidopteran insect resistance     cry2Ab2   \n",
       "121               Nopaline synthesis         nos   \n",
       "137         Viral disease resistance     prsv_cp   \n",
       "144         Volumetric Wood Increase        cel1   \n",
       "\n",
       "                                               Product  \\\n",
       "34                          Streptomyces hygroscopicus   \n",
       "35                      Streptomyces viridochromogenes   \n",
       "39                            Arthrobacter globiformis   \n",
       "53              Bacillus thuringiensis subsp. kurstaki   \n",
       "56   Bacillus thuringiensis subsp. Kurstaki strain ...   \n",
       "60         Bacillus thuringiensis subsp. kumamotoensis   \n",
       "121               Agrobacterium tumefaciens strain CP4   \n",
       "137                       Papaya ringspot virus (PRSV)   \n",
       "144                               Arabidopsis thaliana   \n",
       "\n",
       "                                                Source  \\\n",
       "34   phosphinothricin N-acetyltransferase (PAT) enzyme   \n",
       "35   phosphinothricin N-acetyltransferase (PAT) enzyme   \n",
       "39   5-enolpyruvylshikimate-3-phosphate-synthase en...   \n",
       "53                              Cry1Ab delta-endotoxin   \n",
       "56                              Cry1Ac delta-endotoxin   \n",
       "60                              Cry2Ab delta-endotoxin   \n",
       "121                           nopaline synthase enzyme   \n",
       "137  coat protein (CP) of the papaya ringspot virus...   \n",
       "144                           CEL1 recombinant protein   \n",
       "\n",
       "                                              Function  \n",
       "34   eliminates herbicidal activity of glufosinate ...  \n",
       "35   eliminates herbicidal activity of glufosinate ...  \n",
       "39          confers tolerance to glyphosate herbicides  \n",
       "53   confers resistance to lepidopteran insects by ...  \n",
       "56   confers resistance to lepidopteran insects by ...  \n",
       "60   confers resistance to lepidopteran insects by ...  \n",
       "121  catalyses the synthesis of nopaline, which per...  \n",
       "137  confers resistance to papaya ringspot virus (P...  \n",
       "144                           promotes a faster growth  "
      ]
     },
     "execution_count": 12,
     "metadata": {},
     "output_type": "execute_result"
    }
   ],
   "source": [
    "# trait data narrowed down to our genes\n",
    "traitdata.loc[traitdata['Gene'].isin(['cry1Ab','nos','cry1Ac','cry2Ab2','epsps (Ag)','prsv_cp','cel1','bar','pat'])]"
   ]
  },
  {
   "cell_type": "markdown",
   "metadata": {},
   "source": [
    "### 📚 Based on the information available to us, what traits does each sample have?\n",
    "\n",
    "Fill in the boxes marked with ✏️ by double clicking on it and filling in your answer. Remember to save your answers by clicking `File > Save and Checkpoint`!"
   ]
  },
  {
   "cell_type": "markdown",
   "metadata": {},
   "source": [
    "✏️\n",
    "\n",
    "✏️\n",
    "\n",
    "✏️"
   ]
  },
  {
   "cell_type": "markdown",
   "metadata": {},
   "source": [
    "### 📚 Assuming the samples are the same plant (e.g. all are Corn, etc), which two crops would you try to cross first to achieve a \"stacked\" trait? \n",
    "\n",
    "### A stacked trait is a trait that has multiple benefits.\n",
    "\n",
    "Fill in the boxes marked with ✏️ by double clicking on it and filling in your answer. Remember to save your answers by clicking `File > Save and Checkpoint`!"
   ]
  },
  {
   "cell_type": "markdown",
   "metadata": {},
   "source": [
    "✏️\n",
    "\n",
    "✏️\n",
    "\n",
    "✏️"
   ]
  },
  {
   "cell_type": "markdown",
   "metadata": {},
   "source": [
    "## 📌 References \n",
    "#### The data used in this notebook was obtained from the following sources:\n",
    " \n",
    "Rhodora R Aldemita, Ian Mari E Reaño, Renando O Solis & Randy A Hautea (2015) Trends in global approvals of biotech crops (1992–2014), GM Crops & Food, 6:3, 150-166, DOI: 10.1080/21645698.2015.1056972 \n",
    "\n",
    "Debode, F., Hulin, J., Charloteaux, B. et al. Detection and identification of transgenic events by next generation sequencing combined with enrichment technologies. Sci Rep 9, 15595 (2019). https://doi.org/10.1038/s41598-019-51668-x\n",
    "\n",
    "ISAAA's GM Approval Database. http://www.isaaa.org/gmapprovaldatabase/"
   ]
  },
  {
   "cell_type": "markdown",
   "metadata": {},
   "source": [
    "[![Callysto.ca License](https://github.com/callysto/curriculum-notebooks/blob/master/callysto-notebook-banner-bottom.jpg?raw=true)](https://github.com/callysto/curriculum-notebooks/blob/master/LICENSE.md)"
   ]
  }
 ],
 "metadata": {
  "kernelspec": {
   "display_name": "Python 3",
   "language": "python",
   "name": "python3"
  },
  "language_info": {
   "codemirror_mode": {
    "name": "ipython",
    "version": 3
   },
   "file_extension": ".py",
   "mimetype": "text/x-python",
   "name": "python",
   "nbconvert_exporter": "python",
   "pygments_lexer": "ipython3",
   "version": "3.8.5"
  }
 },
 "nbformat": 4,
 "nbformat_minor": 4
}

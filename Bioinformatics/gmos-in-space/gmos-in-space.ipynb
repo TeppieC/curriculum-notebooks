{
 "cells": [
  {
   "cell_type": "markdown",
   "metadata": {},
   "source": [
    "![Callysto.ca Banner](https://github.com/callysto/curriculum-notebooks/blob/master/callysto-notebook-banner-top.jpg?raw=true)\n",
    "\n",
    "<a href=\"https://hub.callysto.ca/jupyter/hub/user-redirect/git-pull?repo=https%3A%2F%2Fgithub.com%2Fcallysto%2Fhackathon&branch=master&subPath=ColonizingMars/ChallengeTemplates/challenge-option-1-should-we-colonize-Mars.ipynb&depth=1\" target=\"_parent\"><img src=\"https://raw.githubusercontent.com/callysto/curriculum-notebooks/master/open-in-callysto-button.svg?sanitize=true\" width=\"123\" height=\"24\" alt=\"Open in Callysto\"/></a>"
   ]
  },
  {
   "cell_type": "markdown",
   "metadata": {},
   "source": [
    "# Spacer's Challenge: Use Data and Biology to Decide What We Should Grow On Mars\n",
    "\n",
    "## Mission Statement\n",
    "\n",
    "You are a top scientist sent from Earth tasked with the most important mission of all: ensuring our survival on other planets. Before sending you off to space, your team gave you a variety of crop seeds and a data set containing information on them, including some biological traits that were designed to give them an edge in this new environment. \n",
    "\n",
    "Now on Mars, it is your job to use this data to decide which crops to grow. As part of this mission, you will be asked to convince the other astronauts to explain your reasoning using computational thinking and learn data science skills. \n",
    "\n",
    "**Inspiration:** https://www.sciencealert.com/growing-potatoes-on-mars-might-actually-work-hints-a-new-experiment"
   ]
  },
  {
   "cell_type": "markdown",
   "metadata": {},
   "source": [
    "## Mission Objective Alpha: Obtaining the Crop Data\n",
    "\n",
    "Your first mission objective is to obtain the data given to you by your friends on Earth. In order to make sure the data could make it safely, they placed it in a special device. You plug in the device to your computer, but you realize you need to use a special computer command to open it. \n",
    "\n",
    "On this mission, you will also get hints from your robot-helper, *Crop-3PO*.\n",
    "\n",
    "**Crop-3PO:** Welcome, Captain! The people of Mars are counting on you!"
   ]
  },
  {
   "cell_type": "markdown",
   "metadata": {},
   "source": [
    "**Crop-3PO:** In order to use the special command, you need to import a special library called `pandas`. You can do this by typing `import pandas`. \n",
    "\n",
    "Here, I'll do the first one for you: "
   ]
  },
  {
   "cell_type": "code",
   "execution_count": null,
   "metadata": {},
   "outputs": [],
   "source": [
    "import pandas "
   ]
  },
  {
   "cell_type": "markdown",
   "metadata": {},
   "source": [
    "**Crop-3PO:** Now that we've told the computer we are going to use a special set of commands, you can use the special commands, called functions, to access the data. You can do this by typing `pandas.read_csv(\"./cropdatafromearth.csv\")`\n",
    "\n",
    "This tells the computer to read a CSV filetype of our choice, using a function from the pandas library."
   ]
  },
  {
   "cell_type": "code",
   "execution_count": null,
   "metadata": {
    "scrolled": true
   },
   "outputs": [],
   "source": [
    "# Type your answer here\n",
    "pandas.read_csv(\"./cropdatafromearth.csv\")"
   ]
  },
  {
   "cell_type": "code",
   "execution_count": null,
   "metadata": {},
   "outputs": [],
   "source": [
    "answer = int(input(\"How many rows of data is in this dataset? \"))\n",
    "if answer == 2799: \n",
    "    print(\"Correct! In this case, the computer starts the first row at 0.\")\n",
    "elif answer == 2800: \n",
    "    print(\"Close, but look at the first row. In our Python programming language, counting starts at 0!\")\n",
    "else: \n",
    "    print(\"Hmm. Not quite. \\nCrop-3PO: Try looking at the bottom of the output\")"
   ]
  },
  {
   "cell_type": "markdown",
   "metadata": {},
   "source": [
    "**Crop-3PO:** In order to access it more easily, we should give it a codeword, also known as a variable. Let's try it again and use the \"=\" symbol to give it the codeword cropdata.\n",
    "\n",
    "It should look something like\n",
    "`cropdata = pandas.read_csv(\"./cropdatafromearth.csv\")`"
   ]
  },
  {
   "cell_type": "code",
   "execution_count": null,
   "metadata": {},
   "outputs": [],
   "source": [
    "# Type your answer here\n",
    "cropdata = pandas.read_csv(\"./cropdatafromearth.csv\")"
   ]
  },
  {
   "cell_type": "markdown",
   "metadata": {},
   "source": [
    "**Crop-3PO:** Now use the codeword again to access the data by typing `cropdata`."
   ]
  },
  {
   "cell_type": "code",
   "execution_count": null,
   "metadata": {},
   "outputs": [],
   "source": [
    "# Type your answer here\n",
    "cropdata"
   ]
  },
  {
   "cell_type": "markdown",
   "metadata": {},
   "source": [
    "[![Callysto.ca License](https://github.com/callysto/curriculum-notebooks/blob/master/callysto-notebook-banner-bottom.jpg?raw=true)](https://github.com/callysto/curriculum-notebooks/blob/master/LICENSE.md)"
   ]
  },
  {
   "cell_type": "code",
   "execution_count": null,
   "metadata": {},
   "outputs": [],
   "source": []
  }
 ],
 "metadata": {
  "kernelspec": {
   "display_name": "Python 3",
   "language": "python",
   "name": "python3"
  },
  "language_info": {
   "codemirror_mode": {
    "name": "ipython",
    "version": 3
   },
   "file_extension": ".py",
   "mimetype": "text/x-python",
   "name": "python",
   "nbconvert_exporter": "python",
   "pygments_lexer": "ipython3",
   "version": "3.7.6"
  }
 },
 "nbformat": 4,
 "nbformat_minor": 4
}

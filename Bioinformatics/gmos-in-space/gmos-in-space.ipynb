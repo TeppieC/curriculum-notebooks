{
 "cells": [
  {
   "cell_type": "markdown",
   "metadata": {},
   "source": [
    "![Callysto.ca Banner](https://github.com/callysto/curriculum-notebooks/blob/master/callysto-notebook-banner-top.jpg?raw=true)\n",
    "\n",
    "<a href=\"https://hub.callysto.ca/jupyter/hub/user-redirect/git-pull?repo=https%3A%2F%2Fgithub.com%2Fcallysto%2Fhackathon&branch=master&subPath=ColonizingMars/ChallengeTemplates/challenge-option-1-should-we-colonize-Mars.ipynb&depth=1\" target=\"_parent\"><img src=\"https://raw.githubusercontent.com/callysto/curriculum-notebooks/master/open-in-callysto-button.svg?sanitize=true\" width=\"123\" height=\"24\" alt=\"Open in Callysto\"/></a>"
   ]
  },
  {
   "cell_type": "markdown",
   "metadata": {},
   "source": [
    "# 🚀 Spacer's Challenge : Using Data and Biology to Decide What We Should Grow On Mars\n",
    "\n",
    "\n",
    "## 📌 Mission Statement\n",
    "\n",
    "You are a top scientist sent from Earth tasked with the most important mission of all: ensuring our survival on other planets. Before sending you off to space, your team gave you a variety of crop seeds and a data set containing information on them, including some biological traits that were designed to give them an edge in this new environment. \n",
    "\n",
    "Now on Mars, it is your job to use this data to [decide which crops to grow](https://www.sciencealert.com/growing-potatoes-on-mars-might-actually-work-hints-a-new-experiment). As part of this mission, you will be asked to convince the other astronauts to explain your reasoning using computational thinking and learn data science skills. \n",
    "\n",
    "![](http://biowyse.eu/wp-content/uploads/2016/05/agrospace_01.jpg)"
   ]
  },
  {
   "cell_type": "markdown",
   "metadata": {},
   "source": [
    "## 📌 Obtaining the Crop Data\n",
    "\n",
    "\n",
    "### DATA INFORMATION\n",
    "\n",
    "\n",
    "### OBJECTIVE\n",
    "\n",
    "Our first mission objective is to access this data. In order to make sure the data could make it safely, they placed it in a special device. You plug in the device to your computer, but you realize you need to use a special computer command to open it. On this mission, you will work with a special robot-helper who will help write code for you, ***Crop-3PO***.\n",
    "\n",
    "**🤖 Crop-3PO:** Welcome! The people of Mars are counting on you! In order to use the special command, we need to import a special library by typing `import pandas`. We'll also need a few other libraries. \n",
    "\n",
    "**🤖 Crop-3PO:** I wrote it down in the code cell below, however because I'm just a robot I can't execute the code! I'll need your help to do that. Make sure whenever you see `# ❗️ Run this cell!` you click the run icon in the toolbar above while you have the code cell selected! Otherwise we will get error messages. Here, I'll start in the cell below!"
   ]
  },
  {
   "cell_type": "code",
   "execution_count": 4,
   "metadata": {},
   "outputs": [],
   "source": [
    "#!pip3 install beautifulsoup4"
   ]
  },
  {
   "cell_type": "code",
   "execution_count": 3,
   "metadata": {},
   "outputs": [],
   "source": [
    "# ❗️ Run this cell!\n",
    "import pandas \n",
    "import plotly.express as px\n",
    "from bs4 import BeautifulSoup"
   ]
  },
  {
   "cell_type": "markdown",
   "metadata": {},
   "source": [
    "**🤖  Crop-3PO:** Now that we've told the computer we are going to use a special set of commands, I'll grab the data by typing `pandas.read_csv(\"./cropdatafromearth.csv\")` and then giving it the variable name `cropdata`."
   ]
  },
  {
   "cell_type": "code",
   "execution_count": 10,
   "metadata": {},
   "outputs": [
    {
     "data": {
      "text/html": [
       "<div>\n",
       "<style scoped>\n",
       "    .dataframe tbody tr th:only-of-type {\n",
       "        vertical-align: middle;\n",
       "    }\n",
       "\n",
       "    .dataframe tbody tr th {\n",
       "        vertical-align: top;\n",
       "    }\n",
       "\n",
       "    .dataframe thead th {\n",
       "        text-align: right;\n",
       "    }\n",
       "</style>\n",
       "<table border=\"1\" class=\"dataframe\">\n",
       "  <thead>\n",
       "    <tr style=\"text-align: right;\">\n",
       "      <th></th>\n",
       "      <th>State</th>\n",
       "      <th>Crop</th>\n",
       "      <th>Crop title</th>\n",
       "      <th>Variety</th>\n",
       "      <th>Year</th>\n",
       "      <th>Unit</th>\n",
       "      <th>Value</th>\n",
       "    </tr>\n",
       "  </thead>\n",
       "  <tbody>\n",
       "    <tr>\n",
       "      <th>0</th>\n",
       "      <td>Illinois</td>\n",
       "      <td>Corn</td>\n",
       "      <td>Genetically engineered (GE) corn varieties</td>\n",
       "      <td>Insect-resistant (Bt) only                    ...</td>\n",
       "      <td>2000</td>\n",
       "      <td>Percent of all corn planted</td>\n",
       "      <td>13</td>\n",
       "    </tr>\n",
       "    <tr>\n",
       "      <th>1</th>\n",
       "      <td>Illinois</td>\n",
       "      <td>Corn</td>\n",
       "      <td>Genetically engineered (GE) corn varieties</td>\n",
       "      <td>Insect-resistant (Bt) only                    ...</td>\n",
       "      <td>2001</td>\n",
       "      <td>Percent of all corn planted</td>\n",
       "      <td>12</td>\n",
       "    </tr>\n",
       "    <tr>\n",
       "      <th>2</th>\n",
       "      <td>Illinois</td>\n",
       "      <td>Corn</td>\n",
       "      <td>Genetically engineered (GE) corn varieties</td>\n",
       "      <td>Insect-resistant (Bt) only                    ...</td>\n",
       "      <td>2002</td>\n",
       "      <td>Percent of all corn planted</td>\n",
       "      <td>18</td>\n",
       "    </tr>\n",
       "    <tr>\n",
       "      <th>3</th>\n",
       "      <td>Illinois</td>\n",
       "      <td>Corn</td>\n",
       "      <td>Genetically engineered (GE) corn varieties</td>\n",
       "      <td>Insect-resistant (Bt) only                    ...</td>\n",
       "      <td>2003</td>\n",
       "      <td>Percent of all corn planted</td>\n",
       "      <td>23</td>\n",
       "    </tr>\n",
       "    <tr>\n",
       "      <th>4</th>\n",
       "      <td>Illinois</td>\n",
       "      <td>Corn</td>\n",
       "      <td>Genetically engineered (GE) corn varieties</td>\n",
       "      <td>Insect-resistant (Bt) only                    ...</td>\n",
       "      <td>2004</td>\n",
       "      <td>Percent of all corn planted</td>\n",
       "      <td>26</td>\n",
       "    </tr>\n",
       "    <tr>\n",
       "      <th>...</th>\n",
       "      <td>...</td>\n",
       "      <td>...</td>\n",
       "      <td>...</td>\n",
       "      <td>...</td>\n",
       "      <td>...</td>\n",
       "      <td>...</td>\n",
       "      <td>...</td>\n",
       "    </tr>\n",
       "    <tr>\n",
       "      <th>2795</th>\n",
       "      <td>U.S.</td>\n",
       "      <td>Soybeans</td>\n",
       "      <td>Genetically engineered (GE) soybean varieties</td>\n",
       "      <td>All GE varieties</td>\n",
       "      <td>2015</td>\n",
       "      <td>Percent of all soybeans planted</td>\n",
       "      <td>94</td>\n",
       "    </tr>\n",
       "    <tr>\n",
       "      <th>2796</th>\n",
       "      <td>U.S.</td>\n",
       "      <td>Soybeans</td>\n",
       "      <td>Genetically engineered (GE) soybean varieties</td>\n",
       "      <td>All GE varieties</td>\n",
       "      <td>2016</td>\n",
       "      <td>Percent of all soybeans planted</td>\n",
       "      <td>94</td>\n",
       "    </tr>\n",
       "    <tr>\n",
       "      <th>2797</th>\n",
       "      <td>U.S.</td>\n",
       "      <td>Soybeans</td>\n",
       "      <td>Genetically engineered (GE) soybean varieties</td>\n",
       "      <td>All GE varieties</td>\n",
       "      <td>2017</td>\n",
       "      <td>Percent of all soybeans planted</td>\n",
       "      <td>94</td>\n",
       "    </tr>\n",
       "    <tr>\n",
       "      <th>2798</th>\n",
       "      <td>U.S.</td>\n",
       "      <td>Soybeans</td>\n",
       "      <td>Genetically engineered (GE) soybean varieties</td>\n",
       "      <td>All GE varieties</td>\n",
       "      <td>2018</td>\n",
       "      <td>Percent of all soybeans planted</td>\n",
       "      <td>94</td>\n",
       "    </tr>\n",
       "    <tr>\n",
       "      <th>2799</th>\n",
       "      <td>U.S.</td>\n",
       "      <td>Soybeans</td>\n",
       "      <td>Genetically engineered (GE) soybean varieties</td>\n",
       "      <td>All GE varieties</td>\n",
       "      <td>2019</td>\n",
       "      <td>Percent of all soybeans planted</td>\n",
       "      <td>94</td>\n",
       "    </tr>\n",
       "  </tbody>\n",
       "</table>\n",
       "<p>2800 rows × 7 columns</p>\n",
       "</div>"
      ],
      "text/plain": [
       "         State      Crop                                     Crop title  \\\n",
       "0     Illinois      Corn     Genetically engineered (GE) corn varieties   \n",
       "1     Illinois      Corn     Genetically engineered (GE) corn varieties   \n",
       "2     Illinois      Corn     Genetically engineered (GE) corn varieties   \n",
       "3     Illinois      Corn     Genetically engineered (GE) corn varieties   \n",
       "4     Illinois      Corn     Genetically engineered (GE) corn varieties   \n",
       "...        ...       ...                                            ...   \n",
       "2795      U.S.  Soybeans  Genetically engineered (GE) soybean varieties   \n",
       "2796      U.S.  Soybeans  Genetically engineered (GE) soybean varieties   \n",
       "2797      U.S.  Soybeans  Genetically engineered (GE) soybean varieties   \n",
       "2798      U.S.  Soybeans  Genetically engineered (GE) soybean varieties   \n",
       "2799      U.S.  Soybeans  Genetically engineered (GE) soybean varieties   \n",
       "\n",
       "                                                Variety  Year  \\\n",
       "0     Insect-resistant (Bt) only                    ...  2000   \n",
       "1     Insect-resistant (Bt) only                    ...  2001   \n",
       "2     Insect-resistant (Bt) only                    ...  2002   \n",
       "3     Insect-resistant (Bt) only                    ...  2003   \n",
       "4     Insect-resistant (Bt) only                    ...  2004   \n",
       "...                                                 ...   ...   \n",
       "2795                                  All GE varieties   2015   \n",
       "2796                                  All GE varieties   2016   \n",
       "2797                                  All GE varieties   2017   \n",
       "2798                                  All GE varieties   2018   \n",
       "2799                                  All GE varieties   2019   \n",
       "\n",
       "                                 Unit Value  \n",
       "0         Percent of all corn planted    13  \n",
       "1         Percent of all corn planted    12  \n",
       "2         Percent of all corn planted    18  \n",
       "3         Percent of all corn planted    23  \n",
       "4         Percent of all corn planted    26  \n",
       "...                               ...   ...  \n",
       "2795  Percent of all soybeans planted    94  \n",
       "2796  Percent of all soybeans planted    94  \n",
       "2797  Percent of all soybeans planted    94  \n",
       "2798  Percent of all soybeans planted    94  \n",
       "2799  Percent of all soybeans planted    94  \n",
       "\n",
       "[2800 rows x 7 columns]"
      ]
     },
     "execution_count": 10,
     "metadata": {},
     "output_type": "execute_result"
    }
   ],
   "source": [
    "# ❗️ Run this cell!\n",
    "cropdata = pandas.read_csv(\"./cropdatafromearth.csv\")\n",
    "cropdata"
   ]
  },
  {
   "cell_type": "code",
   "execution_count": 5,
   "metadata": {},
   "outputs": [],
   "source": [
    "## explore crop traits"
   ]
  },
  {
   "cell_type": "markdown",
   "metadata": {},
   "source": [
    "### 🌽  What are plant traits? \n",
    "https://www.nationalgeographic.com/environment/future-of-food/food-technology-gene-editing/"
   ]
  },
  {
   "cell_type": "code",
   "execution_count": 11,
   "metadata": {
    "scrolled": true
   },
   "outputs": [
    {
     "data": {
      "text/plain": [
       "array(['Insect-resistant (Bt) only                                           ',\n",
       "       'Herbicide-tolerant only                                           ',\n",
       "       'Stacked gene varieties', 'All GE varieties 3/',\n",
       "       'Stacked gene varieties            ', 'Herbicide-tolerant only',\n",
       "       'All GE varieties '], dtype=object)"
      ]
     },
     "execution_count": 11,
     "metadata": {},
     "output_type": "execute_result"
    }
   ],
   "source": [
    "cropdata['Variety'].unique()"
   ]
  },
  {
   "cell_type": "code",
   "execution_count": null,
   "metadata": {},
   "outputs": [],
   "source": [
    "## App with genes list and filtering?"
   ]
  },
  {
   "cell_type": "code",
   "execution_count": null,
   "metadata": {},
   "outputs": [],
   "source": []
  },
  {
   "cell_type": "markdown",
   "metadata": {},
   "source": [
    "### 🌽 How are plant genes and proteins related to traits? \n",
    "\n",
    "https://www.isaaa.org/gmapprovaldatabase/geneslist/default.asp\n"
   ]
  },
  {
   "cell_type": "code",
   "execution_count": 6,
   "metadata": {},
   "outputs": [],
   "source": [
    "# explore genes associated with crop traits"
   ]
  },
  {
   "cell_type": "markdown",
   "metadata": {},
   "source": [
    "### 🌽 Why is this useful in food supply? \n",
    "http://sitn.hms.harvard.edu/flash/2015/how-to-make-a-gmo/"
   ]
  },
  {
   "cell_type": "code",
   "execution_count": 7,
   "metadata": {},
   "outputs": [],
   "source": [
    "# explore canadian adoption of GMOs "
   ]
  },
  {
   "cell_type": "markdown",
   "metadata": {},
   "source": [
    "# approved in canada\n",
    "https://www.isaaa.org/gmapprovaldatabase/approvedeventsin/default.asp?CountryID=CA&Country=Canada\n",
    "https://saifood.ca/gene-editing-plant-breeding-canada/"
   ]
  },
  {
   "cell_type": "code",
   "execution_count": null,
   "metadata": {},
   "outputs": [],
   "source": []
  },
  {
   "cell_type": "code",
   "execution_count": 8,
   "metadata": {},
   "outputs": [],
   "source": [
    "# Written portion"
   ]
  },
  {
   "cell_type": "code",
   "execution_count": null,
   "metadata": {},
   "outputs": [],
   "source": []
  },
  {
   "cell_type": "code",
   "execution_count": null,
   "metadata": {},
   "outputs": [],
   "source": []
  },
  {
   "cell_type": "code",
   "execution_count": null,
   "metadata": {},
   "outputs": [],
   "source": []
  },
  {
   "cell_type": "markdown",
   "metadata": {},
   "source": [
    "[![Callysto.ca License](https://github.com/callysto/curriculum-notebooks/blob/master/callysto-notebook-banner-bottom.jpg?raw=true)](https://github.com/callysto/curriculum-notebooks/blob/master/LICENSE.md)"
   ]
  }
 ],
 "metadata": {
  "kernelspec": {
   "display_name": "Python 3",
   "language": "python",
   "name": "python3"
  },
  "language_info": {
   "codemirror_mode": {
    "name": "ipython",
    "version": 3
   },
   "file_extension": ".py",
   "mimetype": "text/x-python",
   "name": "python",
   "nbconvert_exporter": "python",
   "pygments_lexer": "ipython3",
   "version": "3.7.6"
  }
 },
 "nbformat": 4,
 "nbformat_minor": 4
}
